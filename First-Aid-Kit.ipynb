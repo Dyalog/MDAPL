{
 "cells": [
  {
   "cell_type": "markdown",
   "id": "restricted-pricing",
   "metadata": {},
   "source": [
    "# First Aid Kit\n",
    "\n",
    "It's a pity, but it is impossible to develop applications that work perfectly.\n",
    "Applications always contain errors due to programming mistakes, incorrect use of function calls, or external reasons, such as a missing file or the abnormal termination of an external (non-APL) piece of code.\n",
    "\n",
    "All these problems may interrupt the normal processing of an application, and require immediate corrective action.\n",
    "The aim of this chapter is to give you the basis to deal with these situations, and work through the experience.\n",
    "\n",
    "In [a later chapter](./Event-Handling.ipynb) you will see that it is possible to trap and hide unpredictable errors or events, in order to provide a safe environment for the user.\n",
    "\n",
    "Because APL is an interpreted language, program execution is not aborted, just suspended when an exception occurs.\n",
    "Then the programmer has access to all the application variables, and can diagnose the problem.\n",
    "If they can modify the code or correct some environmental dependency, they may be able to restart the program from the very point it had been interrupted in, until a new exception occurs, and so on.\n",
    "This gives great flexibility when debugging applications.\n",
    "\n",
    "In this chapter you will learn how to:\n",
    " - interpret error messages;\n",
    " - interpret the information provided by various system indicators;\n",
    " - trace the execution of an application step by step; and\n",
    " - set *breakpoints* in strategic places to help debugging.\n",
    " \n",
    "A forgotten comma, an incorrect axis, a missing parenthesis, a scalar where you expected a vector, can all cause an error and it may sometimes be very difficult for a beginner to understand the reason.\n",
    "Try to get help from people who have a better understanding of APL:\n",
    "you will save time *and* learn a lot from them."
   ]
  },
  {
   "cell_type": "code",
   "execution_count": null,
   "id": "secondary-candy",
   "metadata": {},
   "outputs": [],
   "source": []
  }
 ],
 "metadata": {
  "kernelspec": {
   "display_name": "Dyalog APL",
   "language": "apl",
   "name": "dyalog-kernel"
  },
  "language_info": {
   "file_extension": ".apl",
   "mimetype": "text/apl",
   "name": "APL"
  },
  "toc": {
   "base_numbering": 1,
   "nav_menu": {},
   "number_sections": false,
   "sideBar": true,
   "skip_h1_title": true,
   "title_cell": "Table of Contents",
   "title_sidebar": "Contents",
   "toc_cell": false,
   "toc_position": {},
   "toc_section_display": true,
   "toc_window_display": false
  }
 },
 "nbformat": 4,
 "nbformat_minor": 5
}
