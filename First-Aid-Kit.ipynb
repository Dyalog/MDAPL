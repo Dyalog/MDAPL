{
 "cells": [
  {
   "cell_type": "markdown",
   "id": "middle-evaluation",
   "metadata": {},
   "source": [
    "# First Aid Kit\n",
    "\n",
    "It's a pity, but it is impossible to develop applications that work perfectly.\n",
    "Applications always contain errors due to programming mistakes, incorrect use of function calls, or external reasons, such as a missing file or the abnormal termination of an external (non-APL) piece of code.\n",
    "\n",
    "All these problems may interrupt the normal processing of an application, and require immediate corrective action.\n",
    "The aim of this chapter is to give you the basis to deal with these situations, and work through the experience.\n",
    "\n",
    "In [a later chapter](./Event-Handling.ipynb) you will see that it is possible to trap and hide unpredictable errors or events, in order to provide a safe environment for the user.\n",
    "\n",
    "Because APL is an interpreted language, program execution is not aborted, just suspended when an exception occurs.\n",
    "Then the programmer has access to all the application variables, and can diagnose the problem.\n",
    "If they can modify the code or correct some environmental dependency, they may be able to restart the program from the very point it had been interrupted in, until a new exception occurs, and so on.\n",
    "This gives great flexibility when debugging applications.\n",
    "\n",
    "In this chapter you will learn how to:\n",
    " - interpret error messages;\n",
    " - interpret the information provided by various system indicators;\n",
    " - trace the execution of an application step by step; and\n",
    " - set *breakpoints* in strategic places to help debugging.\n",
    " \n",
    "A forgotten comma, an incorrect axis, a missing parenthesis, a scalar where you expected a vector, can all cause an error and it may sometimes be very difficult for a beginner to understand the reason.\n",
    "Try to get help from people who have a better understanding of APL:\n",
    "you will save time *and* learn a lot from them."
   ]
  },
  {
   "cell_type": "markdown",
   "id": "convinced-grocery",
   "metadata": {},
   "source": [
    "## When an Error Occurs\n",
    "\n",
    "### Our First Error\n",
    "\n",
    "Even when you use a function, that is in itself perfectly correct, errors may occur if you call it with arguments that are not consistent with the function's requirements.\n",
    "We will use this type of mistake to illustrate what happens when an error occurs.\n",
    "\n",
    "In the previous chapter we wrote a function to interlace two matrices of the same shape:"
   ]
  },
  {
   "cell_type": "code",
   "execution_count": 6,
   "id": "reported-enough",
   "metadata": {},
   "outputs": [],
   "source": [
    "∇ r ← x Interlace y; size; even\n",
    "    size ← 1 2×⍴x\n",
    "    r ← size⍴0\n",
    "    even ← 2×⍳(⍴x)[2]\n",
    "    r[;even] ← y\n",
    "    r[;even-1] ← x\n",
    "∇"
   ]
  },
  {
   "cell_type": "code",
   "execution_count": 7,
   "id": "passing-ocean",
   "metadata": {},
   "outputs": [
    {
     "data": {
      "text/html": [
       "<span style=\"white-space:pre; font-family: monospace\">┌───┬───┐\n",
       "│1 1│0 0│\n",
       "│1 1│0 0│\n",
       "└───┴───┘\n",
       "</span>"
      ]
     },
     "execution_count": 7,
     "metadata": {},
     "output_type": "execute_result"
    }
   ],
   "source": [
    "(2 2⍴1) (2 2⍴0)"
   ]
  },
  {
   "cell_type": "code",
   "execution_count": 8,
   "id": "fifteen-leather",
   "metadata": {},
   "outputs": [
    {
     "data": {
      "text/html": [
       "<span style=\"white-space:pre; font-family: monospace\">1 0 1 0\n",
       "1 0 1 0\n",
       "</span>"
      ]
     },
     "execution_count": 8,
     "metadata": {},
     "output_type": "execute_result"
    }
   ],
   "source": [
    "(2 2⍴1) Interlace (2 2⍴0)"
   ]
  },
  {
   "cell_type": "markdown",
   "id": "capital-pursuit",
   "metadata": {},
   "source": [
    "This function works perfectly if you stick to its rules, but what happens if you call it with matrices that *don't* have the same shape?"
   ]
  },
  {
   "cell_type": "markdown",
   "id": "dependent-congo",
   "metadata": {},
   "source": [
    "#### Your Environment and Indicators\n",
    "\n",
    "Let us try to interlace our `forecast` matrix, that has 4 rows and 6 columns,"
   ]
  },
  {
   "cell_type": "code",
   "execution_count": 10,
   "id": "african-awareness",
   "metadata": {},
   "outputs": [
    {
     "data": {
      "text/html": [
       "<span style=\"white-space:pre; font-family: monospace\"> 90 160 420 500  20  30\n",
       "110 450 170 370 290 360\n",
       "340 190 320 120 510 370\n",
       "150 460 240 520 490 280\n",
       "</span>"
      ]
     },
     "execution_count": 10,
     "metadata": {},
     "output_type": "execute_result"
    }
   ],
   "source": [
    "⎕RL ← 73\n",
    "⎕← forecast ← 10×?4 6⍴55"
   ]
  },
  {
   "cell_type": "markdown",
   "id": "prostate-detroit",
   "metadata": {},
   "source": [
    "with a 3 by 5 matrix, and see what happens:"
   ]
  },
  {
   "cell_type": "code",
   "execution_count": 5,
   "id": "african-flush",
   "metadata": {},
   "outputs": [
    {
     "name": "stderr",
     "output_type": "stream",
     "text": [
      "LENGTH ERROR\n",
      "Interlace[4] r[;even]←y\n",
      "              ∧\n"
     ]
    }
   ],
   "source": [
    "forecast Interlace 3 5⍴⍳15"
   ]
  },
  {
   "cell_type": "markdown",
   "id": "vocal-recruitment",
   "metadata": {},
   "source": [
    "The first thing we see is the error message that is issued.\n",
    "Then, if you are using RIDE or the Windows interpreter, you will see that, in the lower right corner of the window, some information is highlighted.\n",
    "<!--figure-->The first figure below<!--Win_Red_State_Indicator--> shows this highlighting in red, for users of the Windows interpreter, and <!--figure-->the next figure below<!--RIDE_Purple_State_Indicator--> shows this highlighting in purple for users of the RIDE interpreter.\n",
    "\n",
    "![Red highlighting of `⎕SI` upon reaching an error in the Windows interpreter.](res/Win_Red_State_Indicator.png)\n",
    "\n",
    "<br>\n",
    "\n",
    "![Purple highlighting of `⎕SI` upon reaching an error in the RIDE interpreter.](res/RIDE_Purple_State_Indicator.png)\n",
    "\n",
    "Furthermore, when using the Windows or RIDE interpreters, an additional trace windows appears, generally at the bottom, as shown respectively by <!--figure-->the next figures<!--Win_Trace_Window,RIDE_Trace_Window-->.\n",
    "\n",
    "![Trace window in the Windows interpreter.](res/Win_Trace_Window.png)\n",
    "\n",
    "---\n",
    "\n",
    "![Trace window in the RIDE interpreter.](res/RIDE_Trace_Window.png)\n",
    "\n",
    "APL will preserve the entire execution context (local variables and program status indicators), so that you can resume function execution once the error has been diagnosed and repaired.\n",
    "\n",
    "Let us now examine the meaning of these things."
   ]
  },
  {
   "cell_type": "markdown",
   "id": "junior-centre",
   "metadata": {},
   "source": [
    "#### The Diagnostic Message\n",
    "\n",
    "The *diagnostic message* is displayed on three rows of the screen which show:\n",
    " - the type of error (explained later in [this section](#Execution-Errors));\n",
    " - the function name [and line number] - the statement that can't be executed; and\n",
    " - a caret (the character `∧`) which is placed where the statement was interrupted.\n",
    " \n",
    "A *system function* named `⎕DM` returns the latest *diagnostic message*.\n",
    "It is a three-item nested vector, with a sub-vector for each of the three lines, as shown below:"
   ]
  },
  {
   "cell_type": "code",
   "execution_count": 10,
   "id": "golden-toilet",
   "metadata": {},
   "outputs": [
    {
     "data": {
      "text/html": [
       "<span style=\"white-space:pre; font-family: monospace\">C:\\Program Files\\Dyalog\\Dyalog APL-64 18.0 Unicode\\ws\\display.dws saved Tue Dec  1 20:08:12 2020\n",
       "</span>"
      ]
     },
     "execution_count": 10,
     "metadata": {},
     "output_type": "execute_result"
    },
    {
     "data": {
      "text/html": [
       "<span style=\"white-space:pre; font-family: monospace\">┌→───────────────────────────────────────────────────────────┐\n",
       "│ ┌→───────────┐ ┌→──────────────────────┐ ┌→──────────────┐ │\n",
       "│ │LENGTH ERROR│ │Interlace[4] r[;even]←y│ │              ∧│ │\n",
       "│ └────────────┘ └───────────────────────┘ └───────────────┘ │\n",
       "└∊───────────────────────────────────────────────────────────┘\n",
       "</span>"
      ]
     },
     "execution_count": 10,
     "metadata": {},
     "output_type": "execute_result"
    }
   ],
   "source": [
    ")copy display DISPLAY\n",
    "DISPLAY ⎕DM"
   ]
  },
  {
   "cell_type": "markdown",
   "id": "adjustable-isolation",
   "metadata": {},
   "source": [
    "`⎕DM` retains this value until it is replaced by the occurrence of a new error, or until we explicitly clear it."
   ]
  },
  {
   "cell_type": "markdown",
   "id": "perceived-applicant",
   "metadata": {},
   "source": [
    "#### State Indicator and Line Counter\n",
    "\n",
    "Whenever function execution is interrupted for any reason, Dyalog APL keeps track of the exact point where the interrupt occurred in the *state indicator* (SI for short).\n",
    "This value of the state indicator may be obtained using a system command `)si` or a system function `⎕SI`:\n",
    "\n",
    " - system command:\n",
    "\n",
    "```APL\n",
    "      )si\n",
    "#.Interlace[4]*\n",
    "```\n",
    "\n",
    " - system function:\n",
    "\n",
    "```APL\n",
    "      ⎕SI\n",
    "┌─────────┐\n",
    "│Interlace│\n",
    "└─────────┘\n",
    "```\n",
    "\n",
    "The *system function* `⎕SI` returns a nested vector containing only the names of the interrupted functions;\n",
    "in this example only one name appears.\n",
    "\n",
    "The *system command* `)si` reports, for each function in the execution stack:\n",
    " - a path (here `#.`) which will be explained in [a later chapter](./Namespaces.ipynb). Ignore it for now;\n",
    " - the function name (`Interlace`);\n",
    " - the number of the statement on which function execution has stopped (`[4]` in this case); and\n",
    " - an asterisk which means that this function has been interrupted.\n",
    " \n",
    "What you see highlighted in the bottom right-hand corner of your session (`⎕SI:1`) is the number of functions referenced in the *state indicator*.\n",
    "Normally, this number should be zero and displayed in black; as soon as an error or an interrupt occurs, it is displayed in a different colour as a warning (in red or purple, depending on your software).\n",
    "\n",
    "APL also keeps, in a *line counter*, the list of function lines waiting for execution.\n",
    "In this case there is only one.\n",
    "It can be obtained from the *system function* `⎕LC`:\n",
    "\n",
    "```APL\n",
    "      ⎕LC\n",
    "4\n",
    "```\n",
    "\n",
    "The number above shows that `Interlace` was interrupted on line 4.\n",
    "\n",
    "<!-- begin note -->\n",
    "***Note***:\n",
    "\n",
    " > Due to limitations of the Jupyter interface, many of the things we will be discussing here will work differently when applied directly to a Dyalog APL notebook.\n",
    "<!-- end -->\n",
    "\n",
    "For example, even though we got an error with the incorrect usage of `Interlace` and we were able to check the diagnostic message with `⎕DM`, the *state indicator* and the *line counter* are empty:"
   ]
  },
  {
   "cell_type": "code",
   "execution_count": 11,
   "id": "sealed-blank",
   "metadata": {},
   "outputs": [
    {
     "name": "stderr",
     "output_type": "stream",
     "text": [
      "LENGTH ERROR\n",
      "Interlace[4] r[;even]←y\n",
      "              ∧\n"
     ]
    }
   ],
   "source": [
    "forecast Interlace 3 5⍴⍳15"
   ]
  },
  {
   "cell_type": "code",
   "execution_count": 12,
   "id": "eastern-prophet",
   "metadata": {},
   "outputs": [
    {
     "data": {
      "text/html": [
       "<span style=\"white-space:pre; font-family: monospace\">\n",
       "\n",
       "\n",
       "</span>"
      ]
     },
     "execution_count": 12,
     "metadata": {},
     "output_type": "execute_result"
    }
   ],
   "source": [
    "⎕SI"
   ]
  },
  {
   "cell_type": "code",
   "execution_count": 13,
   "id": "blind-carolina",
   "metadata": {},
   "outputs": [
    {
     "data": {
      "text/html": [
       "<span style=\"white-space:pre; font-family: monospace\">\n",
       "</span>"
      ]
     },
     "execution_count": 13,
     "metadata": {},
     "output_type": "execute_result"
    }
   ],
   "source": [
    "⎕LC"
   ]
  },
  {
   "cell_type": "markdown",
   "id": "portable-booking",
   "metadata": {},
   "source": [
    "#### The Trace Window\n",
    "\n",
    "If you are running Dyalog APL using the default *tracer* behaviour, when you reach an error inside a function a window should pop up in the bottom of the interpreter, with the function text displayed in another colour and with the statement in error highlighted.\n",
    "\n",
    "If you are using the Windows interpreter and the trace window did not appear spontaneously, just press <kbd>Ctr</kbd>+<kbd>Enter</kbd>. Then, go to \"Options\" &#8680; \"Configuration\" &#8680; \"Trace/Edit\" and tick the checkbox next to \"*Show trace stack on error*\".\n",
    "\n",
    "We shall see later how this trace window can be used.\n",
    "**Do not close it** for the moment."
   ]
  },
  {
   "cell_type": "markdown",
   "id": "hungarian-syndication",
   "metadata": {},
   "source": [
    "#### You Can See the Local Variables\n",
    "\n",
    "Your cursor may not be in this (trace) window."
   ]
  }
 ],
 "metadata": {
  "kernelspec": {
   "display_name": "Dyalog APL",
   "language": "apl",
   "name": "dyalog-kernel"
  },
  "language_info": {
   "file_extension": ".apl",
   "mimetype": "text/apl",
   "name": "APL"
  },
  "toc": {
   "base_numbering": 1,
   "nav_menu": {},
   "number_sections": false,
   "sideBar": true,
   "skip_h1_title": true,
   "title_cell": "Table of Contents",
   "title_sidebar": "Contents",
   "toc_cell": false,
   "toc_position": {},
   "toc_section_display": true,
   "toc_window_display": false
  }
 },
 "nbformat": 4,
 "nbformat_minor": 5
}
