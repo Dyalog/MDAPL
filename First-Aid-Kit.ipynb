{
 "cells": [
  {
   "cell_type": "markdown",
   "id": "middle-evaluation",
   "metadata": {},
   "source": [
    "# First Aid Kit\n",
    "\n",
    "It's a pity, but it is impossible to develop applications that work perfectly.\n",
    "Applications always contain errors due to programming mistakes, incorrect use of function calls, or external reasons, such as a missing file or the abnormal termination of an external (non-APL) piece of code.\n",
    "\n",
    "All these problems may interrupt the normal processing of an application, and require immediate corrective action.\n",
    "The aim of this chapter is to give you the basis to deal with these situations, and work through the experience.\n",
    "\n",
    "In [a later chapter](./Event-Handling.ipynb) you will see that it is possible to trap and hide unpredictable errors or events, in order to provide a safe environment for the user.\n",
    "\n",
    "Because APL is an interpreted language, program execution is not aborted, just suspended when an exception occurs.\n",
    "Then the programmer has access to all the application variables, and can diagnose the problem.\n",
    "If they can modify the code or correct some environmental dependency, they may be able to restart the program from the very point it had been interrupted in, until a new exception occurs, and so on.\n",
    "This gives great flexibility when debugging applications.\n",
    "\n",
    "In this chapter you will learn how to:\n",
    " - interpret error messages;\n",
    " - interpret the information provided by various system indicators;\n",
    " - trace the execution of an application step by step; and\n",
    " - set *breakpoints* in strategic places to help debugging.\n",
    " \n",
    "A forgotten comma, an incorrect axis, a missing parenthesis, a scalar where you expected a vector, can all cause an error and it may sometimes be very difficult for a beginner to understand the reason.\n",
    "Try to get help from people who have a better understanding of APL:\n",
    "you will save time *and* learn a lot from them."
   ]
  },
  {
   "cell_type": "markdown",
   "id": "convinced-grocery",
   "metadata": {},
   "source": [
    "## When an Error Occurs\n",
    "\n",
    "### Our First Error\n",
    "\n",
    "Even when you use a function, that is in itself perfectly correct, errors may occur if you call it with arguments that are not consistent with the function's requirements.\n",
    "We will use this type of mistake to illustrate what happens when an error occurs.\n",
    "\n",
    "In the previous chapter we wrote a function to interlace two matrices of the same shape:"
   ]
  },
  {
   "cell_type": "code",
   "execution_count": 1,
   "id": "reported-enough",
   "metadata": {},
   "outputs": [],
   "source": [
    "∇ r ← x Interlace y; size; even\n",
    "    size ← 1 2×⍴x\n",
    "    r ← size⍴0\n",
    "    even ← 2×⍳(⍴x)[2]\n",
    "    r[;even] ← y\n",
    "    r[;even-1] ← x\n",
    "∇"
   ]
  },
  {
   "cell_type": "code",
   "execution_count": 2,
   "id": "passing-ocean",
   "metadata": {},
   "outputs": [
    {
     "data": {
      "text/html": [
       "<span style=\"white-space:pre; font-family: monospace\">┌───┬───┐\n",
       "│1 1│0 0│\n",
       "│1 1│0 0│\n",
       "└───┴───┘\n",
       "</span>"
      ]
     },
     "execution_count": 2,
     "metadata": {},
     "output_type": "execute_result"
    }
   ],
   "source": [
    "(2 2⍴1) (2 2⍴0)"
   ]
  },
  {
   "cell_type": "code",
   "execution_count": 3,
   "id": "fifteen-leather",
   "metadata": {},
   "outputs": [
    {
     "data": {
      "text/html": [
       "<span style=\"white-space:pre; font-family: monospace\">1 0 1 0\n",
       "1 0 1 0\n",
       "</span>"
      ]
     },
     "execution_count": 3,
     "metadata": {},
     "output_type": "execute_result"
    }
   ],
   "source": [
    "(2 2⍴1) Interlace (2 2⍴0)"
   ]
  },
  {
   "cell_type": "markdown",
   "id": "capital-pursuit",
   "metadata": {},
   "source": [
    "This function works perfectly if you stick to its rules, but what happens if you call it with matrices that *don't* have the same shape?"
   ]
  },
  {
   "cell_type": "markdown",
   "id": "dependent-congo",
   "metadata": {},
   "source": [
    "#### Your Environment and Indicators\n",
    "\n",
    "Let us try to interlace our `forecast` matrix, that has 4 rows and 6 columns,"
   ]
  },
  {
   "cell_type": "code",
   "execution_count": 4,
   "id": "african-awareness",
   "metadata": {},
   "outputs": [
    {
     "data": {
      "text/html": [
       "<span style=\"white-space:pre; font-family: monospace\"> 90 160 420 500  20  30\n",
       "110 450 170 370 290 360\n",
       "340 190 320 120 510 370\n",
       "150 460 240 520 490 280\n",
       "</span>"
      ]
     },
     "execution_count": 4,
     "metadata": {},
     "output_type": "execute_result"
    }
   ],
   "source": [
    "⎕RL ← 73\n",
    "⎕←forecast ← 10×?4 6⍴55"
   ]
  },
  {
   "cell_type": "markdown",
   "id": "prostate-detroit",
   "metadata": {},
   "source": [
    "with a 3 by 5 matrix, and see what happens:"
   ]
  },
  {
   "cell_type": "code",
   "execution_count": 5,
   "id": "african-flush",
   "metadata": {},
   "outputs": [
    {
     "name": "stderr",
     "output_type": "stream",
     "text": [
      "LENGTH ERROR\n",
      "Interlace[4] r[;even]←y\n",
      "              ∧\n"
     ]
    }
   ],
   "source": [
    "forecast Interlace 3 5⍴⍳15"
   ]
  },
  {
   "cell_type": "markdown",
   "id": "vocal-recruitment",
   "metadata": {},
   "source": [
    "The first thing we see is the error message that is issued.\n",
    "Then, if you are using RIDE or the Windows interpreter, you will see that, in the lower right corner of the window, some information is highlighted.\n",
    "<!--figure-->The first figure below<!--Win_Red_State_Indicator--> shows this highlighting in red, for users of the Windows interpreter, and <!--figure-->the next figure below<!--RIDE_Purple_State_Indicator--> shows this highlighting in purple for users of the RIDE interpreter.\n",
    "\n",
    "![Red highlighting of `⎕SI` upon reaching an error in the Windows interpreter.](res/Win_Red_State_Indicator.png)\n",
    "\n",
    "<br>\n",
    "\n",
    "![Purple highlighting of `⎕SI` upon reaching an error in the RIDE interpreter.](res/RIDE_Purple_State_Indicator.png)\n",
    "\n",
    "Furthermore, when using the Windows or RIDE interpreters, an additional trace windows appears, generally at the bottom, as shown respectively by <!--figure-->the next figures<!--Win_Trace_Window,RIDE_Trace_Window-->.\n",
    "\n",
    "![Trace window in the Windows interpreter.](res/Win_Trace_Window.png)\n",
    "\n",
    "---\n",
    "\n",
    "![Trace window in the RIDE interpreter.](res/RIDE_Trace_Window.png)\n",
    "\n",
    "APL will preserve the entire execution context (local variables and program status indicators), so that you can resume function execution once the error has been diagnosed and repaired.\n",
    "\n",
    "Let us now examine the meaning of these things."
   ]
  },
  {
   "cell_type": "markdown",
   "id": "junior-centre",
   "metadata": {},
   "source": [
    "#### The Diagnostic Message\n",
    "\n",
    "The *diagnostic message* is displayed on three rows of the screen which show:\n",
    " - the type of error (explained later in [this section](#Execution-Errors));\n",
    " - the function name [and line number] - the statement that can't be executed; and\n",
    " - a caret (the character `∧`) which is placed where the statement was interrupted.\n",
    " \n",
    "A *system function* named `⎕DM` returns the latest *diagnostic message*.\n",
    "It is a three-item nested vector, with a sub-vector for each of the three lines, as shown below:"
   ]
  },
  {
   "cell_type": "code",
   "execution_count": 6,
   "id": "golden-toilet",
   "metadata": {},
   "outputs": [
    {
     "data": {
      "text/html": [
       "<span style=\"white-space:pre; font-family: monospace\">C:\\Program Files\\Dyalog\\Dyalog APL-64 18.0 Unicode\\ws\\display.dws saved Tue Dec  1 20:08:12 2020\n",
       "</span>"
      ]
     },
     "execution_count": 6,
     "metadata": {},
     "output_type": "execute_result"
    },
    {
     "data": {
      "text/html": [
       "<span style=\"white-space:pre; font-family: monospace\">┌→───────────────────────────────────────────────────────────┐\n",
       "│ ┌→───────────┐ ┌→──────────────────────┐ ┌→──────────────┐ │\n",
       "│ │LENGTH ERROR│ │Interlace[4] r[;even]←y│ │              ∧│ │\n",
       "│ └────────────┘ └───────────────────────┘ └───────────────┘ │\n",
       "└∊───────────────────────────────────────────────────────────┘\n",
       "</span>"
      ]
     },
     "execution_count": 6,
     "metadata": {},
     "output_type": "execute_result"
    }
   ],
   "source": [
    ")copy display DISPLAY\n",
    "DISPLAY ⎕DM"
   ]
  },
  {
   "cell_type": "markdown",
   "id": "adjustable-isolation",
   "metadata": {},
   "source": [
    "`⎕DM` retains this value until it is replaced by the occurrence of a new error, or until we explicitly clear it."
   ]
  },
  {
   "cell_type": "markdown",
   "id": "perceived-applicant",
   "metadata": {},
   "source": [
    "#### State Indicator and Line Counter\n",
    "\n",
    "Whenever function execution is interrupted for any reason, Dyalog APL keeps track of the exact point where the interrupt occurred in the *state indicator* (SI for short).\n",
    "This value of the state indicator may be obtained using a system command `)si` or a system function `⎕SI`:\n",
    "\n",
    " - system command:\n",
    "\n",
    "```APL\n",
    "      )si\n",
    "#.Interlace[4]*\n",
    "```\n",
    "\n",
    " - system function:\n",
    "\n",
    "```APL\n",
    "      ⎕SI\n",
    "┌─────────┐\n",
    "│Interlace│\n",
    "└─────────┘\n",
    "```\n",
    "\n",
    "The *system function* `⎕SI` returns a nested vector containing only the names of the interrupted functions;\n",
    "in this example only one name appears.\n",
    "\n",
    "The *system command* `)si` reports, for each function in the execution stack:\n",
    " - a path (here `#.`) which will be explained in [a later chapter](./Namespaces.ipynb). Ignore it for now;\n",
    " - the function name (`Interlace`);\n",
    " - the number of the statement on which function execution has stopped (`[4]` in this case); and\n",
    " - an asterisk which means that this function has been interrupted.\n",
    " \n",
    "What you see highlighted in the bottom right-hand corner of your session (`⎕SI:1`) is the number of functions referenced in the *state indicator*.\n",
    "Normally, this number should be zero and displayed in black; as soon as an error or an interrupt occurs, it is displayed in a different colour as a warning (in red or purple, depending on your software).\n",
    "\n",
    "APL also keeps, in a *line counter*, the list of function lines waiting for execution.\n",
    "In this case there is only one.\n",
    "It can be obtained from the *system function* `⎕LC`:\n",
    "\n",
    "```APL\n",
    "      ⎕LC\n",
    "4\n",
    "```\n",
    "\n",
    "The number above shows that `Interlace` was interrupted on line 4.\n",
    "\n",
    "<!-- begin note -->\n",
    "***Note***:\n",
    "\n",
    " > Due to limitations of the Jupyter interface, many of the things we will be discussing here will work differently when applied directly to a Dyalog APL notebook.\n",
    "<!-- end -->\n",
    "\n",
    "For example, even though we got an error with the incorrect usage of `Interlace` and we were able to check the diagnostic message with `⎕DM`, the *state indicator* and the *line counter* are empty:"
   ]
  },
  {
   "cell_type": "code",
   "execution_count": 7,
   "id": "sealed-blank",
   "metadata": {},
   "outputs": [
    {
     "name": "stderr",
     "output_type": "stream",
     "text": [
      "LENGTH ERROR\n",
      "Interlace[4] r[;even]←y\n",
      "              ∧\n"
     ]
    }
   ],
   "source": [
    "forecast Interlace 3 5⍴⍳15"
   ]
  },
  {
   "cell_type": "code",
   "execution_count": 8,
   "id": "eastern-prophet",
   "metadata": {},
   "outputs": [
    {
     "data": {
      "text/html": [
       "<span style=\"white-space:pre; font-family: monospace\">\n",
       "\n",
       "\n",
       "</span>"
      ]
     },
     "execution_count": 8,
     "metadata": {},
     "output_type": "execute_result"
    }
   ],
   "source": [
    "⎕SI"
   ]
  },
  {
   "cell_type": "code",
   "execution_count": 9,
   "id": "blind-carolina",
   "metadata": {},
   "outputs": [
    {
     "data": {
      "text/html": [
       "<span style=\"white-space:pre; font-family: monospace\">\n",
       "</span>"
      ]
     },
     "execution_count": 9,
     "metadata": {},
     "output_type": "execute_result"
    }
   ],
   "source": [
    "⎕LC"
   ]
  },
  {
   "cell_type": "markdown",
   "id": "portable-booking",
   "metadata": {},
   "source": [
    "#### The Trace Window\n",
    "\n",
    "If you are running Dyalog APL using the default *tracer* behaviour, when you reach an error inside a function a window should pop up in the bottom of the interpreter, with the function text displayed in another colour and with the statement in error highlighted.\n",
    "\n",
    "If you are using the Windows interpreter and the trace window did not appear spontaneously, just press <kbd>Ctr</kbd>+<kbd>Enter</kbd>. Then, go to \"Options\" &#8680; \"Configuration\" &#8680; \"Trace/Edit\" and tick the checkbox next to \"*Show trace stack on error*\".\n",
    "\n",
    "We shall see later how this trace window can be used.\n",
    "**Do not close it** for the moment."
   ]
  },
  {
   "cell_type": "markdown",
   "id": "hungarian-syndication",
   "metadata": {},
   "source": [
    "#### You Can See the Local Variables\n",
    "\n",
    "Your cursor may not be in this (trace) window: it may remain in the session window, so that you can conveniently enter expressions to diagnose what has happened.\n",
    "If the trace window *does* have the focus, you can just switch the focus to the session window and work there, without closing the trace window.\n",
    "\n",
    "Because the function has been interrupted, all its local variables are visible:\n",
    " - you can look at their values; and\n",
    " - you can even modify them (sometimes this may help).\n",
    " \n",
    "```APL\n",
    "      ⍴y\n",
    "3 5\n",
    "      size\n",
    "4 12\n",
    "      ⍴r[;even]\n",
    "4 6\n",
    "```\n",
    "\n",
    "You can see that the size of the future result is correct, but we cannot assign the 3 rows of `y` into the 4 rows of `r`."
   ]
  },
  {
   "cell_type": "markdown",
   "id": "published-queens",
   "metadata": {},
   "source": [
    "#### What Can We Do?\n",
    "\n",
    "Obviously, in this case there is nothing we can do: the function is correct, we just misused it!\n",
    "We could, perhaps, forget about it and go on to do something else.\n",
    "However, if we do so, APL will retain the entire execution stack of functions and local variables in its interrupted state.\n",
    "If we are not going to continue debugging, we should really clean up by getting the system out of this state.\n",
    "\n",
    "There are three ways to achieve this.\n",
    "If you want to try all three of them out, you will need to reproduce the same error after each exit operation:\n",
    " 1. close the trace window. You can use the standard windows methods to close it, or you can click on it (to give it the focus) and then press <kbd>Esc</kbd> to close it;\n",
    " 2. type a branch arrow `→` in the session window (as seen in [the Specialist Section on the niladic arrow](./User-Defined-Functions.ipynb#Niladic-Arrow)); or\n",
    " 3. execute the `)reset` command in the session window.\n",
    "\n",
    "Whichever option you chose, you can verify that:\n",
    " - both `)si` and `⎕SI` now give an empty result and\n",
    " - the highlighted indication `⎕SI:1` is replaced by a neutral `⎕SI:0` in the session status bar.\n",
    "\n",
    "However, there is a little difference: with the first two methods, `⎕DM` retains its value (and keeps track of the latest error), while `)reset` also clears `⎕DM`.\n",
    "In fact, we can generate an error right here in the session:"
   ]
  },
  {
   "cell_type": "code",
   "execution_count": 10,
   "id": "stuffed-rider",
   "metadata": {},
   "outputs": [
    {
     "name": "stderr",
     "output_type": "stream",
     "text": [
      "LENGTH ERROR: Mismatched left and right argument shapes\n",
      "      1 2+3 4 5\n",
      "         ∧\n"
     ]
    }
   ],
   "source": [
    "1 2 + 3 4 5"
   ]
  },
  {
   "cell_type": "markdown",
   "id": "floral-charles",
   "metadata": {},
   "source": [
    "Notice `⎕DM` contains the information about this error:"
   ]
  },
  {
   "cell_type": "code",
   "execution_count": 11,
   "id": "tough-twins",
   "metadata": {},
   "outputs": [
    {
     "data": {
      "text/html": [
       "<span style=\"white-space:pre; font-family: monospace\">┌────────────┬───────────────┬──────────┐\n",
       "│LENGTH ERROR│      1 2+3 4 5│         ∧│\n",
       "└────────────┴───────────────┴──────────┘\n",
       "</span>"
      ]
     },
     "execution_count": 11,
     "metadata": {},
     "output_type": "execute_result"
    }
   ],
   "source": [
    "⎕DM"
   ]
  },
  {
   "cell_type": "markdown",
   "id": "false-rainbow",
   "metadata": {},
   "source": [
    "If we use the `)reset` command, then `⎕DM` becomes empty:"
   ]
  },
  {
   "cell_type": "code",
   "execution_count": 12,
   "id": "confused-partition",
   "metadata": {},
   "outputs": [],
   "source": [
    ")reset"
   ]
  },
  {
   "cell_type": "code",
   "execution_count": 13,
   "id": "demonstrated-loading",
   "metadata": {},
   "outputs": [
    {
     "data": {
      "text/html": [
       "<span style=\"white-space:pre; font-family: monospace\">\n",
       "</span>"
      ]
     },
     "execution_count": 13,
     "metadata": {},
     "output_type": "execute_result"
    }
   ],
   "source": [
    "⎕DM"
   ]
  },
  {
   "cell_type": "markdown",
   "id": "cooked-wound",
   "metadata": {},
   "source": [
    "### Cascade of Errors\n",
    "\n",
    "We shall now see what happens when an error occurs in a sub-function."
   ]
  },
  {
   "cell_type": "markdown",
   "id": "better-pioneer",
   "metadata": {},
   "source": [
    "#### Preparation\n",
    "\n",
    "A palindrome is a string of characters which remains the same when it is reversed, after any non-alphabetic characters (including spaces) have been removed.\n",
    "For example, \"*Cigar: toss it in a can. It is so tragic.*\" and \"*Was it a car or a cat I saw?*\" are palindromes.\n",
    "\n",
    "We shall try to write a function which detects whether or not a given string of characters is a palindrome.\n",
    "We are going to use two auxiliary functions:\n",
    "\n",
    " 1. `Upper` removes all non-alphabetic characters and transforms the remaining letters into uppercase characters."
   ]
  },
  {
   "cell_type": "code",
   "execution_count": 14,
   "id": "western-image",
   "metadata": {},
   "outputs": [],
   "source": [
    "]dinput\n",
    "Upper ← {\n",
    "    low ← 'abcdefghijklmnopqrstuvwxyz'\n",
    "    up  ← 'ABCDEFGHIJKLMNOPQRSTUVWXYZ'\n",
    "    all ← low,up\n",
    "    text ← (⍵∊all)/⍵\n",
    "    (up,up)[all⍳text]\n",
    "}"
   ]
  },
  {
   "cell_type": "code",
   "execution_count": 15,
   "id": "valuable-three",
   "metadata": {},
   "outputs": [
    {
     "data": {
      "text/html": [
       "<span style=\"white-space:pre; font-family: monospace\">VISITNEWYORK\n",
       "</span>"
      ]
     },
     "execution_count": 15,
     "metadata": {},
     "output_type": "execute_result"
    }
   ],
   "source": [
    "Upper 'Visit New York'"
   ]
  },
  {
   "cell_type": "markdown",
   "id": "boxed-roots",
   "metadata": {},
   "source": [
    " 2. `Reverse` reverses the items of a vector.\n",
    "\n",
    "This is one possible solution to an exercise from the previous chapter, written by someone who was unaware that APL has a *reverse* primitive (introduced in [a later chapter](./Working-on-Data-Shape.ipynb)):"
   ]
  },
  {
   "cell_type": "code",
   "execution_count": 16,
   "id": "corrected-catalyst",
   "metadata": {},
   "outputs": [],
   "source": [
    "]dinput\n",
    "Reverse ← {\n",
    "    index ← (1+≢⍵)-⍳≢⍵\n",
    "    ⍵[index]\n",
    "}"
   ]
  },
  {
   "cell_type": "code",
   "execution_count": 17,
   "id": "intended-assembly",
   "metadata": {},
   "outputs": [
    {
     "data": {
      "text/html": [
       "<span style=\"white-space:pre; font-family: monospace\">noitartsnomeD\n",
       "</span>"
      ]
     },
     "execution_count": 17,
     "metadata": {},
     "output_type": "execute_result"
    }
   ],
   "source": [
    "Reverse 'Demonstration'"
   ]
  },
  {
   "cell_type": "markdown",
   "id": "comparable-springfield",
   "metadata": {},
   "source": [
    "Finally, `Palindrome` compares the uppercase version of the original vector against its reversed version:"
   ]
  },
  {
   "cell_type": "code",
   "execution_count": 18,
   "id": "analyzed-calibration",
   "metadata": {},
   "outputs": [],
   "source": [
    "]dinput\n",
    "Palindrome ← {\n",
    "    vector ← Upper ⍵\n",
    "    torvec ← Reverse vector\n",
    "    torvec≡vector\n",
    "}"
   ]
  },
  {
   "cell_type": "markdown",
   "id": "accepting-eligibility",
   "metadata": {},
   "source": [
    "Let's try it out:"
   ]
  },
  {
   "cell_type": "code",
   "execution_count": 19,
   "id": "hearing-lindsay",
   "metadata": {},
   "outputs": [
    {
     "data": {
      "text/html": [
       "<span style=\"white-space:pre; font-family: monospace\">1\n",
       "</span>"
      ]
     },
     "execution_count": 19,
     "metadata": {},
     "output_type": "execute_result"
    }
   ],
   "source": [
    "Palindrome 'Was it a car or a cat I saw?'"
   ]
  },
  {
   "cell_type": "code",
   "execution_count": 20,
   "id": "wound-forge",
   "metadata": {},
   "outputs": [
    {
     "data": {
      "text/html": [
       "<span style=\"white-space:pre; font-family: monospace\">0\n",
       "</span>"
      ]
     },
     "execution_count": 20,
     "metadata": {},
     "output_type": "execute_result"
    }
   ],
   "source": [
    "Palindrome 'Am I a palindrome?'"
   ]
  },
  {
   "cell_type": "markdown",
   "id": "simplified-ceiling",
   "metadata": {},
   "source": [
    "Now, in `Palindrome` we decide to replace `Reverse` by `ReverBug`, a deliberately faulty and obtuse version.\n",
    "Not only does it use an unnecessary loop, but it includes some (intentional) errors:"
   ]
  },
  {
   "cell_type": "code",
   "execution_count": 21,
   "id": "flying-membership",
   "metadata": {},
   "outputs": [],
   "source": [
    "∇ rev ← ReverBug vec; from; to    ⍝ Intentionally faulty.\n",
    "    rev ← (≢vec)⍴'?'\n",
    "    from ← 0\n",
    "    :Repeat\n",
    "        from ← frm+1\n",
    "        to ← (≢vec)-from\n",
    "        rev[to] ← vec[from]\n",
    "    :Until from=≢vec\n",
    "∇"
   ]
  },
  {
   "cell_type": "markdown",
   "id": "gentle-majority",
   "metadata": {},
   "source": [
    "#### Let Us Create More Errors\n",
    "\n",
    "First, let us execute the little function `Plus`, shown below, with incorrect arguments, so as to obtain a `LENGTH ERROR`:"
   ]
  },
  {
   "cell_type": "code",
   "execution_count": 22,
   "id": "attractive-mixture",
   "metadata": {},
   "outputs": [],
   "source": [
    "]dinput\n",
    "Plus ← {\n",
    "    ⍺ + ⍵\n",
    "}"
   ]
  },
  {
   "cell_type": "code",
   "execution_count": 23,
   "id": "tired-gossip",
   "metadata": {},
   "outputs": [
    {
     "name": "stderr",
     "output_type": "stream",
     "text": [
      "LENGTH ERROR: Mismatched left and right argument shapes\n",
      "Plus[1] ⍺+⍵\n",
      "         ∧\n"
     ]
    }
   ],
   "source": [
    "5 1 7 Plus 6 2 9 4"
   ]
  },
  {
   "cell_type": "markdown",
   "id": "equipped-equality",
   "metadata": {},
   "source": [
    "As in the previous example, if you are following along with the examples in the Windows interpreter or in RIDE,\n",
    " - an error message is issued, and a trace window pops up;\n",
    " - `⎕SI:1` is now highlighted and displayed in the status bar, and `)si` contains one line; and\n",
    " - `⎕LC` contains the value `1` (the function is interrupted on line 1).\n",
    "\n",
    "We shall intentionally ignore this error.\n",
    "**Do not close** the trace window.\n",
    "\n",
    "As a side comment, notice that if you defined the `Plus` dfn in a single line, for example with `Plus ← {⍺ + ⍵}`, then the trace window will *not* appear. In that case, you would have to redefine `Plus` to span multiple lines *or* rewrite it as a tradfn.\n",
    "\n",
    "And now, let us execute `Palindrome` (after replacing the usage of `Reverse` with the faulty `ReverBug`).\n",
    "An error is immediately reported:"
   ]
  },
  {
   "cell_type": "code",
   "execution_count": 24,
   "id": "surgical-blast",
   "metadata": {},
   "outputs": [],
   "source": [
    "]dinput\n",
    "Palindrome ← {\n",
    "    vector ← Upper ⍵\n",
    "    torvec ← ReverBug vector\n",
    "    torvec≡vector\n",
    "}"
   ]
  },
  {
   "cell_type": "code",
   "execution_count": 25,
   "id": "governing-truth",
   "metadata": {},
   "outputs": [
    {
     "name": "stderr",
     "output_type": "stream",
     "text": [
      "VALUE ERROR: Undefined name: frm\n",
      "ReverBug[4] from←frm+1\n",
      "                 ∧\n"
     ]
    }
   ],
   "source": [
    "Palindrome 'Was it a cat or a car I saw?'"
   ]
  },
  {
   "cell_type": "markdown",
   "id": "undefined-twenty",
   "metadata": {},
   "source": [
    " - a second error message is issued;\n",
    " - in the bottom right corner of our session, we now have the information `⎕SI:3`;\n",
    " - `⎕LC` contains three values: `4 2 1`; and\n",
    " - we now have three stacked trace windows instead of one:\n",
    " \n",
    "   - one window contains `Plus`, unchanged;\n",
    "   - a second window contains `Palindrome`, in a different colour; and\n",
    "   - on top of that, a third window contains `ReverBug`.\n",
    "   \n",
    "Although the three trace windows are stacked, you should only be able to view one at a time and, in this case, the `ReverBug` trace window should be the one that is visible right now.\n",
    "\n",
    "First, let us consult the indicators we know.\n",
    "`⎕DM` still shows the latest known error, and `⎕SI` gives the names of the three interrupted functions, the last one being displayed first:"
   ]
  },
  {
   "cell_type": "markdown",
   "id": "responsible-gibson",
   "metadata": {},
   "source": [
    "```APL\n",
    "      ⎕DM\n",
    "┌───────────┬──────────────────────┬──────────────────┐\n",
    "│VALUE ERROR│ReverBug[4] from←frm+1│                 ∧│\n",
    "└───────────┴──────────────────────┴──────────────────┘\n",
    "      ⎕SI\n",
    "┌────────┬──────────┬────┐\n",
    "│ReverBug│Palindrome│Plus│\n",
    "└────────┴──────────┴────┘\n",
    "      )si\n",
    "#.ReverBug[4]*\n",
    "#.Palindrome[2]\n",
    "#.Plus[1]*\n",
    "```"
   ]
  },
  {
   "cell_type": "markdown",
   "id": "fifth-tenant",
   "metadata": {},
   "source": [
    "Notice that\n",
    " - the star next to `#.ReverBug[4]` means `ReverBug` is interrupted;\n",
    " - `#.Palindrome[2]` has no star to its right, it is \"pending\"; and\n",
    " - there is also a star next to `#.Plus[1]` because `Plus` was also interrupted.\n",
    "\n",
    "As you can see, `)si` is a stack.\n",
    "Starting from the bottom, it indicates that `Plus` was interrupted on line `[1]`.\n",
    "Then `Palindrome[2]` has called `ReverBug`, and finally `ReverBug` caused an error in line `[4]`.\n",
    "\n",
    "Both `⎕SI` and `⎕LC` report the most recently interrupted function first, followed by the others.\n",
    "\n",
    "`Palindrome` has not itself generated an error: it is just waiting for the completion of `ReverBug`.\n",
    "The `Palindrome` function is said to be *pending*.\n",
    "For that reason\n",
    " - there is no star to the right of `Palindrome` in `)si`; and\n",
    " - the background of its trace window is a different colour from the others, if you are using the Windows interpreter."
   ]
  },
  {
   "cell_type": "markdown",
   "id": "warming-walker",
   "metadata": {},
   "source": [
    "#### Switch to Edit Mode\n",
    "\n",
    "In this case, the error is obvious and we can try to correct it, but the text displayed in the trace window cannot be edited directly;\n",
    "we must first turn the trace window into an edit window.\n",
    "\n",
    "To do this, ensure that your cursor is over an empty space in the session window (it must not be over another name) and then:\n",
    " - just double-click (on nothing); or\n",
    " - press <kbd>Shift</kbd>+<kbd>Enter</kbd>.\n",
    " \n",
    "Alternatively, you can switch focus to the trace window and place the cursor before the start of any function line and press <kbd>Shift</kbd>+<kbd>Enter</kbd>.\n",
    "\n",
    "All three methods should make the colour of the trace window change, most likely from grey to white, if you are using the default colour scheme.\n",
    "\n",
    "You can now modify the incorrect statement (change `frm` into `from`), and press <kbd>Esc</kbd> to fix the modification.\n",
    "The system switches back to the original colour, showing the newly corrected statement."
   ]
  },
  {
   "cell_type": "markdown",
   "id": "indian-relief",
   "metadata": {},
   "source": [
    "#### Continue Execution\n",
    "\n",
    "After making the correction, you can choose to either:\n",
    " - resume the function from the interruption point; or\n",
    " - continue by tracing its execution, statement by statement, to see what happens.\n",
    "\n",
    "Let us choose the first option.\n",
    "This can be achieved using one of the following methods:\n",
    " - in the session window, execute `→⎕LC`, which is equivalent to `→4 2 1` in this case.\n",
    "The branch arrow ignores all but the first number, so the program resumes execution from line number 4 in the function at the top of the stack (`ReverBug` in this case); or\n",
    " - in the trace window toolbar, press the *continue execution of this thread* button. <!--figure-->The next two figures<!--Win_Continue_Execution_Button,RIDE_Continue_Execution_Button--> show what this button looks like for users of the Windows interpreter and of RIDE, respectively.\n",
    "\n",
    "![*Continue execution of this thread* button in the Windows interpreter trace window.](res/Win_Continue_Execution_Button.png)\n",
    "\n",
    "<br>\n",
    "\n",
    "![*Continue execution of this thread* button in the RIDE trace window.](res/RIDE_Continue_Execution_Button.png)\n",
    "\n",
    "The function resumes its execution but, unfortunately, a second error immediately appears:\n",
    "\n",
    "```APL\n",
    "INDEX ERROR\n",
    "ReverBug[6] rev[to]←vec[from]\n",
    "               ∧\n",
    "```\n",
    "\n",
    "The indicators are nearly the same; they now tell us that the function is no longer interrupted on line 4, but on line 6.\n",
    "\n",
    "To diagnose the problem, we can look at the values of our local variables.\n",
    "We can either double-click on their names (which will open each one in a new window), or just type their names in the session; let us use the latter approach:\n",
    "\n",
    "```APL\n",
    "      rev\n",
    "ASITACARORACATISAW?\n",
    "```\n",
    "\n",
    "Something is wrong: the first letter (W) should be in the last position where the \"?\" is.\n",
    "\n",
    "```APL\n",
    "      ≢vec\n",
    "19\n",
    "```\n",
    "\n",
    "This confirms we had an argument with 19 letters.\n",
    "\n",
    "```APL\n",
    "      from\n",
    "19\n",
    "```\n",
    "\n",
    "And we are trying to move the 19th letter...\n",
    "\n",
    "```APL\n",
    "      to\n",
    "0\n",
    "```\n",
    "\n",
    "to the last index, but it being equal to zero causes an error.\n",
    "\n",
    "Our statement in line [5] calculated the wrong index!\n",
    "It would be insufficient to correct the statement and continue with the current execution, because the variables are already wrong.\n",
    "A better solution would be to correct line [5], exit from `ReverBug` and restart where `Palindrome` called it.\n",
    "\n",
    "Let us modify the 5th statement of `ReverBug` to be `to ← (1+≢vec)-from`.\n",
    "Now, if we want to return to the calling function, we cannot execute `)reset` nor `→`, because that would cause a complete exit both from `ReverBug` and from `Palindrome`.\n",
    "The only way back is to ensure that the `ReverBug` trace window has the focus and then press <kbd>Esc</kbd> to get out of `ReverBug` and return to `Palindrome`.\n",
    "\n",
    "We are now back in the callling environment:\n",
    "\n",
    "```APL\n",
    "      )si\n",
    "#.Palindrome[2]*\n",
    "#.Plus[1]*\n",
    "```\n",
    "\n",
    "Notice that `ReverBug` is no longer present in the state indicator and that the asterisk is now displayed alongside `Palindrome`, because `Palindrome` is now the interrupted function.\n",
    "Then, resume the execution of `Palindrome` exactly as we restarted `ReverBug`:\n",
    " - execute `→⎕LC` in the session; or\n",
    " - press the *continue execution of this thread* button in the trace window toolbar.\n",
    "\n",
    "```APL\n",
    "      →⎕LC\n",
    "1\n",
    "```\n",
    "\n",
    "If we run `→⎕LC` (or press the *continue execution* button, for that matter) the result we get back is 1, because the sentence `'Was it a car or a cat I saw?'` is a palindrome.\n",
    "Despite `Palindrome` having returned its result, we still have an old interrupted function:\n",
    "\n",
    "```APL\n",
    "      )si\n",
    "#.Plus[1]*\n",
    "\n",
    "      ⎕DM\n",
    "┌───────────┬─────────────────────────────┬────────────────┐\n",
    "│INDEX ERROR│ReverBug[6] rev[to]←vec[from]│               ∧│\n",
    "└───────────┴─────────────────────────────┴────────────────┘\n",
    "```\n",
    "\n",
    "As you can see, `⎕DM` does not report the stack of errors, just the last one that occurred.\n",
    "\n",
    "The best thing we can do now to restore a clean environment is to execute:\n",
    "\n",
    "```APL\n",
    "      )reset\n",
    "```"
   ]
  },
  {
   "cell_type": "markdown",
   "id": "american-retention",
   "metadata": {},
   "source": [
    "### Information and Actions\n",
    "\n",
    "#### Indicators\n",
    "\n",
    "When an error occurs, a number of program status indicators are available fro the developer's use.\n",
    "Not all of them will be described here; we shall just explore the most useful ones.\n",
    "\n",
    "| Code | Name | Description |\n",
    "| :- | :- | :- |\n",
    "| `)si` | *State indicator* | List of suspended functions with line numbers and state. |\n",
    "| `⎕SI` | *State indicator* | Nested vector of suspended or pending functions names. |\n",
    "| `⎕DM` | *Diagnostic message* | 3-item nested vector which reports the message associated with the latest error. |\n",
    "| `⎕LC` | *Line counter* | Numeric vector containing the line numbers of functions that are pending or suspended and waiting for execution, the last one being displayed first – the same order as `⎕SI`. |\n",
    "| `⎕EN` | *Event number* | Every type of error or exception is identified by a number. The number of the latest error is reported by `⎕EN`. |\n",
    "\n",
    "Here are some very common *event numbers*; they will be explained in the next section:\n",
    "\n",
    "| `⎕EN` | Message |\n",
    "| :- | :- |\n",
    "| 1 | `WS FULL` |\n",
    "| 2 | `SYNTAX ERROR` |\n",
    "| 3 | `INDEX ERROR` |\n",
    "| 4 | `RANK ERROR` |\n",
    "| 5 | `LENGTH ERROR` |\n",
    "| 6 | `VALUE ERROR` |\n",
    "|11 | `DOMAIN ERROR` |\n",
    "\n",
    "A full list of *event numbers* is given in [an appendix](./Appendices.ipynb#Event-Numbers)."
   ]
  },
  {
   "cell_type": "markdown",
   "id": "recent-password",
   "metadata": {},
   "source": [
    "#### Some Possible Actions\n",
    "\n",
    " - `→⎕LC` continues the interrupted function from the very statement on which it was interrupted (same as pressing the *continue execution of this thread* button);\n",
    " - `→0` quits the interrupted function and returns to its calling environment, which may be the session, or a calling function (same as putting focus on the trace window of the interrupted function and pressing <kbd>Esc</kbd>). In the latter case, execution will be resumed in the calling function;\n",
    " - `→` quits the interrupted function and all its calling functions, and returns to the session. If other functions are suspended, they remain in the *state indicator*; and\n",
    " - `)reset` quits **all** suspended functions, resetting the *state indicator*. `⎕SI`, `⎕DM`, and `⎕LC` are reset to empty vectors and `⎕EN` is set to zero."
   ]
  },
  {
   "cell_type": "markdown",
   "id": "lucky-cable",
   "metadata": {},
   "source": [
    "### Why Should You Reset Your State Indicator?\n",
    "\n",
    "Let us pretend for a second that you were working in the session, trying to figure out how to solve the exercises from [the section on dfns](./User-Defined-Functions.ipynb#Exercises-on-Dfns).\n",
    "In particular, you were trying to solve the exercise where you have to implement a function that produces a series of integers starting on one argument and going up to the other one.\n",
    "\n",
    "First things first, you create the variables that tell you where the sequence should start and end:"
   ]
  },
  {
   "cell_type": "code",
   "execution_count": 26,
   "id": "champion-measurement",
   "metadata": {},
   "outputs": [],
   "source": [
    "from ← 17\n",
    "to ← 29"
   ]
  },
  {
   "cell_type": "markdown",
   "id": "fleet-motor",
   "metadata": {},
   "source": [
    "Then you start trying to figure out how many numbers you should generate, and how to actually generate them:"
   ]
  },
  {
   "cell_type": "code",
   "execution_count": 27,
   "id": "victorian-start",
   "metadata": {},
   "outputs": [
    {
     "data": {
      "text/html": [
       "<span style=\"white-space:pre; font-family: monospace\">12\n",
       "</span>"
      ]
     },
     "execution_count": 27,
     "metadata": {},
     "output_type": "execute_result"
    }
   ],
   "source": [
    "to-from"
   ]
  },
  {
   "cell_type": "code",
   "execution_count": 28,
   "id": "proper-specific",
   "metadata": {},
   "outputs": [
    {
     "data": {
      "text/html": [
       "<span style=\"white-space:pre; font-family: monospace\">1 2 3 4 5 6 7 8 9 10 11 12\n",
       "</span>"
      ]
     },
     "execution_count": 28,
     "metadata": {},
     "output_type": "execute_result"
    }
   ],
   "source": [
    "⍳to-from"
   ]
  },
  {
   "cell_type": "code",
   "execution_count": 29,
   "id": "latin-hurricane",
   "metadata": {},
   "outputs": [
    {
     "data": {
      "text/html": [
       "<span style=\"white-space:pre; font-family: monospace\">18 19 20 21 22 23 24 25 26 27 28 29\n",
       "</span>"
      ]
     },
     "execution_count": 29,
     "metadata": {},
     "output_type": "execute_result"
    }
   ],
   "source": [
    "from+⍳to-from"
   ]
  },
  {
   "cell_type": "code",
   "execution_count": 30,
   "id": "fourth-compact",
   "metadata": {},
   "outputs": [
    {
     "data": {
      "text/html": [
       "<span style=\"white-space:pre; font-family: monospace\">17 18 19 20 21 22 23 24 25 26 27 28\n",
       "</span>"
      ]
     },
     "execution_count": 30,
     "metadata": {},
     "output_type": "execute_result"
    }
   ],
   "source": [
    "¯1+from+⍳to-from"
   ]
  },
  {
   "cell_type": "markdown",
   "id": "continent-spread",
   "metadata": {},
   "source": [
    "Eventually you reach this expression and feel good about it, so you decide to save it as a short dfn:"
   ]
  },
  {
   "cell_type": "code",
   "execution_count": 31,
   "id": "protective-cartoon",
   "metadata": {},
   "outputs": [],
   "source": [
    "To ← {¯1+⍺+⍳⍵-⍺}"
   ]
  },
  {
   "cell_type": "code",
   "execution_count": 32,
   "id": "polish-express",
   "metadata": {},
   "outputs": [
    {
     "data": {
      "text/html": [
       "<span style=\"white-space:pre; font-family: monospace\">17 18 19 20 21 22 23 24 25 26 27 28\n",
       "</span>"
      ]
     },
     "execution_count": 32,
     "metadata": {},
     "output_type": "execute_result"
    }
   ],
   "source": [
    "17 To 29"
   ]
  },
  {
   "cell_type": "markdown",
   "id": "romance-assumption",
   "metadata": {},
   "source": [
    "The exercise is solved and you proceed to programming something else, so you decide to implement a `Reverse` function, but alas you make a flawed implementation, like the one in `ReverBug`:"
   ]
  },
  {
   "cell_type": "code",
   "execution_count": 33,
   "id": "provincial-trader",
   "metadata": {},
   "outputs": [],
   "source": [
    "∇ rev ← ReverBug vec; from; to    ⍝ Still intentionally faulty.\n",
    "    rev ← (≢vec)⍴'?'\n",
    "    from ← 0\n",
    "    :Repeat\n",
    "        from ← from+1\n",
    "        to ← (≢vec)-from\n",
    "        rev[to] ← vec[from]\n",
    "    :Until from=≢vec\n",
    "∇"
   ]
  },
  {
   "cell_type": "markdown",
   "id": "union-uniform",
   "metadata": {},
   "source": [
    "When you call it, you realise you made a mistake, because the function throws an error:"
   ]
  },
  {
   "cell_type": "code",
   "execution_count": 34,
   "id": "studied-registrar",
   "metadata": {},
   "outputs": [
    {
     "name": "stderr",
     "output_type": "stream",
     "text": [
      "INDEX ERROR\n",
      "ReverBug[6] rev[to]←vec[from]\n",
      "               ∧\n"
     ]
    }
   ],
   "source": [
    "ReverBug 17 To 29"
   ]
  },
  {
   "cell_type": "markdown",
   "id": "finite-option",
   "metadata": {},
   "source": [
    "You look around for a bit and find your mistake, as the fifth statement should have read `to ← (1+≢vec)-from` instead of the current `to ← (≢vec)-from`.\n",
    "You correct your mistake and fix the function, but then don't reset the stack because you see no point in it.\n",
    "Just a little while latter, you reuse your `To` function and notice that it looks weird:"
   ]
  },
  {
   "cell_type": "code",
   "execution_count": 35,
   "id": "liked-contest",
   "metadata": {},
   "outputs": [
    {
     "data": {
      "text/html": [
       "<span style=\"white-space:pre; font-family: monospace\">17 18 19 20 21 22 23 24 25 26 27 28\n",
       "</span>"
      ]
     },
     "execution_count": 35,
     "metadata": {},
     "output_type": "execute_result"
    }
   ],
   "source": [
    "17 To 29"
   ]
  },
  {
   "cell_type": "markdown",
   "id": "verbal-johns",
   "metadata": {},
   "source": [
    "The sequence of numbers produced should go up to, and including, 29, and it currently stops at 28.\n",
    "So, you decide to go back and play a bit more with the expression you had before defining the `To` function:\n",
    "\n",
    "```APL\n",
    "      ¯1+from+⍳to-from\n",
    "DOMAIN ERROR\n",
    "      ¯1+from+⍳to-from\n",
    "              ∧\n",
    "      to from\n",
    "0 12\n",
    "```\n",
    "\n",
    "The variables `to` and `from` you were playing with are not visible in your session because they are being shadowed (\"hidden\" or \"covered\") by the local variables inside `ReverBug`.\n",
    "\n",
    "As soon as we reset the *state indicator*, the local variables of `ReverBug` disappear, and your little expression can be used again:\n",
    "\n",
    "```APL\n",
    "      )reset\n",
    "      ¯1+from+⍳to-from\n",
    "17 18 19 20 21 22 23 24 25 26 27 28\n",
    "```\n",
    "\n",
    "You then proceed to understanding that you are generating one too few numbers, and manage to come up with the correct expression for your `To` function:"
   ]
  },
  {
   "cell_type": "code",
   "execution_count": 36,
   "id": "confirmed-oklahoma",
   "metadata": {},
   "outputs": [
    {
     "data": {
      "text/html": [
       "<span style=\"white-space:pre; font-family: monospace\">17 18 19 20 21 22 23 24 25 26 27 28 29\n",
       "</span>"
      ]
     },
     "execution_count": 36,
     "metadata": {},
     "output_type": "execute_result"
    }
   ],
   "source": [
    "¯1+from+⍳1+to-from"
   ]
  },
  {
   "cell_type": "code",
   "execution_count": 37,
   "id": "banner-mobile",
   "metadata": {},
   "outputs": [],
   "source": [
    "To ← {¯1+⍺+⍳1+⍵-⍺}"
   ]
  },
  {
   "cell_type": "markdown",
   "id": "adult-sodium",
   "metadata": {},
   "source": [
    "So, having a \"dirty\" state indicator can easily lead to a lot of confusion.\n",
    "\n",
    "You should also be aware that because APL preserves the full context in which a function stopped or crashed, all the local variables are retained too; this may require a lot of memory space!\n",
    "\n",
    "<!--begin tip-->\n",
    "***Recommendation***:\n",
    "\n",
    " > When a function crashes, always try to clear the stack if you can:\n",
    " >   - try to correct the problem and resume function execution; or\n",
    " >   - if that is impossible, abort it and reset the execution context by executing `)reset`.\n",
    " >\n",
    " > If you can't fix it *right now*, Dyalog will allow you to `)save` the workspace and come back to it later.\n",
    "<!--end-->"
   ]
  },
  {
   "cell_type": "markdown",
   "id": "dated-dividend",
   "metadata": {},
   "source": [
    "## Most Frequent Error Messages\n",
    "\n",
    "### Execution Errors\n",
    "\n",
    "For each common error, we shall give you the most probable reason for the error, some rare cases which may be difficult to debug, and suggest some immediate experiments that you can carry out to help diagnose the problem.\n",
    "\n",
    "Among the six most common errors, four are really easy to diagnose, but the last two are a bit more complex."
   ]
  },
  {
   "cell_type": "markdown",
   "id": "settled-indication",
   "metadata": {},
   "source": [
    "#### `VALUE ERROR` (`⎕EN = 6`)\n",
    "\n",
    "You used a name which does not have a value; it does not represent a variable, a function, or an operator.\n",
    "\n",
    "Here are some possible reasons:\n",
    " - perhaps you misspelled the variable (or function) name, entered the incorrect mixture of upper and lower case characters, or confused the letter \"O\" with the digit \"0\", etc;\n",
    " - you tried to use the result of a function which actually produces no result (see [the section the return value of functions](./User-Defined-Functions.ipynb#Why-Should-a-Function-Return-a-Result);\n",
    " - you tried to reference one of the local variables of a function before it was assigned a value – remember that all variables referenced in the header of a tradfn are local, and so are all the variables defined inside dfns; and\n",
    " - an erroneous tradfn header, as explained below.\n",
    "\n",
    "Imagine you intended to create a function named `Travel`, with two arguments named `west` and `east`.\n",
    "When you entered the header, you forgot the space between `Travel` and `east`, so that the function now looks like this:"
   ]
  },
  {
   "cell_type": "code",
   "execution_count": 38,
   "id": "conventional-principle",
   "metadata": {},
   "outputs": [],
   "source": [
    "∇ z ← west Traveleast\n",
    "    z ← west-east\n",
    "∇"
   ]
  },
  {
   "cell_type": "markdown",
   "id": "frozen-sugar",
   "metadata": {},
   "source": [
    "Instead, you just defined a monadic function named `west`, with a right argument named `Traveleast`.\n",
    "When you try to use `Travel`, it does not exist, and you get an error:"
   ]
  },
  {
   "cell_type": "code",
   "execution_count": 39,
   "id": "metric-combination",
   "metadata": {},
   "outputs": [
    {
     "name": "stderr",
     "output_type": "stream",
     "text": [
      "VALUE ERROR: Undefined name: Travel\n",
      "      0 Travel 1\n",
      "        ∧\n"
     ]
    }
   ],
   "source": [
    "0 Travel 1"
   ]
  },
  {
   "cell_type": "markdown",
   "id": "liked-journey",
   "metadata": {},
   "source": [
    "If you suspect that this has occurred, and you can remember the syntax of the function, check to see if you have a different function whose name is the same as your intended left argument.\n",
    "For example, below we can find a function named \"`west`\" instead of \"`Travel`\":"
   ]
  },
  {
   "cell_type": "code",
   "execution_count": 41,
   "id": "acceptable-victory",
   "metadata": {},
   "outputs": [
    {
     "data": {
      "text/html": [
       "<span style=\"white-space:pre; font-family: monospace\">DISPLAY Interlace       Palindrome      Plus    ReverBug        Reverse To      Upper   west    \n",
       "</span>"
      ]
     },
     "execution_count": 41,
     "metadata": {},
     "output_type": "execute_result"
    }
   ],
   "source": [
    ")fns"
   ]
  },
  {
   "cell_type": "markdown",
   "id": "freelance-crime",
   "metadata": {},
   "source": [
    "If you do not spot it immediately, and if you are using the Windows interpreter, you can use the *search* tool (generally available in the toolbar as the magnifying lens or under \"Tools\" &#8680; \"Search...\").\n",
    "Once the window opens, you can type the name that you want to search for and then click \"Find Now\".\n",
    "You should then discover what the name of the misspelled function really is, as shown in <!--figure-->the figure below<!--Win_Search_Travel-->.\n",
    "\n",
    "![The \"Search\" window of the Windows interpreter.](res/WIN_Search_Travel.png)"
   ]
  },
  {
   "cell_type": "markdown",
   "id": "everyday-flesh",
   "metadata": {},
   "source": [
    "#### `LENGTH ERROR` (`⎕EN = 5`)\n",
    "\n",
    "A `LENGTH ERROR` usually involves two arguments with inconsistent shapes for a given operation.\n",
    "For example:"
   ]
  },
  {
   "cell_type": "code",
   "execution_count": 42,
   "id": "written-mapping",
   "metadata": {},
   "outputs": [
    {
     "name": "stderr",
     "output_type": "stream",
     "text": [
      "LENGTH ERROR: Mismatched left and right argument shapes\n",
      "      4 6 8+3 7\n",
      "           ∧\n"
     ]
    }
   ],
   "source": [
    "4 6 8 + 3 7"
   ]
  },
  {
   "cell_type": "markdown",
   "id": "nonprofit-encyclopedia",
   "metadata": {},
   "source": [
    "<!--begin tip-->\n",
    "***Suggestion***:\n",
    "\n",
    " > If an operation like `X+Y` causes a `LENGTH ERROR`, look at the shapes of both arguments `X` and `Y`, and see if they are compatible with one another.\n",
    "<!--end-->\n",
    "\n",
    "Also remember that:\n",
    " - a matrix with only one row looks like (but is not) a vector and a matrix/vector with only one element looks like (but is not) a scalar: see [this subsection](./Data-and-Variables.ipynb#Beware); and\n",
    " - an incorrectly specified axis may also cause such an error.\n",
    "\n",
    "To exemplify a `LENGTH ERROR` with an incorrect axis specification, let us define"
   ]
  },
  {
   "cell_type": "code",
   "execution_count": 43,
   "id": "criminal-convention",
   "metadata": {},
   "outputs": [
    {
     "data": {
      "text/html": [
       "<span style=\"white-space:pre; font-family: monospace\">1  2  3  4\n",
       "5  6  7  8\n",
       "9 10 11 12\n",
       "</span>"
      ]
     },
     "execution_count": 43,
     "metadata": {},
     "output_type": "execute_result"
    }
   ],
   "source": [
    "⎕← MatA ← 3 4⍴⍳12"
   ]
  },
  {
   "cell_type": "code",
   "execution_count": 46,
   "id": "closed-decision",
   "metadata": {},
   "outputs": [
    {
     "data": {
      "text/html": [
       "<span style=\"white-space:pre; font-family: monospace\"> 1  2  3  4\n",
       " 5  6  7  8\n",
       " 9 10 11 12\n",
       "13 14 15 16\n",
       "17 18 19 20\n",
       "</span>"
      ]
     },
     "execution_count": 46,
     "metadata": {},
     "output_type": "execute_result"
    }
   ],
   "source": [
    "⎕← MatB ← 5 4⍴⍳20"
   ]
  },
  {
   "cell_type": "markdown",
   "id": "powered-gasoline",
   "metadata": {},
   "source": [
    "Both `MatA,MatB` and `MatA,[2]MatB` cause a `LENGTH ERROR` but both `MatA⍪MatB` and `MatA,[1]MatB` will work:"
   ]
  },
  {
   "cell_type": "code",
   "execution_count": 48,
   "id": "figured-circumstances",
   "metadata": {},
   "outputs": [
    {
     "name": "stderr",
     "output_type": "stream",
     "text": [
      "LENGTH ERROR\n",
      "      MatA,MatB\n",
      "          ∧\n"
     ]
    }
   ],
   "source": [
    "MatA,MatB"
   ]
  },
  {
   "cell_type": "code",
   "execution_count": 49,
   "id": "rubber-america",
   "metadata": {},
   "outputs": [
    {
     "name": "stderr",
     "output_type": "stream",
     "text": [
      "LENGTH ERROR\n",
      "      MatA,[2]MatB\n",
      "          ∧\n"
     ]
    }
   ],
   "source": [
    "MatA,[2]MatB"
   ]
  },
  {
   "cell_type": "code",
   "execution_count": 50,
   "id": "bored-freedom",
   "metadata": {},
   "outputs": [
    {
     "data": {
      "text/html": [
       "<span style=\"white-space:pre; font-family: monospace\"> 1  2  3  4\n",
       " 5  6  7  8\n",
       " 9 10 11 12\n",
       " 1  2  3  4\n",
       " 5  6  7  8\n",
       " 9 10 11 12\n",
       "13 14 15 16\n",
       "17 18 19 20\n",
       "</span>"
      ]
     },
     "execution_count": 50,
     "metadata": {},
     "output_type": "execute_result"
    }
   ],
   "source": [
    "MatA⍪MatB"
   ]
  },
  {
   "cell_type": "code",
   "execution_count": 51,
   "id": "eastern-twist",
   "metadata": {},
   "outputs": [
    {
     "data": {
      "text/html": [
       "<span style=\"white-space:pre; font-family: monospace\"> 1  2  3  4\n",
       " 5  6  7  8\n",
       " 9 10 11 12\n",
       " 1  2  3  4\n",
       " 5  6  7  8\n",
       " 9 10 11 12\n",
       "13 14 15 16\n",
       "17 18 19 20\n",
       "</span>"
      ]
     },
     "execution_count": 51,
     "metadata": {},
     "output_type": "execute_result"
    }
   ],
   "source": [
    "MatA,[1]MatB"
   ]
  },
  {
   "cell_type": "markdown",
   "id": "requested-ministry",
   "metadata": {},
   "source": [
    "#### `RANK ERROR` (`⎕EN=4`)\n",
    "\n",
    "A `RANK ERROR` means that you tried to do something which is not consistent with the *rank* of an array.\n",
    "This may involve one or more variables.\n",
    "Let us recall our `forecast` matrix and use it to show some common examples of this type of error:"
   ]
  },
  {
   "cell_type": "code",
   "execution_count": 52,
   "id": "joint-ambassador",
   "metadata": {},
   "outputs": [
    {
     "data": {
      "text/html": [
       "<span style=\"white-space:pre; font-family: monospace\"> 90 160 420 500  20  30\n",
       "110 450 170 370 290 360\n",
       "340 190 320 120 510 370\n",
       "150 460 240 520 490 280\n",
       "</span>"
      ]
     },
     "execution_count": 52,
     "metadata": {},
     "output_type": "execute_result"
    }
   ],
   "source": [
    "⎕RL ← 73\n",
    "⎕←forecast ← 10×?4 6⍴55"
   ]
  },
  {
   "cell_type": "code",
   "execution_count": 59,
   "id": "official-liberty",
   "metadata": {},
   "outputs": [
    {
     "name": "stderr",
     "output_type": "stream",
     "text": [
      "INDEX ERROR\n",
      "      forecast[3 5]\n",
      "              ∧\n"
     ]
    }
   ],
   "source": [
    "forecast[3 5]"
   ]
  },
  {
   "cell_type": "markdown",
   "id": "developed-content",
   "metadata": {},
   "source": [
    "The indexing above is incorrect because `forecast` is a matrix, not a vector.\n",
    "A semicolon is needed somewhere: `[;3 5]`, `[3;5]`, or `[3 5;]`."
   ]
  },
  {
   "cell_type": "code",
   "execution_count": 60,
   "id": "after-elephant",
   "metadata": {},
   "outputs": [
    {
     "name": "stderr",
     "output_type": "stream",
     "text": [
      "RANK ERROR: Mismatched left and right argument ranks\n",
      "      forecast+⍳6\n",
      "              ∧\n"
     ]
    }
   ],
   "source": [
    "forecast + ⍳6"
   ]
  },
  {
   "cell_type": "markdown",
   "id": "latin-utility",
   "metadata": {},
   "source": [
    "The above cannot work, even if `forecast` had only one row and looked very much like a vector.\n",
    "\n",
    "A `RANK ERROR` is also issued when an *axis* is not correct.\n",
    "For example:"
   ]
  },
  {
   "cell_type": "code",
   "execution_count": 57,
   "id": "coordinate-workshop",
   "metadata": {},
   "outputs": [
    {
     "name": "stderr",
     "output_type": "stream",
     "text": [
      "RANK ERROR: Invalid axis\n",
      "      MatA,[3]MatB\n",
      "          ∧\n"
     ]
    }
   ],
   "source": [
    "MatA,[3]MatB"
   ]
  },
  {
   "cell_type": "markdown",
   "id": "municipal-capacity",
   "metadata": {},
   "source": [
    "This cannot work because `MatA` does not have 3 dimensions.\n",
    "Similarly,"
   ]
  },
  {
   "cell_type": "code",
   "execution_count": 58,
   "id": "appointed-discharge",
   "metadata": {},
   "outputs": [
    {
     "name": "stderr",
     "output_type": "stream",
     "text": [
      "RANK ERROR: Invalid axis\n",
      "      1 2 3 4,[2]5\n",
      "             ∧\n"
     ]
    }
   ],
   "source": [
    "1 2 3 4,[2]5"
   ]
  },
  {
   "cell_type": "markdown",
   "id": "concerned-focus",
   "metadata": {},
   "source": [
    "cannot work because a vector only has one dimension.\n",
    "\n",
    "Sometimes incorrect syntax can also lead to a `RANK ERROR`.\n",
    "For example, to concatenate the two matrices shown above, the correct syntax is `MatA,[1]MatB`, but you could have typed that as"
   ]
  },
  {
   "cell_type": "code",
   "execution_count": 55,
   "id": "twelve-average",
   "metadata": {},
   "outputs": [
    {
     "name": "stderr",
     "output_type": "stream",
     "text": [
      "RANK ERROR\n",
      "      MatA[1],MatB\n",
      "          ∧\n"
     ]
    }
   ],
   "source": [
    "MatA[1],MatB"
   ]
  },
  {
   "cell_type": "markdown",
   "id": "protected-southeast",
   "metadata": {},
   "source": [
    "Notice the misplaced comma, which leads APL to try and calculate `MatA[1]`, which fails because `MatA` is a matrix and not a vector.\n",
    "\n",
    "<!--begin tip-->\n",
    "***Suggestion***:\n",
    "\n",
    " > If a statement causes a `RANK ERROR`, look at the shapes of all the arrays involved in the expression.\n",
    "<!--end-->"
   ]
  },
  {
   "cell_type": "markdown",
   "id": "simplified-removal",
   "metadata": {},
   "source": [
    "#### `INDEX ERROR` (`⎕EN=3`)\n",
    "\n",
    "You tried to index a variable, but your index was wrong.\n",
    "For example, you tried to get the 20th element of a vector which only has 17 elements.\n",
    "\n",
    "This occurs when the index (or one of the items of the index) is:\n",
    " - smaller than or equal to zero;\n",
    " - greater than the length of the variable, along the specified axis; or\n",
    " - not an integer."
   ]
  },
  {
   "cell_type": "code",
   "execution_count": 56,
   "id": "bright-easter",
   "metadata": {},
   "outputs": [
    {
     "name": "stderr",
     "output_type": "stream",
     "text": [
      "INDEX ERROR\n",
      "      forecast[5;5]\n",
      "              ∧\n"
     ]
    }
   ],
   "source": [
    "forecast[5;5]"
   ]
  },
  {
   "cell_type": "markdown",
   "id": "retired-savannah",
   "metadata": {},
   "source": [
    "This doesn't work because `forecast` has 6 columns but only 4 rows: the second index is good but the first one is not.\n",
    "\n",
    "<!--begin tip-->\n",
    "***Suggestion***:\n",
    "\n",
    " > If the error occurs in an indexing operation like `var[indexA;indexB;...]`, look at the shape of `var` and check if `indexA`, `indexB`, etc., contain values which are compatible with the size of `var`.\n",
    "<!--end-->"
   ]
  },
  {
   "cell_type": "code",
   "execution_count": null,
   "id": "checked-murder",
   "metadata": {},
   "outputs": [],
   "source": []
  }
 ],
 "metadata": {
  "kernelspec": {
   "display_name": "Dyalog APL",
   "language": "apl",
   "name": "dyalog-kernel"
  },
  "language_info": {
   "file_extension": ".apl",
   "mimetype": "text/apl",
   "name": "APL"
  },
  "toc": {
   "base_numbering": 1,
   "nav_menu": {},
   "number_sections": false,
   "sideBar": true,
   "skip_h1_title": true,
   "title_cell": "Table of Contents",
   "title_sidebar": "Contents",
   "toc_cell": false,
   "toc_position": {},
   "toc_section_display": true,
   "toc_window_display": false
  }
 },
 "nbformat": 4,
 "nbformat_minor": 5
}
