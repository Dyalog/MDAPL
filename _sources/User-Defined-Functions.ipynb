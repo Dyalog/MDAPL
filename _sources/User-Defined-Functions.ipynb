{
  "cells": [
    {
      "cell_type": "markdown",
      "metadata": {
        "collapsed": true
      },
      "source": [
        "(User-Defined-Functions-User-Defined-Functions)=\n",
        "# User-Defined Functions\n",
        "\n",
        "(User-Defined-Functions-Landmarks)=\n",
        "## Landmarks\n",
        "\n",
        "(User-Defined-Functions-Some-Definitions)=\n",
        "### Some Definitions\n",
        "\n",
        "In previous chapters we made a distinction between the functions and operators which are part of APL, like `+`, `\u00d7`, `\u2308` and `/` (we refer to them as *primitives*), and those functions and operators that are created by the user which are represented, not by a symbol, but by a name like `Average` (we say they are *user-defined*).\n",
        "\n",
        "We also made an important distinction between *functions*, which apply to data and which return data, and *operators*, which apply to functions or data and produce *derived* functions (see {numref}`Some-Primitive-Functions-Definition`).\n",
        "\n",
        "This means that we can distinguish between 4 major categories of processing tools:\n",
        "\n",
        "| Category | Name | Examples | Refer to |\n",
        "| :- | :- | :-: | :-: |\n",
        "| Built-in tools | Primitive functions | `+` `\u00d7` `\u2308` `\u2374` | Previous chapters |\n",
        "| | Primitive operators | `/` | [Chapter on Operators](./Operators.ipynb) |\n",
        "| User-defined tools | **User-defined functions** | `Average` | This chapter |\n",
        "| | User-defined operators | | {numref}`Operators-User-Defined-Operators` |\n",
        "\n",
        "This chapter is devoted to user-defined *functions*. The subject of user-defined *operators* will be covered later.\n",
        "\n",
        "We can further categorise user-defined functions according to the way they process data. Firstly we can distinguish between ***direct*** and ***procedural*** **functions**:\n",
        "\n",
        " - ***direct*** functions (commonly referred to as ***dfns***) are defined in a very formal manner; they are usually designed for pure calculation, without any external or user interfaces. *Dfns* do not allow loops except by recursion and have limited options for conditional programming; and\n",
        "   \n",
        " - ***procedural*** functions (commonly referred to as ***tradfns***, short for *traditional functions*) are less formal and look much more like programs written in other languages; they provide greater flexibility for building major applications which involve user interfaces, access to files or databases and other external interfaces. *Tradfns* may take no arguments and behave like scripts.\n",
        "   \n",
        "Even though you may write entire systems with dfns, you might prefer to restrict their use to encapsulate statements that, together, perform some meaningful operation on the data given. We will start by covering the syntax and characteristics of dfns, then we will do the same for tradfns, and then {numref}`User-Defined-Functions-Dfns-Versus-Tradfns` will compare the main characteristics of both of them, to help you understand when and why each should be used.\n",
        "\n",
        "The second distinction we can make concerns the number of arguments a user-defined function can have.\n",
        "\n",
        " - ***dyadic*** functions take two arguments which are placed on either side of the function (`X f Y`);\n",
        " - ***monadic*** functions take a single argument which is placed to the right of the function (`f Y`);\n",
        " - ***niladic*** functions take no argument at all; and\n",
        " - ***ambivalent*** functions are dyadic functions whose left argument is optional."
      ]
    },
    {
      "cell_type": "markdown",
      "metadata": {},
      "source": [
        "(User-Defined-Functions-Configure-Your-Environment)=\n",
        "### Configure Your Environment\n",
        "\n",
        "Dyalog APL has a highly configurable development and debugging environment, designed to fit the requirements of very different kinds of programmers. This environment is controlled by configuration parameters; let us determine which context will suit you best.\n",
        "\n",
        "(User-Defined-Functions-What-Do-You-Need)=\n",
        "#### What Do You Need?\n",
        "\n",
        "All you need (except for love) is:\n",
        "\n",
        " - a window in which to type expressions that you want to be executed (white Session window);\n",
        " - one or more windows in which to create/modify user-defined functions (grey Edit windows); and\n",
        " - one or more windows to debug execution errors (black Trace window).\n",
        " \n",
        "The colours above refer to the positions of the windows in {numref}`fig-IDE_Window_Layout`, {numref}`fig-IDE_Window_Horizontal_Layout`, and {numref}`fig-IDE_Floating_Window_Layout`.\n",
        "\n",
        "The default configuration is consistent with other software development tools and in it is possible to divide the session window into three parts which can be resized, as shown in {numref}`fig-IDE_Window_Layout`:\n",
        "\n",
        "(fig-IDE_Window_Layout)=\n",
        "```{figure} res/IDE_Window_Layout.png\n",
        "---\n",
        "name: IDE_Window_Layout\n",
        "---\n",
        "The default window configuration.\n",
        "```\n",
        "\n",
        "This configuration provides a single Edit window and a single Trace window, each of which is \"docked\" along one of the Session window borders. You can dock these windows along any of the Session window sides. For example, {numref}`fig-IDE_Window_Horizontal_Layout` shows a configuration with three horizontal panes, highly suitable for entering and editing very long statements.\n",
        "\n",
        "(fig-IDE_Window_Horizontal_Layout)=\n",
        "```{figure} res/IDE_Window_Horizontal_Layout.png\n",
        "---\n",
        "name: IDE_Window_Horizontal_Layout\n",
        "---\n",
        "The Edit and Trace windows in a horizontal layout.\n",
        "```\n",
        "\n",
        "The Edit window supports the *Multiple Document Interface* (MDI). This means that you can work on more than one function at a time:\n",
        "\n",
        " - on the Windows interpreter you can use the \"Window\" menu to *Tile* and *Cascade*, or you can maximise any one of the functions to concentrate solely upon it; or\n",
        " - if you are using RIDE the default behaviour is to open a tab per item you are editing.\n",
        " \n",
        "If you are working on a relatively small screen you may find that you prefer to work with \"floating\" windows in a layout similar to the one in {numref}`fig-IDE_Floating_Window_Layout`:\n",
        "\n",
        "(fig-IDE_Floating_Window_Layout)=\n",
        "```{figure} res/IDE_Floating_Window_Layout.png\n",
        "---\n",
        "name: IDE_Floating_Window_Layout\n",
        "---\n",
        "\"floating\" windows layout.\n",
        "```\n",
        "\n",
        " - on the Windows interpreter, you can either:\n",
        "   - grab the border of a sub-window (Edit or Trace) and then drag and drop it in the middle of the session window, as an independent floating window; or\n",
        "   - enable the \"Classic Dyalog mode\", which can be set under \"Options\" \u21e8 \"Configure...\" \u21e8 \"Trace/Edit\" as shown in {numref}`fig-IDE_Configure_Classic_Mode`.\n",
        "\n",
        "(fig-IDE_Configure_Classic_Mode)=\n",
        "```{figure} res/IDE_Configure_Classic_Mode.png\n",
        "---\n",
        "name: IDE_Configure_Classic_Mode\n",
        "---\n",
        "Option to set \"Classic Dyalog mode\".\n",
        "```\n",
        "\n",
        " - if you are using RIDE you can go to \"Edit\" \u21e8 \"Preferences\" \u21e8 \"Windows\" and enable \"Floating windows\" as shown in {numref}`fig-RIDE_Configure_Floating_Windows`:\n",
        " \n",
        "(fig-RIDE_Configure_Floating_Windows)=\n",
        "```{figure} res/RIDE_Configure_Floating_Windows.png\n",
        "---\n",
        "name: RIDE_Configure_Floating_Windows\n",
        "---\n",
        "Enable \"floating\" windows in RIDE.\n",
        "```\n",
        "\n",
        "Working with floating windows has the added benefit of allowing you to have a stack of trace windows (as opposed to a single trace window), showing which functions call which other. This will be explored in {numref}`First-Aid-Kit-Choose-Your-Configuration`."
      ]
    },
    {
      "cell_type": "markdown",
      "metadata": {},
      "source": [
        "(User-Defined-Functions-A-Text-Editor-What-For)=\n",
        "#### A Text Editor; What For?\n",
        "\n",
        "Some dfns can be defined by a single expression and so are easy to define inside the session. We used this technique before to define a function named `Average` and here we do it again:"
      ]
    },
    {
      "cell_type": "code",
      "execution_count": 1,
      "metadata": {},
      "outputs": [],
      "source": [
        "Average \u2190 {(+/\u2375)\u00f7\u2262\u2375}"
      ]
    },
    {
      "cell_type": "markdown",
      "metadata": {},
      "source": [
        "However, as one defines more complex functions, it can become more complicated to define dfns in the session window.\n",
        "\n",
        "For one, the ability to define multi-line dfns in the session was only made available with Dyalog 18.0. In these notebooks you can see that multi-line dfns are defined in cells that start with `]dinput`:"
      ]
    },
    {
      "cell_type": "code",
      "execution_count": 2,
      "metadata": {},
      "outputs": [],
      "source": [
        "]dinput\n",
        "Average \u2190 {\n",
        "    (+/\u2375)\u00f7\u2262\u2375\n",
        "}"
      ]
    },
    {
      "cell_type": "markdown",
      "metadata": {},
      "source": [
        "In the Windows interpreter an expression like the one above might result in a `SYNTAX ERROR`, as you type `Average \u2190 {`, then hit <kbd>Enter</kbd> to change line, and then the interpreter tries to execute the line you entered, instead of allowing you to continue the definition of `Average`. To change this behaviour and allow for multi-line dfns, you can go to \"Options\" &#8680; \"Configure...\" &#8680; \"Session\" and check the experimental multi-line input box at the bottom. (If you are reading this and this book is old enough, the \"*experimental*\" multi-line input may no longer be *experimental*.)\n",
        "\n",
        "If you are using RIDE and this capability is not ON by default, you can turn it ON by setting the `DYALOG_LINEEDITOR_MODE` environment variable to `1` in the connection menu, like demonstrated in {numref}`fig-RIDE_Enable_Multiline_Input`.\n",
        "\n",
        "(fig-RIDE_Enable_Multiline_Input)=\n",
        "```{figure} res/RIDE_Enable_Multiline_Input.png\n",
        "---\n",
        "name: RIDE_Enable_Multiline_Input\n",
        "---\n",
        "Configuring RIDE to allow for multi-line input.\n",
        "```\n"
      ]
    },
    {
      "cell_type": "markdown",
      "metadata": {},
      "source": [
        "Despite multi-line input, it is easier and more appropriate to edit multi-line dfns and tradfns in a suitable text editor. The built-in editors for the Windows interpreter and for RIDE are likely to be suitable for you, but other alternatives exist. You can find an enumeration of most of the available alternatives over at [the APL Wiki](https://aplwiki.com/wiki/Text_editors). We will also cover this in more depth in [the chapter about source code management](./Source-Code-Management.ipynb)."
      ]
    },
    {
      "cell_type": "markdown",
      "metadata": {},
      "source": [
        "(User-Defined-Functions-Simple-Dfns)=\n",
        "## Simple Dfns\n",
        "\n",
        "(User-Defined-Functions-Definition)=\n",
        "### Definition\n",
        "\n",
        "Dfns are a set of statements enclosed by curly braces `{}`, so a simple dfn is typically created with the syntax `Name \u2190 { definition }` where:\n",
        "\n",
        " - `Name` is the function name. It is followed by a definition, delimited by a pair of curly braces `{` and `}`. This definition may make use of one or two variables named `\u2375` and `\u237a`, which represent the values to be processed. `\u2375` and `\u237a` are called ***arguments*** of the function;\n",
        " - `\u2375` (<kbd>APL</kbd>+<kbd>w</kbd>) is a generic symbol which represents the right argument of the function; and\n",
        " - `\u237a` (<kbd>APL</kbd>+<kbd>a</kbd>) is a generic symbol which represents the left argument if the function is dyadic.\n",
        " \n",
        "Here is an example monadic dfn:"
      ]
    },
    {
      "cell_type": "code",
      "execution_count": 3,
      "metadata": {},
      "outputs": [],
      "source": [
        "Average \u2190 {(+/\u2375)\u00f7(\u2262\u2375)}"
      ]
    },
    {
      "cell_type": "markdown",
      "metadata": {},
      "source": [
        "And here are two more dyadic dfns, and an example showing how they can be used:"
      ]
    },
    {
      "cell_type": "code",
      "execution_count": 4,
      "metadata": {},
      "outputs": [
        {
          "data": {
            "text/html": [
              "<span style=\"white-space:pre; font-family: monospace\">48\n",
              "</span>"
            ]
          },
          "execution_count": 4,
          "metadata": {},
          "output_type": "execute_result"
        }
      ],
      "source": [
        "Plus \u2190 {\u237a + \u2375}\n",
        "Times \u2190 {\u237a \u00d7 \u2375}\n",
        "3 Times 7 Plus 9"
      ]
    },
    {
      "cell_type": "markdown",
      "metadata": {},
      "source": [
        "Notice the final statement above is strictly equivalent to"
      ]
    },
    {
      "cell_type": "code",
      "execution_count": 5,
      "metadata": {},
      "outputs": [
        {
          "data": {
            "text/html": [
              "<span style=\"white-space:pre; font-family: monospace\">48\n",
              "</span>"
            ]
          },
          "execution_count": 5,
          "metadata": {},
          "output_type": "execute_result"
        }
      ],
      "source": [
        "3 \u00d7 7 + 9"
      ]
    },
    {
      "cell_type": "markdown",
      "metadata": {},
      "source": [
        "as the order of evaluation is the same.\n",
        "\n",
        "The arguments `\u2375` and `\u237a` are read-only (they cannot be reassigned) and are limited in scope to only being visible within the function itself. The only exception to the \"read-only rule\" is when providing a default left argument to the dfn, which we'll cover in {numref}`User-Defined-Functions-Default-Left-Argument`.\n",
        "\n",
        "The developer does not need to declare anything about the shape or internal representation of the arguments and the result. This information is automatically obtained from the arrays provided as its arguments. This is similar to the behaviour of dynamically typed programming languages, such as Python or Javascript. So, our functions can work on any arrays.\n",
        "\n",
        "A scalar added to a matrix returns a matrix. No need to specify it:"
      ]
    },
    {
      "cell_type": "code",
      "execution_count": 6,
      "metadata": {},
      "outputs": [
        {
          "data": {
            "text/html": [
              "<span style=\"white-space:pre; font-family: monospace\">13 14 15\n",
              "16 17 18\n",
              "</span>"
            ]
          },
          "execution_count": 6,
          "metadata": {},
          "output_type": "execute_result"
        }
      ],
      "source": [
        "12 Plus 2 3\u2374\u23736"
      ]
    },
    {
      "cell_type": "markdown",
      "metadata": {},
      "source": [
        "And a vector of integer numbers multiplied by a scalar fractional number returns a vector of fractional numbers:"
      ]
    },
    {
      "cell_type": "code",
      "execution_count": 7,
      "metadata": {},
      "outputs": [
        {
          "data": {
            "text/html": [
              "<span style=\"white-space:pre; font-family: monospace\">73 248.2 379.6 116.8\n",
              "</span>"
            ]
          },
          "execution_count": 7,
          "metadata": {},
          "output_type": "execute_result"
        }
      ],
      "source": [
        "7.3 Times 10 34 52 16"
      ]
    },
    {
      "cell_type": "markdown",
      "metadata": {},
      "source": [
        "These simple dfns are well suited for pure calculations of straightforward array manipulation. For example, here is how we can calculate the hypotenuse of a right-angled triangle from the lengths of the two other sides:"
      ]
    },
    {
      "cell_type": "code",
      "execution_count": 8,
      "metadata": {},
      "outputs": [
        {
          "data": {
            "text/html": [
              "<span style=\"white-space:pre; font-family: monospace\">5\n",
              "</span>"
            ]
          },
          "execution_count": 8,
          "metadata": {},
          "output_type": "execute_result"
        }
      ],
      "source": [
        "Hypo \u2190 {(+/\u2375*2)*0.5}\n",
        "Hypo 3 4"
      ]
    },
    {
      "cell_type": "code",
      "execution_count": 9,
      "metadata": {},
      "outputs": [
        {
          "data": {
            "text/html": [
              "<span style=\"white-space:pre; font-family: monospace\">13\n",
              "</span>"
            ]
          },
          "execution_count": 9,
          "metadata": {},
          "output_type": "execute_result"
        }
      ],
      "source": [
        "Hypo 12 5"
      ]
    },
    {
      "cell_type": "markdown",
      "metadata": {},
      "source": [
        "(User-Defined-Functions-Unnamed-Dfns)=\n",
        "### Unnamed Dfns\n",
        "\n",
        "A dfn can be defined and then discarded immediately after it has been used, in which case it does not need a name. For example, the geometric mean of a set of $n$ values is defined as the $n$th root of their product. The function can be defined and used inline like this:"
      ]
    },
    {
      "cell_type": "code",
      "execution_count": 10,
      "metadata": {},
      "outputs": [
        {
          "data": {
            "text/html": [
              "<span style=\"white-space:pre; font-family: monospace\">7.8657\n",
              "</span>"
            ]
          },
          "execution_count": 10,
          "metadata": {},
          "output_type": "execute_result"
        }
      ],
      "source": [
        "{(\u00d7/\u2375)*\u00f7\u2262\u2375} 6 8 4 11 9 14 7"
      ]
    },
    {
      "cell_type": "markdown",
      "metadata": {},
      "source": [
        "But because we didn't assign it to a name, it was discarded after being used and can't be used again. This kind of function is similar to *inline*, *anonymous* or *lambda* functions in other languages.\n",
        "\n",
        "A special case is `{}`. This function does nothing, but placed at the left of an expression, it can be used to prevent the result of the expression from being displayed on the screen:"
      ]
    },
    {
      "cell_type": "code",
      "execution_count": 11,
      "metadata": {},
      "outputs": [
        {
          "data": {
            "text/html": [
              "<span style=\"white-space:pre; font-family: monospace\">6\n",
              "</span>"
            ]
          },
          "execution_count": 11,
          "metadata": {},
          "output_type": "execute_result"
        }
      ],
      "source": [
        "3 Plus 3"
      ]
    },
    {
      "cell_type": "code",
      "execution_count": 12,
      "metadata": {},
      "outputs": [],
      "source": [
        "{} 3 Plus 3"
      ]
    },
    {
      "cell_type": "markdown",
      "metadata": {},
      "source": [
        "(User-Defined-Functions-Modifying-The-Code)=\n",
        "### Modifying The Code\n",
        "\n",
        "Single line dfns may be modified using the function editor, as will be explained in the next section. They can also be redefined entirely, as many times as necessary, as shown:"
      ]
    },
    {
      "cell_type": "code",
      "execution_count": 13,
      "metadata": {},
      "outputs": [],
      "source": [
        "Magic \u2190 {\u237a+\u2375}"
      ]
    },
    {
      "cell_type": "code",
      "execution_count": 14,
      "metadata": {},
      "outputs": [],
      "source": [
        "Magic \u2190 {\u237a\u00f7+/\u2375}"
      ]
    },
    {
      "cell_type": "code",
      "execution_count": 15,
      "metadata": {},
      "outputs": [],
      "source": [
        "Magic \u2190 {(+/\u237a)-(+/\u2375)}"
      ]
    },
    {
      "cell_type": "markdown",
      "metadata": {},
      "source": [
        "We defined `Magic` and then changed it twice. Only the most recent definition will survive.\n",
        "\n",
        "Now we will delve into how to define and use more complex dfns. For this we will explore the built-in editor that comes with your interpreter and you will also learn some more syntax to empower your dfns."
      ]
    },
    {
      "cell_type": "markdown",
      "metadata": {},
      "source": [
        "(User-Defined-Functions-More-on-Dfns)=\n",
        "## More on Dfns\n",
        "\n",
        "The dfns we wrote in the previous section were very simple and consisted of a single statement. We will now use the text editor to define multi-line dfns.\n",
        "\n",
        "(User-Defined-Functions-Characteristics)=\n",
        "### Characteristics\n",
        "\n",
        " - Generally, the opening and closing braces are placed alone on the first and last lines. This is not mandatory, it is just a convention;\n",
        " - dfns might be commented at will;\n",
        " - one can create as many variables as needed: they are automatically deemed to be local variables, which means they only exist while inside the dfn. Note that this is opposite to the default behaviour of tradfns, where all variables are global (cf. {numref}`User-Defined-Functions-Local-Variables` and {numref}`User-Defined-Functions-The-Default-Isnt-Local`);\n",
        " - the arguments `\u2375` and `\u237a` retain the values passed to them as arguments and may not be changed. Any attempt to modify them causes a `SYNTAX ERROR` to be reported, except when *defaulting the left argument* (cf. {numref}`User-Defined-Functions-Default-Left-Argument`);\n",
        " - as soon as an expression generates a result that is not assigned to a name or used in any other way, the function terminates, and the value of that expression is returned as the result of the function. If the function contains more lines they will not be executed (cf. {numref}`User-Defined-Functions-Returning-the-Result`); and\n",
        " - traditional *control structures* and *branching* cannot be used in dfns (cf. {numref}`User-Defined-Functions-Guards`).\n",
        " \n",
        "We will explore these characteristics in the following sections."
      ]
    },
    {
      "cell_type": "markdown",
      "metadata": {},
      "source": [
        "(User-Defined-Functions-A-Working-Example)=\n",
        "### A Working Example\n",
        "\n",
        "As an example, let us see how we could define a function to calculate the *harmonic mean* of a vector of numbers. The harmonic mean of a vector is the inverse of the sum of the inverses of the numbers in the vector. This will become clearer when you see the code.\n",
        "\n",
        "First of all, we must choose a name for our new function. We will choose to name it `HarmonicMean`.\n",
        "\n",
        "Among the multiple ways of invoking the text editor, let us use a very simple one: type the command `)ed` followed by a space and the name of the function to create: `)ed HarmonicMean`.\n",
        "\n",
        "Unless you already redefined the defaults, a mostly empty window should open to the right of the session. We include an example screenshot of such a window from the Windows interpreter, in {numref}`fig-Win_Editor`:\n",
        "\n",
        "(fig-Win_Editor)=\n",
        "```{figure} res/Win_Editor.png\n",
        "---\n",
        "name: Win_Editor\n",
        "---\n",
        "The edit window opened by the command `)ED HarmonicMean`.\n",
        "```\n",
        "\n",
        "Now that we have a window in which to define our dfn, we can go ahead and implement the harmonic mean. We shall split the process into a series of simple steps, as shown in {numref}`fig-Win_Editor_Harmonic_Mean`: calculate the inverses, sum them, invert the sum.\n",
        "\n",
        "(fig-Win_Editor_Harmonic_Mean)=\n",
        "```{figure} res/Win_Editor_Harmonic_Mean.png\n",
        "---\n",
        "name: Win_Editor_Harmonic_Mean\n",
        "---\n",
        "The `HarmonicMean` function defined in the edit window.\n",
        "```\n",
        "\n",
        "We also define it in this notebook:"
      ]
    },
    {
      "cell_type": "code",
      "execution_count": 16,
      "metadata": {},
      "outputs": [],
      "source": [
        "]dinput\n",
        "HarmonicMean \u2190 {\n",
        "    inverses \u2190 \u00f7\u2375\n",
        "    sum \u2190 +/inverses\n",
        "    \u00f7sum\n",
        "}"
      ]
    },
    {
      "cell_type": "markdown",
      "metadata": {},
      "source": [
        "Now that we know how to compute the harmonic mean of a vector of numbers, we just have to ***fix*** it so that we can use it in our session. ***Fixing*** a function is somewhat analogous to compilation in other programming languages, but can also be seen as a sort of \"File save\" followed by an \"import\" in interpreted languages. There are many ways to fix a function:\n",
        "\n",
        "| Interpreter | *Fix* method |\n",
        "| :- | :- |\n",
        "| Windows interpreter | go to \"File\" &#8680; \"Fix\" |\n",
        "| RIDE | right-click the edit window &#8680; \"Fix\" |\n",
        "| both | press <kbd>Esc</kbd> (also closes the edit window) |\n",
        "| both | define a custom keyboard shortcut |\n",
        "\n",
        "Following one of the appropriate methods should make the `HarmonicMean` function available for use in the session window. You can make sure it worked by simply typing in the name of the function and pressing <kbd>Enter</kbd> in the session:"
      ]
    },
    {
      "cell_type": "code",
      "execution_count": 17,
      "metadata": {},
      "outputs": [
        {
          "data": {
            "text/html": [
              "<span style=\"white-space:pre; font-family: monospace\">{                  \n",
              "     inverses\u2190\u00f7\u2375   \n",
              "     sum\u2190+/inverses\n",
              "     \u00f7sum          \n",
              " }                 \n",
              "</span>"
            ]
          },
          "execution_count": 17,
          "metadata": {},
          "output_type": "execute_result"
        }
      ],
      "source": [
        "HarmonicMean"
      ]
    },
    {
      "cell_type": "markdown",
      "metadata": {},
      "source": [
        "If instead of getting the source code of the function you get a `VALUE ERROR`, then the function wasn't properly fixed.\n",
        "\n",
        "Now that we can compute the harmonic mean of a vector of numbers, we can answer questions like the following:\n",
        "\n",
        "\"*If I take 6 hours to paint a wall and you take 2 hours, how much time will we need to paint the wall if we do it together?*\"\n",
        "\n",
        "This type of question can be answered by taking the harmonic mean of the individual times:"
      ]
    },
    {
      "cell_type": "code",
      "execution_count": 18,
      "metadata": {},
      "outputs": [
        {
          "data": {
            "text/html": [
              "<span style=\"white-space:pre; font-family: monospace\">1.5\n",
              "</span>"
            ]
          },
          "execution_count": 18,
          "metadata": {},
          "output_type": "execute_result"
        }
      ],
      "source": [
        "HarmonicMean 6 2"
      ]
    },
    {
      "cell_type": "markdown",
      "metadata": {},
      "source": [
        "So the two of us would take one and a half hours to paint the whole wall.\n",
        "\n",
        "Similarly, if we had further help from two people who could paint the whole wall in 4 and 5 hours, respectively, the four of us would need"
      ]
    },
    {
      "cell_type": "code",
      "execution_count": 19,
      "metadata": {},
      "outputs": [
        {
          "data": {
            "text/html": [
              "<span style=\"white-space:pre; font-family: monospace\">0.895522\n",
              "</span>"
            ]
          },
          "execution_count": 19,
          "metadata": {},
          "output_type": "execute_result"
        }
      ],
      "source": [
        "times \u2190 6 2 4 5\n",
        "\u22a2hours \u2190 HarmonicMean times"
      ]
    },
    {
      "cell_type": "markdown",
      "metadata": {},
      "source": [
        "hours, or approximately"
      ]
    },
    {
      "cell_type": "code",
      "execution_count": 20,
      "metadata": {},
      "outputs": [
        {
          "data": {
            "text/html": [
              "<span style=\"white-space:pre; font-family: monospace\">53\n",
              "</span>"
            ]
          },
          "execution_count": 20,
          "metadata": {},
          "output_type": "execute_result"
        }
      ],
      "source": [
        "\u230a60\u00d7hours"
      ]
    },
    {
      "cell_type": "markdown",
      "metadata": {},
      "source": [
        "minutes."
      ]
    },
    {
      "cell_type": "markdown",
      "metadata": {},
      "source": [
        "After using your function for a bit you realise it is over-complicated, in the sense that it involves too many intermediate steps and you wish to get rid of those. If your edit window is still open, you can simply edit the function and fix it again. If the edit window was closed, you can type `)ed HarmonicMean` again or you can double-click the name `HarmonicMean` in the session. Both options will open the appropriate edit window.\n",
        "\n",
        "After having done so, perhaps you rewrite your function to"
      ]
    },
    {
      "cell_type": "code",
      "execution_count": 21,
      "metadata": {},
      "outputs": [],
      "source": [
        "]dinput\n",
        "HarmonicMean \u2190 {\n",
        "    inverses \u2190 \u00f7\u2375\n",
        "    \u00f7+/inverses\n",
        "}"
      ]
    },
    {
      "cell_type": "markdown",
      "metadata": {},
      "source": [
        "Then you fix it and use it again a couple of times:"
      ]
    },
    {
      "cell_type": "code",
      "execution_count": 22,
      "metadata": {},
      "outputs": [
        {
          "data": {
            "text/html": [
              "<span style=\"white-space:pre; font-family: monospace\">0.895522\n",
              "</span>"
            ]
          },
          "execution_count": 22,
          "metadata": {},
          "output_type": "execute_result"
        }
      ],
      "source": [
        "HarmonicMean times"
      ]
    },
    {
      "cell_type": "code",
      "execution_count": 23,
      "metadata": {},
      "outputs": [
        {
          "name": "stderr",
          "output_type": "stream",
          "text": [
            "DOMAIN ERROR: Divide by zero\n",
            "HarmonicMean[1] inverses\u2190\u00f7\u2375\n",
            "                         \u2227\n"
          ]
        }
      ],
      "source": [
        "HarmonicMean 4 3 2 1 0"
      ]
    },
    {
      "cell_type": "markdown",
      "metadata": {},
      "source": [
        "But now it resulted in an error, and the error messages says `HarmonicMean[1] inverses\u2190\u00f7\u2375`. This `HarmonicMean[1]` means the error was in line 1 of the `HarmonicMean` function. Right next to it, it also shows the part of the code that caused the error, but suppose you had a really long file, perhaps with multiple functions. How would you find the appropriate line in the first place?\n",
        "\n",
        "Thankfully, both RIDE and the Windows interpreter have an option that can be set to display line numbers (cf. {numref}`fig-Win_Editor_Toggle_Line_Numbers` and {numref}`fig-RIDE_Editor_Toggle_Line_Numbers`).\n",
        "\n",
        "(fig-Win_Editor_Toggle_Line_Numbers)=\n",
        "```{figure} res/Win_Editor_Toggle_Line_Numbers.png\n",
        "---\n",
        "name: Win_Editor_Toggle_Line_Numbers\n",
        "---\n",
        "Option to toggle line numbers in RIDE (to the right) and the Windows interpreter (to the left).\n",
        "```\n",
        "\n",
        "(fig-RIDE_Editor_Toggle_Line_Numbers)=\n",
        "```{figure} res/RIDE_Editor_Toggle_Line_Numbers.png\n",
        "---\n",
        "name: RIDE_Editor_Toggle_Line_Numbers\n",
        "---\n",
        "Option to toggle line numbers in RIDE, currently OFF.\n",
        "```\n"
      ]
    },
    {
      "cell_type": "markdown",
      "metadata": {},
      "source": [
        "Different people like to comment their code in different ways, and naturally dfns can be commented. For illustrative purposes, consider the dfn that follows, which has comments before any statement, inline with some statements, between the statements and at the end of the dfn:"
      ]
    },
    {
      "cell_type": "code",
      "execution_count": 24,
      "metadata": {},
      "outputs": [],
      "source": [
        "]dinput\n",
        "HarmonicMean \u2190 {\n",
        "    \u235d Monadic function to compute the harmonic mean of a vector\n",
        "    inverses \u2190 \u00f7\u2375   \u235d This inverts the numbers in the argument\n",
        "    \u235d and then\n",
        "    \u00f7+/inverses     \u235d we sum those inverses and return them.\n",
        "    \u235d Of course this will give an error if 0 is in the input argument.\n",
        "}"
      ]
    },
    {
      "cell_type": "markdown",
      "metadata": {},
      "source": [
        "The comments do *not* affect the behaviour of the function:"
      ]
    },
    {
      "cell_type": "code",
      "execution_count": 25,
      "metadata": {},
      "outputs": [
        {
          "data": {
            "text/html": [
              "<span style=\"white-space:pre; font-family: monospace\">0.895522\n",
              "</span>"
            ]
          },
          "execution_count": 25,
          "metadata": {},
          "output_type": "execute_result"
        }
      ],
      "source": [
        "HarmonicMean times"
      ]
    },
    {
      "cell_type": "markdown",
      "metadata": {},
      "source": [
        "(User-Defined-Functions-Local-Variables)=\n",
        "### Local Variables\n",
        "\n",
        "Notice that our `HarmonicMean` function makes use of an intermediate variable, `inverses`. Let us check its value:"
      ]
    },
    {
      "cell_type": "code",
      "execution_count": 26,
      "metadata": {},
      "outputs": [
        {
          "name": "stderr",
          "output_type": "stream",
          "text": [
            "VALUE ERROR: Undefined name: inverses\n",
            "      inverses\n",
            "      \u2227\n"
          ]
        }
      ],
      "source": [
        "inverses"
      ]
    },
    {
      "cell_type": "markdown",
      "metadata": {},
      "source": [
        "We got a `VALUE ERROR` because `inverses` isn't defined. It is a ***local variable***, that is, a variable that lives within the dfn only while the dfn is being executed. As soon as we exit the dfn the variable stops existing.\n",
        "\n",
        "The notion of *local* variable is opposed to the notion of ***global variable***, which is a variable that lives in the session and thus can be accessed from anywhere. Useful global variables are functions themselves, because defining them globally means they can be used from within other functions.\n",
        "\n",
        "As an example, we already defined the functions `Average` and `HarmonicMean` in the session. Let us now define a dfn named `AMHM` that checks empirically a mathematical theorem: that the arithmetic mean is always larger than or equal to the harmonic mean of a set of numbers:"
      ]
    },
    {
      "cell_type": "code",
      "execution_count": 27,
      "metadata": {},
      "outputs": [],
      "source": [
        "]dinput\n",
        "AMHM \u2190 {\n",
        "    am \u2190 Average \u2375\n",
        "    hm \u2190 HarmonicMean \u2375\n",
        "    am \u2265 hm\n",
        "}"
      ]
    },
    {
      "cell_type": "code",
      "execution_count": 28,
      "metadata": {},
      "outputs": [
        {
          "data": {
            "text/html": [
              "<span style=\"white-space:pre; font-family: monospace\">1\n",
              "</span>"
            ]
          },
          "execution_count": 28,
          "metadata": {},
          "output_type": "execute_result"
        }
      ],
      "source": [
        "AMHM \u23736"
      ]
    },
    {
      "cell_type": "code",
      "execution_count": 29,
      "metadata": {},
      "outputs": [
        {
          "data": {
            "text/html": [
              "<span style=\"white-space:pre; font-family: monospace\">1\n",
              "</span>"
            ]
          },
          "execution_count": 29,
          "metadata": {},
          "output_type": "execute_result"
        }
      ],
      "source": [
        "AMHM times"
      ]
    },
    {
      "cell_type": "markdown",
      "metadata": {},
      "source": [
        "Notice how the definition of `AMHM` uses both the `Average` and `HarmonicMean` dfns without defining them inside `AMHM`. This works because they were previously defined in the session.\n",
        "\n",
        "For larger applications, proper source code management is needed and you should make sure the functions `Average` and `HarmonicMean` have been fixed when you use them inside `AMHM`, but that is a concern for later."
      ]
    },
    {
      "cell_type": "markdown",
      "metadata": {},
      "source": [
        "(User-Defined-Functions-Default-Left-Argument)=\n",
        "### Default Left Argument\n",
        "\n",
        "It was mentioned above that the values of `\u237a` and `\u2375`, the variables that represent the arguments to a dfn, cannot be assigned to. The only exception to this is when specifying a default left argument. This is relevant because a dyadic dfn can always be used monadically, as from the syntactic point of view its left argument `\u237a` is always optional. If the left argument is not present it is possible to assign a default value to `\u237a` by means of a normal assignment. If `\u237a` is given a value because the dfn was called dyadically, such assignment is skipped.\n",
        "\n",
        "Consider a function which calculates the nth root of a number, but which is normally used to calculate square roots. You can specify that the default value of the left argument (when omitted) is 2, as follows:"
      ]
    },
    {
      "cell_type": "code",
      "execution_count": 68,
      "metadata": {},
      "outputs": [],
      "source": [
        "]dinput\n",
        "Root \u2190 {\n",
        "    \u237a \u2190 2\n",
        "    \u2375*\u00f7\u237a\n",
        "}"
      ]
    },
    {
      "cell_type": "markdown",
      "metadata": {},
      "source": [
        "If we don't specify the left argument of `Root`, it computes the square root. `Root` is thus said to be an ambivalent function, because it can be used both monadically and dyadically (cf. {numref}`User-Defined-Functions-Ambivalent-Functions`)."
      ]
    },
    {
      "cell_type": "code",
      "execution_count": 31,
      "metadata": {},
      "outputs": [
        {
          "data": {
            "text/html": [
              "<span style=\"white-space:pre; font-family: monospace\">25\n",
              "</span>"
            ]
          },
          "execution_count": 31,
          "metadata": {},
          "output_type": "execute_result"
        }
      ],
      "source": [
        "Root 625"
      ]
    },
    {
      "cell_type": "markdown",
      "metadata": {},
      "source": [
        "But if we specify `\u237a`, then the `\u237a \u2190 2` assignment is skipped:"
      ]
    },
    {
      "cell_type": "code",
      "execution_count": 32,
      "metadata": {},
      "outputs": [
        {
          "data": {
            "text/html": [
              "<span style=\"white-space:pre; font-family: monospace\">5\n",
              "</span>"
            ]
          },
          "execution_count": 32,
          "metadata": {},
          "output_type": "execute_result"
        }
      ],
      "source": [
        "4 Root 625"
      ]
    },
    {
      "cell_type": "markdown",
      "metadata": {},
      "source": [
        "Because the assignment with `\u237a\u2190` is skipped entirely if `\u237a` was provided, you should be careful with any side effects the expression to the right of `\u237a\u2190` might produce. We illustrate this with the following (silly) example:"
      ]
    },
    {
      "cell_type": "code",
      "execution_count": 33,
      "metadata": {},
      "outputs": [],
      "source": [
        "]dinput\n",
        "Silly \u2190 {\n",
        "    a \u2190 1        \u235d This assignment always happens\n",
        "    \u237a \u2190 a \u2190 2    \u235d Not executed if \u237a already has a value\n",
        "    a            \u235d Return a\n",
        "}"
      ]
    },
    {
      "cell_type": "code",
      "execution_count": 34,
      "metadata": {},
      "outputs": [
        {
          "data": {
            "text/html": [
              "<span style=\"white-space:pre; font-family: monospace\">2\n",
              "</span>"
            ]
          },
          "execution_count": 34,
          "metadata": {},
          "output_type": "execute_result"
        }
      ],
      "source": [
        "Silly 0"
      ]
    },
    {
      "cell_type": "markdown",
      "metadata": {},
      "source": [
        "Because we didn't provide a left argument, the `\u237a \u2190 a \u2190 2` line is executed and `a` becomes 2.\n",
        "\n",
        "On the other hand, if we provide a left argument the `\u237a \u2190 a \u2190 2` line is skipped and `a` remains 1:"
      ]
    },
    {
      "cell_type": "code",
      "execution_count": 35,
      "metadata": {},
      "outputs": [
        {
          "data": {
            "text/html": [
              "<span style=\"white-space:pre; font-family: monospace\">1\n",
              "</span>"
            ]
          },
          "execution_count": 35,
          "metadata": {},
          "output_type": "execute_result"
        }
      ],
      "source": [
        "0 Silly 0"
      ]
    },
    {
      "cell_type": "markdown",
      "metadata": {},
      "source": [
        "As for `\u2375`, attempting to assign to `\u2375` makes no sense: a dfn is always called monadically *or* dyadically, so the right argument is *always* present. Here's a function that computes the square root of `\u2375`, except that first it tries to assign 10 to `\u2375`:"
      ]
    },
    {
      "cell_type": "code",
      "execution_count": 36,
      "metadata": {},
      "outputs": [],
      "source": [
        "]dinput\n",
        "RootOf10 \u2190 {\n",
        "    \u2375 \u2190 10\n",
        "    \u2375*0.5\n",
        "}"
      ]
    },
    {
      "cell_type": "markdown",
      "metadata": {},
      "source": [
        "Simply typing the name of the function shows its code:"
      ]
    },
    {
      "cell_type": "code",
      "execution_count": 37,
      "metadata": {},
      "outputs": [
        {
          "data": {
            "text/html": [
              "<span style=\"white-space:pre; font-family: monospace\">{         \n",
              "     \u2375\u219010 \n",
              "     \u2375*0.5\n",
              " }        \n",
              "</span>"
            ]
          },
          "execution_count": 37,
          "metadata": {},
          "output_type": "execute_result"
        }
      ],
      "source": [
        "RootOf10"
      ]
    },
    {
      "cell_type": "markdown",
      "metadata": {},
      "source": [
        "And calling it monadically raises an error:"
      ]
    },
    {
      "cell_type": "code",
      "execution_count": 38,
      "metadata": {},
      "outputs": [
        {
          "name": "stderr",
          "output_type": "stream",
          "text": [
            "SYNTAX ERROR\n",
            "RootOf10[1] \u2375\u219010\n",
            "             \u2227\n"
          ]
        }
      ],
      "source": [
        "RootOf10 5"
      ]
    },
    {
      "cell_type": "markdown",
      "metadata": {},
      "source": [
        "(User-Defined-Functions-Returning-the-Result)=\n",
        "### Returning the Result\n",
        "\n",
        "We mentioned above that a dfn executes its statements until the first statement that does not assign its value. Here is a curious dfn with 4 statements:"
      ]
    },
    {
      "cell_type": "code",
      "execution_count": 39,
      "metadata": {},
      "outputs": [],
      "source": [
        "]dinput\n",
        "Count \u2190 {\n",
        "    1\n",
        "    2\n",
        "    3\n",
        "    10\u00f70\n",
        "}"
      ]
    },
    {
      "cell_type": "markdown",
      "metadata": {},
      "source": [
        "Notice that all four statements are simple. If we run `Count`, what will the result be?"
      ]
    },
    {
      "cell_type": "code",
      "execution_count": 40,
      "metadata": {},
      "outputs": [
        {
          "data": {
            "text/html": [
              "<span style=\"white-space:pre; font-family: monospace\">1\n",
              "</span>"
            ]
          },
          "execution_count": 40,
          "metadata": {},
          "output_type": "execute_result"
        }
      ],
      "source": [
        "Count 73"
      ]
    },
    {
      "cell_type": "markdown",
      "metadata": {},
      "source": [
        "The result we get is 1 because the first statement evaluates to 1 (obviously) and then we do nothing with it, so that is what the dfn returns. It doesn't matter what we wrote afterwards and it doesn't even matter that the very last statement would give a `DOMAIN ERROR`.\n",
        "\n",
        "These superfluous statements should be avoided, as they will sooner or later cause unnecessary confusion.\n",
        "\n",
        "As a basic debugging tool, it is possible to modify statements to display intermediate results:"
      ]
    },
    {
      "cell_type": "code",
      "execution_count": 41,
      "metadata": {},
      "outputs": [],
      "source": [
        "]dinput\n",
        "Count \u2190 {\n",
        "    \u2395\u21901\n",
        "    \u2395\u21902\n",
        "    \u2395\u21903\n",
        "    10\u00f70\n",
        "}"
      ]
    },
    {
      "cell_type": "code",
      "execution_count": 42,
      "metadata": {},
      "outputs": [
        {
          "name": "stderr",
          "output_type": "stream",
          "text": [
            "1\n",
            "2\n",
            "3\n",
            "DOMAIN ERROR: Divide by zero\n",
            "Count[4] 10\u00f70\n",
            "           \u2227\n"
          ]
        }
      ],
      "source": [
        "Count 73"
      ]
    },
    {
      "cell_type": "markdown",
      "metadata": {},
      "source": [
        "Be careful: by using `\u2395\u2190` to display intermediate results, suddenly we are doing _something_ with the superfluous statements and they are all being executed (we even reached the error statement).\n",
        "\n",
        "And even if we remove the statement that gives an error, the function will still return something other than the original 1:"
      ]
    },
    {
      "cell_type": "code",
      "execution_count": 43,
      "metadata": {},
      "outputs": [],
      "source": [
        "]dinput\n",
        "Count \u2190 {\n",
        "    \u2395\u21901\n",
        "    \u2395\u21902\n",
        "    3\n",
        "}"
      ]
    },
    {
      "cell_type": "code",
      "execution_count": 44,
      "metadata": {},
      "outputs": [
        {
          "data": {
            "text/html": [
              "<span style=\"white-space:pre; font-family: monospace\">1\n",
              "2\n",
              "3\n",
              "</span>"
            ]
          },
          "execution_count": 44,
          "metadata": {},
          "output_type": "execute_result"
        }
      ],
      "source": [
        "Count 73"
      ]
    },
    {
      "cell_type": "markdown",
      "metadata": {},
      "source": [
        "Now the function returned 3 instead of 1! So always be careful with which statement is actually giving the final result and avoid any extraneous statements."
      ]
    },
    {
      "cell_type": "markdown",
      "metadata": {},
      "source": [
        "(User-Defined-Functions-Exercises-on-Dfns)=\n",
        "## Exercises on Dfns\n",
        "\n",
        "You are ready to solve simple problems. We **strongly recommend** that you try to solve all the following exercises before you continue further in this chapter.\n",
        "\n",
        "**Exercise 1**:\n",
        "\n",
        "Write a dyadic function `Extract` which returns the first `\u237a` items of any given vector `\u2375`."
      ]
    },
    {
      "cell_type": "code",
      "execution_count": 45,
      "metadata": {},
      "outputs": [],
      "source": [
        "Extract \u2190 {}\n",
        "3 Extract 45 86 31 20 75 62 18  \u235d 45 86 31\n",
        "6 Extract 'can you do it?'      \u235d 'can yo'"
      ]
    },
    {
      "cell_type": "markdown",
      "metadata": {},
      "source": [
        "**Exercise 2**:\n",
        "\n",
        "Write a dyadic function which ignores the first `\u237a` items of any given vector `\u2375` and only returns the remainder:"
      ]
    },
    {
      "cell_type": "code",
      "execution_count": 46,
      "metadata": {},
      "outputs": [],
      "source": [
        "Ignore \u2190 {}\n",
        "3 Ignore 45 86 31 20 75 62 18   \u235d 20 75 62 18\n",
        "6 Ignore 'can you do it?'       \u235d 'u do it?'"
      ]
    },
    {
      "cell_type": "markdown",
      "metadata": {},
      "source": [
        "**Exercise 3**:\n",
        "\n",
        "Write a monadic function which returns the items of a vector in reverse order:"
      ]
    },
    {
      "cell_type": "code",
      "execution_count": 45,
      "metadata": {},
      "outputs": [],
      "source": [
        "Reverse \u2190 {}\n",
        "Reverse 'snoitalutargnoc'       \u235d 'congratulations'\n",
        "Reverse '!ti did uoY'           \u235d 'You did it!'"
      ]
    },
    {
      "cell_type": "markdown",
      "metadata": {},
      "source": [
        "**Exercise 4**:\n",
        "\n",
        "Write a monadic function which appends row and column totals to a numeric matrix.\n",
        "\n",
        "For example, if `mat` is the matrix"
      ]
    },
    {
      "cell_type": "code",
      "execution_count": 46,
      "metadata": {},
      "outputs": [
        {
          "data": {
            "text/html": [
              "<span style=\"white-space:pre; font-family: monospace\">75 14 86 20\n",
              "31 16 40 51\n",
              "22 64 31 28\n",
              "</span>"
            ]
          },
          "execution_count": 46,
          "metadata": {},
          "output_type": "execute_result"
        }
      ],
      "source": [
        "\u22a2mat \u2190 3 4\u237475 14 86 20 31 16 40 51 22 64 31 28"
      ]
    },
    {
      "cell_type": "markdown",
      "metadata": {},
      "source": [
        "Then `Totalise mat` should give"
      ]
    },
    {
      "cell_type": "code",
      "execution_count": 47,
      "metadata": {},
      "outputs": [
        {
          "data": {
            "text/html": [
              "<span style=\"white-space:pre; font-family: monospace\"> 75 14  86 20 195\n",
              " 31 16  40 51 138\n",
              " 22 64  31 28 145\n",
              "128 94 157 99 478\n",
              "</span>"
            ]
          },
          "execution_count": 47,
          "metadata": {},
          "output_type": "execute_result"
        }
      ],
      "source": [
        "\u22a2totMat \u2190 4 5\u237475 14 86 20 195 31 16 40 51 138 22 64 31 28 145 128 94 157 99 478"
      ]
    },
    {
      "cell_type": "markdown",
      "metadata": {},
      "source": [
        "Notice that `mat` occupies the upper left corner of `totMat`:"
      ]
    },
    {
      "cell_type": "code",
      "execution_count": 48,
      "metadata": {},
      "outputs": [
        {
          "data": {
            "text/html": [
              "<span style=\"white-space:pre; font-family: monospace\">1 1 1 1 0\n",
              "1 1 1 1 0\n",
              "1 1 1 1 0\n",
              "0 0 0 0 0\n",
              "</span>"
            ]
          },
          "execution_count": 48,
          "metadata": {},
          "output_type": "execute_result"
        }
      ],
      "source": [
        "totMat \u220a mat"
      ]
    },
    {
      "cell_type": "markdown",
      "metadata": {},
      "source": [
        "**Exercise 5**:\n",
        "\n",
        "Write a monadic function which returns the lengths of the words contained in a text vector:"
      ]
    },
    {
      "cell_type": "code",
      "execution_count": 49,
      "metadata": {},
      "outputs": [],
      "source": [
        "Lengths \u2190 {}\n",
        "Lengths 'This seems to be a good solution'    \u235d 4 5 2 2 1 4 8"
      ]
    },
    {
      "cell_type": "markdown",
      "metadata": {},
      "source": [
        "**Exercise 6**:\n",
        "\n",
        "Write a dyadic function which produces the series of integer values between the limits given by its two arguments:"
      ]
    },
    {
      "cell_type": "code",
      "execution_count": 50,
      "metadata": {},
      "outputs": [],
      "source": [
        "To \u2190 {}\n",
        "17 To 29    \u235d 17 18 19 20 21 22 23 24 25 26 27 28 29"
      ]
    },
    {
      "cell_type": "markdown",
      "metadata": {},
      "source": [
        "**Exercise 7**:\n",
        "\n",
        "Develop a monadic function which puts a frame around a text matrix. For the first version, just concatenate minus signs above and under the matrix, and vertical bars down both sides. Then, update the function to replace the four corners by four `+` signs. For example, with"
      ]
    },
    {
      "cell_type": "code",
      "execution_count": 51,
      "metadata": {},
      "outputs": [
        {
          "data": {
            "text/html": [
              "<span style=\"white-space:pre; font-family: monospace\">Canberra  \n",
              "Paris     \n",
              "Washington\n",
              "Moscow    \n",
              "Martigues \n",
              "Mexico    \n",
              "</span>"
            ]
          },
          "execution_count": 51,
          "metadata": {},
          "output_type": "execute_result"
        }
      ],
      "source": [
        "\u22a2towns \u2190 6 10\u2374'Canberra  Paris     WashingtonMoscow    Martigues Mexico    '"
      ]
    },
    {
      "cell_type": "markdown",
      "metadata": {},
      "source": [
        "we want to have `Frame towns` return\n",
        "\n",
        "```\n",
        "+----------+\n",
        "|Canberra  |\n",
        "|Paris     |\n",
        "|Washington|\n",
        "|Moscow    |\n",
        "|Martigues |\n",
        "|Mexico    |\n",
        "+----------+\n",
        "```\n",
        "\n",
        "Finally, you can improve the appearance of the result by changing the function to use line-drawing symbols. You enter line-drawing symbols by using `\u2395UCS`, a *system function* that converts characters to integers and vice-versa: the horizontal and vertical lines are"
      ]
    },
    {
      "cell_type": "code",
      "execution_count": 54,
      "metadata": {},
      "outputs": [
        {
          "data": {
            "text/html": [
              "<span style=\"white-space:pre; font-family: monospace\">\u2500\u2502\n",
              "</span>"
            ]
          },
          "execution_count": 54,
          "metadata": {},
          "output_type": "execute_result"
        }
      ],
      "source": [
        "\u2395UCS 9472 9474"
      ]
    },
    {
      "cell_type": "markdown",
      "metadata": {},
      "source": [
        "and the four corners are"
      ]
    },
    {
      "cell_type": "code",
      "execution_count": 55,
      "metadata": {},
      "outputs": [
        {
          "data": {
            "text/html": [
              "<span style=\"white-space:pre; font-family: monospace\">\u250c\u2510\u2514\u2518\n",
              "</span>"
            ]
          },
          "execution_count": 55,
          "metadata": {},
          "output_type": "execute_result"
        }
      ],
      "source": [
        "\u2395UCS 9484 9488 9492 9496"
      ]
    },
    {
      "cell_type": "markdown",
      "metadata": {},
      "source": [
        "Correspondingly, applying `\u2395UCS` to those characters yields the original integers:"
      ]
    },
    {
      "cell_type": "code",
      "execution_count": 1,
      "metadata": {},
      "outputs": [
        {
          "data": {
            "text/html": [
              "<span style=\"white-space:pre; font-family: monospace\">9472 9474 9484 9488 9492 9496\n",
              "</span>"
            ]
          },
          "execution_count": 1,
          "metadata": {},
          "output_type": "execute_result"
        }
      ],
      "source": [
        "\u2395UCS '\u2500\u2502\u250c\u2510\u2514\u2518'"
      ]
    },
    {
      "cell_type": "markdown",
      "metadata": {},
      "source": [
        "The final result, using the line-drawing symbols, should look like"
      ]
    },
    {
      "cell_type": "code",
      "execution_count": 54,
      "metadata": {},
      "outputs": [],
      "source": [
        "\u235d \u250c\u2500\u2500\u2500\u2500\u2500\u2500\u2500\u2500\u2500\u2500\u2510\n",
        "\u235d \u2502Canberra  \u2502\n",
        "\u235d \u2502Paris     \u2502\n",
        "\u235d \u2502Washington\u2502\n",
        "\u235d \u2502Moscow    \u2502\n",
        "\u235d \u2502Martigues \u2502\n",
        "\u235d \u2502Mexico    \u2502\n",
        "\u235d \u2514\u2500\u2500\u2500\u2500\u2500\u2500\u2500\u2500\u2500\u2500\u2518"
      ]
    },
    {
      "cell_type": "markdown",
      "metadata": {},
      "source": [
        "**Exercise 8**:\n",
        "\n",
        "It is very likely that the function you wrote for the previous exercise works on matrices but not on vectors. Can you make it work on both?\n",
        "\n",
        "For example, `Frame 'We are not out of the wood'` should give"
      ]
    },
    {
      "cell_type": "code",
      "execution_count": 55,
      "metadata": {},
      "outputs": [],
      "source": [
        "\u235d \u250c\u2500\u2500\u2500\u2500\u2500\u2500\u2500\u2500\u2500\u2500\u2500\u2500\u2500\u2500\u2500\u2500\u2500\u2500\u2500\u2500\u2500\u2500\u2500\u2500\u2500\u2500\u2510\n",
        "\u235d \u2502We are not out of the wood\u2502\n",
        "\u235d \u2514\u2500\u2500\u2500\u2500\u2500\u2500\u2500\u2500\u2500\u2500\u2500\u2500\u2500\u2500\u2500\u2500\u2500\u2500\u2500\u2500\u2500\u2500\u2500\u2500\u2500\u2500\u2518"
      ]
    },
    {
      "cell_type": "markdown",
      "metadata": {},
      "source": [
        "**Exercise 9**:\n",
        "\n",
        "Write a function which replaces a given letter by another one in a text vector. The letter to replace is given first; the replacing letter is given second, like this:"
      ]
    },
    {
      "cell_type": "code",
      "execution_count": 56,
      "metadata": {},
      "outputs": [],
      "source": [
        "Switch1 \u2190 {}\n",
        "'tc' Switch1 'A bird in the hand is worth two in the bush'\n",
        "\u235d A bird in che hand is worch cwo in che bush"
      ]
    },
    {
      "cell_type": "markdown",
      "metadata": {},
      "source": [
        "**Exercise 10**:\n",
        "\n",
        "Modify the previous function so that it commutes the two letters:"
      ]
    },
    {
      "cell_type": "code",
      "execution_count": 57,
      "metadata": {},
      "outputs": [],
      "source": [
        "Switch2 \u2190 {}\n",
        "'ei' Switch2 'A bird in the hand is worth two in the bush'\n",
        "\u235d A berd en thi hand es worth two en thi bush"
      ]
    },
    {
      "cell_type": "markdown",
      "metadata": {},
      "source": [
        "(User-Defined-Functions-Dfns-in-Depth)=\n",
        "## Dfns in Depth\n",
        "\n",
        "In this section we will cover a couple of more advanced subtleties about dfns, and then we will move on to learn about tradfns."
      ]
    },
    {
      "cell_type": "markdown",
      "metadata": {},
      "source": [
        "(User-Defined-Functions-Guards)=\n",
        "### Guards\n",
        "\n",
        "Previously we said that control structures cannot be used in dfns. However, it is possible to have a dfn conditionally calculate a result, by using a ***Guard***.\n",
        "\n",
        "A *guard* is any expression which generates a one-item Boolean result, followed by a colon.\n",
        "\n",
        "The expression placed to the right of a *guard* is executed only if the *guard* is true. In a dfn, this looks like `guard: expr` and works similarly to a\n",
        "\n",
        "```c\n",
        "if (guard) {\n",
        "    return expr;\n",
        "}\n",
        "```\n",
        "\n",
        "of some popular programming languages.\n",
        "\n",
        "For example, this function will give a result equal to `'Positive'`, `'Zero'` or `'Negative'` if the argument `\u2375` is respectively greater than, equal to, or smaller than zero:"
      ]
    },
    {
      "cell_type": "code",
      "execution_count": 1,
      "metadata": {},
      "outputs": [],
      "source": [
        "]dinput\n",
        "Sign \u2190 {\n",
        "    \u2375>0: 'Positive'\n",
        "    \u2375=0: 'Zero'\n",
        "    'Negative'\n",
        "}"
      ]
    },
    {
      "cell_type": "code",
      "execution_count": 2,
      "metadata": {},
      "outputs": [
        {
          "data": {
            "text/html": [
              "<span style=\"white-space:pre; font-family: monospace\">Positive\n",
              "</span>"
            ]
          },
          "execution_count": 2,
          "metadata": {},
          "output_type": "execute_result"
        }
      ],
      "source": [
        "Sign 3"
      ]
    },
    {
      "cell_type": "code",
      "execution_count": 3,
      "metadata": {},
      "outputs": [
        {
          "data": {
            "text/html": [
              "<span style=\"white-space:pre; font-family: monospace\">Negative\n",
              "</span>"
            ]
          },
          "execution_count": 3,
          "metadata": {},
          "output_type": "execute_result"
        }
      ],
      "source": [
        "Sign \u00af3.6"
      ]
    },
    {
      "cell_type": "code",
      "execution_count": 4,
      "metadata": {},
      "outputs": [
        {
          "data": {
            "text/html": [
              "<span style=\"white-space:pre; font-family: monospace\">Zero\n",
              "</span>"
            ]
          },
          "execution_count": 4,
          "metadata": {},
          "output_type": "execute_result"
        }
      ],
      "source": [
        "Sign 0"
      ]
    },
    {
      "cell_type": "markdown",
      "metadata": {},
      "source": [
        "(User-Defined-Functions-Shy-Result)=\n",
        "### Shy Result\n",
        "\n",
        "Dfns can be written in such a way that they return a ***Shy result***. A *shy result* is a result which is returned, but not displayed by default.\n",
        "\n",
        "Consider a function which deletes a file from disk and returns a result equal to 1 (file deleted) or 0 (file not found). Usually, one doesn't care if the file did not exist, so the result is not needed. But sometimes it may be important to check whether the file really existed and has been removed. So, sometimes a result is useless and sometimes it is useful... this is the reason why shy results have been invented.\n",
        "\n",
        "In a dfn, a shy result happens when the last expression that is evaluated is assigned to a (local) name, as opposed to just leaving the result of the expression unassigned. For this to happen, one has to be careful to leave the closing curly brace `}` next to that final statement, instead of having `}` alone in a new line.\n",
        "\n",
        "Here is the function above, written without guards and with a shy result:"
      ]
    },
    {
      "cell_type": "code",
      "execution_count": 1,
      "metadata": {},
      "outputs": [],
      "source": [
        "Sign \u2190 { s \u2190 (3 8\u2374'NegativeZero    Positive')[2+\u00d7\u2375;] }"
      ]
    },
    {
      "cell_type": "code",
      "execution_count": 2,
      "metadata": {},
      "outputs": [],
      "source": [
        "Sign 3"
      ]
    },
    {
      "cell_type": "code",
      "execution_count": 3,
      "metadata": {},
      "outputs": [],
      "source": [
        "Sign \u00af3.6"
      ]
    },
    {
      "cell_type": "code",
      "execution_count": 4,
      "metadata": {},
      "outputs": [
        {
          "data": {
            "text/html": [
              "<span style=\"white-space:pre; font-family: monospace\">Zero    \n",
              "</span>"
            ]
          },
          "execution_count": 4,
          "metadata": {},
          "output_type": "execute_result"
        }
      ],
      "source": [
        "\u2395\u2190 Sign 0"
      ]
    },
    {
      "cell_type": "markdown",
      "metadata": {},
      "source": [
        "Notice what happens if we were to format `Sign` as we have formatted previous dfns:"
      ]
    },
    {
      "cell_type": "code",
      "execution_count": 5,
      "metadata": {},
      "outputs": [],
      "source": [
        "]dinput\n",
        "Sign \u2190 {\n",
        "    s \u2190 (3 8\u2374'NegativeZero    Positive')[2+\u00d7\u2375;]\n",
        "}"
      ]
    },
    {
      "cell_type": "code",
      "execution_count": 6,
      "metadata": {},
      "outputs": [],
      "source": [
        "Sign 3"
      ]
    },
    {
      "cell_type": "code",
      "execution_count": 7,
      "metadata": {},
      "outputs": [],
      "source": [
        "Sign \u00af3.6"
      ]
    },
    {
      "cell_type": "code",
      "execution_count": 8,
      "metadata": {},
      "outputs": [
        {
          "name": "stderr",
          "output_type": "stream",
          "text": [
            "VALUE ERROR: No result was provided when the context expected one\n",
            "      \u2395\u2190Sign 0\n",
            "        \u2227\n"
          ]
        }
      ],
      "source": [
        "\u2395\u2190 Sign 0"
      ]
    },
    {
      "cell_type": "markdown",
      "metadata": {},
      "source": [
        "The `VALUE ERROR` we get above is a very subtle error. Because the `s \u2190 ...` statement is an assignment, when executing the `Sign` dfn the interpreter goes on to execute the expression on the next line, but the next line has *no* expression and so the interpreter raises a `VALUE ERROR`. If we want to have a shy result on a multi-line dfn, we *must* have the final curly brace on the same line as the final statement."
      ]
    },
    {
      "cell_type": "markdown",
      "metadata": {},
      "source": [
        "(User-Defined-Functions-Lexical-Scoping)=\n",
        "### Lexical Scoping\n",
        "\n",
        "***Lexical scoping*** (also referred to as ***static scoping***) is the mechanism that turns local and global variables into relative notions that depend on the context in which dfns were defined: dfns usually have access to global variables, but the variables that are \"global\" depend on where the dfn was written.\n",
        "\n",
        "As a purely illustrative example, consider the function defined below:"
      ]
    },
    {
      "cell_type": "code",
      "execution_count": 9,
      "metadata": {},
      "outputs": [],
      "source": [
        "]dinput\n",
        "MultiplyBy10\u2190 {\n",
        "    v \u2190 10            \u235d define some variable\n",
        "    TimesV \u2190 {v\u00d7\u2375}    \u235d multiply something with v\n",
        "    TimesV \u2375\n",
        "}"
      ]
    },
    {
      "cell_type": "code",
      "execution_count": 10,
      "metadata": {},
      "outputs": [
        {
          "data": {
            "text/html": [
              "<span style=\"white-space:pre; font-family: monospace\">50\n",
              "</span>"
            ]
          },
          "execution_count": 10,
          "metadata": {},
          "output_type": "execute_result"
        }
      ],
      "source": [
        "MultiplyBy10 5"
      ]
    },
    {
      "cell_type": "code",
      "execution_count": 11,
      "metadata": {},
      "outputs": [
        {
          "data": {
            "text/html": [
              "<span style=\"white-space:pre; font-family: monospace\">100\n",
              "</span>"
            ]
          },
          "execution_count": 11,
          "metadata": {},
          "output_type": "execute_result"
        }
      ],
      "source": [
        "MultiplyBy10 10"
      ]
    },
    {
      "cell_type": "markdown",
      "metadata": {},
      "source": [
        "Notice how the `MultiplyBy10` function takes your input and gives it to the `TimesV` function, which is defined as a function that \"*takes its input (`\u2375`) and multiplies it with `v`*\". But what is `v`? We do not give a value to `v` inside `TimesV`, so when APL encounters the expression `v\u00d7\u2375` it looks at its surroundings for the meaning of `v`. Because `v` was defined in the enclosing dfn as `v \u2190 10`, that is the value that is used.\n",
        "\n",
        "Consider now a similar example, but with more occurrences of the variable `v`:"
      ]
    },
    {
      "cell_type": "code",
      "execution_count": 12,
      "metadata": {},
      "outputs": [],
      "source": [
        "v \u2190 100          \u235d (1)"
      ]
    },
    {
      "cell_type": "code",
      "execution_count": 13,
      "metadata": {},
      "outputs": [],
      "source": [
        "]dinput\n",
        "MultiplyBy10 \u2190 {\n",
        "    GiveMeV \u2190 {\n",
        "        v\n",
        "    }\n",
        "    \u2395\u2190 v         \u235d (3)\n",
        "    \u2395\u2190 GiveMeV 1 \u235d (4)\n",
        "    v \u2190 10       \u235d (5)\n",
        "    \u2395\u2190 v         \u235d (6)\n",
        "    \u2395\u2190 GiveMeV 1 \u235d (7)\n",
        "    v \u2190 10\u00d7\u2375     \u235d (8)\n",
        "    v\n",
        "}"
      ]
    },
    {
      "cell_type": "code",
      "execution_count": 14,
      "metadata": {},
      "outputs": [
        {
          "data": {
            "text/html": [
              "<span style=\"white-space:pre; font-family: monospace\">100\n",
              "</span>"
            ]
          },
          "execution_count": 14,
          "metadata": {},
          "output_type": "execute_result"
        },
        {
          "data": {
            "text/html": [
              "<span style=\"white-space:pre; font-family: monospace\">100\n",
              "100\n",
              "10\n",
              "10\n",
              "30\n",
              "</span>"
            ]
          },
          "execution_count": 14,
          "metadata": {},
          "output_type": "execute_result"
        },
        {
          "data": {
            "text/html": [
              "<span style=\"white-space:pre; font-family: monospace\">100\n",
              "</span>"
            ]
          },
          "execution_count": 14,
          "metadata": {},
          "output_type": "execute_result"
        }
      ],
      "source": [
        "\u2395\u2190 v             \u235d (2)\n",
        "MultiplyBy10 3\n",
        "\u2395\u2190 v             \u235d (9)"
      ]
    },
    {
      "cell_type": "markdown",
      "metadata": {},
      "source": [
        "Let us go over the assignments and the outputs of the code above:\n",
        "\n",
        " - we start by defining the variable `v` in our session and we set it to 100 (1);\n",
        " - we then define a function named `MultiplyBy10` which happens to contain another dfn inside it;\n",
        " - then we print the value of the session variable `v` and we see its value is 100 (2);\n",
        " - then we call the dfn `MultiplyBy10` with argument `3` and\n",
        "   - we define a new dfn named `GiveMeV`;\n",
        "   - we print the value of `v` (3). `MultiplyBy10` doesn't know what `v` is and so it looks for it in the session and finds a `v` whose value is 100, because of (1);\n",
        "   - we then call the function `GiveMeV` which simply returns `v` and we print it (4). `GiveMeV` doesn't know what `v` is, so it asks `MultiplyBy10`, which in turns asks the session, which knows of a `v` whose value is 100, because of (1);\n",
        "   - we then define `v` to be 10 inside of `MultiplyBy10` (5), making `MultiplyBy10` aware of a variable `v`;\n",
        "   - then we print `v` inside `MultiplyBy10` (6), which is 10 because we just defined it as such;\n",
        "   - then we call `GiveMeV` again and we print its result (7). `GiveMeV` doesn't know what `v` is, so it asks `MultiplyBy10`, that *now knows* what `v` is: it is 10 because of (5);\n",
        "   - and we finish executing the `MultiplyBy10` dfn by assigning 30 to `v` (8), which we then return from the dfn;\n",
        " - we leave the `MultiplyBy10` dfn call and 30 gets printed because that was the result of the dfn call;\n",
        " - finally we print `v` once more, and the session knows `v` is 100, so that is what we print (9).\n",
        " \n",
        "That might look confusing, but I assure you it makes a lot of sense. Just go through the code calmly and make sure you understand what each part does separately. Then, simulate the execution of the code with some pen and paper and write down what you think should get printed at each step. Then read the explanation above and compare it to what you thought was supposed to happen. You will get used to lexical scoping in no time.\n",
        "\n",
        "Lexical scoping can reveal itself to be extremely useful in languages where functions can return other functions, which is *not* the case with APL. Even so, lexical scoping will prove to be helpful later down the road: imagine a large(r) function inside which we define a small utility dfn to use with an operator, but we want the dfn to make use of things we have already computed inside the outer function. Lexical scoping kicks in at that point, allowing the inner dfn to access everything the outer function already computed.\n",
        "\n",
        "This concludes the more advanced topics on dfns. If you are used to programming in other programming languages that follow paradigms other than the array-oriented one, dfns may look very limited in their lack of conventional control structures and looping structures. As it turns out, in writing good array-oriented programs you can usually do away without these. What is more, the power of many of the built-in operators you will learn about in [a future chapter](./Operators.ipynb) will cover that gap in a very suitable way."
      ]
    },
    {
      "cell_type": "markdown",
      "metadata": {},
      "source": [
        "(User-Defined-Functions-Tradfns)=\n",
        "## Tradfns\n",
        "\n",
        "***Tradfns***, which were previously referred to as *procedural functions*, are mainly used for complex calculations involving many variables, interactions with a user, file input/output of data, etc. They look much like functions or programs in more traditional programming languages.\n",
        "\n",
        "Tradfn is short for \"*traditional function*\", because in the beginning APL did not have support for dfns. Hence, when dfns were a novelty, tradfns were the *traditional* functions that had been around for a while."
      ]
    },
    {
      "cell_type": "markdown",
      "metadata": {},
      "source": [
        "(User-Defined-Functions-A-First-Example)=\n",
        "### A First Example\n",
        "\n",
        "Tradfns are composed of a ***Header*** and one or more *statements* (function lines), so invoking a text editor to enter these lines of text will make your life easier.\n",
        "\n",
        "As an example, let us see how we could define the `HarmonicMean` from before as a tradfn. Let us call it `TradHarmonicMean`, for *traditional harmonic mean*.\n",
        "\n",
        "Let us open the editor with `)ed TradHarmonicMean` and outright define our function:"
      ]
    },
    {
      "cell_type": "code",
      "execution_count": 18,
      "metadata": {},
      "outputs": [],
      "source": [
        "\u2207 mean \u2190 TradHarmonicMean argVector\n",
        "    inverses \u2190 \u00f7argVector\n",
        "    mean \u2190 \u00f7+/inverses\n",
        "\u2207"
      ]
    },
    {
      "cell_type": "markdown",
      "metadata": {},
      "source": [
        "Now I will break it down for you:\n",
        "\n",
        "The function is delimited by a pair of `\u2207` symbols. This special symbol is named \"***Del***\" in English, or \"***Carrot***\" (because of its shape) in some French-speaking countries. You can type a *Del* with <kbd>APL</kbd>+<kbd>g</kbd>. In Jupyter notebooks and in the session, those are mandatory. If you define the tradfn in the text editor, you can omit them (cf. {numref}`fig-Editor_TradHarmonicMean`);\n",
        " \n",
        "The first line of the tradfn is the header and tells APL that:\n",
        " - the tradfn is going to be called `TradHarmonicMean`;\n",
        " - it expects a right argument which will be named `argVector`; and\n",
        " - it will return the value we store in the variable named `mean`.\n",
        "   \n",
        "The subsequent lines have the statements of the function itself and, in particular, the final line in which we perform the `mean \u2190 ...` assignment is where we establish the result that will be returned by the tradfn.\n",
        " \n",
        "(fig-Editor_TradHarmonicMean)=\n",
        "```{figure} res/Editor_TradHarmonicMean.png\n",
        "---\n",
        "name: Editor_TradHarmonicMean\n",
        "---\n",
        "A tradfn defined in the editor and without delimiting Del characters.\n",
        "```\n",
        "\n",
        "The function is now available for use:"
      ]
    },
    {
      "cell_type": "code",
      "execution_count": 19,
      "metadata": {},
      "outputs": [
        {
          "data": {
            "text/html": [
              "<span style=\"white-space:pre; font-family: monospace\">1.5\n",
              "</span>"
            ]
          },
          "execution_count": 19,
          "metadata": {},
          "output_type": "execute_result"
        }
      ],
      "source": [
        "TradHarmonicMean 2 6"
      ]
    },
    {
      "cell_type": "markdown",
      "metadata": {},
      "source": [
        "(User-Defined-Functions-The-Default-Isnt-Local)=\n",
        "### The Default Isn't Local\n",
        "\n",
        "Just like when we defined `HarmonicMean` as our first dfn, our tradfn uses a temporary variable called `inverses`. Let us check its value:"
      ]
    },
    {
      "cell_type": "code",
      "execution_count": 20,
      "metadata": {},
      "outputs": [
        {
          "data": {
            "text/html": [
              "<span style=\"white-space:pre; font-family: monospace\">0.5 0.166667\n",
              "</span>"
            ]
          },
          "execution_count": 20,
          "metadata": {},
          "output_type": "execute_result"
        }
      ],
      "source": [
        "inverses"
      ]
    },
    {
      "cell_type": "markdown",
      "metadata": {},
      "source": [
        "When we did the same check in {numref}`User-Defined-Functions-Local-Variables`, we couldn't access the value of `inverses` because it was not defined in the session, it was a variable that was local to the dfn. Clearly, this works differently in tradfns.\n",
        "\n",
        "If you were paying attention, you will have noticed that in {numref}`fig-Editor_TradHarmonicMean` there's two colours being used (the actual colours might differ between the Windows IDE and RIDE, and you might also have changed your colour scheme to something else):\n",
        "\n",
        " - black for the names `TradHarmonicMean` and `inverses`; and\n",
        " - grey for the names `argVector` and `mean`.\n",
        " \n",
        "So what do the colours mean?\n",
        "\n",
        "The names in black are the variables that are global, variables that remain in the workspace after they have been assigned values during execution of the function. These names can refer to existing variables - intentionally or not - and may produce undesirable side effects.\n",
        "\n",
        "The names in grey are temporary variable names used during function execution. Once execution is complete, these temporary variables are destroyed. Right before that, the tradfn returns the *value* of the return variable - `mean` in our example - and then discards its *name*.\n",
        "\n",
        "That means neither `argVector` nor `mean` should be available after execution of the tradfn ends:"
      ]
    },
    {
      "cell_type": "code",
      "execution_count": 21,
      "metadata": {},
      "outputs": [
        {
          "name": "stderr",
          "output_type": "stream",
          "text": [
            "VALUE ERROR: Undefined name: mean\n",
            "      mean\n",
            "      \u2227\n"
          ]
        }
      ],
      "source": [
        "mean"
      ]
    },
    {
      "cell_type": "code",
      "execution_count": 22,
      "metadata": {},
      "outputs": [
        {
          "name": "stderr",
          "output_type": "stream",
          "text": [
            "VALUE ERROR: Undefined name: argVector\n",
            "      argVector\n",
            "      \u2227\n"
          ]
        }
      ],
      "source": [
        "argVector"
      ]
    },
    {
      "cell_type": "markdown",
      "metadata": {},
      "source": [
        "Because `inverses` is coloured in black, we can see it can interfere with the variables in our workspace:"
      ]
    },
    {
      "cell_type": "code",
      "execution_count": 23,
      "metadata": {},
      "outputs": [
        {
          "data": {
            "text/html": [
              "<span style=\"white-space:pre; font-family: monospace\">0.48\n",
              "</span>"
            ]
          },
          "execution_count": 23,
          "metadata": {},
          "output_type": "execute_result"
        }
      ],
      "source": [
        "inverses \u2190 'The inverses are calculated by use of monadic \u00f7'\n",
        "TradHarmonicMean 1 2 3 4"
      ]
    },
    {
      "cell_type": "markdown",
      "metadata": {},
      "source": [
        "And suddenly `inverses` is no longer what you defined:"
      ]
    },
    {
      "cell_type": "code",
      "execution_count": 24,
      "metadata": {},
      "outputs": [
        {
          "data": {
            "text/html": [
              "<span style=\"white-space:pre; font-family: monospace\">1 0.5 0.333333 0.25\n",
              "</span>"
            ]
          },
          "execution_count": 24,
          "metadata": {},
          "output_type": "execute_result"
        }
      ],
      "source": [
        "inverses"
      ]
    },
    {
      "cell_type": "markdown",
      "metadata": {},
      "source": [
        "All the variables created during execution of the tradfn that are not referenced in the header are considered to be global variables. To avoid any unpredictable side effects, it is recommended that you declare as local all the variables used by a function. This is done by specifying their names in the header, each prefixed by a ***semi-colon***, as shown in this new definition of `TradHarmonicMean`:"
      ]
    },
    {
      "cell_type": "code",
      "execution_count": 85,
      "metadata": {},
      "outputs": [],
      "source": [
        "\u2207 mean \u2190 TradHarmonicMean argVector; inverses\n",
        "    inverses \u2190 \u00f7argVector\n",
        "    mean \u2190 \u00f7+/inverses\n",
        "\u2207"
      ]
    },
    {
      "cell_type": "code",
      "execution_count": 86,
      "metadata": {},
      "outputs": [
        {
          "data": {
            "text/html": [
              "<span style=\"white-space:pre; font-family: monospace\">0.48\n",
              "</span>"
            ]
          },
          "execution_count": 86,
          "metadata": {},
          "output_type": "execute_result"
        }
      ],
      "source": [
        "inverses \u2190 'The inverses are calculated by use of monadic \u00f7'\n",
        "TradHarmonicMean 1 2 3 4"
      ]
    },
    {
      "cell_type": "code",
      "execution_count": 87,
      "metadata": {},
      "outputs": [
        {
          "data": {
            "text/html": [
              "<span style=\"white-space:pre; font-family: monospace\">The inverses are calculated by use of monadic \u00f7\n",
              "</span>"
            ]
          },
          "execution_count": 87,
          "metadata": {},
          "output_type": "execute_result"
        }
      ],
      "source": [
        "inverses"
      ]
    },
    {
      "cell_type": "markdown",
      "metadata": {},
      "source": [
        "As we can see, `inverses` is now treated as a local variable.\n",
        "\n",
        "<!--begin rules-->\n",
        "***Rules***:\n",
        "\n",
        " >  - All the names referenced in the header of a function (including its result and arguments) are ***local*** to the function. They will exist only during the execution of the function.\n",
        " >\n",
        " >  - Operations made on local variables do not affect ***global*** variables having the same names.\n",
        " >\n",
        " >  - *Global* and *local* are relative notions: when a tradfn calls another sub function, variables local to the calling function are global for the called function. This will be further explored in {numref}`User-Defined-Functions-Dynamic-Scoping`.\n",
        " >\n",
        " >  - All the variables used in a tradfn should preferably be declared local, unless you specifically intend otherwise.\n",
        "<!--end-->"
      ]
    },
    {
      "cell_type": "markdown",
      "metadata": {},
      "source": [
        "(User-Defined-Functions-Defining-Sub-Functions)=\n",
        "### Defining Sub-Functions\n",
        "\n",
        "As we have seen, dfns can be defined inside other dfns. Similarly, dfns can be defined inside tradfns and used right away. The precautions mentioned above, that need to be taken with respect to *global* versus *local* variables, still apply. In short, do not forget to localise the name of a temporary dfn unless you really mean for it to become global."
      ]
    },
    {
      "cell_type": "markdown",
      "metadata": {},
      "source": [
        "(User-Defined-Functions-A-Second-Example)=\n",
        "### A Second Example\n",
        "\n",
        "You may remember from previous chapters our two matrices `forecast` and `actual`, representing sales of 4 products over 6 months:"
      ]
    },
    {
      "cell_type": "code",
      "execution_count": 25,
      "metadata": {},
      "outputs": [
        {
          "data": {
            "text/html": [
              "<span style=\"white-space:pre; font-family: monospace\"> 90 160 420 500  20  30\n",
              "110 450 170 370 290 360\n",
              "340 190 320 120 510 370\n",
              "150 460 240 520 490 280\n",
              "</span>"
            ]
          },
          "execution_count": 25,
          "metadata": {},
          "output_type": "execute_result"
        }
      ],
      "source": [
        "\u2395RL \u2190 73\n",
        "\u22a2forecast \u2190 10\u00d7?4 6\u237455"
      ]
    },
    {
      "cell_type": "code",
      "execution_count": 26,
      "metadata": {},
      "outputs": [
        {
          "data": {
            "text/html": [
              "<span style=\"white-space:pre; font-family: monospace\"> 89 166 420 508  12  23\n",
              "111 453 177 365 284 352\n",
              "349 192 329 115 515 374\n",
              "160 467 234 519 485 283\n",
              "</span>"
            ]
          },
          "execution_count": 26,
          "metadata": {},
          "output_type": "execute_result"
        }
      ],
      "source": [
        "\u2395RL \u2190 73\n",
        "\u22a2actual \u2190 forecast + \u00af10+?4 6\u237420"
      ]
    },
    {
      "cell_type": "markdown",
      "metadata": {},
      "source": [
        "It would be nice to interlace the columns of those two matrices to make it easier to compare forecast and actual sales for the same month. Furthermore, because this might be useful for other pairs of matrices, let's create a general function to do the job; let's call it `Interlace`.\n",
        "\n",
        "The result we would like to obtain is schematised in the table below, with `f` being shorthand for `forecast` and `a` being shorthand for `actual`:\n",
        "\n",
        "| `f[;1]` | `a[;1]` | `f[;2]` | `a[;2]` | `f[;3]` | `a[;3]` | `f[;4]` | `a[;4]` | `f[;5]` | `a[;5]` | `f[;6]` | `a[;6]` |\n",
        "| :-: | :-: | :-: | :-: | :-: | :-: | :-: | :-: | :-: | :-: | :-: | :-: |\n",
        "| 90 | 89 | 160 | 166 | 420 | 420 | 500 | 508 | 20 | 12 | 30 | 23 |\n",
        "| 110 | 111 | 450 | 453 | 170 | 177 | 370 | 365 | 290 | 284 | 360 | 352 |\n",
        "| 340 | 349 | 190 | 192 | 320 | 329 | 120 | 115 | 510 | 515 | 370 | 374 |\n",
        "| 150 | 160 | 460 | 467 | 240 | 234 | 520 | 519 | 490 | 485 | 280 | 283 |\n",
        "\n",
        "The first thing you must decide is how this function will be used:\n",
        "\n",
        " - will you pass both matrices on right: `Interlace forecast actual`; or\n",
        " - one on the left and one on the right: `forecast Interlace actual`?\n",
        " \n",
        "Both solutions are valid; it is only a question of personal taste and ease of use. Our first tradfn was monadic so let us make this one dyadic.\n",
        "\n",
        "Having decided on the calling syntax, we just have to know how the header of a dyadic tradfn looks like. If we call `r` to the result and `x` and `y` to the left and right arguments, respectively, then the tradfn header is"
      ]
    },
    {
      "cell_type": "code",
      "execution_count": 90,
      "metadata": {},
      "outputs": [],
      "source": [
        "\u2207 r \u2190 x Interlace y\n",
        "\u2207"
      ]
    },
    {
      "cell_type": "markdown",
      "metadata": {},
      "source": [
        "which may then be updated to include local variables.\n",
        "\n",
        "The names `x`, `y` and `r` do not matter to the APL system. Replacing `x` and `y` with `a` and `b` or `left` and `right` would be perfectly valid and obviously easier to recall than if we replaced them with `potatoes` and `ocarina`. However, you should pick names which help you remember what the function is doing. For example, in a general-purpose function like this, you should probably avoid using too specific names like `forecast` and `actual`: that would imply that this function only works on arrays containing forecast and actual data. Such names might also confuse the distinction between local and global names.\n",
        "\n",
        "Now that the header is set, how shall we interlace our two matrices? Have a go at it, if you fancy.\n",
        "\n",
        "We suggest the following steps:\n",
        "\n",
        " - calculate the size of the result `r`. It will be a matrix with as many rows as `x` and `y`, but twice as many columns;\n",
        " - create `r` filled with zeroes;\n",
        " - calculate the indices of its even columns;\n",
        " - fill the even columns with `y`;\n",
        " - calculate the indices of its odd columns and fill them with `x`.\n",
        " \n",
        "The final function could be written as follows. Do not forget to localise your variables."
      ]
    },
    {
      "cell_type": "code",
      "execution_count": 27,
      "metadata": {},
      "outputs": [],
      "source": [
        "\u2207 r \u2190 x Interlace y; size; even\n",
        "    size \u2190 1 2\u00d7\u2374x\n",
        "    r \u2190 size\u23740\n",
        "    even \u2190 2\u00d7\u2373(\u2374x)[2]\n",
        "    r[;even] \u2190 y\n",
        "    r[;even-1] \u2190 x\n",
        "\u2207"
      ]
    },
    {
      "cell_type": "markdown",
      "metadata": {},
      "source": [
        "We can now apply the function to any pair of variables, provided they have the same size:"
      ]
    },
    {
      "cell_type": "code",
      "execution_count": 28,
      "metadata": {},
      "outputs": [
        {
          "data": {
            "text/html": [
              "<span style=\"white-space:pre; font-family: monospace\"> 90  89 160 166 420 420 500 508  20  12  30  23\n",
              "110 111 450 453 170 177 370 365 290 284 360 352\n",
              "340 349 190 192 320 329 120 115 510 515 370 374\n",
              "150 160 460 467 240 234 520 519 490 485 280 283\n",
              "</span>"
            ]
          },
          "execution_count": 28,
          "metadata": {},
          "output_type": "execute_result"
        }
      ],
      "source": [
        "forecast Interlace actual"
      ]
    },
    {
      "cell_type": "code",
      "execution_count": 30,
      "metadata": {},
      "outputs": [
        {
          "data": {
            "text/html": [
              "<span style=\"white-space:pre; font-family: monospace\">1 \u00af5 2 \u00af7 3 \u00af1\n",
              "4 \u00af2 5 \u00af8 6 \u00af9\n",
              "</span>"
            ]
          },
          "execution_count": 30,
          "metadata": {},
          "output_type": "execute_result"
        }
      ],
      "source": [
        "(2 3\u2374\u23736) Interlace (2 3\u2374\u00af5 \u00af7 \u00af1 \u00af2 \u00af8 \u00af9)"
      ]
    },
    {
      "cell_type": "markdown",
      "metadata": {},
      "source": [
        "(User-Defined-Functions-Another-Possible-Syntax)=\n",
        "#### Another Possible Syntax\n",
        "\n",
        "If you had decided instead to make the function monadic, it could look very similar to the one above. We just changed the header a bit and added a new statement at the beginning:"
      ]
    },
    {
      "cell_type": "code",
      "execution_count": 31,
      "metadata": {},
      "outputs": [],
      "source": [
        "\u2207 r \u2190 Interlace couple; x; y; size; even\n",
        "    (x y) \u2190 couple\n",
        "    size \u2190 1 2\u00d7\u2374x\n",
        "    r \u2190 size\u23740\n",
        "    even \u2190 2\u00d7\u2373(\u2374x)[2]\n",
        "    r[;even] \u2190 y\n",
        "    r[;even-1] \u2190 x\n",
        "\u2207"
      ]
    },
    {
      "cell_type": "code",
      "execution_count": 32,
      "metadata": {},
      "outputs": [
        {
          "data": {
            "text/html": [
              "<span style=\"white-space:pre; font-family: monospace\"> 90  89 160 166 420 420 500 508  20  12  30  23\n",
              "110 111 450 453 170 177 370 365 290 284 360 352\n",
              "340 349 190 192 320 329 120 115 510 515 370 374\n",
              "150 160 460 467 240 234 520 519 490 485 280 283\n",
              "</span>"
            ]
          },
          "execution_count": 32,
          "metadata": {},
          "output_type": "execute_result"
        }
      ],
      "source": [
        "Interlace forecast actual"
      ]
    },
    {
      "cell_type": "markdown",
      "metadata": {},
      "source": [
        "(User-Defined-Functions-Dynamic-Scoping)=\n",
        "### Dynamic Scoping\n",
        "\n",
        "***Dynamic scoping*** (as opposed to *static* scoping, as seen in {numref}`User-Defined-Functions-Lexical-Scoping`) is the scoping mechanism that tradfns use: when a tradfn calls another tradfn, the callee can see the caller's local variables, even if the callee was defined *outside* of the caller.\n",
        "\n",
        "To explore what this means, consider the following tradfns. Do not worry about their arguments and return values as they are not meaningful. What matters are the assignments to `a` and `b` and the prints."
      ]
    },
    {
      "cell_type": "code",
      "execution_count": 2,
      "metadata": {},
      "outputs": [],
      "source": [
        "\u2207 r \u2190 PrintAB y\n",
        "    \u2395\u2190 a\n",
        "    \u2395\u2190 b\n",
        "    r \u2190 0\n",
        "\u2207"
      ]
    },
    {
      "cell_type": "code",
      "execution_count": 3,
      "metadata": {},
      "outputs": [],
      "source": [
        "\u2207 r \u2190 SetAThenPrint y; a\n",
        "    a \u2190 1\n",
        "    r \u2190 PrintAB y\n",
        "\u2207"
      ]
    },
    {
      "cell_type": "code",
      "execution_count": 4,
      "metadata": {},
      "outputs": [],
      "source": [
        "\u2207 r \u2190 SetBThenPrint y; b\n",
        "    b \u2190 2\n",
        "    r \u2190 PrintAB y\n",
        "\u2207"
      ]
    },
    {
      "cell_type": "markdown",
      "metadata": {},
      "source": [
        "and let us define *global* variables `a` and `b` with character values:"
      ]
    },
    {
      "cell_type": "code",
      "execution_count": 5,
      "metadata": {},
      "outputs": [],
      "source": [
        "a \u2190 'a'\n",
        "b \u2190 'b'"
      ]
    },
    {
      "cell_type": "markdown",
      "metadata": {},
      "source": [
        "Now let us call `SetAThenPrint`. Before looking at the code that follows, what do you expect to be printed?"
      ]
    },
    {
      "cell_type": "code",
      "execution_count": 6,
      "metadata": {},
      "outputs": [
        {
          "data": {
            "text/html": [
              "<span style=\"white-space:pre; font-family: monospace\">1\n",
              "b\n",
              "0\n",
              "</span>"
            ]
          },
          "execution_count": 6,
          "metadata": {},
          "output_type": "execute_result"
        }
      ],
      "source": [
        "SetAThenPrint 0"
      ]
    },
    {
      "cell_type": "markdown",
      "metadata": {},
      "source": [
        "Did it match your expectations? Can you now guess what will happen if we execute `SetBThenPrint`?"
      ]
    },
    {
      "cell_type": "code",
      "execution_count": 7,
      "metadata": {},
      "outputs": [
        {
          "data": {
            "text/html": [
              "<span style=\"white-space:pre; font-family: monospace\">a\n",
              "2\n",
              "0\n",
              "</span>"
            ]
          },
          "execution_count": 7,
          "metadata": {},
          "output_type": "execute_result"
        }
      ],
      "source": [
        "SetBThenPrint 0"
      ]
    },
    {
      "cell_type": "markdown",
      "metadata": {},
      "source": [
        "Notice how `PrintAB` was defined as a standalone tradfn which prints two variables. Because `a` and `b` are never defined inside `PrintAB`, surely `PrintAB` will be printing global values. Then, depending on what function called `PrintAB`, either `a` or `b` are taken from the context of the enclosing *calling* function.\n",
        "\n",
        "Let us try to define the same functions but with dfns:"
      ]
    },
    {
      "cell_type": "code",
      "execution_count": 8,
      "metadata": {},
      "outputs": [],
      "source": [
        "]dinput\n",
        "PrintCD \u2190 {\n",
        "    \u2395\u2190 c\n",
        "    \u2395\u2190 d\n",
        "    0\n",
        "}"
      ]
    },
    {
      "cell_type": "code",
      "execution_count": 9,
      "metadata": {},
      "outputs": [],
      "source": [
        "]dinput\n",
        "SetCThenPrint \u2190 {\n",
        "    c \u2190 3\n",
        "    PrintCD \u2375\n",
        "}"
      ]
    },
    {
      "cell_type": "code",
      "execution_count": 10,
      "metadata": {},
      "outputs": [],
      "source": [
        "]dinput\n",
        "SetDThenPrint \u2190 {\n",
        "    d \u2190 4\n",
        "    PrintCD \u2375\n",
        "}"
      ]
    },
    {
      "cell_type": "code",
      "execution_count": 11,
      "metadata": {},
      "outputs": [],
      "source": [
        "c \u2190 'c'\n",
        "d \u2190 'd'"
      ]
    },
    {
      "cell_type": "markdown",
      "metadata": {},
      "source": [
        "What will happen if we call `SetCThenPrint`?"
      ]
    },
    {
      "cell_type": "code",
      "execution_count": 12,
      "metadata": {},
      "outputs": [
        {
          "data": {
            "text/html": [
              "<span style=\"white-space:pre; font-family: monospace\">c\n",
              "d\n",
              "0\n",
              "</span>"
            ]
          },
          "execution_count": 12,
          "metadata": {},
          "output_type": "execute_result"
        }
      ],
      "source": [
        "SetCThenPrint 0"
      ]
    },
    {
      "cell_type": "markdown",
      "metadata": {},
      "source": [
        "Even though `SetCThenPrint` modified the value of `c` to be 3, the `PrintCD` function was defined in the workspace, and hence its lexical scoping tells it to look for `c` among its own variables, and among the global variables in the workspace. `PrintCD` does not have access to the local variables of the dfn that called it.\n",
        "\n",
        "That is why, if we call `SetDThenPrint`, we get the exact same output:"
      ]
    },
    {
      "cell_type": "code",
      "execution_count": 13,
      "metadata": {},
      "outputs": [
        {
          "data": {
            "text/html": [
              "<span style=\"white-space:pre; font-family: monospace\">c\n",
              "d\n",
              "0\n",
              "</span>"
            ]
          },
          "execution_count": 13,
          "metadata": {},
          "output_type": "execute_result"
        }
      ],
      "source": [
        "SetDThenPrint 0"
      ]
    },
    {
      "cell_type": "markdown",
      "metadata": {},
      "source": [
        "Perhaps the difference between dynamic and lexical scoping becomes even more clear if we consider yet another family of tradfns:"
      ]
    },
    {
      "cell_type": "code",
      "execution_count": 14,
      "metadata": {},
      "outputs": [],
      "source": [
        "\u2207 r \u2190 PrintE y\n",
        "    \u2395\u2190 e\n",
        "    r \u2190 0\n",
        "\u2207"
      ]
    },
    {
      "cell_type": "markdown",
      "metadata": {},
      "source": [
        "Notice that if you call `PrintE` right now it will cause an error, because there is no variable `e` defined anywhere:"
      ]
    },
    {
      "cell_type": "code",
      "execution_count": 15,
      "metadata": {},
      "outputs": [
        {
          "name": "stderr",
          "output_type": "stream",
          "text": [
            "VALUE ERROR: Undefined name: e\n",
            "      e\n",
            "      \u2227\n"
          ]
        }
      ],
      "source": [
        "e"
      ]
    },
    {
      "cell_type": "code",
      "execution_count": 16,
      "metadata": {},
      "outputs": [
        {
          "name": "stderr",
          "output_type": "stream",
          "text": [
            "VALUE ERROR: Undefined name: e\n",
            "PrintE[1] \u2395\u2190e\n",
            "            \u2227\n"
          ]
        }
      ],
      "source": [
        "PrintE 0"
      ]
    },
    {
      "cell_type": "markdown",
      "metadata": {},
      "source": [
        "Now let us define a tradfn that makes use of a *local* variable `e`:"
      ]
    },
    {
      "cell_type": "code",
      "execution_count": 17,
      "metadata": {},
      "outputs": [],
      "source": [
        "\u2207 r \u2190 SetLocalE y; e\n",
        "    e \u2190 5\n",
        "    r \u2190 PrintE y\n",
        "\u2207"
      ]
    },
    {
      "cell_type": "markdown",
      "metadata": {},
      "source": [
        "If we call `SetLocalE`, `e` will be defined inside `SetLocalE` and then, when `PrintE` gets called, the dynamic scoping will make `e` visible as a global variable:"
      ]
    },
    {
      "cell_type": "code",
      "execution_count": 18,
      "metadata": {},
      "outputs": [
        {
          "data": {
            "text/html": [
              "<span style=\"white-space:pre; font-family: monospace\">5\n",
              "0\n",
              "</span>"
            ]
          },
          "execution_count": 18,
          "metadata": {},
          "output_type": "execute_result"
        }
      ],
      "source": [
        "SetLocalE 0"
      ]
    },
    {
      "cell_type": "markdown",
      "metadata": {},
      "source": [
        "After `SetLocalE` is executed, our workspace still has no variable `e`:"
      ]
    },
    {
      "cell_type": "code",
      "execution_count": 50,
      "metadata": {},
      "outputs": [
        {
          "name": "stderr",
          "output_type": "stream",
          "text": [
            "VALUE ERROR: Undefined name: e\n",
            "      e\n",
            "      \u2227\n"
          ]
        }
      ],
      "source": [
        "e"
      ]
    },
    {
      "cell_type": "markdown",
      "metadata": {},
      "source": [
        "Scoping can become messy quickly, and that is why it is recommended that you always provide the information your functions need as arguments, and return the results explicitly instead of relying on modifying some global variable(s).\n",
        "In {numref}`User-Defined-Functions-Scoping-in-Nested-Function-Calls` we will see this can become even more confusing when you start having dfns calling tradfns and tradfns calling dfns."
      ]
    },
    {
      "cell_type": "markdown",
      "metadata": {},
      "source": [
        "(User-Defined-Functions-Flow-Control-in-Tradfns)=\n",
        "## Flow Control in Tradfns\n",
        "\n",
        "(User-Defined-Functions-Overview)=\n",
        "### Overview\n",
        "\n",
        "Apart from extremely simple calculations, most programs rely on certain statements being executed only if a given condition is satisfied (conditional execution) or on a set of statements being executed again and again, until a given limit is reached (looping). The APL language offers a special set of syntactic elements to control the flow of statements inside tradfns.\n",
        "\n",
        "In the very first versions of APL, the only way to implement conditional execution and looping was to use the symbol `\u2192` (the *branch arrow*, typed with <kbd>APL</kbd>+<kbd>]</kbd>). This was used to jump from one statement to another, skipping over other statements (conditional execution) or jumping back to repeat a set of statements again (looping). The branch arrow is equivalent to the GOTO statement in other languages. Contemporary versions of APL include a special set of keywords which offer a much more flexible, easy to use and easy to read way to control the flow of execution. They are also very similar to those used in most other languages. These are known as ***Control structures***.\n",
        "\n",
        "We shall begin by using control structures and then introduce you later to the old way of programming (using `\u2192`), only because you may come across it in some existing programs and it will be helpful to be able to read those.\n",
        "\n",
        "Control structures are blocks of statements which begin and end with special keywords. These keywords are all **prefixed** with a ***colon***, like `:If` or `:Repeat`. This prevents the names of your variables to clash with these keywords.\n",
        "\n",
        "The keywords can be typed in lower or upper case, but Dyalog APL will always store and display them using a fixed spelling convention commonly known as CamelCase or, more specifically, PascalCase. Following this convention, a keyword has an upper case first letter and the following letters in lower case. Composite keywords like \"`EndIf`\" and \"`GoTo`\" capitalise the first letter of each word.\n",
        "\n",
        "Opening keywords are used to begin the conditional execution or repeated execution of a block of statements. Usually (but not always), the block is ended by a corresponding keyword that starts with `:End`.\n",
        "\n",
        "The sets of opening/closing keywords are shown below:\n",
        "\n",
        "| Opening | Closing |\n",
        "| :- | :- |\n",
        "| `:If` | `:EndIf` |\n",
        "| `:For` | `:EndFor` |\n",
        "| `:Select` | `:EndSelect` |\n",
        "| `:Repeat` | `:Until` |\n",
        "| | `:EndRepeat` |\n",
        "| `:While` | `:EndWhile` |\n",
        "| | `:Until` |\n",
        "| `:Trap` | `:EndTrap` |\n",
        "| `:With` | `:EndWith` |\n",
        "| `:Hold` | `:EndHold` |\n",
        "\n",
        "The primary keywords shown above can be complemented by additional keywords which qualify more precisely what is to be done:\n",
        "\n",
        " - `:Else`\n",
        " - `:ElseIf`\n",
        " - `:AndIf`\n",
        " - `:OrIf`\n",
        " - `:Case`\n",
        " - `:CaseList`\n",
        " - `:Until`\n",
        " \n",
        "And finally, some keywords may be used to conditionally alter the flow of execution within a control structure.\n",
        "\n",
        "The following keywords will not be studied in this chapter:\n",
        "\n",
        " - `:Trap... :EndTrap` concerns event processing and will be seen in [the chapter \"Event Handling\"](./Event-Handling.ipynb);\n",
        " - `:With... :EndWith` concerns the GUI interface and namespaces and will be covered in [the chapter on GUIs](./Graphical-User-Interface.ipynb) and in [the chapter on namespaces](./Namespaces.ipynb);\n",
        " - `:Hold... :EndHold` concerns *multi threading*."
      ]
    },
    {
      "cell_type": "markdown",
      "metadata": {},
      "source": [
        "(User-Defined-Functions-Conditional-Execution)=\n",
        "### Conditional Execution\n",
        "\n",
        "(User-Defined-Functions-Simple-Conditions-IfEndIf)=\n",
        "#### Simple Conditions (`:If`/`:EndIf`)\n",
        "\n",
        "The clauses `:If` and `:EndIf` delimit a block of statements (Block **1** in {numref}`fig-Control_Flow_If_EndIf`), which will be executed only if the condition specified by the `:If` clause is satisfied.\n",
        "\n",
        "(fig-Control_Flow_If_EndIf)=\n",
        "```{figure} res/Control_Flow_If_EndIf.png\n",
        "---\n",
        "name: Control_Flow_If_EndIf\n",
        "---\n",
        "A diagram with the usage of `:If... :EndIf`.\n",
        "```\n",
        "\n",
        "Here is the explanation of what happens inside the function of the diagram {numref}`fig-Control_Flow_If_EndIf`:\n",
        "\n",
        " - if present, Block **0** will always be executed, as will Block **2**;\n",
        " - *Condition* is any expression whose result is a Boolean **scalar** or **one item array**; for example, `code\u220alist`, `price>100` or `values\u2227.=0`; and\n",
        " - Block **1** will be executed if *Condition* is satisfied.\n",
        " \n",
        "<!--begin example-->\n",
        "***Example***:\n",
        "\n",
        " > Our keyboard has been damaged: we can no longer use the *absolute value* key. Perhaps a tradfn could replace it? Try writing a tradfn using an `:If` clause.\n",
        "<!--end-->\n",
        "\n",
        "Here is a possible solution:"
      ]
    },
    {
      "cell_type": "code",
      "execution_count": 51,
      "metadata": {},
      "outputs": [],
      "source": [
        "\u2207 y \u2190 AbsVal y\n",
        "    :If y < 0\n",
        "        y \u2190 -y\n",
        "    :EndIf\n",
        "\u2207"
      ]
    },
    {
      "cell_type": "code",
      "execution_count": 52,
      "metadata": {},
      "outputs": [
        {
          "data": {
            "text/html": [
              "<span style=\"white-space:pre; font-family: monospace\">1\n",
              "</span>"
            ]
          },
          "execution_count": 52,
          "metadata": {},
          "output_type": "execute_result"
        }
      ],
      "source": [
        "AbsVal 1"
      ]
    },
    {
      "cell_type": "code",
      "execution_count": 53,
      "metadata": {},
      "outputs": [
        {
          "data": {
            "text/html": [
              "<span style=\"white-space:pre; font-family: monospace\">3.4\n",
              "</span>"
            ]
          },
          "execution_count": 53,
          "metadata": {},
          "output_type": "execute_result"
        }
      ],
      "source": [
        "AbsVal \u00af3.4"
      ]
    },
    {
      "cell_type": "markdown",
      "metadata": {},
      "source": [
        "If the argument is positive (or zero), the function does nothing and just returns the argument it received. If the argument is negative, it returns the corresponding positive value."
      ]
    },
    {
      "cell_type": "markdown",
      "metadata": {},
      "source": [
        "(User-Defined-Functions-Alternative-Processing-IfElseEndIf)=\n",
        "#### Alternative Processing (`:If`/`:Else`/`:EndIf`)\n",
        "\n",
        "In the previous example if *Condition* is satisfied, Block **1** is executed; otherwise nothing is done. But sometimes we would like to execute one set of statements (Block **1**) if *Condition* is satisfied or an alternative one (Block **2**) if it is not.\n",
        "\n",
        "For this, we use the additional keyword `:Else` as shown in {numref}`fig-Control_Flow_If_Else_EndIf`:\n",
        "\n",
        "(fig-Control_Flow_If_Else_EndIf)=\n",
        "```{figure} res/Control_Flow_If_Else_EndIf.png\n",
        "---\n",
        "name: Control_Flow_If_Else_EndIf\n",
        "---\n",
        "A diagram with the usage of `:If... :Else... :EndIf`.\n",
        "```\n",
        "\n",
        "Blocks **0** and **3** will always be executed, if present. Block **1** will be executed if *Condition* **is** satisfied and Block **2** will be executed if *Condition* is **not** satisfied. Notice this means that exactly *one* of the two blocks gets executed. Never both, and never none.\n",
        "\n",
        "<!--begin example-->\n",
        "***Example***:\n",
        "\n",
        " > Let us try to find the real roots of the quadratic equation $ax^2 + bx + c = 0$, given the values of $a$, $b$ and $c$. If the quantity $\\Delta = b^2 - 4ac$ is negative, it is known that the two solutions of this equation are complex numbers. $\\Delta$ is commonly referred to as the [discriminant](https://en.wikipedia.org/wiki/Quadratic_equation#Discriminant) of the equation. \n",
        "<!--end-->\n",
        "\n",
        "We can write a tradfn that computes the two roots by means of the [quadratic formula](https://en.wikipedia.org/wiki/Quadratic_equation#Quadratic_formula_and_its_derivation), except that it issues an error message if there are no real roots. We will use an `:If... :Else... :EndIf` clause for this:"
      ]
    },
    {
      "cell_type": "code",
      "execution_count": 117,
      "metadata": {},
      "outputs": [],
      "source": [
        "\u2207 r \u2190 QuadRoot abc; a; b; c; delta\n",
        "    (a b c) \u2190 abc\n",
        "    delta \u2190 (b*2)-4\u00d7a\u00d7c\n",
        "    :If delta\u22650\n",
        "        r \u2190 (-b)+1 \u00af1\u00d7delta*0.5\n",
        "        r \u2190 r\u00f72\u00d7a\n",
        "    :Else\n",
        "        r \u2190 'No roots'\n",
        "    :EndIf\n",
        "\u2207"
      ]
    },
    {
      "cell_type": "code",
      "execution_count": 118,
      "metadata": {},
      "outputs": [
        {
          "data": {
            "text/html": [
              "<span style=\"white-space:pre; font-family: monospace\">\u00af1.5 5\n",
              "</span>"
            ]
          },
          "execution_count": 118,
          "metadata": {},
          "output_type": "execute_result"
        }
      ],
      "source": [
        "QuadRoot \u00af2 7 15"
      ]
    },
    {
      "cell_type": "code",
      "execution_count": 119,
      "metadata": {},
      "outputs": [
        {
          "data": {
            "text/html": [
              "<span style=\"white-space:pre; font-family: monospace\">No roots\n",
              "</span>"
            ]
          },
          "execution_count": 119,
          "metadata": {},
          "output_type": "execute_result"
        }
      ],
      "source": [
        "QuadRoot 1 1 1"
      ]
    },
    {
      "cell_type": "markdown",
      "metadata": {},
      "source": [
        "(User-Defined-Functions-Composite-Conditions-OrIfAndIf)=\n",
        "#### Composite Conditions (`:OrIf`/`:AndIf`)\n",
        "\n",
        "Multiple conditions can be combined using the Boolean functions \"OR\" and \"AND\".\n",
        "\n",
        "Consider the diagram {numref}`fig-Control_Flow_OrIf`:\n",
        "\n",
        "(fig-Control_Flow_OrIf)=\n",
        "```{figure} res/Control_Flow_OrIf.png\n",
        "---\n",
        "name: Control_Flow_OrIf\n",
        "---\n",
        "A diagram with the usage of `:OrIf`.\n",
        "```\n",
        "\n",
        "If present, Block **0** and Block **3** will always be executed. Block **1** and *Condition* **2** are only executed if *Condition* **1** is **not** satisfied. Block **2** is executed if *Condition* **1** **OR** *Condition* **2** **is** satisfied.\n",
        "\n",
        "In many cases, the same result could be obtained by a more traditional APL approach using `\u2228`: `:If (Condition 1) \u2228 (Condition 2)`.\n",
        "\n",
        "However, suppose that Block **1** and/or *Condition* **2** need a lot of computing time.\n",
        "\n",
        " - The traditional APL solution will always evaluate both *Condition* **1** and *Condition* **2**, combine the results, and decide what to do.\n",
        " - With the \"`:OrIf`\" technique, if *Condition* **1** is satisfied, Block **2** will be immediately executed, and neither Block **1** nor *Condition* **2** will be evaluated. This may sometimes save a lot of processing time.\n",
        " \n",
        "Using the `:OrIf` clause will thus enable what is usually referred to as *short-circuiting* in other programming languages.\n",
        " \n",
        "Note that the optional Block **1** may be useful to prepare the variables to be referenced in *Condition* **2**, but can also be omitted.\n",
        "\n",
        "We have a similar structure with the `:AndIf` clause, as seen in {numref}`fig-Control_Flow_AndIf`:\n",
        "\n",
        "(fig-Control_Flow_AndIf)=\n",
        "```{figure} res/Control_Flow_AndIf.png\n",
        "---\n",
        "name: Control_Flow_AndIf\n",
        "---\n",
        "A diagram with the usage of `:AndIf`.\n",
        "```\n",
        "\n",
        "Again, Block **0** and Block **3** will always be executed. Block **1** is optional and will only be executed if *Condition* **1** **is** satisfied. Likewise, *Condition* **2** will be executed only if *Condition* **1** is satisfied. Finally, Block **2** is executed if both *Condition* **1** **AND** *Condition* **2** are satisfied.\n",
        "\n",
        "<!--begin rule-->\n",
        "***Rule***:\n",
        "\n",
        " > For `:OrIf` and `:AndIf`, Block **1** and *Condition* **2** are only executed if the result of *Condition* **1** is **not** enough to determine the result of the Boolean operation combining conditions **1** and **2**.\n",
        "<!--end-->\n",
        "\n",
        "In many cases, the same result could be obtained by a more traditional APL approach using `\u2227`: `:If (Condition 1) \u2227 (Condition 2)`.\n",
        "\n",
        "However, it may be that *Condition* **2** cannot be evaluated if *Condition* **1** is not satisfied. For example, we want to execute Block **2** if the variable `var` exists and is smaller than the argument `arg`. It is obvious that `var<arg` cannot be evaluated if the variable `var` does not even exist. The two conditions must be evaluated separately:"
      ]
    },
    {
      "cell_type": "code",
      "execution_count": 120,
      "metadata": {},
      "outputs": [],
      "source": [
        "\u2207 r \u2190 CheckVar arg\n",
        "    r \u2190 0\n",
        "    :If 2=\u2395NC'var'\n",
        "        \u2395\u2190 'var exists'\n",
        "    :AndIf var<arg\n",
        "        \u2395\u2190 'var is smaller than arg'\n",
        "        r \u2190 1\n",
        "    :EndIf\n",
        "\u2207"
      ]
    },
    {
      "cell_type": "markdown",
      "metadata": {},
      "source": [
        "Notice that `var` doesn't exist as a variable in our workspace:"
      ]
    },
    {
      "cell_type": "code",
      "execution_count": 121,
      "metadata": {},
      "outputs": [
        {
          "name": "stderr",
          "output_type": "stream",
          "text": [
            "VALUE ERROR: Undefined name: var\n",
            "      var\n",
            "      \u2227\n"
          ]
        }
      ],
      "source": [
        "var"
      ]
    },
    {
      "cell_type": "markdown",
      "metadata": {},
      "source": [
        "Hence `CheckVar` should do nothing and return 0:"
      ]
    },
    {
      "cell_type": "code",
      "execution_count": 122,
      "metadata": {},
      "outputs": [
        {
          "data": {
            "text/html": [
              "<span style=\"white-space:pre; font-family: monospace\">0\n",
              "</span>"
            ]
          },
          "execution_count": 122,
          "metadata": {},
          "output_type": "execute_result"
        }
      ],
      "source": [
        "CheckVar 1000"
      ]
    },
    {
      "cell_type": "markdown",
      "metadata": {},
      "source": [
        "If *Condition* **1** is not satisfied neither Block **1** nor *Condition* **2** are executed. This may also save some computing time in more complex tradfns.\n",
        "\n",
        "Now we set `var` to some value and we can then check it:"
      ]
    },
    {
      "cell_type": "code",
      "execution_count": 123,
      "metadata": {},
      "outputs": [],
      "source": [
        "var \u2190 500"
      ]
    },
    {
      "cell_type": "code",
      "execution_count": 124,
      "metadata": {},
      "outputs": [
        {
          "data": {
            "text/html": [
              "<span style=\"white-space:pre; font-family: monospace\">var exists\n",
              "var is smaller than arg\n",
              "1\n",
              "</span>"
            ]
          },
          "execution_count": 124,
          "metadata": {},
          "output_type": "execute_result"
        }
      ],
      "source": [
        "CheckVar 1000"
      ]
    },
    {
      "cell_type": "code",
      "execution_count": 125,
      "metadata": {},
      "outputs": [
        {
          "data": {
            "text/html": [
              "<span style=\"white-space:pre; font-family: monospace\">var exists\n",
              "0\n",
              "</span>"
            ]
          },
          "execution_count": 125,
          "metadata": {},
          "output_type": "execute_result"
        }
      ],
      "source": [
        "CheckVar 100"
      ]
    },
    {
      "cell_type": "markdown",
      "metadata": {},
      "source": [
        "Note that you may not combine `:OrIf` and `:AndIf` within the same control structure. The following code will generate a `SYNTAX ERROR`:"
      ]
    },
    {
      "cell_type": "code",
      "execution_count": 54,
      "metadata": {},
      "outputs": [],
      "source": [
        "\u2207 surface \u2190 BadSyntaxTradfn args; width; length; height\n",
        "    (width length height) \u2190 args\n",
        "    :If width<20\n",
        "    :AndIf length<100\n",
        "    :OrIf height<5\n",
        "        surface \u2190 0\n",
        "    :Else\n",
        "        surface \u2190 width\u00d7length\n",
        "    :EndIf\n",
        "\u2207"
      ]
    },
    {
      "cell_type": "code",
      "execution_count": 127,
      "metadata": {},
      "outputs": [
        {
          "name": "stderr",
          "output_type": "stream",
          "text": [
            "SYNTAX ERROR\n",
            "BadSyntaxTradfn[2] :If width<20\n",
            "                            \u2227\n"
          ]
        }
      ],
      "source": [
        "BadSyntaxTradfn 5 5 5"
      ]
    },
    {
      "cell_type": "markdown",
      "metadata": {},
      "source": [
        "(User-Defined-Functions-Cascading-Conditions-ElseIfElse)=\n",
        "#### Cascading Conditions (`:ElseIf`/`:Else`)\n",
        "\n",
        "Sometimes, if the first condition is not satisfied, perhaps a second or a third one will be. In each case, a different set of statements will be executed. This type of logic may be controlled by one or more \"`:ElseIf`\" clauses. And if none of these conditions are satisfied, perhaps another block of statements is to be executed; this may be controlled by a final \"`:Else`\", as we have seen earlier.\n",
        "\n",
        "Depending on the problem, \"`:Else`\" may be present or not. If there is no \"`:Else`\" clause and no condition has been satisfied, nothing will be executed inside the `:If` block.\n",
        "\n",
        "(fig-Control_Flow_ElseIf)=\n",
        "```{figure} res/Control_Flow_ElseIf.png\n",
        "---\n",
        "name: Control_Flow_ElseIf\n",
        "---\n",
        "A diagram with multiple usages of `:ElseIf` clauses.\n",
        "```\n",
        "\n",
        "By now, you should be able to tell by yourself that Block **0** and Block **5** in {numref}`fig-Control_Flow_ElseIf`, if present, will always be executed.\n",
        "\n",
        "For the conditions and the remaining blocks, a simple rule applies:\n",
        "\n",
        "<!--begin rule-->\n",
        "***Rule***:\n",
        "\n",
        "Using {numref}`fig-Control_Flow_ElseIf` as reference for the rule examples:\n",
        "\n",
        " > - the conditions are executed in turn, until one of them is satisfied. When one condition is satisfied, its corresponding block is executed. For example, if *Condition* **1** is not satisfied and *Condition* **2** **is** satisfied, then Block **2** **is** executed;\n",
        " >\n",
        " > - as soon as one condition is satisfied and its block is executed, all other conditions and blocks inside the `:If... :EndIf` control structure are ignored. For example, if *Condition* **2** is the first condition to be satisfied, then *Condition* **3** is **not** executed (**even** if *Condition* **3** would be satisfied), as neither are Block **3** nor Block **4**; and\n",
        " >\n",
        " > - if none of the conditions is satisfied and an `:Else` clause is present, then its corresponding block is executed. For example, if conditions **1** to **3** are not satisfied, then Block **4** is satisfied.\n",
        " >\n",
        " > Hence, all conditional blocks (blocks **1** to **4**) are mutually exclusive.\n",
        "<!--end-->\n",
        "\n",
        "For example, suppose that the first condition is `var<100` and the second is `var<200`.\n",
        "\n",
        "If `var` happens to be equal to 33, it is both smaller than 100 and 200, but only the block of statements attached to `var<100` will be executed:"
      ]
    },
    {
      "cell_type": "code",
      "execution_count": 128,
      "metadata": {},
      "outputs": [],
      "source": [
        "\u2207 r \u2190 VarLevels var\n",
        "    :If var<100\n",
        "        \u2395\u2190 'var is < than 100'\n",
        "        r \u2190 100\n",
        "    :ElseIf var<200\n",
        "        \u2395\u2190 'var is < than 200'\n",
        "        r \u2190 200\n",
        "    :Else\n",
        "        \u2395\u2190 'var is too big'\n",
        "        r \u2190 var\n",
        "    :EndIf\n",
        "\u2207"
      ]
    },
    {
      "cell_type": "code",
      "execution_count": 129,
      "metadata": {},
      "outputs": [
        {
          "data": {
            "text/html": [
              "<span style=\"white-space:pre; font-family: monospace\">var is &lt; than 100\n",
              "100\n",
              "</span>"
            ]
          },
          "execution_count": 129,
          "metadata": {},
          "output_type": "execute_result"
        }
      ],
      "source": [
        "VarLevels 33"
      ]
    },
    {
      "cell_type": "code",
      "execution_count": 130,
      "metadata": {},
      "outputs": [
        {
          "data": {
            "text/html": [
              "<span style=\"white-space:pre; font-family: monospace\">var is &lt; than 200\n",
              "200\n",
              "</span>"
            ]
          },
          "execution_count": 130,
          "metadata": {},
          "output_type": "execute_result"
        }
      ],
      "source": [
        "VarLevels 133"
      ]
    },
    {
      "cell_type": "code",
      "execution_count": 131,
      "metadata": {},
      "outputs": [
        {
          "data": {
            "text/html": [
              "<span style=\"white-space:pre; font-family: monospace\">var is too big\n",
              "350\n",
              "</span>"
            ]
          },
          "execution_count": 131,
          "metadata": {},
          "output_type": "execute_result"
        }
      ],
      "source": [
        "VarLevels 350"
      ]
    },
    {
      "cell_type": "markdown",
      "metadata": {},
      "source": [
        "(User-Defined-Functions-Alternative-Solutions)=\n",
        "#### Alternative Solutions\n",
        "\n",
        "Now you know how to use control structures to write conditional expressions. However, this does not mean that you always *have to* or *should* use control structures. The richness of the APL language often makes it more convenient to express condition calculations using a more mathematical approach.\n",
        "\n",
        "For example, suppose that you need to comment on the result of a football or rugby match by displaying \"*Won*\", \"*Draw*\" or \"*Lost*\", depending on the scores of the two teams. Here are two solutions:"
      ]
    },
    {
      "cell_type": "code",
      "execution_count": 132,
      "metadata": {},
      "outputs": [],
      "source": [
        "\u2207 r \u2190 x Comment y\n",
        "    :If x>y\n",
        "        r \u2190 'Won'\n",
        "    :ElseIf x=y\n",
        "        r \u2190 'Draw'\n",
        "    :Else\n",
        "        r \u2190 'Lost'\n",
        "    :EndIf\n",
        "\u2207"
      ]
    },
    {
      "cell_type": "code",
      "execution_count": 133,
      "metadata": {},
      "outputs": [
        {
          "data": {
            "text/html": [
              "<span style=\"white-space:pre; font-family: monospace\">Won\n",
              "</span>"
            ]
          },
          "execution_count": 133,
          "metadata": {},
          "output_type": "execute_result"
        }
      ],
      "source": [
        "2 Comment 1"
      ]
    },
    {
      "cell_type": "code",
      "execution_count": 134,
      "metadata": {},
      "outputs": [
        {
          "data": {
            "text/html": [
              "<span style=\"white-space:pre; font-family: monospace\">Draw\n",
              "</span>"
            ]
          },
          "execution_count": 134,
          "metadata": {},
          "output_type": "execute_result"
        }
      ],
      "source": [
        "2 Comment 2"
      ]
    },
    {
      "cell_type": "code",
      "execution_count": 135,
      "metadata": {},
      "outputs": [
        {
          "data": {
            "text/html": [
              "<span style=\"white-space:pre; font-family: monospace\">Lost\n",
              "</span>"
            ]
          },
          "execution_count": 135,
          "metadata": {},
          "output_type": "execute_result"
        }
      ],
      "source": [
        "0 Comment 3"
      ]
    },
    {
      "cell_type": "code",
      "execution_count": 136,
      "metadata": {},
      "outputs": [],
      "source": [
        "\u2207 r \u2190 x Comment y\n",
        "    which \u2190 2+\u00d7x-y\n",
        "    r \u2190 (3 4\u2374'LostDrawWon ')[which;]\n",
        "\u2207"
      ]
    },
    {
      "cell_type": "code",
      "execution_count": 137,
      "metadata": {},
      "outputs": [
        {
          "data": {
            "text/html": [
              "<span style=\"white-space:pre; font-family: monospace\">Won \n",
              "</span>"
            ]
          },
          "execution_count": 137,
          "metadata": {},
          "output_type": "execute_result"
        }
      ],
      "source": [
        "2 Comment 1"
      ]
    },
    {
      "cell_type": "code",
      "execution_count": 138,
      "metadata": {},
      "outputs": [
        {
          "data": {
            "text/html": [
              "<span style=\"white-space:pre; font-family: monospace\">Draw\n",
              "</span>"
            ]
          },
          "execution_count": 138,
          "metadata": {},
          "output_type": "execute_result"
        }
      ],
      "source": [
        "2 Comment 2"
      ]
    },
    {
      "cell_type": "code",
      "execution_count": 139,
      "metadata": {},
      "outputs": [
        {
          "data": {
            "text/html": [
              "<span style=\"white-space:pre; font-family: monospace\">Lost\n",
              "</span>"
            ]
          },
          "execution_count": 139,
          "metadata": {},
          "output_type": "execute_result"
        }
      ],
      "source": [
        "0 Comment 3"
      ]
    },
    {
      "cell_type": "markdown",
      "metadata": {},
      "source": [
        "Which solution you prefer is probably a matter of taste and previous experience, both yours and of whoever is to read and maintain the programs you write. Notice that only the second solution is suitable for a dfn."
      ]
    },
    {
      "cell_type": "markdown",
      "metadata": {},
      "source": [
        "(User-Defined-Functions-Disparate-Conditions)=\n",
        "### Disparate Conditions\n",
        "\n",
        "(User-Defined-Functions-Clauses-SelectCaseCaseList)=\n",
        "#### Clauses (`:Select`/`:Case`/`:CaseList`)\n",
        "\n",
        "Sometimes it is necessary to execute completely different sets of statements, depending on the value of a specific *control expression*, hereafter called the *control value*.\n",
        "\n",
        "To achieve this, we use \"`:Select`\", with additional \"`:Case`\" or \"`:CaseList`\" clauses.\n",
        "\n",
        "The sequence begins with `:Select` followed by the *control expression*.\n",
        "\n",
        "It is then followed by any number of blocks, each of which will be executed if the *control value* is equal to one of the values specified in the corresponding clause:\n",
        "\n",
        " - `:Case` for a single value.\n",
        " - `:CaseList` for a list of possible values.\n",
        " \n",
        "The sequence ends with `:EndSelect`.\n",
        "\n",
        "You can have as many `:Case` or `:CaseList` clauses as you need and in any order.\n",
        "\n",
        "If the control value is not equal to any of the specified values, nothing is executed, unless there is one final `:Else` clause.\n",
        "\n",
        "Like with `:If... :ElseIf... :Else`, the blocks are mutually exclusive. The `:Case` statements are examined from the top and once a match is found and the corresponding block of statements has been executed, execution will continue with the first line after the `:EndSelect` statement - even if the *control value* matches other `:Case` or `:CaseList` statements.\n",
        "\n",
        "In {numref}`fig-Control_Flow_Select`, the *control expression* is simply `District` and the *control value* is whatever value the variable holds. Then, Block **1** is executed if `District` is equal to 50, Block **2** is executed if `District` is equal to 19 and Block **3** is executed if `District` is equal to 41, 42 or 53, but not if `District` is equal to 50. In that case, Block **1** will already have been executed and the execution won't reach this `:CaseList`. Therefore, we conclude that including 50 in this `:CaseList` is superfluous and we better remove it to avoid any confusion. Finally, Block **4** is only executed if `District` is not equal to any of the values listed above.\n",
        "\n",
        "(fig-Control_Flow_Select)=\n",
        "```{figure} res/Control_Flow_Select.png\n",
        "---\n",
        "name: Control_Flow_Select\n",
        "---\n",
        "A diagram with the usage of `:Select`, `:Case` and `:CaseList`.\n",
        "```\n",
        "\n",
        "<!--begin remark-->\n",
        "***Remark***:\n",
        "\n",
        " > Values specified in `:Case` or `:CaseList` clauses can be numbers, characters or even nested arrays.\n",
        "<!--end-->\n",
        "\n",
        "Here is an example using all of those:"
      ]
    },
    {
      "cell_type": "code",
      "execution_count": 140,
      "metadata": {},
      "outputs": [],
      "source": [
        "\u2207 arg \u2190 CasePotpourri arg\n",
        "    :Select arg\n",
        "    :CaseList 'yes' 'no' 'doubt'  \u235d 3 possible values\n",
        "        \u2395\u2190 'yes no doubt'\n",
        "    :CaseList (2 7)(5 1)'Null'    \u235d 3 different possible vectors\n",
        "        \u2395\u2190 'some vector'\n",
        "    :Case 'BERLIN'                \u235d 1 single word\n",
        "        \u2395\u2190 'Germany'\n",
        "    :CaseList 'PARIS'             \u235d 5 possible letters\n",
        "        \u2395\u2190 'A French letter'\n",
        "    :Else\n",
        "        \u2395\u2190 'no match...'\n",
        "    :EndSelect\n",
        "\u2207"
      ]
    },
    {
      "cell_type": "code",
      "execution_count": 141,
      "metadata": {},
      "outputs": [
        {
          "data": {
            "text/html": [
              "<span style=\"white-space:pre; font-family: monospace\">yes no doubt\n",
              "yes\n",
              "</span>"
            ]
          },
          "execution_count": 141,
          "metadata": {},
          "output_type": "execute_result"
        }
      ],
      "source": [
        "CasePotpourri 'yes'"
      ]
    },
    {
      "cell_type": "code",
      "execution_count": 142,
      "metadata": {},
      "outputs": [
        {
          "data": {
            "text/html": [
              "<span style=\"white-space:pre; font-family: monospace\">some vector\n",
              "2 7\n",
              "</span>"
            ]
          },
          "execution_count": 142,
          "metadata": {},
          "output_type": "execute_result"
        }
      ],
      "source": [
        "CasePotpourri 2 7"
      ]
    },
    {
      "cell_type": "code",
      "execution_count": 143,
      "metadata": {},
      "outputs": [
        {
          "data": {
            "text/html": [
              "<span style=\"white-space:pre; font-family: monospace\">A French letter\n",
              "I\n",
              "</span>"
            ]
          },
          "execution_count": 143,
          "metadata": {},
          "output_type": "execute_result"
        }
      ],
      "source": [
        "CasePotpourri 'I'"
      ]
    },
    {
      "cell_type": "code",
      "execution_count": 144,
      "metadata": {},
      "outputs": [
        {
          "data": {
            "text/html": [
              "<span style=\"white-space:pre; font-family: monospace\">Germany\n",
              "BERLIN\n",
              "</span>"
            ]
          },
          "execution_count": 144,
          "metadata": {},
          "output_type": "execute_result"
        }
      ],
      "source": [
        "CasePotpourri 'BERLIN'"
      ]
    },
    {
      "cell_type": "code",
      "execution_count": 145,
      "metadata": {},
      "outputs": [
        {
          "data": {
            "text/html": [
              "<span style=\"white-space:pre; font-family: monospace\">no match...\n",
              "PARIS\n",
              "</span>"
            ]
          },
          "execution_count": 145,
          "metadata": {},
          "output_type": "execute_result"
        }
      ],
      "source": [
        "CasePotpourri 'PARIS'"
      ]
    },
    {
      "cell_type": "markdown",
      "metadata": {},
      "source": [
        "Be careful with the last three examples where a character vector is used, and the relevant `:Case 'BERLIN'` and `:CaseList 'PARIS'` clauses in the tradfn:\n",
        "\n",
        " - if the keyword is `:Case`, the control value must match the entire character vector \"`'BERLIN'`\"; and\n",
        " - if the keyword is `:CaseList`, the control value may be any one letter out of the five letters in \"`'PARIS'`\". Any subset, like \"`'PAR'`\" will not be recognised as matching.\n",
        " \n",
        "<!--begin warning-->\n",
        "***Warning***:\n",
        "\n",
        " > The control value must be **strictly** identical to the value(s) specified in the `:Case` clause(s), i.e. the result of using `\u2261` with the control value and the matching value in the clause should be 1.\n",
        "<!--end-->\n",
        "\n",
        "For example, in the preceding diagram, there is a clause `:Case 50` (scalar). If the control value is equal to `1\u237450` (a one-item vector), it is not strictly identical to the specified array (the scalar `50`) and the corresponding set of statements will **not** be executed. In fact,"
      ]
    },
    {
      "cell_type": "code",
      "execution_count": 146,
      "metadata": {},
      "outputs": [
        {
          "data": {
            "text/html": [
              "<span style=\"white-space:pre; font-family: monospace\">0\n",
              "</span>"
            ]
          },
          "execution_count": 146,
          "metadata": {},
          "output_type": "execute_result"
        }
      ],
      "source": [
        "50\u2261(1\u237450)"
      ]
    },
    {
      "cell_type": "markdown",
      "metadata": {},
      "source": [
        "(User-Defined-Functions-Predefined-Loops)=\n",
        "### Predefined Loops\n",
        "\n",
        "(User-Defined-Functions-Basic-Use-ForInEndFor)=\n",
        "#### Basic Use (`:For`/`:In`/`:EndFor`)\n",
        "\n",
        "In many iterative calculations a set of statements is repeated over and over again, and on each iteration a new value is given to a particular variable. We will refer to this variable as the *control variable*.\n",
        "\n",
        "If the values of the control variable can be predefined before the beginning of the loop, we recommend that you use the `:For` clause, with the following syntax: `:For controlVariable :In listOfValues`.\n",
        "\n",
        "The keyword `:For` is followed by the name of the control variable. In the same statement, the keyword `:In` is followed by an expression returning the list of values to be assigned to the control variable on each iteration. Here is an example:"
      ]
    },
    {
      "cell_type": "code",
      "execution_count": 147,
      "metadata": {},
      "outputs": [],
      "source": [
        "\u2207 r \u2190 ZapMe y\n",
        "    r \u2190 0\n",
        "    :For zap :In 50 82 27 11\n",
        "        \u2395\u2190 zap\n",
        "        r \u2190 zap\n",
        "    :EndFor\n",
        "\u2207"
      ]
    },
    {
      "cell_type": "code",
      "execution_count": 148,
      "metadata": {},
      "outputs": [
        {
          "data": {
            "text/html": [
              "<span style=\"white-space:pre; font-family: monospace\">50\n",
              "82\n",
              "27\n",
              "11\n",
              "11\n",
              "</span>"
            ]
          },
          "execution_count": 148,
          "metadata": {},
          "output_type": "execute_result"
        }
      ],
      "source": [
        "ZapMe 3"
      ]
    },
    {
      "cell_type": "markdown",
      "metadata": {},
      "source": [
        "The block of statements between the `:For` and `:EndFor` will be executed 4 times: once with `zap \u2190 50`, then with `zap \u2190 82`, then with `zap \u2190 27`, and finally with `zap \u2190 11`.\n",
        "\n",
        "Generally, the block of statements makes some reference to the *control variable*, for example as part of a calculation, but this is not mandatory.\n",
        "\n",
        "This technique has one great advantage: the number of iterations is predefined, and it is impossible to accidentally program an endless loop.\n",
        "\n",
        "(User-Defined-Functions-Control-of-Iterations)=\n",
        "#### Control of Iterations\n",
        "\n",
        "The values assigned to the control variable can be whatever values are needed by the algorithm:\n",
        "\n",
        " - a list of numeric values like `66+4\u00d7\u237320`;\n",
        " - a nested vector like `(5 4)(3 0 8)(4 7)(2 5 9)`;\n",
        " - a list of letters like `'DYALOG'`; or\n",
        " - a list of words like `'Madrid' 'Paris' 'Tokyo' 'Ushuaia'`.\n",
        " \n",
        "It is also possible to use a *set* of control values, rather than just a single one.\n",
        "\n",
        "For example, with `:For (code qty) :In (5 8)(2 3)(7 4)` the loop will be executed:\n",
        "\n",
        " - first with `code \u2190 5` and `qty \u2190 8`;\n",
        " - then with `code \u2190 2` and `qty \u2190 3`; and\n",
        " - finally with `code \u2190 7` and `qty \u2190 4`.\n",
        " \n",
        "In most cases, this kind of iterative process is executed to completion. However, it is possible to take an early exit when some condition or other is met. This can be done using the `:Leave` clause or using an explicit branch, like will be explained later.\n",
        "\n",
        "A special variant of `:In` named `:InEach` is explained in {numref}`User-Defined-Functions-InEach` at the end of this chapter.\n",
        "\n",
        "<!--begin example-->\n",
        "***Example***:\n",
        "\n",
        " > Let us try to find all the possible divisors of a given integer.\n",
        "<!--end-->\n",
        "\n",
        "A possible solution is to check the remainder of that value against all integers starting from 1, up to the number itself. If the remainder is 0, the integer can be appended to the vector of results, which has been initialised as an empty vector:"
      ]
    },
    {
      "cell_type": "code",
      "execution_count": 57,
      "metadata": {},
      "outputs": [],
      "source": [
        "\u2207 divs \u2190 Divisors n; rem; div\n",
        "    divs \u2190 \u236c\n",
        "    :For div :In \u2373n\n",
        "        rem \u2190 div|n\n",
        "        :If rem=0\n",
        "            divs \u2190 divs,div\n",
        "        :EndIf\n",
        "    :EndFor\n",
        "\u2207"
      ]
    },
    {
      "cell_type": "code",
      "execution_count": 58,
      "metadata": {},
      "outputs": [
        {
          "data": {
            "text/html": [
              "<span style=\"white-space:pre; font-family: monospace\">1 3 29 37 87 111 1073 3219\n",
              "</span>"
            ]
          },
          "execution_count": 58,
          "metadata": {},
          "output_type": "execute_result"
        }
      ],
      "source": [
        "Divisors 3219"
      ]
    },
    {
      "cell_type": "markdown",
      "metadata": {},
      "source": [
        "This example hopefully shows that it is straightforward to write simple, predefined loops using control structures. If you are used to other programming languages that do not offer array processing features, you may even find this way of writing programs very natural.\n",
        "\n",
        "However, it turns out that many simple, predefined loops like this one are very tightly coupled to the structure or values of the data that they are working on: the number of items in a list, the number of rows in a matrix or, as in this example, the number of positive integers less than or equal to a particular value.\n",
        "\n",
        "In such cases it is very often possible to express the entire algorithm in a very straightforward way, without any explicit loops. Usually the result is a much shorter program that is much easier to read and which runs considerably faster than the solution using explicit loops.\n",
        "\n",
        "For example, in the example above it is possible to replace the loop by a vector of possible divisors produced by the *Index generator*. The algorithm is unchanged, but the program is shorter:"
      ]
    },
    {
      "cell_type": "code",
      "execution_count": 59,
      "metadata": {},
      "outputs": [],
      "source": [
        "]dinput\n",
        "DivisorsNoLoops \u2190 {\n",
        "    (0=(\u2373\u2375)|\u2375)/\u2373\u2375\n",
        "}"
      ]
    },
    {
      "cell_type": "code",
      "execution_count": 60,
      "metadata": {},
      "outputs": [
        {
          "data": {
            "text/html": [
              "<span style=\"white-space:pre; font-family: monospace\">1 3 29 37 87 111 1073 3219\n",
              "</span>"
            ]
          },
          "execution_count": 60,
          "metadata": {},
          "output_type": "execute_result"
        }
      ],
      "source": [
        "DivisorsNoLoops 3219"
      ]
    },
    {
      "cell_type": "markdown",
      "metadata": {},
      "source": [
        "and about 100 times faster:"
      ]
    },
    {
      "cell_type": "code",
      "execution_count": 61,
      "metadata": {},
      "outputs": [
        {
          "data": {
            "text/html": [
              "<span style=\"white-space:pre; font-family: monospace\">                                                                                \n",
              "  Divisors 3219        \u2192 3.0E\u00af3 |   0% \u2395\u2395\u2395\u2395\u2395\u2395\u2395\u2395\u2395\u2395\u2395\u2395\u2395\u2395\u2395\u2395\u2395\u2395\u2395\u2395\u2395\u2395\u2395\u2395\u2395\u2395\u2395\u2395\u2395\u2395\u2395\u2395\u2395\u2395\u2395\u2395\u2395\u2395\u2395\u2395 \n",
              "  DivisorsNoLoops 3219 \u2192 3.2E\u00af5 | -99%                                          \n",
              "</span>"
            ]
          },
          "execution_count": 61,
          "metadata": {},
          "output_type": "execute_result"
        }
      ],
      "source": [
        "]runtime -c 'Divisors 3219' 'DivisorsNoLoops 3219'"
      ]
    },
    {
      "cell_type": "markdown",
      "metadata": {},
      "source": [
        "The `]runtime -c` is a user command that can be used to compare two or more pieces of code. It uses the first expression as the baseline and then compares the run time of the subsequent pieces of code against the first one. Here, the `-99%` on the second line means `DivisorsNoLoops` is 100 times faster, which can also be understood by comparing the run times (in seconds) of each expression, the `1.1E\u00af3` and `1.1E\u00af5` above (the exact numbers might fluctuate, depending on factors like how the CPU is feeling, the machine the code gets ran on, etc.)\n",
        "\n",
        "Of course, sometimes the processing that is to take place inside the loop is so complex that it is infeasible to rewrite the program so that it doesn't use an explicit loop. For example, the existence of a dependency such that the calculations taking place in one iteration are dependent on the results produced in the previous iteration will generally make it harder to write a program without an explicit loop."
      ]
    },
    {
      "cell_type": "markdown",
      "metadata": {},
      "source": [
        "(User-Defined-Functions-Conditional-Loops)=\n",
        "### Conditional Loops\n",
        "\n",
        "In the previous section we used the term \"predefined loop\" because the number of iterations was controlled by an expression executed before the loop starts. It is also possible to program loops which are repeated until a given condition is satisfied.\n",
        "\n",
        "Two methods are available:\n",
        "\n",
        " - using `:Repeat... :Until`; and\n",
        " - using `:While... :EndWhile`.\n",
        " \n",
        "The two methods are similar, but there are some important differences:\n",
        "\n",
        " - `:Repeat`:\n",
        "   - when the loop is initialised, the condition is **not** yet satisfied (generally);\n",
        "   - the program loops *until* this condition **becomes** satisfied;\n",
        "   - the \"Loop or Stop\" test is placed at the **bottom** of the loop; and\n",
        "   - the instructions in the loop are executed at least once.\n",
        " \n",
        " - `:While`:\n",
        "   - when the loop is initialised, the condition **is** (generally) satisfied;\n",
        "   - the program loops as long as it **remains** satisfied;\n",
        "   - the \"Loop or Stop\" test is placed at the **beginning** of the loop; and\n",
        "   - the instructions in the loop may not be executed at all."
      ]
    },
    {
      "cell_type": "markdown",
      "metadata": {},
      "source": [
        "(User-Defined-Functions-Bottom-Controlled-Loop-RepeatUntil)=\n",
        "#### Bottom-Controlled Loop (`:Repeat`/`:Until`)\n",
        "\n",
        "The control variables involved in the test are often initialised before the loop begins, but they can be created during the execution of the loop because the test is placed at the bottom.\n",
        "\n",
        "Then the block of statements delimited by `:Repeat... :Until` is executed repeatedly up to the point where the condition specified after `:Until` becomes satisfied.\n",
        "\n",
        "This condition may involve one or more variables. It is obvious that the statements contained in the loop must modify some of those control variables, or import them from an external source, so that the condition is satisfied after a limited number of iterations. This is the programmer's responsibility.\n",
        "\n",
        "Here is an example usage of `:Repeat... :Until` to calculate after how many years an investment reaches a target value, if it grows at a fixed rate:"
      ]
    },
    {
      "cell_type": "code",
      "execution_count": 76,
      "metadata": {},
      "outputs": [],
      "source": [
        "\u2207 years \u2190 rate ComputeGrowthTime values; amount; target\n",
        "    years \u2190 0\n",
        "    (amount target) \u2190 values\n",
        "    :Repeat\n",
        "        amount \u2190 amount\u00d71+rate   \u235d accumulate interest\n",
        "        years \u2190 years+1\n",
        "    :Until amount\u2265target\n",
        "\u2207"
      ]
    },
    {
      "cell_type": "code",
      "execution_count": 77,
      "metadata": {},
      "outputs": [
        {
          "data": {
            "text/html": [
              "<span style=\"white-space:pre; font-family: monospace\">47\n",
              "</span>"
            ]
          },
          "execution_count": 77,
          "metadata": {},
          "output_type": "execute_result"
        }
      ],
      "source": [
        "0.02 ComputeGrowthTime 10000 25000"
      ]
    },
    {
      "cell_type": "code",
      "execution_count": 78,
      "metadata": {},
      "outputs": [
        {
          "data": {
            "text/html": [
              "<span style=\"white-space:pre; font-family: monospace\">31\n",
              "</span>"
            ]
          },
          "execution_count": 78,
          "metadata": {},
          "output_type": "execute_result"
        }
      ],
      "source": [
        "0.03 ComputeGrowthTime 10000 25000"
      ]
    },
    {
      "cell_type": "markdown",
      "metadata": {},
      "source": [
        "This means that if you invested 10.000 in an investment that grew 2% every year, then your investment's value would surpass 25.000 after 47 years. If the growth rate is 3% instead, you would need 31 years instead.\n",
        "\n",
        "The test is made on the bottom line of the loop, immediately after `:Until`, so the loop is executed at least once."
      ]
    },
    {
      "cell_type": "markdown",
      "metadata": {},
      "source": [
        "The \"Loop or Stop\" control is made at the bottom of each loop, but it is also possible to add one or more intermediate conditions which cause an exit from the loop using a `:Leave` clause or a *branch arrow* (this will be explained in {numref}`User-Defined-Functions-Modern-and-Traditional-Controls-Cooperate`).\n",
        "\n",
        "<!--begin special case style=remark-->\n",
        "***Special case***:\n",
        "\n",
        " > It is possible to replace `:Until` with `:EndRepeat`. However, because there is no longer a loop control expression, the program would loop endlessly. For this reason it is necessary to employ intermediate tests to exit the loop when using this technique.\n",
        "<!--end-->"
      ]
    },
    {
      "cell_type": "markdown",
      "metadata": {},
      "source": [
        "(User-Defined-Functions-Top-Controlled-Loop-WhileEndWhile)=\n",
        "#### Top-Controlled Loop (`:While`/`:EndWhile`)\n",
        "\n",
        "Because the test is now placed at the top of the loop, control variables involved in the test must be initialised before the loop begins.\n",
        "\n",
        "Then the block of statements limited by `:While`/`:EndWhile` will be executed repeatedly as long as the condition specified after `:While` remains satisfied.\n",
        "\n",
        "This condition may involve one or more variables. It is obvious that the statements contained in the loop must modify some of those control variables so that the condition is satisfied after a limited number of iterations. This is the programmer's responsibility.\n",
        "\n",
        "As an example, let us implement a function that takes a positive integer and computes its [\"Collatz path\"](https://en.wikipedia.org/wiki/Collatz_conjecture). The Collatz path of a positive integer is built by starting at the number given and then:\n",
        "\n",
        " - if the number $n$ you are at is odd, go to $3n + 1$; or\n",
        " - if the number $n$ you are at is even, go to $\\frac{n}{2}$.\n",
        " \n",
        "The [Collatz conjecture](https://en.wikipedia.org/wiki/Collatz_conjecture) states that any positive integer eventually goes to 1. This tradfn can help us visualise this:"
      ]
    },
    {
      "cell_type": "code",
      "execution_count": 60,
      "metadata": {},
      "outputs": [],
      "source": [
        "\u2207 path \u2190 CollatzPath n\n",
        "    path \u2190 1\u2374n\n",
        "    :While path[\u2262path]\u22601\n",
        "        n \u2190 path[\u2262path]\n",
        "        n \u2190 ((n\u00f72) (1+3\u00d7n))[1+2|n]\n",
        "        path \u2190 path,n\n",
        "    :EndWhile\n",
        "\u2207"
      ]
    },
    {
      "cell_type": "code",
      "execution_count": 159,
      "metadata": {},
      "outputs": [
        {
          "data": {
            "text/html": [
              "<span style=\"white-space:pre; font-family: monospace\">1\n",
              "</span>"
            ]
          },
          "execution_count": 159,
          "metadata": {},
          "output_type": "execute_result"
        }
      ],
      "source": [
        "CollatzPath 1"
      ]
    },
    {
      "cell_type": "code",
      "execution_count": 160,
      "metadata": {},
      "outputs": [
        {
          "data": {
            "text/html": [
              "<span style=\"white-space:pre; font-family: monospace\">2 1\n",
              "</span>"
            ]
          },
          "execution_count": 160,
          "metadata": {},
          "output_type": "execute_result"
        }
      ],
      "source": [
        "CollatzPath 2"
      ]
    },
    {
      "cell_type": "code",
      "execution_count": 161,
      "metadata": {},
      "outputs": [
        {
          "data": {
            "text/html": [
              "<span style=\"white-space:pre; font-family: monospace\">11 34 17 52 26 13 40 20 10 5 16 8 4 2 1\n",
              "</span>"
            ]
          },
          "execution_count": 161,
          "metadata": {},
          "output_type": "execute_result"
        }
      ],
      "source": [
        "CollatzPath 11"
      ]
    },
    {
      "cell_type": "markdown",
      "metadata": {},
      "source": [
        "The test is made in the top line of the loop, immediately after `:While`, so it is possible that the block of statements inside the loop will never be executed. In our case, when `CollatzPath` is called with 1 as its argument.\n",
        "\n",
        "The \"Loop or Stop\" control is made at each beginning of a new iteration but it is also possible to add a second control at the bottom of the loop, replacing `:EndWhile` with a `:Until` clause, just like we did for the `:Repeat` loop."
      ]
    },
    {
      "cell_type": "markdown",
      "metadata": {},
      "source": [
        "(User-Defined-Functions-Exception-Control)=\n",
        "### Exception Control\n",
        "\n",
        "(User-Defined-Functions-Skip-to-the-Next-Iteration-Continue)=\n",
        "#### Skip to the Next Iteration (`:Continue`)\n",
        "\n",
        "In any kind of loop (`:For`-`:EndFor`/`:Repeat`-`:Until`/`:While`-`:EndWhile`) this clause indicates that the program must abandon the current iteration and skip to the next one:\n",
        "\n",
        " - in a `:For` loop, this means that the next value(s) of the control variable(s) are set, and the execution continues from the line immediately below the `:For` statement;\n",
        " \n",
        " - in a `:Repeat` loop, this means that the execution continues from the line immediately below the `:Repeat` statement; and\n",
        " \n",
        " - in a `:While` loop, this means that the execution continues from the line containing the `:While` statement.\n",
        " \n",
        "For the `:For` loop, the execution only proceeds inside the loop if there are any more values for the control variable(s) to take. Similarly, we only execute more iterations of the `:Repeat` and `:While` loops if their conditions still allow.\n",
        "\n",
        "Consider this tradfn:"
      ]
    },
    {
      "cell_type": "code",
      "execution_count": 79,
      "metadata": {},
      "outputs": [],
      "source": [
        "\u2207 r \u2190 ContinueInsideWhile r\n",
        "    :While r>0\n",
        "        \u2395\u2190 'start of the loop'\n",
        "        \u2395\u2190 r\n",
        "        r \u2190 r-1\n",
        "        :Continue\n",
        "        \u2395\u2190 'bottom of the loop'\n",
        "        r \u2190 \u00af3\n",
        "    :EndWhile\n",
        "\u2207"
      ]
    },
    {
      "cell_type": "code",
      "execution_count": 80,
      "metadata": {},
      "outputs": [
        {
          "data": {
            "text/html": [
              "<span style=\"white-space:pre; font-family: monospace\">start of the loop\n",
              "2\n",
              "start of the loop\n",
              "1\n",
              "0\n",
              "</span>"
            ]
          },
          "execution_count": 80,
          "metadata": {},
          "output_type": "execute_result"
        }
      ],
      "source": [
        "ContinueInsideWhile 2"
      ]
    },
    {
      "cell_type": "markdown",
      "metadata": {},
      "source": [
        "Because of the `:Continue` clause, we never hit the second print and the assignment that would set `r` to -3. When `r` is decreased to 0 and we hit the `:Continue` clause, the control expression in front of the `:While` is evaluated and because `0>0` evaluates to 0, the whole `:While` loop is finally finished.\n",
        "\n",
        "Usually, `:Continue` statements are nested within other control structures so that we only skip a part of the loop if certain conditions are met."
      ]
    },
    {
      "cell_type": "markdown",
      "metadata": {},
      "source": [
        "(User-Defined-Functions-Leave-the-Loop-Leave)=\n",
        "#### Leave the Loop (`:Leave`)\n",
        "\n",
        "This clause causes the program to stop the current iteration and to skip any future iterations, aborting the loop immediately, and continuing execution from the line immediately below the bottom end of the loop.\n",
        "\n",
        "`:Leave` works with any kind of loop."
      ]
    },
    {
      "cell_type": "markdown",
      "metadata": {},
      "source": [
        "(User-Defined-Functions-Jump-to-Another-Statement-GoTo)=\n",
        "#### Jump to Another Statement (`:GoTo`)\n",
        "\n",
        "This clause is used to explicitly jump from the current statement to another one, with the following syntax: `:GoTo destination`.\n",
        "\n",
        "In most cases, `destination` is the ***Label*** of another statement in the same program.\n",
        "\n",
        "A *Label* is a word placed at the beginning of a statement followed by a colon. It is used as a reference to the statement. It can be followed by an APL expression, but for readability it is recommended that you put a label on a line of its own. For example, in\n",
        "\n",
        "```APL\n",
        "Next:\n",
        "val \u2190 goal-val\u00f72\n",
        "```\n",
        "\n",
        "`Next` is a *Label*. `Next` is considered by the interpreter to be a variable whose value is the number of the line on which it is placed. It is used as a destination point both by the traditional *Branch arrow* and by the `:GoTo` clause, like this: `:GoTo Next` is equivalent to `\u2192Next` (cf. {numref}`User-Defined-Functions-Traditional-Flow-Control`). Be careful not to include the colon after the branch name when referencing to it after a `:GoTo` or after a `\u2192`.\n",
        "\n",
        "(User-Defined-Functions-Jump-Destinations)=\n",
        "##### Jump Destinations\n",
        "\n",
        "The following conventions apply to the `destination` of a jump:\n",
        "\n",
        "| `destination` | Behaviour of executing `:GoTo destination` or `\u2192destination` |\n",
        "| :-: | :- |\n",
        "| Valid label | Skip to the statement referenced by that label. |\n",
        "| `0` | Quit the current function and return to the calling environment. |\n",
        "| `\u236c` | Do not jump anywhere but continue on to the next statement. |"
      ]
    },
    {
      "cell_type": "markdown",
      "metadata": {},
      "source": [
        "(User-Defined-Functions-Quit-This-Function-Return)=\n",
        "#### Quit This Function (`:Return`)\n",
        "\n",
        "This clause causes the tradfn to terminate immediately and has exactly the same effect as `\u21920` or `:GoTo 0`. Control returns to the calling environment."
      ]
    },
    {
      "cell_type": "markdown",
      "metadata": {},
      "source": [
        "(User-Defined-Functions-Endless-Loops)=\n",
        "### Endless Loops\n",
        "\n",
        "Whatever your skills you may inadvertently create a function which runs endlessly. Usually this is due to an inappropriate loop definition.\n",
        "\n",
        "However, sometimes APL may appear to be unnecessarily executing the same set of statements again and again in an endless loop, when in fact it just has to process a very large amount of data or perform some heavy calculations.\n",
        "\n",
        "Fortunately you can interrupt the execution of a function using two kinds of interrupts: weak and strong. Let us see what this means."
      ]
    },
    {
      "cell_type": "markdown",
      "metadata": {},
      "source": [
        "(User-Defined-Functions-A-Slow-Function)=\n",
        "#### A Slow Function\n",
        "\n",
        "Let us consider the function below:"
      ]
    },
    {
      "cell_type": "code",
      "execution_count": 81,
      "metadata": {},
      "outputs": [],
      "source": [
        "\u2207 Endless; i\n",
        "    i \u2190 0\n",
        "    :Repeat\n",
        "        \u2395DL 3\n",
        "        \u22a2i \u2190 i+1\n",
        "    :Until i=20\n",
        "\u2207"
      ]
    },
    {
      "cell_type": "markdown",
      "metadata": {},
      "source": [
        "This function is not really endless, but the line `\u2395DL 3` makes it DeLay all execution for (approximately) 3 seconds, so the whole loop should take about a minute to finish execution. (You will learn more about `\u2395DL` and related functions later down the road.)\n",
        "\n",
        "The line `\u22a2i \u2190 i+1` has the final `\u22a2` so the iteration number is printed as the loop progresses. However, if you are running the Jupyter Notebook version of this chapter, the numbers only show up after the iterations are all complete. This is due to a current shortcoming of the Dyalog APL kernel.\n",
        "\n",
        "**<center>Don't run this function yet!</center>**"
      ]
    },
    {
      "cell_type": "markdown",
      "metadata": {},
      "source": [
        "(User-Defined-Functions-Weak-and-Strong-Interrupts)=\n",
        "#### Weak and Strong Interrupts\n",
        "\n",
        "If you issue a ***Weak interrupt***, the computer will complete the execution of the statement that it is currently processing. Then it will halt the function before executing the next statement. We recommend using a weak interrupt whenever possible because it allows the user to restart the function at the point it was interrupted (cf. [the chapter with the first aid kit](./First-Aid-Kit)).\n",
        "\n",
        "If you issue a ***Strong interrupt***, the computer will complete the execution of the APL primitive that it is currently processing. Then it will interrupt the function before executing the next primitive.\n",
        "\n",
        "For example, in the `Endless` function above, it could calculate `i+1` and stop before executing the assignment `i \u2190 i+1`. Of course, if the user restarts the statement, it will be executed again in its entirety (it is impossible to resume execution in the middle of a statement).\n",
        "\n",
        "Note that it is impossible to interrupt the execution of a primitive like `i+1` itself, and sometimes the execution of some primitives may take a long time."
      ]
    },
    {
      "cell_type": "markdown",
      "metadata": {},
      "source": [
        "(User-Defined-Functions-How-Can-You-Generate-an-Interrupt)=\n",
        "#### How Can You Generate an Interrupt\n",
        "\n",
        "If you are using the Windows IDE, by going to \"Action\" &#8680; \"Interrupt\" you can issue a *Weak interrupt*. Similarly, RIDE's \"Action\" &#8680; \"Weak Interrupt\" will do the trick.\n",
        "\n",
        "In order to issue a strong interrupt, you either:\n",
        "\n",
        " - go to \"Action\" &#8680; \"Strong Interrupt\" if you are using RIDE; or\n",
        " - if you are using the Windows IDE, go to the system tray, look for the Dyalog APL icon, click it and then select \"Strong Interrupt\" (cf. {numref}`fig-Win_Strong_Interrupt`).\n",
        " \n",
        "(fig-Win_Strong_Interrupt)=\n",
        "```{figure} res/Win_Strong_Interrupt.png\n",
        "---\n",
        "name: Win_Strong_Interrupt\n",
        "---\n",
        "Issuing a strong interrupt in the Windows IDE.\n",
        "```\n",
        "\n",
        "The method explained above for the strong interrupts on the Windows IDE also works for weak interrupts. **Be patient!** If Dyalog APL is doing some heavy calculations for you, there may be a few seconds delay from when you click the APL icon until the menu shown above appears.\n",
        "\n",
        "After you issue an interrupt (weak or strong) there may be a few more seconds delay before the interrupt actually occurs.\n",
        "\n",
        "Now, let's test it."
      ]
    },
    {
      "cell_type": "markdown",
      "metadata": {},
      "source": [
        "(User-Defined-Functions-First-a-Weak-Interrupt)=\n",
        "#### First a Weak Interrupt\n",
        "\n",
        "Start running the function and, after a couple of iterations, issue a weak interrupt as you learned in the previous section.\n",
        "\n",
        "Sadly, the Jupyter Notebook interface has limited capability for dealing with interrupts, so for the remainder of this explanation you will be presented with some figures to illustrate the process.\n",
        "\n",
        "If we define the tradfn on the Windows IDE, run it and then hit \"Action\" &#8680; \"Interrupt\", what happens is illustrated in {numref}`fig-Win_Endless_Weak_Interrupt`.\n",
        "\n",
        "(fig-Win_Endless_Weak_Interrupt)=\n",
        "```{figure} res/Win_Endless_Weak_Interrupt.png\n",
        "---\n",
        "name: Win_Endless_Weak_Interrupt\n",
        "---\n",
        "A weak interrupt issued in the Windows IDE.\n",
        "```\n",
        "\n",
        "Notice the `Endless[4]` message is below the few iteration numbers that were printed, and the stack trace window (that opened at the bottom) has highlighted that same line: line 4. This means that the function has been interrupted just before executing line number 4, and you can be sure that line 3 has finished.\n",
        "\n",
        "To back out from the interrupted state of execution, press the <kbd>Esc</kbd> key as many times as needed, or execute the command `)reset`, which will be explained shortly."
      ]
    },
    {
      "cell_type": "markdown",
      "metadata": {},
      "source": [
        "(User-Defined-Functions-And-Now-a-Strong-Interrupt)=\n",
        "#### And Now a Strong Interrupt\n",
        "\n",
        "Run the function again, and after some time issue a strong interrupt.\n",
        "\n",
        "The result should be slightly different, as you can see in {numref}`fig-Win_Endless_Strong_Interrupt`:\n",
        "\n",
        "(fig-Win_Endless_Strong_Interrupt)=\n",
        "```{figure} res/Win_Endless_Strong_Interrupt.png\n",
        "---\n",
        "name: Win_Endless_Strong_Interrupt\n",
        "---\n",
        "A strong interrupt issued in the Windows IDE.\n",
        "```\n",
        "\n",
        "This time, the message `Endless[3] \u2395DL 3` tells you the line it was executing when it got interrupted, and the caret sign tells you which operation was being carried over. In this case, we did not let the 3 second delay finish."
      ]
    },
    {
      "cell_type": "markdown",
      "metadata": {},
      "source": [
        "(User-Defined-Functions-Traditional-Flow-Control)=\n",
        "### Traditional Flow Control\n",
        "\n",
        "In early versions of APL, a unique symbol - the ***Branch arrow*** (`\u2192`, typed with <kbd>APL</kbd>+<kbd>]</kbd>) - provided the only means to override the order in which statements were executed. Today you should only use this mechanism when maintaining code which is already written in this style.\n",
        "\n",
        "The *branch arrow* works in exactly the same way as the `:GoTo` clause. `\u2192destination` and `:GoTo destination` are strictly equivalent.\n",
        "\n",
        "`destination` should **always** be a ***Label***. Remember: a *Label* is a word placed at the beginning of a statement and **followed** by a ***colon***. Specifying a statement number (i.e. `\u219247`) would become incorrect as soon as you add or remove lines before that line number.\n",
        "\n",
        "(User-Defined-Functions-Equivalence-With-Modern-Flow-Control)=\n",
        "#### Equivalence With Modern Flow Control\n",
        "\n",
        "Using small tricks makes it possible to use `\u2192` to emulate the modern keywords that control the flow of a program. Figuring out how to emulate all the keywords can be an interesting *educational exercise* but those tricks should be avoided in modern code.\n",
        "\n",
        "As an example, we will see how we can emulate an `:If... :EndIf` clause. For that, you need to remember that jumping to an empty `destination` does nothing (cf. {numref}`User-Defined-Functions-Jump-Destinations`), so that statements are executed sequentially.\n",
        "\n",
        "Consider the following program:"
      ]
    },
    {
      "cell_type": "code",
      "execution_count": 165,
      "metadata": {},
      "outputs": [],
      "source": [
        "\u2207 money \u2190 price IsItExpensive money\n",
        "    \u2192(~price\u2264money)\u2374expensive  \u235d[1]\n",
        "    money \u2190 money-price        \u235d[2]\n",
        "    expensive:                 \u235d[3]\n",
        "\u2207"
      ]
    },
    {
      "cell_type": "code",
      "execution_count": 166,
      "metadata": {},
      "outputs": [
        {
          "data": {
            "text/html": [
              "<span style=\"white-space:pre; font-family: monospace\">7\n",
              "</span>"
            ]
          },
          "execution_count": 166,
          "metadata": {},
          "output_type": "execute_result"
        }
      ],
      "source": [
        "13 IsItExpensive 20"
      ]
    },
    {
      "cell_type": "code",
      "execution_count": 167,
      "metadata": {},
      "outputs": [
        {
          "data": {
            "text/html": [
              "<span style=\"white-space:pre; font-family: monospace\">10\n",
              "</span>"
            ]
          },
          "execution_count": 167,
          "metadata": {},
          "output_type": "execute_result"
        }
      ],
      "source": [
        "13 IsItExpensive 10"
      ]
    },
    {
      "cell_type": "markdown",
      "metadata": {},
      "source": [
        "The program above uses `(~price\u2264money)\u2374expensive` to emulate an `:If` clause and the `expensive:` line acts as the `:EndIf` clause. If you have enough `money` to buy something that costs `price`, it will return how much money you have left after making the purchase. If you don't have enough money, your money is returned unchanged.\n",
        "\n",
        "Let us walk through the execution of the two example calls above to see exactly how this works:\n",
        "\n",
        " - `13 IsItExpensive 20`:\n",
        "   - `expensive` is the label that is defined on line 3, so its value is 3 as if it were a regular variable;\n",
        "   - `price\u2264money` is `1` because `13\u226420` and hence `~price\u2264money` is `0`;\n",
        "   - `(~price\u2264money)\u2374expensive` is thus equivalent to `0\u23743` which evaluates to `\u236c`; and\n",
        "   - `\u2192\u236c` does nothing (as explained in {numref}`User-Defined-Functions-Jump-Destinations`) and the program proceeds to lines 2 and 3.\n",
        "   \n",
        " - `13 IsItExpensive 10`:\n",
        "   - `expensive` is the label that is defined on line 3, so its value is 3 as if it were a regular variable;\n",
        "   - `price\u2264money` is `0` because `13\u226410` is not satisfied, hence `~price\u2264money` is `1`;\n",
        "   - `(~price\u2264money)\u2374expensive` is thus equivalent to `1\u23743` which evaluates to `3`; and\n",
        "   - `\u21923` makes the program jump to line 3, skipping line 2.\n",
        "   \n",
        "This kind of conditional jump can be summarised like `\u2192(~condition)\u2374 destination`.\n",
        "\n",
        "Using control structures, we would have written"
      ]
    },
    {
      "cell_type": "code",
      "execution_count": 168,
      "metadata": {},
      "outputs": [],
      "source": [
        "\u2207 money \u2190 price SaneIsItExpensive money\n",
        "    :If price\u2264money\n",
        "        \u2395\u2190 'I have enough money'\n",
        "        money \u2190 money-price\n",
        "    :EndIf\n",
        "\u2207"
      ]
    },
    {
      "cell_type": "code",
      "execution_count": 169,
      "metadata": {},
      "outputs": [
        {
          "data": {
            "text/html": [
              "<span style=\"white-space:pre; font-family: monospace\">I have enough money\n",
              "7\n",
              "</span>"
            ]
          },
          "execution_count": 169,
          "metadata": {},
          "output_type": "execute_result"
        }
      ],
      "source": [
        "13 SaneIsItExpensive 20"
      ]
    },
    {
      "cell_type": "code",
      "execution_count": 170,
      "metadata": {},
      "outputs": [
        {
          "data": {
            "text/html": [
              "<span style=\"white-space:pre; font-family: monospace\">10\n",
              "</span>"
            ]
          },
          "execution_count": 170,
          "metadata": {},
          "output_type": "execute_result"
        }
      ],
      "source": [
        "13 SaneIsItExpensive 10"
      ]
    },
    {
      "cell_type": "markdown",
      "metadata": {},
      "source": [
        "or even better, without control structures at all we could write"
      ]
    },
    {
      "cell_type": "code",
      "execution_count": 82,
      "metadata": {},
      "outputs": [],
      "source": [
        "]dinput\n",
        "IsItExpensiveDfn \u2190 {\n",
        "    \u2375-\u237a\u00d7\u237a\u2264\u2375\n",
        "}"
      ]
    },
    {
      "cell_type": "code",
      "execution_count": 83,
      "metadata": {},
      "outputs": [
        {
          "data": {
            "text/html": [
              "<span style=\"white-space:pre; font-family: monospace\">7\n",
              "</span>"
            ]
          },
          "execution_count": 83,
          "metadata": {},
          "output_type": "execute_result"
        }
      ],
      "source": [
        "13 IsItExpensiveDfn 20"
      ]
    },
    {
      "cell_type": "code",
      "execution_count": 84,
      "metadata": {},
      "outputs": [
        {
          "data": {
            "text/html": [
              "<span style=\"white-space:pre; font-family: monospace\">10\n",
              "</span>"
            ]
          },
          "execution_count": 84,
          "metadata": {},
          "output_type": "execute_result"
        }
      ],
      "source": [
        "13 IsItExpensiveDfn 10"
      ]
    },
    {
      "cell_type": "markdown",
      "metadata": {},
      "source": [
        "This example above shows that programming without explicit control flow is something that is quite feasible and, often times, very elegant.\n",
        "\n",
        "In your road to mastering Dyalog APL you will want to train your brain to write programs more like the `IsItExpensiveDfn` above and less like the `SaneIsItExpensive`, and definitely not like the labelled `IsItExpensive`!"
      ]
    },
    {
      "cell_type": "markdown",
      "metadata": {},
      "source": [
        "(User-Defined-Functions-Multiple-Destinations)=\n",
        "#### Multiple Destinations\n",
        "\n",
        "One can also use `\u2192` with multiple labels on the right, in which case program execution jumps to the *first* label in the vector of labels. Just consider the following dummy program, where we use explicit line numbers so we can print them as the tradfn executes:"
      ]
    },
    {
      "cell_type": "code",
      "execution_count": 85,
      "metadata": {},
      "outputs": [],
      "source": [
        "\u2207 MultipleDestinations\n",
        "    \u21924 3 2 7\n",
        "    2\n",
        "    3\n",
        "    4\n",
        "    5\n",
        "    6\n",
        "    7\n",
        "    8\n",
        "\u2207"
      ]
    },
    {
      "cell_type": "code",
      "execution_count": 86,
      "metadata": {},
      "outputs": [
        {
          "data": {
            "text/html": [
              "<span style=\"white-space:pre; font-family: monospace\">4\n",
              "5\n",
              "6\n",
              "7\n",
              "8\n",
              "</span>"
            ]
          },
          "execution_count": 86,
          "metadata": {},
          "output_type": "execute_result"
        }
      ],
      "source": [
        "MultipleDestinations"
      ]
    },
    {
      "cell_type": "markdown",
      "metadata": {},
      "source": [
        "Try changing the numbers in front of the `\u2192` above and see how the numbers printed change."
      ]
    },
    {
      "cell_type": "markdown",
      "metadata": {},
      "source": [
        "(User-Defined-Functions-Modern-and-Traditional-Controls-Cooperate)=\n",
        "### Modern and Traditional Controls Cooperate\n",
        "\n",
        "It is sometimes convenient to mix modern and traditional flow control in order to simplify the code.\n",
        "\n",
        "Consider a loop in which we must terminate the execution of the function if the condition `x<3` becomes satisfied. With modern control structures, the function would probably include a\n",
        "\n",
        "```APL\n",
        "...\n",
        ":If x<3\n",
        "    :Return\n",
        ":EndIf\n",
        "...\n",
        "```\n",
        "\n",
        "which takes up 3 lines. This might be a bit cumbersome. It is possible to use fewer statements using an explicit branch:\n",
        "\n",
        "```APL\n",
        "...\n",
        ":GoTo (x<3)/0\n",
        "...\n",
        "```\n",
        "\n",
        "or equivalently\n",
        "\n",
        "```APL\n",
        "...\n",
        "\u2192(x<3)/0\n",
        "...\n",
        "```\n",
        "\n",
        "since the branch arrow and the `:GoTo` keyword are equivalent.\n",
        "\n",
        "Something very similar could be written if we need to leave a loop when a given condition becomes satisfied. For example, instead of\n",
        "\n",
        "```APL\n",
        ":Repeat\n",
        "    ...\n",
        "    :If cond\n",
        "        :Leave\n",
        "    :EndIf\n",
        "    ...\n",
        ":EndRepeat\n",
        "...\n",
        "```\n",
        "\n",
        "one could write\n",
        "\n",
        "```APL\n",
        ":Repeat\n",
        "    ...\n",
        "    \u2192cond/hell\n",
        "    ...\n",
        ":EndRepeat\n",
        "hell:\n",
        "...\n",
        "```\n",
        "\n",
        "<!--begin remark-->\n",
        "***Remark***:\n",
        "\n",
        " > Branching using `\u2192` or `:GoTo` is not recommended as a general tool for programming flow control. It is briefly explained here mainly in order to help you understand existing code and to show that the technique may be useful and feasible in special situations. You should, in general, either use control structures or avoid them altogether with alternative formulations of your algorithm(s).\n",
        "<!--end-->\n",
        "\n",
        "<!--begin warning-->\n",
        "***Warning***:\n",
        "\n",
        " > Colons are placed **before** a keyword (e.g. `:For`) but **after** a label (e.g. `hell:` above).\n",
        "<!--end-->"
      ]
    },
    {
      "cell_type": "markdown",
      "metadata": {},
      "source": [
        "(User-Defined-Functions-Dfns-Versus-Tradfns)=\n",
        "## Dfns Versus Tradfns\n",
        "\n",
        "<!-- (TODO) Ask for feedback on this particular section. -->\n",
        "<!-- (TODO) Write this section as a comparison between dfns and tradfns, when to use one or the other. -->\n",
        "\n",
        "(User-Defined-Functions-Comparison)=\n",
        "### Comparison\n",
        "\n",
        "Having seen how dfns and tradfns work in practice, it is time to compare their main characteristics, so that we can understand what are the use cases in which each of them shines.\n",
        "\n",
        "| Characteristic | dfns | tradfns |\n",
        "| :-             | :-   | :-      |\n",
        "| Argument names | `\u237a` is the left argument and `\u2375` is the right argument. | The names are specified in the header of the function. |\n",
        "| Reassigning the arguments | Disallowed, except to define default left argument. | Allowed. |\n",
        "| Return value | The value of the first statement whose value is not assigned to a variable. | The value of the variable specified in the header. |\n",
        "| Shy result | Last expression needs to be an assignment and must be followed by the closing `}`. | Enclose the header variable in `{}`. |\n",
        "| Variable scope | Local by default. | Global by default. |\n",
        "| Traditional flow control | Limited to usage of guards, in the form of `condition: statement`. | Complex flow control with control structures such as `:If`, `:For`, and `:While`. |\n",
        "| Scoping | Lexical. | Dynamic. |\n",
        "\n",
        "(User-Defined-Functions-Use-Cases)=\n",
        "### Use Cases\n",
        "\n",
        "Based on the characteristics of both dfns and tradfns, there a few *rules of thumb* that help determine the situations in which dfns are more suitable and the situations in which tradfns are more suitable.\n",
        "Please, bear in mind that these are just guidelines to help you pick the right tool for the job, but ultimately the choice is yours and will boil down to your experience, personal preference, the context you are programming in, etc.\n",
        "\n",
        "As already mentioned before, dfns shine when one wants to create a user-defined function with a clean and well-defined data flow, taking some arguments in and processing them to produce a result.\n",
        "Functions of this sort are usually such that they always return the same value when given the same arguments, which means you can have a high degree of confidence that the function works as expected provided you test it thoroughly.\n",
        "\n",
        "Tradfns are very helpful when you need to create a more complex function, or something that resembles a script in other languages, and you simply need the type of flow control that tradfns offer.\n",
        "In those cases, it makes sense to have a tradfn that represents the program you want to create, and then the tradfn itself calls several other functions (that could very well be dfns) that process the arguments and do useful things with them.\n",
        "On top of that, if you have a complex function that is not working as it should, you may find it easier to debug if it contains control structures rather than if the flow control of the program were controlled by recursion or operators: with control structures you get more fine-grained control over where in the code you want to start debugging and how to do it.\n",
        "We will explore these ideas in more detail in [the \"First Aid Kit\" chapter](./First-Aid-Kit.ipynb).\n",
        "\n",
        "From the characteristics of both types of user-defined functions, it also follows that if you want to create a relatively short function, a dfn is probably the best option:\n",
        "dfns are very simple to define and the definitions themselves take up little space (as opposed to tradfns whose headers take up more space, especially if you then localise all the variables you use \u2013 which you generally should).\n",
        "As an example, in [Dyalog's annual APL problem solving competition](https://www.dyalogaplcompetition.com/), the first ten problems usually have a one-line solution, and those have to be submitted as dfns."
      ]
    },
    {
      "cell_type": "markdown",
      "metadata": {},
      "source": [
        "(User-Defined-Functions-Input-Output-and-Format)=\n",
        "## Input, Output and Format\n",
        "\n",
        "Up to now, our functions processed values passed as arguments, and returned results which could be used in an expression, assigned to a variable, or displayed. But a function can also get data from other sources and/or it can produce results which are not APL variables, but, for example, printed material or data files. In this section you will learn some useful techniques to write such functions.\n",
        "\n",
        "This section will also help you use data that you may have already have stored in Excel worksheets or in text files on disk."
      ]
    },
    {
      "cell_type": "markdown",
      "metadata": {},
      "source": [
        "(User-Defined-Functions-Some-Input-and-Output-Methods)=\n",
        "### Some Input and Output Methods\n",
        "\n",
        "Here are some of the most typical methods used by a function to get input data or output results.\n",
        "\n",
        "| Some Input/Output methods | Input | Output | cf. |\n",
        "| :- | :-: | :-: | :-: |\n",
        "| Display a result returned at function completion |  | X | |\n",
        "| Display intermediate values during execution | | X | {numref}`User-Defined-Functions-Displaying-Intermediate-Results` |\n",
        "| Use or modify a global variable | X | X | {numref}`User-Defined-Functions-Using-Global-Variables` |\n",
        "| Exchange data with a spreadsheet (e.g. Microsoft Excel) | X | X | {numref}`User-Defined-Functions-Exchanging-Data-With-an-Excel-Worksheet` |\n",
        "| Read or write data from/to a file (or a database) | X | X | {numref}`User-Defined-Functions-Reading-or-Writing-a-Text-File` |\n",
        "| Print data on a printer | | X | {numref}`User-Defined-Functions-Printing-Results-on-a-Printer` |\n",
        "| Exchange data with a graphical user interface | X | X | {numref}`User-Defined-Functions-Using-a-Graphical-User-Interface` |\n",
        "| Get data typed by the user on the keyboard | X | | {numref}`User-Defined-Functions-Requesting-Values-From-the-Keyboard` |\n",
        "| Use Internet facilities to get/send data | X | X | {numref}`User-Defined-Functions-Fetching-Data-From-the-Web` |\n",
        "\n",
        "Not all of these possibilities will be explained here; we shall limit our investigations to some simple methods that you may test immediately, using some utility functions we define for you. \"I/O\" is a common abbreviation for \"input and output\".\n",
        "\n",
        "We also provide some text files and spreadsheets that you can use for experimentation:\n",
        "\n",
        " - a CSV file `BasicCarSales.csv`;\n",
        " - text files `mlk.txt` and `report.txt`.\n",
        " \n",
        "We recommend that you place those files in a reference directory where they will be preserved, and copy them to a test directory where you will be able to make some experiments and modify them at will. You can get these helper files from [here](https://github.com/RojerGS/MDAPL/blob/master/res/testfiles.rar).\n",
        "\n",
        "We also suggest that you create a global variable in your WS with the path to that test directory, to avoid repeating it in all the tests you will do.\n",
        "\n",
        "For example, we will set"
      ]
    },
    {
      "cell_type": "code",
      "execution_count": 1,
      "metadata": {},
      "outputs": [],
      "source": [
        "filepath \u2190 'C:/Users/rodri/Documents/Dyalog/MDAPL/res/testfiles/'"
      ]
    },
    {
      "cell_type": "markdown",
      "metadata": {},
      "source": [
        "We recommend that you set this global variable with the *absolute path* to the folder as it is easier to get an absolute path to work.\n",
        "\n",
        "In the following sections we will refer to this variable `filepath`."
      ]
    },
    {
      "cell_type": "markdown",
      "metadata": {},
      "source": [
        "(User-Defined-Functions-Format)=\n",
        "### Format\n",
        "\n",
        "In the preceding pages we found that we can display, on the screen, any kind of results: numbers, text or a mixture of numbers and characters in nested arrays. Now we shall try to output data to external media, like graphic interfaces, disk files or printers. Most of those media only accept text. For example, it is impossible to send numbers to a printer: we must first convert them to printable characters.\n",
        "\n",
        "The APL language includes two such conversion tools: a function named ***Format***, represented by the symbol `\u2355` and typed with <kbd>APL</kbd>+<kbd>'</kbd>, and a *System function* named `\u2395FMT`. You can remember `\u2355`'s position on the keyboard because `\u2355` transforms its argument into a character array, and you input characters with a quote `'`, hence `\u2355` is <kbd>APL</kbd>+<kbd>'</kbd>.\n",
        "\n",
        "These facilities will be studied in detail in [a subsequent chapter](./Execute-and-Format-Control) but we will introduce here the basic use of *Format*."
      ]
    },
    {
      "cell_type": "markdown",
      "metadata": {},
      "source": [
        "(User-Defined-Functions-Monadic-Format)=\n",
        "#### Monadic Format\n",
        "\n",
        "Monadic *Format* converts any array (numbers, characters and nested arrays) into its character representation. The result is exactly the same as what you see when you display the array in the APL session, because in fact, APL internally uses monadic *Format* to display arrays:\n",
        "\n",
        " - character values are not converted: they remain unchanged; and\n",
        " - numeric and nested values are transformed into vectors or matrices of characters.\n",
        " \n",
        "Here are some examples:"
      ]
    },
    {
      "cell_type": "code",
      "execution_count": 2,
      "metadata": {},
      "outputs": [
        {
          "data": {
            "text/html": [
              "<span style=\"white-space:pre; font-family: monospace\">5\n",
              "</span>"
            ]
          },
          "execution_count": 2,
          "metadata": {},
          "output_type": "execute_result"
        }
      ],
      "source": [
        "\u2374\u2355'album'"
      ]
    },
    {
      "cell_type": "code",
      "execution_count": 3,
      "metadata": {},
      "outputs": [
        {
          "data": {
            "text/html": [
              "<span style=\"white-space:pre; font-family: monospace\">H2SO4\n",
              "CaCO3\n",
              "Fe2O3\n",
              "</span>"
            ]
          },
          "execution_count": 3,
          "metadata": {},
          "output_type": "execute_result"
        }
      ],
      "source": [
        "\u22a2chemistry \u2190 3 5\u2374'H2SO4CaCO3Fe2O3'"
      ]
    },
    {
      "cell_type": "code",
      "execution_count": 4,
      "metadata": {},
      "outputs": [
        {
          "data": {
            "text/html": [
              "<span style=\"white-space:pre; font-family: monospace\">3 5\n",
              "</span>"
            ]
          },
          "execution_count": 4,
          "metadata": {},
          "output_type": "execute_result"
        }
      ],
      "source": [
        "\u2374chemistry"
      ]
    },
    {
      "cell_type": "code",
      "execution_count": 5,
      "metadata": {},
      "outputs": [
        {
          "data": {
            "text/html": [
              "<span style=\"white-space:pre; font-family: monospace\">3 5\n",
              "</span>"
            ]
          },
          "execution_count": 5,
          "metadata": {},
          "output_type": "execute_result"
        }
      ],
      "source": [
        "\u2374\u2355chemistry"
      ]
    },
    {
      "cell_type": "markdown",
      "metadata": {},
      "source": [
        "`'album'` and `chemistry` are left unchanged because they are character arrays.\n",
        "\n",
        "However, the 3-item numeric vector"
      ]
    },
    {
      "cell_type": "code",
      "execution_count": 6,
      "metadata": {},
      "outputs": [
        {
          "data": {
            "text/html": [
              "<span style=\"white-space:pre; font-family: monospace\">3\n",
              "</span>"
            ]
          },
          "execution_count": 6,
          "metadata": {},
          "output_type": "execute_result"
        }
      ],
      "source": [
        "\u237452 69 76"
      ]
    },
    {
      "cell_type": "markdown",
      "metadata": {},
      "source": [
        "becomes an 8-item character vector once converted:"
      ]
    },
    {
      "cell_type": "code",
      "execution_count": 7,
      "metadata": {},
      "outputs": [
        {
          "data": {
            "text/html": [
              "<span style=\"white-space:pre; font-family: monospace\">8\n",
              "</span>"
            ]
          },
          "execution_count": 7,
          "metadata": {},
          "output_type": "execute_result"
        }
      ],
      "source": [
        "\u2374\u235552 69 76"
      ]
    },
    {
      "cell_type": "markdown",
      "metadata": {},
      "source": [
        "In [a previous chapter](./Data-and-Variables.ipynb) we used a 2 by 3 nested matrix named `nesMat`:"
      ]
    },
    {
      "cell_type": "code",
      "execution_count": 8,
      "metadata": {},
      "outputs": [
        {
          "data": {
            "text/html": [
              "<span style=\"white-space:pre; font-family: monospace\">\u250c\u2500\u2500\u2500\u2500\u2500\u2500\u252c\u2500\u2500\u2500\u252c\u2500\u2500\u2500\u2500\u2500\u2510\n",
              "\u2502Dyalog\u250244 \u2502Hello\u2502\n",
              "\u251c\u2500\u2500\u2500\u2500\u2500\u2500\u253c\u2500\u2500\u2500\u253c\u2500\u2500\u2500\u2500\u2500\u2524\n",
              "\u250227    \u25028 6\u25021 2 0\u2502\n",
              "\u2502      \u25022 4\u25020 0 5\u2502\n",
              "\u2514\u2500\u2500\u2500\u2500\u2500\u2500\u2534\u2500\u2500\u2500\u2534\u2500\u2500\u2500\u2500\u2500\u2518\n",
              "</span>"
            ]
          },
          "execution_count": 8,
          "metadata": {},
          "output_type": "execute_result"
        }
      ],
      "source": [
        "\u22a2nesMat \u2190 2 3\u2374'Dyalog' 44 'Hello' 27 (2 2 \u2374 8 6 2 4) (2 3\u23741 2 0 0 0 5)"
      ]
    },
    {
      "cell_type": "markdown",
      "metadata": {},
      "source": [
        "Notice this matrix has 2 rows and 3 columns:"
      ]
    },
    {
      "cell_type": "code",
      "execution_count": 9,
      "metadata": {},
      "outputs": [
        {
          "data": {
            "text/html": [
              "<span style=\"white-space:pre; font-family: monospace\">2 3\n",
              "</span>"
            ]
          },
          "execution_count": 9,
          "metadata": {},
          "output_type": "execute_result"
        }
      ],
      "source": [
        "\u2374nesMat"
      ]
    },
    {
      "cell_type": "markdown",
      "metadata": {},
      "source": [
        "Once converted into text, it will become 20 characters wide and it will span 3 rows, because the second row of `nesMat` contained two small matrices:"
      ]
    },
    {
      "cell_type": "code",
      "execution_count": 10,
      "metadata": {},
      "outputs": [
        {
          "data": {
            "text/html": [
              "<span style=\"white-space:pre; font-family: monospace\">3 20\n",
              "</span>"
            ]
          },
          "execution_count": 10,
          "metadata": {},
          "output_type": "execute_result"
        }
      ],
      "source": [
        "\u2374u \u2190 \u2355nesMat"
      ]
    },
    {
      "cell_type": "code",
      "execution_count": 11,
      "metadata": {},
      "outputs": [
        {
          "data": {
            "text/html": [
              "<span style=\"white-space:pre; font-family: monospace\"> Dyalog   44  Hello \n",
              "     27  8 6  1 2 0 \n",
              "         2 4  0 0 5 \n",
              "</span>"
            ]
          },
          "execution_count": 11,
          "metadata": {},
          "output_type": "execute_result"
        }
      ],
      "source": [
        "u"
      ]
    },
    {
      "cell_type": "markdown",
      "metadata": {},
      "source": [
        "(User-Defined-Functions-Dyadic-Format)=\n",
        "#### Dyadic Format\n",
        "\n",
        "Dyadic *Format* applies **only** to numeric values. It converts them into text in a format controlled by the left argument, which is made up of two numbers:\n",
        "\n",
        " - the first number indicates the number of characters (the width of the output) to be used to represent each numeric value; and\n",
        " - the second number indicates how many decimal digits will be displayed.\n",
        " \n",
        "Let us make some experiments with the following matrix:"
      ]
    },
    {
      "cell_type": "code",
      "execution_count": 12,
      "metadata": {},
      "outputs": [
        {
          "data": {
            "text/html": [
              "<span style=\"white-space:pre; font-family: monospace\">  21.21 1534.88 375.46  704.5 \n",
              "1125.14 1963.52 464.45 1438.25\n",
              " 796.53 1569    157.14  886.59\n",
              "</span>"
            ]
          },
          "execution_count": 12,
          "metadata": {},
          "output_type": "execute_result"
        }
      ],
      "source": [
        "\u2395RL \u2190 73\n",
        "\u22a2nm \u2190 (?3 4\u2374200000)\u00f7100"
      ]
    },
    {
      "cell_type": "markdown",
      "metadata": {},
      "source": [
        "For example, if we want each number to be right aligned in a field with 8 characters of width and with 2 decimal digits, we'd use"
      ]
    },
    {
      "cell_type": "code",
      "execution_count": 13,
      "metadata": {},
      "outputs": [
        {
          "data": {
            "text/html": [
              "<span style=\"white-space:pre; font-family: monospace\">   21.21 1534.88  375.46  704.50\n",
              " 1125.14 1963.52  464.45 1438.25\n",
              "  796.53 1569.00  157.14  886.59\n",
              "</span>"
            ]
          },
          "execution_count": 13,
          "metadata": {},
          "output_type": "execute_result"
        }
      ],
      "source": [
        "8 2\u2355nm"
      ]
    },
    {
      "cell_type": "markdown",
      "metadata": {},
      "source": [
        "The result has of course 3 rows and 32 columns (4 times 8 characters):"
      ]
    },
    {
      "cell_type": "code",
      "execution_count": 14,
      "metadata": {},
      "outputs": [
        {
          "data": {
            "text/html": [
              "<span style=\"white-space:pre; font-family: monospace\">3 32\n",
              "</span>"
            ]
          },
          "execution_count": 14,
          "metadata": {},
          "output_type": "execute_result"
        }
      ],
      "source": [
        "\u23748 2\u2355nm"
      ]
    },
    {
      "cell_type": "markdown",
      "metadata": {},
      "source": [
        "Instead, we may prefer to have each number in a cell 6 characters wide, with no decimal digits:"
      ]
    },
    {
      "cell_type": "code",
      "execution_count": 15,
      "metadata": {},
      "outputs": [
        {
          "data": {
            "text/html": [
              "<span style=\"white-space:pre; font-family: monospace\">    21  1535   375   705\n",
              "  1125  1964   464  1438\n",
              "   797  1569   157   887\n",
              "</span>"
            ]
          },
          "execution_count": 15,
          "metadata": {},
          "output_type": "execute_result"
        }
      ],
      "source": [
        "6 0\u2355nm"
      ]
    },
    {
      "cell_type": "code",
      "execution_count": 16,
      "metadata": {},
      "outputs": [
        {
          "data": {
            "text/html": [
              "<span style=\"white-space:pre; font-family: monospace\">3 24\n",
              "</span>"
            ]
          },
          "execution_count": 16,
          "metadata": {},
          "output_type": "execute_result"
        }
      ],
      "source": [
        "\u23746 0\u2355nm"
      ]
    },
    {
      "cell_type": "markdown",
      "metadata": {},
      "source": [
        "<!--begin remark-->\n",
        "***Remark***:\n",
        "\n",
        " > Values are not truncated, but **rounded**.\n",
        "<!--end-->\n",
        "\n",
        "As an example, consider the second value of the first row:"
      ]
    },
    {
      "cell_type": "code",
      "execution_count": 17,
      "metadata": {},
      "outputs": [
        {
          "data": {
            "text/html": [
              "<span style=\"white-space:pre; font-family: monospace\">1534.88\n",
              "</span>"
            ]
          },
          "execution_count": 17,
          "metadata": {},
          "output_type": "execute_result"
        }
      ],
      "source": [
        "nm[1;2]"
      ]
    },
    {
      "cell_type": "code",
      "execution_count": 18,
      "metadata": {},
      "outputs": [
        {
          "data": {
            "text/html": [
              "<span style=\"white-space:pre; font-family: monospace\"> 1535\n",
              "</span>"
            ]
          },
          "execution_count": 18,
          "metadata": {},
          "output_type": "execute_result"
        }
      ],
      "source": [
        "5 0\u2355nm[1;2]"
      ]
    },
    {
      "cell_type": "markdown",
      "metadata": {},
      "source": [
        "<!--begin remark-->\n",
        "***Remark***:\n",
        "\n",
        " > Any attempt to apply dyadic `\u2355` to characters will cause a `DOMAIN ERROR`.\n",
        "<!--end-->\n",
        "\n",
        "*Format* will be studied in detail in [a later chapter](./Execute-and-Format-Control.ipynb)."
      ]
    },
    {
      "cell_type": "markdown",
      "metadata": {},
      "source": [
        "(User-Defined-Functions-Displaying-Intermediate-Results)=\n",
        "### Displaying Intermediate Results\n",
        "\n",
        "During normal execution, most applications do not use the session window (the development environment); all input/output is typically done with more user-friendly interfaces. However, during the development of an application, it may be useful for experimental or debugging purposes to have a function display intermediate results.\n",
        "\n",
        "This can be accomplished in 2 different ways:\n",
        "\n",
        " - inside a tradfn, if the result of an expression is not assigned to a variable it gets displayed;\n",
        "   - in particular, if you add `\u22a2` to the beginning of any line, that line will display its value, even if the line is an assignment (e.g. the line `\u22a2v \u2190 2\u00d73` will assign 6 to `v` and display it);\n",
        "   \n",
        " - any intermediate result can be displayed by assigning it to the ***Quad*** symbol (`\u2395`, typed with <kbd>APL</kbd>+<kbd>l</kbd>), and this assignment can even be placed in the middle of statements to check intermediate values:"
      ]
    },
    {
      "cell_type": "code",
      "execution_count": 194,
      "metadata": {},
      "outputs": [
        {
          "data": {
            "text/html": [
              "<span style=\"white-space:pre; font-family: monospace\">\u250c\u2500\u2500\u2500\u252c\u2500\u2500\u2500\u2510\n",
              "\u25021 2\u25023 3\u2502\n",
              "\u2514\u2500\u2500\u2500\u2534\u2500\u2500\u2500\u2518\n",
              "22\n",
              "H2SO4Fe2O3\n",
              "</span>"
            ]
          },
          "execution_count": 194,
          "metadata": {},
          "output_type": "execute_result"
        }
      ],
      "source": [
        "v \u2190 (\u2395\u2190chemistry[1;],chemistry[3;]),\u2395\u2190,chemistry[\u2395\u2190\u2378chemistry='2']"
      ]
    },
    {
      "cell_type": "markdown",
      "metadata": {},
      "source": [
        "Because we used `\u2395\u2190` three times, three values got displayed one after the other, on three successive lines of the screen, in the order that they were evaluated:\n",
        "\n",
        " 1. &nbsp;&nbsp; First `\u2378chemistry='2'`,\n",
        " 2. &nbsp;&nbsp; then `,chemistry[\u2378chemistry='2']`\n",
        " 3. &nbsp;&nbsp; and then `chemistry[1;],chemistry[3;]`.\n",
        "\n",
        "We **recommend** that you use this last method, which is the most explicit and which can be easily detected by any text search utility function.\n",
        "Following a similar reasoning, the use of implicit output by adding `\u22a2` to the left end of a statement is discouraged:\n",
        " - `\u22a2` cannot be used to print intermediate results;\n",
        " - `\u22a2` cannot be used in dfns because a dfn will return if an expression has a `\u22a2` on the left end; and\n",
        " - uses of `\u22a2` for the purpose of implicit output cannot be easily searched for, because `\u22a2` might be used for other purposes."
      ]
    },
    {
      "cell_type": "markdown",
      "metadata": {},
      "source": [
        "(User-Defined-Functions-Using-Global-Variables)=\n",
        "### Using Global Variables\n",
        "\n",
        "A function can use (as input) or modify (as output) the contents of one or more variables which are global to it. The variables may be completely global, or they may be local to a calling function (so-called *semi-global* variables).\n",
        "\n",
        "For example, as we suggested earlier, a global variable may contain a path used by dozens of functions in a workspace:"
      ]
    },
    {
      "cell_type": "code",
      "execution_count": 195,
      "metadata": {},
      "outputs": [
        {
          "data": {
            "text/html": [
              "<span style=\"white-space:pre; font-family: monospace\">C:/Users/rodri/Documents/Dyalog/MDAPL/res/testfiles/\n",
              "</span>"
            ]
          },
          "execution_count": 195,
          "metadata": {},
          "output_type": "execute_result"
        }
      ],
      "source": [
        "filepath"
      ]
    },
    {
      "cell_type": "markdown",
      "metadata": {},
      "source": [
        "It will be possible for any function to use this path to prefix some file names, for example as"
      ]
    },
    {
      "cell_type": "code",
      "execution_count": 2,
      "metadata": {},
      "outputs": [
        {
          "name": "stderr",
          "output_type": "stream",
          "text": [
            "VALUE ERROR: Undefined name: filepath\n",
            "      \u2395\u2190file1\u2190filepath,'sales.xls'\n",
            "              \u2227\n"
          ]
        }
      ],
      "source": [
        "\u2395\u2190 file1 \u2190 filepath,'sales.xls'"
      ]
    },
    {
      "cell_type": "code",
      "execution_count": 3,
      "metadata": {},
      "outputs": [
        {
          "name": "stderr",
          "output_type": "stream",
          "text": [
            "VALUE ERROR: Undefined name: filepath\n",
            "      \u2395\u2190file2\u2190filepath,'customers.txt'\n",
            "              \u2227\n"
          ]
        }
      ],
      "source": [
        "\u2395\u2190 file2 \u2190 filepath,'customers.txt'"
      ]
    },
    {
      "cell_type": "markdown",
      "metadata": {},
      "source": [
        "Storing common parameters, like a folder path, in global variables can often be very convenient. For example, it makes it very easy to have the system use another set of files without changing any functions. This technique can for example be used to switch between running on test data and on production data.\n",
        "\n",
        "Similarly, a function can output values into global variables, which may be used by many other functions sharing the same workspace.\n",
        "\n",
        "You must be very cautious when using this technique:\n",
        "\n",
        " - maintenance of functions using global variables is complex because it is difficult to keep track of the different statements which use or update those variables;\n",
        "\n",
        " - if an error occurs, and if several functions can modify these global variables, it may be very difficult to determine which of them had last modified a variable involved in the error; and\n",
        "\n",
        " - if function execution is interrupted and restarted, global values set before the interruption may conflict with new ones calculated in a different context. For example, if the function increments a global variable in line `[1]` but crashes in line `[2]`, and you restart the function, you will have the global variable incremented twice instead of once, as you had expected. Such errors are *very* nasty, as they can lead to other errors or breakdowns much later in the execution. It can be close to impossible to find the causes of such errors in a systematic way.\n",
        "\n",
        "Such a technique should be restricted to a limited number of variables, clearly identified and documented by any convenient method: a common name prefix, an automated system of references, etc.\n",
        "\n",
        "Sometimes when starting an application it is necessary to read a lot of settings from a file and make the settings available to all the programs that constitute the application. In such a situation it would make sense to write a program to read the settings from the file and store them in global variables in the workspace.\n",
        "\n",
        "<!--begin advice style=hint-->\n",
        "***Advice***:\n",
        "\n",
        " > Whenever possible, favour explicit exchange of values through arguments and results.\n",
        "<!--end-->"
      ]
    },
    {
      "cell_type": "markdown",
      "metadata": {},
      "source": [
        "(User-Defined-Functions-Global-Constants)=\n",
        "#### Global Constants\n",
        "\n",
        "Because of the reasons explained above, programmers are discouraged from writing new values to global variables, but from the text above it is also clear that global variables can be very useful.\n",
        "\n",
        "In particular, it is often very useful to use global variables to store important pieces of information that are *constant* throughout the whole execution of your application. This way, these important pieces of information can be accessed from within your functions with ease. It is a common convention (and a convention that is not specific to APL) to name these global constants in all uppercase letters and to **not** update their values after the variable is initialised.\n",
        "\n",
        "As an example, the folder in which our files reside can be declared as a global constant:"
      ]
    },
    {
      "cell_type": "code",
      "execution_count": 19,
      "metadata": {},
      "outputs": [],
      "source": [
        "FILEPATH \u2190 'C:/Users/rodri/Documents/Dyalog/MDAPL/res/testfiles/'"
      ]
    },
    {
      "cell_type": "markdown",
      "metadata": {},
      "source": [
        "Notice that from the language point of view, `FILEPATH` is just like any other variable and it *can* be modified:"
      ]
    },
    {
      "cell_type": "code",
      "execution_count": 20,
      "metadata": {},
      "outputs": [],
      "source": [
        "FILEPATH \u2190 2"
      ]
    },
    {
      "cell_type": "markdown",
      "metadata": {},
      "source": [
        "So it is indeed up to the programmer to respect the convention or not. We will respect the convention and hence we'll redefine `FILEPATH` to its original value:"
      ]
    },
    {
      "cell_type": "code",
      "execution_count": 7,
      "metadata": {},
      "outputs": [],
      "source": [
        "FILEPATH \u2190 'C:/Users/rodri/Documents/Dyalog/MDAPL/res/testfiles/'"
      ]
    },
    {
      "cell_type": "markdown",
      "metadata": {},
      "source": [
        "(User-Defined-Functions-Exchanging-Data-With-a-CSV-File)=\n",
        "### Exchanging Data With a CSV File\n",
        "\n",
        "As per the Wikipedia,\n",
        "\n",
        " > *A Comma-Separated Values (CSV) file is a delimited text file that uses a comma to separate values. Each line of the file is a data record. Each record consists of one or more fields, separated by commas. The use of the comma as a field separator is the source of the name for this file format. A CSV file typically stores tabular data (numbers and text) in plain text, in which case each line will have the same number of fields.*\n",
        "\n",
        "Even though the CSV format is not fully standardised, it is a fairly common format and is suitable for sharing simple data.\n",
        "\n",
        "APL has many system functions for I/O with files, including a system function `\u2395CSV` to read and write data to CSV files."
      ]
    },
    {
      "cell_type": "markdown",
      "metadata": {},
      "source": [
        "(User-Defined-Functions-Importing-Data)=\n",
        "#### Importing Data\n",
        "\n",
        "Reading data from a CSV file can be as simple as giving it the path to the file you want:"
      ]
    },
    {
      "cell_type": "code",
      "execution_count": 22,
      "metadata": {},
      "outputs": [
        {
          "data": {
            "text/html": [
              "<span style=\"white-space:pre; font-family: monospace\">\u250c\u2500\u2500\u2500\u2500\u2500\u2500\u2500\u2500\u2500\u2500\u252c\u2500\u2500\u2500\u2500\u2500\u2500\u2500\u252c\u2500\u2500\u2500\u2500\u2500\u2500\u2500\u2500\u252c\u2500\u2500\u2500\u2500\u2500\u2510\n",
              "\u2502Make      \u2502January\u2502February\u2502March\u2502\n",
              "\u251c\u2500\u2500\u2500\u2500\u2500\u2500\u2500\u2500\u2500\u2500\u253c\u2500\u2500\u2500\u2500\u2500\u2500\u2500\u253c\u2500\u2500\u2500\u2500\u2500\u2500\u2500\u2500\u253c\u2500\u2500\u2500\u2500\u2500\u2524\n",
              "\u2502Subaru    \u250210     \u250216      \u250232   \u2502\n",
              "\u251c\u2500\u2500\u2500\u2500\u2500\u2500\u2500\u2500\u2500\u2500\u253c\u2500\u2500\u2500\u2500\u2500\u2500\u2500\u253c\u2500\u2500\u2500\u2500\u2500\u2500\u2500\u2500\u253c\u2500\u2500\u2500\u2500\u2500\u2524\n",
              "\u2502Opel      \u25027      \u25023       \u250232   \u2502\n",
              "\u251c\u2500\u2500\u2500\u2500\u2500\u2500\u2500\u2500\u2500\u2500\u253c\u2500\u2500\u2500\u2500\u2500\u2500\u2500\u253c\u2500\u2500\u2500\u2500\u2500\u2500\u2500\u2500\u253c\u2500\u2500\u2500\u2500\u2500\u2524\n",
              "\u2502Citroen   \u250234     \u250213      \u250224   \u2502\n",
              "\u251c\u2500\u2500\u2500\u2500\u2500\u2500\u2500\u2500\u2500\u2500\u253c\u2500\u2500\u2500\u2500\u2500\u2500\u2500\u253c\u2500\u2500\u2500\u2500\u2500\u2500\u2500\u2500\u253c\u2500\u2500\u2500\u2500\u2500\u2524\n",
              "\u2502Peugeot   \u250220     \u250211      \u25022    \u2502\n",
              "\u251c\u2500\u2500\u2500\u2500\u2500\u2500\u2500\u2500\u2500\u2500\u253c\u2500\u2500\u2500\u2500\u2500\u2500\u2500\u253c\u2500\u2500\u2500\u2500\u2500\u2500\u2500\u2500\u253c\u2500\u2500\u2500\u2500\u2500\u2524\n",
              "\u2502BMW       \u250239     \u250222      \u25028    \u2502\n",
              "\u251c\u2500\u2500\u2500\u2500\u2500\u2500\u2500\u2500\u2500\u2500\u253c\u2500\u2500\u2500\u2500\u2500\u2500\u2500\u253c\u2500\u2500\u2500\u2500\u2500\u2500\u2500\u2500\u253c\u2500\u2500\u2500\u2500\u2500\u2524\n",
              "\u2502Lexus     \u250248     \u250221      \u25027    \u2502\n",
              "\u251c\u2500\u2500\u2500\u2500\u2500\u2500\u2500\u2500\u2500\u2500\u253c\u2500\u2500\u2500\u2500\u2500\u2500\u2500\u253c\u2500\u2500\u2500\u2500\u2500\u2500\u2500\u2500\u253c\u2500\u2500\u2500\u2500\u2500\u2524\n",
              "\u2502Mitsubishi\u250245     \u25025       \u25029    \u2502\n",
              "\u251c\u2500\u2500\u2500\u2500\u2500\u2500\u2500\u2500\u2500\u2500\u253c\u2500\u2500\u2500\u2500\u2500\u2500\u2500\u253c\u2500\u2500\u2500\u2500\u2500\u2500\u2500\u2500\u253c\u2500\u2500\u2500\u2500\u2500\u2524\n",
              "\u2502Skoda     \u250220     \u250219      \u250213   \u2502\n",
              "\u251c\u2500\u2500\u2500\u2500\u2500\u2500\u2500\u2500\u2500\u2500\u253c\u2500\u2500\u2500\u2500\u2500\u2500\u2500\u253c\u2500\u2500\u2500\u2500\u2500\u2500\u2500\u2500\u253c\u2500\u2500\u2500\u2500\u2500\u2524\n",
              "\u2502Morgan    \u25027      \u250240      \u250223   \u2502\n",
              "\u251c\u2500\u2500\u2500\u2500\u2500\u2500\u2500\u2500\u2500\u2500\u253c\u2500\u2500\u2500\u2500\u2500\u2500\u2500\u253c\u2500\u2500\u2500\u2500\u2500\u2500\u2500\u2500\u253c\u2500\u2500\u2500\u2500\u2500\u2524\n",
              "\u2502Volkswagen\u250218     \u250230      \u250241   \u2502\n",
              "\u251c\u2500\u2500\u2500\u2500\u2500\u2500\u2500\u2500\u2500\u2500\u253c\u2500\u2500\u2500\u2500\u2500\u2500\u2500\u253c\u2500\u2500\u2500\u2500\u2500\u2500\u2500\u2500\u253c\u2500\u2500\u2500\u2500\u2500\u2524\n",
              "\u2502Mercedes  \u250247     \u250233      \u250211   \u2502\n",
              "\u251c\u2500\u2500\u2500\u2500\u2500\u2500\u2500\u2500\u2500\u2500\u253c\u2500\u2500\u2500\u2500\u2500\u2500\u2500\u253c\u2500\u2500\u2500\u2500\u2500\u2500\u2500\u2500\u253c\u2500\u2500\u2500\u2500\u2500\u2524\n",
              "\u2502Volvo     \u250234     \u250246      \u250213   \u2502\n",
              "\u251c\u2500\u2500\u2500\u2500\u2500\u2500\u2500\u2500\u2500\u2500\u253c\u2500\u2500\u2500\u2500\u2500\u2500\u2500\u253c\u2500\u2500\u2500\u2500\u2500\u2500\u2500\u2500\u253c\u2500\u2500\u2500\u2500\u2500\u2524\n",
              "\u2502Fiat      \u250244     \u250224      \u250226   \u2502\n",
              "\u251c\u2500\u2500\u2500\u2500\u2500\u2500\u2500\u2500\u2500\u2500\u253c\u2500\u2500\u2500\u2500\u2500\u2500\u2500\u253c\u2500\u2500\u2500\u2500\u2500\u2500\u2500\u2500\u253c\u2500\u2500\u2500\u2500\u2500\u2524\n",
              "\u2502Land-Rover\u250231     \u250241      \u250251   \u2502\n",
              "\u251c\u2500\u2500\u2500\u2500\u2500\u2500\u2500\u2500\u2500\u2500\u253c\u2500\u2500\u2500\u2500\u2500\u2500\u2500\u253c\u2500\u2500\u2500\u2500\u2500\u2500\u2500\u2500\u253c\u2500\u2500\u2500\u2500\u2500\u2524\n",
              "\u2502Chrysler  \u250224     \u250248      \u250232   \u2502\n",
              "\u2514\u2500\u2500\u2500\u2500\u2500\u2500\u2500\u2500\u2500\u2500\u2534\u2500\u2500\u2500\u2500\u2500\u2500\u2500\u2534\u2500\u2500\u2500\u2500\u2500\u2500\u2500\u2500\u2534\u2500\u2500\u2500\u2500\u2500\u2518\n",
              "</span>"
            ]
          },
          "execution_count": 22,
          "metadata": {},
          "output_type": "execute_result"
        }
      ],
      "source": [
        "\u2395\u2190 contents \u2190 \u2395CSV FILEPATH,'BasicCarSales.csv'"
      ]
    },
    {
      "cell_type": "markdown",
      "metadata": {},
      "source": [
        "The return value is a matrix with one row per line of text in the file and one column per data entry:"
      ]
    },
    {
      "cell_type": "code",
      "execution_count": 23,
      "metadata": {},
      "outputs": [
        {
          "data": {
            "text/html": [
              "<span style=\"white-space:pre; font-family: monospace\">16 4\n",
              "</span>"
            ]
          },
          "execution_count": 23,
          "metadata": {},
          "output_type": "execute_result"
        }
      ],
      "source": [
        "\u2374contents"
      ]
    },
    {
      "cell_type": "markdown",
      "metadata": {},
      "source": [
        "You can use `\u2395CSV` to read data and have it separate the header for you and convert columns into the appropriate data types. For example, we can tell `\u2395CSV` to convert columns 2, 3 and 4 to numbers and to split the header:"
      ]
    },
    {
      "cell_type": "code",
      "execution_count": 24,
      "metadata": {},
      "outputs": [
        {
          "data": {
            "text/html": [
              "<span style=\"white-space:pre; font-family: monospace\">\u250c\u2500\u2500\u2500\u2500\u2500\u2500\u2500\u2500\u2500\u2500\u2500\u2500\u2500\u2500\u2500\u2500\u2500\u2500\u2500\u2500\u2500\u252c\u2500\u2500\u2500\u2500\u2500\u2500\u2500\u2500\u2500\u2500\u2500\u2500\u2500\u2500\u2500\u2500\u2500\u2500\u2500\u2500\u2500\u2500\u2500\u2500\u2500\u2500\u2500\u2500\u2500\u2510\n",
              "\u2502\u250c\u2500\u2500\u2500\u2500\u2500\u2500\u2500\u2500\u2500\u2500\u252c\u2500\u2500\u252c\u2500\u2500\u252c\u2500\u2500\u2510\u2502\u250c\u2500\u2500\u2500\u2500\u252c\u2500\u2500\u2500\u2500\u2500\u2500\u2500\u252c\u2500\u2500\u2500\u2500\u2500\u2500\u2500\u2500\u252c\u2500\u2500\u2500\u2500\u2500\u2510\u2502\n",
              "\u2502\u2502Subaru    \u250210\u250216\u250232\u2502\u2502\u2502Make\u2502January\u2502February\u2502March\u2502\u2502\n",
              "\u2502\u251c\u2500\u2500\u2500\u2500\u2500\u2500\u2500\u2500\u2500\u2500\u253c\u2500\u2500\u253c\u2500\u2500\u253c\u2500\u2500\u2524\u2502\u2514\u2500\u2500\u2500\u2500\u2534\u2500\u2500\u2500\u2500\u2500\u2500\u2500\u2534\u2500\u2500\u2500\u2500\u2500\u2500\u2500\u2500\u2534\u2500\u2500\u2500\u2500\u2500\u2518\u2502\n",
              "\u2502\u2502Opel      \u25027 \u25023 \u250232\u2502\u2502                             \u2502\n",
              "\u2502\u251c\u2500\u2500\u2500\u2500\u2500\u2500\u2500\u2500\u2500\u2500\u253c\u2500\u2500\u253c\u2500\u2500\u253c\u2500\u2500\u2524\u2502                             \u2502\n",
              "\u2502\u2502Citroen   \u250234\u250213\u250224\u2502\u2502                             \u2502\n",
              "\u2502\u251c\u2500\u2500\u2500\u2500\u2500\u2500\u2500\u2500\u2500\u2500\u253c\u2500\u2500\u253c\u2500\u2500\u253c\u2500\u2500\u2524\u2502                             \u2502\n",
              "\u2502\u2502Peugeot   \u250220\u250211\u25022 \u2502\u2502                             \u2502\n",
              "\u2502\u251c\u2500\u2500\u2500\u2500\u2500\u2500\u2500\u2500\u2500\u2500\u253c\u2500\u2500\u253c\u2500\u2500\u253c\u2500\u2500\u2524\u2502                             \u2502\n",
              "\u2502\u2502BMW       \u250239\u250222\u25028 \u2502\u2502                             \u2502\n",
              "\u2502\u251c\u2500\u2500\u2500\u2500\u2500\u2500\u2500\u2500\u2500\u2500\u253c\u2500\u2500\u253c\u2500\u2500\u253c\u2500\u2500\u2524\u2502                             \u2502\n",
              "\u2502\u2502Lexus     \u250248\u250221\u25027 \u2502\u2502                             \u2502\n",
              "\u2502\u251c\u2500\u2500\u2500\u2500\u2500\u2500\u2500\u2500\u2500\u2500\u253c\u2500\u2500\u253c\u2500\u2500\u253c\u2500\u2500\u2524\u2502                             \u2502\n",
              "\u2502\u2502Mitsubishi\u250245\u25025 \u25029 \u2502\u2502                             \u2502\n",
              "\u2502\u251c\u2500\u2500\u2500\u2500\u2500\u2500\u2500\u2500\u2500\u2500\u253c\u2500\u2500\u253c\u2500\u2500\u253c\u2500\u2500\u2524\u2502                             \u2502\n",
              "\u2502\u2502Skoda     \u250220\u250219\u250213\u2502\u2502                             \u2502\n",
              "\u2502\u251c\u2500\u2500\u2500\u2500\u2500\u2500\u2500\u2500\u2500\u2500\u253c\u2500\u2500\u253c\u2500\u2500\u253c\u2500\u2500\u2524\u2502                             \u2502\n",
              "\u2502\u2502Morgan    \u25027 \u250240\u250223\u2502\u2502                             \u2502\n",
              "\u2502\u251c\u2500\u2500\u2500\u2500\u2500\u2500\u2500\u2500\u2500\u2500\u253c\u2500\u2500\u253c\u2500\u2500\u253c\u2500\u2500\u2524\u2502                             \u2502\n",
              "\u2502\u2502Volkswagen\u250218\u250230\u250241\u2502\u2502                             \u2502\n",
              "\u2502\u251c\u2500\u2500\u2500\u2500\u2500\u2500\u2500\u2500\u2500\u2500\u253c\u2500\u2500\u253c\u2500\u2500\u253c\u2500\u2500\u2524\u2502                             \u2502\n",
              "\u2502\u2502Mercedes  \u250247\u250233\u250211\u2502\u2502                             \u2502\n",
              "\u2502\u251c\u2500\u2500\u2500\u2500\u2500\u2500\u2500\u2500\u2500\u2500\u253c\u2500\u2500\u253c\u2500\u2500\u253c\u2500\u2500\u2524\u2502                             \u2502\n",
              "\u2502\u2502Volvo     \u250234\u250246\u250213\u2502\u2502                             \u2502\n",
              "\u2502\u251c\u2500\u2500\u2500\u2500\u2500\u2500\u2500\u2500\u2500\u2500\u253c\u2500\u2500\u253c\u2500\u2500\u253c\u2500\u2500\u2524\u2502                             \u2502\n",
              "\u2502\u2502Fiat      \u250244\u250224\u250226\u2502\u2502                             \u2502\n",
              "\u2502\u251c\u2500\u2500\u2500\u2500\u2500\u2500\u2500\u2500\u2500\u2500\u253c\u2500\u2500\u253c\u2500\u2500\u253c\u2500\u2500\u2524\u2502                             \u2502\n",
              "\u2502\u2502Land-Rover\u250231\u250241\u250251\u2502\u2502                             \u2502\n",
              "\u2502\u251c\u2500\u2500\u2500\u2500\u2500\u2500\u2500\u2500\u2500\u2500\u253c\u2500\u2500\u253c\u2500\u2500\u253c\u2500\u2500\u2524\u2502                             \u2502\n",
              "\u2502\u2502Chrysler  \u250224\u250248\u250232\u2502\u2502                             \u2502\n",
              "\u2502\u2514\u2500\u2500\u2500\u2500\u2500\u2500\u2500\u2500\u2500\u2500\u2534\u2500\u2500\u2534\u2500\u2500\u2534\u2500\u2500\u2518\u2502                             \u2502\n",
              "\u2514\u2500\u2500\u2500\u2500\u2500\u2500\u2500\u2500\u2500\u2500\u2500\u2500\u2500\u2500\u2500\u2500\u2500\u2500\u2500\u2500\u2500\u2534\u2500\u2500\u2500\u2500\u2500\u2500\u2500\u2500\u2500\u2500\u2500\u2500\u2500\u2500\u2500\u2500\u2500\u2500\u2500\u2500\u2500\u2500\u2500\u2500\u2500\u2500\u2500\u2500\u2500\u2518\n",
              "</span>"
            ]
          },
          "execution_count": 24,
          "metadata": {},
          "output_type": "execute_result"
        }
      ],
      "source": [
        "\u2395\u2190 contents \u2190 \u2395CSV (FILEPATH,'BasicCarSales.csv') '' (1 2 2 2) 1"
      ]
    },
    {
      "cell_type": "markdown",
      "metadata": {},
      "source": [
        "More advanced use cases of `\u2395CSV` can be found in [the appropriate section](./System-Interfaces.ipynb) or in the documentation page for `\u2395CSV`. As an exercise, open the [docs for `\u2395CSV`](https://help.dyalog.com/latest/#Language/System%20Functions/csv.htm) (by clicking the link or typing `\u2395CSV` in your interpreter and then pressing <kbd>F1</kbd>) and try to understand what the `1` in `(1 2 2 2)` does. Learning to read documentation pages may seem daunting at first, but it is an acquired skill that is very helpful for programmers."
      ]
    },
    {
      "cell_type": "markdown",
      "metadata": {},
      "source": [
        "(User-Defined-Functions-Exporting-Data)=\n",
        "#### Exporting Data\n",
        "\n",
        "Exporting data to a CSV file is done in a similar fashion, by passing in the data as the left argument to `\u2395CSV`. The data given can be the whole table or a 2-element vector like above, where the first element is the data and the second one is the header. If the file didn't exist already, one could write"
      ]
    },
    {
      "cell_type": "code",
      "execution_count": 25,
      "metadata": {},
      "outputs": [
        {
          "name": "stderr",
          "output_type": "stream",
          "text": [
            "FILE NAME ERROR: C:/Users/rodri/Documents/Dyalog/MDAPL/res/testfiles/BasicCarSales.csv: Unable to create file (\"The file exists.\")\n",
            "      contents \u2395CSV FILEPATH,'BasicCarSales.csv'\n",
            "               \u2227\n"
          ]
        }
      ],
      "source": [
        "contents \u2395CSV FILEPATH,'BasicCarSales.csv'"
      ]
    },
    {
      "cell_type": "markdown",
      "metadata": {},
      "source": [
        "to save `contents` in the specified file.\n",
        "\n",
        "Because the file already exists, you can see that APL issues a `FILE NAME ERROR`. You can think of this as being similar to that prompt you get whenever you try to close a window with unsaved changes: it is annoying whenever you *really* want to close without saving and it asks you if you are sure, but you are glad it exists when you accidentally try to close the window amidst your work. To force `\u2395CSV` to overwrite an already existing file, you will first need to learn about *Variant* in [the \"Operators\" chapter](./Operators.ipynb)."
      ]
    },
    {
      "cell_type": "markdown",
      "metadata": {},
      "source": [
        "(User-Defined-Functions-Exchanging-Data-With-an-Excel-Worksheet)=\n",
        "#### Exchanging Data With an Excel Worksheet\n",
        "\n",
        "Many applications are based on an intelligent partnership between Excel and APL:\n",
        "\n",
        " - some users enter data in a set of worksheets with a predefined structure;\n",
        " - APL reads the sheets and processes the data with much greater power, precision and flexibility than Excel is capable of; and\n",
        " - finally, APL outputs results into one or more worksheets, in which the user can modify the presentation, define additional simple calculations and produce simple graphs.\n",
        "\n",
        "However, this only works out of the box if your operating system is Windows. The \"loaddata.dws\" workspace, distributed as part of the Dyalog APL system, contains a set of professional grade functions to read from and write to text files, Excel workbooks, CSV files, SQL databases and XML files."
      ]
    },
    {
      "cell_type": "markdown",
      "metadata": {},
      "source": [
        "(User-Defined-Functions-Reading-or-Writing-a-Text-File)=\n",
        "### Reading or Writing a Text File\n",
        "\n",
        "Files can have many different formats. Some contain integer or decimal numbers, some contain APL variables (vectors, arrays, nested values) as we shall see in [a future chapter](./File-Processing.ipynb), but most files contain plain text.\n",
        "\n",
        "In this chapter, we shall limit our investigations:\n",
        "\n",
        " - to text files which can be viewed and modified using a basic text editor like Microsoft Notepad; and\n",
        " - to rather small files that can be read or written as a whole in a single operation (depending on your workspace size, you can easily read/write thousands of lines of text).\n",
        "\n",
        "Such a file can be considered as a long vector containing special line separation characters (\"*carriage return*\" and/or \"*line feed*\"). For that reason, when edited with Notepad, they look more or less like APL character matrices.\n",
        "\n",
        "Except for special purposes, to exchange data between APL and a text file, one needs to:\n",
        "\n",
        " - convert the read data from a file as a character vector into a more convenient APL character array (to read); or\n",
        " - convert an APL character array into a special character vector with embedded line separators (to write).\n",
        "\n",
        "Those conventions require some techniques we haven\u2019t seen yet. This is the reason why we give you some predefined functions. You will find them in a workspace named `Files.dws` delivered with Dyalog APL. It contains a *namespace* (you can read about namespaces in their chapter) which itself contains the functions. To use them, you must:\n",
        "\n",
        " - copy the *namespace* inside `Files.dws` into your active workspace (be careful with the case):"
      ]
    },
    {
      "cell_type": "code",
      "execution_count": 62,
      "metadata": {},
      "outputs": [
        {
          "data": {
            "text/html": [
              "<span style=\"white-space:pre; font-family: monospace\">C:\\Program Files\\Dyalog\\Dyalog APL-64 18.0 Unicode\\ws\\files.dws saved Tue Dec  1 20:08:18 2020\n",
              "</span>"
            ]
          },
          "execution_count": 62,
          "metadata": {},
          "output_type": "execute_result"
        }
      ],
      "source": [
        ")copy files Files"
      ]
    },
    {
      "cell_type": "markdown",
      "metadata": {},
      "source": [
        "and\n",
        " - set an access path to the *namespace* contents:"
      ]
    },
    {
      "cell_type": "code",
      "execution_count": 63,
      "metadata": {},
      "outputs": [],
      "source": [
        "\u2395PATH \u2190 'Files'"
      ]
    },
    {
      "cell_type": "markdown",
      "metadata": {},
      "source": [
        "Here are 3 functions you might find useful:\n",
        "\n",
        " 1. `ReadAllText` reads the contents of a text file and returns a character vector. The lines of the text are separated by two special characters: *carriage return* and/or *line feed*. The syntax is `result \u2190 ReadAllText path,fileID`:"
      ]
    },
    {
      "cell_type": "code",
      "execution_count": 64,
      "metadata": {},
      "outputs": [
        {
          "data": {
            "text/html": [
              "<span style=\"white-space:pre; font-family: monospace\">So I say to you, my friends, that even though we must face the          \n",
              "difficulties of today and tomorrow, I still have a dream. It is         \n",
              "a dream deeply rooted in the American dream that one day this           \n",
              "nation will rise up and live out the true meaning of its creed:         \n",
              "we hold these truths to be self-evident, that all men are               \n",
              "created equal.                                                          \n",
              "I have a dream that one day, on the red hills of Georgia, sons          \n",
              "of former slaves, and sons of former slave-owners will be able          \n",
              "to sit down together at the table of brotherhood.                       \n",
              "I have a dream that one day, even the state of Mississippi, a           \n",
              "state sweltering with the heat of injustice, sweltering with the        \n",
              "heat of oppression, will be transformed into an oasis of freedom        \n",
              "and justice.                                                            \n",
              "I have a dream that my four children will one day live in a             \n",
              "nation where they will not be juged by the color of their skin          \n",
              "but by content of their character.                                      \n",
              "I have a dream today!                                                   \n",
              "I have a dream that one day, down in Alabama, with its vicious          \n",
              "racists, with its governor having his lips dripping with the            \n",
              "words of interposition and nullification, that one day, right           \n",
              "there in Alabama, little black boys and black girls will be able        \n",
              "to join hands with little white boys and white girls as sisters         \n",
              "and brothers. I have a dream today!                                     \n",
              "I have a dream that one day every valley shall be exalted, every        \n",
              "hill and mountain shall be made low, the rough places shall be          \n",
              "made plain, and the crooked places shall be made straight and the       \n",
              "glory of the Lord will be revealed and all flesh shall seet it          \n",
              "together.                                                               \n",
              "This is our hope. This is the faith that I go back to the South         \n",
              "with.                                                                   \n",
              "With this faith, we will be able to hear out of the mountain of         \n",
              "despair a stone of hope. With this faith we will be able to             \n",
              "transform the jangling discords of our nation into a beautiful          \n",
              "symphony of brotherhood.                                                \n",
              "With this faith, we will be able to work together, knowing that         \n",
              "we will be free one day. This will be the day when all of God's         \n",
              "children will be able to sing with new meaning - \"My country            \n",
              "'this of thee; sweet land of liberty; of thee I sing; land where        \n",
              "my fathers died, land of the pilgrim's pride; from every mountain       \n",
              "side, let freedom ring\" - and if America is to be a great nation,       \n",
              "this must become true.                                                  \n",
              "So let freedom ring from the prodigious hilltops of New Hampshire.      \n",
              "Let freedom ring from the mighty mountains of New York.                 \n",
              "Let freedom ring from the heightening Alleghenies of Pennsylvania.      \n",
              "Let freedom ring from the snow-capped Rockies of Colorado.              \n",
              "Let freedom ring from the curvaceous slopes of California.              \n",
              "But not only that.                                                      \n",
              "Let freedom ring from Stone Mountain of Georgia.                        \n",
              "Let freedom ring from Lookout Mountain of Tennesse.                     \n",
              "Let freedom ring from every hill and molehill of Mississippi, from      \n",
              "every mountainside, let freedom ring.                                   \n",
              "And when we allow freedom to ring, when we let it ring from every       \n",
              "village and hamlet, from every state and city, we will be able          \n",
              "to speed up that day when all of God's children - black men and         \n",
              "white men, Jews and Gentiles, Catholics and Protestants - will be       \n",
              "able to join hands and to sing the words of the old Negro Spiritual;    \n",
              "\"Free at last, free at last; thank God Almighty, we are free at last\".  \n",
              "-- Martin Luther King Jr. --                                            \n",
              "Washington,August 28th 1963.                                            \n",
              "                                                                        \n",
              "</span>"
            ]
          },
          "execution_count": 64,
          "metadata": {},
          "output_type": "execute_result"
        }
      ],
      "source": [
        "\u2395\u2190 dream \u2190 ReadAllText FILEPATH,'mlk.txt'"
      ]
    },
    {
      "cell_type": "markdown",
      "metadata": {},
      "source": [
        " 2. `ReadAllLines` reads the contents of a text file and returns a nested vector of character vectors, one vector per line of text in the file. The syntax is `result \u2190 ReadAllLines path,fileID`:"
      ]
    },
    {
      "cell_type": "code",
      "execution_count": 65,
      "metadata": {},
      "outputs": [
        {
          "data": {
            "text/html": [
              "<span style=\"white-space:pre; font-family: monospace\">\u250c\u2500\u2500\u2500\u2500\u2500\u2500\u2500\u2500\u2500\u2500\u2500\u2500\u2500\u2500\u2500\u2500\u2500\u2500\u2500\u2500\u2500\u2500\u2500\u2500\u2500\u2500\u2500\u2500\u2500\u2500\u2500\u2500\u2500\u2500\u2500\u2500\u2500\u2500\u2500\u2500\u2500\u2500\u2500\u2500\u2500\u2500\u2500\u2500\u2500\u2500\u2500\u2500\u2500\u2500\u2500\u2500\u2500\u2500\u2500\u2500\u2500\u2500\u252c\u2500\u2500\u2500\u2500\u2500\u2500\u2500\u2500\u2500\u2500\u2500\u2500\u2500\u2500\u2500\u2500\u2500\u2500\u2500\u2500\u2500\u2500\u2500\u2500\u2500\u2500\u2500\u2500\u2500\u2500\u2500\u2500\u2500\u2500\u2500\u2500\u2500\u2500\u2500\u2500\u2500\u2500\u2500\u2500\u2500\u2500\u2500\u2500\u2500\u2500\u2500\u2500\u2500\u2500\u2500\u2500\u2500\u2500\u2500\u2500\u2500\u2500\u2500\u252c\u2500\u2500\u2500\u2500\u2500\u2500\u2500\u2500\u2500\u2500\u2500\u2500\u2500\u2500\u2500\u2500\u2500\u2500\u2500\u2500\u2500\u2500\u2500\u2500\u2500\u2500\u2500\u2500\u2500\u2500\u2500\u2500\u2500\u2500\u2500\u2500\u2500\u2500\u2500\u2500\u2500\u2500\u2500\u2500\u2500\u2500\u2500\u2500\u2500\u2500\u2500\u2500\u2500\u2500\u2500\u2500\u2500\u2500\u2500\u2500\u2500\u252c\u2500\u2500\u2500\u2500\u2500\u2500\u2500\u2500\u2500\u2500\u2500\u2500\u2500\u2500\u2500\u2500\u2500\u2500\u2500\u2500\u2500\u2500\u2500\u2500\u2500\u2500\u2500\u2500\u2500\u2500\u2500\u2500\u2500\u2500\u2500\u2500\u2500\u2500\u2500\u2500\u2500\u2500\u2500\u2500\u2500\u2500\u2500\u2500\u2500\u2500\u2500\u2500\u2500\u2500\u2500\u2500\u2500\u2500\u2500\u2500\u2500\u2500\u2500\u252c\u2500\u2500\u2500\u2500\u2500\u2500\u2500\u2500\u2500\u2500\u2500\u2500\u2500\u2500\u2500\u2500\u2500\u2500\u2500\u2500\u2500\u2500\u2500\u2500\u2500\u2500\u2500\u2500\u2500\u2500\u2500\u2500\u2500\u2500\u2500\u2500\u2500\u2500\u2500\u2500\u2500\u2500\u2500\u2500\u2500\u2500\u2500\u2500\u2500\u2500\u2500\u2500\u2500\u2500\u2500\u2500\u2500\u252c\u2500\u2500\u2500\u2500\u2500\u2500\u2500\u2500\u2500\u2500\u2500\u2500\u2500\u2500\u252c\u2500\u2500\u2500\u2500\u2500\u2500\u2500\u2500\u2500\u2500\u2500\u2500\u2500\u2500\u2500\u2500\u2500\u2500\u2500\u2500\u2500\u2500\u2500\u2500\u2500\u2500\u2500\u2500\u2500\u2500\u2500\u2500\u2500\u2500\u2500\u2500\u2500\u2500\u2500\u2500\u2500\u2500\u2500\u2500\u2500\u2500\u2500\u2500\u2500\u2500\u2500\u2500\u2500\u2500\u2500\u2500\u2500\u2500\u2500\u2500\u2500\u2500\u252c\u2500\u2500\u2500\u2500\u2500\u2500\u2500\u2500\u2500\u2500\u2500\u2500\u2500\u2500\u2500\u2500\u2500\u2500\u2500\u2500\u2500\u2500\u2500\u2500\u2500\u2500\u2500\u2500\u2500\u2500\u2500\u2500\u2500\u2500\u2500\u2500\u2500\u2500\u2500\u2500\u2500\u2500\u2500\u2500\u2500\u2500\u2500\u2500\u2500\u2500\u2500\u2500\u2500\u2500\u2500\u2500\u2500\u2500\u2500\u2500\u2500\u2500\u252c\u2500\u2500\u2500\u2500\u2500\u2500\u2500\u2500\u2500\u2500\u2500\u2500\u2500\u2500\u2500\u2500\u2500\u2500\u2500\u2500\u2500\u2500\u2500\u2500\u2500\u2500\u2500\u2500\u2500\u2500\u2500\u2500\u2500\u2500\u2500\u2500\u2500\u2500\u2500\u2500\u2500\u2500\u2500\u2500\u2500\u2500\u2500\u2500\u2500\u2500\u252c\u2500\u2500\u2500\u2500\u2500\u2500\u2500\u2500\u2500\u2500\u2500\u2500\u2500\u2500\u2500\u2500\u2500\u2500\u2500\u2500\u2500\u2500\u2500\u2500\u2500\u2500\u2500\u2500\u2500\u2500\u2500\u2500\u2500\u2500\u2500\u2500\u2500\u2500\u2500\u2500\u2500\u2500\u2500\u2500\u2500\u2500\u2500\u2500\u2500\u2500\u2500\u2500\u2500\u2500\u2500\u2500\u2500\u2500\u2500\u2500\u2500\u252c\u2500\u2500\u2500\u2500\u2500\u2500\u2500\u2500\u2500\u2500\u2500\u2500\u2500\u2500\u2500\u2500\u2500\u2500\u2500\u2500\u2500\u2500\u2500\u2500\u2500\u2500\u2500\u2500\u2500\u2500\u2500\u2500\u2500\u2500\u2500\u2500\u2500\u2500\u2500\u2500\u2500\u2500\u2500\u2500\u2500\u2500\u2500\u2500\u2500\u2500\u2500\u2500\u2500\u2500\u2500\u2500\u2500\u2500\u2500\u2500\u2500\u2500\u2500\u2500\u252c\u2500\u2500\u2500\u2500\u2500\u2500\u2500\u2500\u2500\u2500\u2500\u2500\u2500\u2500\u2500\u2500\u2500\u2500\u2500\u2500\u2500\u2500\u2500\u2500\u2500\u2500\u2500\u2500\u2500\u2500\u2500\u2500\u2500\u2500\u2500\u2500\u2500\u2500\u2500\u2500\u2500\u2500\u2500\u2500\u2500\u2500\u2500\u2500\u2500\u2500\u2500\u2500\u2500\u2500\u2500\u2500\u2500\u2500\u2500\u2500\u2500\u2500\u2500\u2500\u252c\u2500\u2500\u2500\u2500\u2500\u2500\u2500\u2500\u2500\u2500\u2500\u2500\u252c\u2500\u2500\u2500\u2500\u2500\u2500\u2500\u2500\u2500\u2500\u2500\u2500\u2500\u2500\u2500\u2500\u2500\u2500\u2500\u2500\u2500\u2500\u2500\u2500\u2500\u2500\u2500\u2500\u2500\u2500\u2500\u2500\u2500\u2500\u2500\u2500\u2500\u2500\u2500\u2500\u2500\u2500\u2500\u2500\u2500\u2500\u2500\u2500\u2500\u2500\u2500\u2500\u2500\u2500\u2500\u2500\u2500\u2500\u2500\u252c\u2500\u2500\u2500\u2500\u2500\u2500\u2500\u2500\u2500\u2500\u2500\u2500\u2500\u2500\u2500\u2500\u2500\u2500\u2500\u2500\u2500\u2500\u2500\u2500\u2500\u2500\u2500\u2500\u2500\u2500\u2500\u2500\u2500\u2500\u2500\u2500\u2500\u2500\u2500\u2500\u2500\u2500\u2500\u2500\u2500\u2500\u2500\u2500\u2500\u2500\u2500\u2500\u2500\u2500\u2500\u2500\u2500\u2500\u2500\u2500\u2500\u2500\u252c\u2500\u2500\u2500\u2500\u2500\u2500\u2500\u2500\u2500\u2500\u2500\u2500\u2500\u2500\u2500\u2500\u2500\u2500\u2500\u2500\u2500\u2500\u2500\u2500\u2500\u2500\u2500\u2500\u2500\u2500\u2500\u2500\u2500\u2500\u252c\u2500\u2500\u2500\u2500\u2500\u2500\u2500\u2500\u2500\u2500\u2500\u2500\u2500\u2500\u2500\u2500\u2500\u2500\u2500\u2500\u2500\u252c\u2500\u2500\u2500\u2500\u2500\u2500\u2500\u2500\u2500\u2500\u2500\u2500\u2500\u2500\u2500\u2500\u2500\u2500\u2500\u2500\u2500\u2500\u2500\u2500\u2500\u2500\u2500\u2500\u2500\u2500\u2500\u2500\u2500\u2500\u2500\u2500\u2500\u2500\u2500\u2500\u2500\u2500\u2500\u2500\u2500\u2500\u2500\u2500\u2500\u2500\u2500\u2500\u2500\u2500\u2500\u2500\u2500\u2500\u2500\u2500\u2500\u2500\u252c\u2500\u2500\u2500\u2500\u2500\u2500\u2500\u2500\u2500\u2500\u2500\u2500\u2500\u2500\u2500\u2500\u2500\u2500\u2500\u2500\u2500\u2500\u2500\u2500\u2500\u2500\u2500\u2500\u2500\u2500\u2500\u2500\u2500\u2500\u2500\u2500\u2500\u2500\u2500\u2500\u2500\u2500\u2500\u2500\u2500\u2500\u2500\u2500\u2500\u2500\u2500\u2500\u2500\u2500\u2500\u2500\u2500\u2500\u2500\u2500\u252c\u2500\u2500\u2500\u2500\u2500\u2500\u2500\u2500\u2500\u2500\u2500\u2500\u2500\u2500\u2500\u2500\u2500\u2500\u2500\u2500\u2500\u2500\u2500\u2500\u2500\u2500\u2500\u2500\u2500\u2500\u2500\u2500\u2500\u2500\u2500\u2500\u2500\u2500\u2500\u2500\u2500\u2500\u2500\u2500\u2500\u2500\u2500\u2500\u2500\u2500\u2500\u2500\u2500\u2500\u2500\u2500\u2500\u2500\u2500\u2500\u2500\u2500\u252c\u2500\u2500\u2500\u2500\u2500\u2500\u2500\u2500\u2500\u2500\u2500\u2500\u2500\u2500\u2500\u2500\u2500\u2500\u2500\u2500\u2500\u2500\u2500\u2500\u2500\u2500\u2500\u2500\u2500\u2500\u2500\u2500\u2500\u2500\u2500\u2500\u2500\u2500\u2500\u2500\u2500\u2500\u2500\u2500\u2500\u2500\u2500\u2500\u2500\u2500\u2500\u2500\u2500\u2500\u2500\u2500\u2500\u2500\u2500\u2500\u2500\u2500\u2500\u2500\u252c\u2500\u2500\u2500\u2500\u2500\u2500\u2500\u2500\u2500\u2500\u2500\u2500\u2500\u2500\u2500\u2500\u2500\u2500\u2500\u2500\u2500\u2500\u2500\u2500\u2500\u2500\u2500\u2500\u2500\u2500\u2500\u2500\u2500\u2500\u2500\u2500\u2500\u2500\u2500\u2500\u2500\u2500\u2500\u2500\u2500\u2500\u2500\u2500\u2500\u2500\u2500\u2500\u2500\u2500\u2500\u2500\u2500\u2500\u2500\u2500\u2500\u2500\u2500\u252c\u2500\u2500\u2500\u2500\u2500\u2500\u2500\u2500\u2500\u2500\u2500\u2500\u2500\u2500\u2500\u2500\u2500\u2500\u2500\u2500\u2500\u2500\u2500\u2500\u2500\u2500\u2500\u2500\u2500\u2500\u2500\u2500\u2500\u2500\u2500\u252c\u2500\u2500\u2500\u2500\u2500\u2500\u2500\u2500\u2500\u2500\u2500\u2500\u2500\u2500\u2500\u2500\u2500\u2500\u2500\u2500\u2500\u2500\u2500\u2500\u2500\u2500\u2500\u2500\u2500\u2500\u2500\u2500\u2500\u2500\u2500\u2500\u2500\u2500\u2500\u2500\u2500\u2500\u2500\u2500\u2500\u2500\u2500\u2500\u2500\u2500\u2500\u2500\u2500\u2500\u2500\u2500\u2500\u2500\u2500\u2500\u2500\u2500\u2500\u2500\u252c\u2500\u2500\u2500\u2500\u2500\u2500\u2500\u2500\u2500\u2500\u2500\u2500\u2500\u2500\u2500\u2500\u2500\u2500\u2500\u2500\u2500\u2500\u2500\u2500\u2500\u2500\u2500\u2500\u2500\u2500\u2500\u2500\u2500\u2500\u2500\u2500\u2500\u2500\u2500\u2500\u2500\u2500\u2500\u2500\u2500\u2500\u2500\u2500\u2500\u2500\u2500\u2500\u2500\u2500\u2500\u2500\u2500\u2500\u2500\u2500\u2500\u2500\u252c\u2500\u2500\u2500\u2500\u2500\u2500\u2500\u2500\u2500\u2500\u2500\u2500\u2500\u2500\u2500\u2500\u2500\u2500\u2500\u2500\u2500\u2500\u2500\u2500\u2500\u2500\u2500\u2500\u2500\u2500\u2500\u2500\u2500\u2500\u2500\u2500\u2500\u2500\u2500\u2500\u2500\u2500\u2500\u2500\u2500\u2500\u2500\u2500\u2500\u2500\u2500\u2500\u2500\u2500\u2500\u2500\u2500\u2500\u2500\u2500\u2500\u2500\u2500\u2500\u2500\u252c\u2500\u2500\u2500\u2500\u2500\u2500\u2500\u2500\u2500\u2500\u2500\u2500\u2500\u2500\u2500\u2500\u2500\u2500\u2500\u2500\u2500\u2500\u2500\u2500\u2500\u2500\u2500\u2500\u2500\u2500\u2500\u2500\u2500\u2500\u2500\u2500\u2500\u2500\u2500\u2500\u2500\u2500\u2500\u2500\u2500\u2500\u2500\u2500\u2500\u2500\u2500\u2500\u2500\u2500\u2500\u2500\u2500\u2500\u2500\u2500\u2500\u2500\u252c\u2500\u2500\u2500\u2500\u2500\u2500\u2500\u2500\u2500\u252c\u2500\u2500\u2500\u2500\u2500\u2500\u2500\u2500\u2500\u2500\u2500\u2500\u2500\u2500\u2500\u2500\u2500\u2500\u2500\u2500\u2500\u2500\u2500\u2500\u2500\u2500\u2500\u2500\u2500\u2500\u2500\u2500\u2500\u2500\u2500\u2500\u2500\u2500\u2500\u2500\u2500\u2500\u2500\u2500\u2500\u2500\u2500\u2500\u2500\u2500\u2500\u2500\u2500\u2500\u2500\u2500\u2500\u2500\u2500\u2500\u2500\u2500\u2500\u252c\u2500\u2500\u2500\u2500\u2500\u252c\u2500\u2500\u2500\u2500\u2500\u2500\u2500\u2500\u2500\u2500\u2500\u2500\u2500\u2500\u2500\u2500\u2500\u2500\u2500\u2500\u2500\u2500\u2500\u2500\u2500\u2500\u2500\u2500\u2500\u2500\u2500\u2500\u2500\u2500\u2500\u2500\u2500\u2500\u2500\u2500\u2500\u2500\u2500\u2500\u2500\u2500\u2500\u2500\u2500\u2500\u2500\u2500\u2500\u2500\u2500\u2500\u2500\u2500\u2500\u2500\u2500\u2500\u2500\u252c\u2500\u2500\u2500\u2500\u2500\u2500\u2500\u2500\u2500\u2500\u2500\u2500\u2500\u2500\u2500\u2500\u2500\u2500\u2500\u2500\u2500\u2500\u2500\u2500\u2500\u2500\u2500\u2500\u2500\u2500\u2500\u2500\u2500\u2500\u2500\u2500\u2500\u2500\u2500\u2500\u2500\u2500\u2500\u2500\u2500\u2500\u2500\u2500\u2500\u2500\u2500\u2500\u2500\u2500\u2500\u2500\u2500\u2500\u2500\u252c\u2500\u2500\u2500\u2500\u2500\u2500\u2500\u2500\u2500\u2500\u2500\u2500\u2500\u2500\u2500\u2500\u2500\u2500\u2500\u2500\u2500\u2500\u2500\u2500\u2500\u2500\u2500\u2500\u2500\u2500\u2500\u2500\u2500\u2500\u2500\u2500\u2500\u2500\u2500\u2500\u2500\u2500\u2500\u2500\u2500\u2500\u2500\u2500\u2500\u2500\u2500\u2500\u2500\u2500\u2500\u2500\u2500\u2500\u2500\u2500\u2500\u2500\u252c\u2500\u2500\u2500\u2500\u2500\u2500\u2500\u2500\u2500\u2500\u2500\u2500\u2500\u2500\u2500\u2500\u2500\u2500\u2500\u2500\u2500\u2500\u2500\u2500\u252c\u2500\u2500\u2500\u2500\u2500\u2500\u2500\u2500\u2500\u2500\u2500\u2500\u2500\u2500\u2500\u2500\u2500\u2500\u2500\u2500\u2500\u2500\u2500\u2500\u2500\u2500\u2500\u2500\u2500\u2500\u2500\u2500\u2500\u2500\u2500\u2500\u2500\u2500\u2500\u2500\u2500\u2500\u2500\u2500\u2500\u2500\u2500\u2500\u2500\u2500\u2500\u2500\u2500\u2500\u2500\u2500\u2500\u2500\u2500\u2500\u2500\u2500\u2500\u252c\u2500\u2500\u2500\u2500\u2500\u2500\u2500\u2500\u2500\u2500\u2500\u2500\u2500\u2500\u2500\u2500\u2500\u2500\u2500\u2500\u2500\u2500\u2500\u2500\u2500\u2500\u2500\u2500\u2500\u2500\u2500\u2500\u2500\u2500\u2500\u2500\u2500\u2500\u2500\u2500\u2500\u2500\u2500\u2500\u2500\u2500\u2500\u2500\u2500\u2500\u2500\u2500\u2500\u2500\u2500\u2500\u2500\u2500\u2500\u2500\u2500\u2500\u2500\u252c\u2500\u2500\u2500\u2500\u2500\u2500\u2500\u2500\u2500\u2500\u2500\u2500\u2500\u2500\u2500\u2500\u2500\u2500\u2500\u2500\u2500\u2500\u2500\u2500\u2500\u2500\u2500\u2500\u2500\u2500\u2500\u2500\u2500\u2500\u2500\u2500\u2500\u2500\u2500\u2500\u2500\u2500\u2500\u2500\u2500\u2500\u2500\u2500\u2500\u2500\u2500\u2500\u2500\u2500\u2500\u2500\u2500\u2500\u2500\u2500\u2500\u252c\u2500\u2500\u2500\u2500\u2500\u2500\u2500\u2500\u2500\u2500\u2500\u2500\u2500\u2500\u2500\u2500\u2500\u2500\u2500\u2500\u2500\u2500\u2500\u2500\u2500\u2500\u2500\u2500\u2500\u2500\u2500\u2500\u2500\u2500\u2500\u2500\u2500\u2500\u2500\u2500\u2500\u2500\u2500\u2500\u2500\u2500\u2500\u2500\u2500\u2500\u2500\u2500\u2500\u2500\u2500\u2500\u2500\u2500\u2500\u2500\u2500\u2500\u2500\u2500\u252c\u2500\u2500\u2500\u2500\u2500\u2500\u2500\u2500\u2500\u2500\u2500\u2500\u2500\u2500\u2500\u2500\u2500\u2500\u2500\u2500\u2500\u2500\u2500\u2500\u2500\u2500\u2500\u2500\u2500\u2500\u2500\u2500\u2500\u2500\u2500\u2500\u2500\u2500\u2500\u2500\u2500\u2500\u2500\u2500\u2500\u2500\u2500\u2500\u2500\u2500\u2500\u2500\u2500\u2500\u2500\u2500\u2500\u2500\u2500\u2500\u2500\u2500\u2500\u2500\u2500\u252c\u2500\u2500\u2500\u2500\u2500\u2500\u2500\u2500\u2500\u2500\u2500\u2500\u2500\u2500\u2500\u2500\u2500\u2500\u2500\u2500\u2500\u2500\u2500\u2500\u2500\u2500\u2500\u2500\u2500\u2500\u2500\u2500\u2500\u2500\u2500\u2500\u2500\u2500\u2500\u2500\u2500\u2500\u2500\u2500\u2500\u2500\u2500\u2500\u2500\u2500\u2500\u2500\u2500\u2500\u2500\u2500\u2500\u2500\u2500\u2500\u2500\u2500\u2500\u2500\u2500\u252c\u2500\u2500\u2500\u2500\u2500\u2500\u2500\u2500\u2500\u2500\u2500\u2500\u2500\u2500\u2500\u2500\u2500\u2500\u2500\u2500\u2500\u2500\u252c\u2500\u2500\u2500\u2500\u2500\u2500\u2500\u2500\u2500\u2500\u2500\u2500\u2500\u2500\u2500\u2500\u2500\u2500\u2500\u2500\u2500\u2500\u2500\u2500\u2500\u2500\u2500\u2500\u2500\u2500\u2500\u2500\u2500\u2500\u2500\u2500\u2500\u2500\u2500\u2500\u2500\u2500\u2500\u2500\u2500\u2500\u2500\u2500\u2500\u2500\u2500\u2500\u2500\u2500\u2500\u2500\u2500\u2500\u2500\u2500\u2500\u2500\u2500\u2500\u2500\u2500\u252c\u2500\u2500\u2500\u2500\u2500\u2500\u2500\u2500\u2500\u2500\u2500\u2500\u2500\u2500\u2500\u2500\u2500\u2500\u2500\u2500\u2500\u2500\u2500\u2500\u2500\u2500\u2500\u2500\u2500\u2500\u2500\u2500\u2500\u2500\u2500\u2500\u2500\u2500\u2500\u2500\u2500\u2500\u2500\u2500\u2500\u2500\u2500\u2500\u2500\u2500\u2500\u2500\u2500\u2500\u2500\u252c\u2500\u2500\u2500\u2500\u2500\u2500\u2500\u2500\u2500\u2500\u2500\u2500\u2500\u2500\u2500\u2500\u2500\u2500\u2500\u2500\u2500\u2500\u2500\u2500\u2500\u2500\u2500\u2500\u2500\u2500\u2500\u2500\u2500\u2500\u2500\u2500\u2500\u2500\u2500\u2500\u2500\u2500\u2500\u2500\u2500\u2500\u2500\u2500\u2500\u2500\u2500\u2500\u2500\u2500\u2500\u2500\u2500\u2500\u2500\u2500\u2500\u2500\u2500\u2500\u2500\u2500\u252c\u2500\u2500\u2500\u2500\u2500\u2500\u2500\u2500\u2500\u2500\u2500\u2500\u2500\u2500\u2500\u2500\u2500\u2500\u2500\u2500\u2500\u2500\u2500\u2500\u2500\u2500\u2500\u2500\u2500\u2500\u2500\u2500\u2500\u2500\u2500\u2500\u2500\u2500\u2500\u2500\u2500\u2500\u2500\u2500\u2500\u2500\u2500\u2500\u2500\u2500\u2500\u2500\u2500\u2500\u2500\u2500\u2500\u2500\u252c\u2500\u2500\u2500\u2500\u2500\u2500\u2500\u2500\u2500\u2500\u2500\u2500\u2500\u2500\u2500\u2500\u2500\u2500\u2500\u2500\u2500\u2500\u2500\u2500\u2500\u2500\u2500\u2500\u2500\u2500\u2500\u2500\u2500\u2500\u2500\u2500\u2500\u2500\u2500\u2500\u2500\u2500\u2500\u2500\u2500\u2500\u2500\u2500\u2500\u2500\u2500\u2500\u2500\u2500\u2500\u2500\u2500\u2500\u252c\u2500\u2500\u2500\u2500\u2500\u2500\u2500\u2500\u2500\u2500\u2500\u2500\u2500\u2500\u2500\u2500\u2500\u2500\u252c\u2500\u2500\u2500\u2500\u2500\u2500\u2500\u2500\u2500\u2500\u2500\u2500\u2500\u2500\u2500\u2500\u2500\u2500\u2500\u2500\u2500\u2500\u2500\u2500\u2500\u2500\u2500\u2500\u2500\u2500\u2500\u2500\u2500\u2500\u2500\u2500\u2500\u2500\u2500\u2500\u2500\u2500\u2500\u2500\u2500\u2500\u2500\u2500\u252c\u2500\u2500\u2500\u2500\u2500\u2500\u2500\u2500\u2500\u2500\u2500\u2500\u2500\u2500\u2500\u2500\u2500\u2500\u2500\u2500\u2500\u2500\u2500\u2500\u2500\u2500\u2500\u2500\u2500\u2500\u2500\u2500\u2500\u2500\u2500\u2500\u2500\u2500\u2500\u2500\u2500\u2500\u2500\u2500\u2500\u2500\u2500\u2500\u2500\u2500\u2500\u252c\u2500\u2500\u2500\u2500\u2500\u2500\u2500\u2500\u2500\u2500\u2500\u2500\u2500\u2500\u2500\u2500\u2500\u2500\u2500\u2500\u2500\u2500\u2500\u2500\u2500\u2500\u2500\u2500\u2500\u2500\u2500\u2500\u2500\u2500\u2500\u2500\u2500\u2500\u2500\u2500\u2500\u2500\u2500\u2500\u2500\u2500\u2500\u2500\u2500\u2500\u2500\u2500\u2500\u2500\u2500\u2500\u2500\u2500\u2500\u2500\u2500\u2500\u2500\u2500\u2500\u2500\u252c\u2500\u2500\u2500\u2500\u2500\u2500\u2500\u2500\u2500\u2500\u2500\u2500\u2500\u2500\u2500\u2500\u2500\u2500\u2500\u2500\u2500\u2500\u2500\u2500\u2500\u2500\u2500\u2500\u2500\u2500\u2500\u2500\u2500\u2500\u2500\u2500\u2500\u252c\u2500\u2500\u2500\u2500\u2500\u2500\u2500\u2500\u2500\u2500\u2500\u2500\u2500\u2500\u2500\u2500\u2500\u2500\u2500\u2500\u2500\u2500\u2500\u2500\u2500\u2500\u2500\u2500\u2500\u2500\u2500\u2500\u2500\u2500\u2500\u2500\u2500\u2500\u2500\u2500\u2500\u2500\u2500\u2500\u2500\u2500\u2500\u2500\u2500\u2500\u2500\u2500\u2500\u2500\u2500\u2500\u2500\u2500\u2500\u2500\u2500\u2500\u2500\u2500\u2500\u252c\u2500\u2500\u2500\u2500\u2500\u2500\u2500\u2500\u2500\u2500\u2500\u2500\u2500\u2500\u2500\u2500\u2500\u2500\u2500\u2500\u2500\u2500\u2500\u2500\u2500\u2500\u2500\u2500\u2500\u2500\u2500\u2500\u2500\u2500\u2500\u2500\u2500\u2500\u2500\u2500\u2500\u2500\u2500\u2500\u2500\u2500\u2500\u2500\u2500\u2500\u2500\u2500\u2500\u2500\u2500\u2500\u2500\u2500\u2500\u2500\u2500\u2500\u252c\u2500\u2500\u2500\u2500\u2500\u2500\u2500\u2500\u2500\u2500\u2500\u2500\u2500\u2500\u2500\u2500\u2500\u2500\u2500\u2500\u2500\u2500\u2500\u2500\u2500\u2500\u2500\u2500\u2500\u2500\u2500\u2500\u2500\u2500\u2500\u2500\u2500\u2500\u2500\u2500\u2500\u2500\u2500\u2500\u2500\u2500\u2500\u2500\u2500\u2500\u2500\u2500\u2500\u2500\u2500\u2500\u2500\u2500\u2500\u2500\u2500\u2500\u2500\u252c\u2500\u2500\u2500\u2500\u2500\u2500\u2500\u2500\u2500\u2500\u2500\u2500\u2500\u2500\u2500\u2500\u2500\u2500\u2500\u2500\u2500\u2500\u2500\u2500\u2500\u2500\u2500\u2500\u2500\u2500\u2500\u2500\u2500\u2500\u2500\u2500\u2500\u2500\u2500\u2500\u2500\u2500\u2500\u2500\u2500\u2500\u2500\u2500\u2500\u2500\u2500\u2500\u2500\u2500\u2500\u2500\u2500\u2500\u2500\u2500\u2500\u2500\u2500\u2500\u2500\u252c\u2500\u2500\u2500\u2500\u2500\u2500\u2500\u2500\u2500\u2500\u2500\u2500\u2500\u2500\u2500\u2500\u2500\u2500\u2500\u2500\u2500\u2500\u2500\u2500\u2500\u2500\u2500\u2500\u2500\u2500\u2500\u2500\u2500\u2500\u2500\u2500\u2500\u2500\u2500\u2500\u2500\u2500\u2500\u2500\u2500\u2500\u2500\u2500\u2500\u2500\u2500\u2500\u2500\u2500\u2500\u2500\u2500\u2500\u2500\u2500\u2500\u2500\u2500\u2500\u2500\u2500\u2500\u2500\u252c\u2500\u2500\u2500\u2500\u2500\u2500\u2500\u2500\u2500\u2500\u2500\u2500\u2500\u2500\u2500\u2500\u2500\u2500\u2500\u2500\u2500\u2500\u2500\u2500\u2500\u2500\u2500\u2500\u2500\u2500\u2500\u2500\u2500\u2500\u2500\u2500\u2500\u2500\u2500\u2500\u2500\u2500\u2500\u2500\u2500\u2500\u2500\u2500\u2500\u2500\u2500\u2500\u2500\u2500\u2500\u2500\u2500\u2500\u2500\u2500\u2500\u2500\u2500\u2500\u2500\u2500\u2500\u2500\u2500\u2500\u2500\u2500\u252c\u2500\u2500\u2500\u2500\u2500\u2500\u2500\u2500\u2500\u2500\u2500\u2500\u2500\u2500\u2500\u2500\u2500\u2500\u2500\u2500\u2500\u2500\u2500\u2500\u2500\u2500\u2500\u2500\u2500\u252c\u2500\u2500\u2500\u2500\u2500\u2500\u2500\u2500\u2500\u2500\u2500\u2500\u2500\u2500\u2500\u2500\u2500\u2500\u2500\u2500\u2500\u2500\u2500\u2500\u2500\u2500\u2500\u2500\u252c\u2510\n",
              "\u2502So I say to you, my friends, that even though we must face the\u2502difficulties of today and tomorrow, I still have a dream. It is\u2502a dream deeply rooted in the American dream that one day this\u2502nation will rise up and live out the true meaning of its creed:\u2502we hold these truths to be self-evident, that all men are\u2502created equal.\u2502I have a dream that one day, on the red hills of Georgia, sons\u2502of former slaves, and sons of former slave-owners will be able\u2502to sit down together at the table of brotherhood. \u2502I have a dream that one day, even the state of Mississippi, a\u2502state sweltering with the heat of injustice, sweltering with the\u2502heat of oppression, will be transformed into an oasis of freedom\u2502and justice.\u2502I have a dream that my four children will one day live in a\u2502nation where they will not be juged by the color of their skin\u2502but by content of their character.\u2502I have a dream today!\u2502I have a dream that one day, down in Alabama, with its vicious\u2502racists, with its governor having his lips dripping with the\u2502words of interposition and nullification, that one day, right \u2502there in Alabama, little black boys and black girls will be able\u2502to join hands with little white boys and white girls as sisters\u2502and brothers. I have a dream today!\u2502I have a dream that one day every valley shall be exalted, every\u2502hill and mountain shall be made low, the rough places shall be\u2502made plain, and the crooked places shall be made straight and the\u2502glory of the Lord will be revealed and all flesh shall seet it\u2502together.\u2502This is our hope. This is the faith that I go back to the South\u2502with.\u2502With this faith, we will be able to hear out of the mountain of\u2502despair a stone of hope. With this faith we will be able to\u2502transform the jangling discords of our nation into a beautiful\u2502symphony of brotherhood.\u2502With this faith, we will be able to work together, knowing that\u2502we will be free one day. This will be the day when all of God's\u2502children will be able to sing with new meaning - \"My country \u2502'this of thee; sweet land of liberty; of thee I sing; land where\u2502my fathers died, land of the pilgrim's pride; from every mountain\u2502side, let freedom ring\" - and if America is to be a great nation,\u2502this must become true.\u2502So let freedom ring from the prodigious hilltops of New Hampshire.\u2502Let freedom ring from the mighty mountains of New York.\u2502Let freedom ring from the heightening Alleghenies of Pennsylvania.\u2502Let freedom ring from the snow-capped Rockies of Colorado.\u2502Let freedom ring from the curvaceous slopes of California.\u2502But not only that.\u2502Let freedom ring from Stone Mountain of Georgia.\u2502Let freedom ring from Lookout Mountain of Tennesse.\u2502Let freedom ring from every hill and molehill of Mississippi, from\u2502every mountainside, let freedom ring.\u2502And when we allow freedom to ring, when we let it ring from every\u2502village and hamlet, from every state and city, we will be able\u2502to speed up that day when all of God's children - black men and\u2502white men, Jews and Gentiles, Catholics and Protestants - will be\u2502able to join hands and to sing the words of the old Negro Spiritual;\u2502\"Free at last, free at last; thank God Almighty, we are free at last\".  \u2502-- Martin Luther King Jr. -- \u2502Washington,August 28th 1963.\u2502\u2502\n",
              "\u2514\u2500\u2500\u2500\u2500\u2500\u2500\u2500\u2500\u2500\u2500\u2500\u2500\u2500\u2500\u2500\u2500\u2500\u2500\u2500\u2500\u2500\u2500\u2500\u2500\u2500\u2500\u2500\u2500\u2500\u2500\u2500\u2500\u2500\u2500\u2500\u2500\u2500\u2500\u2500\u2500\u2500\u2500\u2500\u2500\u2500\u2500\u2500\u2500\u2500\u2500\u2500\u2500\u2500\u2500\u2500\u2500\u2500\u2500\u2500\u2500\u2500\u2500\u2534\u2500\u2500\u2500\u2500\u2500\u2500\u2500\u2500\u2500\u2500\u2500\u2500\u2500\u2500\u2500\u2500\u2500\u2500\u2500\u2500\u2500\u2500\u2500\u2500\u2500\u2500\u2500\u2500\u2500\u2500\u2500\u2500\u2500\u2500\u2500\u2500\u2500\u2500\u2500\u2500\u2500\u2500\u2500\u2500\u2500\u2500\u2500\u2500\u2500\u2500\u2500\u2500\u2500\u2500\u2500\u2500\u2500\u2500\u2500\u2500\u2500\u2500\u2500\u2534\u2500\u2500\u2500\u2500\u2500\u2500\u2500\u2500\u2500\u2500\u2500\u2500\u2500\u2500\u2500\u2500\u2500\u2500\u2500\u2500\u2500\u2500\u2500\u2500\u2500\u2500\u2500\u2500\u2500\u2500\u2500\u2500\u2500\u2500\u2500\u2500\u2500\u2500\u2500\u2500\u2500\u2500\u2500\u2500\u2500\u2500\u2500\u2500\u2500\u2500\u2500\u2500\u2500\u2500\u2500\u2500\u2500\u2500\u2500\u2500\u2500\u2534\u2500\u2500\u2500\u2500\u2500\u2500\u2500\u2500\u2500\u2500\u2500\u2500\u2500\u2500\u2500\u2500\u2500\u2500\u2500\u2500\u2500\u2500\u2500\u2500\u2500\u2500\u2500\u2500\u2500\u2500\u2500\u2500\u2500\u2500\u2500\u2500\u2500\u2500\u2500\u2500\u2500\u2500\u2500\u2500\u2500\u2500\u2500\u2500\u2500\u2500\u2500\u2500\u2500\u2500\u2500\u2500\u2500\u2500\u2500\u2500\u2500\u2500\u2500\u2534\u2500\u2500\u2500\u2500\u2500\u2500\u2500\u2500\u2500\u2500\u2500\u2500\u2500\u2500\u2500\u2500\u2500\u2500\u2500\u2500\u2500\u2500\u2500\u2500\u2500\u2500\u2500\u2500\u2500\u2500\u2500\u2500\u2500\u2500\u2500\u2500\u2500\u2500\u2500\u2500\u2500\u2500\u2500\u2500\u2500\u2500\u2500\u2500\u2500\u2500\u2500\u2500\u2500\u2500\u2500\u2500\u2500\u2534\u2500\u2500\u2500\u2500\u2500\u2500\u2500\u2500\u2500\u2500\u2500\u2500\u2500\u2500\u2534\u2500\u2500\u2500\u2500\u2500\u2500\u2500\u2500\u2500\u2500\u2500\u2500\u2500\u2500\u2500\u2500\u2500\u2500\u2500\u2500\u2500\u2500\u2500\u2500\u2500\u2500\u2500\u2500\u2500\u2500\u2500\u2500\u2500\u2500\u2500\u2500\u2500\u2500\u2500\u2500\u2500\u2500\u2500\u2500\u2500\u2500\u2500\u2500\u2500\u2500\u2500\u2500\u2500\u2500\u2500\u2500\u2500\u2500\u2500\u2500\u2500\u2500\u2534\u2500\u2500\u2500\u2500\u2500\u2500\u2500\u2500\u2500\u2500\u2500\u2500\u2500\u2500\u2500\u2500\u2500\u2500\u2500\u2500\u2500\u2500\u2500\u2500\u2500\u2500\u2500\u2500\u2500\u2500\u2500\u2500\u2500\u2500\u2500\u2500\u2500\u2500\u2500\u2500\u2500\u2500\u2500\u2500\u2500\u2500\u2500\u2500\u2500\u2500\u2500\u2500\u2500\u2500\u2500\u2500\u2500\u2500\u2500\u2500\u2500\u2500\u2534\u2500\u2500\u2500\u2500\u2500\u2500\u2500\u2500\u2500\u2500\u2500\u2500\u2500\u2500\u2500\u2500\u2500\u2500\u2500\u2500\u2500\u2500\u2500\u2500\u2500\u2500\u2500\u2500\u2500\u2500\u2500\u2500\u2500\u2500\u2500\u2500\u2500\u2500\u2500\u2500\u2500\u2500\u2500\u2500\u2500\u2500\u2500\u2500\u2500\u2500\u2534\u2500\u2500\u2500\u2500\u2500\u2500\u2500\u2500\u2500\u2500\u2500\u2500\u2500\u2500\u2500\u2500\u2500\u2500\u2500\u2500\u2500\u2500\u2500\u2500\u2500\u2500\u2500\u2500\u2500\u2500\u2500\u2500\u2500\u2500\u2500\u2500\u2500\u2500\u2500\u2500\u2500\u2500\u2500\u2500\u2500\u2500\u2500\u2500\u2500\u2500\u2500\u2500\u2500\u2500\u2500\u2500\u2500\u2500\u2500\u2500\u2500\u2534\u2500\u2500\u2500\u2500\u2500\u2500\u2500\u2500\u2500\u2500\u2500\u2500\u2500\u2500\u2500\u2500\u2500\u2500\u2500\u2500\u2500\u2500\u2500\u2500\u2500\u2500\u2500\u2500\u2500\u2500\u2500\u2500\u2500\u2500\u2500\u2500\u2500\u2500\u2500\u2500\u2500\u2500\u2500\u2500\u2500\u2500\u2500\u2500\u2500\u2500\u2500\u2500\u2500\u2500\u2500\u2500\u2500\u2500\u2500\u2500\u2500\u2500\u2500\u2500\u2534\u2500\u2500\u2500\u2500\u2500\u2500\u2500\u2500\u2500\u2500\u2500\u2500\u2500\u2500\u2500\u2500\u2500\u2500\u2500\u2500\u2500\u2500\u2500\u2500\u2500\u2500\u2500\u2500\u2500\u2500\u2500\u2500\u2500\u2500\u2500\u2500\u2500\u2500\u2500\u2500\u2500\u2500\u2500\u2500\u2500\u2500\u2500\u2500\u2500\u2500\u2500\u2500\u2500\u2500\u2500\u2500\u2500\u2500\u2500\u2500\u2500\u2500\u2500\u2500\u2534\u2500\u2500\u2500\u2500\u2500\u2500\u2500\u2500\u2500\u2500\u2500\u2500\u2534\u2500\u2500\u2500\u2500\u2500\u2500\u2500\u2500\u2500\u2500\u2500\u2500\u2500\u2500\u2500\u2500\u2500\u2500\u2500\u2500\u2500\u2500\u2500\u2500\u2500\u2500\u2500\u2500\u2500\u2500\u2500\u2500\u2500\u2500\u2500\u2500\u2500\u2500\u2500\u2500\u2500\u2500\u2500\u2500\u2500\u2500\u2500\u2500\u2500\u2500\u2500\u2500\u2500\u2500\u2500\u2500\u2500\u2500\u2500\u2534\u2500\u2500\u2500\u2500\u2500\u2500\u2500\u2500\u2500\u2500\u2500\u2500\u2500\u2500\u2500\u2500\u2500\u2500\u2500\u2500\u2500\u2500\u2500\u2500\u2500\u2500\u2500\u2500\u2500\u2500\u2500\u2500\u2500\u2500\u2500\u2500\u2500\u2500\u2500\u2500\u2500\u2500\u2500\u2500\u2500\u2500\u2500\u2500\u2500\u2500\u2500\u2500\u2500\u2500\u2500\u2500\u2500\u2500\u2500\u2500\u2500\u2500\u2534\u2500\u2500\u2500\u2500\u2500\u2500\u2500\u2500\u2500\u2500\u2500\u2500\u2500\u2500\u2500\u2500\u2500\u2500\u2500\u2500\u2500\u2500\u2500\u2500\u2500\u2500\u2500\u2500\u2500\u2500\u2500\u2500\u2500\u2500\u2534\u2500\u2500\u2500\u2500\u2500\u2500\u2500\u2500\u2500\u2500\u2500\u2500\u2500\u2500\u2500\u2500\u2500\u2500\u2500\u2500\u2500\u2534\u2500\u2500\u2500\u2500\u2500\u2500\u2500\u2500\u2500\u2500\u2500\u2500\u2500\u2500\u2500\u2500\u2500\u2500\u2500\u2500\u2500\u2500\u2500\u2500\u2500\u2500\u2500\u2500\u2500\u2500\u2500\u2500\u2500\u2500\u2500\u2500\u2500\u2500\u2500\u2500\u2500\u2500\u2500\u2500\u2500\u2500\u2500\u2500\u2500\u2500\u2500\u2500\u2500\u2500\u2500\u2500\u2500\u2500\u2500\u2500\u2500\u2500\u2534\u2500\u2500\u2500\u2500\u2500\u2500\u2500\u2500\u2500\u2500\u2500\u2500\u2500\u2500\u2500\u2500\u2500\u2500\u2500\u2500\u2500\u2500\u2500\u2500\u2500\u2500\u2500\u2500\u2500\u2500\u2500\u2500\u2500\u2500\u2500\u2500\u2500\u2500\u2500\u2500\u2500\u2500\u2500\u2500\u2500\u2500\u2500\u2500\u2500\u2500\u2500\u2500\u2500\u2500\u2500\u2500\u2500\u2500\u2500\u2500\u2534\u2500\u2500\u2500\u2500\u2500\u2500\u2500\u2500\u2500\u2500\u2500\u2500\u2500\u2500\u2500\u2500\u2500\u2500\u2500\u2500\u2500\u2500\u2500\u2500\u2500\u2500\u2500\u2500\u2500\u2500\u2500\u2500\u2500\u2500\u2500\u2500\u2500\u2500\u2500\u2500\u2500\u2500\u2500\u2500\u2500\u2500\u2500\u2500\u2500\u2500\u2500\u2500\u2500\u2500\u2500\u2500\u2500\u2500\u2500\u2500\u2500\u2500\u2534\u2500\u2500\u2500\u2500\u2500\u2500\u2500\u2500\u2500\u2500\u2500\u2500\u2500\u2500\u2500\u2500\u2500\u2500\u2500\u2500\u2500\u2500\u2500\u2500\u2500\u2500\u2500\u2500\u2500\u2500\u2500\u2500\u2500\u2500\u2500\u2500\u2500\u2500\u2500\u2500\u2500\u2500\u2500\u2500\u2500\u2500\u2500\u2500\u2500\u2500\u2500\u2500\u2500\u2500\u2500\u2500\u2500\u2500\u2500\u2500\u2500\u2500\u2500\u2500\u2534\u2500\u2500\u2500\u2500\u2500\u2500\u2500\u2500\u2500\u2500\u2500\u2500\u2500\u2500\u2500\u2500\u2500\u2500\u2500\u2500\u2500\u2500\u2500\u2500\u2500\u2500\u2500\u2500\u2500\u2500\u2500\u2500\u2500\u2500\u2500\u2500\u2500\u2500\u2500\u2500\u2500\u2500\u2500\u2500\u2500\u2500\u2500\u2500\u2500\u2500\u2500\u2500\u2500\u2500\u2500\u2500\u2500\u2500\u2500\u2500\u2500\u2500\u2500\u2534\u2500\u2500\u2500\u2500\u2500\u2500\u2500\u2500\u2500\u2500\u2500\u2500\u2500\u2500\u2500\u2500\u2500\u2500\u2500\u2500\u2500\u2500\u2500\u2500\u2500\u2500\u2500\u2500\u2500\u2500\u2500\u2500\u2500\u2500\u2500\u2534\u2500\u2500\u2500\u2500\u2500\u2500\u2500\u2500\u2500\u2500\u2500\u2500\u2500\u2500\u2500\u2500\u2500\u2500\u2500\u2500\u2500\u2500\u2500\u2500\u2500\u2500\u2500\u2500\u2500\u2500\u2500\u2500\u2500\u2500\u2500\u2500\u2500\u2500\u2500\u2500\u2500\u2500\u2500\u2500\u2500\u2500\u2500\u2500\u2500\u2500\u2500\u2500\u2500\u2500\u2500\u2500\u2500\u2500\u2500\u2500\u2500\u2500\u2500\u2500\u2534\u2500\u2500\u2500\u2500\u2500\u2500\u2500\u2500\u2500\u2500\u2500\u2500\u2500\u2500\u2500\u2500\u2500\u2500\u2500\u2500\u2500\u2500\u2500\u2500\u2500\u2500\u2500\u2500\u2500\u2500\u2500\u2500\u2500\u2500\u2500\u2500\u2500\u2500\u2500\u2500\u2500\u2500\u2500\u2500\u2500\u2500\u2500\u2500\u2500\u2500\u2500\u2500\u2500\u2500\u2500\u2500\u2500\u2500\u2500\u2500\u2500\u2500\u2534\u2500\u2500\u2500\u2500\u2500\u2500\u2500\u2500\u2500\u2500\u2500\u2500\u2500\u2500\u2500\u2500\u2500\u2500\u2500\u2500\u2500\u2500\u2500\u2500\u2500\u2500\u2500\u2500\u2500\u2500\u2500\u2500\u2500\u2500\u2500\u2500\u2500\u2500\u2500\u2500\u2500\u2500\u2500\u2500\u2500\u2500\u2500\u2500\u2500\u2500\u2500\u2500\u2500\u2500\u2500\u2500\u2500\u2500\u2500\u2500\u2500\u2500\u2500\u2500\u2500\u2534\u2500\u2500\u2500\u2500\u2500\u2500\u2500\u2500\u2500\u2500\u2500\u2500\u2500\u2500\u2500\u2500\u2500\u2500\u2500\u2500\u2500\u2500\u2500\u2500\u2500\u2500\u2500\u2500\u2500\u2500\u2500\u2500\u2500\u2500\u2500\u2500\u2500\u2500\u2500\u2500\u2500\u2500\u2500\u2500\u2500\u2500\u2500\u2500\u2500\u2500\u2500\u2500\u2500\u2500\u2500\u2500\u2500\u2500\u2500\u2500\u2500\u2500\u2534\u2500\u2500\u2500\u2500\u2500\u2500\u2500\u2500\u2500\u2534\u2500\u2500\u2500\u2500\u2500\u2500\u2500\u2500\u2500\u2500\u2500\u2500\u2500\u2500\u2500\u2500\u2500\u2500\u2500\u2500\u2500\u2500\u2500\u2500\u2500\u2500\u2500\u2500\u2500\u2500\u2500\u2500\u2500\u2500\u2500\u2500\u2500\u2500\u2500\u2500\u2500\u2500\u2500\u2500\u2500\u2500\u2500\u2500\u2500\u2500\u2500\u2500\u2500\u2500\u2500\u2500\u2500\u2500\u2500\u2500\u2500\u2500\u2500\u2534\u2500\u2500\u2500\u2500\u2500\u2534\u2500\u2500\u2500\u2500\u2500\u2500\u2500\u2500\u2500\u2500\u2500\u2500\u2500\u2500\u2500\u2500\u2500\u2500\u2500\u2500\u2500\u2500\u2500\u2500\u2500\u2500\u2500\u2500\u2500\u2500\u2500\u2500\u2500\u2500\u2500\u2500\u2500\u2500\u2500\u2500\u2500\u2500\u2500\u2500\u2500\u2500\u2500\u2500\u2500\u2500\u2500\u2500\u2500\u2500\u2500\u2500\u2500\u2500\u2500\u2500\u2500\u2500\u2500\u2534\u2500\u2500\u2500\u2500\u2500\u2500\u2500\u2500\u2500\u2500\u2500\u2500\u2500\u2500\u2500\u2500\u2500\u2500\u2500\u2500\u2500\u2500\u2500\u2500\u2500\u2500\u2500\u2500\u2500\u2500\u2500\u2500\u2500\u2500\u2500\u2500\u2500\u2500\u2500\u2500\u2500\u2500\u2500\u2500\u2500\u2500\u2500\u2500\u2500\u2500\u2500\u2500\u2500\u2500\u2500\u2500\u2500\u2500\u2500\u2534\u2500\u2500\u2500\u2500\u2500\u2500\u2500\u2500\u2500\u2500\u2500\u2500\u2500\u2500\u2500\u2500\u2500\u2500\u2500\u2500\u2500\u2500\u2500\u2500\u2500\u2500\u2500\u2500\u2500\u2500\u2500\u2500\u2500\u2500\u2500\u2500\u2500\u2500\u2500\u2500\u2500\u2500\u2500\u2500\u2500\u2500\u2500\u2500\u2500\u2500\u2500\u2500\u2500\u2500\u2500\u2500\u2500\u2500\u2500\u2500\u2500\u2500\u2534\u2500\u2500\u2500\u2500\u2500\u2500\u2500\u2500\u2500\u2500\u2500\u2500\u2500\u2500\u2500\u2500\u2500\u2500\u2500\u2500\u2500\u2500\u2500\u2500\u2534\u2500\u2500\u2500\u2500\u2500\u2500\u2500\u2500\u2500\u2500\u2500\u2500\u2500\u2500\u2500\u2500\u2500\u2500\u2500\u2500\u2500\u2500\u2500\u2500\u2500\u2500\u2500\u2500\u2500\u2500\u2500\u2500\u2500\u2500\u2500\u2500\u2500\u2500\u2500\u2500\u2500\u2500\u2500\u2500\u2500\u2500\u2500\u2500\u2500\u2500\u2500\u2500\u2500\u2500\u2500\u2500\u2500\u2500\u2500\u2500\u2500\u2500\u2500\u2534\u2500\u2500\u2500\u2500\u2500\u2500\u2500\u2500\u2500\u2500\u2500\u2500\u2500\u2500\u2500\u2500\u2500\u2500\u2500\u2500\u2500\u2500\u2500\u2500\u2500\u2500\u2500\u2500\u2500\u2500\u2500\u2500\u2500\u2500\u2500\u2500\u2500\u2500\u2500\u2500\u2500\u2500\u2500\u2500\u2500\u2500\u2500\u2500\u2500\u2500\u2500\u2500\u2500\u2500\u2500\u2500\u2500\u2500\u2500\u2500\u2500\u2500\u2500\u2534\u2500\u2500\u2500\u2500\u2500\u2500\u2500\u2500\u2500\u2500\u2500\u2500\u2500\u2500\u2500\u2500\u2500\u2500\u2500\u2500\u2500\u2500\u2500\u2500\u2500\u2500\u2500\u2500\u2500\u2500\u2500\u2500\u2500\u2500\u2500\u2500\u2500\u2500\u2500\u2500\u2500\u2500\u2500\u2500\u2500\u2500\u2500\u2500\u2500\u2500\u2500\u2500\u2500\u2500\u2500\u2500\u2500\u2500\u2500\u2500\u2500\u2534\u2500\u2500\u2500\u2500\u2500\u2500\u2500\u2500\u2500\u2500\u2500\u2500\u2500\u2500\u2500\u2500\u2500\u2500\u2500\u2500\u2500\u2500\u2500\u2500\u2500\u2500\u2500\u2500\u2500\u2500\u2500\u2500\u2500\u2500\u2500\u2500\u2500\u2500\u2500\u2500\u2500\u2500\u2500\u2500\u2500\u2500\u2500\u2500\u2500\u2500\u2500\u2500\u2500\u2500\u2500\u2500\u2500\u2500\u2500\u2500\u2500\u2500\u2500\u2500\u2534\u2500\u2500\u2500\u2500\u2500\u2500\u2500\u2500\u2500\u2500\u2500\u2500\u2500\u2500\u2500\u2500\u2500\u2500\u2500\u2500\u2500\u2500\u2500\u2500\u2500\u2500\u2500\u2500\u2500\u2500\u2500\u2500\u2500\u2500\u2500\u2500\u2500\u2500\u2500\u2500\u2500\u2500\u2500\u2500\u2500\u2500\u2500\u2500\u2500\u2500\u2500\u2500\u2500\u2500\u2500\u2500\u2500\u2500\u2500\u2500\u2500\u2500\u2500\u2500\u2500\u2534\u2500\u2500\u2500\u2500\u2500\u2500\u2500\u2500\u2500\u2500\u2500\u2500\u2500\u2500\u2500\u2500\u2500\u2500\u2500\u2500\u2500\u2500\u2500\u2500\u2500\u2500\u2500\u2500\u2500\u2500\u2500\u2500\u2500\u2500\u2500\u2500\u2500\u2500\u2500\u2500\u2500\u2500\u2500\u2500\u2500\u2500\u2500\u2500\u2500\u2500\u2500\u2500\u2500\u2500\u2500\u2500\u2500\u2500\u2500\u2500\u2500\u2500\u2500\u2500\u2500\u2534\u2500\u2500\u2500\u2500\u2500\u2500\u2500\u2500\u2500\u2500\u2500\u2500\u2500\u2500\u2500\u2500\u2500\u2500\u2500\u2500\u2500\u2500\u2534\u2500\u2500\u2500\u2500\u2500\u2500\u2500\u2500\u2500\u2500\u2500\u2500\u2500\u2500\u2500\u2500\u2500\u2500\u2500\u2500\u2500\u2500\u2500\u2500\u2500\u2500\u2500\u2500\u2500\u2500\u2500\u2500\u2500\u2500\u2500\u2500\u2500\u2500\u2500\u2500\u2500\u2500\u2500\u2500\u2500\u2500\u2500\u2500\u2500\u2500\u2500\u2500\u2500\u2500\u2500\u2500\u2500\u2500\u2500\u2500\u2500\u2500\u2500\u2500\u2500\u2500\u2534\u2500\u2500\u2500\u2500\u2500\u2500\u2500\u2500\u2500\u2500\u2500\u2500\u2500\u2500\u2500\u2500\u2500\u2500\u2500\u2500\u2500\u2500\u2500\u2500\u2500\u2500\u2500\u2500\u2500\u2500\u2500\u2500\u2500\u2500\u2500\u2500\u2500\u2500\u2500\u2500\u2500\u2500\u2500\u2500\u2500\u2500\u2500\u2500\u2500\u2500\u2500\u2500\u2500\u2500\u2500\u2534\u2500\u2500\u2500\u2500\u2500\u2500\u2500\u2500\u2500\u2500\u2500\u2500\u2500\u2500\u2500\u2500\u2500\u2500\u2500\u2500\u2500\u2500\u2500\u2500\u2500\u2500\u2500\u2500\u2500\u2500\u2500\u2500\u2500\u2500\u2500\u2500\u2500\u2500\u2500\u2500\u2500\u2500\u2500\u2500\u2500\u2500\u2500\u2500\u2500\u2500\u2500\u2500\u2500\u2500\u2500\u2500\u2500\u2500\u2500\u2500\u2500\u2500\u2500\u2500\u2500\u2500\u2534\u2500\u2500\u2500\u2500\u2500\u2500\u2500\u2500\u2500\u2500\u2500\u2500\u2500\u2500\u2500\u2500\u2500\u2500\u2500\u2500\u2500\u2500\u2500\u2500\u2500\u2500\u2500\u2500\u2500\u2500\u2500\u2500\u2500\u2500\u2500\u2500\u2500\u2500\u2500\u2500\u2500\u2500\u2500\u2500\u2500\u2500\u2500\u2500\u2500\u2500\u2500\u2500\u2500\u2500\u2500\u2500\u2500\u2500\u2534\u2500\u2500\u2500\u2500\u2500\u2500\u2500\u2500\u2500\u2500\u2500\u2500\u2500\u2500\u2500\u2500\u2500\u2500\u2500\u2500\u2500\u2500\u2500\u2500\u2500\u2500\u2500\u2500\u2500\u2500\u2500\u2500\u2500\u2500\u2500\u2500\u2500\u2500\u2500\u2500\u2500\u2500\u2500\u2500\u2500\u2500\u2500\u2500\u2500\u2500\u2500\u2500\u2500\u2500\u2500\u2500\u2500\u2500\u2534\u2500\u2500\u2500\u2500\u2500\u2500\u2500\u2500\u2500\u2500\u2500\u2500\u2500\u2500\u2500\u2500\u2500\u2500\u2534\u2500\u2500\u2500\u2500\u2500\u2500\u2500\u2500\u2500\u2500\u2500\u2500\u2500\u2500\u2500\u2500\u2500\u2500\u2500\u2500\u2500\u2500\u2500\u2500\u2500\u2500\u2500\u2500\u2500\u2500\u2500\u2500\u2500\u2500\u2500\u2500\u2500\u2500\u2500\u2500\u2500\u2500\u2500\u2500\u2500\u2500\u2500\u2500\u2534\u2500\u2500\u2500\u2500\u2500\u2500\u2500\u2500\u2500\u2500\u2500\u2500\u2500\u2500\u2500\u2500\u2500\u2500\u2500\u2500\u2500\u2500\u2500\u2500\u2500\u2500\u2500\u2500\u2500\u2500\u2500\u2500\u2500\u2500\u2500\u2500\u2500\u2500\u2500\u2500\u2500\u2500\u2500\u2500\u2500\u2500\u2500\u2500\u2500\u2500\u2500\u2534\u2500\u2500\u2500\u2500\u2500\u2500\u2500\u2500\u2500\u2500\u2500\u2500\u2500\u2500\u2500\u2500\u2500\u2500\u2500\u2500\u2500\u2500\u2500\u2500\u2500\u2500\u2500\u2500\u2500\u2500\u2500\u2500\u2500\u2500\u2500\u2500\u2500\u2500\u2500\u2500\u2500\u2500\u2500\u2500\u2500\u2500\u2500\u2500\u2500\u2500\u2500\u2500\u2500\u2500\u2500\u2500\u2500\u2500\u2500\u2500\u2500\u2500\u2500\u2500\u2500\u2500\u2534\u2500\u2500\u2500\u2500\u2500\u2500\u2500\u2500\u2500\u2500\u2500\u2500\u2500\u2500\u2500\u2500\u2500\u2500\u2500\u2500\u2500\u2500\u2500\u2500\u2500\u2500\u2500\u2500\u2500\u2500\u2500\u2500\u2500\u2500\u2500\u2500\u2500\u2534\u2500\u2500\u2500\u2500\u2500\u2500\u2500\u2500\u2500\u2500\u2500\u2500\u2500\u2500\u2500\u2500\u2500\u2500\u2500\u2500\u2500\u2500\u2500\u2500\u2500\u2500\u2500\u2500\u2500\u2500\u2500\u2500\u2500\u2500\u2500\u2500\u2500\u2500\u2500\u2500\u2500\u2500\u2500\u2500\u2500\u2500\u2500\u2500\u2500\u2500\u2500\u2500\u2500\u2500\u2500\u2500\u2500\u2500\u2500\u2500\u2500\u2500\u2500\u2500\u2500\u2534\u2500\u2500\u2500\u2500\u2500\u2500\u2500\u2500\u2500\u2500\u2500\u2500\u2500\u2500\u2500\u2500\u2500\u2500\u2500\u2500\u2500\u2500\u2500\u2500\u2500\u2500\u2500\u2500\u2500\u2500\u2500\u2500\u2500\u2500\u2500\u2500\u2500\u2500\u2500\u2500\u2500\u2500\u2500\u2500\u2500\u2500\u2500\u2500\u2500\u2500\u2500\u2500\u2500\u2500\u2500\u2500\u2500\u2500\u2500\u2500\u2500\u2500\u2534\u2500\u2500\u2500\u2500\u2500\u2500\u2500\u2500\u2500\u2500\u2500\u2500\u2500\u2500\u2500\u2500\u2500\u2500\u2500\u2500\u2500\u2500\u2500\u2500\u2500\u2500\u2500\u2500\u2500\u2500\u2500\u2500\u2500\u2500\u2500\u2500\u2500\u2500\u2500\u2500\u2500\u2500\u2500\u2500\u2500\u2500\u2500\u2500\u2500\u2500\u2500\u2500\u2500\u2500\u2500\u2500\u2500\u2500\u2500\u2500\u2500\u2500\u2500\u2534\u2500\u2500\u2500\u2500\u2500\u2500\u2500\u2500\u2500\u2500\u2500\u2500\u2500\u2500\u2500\u2500\u2500\u2500\u2500\u2500\u2500\u2500\u2500\u2500\u2500\u2500\u2500\u2500\u2500\u2500\u2500\u2500\u2500\u2500\u2500\u2500\u2500\u2500\u2500\u2500\u2500\u2500\u2500\u2500\u2500\u2500\u2500\u2500\u2500\u2500\u2500\u2500\u2500\u2500\u2500\u2500\u2500\u2500\u2500\u2500\u2500\u2500\u2500\u2500\u2500\u2534\u2500\u2500\u2500\u2500\u2500\u2500\u2500\u2500\u2500\u2500\u2500\u2500\u2500\u2500\u2500\u2500\u2500\u2500\u2500\u2500\u2500\u2500\u2500\u2500\u2500\u2500\u2500\u2500\u2500\u2500\u2500\u2500\u2500\u2500\u2500\u2500\u2500\u2500\u2500\u2500\u2500\u2500\u2500\u2500\u2500\u2500\u2500\u2500\u2500\u2500\u2500\u2500\u2500\u2500\u2500\u2500\u2500\u2500\u2500\u2500\u2500\u2500\u2500\u2500\u2500\u2500\u2500\u2500\u2534\u2500\u2500\u2500\u2500\u2500\u2500\u2500\u2500\u2500\u2500\u2500\u2500\u2500\u2500\u2500\u2500\u2500\u2500\u2500\u2500\u2500\u2500\u2500\u2500\u2500\u2500\u2500\u2500\u2500\u2500\u2500\u2500\u2500\u2500\u2500\u2500\u2500\u2500\u2500\u2500\u2500\u2500\u2500\u2500\u2500\u2500\u2500\u2500\u2500\u2500\u2500\u2500\u2500\u2500\u2500\u2500\u2500\u2500\u2500\u2500\u2500\u2500\u2500\u2500\u2500\u2500\u2500\u2500\u2500\u2500\u2500\u2500\u2534\u2500\u2500\u2500\u2500\u2500\u2500\u2500\u2500\u2500\u2500\u2500\u2500\u2500\u2500\u2500\u2500\u2500\u2500\u2500\u2500\u2500\u2500\u2500\u2500\u2500\u2500\u2500\u2500\u2500\u2534\u2500\u2500\u2500\u2500\u2500\u2500\u2500\u2500\u2500\u2500\u2500\u2500\u2500\u2500\u2500\u2500\u2500\u2500\u2500\u2500\u2500\u2500\u2500\u2500\u2500\u2500\u2500\u2500\u2534\u2518\n",
              "</span>"
            ]
          },
          "execution_count": 65,
          "metadata": {},
          "output_type": "execute_result"
        }
      ],
      "source": [
        "\u2395\u2190 dreamLines \u2190 ReadAllLines FILEPATH,'mlk.txt'"
      ]
    },
    {
      "cell_type": "markdown",
      "metadata": {},
      "source": [
        " 3. `PutText` writes a character matrix (or vector) to a file. If a file with the same name already exists, it is replaced by the new file. The function returns the number of characters written to the file. The syntax is `number \u2190 textMatrix PutText path,fileID`:"
      ]
    },
    {
      "cell_type": "code",
      "execution_count": 30,
      "metadata": {},
      "outputs": [
        {
          "data": {
            "text/html": [
              "<span style=\"white-space:pre; font-family: monospace\">17\n",
              "</span>"
            ]
          },
          "execution_count": 30,
          "metadata": {},
          "output_type": "execute_result"
        }
      ],
      "source": [
        "\u2395\u2190 number \u2190 chemistry PutText FILEPATH,'chemistry.txt'"
      ]
    },
    {
      "cell_type": "markdown",
      "metadata": {},
      "source": [
        "The workspace `loaddata.dws`, distributed as part of the Dyalog APL system, contains a set of professional grade functions to read from and write to text files, Excel workbooks, SQL databases and XML files.\n",
        "`loaddata.dws` contains two functions `LoadText` and `SaveText` to complement the set of functions described above. `LoadText` and `SaveText` are designed to work with comma separated files (.CSV files) and fixed field width text files.\n",
        "\n",
        "We have only used text files. Dyalog APL also includes an advanced file system designed to work very easily and efficiently with APL arrays, as well as a generalised interface to SQL databases. The APL file system is described in [its own chapter](./File-Processing.ipynb). The SQL interface is not described in this tutorial; please refer instead to the specialised brochures available [here](http://docs.dyalog.com/latest/)."
      ]
    },
    {
      "cell_type": "markdown",
      "metadata": {},
      "source": [
        "(User-Defined-Functions-Printing-Results-on-a-Printer)=\n",
        "### Printing Results on a Printer\n",
        "\n",
        "Printing your APL objects on paper should be avoided whenever possible, to help preserve the environment. If you really must print things to paper, there are a couple of alternatives you can consider.\n",
        "\n",
        "Perhaps the simplest alternative is to generate a PDF with what you wish to print, and then print the PDF you generated.\n",
        "\n",
        "If you are using the Windows Interpreter, you can easily print the contents of your workspace by going to \"File\" &#8680; \"Print...\". From there, you can leave the defaults untouched and select a printer on the \"Printer\" tab. If you have a printer set up, you can choose it from the list of available printers. Otherwise, you can print to a PDF file. Please notice that the contents of the workspace that get printed are all of the named objects you have: variables, functions, operators, etc. If you just type `3 + 3` in the interpreter and execute it, that does not get printed with this method \u2013 to print the log you need to go to \"Log\" &#8680; \"Print...\".\n",
        "\n",
        "If you are not in the Windows interpreter or do not wish to print all of the contents of your workspace, you can use a different approach. For that, we have to use some functionalities of APL that you haven't seen before. Explaining these in depth is outside the scope of this chapter, but we will give an overview of how it works.\n",
        "\n",
        "Here is how I would print a character vector `v` to a PDF file to be saved in my Desktop, with the name `'test.pdf'`:"
      ]
    },
    {
      "cell_type": "code",
      "execution_count": 14,
      "metadata": {},
      "outputs": [],
      "source": [
        "v \u2190 'This is just a character vector.'\n",
        "path \u2190 'C:/users/rodri/Desktop/test.pdf'"
      ]
    },
    {
      "cell_type": "code",
      "execution_count": 15,
      "metadata": {},
      "outputs": [],
      "source": [
        "r \u2190 \u2395NEW 'HTMLRenderer' (('HTML' v)('Visible' 0))"
      ]
    },
    {
      "cell_type": "code",
      "execution_count": 16,
      "metadata": {},
      "outputs": [
        {
          "data": {
            "text/html": [
              "<span style=\"white-space:pre; font-family: monospace\">1\n",
              "</span>"
            ]
          },
          "execution_count": 16,
          "metadata": {},
          "output_type": "execute_result"
        }
      ],
      "source": [
        "r.PrintToPDF path"
      ]
    },
    {
      "cell_type": "code",
      "execution_count": 17,
      "metadata": {},
      "outputs": [],
      "source": [
        ")erase r"
      ]
    },
    {
      "cell_type": "markdown",
      "metadata": {},
      "source": [
        "What this is doing is creating a new (`\u2395NEW`) object named `HTMLRenderer` that knows how to render, you guessed it, HTML. ([HTML](https://en.wikipedia.org/wiki/HTML) is the markup language in which websites are written.) We then give it the character vector and ask for the window to remain invisible, with `('Visible' 0)`. If we had written `('Visible' 1)`, a window like the one in the figure {numref}`fig-Example_HTMLRenderer` would pop up:\n",
        "\n",
        "(fig-Example_HTMLRenderer)=\n",
        "```{figure} res/Example_HTMLRenderer.png\n",
        "---\n",
        "name: Example_HTMLRenderer\n",
        "---\n",
        "An HTMLRenderer object with a sentence.\n",
        "```\n",
        "\n",
        "After the character vector is rendered, we print the contents of the window to the path specified and then we erase the temporary variable.\n",
        "\n",
        "Printing an arbitrary array is slightly more involved, because we have to convert said arbitrary array to a suitable character *vector* first. Sadly, `\u2355` may not do the job because `\u2355` applied to high-rank arrays still yields high-rank arrays. In order to overcome this obstacle, we need to find a way of transforming arbitrary arrays into character vectors.\n",
        "\n",
        "For this end, we will be using the format function `\u2355` we learned about before and the system function `\u2395UCS`, that was used above in the exercise where you framed a character matrix.\n",
        "What we will do is use `\u2355` to convert any array into a character matrix, then to the right of the matrix catenate the newline character (that we can produce with `\u2395UCS 10`) and then ravel everything so that we have a character vector instead of a character matrix.\n",
        "Finally, we wrap that character vector in a little bit of HTML code, so that the array displays nicely."
      ]
    },
    {
      "cell_type": "code",
      "execution_count": 18,
      "metadata": {},
      "outputs": [],
      "source": [
        "Process \u2190 {matrix \u2190 \u2355\u2375 \u22c4 vector \u2190 ,matrix,\u2395UCS 10 \u22c4 '<pre>',vector,'</pre>'}"
      ]
    },
    {
      "cell_type": "markdown",
      "metadata": {},
      "source": [
        "This `Process` dfn takes an array and creates a character vector that looks pretty much like the original, apart from the heading and trailing HTML code:"
      ]
    },
    {
      "cell_type": "code",
      "execution_count": 31,
      "metadata": {},
      "outputs": [
        {
          "data": {
            "text/html": [
              "<span style=\"white-space:pre; font-family: monospace\"> 1  2  3  4  5  6\n",
              " 7  8  9 10 11 12\n",
              "13 14 15 16 17 18\n",
              "19 20 21 22 23 24\n",
              "25 26 27 28 29 30\n",
              "</span>"
            ]
          },
          "execution_count": 31,
          "metadata": {},
          "output_type": "execute_result"
        }
      ],
      "source": [
        "\u2395\u2190 array \u2190 5 6\u2374\u237330"
      ]
    },
    {
      "cell_type": "code",
      "execution_count": 32,
      "metadata": {},
      "outputs": [
        {
          "data": {
            "text/html": [
              "<span style=\"white-space:pre; font-family: monospace\">&lt;pre&gt; 1  2  3  4  5  6\n",
              " 7  8  9 10 11 12     \n",
              "13 14 15 16 17 18     \n",
              "19 20 21 22 23 24     \n",
              "25 26 27 28 29 30     \n",
              "&lt;/pre&gt;                \n",
              "</span>"
            ]
          },
          "execution_count": 32,
          "metadata": {},
          "output_type": "execute_result"
        }
      ],
      "source": [
        "\u2395\u2190 v \u2190 Process array"
      ]
    },
    {
      "cell_type": "code",
      "execution_count": 33,
      "metadata": {},
      "outputs": [
        {
          "data": {
            "text/html": [
              "<span style=\"white-space:pre; font-family: monospace\">101\n",
              "</span>"
            ]
          },
          "execution_count": 33,
          "metadata": {},
          "output_type": "execute_result"
        }
      ],
      "source": [
        "\u2374v"
      ]
    },
    {
      "cell_type": "markdown",
      "metadata": {},
      "source": [
        "Now we can print this character vector, representing our array, to a PDF:"
      ]
    },
    {
      "cell_type": "code",
      "execution_count": 36,
      "metadata": {},
      "outputs": [],
      "source": [
        "r \u2190 \u2395NEW 'HTMLRenderer' (('HTML' (Process array))('Visible' 0))"
      ]
    },
    {
      "cell_type": "code",
      "execution_count": 37,
      "metadata": {},
      "outputs": [
        {
          "data": {
            "text/html": [
              "<span style=\"white-space:pre; font-family: monospace\">1\n",
              "</span>"
            ]
          },
          "execution_count": 37,
          "metadata": {},
          "output_type": "execute_result"
        }
      ],
      "source": [
        "r.PrintToPDF path"
      ]
    },
    {
      "cell_type": "code",
      "execution_count": 38,
      "metadata": {},
      "outputs": [],
      "source": [
        ")erase r"
      ]
    },
    {
      "cell_type": "markdown",
      "metadata": {},
      "source": [
        "This creates a PDF file that looks like the one in {numref}`fig-Printed_TestPDF`. We can see `array` was properly formatted on the top left corner:\n",
        "\n",
        "(fig-Printed_TestPDF)=\n",
        "```{figure} res/Printed_TestPDF.png\n",
        "---\n",
        "name: Printed_TestPDF\n",
        "---\n",
        "`array` was printed to a PDF.\n",
        "```\n"
      ]
    },
    {
      "cell_type": "markdown",
      "metadata": {},
      "source": [
        "Lastly, if you want to print a function `Func`, you can use the `Process` dfn on the *vector representation* `\u2395VR` of `Func`."
      ]
    },
    {
      "cell_type": "markdown",
      "metadata": {},
      "source": [
        "(User-Defined-Functions-Using-a-Graphical-User-Interface)=\n",
        "### Using a Graphical User Interface\n",
        "\n",
        "We shall see in [a later chapter](./Graphical-User-Interface.ipynb) how easy it can be to create graphical user interfaces (GUIs) which allow both input and output of information.\n",
        "\n",
        "In the figure {numref}`fig-Example_GUI` we can see a basic GUI for a calculator. The user can press buttons to type in numbers (give **input** to the application) and to perform arithmetic operations on those numbers. After the results are calculated, they are shown in the white boxes at the top of the application (the application gives **output** to the user).\n",
        "\n",
        "(fig-Example_GUI)=\n",
        "```{figure} res/Example_GUI.png\n",
        "---\n",
        "name: Example_GUI\n",
        "---\n",
        "A basic calculator written in APL.\n",
        "```\n"
      ]
    },
    {
      "cell_type": "markdown",
      "metadata": {},
      "source": [
        "(User-Defined-Functions-Requesting-Values-From-the-Keyboard)=\n",
        "### Requesting Values From the Keyboard\n",
        "\n",
        "Here again, if the user of an application is required to enter some input data, this is often done via some user-friendly GUI interface like the previous one or from a web page. However, during the development phase or for a light application it may be simpler to use a very basic question/answer mode.\n",
        "\n",
        "Two symbols are used to request input from the user:\n",
        "\n",
        " - ***Quad*** (`\u2395`) is used to enter one or more numbers; and\n",
        " - ***Quote-Quad*** (`\u235e`, typed with <kbd>APL</kbd>+<kbd>Shift</kbd>+<kbd>[</kbd>) is used to enter any string of characters.\n",
        "\n",
        "(User-Defined-Functions-Quad-Evaluated-Input)=\n",
        "#### Quad Evaluated Input\n",
        "\n",
        "The first method is no longer in common use, but can be useful when prototyping an application which needs to request input. Also, you can easily accidentally type `\u2395` in the session and activate Quad evaluated input, so it is worth studying it briefly.\n",
        "\n",
        "***Quad*** causes a pause in the execution of a function and allows the user to type any kind of expression. That expression is *evaluated* like any APL expression entered in the session, and its *result* is the result of the ***Quad*** function:\n",
        "\n",
        " - when a function executes a *Quad*, it displays `\u2395:` at the left margin of the screen to inform the user that he or she is expected to enter one or more values; and\n",
        "\n",
        " - if any error occurs during evaluation, the input *Quad* is displayed over and over again, until the user succeeds in entering a valid expression.\n",
        " \n",
        "In the following example, a function is supposed to count how many items of its right argument there are between two limits. These limits could be passed via a left argument, but in this case we choose to ask the user to enter them during execution of the function:"
      ]
    },
    {
      "cell_type": "code",
      "execution_count": 43,
      "metadata": {},
      "outputs": [],
      "source": [
        "\u2207 Prompt1 vector; lim1; lim2; nb\n",
        "    'What are the limits?'\n",
        "    (lim1 lim2) \u2190 \u2395\n",
        "    nb \u2190 +/(vector>lim1)\u2227(vector<lim2)\n",
        "    (\u2355nb),' values are comprised between ',(\u2355lim1),' and ',\u2355lim2\n",
        "\u2207"
      ]
    },
    {
      "cell_type": "markdown",
      "metadata": {},
      "source": [
        "As of the time of writing, Jupyter notebooks do not support input through `\u2395` (nor through `\u235e`). We do encourage *you* to try these examples out for yourself somewhere other than the Jupyter Notebook interface.\n",
        "\n",
        "```APL\n",
        "    Prompt1 salaries\n",
        "What are the limits?\n",
        "\u2395:\n",
        "    1000 2000\n",
        "4 values are comprised between 1000 and 2000\n",
        "```"
      ]
    },
    {
      "cell_type": "markdown",
      "metadata": {},
      "source": [
        "You can use this `salaries` variable:"
      ]
    },
    {
      "cell_type": "code",
      "execution_count": 44,
      "metadata": {},
      "outputs": [
        {
          "data": {
            "text/html": [
              "<span style=\"white-space:pre; font-family: monospace\">2121 4778 4914 3139 4561 221 1252 1530 4475 332 3507 1829 1710 4964 3849 669 3653 3415 3867 151\n",
              "</span>"
            ]
          },
          "execution_count": 44,
          "metadata": {},
          "output_type": "execute_result"
        }
      ],
      "source": [
        "\u2395RL \u2190 73\n",
        "\u2395\u2190 salaries \u2190 ?20\u23745000"
      ]
    },
    {
      "cell_type": "markdown",
      "metadata": {},
      "source": [
        "Let us make an error while executing the function again:\n",
        "\n",
        "```APL\n",
        "      Prompt1 salaries\n",
        "What are the limits?\n",
        "\u2395:\n",
        "      mylims\n",
        "VALUE ERROR: Undefined name: mylims\n",
        "      mylims\n",
        "      \u2227\n",
        "\u2395:\n",
        "      \u230a0.5+0.9 1.1\u00d7Average salaries    \n",
        "0 values are comprised between 2472 and 3022\n",
        "```\n",
        "\n",
        "Notice that we tried to answer with a variable name but that variable does not exist. An error message is issued, which is not very user-friendly! Then the user is automatically requested again to provide a value.\n",
        "\n",
        "Then we provide a valid value with an expression that makes use of a variable, a defined function and some primitives. The expression evaluates to `2472 3022` and those are the limits used.\n",
        "\n",
        "<!--begin hint-->\n",
        "***Hint***:\n",
        "\n",
        " > If you accidentally start evaluated input in the session, type a `\u2192` and then press enter, or type <kbd>Space</kbd> and then hit <kbd>Enter</kbd> to interrupt the input loop.\n",
        "<!--end-->"
      ]
    },
    {
      "cell_type": "markdown",
      "metadata": {},
      "source": [
        "(User-Defined-Functions-Quote-Quad-Character-Input)=\n",
        "#### Quote-Quad Character Input\n",
        "\n",
        "***Quote-Quad*** allows the user to enter a string of characters. That string is returned as the result of the ***Quote-Quad*** function.\n",
        "\n",
        "If the user types nothing and just presses the <kbd>Enter</kbd> key, the returned value is an empty text vector."
      ]
    },
    {
      "cell_type": "code",
      "execution_count": 45,
      "metadata": {},
      "outputs": [],
      "source": [
        "\u2207 Prompt2; tex\n",
        "    'Type any string of characters'\n",
        "    tex \u2190 \u235e\n",
        "    '\"',tex,'\" is a vector of length ',\u2355\u2262tex\n",
        "\u2207"
      ]
    },
    {
      "cell_type": "markdown",
      "metadata": {},
      "source": [
        "```APL\n",
        "     Prompt2\n",
        "Type any string of characters\n",
        "Are you serious?\n",
        "\"Are you serious?\" is a vector of length 16\n",
        "```\n",
        "\n",
        "You can see that the *Quote-Quad* does not display any prompt sign.\n",
        "\n",
        "<!--begin advice-->\n",
        "***Advice***:\n",
        "\n",
        " > Avoid using *Quad* evaluated input, as users can inadvertently (or intentionally) interfere with your own function variables.\n",
        " >\n",
        " > *Quote-Quad* remains useful for quick tests, the development of light interactive functions or scripting applications which work with redirected I/O.\n",
        "<!--end-->"
      ]
    },
    {
      "cell_type": "markdown",
      "metadata": {},
      "source": [
        "(User-Defined-Functions-Fetching-Data-From-the-Web)=\n",
        "### Fetching Data From the Web\n",
        "\n",
        "\"Fetching Data From the Web\" might mean several different things. It might mean to find, download and fix some APL code, it might be to download some data files or it might be to scrape websites for information. Different tools exist to cater to different needs.\n",
        "\n",
        "The most basic way of fetching data from the web involves taking a URL and asking for the data that a browser would get if you typed that URL into the address bar.\n",
        "\n",
        "As an example, consider Dyalog's URL:"
      ]
    },
    {
      "cell_type": "code",
      "execution_count": 46,
      "metadata": {},
      "outputs": [],
      "source": [
        "URL \u2190 'https://dyalog.com'"
      ]
    },
    {
      "cell_type": "markdown",
      "metadata": {},
      "source": [
        "In order to fetch the data from that URL, we first need to load the `HttpCommand` namespace:"
      ]
    },
    {
      "cell_type": "code",
      "execution_count": 47,
      "metadata": {},
      "outputs": [
        {
          "data": {
            "text/html": [
              "<span style=\"white-space:pre; font-family: monospace\">#.HttpCommand\n",
              "</span>"
            ]
          },
          "execution_count": 47,
          "metadata": {},
          "output_type": "execute_result"
        }
      ],
      "source": [
        "]load HttpCommand    \u235d We use ] instead of ) here."
      ]
    },
    {
      "cell_type": "markdown",
      "metadata": {},
      "source": [
        "Now we can simply type"
      ]
    },
    {
      "cell_type": "code",
      "execution_count": 48,
      "metadata": {},
      "outputs": [],
      "source": [
        "data \u2190 HttpCommand.Get URL"
      ]
    },
    {
      "cell_type": "markdown",
      "metadata": {},
      "source": [
        "to fetch the data from the Internet. We can inspect the result:"
      ]
    },
    {
      "cell_type": "code",
      "execution_count": 49,
      "metadata": {},
      "outputs": [
        {
          "data": {
            "text/html": [
              "<span style=\"white-space:pre; font-family: monospace\">[rc: 0 | msg: \"\" | HTTP Status: 200 \"OK\" | \u2374Data: 20419]\n",
              "</span>"
            ]
          },
          "execution_count": 49,
          "metadata": {},
          "output_type": "execute_result"
        }
      ],
      "source": [
        "data"
      ]
    },
    {
      "cell_type": "markdown",
      "metadata": {},
      "source": [
        "`data` is an object that contains all the information that we received when we requested the URL above. Usually, one is interested in the `data.Data`. For example, with a couple of lines of APL we can find links to all problem statements of the previous [APL Problem Solving competitions](https://www.dyalog.com/student-competition.htm):"
      ]
    },
    {
      "cell_type": "code",
      "execution_count": 50,
      "metadata": {},
      "outputs": [
        {
          "data": {
            "text/html": [
              "<span style=\"white-space:pre; font-family: monospace\">\u250c\u2500\u2500\u2500\u2500\u2500\u2500\u2500\u2500\u2500\u2500\u2500\u2500\u2500\u2500\u2500\u2500\u2500\u2500\u2500\u2500\u2500\u2500\u2500\u2500\u2500\u2500\u2500\u2500\u2500\u2500\u2500\u2500\u2500\u2500\u2500\u2500\u2500\u2500\u2500\u2500\u2500\u2500\u2500\u2500\u2500\u2500\u2500\u2500\u2500\u2500\u2500\u2500\u2500\u2500\u2500\u2500\u2500\u2500\u2500\u2500\u2500\u2500\u2500\u2500\u2500\u2500\u2500\u2500\u2500\u2500\u2500\u2500\u2500\u2500\u2500\u2500\u2500\u2500\u2500\u2500\u2500\u252c\u2500\u2500\u2500\u2500\u2500\u2500\u2500\u2500\u2500\u2500\u2500\u2500\u2500\u2500\u2500\u2500\u2500\u2500\u2500\u2500\u2500\u2500\u2500\u2500\u2500\u2500\u2500\u2500\u2500\u2500\u2500\u2500\u2500\u2500\u2500\u2500\u2500\u2500\u2500\u2500\u2500\u2500\u2500\u2500\u2500\u2500\u2500\u2500\u2500\u2500\u2500\u2500\u2500\u2500\u2500\u2500\u2500\u2500\u2500\u2500\u2500\u2500\u2500\u2500\u2500\u2500\u2500\u2500\u2500\u2500\u2500\u2500\u2500\u2500\u2500\u2500\u2500\u2500\u2500\u2500\u2500\u252c\u2500\u2500\u2500\u2500\u2500\u2500\u2500\u2500\u2500\u2500\u2500\u2500\u2500\u2500\u2500\u2500\u2500\u2500\u2500\u2500\u2500\u2500\u2500\u2500\u2500\u2500\u2500\u2500\u2500\u2500\u2500\u2500\u2500\u2500\u2500\u2500\u2500\u2500\u2500\u2500\u2500\u2500\u2500\u2500\u2500\u2500\u2500\u2500\u2500\u2500\u2500\u2500\u2500\u2500\u2500\u2500\u2500\u2500\u2500\u2500\u2500\u2500\u2500\u2500\u2500\u2500\u2500\u2500\u2500\u2500\u2500\u2500\u2500\u2500\u2500\u2500\u2500\u2500\u2500\u2500\u2500\u252c\u2500\u2500\u2500\u2500\u2500\u2500\u2500\u2500\u2500\u2500\u2500\u2500\u2500\u2500\u2500\u2500\u2500\u2500\u2500\u2500\u2500\u2500\u2500\u2500\u2500\u2500\u2500\u2500\u2500\u2500\u2500\u2500\u2500\u2500\u2500\u2500\u2500\u2500\u2500\u2500\u2500\u2500\u2500\u2500\u2500\u2500\u2500\u2500\u2500\u2500\u2500\u2500\u2500\u2500\u2500\u2500\u2500\u2500\u2500\u2500\u2500\u2500\u2500\u2500\u2500\u2500\u2500\u2500\u2500\u2500\u2500\u2500\u2500\u2500\u2500\u2500\u2500\u2500\u2500\u2500\u2500\u252c\u2500\u2500\u2500\u2500\u2500\u2500\u2500\u2500\u2500\u2500\u2500\u2500\u2500\u2500\u2500\u2500\u2500\u2500\u2500\u2500\u2500\u2500\u2500\u2500\u2500\u2500\u2500\u2500\u2500\u2500\u2500\u2500\u2500\u2500\u2500\u2500\u2500\u2500\u2500\u2500\u2500\u2500\u2500\u2500\u2500\u2500\u2500\u2500\u2500\u2500\u2500\u2500\u2500\u2500\u2500\u2500\u2500\u2500\u2500\u2500\u2500\u2500\u2500\u2500\u2500\u2500\u2500\u2500\u2500\u2500\u2500\u2500\u2500\u2500\u2500\u2500\u2500\u2500\u2500\u2500\u2500\u252c\u2500\u2500\u2500\u2500\u2500\u2500\u2500\u2500\u2500\u2500\u2500\u2500\u2500\u2500\u2500\u2500\u2500\u2500\u2500\u2500\u2500\u2500\u2500\u2500\u2500\u2500\u2500\u2500\u2500\u2500\u2500\u2500\u2500\u2500\u2500\u2500\u2500\u2500\u2500\u2500\u2500\u2500\u2500\u2500\u2500\u2500\u2500\u2500\u2500\u2500\u2500\u2500\u2500\u2500\u2500\u2500\u2500\u2500\u2500\u2500\u2500\u2500\u2500\u2500\u2500\u2500\u2500\u2500\u2500\u2500\u2500\u2500\u2500\u2500\u2500\u2500\u2500\u2500\u2500\u2500\u2500\u252c\u2500\u2500\u2500\u2500\u2500\u2500\u2500\u2500\u2500\u2500\u2500\u2500\u2500\u2500\u2500\u2500\u2500\u2500\u2500\u2500\u2500\u2500\u2500\u2500\u2500\u2500\u2500\u2500\u2500\u2500\u2500\u2500\u2500\u2500\u2500\u2500\u2500\u2500\u2500\u2500\u2500\u2500\u2500\u2500\u2500\u2500\u2500\u2500\u2500\u2500\u2500\u2500\u2500\u2500\u2500\u2500\u2500\u2500\u2500\u2500\u2500\u2500\u2500\u2500\u2500\u2500\u2500\u2500\u2500\u2500\u2500\u2500\u2500\u2500\u2500\u2500\u2500\u2500\u2500\u2500\u2500\u252c\u2500\u2500\u2500\u2500\u2500\u2500\u2500\u2500\u2500\u2500\u2500\u2500\u2500\u2500\u2500\u2500\u2500\u2500\u2500\u2500\u2500\u2500\u2500\u2500\u2500\u2500\u2500\u2500\u2500\u2500\u2500\u2500\u2500\u2500\u2500\u2500\u2500\u2500\u2500\u2500\u2500\u2500\u2500\u2500\u2500\u2500\u2500\u2500\u2500\u2500\u2500\u2500\u2500\u2500\u2500\u2500\u2500\u2500\u2500\u2500\u2500\u2500\u2500\u2500\u2500\u2500\u2500\u2500\u2500\u2500\u2500\u2500\u2500\u2500\u2500\u2500\u2500\u2500\u2500\u2500\u2500\u252c\u2500\u2500\u2500\u2500\u2500\u2500\u2500\u2500\u2500\u2500\u2500\u2500\u2500\u2500\u2500\u2500\u2500\u2500\u2500\u2500\u2500\u2500\u2500\u2500\u2500\u2500\u2500\u2500\u2500\u2500\u2500\u2500\u2500\u2500\u2500\u2500\u2500\u2500\u2500\u2500\u2500\u2500\u2500\u2500\u2500\u2500\u2500\u2500\u2500\u2500\u2500\u2500\u2500\u2500\u2500\u2500\u2500\u2500\u2500\u2500\u2500\u2500\u2500\u2500\u2500\u2500\u2500\u2500\u2500\u2500\u2500\u2500\u2500\u2500\u2500\u2500\u2500\u2500\u2500\u2500\u2500\u252c\u2500\u2500\u2500\u2500\u2500\u2500\u2500\u2500\u2500\u2500\u2500\u2500\u2500\u2500\u2500\u2500\u2500\u2500\u2500\u2500\u2500\u2500\u2500\u2500\u2500\u2500\u2500\u2500\u2500\u2500\u2500\u2500\u2500\u2500\u2500\u2500\u2500\u2500\u2500\u2500\u2500\u2500\u2500\u2500\u2500\u2500\u2500\u2500\u2500\u2500\u2500\u2500\u2500\u2500\u2500\u2500\u2500\u2500\u2500\u2500\u2500\u2500\u2500\u2500\u2500\u2500\u2500\u2500\u2500\u2500\u2500\u2500\u2500\u2500\u2500\u2500\u2500\u2500\u2500\u2500\u2500\u252c\u2500\u2500\u2500\u2500\u2500\u2500\u2500\u2500\u2500\u2500\u2500\u2500\u2500\u2500\u2500\u2500\u2500\u2500\u2500\u2500\u2500\u2500\u2500\u2500\u2500\u2500\u2500\u2500\u2500\u2500\u2500\u2500\u2500\u2500\u2500\u2500\u2500\u2500\u2500\u2500\u2500\u2500\u2500\u2500\u2500\u2500\u2500\u2500\u2500\u2500\u2500\u2500\u2500\u2500\u2500\u2500\u2500\u2500\u2500\u2500\u2500\u2500\u2500\u2500\u2500\u2500\u2500\u2500\u2500\u2500\u2500\u2500\u2500\u2500\u2500\u2500\u2500\u2500\u2500\u2500\u2500\u252c\u2500\u2500\u2500\u2500\u2500\u2500\u2500\u2500\u2500\u2500\u2500\u2500\u2500\u2500\u2500\u2500\u2500\u2500\u2500\u2500\u2500\u2500\u2500\u2500\u2500\u2500\u2500\u2500\u2500\u2500\u2500\u2500\u2500\u2500\u2500\u2500\u2500\u2500\u2500\u2500\u2500\u2500\u2500\u2500\u2500\u2500\u2500\u2500\u2500\u2500\u2500\u2500\u2500\u2500\u2500\u2500\u2500\u2500\u2500\u2500\u2500\u2500\u2500\u2500\u2500\u2500\u2500\u2500\u2500\u2500\u2500\u2500\u2500\u2500\u2500\u2500\u2500\u2500\u2500\u2500\u2500\u252c\u2500\u2500\u2500\u2500\u2500\u2500\u2500\u2500\u2500\u2500\u2500\u2500\u2500\u2500\u2500\u2500\u2500\u2500\u2500\u2500\u2500\u2500\u2500\u2500\u2500\u2500\u2500\u2500\u2500\u2500\u2500\u2500\u2500\u2500\u2500\u2500\u2500\u2500\u2500\u2500\u2500\u2500\u2500\u2500\u2500\u2500\u2500\u2500\u2500\u2500\u2500\u2500\u2500\u2500\u2500\u2500\u2500\u2500\u2500\u2500\u2500\u2500\u2500\u2500\u2500\u2500\u2500\u2500\u2500\u2500\u2500\u2500\u2500\u2500\u2500\u2500\u2500\u2500\u2500\u2500\u2500\u252c\u2500\u2500\u2500\u2500\u2500\u2500\u2500\u2500\u2500\u2500\u2500\u2500\u2500\u2500\u2500\u2500\u2500\u2500\u2500\u2500\u2500\u2500\u2500\u2500\u2500\u2500\u2500\u2500\u2500\u2500\u2500\u2500\u2500\u2500\u2500\u2500\u2500\u2500\u2500\u2500\u2500\u2500\u2500\u2500\u2500\u2500\u2500\u2500\u2500\u2500\u2500\u2500\u2500\u2500\u2500\u2500\u2500\u2500\u2500\u2500\u2500\u2500\u2500\u2500\u2500\u2500\u2500\u2500\u2500\u2500\u2500\u2500\u2500\u2500\u2500\u2500\u2500\u2500\u2500\u2500\u2500\u252c\u2500\u2500\u2500\u2500\u2500\u2500\u2500\u2500\u2500\u2500\u2500\u2500\u2500\u2500\u2500\u2500\u2500\u2500\u2500\u2500\u2500\u2500\u2500\u2500\u2500\u2500\u2500\u2500\u2500\u2500\u2500\u2500\u2500\u2500\u2500\u2500\u2500\u2500\u2500\u2500\u2500\u2500\u2500\u2500\u2500\u2500\u2500\u2500\u2500\u2500\u2500\u2500\u2500\u2500\u2500\u2500\u2500\u2500\u2500\u2500\u2500\u2500\u2500\u2500\u2500\u2500\u2500\u2500\u2500\u2500\u2500\u2500\u2500\u2500\u2500\u2500\u2500\u2500\u2500\u2500\u2500\u252c\u2500\u2500\u2500\u2500\u2500\u2500\u2500\u2500\u2500\u2500\u2500\u2500\u2500\u2500\u2500\u2500\u2500\u2500\u2500\u2500\u2500\u2500\u2500\u2500\u2500\u2500\u2500\u2500\u2500\u2500\u2500\u2500\u2500\u2500\u2500\u2500\u2500\u2500\u2500\u2500\u2500\u2500\u2500\u2500\u2500\u2500\u2500\u2500\u2500\u2500\u2500\u2500\u2500\u2500\u2500\u2500\u2500\u2500\u2500\u2500\u2500\u2500\u2500\u2500\u2500\u2500\u2500\u2500\u2500\u2500\u2500\u2500\u2500\u2500\u2500\u2500\u2500\u2500\u2500\u2500\u2500\u252c\u2500\u2500\u2500\u2500\u2500\u2500\u2500\u2500\u2500\u2500\u2500\u2500\u2500\u2500\u2500\u2500\u2500\u2500\u2500\u2500\u2500\u2500\u2500\u2500\u2500\u2500\u2500\u2500\u2500\u2500\u2500\u2500\u2500\u2500\u2500\u2500\u2500\u2500\u2500\u2500\u2500\u2500\u2500\u2500\u2500\u2500\u2500\u2500\u2500\u2500\u2500\u2500\u2500\u2500\u2500\u2500\u2500\u2500\u2500\u2500\u2500\u2500\u2500\u2500\u2500\u2500\u2500\u2500\u2500\u2500\u2500\u2500\u2500\u2500\u252c\u2500\u2500\u2500\u2500\u2500\u2500\u2500\u2500\u2500\u2500\u2500\u2500\u2500\u2500\u2500\u2500\u2500\u2500\u2500\u2500\u2500\u2500\u2500\u2500\u2500\u2500\u2500\u2500\u2500\u2500\u2500\u2500\u2500\u2500\u2500\u2500\u2500\u2500\u2500\u2500\u2500\u2500\u2500\u2500\u2500\u2500\u2500\u2500\u2500\u2500\u2500\u2500\u2500\u2500\u2500\u2500\u2500\u2500\u2500\u2500\u2500\u2500\u2500\u2500\u2500\u2500\u2500\u2500\u2500\u2500\u2500\u2500\u2500\u2500\u252c\u2500\u2500\u2500\u2500\u2500\u2500\u2500\u2500\u2500\u2500\u2500\u2500\u2500\u2500\u2500\u2500\u2500\u2500\u2500\u2500\u2500\u2500\u2500\u2500\u2500\u2500\u2500\u2500\u2500\u2500\u2500\u2500\u2500\u2500\u2500\u2500\u2500\u2500\u2500\u2500\u2500\u2500\u2500\u2500\u2500\u2500\u2500\u2500\u2500\u2500\u2500\u2500\u2500\u2500\u2500\u2500\u2500\u2500\u2500\u2500\u2500\u2500\u2500\u2500\u2500\u2500\u2500\u2500\u2500\u2500\u2500\u2500\u2500\u2500\u252c\u2500\u2500\u2500\u2500\u2500\u2500\u2500\u2500\u2500\u2500\u2500\u2500\u2500\u2500\u2500\u2500\u2500\u2500\u2500\u2500\u2500\u2500\u2500\u2500\u2500\u2500\u2500\u2500\u2500\u2500\u2500\u2500\u2500\u2500\u2500\u2500\u2500\u2500\u2500\u2500\u2500\u2500\u2500\u2500\u2500\u2500\u2500\u2500\u2500\u2500\u2500\u2500\u2500\u2500\u2500\u2500\u2500\u2500\u2500\u2500\u2500\u2500\u2500\u2500\u2500\u2500\u2500\u2500\u2500\u2500\u2500\u2500\u2500\u2500\u2510\n",
              "\u2502https://www.dyalog.com/uploads/files/student_competition/2020_problems_phase1.pdf\u2502https://www.dyalog.com/uploads/files/student_competition/2020_problems_phase2.pdf\u2502https://www.dyalog.com/uploads/files/student_competition/2019_problems_phase1.pdf\u2502https://www.dyalog.com/uploads/files/student_competition/2019_problems_phase2.pdf\u2502https://www.dyalog.com/uploads/files/student_competition/2018_problems_phase1.pdf\u2502https://www.dyalog.com/uploads/files/student_competition/2018_problems_phase2.pdf\u2502https://www.dyalog.com/uploads/files/student_competition/2017_problems_phase1.pdf\u2502https://www.dyalog.com/uploads/files/student_competition/2017_problems_phase2.pdf\u2502https://www.dyalog.com/uploads/files/student_competition/2016_problems_phase1.pdf\u2502https://www.dyalog.com/uploads/files/student_competition/2016_problems_phase2.pdf\u2502https://www.dyalog.com/uploads/files/student_competition/2015_problems_phase1.pdf\u2502https://www.dyalog.com/uploads/files/student_competition/2015_problems_phase2.pdf\u2502https://www.dyalog.com/uploads/files/student_competition/2014_problems_phase1.pdf\u2502https://www.dyalog.com/uploads/files/student_competition/2014_problems_phase2.pdf\u2502https://www.dyalog.com/uploads/files/student_competition/2013_problems_phase1.pdf\u2502https://www.dyalog.com/uploads/files/student_competition/2013_problems_phase2.pdf\u2502https://www.dyalog.com/uploads/files/student_competition/2012_problems.pdf\u2502https://www.dyalog.com/uploads/files/student_competition/2011_problems.pdf\u2502https://www.dyalog.com/uploads/files/student_competition/2010_problems.pdf\u2502https://www.dyalog.com/uploads/files/student_competition/2009_problems.pdf\u2502\n",
              "\u2514\u2500\u2500\u2500\u2500\u2500\u2500\u2500\u2500\u2500\u2500\u2500\u2500\u2500\u2500\u2500\u2500\u2500\u2500\u2500\u2500\u2500\u2500\u2500\u2500\u2500\u2500\u2500\u2500\u2500\u2500\u2500\u2500\u2500\u2500\u2500\u2500\u2500\u2500\u2500\u2500\u2500\u2500\u2500\u2500\u2500\u2500\u2500\u2500\u2500\u2500\u2500\u2500\u2500\u2500\u2500\u2500\u2500\u2500\u2500\u2500\u2500\u2500\u2500\u2500\u2500\u2500\u2500\u2500\u2500\u2500\u2500\u2500\u2500\u2500\u2500\u2500\u2500\u2500\u2500\u2500\u2500\u2534\u2500\u2500\u2500\u2500\u2500\u2500\u2500\u2500\u2500\u2500\u2500\u2500\u2500\u2500\u2500\u2500\u2500\u2500\u2500\u2500\u2500\u2500\u2500\u2500\u2500\u2500\u2500\u2500\u2500\u2500\u2500\u2500\u2500\u2500\u2500\u2500\u2500\u2500\u2500\u2500\u2500\u2500\u2500\u2500\u2500\u2500\u2500\u2500\u2500\u2500\u2500\u2500\u2500\u2500\u2500\u2500\u2500\u2500\u2500\u2500\u2500\u2500\u2500\u2500\u2500\u2500\u2500\u2500\u2500\u2500\u2500\u2500\u2500\u2500\u2500\u2500\u2500\u2500\u2500\u2500\u2500\u2534\u2500\u2500\u2500\u2500\u2500\u2500\u2500\u2500\u2500\u2500\u2500\u2500\u2500\u2500\u2500\u2500\u2500\u2500\u2500\u2500\u2500\u2500\u2500\u2500\u2500\u2500\u2500\u2500\u2500\u2500\u2500\u2500\u2500\u2500\u2500\u2500\u2500\u2500\u2500\u2500\u2500\u2500\u2500\u2500\u2500\u2500\u2500\u2500\u2500\u2500\u2500\u2500\u2500\u2500\u2500\u2500\u2500\u2500\u2500\u2500\u2500\u2500\u2500\u2500\u2500\u2500\u2500\u2500\u2500\u2500\u2500\u2500\u2500\u2500\u2500\u2500\u2500\u2500\u2500\u2500\u2500\u2534\u2500\u2500\u2500\u2500\u2500\u2500\u2500\u2500\u2500\u2500\u2500\u2500\u2500\u2500\u2500\u2500\u2500\u2500\u2500\u2500\u2500\u2500\u2500\u2500\u2500\u2500\u2500\u2500\u2500\u2500\u2500\u2500\u2500\u2500\u2500\u2500\u2500\u2500\u2500\u2500\u2500\u2500\u2500\u2500\u2500\u2500\u2500\u2500\u2500\u2500\u2500\u2500\u2500\u2500\u2500\u2500\u2500\u2500\u2500\u2500\u2500\u2500\u2500\u2500\u2500\u2500\u2500\u2500\u2500\u2500\u2500\u2500\u2500\u2500\u2500\u2500\u2500\u2500\u2500\u2500\u2500\u2534\u2500\u2500\u2500\u2500\u2500\u2500\u2500\u2500\u2500\u2500\u2500\u2500\u2500\u2500\u2500\u2500\u2500\u2500\u2500\u2500\u2500\u2500\u2500\u2500\u2500\u2500\u2500\u2500\u2500\u2500\u2500\u2500\u2500\u2500\u2500\u2500\u2500\u2500\u2500\u2500\u2500\u2500\u2500\u2500\u2500\u2500\u2500\u2500\u2500\u2500\u2500\u2500\u2500\u2500\u2500\u2500\u2500\u2500\u2500\u2500\u2500\u2500\u2500\u2500\u2500\u2500\u2500\u2500\u2500\u2500\u2500\u2500\u2500\u2500\u2500\u2500\u2500\u2500\u2500\u2500\u2500\u2534\u2500\u2500\u2500\u2500\u2500\u2500\u2500\u2500\u2500\u2500\u2500\u2500\u2500\u2500\u2500\u2500\u2500\u2500\u2500\u2500\u2500\u2500\u2500\u2500\u2500\u2500\u2500\u2500\u2500\u2500\u2500\u2500\u2500\u2500\u2500\u2500\u2500\u2500\u2500\u2500\u2500\u2500\u2500\u2500\u2500\u2500\u2500\u2500\u2500\u2500\u2500\u2500\u2500\u2500\u2500\u2500\u2500\u2500\u2500\u2500\u2500\u2500\u2500\u2500\u2500\u2500\u2500\u2500\u2500\u2500\u2500\u2500\u2500\u2500\u2500\u2500\u2500\u2500\u2500\u2500\u2500\u2534\u2500\u2500\u2500\u2500\u2500\u2500\u2500\u2500\u2500\u2500\u2500\u2500\u2500\u2500\u2500\u2500\u2500\u2500\u2500\u2500\u2500\u2500\u2500\u2500\u2500\u2500\u2500\u2500\u2500\u2500\u2500\u2500\u2500\u2500\u2500\u2500\u2500\u2500\u2500\u2500\u2500\u2500\u2500\u2500\u2500\u2500\u2500\u2500\u2500\u2500\u2500\u2500\u2500\u2500\u2500\u2500\u2500\u2500\u2500\u2500\u2500\u2500\u2500\u2500\u2500\u2500\u2500\u2500\u2500\u2500\u2500\u2500\u2500\u2500\u2500\u2500\u2500\u2500\u2500\u2500\u2500\u2534\u2500\u2500\u2500\u2500\u2500\u2500\u2500\u2500\u2500\u2500\u2500\u2500\u2500\u2500\u2500\u2500\u2500\u2500\u2500\u2500\u2500\u2500\u2500\u2500\u2500\u2500\u2500\u2500\u2500\u2500\u2500\u2500\u2500\u2500\u2500\u2500\u2500\u2500\u2500\u2500\u2500\u2500\u2500\u2500\u2500\u2500\u2500\u2500\u2500\u2500\u2500\u2500\u2500\u2500\u2500\u2500\u2500\u2500\u2500\u2500\u2500\u2500\u2500\u2500\u2500\u2500\u2500\u2500\u2500\u2500\u2500\u2500\u2500\u2500\u2500\u2500\u2500\u2500\u2500\u2500\u2500\u2534\u2500\u2500\u2500\u2500\u2500\u2500\u2500\u2500\u2500\u2500\u2500\u2500\u2500\u2500\u2500\u2500\u2500\u2500\u2500\u2500\u2500\u2500\u2500\u2500\u2500\u2500\u2500\u2500\u2500\u2500\u2500\u2500\u2500\u2500\u2500\u2500\u2500\u2500\u2500\u2500\u2500\u2500\u2500\u2500\u2500\u2500\u2500\u2500\u2500\u2500\u2500\u2500\u2500\u2500\u2500\u2500\u2500\u2500\u2500\u2500\u2500\u2500\u2500\u2500\u2500\u2500\u2500\u2500\u2500\u2500\u2500\u2500\u2500\u2500\u2500\u2500\u2500\u2500\u2500\u2500\u2500\u2534\u2500\u2500\u2500\u2500\u2500\u2500\u2500\u2500\u2500\u2500\u2500\u2500\u2500\u2500\u2500\u2500\u2500\u2500\u2500\u2500\u2500\u2500\u2500\u2500\u2500\u2500\u2500\u2500\u2500\u2500\u2500\u2500\u2500\u2500\u2500\u2500\u2500\u2500\u2500\u2500\u2500\u2500\u2500\u2500\u2500\u2500\u2500\u2500\u2500\u2500\u2500\u2500\u2500\u2500\u2500\u2500\u2500\u2500\u2500\u2500\u2500\u2500\u2500\u2500\u2500\u2500\u2500\u2500\u2500\u2500\u2500\u2500\u2500\u2500\u2500\u2500\u2500\u2500\u2500\u2500\u2500\u2534\u2500\u2500\u2500\u2500\u2500\u2500\u2500\u2500\u2500\u2500\u2500\u2500\u2500\u2500\u2500\u2500\u2500\u2500\u2500\u2500\u2500\u2500\u2500\u2500\u2500\u2500\u2500\u2500\u2500\u2500\u2500\u2500\u2500\u2500\u2500\u2500\u2500\u2500\u2500\u2500\u2500\u2500\u2500\u2500\u2500\u2500\u2500\u2500\u2500\u2500\u2500\u2500\u2500\u2500\u2500\u2500\u2500\u2500\u2500\u2500\u2500\u2500\u2500\u2500\u2500\u2500\u2500\u2500\u2500\u2500\u2500\u2500\u2500\u2500\u2500\u2500\u2500\u2500\u2500\u2500\u2500\u2534\u2500\u2500\u2500\u2500\u2500\u2500\u2500\u2500\u2500\u2500\u2500\u2500\u2500\u2500\u2500\u2500\u2500\u2500\u2500\u2500\u2500\u2500\u2500\u2500\u2500\u2500\u2500\u2500\u2500\u2500\u2500\u2500\u2500\u2500\u2500\u2500\u2500\u2500\u2500\u2500\u2500\u2500\u2500\u2500\u2500\u2500\u2500\u2500\u2500\u2500\u2500\u2500\u2500\u2500\u2500\u2500\u2500\u2500\u2500\u2500\u2500\u2500\u2500\u2500\u2500\u2500\u2500\u2500\u2500\u2500\u2500\u2500\u2500\u2500\u2500\u2500\u2500\u2500\u2500\u2500\u2500\u2534\u2500\u2500\u2500\u2500\u2500\u2500\u2500\u2500\u2500\u2500\u2500\u2500\u2500\u2500\u2500\u2500\u2500\u2500\u2500\u2500\u2500\u2500\u2500\u2500\u2500\u2500\u2500\u2500\u2500\u2500\u2500\u2500\u2500\u2500\u2500\u2500\u2500\u2500\u2500\u2500\u2500\u2500\u2500\u2500\u2500\u2500\u2500\u2500\u2500\u2500\u2500\u2500\u2500\u2500\u2500\u2500\u2500\u2500\u2500\u2500\u2500\u2500\u2500\u2500\u2500\u2500\u2500\u2500\u2500\u2500\u2500\u2500\u2500\u2500\u2500\u2500\u2500\u2500\u2500\u2500\u2500\u2534\u2500\u2500\u2500\u2500\u2500\u2500\u2500\u2500\u2500\u2500\u2500\u2500\u2500\u2500\u2500\u2500\u2500\u2500\u2500\u2500\u2500\u2500\u2500\u2500\u2500\u2500\u2500\u2500\u2500\u2500\u2500\u2500\u2500\u2500\u2500\u2500\u2500\u2500\u2500\u2500\u2500\u2500\u2500\u2500\u2500\u2500\u2500\u2500\u2500\u2500\u2500\u2500\u2500\u2500\u2500\u2500\u2500\u2500\u2500\u2500\u2500\u2500\u2500\u2500\u2500\u2500\u2500\u2500\u2500\u2500\u2500\u2500\u2500\u2500\u2500\u2500\u2500\u2500\u2500\u2500\u2500\u2534\u2500\u2500\u2500\u2500\u2500\u2500\u2500\u2500\u2500\u2500\u2500\u2500\u2500\u2500\u2500\u2500\u2500\u2500\u2500\u2500\u2500\u2500\u2500\u2500\u2500\u2500\u2500\u2500\u2500\u2500\u2500\u2500\u2500\u2500\u2500\u2500\u2500\u2500\u2500\u2500\u2500\u2500\u2500\u2500\u2500\u2500\u2500\u2500\u2500\u2500\u2500\u2500\u2500\u2500\u2500\u2500\u2500\u2500\u2500\u2500\u2500\u2500\u2500\u2500\u2500\u2500\u2500\u2500\u2500\u2500\u2500\u2500\u2500\u2500\u2500\u2500\u2500\u2500\u2500\u2500\u2500\u2534\u2500\u2500\u2500\u2500\u2500\u2500\u2500\u2500\u2500\u2500\u2500\u2500\u2500\u2500\u2500\u2500\u2500\u2500\u2500\u2500\u2500\u2500\u2500\u2500\u2500\u2500\u2500\u2500\u2500\u2500\u2500\u2500\u2500\u2500\u2500\u2500\u2500\u2500\u2500\u2500\u2500\u2500\u2500\u2500\u2500\u2500\u2500\u2500\u2500\u2500\u2500\u2500\u2500\u2500\u2500\u2500\u2500\u2500\u2500\u2500\u2500\u2500\u2500\u2500\u2500\u2500\u2500\u2500\u2500\u2500\u2500\u2500\u2500\u2500\u2500\u2500\u2500\u2500\u2500\u2500\u2500\u2534\u2500\u2500\u2500\u2500\u2500\u2500\u2500\u2500\u2500\u2500\u2500\u2500\u2500\u2500\u2500\u2500\u2500\u2500\u2500\u2500\u2500\u2500\u2500\u2500\u2500\u2500\u2500\u2500\u2500\u2500\u2500\u2500\u2500\u2500\u2500\u2500\u2500\u2500\u2500\u2500\u2500\u2500\u2500\u2500\u2500\u2500\u2500\u2500\u2500\u2500\u2500\u2500\u2500\u2500\u2500\u2500\u2500\u2500\u2500\u2500\u2500\u2500\u2500\u2500\u2500\u2500\u2500\u2500\u2500\u2500\u2500\u2500\u2500\u2500\u2534\u2500\u2500\u2500\u2500\u2500\u2500\u2500\u2500\u2500\u2500\u2500\u2500\u2500\u2500\u2500\u2500\u2500\u2500\u2500\u2500\u2500\u2500\u2500\u2500\u2500\u2500\u2500\u2500\u2500\u2500\u2500\u2500\u2500\u2500\u2500\u2500\u2500\u2500\u2500\u2500\u2500\u2500\u2500\u2500\u2500\u2500\u2500\u2500\u2500\u2500\u2500\u2500\u2500\u2500\u2500\u2500\u2500\u2500\u2500\u2500\u2500\u2500\u2500\u2500\u2500\u2500\u2500\u2500\u2500\u2500\u2500\u2500\u2500\u2500\u2534\u2500\u2500\u2500\u2500\u2500\u2500\u2500\u2500\u2500\u2500\u2500\u2500\u2500\u2500\u2500\u2500\u2500\u2500\u2500\u2500\u2500\u2500\u2500\u2500\u2500\u2500\u2500\u2500\u2500\u2500\u2500\u2500\u2500\u2500\u2500\u2500\u2500\u2500\u2500\u2500\u2500\u2500\u2500\u2500\u2500\u2500\u2500\u2500\u2500\u2500\u2500\u2500\u2500\u2500\u2500\u2500\u2500\u2500\u2500\u2500\u2500\u2500\u2500\u2500\u2500\u2500\u2500\u2500\u2500\u2500\u2500\u2500\u2500\u2500\u2534\u2500\u2500\u2500\u2500\u2500\u2500\u2500\u2500\u2500\u2500\u2500\u2500\u2500\u2500\u2500\u2500\u2500\u2500\u2500\u2500\u2500\u2500\u2500\u2500\u2500\u2500\u2500\u2500\u2500\u2500\u2500\u2500\u2500\u2500\u2500\u2500\u2500\u2500\u2500\u2500\u2500\u2500\u2500\u2500\u2500\u2500\u2500\u2500\u2500\u2500\u2500\u2500\u2500\u2500\u2500\u2500\u2500\u2500\u2500\u2500\u2500\u2500\u2500\u2500\u2500\u2500\u2500\u2500\u2500\u2500\u2500\u2500\u2500\u2500\u2518\n",
              "</span>"
            ]
          },
          "execution_count": 50,
          "metadata": {},
          "output_type": "execute_result"
        }
      ],
      "source": [
        "URL \u2190 'https://www.dyalog.com/student-competition.htm'    \u235d The URL where the problem sets are.\n",
        "data \u2190 HttpCommand.Get URL                                \u235d Fetch the page.\n",
        "base \u2190 \u2283('<base +href=\"(.*?)\"' \u2395S '\\1') data.Data         \u235d Find the base URL for the pdfs.\n",
        "\u2395\u2190 links \u2190 ('href=\"(.*?[.]pdf)\"' \u2395S (base,'\\1')) data.Data  \u235d Look for the pdf links and prepend the base."
      ]
    },
    {
      "cell_type": "markdown",
      "metadata": {},
      "source": [
        "Don't worry if you do not understand the APL code above (it is simpler than it might look, but explaining it is not the purpose of this section). You can see that the code returns some hyperlinks, which point to PDF files with the problem sets that we mentioned. You can read more about `HttpCommand` [here](https://www.dyalog.com/tools/tools-and-code-libraries.htm)."
      ]
    },
    {
      "cell_type": "markdown",
      "metadata": {},
      "source": [
        "(User-Defined-Functions-Syntax-Considerations)=\n",
        "## Syntax Considerations\n",
        "\n",
        "(User-Defined-Functions-Comments-and-Statement-Separators)=\n",
        "### Comments and Statement Separators\n",
        "\n",
        "(User-Defined-Functions-Comments)=\n",
        "#### Comments\n",
        "\n",
        "It is possible to write comments in a function to make it easier to read, explain how it should be used and help future maintenance or improvements.\n",
        "\n",
        "Comments begin with the symbol ***Lamp*** `\u235d` (because it \"illuminates\" the code). *Lamp* can be typed with <kbd>APL</kbd>+<kbd>,</kbd>.\n",
        "\n",
        "They can be placed alone on a dedicated line or to the right of any statement, including the function header. All the characters placed to the right of the *Lamp* are ignored by the interpreter.\n",
        "\n",
        "<!--begin advice-->\n",
        "***Advice***:\n",
        "\n",
        " > Determining when and where to comment your code is subjective but a good piece of advice is to try and **not** use comments to spell out *what* the code is doing; instead, consider using comments to explain *why* the code is doing what it is doing.\n",
        "<!--end-->"
      ]
    },
    {
      "cell_type": "markdown",
      "metadata": {},
      "source": [
        "(User-Defined-Functions-Statement-Separators)=\n",
        "#### Statement Separators\n",
        "\n",
        "Several statements can be placed on the same line of a function, using the statement separator ***Diamond*** `\u22c4`, which can be typed with <kbd>APL</kbd>+<kbd>`</kbd>. Statements are executed **starting from the leftmost one**.\n",
        "\n",
        "Putting several statements on the same line does not save computing time and generally does not improve the readability of a function. It should be reserved for short, straightforward statements.\n",
        "\n",
        "The diamond separator can also be used in ***Multithreaded programming*** to force the execution of a set of statements without any switch to another thread. But this is outside the scope of this tutorial.\n",
        "\n",
        "As an example of the usage of comments and statement separators, consider a revision of the `Interlace` function we have seen above:"
      ]
    },
    {
      "cell_type": "code",
      "execution_count": 51,
      "metadata": {},
      "outputs": [],
      "source": [
        "\u2207 r \u2190 a Interlace b; size; even  \u235d This is just a demo\n",
        "    \u235d a & b are matrices of the same shape\n",
        "    size \u2190 1 2\u00d7\u2374a     \u235d the final result has twice as many columns as a\n",
        "    r \u2190 size\u23740\n",
        "    even \u2190 2\u00d7\u2373(\u2374b)[2] \u235d final indices of the columns of b\n",
        "    r[;even] \u2190 b \u22c4 r[;even-1] \u2190 a \u235d interlace\n",
        "\u2207"
      ]
    },
    {
      "cell_type": "markdown",
      "metadata": {},
      "source": [
        "We have placed some comments: in the header, on a dedicated line and to the right of some statements. We have also grouped the last two statements on a single line, separated by a *Diamond*."
      ]
    },
    {
      "cell_type": "markdown",
      "metadata": {},
      "source": [
        "(User-Defined-Functions-Why-Should-a-Function-Return-a-Result)=\n",
        "### Why Should a Function Return a Result?\n",
        "\n",
        "During the execution of a tradfn any result which is not assigned to a variable name is immediately displayed on the screen; we used that in our functions `Prompt1` and `Prompt2` above.\n",
        "\n",
        "So, let us compare two very similar tradfns and their usage:"
      ]
    },
    {
      "cell_type": "code",
      "execution_count": 52,
      "metadata": {},
      "outputs": [],
      "source": [
        "\u2207 z \u2190 x Plus y\n",
        "    z\u2190x+y\n",
        "\u2207"
      ]
    },
    {
      "cell_type": "code",
      "execution_count": 53,
      "metadata": {},
      "outputs": [
        {
          "data": {
            "text/html": [
              "<span style=\"white-space:pre; font-family: monospace\">14\n",
              "</span>"
            ]
          },
          "execution_count": 53,
          "metadata": {},
          "output_type": "execute_result"
        }
      ],
      "source": [
        "6 Plus 8"
      ]
    },
    {
      "cell_type": "code",
      "execution_count": 54,
      "metadata": {},
      "outputs": [],
      "source": [
        "\u2207 x PlusNoRes y\n",
        "    x+y\n",
        "\u2207"
      ]
    },
    {
      "cell_type": "code",
      "execution_count": 55,
      "metadata": {},
      "outputs": [
        {
          "data": {
            "text/html": [
              "<span style=\"white-space:pre; font-family: monospace\">14\n",
              "</span>"
            ]
          },
          "execution_count": 55,
          "metadata": {},
          "output_type": "execute_result"
        }
      ],
      "source": [
        "6 Plus 8"
      ]
    },
    {
      "cell_type": "markdown",
      "metadata": {},
      "source": [
        "Apparently, both functions work very well:\n",
        "\n",
        " - the left one calculates a local variable `z`, which has been declared to be the function result. The function returns the value of `z` as its result, and because the result is not assigned or used, it is displayed on the screen; and\n",
        " \n",
        " - the right one calculates `x+y`. Because this sum is not assigned, it is immediately displayed.\n",
        " \n",
        " But now, let us try to include these functions in more complex expressions:"
      ]
    },
    {
      "cell_type": "code",
      "execution_count": 56,
      "metadata": {},
      "outputs": [
        {
          "data": {
            "text/html": [
              "<span style=\"white-space:pre; font-family: monospace\">140\n",
              "</span>"
            ]
          },
          "execution_count": 56,
          "metadata": {},
          "output_type": "execute_result"
        }
      ],
      "source": [
        "10\u00d76 Plus 8"
      ]
    },
    {
      "cell_type": "code",
      "execution_count": 57,
      "metadata": {},
      "outputs": [
        {
          "name": "stderr",
          "output_type": "stream",
          "text": [
            "14\n",
            "VALUE ERROR: No result was provided when the context expected one\n",
            "      10\u00d76 PlusNoRes 8\n",
            "           \u2227\n"
          ]
        }
      ],
      "source": [
        "10\u00d76 PlusNoRes 8"
      ]
    },
    {
      "cell_type": "markdown",
      "metadata": {},
      "source": [
        "Something went wrong!\n",
        "\n",
        " - the leftmost function returns a result. The result is available to the calling expression, in this case as the right argument to the multiply function, so that we obtained the answer we wanted; but\n",
        " \n",
        " - the rightmost function returns no result. The value calculated in the first statement is just displayed (though we did not need it); it is **not** returned as a result. So, the multiply function has an argument on its left (the 10) but nothing on its right, hence the error message.\n",
        "\n",
        "<!--begin advice-->\n",
        "***Advice***:\n",
        "\n",
        " > Whenever you can, write functions which produce an explicit result. You can always throw the result away if you don't need it.\n",
        "<!--end-->\n",
        "\n",
        "This is not even a problem in dfns, because dfns *always* return an explicit result, or they don't return at all.\n",
        "Because dfns are the more modern way of writing user-defined functions, and because we encourage you to write your functions that process data as dfns whenever possible, this is likely not to be a common problem for you."
      ]
    },
    {
      "cell_type": "markdown",
      "metadata": {},
      "source": [
        "(User-Defined-Functions-Different-Types-of-Functions)=\n",
        "### Different Types of Functions\n",
        "\n",
        "(User-Defined-Functions-What-Is-an-Explicit-Result)=\n",
        "#### What Is an Explicit Result?\n",
        "\n",
        "We have seen that some functions (like `Average` or `Plus`) return a result; we describe the result as being ***Explicit***. It means that once the function has been executed, the result is passed on to the next part of the expression which is being evaluated or, if there is none, it is displayed on the screen.\n",
        "\n",
        "Some other functions (like `PlusNoRes`) do not return an explicit result. This does not mean that they do nothing; perhaps they read or write data from/to a file or an Excel worksheet, perhaps they print a graph on a printer, or perhaps they build a graphical user interface. All these consequences which arise from the execution of the function can be called ***Implicit*** or hidden results. Anything that happens during the execution of a function and that is not communicated directly in the function's result is generally called a *side effect* of the function (and perhaps its sub-functions)."
      ]
    },
    {
      "cell_type": "markdown",
      "metadata": {},
      "source": [
        "(User-Defined-Functions-Six-Major-Types-of-Functions-Valence)=\n",
        "#### Six Major Types of Functions (Valence)\n",
        "\n",
        "The number of arguments a function takes is termed its ***Valence***.\n",
        "\n",
        "You have already met functions with one or two arguments (monadic or dyadic), and you can also write functions which take no arguments at all: they are called ***Niladic***. Though they do not receive values through arguments, they can process data introduced via the various techniques described in {numref}`User-Defined-Functions-Input-Output-and-Format`. Notice that only tradfns can be niladic, as dfns take *at least* one argument.\n",
        "\n",
        "Depending on whether or not they return an explicit result, tradfns can be classified as follows:\n",
        "\n",
        "| Valence | With an explicit result | Without an explicit result |\n",
        "| :- | :- | :- |\n",
        "| Niladic | `\u2207 z \u2190   function` | `\u2207     function` |\n",
        "| Monadic | `\u2207 z \u2190   function x` | `\u2207     function y` |\n",
        "| Dyadic | `\u2207 z \u2190 x function y` | `\u2207   x function y` |\n",
        "\n",
        "Dfns, on the other hand, can only be of two different types: either monadic with an explicit result or dyadic with an explicit result.\n",
        "\n",
        "Niladic functions which return no result are very similar to scripts written in other programming languages.\n",
        "\n",
        "Some of the functions which we have already written can be classified as follows:\n",
        "\n",
        "| Syntax | With result | Without result |\n",
        "| :- | :-: | :-: |\n",
        "| Niladic |  | `Endless` |\n",
        "| Monadic | `Average`, `HarmonicMean` | `Prompt1`, `Prompt2` |\n",
        "| Dyadic | `Interlace`, `Plus`, `Times` | `PlusNoRes` |"
      ]
    },
    {
      "cell_type": "markdown",
      "metadata": {},
      "source": [
        "(User-Defined-Functions-Ambivalent-Functions)=\n",
        "#### Ambivalent Functions\n",
        "\n",
        "Most APL symbols are used to represent both monadic and dyadic primitive functions. For example, the symbol `\u2374` represents both the *Shape* (`\u2374y`) function and the *Reshape* (`x\u2374y`) function, and `\u2308` represents both *Ceiling* (`\u2308y`) and *Maximum* (`x\u2308y`). These symbols are said to be ***Ambivalent***.\n",
        "\n",
        "In {numref}`User-Defined-Functions-Default-Left-Argument` we saw how to write an *ambivalent* dfn. To write an *ambivalent* tradfn, the name of the left argument in the header is specified within braces (to show that is is optional), like this: `\u2207 result \u2190 {left} Function right`.\n",
        "\n",
        "We are now faced with a problem: this function must work correctly whether or not a left argument is provided. One of the ways to deal with this in a dfn is by specifying a default left argument. There is another way that works for both dfns and tradfns, and then there is an additional, preferred, way of dealing with this ambiguity in tradfns.\n",
        "\n",
        "A way to test for the presence of the left argument is through the *System function* `\u2395NC`. NC stands for ***Name Classification***, as that is what the `\u2395NC` function does: classifies the use that is being made of a given name.\n",
        "\n",
        "As we shall see in [a future chapter](./System-Interfaces.ipynb):\n",
        "\n",
        " - the *Name Classification* of a variable name is 2;\n",
        " - the *Name Classification* of a function name is 3;\n",
        " - the *Name Classification* of an unused name is 0.\n",
        "\n",
        "As some examples, recall that `'chemistry'` is the name of a variable, `'Average'` is the name of a function and so far we haven't used the name `'thingamabob'` for anything:"
      ]
    },
    {
      "cell_type": "code",
      "execution_count": 61,
      "metadata": {},
      "outputs": [
        {
          "data": {
            "text/html": [
              "<span style=\"white-space:pre; font-family: monospace\">2\n",
              "</span>"
            ]
          },
          "execution_count": 61,
          "metadata": {},
          "output_type": "execute_result"
        }
      ],
      "source": [
        "\u2395NC 'chemistry'"
      ]
    },
    {
      "cell_type": "code",
      "execution_count": 62,
      "metadata": {},
      "outputs": [
        {
          "data": {
            "text/html": [
              "<span style=\"white-space:pre; font-family: monospace\">0\n",
              "</span>"
            ]
          },
          "execution_count": 62,
          "metadata": {},
          "output_type": "execute_result"
        }
      ],
      "source": [
        "\u2395NC 'Average'"
      ]
    },
    {
      "cell_type": "code",
      "execution_count": 63,
      "metadata": {},
      "outputs": [
        {
          "data": {
            "text/html": [
              "<span style=\"white-space:pre; font-family: monospace\">0\n",
              "</span>"
            ]
          },
          "execution_count": 63,
          "metadata": {},
          "output_type": "execute_result"
        }
      ],
      "source": [
        "\u2395NC 'thingamabob'"
      ]
    },
    {
      "cell_type": "markdown",
      "metadata": {},
      "source": [
        "So, we can use the expression `0=\u2395NC'\u237a'` to check if a dfn was called monadically and, in the example above, use `0=\u2395NC'left'` to check if the tradfn was called monadically. Conversely, we can use `2=\u2395NC'\u237a'` to check if a dfn was called dyadically and, in the example above, use `2=\u2395NC'left'` to check if the tradfn was called dyadically.\n",
        "\n",
        "Just to check that it works, let us write a useless ambivalent dfn:"
      ]
    },
    {
      "cell_type": "code",
      "execution_count": 64,
      "metadata": {},
      "outputs": [],
      "source": [
        "]dinput\n",
        "Useless \u2190 {\n",
        "    0=\u2395NC'\u237a': 'monadic'\n",
        "    2=\u2395NC'\u237a': 'dyadic'\n",
        "    'uh, what..?'\n",
        "}"
      ]
    },
    {
      "cell_type": "code",
      "execution_count": 65,
      "metadata": {},
      "outputs": [
        {
          "data": {
            "text/html": [
              "<span style=\"white-space:pre; font-family: monospace\">dyadic\n",
              "</span>"
            ]
          },
          "execution_count": 65,
          "metadata": {},
          "output_type": "execute_result"
        }
      ],
      "source": [
        "23 Useless 78"
      ]
    },
    {
      "cell_type": "code",
      "execution_count": 66,
      "metadata": {},
      "outputs": [
        {
          "data": {
            "text/html": [
              "<span style=\"white-space:pre; font-family: monospace\">monadic\n",
              "</span>"
            ]
          },
          "execution_count": 66,
          "metadata": {},
          "output_type": "execute_result"
        }
      ],
      "source": [
        "Useless 71"
      ]
    },
    {
      "cell_type": "markdown",
      "metadata": {},
      "source": [
        "Can you see why this `\u2395NC` method is better suited for dfns than for tradfns?\n",
        "\n",
        "In a dfn, the left argument is *always* called `'\u237a'`, whereas for a tradfn it can change. If you change the name of the left argument in the header of the function and forget to change its name in the `\u2395NC` test you can get into trouble. For that matter, it is recommended that you use a different method to check if a tradfn was called monadically:\n",
        "the ***900 I-Beam***, or `900\u2336` (where `\u2336` is the ***I-Beam*** character, typed with <kbd>APL</kbd>+<kbd>Shift</kbd>+<kbd>1</kbd>). The *I-Beam* will be covered in [more detail](./Operators.ipynb), here we ask you to close your eyes and just believe `900\u2336` does what we tell you it does.\n",
        "\n",
        "When used inside a tradfn, `900\u2336\u236c` returns 1 if the tradfn was called monadically and 0 otherwise.\n",
        "\n",
        "(User-Defined-Functions-Example-Ambivalent-Function)=\n",
        "#### Example Ambivalent Function\n",
        "\n",
        "The following tradfn rounds a numeric value to its nth decimal digit:"
      ]
    },
    {
      "cell_type": "code",
      "execution_count": 13,
      "metadata": {},
      "outputs": [],
      "source": [
        "\u2207 r \u2190 n Round val; t\n",
        "    t \u2190 10*n\n",
        "    r \u2190 (\u230a0.5+val\u00d7t)\u00f7t\n",
        "\u2207"
      ]
    },
    {
      "cell_type": "code",
      "execution_count": 223,
      "metadata": {},
      "outputs": [
        {
          "data": {
            "text/html": [
              "<span style=\"white-space:pre; font-family: monospace\">41.32 82.92 127.72\n",
              "</span>"
            ]
          },
          "execution_count": 223,
          "metadata": {},
          "output_type": "execute_result"
        }
      ],
      "source": [
        "2 Round 41.31875 82.92413 127.71625"
      ]
    },
    {
      "cell_type": "code",
      "execution_count": 224,
      "metadata": {},
      "outputs": [
        {
          "data": {
            "text/html": [
              "<span style=\"white-space:pre; font-family: monospace\">41.32 83 127.716\n",
              "</span>"
            ]
          },
          "execution_count": 224,
          "metadata": {},
          "output_type": "execute_result"
        }
      ],
      "source": [
        "2 0 3 Round 41.31875 82.92413 127.71625"
      ]
    },
    {
      "cell_type": "markdown",
      "metadata": {},
      "source": [
        "Now, suppose that we usually want to round values to the second decimal digit: we can decide that if we do not specify a left argument this will be the default behaviour of our function. Here is the updated version of the function:"
      ]
    },
    {
      "cell_type": "code",
      "execution_count": 16,
      "metadata": {},
      "outputs": [],
      "source": [
        "\u2207 r \u2190 {n} Round val; t\n",
        "    :If 900\u2336\u236c\n",
        "        n \u2190 2    \u235d default value if Round is called monadically\n",
        "    :EndIf\n",
        "    t \u2190 10*n\n",
        "    r \u2190 (\u230a0.5+val\u00d7t)\u00f7t\n",
        "\u2207"
      ]
    },
    {
      "cell_type": "markdown",
      "metadata": {},
      "source": [
        "Now the left argument is optional and an `:If... :EndIf` clause detects its presence. If absent, `n` is set to 2. The expressions shown below illustrate the two ways in which the function can be used. This function really is ambivalent."
      ]
    },
    {
      "cell_type": "code",
      "execution_count": 226,
      "metadata": {},
      "outputs": [
        {
          "data": {
            "text/html": [
              "<span style=\"white-space:pre; font-family: monospace\">41.32 83 127.716\n",
              "</span>"
            ]
          },
          "execution_count": 226,
          "metadata": {},
          "output_type": "execute_result"
        }
      ],
      "source": [
        "2 0 3 Round 41.31875 82.92413 127.71625"
      ]
    },
    {
      "cell_type": "code",
      "execution_count": 227,
      "metadata": {},
      "outputs": [
        {
          "data": {
            "text/html": [
              "<span style=\"white-space:pre; font-family: monospace\">41.32 82.92 127.72\n",
              "</span>"
            ]
          },
          "execution_count": 227,
          "metadata": {},
          "output_type": "execute_result"
        }
      ],
      "source": [
        "Round 41.31875 82.92413 127.71625"
      ]
    },
    {
      "cell_type": "markdown",
      "metadata": {},
      "source": [
        "Alternatively, consider writing a dfn in which providing a default left argument is much cleaner:"
      ]
    },
    {
      "cell_type": "code",
      "execution_count": 228,
      "metadata": {},
      "outputs": [],
      "source": [
        "]dinput\n",
        "Round \u2190 {\n",
        "    \u237a \u2190 2\n",
        "    t \u2190 10*\u237a\n",
        "    (\u230a0.5+\u2375\u00d7t)\u00f7t\n",
        "}"
      ]
    },
    {
      "cell_type": "markdown",
      "metadata": {},
      "source": [
        "(User-Defined-Functions-Shy-Result-in-a-Tradfn)=\n",
        "#### Shy Result in a Tradfn\n",
        "\n",
        "Like for dfns (cf. {numref}`User-Defined-Functions-Shy-Result`), tradfns can return a shy result: in the header of the function we enclose the name of the return variable with `{}`, like so:"
      ]
    },
    {
      "cell_type": "code",
      "execution_count": 229,
      "metadata": {},
      "outputs": [],
      "source": [
        "\u2207 {r} \u2190 x ShyFun y\n",
        "    r \u2190 x\u00d7y\n",
        "\u2207"
      ]
    },
    {
      "cell_type": "code",
      "execution_count": 230,
      "metadata": {},
      "outputs": [],
      "source": [
        "17 ShyFun 3"
      ]
    },
    {
      "cell_type": "code",
      "execution_count": 231,
      "metadata": {},
      "outputs": [
        {
          "data": {
            "text/html": [
              "<span style=\"white-space:pre; font-family: monospace\">51\n",
              "</span>"
            ]
          },
          "execution_count": 231,
          "metadata": {},
          "output_type": "execute_result"
        }
      ],
      "source": [
        "\u2395\u2190 17 ShyFun 3"
      ]
    },
    {
      "cell_type": "code",
      "execution_count": 232,
      "metadata": {},
      "outputs": [
        {
          "data": {
            "text/html": [
              "<span style=\"white-space:pre; font-family: monospace\">510\n",
              "</span>"
            ]
          },
          "execution_count": 232,
          "metadata": {},
          "output_type": "execute_result"
        }
      ],
      "source": [
        "10\u00d717 ShyFun 3"
      ]
    },
    {
      "cell_type": "markdown",
      "metadata": {},
      "source": [
        "(User-Defined-Functions-An-Argument-Used-as-a-Result)=\n",
        "#### An Argument Used as a Result\n",
        "\n",
        "It is possible to use the same name for the result as one of the arguments. For example, these are two valid headers: `\u2207 x \u2190 x Fun y` and `\u2207 y \u2190 x Fun y`.\n",
        "\n",
        "This may be useful when a condition causes the function to terminate without any processing. Supposed that you want to repeatedly divide the right argument by 2, until the result becomes odd. A simple loop will do it, but if the argument is already odd, the loop stops immediately and the result is equal to the argument:"
      ]
    },
    {
      "cell_type": "code",
      "execution_count": 233,
      "metadata": {},
      "outputs": [],
      "source": [
        "\u2207 y \u2190 DivideIt y\n",
        "    :While 0=2|y\n",
        "        y \u2190 y\u00f72\n",
        "    :EndWhile\n",
        "\u2207"
      ]
    },
    {
      "cell_type": "markdown",
      "metadata": {},
      "source": [
        "If `y` is even the loop is executed at least once.\n",
        "\n",
        "If `y` is odd the function exists immediately and returns the unmodified value of `y` as its result.\n",
        "\n",
        "Of course this is only relevant for tradfns, as dfns do not return the value of a specific variable."
      ]
    },
    {
      "cell_type": "markdown",
      "metadata": {},
      "source": [
        "(User-Defined-Functions-Nested-Argument-and-Result)=\n",
        "### Nested Argument and Result\n",
        "\n",
        "(User-Defined-Functions-Nested-Right-Argument)=\n",
        "#### Nested Right Argument\n",
        "\n",
        "Both the left and right arguments of a function can be nested vectors, as in `Function 'London' 'UK' 7684700 40`, for example.\n",
        "\n",
        "A composite argument of this sort is often split (dispatched) into a number of separate local variables using multiple assignment, as illustrated in the following dfn:"
      ]
    },
    {
      "cell_type": "code",
      "execution_count": 234,
      "metadata": {},
      "outputs": [],
      "source": [
        "]dinput\n",
        "Dispatch \u2190 {\n",
        "    (town country population prefix) \u2190 \u2375\n",
        "    country\n",
        "}"
      ]
    },
    {
      "cell_type": "code",
      "execution_count": 235,
      "metadata": {},
      "outputs": [
        {
          "data": {
            "text/html": [
              "<span style=\"white-space:pre; font-family: monospace\">UK\n",
              "</span>"
            ]
          },
          "execution_count": 235,
          "metadata": {},
          "output_type": "execute_result"
        }
      ],
      "source": [
        "Dispatch 'London' 'UK' 7684700 40"
      ]
    },
    {
      "cell_type": "markdown",
      "metadata": {},
      "source": [
        "For tradfns, a more elegant way to achieve the same thing is to specify the composite nature of the argument directly, as follows:"
      ]
    },
    {
      "cell_type": "code",
      "execution_count": 236,
      "metadata": {},
      "outputs": [],
      "source": [
        "\u2207 r \u2190 Dispatch (town country population prefix)\n",
        "    r \u2190 country\n",
        "\u2207"
      ]
    },
    {
      "cell_type": "code",
      "execution_count": 237,
      "metadata": {},
      "outputs": [
        {
          "data": {
            "text/html": [
              "<span style=\"white-space:pre; font-family: monospace\">UK\n",
              "</span>"
            ]
          },
          "execution_count": 237,
          "metadata": {},
          "output_type": "execute_result"
        }
      ],
      "source": [
        "Dispatch 'London' 'UK' 7684700 40"
      ]
    },
    {
      "cell_type": "markdown",
      "metadata": {},
      "source": [
        "Using this syntax, the items of the right argument are automatically allocated into local variables, as you could see above.\n",
        "\n",
        "<!--begin remark-->\n",
        "***Remark***:\n",
        "\n",
        " > This special syntax applies **only** to the right argument, not to the left one. If a nested vector is passed on the left it can be split (dispatched) by multiple assignment, as suggested earlier.\n",
        "<!--end-->"
      ]
    },
    {
      "cell_type": "markdown",
      "metadata": {},
      "source": [
        "(User-Defined-Functions-Choice-of-Syntax)=\n",
        "#### Choice of Syntax\n",
        "\n",
        "When a function `Fun` is to receive two values `x` and `y`, you now have the choice between two syntaxes:\n",
        "\n",
        " - dyadic `x Fun y`\n",
        " - monadic `Fun (x y)`\n",
        " \n",
        "The dyadic way has the advantage that the function can be used with *Reduction*, while the monadic version cannot.\n",
        "\n",
        "For example, we can use `Plus` in this kind of expression:"
      ]
    },
    {
      "cell_type": "code",
      "execution_count": 238,
      "metadata": {},
      "outputs": [
        {
          "data": {
            "text/html": [
              "<span style=\"white-space:pre; font-family: monospace\">132\n",
              "</span>"
            ]
          },
          "execution_count": 238,
          "metadata": {},
          "output_type": "execute_result"
        }
      ],
      "source": [
        "Plus/14 10 52 1 12 43"
      ]
    },
    {
      "cell_type": "markdown",
      "metadata": {},
      "source": [
        "(User-Defined-Functions-Nested-Result)=\n",
        "#### Nested Result\n",
        "\n",
        "Similar notation can be applied to the result of the function. Suppose that you want to return a vector of 3 separate (local) variables (named `one`, `two` and `three` in the example) as the result of the function. One way is to declare that the function returns a single named result, and to assign the 3 local variables into the result before the function terminates. Another approach is to simply declare the structure of the result in the header as illustrated below. As these names (`one`, `two` and `three`) appear in the header, they are local.\n",
        "\n",
        "We exemplify this in the next tradfn:"
      ]
    },
    {
      "cell_type": "code",
      "execution_count": 239,
      "metadata": {},
      "outputs": [],
      "source": [
        "\u2207 (one two three) \u2190 left NestedRes right\n",
        "    one \u2190 left+right\n",
        "    two \u2190 right[left]\n",
        "    three \u2190 two\u00d7one[1]\n",
        "\u2207"
      ]
    },
    {
      "cell_type": "code",
      "execution_count": 240,
      "metadata": {},
      "outputs": [
        {
          "data": {
            "text/html": [
              "<span style=\"white-space:pre; font-family: monospace\">\u250c\u2500\u2500\u2500\u2500\u2500\u2500\u2500\u2500\u252c\u2500\u2500\u252c\u2500\u2500\u2500\u2500\u2510\n",
              "\u250215 48 81\u250278\u25021170\u2502\n",
              "\u2514\u2500\u2500\u2500\u2500\u2500\u2500\u2500\u2500\u2534\u2500\u2500\u2534\u2500\u2500\u2500\u2500\u2518\n",
              "</span>"
            ]
          },
          "execution_count": 240,
          "metadata": {},
          "output_type": "execute_result"
        }
      ],
      "source": [
        "3 NestedRes 12 45 78"
      ]
    },
    {
      "cell_type": "markdown",
      "metadata": {},
      "source": [
        "It should be clear from the construct itself, but this special syntax also only applies to tradfns. In dfns, you would have to do something like:"
      ]
    },
    {
      "cell_type": "code",
      "execution_count": 241,
      "metadata": {},
      "outputs": [],
      "source": [
        "]dinput\n",
        "NestedRes \u2190 {\n",
        "    one \u2190 \u237a+\u2375\n",
        "    two \u2190 \u2375[\u237a]\n",
        "    three \u2190 two\u00d7one[1]\n",
        "    one two three\n",
        "}"
      ]
    },
    {
      "cell_type": "code",
      "execution_count": 242,
      "metadata": {},
      "outputs": [
        {
          "data": {
            "text/html": [
              "<span style=\"white-space:pre; font-family: monospace\">\u250c\u2500\u2500\u2500\u2500\u2500\u2500\u2500\u2500\u252c\u2500\u2500\u252c\u2500\u2500\u2500\u2500\u2510\n",
              "\u250215 48 81\u250278\u25021170\u2502\n",
              "\u2514\u2500\u2500\u2500\u2500\u2500\u2500\u2500\u2500\u2534\u2500\u2500\u2534\u2500\u2500\u2500\u2500\u2518\n",
              "</span>"
            ]
          },
          "execution_count": 242,
          "metadata": {},
          "output_type": "execute_result"
        }
      ],
      "source": [
        "3 NestedRes 12 45 78"
      ]
    },
    {
      "cell_type": "markdown",
      "metadata": {},
      "source": [
        "(User-Defined-Functions-Choice-of-Names)=\n",
        "### Choice of Names\n",
        "\n",
        "Function names (as well as argument and result names, if you are using tradfns) can be any valid APL name, for example `\u2207 cain \u2190 adam PLUS eve` or `dumb \u2190 man WITHOUT voice`.\n",
        "\n",
        "However, it is recommended that you use simple names, names that are easy to remember, and names that are consistent from one function to the other. This is especially important if several people have to maintain a common set of functions; any of them should be able to understand immediately which variables represent the arguments and which the result...\n",
        "\n",
        "This recommendation is really about adopting a strict *naming convention*, and this applies to any serious programming project, whether it uses APL or not.\n",
        "\n",
        "Here are some simple conventions that you might consider:\n",
        "\n",
        " - `\u2207 z \u2190 x Function y`, often used by English-speaking developers;\n",
        " - `\u2207 r \u2190 g Function d`, often used by French-speaking developers;\n",
        " - `\u2207 r \u2190 a Function b`;\n",
        " - etc.\n",
        "\n",
        "However, we advise you to adopt meaningful words to indicate the nature of the arguments, for example using `numVec` for numeric vectors or `texMat` for character matrices.\n",
        "\n",
        "We also recommend that you avoid modifying the arguments in the body of the function, otherwise you could make maintenance much more difficult."
      ]
    },
    {
      "cell_type": "markdown",
      "metadata": {},
      "source": [
        "(User-Defined-Functions-Recursion)=\n",
        "## Recursion\n",
        "\n",
        "A function is ***Recursive*** when it calls itself, generally to calculate a step of an algorithm from the results of its previous step.\n",
        "\n",
        "For example, the factorial of $n$ can be defined as $n$ times the factorial of $n-1$. Of course, some condition must specify when the process is supposed to stop. In our example, the factorial of 1 is not calculated, but set to 1. A recursive function could be written as follows:"
      ]
    },
    {
      "cell_type": "code",
      "execution_count": 243,
      "metadata": {},
      "outputs": [],
      "source": [
        "]dinput\n",
        "Fact \u2190 {\n",
        "    \u2375<2: 1\n",
        "    \u2375\u00d7Fact \u2375-1\n",
        "}"
      ]
    },
    {
      "cell_type": "code",
      "execution_count": 244,
      "metadata": {},
      "outputs": [
        {
          "data": {
            "text/html": [
              "<span style=\"white-space:pre; font-family: monospace\">40320\n",
              "</span>"
            ]
          },
          "execution_count": 244,
          "metadata": {},
          "output_type": "execute_result"
        }
      ],
      "source": [
        "Fact 8"
      ]
    },
    {
      "cell_type": "markdown",
      "metadata": {},
      "source": [
        "<!--begin warning-->\n",
        "***Be careful***:\n",
        "\n",
        " > *Recursive* solutions are generally very elegant, however:\n",
        " >\n",
        " > - because a function may call itself a great number of times before it reaches the exit condition, this technique may need a lot of memory if the function works on huge arrays;\n",
        " >\n",
        " > - when the function calls itself, the variables calculated during one step must not interfere with the calling context. You must carefully localise all your variables if you are using a tradfn -- otherwise this is already done for you. Either way, this is the reason for possible large memory consumption, as the local variables in all recursions may exist at the same time.\n",
        "<!--end-->\n",
        "\n",
        "A possible way to overcome some of these limitations is introduced in {numref}`User-Defined-Functions-Tail-Recursion`.\n",
        "\n",
        "Beware that recursion is never mandatory. A recursive function can always be rewritten using looping or array-oriented techniques instead of recursion.\n",
        "\n",
        "For example, one could write the dfn that follows:"
      ]
    },
    {
      "cell_type": "code",
      "execution_count": 245,
      "metadata": {},
      "outputs": [],
      "source": [
        "]dinput\n",
        "Fact2 \u2190 {\n",
        "    \u00d7/\u2373\u2375\n",
        "}"
      ]
    },
    {
      "cell_type": "code",
      "execution_count": 246,
      "metadata": {},
      "outputs": [
        {
          "data": {
            "text/html": [
              "<span style=\"white-space:pre; font-family: monospace\">40320\n",
              "</span>"
            ]
          },
          "execution_count": 246,
          "metadata": {},
          "output_type": "execute_result"
        }
      ],
      "source": [
        "Fact2 8"
      ]
    },
    {
      "cell_type": "markdown",
      "metadata": {},
      "source": [
        "Notice that the dfn above is preferred over a tradfn with an explicit loop like a `:For` or a `:While`."
      ]
    },
    {
      "cell_type": "markdown",
      "metadata": {},
      "source": [
        "(User-Defined-Functions-Recursion-in-Dfns)=\n",
        "### Recursion in Dfns\n",
        "\n",
        "Both dfns and tradfns can be recursive by calling themselves explicitly, like you saw above. However, if you are writing a dfn you can also use the special symbol `\u2207` (the *Del* symbol) to represent this self-call.\n",
        "\n",
        "Using this symbol in our `Fact` function, we'd write"
      ]
    },
    {
      "cell_type": "code",
      "execution_count": 247,
      "metadata": {},
      "outputs": [],
      "source": [
        "]dinput\n",
        "Fact \u2190 {\n",
        "    \u2375<2: 1\n",
        "    \u2375\u00d7\u2207\u2375-1\n",
        "}"
      ]
    },
    {
      "cell_type": "markdown",
      "metadata": {},
      "source": [
        "An implicit self-reference using `\u2207` needs less interpretative overhead and therefore it may execute more quickly. Moreover, it will continue to work even if the function is renamed."
      ]
    },
    {
      "cell_type": "markdown",
      "metadata": {},
      "source": [
        "(User-Defined-Functions-Assigning-Names-to-Functions)=\n",
        "## Assigning Names to Functions\n",
        "\n",
        "You can give names to values, through the use of variables like"
      ]
    },
    {
      "cell_type": "code",
      "execution_count": 248,
      "metadata": {},
      "outputs": [],
      "source": [
        "x \u2190 2"
      ]
    },
    {
      "cell_type": "markdown",
      "metadata": {},
      "source": [
        "and you can define functions, like"
      ]
    },
    {
      "cell_type": "code",
      "execution_count": 249,
      "metadata": {},
      "outputs": [],
      "source": [
        "TimesTwo \u2190 {2\u00d7\u2375}"
      ]
    },
    {
      "cell_type": "markdown",
      "metadata": {},
      "source": [
        "but you can also associate a new name with an **existing** primitive, a user-defined function or a derived function. For example,"
      ]
    },
    {
      "cell_type": "code",
      "execution_count": 250,
      "metadata": {},
      "outputs": [
        {
          "data": {
            "text/html": [
              "<span style=\"white-space:pre; font-family: monospace\">1 2\n",
              "3 4\n",
              "</span>"
            ]
          },
          "execution_count": 250,
          "metadata": {},
          "output_type": "execute_result"
        }
      ],
      "source": [
        "Rho \u2190 \u2374\n",
        "2 2 Rho 1 2 3 4"
      ]
    },
    {
      "cell_type": "code",
      "execution_count": 251,
      "metadata": {},
      "outputs": [
        {
          "data": {
            "text/html": [
              "<span style=\"white-space:pre; font-family: monospace\">20\n",
              "</span>"
            ]
          },
          "execution_count": 251,
          "metadata": {},
          "output_type": "execute_result"
        }
      ],
      "source": [
        "Times2 \u2190 TimesTwo\n",
        "Times2 10"
      ]
    },
    {
      "cell_type": "code",
      "execution_count": 252,
      "metadata": {},
      "outputs": [
        {
          "data": {
            "text/html": [
              "<span style=\"white-space:pre; font-family: monospace\">10\n",
              "</span>"
            ]
          },
          "execution_count": 252,
          "metadata": {},
          "output_type": "execute_result"
        }
      ],
      "source": [
        "Sum \u2190 +/\n",
        "Sum 1 2 3 4"
      ]
    },
    {
      "cell_type": "markdown",
      "metadata": {},
      "source": [
        "Later on, in [the chapter about Tacit Programming](./Tacit-Programming.ipynb) you will see that you can even assign more primitives to a name, and those will behave in a very specific way.\n",
        "\n",
        "<!--begin remark-->\n",
        "***Remark***:\n",
        "\n",
        " > When assigning a new name to an existing tradfn, the contents of the original function are not duplicated.\n",
        "<!--end-->\n",
        "\n",
        "For example, here is a basic tradfn:"
      ]
    },
    {
      "cell_type": "code",
      "execution_count": 253,
      "metadata": {},
      "outputs": [],
      "source": [
        "\u2207 r \u2190 Add3 y\n",
        "    r \u2190 y+3\n",
        "\u2207"
      ]
    },
    {
      "cell_type": "markdown",
      "metadata": {},
      "source": [
        "And now we assign it a new name:"
      ]
    },
    {
      "cell_type": "code",
      "execution_count": 254,
      "metadata": {},
      "outputs": [],
      "source": [
        "NewName \u2190 Add3"
      ]
    },
    {
      "cell_type": "markdown",
      "metadata": {},
      "source": [
        "If we check `NewName`'s code, it will be `Add3`'s source code:"
      ]
    },
    {
      "cell_type": "code",
      "execution_count": 255,
      "metadata": {},
      "outputs": [
        {
          "data": {
            "text/html": [
              "<span style=\"white-space:pre; font-family: monospace\">    \u2207  r\u2190Add3 y\n",
              "[1]    r\u2190y+3   \n",
              "    \u2207          \n",
              "</span>"
            ]
          },
          "execution_count": 255,
          "metadata": {},
          "output_type": "execute_result"
        }
      ],
      "source": [
        "NewName"
      ]
    },
    {
      "cell_type": "markdown",
      "metadata": {},
      "source": [
        "And finally, if we modify `Add3`, `NewName` also gets modified:"
      ]
    },
    {
      "cell_type": "code",
      "execution_count": 256,
      "metadata": {},
      "outputs": [],
      "source": [
        "\u2207 r \u2190 Add3 y\n",
        "    r \u2190 y+30\n",
        "\u2207"
      ]
    },
    {
      "cell_type": "code",
      "execution_count": 257,
      "metadata": {},
      "outputs": [
        {
          "data": {
            "text/html": [
              "<span style=\"white-space:pre; font-family: monospace\">40\n",
              "</span>"
            ]
          },
          "execution_count": 257,
          "metadata": {},
          "output_type": "execute_result"
        }
      ],
      "source": [
        "NewName 10"
      ]
    },
    {
      "cell_type": "markdown",
      "metadata": {},
      "source": [
        "<!--begin tip-->\n",
        "***Tip***:\n",
        "\n",
        " > If you accidentally assign a function to a new name when you wanted to use that name for a value, you can use `)erase` to fix that.\n",
        "<!--end-->\n",
        "\n",
        "For example, say you typed this in your interpreter and accidentally pressed <kbd>Enter</kbd>:"
      ]
    },
    {
      "cell_type": "code",
      "execution_count": 258,
      "metadata": {},
      "outputs": [],
      "source": [
        "Val \u2190 Average"
      ]
    },
    {
      "cell_type": "markdown",
      "metadata": {},
      "source": [
        "But what you really wanted to type was:"
      ]
    },
    {
      "cell_type": "code",
      "execution_count": 259,
      "metadata": {},
      "outputs": [
        {
          "name": "stderr",
          "output_type": "stream",
          "text": [
            "SYNTAX ERROR: Invalid modified assignment, or an attempt was made to change nameclass on assignment\n",
            "      Val\u2190Average 41 11 19\n",
            "      \u2227\n"
          ]
        }
      ],
      "source": [
        "Val \u2190 Average 41 11 19"
      ]
    },
    {
      "cell_type": "markdown",
      "metadata": {},
      "source": [
        "You can see that gives a `SYNTAX ERROR` because you are trying to change `Val` from a function to a value, and the interpreter doesn't want you to do that.\n",
        "\n",
        "Instead, first erase `Val` with"
      ]
    },
    {
      "cell_type": "code",
      "execution_count": 260,
      "metadata": {},
      "outputs": [],
      "source": [
        ")erase Val"
      ]
    },
    {
      "cell_type": "markdown",
      "metadata": {},
      "source": [
        "and then assign it normally:"
      ]
    },
    {
      "cell_type": "code",
      "execution_count": 261,
      "metadata": {},
      "outputs": [],
      "source": [
        "Val \u2190 Average 41 11 19"
      ]
    },
    {
      "cell_type": "markdown",
      "metadata": {},
      "source": [
        "(User-Defined-Functions-About-the-Text-Editor)=\n",
        "## About the Text Editor\n",
        "\n",
        "Most of the features of the built-in Dyalog APL editor are very familiar to those of other common editors, but some are very specific and we therefore provide a brief description of the specific editing facilities of Dyalog APL."
      ]
    },
    {
      "cell_type": "markdown",
      "metadata": {},
      "source": [
        "(User-Defined-Functions-Invoking-the-Text-Editor)=\n",
        "### Invoking the Text Editor\n",
        "\n",
        "Double-clicking a name which represents an existing item invokes the editor and displays its contents, using the colour scheme appropriate for the type of the item (function, character matrix, nested array, etc) defined via \"Options\" &#8680; \"Colors...\" if you are using the Windows interpreter or via \"Edit\" &#8680; \"Preferences\" &#8680; \"Colours\" if you are using RIDE.\n",
        "\n",
        "You can also invoke the editor by pressing <kbd>Shift</kbd>+<kbd>Enter</kbd> when the input cursor is inside or adjacent to the name. This is perhaps the most convenient way as, when working in an APL session, you tend to use the keyboard much more than the mouse.\n",
        "\n",
        "Let us define a character matrix with the uppercase latin alphabet:"
      ]
    },
    {
      "cell_type": "code",
      "execution_count": 262,
      "metadata": {},
      "outputs": [
        {
          "data": {
            "text/html": [
              "<span style=\"white-space:pre; font-family: monospace\">ABCDEFGHIJKLM\n",
              "NOPQRSTUVWXYZ\n",
              "</span>"
            ]
          },
          "execution_count": 262,
          "metadata": {},
          "output_type": "execute_result"
        }
      ],
      "source": [
        "\u2395\u2190 charMat \u2190 2 13\u2374\u2395A"
      ]
    },
    {
      "cell_type": "markdown",
      "metadata": {},
      "source": [
        "For some items (e.g. numeric matrices, some nested arrays) the editor is only good for viewing them, while for others such as functions, text vectors and text matrices, the editor can also be used to edit them. In {numref}`fig-Win_Editor_Edit_Character_Matrix` we have invoked the editor, and changed the contents of our `charMat` variable:\n",
        "\n",
        "(fig-Win_Editor_Edit_Character_Matrix)=\n",
        "```{figure} res/Win_Editor_Edit_Character_Matrix.png\n",
        "---\n",
        "name: Win_Editor_Edit_Character_Matrix\n",
        "---\n",
        "Editing a character matrix with the built-in editor of the Windows interpreter.\n",
        "```\n",
        "\n",
        "In {numref}`fig-Win_Editor_Edit_Character_Matrix` the edit window tells us that we modified the character matrix. We must now fix it, like we did with dfns before, for the variable to reflect its new value. RIDE doesn't tell you that the character matrix was modified, but you still need to fix it if you want the new changes to come into effect.\n",
        "\n",
        "If we now fix the changes to `charMat`, it will become a matrix with 4 rows and 29 columns (the length of its longest row).\n",
        "\n",
        "If, for some reason, you made a mistake, you can exit the edit window *without* fixing the changes by pressing <kbd>Shift</kbd>+<kbd>Esc</kbd>.\n",
        "\n",
        "If a name is currently undefined (has no value), double-clicking or pressing <kbd>Shift</kbd>+<kbd>Enter</kbd> on that name invokes the editor on it as if it were a new function. This is one way to create a function.\n",
        "\n",
        "You can also invoke the editor using the command `)ED` as we did before. By default, it opens a **function** definition, but you can explicitly specify the type of a new object by prefixing its name with a special character, as shown in the table below.\n",
        "\n",
        "| Prefix | Example | Object Created |\n",
        "| :-: | :- | :- |\n",
        "| none | `)ed new` | Function | \n",
        "| `\u2207` | `)ed \u2207 borscht` | Function |\n",
        "| `-` | `)ed - papyrus` | Simple character matrix |\n",
        "| `\u2192` | `)ed \u2192 crouton` | Simple character vector |\n",
        "| `\u220a` | `)ed \u220a grunt` | Nested vector of character vectors, with one sub-vector per line |\n",
        "\n",
        "See also {numref}`Appendices-Invoking-the-Editor` for additional prefixes.\n",
        "\n",
        "It is possible to open several edit windows using a single command. For example, `)ed Tyrex -moose` will open two edit windows. The first to create or edit a function named `Tyrex` and the second to create a character matrix named `moose`.\n",
        "\n",
        "If a prefix is specified for the name of an already existing object, the prefix is ignored and the editor is invoked according to the type of the existing object.\n",
        "\n",
        "There are some other ways to invoke the editor:\n",
        "\n",
        " - use `\u2395ED` instead of the command `)ED`. For example: `\u2395ED 'Clown'`. `\u2395ED` is a *System function*, a concept that will be discussed in [a future chapter](./System-Interfaces.ipynb);\n",
        " - type a name, or put the input cursor on an existing name, and activate the menu \"Action\" &#8680; \"Edit\";\n",
        " - for the Windows interpreter, type a name or put the input cursor on an existing name, and click the \"Edit Object\" available in the toolbar (cf. {numref}`fig-Win_Toolbar_Edit_Object`).\n",
        " \n",
        "(fig-Win_Toolbar_Edit_Object)=\n",
        "```{figure} res/Win_Toolbar_Edit_Object.png\n",
        "---\n",
        "name: Win_Toolbar_Edit_Object\n",
        "---\n",
        "The \"Edit Object\" button in the toolbar of the Windows interpreter.\n",
        "```\n"
      ]
    },
    {
      "cell_type": "markdown",
      "metadata": {},
      "source": [
        "### What Can You Edit?"
      ]
    },
    {
      "cell_type": "markdown",
      "metadata": {},
      "source": [
        "The following table shows the different item types that can be displayed using the text editor. Some of them can be modified (are \"Editable\") while others cannot: they can only be viewed.\n",
        "\n",
        "The table contains a list of the item types, the default foreground and background colours used to represent them and a \"Yes\" or \"No\" depending on whether they can be modified or not.\n",
        "\n",
        "| Item type | Foreground | Background | Editable |\n",
        "| :- | :-: | :-: | :-: |\n",
        "| Function | *various* | White | Yes |\n",
        "| Character matrix | Green | Black | Yes |\n",
        "| Character vector | Black | White | Yes |\n",
        "| Vector of character vectors | Blue | Black | Yes |\n",
        "| Any numeric array | White | Grey | No |\n",
        "| Mixed array | Blue | Grey | No |\n",
        "| Object representation (`\u2395OR`) | White | Red | No |"
      ]
    },
    {
      "cell_type": "markdown",
      "metadata": {},
      "source": [
        "(User-Defined-Functions-What-Can-You-Do)=\n",
        "### What Can You Do?\n",
        "\n",
        "(User-Defined-Functions-Cut--Copy--Paste)=\n",
        "#### Cut / Copy / Paste\n",
        "\n",
        "it is possible to Cut / Copy / Paste text inside an edit window but also from one edit window to another one. It is also possible to copy text from the session window and paste it into any function, operator or editable variable, or vice-versa. So, if you have entered some experimental expressions in the session you can drag and drop them into a defined function.\n",
        "\n",
        "On Windows, if you installed the default keyboard layout that comes with Dyalog APL, it may happen that <kbd>Ctrl</kbd>+<kbd>c</kbd> produces an APL glyph instead of copying the selected text. If this is the case, you can either install a layout that doesn't have these collisions, like [abrudz's AltGr layout](https://github.com/abrudz/kbd), or you can right-click and then select Cut / Copy / Paste, instead of using the usual keyboard shortcuts."
      ]
    },
    {
      "cell_type": "markdown",
      "metadata": {},
      "source": [
        "(User-Defined-Functions-DragDrop-Restrictions)=\n",
        "#### Drag/Drop Restrictions\n",
        "\n",
        "You may *move* or *copy* test using drag/drop but the following behaviour applies:\n",
        "\n",
        " - if you drag/drop within the same Edit window, the default operation is a *move*. If you press the <kbd>Ctrl</kbd> key at the same time, the operation is a *copy*;\n",
        " - if you drag/drop text from one window to another window, the operation is always a *copy*;\n",
        " - if you drag/drop text within the Session window, the operation is always a *copy*."
      ]
    },
    {
      "cell_type": "markdown",
      "metadata": {},
      "source": [
        "(User-Defined-Functions-Exit-the-Editor)=\n",
        "#### Exit the Editor\n",
        "\n",
        "We have already seen the main ways of leaving the editor:\n",
        "\n",
        " - press the <kbd>Esc</kbd> key (or use \"File\" &#8680; \"Exit (and Fix)\" on the Windows editor). This fixes the modifications and closes the edit window;\n",
        " - press <kbd>Shift</kbd>+<kbd>Esc</kbd> (or use \"File &#8680; \"Exit and discard changes\" on the Windows editor). This leaves the editor without saving modifications; they are lost;\n",
        " - on Windows, \"File\" &#8680; \"Fix\" fixes the modifications but does not close the edit window."
      ]
    },
    {
      "cell_type": "markdown",
      "metadata": {},
      "source": [
        "(User-Defined-Functions-Undo-Redo-Replay)=\n",
        "### Undo, Redo, Replay\n",
        "\n",
        "(User-Defined-Functions-Undo)=\n",
        "#### Undo\n",
        "\n",
        "As long as the contents of an Edit window have not been fixed, it is possible to undo all the modifications made since the last fix.\n",
        "\n",
        "To ***undo*** modifications you can\n",
        "\n",
        " - press <kbd>Ctrl</kbd>+<kbd>Shift</kbd>+<kbd>Backspace</kbd> as many times as needed, or\n",
        " - activate the menu \"Edit\" &#8680; \"Undo\".\n",
        " \n",
        "If your APL keyboard layout allows it, you can also use <kbd>Ctrl</kbd>+<kbd>z</kbd>."
      ]
    },
    {
      "cell_type": "markdown",
      "metadata": {},
      "source": [
        "(User-Defined-Functions-Redo)=\n",
        "#### Redo\n",
        "\n",
        "Having used ***undo***, it is possible to restore the changes that you have undone, one by one.\n",
        "\n",
        "To ***redo*** modifications, you can\n",
        "\n",
        " - press <kbd>Ctrl</kbd>+<kbd>Shift</kbd>+<kbd>Enter</kbd> as many times as needed, or\n",
        " - activate the menu \"Edit\" &#8680; \"Redo\".\n",
        " \n",
        "If you APL keyboard layout allows it, you can also use <kbd>Ctrl</kbd>+<kbd>y</kbd>.\n",
        "\n",
        "It must be emphasised that the *Undo/Redo* facility applies only to the current window. If some pieces of text have been copied to another window, the contents of the other window are not affected by the *Undo* or *Redo* operations."
      ]
    },
    {
      "cell_type": "markdown",
      "metadata": {},
      "source": [
        "(User-Defined-Functions-Replay-Input-Lines)=\n",
        "#### Replay Input Lines\n",
        "\n",
        "The same keyboard shortcuts (<kbd>Ctrl</kbd>+<kbd>Shift</kbd>+<kbd>Backspace</kbd> and <kbd>Ctrl</kbd>+<kbd>Shift</kbd>+<kbd>Enter</kbd>) can be used to scroll up and down the statements that you have previously entered into the session window. For example, suppose you have made several sequential calculations that generate a considerable amount of output, only then to realise you made a mistake in the beginning.\n",
        "\n",
        "You *could* scroll back through the considerable amount of output to find the statement with the error. However, you can search just through the *input* statements instead (only the lines that you have entered, excluding any output), which are stored in a dedicated Input History buffer:\n",
        "\n",
        " - press <kbd>Ctrl</kbd>+<kbd>Shift</kbd>+<kbd>Backspace</kbd> to scroll back through the Input History Buffer as many times as needed;\n",
        " - press <kbd>Ctrl</kbd>+<kbd>Shift</kbd>+<kbd>Enter</kbd> to scroll forward if you went too far back.\n",
        "\n",
        "Once you have found the line, you can change it (or not) and then execute it again by pressing the <kbd>Enter</kbd> key.\n",
        "\n",
        "If you are using the Windows interpreter, you can control the size of this dedicated buffer with the following configuration parameter:\n",
        "\"Options\" &#8680; \"Configure...\" &#8680; \"Session\" &#8680; \"History buffer size\"\n",
        "\n",
        "<!-- (TODO) Say how to change this for RIDE users. -->"
      ]
    },
    {
      "cell_type": "markdown",
      "metadata": {},
      "source": [
        "(User-Defined-Functions-Miscellaneous)=\n",
        "## Miscellaneous\n",
        "\n",
        "\n",
        "(User-Defined-Functions-List-of-Variables-and-Functions)=\n",
        "### List of Variables and Functions\n",
        "\n",
        "You can obtain a list of your variables by typing"
      ]
    },
    {
      "cell_type": "code",
      "execution_count": 263,
      "metadata": {},
      "outputs": [
        {
          "data": {
            "text/html": [
              "<span style=\"white-space:pre; font-family: monospace\">FILEPATH        Val     a       actual  b       c       charMat chemistry       d       dream   dreamLines      \n",
              "file1   file2   filepath        forecast        hours   inverses        mat     nesMat  nm      number  salaries\n",
              "times   totMat  towns   u       v       var     which   x       zap     \n",
              "</span>"
            ]
          },
          "execution_count": 263,
          "metadata": {},
          "output_type": "execute_result"
        }
      ],
      "source": [
        ")vars"
      ]
    },
    {
      "cell_type": "markdown",
      "metadata": {},
      "source": [
        "and you can obtain a list of your functions by typing"
      ]
    },
    {
      "cell_type": "code",
      "execution_count": 264,
      "metadata": {},
      "outputs": [
        {
          "data": {
            "text/html": [
              "<span style=\"white-space:pre; font-family: monospace\">AMHM    AbsVal  Add3    Average BadSyntaxTradfn CasePotpourri   CheckVar        CollatzPath     Comment \n",
              "ComputeGrowthTime       ContinueInsideWhile     Count   Dispatch        DivideIt        Divisors        \n",
              "DivisorsNoLoops Endless Extract Fact    Fact2   HarmonicMean    Hypo    Ignore  Interlace       IsItExpensive   \n",
              "IsItExpensiveDfn        Lengths Magic   MultipleDestinations    MultiplyBy10    NestedRes       NewName Plus    \n",
              "PlusNoRes       PrintAB PrintCD PrintE  Prompt1 Prompt2 QuadRoot        Reverse Rho     Root    RootOf10        \n",
              "Round   SaneIsItExpensive       SetAThenPrint   SetBThenPrint   SetCThenPrint   SetDThenPrint   SetLocalE       \n",
              "ShyFun  Sign    Silly   Sum     Switch1 Switch2 Times   Times2  TimesTwo        To      TradHarmonicMean        \n",
              "Useless VarLevels       ZapMe   \n",
              "</span>"
            ]
          },
          "execution_count": 264,
          "metadata": {},
          "output_type": "execute_result"
        }
      ],
      "source": [
        ")fns"
      ]
    },
    {
      "cell_type": "markdown",
      "metadata": {},
      "source": [
        "(User-Defined-Functions-Use-of-the-Result)=\n",
        "### Use of the Result\n",
        "\n",
        "To sum up what we have already seen, once a function has been defined and we call it, its result can be:\n",
        "\n",
        " - Immediately displayed and lost:"
      ]
    },
    {
      "cell_type": "code",
      "execution_count": 265,
      "metadata": {},
      "outputs": [
        {
          "data": {
            "text/html": [
              "<span style=\"white-space:pre; font-family: monospace\">0.895522\n",
              "</span>"
            ]
          },
          "execution_count": 265,
          "metadata": {},
          "output_type": "execute_result"
        }
      ],
      "source": [
        "HarmonicMean times"
      ]
    },
    {
      "cell_type": "markdown",
      "metadata": {},
      "source": [
        " - Included in an expression:"
      ]
    },
    {
      "cell_type": "code",
      "execution_count": 266,
      "metadata": {},
      "outputs": [
        {
          "data": {
            "text/html": [
              "<span style=\"white-space:pre; font-family: monospace\">53.7313\n",
              "</span>"
            ]
          },
          "execution_count": 266,
          "metadata": {},
          "output_type": "execute_result"
        }
      ],
      "source": [
        "60\u00d7HarmonicMean times"
      ]
    },
    {
      "cell_type": "markdown",
      "metadata": {},
      "source": [
        " - Assigned to a variable:"
      ]
    },
    {
      "cell_type": "code",
      "execution_count": 267,
      "metadata": {},
      "outputs": [],
      "source": [
        "hours \u2190 HarmonicMean times"
      ]
    },
    {
      "cell_type": "markdown",
      "metadata": {},
      "source": [
        "(User-Defined-Functions-Vector-Representation)=\n",
        "### Vector Representation\n",
        "\n",
        "We saw that double-clicking on a function name invokes the editor and allows the user to edit the code. We can also type the name of the function and see its code:"
      ]
    },
    {
      "cell_type": "code",
      "execution_count": 268,
      "metadata": {},
      "outputs": [
        {
          "data": {
            "text/html": [
              "<span style=\"white-space:pre; font-family: monospace\">    \u2207  mean\u2190TradHarmonicMean argVector;inverses\n",
              "[1]    inverses\u2190\u00f7argVector                     \n",
              "[2]    mean\u2190\u00f7+/inverses                        \n",
              "    \u2207                                          \n",
              "</span>"
            ]
          },
          "execution_count": 268,
          "metadata": {},
          "output_type": "execute_result"
        }
      ],
      "source": [
        "TradHarmonicMean"
      ]
    },
    {
      "cell_type": "markdown",
      "metadata": {},
      "source": [
        "One can also obtain this representation (as a character array) using the built-in ***System function*** `\u2395VR` (for \"*Vector Representation*\") of Dyalog APL. *System functions* are a special kind of function provided with the development environment. The first character of their name is a ***Quad*** (`\u2395`) which guarantees that they cannot conflict with user-defined names, and their names are also case-insensitive:"
      ]
    },
    {
      "cell_type": "code",
      "execution_count": 269,
      "metadata": {},
      "outputs": [
        {
          "data": {
            "text/html": [
              "<span style=\"white-space:pre; font-family: monospace\">     \u2207 mean\u2190TradHarmonicMean argVector;inverses\n",
              "[1]    inverses\u2190\u00f7argVector                     \n",
              "[2]    mean\u2190\u00f7+/inverses                        \n",
              "     \u2207                                         \n",
              "</span>"
            ]
          },
          "execution_count": 269,
          "metadata": {},
          "output_type": "execute_result"
        }
      ],
      "source": [
        "\u2395VR 'TradHarmonicMean'"
      ]
    },
    {
      "cell_type": "code",
      "execution_count": 270,
      "metadata": {},
      "outputs": [
        {
          "data": {
            "text/html": [
              "<span style=\"white-space:pre; font-family: monospace\">     \u2207 mean\u2190TradHarmonicMean argVector;inverses\n",
              "[1]    inverses\u2190\u00f7argVector                     \n",
              "[2]    mean\u2190\u00f7+/inverses                        \n",
              "     \u2207                                         \n",
              "</span>"
            ]
          },
          "execution_count": 270,
          "metadata": {},
          "output_type": "execute_result"
        }
      ],
      "source": [
        "\u2395Vr 'TradHarmonicMean'"
      ]
    },
    {
      "cell_type": "code",
      "execution_count": 271,
      "metadata": {},
      "outputs": [
        {
          "data": {
            "text/html": [
              "<span style=\"white-space:pre; font-family: monospace\">     \u2207 mean\u2190TradHarmonicMean argVector;inverses\n",
              "[1]    inverses\u2190\u00f7argVector                     \n",
              "[2]    mean\u2190\u00f7+/inverses                        \n",
              "     \u2207                                         \n",
              "</span>"
            ]
          },
          "execution_count": 271,
          "metadata": {},
          "output_type": "execute_result"
        }
      ],
      "source": [
        "\u2395vr 'TradHarmonicMean'"
      ]
    },
    {
      "cell_type": "code",
      "execution_count": 272,
      "metadata": {},
      "outputs": [
        {
          "data": {
            "text/html": [
              "<span style=\"white-space:pre; font-family: monospace\">     \u2207 mean\u2190TradHarmonicMean argVector;inverses\n",
              "[1]    inverses\u2190\u00f7argVector                     \n",
              "[2]    mean\u2190\u00f7+/inverses                        \n",
              "     \u2207                                         \n",
              "</span>"
            ]
          },
          "execution_count": 272,
          "metadata": {},
          "output_type": "execute_result"
        }
      ],
      "source": [
        "\u2395vR 'TradHarmonicMean'"
      ]
    },
    {
      "cell_type": "markdown",
      "metadata": {},
      "source": [
        "Note that this is quite unusual in a programming language. The result of `\u2395VR` is a character vector representing the source code of our function, which is now available for processing by other functions in the workspace!\n",
        "\n",
        "System functions will be discussed in detail in [a later chapter](./System-Interfaces.ipynb)."
      ]
    },
    {
      "cell_type": "markdown",
      "metadata": {},
      "source": [
        "(User-Defined-Functions-Source-Code-Management)=\n",
        "### Source Code Management\n",
        "\n",
        "Up to now, all the functions and operators we defined were created with an APL code editor and stored in an APL workspace.\n",
        "\n",
        "This monolithic *one-workspace* approach to application development works well for small applications developed by single programmers, but is often inappropriate for large applications developed by single programmers. Some groups have tacked this problem by storing code in ancillary workspaces or special files. Code is then copied dynamically into the main workspace when required, using techniques that will be explained later.\n",
        "\n",
        "Had the same application been developed in a more traditional language, programs would be entered and modified using a text editor, stored in separate text files, and maintained independently from one another under the aegis of a *source code management* system that allows the team of programmers to coordinate their activities and keep track of changes.\n",
        "\n",
        "This type of application development approach is also available in Dyalog APL, using source code management systems like ***SALT*** (for *Simple APL Library Toolkit*) and ***Link***.\n",
        "\n",
        "These systems make it possible to store sets of APL functions, operators and variables in text files that may be edited and managed using either the built-in APL code editor or industry standard tools This makes it easier to share code between projects and teams of developers.\n",
        "\n",
        "To take full advantage of this new technique of developing applications, you should first learn about *Namespaces* and related topics, notations and commands. For this reason, these tools will be studied later in [the chapter about source code management](./Source-Code-Management.ipynb)."
      ]
    },
    {
      "cell_type": "markdown",
      "metadata": {},
      "source": [
        "(fig-Drowning)=\n",
        "```{figure} res/Drowning.png\n",
        "---\n",
        "name: Drowning\n",
        "---\n",
        "Person drowning in APL glyphs is reassured by someone else telling him about the \"First Aid Kit\" chapter.\n",
        "```\n"
      ]
    },
    {
      "cell_type": "markdown",
      "metadata": {},
      "source": [
        "(User-Defined-Functions-Exercises-on-Tradfns)=\n",
        "## Exercises on Tradfns\n",
        "\n",
        "**Exercise 11**:\n",
        "\n",
        "Write a function which displays the greatest value in a numeric matrix, along with its position (row and column) in the matrix, for example:"
      ]
    },
    {
      "cell_type": "code",
      "execution_count": 347,
      "metadata": {},
      "outputs": [],
      "source": [
        "\u2207 msg \u2190 MaxPlace matrix\n",
        "\u2207"
      ]
    },
    {
      "cell_type": "code",
      "execution_count": 348,
      "metadata": {},
      "outputs": [],
      "source": [
        "MaxPlace actual\n",
        "\u235d The greatest value: 519, is in row 4, column 4"
      ]
    },
    {
      "cell_type": "markdown",
      "metadata": {},
      "source": [
        "**Exercise 12**:\n",
        "\n",
        "Conversions from Celsius to Fahrenheit degrees and back can be done using the following formulas:\n",
        "\n",
        " - `F \u2190 32+9\u00d7C\u00f75` converts from Celsius to Fahrenheit;\n",
        " - `C \u2190 5\u00d7(F-32)\u00f79` converts from Fahrenheit to Celsius.\n",
        " \n",
        " Can you program a function that makes the conversion `C\u2192F` or `F\u2192C` according to its right argument?"
      ]
    },
    {
      "cell_type": "code",
      "execution_count": 349,
      "metadata": {},
      "outputs": [],
      "source": [
        "\u2207 converted \u2190 temps Convert conversion\n",
        "\u2207"
      ]
    },
    {
      "cell_type": "code",
      "execution_count": 350,
      "metadata": {},
      "outputs": [],
      "source": [
        "86 32 212 Convert 'F-C' \u235d 30 0 100\n",
        "7 15 25   Convert 'C-F' \u235d 44.6 59 7"
      ]
    },
    {
      "cell_type": "markdown",
      "metadata": {},
      "source": [
        "**Exercise 13**:\n",
        "\n",
        "Summing the items of a vector is so simple in APL (`+/vec`) that one cannot understand why this simple problem needs a loop in traditional languages! Just for fun, can you program such a loop in APL? Use control structures."
      ]
    },
    {
      "cell_type": "code",
      "execution_count": 351,
      "metadata": {
        "scrolled": true
      },
      "outputs": [
        {
          "data": {
            "text/html": [
              "<span style=\"white-space:pre; font-family: monospace\">260\n",
              "</span>"
            ]
          },
          "execution_count": 351,
          "metadata": {},
          "output_type": "execute_result"
        }
      ],
      "source": [
        "+/ 31 37 44 19 27 60 42"
      ]
    },
    {
      "cell_type": "code",
      "execution_count": 352,
      "metadata": {},
      "outputs": [],
      "source": [
        "\u2207 sum \u2190 LoopSum vec\n",
        "\u2207"
      ]
    },
    {
      "cell_type": "code",
      "execution_count": 353,
      "metadata": {},
      "outputs": [],
      "source": [
        "LoopSum 31 37 44 19 27 60 42 \u235d 260"
      ]
    },
    {
      "cell_type": "markdown",
      "metadata": {},
      "source": [
        "**Exercise 14:**\n",
        "\n",
        "In exercise 3 you were asked to reverse the order of a vector of items. Even if it is a strange idea, can you do the same operation using a loop, moving letter after letter?"
      ]
    },
    {
      "cell_type": "code",
      "execution_count": 354,
      "metadata": {},
      "outputs": [],
      "source": [
        "\u2207 reversed \u2190 ReverLoop vec\n",
        "\u2207"
      ]
    },
    {
      "cell_type": "code",
      "execution_count": null,
      "metadata": {},
      "outputs": [],
      "source": [
        "ReverLoop 'The solution without loop was much better'\n",
        "\u235d retteb hcum saw pool tuohtiw noitulos ehT"
      ]
    },
    {
      "cell_type": "markdown",
      "metadata": {},
      "source": [
        "**Exercise 15**:\n",
        "\n",
        "In a given numeric matrix with $n$ columns, we would like to insert subtotals after each group of $g$ columns (where $g$ is a divisor of $n$).\n",
        "\n",
        "Try to write a function to do that, following these 3 steps:\n",
        "\n",
        " 1. Reshape the matrix so that it fits in $g$ columns only, with the necessary number of rows to contain all the values.\n",
        " 2. Concatenate, on the right, the totals of each row.\n",
        " 3. Reshape again that new matrix to obtain the final result.\n",
        " \n",
        "In the examples below, the original matrix appears in black and the subtotals appear in grey:"
      ]
    },
    {
      "cell_type": "code",
      "execution_count": 10,
      "metadata": {
        "scrolled": true
      },
      "outputs": [
        {
          "data": {
            "text/html": [
              "<span style=\"white-space:pre; font-family: monospace\"> 89 166 420 508  12  23\n",
              "111 453 177 365 284 352\n",
              "349 192 329 115 515 374\n",
              "160 467 234 519 485 283\n",
              "</span>"
            ]
          },
          "execution_count": 10,
          "metadata": {},
          "output_type": "execute_result"
        }
      ],
      "source": [
        "actual"
      ]
    },
    {
      "cell_type": "markdown",
      "metadata": {},
      "source": [
        "`3 SubSum actual` should give\n",
        "\n",
        "$$\n",
        "\\begin{matrix}\n",
        " 89 & 166 & 420 &\\color{grey}{675} & 508 & 12 &  23 &\\color{grey}{543} \\\\\n",
        "111 & 453 & 177 &\\color{grey}{741} & 365 & 284 & 352 &\\color{grey}{1001} \\\\\n",
        "349 & 192 & 329 &\\color{grey}{870} & 115 & 515 & 374 &\\color{grey}{1004} \\\\\n",
        "160 & 467 & 234 &\\color{grey}{861} & 519 & 485 & 283 &\\color{grey}{1287}  \n",
        "\\end{matrix}\n",
        "$$\n",
        "\n",
        "and `2 SubSum actual` should give\n",
        "\n",
        "$$\n",
        "\\begin{matrix}\n",
        " 89 & 166 &\\color{grey}{255} & 420 & 508 &\\color{grey}{928} & 12 &  23 &\\color{grey}{35} \\\\\n",
        "111 & 453 &\\color{grey}{564} & 177 & 365 &\\color{grey}{542} & 284 & 352 &\\color{grey}{636} \\\\\n",
        "349 & 192 &\\color{grey}{541} & 329 & 115 &\\color{grey}{444} & 515 & 374 &\\color{grey}{889} \\\\\n",
        "160 & 467 &\\color{grey}{627} & 234 & 519 &\\color{grey}{753} & 485 & 283 &\\color{grey}{768}  \n",
        "\\end{matrix}\n",
        "$$"
      ]
    },
    {
      "cell_type": "markdown",
      "metadata": {},
      "source": [
        "**Exercise 16**:\n",
        "\n",
        "This is a very classic problem: we want to partition a text vector each time a given separator is found and make a matrix from these pieces. Please bear in mind that is exercise is very manageable if you let yourself use a couple of control flow structures. However, solving this exercise with a dfn requires you to make an ingenious use of a primitive we have covered previously."
      ]
    },
    {
      "cell_type": "code",
      "execution_count": 106,
      "metadata": {},
      "outputs": [],
      "source": [
        "\u2207 mat \u2190 sep Sorry string\n",
        "\u2207"
      ]
    },
    {
      "cell_type": "code",
      "execution_count": 107,
      "metadata": {},
      "outputs": [],
      "source": [
        "'/' Sorry 'You/will/need a/loop/to solve/this/exercise'\n",
        "\u235d You\n",
        "\u235d will\n",
        "\u235d need a\n",
        "\u235d loop\n",
        "\u235d to solve\n",
        "\u235d this\n",
        "\u235d exercise"
      ]
    },
    {
      "cell_type": "markdown",
      "metadata": {},
      "source": [
        "**Exercise 17**:\n",
        "\n",
        "Remember when we talked about the [\"Collatz Conjecture\"](https://en.wikipedia.org/wiki/Collatz_conjecture) earlier on? Don't worry if you don't. Now, you will implement a function that takes a positive integer `n` and creates a vector of numbers by successively taking the most recent number and then creating the next value according to a couple of rules:\n",
        "\n",
        " - if the most recent number is **even**, the next value will be half of it;\n",
        " - if the most recent number is **odd**, the next value will be 1 more than the triple of it; and\n",
        " - you stop when you reach 1.\n",
        " \n",
        "For example, starting with `5` you get `5 16 8 4 2 1`.\n",
        "\n",
        "It is believed that no matter what initial positive integer `n` you give it, this process always stops at 1."
      ]
    },
    {
      "cell_type": "code",
      "execution_count": 108,
      "metadata": {},
      "outputs": [],
      "source": [
        "\u2207 path \u2190 CollatzPath n\n",
        "\u2207"
      ]
    },
    {
      "cell_type": "code",
      "execution_count": 109,
      "metadata": {},
      "outputs": [],
      "source": [
        "CollatzPath 37\n",
        "\u235d 37 112 56 28 14 7 22 11 34 17 52 26 13 40 20 10 5 16 8 4 2 1"
      ]
    },
    {
      "cell_type": "markdown",
      "metadata": {},
      "source": [
        "(User-Defined-Functions-Exercise-Variants)=\n",
        "### Exercise Variants\n",
        "\n",
        "Now that you were given some exercises on dfns (cf. {numref}`User-Defined-Functions-Exercises-on-Dfns`) and some exercises on tradfns (cf. {numref}`User-Defined-Functions-Exercises-on-Tradfns`), which ones can you solve with the other method? Solving exercises 11 to 17 with dfns will be harder than solving exercises 1 to 10 with tradfns.\n",
        "\n",
        "Also, can you solve exercise 17 with a recursive function? Either dfn or tradfn, your choice."
      ]
    },
    {
      "cell_type": "markdown",
      "metadata": {},
      "source": [
        "(User-Defined-Functions-The-Specialists-Section)=\n",
        "## The Specialist's Section\n",
        "\n",
        "<br />\n",
        "<center><i>Each chapter is followed by a \"Specialist's Section\" like this one. This section is dedicated to skilled APLers, who wish to improve their knowledge.</i>\n",
        "    \n",
        "You will find here rare or complex usages of the concepts presented in this chapter, or discover extended explanations which need the knowledge of some symbols that will be seen much further in the book.\n",
        "    \n",
        "<b>If you are exploring APL for the first time, skip this section and go to the next chapter.</b></center>"
      ]
    },
    {
      "cell_type": "markdown",
      "metadata": {},
      "source": [
        "(User-Defined-Functions-Shadowed-Names)=\n",
        "### Shadowed Names\n",
        "\n",
        "A name can be localised in a tradfn only if the programmer explicitly specifies its name in the function header. But a function can dynamically define new variables or new functions, using Execute (`\u234e`) and `\u2395FX`.\n",
        "\n",
        "So, during function execution, names of new variables and functions may be created dynamically. They could not therefore be localised explicitly when the function was written, but they can be localised, or ***Shadowed***, dynamically at runtime.\n",
        "\n",
        "One or more names can be shadowed using the System function `\u2395SHADOW`, which accepts a vector of names separated by blanks, or a matrix of names with one name per row (but **not** a nested vector of names). For example, let us define a niladic tradfn `Demonstration`:"
      ]
    },
    {
      "cell_type": "code",
      "execution_count": 7,
      "metadata": {},
      "outputs": [],
      "source": [
        "\u2207 Demonstration\n",
        "    'This is just'\n",
        "    'a demo function'\n",
        "\u2207"
      ]
    },
    {
      "cell_type": "markdown",
      "metadata": {},
      "source": [
        "and have `dummy` hold its *canonical representation*:"
      ]
    },
    {
      "cell_type": "code",
      "execution_count": 8,
      "metadata": {},
      "outputs": [
        {
          "data": {
            "text/html": [
              "<span style=\"white-space:pre; font-family: monospace\"> Demonstration    \n",
              " 'This is just'   \n",
              " 'a demo function'\n",
              "</span>"
            ]
          },
          "execution_count": 8,
          "metadata": {},
          "output_type": "execute_result"
        }
      ],
      "source": [
        "\u2395\u2190 dummy \u2190 \u2395CR 'Demonstration'"
      ]
    },
    {
      "cell_type": "markdown",
      "metadata": {},
      "source": [
        "Now that we have `Demonstration`'s canonical representation, we can erase the function from our workspace:"
      ]
    },
    {
      "cell_type": "code",
      "execution_count": 9,
      "metadata": {},
      "outputs": [],
      "source": [
        ")erase Demonstration"
      ]
    },
    {
      "cell_type": "markdown",
      "metadata": {},
      "source": [
        "Let's now define a function `Ombra` with no localised names:"
      ]
    },
    {
      "cell_type": "code",
      "execution_count": 10,
      "metadata": {},
      "outputs": [],
      "source": [
        "\u2207 vecRepr Ombra text\n",
        "    \u2395SHADOW text,' ',vecRepr[1;]\n",
        "    \u234etext,'\u21901'\n",
        "    \u234e\u2395FX vecRepr\n",
        "    \u235d... \u235d Intentional error.\n",
        "\u2207"
      ]
    },
    {
      "cell_type": "markdown",
      "metadata": {},
      "source": [
        "Let us execute it:"
      ]
    },
    {
      "cell_type": "code",
      "execution_count": 11,
      "metadata": {},
      "outputs": [
        {
          "data": {
            "text/html": [
              "<span style=\"white-space:pre; font-family: monospace\">This is just\n",
              "a demo function\n",
              "</span>"
            ]
          },
          "execution_count": 11,
          "metadata": {},
          "output_type": "execute_result"
        }
      ],
      "source": [
        "dummy Ombra 'new'"
      ]
    },
    {
      "cell_type": "markdown",
      "metadata": {},
      "source": [
        "The function `Ombra` above\n",
        "\n",
        " - starts by shadowing the names `new` and `Demonstration`,\n",
        " - then dynamically creates a variable named `new`\n",
        " - and finally fixes a new function named `Demonstration` and executes it.\n",
        "\n",
        "If you are using an interpreter, you can try uncommenting the final line of the `Ombra` tradfn so that the tracer interrupts function execution inside the tradfn. That way, you can check the names `new` and `Demonstration` have been created. But when the function completes, `new` and `Demonstration` disappear, as they were only local names:"
      ]
    },
    {
      "cell_type": "code",
      "execution_count": 12,
      "metadata": {},
      "outputs": [
        {
          "name": "stderr",
          "output_type": "stream",
          "text": [
            "VALUE ERROR: Undefined name: new\n",
            "      new\n",
            "      \u2227\n"
          ]
        }
      ],
      "source": [
        "new"
      ]
    },
    {
      "cell_type": "code",
      "execution_count": 13,
      "metadata": {},
      "outputs": [
        {
          "name": "stderr",
          "output_type": "stream",
          "text": [
            "VALUE ERROR: Undefined name: Demonstration\n",
            "      Demonstration\n",
            "      \u2227\n"
          ]
        }
      ],
      "source": [
        "Demonstration"
      ]
    },
    {
      "cell_type": "markdown",
      "metadata": {},
      "source": [
        "(User-Defined-Functions-Scoping-in-Nested-Function-Calls)=\n",
        "### Scoping in Nested Function Calls\n",
        "\n",
        "(User-Defined-Functions-Reading-the-Callers-Names)=\n",
        "#### Reading the Caller's Names\n",
        "\n",
        "We have seen that dfns have lexical scoping and that tradfns have dynamic scoping, but this can become complicated when we have dfns calling tradfns and tradfns calling dfns.\n",
        "\n",
        "We will now try to answer the following question: when a function calls another independent function, can the callee read a name from the caller?\n",
        "We already know that if both the caller and callee are dfns, then the answer is *no*; on the other hand, if both the caller and the callee are tradfns, the answer is *yes*.\n",
        "In this exploration we will also show that the answer is *yes* for the cases when a dfn calls a tradfn and when a tradfn calls a dfn:\n",
        "\n",
        "| Can a callee \u2193 read a name from the caller \u2192 ? | dfn | tradfn |\n",
        "| :- | :- | :- |\n",
        "| dfn | No | Yes |\n",
        "| tradfn | Yes | Yes |\n",
        "\n",
        "For our investigation we will define two \"inner\" functions (a dfn and a tradfn) that will act as the callee.\n",
        "Then we just need to write \"outer\" functions that act as the callers.\n",
        "To make our lives easier, all these functions will be dealing with a single variable named `t`, that we also set in the global scope:"
      ]
    },
    {
      "cell_type": "code",
      "execution_count": 79,
      "metadata": {},
      "outputs": [],
      "source": [
        "t \u2190 'global var'"
      ]
    },
    {
      "cell_type": "code",
      "execution_count": 80,
      "metadata": {},
      "outputs": [],
      "source": [
        "]dinput\n",
        "InnerDfn \u2190 {\n",
        "    \u2395\u2190 t\n",
        "    \u236c\n",
        "}"
      ]
    },
    {
      "cell_type": "code",
      "execution_count": 81,
      "metadata": {},
      "outputs": [
        {
          "data": {
            "text/html": [
              "<span style=\"white-space:pre; font-family: monospace\">global var\n",
              "\n",
              "</span>"
            ]
          },
          "execution_count": 81,
          "metadata": {},
          "output_type": "execute_result"
        }
      ],
      "source": [
        "InnerDfn\u236c"
      ]
    },
    {
      "cell_type": "code",
      "execution_count": 82,
      "metadata": {},
      "outputs": [],
      "source": [
        "\u2207 x \u2190 InnerTradfn x\n",
        "    \u2395\u2190 t\n",
        "\u2207"
      ]
    },
    {
      "cell_type": "code",
      "execution_count": 83,
      "metadata": {},
      "outputs": [
        {
          "data": {
            "text/html": [
              "<span style=\"white-space:pre; font-family: monospace\">global var\n",
              "\n",
              "</span>"
            ]
          },
          "execution_count": 83,
          "metadata": {},
          "output_type": "execute_result"
        }
      ],
      "source": [
        "InnerTradfn\u236c"
      ]
    },
    {
      "cell_type": "markdown",
      "metadata": {},
      "source": [
        "Now we create dfns and tradfns that assign locally to `t`, and then call the \"inner\" functions to see what value of `t` they actually print.\n",
        "We start by confirming the answers we already have, first by showing that if a dfn calls an independent dfn, then the callee cannot see the caller's names:"
      ]
    },
    {
      "cell_type": "code",
      "execution_count": 84,
      "metadata": {},
      "outputs": [],
      "source": [
        "]dinput\n",
        "DfnCallsDfn \u2190 {\n",
        "    t \u2190 'DfnCallsDfn'\n",
        "    InnerDfn\u236c\n",
        "}"
      ]
    },
    {
      "cell_type": "code",
      "execution_count": 85,
      "metadata": {},
      "outputs": [
        {
          "data": {
            "text/html": [
              "<span style=\"white-space:pre; font-family: monospace\">global var\n",
              "\n",
              "</span>"
            ]
          },
          "execution_count": 85,
          "metadata": {},
          "output_type": "execute_result"
        }
      ],
      "source": [
        "DfnCallsDfn\u236c"
      ]
    },
    {
      "cell_type": "markdown",
      "metadata": {},
      "source": [
        "Now we show that if the callee and the caller are tradfns, then the callee can read the caller's names, *even if* the caller localises its names:"
      ]
    },
    {
      "cell_type": "code",
      "execution_count": 86,
      "metadata": {},
      "outputs": [],
      "source": [
        "\u2207 x \u2190 TradfnCallsTradfn x; t\n",
        "    t \u2190 'TradfnCallsTradfn'\n",
        "    InnerTradfn \u236c\n",
        "\u2207"
      ]
    },
    {
      "cell_type": "code",
      "execution_count": 87,
      "metadata": {},
      "outputs": [
        {
          "data": {
            "text/html": [
              "<span style=\"white-space:pre; font-family: monospace\">TradfnCallsTradfn\n",
              "\n",
              "\n",
              "</span>"
            ]
          },
          "execution_count": 87,
          "metadata": {},
          "output_type": "execute_result"
        }
      ],
      "source": [
        "TradfnCallsTradfn\u236c"
      ]
    },
    {
      "cell_type": "markdown",
      "metadata": {},
      "source": [
        "Now we are left with the dfn-tradfn and tradfn-dfn cases:"
      ]
    },
    {
      "cell_type": "code",
      "execution_count": 88,
      "metadata": {},
      "outputs": [],
      "source": [
        "]dinput\n",
        "DfnCallsTradfn \u2190 {\n",
        "    t \u2190 'DfnCallsTradfn'\n",
        "    InnerTradfn\u236c\n",
        "}"
      ]
    },
    {
      "cell_type": "code",
      "execution_count": 89,
      "metadata": {},
      "outputs": [
        {
          "data": {
            "text/html": [
              "<span style=\"white-space:pre; font-family: monospace\">DfnCallsTradfn\n",
              "\n",
              "</span>"
            ]
          },
          "execution_count": 89,
          "metadata": {},
          "output_type": "execute_result"
        }
      ],
      "source": [
        "DfnCallsTradfn\u236c"
      ]
    },
    {
      "cell_type": "code",
      "execution_count": 90,
      "metadata": {},
      "outputs": [],
      "source": [
        "\u2207 x \u2190 TradfnCallsDfn x; t\n",
        "    t \u2190 'TradfnCallsDfn'\n",
        "    InnerDfn\u236c\n",
        "\u2207"
      ]
    },
    {
      "cell_type": "code",
      "execution_count": 91,
      "metadata": {},
      "outputs": [
        {
          "data": {
            "text/html": [
              "<span style=\"white-space:pre; font-family: monospace\">TradfnCallsDfn\n",
              "\n",
              "\n",
              "</span>"
            ]
          },
          "execution_count": 91,
          "metadata": {},
          "output_type": "execute_result"
        }
      ],
      "source": [
        "TradfnCallsDfn\u236c"
      ]
    },
    {
      "cell_type": "markdown",
      "metadata": {},
      "source": [
        "As we can see, with respect to accessing the caller's variables, a dfn calling a tradfn and a tradfn calling a dfn behave in the same way as a tradfn that calls a tradfn, which confirms the table in the beginning of this sub-subsection.\n",
        "\n",
        "It is worthwhile mentioning that the global value of `t` remains intact:"
      ]
    },
    {
      "cell_type": "code",
      "execution_count": 92,
      "metadata": {},
      "outputs": [
        {
          "data": {
            "text/html": [
              "<span style=\"white-space:pre; font-family: monospace\">global var\n",
              "</span>"
            ]
          },
          "execution_count": 92,
          "metadata": {},
          "output_type": "execute_result"
        }
      ],
      "source": [
        "t"
      ]
    },
    {
      "cell_type": "markdown",
      "metadata": {},
      "source": [
        "(User-Defined-Functions-Modifying-the-Callers-Names)=\n",
        "#### Modifying the Caller's Names\n",
        "\n",
        "It was shown before that a called function may read the value of the caller, but can it change its value?\n",
        "If the callee is a tradfn, you can change the value of the caller's name with a plain assignment, because names in tradfns\n",
        "are not localised by default:"
      ]
    },
    {
      "cell_type": "code",
      "execution_count": 93,
      "metadata": {},
      "outputs": [
        {
          "data": {
            "text/html": [
              "<span style=\"white-space:pre; font-family: monospace\">global var\n",
              "</span>"
            ]
          },
          "execution_count": 93,
          "metadata": {},
          "output_type": "execute_result"
        }
      ],
      "source": [
        "t"
      ]
    },
    {
      "cell_type": "code",
      "execution_count": 94,
      "metadata": {},
      "outputs": [],
      "source": [
        "\u2207 x \u2190 InnerTradfn x\n",
        "    \u2395\u2190 'inner t: ',t\n",
        "    t \u2190 'InnerTradfn'\n",
        "    \u2395\u2190 'inner t: ',t\n",
        "\u2207"
      ]
    },
    {
      "cell_type": "code",
      "execution_count": 96,
      "metadata": {},
      "outputs": [],
      "source": [
        "\u2207 x \u2190 OuterTradfn x; t\n",
        "    t \u2190 'OuterTradfn'\n",
        "    \u2395\u2190 'outer t: ',t\n",
        "    _\u2190 InnerTradfn\u236c\n",
        "    \u2395\u2190 'outer t: ',t\n",
        "\u2207"
      ]
    },
    {
      "cell_type": "code",
      "execution_count": 97,
      "metadata": {},
      "outputs": [
        {
          "data": {
            "text/html": [
              "<span style=\"white-space:pre; font-family: monospace\">outer t: OuterTradfn\n",
              "inner t: OuterTradfn\n",
              "inner t: InnerTradfn\n",
              "outer t: InnerTradfn\n",
              "\n",
              "</span>"
            ]
          },
          "execution_count": 97,
          "metadata": {},
          "output_type": "execute_result"
        }
      ],
      "source": [
        "OuterTradfn\u236c"
      ]
    },
    {
      "cell_type": "code",
      "execution_count": 98,
      "metadata": {},
      "outputs": [],
      "source": [
        "]dinput\n",
        "OuterDfn \u2190 {\n",
        "    t \u2190 'OuterDfn'\n",
        "    \u2395\u2190 'outer t: ',t\n",
        "    _\u2190 InnerTradfn\u236c\n",
        "    \u2395\u2190 'outer t: ',t\n",
        "    \u236c\n",
        "}"
      ]
    },
    {
      "cell_type": "code",
      "execution_count": 99,
      "metadata": {},
      "outputs": [
        {
          "data": {
            "text/html": [
              "<span style=\"white-space:pre; font-family: monospace\">outer t: OuterDfn\n",
              "inner t: OuterDfn\n",
              "inner t: InnerTradfn\n",
              "outer t: InnerTradfn\n",
              "\n",
              "</span>"
            ]
          },
          "execution_count": 99,
          "metadata": {},
          "output_type": "execute_result"
        }
      ],
      "source": [
        "OuterDfn\u236c"
      ]
    },
    {
      "cell_type": "markdown",
      "metadata": {},
      "source": [
        "However, if the callee is a dfn, plain assignment will create a new, local variable, with the same name as the one in the caller's scope.\n",
        "That happens because names in dfns are local by default:"
      ]
    },
    {
      "cell_type": "code",
      "execution_count": 100,
      "metadata": {},
      "outputs": [],
      "source": [
        "]dinput\n",
        "InnerDfn \u2190 {\n",
        "    \u2395\u2190 'inner t: ',t\n",
        "    t \u2190 'InnerDfn'\n",
        "    \u2395\u2190 'inner t: ',t\n",
        "    \u236c\n",
        "}"
      ]
    },
    {
      "cell_type": "code",
      "execution_count": 101,
      "metadata": {},
      "outputs": [],
      "source": [
        "\u2207 x \u2190 OuterTradfn x; t\n",
        "    t \u2190 'OuterTradfn'\n",
        "    \u2395\u2190 'outer t: ',t\n",
        "    _\u2190 InnerDfn\u236c\n",
        "    \u2395\u2190 'outer t: ',t\n",
        "\u2207"
      ]
    },
    {
      "cell_type": "code",
      "execution_count": 102,
      "metadata": {},
      "outputs": [
        {
          "data": {
            "text/html": [
              "<span style=\"white-space:pre; font-family: monospace\">outer t: OuterTradfn\n",
              "inner t: OuterTradfn\n",
              "inner t: InnerDfn\n",
              "outer t: OuterTradfn\n",
              "\n",
              "</span>"
            ]
          },
          "execution_count": 102,
          "metadata": {},
          "output_type": "execute_result"
        }
      ],
      "source": [
        "OuterTradfn\u236c"
      ]
    },
    {
      "cell_type": "markdown",
      "metadata": {},
      "source": [
        "In this case, if you want to modify the name of the caller you have to trick APL into thinking you are *reading* from the name and *writing* to it at the same time, for example with a redundant modified assignment:"
      ]
    },
    {
      "cell_type": "code",
      "execution_count": 103,
      "metadata": {},
      "outputs": [],
      "source": [
        "]dinput\n",
        "InnerDfn \u2190 {\n",
        "    \u2395\u2190 'inner t: ',t\n",
        "    t \u22a2\u2190 'InnerDfn'    \u235d Notice the modified assignment with \u22a2\n",
        "    \u2395\u2190 'inner t: ',t\n",
        "    \u236c\n",
        "}"
      ]
    },
    {
      "cell_type": "code",
      "execution_count": 104,
      "metadata": {},
      "outputs": [
        {
          "data": {
            "text/html": [
              "<span style=\"white-space:pre; font-family: monospace\">outer t: OuterTradfn\n",
              "inner t: OuterTradfn\n",
              "inner t: InnerDfn\n",
              "outer t: InnerDfn\n",
              "\n",
              "</span>"
            ]
          },
          "execution_count": 104,
          "metadata": {},
          "output_type": "execute_result"
        }
      ],
      "source": [
        "OuterTradfn\u236c"
      ]
    },
    {
      "cell_type": "markdown",
      "metadata": {},
      "source": [
        "Once again, notice that the global `t` is still intact:"
      ]
    },
    {
      "cell_type": "code",
      "execution_count": 105,
      "metadata": {},
      "outputs": [
        {
          "data": {
            "text/html": [
              "<span style=\"white-space:pre; font-family: monospace\">global var\n",
              "</span>"
            ]
          },
          "execution_count": 105,
          "metadata": {},
          "output_type": "execute_result"
        }
      ],
      "source": [
        "t"
      ]
    },
    {
      "cell_type": "markdown",
      "metadata": {},
      "source": [
        "These short explorations show that the scoping rules can become quite intricate, so it really is best to pass information in and out of functions as arguments/return values and not rely on scoping for that.\n",
        "This is, of course, just a suggestion and not a rule to follow blindly: a quintessential example of using scoping rules to your advantage is when defining a small inline dfn inside a larger function, e.g. to define a helper function that needs to be given as an operand to some operator, but that also needs access to the existing local variables."
      ]
    },
    {
      "cell_type": "markdown",
      "metadata": {},
      "source": [
        "(User-Defined-Functions-Loop-Control)=\n",
        "### Loop Control\n",
        "\n",
        "Loops programmed with traditional branch arrows are controlled by the APL statements. Loops using *Control structures* are controlled by the interpreter. For that reason, if you trace loops programmed with `:Repeat` or `:For`, you will see that the first statement of the loop is executed only once, the following iterations execute only the \"useful\" statements. it is different for a `:While` loop because the test is placed in the first statement.\n",
        "\n",
        "This has a surprising consequence. Imagine a `:For` loop using a control variable named `again` which is supposed to take three successive values: `12 54 86`.\n",
        "\n",
        "But the programmer erroneously alters the value of `again` during execution:"
      ]
    },
    {
      "cell_type": "code",
      "execution_count": 14,
      "metadata": {},
      "outputs": [],
      "source": [
        "\u2207 Mess; again\n",
        "    :For again :In 12 54 86\n",
        "        again\n",
        "        again \u2190 'Who modified me?'\n",
        "        again\n",
        "    :EndFor\n",
        "\u2207"
      ]
    },
    {
      "cell_type": "code",
      "execution_count": 15,
      "metadata": {},
      "outputs": [
        {
          "data": {
            "text/html": [
              "<span style=\"white-space:pre; font-family: monospace\">12\n",
              "Who modified me?\n",
              "54\n",
              "Who modified me?\n",
              "86\n",
              "Who modified me?\n",
              "</span>"
            ]
          },
          "execution_count": 15,
          "metadata": {},
          "output_type": "execute_result"
        }
      ],
      "source": [
        "Mess"
      ]
    },
    {
      "cell_type": "markdown",
      "metadata": {},
      "source": [
        "Notice that, at each iteration, `again` is modified and is then automatically reset to the correct value in the subsequent iteration."
      ]
    },
    {
      "cell_type": "markdown",
      "metadata": {},
      "source": [
        "(User-Defined-Functions-Labels-and-the-Branch-Arrow)=\n",
        "### Labels and the Branch Arrow\n",
        "\n",
        "(User-Defined-Functions-Niladic-Arrow)=\n",
        "#### Niladic Arrow\n",
        "\n",
        "A niladic *Branch arrow* `\u2192` means: quit the current execution, i.e. quit the current function and all the calling functions, whatever the depth of the execution stack.\n",
        "\n",
        "This is different from branching to zero `\u21920` which means \"*quit the current function and resume execution in the calling environment*\".\n",
        "\n",
        "When an execution is interrupted, a niladic *Branch arrow* clears its execution stack.\n",
        "\n",
        "When an evaluated input is requested by a *Quad* (`\u2395`), a niladic *Branch arrow* stops the request and forces an exit from the function and from all the calling functions.\n",
        "\n",
        "Note, however, that a niladic *Branch arrow* only clears the most current execution stack. If several functions have been interrupted and new ones started without first clearing the execution stack, you may have several active stacks. Each stack is identified by an asterisk to the right of the name of the interrupted function.\n",
        "\n",
        "If you are running an interpreter, try defining the following functions:"
      ]
    },
    {
      "cell_type": "code",
      "execution_count": 2,
      "metadata": {},
      "outputs": [],
      "source": [
        "]dinput\n",
        "Foo \u2190 {\n",
        "    ... \u235d Intentional error.\n",
        "    \u2395\n",
        "}"
      ]
    },
    {
      "cell_type": "code",
      "execution_count": 3,
      "metadata": {},
      "outputs": [],
      "source": [
        "]dinput\n",
        "Goo \u2190 {\n",
        "    Foo \u236c\n",
        "}"
      ]
    },
    {
      "cell_type": "markdown",
      "metadata": {},
      "source": [
        "If you run `Goo\u236c`, you will get an error:"
      ]
    },
    {
      "cell_type": "code",
      "execution_count": 4,
      "metadata": {},
      "outputs": [
        {
          "name": "stderr",
          "output_type": "stream",
          "text": [
            "SYNTAX ERROR\n",
            "Foo[1] ... \u235d Intentional error.\n",
            "                               \u2227\n"
          ]
        }
      ],
      "source": [
        "Goo\u236c"
      ]
    },
    {
      "cell_type": "markdown",
      "metadata": {},
      "source": [
        "But if you are using an interpreter, the trace window should open and allow you to type APL expressions to debug your function. You can, for example, call `Goo` again, by typing `Goo\u236c` and then `Goo\u236c` again.\n",
        "\n",
        "If, after that, you run `)si`, you get something like this:\n",
        "\n",
        "```APL\n",
        "      )si\n",
        "#.Foo[1]*\n",
        "#.Goo[0]\n",
        "#.Foo[1]*\n",
        "#.Goo[0]\n",
        "#.Foo[1]*\n",
        "#.Goo[0]\n",
        "```\n",
        "\n",
        "If you instruct the debugger to skip the current line (the line with `...` that generates a `SYNTAX ERROR`) and to continue execution of the current thread, then APL will move on to the `\u2395` line of `Foo`, in which you could do the following:\n",
        "\n",
        "```APL\n",
        "\u2395:\n",
        "      )si\n",
        "\u2395\n",
        "#.Foo[2]\n",
        "#.Goo[0]\n",
        "#.Foo[1]*\n",
        "#.Goo[0]\n",
        "#.Foo[1]*\n",
        "#.Goo[0]\n",
        "\u2395:\n",
        "      \u2192\n",
        "      )si\n",
        "#.Foo[1]*\n",
        "#.Goo[0]\n",
        "#.Foo[1]*\n",
        "#.Goo[0]\n",
        "      )reset\n",
        "      )si\n",
        "```\n",
        "\n",
        "As you can see, several stacks were active and using `\u2192` only cleared the most recent one. Using `)reset` cleared all the execution stacks in one go."
      ]
    },
    {
      "cell_type": "markdown",
      "metadata": {},
      "source": [
        "(User-Defined-Functions-Branch-to-a-Wrong-Label)=\n",
        "#### Branch to a Wrong Label\n",
        "\n",
        "We said that a *Label* is processed as a numeric *local variable* which takes its value from the line number on which it appears. For example, if a function contains the statement `next: newPrice \u2190 oldPrice\u00d7(1-discount)` on line `[23]`, then `next` is a numeric value equal to 23. It is like a \"read-only variable\", since you cannot modify it: any assignment to `next` would cause a `SYNTAX ERROR`. However, the value of `next` will change if some lines are deleted or inserted before line 23.\n",
        "\n",
        "For this reason, the statements `\u2192next` and `:GoTo next` are equivalent to `\u219223` - but only as long as the label `next` is defined in line number 23!\n",
        "\n",
        "We also said that a branch to zero causes an exit from the current function. This is also the case for any jump to a line number which is outside the number of lines in the function. For example, `\u219250` would terminate any function which has less than 50 lines.\n",
        "\n",
        "Now take a look at these two tradfns:"
      ]
    },
    {
      "cell_type": "code",
      "execution_count": 5,
      "metadata": {},
      "outputs": [],
      "source": [
        "\u2207 MainFun\n",
        "    SubFun\n",
        "    \u2395\u2190 'I''m back'\n",
        "    \u235d some empty line\n",
        "    label: \u2395\u2190 'Label line.'\n",
        "\u2207"
      ]
    },
    {
      "cell_type": "code",
      "execution_count": 6,
      "metadata": {},
      "outputs": [],
      "source": [
        "\u2207 SubFun\n",
        "    :GoTo label\n",
        "    \u2395\u2190 'Can''t reach this'\n",
        "\u2207"
      ]
    },
    {
      "cell_type": "code",
      "execution_count": 7,
      "metadata": {},
      "outputs": [
        {
          "data": {
            "text/html": [
              "<span style=\"white-space:pre; font-family: monospace\">I'm back\n",
              "Label line.\n",
              "</span>"
            ]
          },
          "execution_count": 7,
          "metadata": {},
          "output_type": "execute_result"
        }
      ],
      "source": [
        "MainFun"
      ]
    },
    {
      "cell_type": "markdown",
      "metadata": {},
      "source": [
        "Here is what is going on:\n",
        "\n",
        " - When `MainFun` is executed, `label` immediately becomes a read-only variable whose value is 4.\n",
        " - When `SubFun` is called, `label` is local to `MainFun` but global to `SubFun`, so it is visible and is equal to 4.\n",
        " - When evaluated, the jump `:GoTo label` (or `\u2192next`) is equivalent to `:GoTo 4`.\n",
        " - Because `SubFun` only has 2 lines, this jump terminates `SubFun`.\n",
        " - Execution then continues at `MainFun[2]`, not at `MainFun[4]`.\n",
        "\n",
        "Conclusion: be very careful when using labels and non-localised names in general!"
      ]
    },
    {
      "cell_type": "markdown",
      "metadata": {},
      "source": [
        "(User-Defined-Functions-Other-Conditional-Execution)=\n",
        "### Other Conditional Execution\n",
        "\n",
        "In the course of this chapter, you have learned how to program conditional execution using control structures or traditional branching techniques.\n",
        "\n",
        "APL provides two other methods: the *Execute* function and the *Power* operator."
      ]
    },
    {
      "cell_type": "markdown",
      "metadata": {},
      "source": [
        "(User-Defined-Functions-Conditional-Execution-Using-Execute)=\n",
        "#### Conditional Execution Using Execute\n",
        "\n",
        "The function *Execute* (`\u234e`) will be studied in more detail in [a later chapter](./Execute-and-Format-Control.ipynb). It executes any character vector given as a right argument, as if it were an expression that had been typed into the APL session window. But if the vector is empty, nothing will be executed. This feature can be used to conditionally execute a statement. Let us consider the following expression:"
      ]
    },
    {
      "cell_type": "code",
      "execution_count": 8,
      "metadata": {},
      "outputs": [],
      "source": [
        "diff \u2190 10 \u22c4 limit \u2190 5\n",
        "range \u2190 \u00af3 3\n",
        "\u234e(diff<limit)/'range \u2190 \u00af5 5'"
      ]
    },
    {
      "cell_type": "code",
      "execution_count": 9,
      "metadata": {},
      "outputs": [
        {
          "data": {
            "text/html": [
              "<span style=\"white-space:pre; font-family: monospace\">\u00af3 3\n",
              "</span>"
            ]
          },
          "execution_count": 9,
          "metadata": {},
          "output_type": "execute_result"
        }
      ],
      "source": [
        "range"
      ]
    },
    {
      "cell_type": "code",
      "execution_count": 10,
      "metadata": {},
      "outputs": [],
      "source": [
        "diff \u2190 5 \u22c4 limit \u2190 15\n",
        "\u234e(diff<limit)/'range \u2190 \u00af5 5'"
      ]
    },
    {
      "cell_type": "code",
      "execution_count": 11,
      "metadata": {},
      "outputs": [
        {
          "data": {
            "text/html": [
              "<span style=\"white-space:pre; font-family: monospace\">\u00af5 5\n",
              "</span>"
            ]
          },
          "execution_count": 11,
          "metadata": {},
          "output_type": "execute_result"
        }
      ],
      "source": [
        "range"
      ]
    },
    {
      "cell_type": "markdown",
      "metadata": {},
      "source": [
        "If `(diff<limit)` is satisfied, `1/'range \u2190 \u00af5 5'` gives `'range \u2190 \u00af5 5'` and `\u234e'range \u2190 \u00af5 5'` will execute the expression, setting `range` to `\u00af5 5`.\n",
        "\n",
        "If `(diff<limit)` is **not** satisfied, then `0/'range \u2190 \u00af5 5'` gives `''` (an empty character vector) and `\u234e''` does nothing, so `range` is not assigned.\n",
        "\n",
        "<!--begin rule-->\n",
        "***Rule***:\n",
        "\n",
        " > More generally, one can write `\u234e(condition)/text`, where `text` is the quoted expression you want to evaluate conditionally.\n",
        "<!--end-->\n",
        "\n",
        "When the expression on the right contains quotes, they must be doubled, and the expression may become more complex to read. Using *Execute* will, in general, compromise the ability to analyse the code in order to, for example, search for references to a given function or global variable. For these reasons, and also because executed expressions run slightly slower than ordinary statements, this technique should be avoided. It is mentioned only because it has been used for years by many programmers, before better tools became available in APL.\n",
        "\n",
        "<!--begin advice-->\n",
        "***Advice***:\n",
        "\n",
        " > Prefer control structures.\n",
        "<!--end-->"
      ]
    },
    {
      "cell_type": "markdown",
      "metadata": {},
      "source": [
        "(User-Defined-Functions-Conditional-Execution-Using-the-Power-Operator)=\n",
        "#### Conditional Execution Using the Power Operator\n",
        "\n",
        "The *Power operator* (`\u2363`, typed with <kbd>APL</kbd>+<kbd>Shift</kbd>+<kbd>P</kbd>) will be studied in more detail in [a later chapter as well](./Operators.ipynb). It must not be confused with the *Power function* (`*`).\n",
        "\n",
        "*Power* can be used to execute a given function a set number of times. Of course, if we set that number to 1 then the function is executed once and if we set that number to 0, then the function is not executed at all. For example, in {numref}`User-Defined-Functions-Example-Ambivalent-Function` we wrote a function which rounds a vector of values:"
      ]
    },
    {
      "cell_type": "code",
      "execution_count": 14,
      "metadata": {},
      "outputs": [
        {
          "name": "stderr",
          "output_type": "stream",
          "text": [
            "VALUE ERROR: Undefined name: Round\n",
            "      Round vec\n",
            "      \u2227\n"
          ]
        }
      ],
      "source": [
        "a \u2190 37\n",
        "vec \u2190 17.4269 69.8731 82.3137\n",
        "Round vec"
      ]
    },
    {
      "cell_type": "code",
      "execution_count": 15,
      "metadata": {},
      "outputs": [
        {
          "name": "stderr",
          "output_type": "stream",
          "text": [
            "VALUE ERROR: Undefined name: Round\n",
            "      (Round\u2363(a>20))vec\n",
            "       \u2227\n"
          ]
        }
      ],
      "source": [
        "(Round\u2363(a>20))vec"
      ]
    },
    {
      "cell_type": "markdown",
      "metadata": {},
      "source": [
        "In the expression above, `(a>20)` evaluates to 1 because `a` is 37, and hence `Round` is applied once.\n",
        "\n",
        "If we change the test to something that evaluates to 0, then `Round` is **not** applied:"
      ]
    },
    {
      "cell_type": "code",
      "execution_count": 16,
      "metadata": {},
      "outputs": [
        {
          "name": "stderr",
          "output_type": "stream",
          "text": [
            "VALUE ERROR: Undefined name: Round\n",
            "      (Round\u2363(a>80))vec\n",
            "       \u2227\n"
          ]
        }
      ],
      "source": [
        "(Round\u2363(a>80))vec"
      ]
    },
    {
      "cell_type": "markdown",
      "metadata": {},
      "source": [
        "We must separate the operator's right operand from the resulting derived function's argument.\n",
        "\n",
        "We can use a \"no-op\" function like `\u22a2` as separator or use parentheses.\n",
        "\n",
        "<!--begin rule-->\n",
        "***Rule***:\n",
        "\n",
        " > More generally, one can write `{x} (Function\u2363(condition)) y`\n",
        "<!--end-->"
      ]
    },
    {
      "cell_type": "markdown",
      "metadata": {},
      "source": [
        "(User-Defined-Functions-Name-Category)=\n",
        "### Name Category\n",
        "\n",
        "The system function *Name Category* (`\u2395NC`) indicates if a name currently represents a variable, a function, an operator and so on.\n",
        "\n",
        "When applied to a nested vector of names, it returns an extended result, which gives more information. For example:"
      ]
    },
    {
      "cell_type": "code",
      "execution_count": 17,
      "metadata": {},
      "outputs": [
        {
          "data": {
            "text/html": [
              "<span style=\"white-space:pre; font-family: monospace\">0 3.2\n",
              "</span>"
            ]
          },
          "execution_count": 17,
          "metadata": {},
          "output_type": "execute_result"
        }
      ],
      "source": [
        "\u2395NC 'Round' 'Foo'"
      ]
    },
    {
      "cell_type": "markdown",
      "metadata": {},
      "source": [
        " - `3.1` means that `Round` is a tradfn;\n",
        " - `3.2` means that `Foo` is a dfn;\n",
        "\n",
        "Let us now assign some new names to some functions:"
      ]
    },
    {
      "cell_type": "code",
      "execution_count": 18,
      "metadata": {},
      "outputs": [
        {
          "name": "stderr",
          "output_type": "stream",
          "text": [
            "VALUE ERROR: Undefined name: Round\n",
            "      Round2\u2190Round\n",
            "             \u2227\n"
          ]
        }
      ],
      "source": [
        "Round2 \u2190 Round\n",
        "Foo2 \u2190 Foo\n",
        "Rho \u2190 \u2374\n",
        "Sum \u2190 +/"
      ]
    },
    {
      "cell_type": "code",
      "execution_count": 19,
      "metadata": {},
      "outputs": [
        {
          "data": {
            "text/html": [
              "<span style=\"white-space:pre; font-family: monospace\">0 3.2 3.3 3.3\n",
              "</span>"
            ]
          },
          "execution_count": 19,
          "metadata": {},
          "output_type": "execute_result"
        }
      ],
      "source": [
        "\u2395NC 'Round2' 'Foo2' 'Rho' 'Sum'"
      ]
    },
    {
      "cell_type": "markdown",
      "metadata": {},
      "source": [
        "This makes clear that:\n",
        "\n",
        " - assigning a new name to a user-defined function preserves its *Name Category*; and\n",
        " - *primitive* or *derived* functions have a *Name Category* equal to `3.3`."
      ]
    },
    {
      "cell_type": "markdown",
      "metadata": {},
      "source": [
        "(User-Defined-Functions-Bare-Output)=\n",
        "### Bare Output\n",
        "\n",
        "When using *Quad* (`\u2395`) to input data, the prompt and the user's answer appear on different lines on the screen.\n",
        "\n",
        "When using a *Quote-Quad* (`\u235e`) to input data, it is possible to force the system to issue the user with a prompt and collect their input on the same line of the screen. This is done by first assigning the prompt (a character vector) to `\u235e` and then referencing `\u235e`. When the assignment and reference are performed like this, as successive operations, the system does not throw a newline after the prompt and the user input is collected on the same line as the prompt. This is called \"*Bare Output*\".\n",
        "\n",
        "Here is an example you can try in your interpreter: `\u235e\u2190 'This is my question: ' \u22c4 z \u2190 \u235e`.\n",
        "\n",
        "If you execute this and type something into the prompt, you will notice that `z` gets the complete line as value: prompt and user input.\n",
        "\n",
        "Using *Take* and *Drop*, it is possible to remove the prompt, like in this demonstration function:"
      ]
    },
    {
      "cell_type": "code",
      "execution_count": 20,
      "metadata": {},
      "outputs": [],
      "source": [
        "\u2207 info \u2190 Demo; fn; na; cy\n",
        "    \u235e\u2190 20\u2191'First name ...................'\n",
        "    fn \u2190 20\u2193\u235e\n",
        "    \u235e\u2190 20\u2191'Name .........................'\n",
        "    na \u2190 20\u2193\u235e\n",
        "    \u235e\u2190 20\u2191'Country ......................'\n",
        "    cy \u2190 20\u2193\u235e\n",
        "    info \u2190 fn,' ',na,' ',cy\n",
        "\u2207"
      ]
    },
    {
      "cell_type": "markdown",
      "metadata": {},
      "source": [
        "And here is an example interaction (you can try it in your interpreter; Jupyter Notebook does not support `\u2395`/`\u235e` input at the time of writing):\n",
        "\n",
        "```APL\n",
        "      Demo\n",
        "First name .........Charles\n",
        "Name ...............Darwin\n",
        "Country ............UK\n",
        "Charles Darwin UK\n",
        "```\n",
        "\n",
        "We get all the prompts aligned and the return value only has the user's inputs."
      ]
    },
    {
      "cell_type": "markdown",
      "metadata": {},
      "source": [
        "(User-Defined-Functions-InEach)=\n",
        "### `:InEach`\n",
        "\n",
        "The control phrase `:For... :In` can be used to assign values to several control variables. One can also use `:InEach` which assigns one item from each of a set of nested values to the corresponding control variable. Sometimes `:In` is more convenient than `:InEach` and sometimes the reverse is true, as we will now show:\n",
        "\n",
        "Let us assume that data for an invoice is represented as a number of lines, each with a quantity and a price:"
      ]
    },
    {
      "cell_type": "code",
      "execution_count": 21,
      "metadata": {},
      "outputs": [],
      "source": [
        "invoice1 \u2190 (10 100)(20 200)(30 300)"
      ]
    },
    {
      "cell_type": "markdown",
      "metadata": {},
      "source": [
        "Then we process each line in a loop using this function:"
      ]
    },
    {
      "cell_type": "code",
      "execution_count": 22,
      "metadata": {},
      "outputs": [],
      "source": [
        "\u2207 Process1 invoice\n",
        "    :For (q p) :In invoice\n",
        "        q\u00d7p    \u235d \"Process\" this invoice line\n",
        "    :EndFor\n",
        "\u2207"
      ]
    },
    {
      "cell_type": "code",
      "execution_count": 23,
      "metadata": {},
      "outputs": [
        {
          "data": {
            "text/html": [
              "<span style=\"white-space:pre; font-family: monospace\">1000\n",
              "4000\n",
              "9000\n",
              "</span>"
            ]
          },
          "execution_count": 23,
          "metadata": {},
          "output_type": "execute_result"
        }
      ],
      "source": [
        "Process1 invoice1"
      ]
    },
    {
      "cell_type": "markdown",
      "metadata": {},
      "source": [
        "Some day somebody decides to deliver the invoice data in a slightly different way: first all the quantities, then all the prices:"
      ]
    },
    {
      "cell_type": "code",
      "execution_count": 24,
      "metadata": {},
      "outputs": [],
      "source": [
        "invoice2 \u2190 (10 20 30)(100 200 300)"
      ]
    },
    {
      "cell_type": "markdown",
      "metadata": {},
      "source": [
        "Then we only need to modify our processing function to use `:InEach` instead of `:In`:"
      ]
    },
    {
      "cell_type": "code",
      "execution_count": 25,
      "metadata": {},
      "outputs": [],
      "source": [
        "\u2207 Process2 invoice\n",
        "    :For (q p) :InEach invoice\n",
        "        q\u00d7p    \u235d \"Process\" this invoice line\n",
        "    :EndFor\n",
        "\u2207"
      ]
    },
    {
      "cell_type": "code",
      "execution_count": 26,
      "metadata": {},
      "outputs": [
        {
          "data": {
            "text/html": [
              "<span style=\"white-space:pre; font-family: monospace\">1000\n",
              "4000\n",
              "9000\n",
              "</span>"
            ]
          },
          "execution_count": 26,
          "metadata": {},
          "output_type": "execute_result"
        }
      ],
      "source": [
        "Process2 invoice2"
      ]
    },
    {
      "cell_type": "markdown",
      "metadata": {},
      "source": [
        "<!--begin rule-->\n",
        "***Rule***:\n",
        "\n",
        " > In `:For vars :InEach nesVec`, `\u2374vars` is equal to the shape of `nesVec`, whereas in `:For vars :In nesVec`, `\u2374vars` is equal to the shape of each **item** in `nesVec`.\n",
        "<!--end-->"
      ]
    },
    {
      "cell_type": "markdown",
      "metadata": {},
      "source": [
        "(User-Defined-Functions-Tail-Recursion)=\n",
        "### Tail Recursion\n",
        "\n",
        "As was outlined in {numref}`User-Defined-Functions-Recursion`, recursive solutions can be very elegant but may consume a lot of memory as successive calls accumulate local variables in their respective scopes.\n",
        "\n",
        "For example, consider the following recursive definition of the factorial function:"
      ]
    },
    {
      "cell_type": "code",
      "execution_count": 27,
      "metadata": {},
      "outputs": [],
      "source": [
        "]dinput\n",
        "Factorial \u2190 {\n",
        "    \u2395\u2190 \u2262\u2395SI\n",
        "    \u2375 \u2264 1: 1\n",
        "    \u2375\u00d7\u2207\u2375-1\n",
        "}"
      ]
    },
    {
      "cell_type": "code",
      "execution_count": 28,
      "metadata": {},
      "outputs": [
        {
          "data": {
            "text/html": [
              "<span style=\"white-space:pre; font-family: monospace\">1\n",
              "2\n",
              "3\n",
              "4\n",
              "5\n",
              "6\n",
              "7\n",
              "8\n",
              "9\n",
              "10\n",
              "3628800\n",
              "</span>"
            ]
          },
          "execution_count": 28,
          "metadata": {},
          "output_type": "execute_result"
        }
      ],
      "source": [
        "Factorial 10"
      ]
    },
    {
      "cell_type": "markdown",
      "metadata": {},
      "source": [
        "The `Factorial` function above makes use of `\u2395SI`, the *State Indicator*, to tell how many functions are in the execution stack. Think of it as a pile of all the functions that are currently being executed, with the more recent calls at the top of the stack. As we can see, when we reach the deepest level of recursion (when `\u2375` hits 1) we have 10 `Factorial` calls in the stack, which are then resolved as we return from deeper levels and perform the `\u2375\u00d7...` multiplication in the last line of the dfn.\n",
        "\n",
        "A moment of reflection shows that, to compute the factorial of `n` with this function, the execution stack grows to size `n`. If our `Factorial` function were more complex, we would also have `n` copies of all the local variables the function would define. This duplication is what makes recursive functions potentially memory heavy. It is, however, something that the interpreter knows how to optimise in certain cases.\n",
        "\n",
        "If we write a recursive function in such a way that the recursive call is **the very last thing** to be executed inside your function, then the interpreter knows it can discard everything from the current scope when it makes the recursive call. In fact, when we leave the recursive call we won't have to do anything with the return value, as the recursive call was *the very last thing* we did in our function.\n",
        "\n",
        "If we do this, then we are using a technique called ***Tail Recursion***, because we are only recursing at the \"*tail*\" of the function.\n",
        "\n",
        "<!--begin remark-->\n",
        "***Remark***:\n",
        "\n",
        " > Tail recursion is a feature of dfns and does not have an immediate equivalent in tradfns.\n",
        "<!--end-->\n",
        "\n",
        "In the `Factorial` function above, the recursive call was *in* the last expression executed but it is not the last thing that is done in the function, as we have to multiply `\u2375` with the return value of the recursive call. We can, however, refactor the function to carry temporary calculations in the left argument `\u237a`:"
      ]
    },
    {
      "cell_type": "code",
      "execution_count": 31,
      "metadata": {},
      "outputs": [],
      "source": [
        "]dinput\n",
        "TailFactorial \u2190 {\n",
        "    \u2395\u2190 \u2262\u2395SI\n",
        "    \u237a \u2190 1\n",
        "    \u2375\u22641: \u237a\n",
        "    (\u237a\u00d7\u2375)\u2207\u2375-1\n",
        "}"
      ]
    },
    {
      "cell_type": "code",
      "execution_count": 32,
      "metadata": {},
      "outputs": [
        {
          "data": {
            "text/html": [
              "<span style=\"white-space:pre; font-family: monospace\">1\n",
              "1\n",
              "1\n",
              "1\n",
              "1\n",
              "1\n",
              "1\n",
              "1\n",
              "1\n",
              "1\n",
              "3628800\n",
              "</span>"
            ]
          },
          "execution_count": 32,
          "metadata": {},
          "output_type": "execute_result"
        }
      ],
      "source": [
        "TailFactorial 10"
      ]
    },
    {
      "cell_type": "markdown",
      "metadata": {},
      "source": [
        "In this way, we can perform the multiplications as we go \"down\" the recursion, instead of waiting for the moment when we start coming back \"up\" again.\n",
        "\n",
        "As an exercise, can you redo exercise 17 with a tail recursive function?"
      ]
    },
    {
      "cell_type": "markdown",
      "metadata": {},
      "source": [
        "(User-Defined-Functions-Solutions)=\n",
        "## Solutions\n",
        "\n",
        "**Exercise 1**:\n",
        "\n",
        "If `\u2375` is the vector argument, we can use `\u2375[...]` to index into `\u2375` and then we can use the *Index Generator* primitive to generate the indices we need, which should be the integers from `1` to `\u237a`... Except that if `\u237a` is too big, we cannot generate indices larger than the length of the vector, so we also find the minimum between `\u237a` and `\u2262\u2375`. If we don't, we get a `INDEX ERROR` when indexing. Here is a possible implementation:"
      ]
    },
    {
      "cell_type": "code",
      "execution_count": 33,
      "metadata": {},
      "outputs": [],
      "source": [
        "]dinput\n",
        "Extract \u2190 {\n",
        "    \u2375[\u2373\u237a\u230a\u2262\u2375]\n",
        "}"
      ]
    },
    {
      "cell_type": "code",
      "execution_count": 34,
      "metadata": {},
      "outputs": [
        {
          "data": {
            "text/html": [
              "<span style=\"white-space:pre; font-family: monospace\">45 86 31\n",
              "</span>"
            ]
          },
          "execution_count": 34,
          "metadata": {},
          "output_type": "execute_result"
        }
      ],
      "source": [
        "3 Extract 45 86 31 20 75 62 18"
      ]
    },
    {
      "cell_type": "code",
      "execution_count": 35,
      "metadata": {},
      "outputs": [
        {
          "data": {
            "text/html": [
              "<span style=\"white-space:pre; font-family: monospace\">can yo\n",
              "</span>"
            ]
          },
          "execution_count": 35,
          "metadata": {},
          "output_type": "execute_result"
        }
      ],
      "source": [
        "6 Extract 'can you do it?'"
      ]
    },
    {
      "cell_type": "code",
      "execution_count": 36,
      "metadata": {},
      "outputs": [
        {
          "data": {
            "text/html": [
              "<span style=\"white-space:pre; font-family: monospace\">1 2 3\n",
              "</span>"
            ]
          },
          "execution_count": 36,
          "metadata": {},
          "output_type": "execute_result"
        }
      ],
      "source": [
        "20 Extract 1 2 3"
      ]
    },
    {
      "cell_type": "markdown",
      "metadata": {},
      "source": [
        "**Exercise 2**:\n",
        "\n",
        "We can use a reasoning similar to that of the first exercise, except now we want to start the indices at `\u237a+1` and go up until `\u2262\u2375`. For this to happen, we first need to find out how many numbers we need. If a vector has `\u2262\u2375` elements and we are going to drop `\u237a` of them, we are going to be left with `(\u2262\u2375)-\u237a`. This means `\u2373(\u2262\u2375)-\u237a` will generate the correct amount of indices, but they will be starting at `1` and should start at `\u237a+1`, so we just need to add `\u237a` to that.\n",
        "\n",
        "Finally, we just need to worry about what happens if `\u237a` is too large, i.e. if we want to ignore too many elements. The reverse of that concern is, what happens if `(\u2262\u2375)-\u237a` is too small? Recall that `(\u2262\u2375)-\u237a` tells you how many elements you will want to keep. But that number must be at least `0` elements (i.e. \"keep no elements\") because it makes no sense to keep a negative number of elements. So we can just use `\u2308` to find the maximum between `0` and `(\u2262\u2375)-\u237a`. If `\u237a` is too large, `0\u2308(\u2262\u2375)-\u237a` gives `0` and `\u23730` is the empty vector `\u236c`, so the indexing will work just fine."
      ]
    },
    {
      "cell_type": "code",
      "execution_count": 37,
      "metadata": {},
      "outputs": [],
      "source": [
        "]dinput\n",
        "Ignore \u2190 {\n",
        "    \u2375[\u237a+\u23730\u2308(\u2262\u2375)-\u237a]\n",
        "}"
      ]
    },
    {
      "cell_type": "code",
      "execution_count": 38,
      "metadata": {},
      "outputs": [
        {
          "data": {
            "text/html": [
              "<span style=\"white-space:pre; font-family: monospace\">20 75 62 18\n",
              "</span>"
            ]
          },
          "execution_count": 38,
          "metadata": {},
          "output_type": "execute_result"
        }
      ],
      "source": [
        "3 Ignore 45 86 31 20 75 62 18"
      ]
    },
    {
      "cell_type": "code",
      "execution_count": 39,
      "metadata": {},
      "outputs": [
        {
          "data": {
            "text/html": [
              "<span style=\"white-space:pre; font-family: monospace\">u do it?\n",
              "</span>"
            ]
          },
          "execution_count": 39,
          "metadata": {},
          "output_type": "execute_result"
        }
      ],
      "source": [
        "6 Ignore 'can you do it?'"
      ]
    },
    {
      "cell_type": "code",
      "execution_count": 40,
      "metadata": {},
      "outputs": [
        {
          "data": {
            "text/html": [
              "<span style=\"white-space:pre; font-family: monospace\">\n",
              "</span>"
            ]
          },
          "execution_count": 40,
          "metadata": {},
          "output_type": "execute_result"
        }
      ],
      "source": [
        "20 Ignore 1 2 3"
      ]
    },
    {
      "cell_type": "markdown",
      "metadata": {},
      "source": [
        "**Exercise 3**:\n",
        "\n",
        "This is another exercise on index arithmetic. Here is what we want to happen with a vector argument of length 10:\n",
        "\n",
        " - generate the indices `1 2 3 4 5 6 7 8 9 10`\n",
        " - transform them into  `10 9 8 7 6 5 4 3 2 1`\n",
        " \n",
        "We can do this if we do the correct subtraction:"
      ]
    },
    {
      "cell_type": "code",
      "execution_count": 41,
      "metadata": {},
      "outputs": [
        {
          "data": {
            "text/html": [
              "<span style=\"white-space:pre; font-family: monospace\">10 9 8 7 6 5 4 3 2 1\n",
              "</span>"
            ]
          },
          "execution_count": 41,
          "metadata": {},
          "output_type": "execute_result"
        }
      ],
      "source": [
        "11 - \u237310"
      ]
    },
    {
      "cell_type": "markdown",
      "metadata": {},
      "source": [
        "But here `11` was a special number: it was `1+\u2262\u2375`. So that is the general tactic we can employ:"
      ]
    },
    {
      "cell_type": "code",
      "execution_count": 42,
      "metadata": {},
      "outputs": [],
      "source": [
        "]dinput\n",
        "Reverse \u2190 {\n",
        "    \u2375[(1+\u2262\u2375)-\u2373\u2262\u2375]\n",
        "}"
      ]
    },
    {
      "cell_type": "code",
      "execution_count": 43,
      "metadata": {},
      "outputs": [
        {
          "data": {
            "text/html": [
              "<span style=\"white-space:pre; font-family: monospace\">congratulations\n",
              "</span>"
            ]
          },
          "execution_count": 43,
          "metadata": {},
          "output_type": "execute_result"
        }
      ],
      "source": [
        "Reverse 'snoitalutargnoc'"
      ]
    },
    {
      "cell_type": "code",
      "execution_count": 44,
      "metadata": {},
      "outputs": [
        {
          "data": {
            "text/html": [
              "<span style=\"white-space:pre; font-family: monospace\">You did it!\n",
              "</span>"
            ]
          },
          "execution_count": 44,
          "metadata": {},
          "output_type": "execute_result"
        }
      ],
      "source": [
        "Reverse '!ti did uoY'"
      ]
    },
    {
      "cell_type": "markdown",
      "metadata": {},
      "source": [
        "**Exercise 4**:\n",
        "\n",
        "This exercise can be solved by using the *Reduce* operator to sum: `+/`. Then we need to specify the axis we care about with `[1]` and `[2]`.\n",
        "\n",
        "If we do `+/[1]` then we are reducing across the first axis, which means we get the sums along the columns:"
      ]
    },
    {
      "cell_type": "code",
      "execution_count": 45,
      "metadata": {},
      "outputs": [
        {
          "data": {
            "text/html": [
              "<span style=\"white-space:pre; font-family: monospace\">75 14 86 20\n",
              "31 16 40 51\n",
              "22 64 31 28\n",
              "</span>"
            ]
          },
          "execution_count": 45,
          "metadata": {},
          "output_type": "execute_result"
        }
      ],
      "source": [
        "\u2395\u2190 mat \u2190 3 4\u237475 14 86 20 31 16 40 51 22 64 31 28"
      ]
    },
    {
      "cell_type": "code",
      "execution_count": 46,
      "metadata": {},
      "outputs": [
        {
          "data": {
            "text/html": [
              "<span style=\"white-space:pre; font-family: monospace\">128 94 157 99\n",
              "</span>"
            ]
          },
          "execution_count": 46,
          "metadata": {},
          "output_type": "execute_result"
        }
      ],
      "source": [
        "+/[1]mat"
      ]
    },
    {
      "cell_type": "markdown",
      "metadata": {},
      "source": [
        "We can then catenate the original matrix to these column sums vertically (by using `\u236a`), and then use `+/[2]` to find the row sums and catenate them with `,`:"
      ]
    },
    {
      "cell_type": "code",
      "execution_count": 47,
      "metadata": {},
      "outputs": [],
      "source": [
        "]dinput\n",
        "Totalise \u2190 {\n",
        "    colSums \u2190 +/[1]\u2375\n",
        "    r \u2190 \u2375\u236acolSums\n",
        "    rowSums \u2190 +/[2]r\n",
        "    r,rowSums\n",
        "}"
      ]
    },
    {
      "cell_type": "code",
      "execution_count": 48,
      "metadata": {},
      "outputs": [
        {
          "data": {
            "text/html": [
              "<span style=\"white-space:pre; font-family: monospace\"> 75 14  86 20 195\n",
              " 31 16  40 51 138\n",
              " 22 64  31 28 145\n",
              "128 94 157 99 478\n",
              "</span>"
            ]
          },
          "execution_count": 48,
          "metadata": {},
          "output_type": "execute_result"
        }
      ],
      "source": [
        "Totalise mat"
      ]
    },
    {
      "cell_type": "code",
      "execution_count": 49,
      "metadata": {},
      "outputs": [
        {
          "data": {
            "text/html": [
              "<span style=\"white-space:pre; font-family: monospace\">1\n",
              "</span>"
            ]
          },
          "execution_count": 49,
          "metadata": {},
          "output_type": "execute_result"
        }
      ],
      "source": [
        "totMat \u2190 4 5\u237475 14 86 20 195 31 16 40 51 138 22 64 31 28 145 128 94 157 99 478\n",
        "totMat \u2261 Totalise mat"
      ]
    },
    {
      "cell_type": "markdown",
      "metadata": {},
      "source": [
        "**Exercise 5**:\n",
        "\n",
        "When reading this exercise, one should immediately realise that we are going to need to find *Where* the blank spaces are:"
      ]
    },
    {
      "cell_type": "code",
      "execution_count": 50,
      "metadata": {},
      "outputs": [],
      "source": [
        "text \u2190 'This seems to be a good solution'"
      ]
    },
    {
      "cell_type": "code",
      "execution_count": 51,
      "metadata": {},
      "outputs": [
        {
          "data": {
            "text/html": [
              "<span style=\"white-space:pre; font-family: monospace\">5 11 14 17 19 24\n",
              "</span>"
            ]
          },
          "execution_count": 51,
          "metadata": {},
          "output_type": "execute_result"
        }
      ],
      "source": [
        "\u2378' '=text"
      ]
    },
    {
      "cell_type": "markdown",
      "metadata": {},
      "source": [
        "These indices tell where the blank spaces were in the character vector, and in between those indices are the indices that correspond to word characters:\n",
        "\n",
        " - the first word has indices `1 2 3 4`\n",
        "   - then there is a space at position `5`\n",
        " - the second word has indices `6 7 8 9 10`\n",
        "   - then there is a space at position `11`\n",
        " - ...\n",
        "   - then there is a space at position `24`\n",
        " - the last word has indices `25 26 27 28 29 30 31 32`\n",
        " \n",
        "The `32` above is `\u2262text`:"
      ]
    },
    {
      "cell_type": "code",
      "execution_count": 52,
      "metadata": {},
      "outputs": [
        {
          "data": {
            "text/html": [
              "<span style=\"white-space:pre; font-family: monospace\">32\n",
              "</span>"
            ]
          },
          "execution_count": 52,
          "metadata": {},
          "output_type": "execute_result"
        }
      ],
      "source": [
        "\u2262text"
      ]
    },
    {
      "cell_type": "markdown",
      "metadata": {},
      "source": [
        "From the list above we can see that most words are *between* spaces, but the first and last words may not be between spaces. We can fix this by *forcing* the first and last words to be *between* spaces if we add a single `' '` to the beginning and to the end of our variable:"
      ]
    },
    {
      "cell_type": "code",
      "execution_count": 53,
      "metadata": {},
      "outputs": [
        {
          "data": {
            "text/html": [
              "<span style=\"white-space:pre; font-family: monospace\">1 6 12 15 18 20 25 34\n",
              "</span>"
            ]
          },
          "execution_count": 53,
          "metadata": {},
          "output_type": "execute_result"
        }
      ],
      "source": [
        "\u2378' '=' ',text,' '"
      ]
    },
    {
      "cell_type": "markdown",
      "metadata": {},
      "source": [
        "Now we have\n",
        "\n",
        " - the first space at position `1`\n",
        "   - the first word in positions `2 3 4 5`\n",
        " - a space at position `6`\n",
        "   - a word in positions `7 8 9 10 11`\n",
        " - ...\n",
        " - a space at position `25`\n",
        "   - the last word in positions `26 27 28 29 30 31 32 33`\n",
        " - the final space at position `34`\n",
        " \n",
        "So we can find the lengths of those runs of non-spaces by subtracting positions of consecutive spaces and then subtracting 1 from those, because `6-1` gives 5, but between 1 and 6 there's only 4 integers."
      ]
    },
    {
      "cell_type": "code",
      "execution_count": 54,
      "metadata": {},
      "outputs": [],
      "source": [
        "]dinput\n",
        "Lengths \u2190 {\n",
        "    spaces \u2190 \u2378' '=' ',\u2375,' '\n",
        "    idx \u2190 \u2373(\u2262spaces)-1\n",
        "    \u00af1+spaces[1+idx]-spaces[idx]\n",
        "}"
      ]
    },
    {
      "cell_type": "code",
      "execution_count": 55,
      "metadata": {},
      "outputs": [
        {
          "data": {
            "text/html": [
              "<span style=\"white-space:pre; font-family: monospace\">4 5 2 2 1 4 8\n",
              "</span>"
            ]
          },
          "execution_count": 55,
          "metadata": {},
          "output_type": "execute_result"
        }
      ],
      "source": [
        "Lengths 'This seems to be a good solution'"
      ]
    },
    {
      "cell_type": "markdown",
      "metadata": {},
      "source": [
        "The final step where we index into `spaces` to get \"all but the last\" and \"all but the first\" elements of `spaces` could have been done with your previous solutions:"
      ]
    },
    {
      "cell_type": "code",
      "execution_count": 56,
      "metadata": {},
      "outputs": [],
      "source": [
        "]dinput\n",
        "Lengths \u2190 {\n",
        "    spaces \u2190 \u2378' '=' ',\u2375,' '\n",
        "    \u00af1+(1 Ignore spaces)-((\u00af1+\u2262spaces) Extract spaces)\n",
        "}"
      ]
    },
    {
      "cell_type": "code",
      "execution_count": 57,
      "metadata": {},
      "outputs": [
        {
          "data": {
            "text/html": [
              "<span style=\"white-space:pre; font-family: monospace\">4 5 2 2 1 4 8\n",
              "</span>"
            ]
          },
          "execution_count": 57,
          "metadata": {},
          "output_type": "execute_result"
        }
      ],
      "source": [
        "Lengths 'This seems to be a good solution'"
      ]
    },
    {
      "cell_type": "markdown",
      "metadata": {},
      "source": [
        "Notice that doing `\u00af1+expr` is a little \"trick\" you can employ when you want to subtract 1 from `expr`, but `expr` would then need parenthesis if you were to have it on the left of the `-` sign. For example, to subtract 1 from `\u2262spaces` you would have to do `(\u2262spaces)-1` but instead you can do `\u00af1+\u2262spaces`.\n",
        "\n",
        "Finally, can you improve your solution to handle multiple consecutive spaces?"
      ]
    },
    {
      "cell_type": "code",
      "execution_count": 58,
      "metadata": {},
      "outputs": [
        {
          "data": {
            "text/html": [
              "<span style=\"white-space:pre; font-family: monospace\">4 4 0 0 0 3 0 0 0 0 0 4 5 0 0 0\n",
              "</span>"
            ]
          },
          "execution_count": 58,
          "metadata": {},
          "output_type": "execute_result"
        }
      ],
      "source": [
        "Lengths 'This only    has      five words   '"
      ]
    },
    {
      "cell_type": "markdown",
      "metadata": {},
      "source": [
        "Probably seeing how your function works with multiple consecutive spaces gives the solution away: consecutive spaces will make a 0 appear in the final result, so we just have to remove those:"
      ]
    },
    {
      "cell_type": "code",
      "execution_count": 59,
      "metadata": {},
      "outputs": [],
      "source": [
        "]dinput\n",
        "Lengths \u2190 {\n",
        "    spaces \u2190 \u2378' '=' ',\u2375,' '\n",
        "    r \u2190 \u00af1+(1 Ignore spaces)-((\u00af1+\u2262spaces) Extract spaces)\n",
        "    (0\u2260r)/r\n",
        "}"
      ]
    },
    {
      "cell_type": "code",
      "execution_count": 60,
      "metadata": {},
      "outputs": [
        {
          "data": {
            "text/html": [
              "<span style=\"white-space:pre; font-family: monospace\">4 4 3 4 5\n",
              "</span>"
            ]
          },
          "execution_count": 60,
          "metadata": {},
          "output_type": "execute_result"
        }
      ],
      "source": [
        "Lengths 'This only    has      five words   '"
      ]
    },
    {
      "cell_type": "markdown",
      "metadata": {},
      "source": [
        "**Exercise 6**:\n",
        "\n",
        "We have seen in {numref}`Some-Primitive-Functions-Basic-Usage` how to create any arithmetic sequence of integers. This is just a special case of the algorithm given, with `Step \u2190 1`:"
      ]
    },
    {
      "cell_type": "code",
      "execution_count": 61,
      "metadata": {},
      "outputs": [],
      "source": [
        "]dinput\n",
        "To \u2190 {\n",
        "    \u237a+\u00af1+\u2373(1+\u2375-\u237a)\n",
        "}"
      ]
    },
    {
      "cell_type": "code",
      "execution_count": 62,
      "metadata": {},
      "outputs": [
        {
          "data": {
            "text/html": [
              "<span style=\"white-space:pre; font-family: monospace\">17 18 19 20 21 22 23 24 25 26 27 28 29\n",
              "</span>"
            ]
          },
          "execution_count": 62,
          "metadata": {},
          "output_type": "execute_result"
        }
      ],
      "source": [
        "17 To 29"
      ]
    },
    {
      "cell_type": "markdown",
      "metadata": {},
      "source": [
        "**Exercise 7**:\n",
        "\n",
        "This exercise is easier than it might look because the primitives to catenate vertically and horizontally, `\u236a` and `,`, know how to deal with a matrix and a single scalar:"
      ]
    },
    {
      "cell_type": "code",
      "execution_count": 63,
      "metadata": {},
      "outputs": [
        {
          "data": {
            "text/html": [
              "<span style=\"white-space:pre; font-family: monospace\">Canberra  \n",
              "Paris     \n",
              "Washington\n",
              "Moscow    \n",
              "Martigues \n",
              "Mexico    \n",
              "</span>"
            ]
          },
          "execution_count": 63,
          "metadata": {},
          "output_type": "execute_result"
        }
      ],
      "source": [
        "\u2395\u2190 towns \u2190 6 10\u2374'Canberra  Paris     WashingtonMoscow    Martigues Mexico    '"
      ]
    },
    {
      "cell_type": "code",
      "execution_count": 64,
      "metadata": {},
      "outputs": [
        {
          "data": {
            "text/html": [
              "<span style=\"white-space:pre; font-family: monospace\">Canberra  |\n",
              "Paris     |\n",
              "Washington|\n",
              "Moscow    |\n",
              "Martigues |\n",
              "Mexico    |\n",
              "</span>"
            ]
          },
          "execution_count": 64,
          "metadata": {},
          "output_type": "execute_result"
        }
      ],
      "source": [
        "towns,'|'"
      ]
    },
    {
      "cell_type": "code",
      "execution_count": 65,
      "metadata": {},
      "outputs": [
        {
          "data": {
            "text/html": [
              "<span style=\"white-space:pre; font-family: monospace\">Canberra  \n",
              "Paris     \n",
              "Washington\n",
              "Moscow    \n",
              "Martigues \n",
              "Mexico    \n",
              "----------\n",
              "</span>"
            ]
          },
          "execution_count": 65,
          "metadata": {},
          "output_type": "execute_result"
        }
      ],
      "source": [
        "towns\u236a'-'"
      ]
    },
    {
      "cell_type": "markdown",
      "metadata": {},
      "source": [
        "So we just have to frame the four sides and *then* change the corners:"
      ]
    },
    {
      "cell_type": "code",
      "execution_count": 66,
      "metadata": {},
      "outputs": [],
      "source": [
        "]dinput\n",
        "Frame \u2190 {\n",
        "    f \u2190 '|',\u2375,'|'\n",
        "    f \u2190 '-'\u236af\u236a'-'\n",
        "    (r c) \u2190 \u2374f\n",
        "    f[1 r;1 c] \u2190 '+'\n",
        "    f\n",
        "}"
      ]
    },
    {
      "cell_type": "code",
      "execution_count": 67,
      "metadata": {},
      "outputs": [
        {
          "data": {
            "text/html": [
              "<span style=\"white-space:pre; font-family: monospace\">+----------+\n",
              "|Canberra  |\n",
              "|Paris     |\n",
              "|Washington|\n",
              "|Moscow    |\n",
              "|Martigues |\n",
              "|Mexico    |\n",
              "+----------+\n",
              "</span>"
            ]
          },
          "execution_count": 67,
          "metadata": {},
          "output_type": "execute_result"
        }
      ],
      "source": [
        "Frame towns"
      ]
    },
    {
      "cell_type": "markdown",
      "metadata": {},
      "source": [
        "Here we used the very convenient indexing notation `f[1 r;1 c]` that allows us to access the positions `1 1`, `1 c`, `r 1` and `r c` of the matrix `f`.\n",
        "\n",
        "Modifying this function to use the appropriate line-drawing symbols just means swapping the `'|-+'` in the original function. Care must be taken, however, when assigning the corners. With `f[1 r;1 c] \u2190 m` APL expects `m` to be a scalar *or* an array with the same shape as that of the left, and since `f[1 r;1 c]` is a 2 by 2 matrix, we will have to reshape the vector with the corners into a 2 by 2 matrix as well:"
      ]
    },
    {
      "cell_type": "code",
      "execution_count": 68,
      "metadata": {},
      "outputs": [],
      "source": [
        "]dinput\n",
        "Frame \u2190 {\n",
        "    f \u2190 (\u2395UCS 9474) , \u2375 , (\u2395UCS 9474)\n",
        "    f \u2190 (\u2395UCS 9472) \u236a f \u236a (\u2395UCS 9472)\n",
        "    (r c) \u2190 \u2374f\n",
        "    f[1 r;1 c] \u2190 2 2\u2374\u2395UCS 9484 9488 9492 9496\n",
        "    f\n",
        "}"
      ]
    },
    {
      "cell_type": "code",
      "execution_count": 69,
      "metadata": {},
      "outputs": [
        {
          "data": {
            "text/html": [
              "<span style=\"white-space:pre; font-family: monospace\">\u250c\u2500\u2500\u2500\u2500\u2500\u2500\u2500\u2500\u2500\u2500\u2510\n",
              "\u2502Canberra  \u2502\n",
              "\u2502Paris     \u2502\n",
              "\u2502Washington\u2502\n",
              "\u2502Moscow    \u2502\n",
              "\u2502Martigues \u2502\n",
              "\u2502Mexico    \u2502\n",
              "\u2514\u2500\u2500\u2500\u2500\u2500\u2500\u2500\u2500\u2500\u2500\u2518\n",
              "</span>"
            ]
          },
          "execution_count": 69,
          "metadata": {},
          "output_type": "execute_result"
        }
      ],
      "source": [
        "Frame towns"
      ]
    },
    {
      "cell_type": "markdown",
      "metadata": {},
      "source": [
        "**Exercise 8**:\n",
        "\n",
        "Well, what if the solution we wrote actually works for vectors? Let's give it a try:"
      ]
    },
    {
      "cell_type": "code",
      "execution_count": 70,
      "metadata": {},
      "outputs": [
        {
          "name": "stderr",
          "output_type": "stream",
          "text": [
            "RANK ERROR\n",
            "Frame[4] f[1 r;1 c]\u21902 2\u2374\u2395UCS 9484 9488 9492 9496\n",
            "          \u2227\n"
          ]
        }
      ],
      "source": [
        "Frame 'We are not out of the wood'"
      ]
    },
    {
      "cell_type": "markdown",
      "metadata": {},
      "source": [
        "A `RANK ERROR`? That makes no sense, after I frame `\u2375` with the horizontal and vertical bars I have a framed matrix, I just need to update the corners... right? Wrong! Here's what happens if you use `,` and `\u236a` on a vector:"
      ]
    },
    {
      "cell_type": "code",
      "execution_count": 71,
      "metadata": {},
      "outputs": [
        {
          "data": {
            "text/html": [
              "<span style=\"white-space:pre; font-family: monospace\">\u2500\u2502We are not out of the wood\u2502\u2500\n",
              "</span>"
            ]
          },
          "execution_count": 71,
          "metadata": {},
          "output_type": "execute_result"
        }
      ],
      "source": [
        "text \u2190 'We are not out of the wood'\n",
        "(\u2395UCS 9472) \u236a (\u2395UCS 9474) , text , (\u2395UCS 9474) \u236a (\u2395UCS 9472)"
      ]
    },
    {
      "cell_type": "markdown",
      "metadata": {},
      "source": [
        "Because `text` has shape"
      ]
    },
    {
      "cell_type": "code",
      "execution_count": 72,
      "metadata": {},
      "outputs": [
        {
          "data": {
            "text/html": [
              "<span style=\"white-space:pre; font-family: monospace\">26\n",
              "</span>"
            ]
          },
          "execution_count": 72,
          "metadata": {},
          "output_type": "execute_result"
        }
      ],
      "source": [
        "\u2374text"
      ]
    },
    {
      "cell_type": "markdown",
      "metadata": {},
      "source": [
        "the primitives `,` and `\u236a` work the same way. We need to turn input vectors into matrices with 1 row before we proceed with the framing process.\n",
        "\n",
        "Let us define `shape \u2190 \u2374\u2375` as the shape of the input `Frame` gets. If `\u2375` is a matrix, then `shape` is the appropriate shape, otherwise we need `\u2375` to be reshaped into `1,shape`. In traditional programming languages we could use an `if-else` statement. However, dfns do not have support for such flow control structures and so we need to handle this matter in a different way.\n",
        "\n",
        "A possibility is to create the vector `v\u21901,shape` and then index into it with care. If `\u2375` is a vector, `v` has 2 elements and we want both. If `\u2375` is a matrix, `v` has 3 elements and we want the elements in positions `2 3`. A way of generating the indices `1 2` if `\u2375` is a vector and `2 3` if `\u2375` is a matrix is with the expression `0 1+\u2262\u2374\u2375`:\n",
        "\n",
        "| `\u2375` | `\u2262\u2374\u2375` | `0 1+\u2262\u2374\u2375` |\n",
        "| :- | :-: | :-: |\n",
        "| vector | 1 | 1 2 |\n",
        "| matrix | 2 | 2 3 |\n",
        "\n",
        "When implementing the function we don't need to actually create `v`:"
      ]
    },
    {
      "cell_type": "code",
      "execution_count": 73,
      "metadata": {},
      "outputs": [],
      "source": [
        "]dinput\n",
        "Frame \u2190 {\n",
        "    shape \u2190 (1,\u2374\u2375)[0 1+\u2262\u2374\u2375]\n",
        "    f \u2190 shape\u2374\u2375\n",
        "    f \u2190 (\u2395UCS 9474) , f , (\u2395UCS 9474)\n",
        "    f \u2190 (\u2395UCS 9472) \u236a f \u236a (\u2395UCS 9472)\n",
        "    (r c) \u2190 \u2374f\n",
        "    f[1 r;1 c] \u2190 2 2\u2374\u2395UCS 9484 9488 9492 9496\n",
        "    f\n",
        "}"
      ]
    },
    {
      "cell_type": "code",
      "execution_count": 74,
      "metadata": {},
      "outputs": [
        {
          "data": {
            "text/html": [
              "<span style=\"white-space:pre; font-family: monospace\">\u250c\u2500\u2500\u2500\u2500\u2500\u2500\u2500\u2500\u2500\u2500\u2500\u2500\u2500\u2500\u2500\u2500\u2500\u2500\u2500\u2500\u2500\u2500\u2500\u2500\u2500\u2500\u2510\n",
              "\u2502We are not out of the wood\u2502\n",
              "\u2514\u2500\u2500\u2500\u2500\u2500\u2500\u2500\u2500\u2500\u2500\u2500\u2500\u2500\u2500\u2500\u2500\u2500\u2500\u2500\u2500\u2500\u2500\u2500\u2500\u2500\u2500\u2518\n",
              "</span>"
            ]
          },
          "execution_count": 74,
          "metadata": {},
          "output_type": "execute_result"
        }
      ],
      "source": [
        "Frame text"
      ]
    },
    {
      "cell_type": "code",
      "execution_count": 75,
      "metadata": {},
      "outputs": [
        {
          "data": {
            "text/html": [
              "<span style=\"white-space:pre; font-family: monospace\">\u250c\u2500\u2500\u2500\u2500\u2500\u2500\u2500\u2500\u2500\u2500\u2510\n",
              "\u2502Canberra  \u2502\n",
              "\u2502Paris     \u2502\n",
              "\u2502Washington\u2502\n",
              "\u2502Moscow    \u2502\n",
              "\u2502Martigues \u2502\n",
              "\u2502Mexico    \u2502\n",
              "\u2514\u2500\u2500\u2500\u2500\u2500\u2500\u2500\u2500\u2500\u2500\u2518\n",
              "</span>"
            ]
          },
          "execution_count": 75,
          "metadata": {},
          "output_type": "execute_result"
        }
      ],
      "source": [
        "Frame towns"
      ]
    },
    {
      "cell_type": "markdown",
      "metadata": {},
      "source": [
        "**Exercise 9**:\n",
        "\n",
        "The logic to solving this task resembles what we did in the first exercises. First we will find *Where* the first letter is, and then we will use indexing to put the second letter in those positions:"
      ]
    },
    {
      "cell_type": "code",
      "execution_count": 85,
      "metadata": {},
      "outputs": [],
      "source": [
        "]dinput\n",
        "Switch1 \u2190 {\n",
        "    r \u2190 \u2375\n",
        "    r[\u2378\u237a[1]=\u2375] \u2190 \u237a[2]\n",
        "    r\n",
        "}"
      ]
    },
    {
      "cell_type": "code",
      "execution_count": 86,
      "metadata": {},
      "outputs": [
        {
          "data": {
            "text/html": [
              "<span style=\"white-space:pre; font-family: monospace\">A bird in che hand is worch cwo in che bush\n",
              "</span>"
            ]
          },
          "execution_count": 86,
          "metadata": {},
          "output_type": "execute_result"
        }
      ],
      "source": [
        "'tc' Switch1 'A bird in the hand is worth two in the bush'"
      ]
    },
    {
      "cell_type": "markdown",
      "metadata": {},
      "source": [
        "We take the intermediate step of doing `r \u2190 \u2375` because we can't assign to `\u2375` and so `\u2375[\u2378\u237a[1]=\u2375] \u2190 \u237a[2]` wouldn't work."
      ]
    },
    {
      "cell_type": "markdown",
      "metadata": {},
      "source": [
        "**Exercise 10**:\n",
        "\n",
        "A very obvious modification of the function above is to write"
      ]
    },
    {
      "cell_type": "code",
      "execution_count": 87,
      "metadata": {},
      "outputs": [],
      "source": [
        "]dinput\n",
        "Switch2 \u2190 {\n",
        "    r \u2190 \u2375\n",
        "    r[\u2378\u237a[1]=\u2375] \u2190 \u237a[2]\n",
        "    r[\u2378\u237a[2]=\u2375] \u2190 \u237a[1]\n",
        "    r\n",
        "}"
      ]
    },
    {
      "cell_type": "code",
      "execution_count": 88,
      "metadata": {},
      "outputs": [
        {
          "data": {
            "text/html": [
              "<span style=\"white-space:pre; font-family: monospace\">A berd en thi hand es worth two en thi bush\n",
              "</span>"
            ]
          },
          "execution_count": 88,
          "metadata": {},
          "output_type": "execute_result"
        }
      ],
      "source": [
        "'ei' Switch2 'A bird in the hand is worth two in the bush'"
      ]
    },
    {
      "cell_type": "markdown",
      "metadata": {},
      "source": [
        "However, a really elegant solution becomes possible if we use the *Index Of* primitive and the concept of changing the frame of reference we discussed previously (cf. {numref}`Some-Primitive-Functions-Changing-The-Frame-of-Reference`). We used this concept to convert lower case letters into upper case letters."
      ]
    },
    {
      "cell_type": "code",
      "execution_count": 89,
      "metadata": {},
      "outputs": [],
      "source": [
        "]dinput\n",
        "Switch2 \u2190 {\n",
        "    pos \u2190 (\u237a,\u2375)\u2373\u2375\n",
        "    (\u237a[2 1],\u2375)[pos]\n",
        "}"
      ]
    },
    {
      "cell_type": "code",
      "execution_count": 90,
      "metadata": {},
      "outputs": [
        {
          "data": {
            "text/html": [
              "<span style=\"white-space:pre; font-family: monospace\">A berd en thi hand es worth two en thi bush\n",
              "</span>"
            ]
          },
          "execution_count": 90,
          "metadata": {},
          "output_type": "execute_result"
        }
      ],
      "source": [
        "'ei' Switch2 'A bird in the hand is worth two in the bush'"
      ]
    },
    {
      "cell_type": "markdown",
      "metadata": {},
      "source": [
        "What exactly is happening? Well, we are basically establishing the initial and final sets (as seen in {numref}`Some-Primitive-Functions-Changing-The-Frame-of-Reference`) as the sentence itself, but preceded by the two characters. For the initial set, we have them in their input order (the `(\u237a,\u2375)` above) but for the final set we swap them (the `\u237a[2 1],\u2375` above).\n",
        "\n",
        "This establishes the following \"conversion\":\n",
        "\n",
        "```\n",
        "eiA bird in the hand is worth two in the bush\n",
        "ieA bird in the hand is worth two in the bush\n",
        "```\n",
        "\n",
        "For every character, we first look for it in the first line, stopping as soon as we find it (that is what `\u2373` does) and then we swap it with the corresponding character in the line below.\n",
        "\n",
        "We can thus re-implement `Switch2` with more intermediate steps, to make this more obvious:"
      ]
    },
    {
      "cell_type": "code",
      "execution_count": 91,
      "metadata": {},
      "outputs": [],
      "source": [
        "]dinput\n",
        "Switch2 \u2190 {\n",
        "    \u2395\u2190 initialSet \u2190 \u237a,\u2375\n",
        "    pos \u2190 initialSet\u2373\u2375\n",
        "    \u2395\u2190 finalSet \u2190 \u237a[2 1],\u2375\n",
        "    finalSet[pos]\n",
        "}"
      ]
    },
    {
      "cell_type": "code",
      "execution_count": 92,
      "metadata": {
        "scrolled": true
      },
      "outputs": [
        {
          "data": {
            "text/html": [
              "<span style=\"white-space:pre; font-family: monospace\">eiA bird in the hand is worth two in the bush\n",
              "ieA bird in the hand is worth two in the bush\n",
              "A berd en thi hand es worth two en thi bush\n",
              "</span>"
            ]
          },
          "execution_count": 92,
          "metadata": {},
          "output_type": "execute_result"
        }
      ],
      "source": [
        "'ei' Switch2 'A bird in the hand is worth two in the bush'"
      ]
    },
    {
      "cell_type": "markdown",
      "metadata": {},
      "source": [
        "**Exercise 11**:\n",
        "\n",
        "If you are thinking about doing this exercise with a double `:For` loop then you are thinking it wrong, because APL has two primitives that are particularly well-suited for this job: the *Index Of* primitive, that you learned about in {numref}`Some-Primitive-Functions-Position-Index-Of`, and the *Where* primitive, that you learned about in {numref}`Some-Primitive-Functions-Where`.\n",
        "\n",
        "Just for reference, here is the double loop solution that you would probably have to write in other programming languages:"
      ]
    },
    {
      "cell_type": "code",
      "execution_count": 93,
      "metadata": {},
      "outputs": [],
      "source": [
        "\u2207 msg \u2190 MaxPlace matrix; max; row; col; r; c\n",
        "    max \u2190 matrix[1;1]-1\n",
        "    row \u2190 0 \u22c4 col \u2190 0\n",
        "    :For r :In \u2373(\u2374matrix)[1]\n",
        "        :For c :In \u2373(\u2374matrix)[2]\n",
        "            :If matrix[r;c] > max\n",
        "                max \u2190 matrix[r;c]\n",
        "                row \u2190 r \u22c4 col \u2190 c\n",
        "            :EndIf\n",
        "        :EndFor\n",
        "    :EndFor\n",
        "    msg \u2190 'The greatest value: ',(\u2355max),' in row ',(\u2355row),', column ',(\u2355col)\n",
        "\u2207"
      ]
    },
    {
      "cell_type": "code",
      "execution_count": 94,
      "metadata": {},
      "outputs": [
        {
          "name": "stderr",
          "output_type": "stream",
          "text": [
            "VALUE ERROR: Undefined name: actual\n",
            "      MaxPlace actual\n",
            "               \u2227\n"
          ]
        }
      ],
      "source": [
        "MaxPlace actual"
      ]
    },
    {
      "cell_type": "markdown",
      "metadata": {},
      "source": [
        "This implementation of `MaxPlace` has very poor APL style because it can be greatly simplified if one makes careful use of the available primitives.\n",
        "\n",
        "For starters, using *Reduce* makes it very easy to find the value of the maximum. After that, we just have to find its actual position.\n",
        "\n",
        "If one is to use *Index Of* (`\u2373`), we can easily find out where the maximum is in the flattened matrix, and then we use some basic arithmetic to compute its original position:"
      ]
    },
    {
      "cell_type": "code",
      "execution_count": 95,
      "metadata": {},
      "outputs": [],
      "source": [
        "\u2207 msg \u2190 MaxPlace matrix; max; flat; width; pos; row; col\n",
        "    max \u2190 \u2308/flat\u2190,matrix\n",
        "    pos \u2190 flat\u2373max\n",
        "    width \u2190 (\u2374matrix)[2]\n",
        "    row \u2190 \u2308pos\u00f7width\n",
        "    col \u2190 pos-width\u00d7row-1\n",
        "    msg \u2190 'The greatest value: ',(\u2355max),' in row ',(\u2355row),', column ',\u2355col\n",
        "\u2207"
      ]
    },
    {
      "cell_type": "code",
      "execution_count": 96,
      "metadata": {},
      "outputs": [
        {
          "name": "stderr",
          "output_type": "stream",
          "text": [
            "VALUE ERROR: Undefined name: actual\n",
            "      MaxPlace actual\n",
            "               \u2227\n"
          ]
        }
      ],
      "source": [
        "MaxPlace actual"
      ]
    },
    {
      "cell_type": "markdown",
      "metadata": {},
      "source": [
        "The solution above looks much more like the code an APLer would write.\n",
        "\n",
        "Finally, if you thought about using the *Where* primitive you had the right instinct. However, you may find a difficulty:"
      ]
    },
    {
      "cell_type": "code",
      "execution_count": 97,
      "metadata": {},
      "outputs": [
        {
          "name": "stderr",
          "output_type": "stream",
          "text": [
            "VALUE ERROR: Undefined name: actual\n",
            "      \u2378actual=519\n",
            "       \u2227\n"
          ]
        }
      ],
      "source": [
        "\u2378actual=519"
      ]
    },
    {
      "cell_type": "markdown",
      "metadata": {},
      "source": [
        "Looking at the result above, we can see the `4 4` with the location of the maximum is enclosed, i.e. is a scalar, instead of the `4 4` vector we'd like:"
      ]
    },
    {
      "cell_type": "code",
      "execution_count": 98,
      "metadata": {},
      "outputs": [
        {
          "name": "stderr",
          "output_type": "stream",
          "text": [
            "VALUE ERROR: Undefined name: actual\n",
            "      4 4\u2261\u2378actual=519\n",
            "           \u2227\n"
          ]
        }
      ],
      "source": [
        "4 4\u2261\u2378actual=519"
      ]
    },
    {
      "cell_type": "markdown",
      "metadata": {},
      "source": [
        "When you learn about the *First* primitive (`\u2283`, typed with <kbd>APL</kbd>+<kbd>x</kbd>) you will see the task becomes much more simple:\n",
        "\n",
        "<!-- (TODO) Remove the fast-forward; maybe revisit this exercise after \u2283 was taught. -->"
      ]
    },
    {
      "cell_type": "code",
      "execution_count": 99,
      "metadata": {},
      "outputs": [
        {
          "name": "stderr",
          "output_type": "stream",
          "text": [
            "VALUE ERROR: Undefined name: actual\n",
            "      \u2283\u2378actual=519\n",
            "        \u2227\n"
          ]
        }
      ],
      "source": [
        "\u2283\u2378actual=519"
      ]
    },
    {
      "cell_type": "markdown",
      "metadata": {},
      "source": [
        "Using this we can implement the `MaxPlace` in a much more concise way. We do so below, also making use of a dfn for diversity sake:"
      ]
    },
    {
      "cell_type": "code",
      "execution_count": 100,
      "metadata": {},
      "outputs": [],
      "source": [
        "]dinput\n",
        "MaxPlace \u2190 {\n",
        "    max \u2190 \u2308/,\u2375\n",
        "    (row col) \u2190 \u2283\u2378max=\u2375\n",
        "    'The greatest value: ',(\u2355max),' in row ',(\u2355row),', column ',\u2355col\n",
        "}"
      ]
    },
    {
      "cell_type": "code",
      "execution_count": 101,
      "metadata": {},
      "outputs": [
        {
          "name": "stderr",
          "output_type": "stream",
          "text": [
            "VALUE ERROR: Undefined name: actual\n",
            "      MaxPlace actual\n",
            "               \u2227\n"
          ]
        }
      ],
      "source": [
        "MaxPlace actual"
      ]
    },
    {
      "cell_type": "markdown",
      "metadata": {},
      "source": [
        "**Exercise 12**:\n",
        "\n",
        "A straightforward solution to this exercise would involve a tradfn with an `:If` statement to select which formula to use:"
      ]
    },
    {
      "cell_type": "code",
      "execution_count": 102,
      "metadata": {},
      "outputs": [],
      "source": [
        "\u2207 converted \u2190 temps Convert conversion\n",
        "    :If conversion\u2261'F-C'\n",
        "        converted \u2190 5\u00d7(temps-32)\u00f79\n",
        "    :Else\n",
        "        converted \u2190 32+9\u00d7temps\u00f75\n",
        "    :EndIf\n",
        "\u2207"
      ]
    },
    {
      "cell_type": "code",
      "execution_count": 103,
      "metadata": {},
      "outputs": [
        {
          "data": {
            "text/html": [
              "<span style=\"white-space:pre; font-family: monospace\">30 0 100\n",
              "</span>"
            ]
          },
          "execution_count": 103,
          "metadata": {},
          "output_type": "execute_result"
        }
      ],
      "source": [
        "86 32 212 Convert 'F-C' \u235d 30 0 100"
      ]
    },
    {
      "cell_type": "code",
      "execution_count": 104,
      "metadata": {},
      "outputs": [
        {
          "data": {
            "text/html": [
              "<span style=\"white-space:pre; font-family: monospace\">44.6 59 77\n",
              "</span>"
            ]
          },
          "execution_count": 104,
          "metadata": {},
          "output_type": "execute_result"
        }
      ],
      "source": [
        "7 15 25   Convert 'C-F' \u235d 44.6 59 7"
      ]
    },
    {
      "cell_type": "markdown",
      "metadata": {},
      "source": [
        "This solution is correct but below we include a couple of alternatives that do not make use of an `:If... :Else... :EndIf` control structure.\n",
        "\n",
        "Another possibility would be to simply apply both formulas and select the correct final values:"
      ]
    },
    {
      "cell_type": "code",
      "execution_count": 105,
      "metadata": {},
      "outputs": [],
      "source": [
        "\u2207 converted \u2190 temps Convert conversion; values; n\n",
        "    values \u2190 (32+9\u00d7temps\u00f75),(5\u00d7(temps-32)\u00f79)\n",
        "    n \u2190 \u2262temps\n",
        "    converted \u2190 values[(\u2373n)+n\u00d7conversion\u2261'F-C']\n",
        "\u2207"
      ]
    },
    {
      "cell_type": "code",
      "execution_count": 106,
      "metadata": {},
      "outputs": [
        {
          "data": {
            "text/html": [
              "<span style=\"white-space:pre; font-family: monospace\">30 0 100\n",
              "</span>"
            ]
          },
          "execution_count": 106,
          "metadata": {},
          "output_type": "execute_result"
        }
      ],
      "source": [
        "86 32 212 Convert 'F-C' \u235d 30 0 100"
      ]
    },
    {
      "cell_type": "code",
      "execution_count": 107,
      "metadata": {},
      "outputs": [
        {
          "data": {
            "text/html": [
              "<span style=\"white-space:pre; font-family: monospace\">44.6 59 77\n",
              "</span>"
            ]
          },
          "execution_count": 107,
          "metadata": {},
          "output_type": "execute_result"
        }
      ],
      "source": [
        "7 15 25   Convert 'C-F' \u235d 44.6 59 7"
      ]
    },
    {
      "cell_type": "markdown",
      "metadata": {},
      "source": [
        "An ingenious solution could also be written if one is to notice that both conversions work with the formula `a+b\u00d7T-c`, where `T` is the temperatures to be converted and `a`, `b` and `c` are parameters:\n",
        "\n",
        "| Conversion | `a` | `b` | `c` |\n",
        "| :-: |  :-: |  :-: |  :-: |\n",
        "| F to C | 0 | `5\u00f79` | 32 |\n",
        "| C to F | 32 | 1.8 | 0 |\n",
        "\n",
        "Having noticed this, one only has to select the appropriate parameters and apply the general formula. We do so in a dfn:"
      ]
    },
    {
      "cell_type": "code",
      "execution_count": 108,
      "metadata": {},
      "outputs": [],
      "source": [
        "]dinput\n",
        "Convert \u2190 {\n",
        "    params \u2190 2 3\u23740 (5\u00f79) 32 32 1.8 0\n",
        "    (a b c) \u2190 params[1+\u2375\u2261'C-F';]\n",
        "    a+b\u00d7\u237a-c\n",
        "}"
      ]
    },
    {
      "cell_type": "code",
      "execution_count": 109,
      "metadata": {},
      "outputs": [
        {
          "data": {
            "text/html": [
              "<span style=\"white-space:pre; font-family: monospace\">30 0 100\n",
              "</span>"
            ]
          },
          "execution_count": 109,
          "metadata": {},
          "output_type": "execute_result"
        }
      ],
      "source": [
        "86 32 212 Convert 'F-C' \u235d 30 0 100"
      ]
    },
    {
      "cell_type": "code",
      "execution_count": 110,
      "metadata": {
        "scrolled": false
      },
      "outputs": [
        {
          "data": {
            "text/html": [
              "<span style=\"white-space:pre; font-family: monospace\">44.6 59 77\n",
              "</span>"
            ]
          },
          "execution_count": 110,
          "metadata": {},
          "output_type": "execute_result"
        }
      ],
      "source": [
        "7 15 25   Convert 'C-F' \u235d 44.6 59 7"
      ]
    },
    {
      "cell_type": "markdown",
      "metadata": {},
      "source": [
        "**Exercise 13**:\n",
        "\n",
        "Solving this exercise is a straightforward application of what you learned in the section about control structures:"
      ]
    },
    {
      "cell_type": "code",
      "execution_count": 111,
      "metadata": {},
      "outputs": [],
      "source": [
        "\u2207 sum \u2190 LoopSum vec; n\n",
        "    sum \u2190 0\n",
        "    :For n :In vec\n",
        "        sum \u2190 sum+n\n",
        "    :EndFor\n",
        "\u2207"
      ]
    },
    {
      "cell_type": "code",
      "execution_count": 112,
      "metadata": {},
      "outputs": [
        {
          "data": {
            "text/html": [
              "<span style=\"white-space:pre; font-family: monospace\">260\n",
              "</span>"
            ]
          },
          "execution_count": 112,
          "metadata": {},
          "output_type": "execute_result"
        }
      ],
      "source": [
        "LoopSum 31 37 44 19 27 60 42"
      ]
    },
    {
      "cell_type": "markdown",
      "metadata": {},
      "source": [
        "You will know you are a true APLer when your response to the prompt \"Just for fun, can you program such a loop in APL?\" is \"This is hardly any fun...\"."
      ]
    },
    {
      "cell_type": "markdown",
      "metadata": {},
      "source": [
        "**Exercise 14**:\n",
        "\n",
        "Once again, solving this exercise is a straightforward application of what you learned in the section on control structures:"
      ]
    },
    {
      "cell_type": "code",
      "execution_count": 113,
      "metadata": {},
      "outputs": [],
      "source": [
        "\u2207 reversed \u2190 ReverLoop vec; item\n",
        "    reversed \u2190 \u236c\n",
        "    :For item :In vec\n",
        "        reversed \u2190 reversed,item\n",
        "    :EndFor\n",
        "\u2207"
      ]
    },
    {
      "cell_type": "code",
      "execution_count": 114,
      "metadata": {},
      "outputs": [
        {
          "data": {
            "text/html": [
              "<span style=\"white-space:pre; font-family: monospace\">The solution without loop was much better\n",
              "</span>"
            ]
          },
          "execution_count": 114,
          "metadata": {},
          "output_type": "execute_result"
        }
      ],
      "source": [
        "ReverLoop 'The solution without loop was much better'\n",
        "\u235d retteb hcum saw pool tuohtiw noitulos ehT"
      ]
    },
    {
      "cell_type": "markdown",
      "metadata": {},
      "source": [
        "Neither this exercise nor exercise 13 can be solved with dfns because they explicitly ask for loops to be used."
      ]
    },
    {
      "cell_type": "markdown",
      "metadata": {},
      "source": [
        "**Exercise 15**:\n",
        "\n",
        "This exercise has a very helpful hint that should greatly simplify it.\n",
        "\n",
        "Following the steps provided, accomplishing 1. is a matter of obtaining the dimensions of the input matrix (with `(r c)\u2190\u2374mat`, for example) and then computing how many rows the reshaped matrix will have. If the matrix has `r\u00d7c` elements and the new matrix will have rows of length `g`, then we need `(r\u00d7c)\u00f7g` rows in total.\n",
        "\n",
        "Step 2. is self-explanatory and just requires the use of *Catenate* and *Plus-Reduce*.\n",
        "\n",
        "For step 3., we know the final result will have as many rows as the initial matrix, but some new columns. If the initial matrix had `c` columns and those were subdivided into subgroups of `g` columns, then we created `c\u00f7g` subgroups. Each subgroup corresponds to a new column, so the final matrix should have `c+c\u00f7g` columns.\n",
        "\n",
        "With all this in mind, here is a reference implementation:"
      ]
    },
    {
      "cell_type": "code",
      "execution_count": 115,
      "metadata": {},
      "outputs": [],
      "source": [
        "\u2207 sub \u2190 g SubSum mat; r; c; rows; reshaped; newc\n",
        "    (r c) \u2190 \u2374mat\n",
        "    rows \u2190 (r\u00d7c)\u00f7g\n",
        "    reshaped \u2190 rows g\u2374mat\n",
        "    reshaped \u2190 reshaped,+/reshaped\n",
        "    newc \u2190 c+c\u00f7g\n",
        "    sub \u2190 r newc\u2374reshaped\n",
        "\u2207"
      ]
    },
    {
      "cell_type": "code",
      "execution_count": 116,
      "metadata": {},
      "outputs": [
        {
          "name": "stderr",
          "output_type": "stream",
          "text": [
            "VALUE ERROR: Undefined name: actual\n",
            "      3 SubSum actual\n",
            "               \u2227\n"
          ]
        }
      ],
      "source": [
        "3 SubSum actual"
      ]
    },
    {
      "cell_type": "code",
      "execution_count": 117,
      "metadata": {
        "scrolled": true
      },
      "outputs": [
        {
          "name": "stderr",
          "output_type": "stream",
          "text": [
            "VALUE ERROR: Undefined name: actual\n",
            "      2 SubSum actual\n",
            "               \u2227\n"
          ]
        }
      ],
      "source": [
        "2 SubSum actual"
      ]
    },
    {
      "cell_type": "markdown",
      "metadata": {},
      "source": [
        "Refactoring this implementation into a dfn should be straightforward, as this tradfn has no control structures whatsoever."
      ]
    },
    {
      "cell_type": "markdown",
      "metadata": {},
      "source": [
        "**Exercise 16**:\n",
        "\n",
        "The main difficulty of this exercise is in managing the lengths of all the rows of the final character matrix. As we loop over the different \"slices\" of the input vector, we need to append them to the final character matrix while making sure all rows have the appropriate size, as dictated by the longest slice.\n",
        "\n",
        "For concatenating matrices and vectors we will use *Catenate* (`,`), but we will also use *Catenate First* (`\u236a`), which you learned about in {numref}`Some-Primitive-Functions-Special-Cases-and-Notations`.\n",
        "\n",
        "The first reference implementation we provide has *many* loops:"
      ]
    },
    {
      "cell_type": "code",
      "execution_count": 118,
      "metadata": {},
      "outputs": [],
      "source": [
        "\u2207 mat \u2190 sep Separate string; width; slice; char\n",
        "    mat \u2190 0 0\u2374''\n",
        "    width \u2190 0\n",
        "    slice \u2190 ''\n",
        "    :For char :In string\n",
        "        :If char=sep\n",
        "            :While width>\u2262slice\n",
        "                slice ,\u2190 ' '\n",
        "            :EndWhile\n",
        "            :While width<\u2262slice\n",
        "                mat \u2190 mat,' '\n",
        "                width \u2190 width+1\n",
        "            :EndWhile\n",
        "            mat \u2190 mat\u236aslice\n",
        "            slice \u2190 ''\n",
        "        :Else\n",
        "            slice ,\u2190 char\n",
        "        :EndIf\n",
        "    :EndFor\n",
        "\u2207"
      ]
    },
    {
      "cell_type": "code",
      "execution_count": 119,
      "metadata": {},
      "outputs": [
        {
          "data": {
            "text/html": [
              "<span style=\"white-space:pre; font-family: monospace\">You     \n",
              "will    \n",
              "need a  \n",
              "loop    \n",
              "to solve\n",
              "this    \n",
              "</span>"
            ]
          },
          "execution_count": 119,
          "metadata": {},
          "output_type": "execute_result"
        }
      ],
      "source": [
        "'/' Separate 'You/will/need a/loop/to solve/this/exercise'"
      ]
    },
    {
      "cell_type": "markdown",
      "metadata": {},
      "source": [
        "This solution works but uses *three* different loops and an `:If` statement. This solution does not make use of the fact that APL has very strong array-manipulation capabilities. We can eliminate many of the control structures if we compute in advance the widths of the various slices.\n",
        "\n",
        "For that matter, we will\n",
        "\n",
        " 1. start by computing the positions at which the separators occur;\n",
        " 2. then we'll compute the maximum width a slice will ever have;\n",
        " 3. after that, we loop over those positions, backtracking the position of the previous separator, so that we can get the slice between two consecutive separators;\n",
        " 4. at this point, we can get the slice and pad it with the remaining spaces.\n",
        "\n",
        "Here is a tradfn implementing that:"
      ]
    },
    {
      "cell_type": "code",
      "execution_count": 120,
      "metadata": {},
      "outputs": [],
      "source": [
        "\u2207 mat \u2190 sep Separate string; pos; width; idx; start; end; length; slice\n",
        "    pos \u2190 \u2378sep=string,sep\n",
        "    idx \u2190 \u2373\u00af1+\u2262pos\n",
        "    width \u2190 \u2308/pos[1],pos[1+idx]-pos[idx]\n",
        "    mat \u2190 0 width\u2374''\n",
        "    start \u2190 0\n",
        "    :For end :In pos\n",
        "        length \u2190 \u00af1+end-start\n",
        "        slice \u2190 string[start+\u2373length]\n",
        "        mat \u2190 mat\u236aslice,(width-length)/' '\n",
        "        start \u2190 end\n",
        "    :EndFor\n",
        "\u2207"
      ]
    },
    {
      "cell_type": "code",
      "execution_count": 121,
      "metadata": {},
      "outputs": [
        {
          "data": {
            "text/html": [
              "<span style=\"white-space:pre; font-family: monospace\">You      \n",
              "will     \n",
              "need a   \n",
              "loop     \n",
              "to solve \n",
              "this     \n",
              "exercise \n",
              "</span>"
            ]
          },
          "execution_count": 121,
          "metadata": {},
          "output_type": "execute_result"
        }
      ],
      "source": [
        "'/' Separate 'You/will/need a/loop/to solve/this/exercise'"
      ]
    },
    {
      "cell_type": "markdown",
      "metadata": {},
      "source": [
        "Another variation to the tradfn above would be to have a very long vector of spaces, for example `tail\u2190(\u2262string)\u2374' '`, and whenever we get a slice from the original string, we could do `mat \u2190 mat\u236a(slice,tail)[\u2373width]`.\n",
        "\n",
        "Yet another variation of the above would be possible if you read about the `:For... :InEach... :EndFor` control structure in {numref}`User-Defined-Functions-InEach`. With that, we can iterate directly over the limits of each slice. A reference tradfn implementing that method is shown below, also incorporating the alternative way to pad the remainder spaces mentioned above:"
      ]
    },
    {
      "cell_type": "code",
      "execution_count": 122,
      "metadata": {},
      "outputs": [],
      "source": [
        "\u2207 mat \u2190 sep Separate string; tai; pos; width; idx; starts; ends; s; e; l\n",
        "    tail \u2190 (\u2262string)\u2374' '\n",
        "    string \u2190 sep,string,sep\n",
        "    pos \u2190 \u2378sep=string\n",
        "    idx \u2190 \u2373\u00af1+\u2262pos\n",
        "    starts \u2190 pos[idx]\n",
        "    ends \u2190 pos[1+idx]\n",
        "    width \u2190 \u2308/ends-starts\n",
        "    mat \u2190 0 width\u2374''\n",
        "    :For (s e) :InEach starts ends\n",
        "        l \u2190 \u00af1+e-s\n",
        "        mat \u2190 mat\u236a(string[s+\u2373l],tail)[\u2373width]\n",
        "    :EndFor\n",
        "\u2207"
      ]
    },
    {
      "cell_type": "code",
      "execution_count": 123,
      "metadata": {},
      "outputs": [
        {
          "data": {
            "text/html": [
              "<span style=\"white-space:pre; font-family: monospace\">You      \n",
              "will     \n",
              "need a   \n",
              "loop     \n",
              "to solve \n",
              "this     \n",
              "exercise \n",
              "</span>"
            ]
          },
          "execution_count": 123,
          "metadata": {},
          "output_type": "execute_result"
        }
      ],
      "source": [
        "'/' Separate 'You/will/need a/loop/to solve/this/exercise'"
      ]
    },
    {
      "cell_type": "markdown",
      "metadata": {},
      "source": [
        "Now that we have seen a couple of tradfn solutions with loops, we will go over a possible dfn solution that only makes use of the tools you were given so far:"
      ]
    },
    {
      "cell_type": "code",
      "execution_count": 124,
      "metadata": {},
      "outputs": [],
      "source": [
        "]dinput\n",
        "Separate\u2190{\n",
        "    s \u2190 \u2375,\u237a           \u235d Include separator in the end.\n",
        "    pos \u2190 \u2378\u237a=s        \u235d Find where the separators are.\n",
        "    idx \u2190 \u2373\u00af1+\u2262pos\n",
        "    ws \u2190 \u00af1+pos[1],pos[1+idx]-pos[idx]  \u235d Find the width of each slice.\n",
        "    w \u2190 \u2308/ws          \u235d Find the width of the final matrix.\n",
        "    rep \u2190 s=s         \u235d Create a mask of 1s to later use with Replicate.\n",
        "    rep[pos] \u2190 ws-w   \u235d Sep. will be replaced with as many spaces as needed.\n",
        "    (\u2262pos) w\u2374rep/s\n",
        "}"
      ]
    },
    {
      "cell_type": "code",
      "execution_count": 125,
      "metadata": {},
      "outputs": [
        {
          "data": {
            "text/html": [
              "<span style=\"white-space:pre; font-family: monospace\">You     \n",
              "will    \n",
              "need a  \n",
              "loop    \n",
              "to solve\n",
              "this    \n",
              "exercise\n",
              "</span>"
            ]
          },
          "execution_count": 125,
          "metadata": {},
          "output_type": "execute_result"
        }
      ],
      "source": [
        "'/' Separate 'You/will/need a/loop/to solve/this/exercise'"
      ]
    },
    {
      "cell_type": "markdown",
      "metadata": {},
      "source": [
        "**Teaser**\n",
        "\n",
        "Finally, the \"*true*\" APL solution, that you could not have written yet because you haven't learned enough primitives, but that we included here to show that you are just scratching the surface of the power of APL:"
      ]
    },
    {
      "cell_type": "code",
      "execution_count": 126,
      "metadata": {},
      "outputs": [
        {
          "data": {
            "text/html": [
              "<span style=\"white-space:pre; font-family: monospace\">You     \n",
              "will    \n",
              "need a  \n",
              "loop    \n",
              "to solve\n",
              "this    \n",
              "exercise\n",
              "</span>"
            ]
          },
          "execution_count": 126,
          "metadata": {},
          "output_type": "execute_result"
        }
      ],
      "source": [
        "Sorry \u2190 {\u2191\u2375\u2286\u2368\u237a\u2260\u2375}\n",
        "'/' Sorry 'You/will/need a/loop/to solve/this/exercise'"
      ]
    },
    {
      "cell_type": "markdown",
      "metadata": {},
      "source": [
        "In order to understand the dfn above, you will need to learn about the primitive functions Mix `\u2191` and Partition `\u2286` in [here](./Nested-Arrays-Continued.ipynb), and the primitive operator Switch `\u2368`, in [here](./Operators.ipynb).\n",
        "\n",
        "This could be made even shorter if you go tacit (cf. [Tacit Programming](./Tacit-Programming.ipynb)):"
      ]
    },
    {
      "cell_type": "code",
      "execution_count": 127,
      "metadata": {},
      "outputs": [
        {
          "data": {
            "text/html": [
              "<span style=\"white-space:pre; font-family: monospace\">You     \n",
              "will    \n",
              "need a  \n",
              "loop    \n",
              "to solve\n",
              "this    \n",
              "exercise\n",
              "</span>"
            ]
          },
          "execution_count": 127,
          "metadata": {},
          "output_type": "execute_result"
        }
      ],
      "source": [
        "Sorry \u2190 \u2191\u2260\u2286\u22a2\n",
        "'/' Sorry 'You/will/need a/loop/to solve/this/exercise'"
      ]
    },
    {
      "cell_type": "markdown",
      "metadata": {},
      "source": [
        "It is also relevant to conclude with a remark on the behaviour of all these possible solutions in edge cases. First of all, can you find input strings for which these functions behave differently?\n",
        "\n",
        "You may have noticed that leading and trailing separators, as well as consecutive separators in the string, get treated differently in these different solutions. That is, strings like `'/Leading/separators'`, `trailing/sep/arators/'` and `'//consecutive/separators///in/some//places'` give different results if you use the different solutions above. In the real world, you would have to either make sure your implementation handles these edge cases appropriately (it is also up to you to define what \"*appropriate*\" means) or avoid them altogether."
      ]
    },
    {
      "cell_type": "markdown",
      "metadata": {},
      "source": [
        "**Exercise 17**:\n",
        "\n",
        "This was already done when we introduced `:While` loops in {numref}`User-Defined-Functions-Top-Controlled-Loop-WhileEndWhile`), and the implementation there did not make use of an `:If... :Else` statement to decide which of the two branching options we should choose:"
      ]
    },
    {
      "cell_type": "code",
      "execution_count": 128,
      "metadata": {},
      "outputs": [],
      "source": [
        "\u2207 path \u2190 CollatzPath n\n",
        "    path \u2190 1\u2374n\n",
        "    :While path[\u2262path]\u22601\n",
        "        n \u2190 path[\u2262path]\n",
        "        n \u2190 ((n\u00f72) (1+3\u00d7n))[1+2|n]\n",
        "        path \u2190 path,n\n",
        "    :EndWhile\n",
        "\u2207"
      ]
    },
    {
      "cell_type": "code",
      "execution_count": 129,
      "metadata": {},
      "outputs": [
        {
          "data": {
            "text/html": [
              "<span style=\"white-space:pre; font-family: monospace\">37 112 56 28 14 7 22 11 34 17 52 26 13 40 20 10 5 16 8 4 2 1\n",
              "</span>"
            ]
          },
          "execution_count": 129,
          "metadata": {},
          "output_type": "execute_result"
        }
      ],
      "source": [
        "CollatzPath 37"
      ]
    },
    {
      "cell_type": "markdown",
      "metadata": {},
      "source": [
        "But of course you could use an `:If... :Else`:"
      ]
    },
    {
      "cell_type": "code",
      "execution_count": 130,
      "metadata": {},
      "outputs": [],
      "source": [
        "\u2207 path \u2190 CollatzPath n; last\n",
        "    path \u2190 1\u2374last\u2190n\n",
        "    :While 1\u2260last\n",
        "        :If 2|last\n",
        "            last \u2190 1+3\u00d7last\n",
        "        :Else\n",
        "            last \u2190 last\u00f72\n",
        "        :EndIf\n",
        "        path \u2190 path,last\n",
        "    :EndWhile\n",
        "\u2207"
      ]
    },
    {
      "cell_type": "code",
      "execution_count": 131,
      "metadata": {},
      "outputs": [
        {
          "data": {
            "text/html": [
              "<span style=\"white-space:pre; font-family: monospace\">37 112 56 28 14 7 22 11 34 17 52 26 13 40 20 10 5 16 8 4 2 1\n",
              "</span>"
            ]
          },
          "execution_count": 131,
          "metadata": {},
          "output_type": "execute_result"
        }
      ],
      "source": [
        "CollatzPath 37"
      ]
    },
    {
      "cell_type": "markdown",
      "metadata": {},
      "source": [
        "Another possibility here is to use a similar approach to that used in exercise 12, realising that both branches involve a formula of the type `b+a\u00d7n` where `a` and `b` are parameters that depend on the parity of `n`:\n",
        "\n",
        "| `2\\|n` | `a` | `b` |\n",
        "| :- | :-: | :-: |\n",
        "| 0 | 0.5 | 0 |\n",
        "| 1 | 3 | 1 |\n",
        "\n",
        "This means we only need to pick the correct coefficients at each step:"
      ]
    },
    {
      "cell_type": "code",
      "execution_count": 132,
      "metadata": {},
      "outputs": [],
      "source": [
        "\u2207 path \u2190 CollatzPath n; last; coefs; a; b\n",
        "    path \u2190 1\u2374last\u2190n\n",
        "    coefs \u2190 2 2\u23740.5 0 3 1\n",
        "    :While 1\u2260last\n",
        "        (a b) \u2190 coefs[1+2|last;]\n",
        "        path \u2190 path,last\u2190b+a\u00d7last\n",
        "    :EndWhile\n",
        "\u2207"
      ]
    },
    {
      "cell_type": "code",
      "execution_count": 133,
      "metadata": {},
      "outputs": [
        {
          "data": {
            "text/html": [
              "<span style=\"white-space:pre; font-family: monospace\">37 112 56 28 14 7 22 11 34 17 52 26 13 40 20 10 5 16 8 4 2 1\n",
              "</span>"
            ]
          },
          "execution_count": 133,
          "metadata": {},
          "output_type": "execute_result"
        }
      ],
      "source": [
        "CollatzPath 37"
      ]
    },
    {
      "cell_type": "markdown",
      "metadata": {},
      "source": [
        "Any of the methods employed to avoid an explicit `:If... :Else` control structure can be used in defining a recursive version of the `CollatzPath` function. For example, if we use the \"coefficient-picking\" method, we could write"
      ]
    },
    {
      "cell_type": "code",
      "execution_count": 134,
      "metadata": {},
      "outputs": [],
      "source": [
        "]dinput\n",
        "CollatzPath \u2190 {\n",
        "    \u2375=1: 1\n",
        "    (a b) \u2190 (2 2\u23740.5 0 3 1)[1+2|\u2375;]\n",
        "    \u2375,\u2207b+a\u00d7\u2375\n",
        "}"
      ]
    },
    {
      "cell_type": "code",
      "execution_count": 135,
      "metadata": {},
      "outputs": [
        {
          "data": {
            "text/html": [
              "<span style=\"white-space:pre; font-family: monospace\">37 112 56 28 14 7 22 11 34 17 52 26 13 40 20 10 5 16 8 4 2 1\n",
              "</span>"
            ]
          },
          "execution_count": 135,
          "metadata": {},
          "output_type": "execute_result"
        }
      ],
      "source": [
        "CollatzPath 37"
      ]
    },
    {
      "cell_type": "markdown",
      "metadata": {},
      "source": [
        "Finally, a small rework can make this recursive version be *tail recursive*, as described in {numref}`User-Defined-Functions-Tail-Recursion`. If you skipped that, do not worry. In a nutshell, a tail recursive function is a recursive function that is less resource intensive. Such a possible implementation could be"
      ]
    },
    {
      "cell_type": "code",
      "execution_count": 136,
      "metadata": {},
      "outputs": [],
      "source": [
        "]dinput\n",
        "CollatzPath \u2190 {\n",
        "    \u237a \u2190 \u236c\n",
        "    \u2375=1: \u237a,\u2375\n",
        "    (a b) \u2190 (2 2\u23740.5 0 3 1)[1+2|\u2375;]\n",
        "    (\u237a,\u2375)\u2207b+a\u00d7\u2375\n",
        "}"
      ]
    },
    {
      "cell_type": "code",
      "execution_count": 137,
      "metadata": {},
      "outputs": [
        {
          "data": {
            "text/html": [
              "<span style=\"white-space:pre; font-family: monospace\">37 112 56 28 14 7 22 11 34 17 52 26 13 40 20 10 5 16 8 4 2 1\n",
              "</span>"
            ]
          },
          "execution_count": 137,
          "metadata": {},
          "output_type": "execute_result"
        }
      ],
      "source": [
        "CollatzPath 37"
      ]
    },
    {
      "cell_type": "code",
      "execution_count": null,
      "metadata": {},
      "outputs": [],
      "source": []
    }
  ],
  "metadata": {
    "kernelspec": {
      "display_name": "Dyalog APL",
      "language": "apl",
      "name": "dyalog-kernel"
    },
    "language_info": {
      "file_extension": ".apl",
      "mimetype": "text/apl",
      "name": "APL"
    },
    "toc": {
      "base_numbering": 1,
      "nav_menu": {},
      "number_sections": false,
      "sideBar": true,
      "skip_h1_title": true,
      "title_cell": "Table of Contents",
      "title_sidebar": "Contents",
      "toc_cell": false,
      "toc_position": {},
      "toc_section_display": true,
      "toc_window_display": false
    }
  },
  "nbformat": 4,
  "nbformat_minor": 4
}