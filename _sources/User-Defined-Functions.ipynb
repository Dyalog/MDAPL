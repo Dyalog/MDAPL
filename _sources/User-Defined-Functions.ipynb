{
  "cells": [
    {
      "cell_type": "markdown",
      "metadata": {},
      "source": [
        "(User-Defined-Functions-User-Defined-Functions)=\n",
        "# User Defined Functions\n",
        "\n",
        "(User-Defined-Functions-Landmarks)=\n",
        "## Landmarks\n",
        "\n",
        "(User-Defined-Functions-Some-Definitions)=\n",
        "### Some Definitions\n",
        "\n",
        "In previous chapters we made a distinction between the functions and operators which are part of APL, like `+`, `\u00d7`, `\u2308` and `/` (we refer to them as *primitives*), and those functions and operators that are created by the user which are represented, not by a symbol, but by a name like `Average` (we say they are *user-defined*).\n",
        "\n",
        "We also made an important distinction between *functions*, which apply to data and which return data, and *operators*, which apply to functions or data and produce *derived* functions (see {numref}`Some-Primitive-Functions-Definition`).\n",
        "\n",
        "This means that we can distinguish between 4 major categories of processing tools:\n",
        "\n",
        "| Category | Name | Examples | Refer to |\n",
        "| :- | :- | :-: | :-: |\n",
        "| Built-in tools | Primitive functions | `+` `\u00d7` `\u2308` `\u2374` | Previous chapters |\n",
        "| | Primitive operators | `/` | [Chapter on Operators](./Operators.ipynb) |\n",
        "| User-defined tools | **User-defined functions** | `Average` | This chapter |\n",
        "| | User-defined operators | | {numref}`Operators-User-Defined-Operators` |\n",
        "\n",
        "This chapter is devoted to user-defined *functions*. The subject of user-defined *operators* will be covered later.\n",
        "\n",
        "We can further categorise user-defined functions according to the way they process data. Firstly we can distinguish between ***Direct*** and ***Procedural*** **functions**.\n",
        "\n",
        " - ***Direct*** functions (commonly referred to as ***dfns***) are defined in a very formal manner.\n",
        "   - They are usually designed for pure calculation, without any external or user interfaces. *Dfns* do not allow loops except by recursion and have limited options for conditional programming.\n",
        "   \n",
        " - ***Procedural*** functions (commonly referred to as ***tradfns***, short for *traditional functions*) are less formal and look much more like programs written in other languages.\n",
        "   - They provide greater flexibility for building major applications which involve user interfaces, access to files or databases and other external interfaces. *Tradfns* may take no arguments and behave like scripts.\n",
        "   \n",
        "Even though you may write entire systems with dfns, you might prefer to restrict their use to encapsulate statements that, together, perform some meaningful operation on the data given.\n",
        "\n",
        "The second distinction we can make concerns the number of arguments a user-defined function can have.\n",
        "\n",
        " - ***Dyadic*** functions take two arguments which are placed on either side of the function (`X f Y`);\n",
        " - ***Monadic*** functions take a single argument which is placed to the right of the function (`f Y`);\n",
        " - ***Niladic*** functions take no argument at all;\n",
        " - ***Ambivalent*** functions are dyadic functions whose left argument is optional."
      ]
    },
    {
      "cell_type": "markdown",
      "metadata": {},
      "source": [
        "(User-Defined-Functions-Configure-Your-Environment)=\n",
        "### Configure Your Environment\n",
        "\n",
        "Dyalog APL has a highly configurable development and debugging environment, designed to fit the requirements of very different kinds of programmers. This environment is controlled by configuration parameters; let us determine which context will suit you best.\n",
        "\n",
        "(User-Defined-Functions-What-Do-You-Need)=\n",
        "#### What Do You Need?\n",
        "\n",
        "All you need (except for love) is:\n",
        "\n",
        " - a window in which to type expressions that you want to be executed (white Session window);\n",
        " - one or more windows in which to create/modify user-defined functions (grey Edit windows);\n",
        " - one or more windows to debug execution errors (black Trace window).\n",
        " \n",
        "The colours above refer to the positions of the windows in {numref}`fig-IDE_Window_Layout`, {numref}`fig-IDE_Window_Horizontal_Layout` and {numref}`fig-IDE_Floating_Window_Layout`.\n",
        "\n",
        "The default configuration is consistent with other software development tools and in it is possible to divide the session window into three parts which can be resized, as shown in {numref}`fig-IDE_Window_Layout`:\n",
        "\n",
        "(fig-IDE_Window_Layout)=\n",
        "```{figure} ../res/IDE_Window_Layout.png\n",
        "---\n",
        "name: IDE_Window_Layout\n",
        "---\n",
        "The default window configuration\n",
        "```\n",
        "\n",
        "This configuration provides a single Edit window and a single Trace window, each of which is \"docked\" along one of the Session window borders. You can dock these windows along any of the Session window sides. For example, {numref}`fig-IDE_Window_Horizontal_Layout` shows a configuration with three horizontal panes, highly suitable for entering and editing very long statements.\n",
        "\n",
        "(fig-IDE_Window_Horizontal_Layout)=\n",
        "```{figure} ../res/IDE_Window_Horizontal_Layout.png\n",
        "---\n",
        "name: IDE_Window_Horizontal_Layout\n",
        "---\n",
        "The Edit and Trace windows in a horizontal layout\n",
        "```\n",
        "\n",
        "The Edit window supports the *Multiple Document Interface* (MDI). This means that you can work on more than one function at a time.\n",
        "\n",
        " - On the Windows interpreter you can use the \"Window\" menu to *Tile* and *Cascade*, or you can maximise any one of the functions to concentrate solely upon it.\n",
        " - If you are using RIDE the default behaviour is to open a tab per item you are editing.\n",
        " \n",
        "If you are working on a relatively small screen you may find that you prefer to work with \"floating\" windows in a layout similar to the one in {numref}`fig-IDE_Floating_Window_Layout`:\n",
        "\n",
        "(fig-IDE_Floating_Window_Layout)=\n",
        "```{figure} ../res/IDE_Floating_Window_Layout.png\n",
        "---\n",
        "name: IDE_Floating_Window_Layout\n",
        "---\n",
        "\"floating\" windows layout\n",
        "```\n",
        "\n",
        " - On the Windows interpreter, you can either\n",
        "   - grab the border of a sub-window (Edit or Trace) and then drag and drop it in the middle of the session window, as an independent floating window,\n",
        "   - or enable the \"Classic Dyalog mode\", which can be set under \"Options\" \u21e8 \"Configure...\" \u21e8 \"Trace/Edit\" as shown in {numref}`fig-IDE_Configure_Classic_Mode`.\n",
        "\n",
        "(fig-IDE_Configure_Classic_Mode)=\n",
        "```{figure} ../res/IDE_Configure_Classic_Mode.png\n",
        "---\n",
        "name: IDE_Configure_Classic_Mode\n",
        "---\n",
        "Option to set \"Classic Dyalog mode\"\n",
        "```\n",
        "\n",
        " - If you are using RIDE you can go to \"Edit\" \u21e8 \"Preferences\" \u21e8 \"Windows\" and enable \"Floating windows\" as shown in {numref}`fig-RIDE_Configure_Floating_Windows`:\n",
        " \n",
        "(fig-RIDE_Configure_Floating_Windows)=\n",
        "```{figure} ../res/RIDE_Configure_Floating_Windows.png\n",
        "---\n",
        "name: RIDE_Configure_Floating_Windows\n",
        "---\n",
        "Enable \"floating\" windows in RIDE\n",
        "```\n",
        "\n",
        "Working with floating windows has the added benefit of allowing you to have a stack of trace windows (as opposed to a single trace window), showing which functions call which other. This will be explored in {numref}`First-Aid-Kit-Choose-Your-Configuration`."
      ]
    },
    {
      "cell_type": "markdown",
      "metadata": {},
      "source": [
        "(User-Defined-Functions-A-Text-Editor-What-For)=\n",
        "#### A Text Editor; What For?\n",
        "\n",
        "Some dfns can be defined by a single expression and so are easy to define inside the session. We used this technique before to define a function named `Average` and here we do it again:"
      ]
    },
    {
      "cell_type": "code",
      "execution_count": 1,
      "metadata": {},
      "outputs": [],
      "source": [
        "Average \u2190 {(+/\u2375)\u00f7\u2262\u2375}"
      ]
    },
    {
      "cell_type": "markdown",
      "metadata": {},
      "source": [
        "However, as one defines more complex functions, it can become more complicated to define dfns in the session window.\n",
        "\n",
        "For one, the ability to define multi-line dfns in the session was only made available with Dyalog 18.0. In these notebooks you can see that multi-line dfns are defined in cells that start with `]dinput`:"
      ]
    },
    {
      "cell_type": "code",
      "execution_count": 2,
      "metadata": {},
      "outputs": [],
      "source": [
        "]dinput\n",
        "Average \u2190 {\n",
        "    (+/\u2375)\u00f7\u2262\u2375\n",
        "}"
      ]
    },
    {
      "cell_type": "markdown",
      "metadata": {},
      "source": [
        "In the Windows interpreter an expression like the one above might result in a `SYNTAX ERROR`, as you type `Average \u2190 {`, then hit <kbd>Enter</kbd> to change line, and then the interpreter tries to execute the line you entered, instead of allowing you to continue the definition of `Average`. To change this behaviour and allow for multi-line dfns, you can go to \"Options\" &#8680; \"Configure...\" &#8680; \"Session\" and check the experimental multi-line input box at the bottom.\n",
        "\n",
        "If you are using RIDE and this capability is not ON by default, you can turn it ON by setting the `DYALOG_LINEEDITOR_MODE` environment variable to `1` in the connection menu, like demonstrated in {numref}`fig-RIDE_Enable_Multiline_Input`.\n",
        "\n",
        "(fig-RIDE_Enable_Multiline_Input)=\n",
        "```{figure} ../res/RIDE_Enable_Multiline_Input.png\n",
        "---\n",
        "name: RIDE_Enable_Multiline_Input\n",
        "---\n",
        "Configuring RIDE to allow for multi-line input\n",
        "```\n"
      ]
    },
    {
      "cell_type": "markdown",
      "metadata": {},
      "source": [
        "Secondly, even if multi-line input is enabled, you have to be very careful not to press <kbd>Enter</kbd> and ***fix*** the dfn by mistake. This is not a terrible blunder but it does lose some time and breaks your train of thought. In APL, to ***fix*** a file means to define the variables (data, functions and operators) in the file and to make them available in the session. Hence, to fix a function means assigning it to a name and making it available for use in the session window.\n",
        "\n",
        "For these reasons, it is more appropriate to edit multi-line dfns and tradfns in a suitable text editor. The built-in editors for the Windows interpreter and for RIDE are likely to be suitable for you, but other alternatives exist. You can find an enumeration of most of the available alternatives over at [the APL Wiki](https://aplwiki.com/wiki/Text_editors). We will also cover this in more depth in [the chapter about source code management](./Source-Code-Management.ipynb)."
      ]
    },
    {
      "cell_type": "markdown",
      "metadata": {},
      "source": [
        "(User-Defined-Functions-Simple-Dfns)=\n",
        "## Simple Dfns\n",
        "\n",
        "(User-Defined-Functions-Definition)=\n",
        "### Definition\n",
        "\n",
        "Dfns are a set of statements enclosed by curly braces `{}`, so a simple dfn is typically created with the syntax `Name \u2190 { definition }` where\n",
        "\n",
        " - `Name` is the function name. It is followed by a definition, delimited by a pair of curly braces `{` and `}`. This definition may make use of one or two variables named `\u2375` and `\u237a`, which represent the values to be processed. `\u2375` and `\u237a` are called ***arguments*** of the function;\n",
        " - `\u2375` (<kbd>APL</kbd>+<kbd>w</kbd>) is a generic symbol which represents the right argument of the function;\n",
        " - `\u237a` (<kbd>APL</kbd>+<kbd>a</kbd>) is a generic symbol which represents the left argument if the function is dyadic.\n",
        " \n",
        "Here is an example monadic dfn:"
      ]
    },
    {
      "cell_type": "code",
      "execution_count": 3,
      "metadata": {},
      "outputs": [],
      "source": [
        "Average \u2190 {(+/\u2375)\u00f7(\u2262\u2375)}"
      ]
    },
    {
      "cell_type": "markdown",
      "metadata": {},
      "source": [
        "And here are two more dyadic dfns, and an example showing how they can be used:"
      ]
    },
    {
      "cell_type": "code",
      "execution_count": 4,
      "metadata": {},
      "outputs": [
        {
          "data": {
            "text/html": [
              "<span style=\"white-space:pre; font-family: monospace\">48\n",
              "</span>"
            ]
          },
          "execution_count": 4,
          "metadata": {},
          "output_type": "execute_result"
        }
      ],
      "source": [
        "Plus \u2190 {\u237a + \u2375}\n",
        "Times \u2190 {\u237a \u00d7 \u2375}\n",
        "3 Times 7 Plus 9"
      ]
    },
    {
      "cell_type": "markdown",
      "metadata": {},
      "source": [
        "Notice the final statement above is strictly equivalent to"
      ]
    },
    {
      "cell_type": "code",
      "execution_count": 5,
      "metadata": {},
      "outputs": [
        {
          "data": {
            "text/html": [
              "<span style=\"white-space:pre; font-family: monospace\">48\n",
              "</span>"
            ]
          },
          "execution_count": 5,
          "metadata": {},
          "output_type": "execute_result"
        }
      ],
      "source": [
        "3 \u00d7 7 + 9"
      ]
    },
    {
      "cell_type": "markdown",
      "metadata": {},
      "source": [
        "as the order of evaluation is the same.\n",
        "\n",
        "The arguments `\u2375` and `\u237a` are read-only (they cannot be reassigned) and are limited in scope to only being visible within the function itself. The only exception to the \"read-only rule\" is when providing a default left argument to the dfn, which we'll cover in {numref}`User-Defined-Functions-Default-Left-Argument`.\n",
        "\n",
        "The developer does not need to declare anything about the shape or internal representation of the arguments and the result. This information is automatically obtained from the arrays provided as its arguments. This is similar to the behaviour of dynamically typed programming languages, such as Python or Javascript. So, our functions can work on any arrays.\n",
        "\n",
        "A scalar added to a matrix returns a matrix. No need to specify it:"
      ]
    },
    {
      "cell_type": "code",
      "execution_count": 6,
      "metadata": {},
      "outputs": [
        {
          "data": {
            "text/html": [
              "<span style=\"white-space:pre; font-family: monospace\">13 14 15\n",
              "16 17 18\n",
              "</span>"
            ]
          },
          "execution_count": 6,
          "metadata": {},
          "output_type": "execute_result"
        }
      ],
      "source": [
        "12 Plus 2 3\u2374\u23736"
      ]
    },
    {
      "cell_type": "markdown",
      "metadata": {},
      "source": [
        "And a vector of integer numbers multiplied by a scalar fractional number returns a vector of fractional numbers:"
      ]
    },
    {
      "cell_type": "code",
      "execution_count": 7,
      "metadata": {},
      "outputs": [
        {
          "data": {
            "text/html": [
              "<span style=\"white-space:pre; font-family: monospace\">73 248.2 379.6 116.8\n",
              "</span>"
            ]
          },
          "execution_count": 7,
          "metadata": {},
          "output_type": "execute_result"
        }
      ],
      "source": [
        "7.3 Times 10 34 52 16"
      ]
    },
    {
      "cell_type": "markdown",
      "metadata": {},
      "source": [
        "These simple dfns are well suited for pure calculations of straightforward array manipulation. For example, here is how we can calculate the hypotenuse of a right-angled triangle from the lengths of the two other sides:"
      ]
    },
    {
      "cell_type": "code",
      "execution_count": 8,
      "metadata": {},
      "outputs": [
        {
          "data": {
            "text/html": [
              "<span style=\"white-space:pre; font-family: monospace\">5\n",
              "</span>"
            ]
          },
          "execution_count": 8,
          "metadata": {},
          "output_type": "execute_result"
        }
      ],
      "source": [
        "Hypo \u2190 {(+/\u2375*2)*0.5}\n",
        "Hypo 3 4"
      ]
    },
    {
      "cell_type": "code",
      "execution_count": 9,
      "metadata": {},
      "outputs": [
        {
          "data": {
            "text/html": [
              "<span style=\"white-space:pre; font-family: monospace\">13\n",
              "</span>"
            ]
          },
          "execution_count": 9,
          "metadata": {},
          "output_type": "execute_result"
        }
      ],
      "source": [
        "Hypo 12 5"
      ]
    },
    {
      "cell_type": "markdown",
      "metadata": {},
      "source": [
        "(User-Defined-Functions-Unnamed-Dfns)=\n",
        "### Unnamed Dfns\n",
        "\n",
        "A dfn can be defined and then discarded immediately after it has been used, in which case it does not need a name. For example, the geometric mean of a set of $N$ values is defined as the $N^\\text{th}$ root of their product. The function can be defined and used inline like this:"
      ]
    },
    {
      "cell_type": "code",
      "execution_count": 10,
      "metadata": {},
      "outputs": [
        {
          "data": {
            "text/html": [
              "<span style=\"white-space:pre; font-family: monospace\">7.8657\n",
              "</span>"
            ]
          },
          "execution_count": 10,
          "metadata": {},
          "output_type": "execute_result"
        }
      ],
      "source": [
        "{(\u00d7/\u2375)*\u00f7\u2262\u2375} 6 8 4 11 9 14 7"
      ]
    },
    {
      "cell_type": "markdown",
      "metadata": {},
      "source": [
        "But because we didn't assign it to a name, it was discarded after being used and can't be used again. This kind of function is similar to *inline* or *lambda* functions in other languages.\n",
        "\n",
        "A special case is `{}`. This function does nothing but placed at the left of an expression, it can be used to prevent the result of the expression from being displayed on the screen:"
      ]
    },
    {
      "cell_type": "code",
      "execution_count": 11,
      "metadata": {},
      "outputs": [
        {
          "data": {
            "text/html": [
              "<span style=\"white-space:pre; font-family: monospace\">6\n",
              "</span>"
            ]
          },
          "execution_count": 11,
          "metadata": {},
          "output_type": "execute_result"
        }
      ],
      "source": [
        "3 Plus 3"
      ]
    },
    {
      "cell_type": "code",
      "execution_count": 12,
      "metadata": {},
      "outputs": [],
      "source": [
        "{} 3 Plus 3"
      ]
    },
    {
      "cell_type": "markdown",
      "metadata": {},
      "source": [
        "(User-Defined-Functions-Modifying-The-Code)=\n",
        "### Modifying The Code\n",
        "\n",
        "Single line dfns may be modified using the function editor, as will be explained in the next section. They can also be redefined entirely, as many times as necessary, as shown:"
      ]
    },
    {
      "cell_type": "code",
      "execution_count": 13,
      "metadata": {},
      "outputs": [],
      "source": [
        "Magic \u2190 {\u237a+\u2375}"
      ]
    },
    {
      "cell_type": "code",
      "execution_count": 14,
      "metadata": {},
      "outputs": [],
      "source": [
        "Magic \u2190 {\u237a\u00f7+/\u2375}"
      ]
    },
    {
      "cell_type": "code",
      "execution_count": 15,
      "metadata": {},
      "outputs": [],
      "source": [
        "Magic \u2190 {(+/\u237a)-(+/\u2375)}"
      ]
    },
    {
      "cell_type": "markdown",
      "metadata": {},
      "source": [
        "We defined `Magic` and then changed it twice. Only the most recent definition will survive.\n",
        "\n",
        "Now we will delve into how to define and use more complex dfns. For this we will explore the built-in editor that comes with your interpreter and you will also learn some more syntax to empower your dfns."
      ]
    },
    {
      "cell_type": "markdown",
      "metadata": {},
      "source": [
        "(User-Defined-Functions-More-on-Dfns)=\n",
        "## More on Dfns\n",
        "\n",
        "The dfns we wrote in the previous section were very simple and consisted of a single statement. We will now use the text editor to define multi-line dfns.\n",
        "\n",
        "(User-Defined-Functions-Characteristics)=\n",
        "### Characteristics\n",
        "\n",
        " - Generally, the opening and closing braces are placed alone on the first and last lines. This is not mandatory, it is just a convention;\n",
        " - dfns might be commented at will;\n",
        " - one can create as many variables as needed: they are automatically deemed to be local variables, which means they only exist while inside the dfn. Note that this is opposite to the default behaviour of tradfns, where all variables are global (cf. {numref}`User-Defined-Functions-Local-Variables` and {numref}`User-Defined-Functions-Local-Names`);\n",
        " - the arguments `\u2375` and `\u237a` retain the values passed to them as arguments and may not be changed. Any attempt to modify them causes a `SYNTAX ERROR` to be reported, except when *defaulting the left argument* (cf. {numref}`User-Defined-Functions-Default-Left-Argument`);\n",
        " - as soon as an expression generates a result that is not assigned to a name or used in any other way, the function terminates, and the value of that expression is returned as the result of the function. If the function contains more lines they will not be executed (cf. {numref}`User-Defined-Functions-Returning-a-Result`);\n",
        " - traditional *control structures* and *branching* cannot be used in dfns (cf. {numref}`User-Defined-Functions-Guards`).\n",
        " \n",
        "We will explore these characteristics in the following sections."
      ]
    },
    {
      "cell_type": "markdown",
      "metadata": {},
      "source": [
        "(User-Defined-Functions-A-Working-Example)=\n",
        "### A Working Example\n",
        "\n",
        "As an example, let us see how we could define a function to calculate the *harmonic mean* of a vector of numbers. The harmonic mean of a vector is the inverse of the sum of the inverses of the numbers in the vector. This will become clearer when you see the code.\n",
        "\n",
        "First of all, we must choose a name for our new function. We will choose to name it `HarmonicMean`.\n",
        "\n",
        "Among the multiple ways of invoking the text editor, let us use a very simple one: type the command `)ED` followed by a space and the name of the function to create: `)ED HarmonicMean`.\n",
        "\n",
        "Unless you already redefined the defaults, a mostly empty window should open to the right of the session. We include an example screenshot of such a window from the Windows interpreter in {numref}`fig-Win_Editor`:\n",
        "\n",
        "(fig-Win_Editor)=\n",
        "```{figure} ../res/Win_Editor.png\n",
        "---\n",
        "name: Win_Editor\n",
        "---\n",
        "The edit window opened by the command `)ED HarmonicMean`\n",
        "```\n",
        "\n",
        "Now that we have a window in which to define our dfn, we can go ahead and implement the harmonic mean. We shall split the process into a series of simple steps, as shown in {numref}`fig-Win_Editor_Harmonic_Mean`: calculate the inverses, sum them, invert the sum.\n",
        "\n",
        "(fig-Win_Editor_Harmonic_Mean)=\n",
        "```{figure} ../res/Win_Editor_Harmonic_Mean.png\n",
        "---\n",
        "name: Win_Editor_Harmonic_Mean\n",
        "---\n",
        "The `HarmonicMean` function defined in the edit window\n",
        "```\n",
        "\n",
        "We also define it in this notebook:"
      ]
    },
    {
      "cell_type": "code",
      "execution_count": 16,
      "metadata": {},
      "outputs": [],
      "source": [
        "]dinput\n",
        "HarmonicMean \u2190 {\n",
        "    inverses \u2190 \u00f7\u2375\n",
        "    sum \u2190 +/inverses\n",
        "    \u00f7sum\n",
        "}"
      ]
    },
    {
      "cell_type": "markdown",
      "metadata": {},
      "source": [
        "Now that we know how to compute the harmonic mean of a vector of numbers, we just have to ***fix*** it so that we can use it in our session. ***Fixing*** a function is somewhat analogous to compilation in other programming languages, but can also be seen as a sort of \"File save\" followed by an \"import\" in interpreted languages. There are many ways to fix a function:\n",
        "\n",
        "| Interpreter | *Fix* method |\n",
        "| :- | :- |\n",
        "| Windows interpreter | go to \"File\" &#8680; \"Fix\" |\n",
        "| RIDE | right-click the edit window &#8680; \"Fix\" |\n",
        "| both | press <kbd>Esc</kbd> (also closes the edit window) |\n",
        "| both | define a custom keyboard shortcut |\n",
        "\n",
        "Following one of the appropriate methods should make the `HarmonicMean` function available for use in the session window. You can make sure it worked by simply typing in the name of the function and pressing <kbd>Enter</kbd> in the session:"
      ]
    },
    {
      "cell_type": "code",
      "execution_count": 17,
      "metadata": {},
      "outputs": [
        {
          "data": {
            "text/html": [
              "<span style=\"white-space:pre; font-family: monospace\">{                  \n",
              "     inverses\u2190\u00f7\u2375   \n",
              "     sum\u2190+/inverses\n",
              "     \u00f7sum          \n",
              " }                 \n",
              "</span>"
            ]
          },
          "execution_count": 17,
          "metadata": {},
          "output_type": "execute_result"
        }
      ],
      "source": [
        "HarmonicMean"
      ]
    },
    {
      "cell_type": "markdown",
      "metadata": {},
      "source": [
        "If instead of getting the source code of the function you get a `VALUE ERROR`, then the function wasn't properly fixed.\n",
        "\n",
        "Now that we can compute the harmonic mean of a vector of numbers, we can answer questions like the following:\n",
        "\n",
        "\"*If I take 6 hours to paint a wall and you take 2 hours, how much time will we need to paint the wall if we do it together?*\"\n",
        "\n",
        "This type of question can be answered by taking the harmonic mean of the individual times:"
      ]
    },
    {
      "cell_type": "code",
      "execution_count": 18,
      "metadata": {},
      "outputs": [
        {
          "data": {
            "text/html": [
              "<span style=\"white-space:pre; font-family: monospace\">1.5\n",
              "</span>"
            ]
          },
          "execution_count": 18,
          "metadata": {},
          "output_type": "execute_result"
        }
      ],
      "source": [
        "HarmonicMean 6 2"
      ]
    },
    {
      "cell_type": "markdown",
      "metadata": {},
      "source": [
        "So the two of us would take 1h30min to paint the whole wall.\n",
        "\n",
        "Similarly, if we had further help from two people who could paint the whole wall in 4 and 5 hours, respectively, the four of us would need"
      ]
    },
    {
      "cell_type": "code",
      "execution_count": 19,
      "metadata": {},
      "outputs": [
        {
          "data": {
            "text/html": [
              "<span style=\"white-space:pre; font-family: monospace\">0.895522\n",
              "</span>"
            ]
          },
          "execution_count": 19,
          "metadata": {},
          "output_type": "execute_result"
        }
      ],
      "source": [
        "times \u2190 6 2 4 5\n",
        "\u22a2hours \u2190 HarmonicMean times"
      ]
    },
    {
      "cell_type": "markdown",
      "metadata": {},
      "source": [
        "hours, or approximately"
      ]
    },
    {
      "cell_type": "code",
      "execution_count": 20,
      "metadata": {},
      "outputs": [
        {
          "data": {
            "text/html": [
              "<span style=\"white-space:pre; font-family: monospace\">53\n",
              "</span>"
            ]
          },
          "execution_count": 20,
          "metadata": {},
          "output_type": "execute_result"
        }
      ],
      "source": [
        "\u230a60\u00d7hours"
      ]
    },
    {
      "cell_type": "markdown",
      "metadata": {},
      "source": [
        "minutes."
      ]
    },
    {
      "cell_type": "markdown",
      "metadata": {},
      "source": [
        "After using your function for a bit you realise it is over-complicated, in the sense that it involves too many intermediate steps and you wish to get rid of those. If your edit window is still open, you can simply edit the function and fix it again. If the edit window was closed, you can type `)ED HarmonicMean` again or you can double-click the name `HarmonicMean` in the session. Both options will open the appropriate edit window.\n",
        "\n",
        "After having done so, perhaps you rewrite your function to"
      ]
    },
    {
      "cell_type": "code",
      "execution_count": 21,
      "metadata": {},
      "outputs": [],
      "source": [
        "]dinput\n",
        "HarmonicMean \u2190 {\n",
        "    inverses \u2190 \u00f7\u2375\n",
        "    \u00f7+/inverses\n",
        "}"
      ]
    },
    {
      "cell_type": "markdown",
      "metadata": {},
      "source": [
        "Then you fix it and use it again a couple of times:"
      ]
    },
    {
      "cell_type": "code",
      "execution_count": 22,
      "metadata": {},
      "outputs": [
        {
          "data": {
            "text/html": [
              "<span style=\"white-space:pre; font-family: monospace\">0.895522\n",
              "</span>"
            ]
          },
          "execution_count": 22,
          "metadata": {},
          "output_type": "execute_result"
        }
      ],
      "source": [
        "HarmonicMean times"
      ]
    },
    {
      "cell_type": "code",
      "execution_count": 23,
      "metadata": {},
      "outputs": [
        {
          "name": "stderr",
          "output_type": "stream",
          "text": [
            "DOMAIN ERROR: Divide by zero\n",
            "HarmonicMean[1] inverses\u2190\u00f7\u2375\n",
            "                         \u2227\n"
          ]
        }
      ],
      "source": [
        "HarmonicMean 4 3 2 1 0"
      ]
    },
    {
      "cell_type": "markdown",
      "metadata": {},
      "source": [
        "But now it resulted in an error, and the error messages says `HarmonicMean[1] inverses\u2190\u00f7\u2375`. This `HarmonicMean[1]` means the error was in line 1 of the `HarmonicMean` function. Right next to it, it also shows the part of the code that caused the error, but supposed you had a really long file, perhaps with multiple functions. How would you find the appropriate line in the first place?\n",
        "\n",
        "Thankfully, both RIDE and the Windows interpreter have an option that can be set to display line numbers (cf. {numref}`fig-Editors_Toggle_Line_Numbers`).\n",
        "\n",
        "(fig-Editors_Toggle_Line_Numbers)=\n",
        "```{figure} ../res/Editors_Toggle_Line_Numbers.png\n",
        "---\n",
        "name: Editors_Toggle_Line_Numbers\n",
        "---\n",
        "Option to toggle line numbers in RIDE (to the right) and the Windows interpreter (to the left)\n",
        "```\n",
        "\n"
      ]
    },
    {
      "cell_type": "markdown",
      "metadata": {},
      "source": [
        "Different people like to comment their code in different ways, and naturally dfns can be commented. For illustrative purposes, consider the dfn that follows, which has comments before any statement, inline with some statements, between the statements and at the end of the dfn:"
      ]
    },
    {
      "cell_type": "code",
      "execution_count": 24,
      "metadata": {},
      "outputs": [],
      "source": [
        "]dinput\n",
        "HarmonicMean \u2190 {\n",
        "    \u235d Monadic function to compute the harmonic mean of a vector\n",
        "    inverses \u2190 \u00f7\u2375   \u235d This inverts the numbers in the argument\n",
        "    \u235d and then\n",
        "    \u00f7+/inverses     \u235d we sum those inverses and return them.\n",
        "    \u235d Of course this will give an error if 0 is in the input argument.\n",
        "}"
      ]
    },
    {
      "cell_type": "markdown",
      "metadata": {},
      "source": [
        "The comments do *not* affect the behaviour of the function:"
      ]
    },
    {
      "cell_type": "code",
      "execution_count": 25,
      "metadata": {},
      "outputs": [
        {
          "data": {
            "text/html": [
              "<span style=\"white-space:pre; font-family: monospace\">0.895522\n",
              "</span>"
            ]
          },
          "execution_count": 25,
          "metadata": {},
          "output_type": "execute_result"
        }
      ],
      "source": [
        "HarmonicMean times"
      ]
    },
    {
      "cell_type": "markdown",
      "metadata": {},
      "source": [
        "(User-Defined-Functions-Local-Variables)=\n",
        "### Local Variables\n",
        "\n",
        "Notice that our `HarmonicMean` function makes use of an intermediate variable, `inverses`. Let us check its value:"
      ]
    },
    {
      "cell_type": "code",
      "execution_count": 26,
      "metadata": {},
      "outputs": [
        {
          "name": "stderr",
          "output_type": "stream",
          "text": [
            "VALUE ERROR: Undefined name: inverses\n",
            "      inverses\n",
            "      \u2227\n"
          ]
        }
      ],
      "source": [
        "inverses"
      ]
    },
    {
      "cell_type": "markdown",
      "metadata": {},
      "source": [
        "We got a `VALUE ERROR` because `inverses` isn't defined. It is a ***local variable***, that is, a variable that lives within the dfn only while the dfn is being executed. As soon as we exit the dfn the variable stops existing.\n",
        "\n",
        "The notion of *local* variable is opposed to the notion of ***global variable***, which is a variable that lives in the session and thus can be accessed from anywhere. Useful global variables are functions themselves, because defining them globally means they can be used from within other functions.\n",
        "\n",
        "As an example, we already defined the functions `Average` and `HarmonicMean` in the session. Let us now define a dfn named `AMHM` that checks empirically a mathematical theorem: that the arithmetic mean is always larger than or equal to the harmonic mean of a set of numbers:"
      ]
    },
    {
      "cell_type": "code",
      "execution_count": 27,
      "metadata": {},
      "outputs": [],
      "source": [
        "]dinput\n",
        "AMHM \u2190 {\n",
        "    am \u2190 Average \u2375\n",
        "    hm \u2190 HarmonicMean \u2375\n",
        "    am \u2265 hm\n",
        "}"
      ]
    },
    {
      "cell_type": "code",
      "execution_count": 28,
      "metadata": {},
      "outputs": [
        {
          "data": {
            "text/html": [
              "<span style=\"white-space:pre; font-family: monospace\">1\n",
              "</span>"
            ]
          },
          "execution_count": 28,
          "metadata": {},
          "output_type": "execute_result"
        }
      ],
      "source": [
        "AMHM \u23736"
      ]
    },
    {
      "cell_type": "code",
      "execution_count": 29,
      "metadata": {},
      "outputs": [
        {
          "data": {
            "text/html": [
              "<span style=\"white-space:pre; font-family: monospace\">1\n",
              "</span>"
            ]
          },
          "execution_count": 29,
          "metadata": {},
          "output_type": "execute_result"
        }
      ],
      "source": [
        "AMHM times"
      ]
    },
    {
      "cell_type": "markdown",
      "metadata": {},
      "source": [
        "Notice how the definition of `AMHM` uses both the `Average` and `HarmonicMean` dfns without defining them inside `AMHM`. This works because they were previously defined in the session.\n",
        "\n",
        "For larger applications, proper source code management is needed and you should make sure the functions `Average` and `HarmonicMean` have been fixed when you use them inside `AMHM`, but for illustrative purposes this is absolutely fine."
      ]
    },
    {
      "cell_type": "markdown",
      "metadata": {},
      "source": [
        "(User-Defined-Functions-Default-Left-Argument)=\n",
        "### Default Left Argument\n",
        "\n",
        "It was mentioned above that the values of `\u237a` and `\u2375`, the variables that represent the arguments to a dfn, cannot be assigned to. The only exception to this is when specifying a default left argument. This is relevant because a dyadic dfn can always be used monadically, as from the syntactic point of view its left argument `\u237a` is always optional. If the left argument is not present it is possible to assign a default value to `\u237a` by means of a normal assignment. If `\u237a` is given a value because the dfn was called dyadically, such assignment is skipped.\n",
        "\n",
        "Consider a function which calculates the $N^\\text{th}$ root of a number, but which is normally used to calculate square roots ($N = 2$). You can specify that the default value of the left argument (when omitted) is 2, as follows:"
      ]
    },
    {
      "cell_type": "code",
      "execution_count": 30,
      "metadata": {},
      "outputs": [],
      "source": [
        "]dinput\n",
        "Root \u2190 {\n",
        "    \u237a \u2190 2\n",
        "    \u2375*\u00f7\u237a\n",
        "}"
      ]
    },
    {
      "cell_type": "markdown",
      "metadata": {},
      "source": [
        "If we don't specify the left argument of `Root`, it computes the square root:"
      ]
    },
    {
      "cell_type": "code",
      "execution_count": 31,
      "metadata": {},
      "outputs": [
        {
          "data": {
            "text/html": [
              "<span style=\"white-space:pre; font-family: monospace\">25\n",
              "</span>"
            ]
          },
          "execution_count": 31,
          "metadata": {},
          "output_type": "execute_result"
        }
      ],
      "source": [
        "Root 625"
      ]
    },
    {
      "cell_type": "markdown",
      "metadata": {},
      "source": [
        "But if we specify `\u237a`, then the `\u237a \u2190 2` assignment is skipped:"
      ]
    },
    {
      "cell_type": "code",
      "execution_count": 32,
      "metadata": {},
      "outputs": [
        {
          "data": {
            "text/html": [
              "<span style=\"white-space:pre; font-family: monospace\">5\n",
              "</span>"
            ]
          },
          "execution_count": 32,
          "metadata": {},
          "output_type": "execute_result"
        }
      ],
      "source": [
        "4 Root 625"
      ]
    },
    {
      "cell_type": "markdown",
      "metadata": {},
      "source": [
        "Because the assignment with `\u237a\u2190` is skipped entirely if `\u237a` was provided, you should be careful with any side effects the expression to the right of `\u237a\u2190` might produce. We illustrate this with the following (silly) example:"
      ]
    },
    {
      "cell_type": "code",
      "execution_count": 33,
      "metadata": {},
      "outputs": [],
      "source": [
        "]dinput\n",
        "Silly \u2190 {\n",
        "    a \u2190 1        \u235d This assignment always happens\n",
        "    \u237a \u2190 a \u2190 2    \u235d Not executed if \u237a already has a value\n",
        "    a            \u235d Return a\n",
        "}"
      ]
    },
    {
      "cell_type": "code",
      "execution_count": 34,
      "metadata": {},
      "outputs": [
        {
          "data": {
            "text/html": [
              "<span style=\"white-space:pre; font-family: monospace\">2\n",
              "</span>"
            ]
          },
          "execution_count": 34,
          "metadata": {},
          "output_type": "execute_result"
        }
      ],
      "source": [
        "Silly 0"
      ]
    },
    {
      "cell_type": "markdown",
      "metadata": {},
      "source": [
        "Because we didn't provide a left argument, the `\u237a \u2190 a \u2190 2` line is executed and `a` becomes 2.\n",
        "\n",
        "On the other hand, if we provide a left argument the `\u237a \u2190 a \u2190 2` line is skipped and `a` remains 1:"
      ]
    },
    {
      "cell_type": "code",
      "execution_count": 35,
      "metadata": {},
      "outputs": [
        {
          "data": {
            "text/html": [
              "<span style=\"white-space:pre; font-family: monospace\">1\n",
              "</span>"
            ]
          },
          "execution_count": 35,
          "metadata": {},
          "output_type": "execute_result"
        }
      ],
      "source": [
        "0 Silly 0"
      ]
    },
    {
      "cell_type": "markdown",
      "metadata": {},
      "source": [
        "As for `\u2375`, attempting to assign to `\u2375` makes no sense: a dfn is always called monadically *or* dyadically, so the right argument is *always* present. Here's a function that computes the square root of `\u2375`, except that first it tries to assign 10 to `\u2375`:"
      ]
    },
    {
      "cell_type": "code",
      "execution_count": 36,
      "metadata": {},
      "outputs": [],
      "source": [
        "]dinput\n",
        "RootOf10 \u2190 {\n",
        "    \u2375 \u2190 10\n",
        "    \u2375*0.5\n",
        "}"
      ]
    },
    {
      "cell_type": "markdown",
      "metadata": {},
      "source": [
        "Simply typing the name of the function shows its code:"
      ]
    },
    {
      "cell_type": "code",
      "execution_count": 37,
      "metadata": {},
      "outputs": [
        {
          "data": {
            "text/html": [
              "<span style=\"white-space:pre; font-family: monospace\">{         \n",
              "     \u2375\u219010 \n",
              "     \u2375*0.5\n",
              " }        \n",
              "</span>"
            ]
          },
          "execution_count": 37,
          "metadata": {},
          "output_type": "execute_result"
        }
      ],
      "source": [
        "RootOf10"
      ]
    },
    {
      "cell_type": "markdown",
      "metadata": {},
      "source": [
        "And calling it monadically raises an error:"
      ]
    },
    {
      "cell_type": "code",
      "execution_count": 38,
      "metadata": {},
      "outputs": [
        {
          "name": "stderr",
          "output_type": "stream",
          "text": [
            "SYNTAX ERROR\n",
            "RootOf10[1] \u2375\u219010\n",
            "             \u2227\n"
          ]
        }
      ],
      "source": [
        "RootOf10 5"
      ]
    },
    {
      "cell_type": "markdown",
      "metadata": {},
      "source": [
        "(User-Defined-Functions-Returning-the-Result)=\n",
        "### Returning the Result\n",
        "\n",
        "We mentioned above that a dfn executes its statements until the first statement that does not assign its value. Here is a curious dfn with 4 statements:"
      ]
    },
    {
      "cell_type": "code",
      "execution_count": 39,
      "metadata": {},
      "outputs": [],
      "source": [
        "]dinput\n",
        "Count \u2190 {\n",
        "    1\n",
        "    2\n",
        "    3\n",
        "    10\u00f70\n",
        "}"
      ]
    },
    {
      "cell_type": "markdown",
      "metadata": {},
      "source": [
        "Notice that all four statements are simple. If we run `Count`, what will the result be?"
      ]
    },
    {
      "cell_type": "code",
      "execution_count": 40,
      "metadata": {},
      "outputs": [
        {
          "data": {
            "text/html": [
              "<span style=\"white-space:pre; font-family: monospace\">1\n",
              "</span>"
            ]
          },
          "execution_count": 40,
          "metadata": {},
          "output_type": "execute_result"
        }
      ],
      "source": [
        "Count 73"
      ]
    },
    {
      "cell_type": "markdown",
      "metadata": {},
      "source": [
        "The result we get is 1 because the first statement evaluates to 1 (obviously) and then we do nothing with it, so that is what the dfn returns. It doesn't matter what we wrote afterwards and it doesn't even matter that the very last statement would give a `DOMAIN ERROR`.\n",
        "\n",
        "These superfluous statements should be avoided, as they will sooner or later cause unnecessary confusion.\n",
        "\n",
        "As a basic debugging tool, it is possible to modify statements to display intermediate results:"
      ]
    },
    {
      "cell_type": "code",
      "execution_count": 41,
      "metadata": {},
      "outputs": [],
      "source": [
        "]dinput\n",
        "Count \u2190 {\n",
        "    \u2395\u21901\n",
        "    \u2395\u21902\n",
        "    \u2395\u21903\n",
        "    10\u00f70\n",
        "}"
      ]
    },
    {
      "cell_type": "code",
      "execution_count": 42,
      "metadata": {},
      "outputs": [
        {
          "name": "stderr",
          "output_type": "stream",
          "text": [
            "1\n",
            "2\n",
            "3\n",
            "DOMAIN ERROR: Divide by zero\n",
            "Count[4] 10\u00f70\n",
            "           \u2227\n"
          ]
        }
      ],
      "source": [
        "Count 73"
      ]
    },
    {
      "cell_type": "markdown",
      "metadata": {},
      "source": [
        "Be careful: by using `\u2395\u2190` to display intermediate results, suddenly we are doing _something_ with the superfluous statements and they are all being executed (we even reached the error statement).\n",
        "\n",
        "And even if we remove the statement that gives an error, the function will still return something other than the original 1:"
      ]
    },
    {
      "cell_type": "code",
      "execution_count": 43,
      "metadata": {},
      "outputs": [],
      "source": [
        "]dinput\n",
        "Count \u2190 {\n",
        "    \u2395\u21901\n",
        "    \u2395\u21902\n",
        "    3\n",
        "}"
      ]
    },
    {
      "cell_type": "code",
      "execution_count": 44,
      "metadata": {},
      "outputs": [
        {
          "data": {
            "text/html": [
              "<span style=\"white-space:pre; font-family: monospace\">1\n",
              "2\n",
              "3\n",
              "</span>"
            ]
          },
          "execution_count": 44,
          "metadata": {},
          "output_type": "execute_result"
        }
      ],
      "source": [
        "Count 73"
      ]
    },
    {
      "cell_type": "markdown",
      "metadata": {},
      "source": [
        "Now the function returned 3 instead of 1! So always be careful with which statement is actually giving the final result and avoid any extraneous statements."
      ]
    },
    {
      "cell_type": "markdown",
      "metadata": {},
      "source": [
        "(User-Defined-Functions-Preliminary-exercises)=\n",
        "## Preliminary exercises\n",
        "\n",
        "You are ready to solve simple problems. We **strongly recommend** that you try to solve all the following exercises before you continue further in this chapter.\n",
        "\n",
        "**Exercise 1**:\n",
        "\n",
        "Write a dyadic function `Extract` which returns the first `\u237a` items of any given vector `\u2375`."
      ]
    },
    {
      "cell_type": "code",
      "execution_count": 45,
      "metadata": {},
      "outputs": [],
      "source": [
        "Extract \u2190 {}\n",
        "3 Extract 45 86 31 20 75 62 18  \u235d should give 45 86 31\n",
        "6 Extract 'can you do it?'      \u235d should give 'can yo'"
      ]
    },
    {
      "cell_type": "markdown",
      "metadata": {},
      "source": [
        "**Exercise 2**:\n",
        "\n",
        "Write a dyadic function which ignores the first `\u237a` items of any given vector `\u2375` and only returns the remainder:"
      ]
    },
    {
      "cell_type": "code",
      "execution_count": 46,
      "metadata": {},
      "outputs": [],
      "source": [
        "Ignore \u2190 {}\n",
        "3 Ignore 45 86 31 20 75 62 18   \u235d should give 20 75 62 18\n",
        "6 Ignore 'can you do it?'       \u235d should give 'u do it?'"
      ]
    },
    {
      "cell_type": "markdown",
      "metadata": {},
      "source": [
        "**Exercise 3**:\n",
        "\n",
        "Write a monadic function which returns the items of a vector in reverse order:"
      ]
    },
    {
      "cell_type": "code",
      "execution_count": 47,
      "metadata": {},
      "outputs": [],
      "source": [
        "Reverse \u2190 {}\n",
        "Reverse 'snoitalutargnoc'       \u235d should give 'congratulations'\n",
        "Reverse '!ti did uoY'           \u235d should give 'You did it!'"
      ]
    },
    {
      "cell_type": "markdown",
      "metadata": {},
      "source": [
        "**Exercise 4**:\n",
        "\n",
        "Write a monadic function which appends row and column totals to a numeric matrix.\n",
        "\n",
        "For example, if `mat` is the matrix"
      ]
    },
    {
      "cell_type": "code",
      "execution_count": 137,
      "metadata": {},
      "outputs": [
        {
          "data": {
            "text/html": [
              "<span style=\"white-space:pre; font-family: monospace\">75 14 86 20\n",
              "31 16 40 51\n",
              "22 64 31 28\n",
              "</span>"
            ]
          },
          "execution_count": 137,
          "metadata": {},
          "output_type": "execute_result"
        }
      ],
      "source": [
        "\u22a2mat \u2190 3 4\u237475 14 86 20 31 16 40 51 22 64 31 28"
      ]
    },
    {
      "cell_type": "markdown",
      "metadata": {},
      "source": [
        "Then `Totalise mat` should give"
      ]
    },
    {
      "cell_type": "code",
      "execution_count": 138,
      "metadata": {},
      "outputs": [
        {
          "data": {
            "text/html": [
              "<span style=\"white-space:pre; font-family: monospace\"> 75 14  86 20 195\n",
              " 31 16  40 51 138\n",
              " 22 64  31 28 145\n",
              "128 94 157 99 478\n",
              "</span>"
            ]
          },
          "execution_count": 138,
          "metadata": {},
          "output_type": "execute_result"
        }
      ],
      "source": [
        "\u22a2totMat \u2190 4 5\u237475 14 86 20 195 31 16 40 51 138 22 64 31 28 145 128 94 157 99 478"
      ]
    },
    {
      "cell_type": "markdown",
      "metadata": {},
      "source": [
        "Notice that `mat` occupies the upper left corner of `totMat`:"
      ]
    },
    {
      "cell_type": "code",
      "execution_count": 139,
      "metadata": {},
      "outputs": [
        {
          "data": {
            "text/html": [
              "<span style=\"white-space:pre; font-family: monospace\">1 1 1 1 0\n",
              "1 1 1 1 0\n",
              "1 1 1 1 0\n",
              "0 0 0 0 0\n",
              "</span>"
            ]
          },
          "execution_count": 139,
          "metadata": {},
          "output_type": "execute_result"
        }
      ],
      "source": [
        "totMat \u220a mat"
      ]
    },
    {
      "cell_type": "markdown",
      "metadata": {},
      "source": [
        "**Exercise 5**:\n",
        "\n",
        "Write a monadic function which returns the lengths of the words contained in a text vector:"
      ]
    },
    {
      "cell_type": "code",
      "execution_count": 51,
      "metadata": {},
      "outputs": [],
      "source": [
        "Lengths \u2190 {}\n",
        "Lengths 'This seems to be a good solution'    \u235d should give 4 5 2 2 1 4 8"
      ]
    },
    {
      "cell_type": "markdown",
      "metadata": {},
      "source": [
        "**Exercise 6**:\n",
        "\n",
        "Write a dyadic function which produces the series of integer values between the limits given by its two arguments:"
      ]
    },
    {
      "cell_type": "code",
      "execution_count": 52,
      "metadata": {},
      "outputs": [],
      "source": [
        "To \u2190 {}\n",
        "17 To 29    \u235d should give 17 18 19 20 21 22 23 24 25 26 27 28 29"
      ]
    },
    {
      "cell_type": "markdown",
      "metadata": {},
      "source": [
        "**Exercise 7**:\n",
        "\n",
        "Develop a monadic function which puts a frame around a text matrix. For the first version, just concatenate minus signs above and under the matrix, and vertical bars down both sides. Then, update the function to replace the four corners by four `+` signs. For example, with"
      ]
    },
    {
      "cell_type": "code",
      "execution_count": 140,
      "metadata": {},
      "outputs": [
        {
          "data": {
            "text/html": [
              "<span style=\"white-space:pre; font-family: monospace\">Canberra  \n",
              "Paris     \n",
              "Washington\n",
              "Moscow    \n",
              "Martigues \n",
              "Mexico    \n",
              "</span>"
            ]
          },
          "execution_count": 140,
          "metadata": {},
          "output_type": "execute_result"
        }
      ],
      "source": [
        "\u22a2towns \u2190 6 10\u2374'Canberra  Paris     WashingtonMoscow    Martigues Mexico    '"
      ]
    },
    {
      "cell_type": "markdown",
      "metadata": {},
      "source": [
        "we want to have `Frame towns` return\n",
        "\n",
        "```\n",
        "+----------+\n",
        "|Canberra  |\n",
        "|Paris     |\n",
        "|Washington|\n",
        "|Moscow    |\n",
        "|Martigues |\n",
        "|Mexico    |\n",
        "+----------+\n",
        "```\n",
        "\n",
        "Finally, you can improve the appearance of the result by changing the function to use line-drawing symbols. You enter line-drawing symbols by using `\u2395UCS`: the horizontal and vertical lines are"
      ]
    },
    {
      "cell_type": "code",
      "execution_count": 54,
      "metadata": {},
      "outputs": [
        {
          "data": {
            "text/html": [
              "<span style=\"white-space:pre; font-family: monospace\">\u2500\u2502\n",
              "</span>"
            ]
          },
          "execution_count": 54,
          "metadata": {},
          "output_type": "execute_result"
        }
      ],
      "source": [
        "\u2395UCS 9472 9474"
      ]
    },
    {
      "cell_type": "markdown",
      "metadata": {},
      "source": [
        "and the four corners are"
      ]
    },
    {
      "cell_type": "code",
      "execution_count": 55,
      "metadata": {},
      "outputs": [
        {
          "data": {
            "text/html": [
              "<span style=\"white-space:pre; font-family: monospace\">\u250c\u2510\u2514\u2518\n",
              "</span>"
            ]
          },
          "execution_count": 55,
          "metadata": {},
          "output_type": "execute_result"
        }
      ],
      "source": [
        "\u2395UCS 9484 9488 9492 9496"
      ]
    },
    {
      "cell_type": "markdown",
      "metadata": {},
      "source": [
        "The final result should look like"
      ]
    },
    {
      "cell_type": "code",
      "execution_count": 56,
      "metadata": {},
      "outputs": [],
      "source": [
        "\u235d \u250c\u2500\u2500\u2500\u2500\u2500\u2500\u2500\u2500\u2500\u2500\u2510\n",
        "\u235d \u2502Canberra  \u2502\n",
        "\u235d \u2502Paris     \u2502\n",
        "\u235d \u2502Washington\u2502\n",
        "\u235d \u2502Moscow    \u2502\n",
        "\u235d \u2502Martigues \u2502\n",
        "\u235d \u2502Mexico    \u2502\n",
        "\u235d \u2514\u2500\u2500\u2500\u2500\u2500\u2500\u2500\u2500\u2500\u2500\u2518"
      ]
    },
    {
      "cell_type": "markdown",
      "metadata": {},
      "source": [
        "**Exercise 8**:\n",
        "\n",
        "It is very likely that the function you wrote for the previous exercise works on matrices but not on vectors. Can you make it work on both?\n",
        "\n",
        "For example, `Frame 'We are not out of the wood'` should give"
      ]
    },
    {
      "cell_type": "code",
      "execution_count": 57,
      "metadata": {},
      "outputs": [],
      "source": [
        "\u235d \u250c\u2500\u2500\u2500\u2500\u2500\u2500\u2500\u2500\u2500\u2500\u2500\u2500\u2500\u2500\u2500\u2500\u2500\u2500\u2500\u2500\u2500\u2500\u2500\u2500\u2500\u2500\u2510\n",
        "\u235d \u2502We are not out of the wood\u2502\n",
        "\u235d \u2514\u2500\u2500\u2500\u2500\u2500\u2500\u2500\u2500\u2500\u2500\u2500\u2500\u2500\u2500\u2500\u2500\u2500\u2500\u2500\u2500\u2500\u2500\u2500\u2500\u2500\u2500\u2518"
      ]
    },
    {
      "cell_type": "markdown",
      "metadata": {},
      "source": [
        "**Exercise 9**:\n",
        "\n",
        "Write a function which replaces a given letter by another one in a text vector. The letter to replace is given first; the replacing letter is given second, like this:"
      ]
    },
    {
      "cell_type": "code",
      "execution_count": 58,
      "metadata": {},
      "outputs": [],
      "source": [
        "Switch1 \u2190 {}\n",
        "'tc' Switch1 'A bird in the hand is worth two in the bush'\n",
        "\u235d A bird in che hand is worch cwo in che bush"
      ]
    },
    {
      "cell_type": "markdown",
      "metadata": {},
      "source": [
        "**Exercise 10**:\n",
        "\n",
        "Modify the previous function so that it commutes the two letters:"
      ]
    },
    {
      "cell_type": "code",
      "execution_count": 59,
      "metadata": {},
      "outputs": [],
      "source": [
        "Switch2 \u2190 {}\n",
        "'ei' Switch2 'A bird in the hand is worth two in the bush'\n",
        "\u235d A berd en thi hand es worth two en thi bush"
      ]
    },
    {
      "cell_type": "markdown",
      "metadata": {},
      "source": [
        "## Dfns in Depth"
      ]
    },
    {
      "cell_type": "markdown",
      "metadata": {},
      "source": [
        "### Guards"
      ]
    },
    {
      "cell_type": "markdown",
      "metadata": {},
      "source": [
        "### Shy Result"
      ]
    },
    {
      "cell_type": "markdown",
      "metadata": {},
      "source": [
        "### Lexical scoping"
      ]
    },
    {
      "cell_type": "markdown",
      "metadata": {},
      "source": [
        "(User-Defined-Functions-Miscellaneous)=\n",
        "## Miscellaneous\n",
        "\n",
        "(User-Defined-Functions-List-of-Variables-and-Functions)=\n",
        "### List of Variables and Functions\n",
        "\n",
        "You can obtain a list of your variables by typing"
      ]
    },
    {
      "cell_type": "code",
      "execution_count": 141,
      "metadata": {},
      "outputs": [
        {
          "data": {
            "text/html": [
              "<span style=\"white-space:pre; font-family: monospace\">CharMat Mat     TotMat  Towns   hours   mat     text    times   totMat  towns   \n",
              "</span>"
            ]
          },
          "execution_count": 141,
          "metadata": {},
          "output_type": "execute_result"
        }
      ],
      "source": [
        ")Vars"
      ]
    },
    {
      "cell_type": "markdown",
      "metadata": {},
      "source": [
        "and you can obtain a list of your functions by typing"
      ]
    },
    {
      "cell_type": "code",
      "execution_count": 61,
      "metadata": {},
      "outputs": [
        {
          "data": {
            "text/html": [
              "<span style=\"white-space:pre; font-family: monospace\">AMHM    Average Count   Extract HarmonicMean    Hypo    Ignore  Lengths Magic   Plus    Reverse Root    RootOf10        \n",
              "Silly   Switch1 Switch2 Times   To      \n",
              "</span>"
            ]
          },
          "execution_count": 61,
          "metadata": {},
          "output_type": "execute_result"
        }
      ],
      "source": [
        ")Fns"
      ]
    },
    {
      "cell_type": "markdown",
      "metadata": {},
      "source": [
        "(User-Defined-Functions-Use-of-the-Result)=\n",
        "### Use of the Result\n",
        "\n",
        "To sum up what we have already seen, once a function has been written, its result can be:\n",
        "\n",
        " - Immediately displayed and lost:"
      ]
    },
    {
      "cell_type": "code",
      "execution_count": 62,
      "metadata": {},
      "outputs": [
        {
          "data": {
            "text/html": [
              "<span style=\"white-space:pre; font-family: monospace\">0.895522\n",
              "</span>"
            ]
          },
          "execution_count": 62,
          "metadata": {},
          "output_type": "execute_result"
        }
      ],
      "source": [
        "HarmonicMean times"
      ]
    },
    {
      "cell_type": "markdown",
      "metadata": {},
      "source": [
        " - Included in an expression:"
      ]
    },
    {
      "cell_type": "code",
      "execution_count": 63,
      "metadata": {},
      "outputs": [
        {
          "data": {
            "text/html": [
              "<span style=\"white-space:pre; font-family: monospace\">53.7313\n",
              "</span>"
            ]
          },
          "execution_count": 63,
          "metadata": {},
          "output_type": "execute_result"
        }
      ],
      "source": [
        "60\u00d7HarmonicMean times"
      ]
    },
    {
      "cell_type": "markdown",
      "metadata": {},
      "source": [
        " - Assigned to a variable:"
      ]
    },
    {
      "cell_type": "code",
      "execution_count": 64,
      "metadata": {},
      "outputs": [],
      "source": [
        "hours \u2190 HarmonicMean times"
      ]
    },
    {
      "cell_type": "markdown",
      "metadata": {},
      "source": [
        "(User-Defined-Functions-Vector-Representation)=\n",
        "### Vector Representation\n",
        "\n",
        "We saw that double-clicking on a function name invokes the editor, and allows the user to see the code. We can also type the name of the function and see its code:"
      ]
    },
    {
      "cell_type": "code",
      "execution_count": 65,
      "metadata": {},
      "outputs": [
        {
          "data": {
            "text/html": [
              "<span style=\"white-space:pre; font-family: monospace\">{                                                                     \n",
              "    \u235d Monadic function to compute the harmonic mean of a vector       \n",
              "     inverses\u2190\u00f7\u2375   \u235d This inverts the numbers in the argument         \n",
              "    \u235d and then                                                        \n",
              "     \u00f7+/inverses     \u235d we sum those inverses and return them.         \n",
              "    \u235d Of course this will give an error if 0 is in the input argument.\n",
              " }                                                                    \n",
              "</span>"
            ]
          },
          "execution_count": 65,
          "metadata": {},
          "output_type": "execute_result"
        }
      ],
      "source": [
        "HarmonicMean"
      ]
    },
    {
      "cell_type": "markdown",
      "metadata": {},
      "source": [
        "However, in a printed document, the conventional representation of a function is as follows:"
      ]
    },
    {
      "cell_type": "code",
      "execution_count": 66,
      "metadata": {},
      "outputs": [
        {
          "data": {
            "text/html": [
              "<span style=\"white-space:pre; font-family: monospace\">     \u2207 HarmonicMean\u2190{                                                       \n",
              "[1]       \u235d Monadic function to compute the harmonic mean of a vector       \n",
              "[2]        inverses\u2190\u00f7\u2375   \u235d This inverts the numbers in the argument         \n",
              "[3]       \u235d and then                                                        \n",
              "[4]        \u00f7+/inverses     \u235d we sum those inverses and return them.         \n",
              "[5]       \u235d Of course this will give an error if 0 is in the input argument.\n",
              "[6]    }                                                                    \n",
              "     \u2207                                                                      \n",
              "</span>"
            ]
          },
          "execution_count": 66,
          "metadata": {},
          "output_type": "execute_result"
        }
      ],
      "source": [
        "\u2395VR 'HarmonicMean'"
      ]
    },
    {
      "cell_type": "markdown",
      "metadata": {},
      "source": [
        "The function is delimited by a pair of `\u2207` symbols. This special symbol is named \"***Del***\" in English, or \"***Carrot***\" (because of its shape) in some French-speaking countries. You can type a *Del* with <kbd>APL</kbd>+<kbd>g</kbd>.\n",
        "\n",
        "One can also obtain this representation (as a character array) using the built-in ***System function*** `\u2395VR` (for \"*Vector Representation*\") of Dyalog APL. *System functions* are a special kind of function, provided with the development environment. The first character of their name is a ***Quad*** (`\u2395`) which guarantees that they cannot conflict with user-defined names, and their names are also case-insensitive:"
      ]
    },
    {
      "cell_type": "code",
      "execution_count": 67,
      "metadata": {},
      "outputs": [
        {
          "data": {
            "text/html": [
              "<span style=\"white-space:pre; font-family: monospace\">     \u2207 Average\u2190{(+/\u2375)\u00f7(\u2262\u2375)}\n",
              "     \u2207                     \n",
              "</span>"
            ]
          },
          "execution_count": 67,
          "metadata": {},
          "output_type": "execute_result"
        }
      ],
      "source": [
        "\u2395VR 'Average'"
      ]
    },
    {
      "cell_type": "code",
      "execution_count": 68,
      "metadata": {},
      "outputs": [
        {
          "data": {
            "text/html": [
              "<span style=\"white-space:pre; font-family: monospace\">     \u2207 Average\u2190{(+/\u2375)\u00f7(\u2262\u2375)}\n",
              "     \u2207                     \n",
              "</span>"
            ]
          },
          "execution_count": 68,
          "metadata": {},
          "output_type": "execute_result"
        }
      ],
      "source": [
        "\u2395Vr 'Average'"
      ]
    },
    {
      "cell_type": "code",
      "execution_count": 69,
      "metadata": {},
      "outputs": [
        {
          "data": {
            "text/html": [
              "<span style=\"white-space:pre; font-family: monospace\">     \u2207 Average\u2190{(+/\u2375)\u00f7(\u2262\u2375)}\n",
              "     \u2207                     \n",
              "</span>"
            ]
          },
          "execution_count": 69,
          "metadata": {},
          "output_type": "execute_result"
        }
      ],
      "source": [
        "\u2395vr 'Average'"
      ]
    },
    {
      "cell_type": "code",
      "execution_count": 70,
      "metadata": {},
      "outputs": [
        {
          "data": {
            "text/html": [
              "<span style=\"white-space:pre; font-family: monospace\">     \u2207 Average\u2190{(+/\u2375)\u00f7(\u2262\u2375)}\n",
              "     \u2207                     \n",
              "</span>"
            ]
          },
          "execution_count": 70,
          "metadata": {},
          "output_type": "execute_result"
        }
      ],
      "source": [
        "\u2395vR 'Average'"
      ]
    },
    {
      "cell_type": "markdown",
      "metadata": {},
      "source": [
        "Note that this is quite unusual in a programming language. The result of `\u2395VR` is a character vector representing the source code of our function, which is now available for processing by other functions in the workspace!\n",
        "\n",
        "System functions will be discussed in detail in [a later chapter](./System-Interfaces.ipynb)."
      ]
    },
    {
      "cell_type": "markdown",
      "metadata": {},
      "source": [
        "(User-Defined-Functions-Invoking-the-Text-Editor)=\n",
        "### Invoking the Text Editor\n",
        "\n",
        "Double-clicking a name which represents an existing item invokes the editor and displays its contents, using the colour scheme appropriate for the type of the item (function, character matrix, nested array, etc) defined via \"Options\" &#8680; \"Colors...\" if you are using the Windows interpreter or via \"Edit\" &#8680; \"Preferences\" &#8680; \"Colours\" if you are using RIDE.\n",
        "\n",
        "You can also invoke the editor by pressing <kbd>Shift</kbd>+<kbd>Enter</kbd> when the input cursor is inside or adjacent to the name. This is perhaps the most convenient way as, when working in an APL session, you tend to use the keyboard much more than the mouse.\n",
        "\n",
        "Let us define a character matrix with the uppercase latin alphabet:"
      ]
    },
    {
      "cell_type": "code",
      "execution_count": 142,
      "metadata": {},
      "outputs": [
        {
          "data": {
            "text/html": [
              "<span style=\"white-space:pre; font-family: monospace\">ABCDEFGHIJKLM\n",
              "NOPQRSTUVWXYZ\n",
              "</span>"
            ]
          },
          "execution_count": 142,
          "metadata": {},
          "output_type": "execute_result"
        }
      ],
      "source": [
        "\u22a2charMat \u2190 2 13\u2374\u2395A"
      ]
    },
    {
      "cell_type": "markdown",
      "metadata": {},
      "source": [
        "For some items (e.g. numeric matrices, some nested arrays) the editor is only good for viewing them, while for others such as functions, text vectors and text matrices, the editor can also be used to edit them. In {numref}`fig-Win_Editor_Edit_Character_Matrix` we have invoked the editor, and changed the contents of our `charMat` variable:\n",
        "\n",
        "(fig-Win_Editor_Edit_Character_Matrix)=\n",
        "```{figure} ../res/Win_Editor_Edit_Character_Matrix.png\n",
        "---\n",
        "name: Win_Editor_Edit_Character_Matrix\n",
        "---\n",
        "Editing a character matrix with the built-in editor of the Windows interpreter\n",
        "```\n",
        "\n",
        "In {numref}`fig-Win_Editor_Edit_Character_Matrix` the edit window tells us that we modified the character matrix. We must now fix it, like we did with dfns before, for the variable to reflect its new value. RIDE doesn't tell you that the character matrix was modified, but you still need to fix it if you want the new changes to come into effect.\n",
        "\n",
        "If we now fix the changes to `charMat`, it will become a matrix with 4 rows and 29 columns (the length of its longest row).\n",
        "\n",
        "If, for some reason, you made a mistake, you can exit the edit window *without* fixing the changes by pressing <kbd>Shift</kbd>+<kbd>Esc</kbd>.\n",
        "\n",
        "If a name is currently undefined (has no value), double-clicking or pressing <kbd>Shift</kbd>+<kbd>Enter</kbd> on that name invokes the editor on it as if it were a new function. This is one way to create a function.\n",
        "\n",
        "You can also invoke the editor using the command `)ED` as we did before. By default, it opens a **function** definition, but you can explicitly specify the type of a new object by prefixing its name with a special character, as shown in the table below.\n",
        "\n",
        "| Prefix | Example | Object Created |\n",
        "| :-: | :- | :- |\n",
        "| none | `)ed new` | Function | \n",
        "| `\u2207` | `)ed \u2207 borscht` | Function |\n",
        "| `-` | `)ed - papyrus` | Simple character matrix |\n",
        "| `\u2192` | `)ed \u2192 crouton` | Simple character vector |\n",
        "| `\u220a` | `)ed \u220a grunt` | Nested vector of character vectors, with one sub-vector per line |\n",
        "\n",
        "See also {numref}`Appendices-Invoking-the-Editor` for additional prefixes.\n",
        "\n",
        "It is possible to open several edit windows using a single command. For example, `)ed Tyrex -Moose` will open two edit windows. The first to create or edit a function named `Tyrex` and the second to create a character matrix named `moose`.\n",
        "\n",
        "If a prefix is specified for the name of an already existing object, the prefix is ignored and the editor is invoked according to the type of the existing object.\n",
        "\n",
        "There are some other ways to invoke the editor:\n",
        "\n",
        " - use `\u2395ED` instead of the command `)ED`. For example: `\u2395ED 'Clown'`. `\u2395ED` is a *System function*, a concept that will be discussed in [a future chapter](./System-Interfaces.ipynb);\n",
        " - type a name, or put the input cursor on an existing name, and activate the menu \"Action\" &#8680; \"Edit\";\n",
        " - for the Windows interpreter, type a name or put the input cursor on an existing name, and click the \"Edit Object\" available in the toolbar (cf. {numref}`fig-Win_Toolbar_Edit_Object`).\n",
        " \n",
        "(fig-Win_Toolbar_Edit_Object)=\n",
        "```{figure} ../res/Win_Toolbar_Edit_Object.png\n",
        "---\n",
        "name: Win_Toolbar_Edit_Object\n",
        "---\n",
        "The \"Edit Object\" button in the toolbar of the Windows interpreter\n",
        "```\n"
      ]
    },
    {
      "cell_type": "markdown",
      "metadata": {},
      "source": [
        "## Tradfns"
      ]
    },
    {
      "cell_type": "markdown",
      "metadata": {},
      "source": [
        "(User-Defined-Functions-Solutions)=\n",
        "## Solutions\n",
        "\n",
        "**Exercise 1**:\n",
        "\n",
        "If `\u2375` is the vector argument, we can use `\u2375[...]` to index into `\u2375` and then we can use the *Index Generator* primitive to generate the indices we need, which should be the integers from `1` to `\u237a`... Except that if `\u237a` is too big, we cannot generate indices larger than the length of the vector, so we also find the minimum between `\u237a` and `\u2262\u2375`. If we don't, we get a `INDEX ERROR` when indexing. Here is a possible implementation:"
      ]
    },
    {
      "cell_type": "code",
      "execution_count": 72,
      "metadata": {},
      "outputs": [],
      "source": [
        "]dinput\n",
        "Extract \u2190 {\n",
        "    \u2375[\u2373\u237a\u230a\u2262\u2375]\n",
        "}"
      ]
    },
    {
      "cell_type": "code",
      "execution_count": 73,
      "metadata": {},
      "outputs": [
        {
          "data": {
            "text/html": [
              "<span style=\"white-space:pre; font-family: monospace\">45 86 31\n",
              "</span>"
            ]
          },
          "execution_count": 73,
          "metadata": {},
          "output_type": "execute_result"
        }
      ],
      "source": [
        "3 Extract 45 86 31 20 75 62 18"
      ]
    },
    {
      "cell_type": "code",
      "execution_count": 74,
      "metadata": {},
      "outputs": [
        {
          "data": {
            "text/html": [
              "<span style=\"white-space:pre; font-family: monospace\">can yo\n",
              "</span>"
            ]
          },
          "execution_count": 74,
          "metadata": {},
          "output_type": "execute_result"
        }
      ],
      "source": [
        "6 Extract 'can you do it?'"
      ]
    },
    {
      "cell_type": "code",
      "execution_count": 75,
      "metadata": {},
      "outputs": [
        {
          "data": {
            "text/html": [
              "<span style=\"white-space:pre; font-family: monospace\">1 2 3\n",
              "</span>"
            ]
          },
          "execution_count": 75,
          "metadata": {},
          "output_type": "execute_result"
        }
      ],
      "source": [
        "20 Extract 1 2 3"
      ]
    },
    {
      "cell_type": "markdown",
      "metadata": {},
      "source": [
        "**Exercise 2**:\n",
        "\n",
        "We can use a similar logic as that of the first exercise, except now we want to start the indices at `\u237a+1` and go up until `\u2262\u2375`. For this to happen, we first need to find out how many numbers we need. If a vector has `\u2262\u2375` elements and we are going to drop `\u237a` of them, we are going to be left with `(\u2262\u2375)-\u237a`. This means `\u2373(\u2262\u2375)-\u237a` will generate the correct amount of indices, but they will be starting at `1` and should start at `\u237a+1`, so we just need to add `\u237a` to that.\n",
        "\n",
        "Finally, we just need to worry about what happens if `\u237a` is too large, i.e. if we want to ignore too many elements. The reverse of that concern is, what happens if `(\u2262\u2375)-\u237a` is too small? Recall that `(\u2262\u2375)-\u237a` tells you how many elements you will want to keep. But that number must be at least `0` elements (i.e. \"keep no elements\") because it makes no sense to keep a negative number of elements. So we can just use `\u2308` to find the maximum between `0` and `(\u2262\u2375)-\u237a`. If `\u237a` is too large, `0\u2308(\u2262\u2375)-\u237a` gives `0` and `\u23730` is the empty vector `\u236c`, so the indexing will work just fine."
      ]
    },
    {
      "cell_type": "code",
      "execution_count": 76,
      "metadata": {},
      "outputs": [],
      "source": [
        "]dinput\n",
        "Ignore \u2190 {\n",
        "    \u2375[\u237a+\u23730\u2308(\u2262\u2375)-\u237a]\n",
        "}"
      ]
    },
    {
      "cell_type": "code",
      "execution_count": 77,
      "metadata": {},
      "outputs": [
        {
          "data": {
            "text/html": [
              "<span style=\"white-space:pre; font-family: monospace\">20 75 62 18\n",
              "</span>"
            ]
          },
          "execution_count": 77,
          "metadata": {},
          "output_type": "execute_result"
        }
      ],
      "source": [
        "3 Ignore 45 86 31 20 75 62 18"
      ]
    },
    {
      "cell_type": "code",
      "execution_count": 78,
      "metadata": {},
      "outputs": [
        {
          "data": {
            "text/html": [
              "<span style=\"white-space:pre; font-family: monospace\">u do it?\n",
              "</span>"
            ]
          },
          "execution_count": 78,
          "metadata": {},
          "output_type": "execute_result"
        }
      ],
      "source": [
        "6 Ignore 'can you do it?'"
      ]
    },
    {
      "cell_type": "code",
      "execution_count": 79,
      "metadata": {},
      "outputs": [
        {
          "data": {
            "text/html": [
              "<span style=\"white-space:pre; font-family: monospace\">\n",
              "</span>"
            ]
          },
          "execution_count": 79,
          "metadata": {},
          "output_type": "execute_result"
        }
      ],
      "source": [
        "20 Ignore 1 2 3"
      ]
    },
    {
      "cell_type": "markdown",
      "metadata": {},
      "source": [
        "**Exercise 3**:\n",
        "\n",
        "Here is another exercise on index arithmetic. Here is what we want to happen with a vector argument of length 10:\n",
        "\n",
        " - generate the indices `1 2 3 4 5 6 7 8 9 10`\n",
        " - transform them into  `10 9 8 7 6 5 4 3 2 1`\n",
        " \n",
        "We can do this if we do the correct subtraction:"
      ]
    },
    {
      "cell_type": "code",
      "execution_count": 80,
      "metadata": {},
      "outputs": [
        {
          "data": {
            "text/html": [
              "<span style=\"white-space:pre; font-family: monospace\">10 9 8 7 6 5 4 3 2 1\n",
              "</span>"
            ]
          },
          "execution_count": 80,
          "metadata": {},
          "output_type": "execute_result"
        }
      ],
      "source": [
        "11 - \u237310 "
      ]
    },
    {
      "cell_type": "markdown",
      "metadata": {},
      "source": [
        "But here `11` was a special number: it was `1+\u2262\u2375`. So that is the general tactic we must employ:"
      ]
    },
    {
      "cell_type": "code",
      "execution_count": 81,
      "metadata": {},
      "outputs": [],
      "source": [
        "]dinput\n",
        "Reverse \u2190 {\n",
        "    \u2375[(1+\u2262\u2375)-\u2373\u2262\u2375]\n",
        "}"
      ]
    },
    {
      "cell_type": "code",
      "execution_count": 82,
      "metadata": {},
      "outputs": [
        {
          "data": {
            "text/html": [
              "<span style=\"white-space:pre; font-family: monospace\">congratulations\n",
              "</span>"
            ]
          },
          "execution_count": 82,
          "metadata": {},
          "output_type": "execute_result"
        }
      ],
      "source": [
        "Reverse 'snoitalutargnoc'"
      ]
    },
    {
      "cell_type": "code",
      "execution_count": 83,
      "metadata": {},
      "outputs": [
        {
          "data": {
            "text/html": [
              "<span style=\"white-space:pre; font-family: monospace\">You did it!\n",
              "</span>"
            ]
          },
          "execution_count": 83,
          "metadata": {},
          "output_type": "execute_result"
        }
      ],
      "source": [
        "Reverse '!ti did uoY'"
      ]
    },
    {
      "cell_type": "markdown",
      "metadata": {},
      "source": [
        "**Exercise 4**:\n",
        "\n",
        "This exercise can be solved by using the *Reduce* operator to sum: `+/`. Then we need to specify the axis we care about with `[1]` and `[2]`.\n",
        "\n",
        "If we do `+/[1]` then we are reducing across the first axis, which means we get the sums along the columns:"
      ]
    },
    {
      "cell_type": "code",
      "execution_count": 144,
      "metadata": {},
      "outputs": [
        {
          "data": {
            "text/html": [
              "<span style=\"white-space:pre; font-family: monospace\">75 14 86 20\n",
              "31 16 40 51\n",
              "22 64 31 28\n",
              "</span>"
            ]
          },
          "execution_count": 144,
          "metadata": {},
          "output_type": "execute_result"
        }
      ],
      "source": [
        "\u22a2mat \u2190 3 4\u237475 14 86 20 31 16 40 51 22 64 31 28"
      ]
    },
    {
      "cell_type": "code",
      "execution_count": 145,
      "metadata": {},
      "outputs": [
        {
          "data": {
            "text/html": [
              "<span style=\"white-space:pre; font-family: monospace\">128 94 157 99\n",
              "</span>"
            ]
          },
          "execution_count": 145,
          "metadata": {},
          "output_type": "execute_result"
        }
      ],
      "source": [
        "+/[1]mat"
      ]
    },
    {
      "cell_type": "markdown",
      "metadata": {},
      "source": [
        "We can then catenate the original matrix to these column sums vertically (by using `\u236a`), and then use `+/[2]` to find the row sums and catenate them with `,`:"
      ]
    },
    {
      "cell_type": "code",
      "execution_count": 146,
      "metadata": {},
      "outputs": [],
      "source": [
        "]dinput\n",
        "Totalise \u2190 {\n",
        "    colSums \u2190 +/[1]\u2375\n",
        "    r \u2190 \u2375\u236acolSums\n",
        "    rowSums \u2190 +/[2]r\n",
        "    r,rowSums\n",
        "}"
      ]
    },
    {
      "cell_type": "code",
      "execution_count": 148,
      "metadata": {},
      "outputs": [
        {
          "data": {
            "text/html": [
              "<span style=\"white-space:pre; font-family: monospace\"> 75 14  86 20 195\n",
              " 31 16  40 51 138\n",
              " 22 64  31 28 145\n",
              "128 94 157 99 478\n",
              "</span>"
            ]
          },
          "execution_count": 148,
          "metadata": {},
          "output_type": "execute_result"
        }
      ],
      "source": [
        "Totalise mat"
      ]
    },
    {
      "cell_type": "code",
      "execution_count": 149,
      "metadata": {},
      "outputs": [
        {
          "data": {
            "text/html": [
              "<span style=\"white-space:pre; font-family: monospace\">1\n",
              "</span>"
            ]
          },
          "execution_count": 149,
          "metadata": {},
          "output_type": "execute_result"
        }
      ],
      "source": [
        "totMat \u2190 4 5\u237475 14 86 20 195 31 16 40 51 138 22 64 31 28 145 128 94 157 99 478\n",
        "totMat \u2261 Totalise mat"
      ]
    },
    {
      "cell_type": "markdown",
      "metadata": {},
      "source": [
        "**Exercise 5**:\n",
        "\n",
        "When reading this exercise, one should immediately realise that one is going to need to find *Where* the blank spaces are:"
      ]
    },
    {
      "cell_type": "code",
      "execution_count": 89,
      "metadata": {},
      "outputs": [],
      "source": [
        "text \u2190 'This seems to be a good solution'"
      ]
    },
    {
      "cell_type": "code",
      "execution_count": 90,
      "metadata": {},
      "outputs": [
        {
          "data": {
            "text/html": [
              "<span style=\"white-space:pre; font-family: monospace\">5 11 14 17 19 24\n",
              "</span>"
            ]
          },
          "execution_count": 90,
          "metadata": {},
          "output_type": "execute_result"
        }
      ],
      "source": [
        "\u2378' '=text"
      ]
    },
    {
      "cell_type": "markdown",
      "metadata": {},
      "source": [
        "These indices tell where the blank spaces were in the character vector, and in between those indices are the indices that correspond to word characters:\n",
        "\n",
        " - the first word has indices `1 2 3 4`\n",
        "   - then there is a space at position `5`\n",
        " - the second word has indices `6 7 8 9 10`\n",
        "   - then there is a space at position `11`\n",
        " - ...\n",
        "   - then there is a space at position `24`\n",
        " - the last word has indices `25 26 27 28 29 30 31 32`\n",
        " \n",
        "The `32` above is `\u2262text`:"
      ]
    },
    {
      "cell_type": "code",
      "execution_count": 91,
      "metadata": {},
      "outputs": [
        {
          "data": {
            "text/html": [
              "<span style=\"white-space:pre; font-family: monospace\">32\n",
              "</span>"
            ]
          },
          "execution_count": 91,
          "metadata": {},
          "output_type": "execute_result"
        }
      ],
      "source": [
        "\u2262text"
      ]
    },
    {
      "cell_type": "markdown",
      "metadata": {},
      "source": [
        "From the list above we can see that most words are *between* spaces, but the first and last words may not be between spaces. We can fix this by *forcing* the first and last words to be *between* spaces if we had a single `' '` to the beginning and to the end of our variable:"
      ]
    },
    {
      "cell_type": "code",
      "execution_count": 92,
      "metadata": {},
      "outputs": [
        {
          "data": {
            "text/html": [
              "<span style=\"white-space:pre; font-family: monospace\">1 6 12 15 18 20 25 34\n",
              "</span>"
            ]
          },
          "execution_count": 92,
          "metadata": {},
          "output_type": "execute_result"
        }
      ],
      "source": [
        "\u2378' '=' ',text,' '"
      ]
    },
    {
      "cell_type": "markdown",
      "metadata": {},
      "source": [
        "Now we have\n",
        "\n",
        " - the first space at position `1`\n",
        "   - the first word in positions `2 3 4 5`\n",
        " - a space at position `6`\n",
        "   - a word in positions `7 8 9 10 11`\n",
        " - ...\n",
        " - a space at position `25`\n",
        "   - the last word in positions `26 27 28 29 30 31 32 33`\n",
        " - the final space at position `34`\n",
        " \n",
        "So we can find the lengths of those runs of non-spaces by subtracting positions of consecutive spaces and then subtracting 1 from those, because `6-1` gives 5, but between 1 and 6 there's only 4 integers."
      ]
    },
    {
      "cell_type": "code",
      "execution_count": 93,
      "metadata": {},
      "outputs": [],
      "source": [
        "]dinput\n",
        "Lengths \u2190 {\n",
        "    spaces \u2190 \u2378' '=' ',\u2375,' '\n",
        "    idx \u2190 \u2373(\u2262spaces)-1\n",
        "    \u00af1+spaces[1+idx]-spaces[idx]\n",
        "}"
      ]
    },
    {
      "cell_type": "code",
      "execution_count": 94,
      "metadata": {},
      "outputs": [
        {
          "data": {
            "text/html": [
              "<span style=\"white-space:pre; font-family: monospace\">4 5 2 2 1 4 8\n",
              "</span>"
            ]
          },
          "execution_count": 94,
          "metadata": {},
          "output_type": "execute_result"
        }
      ],
      "source": [
        "Lengths 'This seems to be a good solution'"
      ]
    },
    {
      "cell_type": "markdown",
      "metadata": {},
      "source": [
        "The final step where we index into `spaces` to get \"all but the last\" and \"all but the first\" elements of `spaces` could have been done with your previous solutions:"
      ]
    },
    {
      "cell_type": "code",
      "execution_count": 95,
      "metadata": {},
      "outputs": [],
      "source": [
        "]dinput\n",
        "Lengths \u2190 {\n",
        "    spaces \u2190 \u2378' '=' ',\u2375,' '\n",
        "    \u00af1+(1 Ignore spaces)-((\u00af1+\u2262spaces) Extract spaces)\n",
        "}"
      ]
    },
    {
      "cell_type": "code",
      "execution_count": 96,
      "metadata": {},
      "outputs": [
        {
          "data": {
            "text/html": [
              "<span style=\"white-space:pre; font-family: monospace\">4 5 2 2 1 4 8\n",
              "</span>"
            ]
          },
          "execution_count": 96,
          "metadata": {},
          "output_type": "execute_result"
        }
      ],
      "source": [
        "Lengths 'This seems to be a good solution'"
      ]
    },
    {
      "cell_type": "markdown",
      "metadata": {},
      "source": [
        "Notice that doing `\u00af1+expr` is a little \"trick\" you can employ when you want to subtract 1 from `expr`, but `expr` would then need parenthesis if you were to have it on the left of the `-` sign. For example, to subtract 1 from `\u2262spaces` you would have to do `(\u2262spaces)-1` but instead you can do `\u00af1+\u2262spaces`.\n",
        "\n",
        "Finally, can you improve your solution to handle multiple consecutive spaces?"
      ]
    },
    {
      "cell_type": "code",
      "execution_count": 97,
      "metadata": {},
      "outputs": [
        {
          "data": {
            "text/html": [
              "<span style=\"white-space:pre; font-family: monospace\">4 4 0 0 0 3 0 0 0 0 0 4 5 0 0 0\n",
              "</span>"
            ]
          },
          "execution_count": 97,
          "metadata": {},
          "output_type": "execute_result"
        }
      ],
      "source": [
        "Lengths 'This only    has      five words   '"
      ]
    },
    {
      "cell_type": "markdown",
      "metadata": {},
      "source": [
        "Probably seeing how your function works with multiple consecutive spaces gives the solution away: consecutive spaces will make a 0 appear in the final result, so we just have to remove those:"
      ]
    },
    {
      "cell_type": "code",
      "execution_count": 98,
      "metadata": {},
      "outputs": [],
      "source": [
        "]dinput\n",
        "Lengths \u2190 {\n",
        "    spaces \u2190 \u2378' '=' ',\u2375,' '\n",
        "    r \u2190 \u00af1+(1 Ignore spaces)-((\u00af1+\u2262spaces) Extract spaces)\n",
        "    (0\u2260r)/r\n",
        "}"
      ]
    },
    {
      "cell_type": "code",
      "execution_count": 99,
      "metadata": {},
      "outputs": [
        {
          "data": {
            "text/html": [
              "<span style=\"white-space:pre; font-family: monospace\">4 4 3 4 5\n",
              "</span>"
            ]
          },
          "execution_count": 99,
          "metadata": {},
          "output_type": "execute_result"
        }
      ],
      "source": [
        "Lengths 'This only    has      five words   '"
      ]
    },
    {
      "cell_type": "markdown",
      "metadata": {},
      "source": [
        "**Exercise 6**:\n",
        "\n",
        "We have seen in {numref}`Some-Primitive-Functions-Basic-Usage` how to create any arithmetic sequence of integers. This is just a special case of the algorithm give, with `Step \u2190 1`:"
      ]
    },
    {
      "cell_type": "code",
      "execution_count": 100,
      "metadata": {},
      "outputs": [],
      "source": [
        "]dinput\n",
        "To \u2190 {\n",
        "    \u237a+\u00af1+\u2373(1+\u2375-\u237a)\n",
        "}"
      ]
    },
    {
      "cell_type": "code",
      "execution_count": 101,
      "metadata": {},
      "outputs": [
        {
          "data": {
            "text/html": [
              "<span style=\"white-space:pre; font-family: monospace\">17 18 19 20 21 22 23 24 25 26 27 28 29\n",
              "</span>"
            ]
          },
          "execution_count": 101,
          "metadata": {},
          "output_type": "execute_result"
        }
      ],
      "source": [
        "17 To 29"
      ]
    },
    {
      "cell_type": "markdown",
      "metadata": {},
      "source": [
        "**Exercise 7**:\n",
        "\n",
        "This exercise is easier than it might look because the primitives to catenate vertically and horizontally, `\u236a` and `,`, know how to deal with a matrix and a single scalar:"
      ]
    },
    {
      "cell_type": "code",
      "execution_count": 150,
      "metadata": {},
      "outputs": [
        {
          "data": {
            "text/html": [
              "<span style=\"white-space:pre; font-family: monospace\">Canberra  \n",
              "Paris     \n",
              "Washington\n",
              "Moscow    \n",
              "Martigues \n",
              "Mexico    \n",
              "</span>"
            ]
          },
          "execution_count": 150,
          "metadata": {},
          "output_type": "execute_result"
        }
      ],
      "source": [
        "\u22a2towns \u2190 6 10\u2374'Canberra  Paris     WashingtonMoscow    Martigues Mexico    '"
      ]
    },
    {
      "cell_type": "code",
      "execution_count": 151,
      "metadata": {},
      "outputs": [
        {
          "data": {
            "text/html": [
              "<span style=\"white-space:pre; font-family: monospace\">Canberra  |\n",
              "Paris     |\n",
              "Washington|\n",
              "Moscow    |\n",
              "Martigues |\n",
              "Mexico    |\n",
              "</span>"
            ]
          },
          "execution_count": 151,
          "metadata": {},
          "output_type": "execute_result"
        }
      ],
      "source": [
        "towns,'|'"
      ]
    },
    {
      "cell_type": "code",
      "execution_count": 152,
      "metadata": {},
      "outputs": [
        {
          "data": {
            "text/html": [
              "<span style=\"white-space:pre; font-family: monospace\">Canberra  \n",
              "Paris     \n",
              "Washington\n",
              "Moscow    \n",
              "Martigues \n",
              "Mexico    \n",
              "----------\n",
              "</span>"
            ]
          },
          "execution_count": 152,
          "metadata": {},
          "output_type": "execute_result"
        }
      ],
      "source": [
        "towns\u236a'-'"
      ]
    },
    {
      "cell_type": "markdown",
      "metadata": {},
      "source": [
        "So we just have to frame the four sides and *then* change the corners:"
      ]
    },
    {
      "cell_type": "code",
      "execution_count": 155,
      "metadata": {},
      "outputs": [],
      "source": [
        "]dinput\n",
        "Frame \u2190 {\n",
        "    f \u2190 '|',\u2375,'|'\n",
        "    f \u2190 '-'\u236af\u236a'-'\n",
        "    (r c) \u2190 \u2374f\n",
        "    f[1 r;1 c] \u2190 '+'\n",
        "    f\n",
        "}"
      ]
    },
    {
      "cell_type": "code",
      "execution_count": 156,
      "metadata": {},
      "outputs": [
        {
          "data": {
            "text/html": [
              "<span style=\"white-space:pre; font-family: monospace\">+----------+\n",
              "|Canberra  |\n",
              "|Paris     |\n",
              "|Washington|\n",
              "|Moscow    |\n",
              "|Martigues |\n",
              "|Mexico    |\n",
              "+----------+\n",
              "</span>"
            ]
          },
          "execution_count": 156,
          "metadata": {},
          "output_type": "execute_result"
        }
      ],
      "source": [
        "Frame towns"
      ]
    },
    {
      "cell_type": "markdown",
      "metadata": {},
      "source": [
        "Here we used the very convenient indexing notation `f[1 r;1 c]` that allows us to access the positions `1 1`, `1 c`, `r 1` and `r c` of the matrix `f`.\n",
        "\n",
        "Modifying this function to use the appropriate line-drawing symbols just means swapping the `'|-+'` in the original function. Care must be taken, however, when assigning the corners. With `f[1 r;1 c] \u2190 m` APL expects `m` to be a scalar *or* an array with the same shape as that of the left, and since `f[1 r;1 c]` is a 2 by 2 matrix, we will have to reshape the vector with the corners into a 2 by 2 matrix as well:"
      ]
    },
    {
      "cell_type": "code",
      "execution_count": 157,
      "metadata": {},
      "outputs": [],
      "source": [
        "]dinput\n",
        "Frame \u2190 {\n",
        "    f \u2190 (\u2395UCS 9474) , \u2375 , (\u2395UCS 9474)\n",
        "    f \u2190 (\u2395UCS 9472) \u236a f \u236a (\u2395UCS 9472)\n",
        "    (r c) \u2190 \u2374f\n",
        "    f[1 r;1 c] \u2190 2 2\u2374\u2395UCS 9484 9488 9492 9496\n",
        "    f\n",
        "}"
      ]
    },
    {
      "cell_type": "code",
      "execution_count": 158,
      "metadata": {},
      "outputs": [
        {
          "data": {
            "text/html": [
              "<span style=\"white-space:pre; font-family: monospace\">\u250c\u2500\u2500\u2500\u2500\u2500\u2500\u2500\u2500\u2500\u2500\u2510\n",
              "\u2502Canberra  \u2502\n",
              "\u2502Paris     \u2502\n",
              "\u2502Washington\u2502\n",
              "\u2502Moscow    \u2502\n",
              "\u2502Martigues \u2502\n",
              "\u2502Mexico    \u2502\n",
              "\u2514\u2500\u2500\u2500\u2500\u2500\u2500\u2500\u2500\u2500\u2500\u2518\n",
              "</span>"
            ]
          },
          "execution_count": 158,
          "metadata": {},
          "output_type": "execute_result"
        }
      ],
      "source": [
        "Frame towns"
      ]
    },
    {
      "cell_type": "markdown",
      "metadata": {},
      "source": [
        "**Exercise 8**:\n",
        "\n",
        "Well, what if what we wrote actually works for vectors? Let's give it a try:"
      ]
    },
    {
      "cell_type": "code",
      "execution_count": 159,
      "metadata": {},
      "outputs": [
        {
          "name": "stderr",
          "output_type": "stream",
          "text": [
            "RANK ERROR\n",
            "Frame[4] f[1 r;1 c]\u21902 2\u2374\u2395UCS 9484 9488 9492 9496\n",
            "          \u2227\n"
          ]
        }
      ],
      "source": [
        "Frame 'We are not out of the wood'"
      ]
    },
    {
      "cell_type": "markdown",
      "metadata": {},
      "source": [
        "A `RANK ERROR`? That makes no sense, after I frame `\u2375` with the horizontal and vertical bars I have a framed matrix, I just need to update the corners... right? Wrong! Here's what happens if you use `,` and `\u236a` on a vector:"
      ]
    },
    {
      "cell_type": "code",
      "execution_count": 110,
      "metadata": {},
      "outputs": [
        {
          "data": {
            "text/html": [
              "<span style=\"white-space:pre; font-family: monospace\">\u2500\u2502We are not out of the wood\u2502\u2500\n",
              "</span>"
            ]
          },
          "execution_count": 110,
          "metadata": {},
          "output_type": "execute_result"
        }
      ],
      "source": [
        "text \u2190 'We are not out of the wood'\n",
        "(\u2395UCS 9472) \u236a (\u2395UCS 9474) , text , (\u2395UCS 9474) \u236a (\u2395UCS 9472)"
      ]
    },
    {
      "cell_type": "markdown",
      "metadata": {},
      "source": [
        "Because `text` has shape"
      ]
    },
    {
      "cell_type": "code",
      "execution_count": 111,
      "metadata": {},
      "outputs": [
        {
          "data": {
            "text/html": [
              "<span style=\"white-space:pre; font-family: monospace\">26\n",
              "</span>"
            ]
          },
          "execution_count": 111,
          "metadata": {},
          "output_type": "execute_result"
        }
      ],
      "source": [
        "\u2374text"
      ]
    },
    {
      "cell_type": "markdown",
      "metadata": {},
      "source": [
        "the primitives `,` and `\u236a` work the same way. We need to turn input vectors into matrices with 1 row before we proceed with the framing process.\n",
        "\n",
        "Let us define `shape \u2190 \u2374\u2375` as the shape of the input `Frame` gets. If `\u2375` is a matrix, then `shape` is the appropriate shape, otherwise we need `\u2375` to be reshaped into `1,shape`. In traditional programming languages we could use an `if-else` statement. However, dfns do not have support for such flow control structures. We need to handle this matter in a different way.\n",
        "\n",
        "A possibility is to create the vector `v\u21901,shape` and then index into it with care. If `\u2375` is a vector, `v` has 2 elements and we want both. If `\u2375` is a matrix, `v` has 3 elements and we want the elements in positions `2 3`. A way of generating the indices `1 2` if `\u2375` is a vector and `2 3` if `\u2375` is a matrix is with the expression `0 1+\u2262\u2374\u2375`:\n",
        "\n",
        "| `\u2375` | `\u2262\u2374\u2375` | `0 1+\u2262\u2374\u2375` |\n",
        "| :- | :-: | :-: |\n",
        "| vector | 1 | 1 2 |\n",
        "| matrix | 2 | 2 3 |\n",
        "\n",
        "When implementing the function we don't need to actually create `v`:"
      ]
    },
    {
      "cell_type": "code",
      "execution_count": 160,
      "metadata": {},
      "outputs": [],
      "source": [
        "]dinput\n",
        "Frame \u2190 {\n",
        "    shape \u2190 (1,\u2374\u2375)[0 1+\u2262\u2374\u2375]\n",
        "    f \u2190 shape\u2374\u2375\n",
        "    f \u2190 (\u2395UCS 9474) , f , (\u2395UCS 9474)\n",
        "    f \u2190 (\u2395UCS 9472) \u236a f \u236a (\u2395UCS 9472)\n",
        "    (r c) \u2190 \u2374f\n",
        "    f[1 r;1 c] \u2190 2 2\u2374\u2395UCS 9484 9488 9492 9496\n",
        "    f\n",
        "}"
      ]
    },
    {
      "cell_type": "code",
      "execution_count": 161,
      "metadata": {},
      "outputs": [
        {
          "data": {
            "text/html": [
              "<span style=\"white-space:pre; font-family: monospace\">\u250c\u2500\u2500\u2500\u2500\u2500\u2500\u2500\u2500\u2500\u2500\u2500\u2500\u2500\u2500\u2500\u2500\u2500\u2500\u2500\u2500\u2500\u2500\u2500\u2500\u2500\u2500\u2510\n",
              "\u2502We are not out of the wood\u2502\n",
              "\u2514\u2500\u2500\u2500\u2500\u2500\u2500\u2500\u2500\u2500\u2500\u2500\u2500\u2500\u2500\u2500\u2500\u2500\u2500\u2500\u2500\u2500\u2500\u2500\u2500\u2500\u2500\u2518\n",
              "</span>"
            ]
          },
          "execution_count": 161,
          "metadata": {},
          "output_type": "execute_result"
        }
      ],
      "source": [
        "Frame text"
      ]
    },
    {
      "cell_type": "code",
      "execution_count": 162,
      "metadata": {},
      "outputs": [
        {
          "data": {
            "text/html": [
              "<span style=\"white-space:pre; font-family: monospace\">\u250c\u2500\u2500\u2500\u2500\u2500\u2500\u2500\u2500\u2500\u2500\u2510\n",
              "\u2502Canberra  \u2502\n",
              "\u2502Paris     \u2502\n",
              "\u2502Washington\u2502\n",
              "\u2502Moscow    \u2502\n",
              "\u2502Martigues \u2502\n",
              "\u2502Mexico    \u2502\n",
              "\u2514\u2500\u2500\u2500\u2500\u2500\u2500\u2500\u2500\u2500\u2500\u2518\n",
              "</span>"
            ]
          },
          "execution_count": 162,
          "metadata": {},
          "output_type": "execute_result"
        }
      ],
      "source": [
        "Frame towns"
      ]
    },
    {
      "cell_type": "markdown",
      "metadata": {},
      "source": [
        "**Exercise 9**:\n",
        "\n",
        "The logic to solving this task resembles what we did in the first exercises. First we will find *Where* the first letter is, and then we will use indexing to put the second letter in those positions:"
      ]
    },
    {
      "cell_type": "code",
      "execution_count": 168,
      "metadata": {},
      "outputs": [],
      "source": [
        "]dinput\n",
        "Switch1 \u2190 {\n",
        "    r \u2190 \u2375\n",
        "    r[\u2378\u237a[1]=\u2375] \u2190 \u237a[2]\n",
        "    r\n",
        "}"
      ]
    },
    {
      "cell_type": "code",
      "execution_count": 167,
      "metadata": {},
      "outputs": [
        {
          "data": {
            "text/html": [
              "<span style=\"white-space:pre; font-family: monospace\">A bird in che hand is worch cwo in che bush\n",
              "</span>"
            ]
          },
          "execution_count": 167,
          "metadata": {},
          "output_type": "execute_result"
        }
      ],
      "source": [
        "'tc' Switch1 'A bird in the hand is worth two in the bush'"
      ]
    },
    {
      "cell_type": "markdown",
      "metadata": {},
      "source": [
        "We take the intermediate step of doing `r \u2190 \u2375` because we can't assign to `\u2375` and so `\u2375[\u2378\u237a[1]=\u2375] \u2190 \u237a[2]` wouldn't work."
      ]
    },
    {
      "cell_type": "markdown",
      "metadata": {},
      "source": [
        "**Exercise 10**:\n",
        "\n",
        "A very obvious modification of the function above is to write"
      ]
    },
    {
      "cell_type": "code",
      "execution_count": 171,
      "metadata": {},
      "outputs": [],
      "source": [
        "]dinput\n",
        "Switch2 \u2190 {\n",
        "    r \u2190 \u2375\n",
        "    r[\u2378\u237a[1]=\u2375] \u2190 \u237a[2]\n",
        "    r[\u2378\u237a[2]=\u2375] \u2190 \u237a[1]\n",
        "    r\n",
        "}"
      ]
    },
    {
      "cell_type": "code",
      "execution_count": 172,
      "metadata": {},
      "outputs": [
        {
          "data": {
            "text/html": [
              "<span style=\"white-space:pre; font-family: monospace\">A berd en thi hand es worth two en thi bush\n",
              "</span>"
            ]
          },
          "execution_count": 172,
          "metadata": {},
          "output_type": "execute_result"
        }
      ],
      "source": [
        "'ei' Switch2 'A bird in the hand is worth two in the bush'"
      ]
    },
    {
      "cell_type": "markdown",
      "metadata": {},
      "source": [
        "However, a really elegant solution becomes possible if we use the *Index Of* primitive and the concept of changing the frame of reference we discussed previously (cf. {numref}`Some-Primitive-Functions-Changing-The-Frame-of-Reference`). We used this concept to convert lower case letters into upper case letters."
      ]
    },
    {
      "cell_type": "code",
      "execution_count": 173,
      "metadata": {},
      "outputs": [],
      "source": [
        "]dinput\n",
        "Switch2 \u2190 {\n",
        "    pos \u2190 (\u237a,\u2375)\u2373\u2375\n",
        "    (\u237a[2 1],\u2375)[pos]\n",
        "}"
      ]
    },
    {
      "cell_type": "code",
      "execution_count": 174,
      "metadata": {},
      "outputs": [
        {
          "data": {
            "text/html": [
              "<span style=\"white-space:pre; font-family: monospace\">A berd en thi hand es worth two en thi bush\n",
              "</span>"
            ]
          },
          "execution_count": 174,
          "metadata": {},
          "output_type": "execute_result"
        }
      ],
      "source": [
        "'ei' Switch2 'A bird in the hand is worth two in the bush'"
      ]
    },
    {
      "cell_type": "markdown",
      "metadata": {},
      "source": [
        "What exactly is happening? Well, we are basically establishing the initial and final sets (as seen in {numref}`Some-Primitive-Functions-Changing-The-Frame-of-Reference`) as the sentence itself, but preceded by the two characters. For the initial set, we have them in their input order (the `(\u237a,\u2375)` above) but for the final set we swap them (the `\u237a[2 1],\u2375` above).\n",
        "\n",
        "This establishes the following \"conversion\":\n",
        "\n",
        "```\n",
        "eiA bird in the hand is worth two in the bush\n",
        "ieA bird in the hand is worth two in the bush\n",
        "```\n",
        "\n",
        "Whenever I have a character, I look for it in the first line, stopping as soon as I find it (that is what `\u2373` does) and then I swap it with the corresponding character in the line below.\n",
        "\n",
        "We can thus re-implement `Switch2` with more intermediate steps, to make this more obvious:"
      ]
    },
    {
      "cell_type": "code",
      "execution_count": 175,
      "metadata": {},
      "outputs": [],
      "source": [
        "]dinput\n",
        "Switch2 \u2190 {\n",
        "    \u2395\u2190 initialSet \u2190 \u237a,\u2375\n",
        "    pos \u2190 initialSet\u2373\u2375\n",
        "    \u2395\u2190 finalSet \u2190 \u237a[2 1],\u2375\n",
        "    finalSet[pos]\n",
        "}"
      ]
    },
    {
      "cell_type": "code",
      "execution_count": 176,
      "metadata": {},
      "outputs": [
        {
          "data": {
            "text/html": [
              "<span style=\"white-space:pre; font-family: monospace\">eiA bird in the hand is worth two in the bush\n",
              "ieA bird in the hand is worth two in the bush\n",
              "A berd en thi hand es worth two en thi bush\n",
              "</span>"
            ]
          },
          "execution_count": 176,
          "metadata": {},
          "output_type": "execute_result"
        }
      ],
      "source": [
        "'ei' Switch2 'A bird in the hand is worth two in the bush'"
      ]
    },
    {
      "cell_type": "code",
      "execution_count": null,
      "metadata": {},
      "outputs": [],
      "source": []
    }
  ],
  "metadata": {
    "kernelspec": {
      "display_name": "Dyalog APL",
      "language": "apl",
      "name": "dyalog-kernel"
    },
    "language_info": {
      "file_extension": ".apl",
      "mimetype": "text/apl",
      "name": "APL"
    },
    "toc": {
      "base_numbering": 1,
      "nav_menu": {},
      "number_sections": false,
      "sideBar": true,
      "skip_h1_title": true,
      "title_cell": "Table of Contents",
      "title_sidebar": "Contents",
      "toc_cell": false,
      "toc_position": {},
      "toc_section_display": true,
      "toc_window_display": false
    }
  },
  "nbformat": 4,
  "nbformat_minor": 4
}