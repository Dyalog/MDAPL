{
  "cells": [
    {
      "cell_type": "markdown",
      "metadata": {},
      "source": [
        "(Some-Primitive-Functions-Some-Primitive-Functions)=\n",
        "# Some Primitive Functions\n",
        "\n",
        "(Some-Primitive-Functions-Definitions)=\n",
        "## Definitions\n",
        "\n",
        "In APL, data is processed using what we call *functions*. It is important to distinguish between two types of functions:\n",
        "\n",
        " 1. ***Primitive Functions***:\n",
        "     - they are part of the APL language;\n",
        "     - they are represented by symbols like `\u2374`, `\u2349` and `\u2308`; and\n",
        "     - they cannot be overwritten or removed.\n",
        "\n",
        "\n",
        " 2. ***User-Defined Functions***:\n",
        "     - as their name implies, they are written by the user;\n",
        "     - they are represented by names, for example `Average` or `Budget`; and\n",
        "     - they can be overwritten and removed.\n",
        "   \n",
        "APL has a very rich set of primitive functions. In this chapter, we will explore just a few of them; many others will follow in subsequent chapters.\n",
        "\n",
        "In the introduction to this book, we mentioned that in traditional mathematics, some symbols can be used with a single argument or two arguments. For example, in the expression $a = x \\color{red}{-} y$ the minus sign means subtract, whereas in $a = \\color{red}{-}y$ the minus sign indicates the negation of $y$.\n",
        "\n",
        "The first form is called the \"_dyadic_\" use of the symbol.\n",
        "The second form is called the \"_monadic_\" use of the symbol.\n",
        "\n",
        "It is the same in APL, where most of the symbols (functions) have a *monadic* and a *dyadic* meaning. For example, here `\u2374` obtains the shape of the `1 2 3 4` vector:"
      ]
    },
    {
      "cell_type": "code",
      "execution_count": 1,
      "metadata": {},
      "outputs": [
        {
          "data": {
            "text/html": [
              "<span style=\"white-space:pre; font-family: monospace\">4\n",
              "</span>"
            ]
          },
          "execution_count": 1,
          "metadata": {},
          "output_type": "execute_result"
        }
      ],
      "source": [
        "\u2374 1 2 3 4"
      ]
    },
    {
      "cell_type": "markdown",
      "metadata": {},
      "source": [
        "Whereas in here `\u2374` changes the shape of the `1 2 3 4` vector to `2 2`:"
      ]
    },
    {
      "cell_type": "code",
      "execution_count": 2,
      "metadata": {},
      "outputs": [
        {
          "data": {
            "text/html": [
              "<span style=\"white-space:pre; font-family: monospace\">1 2\n",
              "3 4\n",
              "</span>"
            ]
          },
          "execution_count": 2,
          "metadata": {},
          "output_type": "execute_result"
        }
      ],
      "source": [
        "2 2 \u2374 1 2 3 4"
      ]
    },
    {
      "cell_type": "markdown",
      "metadata": {},
      "source": [
        "There is, however, a major difference. In traditional mathematics, the symbol representing a monadic function is sometimes placed before its argument (as the $-$ in $a = \\color{red}{-}y$), sometimes after it (as the $!$ in $a = y\\color{red}{!}$), sometimes on both sides (as the $|\\cdot|$ in $a = \\color{red}|y\\color{red}|$), and some other conventions may be found.\n",
        "\n",
        "In APL, the symbol representing a monadic function is **always** placed before its argument, as the `\u2374` in `\u2374var`."
      ]
    },
    {
      "cell_type": "markdown",
      "metadata": {},
      "source": [
        "(Some-Primitive-Functions-Some-Scalar-Dyadic-Functions)=\n",
        "## Some Scalar Dyadic Functions\n",
        "\n",
        "(Some-Primitive-Functions-Definition-and-Examples)=\n",
        "### Definition and Examples\n",
        "\n",
        "_Scalar dyadic functions_ are primitive functions which have the following properties:\n",
        "\n",
        " - they are *dyadic* (require an argument on both sides);\n",
        " - they work item by item (scalar by scalar);\n",
        " - they can work on two arrays of the same shape, in which case the result also has the same shape; and\n",
        " - they can work on one array of any shape, and a single value (a _scalar_ or any one-item array), in which case the result has the same shape as the non-singleton array.\n",
        " \n",
        "The four basic arithmetic functions, _addition_, _subtraction_, _multiplication_, and _division_ are scalar dyadic functions. They apply themselves between each item of the left argument and the corresponding item of the right argument, like this:"
      ]
    },
    {
      "cell_type": "code",
      "execution_count": 3,
      "metadata": {},
      "outputs": [
        {
          "data": {
            "text/html": [
              "<span style=\"white-space:pre; font-family: monospace\">7 9 10 13\n",
              "</span>"
            ]
          },
          "execution_count": 3,
          "metadata": {},
          "output_type": "execute_result"
        }
      ],
      "source": [
        "5 3 2 9 + 2 6 8 4"
      ]
    },
    {
      "cell_type": "markdown",
      "metadata": {},
      "source": [
        "The function is applied between each item of two 4-item vectors. The result is also a 4-item vector.\n",
        "\n",
        "As an example of a function that is *not* a scalar function, let us look at the _reshape_ function. There is nothing in common between the shapes of its arguments:"
      ]
    },
    {
      "cell_type": "code",
      "execution_count": 4,
      "metadata": {},
      "outputs": [
        {
          "data": {
            "text/html": [
              "<span style=\"white-space:pre; font-family: monospace\">6 8 2\n",
              "1 9 3\n",
              "</span>"
            ]
          },
          "execution_count": 4,
          "metadata": {},
          "output_type": "execute_result"
        }
      ],
      "source": [
        "2 3 \u2374 6 8 2 1 9 3"
      ]
    },
    {
      "cell_type": "markdown",
      "metadata": {},
      "source": [
        "In fact, the left argument has 2 items, the right one has 6 and the result in this case is a matrix.\n",
        "\n",
        "Let us explore the behaviour of the basic arithmetic functions on vectors:"
      ]
    },
    {
      "cell_type": "code",
      "execution_count": 5,
      "metadata": {},
      "outputs": [
        {
          "data": {
            "text/html": [
              "<span style=\"white-space:pre; font-family: monospace\">3 \u00af3 \u00af6 5\n",
              "</span>"
            ]
          },
          "execution_count": 5,
          "metadata": {},
          "output_type": "execute_result"
        }
      ],
      "source": [
        "5 3 2 9 - 2 6 8 4"
      ]
    },
    {
      "cell_type": "code",
      "execution_count": 6,
      "metadata": {},
      "outputs": [
        {
          "data": {
            "text/html": [
              "<span style=\"white-space:pre; font-family: monospace\">2.5 0.5 0.5 1.28571\n",
              "</span>"
            ]
          },
          "execution_count": 6,
          "metadata": {},
          "output_type": "execute_result"
        }
      ],
      "source": [
        "5 3 2 9 \u00f7 2 6 4 7"
      ]
    },
    {
      "cell_type": "code",
      "execution_count": 3,
      "metadata": {},
      "outputs": [
        {
          "data": {
            "text/html": [
              "<span style=\"white-space:pre; font-family: monospace\">10.4 11.5 10.8 24 16.9\n",
              "</span>"
            ]
          },
          "execution_count": 3,
          "metadata": {},
          "output_type": "execute_result"
        }
      ],
      "source": [
        "price \u2190 5.2 11.5 3.6 4 8.45\n",
        "qty \u2190 2 1 3 6 2\n",
        "costs \u2190 price \u00d7 qty\n",
        "costs"
      ]
    },
    {
      "cell_type": "markdown",
      "metadata": {},
      "source": [
        "Scalar dyadic functions apply to arrays of any rank and shape.\n",
        "\n",
        "As we saw in the introduction, a Sales Director makes forecasts for sales of 4 products over the coming 6 months, and assigns them to the variable `forecast`:"
      ]
    },
    {
      "cell_type": "code",
      "execution_count": 4,
      "metadata": {},
      "outputs": [
        {
          "data": {
            "text/html": [
              "<span style=\"white-space:pre; font-family: monospace\"> 90 160 420 500  20  30\n",
              "110 450 170 370 290 360\n",
              "340 190 320 120 510 370\n",
              "150 460 240 520 490 280\n",
              "</span>"
            ]
          },
          "execution_count": 4,
          "metadata": {},
          "output_type": "execute_result"
        }
      ],
      "source": [
        "\u2395RL \u2190 73\n",
        "forecast \u2190 10\u00d7?4 6\u237455\n",
        "forecast"
      ]
    },
    {
      "cell_type": "markdown",
      "metadata": {},
      "source": [
        "At the end of the 6 months, they record the actual values in the variable `actual`. Here they are:"
      ]
    },
    {
      "cell_type": "code",
      "execution_count": 6,
      "metadata": {},
      "outputs": [
        {
          "data": {
            "text/html": [
              "<span style=\"white-space:pre; font-family: monospace\"> 89 166 420 508  12  23\n",
              "111 453 177 365 284 352\n",
              "349 192 329 115 515 374\n",
              "160 467 234 519 485 283\n",
              "</span>"
            ]
          },
          "execution_count": 6,
          "metadata": {},
          "output_type": "execute_result"
        }
      ],
      "source": [
        "\u2395RL \u2190 73\n",
        "actual \u2190 forecast + \u00af10+?4 6\u237420\n",
        "actual"
      ]
    },
    {
      "cell_type": "markdown",
      "metadata": {},
      "source": [
        "```{admonition} Remark \n",
        ":class: tip\n",
        "We initialise the `forecast` and `actual` variables with some random values by the use of the function _roll_ `?`. Notice this assignment is easier to type than some predefined set of values and we can use `\u2395RL` to always get the same result. You can learn more about `?` and `\u2395RL` later on in the book.\n",
        "```\n",
        "\n",
        "The first thing any self-respecting Sales Director will want to know is the difference between the expected and the actual results. This can be done easily by typing:"
      ]
    },
    {
      "cell_type": "code",
      "execution_count": 7,
      "metadata": {},
      "outputs": [
        {
          "data": {
            "text/html": [
              "<span style=\"white-space:pre; font-family: monospace\">\u00af1 6  0  8 \u00af8 \u00af7\n",
              " 1 3  7 \u00af5 \u00af6 \u00af8\n",
              " 9 2  9 \u00af5  5  4\n",
              "10 7 \u00af6 \u00af1 \u00af5  3\n",
              "</span>"
            ]
          },
          "execution_count": 7,
          "metadata": {},
          "output_type": "execute_result"
        }
      ],
      "source": [
        "actual - forecast"
      ]
    },
    {
      "cell_type": "markdown",
      "metadata": {},
      "source": [
        "Notice how subtracting two matrices gives a matrix of the same shape (recall that negative values are indicated by a high minus sign).\n",
        "\n",
        "But remember, a scalar dyadic function may also be applied between a single value and an array of any shape.\n",
        "\n",
        "For example, if we want to multiply `forecast` by 2, we can type:"
      ]
    },
    {
      "cell_type": "code",
      "execution_count": 8,
      "metadata": {},
      "outputs": [
        {
          "data": {
            "text/html": [
              "<span style=\"white-space:pre; font-family: monospace\">180 320 840 1000   40  60\n",
              "220 900 340  740  580 720\n",
              "680 380 640  240 1020 740\n",
              "300 920 480 1040  980 560\n",
              "</span>"
            ]
          },
          "execution_count": 8,
          "metadata": {},
          "output_type": "execute_result"
        }
      ],
      "source": [
        "forecast \u00d7 2        \u235d same as 2 \u00d7 forecast"
      ]
    },
    {
      "cell_type": "markdown",
      "metadata": {},
      "source": [
        "A complete list of _scalar dyadic functions_ is given in {numref}`Appendices-Scalar-Functions`."
      ]
    },
    {
      "cell_type": "markdown",
      "metadata": {},
      "source": [
        "(Some-Primitive-Functions-Division-By-Zero)=\n",
        "### Division By Zero\n",
        "\n",
        "An expression such as `17\u00f70` leads to an error message:"
      ]
    },
    {
      "cell_type": "code",
      "execution_count": 9,
      "metadata": {},
      "outputs": [
        {
          "name": "stderr",
          "output_type": "stream",
          "text": [
            "DOMAIN ERROR: Divide by zero\n",
            "      17\u00f70\n",
            "        \u2227\n"
          ]
        }
      ],
      "source": [
        "17\u00f70"
      ]
    },
    {
      "cell_type": "markdown",
      "metadata": {},
      "source": [
        "This happens because zero does not belong to the domain of valid denominators.\n",
        "\n",
        "However, notice what `0\u00f70` returns:"
      ]
    },
    {
      "cell_type": "code",
      "execution_count": 10,
      "metadata": {},
      "outputs": [
        {
          "data": {
            "text/html": [
              "<span style=\"white-space:pre; font-family: monospace\">1\n",
              "</span>"
            ]
          },
          "execution_count": 10,
          "metadata": {},
          "output_type": "execute_result"
        }
      ],
      "source": [
        "0\u00f70"
      ]
    },
    {
      "cell_type": "markdown",
      "metadata": {},
      "source": [
        "Despite being mathematically incorrect, the default behaviour gives the result 1, as given by the extension of the rule that \"any number divided by itself should give 1\". Nevertheless, because this is sometimes inappropriate, it is possible to change the default behaviour (see {numref}`Some-Primitive-Functions-Division-Control---DIV-and-Other-Mathematical-Subtleties`)."
      ]
    },
    {
      "cell_type": "markdown",
      "metadata": {},
      "source": [
        "(Some-Primitive-Functions-Power)=\n",
        "### Power\n",
        "\n",
        "In APL, the mathematical notation $x^n$ is written `x*n`.\n",
        "\n",
        "The function *power* (`*`) accepts any value(s) for `n`: integer or decimal, positive, negative, or zero, according to traditional usage.\n",
        "\n",
        "To calculate the values of $4^2$, $4^{1.4}$, $4^0$, $\\sqrt 4$, $4^{-2.1}$, $4^5$ we just need to type"
      ]
    },
    {
      "cell_type": "code",
      "execution_count": 11,
      "metadata": {},
      "outputs": [
        {
          "data": {
            "text/html": [
              "<span style=\"white-space:pre; font-family: monospace\">16 6.9644 1 2 0.25 0.0544094 1024\n",
              "</span>"
            ]
          },
          "execution_count": 11,
          "metadata": {},
          "output_type": "execute_result"
        }
      ],
      "source": [
        "4 * 2 1.4 0 0.5 \u00af1 \u00af2.1 5"
      ]
    },
    {
      "cell_type": "markdown",
      "metadata": {},
      "source": [
        "`0*0` gives `1`, which is also not mathematically correct but a fairly useful convention to take.\n",
        "\n",
        "There is no special symbol in APL to represent a square root; it is obtained by raising a value to the power $\\frac12$. If we take the square root of a negative number, then we get a complex number as a result:"
      ]
    },
    {
      "cell_type": "code",
      "execution_count": 12,
      "metadata": {},
      "outputs": [
        {
          "data": {
            "text/html": [
              "<span style=\"white-space:pre; font-family: monospace\">0J1\n",
              "</span>"
            ]
          },
          "execution_count": 12,
          "metadata": {},
          "output_type": "execute_result"
        }
      ],
      "source": [
        "\u00af1 * 0.5 "
      ]
    },
    {
      "cell_type": "markdown",
      "metadata": {},
      "source": [
        "The subject of \"complex numbers\" pertains to mathematics, but Dyalog APL has some nice features related to complex numbers and so we will dive deeper into them later on.\n",
        "<!-- (TODO) Link to the chapter/section on complex numbers. -->"
      ]
    },
    {
      "cell_type": "markdown",
      "metadata": {},
      "source": [
        "(Some-Primitive-Functions-Maximum--Minimum)=\n",
        "### Maximum & Minimum\n",
        "\n",
        "_Maximum_ (`\u2308`) and _minimum_ (`\u230a`) return respectively the larger of two values and the smaller of two values. Because they are scalar dyadic functions, they can be applied item by item between any two compatible arrays."
      ]
    },
    {
      "cell_type": "code",
      "execution_count": 13,
      "metadata": {},
      "outputs": [
        {
          "data": {
            "text/html": [
              "<span style=\"white-space:pre; font-family: monospace\">83\n",
              "</span>"
            ]
          },
          "execution_count": 13,
          "metadata": {},
          "output_type": "execute_result"
        }
      ],
      "source": [
        "75 \u2308 83"
      ]
    },
    {
      "cell_type": "code",
      "execution_count": 14,
      "metadata": {},
      "outputs": [
        {
          "data": {
            "text/html": [
              "<span style=\"white-space:pre; font-family: monospace\">19 22 19 60\n",
              "</span>"
            ]
          },
          "execution_count": 14,
          "metadata": {},
          "output_type": "execute_result"
        }
      ],
      "source": [
        "19 \u2308 11 22 \u00af20 60"
      ]
    },
    {
      "cell_type": "code",
      "execution_count": 15,
      "metadata": {},
      "outputs": [
        {
          "data": {
            "text/html": [
              "<span style=\"white-space:pre; font-family: monospace\">\u00af60 14 \u00af40 11.23\n",
              "</span>"
            ]
          },
          "execution_count": 15,
          "metadata": {},
          "output_type": "execute_result"
        }
      ],
      "source": [
        "52 14 \u00af37 18.44 \u230a \u00af60 15 \u00af40 11.23"
      ]
    },
    {
      "cell_type": "markdown",
      "metadata": {},
      "source": [
        "*Minimum* can be used to apply a limit to the values in an array. For example, to set a ceiling of 450 in the matrix `forecast`, it is sufficient to type:"
      ]
    },
    {
      "cell_type": "code",
      "execution_count": 16,
      "metadata": {},
      "outputs": [
        {
          "data": {
            "text/html": [
              "<span style=\"white-space:pre; font-family: monospace\"> 90 160 420 450  20  30\n",
              "110 450 170 370 290 360\n",
              "340 190 320 120 450 370\n",
              "150 450 240 450 450 280\n",
              "</span>"
            ]
          },
          "execution_count": 16,
          "metadata": {},
          "output_type": "execute_result"
        }
      ],
      "source": [
        "forecast \u230a 450"
      ]
    },
    {
      "cell_type": "markdown",
      "metadata": {},
      "source": [
        "Notice how the larger values have been capped to 450."
      ]
    },
    {
      "cell_type": "markdown",
      "metadata": {},
      "source": [
        "(Some-Primitive-Functions-Relationship)=\n",
        "### Relationship\n",
        "\n",
        "As in traditional mathematics, APL provides the six relationship functions:\n",
        "\n",
        "| APL | Meaning |\n",
        "| :-: | :- |\n",
        "| `x < y` | `x` less than `y` |\n",
        "| `x \u2264 y` | `x` less than or equal to `y` |\n",
        "| `x = y` | `x` equal to `y` |\n",
        "| `x \u2265 y` | `x` greater than or equal to `y` |\n",
        "| `x > y` | `x` greater than `y` |\n",
        "| `x \u2260 y` | `x` not equal to `y` |\n",
        "\n",
        "These symbols are obtained by pressing the <kbd>APL</kbd> key, simultaneously with the keys <kbd>3</kbd> to <kbd>8</kbd>, respectively.\n",
        "\n",
        "All these functions return `1` if the relation is true, or `0` if it is false."
      ]
    },
    {
      "cell_type": "code",
      "execution_count": 17,
      "metadata": {},
      "outputs": [
        {
          "data": {
            "text/html": [
              "<span style=\"white-space:pre; font-family: monospace\">0\n",
              "</span>"
            ]
          },
          "execution_count": 17,
          "metadata": {},
          "output_type": "execute_result"
        }
      ],
      "source": [
        "11 < 7"
      ]
    },
    {
      "cell_type": "code",
      "execution_count": 18,
      "metadata": {},
      "outputs": [
        {
          "data": {
            "text/html": [
              "<span style=\"white-space:pre; font-family: monospace\">1 0 1\n",
              "</span>"
            ]
          },
          "execution_count": 18,
          "metadata": {},
          "output_type": "execute_result"
        }
      ],
      "source": [
        "24 \u2264 24 11 33"
      ]
    },
    {
      "cell_type": "code",
      "execution_count": 19,
      "metadata": {},
      "outputs": [
        {
          "data": {
            "text/html": [
              "<span style=\"white-space:pre; font-family: monospace\">0\n",
              "</span>"
            ]
          },
          "execution_count": 19,
          "metadata": {},
          "output_type": "execute_result"
        }
      ],
      "source": [
        "5 = 9"
      ]
    },
    {
      "cell_type": "code",
      "execution_count": 20,
      "metadata": {},
      "outputs": [
        {
          "data": {
            "text/html": [
              "<span style=\"white-space:pre; font-family: monospace\">0 1 1\n",
              "</span>"
            ]
          },
          "execution_count": 20,
          "metadata": {},
          "output_type": "execute_result"
        }
      ],
      "source": [
        "3 8 7 \u2265 5 8 0"
      ]
    },
    {
      "cell_type": "code",
      "execution_count": 21,
      "metadata": {},
      "outputs": [
        {
          "data": {
            "text/html": [
              "<span style=\"white-space:pre; font-family: monospace\">0 1 0\n",
              "1 0 1\n",
              "</span>"
            ]
          },
          "execution_count": 21,
          "metadata": {},
          "output_type": "execute_result"
        }
      ],
      "source": [
        "6 > 2 3\u23747 2 9 3 6 4"
      ]
    },
    {
      "cell_type": "markdown",
      "metadata": {},
      "source": [
        "The results are called binary, or Boolean, values (Boolean refers to the name of the mathematician [George Boole](https://en.wikipedia.org/wiki/George_Boole)). They can be processed in many different ways and are extremely useful, as we shall soon see.\n",
        "\n",
        "Note that none of the four symbols `<` `\u2264` `\u2265` `>` can be applied to character arrays. Only `=` and `\u2260` can be used with character arrays, as illustrated below:"
      ]
    },
    {
      "cell_type": "code",
      "execution_count": 22,
      "metadata": {},
      "outputs": [
        {
          "data": {
            "text/html": [
              "<span style=\"white-space:pre; font-family: monospace\">1\n",
              "</span>"
            ]
          },
          "execution_count": 22,
          "metadata": {},
          "output_type": "execute_result"
        }
      ],
      "source": [
        "'m' = 'm'"
      ]
    },
    {
      "cell_type": "code",
      "execution_count": 23,
      "metadata": {},
      "outputs": [
        {
          "data": {
            "text/html": [
              "<span style=\"white-space:pre; font-family: monospace\">0\n",
              "</span>"
            ]
          },
          "execution_count": 23,
          "metadata": {},
          "output_type": "execute_result"
        }
      ],
      "source": [
        "'m' = 'M'"
      ]
    },
    {
      "cell_type": "code",
      "execution_count": 24,
      "metadata": {},
      "outputs": [
        {
          "data": {
            "text/html": [
              "<span style=\"white-space:pre; font-family: monospace\">1\n",
              "</span>"
            ]
          },
          "execution_count": 24,
          "metadata": {},
          "output_type": "execute_result"
        }
      ],
      "source": [
        "'k' \u2260 'a'"
      ]
    },
    {
      "cell_type": "code",
      "execution_count": 25,
      "metadata": {},
      "outputs": [
        {
          "data": {
            "text/html": [
              "<span style=\"white-space:pre; font-family: monospace\">1 1 0 0 1\n",
              "</span>"
            ]
          },
          "execution_count": 25,
          "metadata": {},
          "output_type": "execute_result"
        }
      ],
      "source": [
        "'sorry' \u2260 'r'"
      ]
    },
    {
      "cell_type": "markdown",
      "metadata": {},
      "source": [
        "Because these functions are scalar dyadic functions, they are applied between individual scalars (the letters), not words:"
      ]
    },
    {
      "cell_type": "code",
      "execution_count": 26,
      "metadata": {},
      "outputs": [
        {
          "data": {
            "text/html": [
              "<span style=\"white-space:pre; font-family: monospace\">0 1 0 1\n",
              "</span>"
            ]
          },
          "execution_count": 26,
          "metadata": {},
          "output_type": "execute_result"
        }
      ],
      "source": [
        "'gold' \u2260 'gulf'"
      ]
    },
    {
      "cell_type": "markdown",
      "metadata": {},
      "source": [
        "For the same reason, the two words (considered as vectors) must be of equal size, otherwise we get an error:"
      ]
    },
    {
      "cell_type": "code",
      "execution_count": 27,
      "metadata": {
        "scrolled": true
      },
      "outputs": [
        {
          "name": "stderr",
          "output_type": "stream",
          "text": [
            "LENGTH ERROR: Mismatched left and right argument shapes\n",
            "      'male'\u2260'female'\n",
            "            \u2227\n"
          ]
        }
      ],
      "source": [
        "'male' \u2260 'female'"
      ]
    },
    {
      "cell_type": "markdown",
      "metadata": {},
      "source": [
        "(Some-Primitive-Functions-Residue)=\n",
        "### Residue\n",
        "\n",
        "The _residue_ function, represented by `|`, returns the remainder of a division.\n",
        "\n",
        "In the expression `R \u2190 X|Y`, `R` is the remainder of `Y` divided by `X` (**be careful**; the arguments of _residue_ are given in the reverse order of that used by _division_ `Y\u00f7X`)."
      ]
    },
    {
      "cell_type": "code",
      "execution_count": 28,
      "metadata": {},
      "outputs": [
        {
          "data": {
            "text/html": [
              "<span style=\"white-space:pre; font-family: monospace\">5\n",
              "</span>"
            ]
          },
          "execution_count": 28,
          "metadata": {},
          "output_type": "execute_result"
        }
      ],
      "source": [
        "7 | 54"
      ]
    },
    {
      "cell_type": "code",
      "execution_count": 29,
      "metadata": {},
      "outputs": [
        {
          "data": {
            "text/html": [
              "<span style=\"white-space:pre; font-family: monospace\">0 1 1 0\n",
              "</span>"
            ]
          },
          "execution_count": 29,
          "metadata": {},
          "output_type": "execute_result"
        }
      ],
      "source": [
        "2 | 216 47 29 28        \u235d Find even and odd numbers"
      ]
    },
    {
      "cell_type": "code",
      "execution_count": 30,
      "metadata": {},
      "outputs": [
        {
          "data": {
            "text/html": [
              "<span style=\"white-space:pre; font-family: monospace\">5 0 9 \u00af1.9 2 \u00af2 4 \u00af2\n",
              "</span>"
            ]
          },
          "execution_count": 30,
          "metadata": {},
          "output_type": "execute_result"
        }
      ],
      "source": [
        "X \u2190 7 4 11 \u00af4.3 3 \u00af5 6 \u00af3\n",
        "Y \u2190 54 84 119 19.6 29 43 \u00af14 \u00af14\n",
        "X | Y"
      ]
    },
    {
      "cell_type": "markdown",
      "metadata": {},
      "source": [
        "The function can be used with negative and decimal values, as seen above.\n",
        "\n",
        "The result `R` is always equal to `Y - (N\u00d7X)`, where `N` is the largest possible integer such that `R` is always between `0` and `X`, but never equal to `X`. You can show that `N` is equal to `\u230a(Y\u00f7X)`, which means `X|Y` and `Y - (X \u00d7 (\u230a(Y\u00f7X)))` give the exact same result:"
      ]
    },
    {
      "cell_type": "code",
      "execution_count": 31,
      "metadata": {},
      "outputs": [
        {
          "data": {
            "text/html": [
              "<span style=\"white-space:pre; font-family: monospace\">5 0 9 \u00af1.9 2 \u00af2 4 \u00af2\n",
              "</span>"
            ]
          },
          "execution_count": 31,
          "metadata": {},
          "output_type": "execute_result"
        }
      ],
      "source": [
        "(X|Y)"
      ]
    },
    {
      "cell_type": "code",
      "execution_count": 32,
      "metadata": {},
      "outputs": [
        {
          "data": {
            "text/html": [
              "<span style=\"white-space:pre; font-family: monospace\">5 0 9 \u00af1.9 2 \u00af2 4 \u00af2\n",
              "</span>"
            ]
          },
          "execution_count": 32,
          "metadata": {},
          "output_type": "execute_result"
        }
      ],
      "source": [
        "(Y - (X \u00d7 (\u230a(Y\u00f7X))))"
      ]
    },
    {
      "cell_type": "markdown",
      "metadata": {},
      "source": [
        "Using a new dyadic primitive `\u2261` (obtained with <kbd>APL</kbd>+<kbd>Shift</kbd>+<kbd>;</kbd>) we can ask APL to check if the two arrays are the same, instead of having to compare each array item by item:"
      ]
    },
    {
      "cell_type": "code",
      "execution_count": 33,
      "metadata": {},
      "outputs": [
        {
          "data": {
            "text/html": [
              "<span style=\"white-space:pre; font-family: monospace\">1\n",
              "</span>"
            ]
          },
          "execution_count": 33,
          "metadata": {},
          "output_type": "execute_result"
        }
      ],
      "source": [
        "(X|Y) \u2261 (Y - (X \u00d7 (\u230a(Y\u00f7X))))"
      ]
    },
    {
      "cell_type": "markdown",
      "metadata": {},
      "source": [
        "Keep reading the next section to see how `\u2261` works."
      ]
    },
    {
      "cell_type": "markdown",
      "metadata": {},
      "source": [
        "(Some-Primitive-Functions-Array-Comparison)=\n",
        "### Array Comparison\n",
        "\n",
        "We have seen above that the dyadic functions `=` and `\u2260` are scalar, which meant we cannot use them when we wish to check if two arrays are the same or when we wish to check if two arrays are different:"
      ]
    },
    {
      "cell_type": "code",
      "execution_count": 34,
      "metadata": {},
      "outputs": [
        {
          "data": {
            "text/html": [
              "<span style=\"white-space:pre; font-family: monospace\">1 1 1 1\n",
              "</span>"
            ]
          },
          "execution_count": 34,
          "metadata": {},
          "output_type": "execute_result"
        }
      ],
      "source": [
        "1 2 3 4 = 1 2 3 4"
      ]
    },
    {
      "cell_type": "markdown",
      "metadata": {},
      "source": [
        "The result above says the arrays have matching items, but doesn't provide the summary information that *the arrays are the same*.\n",
        "\n",
        "For a similar reason, we can't even compare vectors of different lengths because dyadic scalar functions expect the shapes of their arguments to match:"
      ]
    },
    {
      "cell_type": "code",
      "execution_count": 38,
      "metadata": {},
      "outputs": [
        {
          "name": "stderr",
          "output_type": "stream",
          "text": [
            "LENGTH ERROR: Mismatched left and right argument shapes\n",
            "      'male'='female'\n",
            "            \u2227\n"
          ]
        }
      ],
      "source": [
        "'male' = 'female'"
      ]
    },
    {
      "cell_type": "markdown",
      "metadata": {},
      "source": [
        "Instead, we must use the function _match_ (`\u2261`) to check if two arrays are exactly the same:"
      ]
    },
    {
      "cell_type": "code",
      "execution_count": 39,
      "metadata": {},
      "outputs": [
        {
          "data": {
            "text/html": [
              "<span style=\"white-space:pre; font-family: monospace\">1\n",
              "</span>"
            ]
          },
          "execution_count": 39,
          "metadata": {},
          "output_type": "execute_result"
        }
      ],
      "source": [
        "1 2 3 4 \u2261 1 2 3 4"
      ]
    },
    {
      "cell_type": "code",
      "execution_count": 40,
      "metadata": {},
      "outputs": [
        {
          "data": {
            "text/html": [
              "<span style=\"white-space:pre; font-family: monospace\">0\n",
              "</span>"
            ]
          },
          "execution_count": 40,
          "metadata": {},
          "output_type": "execute_result"
        }
      ],
      "source": [
        "'male' \u2261 'female'"
      ]
    },
    {
      "cell_type": "markdown",
      "metadata": {},
      "source": [
        "The primitive _not match_ (`\u2262`) (obtained with <kbd>APL</kbd>+<kbd>Shift</kbd>+<kbd>'</kbd>) is the counterpart to `\u2261` and checks if two arrays are different:"
      ]
    },
    {
      "cell_type": "code",
      "execution_count": 41,
      "metadata": {},
      "outputs": [
        {
          "data": {
            "text/html": [
              "<span style=\"white-space:pre; font-family: monospace\">0\n",
              "</span>"
            ]
          },
          "execution_count": 41,
          "metadata": {},
          "output_type": "execute_result"
        }
      ],
      "source": [
        "1 2 3 4 \u2262 1 2 3 4"
      ]
    },
    {
      "cell_type": "code",
      "execution_count": 42,
      "metadata": {
        "scrolled": true
      },
      "outputs": [
        {
          "data": {
            "text/html": [
              "<span style=\"white-space:pre; font-family: monospace\">1\n",
              "</span>"
            ]
          },
          "execution_count": 42,
          "metadata": {},
          "output_type": "execute_result"
        }
      ],
      "source": [
        "'male' \u2262 'female'"
      ]
    },
    {
      "cell_type": "markdown",
      "metadata": {},
      "source": [
        "(Some-Primitive-Functions-Order-of-Evaluation)=\n",
        "## Order of Evaluation\n",
        "\n",
        "Like other programming languages, APL allows the programmer to use parentheses to specify the order of evaluation of a complex expression. Thus the expression `5\u00d7(6+7)` means \"add 6 to 7, then multiply by 5\". In the absence of parentheses, most other programming languages employ rules of precedence to decide how a complex expression such as `5\u00d76+7` would be evaluated. Typically, the result will be 37 because multiplication is given precedence over addition and is performed first.\n",
        "\n",
        "When APL was designed, it was decided that the sheer number of primitive functions meant that a set of precedence rules would be impossibly complex to remember and apply.\n",
        "\n",
        "The solution adopted in APL is simple, and consistent with the rules we apply to calculate complex expressions in traditional algebra. Suppose, for example, that we need to calculate\n",
        "\n",
        "$$\\log \\sin \\sqrt {x \u00f7 3}$$\n",
        "\n",
        "To do this, we would first divide $x$ by 3, then take the square root of the result, next calculate its sine, and finally calculate the logarithm: each function applies to the result of the entire expression to its right. This is how it is done in mathematics, and so it is in APL. The only difference is that in APL there are *no* exceptions!\n",
        "\n",
        "To evaluate"
      ]
    },
    {
      "cell_type": "code",
      "execution_count": 43,
      "metadata": {},
      "outputs": [
        {
          "data": {
            "text/html": [
              "<span style=\"white-space:pre; font-family: monospace\">65\n",
              "</span>"
            ]
          },
          "execution_count": 43,
          "metadata": {},
          "output_type": "execute_result"
        }
      ],
      "source": [
        "5 \u00d7 6 + 7"
      ]
    },
    {
      "cell_type": "markdown",
      "metadata": {},
      "source": [
        "we first calculate"
      ]
    },
    {
      "cell_type": "code",
      "execution_count": 44,
      "metadata": {},
      "outputs": [
        {
          "data": {
            "text/html": [
              "<span style=\"white-space:pre; font-family: monospace\">13\n",
              "</span>"
            ]
          },
          "execution_count": 44,
          "metadata": {},
          "output_type": "execute_result"
        }
      ],
      "source": [
        "6 + 7"
      ]
    },
    {
      "cell_type": "markdown",
      "metadata": {},
      "source": [
        "and then multiply by 5, giving 65:"
      ]
    },
    {
      "cell_type": "code",
      "execution_count": 45,
      "metadata": {},
      "outputs": [
        {
          "data": {
            "text/html": [
              "<span style=\"white-space:pre; font-family: monospace\">65\n",
              "</span>"
            ]
          },
          "execution_count": 45,
          "metadata": {},
          "output_type": "execute_result"
        }
      ],
      "source": [
        "5 \u00d7 13"
      ]
    },
    {
      "cell_type": "markdown",
      "metadata": {},
      "source": [
        "By the use of parentheses we can instruct APL to do the multiplication first,"
      ]
    },
    {
      "cell_type": "code",
      "execution_count": 46,
      "metadata": {},
      "outputs": [
        {
          "data": {
            "text/html": [
              "<span style=\"white-space:pre; font-family: monospace\">37\n",
              "</span>"
            ]
          },
          "execution_count": 46,
          "metadata": {},
          "output_type": "execute_result"
        }
      ],
      "source": [
        "(5 \u00d7 6) + 7"
      ]
    },
    {
      "cell_type": "markdown",
      "metadata": {},
      "source": [
        "which an experienced APL programmer would probably write as"
      ]
    },
    {
      "cell_type": "code",
      "execution_count": 47,
      "metadata": {},
      "outputs": [
        {
          "data": {
            "text/html": [
              "<span style=\"white-space:pre; font-family: monospace\">37\n",
              "</span>"
            ]
          },
          "execution_count": 47,
          "metadata": {},
          "output_type": "execute_result"
        }
      ],
      "source": [
        "7 + 5 \u00d7 6"
      ]
    },
    {
      "cell_type": "markdown",
      "metadata": {},
      "source": [
        "```{admonition} Rule \n",
        ":class: tip\n",
        "In an APL expression, each function takes as its right argument the result of the entire expression to its right. No functions have higher precedence than any others.\n",
        "\n",
        "If the function is dyadic (takes both a left and a right argument), it takes as its left argument the array immediately to its left, delimited by the next function.\n",
        "\n",
        "This is sometimes called \"_right to left evaluation_\" (although this is not strictly correct).\n",
        "\n",
        "If necessary, one can use _parentheses_ to force a different order of evaluation.\n",
        "```\n",
        "\n",
        "You must not be confused: each function is itself evaluated in its natural order, so `8\u00f74` gives 2, not 0.5! The expression \"*right to left*\" only means that the first operation executed is the rightmost one.\n",
        "\n",
        "If the order of evaluation seems strange to you at first sight, just refer to a plain English sentence: \"*take the top half of the bottom quarter*\" does not mean \"*take the top half first, and then take the bottom quarter*\"; it means \"*__first__ split into quarters and take the bottom one, **then** split that quarter into two halves and take the top half of it*\": this is exactly the way that APL works! Even in everyday English language, which we write from left to right, we implicitly use the \"right to left evaluation\" rule.\n",
        "\n",
        "Let us apply this rule to some examples:"
      ]
    },
    {
      "cell_type": "code",
      "execution_count": 35,
      "metadata": {
        "scrolled": true
      },
      "outputs": [
        {
          "data": {
            "text/html": [
              "<span style=\"white-space:pre; font-family: monospace\">18\n",
              "</span>"
            ]
          },
          "execution_count": 35,
          "metadata": {},
          "output_type": "execute_result"
        }
      ],
      "source": [
        "3\u00d75+1"
      ]
    },
    {
      "cell_type": "markdown",
      "metadata": {},
      "source": [
        "First we sum,"
      ]
    },
    {
      "cell_type": "code",
      "execution_count": 36,
      "metadata": {},
      "outputs": [
        {
          "data": {
            "text/html": [
              "<span style=\"white-space:pre; font-family: monospace\">6\n",
              "</span>"
            ]
          },
          "execution_count": 36,
          "metadata": {},
          "output_type": "execute_result"
        }
      ],
      "source": [
        "5+1"
      ]
    },
    {
      "cell_type": "markdown",
      "metadata": {},
      "source": [
        "then we multiply:"
      ]
    },
    {
      "cell_type": "code",
      "execution_count": 37,
      "metadata": {},
      "outputs": [
        {
          "data": {
            "text/html": [
              "<span style=\"white-space:pre; font-family: monospace\">18\n",
              "</span>"
            ]
          },
          "execution_count": 37,
          "metadata": {},
          "output_type": "execute_result"
        }
      ],
      "source": [
        "3\u00d76"
      ]
    },
    {
      "cell_type": "markdown",
      "metadata": {},
      "source": [
        "Now an example with three operations:"
      ]
    },
    {
      "cell_type": "code",
      "execution_count": 38,
      "metadata": {},
      "outputs": [
        {
          "data": {
            "text/html": [
              "<span style=\"white-space:pre; font-family: monospace\">3 5\n",
              "</span>"
            ]
          },
          "execution_count": 38,
          "metadata": {},
          "output_type": "execute_result"
        }
      ],
      "source": [
        "3 6\u230a4+2 9>7"
      ]
    },
    {
      "cell_type": "markdown",
      "metadata": {},
      "source": [
        "First we perform the \"greater than\" comparison,"
      ]
    },
    {
      "cell_type": "code",
      "execution_count": 39,
      "metadata": {},
      "outputs": [
        {
          "data": {
            "text/html": [
              "<span style=\"white-space:pre; font-family: monospace\">0 1\n",
              "</span>"
            ]
          },
          "execution_count": 39,
          "metadata": {},
          "output_type": "execute_result"
        }
      ],
      "source": [
        "2 9>7"
      ]
    },
    {
      "cell_type": "markdown",
      "metadata": {},
      "source": [
        "then we add `4`"
      ]
    },
    {
      "cell_type": "code",
      "execution_count": 40,
      "metadata": {},
      "outputs": [
        {
          "data": {
            "text/html": [
              "<span style=\"white-space:pre; font-family: monospace\">4 5\n",
              "</span>"
            ]
          },
          "execution_count": 40,
          "metadata": {},
          "output_type": "execute_result"
        }
      ],
      "source": [
        "4+0 1"
      ]
    },
    {
      "cell_type": "markdown",
      "metadata": {},
      "source": [
        "and finally we take the minimum:"
      ]
    },
    {
      "cell_type": "code",
      "execution_count": 41,
      "metadata": {},
      "outputs": [
        {
          "data": {
            "text/html": [
              "<span style=\"white-space:pre; font-family: monospace\">3 5\n",
              "</span>"
            ]
          },
          "execution_count": 41,
          "metadata": {},
          "output_type": "execute_result"
        }
      ],
      "source": [
        "3 6\u230a4 5"
      ]
    },
    {
      "cell_type": "markdown",
      "metadata": {},
      "source": [
        "An even more complex example, from the end of the subsection on the primitive function _residue_ (`|`):"
      ]
    },
    {
      "cell_type": "code",
      "execution_count": 42,
      "metadata": {},
      "outputs": [
        {
          "data": {
            "text/html": [
              "<span style=\"white-space:pre; font-family: monospace\">1\n",
              "</span>"
            ]
          },
          "execution_count": 42,
          "metadata": {},
          "output_type": "execute_result"
        }
      ],
      "source": [
        "(X|Y)\u2261Y-X\u00d7\u230aY\u00f7X"
      ]
    },
    {
      "cell_type": "markdown",
      "metadata": {},
      "source": [
        "Notice that in the example above we still kept a set of parentheses around `X|Y`, because we want `\u2261` to compare `X|Y` with `Y-X\u00d7\u230aY\u00f7X`. To get rid of those parentheses one would need to introduce an intermediate variable, for example like so:"
      ]
    },
    {
      "cell_type": "code",
      "execution_count": 43,
      "metadata": {},
      "outputs": [
        {
          "data": {
            "text/html": [
              "<span style=\"white-space:pre; font-family: monospace\">1\n",
              "</span>"
            ]
          },
          "execution_count": 43,
          "metadata": {},
          "output_type": "execute_result"
        }
      ],
      "source": [
        "R \u2190 X|Y\n",
        "R\u2261Y-X\u00d7\u230aY\u00f7X"
      ]
    },
    {
      "cell_type": "markdown",
      "metadata": {},
      "source": [
        "```{admonition} Warning \n",
        ":class: warning\n",
        "In the beginning, you may encounter some surprises when using commutative functions.\n",
        "```\n",
        "\n",
        "For example, if `v` is a vector, `1+\u2374v` is different from `\u2374v+1`. Let us see why, with the following vector:"
      ]
    },
    {
      "cell_type": "code",
      "execution_count": 45,
      "metadata": {},
      "outputs": [],
      "source": [
        "v \u2190 5 2 7"
      ]
    },
    {
      "cell_type": "markdown",
      "metadata": {},
      "source": [
        "The value of"
      ]
    },
    {
      "cell_type": "code",
      "execution_count": 46,
      "metadata": {
        "scrolled": true
      },
      "outputs": [
        {
          "data": {
            "text/html": [
              "<span style=\"white-space:pre; font-family: monospace\">4\n",
              "</span>"
            ]
          },
          "execution_count": 46,
          "metadata": {},
          "output_type": "execute_result"
        }
      ],
      "source": [
        "1+\u2374v"
      ]
    },
    {
      "cell_type": "markdown",
      "metadata": {},
      "source": [
        "is computed by first taking"
      ]
    },
    {
      "cell_type": "code",
      "execution_count": 47,
      "metadata": {},
      "outputs": [
        {
          "data": {
            "text/html": [
              "<span style=\"white-space:pre; font-family: monospace\">3\n",
              "</span>"
            ]
          },
          "execution_count": 47,
          "metadata": {},
          "output_type": "execute_result"
        }
      ],
      "source": [
        "\u2374v"
      ]
    },
    {
      "cell_type": "markdown",
      "metadata": {},
      "source": [
        "followed by"
      ]
    },
    {
      "cell_type": "code",
      "execution_count": 48,
      "metadata": {},
      "outputs": [
        {
          "data": {
            "text/html": [
              "<span style=\"white-space:pre; font-family: monospace\">4\n",
              "</span>"
            ]
          },
          "execution_count": 48,
          "metadata": {},
          "output_type": "execute_result"
        }
      ],
      "source": [
        "1+3"
      ]
    },
    {
      "cell_type": "markdown",
      "metadata": {},
      "source": [
        "Whereas the value of"
      ]
    },
    {
      "cell_type": "code",
      "execution_count": 49,
      "metadata": {},
      "outputs": [
        {
          "data": {
            "text/html": [
              "<span style=\"white-space:pre; font-family: monospace\">3\n",
              "</span>"
            ]
          },
          "execution_count": 49,
          "metadata": {},
          "output_type": "execute_result"
        }
      ],
      "source": [
        "\u2374v+1"
      ]
    },
    {
      "cell_type": "markdown",
      "metadata": {},
      "source": [
        "is computed by first taking"
      ]
    },
    {
      "cell_type": "code",
      "execution_count": 50,
      "metadata": {},
      "outputs": [
        {
          "data": {
            "text/html": [
              "<span style=\"white-space:pre; font-family: monospace\">6 3 8\n",
              "</span>"
            ]
          },
          "execution_count": 50,
          "metadata": {},
          "output_type": "execute_result"
        }
      ],
      "source": [
        "v+1"
      ]
    },
    {
      "cell_type": "markdown",
      "metadata": {},
      "source": [
        "followed by"
      ]
    },
    {
      "cell_type": "code",
      "execution_count": 51,
      "metadata": {},
      "outputs": [
        {
          "data": {
            "text/html": [
              "<span style=\"white-space:pre; font-family: monospace\">3\n",
              "</span>"
            ]
          },
          "execution_count": 51,
          "metadata": {},
          "output_type": "execute_result"
        }
      ],
      "source": [
        "\u23746 3 8"
      ]
    },
    {
      "cell_type": "markdown",
      "metadata": {},
      "source": [
        "which gives a different result.\n",
        "\n",
        "This may be completely new to people who have experience with other programming languages, and is one of the reasons why we **recommend** that you do all of the exercises at the end of this chapter. With a little practice, you will soon find this simple rule very natural, and you will consider it a relief that you do not have to remember complex rules for function precedence."
      ]
    },
    {
      "cell_type": "markdown",
      "metadata": {},
      "source": [
        "(Some-Primitive-Functions-Monadic-Scalar-Functions)=\n",
        "## Monadic Scalar Functions\n",
        "\n",
        "Most of the symbols we have encountered so far also have a monadic definition; let's look at them now.\n",
        "\n",
        "(Some-Primitive-Functions-The-Four-Basic-Symbols)=\n",
        "### The Four Basic Symbols\n",
        "\n",
        "We will begin with the four basic symbols `+` `-` `\u00d7` `\u00f7`.\n",
        "\n",
        "(Some-Primitive-Functions-Conjugate)=\n",
        "#### Conjugate\n",
        "\n",
        "The Plus sign used monadically is the function _conjugate_. It returns the _complex conjugate_ of its arguments:"
      ]
    },
    {
      "cell_type": "code",
      "execution_count": 1,
      "metadata": {},
      "outputs": [
        {
          "data": {
            "text/html": [
              "<span style=\"white-space:pre; font-family: monospace\">0J\u00af1\n",
              "</span>"
            ]
          },
          "execution_count": 1,
          "metadata": {},
          "output_type": "execute_result"
        }
      ],
      "source": [
        "+ 0J1"
      ]
    },
    {
      "cell_type": "markdown",
      "metadata": {},
      "source": [
        "When the numbers have no complex part, the function acts as the identity function, as the complex conjugate of a real number is the number itself:"
      ]
    },
    {
      "cell_type": "code",
      "execution_count": 53,
      "metadata": {},
      "outputs": [
        {
          "data": {
            "text/html": [
              "<span style=\"white-space:pre; font-family: monospace\">1 2 3 \u00af3 6.5346 56\n",
              "</span>"
            ]
          },
          "execution_count": 53,
          "metadata": {},
          "output_type": "execute_result"
        }
      ],
      "source": [
        "+ 1 2 3 \u00af3 6.5346 56J0"
      ]
    },
    {
      "cell_type": "markdown",
      "metadata": {},
      "source": [
        "For historical compatibility reasons, monadic `+` also acts as the identity function if the argument is a character:"
      ]
    },
    {
      "cell_type": "code",
      "execution_count": 54,
      "metadata": {},
      "outputs": [
        {
          "data": {
            "text/html": [
              "<span style=\"white-space:pre; font-family: monospace\">a\n",
              "</span>"
            ]
          },
          "execution_count": 54,
          "metadata": {},
          "output_type": "execute_result"
        }
      ],
      "source": [
        "+ 'a'"
      ]
    },
    {
      "cell_type": "markdown",
      "metadata": {},
      "source": [
        "Because it is a scalar function, it naturally works with mixed arrays:"
      ]
    },
    {
      "cell_type": "code",
      "execution_count": 55,
      "metadata": {},
      "outputs": [
        {
          "data": {
            "text/html": [
              "<span style=\"white-space:pre; font-family: monospace\">B 3 a \u00af3 0J\u00af1 g 4J4\n",
              "</span>"
            ]
          },
          "execution_count": 55,
          "metadata": {},
          "output_type": "execute_result"
        }
      ],
      "source": [
        "+ 'B' 3 'a' \u00af3 0J1 'g' 4J\u00af4"
      ]
    },
    {
      "cell_type": "markdown",
      "metadata": {},
      "source": [
        "(Some-Primitive-Functions-Negate)=\n",
        "#### Negate\n",
        "\n",
        "The _minus_ sign is the function _negate_. It returns the negation of its argument:"
      ]
    },
    {
      "cell_type": "code",
      "execution_count": 56,
      "metadata": {},
      "outputs": [
        {
          "data": {
            "text/html": [
              "<span style=\"white-space:pre; font-family: monospace\">\u00af19 \u00af11 33 0 17\n",
              "</span>"
            ]
          },
          "execution_count": 56,
          "metadata": {},
          "output_type": "execute_result"
        }
      ],
      "source": [
        "- 19 11 \u00af33 0 \u00af17"
      ]
    },
    {
      "cell_type": "markdown",
      "metadata": {},
      "source": [
        "(Some-Primitive-Functions-Direction)=\n",
        "#### Direction\n",
        "\n",
        "The _multiply_ symbol used monadically is the function _direction_. For real numbers, it tells us the sign of its argument, using the following convention:\n",
        "\n",
        "| Result | Value |\n",
        "| -: | :- |\n",
        "| `1` | The value is positive |\n",
        "| `0` | The value is zero |\n",
        "| `\u00af1` | The value is negative |\n",
        "\n",
        "Some examples follow:"
      ]
    },
    {
      "cell_type": "code",
      "execution_count": 57,
      "metadata": {},
      "outputs": [
        {
          "data": {
            "text/html": [
              "<span style=\"white-space:pre; font-family: monospace\">1 1 \u00af1 0 \u00af1\n",
              "</span>"
            ]
          },
          "execution_count": 57,
          "metadata": {},
          "output_type": "execute_result"
        }
      ],
      "source": [
        "\u00d7 19 11 \u00af33 0 \u00af17"
      ]
    },
    {
      "cell_type": "markdown",
      "metadata": {},
      "source": [
        "That is why the monadic _multiply_ symbol is sometimes referred to as the _sign_ function.\n",
        "\n",
        "But _direction_ also applies to complex numbers, and does so by extending the idea above. The _direction_ of a number is that same number re-scaled so that it has magnitude (\"length\") 1.\n",
        "\n",
        "Let us take the complex number `3J4` as an example. If we look at the figure below, we see that the 3 is represented by the bottom side of the triangle and the 4 by the right side of the triangle. The little arrow that goes from the lower-left to the upper-right vertex of the triangle represents the direction in which `3J4` points.\n",
        "\n",
        "(fig-Direction_Right_Triangle)=\n",
        "```{figure} ../res/Direction_Right_Triangle.png\n",
        "---\n",
        "name: Direction_Right_Triangle\n",
        "---\n",
        "A right triangle with sides 3, 4 and 5 representing the complex number `3J4`.\n",
        "```\n",
        "\n",
        "We can also see that said arrow has length 5, as the Pythagorean theorem tells us:"
      ]
    },
    {
      "cell_type": "code",
      "execution_count": 58,
      "metadata": {},
      "outputs": [
        {
          "data": {
            "text/html": [
              "<span style=\"white-space:pre; font-family: monospace\">5\n",
              "</span>"
            ]
          },
          "execution_count": 58,
          "metadata": {},
          "output_type": "execute_result"
        }
      ],
      "source": [
        "((3*2)+(4*2))*0.5"
      ]
    },
    {
      "cell_type": "markdown",
      "metadata": {},
      "source": [
        "Now `\u00d73J4` is the complex number associated with a triangle that is similar to the one above, but with the arrow measuring 1, exactly like the smaller triangle inside the larger triangle in the figure below:\n",
        "\n",
        "(fig-Direction_Right_Triangle_Scaled)=\n",
        "```{figure} ../res/Direction_Right_Triangle_Scaled.png\n",
        "---\n",
        "name: Direction_Right_Triangle_Scaled\n",
        "---\n",
        "Scaled down version of the `3J4` triangle.\n",
        "```\n",
        "\n",
        "We only have to figure out the lengths of the other two sides:"
      ]
    },
    {
      "cell_type": "code",
      "execution_count": 59,
      "metadata": {},
      "outputs": [
        {
          "data": {
            "text/html": [
              "<span style=\"white-space:pre; font-family: monospace\">0.6J0.8\n",
              "</span>"
            ]
          },
          "execution_count": 59,
          "metadata": {},
          "output_type": "execute_result"
        }
      ],
      "source": [
        "\u00d7 3J4"
      ]
    },
    {
      "cell_type": "markdown",
      "metadata": {},
      "source": [
        "(Some-Primitive-Functions-Reciprocal)=\n",
        "#### Reciprocal\n",
        "\n",
        "No surprise here, as the symbol _divide_ gives the _reciprocal_ or _inverse_ of its argument:"
      ]
    },
    {
      "cell_type": "code",
      "execution_count": 60,
      "metadata": {},
      "outputs": [
        {
          "data": {
            "text/html": [
              "<span style=\"white-space:pre; font-family: monospace\">0.5 \u00af0.25 3.33333 4 \u00af0.142857\n",
              "</span>"
            ]
          },
          "execution_count": 60,
          "metadata": {},
          "output_type": "execute_result"
        }
      ],
      "source": [
        "\u00f7 2 \u00af4 .3 .25 \u00af7"
      ]
    },
    {
      "cell_type": "markdown",
      "metadata": {},
      "source": [
        "### Other Scalar Monadic Functions"
      ]
    },
    {
      "cell_type": "markdown",
      "metadata": {},
      "source": [
        "(Some-Primitive-Functions-Magnitude-Absolute-Value)=\n",
        "#### Magnitude (Absolute Value)\n",
        "\n",
        "The monadic _stile_ `|` represents the absolute (unsigned) value of its argument, if its argument only contains real numbers:"
      ]
    },
    {
      "cell_type": "code",
      "execution_count": 2,
      "metadata": {},
      "outputs": [
        {
          "data": {
            "text/html": [
              "<span style=\"white-space:pre; font-family: monospace\">29.2 49.3 14.8 0 37.2\n",
              "</span>"
            ]
          },
          "execution_count": 2,
          "metadata": {},
          "output_type": "execute_result"
        }
      ],
      "source": [
        "V \u2190 29.2 49.3 \u00af14.8 0 \u00af37.2\n",
        "|V"
      ]
    },
    {
      "cell_type": "markdown",
      "metadata": {},
      "source": [
        "Like monadic `\u00d7`, monadic `|` generalises nicely for complex numbers. Take the complex number `12J5` and its representation as a right triangle in the figure below.\n",
        "\n",
        "(fig-Magnitude_Right_Triangle)=\n",
        "```{figure} ../res/Magnitude_Right_Triangle.png\n",
        "---\n",
        "name: Magnitude_Right_Triangle\n",
        "---\n",
        "The complex number `12J5` represented by a right triangle.\n",
        "```\n",
        "\n",
        "`|12J5` is the length that is missing in the figure. In this case, it is"
      ]
    },
    {
      "cell_type": "code",
      "execution_count": 62,
      "metadata": {},
      "outputs": [
        {
          "data": {
            "text/html": [
              "<span style=\"white-space:pre; font-family: monospace\">13\n",
              "</span>"
            ]
          },
          "execution_count": 62,
          "metadata": {},
          "output_type": "execute_result"
        }
      ],
      "source": [
        "|12J5"
      ]
    },
    {
      "cell_type": "markdown",
      "metadata": {},
      "source": [
        "From a geometrical point of view it becomes clear that `\u00d7` and `|` are related for any number `v`: if we take the small triangle (`\u00d7v`) and we multiply it by the length of the larger side (`|v`) then we get the original triangle, which represents the original (complex) number:"
      ]
    },
    {
      "cell_type": "code",
      "execution_count": 63,
      "metadata": {},
      "outputs": [
        {
          "data": {
            "text/html": [
              "<span style=\"white-space:pre; font-family: monospace\">1\n",
              "</span>"
            ]
          },
          "execution_count": 63,
          "metadata": {},
          "output_type": "execute_result"
        }
      ],
      "source": [
        "v \u2190 0 1 \u00af1 2.3 \u00af4.6 0J1 3J\u00af4.2\n",
        "v\u2261(\u00d7v)\u00d7|v"
      ]
    },
    {
      "cell_type": "markdown",
      "metadata": {},
      "source": [
        "(Some-Primitive-Functions-Exponential)=\n",
        "#### Exponential\n",
        "\n",
        "The expression `*n` gives $e^n$, where $e$ is the base of the natural logarithm, approximately $2.71828$:"
      ]
    },
    {
      "cell_type": "code",
      "execution_count": 64,
      "metadata": {},
      "outputs": [
        {
          "data": {
            "text/html": [
              "<span style=\"white-space:pre; font-family: monospace\">2.71828\n",
              "</span>"
            ]
          },
          "execution_count": 64,
          "metadata": {},
          "output_type": "execute_result"
        }
      ],
      "source": [
        "*1"
      ]
    },
    {
      "cell_type": "code",
      "execution_count": 65,
      "metadata": {},
      "outputs": [
        {
          "data": {
            "text/html": [
              "<span style=\"white-space:pre; font-family: monospace\">2.71828 1 20.0855 0.367879\n",
              "</span>"
            ]
          },
          "execution_count": 65,
          "metadata": {},
          "output_type": "execute_result"
        }
      ],
      "source": [
        "* 1 0 3 \u00af1"
      ]
    },
    {
      "cell_type": "markdown",
      "metadata": {},
      "source": [
        "(Some-Primitive-Functions-Floor-and-Ceiling)=\n",
        "#### Floor and Ceiling\n",
        "\n",
        "_Floor_ (`\u230a`) rounds its argument down, while _ceiling_ (`\u2308`) rounds its argument up, to the nearest smaller or larger integer value, respectively:"
      ]
    },
    {
      "cell_type": "code",
      "execution_count": 3,
      "metadata": {},
      "outputs": [
        {
          "data": {
            "text/html": [
              "<span style=\"white-space:pre; font-family: monospace\">51 48 0 12 \u00af74 \u00af10\n",
              "</span>"
            ]
          },
          "execution_count": 3,
          "metadata": {},
          "output_type": "execute_result"
        }
      ],
      "source": [
        "v \u2190 51.384 48.962 0 12.5 \u00af73.27 \u00af9.99\n",
        "\u230av"
      ]
    },
    {
      "cell_type": "code",
      "execution_count": 4,
      "metadata": {},
      "outputs": [
        {
          "data": {
            "text/html": [
              "<span style=\"white-space:pre; font-family: monospace\">52 49 0 13 \u00af73 \u00af9\n",
              "</span>"
            ]
          },
          "execution_count": 4,
          "metadata": {},
          "output_type": "execute_result"
        }
      ],
      "source": [
        "\u2308v"
      ]
    },
    {
      "cell_type": "markdown",
      "metadata": {},
      "source": [
        "To round a value to the nearest integer a commonly used method is to add 0.5 and then take the _floor_, or alternatively, to subtract 0.5 and take the _ceiling_, as shown here:"
      ]
    },
    {
      "cell_type": "code",
      "execution_count": 19,
      "metadata": {},
      "outputs": [
        {
          "data": {
            "text/html": [
              "<span style=\"white-space:pre; font-family: monospace\">51 49 0 13 \u00af73 \u00af10\n",
              "</span>"
            ]
          },
          "execution_count": 19,
          "metadata": {},
          "output_type": "execute_result"
        }
      ],
      "source": [
        "\u230av+0.5"
      ]
    },
    {
      "cell_type": "code",
      "execution_count": 18,
      "metadata": {},
      "outputs": [
        {
          "data": {
            "text/html": [
              "<span style=\"white-space:pre; font-family: monospace\">51 49 0 12 \u00af73 \u00af10\n",
              "</span>"
            ]
          },
          "execution_count": 18,
          "metadata": {},
          "output_type": "execute_result"
        }
      ],
      "source": [
        "\u2308v-0.5"
      ]
    },
    {
      "cell_type": "markdown",
      "metadata": {},
      "source": [
        "The results are the same, except when the decimal part of a number is 0.5. For example, 12.5 above gets rounded to 13 or 12 depending on which method is used."
      ]
    },
    {
      "cell_type": "markdown",
      "metadata": {},
      "source": [
        "(Some-Primitive-Functions-Left-and-Right-Tacks)=\n",
        "## Left and Right Tacks\n",
        "\n",
        "(Some-Primitive-Functions-Same)=\n",
        "### Same\n",
        "\n",
        "APL also includes two primitive functions whose monadic name is equal: _same_. These two primitives are the _right tack_ (`\u22a2`) and the _left tack_ (`\u22a3`), obtained respectively with <kbd>APL</kbd>+<kbd>\\\\</kbd> and <kbd>APL</kbd>+<kbd>Shift</kbd>+<kbd>\\\\</kbd>.\n",
        "\n",
        "Their monadic name is \"_same_\" because they act as true identity functions, returning their argument completely unchanged:"
      ]
    },
    {
      "cell_type": "code",
      "execution_count": 82,
      "metadata": {},
      "outputs": [
        {
          "data": {
            "text/html": [
              "<span style=\"white-space:pre; font-family: monospace\">1 2 3\n",
              "</span>"
            ]
          },
          "execution_count": 82,
          "metadata": {},
          "output_type": "execute_result"
        }
      ],
      "source": [
        "\u22a2 1 2 3"
      ]
    },
    {
      "cell_type": "code",
      "execution_count": 83,
      "metadata": {},
      "outputs": [
        {
          "data": {
            "text/html": [
              "<span style=\"white-space:pre; font-family: monospace\">Banana\n",
              "</span>"
            ]
          },
          "execution_count": 83,
          "metadata": {},
          "output_type": "execute_result"
        }
      ],
      "source": [
        "\u22a2 'Banana'"
      ]
    },
    {
      "cell_type": "code",
      "execution_count": 84,
      "metadata": {
        "scrolled": true
      },
      "outputs": [
        {
          "data": {
            "text/html": [
              "<span style=\"white-space:pre; font-family: monospace\">\u250c\u2500\u2500\u2500\u252c\u2500\u252c\u2500\u2500\u2500\u2500\u2500\u2500\u2500\u2500\u2500\u252c\u2500\u2500\u2500\u2500\u2500\u2500\u2500\u2500\u2500\u2500\u2500\u2500\u2500\u2500\u2500\u2500\u2500\u2510\n",
              "\u2502Bag\u25023\u2502\u250c\u2500\u252c\u2500\u252c\u2500\u2500\u2500\u2510\u2502\u250c\u2500\u2500\u2500\u252c\u2500\u2500\u2500\u2500\u2500\u2500\u2500\u252c\u2500\u2500\u2500\u2510\u2502\n",
              "\u2502   \u2502 \u2502\u25021\u25022\u2502Bag\u2502\u2502\u2502Bag\u2502\u250c\u2500\u2500\u2500\u252c\u2500\u2510\u25021 2\u2502\u2502\n",
              "\u2502   \u2502 \u2502\u2514\u2500\u2534\u2500\u2534\u2500\u2500\u2500\u2518\u2502\u2502   \u2502\u2502Bag\u25023\u2502\u25023 4\u2502\u2502\n",
              "\u2502   \u2502 \u2502         \u2502\u2502   \u2502\u2514\u2500\u2500\u2500\u2534\u2500\u2518\u2502   \u2502\u2502\n",
              "\u2502   \u2502 \u2502         \u2502\u2514\u2500\u2500\u2500\u2534\u2500\u2500\u2500\u2500\u2500\u2500\u2500\u2534\u2500\u2500\u2500\u2518\u2502\n",
              "\u2514\u2500\u2500\u2500\u2534\u2500\u2534\u2500\u2500\u2500\u2500\u2500\u2500\u2500\u2500\u2500\u2534\u2500\u2500\u2500\u2500\u2500\u2500\u2500\u2500\u2500\u2500\u2500\u2500\u2500\u2500\u2500\u2500\u2500\u2518\n",
              "</span>"
            ]
          },
          "execution_count": 84,
          "metadata": {},
          "output_type": "execute_result"
        }
      ],
      "source": [
        "\u22a2 'Bag' 3 (1 2 'Bag') ('Bag' ('Bag' 3) (2 2\u23741 2 3 4))"
      ]
    },
    {
      "cell_type": "markdown",
      "metadata": {},
      "source": [
        "Exactly the same thing happens (i.e. nothing happens) if you replace all the `\u22a2` above with `\u22a3`, for example:"
      ]
    },
    {
      "cell_type": "code",
      "execution_count": 85,
      "metadata": {
        "scrolled": true
      },
      "outputs": [
        {
          "data": {
            "text/html": [
              "<span style=\"white-space:pre; font-family: monospace\">\u250c\u2500\u2500\u2500\u252c\u2500\u252c\u2500\u2500\u2500\u2500\u2500\u2500\u2500\u2500\u2500\u252c\u2500\u2500\u2500\u2500\u2500\u2500\u2500\u2500\u2500\u2500\u2500\u2500\u2500\u2500\u2500\u2500\u2500\u2510\n",
              "\u2502Bag\u25023\u2502\u250c\u2500\u252c\u2500\u252c\u2500\u2500\u2500\u2510\u2502\u250c\u2500\u2500\u2500\u252c\u2500\u2500\u2500\u2500\u2500\u2500\u2500\u252c\u2500\u2500\u2500\u2510\u2502\n",
              "\u2502   \u2502 \u2502\u25021\u25022\u2502Bag\u2502\u2502\u2502Bag\u2502\u250c\u2500\u2500\u2500\u252c\u2500\u2510\u25021 2\u2502\u2502\n",
              "\u2502   \u2502 \u2502\u2514\u2500\u2534\u2500\u2534\u2500\u2500\u2500\u2518\u2502\u2502   \u2502\u2502Bag\u25023\u2502\u25023 4\u2502\u2502\n",
              "\u2502   \u2502 \u2502         \u2502\u2502   \u2502\u2514\u2500\u2500\u2500\u2534\u2500\u2518\u2502   \u2502\u2502\n",
              "\u2502   \u2502 \u2502         \u2502\u2514\u2500\u2500\u2500\u2534\u2500\u2500\u2500\u2500\u2500\u2500\u2500\u2534\u2500\u2500\u2500\u2518\u2502\n",
              "\u2514\u2500\u2500\u2500\u2534\u2500\u2534\u2500\u2500\u2500\u2500\u2500\u2500\u2500\u2500\u2500\u2534\u2500\u2500\u2500\u2500\u2500\u2500\u2500\u2500\u2500\u2500\u2500\u2500\u2500\u2500\u2500\u2500\u2500\u2518\n",
              "</span>"
            ]
          },
          "execution_count": 85,
          "metadata": {},
          "output_type": "execute_result"
        }
      ],
      "source": [
        "\u22a3 'Bag' 3 (1 2 'Bag') ('Bag' ('Bag' 3) (2 2\u23741 2 3 4))"
      ]
    },
    {
      "cell_type": "markdown",
      "metadata": {},
      "source": [
        "These two functions may look useless, but they are not. For one, a neat little trick we can do with them is to display a value of a variable that we just assigned; for example, compare the two code cells below:"
      ]
    },
    {
      "cell_type": "code",
      "execution_count": 66,
      "metadata": {},
      "outputs": [],
      "source": [
        "matrix \u2190 2 3\u23741 2 3 4 5 6        \u235d Nothing gets displayed explicitly"
      ]
    },
    {
      "cell_type": "code",
      "execution_count": 67,
      "metadata": {},
      "outputs": [
        {
          "data": {
            "text/html": [
              "<span style=\"white-space:pre; font-family: monospace\">1 2 3\n",
              "4 5 6\n",
              "</span>"
            ]
          },
          "execution_count": 67,
          "metadata": {},
          "output_type": "execute_result"
        }
      ],
      "source": [
        "\u22a2matrix\u2190 2 3\u23741 2 3 4 5 6        \u235d The value of matrix is displayed "
      ]
    },
    {
      "cell_type": "code",
      "execution_count": 68,
      "metadata": {},
      "outputs": [
        {
          "data": {
            "text/html": [
              "<span style=\"white-space:pre; font-family: monospace\">1 2 3\n",
              "4 5 6\n",
              "</span>"
            ]
          },
          "execution_count": 68,
          "metadata": {},
          "output_type": "execute_result"
        }
      ],
      "source": [
        "\u22a3matrix\u2190 2 3\u23741 2 3 4 5 6        \u235d The value of matrix is displayed"
      ]
    },
    {
      "cell_type": "markdown",
      "metadata": {},
      "source": [
        "These functions become even more useful combined with the power of [operators](./Operators.ipynb) or tacit programming (explained in detail in future chapters), or if we take a look at their dyadic usages (explained next).\n",
        "<!-- (TODO) Link to tacit programming chapter/section. -->"
      ]
    },
    {
      "cell_type": "markdown",
      "metadata": {},
      "source": [
        "(Some-Primitive-Functions-Dyadic-Usage)=\n",
        "### Dyadic Usage\n",
        "\n",
        "The _left_ and _right tacks_ differ in their dyadic usage, of course, otherwise there would be no point in having two primitive functions that behaved in exactly the same manner.\n",
        "\n",
        "When used dyadically, the _left tack_ returns its left argument and the _right tack_ returns its right argument. If you ever forget which dyadic tack returns what, just remember that each tack returns the argument to which it is pointing:"
      ]
    },
    {
      "cell_type": "code",
      "execution_count": 89,
      "metadata": {},
      "outputs": [
        {
          "data": {
            "text/html": [
              "<span style=\"white-space:pre; font-family: monospace\">1 2 3\n",
              "</span>"
            ]
          },
          "execution_count": 89,
          "metadata": {},
          "output_type": "execute_result"
        }
      ],
      "source": [
        "1 2 3 \u22a3 'Bananas'"
      ]
    },
    {
      "cell_type": "code",
      "execution_count": 90,
      "metadata": {
        "scrolled": true
      },
      "outputs": [
        {
          "data": {
            "text/html": [
              "<span style=\"white-space:pre; font-family: monospace\">Bananas\n",
              "</span>"
            ]
          },
          "execution_count": 90,
          "metadata": {},
          "output_type": "execute_result"
        }
      ],
      "source": [
        "1 2 3 \u22a2 'Bananas'"
      ]
    },
    {
      "cell_type": "markdown",
      "metadata": {},
      "source": [
        "(Some-Primitive-Functions-Processing-Binary-Data)=\n",
        "## Processing Binary Data\n",
        "\n",
        "```{admonition} Remark \n",
        ":class: tip\n",
        "Binary values are most often produced by the comparison functions that we have already seen. However, the result of *any* function (such as addition or subtraction) which is composed only of 1s and 0s can be used as a binary (or Boolean) value, and may be used as an argument to any of the special primitive functions that apply to Boolean values.\n",
        "```\n",
        "\n",
        "Among the various ways of producing binary results, _membership_ appears to be one of the most interesting tools."
      ]
    },
    {
      "cell_type": "markdown",
      "metadata": {},
      "source": [
        "(Some-Primitive-Functions-Membership)=\n",
        "### Membership\n",
        "\n",
        " - _Membership_ tells whether the items of its left argument are present (`1`) or not (`0`) in the right argument, regardless of their position in it;\n",
        " - it accepts arguments of any shape or type; and\n",
        " - the result produced always has the same shape as the **left** argument.\n",
        " \n",
        "Some examples will help you understand the function:"
      ]
    },
    {
      "cell_type": "code",
      "execution_count": 69,
      "metadata": {},
      "outputs": [
        {
          "data": {
            "text/html": [
              "<span style=\"white-space:pre; font-family: monospace\">1 0 0 1\n",
              "</span>"
            ]
          },
          "execution_count": 69,
          "metadata": {},
          "output_type": "execute_result"
        }
      ],
      "source": [
        "23 14 41 19 \u220a 17 88 19 50 51 52 23 40"
      ]
    },
    {
      "cell_type": "markdown",
      "metadata": {},
      "source": [
        "This means that 23 and 19 appear somewhere in the rightmost vector, whereas 14 and 41 do not. The left argument has 4 items, and so has the result.\n",
        "\n",
        "The function _membership_ can operate on arguments of completely different shape. For example, it is possible to detect the presence of each item of a vector in a matrix, or vice versa.\n",
        "\n",
        "In an earlier chapter we used a matrix containing the first six months of the year:"
      ]
    },
    {
      "cell_type": "code",
      "execution_count": 70,
      "metadata": {},
      "outputs": [
        {
          "data": {
            "text/html": [
              "<span style=\"white-space:pre; font-family: monospace\">January \n",
              "February\n",
              "March   \n",
              "April   \n",
              "May     \n",
              "June    \n",
              "</span>"
            ]
          },
          "execution_count": 70,
          "metadata": {},
          "output_type": "execute_result"
        }
      ],
      "source": [
        "\u22a2monMat \u2190 6 8\u2374'January FebruaryMarch   April   May     June    '"
      ]
    },
    {
      "cell_type": "markdown",
      "metadata": {},
      "source": [
        "We can ask if certain letters are present in this matrix:"
      ]
    },
    {
      "cell_type": "code",
      "execution_count": 71,
      "metadata": {},
      "outputs": [
        {
          "data": {
            "text/html": [
              "<span style=\"white-space:pre; font-family: monospace\">0 1 1 1 0 1 1 1\n",
              "</span>"
            ]
          },
          "execution_count": 71,
          "metadata": {},
          "output_type": "execute_result"
        }
      ],
      "source": [
        "'December' \u220a monMat"
      ]
    },
    {
      "cell_type": "markdown",
      "metadata": {},
      "source": [
        "The result shows that all letters of the word \"December\" appear in `monMat`, except \"D\" and lowercase \"m\" (which should not be confused with the uppercase \"M\" of March and May).\n",
        "\n",
        "In this case we used a vector left argument and a matrix right argument. Let's try it the other way around. The following expression tells us which letters in the matrix `monMat` appear in the word \"Century\":"
      ]
    },
    {
      "cell_type": "code",
      "execution_count": 72,
      "metadata": {},
      "outputs": [
        {
          "data": {
            "text/html": [
              "<span style=\"white-space:pre; font-family: monospace\">0 0 1 1 0 1 1 0\n",
              "0 1 0 1 1 0 1 1\n",
              "0 0 1 0 0 0 0 0\n",
              "0 0 1 0 0 0 0 0\n",
              "0 0 1 0 0 0 0 0\n",
              "0 1 1 1 0 0 0 0\n",
              "</span>"
            ]
          },
          "execution_count": 72,
          "metadata": {},
          "output_type": "execute_result"
        }
      ],
      "source": [
        "monMat \u220a 'Century'"
      ]
    },
    {
      "cell_type": "markdown",
      "metadata": {},
      "source": [
        "As you might imagine, any comparison between numbers and letters gives zero:"
      ]
    },
    {
      "cell_type": "code",
      "execution_count": 73,
      "metadata": {},
      "outputs": [
        {
          "data": {
            "text/html": [
              "<span style=\"white-space:pre; font-family: monospace\">0\n",
              "</span>"
            ]
          },
          "execution_count": 73,
          "metadata": {},
          "output_type": "execute_result"
        }
      ],
      "source": [
        "1952 \u220a '1952'"
      ]
    },
    {
      "cell_type": "code",
      "execution_count": 74,
      "metadata": {},
      "outputs": [
        {
          "data": {
            "text/html": [
              "<span style=\"white-space:pre; font-family: monospace\">0 0 0 0\n",
              "</span>"
            ]
          },
          "execution_count": 74,
          "metadata": {},
          "output_type": "execute_result"
        }
      ],
      "source": [
        "'1952' \u220a 1952"
      ]
    },
    {
      "cell_type": "markdown",
      "metadata": {},
      "source": [
        "Remember that `'1952'` is a vector of four characters, none of which can be found in the number 1952.\n",
        "\n",
        "We **recommend** that you do exercise 25 to further explore _membership_."
      ]
    },
    {
      "cell_type": "markdown",
      "metadata": {},
      "source": [
        "(Some-Primitive-Functions-Binary-Algebra)=\n",
        "### Binary Algebra\n",
        "\n",
        "Binary values can be processed using half a dozen specialised primitive functions, the main ones being _and_, _or_, _xor_, and _not_. Additional functions will be described in {numref}`Some-Primitive-Functions-The-Specialists-Section`.\n",
        "\n",
        "The function _and_ is represented by the symbol `\u2227` (<kbd>APL</kbd>+<kbd>0</kbd>), as it is in mathematics. It returns the result 1 if the left _and_ the right arguments are both equal to 1:"
      ]
    },
    {
      "cell_type": "code",
      "execution_count": 97,
      "metadata": {},
      "outputs": [
        {
          "data": {
            "text/html": [
              "<span style=\"white-space:pre; font-family: monospace\">0\n",
              "</span>"
            ]
          },
          "execution_count": 97,
          "metadata": {},
          "output_type": "execute_result"
        }
      ],
      "source": [
        "0 \u2227 0"
      ]
    },
    {
      "cell_type": "code",
      "execution_count": 98,
      "metadata": {},
      "outputs": [
        {
          "data": {
            "text/html": [
              "<span style=\"white-space:pre; font-family: monospace\">0\n",
              "</span>"
            ]
          },
          "execution_count": 98,
          "metadata": {},
          "output_type": "execute_result"
        }
      ],
      "source": [
        "0 \u2227 1"
      ]
    },
    {
      "cell_type": "code",
      "execution_count": 99,
      "metadata": {},
      "outputs": [
        {
          "data": {
            "text/html": [
              "<span style=\"white-space:pre; font-family: monospace\">0\n",
              "</span>"
            ]
          },
          "execution_count": 99,
          "metadata": {},
          "output_type": "execute_result"
        }
      ],
      "source": [
        "1 \u2227 0"
      ]
    },
    {
      "cell_type": "code",
      "execution_count": 100,
      "metadata": {},
      "outputs": [
        {
          "data": {
            "text/html": [
              "<span style=\"white-space:pre; font-family: monospace\">1\n",
              "</span>"
            ]
          },
          "execution_count": 100,
          "metadata": {},
          "output_type": "execute_result"
        }
      ],
      "source": [
        "1 \u2227 1"
      ]
    },
    {
      "cell_type": "markdown",
      "metadata": {},
      "source": [
        "We can condense the four expressions above into a single one, given that `\u2227` is also a scalar function:"
      ]
    },
    {
      "cell_type": "code",
      "execution_count": 101,
      "metadata": {},
      "outputs": [
        {
          "data": {
            "text/html": [
              "<span style=\"white-space:pre; font-family: monospace\">0 0 0 1\n",
              "</span>"
            ]
          },
          "execution_count": 101,
          "metadata": {},
          "output_type": "execute_result"
        }
      ],
      "source": [
        "0 0 1 1 \u2227 0 1 0 1"
      ]
    },
    {
      "cell_type": "markdown",
      "metadata": {},
      "source": [
        "The function _or_ is represented by the symbol `\u2228` (<kbd>APL</kbd>+<kbd>9</kbd>), as it is in mathematics. It returns the result 1 if the left _or_ right argument is equal to 1.\n",
        "\n",
        "The four possible cases are shown in the following expression:"
      ]
    },
    {
      "cell_type": "code",
      "execution_count": 102,
      "metadata": {},
      "outputs": [
        {
          "data": {
            "text/html": [
              "<span style=\"white-space:pre; font-family: monospace\">0 1 1 1\n",
              "</span>"
            ]
          },
          "execution_count": 102,
          "metadata": {},
          "output_type": "execute_result"
        }
      ],
      "source": [
        "0 0 1 1 \u2228 0 1 0 1"
      ]
    },
    {
      "cell_type": "markdown",
      "metadata": {},
      "source": [
        "_Xor_ is an acronym for _eXclusive Or_. It returns the result 1 if one of the arguments is equal to 1, but not if both are equal to 1.\n",
        "\n",
        "In automation, the same function is generally represented by a circled _plus_ sign, like $\\oplus$.\n",
        "\n",
        "APL does not need a different symbol for the function, because _xor_ is the same as one of the comparison functions we have already met: `\u2260`"
      ]
    },
    {
      "cell_type": "code",
      "execution_count": 103,
      "metadata": {},
      "outputs": [
        {
          "data": {
            "text/html": [
              "<span style=\"white-space:pre; font-family: monospace\">0 1 1 0\n",
              "</span>"
            ]
          },
          "execution_count": 103,
          "metadata": {},
          "output_type": "execute_result"
        }
      ],
      "source": [
        "0 0 1 1 \u2260 0 1 0 1"
      ]
    },
    {
      "cell_type": "markdown",
      "metadata": {},
      "source": [
        "The last function is the monadic function _not_. Represented by the _tilde_ `~` (<kbd>APL</kbd>+<kbd>t</kbd>), it converts 0 into 1 and 1 into 0:"
      ]
    },
    {
      "cell_type": "code",
      "execution_count": 104,
      "metadata": {},
      "outputs": [
        {
          "data": {
            "text/html": [
              "<span style=\"white-space:pre; font-family: monospace\">1 0 1 1 1 0 0\n",
              "</span>"
            ]
          },
          "execution_count": 104,
          "metadata": {},
          "output_type": "execute_result"
        }
      ],
      "source": [
        "~ 0 1 0 0 0 1 1"
      ]
    },
    {
      "cell_type": "markdown",
      "metadata": {},
      "source": [
        "```{admonition} Remark \n",
        ":class: tip\n",
        "- _And_, _or_, and _xor_ are scalar dyadic functions;\n",
        "- _Not_ is a scalar monadic function; and\n",
        "- _Membership_ is a dyadic function, but it is not a scalar function.\n",
        "```\n",
        "\n",
        "All these functions can be applied to binary data of any shape. For example, let us see if any of those items of `forecast`, which are greater than 350 thousand euros, have been exceeded by `actual` sales:"
      ]
    },
    {
      "cell_type": "code",
      "execution_count": 26,
      "metadata": {},
      "outputs": [
        {
          "data": {
            "text/html": [
              "<span style=\"white-space:pre; font-family: monospace\">0 0 0 1 0 0\n",
              "0 1 0 0 0 0\n",
              "0 0 0 0 1 1\n",
              "0 1 0 0 0 0\n",
              "</span>"
            ]
          },
          "execution_count": 26,
          "metadata": {},
          "output_type": "execute_result"
        }
      ],
      "source": [
        "\u22a2bin \u2190 (forecast>350) \u2227 (actual>forecast)"
      ]
    },
    {
      "cell_type": "markdown",
      "metadata": {},
      "source": [
        "A side note: the parentheses around the rightmost expression `(actual>forecast)` are not strictly needed. However, they do no harm either, so we have added them here to help you read the expression, since you may not yet be fully familiar with APL's order of evaluation."
      ]
    },
    {
      "cell_type": "markdown",
      "metadata": {},
      "source": [
        "(Some-Primitive-Functions-Without)=\n",
        "### Without\n",
        "\n",
        "Given a vector `X` and any array `Y`, the expression `X~Y` returns a vector equal to `X`, but in which all items of `Y` have been removed. The size and shape of `Y` is immaterial, only the individual items of `Y` are used.\n",
        "\n",
        "This function is called _without_."
      ]
    },
    {
      "cell_type": "code",
      "execution_count": 81,
      "metadata": {},
      "outputs": [
        {
          "data": {
            "text/html": [
              "<span style=\"white-space:pre; font-family: monospace\">TsWtswm\n",
              "</span>"
            ]
          },
          "execution_count": 81,
          "metadata": {},
          "output_type": "execute_result"
        }
      ],
      "source": [
        "'This Winter is warm' ~ monMat"
      ]
    },
    {
      "cell_type": "markdown",
      "metadata": {},
      "source": [
        "Notice how the right argument above (`monMat`) is a matrix."
      ]
    },
    {
      "cell_type": "code",
      "execution_count": 82,
      "metadata": {},
      "outputs": [
        {
          "data": {
            "text/html": [
              "<span style=\"white-space:pre; font-family: monospace\">Cgatulatis\n",
              "</span>"
            ]
          },
          "execution_count": 82,
          "metadata": {},
          "output_type": "execute_result"
        }
      ],
      "source": [
        "'Congratulations' ~ 'ceremony'"
      ]
    },
    {
      "cell_type": "markdown",
      "metadata": {},
      "source": [
        "The uppercase \"C\" is preserved here because it is different from the lowercase \"c\"."
      ]
    },
    {
      "cell_type": "code",
      "execution_count": 83,
      "metadata": {},
      "outputs": [
        {
          "data": {
            "text/html": [
              "<span style=\"white-space:pre; font-family: monospace\">1 2 3\n",
              "4 5 6\n",
              "</span>"
            ]
          },
          "execution_count": 83,
          "metadata": {},
          "output_type": "execute_result"
        }
      ],
      "source": [
        "matrix"
      ]
    },
    {
      "cell_type": "code",
      "execution_count": 84,
      "metadata": {},
      "outputs": [
        {
          "data": {
            "text/html": [
              "<span style=\"white-space:pre; font-family: monospace\">0 8 10 12\n",
              "</span>"
            ]
          },
          "execution_count": 84,
          "metadata": {},
          "output_type": "execute_result"
        }
      ],
      "source": [
        "0 2 4 6 8 10 12 ~ matrix"
      ]
    },
    {
      "cell_type": "markdown",
      "metadata": {},
      "source": [
        "Of course, it also works on numbers."
      ]
    },
    {
      "cell_type": "markdown",
      "metadata": {},
      "source": [
        "(Some-Primitive-Functions-Processing-Nested-Arrays)=\n",
        "## Processing Nested Arrays\n",
        "\n",
        "When working with nested arrays, it is important to recognise whether or not you are using a scalar function."
      ]
    },
    {
      "cell_type": "markdown",
      "metadata": {},
      "source": [
        "(Some-Primitive-Functions-Scalar-vs-Non-scalar-Functions)=\n",
        "### Scalar vs. Non-scalar Functions\n",
        "\n",
        "In {numref}`Data-and-Variables-Data-and-Variables`, we set up a nested vector `children`, which is composed only of numeric items:"
      ]
    },
    {
      "cell_type": "code",
      "execution_count": 86,
      "metadata": {},
      "outputs": [
        {
          "data": {
            "text/html": [
              "<span style=\"white-space:pre; font-family: monospace\">C:\\Program Files\\Dyalog\\Dyalog APL-64 18.0 Unicode\\ws\\DISPLAY.dws saved Tue Dec  1 20:08:12 2020\n",
              "</span>"
            ]
          },
          "execution_count": 86,
          "metadata": {},
          "output_type": "execute_result"
        },
        {
          "data": {
            "text/html": [
              "<span style=\"white-space:pre; font-family: monospace\">\u250c\u2192\u2500\u2500\u2500\u2500\u2500\u2500\u2500\u2500\u2500\u2500\u2500\u2500\u2500\u2500\u2500\u2500\u2500\u2500\u2500\u2500\u2500\u2500\u2500\u2500\u2500\u2500\u2500\u2500\u2500\u2500\u2500\u2500\u2500\u2500\u2500\u2500\u2510\n",
              "\u2502 \u250c\u2192\u2500\u2500\u2510 \u250c\u2192\u2500\u2500\u2500\u2500\u2500\u2500\u2500\u2500\u2500\u2500\u2510 \u250c\u2192\u2500\u2500\u2510   \u250c\u2192\u2500\u2500\u2500\u2500\u2510 \u2502\n",
              "\u2502 \u25026 2\u2502 \u250235 33 26 21\u2502 \u25027 7\u2502 3 \u250219 14\u2502 \u2502\n",
              "\u2502 \u2514~\u2500\u2500\u2518 \u2514~\u2500\u2500\u2500\u2500\u2500\u2500\u2500\u2500\u2500\u2500\u2518 \u2514~\u2500\u2500\u2518   \u2514~\u2500\u2500\u2500\u2500\u2518 \u2502\n",
              "\u2514\u220a\u2500\u2500\u2500\u2500\u2500\u2500\u2500\u2500\u2500\u2500\u2500\u2500\u2500\u2500\u2500\u2500\u2500\u2500\u2500\u2500\u2500\u2500\u2500\u2500\u2500\u2500\u2500\u2500\u2500\u2500\u2500\u2500\u2500\u2500\u2500\u2500\u2518\n",
              "</span>"
            ]
          },
          "execution_count": 86,
          "metadata": {},
          "output_type": "execute_result"
        }
      ],
      "source": [
        ")copy DISPLAY\n",
        "children \u2190 (6 2) (35 33 26 21) (7 7) 3 (19 14)\n",
        "DISPLAY children"
      ]
    },
    {
      "cell_type": "markdown",
      "metadata": {},
      "source": [
        "The application of scalar functions is straightforward.\n",
        "\n",
        "For example, when we add 50 to `children`, the value 50 is added to each of the items of `children`. As these items are themselves scalars or vectors, adding 50 means adding 50 to each of *their* individual items. This process continues through all levels of nesting, ensuring that 50 gets added to all the individual items of `children`. The result is therefore structurally identical to `children`:"
      ]
    },
    {
      "cell_type": "code",
      "execution_count": 87,
      "metadata": {},
      "outputs": [
        {
          "data": {
            "text/html": [
              "<span style=\"white-space:pre; font-family: monospace\">\u250c\u2192\u2500\u2500\u2500\u2500\u2500\u2500\u2500\u2500\u2500\u2500\u2500\u2500\u2500\u2500\u2500\u2500\u2500\u2500\u2500\u2500\u2500\u2500\u2500\u2500\u2500\u2500\u2500\u2500\u2500\u2500\u2500\u2500\u2500\u2500\u2500\u2500\u2500\u2500\u2500\u2500\u2500\u2510\n",
              "\u2502 \u250c\u2192\u2500\u2500\u2500\u2500\u2510 \u250c\u2192\u2500\u2500\u2500\u2500\u2500\u2500\u2500\u2500\u2500\u2500\u2510 \u250c\u2192\u2500\u2500\u2500\u2500\u2510    \u250c\u2192\u2500\u2500\u2500\u2500\u2510 \u2502\n",
              "\u2502 \u250256 52\u2502 \u250285 83 76 71\u2502 \u250257 57\u2502 53 \u250269 64\u2502 \u2502\n",
              "\u2502 \u2514~\u2500\u2500\u2500\u2500\u2518 \u2514~\u2500\u2500\u2500\u2500\u2500\u2500\u2500\u2500\u2500\u2500\u2518 \u2514~\u2500\u2500\u2500\u2500\u2518    \u2514~\u2500\u2500\u2500\u2500\u2518 \u2502\n",
              "\u2514\u220a\u2500\u2500\u2500\u2500\u2500\u2500\u2500\u2500\u2500\u2500\u2500\u2500\u2500\u2500\u2500\u2500\u2500\u2500\u2500\u2500\u2500\u2500\u2500\u2500\u2500\u2500\u2500\u2500\u2500\u2500\u2500\u2500\u2500\u2500\u2500\u2500\u2500\u2500\u2500\u2500\u2500\u2518\n",
              "</span>"
            ]
          },
          "execution_count": 87,
          "metadata": {},
          "output_type": "execute_result"
        }
      ],
      "source": [
        "DISPLAY children + 50"
      ]
    },
    {
      "cell_type": "markdown",
      "metadata": {},
      "source": [
        "One way of expressing this behaviour is to say that the scalar functions (both the dyadic and monadic ones) permeate down through the structure of nested arrays, until they reach the lowest-level items, and then apply themselves at this level. They are said to be _pervasive_ functions.\n",
        "\n",
        "Non-scalar functions, like _membership_, are not pervasive."
      ]
    },
    {
      "cell_type": "code",
      "execution_count": 88,
      "metadata": {},
      "outputs": [
        {
          "data": {
            "text/html": [
              "<span style=\"white-space:pre; font-family: monospace\">0 1 1 0\n",
              "</span>"
            ]
          },
          "execution_count": 88,
          "metadata": {},
          "output_type": "execute_result"
        }
      ],
      "source": [
        "what \u2190 19 (6 2) 3 (33 26)\n",
        "what \u220a children"
      ]
    },
    {
      "cell_type": "markdown",
      "metadata": {},
      "source": [
        "The item `(6 2)` of `what` is also an item of `children`, hence _membership_ gives the answer 1, and the same is true for the value 3.\n",
        "\n",
        "In contrast, 19 is only an item of the fifth item of `children`, it is not an *entire* item of `children`. Because a non-pervasive function processes each item as a whole, `19` is not the same as `(19 14)`, so the answer is 0. The same goes for `(33 26)`, which is only part of the second item of `children`."
      ]
    },
    {
      "cell_type": "markdown",
      "metadata": {},
      "source": [
        "(Some-Primitive-Functions-Be-Careful-With-ShapeType-Compatibility)=\n",
        "### Be Careful With Shape/Type Compatibility\n",
        "\n",
        "It is easy to add a vector of five scalar items to `children`, because each of the five scalars can be added to the corresponding item of `children`:"
      ]
    },
    {
      "cell_type": "code",
      "execution_count": 34,
      "metadata": {},
      "outputs": [
        {
          "data": {
            "text/html": [
              "<span style=\"white-space:pre; font-family: monospace\">\u250c\u2500\u2500\u2500\u2500\u2500\u252c\u2500\u2500\u2500\u2500\u2500\u2500\u2500\u2500\u2500\u2500\u2500\u252c\u2500\u2500\u2500\u2500\u2500\u252c\u2500\u2500\u252c\u2500\u2500\u2500\u2500\u2500\u2510\n",
              "\u250216 12\u250255 53 46 41\u250237 37\u250243\u250269 64\u2502\n",
              "\u2514\u2500\u2500\u2500\u2500\u2500\u2534\u2500\u2500\u2500\u2500\u2500\u2500\u2500\u2500\u2500\u2500\u2500\u2534\u2500\u2500\u2500\u2500\u2500\u2534\u2500\u2500\u2534\u2500\u2500\u2500\u2500\u2500\u2518\n",
              "</span>"
            ]
          },
          "execution_count": 34,
          "metadata": {},
          "output_type": "execute_result"
        }
      ],
      "source": [
        "children + 10 20 30 40 50"
      ]
    },
    {
      "cell_type": "markdown",
      "metadata": {},
      "source": [
        "But if we try to add a vector of five sub-vectors to `children`, we must ensure that the shape of each sub-vector is compatible with the shape of the corresponding item of `children`, for example"
      ]
    },
    {
      "cell_type": "code",
      "execution_count": 35,
      "metadata": {},
      "outputs": [
        {
          "data": {
            "text/html": [
              "<span style=\"white-space:pre; font-family: monospace\">\u250c\u2500\u2500\u2500\u2500\u2500\u252c\u2500\u2500\u2500\u2500\u2500\u2500\u2500\u2500\u2500\u2500\u2500\u252c\u2500\u2500\u2500\u252c\u2500\u2500\u2500\u2500\u2500\u2500\u2500\u2500\u2500\u2500\u2500\u252c\u2500\u2500\u2500\u2500\u2500\u2510\n",
              "\u250210 10\u250240 40 30 30\u25028 6\u2502103 203 503\u250233 65\u2502\n",
              "\u2514\u2500\u2500\u2500\u2500\u2500\u2534\u2500\u2500\u2500\u2500\u2500\u2500\u2500\u2500\u2500\u2500\u2500\u2534\u2500\u2500\u2500\u2534\u2500\u2500\u2500\u2500\u2500\u2500\u2500\u2500\u2500\u2500\u2500\u2534\u2500\u2500\u2500\u2500\u2500\u2518\n",
              "</span>"
            ]
          },
          "execution_count": 35,
          "metadata": {},
          "output_type": "execute_result"
        }
      ],
      "source": [
        "children + (4 8) (5 7 4 9) (1 \u00af1) (100 200 500) (14 51)"
      ]
    },
    {
      "cell_type": "markdown",
      "metadata": {},
      "source": [
        "or"
      ]
    },
    {
      "cell_type": "code",
      "execution_count": 36,
      "metadata": {},
      "outputs": [
        {
          "data": {
            "text/html": [
              "<span style=\"white-space:pre; font-family: monospace\">\u250c\u2500\u2500\u2500\u2500\u2500\u252c\u2500\u2500\u2500\u2500\u2500\u2500\u2500\u2500\u2500\u2500\u2500\u252c\u2500\u2500\u2500\u252c\u2500\u2500\u2500\u2500\u2500\u2500\u2500\u2500\u2500\u2500\u2500\u252c\u2500\u2500\u2500\u2500\u2500\u2500\u2500\u2510\n",
              "\u250210 10\u250235 33 26 21\u25028 6\u2502103 203 503\u2502\u00af81 \u00af86\u2502\n",
              "\u2514\u2500\u2500\u2500\u2500\u2500\u2534\u2500\u2500\u2500\u2500\u2500\u2500\u2500\u2500\u2500\u2500\u2500\u2534\u2500\u2500\u2500\u2534\u2500\u2500\u2500\u2500\u2500\u2500\u2500\u2500\u2500\u2500\u2500\u2534\u2500\u2500\u2500\u2500\u2500\u2500\u2500\u2518\n",
              "</span>"
            ]
          },
          "execution_count": 36,
          "metadata": {},
          "output_type": "execute_result"
        }
      ],
      "source": [
        "children + (4 8) 0 (1 \u00af1) (100 200 500) \u00af100"
      ]
    },
    {
      "cell_type": "markdown",
      "metadata": {},
      "source": [
        "If there is any incompatibility, a `LENGTH ERROR` is issued:"
      ]
    },
    {
      "cell_type": "code",
      "execution_count": 37,
      "metadata": {},
      "outputs": [
        {
          "name": "stderr",
          "output_type": "stream",
          "text": [
            "LENGTH ERROR: Mismatched left and right argument shapes\n",
            "      children+(1 2)(2 3)(3 4)(4 5)(5 6)\n",
            "              \u2227\n"
          ]
        }
      ],
      "source": [
        "children + (1 2)(2 3)(3 4)(4 5)(5 6)"
      ]
    },
    {
      "cell_type": "markdown",
      "metadata": {},
      "source": [
        "All of the items of our vector could have been added to the corresponding items of `children` except the second one. APL has detected and signalled this error.\n",
        "\n",
        "You must also be careful if a nested or mixed array contains character data; it will not be possible to apply any arithmetic function to the array as a whole."
      ]
    },
    {
      "cell_type": "markdown",
      "metadata": {},
      "source": [
        "(Some-Primitive-Functions-Tally)=\n",
        "### Tally\n",
        "\n",
        "We have seen the dyadic functions _match_ `\u2261` and _not match_ `\u2262`, and now we will see how we can use their monadic versions to work with (nested) arrays.\n",
        "\n",
        "We mentioned _tally_ briefly in the first chapter, which is the monadic use of `\u2262`. _Tally_ does exactly what its name suggests: it _counts_ the amount of items an array has along its first dimension.\n",
        "\n",
        "For a vector, this corresponds to its length:"
      ]
    },
    {
      "cell_type": "code",
      "execution_count": 117,
      "metadata": {
        "scrolled": true
      },
      "outputs": [
        {
          "data": {
            "text/html": [
              "<span style=\"white-space:pre; font-family: monospace\">6\n",
              "</span>"
            ]
          },
          "execution_count": 117,
          "metadata": {},
          "output_type": "execute_result"
        }
      ],
      "source": [
        "\u2262 1 2 3 4 5 6"
      ]
    },
    {
      "cell_type": "code",
      "execution_count": 118,
      "metadata": {},
      "outputs": [
        {
          "data": {
            "text/html": [
              "<span style=\"white-space:pre; font-family: monospace\">2\n",
              "</span>"
            ]
          },
          "execution_count": 118,
          "metadata": {},
          "output_type": "execute_result"
        }
      ],
      "source": [
        "\u2262 'ui'"
      ]
    },
    {
      "cell_type": "markdown",
      "metadata": {},
      "source": [
        "A nested vector is still a vector:"
      ]
    },
    {
      "cell_type": "code",
      "execution_count": 119,
      "metadata": {},
      "outputs": [
        {
          "data": {
            "text/html": [
              "<span style=\"white-space:pre; font-family: monospace\">\u250c\u2500\u2500\u2500\u252c\u2500\u252c\u2500\u2500\u2500\u252c\u2500\u2500\u2500\u2500\u2500\u2500\u2500\u2500\u2500\u2500\u2500\u2510\n",
              "\u25024 5\u2502a\u2502Bag\u2502\u250c\u2500\u2500\u252c\u2500\u2500\u2500\u252c\u2500\u2500\u2510\u2502\n",
              "\u2502   \u2502 \u2502   \u2502\u250235\u2502Cat\u250242\u2502\u2502\n",
              "\u2502   \u2502 \u2502   \u2502\u2514\u2500\u2500\u2534\u2500\u2500\u2500\u2534\u2500\u2500\u2518\u2502\n",
              "\u2514\u2500\u2500\u2500\u2534\u2500\u2534\u2500\u2500\u2500\u2534\u2500\u2500\u2500\u2500\u2500\u2500\u2500\u2500\u2500\u2500\u2500\u2518\n",
              "</span>"
            ]
          },
          "execution_count": 119,
          "metadata": {},
          "output_type": "execute_result"
        }
      ],
      "source": [
        "(4 5) 'a' 'Bag' (35 'Cat' 42)"
      ]
    },
    {
      "cell_type": "code",
      "execution_count": 120,
      "metadata": {
        "scrolled": true
      },
      "outputs": [
        {
          "data": {
            "text/html": [
              "<span style=\"white-space:pre; font-family: monospace\">4\n",
              "</span>"
            ]
          },
          "execution_count": 120,
          "metadata": {},
          "output_type": "execute_result"
        }
      ],
      "source": [
        "\u2262 (4 5) 'a' 'Bag' (35 'Cat' 42)"
      ]
    },
    {
      "cell_type": "markdown",
      "metadata": {},
      "source": [
        "For higher dimensional arrays, _tally_ returns the size of its first dimension:"
      ]
    },
    {
      "cell_type": "code",
      "execution_count": 89,
      "metadata": {},
      "outputs": [
        {
          "data": {
            "text/html": [
              "<span style=\"white-space:pre; font-family: monospace\">3\n",
              "</span>"
            ]
          },
          "execution_count": 89,
          "metadata": {},
          "output_type": "execute_result"
        }
      ],
      "source": [
        "\u2262 3 3\u23749 8 7 6 5 4 3 2 1"
      ]
    },
    {
      "cell_type": "code",
      "execution_count": 90,
      "metadata": {
        "scrolled": true
      },
      "outputs": [
        {
          "data": {
            "text/html": [
              "<span style=\"white-space:pre; font-family: monospace\">2\n",
              "</span>"
            ]
          },
          "execution_count": 90,
          "metadata": {},
          "output_type": "execute_result"
        }
      ],
      "source": [
        "\u2262 2 5 27\u23740"
      ]
    },
    {
      "cell_type": "markdown",
      "metadata": {},
      "source": [
        "For scalars, _tally_ returns 1:"
      ]
    },
    {
      "cell_type": "code",
      "execution_count": 91,
      "metadata": {},
      "outputs": [
        {
          "data": {
            "text/html": [
              "<span style=\"white-space:pre; font-family: monospace\">1\n",
              "</span>"
            ]
          },
          "execution_count": 91,
          "metadata": {},
          "output_type": "execute_result"
        }
      ],
      "source": [
        "\u2262 3"
      ]
    },
    {
      "cell_type": "code",
      "execution_count": 92,
      "metadata": {},
      "outputs": [
        {
          "data": {
            "text/html": [
              "<span style=\"white-space:pre; font-family: monospace\">1\n",
              "</span>"
            ]
          },
          "execution_count": 92,
          "metadata": {},
          "output_type": "execute_result"
        }
      ],
      "source": [
        "\u2262 '3'"
      ]
    },
    {
      "cell_type": "markdown",
      "metadata": {},
      "source": [
        "In case you don't think it makes sense to have the tally of a scalar return 1, consider the sequence below:"
      ]
    },
    {
      "cell_type": "code",
      "execution_count": 93,
      "metadata": {},
      "outputs": [
        {
          "data": {
            "text/html": [
              "<span style=\"white-space:pre; font-family: monospace\">4\n",
              "</span>"
            ]
          },
          "execution_count": 93,
          "metadata": {},
          "output_type": "execute_result"
        }
      ],
      "source": [
        "\u2262 'abcd'"
      ]
    },
    {
      "cell_type": "code",
      "execution_count": 94,
      "metadata": {},
      "outputs": [
        {
          "data": {
            "text/html": [
              "<span style=\"white-space:pre; font-family: monospace\">3\n",
              "</span>"
            ]
          },
          "execution_count": 94,
          "metadata": {},
          "output_type": "execute_result"
        }
      ],
      "source": [
        "\u2262 'abc'"
      ]
    },
    {
      "cell_type": "code",
      "execution_count": 95,
      "metadata": {},
      "outputs": [
        {
          "data": {
            "text/html": [
              "<span style=\"white-space:pre; font-family: monospace\">2\n",
              "</span>"
            ]
          },
          "execution_count": 95,
          "metadata": {},
          "output_type": "execute_result"
        }
      ],
      "source": [
        "\u2262 'ab'"
      ]
    },
    {
      "cell_type": "code",
      "execution_count": 96,
      "metadata": {},
      "outputs": [],
      "source": [
        "\u235d\u2262 'a'    \u235d what should this give??"
      ]
    },
    {
      "cell_type": "code",
      "execution_count": 97,
      "metadata": {},
      "outputs": [
        {
          "data": {
            "text/html": [
              "<span style=\"white-space:pre; font-family: monospace\">0\n",
              "</span>"
            ]
          },
          "execution_count": 97,
          "metadata": {},
          "output_type": "execute_result"
        }
      ],
      "source": [
        "\u2262 ''"
      ]
    },
    {
      "cell_type": "markdown",
      "metadata": {},
      "source": [
        "Putting things this way, it sure looks reasonable that `\u2262 'a'` give 1, right?"
      ]
    },
    {
      "cell_type": "markdown",
      "metadata": {},
      "source": [
        "(Some-Primitive-Functions-Depth)=\n",
        "### Depth\n",
        "\n",
        "Dyadic `\u2261` and `\u2262` are very closely related, but their monadic versions aren't as much. The monadic function _depth_ `\u2261` helps us work with nested arrays, in that it helps us count how many levels of nesting there are.\n",
        "\n",
        "The result of `\u2261` is really simple to understand. First of all, the depth of a scalar is 0:"
      ]
    },
    {
      "cell_type": "code",
      "execution_count": 98,
      "metadata": {},
      "outputs": [
        {
          "data": {
            "text/html": [
              "<span style=\"white-space:pre; font-family: monospace\">0\n",
              "</span>"
            ]
          },
          "execution_count": 98,
          "metadata": {},
          "output_type": "execute_result"
        }
      ],
      "source": [
        "\u22611"
      ]
    },
    {
      "cell_type": "code",
      "execution_count": 99,
      "metadata": {},
      "outputs": [
        {
          "data": {
            "text/html": [
              "<span style=\"white-space:pre; font-family: monospace\">0\n",
              "</span>"
            ]
          },
          "execution_count": 99,
          "metadata": {},
          "output_type": "execute_result"
        }
      ],
      "source": [
        "\u2261'a'"
      ]
    },
    {
      "cell_type": "code",
      "execution_count": 100,
      "metadata": {},
      "outputs": [
        {
          "data": {
            "text/html": [
              "<span style=\"white-space:pre; font-family: monospace\">0\n",
              "</span>"
            ]
          },
          "execution_count": 100,
          "metadata": {},
          "output_type": "execute_result"
        }
      ],
      "source": [
        "\u22614525324"
      ]
    },
    {
      "cell_type": "markdown",
      "metadata": {},
      "source": [
        "Then, the depth of an array is 1 larger than the depth of its deepest item, or sub-array. For example, a simple vector like `1 2 3 4` only has scalars as items, whose depths are 0, so the depth of the vector will be 1."
      ]
    },
    {
      "cell_type": "code",
      "execution_count": 101,
      "metadata": {},
      "outputs": [
        {
          "data": {
            "text/html": [
              "<span style=\"white-space:pre; font-family: monospace\">1\n",
              "</span>"
            ]
          },
          "execution_count": 101,
          "metadata": {},
          "output_type": "execute_result"
        }
      ],
      "source": [
        "\u22611 2 3 4"
      ]
    },
    {
      "cell_type": "markdown",
      "metadata": {},
      "source": [
        "Now let us consider a nested vector composed of simple vectors like the one we just saw."
      ]
    },
    {
      "cell_type": "code",
      "execution_count": 102,
      "metadata": {},
      "outputs": [
        {
          "data": {
            "text/html": [
              "<span style=\"white-space:pre; font-family: monospace\">\u250c\u2500\u2500\u2500\u2500\u2500\u2500\u2500\u252c\u2500\u2500\u2500\u252c\u2500\u2500\u2500\u2500\u2500\u2500\u2500\u2500\u2510\n",
              "\u25021 2 3 4\u25023 5\u250210 20 30\u2502\n",
              "\u2514\u2500\u2500\u2500\u2500\u2500\u2500\u2500\u2534\u2500\u2500\u2500\u2534\u2500\u2500\u2500\u2500\u2500\u2500\u2500\u2500\u2518\n",
              "</span>"
            ]
          },
          "execution_count": 102,
          "metadata": {},
          "output_type": "execute_result"
        }
      ],
      "source": [
        "\u22a2nested \u2190 (1 2 3 4) (3 5) (10 20 30)"
      ]
    },
    {
      "cell_type": "markdown",
      "metadata": {},
      "source": [
        "The items of `nested` are vectors of depth 1, so the depth of `nested` should be 2:"
      ]
    },
    {
      "cell_type": "code",
      "execution_count": 103,
      "metadata": {},
      "outputs": [
        {
          "data": {
            "text/html": [
              "<span style=\"white-space:pre; font-family: monospace\">2\n",
              "</span>"
            ]
          },
          "execution_count": 103,
          "metadata": {},
          "output_type": "execute_result"
        }
      ],
      "source": [
        "\u2261nested"
      ]
    },
    {
      "cell_type": "markdown",
      "metadata": {},
      "source": [
        "`\u2261` has one more thing to it: if the nesting of the sub-arrays is not uniform then the result will be negative.\n",
        "\n",
        "For example, `1 2 3 4` has depth 1 and `42` has depth 0, so a vector composed of these two sub-arrays has depth -2:"
      ]
    },
    {
      "cell_type": "code",
      "execution_count": 104,
      "metadata": {},
      "outputs": [
        {
          "data": {
            "text/html": [
              "<span style=\"white-space:pre; font-family: monospace\">\u00af2\n",
              "</span>"
            ]
          },
          "execution_count": 104,
          "metadata": {},
          "output_type": "execute_result"
        }
      ],
      "source": [
        "\u2261(1 2 3 4) 42"
      ]
    },
    {
      "cell_type": "markdown",
      "metadata": {},
      "source": [
        "(Some-Primitive-Functions-Reduce)=\n",
        "## Reduce\n",
        "\n",
        "(Some-Primitive-Functions-Presentation)=\n",
        "### Presentation\n",
        "\n",
        "A few pages ago we calculated the costs of some purchased goods:"
      ]
    },
    {
      "cell_type": "code",
      "execution_count": 105,
      "metadata": {},
      "outputs": [
        {
          "data": {
            "text/html": [
              "<span style=\"white-space:pre; font-family: monospace\">10.4 11.5 10.8 24 16.9\n",
              "</span>"
            ]
          },
          "execution_count": 105,
          "metadata": {},
          "output_type": "execute_result"
        }
      ],
      "source": [
        "\u22a2costs \u2190 price \u00d7 qty"
      ]
    },
    {
      "cell_type": "markdown",
      "metadata": {},
      "source": [
        "How much did we spend?"
      ]
    },
    {
      "cell_type": "code",
      "execution_count": 106,
      "metadata": {},
      "outputs": [
        {
          "data": {
            "text/html": [
              "<span style=\"white-space:pre; font-family: monospace\">73.6\n",
              "</span>"
            ]
          },
          "execution_count": 106,
          "metadata": {},
          "output_type": "execute_result"
        }
      ],
      "source": [
        "10.4 + 11.5 + 10.8 + 24 + 16.9"
      ]
    },
    {
      "cell_type": "markdown",
      "metadata": {},
      "source": [
        "But writing things out like this is cumbersome and depends on us looking at the scalars in the `costs` vector. What if the `price` or the `qty` changes?\n",
        "\n",
        "Mathematicians are creative people who long ago devised the symbol $\\sum$, always with a pretty collection of indices above and below, that is used to indicate the sum of some numbers. This symbol makes it complex to understand and is difficult to type on a keyboard.\n",
        "\n",
        "In APL, the operation is written like this:"
      ]
    },
    {
      "cell_type": "code",
      "execution_count": 41,
      "metadata": {},
      "outputs": [
        {
          "data": {
            "text/html": [
              "<span style=\"white-space:pre; font-family: monospace\">73.6\n",
              "</span>"
            ]
          },
          "execution_count": 41,
          "metadata": {},
          "output_type": "execute_result"
        }
      ],
      "source": [
        "+/ costs"
      ]
    },
    {
      "cell_type": "markdown",
      "metadata": {},
      "source": [
        "Simple, isn't it? This expression gives the total of all the items in the vector. You can read this as \"_plus reduction_\" of the variable `costs`.\n",
        "\n",
        "To gain a better understanding of the process:\n",
        "\n",
        "When we write an expression such as"
      ]
    },
    {
      "cell_type": "code",
      "execution_count": 1,
      "metadata": {},
      "outputs": [
        {
          "data": {
            "text/html": [
              "<span style=\"white-space:pre; font-family: monospace\">122\n",
              "</span>"
            ]
          },
          "execution_count": 1,
          "metadata": {},
          "output_type": "execute_result"
        }
      ],
      "source": [
        "+/ 21 45 18 27 11"
      ]
    },
    {
      "cell_type": "markdown",
      "metadata": {},
      "source": [
        "it works as if we had written"
      ]
    },
    {
      "cell_type": "code",
      "execution_count": 2,
      "metadata": {},
      "outputs": [
        {
          "data": {
            "text/html": [
              "<span style=\"white-space:pre; font-family: monospace\">122\n",
              "</span>"
            ]
          },
          "execution_count": 2,
          "metadata": {},
          "output_type": "execute_result"
        }
      ],
      "source": [
        "21 + 45 + 18 + 27 + 11"
      ]
    },
    {
      "cell_type": "markdown",
      "metadata": {},
      "source": [
        "and we obtain the sum `122`.\n",
        "   \n",
        "In fact, it works as if we had \"inserted\" the symbol `+` between the values. But then, if we write"
      ]
    },
    {
      "cell_type": "code",
      "execution_count": 3,
      "metadata": {},
      "outputs": [
        {
          "data": {
            "text/html": [
              "<span style=\"white-space:pre; font-family: monospace\">5051970\n",
              "</span>"
            ]
          },
          "execution_count": 3,
          "metadata": {},
          "output_type": "execute_result"
        }
      ],
      "source": [
        "\u00d7/ 21 45 18 27 11"
      ]
    },
    {
      "cell_type": "markdown",
      "metadata": {},
      "source": [
        "it works as if we had written"
      ]
    },
    {
      "cell_type": "code",
      "execution_count": 4,
      "metadata": {},
      "outputs": [
        {
          "data": {
            "text/html": [
              "<span style=\"white-space:pre; font-family: monospace\">5051970\n",
              "</span>"
            ]
          },
          "execution_count": 4,
          "metadata": {},
          "output_type": "execute_result"
        }
      ],
      "source": [
        "21 \u00d7 45 \u00d7 18 \u00d7 27 \u00d7 11"
      ]
    },
    {
      "cell_type": "markdown",
      "metadata": {},
      "source": [
        "so, we get the product `5051970`.\n",
        "\n",
        "Similarly, if we write"
      ]
    },
    {
      "cell_type": "code",
      "execution_count": 5,
      "metadata": {},
      "outputs": [
        {
          "data": {
            "text/html": [
              "<span style=\"white-space:pre; font-family: monospace\">45\n",
              "</span>"
            ]
          },
          "execution_count": 5,
          "metadata": {},
          "output_type": "execute_result"
        }
      ],
      "source": [
        "\u2308/ 21 45 18 27 11"
      ]
    },
    {
      "cell_type": "markdown",
      "metadata": {},
      "source": [
        "it works as if we had written"
      ]
    },
    {
      "cell_type": "code",
      "execution_count": 6,
      "metadata": {},
      "outputs": [
        {
          "data": {
            "text/html": [
              "<span style=\"white-space:pre; font-family: monospace\">45\n",
              "</span>"
            ]
          },
          "execution_count": 6,
          "metadata": {},
          "output_type": "execute_result"
        }
      ],
      "source": [
        "21 \u2308 45 \u2308 18 \u2308 27 \u2308 11"
      ]
    },
    {
      "cell_type": "markdown",
      "metadata": {},
      "source": [
        "so, we get the maximum `45`. And so on for other functions we put to the left of `/`.\n",
        "\n",
        "<!-- exercise -->\n",
        "***Exercise***:\n",
        "\n",
        "Try to evaluate the following expression in your head or with pen and paper: `23\u2308 \u2308 \u2308/ 17.81 21.41 9.34 16.53`\n",
        "<!-- end -->\n",
        "\n",
        "Don't panic! Remember to evaluate it symbol by symbol, from right to left."
      ]
    },
    {
      "cell_type": "markdown",
      "metadata": {},
      "source": [
        "(Some-Primitive-Functions-Definition)=\n",
        "### Definition\n",
        "\n",
        "_Reduce_, represented by the symbol `/`, belongs to a special category of symbols called _operators_.\n",
        "\n",
        "In most programming languages the word *operator* is used to describe operations like addition, subtraction, multiplication, and so on. In APL such operations are called *functions*; typical examples are `+`, `-`, `\u00d7` and `\u2374`. The word *operator* has a separate meaning in APL.\n",
        "\n",
        "In APL, a _function_ works on an **array** or between two arrays to produce a result:"
      ]
    },
    {
      "cell_type": "code",
      "execution_count": 42,
      "metadata": {},
      "outputs": [
        {
          "data": {
            "text/html": [
              "<span style=\"white-space:pre; font-family: monospace\">10.4 11.5 10.8 24 16.9\n",
              "</span>"
            ]
          },
          "execution_count": 42,
          "metadata": {},
          "output_type": "execute_result"
        }
      ],
      "source": [
        "price \u00d7 qty"
      ]
    },
    {
      "cell_type": "markdown",
      "metadata": {},
      "source": [
        "Whereas an _operator_ applies to one or two _operands_ (its \"arguments\") to produce what we call a _derived function_.\n",
        "That is, after we use the _operator_ on its _operands_, we get a (derived) function which may then be used with an array, or between two arrays, to produce a result:"
      ]
    },
    {
      "cell_type": "code",
      "execution_count": 107,
      "metadata": {},
      "outputs": [
        {
          "data": {
            "text/html": [
              "<span style=\"white-space:pre; font-family: monospace\">  /\n",
              "\u250c\u2500\u2518\n",
              "+  \n",
              "</span>"
            ]
          },
          "execution_count": 107,
          "metadata": {},
          "output_type": "execute_result"
        }
      ],
      "source": [
        "+/"
      ]
    },
    {
      "cell_type": "markdown",
      "metadata": {},
      "source": [
        "This is the representation APL gives to the _plus reduction_, where the tree-like structure shows that `+` is an operand to `/`.\n",
        "We may then use this derived function with an array in order to get a result:"
      ]
    },
    {
      "cell_type": "code",
      "execution_count": 108,
      "metadata": {},
      "outputs": [
        {
          "data": {
            "text/html": [
              "<span style=\"white-space:pre; font-family: monospace\">14\n",
              "</span>"
            ]
          },
          "execution_count": 108,
          "metadata": {},
          "output_type": "execute_result"
        }
      ],
      "source": [
        "\u22a2stock \u2190 +/ qty"
      ]
    },
    {
      "cell_type": "markdown",
      "metadata": {},
      "source": [
        "In the expression above, the symbol `/` is the operator. It takes the function `+` as its single operand (similar to how we give arguments to functions) and produces the derived function `+/`. This derived function is then applied to `qty`, giving a result which is assigned to `stock` and displayed with `\u22a2`.\n",
        "\n",
        "Please note that the argument to a monadic function is always to the right of the function, whereas the function applied to a monadic operator (its operand) is always to the left of the operator.\n",
        "\n",
        "All of the APL primitive dyadic functions may be used as the operand to _reduce_; you can even apply a dyadic user-defined function. This generality makes _reduce_, and other operators, extremely powerful.\n",
        "\n",
        "Dyalog APL provides a total of around 20 such powerful operators, listed in {numref}`Appendices-Dyalog-APL-Operators`. It is also possible to write your own operators, just as it is possible to write your own functions."
      ]
    },
    {
      "cell_type": "markdown",
      "metadata": {},
      "source": [
        "(Some-Primitive-Functions-Reduction-of-Binary-Data)=\n",
        "### Reduction of Binary Data\n",
        "\n",
        "Among the typical usages of _reduce_ are `\u2227` and `\u2228` applied to binary data.\n",
        "\n",
        " - `\u2227/ bin` gives the result `1` if _all_ the items of `bin` are equal to 1;\n",
        " - `\u2228/ bin` gives the result `1` if _at least one_ of the items of `bin` is equal to 1;\n",
        " - `+/ bin` tells us _how many_ items of `bin` are equal to 1.\n",
        " \n",
        "You can verify it on some small examples:"
      ]
    },
    {
      "cell_type": "code",
      "execution_count": 44,
      "metadata": {},
      "outputs": [
        {
          "data": {
            "text/html": [
              "<span style=\"white-space:pre; font-family: monospace\">1 1 1 0 1 0 1\n",
              "</span>"
            ]
          },
          "execution_count": 44,
          "metadata": {},
          "output_type": "execute_result"
        }
      ],
      "source": [
        "\u22a2bin \u2190 1 1 1 0 1 0 1"
      ]
    },
    {
      "cell_type": "code",
      "execution_count": 45,
      "metadata": {},
      "outputs": [
        {
          "data": {
            "text/html": [
              "<span style=\"white-space:pre; font-family: monospace\">0\n",
              "</span>"
            ]
          },
          "execution_count": 45,
          "metadata": {},
          "output_type": "execute_result"
        }
      ],
      "source": [
        "\u2227/ bin"
      ]
    },
    {
      "cell_type": "code",
      "execution_count": 46,
      "metadata": {},
      "outputs": [
        {
          "data": {
            "text/html": [
              "<span style=\"white-space:pre; font-family: monospace\">1\n",
              "</span>"
            ]
          },
          "execution_count": 46,
          "metadata": {},
          "output_type": "execute_result"
        }
      ],
      "source": [
        "\u2228/ bin"
      ]
    },
    {
      "cell_type": "code",
      "execution_count": 47,
      "metadata": {},
      "outputs": [
        {
          "data": {
            "text/html": [
              "<span style=\"white-space:pre; font-family: monospace\">5\n",
              "</span>"
            ]
          },
          "execution_count": 47,
          "metadata": {},
          "output_type": "execute_result"
        }
      ],
      "source": [
        "+/ bin"
      ]
    },
    {
      "cell_type": "code",
      "execution_count": 48,
      "metadata": {},
      "outputs": [
        {
          "data": {
            "text/html": [
              "<span style=\"white-space:pre; font-family: monospace\">1 1 1 1 1 1 1\n",
              "</span>"
            ]
          },
          "execution_count": 48,
          "metadata": {},
          "output_type": "execute_result"
        }
      ],
      "source": [
        "\u22a2allOnes \u2190 1\u2228bin"
      ]
    },
    {
      "cell_type": "code",
      "execution_count": 49,
      "metadata": {},
      "outputs": [
        {
          "data": {
            "text/html": [
              "<span style=\"white-space:pre; font-family: monospace\">1\n",
              "</span>"
            ]
          },
          "execution_count": 49,
          "metadata": {},
          "output_type": "execute_result"
        }
      ],
      "source": [
        "\u2227/ allOnes"
      ]
    },
    {
      "cell_type": "markdown",
      "metadata": {},
      "source": [
        "Let us revisit a vector named `contents` (from {numref}`Data-and-Variables-Data-and-Variables`):"
      ]
    },
    {
      "cell_type": "code",
      "execution_count": 109,
      "metadata": {},
      "outputs": [
        {
          "data": {
            "text/html": [
              "<span style=\"white-space:pre; font-family: monospace\">12 56 78 74 85 96 30 22 44 66 82 27\n",
              "</span>"
            ]
          },
          "execution_count": 109,
          "metadata": {},
          "output_type": "execute_result"
        }
      ],
      "source": [
        "\u22a2contents \u2190 12 56 78 74 85 96 30 22 44 66 82 27"
      ]
    },
    {
      "cell_type": "markdown",
      "metadata": {},
      "source": [
        "Now we will answer some questions about the values of the items of `contents`.\n",
        "\n",
        "Are all the values greater than 20?"
      ]
    },
    {
      "cell_type": "code",
      "execution_count": 52,
      "metadata": {},
      "outputs": [
        {
          "data": {
            "text/html": [
              "<span style=\"white-space:pre; font-family: monospace\">0\n",
              "</span>"
            ]
          },
          "execution_count": 52,
          "metadata": {},
          "output_type": "execute_result"
        }
      ],
      "source": [
        "\u2227/ contents > 20"
      ]
    },
    {
      "cell_type": "markdown",
      "metadata": {},
      "source": [
        "The answer is no.\n",
        "\n",
        "Is there at least one value smaller than 30?"
      ]
    },
    {
      "cell_type": "code",
      "execution_count": 53,
      "metadata": {},
      "outputs": [
        {
          "data": {
            "text/html": [
              "<span style=\"white-space:pre; font-family: monospace\">1\n",
              "</span>"
            ]
          },
          "execution_count": 53,
          "metadata": {},
          "output_type": "execute_result"
        }
      ],
      "source": [
        "\u2228/ contents < 30"
      ]
    },
    {
      "cell_type": "markdown",
      "metadata": {},
      "source": [
        "The answer is yes.\n",
        "\n",
        "How many values are smaller than 30?"
      ]
    },
    {
      "cell_type": "code",
      "execution_count": 54,
      "metadata": {},
      "outputs": [
        {
          "data": {
            "text/html": [
              "<span style=\"white-space:pre; font-family: monospace\">3\n",
              "</span>"
            ]
          },
          "execution_count": 54,
          "metadata": {},
          "output_type": "execute_result"
        }
      ],
      "source": [
        "+/ contents < 30"
      ]
    },
    {
      "cell_type": "markdown",
      "metadata": {},
      "source": [
        "The answer is 3."
      ]
    },
    {
      "cell_type": "markdown",
      "metadata": {},
      "source": [
        "(Some-Primitive-Functions-Reduction-of-Nested-Arrays)=\n",
        "### Reduction of Nested Arrays\n",
        "\n",
        "When you apply a reduction to a nested array, you must check that the items of the nested array are compatible (in shape and type) with the function that you intend to apply:"
      ]
    },
    {
      "cell_type": "code",
      "execution_count": 153,
      "metadata": {},
      "outputs": [
        {
          "data": {
            "text/html": [
              "<span style=\"white-space:pre; font-family: monospace\">\u250c\u2500\u2500\u2500\u2500\u2500\u2510\n",
              "\u250224 27\u2502\n",
              "\u2514\u2500\u2500\u2500\u2500\u2500\u2518\n",
              "</span>"
            ]
          },
          "execution_count": 153,
          "metadata": {},
          "output_type": "execute_result"
        }
      ],
      "source": [
        "+/ (4 8) (1 4) 10 (9 5)"
      ]
    },
    {
      "cell_type": "markdown",
      "metadata": {},
      "source": [
        "The expression above works because all 2-item vectors can be added together, and a single scalar (the 10) can be added to an array of any shape, because `+` is a scalar function.\n",
        "\n",
        "Notice, however, that in the expression below the 3-item vector cannot be added to the other 2-item vectors, so APL reports an error:"
      ]
    },
    {
      "cell_type": "code",
      "execution_count": 154,
      "metadata": {},
      "outputs": [
        {
          "name": "stderr",
          "output_type": "stream",
          "text": [
            "LENGTH ERROR: Mismatched left and right argument shapes\n",
            "      +/(4 8)(1 4)(1 2 3)(9 5)\n",
            "      \u2227\n"
          ]
        }
      ],
      "source": [
        "+/ (4 8) (1 4) (1 2 3) (9 5)"
      ]
    },
    {
      "cell_type": "markdown",
      "metadata": {},
      "source": [
        "(Some-Primitive-Functions-Reduction-With-Non-Commutative-Functions)=\n",
        "### Reduction With Non-Commutative Functions\n",
        "\n",
        "Another thing to be careful about is the use of reduction with non-commutative functions, like `-` or `\u00f7`. Reducing an array by such a function yields results which may be counter-intuitive, but which may nevertheless be useful in a number of applications.\n",
        "\n",
        "For example, remember that"
      ]
    },
    {
      "cell_type": "code",
      "execution_count": 155,
      "metadata": {},
      "outputs": [
        {
          "data": {
            "text/html": [
              "<span style=\"white-space:pre; font-family: monospace\">50\n",
              "</span>"
            ]
          },
          "execution_count": 155,
          "metadata": {},
          "output_type": "execute_result"
        }
      ],
      "source": [
        "-/ 45 9 11 2 5"
      ]
    },
    {
      "cell_type": "markdown",
      "metadata": {},
      "source": [
        "is equivalent to"
      ]
    },
    {
      "cell_type": "code",
      "execution_count": 156,
      "metadata": {},
      "outputs": [
        {
          "data": {
            "text/html": [
              "<span style=\"white-space:pre; font-family: monospace\">50\n",
              "</span>"
            ]
          },
          "execution_count": 156,
          "metadata": {},
          "output_type": "execute_result"
        }
      ],
      "source": [
        "45 - 9 - 11 - 2 - 5"
      ]
    },
    {
      "cell_type": "markdown",
      "metadata": {},
      "source": [
        "which, by APL's order of evaluation is equivalent to:"
      ]
    },
    {
      "cell_type": "code",
      "execution_count": 157,
      "metadata": {},
      "outputs": [
        {
          "data": {
            "text/html": [
              "<span style=\"white-space:pre; font-family: monospace\">50\n",
              "</span>"
            ]
          },
          "execution_count": 157,
          "metadata": {},
          "output_type": "execute_result"
        }
      ],
      "source": [
        "45 - (9 - (11 - (2 - 5)))"
      ]
    },
    {
      "cell_type": "markdown",
      "metadata": {},
      "source": [
        "If, instead, we use the traditional mathematical convention that interprets\n",
        "\n",
        "$$45 - 9 - 11 - 2 - 5$$\n",
        "\n",
        "as\n",
        "\n",
        "$$(((45 - 9) - 11) - 2) - 5$$\n",
        "\n",
        "we get the result 18.\n",
        "\n",
        "This kind of \"alternating series\" can be useful for some calculations, although only rarely for business applications."
      ]
    },
    {
      "cell_type": "markdown",
      "metadata": {},
      "source": [
        "(Some-Primitive-Functions-Application-1)=\n",
        "### Application 1\n",
        "\n",
        "The employees of a company are divided into three hierarchical categories, denoted simply 1, 2 and 3. Two variables contain the salaries and the categories of these employees; we define them below and then use `\u2374` to show some of their initial values:"
      ]
    },
    {
      "cell_type": "code",
      "execution_count": 110,
      "metadata": {},
      "outputs": [
        {
          "data": {
            "text/html": [
              "<span style=\"white-space:pre; font-family: monospace\">2121 4778 4914 3139 4561 221 1252 1530 4475 332\n",
              "</span>"
            ]
          },
          "execution_count": 110,
          "metadata": {},
          "output_type": "execute_result"
        }
      ],
      "source": [
        "\u2395RL \u2190 73\n",
        "salaries \u2190 ?100\u23745000\n",
        "10\u2374salaries"
      ]
    },
    {
      "cell_type": "code",
      "execution_count": 111,
      "metadata": {},
      "outputs": [
        {
          "data": {
            "text/html": [
              "<span style=\"white-space:pre; font-family: monospace\">1 2 2 2 3 3 1 1 1 1\n",
              "</span>"
            ]
          },
          "execution_count": 111,
          "metadata": {},
          "output_type": "execute_result"
        }
      ],
      "source": [
        "\u2395RL \u2190 73\n",
        "categories \u2190 ?100\u23743\n",
        "10\u2374categories"
      ]
    },
    {
      "cell_type": "markdown",
      "metadata": {},
      "source": [
        "We can see the salaries of the first three employees are, respectively, 2121, 4778 and 4914 (of some currency) and their respective categories are 1, 2 and 2.\n",
        "\n",
        "With what we learned in {numref}`Some-Primitive-Functions-Reduction-of-Binary-Data` we can also find out how many employees belong in the third category:"
      ]
    },
    {
      "cell_type": "code",
      "execution_count": 112,
      "metadata": {},
      "outputs": [
        {
          "data": {
            "text/html": [
              "<span style=\"white-space:pre; font-family: monospace\">32\n",
              "</span>"
            ]
          },
          "execution_count": 112,
          "metadata": {},
          "output_type": "execute_result"
        }
      ],
      "source": [
        "+/ categories = 3"
      ]
    },
    {
      "cell_type": "markdown",
      "metadata": {},
      "source": [
        "Now the employees ask for an increase in their salaries. Each category of employee requests a different percentage increase, as shown in the following table:\n",
        "\n",
        "| Category | Upgrade |\n",
        "| :-: | :-: |\n",
        "| 1 | 8% |\n",
        "| 2 | 5% |\n",
        "| 3 | 2% |\n",
        "\n",
        "How much is that going to cost the company?\n",
        "\n",
        "Let us just create a variable containing the three rates shown above:"
      ]
    },
    {
      "cell_type": "code",
      "execution_count": 113,
      "metadata": {},
      "outputs": [
        {
          "data": {
            "text/html": [
              "<span style=\"white-space:pre; font-family: monospace\">0.08 0.05 0.02\n",
              "</span>"
            ]
          },
          "execution_count": 113,
          "metadata": {},
          "output_type": "execute_result"
        }
      ],
      "source": [
        "\u22a2rates \u2190 8 5 2 \u00f7 100"
      ]
    },
    {
      "cell_type": "markdown",
      "metadata": {},
      "source": [
        "The first employee is in category 1, so the rate that applies to this person is"
      ]
    },
    {
      "cell_type": "code",
      "execution_count": 114,
      "metadata": {},
      "outputs": [
        {
          "data": {
            "text/html": [
              "<span style=\"white-space:pre; font-family: monospace\">0.08\n",
              "</span>"
            ]
          },
          "execution_count": 114,
          "metadata": {},
          "output_type": "execute_result"
        }
      ],
      "source": [
        "rates[1]"
      ]
    },
    {
      "cell_type": "markdown",
      "metadata": {},
      "source": [
        "More generally, the rates applied to all of the employees can easily be obtained with `rates[categories]`:"
      ]
    },
    {
      "cell_type": "code",
      "execution_count": 60,
      "metadata": {},
      "outputs": [
        {
          "data": {
            "text/html": [
              "<span style=\"white-space:pre; font-family: monospace\">0.08 0.05 0.05 0.05 0.02 0.02 0.08 0.08 0.08 0.08\n",
              "</span>"
            ]
          },
          "execution_count": 60,
          "metadata": {},
          "output_type": "execute_result"
        }
      ],
      "source": [
        "10\u2374rates[categories]"
      ]
    },
    {
      "cell_type": "markdown",
      "metadata": {},
      "source": [
        "Having the rates, we only have to multiply them by the salaries to obtain the individual increases:"
      ]
    },
    {
      "cell_type": "code",
      "execution_count": 61,
      "metadata": {},
      "outputs": [
        {
          "data": {
            "text/html": [
              "<span style=\"white-space:pre; font-family: monospace\">169.68 238.9 245.7 156.95 91.22 4.42 100.16 122.4 358 26.56\n",
              "</span>"
            ]
          },
          "execution_count": 61,
          "metadata": {},
          "output_type": "execute_result"
        }
      ],
      "source": [
        "10\u2374 salaries \u00d7 rates[categories]"
      ]
    },
    {
      "cell_type": "markdown",
      "metadata": {},
      "source": [
        "Finally, by adding them all together, we discover how much it will cost the company:"
      ]
    },
    {
      "cell_type": "code",
      "execution_count": 62,
      "metadata": {},
      "outputs": [
        {
          "data": {
            "text/html": [
              "<span style=\"white-space:pre; font-family: monospace\">12070.6\n",
              "</span>"
            ]
          },
          "execution_count": 62,
          "metadata": {},
          "output_type": "execute_result"
        }
      ],
      "source": [
        "+/ salaries \u00d7 rates[categories]"
      ]
    },
    {
      "cell_type": "markdown",
      "metadata": {},
      "source": [
        "Note that:\n",
        "\n",
        " - the expression remains valid regardless of the number of employees or categories;\n",
        " - the result has been obtained without writing a program (no loops, no tests); and\n",
        " - this expression can be phrased in the simplest possible English, namely:\n",
        " \n",
        " > *Sum the `salaries` multiplied by `rates` according to `categories`.*\n",
        " \n",
        "This illustrates how the implementation of a solution in APL can be very close to the way that the solution would be expressed in everyday language. It also shows the advantage of not having to deal with trivial and \"irrelevant\" matters such as looping, memory allocation, declarations, etc. before a working solution can be developed."
      ]
    },
    {
      "cell_type": "markdown",
      "metadata": {},
      "source": [
        "(Some-Primitive-Functions-Application-2)=\n",
        "### Application 2\n",
        "\n",
        "Imagine now that we want to calculate the average of a set of values, for example the values contained in the variable `contents`.\n",
        "\n",
        "To do that, we must:\n",
        "\n",
        " - add all the values:"
      ]
    },
    {
      "cell_type": "code",
      "execution_count": 63,
      "metadata": {},
      "outputs": [
        {
          "data": {
            "text/html": [
              "<span style=\"white-space:pre; font-family: monospace\">672\n",
              "</span>"
            ]
          },
          "execution_count": 63,
          "metadata": {},
          "output_type": "execute_result"
        }
      ],
      "source": [
        "+/ contents"
      ]
    },
    {
      "cell_type": "markdown",
      "metadata": {},
      "source": [
        " - count how many values we have:"
      ]
    },
    {
      "cell_type": "code",
      "execution_count": 64,
      "metadata": {},
      "outputs": [
        {
          "data": {
            "text/html": [
              "<span style=\"white-space:pre; font-family: monospace\">12\n",
              "</span>"
            ]
          },
          "execution_count": 64,
          "metadata": {},
          "output_type": "execute_result"
        }
      ],
      "source": [
        "\u2262contents"
      ]
    },
    {
      "cell_type": "markdown",
      "metadata": {},
      "source": [
        " - divide one by the other:"
      ]
    },
    {
      "cell_type": "code",
      "execution_count": 65,
      "metadata": {},
      "outputs": [
        {
          "data": {
            "text/html": [
              "<span style=\"white-space:pre; font-family: monospace\">56\n",
              "</span>"
            ]
          },
          "execution_count": 65,
          "metadata": {},
          "output_type": "execute_result"
        }
      ],
      "source": [
        "(+/contents) \u00f7 (\u2262contents)"
      ]
    },
    {
      "cell_type": "markdown",
      "metadata": {},
      "source": [
        "The result is 56.\n",
        "\n",
        "Again, because of APL's simple rule for the order of evaluation, the rightmost set of parentheses could be omitted."
      ]
    },
    {
      "cell_type": "markdown",
      "metadata": {},
      "source": [
        "(Some-Primitive-Functions-Axis-Specification)=\n",
        "## Axis Specification\n",
        "\n",
        "(Some-Primitive-Functions-Totals-in-an-Array)=\n",
        "### Totals in an Array\n",
        "\n",
        "(Some-Primitive-Functions-Processing-Arrays)=\n",
        "#### Processing Arrays\n",
        "\n",
        "We have seen the result of applying reduction to vectors, but what about matrices and higher rank arrays?\n",
        "\n",
        "As an example, let us recall the array `prod`. Its 3 dimensions represent respectively:\n",
        "\n",
        "  1. &emsp; 5 years;\n",
        "  2. &emsp; 2 assembly lines;\n",
        "  3. &emsp; 12 months."
      ]
    },
    {
      "cell_type": "code",
      "execution_count": 116,
      "metadata": {},
      "outputs": [
        {
          "data": {
            "text/html": [
              "<span style=\"white-space:pre; font-family: monospace\"> 9 16 42 50  2  3 11 45 17 37 29 36\n",
              "34 19 32 12 37 15 46 24 49 28 36  9\n",
              "                                   \n",
              "29  5 45 23 27  4 23 16 39 22 22  2\n",
              "46 20 47 17 18 25 13 38 42 38 45 28\n",
              "                                   \n",
              "37 19  5 10 30 49 16 18 46 47 47  3\n",
              "39 23 41 20  6 40 21 22 40 49 20  1\n",
              "                                   \n",
              "13 36 12 40 12 15 24 20 21 12 19 25\n",
              " 8 48 22 37 33  1 39 30 50 50  8 35\n",
              "                                   \n",
              "38 31 24 40 23  7 20 34 35  6 19 27\n",
              "41  1 14 50 17 42  6 35 12 48 30 29\n",
              "</span>"
            ]
          },
          "execution_count": 116,
          "metadata": {},
          "output_type": "execute_result"
        }
      ],
      "source": [
        "\u2395RL \u2190 73\n",
        "\u22a2prod \u2190 ?5 2 12\u237450"
      ]
    },
    {
      "cell_type": "markdown",
      "metadata": {},
      "source": [
        "We can calculate totals along any of these 3 dimensions: years, lines and months.\n",
        "\n",
        "We specify the dimension (or _axis_) between brackets after the _reduce_ symbol:\n",
        "\n",
        "```APL\n",
        "+/[axis] prod\n",
        "```\n",
        "\n",
        "For example, suppose we want to calculate the total monthly production values over the 5 years. Years are represented by the 1st dimension of `prod`, so we write:"
      ]
    },
    {
      "cell_type": "code",
      "execution_count": 67,
      "metadata": {},
      "outputs": [
        {
          "data": {
            "text/html": [
              "<span style=\"white-space:pre; font-family: monospace\">126 107 128 163  94  78  94 133 158 124 136  93\n",
              "168 111 156 136 111 123 125 149 193 213 139 102\n",
              "</span>"
            ]
          },
          "execution_count": 67,
          "metadata": {},
          "output_type": "execute_result"
        }
      ],
      "source": [
        "+/[1] prod"
      ]
    },
    {
      "cell_type": "markdown",
      "metadata": {},
      "source": [
        "We obtain a 2 by 12 matrix, giving the production of the 2 assembly lines, month by month. If we were to divide this matrix by 5, we would get the average production for each month, per assembly line.\n",
        "\n",
        "Now, let us add up the production numbers of the two assembly lines. Lines are represented by the 2nd dimension of `prod`, so we write:"
      ]
    },
    {
      "cell_type": "code",
      "execution_count": 68,
      "metadata": {},
      "outputs": [
        {
          "data": {
            "text/html": [
              "<span style=\"white-space:pre; font-family: monospace\">43 35 74 62 39 18 57 69 66 65 65 45\n",
              "75 25 92 40 45 29 36 54 81 60 67 30\n",
              "76 42 46 30 36 89 37 40 86 96 67  4\n",
              "21 84 34 77 45 16 63 50 71 62 27 60\n",
              "79 32 38 90 40 49 26 69 47 54 49 56\n",
              "</span>"
            ]
          },
          "execution_count": 68,
          "metadata": {},
          "output_type": "execute_result"
        }
      ],
      "source": [
        "+/[2] prod"
      ]
    },
    {
      "cell_type": "markdown",
      "metadata": {},
      "source": [
        "We obtain a 5 by 12 matrix, with the total production of both assembly lines, month by month, in each of the 5 years.\n",
        "\n",
        "And finally, let us calculate the annual production of each assembly line. Months are represented by the 3rd dimension of `prod`, so we write:"
      ]
    },
    {
      "cell_type": "code",
      "execution_count": 69,
      "metadata": {},
      "outputs": [
        {
          "data": {
            "text/html": [
              "<span style=\"white-space:pre; font-family: monospace\">297 341\n",
              "257 377\n",
              "327 322\n",
              "249 361\n",
              "304 325\n",
              "</span>"
            ]
          },
          "execution_count": 69,
          "metadata": {},
          "output_type": "execute_result"
        }
      ],
      "source": [
        "+/[3] prod"
      ]
    },
    {
      "cell_type": "markdown",
      "metadata": {},
      "source": [
        "The result is a 5 by 2 matrix, in which the columns contain the annual production of the two assembly lines in each of the five years."
      ]
    },
    {
      "cell_type": "markdown",
      "metadata": {},
      "source": [
        "We shall learn more about _axis_ in [the \"Operators\" chapter](./Operators.ipynb); let us first explore another simple use of this operator.\n",
        "\n",
        "Suppose that we would like to multiply each of the rows (or columns) of a matrix by different values; we can use _axis_ to specify whether we multiply row-wise or column-wise. First, here is a matrix:"
      ]
    },
    {
      "cell_type": "code",
      "execution_count": 70,
      "metadata": {},
      "outputs": [
        {
          "data": {
            "text/html": [
              "<span style=\"white-space:pre; font-family: monospace\">9 2 2 3 1\n",
              "5 4 2 3 3\n",
              "5 8 4 1 4\n",
              "</span>"
            ]
          },
          "execution_count": 70,
          "metadata": {},
          "output_type": "execute_result"
        }
      ],
      "source": [
        "\u2395RL \u2190 73\n",
        "\u22a2tam \u2190 ?3 5\u23749"
      ]
    },
    {
      "cell_type": "markdown",
      "metadata": {},
      "source": [
        "Let us multiply row-wise:"
      ]
    },
    {
      "cell_type": "code",
      "execution_count": 71,
      "metadata": {},
      "outputs": [
        {
          "data": {
            "text/html": [
              "<span style=\"white-space:pre; font-family: monospace\">45 10 10 15  5\n",
              "10  8  4  6  6\n",
              "50 80 40 10 40\n",
              "</span>"
            ]
          },
          "execution_count": 71,
          "metadata": {},
          "output_type": "execute_result"
        }
      ],
      "source": [
        "tam\u00d7[1]5 2 10"
      ]
    },
    {
      "cell_type": "markdown",
      "metadata": {},
      "source": [
        "And now column-wise:"
      ]
    },
    {
      "cell_type": "code",
      "execution_count": 72,
      "metadata": {},
      "outputs": [
        {
          "data": {
            "text/html": [
              "<span style=\"white-space:pre; font-family: monospace\">18 10 0 6 1\n",
              "10 20 0 6 3\n",
              "10 40 0 2 4\n",
              "</span>"
            ]
          },
          "execution_count": 72,
          "metadata": {},
          "output_type": "execute_result"
        }
      ],
      "source": [
        "tam\u00d7[2]2 5 0 2 1"
      ]
    },
    {
      "cell_type": "markdown",
      "metadata": {},
      "source": [
        "(Some-Primitive-Functions-Axis-Is-Like-an-Operator)=\n",
        "#### Axis Is Like an Operator\n",
        "\n",
        "The dimension specified within brackets is the axis along which the function is applied.\n",
        "\n",
        "This produces a derived function, and for this reason, the pair of _axis_ brackets is often called the _axis operator_.\n",
        "\n",
        "The syntax for _axis_ does not quite follow the general syntax for operators, but it shares all other properties with genuine operators. _Axis_ takes a function as its left operand (the derived function `+/` in the last example above), the dimension specification as its \"right operand\" (3 in the example), and produces a derived function, which is applied to `prod` to calculate the annual sums.\n",
        "\n",
        "Viewed as an operator, _axis_ is therefore dyadic. It is, however, important to emphasise that its \"right\" operand is not `prod`, it is the expression within the brackets. This is the first example of an operator that takes an array as an operand. We will find some more as we explore operators later on."
      ]
    },
    {
      "cell_type": "markdown",
      "metadata": {},
      "source": [
        "(Some-Primitive-Functions-The-Shape-of-the-Result)=\n",
        "### The Shape of the Result\n",
        "\n",
        "The dimensions of `prod` are"
      ]
    },
    {
      "cell_type": "code",
      "execution_count": 75,
      "metadata": {},
      "outputs": [
        {
          "data": {
            "text/html": [
              "<span style=\"white-space:pre; font-family: monospace\">5 2 12\n",
              "</span>"
            ]
          },
          "execution_count": 75,
          "metadata": {},
          "output_type": "execute_result"
        }
      ],
      "source": [
        "\u2374prod"
      ]
    },
    {
      "cell_type": "markdown",
      "metadata": {},
      "source": [
        "and we can see that the dimensions of `+/[1]prod`, `+/[2]prod` and `+/[3]prod` depend on this shape. In fact, when the axis is 1, the shape of the result is the original shape without the 1st item:"
      ]
    },
    {
      "cell_type": "code",
      "execution_count": 76,
      "metadata": {},
      "outputs": [
        {
          "data": {
            "text/html": [
              "<span style=\"white-space:pre; font-family: monospace\">2 12\n",
              "</span>"
            ]
          },
          "execution_count": 76,
          "metadata": {},
          "output_type": "execute_result"
        }
      ],
      "source": [
        "\u2374+/[1]prod"
      ]
    },
    {
      "cell_type": "markdown",
      "metadata": {},
      "source": [
        "When the axis is 2, the shape of the result is the original shape without the 2nd item:"
      ]
    },
    {
      "cell_type": "code",
      "execution_count": 77,
      "metadata": {},
      "outputs": [
        {
          "data": {
            "text/html": [
              "<span style=\"white-space:pre; font-family: monospace\">5 12\n",
              "</span>"
            ]
          },
          "execution_count": 77,
          "metadata": {},
          "output_type": "execute_result"
        }
      ],
      "source": [
        "\u2374+/[2]prod"
      ]
    },
    {
      "cell_type": "markdown",
      "metadata": {},
      "source": [
        "And when the axis is 3, the shape of the result is the original shape without the 3rd item:"
      ]
    },
    {
      "cell_type": "code",
      "execution_count": 78,
      "metadata": {},
      "outputs": [
        {
          "data": {
            "text/html": [
              "<span style=\"white-space:pre; font-family: monospace\">5 2\n",
              "</span>"
            ]
          },
          "execution_count": 78,
          "metadata": {},
          "output_type": "execute_result"
        }
      ],
      "source": [
        "\u2374+/[3]prod"
      ]
    },
    {
      "cell_type": "markdown",
      "metadata": {},
      "source": [
        "You can see that _reduction_ of a 3D array gives a 2D array, in which the summed dimension has \"disappeared\". This is the origin of the term \"_reduce_\"; it _reduces_ the _rank_ of the array.\n",
        "\n",
        "This rule will help you predict the dimensions of the result of a reduction.\n",
        "\n",
        "```{admonition} Rule \n",
        ":class: tip\n",
        "When _reduce_ is applied along the nth dimension of an array, the shape of the result is the same shape of the array, but without its nth item.\n",
        "\n",
        "The _rank_ of the result is 1 less than the rank of the original array.\n",
        "```\n",
        "\n",
        "Whenever you want to calculate the sum along a particular dimension of an array, think of the dimensions in terms of concrete things: years, lines, months, etc. This should help you."
      ]
    },
    {
      "cell_type": "markdown",
      "metadata": {},
      "source": [
        "(Some-Primitive-Functions-Special-Notations)=\n",
        "### Special Notations\n",
        "\n",
        "By default, if no axis is specified, the reduction is applied along the **last** dimension of the array.\n",
        "\n",
        "This means `+/prod` and `+/[3]prod` are the same,"
      ]
    },
    {
      "cell_type": "code",
      "execution_count": 79,
      "metadata": {},
      "outputs": [
        {
          "data": {
            "text/html": [
              "<span style=\"white-space:pre; font-family: monospace\">1\n",
              "</span>"
            ]
          },
          "execution_count": 79,
          "metadata": {},
          "output_type": "execute_result"
        }
      ],
      "source": [
        "(+/prod)\u2261(+/[3]prod)"
      ]
    },
    {
      "cell_type": "markdown",
      "metadata": {},
      "source": [
        "much like `+/forecast` and `+/[2]forecast` are the same:"
      ]
    },
    {
      "cell_type": "code",
      "execution_count": 81,
      "metadata": {},
      "outputs": [
        {
          "data": {
            "text/html": [
              "<span style=\"white-space:pre; font-family: monospace\">1\n",
              "</span>"
            ]
          },
          "execution_count": 81,
          "metadata": {},
          "output_type": "execute_result"
        }
      ],
      "source": [
        "(+/forecast)\u2261(+/[2]forecast)"
      ]
    },
    {
      "cell_type": "markdown",
      "metadata": {},
      "source": [
        "But it is also common to work along the first dimension of an array. For this reason, APL includes a special symbol for reduction along the first dimension: `\u233f` (you can type it with <kbd>APL</kbd>+<kbd>/</kbd>).\n",
        "\n",
        "This means `+\u233fprod` and `+/[1]prod` are the same,"
      ]
    },
    {
      "cell_type": "code",
      "execution_count": 82,
      "metadata": {},
      "outputs": [
        {
          "data": {
            "text/html": [
              "<span style=\"white-space:pre; font-family: monospace\">1\n",
              "</span>"
            ]
          },
          "execution_count": 82,
          "metadata": {},
          "output_type": "execute_result"
        }
      ],
      "source": [
        "(+\u233fprod)\u2261(+/[1]prod)"
      ]
    },
    {
      "cell_type": "markdown",
      "metadata": {},
      "source": [
        "much like `+\u233fforecast` and `+/[1]forecast` are the same:"
      ]
    },
    {
      "cell_type": "code",
      "execution_count": 83,
      "metadata": {},
      "outputs": [
        {
          "data": {
            "text/html": [
              "<span style=\"white-space:pre; font-family: monospace\">1\n",
              "</span>"
            ]
          },
          "execution_count": 83,
          "metadata": {},
          "output_type": "execute_result"
        }
      ],
      "source": [
        "(+\u233fforecast)\u2261(+/[1]forecast)"
      ]
    },
    {
      "cell_type": "markdown",
      "metadata": {},
      "source": [
        "```{admonition} Note \n",
        ":class: note\n",
        "If one specifies an axis after the symbol `/` or `\u233f`, the function is applied along the specified _axis_, regardless of the symbol that is actually used.\n",
        "```\n",
        "\n",
        "We demonstrate this with two examples:"
      ]
    },
    {
      "cell_type": "code",
      "execution_count": 84,
      "metadata": {},
      "outputs": [
        {
          "data": {
            "text/html": [
              "<span style=\"white-space:pre; font-family: monospace\">1\n",
              "</span>"
            ]
          },
          "execution_count": 84,
          "metadata": {},
          "output_type": "execute_result"
        }
      ],
      "source": [
        "(+\u233f[3]prod)\u2261(+/[3]prod)"
      ]
    },
    {
      "cell_type": "code",
      "execution_count": 85,
      "metadata": {
        "scrolled": true
      },
      "outputs": [
        {
          "data": {
            "text/html": [
              "<span style=\"white-space:pre; font-family: monospace\">1\n",
              "</span>"
            ]
          },
          "execution_count": 85,
          "metadata": {},
          "output_type": "execute_result"
        }
      ],
      "source": [
        "(+\u233f[1]forecast)\u2261(+/[1]forecast)"
      ]
    },
    {
      "cell_type": "markdown",
      "metadata": {},
      "source": [
        "(Some-Primitive-Functions-Our-First-Program)=\n",
        "## Our First Program\n",
        "\n",
        "The expression we wrote in {numref}`Some-Primitive-Functions-Application-2` to calculate the average of a set of values is one that we may want to use time and time again. So let us store it as a program, or, to use the proper APL terminology, as a _user-defined function_.\n",
        "\n",
        "There are many different ways to define functions, and these will be covered in detail in [the \"User-Defined Functions\" chapter](./User-Defined-Functions.ipynb). For now we shall use the simplest, which is perfectly suitable for straightforward calculation functions like this one. Let's type:"
      ]
    },
    {
      "cell_type": "code",
      "execution_count": 119,
      "metadata": {},
      "outputs": [],
      "source": [
        "Average \u2190 {(+/\u2375)\u00f7(\u2262\u2375)}"
      ]
    },
    {
      "cell_type": "markdown",
      "metadata": {},
      "source": [
        " - `Average` is the name of the function. It is followed by the definition, delimited by a pair of curly braces `{` and `}`;\n",
        " - `\u2375` is a generic symbol that represents the array that will be passed as the right argument of the function; and\n",
        " - `\u237a` is a generic symbol that represents the array that will be passed as the left argument of the function, if any.\n",
        " \n",
        "The symbols `\u2375` and `\u237a` are obtained using <kbd>APL</kbd>+<kbd>w</kbd> and <kbd>APL</kbd>+<kbd>a</kbd>, respectively.\n",
        "\n",
        "For more complex multi-line functions it is obviously more appropriate to use a text editor. However, this is beyond the scope of this chapter.\n",
        "\n",
        "Once defined, this function may be invoked directly, just as if it were a built-in (*primitive*) function:"
      ]
    },
    {
      "cell_type": "code",
      "execution_count": 120,
      "metadata": {},
      "outputs": [
        {
          "data": {
            "text/html": [
              "<span style=\"white-space:pre; font-family: monospace\">2415.69\n",
              "</span>"
            ]
          },
          "execution_count": 120,
          "metadata": {},
          "output_type": "execute_result"
        }
      ],
      "source": [
        "Average salaries"
      ]
    },
    {
      "cell_type": "code",
      "execution_count": 121,
      "metadata": {},
      "outputs": [
        {
          "data": {
            "text/html": [
              "<span style=\"white-space:pre; font-family: monospace\">41.25\n",
              "</span>"
            ]
          },
          "execution_count": 121,
          "metadata": {},
          "output_type": "execute_result"
        }
      ],
      "source": [
        "Average 12 74 56 23"
      ]
    },
    {
      "cell_type": "markdown",
      "metadata": {},
      "source": [
        "The word `Average` can now be used in any APL expression. We have enriched the vocabulary which can be used to process data in this workspace (provided that we save it).\n",
        "\n",
        "Be patient: we shall see many other possibilities in [the \"User-Defined Functions\" chapter](./User-Defined-Functions.ipynb)."
      ]
    },
    {
      "cell_type": "markdown",
      "metadata": {},
      "source": [
        "(Some-Primitive-Functions-Catenate)=\n",
        "## Catenate\n",
        "\n",
        "_Catenate_ is a dyadic function which joins two arrays together and it is represented by the comma (`,`). The function is sometimes referred to as _concatenate_, and people with programming experience in other programming languages generally recognise that name better."
      ]
    },
    {
      "cell_type": "markdown",
      "metadata": {},
      "source": [
        "(Some-Primitive-Functions-Catenating-Vectors)=\n",
        "### Catenating Vectors\n",
        "\n",
        "*Catenate* is easy to understand:"
      ]
    },
    {
      "cell_type": "code",
      "execution_count": 122,
      "metadata": {},
      "outputs": [
        {
          "data": {
            "text/html": [
              "<span style=\"white-space:pre; font-family: monospace\">24 15 67 89 11 33 75\n",
              "</span>"
            ]
          },
          "execution_count": 122,
          "metadata": {},
          "output_type": "execute_result"
        }
      ],
      "source": [
        "X \u2190 24 15 67 89\n",
        "Y \u2190 11 33 75\n",
        "X,Y"
      ]
    },
    {
      "cell_type": "markdown",
      "metadata": {},
      "source": [
        "It is like joining two sentences together, so it is easy to remember which symbol to use. You can see that the length of the result (`\u2262(X,Y)`) is equal to the sum of the lengths of the arguments (`(\u2262X) + (\u2262Y)`):"
      ]
    },
    {
      "cell_type": "code",
      "execution_count": 123,
      "metadata": {},
      "outputs": [
        {
          "data": {
            "text/html": [
              "<span style=\"white-space:pre; font-family: monospace\">1\n",
              "</span>"
            ]
          },
          "execution_count": 123,
          "metadata": {},
          "output_type": "execute_result"
        }
      ],
      "source": [
        "((\u2262X)+(\u2262Y))=\u2262X,Y"
      ]
    },
    {
      "cell_type": "markdown",
      "metadata": {},
      "source": [
        "Character strings are processed in the same way:"
      ]
    },
    {
      "cell_type": "code",
      "execution_count": 124,
      "metadata": {},
      "outputs": [
        {
          "data": {
            "text/html": [
              "<span style=\"white-space:pre; font-family: monospace\">Tell meMore\n",
              "</span>"
            ]
          },
          "execution_count": 124,
          "metadata": {},
          "output_type": "execute_result"
        }
      ],
      "source": [
        "C \u2190 'Tell me'\n",
        "D \u2190 'More'\n",
        "C,D"
      ]
    },
    {
      "cell_type": "markdown",
      "metadata": {},
      "source": [
        "Note that there is no space inserted between the contents of the two vectors, just like there was no number inserted between `X` and `Y` when we catenated them above. When we catenate a vector of 7 characters (like `C`) with a vector of 4 characters (like `D`), the result must have 11 characters.\n",
        "\n",
        "When you catenate an empty vector to another vector, the result is the same as the original. Let us define an empty numeric vector `v`:"
      ]
    },
    {
      "cell_type": "code",
      "execution_count": 1,
      "metadata": {},
      "outputs": [
        {
          "data": {
            "text/html": [
              "<span style=\"white-space:pre; font-family: monospace\">\n",
              "</span>"
            ]
          },
          "execution_count": 1,
          "metadata": {},
          "output_type": "execute_result"
        }
      ],
      "source": [
        "\u22a2v \u2190 0\u23740"
      ]
    },
    {
      "cell_type": "markdown",
      "metadata": {},
      "source": [
        "(We could have used `\u236c` instead.)\n",
        "\n",
        "Notice how the numeric vector `X` remains unchanged when catenated with `v`:"
      ]
    },
    {
      "cell_type": "code",
      "execution_count": 126,
      "metadata": {},
      "outputs": [
        {
          "data": {
            "text/html": [
              "<span style=\"white-space:pre; font-family: monospace\">24 15 67 89\n",
              "</span>"
            ]
          },
          "execution_count": 126,
          "metadata": {},
          "output_type": "execute_result"
        }
      ],
      "source": [
        "X,v"
      ]
    },
    {
      "cell_type": "markdown",
      "metadata": {},
      "source": [
        "Similarly, catenating character strings with `''` does nothing:"
      ]
    },
    {
      "cell_type": "code",
      "execution_count": 127,
      "metadata": {},
      "outputs": [
        {
          "data": {
            "text/html": [
              "<span style=\"white-space:pre; font-family: monospace\">Tell meMore\n",
              "</span>"
            ]
          },
          "execution_count": 127,
          "metadata": {},
          "output_type": "execute_result"
        }
      ],
      "source": [
        "C,'',D"
      ]
    },
    {
      "cell_type": "markdown",
      "metadata": {},
      "source": [
        "(Some-Primitive-Functions-Catenating-Other-Arrays)=\n",
        "### Catenating Other Arrays\n",
        "\n",
        "It is possible to catenate two arrays if their shapes are compatible. The axis along which the catenation is to be performed must be specified, if it is different from the default.\n",
        "\n",
        "Let us use three matrices `A`, `B` and `C`:"
      ]
    },
    {
      "cell_type": "code",
      "execution_count": 2,
      "metadata": {},
      "outputs": [
        {
          "data": {
            "text/html": [
              "<span style=\"white-space:pre; font-family: monospace\">AAAA\n",
              "AAAA\n",
              "AAAA\n",
              "</span>"
            ]
          },
          "execution_count": 2,
          "metadata": {},
          "output_type": "execute_result"
        }
      ],
      "source": [
        "\u22a2A \u2190 3 4 \u2374 'A'"
      ]
    },
    {
      "cell_type": "code",
      "execution_count": 3,
      "metadata": {},
      "outputs": [
        {
          "data": {
            "text/html": [
              "<span style=\"white-space:pre; font-family: monospace\">BBBB\n",
              "BBBB\n",
              "</span>"
            ]
          },
          "execution_count": 3,
          "metadata": {},
          "output_type": "execute_result"
        }
      ],
      "source": [
        "\u22a2B \u2190 2 4 \u2374 'B'"
      ]
    },
    {
      "cell_type": "code",
      "execution_count": 130,
      "metadata": {},
      "outputs": [
        {
          "data": {
            "text/html": [
              "<span style=\"white-space:pre; font-family: monospace\">CCC\n",
              "CCC\n",
              "CCC\n",
              "</span>"
            ]
          },
          "execution_count": 130,
          "metadata": {},
          "output_type": "execute_result"
        }
      ],
      "source": [
        "\u22a2C \u2190 3 3 \u2374 'C'"
      ]
    },
    {
      "cell_type": "markdown",
      "metadata": {},
      "source": [
        "The possible catenations are:\n",
        "\n",
        " - the vertical catenation of `A` and `B`; and\n",
        "\n",
        "(fig-Vertical_Catenation_AB)=\n",
        "```{figure} ../res/Vertical_Catenation_AB.png\n",
        "---\n",
        "name: Vertical_Catenation_AB\n",
        "---\n",
        "Matrices `A` and `B` catenated together vertically.\n",
        "```\n",
        "\n",
        " - the horizontal catenation of `A` and `C`.\n",
        " \n",
        "(fig-Horizontal_Catenation_AC)=\n",
        "```{figure} ../res/Horizontal_Catenation_AC.png\n",
        "---\n",
        "name: Horizontal_Catenation_AC\n",
        "---\n",
        "Matrices `A` and `C` catenated together horizontally.\n",
        "```\n",
        "\n",
        "It is not possible to catenate `B` and `C` because none of their dimensions are compatible.\n",
        "\n",
        "To catenate vertically, we want the two matrices to be stacked on top of each other, creating a matrix with more *rows*, i.e. we want to create a matrix with a larger 1st dimension:"
      ]
    },
    {
      "cell_type": "code",
      "execution_count": 131,
      "metadata": {},
      "outputs": [
        {
          "data": {
            "text/html": [
              "<span style=\"white-space:pre; font-family: monospace\">AAAA\n",
              "AAAA\n",
              "AAAA\n",
              "BBBB\n",
              "BBBB\n",
              "</span>"
            ]
          },
          "execution_count": 131,
          "metadata": {},
          "output_type": "execute_result"
        }
      ],
      "source": [
        "A,[1]B"
      ]
    },
    {
      "cell_type": "markdown",
      "metadata": {},
      "source": [
        "The shape of the result is"
      ]
    },
    {
      "cell_type": "code",
      "execution_count": 132,
      "metadata": {},
      "outputs": [
        {
          "data": {
            "text/html": [
              "<span style=\"white-space:pre; font-family: monospace\">5 4\n",
              "</span>"
            ]
          },
          "execution_count": 132,
          "metadata": {},
          "output_type": "execute_result"
        }
      ],
      "source": [
        "\u2374A,[1]B"
      ]
    },
    {
      "cell_type": "markdown",
      "metadata": {},
      "source": [
        "and writing"
      ]
    },
    {
      "cell_type": "code",
      "execution_count": 133,
      "metadata": {},
      "outputs": [
        {
          "data": {
            "text/html": [
              "<span style=\"white-space:pre; font-family: monospace\">BBBB\n",
              "BBBB\n",
              "AAAA\n",
              "AAAA\n",
              "AAAA\n",
              "</span>"
            ]
          },
          "execution_count": 133,
          "metadata": {},
          "output_type": "execute_result"
        }
      ],
      "source": [
        "B,[1]A"
      ]
    },
    {
      "cell_type": "markdown",
      "metadata": {},
      "source": [
        "puts `B` on top of `A` instead.\n",
        "\n",
        "Similarly, to stack matrices `A` and `C` horizontally we create a matrix where the 2nd dimension is larger:"
      ]
    },
    {
      "cell_type": "code",
      "execution_count": 134,
      "metadata": {},
      "outputs": [
        {
          "data": {
            "text/html": [
              "<span style=\"white-space:pre; font-family: monospace\">AAAACCC\n",
              "AAAACCC\n",
              "AAAACCC\n",
              "</span>"
            ]
          },
          "execution_count": 134,
          "metadata": {},
          "output_type": "execute_result"
        }
      ],
      "source": [
        "A,[2]C"
      ]
    },
    {
      "cell_type": "markdown",
      "metadata": {},
      "source": [
        "The shape of the result is"
      ]
    },
    {
      "cell_type": "code",
      "execution_count": 135,
      "metadata": {},
      "outputs": [
        {
          "data": {
            "text/html": [
              "<span style=\"white-space:pre; font-family: monospace\">3 7\n",
              "</span>"
            ]
          },
          "execution_count": 135,
          "metadata": {},
          "output_type": "execute_result"
        }
      ],
      "source": [
        "\u2374A,[2]C"
      ]
    },
    {
      "cell_type": "markdown",
      "metadata": {},
      "source": [
        "and writing"
      ]
    },
    {
      "cell_type": "code",
      "execution_count": 136,
      "metadata": {},
      "outputs": [
        {
          "data": {
            "text/html": [
              "<span style=\"white-space:pre; font-family: monospace\">CCCAAAA\n",
              "CCCAAAA\n",
              "CCCAAAA\n",
              "</span>"
            ]
          },
          "execution_count": 136,
          "metadata": {},
          "output_type": "execute_result"
        }
      ],
      "source": [
        "C,[2]A"
      ]
    },
    {
      "cell_type": "markdown",
      "metadata": {},
      "source": [
        "puts `C` to the left of `A` instead.\n",
        "\n",
        "In the same way as for _reduce_, the _axis_ operator indicates which dimension will change during the operation, as we can see by inspecting the shapes of `A`, `B`, `C` and the stacked matrices:"
      ]
    },
    {
      "cell_type": "code",
      "execution_count": 4,
      "metadata": {},
      "outputs": [
        {
          "data": {
            "text/html": [
              "<span style=\"white-space:pre; font-family: monospace\">3 4\n",
              "</span>"
            ]
          },
          "execution_count": 4,
          "metadata": {},
          "output_type": "execute_result"
        }
      ],
      "source": [
        "\u2374A"
      ]
    },
    {
      "cell_type": "code",
      "execution_count": 5,
      "metadata": {},
      "outputs": [
        {
          "data": {
            "text/html": [
              "<span style=\"white-space:pre; font-family: monospace\">2 4\n",
              "</span>"
            ]
          },
          "execution_count": 5,
          "metadata": {},
          "output_type": "execute_result"
        }
      ],
      "source": [
        "\u2374B"
      ]
    },
    {
      "cell_type": "code",
      "execution_count": 6,
      "metadata": {},
      "outputs": [
        {
          "data": {
            "text/html": [
              "<span style=\"white-space:pre; font-family: monospace\">5 4\n",
              "</span>"
            ]
          },
          "execution_count": 6,
          "metadata": {},
          "output_type": "execute_result"
        }
      ],
      "source": [
        "\u2374A,[1]B"
      ]
    },
    {
      "cell_type": "markdown",
      "metadata": {},
      "source": [
        "Using `,[1]`changes the 1st dimension. Using `,[2]` instead, we change the 2nd dimension:"
      ]
    },
    {
      "cell_type": "code",
      "execution_count": 137,
      "metadata": {},
      "outputs": [
        {
          "data": {
            "text/html": [
              "<span style=\"white-space:pre; font-family: monospace\">3 4\n",
              "</span>"
            ]
          },
          "execution_count": 137,
          "metadata": {},
          "output_type": "execute_result"
        }
      ],
      "source": [
        "\u2374A"
      ]
    },
    {
      "cell_type": "code",
      "execution_count": 138,
      "metadata": {},
      "outputs": [
        {
          "data": {
            "text/html": [
              "<span style=\"white-space:pre; font-family: monospace\">3 3\n",
              "</span>"
            ]
          },
          "execution_count": 138,
          "metadata": {},
          "output_type": "execute_result"
        }
      ],
      "source": [
        "\u2374C"
      ]
    },
    {
      "cell_type": "code",
      "execution_count": 139,
      "metadata": {},
      "outputs": [
        {
          "data": {
            "text/html": [
              "<span style=\"white-space:pre; font-family: monospace\">3 7\n",
              "</span>"
            ]
          },
          "execution_count": 139,
          "metadata": {},
          "output_type": "execute_result"
        }
      ],
      "source": [
        "\u2374A,[2]C"
      ]
    },
    {
      "cell_type": "markdown",
      "metadata": {},
      "source": [
        "The following nested array shows the four possible different catenations side by side:"
      ]
    },
    {
      "cell_type": "code",
      "execution_count": 140,
      "metadata": {},
      "outputs": [
        {
          "data": {
            "text/html": [
              "<span style=\"white-space:pre; font-family: monospace\">\u250c\u2500\u2500\u2500\u2500\u252c\u2500\u2500\u2500\u2500\u252c\u2500\u2500\u2500\u2500\u2500\u2500\u2500\u252c\u2500\u2500\u2500\u2500\u2500\u2500\u2500\u2510\n",
              "\u2502AAAA\u2502BBBB\u2502AAAACCC\u2502CCCAAAA\u2502\n",
              "\u2502AAAA\u2502BBBB\u2502AAAACCC\u2502CCCAAAA\u2502\n",
              "\u2502AAAA\u2502AAAA\u2502AAAACCC\u2502CCCAAAA\u2502\n",
              "\u2502BBBB\u2502AAAA\u2502       \u2502       \u2502\n",
              "\u2502BBBB\u2502AAAA\u2502       \u2502       \u2502\n",
              "\u2514\u2500\u2500\u2500\u2500\u2534\u2500\u2500\u2500\u2500\u2534\u2500\u2500\u2500\u2500\u2500\u2500\u2500\u2534\u2500\u2500\u2500\u2500\u2500\u2500\u2500\u2518\n",
              "</span>"
            ]
          },
          "execution_count": 140,
          "metadata": {},
          "output_type": "execute_result"
        }
      ],
      "source": [
        "(A,[1]B) (B,[1]A) (A,[2]C) (C,[2]A)"
      ]
    },
    {
      "cell_type": "markdown",
      "metadata": {},
      "source": [
        "```{admonition} Rule \n",
        ":class: tip\n",
        "It is possible to _catenate_ two arrays `A` and `B` along a given dimension provided that they have the same rank, and provided that all other dimensions have the same lengths.\n",
        "\n",
        "The operation is written as `A,[i]B` if we wish to catenate along the ith dimension.\n",
        "\n",
        "It is also possible to _catenate_ an array `A` of rank $n$ to another array `B` of rank $n-1$. The catenation **must** then be done along a dimension of `A` such that its other dimensions are strictly identical to those of `B`.\n",
        "```\n",
        "\n",
        "For example, it is possible to concatenate a vector to a matrix, provided that the vector has the same length as the corresponding dimension of the matrix:"
      ]
    },
    {
      "cell_type": "code",
      "execution_count": 112,
      "metadata": {},
      "outputs": [
        {
          "data": {
            "text/html": [
              "<span style=\"white-space:pre; font-family: monospace\">AAAA\n",
              "AAAA\n",
              "AAAA\n",
              "JUMP\n",
              "</span>"
            ]
          },
          "execution_count": 112,
          "metadata": {},
          "output_type": "execute_result"
        }
      ],
      "source": [
        "A,[1]'JUMP'"
      ]
    },
    {
      "cell_type": "code",
      "execution_count": 113,
      "metadata": {},
      "outputs": [
        {
          "data": {
            "text/html": [
              "<span style=\"white-space:pre; font-family: monospace\">AAAAT\n",
              "AAAAO\n",
              "AAAAP\n",
              "</span>"
            ]
          },
          "execution_count": 113,
          "metadata": {},
          "output_type": "execute_result"
        }
      ],
      "source": [
        "A,[2]'TOP'"
      ]
    },
    {
      "cell_type": "markdown",
      "metadata": {},
      "source": [
        "In the first example, `'JUMP'` has length 4 and the shape of `A` is `3 4`, so we can see `'JUMP'` as having shape `1 4` and so we **must** catenate along `[1]`. The shape of the result is"
      ]
    },
    {
      "cell_type": "code",
      "execution_count": 114,
      "metadata": {},
      "outputs": [
        {
          "data": {
            "text/html": [
              "<span style=\"white-space:pre; font-family: monospace\">4 4\n",
              "</span>"
            ]
          },
          "execution_count": 114,
          "metadata": {},
          "output_type": "execute_result"
        }
      ],
      "source": [
        "\u2374A,[1]'JUMP'"
      ]
    },
    {
      "cell_type": "markdown",
      "metadata": {},
      "source": [
        "and we see it was the 1st dimension that changed.\n",
        "\n",
        "In the second example, `'TOP'` has length 3 and the shape of `A` is `3 4`, so we can see `'TOP'` as having shape `3 1` and so we **must** catenate along `[2]`. The shape of the result is"
      ]
    },
    {
      "cell_type": "code",
      "execution_count": 115,
      "metadata": {},
      "outputs": [
        {
          "data": {
            "text/html": [
              "<span style=\"white-space:pre; font-family: monospace\">3 5\n",
              "</span>"
            ]
          },
          "execution_count": 115,
          "metadata": {},
          "output_type": "execute_result"
        }
      ],
      "source": [
        "\u2374A,[2]'TOP'"
      ]
    },
    {
      "cell_type": "markdown",
      "metadata": {},
      "source": [
        "and we see it was the 2nd dimension that changed.\n",
        "\n",
        "```{admonition} Example \n",
        ":class: tip\n",
        "We can add a row of totals to the bottom of a matrix `Y` with an expression like `Y,[1] (+/[1]Y)`:\n",
        "```\n"
      ]
    },
    {
      "cell_type": "code",
      "execution_count": 141,
      "metadata": {},
      "outputs": [
        {
          "data": {
            "text/html": [
              "<span style=\"white-space:pre; font-family: monospace\"> 90  160  420  500   20   30\n",
              "110  450  170  370  290  360\n",
              "340  190  320  120  510  370\n",
              "150  460  240  520  490  280\n",
              "690 1260 1150 1510 1310 1040\n",
              "</span>"
            ]
          },
          "execution_count": 141,
          "metadata": {},
          "output_type": "execute_result"
        }
      ],
      "source": [
        "forecast,[1] (+/[1]forecast)"
      ]
    },
    {
      "cell_type": "markdown",
      "metadata": {},
      "source": [
        "The parentheses are for ease of interpretation; they are not necessary.\n",
        "\n",
        "In a similar way, it is possible to concatenate a matrix to a 3D array.\n",
        "\n",
        "```{admonition} Example \n",
        ":class: tip\n",
        "We would like to append to `prod` (a 3D array) the production of a subcontractor, organised as an array of 5 years and 12 months.\n",
        "```\n"
      ]
    },
    {
      "cell_type": "code",
      "execution_count": 142,
      "metadata": {},
      "outputs": [
        {
          "data": {
            "text/html": [
              "<span style=\"white-space:pre; font-family: monospace\"> 9 16 10 18  2  3 11 13 17  5  4  2\n",
              "19 12 19  5 15 14 20 17  4  9  5 13\n",
              " 4 16  7  2 14 20 15 17 18 13  6 19\n",
              "10  6 20 13  5 19  5 10 17 16 19 20\n",
              "18 14 15 15  3  7  9 20  6  8  8 17\n",
              "</span>"
            ]
          },
          "execution_count": 142,
          "metadata": {},
          "output_type": "execute_result"
        }
      ],
      "source": [
        "\u2395RL \u2190 73\n",
        "\u22a2subcon \u2190 ?5 12\u237420"
      ]
    },
    {
      "cell_type": "markdown",
      "metadata": {},
      "source": [
        "The shape of `subcon` is"
      ]
    },
    {
      "cell_type": "code",
      "execution_count": 143,
      "metadata": {},
      "outputs": [
        {
          "data": {
            "text/html": [
              "<span style=\"white-space:pre; font-family: monospace\">5 12\n",
              "</span>"
            ]
          },
          "execution_count": 143,
          "metadata": {},
          "output_type": "execute_result"
        }
      ],
      "source": [
        "\u2374subcon"
      ]
    },
    {
      "cell_type": "markdown",
      "metadata": {},
      "source": [
        "and the shape of `prod` is"
      ]
    },
    {
      "cell_type": "code",
      "execution_count": 144,
      "metadata": {},
      "outputs": [
        {
          "data": {
            "text/html": [
              "<span style=\"white-space:pre; font-family: monospace\">5 2 12\n",
              "</span>"
            ]
          },
          "execution_count": 144,
          "metadata": {},
          "output_type": "execute_result"
        }
      ],
      "source": [
        "\u2374prod"
      ]
    },
    {
      "cell_type": "markdown",
      "metadata": {},
      "source": [
        "The two **must** be catenated along the 2nd dimension of `prod` and the result will have the shape"
      ]
    },
    {
      "cell_type": "code",
      "execution_count": 145,
      "metadata": {},
      "outputs": [
        {
          "data": {
            "text/html": [
              "<span style=\"white-space:pre; font-family: monospace\">5 3 12\n",
              "</span>"
            ]
          },
          "execution_count": 145,
          "metadata": {},
          "output_type": "execute_result"
        }
      ],
      "source": [
        "\u2374prod,[2]subcon"
      ]
    },
    {
      "cell_type": "markdown",
      "metadata": {},
      "source": [
        "You see, it is as if `subcon` had the length 1 along the catenation dimension (the missing one), i.e. it as if `subcon` had shape `5 1 12`."
      ]
    },
    {
      "cell_type": "code",
      "execution_count": 146,
      "metadata": {},
      "outputs": [
        {
          "data": {
            "text/html": [
              "<span style=\"white-space:pre; font-family: monospace\"> 9 16 42 50  2  3 11 45 17 37 29 36\n",
              "34 19 32 12 37 15 46 24 49 28 36  9\n",
              " 9 16 10 18  2  3 11 13 17  5  4  2\n",
              "                                   \n",
              "29  5 45 23 27  4 23 16 39 22 22  2\n",
              "46 20 47 17 18 25 13 38 42 38 45 28\n",
              "19 12 19  5 15 14 20 17  4  9  5 13\n",
              "                                   \n",
              "37 19  5 10 30 49 16 18 46 47 47  3\n",
              "39 23 41 20  6 40 21 22 40 49 20  1\n",
              " 4 16  7  2 14 20 15 17 18 13  6 19\n",
              "                                   \n",
              "13 36 12 40 12 15 24 20 21 12 19 25\n",
              " 8 48 22 37 33  1 39 30 50 50  8 35\n",
              "10  6 20 13  5 19  5 10 17 16 19 20\n",
              "                                   \n",
              "38 31 24 40 23  7 20 34 35  6 19 27\n",
              "41  1 14 50 17 42  6 35 12 48 30 29\n",
              "18 14 15 15  3  7  9 20  6  8  8 17\n",
              "</span>"
            ]
          },
          "execution_count": 146,
          "metadata": {},
          "output_type": "execute_result"
        }
      ],
      "source": [
        "prod,[2]subcon"
      ]
    },
    {
      "cell_type": "markdown",
      "metadata": {},
      "source": [
        "(Some-Primitive-Functions-Catenating-Scalars)=\n",
        "### Catenating Scalars\n",
        "\n",
        "When a scalar is catenated to an array it is repeated as many times as necessary to match the length of the appropriate dimension of the array.\n",
        "\n",
        "Here are two examples, using the matrix `A` from before:"
      ]
    },
    {
      "cell_type": "code",
      "execution_count": 147,
      "metadata": {},
      "outputs": [
        {
          "data": {
            "text/html": [
              "<span style=\"white-space:pre; font-family: monospace\">AAAA\n",
              "AAAA\n",
              "AAAA\n",
              "----\n",
              "</span>"
            ]
          },
          "execution_count": 147,
          "metadata": {},
          "output_type": "execute_result"
        }
      ],
      "source": [
        "A,[1]'-'"
      ]
    },
    {
      "cell_type": "code",
      "execution_count": 148,
      "metadata": {},
      "outputs": [
        {
          "data": {
            "text/html": [
              "<span style=\"white-space:pre; font-family: monospace\">AAAA*\n",
              "AAAA*\n",
              "AAAA*\n",
              "</span>"
            ]
          },
          "execution_count": 148,
          "metadata": {},
          "output_type": "execute_result"
        }
      ],
      "source": [
        "A,[2]'*'"
      ]
    },
    {
      "cell_type": "markdown",
      "metadata": {},
      "source": [
        "This property is very useful, because it saves us working out how many items are needed to match the corresponding dimension of the array.\n",
        "\n",
        "We can also catenate two scalars. The result is of course a 2-item vector:"
      ]
    },
    {
      "cell_type": "code",
      "execution_count": 149,
      "metadata": {},
      "outputs": [
        {
          "data": {
            "text/html": [
              "<span style=\"white-space:pre; font-family: monospace\">7 9\n",
              "</span>"
            ]
          },
          "execution_count": 149,
          "metadata": {},
          "output_type": "execute_result"
        }
      ],
      "source": [
        "7,9"
      ]
    },
    {
      "cell_type": "markdown",
      "metadata": {},
      "source": [
        "(Some-Primitive-Functions-Special-Cases-and-Notations)=\n",
        "### Special Cases and Notations\n",
        "\n",
        "By default, if no axis is specified, catenation works along the last dimension of the array(s).\n",
        "\n",
        "So"
      ]
    },
    {
      "cell_type": "code",
      "execution_count": 224,
      "metadata": {},
      "outputs": [
        {
          "data": {
            "text/html": [
              "<span style=\"white-space:pre; font-family: monospace\">AAAACCC\n",
              "AAAACCC\n",
              "AAAACCC\n",
              "</span>"
            ]
          },
          "execution_count": 224,
          "metadata": {},
          "output_type": "execute_result"
        }
      ],
      "source": [
        "A,C"
      ]
    },
    {
      "cell_type": "markdown",
      "metadata": {},
      "source": [
        "is equivalent to"
      ]
    },
    {
      "cell_type": "code",
      "execution_count": 225,
      "metadata": {},
      "outputs": [
        {
          "data": {
            "text/html": [
              "<span style=\"white-space:pre; font-family: monospace\">AAAACCC\n",
              "AAAACCC\n",
              "AAAACCC\n",
              "</span>"
            ]
          },
          "execution_count": 225,
          "metadata": {},
          "output_type": "execute_result"
        }
      ],
      "source": [
        "A,[2]C"
      ]
    },
    {
      "cell_type": "code",
      "execution_count": 226,
      "metadata": {},
      "outputs": [
        {
          "data": {
            "text/html": [
              "<span style=\"white-space:pre; font-family: monospace\">1\n",
              "</span>"
            ]
          },
          "execution_count": 226,
          "metadata": {},
          "output_type": "execute_result"
        }
      ],
      "source": [
        "(A,C)\u2261(A,[2]C)"
      ]
    },
    {
      "cell_type": "markdown",
      "metadata": {},
      "source": [
        "APL also includes a special symbol that means \"catenate along the **first** dimension\"; this symbol is a comma topped by a minus sign: `\u236a`. It can be obtained by <kbd>APL</kbd>+<kbd>Shift</kbd>+<kbd>,</kbd>."
      ]
    },
    {
      "cell_type": "markdown",
      "metadata": {},
      "source": [
        "So"
      ]
    },
    {
      "cell_type": "code",
      "execution_count": 150,
      "metadata": {},
      "outputs": [
        {
          "data": {
            "text/html": [
              "<span style=\"white-space:pre; font-family: monospace\">AAAA\n",
              "AAAA\n",
              "AAAA\n",
              "BBBB\n",
              "BBBB\n",
              "</span>"
            ]
          },
          "execution_count": 150,
          "metadata": {},
          "output_type": "execute_result"
        }
      ],
      "source": [
        "A\u236aB"
      ]
    },
    {
      "cell_type": "markdown",
      "metadata": {},
      "source": [
        "is equivalent to"
      ]
    },
    {
      "cell_type": "code",
      "execution_count": 151,
      "metadata": {},
      "outputs": [
        {
          "data": {
            "text/html": [
              "<span style=\"white-space:pre; font-family: monospace\">AAAA\n",
              "AAAA\n",
              "AAAA\n",
              "BBBB\n",
              "BBBB\n",
              "</span>"
            ]
          },
          "execution_count": 151,
          "metadata": {},
          "output_type": "execute_result"
        }
      ],
      "source": [
        "A,[1]B"
      ]
    },
    {
      "cell_type": "code",
      "execution_count": 152,
      "metadata": {},
      "outputs": [
        {
          "data": {
            "text/html": [
              "<span style=\"white-space:pre; font-family: monospace\">1\n",
              "</span>"
            ]
          },
          "execution_count": 152,
          "metadata": {},
          "output_type": "execute_result"
        }
      ],
      "source": [
        "(A\u236aB)\u2261(A,[1]B)"
      ]
    },
    {
      "cell_type": "markdown",
      "metadata": {},
      "source": [
        "```{admonition} Note \n",
        ":class: note\n",
        "If an axis is specified, the operation is processed according to the axis specification, regardless of the symbol (`,` or `\u236a`) that is actually used.\n",
        "```\n",
        "\n",
        "This means `A,[2]C` and `A\u236a[2]C` are both equivalent to `A,C` and `A,[1]B` and `A\u236a[1]B` are both equivalent to `A\u236aB`."
      ]
    },
    {
      "cell_type": "markdown",
      "metadata": {},
      "source": [
        "(Some-Primitive-Functions-Dyalog-Idioms-and-Idiomatic-Phrases)=\n",
        "### Dyalog Idioms and Idiomatic Phrases\n",
        "\n",
        "It is common to see _catenate_ used in conjunction with _reduce_, as `,/`. Let us start by understanding what it does:"
      ]
    },
    {
      "cell_type": "code",
      "execution_count": 230,
      "metadata": {},
      "outputs": [
        {
          "data": {
            "text/html": [
              "<span style=\"white-space:pre; font-family: monospace\">\u250c\u2500\u252c\u2500\u2500\u2500\u252c\u2500\u2500\u2500\u2500\u2500\u252c\u2500\u2500\u2500\u2500\u2500\u2500\u2500\u2510\n",
              "\u25020\u25021 2\u25023 4 5\u25026 7 8 9\u2502\n",
              "\u2514\u2500\u2534\u2500\u2500\u2500\u2534\u2500\u2500\u2500\u2500\u2500\u2534\u2500\u2500\u2500\u2500\u2500\u2500\u2500\u2518\n",
              "</span>"
            ]
          },
          "execution_count": 230,
          "metadata": {},
          "output_type": "execute_result"
        }
      ],
      "source": [
        "0 (1 2) (3 4 5) (6 7 8 9)"
      ]
    },
    {
      "cell_type": "code",
      "execution_count": 231,
      "metadata": {
        "scrolled": true
      },
      "outputs": [
        {
          "data": {
            "text/html": [
              "<span style=\"white-space:pre; font-family: monospace\">\u250c\u2500\u2500\u2500\u2500\u2500\u2500\u2500\u2500\u2500\u2500\u2500\u2500\u2500\u2500\u2500\u2500\u2500\u2500\u2500\u2510\n",
              "\u25020 1 2 3 4 5 6 7 8 9\u2502\n",
              "\u2514\u2500\u2500\u2500\u2500\u2500\u2500\u2500\u2500\u2500\u2500\u2500\u2500\u2500\u2500\u2500\u2500\u2500\u2500\u2500\u2518\n",
              "</span>"
            ]
          },
          "execution_count": 231,
          "metadata": {},
          "output_type": "execute_result"
        }
      ],
      "source": [
        ",/0 (1 2) (3 4 5) (6 7 8 9)"
      ]
    },
    {
      "cell_type": "code",
      "execution_count": 232,
      "metadata": {},
      "outputs": [
        {
          "data": {
            "text/html": [
              "<span style=\"white-space:pre; font-family: monospace\">\u250c\u2500\u252c\u2500\u2500\u2500\u252c\u2500\u2500\u2500\u2500\u2500\u2510\n",
              "\u2502a\u2502bcd\u2502efghi\u2502\n",
              "\u2514\u2500\u2534\u2500\u2500\u2500\u2534\u2500\u2500\u2500\u2500\u2500\u2518\n",
              "</span>"
            ]
          },
          "execution_count": 232,
          "metadata": {},
          "output_type": "execute_result"
        }
      ],
      "source": [
        "'a' 'bcd' 'efghi'"
      ]
    },
    {
      "cell_type": "code",
      "execution_count": 233,
      "metadata": {},
      "outputs": [
        {
          "data": {
            "text/html": [
              "<span style=\"white-space:pre; font-family: monospace\">\u250c\u2500\u2500\u2500\u2500\u2500\u2500\u2500\u2500\u2500\u2510\n",
              "\u2502abcdefghi\u2502\n",
              "\u2514\u2500\u2500\u2500\u2500\u2500\u2500\u2500\u2500\u2500\u2518\n",
              "</span>"
            ]
          },
          "execution_count": 233,
          "metadata": {},
          "output_type": "execute_result"
        }
      ],
      "source": [
        ",/ 'a' 'bcd' 'efghi'"
      ]
    },
    {
      "cell_type": "markdown",
      "metadata": {},
      "source": [
        "We can see above that _reduce by catenate_ joins all items of a vector together. Using `,/` is so common that you will get used to looking at `,/` and reading it as _join_, instead of _reduce by catenate_. Like `,/`, there are many expressions which can be understood as an entity at first sight (with some practice!).\n",
        "\n",
        "For someone who knows nothing of APL the expression above may take a bit of time to digest (even if they have an extensive knowledge of other programming languages), and they cannot readily appreciate that an APL programmer can understand it immediately, without having to read each of the symbols one by one.\n",
        "\n",
        "This is not a paradox. For young children, reading the word \"Daddy\" is complex. It requires the comprehension of a sequence of letters one-by-one. I presume that you no longer do that, do you? **You do not read the letters**; you understand **the word** as a whole. This is exactly the same for the above idiomatic phrase.\n",
        "\n",
        "These common combinations of primitives are usually termed as _idioms_ or _idiomatic phrases_. We prefer the latter denomination to avoid any confusion with Dyalog APL's _idiom recognition_. [APLcart](https://aplcart.info/) is a very comprehensive online collection of such idiomatic phrases, although not all entries in APLcart are idiomatic phrases. It is also noteworthy that there is no objective criteria to determine if a combination of primitives is an idiomatic phrase or not: it depends on your skill, experience, and even the context you are working on.\n",
        "\n",
        "Some idiomatic phrases are so common and useful that Dyalog APL introduced a special _idiom recognition_ feature that speeds up the processing of APL code for many popular phrases. Both RIDE and the Windows IDE even have the capability of colouring these differently. For Dyalog APL, an _idiom_ is like a \"shortcut primitive\" that replaces a sequence of consecutive primitives. This replacement will allow for a speed up of the code in which it shows up.\n",
        "\n",
        "For example, we have been using a short idiom fairly often: `\u2262\u2374` (or `\u2374\u2374` in Ancient times) computes the rank of an array. Because `\u2262\u2374` is recognised by Dyalog APL's idiom recognition feature, the interpreter doesn't need to process two instructions:\n",
        "\n",
        "  1. find shape of right argument;\n",
        "  1. return tally of elements of right argument.\n",
        " \n",
        "Instead, it processes a single instruction:\n",
        "\n",
        "  1. find rank of right argument,\n",
        "\n",
        "which can be computed by a faster method than the 2 separate steps above."
      ]
    },
    {
      "cell_type": "markdown",
      "metadata": {},
      "source": [
        "(Some-Primitive-Functions-Replicate)=\n",
        "## Replicate\n",
        "\n",
        "(Some-Primitive-Functions-Basic-Approach-Compress)=\n",
        "### Basic Approach: Compress\n",
        "\n",
        "To extract scattered values from a vector, we can use indexing:"
      ]
    },
    {
      "cell_type": "code",
      "execution_count": 122,
      "metadata": {},
      "outputs": [
        {
          "data": {
            "text/html": [
              "<span style=\"white-space:pre; font-family: monospace\">85 96 82\n",
              "</span>"
            ]
          },
          "execution_count": 122,
          "metadata": {},
          "output_type": "execute_result"
        }
      ],
      "source": [
        "contents[5 6 11]"
      ]
    },
    {
      "cell_type": "markdown",
      "metadata": {},
      "source": [
        "We can also use a new function named _compress_. It takes a Boolean vector as its left argument, and any array of appropriate shape as its right argument. The items of the right argument which match the 1s in the left argument are preserved, whereas those which match the 0s are removed. It acts like a mask or a filter:"
      ]
    },
    {
      "cell_type": "code",
      "execution_count": 235,
      "metadata": {},
      "outputs": [
        {
          "data": {
            "text/html": [
              "<span style=\"white-space:pre; font-family: monospace\">15 79\n",
              "</span>"
            ]
          },
          "execution_count": 235,
          "metadata": {},
          "output_type": "execute_result"
        }
      ],
      "source": [
        "0 1 1 0 / 42 15 79 66"
      ]
    },
    {
      "cell_type": "code",
      "execution_count": 236,
      "metadata": {},
      "outputs": [
        {
          "data": {
            "text/html": [
              "<span style=\"white-space:pre; font-family: monospace\">Duck\n",
              "</span>"
            ]
          },
          "execution_count": 236,
          "metadata": {},
          "output_type": "execute_result"
        }
      ],
      "source": [
        "1 0 1 0 0 0 0 1 1 / 'Drumstick'"
      ]
    },
    {
      "cell_type": "markdown",
      "metadata": {},
      "source": [
        "This is extremely useful, because we can use _compress_ to select items which match a given condition.\n",
        "\n",
        "For example, let us extract from `contents` the values which are greater than 80.\n",
        "\n",
        "The Boolean vector for the left argument is obtained by `contents>80`, and the selection is made by:"
      ]
    },
    {
      "cell_type": "code",
      "execution_count": 123,
      "metadata": {},
      "outputs": [
        {
          "data": {
            "text/html": [
              "<span style=\"white-space:pre; font-family: monospace\">85 96 82\n",
              "</span>"
            ]
          },
          "execution_count": 123,
          "metadata": {},
          "output_type": "execute_result"
        }
      ],
      "source": [
        "(contents>80) / contents"
      ]
    },
    {
      "cell_type": "markdown",
      "metadata": {},
      "source": [
        "Of course, the same operation can be applied to any array of any dimension. For higher dimensional arrays, we can use the _axis_ to specify along which axis to compress. For example, if we have a matrix of chemical formulas:"
      ]
    },
    {
      "cell_type": "code",
      "execution_count": 154,
      "metadata": {},
      "outputs": [
        {
          "data": {
            "text/html": [
              "<span style=\"white-space:pre; font-family: monospace\">H2SO4\n",
              "CaCO3\n",
              "Fe2O3\n",
              "</span>"
            ]
          },
          "execution_count": 154,
          "metadata": {},
          "output_type": "execute_result"
        }
      ],
      "source": [
        "\u22a2chemistry \u2190 3 5\u2374'H2SO4CaCO3Fe2O3'"
      ]
    },
    {
      "cell_type": "code",
      "execution_count": 155,
      "metadata": {},
      "outputs": [
        {
          "data": {
            "text/html": [
              "<span style=\"white-space:pre; font-family: monospace\">H2SO4\n",
              "Fe2O3\n",
              "</span>"
            ]
          },
          "execution_count": 155,
          "metadata": {},
          "output_type": "execute_result"
        }
      ],
      "source": [
        "1 0 1 /[1] chemistry"
      ]
    },
    {
      "cell_type": "markdown",
      "metadata": {},
      "source": [
        "By using `/[1]` we are compressing the 1st dimension of `chemistry`, hence selecting two rows, corresponding to the two 1s in the vector on the left."
      ]
    },
    {
      "cell_type": "code",
      "execution_count": 156,
      "metadata": {},
      "outputs": [
        {
          "data": {
            "text/html": [
              "<span style=\"white-space:pre; font-family: monospace\">H2O\n",
              "CaO\n",
              "FeO\n",
              "</span>"
            ]
          },
          "execution_count": 156,
          "metadata": {},
          "output_type": "execute_result"
        }
      ],
      "source": [
        "1 1 0 1 0 /[2] chemistry"
      ]
    },
    {
      "cell_type": "markdown",
      "metadata": {},
      "source": [
        "If we use `/[2]` we are compressing the 2nd dimension of `chemistry`, hence selecting three columns. In this example columns 3 and 5 have been removed.\n",
        "\n",
        "*Compress* is an excellent tool which allows you to:\n",
        "\n",
        " - extract some useful items from a variable; or\n",
        " - remove some unwanted items from a variable, which is the same thing.\n",
        " \n",
        "```{admonition} Tip \n",
        ":class: tip\n",
        "Every time you obtain a Boolean vector, you should immediately think of two major things you can do with it: *count* or *select*.\n",
        "```\n",
        "\n",
        "For example, using `contents`, we can produce a Boolean vector that shows which items are smaller than 50:"
      ]
    },
    {
      "cell_type": "code",
      "execution_count": 158,
      "metadata": {},
      "outputs": [],
      "source": [
        "bin \u2190 contents < 50"
      ]
    },
    {
      "cell_type": "markdown",
      "metadata": {},
      "source": [
        "Then, we can:\n",
        "\n",
        " - count the items that are smaller than 50:"
      ]
    },
    {
      "cell_type": "code",
      "execution_count": 159,
      "metadata": {},
      "outputs": [
        {
          "data": {
            "text/html": [
              "<span style=\"white-space:pre; font-family: monospace\">5\n",
              "</span>"
            ]
          },
          "execution_count": 159,
          "metadata": {},
          "output_type": "execute_result"
        }
      ],
      "source": [
        "+/ bin"
      ]
    },
    {
      "cell_type": "markdown",
      "metadata": {},
      "source": [
        " - select (or extract) said items:"
      ]
    },
    {
      "cell_type": "code",
      "execution_count": 160,
      "metadata": {},
      "outputs": [
        {
          "data": {
            "text/html": [
              "<span style=\"white-space:pre; font-family: monospace\">12 30 22 44 27\n",
              "</span>"
            ]
          },
          "execution_count": 160,
          "metadata": {},
          "output_type": "execute_result"
        }
      ],
      "source": [
        "bin / contents"
      ]
    },
    {
      "cell_type": "markdown",
      "metadata": {},
      "source": [
        "```{admonition} Hint \n",
        ":class: hint\n",
        "Programmers who are new to APL and who are familiar with indexing as the natural selection mechanism may be tempted to use the Boolean selection vector to create some indices, and then use the indices to select the desired items.\n",
        "```\n",
        "\n",
        "This works very well, for example:"
      ]
    },
    {
      "cell_type": "code",
      "execution_count": 161,
      "metadata": {},
      "outputs": [
        {
          "data": {
            "text/html": [
              "<span style=\"white-space:pre; font-family: monospace\">12 30 22 44 27\n",
              "</span>"
            ]
          },
          "execution_count": 161,
          "metadata": {},
          "output_type": "execute_result"
        }
      ],
      "source": [
        "ix \u2190 bin / \u2373\u2262contents\n",
        "contents[ix]"
      ]
    },
    {
      "cell_type": "markdown",
      "metadata": {},
      "source": [
        "However, this is an unnecessary complication that wastes memory and processing time, compared to the straightforward selection shown above."
      ]
    },
    {
      "cell_type": "markdown",
      "metadata": {},
      "source": [
        "(Some-Primitive-Functions-General-Case-Replicate)=\n",
        "### General Case: Replicate\n",
        "\n",
        "In fact, _compress_ is just a special case of a more comprehensive function named _replicate_. Its left argument can be any vector of integer values, each of which produces the following result:\n",
        "\n",
        "| Signum of the left item | Effect on the corresponding right item |\n",
        "| :-: | :- |\n",
        "| `1` | item is replicated the number of times specified by the left item |\n",
        "| `0` | item is suppressed |\n",
        "| `\u00af1` | item is replaced by as many _fill items_ as is indicated by the left item |\n",
        "\n",
        "The concept of a _fill item_ is new and will be discussed in full in [the \"Nested Arrays\" chapter](./Nested-Arrays-Continued.ipynb). For now, you only need to know that the _fill item_ for a simple numeric array is 0 and the _fill item_ for a simple character array is a blank space.\n",
        "\n",
        "Here are some examples, using the same left argument applied to numeric and character vectors:"
      ]
    },
    {
      "cell_type": "code",
      "execution_count": 162,
      "metadata": {},
      "outputs": [
        {
          "data": {
            "text/html": [
              "<span style=\"white-space:pre; font-family: monospace\">15 79 79 79\n",
              "</span>"
            ]
          },
          "execution_count": 162,
          "metadata": {},
          "output_type": "execute_result"
        }
      ],
      "source": [
        "0 1 3 0 / 42 15 79 66"
      ]
    },
    {
      "cell_type": "markdown",
      "metadata": {},
      "source": [
        "42 and 66 have been removed, as their corresponding left items were 0. 15 was replicated 1 time and 79 was replicated 3 times, as indicated by their corresponding left items."
      ]
    },
    {
      "cell_type": "code",
      "execution_count": 163,
      "metadata": {},
      "outputs": [
        {
          "data": {
            "text/html": [
              "<span style=\"white-space:pre; font-family: monospace\">oaaa\n",
              "</span>"
            ]
          },
          "execution_count": 163,
          "metadata": {},
          "output_type": "execute_result"
        }
      ],
      "source": [
        "0 1 3 0 / 'boat'"
      ]
    },
    {
      "cell_type": "code",
      "execution_count": 164,
      "metadata": {},
      "outputs": [
        {
          "data": {
            "text/html": [
              "<span style=\"white-space:pre; font-family: monospace\">42 42 0 0 0 79\n",
              "</span>"
            ]
          },
          "execution_count": 164,
          "metadata": {},
          "output_type": "execute_result"
        }
      ],
      "source": [
        "2 \u00af3 1 0 / 42 15 79 66"
      ]
    },
    {
      "cell_type": "markdown",
      "metadata": {},
      "source": [
        "For the example above, 15 has been replaced by 3 zeroes because the fill item for simple numeric arrays is a zero."
      ]
    },
    {
      "cell_type": "code",
      "execution_count": 165,
      "metadata": {},
      "outputs": [
        {
          "data": {
            "text/html": [
              "<span style=\"white-space:pre; font-family: monospace\">bb   a\n",
              "</span>"
            ]
          },
          "execution_count": 165,
          "metadata": {},
          "output_type": "execute_result"
        }
      ],
      "source": [
        "2 \u00af3 1 0 / 'boat'"
      ]
    },
    {
      "cell_type": "markdown",
      "metadata": {},
      "source": [
        "For this example, the letter \"o\" was replaced by 3 blank spaces because the fill item for simple numeric arrays is \" \"."
      ]
    },
    {
      "cell_type": "markdown",
      "metadata": {},
      "source": [
        "(Some-Primitive-Functions-Scalar-Left-Argument)=\n",
        "### Scalar Left Argument\n",
        "\n",
        "If the left argument of _compress_ or _replicate_ is a scalar, it applies to all the items of the right argument.\n",
        "\n",
        "When the left argument is 1, all the items are retained:"
      ]
    },
    {
      "cell_type": "code",
      "execution_count": 166,
      "metadata": {},
      "outputs": [
        {
          "data": {
            "text/html": [
              "<span style=\"white-space:pre; font-family: monospace\">Phew\n",
              "</span>"
            ]
          },
          "execution_count": 166,
          "metadata": {},
          "output_type": "execute_result"
        }
      ],
      "source": [
        "v \u2190 'Phew'\n",
        "1/v"
      ]
    },
    {
      "cell_type": "markdown",
      "metadata": {},
      "source": [
        "When the left argument is a positive integer, all items are replicated that number of times:"
      ]
    },
    {
      "cell_type": "code",
      "execution_count": 172,
      "metadata": {},
      "outputs": [
        {
          "data": {
            "text/html": [
              "<span style=\"white-space:pre; font-family: monospace\">PPPhhheeewww\n",
              "</span>"
            ]
          },
          "execution_count": 172,
          "metadata": {},
          "output_type": "execute_result"
        }
      ],
      "source": [
        "3/v"
      ]
    },
    {
      "cell_type": "markdown",
      "metadata": {},
      "source": [
        "When the left argument is 0, no item is replicated and we get an empty vector:"
      ]
    },
    {
      "cell_type": "code",
      "execution_count": 173,
      "metadata": {},
      "outputs": [
        {
          "data": {
            "text/html": [
              "<span style=\"white-space:pre; font-family: monospace\">\n",
              "</span>"
            ]
          },
          "execution_count": 173,
          "metadata": {},
          "output_type": "execute_result"
        }
      ],
      "source": [
        "0/v"
      ]
    },
    {
      "cell_type": "code",
      "execution_count": 174,
      "metadata": {},
      "outputs": [
        {
          "data": {
            "text/html": [
              "<span style=\"white-space:pre; font-family: monospace\">1\n",
              "</span>"
            ]
          },
          "execution_count": 174,
          "metadata": {},
          "output_type": "execute_result"
        }
      ],
      "source": [
        "''\u22610/v"
      ]
    },
    {
      "cell_type": "markdown",
      "metadata": {},
      "source": [
        "As you can see above, when we use 0 as the left argument to _replicate_ we get an empty vector. Because `v` was a simple *character* vector, we get an empty *character* vector.\n",
        "\n",
        "Finally, when the left argument is a negative integer, all items are replaced by the fill item as many times as the magnitude of the left argument indicates:"
      ]
    },
    {
      "cell_type": "code",
      "execution_count": 175,
      "metadata": {},
      "outputs": [
        {
          "data": {
            "text/html": [
              "<span style=\"white-space:pre; font-family: monospace\">            \n",
              "</span>"
            ]
          },
          "execution_count": 175,
          "metadata": {},
          "output_type": "execute_result"
        }
      ],
      "source": [
        "\u00af3/v"
      ]
    },
    {
      "cell_type": "markdown",
      "metadata": {},
      "source": [
        "Visually, we can't distinguish this case from `0/v` because blank spaces aren't visible, but there are `3\u00d74` of them:"
      ]
    },
    {
      "cell_type": "code",
      "execution_count": 1,
      "metadata": {},
      "outputs": [
        {
          "name": "stderr",
          "output_type": "stream",
          "text": [
            "VALUE ERROR: Undefined name: v\n",
            "      \u2262\u00af3/v\n",
            "          \u2227\n"
          ]
        }
      ],
      "source": [
        "\u2262\u00af3/v"
      ]
    },
    {
      "cell_type": "markdown",
      "metadata": {},
      "source": [
        "Replacing `v` with a simple numeric vector should help clear any doubts about what is happening:"
      ]
    },
    {
      "cell_type": "code",
      "execution_count": 180,
      "metadata": {},
      "outputs": [
        {
          "data": {
            "text/html": [
              "<span style=\"white-space:pre; font-family: monospace\">0 0 0 0 0 0 0 0 0 0 0 0\n",
              "</span>"
            ]
          },
          "execution_count": 180,
          "metadata": {},
          "output_type": "execute_result"
        }
      ],
      "source": [
        "\u00af3/1 2 3 4"
      ]
    },
    {
      "cell_type": "markdown",
      "metadata": {},
      "source": [
        "(Some-Primitive-Functions-Replicate-with-Axis)=\n",
        "### Replicate with Axis\n",
        "\n",
        "Like _reduce_ and _catenate_, _replicate_ works along the last dimension of an array by default. However, it is possible for it to work on any dimension by using the _axis_. It is also possible to use `\u233f`, which we have already seen, to work on the first dimension by default.\n",
        "\n",
        "For example,"
      ]
    },
    {
      "cell_type": "code",
      "execution_count": 181,
      "metadata": {},
      "outputs": [
        {
          "data": {
            "text/html": [
              "<span style=\"white-space:pre; font-family: monospace\">CaCO3\n",
              "</span>"
            ]
          },
          "execution_count": 181,
          "metadata": {},
          "output_type": "execute_result"
        }
      ],
      "source": [
        "0 1 0 \u233f chemistry"
      ]
    },
    {
      "cell_type": "markdown",
      "metadata": {},
      "source": [
        "which is equivalent to"
      ]
    },
    {
      "cell_type": "code",
      "execution_count": 182,
      "metadata": {},
      "outputs": [
        {
          "data": {
            "text/html": [
              "<span style=\"white-space:pre; font-family: monospace\">CaCO3\n",
              "</span>"
            ]
          },
          "execution_count": 182,
          "metadata": {},
          "output_type": "execute_result"
        }
      ],
      "source": [
        "0 1 0 /[1] chemistry"
      ]
    },
    {
      "cell_type": "markdown",
      "metadata": {},
      "source": [
        "Beware, the result obtained this way is **not** a vector, but a matrix having only one row:"
      ]
    },
    {
      "cell_type": "code",
      "execution_count": 183,
      "metadata": {},
      "outputs": [
        {
          "data": {
            "text/html": [
              "<span style=\"white-space:pre; font-family: monospace\">1 5\n",
              "</span>"
            ]
          },
          "execution_count": 183,
          "metadata": {},
          "output_type": "execute_result"
        }
      ],
      "source": [
        "\u23740 1 0\u233fchemistry"
      ]
    },
    {
      "cell_type": "markdown",
      "metadata": {},
      "source": [
        "You must not confuse _reduce_ and _replicate_: even if the symbol used is the same, they are completely different operations:\n",
        "\n",
        " - _reduce_ takes a function as its left operand; it is a monadic *operator* (e.g. `+/ contents`); whereas\n",
        " - _replicate_ takes a vector as its left argument and an array as its right argument; it is a dyadic *function* (e.g. `vec/ contents`)."
      ]
    },
    {
      "cell_type": "markdown",
      "metadata": {},
      "source": [
        "(Some-Primitive-Functions-Position-Index-Of)=\n",
        "## Position (Index Of)\n",
        "\n",
        "(Some-Primitive-Functions-Discovery)=\n",
        "### Discovery\n",
        "\n",
        "It is very often necessary to locate the positions of particular values in a list of items. To solve this, APL has a special function named _index of_, represented by the Greek letter _iota_ (`\u2373`). This symbol can be obtained by <kbd>Ctrl</kbd>+<kbd>i</kbd> (the initial letter of _iota_). Let us see how it works:"
      ]
    },
    {
      "cell_type": "code",
      "execution_count": 2,
      "metadata": {},
      "outputs": [
        {
          "data": {
            "text/html": [
              "<span style=\"white-space:pre; font-family: monospace\">4 9 3 12 1\n",
              "</span>"
            ]
          },
          "execution_count": 2,
          "metadata": {},
          "output_type": "execute_result"
        }
      ],
      "source": [
        "vec \u2190 15 42 53 19 46 53 82 17 14 53 24\n",
        "vec \u2373 19 14 53 49 15"
      ]
    },
    {
      "cell_type": "markdown",
      "metadata": {},
      "source": [
        "Above we asked for the positions of five values (19, 14, 53, 49 and 15) and naturally we obtain five answers:\n",
        "\n",
        " - the result tells us that 19, 14 and 15 appear in positions 4, 9 and 1 respectively;\n",
        "\n",
        " - the result also tells us that 53 appears in position 3. This is of course true, but it also appears in positions 6 and 10, which are not included in the result. This is a necessary restriction: if we had searched for five values and obtained seven results, it would not have been possible to say where each value appears. This is the reason why _index of_ returns _only the first_ occurrence of each value; and\n",
        " \n",
        "(We shall see later that this is an advantage: if instead we need to find all the positions in which a value occurs, there is another function that we can use - see {numref}`Some-Primitive-Functions-Application-4` below).\n",
        "\n",
        " - surprisingly, the result tells us that 49 appears in position 12, though `vec` has only 11 items! This is the way that _index of_ indicates a missing value. We shall see that it is a great advantage, too.\n",
        " \n",
        "The following rule explains how dyadic Iota works when the left argument is a vector:\n",
        "\n",
        "```{admonition} Rule \n",
        ":class: tip\n",
        "In the expression `r \u2190 haystack \u2373 needles` we look for the `needles` in the `haystack`, and\n",
        "\n",
        "- `haystack` can be a vector of any type: numeric, character, mixed, nested;\n",
        "\n",
        "- `needles` can be any array (any type, any shape, any rank);\n",
        "\n",
        "- `r` will have the same rank and shape as `needles`;\n",
        "\n",
        "- the items of `r` contain the positions of the first occurrence of the corresponding items of `needles` in `haystack`;\n",
        "\n",
        "- items which do not appear in `haystack` give the result `1+\u2262haystack`.\n",
        "```\n"
      ]
    },
    {
      "cell_type": "code",
      "execution_count": 184,
      "metadata": {},
      "outputs": [
        {
          "data": {
            "text/html": [
              "<span style=\"white-space:pre; font-family: monospace\">4\n",
              "</span>"
            ]
          },
          "execution_count": 184,
          "metadata": {},
          "output_type": "execute_result"
        }
      ],
      "source": [
        "'ABC' \u2373 57"
      ]
    },
    {
      "cell_type": "markdown",
      "metadata": {},
      "source": [
        "A number cannot occur in a 3-item character vector, so the result is 4."
      ]
    },
    {
      "cell_type": "code",
      "execution_count": 185,
      "metadata": {},
      "outputs": [
        {
          "data": {
            "text/html": [
              "<span style=\"white-space:pre; font-family: monospace\">3 3 3\n",
              "</span>"
            ]
          },
          "execution_count": 185,
          "metadata": {},
          "output_type": "execute_result"
        }
      ],
      "source": [
        "4 8 \u2373 '4 8'"
      ]
    },
    {
      "cell_type": "markdown",
      "metadata": {},
      "source": [
        "Similarly, characters cannot appear in a 2-item numeric vector, so each character results in a 3."
      ]
    },
    {
      "cell_type": "code",
      "execution_count": 186,
      "metadata": {},
      "outputs": [
        {
          "data": {
            "text/html": [
              "<span style=\"white-space:pre; font-family: monospace\">8 30 19 15 32\n",
              "3 38  3 15 31\n",
              "6 38 30 15 31\n",
              "</span>"
            ]
          },
          "execution_count": 186,
          "metadata": {},
          "output_type": "execute_result"
        }
      ],
      "source": [
        "alpha \u2190 'ABCDEFGHIJKLMNOPQRSTUVWXYZ 0123456789'\n",
        "alpha \u2373 chemistry"
      ]
    },
    {
      "cell_type": "markdown",
      "metadata": {},
      "source": [
        "The two lower case letters in `chemistry` give the answer 38 because `alpha` has 37 items. Also notice how the shape of `chemistry` and `alpha \u2373 chemistry` is the same, like the rule above specified."
      ]
    },
    {
      "cell_type": "code",
      "execution_count": 187,
      "metadata": {},
      "outputs": [
        {
          "data": {
            "text/html": [
              "<span style=\"white-space:pre; font-family: monospace\">1\n",
              "</span>"
            ]
          },
          "execution_count": 187,
          "metadata": {},
          "output_type": "execute_result"
        }
      ],
      "source": [
        "(\u2374chemistry)\u2261(\u2374alpha\u2373chemistry)"
      ]
    },
    {
      "cell_type": "markdown",
      "metadata": {},
      "source": [
        "We can also use nested vectors:"
      ]
    },
    {
      "cell_type": "code",
      "execution_count": 188,
      "metadata": {},
      "outputs": [
        {
          "data": {
            "text/html": [
              "<span style=\"white-space:pre; font-family: monospace\">4 4 2 1 4\n",
              "</span>"
            ]
          },
          "execution_count": 188,
          "metadata": {},
          "output_type": "execute_result"
        }
      ],
      "source": [
        "'Tee' (3 7) 'Golf' \u2373 3 7 (3 7) 'Tee' 'Green'"
      ]
    },
    {
      "cell_type": "markdown",
      "metadata": {},
      "source": [
        "The function _index of_ is one of the most important primitive functions in APL. It is very flexible and it can be used in many situations, as shown in the following examples.\n",
        "\n",
        "```{admonition} Warning \n",
        ":class: warning\n",
        "In the expression `A\u2373B` we search for `B` in `A` whereas in `A\u220aB` we search for `A` in `B`. Do not be confused!\n",
        "```\n"
      ]
    },
    {
      "cell_type": "markdown",
      "metadata": {},
      "source": [
        "(Some-Primitive-Functions-Application-3)=\n",
        "### Application 3\n",
        "\n",
        "A car manufacturer decided that they will offer their customers a discount on the catalogue price. The country has been split into 100 geographical areas, and the discount rate will depend on the geographic area according to the following table:\n",
        "\n",
        "| Area | Discount |\n",
        "| :-: | :-: |\n",
        "| 17 | 9% |\n",
        "| 50 | 8% |\n",
        "| 59 | 6% |\n",
        "| 84 | 5% |\n",
        "| 89 | 4% |\n",
        "| Others | 2% |\n",
        "\n",
        "which we save to two vectors:"
      ]
    },
    {
      "cell_type": "code",
      "execution_count": 189,
      "metadata": {},
      "outputs": [],
      "source": [
        "area \u2190 17 50 59 84 89\n",
        "discount \u2190 9 8 6 5 4 2"
      ]
    },
    {
      "cell_type": "markdown",
      "metadata": {},
      "source": [
        "The first task is to calculate the discount rate to be claimed for a potential customer who lives in area `d`; for example"
      ]
    },
    {
      "cell_type": "code",
      "execution_count": 190,
      "metadata": {},
      "outputs": [],
      "source": [
        "d \u2190 84"
      ]
    },
    {
      "cell_type": "markdown",
      "metadata": {},
      "source": [
        "Let us see if 84 is in the list of favoured areas:"
      ]
    },
    {
      "cell_type": "code",
      "execution_count": 191,
      "metadata": {},
      "outputs": [
        {
          "data": {
            "text/html": [
              "<span style=\"white-space:pre; font-family: monospace\">4\n",
              "</span>"
            ]
          },
          "execution_count": 191,
          "metadata": {},
          "output_type": "execute_result"
        }
      ],
      "source": [
        "area \u2373 d"
      ]
    },
    {
      "cell_type": "markdown",
      "metadata": {},
      "source": [
        "We can see that 84 is the 4th item in the list.\n",
        "\n",
        "Let us find the current discount rate for this index position:"
      ]
    },
    {
      "cell_type": "code",
      "execution_count": 192,
      "metadata": {},
      "outputs": [
        {
          "data": {
            "text/html": [
              "<span style=\"white-space:pre; font-family: monospace\">5\n",
              "</span>"
            ]
          },
          "execution_count": 192,
          "metadata": {},
          "output_type": "execute_result"
        }
      ],
      "source": [
        "discount[4]"
      ]
    },
    {
      "cell_type": "markdown",
      "metadata": {},
      "source": [
        "This customer can claim a 5% discount.\n",
        "\n",
        "We could simply write"
      ]
    },
    {
      "cell_type": "code",
      "execution_count": 193,
      "metadata": {},
      "outputs": [
        {
          "data": {
            "text/html": [
              "<span style=\"white-space:pre; font-family: monospace\">5\n",
              "</span>"
            ]
          },
          "execution_count": 193,
          "metadata": {},
          "output_type": "execute_result"
        }
      ],
      "source": [
        "discount[area\u2373d]"
      ]
    },
    {
      "cell_type": "markdown",
      "metadata": {},
      "source": [
        "Now, what if a customer lives in any other area, such as 75, 45 or 93?\n",
        "\n",
        "The expression `area\u2373d` will return the result `6` for all these area codes, because these values are absent from `area`. Then, `discount[6]` will always find the rate 2%, as specified. Here we can see that it is an advantage that _index of_ returns 1 + the number of items in the vector to be searched.\n",
        "\n",
        "```{admonition} A Vector Solution \n",
        ":class: note\n",
        "The importance of this approach to finding the discount rates is that it is vector-based. If publicity attracts crowds and therefore `d` is no longer a scalar but a vector, the solution is still valid.\n",
        "```\n",
        "\n",
        "As an example, consider the following vector of area codes and the respective discount rates:"
      ]
    },
    {
      "cell_type": "code",
      "execution_count": 144,
      "metadata": {},
      "outputs": [
        {
          "data": {
            "text/html": [
              "<span style=\"white-space:pre; font-family: monospace\">2 2 4 2 2 8 2 8 5 2 9 4\n",
              "</span>"
            ]
          },
          "execution_count": 144,
          "metadata": {},
          "output_type": "execute_result"
        }
      ],
      "source": [
        "d \u2190 24 75 89 60 92 50 51 50 84 66 17 89\n",
        "discount[area\u2373d]"
      ]
    },
    {
      "cell_type": "markdown",
      "metadata": {},
      "source": [
        "We have achieved all this without a function, neither a \"loop\" nor a \"test\". And it works for any number of areas. Readers who know other programming languages will probably appreciate the simplicity of this approach."
      ]
    },
    {
      "cell_type": "markdown",
      "metadata": {},
      "source": [
        "(Some-Primitive-Functions-Changing-The-Frame-of-Reference)=\n",
        "#### Changing The Frame of Reference\n",
        "\n",
        "In reality, the expression that we have just written is an example of an algorithm for \"*changing the frame of reference*\". Don't panic, this term may seem esoteric, but the concept is simple: a list of area numbers (the initial set) is translated into a list of discount rates (the final set). The algorithm comprises only the function _index of_ and indexing:\n",
        "\n",
        "```{admonition} Algorithm \n",
        ":class: algorithm\n",
        "`r \u2190 finalSet[initialSet \u2373 values]`\n",
        "```\n",
        "\n",
        "Let us imagine the initial set to be an alphabet composed of both lowercase and uppercase letters, and the final set to be composed of only uppercase letters, with a blank space in the middle:"
      ]
    },
    {
      "cell_type": "code",
      "execution_count": 194,
      "metadata": {},
      "outputs": [],
      "source": [
        "alphLower \u2190 'abcdefghijklmnopqrstuvwxyz ABCDEFGHIJKLMNOPQRSTUVWXYZ'\n",
        "alphUpper \u2190 'ABCDEFGHIJKLMNOPQRSTUVWXYZ ABCDEFGHIJKLMNOPQRSTUVWXYZ*'"
      ]
    },
    {
      "cell_type": "markdown",
      "metadata": {},
      "source": [
        "Now, let us write a sentence; we will write it in French in order to show what happens with missing characters:"
      ]
    },
    {
      "cell_type": "code",
      "execution_count": 195,
      "metadata": {},
      "outputs": [],
      "source": [
        "tale \u2190 'Le Petit Chaperon-Rouge a bouff\u00e9 le Loup'"
      ]
    },
    {
      "cell_type": "markdown",
      "metadata": {},
      "source": [
        "If we apply the algorithm seen above, the expression will convert the text from lower to upper case:"
      ]
    },
    {
      "cell_type": "code",
      "execution_count": 196,
      "metadata": {},
      "outputs": [
        {
          "data": {
            "text/html": [
              "<span style=\"white-space:pre; font-family: monospace\">LE PETIT CHAPERON*ROUGE A BOUFF* LE LOUP\n",
              "</span>"
            ]
          },
          "execution_count": 196,
          "metadata": {},
          "output_type": "execute_result"
        }
      ],
      "source": [
        "alphUpper[alphLower\u2373tale]"
      ]
    },
    {
      "cell_type": "markdown",
      "metadata": {},
      "source": [
        "As one might expect, the characters `'-'` and `'\u00e9'`, which are absent from the initial alphabetic set, have been replaced by the `'*'`, the \"extra\" character at the end of the final set. This works because once again the final set is one item longer than the initial set.\n",
        "\n",
        "Once more, the logical steps needed to solve the problem are easily translated into a programming solution, and the programmer can thereby direct all his attention to solving the problem."
      ]
    },
    {
      "cell_type": "markdown",
      "metadata": {},
      "source": [
        "(Some-Primitive-Functions-General-Case)=\n",
        "### General Case\n",
        "\n",
        "The left argument to _index of_ need not be a vector. In fact, in the expression `haystack \u2373 needles`, `haystack` can be an array of any rank, type and shape, as long as it is _not_ a scalar. However, `needles` must have a shape that is appropriate for the `haystack` you use.\n",
        "\n",
        "We will see what this means by using a 3D `haystack` as an example:"
      ]
    },
    {
      "cell_type": "code",
      "execution_count": 3,
      "metadata": {},
      "outputs": [
        {
          "data": {
            "text/html": [
              "<span style=\"white-space:pre; font-family: monospace\">1 2 3 4\n",
              "5 6 7 8\n",
              "9 0 1 2\n",
              "       \n",
              "3 4 5 6\n",
              "7 8 9 0\n",
              "1 2 3 4\n",
              "</span>"
            ]
          },
          "execution_count": 3,
          "metadata": {},
          "output_type": "execute_result"
        }
      ],
      "source": [
        "\u22a2haystack \u2190 2 3 4\u23741 2 3 4 5 6 7 8 9 0"
      ]
    },
    {
      "cell_type": "markdown",
      "metadata": {},
      "source": [
        "When _index of_ is used, the first thing Dyalog APL does is look at its left argument and try to figure out what is the shape of the things contained in the `haystack`. For that matter, we first inspect the shape of the `haystack`"
      ]
    },
    {
      "cell_type": "code",
      "execution_count": 198,
      "metadata": {},
      "outputs": [
        {
          "data": {
            "text/html": [
              "<span style=\"white-space:pre; font-family: monospace\">2 3 4\n",
              "</span>"
            ]
          },
          "execution_count": 198,
          "metadata": {},
          "output_type": "execute_result"
        }
      ],
      "source": [
        "\u2374haystack"
      ]
    },
    {
      "cell_type": "markdown",
      "metadata": {},
      "source": [
        "and interpret it as\n",
        "\n",
        " > \"*`haystack` contains 2 items of shape `3 4`*\"\n",
        " \n",
        "which means we can look for needles with shape `3 4` inside the `haystack`. Therefore, for `needles` to be seen as \"*containing items of shape `3 4`*\" its shape must also end in `3 4`. Whatever precedes the final `3 4` in the shape of `needles` is what dictates the shape of the final result.\n",
        "\n",
        "If the shape of `needles` is too short for it to match the shape of the items the `haystack` contains, we get a `RANK ERROR` because `needles` doesn't have enough dimensions.\n",
        "\n",
        "Similarly, if the shape of `needles` is long enough but its trailing dimensions don't match those of the left argument, we get a `LENGTH ERROR` because the things we are comparing have different lengths along their dimensions.\n",
        "\n",
        "In the table below we give examples of some `haystack` and `needles` shapes, along with the shape of the items that `\u2373` thinks `haystack` contains and the shape of the result `r \u2190 haystack \u2373 needles` (remember that `\u236c` is the shape of a scalar):\n",
        "\n",
        "| `\u2374haystack` | `\u2374needles` must end with | `\u2374needles` | `\u2374r` |\n",
        "| :- | :- | :- | :- |\n",
        "| `2 3 4` | `3 4` | `3 4` | `\u236c` |\n",
        "| | | `3 1 3 4` | `3 1` |\n",
        "| | | `3 1 4 4` | `LENGTH ERROR` |\n",
        "| | | `1 2 3 3 4` | `1 2 3` |\n",
        "| | | `3` | `RANK ERROR` |\n",
        "| `6 2` | `2` | `4 2` | `4` |\n",
        "| | | `2` | `\u236c` |\n",
        "| | | `3` | `LENGTH ERROR` |\n",
        "| `5` | `\u236c` | `1 2 3` | `1 2 3` |\n",
        "| | | `1 3` | `1 3` |\n",
        "| | | `5` | `5` |\n",
        "| | | `\u236c` | `\u236c` |\n",
        "\n",
        "As a practical example, if we take the `haystack` we defined above, we can look for 3 by 4 matrices in there. Our `needles` variable has 4 such matrices:"
      ]
    },
    {
      "cell_type": "code",
      "execution_count": 199,
      "metadata": {},
      "outputs": [
        {
          "data": {
            "text/html": [
              "<span style=\"white-space:pre; font-family: monospace\">1 2 3 4\n",
              "5 6 7 8\n",
              "9 0 1 2\n",
              "       \n",
              "3 4 5 6\n",
              "7 8 9 0\n",
              "1 2 3 4\n",
              "       \n",
              "5 6 7 8\n",
              "9 0 1 2\n",
              "3 4 5 6\n",
              "       \n",
              "7 8 9 0\n",
              "1 2 3 4\n",
              "5 6 7 8\n",
              "</span>"
            ]
          },
          "execution_count": 199,
          "metadata": {},
          "output_type": "execute_result"
        }
      ],
      "source": [
        "\u22a2needles \u2190 4 3 4\u23741 2 3 4 5 6 7 8 9 0"
      ]
    },
    {
      "cell_type": "code",
      "execution_count": 200,
      "metadata": {},
      "outputs": [
        {
          "data": {
            "text/html": [
              "<span style=\"white-space:pre; font-family: monospace\">1 2 3 3\n",
              "</span>"
            ]
          },
          "execution_count": 200,
          "metadata": {},
          "output_type": "execute_result"
        }
      ],
      "source": [
        "haystack \u2373 needles"
      ]
    },
    {
      "cell_type": "markdown",
      "metadata": {},
      "source": [
        "This shows that the first and second matrices were found in positions 1 and 2, respectively, and the third and fourth matrices were found nowhere, thus getting 3 as a result. The result is 3 because 2 is the number of items that `haystack` has.\n",
        "\n",
        "Now we write the rule that dictates how _index of_ works in the general case:\n",
        "\n",
        "```{admonition} Rule \n",
        ":class: tip\n",
        "In the expression `r \u2190 haystack \u2373 needles` we look for the `needles` in the `haystack`, and\n",
        "\n",
        "- `haystack` can be any array of rank `hr` with `hr` being at least 1;\n",
        "\n",
        "- `needles` can be any array of rank `nr` with `nr` being at least `hr-1`;\n",
        "\n",
        "- the last `hr-1` numbers of the shape of `needles` and the last `hr-1` numbers of the shape of `haystack` must be the same;\n",
        "\n",
        "- `r` has rank equal to `nr-hr-1` and shape equal to the first `nr-hr-1` numbers of the shape of `needles`;\n",
        "\n",
        "- the items of `r` contain the positions of the first occurrence of the corresponding items of `needles` in `haystack`;\n",
        "\n",
        "- items which do not appear in `haystack` give the result `1+m` if `m` is the leading number in the shape of `haystack`, i.e. `m \u2190 \u2262haystack`.\n",
        "```\n"
      ]
    },
    {
      "cell_type": "markdown",
      "metadata": {},
      "source": [
        "(Some-Primitive-Functions-Where)=\n",
        "## Where\n",
        "\n",
        "The primitive function _where_ is the monadic use of the _iota underbar_ `\u2378`, which you can type with <kbd>APL</kbd>+<kbd>Shift</kbd>+<kbd>I</kbd>. The simplest use case for this primitive is to give it a simple Boolean array, for which `\u2378` finds _where_ the values 1 are.\n",
        "\n",
        "For example, given the `contents` vector:"
      ]
    },
    {
      "cell_type": "code",
      "execution_count": 152,
      "metadata": {},
      "outputs": [
        {
          "data": {
            "text/html": [
              "<span style=\"white-space:pre; font-family: monospace\">12 56 78 74 85 96 30 22 44 66 82 27\n",
              "</span>"
            ]
          },
          "execution_count": 152,
          "metadata": {},
          "output_type": "execute_result"
        }
      ],
      "source": [
        "contents"
      ]
    },
    {
      "cell_type": "markdown",
      "metadata": {},
      "source": [
        "What items are greater than 75?"
      ]
    },
    {
      "cell_type": "code",
      "execution_count": 153,
      "metadata": {},
      "outputs": [
        {
          "data": {
            "text/html": [
              "<span style=\"white-space:pre; font-family: monospace\">0 0 1 0 1 1 0 0 0 0 1 0\n",
              "</span>"
            ]
          },
          "execution_count": 153,
          "metadata": {},
          "output_type": "execute_result"
        }
      ],
      "source": [
        "contents > 75"
      ]
    },
    {
      "cell_type": "markdown",
      "metadata": {},
      "source": [
        "And _where_ are they?"
      ]
    },
    {
      "cell_type": "code",
      "execution_count": 154,
      "metadata": {},
      "outputs": [
        {
          "data": {
            "text/html": [
              "<span style=\"white-space:pre; font-family: monospace\">3 5 6 11\n",
              "</span>"
            ]
          },
          "execution_count": 154,
          "metadata": {},
          "output_type": "execute_result"
        }
      ],
      "source": [
        "\u2378contents > 75"
      ]
    },
    {
      "cell_type": "markdown",
      "metadata": {},
      "source": [
        "They are at positions 3, 5, 6 and 11, referring respectively to the elements 78, 85, 96 and 82."
      ]
    },
    {
      "cell_type": "markdown",
      "metadata": {},
      "source": [
        "(Some-Primitive-Functions-Application-4)=\n",
        "### Application 4\n",
        "\n",
        "You probably remember that the function _index of_ returns only the _first_ occurrence of a value in a vector (cf. {numref}`Some-Primitive-Functions-Discovery`). Using _where_ we can find _all_ the occurrences.\n",
        "\n",
        "Here is a vector, in which we would like to find the positions of the number 19:"
      ]
    },
    {
      "cell_type": "code",
      "execution_count": 155,
      "metadata": {},
      "outputs": [],
      "source": [
        "vec \u2190 41 17 19 53 42 27 19 88 14 56 19 33"
      ]
    },
    {
      "cell_type": "code",
      "execution_count": 156,
      "metadata": {},
      "outputs": [
        {
          "data": {
            "text/html": [
              "<span style=\"white-space:pre; font-family: monospace\">0 0 1 0 0 0 1 0 0 0 1 0\n",
              "</span>"
            ]
          },
          "execution_count": 156,
          "metadata": {},
          "output_type": "execute_result"
        }
      ],
      "source": [
        "vec=19"
      ]
    },
    {
      "cell_type": "markdown",
      "metadata": {},
      "source": [
        "Now that we have a Boolean vector, we can just use `\u2378` to find out _where_ the 1s are:"
      ]
    },
    {
      "cell_type": "code",
      "execution_count": 158,
      "metadata": {},
      "outputs": [
        {
          "data": {
            "text/html": [
              "<span style=\"white-space:pre; font-family: monospace\">3 7 11\n",
              "</span>"
            ]
          },
          "execution_count": 158,
          "metadata": {},
          "output_type": "execute_result"
        }
      ],
      "source": [
        "\u2378vec=19"
      ]
    },
    {
      "cell_type": "markdown",
      "metadata": {},
      "source": [
        "It is as simple as that!\n",
        "\n",
        "Of course the same search technique will work on characters, because what we really care about is the Boolean vector we generate at a later step, not what the initial vector was. For example, let us find all the letters \"a\" in a sentence:"
      ]
    },
    {
      "cell_type": "code",
      "execution_count": 159,
      "metadata": {},
      "outputs": [
        {
          "data": {
            "text/html": [
              "<span style=\"white-space:pre; font-family: monospace\">2 4 6 11 14 16 30 36 41\n",
              "</span>"
            ]
          },
          "execution_count": 159,
          "metadata": {},
          "output_type": "execute_result"
        }
      ],
      "source": [
        "sentence \u2190 'Panama is a canal between Atlantic and Pacific'\n",
        "\u2378sentence='a'"
      ]
    },
    {
      "cell_type": "markdown",
      "metadata": {},
      "source": [
        "Having found all the \"a\"s, we may wish to find all the lowercase vowels. For that matter, we need to create a Boolean vector with 1s in the positions with lowercase vowels. In the example above, `sentence='a'` worked because we are allowed to compare a vector with a single scalar, but now we can't change this to"
      ]
    },
    {
      "cell_type": "code",
      "execution_count": 160,
      "metadata": {},
      "outputs": [
        {
          "name": "stderr",
          "output_type": "stream",
          "text": [
            "LENGTH ERROR: Mismatched left and right argument shapes\n",
            "      sentence='aeiouy'        \u235d 'y' is a vowel in many European languages\n",
            "              \u2227\n"
          ]
        }
      ],
      "source": [
        "sentence='aeiouy'        \u235d 'y' is a vowel in many European languages"
      ]
    },
    {
      "cell_type": "markdown",
      "metadata": {},
      "source": [
        "The code above does not work because `=` is trying to compare the two vectors item by item, only to realise the vector `'aeiouy'` is too short for that. Instead, what we can do is check whether or not each character of `sentence` is a *member* of the character vector `'aeiouy'`:"
      ]
    },
    {
      "cell_type": "code",
      "execution_count": 161,
      "metadata": {},
      "outputs": [
        {
          "data": {
            "text/html": [
              "<span style=\"white-space:pre; font-family: monospace\">0 1 0 1 0 1 0 1 0 0 1 0 0 1 0 1 0 0 0 1 0 0 1 1 0 0 0 0 0 1 0 0 1 0 0 1 0 0 0 0 1 0 1 0 1 0\n",
              "</span>"
            ]
          },
          "execution_count": 161,
          "metadata": {},
          "output_type": "execute_result"
        }
      ],
      "source": [
        "sentence\u220a'aeiouy'"
      ]
    },
    {
      "cell_type": "markdown",
      "metadata": {},
      "source": [
        "Having computed this Boolean vector, the finishing touch is to compute _where_ the vowels were found:"
      ]
    },
    {
      "cell_type": "code",
      "execution_count": 162,
      "metadata": {
        "scrolled": true
      },
      "outputs": [
        {
          "data": {
            "text/html": [
              "<span style=\"white-space:pre; font-family: monospace\">2 4 6 8 11 14 16 20 23 24 30 33 36 41 43 45\n",
              "</span>"
            ]
          },
          "execution_count": 162,
          "metadata": {},
          "output_type": "execute_result"
        }
      ],
      "source": [
        "\u2378sentence\u220a'aeiouy'"
      ]
    },
    {
      "cell_type": "markdown",
      "metadata": {},
      "source": [
        "(Some-Primitive-Functions-Increasing-The-Dimension)=\n",
        "### Increasing The Dimension\n",
        "\n",
        "Up until now we only used simple vectors as arguments to _where_, but in the beginning we talked about Boolean _arrays_, not _vectors_.\n",
        "\n",
        "For higher dimensional arrays _where_ behaves the same way: it returns the indices of the positions that contain 1s. Similar to what we did above, we might want to find all the lowercase vowels in the `monMat` matrix:"
      ]
    },
    {
      "cell_type": "code",
      "execution_count": 163,
      "metadata": {},
      "outputs": [
        {
          "data": {
            "text/html": [
              "<span style=\"white-space:pre; font-family: monospace\">January \n",
              "February\n",
              "March   \n",
              "April   \n",
              "May     \n",
              "June    \n",
              "</span>"
            ]
          },
          "execution_count": 163,
          "metadata": {},
          "output_type": "execute_result"
        }
      ],
      "source": [
        "monMat"
      ]
    },
    {
      "cell_type": "code",
      "execution_count": 164,
      "metadata": {},
      "outputs": [
        {
          "data": {
            "text/html": [
              "<span style=\"white-space:pre; font-family: monospace\">\u250c\u2500\u2500\u2500\u252c\u2500\u2500\u2500\u252c\u2500\u2500\u2500\u252c\u2500\u2500\u2500\u252c\u2500\u2500\u2500\u252c\u2500\u2500\u2500\u252c\u2500\u2500\u2500\u252c\u2500\u2500\u2500\u252c\u2500\u2500\u2500\u252c\u2500\u2500\u2500\u252c\u2500\u2500\u2500\u252c\u2500\u2500\u2500\u252c\u2500\u2500\u2500\u252c\u2500\u2500\u2500\u2510\n",
              "\u25021 2\u25021 4\u25021 5\u25021 7\u25022 2\u25022 5\u25022 6\u25022 8\u25023 2\u25024 4\u25025 2\u25025 3\u25026 2\u25026 4\u2502\n",
              "\u2514\u2500\u2500\u2500\u2534\u2500\u2500\u2500\u2534\u2500\u2500\u2500\u2534\u2500\u2500\u2500\u2534\u2500\u2500\u2500\u2534\u2500\u2500\u2500\u2534\u2500\u2500\u2500\u2534\u2500\u2500\u2500\u2534\u2500\u2500\u2500\u2534\u2500\u2500\u2500\u2534\u2500\u2500\u2500\u2534\u2500\u2500\u2500\u2534\u2500\u2500\u2500\u2534\u2500\u2500\u2500\u2518\n",
              "</span>"
            ]
          },
          "execution_count": 164,
          "metadata": {},
          "output_type": "execute_result"
        }
      ],
      "source": [
        "\u2378monMat\u220a'aeiouy'"
      ]
    },
    {
      "cell_type": "markdown",
      "metadata": {},
      "source": [
        "The last item in the result above is `6 4`, which means that row 6, column 4 of `monMat` contains a lowercase vowel: the final \"e\" in \"June\". We can verify this with the function _index_`\u2337` you already learned about (cf. {numref}`Data-and-Variables-The-Index-Function`):"
      ]
    },
    {
      "cell_type": "code",
      "execution_count": 165,
      "metadata": {},
      "outputs": [
        {
          "data": {
            "text/html": [
              "<span style=\"white-space:pre; font-family: monospace\">June    \n",
              "</span>"
            ]
          },
          "execution_count": 165,
          "metadata": {},
          "output_type": "execute_result"
        }
      ],
      "source": [
        "6\u2337monMat"
      ]
    },
    {
      "cell_type": "code",
      "execution_count": 166,
      "metadata": {},
      "outputs": [
        {
          "data": {
            "text/html": [
              "<span style=\"white-space:pre; font-family: monospace\">e\n",
              "</span>"
            ]
          },
          "execution_count": 166,
          "metadata": {},
          "output_type": "execute_result"
        }
      ],
      "source": [
        "6 4\u2337monMat"
      ]
    },
    {
      "cell_type": "markdown",
      "metadata": {},
      "source": [
        "The example above also shows an interesting property of _where_: it always returns a _vector_, regardless of the shape of the input, and each item of the resulting vector is a suitable index to `\u2337`."
      ]
    },
    {
      "cell_type": "markdown",
      "metadata": {},
      "source": [
        "(Some-Primitive-Functions-Simple-Not-Nested)=\n",
        "### Simple, Not Nested\n",
        "\n",
        "_Where_ does require that its argument be a simple array. If you provide a nested array, `\u2378` won't know what to do with it. This is because there is no way of indexing into a nested array with an index vector like `3` or `6 4`, or even something longer.\n",
        "\n",
        "In fact, if the argument to _where_ is a nested array, you get a `DOMAIN ERROR`:"
      ]
    },
    {
      "cell_type": "code",
      "execution_count": 289,
      "metadata": {},
      "outputs": [
        {
          "name": "stderr",
          "output_type": "stream",
          "text": [
            "DOMAIN ERROR\n",
            "      \u2378(0 1)(1 1)\n",
            "      \u2227\n"
          ]
        }
      ],
      "source": [
        "\u2378(0 1)(1 1)"
      ]
    },
    {
      "cell_type": "markdown",
      "metadata": {},
      "source": [
        "(Some-Primitive-Functions-Beyond-Boolean-Arrays)=\n",
        "### Beyond Boolean Arrays\n",
        "\n",
        "Now that you have seen the most iconic use of _where_, you will be shown the full specification for it, as we have only used Boolean arguments so far.\n",
        "\n",
        "```{admonition} Rule \n",
        ":class: tip\n",
        "In the expression `R \u2190 \u2378Y`:\n",
        "\n",
        "- `Y` must be a _simple_ Boolean vector or a _simple_ numeric array with non-negative integers;\n",
        "- `R` is a vector, regardless of the shape of `Y`;\n",
        "- each non-negative element of `Y` has its index repeated in `R` as many times as the element's value;\n",
        "- if `Y` only contains zeroes, `R` is an empty vector;\n",
        "- each element of `R` can be used as `i` in `i\u2337Y` to retrieve an element from `Y`.\n",
        "```\n",
        "\n",
        "This repetition is similar to the way _compress_ works when the left argument only contains non-negative integers:"
      ]
    },
    {
      "cell_type": "code",
      "execution_count": 290,
      "metadata": {},
      "outputs": [
        {
          "data": {
            "text/html": [
              "<span style=\"white-space:pre; font-family: monospace\">wwwdd!\n",
              "</span>"
            ]
          },
          "execution_count": 290,
          "metadata": {},
          "output_type": "execute_result"
        }
      ],
      "source": [
        "3 0 0 2 0 1 / 'words!'"
      ]
    },
    {
      "cell_type": "markdown",
      "metadata": {},
      "source": [
        "The left argument to _compress_ tells it to use the 1st element 3 times, to use the 4th element 2 times and to use the 6th element 1 time.\n",
        "\n",
        "The same argument to `\u2378` returns the indices repeated as many times as they are needed:"
      ]
    },
    {
      "cell_type": "code",
      "execution_count": 291,
      "metadata": {},
      "outputs": [
        {
          "data": {
            "text/html": [
              "<span style=\"white-space:pre; font-family: monospace\">1 1 1 4 4 6\n",
              "</span>"
            ]
          },
          "execution_count": 291,
          "metadata": {},
          "output_type": "execute_result"
        }
      ],
      "source": [
        "\u23783 0 0 2 0 1"
      ]
    },
    {
      "cell_type": "markdown",
      "metadata": {},
      "source": [
        "In this case, we could even achieve the same effect as the _compress_ expression above by using `[]` indexing:"
      ]
    },
    {
      "cell_type": "code",
      "execution_count": 292,
      "metadata": {},
      "outputs": [
        {
          "data": {
            "text/html": [
              "<span style=\"white-space:pre; font-family: monospace\">wwwdd!\n",
              "</span>"
            ]
          },
          "execution_count": 292,
          "metadata": {},
          "output_type": "execute_result"
        }
      ],
      "source": [
        "'words!'[\u23783 0 0 2 0 1]"
      ]
    },
    {
      "cell_type": "markdown",
      "metadata": {},
      "source": [
        "This breaks down if we want to include negative integers in the left argument to _compress_, which _where_ doesn't support.\n",
        "\n",
        "In fact, if the argument array contains negative integers or other numbers which aren't integers, `DOMAIN ERROR`s are issued:"
      ]
    },
    {
      "cell_type": "code",
      "execution_count": 293,
      "metadata": {},
      "outputs": [
        {
          "name": "stderr",
          "output_type": "stream",
          "text": [
            "DOMAIN ERROR: Where right argument must be non-negative\n",
            "      \u23780 0 1 0 \u00af1\n",
            "      \u2227\n"
          ]
        }
      ],
      "source": [
        "\u23780 0 1 0 \u00af1"
      ]
    },
    {
      "cell_type": "code",
      "execution_count": 294,
      "metadata": {},
      "outputs": [
        {
          "name": "stderr",
          "output_type": "stream",
          "text": [
            "DOMAIN ERROR\n",
            "      \u23780 0 1 0 0.3\n",
            "      \u2227\n"
          ]
        }
      ],
      "source": [
        "\u23780 0 1 0 0.3"
      ]
    },
    {
      "cell_type": "markdown",
      "metadata": {},
      "source": [
        "(Some-Primitive-Functions-Comparison-of-_Membership_-_Index-Of_-and-_Where_)=\n",
        "### Comparison of _Membership_, _Index Of_ and _Where_\n",
        "\n",
        "We have discovered two different techniques, using the primitive functions _membership_ and _where_, that allow us to look up one set of values in another and to determine the positions of the items of one set in the other. Depending on the problem that we have to solve, we can choose which of the two methods will be most appropriate for the job in hand. Consider the following example:"
      ]
    },
    {
      "cell_type": "markdown",
      "metadata": {},
      "source": [
        "(Some-Primitive-Functions-Example)=\n",
        "#### Example\n",
        "\n",
        "Imagine a company has subsidiaries in a number of countries; each country being identified by a numeric code. The country names are stored in a matrix named `countries`, and the country codes are stored in a vector named `codes`. To make things easier to read, let us show those two variables:"
      ]
    },
    {
      "cell_type": "code",
      "execution_count": 1,
      "metadata": {},
      "outputs": [
        {
          "data": {
            "text/html": [
              "<span style=\"white-space:pre; font-family: monospace\">France       \n",
              "Great Britain\n",
              "Italy        \n",
              "United States\n",
              "Belgium      \n",
              "Swiss        \n",
              "Sweden       \n",
              "Canada       \n",
              "Egypt        \n",
              "</span>"
            ]
          },
          "execution_count": 1,
          "metadata": {},
          "output_type": "execute_result"
        }
      ],
      "source": [
        "\u22a2countries \u2190 9 13\u2374'France       Great BritainItaly        United StatesBelgium      Swiss        Sweden       Canada       Egypt        '"
      ]
    },
    {
      "cell_type": "code",
      "execution_count": 2,
      "metadata": {},
      "outputs": [
        {
          "data": {
            "text/html": [
              "<span style=\"white-space:pre; font-family: monospace\">50 43 12 83 64 34 66 81 37\n",
              "</span>"
            ]
          },
          "execution_count": 2,
          "metadata": {},
          "output_type": "execute_result"
        }
      ],
      "source": [
        "\u22a2codes \u2190 50 43 12 83 64 34 66 81 37"
      ]
    },
    {
      "cell_type": "markdown",
      "metadata": {},
      "source": [
        "Now let us show those two variables side by side:"
      ]
    },
    {
      "cell_type": "code",
      "execution_count": 3,
      "metadata": {},
      "outputs": [
        {
          "data": {
            "text/html": [
              "<span style=\"white-space:pre; font-family: monospace\">France        50\n",
              "Great Britain 43\n",
              "Italy         12\n",
              "United States 83\n",
              "Belgium       64\n",
              "Swiss         34\n",
              "Sweden        66\n",
              "Canada        81\n",
              "Egypt         37\n",
              "</span>"
            ]
          },
          "execution_count": 3,
          "metadata": {},
          "output_type": "execute_result"
        }
      ],
      "source": [
        "countries, codes"
      ]
    },
    {
      "cell_type": "markdown",
      "metadata": {},
      "source": [
        "So, Sweden is identified by 66 and Belgium is identified by 64.\n",
        "\n",
        "All the sales made during the last month have been recorded in two vectors:\n",
        "\n",
        " - `bhcodes` identifies in which country each sale has been made, and\n",
        " - `bhamounts` identifies the amount of each sale.\n",
        " \n",
        "Here are the two vectors:"
      ]
    },
    {
      "cell_type": "code",
      "execution_count": 4,
      "metadata": {},
      "outputs": [
        {
          "data": {
            "text/html": [
              "<span style=\"white-space:pre; font-family: monospace\">83 66 12 83 43 66 50 81 12 83 12 66\n",
              "</span>"
            ]
          },
          "execution_count": 4,
          "metadata": {},
          "output_type": "execute_result"
        }
      ],
      "source": [
        "\u22a2bhcodes \u2190 83 66 12 83 43 66 50 81 12 83 12 66"
      ]
    },
    {
      "cell_type": "code",
      "execution_count": 5,
      "metadata": {},
      "outputs": [
        {
          "data": {
            "text/html": [
              "<span style=\"white-space:pre; font-family: monospace\">609 727 458 469 463 219 431 602 519 317 663 631\n",
              "</span>"
            ]
          },
          "execution_count": 5,
          "metadata": {},
          "output_type": "execute_result"
        }
      ],
      "source": [
        "\u22a2bhamounts \u2190 609 727 458 469 463 219 431 602 519 317 663 631"
      ]
    },
    {
      "cell_type": "markdown",
      "metadata": {},
      "source": [
        "Some countries have not sold anything (Belgium, for example) whereas other countries made several sales (Italy, for example)."
      ]
    },
    {
      "cell_type": "markdown",
      "metadata": {},
      "source": [
        "(Some-Primitive-Functions-First-Question)=\n",
        "#### First Question\n",
        "\n",
        "We would like to focus on some selected countries (43, 50, 37 and 66) and calculate the total amount of their sales. Let's first identify which items of `bhcodes` are relevant:"
      ]
    },
    {
      "cell_type": "code",
      "execution_count": 6,
      "metadata": {},
      "outputs": [
        {
          "data": {
            "text/html": [
              "<span style=\"white-space:pre; font-family: monospace\">0 1 0 0 1 1 1 0 0 0 0 1\n",
              "</span>"
            ]
          },
          "execution_count": 6,
          "metadata": {},
          "output_type": "execute_result"
        }
      ],
      "source": [
        "selected \u2190 37 43 50 66\n",
        "bhcodes \u220a selected"
      ]
    },
    {
      "cell_type": "markdown",
      "metadata": {},
      "source": [
        "Then we can apply this filter to the amounts, and add them up:"
      ]
    },
    {
      "cell_type": "code",
      "execution_count": 7,
      "metadata": {},
      "outputs": [
        {
          "data": {
            "text/html": [
              "<span style=\"white-space:pre; font-family: monospace\">727 463 219 431 631\n",
              "</span>"
            ]
          },
          "execution_count": 7,
          "metadata": {},
          "output_type": "execute_result"
        }
      ],
      "source": [
        "(bhcodes \u220a selected) / bhamounts"
      ]
    },
    {
      "cell_type": "code",
      "execution_count": 8,
      "metadata": {},
      "outputs": [
        {
          "data": {
            "text/html": [
              "<span style=\"white-space:pre; font-family: monospace\">2471\n",
              "</span>"
            ]
          },
          "execution_count": 8,
          "metadata": {},
          "output_type": "execute_result"
        }
      ],
      "source": [
        "+/ (bhcodes \u220a selected) / bhamounts"
      ]
    },
    {
      "cell_type": "markdown",
      "metadata": {},
      "source": [
        "An alternative solution is to find the **positions** of the selected countries, then use this set of indices to get the amounts, and add them. The result is, of course, the same:"
      ]
    },
    {
      "cell_type": "code",
      "execution_count": 9,
      "metadata": {},
      "outputs": [
        {
          "data": {
            "text/html": [
              "<span style=\"white-space:pre; font-family: monospace\">2471\n",
              "</span>"
            ]
          },
          "execution_count": 9,
          "metadata": {},
          "output_type": "execute_result"
        }
      ],
      "source": [
        "positions \u2190 \u2378bhcodes \u220a selected\n",
        "+/bhamounts[positions]"
      ]
    },
    {
      "cell_type": "markdown",
      "metadata": {},
      "source": [
        "As mentioned previously in {numref}`Some-Primitive-Functions-Basic-Approach-Compress`, it is kind of a detour to solve this task using indexing, but here it serves to illustrate the different lookup methods.\n",
        "\n",
        "Let us take a look at the selected countries and their positions in `bhcodes`:"
      ]
    },
    {
      "cell_type": "code",
      "execution_count": 10,
      "metadata": {},
      "outputs": [
        {
          "data": {
            "text/html": [
              "<span style=\"white-space:pre; font-family: monospace\">37 43 50 66\n",
              "</span>"
            ]
          },
          "execution_count": 10,
          "metadata": {},
          "output_type": "execute_result"
        }
      ],
      "source": [
        "selected"
      ]
    },
    {
      "cell_type": "code",
      "execution_count": 11,
      "metadata": {},
      "outputs": [
        {
          "data": {
            "text/html": [
              "<span style=\"white-space:pre; font-family: monospace\">2 5 6 7 12\n",
              "</span>"
            ]
          },
          "execution_count": 11,
          "metadata": {},
          "output_type": "execute_result"
        }
      ],
      "source": [
        "positions"
      ]
    },
    {
      "cell_type": "markdown",
      "metadata": {},
      "source": [
        "Using _membership_, we have obtained `positions` which contains 5 items for the 4 countries in `selected`. This tells us that:\n",
        "\n",
        " - `positions` contains the indices of _all_ of the occurrences of the selected countries in the list of sales;\n",
        " - however, the items in `positions` do not correspond to the items in `selected` on a one-to-one basis; we cannot say that country 43 is in position 2, or country 50 in position 5, and so on; and\n",
        " - it does not tell us that nothing was sold in country 37. Perhaps it would have been a good idea to identify this?"
      ]
    },
    {
      "cell_type": "markdown",
      "metadata": {},
      "source": [
        "(Some-Primitive-Functions-Second-Question)=\n",
        "#### Second Question\n",
        "\n",
        "Now, let us suppose that we want to display the names of the selected countries. To do this, we must determine the positions of the selected country codes in the entire list of country codes, and get the corresponding names.\n",
        "\n",
        "If we use the _membership_ approach, here is what we get:"
      ]
    },
    {
      "cell_type": "code",
      "execution_count": 12,
      "metadata": {},
      "outputs": [
        {
          "data": {
            "text/html": [
              "<span style=\"white-space:pre; font-family: monospace\">37 43 50 66\n",
              "</span>"
            ]
          },
          "execution_count": 12,
          "metadata": {},
          "output_type": "execute_result"
        }
      ],
      "source": [
        "selected"
      ]
    },
    {
      "cell_type": "code",
      "execution_count": 13,
      "metadata": {},
      "outputs": [
        {
          "data": {
            "text/html": [
              "<span style=\"white-space:pre; font-family: monospace\">France        37\n",
              "Great Britain 43\n",
              "Sweden        50\n",
              "Egypt         66\n",
              "</span>"
            ]
          },
          "execution_count": 13,
          "metadata": {},
          "output_type": "execute_result"
        }
      ],
      "source": [
        "positions \u2190 \u2378codes \u220a selected\n",
        "countries[positions;] , selected"
      ]
    },
    {
      "cell_type": "markdown",
      "metadata": {},
      "source": [
        "(As a side note, above we catenated a character matrix with a numeric vector, so the result is a _mixed_ matrix)\n",
        "\n",
        "At first sight, this **seems** to be good: all the selected countries are displayed. However, they are not in the correct order: France is not 37, Sweden is not 50 and Egypt is not 66.\n",
        "\n",
        "The problem with this method is the lack of a one-to-one correspondence between the selected countries and their positions in the list of sales. The positions will always be in the order that the countries appear in `countries` - because of `\u2378`. However, the Boolean vector `codes \u220a selected` is completely independent of the order of the items in `selected`: the expression returns the same result no matter how `selected` is ordered.\n",
        "\n",
        "The correct method to use in order to solve this task is to use the function _index of_ (dyadic _iota_):"
      ]
    },
    {
      "cell_type": "code",
      "execution_count": 14,
      "metadata": {},
      "outputs": [
        {
          "data": {
            "text/html": [
              "<span style=\"white-space:pre; font-family: monospace\">Egypt         37\n",
              "Great Britain 43\n",
              "France        50\n",
              "Sweden        66\n",
              "</span>"
            ]
          },
          "execution_count": 14,
          "metadata": {},
          "output_type": "execute_result"
        }
      ],
      "source": [
        "positions \u2190 codes \u2373 selected\n",
        "countries[positions;] , selected"
      ]
    },
    {
      "cell_type": "markdown",
      "metadata": {},
      "source": [
        "It is the one-to-one relationship between the items of the right argument to _index of_ (`selected`) and the items of its result (`positions`) that guarantees a correct result."
      ]
    },
    {
      "cell_type": "markdown",
      "metadata": {},
      "source": [
        "(Some-Primitive-Functions-Comparison)=\n",
        "#### Comparison\n",
        "\n",
        "The following table summarises the most important properties of the two methods:\n",
        "\n",
        "| Method | Properties |\n",
        "| :- | :- |\n",
        "| `pos \u2190 \u2378list \u220a data` | the items in `pos` do not have a 1-to-1 correspondence with the items in `data` |\n",
        "| | instead, the items in `pos` correspond to the items in `list` |\n",
        "| | `pos` gives all the positions of multiple occurrences of `list` in `data` |\n",
        "| | `pos` does not explicitly identify missing values |\n",
        "| `pos \u2190 list \u2373 data` | the items in `pos` **do** have a 1-to-1 correspondence with the items in `data` |\n",
        "| | `pos` ignores multiple occurrences; just gives the first |\n",
        "| | `pos` identifies missing values |\n",
        "\n",
        "The choice of method depends on the kind of problem you want to solve."
      ]
    },
    {
      "cell_type": "markdown",
      "metadata": {},
      "source": [
        "(Some-Primitive-Functions-Index-Generator)=\n",
        "## Index Generator\n",
        "\n",
        "(Some-Primitive-Functions-Basic-Usage)=\n",
        "### Basic Usage\n",
        "\n",
        "When used as a monadic function, the symbol _iota_ generates a vector of the first `N` positive integers. It is called _index generator_."
      ]
    },
    {
      "cell_type": "code",
      "execution_count": 309,
      "metadata": {},
      "outputs": [
        {
          "data": {
            "text/html": [
              "<span style=\"white-space:pre; font-family: monospace\">1 2 3 4 5 6 7 8 9\n",
              "</span>"
            ]
          },
          "execution_count": 309,
          "metadata": {},
          "output_type": "execute_result"
        }
      ],
      "source": [
        "\u23739"
      ]
    },
    {
      "cell_type": "markdown",
      "metadata": {},
      "source": [
        "If we have to extract the first 12 items of a vector `contents`, we can write:"
      ]
    },
    {
      "cell_type": "code",
      "execution_count": 183,
      "metadata": {},
      "outputs": [
        {
          "data": {
            "text/html": [
              "<span style=\"white-space:pre; font-family: monospace\">12 56 78 74 85 96 30 22 44 66 82 27\n",
              "</span>"
            ]
          },
          "execution_count": 183,
          "metadata": {},
          "output_type": "execute_result"
        }
      ],
      "source": [
        "contents[1 2 3 4 5 6 7 8 9 10 11 12]"
      ]
    },
    {
      "cell_type": "markdown",
      "metadata": {},
      "source": [
        "It is, of course, much easier to write"
      ]
    },
    {
      "cell_type": "code",
      "execution_count": 184,
      "metadata": {},
      "outputs": [
        {
          "data": {
            "text/html": [
              "<span style=\"white-space:pre; font-family: monospace\">12 56 78 74 85 96 30 22 44 66 82 27\n",
              "</span>"
            ]
          },
          "execution_count": 184,
          "metadata": {},
          "output_type": "execute_result"
        }
      ],
      "source": [
        "contents[\u237312]"
      ]
    },
    {
      "cell_type": "markdown",
      "metadata": {},
      "source": [
        "The result can be combined with simple arithmetic operations. For example, suppose we need to produce the following list of 6 values: 115 122 129 136 143 150 (note the increments of 7). We can do this as follows:"
      ]
    },
    {
      "cell_type": "code",
      "execution_count": 312,
      "metadata": {},
      "outputs": [
        {
          "data": {
            "text/html": [
              "<span style=\"white-space:pre; font-family: monospace\">1 2 3 4 5 6\n",
              "</span>"
            ]
          },
          "execution_count": 312,
          "metadata": {},
          "output_type": "execute_result"
        }
      ],
      "source": [
        "\u23736"
      ]
    },
    {
      "cell_type": "code",
      "execution_count": 313,
      "metadata": {},
      "outputs": [
        {
          "data": {
            "text/html": [
              "<span style=\"white-space:pre; font-family: monospace\">0 1 2 3 4 5\n",
              "</span>"
            ]
          },
          "execution_count": 313,
          "metadata": {},
          "output_type": "execute_result"
        }
      ],
      "source": [
        "(\u23736)-1"
      ]
    },
    {
      "cell_type": "code",
      "execution_count": 314,
      "metadata": {},
      "outputs": [
        {
          "data": {
            "text/html": [
              "<span style=\"white-space:pre; font-family: monospace\">0 7 14 21 28 35\n",
              "</span>"
            ]
          },
          "execution_count": 314,
          "metadata": {},
          "output_type": "execute_result"
        }
      ],
      "source": [
        "7\u00d7(\u23736)-1"
      ]
    },
    {
      "cell_type": "code",
      "execution_count": 315,
      "metadata": {},
      "outputs": [
        {
          "data": {
            "text/html": [
              "<span style=\"white-space:pre; font-family: monospace\">115 122 129 136 143 150\n",
              "</span>"
            ]
          },
          "execution_count": 315,
          "metadata": {},
          "output_type": "execute_result"
        }
      ],
      "source": [
        "115+7\u00d7(\u23736)-1"
      ]
    },
    {
      "cell_type": "markdown",
      "metadata": {},
      "source": [
        "More generally, any arithmetic series of integers can be produced by the following algorithm:\n",
        "\n",
        "```{admonition} Algorithm \n",
        ":class: algorithm\n",
        "`r \u2190 origin + step \u00d7 (\u2373length) - 1`\n",
        "```\n",
        "\n",
        "```{admonition} Special Case \n",
        ":class: note\n",
        "If `\u2373n` gives a vector of length `n`, then `\u23730` should give a vector of length `0`, right? A vector having length 0 is an empty vector. In particular, this will be a *numeric* empty vector.\n",
        "```\n",
        "\n",
        "Let us check:"
      ]
    },
    {
      "cell_type": "code",
      "execution_count": 15,
      "metadata": {},
      "outputs": [
        {
          "data": {
            "text/html": [
              "<span style=\"white-space:pre; font-family: monospace\">\n",
              "</span>"
            ]
          },
          "execution_count": 15,
          "metadata": {},
          "output_type": "execute_result"
        }
      ],
      "source": [
        "\u23730"
      ]
    },
    {
      "cell_type": "markdown",
      "metadata": {},
      "source": [
        "Nothing gets displayed above, so it does look like the numeric empty vector `\u236c`, which we can confirm with _match_:"
      ]
    },
    {
      "cell_type": "code",
      "execution_count": 317,
      "metadata": {},
      "outputs": [
        {
          "data": {
            "text/html": [
              "<span style=\"white-space:pre; font-family: monospace\">1\n",
              "</span>"
            ]
          },
          "execution_count": 317,
          "metadata": {},
          "output_type": "execute_result"
        }
      ],
      "source": [
        "\u236c\u2261\u23730"
      ]
    },
    {
      "cell_type": "markdown",
      "metadata": {},
      "source": [
        "This was useful in early versions of APL, before the introduction of the _zilde_ symbol (`\u236c`).\n",
        "\n",
        "The definition of `\u2373n` given above reflects only a limited part of what this function can do; you will find more information in {numref}`Some-Primitive-Functions-The-Specialists-Section` at the end of this chapter."
      ]
    },
    {
      "cell_type": "markdown",
      "metadata": {},
      "source": [
        "(Some-Primitive-Functions-Application-5)=\n",
        "### Application 5\n",
        "\n",
        "Sometimes, a programmer needs to remove duplicate items from a vector and there is a well-known idiomatic way to do this. The idiom applies equally to numeric, character and nested vectors. Let us begin with a numeric vector:"
      ]
    },
    {
      "cell_type": "code",
      "execution_count": 17,
      "metadata": {},
      "outputs": [],
      "source": [
        "vec \u2190 12 89 57 46 12 50 36 47 83 46 27 12"
      ]
    },
    {
      "cell_type": "markdown",
      "metadata": {},
      "source": [
        "The algorithm is based on the comparison of two vectors:"
      ]
    },
    {
      "cell_type": "code",
      "execution_count": 18,
      "metadata": {},
      "outputs": [
        {
          "data": {
            "text/html": [
              "<span style=\"white-space:pre; font-family: monospace\">1 2 3 4 5 6 7 8 9 10 11 12\n",
              "</span>"
            ]
          },
          "execution_count": 18,
          "metadata": {},
          "output_type": "execute_result"
        }
      ],
      "source": [
        "\u2373\u2262vec"
      ]
    },
    {
      "cell_type": "markdown",
      "metadata": {},
      "source": [
        "which gives the position of each item of `vec`, and"
      ]
    },
    {
      "cell_type": "code",
      "execution_count": 19,
      "metadata": {},
      "outputs": [
        {
          "data": {
            "text/html": [
              "<span style=\"white-space:pre; font-family: monospace\">1 2 3 4 1 6 7 8 9 4 11 1\n",
              "</span>"
            ]
          },
          "execution_count": 19,
          "metadata": {},
          "output_type": "execute_result"
        }
      ],
      "source": [
        "vec\u2373vec"
      ]
    },
    {
      "cell_type": "markdown",
      "metadata": {},
      "source": [
        "which identifies the first index in `vec` in which each element of `vec` is found. This may be a bit more complex to understand, so take your time to digest it. We are using `\u2373` to identify the positions of the items of `vec` in `vec` itself. But because _index of_ only returns the first occurrences, we get, for each item, the position where this value appears for the first time.\n",
        "\n",
        "If we then compare these two vectors, we get a Boolean vector indicating which items of `vec` are their first occurrences and which are repetitions:"
      ]
    },
    {
      "cell_type": "code",
      "execution_count": 20,
      "metadata": {},
      "outputs": [
        {
          "data": {
            "text/html": [
              "<span style=\"white-space:pre; font-family: monospace\">1 1 1 1 0 1 1 1 1 0 1 0\n",
              "</span>"
            ]
          },
          "execution_count": 20,
          "metadata": {},
          "output_type": "execute_result"
        }
      ],
      "source": [
        "(\u2373\u2262vec)=vec\u2373vec"
      ]
    },
    {
      "cell_type": "markdown",
      "metadata": {},
      "source": [
        "Finally, we can use _compress_ to keep only the first occurrences, so that the algorithm is as follows:\n",
        "\n",
        "```{admonition} Algorithm \n",
        ":class: algorithm\n",
        "`((\u2373\u2262vector) = vector \u2373 vector) / vector`\n",
        "```\n"
      ]
    },
    {
      "cell_type": "code",
      "execution_count": 21,
      "metadata": {},
      "outputs": [
        {
          "data": {
            "text/html": [
              "<span style=\"white-space:pre; font-family: monospace\">12 89 57 46 50 36 47 83 27\n",
              "</span>"
            ]
          },
          "execution_count": 21,
          "metadata": {},
          "output_type": "execute_result"
        }
      ],
      "source": [
        "((\u2373\u2262vec)=vec\u2373vec)/vec"
      ]
    },
    {
      "cell_type": "markdown",
      "metadata": {},
      "source": [
        "The result above has *no* duplicates.\n",
        "\n",
        "It also works on character arrays and on nested arrays:"
      ]
    },
    {
      "cell_type": "code",
      "execution_count": 22,
      "metadata": {},
      "outputs": [
        {
          "data": {
            "text/html": [
              "<span style=\"white-space:pre; font-family: monospace\">Al menarctdqu\n",
              "</span>"
            ]
          },
          "execution_count": 22,
          "metadata": {},
          "output_type": "execute_result"
        }
      ],
      "source": [
        "text \u2190 'All men are created equal'\n",
        "((\u2373\u2262text)=text\u2373text)/text"
      ]
    },
    {
      "cell_type": "code",
      "execution_count": 23,
      "metadata": {},
      "outputs": [
        {
          "data": {
            "text/html": [
              "<span style=\"white-space:pre; font-family: monospace\">\u250c\u2500\u2500\u2500\u252c\u2500\u252c\u2500\u2500\u2500\u252c\u2500\u252c\u2500\u2500\u2500\u2500\u252c\u2500\u2500\u2500\u2500\u252c\u2500\u2500\u2500\u2500\u252c\u2500\u252c\u2500\u2500\u2500\u252c\u2500\u2500\u2500\u252c\u2500\u2500\u2500\u252c\u2500\u2500\u2500\u2510\n",
              "\u2502one\u25021\u25021 2\u25029\u2502nine\u2502five\u2502nine\u25021\u2502two\u25021 2\u2502two\u2502one\u2502\n",
              "\u2502   \u2502 \u25023 4\u2502 \u2502    \u2502    \u2502    \u2502 \u2502   \u25023 4\u2502   \u2502   \u2502\n",
              "\u2514\u2500\u2500\u2500\u2534\u2500\u2534\u2500\u2500\u2500\u2534\u2500\u2534\u2500\u2500\u2500\u2500\u2534\u2500\u2500\u2500\u2500\u2534\u2500\u2500\u2500\u2500\u2534\u2500\u2534\u2500\u2500\u2500\u2534\u2500\u2500\u2500\u2534\u2500\u2500\u2500\u2534\u2500\u2500\u2500\u2518\n",
              "</span>"
            ]
          },
          "execution_count": 23,
          "metadata": {},
          "output_type": "execute_result"
        }
      ],
      "source": [
        "\u22a2nested \u2190 'one' 1 (2 2\u2374\u23734) 9 'nine' 'five' 'nine' 1 'two' (2 2\u2374\u23734) 'two' 'one'"
      ]
    },
    {
      "cell_type": "code",
      "execution_count": 24,
      "metadata": {},
      "outputs": [
        {
          "data": {
            "text/html": [
              "<span style=\"white-space:pre; font-family: monospace\">\u250c\u2500\u2500\u2500\u252c\u2500\u252c\u2500\u2500\u2500\u252c\u2500\u252c\u2500\u2500\u2500\u2500\u252c\u2500\u2500\u2500\u2500\u252c\u2500\u2500\u2500\u2510\n",
              "\u2502one\u25021\u25021 2\u25029\u2502nine\u2502five\u2502two\u2502\n",
              "\u2502   \u2502 \u25023 4\u2502 \u2502    \u2502    \u2502   \u2502\n",
              "\u2514\u2500\u2500\u2500\u2534\u2500\u2534\u2500\u2500\u2500\u2534\u2500\u2534\u2500\u2500\u2500\u2500\u2534\u2500\u2500\u2500\u2500\u2534\u2500\u2500\u2500\u2518\n",
              "</span>"
            ]
          },
          "execution_count": 24,
          "metadata": {},
          "output_type": "execute_result"
        }
      ],
      "source": [
        "((\u2373\u2262nested)=nested\u2373nested)/nested"
      ]
    },
    {
      "cell_type": "markdown",
      "metadata": {},
      "source": [
        "(Some-Primitive-Functions-Unique)=\n",
        "#### Unique\n",
        "\n",
        "Although still useful as an example, the idiom described above is now completely obsolete because there is a primitive function in APL that does exactly this.\n",
        "\n",
        "The primitive, called _unique_, is represented by the symbol `\u222a` (<kbd>APL</kbd>+<kbd>v</kbd>) used as a monadic function:"
      ]
    },
    {
      "cell_type": "code",
      "execution_count": 4,
      "metadata": {},
      "outputs": [
        {
          "data": {
            "text/html": [
              "<span style=\"white-space:pre; font-family: monospace\">15 42 53 19 46 82 17 14 24\n",
              "</span>"
            ]
          },
          "execution_count": 4,
          "metadata": {},
          "output_type": "execute_result"
        }
      ],
      "source": [
        "\u222a vec"
      ]
    },
    {
      "cell_type": "code",
      "execution_count": 26,
      "metadata": {},
      "outputs": [
        {
          "data": {
            "text/html": [
              "<span style=\"white-space:pre; font-family: monospace\">Al menarctdqu\n",
              "</span>"
            ]
          },
          "execution_count": 26,
          "metadata": {},
          "output_type": "execute_result"
        }
      ],
      "source": [
        "\u222a text"
      ]
    },
    {
      "cell_type": "code",
      "execution_count": 27,
      "metadata": {},
      "outputs": [
        {
          "data": {
            "text/html": [
              "<span style=\"white-space:pre; font-family: monospace\">\u250c\u2500\u2500\u2500\u252c\u2500\u252c\u2500\u2500\u2500\u252c\u2500\u252c\u2500\u2500\u2500\u2500\u252c\u2500\u2500\u2500\u2500\u252c\u2500\u2500\u2500\u2510\n",
              "\u2502one\u25021\u25021 2\u25029\u2502nine\u2502five\u2502two\u2502\n",
              "\u2502   \u2502 \u25023 4\u2502 \u2502    \u2502    \u2502   \u2502\n",
              "\u2514\u2500\u2500\u2500\u2534\u2500\u2534\u2500\u2500\u2500\u2534\u2500\u2534\u2500\u2500\u2500\u2500\u2534\u2500\u2500\u2500\u2500\u2534\u2500\u2500\u2500\u2518\n",
              "</span>"
            ]
          },
          "execution_count": 27,
          "metadata": {},
          "output_type": "execute_result"
        }
      ],
      "source": [
        "\u222a nested"
      ]
    },
    {
      "cell_type": "markdown",
      "metadata": {},
      "source": [
        "The symbol `\u222a` is the mathematical symbol for set union and we will see this is *not* a coincidence."
      ]
    },
    {
      "cell_type": "markdown",
      "metadata": {},
      "source": [
        "(Some-Primitive-Functions-Application-6)=\n",
        "### Application 6\n",
        "\n",
        "Some applications of _index generator_ are extremely basic, but so useful! Suppose that you invest a certain sum of money, \u20ac6,000 for example, and you expect an interest rate of 4% p.a.. How is the investment expected to grow in the next 5 years?\n",
        "\n",
        "We will have to calculate 1.04 to the power of 0, 1, 2, 3 and 4. The _index generator_ will help us:"
      ]
    },
    {
      "cell_type": "code",
      "execution_count": 28,
      "metadata": {},
      "outputs": [
        {
          "data": {
            "text/html": [
              "<span style=\"white-space:pre; font-family: monospace\">6000 6240 6489.6 6749.18 7019.15 7299.92\n",
              "</span>"
            ]
          },
          "execution_count": 28,
          "metadata": {},
          "output_type": "execute_result"
        }
      ],
      "source": [
        "6000\u00d71.04*(\u23736)-1"
      ]
    },
    {
      "cell_type": "markdown",
      "metadata": {},
      "source": [
        "(Some-Primitive-Functions-Ravel)=\n",
        "## Ravel\n",
        "\n",
        "The function _ravel_ is represented by the monadic use of comma (`,`). Applied to any array, it returns all its items as a vector.\n",
        "\n",
        "Naturally, if the array is already a vector, _ravel_ does not change anything.\n",
        "\n",
        "Let us see how it works on some matrices."
      ]
    },
    {
      "cell_type": "code",
      "execution_count": 29,
      "metadata": {},
      "outputs": [
        {
          "data": {
            "text/html": [
              "<span style=\"white-space:pre; font-family: monospace\">73  16 42\n",
              "50   2 67\n",
              "11  81 37\n",
              "93 100 98\n",
              "83  32 76\n",
              "51  37 15\n",
              "</span>"
            ]
          },
          "execution_count": 29,
          "metadata": {},
          "output_type": "execute_result"
        }
      ],
      "source": [
        "\u2395RL \u2190 73\n",
        "\u22a2tests \u2190 ?6 3\u2374100"
      ]
    },
    {
      "cell_type": "code",
      "execution_count": 30,
      "metadata": {},
      "outputs": [
        {
          "data": {
            "text/html": [
              "<span style=\"white-space:pre; font-family: monospace\">73 16 42 50 2 67 11 81 37 93 100 98 83 32 76 51 37 15\n",
              "</span>"
            ]
          },
          "execution_count": 30,
          "metadata": {},
          "output_type": "execute_result"
        }
      ],
      "source": [
        ",tests"
      ]
    },
    {
      "cell_type": "markdown",
      "metadata": {},
      "source": [
        "The items of the matrix have been strung out and returned as a vector, row by row."
      ]
    },
    {
      "cell_type": "code",
      "execution_count": 31,
      "metadata": {},
      "outputs": [
        {
          "name": "stderr",
          "output_type": "stream",
          "text": [
            "VALUE ERROR: Undefined name: chemistry\n",
            "      chemistry\n",
            "      \u2227\n"
          ]
        }
      ],
      "source": [
        "chemistry"
      ]
    },
    {
      "cell_type": "code",
      "execution_count": 333,
      "metadata": {},
      "outputs": [
        {
          "data": {
            "text/html": [
              "<span style=\"white-space:pre; font-family: monospace\">H2SO4CaCO3Fe2O3\n",
              "</span>"
            ]
          },
          "execution_count": 333,
          "metadata": {},
          "output_type": "execute_result"
        }
      ],
      "source": [
        ",chemistry"
      ]
    },
    {
      "cell_type": "markdown",
      "metadata": {},
      "source": [
        "A common use of _ravel_ is to transform a scalar into a 1-item vector. The difference between a scalar and a 1-item vector is not readily obvious, until you use it as an index into a matrix.\n",
        "\n",
        "Suppose that you need to select a particular set of columns `cols` from the matrix `forecast`. As long as `cols` contains more than one value, the result will be a matrix:"
      ]
    },
    {
      "cell_type": "code",
      "execution_count": 195,
      "metadata": {},
      "outputs": [
        {
          "data": {
            "text/html": [
              "<span style=\"white-space:pre; font-family: monospace\"> 90 500  30\n",
              "110 370 360\n",
              "340 120 370\n",
              "150 520 280\n",
              "</span>"
            ]
          },
          "execution_count": 195,
          "metadata": {},
          "output_type": "execute_result"
        }
      ],
      "source": [
        "cols \u2190 1 4 6\n",
        "forecast[;cols]"
      ]
    },
    {
      "cell_type": "markdown",
      "metadata": {},
      "source": [
        "But if `cols` happens to have only a single value, which is a scalar, the result returned is a vector (we already mentioned this in {numref}`Data-and-Variables-Array-Indexing`):"
      ]
    },
    {
      "cell_type": "code",
      "execution_count": 196,
      "metadata": {},
      "outputs": [
        {
          "data": {
            "text/html": [
              "<span style=\"white-space:pre; font-family: monospace\">500 370 120 520\n",
              "</span>"
            ]
          },
          "execution_count": 196,
          "metadata": {},
          "output_type": "execute_result"
        }
      ],
      "source": [
        "cols \u2190 4\n",
        "forecast[;cols]"
      ]
    },
    {
      "cell_type": "markdown",
      "metadata": {},
      "source": [
        "The rank of the result may be critical if some other expression in your program expects a matrix.\n",
        "\n",
        "To make certain that your indexing expression always returns a matrix, you must ensure that your index will always be a vector by using _ravel_:"
      ]
    },
    {
      "cell_type": "code",
      "execution_count": 32,
      "metadata": {},
      "outputs": [
        {
          "name": "stderr",
          "output_type": "stream",
          "text": [
            "VALUE ERROR: Undefined name: cols\n",
            "      forecast[;,cols]\n",
            "                 \u2227\n"
          ]
        }
      ],
      "source": [
        "forecast[;,cols]"
      ]
    },
    {
      "cell_type": "markdown",
      "metadata": {},
      "source": [
        "With `,cols`, whatever the rank of `cols` is, the result will always be a matrix.\n",
        "\n",
        "*Ravel* can be associated with an _axis_ specifier; this will be discussed in {numref}`Some-Primitive-Functions-Ravel-With-Axis`."
      ]
    },
    {
      "cell_type": "markdown",
      "metadata": {},
      "source": [
        "(Some-Primitive-Functions-Empty-Vectors-and-Black-Holes)=\n",
        "## Empty Vectors and Black Holes\n",
        "\n",
        "When we apply a scalar dyadic function to a vector and a scalar, the rule is that the result has the same size as the vector:"
      ]
    },
    {
      "cell_type": "code",
      "execution_count": 33,
      "metadata": {},
      "outputs": [
        {
          "data": {
            "text/html": [
              "<span style=\"white-space:pre; font-family: monospace\">52 85 96 41\n",
              "</span>"
            ]
          },
          "execution_count": 33,
          "metadata": {},
          "output_type": "execute_result"
        }
      ],
      "source": [
        "42 75 86 31 + 10"
      ]
    },
    {
      "cell_type": "markdown",
      "metadata": {},
      "source": [
        "Above, a scalar added to a 4-item vector gives a 4-item vector, too.\n",
        "\n",
        "Below, a 7-item vector compared to a scalar gives a 7-item vector:"
      ]
    },
    {
      "cell_type": "code",
      "execution_count": 34,
      "metadata": {},
      "outputs": [
        {
          "data": {
            "text/html": [
              "<span style=\"white-space:pre; font-family: monospace\">1 0 1 1 0 0 0\n",
              "</span>"
            ]
          },
          "execution_count": 34,
          "metadata": {},
          "output_type": "execute_result"
        }
      ],
      "source": [
        "'MAMMOTH' = 'M'"
      ]
    },
    {
      "cell_type": "markdown",
      "metadata": {},
      "source": [
        "But what happens if the vector is empty? The rule says that the result must have the same size as the vector: therefore it should be empty, too, regardless of the (scalar) function that we used!"
      ]
    },
    {
      "cell_type": "code",
      "execution_count": 35,
      "metadata": {},
      "outputs": [
        {
          "data": {
            "text/html": [
              "<span style=\"white-space:pre; font-family: monospace\">\n",
              "</span>"
            ]
          },
          "execution_count": 35,
          "metadata": {},
          "output_type": "execute_result"
        }
      ],
      "source": [
        "hole \u2190 \u236c\n",
        "hole + 3"
      ]
    },
    {
      "cell_type": "markdown",
      "metadata": {},
      "source": [
        "Notice how nothing is displayed above: the result is empty.\n",
        "\n",
        "The same thing happens if we multiply by 100, for example:"
      ]
    },
    {
      "cell_type": "code",
      "execution_count": 36,
      "metadata": {},
      "outputs": [
        {
          "data": {
            "text/html": [
              "<span style=\"white-space:pre; font-family: monospace\">\n",
              "</span>"
            ]
          },
          "execution_count": 36,
          "metadata": {},
          "output_type": "execute_result"
        }
      ],
      "source": [
        "hole \u00d7 100"
      ]
    },
    {
      "cell_type": "code",
      "execution_count": 41,
      "metadata": {},
      "outputs": [
        {
          "data": {
            "text/html": [
              "<span style=\"white-space:pre; font-family: monospace\">\n",
              "</span>"
            ]
          },
          "execution_count": 41,
          "metadata": {},
          "output_type": "execute_result"
        }
      ],
      "source": [
        "hole = 0"
      ]
    },
    {
      "cell_type": "code",
      "execution_count": 42,
      "metadata": {},
      "outputs": [
        {
          "data": {
            "text/html": [
              "<span style=\"white-space:pre; font-family: monospace\">\n",
              "</span>"
            ]
          },
          "execution_count": 42,
          "metadata": {},
          "output_type": "execute_result"
        }
      ],
      "source": [
        "hole = hole"
      ]
    },
    {
      "cell_type": "code",
      "execution_count": 43,
      "metadata": {},
      "outputs": [
        {
          "data": {
            "text/html": [
              "<span style=\"white-space:pre; font-family: monospace\">0\n",
              "</span>"
            ]
          },
          "execution_count": 43,
          "metadata": {},
          "output_type": "execute_result"
        }
      ],
      "source": [
        "\u2374hole"
      ]
    },
    {
      "cell_type": "code",
      "execution_count": 44,
      "metadata": {},
      "outputs": [
        {
          "data": {
            "text/html": [
              "<span style=\"white-space:pre; font-family: monospace\">1\n",
              "</span>"
            ]
          },
          "execution_count": 44,
          "metadata": {},
          "output_type": "execute_result"
        }
      ],
      "source": [
        "hole \u2261 \u236c"
      ]
    },
    {
      "cell_type": "markdown",
      "metadata": {},
      "source": [
        "If you were working on the terminal and getting all these empty results, you could compare `hole` to `\u236c` with _match_ and conclude `hole` is an empty numeric vector.\n",
        "\n",
        "Empty vectors look very much like black holes: they absorb everything (but only when used with scalar functions). This may lead to some unexpected results."
      ]
    },
    {
      "cell_type": "markdown",
      "metadata": {},
      "source": [
        "(Some-Primitive-Functions-Not-All-Empty-Vectors-Are-Created-Equal)=\n",
        "### Not All Empty Vectors Are Created Equal\n",
        "\n",
        "Something that might throw off new APLers is the fact that there are infinitely many different empty vectors. The first two examples being `\u236c` and `''`:"
      ]
    },
    {
      "cell_type": "code",
      "execution_count": 45,
      "metadata": {},
      "outputs": [
        {
          "data": {
            "text/html": [
              "<span style=\"white-space:pre; font-family: monospace\">\n",
              "</span>"
            ]
          },
          "execution_count": 45,
          "metadata": {},
          "output_type": "execute_result"
        }
      ],
      "source": [
        "\u236c"
      ]
    },
    {
      "cell_type": "code",
      "execution_count": 46,
      "metadata": {},
      "outputs": [
        {
          "data": {
            "text/html": [
              "<span style=\"white-space:pre; font-family: monospace\">\n",
              "</span>"
            ]
          },
          "execution_count": 46,
          "metadata": {},
          "output_type": "execute_result"
        }
      ],
      "source": [
        "''"
      ]
    },
    {
      "cell_type": "markdown",
      "metadata": {},
      "source": [
        "They look the same when displayed as results, but they are *not* the same:"
      ]
    },
    {
      "cell_type": "code",
      "execution_count": 47,
      "metadata": {},
      "outputs": [
        {
          "data": {
            "text/html": [
              "<span style=\"white-space:pre; font-family: monospace\">0\n",
              "</span>"
            ]
          },
          "execution_count": 47,
          "metadata": {},
          "output_type": "execute_result"
        }
      ],
      "source": [
        "\u236c\u2261''"
      ]
    },
    {
      "cell_type": "markdown",
      "metadata": {},
      "source": [
        "And this is just the tip of the iceberg. If you recall the rule for _where_ (monadic `\u2378`), we know that `\u2378Y` returns an empty vector if `Y` only contains 0s, but an empty vector of _what_?\n",
        "\n",
        "If `Y` contains positive integers, then the result of `\u2378Y` will contain some indices that can be used to index into `Y` and the shape of those indices depends on the shape of `Y`:"
      ]
    },
    {
      "cell_type": "code",
      "execution_count": 48,
      "metadata": {},
      "outputs": [
        {
          "data": {
            "text/html": [
              "<span style=\"white-space:pre; font-family: monospace\">1 3\n",
              "</span>"
            ]
          },
          "execution_count": 48,
          "metadata": {},
          "output_type": "execute_result"
        }
      ],
      "source": [
        "\u2378 1 0 1 0"
      ]
    },
    {
      "cell_type": "code",
      "execution_count": 49,
      "metadata": {},
      "outputs": [
        {
          "data": {
            "text/html": [
              "<span style=\"white-space:pre; font-family: monospace\">\u250c\u2500\u2500\u2500\u252c\u2500\u2500\u2500\u2510\n",
              "\u25021 1\u25022 1\u2502\n",
              "\u2514\u2500\u2500\u2500\u2534\u2500\u2500\u2500\u2518\n",
              "</span>"
            ]
          },
          "execution_count": 49,
          "metadata": {},
          "output_type": "execute_result"
        }
      ],
      "source": [
        "\u2378 2 2\u23741 0 1 0"
      ]
    },
    {
      "cell_type": "markdown",
      "metadata": {},
      "source": [
        "So, in the first example the result is a vector with 2 integers, and in the second example the result is a vector with 2 vectors, each containing 2 items.\n",
        "\n",
        "If we change one of the 1s to a 0, here is what we will be getting:"
      ]
    },
    {
      "cell_type": "code",
      "execution_count": 52,
      "metadata": {},
      "outputs": [
        {
          "data": {
            "text/html": [
              "<span style=\"white-space:pre; font-family: monospace\">1\n",
              "</span>"
            ]
          },
          "execution_count": 52,
          "metadata": {},
          "output_type": "execute_result"
        }
      ],
      "source": [
        "\u2378 1 0 0 0"
      ]
    },
    {
      "cell_type": "code",
      "execution_count": 51,
      "metadata": {},
      "outputs": [
        {
          "data": {
            "text/html": [
              "<span style=\"white-space:pre; font-family: monospace\">\u250c\u2500\u2500\u2500\u2510\n",
              "\u25021 1\u2502\n",
              "\u2514\u2500\u2500\u2500\u2518\n",
              "</span>"
            ]
          },
          "execution_count": 51,
          "metadata": {},
          "output_type": "execute_result"
        }
      ],
      "source": [
        "\u2378 2 2\u23741 0 0 0"
      ]
    },
    {
      "cell_type": "markdown",
      "metadata": {},
      "source": [
        "Now the first result is a vector with 1 integer and the second result is a vector with 1 vector of 2 items.\n",
        "\n",
        "If we change the final 1 to a 0, we will be getting a vector with 0 integers (an empty numeric vector `\u236c`) and a vector with 0 vectors of 2 items. For APL, these are *not* the same thing:"
      ]
    },
    {
      "cell_type": "code",
      "execution_count": 53,
      "metadata": {},
      "outputs": [
        {
          "data": {
            "text/html": [
              "<span style=\"white-space:pre; font-family: monospace\">\n",
              "</span>"
            ]
          },
          "execution_count": 53,
          "metadata": {},
          "output_type": "execute_result"
        }
      ],
      "source": [
        "\u2378 0 0 0 0"
      ]
    },
    {
      "cell_type": "code",
      "execution_count": 54,
      "metadata": {},
      "outputs": [
        {
          "data": {
            "text/html": [
              "<span style=\"white-space:pre; font-family: monospace\">1\n",
              "</span>"
            ]
          },
          "execution_count": 54,
          "metadata": {},
          "output_type": "execute_result"
        }
      ],
      "source": [
        "\u236c\u2261\u2378 0 0 0 0"
      ]
    },
    {
      "cell_type": "code",
      "execution_count": 55,
      "metadata": {},
      "outputs": [
        {
          "data": {
            "text/html": [
              "<span style=\"white-space:pre; font-family: monospace\">\n",
              "\n",
              "\n",
              "</span>"
            ]
          },
          "execution_count": 55,
          "metadata": {},
          "output_type": "execute_result"
        }
      ],
      "source": [
        "\u2378 2 2\u23740 0 0 0"
      ]
    },
    {
      "cell_type": "code",
      "execution_count": 56,
      "metadata": {},
      "outputs": [
        {
          "data": {
            "text/html": [
              "<span style=\"white-space:pre; font-family: monospace\">0\n",
              "</span>"
            ]
          },
          "execution_count": 56,
          "metadata": {},
          "output_type": "execute_result"
        }
      ],
      "source": [
        "\u236c\u2261\u2378 2 2\u23740 0 0 0        \u235d different empty vectors"
      ]
    },
    {
      "cell_type": "markdown",
      "metadata": {},
      "source": [
        "```{admonition} Tip \n",
        ":class: tip\n",
        "When you are dealing with empty vectors, you can use the incantation `\u2395SE.Dyalog.Utils.repObj` to get a more useful representation.\n",
        "```\n",
        "\n",
        "To illustrate this incantation, we will see what it returns for the empty vectors we saw above:"
      ]
    },
    {
      "cell_type": "code",
      "execution_count": 57,
      "metadata": {},
      "outputs": [
        {
          "data": {
            "text/html": [
              "<span style=\"white-space:pre; font-family: monospace\">''\n",
              "</span>"
            ]
          },
          "execution_count": 57,
          "metadata": {},
          "output_type": "execute_result"
        }
      ],
      "source": [
        "\u2395SE.Dyalog.Utils.repObj ''"
      ]
    },
    {
      "cell_type": "code",
      "execution_count": 58,
      "metadata": {
        "scrolled": true
      },
      "outputs": [
        {
          "data": {
            "text/html": [
              "<span style=\"white-space:pre; font-family: monospace\">\u236c\n",
              "</span>"
            ]
          },
          "execution_count": 58,
          "metadata": {},
          "output_type": "execute_result"
        }
      ],
      "source": [
        "\u2395SE.Dyalog.Utils.repObj \u236c"
      ]
    },
    {
      "cell_type": "code",
      "execution_count": 59,
      "metadata": {},
      "outputs": [
        {
          "data": {
            "text/html": [
              "<span style=\"white-space:pre; font-family: monospace\">\u236c\n",
              "</span>"
            ]
          },
          "execution_count": 59,
          "metadata": {},
          "output_type": "execute_result"
        }
      ],
      "source": [
        "\u2395SE.Dyalog.Utils.repObj \u2378 0 0 0 0"
      ]
    },
    {
      "cell_type": "code",
      "execution_count": 60,
      "metadata": {},
      "outputs": [
        {
          "data": {
            "text/html": [
              "<span style=\"white-space:pre; font-family: monospace\">0\u2374\u22822\u23740\n",
              "</span>"
            ]
          },
          "execution_count": 60,
          "metadata": {},
          "output_type": "execute_result"
        }
      ],
      "source": [
        "\u2395SE.Dyalog.Utils.repObj \u2378 2 2\u23740 0 0 0"
      ]
    },
    {
      "cell_type": "markdown",
      "metadata": {},
      "source": [
        "What the code cell above tells us is that `\u2378 2 2\u23740 0 0 0` matches `0\u2374\u22822\u23740`, which you can check by copying & pasting the result above, or using <kbd>APL</kbd>+<kbd>z</kbd> to type `\u2282`:"
      ]
    },
    {
      "cell_type": "code",
      "execution_count": 61,
      "metadata": {},
      "outputs": [
        {
          "data": {
            "text/html": [
              "<span style=\"white-space:pre; font-family: monospace\">1\n",
              "</span>"
            ]
          },
          "execution_count": 61,
          "metadata": {},
          "output_type": "execute_result"
        }
      ],
      "source": [
        "(0\u2374\u22822\u23740)\u2261(\u2378 2 2\u23740 0 0 0)"
      ]
    },
    {
      "cell_type": "markdown",
      "metadata": {},
      "source": [
        "(You will learn about what `\u2282` does in a future chapter, don't worry.)\n",
        "\n",
        "(fig-Hierarchy)=\n",
        "```{figure} ../res/Hierarchy.png\n",
        "---\n",
        "name: Hierarchy\n",
        "---\n",
        "\n",
        "```\n"
      ]
    },
    {
      "cell_type": "markdown",
      "metadata": {},
      "source": [
        "(Some-Primitive-Functions-Exercises)=\n",
        "## Exercises\n",
        "\n",
        "```{admonition} Warning \n",
        ":class: warning\n",
        "*The following exercises are designed to train **you**, not the computer.*\n",
        "\n",
        "*For this reason, we suggest that you try to answer them on a sheet of paper, not on your computer. When you are sure of your answer, you can test it on the computer.*\n",
        "```\n"
      ]
    },
    {
      "cell_type": "markdown",
      "metadata": {},
      "source": [
        "````{exercise}\n",
        ":label: expr-eval\n",
        "Can you evaluate the following expressions?\n",
        "\n",
        "```APL\n",
        "3 \u00d7 2 + 6 \u2260 3 \u00d7 2\n",
        "12 6 27 \u230a 11 + \u23733\n",
        "4 5 6 \u2308 4 + 2 5 9 > 1 6 8\n",
        "7 \u230a 25 6 17 - (2 \u00d7 3) + 9 3 5\n",
        "((8 + 6) \u00d7 2 + 1) \u00d7 3 - 6 \u00f7 3\n",
        "(\u23744\u23085) + 4\u23085\n",
        "1 \u22a2 2 \u22a3 3 \u22a2 4 \u22a3 5 \u22a2 6 \u22a3 7\n",
        "1 \u22a3 2 \u22a2 3 \u22a3 4 \u22a2 5 \u22a3 6 \u22a2 7\n",
        "1 2 3 \u22a2 4 5 6\n",
        "```\n",
        "````\n"
      ]
    },
    {
      "cell_type": "markdown",
      "metadata": {},
      "source": [
        "````{exercise}\n",
        ":label: expr-eval2\n",
        "Try to evaluate the following expressions. *Be careful*: they are not as simple as might first appear!\n",
        "\n",
        "```APL\n",
        "2 2+2 2\n",
        "2+2 2+2\n",
        "2+2,2+2\n",
        "2,2+2,2\n",
        "```\n",
        "````\n"
      ]
    },
    {
      "cell_type": "markdown",
      "metadata": {},
      "source": [
        "````{exercise}\n",
        ":label: a-expr-eval\n",
        "Given the vector `a \u2190 8 2 7 5`, compare the results obtained from the following sets of expressions:\n",
        "\n",
        "```APL\n",
        "1+\u2374a\n",
        "\u2374a+1\n",
        "```\n",
        "\n",
        "and also\n",
        "\n",
        "```APL\n",
        "1+\u2373\u2374a\n",
        "\u2373\u00af1+\u2374a\n",
        "\u2373\u2374a-1\n",
        "```\n",
        "````\n"
      ]
    },
    {
      "cell_type": "markdown",
      "metadata": {},
      "source": [
        "````{exercise}\n",
        ":label: remove-parens\n",
        "Using your knowledge of the order of evaluation in APL, re-write the following expressions without using parentheses.\n",
        "\n",
        "```APL\n",
        "((\u23734)-1)\u23083\n",
        "7\u230a(\u23739)\u23083\n",
        "1+((\u23735)=1 4 3 2 5)\u00d75\n",
        "```\n",
        "````\n"
      ]
    },
    {
      "cell_type": "markdown",
      "metadata": {},
      "source": [
        "```{exercise}\n",
        ":label: is-scalar\n",
        "Given a variable `a`, find an expression which returns the answer 1 if `a` is a scalar, and 0 if it is not.\n",
        "```\n"
      ]
    },
    {
      "cell_type": "markdown",
      "metadata": {},
      "source": [
        "```{exercise}\n",
        ":label: a-b\n",
        "Given two scalars `a` and `b`, write an expressions which gives 7 if `a` is greater than or equal to `b` and 3 if `a` is smaller than `b`.\n",
        "```\n"
      ]
    },
    {
      "cell_type": "markdown",
      "metadata": {},
      "source": [
        "```{exercise}\n",
        ":label: a-b-else\n",
        "Given two scalars `a` and `b`, find an expression which returns:\n",
        " - an empty vector, if `a` is zero, whatever the value of `b`;\n",
        " - 0, if `b` is zero, but `a` is not;\n",
        " - 3, if neither `a` nor `b` are zero.\n",
        "```\n"
      ]
    },
    {
      "cell_type": "markdown",
      "metadata": {},
      "source": [
        "````{exercise}\n",
        ":label: and-or-maths\n",
        "Unfortunately, your keyboard has been damaged and your `\u2227` and `\u2228` keys no longer work. Which other symbols could you use to replace them?\n",
        "\n",
        "You can test your solutions on the vectors `l` and `r`:\n",
        "\n",
        "```APL\n",
        "l \u2190 0 0 1 1\n",
        "r \u2190 0 1 0 1\n",
        "```\n",
        "````\n"
      ]
    },
    {
      "cell_type": "markdown",
      "metadata": {},
      "source": [
        "````{exercise}\n",
        ":label: gmd-eval\n",
        "Given these three vectors:\n",
        "\n",
        "```APL\n",
        "g \u2190 1 1 1 0 0 1\n",
        "m \u2190 0 0 1 1 0 1\n",
        "d \u2190 1 0 1 0 1 0\n",
        "```\n",
        "\n",
        "Evaluate the following expressions:\n",
        "\n",
        "```APL\n",
        "g\u2228d\n",
        "~g\u2227d\n",
        "~g\u2228~d\n",
        "d\u2227~g\n",
        "g\u2227m\u2228d\n",
        "(~d)\u2227(~g)\n",
        "(m\u2308g)=(m\u230ad)\n",
        "(m\u230ag)\u2260(m\u2308d)\n",
        "```\n",
        "````\n"
      ]
    },
    {
      "cell_type": "markdown",
      "metadata": {},
      "source": [
        "````{exercise}\n",
        ":label: eval-expr-comps\n",
        "Evaluate the following expressions:\n",
        "\n",
        "```APL\n",
        "0 < 0 \u2264 0 = 0 \u2265 0 > 0\n",
        "'sugar' \u220a 'salt'\n",
        "11 \u2260 '11'\n",
        "'14' \u2373 '41'\n",
        "```\n",
        "````\n"
      ]
    },
    {
      "cell_type": "markdown",
      "metadata": {},
      "source": [
        "````{exercise}\n",
        ":label: count-e\n",
        "Write an expression to compute the number of times the letter \"e\" appears in a character vector. You can test it with this vector:\n",
        "\n",
        "```APL\n",
        "text \u2190 'The silence of the sea'\n",
        "```\n",
        "````\n"
      ]
    },
    {
      "cell_type": "markdown",
      "metadata": {},
      "source": [
        "````{exercise}\n",
        ":label: get-last\n",
        "How many expressions can you write to retrieve the last element of a vector? Can you write one that uses the operator _reduce_ `/`?\n",
        "\n",
        "You can test your expressions on these vectors:\n",
        "\n",
        "```APL\n",
        "vec \u2190 1 2 3 4 5 6\n",
        "vec \u2190 (1 2) 3 (4 5) 6\n",
        "vec \u2190 0 (5\u23740) (3 4\u23740) (1 2 3\u23740)\n",
        "```\n",
        "````\n"
      ]
    },
    {
      "cell_type": "markdown",
      "metadata": {},
      "source": [
        "````{exercise}\n",
        ":label: find-z\n",
        "We have conducted some experiments on a variable `z`:\n",
        "\n",
        "```APL\n",
        "      2 \u2374 z\n",
        "1 7\n",
        "      +\u233f z\n",
        "20\n",
        "      z = 9\n",
        "0\n",
        "0\n",
        "1\n",
        "0\n",
        "```\n",
        "\n",
        "What is the value of `z`?\n",
        "````\n"
      ]
    },
    {
      "cell_type": "markdown",
      "metadata": {},
      "source": [
        "````{exercise}\n",
        ":label: find-z-matrix\n",
        "We have conducted some experiments on a variable `z`:\n",
        "\n",
        "```APL\n",
        "      z = 0\n",
        "0 1 0 0\n",
        "1 0 0 1\n",
        "      +/[2] z\n",
        "20 6\n",
        "      +/[1] z\n",
        "8 7 6 5\n",
        "```\n",
        "\n",
        "What is the value of `z`?\n",
        "````\n"
      ]
    },
    {
      "cell_type": "markdown",
      "metadata": {},
      "source": [
        "```{exercise}\n",
        ":label: ex-where\n",
        "What are all the **positions** of the letter \"e\" in the character vector specified in exercise 11?\n",
        "```\n"
      ]
    },
    {
      "cell_type": "markdown",
      "metadata": {},
      "source": [
        "````{exercise}\n",
        ":label: get-odd\n",
        "Given a vector `vec` of any size and type (numeric or character or even nested), try to extract the items of `vec` which are in the odd positions (the 1st, the 3rd, the 5th, ...).\n",
        "\n",
        "You can test your solution on these vectors:\n",
        "\n",
        "```APL\n",
        "vec \u2190 1 2 3 4 5 6 7 8 9\n",
        "vec \u2190 'CROANGGARYANTLULLBAPTWIZOSNSSB'\n",
        "vec \u2190 (1 2) (2 3) (4 5 6) (6 9 42 1024)\n",
        "```\n",
        "````\n"
      ]
    },
    {
      "cell_type": "markdown",
      "metadata": {},
      "source": [
        "```{exercise}\n",
        ":label: count-scalars\n",
        "How many numbers are there in the variable `prod` used in this chapter? Try to answer with and without using _ravel_ (monadic `,`).\n",
        "```\n"
      ]
    },
    {
      "cell_type": "markdown",
      "metadata": {},
      "source": [
        "```{exercise}\n",
        ":label: remove-20-30\n",
        "How is it possible to remove all the values which do not fall between 20 (inclusive) and 30 (exclusive) from a given vector?\n",
        "```\n"
      ]
    },
    {
      "cell_type": "markdown",
      "metadata": {},
      "source": [
        "````{exercise}\n",
        ":label: tally-shape\n",
        "Notice how these two expressions look the same:\n",
        "\n",
        "```APL\n",
        "      \u2262vec\n",
        "4\n",
        "      \u2374vec\n",
        "4\n",
        "```\n",
        "\n",
        "Can you tell if/how they are different?\n",
        "````\n"
      ]
    },
    {
      "cell_type": "markdown",
      "metadata": {},
      "source": [
        "````{exercise}\n",
        ":label: ex-depth\n",
        "Compute the _depth_ (`\u2261`) of these arrays:\n",
        "\n",
        "```APL\n",
        "42\n",
        "42 41 40 39\n",
        "2 2\u237442 41 40 39\n",
        "1 (2 3) (4 5)\n",
        "(1 2) (3 4 5) (6 7 8 9)\n",
        "1 (2 (3 (4 (5 (6 7)))))\n",
        "(2 2\u23744) (2 2\u2374\u237347) (3 6\u2374\u237318)\n",
        "```\n",
        "````\n"
      ]
    },
    {
      "cell_type": "markdown",
      "metadata": {},
      "source": [
        "```{exercise}\n",
        ":label: clip-values\n",
        "In a vector, we would like to replace all the values that are smaller than 20 by 20, and replace all the values that are greater than 30 by 30. How can we do that? (In other words, how might we clip the values of a vector so that they are between 20 and 30, inclusive?)\n",
        "```\n"
      ]
    },
    {
      "cell_type": "markdown",
      "metadata": {},
      "source": [
        "````{exercise}\n",
        ":label: find-errors\n",
        "The following 6 expressions cannot be executed, but instead generate error messages; can you say why?\n",
        "\n",
        "```APL\n",
        "3+(5-(6+2)\u00d74\n",
        "121\u00f7(\u23734)-3\n",
        "(\u00afX+5)*2\n",
        "\u23744 5 6+2 3-1\n",
        "\u23733-5\n",
        "\u23781 0 2 \u00af1\n",
        "```\n",
        "````\n"
      ]
    },
    {
      "cell_type": "markdown",
      "metadata": {},
      "source": [
        "```{exercise}\n",
        ":label: arithmetic-sequence\n",
        "Write an APL expression which produces a vector of 17 numbers, the first being 23, with each subsequent number being equal to the preceding one plus 11.\n",
        "```\n"
      ]
    },
    {
      "cell_type": "markdown",
      "metadata": {},
      "source": [
        "````{exercise}\n",
        ":label: bill\n",
        "In a shop, each product is identified by a code. You are given a list of the codes and the corresponding prices:\n",
        "\n",
        "```APL\n",
        "pcodes \u2190 56 66 19 37 44 20 18 23 68 70 82\n",
        "prices \u2190  9 27 10 15 12  5  8  9 98  7 22\n",
        "```\n",
        "\n",
        "A customer gives you a list of items they intend to buy as vector of code/quantity pairs: code, quantity, code, quantity, and so on.\n",
        "\n",
        "```APL\n",
        "wannaBuy \u2190 37 1 70 20 19 2 82 5 23 10\n",
        "```\n",
        "\n",
        "Can you evaluate their bill?\n",
        "\n",
        "Note that this cannot be done easily in a single (and readable) APL expression, and you will therefore need to write several expressions.\n",
        "\n",
        "The correct total should be 375.\n",
        "````\n"
      ]
    },
    {
      "cell_type": "markdown",
      "metadata": {},
      "source": [
        "````{exercise}\n",
        ":label: lottery\n",
        "We have organised a lottery, and we have created five vectors:\n",
        "\n",
        "```APL\n",
        "\u2395RL \u2190 73\n",
        "tickets \u2190 ?1000\u2374999999\n",
        "sold \u2190 tickets[(800+?200)?1000]\n",
        "ours \u2190 sold[(?200)?\u2262sold]\n",
        "winners \u2190 tickets[100?1000]\n",
        "prizes \u2190 ?100\u23741000\n",
        "```\n",
        "\n",
        "These are the meanings of these vectors:\n",
        "\n",
        " - `tickets` has the numbers of all the existing tickets;\n",
        " - `sold` has the numbers of the tickets which have been sold;\n",
        " - `ours` has the numbers of the tickets we bought ourselves;\n",
        " - `winners` has the numbers of the winning tickets, and\n",
        " - `prizes` has the prize amount associated with each respective number in `winners` vector.\n",
        " \n",
        "Now, try to answer the following 4 questions:\n",
        "\n",
        " 1. What are the numbers of the unsold tickets?\n",
        " 2. Are there some winning tickets which have not been sold?\n",
        " 3. How many winning tickets do **we** have?\n",
        " 4. How much did we win?\n",
        "````\n"
      ]
    },
    {
      "cell_type": "markdown",
      "metadata": {},
      "source": [
        "```{exercise}\n",
        ":label: divisors\n",
        "Can you calculate all the divisors of a positive integer number `n`?\n",
        "\n",
        "Here are some results to check your answer:\n",
        "\n",
        "| `n` | Divisors |\n",
        "| :-: | :- |\n",
        "| 1 | 1 |\n",
        "| 2 | 1 2 |\n",
        "| 3 | 1 3 |\n",
        "| 24 | 1 2 3 4 6 8 12 24 |\n",
        "| 1337 | 1 7 191 1337 |\n",
        "| 1234321 | 1 11 101 121 1111 10201 12221 112211 1234321 |\n",
        "```\n"
      ]
    },
    {
      "cell_type": "markdown",
      "metadata": {},
      "source": [
        "**Solutions**: the solutions can be found at the end of this chapter."
      ]
    },
    {
      "cell_type": "markdown",
      "metadata": {},
      "source": [
        "(Some-Primitive-Functions-The-Specialists-Section)=\n",
        "## The Specialist's Section\n",
        "\n",
        "<br />\n",
        "<center><i>Each chapter is followed by a \"Specialist's Section\" like this one. This section is dedicated to skilled APLers who wish to improve their knowledge.</i>\n",
        "    \n",
        "You will find here rare or complex usages of the concepts presented in this chapter, or discover extended explanations which need the knowledge of some symbols that will be seen much further in the book.\n",
        "    \n",
        "<b>If you are exploring APL for the first time, skip this section and go to the next chapter.</b></center>"
      ]
    },
    {
      "cell_type": "markdown",
      "metadata": {},
      "source": [
        "(Some-Primitive-Functions-Division-Control---DIV-and-Other-Mathematical-Subtleties)=\n",
        "### Division Control - \u2395DIV and Other Mathematical Subtleties\n",
        "\n",
        "(Some-Primitive-Functions-Zero-Divided-by-Zero)=\n",
        "#### Zero Divided by Zero\n",
        "\n",
        "In the beginning of this chapter we saw that `0\u00f70` returns 1:"
      ]
    },
    {
      "cell_type": "code",
      "execution_count": 62,
      "metadata": {},
      "outputs": [
        {
          "data": {
            "text/html": [
              "<span style=\"white-space:pre; font-family: monospace\">1\n",
              "</span>"
            ]
          },
          "execution_count": 62,
          "metadata": {},
          "output_type": "execute_result"
        }
      ],
      "source": [
        "0\u00f70"
      ]
    },
    {
      "cell_type": "markdown",
      "metadata": {},
      "source": [
        "One might argue this is the case because any number divided by itself should give 1, like"
      ]
    },
    {
      "cell_type": "code",
      "execution_count": 63,
      "metadata": {},
      "outputs": [
        {
          "data": {
            "text/html": [
              "<span style=\"white-space:pre; font-family: monospace\">1\n",
              "</span>"
            ]
          },
          "execution_count": 63,
          "metadata": {},
          "output_type": "execute_result"
        }
      ],
      "source": [
        "3\u00f73"
      ]
    },
    {
      "cell_type": "code",
      "execution_count": 64,
      "metadata": {},
      "outputs": [
        {
          "data": {
            "text/html": [
              "<span style=\"white-space:pre; font-family: monospace\">1\n",
              "</span>"
            ]
          },
          "execution_count": 64,
          "metadata": {},
          "output_type": "execute_result"
        }
      ],
      "source": [
        "\u00af0.56\u00f7\u00af0.56"
      ]
    },
    {
      "cell_type": "code",
      "execution_count": 65,
      "metadata": {},
      "outputs": [
        {
          "data": {
            "text/html": [
              "<span style=\"white-space:pre; font-family: monospace\">1\n",
              "</span>"
            ]
          },
          "execution_count": 65,
          "metadata": {},
          "output_type": "execute_result"
        }
      ],
      "source": [
        "1.2J0.6\u00f71.2J0.6"
      ]
    },
    {
      "cell_type": "markdown",
      "metadata": {},
      "source": [
        "But `0\u00f70` is indeterminate from a mathematical standpoint, meaning `0\u00f70` by itself has no correct value. What follows from this is that carefully crafted contexts can make `0\u00f70` evaluate to whatever you please.\n",
        "\n",
        "Let us explore that possibility briefly but without much mathematical rigour. Let us define an APL function that behaves like the mathematical function $f(x) = 5x$, i.e. a function that takes a number and multiplies it by 5:"
      ]
    },
    {
      "cell_type": "code",
      "execution_count": 68,
      "metadata": {},
      "outputs": [],
      "source": [
        "F \u2190 {5\u00d7\u2375}"
      ]
    },
    {
      "cell_type": "markdown",
      "metadata": {},
      "source": [
        "And let us evaluate it at many different values:"
      ]
    },
    {
      "cell_type": "code",
      "execution_count": 69,
      "metadata": {},
      "outputs": [
        {
          "data": {
            "text/html": [
              "<span style=\"white-space:pre; font-family: monospace\">\u00af0.933333 \u00af0.866667 \u00af0.8 \u00af0.733333 \u00af0.666667 \u00af0.6 \u00af0.533333 \u00af0.466667 \u00af0.4 \u00af0.333333 \u00af0.266667 \u00af0.2 \u00af0.133333 \u00af0.0666667 0 0.0666667 0.133333 0.2 0.266667 0.333333 0.4 0.466667 0.533333 0.6 0.666667 0.733333 0.8 0.866667 0.933333 1\n",
              "</span>"
            ]
          },
          "execution_count": 69,
          "metadata": {},
          "output_type": "execute_result"
        }
      ],
      "source": [
        "\u22a2x \u2190 \u00af1+15\u00f7\u2368\u237330"
      ]
    },
    {
      "cell_type": "code",
      "execution_count": 70,
      "metadata": {},
      "outputs": [
        {
          "data": {
            "text/html": [
              "<span style=\"white-space:pre; font-family: monospace\">\u00af4.66667 \u00af4.33333 \u00af4 \u00af3.66667 \u00af3.33333 \u00af3 \u00af2.66667 \u00af2.33333 \u00af2 \u00af1.66667 \u00af1.33333 \u00af1 \u00af0.666667 \u00af0.333333 0 0.333333 0.666667 1 1.33333 1.66667 2 2.33333 2.66667 3 3.33333 3.66667 4 4.33333 4.66667 5\n",
              "</span>"
            ]
          },
          "execution_count": 70,
          "metadata": {},
          "output_type": "execute_result"
        }
      ],
      "source": [
        "\u22a2fx \u2190 F x"
      ]
    },
    {
      "cell_type": "markdown",
      "metadata": {},
      "source": [
        "And now let us study the ratio $f(x)/x$ for those several values of `x`:"
      ]
    },
    {
      "cell_type": "code",
      "execution_count": 71,
      "metadata": {},
      "outputs": [
        {
          "data": {
            "text/html": [
              "<span style=\"white-space:pre; font-family: monospace\">5 5 5 5 5 5 5 5 5 5 5 5 5 5 1 5 5 5 5 5 5 5 5 5 5 5 5 5 5 5\n",
              "</span>"
            ]
          },
          "execution_count": 71,
          "metadata": {},
          "output_type": "execute_result"
        }
      ],
      "source": [
        "fx\u00f7x"
      ]
    },
    {
      "cell_type": "markdown",
      "metadata": {},
      "source": [
        "If you look closely, the vector above has plenty of 5s and then a single 1 in the middle, corresponding to the `0\u00f70` division."
      ]
    },
    {
      "cell_type": "code",
      "execution_count": 72,
      "metadata": {},
      "outputs": [
        {
          "data": {
            "text/html": [
              "<span style=\"white-space:pre; font-family: monospace\">0 0 0 0 0 0 0 0 0 0 0 0 0 0 1 0 0 0 0 0 0 0 0 0 0 0 0 0 0 0\n",
              "</span>"
            ]
          },
          "execution_count": 72,
          "metadata": {},
          "output_type": "execute_result"
        }
      ],
      "source": [
        "5\u2260fx\u00f7x"
      ]
    },
    {
      "cell_type": "markdown",
      "metadata": {},
      "source": [
        "Let us try to create values of `x` that are tighter around 0 and perform the same division."
      ]
    },
    {
      "cell_type": "code",
      "execution_count": 73,
      "metadata": {},
      "outputs": [
        {
          "data": {
            "text/html": [
              "<span style=\"white-space:pre; font-family: monospace\">\u00af0.09 \u00af0.08 \u00af0.07 \u00af0.06 \u00af0.05 \u00af0.04 \u00af0.03 \u00af0.02 \u00af0.01 0 0.01 0.02 0.03 0.04 0.05 0.06 0.07 0.08 0.09 0.1\n",
              "</span>"
            ]
          },
          "execution_count": 73,
          "metadata": {},
          "output_type": "execute_result"
        }
      ],
      "source": [
        "\u22a2x \u2190 \u00af0.1+100\u00f7\u2368\u237320"
      ]
    },
    {
      "cell_type": "code",
      "execution_count": 74,
      "metadata": {},
      "outputs": [
        {
          "data": {
            "text/html": [
              "<span style=\"white-space:pre; font-family: monospace\">\u00af0.45 \u00af0.4 \u00af0.35 \u00af0.3 \u00af0.25 \u00af0.2 \u00af0.15 \u00af0.1 \u00af0.05 0 0.05 0.1 0.15 0.2 0.25 0.3 0.35 0.4 0.45 0.5\n",
              "</span>"
            ]
          },
          "execution_count": 74,
          "metadata": {},
          "output_type": "execute_result"
        }
      ],
      "source": [
        "\u22a2fx \u2190 F x"
      ]
    },
    {
      "cell_type": "code",
      "execution_count": 75,
      "metadata": {},
      "outputs": [
        {
          "data": {
            "text/html": [
              "<span style=\"white-space:pre; font-family: monospace\">5 5 5 5 5 5 5 5 5 1 5 5 5 5 5 5 5 5 5 5\n",
              "</span>"
            ]
          },
          "execution_count": 75,
          "metadata": {},
          "output_type": "execute_result"
        }
      ],
      "source": [
        "fx\u00f7x"
      ]
    },
    {
      "cell_type": "markdown",
      "metadata": {},
      "source": [
        "No matter how close to 0 we are, these ratios are always going to be returning 5. Because our function $f(x)$ is well-behaved, in this context `0\u00f70` should return 5. Of course having to factor this in is an inconvenience for programming languages and most of them either\n",
        " - raise an error when one tries to divide zero by zero; or\n",
        " - return a previously-agreed-upon value (which is usually 0 or 1).\n",
        " \n",
        "**By default**, Dyalog APL returns 1 when we compute `0\u00f70` as you saw above. This may sometimes be inappropriate. Suppose that we want to calculate the sales growth for 5 products, but the production of the 3rd product has not started yet, so its sales are currently zero:"
      ]
    },
    {
      "cell_type": "code",
      "execution_count": 76,
      "metadata": {},
      "outputs": [],
      "source": [
        "before \u2190 20 31 0 120 63\n",
        "after \u2190 22 27 0 149 59"
      ]
    },
    {
      "cell_type": "markdown",
      "metadata": {},
      "source": [
        "The growth (in percent rounded) can be calculated like this:"
      ]
    },
    {
      "cell_type": "code",
      "execution_count": 77,
      "metadata": {},
      "outputs": [
        {
          "data": {
            "text/html": [
              "<span style=\"white-space:pre; font-family: monospace\">10 \u00af13 100 24 \u00af6\n",
              "</span>"
            ]
          },
          "execution_count": 77,
          "metadata": {},
          "output_type": "execute_result"
        }
      ],
      "source": [
        "\u230a0.5+100\u00d7 (after-before)\u00f7before"
      ]
    },
    {
      "cell_type": "markdown",
      "metadata": {},
      "source": [
        "It is rather surprising to see that we've got a 100% growth on a product that does not exist!\n",
        "\n",
        "To help circumvent this sort of issues, a so-called _system variable_ named `\u2395DIV` is included in Dyalog APL to change the behaviour of division by zero.\n",
        "\n",
        "**By default**, `\u2395DIV` is 0, but can also be set to 1.\n",
        "\n",
        "| `\u2395DIV` | Behaviour |\n",
        "| :-: | :- |\n",
        "| 0 | `0\u00f70` gives 1 |\n",
        "| | Any other number divided by 0 gives a `DOMAIN ERROR` |\n",
        "| 1 | `0\u00f70` gives 0 |\n",
        "| | Any other number divided by 0 gives 0 |\n",
        "\n",
        "To change the value of the _system variable_ `\u2395DIV` you just assign to it as you would any other variable:"
      ]
    },
    {
      "cell_type": "code",
      "execution_count": 78,
      "metadata": {},
      "outputs": [],
      "source": [
        "\u2395DIV \u2190 1"
      ]
    },
    {
      "cell_type": "code",
      "execution_count": 79,
      "metadata": {},
      "outputs": [
        {
          "data": {
            "text/html": [
              "<span style=\"white-space:pre; font-family: monospace\">0\n",
              "</span>"
            ]
          },
          "execution_count": 79,
          "metadata": {},
          "output_type": "execute_result"
        }
      ],
      "source": [
        "0\u00f70"
      ]
    },
    {
      "cell_type": "code",
      "execution_count": 80,
      "metadata": {},
      "outputs": [
        {
          "data": {
            "text/html": [
              "<span style=\"white-space:pre; font-family: monospace\">0\n",
              "</span>"
            ]
          },
          "execution_count": 80,
          "metadata": {},
          "output_type": "execute_result"
        }
      ],
      "source": [
        "5\u00f70"
      ]
    },
    {
      "cell_type": "code",
      "execution_count": 81,
      "metadata": {},
      "outputs": [],
      "source": [
        "\u2395DIV \u2190 0"
      ]
    },
    {
      "cell_type": "code",
      "execution_count": 82,
      "metadata": {},
      "outputs": [
        {
          "data": {
            "text/html": [
              "<span style=\"white-space:pre; font-family: monospace\">1\n",
              "</span>"
            ]
          },
          "execution_count": 82,
          "metadata": {},
          "output_type": "execute_result"
        }
      ],
      "source": [
        "0\u00f70"
      ]
    },
    {
      "cell_type": "code",
      "execution_count": 83,
      "metadata": {},
      "outputs": [
        {
          "name": "stderr",
          "output_type": "stream",
          "text": [
            "DOMAIN ERROR: Divide by zero\n",
            "      5\u00f70\n",
            "       \u2227\n"
          ]
        }
      ],
      "source": [
        "5\u00f70"
      ]
    },
    {
      "cell_type": "markdown",
      "metadata": {},
      "source": [
        "Because `\u2395DIV` is a variable, it can be localised in the header of a function. Then the particular behaviour of division remains specific to that function and its sub functions.\n",
        "\n",
        "Trying to change `\u2395DIV` to a value other than 0 or 1 also gives a `DOMAIN ERROR`:"
      ]
    },
    {
      "cell_type": "code",
      "execution_count": 84,
      "metadata": {},
      "outputs": [
        {
          "name": "stderr",
          "output_type": "stream",
          "text": [
            "DOMAIN ERROR\n",
            "      \u2395DIV\u21904\n",
            "          \u2227\n"
          ]
        }
      ],
      "source": [
        "\u2395DIV \u2190 4"
      ]
    },
    {
      "cell_type": "markdown",
      "metadata": {},
      "source": [
        "(Some-Primitive-Functions-Zero-To-The-Power-of-Zero)=\n",
        "#### Zero To The Power of Zero\n",
        "\n",
        "We also saw that `0*0` returns 1:"
      ]
    },
    {
      "cell_type": "code",
      "execution_count": 85,
      "metadata": {},
      "outputs": [
        {
          "data": {
            "text/html": [
              "<span style=\"white-space:pre; font-family: monospace\">1\n",
              "</span>"
            ]
          },
          "execution_count": 85,
          "metadata": {},
          "output_type": "execute_result"
        }
      ],
      "source": [
        "0*0"
      ]
    },
    {
      "cell_type": "markdown",
      "metadata": {},
      "source": [
        "This is yet another convention that is in place just to make life easier for programmers, as `0*0` is indeterminate from a mathematical standpoint, similar to `0\u00f70`.\n",
        "\n",
        "But please, do not take my word for it! Notice that any number to the power of 0 gives 1:"
      ]
    },
    {
      "cell_type": "code",
      "execution_count": 21,
      "metadata": {},
      "outputs": [
        {
          "data": {
            "text/html": [
              "<span style=\"white-space:pre; font-family: monospace\">1 1 1 1 1 1 1\n",
              "</span>"
            ]
          },
          "execution_count": 21,
          "metadata": {},
          "output_type": "execute_result"
        }
      ],
      "source": [
        "\u00af3 4J5 1.2 (\u25cb1) 1 2 3 * 0"
      ]
    },
    {
      "cell_type": "markdown",
      "metadata": {},
      "source": [
        "Notice how 0 to the power of any positive number gives 0:"
      ]
    },
    {
      "cell_type": "code",
      "execution_count": 22,
      "metadata": {},
      "outputs": [
        {
          "data": {
            "text/html": [
              "<span style=\"white-space:pre; font-family: monospace\">0 0 0 0 0 0\n",
              "</span>"
            ]
          },
          "execution_count": 22,
          "metadata": {},
          "output_type": "execute_result"
        }
      ],
      "source": [
        "4J5 1.2 (\u25cb1) 1 2 3 *\u2368 0"
      ]
    },
    {
      "cell_type": "markdown",
      "metadata": {},
      "source": [
        "So how do we settle this for `0*0`? If we look at it from the \"a number to the power of 0\" perspective, it should give 1. If we look at it from the \"zero to the power of a number\" perspective, it should give 0. So Dyalog APL just chose to go with the `1=0*0` convention, which is a fairly common one."
      ]
    },
    {
      "cell_type": "markdown",
      "metadata": {},
      "source": [
        "(Some-Primitive-Functions-Derived-Functions)=\n",
        "### Derived Functions\n",
        "\n",
        "Let us sum the items of a vector:"
      ]
    },
    {
      "cell_type": "code",
      "execution_count": 23,
      "metadata": {},
      "outputs": [
        {
          "name": "stderr",
          "output_type": "stream",
          "text": [
            "VALUE ERROR: Undefined name: contents\n",
            "      +/contents\n",
            "        \u2227\n"
          ]
        }
      ],
      "source": [
        "+/ contents"
      ]
    },
    {
      "cell_type": "markdown",
      "metadata": {},
      "source": [
        "In this expression, _reduce_ takes _plus_ as its operand.\n",
        "\n",
        "This pair of symbols creates a new function, a so-called \"_derived function_\". The derived function is monadic in this case, and it takes the variable `contents` as its argument.\n",
        "\n",
        "`contents` is not the right argument of `/`, it is the argument of the derived function `+/`.\n",
        "\n",
        "This is so true that `+/` could be parenthesised:"
      ]
    },
    {
      "cell_type": "code",
      "execution_count": 396,
      "metadata": {},
      "outputs": [
        {
          "data": {
            "text/html": [
              "<span style=\"white-space:pre; font-family: monospace\">672\n",
              "</span>"
            ]
          },
          "execution_count": 396,
          "metadata": {},
          "output_type": "execute_result"
        }
      ],
      "source": [
        "(+/) contents"
      ]
    },
    {
      "cell_type": "markdown",
      "metadata": {},
      "source": [
        "It can also be given a name:"
      ]
    },
    {
      "cell_type": "code",
      "execution_count": 209,
      "metadata": {},
      "outputs": [
        {
          "data": {
            "text/html": [
              "<span style=\"white-space:pre; font-family: monospace\">60\n",
              "</span>"
            ]
          },
          "execution_count": 209,
          "metadata": {},
          "output_type": "execute_result"
        }
      ],
      "source": [
        "sum \u2190 +/\n",
        "sum 10 20 30"
      ]
    },
    {
      "cell_type": "markdown",
      "metadata": {},
      "source": [
        "All operators create *derived functions*, i.e. functions that are derived from the function(s) the operators accept as operand(s)."
      ]
    },
    {
      "cell_type": "markdown",
      "metadata": {},
      "source": [
        "(Some-Primitive-Functions-Nor--Nand)=\n",
        "### Nor & Nand\n",
        "\n",
        "APL boolean algebra also includes two useful functions:\n",
        "\n",
        " - _nor_ (stands for not-or), represented in APL by `\u2371`. You can type it with <kbd>APL</kbd>+<kbd>Shift</kbd>+<kbd>9</kbd>, which is \"above\" `\u2228`;\n",
        " - _nand_ (stands for not-and), represented in APL by `\u2372`. You can type it with <kbd>APL</kbd>+<kbd>Shift</kbd>+<kbd>0</kbd>, which is \"above\" `\u2227`.\n",
        " \n",
        "The _nor_ and _nand_ functions give the negation of _or_ and _and_ respectively, and that is why their symbols are respectively `\u2228` and `\u2227` with a `~` on top.\n",
        "\n",
        "This means that\n",
        "\n",
        " - `a\u2371b` is equal to `~a\u2228b`\n",
        " - `a\u2372b` is equal to `~a\u2227b`\n",
        " \n",
        "as shown below:"
      ]
    },
    {
      "cell_type": "code",
      "execution_count": 398,
      "metadata": {},
      "outputs": [],
      "source": [
        "a \u2190 0 0 1 1\n",
        "b \u2190 0 1 0 1"
      ]
    },
    {
      "cell_type": "code",
      "execution_count": 403,
      "metadata": {},
      "outputs": [
        {
          "data": {
            "text/html": [
              "<span style=\"white-space:pre; font-family: monospace\">0 1 1 1\n",
              "1 0 0 0\n",
              "</span>"
            ]
          },
          "execution_count": 403,
          "metadata": {},
          "output_type": "execute_result"
        }
      ],
      "source": [
        "2 4\u2374 (a\u2228b),(a\u2371b)"
      ]
    },
    {
      "cell_type": "code",
      "execution_count": 404,
      "metadata": {},
      "outputs": [
        {
          "data": {
            "text/html": [
              "<span style=\"white-space:pre; font-family: monospace\">0 0 0 1\n",
              "1 1 1 0\n",
              "</span>"
            ]
          },
          "execution_count": 404,
          "metadata": {},
          "output_type": "execute_result"
        }
      ],
      "source": [
        "2 4\u2374 (a\u2227b),(a\u2372b)"
      ]
    },
    {
      "cell_type": "markdown",
      "metadata": {},
      "source": [
        "```{admonition} Warning \n",
        ":class: warning\n",
        "Both `\u2228` and `\u2227` are associative, but `\u2371` and `\u2372` are not!\n",
        "```\n",
        "\n",
        "This means that `(a\u2228b)\u2228c` is equivalent to `a\u2228(b\u2228c)` and thus can be written `a\u2228b\u2228c`. Similarly for `\u2227`. but for _nor_ and _nand_ this is not the case:"
      ]
    },
    {
      "cell_type": "code",
      "execution_count": 86,
      "metadata": {},
      "outputs": [
        {
          "name": "stderr",
          "output_type": "stream",
          "text": [
            "VALUE ERROR: Undefined name: b\n",
            "      a\u2371(a\u2371b)\n",
            "           \u2227\n"
          ]
        }
      ],
      "source": [
        "a\u2371(a\u2371b)"
      ]
    },
    {
      "cell_type": "code",
      "execution_count": 87,
      "metadata": {},
      "outputs": [
        {
          "name": "stderr",
          "output_type": "stream",
          "text": [
            "VALUE ERROR: Undefined name: b\n",
            "      (a\u2371a)\u2371b\n",
            "            \u2227\n"
          ]
        }
      ],
      "source": [
        "(a\u2371a)\u2371b"
      ]
    },
    {
      "cell_type": "markdown",
      "metadata": {},
      "source": [
        "Changing the order of evaluation changes the result, so `\u2371` is not associative. Same goes for `\u2372`.\n",
        "\n",
        "Another consequence of this is that if `bin` has more than 2 items, `\u2371/bin` is **not** equivalent to `~\u2228/bin`, and similarly for `\u2227`."
      ]
    },
    {
      "cell_type": "code",
      "execution_count": 411,
      "metadata": {},
      "outputs": [
        {
          "data": {
            "text/html": [
              "<span style=\"white-space:pre; font-family: monospace\">1\n",
              "</span>"
            ]
          },
          "execution_count": 411,
          "metadata": {},
          "output_type": "execute_result"
        }
      ],
      "source": [
        "\u2371/b"
      ]
    },
    {
      "cell_type": "code",
      "execution_count": 413,
      "metadata": {},
      "outputs": [
        {
          "data": {
            "text/html": [
              "<span style=\"white-space:pre; font-family: monospace\">0\n",
              "</span>"
            ]
          },
          "execution_count": 413,
          "metadata": {},
          "output_type": "execute_result"
        }
      ],
      "source": [
        "~\u2228/b"
      ]
    },
    {
      "cell_type": "markdown",
      "metadata": {},
      "source": [
        "This is probably the reason why those two primitives are rarely used in common business applications, although they are extremely useful in electronic automation, because they represent basic logical circuits."
      ]
    },
    {
      "cell_type": "markdown",
      "metadata": {},
      "source": [
        "(Some-Primitive-Functions-Index-Generator-of-Arrays)=\n",
        "### Index Generator of Arrays\n",
        "\n",
        "We have given a limited definition of the _index generator_, here is a more general presentation:\n",
        "\n",
        "```{admonition} Rule \n",
        ":class: tip\n",
        "In the expression `r \u2190 \u2373dim`:\n",
        "\n",
        "- `dim` represents the shape of an array (the array itself need not actually exist); and\n",
        "- `r` is the set of indices of all items of that array.\n",
        "\n",
        "The shape of `r` is given by `dim` and each item of `r` is the index (or the set of indices) of its own items.\n",
        "```\n",
        "\n",
        "Some examples should make this easier to understand. Let us take several arrays and inspect their shape:"
      ]
    },
    {
      "cell_type": "code",
      "execution_count": 88,
      "metadata": {},
      "outputs": [
        {
          "name": "stderr",
          "output_type": "stream",
          "text": [
            "VALUE ERROR: Undefined name: contents\n",
            "      \u2374contents\n",
            "       \u2227\n"
          ]
        }
      ],
      "source": [
        "\u2374contents"
      ]
    },
    {
      "cell_type": "code",
      "execution_count": 89,
      "metadata": {},
      "outputs": [
        {
          "name": "stderr",
          "output_type": "stream",
          "text": [
            "VALUE ERROR: Undefined name: contents\n",
            "      \u2373\u2374contents\n",
            "        \u2227\n"
          ]
        }
      ],
      "source": [
        "\u2373\u2374contents"
      ]
    },
    {
      "cell_type": "code",
      "execution_count": 90,
      "metadata": {},
      "outputs": [
        {
          "name": "stderr",
          "output_type": "stream",
          "text": [
            "VALUE ERROR: Undefined name: contents\n",
            "      contents[\u2373\u2374contents]\n",
            "                 \u2227\n"
          ]
        }
      ],
      "source": [
        "contents[\u2373\u2374contents]"
      ]
    },
    {
      "cell_type": "code",
      "execution_count": 91,
      "metadata": {},
      "outputs": [
        {
          "name": "stderr",
          "output_type": "stream",
          "text": [
            "VALUE ERROR: Undefined name: monMat\n",
            "      \u2374monMat\n",
            "       \u2227\n"
          ]
        }
      ],
      "source": [
        "\u2374monMat"
      ]
    },
    {
      "cell_type": "code",
      "execution_count": 92,
      "metadata": {},
      "outputs": [
        {
          "name": "stderr",
          "output_type": "stream",
          "text": [
            "VALUE ERROR: Undefined name: monMat\n",
            "      \u2373\u2374monMat\n",
            "        \u2227\n"
          ]
        }
      ],
      "source": [
        "\u2373\u2374monMat"
      ]
    },
    {
      "cell_type": "code",
      "execution_count": 93,
      "metadata": {},
      "outputs": [
        {
          "name": "stderr",
          "output_type": "stream",
          "text": [
            "VALUE ERROR: Undefined name: monMat\n",
            "      monMat[\u2373\u2374monMat]\n",
            "               \u2227\n"
          ]
        }
      ],
      "source": [
        "monMat[\u2373\u2374monMat]"
      ]
    },
    {
      "cell_type": "code",
      "execution_count": 94,
      "metadata": {},
      "outputs": [
        {
          "name": "stderr",
          "output_type": "stream",
          "text": [
            "VALUE ERROR: Undefined name: prod\n",
            "      \u2374prod\n",
            "       \u2227\n"
          ]
        }
      ],
      "source": [
        "\u2374prod"
      ]
    },
    {
      "cell_type": "code",
      "execution_count": 95,
      "metadata": {},
      "outputs": [
        {
          "name": "stderr",
          "output_type": "stream",
          "text": [
            "VALUE ERROR: Undefined name: prod\n",
            "      \u2373\u2374prod\n",
            "        \u2227\n"
          ]
        }
      ],
      "source": [
        "\u2373\u2374prod"
      ]
    },
    {
      "cell_type": "code",
      "execution_count": 96,
      "metadata": {},
      "outputs": [
        {
          "name": "stderr",
          "output_type": "stream",
          "text": [
            "VALUE ERROR: Undefined name: prod\n",
            "      prod[\u2373\u2374prod]\n",
            "             \u2227\n"
          ]
        }
      ],
      "source": [
        "prod[\u2373\u2374prod]"
      ]
    },
    {
      "cell_type": "markdown",
      "metadata": {},
      "source": [
        "We can see that, more generally, an array is identical to itself indexed by *Iota* of its shape: `data\u2261data[\u2373\u2374data]`"
      ]
    },
    {
      "cell_type": "markdown",
      "metadata": {},
      "source": [
        "(Some-Primitive-Functions-Ravel-With-Axis)=\n",
        "### Ravel With Axis\n",
        "\n",
        "_Ravel_ can be used with an _axis_ specifier, using the notation `r\u2190,[axis] data`.\n",
        "\n",
        "In this expression, `axis` can be:\n",
        " - an empty vector;"
      ]
    },
    {
      "cell_type": "code",
      "execution_count": 26,
      "metadata": {},
      "outputs": [
        {
          "name": "stderr",
          "output_type": "stream",
          "text": [
            "VALUE ERROR: Undefined name: chemistry\n",
            "      ,[\u236c]chemistry\n",
            "          \u2227\n"
          ]
        }
      ],
      "source": [
        ",[\u236c] chemistry"
      ]
    },
    {
      "cell_type": "markdown",
      "metadata": {},
      "source": [
        " - a decimal scalar, adjacent to an axis of `data`; or"
      ]
    },
    {
      "cell_type": "code",
      "execution_count": 97,
      "metadata": {},
      "outputs": [
        {
          "name": "stderr",
          "output_type": "stream",
          "text": [
            "VALUE ERROR: Undefined name: contents\n",
            "      ,[0.5]contents\n",
            "            \u2227\n"
          ]
        }
      ],
      "source": [
        ",[0.5] contents"
      ]
    },
    {
      "cell_type": "markdown",
      "metadata": {},
      "source": [
        " - a subset of the axes of `data`."
      ]
    },
    {
      "cell_type": "code",
      "execution_count": 98,
      "metadata": {},
      "outputs": [
        {
          "name": "stderr",
          "output_type": "stream",
          "text": [
            "VALUE ERROR: Undefined name: prod\n",
            "      ,[2 3]prod\n",
            "            \u2227\n"
          ]
        }
      ],
      "source": [
        ",[2 3] prod"
      ]
    },
    {
      "cell_type": "markdown",
      "metadata": {},
      "source": [
        "(Some-Primitive-Functions-Empty-Axis)=\n",
        "#### Empty Axis\n",
        "\n",
        "If `axis` is empty, the result is obtained by appending a new dimension of size 1 to the list of `data`'s dimensions.\n",
        "\n",
        "For example, if `\u2374data` is `12`, then `\u2374,[\u236c] data` will be `12 1`:"
      ]
    },
    {
      "cell_type": "code",
      "execution_count": 99,
      "metadata": {},
      "outputs": [
        {
          "name": "stderr",
          "output_type": "stream",
          "text": [
            "VALUE ERROR: Undefined name: contents\n",
            "      contents\n",
            "      \u2227\n"
          ]
        }
      ],
      "source": [
        "contents"
      ]
    },
    {
      "cell_type": "code",
      "execution_count": 100,
      "metadata": {},
      "outputs": [
        {
          "name": "stderr",
          "output_type": "stream",
          "text": [
            "VALUE ERROR: Undefined name: contents\n",
            "      \u2374contents\n",
            "       \u2227\n"
          ]
        }
      ],
      "source": [
        "\u2374contents"
      ]
    },
    {
      "cell_type": "code",
      "execution_count": 101,
      "metadata": {},
      "outputs": [
        {
          "name": "stderr",
          "output_type": "stream",
          "text": [
            "VALUE ERROR: Undefined name: contents\n",
            "      ,[\u236c]contents\n",
            "          \u2227\n"
          ]
        }
      ],
      "source": [
        ",[\u236c] contents"
      ]
    },
    {
      "cell_type": "code",
      "execution_count": 431,
      "metadata": {},
      "outputs": [
        {
          "data": {
            "text/html": [
              "<span style=\"white-space:pre; font-family: monospace\">12 1\n",
              "</span>"
            ]
          },
          "execution_count": 431,
          "metadata": {},
          "output_type": "execute_result"
        }
      ],
      "source": [
        "\u2374,[\u236c] contents"
      ]
    },
    {
      "cell_type": "markdown",
      "metadata": {},
      "source": [
        "Or, if `\u2374data` is `3 5`, then `\u2374,[\u236c]` will be `3 5 1`:"
      ]
    },
    {
      "cell_type": "code",
      "execution_count": 103,
      "metadata": {},
      "outputs": [
        {
          "name": "stderr",
          "output_type": "stream",
          "text": [
            "VALUE ERROR: Undefined name: chemistry\n",
            "      chemistry\n",
            "      \u2227\n"
          ]
        }
      ],
      "source": [
        "chemistry"
      ]
    },
    {
      "cell_type": "code",
      "execution_count": 104,
      "metadata": {},
      "outputs": [
        {
          "name": "stderr",
          "output_type": "stream",
          "text": [
            "VALUE ERROR: Undefined name: chemistry\n",
            "      \u2374chemistry\n",
            "       \u2227\n"
          ]
        }
      ],
      "source": [
        "\u2374chemistry"
      ]
    },
    {
      "cell_type": "code",
      "execution_count": 440,
      "metadata": {},
      "outputs": [
        {
          "data": {
            "text/html": [
              "<span style=\"white-space:pre; font-family: monospace\">H\n",
              "2\n",
              "S\n",
              "O\n",
              "4\n",
              " \n",
              "C\n",
              "a\n",
              "C\n",
              "O\n",
              "3\n",
              " \n",
              "F\n",
              "e\n",
              "2\n",
              "O\n",
              "3\n",
              "</span>"
            ]
          },
          "execution_count": 440,
          "metadata": {},
          "output_type": "execute_result"
        }
      ],
      "source": [
        ",[\u236c] chemistry"
      ]
    },
    {
      "cell_type": "code",
      "execution_count": 441,
      "metadata": {},
      "outputs": [
        {
          "data": {
            "text/html": [
              "<span style=\"white-space:pre; font-family: monospace\">3 5 1\n",
              "</span>"
            ]
          },
          "execution_count": 441,
          "metadata": {},
          "output_type": "execute_result"
        }
      ],
      "source": [
        "\u2374,[\u236c] chemistry"
      ]
    },
    {
      "cell_type": "markdown",
      "metadata": {},
      "source": [
        "(Some-Primitive-Functions-Fractional-Axis)=\n",
        "### Fractional Axis\n",
        "\n",
        "If `axis` is a fractional value, it is mandatory that it is \"adjacent\" to an existing dimension of `data`.\n",
        "\n",
        "This means that for an array of rank 3, the axis must be a value between 0 and 4 (exclusive).\n",
        "\n",
        "The result is derived from `data` by inserting a new dimension of size 1 in the list of `data`'s dimensions. The new dimension is inserted according to the value of `axis`.\n",
        "\n",
        "It means that if"
      ]
    },
    {
      "cell_type": "code",
      "execution_count": 446,
      "metadata": {},
      "outputs": [
        {
          "data": {
            "text/html": [
              "<span style=\"white-space:pre; font-family: monospace\">5 2 12\n",
              "</span>"
            ]
          },
          "execution_count": 446,
          "metadata": {},
          "output_type": "execute_result"
        }
      ],
      "source": [
        "\u2374prod"
      ]
    },
    {
      "cell_type": "markdown",
      "metadata": {},
      "source": [
        "then:"
      ]
    },
    {
      "cell_type": "code",
      "execution_count": 447,
      "metadata": {},
      "outputs": [
        {
          "data": {
            "text/html": [
              "<span style=\"white-space:pre; font-family: monospace\">1 5 2 12\n",
              "</span>"
            ]
          },
          "execution_count": 447,
          "metadata": {},
          "output_type": "execute_result"
        }
      ],
      "source": [
        "\u2374,[0.5] prod"
      ]
    },
    {
      "cell_type": "code",
      "execution_count": 449,
      "metadata": {},
      "outputs": [
        {
          "data": {
            "text/html": [
              "<span style=\"white-space:pre; font-family: monospace\">5 1 2 12\n",
              "</span>"
            ]
          },
          "execution_count": 449,
          "metadata": {},
          "output_type": "execute_result"
        }
      ],
      "source": [
        "\u2374,[1.5] prod"
      ]
    },
    {
      "cell_type": "code",
      "execution_count": 450,
      "metadata": {},
      "outputs": [
        {
          "data": {
            "text/html": [
              "<span style=\"white-space:pre; font-family: monospace\">5 2 1 12\n",
              "</span>"
            ]
          },
          "execution_count": 450,
          "metadata": {},
          "output_type": "execute_result"
        }
      ],
      "source": [
        "\u2374,[2.5] prod"
      ]
    },
    {
      "cell_type": "code",
      "execution_count": 451,
      "metadata": {},
      "outputs": [
        {
          "data": {
            "text/html": [
              "<span style=\"white-space:pre; font-family: monospace\">5 2 12 1\n",
              "</span>"
            ]
          },
          "execution_count": 451,
          "metadata": {},
          "output_type": "execute_result"
        }
      ],
      "source": [
        "\u2374,[3.5] prod"
      ]
    },
    {
      "cell_type": "markdown",
      "metadata": {},
      "source": [
        "These conventions are totally consistent with those defined for some other functions like _laminate_ or _mix_.\n",
        "\n",
        "An example with a smaller array is also presented:"
      ]
    },
    {
      "cell_type": "code",
      "execution_count": 452,
      "metadata": {},
      "outputs": [
        {
          "data": {
            "text/html": [
              "<span style=\"white-space:pre; font-family: monospace\">PUB\n",
              "</span>"
            ]
          },
          "execution_count": 452,
          "metadata": {},
          "output_type": "execute_result"
        }
      ],
      "source": [
        "'PUB'"
      ]
    },
    {
      "cell_type": "code",
      "execution_count": 453,
      "metadata": {},
      "outputs": [
        {
          "data": {
            "text/html": [
              "<span style=\"white-space:pre; font-family: monospace\">3\n",
              "</span>"
            ]
          },
          "execution_count": 453,
          "metadata": {},
          "output_type": "execute_result"
        }
      ],
      "source": [
        "\u2374'PUB'"
      ]
    },
    {
      "cell_type": "code",
      "execution_count": 454,
      "metadata": {},
      "outputs": [
        {
          "data": {
            "text/html": [
              "<span style=\"white-space:pre; font-family: monospace\">P\n",
              "U\n",
              "B\n",
              "</span>"
            ]
          },
          "execution_count": 454,
          "metadata": {},
          "output_type": "execute_result"
        }
      ],
      "source": [
        ",[1.5] 'PUB'"
      ]
    },
    {
      "cell_type": "code",
      "execution_count": 455,
      "metadata": {},
      "outputs": [
        {
          "data": {
            "text/html": [
              "<span style=\"white-space:pre; font-family: monospace\">PUB\n",
              "</span>"
            ]
          },
          "execution_count": 455,
          "metadata": {},
          "output_type": "execute_result"
        }
      ],
      "source": [
        ",[0.5] 'PUB'"
      ]
    },
    {
      "cell_type": "code",
      "execution_count": 456,
      "metadata": {},
      "outputs": [
        {
          "data": {
            "text/html": [
              "<span style=\"white-space:pre; font-family: monospace\">1 3\n",
              "</span>"
            ]
          },
          "execution_count": 456,
          "metadata": {},
          "output_type": "execute_result"
        }
      ],
      "source": [
        "\u2374,[0.5] 'PUB'"
      ]
    },
    {
      "cell_type": "markdown",
      "metadata": {},
      "source": [
        "Notice how the result of `,[0.5] 'PUB'` looks like that of `'PUB'`, but while the latter is a vector of length 3, the former is a matrix with 1 row and 3 columns.\n",
        "\n",
        "The actual value of the _axis_ specification is not used for anything other than determining where to insert the new dimension. This means that, for example, all expressions of the form `,[1.xxx]` will have the same effect as the `,[1.5]` that we used above:"
      ]
    },
    {
      "cell_type": "code",
      "execution_count": 105,
      "metadata": {},
      "outputs": [
        {
          "data": {
            "text/html": [
              "<span style=\"white-space:pre; font-family: monospace\">P\n",
              "U\n",
              "B\n",
              "</span>"
            ]
          },
          "execution_count": 105,
          "metadata": {},
          "output_type": "execute_result"
        }
      ],
      "source": [
        ",[1.5] 'PUB'"
      ]
    },
    {
      "cell_type": "code",
      "execution_count": 106,
      "metadata": {},
      "outputs": [
        {
          "data": {
            "text/html": [
              "<span style=\"white-space:pre; font-family: monospace\">P\n",
              "U\n",
              "B\n",
              "</span>"
            ]
          },
          "execution_count": 106,
          "metadata": {},
          "output_type": "execute_result"
        }
      ],
      "source": [
        ",[1.0123] 'PUB'"
      ]
    },
    {
      "cell_type": "markdown",
      "metadata": {},
      "source": [
        "(Some-Primitive-Functions-A-List-of-Dimensions)=\n",
        "### A List of Dimensions\n",
        "\n",
        "If `axis` is a subset of the axes of `data`, it is mandatory that they are contiguous and in ascending order. It means that for an array of rank 3, the list of axes can be `[1 2]`, `[2 3]` or `[1 2 3]`, but neither `[1 3]` nor `[3 2]`, for example.\n",
        "\n",
        "The result is obtained by unravelling `data` so that the dimensions mentioned in `axis` are merged into a single dimension.\n",
        "\n",
        "For example, imagine that `data` is an array of shape `5 2 4 7`:"
      ]
    },
    {
      "cell_type": "code",
      "execution_count": 107,
      "metadata": {},
      "outputs": [],
      "source": [
        "data \u2190 5 2 4 7\u23740"
      ]
    },
    {
      "cell_type": "markdown",
      "metadata": {},
      "source": [
        "We investigate the shapes of different ravels with lists of dimensions as axis specification:"
      ]
    },
    {
      "cell_type": "code",
      "execution_count": 108,
      "metadata": {},
      "outputs": [
        {
          "data": {
            "text/html": [
              "<span style=\"white-space:pre; font-family: monospace\">10 4 7\n",
              "</span>"
            ]
          },
          "execution_count": 108,
          "metadata": {},
          "output_type": "execute_result"
        }
      ],
      "source": [
        "\u2374,[1 2] data        \u235d 10 is 5\u00d72"
      ]
    },
    {
      "cell_type": "code",
      "execution_count": 109,
      "metadata": {},
      "outputs": [
        {
          "data": {
            "text/html": [
              "<span style=\"white-space:pre; font-family: monospace\">5 8 7\n",
              "</span>"
            ]
          },
          "execution_count": 109,
          "metadata": {},
          "output_type": "execute_result"
        }
      ],
      "source": [
        "\u2374,[2 3] data        \u235d 8 is 2\u00d74"
      ]
    },
    {
      "cell_type": "code",
      "execution_count": 110,
      "metadata": {},
      "outputs": [
        {
          "data": {
            "text/html": [
              "<span style=\"white-space:pre; font-family: monospace\">5 2 28\n",
              "</span>"
            ]
          },
          "execution_count": 110,
          "metadata": {},
          "output_type": "execute_result"
        }
      ],
      "source": [
        "\u2374,[3 4] data        \u235d 28 is 4\u00d77"
      ]
    },
    {
      "cell_type": "code",
      "execution_count": 111,
      "metadata": {},
      "outputs": [
        {
          "data": {
            "text/html": [
              "<span style=\"white-space:pre; font-family: monospace\">40 7\n",
              "</span>"
            ]
          },
          "execution_count": 111,
          "metadata": {},
          "output_type": "execute_result"
        }
      ],
      "source": [
        "\u2374,[1 2 3] data      \u235d 40 is 5\u00d72\u00d74"
      ]
    },
    {
      "cell_type": "markdown",
      "metadata": {},
      "source": [
        "(Some-Primitive-Functions-Border-Cases)=\n",
        "### Border Cases\n",
        "\n",
        "If `axis` is reduced to a single value, the operation returns `data` unchanged:"
      ]
    },
    {
      "cell_type": "code",
      "execution_count": 112,
      "metadata": {},
      "outputs": [
        {
          "name": "stderr",
          "output_type": "stream",
          "text": [
            "VALUE ERROR: Undefined name: chemistry\n",
            "      chemistry\n",
            "      \u2227\n"
          ]
        }
      ],
      "source": [
        "chemistry"
      ]
    },
    {
      "cell_type": "code",
      "execution_count": 113,
      "metadata": {},
      "outputs": [
        {
          "name": "stderr",
          "output_type": "stream",
          "text": [
            "VALUE ERROR: Undefined name: chemistry\n",
            "      ,[1]chemistry\n",
            "          \u2227\n"
          ]
        }
      ],
      "source": [
        ",[1] chemistry"
      ]
    },
    {
      "cell_type": "code",
      "execution_count": 114,
      "metadata": {},
      "outputs": [
        {
          "name": "stderr",
          "output_type": "stream",
          "text": [
            "VALUE ERROR: Undefined name: chemistry\n",
            "      ,[2]chemistry\n",
            "          \u2227\n"
          ]
        }
      ],
      "source": [
        ",[2] chemistry"
      ]
    },
    {
      "cell_type": "markdown",
      "metadata": {},
      "source": [
        "If `axis` contains the whole set of the axes of `data`, the operation is equivalent to a simple _ravel_ with no axis specification, and gives a vector of the items of `data`:"
      ]
    },
    {
      "cell_type": "code",
      "execution_count": 115,
      "metadata": {},
      "outputs": [
        {
          "name": "stderr",
          "output_type": "stream",
          "text": [
            "VALUE ERROR: Undefined name: chemistry\n",
            "      ,[1 2]chemistry\n",
            "            \u2227\n"
          ]
        }
      ],
      "source": [
        ",[1 2] chemistry"
      ]
    },
    {
      "cell_type": "code",
      "execution_count": 116,
      "metadata": {},
      "outputs": [
        {
          "name": "stderr",
          "output_type": "stream",
          "text": [
            "VALUE ERROR: Undefined name: chemistry\n",
            "      ,chemistry\n",
            "       \u2227\n"
          ]
        }
      ],
      "source": [
        ",chemistry"
      ]
    },
    {
      "cell_type": "markdown",
      "metadata": {},
      "source": [
        "For these reasons, _ravel with axes_ can only \"collapse\" dimensions of arrays of rank 2 or more."
      ]
    },
    {
      "cell_type": "markdown",
      "metadata": {},
      "source": [
        "(Some-Primitive-Functions-Solutions)=\n",
        "## Solutions\n",
        "\n",
        "The solutions we propose in the following pages are not necessarily the \"best\" ones; perhaps you will find other solutions that we have never considered. APL is a very rich language, and due to the general nature of its primitive functions and operators there are always plenty of different ways to express different solutions to a given problem. Which one is \"the best\" depends on many things, for example the level of experience of the programmer, the importance of system performance, the required behaviour in border cases, the requirement to meet certain programming standards and also personal preferences. This is one of the reasons why APL is so pleasant to teach and to learn!\n",
        "\n",
        "We advise you to try and solve the exercises before reading the solutions!"
      ]
    },
    {
      "cell_type": "markdown",
      "metadata": {},
      "source": [
        "```{solution} expr-eval \n",
        "```\n",
        "\n",
        "Copy each expression to the APL session and execute them. If you are surprised by an answer, analyse the expression step by step, starting from the right. For example, for the first expression:"
      ]
    },
    {
      "cell_type": "code",
      "execution_count": 117,
      "metadata": {},
      "outputs": [
        {
          "data": {
            "text/html": [
              "<span style=\"white-space:pre; font-family: monospace\">6\n",
              "</span>"
            ]
          },
          "execution_count": 117,
          "metadata": {},
          "output_type": "execute_result"
        }
      ],
      "source": [
        "3 \u00d7 2 + 6 \u2260 3 \u00d7 2"
      ]
    },
    {
      "cell_type": "code",
      "execution_count": 118,
      "metadata": {},
      "outputs": [
        {
          "data": {
            "text/html": [
              "<span style=\"white-space:pre; font-family: monospace\">6\n",
              "</span>"
            ]
          },
          "execution_count": 118,
          "metadata": {},
          "output_type": "execute_result"
        }
      ],
      "source": [
        "3 \u00d7 2"
      ]
    },
    {
      "cell_type": "code",
      "execution_count": 119,
      "metadata": {},
      "outputs": [
        {
          "data": {
            "text/html": [
              "<span style=\"white-space:pre; font-family: monospace\">0\n",
              "</span>"
            ]
          },
          "execution_count": 119,
          "metadata": {},
          "output_type": "execute_result"
        }
      ],
      "source": [
        "6 \u2260 6"
      ]
    },
    {
      "cell_type": "code",
      "execution_count": 120,
      "metadata": {},
      "outputs": [
        {
          "data": {
            "text/html": [
              "<span style=\"white-space:pre; font-family: monospace\">2\n",
              "</span>"
            ]
          },
          "execution_count": 120,
          "metadata": {},
          "output_type": "execute_result"
        }
      ],
      "source": [
        "2 + 0"
      ]
    },
    {
      "cell_type": "code",
      "execution_count": 121,
      "metadata": {},
      "outputs": [
        {
          "data": {
            "text/html": [
              "<span style=\"white-space:pre; font-family: monospace\">6\n",
              "</span>"
            ]
          },
          "execution_count": 121,
          "metadata": {},
          "output_type": "execute_result"
        }
      ],
      "source": [
        "3 \u00d7 2"
      ]
    },
    {
      "cell_type": "markdown",
      "metadata": {},
      "source": [
        "And now the remainder of the expressions:"
      ]
    },
    {
      "cell_type": "code",
      "execution_count": 126,
      "metadata": {},
      "outputs": [
        {
          "data": {
            "text/html": [
              "<span style=\"white-space:pre; font-family: monospace\">12 6 14\n",
              "</span>"
            ]
          },
          "execution_count": 126,
          "metadata": {},
          "output_type": "execute_result"
        }
      ],
      "source": [
        "12 6 27 \u230a 11 + \u23733"
      ]
    },
    {
      "cell_type": "code",
      "execution_count": 127,
      "metadata": {},
      "outputs": [
        {
          "data": {
            "text/html": [
              "<span style=\"white-space:pre; font-family: monospace\">5 5 6\n",
              "</span>"
            ]
          },
          "execution_count": 127,
          "metadata": {},
          "output_type": "execute_result"
        }
      ],
      "source": [
        "4 5 6 \u2308 4 + 2 5 9 > 1 6 8"
      ]
    },
    {
      "cell_type": "code",
      "execution_count": 128,
      "metadata": {},
      "outputs": [
        {
          "data": {
            "text/html": [
              "<span style=\"white-space:pre; font-family: monospace\">7 \u00af3 6\n",
              "</span>"
            ]
          },
          "execution_count": 128,
          "metadata": {},
          "output_type": "execute_result"
        }
      ],
      "source": [
        "7 \u230a 25 6 17 - (2 \u00d7 3) + 9 3 5"
      ]
    },
    {
      "cell_type": "code",
      "execution_count": 129,
      "metadata": {},
      "outputs": [
        {
          "data": {
            "text/html": [
              "<span style=\"white-space:pre; font-family: monospace\">42\n",
              "</span>"
            ]
          },
          "execution_count": 129,
          "metadata": {},
          "output_type": "execute_result"
        }
      ],
      "source": [
        "((8 + 6) \u00d7 2 + 1) \u00d7 3 - 6 \u00f7 3"
      ]
    },
    {
      "cell_type": "code",
      "execution_count": 130,
      "metadata": {},
      "outputs": [
        {
          "data": {
            "text/html": [
              "<span style=\"white-space:pre; font-family: monospace\">\n",
              "</span>"
            ]
          },
          "execution_count": 130,
          "metadata": {},
          "output_type": "execute_result"
        }
      ],
      "source": [
        "(\u23744\u23085) + 4\u23085"
      ]
    },
    {
      "cell_type": "code",
      "execution_count": 131,
      "metadata": {},
      "outputs": [
        {
          "data": {
            "text/html": [
              "<span style=\"white-space:pre; font-family: monospace\">2\n",
              "</span>"
            ]
          },
          "execution_count": 131,
          "metadata": {},
          "output_type": "execute_result"
        }
      ],
      "source": [
        "1 \u22a2 2 \u22a3 3 \u22a2 4 \u22a3 5 \u22a2 6 \u22a3 7"
      ]
    },
    {
      "cell_type": "code",
      "execution_count": 132,
      "metadata": {},
      "outputs": [
        {
          "data": {
            "text/html": [
              "<span style=\"white-space:pre; font-family: monospace\">1\n",
              "</span>"
            ]
          },
          "execution_count": 132,
          "metadata": {},
          "output_type": "execute_result"
        }
      ],
      "source": [
        "1 \u22a3 2 \u22a2 3 \u22a3 4 \u22a2 5 \u22a3 6 \u22a2 7"
      ]
    },
    {
      "cell_type": "code",
      "execution_count": 133,
      "metadata": {},
      "outputs": [
        {
          "data": {
            "text/html": [
              "<span style=\"white-space:pre; font-family: monospace\">4 5 6\n",
              "</span>"
            ]
          },
          "execution_count": 133,
          "metadata": {},
          "output_type": "execute_result"
        }
      ],
      "source": [
        "1 2 3 \u22a2 4 5 6"
      ]
    },
    {
      "cell_type": "markdown",
      "metadata": {},
      "source": [
        "```{solution} expr-eval2 \n",
        "```\n",
        "\n",
        "`2 2+2 2` is the addition of two vectors of size 2:"
      ]
    },
    {
      "cell_type": "code",
      "execution_count": 134,
      "metadata": {},
      "outputs": [
        {
          "data": {
            "text/html": [
              "<span style=\"white-space:pre; font-family: monospace\">4 4\n",
              "</span>"
            ]
          },
          "execution_count": 134,
          "metadata": {},
          "output_type": "execute_result"
        }
      ],
      "source": [
        "2 2+2 2"
      ]
    },
    {
      "cell_type": "markdown",
      "metadata": {},
      "source": [
        "`2+2 2+2` is the addition of `2 2` with `2`, and then with `2` again:"
      ]
    },
    {
      "cell_type": "code",
      "execution_count": 135,
      "metadata": {},
      "outputs": [
        {
          "data": {
            "text/html": [
              "<span style=\"white-space:pre; font-family: monospace\">6 6\n",
              "</span>"
            ]
          },
          "execution_count": 135,
          "metadata": {},
          "output_type": "execute_result"
        }
      ],
      "source": [
        "2+2 2+2"
      ]
    },
    {
      "cell_type": "markdown",
      "metadata": {},
      "source": [
        "Finally, although `2,2` gives the same array as writing `2 2` out, the fact that we are catenating means we have to evaluate the catenation also from right to left, making it happen after some of the additions have already been computed."
      ]
    },
    {
      "cell_type": "code",
      "execution_count": 136,
      "metadata": {},
      "outputs": [
        {
          "data": {
            "text/html": [
              "<span style=\"white-space:pre; font-family: monospace\">4 6\n",
              "</span>"
            ]
          },
          "execution_count": 136,
          "metadata": {},
          "output_type": "execute_result"
        }
      ],
      "source": [
        "2+2,2+2"
      ]
    },
    {
      "cell_type": "code",
      "execution_count": 137,
      "metadata": {},
      "outputs": [
        {
          "data": {
            "text/html": [
              "<span style=\"white-space:pre; font-family: monospace\">2 4 4\n",
              "</span>"
            ]
          },
          "execution_count": 137,
          "metadata": {},
          "output_type": "execute_result"
        }
      ],
      "source": [
        "2,2+2,2"
      ]
    },
    {
      "cell_type": "markdown",
      "metadata": {},
      "source": [
        "```{solution} a-expr-eval \n",
        "```\n"
      ]
    },
    {
      "cell_type": "code",
      "execution_count": 138,
      "metadata": {},
      "outputs": [],
      "source": [
        "a \u2190 8 2 7 5"
      ]
    },
    {
      "cell_type": "markdown",
      "metadata": {},
      "source": [
        "Comparing `1+\u2374a` and `\u2374a+1`:"
      ]
    },
    {
      "cell_type": "code",
      "execution_count": 139,
      "metadata": {},
      "outputs": [
        {
          "data": {
            "text/html": [
              "<span style=\"white-space:pre; font-family: monospace\">5\n",
              "</span>"
            ]
          },
          "execution_count": 139,
          "metadata": {},
          "output_type": "execute_result"
        }
      ],
      "source": [
        "1+\u2374a        \u235d find the shape of `a` and then add 1 to that"
      ]
    },
    {
      "cell_type": "code",
      "execution_count": 140,
      "metadata": {},
      "outputs": [
        {
          "data": {
            "text/html": [
              "<span style=\"white-space:pre; font-family: monospace\">4\n",
              "</span>"
            ]
          },
          "execution_count": 140,
          "metadata": {},
          "output_type": "execute_result"
        }
      ],
      "source": [
        "\u2374a+1        \u235d add 1 to all items of `a` and then find the shape of that"
      ]
    },
    {
      "cell_type": "markdown",
      "metadata": {},
      "source": [
        "And now on to `1+\u2373\u2374a`, `\u2373\u00af1+\u2374a` and `\u2373\u2374a-1`. The easiest way to understand these expressions is to figure out the order in which things are happening and inspecting the intermediate steps."
      ]
    },
    {
      "cell_type": "code",
      "execution_count": 141,
      "metadata": {},
      "outputs": [
        {
          "data": {
            "text/html": [
              "<span style=\"white-space:pre; font-family: monospace\">2 3 4 5\n",
              "</span>"
            ]
          },
          "execution_count": 141,
          "metadata": {},
          "output_type": "execute_result"
        }
      ],
      "source": [
        "1+\u2373\u2374a"
      ]
    },
    {
      "cell_type": "code",
      "execution_count": 142,
      "metadata": {},
      "outputs": [
        {
          "data": {
            "text/html": [
              "<span style=\"white-space:pre; font-family: monospace\">1 2 3\n",
              "</span>"
            ]
          },
          "execution_count": 142,
          "metadata": {},
          "output_type": "execute_result"
        }
      ],
      "source": [
        "\u2373\u00af1+\u2374a"
      ]
    },
    {
      "cell_type": "code",
      "execution_count": 143,
      "metadata": {},
      "outputs": [
        {
          "data": {
            "text/html": [
              "<span style=\"white-space:pre; font-family: monospace\">1 2 3 4\n",
              "</span>"
            ]
          },
          "execution_count": 143,
          "metadata": {},
          "output_type": "execute_result"
        }
      ],
      "source": [
        "\u2373\u2374a-1"
      ]
    },
    {
      "cell_type": "markdown",
      "metadata": {},
      "source": [
        "```{solution} remove-parens \n",
        "```\n",
        "\n",
        " - `((\u23734)-1)\u23083`\n",
        "\n",
        "To remove parenthesis, what you do is locate the outermost pair of parenthesis (which is `((\u23734)-1)`), determine the function to which this pair of parenthesis is an argument (the `\u2308`) and find the other argument to the same function (which is `3`).\n",
        "\n",
        "Then you check if you can swap the two arguments and, if so, remove the outermost pair of parenthesis:"
      ]
    },
    {
      "cell_type": "code",
      "execution_count": 144,
      "metadata": {},
      "outputs": [
        {
          "data": {
            "text/html": [
              "<span style=\"white-space:pre; font-family: monospace\">3 3 3 3\n",
              "</span>"
            ]
          },
          "execution_count": 144,
          "metadata": {},
          "output_type": "execute_result"
        }
      ],
      "source": [
        "((\u23734)-1) \u2308 3"
      ]
    },
    {
      "cell_type": "code",
      "execution_count": 145,
      "metadata": {},
      "outputs": [
        {
          "data": {
            "text/html": [
              "<span style=\"white-space:pre; font-family: monospace\">3 3 3 3\n",
              "</span>"
            ]
          },
          "execution_count": 145,
          "metadata": {},
          "output_type": "execute_result"
        }
      ],
      "source": [
        "3 \u2308 ((\u23734)-1)"
      ]
    },
    {
      "cell_type": "code",
      "execution_count": 146,
      "metadata": {},
      "outputs": [
        {
          "data": {
            "text/html": [
              "<span style=\"white-space:pre; font-family: monospace\">3 3 3 3\n",
              "</span>"
            ]
          },
          "execution_count": 146,
          "metadata": {},
          "output_type": "execute_result"
        }
      ],
      "source": [
        "3 \u2308 (\u23734) - 1"
      ]
    },
    {
      "cell_type": "markdown",
      "metadata": {},
      "source": [
        "Now if you wish to remove the parenthesis from `(\u23734)` we have to move it to the right of the subtraction, but `-` is not commutative so we have to employ a little trick to make sure the expression still evaluates to the same result:"
      ]
    },
    {
      "cell_type": "code",
      "execution_count": 147,
      "metadata": {},
      "outputs": [
        {
          "data": {
            "text/html": [
              "<span style=\"white-space:pre; font-family: monospace\">3 3 3 3\n",
              "</span>"
            ]
          },
          "execution_count": 147,
          "metadata": {},
          "output_type": "execute_result"
        }
      ],
      "source": [
        "3 \u2308 (\u23734) - 1"
      ]
    },
    {
      "cell_type": "code",
      "execution_count": 148,
      "metadata": {},
      "outputs": [
        {
          "data": {
            "text/html": [
              "<span style=\"white-space:pre; font-family: monospace\">3 3 3 3\n",
              "</span>"
            ]
          },
          "execution_count": 148,
          "metadata": {},
          "output_type": "execute_result"
        }
      ],
      "source": [
        "3 \u2308 \u00af1 + \u23734"
      ]
    },
    {
      "cell_type": "markdown",
      "metadata": {},
      "source": [
        "Please note that this sort of thing is not always possible!\n",
        "\n",
        " - `7\u230a(\u23739)\u23083`"
      ]
    },
    {
      "cell_type": "code",
      "execution_count": 149,
      "metadata": {},
      "outputs": [
        {
          "data": {
            "text/html": [
              "<span style=\"white-space:pre; font-family: monospace\">3 3 3 4 5 6 7 7 7\n",
              "</span>"
            ]
          },
          "execution_count": 149,
          "metadata": {},
          "output_type": "execute_result"
        }
      ],
      "source": [
        "7\u230a (\u23739) \u2308 3"
      ]
    },
    {
      "cell_type": "code",
      "execution_count": 150,
      "metadata": {},
      "outputs": [
        {
          "data": {
            "text/html": [
              "<span style=\"white-space:pre; font-family: monospace\">3 3 3 4 5 6 7 7 7\n",
              "</span>"
            ]
          },
          "execution_count": 150,
          "metadata": {},
          "output_type": "execute_result"
        }
      ],
      "source": [
        "7\u230a 3 \u2308 (\u23739)"
      ]
    },
    {
      "cell_type": "code",
      "execution_count": 151,
      "metadata": {},
      "outputs": [
        {
          "data": {
            "text/html": [
              "<span style=\"white-space:pre; font-family: monospace\">3 3 3 4 5 6 7 7 7\n",
              "</span>"
            ]
          },
          "execution_count": 151,
          "metadata": {},
          "output_type": "execute_result"
        }
      ],
      "source": [
        "7\u230a3\u2308\u23739"
      ]
    },
    {
      "cell_type": "markdown",
      "metadata": {},
      "source": [
        " - `1+((\u23735)=1 4 3 2 5)\u00d75`"
      ]
    },
    {
      "cell_type": "code",
      "execution_count": 152,
      "metadata": {},
      "outputs": [
        {
          "data": {
            "text/html": [
              "<span style=\"white-space:pre; font-family: monospace\">6 1 6 1 6\n",
              "</span>"
            ]
          },
          "execution_count": 152,
          "metadata": {},
          "output_type": "execute_result"
        }
      ],
      "source": [
        "1+ ((\u23735)=1 4 3 2 5) \u00d7 5"
      ]
    },
    {
      "cell_type": "code",
      "execution_count": 153,
      "metadata": {},
      "outputs": [
        {
          "data": {
            "text/html": [
              "<span style=\"white-space:pre; font-family: monospace\">6 1 6 1 6\n",
              "</span>"
            ]
          },
          "execution_count": 153,
          "metadata": {},
          "output_type": "execute_result"
        }
      ],
      "source": [
        "1+ 5 \u00d7 ((\u23735)=1 4 3 2 5)"
      ]
    },
    {
      "cell_type": "code",
      "execution_count": 154,
      "metadata": {},
      "outputs": [
        {
          "data": {
            "text/html": [
              "<span style=\"white-space:pre; font-family: monospace\">6 1 6 1 6\n",
              "</span>"
            ]
          },
          "execution_count": 154,
          "metadata": {},
          "output_type": "execute_result"
        }
      ],
      "source": [
        "1+ 5 \u00d7 (\u23735) = 1 4 3 2 5"
      ]
    },
    {
      "cell_type": "code",
      "execution_count": 155,
      "metadata": {},
      "outputs": [
        {
          "data": {
            "text/html": [
              "<span style=\"white-space:pre; font-family: monospace\">6 1 6 1 6\n",
              "</span>"
            ]
          },
          "execution_count": 155,
          "metadata": {},
          "output_type": "execute_result"
        }
      ],
      "source": [
        "1+5\u00d7 1 4 3 2 5 = (\u23735)"
      ]
    },
    {
      "cell_type": "code",
      "execution_count": 156,
      "metadata": {},
      "outputs": [
        {
          "data": {
            "text/html": [
              "<span style=\"white-space:pre; font-family: monospace\">6 1 6 1 6\n",
              "</span>"
            ]
          },
          "execution_count": 156,
          "metadata": {},
          "output_type": "execute_result"
        }
      ],
      "source": [
        "1+5\u00d71 4 3 2 5=\u23735"
      ]
    },
    {
      "cell_type": "markdown",
      "metadata": {},
      "source": [
        "```{solution} is-scalar \n",
        "```\n",
        "\n",
        "There are a couple of ways to determine if `a` is a scalar or not. For example, we might check if its rank is 0 with `0=\u2262\u2374a`. We might also check if its shape matches the empty numeric vector with `\u236c\u2261\u2374a`."
      ]
    },
    {
      "cell_type": "markdown",
      "metadata": {},
      "source": [
        "```{solution} a-b \n",
        "```\n",
        "\n",
        "A possible way to look at this is by realising that the expression we are about to create is supposed to give two different values depending on the value of `a\u2265b`. If `a\u2265b` is 1 the expression needs to evaluate to 7 and if not, it needs to evaluate to 3.\n",
        "\n",
        "What we can do is write an expression that \"returns at least 3, with a bonus 4 whenever `a\u2265b`\". From that perspective, we can do `3+(4\u00d7a\u2265b)` which is the same as `3+4\u00d7a\u2265b`."
      ]
    },
    {
      "cell_type": "markdown",
      "metadata": {},
      "source": [
        "```{solution} a-b-else \n",
        "```\n",
        "\n",
        "An example expression could be `(a\u22600)\u23743\u00d7b\u22600`. Here's how to get there:\n",
        "\n",
        "We have 3 restrictions, the first one being about the shape of the result and the other two about the value itself. Reading the first restriction and factoring it with the other two, we see that we should return an empty vector whenever `a` is zero and a numerical vector otherwise.\n",
        " \n",
        "This means our expression will be of the form `(a\u22600)\u2374(...)`. If `a` is zero, then `a\u22600` returns 0 and the right expression won't matter, because we get an empty vector. If `a` is not zero, then `a\u22600` returns 1, and we leave the *value* of the right expression as is.\n",
        "\n",
        "Now we only have to figure out what goes into `(...)`, which should be an expression that evaluates to 0 if `b` is zero and 3 if `b` is not zero. We don't need to care about enforcing `a` to be different from zero because if `a` is zero we will get an empty vector either way...\n",
        "\n",
        "Thus this sub expression can be something like `3\u00d7b\u22600`, which evaluates to `3` or `0` depending on the value of `b` being zero or not.\n",
        "\n",
        "Putting everything together we get `(a\u22600)\u23743\u00d7b\u22600`."
      ]
    },
    {
      "cell_type": "markdown",
      "metadata": {},
      "source": [
        "```{solution} and-or-maths \n",
        "```\n",
        "\n",
        " - replace `\u2227` with `\u00d7` or `\u230a`;\n",
        " - replace `\u2228` with `\u2308`.\n",
        "\n",
        "`\u2227` returns 1 if both of the arguments are 1 and 0 in any other case. Rephrasing this, we get that `\u2227` returns 0 whenever there is a 0 present. From this, we see that both `\u00d7` and `\u230a` are suitable replacements. `\u00d7` because whenever there is a 0, multiplication by 0 gives 0. A similar thing happens for `\u230a` because we are only dealing with arguments that are 0 or 1.\n",
        "\n",
        "`\u2228` returns 1 whenever there is a 1 as argument, so we see that `\u2308` is a suitable replacement."
      ]
    },
    {
      "cell_type": "code",
      "execution_count": 157,
      "metadata": {},
      "outputs": [],
      "source": [
        "l \u2190 0 0 1 1\n",
        "r \u2190 0 1 0 1"
      ]
    },
    {
      "cell_type": "code",
      "execution_count": 158,
      "metadata": {},
      "outputs": [
        {
          "data": {
            "text/html": [
              "<span style=\"white-space:pre; font-family: monospace\">0 0 0 1\n",
              "</span>"
            ]
          },
          "execution_count": 158,
          "metadata": {},
          "output_type": "execute_result"
        }
      ],
      "source": [
        "l \u2227 r"
      ]
    },
    {
      "cell_type": "code",
      "execution_count": 159,
      "metadata": {},
      "outputs": [
        {
          "data": {
            "text/html": [
              "<span style=\"white-space:pre; font-family: monospace\">0 0 0 1\n",
              "</span>"
            ]
          },
          "execution_count": 159,
          "metadata": {},
          "output_type": "execute_result"
        }
      ],
      "source": [
        "l \u00d7 r"
      ]
    },
    {
      "cell_type": "code",
      "execution_count": 160,
      "metadata": {},
      "outputs": [
        {
          "data": {
            "text/html": [
              "<span style=\"white-space:pre; font-family: monospace\">0 0 0 1\n",
              "</span>"
            ]
          },
          "execution_count": 160,
          "metadata": {},
          "output_type": "execute_result"
        }
      ],
      "source": [
        "l \u230a r"
      ]
    },
    {
      "cell_type": "code",
      "execution_count": 161,
      "metadata": {},
      "outputs": [
        {
          "data": {
            "text/html": [
              "<span style=\"white-space:pre; font-family: monospace\">0 1 1 1\n",
              "</span>"
            ]
          },
          "execution_count": 161,
          "metadata": {},
          "output_type": "execute_result"
        }
      ],
      "source": [
        "l \u2228 r"
      ]
    },
    {
      "cell_type": "code",
      "execution_count": 162,
      "metadata": {},
      "outputs": [
        {
          "data": {
            "text/html": [
              "<span style=\"white-space:pre; font-family: monospace\">0 1 1 1\n",
              "</span>"
            ]
          },
          "execution_count": 162,
          "metadata": {},
          "output_type": "execute_result"
        }
      ],
      "source": [
        "l \u2308 r"
      ]
    },
    {
      "cell_type": "markdown",
      "metadata": {},
      "source": [
        "```{solution} gmd-eval \n",
        "```\n"
      ]
    },
    {
      "cell_type": "code",
      "execution_count": 163,
      "metadata": {},
      "outputs": [],
      "source": [
        "g \u2190 1 1 1 0 0 1\n",
        "m \u2190 0 0 1 1 0 1\n",
        "d \u2190 1 0 1 0 1 0"
      ]
    },
    {
      "cell_type": "code",
      "execution_count": 164,
      "metadata": {},
      "outputs": [
        {
          "data": {
            "text/html": [
              "<span style=\"white-space:pre; font-family: monospace\">1 1 1 0 1 1\n",
              "</span>"
            ]
          },
          "execution_count": 164,
          "metadata": {},
          "output_type": "execute_result"
        }
      ],
      "source": [
        "g\u2228d"
      ]
    },
    {
      "cell_type": "code",
      "execution_count": 165,
      "metadata": {},
      "outputs": [
        {
          "data": {
            "text/html": [
              "<span style=\"white-space:pre; font-family: monospace\">0 1 0 1 1 1\n",
              "</span>"
            ]
          },
          "execution_count": 165,
          "metadata": {},
          "output_type": "execute_result"
        }
      ],
      "source": [
        "~g\u2227d"
      ]
    },
    {
      "cell_type": "code",
      "execution_count": 166,
      "metadata": {},
      "outputs": [
        {
          "data": {
            "text/html": [
              "<span style=\"white-space:pre; font-family: monospace\">0 0 0 0 1 0\n",
              "</span>"
            ]
          },
          "execution_count": 166,
          "metadata": {},
          "output_type": "execute_result"
        }
      ],
      "source": [
        "~g\u2228~d"
      ]
    },
    {
      "cell_type": "code",
      "execution_count": 167,
      "metadata": {},
      "outputs": [
        {
          "data": {
            "text/html": [
              "<span style=\"white-space:pre; font-family: monospace\">0 0 0 0 1 0\n",
              "</span>"
            ]
          },
          "execution_count": 167,
          "metadata": {},
          "output_type": "execute_result"
        }
      ],
      "source": [
        "d\u2227~g"
      ]
    },
    {
      "cell_type": "code",
      "execution_count": 168,
      "metadata": {},
      "outputs": [
        {
          "data": {
            "text/html": [
              "<span style=\"white-space:pre; font-family: monospace\">1 0 1 0 0 1\n",
              "</span>"
            ]
          },
          "execution_count": 168,
          "metadata": {},
          "output_type": "execute_result"
        }
      ],
      "source": [
        "g\u2227m\u2228d"
      ]
    },
    {
      "cell_type": "code",
      "execution_count": 169,
      "metadata": {},
      "outputs": [
        {
          "data": {
            "text/html": [
              "<span style=\"white-space:pre; font-family: monospace\">0 0 0 1 0 0\n",
              "</span>"
            ]
          },
          "execution_count": 169,
          "metadata": {},
          "output_type": "execute_result"
        }
      ],
      "source": [
        "(~d)\u2227(~g)"
      ]
    },
    {
      "cell_type": "code",
      "execution_count": 170,
      "metadata": {},
      "outputs": [
        {
          "data": {
            "text/html": [
              "<span style=\"white-space:pre; font-family: monospace\">0 0 1 0 1 0\n",
              "</span>"
            ]
          },
          "execution_count": 170,
          "metadata": {},
          "output_type": "execute_result"
        }
      ],
      "source": [
        "(m\u2308g)=(m\u230ad)"
      ]
    },
    {
      "cell_type": "code",
      "execution_count": 171,
      "metadata": {},
      "outputs": [
        {
          "data": {
            "text/html": [
              "<span style=\"white-space:pre; font-family: monospace\">1 0 0 1 1 0\n",
              "</span>"
            ]
          },
          "execution_count": 171,
          "metadata": {},
          "output_type": "execute_result"
        }
      ],
      "source": [
        "(m\u230ag)\u2260(m\u2308d)"
      ]
    },
    {
      "cell_type": "markdown",
      "metadata": {},
      "source": [
        "```{solution} eval-expr-comps \n",
        "```\n"
      ]
    },
    {
      "cell_type": "code",
      "execution_count": 172,
      "metadata": {},
      "outputs": [
        {
          "data": {
            "text/html": [
              "<span style=\"white-space:pre; font-family: monospace\">1\n",
              "</span>"
            ]
          },
          "execution_count": 172,
          "metadata": {},
          "output_type": "execute_result"
        }
      ],
      "source": [
        "0 < 0 \u2264 0 = 0 \u2265 0 > 0"
      ]
    },
    {
      "cell_type": "code",
      "execution_count": 173,
      "metadata": {},
      "outputs": [
        {
          "data": {
            "text/html": [
              "<span style=\"white-space:pre; font-family: monospace\">1 0 0 1 0\n",
              "</span>"
            ]
          },
          "execution_count": 173,
          "metadata": {},
          "output_type": "execute_result"
        }
      ],
      "source": [
        "'sugar' \u220a 'salt'"
      ]
    },
    {
      "cell_type": "markdown",
      "metadata": {},
      "source": [
        "Above we check which letters of `'sugar'` also show up in `'salt'`."
      ]
    },
    {
      "cell_type": "code",
      "execution_count": 174,
      "metadata": {},
      "outputs": [
        {
          "data": {
            "text/html": [
              "<span style=\"white-space:pre; font-family: monospace\">1 1\n",
              "</span>"
            ]
          },
          "execution_count": 174,
          "metadata": {},
          "output_type": "execute_result"
        }
      ],
      "source": [
        "11 \u2260 '11'"
      ]
    },
    {
      "cell_type": "markdown",
      "metadata": {},
      "source": [
        "Here we compare each character of `'11'` with the number 11."
      ]
    },
    {
      "cell_type": "code",
      "execution_count": 175,
      "metadata": {},
      "outputs": [
        {
          "data": {
            "text/html": [
              "<span style=\"white-space:pre; font-family: monospace\">2 1\n",
              "</span>"
            ]
          },
          "execution_count": 175,
          "metadata": {},
          "output_type": "execute_result"
        }
      ],
      "source": [
        "'14' \u2373 '41'"
      ]
    },
    {
      "cell_type": "markdown",
      "metadata": {},
      "source": [
        "And here we find the position of each character of `'41'` in `'14'`."
      ]
    },
    {
      "cell_type": "markdown",
      "metadata": {},
      "source": [
        "```{solution} count-e \n",
        "```\n",
        "\n",
        "A sensible way to approach this problem is to first compare the string with the character `'e'` and then sum the 1s that show up:"
      ]
    },
    {
      "cell_type": "code",
      "execution_count": 176,
      "metadata": {},
      "outputs": [
        {
          "data": {
            "text/html": [
              "<span style=\"white-space:pre; font-family: monospace\">5\n",
              "</span>"
            ]
          },
          "execution_count": 176,
          "metadata": {},
          "output_type": "execute_result"
        }
      ],
      "source": [
        "text \u2190 'The silence of the sea'\n",
        "+/ 'e'=text"
      ]
    },
    {
      "cell_type": "markdown",
      "metadata": {},
      "source": [
        "```{solution} get-last \n",
        "```\n",
        "\n",
        "You may have come up with expressions that are similar to these ones or maybe completely different! We show *some* possibilities below.\n",
        "\n",
        "We included different types of vectors so that you could be sure your solutions also work for all sorts of different vectors."
      ]
    },
    {
      "cell_type": "code",
      "execution_count": 177,
      "metadata": {},
      "outputs": [
        {
          "data": {
            "text/html": [
              "<span style=\"white-space:pre; font-family: monospace\">6\n",
              "</span>"
            ]
          },
          "execution_count": 177,
          "metadata": {},
          "output_type": "execute_result"
        }
      ],
      "source": [
        "vec \u2190 1 2 3 4 5 6\n",
        "\u22a2/ vec"
      ]
    },
    {
      "cell_type": "code",
      "execution_count": 178,
      "metadata": {},
      "outputs": [
        {
          "data": {
            "text/html": [
              "<span style=\"white-space:pre; font-family: monospace\">6\n",
              "</span>"
            ]
          },
          "execution_count": 178,
          "metadata": {},
          "output_type": "execute_result"
        }
      ],
      "source": [
        "vec \u2190 (1 2) 3 (4 5) 6\n",
        "vec[\u2262vec]"
      ]
    },
    {
      "cell_type": "code",
      "execution_count": 179,
      "metadata": {},
      "outputs": [
        {
          "data": {
            "text/html": [
              "<span style=\"white-space:pre; font-family: monospace\">\u250c\u2500\u2500\u2500\u2500\u2500\u2510\n",
              "\u25020 0 0\u2502\n",
              "\u25020 0 0\u2502\n",
              "\u2514\u2500\u2500\u2500\u2500\u2500\u2518\n",
              "</span>"
            ]
          },
          "execution_count": 179,
          "metadata": {},
          "output_type": "execute_result"
        }
      ],
      "source": [
        "vec \u2190 0 (5\u23740) (3 4\u23740) (1 2 3\u23740)\n",
        "((\u2262vec)=\u2373\u2262vec)/vec"
      ]
    },
    {
      "cell_type": "code",
      "execution_count": 180,
      "metadata": {},
      "outputs": [
        {
          "data": {
            "text/html": [
              "<span style=\"white-space:pre; font-family: monospace\">\u250c\u2500\u2500\u2500\u2500\u2500\u2510\n",
              "\u25020 0 0\u2502\n",
              "\u25020 0 0\u2502\n",
              "\u2514\u2500\u2500\u2500\u2500\u2500\u2518\n",
              "</span>"
            ]
          },
          "execution_count": 180,
          "metadata": {},
          "output_type": "execute_result"
        }
      ],
      "source": [
        "(\u2374vec)\u2337vec"
      ]
    },
    {
      "cell_type": "markdown",
      "metadata": {},
      "source": [
        "```{solution} find-z \n",
        "```\n",
        "\n",
        "Notice how `2 \u2374 7` gives the first 2 elements of `z`, which are 1 and 7.\n",
        "\n",
        "Then\n",
        "\n",
        "```APL\n",
        "      z = 9\n",
        "0\n",
        "0\n",
        "1\n",
        "0\n",
        "```\n",
        "\n",
        "gives both the shape of `z` (a column with 4 rows) and the third element which is 9. The missing clue gives that the elements of `z` sum up to 20, but we already have 1, 7 and 9 which sum to 17, so the remaining element of `z` is a 3:"
      ]
    },
    {
      "cell_type": "code",
      "execution_count": 184,
      "metadata": {},
      "outputs": [
        {
          "data": {
            "text/html": [
              "<span style=\"white-space:pre; font-family: monospace\">1\n",
              "7\n",
              "9\n",
              "3\n",
              "</span>"
            ]
          },
          "execution_count": 184,
          "metadata": {},
          "output_type": "execute_result"
        }
      ],
      "source": [
        "\u22a2z \u2190 4 1\u23741 7 9 3"
      ]
    },
    {
      "cell_type": "code",
      "execution_count": 185,
      "metadata": {},
      "outputs": [
        {
          "data": {
            "text/html": [
              "<span style=\"white-space:pre; font-family: monospace\">1 7\n",
              "</span>"
            ]
          },
          "execution_count": 185,
          "metadata": {},
          "output_type": "execute_result"
        }
      ],
      "source": [
        "2 \u2374 z"
      ]
    },
    {
      "cell_type": "code",
      "execution_count": 186,
      "metadata": {},
      "outputs": [
        {
          "data": {
            "text/html": [
              "<span style=\"white-space:pre; font-family: monospace\">20\n",
              "</span>"
            ]
          },
          "execution_count": 186,
          "metadata": {},
          "output_type": "execute_result"
        }
      ],
      "source": [
        "+\u233f z"
      ]
    },
    {
      "cell_type": "code",
      "execution_count": 187,
      "metadata": {},
      "outputs": [
        {
          "data": {
            "text/html": [
              "<span style=\"white-space:pre; font-family: monospace\">0\n",
              "0\n",
              "1\n",
              "0\n",
              "</span>"
            ]
          },
          "execution_count": 187,
          "metadata": {},
          "output_type": "execute_result"
        }
      ],
      "source": [
        "z = 9"
      ]
    },
    {
      "cell_type": "markdown",
      "metadata": {},
      "source": [
        "```{solution} find-z-matrix \n",
        "```\n",
        "\n",
        "```APL\n",
        "      z = 0\n",
        "0 1 0 0\n",
        "1 0 0 1\n",
        "```\n",
        "\n",
        "gives the shape of `z` and some of its values:\n",
        "\n",
        "```APL\n",
        "? 0 ? ?\n",
        "0 ? ? 0\n",
        "```\n",
        "\n",
        "Now `+/[1] z` gives the sums of the columns, from which we extract\n",
        "\n",
        "```APL\n",
        "8 0 ? 5\n",
        "0 7 ? 0\n",
        "```\n",
        "\n",
        "Finally, `+/[2] z` gives the sums of the rows, from which we get that the missing `?` are 7 and -1:\n",
        "\n",
        "```APL\n",
        "8 0  7 5\n",
        "0 7 \u00af1 0\n",
        "```"
      ]
    },
    {
      "cell_type": "code",
      "execution_count": 188,
      "metadata": {},
      "outputs": [
        {
          "data": {
            "text/html": [
              "<span style=\"white-space:pre; font-family: monospace\">8 0  7 5\n",
              "0 7 \u00af1 0\n",
              "</span>"
            ]
          },
          "execution_count": 188,
          "metadata": {},
          "output_type": "execute_result"
        }
      ],
      "source": [
        "\u22a2z \u2190 2 4\u23748 0 7 5 0 7 \u00af1 0"
      ]
    },
    {
      "cell_type": "code",
      "execution_count": 189,
      "metadata": {},
      "outputs": [
        {
          "data": {
            "text/html": [
              "<span style=\"white-space:pre; font-family: monospace\">0 1 0 0\n",
              "1 0 0 1\n",
              "</span>"
            ]
          },
          "execution_count": 189,
          "metadata": {},
          "output_type": "execute_result"
        }
      ],
      "source": [
        "z = 0"
      ]
    },
    {
      "cell_type": "code",
      "execution_count": 190,
      "metadata": {},
      "outputs": [
        {
          "data": {
            "text/html": [
              "<span style=\"white-space:pre; font-family: monospace\">20 6\n",
              "</span>"
            ]
          },
          "execution_count": 190,
          "metadata": {},
          "output_type": "execute_result"
        }
      ],
      "source": [
        "+/[2] z"
      ]
    },
    {
      "cell_type": "code",
      "execution_count": 191,
      "metadata": {},
      "outputs": [
        {
          "data": {
            "text/html": [
              "<span style=\"white-space:pre; font-family: monospace\">8 7 6 5\n",
              "</span>"
            ]
          },
          "execution_count": 191,
          "metadata": {},
          "output_type": "execute_result"
        }
      ],
      "source": [
        "+/[1] z"
      ]
    },
    {
      "cell_type": "markdown",
      "metadata": {},
      "source": [
        "```{solution} ex-where \n",
        "```\n",
        "\n",
        "**Positions** can be retrieved with _where_:"
      ]
    },
    {
      "cell_type": "code",
      "execution_count": 192,
      "metadata": {},
      "outputs": [
        {
          "data": {
            "text/html": [
              "<span style=\"white-space:pre; font-family: monospace\">3 8 11 18 21\n",
              "</span>"
            ]
          },
          "execution_count": 192,
          "metadata": {},
          "output_type": "execute_result"
        }
      ],
      "source": [
        "text \u2190 'The silence of the sea'\n",
        "\u2378'e'=text"
      ]
    },
    {
      "cell_type": "markdown",
      "metadata": {},
      "source": [
        "```{solution} get-odd \n",
        "```\n",
        "\n",
        "There are a couple of different ways to solve this problem. From an indexing perspective, we might want to generate all the odd numbers up to, and including, the length of the vector:"
      ]
    },
    {
      "cell_type": "code",
      "execution_count": 193,
      "metadata": {},
      "outputs": [
        {
          "data": {
            "text/html": [
              "<span style=\"white-space:pre; font-family: monospace\">1 3 5 7 9\n",
              "</span>"
            ]
          },
          "execution_count": 193,
          "metadata": {},
          "output_type": "execute_result"
        }
      ],
      "source": [
        "vec \u2190 1 2 3 4 5 6 7 8 9\n",
        "vec[\u00af1+2\u00d7\u2373\u2308(\u2262vec)\u00f72]"
      ]
    },
    {
      "cell_type": "markdown",
      "metadata": {},
      "source": [
        "This works by first figuring out *how many* indices we are going to need:"
      ]
    },
    {
      "cell_type": "code",
      "execution_count": 194,
      "metadata": {},
      "outputs": [
        {
          "data": {
            "text/html": [
              "<span style=\"white-space:pre; font-family: monospace\">5\n",
              "</span>"
            ]
          },
          "execution_count": 194,
          "metadata": {},
          "output_type": "execute_result"
        }
      ],
      "source": [
        "\u2308(\u2262vec)\u00f72"
      ]
    },
    {
      "cell_type": "markdown",
      "metadata": {},
      "source": [
        "Then generating 5 consecutive numbers and adjusting them so they become the odd numbers:"
      ]
    },
    {
      "cell_type": "code",
      "execution_count": 195,
      "metadata": {},
      "outputs": [
        {
          "data": {
            "text/html": [
              "<span style=\"white-space:pre; font-family: monospace\">1 3 5 7 9\n",
              "</span>"
            ]
          },
          "execution_count": 195,
          "metadata": {},
          "output_type": "execute_result"
        }
      ],
      "source": [
        "\u00af1+2\u00d7\u23735"
      ]
    },
    {
      "cell_type": "markdown",
      "metadata": {},
      "source": [
        "Another possibility is to compress the odd positions:"
      ]
    },
    {
      "cell_type": "code",
      "execution_count": 197,
      "metadata": {},
      "outputs": [
        {
          "data": {
            "text/html": [
              "<span style=\"white-space:pre; font-family: monospace\">CONGRATULATIONS\n",
              "</span>"
            ]
          },
          "execution_count": 197,
          "metadata": {},
          "output_type": "execute_result"
        }
      ],
      "source": [
        "vec \u2190 'CROANGGARYANTLULLBAPTWIZOSNSSB'\n",
        "(2|\u2373\u2262vec)/vec"
      ]
    },
    {
      "cell_type": "markdown",
      "metadata": {},
      "source": [
        "Another really ingenious solution makes use of the fact that _reshape_ reuses the right argument if needed, and so we can just _compress_ by reshaping `1 0` to the correct length:"
      ]
    },
    {
      "cell_type": "code",
      "execution_count": 198,
      "metadata": {},
      "outputs": [
        {
          "data": {
            "text/html": [
              "<span style=\"white-space:pre; font-family: monospace\">\u250c\u2500\u2500\u2500\u252c\u2500\u2500\u2500\u2500\u2500\u2510\n",
              "\u25021 2\u25024 5 6\u2502\n",
              "\u2514\u2500\u2500\u2500\u2534\u2500\u2500\u2500\u2500\u2500\u2518\n",
              "</span>"
            ]
          },
          "execution_count": 198,
          "metadata": {},
          "output_type": "execute_result"
        }
      ],
      "source": [
        "vec \u2190 (1 2) (2 3) (4 5 6) (6 9 42 1024)\n",
        "((\u2262vec)\u23741 0)/vec"
      ]
    },
    {
      "cell_type": "markdown",
      "metadata": {},
      "source": [
        "```{solution} count-scalars \n",
        "```\n",
        "\n",
        "*Ravel* will take a 3D array and create a long vector with all its items, so we just have to count them:"
      ]
    },
    {
      "cell_type": "code",
      "execution_count": 199,
      "metadata": {},
      "outputs": [
        {
          "name": "stderr",
          "output_type": "stream",
          "text": [
            "VALUE ERROR: Undefined name: prod\n",
            "      \u2262,prod\n",
            "        \u2227\n"
          ]
        }
      ],
      "source": [
        "\u2262,prod"
      ]
    },
    {
      "cell_type": "markdown",
      "metadata": {},
      "source": [
        "Alternatively, we can use some mathematics and realise that there are as many items in `prod` as its shape allows, where multiplying the dimensions together will yield the total. Think of it like computing the area of a rectangle for a 2D array and the volume of a rectangular prism for a 3D array:"
      ]
    },
    {
      "cell_type": "code",
      "execution_count": 200,
      "metadata": {},
      "outputs": [
        {
          "name": "stderr",
          "output_type": "stream",
          "text": [
            "VALUE ERROR: Undefined name: prod\n",
            "      \u2374prod\n",
            "       \u2227\n"
          ]
        }
      ],
      "source": [
        "\u2374prod"
      ]
    },
    {
      "cell_type": "code",
      "execution_count": 201,
      "metadata": {},
      "outputs": [
        {
          "name": "stderr",
          "output_type": "stream",
          "text": [
            "VALUE ERROR: Undefined name: prod\n",
            "      \u00d7/\u2374prod\n",
            "         \u2227\n"
          ]
        }
      ],
      "source": [
        "\u00d7/\u2374prod"
      ]
    },
    {
      "cell_type": "markdown",
      "metadata": {},
      "source": [
        "```{solution} remove-20-30 \n",
        "```\n",
        "\n",
        "This is a simple exercise in compressing with a Boolean mask. We just create a mask with all the numbers we want to keep:"
      ]
    },
    {
      "cell_type": "code",
      "execution_count": 203,
      "metadata": {},
      "outputs": [
        {
          "data": {
            "text/html": [
              "<span style=\"white-space:pre; font-family: monospace\">11 12 13 14 15 16 17 18 19 20 21 22 23 24 25 26 27 28 29 30 31 32 33 34 35 36 37 38 39 40\n",
              "</span>"
            ]
          },
          "execution_count": 203,
          "metadata": {},
          "output_type": "execute_result"
        }
      ],
      "source": [
        "\u22a2ns \u2190 10+\u237330            \u235d just a vector to exemplify with"
      ]
    },
    {
      "cell_type": "code",
      "execution_count": 204,
      "metadata": {},
      "outputs": [
        {
          "data": {
            "text/html": [
              "<span style=\"white-space:pre; font-family: monospace\">20 21 22 23 24 25 26 27 28 29\n",
              "</span>"
            ]
          },
          "execution_count": 204,
          "metadata": {},
          "output_type": "execute_result"
        }
      ],
      "source": [
        "((ns<30)\u2227ns\u226520)/ns"
      ]
    },
    {
      "cell_type": "markdown",
      "metadata": {},
      "source": [
        "Be careful with using the correct Boolean operator. Swapping them around might create an expression which preserves the vector as-is:"
      ]
    },
    {
      "cell_type": "code",
      "execution_count": 205,
      "metadata": {},
      "outputs": [
        {
          "data": {
            "text/html": [
              "<span style=\"white-space:pre; font-family: monospace\">11 12 13 14 15 16 17 18 19 20 21 22 23 24 25 26 27 28 29 30 31 32 33 34 35 36 37 38 39 40\n",
              "</span>"
            ]
          },
          "execution_count": 205,
          "metadata": {},
          "output_type": "execute_result"
        }
      ],
      "source": [
        "((ns<30)\u2228ns\u226520)/ns     \u235d swapped \u2227 with \u2228"
      ]
    },
    {
      "cell_type": "markdown",
      "metadata": {},
      "source": [
        "```{solution} tally-shape \n",
        "```\n"
      ]
    },
    {
      "cell_type": "code",
      "execution_count": 206,
      "metadata": {},
      "outputs": [
        {
          "data": {
            "text/html": [
              "<span style=\"white-space:pre; font-family: monospace\">4\n",
              "</span>"
            ]
          },
          "execution_count": 206,
          "metadata": {},
          "output_type": "execute_result"
        }
      ],
      "source": [
        "\u2262vec"
      ]
    },
    {
      "cell_type": "code",
      "execution_count": 207,
      "metadata": {},
      "outputs": [
        {
          "data": {
            "text/html": [
              "<span style=\"white-space:pre; font-family: monospace\">4\n",
              "</span>"
            ]
          },
          "execution_count": 207,
          "metadata": {},
          "output_type": "execute_result"
        }
      ],
      "source": [
        "\u2374vec"
      ]
    },
    {
      "cell_type": "markdown",
      "metadata": {},
      "source": [
        "The two expressions have the same value but they have different shapes. While `\u2262vec` is a scalar:"
      ]
    },
    {
      "cell_type": "code",
      "execution_count": 208,
      "metadata": {},
      "outputs": [
        {
          "data": {
            "text/html": [
              "<span style=\"white-space:pre; font-family: monospace\">\n",
              "</span>"
            ]
          },
          "execution_count": 208,
          "metadata": {},
          "output_type": "execute_result"
        }
      ],
      "source": [
        "\u2374\u2262vec"
      ]
    },
    {
      "cell_type": "markdown",
      "metadata": {},
      "source": [
        "`\u2374vec` is a vector of length 1:"
      ]
    },
    {
      "cell_type": "code",
      "execution_count": 209,
      "metadata": {},
      "outputs": [
        {
          "data": {
            "text/html": [
              "<span style=\"white-space:pre; font-family: monospace\">1\n",
              "</span>"
            ]
          },
          "execution_count": 209,
          "metadata": {},
          "output_type": "execute_result"
        }
      ],
      "source": [
        "\u2374\u2374vec"
      ]
    },
    {
      "cell_type": "markdown",
      "metadata": {},
      "source": [
        "```{solution} ex-depth \n",
        "```\n",
        "\n",
        "For this exercise we just have to revisit the rule for how _depth_ works and work our way inside out.\n",
        "\n",
        "A scalar has depth 0"
      ]
    },
    {
      "cell_type": "code",
      "execution_count": 210,
      "metadata": {},
      "outputs": [
        {
          "data": {
            "text/html": [
              "<span style=\"white-space:pre; font-family: monospace\">0\n",
              "</span>"
            ]
          },
          "execution_count": 210,
          "metadata": {},
          "output_type": "execute_result"
        }
      ],
      "source": [
        "\u226142"
      ]
    },
    {
      "cell_type": "markdown",
      "metadata": {},
      "source": [
        "and a simple vector has depth 1"
      ]
    },
    {
      "cell_type": "code",
      "execution_count": 211,
      "metadata": {},
      "outputs": [
        {
          "data": {
            "text/html": [
              "<span style=\"white-space:pre; font-family: monospace\">1\n",
              "</span>"
            ]
          },
          "execution_count": 211,
          "metadata": {},
          "output_type": "execute_result"
        }
      ],
      "source": [
        "\u226142 41 40 39"
      ]
    },
    {
      "cell_type": "markdown",
      "metadata": {},
      "source": [
        "because all its items are scalars of depth 0. Similarly for a simple matrix. Even though its rank is larger than the rank of a vector, the matrix only contains scalars of depth 0 and thus its depth is also 1:"
      ]
    },
    {
      "cell_type": "code",
      "execution_count": 212,
      "metadata": {},
      "outputs": [
        {
          "data": {
            "text/html": [
              "<span style=\"white-space:pre; font-family: monospace\">1\n",
              "</span>"
            ]
          },
          "execution_count": 212,
          "metadata": {},
          "output_type": "execute_result"
        }
      ],
      "source": [
        "\u22612 2\u237442 41 40 39"
      ]
    },
    {
      "cell_type": "markdown",
      "metadata": {},
      "source": [
        "For uneven nested vectors we just compute the largest depth, add 1 and then return it as a negative number. Since `1 (2 3) (4 5)` contains scalars (of depth 0) and vectors (of depth 1) its depth should be -2:"
      ]
    },
    {
      "cell_type": "code",
      "execution_count": 213,
      "metadata": {},
      "outputs": [
        {
          "data": {
            "text/html": [
              "<span style=\"white-space:pre; font-family: monospace\">\u00af2\n",
              "</span>"
            ]
          },
          "execution_count": 213,
          "metadata": {},
          "output_type": "execute_result"
        }
      ],
      "source": [
        "\u22611 (2 3) (4 5)"
      ]
    },
    {
      "cell_type": "markdown",
      "metadata": {},
      "source": [
        "On the other hand, `(1 2) (3 4 5) (6 7 8 9)` is a vector of vectors, and thus its depth is 2:"
      ]
    },
    {
      "cell_type": "code",
      "execution_count": 214,
      "metadata": {},
      "outputs": [
        {
          "data": {
            "text/html": [
              "<span style=\"white-space:pre; font-family: monospace\">2\n",
              "</span>"
            ]
          },
          "execution_count": 214,
          "metadata": {},
          "output_type": "execute_result"
        }
      ],
      "source": [
        "\u2261(1 2) (3 4 5) (6 7 8 9)"
      ]
    },
    {
      "cell_type": "markdown",
      "metadata": {},
      "source": [
        "Computing the depth of `1 (2 (3 (4 (5 (6 7)))))` is just a matter of counting carefully. The inner `(6 7)` has depth 1, `5 (6 7)` has depth -2, `4 (5 (6 7))` has depth -3, ..., up until"
      ]
    },
    {
      "cell_type": "code",
      "execution_count": 215,
      "metadata": {},
      "outputs": [
        {
          "data": {
            "text/html": [
              "<span style=\"white-space:pre; font-family: monospace\">\u00af6\n",
              "</span>"
            ]
          },
          "execution_count": 215,
          "metadata": {},
          "output_type": "execute_result"
        }
      ],
      "source": [
        "\u22611 (2 (3 (4 (5 (6 7)))))"
      ]
    },
    {
      "cell_type": "markdown",
      "metadata": {},
      "source": [
        "The final example is to try and throw you off by including items that have higher ranks, but still the same depth. A simple matrix has depth 1, so a vector of simple matrices is going to have depth 2:"
      ]
    },
    {
      "cell_type": "code",
      "execution_count": 216,
      "metadata": {},
      "outputs": [
        {
          "data": {
            "text/html": [
              "<span style=\"white-space:pre; font-family: monospace\">2\n",
              "</span>"
            ]
          },
          "execution_count": 216,
          "metadata": {},
          "output_type": "execute_result"
        }
      ],
      "source": [
        "\u2261(2 2\u23744) (2 2\u2374\u237347) (3 6\u2374\u237318)"
      ]
    },
    {
      "cell_type": "markdown",
      "metadata": {},
      "source": [
        "```{solution} clip-values \n",
        "```\n",
        "\n",
        "This task of ensuring all numbers in an array are above a minimum threshold and below a maximum threshold is sometimes called *clipping* and is easy to achieve in APL with the scalar `\u2308` and `\u230a` functions. We create a dummy matrix to demonstrate:"
      ]
    },
    {
      "cell_type": "code",
      "execution_count": 217,
      "metadata": {},
      "outputs": [
        {
          "data": {
            "text/html": [
              "<span style=\"white-space:pre; font-family: monospace\">24 31 25\n",
              "33 17 18\n",
              "26 28 32\n",
              "</span>"
            ]
          },
          "execution_count": 217,
          "metadata": {},
          "output_type": "execute_result"
        }
      ],
      "source": [
        "\u2395RL \u2190 73\n",
        "\u22a2m \u2190 15+?3 3\u237420"
      ]
    },
    {
      "cell_type": "markdown",
      "metadata": {},
      "source": [
        "We want `m`'s values to be at least 20, so numbers below should become 20:"
      ]
    },
    {
      "cell_type": "code",
      "execution_count": 218,
      "metadata": {},
      "outputs": [
        {
          "data": {
            "text/html": [
              "<span style=\"white-space:pre; font-family: monospace\">24 31 25\n",
              "33 20 20\n",
              "26 28 32\n",
              "</span>"
            ]
          },
          "execution_count": 218,
          "metadata": {},
          "output_type": "execute_result"
        }
      ],
      "source": [
        "20\u2308m"
      ]
    },
    {
      "cell_type": "markdown",
      "metadata": {},
      "source": [
        "Similarly for numbers above 30:"
      ]
    },
    {
      "cell_type": "code",
      "execution_count": 219,
      "metadata": {},
      "outputs": [
        {
          "data": {
            "text/html": [
              "<span style=\"white-space:pre; font-family: monospace\">24 30 25\n",
              "30 20 20\n",
              "26 28 30\n",
              "</span>"
            ]
          },
          "execution_count": 219,
          "metadata": {},
          "output_type": "execute_result"
        }
      ],
      "source": [
        "30\u230a20\u2308m"
      ]
    },
    {
      "cell_type": "markdown",
      "metadata": {},
      "source": [
        "```{solution} find-errors \n",
        "```\n",
        "\n",
        "The challenge of this exercise was to spot the error *before* trying to run the expression on the interpreter and reading its error message.\n",
        "\n",
        " - `3+(5-(6+2)\u00d74`\n",
        " \n",
        "Looking close enough, we see there is an extra `(` that never got closed, getting us a `SYNTAX ERROR`."
      ]
    },
    {
      "cell_type": "code",
      "execution_count": 220,
      "metadata": {},
      "outputs": [
        {
          "name": "stderr",
          "output_type": "stream",
          "text": [
            "SYNTAX ERROR\n",
            "      3+(5-(6+2)\u00d74\n",
            "          \u2227\n"
          ]
        }
      ],
      "source": [
        "3+(5-(6+2)\u00d74"
      ]
    },
    {
      "cell_type": "markdown",
      "metadata": {},
      "source": [
        " - `121\u00f7(\u23734)-3`\n",
        " \n",
        "This one won't work because there is a hidden division by 0 in there:"
      ]
    },
    {
      "cell_type": "code",
      "execution_count": 221,
      "metadata": {},
      "outputs": [
        {
          "data": {
            "text/html": [
              "<span style=\"white-space:pre; font-family: monospace\">\u00af2 \u00af1 0 1\n",
              "</span>"
            ]
          },
          "execution_count": 221,
          "metadata": {},
          "output_type": "execute_result"
        }
      ],
      "source": [
        "(\u23734)-3"
      ]
    },
    {
      "cell_type": "code",
      "execution_count": 222,
      "metadata": {},
      "outputs": [
        {
          "name": "stderr",
          "output_type": "stream",
          "text": [
            "DOMAIN ERROR: Divide by zero\n",
            "      121\u00f7(\u23734)-3\n",
            "         \u2227\n"
          ]
        }
      ],
      "source": [
        "121\u00f7(\u23734)-3"
      ]
    },
    {
      "cell_type": "markdown",
      "metadata": {},
      "source": [
        " - `(\u00afX+5)*2`\n",
        " \n",
        "The error in this expression is the usage of `\u00af` with a variable name. `\u00af` can only be used when writing out numbers. If you want to negate the value of a variable, use the function _negate_ `-`.\n",
        "\n",
        "For us to show the appropriate error, we need to define `X` to have some value."
      ]
    },
    {
      "cell_type": "code",
      "execution_count": 223,
      "metadata": {},
      "outputs": [
        {
          "name": "stderr",
          "output_type": "stream",
          "text": [
            "SYNTAX ERROR: Invalid token\n",
            "      (\u00af X+5)*2\n",
            "       \u2227\n"
          ]
        }
      ],
      "source": [
        "X \u2190 42\n",
        "(\u00afX+5)*2"
      ]
    },
    {
      "cell_type": "markdown",
      "metadata": {},
      "source": [
        "The \"Invalid token\" mentioned is the `\u00af` next to a variable name, when it should be next to a number literal.\n",
        "\n",
        " - `\u23744 5 6+2 3-1`\n",
        " \n",
        "The problem with this expression is that we are using scalar functions with vectors whose lengths aren't compatible. The `2 3-1` works because `-` knows how to subtract a number from a vector, but then `4 5 6+1 2` will attempt to add two vectors of incompatible lengths and fail:"
      ]
    },
    {
      "cell_type": "code",
      "execution_count": 224,
      "metadata": {},
      "outputs": [
        {
          "name": "stderr",
          "output_type": "stream",
          "text": [
            "LENGTH ERROR: Mismatched left and right argument shapes\n",
            "      \u23744 5 6+2 3-1\n",
            "            \u2227\n"
          ]
        }
      ],
      "source": [
        "\u23744 5 6+2 3-1"
      ]
    },
    {
      "cell_type": "markdown",
      "metadata": {},
      "source": [
        " - `\u23733-5`\n",
        " \n",
        "_Index generator_ expects a vector of non-negative numbers as argument and so a simple `DOMAIN ERROR` is issued:"
      ]
    },
    {
      "cell_type": "code",
      "execution_count": 225,
      "metadata": {},
      "outputs": [
        {
          "name": "stderr",
          "output_type": "stream",
          "text": [
            "DOMAIN ERROR\n",
            "      \u23733-5\n",
            "      \u2227\n"
          ]
        }
      ],
      "source": [
        "\u23733-5"
      ]
    },
    {
      "cell_type": "markdown",
      "metadata": {},
      "source": [
        " - `\u23781 0 2 \u00af1`\n",
        " \n",
        "Similarly, _where_ only expects non-negative integers in its argument array, so the `\u00af1` is an issue there:"
      ]
    },
    {
      "cell_type": "code",
      "execution_count": 226,
      "metadata": {},
      "outputs": [
        {
          "name": "stderr",
          "output_type": "stream",
          "text": [
            "DOMAIN ERROR: Where right argument must be non-negative\n",
            "      \u23781 0 2 \u00af1\n",
            "      \u2227\n"
          ]
        }
      ],
      "source": [
        "\u23781 0 2 \u00af1"
      ]
    },
    {
      "cell_type": "markdown",
      "metadata": {},
      "source": [
        "```{solution} arithmetic-sequence \n",
        "```\n",
        "\n",
        "This \"vector of 17 numbers, the first being 23, with each subsequent number being equal to the preceding one plus 11\" is called an arithmetic progression in mathematics. Generating them is really easy if you use the algorithm we showed earlier.\n",
        "\n",
        "We start by generating a vector of consecutive numbers with the appropriate length:"
      ]
    },
    {
      "cell_type": "code",
      "execution_count": 227,
      "metadata": {},
      "outputs": [
        {
          "data": {
            "text/html": [
              "<span style=\"white-space:pre; font-family: monospace\">1 2 3 4 5 6 7 8 9 10 11 12 13 14 15 16 17\n",
              "</span>"
            ]
          },
          "execution_count": 227,
          "metadata": {},
          "output_type": "execute_result"
        }
      ],
      "source": [
        "\u237317"
      ]
    },
    {
      "cell_type": "markdown",
      "metadata": {},
      "source": [
        "Then we multiply the whole sequence by the spacing we want there to be between each number:"
      ]
    },
    {
      "cell_type": "code",
      "execution_count": 228,
      "metadata": {},
      "outputs": [
        {
          "data": {
            "text/html": [
              "<span style=\"white-space:pre; font-family: monospace\">11 22 33 44 55 66 77 88 99 110 121 132 143 154 165 176 187\n",
              "</span>"
            ]
          },
          "execution_count": 228,
          "metadata": {},
          "output_type": "execute_result"
        }
      ],
      "source": [
        "11\u00d7\u237317"
      ]
    },
    {
      "cell_type": "markdown",
      "metadata": {},
      "source": [
        "Then we add/subtract a number to the sequence so that the first element matches the required value. The first number is currently 11 and we want it to be 23, so we have to add 12:"
      ]
    },
    {
      "cell_type": "code",
      "execution_count": 229,
      "metadata": {},
      "outputs": [
        {
          "data": {
            "text/html": [
              "<span style=\"white-space:pre; font-family: monospace\">23 34 45 56 67 78 89 100 111 122 133 144 155 166 177 188 199\n",
              "</span>"
            ]
          },
          "execution_count": 229,
          "metadata": {},
          "output_type": "execute_result"
        }
      ],
      "source": [
        "12+11\u00d7\u237317"
      ]
    },
    {
      "cell_type": "markdown",
      "metadata": {},
      "source": [
        "Notice the final expression is equivalent to the algorithm presented in {numref}`Some-Primitive-Functions-Basic-Usage`, and working our way up to the expression is easier than trying to memorise an algorithm!"
      ]
    },
    {
      "cell_type": "code",
      "execution_count": 231,
      "metadata": {},
      "outputs": [
        {
          "data": {
            "text/html": [
              "<span style=\"white-space:pre; font-family: monospace\">23 34 45 56 67 78 89 100 111 122 133 144 155 166 177 188 199\n",
              "</span>"
            ]
          },
          "execution_count": 231,
          "metadata": {},
          "output_type": "execute_result"
        }
      ],
      "source": [
        "23+11\u00d7(\u237317)-1"
      ]
    },
    {
      "cell_type": "markdown",
      "metadata": {},
      "source": [
        "```{solution} bill \n",
        "```\n",
        "\n",
        "The first sensible thing to do is separate the products from the quantities. We can do this by creating a matrix with 2 columns:"
      ]
    },
    {
      "cell_type": "code",
      "execution_count": 232,
      "metadata": {},
      "outputs": [
        {
          "data": {
            "text/html": [
              "<span style=\"white-space:pre; font-family: monospace\">37  1\n",
              "70 20\n",
              "19  2\n",
              "82  5\n",
              "23 10\n",
              "</span>"
            ]
          },
          "execution_count": 232,
          "metadata": {},
          "output_type": "execute_result"
        }
      ],
      "source": [
        "wannaBuy \u2190 37 1 70 20 19 2 82 5 23 10\n",
        "\u22a2m \u2190 ((0.5\u00d7\u2262wannaBuy),2)\u2374wannaBuy"
      ]
    },
    {
      "cell_type": "markdown",
      "metadata": {},
      "source": [
        "Now the first column contains the codes and the second column contains the quantities. We chose 2 columns instead of 2 rows because of the way `\u2374` fills in the matrix: from left to right, top to bottom.\n",
        "\n",
        "The next thing to do is map the product codes to their prices:"
      ]
    },
    {
      "cell_type": "code",
      "execution_count": 233,
      "metadata": {},
      "outputs": [],
      "source": [
        "pcodes \u2190 56 66 19 37 44 20 18 23 68 70 82\n",
        "prices \u2190  9 27 10 15 12  5  8  9 98  7 22"
      ]
    },
    {
      "cell_type": "code",
      "execution_count": 234,
      "metadata": {},
      "outputs": [
        {
          "data": {
            "text/html": [
              "<span style=\"white-space:pre; font-family: monospace\">4 10 3 11 8\n",
              "</span>"
            ]
          },
          "execution_count": 234,
          "metadata": {},
          "output_type": "execute_result"
        }
      ],
      "source": [
        "\u22a2pos \u2190 pcodes\u2373m[;1]"
      ]
    },
    {
      "cell_type": "markdown",
      "metadata": {},
      "source": [
        "Now that we have the positions of the products the customer wants, we can find the prices, multiply them by the quantities and sum everything:"
      ]
    },
    {
      "cell_type": "code",
      "execution_count": 235,
      "metadata": {},
      "outputs": [
        {
          "data": {
            "text/html": [
              "<span style=\"white-space:pre; font-family: monospace\">375\n",
              "</span>"
            ]
          },
          "execution_count": 235,
          "metadata": {},
          "output_type": "execute_result"
        }
      ],
      "source": [
        "+/prices[pos]\u00d7m[;2]"
      ]
    },
    {
      "cell_type": "markdown",
      "metadata": {},
      "source": [
        "```{solution} lottery \n",
        "```\n"
      ]
    },
    {
      "cell_type": "code",
      "execution_count": 236,
      "metadata": {},
      "outputs": [],
      "source": [
        "\u2395RL \u2190 73\n",
        "tickets \u2190 ?1000\u2374999999\n",
        "sold \u2190 tickets[(800+?200)?1000]\n",
        "ours \u2190 sold[(?200)?\u2262sold]\n",
        "winners \u2190 tickets[100?1000]\n",
        "prizes \u2190 ?100\u23741000"
      ]
    },
    {
      "cell_type": "markdown",
      "metadata": {},
      "source": [
        "The unsold tickets are the `tickets` _without_ the ones that have been `sold`:"
      ]
    },
    {
      "cell_type": "code",
      "execution_count": 237,
      "metadata": {},
      "outputs": [
        {
          "data": {
            "text/html": [
              "<span style=\"white-space:pre; font-family: monospace\">636802 512379 327584 742744 867694 518416 837522 756393 875860 650618 734820 850511 269877 919436 540758 983293 504930 693521 242886 704993 445662 713406 614389 483967 897435 610802 578109 768129 383069 395407 7478 420111 30447 132341 519031 539593 295049 52849 187875 820478 641186 686560 450428 313323 281393 935843 861713 601571 508158 96073 233311 487348 757868 57876 971533 996215 816637 140520 378089 292169 178757 246775 246429 316212 309252 962321 73397 326613 863219 442574 838820 560717 872464 544884 211478 421320 670853 933120 929562 29943 872039 24194 313244 525545 974249 391069 229590 164488 988529 891749 309984 384385 896675 903217 891047 255077 547699 378376 611404 156401 663154 101448 312591 50864 568638 231875 952662 701228 797311 212429 248189 521779 858987 325307 775909 781609 91337 354366 30996 628490 407462 6628 93348 815928 61755 195544 16935 236409 889935 629654 86574 345820 734765 996468 387036 865286 822609 253808 263675 816052 567659 493785 574772\n",
              "</span>"
            ]
          },
          "execution_count": 237,
          "metadata": {},
          "output_type": "execute_result"
        }
      ],
      "source": [
        "tickets ~ sold"
      ]
    },
    {
      "cell_type": "markdown",
      "metadata": {},
      "source": [
        "Similarly, we can find the `winners`'s tickets _without_ the ones that have been `sold`:"
      ]
    },
    {
      "cell_type": "code",
      "execution_count": 238,
      "metadata": {},
      "outputs": [
        {
          "data": {
            "text/html": [
              "<span style=\"white-space:pre; font-family: monospace\">983293 73397 140520 7478 212429 670853 628490 701228 313323 384385 574772 327584 248189 816637 971533 962321\n",
              "</span>"
            ]
          },
          "execution_count": 238,
          "metadata": {},
          "output_type": "execute_result"
        }
      ],
      "source": [
        "winners ~ sold"
      ]
    },
    {
      "cell_type": "markdown",
      "metadata": {},
      "source": [
        "So we can see some of the winning tickets were not sold.\n",
        "\n",
        "We have"
      ]
    },
    {
      "cell_type": "code",
      "execution_count": 239,
      "metadata": {},
      "outputs": [
        {
          "data": {
            "text/html": [
              "<span style=\"white-space:pre; font-family: monospace\">160\n",
              "</span>"
            ]
          },
          "execution_count": 239,
          "metadata": {},
          "output_type": "execute_result"
        }
      ],
      "source": [
        "\u2262ours"
      ]
    },
    {
      "cell_type": "markdown",
      "metadata": {},
      "source": [
        "tickets but not all of them are winning tickets.\n",
        "However, we can easily see which of our tickets are winning tickets by checking which ones are *members* of the vector with the winning tickets:"
      ]
    },
    {
      "cell_type": "code",
      "execution_count": 240,
      "metadata": {},
      "outputs": [
        {
          "data": {
            "text/html": [
              "<span style=\"white-space:pre; font-family: monospace\">0 0 1 0 0 0 0 0 0 0 0 1 1 1 0 0 0 0 0 0 0 0 0 0 0 0 0 0 0 0 0 0 0 1 0 0 0 0 0 0 0 0 0 0 0 0 0 0 0 0 0 0 1 0 0 0 1 0 1 0 0 1 0 0 0 0 0 1 0 0 1 0 0 0 0 0 0 0 0 0 0 0 0 0 0 1 0 0 0 0 0 0 0 0 0 0 0 0 0 0 0 0 0 1 0 0 0 0 0 0 0 1 0 0 0 0 0 0 0 0 0 0 0 0 0 0 0 0 0 0 0 0 0 0 0 0 0 0 0 0 0 1 0 1 0 0 0 0 0 0 0 0 0 0 0 0 0 0 0 0\n",
              "</span>"
            ]
          },
          "execution_count": 240,
          "metadata": {},
          "output_type": "execute_result"
        }
      ],
      "source": [
        "ours\u220awinners"
      ]
    },
    {
      "cell_type": "markdown",
      "metadata": {},
      "source": [
        "If we want to know how many tickets are winning tickets, all we have to do is sum up the 1s in the vector above."
      ]
    },
    {
      "cell_type": "code",
      "execution_count": 241,
      "metadata": {},
      "outputs": [
        {
          "data": {
            "text/html": [
              "<span style=\"white-space:pre; font-family: monospace\">16\n",
              "</span>"
            ]
          },
          "execution_count": 241,
          "metadata": {},
          "output_type": "execute_result"
        }
      ],
      "source": [
        "+/ours\u220awinners"
      ]
    },
    {
      "cell_type": "markdown",
      "metadata": {},
      "source": [
        "Finally, to find our earnings we need to connect `ours` to the `prizes`. The easiest way to do so is by using _compress_ after finding out which `winners` are also `ours`:"
      ]
    },
    {
      "cell_type": "code",
      "execution_count": 242,
      "metadata": {},
      "outputs": [
        {
          "data": {
            "text/html": [
              "<span style=\"white-space:pre; font-family: monospace\">7043\n",
              "</span>"
            ]
          },
          "execution_count": 242,
          "metadata": {},
          "output_type": "execute_result"
        }
      ],
      "source": [
        "+/ (winners\u220aours)/prizes"
      ]
    },
    {
      "cell_type": "markdown",
      "metadata": {},
      "source": [
        "Another (more convoluted) possibility would be to index into the `prizes` with the `winners` that were also `ours`. For example, finding the positions of `ours` in the `winners`:"
      ]
    },
    {
      "cell_type": "code",
      "execution_count": 243,
      "metadata": {},
      "outputs": [],
      "source": [
        "pos \u2190 winners \u2373 ours"
      ]
    },
    {
      "cell_type": "markdown",
      "metadata": {},
      "source": [
        "Now notice we cannot index immediately into `prizes`:"
      ]
    },
    {
      "cell_type": "code",
      "execution_count": 244,
      "metadata": {},
      "outputs": [
        {
          "name": "stderr",
          "output_type": "stream",
          "text": [
            "INDEX ERROR\n",
            "      prizes[pos]\n",
            "            \u2227\n"
          ]
        }
      ],
      "source": [
        "prizes[pos]"
      ]
    },
    {
      "cell_type": "markdown",
      "metadata": {},
      "source": [
        "This is because some of our tickets are not winners and hence their index is one too large. To circumvent this we can extend `prizes` to have a trailing 0, so that our tickets that are not winners will contribute with 0 to the final sum:"
      ]
    },
    {
      "cell_type": "code",
      "execution_count": 245,
      "metadata": {},
      "outputs": [
        {
          "data": {
            "text/html": [
              "<span style=\"white-space:pre; font-family: monospace\">7043\n",
              "</span>"
            ]
          },
          "execution_count": 245,
          "metadata": {},
          "output_type": "execute_result"
        }
      ],
      "source": [
        "prizes \u2190 prizes, 0\n",
        "+/ prizes[pos]"
      ]
    },
    {
      "cell_type": "markdown",
      "metadata": {},
      "source": [
        "```{solution} divisors \n",
        "```\n",
        "\n",
        "Computing divisors of a number `n` amounts to finding the numbers `m` for which `m|n` is 0. First we compute the vector of all candidates:"
      ]
    },
    {
      "cell_type": "code",
      "execution_count": 246,
      "metadata": {},
      "outputs": [
        {
          "data": {
            "text/html": [
              "<span style=\"white-space:pre; font-family: monospace\">1 2 3 4 5 6 7 8 9 10 11 12 13 14 15 16 17 18 19 20 21 22 23 24\n",
              "</span>"
            ]
          },
          "execution_count": 246,
          "metadata": {},
          "output_type": "execute_result"
        }
      ],
      "source": [
        "n \u2190 24\n",
        "\u22a2m \u2190 \u2373n"
      ]
    },
    {
      "cell_type": "markdown",
      "metadata": {},
      "source": [
        "Now we compute the residues with, you guessed it, _residue_:"
      ]
    },
    {
      "cell_type": "code",
      "execution_count": 247,
      "metadata": {},
      "outputs": [
        {
          "data": {
            "text/html": [
              "<span style=\"white-space:pre; font-family: monospace\">0 0 0 0 4 0 3 0 6 4 2 0 11 10 9 8 7 6 5 4 3 2 1 0\n",
              "</span>"
            ]
          },
          "execution_count": 247,
          "metadata": {},
          "output_type": "execute_result"
        }
      ],
      "source": [
        "\u22a2r \u2190 m|n"
      ]
    },
    {
      "cell_type": "markdown",
      "metadata": {},
      "source": [
        "From these, we want the 0s because those represent numbers in `m` that divide evenly into `m`. Then we can use `\u2378` to convert them back to the original integers:"
      ]
    },
    {
      "cell_type": "code",
      "execution_count": 248,
      "metadata": {},
      "outputs": [
        {
          "data": {
            "text/html": [
              "<span style=\"white-space:pre; font-family: monospace\">1 2 3 4 6 8 12 24\n",
              "</span>"
            ]
          },
          "execution_count": 248,
          "metadata": {},
          "output_type": "execute_result"
        }
      ],
      "source": [
        "\u23780=r"
      ]
    },
    {
      "cell_type": "code",
      "execution_count": null,
      "metadata": {},
      "outputs": [],
      "source": []
    }
  ],
  "metadata": {
    "kernelspec": {
      "display_name": "Dyalog APL",
      "language": "apl",
      "name": "dyalog-kernel"
    },
    "language_info": {
      "file_extension": ".apl",
      "mimetype": "text/apl",
      "name": "APL"
    },
    "toc": {
      "base_numbering": 1,
      "nav_menu": {
        "height": "313px",
        "width": "240px"
      },
      "number_sections": false,
      "sideBar": true,
      "skip_h1_title": true,
      "title_cell": "Table of Contents",
      "title_sidebar": "Contents",
      "toc_cell": false,
      "toc_position": {
        "height": "calc(100% - 180px)",
        "left": "10px",
        "top": "150px",
        "width": "352px"
      },
      "toc_section_display": true,
      "toc_window_display": true
    }
  },
  "nbformat": 4,
  "nbformat_minor": 4
}