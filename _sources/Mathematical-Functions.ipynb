{
  "cells": [
    {
      "cell_type": "markdown",
      "id": "brilliant-opera",
      "metadata": {},
      "source": [
        "(Mathematical-Functions-Mathematical-Functions)=\n",
        "# Mathematical Functions\n",
        "\n",
        "(Mathematical-Functions-Sorting-and-Searching-Data)=\n",
        "## Sorting and Searching Data\n",
        "\n",
        "(Mathematical-Functions-Sorting-Numeric-Data)=\n",
        "### Sorting Numeric Data\n",
        "\n",
        "(Mathematical-Functions-Sorting-Numeric-Vectors)=\n",
        "#### Sorting Numeric Vectors\n",
        "\n",
        "Two primitive functions are provided to sort data:\n",
        "\n",
        " - _Grade up_ `\u234b`, typed with <kbd>APL</kbd>+<kbd>Shift</kbd>+<kbd>4</kbd>, returns the set of indices required to sort the array in ascending order.\n",
        " - _Grade down_ `\u2352`, typed with <kbd>APL</kbd>+<kbd>Shift</kbd>+<kbd>3</kbd>, returns the set of indices required to sort the array in descending order.\n",
        "\n",
        "Here is an example:"
      ]
    },
    {
      "cell_type": "code",
      "execution_count": 1,
      "id": "ancient-halifax",
      "metadata": {},
      "outputs": [
        {
          "data": {
            "text/html": [
              "<span style=\"white-space:pre; font-family: monospace\">3 1 7 2 6 9 5 10 8 4\n",
              "</span>"
            ]
          },
          "execution_count": 1,
          "metadata": {},
          "output_type": "execute_result"
        }
      ],
      "source": [
        "vec \u2190 40 60 20 110 70 60 40 90 60 80\n",
        "\u234bvec"
      ]
    },
    {
      "cell_type": "markdown",
      "id": "realistic-armenia",
      "metadata": {},
      "source": [
        "Notice that the function _grade up_ `\u234b` does not actually return a sorted (i.e., re-ordered) array.\n",
        "Instead, we obtain a set of indices which tell us that:\n",
        "\n",
        " - the smallest item is at index `3`;\n",
        " - then comes the item at index `1`;\n",
        " - then the item at index `7`;\n",
        " - then the item at index `2`;\n",
        " - ...\n",
        " - and the largest item is at index `4`.\n",
        "\n",
        "To obtain the vector `vec` sorted in ascending order, we must index it by these values, as shown below:"
      ]
    },
    {
      "cell_type": "code",
      "execution_count": 2,
      "id": "blind-jerusalem",
      "metadata": {},
      "outputs": [
        {
          "data": {
            "text/html": [
              "<span style=\"white-space:pre; font-family: monospace\">20 40 40 60 60 60 70 80 90 110\n",
              "</span>"
            ]
          },
          "execution_count": 2,
          "metadata": {},
          "output_type": "execute_result"
        }
      ],
      "source": [
        "vec[\u234bvec]"
      ]
    },
    {
      "cell_type": "markdown",
      "id": "norwegian-missouri",
      "metadata": {},
      "source": [
        "As you might imagine, _grade down_ sorts the vector in descending order:"
      ]
    },
    {
      "cell_type": "code",
      "execution_count": 3,
      "id": "severe-thickness",
      "metadata": {},
      "outputs": [
        {
          "data": {
            "text/html": [
              "<span style=\"white-space:pre; font-family: monospace\">110 90 80 70 60 60 60 40 40 20\n",
              "</span>"
            ]
          },
          "execution_count": 3,
          "metadata": {},
          "output_type": "execute_result"
        }
      ],
      "source": [
        "vec[\u2352vec]"
      ]
    },
    {
      "cell_type": "markdown",
      "id": "analyzed-train",
      "metadata": {},
      "source": [
        "When several items of the argument are equal, the relative positions of the items that are equal do not change.\n",
        "For this reason, `\u2352vec` is equal to `\u233d\u234bvec` only if the values in `vec` are all different.\n",
        "This is not the case for our vector:"
      ]
    },
    {
      "cell_type": "code",
      "execution_count": 4,
      "id": "demographic-housing",
      "metadata": {},
      "outputs": [
        {
          "data": {
            "text/html": [
              "<span style=\"white-space:pre; font-family: monospace\">3 1 7 2 6 9 5 10 8 4\n",
              "</span>"
            ]
          },
          "execution_count": 4,
          "metadata": {},
          "output_type": "execute_result"
        }
      ],
      "source": [
        "\u234bvec"
      ]
    },
    {
      "cell_type": "code",
      "execution_count": 5,
      "id": "color-wrapping",
      "metadata": {},
      "outputs": [
        {
          "data": {
            "text/html": [
              "<span style=\"white-space:pre; font-family: monospace\">4 8 10 5 9 6 2 7 1 3\n",
              "</span>"
            ]
          },
          "execution_count": 5,
          "metadata": {},
          "output_type": "execute_result"
        }
      ],
      "source": [
        "\u233d\u234bvec"
      ]
    },
    {
      "cell_type": "code",
      "execution_count": 6,
      "id": "union-carolina",
      "metadata": {},
      "outputs": [
        {
          "data": {
            "text/html": [
              "<span style=\"white-space:pre; font-family: monospace\">4 8 10 5 2 6 9 1 7 3\n",
              "</span>"
            ]
          },
          "execution_count": 6,
          "metadata": {},
          "output_type": "execute_result"
        }
      ],
      "source": [
        "\u2352vec"
      ]
    },
    {
      "cell_type": "markdown",
      "id": "dental-audit",
      "metadata": {},
      "source": [
        "Let us compare `\u233d\u234bvec` with `\u2352vec`:\n",
        "\n",
        "```APL\n",
        "4 8 10 5 9 6 2 7 1 3  \u235d \u233d\u234bvec\n",
        "4 8 10 5 2 6 9 1 7 3  \u235d  \u2352vec\n",
        "         \u2191 \u2191 \u2191\n",
        "```\n",
        "\n",
        "Notice how the numbers `2 6 9` are in opposite directions in the two results.\n",
        "That is because those indices refer to the three times the number 60 shows up in `vec`.\n",
        "\n",
        "Both when using _grade up_ and _grade down_, the indices show up in the order `2 6 9` because both grades preserve the relative positions of the items that are the same.\n",
        "Thus, when we _reverse_ the result of _grade up_, those three numbers show up as `9 6 2`.\n",
        "\n",
        "You may rightfully wonder why the functions _grade up_ and _grade down_ return indices instead of sorted data.\n",
        "There are, of course, good reasons for it, as we will show here.\n",
        "\n",
        "Firstly, the availability of the intermediate result of the sorting process opens up possibilities for interesting and useful manipulations.\n",
        "Here is one example: given a vector `v` of unique values, the expression `\u234b\u234bv` (or `\u234b\u2352v`) indicates which position the items of `v` would occupy if they were sorted in increasing (or decreasing) order."
      ]
    },
    {
      "cell_type": "code",
      "execution_count": 7,
      "id": "referenced-batman",
      "metadata": {},
      "outputs": [
        {
          "data": {
            "text/html": [
              "<span style=\"white-space:pre; font-family: monospace\">8 2 5 1 3 6 7 4\n",
              "</span>"
            ]
          },
          "execution_count": 7,
          "metadata": {},
          "output_type": "execute_result"
        }
      ],
      "source": [
        "class \u2190 153 432 317 609 411 227 186 350\n",
        "\u234b\u2352class"
      ]
    },
    {
      "cell_type": "code",
      "execution_count": 8,
      "id": "small-ethics",
      "metadata": {},
      "outputs": [
        {
          "data": {
            "text/html": [
              "<span style=\"white-space:pre; font-family: monospace\">153 432 317 609 411 227 186 350\n",
              "  8   2   5   1   3   6   7   4\n",
              "</span>"
            ]
          },
          "execution_count": 8,
          "metadata": {},
          "output_type": "execute_result"
        }
      ],
      "source": [
        "class,[.5]\u234b\u2352class"
      ]
    },
    {
      "cell_type": "markdown",
      "id": "premium-cyprus",
      "metadata": {},
      "source": [
        "The result above shows that `153` would be sent to position `8` if `class` were ordered in decreasing order, the `432` would be in position `2`, and so on.\n",
        "Here is the verification:"
      ]
    },
    {
      "cell_type": "code",
      "execution_count": 9,
      "id": "prostate-infection",
      "metadata": {},
      "outputs": [
        {
          "data": {
            "text/html": [
              "<span style=\"white-space:pre; font-family: monospace\">609 432 411 350 317 227 186 153\n",
              "</span>"
            ]
          },
          "execution_count": 9,
          "metadata": {},
          "output_type": "execute_result"
        }
      ],
      "source": [
        "\u2395\u2190 classSorted \u2190 class[\u2352class]"
      ]
    },
    {
      "cell_type": "code",
      "execution_count": 10,
      "id": "difficult-korea",
      "metadata": {},
      "outputs": [
        {
          "data": {
            "text/html": [
              "<span style=\"white-space:pre; font-family: monospace\">1\n",
              "</span>"
            ]
          },
          "execution_count": 10,
          "metadata": {},
          "output_type": "execute_result"
        }
      ],
      "source": [
        "classSorted[8]\u2261153"
      ]
    },
    {
      "cell_type": "code",
      "execution_count": 11,
      "id": "communist-causing",
      "metadata": {},
      "outputs": [
        {
          "data": {
            "text/html": [
              "<span style=\"white-space:pre; font-family: monospace\">1\n",
              "</span>"
            ]
          },
          "execution_count": 11,
          "metadata": {},
          "output_type": "execute_result"
        }
      ],
      "source": [
        "classSorted[2]\u2261432"
      ]
    },
    {
      "cell_type": "markdown",
      "id": "entire-sellers",
      "metadata": {},
      "source": [
        "Secondly, it makes it much easier to sort complementary arrays (e.g., arrays that represent columns in a database table) in the same order.\n",
        "Suppose, for example, that we would like to sort our familiar lists of prices and quantities in ascending order of quantity:"
      ]
    },
    {
      "cell_type": "code",
      "execution_count": 12,
      "id": "decreased-wedding",
      "metadata": {},
      "outputs": [],
      "source": [
        "price \u2190 5.2 11.5 3.6 4 8.45\n",
        "qty \u2190 2 1 3 6 2\n",
        "idx \u2190 \u234bqty"
      ]
    },
    {
      "cell_type": "code",
      "execution_count": 13,
      "id": "major-bradford",
      "metadata": {},
      "outputs": [
        {
          "data": {
            "text/html": [
              "<span style=\"white-space:pre; font-family: monospace\">11.5 5.2 8.45 3.6 4\n",
              "</span>"
            ]
          },
          "execution_count": 13,
          "metadata": {},
          "output_type": "execute_result"
        }
      ],
      "source": [
        "\u2395\u2190 price \u2190 price[idx]"
      ]
    },
    {
      "cell_type": "code",
      "execution_count": 14,
      "id": "acoustic-mountain",
      "metadata": {},
      "outputs": [
        {
          "data": {
            "text/html": [
              "<span style=\"white-space:pre; font-family: monospace\">1 2 2 3 6\n",
              "</span>"
            ]
          },
          "execution_count": 14,
          "metadata": {},
          "output_type": "execute_result"
        }
      ],
      "source": [
        "\u2395\u2190 qty \u2190 qty[idx]"
      ]
    },
    {
      "cell_type": "markdown",
      "id": "noted-danish",
      "metadata": {},
      "source": [
        "(Mathematical-Functions-Sorting-Numeric-Matrices)=\n",
        "#### Sorting Numeric Matrices\n",
        "\n",
        "The functions _grade up_ and _grade down_ can be used to sort the rows of a matrix.\n",
        "\n",
        "In this case, they sort the rows by comparing the first element of each row; then, for rows that have the same first element, they compare second elements; and so on and so forth.\n",
        "Both functions return a vector of row indices, which can be used to sort the matrix (do not forget the semicolon when indexing)."
      ]
    },
    {
      "cell_type": "code",
      "execution_count": 15,
      "id": "regulation-fluid",
      "metadata": {},
      "outputs": [
        {
          "data": {
            "text/html": [
              "<span style=\"white-space:pre; font-family: monospace\">2 40 8\n",
              "5 55 2\n",
              "2 33 9\n",
              "7 20 2\n",
              "5 55 1\n",
              "5 52 9\n",
              "2 40 9\n",
              "</span>"
            ]
          },
          "execution_count": 15,
          "metadata": {},
          "output_type": "execute_result"
        }
      ],
      "source": [
        "\u2395\u2190 matrix \u2190 7 3\u23742 40 8 5 55 2 2 33 9 7 20 2 5 55 1 5 52 9 2 40 9"
      ]
    },
    {
      "cell_type": "code",
      "execution_count": 16,
      "id": "judicial-focus",
      "metadata": {},
      "outputs": [
        {
          "data": {
            "text/html": [
              "<span style=\"white-space:pre; font-family: monospace\">2 33 9\n",
              "2 40 8\n",
              "2 40 9\n",
              "5 52 9\n",
              "5 55 1\n",
              "5 55 2\n",
              "7 20 2\n",
              "</span>"
            ]
          },
          "execution_count": 16,
          "metadata": {},
          "output_type": "execute_result"
        }
      ],
      "source": [
        "matrix[\u234bmatrix;]"
      ]
    },
    {
      "cell_type": "markdown",
      "id": "smart-differential",
      "metadata": {},
      "source": [
        "In the result above, you can see that the first column is sorted in ascending order.\n",
        "Then, when the first column has the same element, the second column is sorted in ascending order.\n",
        "For example, there are three rows in `matrix` that start with a `2`.\n",
        "Those three rows are the first three rows of the sorted matrix and, among those three rows, the second column is sorted:"
      ]
    },
    {
      "cell_type": "code",
      "execution_count": 17,
      "id": "random-undergraduate",
      "metadata": {},
      "outputs": [
        {
          "data": {
            "text/html": [
              "<span style=\"white-space:pre; font-family: monospace\">33 9\n",
              "40 8\n",
              "40 9\n",
              "</span>"
            ]
          },
          "execution_count": 17,
          "metadata": {},
          "output_type": "execute_result"
        }
      ],
      "source": [
        "3 \u00af2\u2191matrix[\u234bmatrix;]"
      ]
    },
    {
      "cell_type": "markdown",
      "id": "analyzed-cleanup",
      "metadata": {},
      "source": [
        "Finally, when the first and second columns are the same, we order by the third column.\n",
        "In the example above, we can see that two rows started with `2 40`, and those two rows were then sorted according to their third column."
      ]
    },
    {
      "cell_type": "markdown",
      "id": "tamil-rugby",
      "metadata": {},
      "source": [
        "(Mathematical-Functions-Sorting-Numeric-High-rank-Arrays)=\n",
        "#### Sorting Numeric High-rank Arrays\n",
        "\n",
        "The functions _grade up_ and _grade down_ can be used to sort the major cells of numeric arrays of arbitrary rank, not just vectors and matrices.\n",
        "\n",
        "To sort the rows of a matrix, we compared the rows item by item.\n",
        "To sort the planes of a cuboid, we will compare the planes row by row.\n",
        "To sort the cuboids of a 4D array, we will compare the cuboids plane by plane.\n",
        "And this is the reasoning that you should follow to sort the major cells of any arbitrary array.\n",
        "\n",
        "Consider the following cuboid:"
      ]
    },
    {
      "cell_type": "code",
      "execution_count": 18,
      "id": "third-antarctica",
      "metadata": {},
      "outputs": [
        {
          "data": {
            "text/html": [
              "<span style=\"white-space:pre; font-family: monospace\">2 1\n",
              "2 2\n",
              "\n",
              "1 2\n",
              "2 2\n",
              "\n",
              "1 2\n",
              "1 1\n",
              "\n",
              "2 1\n",
              "2 1\n",
              "\n",
              "2 2\n",
              "2 2\n",
              "</span>"
            ]
          },
          "execution_count": 18,
          "metadata": {},
          "output_type": "execute_result"
        }
      ],
      "source": [
        "\u2395\u2190 cuboid \u2190 5 2 2\u23742 1 2 2 1 2 2 2 1 2 1 1 2 1 2 1 2 2 2 2"
      ]
    },
    {
      "cell_type": "markdown",
      "id": "coupled-alberta",
      "metadata": {},
      "source": [
        "Looking at all of its planes, we see two matrices whose first row is `1 2`:"
      ]
    },
    {
      "cell_type": "code",
      "execution_count": 19,
      "id": "comprehensive-foundation",
      "metadata": {},
      "outputs": [
        {
          "data": {
            "text/html": [
              "<span style=\"white-space:pre; font-family: monospace\">1 2\n",
              "2 2\n",
              "\n",
              "1 2\n",
              "1 1\n",
              "</span>"
            ]
          },
          "execution_count": 19,
          "metadata": {},
          "output_type": "execute_result"
        }
      ],
      "source": [
        "cuboid[2 3;;]"
      ]
    },
    {
      "cell_type": "markdown",
      "id": "competent-testimony",
      "metadata": {},
      "source": [
        "Those two matrices have the smallest first row, so those two matrices will be the first two matrices in the sorted cuboid:"
      ]
    },
    {
      "cell_type": "code",
      "execution_count": 20,
      "id": "offshore-heath",
      "metadata": {},
      "outputs": [
        {
          "data": {
            "text/html": [
              "<span style=\"white-space:pre; font-family: monospace\">1 2\n",
              "1 1\n",
              "\n",
              "1 2\n",
              "2 2\n",
              "</span>"
            ]
          },
          "execution_count": 20,
          "metadata": {},
          "output_type": "execute_result"
        }
      ],
      "source": [
        "2\u2191cuboid[\u234bcuboid;;]"
      ]
    },
    {
      "cell_type": "markdown",
      "id": "olive-vienna",
      "metadata": {},
      "source": [
        "However, they show up in the reverse order in the sorted cuboid because the two matrices have the same first row, thus we need to compare the second row of each matrix to determine which matrix comes first.\n",
        "\n",
        "This is the type of reasoning that must be followed to sort the whole cuboid:"
      ]
    },
    {
      "cell_type": "code",
      "execution_count": 21,
      "id": "necessary-morrison",
      "metadata": {},
      "outputs": [
        {
          "data": {
            "text/html": [
              "<span style=\"white-space:pre; font-family: monospace\">1 2\n",
              "1 1\n",
              "\n",
              "1 2\n",
              "2 2\n",
              "\n",
              "2 1\n",
              "2 1\n",
              "\n",
              "2 1\n",
              "2 2\n",
              "\n",
              "2 2\n",
              "2 2\n",
              "</span>"
            ]
          },
          "execution_count": 21,
          "metadata": {},
          "output_type": "execute_result"
        }
      ],
      "source": [
        "cuboid[\u234bcuboid;;]"
      ]
    },
    {
      "cell_type": "markdown",
      "id": "surface-evidence",
      "metadata": {},
      "source": [
        "(Mathematical-Functions-Sorting-Characters)=\n",
        "### Sorting Characters\n",
        "\n",
        "(Mathematical-Functions-Using-the-Default-Alphabet)=\n",
        "#### Using the Default Alphabet\n",
        "\n",
        "When applied to characters, the monadic forms of _grade up_ and _grade down_ refer to an implicit alphabetic order.\n",
        "In all modern versions of Dyalog (the _Unicode Editions_), it is the numerical order of the corresponding Unicode code points.\n",
        "However, in the _Classic Editions_ of Dyalog, it is given by a specific _system variable_ known as the _atomic vector_ `\u2395AV`, described in [the chapter about system interfaces](./System-Interfaces.ipynb).\n",
        "\n",
        "For example, all modern versions of Dyalog give this result:"
      ]
    },
    {
      "cell_type": "code",
      "execution_count": 22,
      "id": "regional-montana",
      "metadata": {},
      "outputs": [
        {
          "data": {
            "text/html": [
              "<span style=\"white-space:pre; font-family: monospace\">     CGUaaaacdeehklnoooprrrrssstw\n",
              "</span>"
            ]
          },
          "execution_count": 22,
          "metadata": {},
          "output_type": "execute_result"
        }
      ],
      "source": [
        "text \u2190 'Grade Up also works on Characters'\n",
        "text[\u234btext]"
      ]
    },
    {
      "cell_type": "markdown",
      "id": "relevant-cologne",
      "metadata": {},
      "source": [
        "In _Classic Editions_ of Dyalog, the result would have been `'     aaaacdeehjlnoooprrrrssstwCGU'`.\n",
        "That is because the vector `\u2395AV` has the lower case characters before the upper case ones, which means all the lower case letters will be sorted before all the upper case letters.\n",
        "However, in the _Unicode Editions_, text is sorted according to Unicode code points, and in the Unicode standard, the upper case letters come before the lower case letters.\n",
        "This is why we obtained two different results.\n",
        "\n",
        "For this reason, sorting characters using the default alphabet should be reserved for text that contains only lower case or only upper case letters, or matrices where upper and lower case letters appear in the same columns, as in the following example:"
      ]
    },
    {
      "cell_type": "code",
      "execution_count": 23,
      "id": "challenging-mount",
      "metadata": {},
      "outputs": [
        {
          "data": {
            "text/html": [
              "<span style=\"white-space:pre; font-family: monospace\">Canberra  \n",
              "Paris     \n",
              "Washington\n",
              "Moscow    \n",
              "Martigues \n",
              "Mexico    \n",
              "</span>"
            ]
          },
          "execution_count": 23,
          "metadata": {},
          "output_type": "execute_result"
        }
      ],
      "source": [
        "\u2395\u2190 towns \u2190 \u2191'Canberra' 'Paris' 'Washington' 'Moscow' 'Martigues' 'Mexico'"
      ]
    },
    {
      "cell_type": "code",
      "execution_count": 24,
      "id": "absolute-motion",
      "metadata": {},
      "outputs": [
        {
          "data": {
            "text/html": [
              "<span style=\"white-space:pre; font-family: monospace\">Canberra  \n",
              "Martigues \n",
              "Mexico    \n",
              "Moscow    \n",
              "Paris     \n",
              "Washington\n",
              "</span>"
            ]
          },
          "execution_count": 24,
          "metadata": {},
          "output_type": "execute_result"
        }
      ],
      "source": [
        "towns[\u234btowns;]"
      ]
    },
    {
      "cell_type": "markdown",
      "id": "domestic-rebecca",
      "metadata": {},
      "source": [
        "The names are sorted correctly because all letters in each column are of the same case (all are upper case, or all are lower case).\n",
        "However, if we mix upper and lower case letters, we may not get the result we expected.\n",
        "\n",
        "For example, here we redefine the matrix `towns` but we are not careful, and thus do not capitalise properly all of the names of the cities:"
      ]
    },
    {
      "cell_type": "code",
      "execution_count": 25,
      "id": "electoral-reverse",
      "metadata": {},
      "outputs": [
        {
          "data": {
            "text/html": [
              "<span style=\"white-space:pre; font-family: monospace\">canberra  \n",
              "paris     \n",
              "Washington\n",
              "Moscow    \n",
              "Martigues \n",
              "Mexico    \n",
              "</span>"
            ]
          },
          "execution_count": 25,
          "metadata": {},
          "output_type": "execute_result"
        }
      ],
      "source": [
        "\u2395\u2190 towns \u2190 \u2191'canberra' 'paris' 'Washington' 'Moscow' 'Martigues' 'Mexico'"
      ]
    },
    {
      "cell_type": "markdown",
      "id": "egyptian-protest",
      "metadata": {},
      "source": [
        "Because capitalisation was not uniform, sorting will differ wildly from what we obtained before:"
      ]
    },
    {
      "cell_type": "code",
      "execution_count": 26,
      "id": "surface-stanley",
      "metadata": {},
      "outputs": [
        {
          "data": {
            "text/html": [
              "<span style=\"white-space:pre; font-family: monospace\">Martigues \n",
              "Mexico    \n",
              "Moscow    \n",
              "Washington\n",
              "canberra  \n",
              "paris     \n",
              "</span>"
            ]
          },
          "execution_count": 26,
          "metadata": {},
          "output_type": "execute_result"
        }
      ],
      "source": [
        "towns[\u234btowns;]"
      ]
    },
    {
      "cell_type": "markdown",
      "id": "thick-offset",
      "metadata": {},
      "source": [
        "In the result above, `'Washington'` (which was supposed to be the last row) came before `'canberra'` (which was supposed to be the first row) because all the upper case letters come before the lower case letters in the implicit alphabet that defines the order of characters."
      ]
    },
    {
      "cell_type": "markdown",
      "id": "gothic-monroe",
      "metadata": {},
      "source": [
        "(Mathematical-Functions-Using-an-Explicit-Alphabet)=\n",
        "#### Using an Explicit Alphabet\n",
        "\n",
        "To avoid this kind of problem, it is advisable to use the dyadic versions of the sorting primitives, which take an explicit alphabet as their left argument (notice it contains a blank in the end).\n",
        "Let us try this:"
      ]
    },
    {
      "cell_type": "code",
      "execution_count": 27,
      "id": "increased-stocks",
      "metadata": {},
      "outputs": [
        {
          "data": {
            "text/html": [
              "<span style=\"white-space:pre; font-family: monospace\">canberra  \n",
              "Martigues \n",
              "Mexico    \n",
              "Moscow    \n",
              "paris     \n",
              "Washington\n",
              "</span>"
            ]
          },
          "execution_count": 27,
          "metadata": {},
          "output_type": "execute_result"
        }
      ],
      "source": [
        "alph \u2190 'aAbBcCdDeEfFgGhHiIjJkKlLmMnNoOpPqQrRsStTuUvVwWxXyYzZ '\n",
        "towns[alph\u234btowns;]"
      ]
    },
    {
      "cell_type": "markdown",
      "id": "outside-discussion",
      "metadata": {},
      "source": [
        "Alas, our satisfaction will be short lived!\n",
        "Imagine that `'Mexico'` now becomes `'mexico'`:"
      ]
    },
    {
      "cell_type": "code",
      "execution_count": 28,
      "id": "textile-gauge",
      "metadata": {},
      "outputs": [
        {
          "data": {
            "text/html": [
              "<span style=\"white-space:pre; font-family: monospace\">canberra  \n",
              "paris     \n",
              "Washington\n",
              "Moscow    \n",
              "Martigues \n",
              "mexico    \n",
              "</span>"
            ]
          },
          "execution_count": 28,
          "metadata": {},
          "output_type": "execute_result"
        }
      ],
      "source": [
        "towns[6;1] \u2190 'm'\n",
        "\u2395\u2190 towns"
      ]
    },
    {
      "cell_type": "markdown",
      "id": "likely-jackson",
      "metadata": {},
      "source": [
        "In our alphabet, a lower case \"m\" comes before the upper case \"M\", so we would obtain:"
      ]
    },
    {
      "cell_type": "code",
      "execution_count": 29,
      "id": "about-forward",
      "metadata": {},
      "outputs": [
        {
          "data": {
            "text/html": [
              "<span style=\"white-space:pre; font-family: monospace\">canberra  \n",
              "mexico    \n",
              "Martigues \n",
              "Moscow    \n",
              "paris     \n",
              "Washington\n",
              "</span>"
            ]
          },
          "execution_count": 29,
          "metadata": {},
          "output_type": "execute_result"
        }
      ],
      "source": [
        "towns[alph\u234btowns;]"
      ]
    },
    {
      "cell_type": "markdown",
      "id": "horizontal-exhibit",
      "metadata": {},
      "source": [
        "There is fortunately a solution to this annoying problem.\n",
        "Instead of a vector, let us organise our alphabet into a matrix, as shown here:"
      ]
    },
    {
      "cell_type": "code",
      "execution_count": 30,
      "id": "attached-mambo",
      "metadata": {},
      "outputs": [
        {
          "data": {
            "text/html": [
              "<span style=\"white-space:pre; font-family: monospace\">abcdefghijklmnopqrstuvwxyz \n",
              "ABCDEFGHIJKLMNOPQRSTUVWXYZ \n",
              "</span>"
            ]
          },
          "execution_count": 30,
          "metadata": {},
          "output_type": "execute_result"
        }
      ],
      "source": [
        "\u2395\u2190 alph \u2190 \u234927 2\u2374alph,' '"
      ]
    },
    {
      "cell_type": "markdown",
      "id": "nonprofit-adobe",
      "metadata": {},
      "source": [
        "Although you cannot see it, note that the last column contains a blank in both rows:"
      ]
    },
    {
      "cell_type": "code",
      "execution_count": 31,
      "id": "adjusted-pharmacy",
      "metadata": {},
      "outputs": [
        {
          "data": {
            "text/html": [
              "<span style=\"white-space:pre; font-family: monospace\">abcdefghijklmnopqrstuvwxyz #\n",
              "ABCDEFGHIJKLMNOPQRSTUVWXYZ #\n",
              "</span>"
            ]
          },
          "execution_count": 31,
          "metadata": {},
          "output_type": "execute_result"
        }
      ],
      "source": [
        "alph,'#'"
      ]
    },
    {
      "cell_type": "markdown",
      "id": "duplicate-order",
      "metadata": {},
      "source": [
        "Now, \"m\" and \"M\" have the same priority because they are placed in the same columns of the alphabet.\n",
        "When sorting a matrix, the lower case letters and the upper case letters will now be sorted identically:"
      ]
    },
    {
      "cell_type": "code",
      "execution_count": 32,
      "id": "present-damage",
      "metadata": {},
      "outputs": [
        {
          "data": {
            "text/html": [
              "<span style=\"white-space:pre; font-family: monospace\">canberra  \n",
              "Martigues \n",
              "mexico    \n",
              "Moscow    \n",
              "paris     \n",
              "Washington\n",
              "</span>"
            ]
          },
          "execution_count": 32,
          "metadata": {},
          "output_type": "execute_result"
        }
      ],
      "source": [
        "towns[alph\u234btowns;]"
      ]
    },
    {
      "cell_type": "markdown",
      "id": "textile-cotton",
      "metadata": {},
      "source": [
        "Note that if we include the same town twice, but with different capitalisation, the lower case version will come first:"
      ]
    },
    {
      "cell_type": "code",
      "execution_count": 33,
      "id": "japanese-priest",
      "metadata": {},
      "outputs": [
        {
          "data": {
            "text/html": [
              "<span style=\"white-space:pre; font-family: monospace\">canberra  \n",
              "paris     \n",
              "Washington\n",
              "Moscow    \n",
              "Martigues \n",
              "mexico    \n",
              "washington\n",
              "</span>"
            ]
          },
          "execution_count": 33,
          "metadata": {},
          "output_type": "execute_result"
        }
      ],
      "source": [
        "towns \u236a\u2190 'washington'\n",
        "\u2395\u2190 towns"
      ]
    },
    {
      "cell_type": "code",
      "execution_count": 34,
      "id": "unknown-coordinator",
      "metadata": {},
      "outputs": [
        {
          "data": {
            "text/html": [
              "<span style=\"white-space:pre; font-family: monospace\">canberra  \n",
              "Martigues \n",
              "mexico    \n",
              "Moscow    \n",
              "paris     \n",
              "washington\n",
              "Washington\n",
              "</span>"
            ]
          },
          "execution_count": 34,
          "metadata": {},
          "output_type": "execute_result"
        }
      ],
      "source": [
        "towns[alph\u234btowns;]"
      ]
    },
    {
      "cell_type": "markdown",
      "id": "derived-refund",
      "metadata": {},
      "source": [
        "(Mathematical-Functions-Grading-and-Permutations)=\n",
        "### Grading and Permutations\n",
        "\n",
        "Suppose the function _grade up_ or _grade down_ is applied to a vector of length `n`.\n",
        "The result of the function is going to be what mathematicians call a _permutation_.\n",
        "\n",
        "A permutation (of size `n`) is a vector of length `n` that contains all integers from `1` to `n` in _any_ order.\n",
        "Intuitively speaking, a permutation is the vector `\u2373n` shuffled.\n",
        "\n",
        "As we have seen above, permutation vectors can be used to index into other vectors (or arbitrary arrays) and change the orders of their contents.\n",
        "That is one of the primary use cases of permutation vectors and that is, essentially, the intended use case of the permutation vectors returned by the functions _grade up_ and _grade down_:"
      ]
    },
    {
      "cell_type": "code",
      "execution_count": 35,
      "id": "valuable-anxiety",
      "metadata": {},
      "outputs": [],
      "source": [
        "word \u2190 'MISSISSIPPI'"
      ]
    },
    {
      "cell_type": "code",
      "execution_count": 36,
      "id": "atlantic-governor",
      "metadata": {},
      "outputs": [
        {
          "data": {
            "text/html": [
              "<span style=\"white-space:pre; font-family: monospace\">2 5 8 11 1 9 10 3 4 6 7\n",
              "</span>"
            ]
          },
          "execution_count": 36,
          "metadata": {},
          "output_type": "execute_result"
        }
      ],
      "source": [
        "\u2395\u2190 permutationVector \u2190 \u234bword"
      ]
    },
    {
      "cell_type": "markdown",
      "id": "august-vertical",
      "metadata": {},
      "source": [
        "As we can see, the result is a permutation vector of size 11 because it contains all the integers from 1 to 11.\n",
        "Then, we can use that permutation vector to reorder other vectors of length 11.\n",
        "For example, we can use the permutation vector to sort the original character vector:"
      ]
    },
    {
      "cell_type": "code",
      "execution_count": 37,
      "id": "precious-prescription",
      "metadata": {},
      "outputs": [
        {
          "data": {
            "text/html": [
              "<span style=\"white-space:pre; font-family: monospace\">IIIIMPPSSSS\n",
              "</span>"
            ]
          },
          "execution_count": 37,
          "metadata": {},
          "output_type": "execute_result"
        }
      ],
      "source": [
        "word[permutationVector]"
      ]
    },
    {
      "cell_type": "markdown",
      "id": "collaborative-scottish",
      "metadata": {},
      "source": [
        "When a vector (or another array) is indexed by a permutation vector, we know that:\n",
        "\n",
        " - the result of the indexing will have as many elements as the array being indexed;\n",
        " - no element of the array being indexed will be repeated; and\n",
        " - all elements of the array being indexed will be in the final result.\n",
        "\n",
        "These characteristics of the result of the indexing operation all follow from the fact that the indexing vector is a permutation vector.\n",
        "\n",
        "Finally, if you look at permutation vectors as vectors that allow you to change the order of things, sometimes you might want to change the order **back**.\n",
        "If `p` is a permutation vector, then `\u234bp` is the inverse permutation vector.\n",
        "So, if you use the permutation vector `p` to reorder something, you can use the permutation vector `\u234bp` to undo that reordering.\n",
        "\n",
        "In other words, if `vp \u2190 v[p]`, then `v \u2261 vp[\u234bp]`.\n",
        "\n",
        "Here is an example:"
      ]
    },
    {
      "cell_type": "code",
      "execution_count": 38,
      "id": "configured-equipment",
      "metadata": {},
      "outputs": [
        {
          "data": {
            "text/html": [
              "<span style=\"white-space:pre; font-family: monospace\">1\n",
              "</span>"
            ]
          },
          "execution_count": 38,
          "metadata": {},
          "output_type": "execute_result"
        }
      ],
      "source": [
        "wordP \u2190 word[permutationVector]  \u235d reorder the word\n",
        "word \u2261 wordP[\u234bpermutationVector]  \u235d go back"
      ]
    },
    {
      "cell_type": "markdown",
      "id": "sapphire-morocco",
      "metadata": {},
      "source": [
        "(Mathematical-Functions-Finding-Values)=\n",
        "### Finding Values\n",
        "\n",
        "The function _find_ `\u2377`, which you can type with <kbd>APL</kbd>+<kbd>Shift</kbd>+<kbd>E</kbd>, is a primitive function that allows you to search for an array `needle` in an array `haystack`.\n",
        "The result is a Boolean array with the same shape as `haystack`, with a 1 at the starting point of each occurrence of `needle` in `haystack`.\n",
        "Here is an example:"
      ]
    },
    {
      "cell_type": "code",
      "execution_count": 39,
      "id": "indirect-removal",
      "metadata": {},
      "outputs": [
        {
          "data": {
            "text/html": [
              "<span style=\"white-space:pre; font-family: monospace\">0 0 0 0 0 1 0 0 0 1 0 0 0 0 0\n",
              "</span>"
            ]
          },
          "execution_count": 39,
          "metadata": {},
          "output_type": "execute_result"
        }
      ],
      "source": [
        "\u2395\u2190 where \u2190 'at' \u2377 'Congratulations'"
      ]
    },
    {
      "cell_type": "code",
      "execution_count": 40,
      "id": "governing-amount",
      "metadata": {},
      "outputs": [
        {
          "data": {
            "text/html": [
              "<span style=\"white-space:pre; font-family: monospace\">C o n g r a t u l a t i o n s\n",
              "0 0 0 0 0 1 0 0 0 1 0 0 0 0 0\n",
              "</span>"
            ]
          },
          "execution_count": 40,
          "metadata": {},
          "output_type": "execute_result"
        }
      ],
      "source": [
        "'Congratulations',[.5]where"
      ]
    },
    {
      "cell_type": "markdown",
      "id": "corrected-badge",
      "metadata": {},
      "source": [
        "The function _find_ can also be applied to numeric arrays.\n",
        "Here, we search for a vector of 3 numbers in a longer vector:"
      ]
    },
    {
      "cell_type": "code",
      "execution_count": 41,
      "id": "flying-shirt",
      "metadata": {},
      "outputs": [
        {
          "data": {
            "text/html": [
              "<span style=\"white-space:pre; font-family: monospace\">0 0 1 0 0 0 0 0 0 0 0 0 0 1 0 0 0\n",
              "</span>"
            ]
          },
          "execution_count": 41,
          "metadata": {},
          "output_type": "execute_result"
        }
      ],
      "source": [
        "2 5 1 \u2377 4 8 2 5 1 6 4 2 5 3 5 1 2 2 5 1 7"
      ]
    },
    {
      "cell_type": "markdown",
      "id": "false-safety",
      "metadata": {},
      "source": [
        "The rank of `haystack` can be higher than the rank of `needle`.\n",
        "For example, we can search for a vector in a matrix:"
      ]
    },
    {
      "cell_type": "code",
      "execution_count": 42,
      "id": "failing-smith",
      "metadata": {},
      "outputs": [
        {
          "data": {
            "text/html": [
              "<span style=\"white-space:pre; font-family: monospace\">0 0 0 0 0 0 0 0 0 0\n",
              "0 0 0 0 0 0 0 0 0 0\n",
              "0 1 0 0 0 0 0 0 0 0\n",
              "0 0 0 0 0 0 0 0 0 0\n",
              "0 0 0 0 0 0 0 0 0 0\n",
              "0 0 0 0 0 0 0 0 0 0\n",
              "0 1 0 0 0 0 0 0 0 0\n",
              "</span>"
            ]
          },
          "execution_count": 42,
          "metadata": {},
          "output_type": "execute_result"
        }
      ],
      "source": [
        "'as' \u2377 towns"
      ]
    },
    {
      "cell_type": "markdown",
      "id": "gorgeous-humidity",
      "metadata": {},
      "source": [
        "The opposite is also permitted (i.e., the left argument having a higher rank than the right argument), but would not be very useful.\n",
        "The result would be only zeroes."
      ]
    },
    {
      "cell_type": "markdown",
      "id": "rental-alias",
      "metadata": {},
      "source": [
        "(Mathematical-Functions-Encode-and-Decode)=\n",
        "## Encode and Decode\n",
        "\n",
        "APL offers two primitives, _encode_ `\u22a4` and _decode_ `\u22a5` \u2013 typed with <kbd>APL</kbd>+<kbd>n</kbd> and <kbd>APL</kbd>+<kbd>b</kbd>, respectively \u2013, to convert numeric values from their decimal form to a representation in any other number system, and back again.\n",
        "\n",
        "Because we may not be very familiar with this kind of calculation, it may seem that only mad mathematicians should invest their time studying such conversions.\n",
        "In fact, these functions are used rather frequently to solve common problems.\n",
        "But before studying them, we need to present some basic notions."
      ]
    },
    {
      "cell_type": "markdown",
      "id": "reasonable-framing",
      "metadata": {},
      "source": [
        "(Mathematical-Functions-Some-Words-of-Theory)=\n",
        "### Some Words of Theory\n",
        "\n",
        "(Mathematical-Functions-Familiar-But-Not-Decimal)=\n",
        "#### Familiar, But Not Decimal\n",
        "\n",
        "8839 is a simple number, represented in our good old decimal system.\n",
        "But if 8839 represents a number of seconds, we could just express it as 2 hours, 27 minutes, and 19 seconds.\n",
        "`2 27 19` is the representation of `8839` in a non-uniform number system based on 24 hour days, each divided into 60 minutes, each divided into 60 seconds.\n",
        "\n",
        "The second representation is more familiar to us, but is **not** a decimal representation: the value has been expressed in a complex _base_ (or _radix_); we shall say that it is **coded**, even though it is familiar.\n",
        "\n",
        "Converting `8839` into `2 27 19` is called _encoding_ because the result is not decimal.\n",
        "Converting `2 27 19` into `8839` is called _decoding_ because the result is decimal.\n",
        "We shall say that `24 60 60` is the _base_ of the number system of `2 27 19`."
      ]
    },
    {
      "cell_type": "markdown",
      "id": "paperback-pierre",
      "metadata": {},
      "source": [
        "(Mathematical-Functions-Three-Important-Remarks)=\n",
        "#### Three Important Remarks\n",
        "\n",
        " - In this case, encoding a scalar (`8839`) produces a vector (`2 27 19`).\n",
        " In general, the representation of a decimal scalar in a non-decimal base cannot be expected to be a single number.\n",
        " It will always be an array of the same shape as the left argument to the function _encode_, and in all but very special cases this left argument will be a vector or a higher-rank array.\n",
        "\n",
        "For example, a binary value cannot be written as `101011` (this is a decimal number); it must be written as a vector of binary digits: `1 0 1 0 1 1`.\n",
        "\n",
        " - The items of an encoded value can be greater than 9.\n",
        " In our examples, we had items equal to 27 and 19.\n",
        " But they are always smaller than the corresponding item of the _base_.\n",
        " Would you say that you spent 2 hours and 87 minutes to do something?\n",
        " Probably not, because 87 is greater than 60.\n",
        " You would say 3 hours and 27 minutes.\n",
        "\n",
        " - No mater whether days were made of only 18 hours, 2 hours, 27 minutes, and 19 seconds would always represent 8839 seconds.\n",
        "\n",
        "This leads to the following rule: the first item of the base vector is never taken into account when _decoding_, but it is always used for _encoding_."
      ]
    },
    {
      "cell_type": "markdown",
      "id": "duplicate-cassette",
      "metadata": {},
      "source": [
        "(Mathematical-Functions-Base-and-Weights)=\n",
        "#### Base and Weights\n",
        "\n",
        "Given the _base_ vector `24 60 60` and a value `2 27 19`, one can _decode_ it (obtain its decimal representation) by any of the three formulas that follow.\n",
        "(Note that `3600=60\u00d760`.)"
      ]
    },
    {
      "cell_type": "code",
      "execution_count": 43,
      "id": "sound-kuwait",
      "metadata": {},
      "outputs": [
        {
          "data": {
            "text/html": [
              "<span style=\"white-space:pre; font-family: monospace\">8839\n",
              "</span>"
            ]
          },
          "execution_count": 43,
          "metadata": {},
          "output_type": "execute_result"
        }
      ],
      "source": [
        "(2\u00d73600) + (27\u00d760) + 19"
      ]
    },
    {
      "cell_type": "code",
      "execution_count": 44,
      "id": "fitting-kazakhstan",
      "metadata": {},
      "outputs": [
        {
          "data": {
            "text/html": [
              "<span style=\"white-space:pre; font-family: monospace\">8839\n",
              "</span>"
            ]
          },
          "execution_count": 44,
          "metadata": {},
          "output_type": "execute_result"
        }
      ],
      "source": [
        "+/ 3600 60 1 \u00d7 2 27 19"
      ]
    },
    {
      "cell_type": "code",
      "execution_count": 45,
      "id": "classified-grounds",
      "metadata": {},
      "outputs": [
        {
          "data": {
            "text/html": [
              "<span style=\"white-space:pre; font-family: monospace\">8839\n",
              "</span>"
            ]
          },
          "execution_count": 45,
          "metadata": {},
          "output_type": "execute_result"
        }
      ],
      "source": [
        "3600 60 1 +.\u00d7 2 27 19"
      ]
    },
    {
      "cell_type": "markdown",
      "id": "fourth-primary",
      "metadata": {},
      "source": [
        "The last formula clearly shows that decoding a set of values is nothing else than an _inner product_.\n",
        "This is important because it means that the same shape compatibility rules will apply.\n",
        "\n",
        "The values `3600 60 1` are the _weights_ representing how many seconds are in an hour, in a minute, and in a second.\n",
        "They can be obtained from the _base_ vector as follows:"
      ]
    },
    {
      "cell_type": "code",
      "execution_count": 46,
      "id": "marine-jersey",
      "metadata": {},
      "outputs": [
        {
          "data": {
            "text/html": [
              "<span style=\"white-space:pre; font-family: monospace\">3600 60 1\n",
              "</span>"
            ]
          },
          "execution_count": 46,
          "metadata": {},
          "output_type": "execute_result"
        }
      ],
      "source": [
        "base \u2190 24 60 60\n",
        "\u2395\u2190 weights \u2190 \u233d 1,\u00d7\\ \u233d 1\u2193base"
      ]
    },
    {
      "cell_type": "markdown",
      "id": "infectious-ensemble",
      "metadata": {},
      "source": [
        "This formula confirms the remark we made earlier: the first item of the _base_ vector is not used when _decoding_ a value.\n",
        "However, it is needed in order to do the reverse operation (_encoding_) using the same _base_ vector.\n",
        "\n",
        "Once the weights are calculated, we can define the relationship between _decode_ and _inner product_:\n",
        "\n",
        "```{admonition} Remark \n",
        ":class: tip\n",
        "`base \u22a5 values` is equivalent to `weights +.\u00d7 values`.\n",
        "```\n"
      ]
    },
    {
      "cell_type": "markdown",
      "id": "changed-quantity",
      "metadata": {},
      "source": [
        "(Mathematical-Functions-Using-Decode--Encode)=\n",
        "### Using Decode & Encode\n",
        "\n",
        "(Mathematical-Functions-Decode)=\n",
        "#### Decode\n",
        "\n",
        "_Decode_ is represented by `\u22a5`.\n",
        "It accepts the _base_ vector directly as its left argument, so that you do not have to calculate the weights:"
      ]
    },
    {
      "cell_type": "code",
      "execution_count": 47,
      "id": "greenhouse-telling",
      "metadata": {},
      "outputs": [
        {
          "data": {
            "text/html": [
              "<span style=\"white-space:pre; font-family: monospace\">8839\n",
              "</span>"
            ]
          },
          "execution_count": 47,
          "metadata": {},
          "output_type": "execute_result"
        }
      ],
      "source": [
        "base \u22a5 2 27 19"
      ]
    },
    {
      "cell_type": "markdown",
      "id": "modified-insulation",
      "metadata": {},
      "source": [
        "Because the first item of the base vector is not used when decoding, we could have obtained the same result in this way:"
      ]
    },
    {
      "cell_type": "code",
      "execution_count": 48,
      "id": "female-distinction",
      "metadata": {},
      "outputs": [
        {
          "data": {
            "text/html": [
              "<span style=\"white-space:pre; font-family: monospace\">8839\n",
              "</span>"
            ]
          },
          "execution_count": 48,
          "metadata": {},
          "output_type": "execute_result"
        }
      ],
      "source": [
        "base \u2190 0 60 60\n",
        "base \u22a5 2 27 19"
      ]
    },
    {
      "cell_type": "markdown",
      "id": "perceived-european",
      "metadata": {},
      "source": [
        "As another example application of the function _decode_, suppose eggs are packaged in boxes, each containing 6 packs of 6 eggs.\n",
        "\n",
        "If we have 2 full boxes, plus 5 packs, plus 3 eggs, we can calculate the total number of eggs using any of the following expressions, each giving the same result:"
      ]
    },
    {
      "cell_type": "code",
      "execution_count": 49,
      "id": "wireless-coalition",
      "metadata": {},
      "outputs": [
        {
          "data": {
            "text/html": [
              "<span style=\"white-space:pre; font-family: monospace\">105\n",
              "</span>"
            ]
          },
          "execution_count": 49,
          "metadata": {},
          "output_type": "execute_result"
        }
      ],
      "source": [
        "(2\u00d736) + (5\u00d76) + 3"
      ]
    },
    {
      "cell_type": "code",
      "execution_count": 50,
      "id": "documentary-original",
      "metadata": {},
      "outputs": [
        {
          "data": {
            "text/html": [
              "<span style=\"white-space:pre; font-family: monospace\">105\n",
              "</span>"
            ]
          },
          "execution_count": 50,
          "metadata": {},
          "output_type": "execute_result"
        }
      ],
      "source": [
        "+/ 36 6 1 \u00d7 2 5 3"
      ]
    },
    {
      "cell_type": "code",
      "execution_count": 51,
      "id": "continuing-wesley",
      "metadata": {},
      "outputs": [
        {
          "data": {
            "text/html": [
              "<span style=\"white-space:pre; font-family: monospace\">105\n",
              "</span>"
            ]
          },
          "execution_count": 51,
          "metadata": {},
          "output_type": "execute_result"
        }
      ],
      "source": [
        "36 6 1 +.\u00d7 2 5 3"
      ]
    },
    {
      "cell_type": "code",
      "execution_count": 52,
      "id": "starting-vertical",
      "metadata": {},
      "outputs": [
        {
          "data": {
            "text/html": [
              "<span style=\"white-space:pre; font-family: monospace\">105\n",
              "</span>"
            ]
          },
          "execution_count": 52,
          "metadata": {},
          "output_type": "execute_result"
        }
      ],
      "source": [
        "6 6 6 \u22a5 2 5 3"
      ]
    },
    {
      "cell_type": "markdown",
      "id": "advisory-schedule",
      "metadata": {},
      "source": [
        "The first item of the base is not relevant when decoding, so we could have used any other element:"
      ]
    },
    {
      "cell_type": "code",
      "execution_count": 53,
      "id": "searching-neighborhood",
      "metadata": {},
      "outputs": [
        {
          "data": {
            "text/html": [
              "<span style=\"white-space:pre; font-family: monospace\">105\n",
              "</span>"
            ]
          },
          "execution_count": 53,
          "metadata": {},
          "output_type": "execute_result"
        }
      ],
      "source": [
        "999 6 6 \u22a5 2 5 3"
      ]
    },
    {
      "cell_type": "code",
      "execution_count": 54,
      "id": "bibliographic-demonstration",
      "metadata": {},
      "outputs": [
        {
          "data": {
            "text/html": [
              "<span style=\"white-space:pre; font-family: monospace\">105\n",
              "</span>"
            ]
          },
          "execution_count": 54,
          "metadata": {},
          "output_type": "execute_result"
        }
      ],
      "source": [
        "0 6 6 \u22a5 2 5 3"
      ]
    },
    {
      "cell_type": "markdown",
      "id": "young-burning",
      "metadata": {},
      "source": [
        "However, in this very special case, our base is uniform (`6 6 6`), which lets us write the last expression in a simpler way.\n",
        "As usual, the scalar value is reused as appropriate:"
      ]
    },
    {
      "cell_type": "code",
      "execution_count": 55,
      "id": "empty-november",
      "metadata": {},
      "outputs": [
        {
          "data": {
            "text/html": [
              "<span style=\"white-space:pre; font-family: monospace\">105\n",
              "</span>"
            ]
          },
          "execution_count": 55,
          "metadata": {},
          "output_type": "execute_result"
        }
      ],
      "source": [
        "6 \u22a5 2 5 3"
      ]
    },
    {
      "cell_type": "markdown",
      "id": "fuzzy-liberty",
      "metadata": {},
      "source": [
        "This says that `2 5 3` is the base 6 representation of 105."
      ]
    },
    {
      "cell_type": "markdown",
      "id": "republican-working",
      "metadata": {},
      "source": [
        "(Mathematical-Functions-Shape-Compatibility)=\n",
        "#### Shape Compatibility\n",
        "\n",
        "We said that _decode_ is nothing but a plain _inner product_, so the same shape compatibility rules must be satisfied.\n",
        "\n",
        "Imagine that we have to convert two durations given in hours, minutes, and seconds, into just seconds.\n",
        "The first duration is 2 hours, 27 minutes, and 19 seconds, and the second one is 5 hours, 3 minutes, and 48 seconds.\n",
        "When we put those durations into a single variable, it is natural to express the data as a matrix, as shown here:"
      ]
    },
    {
      "cell_type": "code",
      "execution_count": 56,
      "id": "bridal-devon",
      "metadata": {},
      "outputs": [
        {
          "data": {
            "text/html": [
              "<span style=\"white-space:pre; font-family: monospace\">2 27 19\n",
              "5  3 48\n",
              "</span>"
            ]
          },
          "execution_count": 56,
          "metadata": {},
          "output_type": "execute_result"
        }
      ],
      "source": [
        "\u2395\u2190 hms \u2190 2 3\u23742 27 19 5 3 48"
      ]
    },
    {
      "cell_type": "markdown",
      "id": "shaped-crime",
      "metadata": {},
      "source": [
        "But we cannot combine a 3-item vector (`base \u2190 24 60 60`) with a 2-row matrix (`hms`).\n",
        "`base \u22a5 hms` would cause a `LENGTH ERROR`.\n",
        "We must transpose `hms` in order to make the lengths of the arguments compatible:"
      ]
    },
    {
      "cell_type": "code",
      "execution_count": 57,
      "id": "laughing-substance",
      "metadata": {},
      "outputs": [
        {
          "data": {
            "text/html": [
              "<span style=\"white-space:pre; font-family: monospace\">8839 18228\n",
              "</span>"
            ]
          },
          "execution_count": 57,
          "metadata": {},
          "output_type": "execute_result"
        }
      ],
      "source": [
        "base \u22a5 \u2349hms"
      ]
    },
    {
      "cell_type": "markdown",
      "id": "higher-indie",
      "metadata": {},
      "source": [
        "The length of `base` is equal to the length of the first dimension of `\u2349hms`.\n",
        "The same rule applies to _inner product_."
      ]
    },
    {
      "cell_type": "markdown",
      "id": "several-trust",
      "metadata": {},
      "source": [
        "(Mathematical-Functions-Encode)=\n",
        "#### Encode\n",
        "\n",
        "As an example of encoding a decimal number, we can encode 105 into base 6:"
      ]
    },
    {
      "cell_type": "code",
      "execution_count": 58,
      "id": "modular-yeast",
      "metadata": {},
      "outputs": [
        {
          "data": {
            "text/html": [
              "<span style=\"white-space:pre; font-family: monospace\">2 5 3\n",
              "</span>"
            ]
          },
          "execution_count": 58,
          "metadata": {},
          "output_type": "execute_result"
        }
      ],
      "source": [
        "6 6 6 \u22a4 105"
      ]
    },
    {
      "cell_type": "markdown",
      "id": "incredible-trading",
      "metadata": {},
      "source": [
        "Please note that specifying a scalar as the left argument in the expression above does not give the same result:"
      ]
    },
    {
      "cell_type": "code",
      "execution_count": 59,
      "id": "distributed-hayes",
      "metadata": {},
      "outputs": [
        {
          "data": {
            "text/html": [
              "<span style=\"white-space:pre; font-family: monospace\">3\n",
              "</span>"
            ]
          },
          "execution_count": 59,
          "metadata": {},
          "output_type": "execute_result"
        }
      ],
      "source": [
        "6 \u22a4 105"
      ]
    },
    {
      "cell_type": "markdown",
      "id": "prostate-audio",
      "metadata": {},
      "source": [
        "The reason is that it is not really possible for APL to \"reuse the scalar as appropriate\" here, because what does \"appropriate\" mean in this case?\n",
        "The left argument to _encode_ defines the number of digits in the new number system, so if we want or need three digits, we must specify three `6`s.\n",
        "(In {numref}`Operators-The-Result-of-an-Inverse-Function` you find an example showing a clever way to have APL itself figure out the number of digits needed to properly encode a number.)\n",
        "\n",
        "We can convert a number of seconds into hours, minutes, and seconds, like this:"
      ]
    },
    {
      "cell_type": "code",
      "execution_count": 60,
      "id": "hungarian-seminar",
      "metadata": {},
      "outputs": [
        {
          "data": {
            "text/html": [
              "<span style=\"white-space:pre; font-family: monospace\">6 30 56\n",
              "</span>"
            ]
          },
          "execution_count": 60,
          "metadata": {},
          "output_type": "execute_result"
        }
      ],
      "source": [
        "24 60 60 \u22a4 23456"
      ]
    },
    {
      "cell_type": "markdown",
      "id": "crucial-halloween",
      "metadata": {},
      "source": [
        "However, when converting 3 values, the results must be read carefully:"
      ]
    },
    {
      "cell_type": "code",
      "execution_count": 61,
      "id": "stone-dealer",
      "metadata": {},
      "outputs": [
        {
          "data": {
            "text/html": [
              "<span style=\"white-space:pre; font-family: monospace\"> 2  6  5\n",
              "27 30  3\n",
              "19 56 48\n",
              "</span>"
            ]
          },
          "execution_count": 61,
          "metadata": {},
          "output_type": "execute_result"
        }
      ],
      "source": [
        "24 60 60 \u22a4 8839 23456 18228"
      ]
    },
    {
      "cell_type": "markdown",
      "id": "optimum-small",
      "metadata": {},
      "source": [
        "Do not read these results horizontally: 8839 seconds are **not** equal to 2 hours, 5 minutes, and 2 seconds!\n",
        "You must read the result vertically, and you will recognise the results we got earlier: `2 27 19`, `6 30 56`, and `5 3 48`."
      ]
    },
    {
      "cell_type": "markdown",
      "id": "floppy-niger",
      "metadata": {},
      "source": [
        "(Mathematical-Functions-Limited-Encoding)=\n",
        "#### Limited Encoding\n",
        "\n",
        "The shape of the result of `bases \u22a4 values` is equal to `bases ,\u2365\u2374 values`.\n",
        "\n",
        "No specific rule is imposed on the arguments' shapes, but if the last dimension of the base is too small, APL proceeds to a limited encoding, as shown below:"
      ]
    },
    {
      "cell_type": "code",
      "execution_count": 62,
      "id": "caring-disco",
      "metadata": {},
      "outputs": [
        {
          "data": {
            "text/html": [
              "<span style=\"white-space:pre; font-family: monospace\">2 27 19\n",
              "</span>"
            ]
          },
          "execution_count": 62,
          "metadata": {},
          "output_type": "execute_result"
        }
      ],
      "source": [
        "24 60 60 \u22a4 8839  \u235d full conversion"
      ]
    },
    {
      "cell_type": "code",
      "execution_count": 63,
      "id": "liked-usage",
      "metadata": {},
      "outputs": [
        {
          "data": {
            "text/html": [
              "<span style=\"white-space:pre; font-family: monospace\">27 19\n",
              "</span>"
            ]
          },
          "execution_count": 63,
          "metadata": {},
          "output_type": "execute_result"
        }
      ],
      "source": [
        "60 60 \u22a4 8839  \u235d truncated result"
      ]
    },
    {
      "cell_type": "code",
      "execution_count": 64,
      "id": "armed-seventh",
      "metadata": {},
      "outputs": [
        {
          "data": {
            "text/html": [
              "<span style=\"white-space:pre; font-family: monospace\">19\n",
              "</span>"
            ]
          },
          "execution_count": 64,
          "metadata": {},
          "output_type": "execute_result"
        }
      ],
      "source": [
        "60 \u22a4 8839  \u235d ditto"
      ]
    },
    {
      "cell_type": "markdown",
      "id": "plastic-sacramento",
      "metadata": {},
      "source": [
        "The last two results are truncated to the length of the specified base vector, but nothing indicates that they have been truncated.\n",
        "To avoid potential misinterpretation, it is common to use a leading zero as the first item of the base:"
      ]
    },
    {
      "cell_type": "code",
      "execution_count": 65,
      "id": "vocal-underwear",
      "metadata": {},
      "outputs": [
        {
          "data": {
            "text/html": [
              "<span style=\"white-space:pre; font-family: monospace\">1 10 17 36\n",
              "</span>"
            ]
          },
          "execution_count": 65,
          "metadata": {},
          "output_type": "execute_result"
        }
      ],
      "source": [
        "0 24 60 60 \u22a4 123456"
      ]
    },
    {
      "cell_type": "code",
      "execution_count": 66,
      "id": "quarterly-bishop",
      "metadata": {},
      "outputs": [
        {
          "data": {
            "text/html": [
              "<span style=\"white-space:pre; font-family: monospace\">34 17 36\n",
              "</span>"
            ]
          },
          "execution_count": 66,
          "metadata": {},
          "output_type": "execute_result"
        }
      ],
      "source": [
        "0 60 60 \u22a4 123456"
      ]
    },
    {
      "cell_type": "code",
      "execution_count": 67,
      "id": "confidential-irish",
      "metadata": {},
      "outputs": [
        {
          "data": {
            "text/html": [
              "<span style=\"white-space:pre; font-family: monospace\">2057 36\n",
              "</span>"
            ]
          },
          "execution_count": 67,
          "metadata": {},
          "output_type": "execute_result"
        }
      ],
      "source": [
        "0 60 \u22a4 123456"
      ]
    },
    {
      "cell_type": "code",
      "execution_count": 68,
      "id": "advised-playback",
      "metadata": {},
      "outputs": [
        {
          "data": {
            "text/html": [
              "<span style=\"white-space:pre; font-family: monospace\">123456\n",
              "</span>"
            ]
          },
          "execution_count": 68,
          "metadata": {},
          "output_type": "execute_result"
        }
      ],
      "source": [
        "0 \u22a4 123456"
      ]
    },
    {
      "cell_type": "markdown",
      "id": "aquatic-hughes",
      "metadata": {},
      "source": [
        "The first conversion states that 123456 seconds represent 1 day, 10 hours, 17 minutes, and 36 seconds.\n",
        "In the second conversion, limited to hours, 1 day plus 10 hours gave 34 hours.\n",
        "In the third conversion, limited to minutes, shows that 123456 seconds is 2057 minutes and 36 seconds."
      ]
    },
    {
      "cell_type": "markdown",
      "id": "radical-vegetable",
      "metadata": {},
      "source": [
        "(Mathematical-Functions-Using-Several-Simultaneous-Bases)=\n",
        "#### Using Several Simultaneous Bases\n",
        "\n",
        "If one needs to encode or decode several values in several different bases, _base_ will no longer be a vector, but a matrix.\n",
        "However, this is a bit more complex and will be studied in {numref}`Mathematical-Functions-the-Specialists-Section`."
      ]
    },
    {
      "cell_type": "markdown",
      "id": "universal-brooklyn",
      "metadata": {},
      "source": [
        "(Mathematical-Functions-Applications-of-Encoding-and-Decoding)=\n",
        "### Applications of Encoding and Decoding\n",
        "\n",
        "(Mathematical-Functions-Condense-or-Expand-Values)=\n",
        "#### Condense or Expand Values\n",
        "\n",
        "It is sometimes convenient to condense several values into a single one.\n",
        "In general, this does not save much memory space, but it may be more convenient to manipulate a single value rather than several.\n",
        "This can be achieved by decoding the values into a decimal number.\n",
        "\n",
        "Say, for example, that you have a list of 5 rarely used settings that you need to save in a relational database.\n",
        "Instead of creating 5 columns in the database table to hold the settings, you could _decode_ the 5 values into a decimal integer and save it in a single database column.\n",
        "\n",
        "Often, it is convenient to select a base made of powers of 10, corresponding to the maximum number of digits of the given values, for example:"
      ]
    },
    {
      "cell_type": "code",
      "execution_count": 69,
      "id": "theoretical-pontiac",
      "metadata": {},
      "outputs": [
        {
          "data": {
            "text/html": [
              "<span style=\"white-space:pre; font-family: monospace\">35681724\n",
              "</span>"
            ]
          },
          "execution_count": 69,
          "metadata": {},
          "output_type": "execute_result"
        }
      ],
      "source": [
        "100 1000 10 100 \u22a5 35 681 7 24"
      ]
    },
    {
      "cell_type": "markdown",
      "id": "composed-federal",
      "metadata": {},
      "source": [
        "The single value `35681724` contains the same information as the original vector, and because all base values used are powers of 10, it is fairly easy to recognise the original numbers.\n",
        "\n",
        "The conversion base was built like this:\n",
        "\n",
        " - 100 for 35 which has 2 digits;\n",
        " - 1000 for 681 which has 3 digits;\n",
        " - 10 for 7 which has only 1 digit; and\n",
        " - 100 for 24 which has 2 digits.\n",
        "\n",
        "Of course, the base vector must be built according to the largest values that can appear in each of the items, not just from an arbitrary number as in our small example.\n",
        "\n",
        "The reverse transformation may be done by encoding the value using the same base:"
      ]
    },
    {
      "cell_type": "code",
      "execution_count": 70,
      "id": "geographic-replication",
      "metadata": {},
      "outputs": [
        {
          "data": {
            "text/html": [
              "<span style=\"white-space:pre; font-family: monospace\">35 681 7 24\n",
              "</span>"
            ]
          },
          "execution_count": 70,
          "metadata": {},
          "output_type": "execute_result"
        }
      ],
      "source": [
        "100 1000 10 100 \u22a4 35681724"
      ]
    },
    {
      "cell_type": "markdown",
      "id": "comprehensive-guidance",
      "metadata": {},
      "source": [
        "A similar technique may be used to separate the integer and decimal parts of positive numbers:"
      ]
    },
    {
      "cell_type": "code",
      "execution_count": 71,
      "id": "sapphire-trader",
      "metadata": {},
      "outputs": [
        {
          "data": {
            "text/html": [
              "<span style=\"white-space:pre; font-family: monospace\">127    619    423    19\n",
              "  0.83   0.26   0.44  0.962\n",
              "</span>"
            ]
          },
          "execution_count": 71,
          "metadata": {},
          "output_type": "execute_result"
        }
      ],
      "source": [
        "0 1\u22a4127.83 619.26 423.44 19.962"
      ]
    },
    {
      "cell_type": "markdown",
      "id": "refined-chance",
      "metadata": {},
      "source": [
        "(Mathematical-Functions-Calculating-Polynomials)=\n",
        "#### Calculating Polynomials\n",
        "\n",
        "Let us recall the example about packing eggs:"
      ]
    },
    {
      "cell_type": "code",
      "execution_count": 72,
      "id": "incorporate-rider",
      "metadata": {},
      "outputs": [
        {
          "data": {
            "text/html": [
              "<span style=\"white-space:pre; font-family: monospace\">105\n",
              "</span>"
            ]
          },
          "execution_count": 72,
          "metadata": {},
          "output_type": "execute_result"
        }
      ],
      "source": [
        "6\u22a52 5 3"
      ]
    },
    {
      "cell_type": "markdown",
      "id": "suitable-polls",
      "metadata": {},
      "source": [
        "We can say that we used _decode_ to calculate `(2\u00d76*2) + (5\u00d76) + 3`.\n",
        "In other words, using traditional math notation, we calculated $2x^2 + 5x + 3$ for $x = 6$.\n",
        "This example shows that _decode_ can be used to calculate a polynomial represented by the coefficients of the unknown variable, sorted according to the decreasing powers of the variable.\n",
        "\n",
        "For example, to calculate $3x^4 + 2x^2 - 7x + 2$ for $x = 1.2$, we can write"
      ]
    },
    {
      "cell_type": "code",
      "execution_count": 73,
      "id": "distributed-bullet",
      "metadata": {},
      "outputs": [
        {
          "data": {
            "text/html": [
              "<span style=\"white-space:pre; font-family: monospace\">2.7008\n",
              "</span>"
            ]
          },
          "execution_count": 73,
          "metadata": {},
          "output_type": "execute_result"
        }
      ],
      "source": [
        "1.2 \u22a5 3 0 2 \u00af7 2"
      ]
    },
    {
      "cell_type": "markdown",
      "id": "electrical-stationery",
      "metadata": {},
      "source": [
        "Do not forget zero coefficients for the missing powers of $x$ (here, we have no term in $x^3$).\n",
        "\n",
        "This is equivalent to"
      ]
    },
    {
      "cell_type": "code",
      "execution_count": 74,
      "id": "competent-heater",
      "metadata": {},
      "outputs": [
        {
          "data": {
            "text/html": [
              "<span style=\"white-space:pre; font-family: monospace\">2.7008\n",
              "</span>"
            ]
          },
          "execution_count": 74,
          "metadata": {},
          "output_type": "execute_result"
        }
      ],
      "source": [
        "(1.2 * 4 3 2 1 0) +.\u00d7 3 0 2 \u00af7 2"
      ]
    },
    {
      "cell_type": "markdown",
      "id": "basic-motorcycle",
      "metadata": {},
      "source": [
        "To calculate the value of a polynomial for several values of $x$, the values must be placed in a vertical 1-column matrix, to be compliant with the shape compatibility rules.\n",
        "For example, to calculate the same polynomial for $x$ varying from 0 to 2 by steps of 0.2, we could write:"
      ]
    },
    {
      "cell_type": "code",
      "execution_count": 75,
      "id": "secret-quarter",
      "metadata": {},
      "outputs": [
        {
          "data": {
            "text/html": [
              "<span style=\"white-space:pre; font-family: monospace\">0 0.2 0.4 0.6 0.8 1 1.2 1.4 1.6 1.8 2\n",
              "</span>"
            ]
          },
          "execution_count": 75,
          "metadata": {},
          "output_type": "execute_result"
        }
      ],
      "source": [
        "\u2395\u2190 xs \u2190 0.2 \u00d7 \u00af1+\u237311"
      ]
    },
    {
      "cell_type": "code",
      "execution_count": 76,
      "id": "characteristic-anderson",
      "metadata": {},
      "outputs": [
        {
          "data": {
            "text/html": [
              "<span style=\"white-space:pre; font-family: monospace\"> 2.00 0.68 \u00af0.40 \u00af1.09 \u00af1.09 0.00 2.70 7.64 15.58 27.37 44.00\n",
              "</span>"
            ]
          },
          "execution_count": 76,
          "metadata": {},
          "output_type": "execute_result"
        }
      ],
      "source": [
        "2\u2355 (\u236axs) \u22a5 3 0 2 \u00af7 2"
      ]
    },
    {
      "cell_type": "markdown",
      "id": "applied-mission",
      "metadata": {},
      "source": [
        "The results have been displayed with only 2 decimal digits using an appropriate _format_.\n",
        "\n",
        "Finally, let us calculate $4x^4 + 2x^3 + 3x^2 - x - 6$ for $x = -1.5$:"
      ]
    },
    {
      "cell_type": "code",
      "execution_count": 77,
      "id": "located-optics",
      "metadata": {},
      "outputs": [
        {
          "data": {
            "text/html": [
              "<span style=\"white-space:pre; font-family: monospace\">15.75\n",
              "</span>"
            ]
          },
          "execution_count": 77,
          "metadata": {},
          "output_type": "execute_result"
        }
      ],
      "source": [
        "\u00af1.5 \u22a5 4 2 3 \u00af1 \u00af6"
      ]
    },
    {
      "cell_type": "markdown",
      "id": "serious-hudson",
      "metadata": {},
      "source": [
        "Notice how we used a negative base.\n",
        "That may seem strange, but there is nothing mathematically wrong with it."
      ]
    },
    {
      "cell_type": "markdown",
      "id": "possible-jefferson",
      "metadata": {},
      "source": [
        "(Mathematical-Functions-Right-aligning-Text)=\n",
        "#### Right-aligning Text\n",
        "\n",
        "We mentioned that _decode_ could be replaced by an _inner product_ using the following equivalence: `base \u22a5 values \u2190\u2192 weights +.\u00d7 values`, if `weights \u2190 \u233d1,\u00d7\\\u233d1\u2193base`.\n",
        "\n",
        "What happens if the vector `base` contains one or more zeroes?"
      ]
    },
    {
      "cell_type": "code",
      "execution_count": 78,
      "id": "decimal-arbitration",
      "metadata": {},
      "outputs": [
        {
          "data": {
            "text/html": [
              "<span style=\"white-space:pre; font-family: monospace\">2400 300 60 20 2 1\n",
              "</span>"
            ]
          },
          "execution_count": 78,
          "metadata": {},
          "output_type": "execute_result"
        }
      ],
      "source": [
        "\u233d1,\u00d7\\\u233d1\u219310 8 5 3 10 2  \u235d base has no zeroes"
      ]
    },
    {
      "cell_type": "code",
      "execution_count": 79,
      "id": "pointed-nancy",
      "metadata": {},
      "outputs": [
        {
          "data": {
            "text/html": [
              "<span style=\"white-space:pre; font-family: monospace\">0 0 60 20 2 1\n",
              "</span>"
            ]
          },
          "execution_count": 79,
          "metadata": {},
          "output_type": "execute_result"
        }
      ],
      "source": [
        "\u233d1,\u00d7\\\u233d1\u219310 8 0 3 10 2  \u235d base has a zero"
      ]
    },
    {
      "cell_type": "markdown",
      "id": "developmental-complex",
      "metadata": {},
      "source": [
        "We can see that the weights to the left of a zero are all forced to become zero.\n",
        "In other words, `10 8 0 3 10 2 \u22a5 values` is strictly identical to `0 0 0 3 10 2 \u22a5 values`.\n",
        "\n",
        "Let us use this discovery to right-align some text containing blanks:"
      ]
    },
    {
      "cell_type": "code",
      "execution_count": 80,
      "id": "strange-skiing",
      "metadata": {},
      "outputs": [
        {
          "data": {
            "text/html": [
              "<span style=\"white-space:pre; font-family: monospace\">This little       \n",
              "text contains both\n",
              "embedded and      \n",
              "trailing blanks   \n",
              "</span>"
            ]
          },
          "execution_count": 80,
          "metadata": {},
          "output_type": "execute_result"
        }
      ],
      "source": [
        "\u2395\u2190 text \u2190 \u2191'This little' 'text contains both' 'embedded and' 'trailing blanks'"
      ]
    },
    {
      "cell_type": "code",
      "execution_count": 81,
      "id": "durable-compensation",
      "metadata": {},
      "outputs": [
        {
          "data": {
            "text/html": [
              "<span style=\"white-space:pre; font-family: monospace\">0 0 0 0 1 0 0 0 0 0 0 1 1 1 1 1 1 1\n",
              "0 0 0 0 1 0 0 0 0 0 0 0 0 1 0 0 0 0\n",
              "0 0 0 0 0 0 0 0 1 0 0 0 1 1 1 1 1 1\n",
              "0 0 0 0 0 0 0 0 1 0 0 0 0 0 0 1 1 1\n",
              "</span>"
            ]
          },
          "execution_count": 81,
          "metadata": {},
          "output_type": "execute_result"
        }
      ],
      "source": [
        "text=' '"
      ]
    },
    {
      "cell_type": "markdown",
      "id": "current-arlington",
      "metadata": {},
      "source": [
        "If we use the rows of this Boolean matrix as decoding bases, the result above states that the ones placed to the left of a zero will not have any effect.\n",
        "This means that the expression"
      ]
    },
    {
      "cell_type": "code",
      "execution_count": 82,
      "id": "prostate-point",
      "metadata": {},
      "outputs": [
        {
          "data": {
            "text/html": [
              "<span style=\"white-space:pre; font-family: monospace\">7 0 6 3\n",
              "</span>"
            ]
          },
          "execution_count": 82,
          "metadata": {},
          "output_type": "execute_result"
        }
      ],
      "source": [
        "\u00af1 + 1\u22a5\u2368text=' '"
      ]
    },
    {
      "cell_type": "markdown",
      "id": "satisfied-shopping",
      "metadata": {},
      "source": [
        "counts the number of trailing `1`s in each row.\n",
        "Thus, we can use those numbers to rotate right each row:"
      ]
    },
    {
      "cell_type": "code",
      "execution_count": 83,
      "id": "embedded-literature",
      "metadata": {},
      "outputs": [
        {
          "data": {
            "text/html": [
              "<span style=\"white-space:pre; font-family: monospace\">       This little\n",
              "text contains both\n",
              "      embedded and\n",
              "   trailing blanks\n",
              "</span>"
            ]
          },
          "execution_count": 83,
          "metadata": {},
          "output_type": "execute_result"
        }
      ],
      "source": [
        "text\u233d\u23681-1\u22a5\u2368text=' '"
      ]
    },
    {
      "cell_type": "markdown",
      "id": "extensive-bruce",
      "metadata": {},
      "source": [
        "Another example uses the same property of _decode_: given a Boolean vector `bin`, one can find how many `1`s there are to the right of the last zero using the expression `bin\u22a5bin`:"
      ]
    },
    {
      "cell_type": "code",
      "execution_count": 84,
      "id": "crude-nashville",
      "metadata": {},
      "outputs": [
        {
          "data": {
            "text/html": [
              "<span style=\"white-space:pre; font-family: monospace\">3\n",
              "</span>"
            ]
          },
          "execution_count": 84,
          "metadata": {},
          "output_type": "execute_result"
        }
      ],
      "source": [
        "bin \u2190 0 1 1 0 1 1 1  \u235d 3 trailing ones\n",
        "bin\u22a5bin"
      ]
    },
    {
      "cell_type": "markdown",
      "id": "russian-dispatch",
      "metadata": {},
      "source": [
        "(Mathematical-Functions-Randomised-Values)=\n",
        "## Randomised Values\n",
        "\n",
        "**Random numbers** are often used for demonstration purposes or to test an algorithm.\n",
        "Strictly speaking, \"random\" would mean that a set of values is completely unpredictable.\n",
        "This is not the case for numbers generated by a computer: they are, by definition, perfectly deterministic.\n",
        "\n",
        "However, the values produced by an algorithm may appear to a human being as if they were random values when, given a subset of those numbers, the human is unable to predict the next values in the sequence.\n",
        "If this first condition is satisfied, and if all of the unique values in a long series appear approximately the same number of times, these values can be qualified as _pseudo-random_ numbers.\n",
        "\n",
        "In APL, the question mark `?` is used to produce pseudo-random numbers."
      ]
    },
    {
      "cell_type": "markdown",
      "id": "enclosed-slovak",
      "metadata": {},
      "source": [
        "(Mathematical-Functions-Deal-Dyadic-Usage)=\n",
        "### Deal: Dyadic Usage\n",
        "\n",
        "The dyadic usage of the question mark is called _deal_.\n",
        "The expression `number ? limit` produces as many unique pseudo-random integers as specified by `number`, all among `\u2373limit`.\n",
        "For this reason, we must have `number\u2264limit`.\n",
        "\n",
        "The name of the function _deal_ relates to dealing cards.\n",
        "When you are dealt a hand of cards from a deck, the cards that you get are arbitrary and you cannot be given the same card twice.\n",
        "You may get cards with the same value or with the same suit, but you **cannot** get the exact same card twice.\n",
        "\n",
        "Some examples follow.\n",
        "First, we deal a hand of 7 numbers out of 52:"
      ]
    },
    {
      "cell_type": "code",
      "execution_count": 85,
      "id": "historical-people",
      "metadata": {},
      "outputs": [
        {
          "data": {
            "text/html": [
              "<span style=\"white-space:pre; font-family: monospace\">36 35 20 49 44 5 51\n",
              "</span>"
            ]
          },
          "execution_count": 85,
          "metadata": {},
          "output_type": "execute_result"
        }
      ],
      "source": [
        "7?52"
      ]
    },
    {
      "cell_type": "markdown",
      "id": "communist-extra",
      "metadata": {},
      "source": [
        "If we execute the same expression again, we get a different set of values:"
      ]
    },
    {
      "cell_type": "code",
      "execution_count": 86,
      "id": "iraqi-exhaust",
      "metadata": {},
      "outputs": [
        {
          "data": {
            "text/html": [
              "<span style=\"white-space:pre; font-family: monospace\">50 26 10 40 4 34 2\n",
              "</span>"
            ]
          },
          "execution_count": 86,
          "metadata": {},
          "output_type": "execute_result"
        }
      ],
      "source": [
        "7?52"
      ]
    },
    {
      "cell_type": "markdown",
      "id": "diverse-estate",
      "metadata": {},
      "source": [
        "If `number=limit`, we get a permutation of `\u2373limit`:"
      ]
    },
    {
      "cell_type": "code",
      "execution_count": 87,
      "id": "sustained-religion",
      "metadata": {},
      "outputs": [
        {
          "data": {
            "text/html": [
              "<span style=\"white-space:pre; font-family: monospace\">6 9 12 4 10 7 1 2 5 8 11 3\n",
              "</span>"
            ]
          },
          "execution_count": 87,
          "metadata": {},
          "output_type": "execute_result"
        }
      ],
      "source": [
        "12?12"
      ]
    },
    {
      "cell_type": "markdown",
      "id": "unable-medicine",
      "metadata": {},
      "source": [
        "And as we mentioned before, we cannot have `number>limit`:"
      ]
    },
    {
      "cell_type": "code",
      "execution_count": 88,
      "id": "proof-still",
      "metadata": {},
      "outputs": [
        {
          "name": "stderr",
          "output_type": "stream",
          "text": [
            "DOMAIN ERROR: Deal right argument must be greater than or equal to the left argument\n",
            "      13?12\n",
            "        \u2227\n"
          ]
        }
      ],
      "source": [
        "13?12"
      ]
    },
    {
      "cell_type": "markdown",
      "id": "ignored-vacation",
      "metadata": {},
      "source": [
        "(Mathematical-Functions-Roll-Monadic-Use)=\n",
        "### Roll: Monadic Use\n",
        "\n",
        "The monadic use of the question mark is called _roll_.\n",
        "The name relates to rolling a die."
      ]
    },
    {
      "cell_type": "markdown",
      "id": "rising-maine",
      "metadata": {},
      "source": [
        "(Mathematical-Functions-Positive-Integer-Arrays-as-Argument)=\n",
        "#### Positive Integer Arrays as Argument\n",
        "\n",
        "In the expression `?array`, where `array` is any array of positive integer values, each item `a` of `array` produces a pseudo-random value from `\u2373a`, so that the result is an array of the same shape as `array`.\n",
        "Each item of the result is calculated independently of the other items.\n",
        "\n",
        "Here are some examples:"
      ]
    },
    {
      "cell_type": "code",
      "execution_count": 89,
      "id": "accessible-experience",
      "metadata": {},
      "outputs": [
        {
          "data": {
            "text/html": [
              "<span style=\"white-space:pre; font-family: monospace\">1 2 3 4\n",
              "</span>"
            ]
          },
          "execution_count": 89,
          "metadata": {},
          "output_type": "execute_result"
        }
      ],
      "source": [
        "?1 2 3 4"
      ]
    },
    {
      "cell_type": "code",
      "execution_count": 90,
      "id": "oriental-quarterly",
      "metadata": {},
      "outputs": [
        {
          "data": {
            "text/html": [
              "<span style=\"white-space:pre; font-family: monospace\">6 2 6 2\n",
              "</span>"
            ]
          },
          "execution_count": 90,
          "metadata": {},
          "output_type": "execute_result"
        }
      ],
      "source": [
        "?10 20 30 40"
      ]
    },
    {
      "cell_type": "code",
      "execution_count": 91,
      "id": "independent-airplane",
      "metadata": {},
      "outputs": [
        {
          "name": "stderr",
          "output_type": "stream",
          "text": [
            "VALUE ERROR: Undefined name: mat\n",
            "      mat\n",
            "      \u2227\n"
          ]
        }
      ],
      "source": [
        "mat"
      ]
    },
    {
      "cell_type": "code",
      "execution_count": 92,
      "id": "joined-marina",
      "metadata": {},
      "outputs": [
        {
          "name": "stderr",
          "output_type": "stream",
          "text": [
            "VALUE ERROR: Undefined name: mat\n",
            "      ?mat\n",
            "       \u2227\n"
          ]
        }
      ],
      "source": [
        "?mat"
      ]
    },
    {
      "cell_type": "markdown",
      "id": "parliamentary-words",
      "metadata": {},
      "source": [
        "If the argument of _roll_ is made of a repeated single value `v`, the result is an array made of values all taken from `\u2373v`.\n",
        "This makes it possible to produce any number of values within the same limits.\n",
        "\n",
        "For example, we can simulate rolling a die 10 times:"
      ]
    },
    {
      "cell_type": "code",
      "execution_count": 93,
      "id": "typical-capital",
      "metadata": {},
      "outputs": [
        {
          "data": {
            "text/html": [
              "<span style=\"white-space:pre; font-family: monospace\">6 6 6 3 4 6 2 3 5 6\n",
              "</span>"
            ]
          },
          "execution_count": 93,
          "metadata": {},
          "output_type": "execute_result"
        }
      ],
      "source": [
        "?10\u23746"
      ]
    },
    {
      "cell_type": "markdown",
      "id": "specific-preference",
      "metadata": {},
      "source": [
        "As another example, we can fill a matrix with the number `20`.\n",
        "Then, for each of those numbers, we generate a pseudo-random number in `\u237320`:"
      ]
    },
    {
      "cell_type": "code",
      "execution_count": 94,
      "id": "indie-bishop",
      "metadata": {},
      "outputs": [
        {
          "data": {
            "text/html": [
              "<span style=\"white-space:pre; font-family: monospace\">15 10 1 14 16  6 11  4\n",
              " 1 19 5  8 12 19  2 17\n",
              " 1 15 8  3  5  7  8 11\n",
              "12 19 2 12 17 19 14 20\n",
              "</span>"
            ]
          },
          "execution_count": 94,
          "metadata": {},
          "output_type": "execute_result"
        }
      ],
      "source": [
        "?4 8\u237420"
      ]
    },
    {
      "cell_type": "markdown",
      "id": "accepting-providence",
      "metadata": {},
      "source": [
        "(Mathematical-Functions-0-as-Argument)=\n",
        "#### 0 as Argument\n",
        "\n",
        "The function _deal_ can also handle `0` as an argument (either as a scalar, or as element(s) of the argument array).\n",
        "When presented with a zero, the function _deal_ will generate a pseudo-random decimal number strictly between 0 and 1:"
      ]
    },
    {
      "cell_type": "code",
      "execution_count": 95,
      "id": "faced-document",
      "metadata": {},
      "outputs": [
        {
          "data": {
            "text/html": [
              "<span style=\"white-space:pre; font-family: monospace\">0.355175\n",
              "</span>"
            ]
          },
          "execution_count": 95,
          "metadata": {},
          "output_type": "execute_result"
        }
      ],
      "source": [
        "?0"
      ]
    },
    {
      "cell_type": "code",
      "execution_count": 96,
      "id": "liberal-seating",
      "metadata": {},
      "outputs": [
        {
          "data": {
            "text/html": [
              "<span style=\"white-space:pre; font-family: monospace\">0.978111\n",
              "</span>"
            ]
          },
          "execution_count": 96,
          "metadata": {},
          "output_type": "execute_result"
        }
      ],
      "source": [
        "?0"
      ]
    },
    {
      "cell_type": "code",
      "execution_count": 97,
      "id": "outer-southwest",
      "metadata": {},
      "outputs": [
        {
          "data": {
            "text/html": [
              "<span style=\"white-space:pre; font-family: monospace\">0.749925\n",
              "</span>"
            ]
          },
          "execution_count": 97,
          "metadata": {},
          "output_type": "execute_result"
        }
      ],
      "source": [
        "?0"
      ]
    },
    {
      "cell_type": "code",
      "execution_count": 98,
      "id": "smooth-perfume",
      "metadata": {},
      "outputs": [
        {
          "data": {
            "text/html": [
              "<span style=\"white-space:pre; font-family: monospace\">5 5 0.562462 0.548926 3 3\n",
              "</span>"
            ]
          },
          "execution_count": 98,
          "metadata": {},
          "output_type": "execute_result"
        }
      ],
      "source": [
        "?6 6 0 0 3 3"
      ]
    },
    {
      "cell_type": "markdown",
      "id": "medical-slope",
      "metadata": {},
      "source": [
        "(Mathematical-Functions-Derived-Usages)=\n",
        "### Derived Usages\n",
        "\n",
        "(Mathematical-Functions-Random-Number-Within-an-Arbitrary-Range)=\n",
        "#### Random Number Within an Arbitrary Range\n",
        "\n",
        "We have seen that the values produced by _deal_ and _roll_ are always integer values extracted from `\u2373v`, where `v` is a given limit.\n",
        "However, it is possible to obtain a set of integers or decimal values between any limits, just by adding a constant and dividing by some appropriate value.\n",
        "\n",
        "Imagine that we would like to obtain 10 decimal values, with 2 decimal digits, all between 743 and 761, inclusive.\n",
        "We could follow these steps:\n",
        "\n",
        " - Let us first calculate integer values starting from 1:"
      ]
    },
    {
      "cell_type": "code",
      "execution_count": 99,
      "id": "stylish-latitude",
      "metadata": {},
      "outputs": [
        {
          "data": {
            "text/html": [
              "<span style=\"white-space:pre; font-family: monospace\">1494 514 1104 336 1586 444 1088 775 1459 1458\n",
              "</span>"
            ]
          },
          "execution_count": 99,
          "metadata": {},
          "output_type": "execute_result"
        }
      ],
      "source": [
        "lims \u2190 743 761\n",
        "\u2395\u2190 set \u2190 ? 10\u23741 + 100\u00d7-\u2368/lims"
      ]
    },
    {
      "cell_type": "markdown",
      "id": "vocal-directory",
      "metadata": {},
      "source": [
        " - The values generated above are between 1 and 1801.\n",
        " - If we add `\u00af1+100\u00d7743` we obtain values between 74300 and 76100:"
      ]
    },
    {
      "cell_type": "code",
      "execution_count": 100,
      "id": "nuclear-crisis",
      "metadata": {},
      "outputs": [
        {
          "data": {
            "text/html": [
              "<span style=\"white-space:pre; font-family: monospace\">75793 74813 75403 74635 75885 74743 75387 75074 75758 75757\n",
              "</span>"
            ]
          },
          "execution_count": 100,
          "metadata": {},
          "output_type": "execute_result"
        }
      ],
      "source": [
        "set +\u2190 \u00af1+100\u00d7\u230a/lims\n",
        "\u2395\u2190 set"
      ]
    },
    {
      "cell_type": "markdown",
      "id": "corresponding-invitation",
      "metadata": {},
      "source": [
        " - Once divided by 100, they give decimal values with two decimal places between 743 and 761, inclusive:"
      ]
    },
    {
      "cell_type": "code",
      "execution_count": 101,
      "id": "hindu-firmware",
      "metadata": {},
      "outputs": [
        {
          "data": {
            "text/html": [
              "<span style=\"white-space:pre; font-family: monospace\">757.93 748.13 754.03 746.35 758.85 747.43 753.87 750.74 757.58 757.57\n",
              "</span>"
            ]
          },
          "execution_count": 101,
          "metadata": {},
          "output_type": "execute_result"
        }
      ],
      "source": [
        "set \u00f7\u2190 100\n",
        "set"
      ]
    },
    {
      "cell_type": "markdown",
      "id": "pacific-birthday",
      "metadata": {},
      "source": [
        "We can check if the limits are well respected:"
      ]
    },
    {
      "cell_type": "code",
      "execution_count": 102,
      "id": "aggressive-charger",
      "metadata": {},
      "outputs": [
        {
          "data": {
            "text/html": [
              "<span style=\"white-space:pre; font-family: monospace\">746.35 758.85\n",
              "</span>"
            ]
          },
          "execution_count": 102,
          "metadata": {},
          "output_type": "execute_result"
        }
      ],
      "source": [
        "(\u230a/,\u2308/) set"
      ]
    },
    {
      "cell_type": "markdown",
      "id": "nutritional-hepatitis",
      "metadata": {},
      "source": [
        "(Mathematical-Functions-Sets-of-Random-Characters)=\n",
        "#### Sets of Random Characters\n",
        "\n",
        "Random characters can be obtained by indexing a set of characters by a random set of integer values smaller than or equal to the size of the character vector, as shown here:"
      ]
    },
    {
      "cell_type": "code",
      "execution_count": 103,
      "id": "organic-snake",
      "metadata": {},
      "outputs": [
        {
          "data": {
            "text/html": [
              "<span style=\"white-space:pre; font-family: monospace\">CLOKIJUGZXBQPRW\n",
              "BINSCHZCQSEYYHF\n",
              "MMQLWFUMOBTKPJD\n",
              "</span>"
            ]
          },
          "execution_count": 103,
          "metadata": {},
          "output_type": "execute_result"
        }
      ],
      "source": [
        "\u2395A[?3 15\u2374\u2262\u2395A]"
      ]
    },
    {
      "cell_type": "markdown",
      "id": "hired-workshop",
      "metadata": {},
      "source": [
        "(Mathematical-Functions-Random-Link)=\n",
        "### Random Link\n",
        "\n",
        "The system variable `\u2395RL` has been used throughout this book when creating large(r) arrays with random values and this section will explain what `\u2395RL`, called _random link_, actually does.\n",
        "\n",
        "(Mathematical-Functions-Reproducibility-When-Generating-Random-Numbers)=\n",
        "#### Reproducibility When Generating Random Numbers\n",
        "\n",
        "The primitive functions _deal_ and _roll_ do not produce really random numbers.\n",
        "They produce pseudo-random numbers because there is actually an algorithm that runs to generate specific numbers, although the numbers generated by this algorithm \"look random\".\n",
        "\n",
        "The algorithm makes use of something called a _seed value_, that you set within _random link_, and each time a new (pseudo-random) value is generated, this seed value is changed so that the next value will be different.\n",
        "\n",
        "Sometimes, one might want to be able to recreate a random event later on.\n",
        "For example, when running an experiment or a simulation, you may want to generate some numbers that you did not specify explicitly, but you may need to generate the exact same numbers later.\n",
        "This is possible thanks to _random link_.\n",
        "\n",
        "To reproduce a given set of random values, one can dynamically set `\u2395RL` to any desired value, an integer in the range from 1 to 2147483646.\n",
        "\n",
        "For example, throughout the book we have used the function _roll_ to generate a 4 by 6 matrix we have called `forecast`.\n",
        "If we did not use _random link_, each time you opened the book, you would get a different matrix:"
      ]
    },
    {
      "cell_type": "code",
      "execution_count": 104,
      "id": "broad-provincial",
      "metadata": {},
      "outputs": [
        {
          "data": {
            "text/html": [
              "<span style=\"white-space:pre; font-family: monospace\">350  40  80 190 460 190\n",
              "250 380  50 410 180 150\n",
              "550  70 170 310 380 370\n",
              "520 390 470 300 540 250\n",
              "</span>"
            ]
          },
          "execution_count": 104,
          "metadata": {},
          "output_type": "execute_result"
        }
      ],
      "source": [
        "10\u00d7?4 6\u237455"
      ]
    },
    {
      "cell_type": "code",
      "execution_count": 105,
      "id": "perceived-forward",
      "metadata": {},
      "outputs": [
        {
          "data": {
            "text/html": [
              "<span style=\"white-space:pre; font-family: monospace\">360 120  50 370 510 380\n",
              "460 140 270 230 370 380\n",
              "550 550 450 180 160 520\n",
              "420 470  30 330 500 500\n",
              "</span>"
            ]
          },
          "execution_count": 105,
          "metadata": {},
          "output_type": "execute_result"
        }
      ],
      "source": [
        "10\u00d7?4 6\u237455"
      ]
    },
    {
      "cell_type": "code",
      "execution_count": 106,
      "id": "correct-double",
      "metadata": {},
      "outputs": [
        {
          "data": {
            "text/html": [
              "<span style=\"white-space:pre; font-family: monospace\">320 410 220  20 270 550\n",
              "270 220 350 500 360 310\n",
              "130  70 260 180 430 100\n",
              "450 250  40 540 350 310\n",
              "</span>"
            ]
          },
          "execution_count": 106,
          "metadata": {},
          "output_type": "execute_result"
        }
      ],
      "source": [
        "10\u00d7?4 6\u237455"
      ]
    },
    {
      "cell_type": "markdown",
      "id": "plain-hampton",
      "metadata": {},
      "source": [
        "To prevent this, before generating the matrix `forecast`, we set the _random link_ `\u2395RL` to a specific value, which has been `\u2395RL \u2190 73`."
      ]
    },
    {
      "cell_type": "code",
      "execution_count": 107,
      "id": "random-reform",
      "metadata": {},
      "outputs": [
        {
          "data": {
            "text/html": [
              "<span style=\"white-space:pre; font-family: monospace\"> 90 160 420 500  20  30\n",
              "110 450 170 370 290 360\n",
              "340 190 320 120 510 370\n",
              "150 460 240 520 490 280\n",
              "</span>"
            ]
          },
          "execution_count": 107,
          "metadata": {},
          "output_type": "execute_result"
        }
      ],
      "source": [
        "\u2395RL \u2190 73\n",
        "\u2395\u2190 forecast \u2190 10\u00d7?4 6\u237455"
      ]
    },
    {
      "cell_type": "markdown",
      "id": "solar-remains",
      "metadata": {},
      "source": [
        "It is not relevant that the seed was set to `73`.\n",
        "What is relevant is that the seed **was set to a fixed value**.\n",
        "\n",
        "Each time you start the APL interpreter or clear the session with `)clear`, APL will reset the _random link_ so you can get pseudo-random values out of the box.\n",
        "So, you only need to change the _random link_ when you know you will need reproducibility.\n",
        "\n",
        "If you have set the seed for some computations but need to go back to generating pseudo-random numbers over which you have no control, you can set the _random link_ to _zilde_:"
      ]
    },
    {
      "cell_type": "code",
      "execution_count": 108,
      "id": "every-window",
      "metadata": {},
      "outputs": [],
      "source": [
        "\u2395RL \u2190 \u236c"
      ]
    },
    {
      "cell_type": "markdown",
      "id": "northern-middle",
      "metadata": {},
      "source": [
        "(Mathematical-Functions-The-Algorithm)=\n",
        "#### The Algorithm\n",
        "\n",
        "APL uses one of three algorithm to generate pseudo-random numbers and you can check which one is being used by looking at the value of `\u2395RL`.\n",
        "`\u2395RL` is a 2-item vector, where the first item is the current seed and the second item is an integer between 0 and 2:"
      ]
    },
    {
      "cell_type": "code",
      "execution_count": 109,
      "id": "wrong-overview",
      "metadata": {},
      "outputs": [
        {
          "data": {
            "text/html": [
              "<span style=\"white-space:pre; font-family: monospace\">\u250c\u252c\u2500\u2510\n",
              "\u2502\u25021\u2502\n",
              "\u2514\u2534\u2500\u2518\n",
              "</span>"
            ]
          },
          "execution_count": 109,
          "metadata": {},
          "output_type": "execute_result"
        }
      ],
      "source": [
        "\u2395RL"
      ]
    },
    {
      "cell_type": "markdown",
      "id": "whole-brick",
      "metadata": {},
      "source": [
        "In this case, the seed is `\u236c` and the algorithm chosen is the algorithm 1.\n",
        "If you read the Dyalog documentation, you will find some information on the three possible algorithms:\n",
        "\n",
        "| Id | Name | Algorithm | Valid seed values |\n",
        "| :- | :- | :- | :- |\n",
        "| 0 | RNG0 | Lehmer linear congruential generator | `0`, `\u236c`, or an integer in the range 1 to `\u00af2+2*31` |\n",
        "| 1 | RNG1 | Mersenne Twister | `0`, `\u236c`, an integer in the range 1 to `\u00af1+2*63`, or a 625-item integer vector |\n",
        "| 2 | RNG2 | Operating System random number generator | `\u236c` |\n",
        "\n",
        "By default, Dyalog uses the Mersenne Twister (algorithm 1).\n",
        "\n",
        "For the sake of curiosity, let us see how one would implement _roll_ using the algorithm 0:"
      ]
    },
    {
      "cell_type": "code",
      "execution_count": 110,
      "id": "particular-evaluation",
      "metadata": {},
      "outputs": [],
      "source": [
        "\u2207 z \u2190 Roll n\n",
        "    seed \u2190 (\u00af1+2*31)|seed\u00d77*5\n",
        "    z \u2190 \u2395IO+\u230an\u00d7seed\u00f72*31\n",
        "\u2207"
      ]
    },
    {
      "cell_type": "markdown",
      "id": "dried-portrait",
      "metadata": {},
      "source": [
        "The first instruction prepares the seed used for the next number.\n",
        "_Residue_ is used to ensure that the result will always be smaller than `\u00af1+2*31`.\n",
        "Consequently, `\u2395RL\u00f72*31` always returns a value in the range 0-1.\n",
        "Multiplied by the argument, it produces a result strictly smaller than `n`, and by adding `\u2395IO` we get the desired result.\n",
        "\n",
        "You can compare this implementation of `Roll` to the primitive function _roll_ if we set the seed and the algorithm to the correct values:"
      ]
    },
    {
      "cell_type": "code",
      "execution_count": 111,
      "id": "sized-offense",
      "metadata": {},
      "outputs": [
        {
          "data": {
            "text/html": [
              "<span style=\"white-space:pre; font-family: monospace\">1 7 2\n",
              "</span>"
            ]
          },
          "execution_count": 111,
          "metadata": {},
          "output_type": "execute_result"
        }
      ],
      "source": [
        "seed \u2190 73\n",
        "Roll\u00a8 3\u237410"
      ]
    },
    {
      "cell_type": "code",
      "execution_count": 112,
      "id": "funky-introduction",
      "metadata": {},
      "outputs": [
        {
          "data": {
            "text/html": [
              "<span style=\"white-space:pre; font-family: monospace\">1 7 2\n",
              "</span>"
            ]
          },
          "execution_count": 112,
          "metadata": {},
          "output_type": "execute_result"
        }
      ],
      "source": [
        "\u2395RL \u2190 73 0\n",
        "?3\u237410"
      ]
    },
    {
      "cell_type": "code",
      "execution_count": 113,
      "id": "outdoor-market",
      "metadata": {},
      "outputs": [
        {
          "data": {
            "text/html": [
              "<span style=\"white-space:pre; font-family: monospace\">341854744\n",
              "</span>"
            ]
          },
          "execution_count": 113,
          "metadata": {},
          "output_type": "execute_result"
        }
      ],
      "source": [
        "seed"
      ]
    },
    {
      "cell_type": "code",
      "execution_count": 114,
      "id": "geographic-title",
      "metadata": {},
      "outputs": [
        {
          "data": {
            "text/html": [
              "<span style=\"white-space:pre; font-family: monospace\">341854744\n",
              "</span>"
            ]
          },
          "execution_count": 114,
          "metadata": {},
          "output_type": "execute_result"
        }
      ],
      "source": [
        "\u2283\u2395RL"
      ]
    },
    {
      "cell_type": "markdown",
      "id": "interstate-fellow",
      "metadata": {},
      "source": [
        "(Mathematical-Functions-Some-More-Maths)=\n",
        "## Some More Maths\n",
        "\n",
        "(Mathematical-Functions-Logarithms)=\n",
        "### Logarithms\n",
        "\n",
        "The base `b` logarithm of a number `n` is calculated with the function _logarithm_ `\u235f` that is typed with <kbd>APL</kbd>+<kbd>Shift</kbd>+<kbd>8</kbd>.\n",
        "\n",
        "The value `l \u2190 b\u235fn` is such that `b*l` gives back the original number `n`.\n",
        "Here are some examples:"
      ]
    },
    {
      "cell_type": "code",
      "execution_count": 115,
      "id": "polar-antarctica",
      "metadata": {},
      "outputs": [
        {
          "data": {
            "text/html": [
              "<span style=\"white-space:pre; font-family: monospace\">3\n",
              "</span>"
            ]
          },
          "execution_count": 115,
          "metadata": {},
          "output_type": "execute_result"
        }
      ],
      "source": [
        "10\u235f1000"
      ]
    },
    {
      "cell_type": "markdown",
      "id": "unexpected-antibody",
      "metadata": {},
      "source": [
        "The logarithm of 1000 in base 10 is 3 because 10 to the 3rd power gives 1000:"
      ]
    },
    {
      "cell_type": "code",
      "execution_count": 116,
      "id": "weighted-projector",
      "metadata": {},
      "outputs": [
        {
          "data": {
            "text/html": [
              "<span style=\"white-space:pre; font-family: monospace\">1000\n",
              "</span>"
            ]
          },
          "execution_count": 116,
          "metadata": {},
          "output_type": "execute_result"
        }
      ],
      "source": [
        "10*3"
      ]
    },
    {
      "cell_type": "code",
      "execution_count": 117,
      "id": "careful-visibility",
      "metadata": {},
      "outputs": [
        {
          "data": {
            "text/html": [
              "<span style=\"white-space:pre; font-family: monospace\">4\n",
              "</span>"
            ]
          },
          "execution_count": 117,
          "metadata": {},
          "output_type": "execute_result"
        }
      ],
      "source": [
        "3\u235f81"
      ]
    },
    {
      "cell_type": "markdown",
      "id": "offshore-campus",
      "metadata": {},
      "source": [
        "The base-3 logarithm of 81 is 4 because 3 to the power of 4 gives 81:"
      ]
    },
    {
      "cell_type": "code",
      "execution_count": 118,
      "id": "looking-encoding",
      "metadata": {},
      "outputs": [
        {
          "data": {
            "text/html": [
              "<span style=\"white-space:pre; font-family: monospace\">81\n",
              "</span>"
            ]
          },
          "execution_count": 118,
          "metadata": {},
          "output_type": "execute_result"
        }
      ],
      "source": [
        "3*4"
      ]
    },
    {
      "cell_type": "markdown",
      "id": "charged-stupid",
      "metadata": {},
      "source": [
        "The monadic form of the function _logarithm_ gives the _natural logarithm_ (or _napierian logarithm_) of a number:"
      ]
    },
    {
      "cell_type": "code",
      "execution_count": 119,
      "id": "beginning-tyler",
      "metadata": {},
      "outputs": [
        {
          "data": {
            "text/html": [
              "<span style=\"white-space:pre; font-family: monospace\">2.30259\n",
              "</span>"
            ]
          },
          "execution_count": 119,
          "metadata": {},
          "output_type": "execute_result"
        }
      ],
      "source": [
        "\u235f10"
      ]
    },
    {
      "cell_type": "markdown",
      "id": "unique-auckland",
      "metadata": {},
      "source": [
        "The base of the natural logarithm is also the base of the monadic function _power_, so we can easily compute it:"
      ]
    },
    {
      "cell_type": "code",
      "execution_count": 120,
      "id": "adult-approach",
      "metadata": {},
      "outputs": [
        {
          "data": {
            "text/html": [
              "<span style=\"white-space:pre; font-family: monospace\">2.71828\n",
              "</span>"
            ]
          },
          "execution_count": 120,
          "metadata": {},
          "output_type": "execute_result"
        }
      ],
      "source": [
        "*1"
      ]
    },
    {
      "cell_type": "code",
      "execution_count": 121,
      "id": "heated-effect",
      "metadata": {},
      "outputs": [
        {
          "data": {
            "text/html": [
              "<span style=\"white-space:pre; font-family: monospace\">1\n",
              "</span>"
            ]
          },
          "execution_count": 121,
          "metadata": {},
          "output_type": "execute_result"
        }
      ],
      "source": [
        "\u235f*1"
      ]
    },
    {
      "cell_type": "markdown",
      "id": "clear-brisbane",
      "metadata": {},
      "source": [
        "The monadic usage of the function _logarithm_ is the same as using `*1` as the left argument:"
      ]
    },
    {
      "cell_type": "code",
      "execution_count": 122,
      "id": "suited-burner",
      "metadata": {},
      "outputs": [
        {
          "data": {
            "text/html": [
              "<span style=\"white-space:pre; font-family: monospace\">2.30259\n",
              "</span>"
            ]
          },
          "execution_count": 122,
          "metadata": {},
          "output_type": "execute_result"
        }
      ],
      "source": [
        "\u235f10"
      ]
    },
    {
      "cell_type": "code",
      "execution_count": 123,
      "id": "desperate-server",
      "metadata": {},
      "outputs": [
        {
          "data": {
            "text/html": [
              "<span style=\"white-space:pre; font-family: monospace\">2.30259\n",
              "</span>"
            ]
          },
          "execution_count": 123,
          "metadata": {},
          "output_type": "execute_result"
        }
      ],
      "source": [
        "(*1)\u235f10"
      ]
    },
    {
      "cell_type": "markdown",
      "id": "indoor-mumbai",
      "metadata": {},
      "source": [
        "This is similar to how the monadic function _reciprocal_ `\u00f7n` is equivalent to the dyadic usage `1\u00f7n` or the monadic function _negate_ `-n` is equivalent to the dyadic usage `0-n`.\n",
        "\n",
        "The relationship between the natural and the base `b` logarithms of a number is described the formulas below.\n",
        "Given:\n",
        "\n",
        " - `n \u2190 \u235fa`\n",
        " - `l \u2190 b\u235fa`\n",
        " - `e \u2190 *1`, the base of the natural logarithm\n",
        "\n",
        "Then, we have:\n",
        "\n",
        " - `n \u2261 l\u00d7\u235fb`\n",
        " - `l \u2261 n\u00d7b\u235fe`"
      ]
    },
    {
      "cell_type": "markdown",
      "id": "legal-publisher",
      "metadata": {},
      "source": [
        "(Mathematical-Functions-Factorial--Binomial)=\n",
        "### Factorial & Binomial\n",
        "\n",
        "The product of the first `n` positive integers, or the _factorial_ of `n`, is written as $n!$ in traditional mathematics.\n",
        "APL uses the same symbol for the function, but in APL a monadic function is always placed to the left of its argument.\n",
        "So, factorial looks like `!n` in APL.\n",
        "\n",
        "As in mathematics, `!0` is equal to 1:"
      ]
    },
    {
      "cell_type": "code",
      "execution_count": 124,
      "id": "romance-richards",
      "metadata": {},
      "outputs": [
        {
          "data": {
            "text/html": [
              "<span style=\"white-space:pre; font-family: monospace\">1 1 2 6 24 120 720 5040\n",
              "</span>"
            ]
          },
          "execution_count": 124,
          "metadata": {},
          "output_type": "execute_result"
        }
      ],
      "source": [
        "!0 1 2 3 4 5 6 7"
      ]
    },
    {
      "cell_type": "markdown",
      "id": "julian-fitting",
      "metadata": {},
      "source": [
        "If `n` is a decimal number, `!n` gives the _gamma_ function of `n + 1`.\n",
        "This is explained in {numref}`Mathematical-Functions-Gamma-and-Beta-Functions`.\n",
        "\n",
        "The monadic function _factorial_ `!n` represents the number of possibilities when sorting `n` objects.\n",
        "But if one picks only `p` objects among `n` objects, the number of possible _combinations_ is given by `(!n)\u00f7(!p)\u00d7!n-p`.\n",
        "This can be obtained directly using the dyadic function _binomial_ `p!n`.\n",
        "\n",
        "For example, how many different hands can you be dealt if you are dealt 7 cards out of a 52 card deck?\n",
        "That's"
      ]
    },
    {
      "cell_type": "code",
      "execution_count": 125,
      "id": "coordinate-prayer",
      "metadata": {},
      "outputs": [
        {
          "data": {
            "text/html": [
              "<span style=\"white-space:pre; font-family: monospace\">133784560\n",
              "</span>"
            ]
          },
          "execution_count": 125,
          "metadata": {},
          "output_type": "execute_result"
        }
      ],
      "source": [
        "7!52"
      ]
    },
    {
      "cell_type": "markdown",
      "id": "vocational-characterization",
      "metadata": {},
      "source": [
        "That is a surprisingly big number!\n",
        "Over 130 million different hands.\n",
        "\n",
        "If `p` is greater than `n`, then `p!n` gives the result 0.\n",
        "In hindsight, this makes a lot of sense: if you have 10 items, in how many combinations can you make with 15 of those items?\n",
        "Obviously, zero!\n",
        "You do not even have enough items to consider doing those combinations.\n",
        "\n",
        "The formula `(0,\u2373n)!n` gives the coefficients of $(x + 1)^n$, which is the reason why the dyadic usage of `!` is called _binomial_.\n",
        "One can obtain a set of coefficients with the following expression:"
      ]
    },
    {
      "cell_type": "code",
      "execution_count": 126,
      "id": "major-fields",
      "metadata": {},
      "outputs": [
        {
          "data": {
            "text/html": [
              "<span style=\"white-space:pre; font-family: monospace\">1 1  0  0 0 0\n",
              "1 2  1  0 0 0\n",
              "1 3  3  1 0 0\n",
              "1 4  6  4 1 0\n",
              "1 5 10 10 5 1\n",
              "</span>"
            ]
          },
          "execution_count": 126,
          "metadata": {},
          "output_type": "execute_result"
        }
      ],
      "source": [
        "x \u2190 \u23735\n",
        "\u2349(0,x)\u2218.!x"
      ]
    },
    {
      "cell_type": "markdown",
      "id": "further-facial",
      "metadata": {},
      "source": [
        "The matrix above shows, for example, that $(x + 1)^3 = 1x^3 + 3x^2 + 3x + 1$.\n",
        "The coefficients `1 3 3 1` were taken from the third row of the matrix."
      ]
    },
    {
      "cell_type": "markdown",
      "id": "careful-establishment",
      "metadata": {},
      "source": [
        "(Mathematical-Functions-Trigonometry)=\n",
        "### Trigonometry\n",
        "\n",
        "(Mathematical-Functions-Multiples-of-\u03c0)=\n",
        "#### Multiples of \u03c0\n",
        "\n",
        "The mathematical constant pi (or \u03c0) is very useful in many mathematical and technical calculations.\n",
        "It can be obtained via the primitive function _circle_ (the symbol `\u25cb`, typed with <kbd>APL</kbd>+<kbd>o</kbd>), which gives multiples of pi.\n",
        "Do not confuse the function circle `o` with the jot `\u2218` used for the _outer product_ or the operators _beside_ and _bind_.\n",
        "\n",
        "$\\pi \\times n$ can be obtained with `\u25cbn`:"
      ]
    },
    {
      "cell_type": "code",
      "execution_count": 127,
      "id": "neutral-layer",
      "metadata": {},
      "outputs": [
        {
          "data": {
            "text/html": [
              "<span style=\"white-space:pre; font-family: monospace\">3.14159 6.28319 1.5708\n",
              "</span>"
            ]
          },
          "execution_count": 127,
          "metadata": {},
          "output_type": "execute_result"
        }
      ],
      "source": [
        "\u25cb1 2 0.5"
      ]
    },
    {
      "cell_type": "code",
      "execution_count": 128,
      "id": "wicked-parking",
      "metadata": {},
      "outputs": [
        {
          "data": {
            "text/html": [
              "<span style=\"white-space:pre; font-family: monospace\">1.0472\n",
              "</span>"
            ]
          },
          "execution_count": 128,
          "metadata": {},
          "output_type": "execute_result"
        }
      ],
      "source": [
        "\u25cb \u00f73"
      ]
    },
    {
      "cell_type": "markdown",
      "id": "nasty-approach",
      "metadata": {},
      "source": [
        "This last expression gives $\\frac\\pi3$.\n",
        "However, be careful!\n",
        "The symbol `\u25cb`, by itself, does not represent the value \u03c0 that we divided by 3 with `\u25cb\u00f73`.\n",
        "`\u00f73` computed the reciprocal of 3 and then the monadic function _pi times_ got applied to that."
      ]
    },
    {
      "cell_type": "markdown",
      "id": "burning-credit",
      "metadata": {},
      "source": [
        "(Mathematical-Functions-Circular-and-Hyperbolic-Trigonometry)=\n",
        "#### Circular and Hyperbolic Trigonometry\n",
        "\n",
        "Using the dyadic form of the glyph _circle_, one can obtain all the possible direct and inverse functions of circular and hyperbolic trigonometry.\n",
        "\n",
        "the trigonometric function is designated by the left argument to `\u25cb` according to the table below.\n",
        "You can see that the positive left arguments refer to direct trigonometric functions, while negative arguments refer to their inverse functions.\n",
        "Values from 1 to 3 calculate circular functions and values from 5 to 7 calculate hyperbolic functions.\n",
        "\n",
        "(Mathematical-Functions-Direct-Trigonometric-Functions)=\n",
        "##### Direct Trigonometric Functions\n",
        "\n",
        "| `f` | `f \u25cb x` |\n",
        "| :- | :- |\n",
        "| `0` | $\\sqrt{1 - x^2}$ |\n",
        "| `1` | $\\sin{x}$ |\n",
        "| `2` | $\\cos{x}$ |\n",
        "| `3` | $\\tan{x}$ |\n",
        "| `4` | $\\sqrt{1 + x^2}$ |\n",
        "| `5` | $\\text{sinh }x$ |\n",
        "| `6` | $\\text{cosh }x$ |\n",
        "| `7` | $\\text{tanh }x$ |\n",
        "\n",
        "\n",
        "(Mathematical-Functions-Inverse-Trigonometric-Functions)=\n",
        "#### Inverse Trigonometric Functions\n",
        "\n",
        "| `f` | `f \u25cb x` |\n",
        "| :- | :- |\n",
        "| `\u00af1` | $\\arcsin{x}$ |\n",
        "| `\u00af2` | $\\arccos{x}$ |\n",
        "| `\u00af3` | $\\arctan{x}$ |\n",
        "| `\u00af4` | $\\sqrt{-1 + x^2}$ |\n",
        "| `\u00af5` | $\\text{argsinh }x$ |\n",
        "| `\u00af6` | $\\text{argcosh }x$ |\n",
        "| `\u00af7` | $\\text{argtanh }x$ |\n",
        "\n",
        "For example:\n",
        "\n",
        " - `2\u25cbx` means $\\cos x$;\n",
        " - `5\u25cbx` means $\\text{sinh }x$;\n",
        " - `\u00af2\u25cbx` means $\\arccos x$;\n",
        " - `0\u25cbval` calculates $|\\cos x|$ if $val = \\sin x$, or $|\\sin x|$ if $val = \\cos x$;\n",
        " - `4\u25cbval` calculates $|\\text{cosh }x|$ if $val = \\text{sinh }x$; and\n",
        " - `\u00af4\u25cbval` calculates $|\\text{sinh }x|$ if $val = \\text{cosh }x$.\n",
        "\n",
        "For direct circular trigonometry (`f\u220a1 2 3`) the value of `x` must be in radians.\n",
        "For inverse circular trigonometry (`f\u220a-1 2 3`) the returned result is in radians."
      ]
    },
    {
      "cell_type": "markdown",
      "id": "uniform-ontario",
      "metadata": {},
      "source": [
        "(Mathematical-Functions-Concrete-Trigonometry-Examples)=\n",
        "#### Concrete Trigonometry Examples\n",
        "\n",
        "Let us compute the cosine of $0$, $\\pi/6$, and $\\pi/3$, respectively:"
      ]
    },
    {
      "cell_type": "code",
      "execution_count": 129,
      "id": "conceptual-florist",
      "metadata": {},
      "outputs": [
        {
          "data": {
            "text/html": [
              "<span style=\"white-space:pre; font-family: monospace\">1 0.866025 0.5\n",
              "</span>"
            ]
          },
          "execution_count": 129,
          "metadata": {},
          "output_type": "execute_result"
        }
      ],
      "source": [
        "2\u25cb 0,\u25cb\u00f76 3"
      ]
    },
    {
      "cell_type": "markdown",
      "id": "dense-covering",
      "metadata": {},
      "source": [
        "Next, we calculate three different functions for $\\pi/3$:"
      ]
    },
    {
      "cell_type": "code",
      "execution_count": 130,
      "id": "emotional-optimization",
      "metadata": {},
      "outputs": [
        {
          "data": {
            "text/html": [
              "<span style=\"white-space:pre; font-family: monospace\">0.866025 0.5 1.73205\n",
              "</span>"
            ]
          },
          "execution_count": 130,
          "metadata": {},
          "output_type": "execute_result"
        }
      ],
      "source": [
        "1 2 3 \u25cb \u25cb\u00f73"
      ]
    },
    {
      "cell_type": "markdown",
      "id": "christian-falls",
      "metadata": {},
      "source": [
        "These three functions were, respectively, the sine, the cosine, and the tangent.\n",
        "\n",
        "Now, we confirm that $\\arctan 1 = \\pi/4$:"
      ]
    },
    {
      "cell_type": "code",
      "execution_count": 131,
      "id": "funky-emergency",
      "metadata": {},
      "outputs": [
        {
          "data": {
            "text/html": [
              "<span style=\"white-space:pre; font-family: monospace\">1\n",
              "</span>"
            ]
          },
          "execution_count": 131,
          "metadata": {},
          "output_type": "execute_result"
        }
      ],
      "source": [
        "(\u00af3\u25cb1) = \u25cb\u00f74"
      ]
    },
    {
      "cell_type": "markdown",
      "id": "tamil-tuning",
      "metadata": {},
      "source": [
        "We can also calculate the sine and cosine of $\\pi/2$:"
      ]
    },
    {
      "cell_type": "code",
      "execution_count": 132,
      "id": "pleased-secret",
      "metadata": {},
      "outputs": [
        {
          "data": {
            "text/html": [
              "<span style=\"white-space:pre; font-family: monospace\">1 6.12323E\u00af17\n",
              "</span>"
            ]
          },
          "execution_count": 132,
          "metadata": {},
          "output_type": "execute_result"
        }
      ],
      "source": [
        "1 2 \u25cb \u25cb\u00f72"
      ]
    },
    {
      "cell_type": "markdown",
      "id": "hairy-wellington",
      "metadata": {},
      "source": [
        "The very last result shows that the algorithms used to calculate the circular or hyperbolic values sometimes lead to very minor rounding approximation errors.\n",
        "The second value is very close to zero, but it should be zero."
      ]
    },
    {
      "cell_type": "markdown",
      "id": "alien-confidence",
      "metadata": {},
      "source": [
        "(Mathematical-Functions-Manipulating-Complex-Numbers)=\n",
        "#### Manipulating Complex Numbers\n",
        "\n",
        "Since the support for complex numbers was added to Dyalog APL, the function _circle_ was extended to provide some useful functions to manipulate complex numbers.\n",
        "We list them in the table below, where `x` represents an arbitrary number.\n",
        "\n",
        "| `f` | `f \u25cb x` |\n",
        "| :- | :- |\n",
        "| `8`| `(-1+x*2)*0.5` |\n",
        "| `9`| real part of `x` |\n",
        "| `10` | `\\|x`, the magnitude of `x` |\n",
        "| `11` | imaginary part of `x` |\n",
        "| `12` | phase of `x` |\n",
        "| `\u00af8` | `-8\u25cbx` |\n",
        "| `\u00af9` | `x` |\n",
        "| `\u00af10` | `+x`, the complex conjugate of `x` |\n",
        "| `\u00af11` | `x\u00d70J1` |\n",
        "| `\u00af12` | `*x\u00d70J1` |\n",
        "\n",
        "To exemplify the usage of some of these left arguments, we will verify some simple identities.\n",
        "\n",
        "For example, we can split a complex number up and put it back together:"
      ]
    },
    {
      "cell_type": "code",
      "execution_count": 133,
      "id": "twelve-commission",
      "metadata": {},
      "outputs": [],
      "source": [
        "c \u2190 3J4"
      ]
    },
    {
      "cell_type": "code",
      "execution_count": 134,
      "id": "greater-advisory",
      "metadata": {},
      "outputs": [
        {
          "data": {
            "text/html": [
              "<span style=\"white-space:pre; font-family: monospace\">1\n",
              "</span>"
            ]
          },
          "execution_count": 134,
          "metadata": {},
          "output_type": "execute_result"
        }
      ],
      "source": [
        "re \u2190 9\u25cbc\n",
        "im \u2190 11\u25cbc\n",
        "c \u2261 re+\u00af11\u25cbim"
      ]
    },
    {
      "cell_type": "markdown",
      "id": "latest-hello",
      "metadata": {},
      "source": [
        "Using the function _magnitude_ directly should be the same as using `10\u25cb`, which should be the same as computing the magnitude of a complex number by hand:"
      ]
    },
    {
      "cell_type": "code",
      "execution_count": 135,
      "id": "touched-thomas",
      "metadata": {},
      "outputs": [
        {
          "data": {
            "text/html": [
              "<span style=\"white-space:pre; font-family: monospace\">5\n",
              "</span>"
            ]
          },
          "execution_count": 135,
          "metadata": {},
          "output_type": "execute_result"
        }
      ],
      "source": [
        "\u2395\u2190 mag \u2190 |c"
      ]
    },
    {
      "cell_type": "code",
      "execution_count": 136,
      "id": "unauthorized-removal",
      "metadata": {},
      "outputs": [
        {
          "data": {
            "text/html": [
              "<span style=\"white-space:pre; font-family: monospace\">1\n",
              "</span>"
            ]
          },
          "execution_count": 136,
          "metadata": {},
          "output_type": "execute_result"
        }
      ],
      "source": [
        "mag\u226110\u25cbc"
      ]
    },
    {
      "cell_type": "code",
      "execution_count": 137,
      "id": "sublime-blond",
      "metadata": {},
      "outputs": [
        {
          "data": {
            "text/html": [
              "<span style=\"white-space:pre; font-family: monospace\">1\n",
              "</span>"
            ]
          },
          "execution_count": 137,
          "metadata": {},
          "output_type": "execute_result"
        }
      ],
      "source": [
        "mag\u22610.5*\u2368+/re im*2"
      ]
    },
    {
      "cell_type": "markdown",
      "id": "friendly-toolbox",
      "metadata": {},
      "source": [
        "The phase of a complex number is given by the arctangent of the ratio of its imaginary and real parts:"
      ]
    },
    {
      "cell_type": "code",
      "execution_count": 138,
      "id": "grave-evidence",
      "metadata": {},
      "outputs": [
        {
          "data": {
            "text/html": [
              "<span style=\"white-space:pre; font-family: monospace\">0.927295\n",
              "</span>"
            ]
          },
          "execution_count": 138,
          "metadata": {},
          "output_type": "execute_result"
        }
      ],
      "source": [
        "\u2395\u2190 phase \u2190 12\u25cbc"
      ]
    },
    {
      "cell_type": "code",
      "execution_count": 139,
      "id": "imposed-beatles",
      "metadata": {},
      "outputs": [
        {
          "data": {
            "text/html": [
              "<span style=\"white-space:pre; font-family: monospace\">1\n",
              "</span>"
            ]
          },
          "execution_count": 139,
          "metadata": {},
          "output_type": "execute_result"
        }
      ],
      "source": [
        "phase\u2261\u00af3\u25cbim\u00f7re"
      ]
    },
    {
      "cell_type": "markdown",
      "id": "mighty-butler",
      "metadata": {},
      "source": [
        "Finally, we can reconstruct a complex number from its phase and magnitude (which are used when representing complex numbers in polar form):"
      ]
    },
    {
      "cell_type": "code",
      "execution_count": 140,
      "id": "spread-ending",
      "metadata": {},
      "outputs": [
        {
          "data": {
            "text/html": [
              "<span style=\"white-space:pre; font-family: monospace\">1\n",
              "</span>"
            ]
          },
          "execution_count": 140,
          "metadata": {},
          "output_type": "execute_result"
        }
      ],
      "source": [
        "c \u2261 mag\u00d7\u00af12\u25cbphase"
      ]
    },
    {
      "cell_type": "markdown",
      "id": "smaller-ultimate",
      "metadata": {},
      "source": [
        "(Mathematical-Functions-GCD-and-LCM)=\n",
        "### GCD and LCM\n",
        "\n",
        "(Mathematical-Functions-Greatest-Common-Divisor-GCD)=\n",
        "#### Greatest Common Divisor (GCD)\n",
        "\n",
        "When applied to binary values, the symbol `\u2228` represents the Boolean function _or_.\n",
        "The same symbol can be applied to numbers other than 0 and 1.\n",
        "Then, it calculates their _greatest common divisor_, or GCD.\n",
        "`\u2228` is always a dyadic scalar function: applied to arrays of the same shape, it gives a result of the same shape; applied between a scalar and any array, it gives a result of the same shape as the array, and the scalar value is reused as needed."
      ]
    },
    {
      "cell_type": "code",
      "execution_count": 141,
      "id": "ancient-testing",
      "metadata": {},
      "outputs": [
        {
          "data": {
            "text/html": [
              "<span style=\"white-space:pre; font-family: monospace\">165 165 1\n",
              "</span>"
            ]
          },
          "execution_count": 141,
          "metadata": {},
          "output_type": "execute_result"
        }
      ],
      "source": [
        "15180 \u2228 285285 \u00af285285 47"
      ]
    },
    {
      "cell_type": "markdown",
      "id": "popular-naples",
      "metadata": {},
      "source": [
        "The result of GCD is always positive.\n",
        "Two integers always have, at least, the number 1 as a common divisor.\n",
        "When the result of GCD between two integers is 1, that means there was no other divisor in common between the two integers and we say that those two integers are _coprime_.\n",
        "For example, 15180 and 47 are coprime.\n",
        "\n",
        "As always, if one of the items of the argument to `\u2228` is 0, the corresponding item from the other argument is returned (41, in the case below):"
      ]
    },
    {
      "cell_type": "code",
      "execution_count": 142,
      "id": "hawaiian-quebec",
      "metadata": {},
      "outputs": [
        {
          "data": {
            "text/html": [
              "<span style=\"white-space:pre; font-family: monospace\">74 41 1\n",
              "</span>"
            ]
          },
          "execution_count": 142,
          "metadata": {},
          "output_type": "execute_result"
        }
      ],
      "source": [
        "5180 0 28 \u2228 6142 41 19"
      ]
    },
    {
      "cell_type": "markdown",
      "id": "secret-commerce",
      "metadata": {},
      "source": [
        "The function _gcd_ also works with non-integer arguments:"
      ]
    },
    {
      "cell_type": "code",
      "execution_count": 143,
      "id": "applicable-texas",
      "metadata": {},
      "outputs": [
        {
          "data": {
            "text/html": [
              "<span style=\"white-space:pre; font-family: monospace\">0.2 0.3 1.4\n",
              "</span>"
            ]
          },
          "execution_count": 143,
          "metadata": {},
          "output_type": "execute_result"
        }
      ],
      "source": [
        "5178 417 28 \u2228 7.4 0.9 1.4"
      ]
    },
    {
      "cell_type": "markdown",
      "id": "worldwide-lawsuit",
      "metadata": {},
      "source": [
        "(Mathematical-Functions-Lowest-Common-Multiple-LCM)=\n",
        "#### Lowest Common Multiple (LCM)\n",
        "\n",
        "When applied to binary values, the symbol `\u2227` represents the Boolean function _and_.\n",
        "The same symbol can be applied to numbers other than 0 and 1.\n",
        "Then, it calculates their lowest common multiple, or LCM.\n",
        "`\u2227` is also a dyadic scalar function."
      ]
    },
    {
      "cell_type": "code",
      "execution_count": 144,
      "id": "smoking-leader",
      "metadata": {},
      "outputs": [
        {
          "data": {
            "text/html": [
              "<span style=\"white-space:pre; font-family: monospace\">12008 8 847071 \u00af4152 0\n",
              "</span>"
            ]
          },
          "execution_count": 144,
          "metadata": {},
          "output_type": "execute_result"
        }
      ],
      "source": [
        "152 1 6183 \u00af519 0 \u2227 316 8 411 24 16"
      ]
    },
    {
      "cell_type": "markdown",
      "id": "serious-miracle",
      "metadata": {},
      "source": [
        "The GCD and the LCM satisfy a relationship: if `a` and `b` are two numbers, then we have that `(a\u00d7b) \u2261 (a\u2228b)\u00d7(a\u2227b)`.\n",
        "This relationship can be rewritten as the elegant train `(\u00d7\u2261\u2228\u00d7\u2227)`, which always returns 1:"
      ]
    },
    {
      "cell_type": "code",
      "execution_count": 145,
      "id": "cultural-vacuum",
      "metadata": {},
      "outputs": [
        {
          "data": {
            "text/html": [
              "<span style=\"white-space:pre; font-family: monospace\">1\n",
              "</span>"
            ]
          },
          "execution_count": 145,
          "metadata": {},
          "output_type": "execute_result"
        }
      ],
      "source": [
        "428 (\u00d7\u2261\u2228\u00d7\u2227) 561"
      ]
    },
    {
      "cell_type": "code",
      "execution_count": 146,
      "id": "governing-trout",
      "metadata": {},
      "outputs": [
        {
          "data": {
            "text/html": [
              "<span style=\"white-space:pre; font-family: monospace\">1\n",
              "</span>"
            ]
          },
          "execution_count": 146,
          "metadata": {},
          "output_type": "execute_result"
        }
      ],
      "source": [
        "\u00af28 (\u00d7\u2261\u2228\u00d7\u2227) 561"
      ]
    },
    {
      "cell_type": "code",
      "execution_count": 147,
      "id": "stone-camel",
      "metadata": {},
      "outputs": [
        {
          "data": {
            "text/html": [
              "<span style=\"white-space:pre; font-family: monospace\">1\n",
              "</span>"
            ]
          },
          "execution_count": 147,
          "metadata": {},
          "output_type": "execute_result"
        }
      ],
      "source": [
        "428 (\u00d7\u2261\u2228\u00d7\u2227) \u00af51"
      ]
    },
    {
      "cell_type": "code",
      "execution_count": 148,
      "id": "sustained-encyclopedia",
      "metadata": {},
      "outputs": [
        {
          "data": {
            "text/html": [
              "<span style=\"white-space:pre; font-family: monospace\">1\n",
              "</span>"
            ]
          },
          "execution_count": 148,
          "metadata": {},
          "output_type": "execute_result"
        }
      ],
      "source": [
        "\u00af42 (\u00d7\u2261\u2228\u00d7\u2227) \u00af61"
      ]
    },
    {
      "cell_type": "markdown",
      "id": "imperial-exhibition",
      "metadata": {},
      "source": [
        "(Mathematical-Functions-Set-Union-and-Intersection)=\n",
        "### Set Union and Intersection\n",
        "\n",
        "Mathematical set theory describes the following two functions between two sets `a` and `b`:\n",
        "\n",
        " - _intersection_ `a \u2229 b`, gives the items in both sets; and\n",
        " - _union_ `a \u222a b`, gives the items that are in either set.\n",
        "\n",
        "The same functions are found in Dyalog, using the same symbols.\n",
        "To type the symbol for set intersection `\u2229`, use <kbd>APL</kbd>+<kbd>c</kbd>.\n",
        "To type the symbol for set union, use <kbd>APL</kbd>+<kbd>v</kbd>.\n",
        "They work on scalar and vector arguments:"
      ]
    },
    {
      "cell_type": "code",
      "execution_count": 149,
      "id": "capital-welcome",
      "metadata": {},
      "outputs": [
        {
          "data": {
            "text/html": [
              "<span style=\"white-space:pre; font-family: monospace\">\u250c\u2500\u2500\u252c\u2500\u2500\u2500\u2500\u2500\u2500\u2500\u2510\n",
              "\u250253\u2502dollars\u2502\n",
              "\u2514\u2500\u2500\u2534\u2500\u2500\u2500\u2500\u2500\u2500\u2500\u2518\n",
              "</span>"
            ]
          },
          "execution_count": 149,
          "metadata": {},
          "output_type": "execute_result"
        }
      ],
      "source": [
        "'Hey' 'give' 'me' 53 'dollars' \u2229 53 'euros' 'not' 'dollars'"
      ]
    },
    {
      "cell_type": "code",
      "execution_count": 150,
      "id": "absolute-madonna",
      "metadata": {},
      "outputs": [
        {
          "data": {
            "text/html": [
              "<span style=\"white-space:pre; font-family: monospace\">\u250c\u2500\u2500\u2500\u252c\u2500\u2500\u2500\u2500\u252c\u2500\u2500\u252c\u2500\u2500\u252c\u2500\u2500\u2500\u2500\u2500\u2500\u2500\u252c\u2500\u2500\u2500\u2500\u2500\u252c\u2500\u2500\u2500\u2510\n",
              "\u2502Hey\u2502give\u2502me\u250253\u2502dollars\u2502euros\u2502not\u2502\n",
              "\u2514\u2500\u2500\u2500\u2534\u2500\u2500\u2500\u2500\u2534\u2500\u2500\u2534\u2500\u2500\u2534\u2500\u2500\u2500\u2500\u2500\u2500\u2500\u2534\u2500\u2500\u2500\u2500\u2500\u2534\u2500\u2500\u2500\u2518\n",
              "</span>"
            ]
          },
          "execution_count": 150,
          "metadata": {},
          "output_type": "execute_result"
        }
      ],
      "source": [
        "'Hey' 'give' 'me' 53 'dollars' \u222a 53 'euros' 'not' 'dollars'"
      ]
    },
    {
      "cell_type": "markdown",
      "id": "swedish-restriction",
      "metadata": {},
      "source": [
        "In mathematics, we use these two functions with _sets_, which are not the same thing as APL vectors.\n",
        "APL vectors are ordered and may contain duplicates, which makes a couple of conventions necessary."
      ]
    },
    {
      "cell_type": "markdown",
      "id": "interpreted-start",
      "metadata": {},
      "source": [
        "(Mathematical-Functions-Intersection)=\n",
        "#### Intersection\n",
        "\n",
        "The result of the function _intersection_ is in the order that the items appear in the left argument, including duplicates."
      ]
    },
    {
      "cell_type": "code",
      "execution_count": 151,
      "id": "unlimited-commons",
      "metadata": {},
      "outputs": [
        {
          "data": {
            "text/html": [
              "<span style=\"white-space:pre; font-family: monospace\">2 3 2 3\n",
              "</span>"
            ]
          },
          "execution_count": 151,
          "metadata": {},
          "output_type": "execute_result"
        }
      ],
      "source": [
        "1 1 2 3 2 3 \u2229 2 3"
      ]
    },
    {
      "cell_type": "code",
      "execution_count": 152,
      "id": "modified-combination",
      "metadata": {},
      "outputs": [
        {
          "data": {
            "text/html": [
              "<span style=\"white-space:pre; font-family: monospace\">euioouoeeayo\n",
              "</span>"
            ]
          },
          "execution_count": 152,
          "metadata": {},
          "output_type": "execute_result"
        }
      ],
      "source": [
        "text \u2190 'The quick brown fox jumps over the lazy dog'\n",
        "vowels \u2190 'aeiouy'\n",
        "text \u2229 vowels"
      ]
    },
    {
      "cell_type": "markdown",
      "id": "other-interaction",
      "metadata": {},
      "source": [
        "In fact, the result of the _intersection_ is equal to the left argument, but with all items that are not found in the right argument removed.\n",
        "aWe can check this by using the function _without_ twice:"
      ]
    },
    {
      "cell_type": "code",
      "execution_count": 153,
      "id": "solved-template",
      "metadata": {},
      "outputs": [
        {
          "data": {
            "text/html": [
              "<span style=\"white-space:pre; font-family: monospace\">1\n",
              "</span>"
            ]
          },
          "execution_count": 153,
          "metadata": {},
          "output_type": "execute_result"
        }
      ],
      "source": [
        "(text\u2229vowels) \u2261 text~text~vowels"
      ]
    },
    {
      "cell_type": "markdown",
      "id": "final-browse",
      "metadata": {},
      "source": [
        "(Mathematical-Functions-Union)=\n",
        "#### Union\n",
        "\n",
        "The result of the function _union_ is always the left argument, followed by all items of the right argument that are not already found in the left argument \u2013 including duplicates:"
      ]
    },
    {
      "cell_type": "code",
      "execution_count": 154,
      "id": "statistical-delaware",
      "metadata": {},
      "outputs": [
        {
          "data": {
            "text/html": [
              "<span style=\"white-space:pre; font-family: monospace\">1 1 2 3 2 3 4 4 4 6 6 6\n",
              "</span>"
            ]
          },
          "execution_count": 154,
          "metadata": {},
          "output_type": "execute_result"
        }
      ],
      "source": [
        "1 1 2 3 2 3 \u222a 2 2 2 4 4 4 6 6 6"
      ]
    },
    {
      "cell_type": "markdown",
      "id": "prescribed-maryland",
      "metadata": {},
      "source": [
        "Again, we can verify this property by making use of the function _without_:"
      ]
    },
    {
      "cell_type": "code",
      "execution_count": 155,
      "id": "underlying-competition",
      "metadata": {},
      "outputs": [
        {
          "data": {
            "text/html": [
              "<span style=\"white-space:pre; font-family: monospace\">1\n",
              "</span>"
            ]
          },
          "execution_count": 155,
          "metadata": {},
          "output_type": "execute_result"
        }
      ],
      "source": [
        "left \u2190 1 1 2 3 2 3\n",
        "right \u2190 2 2 2 4 4 4 6 6 6\n",
        "(left\u222aright) \u2261 left,right~left"
      ]
    },
    {
      "cell_type": "markdown",
      "id": "technical-class",
      "metadata": {},
      "source": [
        "(Mathematical-Functions-Unique)=\n",
        "#### Unique\n",
        "\n",
        "The function _union_ can also be used monadically, in which case it is the function _unique_.\n",
        "The function _unique_ works on arrays of arbitrary dimension and returns an array of the same rank, with all the unique major cells of the initial argument, in order of appearance:"
      ]
    },
    {
      "cell_type": "code",
      "execution_count": 156,
      "id": "sharp-russell",
      "metadata": {},
      "outputs": [
        {
          "data": {
            "text/html": [
              "<span style=\"white-space:pre; font-family: monospace\">1 2 3\n",
              "</span>"
            ]
          },
          "execution_count": 156,
          "metadata": {},
          "output_type": "execute_result"
        }
      ],
      "source": [
        "\u222a1 1 2 3 2 3"
      ]
    },
    {
      "cell_type": "code",
      "execution_count": 157,
      "id": "equipped-wells",
      "metadata": {},
      "outputs": [
        {
          "data": {
            "text/html": [
              "<span style=\"white-space:pre; font-family: monospace\">Jan\n",
              "Feb\n",
              "Jan\n",
              "Apr\n",
              "Dec\n",
              "Apr\n",
              "Mar\n",
              "</span>"
            ]
          },
          "execution_count": 157,
          "metadata": {},
          "output_type": "execute_result"
        }
      ],
      "source": [
        "\u2395\u2190 months \u2190 \u2191'Jan' 'Feb' 'Jan' 'Apr' 'Dec' 'Apr' 'Mar'"
      ]
    },
    {
      "cell_type": "code",
      "execution_count": 158,
      "id": "appointed-camping",
      "metadata": {},
      "outputs": [
        {
          "data": {
            "text/html": [
              "<span style=\"white-space:pre; font-family: monospace\">Jan\n",
              "Feb\n",
              "Apr\n",
              "Dec\n",
              "Mar\n",
              "</span>"
            ]
          },
          "execution_count": 158,
          "metadata": {},
          "output_type": "execute_result"
        }
      ],
      "source": [
        "\u222amonths"
      ]
    },
    {
      "cell_type": "markdown",
      "id": "lucky-switch",
      "metadata": {},
      "source": [
        "(Mathematical-Functions-Domino)=\n",
        "## Domino\n",
        "\n",
        "(Mathematical-Functions-Some-Definitions)=\n",
        "### Some Definitions\n",
        "\n",
        "(Mathematical-Functions-Identity-Matrix)=\n",
        "#### Identity Matrix\n",
        "\n",
        "Any number multiplied by 1 stays unchanged.\n",
        "Similarly, a matrix multiplied by a special square Boolean matrix remains unchanged.\n",
        "We call _identity matrix_ to that special matrix.\n",
        "\n",
        "The _identity matrix_ is a square matrix that is all zeroes except in the main diagonal, where it has ones.\n",
        "\n",
        "For example, if we have a 3 by 3 matrix"
      ]
    },
    {
      "cell_type": "code",
      "execution_count": 159,
      "id": "bearing-davis",
      "metadata": {},
      "outputs": [
        {
          "data": {
            "text/html": [
              "<span style=\"white-space:pre; font-family: monospace\">12 50  7\n",
              "44  3 25\n",
              "30 71 80\n",
              "</span>"
            ]
          },
          "execution_count": 159,
          "metadata": {},
          "output_type": "execute_result"
        }
      ],
      "source": [
        "\u2395\u2190 m \u2190 3 3\u237412 50 7 44 3 25 30 71 80"
      ]
    },
    {
      "cell_type": "markdown",
      "id": "productive-boston",
      "metadata": {},
      "source": [
        "Then, the identity matrix for `m` must be a 3 by 3 matrix of zeroes with ones in the main diagonal.\n",
        "A simple way of creating the identity matrix of size `n` is by using the expression `n n\u2374n+1\u21911`:"
      ]
    },
    {
      "cell_type": "code",
      "execution_count": 160,
      "id": "comparative-booth",
      "metadata": {},
      "outputs": [
        {
          "data": {
            "text/html": [
              "<span style=\"white-space:pre; font-family: monospace\">1 0 0\n",
              "0 1 0\n",
              "0 0 1\n",
              "</span>"
            ]
          },
          "execution_count": 160,
          "metadata": {},
          "output_type": "execute_result"
        }
      ],
      "source": [
        "\u2395\u2190 i \u2190 3 3\u23744\u21911"
      ]
    },
    {
      "cell_type": "markdown",
      "id": "judicial-sally",
      "metadata": {},
      "source": [
        "Now, if we multiply `m` and `i` together, we get `m` back:"
      ]
    },
    {
      "cell_type": "code",
      "execution_count": 161,
      "id": "monetary-principal",
      "metadata": {},
      "outputs": [
        {
          "data": {
            "text/html": [
              "<span style=\"white-space:pre; font-family: monospace\">12 50  7\n",
              "44  3 25\n",
              "30 71 80\n",
              "</span>"
            ]
          },
          "execution_count": 161,
          "metadata": {},
          "output_type": "execute_result"
        }
      ],
      "source": [
        "m+.\u00d7i"
      ]
    },
    {
      "cell_type": "code",
      "execution_count": 162,
      "id": "deluxe-terrain",
      "metadata": {},
      "outputs": [
        {
          "data": {
            "text/html": [
              "<span style=\"white-space:pre; font-family: monospace\">12 50  7\n",
              "44  3 25\n",
              "30 71 80\n",
              "</span>"
            ]
          },
          "execution_count": 162,
          "metadata": {},
          "output_type": "execute_result"
        }
      ],
      "source": [
        "i+.\u00d7m"
      ]
    },
    {
      "cell_type": "markdown",
      "id": "after-portfolio",
      "metadata": {},
      "source": [
        "(Mathematical-Functions-Inverse-Matrices)=\n",
        "#### Inverse Matrices\n",
        "\n",
        "If we multiply 4 by 0.25, or 0.25 by 4, we obtain 1, which is the identity item for multiplication.\n",
        "Alternatively, we can say that 0.25 is the reciprocal, or inverse, of 4, and vice-versa.\n",
        "\n",
        "Given that `i` is the identity item for matrix multiplication, if we can find two matrices `m` and `m_` whose product is `i`, we can say that those two matrices are the inverse of each other.\n",
        "\n",
        "For example:"
      ]
    },
    {
      "cell_type": "code",
      "execution_count": 163,
      "id": "handed-zambia",
      "metadata": {},
      "outputs": [
        {
          "data": {
            "text/html": [
              "<span style=\"white-space:pre; font-family: monospace\">1   0 2\n",
              "0   2 1\n",
              "0.5 3 1.5\n",
              "</span>"
            ]
          },
          "execution_count": 163,
          "metadata": {},
          "output_type": "execute_result"
        }
      ],
      "source": [
        "\u2395\u2190 m \u2190 3 3\u23741 0 2 0 2 1 .5 3 1.5"
      ]
    },
    {
      "cell_type": "code",
      "execution_count": 164,
      "id": "integral-prisoner",
      "metadata": {},
      "outputs": [
        {
          "data": {
            "text/html": [
              "<span style=\"white-space:pre; font-family: monospace\"> 0    \u00af3     2\n",
              "\u00af0.25 \u00af0.25  0.5\n",
              " 0.5   1.5  \u00af1\n",
              "</span>"
            ]
          },
          "execution_count": 164,
          "metadata": {},
          "output_type": "execute_result"
        }
      ],
      "source": [
        "\u2395\u2190 m_ \u2190 3 3\u23740 \u00af3 2 \u00af.25 \u00af.25 .5 .5 1.5 \u00af1"
      ]
    },
    {
      "cell_type": "markdown",
      "id": "dirty-going",
      "metadata": {},
      "source": [
        "If we multiply these two matrices together, in either order, we get the identity matrix:"
      ]
    },
    {
      "cell_type": "code",
      "execution_count": 165,
      "id": "dressed-greenhouse",
      "metadata": {},
      "outputs": [
        {
          "data": {
            "text/html": [
              "<span style=\"white-space:pre; font-family: monospace\">1 0 0\n",
              "0 1 0\n",
              "0 0 1\n",
              "</span>"
            ]
          },
          "execution_count": 165,
          "metadata": {},
          "output_type": "execute_result"
        }
      ],
      "source": [
        "m+.\u00d7m_"
      ]
    },
    {
      "cell_type": "code",
      "execution_count": 166,
      "id": "nearby-tomorrow",
      "metadata": {},
      "outputs": [
        {
          "data": {
            "text/html": [
              "<span style=\"white-space:pre; font-family: monospace\">1 0 0\n",
              "0 1 0\n",
              "0 0 1\n",
              "</span>"
            ]
          },
          "execution_count": 166,
          "metadata": {},
          "output_type": "execute_result"
        }
      ],
      "source": [
        "m_+.\u00d7m"
      ]
    },
    {
      "cell_type": "markdown",
      "id": "threatened-talent",
      "metadata": {},
      "source": [
        "Note that, in general, `a+.\u00d7b` and `b+.\u00d7a` give different results!\n",
        "\n",
        "Here is a second example with 2 by 2 matrices:"
      ]
    },
    {
      "cell_type": "code",
      "execution_count": 167,
      "id": "quick-clause",
      "metadata": {},
      "outputs": [
        {
          "data": {
            "text/html": [
              "<span style=\"white-space:pre; font-family: monospace\">2 1\n",
              "4 1\n",
              "</span>"
            ]
          },
          "execution_count": 167,
          "metadata": {},
          "output_type": "execute_result"
        }
      ],
      "source": [
        "\u2395\u2190 m \u2190 2 2\u23742 1 4 1"
      ]
    },
    {
      "cell_type": "code",
      "execution_count": 168,
      "id": "clinical-denver",
      "metadata": {},
      "outputs": [
        {
          "data": {
            "text/html": [
              "<span style=\"white-space:pre; font-family: monospace\">\u00af0.5  0.5\n",
              " 2   \u00af1\n",
              "</span>"
            ]
          },
          "execution_count": 168,
          "metadata": {},
          "output_type": "execute_result"
        }
      ],
      "source": [
        "\u2395\u2190 m_ \u2190 2 2\u2374\u00af.5 .5 2 \u00af1"
      ]
    },
    {
      "cell_type": "code",
      "execution_count": 169,
      "id": "judicial-promise",
      "metadata": {},
      "outputs": [
        {
          "data": {
            "text/html": [
              "<span style=\"white-space:pre; font-family: monospace\">1 0\n",
              "0 1\n",
              "</span>"
            ]
          },
          "execution_count": 169,
          "metadata": {},
          "output_type": "execute_result"
        }
      ],
      "source": [
        "m+.\u00d7m_"
      ]
    },
    {
      "cell_type": "markdown",
      "id": "recent-disco",
      "metadata": {},
      "source": [
        "Now, the result is the identity matrix of size 2, because the matrices `m` and `m_` are 2 by 2 (and not 3 by 3).\n",
        "\n",
        "For the moment, we will only concern ourselves with inverses for square matrices.\n",
        "We shall in {numref}`Mathematical-Functions-Domino-and-Rectangular-Matrices` that it is also possible to define inverses for non-square matrices."
      ]
    },
    {
      "cell_type": "markdown",
      "id": "developed-script",
      "metadata": {},
      "source": [
        "(Mathematical-Functions-Matrix-Inverse)=\n",
        "### Matrix Inverse\n",
        "\n",
        "(Mathematical-Functions-Monadic-Domino)=\n",
        "#### Monadic Domino\n",
        "\n",
        "APL provides a _matrix inverse_ primitive function, represented by the symbol `\u2339` and typed with <kbd>APL</kbd>+<kbd>Shift</kbd>+<kbd>=</kbd>, which is the same key as `\u00f7`.\n",
        "Because of its appearance, this symbol is named _domino_.\n",
        "\n",
        "The monadic usage of _domino_ returns the inverse of a matrix:"
      ]
    },
    {
      "cell_type": "code",
      "execution_count": 170,
      "id": "norman-masters",
      "metadata": {},
      "outputs": [
        {
          "data": {
            "text/html": [
              "<span style=\"white-space:pre; font-family: monospace\">\u00af0.5  0.5\n",
              " 2   \u00af1\n",
              "</span>"
            ]
          },
          "execution_count": 170,
          "metadata": {},
          "output_type": "execute_result"
        }
      ],
      "source": [
        "\u2339m"
      ]
    },
    {
      "cell_type": "markdown",
      "id": "intense-situation",
      "metadata": {},
      "source": [
        "Calculating the inverse of a matrix is a complex operation, and the result might be only an approximation.\n",
        "For example, the inverse of the matrix `m` has the value `\u00af1` in the bottom right corner.\n",
        "However, it would not be surprising if the function _matrix inverse_ had returned this result, instead:"
      ]
    },
    {
      "cell_type": "code",
      "execution_count": 171,
      "id": "substantial-consumer",
      "metadata": {},
      "outputs": [
        {
          "data": {
            "text/html": [
              "<span style=\"white-space:pre; font-family: monospace\">\u00af0.5  0.5\n",
              " 2   \u00af0.999999\n",
              "</span>"
            ]
          },
          "execution_count": 171,
          "metadata": {},
          "output_type": "execute_result"
        }
      ],
      "source": [
        "2 2\u2374\u00af.5 .5 2 \u00af.999999"
      ]
    },
    {
      "cell_type": "markdown",
      "id": "difficult-thomas",
      "metadata": {},
      "source": [
        "(Mathematical-Functions-Singular-Matrices)=\n",
        "#### Singular Matrices\n",
        "\n",
        "In normal arithmetic, zero has no inverse and `\u00f70` in APL causes a `DOMAIN ERROR`.\n",
        "\n",
        "In the same way, some matrices cannot be inverted.\n",
        "Those matrices are said to be _singular_:"
      ]
    },
    {
      "cell_type": "code",
      "execution_count": 172,
      "id": "settled-postage",
      "metadata": {},
      "outputs": [
        {
          "name": "stderr",
          "output_type": "stream",
          "text": [
            "1 3  5\n",
            "3 4 15\n",
            "2 7 10\n",
            "DOMAIN ERROR\n",
            "      \u2339\u2395\u21903 3\u23741 3 5 3 4 15 2 7 10\n",
            "      \u2227\n"
          ]
        }
      ],
      "source": [
        "\u2339 \u2395\u2190 3 3\u23741 3 5 3 4 15 2 7 10"
      ]
    },
    {
      "cell_type": "markdown",
      "id": "ambient-binary",
      "metadata": {},
      "source": [
        "(Mathematical-Functions-Solving-a-Set-of-Linear-Equations)=\n",
        "#### Solving a Set of Linear Equations\n",
        "\n",
        "Here is a set of three linear equations with three unknowns, written in traditional mathematical notation:\n",
        "\n",
        "$$\n",
        "\\begin{alignat}{4}\n",
        "-8 &= 3&&x + 2&&y -\\ &&z \\\\\n",
        "19 &= &&x -\\ &&y + 3&&z \\\\\n",
        "0 &= 5&&x + 2&&y\n",
        "\\end{alignat}\n",
        "$$\n",
        "\n",
        "This set of equations can be represented using a vector for the constants and a matrix for the coefficients of the three unknowns, as shown below:"
      ]
    },
    {
      "cell_type": "code",
      "execution_count": 173,
      "id": "popular-wages",
      "metadata": {},
      "outputs": [],
      "source": [
        "cons \u2190 \u00af8 19 0"
      ]
    },
    {
      "cell_type": "code",
      "execution_count": 174,
      "id": "therapeutic-specific",
      "metadata": {},
      "outputs": [
        {
          "data": {
            "text/html": [
              "<span style=\"white-space:pre; font-family: monospace\">3  2 \u00af1\n",
              "1 \u00af1  3\n",
              "5  2  0\n",
              "</span>"
            ]
          },
          "execution_count": 174,
          "metadata": {},
          "output_type": "execute_result"
        }
      ],
      "source": [
        "\u2395\u2190 coefs \u2190 3 3\u23743 2 \u00af1 1 \u00af1 3 5 2 0"
      ]
    },
    {
      "cell_type": "markdown",
      "id": "natural-december",
      "metadata": {},
      "source": [
        "To solve the set of equations above, we must find a 3-element vector `xyz` such that `cons \u2261\u00a0coefs +.\u00d7 xyz`.\n",
        "\n",
        "We can find such a vector provided that the matrix `coefs` has an inverse, i.e., that it is not singular.\n",
        "Let us multiply both sides of the equality `cons \u2261\u00a0coefs +.\u00d7 xyz` by the inverse of `coefs`:\n",
        "\n",
        "```APL\n",
        "                cons \u2261              coefs +.\u00d7 xyz \u2190\u2192\n",
        "\u2190\u2192 (\u2339coefs) +.\u00d7 cons \u2261 (\u2339coefs) +.\u00d7 coefs +.\u00d7 xyz\n",
        "```\n",
        "\n",
        "Now, because we know that `id \u2190 (\u2339coefs) +.\u00d7 coefs` is the identity matrix, we can simplify the expression:\n",
        "\n",
        "```APL\n",
        "   (\u2339coefs) +.\u00d7 cons \u2261 (\u2339coefs) +.\u00d7 coefs +.\u00d7 xyz \u2190\u2192\n",
        "\u2190\u2192 (\u2339coefs) +.\u00d7 cons \u2261\u00a0id +.\u00d7 xyz \u2190\u2192\n",
        "\u2190\u2192 (\u2339coefs) +.\u00d7 cons \u2261\u00a0xyz\n",
        "```\n",
        "\n",
        "Eureka!\n",
        "We found a way of calculating the values that we had to find:"
      ]
    },
    {
      "cell_type": "code",
      "execution_count": 175,
      "id": "fifteen-african",
      "metadata": {},
      "outputs": [
        {
          "data": {
            "text/html": [
              "<span style=\"white-space:pre; font-family: monospace\">2 \u00af5 4\n",
              "</span>"
            ]
          },
          "execution_count": 175,
          "metadata": {},
          "output_type": "execute_result"
        }
      ],
      "source": [
        "\u2395\u2190 xyz \u2190 (\u2339coefs) +.\u00d7 cons"
      ]
    },
    {
      "cell_type": "markdown",
      "id": "liked-magic",
      "metadata": {},
      "source": [
        "In general, the solution to a set of linear equations is given by `solution \u2190 (\u2339coefficients) +.\u00d7 constants`.\n",
        "\n",
        "Note that, in the formula above, we multiply `constants` by the inverse (or reciprocal) of a matrix.\n",
        "When dealing with numbers, multiplying by the reciprocal of a number is usually known as division, which motivates the name of the dyadic usage of the _domino_ `\u2339`."
      ]
    },
    {
      "cell_type": "markdown",
      "id": "intellectual-bulgaria",
      "metadata": {},
      "source": [
        "(Mathematical-Functions-Matrix-Division)=\n",
        "### Matrix Division\n",
        "\n",
        "The dyadic form of _domino_ is called _matrix divide_, so it can do exactly what we have just done: it can easily sets of linear equations like the one shown above.\n",
        "We solve that set of linear equations again, this time using _matrix divide_:"
      ]
    },
    {
      "cell_type": "code",
      "execution_count": 176,
      "id": "lesbian-homework",
      "metadata": {},
      "outputs": [
        {
          "data": {
            "text/html": [
              "<span style=\"white-space:pre; font-family: monospace\">2 \u00af5 4\n",
              "</span>"
            ]
          },
          "execution_count": 176,
          "metadata": {},
          "output_type": "execute_result"
        }
      ],
      "source": [
        "cons\u2339coefs"
      ]
    },
    {
      "cell_type": "markdown",
      "id": "saved-smart",
      "metadata": {},
      "source": [
        "Naturally, this method works only if the coefficient matrix has an inverse.\n",
        "In other words, the set of equations must have a single solution.\n",
        "If three is no solution, a `DOMAIN ERROR` will be reported.\n",
        "\n",
        "We can summarise this as follows: given a system of `n` linear equations with `n` unknowns, where the matrix of coefficients is called `coefs` and the vector of constants is called `cons`, the solution `sol` of the system is given by `sol \u2190 cons\u2339coefs`."
      ]
    },
    {
      "cell_type": "markdown",
      "id": "determined-weapon",
      "metadata": {},
      "source": [
        "(Mathematical-Functions-Two-or-Three-Steps-in-Geometry)=\n",
        "### Two or Three Steps in Geometry\n",
        "\n",
        "(Mathematical-Functions-A-Complex-Solution-to-a-Simple-Problem)=\n",
        "#### A Complex Solution to a Simple Problem\n",
        "\n",
        "To begin with, we invite you to study a complicated method to solve a simple problem.\n",
        "Our intention is then to generalise this method to develop a solution for an everyday problem in statistical studies.\n",
        "\n",
        "The goal is to find the coefficients of a straight line passing through two points `P` and `Q`, of which the coordinates are given below:"
      ]
    },
    {
      "cell_type": "code",
      "execution_count": 177,
      "id": "fewer-editor",
      "metadata": {},
      "outputs": [],
      "source": [
        "xs \u2190 2 4  \u235d x coordinates of P and Q\n",
        "ys \u2190 2 3  \u235d y coordinates of P and Q"
      ]
    },
    {
      "cell_type": "markdown",
      "id": "demonstrated-forum",
      "metadata": {},
      "source": [
        "The points `P` and `Q` are shown in {numref}`fig-Graph_P_Q`.\n",
        "\n",
        "(fig-Graph_P_Q)=\n",
        "```{figure} ../res/Graph_P_Q.png\n",
        "---\n",
        "name: Graph_P_Q\n",
        "---\n",
        "A graph with the points `P` and `Q`.\n",
        "```\n",
        "\n",
        "The general equation describing a straight line is $y = mx + b$.\n",
        "With our two points given, the following is obtained:\n",
        "\n",
        "$$\n",
        "\\begin{align}\n",
        "2 &= 2m + b\n",
        "3 &= 4m + b\n",
        "\\end{align}\n",
        "$$\n",
        "\n",
        "This is a set of two linear equations in which the unknowns are $m$ and $b$.\n",
        "Let us solve this set of equations by the method demonstrated in the previous section:"
      ]
    },
    {
      "cell_type": "code",
      "execution_count": 178,
      "id": "sound-madness",
      "metadata": {},
      "outputs": [],
      "source": [
        "cons \u2190 ys"
      ]
    },
    {
      "cell_type": "code",
      "execution_count": 179,
      "id": "intensive-rainbow",
      "metadata": {},
      "outputs": [
        {
          "data": {
            "text/html": [
              "<span style=\"white-space:pre; font-family: monospace\">2 1\n",
              "4 1\n",
              "</span>"
            ]
          },
          "execution_count": 179,
          "metadata": {},
          "output_type": "execute_result"
        }
      ],
      "source": [
        "\u2395\u2190 coefs \u2190 xs,[1.5]1"
      ]
    },
    {
      "cell_type": "markdown",
      "id": "assisted-wheat",
      "metadata": {},
      "source": [
        "Now, $m$ and $b$ can be calculated using the method we saw above:"
      ]
    },
    {
      "cell_type": "code",
      "execution_count": 180,
      "id": "brave-contemporary",
      "metadata": {},
      "outputs": [
        {
          "data": {
            "text/html": [
              "<span style=\"white-space:pre; font-family: monospace\">0.5 1\n",
              "</span>"
            ]
          },
          "execution_count": 180,
          "metadata": {},
          "output_type": "execute_result"
        }
      ],
      "source": [
        "\u2395\u2190 c \u2190 cons\u2339coefs"
      ]
    },
    {
      "cell_type": "markdown",
      "id": "empty-packet",
      "metadata": {},
      "source": [
        "We can also compute the coefficients of the line directly from the vectors `xs` and `ys`:"
      ]
    },
    {
      "cell_type": "code",
      "execution_count": 181,
      "id": "combined-netherlands",
      "metadata": {},
      "outputs": [
        {
          "data": {
            "text/html": [
              "<span style=\"white-space:pre; font-family: monospace\">0.5 1\n",
              "</span>"
            ]
          },
          "execution_count": 181,
          "metadata": {},
          "output_type": "execute_result"
        }
      ],
      "source": [
        "\u2395\u2190 c \u2190 ys\u2339xs,[1.5]1"
      ]
    },
    {
      "cell_type": "markdown",
      "id": "dynamic-profile",
      "metadata": {},
      "source": [
        "In traditional notation, this gives us the equation $y = 0.5x + 1$ for the line.\n",
        "Did you find this tedious?\n",
        "Maybe, but now let us discover its scope."
      ]
    },
    {
      "cell_type": "markdown",
      "id": "alleged-niagara",
      "metadata": {},
      "source": [
        "(Mathematical-Functions-Calculating-Additional-Y-Coordinates)=\n",
        "#### Calculating Additional Y Coordinates\n",
        "\n",
        "Having found the coefficients of the line shown in the previous section, let us try to calculate the y coordinates of several points for which the x coordinates are known.\n",
        "\n",
        "The coefficients of our line were obtained by this calculation:"
      ]
    },
    {
      "cell_type": "code",
      "execution_count": 182,
      "id": "executive-moderator",
      "metadata": {},
      "outputs": [],
      "source": [
        "c \u2190 ys\u2339coefs"
      ]
    },
    {
      "cell_type": "markdown",
      "id": "innocent-richards",
      "metadata": {},
      "source": [
        "We saw earlier that this is strictly equivalent to `c \u2190 (\u2339coefs) +.\u00d7 ys`.\n",
        "Let us multiply both terms of this expression by `coefs`:\n",
        "\n",
        "```APL\n",
        "             c \u2261 (\u2339coefs) +.\u00d7 ys \u2190\u2192\n",
        "\u2190\u2192 coefs +.\u00d7 c \u2261 coefs +.\u00d7 (\u2339coefs) +.\u00d7 ys \u2190\u2192\n",
        "\u2190\u2192 coefs +.\u00d7 c \u2261 ys\n",
        "```\n",
        "\n",
        "This shows that the y coordinates `ys` of some points placed on a line defined by the coefficients `c` can be calculated from their x coordinates `xs` by the formula `coefs +.\u00d7 c` or, in a more explicit form: `ys \u2190 c +.\u00d7\u2368 xs,[1.5]1`.\n",
        "\n",
        "Let us apply this technique to a set of points:"
      ]
    },
    {
      "cell_type": "code",
      "execution_count": 183,
      "id": "objective-spoke",
      "metadata": {},
      "outputs": [
        {
          "data": {
            "text/html": [
              "<span style=\"white-space:pre; font-family: monospace\">1 0 2.5 4\n",
              "</span>"
            ]
          },
          "execution_count": 183,
          "metadata": {},
          "output_type": "execute_result"
        }
      ],
      "source": [
        "c +.\u00d7\u2368 0 \u00af2 3 6,[1.5]1"
      ]
    },
    {
      "cell_type": "markdown",
      "id": "transparent-species",
      "metadata": {},
      "source": [
        "You can check these values in {numref}`fig-Graph_P_Q`."
      ]
    },
    {
      "cell_type": "markdown",
      "id": "superior-waterproof",
      "metadata": {},
      "source": [
        "(Mathematical-Functions-Least-Squares-Fitting)=\n",
        "### Least Squares Fitting\n",
        "\n",
        "(Mathematical-Functions-Linear-Regression)=\n",
        "#### Linear Regression\n",
        "\n",
        "Our line was defined by two points.\n",
        "What happens if we no longer have 2 points, but many?\n",
        "Of course, there is a high probability that these points are not aligned.\n",
        "\n",
        "As an example, suppose that we have twelve employees and we know their ages (in years) and salaries (in peanuts):"
      ]
    },
    {
      "cell_type": "code",
      "execution_count": 184,
      "id": "martial-biology",
      "metadata": {},
      "outputs": [],
      "source": [
        "age \u2190 20 21 28 31 33 34 36 37 40 44 45 51\n",
        "salaries \u2190 3071 2997 2442 3589 3774 3071 3108 5291 5180 7548 5772 5883"
      ]
    },
    {
      "cell_type": "code",
      "execution_count": 185,
      "id": "communist-contribution",
      "metadata": {},
      "outputs": [
        {
          "data": {
            "text/html": [
              "<span style=\"white-space:pre; font-family: monospace\">  20   21   28   31   33   34   36   37   40   44   45   51\n",
              "3071 2997 2442 3589 3774 3071 3108 5291 5180 7548 5772 5883\n",
              "</span>"
            ]
          },
          "execution_count": 185,
          "metadata": {},
          "output_type": "execute_result"
        }
      ],
      "source": [
        "age,[.5]salaries"
      ]
    },
    {
      "cell_type": "markdown",
      "id": "acknowledged-letters",
      "metadata": {},
      "source": [
        "We shall place the ages on the x axis and salaries on the y axis (see {numref}`fig-Graph_Age_Salary`).\n",
        "\n",
        "This time, the matrix"
      ]
    },
    {
      "cell_type": "code",
      "execution_count": 186,
      "id": "talented-interest",
      "metadata": {},
      "outputs": [
        {
          "data": {
            "text/html": [
              "<span style=\"white-space:pre; font-family: monospace\">20 1\n",
              "21 1\n",
              "28 1\n",
              "31 1\n",
              "33 1\n",
              "34 1\n",
              "36 1\n",
              "37 1\n",
              "40 1\n",
              "44 1\n",
              "45 1\n",
              "51 1\n",
              "</span>"
            ]
          },
          "execution_count": 186,
          "metadata": {},
          "output_type": "execute_result"
        }
      ],
      "source": [
        "age,[1.5]1"
      ]
    },
    {
      "cell_type": "markdown",
      "id": "obvious-intro",
      "metadata": {},
      "source": [
        "will have more rows (12) than columns (2), and the set of equations has no solution, which confirms that no single straight line can join all those points.\n",
        "\n",
        "In this type of situation, it may be desirable to define a straight line which best represents the spread of points.\n",
        "Generally, a straight line is sought such that the sum of the squares of the deviations of the y coordinates between the given points and the line is minimised.\n",
        "This particular line is called the _least squares line_ and the process of finding it is called _linear regression_.\n",
        "\n",
        "To find this line, we shall use `\u2339` once more.\n",
        "The expression used to calculate the coefficients of a line passing through two points can be applied to a rectangular matrix, and the function _matrix divide_ gives the coefficients of the _least squares line_ passing through the set of points.\n",
        "Is it not magic?\n",
        "\n",
        "For the given points, here is the calculation:"
      ]
    },
    {
      "cell_type": "code",
      "execution_count": 187,
      "id": "blond-draft",
      "metadata": {},
      "outputs": [
        {
          "data": {
            "text/html": [
              "<span style=\"white-space:pre; font-family: monospace\">134.946 \u00af412.6\n",
              "</span>"
            ]
          },
          "execution_count": 187,
          "metadata": {},
          "output_type": "execute_result"
        }
      ],
      "source": [
        "\u2395\u2190 c \u2190 salaries\u2339age,[1.5]1"
      ]
    },
    {
      "cell_type": "markdown",
      "id": "thousand-bachelor",
      "metadata": {},
      "source": [
        "This gives the line $y = 134.946x - 412.6$.\n",
        "\n",
        "We can calculate the approximate salaries located on the line, at the same x coordinates as the given points and compare with the actual salaries:"
      ]
    },
    {
      "cell_type": "code",
      "execution_count": 188,
      "id": "presidential-skiing",
      "metadata": {},
      "outputs": [
        {
          "data": {
            "text/html": [
              "<span style=\"white-space:pre; font-family: monospace\"> 3071 2997 2442 3589 3774 3071 3108 5291 5180 7548 5772 5883\n",
              " 2286 2421 3366 3771 4041 4176 4445 4580 4985 5525 5660 6470\n",
              "</span>"
            ]
          },
          "execution_count": 188,
          "metadata": {},
          "output_type": "execute_result"
        }
      ],
      "source": [
        "0\u2355 salaries ,[.5] c+.\u00d7\u2368age,[1.5]1"
      ]
    },
    {
      "cell_type": "markdown",
      "id": "about-illinois",
      "metadata": {},
      "source": [
        "(fig-Graph_Age_Salary)=\n",
        "```{figure} ../res/Graph_Age_Salary.png\n",
        "---\n",
        "name: Graph_Age_Salary\n",
        "---\n",
        "Graph with the salaries (in peanuts) as a function of the age\n",
        "```\n"
      ]
    },
    {
      "cell_type": "markdown",
      "id": "retained-surrey",
      "metadata": {},
      "source": [
        "(Mathematical-Functions-Extension)=\n",
        "#### Extension\n",
        "\n",
        "In the previous example, we measured the effect of a single factor (age) on a single observation (salary) using a linear model.\n",
        "\n",
        "What if we want to use the same model to explore the relationship between several factors and a single observation?\n",
        "The following example is inspired by a controller in IBM France who tried to see if the heads of his commercial agencies had \"reasonable\" expense claim forms.\n",
        "\n",
        "The amounts were stored in a vector `amounts`.\n",
        "He tried to measure the effect of 4 factors on these expenses amounts:\n",
        "\n",
        " - the number of salesmen in each agency, `nbmen`;\n",
        " - the size of the area covered by each agency, `radius`;\n",
        " - the number of customers in each agency, `nbcus`; and\n",
        " - the annual income produced by each agency, `income`.\n",
        "\n",
        "In other words, he tried to find the vector `tc` of 5 theoretical coefficients, $c_1, \\cdots, c_5$, which most closely satisfy this equation:\n",
        "\n",
        "$$\n",
        "{\\rm amounts} = {\\rm nbmen}\\times c_1 + {\\rm radius}\\times c_2 + {\\rm nbcus}\\times c_3 + {\\rm income}\\times c_4 + c_5\n",
        "$$\n",
        "\n",
        "Or, in APL, we want to find the 5-element vector `tc` that most closely satisfies this equality:\n",
        "\n",
        "```APL\n",
        "amounts \u2261 tc +.\u00d7 nbmen radius nbcus income 1\n",
        "```\n",
        "\n",
        "Here is the data:"
      ]
    },
    {
      "cell_type": "code",
      "execution_count": 189,
      "id": "resident-thomas",
      "metadata": {},
      "outputs": [],
      "source": [
        "amounts \u2190 40420 23000 28110 32460 25800 33610 61520 44970\n",
        "nbmen \u2190 25 20 24 28 14 8 31 17\n",
        "radius \u2190 90 50 12 12 30 30 120 75\n",
        "nbcus \u2190 430 87 72 210 144 91 207 161\n",
        "income \u2190 2400 9000 9500 4100 6500 3300 9800 4900"
      ]
    },
    {
      "cell_type": "markdown",
      "id": "heavy-tension",
      "metadata": {},
      "source": [
        "Let us apply exactly what we did on ages and salaries, and calculate the following variables:"
      ]
    },
    {
      "cell_type": "code",
      "execution_count": 190,
      "id": "responsible-eleven",
      "metadata": {},
      "outputs": [
        {
          "data": {
            "text/html": [
              "<span style=\"white-space:pre; font-family: monospace\">25  90 430 2400 1\n",
              "20  50  87 9000 1\n",
              "24  12  72 9500 1\n",
              "28  12 210 4100 1\n",
              "14  30 144 6500 1\n",
              " 8  30  91 3300 1\n",
              "31 120 207 9800 1\n",
              "17  75 161 4900 1\n",
              "</span>"
            ]
          },
          "execution_count": 190,
          "metadata": {},
          "output_type": "execute_result"
        }
      ],
      "source": [
        "\u2395\u2190 coefs \u2190 nbmen,radius,nbcus,income,[1.5]1"
      ]
    },
    {
      "cell_type": "markdown",
      "id": "accessible-zimbabwe",
      "metadata": {},
      "source": [
        "Next, we compute the 5 coefficients of the least squares line:"
      ]
    },
    {
      "cell_type": "code",
      "execution_count": 191,
      "id": "cognitive-cabin",
      "metadata": {},
      "outputs": [
        {
          "data": {
            "text/html": [
              "<span style=\"white-space:pre; font-family: monospace\"> 1154.23 362.14 \u00af99.39 \u00af3.33 31193.65\n",
              "</span>"
            ]
          },
          "execution_count": 191,
          "metadata": {},
          "output_type": "execute_result"
        }
      ],
      "source": [
        "\u2395\u2190 2\u2355tc \u2190 amounts\u2339coefs"
      ]
    },
    {
      "cell_type": "markdown",
      "id": "dirty-dragon",
      "metadata": {},
      "source": [
        "Now, we compute the y coordinates of the points on the least squares line:"
      ]
    },
    {
      "cell_type": "code",
      "execution_count": 192,
      "id": "opening-celtic",
      "metadata": {},
      "outputs": [],
      "source": [
        "ys \u2190 coefs+.\u00d7tc"
      ]
    },
    {
      "cell_type": "markdown",
      "id": "solved-norfolk",
      "metadata": {},
      "source": [
        "Finally, we compute the differences between the expenses predicted by the expenses claims and the actual claims, and we compute the percentage deviation:"
      ]
    },
    {
      "cell_type": "code",
      "execution_count": 193,
      "id": "robust-memphis",
      "metadata": {},
      "outputs": [],
      "source": [
        "diff \u2190 amounts-ys\n",
        "pcent \u2190 100\u00d7diff\u00f7ys"
      ]
    },
    {
      "cell_type": "markdown",
      "id": "spiritual-compound",
      "metadata": {},
      "source": [
        "Finally, we display all the data, with a \"-\" next to the agencies for which the expenses are significantly above the predicted value (possibly because the agencies have bad managers) and a \"+\" sign next to the agencies for which the expenses are significantly below the predicted value (possibly because the agencies have good managers):"
      ]
    },
    {
      "cell_type": "code",
      "execution_count": 194,
      "id": "ruled-migration",
      "metadata": {},
      "outputs": [
        {
          "data": {
            "text/html": [
              "<span style=\"white-space:pre; font-family: monospace\"> +- -   \n",
              "</span>"
            ]
          },
          "execution_count": 194,
          "metadata": {},
          "output_type": "execute_result"
        }
      ],
      "source": [
        "\u2395\u2190 flag \u2190 '+ -'[1+\u00af10 10\u2378pcent]"
      ]
    },
    {
      "cell_type": "code",
      "execution_count": 195,
      "id": "brutal-question",
      "metadata": {},
      "outputs": [
        {
          "data": {
            "text/html": [
              "<span style=\"white-space:pre; font-family: monospace\">   Real Normal   Diff      % \n",
              "</span>"
            ]
          },
          "execution_count": 195,
          "metadata": {},
          "output_type": "execute_result"
        }
      ],
      "source": [
        "\u2395\u2190 title \u2190 29\u2191'   Real Normal   Diff      %'"
      ]
    },
    {
      "cell_type": "code",
      "execution_count": 196,
      "id": "collaborative-stocks",
      "metadata": {},
      "outputs": [
        {
          "data": {
            "text/html": [
              "<span style=\"white-space:pre; font-family: monospace\">   Real Normal   Diff      % \n",
              "  40420  41914  \u00af1494     \u00af4 \n",
              "  23000  33773 \u00af10773    \u00af32+\n",
              "  28110  24455   3655     15-\n",
              "  32460  33335   \u00af875     \u00af3 \n",
              "  25800  22264   3536     16-\n",
              "  33610  31260   2350      8 \n",
              "  61520  57229   4291      7 \n",
              "  44970  45660   \u00af690     \u00af2 \n",
              "</span>"
            ]
          },
          "execution_count": 196,
          "metadata": {},
          "output_type": "execute_result"
        }
      ],
      "source": [
        "title\u236a(7 0\u2355amounts,ys,diff,[1.5]pcent),flag"
      ]
    },
    {
      "cell_type": "markdown",
      "id": "raising-japan",
      "metadata": {},
      "source": [
        "(Mathematical-Functions-Non-linear-Adjustment)=\n",
        "#### Non-linear Adjustment\n",
        "\n",
        "In this last example we used independent factors and tried to combine them with a linear expression.\n",
        "We could as well have used vectors linked one to the other by any mathematical expression, like `results \u2190 (c1\u00d7var)+(c2\u00d7var*2)+(c3\u00d7\u235fvar)+c4` (if this makes sense).\n",
        "A typical case is trying to fit a set of points with a polynomial curve.\n",
        "Here are 8 points:"
      ]
    },
    {
      "cell_type": "code",
      "execution_count": 197,
      "id": "tough-expression",
      "metadata": {},
      "outputs": [],
      "source": [
        "xs \u2190 \u00af1 \u00af1 0.5  1.5  2 2 3 4\n",
        "ys \u2190 \u00af3 \u00af1 0   \u00af1   \u00af1 1 3 5"
      ]
    },
    {
      "cell_type": "markdown",
      "id": "historical-cover",
      "metadata": {},
      "source": [
        "A linear regression would give a line with the following coefficients:"
      ]
    },
    {
      "cell_type": "code",
      "execution_count": 198,
      "id": "outdoor-filling",
      "metadata": {},
      "outputs": [
        {
          "data": {
            "text/html": [
              "<span style=\"white-space:pre; font-family: monospace\"> 1.22 \u00af1.31\n",
              "</span>"
            ]
          },
          "execution_count": 198,
          "metadata": {},
          "output_type": "execute_result"
        }
      ],
      "source": [
        "2\u2355 ys\u2339xs,[1.5]1"
      ]
    },
    {
      "cell_type": "markdown",
      "id": "entitled-chassis",
      "metadata": {},
      "source": [
        "The right argument was obtained by laminating 1 to `xs`.\n",
        "However, we could just as well have obtained it with the following _outer product_:"
      ]
    },
    {
      "cell_type": "code",
      "execution_count": 199,
      "id": "streaming-commander",
      "metadata": {},
      "outputs": [
        {
          "data": {
            "text/html": [
              "<span style=\"white-space:pre; font-family: monospace\">\u00af1   1\n",
              "\u00af1   1\n",
              " 0.5 1\n",
              " 1.5 1\n",
              " 2   1\n",
              " 2   1\n",
              " 3   1\n",
              " 4   1\n",
              "</span>"
            ]
          },
          "execution_count": 199,
          "metadata": {},
          "output_type": "execute_result"
        }
      ],
      "source": [
        "xs\u2218.*1 0"
      ]
    },
    {
      "cell_type": "markdown",
      "id": "outstanding-bouquet",
      "metadata": {},
      "source": [
        "Now, instead of taking only powers 1 and 0 of `xs`, we could extend the scope of the powers up to the third degree, for example:"
      ]
    },
    {
      "cell_type": "code",
      "execution_count": 200,
      "id": "frequent-interim",
      "metadata": {},
      "outputs": [
        {
          "data": {
            "text/html": [
              "<span style=\"white-space:pre; font-family: monospace\">\u00af1      1    \u00af1   1\n",
              "\u00af1      1    \u00af1   1\n",
              " 0.125  0.25  0.5 1\n",
              " 3.375  2.25  1.5 1\n",
              " 8      4     2   1\n",
              " 8      4     2   1\n",
              "27      9     3   1\n",
              "64     16     4   1\n",
              "</span>"
            ]
          },
          "execution_count": 200,
          "metadata": {},
          "output_type": "execute_result"
        }
      ],
      "source": [
        "xs\u2218.*3 2 1 0"
      ]
    },
    {
      "cell_type": "markdown",
      "id": "defined-painting",
      "metadata": {},
      "source": [
        "We would then obtain not the coefficients of a straight line, but those of a third degree polynomial curve, shown in {numref}`fig-Graph_Cubic`.\n",
        "\n",
        "(fig-Graph_Cubic)=\n",
        "```{figure} ../res/Graph_Cubic.png\n",
        "---\n",
        "name: Graph_Cubic\n",
        "---\n",
        "A third degree polynomial adjusted to some points.\n",
        "```\n",
        "\n",
        "To get the coefficients, we do the usual computation:"
      ]
    },
    {
      "cell_type": "code",
      "execution_count": 201,
      "id": "prepared-channels",
      "metadata": {},
      "outputs": [
        {
          "data": {
            "text/html": [
              "<span style=\"white-space:pre; font-family: monospace\"> 0.10 \u00af0.16 0.58 \u00af1.07\n",
              "</span>"
            ]
          },
          "execution_count": 201,
          "metadata": {},
          "output_type": "execute_result"
        }
      ],
      "source": [
        "2\u2355 c\u2190ys\u2339xs\u2218.*3 2 1 0"
      ]
    },
    {
      "cell_type": "markdown",
      "id": "severe-alert",
      "metadata": {},
      "source": [
        "In other words, this set of points can be approximated by the line $0.1x^3 - 0.16x^2 + 0.58x - 1.07$."
      ]
    },
    {
      "cell_type": "markdown",
      "id": "ordered-anniversary",
      "metadata": {},
      "source": [
        "(Mathematical-Functions-Exercises)=\n",
        "## Exercises\n",
        "\n",
        "```{exercise}\n",
        ":label: ex-encode\n",
        "Can you predict (and explain) the results of the two expressions below?\n",
        "```\n"
      ]
    },
    {
      "cell_type": "code",
      "execution_count": 202,
      "id": "large-knock",
      "metadata": {
        "tags": [
          "skip-execution"
        ]
      },
      "outputs": [
        {
          "data": {
            "text/html": [
              "<span style=\"white-space:pre; font-family: monospace\">19\n",
              "</span>"
            ]
          },
          "execution_count": 202,
          "metadata": {},
          "output_type": "execute_result"
        }
      ],
      "source": [
        "0 \u22a5 12 34 60 77 19"
      ]
    },
    {
      "cell_type": "code",
      "execution_count": 203,
      "id": "pointed-stock",
      "metadata": {
        "tags": [
          "skip-execution"
        ]
      },
      "outputs": [
        {
          "data": {
            "text/html": [
              "<span style=\"white-space:pre; font-family: monospace\">202\n",
              "</span>"
            ]
          },
          "execution_count": 203,
          "metadata": {},
          "output_type": "execute_result"
        }
      ],
      "source": [
        "1 \u22a5 12 34 60 77 19"
      ]
    },
    {
      "cell_type": "markdown",
      "id": "binary-invitation",
      "metadata": {},
      "source": [
        "```{exercise}\n",
        ":label: ex-hex\n",
        "In a binary number system, a group of 4 bits represents values from 0 to 15.\n",
        "Those 4 bits represent the 16 states of a base 16 number system known as the hexadecimal number system.\n",
        "This system is very often used in computer science, with the numbers 0-9 represented by the characters \"0\"-\"9\", and the numbers 10-15 represented by the characters \"A\" to \"F\".\n",
        "Write a function to convert hexadecimal values to decimal, and the reverse.\n",
        "Assume hexadecimal values are represented as 4 character vectors:\n",
        "```\n"
      ]
    },
    {
      "cell_type": "code",
      "execution_count": 204,
      "id": "internal-cruise",
      "metadata": {},
      "outputs": [],
      "source": [
        "D2H \u2190 {'0123456789ABCDEF'[1+16 16 16 16\u22a4\u2375]}"
      ]
    },
    {
      "cell_type": "code",
      "execution_count": 205,
      "id": "prime-delicious",
      "metadata": {
        "tags": [
          "skip-execution"
        ]
      },
      "outputs": [
        {
          "data": {
            "text/html": [
              "<span style=\"white-space:pre; font-family: monospace\">\u250c\u2500\u2500\u252c\u2500\u2500\u2500\u2500\u2510\n",
              "\u25020 \u25020000\u2502\n",
              "\u251c\u2500\u2500\u253c\u2500\u2500\u2500\u2500\u2524\n",
              "\u25021 \u25020001\u2502\n",
              "\u251c\u2500\u2500\u253c\u2500\u2500\u2500\u2500\u2524\n",
              "\u25022 \u25020002\u2502\n",
              "\u251c\u2500\u2500\u253c\u2500\u2500\u2500\u2500\u2524\n",
              "\u25023 \u25020003\u2502\n",
              "\u251c\u2500\u2500\u253c\u2500\u2500\u2500\u2500\u2524\n",
              "\u25024 \u25020004\u2502\n",
              "\u251c\u2500\u2500\u253c\u2500\u2500\u2500\u2500\u2524\n",
              "\u25025 \u25020005\u2502\n",
              "\u251c\u2500\u2500\u253c\u2500\u2500\u2500\u2500\u2524\n",
              "\u25026 \u25020006\u2502\n",
              "\u251c\u2500\u2500\u253c\u2500\u2500\u2500\u2500\u2524\n",
              "\u25027 \u25020007\u2502\n",
              "\u251c\u2500\u2500\u253c\u2500\u2500\u2500\u2500\u2524\n",
              "\u25028 \u25020008\u2502\n",
              "\u251c\u2500\u2500\u253c\u2500\u2500\u2500\u2500\u2524\n",
              "\u25029 \u25020009\u2502\n",
              "\u251c\u2500\u2500\u253c\u2500\u2500\u2500\u2500\u2524\n",
              "\u250210\u2502000A\u2502\n",
              "\u251c\u2500\u2500\u253c\u2500\u2500\u2500\u2500\u2524\n",
              "\u250211\u2502000B\u2502\n",
              "\u251c\u2500\u2500\u253c\u2500\u2500\u2500\u2500\u2524\n",
              "\u250212\u2502000C\u2502\n",
              "\u251c\u2500\u2500\u253c\u2500\u2500\u2500\u2500\u2524\n",
              "\u250213\u2502000D\u2502\n",
              "\u251c\u2500\u2500\u253c\u2500\u2500\u2500\u2500\u2524\n",
              "\u250214\u2502000E\u2502\n",
              "\u251c\u2500\u2500\u253c\u2500\u2500\u2500\u2500\u2524\n",
              "\u250215\u2502000F\u2502\n",
              "\u2514\u2500\u2500\u2534\u2500\u2500\u2500\u2500\u2518\n",
              "</span>"
            ]
          },
          "execution_count": 205,
          "metadata": {},
          "output_type": "execute_result"
        }
      ],
      "source": [
        "(\u236a,D2H\u00a8) \u00af1+\u237316"
      ]
    },
    {
      "cell_type": "code",
      "execution_count": 206,
      "id": "aerial-wings",
      "metadata": {
        "tags": [
          "skip-execution"
        ]
      },
      "outputs": [
        {
          "data": {
            "text/html": [
              "<span style=\"white-space:pre; font-family: monospace\">\u250c\u2500\u2500\u2500\u2500\u252c\u2500\u2500\u2500\u2500\u252c\u2500\u2500\u2500\u2500\u2510\n",
              "\u25021A5C\u2502C20F\u2502EB79\u2502\n",
              "\u2514\u2500\u2500\u2500\u2500\u2534\u2500\u2500\u2500\u2500\u2534\u2500\u2500\u2500\u2500\u2518\n",
              "</span>"
            ]
          },
          "execution_count": 206,
          "metadata": {},
          "output_type": "execute_result"
        }
      ],
      "source": [
        "D2H\u00a8 6748 49679 60281"
      ]
    },
    {
      "cell_type": "code",
      "execution_count": 207,
      "id": "south-transmission",
      "metadata": {},
      "outputs": [],
      "source": [
        "H2D \u2190 {16\u22a5\u00af1+'0123456789ABCDEF'\u2373\u2375}"
      ]
    },
    {
      "cell_type": "code",
      "execution_count": 208,
      "id": "typical-secondary",
      "metadata": {
        "tags": [
          "skip-execution"
        ]
      },
      "outputs": [
        {
          "data": {
            "text/html": [
              "<span style=\"white-space:pre; font-family: monospace\">6748 49679 60281\n",
              "</span>"
            ]
          },
          "execution_count": 208,
          "metadata": {},
          "output_type": "execute_result"
        }
      ],
      "source": [
        "H2D\u00a8 '1A5C' 'C20F' 'EB79'"
      ]
    },
    {
      "cell_type": "markdown",
      "id": "banner-sword",
      "metadata": {},
      "source": [
        "```{exercise}\n",
        ":label: ex-sparse-array\n",
        "A sparse array is an array of zeroes with only a small number of non-zero elements.\n",
        "To save memory, sparse arrays are often represented in condensed forms, where we only store the positions of the non-zero values.\n",
        "In this exercise, you will write two functions, `Contract` and `Expand`, to convert a sparse array into its compressed form and vice-versa.\n",
        "\n",
        "`Contract` accepts an arbitrary sparse array `sa` as its only argument and returns a vector with the following characteristics:\n",
        " - the first element is the rank `r` of `sa`;\n",
        " - the next `r` elements are the shape of `sa`;\n",
        " - the next `n` elements are the `n` non-zero values of `sa`; and\n",
        " - the final `n` elements are the positions of the corresponding non-zero elements. However, the final `n` elements should be the indices of the non-zero values in the ravel of `sa`, and not the high-rank indices.\n",
        "\n",
        "The function `Expand` should do the reverse operation.\n",
        "\n",
        "Implement `Contract` and `Expand` without using the function _ravel_.\n",
        "```\n",
        "\n",
        "Here is a worked example with a 5 by 7 matrix:"
      ]
    },
    {
      "cell_type": "code",
      "execution_count": 209,
      "id": "careful-canvas",
      "metadata": {},
      "outputs": [
        {
          "data": {
            "text/html": [
              "<span style=\"white-space:pre; font-family: monospace\">0   3 0 0 0 0 0\n",
              "0   0 0 0 0 0 0\n",
              "0   0 0 0 0 0 0\n",
              "5.6 0 0 0 0 0 0\n",
              "0   0 0 0 0 0 0\n",
              "</span>"
            ]
          },
          "execution_count": 209,
          "metadata": {},
          "output_type": "execute_result"
        }
      ],
      "source": [
        "sa \u2190 5 7\u23740 \u22c4 sa[1;2] \u2190 3 \u22c4 sa[4;1] \u2190 5.6\n",
        "\u2395\u2190 sa"
      ]
    },
    {
      "cell_type": "code",
      "execution_count": 210,
      "id": "warming-theater",
      "metadata": {},
      "outputs": [],
      "source": [
        "]dinput\n",
        "Contract \u2190 {\n",
        "    flat \u2190 1+(\u2374\u2375)\u22a5\u00af1+\u2349\u2191idx\u2190\u23780\u2260sa\n",
        "    (\u2262\u2374\u2375),(\u2374\u2375),\u2375[idx],flat\n",
        "}"
      ]
    },
    {
      "cell_type": "code",
      "execution_count": 211,
      "id": "colonial-hydrogen",
      "metadata": {
        "tags": [
          "skip-execution"
        ]
      },
      "outputs": [
        {
          "data": {
            "text/html": [
              "<span style=\"white-space:pre; font-family: monospace\">2 5 7 3 5.6 2 22\n",
              "</span>"
            ]
          },
          "execution_count": 211,
          "metadata": {},
          "output_type": "execute_result"
        }
      ],
      "source": [
        "Contract sa"
      ]
    },
    {
      "cell_type": "markdown",
      "id": "waiting-jimmy",
      "metadata": {},
      "source": [
        "The matrix `sa` has two non-zero values at indices `1 2` and `4 1`, respectively.\n",
        "However, in the ravel of `sa`, those two non-zero values are at indices `2` and `22`:"
      ]
    },
    {
      "cell_type": "code",
      "execution_count": 212,
      "id": "progressive-albany",
      "metadata": {},
      "outputs": [
        {
          "data": {
            "text/html": [
              "<span style=\"white-space:pre; font-family: monospace\">3 5.6\n",
              "</span>"
            ]
          },
          "execution_count": 212,
          "metadata": {},
          "output_type": "execute_result"
        }
      ],
      "source": [
        "(,sa)[2 22]"
      ]
    },
    {
      "cell_type": "markdown",
      "id": "continuous-specification",
      "metadata": {},
      "source": [
        "Thus, the final part of the result of `Contract sa` should be the 4-item vector `3 5.6 2 22`:\n",
        "\n",
        "```APL\n",
        "      Contract sa\n",
        "2 5 7 3 5.6 2 22\n",
        "\u2191 ~~~ \u2227\u2227\u2227\u2227\u2227 \u2227\u2227\u2227\u2227\n",
        "| |   |   the corresponding indices are 2 and 22\n",
        "| |   the non-zero values are 3 and 5.6\n",
        "| shape of sa\n",
        "rank of sa\n",
        "```\n",
        "\n",
        "The function `Expand` should do the reverse operation:"
      ]
    },
    {
      "cell_type": "markdown",
      "id": "personalized-carolina",
      "metadata": {},
      "source": [
        "```{exercise}\n",
        ":label: ex-random\n",
        "Create three variables, filled with random integers, according to the following specifications:\n",
        "\n",
        " - a vector of 12 values between 8 and 30, without duplicates;\n",
        " - a 4 by 6 matrix filled with values between 37 and 47, with possible duplicates; and\n",
        " - a 5 by 2 matrix filled with values between \u00af5 and 5, without duplicates.\n",
        "```\n"
      ]
    },
    {
      "cell_type": "markdown",
      "id": "entitled-sponsorship",
      "metadata": {},
      "source": [
        "```{exercise}\n",
        ":label: ex-random-decimals\n",
        "Create a vector of 15 random numbers between 0.01 and 0.09 inclusive, with 3 significant digits each, with possible duplicates.\n",
        "```\n"
      ]
    },
    {
      "cell_type": "markdown",
      "id": "mysterious-print",
      "metadata": {},
      "source": [
        "```{exercise}\n",
        ":label: ex-read-random\n",
        "What will we obtain by executing the expression `10+?(10+?10)\u237410`?\n",
        "```\n"
      ]
    },
    {
      "cell_type": "markdown",
      "id": "painted-tract",
      "metadata": {},
      "source": [
        "```{exercise}\n",
        ":label: ex-random-choose\n",
        "We would like to obtain a vector of 5 items, chosen randomly and without duplicates among the elements of `list \u2190 12 29 5 44 31 60 8 86`.\n",
        "```\n"
      ]
    },
    {
      "cell_type": "markdown",
      "id": "affected-multiple",
      "metadata": {},
      "source": [
        "```{exercise}\n",
        ":label: ex-random-length\n",
        "Create a vector with a length randomly chosen between 6 and 16, and filled with random integers between 3 and 40 inclusive, with possible duplicates.\n",
        "```\n"
      ]
    },
    {
      "cell_type": "markdown",
      "id": "raising-judges",
      "metadata": {},
      "source": [
        "```{exercise}\n",
        ":label: ex-cos-approximation\n",
        "The value of $\\cos x$ can be calculated by the following formula, written with traditional mathematical notation:\n",
        "\n",
        "$$\n",
        "\\cos x = x^0/0! - x^2/2! + x^4/4! - x^6/6! + x^8/8! - x^{10}/10! \\cdots\n",
        "$$\n",
        "\n",
        "Write a function `n Cos x` that accepts an integer `n` as left argument and a value `x` as right argument and computes the value of the expression above up to the power `2\u00d7n`, for the value `x`.\n",
        "\n",
        "(To verify your answer, `n Cos x` should be close to `2\u25cbx`.)\n",
        "```\n"
      ]
    },
    {
      "cell_type": "markdown",
      "id": "pressing-animal",
      "metadata": {},
      "source": [
        "```{exercise}\n",
        ":label: ex-circle\n",
        "Try to evaluate the following expressions, and then check your result on the computer:\n",
        "\n",
        " - `(1\u25cb\u25cb\u00f74)*2`; and\n",
        " - `2\u00d70.5+\u00af2\u25cb1\u25cb0.5`.\n",
        "\n",
        "(This exercise assumes you have some trigonometry knowledge.)\n",
        "```\n"
      ]
    },
    {
      "cell_type": "markdown",
      "id": "sticky-symphony",
      "metadata": {},
      "source": [
        "```{exercise}\n",
        ":label: ex-solve-linear-eqs\n",
        "Find the solution to this set of equations:\n",
        "\n",
        "$$\n",
        "\\begin{align}\n",
        "x - y &= 5 \\\\\n",
        "y - 2z &= -7 \\\\\n",
        "z - x &= 2\n",
        "\\end{align}\n",
        "$$\n",
        "```\n"
      ]
    },
    {
      "cell_type": "markdown",
      "id": "middle-example",
      "metadata": {},
      "source": [
        "```{exercise}\n",
        ":label: ex-linear-eqs-compute\n",
        "Three variables $a$, $b$, and $c$, meet the following conditions:\n",
        "\n",
        "$$\n",
        "\\begin{align}\n",
        "a - b + 3c &= 13 \\\\\n",
        "4b - 2a &= -6 \\\\\n",
        "a - 2b + 2c &= 10\n",
        "\\end{align}\n",
        "$$\n",
        "\n",
        "Can you calculate the value of $3a + 5b - c$?\n",
        "```\n"
      ]
    },
    {
      "cell_type": "markdown",
      "id": "fewer-combat",
      "metadata": {},
      "source": [
        "(Mathematical-Functions-The-Specialists-Section)=\n",
        "## The Specialist's Section\n",
        "\n",
        "<br />\n",
        "<center><i>Each chapter is followed by a \"Specialist's Section\" like this one. This section is dedicated to skilled APLers who wish to improve their knowledge.</i>\n",
        "    \n",
        "You will find here rare or complex usages of the concepts presented in this chapter, or discover extended explanations which need the knowledge of some symbols that will be seen much further in the book.\n",
        "    \n",
        "<b>If you are exploring APL for the first time, skip this section and go to the next chapter.</b></center>"
      ]
    },
    {
      "cell_type": "markdown",
      "id": "helpful-toronto",
      "metadata": {},
      "source": [
        "(Mathematical-Functions-Advanced-Encode-and-Decode)=\n",
        "### Advanced Encode and Decode\n",
        "\n",
        "(Mathematical-Functions-Special-Decoding)=\n",
        "#### Special Decoding\n",
        "\n",
        "If you replace _decode_ by the equivalent _inner product_, you can easily check these surprising properties:\n",
        "\n",
        "```APL\n",
        "0\u22a5v \u2190\u2192 \u236c\u2374\u00af1\u2191v\n",
        "1\u22a5v \u2190\u2192 +/v\n",
        "```\n",
        "\n",
        "When dealing with integers, the values are normally smaller than the corresponding items of the _base_.\n",
        "For example, it would be unusual to say that a time is equal to 7 hours, 83 minutes, and 127 seconds.\n",
        "However, _decode_ works perfectly on such values:"
      ]
    },
    {
      "cell_type": "code",
      "execution_count": 213,
      "id": "covered-sleeping",
      "metadata": {},
      "outputs": [
        {
          "data": {
            "text/html": [
              "<span style=\"white-space:pre; font-family: monospace\">30307\n",
              "</span>"
            ]
          },
          "execution_count": 213,
          "metadata": {},
          "output_type": "execute_result"
        }
      ],
      "source": [
        "24 60 60 \u22a5 7 83 127"
      ]
    },
    {
      "cell_type": "markdown",
      "id": "upset-desperate",
      "metadata": {},
      "source": [
        "And, though we did not mention it, _encode_ (like _decode_) accepts decimal and/or negative bases:"
      ]
    },
    {
      "cell_type": "code",
      "execution_count": 214,
      "id": "cleared-drilling",
      "metadata": {},
      "outputs": [
        {
          "data": {
            "text/html": [
              "<span style=\"white-space:pre; font-family: monospace\">4.23 4.23 4.23\n",
              "</span>"
            ]
          },
          "execution_count": 214,
          "metadata": {},
          "output_type": "execute_result"
        }
      ],
      "source": [
        "3\u23745.2 \u22a4 160.23"
      ]
    },
    {
      "cell_type": "markdown",
      "id": "controlling-composition",
      "metadata": {},
      "source": [
        "(Mathematical-Functions-Processing-Negative-Values)=\n",
        "#### Processing Negative Values\n",
        "\n",
        "Imagine that we want to encode some numbers in any base, with 6 digits.\n",
        "We will choose base 10, so that the result is readily understandable:"
      ]
    },
    {
      "cell_type": "code",
      "execution_count": 215,
      "id": "twenty-production",
      "metadata": {},
      "outputs": [
        {
          "data": {
            "text/html": [
              "<span style=\"white-space:pre; font-family: monospace\">0 0 0 0 1 7\n",
              "</span>"
            ]
          },
          "execution_count": 215,
          "metadata": {},
          "output_type": "execute_result"
        }
      ],
      "source": [
        "(6\u237410)\u22a417"
      ]
    },
    {
      "cell_type": "markdown",
      "id": "opposed-irish",
      "metadata": {},
      "source": [
        "Now, let us try to predict the result of `(6\u237410)\u22a4\u00af17`.\n",
        "Knowing that `17+\u00af17` is 0, it would be reasonable to expect that `((6\u237410)\u22a417)+((6\u237410)\u22a4\u00af17)` also returns a result that is \"zero\" in some way \u2013 for example `6\u23740`?\n",
        "\n",
        "In other words, we are looking for a 6-item vector that, when added to `0 0 0 0 1 7`, gives `6\u23740`.\n",
        "The real challenge is that the items of the vector must only contain the digits 0 through 9!\n",
        "\n",
        "Let us see what happens:"
      ]
    },
    {
      "cell_type": "code",
      "execution_count": 216,
      "id": "compound-lexington",
      "metadata": {},
      "outputs": [
        {
          "data": {
            "text/html": [
              "<span style=\"white-space:pre; font-family: monospace\">9 9 9 9 8 3\n",
              "</span>"
            ]
          },
          "execution_count": 216,
          "metadata": {},
          "output_type": "execute_result"
        }
      ],
      "source": [
        "(6\u237410)\u22a4\u00af17"
      ]
    },
    {
      "cell_type": "markdown",
      "id": "criminal-marsh",
      "metadata": {},
      "source": [
        "These results may seem a bit surprising.\n",
        "In base 10, when the sum of two digits exceeds 9, a carry is produced, which is used when adding the next digits to the left, and so on.\n",
        "When adding the encoded values of `17` and `\u00af17`, here is how the values are processed:\n",
        "\n",
        "```\n",
        "  1 1 1 1 1 1\n",
        "    0 0 0 0 1 7\n",
        "+   9 9 9 9 8 3\n",
        "  -------------\n",
        "= 1 0 0 0 0 0 0\n",
        "```\n",
        "\n",
        "If only 6 digits are kept, as agreed, you can see that the result is composed only of zeroes (the six leftmost digits in the result).\n",
        "\n",
        "That would be the same for `431` and `\u00af431`:"
      ]
    },
    {
      "cell_type": "code",
      "execution_count": 217,
      "id": "rental-theory",
      "metadata": {},
      "outputs": [
        {
          "data": {
            "text/html": [
              "<span style=\"white-space:pre; font-family: monospace\">0 0 0 4 3 1\n",
              "</span>"
            ]
          },
          "execution_count": 217,
          "metadata": {},
          "output_type": "execute_result"
        }
      ],
      "source": [
        "(6\u237410)\u22a4431"
      ]
    },
    {
      "cell_type": "code",
      "execution_count": 218,
      "id": "spanish-increase",
      "metadata": {},
      "outputs": [
        {
          "data": {
            "text/html": [
              "<span style=\"white-space:pre; font-family: monospace\">9 9 9 5 6 9\n",
              "</span>"
            ]
          },
          "execution_count": 218,
          "metadata": {},
          "output_type": "execute_result"
        }
      ],
      "source": [
        "(6\u237410)\u22a4\u00af431"
      ]
    },
    {
      "cell_type": "markdown",
      "id": "typical-murder",
      "metadata": {},
      "source": [
        "We can observe the same behaviour in any other base.\n",
        "For example, in base 5:"
      ]
    },
    {
      "cell_type": "code",
      "execution_count": 219,
      "id": "adopted-fashion",
      "metadata": {},
      "outputs": [
        {
          "data": {
            "text/html": [
              "<span style=\"white-space:pre; font-family: monospace\">0 0 0 2 3 3\n",
              "</span>"
            ]
          },
          "execution_count": 219,
          "metadata": {},
          "output_type": "execute_result"
        }
      ],
      "source": [
        "(6\u23745)\u22a468"
      ]
    },
    {
      "cell_type": "code",
      "execution_count": 220,
      "id": "wrapped-mediterranean",
      "metadata": {},
      "outputs": [
        {
          "data": {
            "text/html": [
              "<span style=\"white-space:pre; font-family: monospace\">4 4 4 2 1 2\n",
              "</span>"
            ]
          },
          "execution_count": 220,
          "metadata": {},
          "output_type": "execute_result"
        }
      ],
      "source": [
        "(6\u23745)\u22a4\u00af68"
      ]
    },
    {
      "cell_type": "markdown",
      "id": "weekly-greensboro",
      "metadata": {},
      "source": [
        "Remember that, in base 5, `0=3+2`!\n",
        "\n",
        "The rule remains true for decimal values:"
      ]
    },
    {
      "cell_type": "code",
      "execution_count": 221,
      "id": "minus-zealand",
      "metadata": {},
      "outputs": [
        {
          "data": {
            "text/html": [
              "<span style=\"white-space:pre; font-family: monospace\">0 0 0 0 1 5.8\n",
              "</span>"
            ]
          },
          "execution_count": 221,
          "metadata": {},
          "output_type": "execute_result"
        }
      ],
      "source": [
        "(6\u237410)\u22a415.8"
      ]
    },
    {
      "cell_type": "code",
      "execution_count": 222,
      "id": "painful-buying",
      "metadata": {},
      "outputs": [
        {
          "data": {
            "text/html": [
              "<span style=\"white-space:pre; font-family: monospace\">9 9 9 9 8 4.2\n",
              "</span>"
            ]
          },
          "execution_count": 222,
          "metadata": {},
          "output_type": "execute_result"
        }
      ],
      "source": [
        "(6\u237410)\u22a4\u00af15.8"
      ]
    },
    {
      "cell_type": "markdown",
      "id": "regulated-nomination",
      "metadata": {},
      "source": [
        "This may lead to a few frustrations during decoding if precautions are not taken:"
      ]
    },
    {
      "cell_type": "code",
      "execution_count": 223,
      "id": "photographic-logistics",
      "metadata": {},
      "outputs": [
        {
          "data": {
            "text/html": [
              "<span style=\"white-space:pre; font-family: monospace\">143\n",
              "</span>"
            ]
          },
          "execution_count": 223,
          "metadata": {},
          "output_type": "execute_result"
        }
      ],
      "source": [
        "10\u22a5(6\u237410)\u22a4 143  \u235d as expected"
      ]
    },
    {
      "cell_type": "code",
      "execution_count": 224,
      "id": "accredited-relaxation",
      "metadata": {},
      "outputs": [
        {
          "data": {
            "text/html": [
              "<span style=\"white-space:pre; font-family: monospace\">999857\n",
              "</span>"
            ]
          },
          "execution_count": 224,
          "metadata": {},
          "output_type": "execute_result"
        }
      ],
      "source": [
        "10\u22a5(6\u237410)\u22a4\u00af143  \u235d this may seem wrong"
      ]
    },
    {
      "cell_type": "markdown",
      "id": "understanding-wrestling",
      "metadata": {},
      "source": [
        "The result obtained from the two decodings is such that their sum is 1,000,000.\n",
        "\n",
        "If one needs to encode and later decode values among which some may be negative, it is advisable to provide one more digit than is necessary, and to test its value.\n",
        "In many computers, the internal representation of positive numbers begin with a 0-bit and negative numbers start with a 1-bit.\n",
        "The same principle applies to the decoded values.\n",
        "In base 10, positive values begin with the digit 0, and negative ones with a 9.\n",
        "From this, we can deduce a general function to decode values encoded in a uniform base:"
      ]
    },
    {
      "cell_type": "code",
      "execution_count": 225,
      "id": "stupid-prevention",
      "metadata": {},
      "outputs": [],
      "source": [
        "]dinput\n",
        "Decode \u2190 {  \u235d base Decode values\n",
        "    z \u2190 \u237a\u22a5\u2375\n",
        "    p \u2190 1\u2191\u2374\u2375\n",
        "    z-(\u237a*p)\u00d7(z>\u00af1+\u237a*p-1)\n",
        "}"
      ]
    },
    {
      "cell_type": "code",
      "execution_count": 226,
      "id": "innovative-factor",
      "metadata": {},
      "outputs": [],
      "source": [
        "test \u2190 (6\u237410) \u22a4 \u00af417.42 26 32 \u00af1654 0 3.7 \u00af55"
      ]
    },
    {
      "cell_type": "code",
      "execution_count": 227,
      "id": "organic-montreal",
      "metadata": {},
      "outputs": [
        {
          "data": {
            "text/html": [
              "<span style=\"white-space:pre; font-family: monospace\">999583 26 32 998346 0 3.7 999945\n",
              "</span>"
            ]
          },
          "execution_count": 227,
          "metadata": {},
          "output_type": "execute_result"
        }
      ],
      "source": [
        "10\u22a5test  \u235d negative values are wrongly decoded..."
      ]
    },
    {
      "cell_type": "code",
      "execution_count": 228,
      "id": "featured-preserve",
      "metadata": {},
      "outputs": [
        {
          "data": {
            "text/html": [
              "<span style=\"white-space:pre; font-family: monospace\">\u00af417.42 26 32 \u00af1654 0 3.7 \u00af55\n",
              "</span>"
            ]
          },
          "execution_count": 228,
          "metadata": {},
          "output_type": "execute_result"
        }
      ],
      "source": [
        "10 Decode test  \u235d positive values are correctly decoded!"
      ]
    },
    {
      "cell_type": "markdown",
      "id": "capital-canal",
      "metadata": {},
      "source": [
        "(Mathematical-Functions-Multiple-EncodingDecoding)=\n",
        "#### Multiple Encoding/Decoding\n",
        "\n",
        "It is possible to decode a value using several bases simultaneously:"
      ]
    },
    {
      "cell_type": "code",
      "execution_count": 229,
      "id": "editorial-aaron",
      "metadata": {},
      "outputs": [
        {
          "data": {
            "text/html": [
              "<span style=\"white-space:pre; font-family: monospace\"> 5  5  5  5\n",
              "10 10 10 10\n",
              " 6  6  6  6\n",
              "</span>"
            ]
          },
          "execution_count": 229,
          "metadata": {},
          "output_type": "execute_result"
        }
      ],
      "source": [
        "\u2395\u2190 bb \u2190 \u23494 3\u23745 10 6"
      ]
    },
    {
      "cell_type": "markdown",
      "id": "favorite-immunology",
      "metadata": {},
      "source": [
        "The different bases are placed in different rows of the matrix.\n",
        "Now, we can interpret `4 1 3 2` in 3 different bases:"
      ]
    },
    {
      "cell_type": "code",
      "execution_count": 230,
      "id": "pacific-louisiana",
      "metadata": {},
      "outputs": [
        {
          "data": {
            "text/html": [
              "<span style=\"white-space:pre; font-family: monospace\">542 4132 920\n",
              "</span>"
            ]
          },
          "execution_count": 230,
          "metadata": {},
          "output_type": "execute_result"
        }
      ],
      "source": [
        "bb\u22a54 1 3 2"
      ]
    },
    {
      "cell_type": "markdown",
      "id": "stock-bench",
      "metadata": {},
      "source": [
        "In this very specific case, the 3 bases were all uniform; a simple column vector with one digit per row would have given the same conversion:"
      ]
    },
    {
      "cell_type": "code",
      "execution_count": 231,
      "id": "afraid-pickup",
      "metadata": {},
      "outputs": [
        {
          "data": {
            "text/html": [
              "<span style=\"white-space:pre; font-family: monospace\">542 4132 920\n",
              "</span>"
            ]
          },
          "execution_count": 231,
          "metadata": {},
          "output_type": "execute_result"
        }
      ],
      "source": [
        "(\u236a5 10 6)\u22a54 1 3 2"
      ]
    },
    {
      "cell_type": "markdown",
      "id": "scientific-harvard",
      "metadata": {},
      "source": [
        "That is because a scalar base expands into as many digits as needed.\n",
        "\n",
        "Similarly, it is possible to see how a single number could be represented in several bases:"
      ]
    },
    {
      "cell_type": "code",
      "execution_count": 232,
      "id": "caring-retention",
      "metadata": {},
      "outputs": [
        {
          "data": {
            "text/html": [
              "<span style=\"white-space:pre; font-family: monospace\">0 0 1\n",
              "0 0 1\n",
              "1 0 0\n",
              "0 2 1\n",
              "2 7 1\n",
              "</span>"
            ]
          },
          "execution_count": 232,
          "metadata": {},
          "output_type": "execute_result"
        }
      ],
      "source": [
        "(5 3\u23745 10 2)\u22a427"
      ]
    },
    {
      "cell_type": "markdown",
      "id": "loaded-assist",
      "metadata": {},
      "source": [
        "```{admonition} Remark \n",
        ":class: tip\n",
        "The arguments of _encode_ and _decode_ must obey the following rules:\n",
        "\n",
        "- In `r \u2190 bases \u22a5 mat`, `\u2374r` is equal to `(\u00af1\u2193\u2374,bases),1\u2193\u2374mat`.\n",
        "- In `r \u2190 bases \u22a4 mat`, `\u2374r` is equal to `bases ,\u2365\u2374 mat`.\n",
        "```\n",
        "\n",
        "Let us convert (_encode_) the following matrix `seconds` into hours, minutes, and seconds:"
      ]
    },
    {
      "cell_type": "code",
      "execution_count": 233,
      "id": "congressional-southwest",
      "metadata": {},
      "outputs": [
        {
          "data": {
            "text/html": [
              "<span style=\"white-space:pre; font-family: monospace\">1341 5000 345\n",
              "3600  781  90\n",
              "</span>"
            ]
          },
          "execution_count": 233,
          "metadata": {},
          "output_type": "execute_result"
        }
      ],
      "source": [
        "\u2395\u2190 seconds \u2190 2 3\u23741341 5000 345 3600 781 90"
      ]
    },
    {
      "cell_type": "code",
      "execution_count": 234,
      "id": "nominated-bottom",
      "metadata": {},
      "outputs": [
        {
          "data": {
            "text/html": [
              "<span style=\"white-space:pre; font-family: monospace\"> 0  1  0\n",
              " 1  0  0\n",
              "\n",
              "22 23  5\n",
              " 0 13  1\n",
              "\n",
              "21 20 45\n",
              " 0  1 30\n",
              "</span>"
            ]
          },
          "execution_count": 234,
          "metadata": {},
          "output_type": "execute_result"
        }
      ],
      "source": [
        "24 60 60 \u22a4 seconds"
      ]
    },
    {
      "cell_type": "markdown",
      "id": "through-healthcare",
      "metadata": {},
      "source": [
        "The first plane of the 3D array contains the hours, the second plane contains the minutes, and the third plane contains the seconds."
      ]
    },
    {
      "cell_type": "markdown",
      "id": "cognitive-carnival",
      "metadata": {},
      "source": [
        "(Mathematical-Functions-Gamma-and-Beta-Functions)=\n",
        "### Gamma and Beta Functions\n",
        "\n",
        "In mathematics, the _gamma_ function of a variable $x$ is defined by the following formula:\n",
        "\n",
        "$$\n",
        "\\Gamma(x) = \\int_0^\\infty t^{x-1}e^{-t} dt\n",
        "$$\n",
        "\n",
        "This function satisfies the recurrence relationship $\\Gamma(x) = x\\times \\Gamma(x-1)$.\n",
        "If $x$ is an integer, $\\Gamma(x)$ is the same as $(x-1)!$.\n",
        "In APL, monadic `!n` gives the _gamma_ function of `n+1`:"
      ]
    },
    {
      "cell_type": "code",
      "execution_count": 235,
      "id": "binary-blues",
      "metadata": {},
      "outputs": [
        {
          "data": {
            "text/html": [
              "<span style=\"white-space:pre; font-family: monospace\">2.98121 6 7.75669 10.1361\n",
              "</span>"
            ]
          },
          "execution_count": 235,
          "metadata": {},
          "output_type": "execute_result"
        }
      ],
      "source": [
        "! 2.4 3 3.2 3.4"
      ]
    },
    {
      "cell_type": "markdown",
      "id": "mathematical-girlfriend",
      "metadata": {},
      "source": [
        "The dyadic form of `!` gives the _binomial_ function, which satisfies the following identity with the mathematical _beta_ function: $\\beta(a, b)$ is identical to `\u00f7b\u00d7(a-1)!a+b-1`."
      ]
    },
    {
      "cell_type": "markdown",
      "id": "considered-scope",
      "metadata": {},
      "source": [
        "(Mathematical-Functions-Domino-and-Rectangular-Matrices)=\n",
        "### Domino and Rectangular Matrices\n",
        "\n",
        "We have defined the _matrix inverse_ for square matrices, but throughout this chapter we have used the function _matrix divide_ on rectangular matrices.\n",
        "In the following sections we shall define what are the \"left inverse\" and the \"right inverse\" of a given rectangular matrix.\n",
        "\n",
        "```{admonition} Remark \n",
        ":class: tip\n",
        "Under the hood, _domino_ uses Householder transformations, a technique based on the Lawson & Hanson algorithm, an extension of the Golub & Businger algorithm.\n",
        "```\n"
      ]
    },
    {
      "cell_type": "markdown",
      "id": "genuine-picking",
      "metadata": {},
      "source": [
        "(Mathematical-Functions-Left-Inverse-of-a-Matrix)=\n",
        "#### Left Inverse of a Matrix\n",
        "\n",
        "We have been working in this context:\n",
        "\n",
        " - `ys` was a vector of values we wanted to predict.\n",
        " - `coefs` was a rectangular matrix containing a set of columns containing variables (for example, number of salesmen, size of the area, number of customers, ...).\n",
        " - `c` contained the coefficients of the least squares line. They should be such that the sum of the squares of the differences between points on this line and the given points in `ys` is minimal.\n",
        "\n",
        "In mathematics, three major properties can be demonstrated:\n",
        "\n",
        " - The coefficients `c` can be obtained from `ys` by means of a linear regression or, in other words, an _inner product_ involving a matrix `inv`: `c \u2190 inv+.\u00d7ys`.\n",
        " - This matrix `inv` is unique.\n",
        " - It can be obtained by the following formula: `inv \u2190 (\u2339 (\u2349coefs)+.\u00d7coefs)+.\u00d7\u2349coefs`.\n",
        "\n",
        "In this formula, the product `(\u2349coefs)+.\u00d7coefs` gives a square matrix, even if `coefs` is rectangular.\n",
        "This is why we can calculate its inverse using the function _matrix inverse_.\n",
        "If we refer to the definition of _matrix divide_, `(\u2339a)+.\u00d7b` can be written as `b\u2339a`.\n",
        "So, the formula for `inv` can be rewritten as `inv \u2190 (\u2349coefs)\u2339(\u2349coefs)+.\u00d7coefs`.\n",
        "\n",
        "Let us see what happens if we multiply that formula by `coefs` on the right:\n",
        "\n",
        "```APL\n",
        "   inv \u2261 (\u2339 (\u2349coefs)+.\u00d7coefs)+.\u00d7\u2349coefs \u2190\u2192\n",
        "\u2190\u2192 inv +.\u00d7 coefs \u2261 (\u2339 (\u2349coefs)+.\u00d7coefs)+.\u00d7\u2349coefs +.\u00d7 coefs\n",
        "```\n",
        "\n",
        "Now, if we define `U \u2190 (\u2349coefs)+.\u00d7coefs`, we see that the expression above actually reads\n",
        "\n",
        "```APL\n",
        "inv +.\u00d7 coefs \u2261 (\u2339U)+.\u00d7U\n",
        "```\n",
        "\n",
        "`(\u2339U)+.\u00d7U` is the identity matrix, so we actually see that `inv` is a left inverse of `coefs`, because if we multiply `coefs` with `inv` on the left, we get the identity matrix.\n",
        "\n",
        "```{admonition} Rule \n",
        ":class: tip\n",
        "The left inverse of a matrix `m` can be computed with `(\u2339(\u2349m)+.\u00d7m)+.\u00d7\u2349m`.\n",
        "```\n",
        "\n",
        "This can be easily verified with the data we used in a previous example:"
      ]
    },
    {
      "cell_type": "code",
      "execution_count": 236,
      "id": "daily-somalia",
      "metadata": {},
      "outputs": [
        {
          "data": {
            "text/html": [
              "<span style=\"white-space:pre; font-family: monospace\">25  90 430 2400 1\n",
              "20  50  87 9000 1\n",
              "24  12  72 9500 1\n",
              "28  12 210 4100 1\n",
              "14  30 144 6500 1\n",
              " 8  30  91 3300 1\n",
              "31 120 207 9800 1\n",
              "17  75 161 4900 1\n",
              "</span>"
            ]
          },
          "execution_count": 236,
          "metadata": {},
          "output_type": "execute_result"
        }
      ],
      "source": [
        "coefs"
      ]
    },
    {
      "cell_type": "code",
      "execution_count": 286,
      "id": "occupational-spanish",
      "metadata": {},
      "outputs": [],
      "source": [
        "inv \u2190 (\u2339(\u2349coefs)+.\u00d7coefs)+.\u00d7\u2349coefs"
      ]
    },
    {
      "cell_type": "code",
      "execution_count": 289,
      "id": "expensive-tender",
      "metadata": {},
      "outputs": [
        {
          "data": {
            "text/html": [
              "<span style=\"white-space:pre; font-family: monospace\">1 0 0 0 0\n",
              "0 1 0 0 0\n",
              "0 0 1 0 0\n",
              "0 0 0 1 0\n",
              "0 0 0 0 1\n",
              "</span>"
            ]
          },
          "execution_count": 289,
          "metadata": {},
          "output_type": "execute_result"
        }
      ],
      "source": [
        "\u230a0.5+inv+.\u00d7coefs"
      ]
    },
    {
      "cell_type": "markdown",
      "id": "experienced-ensemble",
      "metadata": {},
      "source": [
        "Once rounded, we can see it is an identity matrix and `inv` really is a left inverse of `coefs`."
      ]
    },
    {
      "cell_type": "markdown",
      "id": "becoming-uncle",
      "metadata": {},
      "source": [
        "(Mathematical-Functions-Pseudo-Right-Inverse)=\n",
        "#### Pseudo Right Inverse\n",
        "\n",
        "We just saw that `inv` is a left inverse for `coefs`.\n",
        "Is it also a right inverse?\n",
        "\n",
        "We calculated the coefficients in `c` of the least squares line using the formula `c\u2190inv+.\u00d7ys`.\n",
        "Then, we calculated the coordinates of points located on that line with `fits \u2190 coefs+.\u00d7c`.\n",
        "Let us replace `c` by its definition from the first formula, to get `fits \u2190 coefs+.\u00d7inv+.\u00d7ys`.\n",
        "\n",
        "If `inv` was a true right inverse of `coefs`, the product `coefs+.\u00d7inv` would give the identity matrix and the product `coefs+.\u00d7inv+.\u00d7ys` would evaluate to `ys`.\n",
        "However, we know that `ys\u2262fits` in general, because `coefs+.\u00d7inv+.\u00d7ys` gives the predicted values on top of the line, whereas `ys` contains the actual values we are trying to fit the line to.\n",
        "The difference between `fits` and `ys` is such that `+/(ys-fits)*2` is minimised.\n",
        "\n",
        "In the expression `ys-fits`, let us replace `fits` by `coefs+.\u00d7inv+.\u00d7ys` and then replace `ys` by `I+.\u00d7ys` (`I` is the identity matrix, so this does not change anything) to get `(I+.\u00d7ys) - (coefs+.\u00d7inv+.\u00d7ys)`.\n",
        "Using `ys` as a common factor, this can be rewritten as `(I-coefs+.\u00d7inv)+.\u00d7ys`.\n",
        "\n",
        "If `+/(ys-fits)*2` is minimised, `+/((I-coefs+.\u00d7inv)+.\u00d7ys)*2` should be minimised too.\n",
        "This must be true whatever the value of `ys`, including the case where `ys` is 1.\n",
        "This means that the value of `inv` (calculated independently of `ys`) is such that it minimised the expression `+/(I-coefs+.\u00d7inv)*2`.\n",
        "\n",
        "We can say that `inv` is a pseudo right inverse matrix of `coefs` that minimises `+/(I-coefs+.\u00d7inv)*2`.\n",
        "\n",
        "In APL, _matrix inverse_ has been extended to calculate such a pseudo inverse: `inv \u2190 \u2339coefs`."
      ]
    },
    {
      "cell_type": "markdown",
      "id": "proved-retro",
      "metadata": {},
      "source": [
        "(Mathematical-Functions-Summary-of-Left-and-Right-Inverses)=\n",
        "#### Summary of Left and Right Inverses\n",
        "\n",
        "In APL, a matrix `M` having more rows than columns has an inverse, which can be obtained by `\u2339M`.\n",
        "This inverse value is strictly equal, within rounding errors, to any of the following formulas:\n",
        "\n",
        "```APL\n",
        "      inv \u2190 (\u2339(\u2349M)+.\u00d7M)+.\u00d7\u2349M\n",
        "      inv \u2190 (\u2349M)\u2339(\u2349M)+.\u00d7M\n",
        "```\n",
        "\n",
        "This matrix is a true left inverse of `M`, which means that the product `inv +.\u00d7 M` gives an identity matrix.\n",
        "\n",
        "This matrix is also a pseudo right inverse of `M`.\n",
        "That is to say that the product does not give an identity matrix, but a matrix `J` such that the sum `+/(I-J)*2` is minimised.\n",
        "\n",
        "the result of this is to minimise any expression of the form `+/((I-M+.\u00d7inv)+.\u00d7ys)*2`, whatever the value of `ys`.\n",
        "\n",
        "This last property explains why _domino_ may be used to calculate linear, multi-linear, or polynomial regressions."
      ]
    },
    {
      "cell_type": "markdown",
      "id": "timely-obligation",
      "metadata": {},
      "source": [
        "(Mathematical-Functions-Scalars-and-Vectors)=\n",
        "#### Scalars and Vectors\n",
        "\n",
        "A scalar `s` is treated in such a way that `\u2339s` is equal to `\u00f7s` with the exception that `0\u00f70` is 1 whereas `0\u23390` gives a `DOMAIN ERROR`.\n",
        "\n",
        "Vectors are treated like single-column matrices:"
      ]
    },
    {
      "cell_type": "code",
      "execution_count": 290,
      "id": "stunning-american",
      "metadata": {},
      "outputs": [
        {
          "data": {
            "text/html": [
              "<span style=\"white-space:pre; font-family: monospace\">0.380952 \u00af0.190476 0.0952381\n",
              "</span>"
            ]
          },
          "execution_count": 290,
          "metadata": {},
          "output_type": "execute_result"
        }
      ],
      "source": [
        "\u2395\u2190 cv \u2190 \u2339v \u2190 2 \u00af1 0.5"
      ]
    },
    {
      "cell_type": "code",
      "execution_count": 291,
      "id": "early-large",
      "metadata": {},
      "outputs": [
        {
          "data": {
            "text/html": [
              "<span style=\"white-space:pre; font-family: monospace\">1\n",
              "</span>"
            ]
          },
          "execution_count": 291,
          "metadata": {},
          "output_type": "execute_result"
        }
      ],
      "source": [
        "cv +.\u00d7 v"
      ]
    },
    {
      "cell_type": "code",
      "execution_count": 292,
      "id": "finnish-slovakia",
      "metadata": {},
      "outputs": [
        {
          "data": {
            "text/html": [
              "<span style=\"white-space:pre; font-family: monospace\">1\n",
              "</span>"
            ]
          },
          "execution_count": 292,
          "metadata": {},
          "output_type": "execute_result"
        }
      ],
      "source": [
        "v +.\u00d7 cv"
      ]
    },
    {
      "cell_type": "markdown",
      "id": "healthy-animal",
      "metadata": {},
      "source": [
        "(Mathematical-Functions-Total-Array-Ordering)=\n",
        "### Total Array Ordering\n",
        "\n",
        "In Dyalog, there is something called _total array ordering_, used by the functions _grade up_ and _down_ and _interval index_.\n",
        "In the earlier days of Dyalog APL, only simple arrays of the same shape and type could be compared.\n",
        "Thus, by introducing total array ordering, APL can now order simple and nested arrays of any rank, shape, and type.\n",
        "\n",
        "Total array ordering is very nuanced. For example, all numbers come before characters:"
      ]
    },
    {
      "cell_type": "code",
      "execution_count": 19,
      "id": "running-feedback",
      "metadata": {},
      "outputs": [
        {
          "data": {
            "text/html": [
              "<span style=\"white-space:pre; font-family: monospace\">1 2\n",
              "</span>"
            ]
          },
          "execution_count": 19,
          "metadata": {},
          "output_type": "execute_result"
        }
      ],
      "source": [
        "\u234b3 '3'"
      ]
    },
    {
      "cell_type": "code",
      "execution_count": 20,
      "id": "literary-milan",
      "metadata": {},
      "outputs": [
        {
          "data": {
            "text/html": [
              "<span style=\"white-space:pre; font-family: monospace\">1 2\n",
              "</span>"
            ]
          },
          "execution_count": 20,
          "metadata": {},
          "output_type": "execute_result"
        }
      ],
      "source": [
        "\u234b234562345243 '3'"
      ]
    },
    {
      "cell_type": "code",
      "execution_count": 21,
      "id": "spectacular-alcohol",
      "metadata": {},
      "outputs": [
        {
          "data": {
            "text/html": [
              "<span style=\"white-space:pre; font-family: monospace\">1 2\n",
              "</span>"
            ]
          },
          "execution_count": 21,
          "metadata": {},
          "output_type": "execute_result"
        }
      ],
      "source": [
        "\u234b0J1 '3'"
      ]
    },
    {
      "cell_type": "markdown",
      "id": "solar-technical",
      "metadata": {},
      "source": [
        "Complex numbers can also be ordered with other numbers:"
      ]
    },
    {
      "cell_type": "code",
      "execution_count": 25,
      "id": "static-night",
      "metadata": {},
      "outputs": [
        {
          "data": {
            "text/html": [
              "<span style=\"white-space:pre; font-family: monospace\">1 2 3 4 5\n",
              "</span>"
            ]
          },
          "execution_count": 25,
          "metadata": {},
          "output_type": "execute_result"
        }
      ],
      "source": [
        "\u234b\u00af2J\u00af1 \u00af1J\u00af3 0 0J4 3"
      ]
    },
    {
      "cell_type": "markdown",
      "id": "related-broadway",
      "metadata": {},
      "source": [
        "However, mathematics tells us that there is no \"natural ordering\" for the complex numbers.\n",
        "This means that we cannot order the complex numbers in a way that preserves the properties of addition and multiplication that we are used to.\n",
        "\n",
        "For example, a negative number times a positive number yields a negative number.\n",
        "Recall that \"negative\" really means \"less than zero\" and \"positive\" means \"greater than zero\".\n",
        "Below, we can see two complex numbers, one less than zero and the other greater than zero:"
      ]
    },
    {
      "cell_type": "code",
      "execution_count": 45,
      "id": "subsequent-newport",
      "metadata": {},
      "outputs": [
        {
          "data": {
            "text/html": [
              "<span style=\"white-space:pre; font-family: monospace\">1 2 3\n",
              "</span>"
            ]
          },
          "execution_count": 45,
          "metadata": {},
          "output_type": "execute_result"
        }
      ],
      "source": [
        "\u234b\u00af2J1 0 1J\u00af2"
      ]
    },
    {
      "cell_type": "markdown",
      "id": "upper-mortality",
      "metadata": {},
      "source": [
        "The product of the two complex numbers shown above is:"
      ]
    },
    {
      "cell_type": "code",
      "execution_count": 46,
      "id": "asian-attraction",
      "metadata": {},
      "outputs": [
        {
          "data": {
            "text/html": [
              "<span style=\"white-space:pre; font-family: monospace\">0J5\n",
              "</span>"
            ]
          },
          "execution_count": 46,
          "metadata": {},
          "output_type": "execute_result"
        }
      ],
      "source": [
        "1J\u00af2 \u00d7 \u00af2J1"
      ]
    },
    {
      "cell_type": "markdown",
      "id": "mediterranean-nickel",
      "metadata": {},
      "source": [
        "And the product is greater than zero:"
      ]
    },
    {
      "cell_type": "code",
      "execution_count": 47,
      "id": "instrumental-vision",
      "metadata": {},
      "outputs": [
        {
          "data": {
            "text/html": [
              "<span style=\"white-space:pre; font-family: monospace\">1 2\n",
              "</span>"
            ]
          },
          "execution_count": 47,
          "metadata": {},
          "output_type": "execute_result"
        }
      ],
      "source": [
        "\u234b0 0J5"
      ]
    },
    {
      "cell_type": "markdown",
      "id": "ancient-rendering",
      "metadata": {},
      "source": [
        "We can see that complex numbers are ordered by real part and then by imaginary part:"
      ]
    },
    {
      "cell_type": "code",
      "execution_count": 48,
      "id": "integrated-mozambique",
      "metadata": {},
      "outputs": [
        {
          "data": {
            "text/html": [
              "<span style=\"white-space:pre; font-family: monospace\">1 2 3 4 5 6 7\n",
              "</span>"
            ]
          },
          "execution_count": 48,
          "metadata": {},
          "output_type": "execute_result"
        }
      ],
      "source": [
        "\u234b\u00af2J\u00af100 \u00af2 \u00af2J1 0J\u00af7654321 0 0J1 3"
      ]
    },
    {
      "cell_type": "markdown",
      "id": "lonely-province",
      "metadata": {},
      "source": [
        "Total array ordering also allows the ordering of nested and mixed arrays:"
      ]
    },
    {
      "cell_type": "code",
      "execution_count": 56,
      "id": "nutritional-kitchen",
      "metadata": {},
      "outputs": [
        {
          "data": {
            "text/html": [
              "<span style=\"white-space:pre; font-family: monospace\">\u250c\u2500\u2500\u2500\u2500\u2500\u2500\u2500\u2500\u2500\u2500\u2500\u2500\u2500\u2500\u2500\u252c\u2500\u252c\u2500\u2500\u2500\u2500\u2500\u2500\u2500\u252c\u2500\u2500\u2500\u2500\u2500\u2500\u2500\u2500\u2500\u2500\u2500\u2500\u2500\u2500\u2500\u2500\u2500\u2500\u2500\u2500\u2500\u2500\u2500\u2500\u2510\n",
              "\u2502\u250c\u2500\u2500\u2500\u2500\u2500\u2500\u2500\u2500\u2500\u2500\u2500\u2500\u2500\u2510\u25025\u2502a 1 2 3\u2502\u250c\u2500\u2500\u2500\u252c\u2500\u2500\u2500\u2500\u2500\u2500\u2500\u2500\u2500\u2500\u2500\u2500\u2500\u2500\u2500\u2500\u2500\u2500\u2510\u2502\n",
              "\u2502\u2502\u250c\u2500\u2500\u2500\u2500\u2500\u2500\u2500\u2500\u2500\u2500\u2500\u2510\u2502\u2502 \u2502       \u2502\u2502hey\u2502\u250c\u2500\u2500\u2500\u252c\u2500\u252c\u2500\u252c\u2500\u2500\u2500\u2500\u2500\u2500\u2500\u2500\u2510\u2502\u2502\n",
              "\u2502\u2502\u2502\u250c\u2500\u2500\u2500\u2500\u2500\u2500\u2500\u2500\u2500\u2510\u2502\u2502\u2502 \u2502       \u2502\u2502   \u2502\u2502bye\u25021\u25022\u2502\u250c\u2500\u252c\u2500\u2500\u2500\u2500\u2510\u2502\u2502\u2502\n",
              "\u2502\u2502\u2502\u2502\u250c\u2500\u2500\u2500\u252c\u2500\u2500\u2500\u2510\u2502\u2502\u2502\u2502 \u2502       \u2502\u2502   \u2502\u2502   \u2502 \u2502 \u2502\u25023\u2502ciao\u2502\u2502\u2502\u2502\n",
              "\u2502\u2502\u2502\u2502\u25020J1\u25020J2\u2502\u2502\u2502\u2502\u2502 \u2502       \u2502\u2502   \u2502\u2502   \u2502 \u2502 \u2502\u2514\u2500\u2534\u2500\u2500\u2500\u2500\u2518\u2502\u2502\u2502\n",
              "\u2502\u2502\u2502\u2502\u2514\u2500\u2500\u2500\u2534\u2500\u2500\u2500\u2518\u2502\u2502\u2502\u2502 \u2502       \u2502\u2502   \u2502\u2514\u2500\u2500\u2500\u2534\u2500\u2534\u2500\u2534\u2500\u2500\u2500\u2500\u2500\u2500\u2500\u2500\u2518\u2502\u2502\n",
              "\u2502\u2502\u2502\u2514\u2500\u2500\u2500\u2500\u2500\u2500\u2500\u2500\u2500\u2518\u2502\u2502\u2502 \u2502       \u2502\u2514\u2500\u2500\u2500\u2534\u2500\u2500\u2500\u2500\u2500\u2500\u2500\u2500\u2500\u2500\u2500\u2500\u2500\u2500\u2500\u2500\u2500\u2500\u2518\u2502\n",
              "\u2502\u2502\u2514\u2500\u2500\u2500\u2500\u2500\u2500\u2500\u2500\u2500\u2500\u2500\u2518\u2502\u2502 \u2502       \u2502                        \u2502\n",
              "\u2502\u2514\u2500\u2500\u2500\u2500\u2500\u2500\u2500\u2500\u2500\u2500\u2500\u2500\u2500\u2518\u2502 \u2502       \u2502                        \u2502\n",
              "\u2514\u2500\u2500\u2500\u2500\u2500\u2500\u2500\u2500\u2500\u2500\u2500\u2500\u2500\u2500\u2500\u2534\u2500\u2534\u2500\u2500\u2500\u2500\u2500\u2500\u2500\u2534\u2500\u2500\u2500\u2500\u2500\u2500\u2500\u2500\u2500\u2500\u2500\u2500\u2500\u2500\u2500\u2500\u2500\u2500\u2500\u2500\u2500\u2500\u2500\u2500\u2518\n",
              "1 2 3 4\n",
              "</span>"
            ]
          },
          "execution_count": 56,
          "metadata": {},
          "output_type": "execute_result"
        }
      ],
      "source": [
        "\u234b \u2395\u2190 (\u2282\u2282\u22820J1 '0J2') 5 ('a',\u23733) ('hey' ('bye' 1 2 (3 'ciao')))"
      ]
    },
    {
      "cell_type": "markdown",
      "id": "senior-boost",
      "metadata": {},
      "source": [
        "In Dyalog APL, the only simple scalars that are considered by the total array ordering are nulls, numbers, and characters.\n",
        "In other words, total array ordering does not contemplate namespaces, objects, and object representations.\n",
        "\n",
        "For example, the following usage of _grade up_ fails because of the namespace in the vector:"
      ]
    },
    {
      "cell_type": "code",
      "execution_count": 57,
      "id": "failing-trade",
      "metadata": {},
      "outputs": [
        {
          "name": "stderr",
          "output_type": "stream",
          "text": [
            "DOMAIN ERROR\n",
            "      \u234b1 2(\u2395NS \u236c)4\n",
            "      \u2227\n"
          ]
        }
      ],
      "source": [
        "\u234b1 2 (\u2395NS\u236c) 4"
      ]
    },
    {
      "cell_type": "markdown",
      "id": "early-meeting",
      "metadata": {},
      "source": [
        "(fig-Applied_Maths)=\n",
        "```{figure} ../res/Applied_Maths.png\n",
        "---\n",
        "name: Applied_Maths\n",
        "---\n",
        "A man holding a blue hammer chasing a piggy bank.\n",
        "```\n"
      ]
    },
    {
      "cell_type": "markdown",
      "id": "international-reservation",
      "metadata": {},
      "source": [
        "(Mathematical-Functions-Solutions)=\n",
        "## Solutions\n",
        "\n",
        "```{solution} ex-encode \n",
        "```\n",
        "\n",
        "We know that `n \u22a5 12 34 60 77 19` is equivalent to `n n n n n \u22a5 12 34 60 77 19`, whatever the value of `n`.\n",
        "Furthermore, we saw that the weights used in the conversion are given by the expression `\u233d1,\u00d7\\\u233d1\u2193n n n n n`.\n",
        "So, if `n \u2190 0`, we get that the weights are"
      ]
    },
    {
      "cell_type": "code",
      "execution_count": 237,
      "id": "liquid-burke",
      "metadata": {},
      "outputs": [
        {
          "data": {
            "text/html": [
              "<span style=\"white-space:pre; font-family: monospace\">0 0 0 0 1\n",
              "</span>"
            ]
          },
          "execution_count": 237,
          "metadata": {},
          "output_type": "execute_result"
        }
      ],
      "source": [
        "\u233d1,\u00d7\\\u233d1\u21935\u23740"
      ]
    },
    {
      "cell_type": "markdown",
      "id": "victorian-engine",
      "metadata": {},
      "source": [
        "This means that the 19 is multiplied by 1 and everything else by 0, so the final result is 19:"
      ]
    },
    {
      "cell_type": "code",
      "execution_count": 238,
      "id": "temporal-native",
      "metadata": {
        "tags": [
          "skip-execution"
        ]
      },
      "outputs": [
        {
          "data": {
            "text/html": [
              "<span style=\"white-space:pre; font-family: monospace\">19\n",
              "</span>"
            ]
          },
          "execution_count": 238,
          "metadata": {},
          "output_type": "execute_result"
        }
      ],
      "source": [
        "0 \u22a5 12 34 60 77 19"
      ]
    },
    {
      "cell_type": "markdown",
      "id": "suitable-exploration",
      "metadata": {},
      "source": [
        "Therefore, `0\u22a5vec` gives the last element of a numeric vector.\n",
        "\n",
        "If `n \u2190 1`, the weights are"
      ]
    },
    {
      "cell_type": "code",
      "execution_count": 239,
      "id": "collected-dialogue",
      "metadata": {},
      "outputs": [
        {
          "data": {
            "text/html": [
              "<span style=\"white-space:pre; font-family: monospace\">1 1 1 1 1\n",
              "</span>"
            ]
          },
          "execution_count": 239,
          "metadata": {},
          "output_type": "execute_result"
        }
      ],
      "source": [
        "\u233d1,\u00d7\\\u233d1\u21935\u23741"
      ]
    },
    {
      "cell_type": "markdown",
      "id": "median-ontario",
      "metadata": {},
      "source": [
        "This means that every number is multiplied by 1, and thus `1\u22a5` gives the sum of a vector:"
      ]
    },
    {
      "cell_type": "code",
      "execution_count": 240,
      "id": "democratic-construction",
      "metadata": {
        "tags": [
          "skip-execution"
        ]
      },
      "outputs": [
        {
          "data": {
            "text/html": [
              "<span style=\"white-space:pre; font-family: monospace\">202\n",
              "</span>"
            ]
          },
          "execution_count": 240,
          "metadata": {},
          "output_type": "execute_result"
        }
      ],
      "source": [
        "1 \u22a5 12 34 60 77 19"
      ]
    },
    {
      "cell_type": "code",
      "execution_count": 241,
      "id": "acoustic-reputation",
      "metadata": {},
      "outputs": [
        {
          "data": {
            "text/html": [
              "<span style=\"white-space:pre; font-family: monospace\">202\n",
              "</span>"
            ]
          },
          "execution_count": 241,
          "metadata": {},
          "output_type": "execute_result"
        }
      ],
      "source": [
        "+/ 12 34 60 77 19"
      ]
    },
    {
      "cell_type": "markdown",
      "id": "round-sunday",
      "metadata": {},
      "source": [
        "```{solution} ex-hex \n",
        "```\n",
        "\n",
        "Because we know that hexadecimal values will take up 4 characters only, we can safely do `16 16 16 16\u22a4\u2375` to encode a decimal number to base 16:"
      ]
    },
    {
      "cell_type": "code",
      "execution_count": 242,
      "id": "associate-stretch",
      "metadata": {},
      "outputs": [],
      "source": [
        "D2H \u2190 {'0123456789ABCDEF'[1+16 16 16 16\u22a4\u2375]}"
      ]
    },
    {
      "cell_type": "code",
      "execution_count": 243,
      "id": "subjective-subscriber",
      "metadata": {
        "tags": [
          "skip-execution"
        ]
      },
      "outputs": [
        {
          "data": {
            "text/html": [
              "<span style=\"white-space:pre; font-family: monospace\">\u250c\u2500\u2500\u252c\u2500\u2500\u2500\u2500\u2510\n",
              "\u25020 \u25020000\u2502\n",
              "\u251c\u2500\u2500\u253c\u2500\u2500\u2500\u2500\u2524\n",
              "\u25021 \u25020001\u2502\n",
              "\u251c\u2500\u2500\u253c\u2500\u2500\u2500\u2500\u2524\n",
              "\u25022 \u25020002\u2502\n",
              "\u251c\u2500\u2500\u253c\u2500\u2500\u2500\u2500\u2524\n",
              "\u25023 \u25020003\u2502\n",
              "\u251c\u2500\u2500\u253c\u2500\u2500\u2500\u2500\u2524\n",
              "\u25024 \u25020004\u2502\n",
              "\u251c\u2500\u2500\u253c\u2500\u2500\u2500\u2500\u2524\n",
              "\u25025 \u25020005\u2502\n",
              "\u251c\u2500\u2500\u253c\u2500\u2500\u2500\u2500\u2524\n",
              "\u25026 \u25020006\u2502\n",
              "\u251c\u2500\u2500\u253c\u2500\u2500\u2500\u2500\u2524\n",
              "\u25027 \u25020007\u2502\n",
              "\u251c\u2500\u2500\u253c\u2500\u2500\u2500\u2500\u2524\n",
              "\u25028 \u25020008\u2502\n",
              "\u251c\u2500\u2500\u253c\u2500\u2500\u2500\u2500\u2524\n",
              "\u25029 \u25020009\u2502\n",
              "\u251c\u2500\u2500\u253c\u2500\u2500\u2500\u2500\u2524\n",
              "\u250210\u2502000A\u2502\n",
              "\u251c\u2500\u2500\u253c\u2500\u2500\u2500\u2500\u2524\n",
              "\u250211\u2502000B\u2502\n",
              "\u251c\u2500\u2500\u253c\u2500\u2500\u2500\u2500\u2524\n",
              "\u250212\u2502000C\u2502\n",
              "\u251c\u2500\u2500\u253c\u2500\u2500\u2500\u2500\u2524\n",
              "\u250213\u2502000D\u2502\n",
              "\u251c\u2500\u2500\u253c\u2500\u2500\u2500\u2500\u2524\n",
              "\u250214\u2502000E\u2502\n",
              "\u251c\u2500\u2500\u253c\u2500\u2500\u2500\u2500\u2524\n",
              "\u250215\u2502000F\u2502\n",
              "\u2514\u2500\u2500\u2534\u2500\u2500\u2500\u2500\u2518\n",
              "</span>"
            ]
          },
          "execution_count": 243,
          "metadata": {},
          "output_type": "execute_result"
        }
      ],
      "source": [
        "(\u236a,D2H\u00a8) \u00af1+\u237316"
      ]
    },
    {
      "cell_type": "code",
      "execution_count": 244,
      "id": "sunset-characteristic",
      "metadata": {
        "tags": [
          "skip-execution"
        ]
      },
      "outputs": [
        {
          "data": {
            "text/html": [
              "<span style=\"white-space:pre; font-family: monospace\">\u250c\u2500\u2500\u2500\u2500\u252c\u2500\u2500\u2500\u2500\u252c\u2500\u2500\u2500\u2500\u2510\n",
              "\u25021A5C\u2502C20F\u2502EB79\u2502\n",
              "\u2514\u2500\u2500\u2500\u2500\u2534\u2500\u2500\u2500\u2500\u2534\u2500\u2500\u2500\u2500\u2518\n",
              "</span>"
            ]
          },
          "execution_count": 244,
          "metadata": {},
          "output_type": "execute_result"
        }
      ],
      "source": [
        "D2H\u00a8 6748 49679 60281"
      ]
    },
    {
      "cell_type": "markdown",
      "id": "fourth-sherman",
      "metadata": {},
      "source": [
        "If we did not know how long the hexadecimal number would be, we could use `16\u22a5\u2363\u00af1\u22a2` instead:"
      ]
    },
    {
      "cell_type": "code",
      "execution_count": 245,
      "id": "several-omaha",
      "metadata": {},
      "outputs": [
        {
          "data": {
            "text/html": [
              "<span style=\"white-space:pre; font-family: monospace\">75BCD15\n",
              "</span>"
            ]
          },
          "execution_count": 245,
          "metadata": {},
          "output_type": "execute_result"
        }
      ],
      "source": [
        "{'0123456789ABCDEF'[1+16\u22a5\u2363\u00af1\u22a2\u2375]} 123456789"
      ]
    },
    {
      "cell_type": "code",
      "execution_count": 246,
      "id": "fuzzy-memorial",
      "metadata": {},
      "outputs": [],
      "source": [
        "H2D \u2190 {16\u22a5\u00af1+'0123456789ABCDEF'\u2373\u2375}"
      ]
    },
    {
      "cell_type": "code",
      "execution_count": 247,
      "id": "proprietary-binary",
      "metadata": {
        "tags": [
          "skip-execution"
        ]
      },
      "outputs": [
        {
          "data": {
            "text/html": [
              "<span style=\"white-space:pre; font-family: monospace\">6748 49679 60281\n",
              "</span>"
            ]
          },
          "execution_count": 247,
          "metadata": {},
          "output_type": "execute_result"
        }
      ],
      "source": [
        "H2D\u00a8 '1A5C' 'C20F' 'EB79'"
      ]
    },
    {
      "cell_type": "markdown",
      "id": "magnetic-morning",
      "metadata": {},
      "source": [
        "```{solution} ex-sparse-array \n",
        "```\n",
        "\n",
        "Let us work through the solution with the example of the matrix `sa`:"
      ]
    },
    {
      "cell_type": "code",
      "execution_count": 248,
      "id": "worth-intranet",
      "metadata": {},
      "outputs": [
        {
          "data": {
            "text/html": [
              "<span style=\"white-space:pre; font-family: monospace\">0   3 0 0 0 0 0\n",
              "0   0 0 0 0 0 0\n",
              "0   0 0 0 0 0 0\n",
              "5.6 0 0 0 0 0 0\n",
              "0   0 0 0 0 0 0\n",
              "</span>"
            ]
          },
          "execution_count": 248,
          "metadata": {},
          "output_type": "execute_result"
        }
      ],
      "source": [
        "sa \u2190 5 7\u23740 \u22c4 sa[1;2] \u2190 3 \u22c4 sa[4;1] \u2190 5.6\n",
        "\u2395\u2190 sa"
      ]
    },
    {
      "cell_type": "markdown",
      "id": "considered-claim",
      "metadata": {},
      "source": [
        "To implement the function `Contract`, we need to find the non-zero values of `sa` and their indices:"
      ]
    },
    {
      "cell_type": "code",
      "execution_count": 249,
      "id": "compliant-population",
      "metadata": {},
      "outputs": [
        {
          "data": {
            "text/html": [
              "<span style=\"white-space:pre; font-family: monospace\">3 5.6\n",
              "</span>"
            ]
          },
          "execution_count": 249,
          "metadata": {},
          "output_type": "execute_result"
        }
      ],
      "source": [
        "sa[idx \u2190 \u23780\u2260sa]"
      ]
    },
    {
      "cell_type": "code",
      "execution_count": 250,
      "id": "national-graphics",
      "metadata": {},
      "outputs": [
        {
          "data": {
            "text/html": [
              "<span style=\"white-space:pre; font-family: monospace\">\u250c\u2500\u2500\u2500\u252c\u2500\u2500\u2500\u2510\n",
              "\u25021 2\u25024 1\u2502\n",
              "\u2514\u2500\u2500\u2500\u2534\u2500\u2500\u2500\u2518\n",
              "</span>"
            ]
          },
          "execution_count": 250,
          "metadata": {},
          "output_type": "execute_result"
        }
      ],
      "source": [
        "idx"
      ]
    },
    {
      "cell_type": "markdown",
      "id": "green-favor",
      "metadata": {},
      "source": [
        "Now, we need to decode these multidimensional indices into the one-dimensional indices of the ravel, which we can do with the function _decode_ and the shape of the array (`sa`, in our example).\n",
        "However, indexing is 1-based and _encode_ and _decode_ start counting from 0, so we need to subtract 1 from the indices in the beginning and add 1 at the end:"
      ]
    },
    {
      "cell_type": "code",
      "execution_count": 251,
      "id": "diagnostic-tomato",
      "metadata": {},
      "outputs": [
        {
          "data": {
            "text/html": [
              "<span style=\"white-space:pre; font-family: monospace\">2 22\n",
              "</span>"
            ]
          },
          "execution_count": 251,
          "metadata": {},
          "output_type": "execute_result"
        }
      ],
      "source": [
        "1+(\u2374sa)\u22a5\u00af1+\u2349\u2191idx"
      ]
    },
    {
      "cell_type": "markdown",
      "id": "surprised-batch",
      "metadata": {},
      "source": [
        "We can verify these indices are correct:"
      ]
    },
    {
      "cell_type": "code",
      "execution_count": 252,
      "id": "appreciated-trade",
      "metadata": {},
      "outputs": [
        {
          "data": {
            "text/html": [
              "<span style=\"white-space:pre; font-family: monospace\">3 5.6\n",
              "</span>"
            ]
          },
          "execution_count": 252,
          "metadata": {},
          "output_type": "execute_result"
        }
      ],
      "source": [
        "(,sa)[2 22]"
      ]
    },
    {
      "cell_type": "markdown",
      "id": "temporal-international",
      "metadata": {},
      "source": [
        "Now, we can put `Contract` together:"
      ]
    },
    {
      "cell_type": "code",
      "execution_count": 253,
      "id": "engaged-welsh",
      "metadata": {},
      "outputs": [],
      "source": [
        "]dinput\n",
        "Contract \u2190 {\n",
        "    flat \u2190 1+(\u2374\u2375)\u22a5\u00af1+\u2349\u2191idx\u2190\u23780\u2260\u2375\n",
        "    (\u2262\u2374\u2375),(\u2374\u2375),\u2375[idx],flat\n",
        "}"
      ]
    },
    {
      "cell_type": "code",
      "execution_count": 254,
      "id": "surprising-processing",
      "metadata": {},
      "outputs": [
        {
          "data": {
            "text/html": [
              "<span style=\"white-space:pre; font-family: monospace\">2 5 7 3 5.6 2 22\n",
              "</span>"
            ]
          },
          "execution_count": 254,
          "metadata": {},
          "output_type": "execute_result"
        }
      ],
      "source": [
        "\u2395\u2190 compressed \u2190 Contract sa"
      ]
    },
    {
      "cell_type": "markdown",
      "id": "alert-huntington",
      "metadata": {},
      "source": [
        "To implement `Expand`, we work in the other direction.\n",
        "We start by finding the rank and the shape of the original sparse array:"
      ]
    },
    {
      "cell_type": "code",
      "execution_count": 255,
      "id": "unknown-sampling",
      "metadata": {},
      "outputs": [
        {
          "data": {
            "text/html": [
              "<span style=\"white-space:pre; font-family: monospace\">2\n",
              "</span>"
            ]
          },
          "execution_count": 255,
          "metadata": {},
          "output_type": "execute_result"
        }
      ],
      "source": [
        "\u2395\u2190 rank \u2190 \u2283compressed"
      ]
    },
    {
      "cell_type": "code",
      "execution_count": 256,
      "id": "breeding-addiction",
      "metadata": {},
      "outputs": [
        {
          "data": {
            "text/html": [
              "<span style=\"white-space:pre; font-family: monospace\">5 7\n",
              "</span>"
            ]
          },
          "execution_count": 256,
          "metadata": {},
          "output_type": "execute_result"
        }
      ],
      "source": [
        "\u2395\u2190 shape \u2190 rank\u21911\u2193compressed"
      ]
    },
    {
      "cell_type": "code",
      "execution_count": 257,
      "id": "rocky-consideration",
      "metadata": {},
      "outputs": [
        {
          "data": {
            "text/html": [
              "<span style=\"white-space:pre; font-family: monospace\">3 5.6 2 22\n",
              "</span>"
            ]
          },
          "execution_count": 257,
          "metadata": {},
          "output_type": "execute_result"
        }
      ],
      "source": [
        "\u2395\u2190 rest \u2190 compressed\u2193\u23681+rank"
      ]
    },
    {
      "cell_type": "markdown",
      "id": "literary-ground",
      "metadata": {},
      "source": [
        "Now, we need to split the remainder into the values and the indices:"
      ]
    },
    {
      "cell_type": "code",
      "execution_count": 258,
      "id": "gross-manufacturer",
      "metadata": {},
      "outputs": [
        {
          "data": {
            "text/html": [
              "<span style=\"white-space:pre; font-family: monospace\">3 5.6\n",
              "</span>"
            ]
          },
          "execution_count": 258,
          "metadata": {},
          "output_type": "execute_result"
        }
      ],
      "source": [
        "\u2395\u2190 values \u2190 rest\u2191\u23680.5\u00d7\u2262rest"
      ]
    },
    {
      "cell_type": "code",
      "execution_count": 259,
      "id": "false-yield",
      "metadata": {},
      "outputs": [
        {
          "data": {
            "text/html": [
              "<span style=\"white-space:pre; font-family: monospace\">2 22\n",
              "</span>"
            ]
          },
          "execution_count": 259,
          "metadata": {},
          "output_type": "execute_result"
        }
      ],
      "source": [
        "\u2395\u2190 idx \u2190 rest\u2193\u23680.5\u00d7\u2262rest"
      ]
    },
    {
      "cell_type": "markdown",
      "id": "corrected-browse",
      "metadata": {},
      "source": [
        "Now, we use _encode_ and the shape of the array to transform the linear indices into the multidimensional ones:"
      ]
    },
    {
      "cell_type": "code",
      "execution_count": 260,
      "id": "diverse-narrative",
      "metadata": {},
      "outputs": [
        {
          "data": {
            "text/html": [
              "<span style=\"white-space:pre; font-family: monospace\">\u250c\u2500\u2500\u2500\u252c\u2500\u2500\u2500\u2510\n",
              "\u25021 2\u25024 1\u2502\n",
              "\u2514\u2500\u2500\u2500\u2534\u2500\u2500\u2500\u2518\n",
              "</span>"
            ]
          },
          "execution_count": 260,
          "metadata": {},
          "output_type": "execute_result"
        }
      ],
      "source": [
        "\u2193\u23491+shape\u22a4\u00af1+idx"
      ]
    },
    {
      "cell_type": "code",
      "execution_count": 261,
      "id": "unauthorized-processor",
      "metadata": {},
      "outputs": [],
      "source": [
        "]dinput\n",
        "Expand \u2190 {\n",
        "    shape \u2190 (\u2283\u2375)\u21911\u2193\u2375\n",
        "    rest \u2190 \u2375\u2193\u23681+\u2283\u2375\n",
        "    values \u2190 rest\u2191\u23680.5\u00d7\u2262rest\n",
        "    idx \u2190 rest\u2193\u23680.5\u00d7\u2262rest\n",
        "    arr \u2190 shape\u23740\n",
        "    arr[\u2193\u23491+shape\u22a4\u00af1+idx] \u2190 values\n",
        "    arr\n",
        "}"
      ]
    },
    {
      "cell_type": "code",
      "execution_count": 262,
      "id": "economic-verse",
      "metadata": {},
      "outputs": [
        {
          "data": {
            "text/html": [
              "<span style=\"white-space:pre; font-family: monospace\">0   3 0 0 0 0 0\n",
              "0   0 0 0 0 0 0\n",
              "0   0 0 0 0 0 0\n",
              "5.6 0 0 0 0 0 0\n",
              "0   0 0 0 0 0 0\n",
              "</span>"
            ]
          },
          "execution_count": 262,
          "metadata": {},
          "output_type": "execute_result"
        }
      ],
      "source": [
        "Expand compressed"
      ]
    },
    {
      "cell_type": "markdown",
      "id": "hearing-summer",
      "metadata": {},
      "source": [
        "As another example, here is a cuboid with five non-zero elements:"
      ]
    },
    {
      "cell_type": "code",
      "execution_count": 263,
      "id": "authentic-arizona",
      "metadata": {},
      "outputs": [
        {
          "data": {
            "text/html": [
              "<span style=\"white-space:pre; font-family: monospace\">0 0 0 0 0 0 0 0 0 0 0 0 0 0 0 0 0 0 0 0 0\n",
              "0 0 0 0 0 0 0 0 0 0 0 0 0 0 0 0 0 0 0 0 0\n",
              "0 0 0 0 0 0 0 0 0 0 0 0 0 0 0 0 0 0 0 0 0\n",
              "0 0 0 0 0 0 0 0 0 0 0 0 0 0 0 0 0 0 0 0 0\n",
              "0 0 0 0 0 0 0 0 0 0 0 0 0 0 0 0 0 0 0 0 0\n",
              "0 0 0 0 0 0 0 0 0 0 0 0 0 0 0 0 0 0 0 0 0\n",
              "0 0 0 0 0 0 0 0 0 0 0 0 0 0 0 0 0 0 0 0 0\n",
              "                                         \n",
              "0 0 0 0 0 0 0 0 0 0 0 0 0 0 0 0 0 0 0 0 0\n",
              "0 0 0 0 0 0 0 0 0 0 0 0 0 0 0 0 0 0 0 0 0\n",
              "0 0 4 0 0 0 0 0 0 0 0 0 0 0 0 0 0 0 0 0 0\n",
              "0 0 1 0 0 0 0 0 0 0 0 0 0 0 0 0 0 0 0 0 0\n",
              "0 0 0 0 0 0 0 0 0 0 0 0 0 0 5 0 0 0 0 0 0\n",
              "0 0 0 0 0 0 0 0 0 0 0 0 0 0 0 0 0 0 0 0 0\n",
              "0 0 0 0 0 0 0 0 0 0 0 0 0 0 0 0 0 0 0 0 0\n",
              "                                         \n",
              "0 0 0 0 0 0 0 0 0 0 0 0 0 0 0 0 0 0 0 0 0\n",
              "0 0 0 0 0 0 0 0 0 0 0 0 0 0 0 0 0 0 0 0 0\n",
              "0 0 0 0 0 0 0 0 0 0 0 0 0 0 0 0 0 0 0 0 0\n",
              "0 0 0 0 0 0 0 0 0 0 0 0 0 0 0 0 0 0 0 0 0\n",
              "0 0 0 0 0 0 0 0 0 0 0 0 0 0 0 2 0 0 0 0 0\n",
              "0 0 0 0 0 0 0 0 0 0 0 0 0 0 0 0 0 0 0 0 0\n",
              "0 0 0 0 0 0 0 0 0 0 0 0 0 3 0 0 0 0 0 0 0\n",
              "</span>"
            ]
          },
          "execution_count": 263,
          "metadata": {},
          "output_type": "execute_result"
        }
      ],
      "source": [
        "cuboid \u2190 3 7 21\u23740\n",
        "cuboid[(,\u2373\u2374cuboid)[5?\u00d7/\u2374cuboid]] \u2190 \u23735\n",
        "cuboid"
      ]
    },
    {
      "cell_type": "code",
      "execution_count": 264,
      "id": "frequent-client",
      "metadata": {},
      "outputs": [
        {
          "data": {
            "text/html": [
              "<span style=\"white-space:pre; font-family: monospace\">1\n",
              "</span>"
            ]
          },
          "execution_count": 264,
          "metadata": {},
          "output_type": "execute_result"
        }
      ],
      "source": [
        "cuboid \u2261 Expand Contract cuboid"
      ]
    },
    {
      "cell_type": "markdown",
      "id": "breeding-projector",
      "metadata": {},
      "source": [
        "```{solution} ex-random \n",
        "```\n",
        "\n",
        " - a vector of 12 values between 8 and 30, without duplicates:"
      ]
    },
    {
      "cell_type": "code",
      "execution_count": 265,
      "id": "effective-pencil",
      "metadata": {},
      "outputs": [
        {
          "data": {
            "text/html": [
              "<span style=\"white-space:pre; font-family: monospace\">21 13 30 29 23 20 28 18 11 25 24 16\n",
              "</span>"
            ]
          },
          "execution_count": 265,
          "metadata": {},
          "output_type": "execute_result"
        }
      ],
      "source": [
        "7+12?23"
      ]
    },
    {
      "cell_type": "markdown",
      "id": "governmental-second",
      "metadata": {},
      "source": [
        " - a 4 by 6 matrix filled with values between 37 and 47, with possible duplicates:"
      ]
    },
    {
      "cell_type": "code",
      "execution_count": 266,
      "id": "fifth-score",
      "metadata": {},
      "outputs": [
        {
          "data": {
            "text/html": [
              "<span style=\"white-space:pre; font-family: monospace\">39 41 44 38 42 45\n",
              "47 39 39 40 44 37\n",
              "44 45 47 43 40 38\n",
              "43 46 46 47 46 40\n",
              "</span>"
            ]
          },
          "execution_count": 266,
          "metadata": {},
          "output_type": "execute_result"
        }
      ],
      "source": [
        "36+?4 6\u237411"
      ]
    },
    {
      "cell_type": "markdown",
      "id": "cosmetic-necessity",
      "metadata": {},
      "source": [
        "- a 5 by 2 matrix filled with values between \u00af5 and 5, without duplicates:"
      ]
    },
    {
      "cell_type": "code",
      "execution_count": 267,
      "id": "selected-minimum",
      "metadata": {},
      "outputs": [
        {
          "data": {
            "text/html": [
              "<span style=\"white-space:pre; font-family: monospace\">\u00af5 \u00af3\n",
              "\u00af4  0\n",
              "\u00af1  4\n",
              " 2 \u00af2\n",
              " 1  5\n",
              "</span>"
            ]
          },
          "execution_count": 267,
          "metadata": {},
          "output_type": "execute_result"
        }
      ],
      "source": [
        "\u00af6+5 2\u237410?11"
      ]
    },
    {
      "cell_type": "markdown",
      "id": "domestic-boost",
      "metadata": {},
      "source": [
        "```{solution} ex-random-decimals \n",
        "```\n"
      ]
    },
    {
      "cell_type": "code",
      "execution_count": 268,
      "id": "ecological-charity",
      "metadata": {},
      "outputs": [
        {
          "data": {
            "text/html": [
              "<span style=\"white-space:pre; font-family: monospace\">0.0696 0.0865 0.0869 0.0793 0.0118 0.0389 0.0599 0.0475 0.0221 0.0706 0.0165 0.0444 0.0628 0.0359 0.0278\n",
              "</span>"
            ]
          },
          "execution_count": 268,
          "metadata": {},
          "output_type": "execute_result"
        }
      ],
      "source": [
        "0.0001\u00d799+?15\u2374801"
      ]
    },
    {
      "cell_type": "markdown",
      "id": "reverse-colleague",
      "metadata": {},
      "source": [
        "```{solution} ex-read-random \n",
        "```\n",
        "\n",
        "The expression starts with `(10+?10)\u237410` which will create a vector filled with 10, with a random length between 11 and 20.\n",
        "Then, the final `10+?...` will generate random integers between 1 and 10 and add 10 to those, so the final result is a vector of a random length between 11 and 20 with random elements between 11 and 20."
      ]
    },
    {
      "cell_type": "code",
      "execution_count": 269,
      "id": "gorgeous-office",
      "metadata": {},
      "outputs": [
        {
          "data": {
            "text/html": [
              "<span style=\"white-space:pre; font-family: monospace\">20 11 13 18 16 15 11 14 18 17 15 11\n",
              "</span>"
            ]
          },
          "execution_count": 269,
          "metadata": {},
          "output_type": "execute_result"
        }
      ],
      "source": [
        "10+?(10+?10)\u237410"
      ]
    },
    {
      "cell_type": "code",
      "execution_count": 270,
      "id": "cross-penetration",
      "metadata": {
        "scrolled": true
      },
      "outputs": [
        {
          "data": {
            "text/html": [
              "<span style=\"white-space:pre; font-family: monospace\">15 17 16 12 16 17 11 13 13 20 19 15 16 13 12 18 17\n",
              "</span>"
            ]
          },
          "execution_count": 270,
          "metadata": {},
          "output_type": "execute_result"
        }
      ],
      "source": [
        "10+?(10+?10)\u237410"
      ]
    },
    {
      "cell_type": "code",
      "execution_count": 271,
      "id": "crude-notification",
      "metadata": {
        "scrolled": true
      },
      "outputs": [
        {
          "data": {
            "text/html": [
              "<span style=\"white-space:pre; font-family: monospace\">18 12 14 15 18 19 18 11 18 16 19 18 19 14 13 15 17 19 12 13\n",
              "</span>"
            ]
          },
          "execution_count": 271,
          "metadata": {},
          "output_type": "execute_result"
        }
      ],
      "source": [
        "10+?(10+?10)\u237410"
      ]
    },
    {
      "cell_type": "markdown",
      "id": "affected-password",
      "metadata": {},
      "source": [
        "```{solution} ex-random-choose \n",
        "```\n"
      ]
    },
    {
      "cell_type": "code",
      "execution_count": 272,
      "id": "pressed-equilibrium",
      "metadata": {},
      "outputs": [],
      "source": [
        "list \u2190 12 29 5 44 31 60 8 86"
      ]
    },
    {
      "cell_type": "code",
      "execution_count": 273,
      "id": "enclosed-gross",
      "metadata": {},
      "outputs": [
        {
          "data": {
            "text/html": [
              "<span style=\"white-space:pre; font-family: monospace\">31 5 86 29 44\n",
              "</span>"
            ]
          },
          "execution_count": 273,
          "metadata": {},
          "output_type": "execute_result"
        }
      ],
      "source": [
        "list[5?\u2374list]"
      ]
    },
    {
      "cell_type": "markdown",
      "id": "advisory-portable",
      "metadata": {},
      "source": [
        "```{solution} ex-random-length \n",
        "```\n"
      ]
    },
    {
      "cell_type": "code",
      "execution_count": 274,
      "id": "tight-appliance",
      "metadata": {},
      "outputs": [
        {
          "data": {
            "text/html": [
              "<span style=\"white-space:pre; font-family: monospace\">6 32 18 34 5 34 8 16 9 39 24 27\n",
              "</span>"
            ]
          },
          "execution_count": 274,
          "metadata": {},
          "output_type": "execute_result"
        }
      ],
      "source": [
        "2+?(5+?11)\u237438"
      ]
    },
    {
      "cell_type": "markdown",
      "id": "similar-currency",
      "metadata": {},
      "source": [
        "```{solution} ex-cos-approximation \n",
        "```\n"
      ]
    },
    {
      "cell_type": "code",
      "execution_count": 275,
      "id": "extended-effort",
      "metadata": {},
      "outputs": [],
      "source": [
        "Cos \u2190 {(\u2375*p)-.\u00f7!p\u21902\u00d70,\u2373\u237a}"
      ]
    },
    {
      "cell_type": "code",
      "execution_count": 276,
      "id": "exempt-chambers",
      "metadata": {},
      "outputs": [
        {
          "data": {
            "text/html": [
              "<span style=\"white-space:pre; font-family: monospace\">\u00af1\n",
              "</span>"
            ]
          },
          "execution_count": 276,
          "metadata": {},
          "output_type": "execute_result"
        }
      ],
      "source": [
        "2\u25cb\u25cb1"
      ]
    },
    {
      "cell_type": "code",
      "execution_count": 277,
      "id": "abroad-pixel",
      "metadata": {},
      "outputs": [
        {
          "data": {
            "text/html": [
              "<span style=\"white-space:pre; font-family: monospace\">\u00af1\n",
              "</span>"
            ]
          },
          "execution_count": 277,
          "metadata": {},
          "output_type": "execute_result"
        }
      ],
      "source": [
        "10 Cos \u25cb1"
      ]
    },
    {
      "cell_type": "markdown",
      "id": "systematic-inspection",
      "metadata": {},
      "source": [
        "```{solution} ex-circle \n",
        "```\n",
        "\n",
        " - `(1\u25cb\u25cb\u00f74)*2`:\n",
        "\n",
        "$\\sin \\pi/4 = \\sqrt{\\frac12}$, thus the square of that is 0.5:"
      ]
    },
    {
      "cell_type": "code",
      "execution_count": 278,
      "id": "impaired-opportunity",
      "metadata": {},
      "outputs": [
        {
          "data": {
            "text/html": [
              "<span style=\"white-space:pre; font-family: monospace\">0.5\n",
              "</span>"
            ]
          },
          "execution_count": 278,
          "metadata": {},
          "output_type": "execute_result"
        }
      ],
      "source": [
        "(1\u25cb\u25cb\u00f74)*2"
      ]
    },
    {
      "cell_type": "markdown",
      "id": "grateful-samba",
      "metadata": {},
      "source": [
        " - `2\u00d70.5+\u00af2\u25cb1\u25cb0.5`:\n",
        "\n",
        "`\u00af2\u25cb1\u25cb0.5` is $\\arccos(\\sin \\frac12)$, which is $\\frac\\pi2 - \\frac12$, so the whole expression evaluates to $\\pi$:"
      ]
    },
    {
      "cell_type": "code",
      "execution_count": 279,
      "id": "protecting-encounter",
      "metadata": {},
      "outputs": [
        {
          "data": {
            "text/html": [
              "<span style=\"white-space:pre; font-family: monospace\">3.14159\n",
              "</span>"
            ]
          },
          "execution_count": 279,
          "metadata": {},
          "output_type": "execute_result"
        }
      ],
      "source": [
        "2\u00d70.5+\u00af2\u25cb1\u25cb0.5"
      ]
    },
    {
      "cell_type": "code",
      "execution_count": 280,
      "id": "statutory-providence",
      "metadata": {},
      "outputs": [
        {
          "data": {
            "text/html": [
              "<span style=\"white-space:pre; font-family: monospace\">3.14159\n",
              "</span>"
            ]
          },
          "execution_count": 280,
          "metadata": {},
          "output_type": "execute_result"
        }
      ],
      "source": [
        "\u25cb1"
      ]
    },
    {
      "cell_type": "markdown",
      "id": "material-staff",
      "metadata": {},
      "source": [
        "```{solution} ex-solve-linear-eqs \n",
        "```\n",
        "\n",
        "We can solve this set of linear equations with the function _matrix divide_.\n",
        "We just need to be careful when writing the matrix of coefficients."
      ]
    },
    {
      "cell_type": "code",
      "execution_count": 281,
      "id": "healthy-seattle",
      "metadata": {},
      "outputs": [
        {
          "data": {
            "text/html": [
              "<span style=\"white-space:pre; font-family: monospace\">\u00af2 \u00af7 0\n",
              "</span>"
            ]
          },
          "execution_count": 281,
          "metadata": {},
          "output_type": "execute_result"
        }
      ],
      "source": [
        "5 \u00af7 2\u23393 3\u23741 \u00af1 0 0 1 \u00af2 \u00af1 0 1"
      ]
    },
    {
      "cell_type": "markdown",
      "id": "arabic-apparel",
      "metadata": {},
      "source": [
        "```{solution} ex-linear-eqs-compute \n",
        "```\n",
        "\n",
        "To compute the value of $3a + 5b - c$, the easiest thing to do is to start by finding the values of $a$, $b$, and $c$, which we can do by solving the set of linear equations:"
      ]
    },
    {
      "cell_type": "code",
      "execution_count": 282,
      "id": "ruled-roller",
      "metadata": {},
      "outputs": [
        {
          "data": {
            "text/html": [
              "<span style=\"white-space:pre; font-family: monospace\">2 \u00af0.5 3.5\n",
              "</span>"
            ]
          },
          "execution_count": 282,
          "metadata": {},
          "output_type": "execute_result"
        }
      ],
      "source": [
        "\u2395\u2190 (a b c) \u2190 abc \u2190 13 \u00af6 10\u23393 3\u23741 \u00af1 3 \u00af2 4 0 1 \u00af2 2"
      ]
    },
    {
      "cell_type": "markdown",
      "id": "fitting-rental",
      "metadata": {},
      "source": [
        "Finally, we can compute the value of that expression in a couple of ways:"
      ]
    },
    {
      "cell_type": "code",
      "execution_count": 283,
      "id": "accompanied-soundtrack",
      "metadata": {},
      "outputs": [
        {
          "data": {
            "text/html": [
              "<span style=\"white-space:pre; font-family: monospace\">0\n",
              "</span>"
            ]
          },
          "execution_count": 283,
          "metadata": {},
          "output_type": "execute_result"
        }
      ],
      "source": [
        "(3\u00d7a)+(5\u00d7b)-c"
      ]
    },
    {
      "cell_type": "code",
      "execution_count": 284,
      "id": "thrown-password",
      "metadata": {},
      "outputs": [
        {
          "data": {
            "text/html": [
              "<span style=\"white-space:pre; font-family: monospace\">0\n",
              "</span>"
            ]
          },
          "execution_count": 284,
          "metadata": {},
          "output_type": "execute_result"
        }
      ],
      "source": [
        "abc+.\u00d73 5 \u00af1"
      ]
    },
    {
      "cell_type": "markdown",
      "id": "grateful-while",
      "metadata": {},
      "source": [
        "We could have done this computation directly:"
      ]
    },
    {
      "cell_type": "code",
      "execution_count": 285,
      "id": "worth-ceiling",
      "metadata": {},
      "outputs": [
        {
          "data": {
            "text/html": [
              "<span style=\"white-space:pre; font-family: monospace\">0\n",
              "</span>"
            ]
          },
          "execution_count": 285,
          "metadata": {},
          "output_type": "execute_result"
        }
      ],
      "source": [
        "3 5 \u00af1+.\u00d713 \u00af6 10\u23393 3\u23741 \u00af1 3 \u00af2 4 0 1 \u00af2 2"
      ]
    }
  ],
  "metadata": {
    "kernelspec": {
      "display_name": "Dyalog APL",
      "language": "apl",
      "name": "dyalog-kernel"
    },
    "language_info": {
      "file_extension": ".apl",
      "mimetype": "text/apl",
      "name": "APL"
    },
    "toc": {
      "base_numbering": 1,
      "nav_menu": {},
      "number_sections": false,
      "sideBar": true,
      "skip_h1_title": true,
      "title_cell": "Table of Contents",
      "title_sidebar": "Contents",
      "toc_cell": false,
      "toc_position": {},
      "toc_section_display": true,
      "toc_window_display": true
    }
  },
  "nbformat": 4,
  "nbformat_minor": 5
}