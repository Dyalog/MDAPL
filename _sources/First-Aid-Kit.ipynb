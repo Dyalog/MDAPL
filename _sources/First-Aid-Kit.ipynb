{
  "cells": [
    {
      "cell_type": "markdown",
      "id": "middle-evaluation",
      "metadata": {},
      "source": [
        "(First-Aid-Kit-First-Aid-Kit)=\n",
        "# First-Aid Kit\n",
        "\n",
        "It's a pity, but it is impossible to develop applications that work perfectly.\n",
        "Applications always contain errors due to programming mistakes, incorrect use of function calls, or external reasons, such as a missing file or the abnormal termination of an external (non-APL) piece of code.\n",
        "\n",
        "All these problems may interrupt the normal processing of an application, and require immediate corrective action.\n",
        "The aim of this chapter is to give you the basis to deal with these situations, and work through the experience.\n",
        "\n",
        "In [a later chapter](./Event-Handling.ipynb) you will see that it is possible to trap and hide unpredictable errors or events, in order to provide a safe environment for the user.\n",
        "\n",
        "Because APL is an interpreted language, program execution is not aborted, just suspended when an exception occurs.\n",
        "Then the programmer has access to all the application variables, and can diagnose the problem.\n",
        "If they can modify the code or correct some environmental dependency, they may be able to restart the program from the very point it had been interrupted in, until a new exception occurs, and so on.\n",
        "This gives great flexibility when debugging applications.\n",
        "\n",
        "In this chapter you will learn how to:\n",
        " - interpret error messages;\n",
        " - interpret the information provided by various system indicators;\n",
        " - trace the execution of an application step by step; and\n",
        " - set *breakpoints* in strategic places to help debugging.\n",
        " \n",
        "A forgotten comma, an incorrect axis, a missing parenthesis, a scalar where you expected a vector, can all cause an error and it may sometimes be very difficult for a beginner to understand the reason.\n",
        "Try to get help from people who have a better understanding of APL:\n",
        "you will save time *and* learn a lot from them."
      ]
    },
    {
      "cell_type": "markdown",
      "id": "convinced-grocery",
      "metadata": {},
      "source": [
        "(First-Aid-Kit-When-an-Error-Occurs)=\n",
        "## When an Error Occurs\n",
        "\n",
        "(First-Aid-Kit-Our-First-Error)=\n",
        "### Our First Error\n",
        "\n",
        "Even when you use a function, that is in itself perfectly correct, errors may occur if you call it with arguments that are not consistent with the function's requirements.\n",
        "We will use this type of mistake to illustrate what happens when an error occurs.\n",
        "\n",
        "In the previous chapter we wrote a function to interlace two matrices of the same shape:"
      ]
    },
    {
      "cell_type": "code",
      "execution_count": 1,
      "id": "reported-enough",
      "metadata": {},
      "outputs": [],
      "source": [
        "\u2207 r \u2190 x Interlace y; size; even\n",
        "    size \u2190 1 2\u00d7\u2374x\n",
        "    r \u2190 size\u23740\n",
        "    even \u2190 2\u00d7\u2373(\u2374x)[2]\n",
        "    r[;even] \u2190 y\n",
        "    r[;even-1] \u2190 x\n",
        "\u2207"
      ]
    },
    {
      "cell_type": "code",
      "execution_count": 2,
      "id": "passing-ocean",
      "metadata": {},
      "outputs": [
        {
          "data": {
            "text/html": [
              "<span style=\"white-space:pre; font-family: monospace\">\u250c\u2500\u2500\u2500\u252c\u2500\u2500\u2500\u2510\n",
              "\u25021 1\u25020 0\u2502\n",
              "\u25021 1\u25020 0\u2502\n",
              "\u2514\u2500\u2500\u2500\u2534\u2500\u2500\u2500\u2518\n",
              "\n",
              "</span>"
            ]
          },
          "execution_count": 2,
          "metadata": {},
          "output_type": "execute_result"
        }
      ],
      "source": [
        "(2 2\u23741) (2 2\u23740)"
      ]
    },
    {
      "cell_type": "code",
      "execution_count": 3,
      "id": "fifteen-leather",
      "metadata": {},
      "outputs": [
        {
          "data": {
            "text/html": [
              "<span style=\"white-space:pre; font-family: monospace\">1 0 1 0\n",
              "1 0 1 0\n",
              "\n",
              "</span>"
            ]
          },
          "execution_count": 3,
          "metadata": {},
          "output_type": "execute_result"
        }
      ],
      "source": [
        "(2 2\u23741) Interlace (2 2\u23740)"
      ]
    },
    {
      "cell_type": "markdown",
      "id": "capital-pursuit",
      "metadata": {},
      "source": [
        "This function works perfectly if you stick to its rules, but what happens if you call it with matrices that *don't* have the same shape?"
      ]
    },
    {
      "cell_type": "markdown",
      "id": "dependent-congo",
      "metadata": {},
      "source": [
        "(First-Aid-Kit-Your-Environment-and-Indicators)=\n",
        "#### Your Environment and Indicators\n",
        "\n",
        "Let us try to interlace our `forecast` matrix, that has 4 rows and 6 columns,"
      ]
    },
    {
      "cell_type": "code",
      "execution_count": 4,
      "id": "african-awareness",
      "metadata": {},
      "outputs": [
        {
          "data": {
            "text/html": [
              "<span style=\"white-space:pre; font-family: monospace\"> 90 160 420 500  20  30\n",
              "110 450 170 370 290 360\n",
              "340 190 320 120 510 370\n",
              "150 460 240 520 490 280\n",
              "\n",
              "</span>"
            ]
          },
          "execution_count": 4,
          "metadata": {},
          "output_type": "execute_result"
        }
      ],
      "source": [
        "\u2395RL \u2190 73\n",
        "\u2395\u2190forecast \u2190 10\u00d7?4 6\u237455"
      ]
    },
    {
      "cell_type": "markdown",
      "id": "prostate-detroit",
      "metadata": {},
      "source": [
        "with a 3 by 5 matrix, and see what happens:"
      ]
    },
    {
      "cell_type": "code",
      "execution_count": 5,
      "id": "african-flush",
      "metadata": {},
      "outputs": [
        {
          "name": "stderr",
          "output_type": "stream",
          "text": [
            "LENGTH ERROR\n",
            "Interlace[4] r[;even]\u2190y\n",
            "              \u2227\n"
          ]
        }
      ],
      "source": [
        "forecast Interlace 3 5\u2374\u237315"
      ]
    },
    {
      "cell_type": "markdown",
      "id": "vocal-recruitment",
      "metadata": {},
      "source": [
        "The first thing we see is the error message that is issued.\n",
        "Then, if you are using RIDE or the Windows interpreter, you will see that, in the lower right corner of the window, some information is highlighted.\n",
        "{numref}`fig-Win_Red_State_Indicator` shows this highlighting in red, for users of the Windows interpreter, and {numref}`fig-RIDE_Purple_State_Indicator` shows this highlighting in purple for users of the RIDE interpreter.\n",
        "\n",
        "(fig-Win_Red_State_Indicator)=\n",
        "```{figure} res/Win_Red_State_Indicator.png\n",
        "---\n",
        "name: Win_Red_State_Indicator\n",
        "---\n",
        "Red highlighting of `\u2395SI` upon reaching an error in the Windows interpreter.\n",
        "```\n",
        "\n",
        "<br>\n",
        "\n",
        "(fig-RIDE_Purple_State_Indicator)=\n",
        "```{figure} res/RIDE_Purple_State_Indicator.png\n",
        "---\n",
        "name: RIDE_Purple_State_Indicator\n",
        "---\n",
        "Purple highlighting of `\u2395SI` upon reaching an error in the RIDE interpreter.\n",
        "```\n",
        "\n",
        "Furthermore, when using the Windows or RIDE interpreters, an additional trace windows appears, generally at the bottom, as shown respectively by {numref}`fig-Win_Trace_Window` and {numref}`fig-RIDE_Trace_Window`.\n",
        "\n",
        "(fig-Win_Trace_Window)=\n",
        "```{figure} res/Win_Trace_Window.png\n",
        "---\n",
        "name: Win_Trace_Window\n",
        "---\n",
        "Trace window in the Windows interpreter.\n",
        "```\n",
        "\n",
        "---\n",
        "\n",
        "(fig-RIDE_Trace_Window)=\n",
        "```{figure} res/RIDE_Trace_Window.png\n",
        "---\n",
        "name: RIDE_Trace_Window\n",
        "---\n",
        "Trace window in the RIDE interpreter.\n",
        "```\n",
        "\n",
        "APL will preserve the entire execution context (local variables and program status indicators), so that you can resume function execution once the error has been diagnosed and repaired.\n",
        "\n",
        "Let us now examine the meaning of these things."
      ]
    },
    {
      "cell_type": "markdown",
      "id": "junior-centre",
      "metadata": {},
      "source": [
        "(First-Aid-Kit-The-Diagnostic-Message)=\n",
        "#### The Diagnostic Message\n",
        "\n",
        "The *diagnostic message* is displayed on three rows of the screen which show:\n",
        " - the type of error (explained later in {numref}`First-Aid-Kit-Execution-Errors`);\n",
        " - the function name [and line number] - the statement that can't be executed; and\n",
        " - a caret (the character `\u2227`) which is placed where the statement was interrupted.\n",
        " \n",
        "A *system function* named `\u2395DM` returns the latest *diagnostic message*.\n",
        "It is a three-item nested vector, with a sub-vector for each of the three lines, as shown below:"
      ]
    },
    {
      "cell_type": "code",
      "execution_count": 6,
      "id": "golden-toilet",
      "metadata": {},
      "outputs": [
        {
          "data": {
            "text/html": [
              "<span style=\"white-space:pre; font-family: monospace\">C:\\Program Files\\Dyalog\\Dyalog APL-64 18.0 Unicode\\ws\\display.dws saved Tue Dec  1 20:08:12 2020\n",
              "</span>"
            ]
          },
          "execution_count": 6,
          "metadata": {},
          "output_type": "execute_result"
        },
        {
          "data": {
            "text/html": [
              "<span style=\"white-space:pre; font-family: monospace\">\u250c\u2192\u2500\u2500\u2500\u2500\u2500\u2500\u2500\u2500\u2500\u2500\u2500\u2500\u2500\u2500\u2500\u2500\u2500\u2500\u2500\u2500\u2500\u2500\u2500\u2500\u2500\u2500\u2500\u2500\u2500\u2500\u2500\u2500\u2500\u2500\u2500\u2500\u2500\u2500\u2500\u2500\u2500\u2500\u2500\u2500\u2500\u2500\u2500\u2500\u2500\u2500\u2500\u2500\u2500\u2500\u2500\u2500\u2500\u2500\u2500\u2510\n",
              "\u2502 \u250c\u2192\u2500\u2500\u2500\u2500\u2500\u2500\u2500\u2500\u2500\u2500\u2500\u2510 \u250c\u2192\u2500\u2500\u2500\u2500\u2500\u2500\u2500\u2500\u2500\u2500\u2500\u2500\u2500\u2500\u2500\u2500\u2500\u2500\u2500\u2500\u2500\u2500\u2510 \u250c\u2192\u2500\u2500\u2500\u2500\u2500\u2500\u2500\u2500\u2500\u2500\u2500\u2500\u2500\u2500\u2510 \u2502\n",
              "\u2502 \u2502LENGTH ERROR\u2502 \u2502Interlace[4] r[;even]\u2190y\u2502 \u2502              \u2227\u2502 \u2502\n",
              "\u2502 \u2514\u2500\u2500\u2500\u2500\u2500\u2500\u2500\u2500\u2500\u2500\u2500\u2500\u2518 \u2514\u2500\u2500\u2500\u2500\u2500\u2500\u2500\u2500\u2500\u2500\u2500\u2500\u2500\u2500\u2500\u2500\u2500\u2500\u2500\u2500\u2500\u2500\u2500\u2518 \u2514\u2500\u2500\u2500\u2500\u2500\u2500\u2500\u2500\u2500\u2500\u2500\u2500\u2500\u2500\u2500\u2518 \u2502\n",
              "\u2514\u220a\u2500\u2500\u2500\u2500\u2500\u2500\u2500\u2500\u2500\u2500\u2500\u2500\u2500\u2500\u2500\u2500\u2500\u2500\u2500\u2500\u2500\u2500\u2500\u2500\u2500\u2500\u2500\u2500\u2500\u2500\u2500\u2500\u2500\u2500\u2500\u2500\u2500\u2500\u2500\u2500\u2500\u2500\u2500\u2500\u2500\u2500\u2500\u2500\u2500\u2500\u2500\u2500\u2500\u2500\u2500\u2500\u2500\u2500\u2500\u2518\n",
              "\n",
              "</span>"
            ]
          },
          "execution_count": 6,
          "metadata": {},
          "output_type": "execute_result"
        }
      ],
      "source": [
        ")copy display DISPLAY\n",
        "DISPLAY \u2395DM"
      ]
    },
    {
      "cell_type": "markdown",
      "id": "adjustable-isolation",
      "metadata": {},
      "source": [
        "`\u2395DM` retains this value until it is replaced by the occurrence of a new error, or until we explicitly clear it."
      ]
    },
    {
      "cell_type": "markdown",
      "id": "perceived-applicant",
      "metadata": {},
      "source": [
        "(First-Aid-Kit-State-Indicator-and-Line-Counter)=\n",
        "#### State Indicator and Line Counter\n",
        "\n",
        "Whenever function execution is interrupted for any reason, Dyalog APL keeps track of the exact point where the interrupt occurred in the *state indicator* (SI for short).\n",
        "This value of the state indicator may be obtained using a system command `)si` or a system function `\u2395SI`:\n",
        "\n",
        " - system command:\n",
        "\n",
        "```APL\n",
        "      )si\n",
        "#.Interlace[4]*\n",
        "```\n",
        "\n",
        " - system function:\n",
        "\n",
        "```APL\n",
        "      \u2395SI\n",
        "\u250c\u2500\u2500\u2500\u2500\u2500\u2500\u2500\u2500\u2500\u2510\n",
        "\u2502Interlace\u2502\n",
        "\u2514\u2500\u2500\u2500\u2500\u2500\u2500\u2500\u2500\u2500\u2518\n",
        "```\n",
        "\n",
        "The *system function* `\u2395SI` returns a nested vector containing only the names of the interrupted functions;\n",
        "in this example only one name appears.\n",
        "\n",
        "The *system command* `)si` reports, for each function in the execution stack:\n",
        " - a path (here `#.`) which will be explained in [a later chapter](./Namespaces.ipynb). Ignore it for now;\n",
        " - the function name (`Interlace`);\n",
        " - the number of the statement on which function execution has stopped (`[4]` in this case); and\n",
        " - an asterisk which means that this function has been interrupted.\n",
        " \n",
        "What you see highlighted in the bottom right-hand corner of your session (`\u2395SI:1`) is the number of functions referenced in the *state indicator*.\n",
        "Normally, this number should be zero and displayed in black; as soon as an error or an interrupt occurs, it is displayed in a different colour as a warning (in red or purple, depending on your software).\n",
        "\n",
        "APL also keeps, in a *line counter*, the list of function lines waiting for execution.\n",
        "In this case there is only one.\n",
        "It can be obtained from the *system function* `\u2395LC`:\n",
        "\n",
        "```APL\n",
        "      \u2395LC\n",
        "4\n",
        "```\n",
        "\n",
        "The number above shows that `Interlace` was interrupted on line 4.\n",
        "\n",
        "```{admonition} Note \n",
        ":class: note\n",
        "Due to limitations of the Jupyter interface, many of the things we will be discussing here will work differently when applied directly to a Dyalog APL notebook.\n",
        "```\n",
        "\n",
        "For example, even though we got an error with the incorrect usage of `Interlace` and we were able to check the diagnostic message with `\u2395DM`, the *state indicator* and the *line counter* are empty:"
      ]
    },
    {
      "cell_type": "code",
      "execution_count": 7,
      "id": "sealed-blank",
      "metadata": {},
      "outputs": [
        {
          "name": "stderr",
          "output_type": "stream",
          "text": [
            "LENGTH ERROR\n",
            "Interlace[4] r[;even]\u2190y\n",
            "              \u2227\n"
          ]
        }
      ],
      "source": [
        "forecast Interlace 3 5\u2374\u237315"
      ]
    },
    {
      "cell_type": "code",
      "execution_count": 8,
      "id": "eastern-prophet",
      "metadata": {},
      "outputs": [
        {
          "data": {
            "text/html": [
              "<span style=\"white-space:pre; font-family: monospace\">\n",
              "\n",
              "\n",
              "\n",
              "</span>"
            ]
          },
          "execution_count": 8,
          "metadata": {},
          "output_type": "execute_result"
        }
      ],
      "source": [
        "\u2395SI"
      ]
    },
    {
      "cell_type": "code",
      "execution_count": 9,
      "id": "blind-carolina",
      "metadata": {},
      "outputs": [
        {
          "data": {
            "text/html": [
              "<span style=\"white-space:pre; font-family: monospace\">\n",
              "\n",
              "</span>"
            ]
          },
          "execution_count": 9,
          "metadata": {},
          "output_type": "execute_result"
        }
      ],
      "source": [
        "\u2395LC"
      ]
    },
    {
      "cell_type": "markdown",
      "id": "portable-booking",
      "metadata": {},
      "source": [
        "(First-Aid-Kit-The-Trace-Window)=\n",
        "#### The Trace Window\n",
        "\n",
        "If you are running Dyalog APL using the default *tracer* behaviour, when you reach an error inside a function a window should pop up in the bottom of the interpreter, with the function text displayed in another colour and with the statement in error highlighted.\n",
        "\n",
        "If you are using the Windows interpreter and the trace window did not appear spontaneously, just press <kbd>Ctr</kbd>+<kbd>Enter</kbd>. Then, go to \"Options\" &#8680; \"Configuration\" &#8680; \"Trace/Edit\" and tick the checkbox next to \"*Show trace stack on error*\".\n",
        "\n",
        "We shall see later how this trace window can be used.\n",
        "**Do not close it** for the moment."
      ]
    },
    {
      "cell_type": "markdown",
      "id": "hungarian-syndication",
      "metadata": {},
      "source": [
        "(First-Aid-Kit-You-Can-See-the-Local-Variables)=\n",
        "#### You Can See the Local Variables\n",
        "\n",
        "Your cursor may not be in this (trace) window: it may remain in the session window, so that you can conveniently enter expressions to diagnose what has happened.\n",
        "If the trace window *does* have the focus, you can just switch the focus to the session window and work there, without closing the trace window.\n",
        "\n",
        "Because the function has been interrupted, all its local variables are visible:\n",
        " - you can look at their values; and\n",
        " - you can even modify them (sometimes this may help).\n",
        " \n",
        "```APL\n",
        "      \u2374y\n",
        "3 5\n",
        "      size\n",
        "4 12\n",
        "      \u2374r[;even]\n",
        "4 6\n",
        "```\n",
        "\n",
        "You can see that the size of the future result is correct, but we cannot assign the 3 rows of `y` into the 4 rows of `r`."
      ]
    },
    {
      "cell_type": "markdown",
      "id": "published-queens",
      "metadata": {},
      "source": [
        "(First-Aid-Kit-What-Can-We-Do)=\n",
        "#### What Can We Do?\n",
        "\n",
        "Obviously, in this case there is nothing we can do: the function is correct, we just misused it!\n",
        "We could, perhaps, forget about it and go on to do something else.\n",
        "However, if we do so, APL will retain the entire execution stack of functions and local variables in its interrupted state.\n",
        "If we are not going to continue debugging, we should really clean up by getting the system out of this state.\n",
        "\n",
        "There are three ways to achieve this.\n",
        "If you want to try all three of them out, you will need to reproduce the same error after each exit operation:\n",
        " 1. close the trace window. You can use the standard windows methods to close it, or you can click on it (to give it the focus) and then press <kbd>Esc</kbd> to close it;\n",
        " 2. type a branch arrow `\u2192` in the session window (as seen in {numref}`User-Defined-Functions-Niladic-Arrow`); or\n",
        " 3. execute the `)reset` command in the session window.\n",
        "\n",
        "Whichever option you chose, you can verify that:\n",
        " - both `)si` and `\u2395SI` now give an empty result and\n",
        " - the highlighted indication `\u2395SI:1` is replaced by a neutral `\u2395SI:0` in the session status bar.\n",
        "\n",
        "However, there is a little difference: with the first two methods, `\u2395DM` retains its value (and keeps track of the latest error), while `)reset` also clears `\u2395DM`.\n",
        "In fact, we can generate an error right here in the session:"
      ]
    },
    {
      "cell_type": "code",
      "execution_count": 10,
      "id": "stuffed-rider",
      "metadata": {},
      "outputs": [
        {
          "name": "stderr",
          "output_type": "stream",
          "text": [
            "LENGTH ERROR: Mismatched left and right argument shapes\n",
            "      1 2+3 4 5\n",
            "         \u2227\n"
          ]
        }
      ],
      "source": [
        "1 2 + 3 4 5"
      ]
    },
    {
      "cell_type": "markdown",
      "id": "floral-charles",
      "metadata": {},
      "source": [
        "Notice `\u2395DM` contains the information about this error:"
      ]
    },
    {
      "cell_type": "code",
      "execution_count": 11,
      "id": "tough-twins",
      "metadata": {},
      "outputs": [
        {
          "data": {
            "text/html": [
              "<span style=\"white-space:pre; font-family: monospace\">\u250c\u2500\u2500\u2500\u2500\u2500\u2500\u2500\u2500\u2500\u2500\u2500\u2500\u252c\u2500\u2500\u2500\u2500\u2500\u2500\u2500\u2500\u2500\u2500\u2500\u2500\u2500\u2500\u2500\u252c\u2500\u2500\u2500\u2500\u2500\u2500\u2500\u2500\u2500\u2500\u2510\n",
              "\u2502LENGTH ERROR\u2502      1 2+3 4 5\u2502         \u2227\u2502\n",
              "\u2514\u2500\u2500\u2500\u2500\u2500\u2500\u2500\u2500\u2500\u2500\u2500\u2500\u2534\u2500\u2500\u2500\u2500\u2500\u2500\u2500\u2500\u2500\u2500\u2500\u2500\u2500\u2500\u2500\u2534\u2500\u2500\u2500\u2500\u2500\u2500\u2500\u2500\u2500\u2500\u2518\n",
              "\n",
              "</span>"
            ]
          },
          "execution_count": 11,
          "metadata": {},
          "output_type": "execute_result"
        }
      ],
      "source": [
        "\u2395DM"
      ]
    },
    {
      "cell_type": "markdown",
      "id": "false-rainbow",
      "metadata": {},
      "source": [
        "If we use the `)reset` command, then `\u2395DM` becomes empty:"
      ]
    },
    {
      "cell_type": "code",
      "execution_count": 12,
      "id": "confused-partition",
      "metadata": {},
      "outputs": [],
      "source": [
        ")reset"
      ]
    },
    {
      "cell_type": "code",
      "execution_count": 13,
      "id": "demonstrated-loading",
      "metadata": {},
      "outputs": [
        {
          "data": {
            "text/html": [
              "<span style=\"white-space:pre; font-family: monospace\">\n",
              "\n",
              "</span>"
            ]
          },
          "execution_count": 13,
          "metadata": {},
          "output_type": "execute_result"
        }
      ],
      "source": [
        "\u2395DM"
      ]
    },
    {
      "cell_type": "markdown",
      "id": "cooked-wound",
      "metadata": {},
      "source": [
        "(First-Aid-Kit-Cascade-of-Errors)=\n",
        "### Cascade of Errors\n",
        "\n",
        "We shall now see what happens when an error occurs in a sub-function."
      ]
    },
    {
      "cell_type": "markdown",
      "id": "better-pioneer",
      "metadata": {},
      "source": [
        "(First-Aid-Kit-Preparation)=\n",
        "#### Preparation\n",
        "\n",
        "A palindrome is a string of characters which remains the same when it is reversed, after any non-alphabetic characters (including spaces) have been removed.\n",
        "For example, \"*Cigar: toss it in a can. It is so tragic.*\" and \"*Was it a car or a cat I saw?*\" are palindromes.\n",
        "\n",
        "We shall try to write a function which detects whether or not a given string of characters is a palindrome.\n",
        "We are going to use two auxiliary functions:\n",
        "\n",
        " 1. `Upper` removes all non-alphabetic characters and transforms the remaining letters into uppercase characters."
      ]
    },
    {
      "cell_type": "code",
      "execution_count": 14,
      "id": "western-image",
      "metadata": {},
      "outputs": [],
      "source": [
        "]dinput\n",
        "Upper \u2190 {\n",
        "    low \u2190 'abcdefghijklmnopqrstuvwxyz'\n",
        "    up  \u2190 'ABCDEFGHIJKLMNOPQRSTUVWXYZ'\n",
        "    all \u2190 low,up\n",
        "    text \u2190 (\u2375\u220aall)/\u2375\n",
        "    (up,up)[all\u2373text]\n",
        "}"
      ]
    },
    {
      "cell_type": "code",
      "execution_count": 15,
      "id": "valuable-three",
      "metadata": {},
      "outputs": [
        {
          "data": {
            "text/html": [
              "<span style=\"white-space:pre; font-family: monospace\">VISITNEWYORK\n",
              "\n",
              "</span>"
            ]
          },
          "execution_count": 15,
          "metadata": {},
          "output_type": "execute_result"
        }
      ],
      "source": [
        "Upper 'Visit New York'"
      ]
    },
    {
      "cell_type": "markdown",
      "id": "boxed-roots",
      "metadata": {},
      "source": [
        " 2. `Reverse` reverses the items of a vector.\n",
        "\n",
        "This is one possible solution to an exercise from the previous chapter, written by someone who was unaware that APL has a *reverse* primitive (introduced in [a later chapter](./Working-on-Data-Shape.ipynb)):"
      ]
    },
    {
      "cell_type": "code",
      "execution_count": 16,
      "id": "corrected-catalyst",
      "metadata": {},
      "outputs": [],
      "source": [
        "]dinput\n",
        "Reverse \u2190 {\n",
        "    index \u2190 (1+\u2262\u2375)-\u2373\u2262\u2375\n",
        "    \u2375[index]\n",
        "}"
      ]
    },
    {
      "cell_type": "code",
      "execution_count": 17,
      "id": "intended-assembly",
      "metadata": {},
      "outputs": [
        {
          "data": {
            "text/html": [
              "<span style=\"white-space:pre; font-family: monospace\">noitartsnomeD\n",
              "\n",
              "</span>"
            ]
          },
          "execution_count": 17,
          "metadata": {},
          "output_type": "execute_result"
        }
      ],
      "source": [
        "Reverse 'Demonstration'"
      ]
    },
    {
      "cell_type": "markdown",
      "id": "comparable-springfield",
      "metadata": {},
      "source": [
        "Finally, `Palindrome` compares the uppercase version of the original vector against its reversed version:"
      ]
    },
    {
      "cell_type": "code",
      "execution_count": 18,
      "id": "analyzed-calibration",
      "metadata": {},
      "outputs": [],
      "source": [
        "]dinput\n",
        "Palindrome \u2190 {\n",
        "    vector \u2190 Upper \u2375\n",
        "    torvec \u2190 Reverse vector\n",
        "    torvec\u2261vector\n",
        "}"
      ]
    },
    {
      "cell_type": "markdown",
      "id": "accepting-eligibility",
      "metadata": {},
      "source": [
        "Let's try it out:"
      ]
    },
    {
      "cell_type": "code",
      "execution_count": 19,
      "id": "hearing-lindsay",
      "metadata": {},
      "outputs": [
        {
          "data": {
            "text/html": [
              "<span style=\"white-space:pre; font-family: monospace\">1\n",
              "\n",
              "</span>"
            ]
          },
          "execution_count": 19,
          "metadata": {},
          "output_type": "execute_result"
        }
      ],
      "source": [
        "Palindrome 'Was it a car or a cat I saw?'"
      ]
    },
    {
      "cell_type": "code",
      "execution_count": 20,
      "id": "wound-forge",
      "metadata": {},
      "outputs": [
        {
          "data": {
            "text/html": [
              "<span style=\"white-space:pre; font-family: monospace\">0\n",
              "\n",
              "</span>"
            ]
          },
          "execution_count": 20,
          "metadata": {},
          "output_type": "execute_result"
        }
      ],
      "source": [
        "Palindrome 'Am I a palindrome?'"
      ]
    },
    {
      "cell_type": "markdown",
      "id": "simplified-ceiling",
      "metadata": {},
      "source": [
        "Now, in `Palindrome` we decide to replace `Reverse` by `ReverBug`, a deliberately faulty and obtuse version.\n",
        "Not only does it use an unnecessary loop, but it includes some (intentional) errors:"
      ]
    },
    {
      "cell_type": "code",
      "execution_count": 21,
      "id": "flying-membership",
      "metadata": {},
      "outputs": [],
      "source": [
        "\u2207 rev \u2190 ReverBug vec; from; to    \u235d Intentionally faulty.\n",
        "    rev \u2190 (\u2262vec)\u2374'?'\n",
        "    from \u2190 0\n",
        "    :Repeat\n",
        "        from \u2190 frm+1\n",
        "        to \u2190 (\u2262vec)-from\n",
        "        rev[to] \u2190 vec[from]\n",
        "    :Until from=\u2262vec\n",
        "\u2207"
      ]
    },
    {
      "cell_type": "markdown",
      "id": "gentle-majority",
      "metadata": {},
      "source": [
        "(First-Aid-Kit-Let-Us-Create-More-Errors)=\n",
        "#### Let Us Create More Errors\n",
        "\n",
        "First, let us execute the little function `Plus`, shown below, with incorrect arguments, so as to obtain a `LENGTH ERROR`:"
      ]
    },
    {
      "cell_type": "code",
      "execution_count": 22,
      "id": "attractive-mixture",
      "metadata": {},
      "outputs": [],
      "source": [
        "]dinput\n",
        "Plus \u2190 {\n",
        "    \u237a + \u2375\n",
        "}"
      ]
    },
    {
      "cell_type": "code",
      "execution_count": 23,
      "id": "tired-gossip",
      "metadata": {},
      "outputs": [
        {
          "name": "stderr",
          "output_type": "stream",
          "text": [
            "LENGTH ERROR: Mismatched left and right argument shapes\n",
            "Plus[1] \u237a+\u2375\n",
            "         \u2227\n"
          ]
        }
      ],
      "source": [
        "5 1 7 Plus 6 2 9 4"
      ]
    },
    {
      "cell_type": "markdown",
      "id": "equipped-equality",
      "metadata": {},
      "source": [
        "As in the previous example, if you are following along with the examples in the Windows interpreter or in RIDE,\n",
        " - an error message is issued, and a trace window pops up;\n",
        " - `\u2395SI:1` is now highlighted and displayed in the status bar, and `)si` contains one line; and\n",
        " - `\u2395LC` contains the value `1` (the function is interrupted on line 1).\n",
        "\n",
        "We shall intentionally ignore this error.\n",
        "**Do not close** the trace window.\n",
        "\n",
        "As a side comment, notice that if you defined the `Plus` dfn in a single line, for example with `Plus \u2190 {\u237a + \u2375}`, then the trace window will *not* appear. In that case, you would have to redefine `Plus` to span multiple lines *or* rewrite it as a tradfn.\n",
        "\n",
        "And now, let us execute `Palindrome` (after replacing the usage of `Reverse` with the faulty `ReverBug`).\n",
        "An error is immediately reported:"
      ]
    },
    {
      "cell_type": "code",
      "execution_count": 24,
      "id": "surgical-blast",
      "metadata": {},
      "outputs": [],
      "source": [
        "]dinput\n",
        "Palindrome \u2190 {\n",
        "    vector \u2190 Upper \u2375\n",
        "    torvec \u2190 ReverBug vector\n",
        "    torvec\u2261vector\n",
        "}"
      ]
    },
    {
      "cell_type": "code",
      "execution_count": 25,
      "id": "governing-truth",
      "metadata": {},
      "outputs": [
        {
          "name": "stderr",
          "output_type": "stream",
          "text": [
            "VALUE ERROR: Undefined name: frm\n",
            "ReverBug[4] from\u2190frm+1\n",
            "                 \u2227\n"
          ]
        }
      ],
      "source": [
        "Palindrome 'Was it a cat or a car I saw?'"
      ]
    },
    {
      "cell_type": "markdown",
      "id": "undefined-twenty",
      "metadata": {},
      "source": [
        " - a second error message is issued;\n",
        " - in the bottom right corner of our session, we now have the information `\u2395SI:3`;\n",
        " - `\u2395LC` contains three values: `4 2 1`; and\n",
        " - we now have three stacked trace windows instead of one:\n",
        " \n",
        "   - one window contains `Plus`, unchanged;\n",
        "   - a second window contains `Palindrome`, in a different colour; and\n",
        "   - on top of that, a third window contains `ReverBug`.\n",
        "   \n",
        "Although the three trace windows are stacked, you should only be able to view one at a time and, in this case, the `ReverBug` trace window should be the one that is visible right now.\n",
        "\n",
        "First, let us consult the indicators we know.\n",
        "`\u2395DM` still shows the latest known error, and `\u2395SI` gives the names of the three interrupted functions, the last one being displayed first:"
      ]
    },
    {
      "cell_type": "markdown",
      "id": "responsible-gibson",
      "metadata": {},
      "source": [
        "```APL\n",
        "      \u2395DM\n",
        "\u250c\u2500\u2500\u2500\u2500\u2500\u2500\u2500\u2500\u2500\u2500\u2500\u252c\u2500\u2500\u2500\u2500\u2500\u2500\u2500\u2500\u2500\u2500\u2500\u2500\u2500\u2500\u2500\u2500\u2500\u2500\u2500\u2500\u2500\u2500\u252c\u2500\u2500\u2500\u2500\u2500\u2500\u2500\u2500\u2500\u2500\u2500\u2500\u2500\u2500\u2500\u2500\u2500\u2500\u2510\n",
        "\u2502VALUE ERROR\u2502ReverBug[4] from\u2190frm+1\u2502                 \u2227\u2502\n",
        "\u2514\u2500\u2500\u2500\u2500\u2500\u2500\u2500\u2500\u2500\u2500\u2500\u2534\u2500\u2500\u2500\u2500\u2500\u2500\u2500\u2500\u2500\u2500\u2500\u2500\u2500\u2500\u2500\u2500\u2500\u2500\u2500\u2500\u2500\u2500\u2534\u2500\u2500\u2500\u2500\u2500\u2500\u2500\u2500\u2500\u2500\u2500\u2500\u2500\u2500\u2500\u2500\u2500\u2500\u2518\n",
        "      \u2395SI\n",
        "\u250c\u2500\u2500\u2500\u2500\u2500\u2500\u2500\u2500\u252c\u2500\u2500\u2500\u2500\u2500\u2500\u2500\u2500\u2500\u2500\u252c\u2500\u2500\u2500\u2500\u2510\n",
        "\u2502ReverBug\u2502Palindrome\u2502Plus\u2502\n",
        "\u2514\u2500\u2500\u2500\u2500\u2500\u2500\u2500\u2500\u2534\u2500\u2500\u2500\u2500\u2500\u2500\u2500\u2500\u2500\u2500\u2534\u2500\u2500\u2500\u2500\u2518\n",
        "      )si\n",
        "#.ReverBug[4]*\n",
        "#.Palindrome[2]\n",
        "#.Plus[1]*\n",
        "```"
      ]
    },
    {
      "cell_type": "markdown",
      "id": "fifth-tenant",
      "metadata": {},
      "source": [
        "Notice that\n",
        " - the star next to `#.ReverBug[4]` means `ReverBug` is interrupted;\n",
        " - `#.Palindrome[2]` has no star to its right, it is \"pending\"; and\n",
        " - there is also a star next to `#.Plus[1]` because `Plus` was also interrupted.\n",
        "\n",
        "As you can see, `)si` is a stack.\n",
        "Starting from the bottom, it indicates that `Plus` was interrupted on line `[1]`.\n",
        "Then `Palindrome[2]` has called `ReverBug`, and finally `ReverBug` caused an error in line `[4]`.\n",
        "\n",
        "Both `\u2395SI` and `\u2395LC` report the most recently interrupted function first, followed by the others.\n",
        "\n",
        "`Palindrome` has not itself generated an error: it is just waiting for the completion of `ReverBug`.\n",
        "The `Palindrome` function is said to be *pending*.\n",
        "For that reason\n",
        " - there is no star to the right of `Palindrome` in `)si`; and\n",
        " - the background of its trace window is a different colour from the others, if you are using the Windows interpreter."
      ]
    },
    {
      "cell_type": "markdown",
      "id": "warming-walker",
      "metadata": {},
      "source": [
        "(First-Aid-Kit-Switch-to-Edit-Mode)=\n",
        "#### Switch to Edit Mode\n",
        "\n",
        "In this case, the error is obvious and we can try to correct it, but the text displayed in the trace window cannot be edited directly;\n",
        "we must first turn the trace window into an edit window.\n",
        "\n",
        "To do this, ensure that your cursor is over an empty space in the session window (it must not be over another name) and then:\n",
        " - just double-click (on nothing); or\n",
        " - press <kbd>Shift</kbd>+<kbd>Enter</kbd>.\n",
        " \n",
        "Alternatively, you can switch focus to the trace window and place the cursor before the start of any function line and press <kbd>Shift</kbd>+<kbd>Enter</kbd>.\n",
        "\n",
        "All three methods should make the colour of the trace window change, most likely from grey to white, if you are using the default colour scheme.\n",
        "\n",
        "You can now modify the incorrect statement (change `frm` into `from`), and press <kbd>Esc</kbd> to fix the modification.\n",
        "The system switches back to the original colour, showing the newly corrected statement."
      ]
    },
    {
      "cell_type": "markdown",
      "id": "indian-relief",
      "metadata": {},
      "source": [
        "(First-Aid-Kit-Continue-Execution)=\n",
        "#### Continue Execution\n",
        "\n",
        "After making the correction, you can choose to either:\n",
        " - resume the function from the interruption point; or\n",
        " - continue by tracing its execution, statement by statement, to see what happens.\n",
        "\n",
        "Let us choose the first option.\n",
        "This can be achieved using one of the following methods:\n",
        " - in the session window, execute `\u2192\u2395LC`, which is equivalent to `\u21924 2 1` in this case.\n",
        "The branch arrow ignores all but the first number, so the program resumes execution from line number 4 in the function at the top of the stack (`ReverBug` in this case); or\n",
        " - in the trace window toolbar, press the *continue execution of this thread* button. {numref}`fig-Win_Continue_Execution_Button` and {numref}`fig-RIDE_Continue_Execution_Button` show what this button looks like for users of the Windows interpreter and of RIDE, respectively.\n",
        "\n",
        "(fig-Win_Continue_Execution_Button)=\n",
        "```{figure} res/Win_Continue_Execution_Button.png\n",
        "---\n",
        "name: Win_Continue_Execution_Button\n",
        "---\n",
        "*Continue execution of this thread* button in the Windows interpreter trace window.\n",
        "```\n",
        "\n",
        "<br>\n",
        "\n",
        "(fig-RIDE_Continue_Execution_Button)=\n",
        "```{figure} res/RIDE_Continue_Execution_Button.png\n",
        "---\n",
        "name: RIDE_Continue_Execution_Button\n",
        "---\n",
        "*Continue execution of this thread* button in the RIDE trace window.\n",
        "```\n",
        "\n",
        "The function resumes its execution but, unfortunately, a second error immediately appears:\n",
        "\n",
        "```APL\n",
        "INDEX ERROR\n",
        "ReverBug[6] rev[to]\u2190vec[from]\n",
        "               \u2227\n",
        "```\n",
        "\n",
        "The indicators are nearly the same; they now tell us that the function is no longer interrupted on line 4, but on line 6.\n",
        "\n",
        "To diagnose the problem, we can look at the values of our local variables.\n",
        "We can either double-click on their names (which will open each one in a new window), or just type their names in the session; let us use the latter approach:\n",
        "\n",
        "```APL\n",
        "      rev\n",
        "ASITACARORACATISAW?\n",
        "```\n",
        "\n",
        "Something is wrong: the first letter (W) should be in the last position where the \"?\" is.\n",
        "\n",
        "```APL\n",
        "      \u2262vec\n",
        "19\n",
        "```\n",
        "\n",
        "This confirms we had an argument with 19 letters.\n",
        "\n",
        "```APL\n",
        "      from\n",
        "19\n",
        "```\n",
        "\n",
        "And we are trying to move the 19th letter...\n",
        "\n",
        "```APL\n",
        "      to\n",
        "0\n",
        "```\n",
        "\n",
        "to the last index, but it being equal to zero causes an error.\n",
        "\n",
        "Our statement in line [5] calculated the wrong index!\n",
        "It would be insufficient to correct the statement and continue with the current execution, because the variables are already wrong.\n",
        "A better solution would be to correct line [5], exit from `ReverBug` and restart where `Palindrome` called it.\n",
        "\n",
        "Let us modify the 5th statement of `ReverBug` to be `to \u2190 (1+\u2262vec)-from`.\n",
        "Now, if we want to return to the calling function, we cannot execute `)reset` nor `\u2192`, because that would cause a complete exit both from `ReverBug` and from `Palindrome`.\n",
        "The only way back is to ensure that the `ReverBug` trace window has the focus and then press <kbd>Esc</kbd> to get out of `ReverBug` and return to `Palindrome`.\n",
        "\n",
        "We are now back in the callling environment:\n",
        "\n",
        "```APL\n",
        "      )si\n",
        "#.Palindrome[2]*\n",
        "#.Plus[1]*\n",
        "```\n",
        "\n",
        "Notice that `ReverBug` is no longer present in the state indicator and that the asterisk is now displayed alongside `Palindrome`, because `Palindrome` is now the interrupted function.\n",
        "Then, resume the execution of `Palindrome` exactly as we restarted `ReverBug`:\n",
        " - execute `\u2192\u2395LC` in the session; or\n",
        " - press the *continue execution of this thread* button in the trace window toolbar.\n",
        "\n",
        "```APL\n",
        "      \u2192\u2395LC\n",
        "1\n",
        "```\n",
        "\n",
        "If we run `\u2192\u2395LC` (or press the *continue execution* button, for that matter) the result we get back is 1, because the sentence `'Was it a car or a cat I saw?'` is a palindrome.\n",
        "Despite `Palindrome` having returned its result, we still have an old interrupted function:\n",
        "\n",
        "```APL\n",
        "      )si\n",
        "#.Plus[1]*\n",
        "\n",
        "      \u2395DM\n",
        "\u250c\u2500\u2500\u2500\u2500\u2500\u2500\u2500\u2500\u2500\u2500\u2500\u252c\u2500\u2500\u2500\u2500\u2500\u2500\u2500\u2500\u2500\u2500\u2500\u2500\u2500\u2500\u2500\u2500\u2500\u2500\u2500\u2500\u2500\u2500\u2500\u2500\u2500\u2500\u2500\u2500\u2500\u252c\u2500\u2500\u2500\u2500\u2500\u2500\u2500\u2500\u2500\u2500\u2500\u2500\u2500\u2500\u2500\u2500\u2510\n",
        "\u2502INDEX ERROR\u2502ReverBug[6] rev[to]\u2190vec[from]\u2502               \u2227\u2502\n",
        "\u2514\u2500\u2500\u2500\u2500\u2500\u2500\u2500\u2500\u2500\u2500\u2500\u2534\u2500\u2500\u2500\u2500\u2500\u2500\u2500\u2500\u2500\u2500\u2500\u2500\u2500\u2500\u2500\u2500\u2500\u2500\u2500\u2500\u2500\u2500\u2500\u2500\u2500\u2500\u2500\u2500\u2500\u2534\u2500\u2500\u2500\u2500\u2500\u2500\u2500\u2500\u2500\u2500\u2500\u2500\u2500\u2500\u2500\u2500\u2518\n",
        "```\n",
        "\n",
        "As you can see, `\u2395DM` does not report the stack of errors, just the last one that occurred.\n",
        "\n",
        "The best thing we can do now to restore a clean environment is to execute:\n",
        "\n",
        "```APL\n",
        "      )reset\n",
        "```"
      ]
    },
    {
      "cell_type": "markdown",
      "id": "american-retention",
      "metadata": {},
      "source": [
        "(First-Aid-Kit-Information-and-Actions)=\n",
        "### Information and Actions\n",
        "\n",
        "(First-Aid-Kit-Indicators)=\n",
        "#### Indicators\n",
        "\n",
        "When an error occurs, a number of program status indicators are available for the developer's use.\n",
        "Not all of them will be described here; we shall just explore the most useful ones.\n",
        "\n",
        "| Code | Name | Description |\n",
        "| :- | :- | :- |\n",
        "| `)si` | *State indicator* | List of suspended functions with line numbers and state. |\n",
        "| `\u2395SI` | *State indicator* | Nested vector of suspended or pending functions names. |\n",
        "| `\u2395DM` | *Diagnostic message* | 3-item nested vector which reports the message associated with the latest error. |\n",
        "| `\u2395LC` | *Line counter* | Numeric vector containing the line numbers of functions that are pending or suspended and waiting for execution, the last one being displayed first \u2013 the same order as `\u2395SI`. |\n",
        "| `\u2395EN` | *Event number* | Every type of error or exception is identified by a number. The number of the latest error is reported by `\u2395EN`. |\n",
        "\n",
        "Here are some very common *event numbers*; they will be explained in the next section:\n",
        "\n",
        "| `\u2395EN` | Message |\n",
        "| :- | :- |\n",
        "| 1 | `WS FULL` |\n",
        "| 2 | `SYNTAX ERROR` |\n",
        "| 3 | `INDEX ERROR` |\n",
        "| 4 | `RANK ERROR` |\n",
        "| 5 | `LENGTH ERROR` |\n",
        "| 6 | `VALUE ERROR` |\n",
        "|11 | `DOMAIN ERROR` |\n",
        "\n",
        "A full list of *event numbers* is given in {numref}`Appendices-Event-Numbers`."
      ]
    },
    {
      "cell_type": "markdown",
      "id": "recent-password",
      "metadata": {},
      "source": [
        "(First-Aid-Kit-Some-Possible-Actions)=\n",
        "#### Some Possible Actions\n",
        "\n",
        " - `\u2192\u2395LC` continues the interrupted function from the very statement on which it was interrupted (same as pressing the *continue execution of this thread* button);\n",
        " - `\u21920` quits the interrupted function and returns to its calling environment, which may be the session, or a calling function (same as putting focus on the trace window of the interrupted function and pressing <kbd>Esc</kbd>). In the latter case, execution will be resumed in the calling function;\n",
        " - `\u2192` quits the interrupted function and all its calling functions, and returns to the session. If other functions are suspended, they remain in the *state indicator*; and\n",
        " - `)reset` quits **all** suspended functions, resetting the *state indicator*. `\u2395SI`, `\u2395DM`, and `\u2395LC` are reset to empty vectors and `\u2395EN` is set to zero."
      ]
    },
    {
      "cell_type": "markdown",
      "id": "lucky-cable",
      "metadata": {},
      "source": [
        "(First-Aid-Kit-Why-Should-You-Reset-Your-State-Indicator)=\n",
        "### Why Should You Reset Your State Indicator?\n",
        "\n",
        "Let us pretend for a second that you were working in the session, trying to figure out how to solve the exercises from {numref}`User-Defined-Functions-Exercises-on-Dfns`.\n",
        "In particular, you were trying to solve the exercise where you have to implement a function that produces a series of integers starting on one argument and going up to the other one.\n",
        "\n",
        "First things first, you create the variables that tell you where the sequence should start and end:"
      ]
    },
    {
      "cell_type": "code",
      "execution_count": 26,
      "id": "champion-measurement",
      "metadata": {},
      "outputs": [],
      "source": [
        "from \u2190 17\n",
        "to \u2190 29"
      ]
    },
    {
      "cell_type": "markdown",
      "id": "fleet-motor",
      "metadata": {},
      "source": [
        "Then you start trying to figure out how many numbers you should generate, and how to actually generate them:"
      ]
    },
    {
      "cell_type": "code",
      "execution_count": 27,
      "id": "victorian-start",
      "metadata": {},
      "outputs": [
        {
          "data": {
            "text/html": [
              "<span style=\"white-space:pre; font-family: monospace\">12\n",
              "\n",
              "</span>"
            ]
          },
          "execution_count": 27,
          "metadata": {},
          "output_type": "execute_result"
        }
      ],
      "source": [
        "to-from"
      ]
    },
    {
      "cell_type": "code",
      "execution_count": 28,
      "id": "proper-specific",
      "metadata": {},
      "outputs": [
        {
          "data": {
            "text/html": [
              "<span style=\"white-space:pre; font-family: monospace\">1 2 3 4 5 6 7 8 9 10 11 12\n",
              "\n",
              "</span>"
            ]
          },
          "execution_count": 28,
          "metadata": {},
          "output_type": "execute_result"
        }
      ],
      "source": [
        "\u2373to-from"
      ]
    },
    {
      "cell_type": "code",
      "execution_count": 29,
      "id": "latin-hurricane",
      "metadata": {},
      "outputs": [
        {
          "data": {
            "text/html": [
              "<span style=\"white-space:pre; font-family: monospace\">18 19 20 21 22 23 24 25 26 27 28 29\n",
              "\n",
              "</span>"
            ]
          },
          "execution_count": 29,
          "metadata": {},
          "output_type": "execute_result"
        }
      ],
      "source": [
        "from+\u2373to-from"
      ]
    },
    {
      "cell_type": "code",
      "execution_count": 30,
      "id": "fourth-compact",
      "metadata": {},
      "outputs": [
        {
          "data": {
            "text/html": [
              "<span style=\"white-space:pre; font-family: monospace\">17 18 19 20 21 22 23 24 25 26 27 28\n",
              "\n",
              "</span>"
            ]
          },
          "execution_count": 30,
          "metadata": {},
          "output_type": "execute_result"
        }
      ],
      "source": [
        "\u00af1+from+\u2373to-from"
      ]
    },
    {
      "cell_type": "markdown",
      "id": "continent-spread",
      "metadata": {},
      "source": [
        "Eventually you reach this expression and feel good about it, so you decide to save it as a short dfn:"
      ]
    },
    {
      "cell_type": "code",
      "execution_count": 31,
      "id": "protective-cartoon",
      "metadata": {},
      "outputs": [],
      "source": [
        "To \u2190 {\u00af1+\u237a+\u2373\u2375-\u237a}"
      ]
    },
    {
      "cell_type": "code",
      "execution_count": 32,
      "id": "polish-express",
      "metadata": {},
      "outputs": [
        {
          "data": {
            "text/html": [
              "<span style=\"white-space:pre; font-family: monospace\">17 18 19 20 21 22 23 24 25 26 27 28\n",
              "\n",
              "</span>"
            ]
          },
          "execution_count": 32,
          "metadata": {},
          "output_type": "execute_result"
        }
      ],
      "source": [
        "17 To 29"
      ]
    },
    {
      "cell_type": "markdown",
      "id": "romance-assumption",
      "metadata": {},
      "source": [
        "The exercise is solved and you proceed to programming something else, so you decide to implement a `Reverse` function, but alas you make a flawed implementation, like the one in `ReverBug`:"
      ]
    },
    {
      "cell_type": "code",
      "execution_count": 33,
      "id": "provincial-trader",
      "metadata": {},
      "outputs": [],
      "source": [
        "\u2207 rev \u2190 ReverBug vec; from; to    \u235d Still intentionally faulty.\n",
        "    rev \u2190 (\u2262vec)\u2374'?'\n",
        "    from \u2190 0\n",
        "    :Repeat\n",
        "        from \u2190 from+1\n",
        "        to \u2190 (\u2262vec)-from\n",
        "        rev[to] \u2190 vec[from]\n",
        "    :Until from=\u2262vec\n",
        "\u2207"
      ]
    },
    {
      "cell_type": "markdown",
      "id": "union-uniform",
      "metadata": {},
      "source": [
        "When you call it, you realise you made a mistake, because the function throws an error:"
      ]
    },
    {
      "cell_type": "code",
      "execution_count": 34,
      "id": "studied-registrar",
      "metadata": {},
      "outputs": [
        {
          "name": "stderr",
          "output_type": "stream",
          "text": [
            "INDEX ERROR\n",
            "ReverBug[6] rev[to]\u2190vec[from]\n",
            "               \u2227\n"
          ]
        }
      ],
      "source": [
        "ReverBug 17 To 29"
      ]
    },
    {
      "cell_type": "markdown",
      "id": "finite-option",
      "metadata": {},
      "source": [
        "You look around for a bit and find your mistake, as the fifth statement should have read `to \u2190 (1+\u2262vec)-from` instead of the current `to \u2190 (\u2262vec)-from`.\n",
        "You correct your mistake and fix the function, but then don't reset the stack because you see no point in it.\n",
        "Just a little while latter, you reuse your `To` function and notice that it looks weird:"
      ]
    },
    {
      "cell_type": "code",
      "execution_count": 35,
      "id": "liked-contest",
      "metadata": {},
      "outputs": [
        {
          "data": {
            "text/html": [
              "<span style=\"white-space:pre; font-family: monospace\">17 18 19 20 21 22 23 24 25 26 27 28\n",
              "\n",
              "</span>"
            ]
          },
          "execution_count": 35,
          "metadata": {},
          "output_type": "execute_result"
        }
      ],
      "source": [
        "17 To 29"
      ]
    },
    {
      "cell_type": "markdown",
      "id": "verbal-johns",
      "metadata": {},
      "source": [
        "The sequence of numbers produced should go up to, and including, 29, and it currently stops at 28.\n",
        "So, you decide to go back and play a bit more with the expression you had before defining the `To` function:\n",
        "\n",
        "```APL\n",
        "      \u00af1+from+\u2373to-from\n",
        "DOMAIN ERROR\n",
        "      \u00af1+from+\u2373to-from\n",
        "              \u2227\n",
        "      to from\n",
        "0 12\n",
        "```\n",
        "\n",
        "The variables `to` and `from` you were playing with are not visible in your session because they are being shadowed (\"hidden\" or \"covered\") by the local variables inside `ReverBug`.\n",
        "\n",
        "As soon as we reset the *state indicator*, the local variables of `ReverBug` disappear, and your little expression can be used again:\n",
        "\n",
        "```APL\n",
        "      )reset\n",
        "      \u00af1+from+\u2373to-from\n",
        "17 18 19 20 21 22 23 24 25 26 27 28\n",
        "```\n",
        "\n",
        "You then proceed to understanding that you are generating one too few numbers, and manage to come up with the correct expression for your `To` function:"
      ]
    },
    {
      "cell_type": "code",
      "execution_count": 36,
      "id": "confirmed-oklahoma",
      "metadata": {},
      "outputs": [
        {
          "data": {
            "text/html": [
              "<span style=\"white-space:pre; font-family: monospace\">17 18 19 20 21 22 23 24 25 26 27 28 29\n",
              "\n",
              "</span>"
            ]
          },
          "execution_count": 36,
          "metadata": {},
          "output_type": "execute_result"
        }
      ],
      "source": [
        "\u00af1+from+\u23731+to-from"
      ]
    },
    {
      "cell_type": "code",
      "execution_count": 37,
      "id": "banner-mobile",
      "metadata": {},
      "outputs": [],
      "source": [
        "To \u2190 {\u00af1+\u237a+\u23731+\u2375-\u237a}"
      ]
    },
    {
      "cell_type": "markdown",
      "id": "adult-sodium",
      "metadata": {},
      "source": [
        "So, having a \"dirty\" state indicator can easily lead to a lot of confusion.\n",
        "\n",
        "You should also be aware that because APL preserves the full context in which a function stopped or crashed, all the local variables are retained too; this may require a lot of memory space!\n",
        "\n",
        "<!--begin tip-->\n",
        "***Recommendation***:\n",
        "\n",
        " > When a function crashes, always try to clear the stack if you can:\n",
        " >   - try to correct the problem and resume function execution; or\n",
        " >   - if that is impossible, abort it and reset the execution context by executing `)reset`.\n",
        " >\n",
        " > If you can't fix it *right now*, Dyalog will allow you to `)save` the workspace and come back to it later.\n",
        "<!--end-->"
      ]
    },
    {
      "cell_type": "markdown",
      "id": "dated-dividend",
      "metadata": {},
      "source": [
        "(First-Aid-Kit-Most-Frequent-Error-Messages)=\n",
        "## Most Frequent Error Messages\n",
        "\n",
        "(First-Aid-Kit-Execution-Errors)=\n",
        "### Execution Errors\n",
        "\n",
        "For each common error, we shall give you the most probable reason for the error, some rare cases which may be difficult to debug, and suggest some immediate experiments that you can carry out to help diagnose the problem.\n",
        "\n",
        "Among the six most common errors, four are really easy to diagnose, but the last two are a bit more complex."
      ]
    },
    {
      "cell_type": "markdown",
      "id": "settled-indication",
      "metadata": {},
      "source": [
        "(First-Aid-Kit-VALUE-ERROR-EN--6)=\n",
        "#### `VALUE ERROR` (`\u2395EN = 6`)\n",
        "\n",
        "You used a name which does not have a value; it does not represent a variable, a function, or an operator.\n",
        "\n",
        "Here are some possible reasons:\n",
        " - perhaps you misspelled the variable (or function) name, entered the incorrect mixture of upper and lower case characters, or confused the letter \"O\" with the digit \"0\", etc;\n",
        " - you tried to use the result of a function which actually produces no result (see {numref}`User-Defined-Functions-Why-Should-a-Function-Return-a-Result`);\n",
        " - you tried to reference one of the local variables of a function before it was assigned a value \u2013 remember that all variables referenced in the header of a tradfn are local, and so are all the variables defined inside dfns; and\n",
        " - an erroneous tradfn header, as explained below.\n",
        "\n",
        "Imagine you intended to create a function named `Travel`, with two arguments named `west` and `east`.\n",
        "When you entered the header, you forgot the space between `Travel` and `east`, so that the function now looks like this:"
      ]
    },
    {
      "cell_type": "code",
      "execution_count": 38,
      "id": "conventional-principle",
      "metadata": {},
      "outputs": [],
      "source": [
        "\u2207 z \u2190 west Traveleast\n",
        "    z \u2190 west-east\n",
        "\u2207"
      ]
    },
    {
      "cell_type": "markdown",
      "id": "frozen-sugar",
      "metadata": {},
      "source": [
        "Instead, you just defined a monadic function named `west`, with a right argument named `Traveleast`.\n",
        "When you try to use `Travel`, it does not exist, and you get an error:"
      ]
    },
    {
      "cell_type": "code",
      "execution_count": 39,
      "id": "metric-combination",
      "metadata": {},
      "outputs": [
        {
          "name": "stderr",
          "output_type": "stream",
          "text": [
            "VALUE ERROR: Undefined name: Travel\n",
            "      0 Travel 1\n",
            "        \u2227\n"
          ]
        }
      ],
      "source": [
        "0 Travel 1"
      ]
    },
    {
      "cell_type": "markdown",
      "id": "liked-journey",
      "metadata": {},
      "source": [
        "If you suspect that this has occurred, and you can remember the syntax of the function, check to see if you have a different function whose name is the same as your intended left argument.\n",
        "For example, below we can find a function named \"`west`\" instead of \"`Travel`\":"
      ]
    },
    {
      "cell_type": "code",
      "execution_count": 40,
      "id": "acceptable-victory",
      "metadata": {},
      "outputs": [
        {
          "data": {
            "text/html": [
              "<span style=\"white-space:pre; font-family: monospace\">DISPLAY Interlace       Palindrome      Plus    ReverBug        Reverse To      Upper   west    \n",
              "</span>"
            ]
          },
          "execution_count": 40,
          "metadata": {},
          "output_type": "execute_result"
        }
      ],
      "source": [
        ")fns"
      ]
    },
    {
      "cell_type": "markdown",
      "id": "freelance-crime",
      "metadata": {},
      "source": [
        "If you do not spot it immediately, and if you are using the Windows interpreter, you can use the *search* tool (generally available in the toolbar as the magnifying lens or under \"Tools\" &#8680; \"Search...\").\n",
        "Once the window opens, you can type the name that you want to search for and then click \"Find Now\".\n",
        "You should then discover what the name of the misspelled function really is, as shown in {numref}`fig-Win_Search_Travel`.\n",
        "\n",
        "(fig-WIN_Search_Travel)=\n",
        "```{figure} res/WIN_Search_Travel.png\n",
        "---\n",
        "name: WIN_Search_Travel\n",
        "---\n",
        "The \"Search\" window of the Windows interpreter.\n",
        "```\n"
      ]
    },
    {
      "cell_type": "markdown",
      "id": "everyday-flesh",
      "metadata": {},
      "source": [
        "(First-Aid-Kit-LENGTH-ERROR-EN--5)=\n",
        "#### `LENGTH ERROR` (`\u2395EN = 5`)\n",
        "\n",
        "A `LENGTH ERROR` usually involves two arguments with inconsistent shapes for a given operation.\n",
        "For example:"
      ]
    },
    {
      "cell_type": "code",
      "execution_count": 41,
      "id": "written-mapping",
      "metadata": {},
      "outputs": [
        {
          "name": "stderr",
          "output_type": "stream",
          "text": [
            "LENGTH ERROR: Mismatched left and right argument shapes\n",
            "      4 6 8+3 7\n",
            "           \u2227\n"
          ]
        }
      ],
      "source": [
        "4 6 8 + 3 7"
      ]
    },
    {
      "cell_type": "markdown",
      "id": "nonprofit-encyclopedia",
      "metadata": {},
      "source": [
        "<!--begin tip-->\n",
        "***Suggestion***:\n",
        "\n",
        " > If an operation like `X+Y` causes a `LENGTH ERROR`, look at the shapes of both arguments `X` and `Y`, and see if they are compatible with one another.\n",
        "<!--end-->\n",
        "\n",
        "Also remember that:\n",
        " - a matrix with only one row looks like (but is not) a vector and a matrix/vector with only one element looks like (but is not) a scalar (see {numref}`Data-and-Variables-Beware`); and\n",
        " - an incorrectly specified axis may also cause such an error.\n",
        "\n",
        "To exemplify a `LENGTH ERROR` with an incorrect axis specification, let us define"
      ]
    },
    {
      "cell_type": "code",
      "execution_count": 42,
      "id": "criminal-convention",
      "metadata": {},
      "outputs": [
        {
          "data": {
            "text/html": [
              "<span style=\"white-space:pre; font-family: monospace\">1  2  3  4\n",
              "5  6  7  8\n",
              "9 10 11 12\n",
              "\n",
              "</span>"
            ]
          },
          "execution_count": 42,
          "metadata": {},
          "output_type": "execute_result"
        }
      ],
      "source": [
        "\u2395\u2190 MatA \u2190 3 4\u2374\u237312"
      ]
    },
    {
      "cell_type": "code",
      "execution_count": 43,
      "id": "closed-decision",
      "metadata": {},
      "outputs": [
        {
          "data": {
            "text/html": [
              "<span style=\"white-space:pre; font-family: monospace\"> 1  2  3  4\n",
              " 5  6  7  8\n",
              " 9 10 11 12\n",
              "13 14 15 16\n",
              "17 18 19 20\n",
              "\n",
              "</span>"
            ]
          },
          "execution_count": 43,
          "metadata": {},
          "output_type": "execute_result"
        }
      ],
      "source": [
        "\u2395\u2190 MatB \u2190 5 4\u2374\u237320"
      ]
    },
    {
      "cell_type": "markdown",
      "id": "powered-gasoline",
      "metadata": {},
      "source": [
        "Both `MatA,MatB` and `MatA,[2]MatB` cause a `LENGTH ERROR` but both `MatA\u236aMatB` and `MatA,[1]MatB` will work:"
      ]
    },
    {
      "cell_type": "code",
      "execution_count": 44,
      "id": "figured-circumstances",
      "metadata": {},
      "outputs": [
        {
          "name": "stderr",
          "output_type": "stream",
          "text": [
            "LENGTH ERROR\n",
            "      MatA,MatB\n",
            "          \u2227\n"
          ]
        }
      ],
      "source": [
        "MatA,MatB"
      ]
    },
    {
      "cell_type": "code",
      "execution_count": 45,
      "id": "rubber-america",
      "metadata": {},
      "outputs": [
        {
          "name": "stderr",
          "output_type": "stream",
          "text": [
            "LENGTH ERROR\n",
            "      MatA,[2]MatB\n",
            "          \u2227\n"
          ]
        }
      ],
      "source": [
        "MatA,[2]MatB"
      ]
    },
    {
      "cell_type": "code",
      "execution_count": 46,
      "id": "bored-freedom",
      "metadata": {},
      "outputs": [
        {
          "data": {
            "text/html": [
              "<span style=\"white-space:pre; font-family: monospace\"> 1  2  3  4\n",
              " 5  6  7  8\n",
              " 9 10 11 12\n",
              " 1  2  3  4\n",
              " 5  6  7  8\n",
              " 9 10 11 12\n",
              "13 14 15 16\n",
              "17 18 19 20\n",
              "\n",
              "</span>"
            ]
          },
          "execution_count": 46,
          "metadata": {},
          "output_type": "execute_result"
        }
      ],
      "source": [
        "MatA\u236aMatB"
      ]
    },
    {
      "cell_type": "code",
      "execution_count": 47,
      "id": "eastern-twist",
      "metadata": {},
      "outputs": [
        {
          "data": {
            "text/html": [
              "<span style=\"white-space:pre; font-family: monospace\"> 1  2  3  4\n",
              " 5  6  7  8\n",
              " 9 10 11 12\n",
              " 1  2  3  4\n",
              " 5  6  7  8\n",
              " 9 10 11 12\n",
              "13 14 15 16\n",
              "17 18 19 20\n",
              "\n",
              "</span>"
            ]
          },
          "execution_count": 47,
          "metadata": {},
          "output_type": "execute_result"
        }
      ],
      "source": [
        "MatA,[1]MatB"
      ]
    },
    {
      "cell_type": "markdown",
      "id": "requested-ministry",
      "metadata": {},
      "source": [
        "(First-Aid-Kit-RANK-ERROR-EN4)=\n",
        "#### `RANK ERROR` (`\u2395EN=4`)\n",
        "\n",
        "A `RANK ERROR` means that you tried to do something which is not consistent with the *rank* of an array.\n",
        "This may involve one or more variables.\n",
        "Let us recall our `forecast` matrix and use it to show some common examples of this type of error:"
      ]
    },
    {
      "cell_type": "code",
      "execution_count": 48,
      "id": "joint-ambassador",
      "metadata": {},
      "outputs": [
        {
          "data": {
            "text/html": [
              "<span style=\"white-space:pre; font-family: monospace\"> 90 160 420 500  20  30\n",
              "110 450 170 370 290 360\n",
              "340 190 320 120 510 370\n",
              "150 460 240 520 490 280\n",
              "\n",
              "</span>"
            ]
          },
          "execution_count": 48,
          "metadata": {},
          "output_type": "execute_result"
        }
      ],
      "source": [
        "\u2395RL \u2190 73\n",
        "\u2395\u2190forecast \u2190 10\u00d7?4 6\u237455"
      ]
    },
    {
      "cell_type": "code",
      "execution_count": 49,
      "id": "official-liberty",
      "metadata": {},
      "outputs": [
        {
          "name": "stderr",
          "output_type": "stream",
          "text": [
            "INDEX ERROR\n",
            "      forecast[3 5]\n",
            "              \u2227\n"
          ]
        }
      ],
      "source": [
        "forecast[3 5]"
      ]
    },
    {
      "cell_type": "markdown",
      "id": "developed-content",
      "metadata": {},
      "source": [
        "The indexing above is incorrect because `forecast` is a matrix, not a vector.\n",
        "A semicolon is needed somewhere: `[;3 5]`, `[3;5]`, or `[3 5;]`."
      ]
    },
    {
      "cell_type": "code",
      "execution_count": 50,
      "id": "after-elephant",
      "metadata": {},
      "outputs": [
        {
          "name": "stderr",
          "output_type": "stream",
          "text": [
            "RANK ERROR: Mismatched left and right argument ranks\n",
            "      forecast+\u23736\n",
            "              \u2227\n"
          ]
        }
      ],
      "source": [
        "forecast + \u23736"
      ]
    },
    {
      "cell_type": "markdown",
      "id": "latin-utility",
      "metadata": {},
      "source": [
        "The above cannot work, even if `forecast` had only one row and looked very much like a vector.\n",
        "\n",
        "A `RANK ERROR` is also issued when an *axis* is not correct.\n",
        "For example:"
      ]
    },
    {
      "cell_type": "code",
      "execution_count": 51,
      "id": "coordinate-workshop",
      "metadata": {},
      "outputs": [
        {
          "name": "stderr",
          "output_type": "stream",
          "text": [
            "RANK ERROR: Invalid axis\n",
            "      MatA,[3]MatB\n",
            "          \u2227\n"
          ]
        }
      ],
      "source": [
        "MatA,[3]MatB"
      ]
    },
    {
      "cell_type": "markdown",
      "id": "municipal-capacity",
      "metadata": {},
      "source": [
        "This cannot work because `MatA` does not have 3 dimensions.\n",
        "Similarly,"
      ]
    },
    {
      "cell_type": "code",
      "execution_count": 52,
      "id": "appointed-discharge",
      "metadata": {},
      "outputs": [
        {
          "name": "stderr",
          "output_type": "stream",
          "text": [
            "RANK ERROR: Invalid axis\n",
            "      1 2 3 4,[2]5\n",
            "             \u2227\n"
          ]
        }
      ],
      "source": [
        "1 2 3 4,[2]5"
      ]
    },
    {
      "cell_type": "markdown",
      "id": "concerned-focus",
      "metadata": {},
      "source": [
        "cannot work because a vector only has one dimension.\n",
        "\n",
        "Sometimes incorrect syntax can also lead to a `RANK ERROR`.\n",
        "For example, to concatenate the two matrices shown above, the correct syntax is `MatA,[1]MatB`, but you could have typed that as"
      ]
    },
    {
      "cell_type": "code",
      "execution_count": 53,
      "id": "twelve-average",
      "metadata": {},
      "outputs": [
        {
          "name": "stderr",
          "output_type": "stream",
          "text": [
            "RANK ERROR\n",
            "      MatA[1],MatB\n",
            "          \u2227\n"
          ]
        }
      ],
      "source": [
        "MatA[1],MatB"
      ]
    },
    {
      "cell_type": "markdown",
      "id": "protected-southeast",
      "metadata": {},
      "source": [
        "Notice the misplaced comma, which leads APL to try and calculate `MatA[1]`, which fails because `MatA` is a matrix and not a vector.\n",
        "\n",
        "<!--begin tip-->\n",
        "***Suggestion***:\n",
        "\n",
        " > If a statement causes a `RANK ERROR`, look at the shapes of all the arrays involved in the expression.\n",
        "<!--end-->"
      ]
    },
    {
      "cell_type": "markdown",
      "id": "simplified-removal",
      "metadata": {},
      "source": [
        "(First-Aid-Kit-INDEX-ERROR-EN3)=\n",
        "#### `INDEX ERROR` (`\u2395EN=3`)\n",
        "\n",
        "You tried to index a variable, but your index was wrong.\n",
        "For example, you tried to get the 20th element of a vector which only has 17 elements.\n",
        "\n",
        "This occurs when the index (or one of the items of the index) is:\n",
        " - smaller than or equal to zero;\n",
        " - greater than the length of the variable, along the specified axis; or\n",
        " - not an integer."
      ]
    },
    {
      "cell_type": "code",
      "execution_count": 54,
      "id": "bright-easter",
      "metadata": {},
      "outputs": [
        {
          "name": "stderr",
          "output_type": "stream",
          "text": [
            "INDEX ERROR\n",
            "      forecast[5;5]\n",
            "              \u2227\n"
          ]
        }
      ],
      "source": [
        "forecast[5;5]"
      ]
    },
    {
      "cell_type": "markdown",
      "id": "retired-savannah",
      "metadata": {},
      "source": [
        "This doesn't work because `forecast` has 6 columns but only 4 rows: the second index is good but the first one is not.\n",
        "\n",
        "<!--begin tip-->\n",
        "***Suggestion***:\n",
        "\n",
        " > If the error occurs in an indexing operation like `var[indexA;indexB;...]`, look at the shape of `var` and check if `indexA`, `indexB`, etc., contain values which are compatible with the size of `var`.\n",
        "<!--end-->"
      ]
    },
    {
      "cell_type": "markdown",
      "id": "raised-mission",
      "metadata": {},
      "source": [
        "(First-Aid-Kit-DOMAIN-ERROR-EN11)=\n",
        "#### `DOMAIN ERROR` (`\u2395EN=11`)\n",
        "\n",
        "This error is much more complex to diagnose.\n",
        "\n",
        "It usually means that some function cannot be applied to a particular value or type of data; the data is oustide the _domain_ in which the function is designed to operate.\n",
        "Here are some very common circumstances in which a `DOMAIN ERROR` occurs:\n",
        "\n",
        " - dividing by a zero;"
      ]
    },
    {
      "cell_type": "code",
      "execution_count": 55,
      "id": "checked-murder",
      "metadata": {},
      "outputs": [
        {
          "name": "stderr",
          "output_type": "stream",
          "text": [
            "DOMAIN ERROR: Divide by zero\n",
            "      3\u00f70\n",
            "       \u2227\n"
          ]
        }
      ],
      "source": [
        "3 \u00f7 0"
      ]
    },
    {
      "cell_type": "code",
      "execution_count": 56,
      "id": "interested-principle",
      "metadata": {},
      "outputs": [
        {
          "name": "stderr",
          "output_type": "stream",
          "text": [
            "DOMAIN ERROR: Divide by zero\n",
            "      1 2 3 4\u00f70 1 2 3\n",
            "             \u2227\n"
          ]
        }
      ],
      "source": [
        "1 2 3 4 \u00f7 0 1 2 3"
      ]
    },
    {
      "cell_type": "markdown",
      "id": "headed-offering",
      "metadata": {},
      "source": [
        " - arithmetic operations with non-numeric arguments;"
      ]
    },
    {
      "cell_type": "code",
      "execution_count": 57,
      "id": "configured-puppy",
      "metadata": {},
      "outputs": [
        {
          "name": "stderr",
          "output_type": "stream",
          "text": [
            "DOMAIN ERROR\n",
            "      45+'12'\n",
            "        \u2227\n"
          ]
        }
      ],
      "source": [
        "45 + '12'"
      ]
    },
    {
      "cell_type": "markdown",
      "id": "radical-antigua",
      "metadata": {},
      "source": [
        "Beware: this may be difficult to see when a variable contains numeric characters such as `'0123456789'`.\n",
        "Hint: for a simple array `a`, the expression `0=1\u21910\u2374a` returns `1` if the array is numeric and `0` if it is a character array:"
      ]
    },
    {
      "cell_type": "code",
      "execution_count": 58,
      "id": "incredible-tobacco",
      "metadata": {},
      "outputs": [
        {
          "data": {
            "text/html": [
              "<span style=\"white-space:pre; font-family: monospace\">1\n",
              "\n",
              "</span>"
            ]
          },
          "execution_count": 58,
          "metadata": {},
          "output_type": "execute_result"
        }
      ],
      "source": [
        "0=1\u21910\u2374123 2345 1 42"
      ]
    },
    {
      "cell_type": "code",
      "execution_count": 59,
      "id": "trained-presentation",
      "metadata": {},
      "outputs": [
        {
          "data": {
            "text/html": [
              "<span style=\"white-space:pre; font-family: monospace\">0\n",
              "\n",
              "</span>"
            ]
          },
          "execution_count": 59,
          "metadata": {},
          "output_type": "execute_result"
        }
      ],
      "source": [
        "0=1\u2191'12342'"
      ]
    },
    {
      "cell_type": "markdown",
      "id": "finnish-capability",
      "metadata": {},
      "source": [
        " - trying to index with characters or non-integer values;"
      ]
    },
    {
      "cell_type": "code",
      "execution_count": 60,
      "id": "plain-friendly",
      "metadata": {},
      "outputs": [
        {
          "name": "stderr",
          "output_type": "stream",
          "text": [
            "DOMAIN ERROR\n",
            "      a['2']\n",
            "       \u2227\n"
          ]
        }
      ],
      "source": [
        "a \u2190 1 2 3 4\n",
        "a['2']"
      ]
    },
    {
      "cell_type": "code",
      "execution_count": 61,
      "id": "greatest-medicare",
      "metadata": {},
      "outputs": [
        {
          "name": "stderr",
          "output_type": "stream",
          "text": [
            "DOMAIN ERROR\n",
            "      a[2.5]\n",
            "       \u2227\n"
          ]
        }
      ],
      "source": [
        "a[2.5]"
      ]
    },
    {
      "cell_type": "markdown",
      "id": "front-century",
      "metadata": {},
      "source": [
        " - using numbers other than `0` or `1` with Boolean operations, like `\u2372`;"
      ]
    },
    {
      "cell_type": "code",
      "execution_count": 62,
      "id": "instrumental-tattoo",
      "metadata": {},
      "outputs": [
        {
          "name": "stderr",
          "output_type": "stream",
          "text": [
            "DOMAIN ERROR\n",
            "      3\u23721\n",
            "       \u2227\n"
          ]
        }
      ],
      "source": [
        "3 \u2372 1"
      ]
    },
    {
      "cell_type": "markdown",
      "id": "liable-necklace",
      "metadata": {},
      "source": [
        "and\n",
        "\n",
        " - some computations may result in numbers that are larger than the largest number that the computer can represent."
      ]
    },
    {
      "cell_type": "code",
      "execution_count": 63,
      "id": "current-sheffield",
      "metadata": {},
      "outputs": [
        {
          "name": "stderr",
          "output_type": "stream",
          "text": [
            "DOMAIN ERROR\n",
            "      */\u23731000\n",
            "      \u2227\n"
          ]
        }
      ],
      "source": [
        "*/\u23731000"
      ]
    },
    {
      "cell_type": "markdown",
      "id": "sublime-nitrogen",
      "metadata": {},
      "source": [
        "More generally, all these statements are in themselves perfectly correct when applied to appropriate data.\n",
        "However, they may fail when applied to other, inappropriate data.\n",
        "\n",
        "<!--begin tip-->\n",
        "***Suggestion***:\n",
        "\n",
        " > Do not worry too much about the syntax of your statement: it is probably good.\n",
        " > You should instead try to determine which values are appropriate to the operation, and check whether the actual values are within the operation's domain.\n",
        "<!--end-->"
      ]
    },
    {
      "cell_type": "markdown",
      "id": "fundamental-values",
      "metadata": {},
      "source": [
        "(First-Aid-Kit-SYNTAX-ERROR-EN2)=\n",
        "#### `SYNTAX ERROR` (`\u2395EN=2`)\n",
        "\n",
        "This error may also be a difficult one.\n",
        "It means that a statement is ill-formed!\n",
        "Do not worry about your data: the problem arises from the statement itself.\n",
        "\n",
        "Typically, the reason is that you have entered the wrong number of parentheses, quotes, or brackets: check that your parentheses, quotes, and brackets are well balanced.\n",
        "\n",
        "Here are some incorrect expressions:"
      ]
    },
    {
      "cell_type": "code",
      "execution_count": 64,
      "id": "informed-waters",
      "metadata": {},
      "outputs": [
        {
          "name": "stderr",
          "output_type": "stream",
          "text": [
            "SYNTAX ERROR\n",
            "      (3+5)*2)\n",
            "           \u2227\n"
          ]
        }
      ],
      "source": [
        "(3+5)*2)"
      ]
    },
    {
      "cell_type": "code",
      "execution_count": 65,
      "id": "built-witness",
      "metadata": {},
      "outputs": [
        {
          "name": "stderr",
          "output_type": "stream",
          "text": [
            "SYNTAX ERROR: Invalid token\n",
            "      'ISN'T IT?'\n",
            "                \u2227\n"
          ]
        }
      ],
      "source": [
        "'ISN'T IT?'"
      ]
    },
    {
      "cell_type": "code",
      "execution_count": 66,
      "id": "soviet-benefit",
      "metadata": {},
      "outputs": [
        {
          "name": "stderr",
          "output_type": "stream",
          "text": [
            "SYNTAX ERROR\n",
            "      a[a[3]\n",
            "         \u2227\n"
          ]
        }
      ],
      "source": [
        "a[a[3]"
      ]
    },
    {
      "cell_type": "markdown",
      "id": "coral-swedish",
      "metadata": {},
      "source": [
        "Some other typical sources of `SYNTAX ERROR` include\n",
        "\n",
        " - monadic use of a dyadic primitive or user-defined tradfn;"
      ]
    },
    {
      "cell_type": "code",
      "execution_count": 67,
      "id": "printable-kelly",
      "metadata": {},
      "outputs": [
        {
          "name": "stderr",
          "output_type": "stream",
          "text": [
            "SYNTAX ERROR: The function requires a left argument\n",
            "      <45 67\n",
            "      \u2227\n"
          ]
        }
      ],
      "source": [
        "<45 67"
      ]
    },
    {
      "cell_type": "code",
      "execution_count": 68,
      "id": "challenging-combine",
      "metadata": {},
      "outputs": [
        {
          "name": "stderr",
          "output_type": "stream",
          "text": [
            "SYNTAX ERROR: The function requires a left argument\n",
            "      Interlace 3 3\u2374\u23739\n",
            "      \u2227\n"
          ]
        }
      ],
      "source": [
        "Interlace 3 3\u2374\u23739"
      ]
    },
    {
      "cell_type": "markdown",
      "id": "equal-dublin",
      "metadata": {},
      "source": [
        " - use of the upper minus sign with a name;"
      ]
    },
    {
      "cell_type": "code",
      "execution_count": 69,
      "id": "adequate-action",
      "metadata": {},
      "outputs": [
        {
          "name": "stderr",
          "output_type": "stream",
          "text": [
            "SYNTAX ERROR: Invalid token\n",
            "      3+\u00af var\n",
            "        \u2227\n"
          ]
        }
      ],
      "source": [
        "var \u2190 5\n",
        "3+\u00afvar"
      ]
    },
    {
      "cell_type": "markdown",
      "id": "specified-partition",
      "metadata": {},
      "source": [
        "(you should write `\u00af5` or `-var`)\n",
        "\n",
        " - a missing `:End` in a control structure, or other inappropriate use of control structures."
      ]
    },
    {
      "cell_type": "code",
      "execution_count": 70,
      "id": "entitled-raise",
      "metadata": {},
      "outputs": [],
      "source": [
        "\u2207 BadTradfn val\n",
        "    :If val > 5\n",
        "        \u2395\u2190 'here'\n",
        "\u2207"
      ]
    },
    {
      "cell_type": "code",
      "execution_count": 71,
      "id": "cultural-magazine",
      "metadata": {},
      "outputs": [
        {
          "name": "stderr",
          "output_type": "stream",
          "text": [
            "SYNTAX ERROR\n",
            "BadTradfn[1] :If val>5\n",
            "                    \u2227\n"
          ]
        }
      ],
      "source": [
        "BadTradfn 4"
      ]
    },
    {
      "cell_type": "markdown",
      "id": "primary-supplement",
      "metadata": {},
      "source": [
        "(First-Aid-Kit-WS-FULL-EN1)=\n",
        "#### `WS FULL` (`\u2395EN=1`)\n",
        "\n",
        "You have probably tried to create an array that would be larger than the amount of available memory in the workspace.\n",
        "\n",
        " - if it happens with _reshape_ (`shape\u2374contents`), check whether the left argument is much bigger than you anticipated;"
      ]
    },
    {
      "cell_type": "code",
      "execution_count": 72,
      "id": "frozen-rochester",
      "metadata": {},
      "outputs": [
        {
          "name": "stderr",
          "output_type": "stream",
          "text": [
            "WS FULL\n",
            "      _\u2190100000000\u23743.4 1 0J1.2\n",
            "                 \u2227\n"
          ]
        }
      ],
      "source": [
        "_ \u2190 100000000\u23743.4 1 0J1.2"
      ]
    },
    {
      "cell_type": "markdown",
      "id": "consolidated-specification",
      "metadata": {},
      "source": [
        " - similarly, if it happens with _compress_/_replicate_ (`numbers/variable`), check that the left argument does not contain large numeric values (`101101/variable` is not the same as `1 0 1 1 0 1/variable`)."
      ]
    },
    {
      "cell_type": "markdown",
      "id": "informational-excerpt",
      "metadata": {},
      "source": [
        "A `WS FULL` may also happen when a recursive function working on a large amount of data calls itself a large number of items.\n",
        "If this happens, consider whether a plain loop might be a safer solution."
      ]
    },
    {
      "cell_type": "markdown",
      "id": "handed-sudan",
      "metadata": {},
      "source": [
        "(First-Aid-Kit-Some-Other-Errors)=\n",
        "### Some Other Errors\n",
        "\n",
        "(First-Aid-Kit-Cant-Fix)=\n",
        "#### Can't Fix\n",
        "\n",
        "This is not an execution error.\n",
        "It happens only when you try to define a function and APL cannot fix it because its header is incorrect.\n",
        "Here are some things you should check:\n",
        "\n",
        " - in a tradfn header, check that all your local variables are separated by semi-colons and not by some other characters (dot, comma, blank, ...) and check that there is no extra semi-colon to the right;\n",
        "    - `F rarg; loca, locb; locc` is invalid because there is a comma instead of a semi-colon; and\n",
        "    - `F rarg; loca; locb; locc;` is invalid because there is an extra semi-colon.\n",
        " - in a tradfn header, check that you haven't tried to specify a nested left argument. This is only allowed for the right argument:\n",
        "    - `left F (one two three)` is valid; but\n",
        "    - `(one two three) F right` is invalid.\n",
        " - for dfns and tradfns, check the name of your function. If the name you chose is already in use as a variable, you cannot define a function with that name; and\n",
        " - for a dfn, check that the opening and closing curly braces match."
      ]
    },
    {
      "cell_type": "markdown",
      "id": "female-orientation",
      "metadata": {},
      "source": [
        "(First-Aid-Kit-Not-Saved-This-Ws-Is)=\n",
        "#### Not Saved, This Ws Is...\n",
        "\n",
        "You started with a clear workspace and spent hours developing a set of functions.\n",
        "At the end of the day you decide to save it:\n",
        "\n",
        "```APL\n",
        "      )save D:\\Washington\\APL\\WS\\Bidou\n",
        "Not saved, this ws is CLEAR WS\n",
        "```\n",
        "\n",
        "Don't panic!\n",
        "This does not mean that your workspace is empty and that you have lost all your work; it is just a friendly warning.\n",
        "\n",
        "It so happens that in this case a saved workspace named `Bidou` already exists and Dyalog APL refuses to overwrite it with the active workspace.\n",
        "\n",
        "Had you been working on a workspace that had the name `Tartempion` (instead of having started with a clear workspace), the warning message would have been `Not saved, this ws is Tartempion`.\n",
        "\n",
        "But because you started with a `CLEAR WS` and you have not explicitly renamed the workspace, APL will not allow you to save it until you give it a name.\n",
        "Hence the alarming message that says `Not saved, this ws is CLEAR WS`.\n",
        "\n",
        "For this reason, if you are using the Windows IDE, always prefer the graphical interface for saving workspaces, using a file search dialog box."
      ]
    },
    {
      "cell_type": "markdown",
      "id": "square-doctor",
      "metadata": {},
      "source": [
        "(First-Aid-Kit-Trace-Tools)=\n",
        "## Trace Tools\n",
        "\n",
        "(First-Aid-Kit-Invoke-and-Use-the-Tracer)=\n",
        "### Invoke and Use the Tracer\n",
        "\n",
        "(First-Aid-Kit-Invoke-the-Tracer)=\n",
        "#### Invoke the Tracer\n",
        "\n",
        "If you want the tracer to be opened automatically when an error occurs, then you need to make sure to configure that behaviour:\n",
        " - in the Windows IDE, go to \"Options\" &#8680; \"Configure...\" &#8680; \"Trace/Edit\" and make sure to select the option that reads \"Show trace stack on error\"; or\n",
        " - in RIDE, add the line `Trace_On_Error=1` to the \"Arguments\" box in your connect/start screen. (You can read more about this configuration parameter and all others [in Dyalog's Documentation Centre](http://help.dyalog.com/18.0/#UserGuide/Installation%20and%20Configuration/Configuration%20Parameters.htm).)\n",
        "If you do not configure your IDE this way, you must invoke the tracer manually when needed.\n",
        "\n",
        "When an error occurs, check that your cursor is on an empty line (it should be), and just press <kbd>Ctr</kbd>+<kbd>Enter</kbd> or activate \"Action\" &#8680; \"Trace\" in the toolbar.\n",
        "This is called a _naked trace_.\n",
        "\n",
        "But sometimes it is better to anticipate that there will be errors, and trace the execution from the beginning.\n",
        "You can type any valid statement and instead of pressing <kbd>Enter</kbd> to execute it, press <kbd>Ctrl</kbd>+<kbd>Enter</kbd> (the easy way) or activate \"Action\" &#8680; \"Trace\" in the session toolbar to trace it.\n",
        "All the functions referenced by this statement will be traced.\n",
        "\n",
        "Using this technique, you can trace the execution of a function from the very beginning."
      ]
    },
    {
      "cell_type": "markdown",
      "id": "circular-intention",
      "metadata": {},
      "source": [
        "(First-Aid-Kit-Trace-Actions)=\n",
        "#### Trace Actions\n",
        "\n",
        "All of the things that you can do may be actioned using the keyboard or the little toolbar which appears on top of the trace window.\n",
        "In the table below, you will find the icons displayed on these buttons (in the Windows IDE and in RIDE), what they do, and the equivalent keyboard shortcuts (if any).\n",
        "Preferably use the keyboard when you can: you will save time.\n",
        "\n",
        "| Win icon* | IDE icon* | Usage | Keyboard shortcut |\n",
        "| :-: | :-: | :- | :- |\n",
        "| ![](res/tracer_icons/win/trace_theme-04-00.png) | ![](res/tracer_icons/ride/execute.png) | Execute expression | <kbd>Enter</kbd> |\n",
        "| ![](res/tracer_icons/win/trace_theme-05-00.png) | ![](res/tracer_icons/ride/trace_into.png) | Trace expression | <kbd>Ctrl</kbd>+<kbd>Enter</kbd> |\n",
        "| ![](res/tracer_icons/win/trace_theme-00-00.png) | \u207d\\*\\*\u207e | Go back one line | <kbd>Ctrl</kbd>+<kbd>Shift</kbd>+<kbd>Backspace</kbd> |\n",
        "| ![](res/tracer_icons/win/trace_theme-01-00.png) | \u207d\\*\\*\u207e | Skip current line | <kbd>Ctrl</kbd>+<kbd>Shift</kbd>+<kbd>Enter</kbd> |\n",
        "| ![](res/tracer_icons/win/trace_theme-06-00.png) | ![](res/tracer_icons/ride/trace_out.png) | Stop on next line of calling function | |\n",
        "| ![](res/tracer_icons/win/trace_theme-07-00.png) | ![](res/tracer_icons/ride/continue_thread.png) | Continue execution of this thread | `\u2192\u2395LC` |\n",
        "| ![](res/tracer_icons/win/trace_theme-10-00.png) | ![](res/tracer_icons/ride/continue_all_threads.png) | Continue execution of all threads | |\n",
        "| ![](res/tracer_icons/win/trace_theme-03-00.png) | ![](res/tracer_icons/ride/edit.png) | Edit name | <kbd>Shift</kbd>+<kbd>Enter</kbd> |\n",
        "| ![](res/tracer_icons/win/trace_theme-02-00.png) | ![](res/tracer_icons/ride/quit.png) | Quit this function | <kbd>Esc</kbd> |\n",
        "| ![](res/tracer_icons/win/trace_theme-08-00.png) | ![](res/tracer_icons/ride/interrupt.png) | Interrupt | <kbd>Ctrl</kbd>+<kbd>Pause</kbd> |\n",
        "| ![](res/tracer_icons/win/trace_theme-09-00.png) | ![](res/tracer_icons/win/trace_theme-09-00.png) | Clear trace/stop/monitor for this object |  |\n",
        "| ![](res/tracer_icons/win/trace_theme-14-00.png) | ![](res/tracer_icons/win/trace_theme-14-00.png) | Toggle line numbers | |\n",
        "| | ![](res/tracer_icons/ride/search.png) | Open Search area | |\n",
        "| ![](res/tracer_icons/win/trace_theme-16-00.png) | ![](res/tracer_icons/ride/next.png) | Search for next match | |\n",
        "| ![](res/tracer_icons/win/trace_theme-15-00.png) | ![](res/tracer_icons/ride/prev.png) | Search for previous match | |\n",
        "| ![](res/tracer_icons/win/trace_theme-17-00.png) | | Search hidden text | |\n",
        "| ![](res/tracer_icons/win/trace_theme-21-00.png) | ![](res/tracer_icons/win/trace_theme-21-00.png) | Match case | |\n",
        "| ![](res/tracer_icons/win/trace_theme-22-00.png) | ![](res/tracer_icons/win/trace_theme-22-00.png) | Match whole word | |\n",
        "| ![](res/tracer_icons/win/trace_theme-23-00.png) | ![](res/tracer_icons/win/trace_theme-23-00.png) | Use regular expressions | |\n",
        "| | ![](res/tracer_icons/ride/find_in_selection.png) | Find in selection | |\n",
        "\n",
        "\u207d*\u207e a blank means the feature is not available in that IDE; current icons might differ from the ones shown in the table.\n",
        "\n",
        "\u207d\\*\\*\u207e feature available on RIDE through the keyboard shortcut only."
      ]
    },
    {
      "cell_type": "markdown",
      "id": "effective-motor",
      "metadata": {},
      "source": [
        "(First-Aid-Kit-Trace-Strategies)=\n",
        "#### Trace Strategies\n",
        "\n",
        "Usually, the tracer is employed to execute a function step by step, by repeatedly pressing the <kbd>Enter</kbd> key.\n",
        "At each step, you can check the values of your variables.\n",
        "You might perhaps monitor the values of certain significant variables, each in its own window, and see how they change when the function is executed, step after step, or in continuous mode.\n",
        "\n",
        "When the current statement includes a call to one or more user-defined sub functions, you must decide how it should be processed:\n",
        "\n",
        " - if you are confident in those sub functions and have no doubt about them, just press the <kbd>Enter</kbd> key, and the current line will be executed; or\n",
        " - if you think that a sub function requires investigation, press <kbd>Ctrl</kbd>+<kbd>Enter</kbd> or click on the \"Trace expression\" button.\n",
        " This will open the tracer on each of the sub functions in turn.\n",
        " You can continue tracing to any depth of function call.\n",
        "\n",
        "We exemplify this below. {numref}`fig-Tracer_Palindrome_01` shows the tracer window that pops up\n",
        "as we execute the line `Palindrome 'Just to show a function call'` with\n",
        "<kbd>Ctrl</kbd>+<kbd>Enter</kbd>.\n",
        "Notice that, to the right of the body of the `Palindrome` function, we have the stack indicator information.\n",
        "There is also a light rectangle surrounding the very first line of the `Palindrome` function, highlighting the expression that is going to be run next.\n",
        "\n",
        "(fig-Tracer_Palindrome_01)=\n",
        "```{figure} res/Tracer_Palindrome_01.png\n",
        "---\n",
        "name: Tracer_Palindrome_01\n",
        "---\n",
        "The tracer window in its initial state.\n",
        "```\n",
        "\n",
        "We are confident that the `Upper` function works as intended, so we can just execute that expression with <kbd>Enter</kbd> (or by pressing the \"Execute expression\" button).\n",
        "This executes the expression normally and then leaves the tracer at the second line of the `Palindrome` function, like {numref}`fig-Tracer_Palindrome_02` shows:\n",
        "\n",
        "(fig-Tracer_Palindrome_02)=\n",
        "```{figure} res/Tracer_Palindrome_02.png\n",
        "---\n",
        "name: Tracer_Palindrome_02\n",
        "---\n",
        "The tracer window stopped at the second line of the `Palindrome` function.\n",
        "```\n",
        "\n",
        "The next statement to be executed is the expression that calls the `ReverBug` function, which we are suspicious of.\n",
        "Because we want to trace _into_ this function, we press <kbd>Ctrl</kbd>+<kbd>Enter</kbd> and the tracer window now shows the definition of the `ReverBug` function.\n",
        "On the right, the state indicator was now updated to include `ReverBug` at the top of the stack.\n",
        "We can see this in {numref}`fig-Tracer_Palindrome_03`.\n",
        "\n",
        "(fig-Tracer_Palindrome_03)=\n",
        "```{figure} res/Tracer_Palindrome_03.png\n",
        "---\n",
        "name: Tracer_Palindrome_03\n",
        "---\n",
        "We trace into the `ReverBug` function.\n",
        "```\n",
        "\n",
        "If you are using the Windows IDE, you can use the dropdown on the tracer toolbar to take a look at any other function in the stack.\n",
        "In {numref}`fig-Tracer_Palindrome_04` we reopen the\n",
        "`Palindrome` function and we see its background is in a different shade of grey, because `Palindrome` is now suspended, waiting for the `ReverBug` function to finish.\n",
        "\n",
        "(fig-Tracer_Palindrome_04)=\n",
        "```{figure} res/Tracer_Palindrome_04.png\n",
        "---\n",
        "name: Tracer_Palindrome_04\n",
        "---\n",
        "Looking at the `Palindrome` function while it is suspended.\n",
        "```\n",
        "\n",
        "We are interested in debugging the `ReverBug` function, so we return our tracer to the `ReverBug` function.\n",
        "Now we want to see how the value of `rev` evolves during the loop, so, we can initialise `rev` (that is, run the first expression that assigns something to `rev`) and then double-click its name to open the editor window on it.\n",
        "Now we can see `rev` being updated as we trace through the loop, if we run the expressions one by one.\n",
        "After a couple of iterations, our session could look like this:\n",
        "\n",
        "(fig-Tracer_Palindrome_05)=\n",
        "```{figure} res/Tracer_Palindrome_05.png\n",
        "---\n",
        "name: Tracer_Palindrome_05\n",
        "---\n",
        "The editor shows the value of `rev` mid-execution of the `ReverBug` function.\n",
        "```\n",
        "\n",
        "Notice that in {numref}`fig-Tracer_Palindrome_05`\n",
        "the window on the right is the editor window showing the value that `rev` has at that point of the execution of `ReverBug`.\n",
        "If we trace through the remainder of the function, the editor window will close automatically when we leave `ReverBug` because `rev`, as a variable inside `ReverBug`, no longer exists.\n",
        "\n",
        "When in the tracer you can also move the red line to skip some statements:\n",
        " - **backward** if you want to re-execute some statements after you have changed some parameters or variables, or changed the code, etc. Press <kbd>Ctrl</kbd>+<kbd>Shift</kbd>+<kbd>Backspace</kbd> (or use the \"Go back one line\" button in the Windows IDE); or\n",
        " - **forward**, to skip some insignificant statements. Press <kbd>Ctrl</kbd>+<kbd>Shift</kbd>+<kbd>Enter</kbd> (or use the \"Skip current line\" button in the Windows IDE).\n",
        "\n",
        "Sometimes an error appears only after an unpredictable number of iterations, and tracing the execution statement after statement would take much too long.\n",
        "In a situation like this, you can display some important variables as shown above, and run the function in automatic mode (press the \"stop on next line of calling function\" button).\n",
        "You can then stop execution with the \"interrupt\" button when a given variable is about to take what you suspect might be a critical value.\n",
        "\n",
        "When you have finished your investigations you can:\n",
        " - resume execution automatically by pressing the \"continue execution of this/all threads\" buttons, or by executing `\u2192\u2395LC`; or\n",
        " - abort execution by pressing the \"quit\"  button, or by typing `\u21920`, or `\u2192`, or `)reset`, depending on your intentions."
      ]
    },
    {
      "cell_type": "markdown",
      "id": "engaging-writer",
      "metadata": {},
      "source": [
        "(First-Aid-Kit-Choose-your-Configuration)=\n",
        "### Choose your Configuration\n",
        "\n",
        "If your program is interrupted in a very deep stack of functions you might prefer if the editor does not open one trace window for every suspended function you have, as those windows may end up occupying most of the screen.\n",
        "You might also prefer to have your trace windows be floating independently of the session, or docked perhaps to the bottom or the side of the interpreter.\n",
        "\n",
        "By default, the trace window is docked to the session.\n",
        "If you want to change this\n",
        " - on the Windows IDE, go to \"Options\" &#8680; \"Configure\" &#8680; \"Trace/Edit\" and select the option \"Classic Dyalog mode\".\n",
        " - on RIDE, go to \"Edit\" &#8680; \"Preferences\" &#8680; \"Windows\" and select the option \"Floating windows\".\n",
        "\n",
        "With regards to having multiple trace windows open, one per sub-function that is suspended, that is never a problem on RIDE because RIDE has a single trace window for all the suspended and interrupted functions.\n",
        "On the Windows IDE, you just have to enable or disable the \"Single trace window\" option that is under \"Classic Dyalog mode\".\n",
        "\n",
        "When the IDE is set to only have a single trace window, the contents of the trace window are replaced by the new current function, both when the execution enters a sub function and when it returns to its calling function.\n",
        "\n",
        "It is up to you to decide which configuration is most convenient for you.\n",
        "In any case, this can be changed dynamically, without restarting APL.\n",
        "\n",
        "<!--begin note-->\n",
        "***Note***:\n",
        "\n",
        " > Notice that some of these settings might also affect how *edit* windows are displayed, so be sure to have that in mind when picking your preferred configuration.\n",
        "<!--end-->"
      ]
    },
    {
      "cell_type": "markdown",
      "id": "portuguese-bottle",
      "metadata": {},
      "source": [
        "(First-Aid-Kit-Breakpoints-and-Trace-Controls)=\n",
        "### Breakpoints and Trace-Controls\n",
        "\n",
        "(First-Aid-Kit-Set-Breakpoints)=\n",
        "#### Set Breakpoints\n",
        "\n",
        "When one wants to investigate the behaviour of a set of statements nested in a very deep sub-function, the best option is to run the main function but tell the system to interrupt the execution just before a particular statement is executed.\n",
        "To achieve this, one can place *breakpoints* (sometimes named *stops*) on one or more statements.\n",
        "\n",
        "When you edit or trace a function, you normally have a blank column to the left of the function body, as shown in {numref}`fig-IDE_Set_Breakpoints`.\n",
        "If this is not the case, activate the menu option \"View\" &#8680; \"Stop\" (or \"Stops\", depending on the IDE).\n",
        "If you are using the Windows IDE, go ahead and deselect the two other options \"Trace\" and \"Monitor\" for now.\n",
        "\n",
        "(fig-IDE_Set_Breakpoints)=\n",
        "```{figure} res/IDE_Set_Breakpoints.png\n",
        "---\n",
        "name: IDE_Set_Breakpoints\n",
        "---\n",
        "Where to set breakpoints in the two main IDEs.\n",
        "```\n",
        "\n",
        "You can set or remove breakpoints by clicking in this column, on the line on which you wish to toggle the breakpoint.\n",
        "A red dot shows that the breakpoint is set.\n",
        "You can set and clear breakpoints in edit windows as well as in trace windows, and they can be changed at any time.\n",
        "\n",
        "When one of the marked functions is executed, it stops before each breakpoint, like it is shown in {numref}`fig-Win_Stop_At_Breakpoint`.\n",
        "\n",
        "(fig-Win_Stop_At_Breakpoint)=\n",
        "```{figure} res/Win_Stop_At_Breakpoint.png\n",
        "---\n",
        "name: Win_Stop_At_Breakpoint\n",
        "---\n",
        "Windows interpreter stops execution right before the first breakpoint.\n",
        "```\n",
        "\n",
        "Looking at {numref}`fig-Win_Stop_At_Breakpoint`, we also see that `\u2395DM` reports no error, only the statement at which we stopped.\n",
        "\n",
        "After stopping at a breakpoint you can make all the experiments you need to do, and restart the function at will, in continuous or trace mode."
      ]
    },
    {
      "cell_type": "markdown",
      "id": "ordinary-premises",
      "metadata": {},
      "source": [
        "(First-Aid-Kit-Remove-Breakpoints)=\n",
        "#### Remove Breakpoints\n",
        "\n",
        "Each breakpoint can be removed individually with the mouse, as explained before.\n",
        "But after a long period of testing and debugging, it may be difficult to remember where breakpoints were set, and it is unacceptable to hand over a finished application to the end-user if it contains breakpoints.\n",
        "\n",
        "For this reason, always remove all the breakpoints by going to \"Action\" &#8680; \"Clear stops\" on the Windows IDE and \"Action\" &#8680; \"Clear all trace/stop/monitor\" on RIDE.\n",
        "This menu button removes all of the breakpoints from all of your functions, throughout the entire workspace.\n",
        "(On the Windows IDE you can also use the appropriate toolbar icon, which should look the same as the \"Clear trace/stop/monitor for this object\" button from the trace window.)"
      ]
    },
    {
      "cell_type": "markdown",
      "id": "persistent-russia",
      "metadata": {},
      "source": [
        "(First-Aid-Kit-Programmatically-Setting-Breakpoints)=\n",
        "#### Programmatically Setting Breakpoints\n",
        "\n",
        "Breakpoints can also be set and removed using a system function: `lines \u2395STOP 'function'`.\n",
        "\n",
        "Recall the `Upper` function that returns a string in all uppercase:"
      ]
    },
    {
      "cell_type": "code",
      "execution_count": 73,
      "id": "ordinary-slave",
      "metadata": {},
      "outputs": [
        {
          "data": {
            "text/html": [
              "<span style=\"white-space:pre; font-family: monospace\">WHATISTHIS\n",
              "\n",
              "</span>"
            ]
          },
          "execution_count": 73,
          "metadata": {},
          "output_type": "execute_result"
        }
      ],
      "source": [
        "Upper 'What is this?'"
      ]
    },
    {
      "cell_type": "code",
      "execution_count": 74,
      "id": "mysterious-nelson",
      "metadata": {},
      "outputs": [
        {
          "data": {
            "text/html": [
              "<span style=\"white-space:pre; font-family: monospace\">     \u2207 Upper\u2190{                             \n",
              "[1]        low\u2190'abcdefghijklmnopqrstuvwxyz'\n",
              "[2]        up\u2190'ABCDEFGHIJKLMNOPQRSTUVWXYZ' \n",
              "[3]        all\u2190low,up                      \n",
              "[4]        text\u2190(\u2375\u220aall)/\u2375                  \n",
              "[5]        (up,up)[all\u2373text]               \n",
              "[6]    }                                   \n",
              "     \u2207                                     \n",
              "\n",
              "</span>"
            ]
          },
          "execution_count": 74,
          "metadata": {},
          "output_type": "execute_result"
        }
      ],
      "source": [
        "\u2395VR 'Upper'"
      ]
    },
    {
      "cell_type": "markdown",
      "id": "loved-primary",
      "metadata": {},
      "source": [
        "We can set breakpoints for the lines 2 and 4 if we give the function name to the `\u2395STOP` system function:"
      ]
    },
    {
      "cell_type": "code",
      "execution_count": 75,
      "id": "confidential-letter",
      "metadata": {},
      "outputs": [],
      "source": [
        "2 4\u2395STOP 'Upper'"
      ]
    },
    {
      "cell_type": "markdown",
      "id": "accredited-abraham",
      "metadata": {},
      "source": [
        "Now if we run `Upper` again, it will stop at line `2`:"
      ]
    },
    {
      "cell_type": "code",
      "execution_count": 76,
      "id": "numeric-copper",
      "metadata": {},
      "outputs": [
        {
          "name": "stderr",
          "output_type": "stream",
          "text": [
            "\n",
            "Upper[2]\n"
          ]
        }
      ],
      "source": [
        "Upper 'What is this?'"
      ]
    },
    {
      "cell_type": "markdown",
      "id": "american-camcorder",
      "metadata": {},
      "source": [
        "On the Windows IDE or RIDE the trace window should open and you can inspect the variables that are local to `Upper` that have already been defined.\n",
        "When you tell the tracer to continue, it will resume execution and then stop at line 4 of the `Upper` function, because you also set that breakpoint.\n",
        "\n",
        "If you want to change the breakpoints that are set, just call the function again.\n",
        "Subsequent calls to `\u2395STOP` replace the breakpoints that were set previously, so"
      ]
    },
    {
      "cell_type": "code",
      "execution_count": 77,
      "id": "elementary-enhancement",
      "metadata": {},
      "outputs": [],
      "source": [
        "4\u2395STOP 'Upper'"
      ]
    },
    {
      "cell_type": "markdown",
      "id": "distinguished-spending",
      "metadata": {},
      "source": [
        "Sets a single breakpoint at line 4.\n",
        "\n",
        "In the `lines \u2395STOP 'function'` syntax, notice that\n",
        " - numbers outside the range of available statements are ignored; and\n",
        " - a zero means that a breakpoint will be placed immediately prior to exiting from the function.\n",
        "\n",
        "Therefore, the line"
      ]
    },
    {
      "cell_type": "code",
      "execution_count": 78,
      "id": "tracked-nomination",
      "metadata": {},
      "outputs": [],
      "source": [
        "4 9 0\u2395STOP 'Upper'"
      ]
    },
    {
      "cell_type": "markdown",
      "id": "naughty-telephone",
      "metadata": {},
      "source": [
        "sets a breakpoint on line 4, then ignores the 9 because `Upper` only has 6 lines, and 0 sets a breakpoint for immediately before `Upper` finishes.\n",
        "\n",
        "The `\u2395STOP` function returns a shy result indicating the lines in which breakpoints have been actually set:"
      ]
    },
    {
      "cell_type": "code",
      "execution_count": 79,
      "id": "advanced-montana",
      "metadata": {},
      "outputs": [
        {
          "data": {
            "text/html": [
              "<span style=\"white-space:pre; font-family: monospace\">0 4\n",
              "\n",
              "</span>"
            ]
          },
          "execution_count": 79,
          "metadata": {},
          "output_type": "execute_result"
        }
      ],
      "source": [
        "\u2395\u21904 9 0\u2395STOP 'Upper'"
      ]
    },
    {
      "cell_type": "markdown",
      "id": "welsh-madness",
      "metadata": {},
      "source": [
        "The monadic usage of these functions returns the current breakpoints for a function:"
      ]
    },
    {
      "cell_type": "code",
      "execution_count": 80,
      "id": "senior-sharp",
      "metadata": {},
      "outputs": [
        {
          "data": {
            "text/html": [
              "<span style=\"white-space:pre; font-family: monospace\">0 4\n",
              "\n",
              "</span>"
            ]
          },
          "execution_count": 80,
          "metadata": {},
          "output_type": "execute_result"
        }
      ],
      "source": [
        "\u2395STOP 'Upper'"
      ]
    },
    {
      "cell_type": "markdown",
      "id": "voluntary-stone",
      "metadata": {},
      "source": [
        "The breakpoints can be removed by specifying an empty vector:"
      ]
    },
    {
      "cell_type": "code",
      "execution_count": 81,
      "id": "excited-porter",
      "metadata": {},
      "outputs": [],
      "source": [
        "\u236c\u2395STOP 'Upper'"
      ]
    },
    {
      "cell_type": "markdown",
      "id": "weird-cornwall",
      "metadata": {},
      "source": [
        "(First-Aid-Kit-Intentional-Interruption)=\n",
        "#### Intentional Interruption\n",
        "\n",
        "When an application is running in its normal production context, it is possible that some unexpected circumstances may cause it to crash at an unpredictable point.\n",
        "To cater for this eventuality, it is common practice to set a general error trap, using the techniques described in [a later chapter](./Event-Handling.ipynb), and halt execution in a controlled manner at a predefined point in the program, so that the developer is able to diagnose and correct the problem.\n",
        "\n",
        "To deliberately make a function stop under program control, one can use `\u2395STOP`, or generate an intentional error.\n",
        "The latter is probably easier, even for a beginner.\n",
        "There are many ways to do this, but a common one is to jump to a dedicated erroneous statement containing the single character `\u2218`, _jot_, obtained by pressing <kbd>Ctrl</kbd>+<kbd>j</kbd>:"
      ]
    },
    {
      "cell_type": "code",
      "execution_count": 82,
      "id": "executive-pacific",
      "metadata": {},
      "outputs": [
        {
          "name": "stderr",
          "output_type": "stream",
          "text": [
            "SYNTAX ERROR\n",
            "      \u2218\n",
            "      \u2227\n"
          ]
        }
      ],
      "source": [
        "\u2218"
      ]
    },
    {
      "cell_type": "markdown",
      "id": "informal-times",
      "metadata": {},
      "source": [
        "As you can see above, this symbol alone does not mean anything, so it causes a `SYNTAX ERROR`. You may encounter this in existing applications.\n",
        "\n",
        "Another alternative is to type `...`, which also raises a `SYNTAX ERROR` and can also be used inline. Another advantage of using `...` is that it is easier to search for with text search tools, because `...` is never valid code, whereas `\u2218` can be used inside statements."
      ]
    },
    {
      "cell_type": "markdown",
      "id": "quiet-necessity",
      "metadata": {},
      "source": [
        "(First-Aid-Kit-Trace-Controls)=\n",
        "#### Trace-Controls\n",
        "\n",
        "Earlier, we saw a very convenient way of tracing functions with the trace window.\n",
        "There is another debugging technique in which functions are executed normally; no trace windows are employed and there is no need to execute statements step by step.\n",
        "To set this up, **before** execution, the developer sets trace-controls on selected statements in one or more functions.\n",
        "Whenever a line marked by a trace-control is executed, the last value calculated on that line will be displayed in the session, without interrupting execution.\n",
        "Let us explore this technique.\n",
        "\n",
        "<!--begin remark-->\n",
        "***Remark***:\n",
        "\n",
        " > Bear in mind that this technique only works with tradfns, which is one of the reasons we said tradfns can be easier to debug in {numref}`User-Defined-Functions-Use-cases`.\n",
        "<!--end-->\n",
        "\n",
        "First, in `Palindrome`, let us replace `ReverBug` by another looping function, `ReverLoop`, that is more appropriate for this test:"
      ]
    },
    {
      "cell_type": "code",
      "execution_count": 83,
      "id": "hired-respect",
      "metadata": {},
      "outputs": [],
      "source": [
        "\u2207 rev \u2190 ReverLoop vec;letter\n",
        "    rev \u2190 ''\n",
        "    :For letter :In vec\n",
        "        rev \u2190 letter,rev\n",
        "    :EndFor\n",
        "\u2207"
      ]
    },
    {
      "cell_type": "code",
      "execution_count": 84,
      "id": "velvet-vegetation",
      "metadata": {},
      "outputs": [],
      "source": [
        "]dinput\n",
        "Palindrome \u2190 {\n",
        "    vector \u2190 Upper \u2375\n",
        "    torvec \u2190 ReverLoop vector\n",
        "    torvec\u2261vector\n",
        "}"
      ]
    },
    {
      "cell_type": "markdown",
      "id": "naval-twins",
      "metadata": {},
      "source": [
        "Now we need to set the trace-controls.\n",
        "If you are using the Windows IDE, you can do this with the GUI or programmatically via the `\u2395TRACE` system function.\n",
        "However, if you are using RIDE, you have to do it programmatically.\n",
        "We cover the two cases here:\n",
        "\n",
        " 1. Using the Windows IDE GUI, start by opening the edit window of the `ReverLoop` function and make sure the focus is in the edit window. Go to \"View\" &#8680; \"Trace\" and make sure that option is selected. When that option is selected, you get a new blank column in the edit window where you can set yellow markers like {numref}`fig-Win_Set_Trace_Controls` shows.\n",
        "\n",
        "\n",
        "(fig-Win_Set_Trace_Controls)=\n",
        "```{figure} res/Win_Set_Trace_Controls.png\n",
        "---\n",
        "name: Win_Set_Trace_Controls\n",
        "---\n",
        "Setting trace controls in the Windows IDE.\n",
        "```\n",
        "\n",
        " 2. For RIDE, or to set trace-controls programmatically on any platform, you can resort to `\u2395TRACE` which works like `\u2395STOP` does: `lines \u2395TRACE 'function'`, where `lines` is a numeric vector containing the lines where you want to set the trace-controls.\n",
        "\n",
        "If we wanted to programmatically set a trace-control for line 3 of the `ReverLoop` function, like the yellow marker in {numref}`fig-Win_Set_Trace_Controls` shows, we would write the following:"
      ]
    },
    {
      "cell_type": "code",
      "execution_count": 85,
      "id": "republican-biotechnology",
      "metadata": {},
      "outputs": [],
      "source": [
        "3\u2395TRACE 'ReverLoop'"
      ]
    },
    {
      "cell_type": "markdown",
      "id": "adult-acrylic",
      "metadata": {},
      "source": [
        "We can now execute the function, and each time the statement of line 3 is executed, Dyalog APL displays the name of the function, the line number, and the last value calculated on that line:"
      ]
    },
    {
      "cell_type": "code",
      "execution_count": 86,
      "id": "minor-logging",
      "metadata": {},
      "outputs": [
        {
          "data": {
            "text/html": [
              "<span style=\"white-space:pre; font-family: monospace\"> #.ReverLoop[3]  B \n",
              " #.ReverLoop[3]  OB \n",
              " #.ReverLoop[3]  ROB \n",
              " #.ReverLoop[3]  IROB \n",
              " #.ReverLoop[3]  NIROB \n",
              " #.ReverLoop[3]  GNIROB \n",
              "0\n",
              "\n",
              "</span>"
            ]
          },
          "execution_count": 86,
          "metadata": {},
          "output_type": "execute_result"
        }
      ],
      "source": [
        "Palindrome 'Boring'"
      ]
    },
    {
      "cell_type": "markdown",
      "id": "logical-colon",
      "metadata": {},
      "source": [
        "What we can see above is the value assigned to `rev` every time we loop over a single letter of the `vec` we feed to `ReverLoop`.\n",
        "\n",
        "We said that trace-controls in APL display the last value calculated in the lines where the trace-controls are set.\n",
        "This can mean different things, depending on the structure of the statement on that line.\n",
        "For example, in the lines `value \u2190 statement` and `vec[index] \u2190 value`, the contents of `value` would be the thing that gets printed if we set a trace-control for such a line:"
      ]
    },
    {
      "cell_type": "code",
      "execution_count": 87,
      "id": "friendly-accommodation",
      "metadata": {},
      "outputs": [],
      "source": [
        "\u2207 vec \u2190 Test ;vec;value\n",
        "    value \u2190 \u00af3 + 1 2 3 4  \u235d [1]\n",
        "    vec \u2190 10\u23740            \u235d [2]\n",
        "    vec[3 4 5 6] \u2190 value  \u235d [3]\n",
        "\u2207"
      ]
    },
    {
      "cell_type": "code",
      "execution_count": 88,
      "id": "visible-driving",
      "metadata": {},
      "outputs": [],
      "source": [
        "1 3\u2395TRACE 'Test'"
      ]
    },
    {
      "cell_type": "code",
      "execution_count": 89,
      "id": "ongoing-ability",
      "metadata": {},
      "outputs": [
        {
          "data": {
            "text/html": [
              "<span style=\"white-space:pre; font-family: monospace\"> #.Test[1]  \u00af2 \u00af1 0 1 \n",
              " #.Test[3]  \u00af2 \u00af1 0 1 \n",
              "0 0 \u00af2 \u00af1 0 1 0 0 0 0\n",
              "\n",
              "</span>"
            ]
          },
          "execution_count": 89,
          "metadata": {},
          "output_type": "execute_result"
        }
      ],
      "source": [
        "Test"
      ]
    },
    {
      "cell_type": "markdown",
      "id": "widespread-pregnancy",
      "metadata": {},
      "source": [
        "As you might imagine, if the traced function(s) perform many loops, this approach may produce pages and pages of output, especially if the results are large.\n",
        "In this case, you will probably most often prefer the previous method.\n",
        "\n",
        "Trace-controls can be removed in the same way as breakpoints:\n",
        " - using the option under the \"Action\" menu to clear all stops from all objects in the workspace;\n",
        " - using `\u236c\u2395TRACE 'function'` to remove the breakpoints from a single function; or\n",
        " - if you are on the Windows IDE you can also use the appropriate toolbar icon or remove the trace-controls one by one using the GUI of the editor window."
      ]
    },
    {
      "cell_type": "markdown",
      "id": "invisible-trader",
      "metadata": {},
      "source": [
        "**What now?**\n",
        "\n",
        "This is enough for the moment.\n",
        "With a little practice, you should be able to diagnose and correct programming errors.\n",
        "\n",
        "If you have been using the Windows IDE or if you are eagle-eyed, you might have noticed that the \"View\" menu allows the user to toggle three different options that are grouped together: trace-controls, breakpoints, and monitors.\n",
        "You will learn about monitors in the Specialist's section of [the chapter on _system interfaces_](./System-Interfaces.ipynb).\n",
        "\n",
        "Also, if you intend to program very professional end-user applications, you must protect your code against unexpected circumstances.\n",
        "This can be done using \"Exception processing\", which will be covered in [the chapter about event handling](./Event-Handling.ipynb), a chapter that complements the present one."
      ]
    },
    {
      "cell_type": "markdown",
      "id": "crazy-repair",
      "metadata": {},
      "source": [
        "(First-Aid-Kit-Exercises)=\n",
        "## Exercises\n",
        "\n",
        "There are no exercises in this chapter. Enjoy the break!"
      ]
    },
    {
      "cell_type": "markdown",
      "id": "rocky-knife",
      "metadata": {},
      "source": [
        "(fig-APLer-Beginner_New)=\n",
        "```{figure} res/APLer-Beginner_New.png\n",
        "---\n",
        "name: APLer-Beginner_New\n",
        "---\n",
        "\"Beginner APLer struggling with a nail.\"\n",
        "```\n"
      ]
    },
    {
      "cell_type": "markdown",
      "id": "anonymous-vermont",
      "metadata": {},
      "source": [
        "(First-Aid-Kit-The-Specialists-Section)=\n",
        "## The Specialist's Section\n",
        "\n",
        "<br />\n",
        "<center><i>Each chapter is followed by a \"Specialist's Section\" like this one. This section is dedicated to skilled APLers, who wish to improve their knowledge.</i>\n",
        "    \n",
        "You will find here rare or complex usages of the concepts presented in this chapter, or discover extended explanations which need the knowledge of some symbols that will be seen much further in the book.\n",
        "    \n",
        "<b>If you are exploring APL for the first time, skip this section and go to the next chapter.</b></center>\n",
        "\n",
        "(First-Aid-Kit-Value-Errors)=\n",
        "### Value Errors\n",
        "\n",
        "(First-Aid-Kit-Namespaces)=\n",
        "#### Namespaces\n",
        "\n",
        "If a `VALUE ERROR` occurs when you reference a function name, for example `GetText`, perhaps this function is not \"visible\" because it is located in a different _namespace_.\n",
        "Type the command `)obs` to see if you have some _namespaces_ and search through them to find the function.\n",
        "\n",
        "Imagine that `GetText` exists in a _namespace_ called `Files`:"
      ]
    },
    {
      "cell_type": "code",
      "execution_count": 90,
      "id": "crazy-ratio",
      "metadata": {},
      "outputs": [],
      "source": [
        "Files \u2190 \u2395NS''\n",
        "Files.GetText \u2190 { 'Here is some text' }"
      ]
    },
    {
      "cell_type": "code",
      "execution_count": 91,
      "id": "surprising-target",
      "metadata": {},
      "outputs": [
        {
          "name": "stderr",
          "output_type": "stream",
          "text": [
            "VALUE ERROR: Undefined name: GetText\n",
            "      GetText \u236c\n",
            "      \u2227\n"
          ]
        }
      ],
      "source": [
        "GetText \u236c"
      ]
    },
    {
      "cell_type": "markdown",
      "id": "bottom-halifax",
      "metadata": {},
      "source": [
        "You have two ways to execute `GetText` from the _root_ namespace:\n",
        " - give its full path when calling the function;"
      ]
    },
    {
      "cell_type": "code",
      "execution_count": 92,
      "id": "differential-morning",
      "metadata": {},
      "outputs": [
        {
          "data": {
            "text/html": [
              "<span style=\"white-space:pre; font-family: monospace\">Here is some text\n",
              "\n",
              "</span>"
            ]
          },
          "execution_count": 92,
          "metadata": {},
          "output_type": "execute_result"
        }
      ],
      "source": [
        "Files.GetText \u236c"
      ]
    },
    {
      "cell_type": "code",
      "execution_count": 93,
      "id": "hairy-literature",
      "metadata": {},
      "outputs": [
        {
          "data": {
            "text/html": [
              "<span style=\"white-space:pre; font-family: monospace\">Here is some text\n",
              "\n",
              "</span>"
            ]
          },
          "execution_count": 93,
          "metadata": {},
          "output_type": "execute_result"
        }
      ],
      "source": [
        "#.Files.GetText \u236c"
      ]
    },
    {
      "cell_type": "markdown",
      "id": "religious-consciousness",
      "metadata": {},
      "source": [
        " - set a global path to this _namespace_ then call the function normally."
      ]
    },
    {
      "cell_type": "code",
      "execution_count": 94,
      "id": "turkish-music",
      "metadata": {},
      "outputs": [
        {
          "data": {
            "text/html": [
              "<span style=\"white-space:pre; font-family: monospace\">Here is some text\n",
              "\n",
              "</span>"
            ]
          },
          "execution_count": 94,
          "metadata": {},
          "output_type": "execute_result"
        }
      ],
      "source": [
        "\u2395PATH \u2190 'Files'\n",
        "GetText \u236c"
      ]
    },
    {
      "cell_type": "markdown",
      "id": "incredible-parcel",
      "metadata": {},
      "source": [
        "(First-Aid-Kit-Nightmare)=\n",
        "#### Nightmare\n",
        "\n",
        "You expected to define a function named `Travel` and wrongly defined a function named `west` (see {numref}`First-Aid-Kit-VALUE-ERROR-E28E95EN--6`)):"
      ]
    },
    {
      "cell_type": "code",
      "execution_count": 95,
      "id": "requested-custody",
      "metadata": {},
      "outputs": [],
      "source": [
        "\u2207 z \u2190 west Traveleast\n",
        "    z \u2190 west-east\n",
        "\u2207"
      ]
    },
    {
      "cell_type": "markdown",
      "id": "particular-healthcare",
      "metadata": {},
      "source": [
        "If you try to execute `west`,"
      ]
    },
    {
      "cell_type": "code",
      "execution_count": 96,
      "id": "declared-leeds",
      "metadata": {},
      "outputs": [
        {
          "name": "stderr",
          "output_type": "stream",
          "text": [
            "VALUE ERROR: Undefined name: east\n",
            "west[1] z\u2190west-east\n",
            "               \u2227\n"
          ]
        }
      ],
      "source": [
        "west 100"
      ]
    },
    {
      "cell_type": "markdown",
      "id": "civic-electron",
      "metadata": {},
      "source": [
        "you get a `VALUE ERROR` on the first statement if `east` does not exist as a global variable.\n",
        "\n",
        "But suppose that you _do_ have a numeric global variable named `east`.\n",
        "Then the first statement will be executed successfully, and `west` will call itself recursively, endlessly applying to the same argument (`-east`), with no exit condition, until the execution stack fills up the workspace.\n",
        "You will then have an error message like _\"The current trace stack is 395967 levels deep, etc.\"_.\n",
        "In the status field that displays the depth of the _state indicator_, you will see a high value.\n",
        "\n",
        "Trying to do anything at this point, even a naked branch, may not work simply because you have run out of workspace, and APL will issue a `WS FULL` on any attempt to resolve the situation.\n",
        "\n",
        "Just type `)reset` to get out of this nightmare, then go and have a strong cup of coffee.\n",
        "\n",
        "While drinking it, you can think about how you learned to interrupt a function in {numref}`User-Defined-Functions-Endless-Loops`, so that you do not have to wait for the workspace to be eaten up before you can regain control, if (read: when) this happens again."
      ]
    },
    {
      "cell_type": "markdown",
      "id": "modified-accountability",
      "metadata": {},
      "source": [
        "(First-Aid-Kit-sinl)=\n",
        "#### `)sinl`\n",
        "\n",
        "When diagnosing a problem, you generally use `)si`.\n",
        "However, you can obtain additional information with `)sinl`, which also gives all the **local** names used by the suspended functions, whether or not they have already been calculated.\n",
        "The `nl` stands for \"name list\".\n",
        "\n",
        "For example, when `Palindrome` crashed because our `ReverBug` implementation had a typo in the expression `from \u2190 frm+1`, we could have used `)sinl`:\n",
        "\n",
        "```APL\n",
        "      Palindrome 'Was it a car or a cat I saw?'\n",
        "VALUE ERROR: Undefined name: frm\n",
        "ReverBug[4] from\u2190frm+1\n",
        "                 \u2227\n",
        "      )sinl\n",
        "#.ReverBug[4]*  vec     rev     from    to\n",
        "#.Palindrome[2] vec\n",
        "```\n",
        "\n",
        "Notice that, when the crash occurred, `to` hadn't been assigned to yet, but its name is nevertheless reported by `)sinl`.\n",
        "This happens because the header of the `ReverBug` tradfn contains a list of all the local names to `ReverBug`, where `to` shows up."
      ]
    },
    {
      "cell_type": "markdown",
      "id": "governmental-nowhere",
      "metadata": {},
      "source": [
        "(First-Aid-Kit-Namespaces-and-Indicators)=\n",
        "#### Namespaces and Indicators\n",
        "\n",
        "(First-Aid-Kit-Extended-State-Indicator)=\n",
        "##### Extended State Indicator\n",
        "\n",
        "When a function crashes, the information reported by `)si` includes the full path to the functions on the execution stack.\n",
        "This is why all the lines begin with a _hash_: the _root_ namespace identifier.\n",
        "\n",
        "For example, suppose that we write a function named `MyFile` which calls `GetText` which is located in the _namespace_ `Files`, and this last function crashes:\n",
        "\n",
        "```APL\n",
        "      )si\n",
        "#.[Namespace].GetText[1]*\n",
        "#.MyFile[0]\n",
        "      \u2395SI\n",
        "\u250c\u2500\u2500\u2500\u2500\u2500\u2500\u2500\u252c\u2500\u2500\u2500\u2500\u2500\u2500\u2510\n",
        "\u2502GetText\u2502MyFile\u2502\n",
        "\u2514\u2500\u2500\u2500\u2500\u2500\u2500\u2500\u2534\u2500\u2500\u2500\u2500\u2500\u2500\u2518\n",
        "```\n",
        "\n",
        "Note that `\u2395SI` only reports the function names, not the full paths to them.\n",
        "You can obtain that information using the _extended_ SI, represented by the system function `\u2395XSI`, as shown:\n",
        "\n",
        "```APL\n",
        "      \u2395XSI\n",
        "\u250c\u2500\u2500\u2500\u2500\u2500\u2500\u2500\u2500\u2500\u2500\u2500\u2500\u2500\u2500\u2500\u2500\u2500\u2500\u2500\u2500\u2500\u252c\u2500\u2500\u2500\u2500\u2500\u2500\u2500\u2500\u2510\n",
        "\u2502#.[Namespace].GetText\u2502#.MyFile\u2502\n",
        "\u2514\u2500\u2500\u2500\u2500\u2500\u2500\u2500\u2500\u2500\u2500\u2500\u2500\u2500\u2500\u2500\u2500\u2500\u2500\u2500\u2500\u2500\u2534\u2500\u2500\u2500\u2500\u2500\u2500\u2500\u2500\u2518\n",
        "```\n",
        "\n",
        "This may help you to open a function in the editor, even if it is being executed in a different _namespace_ using `\u2395CS`.\n",
        "\n",
        "For example, you could edit the functions in the stack using `\u2395ED \u2395XSI` to edit all the functions or using `\u2395ED \u2283\u2395XSI` to edit only the first one."
      ]
    },
    {
      "cell_type": "markdown",
      "id": "simple-paris",
      "metadata": {},
      "source": [
        "(First-Aid-Kit-Namespace-Indicator)=\n",
        "##### Namespace Indicator\n",
        "\n",
        "A function located in a _namespace_ can be called from any other namespace.\n",
        "It may be important to know from where it was called.\n",
        "This information is given by `\u2395NSI`.\n",
        "\n",
        "Let us consider the following scenario:\n",
        "\n",
        "A workspace contains two _namespaces_: `ToolBox` contains some user-defined functions and `Files` is a Dyalog-provided set of utilities to deal with files, that we can load for our example:"
      ]
    },
    {
      "cell_type": "code",
      "execution_count": 115,
      "id": "blind-referral",
      "metadata": {},
      "outputs": [
        {
          "data": {
            "text/html": [
              "<span style=\"white-space:pre; font-family: monospace\">C:\\Program Files\\Dyalog\\Dyalog APL-64 18.0 Unicode\\ws\\Files.dws saved Tue Dec  1 20:08:18 2020\n",
              "</span>"
            ]
          },
          "execution_count": 115,
          "metadata": {},
          "output_type": "execute_result"
        }
      ],
      "source": [
        ")load Files"
      ]
    },
    {
      "cell_type": "markdown",
      "id": "alien-layer",
      "metadata": {},
      "source": [
        "The main workspace of the example contains the following function:"
      ]
    },
    {
      "cell_type": "code",
      "execution_count": 116,
      "id": "ongoing-assignment",
      "metadata": {},
      "outputs": [],
      "source": [
        "\u2207 r \u2190 Application filename;sink\n",
        "    sink \u2190 'Any top level statements'\n",
        "    r \u2190 #.ToolBox.Control filename\n",
        "\u2207"
      ]
    },
    {
      "cell_type": "markdown",
      "id": "generous-memory",
      "metadata": {},
      "source": [
        "This main program calls `Control` (located in `ToolBox`):"
      ]
    },
    {
      "cell_type": "code",
      "execution_count": 138,
      "id": "following-berkeley",
      "metadata": {},
      "outputs": [],
      "source": [
        "'ToolBox'\u2395NS''"
      ]
    },
    {
      "cell_type": "code",
      "execution_count": 139,
      "id": "liquid-victory",
      "metadata": {},
      "outputs": [],
      "source": [
        "\u2207 r \u2190 Control filename;sink\n",
        "    sink \u2190 'Any ToolBox statements'\n",
        "    \u2395CS'#'\n",
        "    r \u2190 Files.ReadAllText globalPath,filename\n",
        "\u2207"
      ]
    },
    {
      "cell_type": "code",
      "execution_count": 140,
      "id": "fifth-attention",
      "metadata": {},
      "outputs": [],
      "source": [
        "\u235d (Ugly) workaround to create the Control function inside its namespace\n",
        "\u235d when using the Jupyter notebook.\n",
        "ToolBox.Control \u2190 Control"
      ]
    },
    {
      "cell_type": "markdown",
      "id": "needed-motor",
      "metadata": {},
      "source": [
        "And on the line before `Control` calls `ReadAllText` (located in the `Files` _namespace_), it switches execution (it is running in `#.ToolBox`) to the _root_ namespace (`\u2395CS'#'`) in order to execute the expression `Files.ReadAllText` from `#`.\n",
        "\n",
        "When we try to apply the main function to a missing file, an error occurs:"
      ]
    },
    {
      "cell_type": "code",
      "execution_count": 143,
      "id": "piano-ranking",
      "metadata": {},
      "outputs": [
        {
          "name": "stderr",
          "output_type": "stream",
          "text": [
            "FILE NAME ERROR: c:/tmp/milk.txt: Unable to open file (\"The system cannot find the file specified.\")\n",
            "ReadAllText[3] tn\u2190name \u2395NTIE 0\n",
            "                       \u2227\n"
          ]
        }
      ],
      "source": [
        "globalPath \u2190 'c:/tmp/'\n",
        "Application 'milk.txt'"
      ]
    },
    {
      "cell_type": "markdown",
      "id": "polyphonic-theory",
      "metadata": {},
      "source": [
        "`\u2395SI` only reports the suspended functions:\n",
        "\n",
        "```APL\n",
        "      \u2395SI\n",
        "\u250c\u2500\u2500\u2500\u2500\u2500\u2500\u2500\u2500\u2500\u2500\u2500\u252c\u2500\u2500\u2500\u2500\u2500\u2500\u2500\u252c\u2500\u2500\u2500\u2500\u2500\u2500\u2500\u2500\u2500\u2500\u2500\u2510\n",
        "\u2502ReadAllText\u2502Control\u2502Application\u2502\n",
        "\u2514\u2500\u2500\u2500\u2500\u2500\u2500\u2500\u2500\u2500\u2500\u2500\u2534\u2500\u2500\u2500\u2500\u2500\u2500\u2500\u2534\u2500\u2500\u2500\u2500\u2500\u2500\u2500\u2500\u2500\u2500\u2500\u2518\n",
        "```\n",
        "\n",
        "This is a bit poor, because we cannot see whether or not these three functions are in the same _namespace_.\n",
        "However, `\u2395XSI` and `\u2395NSI` give us more information:\n",
        "\n",
        "```APL\n",
        "      \u2395XSI\n",
        "\u250c\u2500\u2500\u2500\u2500\u2500\u2500\u2500\u2500\u2500\u2500\u2500\u2500\u2500\u2500\u2500\u2500\u2500\u2500\u2500\u252c\u2500\u2500\u2500\u2500\u2500\u2500\u2500\u2500\u2500\u252c\u2500\u2500\u2500\u2500\u2500\u2500\u2500\u2500\u2500\u2500\u2500\u2500\u2500\u2510\n",
        "\u2502#.Files.ReadAllText\u2502#.Control\u2502#.Application\u2502\n",
        "\u2514\u2500\u2500\u2500\u2500\u2500\u2500\u2500\u2500\u2500\u2500\u2500\u2500\u2500\u2500\u2500\u2500\u2500\u2500\u2500\u2534\u2500\u2500\u2500\u2500\u2500\u2500\u2500\u2500\u2500\u2534\u2500\u2500\u2500\u2500\u2500\u2500\u2500\u2500\u2500\u2500\u2500\u2500\u2500\u2518\n",
        "      \u2395NSI\n",
        "\u250c\u2500\u252c\u2500\u252c\u2500\u2510\n",
        "\u2502#\u2502#\u2502#\u2502\n",
        "\u2514\u2500\u2534\u2500\u2534\u2500\u2518\n",
        "```\n",
        "\n",
        "`\u2395XSI` indicates _where_ each function is _located_: `ReadAllText` in `Files` and `Control` in `ToolBox`.\n",
        "\n",
        "`\u2395NSI` indicates _from where_ each function has been _called_:\n",
        " - `Application` was of course executed in the _root_;\n",
        " - `Control` was called by `Application` from the _root_, using its full path; and\n",
        " - `ReadAllText` was called by `Control`. But because that function had just executed `\u2395CS'#'`, it was running in the _root namespace_. So, `ReadAllText` was finally called from the _root_, too.\n",
        "\n",
        "This explains why the three functions have been called from the _root_.\n",
        "\n",
        "The traditional _state indicator_ has also been extended in Dyalog APL:\n",
        "\n",
        "```APL\n",
        "      )si\n",
        "#.Files.ReadAllText[3]*\n",
        "[#] #.ToolBox.Control[3]\n",
        "#.Application[2]\n",
        "```\n",
        "\n",
        "The `[#]` before `#.ToolBox.Control[3]` means there has been a switch to that namespace.\n",
        "\n",
        "Let us change `Control` a little so that this function no longer executes its last line in the _root_ namespace (the second statement is commented out).\n",
        "This needs some minor changes to the third statement so that it can \"see\" the global names:"
      ]
    },
    {
      "cell_type": "code",
      "execution_count": 141,
      "id": "architectural-correspondence",
      "metadata": {},
      "outputs": [],
      "source": [
        "\u2207 r \u2190 Control filename;sink\n",
        "    sink \u2190 'Any ToolBox statements'\n",
        "    \u235d \u2395CS'#'\n",
        "    r \u2190 #.Files.ReadAllText #.globalPath,filename\n",
        "\u2207"
      ]
    },
    {
      "cell_type": "code",
      "execution_count": 142,
      "id": "color-shareware",
      "metadata": {},
      "outputs": [],
      "source": [
        "ToolBox.Control \u2190 Control"
      ]
    },
    {
      "cell_type": "markdown",
      "id": "abstract-moral",
      "metadata": {},
      "source": [
        "Of course, the execution fails again, but we now get slightly different information:\n",
        "\n",
        "```APL\n",
        "      \u2395XSI\n",
        "\u250c\u2500\u2500\u2500\u2500\u2500\u2500\u2500\u2500\u2500\u2500\u2500\u2500\u2500\u2500\u2500\u2500\u2500\u2500\u2500\u252c\u2500\u2500\u2500\u2500\u2500\u2500\u2500\u2500\u2500\u2500\u2500\u2500\u2500\u2500\u2500\u2500\u2500\u252c\u2500\u2500\u2500\u2500\u2500\u2500\u2500\u2500\u2500\u2500\u2500\u2500\u2500\u2510\n",
        "\u2502#.Files.ReadAllText\u2502#.ToolBox.Control\u2502#.Application\u2502\n",
        "\u2514\u2500\u2500\u2500\u2500\u2500\u2500\u2500\u2500\u2500\u2500\u2500\u2500\u2500\u2500\u2500\u2500\u2500\u2500\u2500\u2534\u2500\u2500\u2500\u2500\u2500\u2500\u2500\u2500\u2500\u2500\u2500\u2500\u2500\u2500\u2500\u2500\u2500\u2534\u2500\u2500\u2500\u2500\u2500\u2500\u2500\u2500\u2500\u2500\u2500\u2500\u2500\u2518\n",
        "      \u2395NSI\n",
        "\u250c\u2500\u2500\u2500\u2500\u2500\u2500\u2500\u2500\u2500\u252c\u2500\u252c\u2500\u2510\n",
        "\u2502#.ToolBox\u2502#\u2502#\u2502\n",
        "\u2514\u2500\u2500\u2500\u2500\u2500\u2500\u2500\u2500\u2500\u2534\u2500\u2534\u2500\u2518\n",
        "```\n",
        "\n",
        "Nothing has changed in `\u2395XSI` (the functions are still located in the same places), but now `\u2395NSI` reports that `ReadAllText` was no longer called from the _root_, but was called from `ToolBox` where `Control` was executing.\n",
        "This is also visible in the _state indicator_:\n",
        "\n",
        "```APL\n",
        "      )si\n",
        "#.Files.ReadAllText[3]*\n",
        "#.ToolBox.Control[3]\n",
        "#.Application[2]\n",
        "```\n",
        "\n",
        "The `[#]` has disappeared."
      ]
    },
    {
      "cell_type": "code",
      "execution_count": null,
      "id": "about-reader",
      "metadata": {},
      "outputs": [],
      "source": []
    }
  ],
  "metadata": {
    "kernelspec": {
      "display_name": "Dyalog APL",
      "language": "apl",
      "name": "dyalog-kernel"
    },
    "language_info": {
      "file_extension": ".apl",
      "mimetype": "text/apl",
      "name": "APL"
    },
    "toc": {
      "base_numbering": 1,
      "nav_menu": {},
      "number_sections": false,
      "sideBar": true,
      "skip_h1_title": true,
      "title_cell": "Table of Contents",
      "title_sidebar": "Contents",
      "toc_cell": false,
      "toc_position": {},
      "toc_section_display": true,
      "toc_window_display": false
    }
  },
  "nbformat": 4,
  "nbformat_minor": 5
}