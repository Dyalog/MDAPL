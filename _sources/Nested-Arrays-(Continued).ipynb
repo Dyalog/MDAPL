{
  "cells": [
    {
      "cell_type": "markdown",
      "id": "minute-psychiatry",
      "metadata": {},
      "source": [
        "# Nested Arrays (Continued)"
      ]
    },
    {
      "cell_type": "code",
      "execution_count": null,
      "id": "chicken-twist",
      "metadata": {},
      "outputs": [],
      "source": []
    }
  ],
  "metadata": {
    "kernelspec": {
      "display_name": "Dyalog APL",
      "language": "apl",
      "name": "dyalog-kernel"
    },
    "language_info": {
      "file_extension": ".apl",
      "mimetype": "text/apl",
      "name": "APL"
    },
    "toc": {
      "base_numbering": 1,
      "nav_menu": {},
      "number_sections": false,
      "sideBar": true,
      "skip_h1_title": true,
      "title_cell": "Table of Contents",
      "title_sidebar": "Contents",
      "toc_cell": false,
      "toc_position": {},
      "toc_section_display": true,
      "toc_window_display": false
    }
  },
  "nbformat": 4,
  "nbformat_minor": 5
}