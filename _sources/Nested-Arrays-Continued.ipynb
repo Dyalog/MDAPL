{
  "cells": [
    {
      "cell_type": "markdown",
      "id": "small-subscription",
      "metadata": {},
      "source": [
        "(Nested-Arrays-Continued-Nested-Arrays-Continued)=\n",
        "# Nested Arrays (Continued)\n",
        "\n",
        "(Nested-Arrays-Continued-First-Contact)=\n",
        "## First Contact\n",
        "\n",
        "(Nested-Arrays-Continued-Definitions)=\n",
        "### Definitions\n",
        "\n",
        "We have already met *nested* arrays in [the chapter about Data and Variables](./Data-and-Variables.ipynb); let us just remind ourselves of some definitions:\n",
        "\n",
        "An array is said to be *generalised* or *nested* when one or more of its items are not _simple_ scalars, but scalars containing \"enclosed\" arrays (this term will be explained soon).\n",
        "\n",
        "Such an array can be created in many ways, although until now we have only covered the simplest one, called *vector notation*, or *strand notation*.\n",
        "Using this notation, the items of an array are just juxtaposed, and each item can be identified as a separate item because:\n",
        "\n",
        " - it is separated from its neighbours by **blanks**, or\n",
        " - it is embedded within **quotes**, or\n",
        " - it is an expression embedded within **parentheses**, or\n",
        " - it is a **variable name**, or the name of a niladic function which returns a result.\n",
        " \n",
        " Just to demonstrate how it works, we will create a nested vector and a nested matrix:"
      ]
    },
    {
      "cell_type": "code",
      "execution_count": 4,
      "id": "pediatric-tender",
      "metadata": {},
      "outputs": [],
      "source": [
        "one \u2190 2 2\u23748 6 2 4\n",
        "two \u2190 'Hello'"
      ]
    },
    {
      "cell_type": "code",
      "execution_count": 5,
      "id": "normal-packet",
      "metadata": {},
      "outputs": [
        {
          "data": {
            "text/html": [
              "<span style=\"white-space:pre; font-family: monospace\">\u250c\u2192\u2500\u2500\u2500\u2500\u2500\u2500\u2500\u2500\u2500\u2500\u2500\u2500\u2500\u2500\u2500\u2500\u2500\u2500\u2500\u2500\u2500\u2500\u2500\u2500\u2500\u2500\u2500\u2500\u2500\u2500\u2500\u2500\u2500\u2500\u2500\u2500\u2500\u2500\u2500\u2510\n",
              "\u2502       \u250c\u2192\u2500\u2500\u2500\u2510    \u250c\u2192\u2500\u2500\u2500\u2500\u2500\u2500\u2500\u2510    \u250c\u2192\u2500\u2500\u2510    \u2502\n",
              "\u2502 87 24 \u2502John\u2502 51 \u250278 45 23\u2502 85 \u21938 6\u2502 69 \u2502\n",
              "\u2502       \u2514\u2500\u2500\u2500\u2500\u2518    \u2514~\u2500\u2500\u2500\u2500\u2500\u2500\u2500\u2518    \u25022 4\u2502    \u2502\n",
              "\u2502                               \u2514~\u2500\u2500\u2518    \u2502\n",
              "\u2514\u220a\u2500\u2500\u2500\u2500\u2500\u2500\u2500\u2500\u2500\u2500\u2500\u2500\u2500\u2500\u2500\u2500\u2500\u2500\u2500\u2500\u2500\u2500\u2500\u2500\u2500\u2500\u2500\u2500\u2500\u2500\u2500\u2500\u2500\u2500\u2500\u2500\u2500\u2500\u2500\u2518\n",
              "</span>"
            ]
          },
          "execution_count": 5,
          "metadata": {},
          "output_type": "execute_result"
        }
      ],
      "source": [
        "nesVec \u2190 87 24 'John' 51 (78 45 23) 85 one 69\n",
        "]display nesVec"
      ]
    },
    {
      "cell_type": "code",
      "execution_count": 6,
      "id": "maritime-minister",
      "metadata": {},
      "outputs": [
        {
          "data": {
            "text/html": [
              "<span style=\"white-space:pre; font-family: monospace\">\u250c\u2192\u2500\u2500\u2500\u2500\u2500\u2500\u2500\u2500\u2500\u2500\u2500\u2500\u2500\u2500\u2500\u2500\u2500\u2500\u2500\u2500\u2500\u2500\u2500\u2510\n",
              "\u2193 \u250c\u2192\u2500\u2500\u2500\u2500\u2500\u2510       \u250c\u2192\u2500\u2500\u2500\u2500\u2510 \u2502\n",
              "\u2502 \u2502Dyalog\u2502 44    \u2502Hello\u2502 \u2502\n",
              "\u2502 \u2514\u2500\u2500\u2500\u2500\u2500\u2500\u2518       \u2514\u2500\u2500\u2500\u2500\u2500\u2518 \u2502\n",
              "\u2502          \u250c\u2192\u2500\u2500\u2510 \u250c\u2192\u2500\u2500\u2500\u2500\u2510 \u2502\n",
              "\u2502 27       \u21938 6\u2502 \u21931 2 0\u2502 \u2502\n",
              "\u2502          \u25022 4\u2502 \u25020 0 5\u2502 \u2502\n",
              "\u2502          \u2514~\u2500\u2500\u2518 \u2514~\u2500\u2500\u2500\u2500\u2518 \u2502\n",
              "\u2514\u220a\u2500\u2500\u2500\u2500\u2500\u2500\u2500\u2500\u2500\u2500\u2500\u2500\u2500\u2500\u2500\u2500\u2500\u2500\u2500\u2500\u2500\u2500\u2500\u2518\n",
              "</span>"
            ]
          },
          "execution_count": 6,
          "metadata": {},
          "output_type": "execute_result"
        }
      ],
      "source": [
        "nesMat \u2190 2 3\u2374'Dyalog' 44 two 27 one (2 3\u23741 2 0 0 0 5)\n",
        "]display nesMat"
      ]
    },
    {
      "cell_type": "markdown",
      "id": "victorian-oasis",
      "metadata": {},
      "source": [
        "Later, we will provide a more formal description of this notation."
      ]
    },
    {
      "cell_type": "markdown",
      "id": "electoral-tradition",
      "metadata": {},
      "source": [
        "(Nested-Arrays-Continued-Enclose--Disclose)=\n",
        "### Enclose & Disclose\n",
        "\n",
        "It seems so easy to create and work with nested arrays;\n",
        "couldn't we turn a _simple_ array into a nested array by, for example, replacing one item of a simple matrix with a vector?\n",
        "\n",
        "For example, we create a _simple_ matrix:"
      ]
    },
    {
      "cell_type": "code",
      "execution_count": 7,
      "id": "transsexual-receptor",
      "metadata": {},
      "outputs": [
        {
          "data": {
            "text/html": [
              "<span style=\"white-space:pre; font-family: monospace\">87 63 52\n",
              "74 11 62\n",
              "</span>"
            ]
          },
          "execution_count": 7,
          "metadata": {},
          "output_type": "execute_result"
        }
      ],
      "source": [
        "\u2395\u2190 mat \u2190 2 3\u237487 63 52 74 11 62"
      ]
    },
    {
      "cell_type": "markdown",
      "id": "traditional-accounting",
      "metadata": {},
      "source": [
        "Then, we try to change it into a nested array:"
      ]
    },
    {
      "cell_type": "code",
      "execution_count": 8,
      "id": "radio-clinic",
      "metadata": {},
      "outputs": [
        {
          "name": "stderr",
          "output_type": "stream",
          "text": [
            "LENGTH ERROR\n",
            "      mat[1;2]\u219010 20 30\n",
            "              \u2227\n"
          ]
        }
      ],
      "source": [
        "mat[1;2] \u2190 10 20 30"
      ]
    },
    {
      "cell_type": "markdown",
      "id": "prompt-premiere",
      "metadata": {},
      "source": [
        "It doesn't work!\n",
        "\n",
        "We cannot replace **one** item with an array of **three** items.\n",
        "\n",
        "`mat[1;2]` is a scalar.\n",
        "We can only replace it with a scalar."
      ]
    },
    {
      "cell_type": "markdown",
      "id": "twenty-electricity",
      "metadata": {},
      "source": [
        "(Nested-Arrays-Continued-Enclose)=\n",
        "#### Enclose\n",
        "\n",
        "Let us now use a little trick to make the assignment above work.\n",
        "We just have to zip up the three values into a single \"bag\", using a function called *enclose*, represented by the symbol `\u2282`, typed with <kbd>APL</kbd>+<kbd>z</kbd>.\n",
        "\n",
        "Then we will be able to replace one item by one bag!"
      ]
    },
    {
      "cell_type": "code",
      "execution_count": 9,
      "id": "recorded-willow",
      "metadata": {},
      "outputs": [
        {
          "data": {
            "text/html": [
              "<span style=\"white-space:pre; font-family: monospace\">\u250c\u2500\u2500\u252c\u2500\u2500\u2500\u2500\u2500\u2500\u2500\u2500\u252c\u2500\u2500\u2510\n",
              "\u250287\u250210 20 30\u250252\u2502\n",
              "\u251c\u2500\u2500\u253c\u2500\u2500\u2500\u2500\u2500\u2500\u2500\u2500\u253c\u2500\u2500\u2524\n",
              "\u250274\u250211      \u250262\u2502\n",
              "\u2514\u2500\u2500\u2534\u2500\u2500\u2500\u2500\u2500\u2500\u2500\u2500\u2534\u2500\u2500\u2518\n",
              "</span>"
            ]
          },
          "execution_count": 9,
          "metadata": {},
          "output_type": "execute_result"
        }
      ],
      "source": [
        "mat[1;2] \u2190 \u228210 20 30\n",
        "mat"
      ]
    },
    {
      "cell_type": "markdown",
      "id": "imperial-compromise",
      "metadata": {},
      "source": [
        "Now it works!\n",
        "\n",
        "We can, of course, do the same with character data, but we now know that an expression like"
      ]
    },
    {
      "cell_type": "code",
      "execution_count": 10,
      "id": "exterior-salem",
      "metadata": {},
      "outputs": [
        {
          "name": "stderr",
          "output_type": "stream",
          "text": [
            "LENGTH ERROR\n",
            "      mat[2;3]\u21902 4\u2374'JohnPete'\n",
            "              \u2227\n"
          ]
        }
      ],
      "source": [
        "mat[2;3] \u2190 2 4\u2374'JohnPete'"
      ]
    },
    {
      "cell_type": "markdown",
      "id": "lyric-destiny",
      "metadata": {},
      "source": [
        "is incorrect.\n",
        "We must enclose the array like this:"
      ]
    },
    {
      "cell_type": "code",
      "execution_count": 11,
      "id": "distant-combat",
      "metadata": {},
      "outputs": [],
      "source": [
        "mat[2;3] \u2190 \u22822 4\u2374'JohnPete'"
      ]
    },
    {
      "cell_type": "markdown",
      "id": "important-bible",
      "metadata": {},
      "source": [
        "The result is what we expected:"
      ]
    },
    {
      "cell_type": "code",
      "execution_count": 12,
      "id": "generic-gossip",
      "metadata": {},
      "outputs": [
        {
          "data": {
            "text/html": [
              "<span style=\"white-space:pre; font-family: monospace\">\u250c\u2192\u2500\u2500\u2500\u2500\u2500\u2500\u2500\u2500\u2500\u2500\u2500\u2500\u2500\u2500\u2500\u2500\u2500\u2500\u2500\u2500\u2500\u2510\n",
              "\u2193    \u250c\u2192\u2500\u2500\u2500\u2500\u2500\u2500\u2500\u2510        \u2502\n",
              "\u2502 87 \u250210 20 30\u2502 52     \u2502\n",
              "\u2502    \u2514~\u2500\u2500\u2500\u2500\u2500\u2500\u2500\u2518        \u2502\n",
              "\u2502               \u250c\u2192\u2500\u2500\u2500\u2510 \u2502\n",
              "\u2502 74 11         \u2193John\u2502 \u2502\n",
              "\u2502               \u2502Pete\u2502 \u2502\n",
              "\u2502               \u2514\u2500\u2500\u2500\u2500\u2518 \u2502\n",
              "\u2514\u220a\u2500\u2500\u2500\u2500\u2500\u2500\u2500\u2500\u2500\u2500\u2500\u2500\u2500\u2500\u2500\u2500\u2500\u2500\u2500\u2500\u2500\u2518\n",
              "</span>"
            ]
          },
          "execution_count": 12,
          "metadata": {},
          "output_type": "execute_result"
        }
      ],
      "source": [
        "]display mat"
      ]
    },
    {
      "cell_type": "markdown",
      "id": "nearby-illness",
      "metadata": {},
      "source": [
        "The result of *enclose* is always a scalar: cf. {numref}`Nested-Arrays-Continued-Simple-and-Other-Scalars`."
      ]
    },
    {
      "cell_type": "markdown",
      "id": "cellular-centre",
      "metadata": {},
      "source": [
        "(Nested-Arrays-Continued-Disclose)=\n",
        "#### Disclose\n",
        "\n",
        "If we look at the contents of `mat[2;3]`, we see a little 2 by 4 matrix, but if we look at its shape, we see that surprisingly it has no shape.\n",
        "Its rank is zero, so it must be a scalar!"
      ]
    },
    {
      "cell_type": "code",
      "execution_count": 13,
      "id": "strong-mirror",
      "metadata": {},
      "outputs": [
        {
          "data": {
            "text/html": [
              "<span style=\"white-space:pre; font-family: monospace\">\u250c\u2500\u2500\u2500\u2500\u2510\n",
              "\u2502John\u2502\n",
              "\u2502Pete\u2502\n",
              "\u2514\u2500\u2500\u2500\u2500\u2518\n",
              "</span>"
            ]
          },
          "execution_count": 13,
          "metadata": {},
          "output_type": "execute_result"
        }
      ],
      "source": [
        "mat[2;3]"
      ]
    },
    {
      "cell_type": "code",
      "execution_count": 14,
      "id": "geological-spider",
      "metadata": {},
      "outputs": [
        {
          "data": {
            "text/html": [
              "<span style=\"white-space:pre; font-family: monospace\">\n",
              "</span>"
            ]
          },
          "execution_count": 14,
          "metadata": {},
          "output_type": "execute_result"
        }
      ],
      "source": [
        "\u2374mat[2;3]"
      ]
    },
    {
      "cell_type": "markdown",
      "id": "pleased-stevens",
      "metadata": {},
      "source": [
        "As we can see, its shape is empty.\n",
        "And its rank is zero:"
      ]
    },
    {
      "cell_type": "code",
      "execution_count": 15,
      "id": "artificial-fetish",
      "metadata": {},
      "outputs": [
        {
          "data": {
            "text/html": [
              "<span style=\"white-space:pre; font-family: monospace\">0\n",
              "</span>"
            ]
          },
          "execution_count": 15,
          "metadata": {},
          "output_type": "execute_result"
        }
      ],
      "source": [
        "\u2374\u2374mat[2;3]"
      ]
    },
    {
      "cell_type": "markdown",
      "id": "alive-coating",
      "metadata": {},
      "source": [
        "The explanation is obvious:\n",
        "we have put this little matrix into a bag (a scalar), so we now see the bag, and not its contents.\n",
        "If we want to see its contents, we must extract them from the bag, using a function called *disclose*, which is represented by the symbol `\u2283` and typed with <kbd>APL</kbd>+<kbd>x</kbd>.\n",
        "\n",
        "With it, we now have access to the matrix:"
      ]
    },
    {
      "cell_type": "code",
      "execution_count": 16,
      "id": "broadband-purple",
      "metadata": {},
      "outputs": [
        {
          "data": {
            "text/html": [
              "<span style=\"white-space:pre; font-family: monospace\">2 4\n",
              "</span>"
            ]
          },
          "execution_count": 16,
          "metadata": {},
          "output_type": "execute_result"
        }
      ],
      "source": [
        "\u2374\u2283mat[2;3]"
      ]
    },
    {
      "cell_type": "markdown",
      "id": "proprietary-expansion",
      "metadata": {},
      "source": [
        "And its rank is two, as expected:"
      ]
    },
    {
      "cell_type": "code",
      "execution_count": 17,
      "id": "egyptian-program",
      "metadata": {},
      "outputs": [
        {
          "data": {
            "text/html": [
              "<span style=\"white-space:pre; font-family: monospace\">2\n",
              "</span>"
            ]
          },
          "execution_count": 17,
          "metadata": {},
          "output_type": "execute_result"
        }
      ],
      "source": [
        "\u2374\u2374\u2283mat[2;3]"
      ]
    },
    {
      "cell_type": "markdown",
      "id": "distributed-trainer",
      "metadata": {},
      "source": [
        "We experience the same behaviour if we try to extract one item from a nested vector.\n",
        "\n",
        "Let us recall the nested vector `nesVec`:"
      ]
    },
    {
      "cell_type": "code",
      "execution_count": 18,
      "id": "toxic-movement",
      "metadata": {},
      "outputs": [
        {
          "data": {
            "text/html": [
              "<span style=\"white-space:pre; font-family: monospace\">\u250c\u2500\u2500\u252c\u2500\u2500\u252c\u2500\u2500\u2500\u2500\u252c\u2500\u2500\u252c\u2500\u2500\u2500\u2500\u2500\u2500\u2500\u2500\u252c\u2500\u2500\u252c\u2500\u2500\u2500\u252c\u2500\u2500\u2510\n",
              "\u250287\u250224\u2502John\u250251\u250278 45 23\u250285\u25028 6\u250269\u2502\n",
              "\u2502  \u2502  \u2502    \u2502  \u2502        \u2502  \u25022 4\u2502  \u2502\n",
              "\u2514\u2500\u2500\u2534\u2500\u2500\u2534\u2500\u2500\u2500\u2500\u2534\u2500\u2500\u2534\u2500\u2500\u2500\u2500\u2500\u2500\u2500\u2500\u2534\u2500\u2500\u2534\u2500\u2500\u2500\u2534\u2500\u2500\u2518\n",
              "</span>"
            ]
          },
          "execution_count": 18,
          "metadata": {},
          "output_type": "execute_result"
        }
      ],
      "source": [
        "nesVec"
      ]
    },
    {
      "cell_type": "markdown",
      "id": "dress-panic",
      "metadata": {},
      "source": [
        "We can use similar expressions to the ones we used on `mat`:"
      ]
    },
    {
      "cell_type": "code",
      "execution_count": 19,
      "id": "analyzed-testament",
      "metadata": {},
      "outputs": [
        {
          "data": {
            "text/html": [
              "<span style=\"white-space:pre; font-family: monospace\">\n",
              "</span>"
            ]
          },
          "execution_count": 19,
          "metadata": {},
          "output_type": "execute_result"
        }
      ],
      "source": [
        "\u2374nesVec[5]"
      ]
    },
    {
      "cell_type": "markdown",
      "id": "assumed-assessment",
      "metadata": {},
      "source": [
        "The above looks like a scalar; it is a scalar, containing an enclosed vector.\n",
        "\n",
        "Once we disclose it, we gain access to its contents (three elements, in this case):"
      ]
    },
    {
      "cell_type": "code",
      "execution_count": 20,
      "id": "mighty-privacy",
      "metadata": {},
      "outputs": [
        {
          "data": {
            "text/html": [
              "<span style=\"white-space:pre; font-family: monospace\">3\n",
              "</span>"
            ]
          },
          "execution_count": 20,
          "metadata": {},
          "output_type": "execute_result"
        }
      ],
      "source": [
        "\u2374\u2283nesVec[5]"
      ]
    },
    {
      "cell_type": "markdown",
      "id": "wicked-instrument",
      "metadata": {},
      "source": [
        "In fact, this should not have come as a complete surprise to us.\n",
        "Earlier, we learned that the shape of the result of an indexing operation is identical to the shape of the indices.\n",
        "In this case (as well as in the matrix case above), the index specifies a scalar.\n",
        "Hence, it would be incorrect to expect anything other than a scalar as the result of the indexing operation!"
      ]
    },
    {
      "cell_type": "markdown",
      "id": "rational-birth",
      "metadata": {},
      "source": [
        "(Nested-Arrays-Continued-Mnemonics)=\n",
        "#### Mnemonics\n",
        "\n",
        "It is easy to remember how to generate the two symbols for *enclose* and *disclose* on a US or UK keyboard:\n",
        "\n",
        " - *Disclose* `\u2283` is generated by <kbd>APL</kbd>+<kbd>X</kbd>, as in e**X**tract; and\n",
        " - *Enclose* `\u2282` is generated by <kbd>APL</kbd>+<kbd>Z</kbd>, as in **Z**ip-up.\n",
        "\n",
        "For reference, the actual symbols are called *left shoe* and *right shoe*, respectively for `\u2282` and `\u2283`; \"enclose\" and \"disclose\" are the names of the functions."
      ]
    },
    {
      "cell_type": "markdown",
      "id": "beginning-practice",
      "metadata": {},
      "source": [
        "(Nested-Arrays-Continued-Simple-and-Other-Scalars)=\n",
        "#### Simple and Other Scalars\n",
        "\n",
        "We know that the result of *enclose* is **always** a scalar, but there is a difference between enclosing a scalar number or character, and enclosing any other array.\n",
        "\n",
        "When appropriate, we shall use four different terms:\n",
        "\n",
        " - *simple scalar* refers to a single number or letter (rank zero);\n",
        " - *enclosed array* refers to a scalar that is the result of enclosing anything other than a simple scalar;\n",
        " - *item* refers to a scalar that is a constituent of an array, whether it is a simple scalar or an enclosed array; and\n",
        " - *nested array* is an array in which at least one of the items is an enclosed array.\n",
        "\n",
        "Always remember these important points:\n",
        "\n",
        " - *enclose* does nothing to a simple scalar - it returns the scalar unchanged. The same for *disclose*;\n",
        " - all items of an array are effectively scalars, whether they are simple scalars or enclosed arrays: their rank is 0, and their shape is empty;\n",
        " - a single item can be replaced only by another single item: a simple scalar, or an array of values zipped up using *enclose* (to form an enclosed array); and\n",
        " - *strand notation* avoids the use of *enclose*, because of the conventions used to separate individual items from one another.\n",
        "\n",
        "Let us create four vectors:"
      ]
    },
    {
      "cell_type": "code",
      "execution_count": 21,
      "id": "amino-debate",
      "metadata": {},
      "outputs": [],
      "source": [
        "a \u2190 'coffee'\n",
        "b \u2190 'tea'\n",
        "c \u2190 'chocolate'"
      ]
    },
    {
      "cell_type": "code",
      "execution_count": 22,
      "id": "latter-sacrifice",
      "metadata": {},
      "outputs": [],
      "source": [
        "v \u2190 a b c"
      ]
    },
    {
      "cell_type": "markdown",
      "id": "piano-lewis",
      "metadata": {},
      "source": [
        "The last statement is just a simpler way to write:"
      ]
    },
    {
      "cell_type": "code",
      "execution_count": 23,
      "id": "excellent-surgery",
      "metadata": {},
      "outputs": [],
      "source": [
        "v \u2190 (\u2282a),(\u2282b),\u2282c"
      ]
    },
    {
      "cell_type": "markdown",
      "id": "former-groove",
      "metadata": {},
      "source": [
        "So, we can see that each of the items of `v` is an enclosed character vector.\n",
        "Thus,"
      ]
    },
    {
      "cell_type": "code",
      "execution_count": 24,
      "id": "related-helping",
      "metadata": {},
      "outputs": [
        {
          "data": {
            "text/html": [
              "<span style=\"white-space:pre; font-family: monospace\">\n",
              "</span>"
            ]
          },
          "execution_count": 24,
          "metadata": {},
          "output_type": "execute_result"
        }
      ],
      "source": [
        "\u2374v[1]"
      ]
    },
    {
      "cell_type": "markdown",
      "id": "specific-logistics",
      "metadata": {},
      "source": [
        "is `\u236c`, not `6`.\n",
        "\n",
        "Here is another example:"
      ]
    },
    {
      "cell_type": "code",
      "execution_count": 25,
      "id": "related-spread",
      "metadata": {},
      "outputs": [
        {
          "data": {
            "text/html": [
              "<span style=\"white-space:pre; font-family: monospace\">\u250c\u2192\u2500\u2500\u2500\u2500\u2500\u2500\u2500\u2500\u2500\u2500\u2500\u2500\u2500\u2500\u2500\u2500\u2500\u2500\u2500\u2500\u2500\u2500\u2500\u2500\u2500\u2500\u2500\u2500\u2500\u2500\u2500\u2500\u2500\u2500\u2500\u2500\u2500\u2500\u2500\u2500\u2510\n",
              "\u2502 \u250c\u2192\u2500\u2500\u2510    \u250c\u2192\u2500\u2500\u2500\u2510        \u250c\u2192\u2500\u2500\u2500\u2500\u2510 \u250c\u2192\u2500\u2500\u2510    \u2502\n",
              "\u2502 \u2502Yes\u2502 24 \u2502John\u2502 51 987 \u2502Hello\u2502 \u21938 6\u2502 69 \u2502\n",
              "\u2502 \u2514\u2500\u2500\u2500\u2518    \u2514\u2500\u2500\u2500\u2500\u2518        \u2514\u2500\u2500\u2500\u2500\u2500\u2518 \u25022 4\u2502    \u2502\n",
              "\u2502                                \u2514~\u2500\u2500\u2518    \u2502\n",
              "\u2514\u220a\u2500\u2500\u2500\u2500\u2500\u2500\u2500\u2500\u2500\u2500\u2500\u2500\u2500\u2500\u2500\u2500\u2500\u2500\u2500\u2500\u2500\u2500\u2500\u2500\u2500\u2500\u2500\u2500\u2500\u2500\u2500\u2500\u2500\u2500\u2500\u2500\u2500\u2500\u2500\u2500\u2518\n",
              "</span>"
            ]
          },
          "execution_count": 25,
          "metadata": {},
          "output_type": "execute_result"
        }
      ],
      "source": [
        "nesVec[1 5 6] \u2190 'Yes' 987 'Hello'\n",
        "]display nesVec"
      ]
    },
    {
      "cell_type": "markdown",
      "id": "metropolitan-cathedral",
      "metadata": {},
      "source": [
        "If we use any additional *enclose* primitives, the results are very different.\n",
        "And the results also vary depending on where the *enclose* primitives are used.\n",
        "\n",
        "Here are two examples:"
      ]
    },
    {
      "cell_type": "code",
      "execution_count": 26,
      "id": "floating-lecture",
      "metadata": {},
      "outputs": [
        {
          "data": {
            "text/html": [
              "<span style=\"white-space:pre; font-family: monospace\">\u250c\u2192\u2500\u2500\u2500\u2500\u2500\u2500\u2500\u2500\u2500\u2500\u2500\u2500\u2500\u2500\u2500\u2500\u2500\u2500\u2500\u2500\u2500\u2500\u2500\u2500\u2500\u2500\u2500\u2500\u2500\u2500\u2500\u2500\u2500\u2500\u2500\u2500\u2500\u2500\u2500\u2500\u2500\u2500\u2500\u2500\u2510\n",
              "\u2502 \u250c\u2192\u2500\u2500\u2510    \u250c\u2192\u2500\u2500\u2500\u2510        \u250c\u2500\u2500\u2500\u2500\u2500\u2500\u2500\u2500\u2500\u2510 \u250c\u2192\u2500\u2500\u2510    \u2502\n",
              "\u2502 \u2502Yes\u2502 24 \u2502John\u2502 51 987 \u2502 \u250c\u2192\u2500\u2500\u2500\u2500\u2510 \u2502 \u21938 6\u2502 69 \u2502\n",
              "\u2502 \u2514\u2500\u2500\u2500\u2518    \u2514\u2500\u2500\u2500\u2500\u2518        \u2502 \u2502Hello\u2502 \u2502 \u25022 4\u2502    \u2502\n",
              "\u2502                        \u2502 \u2514\u2500\u2500\u2500\u2500\u2500\u2518 \u2502 \u2514~\u2500\u2500\u2518    \u2502\n",
              "\u2502                        \u2514\u220a\u2500\u2500\u2500\u2500\u2500\u2500\u2500\u2500\u2518          \u2502\n",
              "\u2514\u220a\u2500\u2500\u2500\u2500\u2500\u2500\u2500\u2500\u2500\u2500\u2500\u2500\u2500\u2500\u2500\u2500\u2500\u2500\u2500\u2500\u2500\u2500\u2500\u2500\u2500\u2500\u2500\u2500\u2500\u2500\u2500\u2500\u2500\u2500\u2500\u2500\u2500\u2500\u2500\u2500\u2500\u2500\u2500\u2500\u2518\n",
              "</span>"
            ]
          },
          "execution_count": 26,
          "metadata": {},
          "output_type": "execute_result"
        }
      ],
      "source": [
        "nesVec[1 5 6] \u2190 'Yes' 987 (\u2282'Hello')\n",
        "]display nesVec"
      ]
    },
    {
      "cell_type": "code",
      "execution_count": 27,
      "id": "rational-fleece",
      "metadata": {},
      "outputs": [
        {
          "data": {
            "text/html": [
              "<span style=\"white-space:pre; font-family: monospace\">\u250c\u2192\u2500\u2500\u2500\u2500\u2500\u2500\u2500\u2500\u2500\u2500\u2500\u2500\u2500\u2500\u2500\u2500\u2500\u2500\u2500\u2500\u2500\u2500\u2500\u2500\u2500\u2500\u2500\u2500\u2500\u2500\u2500\u2500\u2500\u2500\u2500\u2500\u2500\u2500\u2500\u2500\u2500\u2500\u2500\u2500\u2500\u2500\u2500\u2500\u2500\u2500\u2500\u2500\u2500\u2500\u2500\u2500\u2500\u2500\u2500\u2500\u2500\u2500\u2500\u2500\u2500\u2500\u2500\u2500\u2500\u2500\u2500\u2500\u2500\u2500\u2500\u2500\u2500\u2500\u2500\u2500\u2500\u2500\u2500\u2500\u2500\u2500\u2500\u2500\u2510\n",
              "\u2502 \u250c\u2192\u2500\u2500\u2500\u2500\u2500\u2500\u2500\u2500\u2500\u2500\u2500\u2500\u2500\u2500\u2500\u2500\u2500\u2500\u2510    \u250c\u2192\u2500\u2500\u2500\u2510    \u250c\u2192\u2500\u2500\u2500\u2500\u2500\u2500\u2500\u2500\u2500\u2500\u2500\u2500\u2500\u2500\u2500\u2500\u2500\u2500\u2510 \u250c\u2192\u2500\u2500\u2500\u2500\u2500\u2500\u2500\u2500\u2500\u2500\u2500\u2500\u2500\u2500\u2500\u2500\u2500\u2500\u2510 \u250c\u2192\u2500\u2500\u2510    \u2502\n",
              "\u2502 \u2502 \u250c\u2192\u2500\u2500\u2510     \u250c\u2192\u2500\u2500\u2500\u2500\u2510 \u2502 24 \u2502John\u2502 51 \u2502 \u250c\u2192\u2500\u2500\u2510     \u250c\u2192\u2500\u2500\u2500\u2500\u2510 \u2502 \u2502 \u250c\u2192\u2500\u2500\u2510     \u250c\u2192\u2500\u2500\u2500\u2500\u2510 \u2502 \u21938 6\u2502 69 \u2502\n",
              "\u2502 \u2502 \u2502Yes\u2502 987 \u2502Hello\u2502 \u2502    \u2514\u2500\u2500\u2500\u2500\u2518    \u2502 \u2502Yes\u2502 987 \u2502Hello\u2502 \u2502 \u2502 \u2502Yes\u2502 987 \u2502Hello\u2502 \u2502 \u25022 4\u2502    \u2502\n",
              "\u2502 \u2502 \u2514\u2500\u2500\u2500\u2518     \u2514\u2500\u2500\u2500\u2500\u2500\u2518 \u2502              \u2502 \u2514\u2500\u2500\u2500\u2518     \u2514\u2500\u2500\u2500\u2500\u2500\u2518 \u2502 \u2502 \u2514\u2500\u2500\u2500\u2518     \u2514\u2500\u2500\u2500\u2500\u2500\u2518 \u2502 \u2514~\u2500\u2500\u2518    \u2502\n",
              "\u2502 \u2514\u220a\u2500\u2500\u2500\u2500\u2500\u2500\u2500\u2500\u2500\u2500\u2500\u2500\u2500\u2500\u2500\u2500\u2500\u2500\u2518              \u2514\u220a\u2500\u2500\u2500\u2500\u2500\u2500\u2500\u2500\u2500\u2500\u2500\u2500\u2500\u2500\u2500\u2500\u2500\u2500\u2518 \u2514\u220a\u2500\u2500\u2500\u2500\u2500\u2500\u2500\u2500\u2500\u2500\u2500\u2500\u2500\u2500\u2500\u2500\u2500\u2500\u2518          \u2502\n",
              "\u2514\u220a\u2500\u2500\u2500\u2500\u2500\u2500\u2500\u2500\u2500\u2500\u2500\u2500\u2500\u2500\u2500\u2500\u2500\u2500\u2500\u2500\u2500\u2500\u2500\u2500\u2500\u2500\u2500\u2500\u2500\u2500\u2500\u2500\u2500\u2500\u2500\u2500\u2500\u2500\u2500\u2500\u2500\u2500\u2500\u2500\u2500\u2500\u2500\u2500\u2500\u2500\u2500\u2500\u2500\u2500\u2500\u2500\u2500\u2500\u2500\u2500\u2500\u2500\u2500\u2500\u2500\u2500\u2500\u2500\u2500\u2500\u2500\u2500\u2500\u2500\u2500\u2500\u2500\u2500\u2500\u2500\u2500\u2500\u2500\u2500\u2500\u2500\u2500\u2500\u2518\n",
              "</span>"
            ]
          },
          "execution_count": 27,
          "metadata": {},
          "output_type": "execute_result"
        }
      ],
      "source": [
        "nesVec[1 5 6] \u2190 \u2282'Yes' 987 'Hello'\n",
        "]display nesVec"
      ]
    },
    {
      "cell_type": "markdown",
      "id": "devoted-waters",
      "metadata": {},
      "source": [
        "<!-- (TODO) Figure out what to do about the \u201cMore About DISPLAY\u201d section. -->"
      ]
    },
    {
      "cell_type": "markdown",
      "id": "stuck-administration",
      "metadata": {},
      "source": [
        "(Nested-Arrays-Continued-Depth)=\n",
        "## Depth\n",
        "\n",
        "(Nested-Arrays-Continued-Enclosing-Scalars)=\n",
        "### Enclosing Scalars\n",
        "\n",
        "Applied to a _simple_ scalar, *enclose* does nothing: the enclose of a _simple_ scalar is the same _simple_ scalar:"
      ]
    },
    {
      "cell_type": "code",
      "execution_count": 28,
      "id": "lesbian-embassy",
      "metadata": {},
      "outputs": [
        {
          "data": {
            "text/html": [
              "<span style=\"white-space:pre; font-family: monospace\">  \n",
              "35\n",
              "  \n",
              "</span>"
            ]
          },
          "execution_count": 28,
          "metadata": {},
          "output_type": "execute_result"
        }
      ],
      "source": [
        "]display 35"
      ]
    },
    {
      "cell_type": "code",
      "execution_count": 29,
      "id": "superb-float",
      "metadata": {},
      "outputs": [
        {
          "data": {
            "text/html": [
              "<span style=\"white-space:pre; font-family: monospace\">  \n",
              "35\n",
              "  \n",
              "</span>"
            ]
          },
          "execution_count": 29,
          "metadata": {},
          "output_type": "execute_result"
        }
      ],
      "source": [
        "]display \u228235"
      ]
    },
    {
      "cell_type": "markdown",
      "id": "circular-baking",
      "metadata": {},
      "source": [
        "However, when applied to any other array, *enclose* puts a \"bag\" around it.\n",
        "\n",
        "First, we start with a _simple_ vector:"
      ]
    },
    {
      "cell_type": "code",
      "execution_count": 27,
      "id": "following-scanning",
      "metadata": {},
      "outputs": [
        {
          "data": {
            "text/html": [
              "<span style=\"white-space:pre; font-family: monospace\">\u250c\u2192\u2500\u2500\u2500\u2500\u2510\n",
              "\u25022 4 8\u2502\n",
              "\u2514~\u2500\u2500\u2500\u2500\u2518\n",
              "</span>"
            ]
          },
          "execution_count": 27,
          "metadata": {},
          "output_type": "execute_result"
        }
      ],
      "source": [
        "]display 2 4 8"
      ]
    },
    {
      "cell_type": "markdown",
      "id": "featured-strategy",
      "metadata": {},
      "source": [
        "If we use *enclose* once, we get a scalar containing a numeric vector:"
      ]
    },
    {
      "cell_type": "code",
      "execution_count": 28,
      "id": "voluntary-honduras",
      "metadata": {},
      "outputs": [
        {
          "data": {
            "text/html": [
              "<span style=\"white-space:pre; font-family: monospace\">\u250c\u2500\u2500\u2500\u2500\u2500\u2500\u2500\u2500\u2500\u2510\n",
              "\u2502 \u250c\u2192\u2500\u2500\u2500\u2500\u2510 \u2502\n",
              "\u2502 \u25022 4 8\u2502 \u2502\n",
              "\u2502 \u2514~\u2500\u2500\u2500\u2500\u2518 \u2502\n",
              "\u2514\u220a\u2500\u2500\u2500\u2500\u2500\u2500\u2500\u2500\u2518\n",
              "</span>"
            ]
          },
          "execution_count": 28,
          "metadata": {},
          "output_type": "execute_result"
        }
      ],
      "source": [
        "]display \u22822 4 8"
      ]
    },
    {
      "cell_type": "markdown",
      "id": "pretty-performer",
      "metadata": {},
      "source": [
        "With one more *enclose*, we get a scalar containing another scalar, itself containing a numeric vector."
      ]
    },
    {
      "cell_type": "markdown",
      "id": "constitutional-premiere",
      "metadata": {},
      "source": [
        "(Nested-Arrays-Continued-The-Depth-of-an-Array)=\n",
        "### The Depth of an Array\n",
        "\n",
        "Suppose that we write a function `Process`, which takes as its argument a vector consisting of: the name of a town, the number of inhabitants, a country code, and the turnover of our company in that town.\n",
        "\n",
        "For example, we could call the function as `Process 'Lyon' 466400 'FR' 894600`.\n",
        "\n",
        "For the purpose of this example, the function will just display the items it receives in its argument.\n",
        "We choose to write it with the following syntax:"
      ]
    },
    {
      "cell_type": "code",
      "execution_count": 29,
      "id": "nominated-couple",
      "metadata": {},
      "outputs": [],
      "source": [
        "]dinput\n",
        "Process \u2190 {\n",
        "    (town pop coun tov) \u2190 \u2375\n",
        "    \u2395\u2190 (15\u2191'Town = '),town\n",
        "    \u2395\u2190 (15\u2191'Population = '),\u2355pop\n",
        "    \u2395\u2190 (15\u2191'Country = '),coun\n",
        "    \u2395\u2190 (15\u2191'Turnover = '),\u2355tov\n",
        "}"
      ]
    },
    {
      "cell_type": "markdown",
      "id": "million-degree",
      "metadata": {},
      "source": [
        "Perhaps this is not the smartest thing we could do, but we did it!\n",
        "\n",
        "Now, let us execute the function and verify that it works properly:"
      ]
    },
    {
      "cell_type": "code",
      "execution_count": 30,
      "id": "adopted-horizontal",
      "metadata": {},
      "outputs": [
        {
          "data": {
            "text/html": [
              "<span style=\"white-space:pre; font-family: monospace\">Town =         York\n",
              "Population =   186800\n",
              "Country =      GB\n",
              "Turnover =     540678\n",
              "</span>"
            ]
          },
          "execution_count": 30,
          "metadata": {},
          "output_type": "execute_result"
        }
      ],
      "source": [
        "Process 'York' 186800 'GB' 540678"
      ]
    },
    {
      "cell_type": "markdown",
      "id": "approved-prairie",
      "metadata": {},
      "source": [
        "This looks promising, but what will happen if the user forgets one of the items that the function expects?\n",
        "Let us test it:"
      ]
    },
    {
      "cell_type": "code",
      "execution_count": 31,
      "id": "answering-austria",
      "metadata": {},
      "outputs": [
        {
          "name": "stderr",
          "output_type": "stream",
          "text": [
            "LENGTH ERROR\n",
            "Process[1] (town pop coun tov)\u2190\u2375\n",
            "                              \u2227\n"
          ]
        }
      ],
      "source": [
        "Process 'York' 186800 'GB'"
      ]
    },
    {
      "cell_type": "markdown",
      "id": "combined-event",
      "metadata": {},
      "source": [
        "As we might expect, an error message is issued: we cannot put 3 values into 4 variables!\n",
        "\n",
        "Let us add a little test to our function to check whether or not the right argument has 4 items.\n",
        "\n",
        "Here is the new version; notice the new line of code:"
      ]
    },
    {
      "cell_type": "code",
      "execution_count": 32,
      "id": "opening-atlanta",
      "metadata": {},
      "outputs": [],
      "source": [
        "]dinput\n",
        "Process \u2190 {\n",
        "    4\u2260\u2262\u2375: 'Hey, weren''t you supposed to provide 4 values?'\n",
        "    (town pop coun tov) \u2190 \u2375\n",
        "    \u2395\u2190 (15\u2191'Town = '),town\n",
        "    \u2395\u2190 (15\u2191'Population = '),\u2355pop\n",
        "    \u2395\u2190 (15\u2191'Country = '),coun\n",
        "    \u2395\u2190 (15\u2191'Turnover = '),\u2355tov\n",
        "}"
      ]
    },
    {
      "cell_type": "markdown",
      "id": "about-flexibility",
      "metadata": {},
      "source": [
        "It seems to work well now:"
      ]
    },
    {
      "cell_type": "code",
      "execution_count": 33,
      "id": "marked-silence",
      "metadata": {},
      "outputs": [
        {
          "data": {
            "text/html": [
              "<span style=\"white-space:pre; font-family: monospace\">Hey, weren't you supposed to provide 4 values?\n",
              "</span>"
            ]
          },
          "execution_count": 33,
          "metadata": {},
          "output_type": "execute_result"
        }
      ],
      "source": [
        "Process 'York' 186800 'GB'"
      ]
    },
    {
      "cell_type": "markdown",
      "id": "silent-auction",
      "metadata": {},
      "source": [
        "But one day the user forgets all but one of the items, and just types the name of the town.\n",
        "If the user is (un)lucky enough to type a town name with four letters, here is what happens:"
      ]
    },
    {
      "cell_type": "code",
      "execution_count": 34,
      "id": "fuzzy-respondent",
      "metadata": {},
      "outputs": [
        {
          "data": {
            "text/html": [
              "<span style=\"white-space:pre; font-family: monospace\">Town =         Y\n",
              "Population =   o\n",
              "Country =      r\n",
              "Turnover =     k\n",
              "</span>"
            ]
          },
          "execution_count": 34,
          "metadata": {},
          "output_type": "execute_result"
        }
      ],
      "source": [
        "Process 'York'"
      ]
    },
    {
      "cell_type": "markdown",
      "id": "virtual-oxford",
      "metadata": {},
      "source": [
        "This trivial example shows that when nested arrays are involved, it is not sufficient to rely on the shape of an array;\n",
        "we need additional information: specifically, is it a simple or a nested array?\n",
        "To help distinguish between simple and nested arrays, APL provides a function named *depth*.\n",
        "It is represented by the monadic use of the symbol `\u2261`.\n",
        "\n",
        "Here is a set of rules that define how to determine the depth of an array:\n",
        "\n",
        " - the depth of a simple scalar is 0;\n",
        " - the depth of any other array of any shape is 1, if all of its items are simple scalars.\n",
        "\n",
        "We call such an array a *simple array*, so we can instead say:\n",
        "\n",
        " - the depth of a non-scalar, simple array is 1;\n",
        " - the depth of any other array is equal to the depth of its deepest item plus 1; and\n",
        " - the depth is positive if the array is uniform (all of its items have the same depth), and negative if it is not.\n",
        "\n",
        "Therefore, our `Process` function can only work when the argument `\u2375` has depth `\u00af2`!\n",
        "Why `\u00af2`?\n",
        "Because the town name and the country name are character _vectors_, but the population and the turnover are numeric scalars, meaning that `\u2375` has heterogeneous depth:"
      ]
    },
    {
      "cell_type": "code",
      "execution_count": 35,
      "id": "biological-accounting",
      "metadata": {},
      "outputs": [],
      "source": [
        "]dinput\n",
        "Process \u2190 {\n",
        "    \u00af2\u2260\u2261\u2375: 'The argument has the wrong depth!'\n",
        "    4\u2260\u2262\u2375: 'Hey, weren''t you supposed to provide 4 values?'\n",
        "    (town pop coun tov) \u2190 \u2375\n",
        "    \u2395\u2190 (15\u2191'Town = '),town\n",
        "    \u2395\u2190 (15\u2191'Population = '),\u2355pop\n",
        "    \u2395\u2190 (15\u2191'Country = '),coun\n",
        "    \u2395\u2190 (15\u2191'Turnover = '),\u2355tov\n",
        "}"
      ]
    },
    {
      "cell_type": "code",
      "execution_count": 36,
      "id": "removed-cartoon",
      "metadata": {},
      "outputs": [
        {
          "data": {
            "text/html": [
              "<span style=\"white-space:pre; font-family: monospace\">Town =         York\n",
              "Population =   186800\n",
              "Country =      GB\n",
              "Turnover =     540678\n",
              "</span>"
            ]
          },
          "execution_count": 36,
          "metadata": {},
          "output_type": "execute_result"
        }
      ],
      "source": [
        "Process 'York' 186800 'GB' 540678"
      ]
    },
    {
      "cell_type": "code",
      "execution_count": 37,
      "id": "united-advertising",
      "metadata": {},
      "outputs": [
        {
          "data": {
            "text/html": [
              "<span style=\"white-space:pre; font-family: monospace\">The argument has the wrong depth!\n",
              "</span>"
            ]
          },
          "execution_count": 37,
          "metadata": {},
          "output_type": "execute_result"
        }
      ],
      "source": [
        "Process 'York'"
      ]
    },
    {
      "cell_type": "markdown",
      "id": "historical-director",
      "metadata": {},
      "source": [
        "Another intuitive definition of *depth* is this: `]display` the array and count the number of boxes you must pass to reach its deepest item.\n",
        "\n",
        "Here are some examples:"
      ]
    },
    {
      "cell_type": "code",
      "execution_count": 38,
      "id": "infinite-advice",
      "metadata": {},
      "outputs": [
        {
          "data": {
            "text/html": [
              "<span style=\"white-space:pre; font-family: monospace\">0\n",
              "</span>"
            ]
          },
          "execution_count": 38,
          "metadata": {},
          "output_type": "execute_result"
        }
      ],
      "source": [
        "\u2261 540678"
      ]
    },
    {
      "cell_type": "markdown",
      "id": "emerging-treasure",
      "metadata": {},
      "source": [
        "As seen above, a scalar has depth 0.\n",
        "\n",
        "The following vector contains only simple scalars. Its depth is 1:"
      ]
    },
    {
      "cell_type": "code",
      "execution_count": 39,
      "id": "former-gabriel",
      "metadata": {},
      "outputs": [
        {
          "data": {
            "text/html": [
              "<span style=\"white-space:pre; font-family: monospace\">1\n",
              "</span>"
            ]
          },
          "execution_count": 39,
          "metadata": {},
          "output_type": "execute_result"
        }
      ],
      "source": [
        "\u2261 15 84 37 11"
      ]
    },
    {
      "cell_type": "markdown",
      "id": "front-steal",
      "metadata": {},
      "source": [
        "The rank of an array doesn't influence directly its depth.\n",
        "If we reshape the vector above into a matrix, its depth is still 1 because it contains only simple scalars:"
      ]
    },
    {
      "cell_type": "code",
      "execution_count": 40,
      "id": "stable-relevance",
      "metadata": {
        "scrolled": true
      },
      "outputs": [
        {
          "data": {
            "text/html": [
              "<span style=\"white-space:pre; font-family: monospace\">1\n",
              "</span>"
            ]
          },
          "execution_count": 40,
          "metadata": {},
          "output_type": "execute_result"
        }
      ],
      "source": [
        "\u2261 2 2\u237415 84 37 11"
      ]
    },
    {
      "cell_type": "markdown",
      "id": "consecutive-mother",
      "metadata": {},
      "source": [
        "Now, let us consider this nested vector:"
      ]
    },
    {
      "cell_type": "code",
      "execution_count": 41,
      "id": "polish-footwear",
      "metadata": {},
      "outputs": [
        {
          "data": {
            "text/html": [
              "<span style=\"white-space:pre; font-family: monospace\">2\n",
              "</span>"
            ]
          },
          "execution_count": 41,
          "metadata": {},
          "output_type": "execute_result"
        }
      ],
      "source": [
        "\u2261 vec1 \u2190 (4 3) 'Yes' (8 7 5 6) (2 4)"
      ]
    },
    {
      "cell_type": "markdown",
      "id": "elementary-westminster",
      "metadata": {},
      "source": [
        "It is composed of four enclosed vectors, each of depth 1 - so `vec1` has depth 2.\n",
        "Now let us change the expression slightly:"
      ]
    },
    {
      "cell_type": "code",
      "execution_count": 42,
      "id": "laden-gothic",
      "metadata": {},
      "outputs": [
        {
          "data": {
            "text/html": [
              "<span style=\"white-space:pre; font-family: monospace\">\u00af2\n",
              "</span>"
            ]
          },
          "execution_count": 42,
          "metadata": {},
          "output_type": "execute_result"
        }
      ],
      "source": [
        "\u2261 vec2 \u2190 (4 3) 'Yes' (8 7 5) 6 (2 4)"
      ]
    },
    {
      "cell_type": "markdown",
      "id": "enabling-feeding",
      "metadata": {},
      "source": [
        "This vector is no longer uniform: it contains four enclosed vectors and one simple scalar, so its depth is negative.\n",
        "The *magnitude* of the depth has not changed, since it reports the highest level of nesting.\n",
        "\n",
        "In this context, the word \"uniform\" only means that the array contains items of the same *depth*.\n",
        "\n",
        " - `vec2` is not uniform: it contains vectors (of depth 1) mixed with a scalar (of depth 0); and\n",
        " - `vec1` is uniform: all its items are vectors (of depth 1), even though they do not have the same shape, the same type, and certainly not the same content."
      ]
    },
    {
      "cell_type": "markdown",
      "id": "ranking-solution",
      "metadata": {},
      "source": [
        "(Nested-Arrays-Continued-The-Depth-of-an-Array-Take-2)=\n",
        "### The Depth of an Array, Take 2\n",
        "\n",
        "We used the example of the function `Process` to motivate the definition of the _depth_ of an array, but perhaps we could have fixed our function in a different way.\n",
        "\n",
        "This was the original definition of `Process`:"
      ]
    },
    {
      "cell_type": "code",
      "execution_count": 43,
      "id": "wound-times",
      "metadata": {},
      "outputs": [],
      "source": [
        "]dinput\n",
        "Process \u2190 {\n",
        "    (town pop coun tov) \u2190 \u2375\n",
        "    \u2395\u2190 (15\u2191'Town = '),town\n",
        "    \u2395\u2190 (15\u2191'Population = '),\u2355pop\n",
        "    \u2395\u2190 (15\u2191'Country = '),coun\n",
        "    \u2395\u2190 (15\u2191'Turnover = '),\u2355tov\n",
        "}"
      ]
    },
    {
      "cell_type": "markdown",
      "id": "noticed-walnut",
      "metadata": {},
      "source": [
        "Instead of checking the length of `\u2375` to see if there are enough items, perhaps we could write a more lenient version of `Process` that uses default values for the population, the country, and the turnover.\n",
        "\n",
        "That way, if the user does not input enough arguments, the function still works, and displays that some information is missing:"
      ]
    },
    {
      "cell_type": "code",
      "execution_count": 44,
      "id": "integral-admission",
      "metadata": {},
      "outputs": [],
      "source": [
        "]dinput\n",
        "Process \u2190 {\n",
        "    defaults \u2190 \u00af1 '?' \u00af1\n",
        "    (town pop coun tov) \u2190 \u2375,(\u00af1+\u2262\u2375)\u2193defaults\n",
        "    \u2395\u2190 (15\u2191'Town = '),town\n",
        "    \u2395\u2190 (15\u2191'Population = '),\u2355pop\n",
        "    \u2395\u2190 (15\u2191'Country = '),coun\n",
        "    \u2395\u2190 (15\u2191'Turnover = '),\u2355tov\n",
        "}"
      ]
    },
    {
      "cell_type": "code",
      "execution_count": 45,
      "id": "second-fifth",
      "metadata": {},
      "outputs": [
        {
          "data": {
            "text/html": [
              "<span style=\"white-space:pre; font-family: monospace\">Town =         York\n",
              "Population =   186800\n",
              "Country =      GB\n",
              "Turnover =     540678\n",
              "</span>"
            ]
          },
          "execution_count": 45,
          "metadata": {},
          "output_type": "execute_result"
        }
      ],
      "source": [
        "Process 'York' 186800 'GB' 540678"
      ]
    },
    {
      "cell_type": "code",
      "execution_count": 46,
      "id": "bright-siemens",
      "metadata": {},
      "outputs": [
        {
          "data": {
            "text/html": [
              "<span style=\"white-space:pre; font-family: monospace\">Town =         York\n",
              "Population =   186800\n",
              "Country =      GB\n",
              "Turnover =     \u00af1\n",
              "</span>"
            ]
          },
          "execution_count": 46,
          "metadata": {},
          "output_type": "execute_result"
        }
      ],
      "source": [
        "Process 'York' 186800 'GB'"
      ]
    },
    {
      "cell_type": "markdown",
      "id": "motivated-asthma",
      "metadata": {},
      "source": [
        "It seems like we have a more robust function, but let us see what happens if we keep removing items from the arguments:"
      ]
    },
    {
      "cell_type": "code",
      "execution_count": 47,
      "id": "formed-savings",
      "metadata": {
        "scrolled": true
      },
      "outputs": [
        {
          "data": {
            "text/html": [
              "<span style=\"white-space:pre; font-family: monospace\">Town =         York\n",
              "Population =   186800\n",
              "Country =      ?\n",
              "Turnover =     \u00af1\n",
              "</span>"
            ]
          },
          "execution_count": 47,
          "metadata": {},
          "output_type": "execute_result"
        }
      ],
      "source": [
        "Process 'York' 186800"
      ]
    },
    {
      "cell_type": "markdown",
      "id": "alternative-norfolk",
      "metadata": {},
      "source": [
        "If we only pass in the town and the population, the function still works.\n",
        "\n",
        "Now, let us try to pass in only the town:"
      ]
    },
    {
      "cell_type": "code",
      "execution_count": 48,
      "id": "solar-combat",
      "metadata": {
        "scrolled": true
      },
      "outputs": [
        {
          "data": {
            "text/html": [
              "<span style=\"white-space:pre; font-family: monospace\">Town =         Y\n",
              "Population =   o\n",
              "Country =      r\n",
              "Turnover =     k\n",
              "</span>"
            ]
          },
          "execution_count": 48,
          "metadata": {},
          "output_type": "execute_result"
        }
      ],
      "source": [
        "Process 'York'"
      ]
    },
    {
      "cell_type": "markdown",
      "id": "occupational-arthritis",
      "metadata": {},
      "source": [
        "Once again, the user runs into trouble because our function `Process` takes a look at the character vector `'York'`, sees it has four items, and thus adds no default values.\n",
        "\n",
        "The issue can be resolved if the user remembers to _enclose_ the town name:"
      ]
    },
    {
      "cell_type": "code",
      "execution_count": 49,
      "id": "occasional-russia",
      "metadata": {},
      "outputs": [
        {
          "data": {
            "text/html": [
              "<span style=\"white-space:pre; font-family: monospace\">Town =         York\n",
              "Population =   \u00af1\n",
              "Country =      ?\n",
              "Turnover =     \u00af1\n",
              "</span>"
            ]
          },
          "execution_count": 49,
          "metadata": {},
          "output_type": "execute_result"
        }
      ],
      "source": [
        "Process \u2282'York'"
      ]
    },
    {
      "cell_type": "markdown",
      "id": "liked-finder",
      "metadata": {},
      "source": [
        "However, as you will come to understand, it is rarely a good idea to rely on the user to pass the arguments in the correct format.\n",
        "\n",
        "Wouldn't it be nice if we, the developers, could take care of that for ourselves?\n",
        "As it turns out, we can."
      ]
    },
    {
      "cell_type": "markdown",
      "id": "external-italian",
      "metadata": {},
      "source": [
        "(Nested-Arrays-Continued-Nest)=\n",
        "## Nest\n",
        "\n",
        "The function _nest_ is a monadic function represented by the _left shoe underbar_ character, `\u2286`, which you can type with <kbd>APL</kbd> + <kbd>Shift</kbd> + <kbd>Z</kbd>.\n",
        "(Remembering how to type `\u2286` should not be too hard, because it lives in the same key as `\u2282`.)\n",
        "\n",
        "The function _nest_ is sometimes called _enclose if simple_, because that is exactly what it does:\n",
        "you give it an array, and `\u2286` will enclose it if and only if the argument array is simple.\n",
        "\n",
        "In an intuitive sense, but using less rigorous words, `\u2286` will put a box around arrays that don't have any boxes yet.\n",
        "\n",
        "Let us take a look at a couple of examples.\n",
        "Here is a _nested_ array:"
      ]
    },
    {
      "cell_type": "code",
      "execution_count": 50,
      "id": "sweet-vacation",
      "metadata": {},
      "outputs": [
        {
          "data": {
            "text/html": [
              "<span style=\"white-space:pre; font-family: monospace\">\u250c\u2500\u2500\u2500\u2500\u252c\u2500\u2500\u2500\u2500\u2500\u2500\u252c\u2500\u2500\u252c\u2500\u2500\u2500\u2500\u2500\u2500\u2510\n",
              "\u2502York\u2502186800\u2502GB\u2502540678\u2502\n",
              "\u2514\u2500\u2500\u2500\u2500\u2534\u2500\u2500\u2500\u2500\u2500\u2500\u2534\u2500\u2500\u2534\u2500\u2500\u2500\u2500\u2500\u2500\u2518\n",
              "</span>"
            ]
          },
          "execution_count": 50,
          "metadata": {},
          "output_type": "execute_result"
        }
      ],
      "source": [
        "'York' 186800 'GB' 540678"
      ]
    },
    {
      "cell_type": "markdown",
      "id": "northern-bulletin",
      "metadata": {},
      "source": [
        "Because the array above is _nested_, it is not _simple_.\n",
        "Therefore, `\u2286` applied to that array will do nothing:"
      ]
    },
    {
      "cell_type": "code",
      "execution_count": 51,
      "id": "annoying-newfoundland",
      "metadata": {},
      "outputs": [
        {
          "data": {
            "text/html": [
              "<span style=\"white-space:pre; font-family: monospace\">\u250c\u2500\u2500\u2500\u2500\u252c\u2500\u2500\u2500\u2500\u2500\u2500\u252c\u2500\u2500\u252c\u2500\u2500\u2500\u2500\u2500\u2500\u2510\n",
              "\u2502York\u2502186800\u2502GB\u2502540678\u2502\n",
              "\u2514\u2500\u2500\u2500\u2500\u2534\u2500\u2500\u2500\u2500\u2500\u2500\u2534\u2500\u2500\u2534\u2500\u2500\u2500\u2500\u2500\u2500\u2518\n",
              "</span>"
            ]
          },
          "execution_count": 51,
          "metadata": {},
          "output_type": "execute_result"
        }
      ],
      "source": [
        "\u2286'York' 186800 'GB' 540678"
      ]
    },
    {
      "cell_type": "markdown",
      "id": "chubby-bidder",
      "metadata": {},
      "source": [
        "On the other hand, we can compare the _simple_ character vector"
      ]
    },
    {
      "cell_type": "code",
      "execution_count": 30,
      "id": "acoustic-church",
      "metadata": {},
      "outputs": [
        {
          "data": {
            "text/html": [
              "<span style=\"white-space:pre; font-family: monospace\">York\n",
              "</span>"
            ]
          },
          "execution_count": 30,
          "metadata": {},
          "output_type": "execute_result"
        }
      ],
      "source": [
        "'York'"
      ]
    },
    {
      "cell_type": "markdown",
      "id": "interracial-trust",
      "metadata": {},
      "source": [
        "with what we get if we _nest_ it:"
      ]
    },
    {
      "cell_type": "code",
      "execution_count": 31,
      "id": "enhanced-scholar",
      "metadata": {},
      "outputs": [
        {
          "data": {
            "text/html": [
              "<span style=\"white-space:pre; font-family: monospace\">\u250c\u2500\u2500\u2500\u2500\u2510\n",
              "\u2502York\u2502\n",
              "\u2514\u2500\u2500\u2500\u2500\u2518\n",
              "</span>"
            ]
          },
          "execution_count": 31,
          "metadata": {},
          "output_type": "execute_result"
        }
      ],
      "source": [
        "\u2286'York'"
      ]
    },
    {
      "cell_type": "markdown",
      "id": "monthly-democrat",
      "metadata": {},
      "source": [
        "Because `'York'` was not _nested_, `\u2286` did it for us."
      ]
    },
    {
      "cell_type": "markdown",
      "id": "equipped-liabilities",
      "metadata": {},
      "source": [
        "(Nested-Arrays-Continued-Argument-Homogenisation)=\n",
        "### Argument Homogenisation\n",
        "\n",
        "In the context of the function `Process` from before, the function _nest_ becomes quite useful.\n",
        "With it, we can handle the case when the user forgets to _enclose_ the town name when no other information is given:"
      ]
    },
    {
      "cell_type": "code",
      "execution_count": 32,
      "id": "south-shade",
      "metadata": {},
      "outputs": [],
      "source": [
        "]dinput\n",
        "Process \u2190 {\n",
        "    defaults \u2190 \u00af1 '?' \u00af1\n",
        "    (town pop coun tov) \u2190 (\u2286\u2375),(\u00af1+\u2262\u2286\u2375)\u2193defaults\n",
        "    \u2395\u2190 (15\u2191'Town = '),town\n",
        "    \u2395\u2190 (15\u2191'Population = '),\u2355pop\n",
        "    \u2395\u2190 (15\u2191'Country = '),coun\n",
        "    \u2395\u2190 (15\u2191'Turnover = '),\u2355tov\n",
        "}"
      ]
    },
    {
      "cell_type": "code",
      "execution_count": 33,
      "id": "spiritual-arizona",
      "metadata": {},
      "outputs": [
        {
          "data": {
            "text/html": [
              "<span style=\"white-space:pre; font-family: monospace\">Town =         York\n",
              "Population =   \u00af1\n",
              "Country =      ?\n",
              "Turnover =     \u00af1\n",
              "</span>"
            ]
          },
          "execution_count": 33,
          "metadata": {},
          "output_type": "execute_result"
        }
      ],
      "source": [
        "Process 'York'"
      ]
    },
    {
      "cell_type": "markdown",
      "id": "israeli-content",
      "metadata": {},
      "source": [
        "In the {numref}`Nested-Arrays-Continued-Exercises` you will be asked to use _nest_ for the purpose of argument homogenisation again."
      ]
    },
    {
      "cell_type": "markdown",
      "id": "adjacent-quarter",
      "metadata": {},
      "source": [
        "(Nested-Arrays-Continued-Nesting-a-Scalar)=\n",
        "### Nesting a Scalar\n",
        "\n",
        "A word of caution is in order, pertaining to what happens if we _nest_ a simple scalar.\n",
        "The function _nest_ is supposed to enclose its argument array when it is a simple array.\n",
        "So, let us try to _nest_ the scalar 42:"
      ]
    },
    {
      "cell_type": "code",
      "execution_count": 56,
      "id": "civilian-agenda",
      "metadata": {},
      "outputs": [
        {
          "data": {
            "text/html": [
              "<span style=\"white-space:pre; font-family: monospace\">42\n",
              "</span>"
            ]
          },
          "execution_count": 56,
          "metadata": {},
          "output_type": "execute_result"
        }
      ],
      "source": [
        "\u228642"
      ]
    },
    {
      "cell_type": "markdown",
      "id": "answering-framing",
      "metadata": {},
      "source": [
        "At a first glance, it looks like the function **failed**!\n",
        "After all, there is no box around the 42...\n",
        "But the function did not fail.\n",
        "The \"issue\" here is that simple scalars match their own enclosures.\n",
        "So, when `\u2286` tried enclosing 42, nothing happened.\n",
        "\n",
        "Bear this in mind when using _nest_, but do not worry about this giving you unpleasant surprises.\n",
        "For example, pretend there is a town called `'A'` and let us call `Process` with that town name:"
      ]
    },
    {
      "cell_type": "code",
      "execution_count": 57,
      "id": "modern-fusion",
      "metadata": {},
      "outputs": [
        {
          "data": {
            "text/html": [
              "<span style=\"white-space:pre; font-family: monospace\">Town =         A\n",
              "Population =   \u00af1\n",
              "Country =      ?\n",
              "Turnover =     \u00af1\n",
              "</span>"
            ]
          },
          "execution_count": 57,
          "metadata": {},
          "output_type": "execute_result"
        }
      ],
      "source": [
        "Process 'A'"
      ]
    },
    {
      "cell_type": "markdown",
      "id": "trying-psychology",
      "metadata": {},
      "source": [
        "See?\n",
        "`\u2286'A'` gives `'A'`, but that didn't prevent the function from correctly handling the default values for the missing pieces of information."
      ]
    },
    {
      "cell_type": "markdown",
      "id": "exact-sussex",
      "metadata": {},
      "source": [
        "(Nested-Arrays-Continued-Each)=\n",
        "## Each\n",
        "\n",
        "(Nested-Arrays-Continued-Definition-and-Examples)=\n",
        "### Definition and Examples\n",
        "\n",
        "To avoid the necessity of processing the items of an array one after the other in an explicitly programmed loop, one can use a monadic operator called *each*, which is represented by a diaeresis symbol, which looks like `\u00a8` and is typed with <kbd>APL</kbd>+<kbd>Shift</kbd>+<kbd>1</kbd>.\n",
        "\n",
        "As its name implies, *each* applies the function on its left (its *operand*) to each of the items of the array on its right (if the function is monadic), or to each pair of corresponding items of the arrays on its left and right (if the function is dyadic).\n",
        "\n",
        "Let us try it with some small nested vectors and a monadic function:"
      ]
    },
    {
      "cell_type": "code",
      "execution_count": 55,
      "id": "revolutionary-manner",
      "metadata": {},
      "outputs": [],
      "source": [
        "vec3 \u2190 (5 2) (7 10 23) (52 41) (38 5 17 22)\n",
        "vec4 \u2190 (15 12) 71023 (2 2\u2374\u23734) (74 85 96)\n",
        "vec5 \u2190 (7 5 1) (19 14 13) (33 44 55)"
      ]
    },
    {
      "cell_type": "markdown",
      "id": "controlling-creek",
      "metadata": {},
      "source": [
        "Now, we can ask for the shape of `vec3`:"
      ]
    },
    {
      "cell_type": "code",
      "execution_count": 59,
      "id": "korean-button",
      "metadata": {},
      "outputs": [
        {
          "data": {
            "text/html": [
              "<span style=\"white-space:pre; font-family: monospace\">4\n",
              "</span>"
            ]
          },
          "execution_count": 59,
          "metadata": {},
          "output_type": "execute_result"
        }
      ],
      "source": [
        "\u2374vec3"
      ]
    },
    {
      "cell_type": "markdown",
      "id": "diagnostic-terry",
      "metadata": {},
      "source": [
        "Using `\u00a8`, we can ask for the shape of *each of the items* of `vec3`:"
      ]
    },
    {
      "cell_type": "code",
      "execution_count": 60,
      "id": "precious-regard",
      "metadata": {},
      "outputs": [
        {
          "data": {
            "text/html": [
              "<span style=\"white-space:pre; font-family: monospace\">\u250c\u2500\u252c\u2500\u252c\u2500\u252c\u2500\u2510\n",
              "\u25022\u25023\u25022\u25024\u2502\n",
              "\u2514\u2500\u2534\u2500\u2534\u2500\u2534\u2500\u2518\n",
              "</span>"
            ]
          },
          "execution_count": 60,
          "metadata": {},
          "output_type": "execute_result"
        }
      ],
      "source": [
        "\u2374\u00a8vec3"
      ]
    },
    {
      "cell_type": "markdown",
      "id": "acoustic-circulation",
      "metadata": {},
      "source": [
        "We can do the same with the second vector:"
      ]
    },
    {
      "cell_type": "code",
      "execution_count": 61,
      "id": "selective-sweet",
      "metadata": {},
      "outputs": [
        {
          "data": {
            "text/html": [
              "<span style=\"white-space:pre; font-family: monospace\">\u250c\u2500\u252c\u252c\u2500\u2500\u2500\u252c\u2500\u2510\n",
              "\u25022\u2502\u25022 2\u25023\u2502\n",
              "\u2514\u2500\u2534\u2534\u2500\u2500\u2500\u2534\u2500\u2518\n",
              "</span>"
            ]
          },
          "execution_count": 61,
          "metadata": {},
          "output_type": "execute_result"
        }
      ],
      "source": [
        "\u2374\u00a8vec4"
      ]
    },
    {
      "cell_type": "markdown",
      "id": "sensitive-novelty",
      "metadata": {},
      "source": [
        "Beware! One item of `vec4` is a scalar, so its shape is empty, as shown above.\n",
        "If `]box` were off, this could look odd at first sight:"
      ]
    },
    {
      "cell_type": "code",
      "execution_count": 62,
      "id": "surrounded-timer",
      "metadata": {},
      "outputs": [
        {
          "data": {
            "text/html": [
              "<span style=\"white-space:pre; font-family: monospace\">Was ON\n",
              "</span>"
            ]
          },
          "execution_count": 62,
          "metadata": {},
          "output_type": "execute_result"
        }
      ],
      "source": [
        "]box off"
      ]
    },
    {
      "cell_type": "code",
      "execution_count": 63,
      "id": "alert-terry",
      "metadata": {},
      "outputs": [
        {
          "data": {
            "text/html": [
              "<span style=\"white-space:pre; font-family: monospace\"> 2    2 2  3 \n",
              "</span>"
            ]
          },
          "execution_count": 63,
          "metadata": {},
          "output_type": "execute_result"
        }
      ],
      "source": [
        "\u2374\u00a8vec4"
      ]
    },
    {
      "cell_type": "code",
      "execution_count": 64,
      "id": "professional-studio",
      "metadata": {},
      "outputs": [
        {
          "data": {
            "text/html": [
              "<span style=\"white-space:pre; font-family: monospace\">Was OFF\n",
              "</span>"
            ]
          },
          "execution_count": 64,
          "metadata": {},
          "output_type": "execute_result"
        }
      ],
      "source": [
        "]box on"
      ]
    },
    {
      "cell_type": "markdown",
      "id": "entitled-gamma",
      "metadata": {},
      "source": [
        "If the function specified as the operand to *each* is dyadic, the derived function is also dyadic.\n",
        "As usual, if one of the arguments is a scalar, the scalar is automatically repeated to match the shape of the other argument.\n",
        "For example, take the following vector with the names of some months:"
      ]
    },
    {
      "cell_type": "code",
      "execution_count": 65,
      "id": "possible-driving",
      "metadata": {},
      "outputs": [],
      "source": [
        "monVec \u2190 'January' 'February' 'March' 'April' 'May' 'June'"
      ]
    },
    {
      "cell_type": "markdown",
      "id": "outstanding-northwest",
      "metadata": {},
      "source": [
        "To take the first 3 letters of *each* vector in that vector of vectors, we would do"
      ]
    },
    {
      "cell_type": "code",
      "execution_count": 66,
      "id": "handmade-society",
      "metadata": {},
      "outputs": [
        {
          "data": {
            "text/html": [
              "<span style=\"white-space:pre; font-family: monospace\">\u250c\u2500\u2500\u2500\u252c\u2500\u2500\u2500\u252c\u2500\u2500\u2500\u252c\u2500\u2500\u2500\u252c\u2500\u2500\u2500\u252c\u2500\u2500\u2500\u2510\n",
              "\u2502Jan\u2502Feb\u2502Mar\u2502Apr\u2502May\u2502Jun\u2502\n",
              "\u2514\u2500\u2500\u2500\u2534\u2500\u2500\u2500\u2534\u2500\u2500\u2500\u2534\u2500\u2500\u2500\u2534\u2500\u2500\u2500\u2534\u2500\u2500\u2500\u2518\n",
              "</span>"
            ]
          },
          "execution_count": 66,
          "metadata": {},
          "output_type": "execute_result"
        }
      ],
      "source": [
        "3\u2191\u00a8monVec"
      ]
    },
    {
      "cell_type": "markdown",
      "id": "supreme-anthropology",
      "metadata": {},
      "source": [
        "As we have just shown, there is no need to repeat the `3` to have the same shape as `monVec`.\n",
        "\n",
        "Naturally, the operand to *each* can also be a *user-defined function*, provided that it can be applied to all of the items of the argument array(s):"
      ]
    },
    {
      "cell_type": "code",
      "execution_count": 67,
      "id": "reflected-wheat",
      "metadata": {},
      "outputs": [
        {
          "data": {
            "text/html": [
              "<span style=\"white-space:pre; font-family: monospace\">3.5 13.3333 46.5 20.5\n",
              "</span>"
            ]
          },
          "execution_count": 67,
          "metadata": {},
          "output_type": "execute_result"
        }
      ],
      "source": [
        "Average \u2190 {(+/\u2375)\u00f7\u2262\u2375}\n",
        "Average\u00a8vec3"
      ]
    },
    {
      "cell_type": "markdown",
      "id": "interim-portland",
      "metadata": {},
      "source": [
        "```{admonition} Remark \n",
        ":class: tip\n",
        "In fact, *each* is a bit more than a \"hidden\" loop.\n",
        "\n",
        "Please, remember that all items of an array are scalars - either simple scalars or enclosed arrays.\n",
        "So, in an expression like `\u2374\u00a8vec5`, shouldn't we expect the result to be just a list of three empty vectors, since the shape of a scalar is an empty vector?\n",
        "\n",
        "No, the *each* operator is smarter than that.\n",
        "For each item of the argument array, the item is first *disclosed* (the \"bag\" is opened), the function is applied to the disclosed item, and the result is *enclosed* again to form a scalar (i.e., put into a new \"bag\").\n",
        "Finally, all the new bags (scalars) are arranged in exactly the same structure (rank and shape) as the original argument array to for the final result.\n",
        "```\n",
        "\n",
        "So,"
      ]
    },
    {
      "cell_type": "code",
      "execution_count": 68,
      "id": "wired-digit",
      "metadata": {},
      "outputs": [
        {
          "data": {
            "text/html": [
              "<span style=\"white-space:pre; font-family: monospace\">\u250c\u2500\u252c\u2500\u252c\u2500\u2510\n",
              "\u25023\u25023\u25023\u2502\n",
              "\u2514\u2500\u2534\u2500\u2534\u2500\u2518\n",
              "</span>"
            ]
          },
          "execution_count": 68,
          "metadata": {},
          "output_type": "execute_result"
        }
      ],
      "source": [
        "\u2374\u00a8vec5"
      ]
    },
    {
      "cell_type": "markdown",
      "id": "surrounded-auction",
      "metadata": {},
      "source": [
        "is in fact equivalent to"
      ]
    },
    {
      "cell_type": "code",
      "execution_count": 69,
      "id": "chronic-bleeding",
      "metadata": {},
      "outputs": [
        {
          "data": {
            "text/html": [
              "<span style=\"white-space:pre; font-family: monospace\">\u250c\u2500\u252c\u2500\u252c\u2500\u2510\n",
              "\u25023\u25023\u25023\u2502\n",
              "\u2514\u2500\u2534\u2500\u2534\u2500\u2518\n",
              "</span>"
            ]
          },
          "execution_count": 69,
          "metadata": {},
          "output_type": "execute_result"
        }
      ],
      "source": [
        "(\u2282\u2374\u2283vec5[1]), (\u2282\u2374\u2283vec5[2]), (\u2282\u2374\u2283vec5[3])"
      ]
    },
    {
      "cell_type": "code",
      "execution_count": 70,
      "id": "fitted-medicaid",
      "metadata": {},
      "outputs": [
        {
          "data": {
            "text/html": [
              "<span style=\"white-space:pre; font-family: monospace\">1\n",
              "</span>"
            ]
          },
          "execution_count": 70,
          "metadata": {},
          "output_type": "execute_result"
        }
      ],
      "source": [
        "(\u2374\u00a8vec5)\u2261(\u2282\u2374\u2283vec5[1]), (\u2282\u2374\u2283vec5[2]), (\u2282\u2374\u2283vec5[3])"
      ]
    },
    {
      "cell_type": "markdown",
      "id": "imposed-dressing",
      "metadata": {},
      "source": [
        "If the operand to *each* is a dyadic function, the corresponding items of the left and right arguments are both disclosed before applying the function.\n",
        "\n",
        "We have seen that the operand to *each* may be a primitive function or a user-defined function.\n",
        "It may also be a *derived function* returned by another operator.\n",
        "For example, in the following expressions, the operand to *each* is not `/`, but the derived function `+/`.\n",
        "\n",
        "In this example, we sum the numbers inside each item of the vector:"
      ]
    },
    {
      "cell_type": "code",
      "execution_count": 71,
      "id": "primary-power",
      "metadata": {},
      "outputs": [
        {
          "data": {
            "text/html": [
              "<span style=\"white-space:pre; font-family: monospace\">7 40 93 82\n",
              "</span>"
            ]
          },
          "execution_count": 71,
          "metadata": {},
          "output_type": "execute_result"
        }
      ],
      "source": [
        "+/\u00a8vec3"
      ]
    },
    {
      "cell_type": "markdown",
      "id": "underlying-frost",
      "metadata": {},
      "source": [
        "In this next one, it still works, even though one item is a matrix:"
      ]
    },
    {
      "cell_type": "code",
      "execution_count": 72,
      "id": "accessory-landscape",
      "metadata": {},
      "outputs": [
        {
          "data": {
            "text/html": [
              "<span style=\"white-space:pre; font-family: monospace\">\u250c\u2500\u2500\u252c\u2500\u2500\u2500\u2500\u2500\u252c\u2500\u2500\u2500\u252c\u2500\u2500\u2500\u2510\n",
              "\u250227\u250271023\u25023 7\u2502255\u2502\n",
              "\u2514\u2500\u2500\u2534\u2500\u2500\u2500\u2500\u2500\u2534\u2500\u2500\u2500\u2534\u2500\u2500\u2500\u2518\n",
              "</span>"
            ]
          },
          "execution_count": 72,
          "metadata": {},
          "output_type": "execute_result"
        }
      ],
      "source": [
        "+/\u00a8vec4"
      ]
    },
    {
      "cell_type": "markdown",
      "id": "returning-tuition",
      "metadata": {},
      "source": [
        "Beware: in some cases, the same derived function can be applied with or without the help of *each*, but the result will not be the same at all:"
      ]
    },
    {
      "cell_type": "code",
      "execution_count": 73,
      "id": "psychological-gather",
      "metadata": {},
      "outputs": [
        {
          "data": {
            "text/html": [
              "<span style=\"white-space:pre; font-family: monospace\">\u250c\u2192\u2500\u2500\u2500\u2500\u2500\u2500\u2500\u2500\u2500\u2500\u2500\u2500\u2500\u2500\u2500\u2500\u2500\u2500\u2500\u2500\u2500\u2500\u2500\u2500\u2500\u2500\u2500\u2500\u2500\u2500\u2510\n",
              "\u2502 \u250c\u2192\u2500\u2500\u2500\u2500\u2510 \u250c\u2192\u2500\u2500\u2500\u2500\u2500\u2500\u2500\u2510 \u250c\u2192\u2500\u2500\u2500\u2500\u2500\u2500\u2500\u2510 \u2502\n",
              "\u2502 \u25027 5 1\u2502 \u250219 14 13\u2502 \u250233 44 55\u2502 \u2502\n",
              "\u2502 \u2514~\u2500\u2500\u2500\u2500\u2518 \u2514~\u2500\u2500\u2500\u2500\u2500\u2500\u2500\u2518 \u2514~\u2500\u2500\u2500\u2500\u2500\u2500\u2500\u2518 \u2502\n",
              "\u2514\u220a\u2500\u2500\u2500\u2500\u2500\u2500\u2500\u2500\u2500\u2500\u2500\u2500\u2500\u2500\u2500\u2500\u2500\u2500\u2500\u2500\u2500\u2500\u2500\u2500\u2500\u2500\u2500\u2500\u2500\u2500\u2518\n",
              "</span>"
            ]
          },
          "execution_count": 73,
          "metadata": {},
          "output_type": "execute_result"
        }
      ],
      "source": [
        "]display vec5"
      ]
    },
    {
      "cell_type": "markdown",
      "id": "optical-ceremony",
      "metadata": {},
      "source": [
        "Without `\u00a8`, `+/` sums the three sub-vectors together:"
      ]
    },
    {
      "cell_type": "code",
      "execution_count": 74,
      "id": "young-wonder",
      "metadata": {},
      "outputs": [
        {
          "data": {
            "text/html": [
              "<span style=\"white-space:pre; font-family: monospace\">\u250c\u2500\u2500\u2500\u2500\u2500\u2500\u2500\u2500\u2510\n",
              "\u250259 63 69\u2502\n",
              "\u2514\u2500\u2500\u2500\u2500\u2500\u2500\u2500\u2500\u2518\n",
              "</span>"
            ]
          },
          "execution_count": 74,
          "metadata": {},
          "output_type": "execute_result"
        }
      ],
      "source": [
        "+/vec5"
      ]
    },
    {
      "cell_type": "markdown",
      "id": "portable-average",
      "metadata": {},
      "source": [
        "With `\u00a8`, `+/\u00a8` will compute the sum of *each* of the sub-vectors:"
      ]
    },
    {
      "cell_type": "code",
      "execution_count": 75,
      "id": "royal-smith",
      "metadata": {},
      "outputs": [
        {
          "data": {
            "text/html": [
              "<span style=\"white-space:pre; font-family: monospace\">13 46 132\n",
              "</span>"
            ]
          },
          "execution_count": 75,
          "metadata": {},
          "output_type": "execute_result"
        }
      ],
      "source": [
        "+/\u00a8vec5"
      ]
    },
    {
      "cell_type": "markdown",
      "id": "capable-migration",
      "metadata": {},
      "source": [
        "(Nested-Arrays-Continued-The-Use-of-Each)=\n",
        "### The Use of Each\n",
        "\n",
        "*Each* is a \"loop cruncher\".\n",
        "Instead of programming loops, in APL you can apply any function to each of the items of an array, each of which may contain a complex set of data.\n",
        "\n",
        "This operator is also useful combined with *match* when a simple equal sign would have caused an error.\n",
        "For example, to compare two lists of names:"
      ]
    },
    {
      "cell_type": "code",
      "execution_count": 76,
      "id": "powered-material",
      "metadata": {},
      "outputs": [
        {
          "data": {
            "text/html": [
              "<span style=\"white-space:pre; font-family: monospace\">1 0 1 0\n",
              "</span>"
            ]
          },
          "execution_count": 76,
          "metadata": {},
          "output_type": "execute_result"
        }
      ],
      "source": [
        "'John' 'Julius' 'Jim' 'Jean' \u2261\u00a8 'John' 'Oops' 'Jim' 'Jeff'"
      ]
    },
    {
      "cell_type": "markdown",
      "id": "protective-prevention",
      "metadata": {},
      "source": [
        "When used inappropriately, the *each* operator can sometimes use a large amount of memory for its intermediate results, so you may need to use it with some care.\n",
        "\n",
        "Suppose that we have a huge list `customerTover`, of turnover amounts, one item per customer (we have more than 5,000 of them!).\n",
        "Each item contains a matrix having a varying number of rows (products) and 52 columns (weeks).\n",
        "Our task is to calculate the total average turnover per week per customer.\n",
        "No problem, that's just `(+/\u00a8+\u233f\u00a8customerTover)\u00f752`.\n",
        "\n",
        "However, if `customerTover` is very large, and we do not have much workspace left, the above expression may easily cause a `WS FULL` error.\n",
        "\n",
        "The reason is that the intermediate expression `+\u233f\u00a8customerTover` produces a list of 52 amounts per customer, and that may require more workspace than we have room for.\n",
        "\n",
        "Instead, we can put the entire expression into a function.\n",
        "As is often the case in APL (and in programming, in general), the hardest part of writing a function is finding a good name for it.\n",
        "Fortunately, we can get by without a name if we use an anonymous dfn, with `{(+/+\u233f\u2375)\u00f752}\u00a8customerTover`.\n",
        "\n",
        "Because we have \"isolated\" the entire logical process in the function and used *each* to loop through the items one by one, we will at most have only one customer's data \"active\" at any time, and each intermediate result (a 52-item vector) will be thrown away before recalculating that for the next customer.\n",
        "The result of each function call is just one number, so it is much less likely that we will run into `WS FULL` problems."
      ]
    },
    {
      "cell_type": "markdown",
      "id": "choice-sperm",
      "metadata": {},
      "source": [
        "(Nested-Arrays-Continued-Three-Compressions)=\n",
        "### Three Compressions!\n",
        "\n",
        "In the following we will show three expressions which look similar, but their results are very different.\n",
        "Let us first recall that `vec5` consists of three vectors, each containing three items:"
      ]
    },
    {
      "cell_type": "code",
      "execution_count": 77,
      "id": "historic-parker",
      "metadata": {},
      "outputs": [
        {
          "data": {
            "text/html": [
              "<span style=\"white-space:pre; font-family: monospace\">\u250c\u2500\u2500\u2500\u2500\u2500\u252c\u2500\u2500\u2500\u2500\u2500\u2500\u2500\u2500\u252c\u2500\u2500\u2500\u2500\u2500\u2500\u2500\u2500\u2510\n",
              "\u25027 5 1\u250219 14 13\u250233 44 55\u2502\n",
              "\u2514\u2500\u2500\u2500\u2500\u2500\u2534\u2500\u2500\u2500\u2500\u2500\u2500\u2500\u2500\u2534\u2500\u2500\u2500\u2500\u2500\u2500\u2500\u2500\u2518\n",
              "</span>"
            ]
          },
          "execution_count": 77,
          "metadata": {},
          "output_type": "execute_result"
        }
      ],
      "source": [
        "vec5"
      ]
    },
    {
      "cell_type": "markdown",
      "id": "wanted-blanket",
      "metadata": {},
      "source": [
        "What is the result of a *compression*?"
      ]
    },
    {
      "cell_type": "code",
      "execution_count": 78,
      "id": "brilliant-conflict",
      "metadata": {},
      "outputs": [
        {
          "data": {
            "text/html": [
              "<span style=\"white-space:pre; font-family: monospace\">\u250c\u2500\u2500\u2500\u2500\u2500\u252c\u2500\u2500\u2500\u2500\u2500\u2500\u2500\u2500\u2510\n",
              "\u25027 5 1\u250233 44 55\u2502\n",
              "\u2514\u2500\u2500\u2500\u2500\u2500\u2534\u2500\u2500\u2500\u2500\u2500\u2500\u2500\u2500\u2518\n",
              "</span>"
            ]
          },
          "execution_count": 78,
          "metadata": {},
          "output_type": "execute_result"
        }
      ],
      "source": [
        "1 0 1/vec5"
      ]
    },
    {
      "cell_type": "markdown",
      "id": "sporting-better",
      "metadata": {},
      "source": [
        "Above, the vector `1 0 1` applies to the three items of `vec5`, compressing out the middle one."
      ]
    },
    {
      "cell_type": "code",
      "execution_count": 79,
      "id": "stopped-denial",
      "metadata": {},
      "outputs": [
        {
          "data": {
            "text/html": [
              "<span style=\"white-space:pre; font-family: monospace\">\u250c\u2192\u2500\u2500\u2500\u2500\u2500\u2500\u2500\u2500\u2500\u2500\u2500\u2500\u2500\u2500\u2500\u2500\u2500\u2500\u2500\u2510\n",
              "\u2502 \u250c\u2192\u2500\u2500\u2500\u2500\u2510 \u250c\u2192\u2500\u2500\u2500\u2500\u2500\u2500\u2500\u2510 \u2502\n",
              "\u2502 \u25027 5 1\u2502 \u250233 44 55\u2502 \u2502\n",
              "\u2502 \u2514~\u2500\u2500\u2500\u2500\u2518 \u2514~\u2500\u2500\u2500\u2500\u2500\u2500\u2500\u2518 \u2502\n",
              "\u2514\u220a\u2500\u2500\u2500\u2500\u2500\u2500\u2500\u2500\u2500\u2500\u2500\u2500\u2500\u2500\u2500\u2500\u2500\u2500\u2500\u2518\n",
              "</span>"
            ]
          },
          "execution_count": 79,
          "metadata": {},
          "output_type": "execute_result"
        }
      ],
      "source": [
        "]display 1 0 1/vec5"
      ]
    },
    {
      "cell_type": "markdown",
      "id": "streaming-affairs",
      "metadata": {},
      "source": [
        "As mentioned, the compression applies to the items of `vec5`, as it would to any vector.\n",
        "So, the second item has been removed.\n",
        "\n",
        "If we use `1 0 1/\u00a8vec5`, do you think the result is the same?\n",
        "Are you sure?\n",
        "It is not displayed the same way:"
      ]
    },
    {
      "cell_type": "code",
      "execution_count": 80,
      "id": "biological-sucking",
      "metadata": {},
      "outputs": [
        {
          "data": {
            "text/html": [
              "<span style=\"white-space:pre; font-family: monospace\">\u250c\u2500\u2500\u2500\u2500\u2500\u252c\u252c\u2500\u2500\u2500\u2500\u2500\u2500\u2500\u2500\u2510\n",
              "\u25027 5 1\u2502\u250233 44 55\u2502\n",
              "\u2514\u2500\u2500\u2500\u2500\u2500\u2534\u2534\u2500\u2500\u2500\u2500\u2500\u2500\u2500\u2500\u2518\n",
              "</span>"
            ]
          },
          "execution_count": 80,
          "metadata": {},
          "output_type": "execute_result"
        }
      ],
      "source": [
        "1 0 1/\u00a8vec5"
      ]
    },
    {
      "cell_type": "markdown",
      "id": "photographic-reservoir",
      "metadata": {},
      "source": [
        "Things are different here: each item of `1 0 1` is paired with each sub-vector, like this:\n",
        "\n",
        " - `1/7 5 1` gives `7 5 1`;\n",
        " - `0/19 14 13` gives `\u236c`; and\n",
        " - `1/33 44 55` gives `33 44 55`.\n",
        "\n",
        "Thanks to `]display`:"
      ]
    },
    {
      "cell_type": "code",
      "execution_count": 81,
      "id": "specific-acrylic",
      "metadata": {},
      "outputs": [
        {
          "data": {
            "text/html": [
              "<span style=\"white-space:pre; font-family: monospace\">\u250c\u2192\u2500\u2500\u2500\u2500\u2500\u2500\u2500\u2500\u2500\u2500\u2500\u2500\u2500\u2500\u2500\u2500\u2500\u2500\u2500\u2500\u2500\u2500\u2500\u2510\n",
              "\u2502 \u250c\u2192\u2500\u2500\u2500\u2500\u2510 \u250c\u2296\u2510 \u250c\u2192\u2500\u2500\u2500\u2500\u2500\u2500\u2500\u2510 \u2502\n",
              "\u2502 \u25027 5 1\u2502 \u25020\u2502 \u250233 44 55\u2502 \u2502\n",
              "\u2502 \u2514~\u2500\u2500\u2500\u2500\u2518 \u2514~\u2518 \u2514~\u2500\u2500\u2500\u2500\u2500\u2500\u2500\u2518 \u2502\n",
              "\u2514\u220a\u2500\u2500\u2500\u2500\u2500\u2500\u2500\u2500\u2500\u2500\u2500\u2500\u2500\u2500\u2500\u2500\u2500\u2500\u2500\u2500\u2500\u2500\u2500\u2518\n",
              "</span>"
            ]
          },
          "execution_count": 81,
          "metadata": {},
          "output_type": "execute_result"
        }
      ],
      "source": [
        "]display 1 0 1/\u00a8vec5"
      ]
    },
    {
      "cell_type": "markdown",
      "id": "unlimited-location",
      "metadata": {},
      "source": [
        "There is a third way of using *compress*.\n",
        "If we *enclose* the left argument, the entire mask `1 0 1` is applied to each sub-vector.\n",
        "The second item of each sub-vector has been removed:"
      ]
    },
    {
      "cell_type": "code",
      "execution_count": 82,
      "id": "fundamental-trustee",
      "metadata": {},
      "outputs": [
        {
          "data": {
            "text/html": [
              "<span style=\"white-space:pre; font-family: monospace\">\u250c\u2192\u2500\u2500\u2500\u2500\u2500\u2500\u2500\u2500\u2500\u2500\u2500\u2500\u2500\u2500\u2500\u2500\u2500\u2500\u2500\u2500\u2500\u2500\u2510\n",
              "\u2502 \u250c\u2192\u2500\u2500\u2510 \u250c\u2192\u2500\u2500\u2500\u2500\u2510 \u250c\u2192\u2500\u2500\u2500\u2500\u2510 \u2502\n",
              "\u2502 \u25027 1\u2502 \u250219 13\u2502 \u250233 55\u2502 \u2502\n",
              "\u2502 \u2514~\u2500\u2500\u2518 \u2514~\u2500\u2500\u2500\u2500\u2518 \u2514~\u2500\u2500\u2500\u2500\u2518 \u2502\n",
              "\u2514\u220a\u2500\u2500\u2500\u2500\u2500\u2500\u2500\u2500\u2500\u2500\u2500\u2500\u2500\u2500\u2500\u2500\u2500\u2500\u2500\u2500\u2500\u2500\u2518\n",
              "</span>"
            ]
          },
          "execution_count": 82,
          "metadata": {},
          "output_type": "execute_result"
        }
      ],
      "source": [
        "]display (\u22821 0 1)/\u00a8vec5"
      ]
    },
    {
      "cell_type": "markdown",
      "id": "extreme-journey",
      "metadata": {},
      "source": [
        "(Nested-Arrays-Continued-Processing-Nested-Arrays)=\n",
        "## Processing Nested Arrays\n",
        "\n",
        "We have already seen a number of operations involving nested arrays; we shall explore some more in this section.\n",
        "Because nested arrays generally tend to have a rather simple - or at least uniform - structure, we can illustrate the operations using our little vectors."
      ]
    },
    {
      "cell_type": "markdown",
      "id": "oriental-point",
      "metadata": {},
      "source": [
        "(Nested-Arrays-Continued-Scalar-Dyadic-Functions)=\n",
        "### Scalar Dyadic Functions\n",
        "\n",
        "You can refer to [this section](Some-Primitive-Functions.ipynb#Scalar-vs-Non-scalar-Functions) concerning the application of scalar dyadic functions to nested arrays.\n",
        "\n",
        "However, let us here explore again how *each* applies to scalar dyadic functions:"
      ]
    },
    {
      "cell_type": "code",
      "execution_count": 83,
      "id": "several-designer",
      "metadata": {},
      "outputs": [
        {
          "data": {
            "text/html": [
              "<span style=\"white-space:pre; font-family: monospace\">\u250c\u2500\u2500\u2500\u2500\u2500\u252c\u2500\u2500\u2500\u2500\u2500\u2500\u2500\u2500\u252c\u2500\u2500\u2500\u2500\u2500\u2500\u2500\u2500\u2510\n",
              "\u25027 5 1\u250219 14 13\u250233 44 55\u2502\n",
              "\u2514\u2500\u2500\u2500\u2500\u2500\u2534\u2500\u2500\u2500\u2500\u2500\u2500\u2500\u2500\u2534\u2500\u2500\u2500\u2500\u2500\u2500\u2500\u2500\u2518\n",
              "</span>"
            ]
          },
          "execution_count": 83,
          "metadata": {},
          "output_type": "execute_result"
        }
      ],
      "source": [
        "vec5"
      ]
    },
    {
      "cell_type": "code",
      "execution_count": 84,
      "id": "atmospheric-adelaide",
      "metadata": {},
      "outputs": [
        {
          "data": {
            "text/html": [
              "<span style=\"white-space:pre; font-family: monospace\">\u250c\u2500\u2500\u2500\u2500\u2500\u2500\u2500\u2500\u2500\u2500\u2500\u252c\u2500\u2500\u2500\u2500\u2500\u2500\u2500\u2500\u252c\u2500\u2500\u2500\u2500\u2500\u2500\u2500\u2500\u2510\n",
              "\u2502107 105 101\u250239 34 33\u250234 45 56\u2502\n",
              "\u2514\u2500\u2500\u2500\u2500\u2500\u2500\u2500\u2500\u2500\u2500\u2500\u2534\u2500\u2500\u2500\u2500\u2500\u2500\u2500\u2500\u2534\u2500\u2500\u2500\u2500\u2500\u2500\u2500\u2500\u2518\n",
              "</span>"
            ]
          },
          "execution_count": 84,
          "metadata": {},
          "output_type": "execute_result"
        }
      ],
      "source": [
        "vec5 + 100 20 1"
      ]
    },
    {
      "cell_type": "markdown",
      "id": "engaging-advertiser",
      "metadata": {},
      "source": [
        "100, 20, and 1 are added to the three sub-vectors, respectively.\n",
        "\n",
        "Using *each*, the result is still the same:"
      ]
    },
    {
      "cell_type": "code",
      "execution_count": 85,
      "id": "gorgeous-sharing",
      "metadata": {},
      "outputs": [
        {
          "data": {
            "text/html": [
              "<span style=\"white-space:pre; font-family: monospace\">\u250c\u2500\u2500\u2500\u2500\u2500\u2500\u2500\u2500\u2500\u2500\u2500\u252c\u2500\u2500\u2500\u2500\u2500\u2500\u2500\u2500\u252c\u2500\u2500\u2500\u2500\u2500\u2500\u2500\u2500\u2510\n",
              "\u2502107 105 101\u250239 34 33\u250234 45 56\u2502\n",
              "\u2514\u2500\u2500\u2500\u2500\u2500\u2500\u2500\u2500\u2500\u2500\u2500\u2534\u2500\u2500\u2500\u2500\u2500\u2500\u2500\u2500\u2534\u2500\u2500\u2500\u2500\u2500\u2500\u2500\u2500\u2518\n",
              "</span>"
            ]
          },
          "execution_count": 85,
          "metadata": {},
          "output_type": "execute_result"
        }
      ],
      "source": [
        "vec5 +\u00a8 100 20 1"
      ]
    },
    {
      "cell_type": "markdown",
      "id": "happy-director",
      "metadata": {},
      "source": [
        "If we *enclose* the right argument, then `100 20 1` becomes a scalar, and gets added to each of the three sub-vectors:"
      ]
    },
    {
      "cell_type": "code",
      "execution_count": 86,
      "id": "orange-wright",
      "metadata": {},
      "outputs": [
        {
          "data": {
            "text/html": [
              "<span style=\"white-space:pre; font-family: monospace\">\u250c\u2500\u2500\u2500\u2500\u2500\u2500\u2500\u2500\u252c\u2500\u2500\u2500\u2500\u2500\u2500\u2500\u2500\u2500\u252c\u2500\u2500\u2500\u2500\u2500\u2500\u2500\u2500\u2500\u2510\n",
              "\u2502107 25 2\u2502119 34 14\u2502133 64 56\u2502\n",
              "\u2514\u2500\u2500\u2500\u2500\u2500\u2500\u2500\u2500\u2534\u2500\u2500\u2500\u2500\u2500\u2500\u2500\u2500\u2500\u2534\u2500\u2500\u2500\u2500\u2500\u2500\u2500\u2500\u2500\u2518\n",
              "</span>"
            ]
          },
          "execution_count": 86,
          "metadata": {},
          "output_type": "execute_result"
        }
      ],
      "source": [
        "vec5 +\u00a8 \u2282100 20 1"
      ]
    },
    {
      "cell_type": "markdown",
      "id": "changed-midwest",
      "metadata": {},
      "source": [
        "If we drop the *each* operator, the result is the same because the scalar on the right is extended to match the shape of the left vector:"
      ]
    },
    {
      "cell_type": "code",
      "execution_count": 87,
      "id": "disturbed-singing",
      "metadata": {},
      "outputs": [
        {
          "data": {
            "text/html": [
              "<span style=\"white-space:pre; font-family: monospace\">\u250c\u2500\u2500\u2500\u2500\u2500\u2500\u2500\u2500\u252c\u2500\u2500\u2500\u2500\u2500\u2500\u2500\u2500\u2500\u252c\u2500\u2500\u2500\u2500\u2500\u2500\u2500\u2500\u2500\u2510\n",
              "\u2502107 25 2\u2502119 34 14\u2502133 64 56\u2502\n",
              "\u2514\u2500\u2500\u2500\u2500\u2500\u2500\u2500\u2500\u2534\u2500\u2500\u2500\u2500\u2500\u2500\u2500\u2500\u2500\u2534\u2500\u2500\u2500\u2500\u2500\u2500\u2500\u2500\u2500\u2518\n",
              "</span>"
            ]
          },
          "execution_count": 87,
          "metadata": {},
          "output_type": "execute_result"
        }
      ],
      "source": [
        "vec5 + \u2282100 20 1"
      ]
    },
    {
      "cell_type": "markdown",
      "id": "noticed-panel",
      "metadata": {},
      "source": [
        "In fact, *each* is a superfluous operator when used with scalar dyadic functions, because scalar dyadic functions are *pervasive*, as seen in [a previous section](Some-Primitive-Functions.ipynb#Scalar-vs-Non-scalar-Functions)."
      ]
    },
    {
      "cell_type": "markdown",
      "id": "arabic-transcript",
      "metadata": {},
      "source": [
        "(Nested-Arrays-Continued-Juxtaposition-vs-Catenation)=\n",
        "### Juxtaposition vs Catenation\n",
        "\n",
        "When you *catenate* a number of arrays, for example `v \u2190 a,b,c`, you create a new array with the **contents** of `a`, `b`, and `c` catenated together to make a single new array, as we have seen many times before.\n",
        "\n",
        "Let us use a small vector and see how it works:"
      ]
    },
    {
      "cell_type": "code",
      "execution_count": 35,
      "id": "blind-department",
      "metadata": {},
      "outputs": [],
      "source": [
        "small \u2190 3 4 5"
      ]
    },
    {
      "cell_type": "code",
      "execution_count": 36,
      "id": "upset-bahrain",
      "metadata": {},
      "outputs": [
        {
          "data": {
            "text/html": [
              "<span style=\"white-space:pre; font-family: monospace\">1 2 3 4 5 6 7\n",
              "</span>"
            ]
          },
          "execution_count": 36,
          "metadata": {},
          "output_type": "execute_result"
        }
      ],
      "source": [
        "1 2,small,6 7"
      ]
    },
    {
      "cell_type": "markdown",
      "id": "sonic-pioneer",
      "metadata": {},
      "source": [
        "As we can see, the result is a *simple* vector.\n",
        "\n",
        "What happens here is, of course, that the first 3-item vector `small` and the 2-item vector `6 7` are combined into one 5-item vector.\n",
        "Then, this 5-item vector is combined with the 2-item vector `1 2` to form the resulting 7-item vector.\n",
        "Both the final and the interim results are *simple* vectors.\n",
        "\n",
        "We can now explain what happens when you *juxtapose* two or more arrays (*strand notation*), for example `v \u2190 a b c d e`: each array is enclosed, and the resulting scalars are catenated together.\n",
        "\n",
        "Such an expression produces a vector made of as many items as we have arrays on the right.\n",
        "In the example that follows, the result is a *nested* vector:"
      ]
    },
    {
      "cell_type": "code",
      "execution_count": 37,
      "id": "cubic-concern",
      "metadata": {},
      "outputs": [
        {
          "data": {
            "text/html": [
              "<span style=\"white-space:pre; font-family: monospace\">\u250c\u2500\u252c\u2500\u252c\u2500\u2500\u2500\u2500\u2500\u252c\u2500\u252c\u2500\u2510\n",
              "\u25021\u25022\u25023 4 5\u25026\u25027\u2502\n",
              "\u2514\u2500\u2534\u2500\u2534\u2500\u2500\u2500\u2500\u2500\u2534\u2500\u2534\u2500\u2518\n",
              "</span>"
            ]
          },
          "execution_count": 37,
          "metadata": {},
          "output_type": "execute_result"
        }
      ],
      "source": [
        "1 2 small 6 7"
      ]
    },
    {
      "cell_type": "markdown",
      "id": "smoking-booth",
      "metadata": {},
      "source": [
        "This is what we call *vector notation* or *strand notation*.\n",
        "In this case, we juxtaposed five arrays, so we created a nested array of length five.\n",
        "\n",
        "What happens here is that each of the five arrays is first enclosed, and then the resulting five scalars are catenated together to produce the 5-item vector.\n",
        "Please remember that enclosing a simple scalar does not change it, so you can only see the difference for the array `small`:"
      ]
    },
    {
      "cell_type": "code",
      "execution_count": 38,
      "id": "familiar-shirt",
      "metadata": {},
      "outputs": [
        {
          "data": {
            "text/html": [
              "<span style=\"white-space:pre; font-family: monospace\">\u250c\u2500\u2500\u2500\u252c\u2500\u2500\u2500\u2500\u2500\u252c\u2500\u252c\u2500\u2510\n",
              "\u25021 2\u25023 4 5\u25026\u25027\u2502\n",
              "\u2514\u2500\u2500\u2500\u2534\u2500\u2500\u2500\u2500\u2500\u2534\u2500\u2534\u2500\u2518\n",
              "</span>"
            ]
          },
          "execution_count": 38,
          "metadata": {},
          "output_type": "execute_result"
        }
      ],
      "source": [
        "(1 2) small 6 7"
      ]
    },
    {
      "cell_type": "markdown",
      "id": "responsible-malta",
      "metadata": {},
      "source": [
        "Here, we juxtaposed four arrays, two of which are vectors.\n",
        "It is, again, an example of *strand notation*.\n",
        "\n",
        "In other words, juxtaposition works on arrays seen as building blocks, while catenation works on the contents of the arrays.\n",
        "\n",
        "It may help you to know that there is a strict relationship between catenation and *strand notation*:\n",
        "`a b c` is the same as `(\u2282a),(\u2282b),(\u2282c)`.\n",
        "\n",
        "Here is an example:"
      ]
    },
    {
      "cell_type": "code",
      "execution_count": 39,
      "id": "geological-documentary",
      "metadata": {},
      "outputs": [],
      "source": [
        "a \u2190 \u236c\n",
        "b \u2190 'apl'\n",
        "c \u2190 42"
      ]
    },
    {
      "cell_type": "code",
      "execution_count": 40,
      "id": "spectacular-prescription",
      "metadata": {},
      "outputs": [
        {
          "data": {
            "text/html": [
              "<span style=\"white-space:pre; font-family: monospace\">\u250c\u252c\u2500\u2500\u2500\u252c\u2500\u2500\u2510\n",
              "\u2502\u2502apl\u250242\u2502\n",
              "\u2514\u2534\u2500\u2500\u2500\u2534\u2500\u2500\u2518\n",
              "</span>"
            ]
          },
          "execution_count": 40,
          "metadata": {},
          "output_type": "execute_result"
        }
      ],
      "source": [
        "a b c"
      ]
    },
    {
      "cell_type": "code",
      "execution_count": 41,
      "id": "inside-seeker",
      "metadata": {},
      "outputs": [
        {
          "data": {
            "text/html": [
              "<span style=\"white-space:pre; font-family: monospace\">\u250c\u252c\u2500\u2500\u2500\u252c\u2500\u2500\u2510\n",
              "\u2502\u2502apl\u250242\u2502\n",
              "\u2514\u2534\u2500\u2500\u2500\u2534\u2500\u2500\u2518\n",
              "</span>"
            ]
          },
          "execution_count": 41,
          "metadata": {},
          "output_type": "execute_result"
        }
      ],
      "source": [
        "(\u2282a),(\u2282b),(\u2282c)"
      ]
    },
    {
      "cell_type": "markdown",
      "id": "aggressive-california",
      "metadata": {},
      "source": [
        "The two results look the same; we can be sure they *are* the same by using `\u2261`:"
      ]
    },
    {
      "cell_type": "code",
      "execution_count": 42,
      "id": "apart-thomas",
      "metadata": {},
      "outputs": [
        {
          "data": {
            "text/html": [
              "<span style=\"white-space:pre; font-family: monospace\">1\n",
              "</span>"
            ]
          },
          "execution_count": 42,
          "metadata": {},
          "output_type": "execute_result"
        }
      ],
      "source": [
        "a b c\u2261(\u2282a),(\u2282b),(\u2282c)"
      ]
    },
    {
      "cell_type": "markdown",
      "id": "organic-puppy",
      "metadata": {},
      "source": [
        "Now, we will turn our attention to two other expressions that give the same result,"
      ]
    },
    {
      "cell_type": "code",
      "execution_count": 43,
      "id": "humanitarian-tracy",
      "metadata": {},
      "outputs": [
        {
          "data": {
            "text/html": [
              "<span style=\"white-space:pre; font-family: monospace\">\u250c\u2500\u2500\u2500\u252c\u2500\u2500\u2500\u2500\u2500\u252c\u2500\u252c\u2500\u2510\n",
              "\u25021 2\u25023 4 5\u25026\u25027\u2502\n",
              "\u2514\u2500\u2500\u2500\u2534\u2500\u2500\u2500\u2500\u2500\u2534\u2500\u2534\u2500\u2518\n",
              "</span>"
            ]
          },
          "execution_count": 43,
          "metadata": {},
          "output_type": "execute_result"
        }
      ],
      "source": [
        "(1 2) small,6 7"
      ]
    },
    {
      "cell_type": "markdown",
      "id": "usual-dodge",
      "metadata": {},
      "source": [
        "and"
      ]
    },
    {
      "cell_type": "code",
      "execution_count": 44,
      "id": "elementary-cancellation",
      "metadata": {},
      "outputs": [
        {
          "data": {
            "text/html": [
              "<span style=\"white-space:pre; font-family: monospace\">\u250c\u2500\u2500\u2500\u252c\u2500\u2500\u2500\u2500\u2500\u252c\u2500\u252c\u2500\u2510\n",
              "\u25021 2\u25023 4 5\u25026\u25027\u2502\n",
              "\u2514\u2500\u2500\u2500\u2534\u2500\u2500\u2500\u2500\u2500\u2534\u2500\u2534\u2500\u2518\n",
              "</span>"
            ]
          },
          "execution_count": 44,
          "metadata": {},
          "output_type": "execute_result"
        }
      ],
      "source": [
        "(1 2) small 6 7"
      ]
    },
    {
      "cell_type": "markdown",
      "id": "vocational-kitty",
      "metadata": {},
      "source": [
        "These two expressions give the same result, but for a different reason than the one explained above.\n",
        "In fact, `small` is **not** catenated to the vector `6 7` as in the first example above.\n",
        "To read this expression correctly, we must recall comma *is* an APL function:\n",
        "\n",
        " - its right argument is the vector `6 7`, of course; and\n",
        " - its left argument is whatever is on its left, up to the next function.\n",
        " As there is no such function (parenthesis are not functions), the left argument is the result of the entire expression to the left of the comma, i.e., the 2-item vector `(1 2) small`.\n",
        "\n",
        "So, the result is that the 2-item vector `(1 2) small` is combined with the 2-item vector `6 7` to form the resulting 4-item vector.\n",
        "\n",
        "**Remember this**: when interpreting an expression, you must never \"break\" a sequence of juxtaposed arrays (a *strand*), even if it is a nested vector.\n",
        "\n",
        "So, in the previous example, the left argument to *catenate* is this whole array:"
      ]
    },
    {
      "cell_type": "code",
      "execution_count": 45,
      "id": "crude-round",
      "metadata": {},
      "outputs": [
        {
          "data": {
            "text/html": [
              "<span style=\"white-space:pre; font-family: monospace\">\u250c\u2500\u2500\u2500\u252c\u2500\u2500\u2500\u2500\u2500\u2510\n",
              "\u25021 2\u25023 4 5\u2502\n",
              "\u2514\u2500\u2500\u2500\u2534\u2500\u2500\u2500\u2500\u2500\u2518\n",
              "</span>"
            ]
          },
          "execution_count": 45,
          "metadata": {},
          "output_type": "execute_result"
        }
      ],
      "source": [
        "(1 2) small"
      ]
    },
    {
      "cell_type": "markdown",
      "id": "absolute-planner",
      "metadata": {},
      "source": [
        "When *catenate* is executed, the two items of this argument are catenated to the two items `6 7` of the right argument, making the same 4-item nested vector as in the previous example.\n",
        "\n",
        "Can you predict the result of `(1 2),small 6 7`?"
      ]
    },
    {
      "cell_type": "markdown",
      "id": "authentic-gossip",
      "metadata": {},
      "source": [
        "(Nested-Arrays-Continued-Characters-and-Numbers)=\n",
        "### Characters and Numbers\n",
        "\n",
        "We have a character matrix `cm` and a numeric matrix `nm`:"
      ]
    },
    {
      "cell_type": "code",
      "execution_count": 46,
      "id": "thrown-rebecca",
      "metadata": {},
      "outputs": [
        {
          "data": {
            "text/html": [
              "<span style=\"white-space:pre; font-family: monospace\">Francis\n",
              "Carmen \n",
              "Luciano\n",
              "</span>"
            ]
          },
          "execution_count": 46,
          "metadata": {},
          "output_type": "execute_result"
        }
      ],
      "source": [
        "\u2395\u2190 cm \u2190 3 7\u2374'FrancisCarmen Luciano'"
      ]
    },
    {
      "cell_type": "code",
      "execution_count": 47,
      "id": "criminal-sunset",
      "metadata": {},
      "outputs": [
        {
          "data": {
            "text/html": [
              "<span style=\"white-space:pre; font-family: monospace\">  21.21 1534.88 375.46  704.5 \n",
              "1125.14 1963.52 464.45 1438.25\n",
              " 796.53 1569    157.14  886.59\n",
              "</span>"
            ]
          },
          "execution_count": 47,
          "metadata": {},
          "output_type": "execute_result"
        }
      ],
      "source": [
        "\u2395RL \u2190 73\n",
        "\u2395\u2190 nm \u2190 (?3 4\u2374200000)\u00f7100"
      ]
    },
    {
      "cell_type": "markdown",
      "id": "excellent-nirvana",
      "metadata": {},
      "source": [
        "We would like to have them displayed side by side."
      ]
    },
    {
      "cell_type": "markdown",
      "id": "oriental-boost",
      "metadata": {},
      "source": [
        "(Nested-Arrays-Continued-Solution-1)=\n",
        "#### Solution 1\n",
        "\n",
        "The first idea is to just type `cm nm`:"
      ]
    },
    {
      "cell_type": "code",
      "execution_count": 48,
      "id": "lucky-monaco",
      "metadata": {},
      "outputs": [
        {
          "data": {
            "text/html": [
              "<span style=\"white-space:pre; font-family: monospace\">\u250c\u2500\u2500\u2500\u2500\u2500\u2500\u2500\u252c\u2500\u2500\u2500\u2500\u2500\u2500\u2500\u2500\u2500\u2500\u2500\u2500\u2500\u2500\u2500\u2500\u2500\u2500\u2500\u2500\u2500\u2500\u2500\u2500\u2500\u2500\u2500\u2500\u2500\u2500\u2510\n",
              "\u2502Francis\u2502  21.21 1534.88 375.46  704.5 \u2502\n",
              "\u2502Carmen \u25021125.14 1963.52 464.45 1438.25\u2502\n",
              "\u2502Luciano\u2502 796.53 1569    157.14  886.59\u2502\n",
              "\u2514\u2500\u2500\u2500\u2500\u2500\u2500\u2500\u2534\u2500\u2500\u2500\u2500\u2500\u2500\u2500\u2500\u2500\u2500\u2500\u2500\u2500\u2500\u2500\u2500\u2500\u2500\u2500\u2500\u2500\u2500\u2500\u2500\u2500\u2500\u2500\u2500\u2500\u2500\u2518\n",
              "</span>"
            ]
          },
          "execution_count": 48,
          "metadata": {},
          "output_type": "execute_result"
        }
      ],
      "source": [
        "cm nm"
      ]
    },
    {
      "cell_type": "markdown",
      "id": "minimal-return",
      "metadata": {},
      "source": [
        "The format of the result is not ideal; some values have two decimal digits, and some have only one or none.\n",
        "But there is a much more important problem.\n",
        "Imagine that we would like to draw a line on the top of the report.\n",
        "We can catenate a single dash along the first dimension:"
      ]
    },
    {
      "cell_type": "code",
      "execution_count": 49,
      "id": "western-finance",
      "metadata": {},
      "outputs": [
        {
          "data": {
            "text/html": [
              "<span style=\"white-space:pre; font-family: monospace\">\u250c\u2500\u252c\u2500\u2500\u2500\u2500\u2500\u2500\u2500\u252c\u2500\u2500\u2500\u2500\u2500\u2500\u2500\u2500\u2500\u2500\u2500\u2500\u2500\u2500\u2500\u2500\u2500\u2500\u2500\u2500\u2500\u2500\u2500\u2500\u2500\u2500\u2500\u2500\u2500\u2500\u2510\n",
              "\u2502-\u2502Francis\u2502  21.21 1534.88 375.46  704.5 \u2502\n",
              "\u2502 \u2502Carmen \u25021125.14 1963.52 464.45 1438.25\u2502\n",
              "\u2502 \u2502Luciano\u2502 796.53 1569    157.14  886.59\u2502\n",
              "\u2514\u2500\u2534\u2500\u2500\u2500\u2500\u2500\u2500\u2500\u2534\u2500\u2500\u2500\u2500\u2500\u2500\u2500\u2500\u2500\u2500\u2500\u2500\u2500\u2500\u2500\u2500\u2500\u2500\u2500\u2500\u2500\u2500\u2500\u2500\u2500\u2500\u2500\u2500\u2500\u2500\u2518\n",
              "</span>"
            ]
          },
          "execution_count": 49,
          "metadata": {},
          "output_type": "execute_result"
        }
      ],
      "source": [
        "'-'\u236acm nm"
      ]
    },
    {
      "cell_type": "markdown",
      "id": "peripheral-christopher",
      "metadata": {},
      "source": [
        "This is not what we expected: the dash has been placed on the left, not on the top!\n",
        "The reason is that the expression `cm nm` does not produce a matrix, but a 2-item nested vector.\n",
        "And when one catenates a scalar to a vector, it is inserted before its first item or after the last one, to produce a longer vector.\n",
        "This cannot produce a matrix, unless *laminate* is used, but we shall not try that now."
      ]
    },
    {
      "cell_type": "markdown",
      "id": "electrical-jacksonville",
      "metadata": {},
      "source": [
        "(Nested-Arrays-Continued-Solution-2)=\n",
        "#### Solution 2\n",
        "\n",
        "Well, if juxtaposition doesn't achieve what we want, why shouldn't we catenate our two matrices?"
      ]
    },
    {
      "cell_type": "code",
      "execution_count": 50,
      "id": "fixed-asthma",
      "metadata": {},
      "outputs": [
        {
          "data": {
            "text/html": [
              "<span style=\"white-space:pre; font-family: monospace\">Francis   21.21 1534.88 375.46  704.5 \n",
              "Carmen  1125.14 1963.52 464.45 1438.25\n",
              "Luciano  796.53 1569    157.14  886.59\n",
              "</span>"
            ]
          },
          "execution_count": 50,
          "metadata": {},
          "output_type": "execute_result"
        }
      ],
      "source": [
        "cm,nm"
      ]
    },
    {
      "cell_type": "markdown",
      "id": "fatal-attention",
      "metadata": {},
      "source": [
        "This is almost the same presentation, but not exactly; this is a matrix!\n",
        "\n",
        "Now, let us try to draw the line:"
      ]
    },
    {
      "cell_type": "code",
      "execution_count": 51,
      "id": "terminal-arrival",
      "metadata": {},
      "outputs": [
        {
          "data": {
            "text/html": [
              "<span style=\"white-space:pre; font-family: monospace\">-------       -       -      -       -\n",
              "Francis   21.21 1534.88 375.46  704.5 \n",
              "Carmen  1125.14 1963.52 464.45 1438.25\n",
              "Luciano  796.53 1569    157.14  886.59\n",
              "</span>"
            ]
          },
          "execution_count": 51,
          "metadata": {},
          "output_type": "execute_result"
        }
      ],
      "source": [
        "'-'\u236acm,nm"
      ]
    },
    {
      "cell_type": "markdown",
      "id": "vietnamese-orchestra",
      "metadata": {},
      "source": [
        "Horrible!\n",
        "What happened?\n",
        "\n",
        "When we catenated `cm` (shape `3 7`) with `nm` (shape `3 4`), we produced a 3 by 11 matrix.\n",
        "So, when we further catenated a dash on top of it, the dash was repeated 11 times to fit the last dimension of the matrix.\n",
        "This is why we obtained 7 dashes on top of the 7 text columns, and 4 dashes, each on top of each of the 4 numeric columns.\n",
        "This is still not what we want!"
      ]
    },
    {
      "cell_type": "markdown",
      "id": "controlling-craft",
      "metadata": {},
      "source": [
        "(Nested-Arrays-Continued-Solution-3)=\n",
        "#### Solution 3\n",
        "\n",
        "The final solution will be the following: convert the numbers into text, using the *format* function, and then catenate one character matrix to another character matrix:"
      ]
    },
    {
      "cell_type": "code",
      "execution_count": 52,
      "id": "artistic-sewing",
      "metadata": {},
      "outputs": [
        {
          "data": {
            "text/html": [
              "<span style=\"white-space:pre; font-family: monospace\">-------------------------------------------\n",
              "Francis    21.21  1534.88   375.46   704.50\n",
              "Carmen   1125.14  1963.52   464.45  1438.25\n",
              "Luciano   796.53  1569.00   157.14   886.59\n",
              "</span>"
            ]
          },
          "execution_count": 52,
          "metadata": {},
          "output_type": "execute_result"
        }
      ],
      "source": [
        "'-'\u236acm,9 2\u2355nm"
      ]
    },
    {
      "cell_type": "markdown",
      "id": "rapid-reducing",
      "metadata": {},
      "source": [
        "Now, the line is exactly where we want it and the numbers are nicely formatted.\n",
        "\n",
        "````{exercise}\n",
        ":label: ex-depth-rank-shape\n",
        "Deduce the results of the following 3 expressions (depth, rank, shape), and then verify your solutions on the computer:\n",
        "\n",
        "```APL\n",
        "(\u2282cm) (\u2282nm)\n",
        "(\u2282cm),(\u2282nm)\n",
        "cm,\u2282nm\n",
        "```\n",
        "````\n"
      ]
    },
    {
      "cell_type": "markdown",
      "id": "thirty-germany",
      "metadata": {},
      "source": [
        "(Nested-Arrays-Continued-Some-More-Operations)=\n",
        "### Some More Operations\n",
        "\n",
        "Let us use `vec5` once more."
      ]
    },
    {
      "cell_type": "markdown",
      "id": "vietnamese-quilt",
      "metadata": {},
      "source": [
        "#### Reduction"
      ]
    },
    {
      "cell_type": "code",
      "execution_count": 56,
      "id": "funny-mandate",
      "metadata": {},
      "outputs": [
        {
          "data": {
            "text/html": [
              "<span style=\"white-space:pre; font-family: monospace\">\u250c\u2500\u2500\u2500\u2500\u2500\u2500\u2500\u2500\u2510\n",
              "\u250259 63 69\u2502\n",
              "\u2514\u2500\u2500\u2500\u2500\u2500\u2500\u2500\u2500\u2518\n",
              "</span>"
            ]
          },
          "execution_count": 56,
          "metadata": {},
          "output_type": "execute_result"
        }
      ],
      "source": [
        "+/vec5"
      ]
    },
    {
      "cell_type": "markdown",
      "id": "focal-beauty",
      "metadata": {},
      "source": [
        "Notice the box around the final result!\n",
        "\n",
        "The three enclosed arrays (scalars) have been added together, and the result is therefore an enclosed array (a scalar).\n",
        "You can tell this from the output, because there is a box around the result.\n",
        "\n",
        "We know that the reduction of a vector (rank 1) produces a scalar (rank 0), and this rule still applies here.\n",
        "\n",
        "To obtain the _contents_ of the (enclosed) vector, we must disclose the result:"
      ]
    },
    {
      "cell_type": "code",
      "execution_count": 57,
      "id": "structured-locator",
      "metadata": {},
      "outputs": [
        {
          "data": {
            "text/html": [
              "<span style=\"white-space:pre; font-family: monospace\">59 63 69\n",
              "</span>"
            ]
          },
          "execution_count": 57,
          "metadata": {},
          "output_type": "execute_result"
        }
      ],
      "source": [
        "\u2283+/vec5"
      ]
    },
    {
      "cell_type": "markdown",
      "id": "premier-shannon",
      "metadata": {},
      "source": [
        "The same thing can be observed if we try to collect all the values contained in `vec5` into a single vector, by catenating them together:"
      ]
    },
    {
      "cell_type": "code",
      "execution_count": 58,
      "id": "electoral-friday",
      "metadata": {},
      "outputs": [
        {
          "data": {
            "text/html": [
              "<span style=\"white-space:pre; font-family: monospace\">\u250c\u2500\u2500\u2500\u2500\u2500\u2500\u2500\u2500\u2500\u2500\u2500\u2500\u2500\u2500\u2500\u2500\u2500\u2500\u2500\u2500\u2500\u2500\u2500\u2510\n",
              "\u25027 5 1 19 14 13 33 44 55\u2502\n",
              "\u2514\u2500\u2500\u2500\u2500\u2500\u2500\u2500\u2500\u2500\u2500\u2500\u2500\u2500\u2500\u2500\u2500\u2500\u2500\u2500\u2500\u2500\u2500\u2500\u2518\n",
              "</span>"
            ]
          },
          "execution_count": 58,
          "metadata": {},
          "output_type": "execute_result"
        }
      ],
      "source": [
        ",/vec5"
      ]
    },
    {
      "cell_type": "markdown",
      "id": "hungry-source",
      "metadata": {},
      "source": [
        "It worked, but here again we might want to disclose the result:"
      ]
    },
    {
      "cell_type": "code",
      "execution_count": 59,
      "id": "unsigned-fetish",
      "metadata": {},
      "outputs": [
        {
          "data": {
            "text/html": [
              "<span style=\"white-space:pre; font-family: monospace\">7 5 1 19 14 13 33 44 55\n",
              "</span>"
            ]
          },
          "execution_count": 59,
          "metadata": {},
          "output_type": "execute_result"
        }
      ],
      "source": [
        "\u2283,/vec5"
      ]
    },
    {
      "cell_type": "markdown",
      "id": "signal-graham",
      "metadata": {},
      "source": [
        "(Nested-Arrays-Continued-Index-Of-and-Membership)=\n",
        "#### Index Of and Membership\n",
        "\n",
        "The function *index of* (dyadic `\u2373`) may be used to search for (find the position of) items in a nested vector:"
      ]
    },
    {
      "cell_type": "code",
      "execution_count": 60,
      "id": "agricultural-moore",
      "metadata": {},
      "outputs": [
        {
          "data": {
            "text/html": [
              "<span style=\"white-space:pre; font-family: monospace\">2 4\n",
              "</span>"
            ]
          },
          "execution_count": 60,
          "metadata": {},
          "output_type": "execute_result"
        }
      ],
      "source": [
        "vec5 \u2373 (19 14 13)(1 5 7)"
      ]
    },
    {
      "cell_type": "markdown",
      "id": "proved-explorer",
      "metadata": {},
      "source": [
        "This is correct: the first vector appears in `vec5` as `vec5[2]`, and the second vector is not present.\n",
        "\n",
        "But beware, there is a booby trap:"
      ]
    },
    {
      "cell_type": "code",
      "execution_count": 61,
      "id": "resistant-inspection",
      "metadata": {},
      "outputs": [
        {
          "data": {
            "text/html": [
              "<span style=\"white-space:pre; font-family: monospace\">4 4 4\n",
              "</span>"
            ]
          },
          "execution_count": 61,
          "metadata": {},
          "output_type": "execute_result"
        }
      ],
      "source": [
        "vec5 \u2373 (19 14 13)"
      ]
    },
    {
      "cell_type": "markdown",
      "id": "challenging-modem",
      "metadata": {},
      "source": [
        "`(19 14 13)` is not a nested array.\n",
        "`vec5` is searched for each of these three numbers individually, and they are not found.\n",
        "\n",
        "To get the expected result, we need to enclose the right argument to *index of*:"
      ]
    },
    {
      "cell_type": "code",
      "execution_count": 62,
      "id": "standard-contents",
      "metadata": {},
      "outputs": [
        {
          "data": {
            "text/html": [
              "<span style=\"white-space:pre; font-family: monospace\">2\n",
              "</span>"
            ]
          },
          "execution_count": 62,
          "metadata": {},
          "output_type": "execute_result"
        }
      ],
      "source": [
        "vec5 \u2373 \u228219 14 13"
      ]
    },
    {
      "cell_type": "markdown",
      "id": "banner-collar",
      "metadata": {},
      "source": [
        "It is also important to be aware of this when using *membership*:"
      ]
    },
    {
      "cell_type": "code",
      "execution_count": 66,
      "id": "eleven-service",
      "metadata": {},
      "outputs": [
        {
          "data": {
            "text/html": [
              "<span style=\"white-space:pre; font-family: monospace\">0 1\n",
              "</span>"
            ]
          },
          "execution_count": 66,
          "metadata": {},
          "output_type": "execute_result"
        }
      ],
      "source": [
        "(3 4 5)(7 5 1) \u220a vec5"
      ]
    },
    {
      "cell_type": "code",
      "execution_count": 67,
      "id": "chinese-tuesday",
      "metadata": {},
      "outputs": [
        {
          "data": {
            "text/html": [
              "<span style=\"white-space:pre; font-family: monospace\">0 0 0\n",
              "</span>"
            ]
          },
          "execution_count": 67,
          "metadata": {},
          "output_type": "execute_result"
        }
      ],
      "source": [
        "(7 5 1) \u220a vec5"
      ]
    },
    {
      "cell_type": "code",
      "execution_count": 68,
      "id": "precise-frequency",
      "metadata": {},
      "outputs": [
        {
          "data": {
            "text/html": [
              "<span style=\"white-space:pre; font-family: monospace\">1\n",
              "</span>"
            ]
          },
          "execution_count": 68,
          "metadata": {},
          "output_type": "execute_result"
        }
      ],
      "source": [
        "(\u22827 5 1) \u220a vec5"
      ]
    },
    {
      "cell_type": "markdown",
      "id": "educated-shaft",
      "metadata": {},
      "source": [
        "(Nested-Arrays-Continued-Indexing)=\n",
        "#### Indexing\n",
        "\n",
        "The rules we saw about indexing remain true: when one indexes a vector by an array, the result has the same shape as the array.\n",
        "If the vector is nested, the result is generally nested too:"
      ]
    },
    {
      "cell_type": "code",
      "execution_count": 69,
      "id": "appreciated-badge",
      "metadata": {},
      "outputs": [
        {
          "data": {
            "text/html": [
              "<span style=\"white-space:pre; font-family: monospace\">\u250c\u2192\u2500\u2500\u2500\u2500\u2500\u2500\u2500\u2500\u2500\u2500\u2500\u2500\u2500\u2500\u2500\u2500\u2500\u2500\u2500\u2500\u2500\u2500\u2500\u2500\u2500\u2500\u2500\u2500\u2500\u2500\u2500\u2510\n",
              "\u2502 \u250c\u2192\u2500\u2500\u2500\u2500\u2510       \u250c\u2192\u2500\u2500\u2510 \u250c\u2192\u2500\u2500\u2500\u2500\u2500\u2500\u2500\u2510 \u2502\n",
              "\u2502 \u250215 12\u2502 71023 \u21931 2\u2502 \u250274 85 96\u2502 \u2502\n",
              "\u2502 \u2514~\u2500\u2500\u2500\u2500\u2518       \u25023 4\u2502 \u2514~\u2500\u2500\u2500\u2500\u2500\u2500\u2500\u2518 \u2502\n",
              "\u2502               \u2514~\u2500\u2500\u2518            \u2502\n",
              "\u2514\u220a\u2500\u2500\u2500\u2500\u2500\u2500\u2500\u2500\u2500\u2500\u2500\u2500\u2500\u2500\u2500\u2500\u2500\u2500\u2500\u2500\u2500\u2500\u2500\u2500\u2500\u2500\u2500\u2500\u2500\u2500\u2500\u2518\n",
              "</span>"
            ]
          },
          "execution_count": 69,
          "metadata": {},
          "output_type": "execute_result"
        }
      ],
      "source": [
        "]display vec4"
      ]
    },
    {
      "cell_type": "code",
      "execution_count": 70,
      "id": "computational-wrong",
      "metadata": {},
      "outputs": [
        {
          "data": {
            "text/html": [
              "<span style=\"white-space:pre; font-family: monospace\">\u250c\u2192\u2500\u2500\u2500\u2500\u2500\u2500\u2500\u2500\u2500\u2500\u2500\u2500\u2500\u2500\u2500\u2500\u2500\u2510\n",
              "\u2193 \u250c\u2192\u2500\u2500\u2500\u2500\u2500\u2500\u2500\u2510       \u2502\n",
              "\u2502 \u250274 85 96\u2502 71023 \u2502\n",
              "\u2502 \u2514~\u2500\u2500\u2500\u2500\u2500\u2500\u2500\u2518       \u2502\n",
              "\u2502 \u250c\u2192\u2500\u2500\u2500\u2500\u2510    \u250c\u2192\u2500\u2500\u2510 \u2502\n",
              "\u2502 \u250215 12\u2502    \u21931 2\u2502 \u2502\n",
              "\u2502 \u2514~\u2500\u2500\u2500\u2500\u2518    \u25023 4\u2502 \u2502\n",
              "\u2502            \u2514~\u2500\u2500\u2518 \u2502\n",
              "\u2514\u220a\u2500\u2500\u2500\u2500\u2500\u2500\u2500\u2500\u2500\u2500\u2500\u2500\u2500\u2500\u2500\u2500\u2500\u2518\n",
              "</span>"
            ]
          },
          "execution_count": 70,
          "metadata": {},
          "output_type": "execute_result"
        }
      ],
      "source": [
        "]display vec4[2 2\u23744 2 1 3]"
      ]
    },
    {
      "cell_type": "markdown",
      "id": "adjustable-maple",
      "metadata": {},
      "source": [
        "We have also seen, in {numref}`Data-and-Variables-Array-Indexing`, that a nested array can be used as an index.\n",
        "For example, to index items scattered throughout a matrix, the array that specifies the indices is composed of 2-item vectors (row and column indices):"
      ]
    },
    {
      "cell_type": "code",
      "execution_count": 71,
      "id": "noticed-dealing",
      "metadata": {},
      "outputs": [
        {
          "data": {
            "text/html": [
              "<span style=\"white-space:pre; font-family: monospace\">11 26 22\n",
              "14 87 52\n",
              "30 28 19\n",
              "65 40 55\n",
              "19 31 64\n",
              "33 70 44\n",
              "</span>"
            ]
          },
          "execution_count": 71,
          "metadata": {},
          "output_type": "execute_result"
        }
      ],
      "source": [
        "\u2395\u2190 tests \u2190 6 3\u237411 26 22 14 87 52 30 28 19 65 40 55 19 31 64 33 70 44"
      ]
    },
    {
      "cell_type": "code",
      "execution_count": 72,
      "id": "speaking-tablet",
      "metadata": {},
      "outputs": [
        {
          "data": {
            "text/html": [
              "<span style=\"white-space:pre; font-family: monospace\">52 19 26\n",
              "</span>"
            ]
          },
          "execution_count": 72,
          "metadata": {},
          "output_type": "execute_result"
        }
      ],
      "source": [
        "tests[(2 3)(5 1)(1 2)]"
      ]
    },
    {
      "cell_type": "code",
      "execution_count": 73,
      "id": "virgin-richardson",
      "metadata": {},
      "outputs": [
        {
          "data": {
            "text/html": [
              "<span style=\"white-space:pre; font-family: monospace\">52 19\n",
              "26 52\n",
              "</span>"
            ]
          },
          "execution_count": 73,
          "metadata": {},
          "output_type": "execute_result"
        }
      ],
      "source": [
        "tests[2 2\u2374(2 3)(5 1)(1 2)]"
      ]
    },
    {
      "cell_type": "markdown",
      "id": "varied-wireless",
      "metadata": {},
      "source": [
        "Let us try to obtain the same result with the *index* function, or *squad*:"
      ]
    },
    {
      "cell_type": "code",
      "execution_count": 74,
      "id": "exciting-counter",
      "metadata": {},
      "outputs": [
        {
          "name": "stderr",
          "output_type": "stream",
          "text": [
            "LENGTH ERROR\n",
            "      (2 3)(5 1)(1 2)\u2337tests\n",
            "                     \u2227\n"
          ]
        }
      ],
      "source": [
        "(2 3)(5 1)(1 2) \u2337 tests"
      ]
    },
    {
      "cell_type": "markdown",
      "id": "stuck-monte",
      "metadata": {},
      "source": [
        "The above cannot work.\n",
        "*Index* expects a 2-item vector: a list of rows and a list of columns."
      ]
    },
    {
      "cell_type": "code",
      "execution_count": 75,
      "id": "bearing-validation",
      "metadata": {},
      "outputs": [
        {
          "name": "stderr",
          "output_type": "stream",
          "text": [
            "RANK ERROR\n",
            "      (2 3)(5 1)(1 2)\u2337\u00a8tests\n",
            "                     \u2227\n"
          ]
        }
      ],
      "source": [
        "(2 3)(5 1)(1 2) \u2337\u00a8 tests"
      ]
    },
    {
      "cell_type": "markdown",
      "id": "complete-glucose",
      "metadata": {},
      "source": [
        "This second attempt also won't work: each item of the left argument cannot be associated with a corresponding item of `tests`, because they do not have the same shape.\n",
        "\n",
        "In order to get this to work, we need to enclose `tests`:"
      ]
    },
    {
      "cell_type": "code",
      "execution_count": 76,
      "id": "occupied-refrigerator",
      "metadata": {},
      "outputs": [
        {
          "data": {
            "text/html": [
              "<span style=\"white-space:pre; font-family: monospace\">52 19 26\n",
              "</span>"
            ]
          },
          "execution_count": 76,
          "metadata": {},
          "output_type": "execute_result"
        }
      ],
      "source": [
        "(2 3)(5 1)(1 2) \u2337\u00a8 \u2282tests"
      ]
    },
    {
      "cell_type": "markdown",
      "id": "beneficial-screw",
      "metadata": {},
      "source": [
        "This last expression worked correctly. **Each** couple of indices is paired with `tests` as a whole because it has been enclosed, and therefore the scalar on the right is extended to match the 3-item vector on the left."
      ]
    },
    {
      "cell_type": "markdown",
      "id": "remarkable-commons",
      "metadata": {},
      "source": [
        "**Always keep in mind the following rules**:\n",
        "\n",
        " - The items of a nested array are scalars and are therefore always processed as scalars.\n",
        "\n",
        "In the expression below,"
      ]
    },
    {
      "cell_type": "code",
      "execution_count": 77,
      "id": "narrative-salon",
      "metadata": {},
      "outputs": [
        {
          "data": {
            "text/html": [
              "<span style=\"white-space:pre; font-family: monospace\">\u250c\u2500\u2500\u2500\u2500\u2500\u252c\u2500\u2500\u2500\u2500\u2500\u2510\n",
              "\u250250 60\u250220 10\u2502\n",
              "\u2514\u2500\u2500\u2500\u2500\u2500\u2534\u2500\u2500\u2500\u2500\u2500\u2518\n",
              "</span>"
            ]
          },
          "execution_count": 77,
          "metadata": {},
          "output_type": "execute_result"
        }
      ],
      "source": [
        "(5 6)(4 2)\u00d710 5"
      ]
    },
    {
      "cell_type": "markdown",
      "id": "bronze-grammar",
      "metadata": {},
      "source": [
        "`(5 6)` is multiplied by `10` and `(4 2)` is multiplied by `5`.\n",
        "\n",
        " - A single list of values placed between parentheses is not a nested array:"
      ]
    },
    {
      "cell_type": "code",
      "execution_count": 78,
      "id": "dirty-genome",
      "metadata": {},
      "outputs": [
        {
          "data": {
            "text/html": [
              "<span style=\"white-space:pre; font-family: monospace\">45 77 80\n",
              "</span>"
            ]
          },
          "execution_count": 78,
          "metadata": {},
          "output_type": "execute_result"
        }
      ],
      "source": [
        "(45 77 80)"
      ]
    },
    {
      "cell_type": "markdown",
      "id": "identical-reduction",
      "metadata": {},
      "source": [
        "The parentheses do nothing here.\n",
        "\n",
        " - An expression is always evaluated from right to left, one function at a time. Note that strands can be easy to miss when determining what the left argument of a function is.\n",
        "\n",
        "In the expression `2\u00d7a 3+b`, the left argument of the *plus* function is not `3` alone, but the vector `a 3`.\n",
        "\n",
        "Before we go any further with nested arrays, we recommend that you try to solve some exercises."
      ]
    },
    {
      "cell_type": "markdown",
      "id": "unsigned-imperial",
      "metadata": {},
      "source": [
        "(Nested-Arrays-Continued-Intermission-Exercises)=\n",
        "## Intermission Exercises\n",
        "\n",
        "You are given three numeric vectors:"
      ]
    },
    {
      "cell_type": "code",
      "execution_count": 79,
      "id": "fixed-number",
      "metadata": {},
      "outputs": [],
      "source": [
        "a \u2190 1 2 3\n",
        "b \u2190 4 5 6\n",
        "c \u2190 7 8 9"
      ]
    },
    {
      "cell_type": "markdown",
      "id": "olympic-absolute",
      "metadata": {},
      "source": [
        "```{exercise}\n",
        ":label: ex-depth-rank-shape2\n",
        "Try to predict the results given by the following expressions in terms of depth, rank, and shape.\n",
        "Then check your results using `]display`, or the appropriate primitives.\n",
        "\n",
        " 1. `a b c \u00d7 1 2 3`\n",
        " 1. `(10 20),a`\n",
        " 1. `(10 20),a b`\n",
        " 1. `a b 2 \u00d7 c[2]`\n",
        " 1. `10\u00d7a 20\u00d7b`\n",
        "```\n",
        "\n",
        "```{exercise}\n",
        ":label: ex-depth-rank-shape3\n",
        "Same question for the following expressions:\n",
        "\n",
        " 1. `+/a b c`\n",
        " 1. `+/\u00a8a b c`\n",
        " 1. `1 0 1/\u00a8a b c`\n",
        " 1. `(a b c)\u2373(4 5 6)`\n",
        " 1. `1 10 3 \u220a a`\n",
        " 1. `(\u22821 0 1)/\u00a8a b c`\n",
        " 1. `1 10 3 \u220a a b c`\n",
        "```\n",
        "\n",
        "```{exercise}\n",
        ":label: ex-reductions\n",
        "What are the results of `+/na` and `,/na` for the vector `na` shown below?\n",
        "```\n"
      ]
    },
    {
      "cell_type": "code",
      "execution_count": 2,
      "id": "robust-actor",
      "metadata": {
        "scrolled": true
      },
      "outputs": [
        {
          "data": {
            "text/html": [
              "<span style=\"white-space:pre; font-family: monospace\">\u250c\u2500\u252c\u2500\u252c\u2500\u2500\u2500\u252c\u2500\u252c\u2500\u2510\n",
              "\u25021\u25022\u25023 4\u25027\u25028\u2502\n",
              "\u2502 \u2502 \u25025 6\u2502 \u2502 \u2502\n",
              "\u2514\u2500\u2534\u2500\u2534\u2500\u2500\u2500\u2534\u2500\u2534\u2500\u2518\n",
              "</span>"
            ]
          },
          "execution_count": 2,
          "metadata": {},
          "output_type": "execute_result"
        }
      ],
      "source": [
        "\u2395\u2190 na \u2190 1 2 (2 2\u23743 4 5 6)7 8"
      ]
    },
    {
      "cell_type": "markdown",
      "id": "collaborative-table",
      "metadata": {},
      "source": [
        "(Nested-Arrays-Continued-Split-and-Mix)=\n",
        "## Split and Mix\n",
        "\n",
        "We saw that in some cases we can choose to represent data either as a matrix or as a nested vector; remember `monMat` and `monVec`.\n",
        "\n",
        "Two primitive monadic functions are provided to switch from one form to the other:\n",
        "\n",
        " - _Mix_ (`\u2191`) returns an array of _higher rank_ and _lower depth_ than that of its argument; and\n",
        " - _Split_ (`\u2193`) returns an array of _lower rank_ and _higher depth_ than that of its argument."
      ]
    },
    {
      "cell_type": "markdown",
      "id": "norwegian-tonight",
      "metadata": {},
      "source": [
        "(Nested-Arrays-Continued-Basic-Use)=\n",
        "### Basic Use\n",
        "\n",
        "Let us apply _mix_ to two small vectors:"
      ]
    },
    {
      "cell_type": "code",
      "execution_count": 81,
      "id": "convertible-possibility",
      "metadata": {},
      "outputs": [
        {
          "data": {
            "text/html": [
              "<span style=\"white-space:pre; font-family: monospace\">One  \n",
              "Two  \n",
              "Three\n",
              "</span>"
            ]
          },
          "execution_count": 81,
          "metadata": {},
          "output_type": "execute_result"
        }
      ],
      "source": [
        "vtex \u2190 'One' 'Two' 'Three'\n",
        "vnum \u2190 (6 2) 14 (7 5 3)\n",
        "\u2395\u2190 rtex \u2190 \u2191 vtex"
      ]
    },
    {
      "cell_type": "markdown",
      "id": "bright-february",
      "metadata": {},
      "source": [
        "Notice how we have converted a nested vector (of depth 2 and rank 1) into a simple matrix (of depth 1 and rank 2)."
      ]
    },
    {
      "cell_type": "code",
      "execution_count": 82,
      "id": "raised-alfred",
      "metadata": {},
      "outputs": [
        {
          "data": {
            "text/html": [
              "<span style=\"white-space:pre; font-family: monospace\"> 6 2 0\n",
              "14 0 0\n",
              " 7 5 3\n",
              "</span>"
            ]
          },
          "execution_count": 82,
          "metadata": {},
          "output_type": "execute_result"
        }
      ],
      "source": [
        "\u2395\u2190 rnum \u2190 \u2191 vnum"
      ]
    },
    {
      "cell_type": "markdown",
      "id": "portuguese-disposal",
      "metadata": {},
      "source": [
        "In this example, we have converted a nested vector (of depth -2 and rank 1) into a simple matrix (of depth 1 and rank 2).\n",
        "\n",
        "Of course the operation is possible only because the shorter items are padded with blanks (for text) or zeroes (for numbers), or more generally by the appropriate _fill item_ (this notion will be explained soon).\n",
        "\n",
        "The last example above shows that when we say that the depth is reduced, we actually mean that the _magnitude_ of the depth is reduced.\n",
        "\n",
        "And now, let us apply _split_ to the matrices we have just produced:"
      ]
    },
    {
      "cell_type": "code",
      "execution_count": 130,
      "id": "senior-garden",
      "metadata": {
        "scrolled": true
      },
      "outputs": [
        {
          "data": {
            "text/html": [
              "<span style=\"white-space:pre; font-family: monospace\">\u250c\u2500\u2500\u2500\u2500\u2500\u252c\u2500\u2500\u2500\u2500\u2500\u252c\u2500\u2500\u2500\u2500\u2500\u2510\n",
              "\u2502One  \u2502Two  \u2502Three\u2502\n",
              "\u2514\u2500\u2500\u2500\u2500\u2500\u2534\u2500\u2500\u2500\u2500\u2500\u2534\u2500\u2500\u2500\u2500\u2500\u2518\n",
              "</span>"
            ]
          },
          "execution_count": 130,
          "metadata": {},
          "output_type": "execute_result"
        }
      ],
      "source": [
        "\u2395\u2190 newtex \u2190 \u2193rtex"
      ]
    },
    {
      "cell_type": "markdown",
      "id": "adjusted-period",
      "metadata": {},
      "source": [
        "We converted a simple matrix (of depth 1 and rank 2) into a nested vector (of depth 2 and rank 1)."
      ]
    },
    {
      "cell_type": "code",
      "execution_count": 131,
      "id": "surprised-subject",
      "metadata": {},
      "outputs": [
        {
          "data": {
            "text/html": [
              "<span style=\"white-space:pre; font-family: monospace\">\u250c\u2500\u2500\u2500\u2500\u2500\u252c\u2500\u2500\u2500\u2500\u2500\u2500\u252c\u2500\u2500\u2500\u2500\u2500\u2510\n",
              "\u25026 2 0\u250214 0 0\u25027 5 3\u2502\n",
              "\u2514\u2500\u2500\u2500\u2500\u2500\u2534\u2500\u2500\u2500\u2500\u2500\u2500\u2534\u2500\u2500\u2500\u2500\u2500\u2518\n",
              "</span>"
            ]
          },
          "execution_count": 131,
          "metadata": {},
          "output_type": "execute_result"
        }
      ],
      "source": [
        "\u2395\u2190 newnum \u2190 \u2193rnum"
      ]
    },
    {
      "cell_type": "markdown",
      "id": "single-difference",
      "metadata": {},
      "source": [
        "Note that the two new vectors (`newtex` and `newnum`) are not identical to the original ones (`vtex` and `vnum`) because, when they were converted into the matrices `rtex` and `rnum`, the shorter items were padded.\n",
        "When one splits a matrix, the items of the result all have the same size.\n",
        "\n",
        "(Nested-Arrays-Continued-Mix-applied-to-heterogeneous-data)=\n",
        "#### Mix applied to heterogeneous data\n",
        "\n",
        "The examples shown above represent very common uses of _mix_ and _split_.\n",
        "However, it is of course also possible to apply the functions to heterogeneous data.\n",
        "\n",
        "For example, we can mix text and numbers:"
      ]
    },
    {
      "cell_type": "code",
      "execution_count": 132,
      "id": "japanese-drunk",
      "metadata": {},
      "outputs": [
        {
          "data": {
            "text/html": [
              "<span style=\"white-space:pre; font-family: monospace\"> M  i x e d\n",
              "11 43 0 0 0\n",
              "</span>"
            ]
          },
          "execution_count": 132,
          "metadata": {},
          "output_type": "execute_result"
        }
      ],
      "source": [
        "\u2191'Mixed' (11 43)"
      ]
    },
    {
      "cell_type": "markdown",
      "id": "central-seller",
      "metadata": {},
      "source": [
        "And we can also mix a simple vector with a nested one.\n",
        "As expected, the result below is a 2 by 3 matrix:"
      ]
    },
    {
      "cell_type": "code",
      "execution_count": 133,
      "id": "organizational-steering",
      "metadata": {},
      "outputs": [
        {
          "data": {
            "text/html": [
              "<span style=\"white-space:pre; font-family: monospace\">\u250c\u2500\u2500\u2500\u252c\u2500\u2500\u252c\u2500\u2500\u2510\n",
              "\u2502Y  \u2502e \u2502s \u2502\n",
              "\u251c\u2500\u2500\u2500\u253c\u2500\u2500\u253c\u2500\u2500\u2524\n",
              "\u2502Oui\u2502Da\u2502Si\u2502\n",
              "\u2514\u2500\u2500\u2500\u2534\u2500\u2500\u2534\u2500\u2500\u2518\n",
              "</span>"
            ]
          },
          "execution_count": 133,
          "metadata": {},
          "output_type": "execute_result"
        }
      ],
      "source": [
        "\u2191 'Yes' ('Oui' 'Da' 'Si')"
      ]
    },
    {
      "cell_type": "markdown",
      "id": "italic-wyoming",
      "metadata": {},
      "source": [
        "(Nested-Arrays-Continued-Axis-Specification)=\n",
        "### Axis Specification\n",
        "\n",
        "(Nested-Arrays-Continued-Split)=\n",
        "#### Split\n",
        "\n",
        "When we apply the function _split_ to an array, its rank will decrease, so we must specify which of its dimensions is to be suppressed.\n",
        "If we don't specify it explicitly, the default is to suppress the last dimension.\n",
        "\n",
        "Let us work on `chemistry`, a matrix we used earlier:"
      ]
    },
    {
      "cell_type": "code",
      "execution_count": 83,
      "id": "received-algorithm",
      "metadata": {},
      "outputs": [
        {
          "data": {
            "text/html": [
              "<span style=\"white-space:pre; font-family: monospace\">H2SO4\n",
              "CaCO3\n",
              "Fe2O3\n",
              "</span>"
            ]
          },
          "execution_count": 83,
          "metadata": {},
          "output_type": "execute_result"
        }
      ],
      "source": [
        "\u2395\u2190 chemistry \u2190 3 5\u2374'H2SO4CaCO3Fe2O3'"
      ]
    },
    {
      "cell_type": "markdown",
      "id": "funny-subject",
      "metadata": {},
      "source": [
        "In this case, there are two possible uses of _split_: we can apply it either to the first dimension or to the second dimension.\n",
        "\n",
        "If we specify the first axis, the matrix is split column-wise:"
      ]
    },
    {
      "cell_type": "code",
      "execution_count": 84,
      "id": "expanded-reaction",
      "metadata": {},
      "outputs": [
        {
          "data": {
            "text/html": [
              "<span style=\"white-space:pre; font-family: monospace\">\u250c\u2500\u2500\u2500\u252c\u2500\u2500\u2500\u252c\u2500\u2500\u2500\u252c\u2500\u2500\u2500\u252c\u2500\u2500\u2500\u2510\n",
              "\u2502HCF\u25022ae\u2502SC2\u2502OOO\u2502433\u2502\n",
              "\u2514\u2500\u2500\u2500\u2534\u2500\u2500\u2500\u2534\u2500\u2500\u2500\u2534\u2500\u2500\u2500\u2534\u2500\u2500\u2500\u2518\n",
              "</span>"
            ]
          },
          "execution_count": 84,
          "metadata": {},
          "output_type": "execute_result"
        }
      ],
      "source": [
        "\u2193[1]chemistry"
      ]
    },
    {
      "cell_type": "markdown",
      "id": "musical-steal",
      "metadata": {},
      "source": [
        "If we specify the second axis, the matrix is split row-wise:"
      ]
    },
    {
      "cell_type": "code",
      "execution_count": 85,
      "id": "chubby-essence",
      "metadata": {},
      "outputs": [
        {
          "data": {
            "text/html": [
              "<span style=\"white-space:pre; font-family: monospace\">\u250c\u2500\u2500\u2500\u2500\u2500\u252c\u2500\u2500\u2500\u2500\u2500\u252c\u2500\u2500\u2500\u2500\u2500\u2510\n",
              "\u2502H2SO4\u2502CaCO3\u2502Fe2O3\u2502\n",
              "\u2514\u2500\u2500\u2500\u2500\u2500\u2534\u2500\u2500\u2500\u2500\u2500\u2534\u2500\u2500\u2500\u2500\u2500\u2518\n",
              "</span>"
            ]
          },
          "execution_count": 85,
          "metadata": {},
          "output_type": "execute_result"
        }
      ],
      "source": [
        "\u2193[2]chemistry"
      ]
    },
    {
      "cell_type": "markdown",
      "id": "three-function",
      "metadata": {},
      "source": [
        "If we omit the axis specification, _split_ defaults to the last axis:"
      ]
    },
    {
      "cell_type": "code",
      "execution_count": 86,
      "id": "digital-poster",
      "metadata": {},
      "outputs": [
        {
          "data": {
            "text/html": [
              "<span style=\"white-space:pre; font-family: monospace\">\u250c\u2500\u2500\u2500\u2500\u2500\u252c\u2500\u2500\u2500\u2500\u2500\u252c\u2500\u2500\u2500\u2500\u2500\u2510\n",
              "\u2502H2SO4\u2502CaCO3\u2502Fe2O3\u2502\n",
              "\u2514\u2500\u2500\u2500\u2500\u2500\u2534\u2500\u2500\u2500\u2500\u2500\u2534\u2500\u2500\u2500\u2500\u2500\u2518\n",
              "</span>"
            ]
          },
          "execution_count": 86,
          "metadata": {},
          "output_type": "execute_result"
        }
      ],
      "source": [
        "\u2193chemistry"
      ]
    },
    {
      "cell_type": "markdown",
      "id": "unable-conditioning",
      "metadata": {},
      "source": [
        "(Nested-Arrays-Continued-Mix)=\n",
        "#### Mix\n",
        "\n",
        "The use of _mix_ is a bit more complex because it adds a new dimension to an existing array.\n",
        "So does the function _laminate_, and the two functions use the same convention to specify where to insert the new dimension.\n",
        "\n",
        "If we apply the function _mix_ to a 3-item nested vector of vectors, in which the largest item is an enclosed 5-item vector, the result must be either a 5 by 3 matrix, or a 3 by 5 matrix (the default).\n",
        "\n",
        "In the same way as for _laminate_, a new dimension is created.\n",
        "This new dimension can be inserted before or after the existing dimension.\n",
        "The programmer decides this by specifying an axis:\n",
        "\n",
        " - `[0.5]` inserts the new dimension **before** the existing one, resulting in a 5 by 3 matrix; or\n",
        " - `[1.5]` inserts the new dimension **after** the existing one, resulting in a 3 by 5 matrix."
      ]
    },
    {
      "cell_type": "code",
      "execution_count": 87,
      "id": "private-lease",
      "metadata": {},
      "outputs": [
        {
          "data": {
            "text/html": [
              "<span style=\"white-space:pre; font-family: monospace\">OTT\n",
              "nwh\n",
              "eor\n",
              "  e\n",
              "  e\n",
              "</span>"
            ]
          },
          "execution_count": 87,
          "metadata": {},
          "output_type": "execute_result"
        }
      ],
      "source": [
        "\u2191[0.5]'One' 'Two' 'Three'"
      ]
    },
    {
      "cell_type": "code",
      "execution_count": 88,
      "id": "handy-geneva",
      "metadata": {},
      "outputs": [
        {
          "data": {
            "text/html": [
              "<span style=\"white-space:pre; font-family: monospace\">One  \n",
              "Two  \n",
              "Three\n",
              "</span>"
            ]
          },
          "execution_count": 88,
          "metadata": {},
          "output_type": "execute_result"
        }
      ],
      "source": [
        "\u2191[1.5]'One' 'Two' 'Three'"
      ]
    },
    {
      "cell_type": "markdown",
      "id": "broken-singles",
      "metadata": {},
      "source": [
        "The last example is the default behaviour, where the new dimension is inserted after the existing one:"
      ]
    },
    {
      "cell_type": "code",
      "execution_count": 89,
      "id": "acoustic-beaver",
      "metadata": {},
      "outputs": [
        {
          "data": {
            "text/html": [
              "<span style=\"white-space:pre; font-family: monospace\">One  \n",
              "Two  \n",
              "Three\n",
              "</span>"
            ]
          },
          "execution_count": 89,
          "metadata": {},
          "output_type": "execute_result"
        }
      ],
      "source": [
        "\u2191'One' 'Two' 'Three'"
      ]
    },
    {
      "cell_type": "markdown",
      "id": "fiscal-founder",
      "metadata": {},
      "source": [
        "Let us now work with a nested matrix:"
      ]
    },
    {
      "cell_type": "code",
      "execution_count": 90,
      "id": "geographic-prompt",
      "metadata": {},
      "outputs": [
        {
          "data": {
            "text/html": [
              "<span style=\"white-space:pre; font-family: monospace\">\u250c\u2500\u2500\u2500\u2500\u252c\u2500\u2500\u2500\u2500\u252c\u2500\u2500\u2500\u2500\u2510\n",
              "\u2502John\u2502Mike\u2502Anna\u2502\n",
              "\u251c\u2500\u2500\u2500\u2500\u253c\u2500\u2500\u2500\u2500\u253c\u2500\u2500\u2500\u2500\u2524\n",
              "\u2502Noah\u2502Suzy\u2502Paul\u2502\n",
              "\u2514\u2500\u2500\u2500\u2500\u2534\u2500\u2500\u2500\u2500\u2534\u2500\u2500\u2500\u2500\u2518\n",
              "</span>"
            ]
          },
          "execution_count": 90,
          "metadata": {},
          "output_type": "execute_result"
        }
      ],
      "source": [
        "\u2395\u2190 friends \u2190 2 3\u2374'John' 'Mike' 'Anna' 'Noah' 'Suzy' 'Paul'"
      ]
    },
    {
      "cell_type": "markdown",
      "id": "handy-variable",
      "metadata": {},
      "source": [
        "The shape of this matrix is `2 3`, and its items are all of length `4`.\n",
        "So, _mix_ can produce three different results, according to axis specifications as follows:\n",
        "\n",
        "| With the axis | the new dimension is inserted | and the resulting shape is |\n",
        "| -: | -: | -: |\n",
        "| `[2.5]` | after `2 3` | <code>  2   3 4</code> |\n",
        "| `[1.5]` | between `2` and `3` | <code>  2 4 3  </code> |\n",
        "| `[0.5]` | before `2 3` | <code>4 2   3  </code> |"
      ]
    },
    {
      "cell_type": "markdown",
      "id": "increasing-annex",
      "metadata": {},
      "source": [
        "Each of these three cases is illustrated below."
      ]
    },
    {
      "cell_type": "code",
      "execution_count": 142,
      "id": "diagnostic-thursday",
      "metadata": {},
      "outputs": [
        {
          "data": {
            "text/html": [
              "<span style=\"white-space:pre; font-family: monospace\">John\n",
              "Mike\n",
              "Anna\n",
              "    \n",
              "Noah\n",
              "Suzy\n",
              "Paul\n",
              "</span>"
            ]
          },
          "execution_count": 142,
          "metadata": {},
          "output_type": "execute_result"
        }
      ],
      "source": [
        "\u2191[2.5]friends    \u235d Default case, [2.5] was unnecessary."
      ]
    },
    {
      "cell_type": "code",
      "execution_count": 143,
      "id": "noticed-software",
      "metadata": {},
      "outputs": [
        {
          "data": {
            "text/html": [
              "<span style=\"white-space:pre; font-family: monospace\">2 3 4\n",
              "</span>"
            ]
          },
          "execution_count": 143,
          "metadata": {},
          "output_type": "execute_result"
        }
      ],
      "source": [
        "\u2374\u2191[2.5]friends"
      ]
    },
    {
      "cell_type": "code",
      "execution_count": 144,
      "id": "approximate-boundary",
      "metadata": {},
      "outputs": [
        {
          "data": {
            "text/html": [
              "<span style=\"white-space:pre; font-family: monospace\">JMA\n",
              "oin\n",
              "hkn\n",
              "nea\n",
              "   \n",
              "NSP\n",
              "oua\n",
              "azu\n",
              "hyl\n",
              "</span>"
            ]
          },
          "execution_count": 144,
          "metadata": {},
          "output_type": "execute_result"
        }
      ],
      "source": [
        "\u2191[1.5]friends"
      ]
    },
    {
      "cell_type": "code",
      "execution_count": 145,
      "id": "greater-blind",
      "metadata": {},
      "outputs": [
        {
          "data": {
            "text/html": [
              "<span style=\"white-space:pre; font-family: monospace\">2 4 3\n",
              "</span>"
            ]
          },
          "execution_count": 145,
          "metadata": {},
          "output_type": "execute_result"
        }
      ],
      "source": [
        "\u2374\u2191[1.5]friends"
      ]
    },
    {
      "cell_type": "code",
      "execution_count": 146,
      "id": "stuffed-services",
      "metadata": {},
      "outputs": [
        {
          "data": {
            "text/html": [
              "<span style=\"white-space:pre; font-family: monospace\">JMA\n",
              "NSP\n",
              "   \n",
              "oin\n",
              "oua\n",
              "   \n",
              "hkn\n",
              "azu\n",
              "   \n",
              "nea\n",
              "hyl\n",
              "</span>"
            ]
          },
          "execution_count": 146,
          "metadata": {},
          "output_type": "execute_result"
        }
      ],
      "source": [
        "\u2191[0.5]friends"
      ]
    },
    {
      "cell_type": "code",
      "execution_count": 147,
      "id": "subsequent-parking",
      "metadata": {},
      "outputs": [
        {
          "data": {
            "text/html": [
              "<span style=\"white-space:pre; font-family: monospace\">4 2 3\n",
              "</span>"
            ]
          },
          "execution_count": 147,
          "metadata": {},
          "output_type": "execute_result"
        }
      ],
      "source": [
        "\u2374\u2191[0.5]friends"
      ]
    },
    {
      "cell_type": "markdown",
      "id": "accomplished-timer",
      "metadata": {},
      "source": [
        "In the first example, the names are placed \"horizontally\" as rows in two sub-matrices.\n",
        "\n",
        "In the second case, they are placed \"vertically\" in columns.\n",
        "\n",
        "The third case is more difficult to read; the names are positioned perpendicularly to the matrices, with one letter in each.\n",
        "You might like to imagine that the letters are arranged in a cube, and that you are viewing it from three different positions.\n",
        "\n",
        "Notice that, naturally, there is a connection between using `\u2191[k]` and using _mix_ followed by _dyadic transpose_.\n",
        "\n",
        "The tables above have shown that the main difference between using the default _mix_, or using _mix_ with _axis_, pertains to the place where the new axis gets inserted into the shape of the result.\n",
        "Therefore, one can always use _dyadic transpose_ after _mix_ to shuffle the axis of the result to the intended position.\n",
        "\n",
        "Let us revisit the examples above using `friends`.\n",
        "\n",
        "`\u2191[0.5]friends` will have a resulting shape of `4 2 3`, while `\u2191friends` has a shape of `2 3 4`.\n",
        "Therefore, _dyadic transpose_ needs to move the last axis of `\u2191friends` to the front:"
      ]
    },
    {
      "cell_type": "code",
      "execution_count": 91,
      "id": "editorial-visibility",
      "metadata": {},
      "outputs": [
        {
          "data": {
            "text/html": [
              "<span style=\"white-space:pre; font-family: monospace\">JMA\n",
              "NSP\n",
              "   \n",
              "oin\n",
              "oua\n",
              "   \n",
              "hkn\n",
              "azu\n",
              "   \n",
              "nea\n",
              "hyl\n",
              "</span>"
            ]
          },
          "execution_count": 91,
          "metadata": {},
          "output_type": "execute_result"
        }
      ],
      "source": [
        "2 3 1\u2349\u2191friends"
      ]
    },
    {
      "cell_type": "code",
      "execution_count": 92,
      "id": "potential-cisco",
      "metadata": {},
      "outputs": [
        {
          "data": {
            "text/html": [
              "<span style=\"white-space:pre; font-family: monospace\">1\n",
              "</span>"
            ]
          },
          "execution_count": 92,
          "metadata": {},
          "output_type": "execute_result"
        }
      ],
      "source": [
        "(\u2191[0.5]friends)\u22612 3 1\u2349\u2191friends"
      ]
    },
    {
      "cell_type": "markdown",
      "id": "mental-poker",
      "metadata": {},
      "source": [
        "Recall that the left argument of _dyadic transpose_ tells you the position to which each axis goes.\n",
        "If `la` is the left argument of dyadic transpose, `la \u2190 2 3 1`, then `la[1]` tells us where the 1st axis goes, `la[2]` tells us where the 2nd axis goes, and `la[3]` tells us where the 3rd (and last) axis goes.\n",
        "\n",
        "Because `la[3]` is `1`, we know that the last axis (which was created by _mix_) will now become the first axis, and the axes that were in positions `1` and `2` will move one position down, to `2` and `3`.\n",
        "\n",
        "Similarly, we can determine what should be the left argument to _dyadic transpose_ if we were to use it instead of doing `\u2191[1.5]friends`.\n",
        "With `\u2191[1.5]`, we want the new axis to go in the middle.\n",
        "If we work from `\u2191friends`, the last axis in `\u2191friends` needs to go to position `2`, so we have `la \u2190 ? ? 2`.\n",
        "We just have to fill in the rest of the left argument, making sure that the original axes remain ordered:"
      ]
    },
    {
      "cell_type": "code",
      "execution_count": 93,
      "id": "figured-dealer",
      "metadata": {},
      "outputs": [
        {
          "data": {
            "text/html": [
              "<span style=\"white-space:pre; font-family: monospace\">JMA\n",
              "oin\n",
              "hkn\n",
              "nea\n",
              "   \n",
              "NSP\n",
              "oua\n",
              "azu\n",
              "hyl\n",
              "</span>"
            ]
          },
          "execution_count": 93,
          "metadata": {},
          "output_type": "execute_result"
        }
      ],
      "source": [
        "la \u2190 1 3 2\n",
        "la\u2349\u2191friends"
      ]
    },
    {
      "cell_type": "code",
      "execution_count": 94,
      "id": "electoral-beach",
      "metadata": {},
      "outputs": [
        {
          "data": {
            "text/html": [
              "<span style=\"white-space:pre; font-family: monospace\">1\n",
              "</span>"
            ]
          },
          "execution_count": 94,
          "metadata": {},
          "output_type": "execute_result"
        }
      ],
      "source": [
        "(\u2191[1.5]friends)\u2261la\u2349\u2191friends"
      ]
    },
    {
      "cell_type": "markdown",
      "id": "identical-travel",
      "metadata": {},
      "source": [
        "(Nested-Arrays-Continued-Type-Prototype-Fill-Item)=\n",
        "## Type, Prototype, Fill Item\n",
        "\n",
        "Some operations like _expand_ or _take_ may insert new additional items into an array.\n",
        "Up to now, things were _simple_; numeric arrays were expanded with zeroes and character arrays were expanded with blanks.\n",
        "But what will happen if the array contains both numbers and characters (a _mixed_ array), or if it is a nested array?\n",
        "\n",
        "We need a variable to experiment a little:"
      ]
    },
    {
      "cell_type": "code",
      "execution_count": 113,
      "id": "prepared-daisy",
      "metadata": {},
      "outputs": [
        {
          "data": {
            "text/html": [
              "<span style=\"white-space:pre; font-family: monospace\">\u250c\u2500\u2500\u252c\u2500\u2500\u2500\u252c\u2500\u252c\u2500\u2500\u2500\u2500\u2500\u2500\u2500\u2500\u2510\n",
              "\u250219\u25021 2\u2502A\u2502\u250c\u2500\u2500\u2500\u2500\u252c\u2500\u2510\u2502\n",
              "\u2502  \u25023 4\u2502P\u2502\u25025   \u25028\u2502\u2502\n",
              "\u2502  \u2502   \u2502L\u2502\u251c\u2500\u2500\u2500\u2500\u253c\u2500\u2524\u2502\n",
              "\u2502  \u2502   \u2502 \u2502\u2502Nuts\u25029\u2502\u2502\n",
              "\u2502  \u2502   \u2502 \u2502\u2514\u2500\u2500\u2500\u2500\u2534\u2500\u2518\u2502\n",
              "\u2514\u2500\u2500\u2534\u2500\u2500\u2500\u2534\u2500\u2534\u2500\u2500\u2500\u2500\u2500\u2500\u2500\u2500\u2518\n",
              "</span>"
            ]
          },
          "execution_count": 113,
          "metadata": {},
          "output_type": "execute_result"
        }
      ],
      "source": [
        "\u2395\u2190 hogwash \u2190 19 (2 2\u2374\u23734) (3 1\u2374'APL') (2 2\u23745 8 'Nuts' 9)"
      ]
    },
    {
      "cell_type": "markdown",
      "id": "distant-placement",
      "metadata": {},
      "source": [
        "What would be the result of expressions like `6\u2191hogwash` or `1 1 0 1 0 1\\hogwash`?\n",
        "\n",
        "In general, when expanding an array, APL inserts _fill items_, and it does so using the _prototype_ of the array.\n",
        "In order to understand what the _prototype_ of `hogwash` is, we first need to understand what the _type_ of an array is.\n",
        "\n",
        "```{admonition} Definition \n",
        ":class: note\n",
        "The _type_ of an array is an array with the exact same structure (shape, rank, and depth, for all levels of nesting) in which all numbers are replaced by zeroes and all characters are replaced by blanks.\n",
        "```\n",
        "\n",
        "For example, here is the _type_ of `hogwash`:"
      ]
    },
    {
      "cell_type": "code",
      "execution_count": 116,
      "id": "quarterly-variation",
      "metadata": {},
      "outputs": [
        {
          "data": {
            "text/html": [
              "<span style=\"white-space:pre; font-family: monospace\">\u250c\u2500\u252c\u2500\u2500\u2500\u252c\u2500\u252c\u2500\u2500\u2500\u2500\u2500\u2500\u2500\u2500\u2510\n",
              "\u25020\u25020 0\u2502 \u2502\u250c\u2500\u2500\u2500\u2500\u252c\u2500\u2510\u2502\n",
              "\u2502 \u25020 0\u2502 \u2502\u25020   \u25020\u2502\u2502\n",
              "\u2502 \u2502   \u2502 \u2502\u251c\u2500\u2500\u2500\u2500\u253c\u2500\u2524\u2502\n",
              "\u2502 \u2502   \u2502 \u2502\u2502    \u25020\u2502\u2502\n",
              "\u2502 \u2502   \u2502 \u2502\u2514\u2500\u2500\u2500\u2500\u2534\u2500\u2518\u2502\n",
              "\u2514\u2500\u2534\u2500\u2500\u2500\u2534\u2500\u2534\u2500\u2500\u2500\u2500\u2500\u2500\u2500\u2500\u2518\n",
              "</span>"
            ]
          },
          "execution_count": 116,
          "metadata": {},
          "output_type": "execute_result"
        }
      ],
      "source": [
        "\u2395\u2190 hogwashType \u2190 0 (2 2\u23740) (3 1\u2374' ') (2 2\u23740 0 '    ' 0)"
      ]
    },
    {
      "cell_type": "markdown",
      "id": "driven-identifier",
      "metadata": {},
      "source": [
        "As we can (not) see, the _type_ of a nested array may be difficult to interpret because of the invisible blanks:"
      ]
    },
    {
      "cell_type": "code",
      "execution_count": 154,
      "id": "stopped-ceremony",
      "metadata": {},
      "outputs": [
        {
          "data": {
            "text/html": [
              "<span style=\"white-space:pre; font-family: monospace\">\u250c\u2192\u2500\u2500\u2500\u2500\u2500\u2500\u2500\u2500\u2500\u2500\u2500\u2500\u2500\u2500\u2500\u2500\u2500\u2500\u2500\u2500\u2500\u2500\u2500\u2500\u2500\u2510\n",
              "\u2502   \u250c\u2192\u2500\u2500\u2510 \u250c\u2192\u2510 \u250c\u2192\u2500\u2500\u2500\u2500\u2500\u2500\u2500\u2500\u2500\u2510 \u2502\n",
              "\u2502 0 \u21930 0\u2502 \u2193 \u2502 \u2193          \u2502 \u2502\n",
              "\u2502   \u25020 0\u2502 \u2502 \u2502 \u2502 0      0 \u2502 \u2502\n",
              "\u2502   \u2514~\u2500\u2500\u2518 \u2502 \u2502 \u2502          \u2502 \u2502\n",
              "\u2502         \u2514\u2500\u2518 \u2502 \u250c\u2192\u2500\u2500\u2500\u2510   \u2502 \u2502\n",
              "\u2502             \u2502 \u2502    \u2502 0 \u2502 \u2502\n",
              "\u2502             \u2502 \u2514\u2500\u2500\u2500\u2500\u2518   \u2502 \u2502\n",
              "\u2502             \u2514\u220a\u2500\u2500\u2500\u2500\u2500\u2500\u2500\u2500\u2500\u2518 \u2502\n",
              "\u2514\u220a\u2500\u2500\u2500\u2500\u2500\u2500\u2500\u2500\u2500\u2500\u2500\u2500\u2500\u2500\u2500\u2500\u2500\u2500\u2500\u2500\u2500\u2500\u2500\u2500\u2500\u2518\n",
              "</span>"
            ]
          },
          "execution_count": 154,
          "metadata": {},
          "output_type": "execute_result"
        }
      ],
      "source": [
        "]display hogwashType"
      ]
    },
    {
      "cell_type": "markdown",
      "id": "joint-payday",
      "metadata": {},
      "source": [
        "Having defined what the _type_ of an array is, we can define what the _prototype_ of an array is:\n",
        "\n",
        "```{admonition} Definition \n",
        ":class: note\n",
        "\n",
        "In other words, the _prototype_ of an array is its first item, in which all numbers are replaced by zeroes and all characters are replaced by blanks.\n",
        "\n",
        "The _prototype_ of an array is used as a _fill item_ whenever an operation needs to create additional items.\n",
        "```\n"
      ]
    },
    {
      "cell_type": "markdown",
      "id": "distant-minnesota",
      "metadata": {},
      "source": [
        "The first item of `hogwash` is a number, so the _prototype_ of `hogwash` is a single zero.\n",
        "If we lengthen the vector using _overtake_, it will be padded with zeroes (fill items):"
      ]
    },
    {
      "cell_type": "code",
      "execution_count": 155,
      "id": "vulnerable-belgium",
      "metadata": {},
      "outputs": [
        {
          "data": {
            "text/html": [
              "<span style=\"white-space:pre; font-family: monospace\">\u250c\u2500\u2500\u252c\u2500\u2500\u2500\u252c\u2500\u252c\u2500\u2500\u2500\u2500\u2500\u2500\u2500\u2500\u252c\u2500\u252c\u2500\u2510\n",
              "\u250219\u25021 2\u2502A\u2502\u250c\u2500\u2500\u2500\u2500\u252c\u2500\u2510\u25020\u25020\u2502\n",
              "\u2502  \u25023 4\u2502P\u2502\u25025   \u25028\u2502\u2502 \u2502 \u2502\n",
              "\u2502  \u2502   \u2502L\u2502\u251c\u2500\u2500\u2500\u2500\u253c\u2500\u2524\u2502 \u2502 \u2502\n",
              "\u2502  \u2502   \u2502 \u2502\u2502Nuts\u25029\u2502\u2502 \u2502 \u2502\n",
              "\u2502  \u2502   \u2502 \u2502\u2514\u2500\u2500\u2500\u2500\u2534\u2500\u2518\u2502 \u2502 \u2502\n",
              "\u2514\u2500\u2500\u2534\u2500\u2500\u2500\u2534\u2500\u2534\u2500\u2500\u2500\u2500\u2500\u2500\u2500\u2500\u2534\u2500\u2534\u2500\u2518\n",
              "</span>"
            ]
          },
          "execution_count": 155,
          "metadata": {},
          "output_type": "execute_result"
        }
      ],
      "source": [
        "6\u2191hogwash"
      ]
    },
    {
      "cell_type": "markdown",
      "id": "pacific-lighting",
      "metadata": {},
      "source": [
        "Similarly, if we _expand_ the array, the new items will also be zeroes:"
      ]
    },
    {
      "cell_type": "code",
      "execution_count": 156,
      "id": "moving-might",
      "metadata": {},
      "outputs": [
        {
          "data": {
            "text/html": [
              "<span style=\"white-space:pre; font-family: monospace\">\u250c\u2500\u2500\u252c\u2500\u2500\u2500\u252c\u2500\u252c\u2500\u252c\u2500\u252c\u2500\u2500\u2500\u2500\u2500\u2500\u2500\u2500\u2510\n",
              "\u250219\u25021 2\u25020\u2502A\u25020\u2502\u250c\u2500\u2500\u2500\u2500\u252c\u2500\u2510\u2502\n",
              "\u2502  \u25023 4\u2502 \u2502P\u2502 \u2502\u25025   \u25028\u2502\u2502\n",
              "\u2502  \u2502   \u2502 \u2502L\u2502 \u2502\u251c\u2500\u2500\u2500\u2500\u253c\u2500\u2524\u2502\n",
              "\u2502  \u2502   \u2502 \u2502 \u2502 \u2502\u2502Nuts\u25029\u2502\u2502\n",
              "\u2502  \u2502   \u2502 \u2502 \u2502 \u2502\u2514\u2500\u2500\u2500\u2500\u2534\u2500\u2518\u2502\n",
              "\u2514\u2500\u2500\u2534\u2500\u2500\u2500\u2534\u2500\u2534\u2500\u2534\u2500\u2534\u2500\u2500\u2500\u2500\u2500\u2500\u2500\u2500\u2518\n",
              "</span>"
            ]
          },
          "execution_count": 156,
          "metadata": {},
          "output_type": "execute_result"
        }
      ],
      "source": [
        "1 1 0 1 0 1\\hogwash"
      ]
    },
    {
      "cell_type": "markdown",
      "id": "christian-first",
      "metadata": {},
      "source": [
        "Let us rotate the vector by one position:"
      ]
    },
    {
      "cell_type": "code",
      "execution_count": 157,
      "id": "hispanic-floating",
      "metadata": {},
      "outputs": [],
      "source": [
        "hogwash \u2190 1\u233dhogwash"
      ]
    },
    {
      "cell_type": "markdown",
      "id": "fluid-ethiopia",
      "metadata": {},
      "source": [
        "Now, the first item is a numeric matrix:"
      ]
    },
    {
      "cell_type": "code",
      "execution_count": 158,
      "id": "attractive-jordan",
      "metadata": {},
      "outputs": [
        {
          "data": {
            "text/html": [
              "<span style=\"white-space:pre; font-family: monospace\">1 2\n",
              "3 4\n",
              "</span>"
            ]
          },
          "execution_count": 158,
          "metadata": {},
          "output_type": "execute_result"
        }
      ],
      "source": [
        "\u2283hogwash"
      ]
    },
    {
      "cell_type": "markdown",
      "id": "apart-gardening",
      "metadata": {},
      "source": [
        "Therefore, the prototype of `hogwash` is now"
      ]
    },
    {
      "cell_type": "code",
      "execution_count": 159,
      "id": "cooperative-trust",
      "metadata": {},
      "outputs": [
        {
          "data": {
            "text/html": [
              "<span style=\"white-space:pre; font-family: monospace\">0 0\n",
              "0 0\n",
              "</span>"
            ]
          },
          "execution_count": 159,
          "metadata": {},
          "output_type": "execute_result"
        }
      ],
      "source": [
        "2 2\u23740"
      ]
    },
    {
      "cell_type": "markdown",
      "id": "handled-immigration",
      "metadata": {},
      "source": [
        "If we take six items from `hogwash`, two such matrices will be added:"
      ]
    },
    {
      "cell_type": "code",
      "execution_count": 160,
      "id": "catholic-triumph",
      "metadata": {},
      "outputs": [
        {
          "data": {
            "text/html": [
              "<span style=\"white-space:pre; font-family: monospace\">\u250c\u2500\u2500\u2500\u252c\u2500\u252c\u2500\u2500\u2500\u2500\u2500\u2500\u2500\u2500\u252c\u2500\u2500\u252c\u2500\u2500\u2500\u252c\u2500\u2500\u2500\u2510\n",
              "\u25021 2\u2502A\u2502\u250c\u2500\u2500\u2500\u2500\u252c\u2500\u2510\u250219\u25020 0\u25020 0\u2502\n",
              "\u25023 4\u2502P\u2502\u25025   \u25028\u2502\u2502  \u25020 0\u25020 0\u2502\n",
              "\u2502   \u2502L\u2502\u251c\u2500\u2500\u2500\u2500\u253c\u2500\u2524\u2502  \u2502   \u2502   \u2502\n",
              "\u2502   \u2502 \u2502\u2502Nuts\u25029\u2502\u2502  \u2502   \u2502   \u2502\n",
              "\u2502   \u2502 \u2502\u2514\u2500\u2500\u2500\u2500\u2534\u2500\u2518\u2502  \u2502   \u2502   \u2502\n",
              "\u2514\u2500\u2500\u2500\u2534\u2500\u2534\u2500\u2500\u2500\u2500\u2500\u2500\u2500\u2500\u2534\u2500\u2500\u2534\u2500\u2500\u2500\u2534\u2500\u2500\u2500\u2518\n",
              "</span>"
            ]
          },
          "execution_count": 160,
          "metadata": {},
          "output_type": "execute_result"
        }
      ],
      "source": [
        "6\u2191hogwash"
      ]
    },
    {
      "cell_type": "markdown",
      "id": "relative-breath",
      "metadata": {},
      "source": [
        "Let us rotate the variable once more:"
      ]
    },
    {
      "cell_type": "code",
      "execution_count": 161,
      "id": "subtle-spider",
      "metadata": {},
      "outputs": [],
      "source": [
        "hogwash \u2190 1\u233dhogwash"
      ]
    },
    {
      "cell_type": "markdown",
      "id": "external-lobby",
      "metadata": {},
      "source": [
        "Now, the first item is a little 3 by 1 character matrix containing the letters `'APL'`.\n",
        "So, the _prototype_ will be a 3 by 1 character matrix containing three blank spaces.\n",
        "This is the array that will be used by _expand_ as the fill item.\n",
        "Let us verify it:"
      ]
    },
    {
      "cell_type": "code",
      "execution_count": 162,
      "id": "religious-badge",
      "metadata": {},
      "outputs": [
        {
          "data": {
            "text/html": [
              "<span style=\"white-space:pre; font-family: monospace\">\u250c\u2192\u2500\u2500\u2500\u2500\u2500\u2500\u2500\u2500\u2500\u2500\u2500\u2500\u2500\u2500\u2500\u2500\u2500\u2500\u2500\u2500\u2500\u2500\u2500\u2500\u2500\u2500\u2500\u2500\u2500\u2500\u2500\u2500\u2500\u2500\u2510\n",
              "\u2502 \u250c\u2192\u2510 \u250c\u2192\u2500\u2500\u2500\u2500\u2500\u2500\u2500\u2500\u2500\u2510 \u250c\u2192\u2510    \u250c\u2192\u2510 \u250c\u2192\u2500\u2500\u2510 \u2502\n",
              "\u2502 \u2193A\u2502 \u2193          \u2502 \u2193 \u2502 19 \u2193 \u2502 \u21931 2\u2502 \u2502\n",
              "\u2502 \u2502P\u2502 \u2502 5      8 \u2502 \u2502 \u2502    \u2502 \u2502 \u25023 4\u2502 \u2502\n",
              "\u2502 \u2502L\u2502 \u2502          \u2502 \u2502 \u2502    \u2502 \u2502 \u2514~\u2500\u2500\u2518 \u2502\n",
              "\u2502 \u2514\u2500\u2518 \u2502 \u250c\u2192\u2500\u2500\u2500\u2510   \u2502 \u2514\u2500\u2518    \u2514\u2500\u2518       \u2502\n",
              "\u2502     \u2502 \u2502Nuts\u2502 9 \u2502                  \u2502\n",
              "\u2502     \u2502 \u2514\u2500\u2500\u2500\u2500\u2518   \u2502                  \u2502\n",
              "\u2502     \u2514\u220a\u2500\u2500\u2500\u2500\u2500\u2500\u2500\u2500\u2500\u2518                  \u2502\n",
              "\u2514\u220a\u2500\u2500\u2500\u2500\u2500\u2500\u2500\u2500\u2500\u2500\u2500\u2500\u2500\u2500\u2500\u2500\u2500\u2500\u2500\u2500\u2500\u2500\u2500\u2500\u2500\u2500\u2500\u2500\u2500\u2500\u2500\u2500\u2500\u2500\u2518\n",
              "</span>"
            ]
          },
          "execution_count": 162,
          "metadata": {},
          "output_type": "execute_result"
        }
      ],
      "source": [
        "]display 1 1 0 1 0 1\\hogwash"
      ]
    },
    {
      "cell_type": "markdown",
      "id": "mexican-thompson",
      "metadata": {},
      "source": [
        "If we repeat the rotation, the first item will be a nested matrix.\n",
        "So, the _prototype_ (and hence, also the fill item) will be a 2 by 2 nested matrix.\n",
        "Let us try to _overtake_ again:"
      ]
    },
    {
      "cell_type": "code",
      "execution_count": 163,
      "id": "plastic-sphere",
      "metadata": {},
      "outputs": [],
      "source": [
        "hogwash \u2190 1\u233dhogwash"
      ]
    },
    {
      "cell_type": "code",
      "execution_count": 164,
      "id": "bright-metabolism",
      "metadata": {},
      "outputs": [
        {
          "data": {
            "text/html": [
              "<span style=\"white-space:pre; font-family: monospace\">\u250c\u2192\u2500\u2500\u2500\u2500\u2500\u2500\u2500\u2500\u2500\u2500\u2500\u2500\u2500\u2500\u2500\u2500\u2500\u2500\u2500\u2500\u2500\u2500\u2500\u2500\u2500\u2500\u2500\u2500\u2500\u2500\u2500\u2500\u2500\u2500\u2500\u2500\u2500\u2500\u2500\u2500\u2500\u2500\u2500\u2500\u2500\u2500\u2500\u2500\u2500\u2500\u2500\u2500\u2510\n",
              "\u2502 \u250c\u2192\u2500\u2500\u2500\u2500\u2500\u2500\u2500\u2500\u2500\u2510    \u250c\u2192\u2500\u2500\u2510 \u250c\u2192\u2510 \u250c\u2192\u2500\u2500\u2500\u2500\u2500\u2500\u2500\u2500\u2500\u2510 \u250c\u2192\u2500\u2500\u2500\u2500\u2500\u2500\u2500\u2500\u2500\u2510 \u2502\n",
              "\u2502 \u2193          \u2502 19 \u21931 2\u2502 \u2193A\u2502 \u2193          \u2502 \u2193          \u2502 \u2502\n",
              "\u2502 \u2502 5      8 \u2502    \u25023 4\u2502 \u2502P\u2502 \u2502 0      0 \u2502 \u2502 0      0 \u2502 \u2502\n",
              "\u2502 \u2502          \u2502    \u2514~\u2500\u2500\u2518 \u2502L\u2502 \u2502          \u2502 \u2502          \u2502 \u2502\n",
              "\u2502 \u2502 \u250c\u2192\u2500\u2500\u2500\u2510   \u2502          \u2514\u2500\u2518 \u2502 \u250c\u2192\u2500\u2500\u2500\u2510   \u2502 \u2502 \u250c\u2192\u2500\u2500\u2500\u2510   \u2502 \u2502\n",
              "\u2502 \u2502 \u2502Nuts\u2502 9 \u2502              \u2502 \u2502    \u2502 0 \u2502 \u2502 \u2502    \u2502 0 \u2502 \u2502\n",
              "\u2502 \u2502 \u2514\u2500\u2500\u2500\u2500\u2518   \u2502              \u2502 \u2514\u2500\u2500\u2500\u2500\u2518   \u2502 \u2502 \u2514\u2500\u2500\u2500\u2500\u2518   \u2502 \u2502\n",
              "\u2502 \u2514\u220a\u2500\u2500\u2500\u2500\u2500\u2500\u2500\u2500\u2500\u2518              \u2514\u220a\u2500\u2500\u2500\u2500\u2500\u2500\u2500\u2500\u2500\u2518 \u2514\u220a\u2500\u2500\u2500\u2500\u2500\u2500\u2500\u2500\u2500\u2518 \u2502\n",
              "\u2514\u220a\u2500\u2500\u2500\u2500\u2500\u2500\u2500\u2500\u2500\u2500\u2500\u2500\u2500\u2500\u2500\u2500\u2500\u2500\u2500\u2500\u2500\u2500\u2500\u2500\u2500\u2500\u2500\u2500\u2500\u2500\u2500\u2500\u2500\u2500\u2500\u2500\u2500\u2500\u2500\u2500\u2500\u2500\u2500\u2500\u2500\u2500\u2500\u2500\u2500\u2500\u2500\u2500\u2518\n",
              "</span>"
            ]
          },
          "execution_count": 164,
          "metadata": {},
          "output_type": "execute_result"
        }
      ],
      "source": [
        "]display 6\u2191hogwash"
      ]
    },
    {
      "cell_type": "markdown",
      "id": "productive-penalty",
      "metadata": {},
      "source": [
        "Obviously, fill items are generally only useful for arrays whose items have a uniform structure.\n",
        "\n",
        "We will talk a bit about computing the type and prototype of arrays in {numref}`Nested-Arrays-Continued-Computing-the-Type-and-Prototype`."
      ]
    },
    {
      "cell_type": "markdown",
      "id": "through-inspector",
      "metadata": {},
      "source": [
        "(Nested-Arrays-Continued-Pick)=\n",
        "## Pick\n",
        "\n",
        "(Nested-Arrays-Continued-Definition)=\n",
        "### Definition\n",
        "\n",
        "Whenever you need to select one (and only one) item from an array, you can use the dyadic function _pick_, represented by the symbol `\u2283`.\n",
        "What makes _pick_ different from ordinary indexing is that it is possible to \"dig into\" a nested array and pick an item at any level of nesting, and that it discloses the result.\n",
        "The latter is probably the reason why _pick_ and the monadic function _disclose_ use the same symbol.\n",
        "\n",
        "The syntax of _pick_ is as follows: `r \u2190 path \u2283 data`.\n",
        "\n",
        "The left argument is a scalar or a vector which specifies the _path_ that leads to the desired item.\n",
        "Each item of `path` is the index or set of indices needed to reach the item at the corresponding level of depth of the array.\n",
        "\n",
        "The operation starts at the outermost level and goes deeper and deeper into the levels of nesting.\n",
        "At each level, the selected item is disclosed before applying the next level of selection.\n",
        "\n",
        "We shall work with the nested matrix `weird` from a previous section:"
      ]
    },
    {
      "cell_type": "code",
      "execution_count": 165,
      "id": "strong-lotus",
      "metadata": {},
      "outputs": [
        {
          "data": {
            "text/html": [
              "<span style=\"white-space:pre; font-family: monospace\">\u250c\u2500\u2500\u2500\u2500\u2500\u252c\u2500\u2500\u2500\u2500\u2500\u2500\u2500\u2500\u2500\u2500\u2500\u2500\u2510\n",
              "\u2502456  \u2502\u250c\u2500\u2500\u2500\u2500\u2500\u2500\u252c\u2500\u2500\u2500\u2510\u2502\n",
              "\u2502     \u2502\u2502Dyalog\u250244 \u2502\u2502\n",
              "\u2502     \u2502\u251c\u2500\u2500\u2500\u2500\u2500\u2500\u253c\u2500\u2500\u2500\u2524\u2502\n",
              "\u2502     \u2502\u250227    \u25028 6\u2502\u2502\n",
              "\u2502     \u2502\u2502      \u25022 4\u2502\u2502\n",
              "\u2502     \u2502\u2514\u2500\u2500\u2500\u2500\u2500\u2500\u2534\u2500\u2500\u2500\u2518\u2502\n",
              "\u251c\u2500\u2500\u2500\u2500\u2500\u253c\u2500\u2500\u2500\u2500\u2500\u2500\u2500\u2500\u2500\u2500\u2500\u2500\u2524\n",
              "\u250217 51\u2502Twisted     \u2502\n",
              "\u2514\u2500\u2500\u2500\u2500\u2500\u2534\u2500\u2500\u2500\u2500\u2500\u2500\u2500\u2500\u2500\u2500\u2500\u2500\u2518\n",
              "</span>"
            ]
          },
          "execution_count": 165,
          "metadata": {},
          "output_type": "execute_result"
        }
      ],
      "source": [
        "\u2395\u2190 weird \u2190 2 2\u2374456 (2 2\u2374 'Dyalog' 44 27 (2 2\u23748 6 2 4)) (17 51) 'Twisted'"
      ]
    },
    {
      "cell_type": "markdown",
      "id": "particular-department",
      "metadata": {},
      "source": [
        "Let us try to select the value `51`.\n",
        "\n",
        "To select the `51` we must first select the vector located in row 2, column 1 of the matrix, and then select the second item of that vector.\n",
        "This is how we express this selection using _pick_:"
      ]
    },
    {
      "cell_type": "code",
      "execution_count": 166,
      "id": "several-tulsa",
      "metadata": {},
      "outputs": [
        {
          "data": {
            "text/html": [
              "<span style=\"white-space:pre; font-family: monospace\">51\n",
              "</span>"
            ]
          },
          "execution_count": 166,
          "metadata": {},
          "output_type": "execute_result"
        }
      ],
      "source": [
        "(2 1) 2 \u2283 weird"
      ]
    },
    {
      "cell_type": "markdown",
      "id": "economic-choir",
      "metadata": {},
      "source": [
        "The left argument `(2 1) 2` is a 2-item vector because we need to select at two levels of nesting.\n",
        "\n",
        "Using simple indexing and explicit disclosing we need a much more complicated expression to obtain the same selection:"
      ]
    },
    {
      "cell_type": "code",
      "execution_count": 167,
      "id": "special-listening",
      "metadata": {},
      "outputs": [
        {
          "data": {
            "text/html": [
              "<span style=\"white-space:pre; font-family: monospace\">51\n",
              "</span>"
            ]
          },
          "execution_count": 167,
          "metadata": {},
          "output_type": "execute_result"
        }
      ],
      "source": [
        "\u2283(\u2283weird[2;1])[2]"
      ]
    },
    {
      "cell_type": "markdown",
      "id": "unauthorized-finish",
      "metadata": {},
      "source": [
        "Although, to be fair, in this special case the leftmost `\u2283` was not required.\n",
        "(Can you figure out why?)\n",
        "\n",
        "We can also select the letter \"g\" within \"Dyalog\".\n",
        "To do so, we must first select the matrix located in row 1, column 2.\n",
        "Within this matrix, we must select the character vector located in row 1, column 1.\n",
        "Finally, we must select the 6th item of that character vector:"
      ]
    },
    {
      "cell_type": "code",
      "execution_count": 168,
      "id": "simple-campaign",
      "metadata": {},
      "outputs": [
        {
          "data": {
            "text/html": [
              "<span style=\"white-space:pre; font-family: monospace\">g\n",
              "</span>"
            ]
          },
          "execution_count": 168,
          "metadata": {},
          "output_type": "execute_result"
        }
      ],
      "source": [
        "(1 2) (1 1) 6 \u2283 weird"
      ]
    },
    {
      "cell_type": "markdown",
      "id": "sharing-paragraph",
      "metadata": {},
      "source": [
        "This time, the left argument is a 3-item vector because we need to select at three levels of nesting:\n",
        "\n",
        " - `(1 2)` is the set of indices for the selection at the outermost level of depth;\n",
        " - `(1 1)` is the set of indices for the selection at the second level of depth; and\n",
        " - `6` is the index for the selection at the third level of depth."
      ]
    },
    {
      "cell_type": "markdown",
      "id": "turned-indication",
      "metadata": {},
      "source": [
        "Using simple indexing, this selection is almost obscure:"
      ]
    },
    {
      "cell_type": "code",
      "execution_count": 169,
      "id": "color-annotation",
      "metadata": {},
      "outputs": [
        {
          "data": {
            "text/html": [
              "<span style=\"white-space:pre; font-family: monospace\">g\n",
              "</span>"
            ]
          },
          "execution_count": 169,
          "metadata": {},
          "output_type": "execute_result"
        }
      ],
      "source": [
        "\u2283(\u2283(\u2283weird[1;2])[1;1])[6]"
      ]
    },
    {
      "cell_type": "markdown",
      "id": "intended-supply",
      "metadata": {},
      "source": [
        "(Nested-Arrays-Continued-Left-Argument-Length)=\n",
        "### Left Argument Length\n",
        "\n",
        "The left argument to _pick_ is a vector with as many items as the depth at which we want to select an item.\n",
        "Each item of the left argument has a number of items corresponding to the rank of the sub-item at the corresponding depth at which it operates.\n",
        "\n",
        "If we remove the last item of `path` in the example above, the selection will stop one level above the level at which it stopped before.\n",
        "This means that we would select the entire character vector `'Dyalog'` instead of just the letter `'g'`:"
      ]
    },
    {
      "cell_type": "code",
      "execution_count": 170,
      "id": "vocal-siemens",
      "metadata": {},
      "outputs": [
        {
          "data": {
            "text/html": [
              "<span style=\"white-space:pre; font-family: monospace\">Dyalog\n",
              "</span>"
            ]
          },
          "execution_count": 170,
          "metadata": {},
          "output_type": "execute_result"
        }
      ],
      "source": [
        "(1 2) (1 1) \u2283 weird"
      ]
    },
    {
      "cell_type": "markdown",
      "id": "unauthorized-operations",
      "metadata": {},
      "source": [
        "Yes, we selected the entire character vector.\n",
        "Please, note again that the result has been disclosed, so that a simple array is returned in this case, instead of a scalar which is an enclosed vector.\n",
        "\n",
        "The difference becomes more clear if we compare this with the equivalent simple indexing without the final _disclose_:"
      ]
    },
    {
      "cell_type": "code",
      "execution_count": 171,
      "id": "useful-fields",
      "metadata": {},
      "outputs": [
        {
          "data": {
            "text/html": [
              "<span style=\"white-space:pre; font-family: monospace\">\u250c\u2500\u2500\u2500\u2500\u2500\u2500\u2510\n",
              "\u2502Dyalog\u2502\n",
              "\u2514\u2500\u2500\u2500\u2500\u2500\u2500\u2518\n",
              "</span>"
            ]
          },
          "execution_count": 171,
          "metadata": {},
          "output_type": "execute_result"
        }
      ],
      "source": [
        "(\u2283weird[1;2])[1;1]"
      ]
    },
    {
      "cell_type": "markdown",
      "id": "novel-thinking",
      "metadata": {},
      "source": [
        "We tried removing the last item of `path`, but what happens if we instead remove the last two items of `path`?\n",
        "If we remove the last two items of `path`, we might expect to select the entire 2 by 2 nested matrix that contains the character vector `'Dyalog'`:"
      ]
    },
    {
      "cell_type": "code",
      "execution_count": 172,
      "id": "textile-egyptian",
      "metadata": {},
      "outputs": [
        {
          "name": "stderr",
          "output_type": "stream",
          "text": [
            "RANK ERROR\n",
            "      (1 2)\u2283weird\n",
            "           \u2227\n"
          ]
        }
      ],
      "source": [
        "(1 2) \u2283 weird"
      ]
    },
    {
      "cell_type": "markdown",
      "id": "abroad-laugh",
      "metadata": {},
      "source": [
        "But it does not work!\n",
        "\n",
        "The reason for this is a problem that we have seen before:\n",
        "\n",
        "In the expression `(1 2) (1 1) \u2283 weird`, the item `(1 2)` is a scalar (an enclosed vector) because of _strand notation_.\n",
        "The left argument to _pick_ has two items, because we want to select an item at the second level.\n",
        "\n",
        "In the expression `(1 2) \u2283 weird`, we do not have a _strand_, so the argument `(1 2)` is not enclosed.\n",
        "It is a (simple) 2-item vector and, therefore, only suitable for selection at the second level.\n",
        "The `RANK ERROR` is reported because we try to use a scalar `1` as an index at the outermost level.\n",
        "However, at this level the array is a matrix, so two items are needed to form a proper index.\n",
        "\n",
        "We want to select at the outermost level, so the left argument to _pick_ must have exactly one item.\n",
        "Therefore, we must explicitly enclose the vector, leading to the correct expression:"
      ]
    },
    {
      "cell_type": "code",
      "execution_count": 173,
      "id": "anonymous-apparatus",
      "metadata": {},
      "outputs": [
        {
          "data": {
            "text/html": [
              "<span style=\"white-space:pre; font-family: monospace\">\u250c\u2500\u2500\u2500\u2500\u2500\u2500\u252c\u2500\u2500\u2500\u2510\n",
              "\u2502Dyalog\u250244 \u2502\n",
              "\u251c\u2500\u2500\u2500\u2500\u2500\u2500\u253c\u2500\u2500\u2500\u2524\n",
              "\u250227    \u25028 6\u2502\n",
              "\u2502      \u25022 4\u2502\n",
              "\u2514\u2500\u2500\u2500\u2500\u2500\u2500\u2534\u2500\u2500\u2500\u2518\n",
              "</span>"
            ]
          },
          "execution_count": 173,
          "metadata": {},
          "output_type": "execute_result"
        }
      ],
      "source": [
        "(\u22821 2) \u2283 weird"
      ]
    },
    {
      "cell_type": "markdown",
      "id": "engaged-cigarette",
      "metadata": {},
      "source": [
        "We still need two indices inside the enclosure because, at the outermost level, the array is a matrix.\n",
        "\n",
        "The expression we used before (without the explicit _enclose_) is inappropriate for the array `weird`, but it could work fine with a different array;\n",
        "for example, to take the first item of a nested vector, and then select the second item of it, as shown here:"
      ]
    },
    {
      "cell_type": "code",
      "execution_count": 174,
      "id": "respiratory-wholesale",
      "metadata": {},
      "outputs": [
        {
          "data": {
            "text/html": [
              "<span style=\"white-space:pre; font-family: monospace\">a\n",
              "</span>"
            ]
          },
          "execution_count": 174,
          "metadata": {},
          "output_type": "execute_result"
        }
      ],
      "source": [
        "1 2\u2283'Madrid' 'New York' 'London'"
      ]
    },
    {
      "cell_type": "markdown",
      "id": "controlled-abortion",
      "metadata": {},
      "source": [
        "The `1` selects `'Madrid'`, and the `2` then selects the `'a'`.\n",
        "\n",
        "In this expression, an _enclose_ would be wrong, as we need to select at two levels.\n",
        "However, at each level we only need one index, as we select from vectors at both levels."
      ]
    },
    {
      "cell_type": "markdown",
      "id": "complimentary-capital",
      "metadata": {},
      "source": [
        "(Nested-Arrays-Continued-Disclosed-Result)=\n",
        "### Disclosed Result\n",
        "\n",
        "As mentioned previously, _pick_ returns the **contents** of the specified item, not the scalar which contains it.\n",
        "\n",
        "Let us refer to the original value of `hogwash` (i.e., before we rotated it before):"
      ]
    },
    {
      "cell_type": "code",
      "execution_count": 175,
      "id": "empty-oakland",
      "metadata": {},
      "outputs": [],
      "source": [
        "hogwash \u2190 19 (2 2\u2374\u23734) (3 1\u2374'APL') (2 2\u23745 8 'Nuts' 9)"
      ]
    },
    {
      "cell_type": "markdown",
      "id": "characteristic-travel",
      "metadata": {},
      "source": [
        "Because boxing is ON, we can readily tell the difference between"
      ]
    },
    {
      "cell_type": "code",
      "execution_count": 176,
      "id": "silver-kazakhstan",
      "metadata": {},
      "outputs": [
        {
          "data": {
            "text/html": [
              "<span style=\"white-space:pre; font-family: monospace\">1 2\n",
              "3 4\n",
              "</span>"
            ]
          },
          "execution_count": 176,
          "metadata": {},
          "output_type": "execute_result"
        }
      ],
      "source": [
        "2\u2283hogwash"
      ]
    },
    {
      "cell_type": "markdown",
      "id": "figured-friend",
      "metadata": {},
      "source": [
        "and"
      ]
    },
    {
      "cell_type": "code",
      "execution_count": 177,
      "id": "alert-roulette",
      "metadata": {},
      "outputs": [
        {
          "data": {
            "text/html": [
              "<span style=\"white-space:pre; font-family: monospace\">\u250c\u2500\u2500\u2500\u2510\n",
              "\u25021 2\u2502\n",
              "\u25023 4\u2502\n",
              "\u2514\u2500\u2500\u2500\u2518\n",
              "</span>"
            ]
          },
          "execution_count": 177,
          "metadata": {},
          "output_type": "execute_result"
        }
      ],
      "source": [
        "hogwash[2]"
      ]
    },
    {
      "cell_type": "markdown",
      "id": "asian-thailand",
      "metadata": {},
      "source": [
        "However, if boxing is OFF, we might make the mistake of believing that the two results are equal:"
      ]
    },
    {
      "cell_type": "code",
      "execution_count": 178,
      "id": "spatial-extension",
      "metadata": {},
      "outputs": [
        {
          "data": {
            "text/html": [
              "<span style=\"white-space:pre; font-family: monospace\">Was ON\n",
              "</span>"
            ]
          },
          "execution_count": 178,
          "metadata": {},
          "output_type": "execute_result"
        }
      ],
      "source": [
        "]box off"
      ]
    },
    {
      "cell_type": "code",
      "execution_count": 179,
      "id": "fifty-field",
      "metadata": {},
      "outputs": [
        {
          "data": {
            "text/html": [
              "<span style=\"white-space:pre; font-family: monospace\">1 2\n",
              "3 4\n",
              "</span>"
            ]
          },
          "execution_count": 179,
          "metadata": {},
          "output_type": "execute_result"
        }
      ],
      "source": [
        "2\u2283hogwash"
      ]
    },
    {
      "cell_type": "code",
      "execution_count": 180,
      "id": "adjacent-plastic",
      "metadata": {},
      "outputs": [
        {
          "data": {
            "text/html": [
              "<span style=\"white-space:pre; font-family: monospace\"> 1 2 \n",
              " 3 4 \n",
              "</span>"
            ]
          },
          "execution_count": 180,
          "metadata": {},
          "output_type": "execute_result"
        }
      ],
      "source": [
        "hogwash[2]"
      ]
    },
    {
      "cell_type": "markdown",
      "id": "micro-maine",
      "metadata": {},
      "source": [
        "Because boxing is OFF, the two results look very similar.\n",
        "(An attentive reader will notice that the result of `hogwash[2]` is indented one space to the right, which indicates one level of nesting.)\n",
        "This is deceptive:\n",
        "\n",
        " - the first expression (`2\u2283hogwash`) returns the 2 by 2 matrix contained in `hogwash`:"
      ]
    },
    {
      "cell_type": "code",
      "execution_count": 181,
      "id": "likely-northeast",
      "metadata": {},
      "outputs": [
        {
          "data": {
            "text/html": [
              "<span style=\"white-space:pre; font-family: monospace\">2 2\n",
              "</span>"
            ]
          },
          "execution_count": 181,
          "metadata": {},
          "output_type": "execute_result"
        }
      ],
      "source": [
        "\u23742\u2283hogwash"
      ]
    },
    {
      "cell_type": "markdown",
      "id": "mysterious-spanking",
      "metadata": {},
      "source": [
        " - while the other expression merely returns the second item of `hogwash`, which is an enclosed matrix:"
      ]
    },
    {
      "cell_type": "code",
      "execution_count": 182,
      "id": "imperial-filter",
      "metadata": {},
      "outputs": [
        {
          "data": {
            "text/html": [
              "<span style=\"white-space:pre; font-family: monospace\">\n",
              "</span>"
            ]
          },
          "execution_count": 182,
          "metadata": {},
          "output_type": "execute_result"
        }
      ],
      "source": [
        "\u2374hogwash[2]"
      ]
    },
    {
      "cell_type": "markdown",
      "id": "active-skirt",
      "metadata": {},
      "source": [
        "To prevent us from shooting ourselves in the foot, let us turn boxing back ON:"
      ]
    },
    {
      "cell_type": "code",
      "execution_count": 183,
      "id": "great-palmer",
      "metadata": {
        "scrolled": true
      },
      "outputs": [
        {
          "data": {
            "text/html": [
              "<span style=\"white-space:pre; font-family: monospace\">Was OFF\n",
              "</span>"
            ]
          },
          "execution_count": 183,
          "metadata": {},
          "output_type": "execute_result"
        }
      ],
      "source": [
        "]box on"
      ]
    },
    {
      "cell_type": "markdown",
      "id": "identified-bearing",
      "metadata": {},
      "source": [
        "(Nested-Arrays-Continued-Pick-First)=\n",
        "### Pick First\n",
        "\n",
        "We have not mentioned this before (because up to now we have only used it on 1-item arrays), but _disclose_ `\u2283` actually discloses just the _first_ item of an array.\n",
        "All other items are ignored.\n",
        "In other words, _disclose_ `\u2283array` is the same as `1\u2283,array`.\n",
        "For this reason, the function `\u2283` is also called _first_:"
      ]
    },
    {
      "cell_type": "code",
      "execution_count": 95,
      "id": "blocked-experience",
      "metadata": {
        "scrolled": true
      },
      "outputs": [
        {
          "data": {
            "text/html": [
              "<span style=\"white-space:pre; font-family: monospace\">26\n",
              "</span>"
            ]
          },
          "execution_count": 95,
          "metadata": {},
          "output_type": "execute_result"
        }
      ],
      "source": [
        "\u228326 (10 20 30) 100"
      ]
    },
    {
      "cell_type": "code",
      "execution_count": 96,
      "id": "diverse-article",
      "metadata": {},
      "outputs": [
        {
          "data": {
            "text/html": [
              "<span style=\"white-space:pre; font-family: monospace\">January\n",
              "</span>"
            ]
          },
          "execution_count": 96,
          "metadata": {},
          "output_type": "execute_result"
        }
      ],
      "source": [
        "\u2283'January' 'February' 'March'"
      ]
    },
    {
      "cell_type": "code",
      "execution_count": 97,
      "id": "major-chance",
      "metadata": {
        "scrolled": true
      },
      "outputs": [
        {
          "data": {
            "text/html": [
              "<span style=\"white-space:pre; font-family: monospace\">Dyalog\n",
              "</span>"
            ]
          },
          "execution_count": 97,
          "metadata": {},
          "output_type": "execute_result"
        }
      ],
      "source": [
        "\u22832 2\u2374'Dyalog' (2 2\u2374\u23734) 'APL' 100"
      ]
    },
    {
      "cell_type": "code",
      "execution_count": 102,
      "id": "angry-action",
      "metadata": {
        "scrolled": true
      },
      "outputs": [
        {
          "data": {
            "text/html": [
              "<span style=\"white-space:pre; font-family: monospace\">12\n",
              "</span>"
            ]
          },
          "execution_count": 102,
          "metadata": {},
          "output_type": "execute_result"
        }
      ],
      "source": [
        "\u228312"
      ]
    },
    {
      "cell_type": "markdown",
      "id": "complete-camcorder",
      "metadata": {},
      "source": [
        "(Nested-Arrays-Continued-Selective-Assignment)=\n",
        "### Selective Assignment\n",
        "\n",
        "When one wants to modify an item deep inside an array, it is important to remember that _pick_ returns a disclosed result.\n",
        "\n",
        "For example, let us try to replace the number `5` with the character vector `'five'` in the fourth item of `hogwash`.\n",
        "\n",
        "If we wanted to extract the value `5`, we would just write"
      ]
    },
    {
      "cell_type": "code",
      "execution_count": 187,
      "id": "built-amendment",
      "metadata": {},
      "outputs": [
        {
          "data": {
            "text/html": [
              "<span style=\"white-space:pre; font-family: monospace\">5\n",
              "</span>"
            ]
          },
          "execution_count": 187,
          "metadata": {},
          "output_type": "execute_result"
        }
      ],
      "source": [
        "4 (1 1)\u2283hogwash"
      ]
    },
    {
      "cell_type": "markdown",
      "id": "square-borough",
      "metadata": {},
      "source": [
        "To replace it, we use the same expression in a normal selective assignment:"
      ]
    },
    {
      "cell_type": "code",
      "execution_count": 188,
      "id": "scientific-mainland",
      "metadata": {},
      "outputs": [
        {
          "data": {
            "text/html": [
              "<span style=\"white-space:pre; font-family: monospace\">\u250c\u2500\u2500\u252c\u2500\u2500\u2500\u252c\u2500\u252c\u2500\u2500\u2500\u2500\u2500\u2500\u2500\u2500\u2510\n",
              "\u250219\u25021 2\u2502A\u2502\u250c\u2500\u2500\u2500\u2500\u252c\u2500\u2510\u2502\n",
              "\u2502  \u25023 4\u2502P\u2502\u2502Five\u25028\u2502\u2502\n",
              "\u2502  \u2502   \u2502L\u2502\u251c\u2500\u2500\u2500\u2500\u253c\u2500\u2524\u2502\n",
              "\u2502  \u2502   \u2502 \u2502\u2502Nuts\u25029\u2502\u2502\n",
              "\u2502  \u2502   \u2502 \u2502\u2514\u2500\u2500\u2500\u2500\u2534\u2500\u2518\u2502\n",
              "\u2514\u2500\u2500\u2534\u2500\u2500\u2500\u2534\u2500\u2534\u2500\u2500\u2500\u2500\u2500\u2500\u2500\u2500\u2518\n",
              "</span>"
            ]
          },
          "execution_count": 188,
          "metadata": {},
          "output_type": "execute_result"
        }
      ],
      "source": [
        "(4 (1 1)\u2283hogwash) \u2190 'Five'\n",
        "hogwash"
      ]
    },
    {
      "cell_type": "markdown",
      "id": "dense-solomon",
      "metadata": {},
      "source": [
        "And it works, though we haven't enclosed the replacement value!\n",
        "Going back is just as easy:"
      ]
    },
    {
      "cell_type": "code",
      "execution_count": 189,
      "id": "reported-picnic",
      "metadata": {},
      "outputs": [
        {
          "data": {
            "text/html": [
              "<span style=\"white-space:pre; font-family: monospace\">\u250c\u2500\u2500\u252c\u2500\u2500\u2500\u252c\u2500\u252c\u2500\u2500\u2500\u2500\u2500\u2500\u2500\u2500\u2510\n",
              "\u250219\u25021 2\u2502A\u2502\u250c\u2500\u2500\u2500\u2500\u252c\u2500\u2510\u2502\n",
              "\u2502  \u25023 4\u2502P\u2502\u25025   \u25028\u2502\u2502\n",
              "\u2502  \u2502   \u2502L\u2502\u251c\u2500\u2500\u2500\u2500\u253c\u2500\u2524\u2502\n",
              "\u2502  \u2502   \u2502 \u2502\u2502Nuts\u25029\u2502\u2502\n",
              "\u2502  \u2502   \u2502 \u2502\u2514\u2500\u2500\u2500\u2500\u2534\u2500\u2518\u2502\n",
              "\u2514\u2500\u2500\u2534\u2500\u2500\u2500\u2534\u2500\u2534\u2500\u2500\u2500\u2500\u2500\u2500\u2500\u2500\u2518\n",
              "</span>"
            ]
          },
          "execution_count": 189,
          "metadata": {},
          "output_type": "execute_result"
        }
      ],
      "source": [
        "(4 (1 1)\u2283hogwash) \u2190 5\n",
        "hogwash"
      ]
    },
    {
      "cell_type": "markdown",
      "id": "confidential-dating",
      "metadata": {},
      "source": [
        "(Nested-Arrays-Continued-An-Idiom)=\n",
        "### An Idiom\n",
        "\n",
        "Suppose you have a nested vector:"
      ]
    },
    {
      "cell_type": "code",
      "execution_count": 190,
      "id": "instrumental-remedy",
      "metadata": {},
      "outputs": [],
      "source": [
        "nv \u2190 (3 7 5)(9 7 2 8)(1 6)(2 0 8)"
      ]
    },
    {
      "cell_type": "markdown",
      "id": "satellite-sector",
      "metadata": {},
      "source": [
        "You can select one of its items with:"
      ]
    },
    {
      "cell_type": "code",
      "execution_count": 191,
      "id": "successful-valve",
      "metadata": {},
      "outputs": [
        {
          "data": {
            "text/html": [
              "<span style=\"white-space:pre; font-family: monospace\">9 7 2 8\n",
              "</span>"
            ]
          },
          "execution_count": 191,
          "metadata": {},
          "output_type": "execute_result"
        }
      ],
      "source": [
        "2\u2283nv"
      ]
    },
    {
      "cell_type": "markdown",
      "id": "aggressive-combining",
      "metadata": {},
      "source": [
        "But how can you select two (or more) items?\n",
        "For example, the 2nd and the 4th items?"
      ]
    },
    {
      "cell_type": "code",
      "execution_count": 192,
      "id": "atlantic-office",
      "metadata": {},
      "outputs": [
        {
          "data": {
            "text/html": [
              "<span style=\"white-space:pre; font-family: monospace\">8\n",
              "</span>"
            ]
          },
          "execution_count": 192,
          "metadata": {},
          "output_type": "execute_result"
        }
      ],
      "source": [
        "2 4\u2283nv"
      ]
    },
    {
      "cell_type": "markdown",
      "id": "raised-australia",
      "metadata": {},
      "source": [
        "This does not work; it selects only one item: the 4th item of the 2nd item, which is the number `8` in this case.\n",
        "\n",
        "Maybe we can use _each_ `\u2283\u00a8` to _pick each_ of the items we want?"
      ]
    },
    {
      "cell_type": "code",
      "execution_count": 193,
      "id": "outside-reading",
      "metadata": {},
      "outputs": [
        {
          "name": "stderr",
          "output_type": "stream",
          "text": [
            "LENGTH ERROR\n",
            "      2 4\u2283\u00a8nv\n",
            "         \u2227\n"
          ]
        }
      ],
      "source": [
        "2 4\u2283\u00a8nv"
      ]
    },
    {
      "cell_type": "markdown",
      "id": "private-memory",
      "metadata": {},
      "source": [
        "This gives a `LENGTH ERROR` because `\u00a8` is trying to pair each of the two numbers on the left with an item on the right, but `nv` has a total of four items.\n",
        "\n",
        "In order to fix this, we need to _enclose_ `nv` so that `\u00a8` knows to pair each number on the left with the whole vector `nv`:"
      ]
    },
    {
      "cell_type": "code",
      "execution_count": 194,
      "id": "artificial-international",
      "metadata": {},
      "outputs": [
        {
          "data": {
            "text/html": [
              "<span style=\"white-space:pre; font-family: monospace\">\u250c\u2500\u2500\u2500\u2500\u2500\u2500\u2500\u252c\u2500\u2500\u2500\u2500\u2500\u2510\n",
              "\u25029 7 2 8\u25022 0 8\u2502\n",
              "\u2514\u2500\u2500\u2500\u2500\u2500\u2500\u2500\u2534\u2500\u2500\u2500\u2500\u2500\u2518\n",
              "</span>"
            ]
          },
          "execution_count": 194,
          "metadata": {},
          "output_type": "execute_result"
        }
      ],
      "source": [
        "2 4\u2283\u00a8\u2282nv"
      ]
    },
    {
      "cell_type": "markdown",
      "id": "about-court",
      "metadata": {},
      "source": [
        "This expression is known as the \"chipmunk idiom\", probably because of the eyes and moustaches of the combined symbol: `\u2283\u00a8\u2282`."
      ]
    },
    {
      "cell_type": "markdown",
      "id": "sticky-paper",
      "metadata": {},
      "source": [
        "(Nested-Arrays-Continued-Partitioned-Enclose--Partition)=\n",
        "## Partitioned Enclose & Partition\n",
        "\n",
        "(Nested-Arrays-Continued-Partitioned-Enclose)=\n",
        "### Partitioned Enclose\n",
        "\n",
        "The primitive function _partitioned enclose_ is the dyadic use of the _left shoe_ `\u2282`.\n",
        "It is used to group the items of an array into a vector of nested items, or enclosures, according to a specified pattern.\n",
        "It is used as `r \u2190 pattern \u2282 array`, or optionally with an _axis specification_: `r \u2190 pattern \u2282[axis] array`.\n",
        "\n",
        "_Partitioned enclose_ breaks up the right argument `array` into nested items, as determined by the left argument `pattern`."
      ]
    },
    {
      "cell_type": "markdown",
      "id": "static-square",
      "metadata": {},
      "source": [
        "(Nested-Arrays-Continued-Simple-Boolean-Vector-Left-Argument)=\n",
        "#### Simple Boolean Vector Left Argument\n",
        "\n",
        "Let us start by understanding how _partitioned enclose_ works when the left argument `pattern` is a _simple_ Boolean vector:"
      ]
    },
    {
      "cell_type": "code",
      "execution_count": 195,
      "id": "noticed-telephone",
      "metadata": {},
      "outputs": [
        {
          "data": {
            "text/html": [
              "<span style=\"white-space:pre; font-family: monospace\">\u250c\u2500\u2500\u2500\u252c\u2500\u2500\u2500\u2500\u2500\u2500\u2510\n",
              "\u2502Par\u2502tition\u2502\n",
              "\u2514\u2500\u2500\u2500\u2534\u2500\u2500\u2500\u2500\u2500\u2500\u2518\n",
              "</span>"
            ]
          },
          "execution_count": 195,
          "metadata": {},
          "output_type": "execute_result"
        }
      ],
      "source": [
        "1 0 0 1 0 0 0 0 0 \u2282 'Partition'"
      ]
    },
    {
      "cell_type": "code",
      "execution_count": 196,
      "id": "dental-benefit",
      "metadata": {},
      "outputs": [
        {
          "data": {
            "text/html": [
              "<span style=\"white-space:pre; font-family: monospace\">\u250c\u2500\u2500\u2500\u252c\u2500\u2500\u2500\u252c\u2500\u2500\u2500\u2510\n",
              "\u2502Par\u2502tit\u2502ion\u2502\n",
              "\u2514\u2500\u2500\u2500\u2534\u2500\u2500\u2500\u2534\u2500\u2500\u2500\u2518\n",
              "</span>"
            ]
          },
          "execution_count": 196,
          "metadata": {},
          "output_type": "execute_result"
        }
      ],
      "source": [
        "1 0 0 1 0 0 1 0 0  \u2282 'Partition'"
      ]
    },
    {
      "cell_type": "markdown",
      "id": "thick-perfume",
      "metadata": {},
      "source": [
        "The two examples seem to show that the `1`s in the left argument specify where new enclosures of the right argument start.\n",
        "The `0`s just put the corresponding elements in the preceding enclosure.\n",
        "\n",
        "Notice that, as soon as we start the last enclosure (with the last `1`), the trailing `0`s are irrelevant.\n",
        "Thus, we can safely omit them from the left argument:"
      ]
    },
    {
      "cell_type": "code",
      "execution_count": 197,
      "id": "proof-treasure",
      "metadata": {},
      "outputs": [
        {
          "data": {
            "text/html": [
              "<span style=\"white-space:pre; font-family: monospace\">\u250c\u2500\u2500\u2500\u252c\u2500\u2500\u2500\u252c\u2500\u2500\u2500\u2510\n",
              "\u2502Par\u2502tit\u2502ion\u2502\n",
              "\u2514\u2500\u2500\u2500\u2534\u2500\u2500\u2500\u2534\u2500\u2500\u2500\u2518\n",
              "</span>"
            ]
          },
          "execution_count": 197,
          "metadata": {},
          "output_type": "execute_result"
        }
      ],
      "source": [
        "1 0 0 1 0 0 1 \u2282 'Partition'"
      ]
    },
    {
      "cell_type": "markdown",
      "id": "banned-logan",
      "metadata": {},
      "source": [
        "Again, we **can** omit trailing zeroes, but we do not **have** to.\n",
        "In fact, in older versions of Dyalog APL, _partitioned enclose_ expects the trailing zeroes to be present.\n",
        "In other words, the ability to not specify trailing zeroes was an extension to _partitioned enclose_ that was introduced after _partitioned enclose_ had been in the language.\n",
        "<!-- (TODO) find out in what exact Dyalog version this extension to \u2282 was introduced. -->\n",
        "\n",
        "We have seen what we can do about trailing zeroes.\n",
        "It is also important to understand what happens when the left argument has leading zeroes:"
      ]
    },
    {
      "cell_type": "code",
      "execution_count": 198,
      "id": "relevant-hebrew",
      "metadata": {},
      "outputs": [
        {
          "data": {
            "text/html": [
              "<span style=\"white-space:pre; font-family: monospace\">\u250c\u2500\u2500\u2500\u252c\u2500\u2500\u2500\u252c\u2500\u2510\n",
              "\u2502rti\u2502tio\u2502n\u2502\n",
              "\u2514\u2500\u2500\u2500\u2534\u2500\u2500\u2500\u2534\u2500\u2518\n",
              "</span>"
            ]
          },
          "execution_count": 198,
          "metadata": {},
          "output_type": "execute_result"
        }
      ],
      "source": [
        "0 0 1 0 0 1 0 0 1 \u2282 'Partition'"
      ]
    },
    {
      "cell_type": "markdown",
      "id": "colored-victorian",
      "metadata": {},
      "source": [
        "Leading zeroes have not been preceded by any enclosures, so the corresponding items have nowhere to go.\n",
        "Because of that, they are omitted from the final result.\n",
        "\n",
        "We have already covered most of the behaviour of _partitioned_ enclose, we are only missing some details."
      ]
    },
    {
      "cell_type": "markdown",
      "id": "isolated-holder",
      "metadata": {},
      "source": [
        "(Nested-Arrays-Continued-Multiple-Enclosures)=\n",
        "#### Multiple Enclosures\n",
        "\n",
        "The left argument `pattern` can be a simple integer vector with arbitrary non-negative integers, it doesn't have to contain only zeroes and ones.\n",
        "If we interpret the role of the zeroes and ones in a slightly different way, we can immediately understand how larger integers will work.\n",
        "\n",
        "For that, we can use less rigorous language, and say that the enclosures of the result start in the places where we inserted dividers to split the right argument.\n",
        "Having said that, we just have to understand how those dividers are placed:\n",
        "\n",
        " - a `0` in the left argument means that we will insert `0` dividers before the corresponding item of the right argument; and\n",
        " - a `1` in the left argument means that we will insert `1` divider before the corresponding item of the right argument.\n",
        "\n",
        "Thus, an integer `n` in the left argument means that we will insert `n` dividers before the corresponding item of the right argument:"
      ]
    },
    {
      "cell_type": "code",
      "execution_count": 199,
      "id": "explicit-prompt",
      "metadata": {},
      "outputs": [
        {
          "data": {
            "text/html": [
              "<span style=\"white-space:pre; font-family: monospace\">\u250c\u252c\u252c\u2500\u2500\u2500\u252c\u2500\u2500\u2500\u252c\u252c\u2500\u2500\u2500\u2510\n",
              "\u2502\u2502\u2502Par\u2502tit\u2502\u2502ion\u2502\n",
              "\u2514\u2534\u2534\u2500\u2500\u2500\u2534\u2500\u2500\u2500\u2534\u2534\u2500\u2500\u2500\u2518\n",
              "</span>"
            ]
          },
          "execution_count": 199,
          "metadata": {},
          "output_type": "execute_result"
        }
      ],
      "source": [
        "3 0 0 1 0 0 2 0 0 \u2282 'Partition'"
      ]
    },
    {
      "cell_type": "markdown",
      "id": "satellite-logic",
      "metadata": {},
      "source": [
        "Above, `pattern` started with a `3` and `array` started with `'P'`. Thus, _partitioned enclose_ must insert `3` dividers before the `'P'`.\n",
        "Because more than one divider was inserted, only the last one gets the corresponding item from the argument `array`.\n",
        "\n",
        "Using _mix_ as visual aid, we can see clearly where the dividers will be inserted:"
      ]
    },
    {
      "cell_type": "code",
      "execution_count": 200,
      "id": "literary-blowing",
      "metadata": {},
      "outputs": [
        {
          "data": {
            "text/html": [
              "<span style=\"white-space:pre; font-family: monospace\">3 0 0 1 0 0 2 0 0\n",
              "P a r t i t i o n\n",
              "</span>"
            ]
          },
          "execution_count": 200,
          "metadata": {},
          "output_type": "execute_result"
        }
      ],
      "source": [
        "\u2191(3 0 0 1 0 0 2 0 0) 'Partition'"
      ]
    },
    {
      "cell_type": "markdown",
      "id": "vanilla-samoa",
      "metadata": {},
      "source": [
        "The usage of _mix_ shows that we insert `3` dividers before the initial `'P'`, `1` divider before the first `'t'`, and `2` dividers before the last `'i'`."
      ]
    },
    {
      "cell_type": "markdown",
      "id": "liberal-anchor",
      "metadata": {},
      "source": [
        "(Nested-Arrays-Continued-Trailing-Empty-Enclosures)=\n",
        "#### Trailing Empty Enclosures\n",
        "\n",
        "When the left argument `pattern` starts with an integer that is greater than one, the final result will have some leading empty enclosures.\n",
        "If we want to get a result with **trailing** empty enclosures, we just need to make sure that the length of `pattern` is one greater than the length of the right argument:"
      ]
    },
    {
      "cell_type": "code",
      "execution_count": 201,
      "id": "explicit-antenna",
      "metadata": {},
      "outputs": [
        {
          "data": {
            "text/html": [
              "<span style=\"white-space:pre; font-family: monospace\">\u250c\u252c\u2500\u2500\u2500\u252c\u2500\u2500\u2500\u252c\u2500\u2500\u2500\u252c\u2510\n",
              "\u2502\u2502Par\u2502tit\u2502ion\u2502\u2502\n",
              "\u2514\u2534\u2500\u2500\u2500\u2534\u2500\u2500\u2500\u2534\u2500\u2500\u2500\u2534\u2518\n",
              "</span>"
            ]
          },
          "execution_count": 201,
          "metadata": {},
          "output_type": "execute_result"
        }
      ],
      "source": [
        "2 0 0 1 0 0 1 0 0 1 \u2282 'Partition'"
      ]
    },
    {
      "cell_type": "markdown",
      "id": "conservative-brief",
      "metadata": {},
      "source": [
        "We can use _mix_ again, and we will understand how the trailing `1` creates an empty enclosure by inserting a divider right after the last item of the right argument:"
      ]
    },
    {
      "cell_type": "code",
      "execution_count": 202,
      "id": "fresh-indiana",
      "metadata": {},
      "outputs": [
        {
          "data": {
            "text/html": [
              "<span style=\"white-space:pre; font-family: monospace\">2 0 0 1 0 0 1 0 0 1\n",
              "P a r t i t i o n  \n",
              "</span>"
            ]
          },
          "execution_count": 202,
          "metadata": {},
          "output_type": "execute_result"
        }
      ],
      "source": [
        "\u2191(2 0 0 1 0 0 1 0 0 1) 'Partition'"
      ]
    },
    {
      "cell_type": "markdown",
      "id": "parliamentary-agent",
      "metadata": {},
      "source": [
        "(Nested-Arrays-Continued-Scalar-Left-Argument)=\n",
        "#### Scalar Left Argument\n",
        "\n",
        "So far, we have only seen how _partitioned enclose_ works with a _vector_ left argument.\n",
        "Now, we will see what happens if the left argument is a _scalar_.\n",
        "\n",
        "First, take a look at this example:"
      ]
    },
    {
      "cell_type": "code",
      "execution_count": 203,
      "id": "sunset-protest",
      "metadata": {},
      "outputs": [
        {
          "data": {
            "text/html": [
              "<span style=\"white-space:pre; font-family: monospace\">\u250c\u2500\u2500\u2500\u2500\u2500\u2500\u2500\u2500\u2500\u2510\n",
              "\u2502Partition\u2502\n",
              "\u2514\u2500\u2500\u2500\u2500\u2500\u2500\u2500\u2500\u2500\u2518\n",
              "</span>"
            ]
          },
          "execution_count": 203,
          "metadata": {},
          "output_type": "execute_result"
        }
      ],
      "source": [
        "1 0 0 0 0 0 0 0 0 \u2282 'Partition'"
      ]
    },
    {
      "cell_type": "markdown",
      "id": "exciting-chancellor",
      "metadata": {},
      "source": [
        "We know we can omit trailing zeroes, so we might be tempted to rewrite the example above as:"
      ]
    },
    {
      "cell_type": "code",
      "execution_count": 204,
      "id": "olympic-paintball",
      "metadata": {},
      "outputs": [
        {
          "data": {
            "text/html": [
              "<span style=\"white-space:pre; font-family: monospace\">\u250c\u2500\u252c\u2500\u252c\u2500\u252c\u2500\u252c\u2500\u252c\u2500\u252c\u2500\u252c\u2500\u252c\u2500\u2510\n",
              "\u2502P\u2502a\u2502r\u2502t\u2502i\u2502t\u2502i\u2502o\u2502n\u2502\n",
              "\u2514\u2500\u2534\u2500\u2534\u2500\u2534\u2500\u2534\u2500\u2534\u2500\u2534\u2500\u2534\u2500\u2534\u2500\u2518\n",
              "</span>"
            ]
          },
          "execution_count": 204,
          "metadata": {},
          "output_type": "execute_result"
        }
      ],
      "source": [
        "1 \u2282 'Partition'"
      ]
    },
    {
      "cell_type": "markdown",
      "id": "phantom-attendance",
      "metadata": {},
      "source": [
        "However, when we do so, we get an unexpected result!\n",
        "That's because the left argument is a _scalar_, and we can only omit trailing zeroes from _vectors_.\n",
        "\n",
        "When the left argument is a _scalar_ `s`, it gets extended to `(\u2262array)\u2374s`.\n",
        "Therefore, the example above is equivalent to"
      ]
    },
    {
      "cell_type": "code",
      "execution_count": 205,
      "id": "ignored-berry",
      "metadata": {},
      "outputs": [
        {
          "data": {
            "text/html": [
              "<span style=\"white-space:pre; font-family: monospace\">\u250c\u2500\u252c\u2500\u252c\u2500\u252c\u2500\u252c\u2500\u252c\u2500\u252c\u2500\u252c\u2500\u252c\u2500\u2510\n",
              "\u2502P\u2502a\u2502r\u2502t\u2502i\u2502t\u2502i\u2502o\u2502n\u2502\n",
              "\u2514\u2500\u2534\u2500\u2534\u2500\u2534\u2500\u2534\u2500\u2534\u2500\u2534\u2500\u2534\u2500\u2534\u2500\u2518\n",
              "</span>"
            ]
          },
          "execution_count": 205,
          "metadata": {},
          "output_type": "execute_result"
        }
      ],
      "source": [
        "(9\u23741) \u2282 'Partition'"
      ]
    },
    {
      "cell_type": "markdown",
      "id": "junior-candidate",
      "metadata": {},
      "source": [
        "(Nested-Arrays-Continued-Partitioned-Enclose-with-Axis)=\n",
        "#### Partitioned Enclose with Axis\n",
        "\n",
        "When we first introduced _partitioned enclose_, we mentioned that it can also accept an _axis specification_, as such: `pattern \u2282[axis] array`.\n",
        "Obviously, when `array` is a vector, `axis` is irrelevant because we can only have `axis \u2190 1`.\n",
        "\n",
        "For the _axis specification_ to be relevant, `array` needs to be of rank two or higher.\n",
        "First, we want to know what is the default value for `axis`, and we can find that out with a quick test:"
      ]
    },
    {
      "cell_type": "code",
      "execution_count": 206,
      "id": "direct-metallic",
      "metadata": {},
      "outputs": [
        {
          "data": {
            "text/html": [
              "<span style=\"white-space:pre; font-family: monospace\">\u250c\u2500\u252c\u2500\u2510\n",
              "\u25021\u25022\u2502\n",
              "\u25023\u25024\u2502\n",
              "\u2514\u2500\u2534\u2500\u2518\n",
              "</span>"
            ]
          },
          "execution_count": 206,
          "metadata": {},
          "output_type": "execute_result"
        }
      ],
      "source": [
        "1 \u2282 2 2\u2374\u23734"
      ]
    },
    {
      "cell_type": "markdown",
      "id": "aggressive-football",
      "metadata": {},
      "source": [
        "When applied to a matrix with no _axis specification_, _partitioned enclose_ created enclosures around the columns of the matrix, which shows that the default axis is `\u2262\u2374axis`, i.e., the last axis.\n",
        "\n",
        "If we want to create enclosures around the rows, we can specify `axis \u2190 1`:"
      ]
    },
    {
      "cell_type": "code",
      "execution_count": 207,
      "id": "increasing-founder",
      "metadata": {},
      "outputs": [
        {
          "data": {
            "text/html": [
              "<span style=\"white-space:pre; font-family: monospace\">\u250c\u2500\u2500\u2500\u252c\u2500\u2500\u2500\u2510\n",
              "\u25021 2\u25023 4\u2502\n",
              "\u2514\u2500\u2500\u2500\u2534\u2500\u2500\u2500\u2518\n",
              "</span>"
            ]
          },
          "execution_count": 207,
          "metadata": {},
          "output_type": "execute_result"
        }
      ],
      "source": [
        "1 \u2282[1] 2 2\u2374\u23734"
      ]
    },
    {
      "cell_type": "markdown",
      "id": "rocky-israeli",
      "metadata": {},
      "source": [
        "Notice that `\u2282` returns a vector, while perhaps you expected the result to look like this:"
      ]
    },
    {
      "cell_type": "code",
      "execution_count": 208,
      "id": "surrounded-publication",
      "metadata": {},
      "outputs": [
        {
          "data": {
            "text/html": [
              "<span style=\"white-space:pre; font-family: monospace\">\u250c\u2500\u2500\u2500\u2510\n",
              "\u25021 2\u2502\n",
              "\u251c\u2500\u2500\u2500\u2524\n",
              "\u25023 4\u2502\n",
              "\u2514\u2500\u2500\u2500\u2518\n",
              "</span>"
            ]
          },
          "execution_count": 208,
          "metadata": {},
          "output_type": "execute_result"
        }
      ],
      "source": [
        "\u236a 1 \u2282[1] 2 2\u2374\u23734"
      ]
    },
    {
      "cell_type": "markdown",
      "id": "proof-ladder",
      "metadata": {},
      "source": [
        "This is how _partitioned enclose_ works: it always returns a vector with the enclosures as items.\n",
        "\n",
        "Here is another example, where we use a 3D array as the right argument:"
      ]
    },
    {
      "cell_type": "code",
      "execution_count": 209,
      "id": "cross-limit",
      "metadata": {},
      "outputs": [
        {
          "data": {
            "text/html": [
              "<span style=\"white-space:pre; font-family: monospace\">ABCDE\n",
              "FGHIJ\n",
              "KLMNO\n",
              "PQRST\n",
              "     \n",
              "UVWXY\n",
              "ZABCD\n",
              "EFGHI\n",
              "JKLMN\n",
              "     \n",
              "OPQRS\n",
              "TUVWX\n",
              "YZABC\n",
              "DEFGH\n",
              "</span>"
            ]
          },
          "execution_count": 209,
          "metadata": {},
          "output_type": "execute_result"
        }
      ],
      "source": [
        "\u2395\u2190 cuboid \u2190 3 4 5\u2374\u2395A"
      ]
    },
    {
      "cell_type": "markdown",
      "id": "productive-uzbekistan",
      "metadata": {},
      "source": [
        "By using _partitioned enclose_ along the first axis, we can get a vector with enclosures around the planes that compose `cuboid`:"
      ]
    },
    {
      "cell_type": "code",
      "execution_count": 210,
      "id": "effective-corruption",
      "metadata": {},
      "outputs": [
        {
          "data": {
            "text/html": [
              "<span style=\"white-space:pre; font-family: monospace\">\u250c\u2500\u2500\u2500\u2500\u2500\u252c\u2500\u2500\u2500\u2500\u2500\u2510\n",
              "\u2502ABCDE\u2502OPQRS\u2502\n",
              "\u2502FGHIJ\u2502TUVWX\u2502\n",
              "\u2502KLMNO\u2502YZABC\u2502\n",
              "\u2502PQRST\u2502DEFGH\u2502\n",
              "\u2502     \u2502     \u2502\n",
              "\u2502UVWXY\u2502     \u2502\n",
              "\u2502ZABCD\u2502     \u2502\n",
              "\u2502EFGHI\u2502     \u2502\n",
              "\u2502JKLMN\u2502     \u2502\n",
              "\u2514\u2500\u2500\u2500\u2500\u2500\u2534\u2500\u2500\u2500\u2500\u2500\u2518\n",
              "</span>"
            ]
          },
          "execution_count": 210,
          "metadata": {},
          "output_type": "execute_result"
        }
      ],
      "source": [
        "1 0 1 \u2282[1] cuboid"
      ]
    },
    {
      "cell_type": "markdown",
      "id": "allied-violin",
      "metadata": {},
      "source": [
        "The things we learned about the behaviour of the left argument of _partitioned enclose_ still apply when we have a higher-dimensional right argument and/or an _axis specification_; we just need to interpret the left argument from the point of view of the correct axis:"
      ]
    },
    {
      "cell_type": "code",
      "execution_count": 211,
      "id": "every-briefing",
      "metadata": {},
      "outputs": [
        {
          "data": {
            "text/html": [
              "<span style=\"white-space:pre; font-family: monospace\">\u250c\u2500\u2500\u2500\u2500\u2500\u252c\u2500\u2500\u2500\u2500\u2500\u2510\n",
              "\u2502ABCDE\u2502KLMNO\u2502\n",
              "\u2502FGHIJ\u2502PQRST\u2502\n",
              "\u2502     \u2502     \u2502\n",
              "\u2502UVWXY\u2502EFGHI\u2502\n",
              "\u2502ZABCD\u2502JKLMN\u2502\n",
              "\u2502     \u2502     \u2502\n",
              "\u2502OPQRS\u2502YZABC\u2502\n",
              "\u2502TUVWX\u2502DEFGH\u2502\n",
              "\u2514\u2500\u2500\u2500\u2500\u2500\u2534\u2500\u2500\u2500\u2500\u2500\u2518\n",
              "</span>"
            ]
          },
          "execution_count": 211,
          "metadata": {},
          "output_type": "execute_result"
        }
      ],
      "source": [
        "1 0 1 \u2282[2] cuboid"
      ]
    },
    {
      "cell_type": "markdown",
      "id": "premium-float",
      "metadata": {},
      "source": [
        "In this example, the left argument is `1 0 1` and the axis specified is the second one, which has length"
      ]
    },
    {
      "cell_type": "code",
      "execution_count": 212,
      "id": "early-group",
      "metadata": {},
      "outputs": [
        {
          "data": {
            "text/html": [
              "<span style=\"white-space:pre; font-family: monospace\">4\n",
              "</span>"
            ]
          },
          "execution_count": 212,
          "metadata": {},
          "output_type": "execute_result"
        }
      ],
      "source": [
        "2\u2283\u2374cuboid"
      ]
    },
    {
      "cell_type": "markdown",
      "id": "charitable-timeline",
      "metadata": {},
      "source": [
        "So, if the left argument is `1 0 1` and the axis in question has length four, we are omitting a trailing zero:"
      ]
    },
    {
      "cell_type": "code",
      "execution_count": 213,
      "id": "proprietary-variety",
      "metadata": {},
      "outputs": [
        {
          "data": {
            "text/html": [
              "<span style=\"white-space:pre; font-family: monospace\">\u250c\u2500\u2500\u2500\u2500\u2500\u252c\u2500\u2500\u2500\u2500\u2500\u2510\n",
              "\u2502ABCDE\u2502KLMNO\u2502\n",
              "\u2502FGHIJ\u2502PQRST\u2502\n",
              "\u2502     \u2502     \u2502\n",
              "\u2502UVWXY\u2502EFGHI\u2502\n",
              "\u2502ZABCD\u2502JKLMN\u2502\n",
              "\u2502     \u2502     \u2502\n",
              "\u2502OPQRS\u2502YZABC\u2502\n",
              "\u2502TUVWX\u2502DEFGH\u2502\n",
              "\u2514\u2500\u2500\u2500\u2500\u2500\u2534\u2500\u2500\u2500\u2500\u2500\u2518\n",
              "</span>"
            ]
          },
          "execution_count": 213,
          "metadata": {},
          "output_type": "execute_result"
        }
      ],
      "source": [
        "1 0 1 0 \u2282[2] cuboid"
      ]
    },
    {
      "cell_type": "markdown",
      "id": "associate-dancing",
      "metadata": {},
      "source": [
        "If you find it hard to visualise why the result is as shown, you can try to reason about _partitioned enclose_ with an _axis specification_ as a series of enclosures around indexing operations.\n",
        "\n",
        "First, we can put the left argument up with the valid indices for the axis in question:"
      ]
    },
    {
      "cell_type": "code",
      "execution_count": 214,
      "id": "built-progressive",
      "metadata": {},
      "outputs": [
        {
          "data": {
            "text/html": [
              "<span style=\"white-space:pre; font-family: monospace\">1 0 1 0\n",
              "1 2 3 4\n",
              "</span>"
            ]
          },
          "execution_count": 214,
          "metadata": {},
          "output_type": "execute_result"
        }
      ],
      "source": [
        "\u2191(1 0 1 0)(\u23732\u2283\u2374cuboid)"
      ]
    },
    {
      "cell_type": "markdown",
      "id": "streaming-register",
      "metadata": {},
      "source": [
        "This shows that we will have an enclosure around indices `1 2` and another one around indices `3 4`.\n",
        "Now, we just have to do the indexing along the correct axis.\n",
        "Because `cuboid` is a 3D array and we are working with the second index, the indexing will look like `cuboid[;??;]`:"
      ]
    },
    {
      "cell_type": "code",
      "execution_count": 215,
      "id": "bibliographic-bicycle",
      "metadata": {},
      "outputs": [
        {
          "data": {
            "text/html": [
              "<span style=\"white-space:pre; font-family: monospace\">\u250c\u2500\u2500\u2500\u2500\u2500\u252c\u2500\u2500\u2500\u2500\u2500\u2510\n",
              "\u2502ABCDE\u2502KLMNO\u2502\n",
              "\u2502FGHIJ\u2502PQRST\u2502\n",
              "\u2502     \u2502     \u2502\n",
              "\u2502UVWXY\u2502EFGHI\u2502\n",
              "\u2502ZABCD\u2502JKLMN\u2502\n",
              "\u2502     \u2502     \u2502\n",
              "\u2502OPQRS\u2502YZABC\u2502\n",
              "\u2502TUVWX\u2502DEFGH\u2502\n",
              "\u2514\u2500\u2500\u2500\u2500\u2500\u2534\u2500\u2500\u2500\u2500\u2500\u2518\n",
              "</span>"
            ]
          },
          "execution_count": 215,
          "metadata": {},
          "output_type": "execute_result"
        }
      ],
      "source": [
        "(\u2282cuboid[;1 2;]),(\u2282cuboid[;3 4;])"
      ]
    },
    {
      "cell_type": "code",
      "execution_count": 216,
      "id": "satellite-champion",
      "metadata": {},
      "outputs": [
        {
          "data": {
            "text/html": [
              "<span style=\"white-space:pre; font-family: monospace\">1\n",
              "</span>"
            ]
          },
          "execution_count": 216,
          "metadata": {},
          "output_type": "execute_result"
        }
      ],
      "source": [
        "(1 0 1 0\u2282[2]cuboid) \u2261 (\u2282cuboid[;1 2;]),(\u2282cuboid[;3 4;])"
      ]
    },
    {
      "cell_type": "markdown",
      "id": "foster-experiment",
      "metadata": {},
      "source": [
        "(Nested-Arrays-Continued-Wrap-up)=\n",
        "#### Wrap-up\n",
        "\n",
        "Now that we have seen the various nuances associated with _partitioned enclose_, we can bundle them up together.\n",
        "In the expression `r \u2190 pattern \u2282[axis] array`, we have that:\n",
        "\n",
        " - `array` may be any array;\n",
        " - `pattern` may be a non-negative integer scalar or a _simple_ numeric vector composed of non-negative integers;\n",
        " - if left unspecified, `axis` defaults to `\u2262\u2374array`, i.e., the last axis of `array`;\n",
        " - if `pattern` is a scalar `s`, it is extended to `(axis\u2283\u2374array)\u2374s`;\n",
        " - if `pattern` is a vector, its maximum length is `1+axis\u2283\u2374array` and if the `pattern` length is not the maximum, it is extended with trailing zeroes;\n",
        " - each non-zero element in `pattern` specifies how many dividers to insert before the corresponding position along the appropriate axis of `array`;\n",
        " - each enclosure has rank `\u2262\u2374array` and shape `\u2374array`, except in the position specified by `axis`;\n",
        " - the result `r` is a vector containing all the enclosures specified by the `pattern`; and\n",
        " - the length of `r` is `+\u233fpattern` (after extensions).\n",
        "<!-- end -->"
      ]
    },
    {
      "cell_type": "markdown",
      "id": "searching-performance",
      "metadata": {},
      "source": [
        "(Nested-Arrays-Continued-Partition)=\n",
        "### Partition\n",
        "\n",
        "The _partition_ function is the dyadic usage of `\u2286`, and is somewhat similar to the _partitioned enclose_ function.\n",
        "\n",
        "In `r \u2190 pattern \u2286 array`, `pattern` must be a simple vector of non-negative integers, with the same length as the specified axis of the array to be partitioned.\n",
        "It operates as follows:\n",
        "\n",
        " - the first enclosure starts with the first item of the array;\n",
        " - each enclosure ends when the next value of `pattern` is greater than the current one; and\n",
        " - the items which correspond to zeroes in `pattern` are removed."
      ]
    },
    {
      "cell_type": "markdown",
      "id": "convertible-relevance",
      "metadata": {},
      "source": [
        "(Nested-Arrays-Continued-Working-on-Vectors)=\n",
        "#### Working on Vectors\n",
        "\n",
        "We shall work with characters, but of course we could have worked with numbers just as well:"
      ]
    },
    {
      "cell_type": "code",
      "execution_count": 217,
      "id": "drawn-explorer",
      "metadata": {},
      "outputs": [
        {
          "data": {
            "text/html": [
              "<span style=\"white-space:pre; font-family: monospace\">\u250c\u2500\u2500\u2500\u252c\u2500\u2500\u2500\u2500\u252c\u2500\u2500\u2500\u252c\u2500\u2500\u2500\u2500\u2510\n",
              "\u2502Onc\u2502e up\u2502n a\u2502 tim\u2502\n",
              "\u2514\u2500\u2500\u2500\u2534\u2500\u2500\u2500\u2500\u2534\u2500\u2500\u2500\u2534\u2500\u2500\u2500\u2500\u2518\n",
              "</span>"
            ]
          },
          "execution_count": 217,
          "metadata": {},
          "output_type": "execute_result"
        }
      ],
      "source": [
        "pattern \u2190 3 3 3 7 7 1 1 0 3 3 3 9 2 1 1 0\n",
        "pattern \u2286 'Once upon a time'"
      ]
    },
    {
      "cell_type": "markdown",
      "id": "charged-youth",
      "metadata": {},
      "source": [
        "The four enclosures correspond to the beginning of the array, plus the three increments: `3 \u2192 7`, `0 \u2192 3`, and `3 \u2192 9`.\n",
        "You will also notice that two characters have disappeared, because they corresponded to zeroes in the pattern.\n",
        "\n",
        "This definition can be used to group the items of a vector according to a given vector of keys, provided that the keys are ordered in ascending order.\n",
        "For example:"
      ]
    },
    {
      "cell_type": "code",
      "execution_count": 218,
      "id": "optical-terrain",
      "metadata": {},
      "outputs": [
        {
          "data": {
            "text/html": [
              "<span style=\"white-space:pre; font-family: monospace\">\u250c\u2500\u2500\u2500\u2500\u2500\u252c\u2500\u2500\u2500\u2500\u2500\u2500\u2500\u2500\u2500\u2500\u2500\u252c\u2500\u2500\u252c\u2500\u2500\u2500\u2500\u2500\u2500\u2500\u2500\u252c\u2500\u2500\u2500\u2500\u2500\u2510\n",
              "\u250217 10\u250221 45 75 41\u250230\u250281 20 11\u250242 53\u2502\n",
              "\u2514\u2500\u2500\u2500\u2500\u2500\u2534\u2500\u2500\u2500\u2500\u2500\u2500\u2500\u2500\u2500\u2500\u2500\u2534\u2500\u2500\u2534\u2500\u2500\u2500\u2500\u2500\u2500\u2500\u2500\u2534\u2500\u2500\u2500\u2500\u2500\u2518\n",
              "</span>"
            ]
          },
          "execution_count": 218,
          "metadata": {},
          "output_type": "execute_result"
        }
      ],
      "source": [
        "area \u2190 22 22 41 41 41 41 57 63 63 63 85 85\n",
        "cash \u2190 17 10 21 45 75 41 30 81 20 11 42 53\n",
        "area \u2286 cash"
      ]
    },
    {
      "cell_type": "markdown",
      "id": "lonely-probability",
      "metadata": {},
      "source": [
        "This definition is also extremely convenient to divide a character string into a vector of strings on the basis of a separator.\n",
        "For example, let us partition a vector at each of its blank characters:"
      ]
    },
    {
      "cell_type": "code",
      "execution_count": 219,
      "id": "retained-bunch",
      "metadata": {},
      "outputs": [
        {
          "data": {
            "text/html": [
              "<span style=\"white-space:pre; font-family: monospace\">P a n a m a   i s   a   c a n a l   b e t w e e n   A t l a n t i c   a n d   P a c i f i c\n",
              "1 1 1 1 1 1 0 1 1 0 1 0 1 1 1 1 1 0 1 1 1 1 1 1 1 0 1 1 1 1 1 1 1 1 0 1 1 1 0 1 1 1 1 1 1 1\n",
              "</span>"
            ]
          },
          "execution_count": 219,
          "metadata": {},
          "output_type": "execute_result"
        }
      ],
      "source": [
        "phrase \u2190 'Panama is a canal between Atlantic and Pacific'\n",
        "\u2191phrase(phrase\u2260' ')"
      ]
    },
    {
      "cell_type": "code",
      "execution_count": 220,
      "id": "bored-yukon",
      "metadata": {},
      "outputs": [
        {
          "data": {
            "text/html": [
              "<span style=\"white-space:pre; font-family: monospace\">\u250c\u2500\u2500\u2500\u2500\u2500\u2500\u252c\u2500\u2500\u252c\u2500\u252c\u2500\u2500\u2500\u2500\u2500\u252c\u2500\u2500\u2500\u2500\u2500\u2500\u2500\u252c\u2500\u2500\u2500\u2500\u2500\u2500\u2500\u2500\u252c\u2500\u2500\u2500\u252c\u2500\u2500\u2500\u2500\u2500\u2500\u2500\u2510\n",
              "\u2502Panama\u2502is\u2502a\u2502canal\u2502between\u2502Atlantic\u2502and\u2502Pacific\u2502\n",
              "\u2514\u2500\u2500\u2500\u2500\u2500\u2500\u2534\u2500\u2500\u2534\u2500\u2534\u2500\u2500\u2500\u2500\u2500\u2534\u2500\u2500\u2500\u2500\u2500\u2500\u2500\u2534\u2500\u2500\u2500\u2500\u2500\u2500\u2500\u2500\u2534\u2500\u2500\u2500\u2534\u2500\u2500\u2500\u2500\u2500\u2500\u2500\u2518\n",
              "</span>"
            ]
          },
          "execution_count": 220,
          "metadata": {},
          "output_type": "execute_result"
        }
      ],
      "source": [
        "(phrase\u2260' ')\u2286phrase"
      ]
    },
    {
      "cell_type": "markdown",
      "id": "disciplinary-kenya",
      "metadata": {},
      "source": [
        "The blanks have been removed, because they matched the zeroes, and a new enclosure starts at the beginning of each word, corresponding to the increment `0 \u2192 1`.\n",
        "As you might imagine, this is extremely useful in many circumstances.\n",
        "One can write a function to do it, with the separator passed as a left argument:"
      ]
    },
    {
      "cell_type": "code",
      "execution_count": 221,
      "id": "sunrise-front",
      "metadata": {},
      "outputs": [
        {
          "data": {
            "text/html": [
              "<span style=\"white-space:pre; font-family: monospace\">Panama  \n",
              "is      \n",
              "a       \n",
              "canal   \n",
              "between \n",
              "Atlantic\n",
              "and     \n",
              "Pacific \n",
              "</span>"
            ]
          },
          "execution_count": 221,
          "metadata": {},
          "output_type": "execute_result"
        }
      ],
      "source": [
        "Cut \u2190 {(~\u2375\u220a\u237a)\u2286\u2375}\n",
        "\u2191' 'Cut phrase"
      ]
    },
    {
      "cell_type": "markdown",
      "id": "preliminary-cookbook",
      "metadata": {},
      "source": [
        "In fact, we wrote the function to accept not just a single separator, but a list of separators, by replacing the perhaps more obvious `(\u2375\u2260\u237a)` by `(~\u2375\u220a\u237a)`.\n",
        "Now we can use it like this:"
      ]
    },
    {
      "cell_type": "code",
      "execution_count": 222,
      "id": "illegal-disease",
      "metadata": {},
      "outputs": [
        {
          "data": {
            "text/html": [
              "<span style=\"white-space:pre; font-family: monospace\">Pana                    \n",
              "a is a canal bet        \n",
              "een Atlantic and Pacific\n",
              "</span>"
            ]
          },
          "execution_count": 222,
          "metadata": {},
          "output_type": "execute_result"
        }
      ],
      "source": [
        "\u2191'mw' Cut phrase"
      ]
    },
    {
      "cell_type": "markdown",
      "id": "cross-consideration",
      "metadata": {},
      "source": [
        "(Nested-Arrays-Continued-Working-on-Higher-Rank-Arrays)=\n",
        "#### Working on Higher-Rank Arrays\n",
        "\n",
        "Although _partition_ is very simple, and clearly useful, when applied to vectors, the situation is more complex when it is applied to matrices or higher-rank arrays.\n",
        "This is in contrast to the definition of _partitioned enclose_, which works on any rank arrays in a very straightforward way.\n",
        "We shall not study the more complex application of _partition_ here; if you are interested, please refer to {numref}`Nested-Arrays-Continued-High-rank-Partition` at the end of this chapter."
      ]
    },
    {
      "cell_type": "markdown",
      "id": "through-frame",
      "metadata": {},
      "source": [
        "(Nested-Arrays-Continued-Union--Intersection)=\n",
        "## Union & Intersection\n",
        "\n",
        "In mathematics, one uses the two functions _union_ and _intersection_ to compare two sets of values.\n",
        "Dyalog APL provides the same functions, with the same symbols as the ones used in mathematics:\n",
        "\n",
        " - _union_, `left \u222a right` (typed with <kbd>APL</kbd> + <kbd>v</kbd>), returns a vector containing all the items of `left`, followed by the items of `right` which do not appear in `left`.\n",
        " Both `left` and `right` must be scalars or vectors.\n",
        " Equivalent to `left,right~left`.\n",
        " - _intersection_, `left \u2229 right` (typed with <kbd>APL</kbd> + <kbd>c</kbd>), returns a vector containing the items of `left` that also appear in `right`.\n",
        " Both `left` and `right` must be scalars or vectors.\n",
        " Equivalent to `(left\u220aright)/left`."
      ]
    },
    {
      "cell_type": "code",
      "execution_count": 103,
      "id": "infinite-debut",
      "metadata": {},
      "outputs": [
        {
          "data": {
            "text/html": [
              "<span style=\"white-space:pre; font-family: monospace\">15 76 43 80 11 20 93\n",
              "</span>"
            ]
          },
          "execution_count": 103,
          "metadata": {},
          "output_type": "execute_result"
        }
      ],
      "source": [
        "15 76 43 80 \u222a 11 43 15 20 76 93"
      ]
    },
    {
      "cell_type": "code",
      "execution_count": 104,
      "id": "exact-recruitment",
      "metadata": {},
      "outputs": [
        {
          "data": {
            "text/html": [
              "<span style=\"white-space:pre; font-family: monospace\">\u250c\u2500\u2500\u2500\u252c\u2500\u2500\u2510\n",
              "\u2502are\u2502so\u2502\n",
              "\u2514\u2500\u2500\u2500\u2534\u2500\u2500\u2518\n",
              "</span>"
            ]
          },
          "execution_count": 104,
          "metadata": {},
          "output_type": "execute_result"
        }
      ],
      "source": [
        "'we' 'are' 'so' 'happy' \u2229 'why' 'are' 'you' 'so' 'tired?'"
      ]
    },
    {
      "cell_type": "markdown",
      "id": "neural-albania",
      "metadata": {},
      "source": [
        "Note that these functions do not remove duplicates (because, in mathematics, all the items of a set are supposedly distinct):"
      ]
    },
    {
      "cell_type": "code",
      "execution_count": 105,
      "id": "iraqi-pasta",
      "metadata": {},
      "outputs": [
        {
          "data": {
            "text/html": [
              "<span style=\"white-space:pre; font-family: monospace\">1 1 2 2 3 3 5 5\n",
              "</span>"
            ]
          },
          "execution_count": 105,
          "metadata": {},
          "output_type": "execute_result"
        }
      ],
      "source": [
        "1 1 2 2 \u222a 1 1 3 3 5 5"
      ]
    },
    {
      "cell_type": "code",
      "execution_count": 106,
      "id": "north-washer",
      "metadata": {},
      "outputs": [
        {
          "data": {
            "text/html": [
              "<span style=\"white-space:pre; font-family: monospace\">\u250c\u2500\u2500\u2500\u252c\u2500\u2500\u2500\u2510\n",
              "\u2502had\u2502had\u2502\n",
              "\u2514\u2500\u2500\u2500\u2534\u2500\u2500\u2500\u2518\n",
              "</span>"
            ]
          },
          "execution_count": 106,
          "metadata": {},
          "output_type": "execute_result"
        }
      ],
      "source": [
        "'if' 'we' 'had' 'had' 'a' 'car' \u2229 'have' 'you' 'had' 'lunch' '?'"
      ]
    },
    {
      "cell_type": "markdown",
      "id": "incident-fashion",
      "metadata": {},
      "source": [
        "(Nested-Arrays-Continued-Enlist)=\n",
        "## Enlist\n",
        "\n",
        "_Enlist_ is the monadic usage of _epsilon_ `\u220a`.\n",
        "_Enlist_ returns a vector of all the simple scalars contained in an array.\n",
        "This could, at first sight, look very much like _ravel_, but it is **not** the same for nested arrays.\n",
        "_Ravel_ just rearranges the top-level items of an array, while _enlist_ removes all levels of nesting and returns a simple vector.\n",
        "Let us compare the two functions:"
      ]
    },
    {
      "cell_type": "code",
      "execution_count": 107,
      "id": "natural-cologne",
      "metadata": {},
      "outputs": [
        {
          "data": {
            "text/html": [
              "<span style=\"white-space:pre; font-family: monospace\">\u250c\u2500\u2500\u2500\u2500\u2500\u252c\u2500\u2500\u2500\u2500\u2510\n",
              "\u2502One  \u2502Two \u2502\n",
              "\u251c\u2500\u2500\u2500\u2500\u2500\u253c\u2500\u2500\u2500\u2500\u2524\n",
              "\u2502Three\u2502Four\u2502\n",
              "\u2514\u2500\u2500\u2500\u2500\u2500\u2534\u2500\u2500\u2500\u2500\u2518\n",
              "</span>"
            ]
          },
          "execution_count": 107,
          "metadata": {},
          "output_type": "execute_result"
        }
      ],
      "source": [
        "\u2395\u2190 test \u2190 2 2\u2374'One' 'Two' 'Three' 'Four'"
      ]
    },
    {
      "cell_type": "code",
      "execution_count": 108,
      "id": "dietary-exhibit",
      "metadata": {},
      "outputs": [
        {
          "data": {
            "text/html": [
              "<span style=\"white-space:pre; font-family: monospace\">\u250c\u2500\u2500\u2500\u252c\u2500\u2500\u2500\u252c\u2500\u2500\u2500\u2500\u2500\u252c\u2500\u2500\u2500\u2500\u2510\n",
              "\u2502One\u2502Two\u2502Three\u2502Four\u2502\n",
              "\u2514\u2500\u2500\u2500\u2534\u2500\u2500\u2500\u2534\u2500\u2500\u2500\u2500\u2500\u2534\u2500\u2500\u2500\u2500\u2518\n",
              "</span>"
            ]
          },
          "execution_count": 108,
          "metadata": {},
          "output_type": "execute_result"
        }
      ],
      "source": [
        ",test"
      ]
    },
    {
      "cell_type": "code",
      "execution_count": 109,
      "id": "contained-western",
      "metadata": {},
      "outputs": [
        {
          "data": {
            "text/html": [
              "<span style=\"white-space:pre; font-family: monospace\">OneTwoThreeFour\n",
              "</span>"
            ]
          },
          "execution_count": 109,
          "metadata": {},
          "output_type": "execute_result"
        }
      ],
      "source": [
        "\u220atest"
      ]
    },
    {
      "cell_type": "markdown",
      "id": "rough-northern",
      "metadata": {},
      "source": [
        "(fig-APLer-Expert_Blue)=\n",
        "```{figure} res/APLer-Expert_Blue.PNG\n",
        "---\n",
        "name: APLer-Expert_Blue\n",
        "---\n",
        "Expert APLer determining how to best hammer a nail.\n",
        "```\n"
      ]
    },
    {
      "cell_type": "markdown",
      "id": "amateur-bowling",
      "metadata": {},
      "source": [
        "(Nested-Arrays-Continued-Exercises)=\n",
        "## Exercises\n",
        "\n",
        "```{exercise}\n",
        ":label: ex-quantitiessold\n",
        "You are given two vectors.\n",
        "The first contains the reference codes for some items in a warehouse.\n",
        "Identical codes are grouped, but not necessarily in ascending order.\n",
        "The second vector contains the quantities of each item sold during the day or the week.\n",
        "\n",
        "Write a dyadic function `QuantitiesSold` that accepts these two vectors as arguments and calculates how many items of each reference code have been sold. Preferably, use a partitioning function.\n",
        "```\n"
      ]
    },
    {
      "cell_type": "code",
      "execution_count": 6,
      "id": "emotional-renewal",
      "metadata": {},
      "outputs": [],
      "source": [
        "ref \u2190 47 47 83 83 83 83 83 29 36 36 36 50 50\n",
        "qty \u2190  5  8  3 18 11  1  6 10 61 52 39  8 11"
      ]
    },
    {
      "cell_type": "code",
      "execution_count": 9,
      "id": "younger-incentive",
      "metadata": {
        "tags": [
          "skip-execution"
        ]
      },
      "outputs": [
        {
          "data": {
            "text/html": [
              "<span style=\"white-space:pre; font-family: monospace\">13 39 10 152 19\n",
              "</span>"
            ]
          },
          "execution_count": 9,
          "metadata": {},
          "output_type": "execute_result"
        }
      ],
      "source": [
        "ref QuantitiesSold qty"
      ]
    },
    {
      "cell_type": "code",
      "execution_count": 10,
      "id": "provincial-interference",
      "metadata": {
        "tags": [
          "skip-execution"
        ]
      },
      "outputs": [
        {
          "data": {
            "text/html": [
              "<span style=\"white-space:pre; font-family: monospace\">1\n",
              "</span>"
            ]
          },
          "execution_count": 10,
          "metadata": {},
          "output_type": "execute_result"
        }
      ],
      "source": [
        "13 39 10 152 19 \u2261 ref QuantitiesSold qty"
      ]
    },
    {
      "cell_type": "markdown",
      "id": "valid-trance",
      "metadata": {},
      "source": [
        "```{exercise}\n",
        ":label: ex-high-dim-index-of\n",
        "You are given two character matrices with the same number of columns.\n",
        "Let us call them `big` and `small`.\n",
        "\n",
        "You are asked to find where the rows of `small` appear in `big`. i.e., for each row in `small` find the index of the same row in `big`.\n",
        "For those rows of `small` which do not appear in `big`, you can return the value `0`, or `1+\u2262big`.\n",
        "\n",
        "Currently, _index of_ `\u2373` works on matrices, but this hasn't always been the case.\n",
        "Thus, can you solve this exercise without using _index of_ on matrices?\n",
        "(Using _index of_ on vectors is still allowed!)\n",
        "```\n"
      ]
    },
    {
      "cell_type": "code",
      "execution_count": 11,
      "id": "voluntary-communications",
      "metadata": {},
      "outputs": [
        {
          "data": {
            "text/html": [
              "<span style=\"white-space:pre; font-family: monospace\">1  2\n",
              "3  4\n",
              "5  6\n",
              "7  8\n",
              "9 10\n",
              "</span>"
            ]
          },
          "execution_count": 11,
          "metadata": {},
          "output_type": "execute_result"
        }
      ],
      "source": [
        "\u2395\u2190 big \u2190 5 2\u2374\u237310"
      ]
    },
    {
      "cell_type": "code",
      "execution_count": 12,
      "id": "strong-situation",
      "metadata": {},
      "outputs": [
        {
          "data": {
            "text/html": [
              "<span style=\"white-space:pre; font-family: monospace\"> 1  2\n",
              " 3  4\n",
              " 9 10\n",
              "11 12\n",
              "</span>"
            ]
          },
          "execution_count": 12,
          "metadata": {},
          "output_type": "execute_result"
        }
      ],
      "source": [
        "\u2395\u2190 small \u2190 (2 2\u2374\u23734)\u236a8+2 2\u2374\u23738"
      ]
    },
    {
      "cell_type": "markdown",
      "id": "fleet-intro",
      "metadata": {},
      "source": [
        "The result should be"
      ]
    },
    {
      "cell_type": "code",
      "execution_count": 13,
      "id": "exposed-gibson",
      "metadata": {},
      "outputs": [
        {
          "data": {
            "text/html": [
              "<span style=\"white-space:pre; font-family: monospace\">1 2 5 6\n",
              "</span>"
            ]
          },
          "execution_count": 13,
          "metadata": {},
          "output_type": "execute_result"
        }
      ],
      "source": [
        "big \u2373 small  \u235d 1 2 5 0 is also acceptable."
      ]
    },
    {
      "cell_type": "markdown",
      "id": "minute-mongolia",
      "metadata": {},
      "source": [
        "```{exercise}\n",
        ":label: ex-empty-vectors\n",
        "A _partitioned enclose_ with a single zero as the left argument returns an empty vector.\n",
        "However, as you know already, not all empty vectors are the same.\n",
        "When working with empty vectors, we also work with prototypes, because an empty vector knows what it would contain if it were not empty.\n",
        "\n",
        "Go over the expressions that follow and build the empty vector that _matches_ the result of the empty _partitioned enclose_:\n",
        "\n",
        " - `0\u2282'Partition'`\n",
        " - `0\u2282\u237310`\n",
        " - `0\u2282\u236c`\n",
        " - `0\u22823 2\u2374\u2395A`\n",
        " - `0\u22823 4 5\u2374\u237360`\n",
        " - `0\u2282(1 2 3)(4 5 6)(7 8 9)`\n",
        " - `0\u2282('cat')('dog')(7 8 9)`\n",
        " - `0\u2282(14 'cat' 8)('a' 2 'c' 4)(1 2 3)`\n",
        "```\n",
        "\n",
        "The first one is already solved:"
      ]
    },
    {
      "cell_type": "code",
      "execution_count": 15,
      "id": "potential-trace",
      "metadata": {},
      "outputs": [
        {
          "data": {
            "text/html": [
              "<span style=\"white-space:pre; font-family: monospace\">1\n",
              "</span>"
            ]
          },
          "execution_count": 15,
          "metadata": {},
          "output_type": "execute_result"
        }
      ],
      "source": [
        "sol \u2190 0\u2374\u2282''\n",
        "(0\u2282'Partition')\u2261sol"
      ]
    },
    {
      "cell_type": "markdown",
      "id": "accurate-george",
      "metadata": {},
      "source": [
        "```{exercise}\n",
        ":label: ex-startandend\n",
        "Write a monadic function `StartAndEnd` that, given a word or a list of words, returns a Boolean vector where 1 indicates a word that starts and ends with the same letter. Each word will have at least one letter and will consist entirely of either uppercase (A\u2013Z) or lowercase (a\u2013z) letters. Words consisting of a single letter can be scalars and **are** considered to start and end with the same letter.\n",
        "```\n"
      ]
    },
    {
      "cell_type": "code",
      "execution_count": 21,
      "id": "scheduled-springfield",
      "metadata": {
        "tags": [
          "skip-execution"
        ]
      },
      "outputs": [
        {
          "data": {
            "text/html": [
              "<span style=\"white-space:pre; font-family: monospace\">1 0 1\n",
              "</span>"
            ]
          },
          "execution_count": 21,
          "metadata": {},
          "output_type": "execute_result"
        }
      ],
      "source": [
        "StartAndEnd 'area' 'banana' 'shoes'"
      ]
    },
    {
      "cell_type": "code",
      "execution_count": 22,
      "id": "pretty-samoa",
      "metadata": {
        "tags": [
          "skip-execution"
        ]
      },
      "outputs": [
        {
          "data": {
            "text/html": [
              "<span style=\"white-space:pre; font-family: monospace\">0\n",
              "</span>"
            ]
          },
          "execution_count": 22,
          "metadata": {},
          "output_type": "execute_result"
        }
      ],
      "source": [
        "StartAndEnd 'cape'"
      ]
    },
    {
      "cell_type": "code",
      "execution_count": 23,
      "id": "bigger-sheet",
      "metadata": {
        "tags": [
          "skip-execution"
        ]
      },
      "outputs": [
        {
          "data": {
            "text/html": [
              "<span style=\"white-space:pre; font-family: monospace\">1\n",
              "</span>"
            ]
          },
          "execution_count": 23,
          "metadata": {},
          "output_type": "execute_result"
        }
      ],
      "source": [
        "StartAndEnd 'z'"
      ]
    },
    {
      "cell_type": "markdown",
      "id": "described-eligibility",
      "metadata": {},
      "source": [
        "```{exercise}\n",
        ":label: ex-extract-subvectors\n",
        "Write a dyadic function `Extract` that accepts a character vector left argument (let us call it `text`) and an integer vector right argument (let us call it `start`).\n",
        "We would like to extract a part of `text` as a _simple_ character vector.\n",
        "The extract is defined as a number of sub-vectors, each being five characters long, and starting at the positions given by `start`.\n",
        "```\n"
      ]
    },
    {
      "cell_type": "code",
      "execution_count": 26,
      "id": "exotic-living",
      "metadata": {
        "tags": [
          "skip-execution"
        ]
      },
      "outputs": [
        {
          "data": {
            "text/html": [
              "<span style=\"white-space:pre; font-family: monospace\">borintypedxperi\n",
              "</span>"
            ]
          },
          "execution_count": 26,
          "metadata": {},
          "output_type": "execute_result"
        }
      ],
      "source": [
        "text \u2190 'This boring text has been typed just for a little experiment.'\n",
        "start \u2190 6 27 52\n",
        "text Extract start"
      ]
    },
    {
      "cell_type": "code",
      "execution_count": 27,
      "id": "american-three",
      "metadata": {
        "tags": [
          "skip-execution"
        ]
      },
      "outputs": [
        {
          "data": {
            "text/html": [
              "<span style=\"white-space:pre; font-family: monospace\">1\n",
              "</span>"
            ]
          },
          "execution_count": 27,
          "metadata": {},
          "output_type": "execute_result"
        }
      ],
      "source": [
        "'borintypedxperi' \u2261 text Extract start"
      ]
    },
    {
      "cell_type": "markdown",
      "id": "historic-shepherd",
      "metadata": {},
      "source": [
        "```{exercise}\n",
        ":label: ex-extractl\n",
        "This exercise is the same as the previous one, but instead of extracting five characters each time, you are asked to extract a variable number of characters specified by the variable `long`.\n",
        "```\n",
        "\n",
        "You can use the same example as above plus the additional variable `length`:"
      ]
    },
    {
      "cell_type": "code",
      "execution_count": 30,
      "id": "phantom-realtor",
      "metadata": {
        "tags": [
          "skip-execution"
        ]
      },
      "outputs": [
        {
          "data": {
            "text/html": [
              "<span style=\"white-space:pre; font-family: monospace\">bortyped juxper\n",
              "</span>"
            ]
          },
          "execution_count": 30,
          "metadata": {},
          "output_type": "execute_result"
        }
      ],
      "source": [
        "length \u2190 3 8 4\n",
        "text ExtractL start length"
      ]
    },
    {
      "cell_type": "code",
      "execution_count": 31,
      "id": "renewable-annex",
      "metadata": {
        "tags": [
          "skip-execution"
        ]
      },
      "outputs": [
        {
          "data": {
            "text/html": [
              "<span style=\"white-space:pre; font-family: monospace\">1\n",
              "</span>"
            ]
          },
          "execution_count": 31,
          "metadata": {},
          "output_type": "execute_result"
        }
      ],
      "source": [
        "'bortyped juxper' \u2261 text ExtractL start length"
      ]
    },
    {
      "cell_type": "markdown",
      "id": "expensive-missile",
      "metadata": {},
      "source": [
        "(Nested-Arrays-Continued-The-Specialists-Section)=\n",
        "## The Specialist's Section\n",
        "\n",
        "<br />\n",
        "<center>\n",
        "<i>Each chapter is followed by a \"Specialist's Section\" like this one. This section is dedicated to skilled APLers who wish to improve their knowledge.</i>\n",
        "You will find here rare or complex usages of the concepts presented in this chapter, or discover extended explanations which need the knowledge of some symbols that will be seen much further in the book.\n",
        "\n",
        "<b>If you are exploring APL for the first time, skip this section and go to the next chapter.</b>\n",
        "</center>"
      ]
    },
    {
      "cell_type": "markdown",
      "id": "durable-biotechnology",
      "metadata": {},
      "source": [
        "(Nested-Arrays-Continued-Compatibility-and-Migration-Level)=\n",
        "### Compatibility and Migration Level\n",
        "\n",
        "(Nested-Arrays-Continued-Migration-Level)=\n",
        "#### Migration Level\n",
        "\n",
        "In the early 1980s, a number of \"second-generation\" APL systems evolved to support _nested arrays_.\n",
        "Dyalog APL entered the market just as these systems were starting to appear, and decided to adopt the APL2 specification that IBM had been presenting to the world.\n",
        "In the event, unfortunately, the APL2 specification changed very late in this process, after Dyalog had more or less released Dyalog APL (or so the story goes).\n",
        "As a result, there are some minor differences between the dialects.\n",
        "\n",
        "Just to give you an idea of the (sometimes) subtle differences, let us take a look at the expression `a b c[2]`, where `a`, `b`, and `c` are three vectors; for example:"
      ]
    },
    {
      "cell_type": "code",
      "execution_count": 110,
      "id": "deluxe-focus",
      "metadata": {},
      "outputs": [],
      "source": [
        "a \u2190 1 2 3\n",
        "b \u2190 4 5 6\n",
        "c \u2190 7 8 9"
      ]
    },
    {
      "cell_type": "markdown",
      "id": "collaborative-ethiopia",
      "metadata": {},
      "source": [
        "The expression `a b c[2]` is ambiguous; it may be interpreted in two different ways:\n",
        "\n",
        " - does it mean \"create a 3-item vector made of `a`, `b`, and the second item of `c`\"; or\n",
        " - does it mean \"create a 3-item vector made of `a`, `b`, and `c`, and then take the second item of it (that is to say, `b` enclosed)?\n",
        "\n",
        "IBM chose the first interpretation, and in an IBM-compatible implementation of APL the result would be `(1 2 3) (4 5 6) 8`.\n",
        "\n",
        "In Dyalog APL, indexing is a function like any other function, in that it takes as its argument the entire vector on its left.\n",
        "The result is therefore `\u22824 5 6` (`\u2282` because strand notation nested the items):"
      ]
    },
    {
      "cell_type": "code",
      "execution_count": 245,
      "id": "precise-release",
      "metadata": {},
      "outputs": [
        {
          "data": {
            "text/html": [
              "<span style=\"white-space:pre; font-family: monospace\">\u250c\u2500\u2500\u2500\u2500\u2500\u2510\n",
              "\u25024 5 6\u2502\n",
              "\u2514\u2500\u2500\u2500\u2500\u2500\u2518\n",
              "</span>"
            ]
          },
          "execution_count": 245,
          "metadata": {},
          "output_type": "execute_result"
        }
      ],
      "source": [
        "a b c[2]"
      ]
    },
    {
      "cell_type": "markdown",
      "id": "rural-layer",
      "metadata": {},
      "source": [
        "As a minor player at the time, Dyalog wished to move the product in the direction of APL2, and in order to help the people who needed to use both IBM's APL2 and Dyalog APL, and to make it easier to migrate an application from APL2 to Dyalog, a compatibility feature was introduced into Dyalog APL via a special _system variable_ named `\u2395ML`, where the letters \"ML\" stand for \"migration level\".\n",
        "\n",
        "The default value for `\u2395ML` is `1`.\n",
        "\n",
        "To use code written according to IBM's conventions, it is possible to set `\u2395ML` to higher values (up to `3`), and obtain an increasing (but not total) level of compatibility with IBM's APL2.\n",
        "In other words, setting `\u2395ML` to `0` means \"the Dyalog way\", which also shows that the default value for `\u2395ML` is a small compromise between Dyalog's original specification and APL2.\n",
        "Today, Dyalog has become a major player in the APL market.\n",
        "Pressure on Dyalog users to move in the direction of APL2 has faded and many users prefer the Dyalog definitions.\n",
        "The unfortunate result of the story is that, depending on the roots of an application, code may be written to use any one of the possible migration levels.\n",
        "\n",
        "In this book we use the default value of `\u2395ML \u2190 1`, but we shall mention how some operations could be written in IBM's notation.\n",
        "\n",
        "It should be emphasised that when you select a non-zero value for `\u2395ML`, the \"Dyalog way\" of operation will no longer be available for the primitive functions that are sensitive to the selected value of `\u2395ML`.\n",
        "\n",
        "```{admonition} Remark \n",
        ":class: tip\n",
        "`\u2395ML` is a normal _system variable_.\n",
        "It can be localised in a function header or in a dynamic function, so that its influence is restricted to that function.\n",
        "```\n"
      ]
    },
    {
      "cell_type": "markdown",
      "id": "collective-theology",
      "metadata": {},
      "source": [
        "(Nested-Arrays-Continued-A-List-of-Differences)=\n",
        "#### A List of Differences\n",
        "\n",
        "This list is not a complete list of language differences between IBM APL2 and Dyalog.\n",
        "It only lists the features of Dyalog APL that can be made to function like those of APL2 by setting `\u2395ML` appropriately.\n",
        "\n",
        "The first column contains the operation we are talking about;\n",
        "the second and third columns compare how you perform that operation the \"Dyalog way\" (with `\u2395ML \u2190 0`) or in APL2, respectively; and the fourth column contains additional comments.\n",
        "\n",
        "| Operation | Dyalog's implementation | IBM's implementation | Comments |\n",
        "| :- | :- | :- | :- |\n",
        "| Mix | `\u2191[n]var` with `n` decimal | `\u2283[n]var` with `n` integer or decimal | Same behaviour, different symbols. IBM's definition requires `\u2395ML\u22652`. |\n",
        "| Split | `\u2193[n]var` | `\u2282[n]` | Same behaviour, different symbols. IBM's definition requires `\u2395ML\u22651`. |\n",
        "| Partition | `pat\u2282[n]var` with `pat` Boolean | `pat\u2282[n]var` with `pat` integer | Same syntax, but different behaviour. With `\u2395ML\u22653`, Dyalog's `\u2282` becomes the same as `\u2286`, because `\u2286` behaves like IBM's partition. |\n",
        "| First | `\u2283var` | `\u2191var` | Same behaviour, different symbols. IBM's definition requires `\u2395ML\u22652`. |\n",
        "| Enlist | n/a | `\u220avar` | No Dyalog equivalent. Requires `\u2395ML>0`, but because the default value of `\u2395ML` is 1, _enlist_ is typically available in Dyalog. |\n",
        "| Type | `\u220avar` | `\u21910\u2374\u2282var` | No special symbol in IBM's definition. The IBM expression requires `\u2395ML\u22652`. Because `\u2395ML\u21901` is the default, `\u220a` is  generally the _enlist_ function, not the _type_ function. See {numref}`Nested-Arrays-Continued-Computing-the-Type-and-Prototype`. |\n",
        "| Depth | `\u2261var` | `\u2261var` | If the items of `var` have non-uniform depths, the IBM definition returns the absolute value of the depth rather than a negative value. IBM's definition requires `\u2395ML\u22652`. |\n",
        "| `\u2395TC` | Backspace, Linefeed, Newline | Backspace, Newline, Linefeed | The order of the contents of `\u2395TC` changes. IBM's definition requires `\u2395ML\u22653`. |"
      ]
    },
    {
      "cell_type": "markdown",
      "id": "subtle-johns",
      "metadata": {},
      "source": [
        "(Nested-Arrays-Continued-Computing-the-Type-and-Prototype)=\n",
        "### Computing the Type and Prototype\n",
        "\n",
        "In {numref}`Nested-Arrays-Continued-Type-Prototype-Fill-Item` we defined the _type_ of an array and the _prototype_ of an array, and yet, we have not discussed how to compute it.\n",
        "However, you may have noticed that the discussion about `\u2395ML` referenced a primitive called _type_.\n",
        "\n",
        "\n",
        "(Nested-Arrays-Continued-Migration-Level-Zero)=\n",
        "#### Migration Level Zero\n",
        "\n",
        "In Dyalog APL, when `\u2395ML` is set to `0` (the value that separates Dyalog APL from APL2 the most), the _epsilon_ glyph stops representing the function _enlist_ and becomes the function _type_.\n",
        "\n",
        "In other words, the original versions of Dyalog APL included a function that computed the _type_ of an array, and that function was `\u220a`.\n",
        "However, in the present day, the default value of `\u2395ML \u2190 1` means this function is generally not available.\n",
        "\n",
        "Of course we can set `\u2395ML \u2190 0` and see it in action:"
      ]
    },
    {
      "cell_type": "code",
      "execution_count": 114,
      "id": "caroline-import",
      "metadata": {},
      "outputs": [
        {
          "data": {
            "text/html": [
              "<span style=\"white-space:pre; font-family: monospace\">\u250c\u2500\u252c\u2500\u2500\u2500\u252c\u2500\u252c\u2500\u2500\u2500\u2500\u2500\u2500\u2500\u2500\u2510\n",
              "\u25020\u25020 0\u2502 \u2502\u250c\u2500\u2500\u2500\u2500\u252c\u2500\u2510\u2502\n",
              "\u2502 \u25020 0\u2502 \u2502\u25020   \u25020\u2502\u2502\n",
              "\u2502 \u2502   \u2502 \u2502\u251c\u2500\u2500\u2500\u2500\u253c\u2500\u2524\u2502\n",
              "\u2502 \u2502   \u2502 \u2502\u2502    \u25020\u2502\u2502\n",
              "\u2502 \u2502   \u2502 \u2502\u2514\u2500\u2500\u2500\u2500\u2534\u2500\u2518\u2502\n",
              "\u2514\u2500\u2534\u2500\u2500\u2500\u2534\u2500\u2534\u2500\u2500\u2500\u2500\u2500\u2500\u2500\u2500\u2518\n",
              "</span>"
            ]
          },
          "execution_count": 114,
          "metadata": {},
          "output_type": "execute_result"
        }
      ],
      "source": [
        "\u2395ML \u2190 0\n",
        "\u220ahogwash"
      ]
    },
    {
      "cell_type": "markdown",
      "id": "national-handle",
      "metadata": {},
      "source": [
        "We can even check that we determined the _type_ of `hogwash` correctly before:"
      ]
    },
    {
      "cell_type": "code",
      "execution_count": 117,
      "id": "vulnerable-robinson",
      "metadata": {},
      "outputs": [
        {
          "data": {
            "text/html": [
              "<span style=\"white-space:pre; font-family: monospace\">1\n",
              "</span>"
            ]
          },
          "execution_count": 117,
          "metadata": {},
          "output_type": "execute_result"
        }
      ],
      "source": [
        "hogwashType\u2261\u220ahogwash"
      ]
    },
    {
      "cell_type": "markdown",
      "id": "killing-friend",
      "metadata": {},
      "source": [
        "Similarly, if `\u2395ML \u2190 0`, we can easily compute the _prototype_ of an array:"
      ]
    },
    {
      "cell_type": "code",
      "execution_count": 248,
      "id": "unusual-green",
      "metadata": {},
      "outputs": [
        {
          "data": {
            "text/html": [
              "<span style=\"white-space:pre; font-family: monospace\">0\n",
              "</span>"
            ]
          },
          "execution_count": 248,
          "metadata": {},
          "output_type": "execute_result"
        }
      ],
      "source": [
        "\u220a\u2283hogwash"
      ]
    },
    {
      "cell_type": "markdown",
      "id": "textile-asbestos",
      "metadata": {},
      "source": [
        "We can see that `0` really is the _prototype_ of `hogwash` because when we _overtake_ with `\u2191`, the _fill items_ are `0`s:"
      ]
    },
    {
      "cell_type": "code",
      "execution_count": 249,
      "id": "timely-feeling",
      "metadata": {},
      "outputs": [
        {
          "data": {
            "text/html": [
              "<span style=\"white-space:pre; font-family: monospace\">\u250c\u2500\u2500\u252c\u2500\u2500\u2500\u252c\u2500\u252c\u2500\u2500\u2500\u2500\u2500\u2500\u2500\u2500\u252c\u2500\u252c\u2500\u2510\n",
              "\u250219\u25021 2\u2502A\u2502\u250c\u2500\u2500\u2500\u2500\u252c\u2500\u2510\u25020\u25020\u2502\n",
              "\u2502  \u25023 4\u2502P\u2502\u25025   \u25028\u2502\u2502 \u2502 \u2502\n",
              "\u2502  \u2502   \u2502L\u2502\u251c\u2500\u2500\u2500\u2500\u253c\u2500\u2524\u2502 \u2502 \u2502\n",
              "\u2502  \u2502   \u2502 \u2502\u2502Nuts\u25029\u2502\u2502 \u2502 \u2502\n",
              "\u2502  \u2502   \u2502 \u2502\u2514\u2500\u2500\u2500\u2500\u2534\u2500\u2518\u2502 \u2502 \u2502\n",
              "\u2514\u2500\u2500\u2534\u2500\u2500\u2500\u2534\u2500\u2534\u2500\u2500\u2500\u2500\u2500\u2500\u2500\u2500\u2534\u2500\u2534\u2500\u2518\n",
              "</span>"
            ]
          },
          "execution_count": 249,
          "metadata": {},
          "output_type": "execute_result"
        }
      ],
      "source": [
        "6\u2191hogwash"
      ]
    },
    {
      "cell_type": "markdown",
      "id": "oriental-momentum",
      "metadata": {},
      "source": [
        "Now, before we forget, let us restore `\u2395ML` to its default value:"
      ]
    },
    {
      "cell_type": "code",
      "execution_count": 250,
      "id": "earned-packing",
      "metadata": {},
      "outputs": [],
      "source": [
        "\u2395ML \u2190 1"
      ]
    },
    {
      "cell_type": "markdown",
      "id": "spread-region",
      "metadata": {},
      "source": [
        "(Nested-Arrays-Continued-Migration-Level-Non-zero)=\n",
        "#### Migration Level Non-zero\n",
        "\n",
        "When we are working with the default `\u2395ML` value \u2013 or any non-zero `\u2395ML` value, for that matter \u2013 we cannot use the primitive function _type_ `\u220a` because that function is not available.\n",
        "In those cases, we must resort to other techniques to determine the _type_ or the _prototype_ of an array.\n",
        "\n",
        "To determine the _prototype_ of an array, we can reshape the array to be empty, and then ask for its first element:"
      ]
    },
    {
      "cell_type": "code",
      "execution_count": 251,
      "id": "statutory-boulder",
      "metadata": {},
      "outputs": [
        {
          "data": {
            "text/html": [
              "<span style=\"white-space:pre; font-family: monospace\">0\n",
              "</span>"
            ]
          },
          "execution_count": 251,
          "metadata": {},
          "output_type": "execute_result"
        }
      ],
      "source": [
        "\u22830\u2374hogwash"
      ]
    },
    {
      "cell_type": "markdown",
      "id": "reduced-reply",
      "metadata": {},
      "source": [
        "Similarly, to determine the _type_ of an array `arr`, we can ask for the _prototype_ of an array which has `arr` as the first item:"
      ]
    },
    {
      "cell_type": "code",
      "execution_count": 252,
      "id": "victorian-coating",
      "metadata": {},
      "outputs": [
        {
          "data": {
            "text/html": [
              "<span style=\"white-space:pre; font-family: monospace\">\u250c\u2500\u252c\u2500\u2500\u2500\u252c\u2500\u252c\u2500\u2500\u2500\u2500\u2500\u2500\u2500\u2500\u2510\n",
              "\u25020\u25020 0\u2502 \u2502\u250c\u2500\u2500\u2500\u2500\u252c\u2500\u2510\u2502\n",
              "\u2502 \u25020 0\u2502 \u2502\u25020   \u25020\u2502\u2502\n",
              "\u2502 \u2502   \u2502 \u2502\u251c\u2500\u2500\u2500\u2500\u253c\u2500\u2524\u2502\n",
              "\u2502 \u2502   \u2502 \u2502\u2502    \u25020\u2502\u2502\n",
              "\u2502 \u2502   \u2502 \u2502\u2514\u2500\u2500\u2500\u2500\u2534\u2500\u2518\u2502\n",
              "\u2514\u2500\u2534\u2500\u2500\u2500\u2534\u2500\u2534\u2500\u2500\u2500\u2500\u2500\u2500\u2500\u2500\u2518\n",
              "</span>"
            ]
          },
          "execution_count": 252,
          "metadata": {},
          "output_type": "execute_result"
        }
      ],
      "source": [
        "\u22830\u2374\u2282hogwash"
      ]
    },
    {
      "cell_type": "markdown",
      "id": "lonely-creek",
      "metadata": {},
      "source": [
        "It is understandable if you find these two ways of determining the _prototype_ and the _type_ unsatisfying.\n",
        "After all, we are defining them in terms of themselves.\n",
        "\n",
        "Another alternative follows, with a dfn that computes the _type_ of an array recursively:"
      ]
    },
    {
      "cell_type": "code",
      "execution_count": 120,
      "id": "confused-mountain",
      "metadata": {},
      "outputs": [],
      "source": [
        "]dinput\n",
        "type \u2190 {\n",
        "    0=\u2261\u2375: \u2283(\u2375\u2261\u2355\u2375)\u233d0' ' \u235d Is \u2375 a simple scalar?\n",
        "    \u2207\u00a8\u2375                \u235d If not, recurse.\n",
        "}"
      ]
    },
    {
      "cell_type": "code",
      "execution_count": 121,
      "id": "square-trust",
      "metadata": {},
      "outputs": [
        {
          "data": {
            "text/html": [
              "<span style=\"white-space:pre; font-family: monospace\">\u250c\u2500\u252c\u2500\u2500\u2500\u252c\u2500\u252c\u2500\u2500\u2500\u2500\u2500\u2500\u2500\u2500\u2510\n",
              "\u25020\u25020 0\u2502 \u2502\u250c\u2500\u2500\u2500\u2500\u252c\u2500\u2510\u2502\n",
              "\u2502 \u25020 0\u2502 \u2502\u25020   \u25020\u2502\u2502\n",
              "\u2502 \u2502   \u2502 \u2502\u251c\u2500\u2500\u2500\u2500\u253c\u2500\u2524\u2502\n",
              "\u2502 \u2502   \u2502 \u2502\u2502    \u25020\u2502\u2502\n",
              "\u2502 \u2502   \u2502 \u2502\u2514\u2500\u2500\u2500\u2500\u2534\u2500\u2518\u2502\n",
              "\u2514\u2500\u2534\u2500\u2500\u2500\u2534\u2500\u2534\u2500\u2500\u2500\u2500\u2500\u2500\u2500\u2500\u2518\n",
              "</span>"
            ]
          },
          "execution_count": 121,
          "metadata": {},
          "output_type": "execute_result"
        }
      ],
      "source": [
        "type hogwash"
      ]
    },
    {
      "cell_type": "code",
      "execution_count": 122,
      "id": "civilian-asset",
      "metadata": {},
      "outputs": [
        {
          "data": {
            "text/html": [
              "<span style=\"white-space:pre; font-family: monospace\">1\n",
              "</span>"
            ]
          },
          "execution_count": 122,
          "metadata": {},
          "output_type": "execute_result"
        }
      ],
      "source": [
        "hogwashType \u2261 type hogwash"
      ]
    },
    {
      "cell_type": "markdown",
      "id": "explicit-beatles",
      "metadata": {},
      "source": [
        "After having defined `type`, `prototype` follows trivially:"
      ]
    },
    {
      "cell_type": "code",
      "execution_count": 123,
      "id": "technical-yukon",
      "metadata": {},
      "outputs": [],
      "source": [
        "prototype \u2190 {type\u2283\u2375}"
      ]
    },
    {
      "cell_type": "code",
      "execution_count": 124,
      "id": "thousand-local",
      "metadata": {},
      "outputs": [
        {
          "data": {
            "text/html": [
              "<span style=\"white-space:pre; font-family: monospace\">0\n",
              "</span>"
            ]
          },
          "execution_count": 124,
          "metadata": {},
          "output_type": "execute_result"
        }
      ],
      "source": [
        "prototype hogwash"
      ]
    },
    {
      "cell_type": "markdown",
      "id": "positive-twenty",
      "metadata": {},
      "source": [
        "(Nested-Arrays-Continued-High-rank-Partition)=\n",
        "### High-rank Partition\n",
        "\n",
        "We studied the function _partition_ applied to vectors in {numref}`Nested-Arrays-Continued-Partition`; it appeared to be extremely useful.\n",
        "\n",
        "Its use is much more complex when applied to arrays of arbitrary rank.\n",
        "Let us just try it on a matrix:"
      ]
    },
    {
      "cell_type": "code",
      "execution_count": 125,
      "id": "bibliographic-large",
      "metadata": {},
      "outputs": [
        {
          "data": {
            "text/html": [
              "<span style=\"white-space:pre; font-family: monospace\">H2SO4\n",
              "CaCO3\n",
              "Fe2O3\n",
              "</span>"
            ]
          },
          "execution_count": 125,
          "metadata": {},
          "output_type": "execute_result"
        }
      ],
      "source": [
        "chemistry"
      ]
    },
    {
      "cell_type": "code",
      "execution_count": 126,
      "id": "recorded-government",
      "metadata": {},
      "outputs": [
        {
          "data": {
            "text/html": [
              "<span style=\"white-space:pre; font-family: monospace\">\u250c\u2500\u2500\u252c\u2500\u2500\u2500\u2510\n",
              "\u2502H2\u2502SO4\u2502\n",
              "\u251c\u2500\u2500\u253c\u2500\u2500\u2500\u2524\n",
              "\u2502Ca\u2502CO3\u2502\n",
              "\u251c\u2500\u2500\u253c\u2500\u2500\u2500\u2524\n",
              "\u2502Fe\u25022O3\u2502\n",
              "\u2514\u2500\u2500\u2534\u2500\u2500\u2500\u2518\n",
              "</span>"
            ]
          },
          "execution_count": 126,
          "metadata": {},
          "output_type": "execute_result"
        }
      ],
      "source": [
        "1 1 2 2 2 \u2286[2] chemistry"
      ]
    },
    {
      "cell_type": "markdown",
      "id": "defined-librarian",
      "metadata": {},
      "source": [
        "As we can see, _partition_ operates along the specified axis, but it also separates all the items along the other axis, as if the matrix were seen through a grid.\n",
        "In other words, _partition_ `\u2282` will preserve the rank of its argument array:"
      ]
    },
    {
      "cell_type": "code",
      "execution_count": 127,
      "id": "together-daughter",
      "metadata": {},
      "outputs": [
        {
          "data": {
            "text/html": [
              "<span style=\"white-space:pre; font-family: monospace\">2\n",
              "</span>"
            ]
          },
          "execution_count": 127,
          "metadata": {},
          "output_type": "execute_result"
        }
      ],
      "source": [
        "\u2262\u2374chemistry"
      ]
    },
    {
      "cell_type": "code",
      "execution_count": 128,
      "id": "necessary-driving",
      "metadata": {},
      "outputs": [
        {
          "data": {
            "text/html": [
              "<span style=\"white-space:pre; font-family: monospace\">2\n",
              "</span>"
            ]
          },
          "execution_count": 128,
          "metadata": {},
          "output_type": "execute_result"
        }
      ],
      "source": [
        "\u2262\u23741 1 2 2 2 \u2286[2] chemistry"
      ]
    },
    {
      "cell_type": "markdown",
      "id": "interim-addition",
      "metadata": {},
      "source": [
        "This is unlike _partitioned enclose_, which always returns a vector where each item has the original rank:"
      ]
    },
    {
      "cell_type": "code",
      "execution_count": 129,
      "id": "front-flexibility",
      "metadata": {},
      "outputs": [
        {
          "data": {
            "text/html": [
              "<span style=\"white-space:pre; font-family: monospace\">\u250c\u2500\u2500\u252c\u2500\u2500\u2500\u2510\n",
              "\u2502H2\u2502SO4\u2502\n",
              "\u2502Ca\u2502CO3\u2502\n",
              "\u2502Fe\u25022O3\u2502\n",
              "\u2514\u2500\u2500\u2534\u2500\u2500\u2500\u2518\n",
              "</span>"
            ]
          },
          "execution_count": 129,
          "metadata": {},
          "output_type": "execute_result"
        }
      ],
      "source": [
        "\u2395\u2190 r \u2190 1 0 1 0 0 \u2282[2] chemistry"
      ]
    },
    {
      "cell_type": "markdown",
      "id": "thick-danish",
      "metadata": {},
      "source": [
        "Although visually similar, the result of applying _partitioned enclose_ is a vector of length 2, and each of its items, in turn is a sub-matrix of the original matrix:"
      ]
    },
    {
      "cell_type": "code",
      "execution_count": 130,
      "id": "enhanced-monte",
      "metadata": {},
      "outputs": [
        {
          "data": {
            "text/html": [
              "<span style=\"white-space:pre; font-family: monospace\">2\n",
              "</span>"
            ]
          },
          "execution_count": 130,
          "metadata": {},
          "output_type": "execute_result"
        }
      ],
      "source": [
        "\u2374r"
      ]
    },
    {
      "cell_type": "code",
      "execution_count": 131,
      "id": "soviet-pathology",
      "metadata": {},
      "outputs": [
        {
          "data": {
            "text/html": [
              "<span style=\"white-space:pre; font-family: monospace\">\u250c\u2500\u2500\u2500\u252c\u2500\u2500\u2500\u2510\n",
              "\u25023 2\u25023 3\u2502\n",
              "\u2514\u2500\u2500\u2500\u2534\u2500\u2500\u2500\u2518\n",
              "</span>"
            ]
          },
          "execution_count": 131,
          "metadata": {},
          "output_type": "execute_result"
        }
      ],
      "source": [
        "\u2374\u00a8r"
      ]
    },
    {
      "cell_type": "markdown",
      "id": "encouraging-search",
      "metadata": {},
      "source": [
        "For _partition_, it is the other way around: the result is still a matrix, it's the items that become vectors:"
      ]
    },
    {
      "cell_type": "code",
      "execution_count": 132,
      "id": "crazy-mount",
      "metadata": {},
      "outputs": [
        {
          "data": {
            "text/html": [
              "<span style=\"white-space:pre; font-family: monospace\">3 2\n",
              "</span>"
            ]
          },
          "execution_count": 132,
          "metadata": {},
          "output_type": "execute_result"
        }
      ],
      "source": [
        "\u2374r \u2190 1 1 2 2 2 \u2286[2] chemistry"
      ]
    },
    {
      "cell_type": "code",
      "execution_count": 133,
      "id": "complicated-closing",
      "metadata": {},
      "outputs": [
        {
          "data": {
            "text/html": [
              "<span style=\"white-space:pre; font-family: monospace\">\u250c\u2500\u252c\u2500\u2510\n",
              "\u25022\u25023\u2502\n",
              "\u251c\u2500\u253c\u2500\u2524\n",
              "\u25022\u25023\u2502\n",
              "\u251c\u2500\u253c\u2500\u2524\n",
              "\u25022\u25023\u2502\n",
              "\u2514\u2500\u2534\u2500\u2518\n",
              "</span>"
            ]
          },
          "execution_count": 133,
          "metadata": {},
          "output_type": "execute_result"
        }
      ],
      "source": [
        "\u2374\u00a8r"
      ]
    },
    {
      "cell_type": "markdown",
      "id": "composed-walter",
      "metadata": {},
      "source": [
        "Once more, be careful about the **visual** similarity of the results if `]box` happens to be OFF:"
      ]
    },
    {
      "cell_type": "code",
      "execution_count": 134,
      "id": "overhead-guess",
      "metadata": {},
      "outputs": [
        {
          "data": {
            "text/html": [
              "<span style=\"white-space:pre; font-family: monospace\">Was ON\n",
              "</span>"
            ]
          },
          "execution_count": 134,
          "metadata": {},
          "output_type": "execute_result"
        },
        {
          "data": {
            "text/html": [
              "<span style=\"white-space:pre; font-family: monospace\"> H2  SO4 \n",
              " Ca  CO3 \n",
              " Fe  2O3 \n",
              "</span>"
            ]
          },
          "execution_count": 134,
          "metadata": {},
          "output_type": "execute_result"
        },
        {
          "data": {
            "text/html": [
              "<span style=\"white-space:pre; font-family: monospace\"> H2  SO4 \n",
              " Ca  CO3 \n",
              " Fe  2O3 \n",
              "</span>"
            ]
          },
          "execution_count": 134,
          "metadata": {},
          "output_type": "execute_result"
        },
        {
          "data": {
            "text/html": [
              "<span style=\"white-space:pre; font-family: monospace\">Was OFF\n",
              "</span>"
            ]
          },
          "execution_count": 134,
          "metadata": {},
          "output_type": "execute_result"
        }
      ],
      "source": [
        "]box off\n",
        "\u2395\u2190 1 1 2 2 2 \u2286[2] chemistry\n",
        "\u2395\u2190 1 0 1 0 0 \u2282[2] chemistry\n",
        "]box on"
      ]
    },
    {
      "cell_type": "markdown",
      "id": "median-dining",
      "metadata": {},
      "source": [
        "Let us try using _partition_ on a 3D array to see what the result looks like:"
      ]
    },
    {
      "cell_type": "code",
      "execution_count": 135,
      "id": "joined-printing",
      "metadata": {},
      "outputs": [
        {
          "name": "stderr",
          "output_type": "stream",
          "text": [
            "VALUE ERROR: Undefined name: cuboid\n",
            "      cuboid\n",
            "      \u2227\n"
          ]
        }
      ],
      "source": [
        "cuboid"
      ]
    },
    {
      "cell_type": "code",
      "execution_count": 269,
      "id": "opened-combination",
      "metadata": {},
      "outputs": [
        {
          "data": {
            "text/html": [
              "<span style=\"white-space:pre; font-family: monospace\">\u250c\u2500\u2500\u252c\u2500\u2500\u252c\u2500\u2500\u252c\u2500\u2500\u252c\u2500\u2500\u2510\n",
              "\u2502A \u2502B \u2502C \u2502D \u2502E \u2502\n",
              "\u251c\u2500\u2500\u253c\u2500\u2500\u253c\u2500\u2500\u253c\u2500\u2500\u253c\u2500\u2500\u2524\n",
              "\u2502F \u2502G \u2502H \u2502I \u2502J \u2502\n",
              "\u251c\u2500\u2500\u253c\u2500\u2500\u253c\u2500\u2500\u253c\u2500\u2500\u253c\u2500\u2500\u2524\n",
              "\u2502KP\u2502LQ\u2502MR\u2502NS\u2502OT\u2502\n",
              "\u2514\u2500\u2500\u2534\u2500\u2500\u2534\u2500\u2500\u2534\u2500\u2500\u2534\u2500\u2500\u2518\n",
              "\u250c\u2500\u2500\u252c\u2500\u2500\u252c\u2500\u2500\u252c\u2500\u2500\u252c\u2500\u2500\u2510\n",
              "\u2502U \u2502V \u2502W \u2502X \u2502Y \u2502\n",
              "\u251c\u2500\u2500\u253c\u2500\u2500\u253c\u2500\u2500\u253c\u2500\u2500\u253c\u2500\u2500\u2524\n",
              "\u2502Z \u2502A \u2502B \u2502C \u2502D \u2502\n",
              "\u251c\u2500\u2500\u253c\u2500\u2500\u253c\u2500\u2500\u253c\u2500\u2500\u253c\u2500\u2500\u2524\n",
              "\u2502EJ\u2502FK\u2502GL\u2502HM\u2502IN\u2502\n",
              "\u2514\u2500\u2500\u2534\u2500\u2500\u2534\u2500\u2500\u2534\u2500\u2500\u2534\u2500\u2500\u2518\n",
              "\u250c\u2500\u2500\u252c\u2500\u2500\u252c\u2500\u2500\u252c\u2500\u2500\u252c\u2500\u2500\u2510\n",
              "\u2502O \u2502P \u2502Q \u2502R \u2502S \u2502\n",
              "\u251c\u2500\u2500\u253c\u2500\u2500\u253c\u2500\u2500\u253c\u2500\u2500\u253c\u2500\u2500\u2524\n",
              "\u2502T \u2502U \u2502V \u2502W \u2502X \u2502\n",
              "\u251c\u2500\u2500\u253c\u2500\u2500\u253c\u2500\u2500\u253c\u2500\u2500\u253c\u2500\u2500\u2524\n",
              "\u2502YD\u2502ZE\u2502AF\u2502BG\u2502CH\u2502\n",
              "\u2514\u2500\u2500\u2534\u2500\u2500\u2534\u2500\u2500\u2534\u2500\u2500\u2534\u2500\u2500\u2518\n",
              "</span>"
            ]
          },
          "execution_count": 269,
          "metadata": {},
          "output_type": "execute_result"
        }
      ],
      "source": [
        "1 2 3 3 \u2286[2] cuboid"
      ]
    },
    {
      "cell_type": "markdown",
      "id": "sought-massage",
      "metadata": {},
      "source": [
        "Once more, we see that the rank of the original array is preserved and that each scalar of the new array contains a vector.\n",
        "\n",
        "```{admonition} Rules \n",
        ":class: remark\n",
        "In `r \u2190 pattern \u2286[axis] array`:\n",
        "\n",
        " - the result `r` is an array of the same rank as `array`;\n",
        " - the dimensions of the result and of the right argument array match, except possibly along the axis specified by `axis`; and\n",
        " - the length of the specified axis of the result is the number of partitions defined by `pattern`, which is `\u2262\u222a\u2308\\pattern`.\n",
        "```\n"
      ]
    },
    {
      "cell_type": "markdown",
      "id": "widespread-reliance",
      "metadata": {},
      "source": [
        "(Nested-Arrays-Continued-Ambiguous-Representation)=\n",
        "### Ambiguous Representation\n",
        "\n",
        "Even with `]box` ON, and with the `]display` user command, there are times where the visual representations of arrays are ambiguous:"
      ]
    },
    {
      "cell_type": "code",
      "execution_count": 270,
      "id": "falling-rocket",
      "metadata": {},
      "outputs": [
        {
          "data": {
            "text/html": [
              "<span style=\"white-space:pre; font-family: monospace\">5 8 7 9\n",
              "</span>"
            ]
          },
          "execution_count": 270,
          "metadata": {},
          "output_type": "execute_result"
        }
      ],
      "source": [
        "\u2395\u2190 v \u2190 5 8 '7' 9"
      ]
    },
    {
      "cell_type": "code",
      "execution_count": 271,
      "id": "satisfactory-bulletin",
      "metadata": {},
      "outputs": [
        {
          "data": {
            "text/html": [
              "<span style=\"white-space:pre; font-family: monospace\">\u250c\u2192\u2500\u2500\u2500\u2500\u2500\u2500\u2510\n",
              "\u25025 8 7 9\u2502\n",
              "\u2514+\u2500\u2500\u2500\u2500\u2500\u2500\u2518\n",
              "</span>"
            ]
          },
          "execution_count": 271,
          "metadata": {},
          "output_type": "execute_result"
        }
      ],
      "source": [
        "]display v"
      ]
    },
    {
      "cell_type": "markdown",
      "id": "monetary-article",
      "metadata": {},
      "source": [
        "In this form, the dash which should tell us that the `7` is a character is indistinguishable from the dashes used to draw the box.\n",
        "We just know that one (or more) of the four items is a character because the `+` symbol tells us that this array is mixed.\n",
        "\n",
        "A convenient way to distinguish between numbers and letters is to look at the _type_ of the array and compare it with `0` (for numbers) or `' '` (for letters):"
      ]
    },
    {
      "cell_type": "code",
      "execution_count": 272,
      "id": "shared-central",
      "metadata": {},
      "outputs": [
        {
          "data": {
            "text/html": [
              "<span style=\"white-space:pre; font-family: monospace\">0 0 1 0\n",
              "</span>"
            ]
          },
          "execution_count": 272,
          "metadata": {},
          "output_type": "execute_result"
        }
      ],
      "source": [
        "' '=type v"
      ]
    },
    {
      "cell_type": "markdown",
      "id": "chronic-berry",
      "metadata": {},
      "source": [
        "(Nested-Arrays-Continued-Pick-Inside-a-Scalar)=\n",
        "### Pick Inside a Scalar\n",
        "\n",
        "Suppose that one item of a nested variable is a vector which has been enclosed twice, and we would like to select one value out of its contents.\n",
        "For example, how can we select the letter `'P'` in the following vector:"
      ]
    },
    {
      "cell_type": "code",
      "execution_count": 273,
      "id": "north-enzyme",
      "metadata": {},
      "outputs": [
        {
          "data": {
            "text/html": [
              "<span style=\"white-space:pre; font-family: monospace\">\u250c\u2500\u2500\u2500\u2500\u2500\u252c\u2500\u2500\u2500\u2500\u2500\u2500\u2500\u2500\u2500\u2500\u2500\u252c\u2500\u2500\u2500\u2500\u2500\u2510\n",
              "\u25023 5 2\u2502\u250c\u2500\u2500\u2500\u2500\u2500\u2500\u2500\u2500\u2500\u2510\u25026 8 1\u2502\n",
              "\u2502     \u2502\u2502CARPACCIO\u2502\u2502     \u2502\n",
              "\u2502     \u2502\u2514\u2500\u2500\u2500\u2500\u2500\u2500\u2500\u2500\u2500\u2518\u2502     \u2502\n",
              "\u2514\u2500\u2500\u2500\u2500\u2500\u2534\u2500\u2500\u2500\u2500\u2500\u2500\u2500\u2500\u2500\u2500\u2500\u2534\u2500\u2500\u2500\u2500\u2500\u2518\n",
              "</span>"
            ]
          },
          "execution_count": 273,
          "metadata": {},
          "output_type": "execute_result"
        }
      ],
      "source": [
        "\u2395\u2190 nv \u2190 (3 5 2)(\u2282'CARPACCIO')(6 8 1)"
      ]
    },
    {
      "cell_type": "markdown",
      "id": "colored-intersection",
      "metadata": {},
      "source": [
        "We might attempt to write"
      ]
    },
    {
      "cell_type": "code",
      "execution_count": 274,
      "id": "banner-hygiene",
      "metadata": {},
      "outputs": [
        {
          "name": "stderr",
          "output_type": "stream",
          "text": [
            "RANK ERROR\n",
            "      2 1 4\u2283nv\n",
            "           \u2227\n"
          ]
        }
      ],
      "source": [
        "2 1 4 \u2283 nv"
      ]
    },
    {
      "cell_type": "markdown",
      "id": "tracked-bolivia",
      "metadata": {},
      "source": [
        "but that is incorrect because the second item of `nv` is an enclosed scalar.\n",
        "The index `1` would have been appropriate for a one-item vector, but not for a scalar.\n",
        "\n",
        "The correct answer is:"
      ]
    },
    {
      "cell_type": "code",
      "execution_count": 275,
      "id": "dominican-victim",
      "metadata": {},
      "outputs": [
        {
          "data": {
            "text/html": [
              "<span style=\"white-space:pre; font-family: monospace\">P\n",
              "</span>"
            ]
          },
          "execution_count": 275,
          "metadata": {},
          "output_type": "execute_result"
        }
      ],
      "source": [
        "2 \u236c 4 \u2283 nv"
      ]
    },
    {
      "cell_type": "markdown",
      "id": "serious-crest",
      "metadata": {},
      "source": [
        "(Nested-Arrays-Continued-Solutions)=\n",
        "## Solutions\n",
        "\n",
        "The following solutions we propose are not necessarily the \u201cbest\u201d ones; perhaps you will find other solutions that we have never considered.\n",
        "APL is a very rich language, and due to the general nature of its primitive functions and operators there are always plenty of different ways to express different solutions to a given problem.\n",
        "Which one is \u201cthe best\u201d depends on many things, for example the level of experience of the programmer, the importance of system performance, the required behaviour in border cases, the requirement to meet certain programming standards and also personal preferences.\n",
        "This is one of the reasons why APL is so pleasant to teach and to learn!\n",
        "\n",
        "We advise you to try and solve the exercises before reading the solutions!\n",
        "\n"
      ]
    },
    {
      "cell_type": "markdown",
      "id": "cardiac-messaging",
      "metadata": {},
      "source": [
        "```{solution} ex-depth-rank-shape \n",
        "```\n",
        "\n",
        "A very reasonable thing to do first is figure out the depth, rank, and shape, of the two arrays we are working with:"
      ]
    },
    {
      "cell_type": "code",
      "execution_count": 299,
      "id": "underlying-knight",
      "metadata": {},
      "outputs": [
        {
          "data": {
            "text/html": [
              "<span style=\"white-space:pre; font-family: monospace\">Francis\n",
              "Carmen \n",
              "Luciano\n",
              "</span>"
            ]
          },
          "execution_count": 299,
          "metadata": {},
          "output_type": "execute_result"
        }
      ],
      "source": [
        "cm"
      ]
    },
    {
      "cell_type": "code",
      "execution_count": 300,
      "id": "exciting-martin",
      "metadata": {},
      "outputs": [
        {
          "data": {
            "text/html": [
              "<span style=\"white-space:pre; font-family: monospace\">  21.21 1534.88 375.46  704.5 \n",
              "1125.14 1963.52 464.45 1438.25\n",
              " 796.53 1569    157.14  886.59\n",
              "</span>"
            ]
          },
          "execution_count": 300,
          "metadata": {},
          "output_type": "execute_result"
        }
      ],
      "source": [
        "nm"
      ]
    },
    {
      "cell_type": "markdown",
      "id": "valid-moderator",
      "metadata": {},
      "source": [
        " - `cm` is a _simple_ (character) matrix, hence has depth `1`; because it is a matrix, its rank is `2` and its shape is `3 7`; and\n",
        " - `nm` is a _simple_ (numeric) matrix, hence has depth `1`; because it is a matrix, its rank is `2` and its shape is `3 4`.\n",
        "\n",
        "We can start by verifying this:"
      ]
    },
    {
      "cell_type": "code",
      "execution_count": 296,
      "id": "technical-chapter",
      "metadata": {},
      "outputs": [
        {
          "data": {
            "text/html": [
              "<span style=\"white-space:pre; font-family: monospace\">\u250c\u2500\u252c\u2500\u252c\u2500\u2500\u2500\u2510\n",
              "\u25021\u25022\u25023 7\u2502\n",
              "\u2514\u2500\u2534\u2500\u2534\u2500\u2500\u2500\u2518\n",
              "</span>"
            ]
          },
          "execution_count": 296,
          "metadata": {},
          "output_type": "execute_result"
        }
      ],
      "source": [
        "DRS \u2190 {(\u2261\u2375)(\u2262\u2374\u2375)(\u2374\u2375)} \u235d Depth, Rank, and Shape of an array.\n",
        "DRS cm"
      ]
    },
    {
      "cell_type": "code",
      "execution_count": 297,
      "id": "varied-camera",
      "metadata": {},
      "outputs": [
        {
          "data": {
            "text/html": [
              "<span style=\"white-space:pre; font-family: monospace\">\u250c\u2500\u252c\u2500\u252c\u2500\u2500\u2500\u2510\n",
              "\u25021\u25022\u25023 4\u2502\n",
              "\u2514\u2500\u2534\u2500\u2534\u2500\u2500\u2500\u2518\n",
              "</span>"
            ]
          },
          "execution_count": 297,
          "metadata": {},
          "output_type": "execute_result"
        }
      ],
      "source": [
        "DRS nm"
      ]
    },
    {
      "cell_type": "markdown",
      "id": "bigger-howard",
      "metadata": {},
      "source": [
        " - For the expression `(\u2282cm)(\u2282nm)`, we are enclosing both matrices into scalars.\n",
        "Then, _strand notation_ will try to build a vector out of the different things it can find.\n",
        "Because it can find two things, `\u2282cm` and `\u2282nm`, the result will be a 2-item vector: rank `1`, shape `,2`.\n",
        "\n",
        "We just have to determine the depth of the result.\n",
        "To determine the depth of a vector, we first have to determine the depth of all of its items.\n",
        "In this case, that will be `\u2261\u2282cm` and `\u2261\u2282nm`.\n",
        "Both of these represent enclosures of simple matrices, so the depth of the enclosure is one plus the depth of the simple matrix, i.e. `2`.\n",
        "Thus, the result is a vector where all items have depth `2` and, therefore, the result has depth `3`:"
      ]
    },
    {
      "cell_type": "code",
      "execution_count": 298,
      "id": "talented-sequence",
      "metadata": {
        "scrolled": true
      },
      "outputs": [
        {
          "data": {
            "text/html": [
              "<span style=\"white-space:pre; font-family: monospace\">\u250c\u2500\u252c\u2500\u252c\u2500\u2510\n",
              "\u25023\u25021\u25022\u2502\n",
              "\u2514\u2500\u2534\u2500\u2534\u2500\u2518\n",
              "</span>"
            ]
          },
          "execution_count": 298,
          "metadata": {},
          "output_type": "execute_result"
        }
      ],
      "source": [
        "DRS (\u2282cm)(\u2282nm)"
      ]
    },
    {
      "cell_type": "markdown",
      "id": "improving-convergence",
      "metadata": {},
      "source": [
        " - For the expression `(\u2282cm),(\u2282nm)`, what changes is the usage of the _catenate_ primitive to build the final result, instead of letting strand notation do its work.\n",
        "Again, we have that the building blocks are `\u2282cm` and `\u2282nm`, but now _catenate_ uses those as the items that build the final result.\n",
        "Because we are _catenating_ two scalars, we get a 2-item vector: rank `1`, shape `,2`.\n",
        "However, this time the matrices themselves become the items of the vector, thus its depth is only `2`:"
      ]
    },
    {
      "cell_type": "code",
      "execution_count": 301,
      "id": "freelance-junior",
      "metadata": {},
      "outputs": [
        {
          "data": {
            "text/html": [
              "<span style=\"white-space:pre; font-family: monospace\">\u250c\u2500\u2500\u2500\u2500\u2500\u2500\u2500\u252c\u2500\u2500\u2500\u2500\u2500\u2500\u2500\u2500\u2500\u2500\u2500\u2500\u2500\u2500\u2500\u2500\u2500\u2500\u2500\u2500\u2500\u2500\u2500\u2500\u2500\u2500\u2500\u2500\u2500\u2500\u2510\n",
              "\u2502Francis\u2502  21.21 1534.88 375.46  704.5 \u2502\n",
              "\u2502Carmen \u25021125.14 1963.52 464.45 1438.25\u2502\n",
              "\u2502Luciano\u2502 796.53 1569    157.14  886.59\u2502\n",
              "\u2514\u2500\u2500\u2500\u2500\u2500\u2500\u2500\u2534\u2500\u2500\u2500\u2500\u2500\u2500\u2500\u2500\u2500\u2500\u2500\u2500\u2500\u2500\u2500\u2500\u2500\u2500\u2500\u2500\u2500\u2500\u2500\u2500\u2500\u2500\u2500\u2500\u2500\u2500\u2518\n",
              "</span>"
            ]
          },
          "execution_count": 301,
          "metadata": {},
          "output_type": "execute_result"
        }
      ],
      "source": [
        "(\u2282cm),(\u2282nm)"
      ]
    },
    {
      "cell_type": "code",
      "execution_count": 302,
      "id": "accessory-string",
      "metadata": {},
      "outputs": [
        {
          "data": {
            "text/html": [
              "<span style=\"white-space:pre; font-family: monospace\">\u250c\u2500\u252c\u2500\u252c\u2500\u2510\n",
              "\u25022\u25021\u25022\u2502\n",
              "\u2514\u2500\u2534\u2500\u2534\u2500\u2518\n",
              "</span>"
            ]
          },
          "execution_count": 302,
          "metadata": {},
          "output_type": "execute_result"
        }
      ],
      "source": [
        "DRS (\u2282cm),(\u2282nm)"
      ]
    },
    {
      "cell_type": "markdown",
      "id": "quantitative-minute",
      "metadata": {},
      "source": [
        "This contrasts with the previous expression, where the items of the vector were the enclosed scalars.\n",
        "\n",
        " - Finally, for the expression `cm,\u2282nm`, we have something that won't be homogeneous, and thus the result is going to have a negative depth.\n",
        "Notice that _catenate_ is being used between a matrix (`cm`), and a scalar (`\u2282nm`).\n",
        "As you've seen in {numref}`Some-Primitive-Functions-Catenating-Scalars`, catenating a scalar to a matrix makes it so that the scalar is repeated over the rows of the matrix, to extend the matrix by one column.\n",
        "\n",
        "Because the matrix `cm` had `7` columns, the matrix `cm,\u2282nm` will have `8` columns, and its number of rows will remain unchanged, meaning the final shape is `3 8`.\n",
        "Its rank will also remain unchanged.\n",
        "What changes is the depth, because the result will no longer be a _simple_ character matrix, but a nested matrix:\n",
        "some of the elements will be characters, others will be numeric matrices.\n",
        "Thus, the result will have some elements of depth `0` and others of depth `1`, making it so that the final depth is `\u00af2`:"
      ]
    },
    {
      "cell_type": "code",
      "execution_count": 304,
      "id": "living-broadcasting",
      "metadata": {},
      "outputs": [
        {
          "data": {
            "text/html": [
              "<span style=\"white-space:pre; font-family: monospace\">\u250c\u2500\u252c\u2500\u252c\u2500\u252c\u2500\u252c\u2500\u252c\u2500\u252c\u2500\u252c\u2500\u2500\u2500\u2500\u2500\u2500\u2500\u2500\u2500\u2500\u2500\u2500\u2500\u2500\u2500\u2500\u2500\u2500\u2500\u2500\u2500\u2500\u2500\u2500\u2500\u2500\u2500\u2500\u2500\u2500\u2510\n",
              "\u2502F\u2502r\u2502a\u2502n\u2502c\u2502i\u2502s\u2502  21.21 1534.88 375.46  704.5 \u2502\n",
              "\u2502 \u2502 \u2502 \u2502 \u2502 \u2502 \u2502 \u25021125.14 1963.52 464.45 1438.25\u2502\n",
              "\u2502 \u2502 \u2502 \u2502 \u2502 \u2502 \u2502 \u2502 796.53 1569    157.14  886.59\u2502\n",
              "\u251c\u2500\u253c\u2500\u253c\u2500\u253c\u2500\u253c\u2500\u253c\u2500\u253c\u2500\u253c\u2500\u2500\u2500\u2500\u2500\u2500\u2500\u2500\u2500\u2500\u2500\u2500\u2500\u2500\u2500\u2500\u2500\u2500\u2500\u2500\u2500\u2500\u2500\u2500\u2500\u2500\u2500\u2500\u2500\u2500\u2524\n",
              "\u2502C\u2502a\u2502r\u2502m\u2502e\u2502n\u2502 \u2502  21.21 1534.88 375.46  704.5 \u2502\n",
              "\u2502 \u2502 \u2502 \u2502 \u2502 \u2502 \u2502 \u25021125.14 1963.52 464.45 1438.25\u2502\n",
              "\u2502 \u2502 \u2502 \u2502 \u2502 \u2502 \u2502 \u2502 796.53 1569    157.14  886.59\u2502\n",
              "\u251c\u2500\u253c\u2500\u253c\u2500\u253c\u2500\u253c\u2500\u253c\u2500\u253c\u2500\u253c\u2500\u2500\u2500\u2500\u2500\u2500\u2500\u2500\u2500\u2500\u2500\u2500\u2500\u2500\u2500\u2500\u2500\u2500\u2500\u2500\u2500\u2500\u2500\u2500\u2500\u2500\u2500\u2500\u2500\u2500\u2524\n",
              "\u2502L\u2502u\u2502c\u2502i\u2502a\u2502n\u2502o\u2502  21.21 1534.88 375.46  704.5 \u2502\n",
              "\u2502 \u2502 \u2502 \u2502 \u2502 \u2502 \u2502 \u25021125.14 1963.52 464.45 1438.25\u2502\n",
              "\u2502 \u2502 \u2502 \u2502 \u2502 \u2502 \u2502 \u2502 796.53 1569    157.14  886.59\u2502\n",
              "\u2514\u2500\u2534\u2500\u2534\u2500\u2534\u2500\u2534\u2500\u2534\u2500\u2534\u2500\u2534\u2500\u2500\u2500\u2500\u2500\u2500\u2500\u2500\u2500\u2500\u2500\u2500\u2500\u2500\u2500\u2500\u2500\u2500\u2500\u2500\u2500\u2500\u2500\u2500\u2500\u2500\u2500\u2500\u2500\u2500\u2518\n",
              "</span>"
            ]
          },
          "execution_count": 304,
          "metadata": {},
          "output_type": "execute_result"
        }
      ],
      "source": [
        "cm,\u2282nm"
      ]
    },
    {
      "cell_type": "markdown",
      "id": "automotive-venezuela",
      "metadata": {},
      "source": [
        "```{solution} ex-depth-rank-shape2 \n",
        "```\n",
        "\n",
        "Let's take the three vectors we need and work with them:"
      ]
    },
    {
      "cell_type": "code",
      "execution_count": 279,
      "id": "celtic-certification",
      "metadata": {},
      "outputs": [],
      "source": [
        "a \u2190 1 2 3\n",
        "b \u2190 4 5 6\n",
        "c \u2190 7 8 9"
      ]
    },
    {
      "cell_type": "markdown",
      "id": "earned-amount",
      "metadata": {},
      "source": [
        " - `a b c \u00d7 1 2 3`\n",
        "\n",
        "`a b c` is a 3-item nested vector, and all the sub-vectors have depth 1, so `a b c` has depth `2`.\n",
        "Multiplying with `1 2 3` doesn't change the structure, only the contents, so `a b c \u00d7 1 2 3` is a 3-item vector of rank `1` and depth `2`:"
      ]
    },
    {
      "cell_type": "code",
      "execution_count": 136,
      "id": "behind-warrant",
      "metadata": {},
      "outputs": [
        {
          "name": "stderr",
          "output_type": "stream",
          "text": [
            "VALUE ERROR: Undefined name: DRS\n",
            "      DRS a b c\u00d71 2 3\n",
            "      \u2227\n"
          ]
        }
      ],
      "source": [
        "DRS a b c \u00d7 1 2 3"
      ]
    },
    {
      "cell_type": "markdown",
      "id": "operating-analyst",
      "metadata": {},
      "source": [
        " - `(10 20),a`\n",
        "\n",
        "`a` is a 3-item _simple_ vector and `(10 20)` is a 2-item _simple_ vector, so their catenation yields a 5-item _simple_ vector, thus its depth is `1`, its rank is `1`, and its shape is `,5`:"
      ]
    },
    {
      "cell_type": "code",
      "execution_count": 307,
      "id": "recent-farmer",
      "metadata": {},
      "outputs": [
        {
          "data": {
            "text/html": [
              "<span style=\"white-space:pre; font-family: monospace\">\u250c\u2500\u252c\u2500\u252c\u2500\u2510\n",
              "\u25021\u25021\u25025\u2502\n",
              "\u2514\u2500\u2534\u2500\u2534\u2500\u2518\n",
              "</span>"
            ]
          },
          "execution_count": 307,
          "metadata": {},
          "output_type": "execute_result"
        }
      ],
      "source": [
        "DRS (10 20),a"
      ]
    },
    {
      "cell_type": "markdown",
      "id": "unlike-audio",
      "metadata": {},
      "source": [
        "Note that the parenthesis are superfluous and can be removed:"
      ]
    },
    {
      "cell_type": "code",
      "execution_count": 312,
      "id": "molecular-diary",
      "metadata": {},
      "outputs": [
        {
          "data": {
            "text/html": [
              "<span style=\"white-space:pre; font-family: monospace\">\u250c\u2500\u252c\u2500\u252c\u2500\u2510\n",
              "\u25021\u25021\u25025\u2502\n",
              "\u2514\u2500\u2534\u2500\u2534\u2500\u2518\n",
              "</span>"
            ]
          },
          "execution_count": 312,
          "metadata": {},
          "output_type": "execute_result"
        }
      ],
      "source": [
        "DRS 10 20,a"
      ]
    },
    {
      "cell_type": "markdown",
      "id": "dangerous-handle",
      "metadata": {},
      "source": [
        "The same is true for the next expression:"
      ]
    },
    {
      "cell_type": "markdown",
      "id": "successful-swedish",
      "metadata": {},
      "source": [
        " - `(10 20),a b`\n",
        "\n",
        "Now we are catenating `(10 20)`, which is a _simple_ numeric vector, with `a b`, which is a 2-item nested vector. `a b` has depth `2`, rank `1`, and shape `,2`.\n",
        "When we _catenate_ the two vectors, we get a heterogeneous 4-item vector, thus its depth will be `\u00af2`, its rank will be `1`, and its shape will be `,4`."
      ]
    },
    {
      "cell_type": "code",
      "execution_count": 311,
      "id": "mental-conviction",
      "metadata": {},
      "outputs": [
        {
          "data": {
            "text/html": [
              "<span style=\"white-space:pre; font-family: monospace\">\u250c\u2500\u2500\u252c\u2500\u252c\u2500\u2510\n",
              "\u2502\u00af2\u25021\u25024\u2502\n",
              "\u2514\u2500\u2500\u2534\u2500\u2534\u2500\u2518\n",
              "</span>"
            ]
          },
          "execution_count": 311,
          "metadata": {},
          "output_type": "execute_result"
        }
      ],
      "source": [
        "DRS (10 20),a b"
      ]
    },
    {
      "cell_type": "markdown",
      "id": "certified-vegetable",
      "metadata": {},
      "source": [
        "As mentioned before, removing the parenthesis doesn't change the result:"
      ]
    },
    {
      "cell_type": "code",
      "execution_count": 315,
      "id": "popular-simon",
      "metadata": {},
      "outputs": [
        {
          "data": {
            "text/html": [
              "<span style=\"white-space:pre; font-family: monospace\">\u250c\u2500\u2500\u252c\u2500\u252c\u2500\u2510\n",
              "\u2502\u00af2\u25021\u25024\u2502\n",
              "\u2514\u2500\u2500\u2534\u2500\u2534\u2500\u2518\n",
              "</span>"
            ]
          },
          "execution_count": 315,
          "metadata": {},
          "output_type": "execute_result"
        }
      ],
      "source": [
        "DRS 10 20,a b"
      ]
    },
    {
      "cell_type": "markdown",
      "id": "urban-simon",
      "metadata": {},
      "source": [
        " - `a b 2 \u00d7 c[2]`\n",
        "\n",
        "`c[2]` is a _simple_ scalar, thus multiplying it with `a b 2` won't change the structure of the array.\n",
        "Now, `a b 2` is a 3-item vector that is not homogeneous, because `a` and `b` are nested vectors.\n",
        "`a` and `b` have depth `1`, thus the final array will have depth `2`, rank `1`, and shape `,3`:"
      ]
    },
    {
      "cell_type": "code",
      "execution_count": 316,
      "id": "extensive-relations",
      "metadata": {},
      "outputs": [
        {
          "data": {
            "text/html": [
              "<span style=\"white-space:pre; font-family: monospace\">\u250c\u2500\u2500\u252c\u2500\u252c\u2500\u2510\n",
              "\u2502\u00af2\u25021\u25023\u2502\n",
              "\u2514\u2500\u2500\u2534\u2500\u2534\u2500\u2518\n",
              "</span>"
            ]
          },
          "execution_count": 316,
          "metadata": {},
          "output_type": "execute_result"
        }
      ],
      "source": [
        "DRS a b 2"
      ]
    },
    {
      "cell_type": "markdown",
      "id": "complimentary-liechtenstein",
      "metadata": {},
      "source": [
        " - `10\u00d7a 20\u00d7b`\n",
        "\n",
        "The _strand_ `a 20` creates a 2-item vector that is being multiplied by `b`, but `b` is a 3-item vector, thus we will get a `LENGTH ERROR` if we try to evaluate this expression:"
      ]
    },
    {
      "cell_type": "code",
      "execution_count": 318,
      "id": "undefined-roulette",
      "metadata": {},
      "outputs": [
        {
          "name": "stderr",
          "output_type": "stream",
          "text": [
            "LENGTH ERROR\n",
            "      10\u00d7a 20\u00d7b\n",
            "             \u2227\n"
          ]
        }
      ],
      "source": [
        "10\u00d7a 20\u00d7b"
      ]
    },
    {
      "cell_type": "markdown",
      "id": "applicable-marsh",
      "metadata": {},
      "source": [
        "```{solution} ex-depth-rank-shape3 \n",
        "```\n",
        "\n",
        "We continue our work:\n",
        "\n",
        " - `+/a b c`\n",
        "\n",
        "The _strand_ `a b c` builds a 3-item vector, and the `+/` will reduce it to a single scalar containing the result of `a+b+c` so, in other words, `+/a b c` is the same as `\u2282a+b+c`.\n",
        "`a+b+c` evaluates to a 3-item _simple_ vector of depth `1`, thus `\u2282a+b+c` has depth `2`.\n",
        "Because it is a scalar, it has rank `0` and shape `\u236c`:"
      ]
    },
    {
      "cell_type": "code",
      "execution_count": 319,
      "id": "included-candle",
      "metadata": {},
      "outputs": [
        {
          "data": {
            "text/html": [
              "<span style=\"white-space:pre; font-family: monospace\">\u250c\u2500\u252c\u2500\u252c\u2510\n",
              "\u25022\u25020\u2502\u2502\n",
              "\u2514\u2500\u2534\u2500\u2534\u2518\n",
              "</span>"
            ]
          },
          "execution_count": 319,
          "metadata": {},
          "output_type": "execute_result"
        }
      ],
      "source": [
        "DRS +/a b c"
      ]
    },
    {
      "cell_type": "markdown",
      "id": "cardiovascular-psychiatry",
      "metadata": {},
      "source": [
        " - `+/\u00a8a b c`\n",
        "\n",
        "This expression is slightly different from the previous one in that the operator _each_ `\u00a8` was put next to the _plus-reduction_.\n",
        "Because of the _each_, we will sum each of the three vectors, each of them producing a single scalar.\n",
        "Now, it's important to understand that `f\u00a8array` doesn't change the outer structure of `array`.\n",
        "So, if `a b c` is a 3-item vector, `f\u00a8a b c` will _still_ be a 3-item vector.\n",
        "In our case, because `f \u2190 +/`, we will get a 3-item _simple_ numeric vector, meaning the final depth is `1`, the rank is `1`, and the shape is `,3`:"
      ]
    },
    {
      "cell_type": "code",
      "execution_count": 320,
      "id": "regulation-saint",
      "metadata": {},
      "outputs": [
        {
          "data": {
            "text/html": [
              "<span style=\"white-space:pre; font-family: monospace\">\u250c\u2500\u252c\u2500\u252c\u2500\u2510\n",
              "\u25021\u25021\u25023\u2502\n",
              "\u2514\u2500\u2534\u2500\u2534\u2500\u2518\n",
              "</span>"
            ]
          },
          "execution_count": 320,
          "metadata": {},
          "output_type": "execute_result"
        }
      ],
      "source": [
        "DRS +/\u00a8a b c"
      ]
    },
    {
      "cell_type": "markdown",
      "id": "joint-thanks",
      "metadata": {},
      "source": [
        " - `1 0 1/\u00a8a b c`\n",
        "\n",
        "The use of `\u00a8` again tells us that the result will be a 3-item vector.\n",
        "Now we are left with examining the contents of the resulting vector.\n",
        "Because the left argument to _compress_ isn't enclosed, _compress each_ will do `1/a`, `0/b`, and `1/c`.\n",
        "`1/a` and `1/c` don't change the right argument arrays, but `0/b` produces an empty vector.\n",
        "Thus, the result is equivalent to `a \u236c c`.\n",
        "However, this doesn't change any of the characteristics of `a b c`, and the result is still a 3-item vector with rank `1` and depth `2`:"
      ]
    },
    {
      "cell_type": "code",
      "execution_count": 321,
      "id": "commercial-authorization",
      "metadata": {},
      "outputs": [
        {
          "data": {
            "text/html": [
              "<span style=\"white-space:pre; font-family: monospace\">\u250c\u2500\u252c\u2500\u252c\u2500\u2510\n",
              "\u25022\u25021\u25023\u2502\n",
              "\u2514\u2500\u2534\u2500\u2534\u2500\u2518\n",
              "</span>"
            ]
          },
          "execution_count": 321,
          "metadata": {},
          "output_type": "execute_result"
        }
      ],
      "source": [
        "DRS 1 0 1/\u00a8a b c"
      ]
    },
    {
      "cell_type": "code",
      "execution_count": 322,
      "id": "sexual-administration",
      "metadata": {},
      "outputs": [
        {
          "data": {
            "text/html": [
              "<span style=\"white-space:pre; font-family: monospace\">1\n",
              "</span>"
            ]
          },
          "execution_count": 322,
          "metadata": {},
          "output_type": "execute_result"
        }
      ],
      "source": [
        "a \u236c c\u22611 0 1/\u00a8a b c"
      ]
    },
    {
      "cell_type": "markdown",
      "id": "about-mumbai",
      "metadata": {},
      "source": [
        " - `(a b c)\u23734 5 6`\n",
        "\n",
        "This is a tricky question, because `b \u2190 4 5 6` might lead you into thinking that the result is `2`.\n",
        "However, _index of_ looks at its left argument and finds a vector (although a _nested_ one) so it will look at the right argument as a collection of scalars, and it will check for the position of each scalar in the left argument vector.\n",
        "Because none of the scalars `4`, `5`, and `6`, are in the left argument vector, the final result is `4 4 4` which is a vector of depth `1`, rank `1`, and shape `,3`:"
      ]
    },
    {
      "cell_type": "code",
      "execution_count": 333,
      "id": "mobile-receptor",
      "metadata": {},
      "outputs": [
        {
          "data": {
            "text/html": [
              "<span style=\"white-space:pre; font-family: monospace\">4 4 4\n",
              "</span>"
            ]
          },
          "execution_count": 333,
          "metadata": {},
          "output_type": "execute_result"
        }
      ],
      "source": [
        "(a b c)\u23734 5 6  \u235d the parenthesis are superfluous"
      ]
    },
    {
      "cell_type": "code",
      "execution_count": 334,
      "id": "nuclear-bidding",
      "metadata": {},
      "outputs": [
        {
          "data": {
            "text/html": [
              "<span style=\"white-space:pre; font-family: monospace\">\u250c\u2500\u252c\u2500\u252c\u2500\u2510\n",
              "\u25021\u25021\u25023\u2502\n",
              "\u2514\u2500\u2534\u2500\u2534\u2500\u2518\n",
              "</span>"
            ]
          },
          "execution_count": 334,
          "metadata": {},
          "output_type": "execute_result"
        }
      ],
      "source": [
        "DRS (a b c)\u23734 5 6"
      ]
    },
    {
      "cell_type": "markdown",
      "id": "touched-convention",
      "metadata": {},
      "source": [
        " - `1 10 3 \u220a a`\n",
        "\n",
        "The result of a _membership_ operation is an array with the same shape as the left argument, so it will be a 3-item vector.\n",
        "Then, each scalar in the result is either a `0` or a `1`, so the result will be a _simple_ vector: depth `1`, rank `1`, and shape `,3`:"
      ]
    },
    {
      "cell_type": "code",
      "execution_count": 337,
      "id": "activated-supply",
      "metadata": {},
      "outputs": [
        {
          "data": {
            "text/html": [
              "<span style=\"white-space:pre; font-family: monospace\">\u250c\u2500\u252c\u2500\u252c\u2500\u2510\n",
              "\u25021\u25021\u25023\u2502\n",
              "\u2514\u2500\u2534\u2500\u2534\u2500\u2518\n",
              "</span>"
            ]
          },
          "execution_count": 337,
          "metadata": {},
          "output_type": "execute_result"
        }
      ],
      "source": [
        "DRS 1 10 3 \u220a a"
      ]
    },
    {
      "cell_type": "markdown",
      "id": "optional-fluid",
      "metadata": {},
      "source": [
        " - `(\u22821 0 1)/\u00a8a b c`\n",
        "\n",
        "This is similar to one of the previous expressions, but now the left argument to `/\u00a8` is enclosed, meaning that `1 0 1` is the left argument that is used when compressing each of the items of the right argument `a b c`.\n",
        "The operator _each_ makes it so that the final result is a 3-item vector as well.\n",
        "Then, each of its scalars is the result of doing `1 0 1/` on one of `a`, `b`, or `c`; the results of which are always a 2-item _simple_ vector.\n",
        "Therefore, the final result will be a nested vector of depth `2`, rank `1`, and shape `,3`:"
      ]
    },
    {
      "cell_type": "code",
      "execution_count": 339,
      "id": "unavailable-narrative",
      "metadata": {},
      "outputs": [
        {
          "data": {
            "text/html": [
              "<span style=\"white-space:pre; font-family: monospace\">\u250c\u2500\u2500\u2500\u252c\u2500\u2500\u2500\u252c\u2500\u2500\u2500\u2510\n",
              "\u25021 3\u25024 6\u25027 9\u2502\n",
              "\u2514\u2500\u2500\u2500\u2534\u2500\u2500\u2500\u2534\u2500\u2500\u2500\u2518\n",
              "</span>"
            ]
          },
          "execution_count": 339,
          "metadata": {},
          "output_type": "execute_result"
        }
      ],
      "source": [
        "(\u22821 0 1)/\u00a8a b c"
      ]
    },
    {
      "cell_type": "code",
      "execution_count": 340,
      "id": "missing-appointment",
      "metadata": {},
      "outputs": [
        {
          "data": {
            "text/html": [
              "<span style=\"white-space:pre; font-family: monospace\">\u250c\u2500\u252c\u2500\u252c\u2500\u2510\n",
              "\u25022\u25021\u25023\u2502\n",
              "\u2514\u2500\u2534\u2500\u2534\u2500\u2518\n",
              "</span>"
            ]
          },
          "execution_count": 340,
          "metadata": {},
          "output_type": "execute_result"
        }
      ],
      "source": [
        "DRS (\u22821 0 1)/\u00a8a b c"
      ]
    },
    {
      "cell_type": "markdown",
      "id": "sixth-banks",
      "metadata": {},
      "source": [
        " - `1 10 3 \u220a a b c`\n",
        "\n",
        "As seen above, the structure of the result of _membership_ `\u220a` depends on the left argument **only**, so we have again that the result has depth `1`, rank `1`, and shape `,3`:"
      ]
    },
    {
      "cell_type": "code",
      "execution_count": 341,
      "id": "moved-effects",
      "metadata": {},
      "outputs": [
        {
          "data": {
            "text/html": [
              "<span style=\"white-space:pre; font-family: monospace\">\u250c\u2500\u252c\u2500\u252c\u2500\u2510\n",
              "\u25021\u25021\u25023\u2502\n",
              "\u2514\u2500\u2534\u2500\u2534\u2500\u2518\n",
              "</span>"
            ]
          },
          "execution_count": 341,
          "metadata": {},
          "output_type": "execute_result"
        }
      ],
      "source": [
        "DRS 1 10 3 \u220a a b c"
      ]
    },
    {
      "cell_type": "markdown",
      "id": "portable-village",
      "metadata": {},
      "source": [
        "```{solution} ex-reductions \n",
        "```\n",
        "\n",
        "We want to know what `+/na` and `,/na` evaluate to, given `na`:"
      ]
    },
    {
      "cell_type": "code",
      "execution_count": 343,
      "id": "initial-zoning",
      "metadata": {},
      "outputs": [
        {
          "data": {
            "text/html": [
              "<span style=\"white-space:pre; font-family: monospace\">\u250c\u2500\u252c\u2500\u252c\u2500\u2500\u2500\u252c\u2500\u252c\u2500\u2510\n",
              "\u25021\u25022\u25023 4\u25027\u25028\u2502\n",
              "\u2502 \u2502 \u25025 6\u2502 \u2502 \u2502\n",
              "\u2514\u2500\u2534\u2500\u2534\u2500\u2500\u2500\u2534\u2500\u2534\u2500\u2518\n",
              "</span>"
            ]
          },
          "execution_count": 343,
          "metadata": {},
          "output_type": "execute_result"
        }
      ],
      "source": [
        "\u2395\u2190 na \u2190 1 2 (2 2\u23743 4 5 6)7 8"
      ]
    },
    {
      "cell_type": "markdown",
      "id": "pediatric-ridge",
      "metadata": {},
      "source": [
        "The simplest way to think about this is to write down the expression that the _reduction_ is equivalent to:\n",
        "\n",
        "```APL\n",
        "\u22821 + 2 + (2 2\u23743 4 5 6) + 7 + 8\n",
        "```\n",
        "\n",
        "Notice the final _enclose_ to guarantee that the result is a scalar: it's there because _reduce_ is supposed to reduce the rank of the argument. If we _reduce_ a vector, the result will be a scalar, even if an enclosed one.\n",
        "\n",
        "We have a series of scalar additions and, in the middle, addition with a matrix.\n",
        "There are no shape mismatches, and thus we can just add all the scalars to all the positions in the matrix.\n",
        "`1 + 2 + 7 + 8` is `18`, thus the final result is `\u228218+2 2\u23743 4 5 6`, or `\u22822 2\u237421 22 23 24`:"
      ]
    },
    {
      "cell_type": "code",
      "execution_count": 344,
      "id": "following-creativity",
      "metadata": {},
      "outputs": [
        {
          "data": {
            "text/html": [
              "<span style=\"white-space:pre; font-family: monospace\">\u250c\u2500\u2500\u2500\u2500\u2500\u2510\n",
              "\u250221 22\u2502\n",
              "\u250223 24\u2502\n",
              "\u2514\u2500\u2500\u2500\u2500\u2500\u2518\n",
              "</span>"
            ]
          },
          "execution_count": 344,
          "metadata": {},
          "output_type": "execute_result"
        }
      ],
      "source": [
        "+/na"
      ]
    },
    {
      "cell_type": "markdown",
      "id": "romantic-pulse",
      "metadata": {},
      "source": [
        "As for `,/na`, we can do a similar exercise.\n",
        "However, now we can't shuffle things into the order that we prefer because `,` is not commutative.\n",
        "\n",
        "Starting from the right, we first evaluate `7,8` to get `7 8`, and then we evaluate `(2 2\u23743 4 5 6),7 8`.\n",
        "Because the left argument to _catenate_ is a matrix and the right argument is a vector, _catenate_ will try to spread the vector across the rows of the matrix.\n",
        "Because the number of rows matches the elements in the vector, that happens successfully and the result is `2 3\u23743 4 7 5 6 8`.\n",
        "Then, we _catenate_ two scalars (separately) to the left of the matrix, so those get replicated across the rows.\n",
        "\n",
        "The final result is:"
      ]
    },
    {
      "cell_type": "code",
      "execution_count": 348,
      "id": "failing-patrick",
      "metadata": {},
      "outputs": [
        {
          "data": {
            "text/html": [
              "<span style=\"white-space:pre; font-family: monospace\">\u250c\u2500\u2500\u2500\u2500\u2500\u2500\u2500\u2500\u2500\u2510\n",
              "\u25021 2 3 4 7\u2502\n",
              "\u25021 2 5 6 8\u2502\n",
              "\u2514\u2500\u2500\u2500\u2500\u2500\u2500\u2500\u2500\u2500\u2518\n",
              "</span>"
            ]
          },
          "execution_count": 348,
          "metadata": {},
          "output_type": "execute_result"
        }
      ],
      "source": [
        "\u22822 5\u23741 2 3 4 7 1 2 5 6 8"
      ]
    },
    {
      "cell_type": "code",
      "execution_count": 347,
      "id": "wound-spoke",
      "metadata": {},
      "outputs": [
        {
          "data": {
            "text/html": [
              "<span style=\"white-space:pre; font-family: monospace\">\u250c\u2500\u2500\u2500\u2500\u2500\u2500\u2500\u2500\u2500\u2510\n",
              "\u25021 2 3 4 7\u2502\n",
              "\u25021 2 5 6 8\u2502\n",
              "\u2514\u2500\u2500\u2500\u2500\u2500\u2500\u2500\u2500\u2500\u2518\n",
              "</span>"
            ]
          },
          "execution_count": 347,
          "metadata": {},
          "output_type": "execute_result"
        }
      ],
      "source": [
        ",/na"
      ]
    },
    {
      "cell_type": "markdown",
      "id": "incorporate-script",
      "metadata": {},
      "source": [
        "```{solution} ex-quantitiessold \n",
        "```\n",
        "\n",
        "We have the two vectors here:"
      ]
    },
    {
      "cell_type": "code",
      "execution_count": 137,
      "id": "biblical-chess",
      "metadata": {},
      "outputs": [],
      "source": [
        "ref \u2190 47 47 83 83 83 83 83 29 36 36 36 50 50\n",
        "qty \u2190  5  8  3 18 11  1  6 10 61 52 39  8 11"
      ]
    },
    {
      "cell_type": "markdown",
      "id": "pending-workstation",
      "metadata": {},
      "source": [
        "And we want to use a partitioning function to figure out how many items of each reference were sold.\n",
        "In order to do that, we can try to create a Boolean vector that identifies whenever the vector `ref` reaches a new reference.\n",
        "If we do a pairwise _not-equals_ reduction, we get quite close:"
      ]
    },
    {
      "cell_type": "code",
      "execution_count": 349,
      "id": "ignored-latin",
      "metadata": {},
      "outputs": [
        {
          "data": {
            "text/html": [
              "<span style=\"white-space:pre; font-family: monospace\">0 1 0 0 0 0 1 1 0 0 1 0\n",
              "</span>"
            ]
          },
          "execution_count": 349,
          "metadata": {},
          "output_type": "execute_result"
        }
      ],
      "source": [
        "2\u2260/ref"
      ]
    },
    {
      "cell_type": "markdown",
      "id": "increasing-allergy",
      "metadata": {},
      "source": [
        "The only issue is that this fails to identify the initial reference, but we can fix it by _catenating_ a `1` in the beginning:"
      ]
    },
    {
      "cell_type": "code",
      "execution_count": 350,
      "id": "second-watson",
      "metadata": {},
      "outputs": [
        {
          "data": {
            "text/html": [
              "<span style=\"white-space:pre; font-family: monospace\">1 0 1 0 0 0 0 1 1 0 0 1 0\n",
              "</span>"
            ]
          },
          "execution_count": 350,
          "metadata": {},
          "output_type": "execute_result"
        }
      ],
      "source": [
        "1,2\u2260/ref"
      ]
    },
    {
      "cell_type": "markdown",
      "id": "ongoing-spanish",
      "metadata": {},
      "source": [
        "With that out of the way, we can use _partitioned enclose_ to get a nested vector where each sub-vector contains the quantities sold for that reference:"
      ]
    },
    {
      "cell_type": "code",
      "execution_count": 351,
      "id": "young-context",
      "metadata": {},
      "outputs": [
        {
          "data": {
            "text/html": [
              "<span style=\"white-space:pre; font-family: monospace\">47 47 83 83 83 83 83 29 36 36 36 50 50\n",
              " 5  8  3 18 11  1  6 10 61 52 39  8 11\n",
              "</span>"
            ]
          },
          "execution_count": 351,
          "metadata": {},
          "output_type": "execute_result"
        }
      ],
      "source": [
        "\u2191ref qty"
      ]
    },
    {
      "cell_type": "code",
      "execution_count": 352,
      "id": "reduced-durham",
      "metadata": {},
      "outputs": [
        {
          "data": {
            "text/html": [
              "<span style=\"white-space:pre; font-family: monospace\">\u250c\u2500\u2500\u2500\u252c\u2500\u2500\u2500\u2500\u2500\u2500\u2500\u2500\u2500\u2500\u2500\u252c\u2500\u2500\u252c\u2500\u2500\u2500\u2500\u2500\u2500\u2500\u2500\u252c\u2500\u2500\u2500\u2500\u2510\n",
              "\u25025 8\u25023 18 11 1 6\u250210\u250261 52 39\u25028 11\u2502\n",
              "\u2514\u2500\u2500\u2500\u2534\u2500\u2500\u2500\u2500\u2500\u2500\u2500\u2500\u2500\u2500\u2500\u2534\u2500\u2500\u2534\u2500\u2500\u2500\u2500\u2500\u2500\u2500\u2500\u2534\u2500\u2500\u2500\u2500\u2518\n",
              "</span>"
            ]
          },
          "execution_count": 352,
          "metadata": {},
          "output_type": "execute_result"
        }
      ],
      "source": [
        "(1,2\u2260/ref)\u2282qty"
      ]
    },
    {
      "cell_type": "markdown",
      "id": "proof-faculty",
      "metadata": {},
      "source": [
        "Finally, we can add those up with an _each_:"
      ]
    },
    {
      "cell_type": "code",
      "execution_count": 139,
      "id": "surgical-extra",
      "metadata": {},
      "outputs": [
        {
          "data": {
            "text/html": [
              "<span style=\"white-space:pre; font-family: monospace\">13 39 10 152 19\n",
              "</span>"
            ]
          },
          "execution_count": 139,
          "metadata": {},
          "output_type": "execute_result"
        }
      ],
      "source": [
        "+/\u00a8(1,2\u2260/ref)\u2282qty"
      ]
    },
    {
      "cell_type": "markdown",
      "id": "junior-warrant",
      "metadata": {},
      "source": [
        "Alternatively, we can _mix_ the results after _partitioned enclose_ and then sum along the last axis.\n",
        "The _partitioned enclose_ is likely to return sub-vectors that do not have the same length, which means that _fill items_ are inserted when we _mix_:"
      ]
    },
    {
      "cell_type": "code",
      "execution_count": 140,
      "id": "composite-manual",
      "metadata": {},
      "outputs": [
        {
          "data": {
            "text/html": [
              "<span style=\"white-space:pre; font-family: monospace\"> 5  8  0 0 0\n",
              " 3 18 11 1 6\n",
              "10  0  0 0 0\n",
              "61 52 39 0 0\n",
              " 8 11  0 0 0\n",
              "</span>"
            ]
          },
          "execution_count": 140,
          "metadata": {},
          "output_type": "execute_result"
        }
      ],
      "source": [
        "\u2191(1,2\u2260/ref)\u2282qty"
      ]
    },
    {
      "cell_type": "markdown",
      "id": "responsible-death",
      "metadata": {},
      "source": [
        "However, that doesn't change the final result because adding zeroes does nothing:"
      ]
    },
    {
      "cell_type": "code",
      "execution_count": 141,
      "id": "curious-tribute",
      "metadata": {},
      "outputs": [
        {
          "data": {
            "text/html": [
              "<span style=\"white-space:pre; font-family: monospace\">13 39 10 152 19\n",
              "</span>"
            ]
          },
          "execution_count": 141,
          "metadata": {},
          "output_type": "execute_result"
        }
      ],
      "source": [
        "+/\u2191(1,2\u2260/ref)\u2282qty  \u235d still correct"
      ]
    },
    {
      "cell_type": "markdown",
      "id": "harmful-louis",
      "metadata": {},
      "source": [
        "Let's wrap it into a function:"
      ]
    },
    {
      "cell_type": "code",
      "execution_count": 143,
      "id": "divine-equipment",
      "metadata": {},
      "outputs": [
        {
          "data": {
            "text/html": [
              "<span style=\"white-space:pre; font-family: monospace\">13 39 10 152 19\n",
              "</span>"
            ]
          },
          "execution_count": 143,
          "metadata": {},
          "output_type": "execute_result"
        }
      ],
      "source": [
        "QuantitiesSold \u2190 {+/\u2191(1,2\u2260/\u237a)\u2282\u2375}\n",
        "ref QuantitiesSold qty"
      ]
    },
    {
      "cell_type": "markdown",
      "id": "changed-toddler",
      "metadata": {},
      "source": [
        "If we wanted to return the quantities and the respective references, we could use the same Boolean vector to compress the references and partition the quantities:"
      ]
    },
    {
      "cell_type": "code",
      "execution_count": 144,
      "id": "rough-exemption",
      "metadata": {},
      "outputs": [],
      "source": [
        "]dinput\n",
        "QuantitiesSoldAndRefs \u2190 {\n",
        "    pat \u2190 1,2\u2260/\u237a\n",
        "    (pat/\u237a),[.5](+/\u2191pat\u2282\u2375)\n",
        "}"
      ]
    },
    {
      "cell_type": "code",
      "execution_count": 145,
      "id": "million-halifax",
      "metadata": {},
      "outputs": [
        {
          "data": {
            "text/html": [
              "<span style=\"white-space:pre; font-family: monospace\">47 83 29  36 50\n",
              "13 39 10 152 19\n",
              "</span>"
            ]
          },
          "execution_count": 145,
          "metadata": {},
          "output_type": "execute_result"
        }
      ],
      "source": [
        "ref QuantitiesSoldAndRefs qty"
      ]
    },
    {
      "cell_type": "markdown",
      "id": "advised-phase",
      "metadata": {},
      "source": [
        "```{solution} ex-high-dim-index-of \n",
        "```\n",
        "\n",
        "In order to be able to look the rows of a matrix up on the rows of another matrix, we just need to use _split_ to turn both matrices into vectors of rows:"
      ]
    },
    {
      "cell_type": "code",
      "execution_count": 361,
      "id": "rental-person",
      "metadata": {},
      "outputs": [
        {
          "data": {
            "text/html": [
              "<span style=\"white-space:pre; font-family: monospace\">1  2\n",
              "3  4\n",
              "5  6\n",
              "7  8\n",
              "9 10\n",
              "</span>"
            ]
          },
          "execution_count": 361,
          "metadata": {},
          "output_type": "execute_result"
        }
      ],
      "source": [
        "\u2395\u2190 big \u2190 5 2\u2374\u237310"
      ]
    },
    {
      "cell_type": "code",
      "execution_count": 362,
      "id": "exempt-remark",
      "metadata": {},
      "outputs": [
        {
          "data": {
            "text/html": [
              "<span style=\"white-space:pre; font-family: monospace\"> 1  2\n",
              " 3  4\n",
              " 9 10\n",
              "11 12\n",
              "</span>"
            ]
          },
          "execution_count": 362,
          "metadata": {},
          "output_type": "execute_result"
        }
      ],
      "source": [
        "\u2395\u2190 small \u2190 (2 2\u2374\u23734)\u236a8+2 2\u2374\u23738"
      ]
    },
    {
      "cell_type": "code",
      "execution_count": 363,
      "id": "short-blake",
      "metadata": {},
      "outputs": [
        {
          "data": {
            "text/html": [
              "<span style=\"white-space:pre; font-family: monospace\">1 2 5 6\n",
              "</span>"
            ]
          },
          "execution_count": 363,
          "metadata": {},
          "output_type": "execute_result"
        }
      ],
      "source": [
        "(\u2193big)\u2373\u2193small"
      ]
    },
    {
      "cell_type": "markdown",
      "id": "early-thirty",
      "metadata": {},
      "source": [
        "```{solution} ex-empty-vectors \n",
        "```\n",
        "\n",
        "In order to understand the results of the empty _partitioned encloses_, it is helpful to think about what the result would be if it were a \"normal\" _partitioned enclose_.\n",
        "\n",
        "For example, for the solved case, here is a \"normal\" _partitioned enclose_ of `'Partition'`, using an arbitrary left argument with a couple of `1`s and a couple of `0`s:"
      ]
    },
    {
      "cell_type": "code",
      "execution_count": 146,
      "id": "expected-christianity",
      "metadata": {},
      "outputs": [
        {
          "data": {
            "text/html": [
              "<span style=\"white-space:pre; font-family: monospace\">\u250c\u2500\u2500\u2500\u252c\u2500\u2500\u252c\u2500\u2500\u2500\u2500\u2510\n",
              "\u2502Par\u2502ti\u2502tion\u2502\n",
              "\u2514\u2500\u2500\u2500\u2534\u2500\u2500\u2534\u2500\u2500\u2500\u2500\u2518\n",
              "</span>"
            ]
          },
          "execution_count": 146,
          "metadata": {},
          "output_type": "execute_result"
        }
      ],
      "source": [
        "1 0 0 1 0 1 0 0 0\u2282'Partition'"
      ]
    },
    {
      "cell_type": "markdown",
      "id": "minimal-presence",
      "metadata": {},
      "source": [
        "The result is, thus, a vector of character vectors.\n",
        "So, if the left argument is `0`, we get \"an empty vector of empty character vectors\".\n",
        "Here is a vector of empty character vectors:"
      ]
    },
    {
      "cell_type": "code",
      "execution_count": 147,
      "id": "provincial-danish",
      "metadata": {},
      "outputs": [
        {
          "data": {
            "text/html": [
              "<span style=\"white-space:pre; font-family: monospace\">\u250c\u252c\u252c\u252c\u2510\n",
              "\u2502\u2502\u2502\u2502\u2502\n",
              "\u2514\u2534\u2534\u2534\u2518\n",
              "</span>"
            ]
          },
          "execution_count": 147,
          "metadata": {},
          "output_type": "execute_result"
        }
      ],
      "source": [
        "'' '' '' ''"
      ]
    },
    {
      "cell_type": "markdown",
      "id": "chronic-voltage",
      "metadata": {},
      "source": [
        "But this vector has 4 elements.\n",
        "To make it empty, we need to reshape it:"
      ]
    },
    {
      "cell_type": "code",
      "execution_count": 148,
      "id": "spanish-devices",
      "metadata": {},
      "outputs": [
        {
          "data": {
            "text/html": [
              "<span style=\"white-space:pre; font-family: monospace\">\n",
              "\n",
              "\n",
              "</span>"
            ]
          },
          "execution_count": 148,
          "metadata": {},
          "output_type": "execute_result"
        }
      ],
      "source": [
        "0\u2374'' '' '' ''"
      ]
    },
    {
      "cell_type": "markdown",
      "id": "inner-administration",
      "metadata": {},
      "source": [
        "But it is a waste of typing effort to write four `''`, for nothing, when we can just let _reshape_ take care of reusing data:"
      ]
    },
    {
      "cell_type": "code",
      "execution_count": 149,
      "id": "muslim-kingdom",
      "metadata": {},
      "outputs": [
        {
          "data": {
            "text/html": [
              "<span style=\"white-space:pre; font-family: monospace\">\n",
              "\n",
              "\n",
              "</span>"
            ]
          },
          "execution_count": 149,
          "metadata": {},
          "output_type": "execute_result"
        }
      ],
      "source": [
        "0\u23744\u2374\u2282''"
      ]
    },
    {
      "cell_type": "markdown",
      "id": "attached-humanity",
      "metadata": {},
      "source": [
        "Now, reshaping twice is redundant, so we can keep only the last reshape:"
      ]
    },
    {
      "cell_type": "code",
      "execution_count": 150,
      "id": "center-street",
      "metadata": {},
      "outputs": [
        {
          "data": {
            "text/html": [
              "<span style=\"white-space:pre; font-family: monospace\">\n",
              "\n",
              "\n",
              "</span>"
            ]
          },
          "execution_count": 150,
          "metadata": {},
          "output_type": "execute_result"
        }
      ],
      "source": [
        "0\u2374\u2282''"
      ]
    },
    {
      "cell_type": "markdown",
      "id": "numerical-cannon",
      "metadata": {},
      "source": [
        "This _matches_ the empty result:"
      ]
    },
    {
      "cell_type": "code",
      "execution_count": 411,
      "id": "shaped-least",
      "metadata": {},
      "outputs": [
        {
          "data": {
            "text/html": [
              "<span style=\"white-space:pre; font-family: monospace\">1\n",
              "</span>"
            ]
          },
          "execution_count": 411,
          "metadata": {},
          "output_type": "execute_result"
        }
      ],
      "source": [
        "(0\u2374\u2282'')\u22610\u2282'Partition'"
      ]
    },
    {
      "cell_type": "markdown",
      "id": "danish-accuracy",
      "metadata": {},
      "source": [
        "Let us follow a similar reasoning for the remaining expressions.\n",
        "\n",
        " - `0\u2282\u237310`\n",
        "\n",
        "This is very similar to the example above, except the data is numeric instead of textual, so the result is an empty vector of empty numeric vectors:"
      ]
    },
    {
      "cell_type": "code",
      "execution_count": 412,
      "id": "first-planner",
      "metadata": {},
      "outputs": [
        {
          "data": {
            "text/html": [
              "<span style=\"white-space:pre; font-family: monospace\">1\n",
              "</span>"
            ]
          },
          "execution_count": 412,
          "metadata": {},
          "output_type": "execute_result"
        }
      ],
      "source": [
        "(0\u2374\u2282\u236c)\u22610\u2282\u237310"
      ]
    },
    {
      "cell_type": "markdown",
      "id": "prescribed-technician",
      "metadata": {},
      "source": [
        " - `0\u2282\u236c`\n",
        "\n",
        "This is an attempt at a tricky question, but remember that `\u236c` _is_ a _simple_ numeric vector, although an empty one.\n",
        "Thus, the solution is the same:"
      ]
    },
    {
      "cell_type": "code",
      "execution_count": 420,
      "id": "defined-monkey",
      "metadata": {},
      "outputs": [
        {
          "data": {
            "text/html": [
              "<span style=\"white-space:pre; font-family: monospace\">1\n",
              "</span>"
            ]
          },
          "execution_count": 420,
          "metadata": {},
          "output_type": "execute_result"
        }
      ],
      "source": [
        "(0\u2374\u2282\u236c)\u22610\u2282\u236c"
      ]
    },
    {
      "cell_type": "markdown",
      "id": "ranging-receiver",
      "metadata": {},
      "source": [
        " - `0\u22823 2\u2374\u2395A`\n",
        "\n",
        "The _partitioned enclose_ of a character matrix is a vector of character matrices, so the result of the empty _partitioned enclose_ is going to be an empty vector of empty character matrices.\n",
        "Now, the question is: what is the shape of those empty matrices?\n",
        "\n",
        "Well, by modifying the left argument to _partitioned enclose_, we can vary the number of columns in the sub-matrices:"
      ]
    },
    {
      "cell_type": "code",
      "execution_count": 426,
      "id": "oriented-fossil",
      "metadata": {},
      "outputs": [
        {
          "data": {
            "text/html": [
              "<span style=\"white-space:pre; font-family: monospace\">\u250c\u2500\u252c\u2500\u2510\n",
              "\u2502A\u2502B\u2502\n",
              "\u2502C\u2502D\u2502\n",
              "\u2502E\u2502F\u2502\n",
              "\u2514\u2500\u2534\u2500\u2518\n",
              "</span>"
            ]
          },
          "execution_count": 426,
          "metadata": {},
          "output_type": "execute_result"
        }
      ],
      "source": [
        "1 1\u22823 2\u2374\u2395A"
      ]
    },
    {
      "cell_type": "code",
      "execution_count": 429,
      "id": "removable-doubt",
      "metadata": {},
      "outputs": [
        {
          "data": {
            "text/html": [
              "<span style=\"white-space:pre; font-family: monospace\">\u250c\u2500\u2500\u2510\n",
              "\u2502AB\u2502\n",
              "\u2502CD\u2502\n",
              "\u2502EF\u2502\n",
              "\u2514\u2500\u2500\u2518\n",
              "</span>"
            ]
          },
          "execution_count": 429,
          "metadata": {},
          "output_type": "execute_result"
        }
      ],
      "source": [
        "1 0\u22823 2\u2374\u2395A"
      ]
    },
    {
      "cell_type": "markdown",
      "id": "satellite-switzerland",
      "metadata": {},
      "source": [
        "But we see that the sub-matrices always have three rows, because that is how many rows the original matrix has.\n",
        "Hence, the final result is an empty vector of empty character matrices with three rows:"
      ]
    },
    {
      "cell_type": "code",
      "execution_count": 430,
      "id": "demanding-tuning",
      "metadata": {},
      "outputs": [
        {
          "data": {
            "text/html": [
              "<span style=\"white-space:pre; font-family: monospace\">1\n",
              "</span>"
            ]
          },
          "execution_count": 430,
          "metadata": {},
          "output_type": "execute_result"
        }
      ],
      "source": [
        "(0\u2374\u22823 0\u2374'')\u22610\u22823 2\u2374\u2395A"
      ]
    },
    {
      "cell_type": "markdown",
      "id": "roman-conference",
      "metadata": {},
      "source": [
        " - `0\u22823 4 5\u2374\u237360`\n",
        "\n",
        "The train of thought for this example is very similar to the previous one, except we are working with an array of rank three.\n",
        "The basic premise is the same, though, and that's that modifying the pattern of the left argument of _partitioned enclose_ is going to alter the dimension of the last axis of each sub-result, but each sub-result will have a shape that starts with `3 4`.\n",
        "\n",
        "Hence, the final result is an empty vector of empty cuboids with shapes `3 4 0`:"
      ]
    },
    {
      "cell_type": "code",
      "execution_count": 431,
      "id": "improved-carbon",
      "metadata": {},
      "outputs": [
        {
          "data": {
            "text/html": [
              "<span style=\"white-space:pre; font-family: monospace\">1\n",
              "</span>"
            ]
          },
          "execution_count": 431,
          "metadata": {},
          "output_type": "execute_result"
        }
      ],
      "source": [
        "(0\u2374\u22823 4 0\u2374\u236c)\u22610\u22823 4 5\u2374\u237360"
      ]
    },
    {
      "cell_type": "markdown",
      "id": "exempt-priest",
      "metadata": {},
      "source": [
        " - `0\u2282(1 2 3)(4 5 6)(7 8 9)`\n",
        "\n",
        "The right argument to _partitioned enclose_ is a nested vector, so the result would generally be a vector, where each item would be a vector of triples of integers.\n",
        "So, in this case, the result is an empty vector of empty vectors of triples of integers:"
      ]
    },
    {
      "cell_type": "code",
      "execution_count": 151,
      "id": "loved-librarian",
      "metadata": {},
      "outputs": [
        {
          "data": {
            "text/html": [
              "<span style=\"white-space:pre; font-family: monospace\">1\n",
              "</span>"
            ]
          },
          "execution_count": 151,
          "metadata": {},
          "output_type": "execute_result"
        }
      ],
      "source": [
        "(0\u2374\u22820\u2374\u22823\u2374\u236c)\u22610\u2282(1 2 3)(4 5 6)(7 8 9)\n",
        "\u235d      \u2191 the triples of integers\n",
        "\u235d   \u2191 the empty vectors of triples of integers\n",
        "\u235d\u2191 the empty vector of empty vectors of triples of integers"
      ]
    },
    {
      "cell_type": "markdown",
      "id": "worst-brain",
      "metadata": {},
      "source": [
        " - `0\u2282('cat')('dog')(7 8 9)`\n",
        "\n",
        "This example is very similar to the previous one, except now we have a _mixed_ vector.\n",
        "However, when working with empty vectors, _fill items_, and _prototypes_, what matters is the first item of the vector, which is a 3-item character vector in  this case.\n",
        "Thus, the result will be the same as before, except we have triples of characters instead of triples of integers:"
      ]
    },
    {
      "cell_type": "code",
      "execution_count": 441,
      "id": "material-bermuda",
      "metadata": {},
      "outputs": [
        {
          "data": {
            "text/html": [
              "<span style=\"white-space:pre; font-family: monospace\">1\n",
              "</span>"
            ]
          },
          "execution_count": 441,
          "metadata": {},
          "output_type": "execute_result"
        }
      ],
      "source": [
        "(0\u2374\u22820\u2374\u22823\u2374'')\u22610\u2282('cat')('dog')(7 8 9)\n",
        "\u235d      \u2191 the triples of characters ..."
      ]
    },
    {
      "cell_type": "markdown",
      "id": "cellular-mirror",
      "metadata": {},
      "source": [
        " - `0\u2282(14 'cat' 8)('a' 2 'c' 4)(1 2 3)`\n",
        "\n",
        "Solving this final expression requires applying the same thought process as before.\n",
        "The first item is a 5-item vector with an integer, three characters, and another integer, so that is exactly what we shall recreate:"
      ]
    },
    {
      "cell_type": "code",
      "execution_count": 444,
      "id": "sunrise-latino",
      "metadata": {},
      "outputs": [
        {
          "data": {
            "text/html": [
              "<span style=\"white-space:pre; font-family: monospace\">1\n",
              "</span>"
            ]
          },
          "execution_count": 444,
          "metadata": {},
          "output_type": "execute_result"
        }
      ],
      "source": [
        "(0\u2374\u22820\u2374\u22820'   '0)\u22610\u2282(14 'cat' 8)('a' 2 'c' 4)(1 2 3)"
      ]
    },
    {
      "cell_type": "markdown",
      "id": "dangerous-trial",
      "metadata": {},
      "source": [
        "```{solution} ex-startandend \n",
        "```\n",
        "\n",
        "To check if a word starts and ends with the same character, we can take a character from the front, one from the back, and compare those:"
      ]
    },
    {
      "cell_type": "code",
      "execution_count": 475,
      "id": "sweet-network",
      "metadata": {},
      "outputs": [
        {
          "data": {
            "text/html": [
              "<span style=\"white-space:pre; font-family: monospace\">1\n",
              "</span>"
            ]
          },
          "execution_count": 475,
          "metadata": {},
          "output_type": "execute_result"
        }
      ],
      "source": [
        "word \u2190 'area'\n",
        "(1\u2191word)=\u00af1\u2191word"
      ]
    },
    {
      "cell_type": "markdown",
      "id": "herbal-eligibility",
      "metadata": {},
      "source": [
        "However, we can also make use of the _first_ primitive that we just learned about.\n",
        "_First_ `\u2283` picks the first character in a character vector, we are just left with picking the last element of the word.\n",
        "An interesting way to look at it is by realising that the last element of a (character) vector is the _first_ element of the _reverse_:"
      ]
    },
    {
      "cell_type": "code",
      "execution_count": 476,
      "id": "german-chemistry",
      "metadata": {},
      "outputs": [
        {
          "data": {
            "text/html": [
              "<span style=\"white-space:pre; font-family: monospace\">t\n",
              "</span>"
            ]
          },
          "execution_count": 476,
          "metadata": {},
          "output_type": "execute_result"
        }
      ],
      "source": [
        "\u2283\u233d'last'"
      ]
    },
    {
      "cell_type": "markdown",
      "id": "pretty-authentication",
      "metadata": {},
      "source": [
        "Thus, given a vector of words, we can use _each_ to work on each word separately:"
      ]
    },
    {
      "cell_type": "code",
      "execution_count": 478,
      "id": "earned-explorer",
      "metadata": {},
      "outputs": [
        {
          "data": {
            "text/html": [
              "<span style=\"white-space:pre; font-family: monospace\">1 0 1\n",
              "</span>"
            ]
          },
          "execution_count": 478,
          "metadata": {},
          "output_type": "execute_result"
        }
      ],
      "source": [
        "StartAndEnd \u2190 { {(\u2283\u2375)=\u2283\u233d\u2375}\u00a8\u2375 }\n",
        "StartAndEnd 'area' 'banana' 'shoes'    \u235d 1 0 1"
      ]
    },
    {
      "cell_type": "markdown",
      "id": "southern-warner",
      "metadata": {},
      "source": [
        "The functions appears to be working, so let us test it on the other examples:"
      ]
    },
    {
      "cell_type": "code",
      "execution_count": 480,
      "id": "violent-tattoo",
      "metadata": {},
      "outputs": [
        {
          "data": {
            "text/html": [
              "<span style=\"white-space:pre; font-family: monospace\">1 1 1 1\n",
              "</span>"
            ]
          },
          "execution_count": 480,
          "metadata": {},
          "output_type": "execute_result"
        }
      ],
      "source": [
        "StartAndEnd 'cape'                     \u235d 0"
      ]
    },
    {
      "cell_type": "markdown",
      "id": "renewable-ultimate",
      "metadata": {},
      "source": [
        "Ok, _clearly_ the function is not working yet.\n",
        "The issue is that the argument `\u2375` is a 4-item vector and `{(\u2283\u2375)=\u2283\u233d\u2375}\u00a8` is going to traverse _each_ of the characters of that vector.\n",
        "The fix for this is using the primitive function _nest_ to preprocess the argument, to guarantee that the argument is always nested."
      ]
    },
    {
      "cell_type": "code",
      "execution_count": 481,
      "id": "small-opposition",
      "metadata": {},
      "outputs": [],
      "source": [
        "StartAndEnd \u2190 { {(\u2283\u2375)=\u2283\u233d\u2375}\u00a8\u2286\u2375 }"
      ]
    },
    {
      "cell_type": "code",
      "execution_count": 482,
      "id": "controversial-postcard",
      "metadata": {},
      "outputs": [
        {
          "data": {
            "text/html": [
              "<span style=\"white-space:pre; font-family: monospace\">1 0 1\n",
              "</span>"
            ]
          },
          "execution_count": 482,
          "metadata": {},
          "output_type": "execute_result"
        }
      ],
      "source": [
        "StartAndEnd 'area' 'banana' 'shoes'    \u235d 1 0 1"
      ]
    },
    {
      "cell_type": "code",
      "execution_count": 483,
      "id": "going-acoustic",
      "metadata": {},
      "outputs": [
        {
          "data": {
            "text/html": [
              "<span style=\"white-space:pre; font-family: monospace\">0\n",
              "</span>"
            ]
          },
          "execution_count": 483,
          "metadata": {},
          "output_type": "execute_result"
        }
      ],
      "source": [
        "StartAndEnd 'cape'                     \u235d 0"
      ]
    },
    {
      "cell_type": "code",
      "execution_count": 484,
      "id": "inclusive-saskatchewan",
      "metadata": {},
      "outputs": [
        {
          "data": {
            "text/html": [
              "<span style=\"white-space:pre; font-family: monospace\">1\n",
              "</span>"
            ]
          },
          "execution_count": 484,
          "metadata": {},
          "output_type": "execute_result"
        }
      ],
      "source": [
        "StartAndEnd 'z'                        \u235d 1"
      ]
    },
    {
      "cell_type": "markdown",
      "id": "special-teaching",
      "metadata": {},
      "source": [
        "```{solution} ex-extract-subvectors \n",
        "```\n",
        "\n",
        "In order to extract the sub-vectors from the big character vector, we need to take the starting indices and count five indices starting from there:"
      ]
    },
    {
      "cell_type": "code",
      "execution_count": 156,
      "id": "stainless-second",
      "metadata": {},
      "outputs": [],
      "source": [
        "start \u2190 6 27 52"
      ]
    },
    {
      "cell_type": "code",
      "execution_count": 157,
      "id": "classified-batch",
      "metadata": {},
      "outputs": [
        {
          "data": {
            "text/html": [
              "<span style=\"white-space:pre; font-family: monospace\">\u250c\u2500\u2500\u2500\u2500\u2500\u2500\u2500\u2500\u2500\u2500\u252c\u2500\u2500\u2500\u2500\u2500\u2500\u2500\u2500\u2500\u2500\u2500\u2500\u2500\u2500\u252c\u2500\u2500\u2500\u2500\u2500\u2500\u2500\u2500\u2500\u2500\u2500\u2500\u2500\u2500\u2510\n",
              "\u25026 7 8 9 10\u250227 28 29 30 31\u250252 53 54 55 56\u2502\n",
              "\u2514\u2500\u2500\u2500\u2500\u2500\u2500\u2500\u2500\u2500\u2500\u2534\u2500\u2500\u2500\u2500\u2500\u2500\u2500\u2500\u2500\u2500\u2500\u2500\u2500\u2500\u2534\u2500\u2500\u2500\u2500\u2500\u2500\u2500\u2500\u2500\u2500\u2500\u2500\u2500\u2500\u2518\n",
              "</span>"
            ]
          },
          "execution_count": 157,
          "metadata": {},
          "output_type": "execute_result"
        }
      ],
      "source": [
        "start + \u00af1+\u2282\u23735"
      ]
    },
    {
      "cell_type": "markdown",
      "id": "informed-tournament",
      "metadata": {},
      "source": [
        "Now, the most pragmatic thing to do is to _enlist_ all those indices and index directly into the character vector:"
      ]
    },
    {
      "cell_type": "code",
      "execution_count": 163,
      "id": "proud-package",
      "metadata": {},
      "outputs": [
        {
          "data": {
            "text/html": [
              "<span style=\"white-space:pre; font-family: monospace\">borintypedxperi\n",
              "</span>"
            ]
          },
          "execution_count": 163,
          "metadata": {},
          "output_type": "execute_result"
        }
      ],
      "source": [
        "text \u2190 'This boring text has been typed just for a little experiment.'\n",
        "text[\u220astart+\u00af1+\u2282\u23735]"
      ]
    },
    {
      "cell_type": "markdown",
      "id": "aboriginal-wildlife",
      "metadata": {},
      "source": [
        "Putting this in a function gives:"
      ]
    },
    {
      "cell_type": "code",
      "execution_count": 164,
      "id": "sporting-dream",
      "metadata": {},
      "outputs": [
        {
          "data": {
            "text/html": [
              "<span style=\"white-space:pre; font-family: monospace\">borintypedxperi\n",
              "</span>"
            ]
          },
          "execution_count": 164,
          "metadata": {},
          "output_type": "execute_result"
        }
      ],
      "source": [
        "Extract \u2190 { \u237a[\u220a\u2375+\u00af1+\u2282\u23735] }\n",
        "text Extract start\n",
        "\u235d 'borintypedxperi'"
      ]
    },
    {
      "cell_type": "markdown",
      "id": "institutional-locator",
      "metadata": {},
      "source": [
        "```{solution} ex-extractl \n",
        "```\n",
        "\n",
        "This exercise is very similar to the previous one, except that now we don't extract sub-vectors of fixed length, the lengths depend on the right argument.\n",
        "Fixing this can be done by using _iota each_:"
      ]
    },
    {
      "cell_type": "code",
      "execution_count": 165,
      "id": "economic-filling",
      "metadata": {},
      "outputs": [],
      "source": [
        "length \u2190 3 8 4"
      ]
    },
    {
      "cell_type": "code",
      "execution_count": 166,
      "id": "meaning-exception",
      "metadata": {},
      "outputs": [],
      "source": [
        "]dinput\n",
        "ExtractL \u2190 {\n",
        "    (start length) \u2190 \u2375\n",
        "    \u237a[\u220astart+\u00af1+\u2373\u00a8length]\n",
        "}"
      ]
    },
    {
      "cell_type": "code",
      "execution_count": 167,
      "id": "french-gospel",
      "metadata": {},
      "outputs": [
        {
          "data": {
            "text/html": [
              "<span style=\"white-space:pre; font-family: monospace\">bortyped juxper\n",
              "</span>"
            ]
          },
          "execution_count": 167,
          "metadata": {},
          "output_type": "execute_result"
        }
      ],
      "source": [
        "text ExtractL start length\n",
        "\u235d 'bortyped juxper'"
      ]
    }
  ],
  "metadata": {
    "celltoolbar": "Tags",
    "kernelspec": {
      "display_name": "Dyalog APL",
      "language": "apl",
      "name": "dyalog-kernel"
    },
    "language_info": {
      "file_extension": ".apl",
      "mimetype": "text/apl",
      "name": "APL"
    },
    "toc": {
      "base_numbering": 1,
      "nav_menu": {},
      "number_sections": false,
      "sideBar": true,
      "skip_h1_title": true,
      "title_cell": "Table of Contents",
      "title_sidebar": "Contents",
      "toc_cell": false,
      "toc_position": {
        "height": "calc(100% - 180px)",
        "left": "10px",
        "top": "150px",
        "width": "360px"
      },
      "toc_section_display": true,
      "toc_window_display": false
    }
  },
  "nbformat": 4,
  "nbformat_minor": 5
}