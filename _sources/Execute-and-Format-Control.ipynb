{
  "cells": [
    {
      "cell_type": "markdown",
      "id": "digital-kazakhstan",
      "metadata": {},
      "source": [
        "(Execute-and-Format-Control-Execute--Format-Control)=\n",
        "# Execute & Format Control\n",
        "\n",
        "(Execute-and-Format-Control-Execute)=\n",
        "## Execute\n",
        "\n",
        "(Execute-and-Format-Control-Definition)=\n",
        "### Definition\n",
        "\n",
        "_Execute_ is a monadic function represented by `\u234e`, which you can type with <kbd>APL</kbd>+<kbd>;</kbd>; its dyadic use will be explained in the Specialist's Section at the end of this chapter.\n",
        "\n",
        "_Execute_ takes a character vector (or scalar) as its argument.\n",
        "\n",
        "If the character vector represents a valid APL expression, _Execute_ will just... execute it, as if it had been typed on the keyboard.\n",
        "Otherwise, an error will be reported.\n",
        "\n",
        "Take a look at the following example:"
      ]
    },
    {
      "cell_type": "code",
      "execution_count": 1,
      "id": "parallel-cathedral",
      "metadata": {},
      "outputs": [
        {
          "data": {
            "text/html": [
              "<span style=\"white-space:pre; font-family: monospace\">\n",
              "</span>"
            ]
          },
          "execution_count": 1,
          "metadata": {},
          "output_type": "execute_result"
        },
        {
          "data": {
            "text/html": [
              "<span style=\"white-space:pre; font-family: monospace\">5\u00d76+2\n",
              "\n",
              "</span>"
            ]
          },
          "execution_count": 1,
          "metadata": {},
          "output_type": "execute_result"
        }
      ],
      "source": [
        "\u2395\u2190 letters \u2190 '5\u00d76+2'"
      ]
    },
    {
      "cell_type": "code",
      "execution_count": 2,
      "id": "hidden-discipline",
      "metadata": {},
      "outputs": [
        {
          "data": {
            "text/html": [
              "<span style=\"white-space:pre; font-family: monospace\">40\n",
              "\n",
              "</span>"
            ]
          },
          "execution_count": 2,
          "metadata": {},
          "output_type": "execute_result"
        }
      ],
      "source": [
        "\u234eletters"
      ]
    },
    {
      "cell_type": "markdown",
      "id": "indonesian-server",
      "metadata": {},
      "source": [
        "The argument can contain any valid expression:\n",
        " - numeric or character constants, or variables;\n",
        " - left arrows (assignment) or right arrows (branch);\n",
        " - primitive or defined functions and operators; and\n",
        " - calls to other _execute_ functions.\n",
        "\n",
        "Let us define a short function to call from within _execute_:"
      ]
    },
    {
      "cell_type": "code",
      "execution_count": 3,
      "id": "satisfactory-evaluation",
      "metadata": {},
      "outputs": [],
      "source": [
        "\u2207 r \u2190 x Plus y\n",
        "    r \u2190 x + y\n",
        "\u2207"
      ]
    },
    {
      "cell_type": "markdown",
      "id": "czech-entry",
      "metadata": {},
      "source": [
        "In the expression below, _execute_ calls our `Plus` function and creates a new variable:"
      ]
    },
    {
      "cell_type": "code",
      "execution_count": 4,
      "id": "transsexual-density",
      "metadata": {},
      "outputs": [],
      "source": [
        "\u234e'new \u2190 3 + 4 Plus 5'"
      ]
    },
    {
      "cell_type": "code",
      "execution_count": 5,
      "id": "living-attachment",
      "metadata": {},
      "outputs": [
        {
          "data": {
            "text/html": [
              "<span style=\"white-space:pre; font-family: monospace\">12\n",
              "\n",
              "</span>"
            ]
          },
          "execution_count": 5,
          "metadata": {},
          "output_type": "execute_result"
        }
      ],
      "source": [
        "new"
      ]
    },
    {
      "cell_type": "markdown",
      "id": "sporting-daniel",
      "metadata": {},
      "source": [
        "If the expression returns a result, it will be used as the result of _execute_:"
      ]
    },
    {
      "cell_type": "code",
      "execution_count": 6,
      "id": "saving-testimony",
      "metadata": {},
      "outputs": [],
      "source": [
        "res \u2190 \u234e'3 Plus 10'"
      ]
    },
    {
      "cell_type": "code",
      "execution_count": 7,
      "id": "understanding-theme",
      "metadata": {},
      "outputs": [
        {
          "data": {
            "text/html": [
              "<span style=\"white-space:pre; font-family: monospace\">13\n",
              "\n",
              "</span>"
            ]
          },
          "execution_count": 7,
          "metadata": {},
          "output_type": "execute_result"
        }
      ],
      "source": [
        "res"
      ]
    },
    {
      "cell_type": "markdown",
      "id": "mechanical-spoke",
      "metadata": {},
      "source": [
        "We could just as well have written"
      ]
    },
    {
      "cell_type": "code",
      "execution_count": 8,
      "id": "measured-concentration",
      "metadata": {},
      "outputs": [],
      "source": [
        "\u234e'res \u2190 3 Plus 10'"
      ]
    },
    {
      "cell_type": "code",
      "execution_count": 9,
      "id": "legal-locking",
      "metadata": {},
      "outputs": [
        {
          "data": {
            "text/html": [
              "<span style=\"white-space:pre; font-family: monospace\">13\n",
              "\n",
              "</span>"
            ]
          },
          "execution_count": 9,
          "metadata": {},
          "output_type": "execute_result"
        }
      ],
      "source": [
        "res"
      ]
    },
    {
      "cell_type": "markdown",
      "id": "sacred-netscape",
      "metadata": {},
      "source": [
        "```{admonition} Beware \n",
        ":class: warning\n",
        "Note that if the argument does not return a result, it can still be executed, but _execute_ will not return a result, and any attempt to assign it to a variable or to use it in any other way will cause a `VALUE ERROR`.\n",
        "```\n",
        "\n",
        "Take a modification of our `Plus` function that returns no result:"
      ]
    },
    {
      "cell_type": "code",
      "execution_count": 10,
      "id": "impossible-setup",
      "metadata": {},
      "outputs": [],
      "source": [
        "\u2207 x PlusNoRes y;r\n",
        "    r \u2190 x+y\n",
        "\u2207"
      ]
    },
    {
      "cell_type": "markdown",
      "id": "spread-opportunity",
      "metadata": {},
      "source": [
        "These expressions all work:"
      ]
    },
    {
      "cell_type": "code",
      "execution_count": 11,
      "id": "transsexual-margin",
      "metadata": {},
      "outputs": [],
      "source": [
        "\u234e''\n",
        "\u234e'     '\n",
        "\u234e'3 PlusNoRes 5'"
      ]
    },
    {
      "cell_type": "markdown",
      "id": "magnetic-wonder",
      "metadata": {},
      "source": [
        "But trying to assign results from all those expressions will fail,"
      ]
    },
    {
      "cell_type": "code",
      "execution_count": 12,
      "id": "tired-outdoors",
      "metadata": {},
      "outputs": [
        {
          "name": "stderr",
          "output_type": "stream",
          "text": [
            "VALUE ERROR: No result was provided when the context expected one\n",
            "      res\u2190\u234e''\n",
            "          \u2227\n",
            "VALUE ERROR: No result was provided when the context expected one\n",
            "      res\u2190\u234e'     '\n",
            "          \u2227\n",
            "\u234eVALUE ERROR: No result was provided when the context expected one\n",
            "      3 PlusNoRes 5\n",
            "        \u2227\n"
          ]
        }
      ],
      "source": [
        "res \u2190 \u234e''\n",
        "res \u2190 \u234e'     '\n",
        "res \u2190 \u234e'3 PlusNoRes 5'"
      ]
    },
    {
      "cell_type": "markdown",
      "id": "equal-peninsula",
      "metadata": {},
      "source": [
        "because that is equivalent to writing the following:"
      ]
    },
    {
      "cell_type": "code",
      "execution_count": 13,
      "id": "interested-biotechnology",
      "metadata": {},
      "outputs": [
        {
          "name": "stderr",
          "output_type": "stream",
          "text": [
            "SYNTAX ERROR: Missing right argument\n",
            "      res\u2190\n",
            "         \u2227\n",
            "SYNTAX ERROR: Missing right argument\n",
            "      res\u2190\n",
            "         \u2227\n",
            "VALUE ERROR: No result was provided when the context expected one\n",
            "      res\u21903 PlusNoRes 5\n",
            "            \u2227\n"
          ]
        }
      ],
      "source": [
        "res \u2190 \n",
        "res \u2190       \n",
        "res \u2190 3 PlusNoRes 5"
      ]
    },
    {
      "cell_type": "markdown",
      "id": "neither-tunisia",
      "metadata": {},
      "source": [
        "(Execute-and-Format-Control-Some-Typical-Uses)=\n",
        "### Some Typical Uses\n",
        "\n",
        "(Execute-and-Format-Control-Convert-Text-into-Numbers)=\n",
        "#### Convert Text into Numbers\n",
        "\n",
        "_Execute_ may be used to convert characters into numbers.\n",
        "One common application of execute is to convert numeric data, stored as character strings in a text file (for example, a `.csv` file), into binary numbers.\n",
        "You can just read in a string such as `'123, 456, 789'` and execute it to obtain the corresponding 3-item vector:"
      ]
    },
    {
      "cell_type": "code",
      "execution_count": 14,
      "id": "tracked-crack",
      "metadata": {},
      "outputs": [
        {
          "data": {
            "text/html": [
              "<span style=\"white-space:pre; font-family: monospace\">123 456 789\n",
              "\n",
              "</span>"
            ]
          },
          "execution_count": 14,
          "metadata": {},
          "output_type": "execute_result"
        }
      ],
      "source": [
        "\u234e'123, 456, 789'"
      ]
    },
    {
      "cell_type": "markdown",
      "id": "crude-cruise",
      "metadata": {},
      "source": [
        "We saw in [the chapter about user-defined functions](./User-Defined-Functions.ipynb) that _format_ can be used to convert numbers to characters; the reverse can be done using _execute_.\n",
        "This explains why those two functions are represented by \"reversed\" symbols, as shown in {numref}`fig-Dual_Execute_Format`:\n",
        "\n",
        "(fig-Dual_Execute_Format)=\n",
        "```{figure} ../res/Dual_Execute_Format.png\n",
        "---\n",
        "name: Dual_Execute_Format\n",
        "---\n",
        "Representation of the duality between the _execute_ and _format_ primitives.\n",
        "```\n",
        "\n",
        "There is, however, a major difference: _format_ can be applied to matrices, whereas _execute_ can only be applied to vectors."
      ]
    },
    {
      "cell_type": "code",
      "execution_count": 15,
      "id": "experienced-separate",
      "metadata": {},
      "outputs": [
        {
          "data": {
            "text/html": [
              "<span style=\"white-space:pre; font-family: monospace\">14 1952\n",
              "\n",
              "1966\n",
              "\n",
              "</span>"
            ]
          },
          "execution_count": 15,
          "metadata": {},
          "output_type": "execute_result"
        }
      ],
      "source": [
        "birthdate \u2190 'October 14th, 1952'\n",
        "+/ \u234e \u2395\u2190birthdate[9 10,13+\u23735]"
      ]
    },
    {
      "cell_type": "markdown",
      "id": "premier-rubber",
      "metadata": {},
      "source": [
        "Notice that the `'14 1952'` above is a character _vector_ of length 7, and not a vector of 2 character vectors.\n",
        "In fact, compare"
      ]
    },
    {
      "cell_type": "code",
      "execution_count": 16,
      "id": "bearing-massachusetts",
      "metadata": {},
      "outputs": [
        {
          "data": {
            "text/html": [
              "<span style=\"white-space:pre; font-family: monospace\">14 1952\n",
              "\n",
              "</span>"
            ]
          },
          "execution_count": 16,
          "metadata": {},
          "output_type": "execute_result"
        }
      ],
      "source": [
        "birthdate[9 10,13+\u23735]"
      ]
    },
    {
      "cell_type": "code",
      "execution_count": 17,
      "id": "neural-accessory",
      "metadata": {},
      "outputs": [
        {
          "data": {
            "text/html": [
              "<span style=\"white-space:pre; font-family: monospace\">7\n",
              "\n",
              "</span>"
            ]
          },
          "execution_count": 17,
          "metadata": {},
          "output_type": "execute_result"
        }
      ],
      "source": [
        "\u2262birthdate[9 10,13+\u23735]"
      ]
    },
    {
      "cell_type": "markdown",
      "id": "superb-ecology",
      "metadata": {},
      "source": [
        "with"
      ]
    },
    {
      "cell_type": "code",
      "execution_count": 18,
      "id": "primary-yesterday",
      "metadata": {},
      "outputs": [
        {
          "data": {
            "text/html": [
              "<span style=\"white-space:pre; font-family: monospace\">\u250c\u2500\u2500\u252c\u2500\u2500\u2500\u2500\u2510\n",
              "\u250214\u25021952\u2502\n",
              "\u2514\u2500\u2500\u2534\u2500\u2500\u2500\u2500\u2518\n",
              "\n",
              "</span>"
            ]
          },
          "execution_count": 18,
          "metadata": {},
          "output_type": "execute_result"
        }
      ],
      "source": [
        "'14' '1952'"
      ]
    },
    {
      "cell_type": "markdown",
      "id": "brutal-associate",
      "metadata": {},
      "source": [
        "to which `\u234e` _cannot_ be applied:"
      ]
    },
    {
      "cell_type": "code",
      "execution_count": 19,
      "id": "representative-blend",
      "metadata": {},
      "outputs": [
        {
          "name": "stderr",
          "output_type": "stream",
          "text": [
            "DOMAIN ERROR\n",
            "      \u234e'14' '1952'\n",
            "      \u2227\n"
          ]
        }
      ],
      "source": [
        "\u234e'14' '1952'"
      ]
    },
    {
      "cell_type": "markdown",
      "id": "collect-martial",
      "metadata": {},
      "source": [
        "Because _execute_ can only be applied to vectors, a matrix of numeric characters can only be converted after it has been ravelled.\n",
        "But to avoid characters of one row being attached to those of the previous row, it is necessary to catenate a blank character before ravelling.\n",
        "\n",
        "As an example, take the matrix `mat` below:"
      ]
    },
    {
      "cell_type": "code",
      "execution_count": 20,
      "id": "contemporary-heavy",
      "metadata": {},
      "outputs": [
        {
          "data": {
            "text/html": [
              "<span style=\"white-space:pre; font-family: monospace\"> 845\n",
              "1237\n",
              " 933\n",
              "2607\n",
              "\n",
              "</span>"
            ]
          },
          "execution_count": 20,
          "metadata": {},
          "output_type": "execute_result"
        }
      ],
      "source": [
        "\u2395\u2190 mat \u2190 4 4\u2374' 8451237 9332607'"
      ]
    },
    {
      "cell_type": "markdown",
      "id": "funky-quality",
      "metadata": {},
      "source": [
        "If we ravel it and execute it, we get"
      ]
    },
    {
      "cell_type": "code",
      "execution_count": 21,
      "id": "listed-landing",
      "metadata": {},
      "outputs": [
        {
          "data": {
            "text/html": [
              "<span style=\"white-space:pre; font-family: monospace\">8451237 9332607\n",
              "\n",
              "</span>"
            ]
          },
          "execution_count": 21,
          "metadata": {},
          "output_type": "execute_result"
        }
      ],
      "source": [
        "\u234e,mat"
      ]
    },
    {
      "cell_type": "markdown",
      "id": "professional-eclipse",
      "metadata": {},
      "source": [
        "which is not what we want.\n",
        "The correction conversion will be obtained by first catenating a blank space:"
      ]
    },
    {
      "cell_type": "code",
      "execution_count": 22,
      "id": "sealed-rebound",
      "metadata": {},
      "outputs": [
        {
          "data": {
            "text/html": [
              "<span style=\"white-space:pre; font-family: monospace\">845 1237 933 2607\n",
              "\n",
              "</span>"
            ]
          },
          "execution_count": 22,
          "metadata": {},
          "output_type": "execute_result"
        }
      ],
      "source": [
        "\u234e,mat,' '"
      ]
    },
    {
      "cell_type": "markdown",
      "id": "integral-serial",
      "metadata": {},
      "source": [
        "(Execute-and-Format-Control-A-Safer-and-Faster-Solution)=\n",
        "#### A Safer and Faster Solution\n",
        "\n",
        "Using _execute_ to convert characters into numbers may cause errors if the characters do not represent valid numbers.\n",
        "So, we strongly recommend that you instead use `\u2395VFI` (for _Verify and Fix Input_).\n",
        "This is a specialised _system function_ that performs the same conversion, but securely, and is about twice as fast as _execute_.\n",
        "`\u2395VFI` will be studied in [the chapter about system interfaces](./System-Interfaces.ipynb)."
      ]
    },
    {
      "cell_type": "markdown",
      "id": "indirect-toronto",
      "metadata": {},
      "source": [
        "(Execute-and-Format-Control-Other-Uses)=\n",
        "#### Other Uses\n",
        "\n",
        "_Execute_ can be used for many other purposes, including some that may be considered to be rather advanced programming techniques.\n",
        "Some examples are provided in the Specialist's Section at the end of this chapter:\n",
        " - conditional execution (rather obsolete);\n",
        " - case selection (also obsolete);\n",
        " - dynamic variable creation.\n",
        "\n",
        "Please bear in mind that these _execute_ use-cases aren't necessarily _recommended_ programming practices."
      ]
    },
    {
      "cell_type": "markdown",
      "id": "complicated-walter",
      "metadata": {},
      "source": [
        "(Execute-and-Format-Control-Make-Things-Simple)=\n",
        "### Make Things Simple\n",
        "\n",
        "The vector passed in to _execute_ is often constructed by catenating pieces of text, or tokens.\n",
        "\n",
        "These tokens may contain quotes (which must then be doubled), commas, parentheses, etc.\n",
        "But to build the final expression, you will also need quotes (to delimit the tokens), commas (to concatenate them), parentheses, and so on.\n",
        "\n",
        "By now, the expression is becoming extremely complex.\n",
        "It may be difficult to see if a comma is part of a token or is being used to concatenate two successive tokens, and this is only partly alleviated by syntax colouring that modern IDEs provide.\n",
        "It may be hard to see whether or not the parentheses and quotes are properly balanced.\n",
        "If the final expression is wrong, fixing it might be difficult, and if it is correct, later modifying it or expanding it might be just as difficult.\n",
        "\n",
        "To simplify maintenance, it is good practice to assign the text to a variable before executing it.\n",
        "If the operation fails, for any reason, you can just display the variable to see if it looks correct.\n",
        "For example, here is a statement involving _execute_:"
      ]
    },
    {
      "cell_type": "code",
      "execution_count": 23,
      "id": "adjacent-chemical",
      "metadata": {},
      "outputs": [
        {
          "name": "stderr",
          "output_type": "stream",
          "text": [
            "\u234eSYNTAX ERROR\n",
            "      tab43\u2190(4 43\u2374') '\n",
            "                 \u2227\n"
          ]
        }
      ],
      "source": [
        "size \u2190 43\n",
        "\u234e'tab',(\u2355size),'\u2190(4 ',(\u2355size),'\u2374'') '''"
      ]
    },
    {
      "cell_type": "markdown",
      "id": "governing-failing",
      "metadata": {},
      "source": [
        "That's rather obscure!\n",
        "If any problem occurs, it can be difficult to spot the cause.\n",
        "\n",
        "Let us insert a variable just before the _execute_ function:"
      ]
    },
    {
      "cell_type": "code",
      "execution_count": 24,
      "id": "overhead-making",
      "metadata": {},
      "outputs": [
        {
          "name": "stderr",
          "output_type": "stream",
          "text": [
            "\u234eSYNTAX ERROR\n",
            "      tab43\u2190(4 43\u2374') '\n",
            "                 \u2227\n"
          ]
        }
      ],
      "source": [
        "\u234edebug\u2190'tab',(\u2355size),'\u2190(4 ',(\u2355size),'\u2374'') '''"
      ]
    },
    {
      "cell_type": "markdown",
      "id": "convinced-small",
      "metadata": {},
      "source": [
        "Now, it easy to look at `debug` and see if its value is what we would expect:"
      ]
    },
    {
      "cell_type": "code",
      "execution_count": 25,
      "id": "eligible-dodge",
      "metadata": {},
      "outputs": [
        {
          "data": {
            "text/html": [
              "<span style=\"white-space:pre; font-family: monospace\">tab43\u2190(4 43\u2374') '\n",
              "\n",
              "</span>"
            ]
          },
          "execution_count": 25,
          "metadata": {},
          "output_type": "execute_result"
        }
      ],
      "source": [
        "debug"
      ]
    },
    {
      "cell_type": "markdown",
      "id": "narrative-variance",
      "metadata": {},
      "source": [
        "Obviously, this is not a correct statement, so it failed when we tried to execute it."
      ]
    },
    {
      "cell_type": "markdown",
      "id": "substantial-jesus",
      "metadata": {},
      "source": [
        "(Execute-and-Format-Control-The-Format-Primitive)=\n",
        "## The Format Primitive\n",
        "\n",
        "The _format_ primitive function `\u2355`, typed with <kbd>APL</kbd>+<kbd>'</kbd>, has already been briefly described in {numref}`User-Defined-Functions-Format`.\n",
        "We shall cover it in more depth in this section."
      ]
    },
    {
      "cell_type": "markdown",
      "id": "renewable-expense",
      "metadata": {},
      "source": [
        "(Execute-and-Format-Control-Monadic-Format)=\n",
        "### Monadic Format\n",
        "\n",
        "Monadic _format_ converts any array, whatever its value, into its character representation.\n",
        "This applies to numbers, characters, and nested arrays.\n",
        "The result is exactly the same as you would see if you displayed the array on your screen, because APL internally uses monadic _format_ to display arrays.\n",
        "The previous statement assumes that you have no options modifying your output; for example, if you have `]box on` it is no longer true that _format_ produces exactly the same representation as if you just displayed the the array yourself:"
      ]
    },
    {
      "cell_type": "code",
      "execution_count": 26,
      "id": "approved-jason",
      "metadata": {},
      "outputs": [
        {
          "data": {
            "text/html": [
              "<span style=\"white-space:pre; font-family: monospace\">1  2 3 \n",
              "\n",
              "</span>"
            ]
          },
          "execution_count": 26,
          "metadata": {},
          "output_type": "execute_result"
        }
      ],
      "source": [
        "\u23551 (2 3)"
      ]
    },
    {
      "cell_type": "code",
      "execution_count": 27,
      "id": "minus-elite",
      "metadata": {},
      "outputs": [
        {
          "data": {
            "text/html": [
              "<span style=\"white-space:pre; font-family: monospace\">Is ON\n",
              "\n",
              "</span>"
            ]
          },
          "execution_count": 27,
          "metadata": {},
          "output_type": "execute_result"
        }
      ],
      "source": [
        "]box"
      ]
    },
    {
      "cell_type": "code",
      "execution_count": 28,
      "id": "sacred-queen",
      "metadata": {},
      "outputs": [
        {
          "data": {
            "text/html": [
              "<span style=\"white-space:pre; font-family: monospace\">\u250c\u2500\u252c\u2500\u2500\u2500\u2510\n",
              "\u25021\u25022 3\u2502\n",
              "\u2514\u2500\u2534\u2500\u2500\u2500\u2518\n",
              "\n",
              "</span>"
            ]
          },
          "execution_count": 28,
          "metadata": {},
          "output_type": "execute_result"
        }
      ],
      "source": [
        "1 (2 3)"
      ]
    },
    {
      "cell_type": "markdown",
      "id": "embedded-phoenix",
      "metadata": {},
      "source": [
        "Ignoring the effects of such session modifiers like `]box`, which will be covered with some more detail later in this chapter (see {numref}`Execute-and-Format-Control-Modifying-Session-Output-with-User-Commands`), monadic _format_ is such that:\n",
        " - character arrays are not converted, they remain unchanged; and\n",
        " - numeric and nested arrays are converted into vectors or matrices of characters."
      ]
    },
    {
      "cell_type": "code",
      "execution_count": 29,
      "id": "integrated-luxembourg",
      "metadata": {},
      "outputs": [
        {
          "data": {
            "text/html": [
              "<span style=\"white-space:pre; font-family: monospace\">H2SO4\n",
              "CaCO3\n",
              "Fe2O3\n",
              "\n",
              "</span>"
            ]
          },
          "execution_count": 29,
          "metadata": {},
          "output_type": "execute_result"
        }
      ],
      "source": [
        "\u2395\u2190chemistry \u2190 3 5\u2374'H2SO4CaCO3Fe2O3'"
      ]
    },
    {
      "cell_type": "markdown",
      "id": "union-telescope",
      "metadata": {},
      "source": [
        "`chemistry` is a character matrix with shape `3 5`, and it is not modified by `\u2355`:"
      ]
    },
    {
      "cell_type": "code",
      "execution_count": 30,
      "id": "aging-extension",
      "metadata": {},
      "outputs": [
        {
          "data": {
            "text/html": [
              "<span style=\"white-space:pre; font-family: monospace\">H2SO4\n",
              "CaCO3\n",
              "Fe2O3\n",
              "\n",
              "3 5\n",
              "\n",
              "</span>"
            ]
          },
          "execution_count": 30,
          "metadata": {},
          "output_type": "execute_result"
        }
      ],
      "source": [
        "\u2374\u2395\u2190\u2355chemistry"
      ]
    },
    {
      "cell_type": "code",
      "execution_count": 31,
      "id": "incoming-wildlife",
      "metadata": {},
      "outputs": [
        {
          "data": {
            "text/html": [
              "<span style=\"white-space:pre; font-family: monospace\">1\n",
              "\n",
              "</span>"
            ]
          },
          "execution_count": 31,
          "metadata": {},
          "output_type": "execute_result"
        }
      ],
      "source": [
        "chemistry\u2261\u2355chemistry"
      ]
    },
    {
      "cell_type": "markdown",
      "id": "determined-lightweight",
      "metadata": {},
      "source": [
        "On the other hand, a numeric vector with, say, 3 items, becomes a (longer) character vector once converted:"
      ]
    },
    {
      "cell_type": "code",
      "execution_count": 32,
      "id": "editorial-wrong",
      "metadata": {},
      "outputs": [
        {
          "data": {
            "text/html": [
              "<span style=\"white-space:pre; font-family: monospace\">3\n",
              "\n",
              "</span>"
            ]
          },
          "execution_count": 32,
          "metadata": {},
          "output_type": "execute_result"
        }
      ],
      "source": [
        "\u226252 69 76"
      ]
    },
    {
      "cell_type": "code",
      "execution_count": 33,
      "id": "noted-volunteer",
      "metadata": {},
      "outputs": [
        {
          "data": {
            "text/html": [
              "<span style=\"white-space:pre; font-family: monospace\">52 69 76\n",
              "\n",
              "8\n",
              "\n",
              "</span>"
            ]
          },
          "execution_count": 33,
          "metadata": {},
          "output_type": "execute_result"
        }
      ],
      "source": [
        "\u2262\u2395\u2190\u235552 69 76"
      ]
    },
    {
      "cell_type": "markdown",
      "id": "organized-architect",
      "metadata": {},
      "source": [
        "A nested matrix like `nesMat`,"
      ]
    },
    {
      "cell_type": "code",
      "execution_count": 34,
      "id": "sensitive-hygiene",
      "metadata": {},
      "outputs": [
        {
          "data": {
            "text/html": [
              "<span style=\"white-space:pre; font-family: monospace\">\u250c\u2500\u2500\u2500\u2500\u2500\u2500\u252c\u2500\u2500\u2500\u252c\u2500\u2500\u2500\u2500\u2500\u2510\n",
              "\u2502Dyalog\u250244 \u2502Hello\u2502\n",
              "\u251c\u2500\u2500\u2500\u2500\u2500\u2500\u253c\u2500\u2500\u2500\u253c\u2500\u2500\u2500\u2500\u2500\u2524\n",
              "\u250227    \u25028 6\u25021 2 0\u2502\n",
              "\u2502      \u25022 4\u25020 0 5\u2502\n",
              "\u2514\u2500\u2500\u2500\u2500\u2500\u2500\u2534\u2500\u2500\u2500\u2534\u2500\u2500\u2500\u2500\u2500\u2518\n",
              "\n",
              "2 3\n",
              "\n",
              "</span>"
            ]
          },
          "execution_count": 34,
          "metadata": {},
          "output_type": "execute_result"
        }
      ],
      "source": [
        "\u2374\u2395\u2190nesMat \u2190 2 3 \u2374 'Dyalog' 44 'Hello' 27 (2 2 \u2374 8 6 2 4) (2 3\u23741 2 0 0 0 5)"
      ]
    },
    {
      "cell_type": "markdown",
      "id": "extended-grant",
      "metadata": {},
      "source": [
        "which we have already used before, becomes a character matrix that is 20 characters wide and with 3 rows, because `nesMat` contained two small matrices:"
      ]
    },
    {
      "cell_type": "code",
      "execution_count": 35,
      "id": "reflected-american",
      "metadata": {},
      "outputs": [
        {
          "data": {
            "text/html": [
              "<span style=\"white-space:pre; font-family: monospace\"> Dyalog   44  Hello \n",
              "     27  8 6  1 2 0 \n",
              "         2 4  0 0 5 \n",
              "\n",
              "3 20\n",
              "\n",
              "</span>"
            ]
          },
          "execution_count": 35,
          "metadata": {},
          "output_type": "execute_result"
        }
      ],
      "source": [
        "\u2374\u2395\u2190\u2355nesMat"
      ]
    },
    {
      "cell_type": "markdown",
      "id": "medium-release",
      "metadata": {},
      "source": [
        "(Execute-and-Format-Control-Dyadic-Format)=\n",
        "### Dyadic Format\n",
        "\n",
        "(Execute-and-Format-Control-Definition-of-Dyadic-Format)=\n",
        "#### Definition of Dyadic Format\n",
        "\n",
        "Dyadic _format_ applies **only** to numeric values; any attempt to apply it to characters will cause a `DOMAIN ERROR`.\n",
        "\n",
        "The general syntax of _format_ is `descriptor\u2355values`,\n",
        "where `values` can be an array of any _rank_.\n",
        "Dyadic _format_ converts numbers into text in a format that is described by the left argument, the format _descriptor_.\n",
        "`descriptor` is therefore made up of two numbers:\n",
        " - the first number indicates the number of characters to be assigned to each numeric value; or to put it another way, the width of the field in which each numeric value is to be represented; and\n",
        " - the second number indicates how many decimal digits will be displayed."
      ]
    },
    {
      "cell_type": "code",
      "execution_count": 36,
      "id": "celtic-revelation",
      "metadata": {},
      "outputs": [
        {
          "data": {
            "text/html": [
              "<span style=\"white-space:pre; font-family: monospace\">  21.21 1534.88 375.46  704.5 \n",
              "1125.14 1963.52 464.45 1438.25\n",
              " 796.53 1569    157.14  886.59\n",
              "\n",
              "</span>"
            ]
          },
          "execution_count": 36,
          "metadata": {},
          "output_type": "execute_result"
        }
      ],
      "source": [
        "\u2395RL \u2190 73\n",
        "\u2395\u2190nm \u2190 (?3 4\u2374200000)\u00f7100"
      ]
    },
    {
      "cell_type": "markdown",
      "id": "played-catholic",
      "metadata": {},
      "source": [
        "The representation above is the normal display of the `nm` matrix, and it is also how monadic _format_ would present the matrix.\n",
        "\n",
        "Compare that with the result below, where we represent each number right-aligned in a field that is 8 characters wide, with 2 decimal digits."
      ]
    },
    {
      "cell_type": "code",
      "execution_count": 37,
      "id": "appropriate-behalf",
      "metadata": {},
      "outputs": [
        {
          "data": {
            "text/html": [
              "<span style=\"white-space:pre; font-family: monospace\">   21.21 1534.88  375.46  704.50\n",
              " 1125.14 1963.52  464.45 1438.25\n",
              "  796.53 1569.00  157.14  886.59\n",
              "\n",
              "</span>"
            ]
          },
          "execution_count": 37,
          "metadata": {},
          "output_type": "execute_result"
        }
      ],
      "source": [
        "8 2\u2355nm"
      ]
    },
    {
      "cell_type": "markdown",
      "id": "interior-planning",
      "metadata": {},
      "source": [
        "The result has, of course, 3 rows and 32 columns (8 characters for each of the 4 columns):"
      ]
    },
    {
      "cell_type": "code",
      "execution_count": 38,
      "id": "textile-namibia",
      "metadata": {},
      "outputs": [
        {
          "data": {
            "text/html": [
              "<span style=\"white-space:pre; font-family: monospace\">3 32\n",
              "\n",
              "</span>"
            ]
          },
          "execution_count": 38,
          "metadata": {},
          "output_type": "execute_result"
        }
      ],
      "source": [
        "\u23748 2\u2355nm"
      ]
    },
    {
      "cell_type": "markdown",
      "id": "tested-destination",
      "metadata": {},
      "source": [
        "We can also draw a basic ruler (with the help of a short dfn) below the formatted matrix to help you count the width of each field:"
      ]
    },
    {
      "cell_type": "code",
      "execution_count": 39,
      "id": "automated-anaheim",
      "metadata": {},
      "outputs": [],
      "source": [
        "]dinput\n",
        "ruler \u2190 {\n",
        "    c \u2190 \u00af1\u2191\u2374\u2375\n",
        "    \u2375\u236ac\u23744 1 4 1/'\u00af''\u00af|'\n",
        "}"
      ]
    },
    {
      "cell_type": "code",
      "execution_count": 40,
      "id": "prime-medication",
      "metadata": {},
      "outputs": [
        {
          "data": {
            "text/html": [
              "<span style=\"white-space:pre; font-family: monospace\">   21.21 1534.88  375.46  704.50\n",
              " 1125.14 1963.52  464.45 1438.25\n",
              "  796.53 1569.00  157.14  886.59\n",
              "\u00af\u00af\u00af\u00af'\u00af\u00af\u00af\u00af|\u00af\u00af\u00af\u00af'\u00af\u00af\u00af\u00af|\u00af\u00af\u00af\u00af'\u00af\u00af\u00af\u00af|\u00af\u00af\n",
              "\n",
              "</span>"
            ]
          },
          "execution_count": 40,
          "metadata": {},
          "output_type": "execute_result"
        }
      ],
      "source": [
        "ruler 8 2\u2355nm"
      ]
    },
    {
      "cell_type": "markdown",
      "id": "unexpected-complexity",
      "metadata": {},
      "source": [
        "In the next example we represent each number in a field that is 6 characters wide, right-aligned, and with no decimal digits."
      ]
    },
    {
      "cell_type": "code",
      "execution_count": 41,
      "id": "emerging-pottery",
      "metadata": {},
      "outputs": [
        {
          "data": {
            "text/html": [
              "<span style=\"white-space:pre; font-family: monospace\">    21  1535   375   705\n",
              "  1125  1964   464  1438\n",
              "   797  1569   157   887\n",
              "\u00af\u00af\u00af\u00af'\u00af\u00af\u00af\u00af|\u00af\u00af\u00af\u00af'\u00af\u00af\u00af\u00af|\u00af\u00af\u00af\u00af\n",
              "\n",
              "</span>"
            ]
          },
          "execution_count": 41,
          "metadata": {},
          "output_type": "execute_result"
        }
      ],
      "source": [
        "ruler 6 0\u2355nm"
      ]
    },
    {
      "cell_type": "markdown",
      "id": "moderate-bulgarian",
      "metadata": {},
      "source": [
        "The result has now 3 rows and 24 columns:"
      ]
    },
    {
      "cell_type": "code",
      "execution_count": 42,
      "id": "mathematical-graham",
      "metadata": {},
      "outputs": [
        {
          "data": {
            "text/html": [
              "<span style=\"white-space:pre; font-family: monospace\">3 24\n",
              "\n",
              "</span>"
            ]
          },
          "execution_count": 42,
          "metadata": {},
          "output_type": "execute_result"
        }
      ],
      "source": [
        "\u23746 0\u2355nm"
      ]
    },
    {
      "cell_type": "markdown",
      "id": "sound-newton",
      "metadata": {},
      "source": [
        "```{admonition} Remark \n",
        ":class: tip\n",
        "You can see that the numbers to be formatted are **rounded** rather than truncated when the specified format does not allow the full precision of the numbers to be shown.\n",
        "```\n"
      ]
    },
    {
      "cell_type": "markdown",
      "id": "practical-westminster",
      "metadata": {},
      "source": [
        "(Execute-and-Format-Control-Overflow)=\n",
        "#### Overflow\n",
        "\n",
        "If a column is not wide enough to represent some of the numbers, these numbers will be replaced by asterisks.\n",
        "\n",
        "Recall what `nm` looked like:"
      ]
    },
    {
      "cell_type": "code",
      "execution_count": 43,
      "id": "frozen-keeping",
      "metadata": {},
      "outputs": [
        {
          "data": {
            "text/html": [
              "<span style=\"white-space:pre; font-family: monospace\">  21.21 1534.88 375.46  704.5 \n",
              "1125.14 1963.52 464.45 1438.25\n",
              " 796.53 1569    157.14  886.59\n",
              "\n",
              "</span>"
            ]
          },
          "execution_count": 43,
          "metadata": {},
          "output_type": "execute_result"
        }
      ],
      "source": [
        "nm"
      ]
    },
    {
      "cell_type": "markdown",
      "id": "actual-relay",
      "metadata": {},
      "source": [
        "We have seen above that `8 2\u2355nm` looked good:"
      ]
    },
    {
      "cell_type": "code",
      "execution_count": 44,
      "id": "wrapped-douglas",
      "metadata": {},
      "outputs": [
        {
          "data": {
            "text/html": [
              "<span style=\"white-space:pre; font-family: monospace\">   21.21 1534.88  375.46  704.50\n",
              " 1125.14 1963.52  464.45 1438.25\n",
              "  796.53 1569.00  157.14  886.59\n",
              "\n",
              "</span>"
            ]
          },
          "execution_count": 44,
          "metadata": {},
          "output_type": "execute_result"
        }
      ],
      "source": [
        "8 2\u2355nm"
      ]
    },
    {
      "cell_type": "markdown",
      "id": "designing-legislation",
      "metadata": {},
      "source": [
        "If we reduce the width of the columns by 1, some values will now be adjacent to the values immediately to their left, making them difficult to read. For example, the second column will be adjacent to the left column:"
      ]
    },
    {
      "cell_type": "code",
      "execution_count": 45,
      "id": "spectacular-keeping",
      "metadata": {},
      "outputs": [
        {
          "data": {
            "text/html": [
              "<span style=\"white-space:pre; font-family: monospace\">  21.211534.88 375.46 704.50\n",
              "1125.141963.52 464.451438.25\n",
              " 796.531569.00 157.14 886.59\n",
              "\n",
              "</span>"
            ]
          },
          "execution_count": 45,
          "metadata": {},
          "output_type": "execute_result"
        }
      ],
      "source": [
        "7 2\u2355nm"
      ]
    },
    {
      "cell_type": "markdown",
      "id": "accepted-cleaners",
      "metadata": {},
      "source": [
        "If we further reduce the width of the columns, the largest values will no longer fit in their allotted space and will be replaced by asterisks. Most of the other numbers are now adjacent to their neighbours."
      ]
    },
    {
      "cell_type": "code",
      "execution_count": 46,
      "id": "owned-channel",
      "metadata": {},
      "outputs": [
        {
          "data": {
            "text/html": [
              "<span style=\"white-space:pre; font-family: monospace\"> 21.21******375.46704.50\n",
              "************464.45******\n",
              "796.53******157.14886.59\n",
              "\n",
              "</span>"
            ]
          },
          "execution_count": 46,
          "metadata": {},
          "output_type": "execute_result"
        }
      ],
      "source": [
        "6 2\u2355nm"
      ]
    },
    {
      "cell_type": "markdown",
      "id": "color-shannon",
      "metadata": {},
      "source": [
        "```{admonition} Remark \n",
        ":class: tip\n",
        "To calculate the width required to represent a number you must account for the minus sign, the integer digits, the decimal point, and as many decimal digits as specified in the _descriptor_.\n",
        "```\n"
      ]
    },
    {
      "cell_type": "markdown",
      "id": "agricultural-measure",
      "metadata": {},
      "source": [
        "(Execute-and-Format-Control-Multiple-Specifications)=\n",
        "#### Multiple Specifications\n",
        "\n",
        "One can define a different format for each column of numbers.\n",
        "Each format definition is made of 2 numbers, so if the matrix has `n` columns, the left argument must have `2\u00d7n` items:"
      ]
    },
    {
      "cell_type": "code",
      "execution_count": 47,
      "id": "exterior-hardware",
      "metadata": {},
      "outputs": [
        {
          "data": {
            "text/html": [
              "<span style=\"white-space:pre; font-family: monospace\">   21.21      1535 375.4600  704.50\n",
              " 1125.14      1964 464.4500 1438.25\n",
              "  796.53      1569 157.1400  886.59\n",
              "\u00af\u00af\u00af\u00af'\u00af\u00af\u00af\u00af|\u00af\u00af\u00af\u00af'\u00af\u00af\u00af\u00af|\u00af\u00af\u00af\u00af'\u00af\u00af\u00af\u00af|\u00af\u00af\u00af\u00af'\n",
              "\n",
              "</span>"
            ]
          },
          "execution_count": 47,
          "metadata": {},
          "output_type": "execute_result"
        }
      ],
      "source": [
        "ruler 8 2 10 0 9 4 8 2\u2355nm"
      ]
    },
    {
      "cell_type": "markdown",
      "id": "descending-amsterdam",
      "metadata": {},
      "source": [
        "In this case, we formatted the first column with `8 2`, the second column with `10 0`, the third column with `9 4`, and the fourth column with `8 2` again.\n",
        "\n",
        "If the format descriptor (the left argument) does not contain enough pairs of values, it will be repeated as many times as needed, provided that the width of the matrix is a multiple of the number of pairs.\n",
        "\n",
        "In other words, in `desc\u2355values`, the residue `(\u2262desc)|2\u00d7\u00af1\u2191\u2374values` must be equal to 0, otherwise a `LENGTH ERROR` is reported.\n",
        "For example,"
      ]
    },
    {
      "cell_type": "code",
      "execution_count": 48,
      "id": "desperate-detail",
      "metadata": {},
      "outputs": [
        {
          "data": {
            "text/html": [
              "<span style=\"white-space:pre; font-family: monospace\">   21.21      1535  375.46       705\n",
              " 1125.14      1964  464.45      1438\n",
              "  796.53      1569  157.14       887\n",
              "\n",
              "</span>"
            ]
          },
          "execution_count": 48,
          "metadata": {},
          "output_type": "execute_result"
        }
      ],
      "source": [
        "desc \u2190 8 2 10 0\n",
        "desc\u2355nm"
      ]
    },
    {
      "cell_type": "markdown",
      "id": "familiar-probability",
      "metadata": {},
      "source": [
        "In the above, columns 3 and 4 reused the _descriptors_ of columns 1 and 2, respectively `8 2` and `10 0`.\n",
        "This is equivalent to writing the repeated pairs by hand:"
      ]
    },
    {
      "cell_type": "code",
      "execution_count": 49,
      "id": "rising-alabama",
      "metadata": {},
      "outputs": [
        {
          "data": {
            "text/html": [
              "<span style=\"white-space:pre; font-family: monospace\">   21.21      1535  375.46       705\n",
              " 1125.14      1964  464.45      1438\n",
              "  796.53      1569  157.14       887\n",
              "\n",
              "</span>"
            ]
          },
          "execution_count": 49,
          "metadata": {},
          "output_type": "execute_result"
        }
      ],
      "source": [
        "8 2 10 0 8 2 10 0\u2355nm"
      ]
    },
    {
      "cell_type": "markdown",
      "id": "comic-speech",
      "metadata": {},
      "source": [
        "We can also compare `desc\u2355nm` with the statement above about the residue:"
      ]
    },
    {
      "cell_type": "code",
      "execution_count": 50,
      "id": "artistic-cream",
      "metadata": {},
      "outputs": [
        {
          "data": {
            "text/html": [
              "<span style=\"white-space:pre; font-family: monospace\">0\n",
              "\n",
              "</span>"
            ]
          },
          "execution_count": 50,
          "metadata": {},
          "output_type": "execute_result"
        }
      ],
      "source": [
        "(\u2262desc)|2\u00d7\u00af1\u2191\u2374nm"
      ]
    },
    {
      "cell_type": "markdown",
      "id": "relative-sending",
      "metadata": {},
      "source": [
        "(Execute-and-Format-Control-Scientific-Representation)=\n",
        "#### Scientific Representation\n",
        "\n",
        "If the second item of a pair of _format_ descriptors is negative, for example in `9 \u00af3\u235512345`, numbers are formatted in _scientific_ notation (also described as _exponential_ notation; see {numref}`Data-and-Variables-Representation-of-Numbers`), with as many significant digits in the mantissa as specified by the descriptor:"
      ]
    },
    {
      "cell_type": "code",
      "execution_count": 51,
      "id": "behind-clothing",
      "metadata": {
        "scrolled": true
      },
      "outputs": [
        {
          "data": {
            "text/html": [
              "<span style=\"white-space:pre; font-family: monospace\"> 2.1E1   1.5E3   3.8E2   7.0E2  \n",
              " 1.1E3   2.0E3   4.6E2   1.4E3  \n",
              " 8.0E2   1.6E3   1.6E2   8.9E2  \n",
              "\n",
              "</span>"
            ]
          },
          "execution_count": 51,
          "metadata": {},
          "output_type": "execute_result"
        }
      ],
      "source": [
        "8 \u00af2\u2355nm"
      ]
    },
    {
      "cell_type": "code",
      "execution_count": 52,
      "id": "inappropriate-direction",
      "metadata": {},
      "outputs": [
        {
          "data": {
            "text/html": [
              "<span style=\"white-space:pre; font-family: monospace\">2.121E1 1.535E3 3.755E2 7.045E2 \n",
              "1.125E3 1.964E3 4.645E2 1.438E3 \n",
              "7.965E2 1.569E3 1.571E2 8.866E2 \n",
              "\n",
              "</span>"
            ]
          },
          "execution_count": 52,
          "metadata": {},
          "output_type": "execute_result"
        }
      ],
      "source": [
        "8 \u00af4\u2355nm"
      ]
    },
    {
      "cell_type": "markdown",
      "id": "square-operation",
      "metadata": {},
      "source": [
        "You can refer to [Wikipedia's article on \"Scientific Notation\"](https://en.wikipedia.org/wiki/Scientific_notation#E_notation) for more information on how scientific notation works."
      ]
    },
    {
      "cell_type": "markdown",
      "id": "aerial-cursor",
      "metadata": {},
      "source": [
        "(Execute-and-Format-Control-Scalar-Descriptor)=\n",
        "#### Scalar Descriptor\n",
        "\n",
        "When the *descriptor* is reduced to a simple scalar, the columns are formatted in the smallest width compatible with the values they contain, plus one separating space.\n",
        "The scalar descriptor is then used to specify the number of decimal places to use, or the number of significant digits to use in the mantissa of the scientific representation of the numbers, depending on the sign of the descriptor.\n",
        "\n",
        "For example,"
      ]
    },
    {
      "cell_type": "code",
      "execution_count": 53,
      "id": "virtual-comparison",
      "metadata": {},
      "outputs": [
        {
          "data": {
            "text/html": [
              "<span style=\"white-space:pre; font-family: monospace\">   21.21 1534.88 375.46  704.50\n",
              " 1125.14 1963.52 464.45 1438.25\n",
              "  796.53 1569.00 157.14  886.59\n",
              "\n",
              "</span>"
            ]
          },
          "execution_count": 53,
          "metadata": {},
          "output_type": "execute_result"
        }
      ],
      "source": [
        "2\u2355nm"
      ]
    },
    {
      "cell_type": "markdown",
      "id": "induced-distinction",
      "metadata": {},
      "source": [
        "tells `\u2355` to use 2 decimal places for all numbers, whereas"
      ]
    },
    {
      "cell_type": "code",
      "execution_count": 54,
      "id": "deluxe-truth",
      "metadata": {},
      "outputs": [
        {
          "data": {
            "text/html": [
              "<span style=\"white-space:pre; font-family: monospace\"> 2.12E1 1.53E3 3.75E2 7.05E2\n",
              " 1.13E3 1.96E3 4.64E2 1.44E3\n",
              " 7.97E2 1.57E3 1.57E2 8.87E2\n",
              "\n",
              "</span>"
            ]
          },
          "execution_count": 54,
          "metadata": {},
          "output_type": "execute_result"
        }
      ],
      "source": [
        "\u00af3\u2355nm"
      ]
    },
    {
      "cell_type": "markdown",
      "id": "combined-oklahoma",
      "metadata": {},
      "source": [
        "tells `\u2355` to use 3 digits in the mantissa of all numbers.\n",
        "\n",
        "In both examples above we see that each column is separated from the preceding one (and from the left margin too!) by a single space.\n",
        "\n",
        "This technique is convenient for experimental purposes, to have the most compact presentation possible, but you cannot control the total width of the final result with it."
      ]
    },
    {
      "cell_type": "markdown",
      "id": "fresh-amsterdam",
      "metadata": {},
      "source": [
        "(Execute-and-Format-Control-The-FMT-System-Function)=\n",
        "## The `\u2395FMT` System Function\n",
        "\n",
        "The _format_ primitive function is inadequate for producing professional looking output, such as one may require for common business purposes, because:\n",
        "\n",
        " - negative values are represented by a high minus sign, which is rather unusual outside the APL world;\n",
        " - a large value, like 5244172.68, is displayed in a single unpleasant block, while it would look better with thousands separators, like this: 5,244,172.68;\n",
        " - national conventions differ from one country to another. I would be convenient if the value shown above could be written as 5,244,172.68, or 5 244 172,68, or 5.244.172,68; and\n",
        " - it would be nice if negative values could have different styles of presentation, depending on the usage and the context: -427 or (427).\n",
        "\n",
        "For all these reasons, the `\u2355` primitive is sometimes inappropriate, and it is better to use a _system function_ named `\u2395FMT` (where `FMT` also stands for _format_)."
      ]
    },
    {
      "cell_type": "markdown",
      "id": "automatic-collaboration",
      "metadata": {},
      "source": [
        "(Execute-and-Format-Control-Monadic-Use)=\n",
        "### Monadic Use\n",
        "\n",
        "Monadic `\u2395FMT`, like its primitive counterpart, converts numbers into text, without any specific control over the formatting.\n",
        "\n",
        "The result of `\u2395FMT` is **always** a matrix, even if it is applied to a numeric scalar or vector.\n",
        "This is different from `\u2355`:"
      ]
    },
    {
      "cell_type": "code",
      "execution_count": 55,
      "id": "weird-breathing",
      "metadata": {},
      "outputs": [
        {
          "data": {
            "text/html": [
              "<span style=\"white-space:pre; font-family: monospace\">10\n",
              "\n",
              "</span>"
            ]
          },
          "execution_count": 55,
          "metadata": {},
          "output_type": "execute_result"
        }
      ],
      "source": [
        "\u2374\u2355 523 12 742"
      ]
    },
    {
      "cell_type": "code",
      "execution_count": 56,
      "id": "wound-talent",
      "metadata": {},
      "outputs": [
        {
          "data": {
            "text/html": [
              "<span style=\"white-space:pre; font-family: monospace\">1 10\n",
              "\n",
              "</span>"
            ]
          },
          "execution_count": 56,
          "metadata": {},
          "output_type": "execute_result"
        }
      ],
      "source": [
        "\u2374\u2395FMT 523 12 742"
      ]
    },
    {
      "cell_type": "markdown",
      "id": "dated-orientation",
      "metadata": {},
      "source": [
        "The general presentation is the same, except for some very special cases."
      ]
    },
    {
      "cell_type": "markdown",
      "id": "capable-transfer",
      "metadata": {},
      "source": [
        "(Execute-and-Format-Control-Dyadic-Use)=\n",
        "### Dyadic Use\n",
        "\n",
        "(Execute-and-Format-Control-Overview)=\n",
        "#### Overview\n",
        "\n",
        "Like `\u2355`, dyadic `\u2395FMT` accepts a _descriptor_ for its left argument: `descriptor \u2395FMT values`.\n",
        "\n",
        "The right argument `values` can be:\n",
        " - a scalar, a vector, a matrix, but, unlike `\u2355`, **not** a higher rank array; or\n",
        " - a nested scalar or a nested vector, whose items are simple arrays (not nested) or rank not greater than 2.\n",
        "\n",
        "If `values` is a nested vector, each of its items must be homogeneous (either character or numeric).\n",
        "In other words, an item of `values` may not itself be of mixed type.\n",
        "\n",
        "The `descriptor` argument is a character vector, made of a succession of elementary descriptors separated by commas; for example:"
      ]
    },
    {
      "cell_type": "code",
      "execution_count": 57,
      "id": "contrary-audience",
      "metadata": {},
      "outputs": [
        {
          "data": {
            "text/html": [
              "<span style=\"white-space:pre; font-family: monospace\">    12 A B C D   21.21 1534.88  375.46  704.50\n",
              "     3 E F G H 1125.14 1963.52  464.45 1438.25\n",
              "     4          796.53 1569.00  157.14  886.59\n",
              "\n",
              "</span>"
            ]
          },
          "execution_count": 57,
          "metadata": {},
          "output_type": "execute_result"
        }
      ],
      "source": [
        "'I6,4A2,4F8.2' \u2395FMT (12 3 4)(2 4\u2374'ABCDEFGH')nm"
      ]
    },
    {
      "cell_type": "markdown",
      "id": "representative-interaction",
      "metadata": {},
      "source": [
        "Each elementary descriptor is made up of:\n",
        " - a letter, the _specification_, specifying the data representation (integer, decimal, character);\n",
        " - numeric values which specify the width and the shape of the result;\n",
        " - _qualifiers_ and _affixtures_, used to specify further the details of the formatting; and\n",
        " - sometimes a _repetition factor_, to apply the same description to several columns.\n",
        "\n",
        "These elementary descriptors are used one after the other, from left to right, and applied to successive values (or columns of values).\n",
        "\n",
        "Usually each array specified on the right has its own specific descriptor on the left.\n",
        "\n",
        "For example, in the example statement above,\n",
        " - `'I6'` applies to the vector `12 3 4`;\n",
        " - `'4A2'` applies to the four columns of the character matrix `2 4\u2374ABCDEFGH`; and\n",
        " - `'F8.2'` applies to `nm`.\n",
        "\n",
        "However, an elementary descriptor can apply to several arrays if they are to share the same formatting, or a single array can require several descriptors when each of its columns is to be formatted differently.\n",
        "\n",
        "Matrices are formatted normally, whereas vectors are transposed (vertically) into columns."
      ]
    },
    {
      "cell_type": "markdown",
      "id": "apparent-laser",
      "metadata": {},
      "source": [
        "(Execute-and-Format-Control-Specifications-I-and-F)=\n",
        "#### Specifications I and F\n",
        "\n",
        "These specifications are used to display numeric values:\n",
        " - `'I'` for **I**ntegers; and\n",
        " - `'F'` for **F**ractional.\n",
        "\n",
        "They use the following syntax:\n",
        " - `'rIw'`\n",
        "   - `'w'` is the **w**idth (the number of characters) dedicated to each column of numbers; and\n",
        "   - `'r'` is the number of columns to which this format specification is to be applied (this is the **r**epetition factor mentioned earlier.\n",
        " - `'rFw.d'`\n",
        "   - `'w'` is the **w**idth (the number of characters) dedicated to each column of numbers;\n",
        "   - `'d'` is the number of **d**ecimal digits to display; and\n",
        "   - `'r'` is the **r**epetition factor.\n",
        "\n",
        "Notice that the role of `'w.d'` in the specification `'F'` is related to the syntax of the left argument of the primitive function _format_.\n",
        "\n",
        "Let us work on the numeric matrix `nm`,"
      ]
    },
    {
      "cell_type": "code",
      "execution_count": 58,
      "id": "clear-hobby",
      "metadata": {},
      "outputs": [
        {
          "data": {
            "text/html": [
              "<span style=\"white-space:pre; font-family: monospace\">  21.21 1534.88 375.46  704.5 \n",
              "1125.14 1963.52 464.45 1438.25\n",
              " 796.53 1569    157.14  886.59\n",
              "\n",
              "</span>"
            ]
          },
          "execution_count": 58,
          "metadata": {},
          "output_type": "execute_result"
        }
      ],
      "source": [
        "nm"
      ]
    },
    {
      "cell_type": "markdown",
      "id": "interesting-substance",
      "metadata": {},
      "source": [
        "and on the following `price` vector:"
      ]
    },
    {
      "cell_type": "code",
      "execution_count": 59,
      "id": "missing-saskatchewan",
      "metadata": {},
      "outputs": [],
      "source": [
        "price \u2190 5.2 11.5 3.6 4 8.45"
      ]
    },
    {
      "cell_type": "code",
      "execution_count": 60,
      "id": "refined-australian",
      "metadata": {},
      "outputs": [
        {
          "data": {
            "text/html": [
              "<span style=\"white-space:pre; font-family: monospace\">  21   1534.9    375.5     705   5.2\n",
              "1125   1963.5    464.5    1438  11.5\n",
              " 797   1569.0    157.1     887   3.6\n",
              "                                 4.0\n",
              "                                 8.5\n",
              "\u00af\u00af\u00af\u00af'\u00af\u00af\u00af\u00af|\u00af\u00af\u00af\u00af'\u00af\u00af\u00af\u00af|\u00af\u00af\u00af\u00af'\u00af\u00af\u00af\u00af|\u00af\u00af\u00af\u00af'\u00af\n",
              "\n",
              "</span>"
            ]
          },
          "execution_count": 60,
          "metadata": {},
          "output_type": "execute_result"
        }
      ],
      "source": [
        "ruler 'I4,2F9.1,I8,F6.1' \u2395FMT nm price"
      ]
    },
    {
      "cell_type": "markdown",
      "id": "perfect-reset",
      "metadata": {},
      "source": [
        "Here is an explanation of the descriptors used above:\n",
        " - `'I4'`: the first column of `nm` is displayed with a width of 4 characters, as integers (the values are rounded);\n",
        " - `'2F9.1'`: two columns are displayed with a width of 9 characters, with only 1 decimal digit;\n",
        " - `'I8'`: the last column of `nm` is displayed with a width of 8 characters, as integers; and\n",
        " - `'F6.1'`: the `price` vector is displayed vertically with a width of 6 characters and 1 decimal digit.\n",
        "\n",
        "Just like we mentioned earlier, notice that the `price` vector was displayed vertically, and just like with `\u2355`, numbers are rounded (instead of truncated) when needed.\n",
        "It is also worth mentioning that `\u2395FMT` has no problem dealing with the fact that `price` takes up more vertical space than `nm`.\n",
        "\n",
        "In the Specialist's Section you will see that you can also display numeric values using scientific (or **e**xponential) format, using the `'E'` specification, which is very similar to `'F'`."
      ]
    },
    {
      "cell_type": "markdown",
      "id": "detailed-mainstream",
      "metadata": {},
      "source": [
        "(Execute-and-Format-Control-Specification-A)=\n",
        "#### Specification A\n",
        "\n",
        "This specification is used to format characters (mnemonic: `'A'` from **a**lphabet) with the following syntax:\n",
        "\n",
        " - `'rAw'`\n",
        "   - `'w'` is the **w**idth (the number of characters) dedicated to each column of characters; and\n",
        "   - `'r'` is the number of columns to which this format applies (the **r**epetition factor).\n",
        "\n",
        "\n",
        "Let us again use these two variables:"
      ]
    },
    {
      "cell_type": "code",
      "execution_count": 61,
      "id": "arranged-canadian",
      "metadata": {},
      "outputs": [
        {
          "data": {
            "text/html": [
              "<span style=\"white-space:pre; font-family: monospace\">January \n",
              "February\n",
              "March   \n",
              "April   \n",
              "May     \n",
              "June    \n",
              "\n",
              "</span>"
            ]
          },
          "execution_count": 61,
          "metadata": {},
          "output_type": "execute_result"
        }
      ],
      "source": [
        "\u2395\u2190 monMat \u2190 6 8\u2374'January FebruaryMarch   April   May     June    '"
      ]
    },
    {
      "cell_type": "code",
      "execution_count": 62,
      "id": "chronic-heather",
      "metadata": {},
      "outputs": [
        {
          "data": {
            "text/html": [
              "<span style=\"white-space:pre; font-family: monospace\">H2SO4\n",
              "CaCO3\n",
              "Fe2O3\n",
              "\n",
              "</span>"
            ]
          },
          "execution_count": 62,
          "metadata": {},
          "output_type": "execute_result"
        }
      ],
      "source": [
        "\u2395\u2190 chemistry \u2190 3 5\u2374'H2SO4CaCO3Fe2O3'"
      ]
    },
    {
      "cell_type": "code",
      "execution_count": 63,
      "id": "hollow-prototype",
      "metadata": {},
      "outputs": [
        {
          "data": {
            "text/html": [
              "<span style=\"white-space:pre; font-family: monospace\">January    H2SO4\n",
              "February   CaCO3\n",
              "March      Fe2O3\n",
              "April           \n",
              "May             \n",
              "June            \n",
              "\u00af\u00af\u00af\u00af'\u00af\u00af\u00af\u00af|\u00af\u00af\u00af\u00af'\u00af\n",
              "\n",
              "</span>"
            ]
          },
          "execution_count": 63,
          "metadata": {},
          "output_type": "execute_result"
        }
      ],
      "source": [
        "ruler '8A1,A4,9A1' \u2395FMT monMat chemistry"
      ]
    },
    {
      "cell_type": "markdown",
      "id": "advanced-beach",
      "metadata": {},
      "source": [
        "Here is a breakdown of what is happening:\n",
        " - `'8A1'`: the 8 columns of `monMat` are displayed in 8 columns, each of which is 1 character wide;\n",
        " - `'A4'`: the first column of `chemistry`, displayed in a column that is 4 characters wide, produces a separation of 3 blanks; and\n",
        " - `'9A1'`: the subsequent columns of `chemistry` are displayed in (up to) 9 columns, each of which is 1 character wide.\n",
        "\n",
        "```{admonition} Remark \n",
        ":class: tip\n",
        "- Specifications (`'I'`, `'F'`, `'A'`, ...) must be uppercase letters (lowercase specifications cause errors); and\n",
        "- We specified `'9A1'`, though we had only 4 remaining columns to format, with no problems; `\u2395FMT` ignores excess repetition factors.\n",
        "```\n",
        "\n",
        "But what would happen if the first descriptor was larger than necessary?"
      ]
    },
    {
      "cell_type": "code",
      "execution_count": 64,
      "id": "growing-profit",
      "metadata": {},
      "outputs": [
        {
          "data": {
            "text/html": [
              "<span style=\"white-space:pre; font-family: monospace\">January H2   SO4\n",
              "FebruaryCa   CO3\n",
              "March   Fe   2O3\n",
              "April           \n",
              "May             \n",
              "June            \n",
              "\n",
              "</span>"
            ]
          },
          "execution_count": 64,
          "metadata": {},
          "output_type": "execute_result"
        }
      ],
      "source": [
        "'10A1,A4,4A1' \u2395FMT monMat chemistry"
      ]
    },
    {
      "cell_type": "markdown",
      "id": "skilled-crash",
      "metadata": {},
      "source": [
        "The first descriptor in the example above, `'10A1'`, has a repetition factor of 10, meaning it will apply to 10 columns: the 8 columns from `monMat` plus the first 2 columns from `chemistry`.\n",
        "The `'A1'` then displays those columns in columns that are 1 character wide.\n",
        "The next column of `chemistry` is then displayed in a column that is 4 characters wide (because of `'A4'`), and the last two columns of `chemistry` are displayed in columns that are also 1 character wide (here we also specified more columns than are needed).\n",
        "\n",
        "If we provide a single descriptor, it applies to all the columns of the right argument, like the following expression exemplifies:"
      ]
    },
    {
      "cell_type": "code",
      "execution_count": 65,
      "id": "athletic-camera",
      "metadata": {},
      "outputs": [
        {
          "data": {
            "text/html": [
              "<span style=\"white-space:pre; font-family: monospace\">  H  2  S  O  4\n",
              "  C  a  C  O  3\n",
              "  F  e  2  O  3\n",
              "\n",
              "</span>"
            ]
          },
          "execution_count": 65,
          "metadata": {},
          "output_type": "execute_result"
        }
      ],
      "source": [
        "'A3' \u2395FMT chemistry"
      ]
    },
    {
      "cell_type": "markdown",
      "id": "excellent-bacteria",
      "metadata": {},
      "source": [
        "In the result above, each character is formatted in a column that is 3 characters wide and is right-justified."
      ]
    },
    {
      "cell_type": "markdown",
      "id": "classical-groove",
      "metadata": {},
      "source": [
        "(Execute-and-Format-Control-Specification-X)=\n",
        "#### Specification X\n",
        "\n",
        "Suppose that we want to number the rows by displaying the characters `'123'` to the left of `chemistry`.\n",
        "The following method would produce a poor presentation:"
      ]
    },
    {
      "cell_type": "code",
      "execution_count": 66,
      "id": "collective-joseph",
      "metadata": {},
      "outputs": [
        {
          "data": {
            "text/html": [
              "<span style=\"white-space:pre; font-family: monospace\">1H2SO4\n",
              "2CaCO3\n",
              "3Fe2O3\n",
              "\n",
              "</span>"
            ]
          },
          "execution_count": 66,
          "metadata": {},
          "output_type": "execute_result"
        }
      ],
      "source": [
        "'A1,5A1' \u2395FMT '123' chemistry"
      ]
    },
    {
      "cell_type": "markdown",
      "id": "helpful-steel",
      "metadata": {},
      "source": [
        "Using `'6A1'` instead of `'A1,5A1'` would produce the same result.\n",
        "\n",
        "To separate the digits on the left from the `chemistry` matrix on the right, we could specify a different format for the first column of `chemistry`:"
      ]
    },
    {
      "cell_type": "code",
      "execution_count": 67,
      "id": "restricted-seeker",
      "metadata": {},
      "outputs": [
        {
          "data": {
            "text/html": [
              "<span style=\"white-space:pre; font-family: monospace\">1  H2SO4\n",
              "2  CaCO3\n",
              "3  Fe2O3\n",
              "\n",
              "</span>"
            ]
          },
          "execution_count": 67,
          "metadata": {},
          "output_type": "execute_result"
        }
      ],
      "source": [
        "'A1,A3,4A1' \u2395FMT '123' chemistry"
      ]
    },
    {
      "cell_type": "markdown",
      "id": "sporting-terry",
      "metadata": {},
      "source": [
        "However, it is simpler to include a specific descriptor for the separation; this is the role of the `'X'` specification.\n",
        "\n",
        " - `'rXw'`\n",
        "   - `'w'` is the **w**idth (the number of characters) of the blank column to insert; and\n",
        "   - `'r'` is the **r**epetition factor.\n",
        "\n",
        "For example, to insert a blank column that is 3 characters wide, we can specify"
      ]
    },
    {
      "cell_type": "code",
      "execution_count": 68,
      "id": "alert-karen",
      "metadata": {},
      "outputs": [
        {
          "data": {
            "text/html": [
              "<span style=\"white-space:pre; font-family: monospace\">1   H2SO4\n",
              "2   CaCO3\n",
              "3   Fe2O3\n",
              "\n",
              "</span>"
            ]
          },
          "execution_count": 68,
          "metadata": {},
          "output_type": "execute_result"
        }
      ],
      "source": [
        "'A1,X3,5A1' \u2395FMT '123' chemistry"
      ]
    },
    {
      "cell_type": "markdown",
      "id": "unlike-christian",
      "metadata": {},
      "source": [
        "`'X3'` and `'3X1` are synonymous, but the first description is simpler."
      ]
    },
    {
      "cell_type": "markdown",
      "id": "advance-mechanism",
      "metadata": {},
      "source": [
        "(Execute-and-Format-Control-Text-Inclusion-Specification)=\n",
        "#### Text Inclusion Specification\n",
        "\n",
        "It is sometimes convenient to separate two columns of the formatted result by a string of characters.\n",
        "This string of characters must be inserted in the format description, embedded between a pair of delimiters.\n",
        "You can choose from the following delimiters:\n",
        "\n",
        " - `<` and `>`;\n",
        " - `\u2282` and `\u2283`;\n",
        " - `\u00a8` and `\u00a8`;\n",
        " - `\u2395` and `\u2395`; or\n",
        " - `\u235e` and `\u235e`.\n",
        "\n",
        "Of course, if you use a given set of delimiters, the character string cannot contain the closing delimiter.\n",
        "For example, if you use `\u2282 \u2283`, the character string cannot contain `\u2283`; or, if you use `\u2395 \u2395`, the character string cannot contain `\u2395`.\n",
        "\n",
        "Picking between any of the available options is a matter of preference, but the pairs `< >` and `\u2282 \u2283` do present the advantage that they make it easier to spot where the included text starts and ends, which is particularly useful if the format description makes repeated use of text inclusion.\n",
        "For that matter, for the remainder of this chapter we shall prefer `\u2282 \u2283` or `< >` over the other options.\n",
        "\n",
        "Let us use"
      ]
    },
    {
      "cell_type": "code",
      "execution_count": 69,
      "id": "confirmed-factor",
      "metadata": {},
      "outputs": [
        {
          "data": {
            "text/html": [
              "<span style=\"white-space:pre; font-family: monospace\">0.08 0.05 0.02\n",
              "\n",
              "</span>"
            ]
          },
          "execution_count": 69,
          "metadata": {},
          "output_type": "execute_result"
        }
      ],
      "source": [
        "\u2395\u2190 rates \u2190 0.08 0.05 0.02"
      ]
    },
    {
      "cell_type": "markdown",
      "id": "coordinate-treat",
      "metadata": {},
      "source": [
        "to calculate a result and display it:"
      ]
    },
    {
      "cell_type": "code",
      "execution_count": 70,
      "id": "crazy-meter",
      "metadata": {},
      "outputs": [
        {
          "data": {
            "text/html": [
              "<span style=\"white-space:pre; font-family: monospace\">| H2SO4 |    21.21 1534.88  375.46  704.50 \u00d7 8% =  56.36\u20ac\n",
              "| CaCO3 |  1125.14 1963.52  464.45 1438.25 \u00d7 5% =  71.91\u20ac\n",
              "| Fe2O3 |   796.53 1569.00  157.14  886.59 \u00d7 2% =  17.73\u20ac\n",
              "\n",
              "</span>"
            ]
          },
          "execution_count": 70,
          "metadata": {},
          "output_type": "execute_result"
        }
      ],
      "source": [
        "res \u2190 nm[;4]\u00d7rates\n",
        "format \u2190 '\u2282| \u2283,5A1,\u2282 | \u2283,4F8.2,\u2282 \u00d7\u2283,I2,\u2282% =\u2283,F7.2,\u2282\u20ac\u2283'\n",
        "format \u2395FMT chemistry nm (rates\u00d7100) res"
      ]
    },
    {
      "cell_type": "markdown",
      "id": "ambient-seating",
      "metadata": {},
      "source": [
        "<!-- (TODO) use something like `format\u2286\u2368\u2260\\\u2228\u233f'\u2282\u2283'\u2218.=format` to parse the `format` variable and extract the texts that will be included, with the caveat that it only works if there's no extra \u2282\u2283 in there. -->\n",
        "\n",
        "This format specification contains 9 descriptors.\n",
        "To avoid a single long statement, it is possible to prepare the format description separately, save it in a variable, and use it later, as shown above."
      ]
    },
    {
      "cell_type": "markdown",
      "id": "rough-generic",
      "metadata": {},
      "source": [
        "(Execute-and-Format-Control-Specification-G--The-Picture-Code)=\n",
        "#### Specification G \u2013 The Picture Code\n",
        "\n",
        "The specifications we saw earlier (`I`, `F`, `X`, `A`) are very similar to those used in the \"FORMAT\" statement in a very popular scientific language, FORTRAN.\n",
        "Another traditional language, COBOL, uses a different approach in its \"PICTURE\" statement.\n",
        "\n",
        "The `'G'` specification in APL is very similar to the COBOL \"PICTURE\" statement.\n",
        "\n",
        "In this specification, the letter `'G'` is followed by any string of characters, in which the characters `'Z'` and `'9'` represent the positions in which numeric digits are to be placed in the output.\n",
        "\n",
        "The string is delimited by the same delimiters that we use for the text inclusion specification: `\u2282 \u2283`, `< >`, `\u00a8 \u00a8`, `\u2395 \u2395`, or `\u235e \u235e`.\n",
        "\n",
        "It works as follows:\n",
        "\n",
        " - all the values are rounded to the nearest integer (no decimal digit will be displayed);\n",
        " - each digit replaces one of the characters `'Z'` or `'9'` included in the `'G'` format string;\n",
        " - unused `'9'`'s are replaced by zeroes and unused `'Z'`'s are replaced by blanks;\n",
        " - all characters to the left of the first `'Z'` or `'9'`, or to the right of the last `'Z'` or `'9'` are reproduced verbatim; and\n",
        " - characters inserted between some `'Z'`'s or `'9'`'s are reproduced only if there are digits on both sides.\n",
        "\n",
        "Some examples may help:\n",
        "\n",
        "Let us describe the formatting of this matrix"
      ]
    },
    {
      "cell_type": "code",
      "execution_count": 71,
      "id": "second-harvest",
      "metadata": {},
      "outputs": [
        {
          "data": {
            "text/html": [
              "<span style=\"white-space:pre; font-family: monospace\">75 14 86\n",
              "20 31 16\n",
              "\n",
              "</span>"
            ]
          },
          "execution_count": 71,
          "metadata": {},
          "output_type": "execute_result"
        }
      ],
      "source": [
        "\u2395\u2190 mat \u2190 2 3\u237475 14 86 20 31 16"
      ]
    },
    {
      "cell_type": "code",
      "execution_count": 72,
      "id": "useful-catering",
      "metadata": {},
      "outputs": [
        {
          "data": {
            "text/html": [
              "<span style=\"white-space:pre; font-family: monospace\">(0075) + (0014) + (0086) + \n",
              "(0020) + (0031) + (0016) + \n",
              "\n",
              "</span>"
            ]
          },
          "execution_count": 72,
          "metadata": {},
          "output_type": "execute_result"
        }
      ],
      "source": [
        "'3G\u2282(9999) + \u2283' \u2395FMT mat"
      ]
    },
    {
      "cell_type": "markdown",
      "id": "happy-blank",
      "metadata": {},
      "source": [
        "Each descriptor `'9'` has been replaced by a digit of `mat`, or by a zero, and all the other characters have been reproduced from the model.\n",
        "\n",
        "Let us now turn our attention to the `nm` matrix we have been playing around with:"
      ]
    },
    {
      "cell_type": "code",
      "execution_count": 73,
      "id": "varied-delta",
      "metadata": {},
      "outputs": [
        {
          "data": {
            "text/html": [
              "<span style=\"white-space:pre; font-family: monospace\">  21.21 1534.88 375.46  704.5 \n",
              "1125.14 1963.52 464.45 1438.25\n",
              " 796.53 1569    157.14  886.59\n",
              "\n",
              "</span>"
            ]
          },
          "execution_count": 73,
          "metadata": {},
          "output_type": "execute_result"
        }
      ],
      "source": [
        "nm"
      ]
    },
    {
      "cell_type": "code",
      "execution_count": 74,
      "id": "treated-shelf",
      "metadata": {},
      "outputs": [
        {
          "data": {
            "text/html": [
              "<span style=\"white-space:pre; font-family: monospace\"> 0021 1535 0375 0705\n",
              " 1125 1964 0464 1438\n",
              " 0797 1569 0157 0887\n",
              "\n",
              "</span>"
            ]
          },
          "execution_count": 74,
          "metadata": {},
          "output_type": "execute_result"
        }
      ],
      "source": [
        "'4G\u2282 9999\u2283'\u2395FMT nm"
      ]
    },
    {
      "cell_type": "markdown",
      "id": "saved-inquiry",
      "metadata": {},
      "source": [
        "Here, each value is padded by leading zeroes and the decimal digits are lost (the values were _rounded_)."
      ]
    },
    {
      "cell_type": "code",
      "execution_count": 75,
      "id": "manufactured-makeup",
      "metadata": {},
      "outputs": [
        {
          "data": {
            "text/html": [
              "<span style=\"white-space:pre; font-family: monospace\">   21 1535  375  705\n",
              " 1125 1964  464 1438\n",
              "  797 1569  157  887\n",
              "\n",
              "</span>"
            ]
          },
          "execution_count": 75,
          "metadata": {},
          "output_type": "execute_result"
        }
      ],
      "source": [
        "'4G\u2282 ZZZ9\u2283'\u2395FMT nm"
      ]
    },
    {
      "cell_type": "markdown",
      "id": "hazardous-oliver",
      "metadata": {},
      "source": [
        "In this new example small values are not padded by zeroes, but by blanks.\n",
        "It is also worth noting that we use `'ZZZ9'` instead of `'ZZZZ'` so that a single `'0'` gets printed in case there's any zeroes in the right argument:"
      ]
    },
    {
      "cell_type": "code",
      "execution_count": 76,
      "id": "fifth-crisis",
      "metadata": {},
      "outputs": [
        {
          "data": {
            "text/html": [
              "<span style=\"white-space:pre; font-family: monospace\"> \n",
              "\n",
              "</span>"
            ]
          },
          "execution_count": 76,
          "metadata": {},
          "output_type": "execute_result"
        }
      ],
      "source": [
        "'G\u2282Z\u2283' \u2395FMT 0"
      ]
    },
    {
      "cell_type": "code",
      "execution_count": 77,
      "id": "third-ireland",
      "metadata": {},
      "outputs": [
        {
          "data": {
            "text/html": [
              "<span style=\"white-space:pre; font-family: monospace\">0\n",
              "\n",
              "</span>"
            ]
          },
          "execution_count": 77,
          "metadata": {},
          "output_type": "execute_result"
        }
      ],
      "source": [
        "'G\u22829\u2283' \u2395FMT 0"
      ]
    },
    {
      "cell_type": "markdown",
      "id": "connected-leeds",
      "metadata": {},
      "source": [
        "Decimal digits can be displayed only if we convert the values into integers and insert \"artificial\" decimal points between the `'Z'`'s or `'9'`'s:"
      ]
    },
    {
      "cell_type": "code",
      "execution_count": 78,
      "id": "photographic-casino",
      "metadata": {},
      "outputs": [
        {
          "data": {
            "text/html": [
              "<span style=\"white-space:pre; font-family: monospace\">   21.21 1534.88  375.46  704.50\n",
              " 1125.14 1963.52  464.45 1438.25\n",
              "  796.53 1569.00  157.14  886.59\n",
              "\n",
              "</span>"
            ]
          },
          "execution_count": 78,
          "metadata": {},
          "output_type": "execute_result"
        }
      ],
      "source": [
        "'G\u2282 ZZZ9.99\u2283' \u2395FMT 100\u00d7nm"
      ]
    },
    {
      "cell_type": "markdown",
      "id": "constant-stuart",
      "metadata": {},
      "source": [
        "Finally, we illustrate what we said earlier about the fact that symbols placed between descriptors `'Z'` and `'9'` are displayed only if they are surrounded by digits:"
      ]
    },
    {
      "cell_type": "code",
      "execution_count": 79,
      "id": "driven-tampa",
      "metadata": {},
      "outputs": [
        {
          "data": {
            "text/html": [
              "<span style=\"white-space:pre; font-family: monospace\">Value        8\n",
              "Value       15\n",
              "Value     6/54\n",
              "Value    38/52\n",
              "Value  1-93/46\n",
              "Value 62-11/84\n",
              "\n",
              "</span>"
            ]
          },
          "execution_count": 79,
          "metadata": {},
          "output_type": "execute_result"
        }
      ],
      "source": [
        "'G\u2282Value ZZ-ZZ/Z9\u2283' \u2395FMT 8 15 654 3852 19346 621184"
      ]
    },
    {
      "cell_type": "markdown",
      "id": "potential-member",
      "metadata": {},
      "source": [
        "This characteristic is useful when displaying numbers according to national conventions:"
      ]
    },
    {
      "cell_type": "code",
      "execution_count": 80,
      "id": "subsequent-airfare",
      "metadata": {},
      "outputs": [
        {
          "data": {
            "text/html": [
              "<span style=\"white-space:pre; font-family: monospace\">321,456,987.10\n",
              "         84.52\n",
              "        957.32\n",
              "    649,524.65\n",
              "\n",
              "</span>"
            ]
          },
          "execution_count": 80,
          "metadata": {},
          "output_type": "execute_result"
        }
      ],
      "source": [
        "'G\u2282ZZZ,ZZZ,ZZ9.99\u2283' \u2395FMT 32145698710 8452 95732 64952465"
      ]
    },
    {
      "cell_type": "markdown",
      "id": "alike-confidentiality",
      "metadata": {},
      "source": [
        "The above is the Anglo-American presentation and the example below is the French presentation:"
      ]
    },
    {
      "cell_type": "code",
      "execution_count": 81,
      "id": "turkish-vinyl",
      "metadata": {},
      "outputs": [
        {
          "data": {
            "text/html": [
              "<span style=\"white-space:pre; font-family: monospace\">321 456 987,10\n",
              "         84,52\n",
              "        957,32\n",
              "    649 524,65\n",
              "\n",
              "</span>"
            ]
          },
          "execution_count": 81,
          "metadata": {},
          "output_type": "execute_result"
        }
      ],
      "source": [
        "'G\u2282ZZZ ZZZ ZZ9,99\u2283' \u2395FMT 32145698710 8452 95732 64952465"
      ]
    },
    {
      "cell_type": "markdown",
      "id": "pursuant-round",
      "metadata": {},
      "source": [
        "Here is a surprising example:"
      ]
    },
    {
      "cell_type": "code",
      "execution_count": 82,
      "id": "sixth-profession",
      "metadata": {},
      "outputs": [
        {
          "data": {
            "text/html": [
              "<span style=\"white-space:pre; font-family: monospace\">Simon 45 Garfunkel 62\n",
              "Simon 87             \n",
              "\n",
              "</span>"
            ]
          },
          "execution_count": 82,
          "metadata": {},
          "output_type": "execute_result"
        }
      ],
      "source": [
        "'G\u2282Simon ZZ Garfunkel ZZ\u2283' \u2395FMT 4562.31 8699.84"
      ]
    },
    {
      "cell_type": "markdown",
      "id": "scientific-rendering",
      "metadata": {},
      "source": [
        "Here is the explanation of this surprising example:\n",
        "\n",
        " - the two numbers have been rounded like this: `4562 8700`;\n",
        " - because vectors are shown in columns, we get one printed line per item in the vector;\n",
        " - on the first line, `4562` has been split into `45` and `62`;\n",
        " - on the second line, `8700` has been split into `87` and `00`;\n",
        " - because we used a descriptor `'Z'`, these zeroes have been replaced by blanks, which means the characters that compose `'Garfunkel'` are no longer between non-blank digits and, therefore, are not reproduced."
      ]
    },
    {
      "cell_type": "markdown",
      "id": "strange-testament",
      "metadata": {},
      "source": [
        "(Execute-and-Format-Control-Specification-T)=\n",
        "#### Specification T\n",
        "\n",
        "Specification `'X'` was used to specify an offset between a field and its neighbour.\n",
        "Specification `'T'` (where `'T'` stands for tabular) specifies a position from the left margin.\n",
        "This makes it easy to position data in a sheet."
      ]
    },
    {
      "cell_type": "code",
      "execution_count": 83,
      "id": "acoustic-directory",
      "metadata": {},
      "outputs": [
        {
          "data": {
            "text/html": [
              "<span style=\"white-space:pre; font-family: monospace\">75            H2SO4              21  1535   375   705\n",
              "91            CaCO3            1125  1964   464  1438\n",
              "34            Fe2O3             797  1569   157   887\n",
              "\u00af\u00af\u00af\u00af'\u00af\u00af\u00af\u00af|\u00af\u00af\u00af\u00af'\u00af\u00af\u00af\u00af|\u00af\u00af\u00af\u00af'\u00af\u00af\u00af\u00af|\u00af\u00af\u00af\u00af'\u00af\u00af\u00af\u00af|\u00af\u00af\u00af\u00af'\u00af\u00af\u00af\u00af|\u00af\u00af\u00af\n",
              "\n",
              "</span>"
            ]
          },
          "execution_count": 83,
          "metadata": {},
          "output_type": "execute_result"
        }
      ],
      "source": [
        "ruler 'I2,T15,5A1,T30,4I6' \u2395FMT (75 91 34) chemistry nm"
      ]
    },
    {
      "cell_type": "markdown",
      "id": "white-portsmouth",
      "metadata": {},
      "source": [
        "As you can see, `chemistry` starts at the 15th position, and the first column of `nm` starts at the 30th position but, because it occupies 6 characters per column, it is right-aligned at the 35th character."
      ]
    },
    {
      "cell_type": "markdown",
      "id": "classical-jacob",
      "metadata": {},
      "source": [
        "(Execute-and-Format-Control-Specification-E)=\n",
        "#### Specification E\n",
        "\n",
        "This specification in the left argument to `\u2395FMT` is used to display numeric values, but in scientific (or **e**xponential) form.\n",
        "\n",
        "Its syntax is very similar to the syntax of the specification `'F'`:\n",
        "\n",
        " - `'rEw.s'`\n",
        "   - `w` is the **w**idth (in number of characters) dedicated to each column of numbers;\n",
        "   - `s` is the number of **s**ignificant digits displayed in the mantissa; and\n",
        "   - `r` is the **r**epetition factor."
      ]
    },
    {
      "cell_type": "code",
      "execution_count": 84,
      "id": "trained-radio",
      "metadata": {},
      "outputs": [
        {
          "data": {
            "text/html": [
              "<span style=\"white-space:pre; font-family: monospace\">   1.255E4  \n",
              "   4.870E\u00af2 \n",
              "  \u00af6.213E1  \n",
              "\u00af\u00af\u00af\u00af'\u00af\u00af\u00af\u00af|\u00af\u00af\n",
              "\n",
              "</span>"
            ]
          },
          "execution_count": 84,
          "metadata": {},
          "output_type": "execute_result"
        }
      ],
      "source": [
        "ruler 'E12.4' \u2395FMT 12553 0.0487 \u00af62.133"
      ]
    },
    {
      "cell_type": "markdown",
      "id": "vocal-basket",
      "metadata": {},
      "source": [
        "You can see that each number is represented by 12 characters, with exactly 4 significant digits.\n",
        "However, in order to make room for larger exponents, the last column is left blank.\n",
        "\n",
        "You can refer to [Wikipedia's article on \"Scientific Notation\"](https://en.wikipedia.org/wiki/Scientific_notation#E_notation) for more information on how scientific notation works."
      ]
    },
    {
      "cell_type": "markdown",
      "id": "sitting-midwest",
      "metadata": {},
      "source": [
        "(Execute-and-Format-Control-Quick-Reference)=\n",
        "#### Quick Reference\n",
        "\n",
        "| Syntax\u207d*\u207e | Works with | Explanation | See also |\n",
        "| :-     | :-         | :-          | :-  |\n",
        "| `'Iw'` | integers | Format integer in a field of width `w`. | {numref}`Execute-and-Format-Control-Specifications-I-and-F` |\n",
        "| `'Fw.d'` | decimals | Format a fractional number with `d`  decimal digits in a field of width `w`. | [further details](./Execute-and-Format-Control#Specifications-I-and-F) |\n",
        "| `'Aw'` | characters | Format characters in a field of width `w`. | {numref}`Execute-and-Format-Control-Specification-A` |\n",
        "| `'Xw'` |            | Insert `w` blank columns. | {numref}`Execute-and-Format-Control-Specification-X` |\n",
        "| `'\u2282text\u2283'` |        | Include the `text` vector literally. | {numref}`Execute-and-Format-Control-Text-Inclusion-Specification` |\n",
        "| `'G\u2282text\u2283'` | numbers | Displays numbers rounded to nearest integers, inserting the digits where the `'Z'/'9'` characters show up in `text`. Remainder of the text is included literally. | {numref}`Execute-and-Format-Control-Specification-G--The-Picture-Code` |\n",
        "| `'Tp'` |               | Aligns the next column of data `p` columns away from the left margin. | {numref}`Execute-and-Format-Control-Specification-T` |\n",
        "| `'Ew.s'` |  numbers    | Similar to `'F'`, but displays numbers in scientific form with `s` significant digits in the mantissa, taking up a field of total width `w`. | {numref}`Execute-and-Format-Control-Specification-E` |\n",
        "\n",
        "\u207d*\u207e All but the text inclusion specification can be preceded by an integer, so that it applies to those many consecutive columns."
      ]
    },
    {
      "cell_type": "markdown",
      "id": "breeding-completion",
      "metadata": {},
      "source": [
        "(Execute-and-Format-Control-Qualifiers-and-Affixtures)=\n",
        "### Qualifiers and Affixtures\n",
        "\n",
        "Specifications `'I'`, `'F'`, `'G'`, and `'E'`, can be associated with _qualifiers_ and _affixtures_:\n",
        "\n",
        " - _qualifiers_ modify the presentation of numeric values; and\n",
        " - _affixtures_ print additional characters when some conditions are satisfied.\n",
        "\n",
        "_Qualifiers_ and _affixtures_ must be specified to the **left** of the specification they modify."
      ]
    },
    {
      "cell_type": "markdown",
      "id": "going-cedar",
      "metadata": {},
      "source": [
        "(Execute-and-Format-Control-Qualifiers)=\n",
        "#### Qualifiers\n",
        "\n",
        " - `'Kn'` multiplies numbers by $10^n$ before displaying them;\n",
        " - `'B'` replaces zero values by **B**lanks;\n",
        " - `'C'` separates triads of characters by **C**ommas in the integer part of a number;\n",
        " - `'L'` aligns the value to the **L**eft of its field;\n",
        " - `'Z'` fills up the left part of the zone reserved for a field with **Z**eroes;\n",
        " - `'Ov\u2282text\u2283'` replaces **O**nly the specific value `v` with the given `text`. If omitted, `v` is assumed to be zero, so replacing zeroes with a special text string is easy; and\n",
        " - `'S\u2282os\u2283'` replaces characters with **S**ubstitution characters. `os` is a list of couples of characters, where\n",
        "   - `o` is the **o**riginal character; and\n",
        "   - `s` is the **s**ubstitute character.\n",
        "\n",
        "From the qualifiers above, `'C'`, `'L'`, and `'Z'` do **not** work with specification `'G'`.\n",
        "Furthermore, note that the specification `'S\u2282os\u2283'` applies only to the replacement of the following characters:\n",
        " \n",
        " - `.` \u2013 the decimal separator;\n",
        " - `,` \u2013 the thousands separator produced by qualifier `'C'`;\n",
        " - `*` \u2013 the overflow character used when a value takes up more space than the space available for it;\n",
        " - `0` \u2013 the fill character produced by qualifier `'Z'`; and\n",
        " - `_` \u2013 the character indicating lack of precision (see {numref}`Execute-and-Format-Control-Lack-of-Precision`)."
      ]
    },
    {
      "cell_type": "markdown",
      "id": "affiliated-jefferson",
      "metadata": {},
      "source": [
        "(Execute-and-Format-Control-Examples-of-Qualifiers)=\n",
        "#### Examples of Qualifiers\n",
        "\n",
        "Multiply a number by 1000 before displaying it:"
      ]
    },
    {
      "cell_type": "code",
      "execution_count": 85,
      "id": "promising-debut",
      "metadata": {},
      "outputs": [
        {
          "data": {
            "text/html": [
              "<span style=\"white-space:pre; font-family: monospace\">   123450.00\n",
              "\n",
              "</span>"
            ]
          },
          "execution_count": 85,
          "metadata": {},
          "output_type": "execute_result"
        }
      ],
      "source": [
        "'K3F12.2' \u2395FMT 123.45"
      ]
    },
    {
      "cell_type": "markdown",
      "id": "facial-lying",
      "metadata": {},
      "source": [
        "Now divide a number by 10 (and round it) before displaying it:"
      ]
    },
    {
      "cell_type": "code",
      "execution_count": 86,
      "id": "undefined-stable",
      "metadata": {},
      "outputs": [
        {
          "data": {
            "text/html": [
              "<span style=\"white-space:pre; font-family: monospace\">       12.35\n",
              "\n",
              "</span>"
            ]
          },
          "execution_count": 86,
          "metadata": {},
          "output_type": "execute_result"
        }
      ],
      "source": [
        "'K\u00af1F12.2' \u2395FMT 123.45"
      ]
    },
    {
      "cell_type": "markdown",
      "id": "sitting-framing",
      "metadata": {},
      "source": [
        "Because specification `'G'` only displays integer values, it is often convenient to use the qualifier `'K'` to multiply decimal values by a power of 10 to obtain the correct display, as exemplified here below.\n",
        "First, look at the following `\u2395FMT` usage:"
      ]
    },
    {
      "cell_type": "code",
      "execution_count": 87,
      "id": "patient-boulder",
      "metadata": {},
      "outputs": [
        {
          "data": {
            "text/html": [
              "<span style=\"white-space:pre; font-family: monospace\">  4.35\n",
              "  0.54\n",
              "  0.07\n",
              "  6.73\n",
              "\n",
              "</span>"
            ]
          },
          "execution_count": 87,
          "metadata": {},
          "output_type": "execute_result"
        }
      ],
      "source": [
        "'G\u2282ZZ9.99\u2283'\u2395FMT 435.39 54.17 7.2 673.08"
      ]
    },
    {
      "cell_type": "markdown",
      "id": "cosmetic-illness",
      "metadata": {},
      "source": [
        "Notice how the presentation above gives the wrong idea about the values.\n",
        "However, if we were to use `'K2'` to multiply the values by 100 before displaying them, we would produce the correct representation:"
      ]
    },
    {
      "cell_type": "code",
      "execution_count": 88,
      "id": "choice-ocean",
      "metadata": {},
      "outputs": [
        {
          "data": {
            "text/html": [
              "<span style=\"white-space:pre; font-family: monospace\">435.39\n",
              " 54.17\n",
              "  7.20\n",
              "673.08\n",
              "\n",
              "</span>"
            ]
          },
          "execution_count": 88,
          "metadata": {},
          "output_type": "execute_result"
        }
      ],
      "source": [
        "'K2G\u2282ZZ9.99\u2283'\u2395FMT 435.39 54.17 7.2 673.08"
      ]
    },
    {
      "cell_type": "markdown",
      "id": "completed-holmes",
      "metadata": {},
      "source": [
        "```{admonition} Tip \n",
        ":class: tip\n",
        "In the use-case above, the number of decimal places you use in the text descriptor of the specification `'G'` is the number `n` you should use with the qualifier `'Kn'`.\n",
        "```\n",
        "\n",
        "Now we use the qualifier `'Z'` to pad values with zeroes on the left.\n",
        "Notice, also, how a repetition factor may be applied to a list of specifications enclosed by parentheses:"
      ]
    },
    {
      "cell_type": "code",
      "execution_count": 89,
      "id": "copyrighted-headquarters",
      "metadata": {},
      "outputs": [
        {
          "data": {
            "text/html": [
              "<span style=\"white-space:pre; font-family: monospace\">09/07/98\n",
              "\n",
              "</span>"
            ]
          },
          "execution_count": 89,
          "metadata": {},
          "output_type": "execute_result"
        }
      ],
      "source": [
        "'ZI2,2(\u2282/\u2283,ZI2)' \u2395FMT 1 3\u23749 7 98"
      ]
    },
    {
      "cell_type": "markdown",
      "id": "eligible-yellow",
      "metadata": {},
      "source": [
        "We can reproduce the Anglo-American and French representations for large numbers (that we produced with specification `'G'`) with the `'C'` and `'S'` qualifiers:"
      ]
    },
    {
      "cell_type": "code",
      "execution_count": 90,
      "id": "emotional-wells",
      "metadata": {},
      "outputs": [
        {
          "data": {
            "text/html": [
              "<span style=\"white-space:pre; font-family: monospace\">74,815,926.03\n",
              "\n",
              "</span>"
            ]
          },
          "execution_count": 90,
          "metadata": {},
          "output_type": "execute_result"
        }
      ],
      "source": [
        "'CF13.2' \u2395FMT 74815926.03"
      ]
    },
    {
      "cell_type": "code",
      "execution_count": 91,
      "id": "protected-multiple",
      "metadata": {},
      "outputs": [
        {
          "data": {
            "text/html": [
              "<span style=\"white-space:pre; font-family: monospace\">74 815 926,03\n",
              "\n",
              "</span>"
            ]
          },
          "execution_count": 91,
          "metadata": {},
          "output_type": "execute_result"
        }
      ],
      "source": [
        "'S\u2282, .,\u2283CF13.2' \u2395FMT 74815926.03"
      ]
    },
    {
      "cell_type": "markdown",
      "id": "plain-police",
      "metadata": {},
      "source": [
        "In this last example, commas have been replaced by blanks and the decimal point has been substituted by a comma, using the `'S'` qualifier, to obtain a French presentation.\n",
        "\n",
        "For the next examples, let us use the following numeric matrix:"
      ]
    },
    {
      "cell_type": "code",
      "execution_count": 92,
      "id": "assumed-poland",
      "metadata": {},
      "outputs": [
        {
          "data": {
            "text/html": [
              "<span style=\"white-space:pre; font-family: monospace\">178.23    0    \u00af87.64\n",
              "  0    \u00af681.19  42   \n",
              "\n",
              "</span>"
            ]
          },
          "execution_count": 92,
          "metadata": {},
          "output_type": "execute_result"
        }
      ],
      "source": [
        "\u2395\u2190 yop \u2190 2 3\u2374178.23 0 \u00af87.64 0 \u00af681.19 42"
      ]
    },
    {
      "cell_type": "markdown",
      "id": "addressed-champion",
      "metadata": {},
      "source": [
        "Using `'B'` we can replace zeroes with blanks:"
      ]
    },
    {
      "cell_type": "code",
      "execution_count": 93,
      "id": "adjacent-shark",
      "metadata": {},
      "outputs": [
        {
          "data": {
            "text/html": [
              "<span style=\"white-space:pre; font-family: monospace\">   178.23            \u00af87.64\n",
              "           \u00af681.19    42.00\n",
              "\n",
              "</span>"
            ]
          },
          "execution_count": 93,
          "metadata": {},
          "output_type": "execute_result"
        }
      ],
      "source": [
        "'BF9.2' \u2395FMT yop"
      ]
    },
    {
      "cell_type": "markdown",
      "id": "wooden-ethics",
      "metadata": {},
      "source": [
        "This is the same thing as using `'O'` to only replace zeroes with blanks:"
      ]
    },
    {
      "cell_type": "code",
      "execution_count": 94,
      "id": "false-violin",
      "metadata": {},
      "outputs": [
        {
          "data": {
            "text/html": [
              "<span style=\"white-space:pre; font-family: monospace\">   178.23            \u00af87.64\n",
              "           \u00af681.19    42.00\n",
              "\n",
              "</span>"
            ]
          },
          "execution_count": 94,
          "metadata": {},
          "output_type": "execute_result"
        }
      ],
      "source": [
        "'O\u2282\u2283F9.2' \u2395FMT yop"
      ]
    },
    {
      "cell_type": "markdown",
      "id": "efficient-canadian",
      "metadata": {},
      "source": [
        "Recall that `'O'` assumes, by default, that we want to replace zeroes with the text within `\u2282 \u2283`.\n",
        "If we wanted, we could replace `42` by blanks, instead:"
      ]
    },
    {
      "cell_type": "code",
      "execution_count": 95,
      "id": "small-oxygen",
      "metadata": {},
      "outputs": [
        {
          "data": {
            "text/html": [
              "<span style=\"white-space:pre; font-family: monospace\">   178.23     0.00   \u00af87.64\n",
              "     0.00  \u00af681.19         \n",
              "\n",
              "</span>"
            ]
          },
          "execution_count": 95,
          "metadata": {},
          "output_type": "execute_result"
        }
      ],
      "source": [
        "'O42\u2282\u2283F9.2' \u2395FMT yop"
      ]
    },
    {
      "cell_type": "markdown",
      "id": "comparable-inflation",
      "metadata": {},
      "source": [
        "We can also replace the value(s) by something other than blanks.\n",
        "For that, we just specify the replacement text inside the text delimiters:"
      ]
    },
    {
      "cell_type": "code",
      "execution_count": 96,
      "id": "passive-profession",
      "metadata": {},
      "outputs": [
        {
          "data": {
            "text/html": [
              "<span style=\"white-space:pre; font-family: monospace\">   178.23     none   \u00af87.64\n",
              "     none  \u00af681.19    42.00\n",
              "\n",
              "</span>"
            ]
          },
          "execution_count": 96,
          "metadata": {},
          "output_type": "execute_result"
        }
      ],
      "source": [
        "'O\u2282none\u2283F9.2' \u2395FMT yop"
      ]
    },
    {
      "cell_type": "code",
      "execution_count": 97,
      "id": "standing-bleeding",
      "metadata": {},
      "outputs": [
        {
          "data": {
            "text/html": [
              "<span style=\"white-space:pre; font-family: monospace\">   178.23     0.00   \u00af87.64\n",
              "     0.00  \u00af681.19   2+4\u00d710\n",
              "\n",
              "</span>"
            ]
          },
          "execution_count": 97,
          "metadata": {},
          "output_type": "execute_result"
        }
      ],
      "source": [
        "'O42\u22822+4\u00d710\u2283F9.2' \u2395FMT yop"
      ]
    },
    {
      "cell_type": "markdown",
      "id": "optional-swift",
      "metadata": {},
      "source": [
        "Using `'L'` we can align all the values on the left instead:"
      ]
    },
    {
      "cell_type": "code",
      "execution_count": 98,
      "id": "demanding-cedar",
      "metadata": {},
      "outputs": [
        {
          "data": {
            "text/html": [
              "<span style=\"white-space:pre; font-family: monospace\">178.23   0.00     \u00af87.64   \n",
              "0.00     \u00af681.19  2+4\u00d710   \n",
              "\n",
              "</span>"
            ]
          },
          "execution_count": 98,
          "metadata": {},
          "output_type": "execute_result"
        }
      ],
      "source": [
        "'LO42\u22822+4\u00d710\u2283F9.2' \u2395FMT yop"
      ]
    },
    {
      "cell_type": "markdown",
      "id": "whole-increase",
      "metadata": {},
      "source": [
        "If we use `'Z'`, then we can fill the whole field with zeroes:"
      ]
    },
    {
      "cell_type": "code",
      "execution_count": 99,
      "id": "fatty-musical",
      "metadata": {},
      "outputs": [
        {
          "data": {
            "text/html": [
              "<span style=\"white-space:pre; font-family: monospace\">  42\n",
              "\n",
              "</span>"
            ]
          },
          "execution_count": 99,
          "metadata": {},
          "output_type": "execute_result"
        }
      ],
      "source": [
        "'I4' \u2395FMT 42"
      ]
    },
    {
      "cell_type": "code",
      "execution_count": 100,
      "id": "enhanced-syria",
      "metadata": {},
      "outputs": [
        {
          "data": {
            "text/html": [
              "<span style=\"white-space:pre; font-family: monospace\">0042\n",
              "\n",
              "</span>"
            ]
          },
          "execution_count": 100,
          "metadata": {},
          "output_type": "execute_result"
        }
      ],
      "source": [
        "'ZI4' \u2395FMT 42"
      ]
    },
    {
      "cell_type": "markdown",
      "id": "advisory-compensation",
      "metadata": {},
      "source": [
        "(Execute-and-Format-Control-Affixtures)=\n",
        "#### Affixtures\n",
        "\n",
        " - `'M\u2282text\u2283'` replaces the **M**inus sign to the **left** of negative values with the given `text`;\n",
        " - `'N\u2282text\u2283'` adds the given `text` to the **right** of **n**egative values;\n",
        " - `'P\u2282text\u2283'` adds the given `text` to the **left**  of **p**ositive values;\n",
        " - `'Q\u2282text\u2283'` adds the given `text` to the **right** of positive values; and\n",
        " - `'R\u2282text\u2283'` **r**epeats the given `text` as many times as necessary to fill the printing zone entirely, before the digits are overlaid on top. Positions which are not occupied by the digits allow the text to appear. In other words, the `text` will act as a background for the formatted value.\n",
        "\n",
        "It is important to note that the width of the text added by an _affixture_ must be accounted for in the total width reserved for the column."
      ]
    },
    {
      "cell_type": "markdown",
      "id": "built-printing",
      "metadata": {},
      "source": [
        "(Execute-and-Format-Control-Examples-of-Affixtures)=\n",
        "#### Examples of Affixtures\n",
        "\n",
        "It is a common accounting practice to represent negative numbers surrounded by parentheses, instead of with a minus sign.\n",
        "We can easily format numbers to abide by this practice using `'M\u2282(\u2283'` to replace the minus sign of negative numbers with `'('` and using `'N\u2282)\u2283'` to add a `')'` to the right of negative numbers:"
      ]
    },
    {
      "cell_type": "code",
      "execution_count": 101,
      "id": "alert-single",
      "metadata": {},
      "outputs": [
        {
          "data": {
            "text/html": [
              "<span style=\"white-space:pre; font-family: monospace\">    178.23      0.00   (87.64)\n",
              "      0.00  (681.19)     42.00\n",
              "\n",
              "</span>"
            ]
          },
          "execution_count": 101,
          "metadata": {},
          "output_type": "execute_result"
        }
      ],
      "source": [
        "'M\u2282(\u2283N\u2282)\u2283F10.2' \u2395FMT yop"
      ]
    },
    {
      "cell_type": "markdown",
      "id": "comfortable-cleaners",
      "metadata": {},
      "source": [
        "However, we can see that the negative values are no longer aligned with the positive ones.\n",
        "We can fix this by using the affixture `'Q'` to add a blank to the right of positive values:"
      ]
    },
    {
      "cell_type": "code",
      "execution_count": 102,
      "id": "broken-bulgarian",
      "metadata": {},
      "outputs": [
        {
          "data": {
            "text/html": [
              "<span style=\"white-space:pre; font-family: monospace\">   178.23      0.00    (87.64)\n",
              "     0.00   (681.19)    42.00 \n",
              "\n",
              "</span>"
            ]
          },
          "execution_count": 102,
          "metadata": {},
          "output_type": "execute_result"
        }
      ],
      "source": [
        "'Q\u2282 \u2283M\u2282(\u2283N\u2282)\u2283F10.2' \u2395FMT yop"
      ]
    },
    {
      "cell_type": "markdown",
      "id": "developing-metropolitan",
      "metadata": {},
      "source": [
        "Now, instead of surrounding negative numbers with parentheses, suppose we want to represent them with a `'-'` instead of a `'\u00af'`, and also add a `'+'` to the left of the positive numbers.\n",
        "For that, we just reuse `'M'` and introduce `'P'`:"
      ]
    },
    {
      "cell_type": "code",
      "execution_count": 103,
      "id": "nervous-calgary",
      "metadata": {},
      "outputs": [
        {
          "data": {
            "text/html": [
              "<span style=\"white-space:pre; font-family: monospace\">   +178.23     +0.00    -87.64\n",
              "     +0.00   -681.19    +42.00\n",
              "\n",
              "</span>"
            ]
          },
          "execution_count": 103,
          "metadata": {},
          "output_type": "execute_result"
        }
      ],
      "source": [
        "'P\u2282+\u2283M\u2282-\u2283F10.2' \u2395FMT yop"
      ]
    },
    {
      "cell_type": "markdown",
      "id": "automatic-perception",
      "metadata": {},
      "source": [
        "Finally, to illustrate how the affixture `'R'` works, we will draw the representation of `yop` in a matrix of `'\u2395'`'s:"
      ]
    },
    {
      "cell_type": "code",
      "execution_count": 104,
      "id": "mysterious-peace",
      "metadata": {},
      "outputs": [
        {
          "data": {
            "text/html": [
              "<span style=\"white-space:pre; font-family: monospace\">\u2395\u2395\u2395\u2395178.23\u2395\u2395\u2395\u2395\u2395\u23950.00\u2395\u2395\u2395\u2395\u00af87.64\n",
              "\u2395\u2395\u2395\u2395\u2395\u23950.00\u2395\u2395\u2395\u00af681.19\u2395\u2395\u2395\u2395\u239542.00\n",
              "\n",
              "</span>"
            ]
          },
          "execution_count": 104,
          "metadata": {},
          "output_type": "execute_result"
        }
      ],
      "source": [
        "'R\u2282\u2395\u2283F10.2' \u2395FMT yop"
      ]
    },
    {
      "cell_type": "markdown",
      "id": "congressional-forestry",
      "metadata": {},
      "source": [
        "Notice that this is just an overlay of"
      ]
    },
    {
      "cell_type": "code",
      "execution_count": 105,
      "id": "subjective-prototype",
      "metadata": {},
      "outputs": [
        {
          "data": {
            "text/html": [
              "<span style=\"white-space:pre; font-family: monospace\">    178.23      0.00    \u00af87.64\n",
              "      0.00   \u00af681.19     42.00\n",
              "\n",
              "</span>"
            ]
          },
          "execution_count": 105,
          "metadata": {},
          "output_type": "execute_result"
        }
      ],
      "source": [
        "'F10.2' \u2395FMT yop"
      ]
    },
    {
      "cell_type": "markdown",
      "id": "occasional-arctic",
      "metadata": {},
      "source": [
        "on top of"
      ]
    },
    {
      "cell_type": "code",
      "execution_count": 106,
      "id": "incoming-melbourne",
      "metadata": {},
      "outputs": [
        {
          "data": {
            "text/html": [
              "<span style=\"white-space:pre; font-family: monospace\">\u2395\u2395\u2395\u2395\u2395\u2395\u2395\u2395\u2395\u2395\u2395\u2395\u2395\u2395\u2395\u2395\u2395\u2395\u2395\u2395\u2395\u2395\u2395\u2395\u2395\u2395\u2395\u2395\u2395\u2395\n",
              "\u2395\u2395\u2395\u2395\u2395\u2395\u2395\u2395\u2395\u2395\u2395\u2395\u2395\u2395\u2395\u2395\u2395\u2395\u2395\u2395\u2395\u2395\u2395\u2395\u2395\u2395\u2395\u2395\u2395\u2395\n",
              "\n",
              "</span>"
            ]
          },
          "execution_count": 106,
          "metadata": {},
          "output_type": "execute_result"
        }
      ],
      "source": [
        "(\u2374'F10.2' \u2395FMT yop)\u2374'\u2395'"
      ]
    },
    {
      "cell_type": "markdown",
      "id": "complete-kernel",
      "metadata": {},
      "source": [
        "(Execute-and-Format-Control-Remarks-on-Qualifiers-and-Affixtures)=\n",
        "#### Remarks on Qualifiers and Affixtures\n",
        "\n",
        " - Qualifiers and affixtures can be cumulated and can be placed in any order.\n",
        "\n",
        "For example,"
      ]
    },
    {
      "cell_type": "code",
      "execution_count": 107,
      "id": "naughty-front",
      "metadata": {},
      "outputs": [
        {
          "data": {
            "text/html": [
              "<span style=\"white-space:pre; font-family: monospace\">     21,21  1 534,88    375,46    704,50\n",
              "  1 125,14  1 963,52    464,45  1 438,25\n",
              "    796,53  1 569,00    157,14    886,59\n",
              "\n",
              "</span>"
            ]
          },
          "execution_count": 107,
          "metadata": {},
          "output_type": "execute_result"
        }
      ],
      "source": [
        "'S\u2282, .,\u2283CF10.2' \u2395FMT nm"
      ]
    },
    {
      "cell_type": "code",
      "execution_count": 108,
      "id": "precise-possible",
      "metadata": {},
      "outputs": [
        {
          "data": {
            "text/html": [
              "<span style=\"white-space:pre; font-family: monospace\">     21,21  1 534,88    375,46    704,50\n",
              "  1 125,14  1 963,52    464,45  1 438,25\n",
              "    796,53  1 569,00    157,14    886,59\n",
              "\n",
              "</span>"
            ]
          },
          "execution_count": 108,
          "metadata": {},
          "output_type": "execute_result"
        }
      ],
      "source": [
        "'CS\u2282, .,\u2283F10.2' \u2395FMT nm"
      ]
    },
    {
      "cell_type": "markdown",
      "id": "defined-portrait",
      "metadata": {},
      "source": [
        " - Blanks can be inserted between specifications, qualifiers, and affixtures.\n",
        "\n",
        "For example,"
      ]
    },
    {
      "cell_type": "code",
      "execution_count": 109,
      "id": "alleged-unemployment",
      "metadata": {},
      "outputs": [
        {
          "data": {
            "text/html": [
              "<span style=\"white-space:pre; font-family: monospace\">     21,21  1 534,88    375,46    704,50\n",
              "  1 125,14  1 963,52    464,45  1 438,25\n",
              "    796,53  1 569,00    157,14    886,59\n",
              "\n",
              "</span>"
            ]
          },
          "execution_count": 109,
          "metadata": {},
          "output_type": "execute_result"
        }
      ],
      "source": [
        "'S\u2282, .,\u2283CF10.2' \u2395FMT nm"
      ]
    },
    {
      "cell_type": "code",
      "execution_count": 110,
      "id": "acoustic-neighborhood",
      "metadata": {},
      "outputs": [
        {
          "data": {
            "text/html": [
              "<span style=\"white-space:pre; font-family: monospace\">     21,21  1 534,88    375,46    704,50\n",
              "  1 125,14  1 963,52    464,45  1 438,25\n",
              "    796,53  1 569,00    157,14    886,59\n",
              "\n",
              "</span>"
            ]
          },
          "execution_count": 110,
          "metadata": {},
          "output_type": "execute_result"
        }
      ],
      "source": [
        "'S\u2282, .,\u2283 C F10.2' \u2395FMT nm"
      ]
    },
    {
      "cell_type": "markdown",
      "id": "functional-malta",
      "metadata": {},
      "source": [
        " - A repetition factor can apply to a group of descriptors placed between parentheses, like we have seen above.\n",
        "\n",
        "We replicate a similar example here:"
      ]
    },
    {
      "cell_type": "code",
      "execution_count": 111,
      "id": "controlling-pharmaceutical",
      "metadata": {},
      "outputs": [
        {
          "data": {
            "text/html": [
              "<span style=\"white-space:pre; font-family: monospace\">05/03/98\n",
              "\n",
              "</span>"
            ]
          },
          "execution_count": 111,
          "metadata": {},
          "output_type": "execute_result"
        }
      ],
      "source": [
        "'ZI2,2(\u2282/\u2283,ZI2)' \u2395FMT 1 3\u23745 3 98"
      ]
    },
    {
      "cell_type": "markdown",
      "id": "fatty-corps",
      "metadata": {},
      "source": [
        " - Various errors may occur, all signalled by the message `'FORMAT ERROR'`. Here are some frequent errors:\n",
        "   - a numeric value is matched with an `'A'` specification;\n",
        "   - character data is matched with a specification other than `'A'`;\n",
        "   - the format specification is ill-shaped (in that case, check that delimiters and parentheses are well balanced);\n",
        "   - in decimal specifications (`'F'` and `'E'`), the specified width is too small, so the decimal digits cannot be represented; and\n",
        "   - you are using incompatible qualifiers and/or specifications (for example, mixing `'L'` with `'Z'` in the same specification)."
      ]
    },
    {
      "cell_type": "markdown",
      "id": "declared-fleet",
      "metadata": {},
      "source": [
        "(Execute-and-Format-Control-Output-in-the-Session)=\n",
        "## Output in the Session\n",
        "\n",
        "After taking a look at the format primitive `\u2355` and the system function `\u2395FMT`, we are now aware of two great tools to produce character arrays programmatically.\n",
        "\n",
        "In general, when using the session, you do not explicitly use `\u2355` or `\u2395FMT` to display things, you just make use of the implicit printing that happens when you evaluate a non-shy expression.\n",
        "This implicit printing isn't necessarily very informative or, for that matter, adequate for your own personal taste, so it is relevant to learn about all the other tools at your disposal, that you can use to customise the look and feel of the session output.\n",
        "We will cover some _user commands_ and some functions from the `dfns` workspace.\n",
        "These tools we will cover will allow you to change the style of the output and to change the amount of information that is output by default."
      ]
    },
    {
      "cell_type": "markdown",
      "id": "clean-olympus",
      "metadata": {},
      "source": [
        "(Execute-and-Format-Control-Producing-Output-with-the-dfns-Workspace)=\n",
        "### Producing Output with the `dfns` Workspace\n",
        "\n",
        "The `dfns` workspace is a workspace that is bundled with your Dyalog APL installation and, therefore, to which you have access without having to install anything else.\n",
        "The `dfns` workspace is, like its name might suggest, a collection of functions written as direct functions that cover a wide range of topics.\n",
        "In particular, some of the functions in the `dfns` workspace concern themselves with output, and those are the ones we will cover here.\n",
        "\n",
        "For an up-to-date index of all the functions included with the `dfns` workspace, as well as thorough documentation, you can consult the [`dfns` website](https://dfns.dyalog.com).\n",
        "\n",
        "Throughout this section, you may want to play around with the functions that we introduce.\n",
        "Recall that, in order to do so, you may want to use the `)copy` command to bring those functions into the active workspace.\n",
        "Typing `)copy dfns` will copy everything from the `dfns` workspace into the current active workspace, and typing `)copy dfns namelist`, where `namelist` is a space-separated list of names, will only copy the specified names.\n",
        "This is the recommended practice, because the `dfns` WS contains many different names and because copying everything can override your own definitions."
      ]
    },
    {
      "cell_type": "markdown",
      "id": "dirty-agent",
      "metadata": {},
      "source": [
        "(Execute-and-Format-Control-box)=\n",
        "#### `box`\n",
        "\n",
        "`box` is a function that can be used to box simple character matrices, while also (optionally) including horizontal and/or vertical dividers:"
      ]
    },
    {
      "cell_type": "code",
      "execution_count": 112,
      "id": "attractive-processing",
      "metadata": {},
      "outputs": [
        {
          "data": {
            "text/html": [
              "<span style=\"white-space:pre; font-family: monospace\">C:\\Program Files\\Dyalog\\Dyalog APL-64 18.0 Unicode\\ws\\dfns.dws saved Tue Dec  1 20:08:40 2020\n",
              "</span>"
            ]
          },
          "execution_count": 112,
          "metadata": {},
          "output_type": "execute_result"
        }
      ],
      "source": [
        ")copy dfns box"
      ]
    },
    {
      "cell_type": "code",
      "execution_count": 113,
      "id": "threatened-potato",
      "metadata": {},
      "outputs": [
        {
          "data": {
            "text/html": [
              "<span style=\"white-space:pre; font-family: monospace\">ABCDEFGHIJ\n",
              "KLMNOPQRST\n",
              "UVWXYZABCD\n",
              "EFGHIJKLMN\n",
              "OPQRSTUVWX\n",
              "YZABCDEFGH\n",
              "\n",
              "</span>"
            ]
          },
          "execution_count": 113,
          "metadata": {},
          "output_type": "execute_result"
        }
      ],
      "source": [
        "6 10\u2374\u2395A"
      ]
    },
    {
      "cell_type": "markdown",
      "id": "healthy-fisher",
      "metadata": {},
      "source": [
        "With no left argument, `box` simply displays a box around the character matrix:"
      ]
    },
    {
      "cell_type": "code",
      "execution_count": 114,
      "id": "desperate-afternoon",
      "metadata": {},
      "outputs": [
        {
          "data": {
            "text/html": [
              "<span style=\"white-space:pre; font-family: monospace\">\u250c\u2500\u2500\u2500\u2500\u2500\u2500\u2500\u2500\u2500\u2500\u2510\n",
              "\u2502ABCDEFGHIJ\u2502\n",
              "\u2502KLMNOPQRST\u2502\n",
              "\u2502UVWXYZABCD\u2502\n",
              "\u2502EFGHIJKLMN\u2502\n",
              "\u2502OPQRSTUVWX\u2502\n",
              "\u2502YZABCDEFGH\u2502\n",
              "\u2514\u2500\u2500\u2500\u2500\u2500\u2500\u2500\u2500\u2500\u2500\u2518\n",
              "\n",
              "</span>"
            ]
          },
          "execution_count": 114,
          "metadata": {},
          "output_type": "execute_result"
        }
      ],
      "source": [
        "box 6 10\u2374\u2395A"
      ]
    },
    {
      "cell_type": "markdown",
      "id": "fabulous-nirvana",
      "metadata": {},
      "source": [
        "However, the left argument can be used to specify horizontal divider indices, vertical divider indices, and even the styling associated with the boxing and the dividers.\n",
        "\n",
        "We can ask for horizontal dividers after the 2nd and 4th rows, and no vertical dividers:"
      ]
    },
    {
      "cell_type": "code",
      "execution_count": 115,
      "id": "fixed-setting",
      "metadata": {},
      "outputs": [
        {
          "data": {
            "text/html": [
              "<span style=\"white-space:pre; font-family: monospace\">\u250c\u2500\u2500\u2500\u2500\u2500\u2500\u2500\u2500\u2500\u2500\u2510\n",
              "\u2502ABCDEFGHIJ\u2502\n",
              "\u2502KLMNOPQRST\u2502\n",
              "\u251c\u2500\u2500\u2500\u2500\u2500\u2500\u2500\u2500\u2500\u2500\u2524\n",
              "\u2502UVWXYZABCD\u2502\n",
              "\u2502EFGHIJKLMN\u2502\n",
              "\u251c\u2500\u2500\u2500\u2500\u2500\u2500\u2500\u2500\u2500\u2500\u2524\n",
              "\u2502OPQRSTUVWX\u2502\n",
              "\u2502YZABCDEFGH\u2502\n",
              "\u2514\u2500\u2500\u2500\u2500\u2500\u2500\u2500\u2500\u2500\u2500\u2518\n",
              "\n",
              "</span>"
            ]
          },
          "execution_count": 115,
          "metadata": {},
          "output_type": "execute_result"
        }
      ],
      "source": [
        "(2 4)\u236cbox 6 10\u2374\u2395A"
      ]
    },
    {
      "cell_type": "markdown",
      "id": "integral-mapping",
      "metadata": {},
      "source": [
        "We can ask for no horizontal dividers and vertical dividers after the 3rd, 6th, and 7th columns:"
      ]
    },
    {
      "cell_type": "code",
      "execution_count": 116,
      "id": "chubby-trout",
      "metadata": {},
      "outputs": [
        {
          "data": {
            "text/html": [
              "<span style=\"white-space:pre; font-family: monospace\">\u250c\u2500\u2500\u2500\u252c\u2500\u2500\u2500\u252c\u2500\u252c\u2500\u2500\u2500\u2510\n",
              "\u2502ABC\u2502DEF\u2502G\u2502HIJ\u2502\n",
              "\u2502KLM\u2502NOP\u2502Q\u2502RST\u2502\n",
              "\u2502UVW\u2502XYZ\u2502A\u2502BCD\u2502\n",
              "\u2502EFG\u2502HIJ\u2502K\u2502LMN\u2502\n",
              "\u2502OPQ\u2502RST\u2502U\u2502VWX\u2502\n",
              "\u2502YZA\u2502BCD\u2502E\u2502FGH\u2502\n",
              "\u2514\u2500\u2500\u2500\u2534\u2500\u2500\u2500\u2534\u2500\u2534\u2500\u2500\u2500\u2518\n",
              "\n",
              "</span>"
            ]
          },
          "execution_count": 116,
          "metadata": {},
          "output_type": "execute_result"
        }
      ],
      "source": [
        "\u236c(3 6 7)box 6 10\u2374\u2395A"
      ]
    },
    {
      "cell_type": "markdown",
      "id": "fourth-maine",
      "metadata": {},
      "source": [
        "We can mix the two:"
      ]
    },
    {
      "cell_type": "code",
      "execution_count": 117,
      "id": "selected-single",
      "metadata": {},
      "outputs": [
        {
          "data": {
            "text/html": [
              "<span style=\"white-space:pre; font-family: monospace\">\u250c\u2500\u2500\u2500\u252c\u2500\u2500\u2500\u252c\u2500\u252c\u2500\u2500\u2500\u2510\n",
              "\u2502ABC\u2502DEF\u2502G\u2502HIJ\u2502\n",
              "\u2502KLM\u2502NOP\u2502Q\u2502RST\u2502\n",
              "\u251c\u2500\u2500\u2500\u253c\u2500\u2500\u2500\u253c\u2500\u253c\u2500\u2500\u2500\u2524\n",
              "\u2502UVW\u2502XYZ\u2502A\u2502BCD\u2502\n",
              "\u2502EFG\u2502HIJ\u2502K\u2502LMN\u2502\n",
              "\u251c\u2500\u2500\u2500\u253c\u2500\u2500\u2500\u253c\u2500\u253c\u2500\u2500\u2500\u2524\n",
              "\u2502OPQ\u2502RST\u2502U\u2502VWX\u2502\n",
              "\u2502YZA\u2502BCD\u2502E\u2502FGH\u2502\n",
              "\u2514\u2500\u2500\u2500\u2534\u2500\u2500\u2500\u2534\u2500\u2534\u2500\u2500\u2500\u2518\n",
              "\n",
              "</span>"
            ]
          },
          "execution_count": 117,
          "metadata": {},
          "output_type": "execute_result"
        }
      ],
      "source": [
        "(2 4)(3 6 7)box 6 10\u2374\u2395A"
      ]
    },
    {
      "cell_type": "markdown",
      "id": "difficult-leadership",
      "metadata": {},
      "source": [
        "And we can even use ASCII characters instead of line-drawing characters:"
      ]
    },
    {
      "cell_type": "code",
      "execution_count": 118,
      "id": "shared-dakota",
      "metadata": {},
      "outputs": [
        {
          "data": {
            "text/html": [
              "<span style=\"white-space:pre; font-family: monospace\">+---+---+-+---+\n",
              "|ABC|DEF|G|HIJ|\n",
              "|KLM|NOP|Q|RST|\n",
              "+---+---+-+---+\n",
              "|UVW|XYZ|A|BCD|\n",
              "|EFG|HIJ|K|LMN|\n",
              "+---+---+-+---+\n",
              "|OPQ|RST|U|VWX|\n",
              "|YZA|BCD|E|FGH|\n",
              "+---+---+-+---+\n",
              "\n",
              "</span>"
            ]
          },
          "execution_count": 118,
          "metadata": {},
          "output_type": "execute_result"
        }
      ],
      "source": [
        "(2 4)(3 6 7)1box 6 10\u2374\u2395A"
      ]
    },
    {
      "cell_type": "markdown",
      "id": "sharing-malaysia",
      "metadata": {},
      "source": [
        "You can find more usage examples of `box` and a more thorough explanation of how the left argument works [here](https://dfns.dyalog.com/n_box.htm)."
      ]
    },
    {
      "cell_type": "markdown",
      "id": "warming-power",
      "metadata": {},
      "source": [
        "(Execute-and-Format-Control-cols)=\n",
        "#### `cols`\n",
        "\n",
        "`cols` is a function that you can use to display a list of items along a series of columns.\n",
        "To use `cols`, you give it the list of items to display as the right argument and the gap between adjacent columns and also the maximum width that can be occupied by the table as the left argument:"
      ]
    },
    {
      "cell_type": "code",
      "execution_count": 119,
      "id": "affecting-population",
      "metadata": {},
      "outputs": [
        {
          "data": {
            "text/html": [
              "<span style=\"white-space:pre; font-family: monospace\">C:\\Program Files\\Dyalog\\Dyalog APL-64 18.0 Unicode\\ws\\dfns.dws saved Tue Dec  1 20:08:40 2020\n",
              "</span>"
            ]
          },
          "execution_count": 119,
          "metadata": {},
          "output_type": "execute_result"
        }
      ],
      "source": [
        ")copy dfns cols"
      ]
    },
    {
      "cell_type": "markdown",
      "id": "alien-kingston",
      "metadata": {},
      "source": [
        "Notice how the first element of the left argument controls the spacing between columns:"
      ]
    },
    {
      "cell_type": "code",
      "execution_count": 120,
      "id": "chubby-times",
      "metadata": {},
      "outputs": [
        {
          "data": {
            "text/html": [
              "<span style=\"white-space:pre; font-family: monospace\">A C E G I K M O Q S U W Y\n",
              "B D F H J L N P R T V X Z\n",
              "\n",
              "</span>"
            ]
          },
          "execution_count": 120,
          "metadata": {},
          "output_type": "execute_result"
        }
      ],
      "source": [
        "1 20 cols \u2395A"
      ]
    },
    {
      "cell_type": "code",
      "execution_count": 121,
      "id": "associate-detail",
      "metadata": {},
      "outputs": [
        {
          "data": {
            "text/html": [
              "<span style=\"white-space:pre; font-family: monospace\">A  D  G  J  M  P  S  V  Y\n",
              "B  E  H  K  N  Q  T  W  Z\n",
              "C  F  I  L  O  R  U  X   \n",
              "\n",
              "</span>"
            ]
          },
          "execution_count": 121,
          "metadata": {},
          "output_type": "execute_result"
        }
      ],
      "source": [
        "2 20 cols \u2395A"
      ]
    },
    {
      "cell_type": "code",
      "execution_count": 122,
      "id": "graphic-municipality",
      "metadata": {},
      "outputs": [
        {
          "data": {
            "text/html": [
              "<span style=\"white-space:pre; font-family: monospace\">A   E   I   M   Q   U   Y\n",
              "B   F   J   N   R   V   Z\n",
              "C   G   K   O   S   W    \n",
              "D   H   L   P   T   X    \n",
              "\n",
              "</span>"
            ]
          },
          "execution_count": 122,
          "metadata": {},
          "output_type": "execute_result"
        }
      ],
      "source": [
        "3 20 cols \u2395A"
      ]
    },
    {
      "cell_type": "markdown",
      "id": "developmental-threshold",
      "metadata": {},
      "source": [
        "Also, notice how the second element of the left argument controls the maximum width of the table, in number of characters."
      ]
    },
    {
      "cell_type": "code",
      "execution_count": 123,
      "id": "single-manchester",
      "metadata": {},
      "outputs": [
        {
          "data": {
            "text/html": [
              "<span style=\"white-space:pre; font-family: monospace\">A   D   G   J   M   P   S   V   Y\n",
              "B   E   H   K   N   Q   T   W   Z\n",
              "C   F   I   L   O   R   U   X    \n",
              "\n",
              "</span>"
            ]
          },
          "execution_count": 123,
          "metadata": {},
          "output_type": "execute_result"
        }
      ],
      "source": [
        "3 30 cols \u2395A"
      ]
    },
    {
      "cell_type": "code",
      "execution_count": 124,
      "id": "thirty-dutch",
      "metadata": {},
      "outputs": [
        {
          "data": {
            "text/html": [
              "<span style=\"white-space:pre; font-family: monospace\">A   C   E   G   I   K   M   O   Q   S   U   W   Y\n",
              "B   D   F   H   J   L   N   P   R   T   V   X   Z\n",
              "\n",
              "</span>"
            ]
          },
          "execution_count": 124,
          "metadata": {},
          "output_type": "execute_result"
        }
      ],
      "source": [
        "3 40 cols \u2395A"
      ]
    },
    {
      "cell_type": "markdown",
      "id": "needed-dialogue",
      "metadata": {},
      "source": [
        "Finally, it is worth noting that the items are laid out along the columns, and not along the rows.\n",
        "\n",
        "You can find more details about the `cols` function, as well as more examples of its usage and some interesting considerations about the difficulty of figuring out the final layout of the table, in [here](https://dfns.dyalog.com/n_cols.htm)."
      ]
    },
    {
      "cell_type": "markdown",
      "id": "indirect-estonia",
      "metadata": {},
      "source": [
        "(Execute-and-Format-Control-display-displays-and-displayr)=\n",
        "#### `display`, `displays`, and `displayr`\n",
        "\n",
        "The `display` function from the `dfns` workspace is very similar \u2013 if not identical \u2013 to the `DISPLAY` function that we have used previously, from the `display` workspace.\n",
        "The `displays` and `displayr` functions are slight variations on how `dfns.display` (and `display.DISPLAY`) work.\n",
        "You can refer back to {numref}`Data-and-Variables-display` to learn about `display`, but we show a quick example of the information it provides:"
      ]
    },
    {
      "cell_type": "code",
      "execution_count": 125,
      "id": "rising-grounds",
      "metadata": {},
      "outputs": [
        {
          "data": {
            "text/html": [
              "<span style=\"white-space:pre; font-family: monospace\">C:\\Program Files\\Dyalog\\Dyalog APL-64 18.0 Unicode\\ws\\dfns.dws saved Tue Dec  1 20:08:40 2020\n",
              "</span>"
            ]
          },
          "execution_count": 125,
          "metadata": {},
          "output_type": "execute_result"
        }
      ],
      "source": [
        ")copy dfns display displays displayr"
      ]
    },
    {
      "cell_type": "code",
      "execution_count": 126,
      "id": "introductory-omega",
      "metadata": {},
      "outputs": [
        {
          "data": {
            "text/html": [
              "<span style=\"white-space:pre; font-family: monospace\">\u250c\u2192\u2500\u2500\u2500\u2500\u2500\u2500\u2500\u2500\u2500\u2500\u2500\u2500\u2500\u2500\u2500\u2500\u2500\u2500\u2510\n",
              "\u2502     \u250c\u2192\u2500\u2500\u2510 \u250c\u2192\u2500\u2500\u2500\u2500\u2510 \u2502\n",
              "\u2502 1 a \u2502abc\u2502 \u21931 2 3\u2502 \u2502\n",
              "\u2502   - \u2514\u2500\u2500\u2500\u2518 \u25024 5 6\u2502 \u2502\n",
              "\u2502           \u2514~\u2500\u2500\u2500\u2500\u2518 \u2502\n",
              "\u2514\u220a\u2500\u2500\u2500\u2500\u2500\u2500\u2500\u2500\u2500\u2500\u2500\u2500\u2500\u2500\u2500\u2500\u2500\u2500\u2518\n",
              "\n",
              "</span>"
            ]
          },
          "execution_count": 126,
          "metadata": {},
          "output_type": "execute_result"
        }
      ],
      "source": [
        "display 1 'a' 'abc' (2 3\u2374\u23736)"
      ]
    },
    {
      "cell_type": "markdown",
      "id": "altered-magnet",
      "metadata": {},
      "source": [
        "Notice how `display` provides information about the number of axes of each subarray, as well as giving an indication of what is the type of each subarray: whether it is all numeric, all character, mixed, or nested.\n",
        "`displays` adds more information, because it also shows the length of each axis:"
      ]
    },
    {
      "cell_type": "code",
      "execution_count": 127,
      "id": "incorrect-bermuda",
      "metadata": {},
      "outputs": [
        {
          "data": {
            "text/html": [
              "<span style=\"white-space:pre; font-family: monospace\">\u250c\u2192\u25004\u2500\u2500\u2500\u2500\u2500\u2500\u2500\u2500\u2500\u2500\u2500\u2500\u2500\u2500\u2500\u2500\u2510\n",
              "\u2502     \u250c\u2192\u25003\u2510 \u250c\u2192\u25002 3\u2510 \u2502\n",
              "\u2502 1 a \u2502abc\u2502 \u21931 2 3\u2502 \u2502\n",
              "\u2502   - \u2514\u2500\u2500\u2500\u2518 \u25024 5 6\u2502 \u2502\n",
              "\u2502           \u2514~\u2500\u2500\u2500\u2500\u2518 \u2502\n",
              "\u2514\u220a\u2500\u2500\u2500\u2500\u2500\u2500\u2500\u2500\u2500\u2500\u2500\u2500\u2500\u2500\u2500\u2500\u2500\u2500\u2518\n",
              "\n",
              "</span>"
            ]
          },
          "execution_count": 127,
          "metadata": {},
          "output_type": "execute_result"
        }
      ],
      "source": [
        "displays 1 'a' 'abc' (2 3\u2374\u23736)"
      ]
    },
    {
      "cell_type": "markdown",
      "id": "facial-cooper",
      "metadata": {},
      "source": [
        "Finally, `displayr` provides even more information, by including the depth of each subarray.\n",
        "Furthermore, notice that `displayr` also shows the length of each axis, but in a different location to that of `displays`:"
      ]
    },
    {
      "cell_type": "code",
      "execution_count": 128,
      "id": "planned-disclaimer",
      "metadata": {},
      "outputs": [
        {
          "data": {
            "text/html": [
              "<span style=\"white-space:pre; font-family: monospace\">\u250c4\u2500\u2500\u2500\u2500\u2500\u2500\u2500\u2500\u2500\u2500\u2500\u2500\u2500\u2500\u2500\u2500\u2500\u2500\u2500\u2500\u2510\n",
              "\u2502     \u250c3\u2500\u2500\u2500\u2510 \u250c3\u2500\u2500\u2500\u2500\u2500\u2510 \u2502\n",
              "\u2502 1 a \u2502 abc\u2502 2 1 2 3\u2502 \u2502\n",
              "\u2502   - \u2514\u2500\u2500\u2500\u2500\u2518 \u2502 4 5 6\u2502 \u2502\n",
              "\u2502            \u2514~\u2500\u2500\u2500\u2500\u2500\u2518 \u2502\n",
              "\u2514\u00af2\u2500\u2500\u2500\u2500\u2500\u2500\u2500\u2500\u2500\u2500\u2500\u2500\u2500\u2500\u2500\u2500\u2500\u2500\u2500\u2518\n",
              "\n",
              "</span>"
            ]
          },
          "execution_count": 128,
          "metadata": {},
          "output_type": "execute_result"
        }
      ],
      "source": [
        "displayr 1 'a' 'abc' (2 3\u2374\u23736)"
      ]
    },
    {
      "cell_type": "markdown",
      "id": "faced-generation",
      "metadata": {},
      "source": [
        "You can learn more about these three functions by visiting [this](https://dfns.dyalog.com/n_display.htm) page."
      ]
    },
    {
      "cell_type": "markdown",
      "id": "transsexual-nature",
      "metadata": {},
      "source": [
        "(Execute-and-Format-Control-disp-and-dsp)=\n",
        "#### `disp` and `dsp`\n",
        "\n",
        "`disp` and `dsp` are two other functions that you can use for outputting arrays, but these two functions try to be more compact and less verbose.\n",
        "Using `disp` resembles pretty much what our output already looks like because we have been using `]box on`:"
      ]
    },
    {
      "cell_type": "code",
      "execution_count": 129,
      "id": "final-anger",
      "metadata": {},
      "outputs": [
        {
          "data": {
            "text/html": [
              "<span style=\"white-space:pre; font-family: monospace\">\u250c\u2500\u2500\u2500\u252c\u2500\u2500\u2500\u2510\n",
              "\u25021 1\u25021 2\u2502\n",
              "\u251c\u2500\u2500\u2500\u253c\u2500\u2500\u2500\u2524\n",
              "\u25022 1\u25022 2\u2502\n",
              "\u2514\u2500\u2500\u2500\u2534\u2500\u2500\u2500\u2518\n",
              "\n",
              "</span>"
            ]
          },
          "execution_count": 129,
          "metadata": {},
          "output_type": "execute_result"
        }
      ],
      "source": [
        "\u23732 2"
      ]
    },
    {
      "cell_type": "code",
      "execution_count": 130,
      "id": "considered-bangkok",
      "metadata": {},
      "outputs": [
        {
          "data": {
            "text/html": [
              "<span style=\"white-space:pre; font-family: monospace\">C:\\Program Files\\Dyalog\\Dyalog APL-64 18.0 Unicode\\ws\\dfns.dws saved Tue Dec  1 20:08:40 2020\n",
              "</span>"
            ]
          },
          "execution_count": 130,
          "metadata": {},
          "output_type": "execute_result"
        }
      ],
      "source": [
        ")copy dfns disp dsp"
      ]
    },
    {
      "cell_type": "code",
      "execution_count": 131,
      "id": "elegant-slovak",
      "metadata": {},
      "outputs": [
        {
          "data": {
            "text/html": [
              "<span style=\"white-space:pre; font-family: monospace\">\u250c\u2500\u2500\u2500\u252c\u2500\u2500\u2500\u2510\n",
              "\u25021 1\u25021 2\u2502\n",
              "\u251c\u2500\u2500\u2500\u253c\u2500\u2500\u2500\u2524\n",
              "\u25022 1\u25022 2\u2502\n",
              "\u2514\u2500\u2500\u2500\u2534\u2500\u2500\u2500\u2518\n",
              "\n",
              "</span>"
            ]
          },
          "execution_count": 131,
          "metadata": {},
          "output_type": "execute_result"
        }
      ],
      "source": [
        "disp \u23732 2"
      ]
    },
    {
      "cell_type": "markdown",
      "id": "practical-recovery",
      "metadata": {},
      "source": [
        "In order to be able to see that `disp` actually does something, let us first turn `]box off`:"
      ]
    },
    {
      "cell_type": "code",
      "execution_count": 132,
      "id": "dental-olive",
      "metadata": {},
      "outputs": [
        {
          "data": {
            "text/html": [
              "<span style=\"white-space:pre; font-family: monospace\">Was ON\n",
              "\n",
              "</span>"
            ]
          },
          "execution_count": 132,
          "metadata": {},
          "output_type": "execute_result"
        }
      ],
      "source": [
        "]box off"
      ]
    },
    {
      "cell_type": "code",
      "execution_count": 133,
      "id": "first-feeding",
      "metadata": {},
      "outputs": [
        {
          "data": {
            "text/html": [
              "<span style=\"white-space:pre; font-family: monospace\"> 1 1  1 2 \n",
              " 2 1  2 2 \n",
              "\n",
              "</span>"
            ]
          },
          "execution_count": 133,
          "metadata": {},
          "output_type": "execute_result"
        }
      ],
      "source": [
        "\u23732 2"
      ]
    },
    {
      "cell_type": "code",
      "execution_count": 134,
      "id": "level-spyware",
      "metadata": {},
      "outputs": [
        {
          "data": {
            "text/html": [
              "<span style=\"white-space:pre; font-family: monospace\">\u250c\u2500\u2500\u2500\u252c\u2500\u2500\u2500\u2510\n",
              "\u25021 1\u25021 2\u2502\n",
              "\u251c\u2500\u2500\u2500\u253c\u2500\u2500\u2500\u2524\n",
              "\u25022 1\u25022 2\u2502\n",
              "\u2514\u2500\u2500\u2500\u2534\u2500\u2500\u2500\u2518\n",
              "\n",
              "</span>"
            ]
          },
          "execution_count": 134,
          "metadata": {},
          "output_type": "execute_result"
        }
      ],
      "source": [
        "disp \u23732 2"
      ]
    },
    {
      "cell_type": "markdown",
      "id": "valuable-triple",
      "metadata": {},
      "source": [
        "The left argument to `disp` (a 1- or 2-element vector) can further customise the output:\n",
        "\n",
        " - the first element of the left argument controls decoration of subarrays (the default is 0):"
      ]
    },
    {
      "cell_type": "code",
      "execution_count": 135,
      "id": "owned-shame",
      "metadata": {},
      "outputs": [
        {
          "data": {
            "text/html": [
              "<span style=\"white-space:pre; font-family: monospace\">\u250c\u2500\u2500\u2500\u252c\u2500\u2500\u2500\u2500\u2510\n",
              "\u2502Tea\u25024   \u2502\n",
              "\u2502   \u25022   \u2502\n",
              "\u251c\u2500\u2500\u2500\u253c\u2500\u2500\u2500\u2500\u2524\n",
              "\u2502&amp;  \u25022 40\u2502\n",
              "\u2514\u2500\u2500\u2500\u2534\u2500\u2500\u2500\u2500\u2518\n",
              "\n",
              "</span>"
            ]
          },
          "execution_count": 135,
          "metadata": {},
          "output_type": "execute_result"
        }
      ],
      "source": [
        "0 disp 2 2\u2374'Tea'(2 1\u23744 2)'&'(2 40)"
      ]
    },
    {
      "cell_type": "code",
      "execution_count": 136,
      "id": "blond-debate",
      "metadata": {},
      "outputs": [
        {
          "data": {
            "text/html": [
              "<span style=\"white-space:pre; font-family: monospace\">\u250c\u2192\u2500\u2500\u252c\u2500\u2500\u2500\u2500\u2510\n",
              "\u2193Tea\u25024   \u2502\n",
              "\u2502   \u25022   \u2193\n",
              "\u251c\u2500\u2500\u2192\u253c~\u2500\u2500\u2192\u2524\n",
              "\u2502&amp;  \u25022 40\u2502\n",
              "\u2514\u2500\u2500\u2500\u2534~\u2500\u2500\u2192\u2518\n",
              "\n",
              "</span>"
            ]
          },
          "execution_count": 136,
          "metadata": {},
          "output_type": "execute_result"
        }
      ],
      "source": [
        "1 disp 2 2\u2374'Tea'(2 1\u23744 2)'&'(2 40)"
      ]
    },
    {
      "cell_type": "markdown",
      "id": "guilty-architecture",
      "metadata": {},
      "source": [
        " - the second element controls the centring of the elements (the default is also 0):"
      ]
    },
    {
      "cell_type": "code",
      "execution_count": 137,
      "id": "external-equilibrium",
      "metadata": {},
      "outputs": [
        {
          "data": {
            "text/html": [
              "<span style=\"white-space:pre; font-family: monospace\">\u250c\u2500\u2500\u2500\u252c\u2500\u2500\u2500\u2500\u2510\n",
              "\u2502Tea\u25024   \u2502\n",
              "\u2502   \u25022   \u2502\n",
              "\u251c\u2500\u2500\u2500\u253c\u2500\u2500\u2500\u2500\u2524\n",
              "\u2502&amp;  \u25022 40\u2502\n",
              "\u2514\u2500\u2500\u2500\u2534\u2500\u2500\u2500\u2500\u2518\n",
              "\n",
              "</span>"
            ]
          },
          "execution_count": 137,
          "metadata": {},
          "output_type": "execute_result"
        }
      ],
      "source": [
        "0 0disp 2 2\u2374'Tea'(2 1\u23744 2)'&'(2 40)"
      ]
    },
    {
      "cell_type": "code",
      "execution_count": 138,
      "id": "inappropriate-texas",
      "metadata": {},
      "outputs": [
        {
          "data": {
            "text/html": [
              "<span style=\"white-space:pre; font-family: monospace\">\u250c\u2500\u2500\u2500\u252c\u2500\u2500\u2500\u2500\u2510\n",
              "\u2502Tea\u2502 4  \u2502\n",
              "\u2502   \u2502 2  \u2502\n",
              "\u251c\u2500\u2500\u2500\u253c\u2500\u2500\u2500\u2500\u2524\n",
              "\u2502 &amp; \u25022 40\u2502\n",
              "\u2514\u2500\u2500\u2500\u2534\u2500\u2500\u2500\u2500\u2518\n",
              "\n",
              "</span>"
            ]
          },
          "execution_count": 138,
          "metadata": {},
          "output_type": "execute_result"
        }
      ],
      "source": [
        "0 1disp 2 2\u2374'Tea'(2 1\u23744 2)'&'(2 40)"
      ]
    },
    {
      "cell_type": "markdown",
      "id": "prepared-cooperative",
      "metadata": {},
      "source": [
        "You can learn more about `disp` if you follow [this](https://dfns.dyalog.com/n_disp.htm) link.\n",
        "`dsp` provides a representation of arrays that is even _more_ compact and, therefore, provides even less information:"
      ]
    },
    {
      "cell_type": "code",
      "execution_count": 139,
      "id": "binary-registration",
      "metadata": {},
      "outputs": [
        {
          "data": {
            "text/html": [
              "<span style=\"white-space:pre; font-family: monospace\">\u2500\u2500\u2500\u2500\u2500\u2500\u2500\u2500\n",
              "Tea\u25024   \n",
              "   \u25022   \n",
              "\u2500\u2500\u2500\u253c\u2500\u2500\u2500\u2500\n",
              "&amp;  \u25022 40\n",
              "\n",
              "</span>"
            ]
          },
          "execution_count": 139,
          "metadata": {},
          "output_type": "execute_result"
        }
      ],
      "source": [
        "dsp 2 2\u2374'Tea'(2 1\u23744 2)'&'(2 40)"
      ]
    },
    {
      "cell_type": "markdown",
      "id": "destroyed-generation",
      "metadata": {},
      "source": [
        "The left argument (that defaults to 1) is a Boolean that indicates whether or not the top bar should be displayed:"
      ]
    },
    {
      "cell_type": "code",
      "execution_count": 140,
      "id": "fiscal-hayes",
      "metadata": {},
      "outputs": [
        {
          "data": {
            "text/html": [
              "<span style=\"white-space:pre; font-family: monospace\">Tea\u25024   \n",
              "   \u25022   \n",
              "\u2500\u2500\u2500\u253c\u2500\u2500\u2500\u2500\n",
              "&amp;  \u25022 40\n",
              "\n",
              "</span>"
            ]
          },
          "execution_count": 140,
          "metadata": {},
          "output_type": "execute_result"
        }
      ],
      "source": [
        "0 dsp 2 2\u2374'Tea'(2 1\u23744 2)'&'(2 40)"
      ]
    },
    {
      "cell_type": "markdown",
      "id": "incomplete-light",
      "metadata": {},
      "source": [
        "To learn more about this utility function, you can visit [this](https://dfns.dyalog.com/n_dsp.htm) page."
      ]
    },
    {
      "cell_type": "markdown",
      "id": "mobile-johns",
      "metadata": {},
      "source": [
        "(Execute-and-Format-Control-Modifying-Session-Output-with-User-Commands)=\n",
        "### Modifying Session Output with User Commands\n",
        "\n",
        "(Execute-and-Format-Control-A-Brief-Overview)=\n",
        "#### A Brief Overview\n",
        "\n",
        "User commands are developer tools, written in APL, that can be used without having to explicitly copy code into your workspace and/or save it in every workspace in which you want to use them.\n",
        "User commands are typed in the session, they start with a closing bracket `]` followed by their name, and may receive further arguments after that.\n",
        "For example, `]box` is a user command:"
      ]
    },
    {
      "cell_type": "code",
      "execution_count": 141,
      "id": "biblical-mystery",
      "metadata": {},
      "outputs": [
        {
          "data": {
            "text/html": [
              "<span style=\"white-space:pre; font-family: monospace\">Was OFF\n",
              "\n",
              "</span>"
            ]
          },
          "execution_count": 141,
          "metadata": {},
          "output_type": "execute_result"
        }
      ],
      "source": [
        "]box on"
      ]
    },
    {
      "cell_type": "markdown",
      "id": "dedicated-shift",
      "metadata": {},
      "source": [
        "You can type `] -?` to get a list of all the available user commands, which should show list all of them with their group on the leftmost column.\n",
        "Your exact output may not match the output here because you might be running a more recent version of Dyalog APL with newer user commands, you might have added your own user commands, or I might have some custom commands that you have not installed."
      ]
    },
    {
      "cell_type": "code",
      "execution_count": 142,
      "id": "specified-breakdown",
      "metadata": {},
      "outputs": [
        {
          "data": {
            "text/html": [
              "<span style=\"white-space:pre; font-family: monospace\">\u2500\u2500\u2500\u2500\u2500\u2500\u2500\u2500\u2500\u2500\u2500\u2500\u2500\u2500\u2500\u2500\u2500\u2500\u2500\u2500\u2500\u2500\u2500\u2500\u2500\u2500\u2500\u2500\u2500\u2500\u2500\u2500\u2500\u2500\u2500\u2500\u2500\u2500\u2500\u2500\u2500\u2500\u2500\u2500\u2500\u2500\u2500\u2500\u2500\u2500\u2500\u2500\u2500\u2500\u2500\u2500\u2500\u2500\u2500\u2500\u2500\u2500\u2500\u2500\u2500\u2500\u2500\u2500\u2500\u2500\u2500\u2500\u2500\u2500\u2500\u2500\u2500\u2500\u2500                                                                                                                                            \n",
              "                                                                                                                                                                                                                           \n",
              "120 commands:                                                                                                                                                                                                              \n",
              "                                                                                                                                                                                                                           \n",
              " ARRAY         Compare  Edit                                                                                                                                                                                               \n",
              " CALC          Factors  FromHex  PivotTable  ToHex                                                                                                                                                                         \n",
              " DEVOPS        DBuild  DTest                                                                                                                                                                                               \n",
              " EXPERIMENTAL  Config                                                                                                                                                                                                      \n",
              " FILE          CD  Collect  Compare  Edit  Find  Open  Replace  Split  ToLarge  ToQuadTS  Touch                                                                                                                            \n",
              " FN            Align  Calls  Compare  Defs  DInput  Latest  ReorderLocals                                                                                                                                                  \n",
              " LINK          Add  Break  Create  Export  Expunge  GetFileName  GetItemName  Import  Refresh  Resync  Status                                                                                                              \n",
              " MSWIN         Assemblies  Caption  CopyReg  FileAssociations  GUIProps  KeyPress                                                                                                                                          \n",
              " MYCMDS        Zen                                                                                                                                                                                                         \n",
              " NS            ScriptUpdate  Summary  Xref                                                                                                                                                                                 \n",
              " OUTPUT        Box  Boxing  Disp  Display  Find  Format  HTML  Layout  Plot  Rows  VPad                                                                                                                                    \n",
              " PERFORMANCE   Profile  RunTime  SpaceNeeded                                                                                                                                                                               \n",
              " SALT          Boot  Clean  Compare  List  Load  Refresh  RemoveVersions  Save  Set  Settings  Snap                                                                                                                        \n",
              " TATIN         CheckForLaterVersion  Documentation  Init  InstallPackage  ListPackages  ListRegistries  ListTags  ListVersions  LoadDependencies  LoadPackage  LoadTatin  Pack  PackageConfig  PackageDependencies  Publish\n",
              "               UninstallPackage  UserSettings  Version                                                                                                                                                                     \n",
              " TOOLS         ADoc  Calendar  Chart  Demo  Help  Version  WEd                                                                                                                                                             \n",
              " TRANSFER      In  Out                                                                                                                                                                                                     \n",
              " UCMD          UDebug  ULoad  UMonitor  UNew  UReset  USetup  UVersion                                                                                                                                                     \n",
              " WS            Check  Compare  Document  FindRefs  FnsLike  Locate  Map  NamesLike  Nms  ObsLike  Peek  SizeOf  VarsLike                                                                                                   \n",
              "                                                                                                                                                                                                                           \n",
              "]        \u235d for general user command help                                                                                                                                                                                   \n",
              "] -??    \u235d for brief info on each command                                                                                                                                                                                  \n",
              "]cmd -?  \u235d for info on the \"Cmd\" command or group                                                                                                                                                                          \n",
              "\n",
              "</span>"
            ]
          },
          "execution_count": 142,
          "metadata": {},
          "output_type": "execute_result"
        }
      ],
      "source": [
        "] -?"
      ]
    },
    {
      "cell_type": "markdown",
      "id": "obvious-feature",
      "metadata": {},
      "source": [
        "You can get more information about a specific user command, or about a specific group, by typing `]name -?`.\n",
        "For example, if we want more help on the `OUTPUT` group, we can type `]output -?`:"
      ]
    },
    {
      "cell_type": "code",
      "execution_count": 143,
      "id": "enormous-today",
      "metadata": {},
      "outputs": [
        {
          "data": {
            "text/html": [
              "<span style=\"white-space:pre; font-family: monospace\">                                                                                                                                     \n",
              " OUTPUT    User commands that affect the way items are displayed:                                                                    \n",
              "  Box      Display output with borders indicating shape, type and structure                                                          \n",
              "  Boxing   Display output with borders indicating shape, type and structure                                                          \n",
              "  Disp     Display specified array with borders indicating sub-array shape and type                                                  \n",
              "  Display  Display specified array with borders indicating array and sub-array shape and type                                        \n",
              "  Find     Precede output with a reference to the line of code that generated it                                                     \n",
              "  Format   Format text into vector of text vectors (or matrix if called from Session) to fit \u2395PW using specified margins             \n",
              "  HTML     Render HTML or SVG using an appropriate method                                                                            \n",
              "  Layout   Format text into vector of text vectors (or matrix if called from Session) to fit \u2395PW using margins inferred from the text\n",
              "  Plot     Plot data using an appropriate method                                                                                     \n",
              "  Rows     Cut, wrap, fold or extend the display of output lines to fit the Session window                                           \n",
              "  VPad     Add vertical padding to output                                                                                            \n",
              "                                                                                                                                     \n",
              "]        \u235d for general user command help                                                                                             \n",
              "]cmd -?  \u235d for info on the \"Cmd\" command or group                                                                                    \n",
              "\n",
              "</span>"
            ]
          },
          "execution_count": 143,
          "metadata": {},
          "output_type": "execute_result"
        }
      ],
      "source": [
        "]output -?"
      ]
    },
    {
      "cell_type": "markdown",
      "id": "described-accordance",
      "metadata": {},
      "source": [
        "This is the group of user commands that we will focus on.\n",
        "In particular, we will take a more careful look at the `box` (and `boxing`), `disp`, `display`, `find`, and `rows` user commands.\n",
        "If you want, go ahead and run `]cmd -?` (where `cmd` is the name of the command you are interested in) to try and figure out what these user commands do.\n",
        "After that, come back and read the following subsections to make sure you understood things correctly.\n",
        "Learning to read documentation, user command usage help, etc, is a valuable skill in the world of programming, so take all the chances you can get to practice."
      ]
    },
    {
      "cell_type": "markdown",
      "id": "twenty-impression",
      "metadata": {},
      "source": [
        "(Execute-and-Format-Control-disp-and-display)=\n",
        "#### `disp` and `display`\n",
        "\n",
        "The `disp` and `display` names should sound familiar to you, and that is because these user commands are essentially the same as the corresponding `dfns` functions, which we talked about previously (we discussed `display` in {numref}`Execute-and-Format-Control-display-displays-and-displayr` and we discussed `disp` in {numref}`Execute-and-Format-Control-disp-and-dsp`).\n",
        "We won't worry too much about explaining these two user commands in detail because their way of functioning is already familiar to you.\n",
        "Let us just take a quick look at the help information for `]disp`:"
      ]
    },
    {
      "cell_type": "code",
      "execution_count": 144,
      "id": "primary-paradise",
      "metadata": {},
      "outputs": [
        {
          "data": {
            "text/html": [
              "<span style=\"white-space:pre; font-family: monospace\">\u2500\u2500\u2500\u2500\u2500\u2500\u2500\u2500\u2500\u2500\u2500\u2500\u2500\u2500\u2500\u2500\u2500\u2500\u2500\u2500\u2500\u2500\u2500\u2500\u2500\u2500\u2500\u2500\u2500\u2500\u2500\u2500\u2500\u2500\u2500\u2500\u2500\u2500\u2500\u2500\u2500\u2500\u2500\u2500\u2500\u2500\u2500\u2500\u2500\u2500\u2500\u2500\u2500\u2500\u2500\u2500\u2500\u2500\u2500\u2500\u2500\u2500\u2500\u2500\u2500\u2500\u2500\u2500\u2500\u2500\u2500\u2500\u2500\u2500\u2500\u2500\u2500\u2500\u2500\n",
              "                                                                               \n",
              "]OUTPUT.Disp                                                                   \n",
              "                                                                               \n",
              "Display specified array with borders indicating sub-array shape and type       \n",
              "    ]Disp &lt;array&gt;                                                              \n",
              "                                                                               \n",
              "]Disp -?? \u235d for more information and examples                                  \n",
              "                                                                               \n",
              "\n",
              "</span>"
            ]
          },
          "execution_count": 144,
          "metadata": {},
          "output_type": "execute_result"
        }
      ],
      "source": [
        "]disp -?"
      ]
    },
    {
      "cell_type": "markdown",
      "id": "certain-spring",
      "metadata": {},
      "source": [
        "When we use `-?` with a user command, we generally get a brief help message.\n",
        "Certain user commands provide more detailed help if we ask for it, and we do so by using two question marks `-??` instead of just one:"
      ]
    },
    {
      "cell_type": "code",
      "execution_count": 145,
      "id": "central-yorkshire",
      "metadata": {},
      "outputs": [
        {
          "data": {
            "text/html": [
              "<span style=\"white-space:pre; font-family: monospace\">\u2500\u2500\u2500\u2500\u2500\u2500\u2500\u2500\u2500\u2500\u2500\u2500\u2500\u2500\u2500\u2500\u2500\u2500\u2500\u2500\u2500\u2500\u2500\u2500\u2500\u2500\u2500\u2500\u2500\u2500\u2500\u2500\u2500\u2500\u2500\u2500\u2500\u2500\u2500\u2500\u2500\u2500\u2500\u2500\u2500\u2500\u2500\u2500\u2500\u2500\u2500\u2500\u2500\u2500\u2500\u2500\u2500\u2500\u2500\u2500\u2500\u2500\u2500\u2500\u2500\u2500\u2500\u2500\u2500\u2500\u2500\u2500\u2500\u2500\u2500\u2500\u2500\u2500\u2500                   \n",
              "                                                                                                  \n",
              "]OUTPUT.Disp                                                                                      \n",
              "                                                                                                  \n",
              "Display specified array with borders indicating non-simple array shape andsub-array shape and type\n",
              "    ]Disp &lt;array&gt;                                                                                 \n",
              "                                                                                                  \n",
              "Axes are indicated as follows:                                                                    \n",
              "    \u2193  leading axis   (length&gt;0)                                                                  \n",
              "    \u2192  trailing axis  (length&gt;0)                                                                  \n",
              "    \u233d  leading axis   (length=0)                                                                  \n",
              "    \u2296  trailing axis  (length=0)                                                                  \n",
              "    \u2352  multiple leading axes                                                                      \n",
              "Content types are indicated as follows:                                                           \n",
              "    ~  Numeric                                                                                    \n",
              "    \u2500  Character                                                                                  \n",
              "    #  Namespace                                                                                  \n",
              "    \u2207  \u2395OR                                                                                        \n",
              "    +  Mixed                                                                                      \n",
              "If any axis is length-0 then the content is prototypical                                          \n",
              "                                                                                                  \n",
              "Example:                                                                                          \n",
              "    ]Disp 1 1 4\u2374(42'ab')\u2395SE(\u236a'ab',42)\u236c                                                            \n",
              "\u250c\u2192\u2500\u2500\u2500\u2500\u2500\u2500\u252c\u2500\u2500\u2500\u252c\u2500\u2500\u252c\u2500\u2510                                                                                \n",
              "\u2352\u250c\u2192\u2500\u252c\u2500\u2500\u2510\u2502   \u2502 a\u2502 \u2502                                                                                \n",
              "\u2502\u250242\u2502ab\u2502\u2502\u2395SE\u2502 b\u25020\u2502                                                                                \n",
              "\u2502\u2514~\u2500\u2534\u2500\u2192\u2518\u2502   \u250242\u2193 \u2502                                                                                \n",
              "\u2514\u2500\u2500\u2500\u2500\u2500\u2500\u2192\u2534#\u2500\u2500\u2534+\u2192\u2534\u2296\u2518                                                                                \n",
              "                                                                                                  \n",
              "NOTE:  This is similar to displaying array with ]Boxing on -style=mid                             \n",
              "                                                                                                  \n",
              "\n",
              "</span>"
            ]
          },
          "execution_count": 145,
          "metadata": {},
          "output_type": "execute_result"
        }
      ],
      "source": [
        "]disp -??"
      ]
    },
    {
      "cell_type": "markdown",
      "id": "environmental-dynamics",
      "metadata": {},
      "source": [
        "Notice how the example, in the end, is very similar to the output of the `disp` function from the `dfns` WS:"
      ]
    },
    {
      "cell_type": "code",
      "execution_count": 146,
      "id": "tutorial-fever",
      "metadata": {},
      "outputs": [
        {
          "data": {
            "text/html": [
              "<span style=\"white-space:pre; font-family: monospace\">\u250c\u2192\u2500\u2500\u2500\u2500\u2500\u2500\u252c\u2500\u2500\u2500\u252c\u2500\u2500\u252c\u2500\u2510\n",
              "\u2193\u250c\u2192\u2500\u252c\u2500\u2500\u2510\u2502\u2395SE\u2502 a\u25020\u2502\n",
              "\u2502\u250242\u2502ab\u2502\u2502   \u2502 b\u2502 \u2502\n",
              "\u2502\u2514~\u2500\u2534\u2500\u2192\u2518\u2502   \u250242\u2193 \u2502\n",
              "\u2514\u2500\u2500\u2500\u2500\u2500\u2500\u2192\u2534#\u2500\u2500\u2534+\u2192\u2534\u2296\u2518\n",
              "\n",
              "</span>"
            ]
          },
          "execution_count": 146,
          "metadata": {},
          "output_type": "execute_result"
        }
      ],
      "source": [
        "1 disp nestedArray \u2190 1 1 4\u2374(42'ab')\u2395SE(\u236a'ab',42)\u236c"
      ]
    },
    {
      "cell_type": "markdown",
      "id": "progressive-nelson",
      "metadata": {},
      "source": [
        "Similarly, we can get more detailed help for the `display` user command with `]display -??`, which shows a help message fairly similar to that of `]disp -??`.\n",
        "The main difference between `]display` and `]disp` (as with the `dfns.display` and `dfns.disp` functions) is that `]display` is more verbose, when compared to `]disp`:"
      ]
    },
    {
      "cell_type": "code",
      "execution_count": 147,
      "id": "exterior-sphere",
      "metadata": {},
      "outputs": [
        {
          "data": {
            "text/html": [
              "<span style=\"white-space:pre; font-family: monospace\">\u250c\u250c\u2192\u2500\u2500\u2500\u2500\u2500\u2500\u2500\u2500\u2500\u2500\u2500\u2500\u2500\u2500\u2500\u2500\u2500\u2500\u2500\u2500\u2500\u2500\u2500\u2500\u2500\u2510\n",
              "\u2193\u2193 \u250c\u2192\u2500\u2500\u2500\u2500\u2500\u2500\u2500\u2500\u2510     \u250c\u2192\u2500\u2510 \u250c\u2296\u2510 \u2502\n",
              "\u2502\u2502 \u2502    \u250c\u2192\u2500\u2510 \u2502 \u2395SE \u2193 a\u2502 \u25020\u2502 \u2502\n",
              "\u2502\u2502 \u2502 42 \u2502ab\u2502 \u2502     \u2502 b\u2502 \u2514~\u2518 \u2502\n",
              "\u2502\u2502 \u2502    \u2514\u2500\u2500\u2518 \u2502     \u250242\u2502     \u2502\n",
              "\u2502\u2502 \u2514\u220a\u2500\u2500\u2500\u2500\u2500\u2500\u2500\u2500\u2518     \u2514+\u2500\u2518     \u2502\n",
              "\u2514\u2514\u220a\u2500\u2500\u2500\u2500\u2500\u2500\u2500\u2500\u2500\u2500\u2500\u2500\u2500\u2500\u2500\u2500\u2500\u2500\u2500\u2500\u2500\u2500\u2500\u2500\u2500\u2518\n",
              "\n",
              "</span>"
            ]
          },
          "execution_count": 147,
          "metadata": {},
          "output_type": "execute_result"
        }
      ],
      "source": [
        "]display nestedArray"
      ]
    },
    {
      "cell_type": "markdown",
      "id": "included-istanbul",
      "metadata": {},
      "source": [
        "The output produced by `]display` is fairly similar to the output of `dfns.display`:"
      ]
    },
    {
      "cell_type": "code",
      "execution_count": 148,
      "id": "flush-carroll",
      "metadata": {},
      "outputs": [
        {
          "data": {
            "text/html": [
              "<span style=\"white-space:pre; font-family: monospace\">\u250c\u250c\u2192\u2500\u2500\u2500\u2500\u2500\u2500\u2500\u2500\u2500\u2500\u2500\u2500\u2500\u2500\u2500\u2500\u2500\u2500\u2500\u2500\u2500\u2500\u2500\u2500\u2500\u2510\n",
              "\u2193\u2193 \u250c\u2192\u2500\u2500\u2500\u2500\u2500\u2500\u2500\u2500\u2510     \u250c\u2192\u2500\u2510 \u250c\u2296\u2510 \u2502\n",
              "\u2502\u2502 \u2502    \u250c\u2192\u2500\u2510 \u2502 \u2395SE \u2193 a\u2502 \u25020\u2502 \u2502\n",
              "\u2502\u2502 \u2502 42 \u2502ab\u2502 \u2502     \u2502 b\u2502 \u2514~\u2518 \u2502\n",
              "\u2502\u2502 \u2502    \u2514\u2500\u2500\u2518 \u2502     \u250242\u2502     \u2502\n",
              "\u2502\u2502 \u2514\u220a\u2500\u2500\u2500\u2500\u2500\u2500\u2500\u2500\u2518     \u2514+\u2500\u2518     \u2502\n",
              "\u2514\u2514\u220a\u2500\u2500\u2500\u2500\u2500\u2500\u2500\u2500\u2500\u2500\u2500\u2500\u2500\u2500\u2500\u2500\u2500\u2500\u2500\u2500\u2500\u2500\u2500\u2500\u2500\u2518\n",
              "\n",
              "</span>"
            ]
          },
          "execution_count": 148,
          "metadata": {},
          "output_type": "execute_result"
        }
      ],
      "source": [
        "display nestedArray"
      ]
    },
    {
      "cell_type": "markdown",
      "id": "russian-cream",
      "metadata": {},
      "source": [
        "```{admonition} Remark \n",
        ":class: tip\n",
        "We can see that `]display` is similar to `dfns.display` and that `]disp` is similar to `dfns.disp`, but there is one fundamental difference: only the `dfns` functions can be called from within other functions; the user commands can only be used from within the interpreter session.\n",
        "```\n",
        "\n",
        "The previous remark justifies the existence of these pairs of functions/user commands that are so similar: the user commands are extremely handy for use in the session, but the functions are necessary if we want to use that functionality from within other functions."
      ]
    },
    {
      "cell_type": "markdown",
      "id": "understanding-monitoring",
      "metadata": {},
      "source": [
        "(Execute-and-Format-Control-box-and-boxing)=\n",
        "#### `box` (and `boxing`)\n",
        "\n",
        "We have already dealt with `box` a little bit, but we have only scratched the surface of what the `]box` user command can do.\n",
        "Let us start by inspecting its help text:"
      ]
    },
    {
      "cell_type": "code",
      "execution_count": 149,
      "id": "extraordinary-direction",
      "metadata": {},
      "outputs": [
        {
          "data": {
            "text/html": [
              "<span style=\"white-space:pre; font-family: monospace\">\u2500\u2500\u2500\u2500\u2500\u2500\u2500\u2500\u2500\u2500\u2500\u2500\u2500\u2500\u2500\u2500\u2500\u2500\u2500\u2500\u2500\u2500\u2500\u2500\u2500\u2500\u2500\u2500\u2500\u2500\u2500\u2500\u2500\u2500\u2500\u2500\u2500\u2500\u2500\u2500\u2500\u2500\u2500\u2500\u2500\u2500\u2500\u2500\u2500\u2500\u2500\u2500\u2500\u2500\u2500\u2500\u2500\u2500\u2500\u2500\u2500\u2500\u2500\u2500\u2500\u2500\u2500\u2500\u2500\u2500\u2500\u2500\u2500\u2500\u2500\u2500\u2500\u2500\u2500                 \n",
              "                                                                                                \n",
              "]OUTPUT.Box                                                                                     \n",
              "                                                                                                \n",
              "Display output with borders indicating shape, type and structure                                \n",
              "    ]Box [on|off|reset|?] [-style={min|mid|max}] [-trains={box|tree|parens|def}] [-fns={off|on}]\n",
              "                                                                                                \n",
              "]Box -?? \u235d for more information and examples                                                    \n",
              "                                                                                                \n",
              "\n",
              "</span>"
            ]
          },
          "execution_count": 149,
          "metadata": {},
          "output_type": "execute_result"
        }
      ],
      "source": [
        "]box -?"
      ]
    },
    {
      "cell_type": "markdown",
      "id": "cosmetic-standing",
      "metadata": {},
      "source": [
        "Notice that the help message above contains some type of information that we hadn't seen before:\n",
        "\n",
        "`]Box [on|off|reset|?] [-style={min|mid|max}] [-trains={box|tree|parens|def}] [-fns={off|on}]`\n",
        "\n",
        "This part of the help message tells us the syntax of the `]box` command, that is, the different arguments and modifiers we can give the command to customise its behaviour.\n",
        "The arguments are the different options inside the first group of square brackets, namely, `[on|off|reset|?]`.\n",
        "The vertical pipe `|` separates the different options, so we see that `]box` takes one of four arguments.\n",
        "We have already used `on` and `off`, but the help information shows we can also use the `reset` argument, as well as the `?`.\n",
        "If we want to figure out what they do, we must ask for more detailed help with `]box -??`.\n",
        "Take a look at the detailed help description below, and try to focus solely on finding the meaning of the `reset` and `?` arguments:"
      ]
    },
    {
      "cell_type": "code",
      "execution_count": 150,
      "id": "junior-baghdad",
      "metadata": {},
      "outputs": [
        {
          "data": {
            "text/html": [
              "<span style=\"white-space:pre; font-family: monospace\">\u2500\u2500\u2500\u2500\u2500\u2500\u2500\u2500\u2500\u2500\u2500\u2500\u2500\u2500\u2500\u2500\u2500\u2500\u2500\u2500\u2500\u2500\u2500\u2500\u2500\u2500\u2500\u2500\u2500\u2500\u2500\u2500\u2500\u2500\u2500\u2500\u2500\u2500\u2500\u2500\u2500\u2500\u2500\u2500\u2500\u2500\u2500\u2500\u2500\u2500\u2500\u2500\u2500\u2500\u2500\u2500\u2500\u2500\u2500\u2500\u2500\u2500\u2500\u2500\u2500\u2500\u2500\u2500\u2500\u2500\u2500\u2500\u2500\u2500\u2500\u2500\u2500\u2500\u2500                 \n",
              "                                                                                                \n",
              "]OUTPUT.Box                                                                                     \n",
              "                                                                                                \n",
              "Display output with borders indicating shape, type and structure                                \n",
              "    ]Box [on|off|reset|?] [-style={min|mid|max}] [-trains={box|tree|parens|def}] [-fns={off|on}]\n",
              "                                                                                                \n",
              "Argument is one of:                                                                             \n",
              "    \"\"        query on/off state only                                                           \n",
              "    \"on\"      activate boxing                                                                   \n",
              "    \"off\"     disable boxing                                                                    \n",
              "    \"reset\"   restore factory settings: -style=min -trains=box -fns=off                         \n",
              "    \"?\"       query current state including modifiers                                           \n",
              "                                                                                                \n",
              "-style={min|mid|max}  amount of diagram detail                                                  \n",
              "    \u250c\u2500\u2500\u2500\u252c\u2500\u2500\u2500\u2500\u2500\u2500\u2510    \u250c\u2192\u2500\u2500\u252c\u2500\u2500\u2500\u2500\u2500\u2500\u2510    \u250c\u2192\u2500\u2500\u2500\u2500\u2500\u2500\u2500\u2500\u2500\u2500\u2500\u2500\u2500\u2500\u2500\u2510                                          \n",
              "    \u2502min\u2502boxing\u2502    \u2502mid\u2502boxing\u2502    \u2502 \u250c\u2192\u2500\u2500\u2510 \u250c\u2192\u2500\u2500\u2500\u2500\u2500\u2510 \u2502                                          \n",
              "    \u2514\u2500\u2500\u2500\u2534\u2500\u2500\u2500\u2500\u2500\u2500\u2518    \u2514\u2500\u2500\u2192\u2534\u2500\u2500\u2500\u2500\u2500\u2192\u2518    \u2502 \u2502max\u2502 \u2502boxing\u2502 \u2502                                          \n",
              "                                    \u2502 \u2514\u2500\u2500\u2500\u2518 \u2514\u2500\u2500\u2500\u2500\u2500\u2500\u2518 \u2502                                          \n",
              "    min:  no border decoration      \u2514\u220a\u2500\u2500\u2500\u2500\u2500\u2500\u2500\u2500\u2500\u2500\u2500\u2500\u2500\u2500\u2500\u2518                                          \n",
              "    mid:  axes are indicated as follows:                                                        \n",
              "            \u2193  leading axis   (length&gt;0)                                                        \n",
              "            \u2192  trailing axis  (length&gt;0)                                                        \n",
              "            \u233d  leading axis   (length=0)                                                        \n",
              "            \u2296  trailing axis  (length=0)                                                        \n",
              "            \u2352  multiple leading axes                                                            \n",
              "          content types are indicated as follows:                                               \n",
              "            ~  numeric                                                                          \n",
              "            \u2500  character                                                                        \n",
              "            #  namespace                                                                        \n",
              "            \u2207  \u2395OR                                                                              \n",
              "            +  mixed                                                                            \n",
              "    max:  axes are indicated as follows:                                                        \n",
              "            \u2193  leading axes   (length&gt;0)                                                        \n",
              "            \u2192  trailing axis  (length&gt;0)                                                        \n",
              "            \u233d  leading axes   (length=0)                                                        \n",
              "            \u2296  trailing axis  (length=0)                                                        \n",
              "          content types are indicated as follows:                                               \n",
              "            \u220a  nested                                                                           \n",
              "            ~  numeric                                                                          \n",
              "            \u2500  character                                                                        \n",
              "            #  namespace                                                                        \n",
              "            \u2207  \u2395OR                                                                              \n",
              "            +  mixed                                                                            \n",
              "NOTES:                                                                                          \n",
              "    \u2218  For mid and max, content is prototypical if any axis has length=0.                       \n",
              "    \u2218  -style=mid is similar to always using ]Disp                                              \n",
              "    \u2218  -style=max is similar to always using ]Display                                           \n",
              "                                                                                                \n",
              "-trains={box|tree|parens|def}  display style of trains and derived functions                    \n",
              "    Display of +\u233f\u00f7\u2262 with -trains=...                                                            \n",
              "        box          tree     parens    def                                                     \n",
              "    \u250c\u2500\u2500\u2500\u2500\u2500\u252c\u2500\u252c\u2500\u2510      \u250c\u2500\u253c\u2500\u2510    (+\u233f)\u00f7\u2262   +\u233f\u00f7\u2262                                                     \n",
              "    \u2502\u250c\u2500\u252c\u2500\u2510\u2502\u00f7\u2502\u2262\u2502      \u233f \u00f7 \u2262                                                                      \n",
              "    \u2502\u2502+\u2502\u233f\u2502\u2502 \u2502 \u2502    \u250c\u2500\u2518                                                                          \n",
              "    \u2502\u2514\u2500\u2534\u2500\u2518\u2502 \u2502 \u2502    +                                                                            \n",
              "    \u2514\u2500\u2500\u2500\u2500\u2500\u2534\u2500\u2534\u2500\u2518                                                                                 \n",
              "    NOTE:  -trains=parens uses default form if any component needs multiple lines to display.   \n",
              "                                                                                                \n",
              "-fns={off|on}  diagram output from running functions                                            \n",
              "    Display of {\u233d\u2395\u2190\u2375}'hello' 'world' with -fns=...                                              \n",
              "         off               on                                                                   \n",
              "     hello  world    \u250c\u2500\u2500\u2500\u2500\u2500\u252c\u2500\u2500\u2500\u2500\u2500\u2510                                                              \n",
              "    \u250c\u2500\u2500\u2500\u2500\u2500\u252c\u2500\u2500\u2500\u2500\u2500\u2510    \u2502hello\u2502world\u2502                                                              \n",
              "    \u2502world\u2502hello\u2502    \u2514\u2500\u2500\u2500\u2500\u2500\u2534\u2500\u2500\u2500\u2500\u2500\u2518                                                              \n",
              "    \u2514\u2500\u2500\u2500\u2500\u2500\u2534\u2500\u2500\u2500\u2500\u2500\u2518    \u250c\u2500\u2500\u2500\u2500\u2500\u252c\u2500\u2500\u2500\u2500\u2500\u2510                                                              \n",
              "                     \u2502world\u2502hello\u2502                                                              \n",
              "                     \u2514\u2500\u2500\u2500\u2500\u2500\u2534\u2500\u2500\u2500\u2500\u2500\u2518                                                              \n",
              "                                                                                                \n",
              "\n",
              "</span>"
            ]
          },
          "execution_count": 150,
          "metadata": {},
          "output_type": "execute_result"
        }
      ],
      "source": [
        "]box -??"
      ]
    },
    {
      "cell_type": "markdown",
      "id": "elder-foster",
      "metadata": {},
      "source": [
        "As you could (hopefully) see, the purpose of the `reset` argument is to \"restore factory settings\", and the purpose of the `?` argument is to \"query current state including modifiers\", but what are these modifiers?\n",
        "\n",
        "The modifiers are the remaining three bracketed groups in the line\n",
        "\n",
        "`]Box [on|off|reset|?] [-style={min|mid|max}] [-trains={box|tree|parens|def}] [-fns={off|on}]`,\n",
        "\n",
        "each starting with `-modifier_name=`, where `modifier_name` is the name of the modifier, and one of `style`, `trains`, and `fns`.\n",
        "These modifiers let you customise the behaviour of `box` even further, so let us explore what each modifier does.\n",
        "\n",
        "`-style=` is used to control the amount of detail in the array diagrams. The default value is `min`, which adds no decoration to array borders:"
      ]
    },
    {
      "cell_type": "code",
      "execution_count": 151,
      "id": "female-blank",
      "metadata": {},
      "outputs": [
        {
          "data": {
            "text/html": [
              "<span style=\"white-space:pre; font-family: monospace\">Was ON -style=min\n",
              "\n",
              "</span>"
            ]
          },
          "execution_count": 151,
          "metadata": {},
          "output_type": "execute_result"
        },
        {
          "data": {
            "text/html": [
              "<span style=\"white-space:pre; font-family: monospace\">\u250c\u2500\u2500\u2500\u2500\u2500\u2500\u2500\u252c\u2500\u2500\u2500\u252c\u2500\u2500\u252c\u2510\n",
              "\u2502\u250c\u2500\u2500\u252c\u2500\u2500\u2510\u2502\u2395SE\u2502 a\u2502\u2502\n",
              "\u2502\u250242\u2502ab\u2502\u2502   \u2502 b\u2502\u2502\n",
              "\u2502\u2514\u2500\u2500\u2534\u2500\u2500\u2518\u2502   \u250242\u2502\u2502\n",
              "\u2514\u2500\u2500\u2500\u2500\u2500\u2500\u2500\u2534\u2500\u2500\u2500\u2534\u2500\u2500\u2534\u2518\n",
              "\n",
              "</span>"
            ]
          },
          "execution_count": 151,
          "metadata": {},
          "output_type": "execute_result"
        }
      ],
      "source": [
        "]box on -style=min\n",
        "nestedArray"
      ]
    },
    {
      "cell_type": "markdown",
      "id": "protective-excerpt",
      "metadata": {},
      "source": [
        "The `-style=min` modifier displays arrays much like the `box` function from the `dfns` workspace, or even the `disp` function from the same workspace.\n",
        "\n",
        "If we change the style to `mid`, then we get some decorations that are similar to using the `]disp` user command:"
      ]
    },
    {
      "cell_type": "code",
      "execution_count": 152,
      "id": "identical-acrylic",
      "metadata": {},
      "outputs": [
        {
          "data": {
            "text/html": [
              "<span style=\"white-space:pre; font-family: monospace\">Was -style=min\n",
              "\n",
              "</span>"
            ]
          },
          "execution_count": 152,
          "metadata": {},
          "output_type": "execute_result"
        },
        {
          "data": {
            "text/html": [
              "<span style=\"white-space:pre; font-family: monospace\">\u250c\u2192\u2500\u2500\u2500\u2500\u2500\u2500\u252c\u2500\u2500\u2500\u252c\u2500\u2500\u252c\u2500\u2510\n",
              "\u2193\u250c\u2192\u2500\u252c\u2500\u2500\u2510\u2502\u2395SE\u2502 a\u25020\u2502\n",
              "\u2502\u250242\u2502ab\u2502\u2502   \u2502 b\u2502 \u2502\n",
              "\u2502\u2514~\u2500\u2534\u2500\u2192\u2518\u2502   \u250242\u2193 \u2502\n",
              "\u2514\u2500\u2500\u2500\u2500\u2500\u2500\u2192\u2534#\u2500\u2500\u2534+\u2192\u2534\u2296\u2518\n",
              "\n",
              "</span>"
            ]
          },
          "execution_count": 152,
          "metadata": {},
          "output_type": "execute_result"
        }
      ],
      "source": [
        "]box -style=mid\n",
        "nestedArray"
      ]
    },
    {
      "cell_type": "code",
      "execution_count": 153,
      "id": "surface-script",
      "metadata": {},
      "outputs": [
        {
          "data": {
            "text/html": [
              "<span style=\"white-space:pre; font-family: monospace\">\u250c\u2192\u2500\u2500\u2500\u2500\u2500\u2500\u252c\u2500\u2500\u2500\u252c\u2500\u2500\u252c\u2500\u2510\n",
              "\u2352\u250c\u2192\u2500\u252c\u2500\u2500\u2510\u2502\u2395SE\u2502 a\u25020\u2502\n",
              "\u2502\u250242\u2502ab\u2502\u2502   \u2502 b\u2502 \u2502\n",
              "\u2502\u2514~\u2500\u2534\u2500\u2192\u2518\u2502   \u250242\u2193 \u2502\n",
              "\u2514\u2500\u2500\u2500\u2500\u2500\u2500\u2192\u2534#\u2500\u2500\u2534+\u2192\u2534\u2296\u2518\n",
              "\n",
              "</span>"
            ]
          },
          "execution_count": 153,
          "metadata": {},
          "output_type": "execute_result"
        }
      ],
      "source": [
        "]disp nestedArray"
      ]
    },
    {
      "cell_type": "markdown",
      "id": "unlike-visibility",
      "metadata": {},
      "source": [
        "Finally, using the `-style=max` modifier, we get decorations on the boxes that are similar to those placed by the `]display` user command:"
      ]
    },
    {
      "cell_type": "code",
      "execution_count": 154,
      "id": "outside-lobby",
      "metadata": {},
      "outputs": [
        {
          "data": {
            "text/html": [
              "<span style=\"white-space:pre; font-family: monospace\">\u250c\u2192\u2500\u2500\u2500\u2500\u2500\u2500\u2500\u2500\u2500\u2500\u2500\u2500\u2500\u2510\n",
              "\u2502Was -style=mid\u2502\n",
              "\u2514\u2500\u2500\u2500\u2500\u2500\u2500\u2500\u2500\u2500\u2500\u2500\u2500\u2500\u2500\u2518\n",
              "\n",
              "</span>"
            ]
          },
          "execution_count": 154,
          "metadata": {},
          "output_type": "execute_result"
        },
        {
          "data": {
            "text/html": [
              "<span style=\"white-space:pre; font-family: monospace\">\u250c\u250c\u2192\u2500\u2500\u2500\u2500\u2500\u2500\u2500\u2500\u2500\u2500\u2500\u2500\u2500\u2500\u2500\u2500\u2500\u2500\u2500\u2500\u2500\u2500\u2500\u2500\u2500\u2510\n",
              "\u2193\u2193 \u250c\u2192\u2500\u2500\u2500\u2500\u2500\u2500\u2500\u2500\u2510     \u250c\u2192\u2500\u2510 \u250c\u2296\u2510 \u2502\n",
              "\u2502\u2502 \u2502    \u250c\u2192\u2500\u2510 \u2502 \u2395SE \u2193 a\u2502 \u25020\u2502 \u2502\n",
              "\u2502\u2502 \u2502 42 \u2502ab\u2502 \u2502     \u2502 b\u2502 \u2514~\u2518 \u2502\n",
              "\u2502\u2502 \u2502    \u2514\u2500\u2500\u2518 \u2502     \u250242\u2502     \u2502\n",
              "\u2502\u2502 \u2514\u220a\u2500\u2500\u2500\u2500\u2500\u2500\u2500\u2500\u2518     \u2514+\u2500\u2518     \u2502\n",
              "\u2514\u2514\u220a\u2500\u2500\u2500\u2500\u2500\u2500\u2500\u2500\u2500\u2500\u2500\u2500\u2500\u2500\u2500\u2500\u2500\u2500\u2500\u2500\u2500\u2500\u2500\u2500\u2500\u2518\n",
              "\n",
              "</span>"
            ]
          },
          "execution_count": 154,
          "metadata": {},
          "output_type": "execute_result"
        }
      ],
      "source": [
        "]box -style=max\n",
        "nestedArray"
      ]
    },
    {
      "cell_type": "code",
      "execution_count": 155,
      "id": "urban-beverage",
      "metadata": {},
      "outputs": [
        {
          "data": {
            "text/html": [
              "<span style=\"white-space:pre; font-family: monospace\">Was ON\n",
              "\n",
              "</span>"
            ]
          },
          "execution_count": 155,
          "metadata": {},
          "output_type": "execute_result"
        },
        {
          "data": {
            "text/html": [
              "<span style=\"white-space:pre; font-family: monospace\">\u250c\u250c\u2192\u2500\u2500\u2500\u2500\u2500\u2500\u2500\u2500\u2500\u2500\u2500\u2500\u2500\u2500\u2500\u2500\u2500\u2500\u2500\u2500\u2500\u2500\u2500\u2500\u2500\u2510\n",
              "\u2193\u2193 \u250c\u2192\u2500\u2500\u2500\u2500\u2500\u2500\u2500\u2500\u2510     \u250c\u2192\u2500\u2510 \u250c\u2296\u2510 \u2502\n",
              "\u2502\u2502 \u2502    \u250c\u2192\u2500\u2510 \u2502 \u2395SE \u2193 a\u2502 \u25020\u2502 \u2502\n",
              "\u2502\u2502 \u2502 42 \u2502ab\u2502 \u2502     \u2502 b\u2502 \u2514~\u2518 \u2502\n",
              "\u2502\u2502 \u2502    \u2514\u2500\u2500\u2518 \u2502     \u250242\u2502     \u2502\n",
              "\u2502\u2502 \u2514\u220a\u2500\u2500\u2500\u2500\u2500\u2500\u2500\u2500\u2518     \u2514+\u2500\u2518     \u2502\n",
              "\u2514\u2514\u220a\u2500\u2500\u2500\u2500\u2500\u2500\u2500\u2500\u2500\u2500\u2500\u2500\u2500\u2500\u2500\u2500\u2500\u2500\u2500\u2500\u2500\u2500\u2500\u2500\u2500\u2518\n",
              "\n",
              "</span>"
            ]
          },
          "execution_count": 155,
          "metadata": {},
          "output_type": "execute_result"
        }
      ],
      "source": [
        "]box off\n",
        "]display nestedArray"
      ]
    },
    {
      "cell_type": "markdown",
      "id": "personal-still",
      "metadata": {},
      "source": [
        "Notice that we had to turn `]box` off, otherwise the implicit styling that `]box` creates around each array would be applied to the styling that `]display nestedArray` already creates, producing the following output:"
      ]
    },
    {
      "cell_type": "code",
      "execution_count": 156,
      "id": "simplified-evaluation",
      "metadata": {},
      "outputs": [
        {
          "data": {
            "text/html": [
              "<span style=\"white-space:pre; font-family: monospace\">\u250c\u2192\u2500\u2500\u2500\u2500\u2500\u2500\u2510\n",
              "\u2502Was OFF\u2502\n",
              "\u2514\u2500\u2500\u2500\u2500\u2500\u2500\u2500\u2518\n",
              "\n",
              "</span>"
            ]
          },
          "execution_count": 156,
          "metadata": {},
          "output_type": "execute_result"
        },
        {
          "data": {
            "text/html": [
              "<span style=\"white-space:pre; font-family: monospace\">\u250c\u2192\u2500\u2500\u2500\u2500\u2500\u2500\u2500\u2500\u2500\u2500\u2500\u2500\u2500\u2500\u2500\u2500\u2500\u2500\u2500\u2500\u2500\u2500\u2500\u2500\u2500\u2500\u2500\u2500\u2510\n",
              "\u2193\u250c\u250c\u2192\u2500\u2500\u2500\u2500\u2500\u2500\u2500\u2500\u2500\u2500\u2500\u2500\u2500\u2500\u2500\u2500\u2500\u2500\u2500\u2500\u2500\u2500\u2500\u2500\u2500\u2510\u2502\n",
              "\u2502\u2193\u2193 \u250c\u2192\u2500\u2500\u2500\u2500\u2500\u2500\u2500\u2500\u2510     \u250c\u2192\u2500\u2510 \u250c\u2296\u2510 \u2502\u2502\n",
              "\u2502\u2502\u2502 \u2502    \u250c\u2192\u2500\u2510 \u2502 \u2395SE \u2193 a\u2502 \u25020\u2502 \u2502\u2502\n",
              "\u2502\u2502\u2502 \u2502 42 \u2502ab\u2502 \u2502     \u2502 b\u2502 \u2514~\u2518 \u2502\u2502\n",
              "\u2502\u2502\u2502 \u2502    \u2514\u2500\u2500\u2518 \u2502     \u250242\u2502     \u2502\u2502\n",
              "\u2502\u2502\u2502 \u2514\u220a\u2500\u2500\u2500\u2500\u2500\u2500\u2500\u2500\u2518     \u2514+\u2500\u2518     \u2502\u2502\n",
              "\u2502\u2514\u2514\u220a\u2500\u2500\u2500\u2500\u2500\u2500\u2500\u2500\u2500\u2500\u2500\u2500\u2500\u2500\u2500\u2500\u2500\u2500\u2500\u2500\u2500\u2500\u2500\u2500\u2500\u2518\u2502\n",
              "\u2514\u2500\u2500\u2500\u2500\u2500\u2500\u2500\u2500\u2500\u2500\u2500\u2500\u2500\u2500\u2500\u2500\u2500\u2500\u2500\u2500\u2500\u2500\u2500\u2500\u2500\u2500\u2500\u2500\u2500\u2518\n",
              "\n",
              "</span>"
            ]
          },
          "execution_count": 156,
          "metadata": {},
          "output_type": "execute_result"
        }
      ],
      "source": [
        "]box on\n",
        "]display nestedArray"
      ]
    },
    {
      "cell_type": "markdown",
      "id": "least-rochester",
      "metadata": {},
      "source": [
        "Notice the extra outer box that is around a text matrix.\n",
        "That extra outer box is the result of using `]box on`.\n",
        "\n",
        "This is something to be aware of, and clearly demonstrates the main difference between `]box` and the other user commands/functions we have taken a look at: the `]box` user command defines some settings that are applied implicitly to all session output, whereas the other user commands and functions need to be called explicitly.\n",
        "\n",
        "The sentence above hides a very important nuance: \"all session output\" refers to the output that is produced as the final result of an expression that was ran, and does not refer to the explicit output that is generated by the usage of `\u2395\u2190` or `\u235e\u2190` inside other functions; that is, the `]box` settings do not influence function output by default:"
      ]
    },
    {
      "cell_type": "code",
      "execution_count": 157,
      "id": "heated-carrier",
      "metadata": {},
      "outputs": [
        {
          "data": {
            "text/html": [
              "<span style=\"white-space:pre; font-family: monospace\">\u250c\u250c\u2192\u2500\u2500\u2500\u2500\u2500\u2500\u2500\u2500\u2500\u2500\u2500\u2500\u2500\u2500\u2500\u2500\u2500\u2500\u2500\u2500\u2500\u2500\u2500\u2500\u2500\u2510\n",
              "\u2193\u2193 \u250c\u2192\u2500\u2500\u2500\u2500\u2500\u2500\u2500\u2500\u2510     \u250c\u2192\u2500\u2510 \u250c\u2296\u2510 \u2502\n",
              "\u2502\u2502 \u2502    \u250c\u2192\u2500\u2510 \u2502 \u2395SE \u2193 a\u2502 \u25020\u2502 \u2502\n",
              "\u2502\u2502 \u2502 42 \u2502ab\u2502 \u2502     \u2502 b\u2502 \u2514~\u2518 \u2502\n",
              "\u2502\u2502 \u2502    \u2514\u2500\u2500\u2518 \u2502     \u250242\u2502     \u2502\n",
              "\u2502\u2502 \u2514\u220a\u2500\u2500\u2500\u2500\u2500\u2500\u2500\u2500\u2518     \u2514+\u2500\u2518     \u2502\n",
              "\u2514\u2514\u220a\u2500\u2500\u2500\u2500\u2500\u2500\u2500\u2500\u2500\u2500\u2500\u2500\u2500\u2500\u2500\u2500\u2500\u2500\u2500\u2500\u2500\u2500\u2500\u2500\u2500\u2518\n",
              "\n",
              "</span>"
            ]
          },
          "execution_count": 157,
          "metadata": {},
          "output_type": "execute_result"
        }
      ],
      "source": [
        "nestedArray"
      ]
    },
    {
      "cell_type": "code",
      "execution_count": 158,
      "id": "korean-russell",
      "metadata": {},
      "outputs": [],
      "source": [
        "]dinput\n",
        "F \u2190 {\n",
        "    \u2395\u2190 nestedArray\n",
        "    0\n",
        "}"
      ]
    },
    {
      "cell_type": "code",
      "execution_count": 159,
      "id": "boolean-grade",
      "metadata": {},
      "outputs": [
        {
          "data": {
            "text/html": [
              "<span style=\"white-space:pre; font-family: monospace\">\u250c\u250c\u2192\u2500\u2500\u2500\u2500\u2500\u2500\u2500\u2500\u2500\u2500\u2500\u2500\u2500\u2500\u2500\u2500\u2500\u2500\u2500\u2500\u2500\u2500\u2500\u2500\u2500\u2510\n",
              "\u2193\u2193 \u250c\u2192\u2500\u2500\u2500\u2500\u2500\u2500\u2500\u2500\u2510     \u250c\u2192\u2500\u2510 \u250c\u2296\u2510 \u2502\n",
              "\u2502\u2502 \u2502    \u250c\u2192\u2500\u2510 \u2502 \u2395SE \u2193 a\u2502 \u25020\u2502 \u2502\n",
              "\u2502\u2502 \u2502 42 \u2502ab\u2502 \u2502     \u2502 b\u2502 \u2514~\u2518 \u2502\n",
              "\u2502\u2502 \u2502    \u2514\u2500\u2500\u2518 \u2502     \u250242\u2502     \u2502\n",
              "\u2502\u2502 \u2514\u220a\u2500\u2500\u2500\u2500\u2500\u2500\u2500\u2500\u2518     \u2514+\u2500\u2518     \u2502\n",
              "\u2514\u2514\u220a\u2500\u2500\u2500\u2500\u2500\u2500\u2500\u2500\u2500\u2500\u2500\u2500\u2500\u2500\u2500\u2500\u2500\u2500\u2500\u2500\u2500\u2500\u2500\u2500\u2500\u2518\n",
              "\n",
              " \n",
              "0\n",
              " \n",
              "\n",
              "</span>"
            ]
          },
          "execution_count": 159,
          "metadata": {},
          "output_type": "execute_result"
        }
      ],
      "source": [
        "F\u236c"
      ]
    },
    {
      "cell_type": "markdown",
      "id": "pretty-border",
      "metadata": {},
      "source": [
        "This behaviour is what the `-fns=` modifier changes: by setting `-fns=on`, function output also becomes decorated:"
      ]
    },
    {
      "cell_type": "code",
      "execution_count": 160,
      "id": "improving-recommendation",
      "metadata": {},
      "outputs": [
        {
          "data": {
            "text/html": [
              "<span style=\"white-space:pre; font-family: monospace\">\u250c\u2192\u2500\u2500\u2500\u2500\u2500\u2500\u2500\u2500\u2500\u2500\u2510\n",
              "\u2502Was -fns=on\u2502\n",
              "\u2514\u2500\u2500\u2500\u2500\u2500\u2500\u2500\u2500\u2500\u2500\u2500\u2518\n",
              "\n",
              "</span>"
            ]
          },
          "execution_count": 160,
          "metadata": {},
          "output_type": "execute_result"
        }
      ],
      "source": [
        "]box -fns=on"
      ]
    },
    {
      "cell_type": "code",
      "execution_count": 161,
      "id": "considered-plaintiff",
      "metadata": {},
      "outputs": [
        {
          "data": {
            "text/html": [
              "<span style=\"white-space:pre; font-family: monospace\">\u250c\u250c\u2192\u2500\u2500\u2500\u2500\u2500\u2500\u2500\u2500\u2500\u2500\u2500\u2500\u2500\u2500\u2500\u2500\u2500\u2500\u2500\u2500\u2500\u2500\u2500\u2500\u2500\u2510\n",
              "\u2193\u2193 \u250c\u2192\u2500\u2500\u2500\u2500\u2500\u2500\u2500\u2500\u2510     \u250c\u2192\u2500\u2510 \u250c\u2296\u2510 \u2502\n",
              "\u2502\u2502 \u2502    \u250c\u2192\u2500\u2510 \u2502 \u2395SE \u2193 a\u2502 \u25020\u2502 \u2502\n",
              "\u2502\u2502 \u2502 42 \u2502ab\u2502 \u2502     \u2502 b\u2502 \u2514~\u2518 \u2502\n",
              "\u2502\u2502 \u2502    \u2514\u2500\u2500\u2518 \u2502     \u250242\u2502     \u2502\n",
              "\u2502\u2502 \u2514\u220a\u2500\u2500\u2500\u2500\u2500\u2500\u2500\u2500\u2518     \u2514+\u2500\u2518     \u2502\n",
              "\u2514\u2514\u220a\u2500\u2500\u2500\u2500\u2500\u2500\u2500\u2500\u2500\u2500\u2500\u2500\u2500\u2500\u2500\u2500\u2500\u2500\u2500\u2500\u2500\u2500\u2500\u2500\u2500\u2518\n",
              "\n",
              " \n",
              "0\n",
              " \n",
              "\n",
              "</span>"
            ]
          },
          "execution_count": 161,
          "metadata": {},
          "output_type": "execute_result"
        }
      ],
      "source": [
        "F\u236c"
      ]
    },
    {
      "cell_type": "markdown",
      "id": "charged-mortgage",
      "metadata": {},
      "source": [
        "Finally, we have the `-trains=` modifier.\n",
        "<!-- (TODO) check that the link below works. -->\n",
        "The `-trains=` modifier will become much more relevant once we discuss tacit programming in [a later chapter](./Tacit-Programming.ipynb), but for now we can see that it helps us visualise functions that we derive from the usage of operators.\n",
        "For example, we know that `+/` can be seen as the \"sum\" function:"
      ]
    },
    {
      "cell_type": "code",
      "execution_count": 162,
      "id": "noticed-reality",
      "metadata": {},
      "outputs": [
        {
          "data": {
            "text/html": [
              "<span style=\"white-space:pre; font-family: monospace\">  \n",
              "55\n",
              "  \n",
              "\n",
              "</span>"
            ]
          },
          "execution_count": 162,
          "metadata": {},
          "output_type": "execute_result"
        }
      ],
      "source": [
        "+/\u237310"
      ]
    },
    {
      "cell_type": "markdown",
      "id": "loved-interim",
      "metadata": {},
      "source": [
        "But what happens if we just type the derived function in the session?"
      ]
    },
    {
      "cell_type": "code",
      "execution_count": 163,
      "id": "incredible-square",
      "metadata": {},
      "outputs": [
        {
          "data": {
            "text/html": [
              "<span style=\"white-space:pre; font-family: monospace\">  /\n",
              "\u250c\u2500\u2518\n",
              "+  \n",
              "\n",
              "</span>"
            ]
          },
          "execution_count": 163,
          "metadata": {},
          "output_type": "execute_result"
        }
      ],
      "source": [
        "+/"
      ]
    },
    {
      "cell_type": "markdown",
      "id": "buried-password",
      "metadata": {},
      "source": [
        "We see that we get a box around each of the primitives, and that is because `]box` is on.\n",
        "(If it were off, we would have no boxing whatsoever.)\n",
        "This is because the default value of the `-trains=` modifier is `box`.\n",
        "We can also try the `tree`, `parens`, and `def` values:"
      ]
    },
    {
      "cell_type": "code",
      "execution_count": 164,
      "id": "fifteen-behavior",
      "metadata": {},
      "outputs": [
        {
          "data": {
            "text/html": [
              "<span style=\"white-space:pre; font-family: monospace\">\u250c\u2192\u2500\u2500\u2500\u2500\u2500\u2500\u2500\u2500\u2500\u2500\u2500\u2500\u2500\u2500\u2500\u2510\n",
              "\u2502Was -trains=tree\u2502\n",
              "\u2514\u2500\u2500\u2500\u2500\u2500\u2500\u2500\u2500\u2500\u2500\u2500\u2500\u2500\u2500\u2500\u2500\u2518\n",
              "\n",
              "</span>"
            ]
          },
          "execution_count": 164,
          "metadata": {},
          "output_type": "execute_result"
        },
        {
          "data": {
            "text/html": [
              "<span style=\"white-space:pre; font-family: monospace\">  /\n",
              "\u250c\u2500\u2518\n",
              "+  \n",
              "\n",
              "</span>"
            ]
          },
          "execution_count": 164,
          "metadata": {},
          "output_type": "execute_result"
        }
      ],
      "source": [
        "]box -trains=tree\n",
        "+/"
      ]
    },
    {
      "cell_type": "code",
      "execution_count": 165,
      "id": "lovely-tiger",
      "metadata": {},
      "outputs": [
        {
          "data": {
            "text/html": [
              "<span style=\"white-space:pre; font-family: monospace\">\u250c\u2192\u2500\u2500\u2500\u2500\u2500\u2500\u2500\u2500\u2500\u2500\u2500\u2500\u2500\u2500\u2500\u2510\n",
              "\u2502Was -trains=tree\u2502\n",
              "\u2514\u2500\u2500\u2500\u2500\u2500\u2500\u2500\u2500\u2500\u2500\u2500\u2500\u2500\u2500\u2500\u2500\u2518\n",
              "\n",
              "</span>"
            ]
          },
          "execution_count": 165,
          "metadata": {},
          "output_type": "execute_result"
        },
        {
          "data": {
            "text/html": [
              "<span style=\"white-space:pre; font-family: monospace\">+/\n",
              "\n",
              "</span>"
            ]
          },
          "execution_count": 165,
          "metadata": {},
          "output_type": "execute_result"
        }
      ],
      "source": [
        "]box -trains=parens\n",
        "+/"
      ]
    },
    {
      "cell_type": "code",
      "execution_count": 166,
      "id": "million-nigeria",
      "metadata": {},
      "outputs": [
        {
          "data": {
            "text/html": [
              "<span style=\"white-space:pre; font-family: monospace\">\u250c\u2192\u2500\u2500\u2500\u2500\u2500\u2500\u2500\u2500\u2500\u2500\u2500\u2500\u2500\u2500\u2500\u2500\u2500\u2510\n",
              "\u2502Was -trains=parens\u2502\n",
              "\u2514\u2500\u2500\u2500\u2500\u2500\u2500\u2500\u2500\u2500\u2500\u2500\u2500\u2500\u2500\u2500\u2500\u2500\u2500\u2518\n",
              "\n",
              "</span>"
            ]
          },
          "execution_count": 166,
          "metadata": {},
          "output_type": "execute_result"
        },
        {
          "data": {
            "text/html": [
              "<span style=\"white-space:pre; font-family: monospace\">+/\n",
              "\n",
              "</span>"
            ]
          },
          "execution_count": 166,
          "metadata": {},
          "output_type": "execute_result"
        }
      ],
      "source": [
        "]box -trains=def\n",
        "+/"
      ]
    },
    {
      "cell_type": "markdown",
      "id": "naval-newspaper",
      "metadata": {},
      "source": [
        "The `parens` and `def` options look the same because `+/` is too simple of a function.\n",
        "When we talk about tacit programming, it will become clear what the difference between `-trains=parens` and `-trains=def` is.\n",
        "\n",
        "The `]boxing` command is just an alias for `]box`, so there's no need to discuss it separately.\n",
        "Notice how we set some modifiers with the `]box` command and the changes also reflect on the `]boxing` command:"
      ]
    },
    {
      "cell_type": "code",
      "execution_count": 167,
      "id": "tough-sampling",
      "metadata": {},
      "outputs": [
        {
          "data": {
            "text/html": [
              "<span style=\"white-space:pre; font-family: monospace\">Was ON -style=max -trains=def -fns=on\n",
              "\n",
              "</span>"
            ]
          },
          "execution_count": 167,
          "metadata": {},
          "output_type": "execute_result"
        }
      ],
      "source": [
        "]box on -style=mid -trains=tree -fns=on"
      ]
    },
    {
      "cell_type": "code",
      "execution_count": 168,
      "id": "czech-death",
      "metadata": {},
      "outputs": [
        {
          "data": {
            "text/html": [
              "<span style=\"white-space:pre; font-family: monospace\">]boxing ON -style=mid -trains=tree -fns=on\n",
              "\n",
              "</span>"
            ]
          },
          "execution_count": 168,
          "metadata": {},
          "output_type": "execute_result"
        }
      ],
      "source": [
        "]boxing ?"
      ]
    },
    {
      "cell_type": "markdown",
      "id": "careful-cooler",
      "metadata": {},
      "source": [
        "Similarly, we can use `]boxing reset` to set everything back to the default values, and verify that `]box ?` reflects those changes as well:"
      ]
    },
    {
      "cell_type": "code",
      "execution_count": 169,
      "id": "suspected-contrast",
      "metadata": {},
      "outputs": [
        {
          "data": {
            "text/html": [
              "<span style=\"white-space:pre; font-family: monospace\">]boxing ON -style=min -trains=box -fns=off\n",
              "\n",
              "</span>"
            ]
          },
          "execution_count": 169,
          "metadata": {},
          "output_type": "execute_result"
        }
      ],
      "source": [
        "]boxing reset"
      ]
    },
    {
      "cell_type": "code",
      "execution_count": 170,
      "id": "current-mount",
      "metadata": {},
      "outputs": [
        {
          "data": {
            "text/html": [
              "<span style=\"white-space:pre; font-family: monospace\">]boxing ON -style=min -trains=box -fns=off\n",
              "\n",
              "</span>"
            ]
          },
          "execution_count": 170,
          "metadata": {},
          "output_type": "execute_result"
        }
      ],
      "source": [
        "]box ?"
      ]
    },
    {
      "cell_type": "markdown",
      "id": "marine-highway",
      "metadata": {},
      "source": [
        "(Execute-and-Format-Control-rows)=\n",
        "#### `rows`\n",
        "\n",
        "The `]rows` user command, like the `]box` command, affects session output implicitly.\n",
        "In other words, you use the `]rows` command to configure the session output to your liking, and then those configurations affect all session output without you having to do anything else.\n",
        "Here is the help description of the `]rows` user command:"
      ]
    },
    {
      "cell_type": "code",
      "execution_count": 171,
      "id": "defined-determination",
      "metadata": {},
      "outputs": [
        {
          "data": {
            "text/html": [
              "<span style=\"white-space:pre; font-family: monospace\">\u2500\u2500\u2500\u2500\u2500\u2500\u2500\u2500\u2500\u2500\u2500\u2500\u2500\u2500\u2500\u2500\u2500\u2500\u2500\u2500\u2500\u2500\u2500\u2500\u2500\u2500\u2500\u2500\u2500\u2500\u2500\u2500\u2500\u2500\u2500\u2500\u2500\u2500\u2500\u2500\u2500\u2500\u2500\u2500\u2500\u2500\u2500\u2500\u2500\u2500\u2500\u2500\u2500\u2500\u2500\u2500\u2500\u2500\u2500\u2500\u2500\u2500\u2500\u2500\u2500\u2500\u2500\u2500\u2500\u2500\u2500\u2500\u2500\u2500\u2500\u2500\u2500\u2500\u2500\n",
              "                                                                               \n",
              "]OUTPUT.Rows                                                                   \n",
              "                                                                               \n",
              "Cut, wrap, fold or extend the display of output lines to fit the Session window\n",
              "    ]Rows [on|off|?] [-style=&lt;s&gt;] [-fold=&lt;f&gt;] [-fns={on|off}] [-dots=&lt;c&gt;]      \n",
              "                                                                               \n",
              "]Rows -??   \u235d for more information and examples                                \n",
              "                                                                               \n",
              "\n",
              "</span>"
            ]
          },
          "execution_count": 171,
          "metadata": {},
          "output_type": "execute_result"
        }
      ],
      "source": [
        "]rows -?"
      ]
    },
    {
      "cell_type": "markdown",
      "id": "speaking-battle",
      "metadata": {},
      "source": [
        "From the help description we can see that the `]rows` command exists to handle output that is too tall and/or too wide to fit the session window.\n",
        "What does \"too tall\" or \"too wide\" mean?\n",
        "\n",
        "```{admonition} Remark \n",
        ":class: tip\n",
        "In the Jupyter interface, the screen width that `]rows` uses internally might not match the actual width you have available to display results.\n",
        "It is advisable that you use RIDE or the Windows interpreter to test the user command `]rows`.\n",
        "```\n",
        "\n",
        "Let us start by talking about wide output.\n",
        "When using the interpreter, the output is \"too wide\" if it would extend beyond the session window width.\n",
        "The {numref}`fig-Session_Wrap` shows that when the output is \"too wide\", it wraps to the next line(s).\n",
        "\n",
        "(fig-Session_Wrap)=\n",
        "```{figure} ../res/Session_Wrap.png\n",
        "---\n",
        "name: Session_Wrap\n",
        "---\n",
        "Long output wrapping to the next line(s).\n",
        "```\n",
        "\n",
        "Despite using the session width to automatically decide if the output is too wide or not, the user can have some control over that, even before bringing in `]rows` to the table.\n",
        "Through the system variable _print width_ `\u2395PW`, the user can control the number of characters that are allowed per line before the output is wrapped onto the next line.\n",
        "You can assign an integer in the range 42 to 32767 to the variable `\u2395PW` to change the _print width_ of your session.\n",
        "(We will take a more detailed look at system variables and functions [later on](./System-Interfaces.ipynb).)\n",
        "\n",
        "Let us create a dfn that produces a simple ruler to measure our session:"
      ]
    },
    {
      "cell_type": "code",
      "execution_count": 172,
      "id": "treated-space",
      "metadata": {},
      "outputs": [],
      "source": [
        "ruler \u2190 {\u2375\u2374'----''----|'}"
      ]
    },
    {
      "cell_type": "markdown",
      "id": "norwegian-belarus",
      "metadata": {},
      "source": [
        "And let us use it to explore what happens with output that is \"too long\", as per what the _print width_ determines is too long:"
      ]
    },
    {
      "cell_type": "code",
      "execution_count": 173,
      "id": "representative-three",
      "metadata": {},
      "outputs": [
        {
          "data": {
            "text/html": [
              "<span style=\"white-space:pre; font-family: monospace\">----'----|----'----|----'----|----'----|----'----|\n",
              "\n",
              "</span>"
            ]
          },
          "execution_count": 173,
          "metadata": {},
          "output_type": "execute_result"
        }
      ],
      "source": [
        "\u2395PW \u2190 50\n",
        "ruler 50"
      ]
    },
    {
      "cell_type": "code",
      "execution_count": 174,
      "id": "lined-effects",
      "metadata": {},
      "outputs": [
        {
          "data": {
            "text/html": [
              "<span style=\"white-space:pre; font-family: monospace\">----'----|----'----|----'----|----'----|----'----|\n",
              "\n",
              "      -\n",
              "\n",
              "</span>"
            ]
          },
          "execution_count": 174,
          "metadata": {},
          "output_type": "execute_result"
        }
      ],
      "source": [
        "ruler 51"
      ]
    },
    {
      "cell_type": "markdown",
      "id": "fancy-kingdom",
      "metadata": {},
      "source": [
        "We can see that lines that are longer than `\u2395PW` characters get wrapped and indented.\n",
        "\n",
        "When you produce (really) long outputs, it can be unwieldy to have the output wrap to new lines, so one might think about increasing the value of the _print width_ variable:"
      ]
    },
    {
      "cell_type": "code",
      "execution_count": 175,
      "id": "broken-biology",
      "metadata": {},
      "outputs": [
        {
          "data": {
            "text/html": [
              "<span style=\"white-space:pre; font-family: monospace\">----'----|----'----|----'----|----'----|----'----|-\n",
              "\n",
              "</span>"
            ]
          },
          "execution_count": 175,
          "metadata": {},
          "output_type": "execute_result"
        }
      ],
      "source": [
        "\u2395PW \u2190 60\n",
        "ruler 51"
      ]
    },
    {
      "cell_type": "markdown",
      "id": "terminal-jackson",
      "metadata": {},
      "source": [
        "Now we don't have to scroll vertically to get past the output of this single expression.\n",
        "With `]rows` we can get a similar effect, with the added benefit that we do not have to set the _print width_ manually.\n",
        "\n",
        "Notice that `]rows` takes care of ensuring that the output does _not_ wrap to the next line(s):"
      ]
    },
    {
      "cell_type": "code",
      "execution_count": 176,
      "id": "effective-mounting",
      "metadata": {},
      "outputs": [
        {
          "data": {
            "text/html": [
              "<span style=\"white-space:pre; font-family: monospace\">Was OFF\n",
              "\n",
              "</span>"
            ]
          },
          "execution_count": 176,
          "metadata": {},
          "output_type": "execute_result"
        }
      ],
      "source": [
        "]rows on"
      ]
    },
    {
      "cell_type": "code",
      "execution_count": 177,
      "id": "described-heating",
      "metadata": {},
      "outputs": [
        {
          "data": {
            "text/html": [
              "<span style=\"white-space:pre; font-family: monospace\">----'----|----'----|----'----|----'----|----'----|----'----|----'----|----'----|\n",
              "\n",
              "</span>"
            ]
          },
          "execution_count": 177,
          "metadata": {},
          "output_type": "execute_result"
        }
      ],
      "source": [
        "ruler 80"
      ]
    },
    {
      "cell_type": "markdown",
      "id": "mighty-pendant",
      "metadata": {},
      "source": [
        "In fact, with `]rows on`, the _print width_ variable is no longer relevant, and the user command calculates the current screen width when needed.\n",
        "\n",
        "But the user command `]rows` can do much more than this; just remember that the help message showed a series of command modifiers that we haven't explored yet.\n",
        "Let us ask for a more detailed help description with `-??`:"
      ]
    },
    {
      "cell_type": "code",
      "execution_count": 178,
      "id": "offshore-brave",
      "metadata": {},
      "outputs": [
        {
          "data": {
            "text/html": [
              "<span style=\"white-space:pre; font-family: monospace\">\u2500\u2500\u2500\u2500\u2500\u2500\u2500\u2500\u2500\u2500\u2500\u2500\u2500\u2500\u2500\u2500\u2500\u2500\u2500\u2500\u2500\u2500\u2500\u2500\u2500\u2500\u2500\u2500\u2500\u2500\u2500\u2500\u2500\u2500\u2500\u2500\u2500\u2500\u2500\u2500\u2500\u2500\u2500\u2500\u2500\u2500\u2500\u2500\u2500\u2500\u2500\u2500\u2500\u2500\u2500\u2500\u2500\u2500\u2500\u2500\n",
              "                                                            \n",
              "]OUTPUT.Rows                                                \n",
              "                                                            \n",
              "Cut, wrap, fold or extend the display of output lines to fit\n",
              "the Session window                                          \n",
              "    ]Rows [on|off|?] [-style=&lt;s&gt;] [-fold=&lt;f&gt;]               \n",
              "    [-fns={on|off}] [-dots=&lt;c&gt;]                             \n",
              "                                                            \n",
              "Argument:                                                   \n",
              "    \"\"      query main state (on/off)                       \n",
              "    \"on\"    enable row-processing                           \n",
              "    \"off\"   restore native \u2395PW block-wrapping               \n",
              "    \"?\"     query full state, including modifiers           \n",
              "                                                            \n",
              "Modifiers:                                                  \n",
              "                                                            \n",
              "-style=&lt;s&gt;                                                  \n",
              "    \"long\"  rows extended beyond screen width (default)     \n",
              "    \"cut\"   rows truncated at screen width                  \n",
              "    \"wrap\"  each row wrapped at screen width                \n",
              "                                                            \n",
              "-fold=&lt;f&gt;                                                   \n",
              "    &lt;n&gt;     number of trailing rows after fold (must be 0   \n",
              "            through 9). Ignored when -style=wrap            \n",
              "    \"off\"   no folding; all rows displayed (default)        \n",
              "                                                            \n",
              "-fns={on|off}                                               \n",
              "    \"on\"    also format output from running functions       \n",
              "    \"off\"   only format session results (default)           \n",
              "                                                            \n",
              "-dots=&lt;c&gt;                                                   \n",
              "    &lt;c&gt;     character to use for ellipses (default is \"\u00b7\",  \n",
              "            shown as \"\u00b7\u00b7\u00b7\")                                 \n",
              "                                                            \n",
              "NOTES:                                                      \n",
              "    \u2218  -fold=&lt;n&gt; replaces rows towards the end of multi-row \n",
              "       output with a line of &lt;c&gt; characters so that the     \n",
              "       expression that generated the output, together with  \n",
              "       some leading and trailing rows of its output, remain \n",
              "       visible in the session window. -fold=&lt;n&gt; may be      \n",
              "       appropriate for session-based demonstrations.        \n",
              "    \u2218  -fold=&lt;n&gt; is incompatible with -style=wrap. If both  \n",
              "       are specified, -style=wrap prevails and -fold=&lt;n&gt; is \n",
              "       ignored.                                             \n",
              "    \u2218  -fold implies enabling row-processing, even if ]Rows \n",
              "       \"on\" was not specified.                              \n",
              "    \u2218  By default, only output from expressions typed into  \n",
              "       the session is processed. To include output from     \n",
              "       running functions, set -fns=on.                      \n",
              "                                                            \n",
              "Example:                                                    \n",
              "      ]Rows -fold=3                                         \n",
              "was -fold=off                                               \n",
              "      \u237310 4   \u235d this assumes that the session window is 13  \n",
              "              lines high                                    \n",
              "\u250c\u2192\u2500\u2500\u2500\u252c\u2500\u2500\u2500\u2500\u252c\u2500\u2500\u2500\u2500\u252c\u2500\u2500\u2500\u2500\u2510                                       \n",
              "\u21931 1 \u25021 2 \u25021 3 \u25021 4 \u2502                                       \n",
              "\u251c~\u2500\u2500\u2192\u253c~\u2500\u2500\u2192\u253c~\u2500\u2500\u2192\u253c~\u2500\u2500\u2192\u2524                                       \n",
              "\u25022 1 \u25022 2 \u25022 3 \u25022 4 \u2502                                       \n",
              "\u251c~\u2500\u2500\u2192\u253c~\u2500\u2500\u2192\u253c~\u2500\u2500\u2192\u253c~\u2500\u2500\u2192\u2524                                       \n",
              "\u25023 1 \u25023 2 \u25023 3 \u25023 4 \u2502                                       \n",
              "\u251c~\u2500\u2500\u2192\u253c~\u2500\u2500\u2192\u253c~\u2500\u2500\u2192\u253c~\u2500\u2500\u2192\u2524                                       \n",
              "\u00b7\u00b7\u00b7\u00b7\u00b7\u00b7\u00b7\u00b7\u00b7\u00b7\u00b7\u00b7\u00b7\u00b7\u00b7\u00b7\u00b7\u00b7\u00b7\u00b7\u00b7                                       \n",
              "\u251c~\u2500\u2500\u2192\u253c~\u2500\u2500\u2192\u253c~\u2500\u2500\u2192\u253c~\u2500\u2500\u2192\u2524                                       \n",
              "\u250210 1\u250210 2\u250210 3\u250210 4\u2502                                       \n",
              "\u2514~\u2500\u2500\u2192\u2534~\u2500\u2500\u2192\u2534~\u2500\u2500\u2192\u2534~\u2500\u2500\u2192\u2518                                       \n",
              "                                                            \n",
              "\n",
              "</span>"
            ]
          },
          "execution_count": 178,
          "metadata": {},
          "output_type": "execute_result"
        }
      ],
      "source": [
        "]rows -??"
      ]
    },
    {
      "cell_type": "markdown",
      "id": "associate-variable",
      "metadata": {},
      "source": [
        "Take your time to try to understand what the modifiers do, both by reading the help description above and by playing around with the modifiers in your session.\n",
        "\n",
        "After you explore things on your own for a bit, indulge me in a brief overview of the several modifiers that `]rows` accepts.\n",
        "\n",
        "We start by exploring the `-style=` modifier.\n",
        "The default is to have `-style=long`, which makes the session output go beyond the screen width.\n",
        "Again, when `]rows` is on, this screen width is computed dynamically and does not depend on the _print width_ `\u2395PW` variable.\n",
        "If, instead, we use the `-style=cut` option, then the output is cut when it reaches the screen width, and it isn't displayed at all, making it so that we never need to scroll horizontally.\n",
        "Long output that is truncated in this way is marked (by default) with three dots \"\u2219\".\n",
        "\n",
        "{numref}`fig-Session_Rows_Style_Long_Cut` shows what the session looks like after running an expression that produces a line of output that is wider than the screen width.\n",
        "\n",
        "(fig-Session_Rows_Style_Long_Cut)=\n",
        "```{figure} ../res/Session_Rows_Style_Long_Cut.png\n",
        "---\n",
        "name: Session_Rows_Style_Long_Cut\n",
        "---\n",
        "A long line of session output with two different `-style` configurations.\n",
        "```\n",
        "\n",
        "We can see that after setting `-style=cut`, the output was replaced with \"\u2219\u2219\u2219\" near the right edge of the screen.\n",
        "If we scroll horizontally to the right, we can see that `-style=long` does allow the output to run beyond the screen and `-style=cut` effectively truncates it.\n",
        "This is shown in {numref}`fig-Session_Rows_Style_Long_Cut_Right`, which is a screenshot from the exact same session output as above, except we have scrolled slightly to the right.\n",
        "\n",
        "(fig-Session_Rows_Style_Long_Cut_Right)=\n",
        "```{figure} ../res/Session_Rows_Style_Long_Cut_Right.png\n",
        "---\n",
        "name: Session_Rows_Style_Long_Cut_Right\n",
        "---\n",
        "A long line of output and the corresponding truncated version.\n",
        "```\n",
        "\n",
        "Finally, the `-style=` modifier accepts one other option, which is `-style=wrap`.\n",
        "This sets the behaviour of long lines to wrap to new lines, but this isn't exactly the same as having `]rows off`, because `]rows` doesn't rely on `\u2395PW` to figure out the screen width.\n",
        "Notice how in the example below we have `\u2395PW` set to a small value that is disregarded by `]rows`:"
      ]
    },
    {
      "cell_type": "code",
      "execution_count": 179,
      "id": "recent-collective",
      "metadata": {},
      "outputs": [
        {
          "data": {
            "text/html": [
              "<span style=\"white-space:pre; font-family: monospace\">Was ON -style=cut\n",
              "\n",
              "</span>"
            ]
          },
          "execution_count": 179,
          "metadata": {},
          "output_type": "execute_result"
        },
        {
          "data": {
            "text/html": [
              "<span style=\"white-space:pre; font-family: monospace\">----'----|----'----|----'----|----'----|----'----|----'----|\n",
              "\n",
              "</span>"
            ]
          },
          "execution_count": 179,
          "metadata": {},
          "output_type": "execute_result"
        }
      ],
      "source": [
        "]rows on -style=wrap\n",
        "\u2395PW \u2190 50\n",
        "ruler 60"
      ]
    },
    {
      "cell_type": "markdown",
      "id": "specialized-television",
      "metadata": {},
      "source": [
        "Another difference between having `]rows off` and `]rows on -style=wrap` is that `]rows off` will wrap the lines of output as a block, whereas `-style=wrap` will wrap each line individually, like {numref}`fig-Session_Rows_Off_VS_Wrapping` shows.\n",
        "\n",
        "(fig-Session_Rows_Off_VS_Wrapping)=\n",
        "```{figure} ../res/Session_Rows_Off_VS_Wrapping.png\n",
        "---\n",
        "name: Session_Rows_Off_VS_Wrapping\n",
        "---\n",
        "Block wrapping versus individual line wrapping.\n",
        "```\n",
        "\n",
        "Having looked at the different options for `-style=`, we are now left with three modifiers.\n",
        "\n",
        "Just like the user command `]box`, the user command `]rows` only affects direct session output by default, and doesn't affect function output.\n",
        "This can be changed by setting the `-fns=` modifier:"
      ]
    },
    {
      "cell_type": "code",
      "execution_count": 197,
      "id": "bizarre-cassette",
      "metadata": {},
      "outputs": [
        {
          "data": {
            "text/html": [
              "<span style=\"white-space:pre; font-family: monospace\">Was ON -style=wrap -fns=off\n",
              "\n",
              "</span>"
            ]
          },
          "execution_count": 197,
          "metadata": {},
          "output_type": "execute_result"
        }
      ],
      "source": [
        "]rows on -style=cut -fns=off"
      ]
    },
    {
      "cell_type": "code",
      "execution_count": 201,
      "id": "linear-military",
      "metadata": {},
      "outputs": [
        {
          "data": {
            "text/html": [
              "<span style=\"white-space:pre; font-family: monospace\">##########################################################################################################################################################################################################################################\n",
              "\n",
              "      ####################################################################################################################################################################################################################################\n",
              "\n",
              "      ######################################\n",
              "\n",
              "---\n",
              "\n",
              "#######################################################################################################################################################################################################################################\u00b7\u00b7\u00b7\n",
              "\n",
              "</span>"
            ]
          },
          "execution_count": 201,
          "metadata": {},
          "output_type": "execute_result"
        }
      ],
      "source": [
        "{v \u2190 500/'#' \u22c4 \u2395\u2190 v \u22c4 \u2395\u2190 '---' \u22c4 v}\u236c"
      ]
    },
    {
      "cell_type": "markdown",
      "id": "amended-interest",
      "metadata": {},
      "source": [
        "As you can see above, the first output \u2013 that was produced by the `\u2395\u2190 v` statement inside the dfn \u2013 wrapped around because it was too long, effectively disregarding the modifier `-style=cut` from the user command `]rows`.\n",
        "However, the second run of # was truncated because it was the result of the expression that was typed in the session and it was too long.\n",
        "\n",
        "We have been worrying about the horizontal space that output takes up, but some output can take up too much vertical space.\n",
        "The user command `]rows` can also be used to deal with that, and that is what the modifier `-fold=` is for.\n",
        "If you set the modifier `-fold=n` (to an integer between 0 and 9, inclusive), then vertically long output gets its middle rows truncated, leaving only the beginning and the final `n` rows.\n",
        "\n",
        "The examples that follow show the differences in output when `-fold=` is set to different values:"
      ]
    },
    {
      "cell_type": "code",
      "execution_count": 209,
      "id": "variable-death",
      "metadata": {},
      "outputs": [
        {
          "data": {
            "text/html": [
              "<span style=\"white-space:pre; font-family: monospace\">Was ON -fold=9\n",
              "\n",
              "</span>"
            ]
          },
          "execution_count": 209,
          "metadata": {},
          "output_type": "execute_result"
        }
      ],
      "source": [
        "]rows on -fold=0"
      ]
    },
    {
      "cell_type": "code",
      "execution_count": 210,
      "id": "single-contemporary",
      "metadata": {},
      "outputs": [
        {
          "data": {
            "text/html": [
              "<span style=\"white-space:pre; font-family: monospace\">\u250c\u2500\u2500\u2500\u2500\u2500\u2510                                                                                                                                                                                                                                   \n",
              "\u25021 1  \u2502                                                                                                                                                                                                                                   \n",
              "\u251c\u2500\u2500\u2500\u2500\u2500\u2524                                                                                                                                                                                                                                   \n",
              "\u25022 1  \u2502                                                                                                                                                                                                                                   \n",
              "\u251c\u2500\u2500\u2500\u2500\u2500\u2524                                                                                                                                                                                                                                   \n",
              "\u25023 1  \u2502                                                                                                                                                                                                                                   \n",
              "\u251c\u2500\u2500\u2500\u2500\u2500\u2524                                                                                                                                                                                                                                   \n",
              "\u25024 1  \u2502                                                                                                                                                                                                                                   \n",
              "\u251c\u2500\u2500\u2500\u2500\u2500\u2524                                                                                                                                                                                                                                   \n",
              "\u25025 1  \u2502                                                                                                                                                                                                                                   \n",
              "\u251c\u2500\u2500\u2500\u2500\u2500\u2524                                                                                                                                                                                                                                   \n",
              "\u25026 1  \u2502                                                                                                                                                                                                                                   \n",
              "\u251c\u2500\u2500\u2500\u2500\u2500\u2524                                                                                                                                                                                                                                   \n",
              "\u25027 1  \u2502                                                                                                                                                                                                                                   \n",
              "\u251c\u2500\u2500\u2500\u2500\u2500\u2524                                                                                                                                                                                                                                   \n",
              "\u25028 1  \u2502                                                                                                                                                                                                                                   \n",
              "\u251c\u2500\u2500\u2500\u2500\u2500\u2524                                                                                                                                                                                                                                   \n",
              "\u25029 1  \u2502                                                                                                                                                                                                                                   \n",
              "\u251c\u2500\u2500\u2500\u2500\u2500\u2524                                                                                                                                                                                                                                   \n",
              "\u250210 1 \u2502                                                                                                                                                                                                                                   \n",
              "\u251c\u2500\u2500\u2500\u2500\u2500\u2524                                                                                                                                                                                                                                   \n",
              "\u250211 1 \u2502                                                                                                                                                                                                                                   \n",
              "\u251c\u2500\u2500\u2500\u2500\u2500\u2524                                                                                                                                                                                                                                   \n",
              "\u250212 1 \u2502                                                                                                                                                                                                                                   \n",
              "\u251c\u2500\u2500\u2500\u2500\u2500\u2524                                                                                                                                                                                                                                   \n",
              "\u250213 1 \u2502                                                                                                                                                                                                                                   \n",
              "\u251c\u2500\u2500\u2500\u2500\u2500\u2524                                                                                                                                                                                                                                   \n",
              "\u250214 1 \u2502                                                                                                                                                                                                                                   \n",
              "\u251c\u2500\u2500\u2500\u2500\u2500\u2524                                                                                                                                                                                                                                   \n",
              "\u250215 1 \u2502                                                                                                                                                                                                                                   \n",
              "\u251c\u2500\u2500\u2500\u2500\u2500\u2524                                                                                                                                                                                                                                   \n",
              "\u250216 1 \u2502                                                                                                                                                                                                                                   \n",
              "\u251c\u2500\u2500\u2500\u2500\u2500\u2524                                                                                                                                                                                                                                   \n",
              "\u250217 1 \u2502                                                                                                                                                                                                                                   \n",
              "\u251c\u2500\u2500\u2500\u2500\u2500\u2524                                                                                                                                                                                                                                   \n",
              "\u250218 1 \u2502                                                                                                                                                                                                                                   \n",
              "\u251c\u2500\u2500\u2500\u2500\u2500\u2524                                                                                                                                                                                                                                   \n",
              "\u250219 1 \u2502                                                                                                                                                                                                                                   \n",
              "\u00b7\u00b7\u00b7\u00b7\u00b7\u00b7\u00b7\u00b7\u00b7\u00b7\u00b7\u00b7\u00b7\u00b7\u00b7\u00b7\u00b7\u00b7\u00b7\u00b7\u00b7\u00b7\u00b7\u00b7\u00b7\u00b7\u00b7\u00b7\u00b7\u00b7\u00b7\u00b7\u00b7\u00b7\u00b7\u00b7\u00b7\u00b7\u00b7\u00b7\u00b7\u00b7\u00b7\u00b7\u00b7\u00b7\u00b7\u00b7\u00b7\u00b7\u00b7\u00b7\u00b7\u00b7\u00b7\u00b7\u00b7\u00b7\u00b7\u00b7\u00b7\u00b7\u00b7\u00b7\u00b7\u00b7\u00b7\u00b7\u00b7\u00b7\u00b7\u00b7\u00b7\u00b7\u00b7\u00b7\u00b7\u00b7\u00b7\u00b7\u00b7\u00b7\u00b7\u00b7\u00b7\u00b7\u00b7\u00b7\u00b7\u00b7\u00b7\u00b7\u00b7\u00b7\u00b7\u00b7\u00b7\u00b7\u00b7\u00b7\u00b7\u00b7\u00b7\u00b7\u00b7\u00b7\u00b7\u00b7\u00b7\u00b7\u00b7\u00b7\u00b7\u00b7\u00b7\u00b7\u00b7\u00b7\u00b7\u00b7\u00b7\u00b7\u00b7\u00b7\u00b7\u00b7\u00b7\u00b7\u00b7\u00b7\u00b7\u00b7\u00b7\u00b7\u00b7\u00b7\u00b7\u00b7\u00b7\u00b7\u00b7\u00b7\u00b7\u00b7\u00b7\u00b7\u00b7\u00b7\u00b7\u00b7\u00b7\u00b7\u00b7\u00b7\u00b7\u00b7\u00b7\u00b7\u00b7\u00b7\u00b7\u00b7\u00b7\u00b7\u00b7\u00b7\u00b7\u00b7\u00b7\u00b7\u00b7\u00b7\u00b7\u00b7\u00b7\u00b7\u00b7\u00b7\u00b7\u00b7\u00b7\u00b7\u00b7\u00b7\u00b7\u00b7\u00b7\u00b7\u00b7\u00b7\u00b7\u00b7\u00b7\u00b7\u00b7\u00b7\u00b7\u00b7\u00b7\u00b7\u00b7\u00b7\u00b7\u00b7\u00b7\u00b7\u00b7\u00b7\u00b7\u00b7\u00b7\u00b7\u00b7\u00b7\u00b7\u00b7\u00b7\u00b7\u00b7\u00b7\u00b7\u00b7\u00b7\u00b7\u00b7\u00b7\u00b7\u00b7\u00b7\u00b7\u00b7\u00b7\u00b7\u00b7\n",
              "\n",
              "</span>"
            ]
          },
          "execution_count": 210,
          "metadata": {},
          "output_type": "execute_result"
        }
      ],
      "source": [
        "\u2373100 1"
      ]
    },
    {
      "cell_type": "code",
      "execution_count": 211,
      "id": "twenty-penny",
      "metadata": {},
      "outputs": [
        {
          "data": {
            "text/html": [
              "<span style=\"white-space:pre; font-family: monospace\">was -fold=0\n",
              "\n",
              "</span>"
            ]
          },
          "execution_count": 211,
          "metadata": {},
          "output_type": "execute_result"
        }
      ],
      "source": [
        "]rows -fold=3"
      ]
    },
    {
      "cell_type": "code",
      "execution_count": 212,
      "id": "representative-genome",
      "metadata": {},
      "outputs": [
        {
          "data": {
            "text/html": [
              "<span style=\"white-space:pre; font-family: monospace\">\u250c\u2500\u2500\u2500\u2500\u2500\u2510                                                                                                                                                                                                                                   \n",
              "\u25021 1  \u2502                                                                                                                                                                                                                                   \n",
              "\u251c\u2500\u2500\u2500\u2500\u2500\u2524                                                                                                                                                                                                                                   \n",
              "\u25022 1  \u2502                                                                                                                                                                                                                                   \n",
              "\u251c\u2500\u2500\u2500\u2500\u2500\u2524                                                                                                                                                                                                                                   \n",
              "\u25023 1  \u2502                                                                                                                                                                                                                                   \n",
              "\u251c\u2500\u2500\u2500\u2500\u2500\u2524                                                                                                                                                                                                                                   \n",
              "\u25024 1  \u2502                                                                                                                                                                                                                                   \n",
              "\u251c\u2500\u2500\u2500\u2500\u2500\u2524                                                                                                                                                                                                                                   \n",
              "\u25025 1  \u2502                                                                                                                                                                                                                                   \n",
              "\u251c\u2500\u2500\u2500\u2500\u2500\u2524                                                                                                                                                                                                                                   \n",
              "\u25026 1  \u2502                                                                                                                                                                                                                                   \n",
              "\u251c\u2500\u2500\u2500\u2500\u2500\u2524                                                                                                                                                                                                                                   \n",
              "\u25027 1  \u2502                                                                                                                                                                                                                                   \n",
              "\u251c\u2500\u2500\u2500\u2500\u2500\u2524                                                                                                                                                                                                                                   \n",
              "\u25028 1  \u2502                                                                                                                                                                                                                                   \n",
              "\u251c\u2500\u2500\u2500\u2500\u2500\u2524                                                                                                                                                                                                                                   \n",
              "\u25029 1  \u2502                                                                                                                                                                                                                                   \n",
              "\u251c\u2500\u2500\u2500\u2500\u2500\u2524                                                                                                                                                                                                                                   \n",
              "\u250210 1 \u2502                                                                                                                                                                                                                                   \n",
              "\u251c\u2500\u2500\u2500\u2500\u2500\u2524                                                                                                                                                                                                                                   \n",
              "\u250211 1 \u2502                                                                                                                                                                                                                                   \n",
              "\u251c\u2500\u2500\u2500\u2500\u2500\u2524                                                                                                                                                                                                                                   \n",
              "\u250212 1 \u2502                                                                                                                                                                                                                                   \n",
              "\u251c\u2500\u2500\u2500\u2500\u2500\u2524                                                                                                                                                                                                                                   \n",
              "\u250213 1 \u2502                                                                                                                                                                                                                                   \n",
              "\u251c\u2500\u2500\u2500\u2500\u2500\u2524                                                                                                                                                                                                                                   \n",
              "\u250214 1 \u2502                                                                                                                                                                                                                                   \n",
              "\u251c\u2500\u2500\u2500\u2500\u2500\u2524                                                                                                                                                                                                                                   \n",
              "\u250215 1 \u2502                                                                                                                                                                                                                                   \n",
              "\u251c\u2500\u2500\u2500\u2500\u2500\u2524                                                                                                                                                                                                                                   \n",
              "\u250216 1 \u2502                                                                                                                                                                                                                                   \n",
              "\u251c\u2500\u2500\u2500\u2500\u2500\u2524                                                                                                                                                                                                                                   \n",
              "\u250217 1 \u2502                                                                                                                                                                                                                                   \n",
              "\u251c\u2500\u2500\u2500\u2500\u2500\u2524                                                                                                                                                                                                                                   \n",
              "\u00b7\u00b7\u00b7\u00b7\u00b7\u00b7\u00b7\u00b7\u00b7\u00b7\u00b7\u00b7\u00b7\u00b7\u00b7\u00b7\u00b7\u00b7\u00b7\u00b7\u00b7\u00b7\u00b7\u00b7\u00b7\u00b7\u00b7\u00b7\u00b7\u00b7\u00b7\u00b7\u00b7\u00b7\u00b7\u00b7\u00b7\u00b7\u00b7\u00b7\u00b7\u00b7\u00b7\u00b7\u00b7\u00b7\u00b7\u00b7\u00b7\u00b7\u00b7\u00b7\u00b7\u00b7\u00b7\u00b7\u00b7\u00b7\u00b7\u00b7\u00b7\u00b7\u00b7\u00b7\u00b7\u00b7\u00b7\u00b7\u00b7\u00b7\u00b7\u00b7\u00b7\u00b7\u00b7\u00b7\u00b7\u00b7\u00b7\u00b7\u00b7\u00b7\u00b7\u00b7\u00b7\u00b7\u00b7\u00b7\u00b7\u00b7\u00b7\u00b7\u00b7\u00b7\u00b7\u00b7\u00b7\u00b7\u00b7\u00b7\u00b7\u00b7\u00b7\u00b7\u00b7\u00b7\u00b7\u00b7\u00b7\u00b7\u00b7\u00b7\u00b7\u00b7\u00b7\u00b7\u00b7\u00b7\u00b7\u00b7\u00b7\u00b7\u00b7\u00b7\u00b7\u00b7\u00b7\u00b7\u00b7\u00b7\u00b7\u00b7\u00b7\u00b7\u00b7\u00b7\u00b7\u00b7\u00b7\u00b7\u00b7\u00b7\u00b7\u00b7\u00b7\u00b7\u00b7\u00b7\u00b7\u00b7\u00b7\u00b7\u00b7\u00b7\u00b7\u00b7\u00b7\u00b7\u00b7\u00b7\u00b7\u00b7\u00b7\u00b7\u00b7\u00b7\u00b7\u00b7\u00b7\u00b7\u00b7\u00b7\u00b7\u00b7\u00b7\u00b7\u00b7\u00b7\u00b7\u00b7\u00b7\u00b7\u00b7\u00b7\u00b7\u00b7\u00b7\u00b7\u00b7\u00b7\u00b7\u00b7\u00b7\u00b7\u00b7\u00b7\u00b7\u00b7\u00b7\u00b7\u00b7\u00b7\u00b7\u00b7\u00b7\u00b7\u00b7\u00b7\u00b7\u00b7\u00b7\u00b7\u00b7\u00b7\u00b7\u00b7\u00b7\u00b7\u00b7\u00b7\u00b7\u00b7\u00b7\u00b7\u00b7\u00b7\u00b7\u00b7\u00b7\u00b7\u00b7\u00b7\u00b7\u00b7\n",
              "\u251c\u2500\u2500\u2500\u2500\u2500\u2524                                                                                                                                                                                                                                   \n",
              "\u2502100 1\u2502                                                                                                                                                                                                                                   \n",
              "\u2514\u2500\u2500\u2500\u2500\u2500\u2518                                                                                                                                                                                                                                   \n",
              "\n",
              "</span>"
            ]
          },
          "execution_count": 212,
          "metadata": {},
          "output_type": "execute_result"
        }
      ],
      "source": [
        "\u2373100 1"
      ]
    },
    {
      "cell_type": "code",
      "execution_count": 213,
      "id": "romantic-sierra",
      "metadata": {},
      "outputs": [
        {
          "data": {
            "text/html": [
              "<span style=\"white-space:pre; font-family: monospace\">was -fold=3\n",
              "\n",
              "</span>"
            ]
          },
          "execution_count": 213,
          "metadata": {},
          "output_type": "execute_result"
        }
      ],
      "source": [
        "]rows -fold=9"
      ]
    },
    {
      "cell_type": "code",
      "execution_count": 214,
      "id": "illegal-wages",
      "metadata": {},
      "outputs": [
        {
          "data": {
            "text/html": [
              "<span style=\"white-space:pre; font-family: monospace\">\u250c\u2500\u2500\u2500\u2500\u2500\u2510                                                                                                                                                                                                                                   \n",
              "\u25021 1  \u2502                                                                                                                                                                                                                                   \n",
              "\u251c\u2500\u2500\u2500\u2500\u2500\u2524                                                                                                                                                                                                                                   \n",
              "\u25022 1  \u2502                                                                                                                                                                                                                                   \n",
              "\u251c\u2500\u2500\u2500\u2500\u2500\u2524                                                                                                                                                                                                                                   \n",
              "\u25023 1  \u2502                                                                                                                                                                                                                                   \n",
              "\u251c\u2500\u2500\u2500\u2500\u2500\u2524                                                                                                                                                                                                                                   \n",
              "\u25024 1  \u2502                                                                                                                                                                                                                                   \n",
              "\u251c\u2500\u2500\u2500\u2500\u2500\u2524                                                                                                                                                                                                                                   \n",
              "\u25025 1  \u2502                                                                                                                                                                                                                                   \n",
              "\u251c\u2500\u2500\u2500\u2500\u2500\u2524                                                                                                                                                                                                                                   \n",
              "\u25026 1  \u2502                                                                                                                                                                                                                                   \n",
              "\u251c\u2500\u2500\u2500\u2500\u2500\u2524                                                                                                                                                                                                                                   \n",
              "\u25027 1  \u2502                                                                                                                                                                                                                                   \n",
              "\u251c\u2500\u2500\u2500\u2500\u2500\u2524                                                                                                                                                                                                                                   \n",
              "\u25028 1  \u2502                                                                                                                                                                                                                                   \n",
              "\u251c\u2500\u2500\u2500\u2500\u2500\u2524                                                                                                                                                                                                                                   \n",
              "\u25029 1  \u2502                                                                                                                                                                                                                                   \n",
              "\u251c\u2500\u2500\u2500\u2500\u2500\u2524                                                                                                                                                                                                                                   \n",
              "\u250210 1 \u2502                                                                                                                                                                                                                                   \n",
              "\u251c\u2500\u2500\u2500\u2500\u2500\u2524                                                                                                                                                                                                                                   \n",
              "\u250211 1 \u2502                                                                                                                                                                                                                                   \n",
              "\u251c\u2500\u2500\u2500\u2500\u2500\u2524                                                                                                                                                                                                                                   \n",
              "\u250212 1 \u2502                                                                                                                                                                                                                                   \n",
              "\u251c\u2500\u2500\u2500\u2500\u2500\u2524                                                                                                                                                                                                                                   \n",
              "\u250213 1 \u2502                                                                                                                                                                                                                                   \n",
              "\u251c\u2500\u2500\u2500\u2500\u2500\u2524                                                                                                                                                                                                                                   \n",
              "\u250214 1 \u2502                                                                                                                                                                                                                                   \n",
              "\u251c\u2500\u2500\u2500\u2500\u2500\u2524                                                                                                                                                                                                                                   \n",
              "\u00b7\u00b7\u00b7\u00b7\u00b7\u00b7\u00b7\u00b7\u00b7\u00b7\u00b7\u00b7\u00b7\u00b7\u00b7\u00b7\u00b7\u00b7\u00b7\u00b7\u00b7\u00b7\u00b7\u00b7\u00b7\u00b7\u00b7\u00b7\u00b7\u00b7\u00b7\u00b7\u00b7\u00b7\u00b7\u00b7\u00b7\u00b7\u00b7\u00b7\u00b7\u00b7\u00b7\u00b7\u00b7\u00b7\u00b7\u00b7\u00b7\u00b7\u00b7\u00b7\u00b7\u00b7\u00b7\u00b7\u00b7\u00b7\u00b7\u00b7\u00b7\u00b7\u00b7\u00b7\u00b7\u00b7\u00b7\u00b7\u00b7\u00b7\u00b7\u00b7\u00b7\u00b7\u00b7\u00b7\u00b7\u00b7\u00b7\u00b7\u00b7\u00b7\u00b7\u00b7\u00b7\u00b7\u00b7\u00b7\u00b7\u00b7\u00b7\u00b7\u00b7\u00b7\u00b7\u00b7\u00b7\u00b7\u00b7\u00b7\u00b7\u00b7\u00b7\u00b7\u00b7\u00b7\u00b7\u00b7\u00b7\u00b7\u00b7\u00b7\u00b7\u00b7\u00b7\u00b7\u00b7\u00b7\u00b7\u00b7\u00b7\u00b7\u00b7\u00b7\u00b7\u00b7\u00b7\u00b7\u00b7\u00b7\u00b7\u00b7\u00b7\u00b7\u00b7\u00b7\u00b7\u00b7\u00b7\u00b7\u00b7\u00b7\u00b7\u00b7\u00b7\u00b7\u00b7\u00b7\u00b7\u00b7\u00b7\u00b7\u00b7\u00b7\u00b7\u00b7\u00b7\u00b7\u00b7\u00b7\u00b7\u00b7\u00b7\u00b7\u00b7\u00b7\u00b7\u00b7\u00b7\u00b7\u00b7\u00b7\u00b7\u00b7\u00b7\u00b7\u00b7\u00b7\u00b7\u00b7\u00b7\u00b7\u00b7\u00b7\u00b7\u00b7\u00b7\u00b7\u00b7\u00b7\u00b7\u00b7\u00b7\u00b7\u00b7\u00b7\u00b7\u00b7\u00b7\u00b7\u00b7\u00b7\u00b7\u00b7\u00b7\u00b7\u00b7\u00b7\u00b7\u00b7\u00b7\u00b7\u00b7\u00b7\u00b7\u00b7\u00b7\u00b7\u00b7\u00b7\u00b7\u00b7\u00b7\u00b7\u00b7\u00b7\u00b7\u00b7\u00b7\u00b7\u00b7\u00b7\u00b7\u00b7\n",
              "\u251c\u2500\u2500\u2500\u2500\u2500\u2524                                                                                                                                                                                                                                   \n",
              "\u250297 1 \u2502                                                                                                                                                                                                                                   \n",
              "\u251c\u2500\u2500\u2500\u2500\u2500\u2524                                                                                                                                                                                                                                   \n",
              "\u250298 1 \u2502                                                                                                                                                                                                                                   \n",
              "\u251c\u2500\u2500\u2500\u2500\u2500\u2524                                                                                                                                                                                                                                   \n",
              "\u250299 1 \u2502                                                                                                                                                                                                                                   \n",
              "\u251c\u2500\u2500\u2500\u2500\u2500\u2524                                                                                                                                                                                                                                   \n",
              "\u2502100 1\u2502                                                                                                                                                                                                                                   \n",
              "\u2514\u2500\u2500\u2500\u2500\u2500\u2518                                                                                                                                                                                                                                   \n",
              "\n",
              "</span>"
            ]
          },
          "execution_count": 214,
          "metadata": {},
          "output_type": "execute_result"
        }
      ],
      "source": [
        "\u2373100 1"
      ]
    },
    {
      "cell_type": "markdown",
      "id": "distant-grant",
      "metadata": {},
      "source": [
        "The final modifier that we have to discuss is `-dots=`, that allows to customise the character that is used to represent that output is truncated.\n",
        "By default, the character used is \"\u2219\", like we can see above.\n",
        "Changing the value is simple:"
      ]
    },
    {
      "cell_type": "code",
      "execution_count": 215,
      "id": "proud-mainland",
      "metadata": {},
      "outputs": [
        {
          "data": {
            "text/html": [
              "<span style=\"white-space:pre; font-family: monospace\">was -dots=\u00b7\n",
              "\n",
              "</span>"
            ]
          },
          "execution_count": 215,
          "metadata": {},
          "output_type": "execute_result"
        }
      ],
      "source": [
        "]rows -dots=#"
      ]
    },
    {
      "cell_type": "code",
      "execution_count": 216,
      "id": "modern-modern",
      "metadata": {},
      "outputs": [
        {
          "data": {
            "text/html": [
              "<span style=\"white-space:pre; font-family: monospace\">\u250c\u2500\u2500\u2500\u2500\u2500\u2510                                                                                                                                                                                                                                   \n",
              "\u25021 1  \u2502                                                                                                                                                                                                                                   \n",
              "\u251c\u2500\u2500\u2500\u2500\u2500\u2524                                                                                                                                                                                                                                   \n",
              "\u25022 1  \u2502                                                                                                                                                                                                                                   \n",
              "\u251c\u2500\u2500\u2500\u2500\u2500\u2524                                                                                                                                                                                                                                   \n",
              "\u25023 1  \u2502                                                                                                                                                                                                                                   \n",
              "\u251c\u2500\u2500\u2500\u2500\u2500\u2524                                                                                                                                                                                                                                   \n",
              "\u25024 1  \u2502                                                                                                                                                                                                                                   \n",
              "\u251c\u2500\u2500\u2500\u2500\u2500\u2524                                                                                                                                                                                                                                   \n",
              "\u25025 1  \u2502                                                                                                                                                                                                                                   \n",
              "\u251c\u2500\u2500\u2500\u2500\u2500\u2524                                                                                                                                                                                                                                   \n",
              "\u25026 1  \u2502                                                                                                                                                                                                                                   \n",
              "\u251c\u2500\u2500\u2500\u2500\u2500\u2524                                                                                                                                                                                                                                   \n",
              "\u25027 1  \u2502                                                                                                                                                                                                                                   \n",
              "\u251c\u2500\u2500\u2500\u2500\u2500\u2524                                                                                                                                                                                                                                   \n",
              "\u25028 1  \u2502                                                                                                                                                                                                                                   \n",
              "\u251c\u2500\u2500\u2500\u2500\u2500\u2524                                                                                                                                                                                                                                   \n",
              "\u25029 1  \u2502                                                                                                                                                                                                                                   \n",
              "\u251c\u2500\u2500\u2500\u2500\u2500\u2524                                                                                                                                                                                                                                   \n",
              "\u250210 1 \u2502                                                                                                                                                                                                                                   \n",
              "\u251c\u2500\u2500\u2500\u2500\u2500\u2524                                                                                                                                                                                                                                   \n",
              "\u250211 1 \u2502                                                                                                                                                                                                                                   \n",
              "\u251c\u2500\u2500\u2500\u2500\u2500\u2524                                                                                                                                                                                                                                   \n",
              "\u250212 1 \u2502                                                                                                                                                                                                                                   \n",
              "\u251c\u2500\u2500\u2500\u2500\u2500\u2524                                                                                                                                                                                                                                   \n",
              "\u250213 1 \u2502                                                                                                                                                                                                                                   \n",
              "\u251c\u2500\u2500\u2500\u2500\u2500\u2524                                                                                                                                                                                                                                   \n",
              "\u250214 1 \u2502                                                                                                                                                                                                                                   \n",
              "\u251c\u2500\u2500\u2500\u2500\u2500\u2524                                                                                                                                                                                                                                   \n",
              "##########################################################################################################################################################################################################################################\n",
              "\u251c\u2500\u2500\u2500\u2500\u2500\u2524                                                                                                                                                                                                                                   \n",
              "\u250297 1 \u2502                                                                                                                                                                                                                                   \n",
              "\u251c\u2500\u2500\u2500\u2500\u2500\u2524                                                                                                                                                                                                                                   \n",
              "\u250298 1 \u2502                                                                                                                                                                                                                                   \n",
              "\u251c\u2500\u2500\u2500\u2500\u2500\u2524                                                                                                                                                                                                                                   \n",
              "\u250299 1 \u2502                                                                                                                                                                                                                                   \n",
              "\u251c\u2500\u2500\u2500\u2500\u2500\u2524                                                                                                                                                                                                                                   \n",
              "\u2502100 1\u2502                                                                                                                                                                                                                                   \n",
              "\u2514\u2500\u2500\u2500\u2500\u2500\u2518                                                                                                                                                                                                                                   \n",
              "\n",
              "</span>"
            ]
          },
          "execution_count": 216,
          "metadata": {},
          "output_type": "execute_result"
        }
      ],
      "source": [
        "\u2373100 1"
      ]
    },
    {
      "cell_type": "markdown",
      "id": "curious-import",
      "metadata": {},
      "source": [
        "It is advisable that you leave the modifier `-dots=` unchanged, or set it to a character that has the same properties that \"\u2219\" has: it is a character that doesn't add much visual noise and it isn't an ASCII character, meaning it is unlikely that the truncation marks from `]rows` will be mistaken by actual output or vice-versa.\n",
        "That is why we reset `-dots=` to its original value here:"
      ]
    },
    {
      "cell_type": "code",
      "execution_count": 218,
      "id": "essential-motion",
      "metadata": {},
      "outputs": [
        {
          "data": {
            "text/html": [
              "<span style=\"white-space:pre; font-family: monospace\">was -dots=\u2219\n",
              "\n",
              "</span>"
            ]
          },
          "execution_count": 218,
          "metadata": {},
          "output_type": "execute_result"
        }
      ],
      "source": [
        "]rows -dots=\u2219"
      ]
    },
    {
      "cell_type": "markdown",
      "id": "moral-empty",
      "metadata": {},
      "source": [
        "(fig-Programming_Art)=\n",
        "```{figure} ../res/Programming_Art.png\n",
        "---\n",
        "name: Programming_Art\n",
        "---\n",
        "Dyalog APL programming is pure Art.\n",
        "```\n"
      ]
    },
    {
      "cell_type": "markdown",
      "id": "devoted-month",
      "metadata": {},
      "source": [
        "(Execute-and-Format-Control-The-Specialists-Section)=\n",
        "## The Specialist's Section\n",
        "\n",
        "<br />\n",
        "<center><i>Each chapter is followed by a \"Specialist's Section\" like this one. This section is dedicated to skilled APLers who wish to improve their knowledge.</i>\n",
        "\n",
        "You will find here rare or complex usages of the concepts presented in this chapter, or discover extended explanations which need the knowledge of some symbols that will be seen much further in the book.\n",
        "\n",
        "<b>If you are exploring APL for the first time, skip this section and go to the next chapter.</b></center>"
      ]
    },
    {
      "cell_type": "markdown",
      "id": "right-massachusetts",
      "metadata": {},
      "source": [
        "(Execute-and-Format-Control-Advanced-Usages-of-Execute)=\n",
        "### Advanced Usages of Execute\n",
        "\n",
        "(Execute-and-Format-Control-Name-Conflict)=\n",
        "#### Name Conflict\n",
        "\n",
        "Suppose that we would like to switch two letters inside a word.\n",
        "Let us write a function which accepts the index of the letters to switch as its left argument, and the **name** of an existing variable as its right argument.\n",
        "\n",
        "It is important to note that the function works on the **name** of the variable, not on its **value**:"
      ]
    },
    {
      "cell_type": "code",
      "execution_count": 180,
      "id": "removable-stage",
      "metadata": {},
      "outputs": [],
      "source": [
        "]dinput\n",
        "Exchange \u2190 {\n",
        "    v \u2190 \u233d\u237a\n",
        "    text \u2190 \u2375,'[\u237a]\u2190',\u2375,'[v]'\n",
        "    \u234etext\n",
        "}"
      ]
    },
    {
      "cell_type": "markdown",
      "id": "interior-peeing",
      "metadata": {},
      "source": [
        "Now we create a character vector containing a word, call our function to exchange two characters, and then check the value of the variable again:"
      ]
    },
    {
      "cell_type": "code",
      "execution_count": 181,
      "id": "detected-alaska",
      "metadata": {},
      "outputs": [
        {
          "data": {
            "text/html": [
              "<span style=\"white-space:pre; font-family: monospace\">molar\n",
              "\n",
              "</span>"
            ]
          },
          "execution_count": 181,
          "metadata": {},
          "output_type": "execute_result"
        }
      ],
      "source": [
        "word \u2190 'moral'\n",
        "3 5 Exchange 'word'\n",
        "word"
      ]
    },
    {
      "cell_type": "markdown",
      "id": "opposed-hometown",
      "metadata": {},
      "source": [
        "In our example, `\u2375` was equal to `'word'`, so the statement that assigns to `text` was equivalent to `text \u2190 'word[\u237a]\u2190word[v]'`.\n",
        "\n",
        "All is well up to now.\n",
        "But now, let us try again on another variable:"
      ]
    },
    {
      "cell_type": "code",
      "execution_count": 182,
      "id": "consistent-seminar",
      "metadata": {},
      "outputs": [
        {
          "data": {
            "text/html": [
              "<span style=\"white-space:pre; font-family: monospace\">rats\n",
              "\n",
              "</span>"
            ]
          },
          "execution_count": 182,
          "metadata": {},
          "output_type": "execute_result"
        }
      ],
      "source": [
        "v \u2190 'rats'\n",
        "1 2 Exchange 'v'\n",
        "v"
      ]
    },
    {
      "cell_type": "markdown",
      "id": "warming-reverse",
      "metadata": {},
      "source": [
        "The result now is **wrong**, it should have been `'arts'`.\n",
        "The reason is that the assignment to `text` is equivalent to `text \u2190 'v[\u237a]\u2190v[v]'`, but `v` is the name of a local variable in the function.\n",
        "When the last statement is executed, it exchanges items inside the **local** variable, not in the global one, which remains unchanged!\n",
        "\n",
        "In fact, if we call `Exchange` with larger indices, we get an `INDEX ERROR` because the local variable `v` only has two elements:"
      ]
    },
    {
      "cell_type": "code",
      "execution_count": 183,
      "id": "convertible-haven",
      "metadata": {},
      "outputs": [
        {
          "name": "stderr",
          "output_type": "stream",
          "text": [
            "\u234eINDEX ERROR\n",
            "Exchange[3] v[\u237a]\u2190v[v]\n",
            "                  \u2227\n"
          ]
        }
      ],
      "source": [
        "1 4 Exchange 'v'"
      ]
    },
    {
      "cell_type": "markdown",
      "id": "periodic-collins",
      "metadata": {},
      "source": [
        "In other words, be careful when _execute_ is expected to work on global names, as there may be a risk of conflict with local names.\n",
        "In order to reduce this risk, programmers sometimes use complex and weird names for the local names in such functions.\n",
        "Another alternative is to try and write your functions to not rely on `\u234e` for this kind of things, as that creates code that is much harder to debug; instead, write functions that take arguments and return their results explicitly.\n",
        "See, for example, {numref}`User-Defined-Functions-Why-Should-a-Function-Return-a-Result`."
      ]
    },
    {
      "cell_type": "markdown",
      "id": "polished-magnet",
      "metadata": {},
      "source": [
        "(Execute-and-Format-Control-Conditional-Execution)=\n",
        "#### Conditional Execution\n",
        "\n",
        "For many years, _execute_ has been used to conditionally execute certain expressions in a function, through the pattern `\u234e(condition)/'statement'`.\n",
        "\n",
        "If the condition is satisfied, _compress_ returns the character string unchanged, and the statement is then executed.\n",
        "On the other hand, if the condition is not satisfied, _compress_ returns an empty character vector and _execute_ does nothing.\n",
        "\n",
        "Here is an example that gives a higher discount to customers that buy in bulk:"
      ]
    },
    {
      "cell_type": "code",
      "execution_count": 220,
      "id": "graduate-capture",
      "metadata": {},
      "outputs": [
        {
          "data": {
            "text/html": [
              "<span style=\"white-space:pre; font-family: monospace\">Final discount is 7\n",
              "\n",
              "</span>"
            ]
          },
          "execution_count": 220,
          "metadata": {},
          "output_type": "execute_result"
        }
      ],
      "source": [
        "discount \u2190 0                     \u235d default discount is 0\n",
        "quantity \u2190 120\n",
        "\u234e(quantity>80)/'discount \u2190 7'\n",
        "\u2395\u2190 'Final discount is ',\u2355discount"
      ]
    },
    {
      "cell_type": "markdown",
      "id": "experienced-judgment",
      "metadata": {},
      "source": [
        "This form is now considered obsolete and should be replaced by an `:If ... :EndIf` control structure.\n",
        "There are also cases where it makes sense to rework the logic of the program slightly, so that the conditional and the resulting value are coupled together.\n",
        "Going back to the previous example, one can use basic arithmetic operations to assign the correct discount value from the get-go:"
      ]
    },
    {
      "cell_type": "code",
      "execution_count": 221,
      "id": "unlike-newcastle",
      "metadata": {},
      "outputs": [
        {
          "data": {
            "text/html": [
              "<span style=\"white-space:pre; font-family: monospace\">Final discount is 7\n",
              "\n",
              "</span>"
            ]
          },
          "execution_count": 221,
          "metadata": {},
          "output_type": "execute_result"
        }
      ],
      "source": [
        "quantity \u2190 120\n",
        "discount \u2190 (quantity>80)\u00d77\n",
        "\u2395\u2190 'Final discount is ',\u2355discount"
      ]
    },
    {
      "cell_type": "markdown",
      "id": "committed-thinking",
      "metadata": {},
      "source": [
        "(Execute-and-Format-Control-Case-Selection)=\n",
        "#### Case Selection\n",
        "\n",
        "_Execute_ is sometimes used to select one case from a set of cases.\n",
        "\n",
        "Consider the following scenario: a program allows the user to extrapolate a series of numeric values.\n",
        "He has the choice between three extrapolation methods: least squares, moving average, and a home-made method.\n",
        "Each can be applied using one of three functions: `LeastSqr`, `MovAverage`, `HomeXtra`.\n",
        "We want to write a function that takes the method number (1 to 3) as its left argument, and the values to extrapolate as the right argument.\n",
        "\n",
        "You can compare two programming techniques:"
      ]
    },
    {
      "cell_type": "code",
      "execution_count": 222,
      "id": "instrumental-hydrogen",
      "metadata": {},
      "outputs": [],
      "source": [
        "\u2207 r \u2190 method Calc1 values\n",
        "    :Select method\n",
        "    :Case 1\n",
        "        r \u2190 LeastSqr values\n",
        "    :Case 2\n",
        "        r \u2190 MovAverage values\n",
        "    :Case 3\n",
        "        r \u2190 HomeXtra values\n",
        "    :EndSelect\n",
        "\u2207"
      ]
    },
    {
      "cell_type": "code",
      "execution_count": 224,
      "id": "united-forest",
      "metadata": {},
      "outputs": [],
      "source": [
        "\u2207 r \u2190 method Calc2 values; fun\n",
        "    fun \u2190 (3 11\u2374'LeastSqr   MovAverage HomeXtra   ')[method;]\n",
        "    r \u2190 \u2355fun,' values'\n",
        "\u2207"
      ]
    },
    {
      "cell_type": "markdown",
      "id": "cognitive-finnish",
      "metadata": {},
      "source": [
        "Let us analyse how `Calc2` works: suppose that the user has chosen the third method.\n",
        "The assignment to `fun` evaluates to the character vector `'HomeXtra   '`.\n",
        "\n",
        "Once this character vector is catenated to `' values'` we obtain `'HomeXtra    values'`.\n",
        "\n",
        "Then, _execute_ calls the appropriate function and returns the desired result.\n",
        "\n",
        "This form too is considered obsolete and should be avoided, if only for clarity."
      ]
    },
    {
      "cell_type": "markdown",
      "id": "expressed-album",
      "metadata": {},
      "source": [
        "(Execute-and-Format-Control-Dynamic-Variable-Creation)=\n",
        "#### Dynamic Variable Creation\n",
        "\n",
        "Some very specific applications may require that a program creates variables whose names depend on the context.\n",
        "This may seem a bit artificial, but imagine that we have three variables:\n",
        "\n",
        " - `prefix` is the following text matrix:"
      ]
    },
    {
      "cell_type": "code",
      "execution_count": 225,
      "id": "elect-marine",
      "metadata": {},
      "outputs": [
        {
          "data": {
            "text/html": [
              "<span style=\"white-space:pre; font-family: monospace\">prod    \n",
              "price   \n",
              "discount\n",
              "orders  \n",
              "\n",
              "</span>"
            ]
          },
          "execution_count": 225,
          "metadata": {},
          "output_type": "execute_result"
        }
      ],
      "source": [
        "\u2395\u2190 prefix \u2190 4 8\u2374'prod    price   discountorders  '"
      ]
    },
    {
      "cell_type": "markdown",
      "id": "legitimate-advertiser",
      "metadata": {},
      "source": [
        " - `suffix` is a text vector:"
      ]
    },
    {
      "cell_type": "code",
      "execution_count": 226,
      "id": "detected-minneapolis",
      "metadata": {},
      "outputs": [
        {
          "data": {
            "text/html": [
              "<span style=\"white-space:pre; font-family: monospace\">USA\n",
              "\n",
              "</span>"
            ]
          },
          "execution_count": 226,
          "metadata": {},
          "output_type": "execute_result"
        }
      ],
      "source": [
        "\u2395\u2190 suffix \u2190 'USA'"
      ]
    },
    {
      "cell_type": "markdown",
      "id": "accompanied-thinking",
      "metadata": {},
      "source": [
        " - `numbers` is a numeric matrix:"
      ]
    },
    {
      "cell_type": "code",
      "execution_count": 227,
      "id": "sufficient-means",
      "metadata": {},
      "outputs": [],
      "source": [
        "numbers \u2190 4 4\u2374623 486 739 648 108 103 112 98 7 6 7 5 890 942 637 806"
      ]
    },
    {
      "cell_type": "markdown",
      "id": "organizational-luxembourg",
      "metadata": {},
      "source": [
        "Now we want to create variables named `prodUSA`, `priceUSA`, and so on, and fill them with the corresponding values.\n",
        "A simple loop should do that:"
      ]
    },
    {
      "cell_type": "code",
      "execution_count": 228,
      "id": "increased-warner",
      "metadata": {},
      "outputs": [],
      "source": [
        "\u2207 BuildVars (mat vec val); row; name\n",
        "    :For row :In \u23731\u2191\u2374mat\n",
        "        name \u2190 mat[row;],vec\n",
        "        name \u2190 (name\u2260' ')/name\n",
        "        \u234e \u2395\u2190 name,'\u2190val[row;]'\n",
        "    :End\n",
        "\u2207"
      ]
    },
    {
      "cell_type": "markdown",
      "id": "dangerous-skirt",
      "metadata": {},
      "source": [
        "Let us use the debugging output that we have added to the final line of the `:For` loop to see the code that is being executed by `\u234e` on each iteration:"
      ]
    },
    {
      "cell_type": "code",
      "execution_count": 229,
      "id": "grateful-pressing",
      "metadata": {},
      "outputs": [
        {
          "data": {
            "text/html": [
              "<span style=\"white-space:pre; font-family: monospace\">prodUSA\u2190val[row;]\n",
              "\n",
              "priceUSA\u2190val[row;]\n",
              "\n",
              "discountUSA\u2190val[row;]\n",
              "\n",
              "ordersUSA\u2190val[row;]\n",
              "\n",
              "</span>"
            ]
          },
          "execution_count": 229,
          "metadata": {},
          "output_type": "execute_result"
        }
      ],
      "source": [
        "BuildVars (prefix suffix numbers)"
      ]
    },
    {
      "cell_type": "markdown",
      "id": "american-military",
      "metadata": {},
      "source": [
        "This technique is prone to introduce errors that are hard to debug due to the dynamic nature of the variables being created.\n",
        "Instead, one might consider leaving the values as-is, and using something like _index of_ to determine dynamically the row of `numbers` that needs to be accessed.\n",
        "For example, we could store the names of the rows as a nested character vector:"
      ]
    },
    {
      "cell_type": "code",
      "execution_count": 235,
      "id": "prerequisite-stage",
      "metadata": {},
      "outputs": [
        {
          "data": {
            "text/html": [
              "<span style=\"white-space:pre; font-family: monospace\">\u250c\u2500\u2500\u2500\u2500\u252c\u2500\u2500\u2500\u2500\u2500\u252c\u2500\u2500\u2500\u2500\u2500\u2500\u2500\u2500\u252c\u2500\u2500\u2500\u2500\u2500\u2500\u2510\n",
              "\u2502prod\u2502price\u2502discount\u2502orders\u2502\n",
              "\u2514\u2500\u2500\u2500\u2500\u2534\u2500\u2500\u2500\u2500\u2500\u2534\u2500\u2500\u2500\u2500\u2500\u2500\u2500\u2500\u2534\u2500\u2500\u2500\u2500\u2500\u2500\u2518\n",
              "\n",
              "</span>"
            ]
          },
          "execution_count": 235,
          "metadata": {},
          "output_type": "execute_result"
        }
      ],
      "source": [
        "\u2395\u2190 rowNames \u2190 'prod' 'price' 'discount' 'orders'"
      ]
    },
    {
      "cell_type": "markdown",
      "id": "congressional-mapping",
      "metadata": {},
      "source": [
        "And then use that variable to determine what is the row of numbers we need to access:"
      ]
    },
    {
      "cell_type": "code",
      "execution_count": 239,
      "id": "political-diamond",
      "metadata": {},
      "outputs": [
        {
          "data": {
            "text/html": [
              "<span style=\"white-space:pre; font-family: monospace\">623 486 739 648\n",
              "\n",
              "</span>"
            ]
          },
          "execution_count": 239,
          "metadata": {},
          "output_type": "execute_result"
        }
      ],
      "source": [
        "numbers[rowNames\u2373\u2282'prod';]"
      ]
    },
    {
      "cell_type": "markdown",
      "id": "comic-invalid",
      "metadata": {},
      "source": [
        "This approach is also easy to extend if, instead of a single country in the variable `suffix`, we had a series of countries:"
      ]
    },
    {
      "cell_type": "code",
      "execution_count": 240,
      "id": "occupied-fleece",
      "metadata": {},
      "outputs": [],
      "source": [
        "countries \u2190 'USA' 'Canada' 'Portugal'"
      ]
    },
    {
      "cell_type": "markdown",
      "id": "fewer-olympus",
      "metadata": {},
      "source": [
        "Which could be accompanied by a larger `numbers` matrix; in fact, we could even have a 3D array where each sub-matrix corresponds to one country:"
      ]
    },
    {
      "cell_type": "code",
      "execution_count": 245,
      "id": "alone-factory",
      "metadata": {},
      "outputs": [
        {
          "data": {
            "text/html": [
              "<span style=\"white-space:pre; font-family: monospace\">623 486 739 648\n",
              "108 103 112  98\n",
              "  7   6   7   5\n",
              "890 942 637 806\n",
              "               \n",
              "646 502 778 670\n",
              "114 105 122 102\n",
              "  8   7   8   6\n",
              "903 980 688 844\n",
              "               \n",
              "675 531 767 667\n",
              "114 110 117 108\n",
              "  8   7   8   6\n",
              "906 993 689 824\n",
              "\n",
              "</span>"
            ]
          },
          "execution_count": 245,
          "metadata": {},
          "output_type": "execute_result"
        }
      ],
      "source": [
        "\u2395\u2190 numbers \u2190 3 4 4\u2374623 486 739 648 108 103 112 98 7 6 7 5 890 942 637 806 646 502 778 670 114 105 122 102 8 7 8 6 903 980 688 844 675 531 767 667 114 110 117 108 8 7 8 6 906 993 689 824"
      ]
    },
    {
      "cell_type": "markdown",
      "id": "communist-pillow",
      "metadata": {},
      "source": [
        "Then, we could use a similar technique to access the production of a single country, instead of dynamically creating 12 different variables:"
      ]
    },
    {
      "cell_type": "code",
      "execution_count": 246,
      "id": "military-sweet",
      "metadata": {},
      "outputs": [
        {
          "data": {
            "text/html": [
              "<span style=\"white-space:pre; font-family: monospace\">675 531 767 667\n",
              "\n",
              "</span>"
            ]
          },
          "execution_count": 246,
          "metadata": {},
          "output_type": "execute_result"
        }
      ],
      "source": [
        "numbers[countries\u2373\u2282'Portugal';rowNames\u2373\u2282'prod';]"
      ]
    },
    {
      "cell_type": "markdown",
      "id": "native-french",
      "metadata": {},
      "source": [
        "(Execute-and-Format-Control-Dyadic-Execute)=\n",
        "#### Dyadic Execute\n",
        "\n",
        "In the dyadic use of _execute_, the left argument can be the name of a _namespace_ or a _namespace reference_.\n",
        "The statement provided as the right argument will then be executed in the _namespace_ specified as the left argument.\n",
        "\n",
        "For example, we can do a dynamic assignment to the global scope from within a dfn:"
      ]
    },
    {
      "cell_type": "code",
      "execution_count": 247,
      "id": "individual-bailey",
      "metadata": {},
      "outputs": [],
      "source": [
        "'var' {'#'\u234e\u237a,' \u2190 ',\u2355\u2375} 42"
      ]
    },
    {
      "cell_type": "code",
      "execution_count": 248,
      "id": "expensive-setup",
      "metadata": {},
      "outputs": [
        {
          "data": {
            "text/html": [
              "<span style=\"white-space:pre; font-family: monospace\">42\n",
              "\n",
              "</span>"
            ]
          },
          "execution_count": 248,
          "metadata": {},
          "output_type": "execute_result"
        }
      ],
      "source": [
        "var"
      ]
    },
    {
      "cell_type": "markdown",
      "id": "julian-citation",
      "metadata": {},
      "source": [
        "Instead of `'#'` we can use the actual namespace reference:"
      ]
    },
    {
      "cell_type": "code",
      "execution_count": 249,
      "id": "divided-complexity",
      "metadata": {},
      "outputs": [],
      "source": [
        "'var' {#\u234e\u237a,' \u2190 ',\u2355\u2375} 73"
      ]
    },
    {
      "cell_type": "code",
      "execution_count": 250,
      "id": "future-panel",
      "metadata": {},
      "outputs": [
        {
          "data": {
            "text/html": [
              "<span style=\"white-space:pre; font-family: monospace\">73\n",
              "\n",
              "</span>"
            ]
          },
          "execution_count": 250,
          "metadata": {},
          "output_type": "execute_result"
        }
      ],
      "source": [
        "var"
      ]
    },
    {
      "cell_type": "markdown",
      "id": "photographic-hindu",
      "metadata": {},
      "source": [
        "With the left argument being a namespace reference, you can also do \"zero footprint\" execution with `(\u2395NS\u236c)\u234eexpr`, where `expr` is what you want to execute.\n",
        "Here, \"zero footprint\" means that after the expression is executed, nothing remains, other than the things that the expression explicitly did/built outside of its namespace."
      ]
    },
    {
      "cell_type": "markdown",
      "id": "fundamental-contribution",
      "metadata": {},
      "source": [
        "(Execute-and-Format-Control-Formatting-Data)=\n",
        "### Formatting Data\n",
        "\n",
        "(Execute-and-Format-Control-Lack-of-Precision)=\n",
        "#### Lack of Precision\n",
        "\n",
        "If the number of specified significant digits exceeds the computer's internal precision, low order digits are replaced with an underscore (`_`).\n",
        "This character can be replaced by another one using specification `'S'`.\n",
        "For example:"
      ]
    },
    {
      "cell_type": "code",
      "execution_count": 251,
      "id": "dried-dairy",
      "metadata": {},
      "outputs": [
        {
          "data": {
            "text/html": [
              "<span style=\"white-space:pre; font-family: monospace\">3333333333333333__._\n",
              "\n",
              "</span>"
            ]
          },
          "execution_count": 251,
          "metadata": {},
          "output_type": "execute_result"
        }
      ],
      "source": [
        "'F20.1' \u2395FMT 1e18\u00f73"
      ]
    },
    {
      "cell_type": "code",
      "execution_count": 254,
      "id": "destroyed-massachusetts",
      "metadata": {},
      "outputs": [
        {
          "data": {
            "text/html": [
              "<span style=\"white-space:pre; font-family: monospace\">3333333333333333??.?\n",
              "\n",
              "</span>"
            ]
          },
          "execution_count": 254,
          "metadata": {},
          "output_type": "execute_result"
        }
      ],
      "source": [
        "'S\u2282_?\u2283F20.1' \u2395FMT 1e18\u00f73"
      ]
    },
    {
      "cell_type": "markdown",
      "id": "greenhouse-heaven",
      "metadata": {},
      "source": [
        "(Execute-and-Format-Control-Formatting-Using-the-Microsoft-NET-Framework)=\n",
        "#### Formatting Using the Microsoft .NET Framework\n",
        "\n",
        "Dyalog APL has an interface to Microsoft's .NET framework, which is introduced in [a later chapter](./System-Interfaces.ipynb).\n",
        "The .NET framework includes a vast collection of utility programs, including functions to interpret and format data according to rules defined for a given _locale_, or _culture_, or _language_ (which you can customise on your operating system).\n",
        "\n",
        "Let us start by declaring our intent to use the .NET framework:"
      ]
    },
    {
      "cell_type": "code",
      "execution_count": 258,
      "id": "portable-shell",
      "metadata": {},
      "outputs": [],
      "source": [
        "\u2395USING \u2190 ''"
      ]
    },
    {
      "cell_type": "markdown",
      "id": "female-comment",
      "metadata": {},
      "source": [
        "Then let us do a quick check to see if it loaded:"
      ]
    },
    {
      "cell_type": "code",
      "execution_count": 261,
      "id": "awful-value",
      "metadata": {},
      "outputs": [
        {
          "data": {
            "text/html": [
              "<span style=\"white-space:pre; font-family: monospace\">1000000000000000000\n",
              "\n",
              "</span>"
            ]
          },
          "execution_count": 261,
          "metadata": {},
          "output_type": "execute_result"
        }
      ],
      "source": [
        "System.Math.BigMul 1e9 1e9"
      ]
    },
    {
      "cell_type": "markdown",
      "id": "civilian-reconstruction",
      "metadata": {},
      "source": [
        "Now we illustrate some of the capabilities of the `String.Format` method.\n",
        "\n",
        "The `String.Format` function takes three arguments: an instance of the `NumberFormatInfo` class, a format string, and a vector of data.\n",
        "An appropriate `NumberFormatInfo` instance can be retrieved from an object that contains information about the current culture of the system.\n",
        "\n",
        "We start by querying for the current culture:"
      ]
    },
    {
      "cell_type": "code",
      "execution_count": 262,
      "id": "tracked-violin",
      "metadata": {},
      "outputs": [
        {
          "data": {
            "text/html": [
              "<span style=\"white-space:pre; font-family: monospace\">en-US\n",
              "\n",
              "</span>"
            ]
          },
          "execution_count": 262,
          "metadata": {},
          "output_type": "execute_result"
        }
      ],
      "source": [
        "\u2395\u2190 cc \u2190 System.Globalization.CultureInfo.CurrentCulture"
      ]
    },
    {
      "cell_type": "code",
      "execution_count": 266,
      "id": "casual-kelly",
      "metadata": {},
      "outputs": [
        {
          "data": {
            "text/html": [
              "<span style=\"white-space:pre; font-family: monospace\">English (United States)\n",
              "\n",
              "</span>"
            ]
          },
          "execution_count": 266,
          "metadata": {},
          "output_type": "execute_result"
        }
      ],
      "source": [
        "cc.EnglishName"
      ]
    },
    {
      "cell_type": "markdown",
      "id": "conscious-oasis",
      "metadata": {},
      "source": [
        "Now we can call the `String.Format` method, that returns a string, which appears in APL as a character vector:"
      ]
    },
    {
      "cell_type": "code",
      "execution_count": 267,
      "id": "professional-russia",
      "metadata": {},
      "outputs": [],
      "source": [
        "pi \u2190 \u25cb1"
      ]
    },
    {
      "cell_type": "code",
      "execution_count": 268,
      "id": "concerned-french",
      "metadata": {},
      "outputs": [
        {
          "data": {
            "text/html": [
              "<span style=\"white-space:pre; font-family: monospace\">3.14\n",
              "\n",
              "</span>"
            ]
          },
          "execution_count": 268,
          "metadata": {},
          "output_type": "execute_result"
        }
      ],
      "source": [
        "System.String.Format cc.NumberFormat '{0:F}' (,pi)"
      ]
    },
    {
      "cell_type": "markdown",
      "id": "photographic-dependence",
      "metadata": {},
      "source": [
        "The `0` in `{0:F}` is an index (selecting the first item in the data array), and `F` specifies fixed-point formatting.\n",
        "The default number of digits and the decimal separator to use are specified in the `NumberFormatInfo` object, which has a number of properties that we can inspect, if we need to know more about how numbers are formatted in the selected culture:"
      ]
    },
    {
      "cell_type": "code",
      "execution_count": 269,
      "id": "distributed-direction",
      "metadata": {},
      "outputs": [
        {
          "data": {
            "text/html": [
              "<span style=\"white-space:pre; font-family: monospace\">\u250c\u2500\u252c\u2500\u2510\n",
              "\u2502.\u25022\u2502\n",
              "\u2514\u2500\u2534\u2500\u2518\n",
              "\n",
              "</span>"
            ]
          },
          "execution_count": 269,
          "metadata": {},
          "output_type": "execute_result"
        }
      ],
      "source": [
        "cc.NumberFormat.(NumberDecimalSeparator NumberDecimalDigits)"
      ]
    },
    {
      "cell_type": "markdown",
      "id": "constitutional-costume",
      "metadata": {},
      "source": [
        "Of course, we don't have to use the default format; we can also specify the number of decimal digits that we want.\n",
        "In the following string we format the first number as a fixed-point number with 5 decimal digits and the second as a currency amount with 2 digits (`C2`):"
      ]
    },
    {
      "cell_type": "code",
      "execution_count": 295,
      "id": "serious-trouble",
      "metadata": {},
      "outputs": [
        {
          "data": {
            "text/html": [
              "<span style=\"white-space:pre; font-family: monospace\">Pi is 3.14159 and I have $6.28\n",
              "\n",
              "</span>"
            ]
          },
          "execution_count": 295,
          "metadata": {},
          "output_type": "execute_result"
        }
      ],
      "source": [
        "format \u2190 'Pi is {0:F5} and I have {1:C2}'\n",
        "System.String.Format cc.NumberFormat format (pi\u00d71 2)"
      ]
    },
    {
      "cell_type": "markdown",
      "id": "suited-williams",
      "metadata": {},
      "source": [
        "We also don't have to use the current culture, we can select any of the cultures known to the .NET framework:"
      ]
    },
    {
      "cell_type": "code",
      "execution_count": 296,
      "id": "generous-worker",
      "metadata": {},
      "outputs": [
        {
          "data": {
            "text/html": [
              "<span style=\"white-space:pre; font-family: monospace\">Pi is 3,14159 and I have 6,28 \u20ac\n",
              "\n",
              "</span>"
            ]
          },
          "execution_count": 296,
          "metadata": {},
          "output_type": "execute_result"
        }
      ],
      "source": [
        "fr \u2190 \u2395NEW System.Globalization.CultureInfo (\u2282'fr-FR')\n",
        "System.String.Format fr.NumberFormat format (pi\u00d71 2)"
      ]
    },
    {
      "cell_type": "markdown",
      "id": "raised-bahrain",
      "metadata": {},
      "source": [
        "We can format dates:"
      ]
    },
    {
      "cell_type": "code",
      "execution_count": 297,
      "id": "incorporate-artwork",
      "metadata": {},
      "outputs": [
        {
          "data": {
            "text/html": [
              "<span style=\"white-space:pre; font-family: monospace\">29-Jun-21 5:40:00 PM\n",
              "\n",
              "</span>"
            ]
          },
          "execution_count": 297,
          "metadata": {},
          "output_type": "execute_result"
        }
      ],
      "source": [
        "\u2395\u2190 jun29 \u2190 \u2395NEW System.DateTime (2021 6 29 17 40 0)"
      ]
    },
    {
      "cell_type": "code",
      "execution_count": 298,
      "id": "computational-storage",
      "metadata": {},
      "outputs": [
        {
          "data": {
            "text/html": [
              "<span style=\"white-space:pre; font-family: monospace\">Tuesday, 29 June, 2021\n",
              "\n",
              "</span>"
            ]
          },
          "execution_count": 298,
          "metadata": {},
          "output_type": "execute_result"
        }
      ],
      "source": [
        "System.String.Format cc.NumberFormat '{0:D}' (,jun29)"
      ]
    },
    {
      "cell_type": "markdown",
      "id": "sitting-platinum",
      "metadata": {},
      "source": [
        "There is also a wide variety of options and parameters for formatting dates, for example:"
      ]
    },
    {
      "cell_type": "code",
      "execution_count": 300,
      "id": "unnecessary-manor",
      "metadata": {},
      "outputs": [
        {
          "data": {
            "text/html": [
              "<span style=\"white-space:pre; font-family: monospace\">Short date: 29-Jun-21, custom date: 29 June 21 05:40\n",
              "\n",
              "</span>"
            ]
          },
          "execution_count": 300,
          "metadata": {},
          "output_type": "execute_result"
        }
      ],
      "source": [
        "format \u2190 'Short date: {0:d}, custom date: {0:dd MMMM yy hh:mm}'\n",
        "System.String.Format cc.NumberFormat format (,jun29)"
      ]
    },
    {
      "cell_type": "markdown",
      "id": "computational-locator",
      "metadata": {},
      "source": [
        "In the case of dates (and many other classes), the `System.DateTime` class itself has a `toString` method which hooks up to the same underlying functionality:"
      ]
    },
    {
      "cell_type": "code",
      "execution_count": 301,
      "id": "green-processing",
      "metadata": {},
      "outputs": [
        {
          "data": {
            "text/html": [
              "<span style=\"white-space:pre; font-family: monospace\">{2021, 29 juin}\n",
              "\n",
              "</span>"
            ]
          },
          "execution_count": 301,
          "metadata": {},
          "output_type": "execute_result"
        }
      ],
      "source": [
        "jun29.ToString '{yyyy, dd MMMM}' fr"
      ]
    },
    {
      "cell_type": "code",
      "execution_count": 310,
      "id": "choice-equality",
      "metadata": {},
      "outputs": [
        {
          "data": {
            "text/html": [
              "<span style=\"white-space:pre; font-family: monospace\">{29 June 21}\n",
              "\n",
              "</span>"
            ]
          },
          "execution_count": 310,
          "metadata": {},
          "output_type": "execute_result"
        }
      ],
      "source": [
        "jun29.ToString \u2282'{dd MMMM yy}'"
      ]
    },
    {
      "cell_type": "markdown",
      "id": "italic-prevention",
      "metadata": {},
      "source": [
        "The .NET base classes generally also contain a function called `Parse`, which performs the inverse operation:"
      ]
    },
    {
      "cell_type": "code",
      "execution_count": 314,
      "id": "digital-creator",
      "metadata": {},
      "outputs": [
        {
          "data": {
            "text/html": [
              "<span style=\"white-space:pre; font-family: monospace\">3.14\n",
              "\n",
              "</span>"
            ]
          },
          "execution_count": 314,
          "metadata": {},
          "output_type": "execute_result"
        }
      ],
      "source": [
        "System.Double.Parse \u2282'3.14'"
      ]
    },
    {
      "cell_type": "code",
      "execution_count": 315,
      "id": "fitting-newfoundland",
      "metadata": {},
      "outputs": [
        {
          "data": {
            "text/html": [
              "<span style=\"white-space:pre; font-family: monospace\">3.14\n",
              "\n",
              "</span>"
            ]
          },
          "execution_count": 315,
          "metadata": {},
          "output_type": "execute_result"
        }
      ],
      "source": [
        "System.Double.Parse '3,14' fr"
      ]
    },
    {
      "cell_type": "code",
      "execution_count": 317,
      "id": "persistent-alabama",
      "metadata": {},
      "outputs": [
        {
          "data": {
            "text/html": [
              "<span style=\"white-space:pre; font-family: monospace\">29-Jun-21 5:40:00 PM\n",
              "\n",
              "</span>"
            ]
          },
          "execution_count": 317,
          "metadata": {},
          "output_type": "execute_result"
        }
      ],
      "source": [
        "System.DateTime.Parse \u2282'29 june 2021 17:40'"
      ]
    },
    {
      "cell_type": "markdown",
      "id": "given-dodge",
      "metadata": {},
      "source": [
        "The examples above have only scratched the surface of the wide variety of formatting options which are available.\n",
        "More documentation of the available formatting options is available online at [https://docs.microsoft.com](https://docs.microsoft.com) (search for \"formatting types\").\n",
        "\n",
        "The related system function `\u2395DT` might also be relevant if you are particularly interested in working with dates/times."
      ]
    },
    {
      "cell_type": "code",
      "execution_count": null,
      "id": "expired-fancy",
      "metadata": {},
      "outputs": [],
      "source": []
    }
  ],
  "metadata": {
    "kernelspec": {
      "display_name": "Dyalog APL",
      "language": "apl",
      "name": "dyalog-kernel"
    },
    "language_info": {
      "file_extension": ".apl",
      "mimetype": "text/apl",
      "name": "APL"
    },
    "toc": {
      "base_numbering": 1,
      "nav_menu": {},
      "number_sections": false,
      "sideBar": true,
      "skip_h1_title": true,
      "title_cell": "Table of Contents",
      "title_sidebar": "Contents",
      "toc_cell": false,
      "toc_position": {
        "height": "calc(100% - 180px)",
        "left": "10px",
        "top": "150px",
        "width": "384px"
      },
      "toc_section_display": true,
      "toc_window_display": true
    }
  },
  "nbformat": 4,
  "nbformat_minor": 5
}