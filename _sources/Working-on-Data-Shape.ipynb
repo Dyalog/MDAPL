{
  "cells": [
    {
      "cell_type": "markdown",
      "id": "sharing-vietnam",
      "metadata": {},
      "source": [
        "(Working-on-Data-Shape-Working-on-Data-Shape)=\n",
        "# Working on Data Shape\n",
        "\n",
        "In many programming languages, the programmer has to declare the dimensions of an array statically, and it is often possible to operate on the individual items using programmer-written loops.\n",
        "\n",
        "In contrast to this, because APL processes arrays in their entirety, it is important to be able to manage the dimensions of an array dynamically.\n",
        "This is why this chapter presents a number of new tools that will help you perform these tasks.\n",
        "\n",
        "We have already studied functions which create arrays with specific shapes:\n",
        "\n",
        "| Name | Syntax | Explanation | Section |\n",
        "| :- | :-: | :- | :- |\n",
        "| Reshape | `x\u2374y` | Creates a new array with dimensions `x` and the data from `y`. | {numref}`Data-and-Variables-Create-a-List-or-a-Matrix` |\n",
        "| Catenate | `x,y` | Creates a new array by gluing `x` and `y` together. | {numref}`Some-Primitive-Functions-Catenate` |\n",
        "| Ravel | `,y` | Creates a vector from any array. | {numref}`Some-Primitive-Functions-Ravel` |\n",
        "| Compress | `x/y` | Selects parts of an array. | {numref}`Some-Primitive-Functions-Basic-Approach-Compress` |\n",
        "| Replicate | `x/y` | Generally replicates the items of an array. | {numref}`Some-Primitive-Functions-General-Case-Replicate` |\n",
        "| Indexing | `x[y]` | Creates a new array, often with modified dimensions. | {numref}`Data-and-Variables-Indexing` |\n",
        "| Index function | `x\u2337y` | Creates a new array, often with modified dimensions. | {numref}`Data-and-Variables-The-Index-Function` |"
      ]
    },
    {
      "cell_type": "markdown",
      "id": "alpine-cooperation",
      "metadata": {},
      "source": [
        "(Working-on-Data-Shape-Take-and-Drop)=\n",
        "## Take and Drop\n",
        "\n",
        "(Working-on-Data-Shape-Take-and-Drop-Applied-to-Vectors)=\n",
        "### Take and Drop Applied to Vectors\n",
        "\n",
        "(Working-on-Data-Shape-Starter)=\n",
        "#### Starter\n",
        "\n",
        "There are two functions, _take_ (`\u2191`) and _drop_ (`\u2193`), that can be used to extract or remove a number of elements from the beginning or end of a vector.\n",
        "The number is the left argument and its sign controls if the extraction/removal is done from the beginning or end of the vector.\n",
        "\n",
        " - _Take_ extracts the vector's head or tail; and\n",
        " - _Drop_ removes the vector's head or tail, and hence selects the remaining part.\n",
        "\n",
        "Let us test these functions:"
      ]
    },
    {
      "cell_type": "code",
      "execution_count": 1,
      "id": "scenic-cyprus",
      "metadata": {},
      "outputs": [],
      "source": [
        "nums \u2190 56 66 19 37 44 20 18 23 68 70 82"
      ]
    },
    {
      "cell_type": "markdown",
      "id": "practical-hybrid",
      "metadata": {},
      "source": [
        "With a positive left argument `n`, _take_ extracts the first `n` items:"
      ]
    },
    {
      "cell_type": "code",
      "execution_count": 2,
      "id": "freelance-screening",
      "metadata": {},
      "outputs": [
        {
          "data": {
            "text/html": [
              "<span style=\"white-space:pre; font-family: monospace\">56 66 19 37\n",
              "</span>"
            ]
          },
          "execution_count": 2,
          "metadata": {},
          "output_type": "execute_result"
        }
      ],
      "source": [
        "4\u2191nums"
      ]
    },
    {
      "cell_type": "markdown",
      "id": "latin-israel",
      "metadata": {},
      "source": [
        "It works on any kind of data (numbers, text),"
      ]
    },
    {
      "cell_type": "code",
      "execution_count": 3,
      "id": "native-science",
      "metadata": {},
      "outputs": [
        {
          "data": {
            "text/html": [
              "<span style=\"white-space:pre; font-family: monospace\">My na\n",
              "</span>"
            ]
          },
          "execution_count": 3,
          "metadata": {},
          "output_type": "execute_result"
        }
      ],
      "source": [
        "5\u2191'My name is Bond'"
      ]
    },
    {
      "cell_type": "markdown",
      "id": "lonely-ozone",
      "metadata": {},
      "source": [
        "including nested arrays:"
      ]
    },
    {
      "cell_type": "code",
      "execution_count": 4,
      "id": "fancy-passing",
      "metadata": {},
      "outputs": [
        {
          "data": {
            "text/html": [
              "<span style=\"white-space:pre; font-family: monospace\">\u250c\u2500\u2500\u2500\u252c\u2500\u2500\u2500\u2500\u2500\u2500\u2500\u2500\u2500\u2500\u2500\u2510\n",
              "\u25026 2\u250235 33 26 21\u2502\n",
              "\u2514\u2500\u2500\u2500\u2534\u2500\u2500\u2500\u2500\u2500\u2500\u2500\u2500\u2500\u2500\u2500\u2518\n",
              "</span>"
            ]
          },
          "execution_count": 4,
          "metadata": {},
          "output_type": "execute_result"
        }
      ],
      "source": [
        "2\u2191(6 2)(35 33 26 21)(42 73)(1 2 3)"
      ]
    },
    {
      "cell_type": "markdown",
      "id": "featured-single",
      "metadata": {},
      "source": [
        "With a negative left argument `n`, it extracts the last `|n` items of the vector, in their normal order:"
      ]
    },
    {
      "cell_type": "code",
      "execution_count": 5,
      "id": "victorian-cassette",
      "metadata": {},
      "outputs": [
        {
          "data": {
            "text/html": [
              "<span style=\"white-space:pre; font-family: monospace\">68 70 82\n",
              "</span>"
            ]
          },
          "execution_count": 5,
          "metadata": {},
          "output_type": "execute_result"
        }
      ],
      "source": [
        "\u00af3\u2191nums"
      ]
    },
    {
      "cell_type": "code",
      "execution_count": 6,
      "id": "maritime-fitness",
      "metadata": {},
      "outputs": [
        {
          "data": {
            "text/html": [
              "<span style=\"white-space:pre; font-family: monospace\">ssippi\n",
              "</span>"
            ]
          },
          "execution_count": 6,
          "metadata": {},
          "output_type": "execute_result"
        }
      ],
      "source": [
        "\u00af6\u2191'Mississippi'"
      ]
    },
    {
      "cell_type": "markdown",
      "id": "expensive-interview",
      "metadata": {},
      "source": [
        "Sometimes, these two operations are referred to as taking the \"head\" of the vector (with a positive left argument) and taking the \"tail\" of the vector (with a negative left argument).\n",
        "\n",
        "With a positive left argument `n`, _drop_ removes the first `n` items and returns the tail:"
      ]
    },
    {
      "cell_type": "code",
      "execution_count": 7,
      "id": "involved-teach",
      "metadata": {},
      "outputs": [
        {
          "data": {
            "text/html": [
              "<span style=\"white-space:pre; font-family: monospace\">44 20 18 23 68 70 82\n",
              "</span>"
            ]
          },
          "execution_count": 7,
          "metadata": {},
          "output_type": "execute_result"
        }
      ],
      "source": [
        "4\u2193nums"
      ]
    },
    {
      "cell_type": "code",
      "execution_count": 8,
      "id": "hired-mediterranean",
      "metadata": {},
      "outputs": [
        {
          "data": {
            "text/html": [
              "<span style=\"white-space:pre; font-family: monospace\">me is Bond\n",
              "</span>"
            ]
          },
          "execution_count": 8,
          "metadata": {},
          "output_type": "execute_result"
        }
      ],
      "source": [
        "5\u2193'My name is Bond'"
      ]
    },
    {
      "cell_type": "markdown",
      "id": "failing-telephone",
      "metadata": {},
      "source": [
        "With a negative left argument `n`, it removes the last `|n` items and returns the head:"
      ]
    },
    {
      "cell_type": "code",
      "execution_count": 9,
      "id": "mediterranean-stations",
      "metadata": {},
      "outputs": [
        {
          "data": {
            "text/html": [
              "<span style=\"white-space:pre; font-family: monospace\">Missi\n",
              "</span>"
            ]
          },
          "execution_count": 9,
          "metadata": {},
          "output_type": "execute_result"
        }
      ],
      "source": [
        "\u00af6\u2193'Mississippi'"
      ]
    },
    {
      "cell_type": "markdown",
      "id": "exciting-channels",
      "metadata": {},
      "source": [
        "<!--begin remark-->\n",
        "***Remark***:\n",
        "\n",
        " > You will have noticed that `4\u2191nums` and `\u00af7\u2193nums` both gave the same result `56 66 19 37`.\n",
        " >\n",
        " > At first sight it would appear that there is no need for both of these functions, and that one or other of _take_ and _drop_ is redundant.\n",
        " > There are, however, some differences that make it necessary to have both functions, as we will soon see.\n",
        "<!--end-->"
      ]
    },
    {
      "cell_type": "markdown",
      "id": "mediterranean-perspective",
      "metadata": {},
      "source": [
        "(Working-on-Data-Shape-Be-Careful)=\n",
        "#### Be Careful\n",
        "\n",
        "Do not confuse the two following expressions.\n",
        "\n",
        "We can take the **last** three items of a vector:"
      ]
    },
    {
      "cell_type": "code",
      "execution_count": 10,
      "id": "acute-flash",
      "metadata": {},
      "outputs": [
        {
          "data": {
            "text/html": [
              "<span style=\"white-space:pre; font-family: monospace\">68 70 82\n",
              "</span>"
            ]
          },
          "execution_count": 10,
          "metadata": {},
          "output_type": "execute_result"
        }
      ],
      "source": [
        "\u00af3\u2191nums"
      ]
    },
    {
      "cell_type": "markdown",
      "id": "common-administrator",
      "metadata": {},
      "source": [
        "Or we can take the first three items, and then change their sign:"
      ]
    },
    {
      "cell_type": "code",
      "execution_count": 11,
      "id": "motivated-envelope",
      "metadata": {},
      "outputs": [
        {
          "data": {
            "text/html": [
              "<span style=\"white-space:pre; font-family: monospace\">\u00af56 \u00af66 \u00af19\n",
              "</span>"
            ]
          },
          "execution_count": 11,
          "metadata": {},
          "output_type": "execute_result"
        }
      ],
      "source": [
        "-3\u2191nums"
      ]
    },
    {
      "cell_type": "markdown",
      "id": "british-grave",
      "metadata": {},
      "source": [
        "On another note, the result of _take_ and _drop_ applied to a vector remains a vector, even if it has only one item:"
      ]
    },
    {
      "cell_type": "code",
      "execution_count": 12,
      "id": "weird-bernard",
      "metadata": {},
      "outputs": [
        {
          "data": {
            "text/html": [
              "<span style=\"white-space:pre; font-family: monospace\">1\n",
              "</span>"
            ]
          },
          "execution_count": 12,
          "metadata": {},
          "output_type": "execute_result"
        }
      ],
      "source": [
        "\u23741\u2191nums"
      ]
    },
    {
      "cell_type": "code",
      "execution_count": 13,
      "id": "remarkable-cheat",
      "metadata": {},
      "outputs": [
        {
          "data": {
            "text/html": [
              "<span style=\"white-space:pre; font-family: monospace\">1\n",
              "</span>"
            ]
          },
          "execution_count": 13,
          "metadata": {},
          "output_type": "execute_result"
        }
      ],
      "source": [
        "\u237410\u2193nums"
      ]
    },
    {
      "cell_type": "markdown",
      "id": "developmental-lying",
      "metadata": {},
      "source": [
        "Although the results of the two expressions above would contain only one item, they are 1-item vectors, and not scalars."
      ]
    },
    {
      "cell_type": "markdown",
      "id": "acceptable-sperm",
      "metadata": {},
      "source": [
        "(Working-on-Data-Shape-Produce-Empty-Vectors)=\n",
        "#### Produce Empty Vectors\n",
        "\n",
        "Of course, if you take no items, or if you drop all the items, the result is an empty vector of the same type (numeric or character) as the original vector:"
      ]
    },
    {
      "cell_type": "code",
      "execution_count": 14,
      "id": "cordless-excess",
      "metadata": {},
      "outputs": [
        {
          "data": {
            "text/html": [
              "<span style=\"white-space:pre; font-family: monospace\">\n",
              "</span>"
            ]
          },
          "execution_count": 14,
          "metadata": {},
          "output_type": "execute_result"
        }
      ],
      "source": [
        "0\u2191nums"
      ]
    },
    {
      "cell_type": "code",
      "execution_count": 15,
      "id": "matched-module",
      "metadata": {},
      "outputs": [
        {
          "data": {
            "text/html": [
              "<span style=\"white-space:pre; font-family: monospace\">\n",
              "</span>"
            ]
          },
          "execution_count": 15,
          "metadata": {},
          "output_type": "execute_result"
        }
      ],
      "source": [
        "22\u2193nums"
      ]
    },
    {
      "cell_type": "code",
      "execution_count": 16,
      "id": "indonesian-member",
      "metadata": {},
      "outputs": [
        {
          "data": {
            "text/html": [
              "<span style=\"white-space:pre; font-family: monospace\">\n",
              "</span>"
            ]
          },
          "execution_count": 16,
          "metadata": {},
          "output_type": "execute_result"
        }
      ],
      "source": [
        "14\u2193'Empty'"
      ]
    },
    {
      "cell_type": "markdown",
      "id": "imported-beijing",
      "metadata": {},
      "source": [
        "Although all of the results above are empty vectors, we know that they are different if the original vectors have different types of data:"
      ]
    },
    {
      "cell_type": "code",
      "execution_count": 17,
      "id": "pregnant-korean",
      "metadata": {},
      "outputs": [
        {
          "data": {
            "text/html": [
              "<span style=\"white-space:pre; font-family: monospace\">0\n",
              "</span>"
            ]
          },
          "execution_count": 17,
          "metadata": {},
          "output_type": "execute_result"
        }
      ],
      "source": [
        "(22\u2193nums)\u2261(14\u2193'Empty')"
      ]
    },
    {
      "cell_type": "markdown",
      "id": "looking-wilson",
      "metadata": {},
      "source": [
        "Take a look at {numref}`Data-and-Variables-Empty-Arrays` for a reminder of how empty arrays work."
      ]
    },
    {
      "cell_type": "markdown",
      "id": "matched-newfoundland",
      "metadata": {},
      "source": [
        "(Working-on-Data-Shape-Take-More-Cash-Than-You-Have)=\n",
        "#### Take More Cash Than You Have\n",
        "\n",
        "The _take_ function has a very special property: it allows you to take more items than there really are.\n",
        "If so, it pads the result with _fill items_; zeroes for a numeric vector, and blanks for a text vector:"
      ]
    },
    {
      "cell_type": "code",
      "execution_count": 18,
      "id": "gentle-meaning",
      "metadata": {},
      "outputs": [],
      "source": [
        "cash \u2190 45 23 18 92"
      ]
    },
    {
      "cell_type": "markdown",
      "id": "aging-favorite",
      "metadata": {},
      "source": [
        "If we take too many items, zeroes are appended to the vector:"
      ]
    },
    {
      "cell_type": "code",
      "execution_count": 19,
      "id": "hindu-harvard",
      "metadata": {},
      "outputs": [
        {
          "data": {
            "text/html": [
              "<span style=\"white-space:pre; font-family: monospace\">45 23 18 92 0 0 0\n",
              "</span>"
            ]
          },
          "execution_count": 19,
          "metadata": {},
          "output_type": "execute_result"
        }
      ],
      "source": [
        "7\u2191cash"
      ]
    },
    {
      "cell_type": "markdown",
      "id": "after-lawsuit",
      "metadata": {},
      "source": [
        "With negative left arguments, starting from the tail, the zeroes are placed before the existing items:"
      ]
    },
    {
      "cell_type": "code",
      "execution_count": 20,
      "id": "precise-increase",
      "metadata": {},
      "outputs": [
        {
          "data": {
            "text/html": [
              "<span style=\"white-space:pre; font-family: monospace\">0 0 0 0 0 45 23 18 92\n",
              "</span>"
            ]
          },
          "execution_count": 20,
          "metadata": {},
          "output_type": "execute_result"
        }
      ],
      "source": [
        "\u00af9\u2191cash"
      ]
    },
    {
      "cell_type": "markdown",
      "id": "further-better",
      "metadata": {},
      "source": [
        "For character vectors, spaces are appended:"
      ]
    },
    {
      "cell_type": "code",
      "execution_count": 21,
      "id": "amber-jurisdiction",
      "metadata": {},
      "outputs": [
        {
          "data": {
            "text/html": [
              "<span style=\"white-space:pre; font-family: monospace\">Invisible   \n",
              "</span>"
            ]
          },
          "execution_count": 21,
          "metadata": {},
          "output_type": "execute_result"
        }
      ],
      "source": [
        "12\u2191'Invisible'"
      ]
    },
    {
      "cell_type": "markdown",
      "id": "funky-ferry",
      "metadata": {},
      "source": [
        "However, you have to be careful because those do not show:"
      ]
    },
    {
      "cell_type": "code",
      "execution_count": 22,
      "id": "marine-leader",
      "metadata": {},
      "outputs": [
        {
          "data": {
            "text/html": [
              "<span style=\"white-space:pre; font-family: monospace\">Invisible   .\n",
              "</span>"
            ]
          },
          "execution_count": 22,
          "metadata": {},
          "output_type": "execute_result"
        }
      ],
      "source": [
        "(12\u2191'Invisible'),'.'"
      ]
    },
    {
      "cell_type": "markdown",
      "id": "automotive-nomination",
      "metadata": {},
      "source": [
        "Starting from the right, with a negative left argument, the blanks are appended to the left and are a bit easier to see:"
      ]
    },
    {
      "cell_type": "code",
      "execution_count": 23,
      "id": "everyday-cinema",
      "metadata": {},
      "outputs": [
        {
          "data": {
            "text/html": [
              "<span style=\"white-space:pre; font-family: monospace\">     Visible\n",
              "</span>"
            ]
          },
          "execution_count": 23,
          "metadata": {},
          "output_type": "execute_result"
        }
      ],
      "source": [
        "\u00af12\u2191'Visible'"
      ]
    },
    {
      "cell_type": "markdown",
      "id": "present-healing",
      "metadata": {},
      "source": [
        "In fact, the concept of _fill item_ is a bit more complex than this; it will be studied in detail in {numref}`Nested-Arrays-Continued-Prototype-Fill-Item`.\n",
        "\n",
        "The concept of \"taking more than you have\" is sometimes referred to as _overtaking_.\n",
        "This is an application of _take_ that cannot be performed using _drop_ alone.\n",
        "\n",
        "This property applies equally to empty vectors; they are filled with as many zeroes or blanks as specified.\n",
        "This means that the result will be different for empty numeric and empty character vectors:"
      ]
    },
    {
      "cell_type": "code",
      "execution_count": 24,
      "id": "small-yacht",
      "metadata": {},
      "outputs": [
        {
          "data": {
            "text/html": [
              "<span style=\"white-space:pre; font-family: monospace\">\u250c\u2192\u2500\u2500\u2500\u2500\u2500\u2500\u2510\n",
              "\u25020 0 0 0\u2502\n",
              "\u2514~\u2500\u2500\u2500\u2500\u2500\u2500\u2518\n",
              "</span>"
            ]
          },
          "execution_count": 24,
          "metadata": {},
          "output_type": "execute_result"
        }
      ],
      "source": [
        "]display 4\u2191\u236c"
      ]
    },
    {
      "cell_type": "code",
      "execution_count": 25,
      "id": "accurate-cooperative",
      "metadata": {},
      "outputs": [
        {
          "data": {
            "text/html": [
              "<span style=\"white-space:pre; font-family: monospace\">\u250c\u2192\u2500\u2500\u2500\u2510\n",
              "\u2502    \u2502\n",
              "\u2514\u2500\u2500\u2500\u2500\u2518\n",
              "</span>"
            ]
          },
          "execution_count": 25,
          "metadata": {},
          "output_type": "execute_result"
        }
      ],
      "source": [
        "]display 4\u2191''"
      ]
    },
    {
      "cell_type": "markdown",
      "id": "applicable-clark",
      "metadata": {},
      "source": [
        "(Working-on-Data-Shape-Three-Basic-Applications)=\n",
        "### Three Basic Applications\n",
        "\n",
        "(Working-on-Data-Shape-Determine-the-Type-of-a-Variable)=\n",
        "#### Determine the Type of a Variable\n",
        "\n",
        "The property we have just seen can be used to determine whether an array is numeric or character, provided that it is simple and homogeneous (neither _mixed_ nor _nested_).\n",
        "The method is simple: create an empty vector \"filled\" with the array (`0\u2374\u2375`), then take one item of it (`1\u2191`), and compare with `0`.\n",
        "This will return `1` (true) for a numeric array, and `0` (false) for a character array.\n",
        "A little dfn will do that for us:"
      ]
    },
    {
      "cell_type": "code",
      "execution_count": 26,
      "id": "collective-threat",
      "metadata": {},
      "outputs": [],
      "source": [
        "TypeOf \u2190 {0=1\u21910\u2374\u2375}"
      ]
    },
    {
      "cell_type": "code",
      "execution_count": 27,
      "id": "physical-title",
      "metadata": {},
      "outputs": [
        {
          "data": {
            "text/html": [
              "<span style=\"white-space:pre; font-family: monospace\">1\n",
              "</span>"
            ]
          },
          "execution_count": 27,
          "metadata": {},
          "output_type": "execute_result"
        }
      ],
      "source": [
        "TypeOf nums"
      ]
    },
    {
      "cell_type": "code",
      "execution_count": 28,
      "id": "renewable-floor",
      "metadata": {},
      "outputs": [
        {
          "data": {
            "text/html": [
              "<span style=\"white-space:pre; font-family: monospace\">0\n",
              "</span>"
            ]
          },
          "execution_count": 28,
          "metadata": {},
          "output_type": "execute_result"
        }
      ],
      "source": [
        "TypeOf 'Character vector'"
      ]
    },
    {
      "cell_type": "markdown",
      "id": "comfortable-theta",
      "metadata": {},
      "source": [
        "This function wouldn't work on a mixed or nested variable.\n",
        "Again, you will understand why when we talk about _fill items_ in {numref}`Nested-Arrays-Continued-Prototype-Fill-Item`.\n",
        "We shall see in [a later chapter](./System-Interfaces.ipynb) that APL has a _system function_ that does the job much better."
      ]
    },
    {
      "cell_type": "markdown",
      "id": "altered-tutorial",
      "metadata": {},
      "source": [
        "(Working-on-Data-Shape-Change-a-Vector-into-a-Matrix)=\n",
        "#### Change a Vector into a Matrix\n",
        "\n",
        "Sometimes you want a variable `var` to be a matrix, although you are not sure of its current rank.\n",
        "\n",
        "If it is already a matrix, you want to leave it unchanged, and if it is a vector, you want to change it into a one-row matrix.\n",
        "The following function should help:"
      ]
    },
    {
      "cell_type": "code",
      "execution_count": 29,
      "id": "organized-blackjack",
      "metadata": {},
      "outputs": [],
      "source": [
        "HorMat \u2190 {(\u00af2\u21911,\u2374\u2375)\u2374\u2375}"
      ]
    },
    {
      "cell_type": "markdown",
      "id": "vocal-wound",
      "metadata": {},
      "source": [
        "Notice that the shape of the following matrix remains unchanged:"
      ]
    },
    {
      "cell_type": "code",
      "execution_count": 30,
      "id": "driving-duration",
      "metadata": {},
      "outputs": [
        {
          "data": {
            "text/html": [
              "<span style=\"white-space:pre; font-family: monospace\">3 5\n",
              "</span>"
            ]
          },
          "execution_count": 30,
          "metadata": {},
          "output_type": "execute_result"
        }
      ],
      "source": [
        "\u2374HorMat 3 5\u2374\u23735"
      ]
    },
    {
      "cell_type": "markdown",
      "id": "corporate-coach",
      "metadata": {},
      "source": [
        "But the vector is \"promoted\" into a matrix:"
      ]
    },
    {
      "cell_type": "code",
      "execution_count": 31,
      "id": "third-arabic",
      "metadata": {},
      "outputs": [
        {
          "data": {
            "text/html": [
              "<span style=\"white-space:pre; font-family: monospace\">1 16\n",
              "</span>"
            ]
          },
          "execution_count": 31,
          "metadata": {},
          "output_type": "execute_result"
        }
      ],
      "source": [
        "\u2374HorMat 'This is a vector'"
      ]
    },
    {
      "cell_type": "markdown",
      "id": "signed-cabin",
      "metadata": {},
      "source": [
        "Let's break down how `HorMat` works:\n",
        "\n",
        " 1. we first append `1` to the shape of the argument, which gives `1 3 5` for the matrix and `1 16` for the vector;\n",
        " 2. next, we keep only the last two items, which gives `3 5` for the matrix and `1 16` for the vector;\n",
        " 3. the final _reshape_ returns an unchanged matrix, or transforms a vector intro a matrix.\n",
        "\n",
        "We can change vectors into 1-column matrices with a very similar function, which also leaves matrices unchanged:"
      ]
    },
    {
      "cell_type": "code",
      "execution_count": 32,
      "id": "cloudy-talent",
      "metadata": {},
      "outputs": [],
      "source": [
        "VerMat \u2190 {(2\u2191(\u2374\u2375),1)\u2374\u2375}"
      ]
    },
    {
      "cell_type": "code",
      "execution_count": 33,
      "id": "incoming-composite",
      "metadata": {},
      "outputs": [
        {
          "data": {
            "text/html": [
              "<span style=\"white-space:pre; font-family: monospace\">V\n",
              "e\n",
              "r\n",
              "t\n",
              "i\n",
              "c\n",
              "a\n",
              "l\n",
              "l\n",
              "y\n",
              "?\n",
              "</span>"
            ]
          },
          "execution_count": 33,
          "metadata": {},
          "output_type": "execute_result"
        }
      ],
      "source": [
        "VerMat 'Vertically?'"
      ]
    },
    {
      "cell_type": "markdown",
      "id": "aggregate-bhutan",
      "metadata": {},
      "source": [
        "(Working-on-Data-Shape-Calculate-Growth-Rates)=\n",
        "#### Calculate Growth Rates\n",
        "\n",
        "Let us imagine a business with a turnover which has grown over 12 years.\n",
        "The variable `tome` is TurnOver in Millions of Euros:"
      ]
    },
    {
      "cell_type": "code",
      "execution_count": 34,
      "id": "legal-lemon",
      "metadata": {},
      "outputs": [],
      "source": [
        "tome \u2190 56 59 67 64 60 61 68 73 78 75 81 84"
      ]
    },
    {
      "cell_type": "markdown",
      "id": "great-opening",
      "metadata": {},
      "source": [
        "We want to calculate the difference between each year and the next; how do we achieve this?"
      ]
    },
    {
      "cell_type": "code",
      "execution_count": 35,
      "id": "foreign-pound",
      "metadata": {},
      "outputs": [
        {
          "data": {
            "text/html": [
              "<span style=\"white-space:pre; font-family: monospace\">59 67 64 60 61 68 73 78 75 81 84\n",
              "</span>"
            ]
          },
          "execution_count": 35,
          "metadata": {},
          "output_type": "execute_result"
        }
      ],
      "source": [
        "1\u2193tome"
      ]
    },
    {
      "cell_type": "code",
      "execution_count": 36,
      "id": "japanese-richmond",
      "metadata": {},
      "outputs": [
        {
          "data": {
            "text/html": [
              "<span style=\"white-space:pre; font-family: monospace\">56 59 67 64 60 61 68 73 78 75 81\n",
              "</span>"
            ]
          },
          "execution_count": 36,
          "metadata": {},
          "output_type": "execute_result"
        }
      ],
      "source": [
        "\u00af1\u2193tome"
      ]
    },
    {
      "cell_type": "markdown",
      "id": "provincial-ferry",
      "metadata": {},
      "source": [
        "All that remains is to subtract the results of these expressions one from the other, item by item:"
      ]
    },
    {
      "cell_type": "code",
      "execution_count": 37,
      "id": "united-playing",
      "metadata": {},
      "outputs": [
        {
          "data": {
            "text/html": [
              "<span style=\"white-space:pre; font-family: monospace\">3 8 \u00af3 \u00af4 1 7 5 5 \u00af3 6 3\n",
              "</span>"
            ]
          },
          "execution_count": 37,
          "metadata": {},
          "output_type": "execute_result"
        }
      ],
      "source": [
        "(1\u2193tome)-(\u00af1\u2193tome)"
      ]
    },
    {
      "cell_type": "markdown",
      "id": "typical-thing",
      "metadata": {},
      "source": [
        "If instead of subtraction we used division, we would calculate (with some adjustments) the rates of growth instead of the differences.\n",
        "Let us upt that in a small dfn, and apply it:"
      ]
    },
    {
      "cell_type": "code",
      "execution_count": 38,
      "id": "second-remainder",
      "metadata": {},
      "outputs": [],
      "source": [
        "Growth \u2190 {100\u00d7((1\u2193\u2375)\u00f7(\u00af1\u2193\u2375))-1}"
      ]
    },
    {
      "cell_type": "code",
      "execution_count": 39,
      "id": "allied-simon",
      "metadata": {},
      "outputs": [
        {
          "data": {
            "text/html": [
              "<span style=\"white-space:pre; font-family: monospace\"> 5.36 13.56 \u00af4.48 \u00af6.25 1.67 11.48 7.35 6.85 \u00af3.85 8.00 3.70\n",
              "</span>"
            ]
          },
          "execution_count": 39,
          "metadata": {},
          "output_type": "execute_result"
        }
      ],
      "source": [
        "2\u2355Growth tome"
      ]
    },
    {
      "cell_type": "markdown",
      "id": "happy-newfoundland",
      "metadata": {},
      "source": [
        "(Working-on-Data-Shape-Take-and-Drop-Applied-to-Arrays)=\n",
        "### Take and Drop Applied to Arrays\n",
        "\n",
        "The functions _take_ and _drop_ can be applied to any array so long as the left argument contains a number of items that is equal to or smaller than the number of dimensions (the _rank_) of the array.\n",
        "\n",
        "In the expressions `ns\u2191array` and `ns\u2193array`, `\u2262ns` must be less than or equal to `\u2262\u2374array`.\n",
        "\n",
        "For the examples that follow, we shall work on the following matrix:"
      ]
    },
    {
      "cell_type": "code",
      "execution_count": 40,
      "id": "psychological-cooper",
      "metadata": {},
      "outputs": [],
      "source": [
        "mat \u2190 3 4\u237413 52 33 81 42 62 70 47 51 73 28 19"
      ]
    },
    {
      "cell_type": "markdown",
      "id": "paperback-enzyme",
      "metadata": {},
      "source": [
        "`mat` is an integer matrix but _take_ and _drop_ work the same for character arrays, and even for _nested_ and/or _mixed_ arrays."
      ]
    },
    {
      "cell_type": "markdown",
      "id": "obvious-potato",
      "metadata": {},
      "source": [
        "(Working-on-Data-Shape-Maximal-Length-Left-Argument)=\n",
        "#### Maximal-Length Left Argument\n",
        "\n",
        "We start by exploring what happens when the left argument has the maximal length it can have, that is, when `(\u2262ns)=\u2262\u2374array` in the expression `ns\u2191array` or `ns\u2193array`.\n",
        "\n",
        "If we want to take the 2 top rows and the 3 left columns of `mat`, we write"
      ]
    },
    {
      "cell_type": "code",
      "execution_count": 41,
      "id": "heard-tucson",
      "metadata": {
        "scrolled": false
      },
      "outputs": [
        {
          "data": {
            "text/html": [
              "<span style=\"white-space:pre; font-family: monospace\">13 52 33\n",
              "42 62 70\n",
              "</span>"
            ]
          },
          "execution_count": 41,
          "metadata": {},
          "output_type": "execute_result"
        }
      ],
      "source": [
        "2 3\u2191mat"
      ]
    },
    {
      "cell_type": "markdown",
      "id": "expanded-compression",
      "metadata": {},
      "source": [
        "The elements of the left argument are paired up with the axes of the right argument array, and that is why `2 3\u2191mat` takes 2 _rows_ and then 3 _columns_, because the first axis specifies the number of rows and the second one the number of columns.\n",
        "\n",
        "In order to drop the top row and 2 columns _from the right_, we write"
      ]
    },
    {
      "cell_type": "code",
      "execution_count": 42,
      "id": "polish-found",
      "metadata": {},
      "outputs": [
        {
          "data": {
            "text/html": [
              "<span style=\"white-space:pre; font-family: monospace\">42 62\n",
              "51 73\n",
              "</span>"
            ]
          },
          "execution_count": 42,
          "metadata": {},
          "output_type": "execute_result"
        }
      ],
      "source": [
        "1 \u00af2\u2193mat"
      ]
    },
    {
      "cell_type": "markdown",
      "id": "disturbed-darkness",
      "metadata": {},
      "source": [
        "If we take 5 rows starting from the bottom and 3 columns starting from the left, we get"
      ]
    },
    {
      "cell_type": "code",
      "execution_count": 43,
      "id": "fitting-latino",
      "metadata": {},
      "outputs": [
        {
          "data": {
            "text/html": [
              "<span style=\"white-space:pre; font-family: monospace\"> 0  0  0\n",
              " 0  0  0\n",
              "13 52 33\n",
              "42 62 70\n",
              "51 73 28\n",
              "</span>"
            ]
          },
          "execution_count": 43,
          "metadata": {},
          "output_type": "execute_result"
        }
      ],
      "source": [
        "\u00af5 3\u2191mat"
      ]
    },
    {
      "cell_type": "markdown",
      "id": "accredited-shell",
      "metadata": {},
      "source": [
        "The two extra rows are added on the top of `mat` because we asked for 5 rows _starting from the bottom_.\n",
        "\n",
        "Dropping 1 row starting from the bottom and 3 columns starting from the left, we get"
      ]
    },
    {
      "cell_type": "code",
      "execution_count": 44,
      "id": "boring-washington",
      "metadata": {},
      "outputs": [
        {
          "data": {
            "text/html": [
              "<span style=\"white-space:pre; font-family: monospace\">81\n",
              "47\n",
              "</span>"
            ]
          },
          "execution_count": 44,
          "metadata": {},
          "output_type": "execute_result"
        }
      ],
      "source": [
        "\u00af1 3\u2193mat"
      ]
    },
    {
      "cell_type": "markdown",
      "id": "unknown-personal",
      "metadata": {},
      "source": [
        "In the example above, we have dropped 3 out of the 4 columns available, so there is only one left, but it is still a 1-column matrix; it has not been changed into a vector.\n",
        "This is similar to how `1\u2191vector` in a vector returns a 1-element vector, not a scalar.\n",
        "In short, the functions _take_ and _drop_ return a result with the same rank as the right argument, regardless of the number of elements in the result.\n",
        "\n",
        "As for vectors, it is often possible to use _take_ or _drop_ interchangeably to obtain the same result:"
      ]
    },
    {
      "cell_type": "code",
      "execution_count": 45,
      "id": "junior-disclaimer",
      "metadata": {},
      "outputs": [
        {
          "data": {
            "text/html": [
              "<span style=\"white-space:pre; font-family: monospace\">52 33 81\n",
              "62 70 47\n",
              "</span>"
            ]
          },
          "execution_count": 45,
          "metadata": {},
          "output_type": "execute_result"
        }
      ],
      "source": [
        "2 \u00af3\u2191mat"
      ]
    },
    {
      "cell_type": "code",
      "execution_count": 46,
      "id": "checked-grade",
      "metadata": {},
      "outputs": [
        {
          "data": {
            "text/html": [
              "<span style=\"white-space:pre; font-family: monospace\">52 33 81\n",
              "62 70 47\n",
              "</span>"
            ]
          },
          "execution_count": 46,
          "metadata": {},
          "output_type": "execute_result"
        }
      ],
      "source": [
        "\u00af1 1\u2193mat"
      ]
    },
    {
      "cell_type": "markdown",
      "id": "economic-medline",
      "metadata": {},
      "source": [
        "(Working-on-Data-Shape-Short-Left-Argument)=\n",
        "#### Short Left Argument\n",
        "\n",
        "<!-- (TODO) Write about Leading Axis Theory somewhere and talk about this example -->\n",
        "If one or more of the trailing dimensions of the array are to remain unchanged, then one need only specify the parameters for the leading dimensions.\n",
        "\n",
        "For example, suppose that we want to extract the first 2 rows of `mat`.\n",
        "We know its shape is `3 4`, so we can easily write"
      ]
    },
    {
      "cell_type": "code",
      "execution_count": 47,
      "id": "exterior-design",
      "metadata": {},
      "outputs": [
        {
          "data": {
            "text/html": [
              "<span style=\"white-space:pre; font-family: monospace\">13 52 33 81\n",
              "42 62 70 47\n",
              "</span>"
            ]
          },
          "execution_count": 47,
          "metadata": {},
          "output_type": "execute_result"
        }
      ],
      "source": [
        "2 4\u2191mat"
      ]
    },
    {
      "cell_type": "markdown",
      "id": "contemporary-constitutional",
      "metadata": {},
      "source": [
        "But if we didn't know its shape in advance, we would have to resort to something like"
      ]
    },
    {
      "cell_type": "code",
      "execution_count": 48,
      "id": "selected-encoding",
      "metadata": {},
      "outputs": [
        {
          "data": {
            "text/html": [
              "<span style=\"white-space:pre; font-family: monospace\">13 52 33 81\n",
              "42 62 70 47\n",
              "</span>"
            ]
          },
          "execution_count": 48,
          "metadata": {},
          "output_type": "execute_result"
        }
      ],
      "source": [
        "(2,\u00af1\u2191\u2374mat)\u2191mat"
      ]
    },
    {
      "cell_type": "markdown",
      "id": "recovered-flour",
      "metadata": {},
      "source": [
        "which is a bit cumbersome and, as it turns out, far from optimal.\n",
        "\n",
        "In a matrix, the first axis denotes the rows, so we can pick the first 2 rows by just specifying the `2` in the left argument to _take_:"
      ]
    },
    {
      "cell_type": "code",
      "execution_count": 49,
      "id": "assisted-cleanup",
      "metadata": {},
      "outputs": [
        {
          "data": {
            "text/html": [
              "<span style=\"white-space:pre; font-family: monospace\">13 52 33 81\n",
              "42 62 70 47\n",
              "</span>"
            ]
          },
          "execution_count": 49,
          "metadata": {},
          "output_type": "execute_result"
        }
      ],
      "source": [
        "2\u2191mat"
      ]
    },
    {
      "cell_type": "markdown",
      "id": "selected-tourist",
      "metadata": {},
      "source": [
        "This works for arrays of arbitrarily high rank.\n",
        "For example, recall the 3D array `prod`, that contained monthly (12) production values of 2 assembly lines, throughout the course of 5 years:"
      ]
    },
    {
      "cell_type": "code",
      "execution_count": 50,
      "id": "bright-ethics",
      "metadata": {},
      "outputs": [
        {
          "data": {
            "text/html": [
              "<span style=\"white-space:pre; font-family: monospace\"> 9 16 42 50  2  3 11 45 17 37 29 36\n",
              "34 19 32 12 37 15 46 24 49 28 36  9\n",
              "                                   \n",
              "29  5 45 23 27  4 23 16 39 22 22  2\n",
              "46 20 47 17 18 25 13 38 42 38 45 28\n",
              "                                   \n",
              "37 19  5 10 30 49 16 18 46 47 47  3\n",
              "39 23 41 20  6 40 21 22 40 49 20  1\n",
              "                                   \n",
              "13 36 12 40 12 15 24 20 21 12 19 25\n",
              " 8 48 22 37 33  1 39 30 50 50  8 35\n",
              "                                   \n",
              "38 31 24 40 23  7 20 34 35  6 19 27\n",
              "41  1 14 50 17 42  6 35 12 48 30 29\n",
              "</span>"
            ]
          },
          "execution_count": 50,
          "metadata": {},
          "output_type": "execute_result"
        }
      ],
      "source": [
        "\u2395RL \u2190 73\n",
        "\u2395\u2190 prod \u2190 ?5 2 12\u237450"
      ]
    },
    {
      "cell_type": "markdown",
      "id": "decimal-northeast",
      "metadata": {},
      "source": [
        "We can get the production values for the first 2 years with:"
      ]
    },
    {
      "cell_type": "code",
      "execution_count": 51,
      "id": "hollow-banana",
      "metadata": {},
      "outputs": [
        {
          "data": {
            "text/html": [
              "<span style=\"white-space:pre; font-family: monospace\"> 9 16 42 50  2  3 11 45 17 37 29 36\n",
              "34 19 32 12 37 15 46 24 49 28 36  9\n",
              "                                   \n",
              "29  5 45 23 27  4 23 16 39 22 22  2\n",
              "46 20 47 17 18 25 13 38 42 38 45 28\n",
              "</span>"
            ]
          },
          "execution_count": 51,
          "metadata": {},
          "output_type": "execute_result"
        }
      ],
      "source": [
        "2\u2191prod"
      ]
    },
    {
      "cell_type": "markdown",
      "id": "responsible-active",
      "metadata": {},
      "source": [
        "But we can also get the production values for the first 4 years and only for the first assembly line:"
      ]
    },
    {
      "cell_type": "code",
      "execution_count": 52,
      "id": "harmful-queue",
      "metadata": {},
      "outputs": [
        {
          "data": {
            "text/html": [
              "<span style=\"white-space:pre; font-family: monospace\"> 9 16 42 50  2  3 11 45 17 37 29 36\n",
              "                                   \n",
              "29  5 45 23 27  4 23 16 39 22 22  2\n",
              "                                   \n",
              "37 19  5 10 30 49 16 18 46 47 47  3\n",
              "                                   \n",
              "13 36 12 40 12 15 24 20 21 12 19 25\n",
              "</span>"
            ]
          },
          "execution_count": 52,
          "metadata": {},
          "output_type": "execute_result"
        }
      ],
      "source": [
        "4 1\u2191prod"
      ]
    },
    {
      "cell_type": "markdown",
      "id": "blessed-visitor",
      "metadata": {},
      "source": [
        "Naturally, _drop_ can also be used with a left argument whose length is smaller than the rank of the argument.\n",
        "For example, we can drop the first row of a matrix:"
      ]
    },
    {
      "cell_type": "code",
      "execution_count": 53,
      "id": "literary-toddler",
      "metadata": {},
      "outputs": [
        {
          "data": {
            "text/html": [
              "<span style=\"white-space:pre; font-family: monospace\">42 62 70 47\n",
              "51 73 28 19\n",
              "</span>"
            ]
          },
          "execution_count": 53,
          "metadata": {},
          "output_type": "execute_result"
        }
      ],
      "source": [
        "1\u2193mat"
      ]
    },
    {
      "cell_type": "markdown",
      "id": "entitled-think",
      "metadata": {},
      "source": [
        "Or we can drop the production values of the _last_ year and of the first assembly line:"
      ]
    },
    {
      "cell_type": "code",
      "execution_count": 54,
      "id": "eleven-slovak",
      "metadata": {},
      "outputs": [
        {
          "data": {
            "text/html": [
              "<span style=\"white-space:pre; font-family: monospace\">34 19 32 12 37 15 46 24 49 28 36  9\n",
              "                                   \n",
              "46 20 47 17 18 25 13 38 42 38 45 28\n",
              "                                   \n",
              "39 23 41 20  6 40 21 22 40 49 20  1\n",
              "                                   \n",
              " 8 48 22 37 33  1 39 30 50 50  8 35\n",
              "</span>"
            ]
          },
          "execution_count": 54,
          "metadata": {},
          "output_type": "execute_result"
        }
      ],
      "source": [
        "\u00af1 1\u2193prod"
      ]
    },
    {
      "cell_type": "markdown",
      "id": "instructional-western",
      "metadata": {},
      "source": [
        "In {numref}`Working-on-Data-Shape-Exercises` you can find a rule to compute the shape of the final result of a _take_ (or _drop_) operation in terms of the left argument and the shape of the right argument."
      ]
    },
    {
      "cell_type": "markdown",
      "id": "assured-washer",
      "metadata": {},
      "source": [
        "(Working-on-Data-Shape-Short-Left-Argument-with-Axis-Specification)=\n",
        "#### Short Left Argument with Axis Specification\n",
        "\n",
        "When you provide a left argument that has less elements than the number of axes on the right argument, the left argument defaults to referring to the leading axes of the right argument.\n",
        "However, we can use _take_ and _drop_ with _axis_ `[]` to specify other axes.\n",
        "\n",
        "For example, the first 2 rows of `mat` were obtained with"
      ]
    },
    {
      "cell_type": "code",
      "execution_count": 55,
      "id": "ordinary-fantasy",
      "metadata": {},
      "outputs": [
        {
          "data": {
            "text/html": [
              "<span style=\"white-space:pre; font-family: monospace\">13 52 33 81\n",
              "42 62 70 47\n",
              "</span>"
            ]
          },
          "execution_count": 55,
          "metadata": {},
          "output_type": "execute_result"
        }
      ],
      "source": [
        "2\u2191mat"
      ]
    },
    {
      "cell_type": "markdown",
      "id": "small-charm",
      "metadata": {},
      "source": [
        "Using _axis_, we can just as easily get the first 2 columns of `mat`:"
      ]
    },
    {
      "cell_type": "code",
      "execution_count": 56,
      "id": "undefined-exhaust",
      "metadata": {},
      "outputs": [
        {
          "data": {
            "text/html": [
              "<span style=\"white-space:pre; font-family: monospace\">13 52\n",
              "42 62\n",
              "51 73\n",
              "</span>"
            ]
          },
          "execution_count": 56,
          "metadata": {},
          "output_type": "execute_result"
        }
      ],
      "source": [
        "2\u2191[2]mat"
      ]
    },
    {
      "cell_type": "markdown",
      "id": "outstanding-stopping",
      "metadata": {},
      "source": [
        "This also extends to higher rank.\n",
        "If we want the information regarding the first 3 years, and only the final 6 months of the year (but for all assembly lines), we can write:"
      ]
    },
    {
      "cell_type": "code",
      "execution_count": 57,
      "id": "cooperative-christmas",
      "metadata": {},
      "outputs": [
        {
          "data": {
            "text/html": [
              "<span style=\"white-space:pre; font-family: monospace\">11 45 17 37 29 36\n",
              "46 24 49 28 36  9\n",
              "                 \n",
              "23 16 39 22 22  2\n",
              "13 38 42 38 45 28\n",
              "                 \n",
              "16 18 46 47 47  3\n",
              "21 22 40 49 20  1\n",
              "</span>"
            ]
          },
          "execution_count": 57,
          "metadata": {},
          "output_type": "execute_result"
        }
      ],
      "source": [
        "3 \u00af6\u2191[1 3]prod"
      ]
    },
    {
      "cell_type": "markdown",
      "id": "south-graduation",
      "metadata": {},
      "source": [
        "(Working-on-Data-Shape-Laminate)=\n",
        "## Laminate\n",
        "\n",
        "We have previously used _catenate_ to glue one array to another; let us now look at a new method.\n",
        "\n",
        "We shall work with the following two character matrices:"
      ]
    },
    {
      "cell_type": "code",
      "execution_count": 58,
      "id": "incredible-syndicate",
      "metadata": {},
      "outputs": [
        {
          "data": {
            "text/html": [
              "<span style=\"white-space:pre; font-family: monospace\">Alex\n",
              "Anna\n",
              "Mark\n",
              "</span>"
            ]
          },
          "execution_count": 58,
          "metadata": {},
          "output_type": "execute_result"
        }
      ],
      "source": [
        "\u2395\u2190 names \u2190 3 4\u2374'AlexAnnaMark'"
      ]
    },
    {
      "cell_type": "code",
      "execution_count": 59,
      "id": "widespread-awareness",
      "metadata": {},
      "outputs": [
        {
          "data": {
            "text/html": [
              "<span style=\"white-space:pre; font-family: monospace\">Gain\n",
              "Nair\n",
              "Tyte\n",
              "</span>"
            ]
          },
          "execution_count": 59,
          "metadata": {},
          "output_type": "execute_result"
        }
      ],
      "source": [
        "\u2395\u2190 surnames \u2190 3 4\u2374'GainNairTyte'"
      ]
    },
    {
      "cell_type": "markdown",
      "id": "touched-voluntary",
      "metadata": {},
      "source": [
        "The _catenation_ of those two matrices will not change the _rank_ of the arrays, and thus give another matrix, as we saw in {numref}`Some-Primitive-Functions-Catenate`:"
      ]
    },
    {
      "cell_type": "code",
      "execution_count": 60,
      "id": "united-mouth",
      "metadata": {},
      "outputs": [
        {
          "data": {
            "text/html": [
              "<span style=\"white-space:pre; font-family: monospace\">AlexGain\n",
              "AnnaNair\n",
              "MarkTyte\n",
              "</span>"
            ]
          },
          "execution_count": 60,
          "metadata": {},
          "output_type": "execute_result"
        }
      ],
      "source": [
        "names,surnames"
      ]
    },
    {
      "cell_type": "code",
      "execution_count": 61,
      "id": "backed-shock",
      "metadata": {},
      "outputs": [
        {
          "data": {
            "text/html": [
              "<span style=\"white-space:pre; font-family: monospace\">Alex\n",
              "Anna\n",
              "Mark\n",
              "Gain\n",
              "Nair\n",
              "Tyte\n",
              "</span>"
            ]
          },
          "execution_count": 61,
          "metadata": {},
          "output_type": "execute_result"
        }
      ],
      "source": [
        "names\u236asurnames"
      ]
    },
    {
      "cell_type": "markdown",
      "id": "intimate-salad",
      "metadata": {},
      "source": [
        "If both matrices have exactly the same shape, it is possible to join them together along a new dimension to make a 3D array.\n",
        "Because this operation produces a result of higher rank than its arguments, it is called _laminate_ rather than _catenate_.\n",
        "\n",
        "The symbol representing _catenate_ and _laminate_ is the same (`,`), but when the comma is used as _laminate_ it is always used with a fractional _axis_.\n",
        "\n",
        "The two arrays we intend to _laminate_ have the same shape: `3 4`.\n",
        "Because we are going to laminate 2 arrays, the new dimension will have a length of 2, and the shape of the result will be some combination of `3`, `4`, and `2`.\n",
        "Let us examine all the possibilities:\n",
        "\n",
        " - <code>2 3   4&nbsp;&nbsp;</code> \u2013 the new dimension is inserted before the first dimension;\n",
        " - <code>&nbsp;&nbsp;3 2 4&nbsp;&nbsp;</code> \u2013 the new dimension is inserted between the first and second dimensions;\n",
        " - <code>&nbsp;&nbsp;3   4 2</code> \u2013 the new dimension is inserted after the second dimension.\n",
        "\n",
        "To obtain these three different results, we shall use _laminate_ with a fractional axis to specify where the new dimension is to be inserted:\n",
        "\n",
        " - `names,[0.5]surnames` will produce a result of shape <code>2 3   4&nbsp;&nbsp;</code>;\n",
        " - `names,[1.5]surnames` will produce a result of shape <code>&nbsp;&nbsp;3 2 4&nbsp;&nbsp;</code>; and\n",
        " - `names,[2.5]surnames` will produce a result of shape <code>&nbsp;&nbsp;3   4 2</code>.\n",
        "\n",
        "Beware that we could have equally used `\u236a`.\n",
        "\n",
        "Here are the three cases:"
      ]
    },
    {
      "cell_type": "code",
      "execution_count": 62,
      "id": "clear-bangkok",
      "metadata": {},
      "outputs": [
        {
          "data": {
            "text/html": [
              "<span style=\"white-space:pre; font-family: monospace\">Alex\n",
              "Anna\n",
              "Mark\n",
              "    \n",
              "Gain\n",
              "Nair\n",
              "Tyte\n",
              "</span>"
            ]
          },
          "execution_count": 62,
          "metadata": {},
          "output_type": "execute_result"
        }
      ],
      "source": [
        "names,[0.5]surnames"
      ]
    },
    {
      "cell_type": "code",
      "execution_count": 63,
      "id": "central-brunei",
      "metadata": {},
      "outputs": [
        {
          "data": {
            "text/html": [
              "<span style=\"white-space:pre; font-family: monospace\">Alex\n",
              "Gain\n",
              "    \n",
              "Anna\n",
              "Nair\n",
              "    \n",
              "Mark\n",
              "Tyte\n",
              "</span>"
            ]
          },
          "execution_count": 63,
          "metadata": {},
          "output_type": "execute_result"
        }
      ],
      "source": [
        "names,[1.5]surnames"
      ]
    },
    {
      "cell_type": "code",
      "execution_count": 64,
      "id": "quiet-locator",
      "metadata": {},
      "outputs": [
        {
          "data": {
            "text/html": [
              "<span style=\"white-space:pre; font-family: monospace\">AG\n",
              "la\n",
              "ei\n",
              "xn\n",
              "  \n",
              "AN\n",
              "na\n",
              "ni\n",
              "ar\n",
              "  \n",
              "MT\n",
              "ay\n",
              "rt\n",
              "ke\n",
              "</span>"
            ]
          },
          "execution_count": 64,
          "metadata": {},
          "output_type": "execute_result"
        }
      ],
      "source": [
        "names,[2.5]surnames"
      ]
    },
    {
      "cell_type": "markdown",
      "id": "marine-eleven",
      "metadata": {},
      "source": [
        "In fact, the value of the axis specifier just identifies the _position_ of the new dimension relative to the values 1 and 2, so it could be any other fractional value between 0 and 1, or 1 and 2, or 2 and 3, respectively.\n",
        "\n",
        "Hence, the three matches that we see below:"
      ]
    },
    {
      "cell_type": "code",
      "execution_count": 65,
      "id": "terminal-championship",
      "metadata": {},
      "outputs": [
        {
          "data": {
            "text/html": [
              "<span style=\"white-space:pre; font-family: monospace\">1\n",
              "</span>"
            ]
          },
          "execution_count": 65,
          "metadata": {},
          "output_type": "execute_result"
        }
      ],
      "source": [
        "(names,[0.295]surnames)\u2261names,[0.5]surnames"
      ]
    },
    {
      "cell_type": "code",
      "execution_count": 66,
      "id": "natural-client",
      "metadata": {},
      "outputs": [
        {
          "data": {
            "text/html": [
              "<span style=\"white-space:pre; font-family: monospace\">1\n",
              "</span>"
            ]
          },
          "execution_count": 66,
          "metadata": {},
          "output_type": "execute_result"
        }
      ],
      "source": [
        "(names,[1.643]surnames)\u2261names,[1.5]surnames"
      ]
    },
    {
      "cell_type": "code",
      "execution_count": 67,
      "id": "careful-lodge",
      "metadata": {},
      "outputs": [
        {
          "data": {
            "text/html": [
              "<span style=\"white-space:pre; font-family: monospace\">1\n",
              "</span>"
            ]
          },
          "execution_count": 67,
          "metadata": {},
          "output_type": "execute_result"
        }
      ],
      "source": [
        "(names,[2.107]surnames)\u2261names,[2.5]surnames"
      ]
    },
    {
      "cell_type": "markdown",
      "id": "neural-parcel",
      "metadata": {},
      "source": [
        "Of course, it would be somewhat obtuse to use such axis specifications, and programmers conventionally use \"`n.5`\" values, like the ones in our examples."
      ]
    },
    {
      "cell_type": "markdown",
      "id": "bored-cholesterol",
      "metadata": {},
      "source": [
        "(Working-on-Data-Shape-Applications-to-Vectors-and-Scalars)=\n",
        "### Applications to Vectors and Scalars\n",
        "\n",
        "Now that we understand the reason for the fractional axis, which is perhaps initially somewhat surprising, we can apply _laminate_ to all kind of arrays."
      ]
    },
    {
      "cell_type": "markdown",
      "id": "medieval-family",
      "metadata": {},
      "source": [
        "(Working-on-Data-Shape-Laminate-Applied-to-Vectors)=\n",
        "#### Laminate Applied to Vectors\n",
        "\n",
        "Let us use both character and numeric vectors:"
      ]
    },
    {
      "cell_type": "code",
      "execution_count": 68,
      "id": "contrary-rachel",
      "metadata": {},
      "outputs": [],
      "source": [
        "t1 \u2190 'tomatoes'\n",
        "t2 \u2190 'potatoes'\n",
        "n1 \u2190 14 62 32 88\n",
        "n2 \u2190 10\u00d7\u23734"
      ]
    },
    {
      "cell_type": "markdown",
      "id": "mounted-classification",
      "metadata": {},
      "source": [
        "If we catenate them, we still obtain vectors:"
      ]
    },
    {
      "cell_type": "code",
      "execution_count": 69,
      "id": "incoming-championship",
      "metadata": {},
      "outputs": [
        {
          "data": {
            "text/html": [
              "<span style=\"white-space:pre; font-family: monospace\">tomatoespotatoes\n",
              "</span>"
            ]
          },
          "execution_count": 69,
          "metadata": {},
          "output_type": "execute_result"
        }
      ],
      "source": [
        "t1,t2"
      ]
    },
    {
      "cell_type": "code",
      "execution_count": 70,
      "id": "hired-bernard",
      "metadata": {},
      "outputs": [
        {
          "data": {
            "text/html": [
              "<span style=\"white-space:pre; font-family: monospace\">14 62 32 88 10 20 30 40\n",
              "</span>"
            ]
          },
          "execution_count": 70,
          "metadata": {},
          "output_type": "execute_result"
        }
      ],
      "source": [
        "n1,n2"
      ]
    },
    {
      "cell_type": "markdown",
      "id": "heated-swift",
      "metadata": {},
      "source": [
        "But if we instead laminate them, we obtain matrices with either 2 rows or 2 columns:"
      ]
    },
    {
      "cell_type": "code",
      "execution_count": 71,
      "id": "surprising-adobe",
      "metadata": {},
      "outputs": [
        {
          "data": {
            "text/html": [
              "<span style=\"white-space:pre; font-family: monospace\">tomatoes\n",
              "potatoes\n",
              "</span>"
            ]
          },
          "execution_count": 71,
          "metadata": {},
          "output_type": "execute_result"
        }
      ],
      "source": [
        "t1,[0.5]t2"
      ]
    },
    {
      "cell_type": "code",
      "execution_count": 72,
      "id": "better-validity",
      "metadata": {},
      "outputs": [
        {
          "data": {
            "text/html": [
              "<span style=\"white-space:pre; font-family: monospace\">tp\n",
              "oo\n",
              "mt\n",
              "aa\n",
              "tt\n",
              "oo\n",
              "ee\n",
              "ss\n",
              "</span>"
            ]
          },
          "execution_count": 72,
          "metadata": {},
          "output_type": "execute_result"
        }
      ],
      "source": [
        "t1,[1.5]t2"
      ]
    },
    {
      "cell_type": "code",
      "execution_count": 73,
      "id": "logical-welsh",
      "metadata": {},
      "outputs": [
        {
          "data": {
            "text/html": [
              "<span style=\"white-space:pre; font-family: monospace\">14 62 32 88\n",
              "10 20 30 40\n",
              "</span>"
            ]
          },
          "execution_count": 73,
          "metadata": {},
          "output_type": "execute_result"
        }
      ],
      "source": [
        "n1,[0.5]n2"
      ]
    },
    {
      "cell_type": "code",
      "execution_count": 74,
      "id": "split-optimum",
      "metadata": {},
      "outputs": [
        {
          "data": {
            "text/html": [
              "<span style=\"white-space:pre; font-family: monospace\">14 10\n",
              "62 20\n",
              "32 30\n",
              "88 40\n",
              "</span>"
            ]
          },
          "execution_count": 74,
          "metadata": {},
          "output_type": "execute_result"
        }
      ],
      "source": [
        "n1,[1.5]n2"
      ]
    },
    {
      "cell_type": "markdown",
      "id": "optical-potato",
      "metadata": {},
      "source": [
        "Of course, since we are working with 1-dimensional arrays, we cannot specify an axis equal to or greater than 2.\n",
        "\n",
        "There is also no reason for why you wouldn't be able to laminate a character vector with a numeric vector, for example:"
      ]
    },
    {
      "cell_type": "code",
      "execution_count": 75,
      "id": "related-pleasure",
      "metadata": {},
      "outputs": [
        {
          "data": {
            "text/html": [
              "<span style=\"white-space:pre; font-family: monospace\"> t  o  m  a  t  o  e  s\n",
              "14 62 32 88 10 20 30 40\n",
              "</span>"
            ]
          },
          "execution_count": 75,
          "metadata": {},
          "output_type": "execute_result"
        }
      ],
      "source": [
        "t1,[0.5]n1,n2"
      ]
    },
    {
      "cell_type": "markdown",
      "id": "another-employer",
      "metadata": {},
      "source": [
        "(Working-on-Data-Shape-Laminate-Scalars-with-Vectors)=\n",
        "#### Laminate Scalars with Vectors\n",
        "\n",
        "Scalars can be laminated with any array: they are repeated as many times as necessary to match the length of the new dimension:"
      ]
    },
    {
      "cell_type": "code",
      "execution_count": 76,
      "id": "above-baghdad",
      "metadata": {},
      "outputs": [
        {
          "data": {
            "text/html": [
              "<span style=\"white-space:pre; font-family: monospace\">14 62 32 88\n",
              " 0  0  0  0\n",
              "</span>"
            ]
          },
          "execution_count": 76,
          "metadata": {},
          "output_type": "execute_result"
        }
      ],
      "source": [
        "n1,[0.5]0"
      ]
    },
    {
      "cell_type": "code",
      "execution_count": 77,
      "id": "sought-spouse",
      "metadata": {},
      "outputs": [
        {
          "data": {
            "text/html": [
              "<span style=\"white-space:pre; font-family: monospace\">1 14\n",
              "1 62\n",
              "1 32\n",
              "1 88\n",
              "</span>"
            ]
          },
          "execution_count": 77,
          "metadata": {},
          "output_type": "execute_result"
        }
      ],
      "source": [
        "1,[1.5]n1"
      ]
    },
    {
      "cell_type": "markdown",
      "id": "greenhouse-sculpture",
      "metadata": {},
      "source": [
        "This can be used, for example, to underline a title:"
      ]
    },
    {
      "cell_type": "code",
      "execution_count": 78,
      "id": "informational-walnut",
      "metadata": {},
      "outputs": [],
      "source": [
        "title \u2190 'Laminate is good for you'"
      ]
    },
    {
      "cell_type": "markdown",
      "id": "conceptual-shelter",
      "metadata": {},
      "source": [
        "Without _laminate_, we must create a matrix with 2 rows, and as many columns as the length of `title`, filled with `title` itself, followed by as many dashes as the length of `title`: boring!"
      ]
    },
    {
      "cell_type": "code",
      "execution_count": 79,
      "id": "remarkable-house",
      "metadata": {},
      "outputs": [
        {
          "data": {
            "text/html": [
              "<span style=\"white-space:pre; font-family: monospace\">Laminate is good for you\n",
              "------------------------\n",
              "</span>"
            ]
          },
          "execution_count": 79,
          "metadata": {},
          "output_type": "execute_result"
        }
      ],
      "source": [
        "(2,\u2262title)\u2374title,(\u2262title)\u2374'-'"
      ]
    },
    {
      "cell_type": "markdown",
      "id": "fabulous-patient",
      "metadata": {},
      "source": [
        "Now, with _laminate_, we just have to laminate a single dash; it will be repeated as many times as necessary:"
      ]
    },
    {
      "cell_type": "code",
      "execution_count": 80,
      "id": "aquatic-optics",
      "metadata": {},
      "outputs": [
        {
          "data": {
            "text/html": [
              "<span style=\"white-space:pre; font-family: monospace\">Laminate is good for you\n",
              "------------------------\n",
              "</span>"
            ]
          },
          "execution_count": 80,
          "metadata": {},
          "output_type": "execute_result"
        }
      ],
      "source": [
        "title,[0.5]'-'"
      ]
    },
    {
      "cell_type": "markdown",
      "id": "extraordinary-mission",
      "metadata": {},
      "source": [
        "(Working-on-Data-Shape-Applications)=\n",
        "### Applications\n",
        "\n",
        "(Working-on-Data-Shape-Interlace-Matrices)=\n",
        "#### Interlace Matrices\n",
        "\n",
        "Do you remember that, in [the chapter about user-defined functions](./User-Defined-Functions.ipynb), we wrote a function to interlace two matrices?\n",
        "It is no longer relevant; we can solve the problem more simply using _laminate_.\n",
        "\n",
        "Can you see how? Give it some thought, if you will.\n",
        "\n",
        "Take a look at the result of `names,[2.5]surnames` above.\n",
        "You will see that the names are on the left and the surnames are on the right.\n",
        "If we reshape that result with appropriate dimensions, we shall obtain `names` and `surnames` interlaced \ud83d\ude0a :"
      ]
    },
    {
      "cell_type": "code",
      "execution_count": 81,
      "id": "light-number",
      "metadata": {},
      "outputs": [
        {
          "data": {
            "text/html": [
              "<span style=\"white-space:pre; font-family: monospace\">AGlaeixn\n",
              "ANnaniar\n",
              "MTayrtke\n",
              "</span>"
            ]
          },
          "execution_count": 81,
          "metadata": {},
          "output_type": "execute_result"
        }
      ],
      "source": [
        "(1 2\u00d7\u2374names)\u2374names,[2.5]surnames"
      ]
    },
    {
      "cell_type": "markdown",
      "id": "listed-advocacy",
      "metadata": {},
      "source": [
        "The result isn't easy to read, but the expression works!\n",
        "\n",
        "Hence, our new implementation of `Interlace` could be"
      ]
    },
    {
      "cell_type": "code",
      "execution_count": 82,
      "id": "dangerous-internet",
      "metadata": {},
      "outputs": [],
      "source": [
        "Interlace \u2190 {(1 2\u00d7\u2374\u237a)\u2374\u237a,[2.5]\u2375}"
      ]
    },
    {
      "cell_type": "markdown",
      "id": "amateur-notion",
      "metadata": {},
      "source": [
        "We can apply the same technique to matrices of forecasts and actuals, provided we define them first:"
      ]
    },
    {
      "cell_type": "code",
      "execution_count": 83,
      "id": "threatened-plymouth",
      "metadata": {},
      "outputs": [],
      "source": [
        "\u2395RL \u2190 73\n",
        "forecast \u2190 10\u00d7?4 6\u237455\n",
        "\u2395RL \u2190 73\n",
        "actual \u2190 forecast + \u00af10+?4 6\u237420"
      ]
    },
    {
      "cell_type": "code",
      "execution_count": 84,
      "id": "muslim-jonathan",
      "metadata": {},
      "outputs": [
        {
          "data": {
            "text/html": [
              "<span style=\"white-space:pre; font-family: monospace\"> 90  89 160 166 420 420 500 508  20  12  30  23\n",
              "110 111 450 453 170 177 370 365 290 284 360 352\n",
              "340 349 190 192 320 329 120 115 510 515 370 374\n",
              "150 160 460 467 240 234 520 519 490 485 280 283\n",
              "</span>"
            ]
          },
          "execution_count": 84,
          "metadata": {},
          "output_type": "execute_result"
        }
      ],
      "source": [
        "forecast Interlace actual"
      ]
    },
    {
      "cell_type": "markdown",
      "id": "hundred-flower",
      "metadata": {},
      "source": [
        "(Working-on-Data-Shape-Show-Vectors)=\n",
        "#### Show Vectors\n",
        "\n",
        "Sometimes you will have two vectors that are related, and you would like to display them side by side.\n",
        "You might have a character vector and you would like to display it side by side with a Boolean vector indicating the positions of vowels in the character vector, so that you can verify visually if the result is correct:"
      ]
    },
    {
      "cell_type": "code",
      "execution_count": 85,
      "id": "dried-prevention",
      "metadata": {},
      "outputs": [],
      "source": [
        "text \u2190 'National Aeronautics and Space Administration'\n",
        "vowels \u2190 0 1 0 1 1 0 1 0 0 0 1 0 1 0 1 1 0 1 0 0 0 1 0 0 0 0 0 1 0 1 0 0 0 0 1 0 1 0 0 0 1 0 1 1 0"
      ]
    },
    {
      "cell_type": "code",
      "execution_count": 86,
      "id": "independent-volunteer",
      "metadata": {},
      "outputs": [
        {
          "data": {
            "text/html": [
              "<span style=\"white-space:pre; font-family: monospace\">N a t i o n a l   A e r o n a u t i c s   a n d   S p a c e   A d m i n i s t r a t i o n\n",
              "0 1 0 1 1 0 1 0 0 0 1 0 1 0 1 1 0 1 0 0 0 1 0 0 0 0 0 1 0 1 0 0 0 0 1 0 1 0 0 0 1 0 1 1 0\n",
              "</span>"
            ]
          },
          "execution_count": 86,
          "metadata": {},
          "output_type": "execute_result"
        }
      ],
      "source": [
        "text,[0.5]vowels"
      ]
    },
    {
      "cell_type": "markdown",
      "id": "fleet-welsh",
      "metadata": {},
      "source": [
        "By looking at the above, you would be able to see more easily that your result missed the capital vowels, and you would then proceed to fixing your function.\n",
        "\n",
        "This was a simple example of where laminating two vectors might prove useful, but this ad-hoc technique might also be useful in slightly more complex scenarios.\n",
        "Suppose that we have four vectors containing information about certain products: their price, their current discount, their quantity in stock, and their availability (physical store, online, or both):"
      ]
    },
    {
      "cell_type": "code",
      "execution_count": 87,
      "id": "lucky-hopkins",
      "metadata": {},
      "outputs": [
        {
          "data": {
            "text/html": [
              "<span style=\"white-space:pre; font-family: monospace\">2 4 15 8 23\n",
              "</span>"
            ]
          },
          "execution_count": 87,
          "metadata": {},
          "output_type": "execute_result"
        },
        {
          "data": {
            "text/html": [
              "<span style=\"white-space:pre; font-family: monospace\">0 0 25 25 35\n",
              "</span>"
            ]
          },
          "execution_count": 87,
          "metadata": {},
          "output_type": "execute_result"
        },
        {
          "data": {
            "text/html": [
              "<span style=\"white-space:pre; font-family: monospace\">103 98 50 23 64\n",
              "</span>"
            ]
          },
          "execution_count": 87,
          "metadata": {},
          "output_type": "execute_result"
        },
        {
          "data": {
            "text/html": [
              "<span style=\"white-space:pre; font-family: monospace\">SSBOB\n",
              "</span>"
            ]
          },
          "execution_count": 87,
          "metadata": {},
          "output_type": "execute_result"
        }
      ],
      "source": [
        "\u2395\u2190 price \u2190 2 4 15 8 23\n",
        "\u2395\u2190 discount \u2190 0 0 25 25 35\n",
        "\u2395\u2190 stock \u2190 103 98 50 23 64\n",
        "\u2395\u2190 availability \u2190 'SSBOB'"
      ]
    },
    {
      "cell_type": "markdown",
      "id": "precious-cabin",
      "metadata": {},
      "source": [
        "The output shown above is not ideal, because each individual vector is displayed using its own natural format, and it is extremely difficult to connect the four related pieces of information to a specific product.\n",
        "We can have these values displayed much better if we create a matrix.\n",
        "\n",
        "To produce a matrix we will need to laminate two of the vectors and catenate the others (in rows or in columns).\n",
        "The results are much easier to read:"
      ]
    },
    {
      "cell_type": "code",
      "execution_count": 88,
      "id": "transsexual-project",
      "metadata": {},
      "outputs": [
        {
          "data": {
            "text/html": [
              "<span style=\"white-space:pre; font-family: monospace\">  2  4 15  8 23\n",
              "  0  0 25 25 35\n",
              "103 98 50 23 64\n",
              "  S  S  B  O  B\n",
              "</span>"
            ]
          },
          "execution_count": 88,
          "metadata": {},
          "output_type": "execute_result"
        }
      ],
      "source": [
        "price\u236adiscount\u236astock\u236a[0.5]availability"
      ]
    },
    {
      "cell_type": "code",
      "execution_count": 89,
      "id": "cutting-dressing",
      "metadata": {},
      "outputs": [
        {
          "data": {
            "text/html": [
              "<span style=\"white-space:pre; font-family: monospace\"> 2  0 103 S\n",
              " 4  0  98 S\n",
              "15 25  50 B\n",
              " 8 25  23 O\n",
              "23 35  64 B\n",
              "</span>"
            ]
          },
          "execution_count": 89,
          "metadata": {},
          "output_type": "execute_result"
        }
      ],
      "source": [
        "price,discount,stock,[1.5]availability"
      ]
    },
    {
      "cell_type": "markdown",
      "id": "colored-feelings",
      "metadata": {},
      "source": [
        "In these examples, there is only one _laminate_, followed by as many _catenates_ as needed."
      ]
    },
    {
      "cell_type": "markdown",
      "id": "coral-sheep",
      "metadata": {},
      "source": [
        "(Working-on-Data-Shape-Expand)=\n",
        "## Expand\n",
        "\n",
        "(Working-on-Data-Shape-Basic-Use)=\n",
        "### Basic Use\n",
        "\n",
        "You remember that simple _compress_ uses a Boolean vector of 1s and 0s as a mask to include or exclude specific items of an array.\n",
        "\n",
        "Simple _expand_ (specified by the `\\` symbol) also uses a Boolean vector of 1s and 0s, but the 0s _insert_ new items into the array.\n",
        "It is used as follows: `r \u2190 pattern\\argument`.\n",
        "\n",
        "In this form, the Boolean vector left argument contains a 1 for each item of the right argument, and a 0 for each item to insert.\n",
        "For example:"
      ]
    },
    {
      "cell_type": "code",
      "execution_count": 90,
      "id": "geographic-observation",
      "metadata": {},
      "outputs": [
        {
          "data": {
            "text/html": [
              "<span style=\"white-space:pre; font-family: monospace\">11 28 0 32 0 0 40 57 69\n",
              "</span>"
            ]
          },
          "execution_count": 90,
          "metadata": {},
          "output_type": "execute_result"
        }
      ],
      "source": [
        "1 1 0 1 0 0 1 1 1\\11 28 32 40 57 69"
      ]
    },
    {
      "cell_type": "code",
      "execution_count": 91,
      "id": "loved-forestry",
      "metadata": {},
      "outputs": [
        {
          "data": {
            "text/html": [
              "<span style=\"white-space:pre; font-family: monospace\">Af r  ica\n",
              "</span>"
            ]
          },
          "execution_count": 91,
          "metadata": {},
          "output_type": "execute_result"
        }
      ],
      "source": [
        "1 1 0 1 0 0 1 1 1\\'Africa'"
      ]
    },
    {
      "cell_type": "markdown",
      "id": "cardiovascular-astrology",
      "metadata": {},
      "source": [
        "If the right argument is numeric, _expand_ inserts zeroes, and if it is a character vector, _expand_ inserts blanks as _fill items_.\n",
        "For mixed or nested arrays, the concept of _fill item_ is more complex and, as mentioned before, will be explained in {numref}`Nested-Arrays-Continued-Prototype-Fill-Item`."
      ]
    },
    {
      "cell_type": "markdown",
      "id": "inclusive-geology",
      "metadata": {},
      "source": [
        "(Working-on-Data-Shape-Extended-Definition)=\n",
        "### Extended Definition\n",
        "\n",
        "We can extend the behaviour of _extend_ to handle cases where the left argument is not a simple Boolean vector, but contains integers other than just 0s and 1s:\n",
        "\n",
        " - the amount of positive numbers in the left argument should match the length of the right argument;\n",
        " - for each positive item in the left argument, the corresponding item in the right argument is replicated as many times as is specified by that value;\n",
        " - each negative item in the left argument inserts an equivalent number of _fill items_ in the same position; and\n",
        " - zeroes in the left argument mean the same as `\u00af1`, and they each insert one fill item.\n",
        "\n",
        "In the description above, we assumed that the right argument is a vector.\n",
        "We will cover the fully generic case in a bit.\n",
        "\n",
        "Because it is an extension of it, this new definition is fully compatible with the Boolean case we described before.\n",
        "\n",
        "Here is an example:"
      ]
    },
    {
      "cell_type": "code",
      "execution_count": 92,
      "id": "reverse-state",
      "metadata": {},
      "outputs": [
        {
          "data": {
            "text/html": [
              "<span style=\"white-space:pre; font-family: monospace\">11 28 0 32 32 32 0 0 40 57 69\n",
              "</span>"
            ]
          },
          "execution_count": 92,
          "metadata": {},
          "output_type": "execute_result"
        }
      ],
      "source": [
        "1 1 0 3 \u00af2 1 1 1\\11 28 32 40 57 69"
      ]
    },
    {
      "cell_type": "markdown",
      "id": "activated-market",
      "metadata": {},
      "source": [
        "The first two items remain unchanged.\n",
        "Then a zero inserts a zero in the result.\n",
        "The next value is repeated 3 times, and the value `\u00af2` inserts 2 zeroes.\n",
        "The last 3 items are unchanged.\n",
        "\n",
        "The same thing can be done using a character vector:"
      ]
    },
    {
      "cell_type": "code",
      "execution_count": 93,
      "id": "hungry-disney",
      "metadata": {},
      "outputs": [
        {
          "data": {
            "text/html": [
              "<span style=\"white-space:pre; font-family: monospace\">ex ppp  and\n",
              "</span>"
            ]
          },
          "execution_count": 93,
          "metadata": {},
          "output_type": "execute_result"
        }
      ],
      "source": [
        "1 1 0 3 \u00af2 1 1 1\\'expand'"
      ]
    },
    {
      "cell_type": "markdown",
      "id": "requested-discovery",
      "metadata": {},
      "source": [
        "Because `0` and `\u00af1` have the same effect when used in the left argument of _expand_, we can obtain the same result with a different pattern:"
      ]
    },
    {
      "cell_type": "code",
      "execution_count": 94,
      "id": "flexible-coast",
      "metadata": {},
      "outputs": [
        {
          "data": {
            "text/html": [
              "<span style=\"white-space:pre; font-family: monospace\">ex ppp  and\n",
              "</span>"
            ]
          },
          "execution_count": 94,
          "metadata": {},
          "output_type": "execute_result"
        }
      ],
      "source": [
        "1 1 \u00af1 3 \u00af2 1 1 1\\'expand'"
      ]
    },
    {
      "cell_type": "markdown",
      "id": "flush-filter",
      "metadata": {},
      "source": [
        "Naturally, the function can work on any shape of array, in which case `\\` acts on the last axis of the right argument, by default.\n",
        "\n",
        "For example, if we take our `chemistry` matrix:"
      ]
    },
    {
      "cell_type": "code",
      "execution_count": 95,
      "id": "sunset-chart",
      "metadata": {},
      "outputs": [
        {
          "data": {
            "text/html": [
              "<span style=\"white-space:pre; font-family: monospace\">H2SO4\n",
              "CaCO3\n",
              "Fe2O3\n",
              "</span>"
            ]
          },
          "execution_count": 95,
          "metadata": {},
          "output_type": "execute_result"
        }
      ],
      "source": [
        "\u2395\u2190 chemistry \u2190 3 5\u2374'H2SO4CaCO3Fe2O3'"
      ]
    },
    {
      "cell_type": "markdown",
      "id": "specialized-anatomy",
      "metadata": {},
      "source": [
        "We can insert one extra column by using _expand_ with a Boolean left argument:"
      ]
    },
    {
      "cell_type": "code",
      "execution_count": 96,
      "id": "straight-customer",
      "metadata": {},
      "outputs": [
        {
          "data": {
            "text/html": [
              "<span style=\"white-space:pre; font-family: monospace\">H2 SO4\n",
              "Ca CO3\n",
              "Fe 2O3\n",
              "</span>"
            ]
          },
          "execution_count": 96,
          "metadata": {},
          "output_type": "execute_result"
        }
      ],
      "source": [
        "1 1 0 1 1 1\\chemistry"
      ]
    },
    {
      "cell_type": "markdown",
      "id": "collective-castle",
      "metadata": {},
      "source": [
        "We can further specify the axis along which we want to act, to change the default:"
      ]
    },
    {
      "cell_type": "code",
      "execution_count": 97,
      "id": "korean-produce",
      "metadata": {},
      "outputs": [
        {
          "data": {
            "text/html": [
              "<span style=\"white-space:pre; font-family: monospace\">H2SO4\n",
              "     \n",
              "CaCO3\n",
              "     \n",
              "Fe2O3\n",
              "</span>"
            ]
          },
          "execution_count": 97,
          "metadata": {},
          "output_type": "execute_result"
        }
      ],
      "source": [
        "1 0 1 0 1\\[1]chemistry"
      ]
    },
    {
      "cell_type": "markdown",
      "id": "statistical-edinburgh",
      "metadata": {},
      "source": [
        "The axis specified can be the same as the default, making it redundant, but otherwise completely correct:"
      ]
    },
    {
      "cell_type": "code",
      "execution_count": 98,
      "id": "surgical-gazette",
      "metadata": {},
      "outputs": [
        {
          "data": {
            "text/html": [
              "<span style=\"white-space:pre; font-family: monospace\">H   2SO 444\n",
              "C   aCO 333\n",
              "F   e2O 333\n",
              "</span>"
            ]
          },
          "execution_count": 98,
          "metadata": {},
          "output_type": "execute_result"
        }
      ],
      "source": [
        "1 \u00af3 1 1 1 0 3\\[2]chemistry"
      ]
    },
    {
      "cell_type": "markdown",
      "id": "mental-participation",
      "metadata": {},
      "source": [
        "With arrays of rank higher than 1, the description provided above remains the same, except that _extend_ no longer operates on single items of the right argument, but on its sub-arrays along the given axis (the last one, if left unspecified) instead.\n",
        "\n",
        "_Expand_ can also be used on scalars; they are repeated as many times as necessary to fit the number of positive values in the left argument:"
      ]
    },
    {
      "cell_type": "code",
      "execution_count": 99,
      "id": "rubber-diversity",
      "metadata": {},
      "outputs": [
        {
          "data": {
            "text/html": [
              "<span style=\"white-space:pre; font-family: monospace\">  AA  AA\n",
              "</span>"
            ]
          },
          "execution_count": 99,
          "metadata": {},
          "output_type": "execute_result"
        }
      ],
      "source": [
        "0 0 1 1 0 0 1 1\\'A'"
      ]
    },
    {
      "cell_type": "markdown",
      "id": "durable-terrace",
      "metadata": {},
      "source": [
        "The above is equivalent to"
      ]
    },
    {
      "cell_type": "code",
      "execution_count": 100,
      "id": "ignored-instruction",
      "metadata": {},
      "outputs": [
        {
          "data": {
            "text/html": [
              "<span style=\"white-space:pre; font-family: monospace\">  AA  AA\n",
              "</span>"
            ]
          },
          "execution_count": 100,
          "metadata": {},
          "output_type": "execute_result"
        }
      ],
      "source": [
        "0 0 1 1 0 0 1 1\\'AAAA'"
      ]
    },
    {
      "cell_type": "code",
      "execution_count": 101,
      "id": "tender-transformation",
      "metadata": {},
      "outputs": [
        {
          "data": {
            "text/html": [
              "<span style=\"white-space:pre; font-family: monospace\">0 71 71 71 71 0 0 71 71\n",
              "</span>"
            ]
          },
          "execution_count": 101,
          "metadata": {},
          "output_type": "execute_result"
        }
      ],
      "source": [
        "0 1 3 \u00af2 1 1\\71"
      ]
    },
    {
      "cell_type": "markdown",
      "id": "adequate-video",
      "metadata": {},
      "source": [
        "### Expand Along First Axis"
      ]
    },
    {
      "cell_type": "markdown",
      "id": "infinite-episode",
      "metadata": {},
      "source": [
        "Like it was mentioned before, _expand_ works on the last dimension of an array.\n",
        "To work on the first dimension, one can use the function `\u2340` (<kbd>APL</kbd>+<kbd>.</kbd>):"
      ]
    },
    {
      "cell_type": "code",
      "execution_count": 102,
      "id": "enhanced-metropolitan",
      "metadata": {},
      "outputs": [
        {
          "data": {
            "text/html": [
              "<span style=\"white-space:pre; font-family: monospace\">H2SO4\n",
              "CaCO3\n",
              "     \n",
              "     \n",
              "Fe2O3\n",
              "</span>"
            ]
          },
          "execution_count": 102,
          "metadata": {},
          "output_type": "execute_result"
        }
      ],
      "source": [
        "1 1 \u00af2 1\u2340chemistry"
      ]
    },
    {
      "cell_type": "markdown",
      "id": "piano-compression",
      "metadata": {},
      "source": [
        "If one places an axis indication after the symbol `\\` or `\u2340`, the operation is processed according to the _axis_ operator, whichever of the two symbols is used.\n",
        "For example:\n",
        "\n",
        " - `vec\u2340[3]prod` and `vec\\[3]prod` would be equivalent to `vec\\prod`; and\n",
        " - `vec\\[1]forecast` and `vec\u2340[1]forecast` would be equivalent to `vec\u2340forecast`."
      ]
    },
    {
      "cell_type": "markdown",
      "id": "interim-harassment",
      "metadata": {},
      "source": [
        "(Working-on-Data-Shape-Reverse-and-Transpose)=\n",
        "## Reverse and Transpose\n",
        "\n",
        "APL is also well endowed with functions which pivot data about an axis, and the axis is suggested by the shape of the symbol used.\n",
        "The functions apply to both numeric and character data.\n",
        "In the examples we are going to use a character matrix called `towns`:"
      ]
    },
    {
      "cell_type": "code",
      "execution_count": 103,
      "id": "arctic-halifax",
      "metadata": {},
      "outputs": [
        {
          "data": {
            "text/html": [
              "<span style=\"white-space:pre; font-family: monospace\">Canberra  \n",
              "Paris     \n",
              "Washington\n",
              "Moscow    \n",
              "Martigues \n",
              "Mexico    \n",
              "</span>"
            ]
          },
          "execution_count": 103,
          "metadata": {},
          "output_type": "execute_result"
        }
      ],
      "source": [
        "\u2395\u2190 towns \u2190 6 10\u2374'Canberra  Paris     WashingtonMoscow    Martigues Mexico    '"
      ]
    },
    {
      "cell_type": "markdown",
      "id": "neural-reynolds",
      "metadata": {},
      "source": [
        "The symbols `\u233d` (<kbd>APL</kbd>+<kbd>Shift</kbd>+<kbd>5</kbd>) and `\u2296` (<kbd>APL</kbd>+<kbd>Shift</kbd>+<kbd>7</kbd>) are used for two variants of the same function, which is called _reverse_.\n",
        "\n",
        "The function `\u2349` is called _transpose_ and its symbol is typed with <kbd>APL</kbd>+<kbd>Shift</kbd>+<kbd>6</kbd>.\n",
        "\n",
        "Here are their effects:"
      ]
    },
    {
      "cell_type": "code",
      "execution_count": 104,
      "id": "ambient-membrane",
      "metadata": {},
      "outputs": [
        {
          "data": {
            "text/html": [
              "<span style=\"white-space:pre; font-family: monospace\">\u250c\u2500\u2500\u2500\u2500\u2500\u2500\u2500\u2500\u2500\u2500\u252c\u2500\u2500\u2500\u2500\u2500\u2500\u2500\u2500\u2500\u2500\u252c\u2500\u2500\u2500\u2500\u2500\u2500\u2500\u2500\u2500\u2500\u252c\u2500\u2500\u2500\u2500\u2500\u2500\u2510\n",
              "\u2502Canberra  \u2502  arrebnaC\u2502Mexico    \u2502CPWMMM\u2502\n",
              "\u2502Paris     \u2502     siraP\u2502Martigues \u2502aaaoae\u2502\n",
              "\u2502Washington\u2502notgnihsaW\u2502Moscow    \u2502nrssrx\u2502\n",
              "\u2502Moscow    \u2502    wocsoM\u2502Washington\u2502bihcti\u2502\n",
              "\u2502Martigues \u2502 seugitraM\u2502Paris     \u2502esioic\u2502\n",
              "\u2502Mexico    \u2502    ocixeM\u2502Canberra  \u2502r nwgo\u2502\n",
              "\u2502          \u2502          \u2502          \u2502r g u \u2502\n",
              "\u2502          \u2502          \u2502          \u2502a t e \u2502\n",
              "\u2502          \u2502          \u2502          \u2502  o s \u2502\n",
              "\u2502          \u2502          \u2502          \u2502  n   \u2502\n",
              "\u2514\u2500\u2500\u2500\u2500\u2500\u2500\u2500\u2500\u2500\u2500\u2534\u2500\u2500\u2500\u2500\u2500\u2500\u2500\u2500\u2500\u2500\u2534\u2500\u2500\u2500\u2500\u2500\u2500\u2500\u2500\u2500\u2500\u2534\u2500\u2500\u2500\u2500\u2500\u2500\u2518\n",
              "</span>"
            ]
          },
          "execution_count": 104,
          "metadata": {},
          "output_type": "execute_result"
        }
      ],
      "source": [
        "(\u22a2towns) (\u233dtowns) (\u2296towns) (\u2349towns)"
      ]
    },
    {
      "cell_type": "markdown",
      "id": "automated-catering",
      "metadata": {},
      "source": [
        "The symbols used (`\u233d \u2296 \u2349`) are self-describing, no effort is required to remember any of them because the position of the bar visually indicates which kind of transformation they stand for.\n",
        "\n",
        "If you insert an axis specification after the symbols `\u233d` or `\u2296`, the operation is processed according to the _axis_ operator, whichever of the two symbols is used.\n",
        "So, for example:\n",
        "\n",
        " - `\u233d[1]matrix` and `\u2296[1]matrix` are both equivalent to `\u2296matrix`; and\n",
        " - `\u233d[2]matrix` and `\u2296[2]matrix` are both equivalent to `\u233dmatrix`."
      ]
    },
    {
      "cell_type": "markdown",
      "id": "worth-visiting",
      "metadata": {},
      "source": [
        "(Working-on-Data-Shape-Caveats-to-be-Aware-Of)=\n",
        "### Caveats to be Aware Of\n",
        "\n",
        " - _Transpose_ has no effect on a vector, because it has only one axis:"
      ]
    },
    {
      "cell_type": "code",
      "execution_count": 105,
      "id": "medium-heating",
      "metadata": {},
      "outputs": [
        {
          "data": {
            "text/html": [
              "<span style=\"white-space:pre; font-family: monospace\">I shall not move\n",
              "</span>"
            ]
          },
          "execution_count": 105,
          "metadata": {},
          "output_type": "execute_result"
        }
      ],
      "source": [
        "\u2349'I shall not move'"
      ]
    },
    {
      "cell_type": "markdown",
      "id": "democratic-regression",
      "metadata": {},
      "source": [
        "On a similar note,\n",
        "\n",
        " - The distracted APLer might expect `\u2296` to do nothing on vectors, but that is _not_ what happens.\n",
        " \n",
        "Visually, `\u2296` hints at the fact that it \"flips\" its argument upside down, and a vector can't be flipped upside down because it is one-dimensional.\n",
        "However, `\u2296` is called _reverse **first**_, which means it always reverses the argument along its **first** dimension, even if that dimension is the _only_ dimension of the argument:"
      ]
    },
    {
      "cell_type": "code",
      "execution_count": 106,
      "id": "answering-supervisor",
      "metadata": {},
      "outputs": [
        {
          "data": {
            "text/html": [
              "<span style=\"white-space:pre; font-family: monospace\">?!...evom ton llahs I\n",
              "</span>"
            ]
          },
          "execution_count": 106,
          "metadata": {},
          "output_type": "execute_result"
        }
      ],
      "source": [
        "\u2296'I shall not move...!?'"
      ]
    },
    {
      "cell_type": "markdown",
      "id": "fifteen-modern",
      "metadata": {},
      "source": [
        "This confusion might arise from the visual similarity of the character vector above and"
      ]
    },
    {
      "cell_type": "code",
      "execution_count": 107,
      "id": "together-ivory",
      "metadata": {},
      "outputs": [
        {
          "data": {
            "text/html": [
              "<span style=\"white-space:pre; font-family: monospace\">I shall not move...!?\n",
              "</span>"
            ]
          },
          "execution_count": 107,
          "metadata": {},
          "output_type": "execute_result"
        }
      ],
      "source": [
        "1 21\u2374'I shall not move...!?'"
      ]
    },
    {
      "cell_type": "markdown",
      "id": "becoming-pierre",
      "metadata": {},
      "source": [
        "The latter is a 1-row matrix, which is why it _is_ left unchanged by `\u2296`:"
      ]
    },
    {
      "cell_type": "code",
      "execution_count": 108,
      "id": "addressed-turner",
      "metadata": {},
      "outputs": [
        {
          "data": {
            "text/html": [
              "<span style=\"white-space:pre; font-family: monospace\">I shall not move...!?\n",
              "</span>"
            ]
          },
          "execution_count": 108,
          "metadata": {},
          "output_type": "execute_result"
        }
      ],
      "source": [
        "\u22961 21\u2374'I shall not move...!?'"
      ]
    },
    {
      "cell_type": "markdown",
      "id": "fixed-broadcasting",
      "metadata": {},
      "source": [
        " - _Transpose_ cannot be modified by an axis specifier, because it always operates on all of the dimensions of its argument.\n",
        "\n",
        " - _Transpose_ can be applied to arrays of any rank; let us try it with a 3D character array:"
      ]
    },
    {
      "cell_type": "code",
      "execution_count": 109,
      "id": "organizational-exclusive",
      "metadata": {},
      "outputs": [
        {
          "data": {
            "text/html": [
              "<span style=\"white-space:pre; font-family: monospace\">Alex\n",
              "Anna\n",
              "Mark\n",
              "    \n",
              "Gain\n",
              "Nair\n",
              "Tyte\n",
              "</span>"
            ]
          },
          "execution_count": 109,
          "metadata": {},
          "output_type": "execute_result"
        }
      ],
      "source": [
        "\u2395\u2190 big \u2190 names,[0.5]surnames"
      ]
    },
    {
      "cell_type": "code",
      "execution_count": 110,
      "id": "pressing-alabama",
      "metadata": {},
      "outputs": [
        {
          "data": {
            "text/html": [
              "<span style=\"white-space:pre; font-family: monospace\">AG\n",
              "AN\n",
              "MT\n",
              "  \n",
              "la\n",
              "na\n",
              "ay\n",
              "  \n",
              "ei\n",
              "ni\n",
              "rt\n",
              "  \n",
              "xn\n",
              "ar\n",
              "ke\n",
              "</span>"
            ]
          },
          "execution_count": 110,
          "metadata": {},
          "output_type": "execute_result"
        }
      ],
      "source": [
        "\u2349big"
      ]
    },
    {
      "cell_type": "code",
      "execution_count": 111,
      "id": "conditional-marketplace",
      "metadata": {},
      "outputs": [
        {
          "data": {
            "text/html": [
              "<span style=\"white-space:pre; font-family: monospace\">2 3 4\n",
              "</span>"
            ]
          },
          "execution_count": 111,
          "metadata": {},
          "output_type": "execute_result"
        }
      ],
      "source": [
        "\u2374big"
      ]
    },
    {
      "cell_type": "code",
      "execution_count": 112,
      "id": "cosmetic-valve",
      "metadata": {},
      "outputs": [
        {
          "data": {
            "text/html": [
              "<span style=\"white-space:pre; font-family: monospace\">4 3 2\n",
              "</span>"
            ]
          },
          "execution_count": 112,
          "metadata": {},
          "output_type": "execute_result"
        }
      ],
      "source": [
        "\u2374\u2349big"
      ]
    },
    {
      "cell_type": "markdown",
      "id": "beginning-following",
      "metadata": {},
      "source": [
        "You can see that `\u2374\u2349big` is equal to `\u233d\u2374big`, and the explanation of why this is the case will follow shortly.\n",
        "\n",
        "All three primitives we just discussed also have (related) dyadic meanings, and those are introduced in two following sections."
      ]
    },
    {
      "cell_type": "markdown",
      "id": "fewer-zealand",
      "metadata": {},
      "source": [
        "(Working-on-Data-Shape-Rotate)=\n",
        "## Rotate\n",
        "\n",
        "The symbols `\u233d` and `\u2296`, when used dyadically, shift the items of the right argument in a circular manner.\n",
        "\n",
        "The dyadic functions are called _rotate_."
      ]
    },
    {
      "cell_type": "markdown",
      "id": "acute-tenant",
      "metadata": {},
      "source": [
        "(Working-on-Data-Shape-Rotate-Vectors)=\n",
        "### Rotate Vectors\n",
        "\n",
        "Much like in the monadic case, the dyadic usage of `\u233d` and `\u2296` is identical when applied to vectors (we shall use `\u233d` in our examples because of the visual clue that the symbol `\u233d` gives with respect to the operation it performs).\n",
        "\n",
        "Dyadic `\u233d` (and `\u2296`) expects an integer as the left argument, when the right argument is a vector, like so: `r \u2190 n\u233dvector`.\n",
        "\n",
        " - when `n` is positive, the first `n` items of `vector` are moved to the end. In other words, the vector is rotated to the left; and\n",
        " - when `n` is negative, the last `n` items of `vector` are moved to the beginning. In other words, the vector is rotated to the right:"
      ]
    },
    {
      "cell_type": "code",
      "execution_count": 113,
      "id": "systematic-billion",
      "metadata": {},
      "outputs": [
        {
          "data": {
            "text/html": [
              "<span style=\"white-space:pre; font-family: monospace\">d they do to my song?What di\n",
              "</span>"
            ]
          },
          "execution_count": 113,
          "metadata": {},
          "output_type": "execute_result"
        }
      ],
      "source": [
        "7\u233d'What did they do to my song?'"
      ]
    },
    {
      "cell_type": "markdown",
      "id": "computational-dakota",
      "metadata": {},
      "source": [
        "In the example above, the first 7 items of the vector (`'What di'`) have been moved to the back, whereas if we use a negative argument:"
      ]
    },
    {
      "cell_type": "code",
      "execution_count": 114,
      "id": "academic-landscape",
      "metadata": {},
      "outputs": [
        {
          "data": {
            "text/html": [
              "<span style=\"white-space:pre; font-family: monospace\">y song?What did they do to m\n",
              "</span>"
            ]
          },
          "execution_count": 114,
          "metadata": {},
          "output_type": "execute_result"
        }
      ],
      "source": [
        "\u00af7\u233d'What did they do to my song?'"
      ]
    },
    {
      "cell_type": "markdown",
      "id": "duplicate-initial",
      "metadata": {},
      "source": [
        "the last 7 items of the vector (`'y song?'`) are moved to the front of the vector.\n",
        "\n",
        "_Rotate_ can of course be applied to numeric vectors as well:"
      ]
    },
    {
      "cell_type": "code",
      "execution_count": 115,
      "id": "separate-protocol",
      "metadata": {},
      "outputs": [
        {
          "data": {
            "text/html": [
              "<span style=\"white-space:pre; font-family: monospace\">56 66 19 37 44 20 18 23 68 70 82\n",
              "</span>"
            ]
          },
          "execution_count": 115,
          "metadata": {},
          "output_type": "execute_result"
        }
      ],
      "source": [
        "nums"
      ]
    },
    {
      "cell_type": "code",
      "execution_count": 116,
      "id": "spare-pressure",
      "metadata": {},
      "outputs": [
        {
          "data": {
            "text/html": [
              "<span style=\"white-space:pre; font-family: monospace\">37 44 20 18 23 68 70 82 56 66 19\n",
              "</span>"
            ]
          },
          "execution_count": 116,
          "metadata": {},
          "output_type": "execute_result"
        }
      ],
      "source": [
        "3\u233dnums"
      ]
    },
    {
      "cell_type": "markdown",
      "id": "metallic-montana",
      "metadata": {},
      "source": [
        "Do not confuse the following two expressions:"
      ]
    },
    {
      "cell_type": "code",
      "execution_count": 117,
      "id": "respected-proportion",
      "metadata": {},
      "outputs": [
        {
          "data": {
            "text/html": [
              "<span style=\"white-space:pre; font-family: monospace\">68 70 82 56 66 19 37 44 20 18 23\n",
              "</span>"
            ]
          },
          "execution_count": 117,
          "metadata": {},
          "output_type": "execute_result"
        }
      ],
      "source": [
        "\u00af3\u233dnums"
      ]
    },
    {
      "cell_type": "code",
      "execution_count": 118,
      "id": "prostate-theorem",
      "metadata": {},
      "outputs": [
        {
          "data": {
            "text/html": [
              "<span style=\"white-space:pre; font-family: monospace\">\u00af37 \u00af44 \u00af20 \u00af18 \u00af23 \u00af68 \u00af70 \u00af82 \u00af56 \u00af66 \u00af19\n",
              "</span>"
            ]
          },
          "execution_count": 118,
          "metadata": {},
          "output_type": "execute_result"
        }
      ],
      "source": [
        "-3\u233dnums"
      ]
    },
    {
      "cell_type": "markdown",
      "id": "purple-death",
      "metadata": {},
      "source": [
        "The first one moves 3 items to the beginning, whilst the second expression moves the first 3 items to the end, and then changes the sign of the result (we saw something very similar when we talked about _take_).\n",
        "It is all about being careful with the normal and high minus symbols!"
      ]
    },
    {
      "cell_type": "markdown",
      "id": "frozen-viking",
      "metadata": {},
      "source": [
        "(Working-on-Data-Shape-Rotate-Higher-Rank-Arrays)=\n",
        "### Rotate Higher-Rank Arrays\n",
        "\n",
        "When applied to a matrix or higher-order array, `\u233d` works on the last dimension, while `\u2296` works on the first dimension.\n",
        "This default behaviour can be overriden by an _axis_ specification.\n",
        "To obtain a rotation along any other dimension, the _axis_ specification is mandatory.\n",
        "\n",
        "_Rotate_ can be applied to any array, but we shall only demonstrate its application to matrices."
      ]
    },
    {
      "cell_type": "markdown",
      "id": "auburn-isolation",
      "metadata": {},
      "source": [
        "(Working-on-Data-Shape-Uniform-Rotation)=\n",
        "#### Uniform Rotation\n",
        "\n",
        "In its simplest form, _rotate_ applies the same rotation to all the rows or columns of a matrix; let us see the result produced on a character matrix:"
      ]
    },
    {
      "cell_type": "code",
      "execution_count": 119,
      "id": "academic-indonesia",
      "metadata": {},
      "outputs": [
        {
          "data": {
            "text/html": [
              "<span style=\"white-space:pre; font-family: monospace\">January \n",
              "February\n",
              "March   \n",
              "April   \n",
              "May     \n",
              "June    \n",
              "</span>"
            ]
          },
          "execution_count": 119,
          "metadata": {},
          "output_type": "execute_result"
        }
      ],
      "source": [
        "\u2395\u2190 monMat \u2190 6 8\u2374'January FebruaryMarch   April   May     June    '"
      ]
    },
    {
      "cell_type": "code",
      "execution_count": 120,
      "id": "excess-lending",
      "metadata": {},
      "outputs": [
        {
          "data": {
            "text/html": [
              "<span style=\"white-space:pre; font-family: monospace\">nuary Ja\n",
              "bruaryFe\n",
              "rch   Ma\n",
              "ril   Ap\n",
              "y     Ma\n",
              "ne    Ju\n",
              "</span>"
            ]
          },
          "execution_count": 120,
          "metadata": {},
          "output_type": "execute_result"
        }
      ],
      "source": [
        "2\u233dmonMat"
      ]
    },
    {
      "cell_type": "code",
      "execution_count": 121,
      "id": "separate-ambassador",
      "metadata": {},
      "outputs": [
        {
          "data": {
            "text/html": [
              "<span style=\"white-space:pre; font-family: monospace\">March   \n",
              "April   \n",
              "May     \n",
              "June    \n",
              "January \n",
              "February\n",
              "</span>"
            ]
          },
          "execution_count": 121,
          "metadata": {},
          "output_type": "execute_result"
        }
      ],
      "source": [
        "2\u2296monMat"
      ]
    },
    {
      "cell_type": "code",
      "execution_count": 122,
      "id": "isolated-envelope",
      "metadata": {},
      "outputs": [
        {
          "data": {
            "text/html": [
              "<span style=\"white-space:pre; font-family: monospace\">May     \n",
              "June    \n",
              "January \n",
              "February\n",
              "March   \n",
              "April   \n",
              "</span>"
            ]
          },
          "execution_count": 122,
          "metadata": {},
          "output_type": "execute_result"
        }
      ],
      "source": [
        "\u00af2\u2296monMat"
      ]
    },
    {
      "cell_type": "markdown",
      "id": "perceived-animation",
      "metadata": {},
      "source": [
        "(Working-on-Data-Shape-Multiple-Rotations)=\n",
        "#### Multiple Rotations\n",
        "\n",
        "It is possible to apply a different rotation to each of the rows or to each of the columns.\n",
        "\n",
        "In this case, the rotation is no longer indicated by a single value, but by a vector which specifies the amount by which each row or column will be moved."
      ]
    },
    {
      "cell_type": "code",
      "execution_count": 123,
      "id": "coated-campbell",
      "metadata": {},
      "outputs": [
        {
          "data": {
            "text/html": [
              "<span style=\"white-space:pre; font-family: monospace\">H2SO4\n",
              "CaCO3\n",
              "Fe2O3\n",
              "</span>"
            ]
          },
          "execution_count": 123,
          "metadata": {},
          "output_type": "execute_result"
        }
      ],
      "source": [
        "chemistry"
      ]
    },
    {
      "cell_type": "code",
      "execution_count": 124,
      "id": "static-swiss",
      "metadata": {},
      "outputs": [
        {
          "data": {
            "text/html": [
              "<span style=\"white-space:pre; font-family: monospace\">4H2SO\n",
              "CaCO3\n",
              "2O3Fe\n",
              "</span>"
            ]
          },
          "execution_count": 124,
          "metadata": {},
          "output_type": "execute_result"
        }
      ],
      "source": [
        "\u00af1 0 2\u233dchemistry"
      ]
    },
    {
      "cell_type": "markdown",
      "id": "proved-touch",
      "metadata": {},
      "source": [
        "Notice how `\u00af1` was used to rotate the first row, `0` was used to rotate the second row, and `2` was used to rotate the third row.\n",
        "\n",
        "Using `\u2296`, we can rotate columns:"
      ]
    },
    {
      "cell_type": "code",
      "execution_count": 125,
      "id": "static-kidney",
      "metadata": {},
      "outputs": [
        {
          "data": {
            "text/html": [
              "<span style=\"white-space:pre; font-family: monospace\">January \n",
              "February\n",
              "March   \n",
              "April   \n",
              "May     \n",
              "June    \n",
              "</span>"
            ]
          },
          "execution_count": 125,
          "metadata": {},
          "output_type": "execute_result"
        }
      ],
      "source": [
        "monMat"
      ]
    },
    {
      "cell_type": "code",
      "execution_count": 126,
      "id": "provincial-assurance",
      "metadata": {},
      "outputs": [
        {
          "data": {
            "text/html": [
              "<span style=\"white-space:pre; font-family: monospace\">Far ar  \n",
              "Mereua  \n",
              "Aayuh   \n",
              "Mpnrl   \n",
              "Janc  y \n",
              "Jubi  ry\n",
              "</span>"
            ]
          },
          "execution_count": 126,
          "metadata": {},
          "output_type": "execute_result"
        }
      ],
      "source": [
        "1 0 2 \u00af2 0 0 2 2\u2296monMat"
      ]
    },
    {
      "cell_type": "markdown",
      "id": "virgin-hebrew",
      "metadata": {},
      "source": [
        "(Working-on-Data-Shape-Application)=\n",
        "#### Application\n",
        "\n",
        "_Rotate_ can provide very simple solutions to many tasks.\n",
        "For example, let us count how many blanks appear at the end of each row of `monMat`:"
      ]
    },
    {
      "cell_type": "code",
      "execution_count": 127,
      "id": "hearing-nancy",
      "metadata": {},
      "outputs": [
        {
          "data": {
            "text/html": [
              "<span style=\"white-space:pre; font-family: monospace\">1 0 3 3 5 4\n",
              "</span>"
            ]
          },
          "execution_count": 127,
          "metadata": {},
          "output_type": "execute_result"
        }
      ],
      "source": [
        "+/' '=monMat"
      ]
    },
    {
      "cell_type": "markdown",
      "id": "critical-canyon",
      "metadata": {},
      "source": [
        "We can then use these values to move the blanks to the beginning of each row, thereby right-aligning the matrix:"
      ]
    },
    {
      "cell_type": "code",
      "execution_count": 128,
      "id": "steady-doubt",
      "metadata": {},
      "outputs": [
        {
          "data": {
            "text/html": [
              "<span style=\"white-space:pre; font-family: monospace\"> January\n",
              "February\n",
              "   March\n",
              "   April\n",
              "     May\n",
              "    June\n",
              "</span>"
            ]
          },
          "execution_count": 128,
          "metadata": {},
          "output_type": "execute_result"
        }
      ],
      "source": [
        "(-+/' '=monMat)\u233dmonMat"
      ]
    },
    {
      "cell_type": "markdown",
      "id": "careful-playlist",
      "metadata": {},
      "source": [
        "(Working-on-Data-Shape-Dyadic-Transpose)=\n",
        "## Dyadic Transpose\n",
        "\n",
        "_Dyadic transpose_ is interesting only for arrays of rank higher than 2.\n",
        "It rotates an array as if to show it from different angles.\n",
        "\n",
        "Remember our variable called `prod`:"
      ]
    },
    {
      "cell_type": "code",
      "execution_count": 129,
      "id": "adaptive-flower",
      "metadata": {},
      "outputs": [
        {
          "data": {
            "text/html": [
              "<span style=\"white-space:pre; font-family: monospace\"> 9 16 42 50  2  3 11 45 17 37 29 36\n",
              "34 19 32 12 37 15 46 24 49 28 36  9\n",
              "                                   \n",
              "29  5 45 23 27  4 23 16 39 22 22  2\n",
              "46 20 47 17 18 25 13 38 42 38 45 28\n",
              "                                   \n",
              "37 19  5 10 30 49 16 18 46 47 47  3\n",
              "39 23 41 20  6 40 21 22 40 49 20  1\n",
              "                                   \n",
              "13 36 12 40 12 15 24 20 21 12 19 25\n",
              " 8 48 22 37 33  1 39 30 50 50  8 35\n",
              "                                   \n",
              "38 31 24 40 23  7 20 34 35  6 19 27\n",
              "41  1 14 50 17 42  6 35 12 48 30 29\n",
              "</span>"
            ]
          },
          "execution_count": 129,
          "metadata": {},
          "output_type": "execute_result"
        }
      ],
      "source": [
        "prod"
      ]
    },
    {
      "cell_type": "markdown",
      "id": "accessory-festival",
      "metadata": {},
      "source": [
        "It is an array with 3 dimensions, which are respectively 5 years, 2 assembly lines, and 12 months.\n",
        "\n",
        "Suppose we now want to reorganise it into an array of 2 assembly lines, 5 years, and 12 months: a dyadic transposition can do that for us.\n",
        "\n",
        "The left argument of _dyadic transpose_ specifies the position that you want each dimension to appear in the result.\n",
        "\n",
        "The shape of `prod` was"
      ]
    },
    {
      "cell_type": "code",
      "execution_count": 130,
      "id": "unlimited-producer",
      "metadata": {},
      "outputs": [
        {
          "data": {
            "text/html": [
              "<span style=\"white-space:pre; font-family: monospace\">5 2 12\n",
              "</span>"
            ]
          },
          "execution_count": 130,
          "metadata": {},
          "output_type": "execute_result"
        }
      ],
      "source": [
        "\u2374prod"
      ]
    },
    {
      "cell_type": "markdown",
      "id": "helpful-mexican",
      "metadata": {},
      "source": [
        "but now we want it to become `2 5 12`.\n",
        "The years should become the 2nd dimension, the assembly lines should become the 1st dimension, and the months should remain the 3rd dimension, hence the transposition vector will be `2 1 3`:"
      ]
    },
    {
      "cell_type": "code",
      "execution_count": 131,
      "id": "everyday-victim",
      "metadata": {},
      "outputs": [
        {
          "data": {
            "text/html": [
              "<span style=\"white-space:pre; font-family: monospace\"> 9 16 42 50  2  3 11 45 17 37 29 36\n",
              "29  5 45 23 27  4 23 16 39 22 22  2\n",
              "37 19  5 10 30 49 16 18 46 47 47  3\n",
              "13 36 12 40 12 15 24 20 21 12 19 25\n",
              "38 31 24 40 23  7 20 34 35  6 19 27\n",
              "                                   \n",
              "34 19 32 12 37 15 46 24 49 28 36  9\n",
              "46 20 47 17 18 25 13 38 42 38 45 28\n",
              "39 23 41 20  6 40 21 22 40 49 20  1\n",
              " 8 48 22 37 33  1 39 30 50 50  8 35\n",
              "41  1 14 50 17 42  6 35 12 48 30 29\n",
              "</span>"
            ]
          },
          "execution_count": 131,
          "metadata": {},
          "output_type": "execute_result"
        }
      ],
      "source": [
        "2 1 3\u2349prod"
      ]
    },
    {
      "cell_type": "markdown",
      "id": "imported-popularity",
      "metadata": {},
      "source": [
        "Alternatively, if we want to reorganise it into an array of 2 assembly lines, 12 months, and 5 years, the method will be the same:\n",
        "\n",
        "The required new shape is `2 12 5`.\n",
        "\n",
        "When all dimensions are different from each other, the transposition vector can be generated using dyadic _iota_:"
      ]
    },
    {
      "cell_type": "code",
      "execution_count": 132,
      "id": "defensive-street",
      "metadata": {},
      "outputs": [
        {
          "data": {
            "text/html": [
              "<span style=\"white-space:pre; font-family: monospace\">3 1 2\n",
              "</span>"
            ]
          },
          "execution_count": 132,
          "metadata": {},
          "output_type": "execute_result"
        }
      ],
      "source": [
        "\u2395\u2190 tv \u2190 2 12 5 \u2373 \u2374prod"
      ]
    },
    {
      "cell_type": "code",
      "execution_count": 133,
      "id": "accredited-british",
      "metadata": {},
      "outputs": [
        {
          "data": {
            "text/html": [
              "<span style=\"white-space:pre; font-family: monospace\"> 9 29 37 13 38\n",
              "16  5 19 36 31\n",
              "42 45  5 12 24\n",
              "50 23 10 40 40\n",
              " 2 27 30 12 23\n",
              " 3  4 49 15  7\n",
              "11 23 16 24 20\n",
              "45 16 18 20 34\n",
              "17 39 46 21 35\n",
              "37 22 47 12  6\n",
              "29 22 47 19 19\n",
              "36  2  3 25 27\n",
              "              \n",
              "34 46 39  8 41\n",
              "19 20 23 48  1\n",
              "32 47 41 22 14\n",
              "12 17 20 37 50\n",
              "37 18  6 33 17\n",
              "15 25 40  1 42\n",
              "46 13 21 39  6\n",
              "24 38 22 30 35\n",
              "49 42 40 50 12\n",
              "28 38 49 50 48\n",
              "36 45 20  8 30\n",
              " 9 28  1 35 29\n",
              "</span>"
            ]
          },
          "execution_count": 133,
          "metadata": {},
          "output_type": "execute_result"
        }
      ],
      "source": [
        "tv\u2349prod"
      ]
    },
    {
      "cell_type": "markdown",
      "id": "downtown-railway",
      "metadata": {},
      "source": [
        "(fig-APLer-Skilled_Orange)=\n",
        "```{figure} res/APLer-Skilled_Orange.png\n",
        "---\n",
        "name: APLer-Skilled_Orange\n",
        "---\n",
        "\"Skilled APLer that is confident with their tools.\"\n",
        "```\n"
      ]
    },
    {
      "cell_type": "markdown",
      "id": "geographic-watts",
      "metadata": {},
      "source": [
        "(Working-on-Data-Shape-Exercises)=\n",
        "## Exercises\n",
        "\n",
        "**Exercise 1**:\n",
        "\n",
        "You are given this matrix:"
      ]
    },
    {
      "cell_type": "code",
      "execution_count": 134,
      "id": "tropical-jenny",
      "metadata": {},
      "outputs": [
        {
          "data": {
            "text/html": [
              "<span style=\"white-space:pre; font-family: monospace\">1 9 5 3 6\n",
              "5 4 8 2 3\n",
              "7 7 6 2 6\n",
              "</span>"
            ]
          },
          "execution_count": 134,
          "metadata": {},
          "output_type": "execute_result"
        }
      ],
      "source": [
        "\u2395\u2190 xg1 \u2190 3 5\u23741 9 5 3 6 5 4 8 2 3 7 7 6 2 6"
      ]
    },
    {
      "cell_type": "markdown",
      "id": "serious-appendix",
      "metadata": {},
      "source": [
        "Try to produce each of the three following matrices, using first only _take_, and then only _drop_:\n",
        "\n",
        "```APL\n",
        "5 3 6\n",
        "8 2 3\n",
        "```\n",
        "\n",
        "```APL\n",
        "5 4 8 2\n",
        "7 7 6 2\n",
        "```\n",
        "\n",
        "```APL\n",
        "9 5 3\n",
        "4 8 2\n",
        "7 6 2\n",
        "```"
      ]
    },
    {
      "cell_type": "markdown",
      "id": "composite-columbus",
      "metadata": {},
      "source": [
        "**Exercise 2**:\n",
        "\n",
        "With `xg1` again, how could you produce this:\n",
        "\n",
        "```APL\n",
        "1 9 5 3 6 0\n",
        "5 4 8 2 3 0\n",
        "7 7 6 2 6 0\n",
        "0 0 0 0 0 0\n",
        "```"
      ]
    },
    {
      "cell_type": "markdown",
      "id": "tight-meter",
      "metadata": {},
      "source": [
        "**Exercise 3**:\n",
        "\n",
        "Write a dyadic function `TakeShape` that computes the _shape_ of the result of doing `ns\u2191array`.\n",
        "The left argument to `TakeShape` will be `ns` and the right argument will be `\u2374array`.\n",
        "You can assume that the left argument and right arguments are valid and make sense together.\n",
        "\n",
        "Also implement `DropShape`, that does the same thing as `TakeShape`, but for _drop_ instead of for _take_."
      ]
    },
    {
      "cell_type": "code",
      "execution_count": 135,
      "id": "posted-heritage",
      "metadata": {},
      "outputs": [],
      "source": [
        "TakeShape \u2190 {}"
      ]
    },
    {
      "cell_type": "code",
      "execution_count": 136,
      "id": "daily-colonial",
      "metadata": {},
      "outputs": [],
      "source": [
        "2 \u00af3 TakeShape 1 5 10\n",
        "\u235d 2 3 10"
      ]
    },
    {
      "cell_type": "code",
      "execution_count": 137,
      "id": "eight-peninsula",
      "metadata": {},
      "outputs": [],
      "source": [
        "DropShape \u2190 {}"
      ]
    },
    {
      "cell_type": "code",
      "execution_count": 138,
      "id": "recovered-northwest",
      "metadata": {},
      "outputs": [],
      "source": [
        "15 4 \u00af3 DropShape 10 10 10\n",
        "\u235d 0 6 7"
      ]
    },
    {
      "cell_type": "markdown",
      "id": "controlling-thickness",
      "metadata": {},
      "source": [
        "**Exercise 4**:\n",
        "\n",
        "Write two dyadic functions, `TakeAsDrop` and `DropAsTake`, that take an array on the right and a vector on the left.\n",
        "`r \u2190 v TakeAsDrop a` is such that `(r\u2193a)\u2261v\u2191a` whenever possible, and conversely for `DropAsTake`: `r \u2190 v DropAsTake` is such that `(r\u2191a)\u2261v\u2193a` whenever possible.\n",
        "Test your functions with your solutions to exercise 1."
      ]
    },
    {
      "cell_type": "markdown",
      "id": "round-arbitration",
      "metadata": {},
      "source": [
        "**Exercise 5**:\n",
        "\n",
        "Write a function which \"highlights\" all the vowels of a given character vector by placing an arrow under them:"
      ]
    },
    {
      "cell_type": "code",
      "execution_count": 139,
      "id": "collect-appreciation",
      "metadata": {},
      "outputs": [],
      "source": [
        "ShowVowels \u2190 {}"
      ]
    },
    {
      "cell_type": "code",
      "execution_count": 140,
      "id": "naval-asset",
      "metadata": {},
      "outputs": [],
      "source": [
        "ShowVowels 'This function works properly'\n",
        "\u235d This function works properly\n",
        "\u235d   \u2191   \u2191   \u2191\u2191   \u2191      \u2191 \u2191  \u2191"
      ]
    },
    {
      "cell_type": "markdown",
      "id": "collective-screen",
      "metadata": {},
      "source": [
        "**Exercise 6**:\n",
        "\n",
        "Some matrices are mainly filled with zeroes, like the matrix `xg4` shown below:"
      ]
    },
    {
      "cell_type": "code",
      "execution_count": 141,
      "id": "forty-optimum",
      "metadata": {},
      "outputs": [
        {
          "data": {
            "text/html": [
              "<span style=\"white-space:pre; font-family: monospace\">0 0 8 0 0 3 0\n",
              "0 7 0 0 0 0 0\n",
              "6 0 2 0 0 0 1\n",
              "0 0 0 0 4 0 0\n",
              "</span>"
            ]
          },
          "execution_count": 141,
          "metadata": {},
          "output_type": "execute_result"
        }
      ],
      "source": [
        "xg6 \u2190 4 7\u23740\n",
        "xg6[(1 3)(1 6)(2 2)(3 1)(3 3)(3 7)(4 5)] \u2190 8 3 7 6 2 1 4\n",
        "xg6"
      ]
    },
    {
      "cell_type": "markdown",
      "id": "lyric-malta",
      "metadata": {},
      "source": [
        "These are called _sparse matrices_.\n",
        "\n",
        "A large sparse matrix may occupy a lot of memory.\n",
        "To reduce the memory consumption, we can ravel the matrix,"
      ]
    },
    {
      "cell_type": "code",
      "execution_count": 142,
      "id": "variable-collapse",
      "metadata": {},
      "outputs": [
        {
          "data": {
            "text/html": [
              "<span style=\"white-space:pre; font-family: monospace\">0 0 8 0 0 3 0 0 7 0 0 0 0 0 6 0 2 0 0 0 1 0 0 0 0 4 0 0\n",
              "</span>"
            ]
          },
          "execution_count": 142,
          "metadata": {},
          "output_type": "execute_result"
        }
      ],
      "source": [
        ",xg6"
      ]
    },
    {
      "cell_type": "markdown",
      "id": "mechanical-karma",
      "metadata": {},
      "source": [
        "retaining only the positive values together with their position in the ravel:"
      ]
    },
    {
      "cell_type": "code",
      "execution_count": 143,
      "id": "vertical-ratio",
      "metadata": {},
      "outputs": [],
      "source": [
        "positiveValues \u2190 8 3 7  6  2  1  4\n",
        "positions      \u2190 3 6 9 15 17 21 26"
      ]
    },
    {
      "cell_type": "markdown",
      "id": "failing-bunny",
      "metadata": {},
      "source": [
        "If now we add the shape of the matrix on the left, we have all the necessary information to restore the original matrix when required:\n",
        "\n",
        "```APL\n",
        " 4 8 3 7  6  2  1  4\n",
        " 7 3 6 9 15 17 21 26\n",
        "\u235d\u2191 shape of the original matrix\n",
        "```\n",
        "\n",
        "Can you write\n",
        "\n",
        " - a function which creates this compact form (let us call the function `Contraction`); and\n",
        " - a function `Restore` which retrieves the original matrix from its compact form?"
      ]
    },
    {
      "cell_type": "markdown",
      "id": "european-fluid",
      "metadata": {},
      "source": [
        "**Exercise 7**:\n",
        "\n",
        "In a given character vector, we would like to replace all the occurrences of a given letter with blanks:"
      ]
    },
    {
      "cell_type": "code",
      "execution_count": 144,
      "id": "arabic-parent",
      "metadata": {},
      "outputs": [],
      "source": [
        "sentence \u2190 'Panama is a canal between Atlantic and Pacific'\n",
        "Whiten \u2190 {}"
      ]
    },
    {
      "cell_type": "code",
      "execution_count": 145,
      "id": "changed-party",
      "metadata": {},
      "outputs": [],
      "source": [
        "'a' Whiten sentence\n",
        "\u235d P n m  is   c n l between Atl ntic  nd P cific"
      ]
    },
    {
      "cell_type": "markdown",
      "id": "constitutional-stretch",
      "metadata": {},
      "source": [
        "Find a solution using _expand_."
      ]
    },
    {
      "cell_type": "markdown",
      "id": "variable-flavor",
      "metadata": {},
      "source": [
        "**Exercise 8**:\n",
        "\n",
        "Write a dyadic function to centre a title above a character matrix, like this:"
      ]
    },
    {
      "cell_type": "code",
      "execution_count": 146,
      "id": "informational-breast",
      "metadata": {},
      "outputs": [],
      "source": [
        "OnTop \u2190 {}"
      ]
    },
    {
      "cell_type": "code",
      "execution_count": 147,
      "id": "perfect-chaos",
      "metadata": {},
      "outputs": [],
      "source": [
        "'2007' OnTop monMat\n",
        "\u235d   2007\n",
        "\u235d --------\n",
        "\u235d January\n",
        "\u235d February\n",
        "\u235d March\n",
        "\u235d April\n",
        "\u235d May\n",
        "\u235d June"
      ]
    },
    {
      "cell_type": "markdown",
      "id": "detected-voltage",
      "metadata": {},
      "source": [
        "**Exercise 9**:\n",
        "\n",
        "You are given this matrix:"
      ]
    },
    {
      "cell_type": "code",
      "execution_count": 148,
      "id": "understanding-array",
      "metadata": {},
      "outputs": [
        {
          "data": {
            "text/html": [
              "<span style=\"white-space:pre; font-family: monospace\">oeornlhtu\n",
              " n siduot\n",
              "hf uogYti\n",
              "</span>"
            ]
          },
          "execution_count": 148,
          "metadata": {},
          "output_type": "execute_result"
        }
      ],
      "source": [
        "\u2395\u2190 xg9 \u2190 3 9\u2374'oeornlhtu n siduothf uogYti'"
      ]
    },
    {
      "cell_type": "markdown",
      "id": "bronze-september",
      "metadata": {},
      "source": [
        "What is the result of the expression `\u00af3 \u00af1 3\u233d(-2 1 0 1 0 2 1 2 0)\u2296xg9`?"
      ]
    },
    {
      "cell_type": "markdown",
      "id": "lined-response",
      "metadata": {},
      "source": [
        "**Exercise 10**:\n",
        "\n",
        "You are given a Boolean vector like the following:"
      ]
    },
    {
      "cell_type": "code",
      "execution_count": 149,
      "id": "emotional-mississippi",
      "metadata": {},
      "outputs": [
        {
          "data": {
            "text/html": [
              "<span style=\"white-space:pre; font-family: monospace\">1 0 0 1 1 1 0 1 0 0 0 1 1 0 0 0 0 1 1 0 0 0 0 1 0 0\n",
              "</span>"
            ]
          },
          "execution_count": 149,
          "metadata": {},
          "output_type": "execute_result"
        }
      ],
      "source": [
        "\u2395\u2190 xg10 \u2190 1 0 0 1 1 1 0 1 0 0 0 1 1 0 0 0 0 1 1 0 0 0 0 1 0 0"
      ]
    },
    {
      "cell_type": "markdown",
      "id": "respected-logging",
      "metadata": {},
      "source": [
        "We would like to find a list of `n` contiguous zeroes in this vector.\n",
        "Write a function which gives the position of the first zero of the first such list found.\n",
        "If there is no list of `n` zeroes, the function is supposed to return 0.\n",
        "Loops are (of course) strictly forbidden!"
      ]
    },
    {
      "cell_type": "code",
      "execution_count": 150,
      "id": "alpha-lending",
      "metadata": {},
      "outputs": [],
      "source": [
        "Free \u2190 {}"
      ]
    },
    {
      "cell_type": "code",
      "execution_count": 151,
      "id": "cultural-court",
      "metadata": {},
      "outputs": [],
      "source": [
        "3 Free xg10\n",
        "\u235d 9"
      ]
    },
    {
      "cell_type": "code",
      "execution_count": 152,
      "id": "cardiovascular-tanzania",
      "metadata": {},
      "outputs": [],
      "source": [
        "6 Free xg10\n",
        "\u235d 0"
      ]
    },
    {
      "cell_type": "code",
      "execution_count": 153,
      "id": "continued-faculty",
      "metadata": {},
      "outputs": [],
      "source": [
        "4 Free xg10\n",
        "\u235d 14"
      ]
    },
    {
      "cell_type": "markdown",
      "id": "reduced-benefit",
      "metadata": {},
      "source": [
        "**Exercise 11**:\n",
        "\n",
        "The following is a long matrix of names:"
      ]
    },
    {
      "cell_type": "code",
      "execution_count": 154,
      "id": "introductory-thirty",
      "metadata": {},
      "outputs": [
        {
          "data": {
            "text/html": [
              "<span style=\"white-space:pre; font-family: monospace\">Emily   \n",
              "Luciano \n",
              "Paul    \n",
              "Oxana   \n",
              "Thor    \n",
              "Carmen  \n",
              "Veronica\n",
              "William \n",
              "Vladimir\n",
              "Monica  \n",
              "Colette \n",
              "</span>"
            ]
          },
          "execution_count": 154,
          "metadata": {},
          "output_type": "execute_result"
        }
      ],
      "source": [
        "\u2395\u2190 xg11 \u2190 11 8\u2374'Emily   Luciano Paul    Oxana   Thor    Carmen  VeronicaWilliam VladimirMonica  Colette '"
      ]
    },
    {
      "cell_type": "markdown",
      "id": "joined-essay",
      "metadata": {},
      "source": [
        "Write a function to split this matrix into slices, and position these slices one next to the other, like this:"
      ]
    },
    {
      "cell_type": "code",
      "execution_count": 155,
      "id": "adaptive-train",
      "metadata": {},
      "outputs": [],
      "source": [
        "Split \u2190 {}"
      ]
    },
    {
      "cell_type": "code",
      "execution_count": 156,
      "id": "distinct-partner",
      "metadata": {},
      "outputs": [],
      "source": [
        "3 Split xg11\n",
        "\u235d Emily    Thor     Vladimir\n",
        "\u235d Luciano  Carmen   Monica\n",
        "\u235d Paul     Veronica Colette\n",
        "\u235d Oxana    William"
      ]
    },
    {
      "cell_type": "markdown",
      "id": "threatened-count",
      "metadata": {},
      "source": [
        "The number of slices is passed as the left argument and a blank is inserted between the slices."
      ]
    },
    {
      "cell_type": "markdown",
      "id": "spread-hayes",
      "metadata": {},
      "source": [
        "**Exercise 12**:\n",
        "\n",
        "You are given a numeric vector:"
      ]
    },
    {
      "cell_type": "code",
      "execution_count": 157,
      "id": "mighty-turtle",
      "metadata": {},
      "outputs": [],
      "source": [
        "xg12 \u2190 22 22 74 74 74 74 30 65 65 65 19"
      ]
    },
    {
      "cell_type": "markdown",
      "id": "binding-symposium",
      "metadata": {},
      "source": [
        "It has the same number of items as there are names in the variable `xg9` from the previous exercise.\n",
        "It is composed of groups of identical codes.\n",
        "\n",
        "Write a function which displays side by side this vector of codes and the associated matrix of names, with an empty line inserted each time the code changes, like this:"
      ]
    },
    {
      "cell_type": "code",
      "execution_count": 158,
      "id": "experimental-letter",
      "metadata": {},
      "outputs": [],
      "source": [
        "Expand \u2190 {}"
      ]
    },
    {
      "cell_type": "code",
      "execution_count": 159,
      "id": "material-simon",
      "metadata": {},
      "outputs": [],
      "source": [
        "xg12 Expand xg11\n",
        "\u235d 22  Emily\n",
        "\u235d 22  Luciano\n",
        "\u235d\n",
        "\u235d 74  Paul\n",
        "\u235d 74  Oxana\n",
        "\u235d 74  Thor\n",
        "\u235d 74  Carmen\n",
        "\u235d\n",
        "\u235d 30  Veronica\n",
        "\u235d\n",
        "\u235d 65  William\n",
        "\u235d 65  Vladimir\n",
        "\u235d 65  Monica\n",
        "\u235d\n",
        "\u235d 19  Colette"
      ]
    },
    {
      "cell_type": "markdown",
      "id": "viral-expert",
      "metadata": {},
      "source": [
        "(Working-on-Data-Shape-The-Specialists-Section)=\n",
        "## The Specialist's Section\n",
        "\n",
        "<br />\n",
        "<center>\n",
        "<i>Each chapter is followed by a \"Specialist's Section\" like this one. This section is dedicated to skilled APLers, who wish to improve their knowledge.</i>\n",
        "You will find here rare or complex usages of the concepts presented in this chapter, or discover extended explanations which need the knowledge of some symbols that will be seen much further in the book.\n",
        "    \n",
        "<b>If you are exploring APL for the first time, skip this section and go to the next chapter.</b>\n",
        "</center>"
      ]
    },
    {
      "cell_type": "markdown",
      "id": "devoted-dairy",
      "metadata": {},
      "source": [
        "(Working-on-Data-Shape-More-About-Laminate)=\n",
        "### More About Laminate\n",
        "\n",
        "Here is a formal definition of the conditions required to laminate two variables `a` and `b`.\n",
        "\n",
        "In the expression `r \u2190 a,[axis]b`,\n",
        "\n",
        " - it is mandatory that (\u2374a)\u2261(\u2374b), unless one of them is a scalar;\n",
        " - `axis` must be a value between `\u2395IO-1` and `\u2395IO+\u2262\u2374a`; and\n",
        " - the shape of `r` is given by the expression `((\u230aaxis\u2191\u2374a),2,((\u2308axis)\u2193\u2374a)`.\n",
        "\n",
        "Examine the second rule: it is obvious that `axis` can be negative if the _index origin_ is set to 0.\n",
        "The axis can also be negative for _mix_ and _ravel_ with axis.\n",
        "\n",
        "Let us use the following two vectors:"
      ]
    },
    {
      "cell_type": "code",
      "execution_count": 160,
      "id": "included-bacteria",
      "metadata": {},
      "outputs": [],
      "source": [
        "a \u2190 41 27 88 11\n",
        "b \u2190 39 63 12 69"
      ]
    },
    {
      "cell_type": "markdown",
      "id": "intellectual-supervisor",
      "metadata": {},
      "source": [
        "In order to produce the matrix"
      ]
    },
    {
      "cell_type": "code",
      "execution_count": 161,
      "id": "floppy-session",
      "metadata": {},
      "outputs": [
        {
          "data": {
            "text/html": [
              "<span style=\"white-space:pre; font-family: monospace\">41 27 88 11\n",
              "39 63 12 69\n",
              "</span>"
            ]
          },
          "execution_count": 161,
          "metadata": {},
          "output_type": "execute_result"
        }
      ],
      "source": [
        "2 4\u2374a,b"
      ]
    },
    {
      "cell_type": "markdown",
      "id": "continent-marijuana",
      "metadata": {},
      "source": [
        "we write"
      ]
    },
    {
      "cell_type": "code",
      "execution_count": 162,
      "id": "immediate-effects",
      "metadata": {},
      "outputs": [
        {
          "data": {
            "text/html": [
              "<span style=\"white-space:pre; font-family: monospace\">41 27 88 11\n",
              "39 63 12 69\n",
              "</span>"
            ]
          },
          "execution_count": 162,
          "metadata": {},
          "output_type": "execute_result"
        }
      ],
      "source": [
        "a,[0.5]b"
      ]
    },
    {
      "cell_type": "markdown",
      "id": "indonesian-myanmar",
      "metadata": {},
      "source": [
        "when `\u2395IO \u2190 1`, but if we set"
      ]
    },
    {
      "cell_type": "code",
      "execution_count": 163,
      "id": "third-deputy",
      "metadata": {},
      "outputs": [],
      "source": [
        "\u2395IO \u2190 0"
      ]
    },
    {
      "cell_type": "markdown",
      "id": "complex-series",
      "metadata": {},
      "source": [
        "then the expression becomes"
      ]
    },
    {
      "cell_type": "code",
      "execution_count": 164,
      "id": "practical-playing",
      "metadata": {},
      "outputs": [
        {
          "data": {
            "text/html": [
              "<span style=\"white-space:pre; font-family: monospace\">41 27 88 11\n",
              "39 63 12 69\n",
              "</span>"
            ]
          },
          "execution_count": 164,
          "metadata": {},
          "output_type": "execute_result"
        }
      ],
      "source": [
        "a,[\u00af0.5]b"
      ]
    },
    {
      "cell_type": "code",
      "execution_count": 165,
      "id": "pediatric-representation",
      "metadata": {},
      "outputs": [],
      "source": [
        "\u2395IO \u2190 1"
      ]
    },
    {
      "cell_type": "markdown",
      "id": "tribal-grace",
      "metadata": {},
      "source": [
        "(Working-on-Data-Shape-More-on-Dyadic-Transpose)=\n",
        "### More on Dyadic Transpose\n",
        "\n",
        "(Working-on-Data-Shape-Conditions)=\n",
        "#### Conditions\n",
        "\n",
        "We said that _dyadic transpose_ can be thought of as a way to observe an array from different positions.\n",
        "For this usage there is a certain rule to follow.\n",
        "\n",
        "To transpose an array with `a\u2349b`, we must have `a[\u234ba]\u2261\u2373\u2262\u2374b`.\n",
        "\n",
        "In other words, `a` must be composed of all the values of `\u2373\u2262\u2374b` taken in any order, or, mathematically speaking, `a` must be a permutation of the axes of `b`."
      ]
    },
    {
      "cell_type": "markdown",
      "id": "administrative-fairy",
      "metadata": {},
      "source": [
        "(Working-on-Data-Shape-Diagonal-Sections-of-an-Array)=\n",
        "#### Diagonal Sections of an Array\n",
        "\n",
        "_Dyadic transpose_ can also be used to select the items from an array which have two or more identical coordinates.\n",
        "Such selections are called \"diagonal sections\" of the array.\n",
        "\n",
        "For example, let us use the following array:"
      ]
    },
    {
      "cell_type": "code",
      "execution_count": 166,
      "id": "moderate-sussex",
      "metadata": {},
      "outputs": [
        {
          "data": {
            "text/html": [
              "<span style=\"white-space:pre; font-family: monospace\"> 1  2  3  4\n",
              " 5  6  7  8\n",
              " 9 10 11 12\n",
              "           \n",
              "13 14 15 16\n",
              "17 18 19 20\n",
              "21 22 23 24\n",
              "           \n",
              "25 26 27 28\n",
              "29 30 31 32\n",
              "33 34 35 36\n",
              "</span>"
            ]
          },
          "execution_count": 166,
          "metadata": {},
          "output_type": "execute_result"
        }
      ],
      "source": [
        "\u2395\u2190 y \u2190 3 3 4\u2374\u237336"
      ]
    },
    {
      "cell_type": "markdown",
      "id": "dutch-belly",
      "metadata": {},
      "source": [
        "Look at the result of the following expression:"
      ]
    },
    {
      "cell_type": "code",
      "execution_count": 167,
      "id": "sophisticated-distributor",
      "metadata": {},
      "outputs": [
        {
          "data": {
            "text/html": [
              "<span style=\"white-space:pre; font-family: monospace\"> 1  2  3  4\n",
              "17 18 19 20\n",
              "33 34 35 36\n",
              "</span>"
            ]
          },
          "execution_count": 167,
          "metadata": {},
          "output_type": "execute_result"
        }
      ],
      "source": [
        "1 1 2\u2349y"
      ]
    },
    {
      "cell_type": "markdown",
      "id": "clean-devices",
      "metadata": {},
      "source": [
        "We have specified that both the first and second dimensions are to become the first dimension of the result.\n",
        "This conflict is resolved by extracting the items on the diagonal between the dimensions which are merged.\n",
        "\n",
        "The items on this diagonal have identical first and second coordinates, much like the identical nature of the first and second values in the left argument `1 1 2\u2349y`.\n",
        "The result is a section of the \"cube\".\n",
        "\n",
        "The expression `2 2 1\u2349y` would give the same result, but transposed:"
      ]
    },
    {
      "cell_type": "code",
      "execution_count": 168,
      "id": "nominated-cement",
      "metadata": {},
      "outputs": [
        {
          "data": {
            "text/html": [
              "<span style=\"white-space:pre; font-family: monospace\">1 17 33\n",
              "2 18 34\n",
              "3 19 35\n",
              "4 20 36\n",
              "</span>"
            ]
          },
          "execution_count": 168,
          "metadata": {},
          "output_type": "execute_result"
        }
      ],
      "source": [
        "2 2 1\u2349y"
      ]
    },
    {
      "cell_type": "code",
      "execution_count": 169,
      "id": "human-vessel",
      "metadata": {},
      "outputs": [
        {
          "data": {
            "text/html": [
              "<span style=\"white-space:pre; font-family: monospace\">1\n",
              "</span>"
            ]
          },
          "execution_count": 169,
          "metadata": {},
          "output_type": "execute_result"
        }
      ],
      "source": [
        "(1 1 2\u2349y)\u2261\u23492 2 1\u2349y"
      ]
    },
    {
      "cell_type": "markdown",
      "id": "limited-enhancement",
      "metadata": {},
      "source": [
        "<!--begin rules style=remark-->\n",
        "***Rules***:\n",
        "\n",
        " > This special use of `a\u2349b` must also follow some rules:\n",
        " >\n",
        " >  - `(\u2262a)\u2261(\u2262\u2374b)`\n",
        " >  - `\u2227/a\u220a\u2373\u2262\u2374b`\n",
        " >  - `\u2227/(\u2373\u2308/a)\u220aa`\n",
        "<!--end-->\n",
        "\n",
        "The first two rules are not unique to this special usage of _dyadic transpose_, and the third rule means that the items of `a` must be consecutive integers, starting from `\u2395IO`.\n",
        "\n",
        "So, for the array `y` shown above, the only possible sections are:"
      ]
    },
    {
      "cell_type": "code",
      "execution_count": 170,
      "id": "comfortable-fifteen",
      "metadata": {},
      "outputs": [
        {
          "data": {
            "text/html": [
              "<span style=\"white-space:pre; font-family: monospace\">\u250c\u2500\u2500\u2500\u2500\u2500\u2500\u2500\u252c\u2500\u2500\u2500\u2500\u2500\u2500\u2500\u2500\u2500\u2500\u2500\u252c\u2500\u2500\u2500\u2500\u2500\u2500\u2500\u2500\u252c\u2500\u2500\u2500\u2500\u2500\u2500\u2500\u2500\u252c\u2500\u2500\u2500\u2500\u2500\u2500\u2500\u2500\u252c\u2500\u2500\u2500\u2500\u2500\u2500\u2500\u252c\u2500\u2500\u2500\u2500\u2500\u2500\u2500\u2510\n",
              "\u25021 1 1  \u25021 1 2      \u25021 2 1   \u25021 2 2   \u25022 1 1   \u25022 1 2  \u25022 2 1  \u2502\n",
              "\u251c\u2500\u2500\u2500\u2500\u2500\u2500\u2500\u253c\u2500\u2500\u2500\u2500\u2500\u2500\u2500\u2500\u2500\u2500\u2500\u253c\u2500\u2500\u2500\u2500\u2500\u2500\u2500\u2500\u253c\u2500\u2500\u2500\u2500\u2500\u2500\u2500\u2500\u253c\u2500\u2500\u2500\u2500\u2500\u2500\u2500\u2500\u253c\u2500\u2500\u2500\u2500\u2500\u2500\u2500\u253c\u2500\u2500\u2500\u2500\u2500\u2500\u2500\u2524\n",
              "\u25021 18 35\u2502 1  2  3  4\u2502 1  5  9\u2502 1  6 11\u2502 1 13 25\u25021 14 27\u25021 17 33\u2502\n",
              "\u2502       \u250217 18 19 20\u250214 18 22\u250213 18 23\u2502 6 18 30\u25025 18 31\u25022 18 34\u2502\n",
              "\u2502       \u250233 34 35 36\u250227 31 35\u250225 30 35\u250211 23 35\u25029 22 35\u25023 19 35\u2502\n",
              "\u2502       \u2502           \u2502        \u2502        \u2502        \u2502       \u25024 20 36\u2502\n",
              "\u2514\u2500\u2500\u2500\u2500\u2500\u2500\u2500\u2534\u2500\u2500\u2500\u2500\u2500\u2500\u2500\u2500\u2500\u2500\u2500\u2534\u2500\u2500\u2500\u2500\u2500\u2500\u2500\u2500\u2534\u2500\u2500\u2500\u2500\u2500\u2500\u2500\u2500\u2534\u2500\u2500\u2500\u2500\u2500\u2500\u2500\u2500\u2534\u2500\u2500\u2500\u2500\u2500\u2500\u2500\u2534\u2500\u2500\u2500\u2500\u2500\u2500\u2500\u2518\n",
              "</span>"
            ]
          },
          "execution_count": 170,
          "metadata": {},
          "output_type": "execute_result"
        }
      ],
      "source": [
        "(1 1 1)(1 1 2)(1 2 1)(1 2 2)(2 1 1)(2 1 2)(2 2 1)(\u22a3,[.5]\u2349\u00a8)\u2282y"
      ]
    },
    {
      "cell_type": "markdown",
      "id": "brown-choice",
      "metadata": {},
      "source": [
        "If the required conditions are satisfied, the selection can be thought of as having two steps:\n",
        "\n",
        " 1. the left argument `a` is examined to see which of the coordinates are identical.\n",
        "\n",
        "For example, a left argument equal to `1 2 1` or `2 1 2` will select items which have their first and their coordinates identical.\n",
        "A left argument equal to `1 1 2` or `2 2 1` will select items which have their first two coordinates identical.\n",
        "\n",
        "`1 2 2\u2349y` and `2 1 1\u2349y` would select the items which have their last two coordinates equal, that is,\n",
        "\n",
        "```APL\n",
        " 1  6 11\n",
        "13 18 23\n",
        "25 30 35\n",
        "```\n",
        "\n",
        "So, now we know which items from `y` we must work with in the next step.\n",
        "\n",
        " 2. the selected values are repositioned using a normal dyadic transposition, the left argument of which is composed of the unique values of `a` obtained by `\u222aa`.\n",
        "\n",
        "For example, we said that both `1 2 2\u2349y` and `2 1 1\u2349y` would select the same set of values, shown above.\n",
        "This little matrix will then be transposed using a left argument equal to `1 2` (the matrix remains unchanged) or `2 1` (the matrix is transposed):"
      ]
    },
    {
      "cell_type": "code",
      "execution_count": 171,
      "id": "exceptional-cinema",
      "metadata": {},
      "outputs": [
        {
          "data": {
            "text/html": [
              "<span style=\"white-space:pre; font-family: monospace\"> 1  6 11\n",
              "13 18 23\n",
              "25 30 35\n",
              "</span>"
            ]
          },
          "execution_count": 171,
          "metadata": {},
          "output_type": "execute_result"
        }
      ],
      "source": [
        "1 2 2\u2349y"
      ]
    },
    {
      "cell_type": "code",
      "execution_count": 172,
      "id": "current-filing",
      "metadata": {},
      "outputs": [
        {
          "data": {
            "text/html": [
              "<span style=\"white-space:pre; font-family: monospace\"> 1 13 25\n",
              " 6 18 30\n",
              "11 23 35\n",
              "</span>"
            ]
          },
          "execution_count": 172,
          "metadata": {},
          "output_type": "execute_result"
        }
      ],
      "source": [
        "2 1 1\u2349y"
      ]
    },
    {
      "cell_type": "markdown",
      "id": "quiet-quality",
      "metadata": {},
      "source": [
        "We recommend that you try to work through the other possibilities to make sure you understand them."
      ]
    },
    {
      "cell_type": "markdown",
      "id": "raised-professional",
      "metadata": {},
      "source": [
        "(Working-on-Data-Shape-Diagonal-Section-of-a-Matrix)=\n",
        "#### Diagonal Section of a Matrix\n",
        "\n",
        "In the case of a matrix, the only possible diagonal section is specified by `1 1`.\n",
        "It selects what is called the main diagonal of the matrix.\n",
        "\n",
        "For example, here is how you would select the values along the main diagonal of `forecast`:"
      ]
    },
    {
      "cell_type": "code",
      "execution_count": 173,
      "id": "collected-playlist",
      "metadata": {},
      "outputs": [
        {
          "data": {
            "text/html": [
              "<span style=\"white-space:pre; font-family: monospace\">90 450 320 520\n",
              "</span>"
            ]
          },
          "execution_count": 173,
          "metadata": {},
          "output_type": "execute_result"
        }
      ],
      "source": [
        "1 1\u2349forecast"
      ]
    },
    {
      "cell_type": "code",
      "execution_count": 174,
      "id": "spread-maker",
      "metadata": {},
      "outputs": [
        {
          "data": {
            "text/html": [
              "<span style=\"white-space:pre; font-family: monospace\"> 90 160 420 500  20  30\n",
              "110 450 170 370 290 360\n",
              "340 190 320 120 510 370\n",
              "150 460 240 520 490 280\n",
              "</span>"
            ]
          },
          "execution_count": 174,
          "metadata": {},
          "output_type": "execute_result"
        }
      ],
      "source": [
        "forecast"
      ]
    },
    {
      "cell_type": "markdown",
      "id": "removed-heating",
      "metadata": {},
      "source": [
        "Notice that for a matrix `m`, we have `(\u22621 1\u2349m)=\u230a/\u2374m`.\n",
        "This means that the diagonal section of a rectangular matrix has as many elements as the shorter side of the matrix, like in the `forecast` example above."
      ]
    },
    {
      "cell_type": "markdown",
      "id": "handled-revolution",
      "metadata": {},
      "source": [
        "(Working-on-Data-Shape-Solutions)=\n",
        "## Solutions\n",
        "\n",
        "The following solutions we propose are not necessarily the \u201cbest\u201d ones; perhaps you will find other solutions that we have never considered.\n",
        "APL is a very rich language, and due to the general nature of its primitive functions and operators there are always plenty of different ways to express different solutions to a given problem.\n",
        "Which one is \u201cthe best\u201d depends on many things, for example the level of experience of the programmer, the importance of system performance, the required behaviour in border cases, the requirement to meet certain programming standards and also personal preferences.\n",
        "This is one of the reasons why APL is so pleasant to teach and to learn!\n",
        "\n",
        "We advise you to try and solve the exercises before reading the solutions!\n",
        "\n",
        "**Exercise 1**:\n",
        "\n",
        "Starting from `xg1`,"
      ]
    },
    {
      "cell_type": "code",
      "execution_count": 175,
      "id": "increased-vacuum",
      "metadata": {
        "scrolled": true
      },
      "outputs": [
        {
          "data": {
            "text/html": [
              "<span style=\"white-space:pre; font-family: monospace\">1 9 5 3 6\n",
              "5 4 8 2 3\n",
              "7 7 6 2 6\n",
              "</span>"
            ]
          },
          "execution_count": 175,
          "metadata": {},
          "output_type": "execute_result"
        }
      ],
      "source": [
        "\u2395\u2190 xg1 \u2190 3 5\u23741 9 5 3 6 5 4 8 2 3 7 7 6 2 6"
      ]
    },
    {
      "cell_type": "markdown",
      "id": "stupid-jewelry",
      "metadata": {},
      "source": [
        "we want to extract sub-matrices using _take_ and _drop_.\n",
        "Because we are dealing with a matrix \u2013 a rank 2 array \u2013 the left argument must be a 2-element vector.\n",
        "The first element determines how many rows we take (or drop) and from where (top or bottom), while the second element determines how many columns we take (or drop) and from where (left or right).\n",
        "\n",
        "Let us go through the three matrices, one by one:"
      ]
    },
    {
      "cell_type": "markdown",
      "id": "objective-drama",
      "metadata": {},
      "source": [
        " - ```APL\n",
        "5 3 6\n",
        "8 2 3\n",
        "```\n",
        "\n",
        "This matrix has elements from the _first_ two rows and from the _last_ three columns of `xg1`, so we can build it with"
      ]
    },
    {
      "cell_type": "code",
      "execution_count": 176,
      "id": "christian-window",
      "metadata": {},
      "outputs": [
        {
          "data": {
            "text/html": [
              "<span style=\"white-space:pre; font-family: monospace\">5 3 6\n",
              "8 2 3\n",
              "</span>"
            ]
          },
          "execution_count": 176,
          "metadata": {},
          "output_type": "execute_result"
        }
      ],
      "source": [
        "2 \u00af3\u2191xg1"
      ]
    },
    {
      "cell_type": "markdown",
      "id": "distant-ceiling",
      "metadata": {},
      "source": [
        "Conversely, we can build that matrix by ignoring the _last_ row and the _first_ two columns:"
      ]
    },
    {
      "cell_type": "code",
      "execution_count": 177,
      "id": "related-staff",
      "metadata": {},
      "outputs": [
        {
          "data": {
            "text/html": [
              "<span style=\"white-space:pre; font-family: monospace\">5 3 6\n",
              "8 2 3\n",
              "</span>"
            ]
          },
          "execution_count": 177,
          "metadata": {},
          "output_type": "execute_result"
        }
      ],
      "source": [
        "\u00af1 2\u2193xg1"
      ]
    },
    {
      "cell_type": "markdown",
      "id": "opened-milan",
      "metadata": {},
      "source": [
        " - ```APL\n",
        " 5 4 8 2\n",
        "7 7 6 2\n",
        "```\n",
        "\n",
        "This matrix has elements from the _last_ two rows and from the _first_ four columns, so we build it with"
      ]
    },
    {
      "cell_type": "code",
      "execution_count": 178,
      "id": "young-profit",
      "metadata": {},
      "outputs": [
        {
          "data": {
            "text/html": [
              "<span style=\"white-space:pre; font-family: monospace\">5 4 8 2\n",
              "7 7 6 2\n",
              "</span>"
            ]
          },
          "execution_count": 178,
          "metadata": {},
          "output_type": "execute_result"
        }
      ],
      "source": [
        "\u00af2 4\u2191xg1"
      ]
    },
    {
      "cell_type": "markdown",
      "id": "difficult-beginning",
      "metadata": {},
      "source": [
        "Conversely, we can build it by ignoring the _first_ row and the _last_ column of `xg1`:"
      ]
    },
    {
      "cell_type": "code",
      "execution_count": 179,
      "id": "perceived-armstrong",
      "metadata": {},
      "outputs": [
        {
          "data": {
            "text/html": [
              "<span style=\"white-space:pre; font-family: monospace\">5 4 8 2\n",
              "7 7 6 2\n",
              "</span>"
            ]
          },
          "execution_count": 179,
          "metadata": {},
          "output_type": "execute_result"
        }
      ],
      "source": [
        "1 \u00af1\u2193xg1"
      ]
    },
    {
      "cell_type": "markdown",
      "id": "fluid-paraguay",
      "metadata": {},
      "source": [
        " - ```APL\n",
        "9 5 3\n",
        "4 8 2\n",
        "7 6 2\n",
        "```\n",
        "\n",
        "Finally, this matrix contains all three rows but the 3 columns that make it up are from the _middle_ of `xg1`, so there is no single number that we can use to build this matrix in a single _take_.\n",
        "Instead, what we can do is two successive _takes_: first we take the _first_ 4 columns and then the _last_ 3 columns of that, or first we take the _last_ 4 columns and then the _first_ 3 of that:"
      ]
    },
    {
      "cell_type": "code",
      "execution_count": 180,
      "id": "identical-senate",
      "metadata": {},
      "outputs": [
        {
          "data": {
            "text/html": [
              "<span style=\"white-space:pre; font-family: monospace\">9 5 3\n",
              "4 8 2\n",
              "7 6 2\n",
              "</span>"
            ]
          },
          "execution_count": 180,
          "metadata": {},
          "output_type": "execute_result"
        }
      ],
      "source": [
        "3 3\u21913 \u00af4\u2191xg1"
      ]
    },
    {
      "cell_type": "markdown",
      "id": "charged-anchor",
      "metadata": {},
      "source": [
        "We do a similar thing with _drop_:"
      ]
    },
    {
      "cell_type": "code",
      "execution_count": 181,
      "id": "primary-negative",
      "metadata": {},
      "outputs": [
        {
          "data": {
            "text/html": [
              "<span style=\"white-space:pre; font-family: monospace\">9 5 3\n",
              "4 8 2\n",
              "7 6 2\n",
              "</span>"
            ]
          },
          "execution_count": 181,
          "metadata": {},
          "output_type": "execute_result"
        }
      ],
      "source": [
        "0 1\u21930 \u00af1\u2193xg1"
      ]
    },
    {
      "cell_type": "markdown",
      "id": "identical-sacramento",
      "metadata": {},
      "source": [
        "**Exercise 2**:\n",
        "\n",
        "We want to produce the matrix\n",
        "\n",
        "```APL\n",
        "1 9 5 3 6 0\n",
        "5 4 8 2 3 0\n",
        "7 7 6 2 6 0\n",
        "0 0 0 0 0 0\n",
        "```\n",
        "\n",
        "from `xg1`.\n",
        "We immediately notice that `xg1` is in the upper-left corner of this larger matrix, and we see there are an extra row and column of zeroes, which are certainly the result of overtaking:"
      ]
    },
    {
      "cell_type": "code",
      "execution_count": 182,
      "id": "social-creativity",
      "metadata": {},
      "outputs": [
        {
          "data": {
            "text/html": [
              "<span style=\"white-space:pre; font-family: monospace\">1 9 5 3 6 0\n",
              "5 4 8 2 3 0\n",
              "7 7 6 2 6 0\n",
              "0 0 0 0 0 0\n",
              "</span>"
            ]
          },
          "execution_count": 182,
          "metadata": {},
          "output_type": "execute_result"
        }
      ],
      "source": [
        "4 6\u2191xg1"
      ]
    },
    {
      "cell_type": "markdown",
      "id": "objective-pierce",
      "metadata": {},
      "source": [
        "**Exercise 3**:\n",
        "\n",
        "Let us start with `TakeShape`, that is supposed to compute the _shape_ of the result of doing `ns\u2191array`.\n",
        "\n",
        "`r \u2190 ns TakeShape \u2374array` should be such that `r\u2261\u2374ns\u2191array`, and notice that the right argument to `TakeShape` is `\u2374array`, not the array itself.\n",
        "\n",
        "From reading the specification of _take_ and from the previous exercises, we can start to see that the absolute value of the left argument indicates the length of each dimension.\n",
        "However, the solution isn't just"
      ]
    },
    {
      "cell_type": "code",
      "execution_count": 183,
      "id": "threatened-newton",
      "metadata": {},
      "outputs": [],
      "source": [
        "TakeShape \u2190 {|\u237a}"
      ]
    },
    {
      "cell_type": "markdown",
      "id": "entitled-dependence",
      "metadata": {},
      "source": [
        "Why not?\n",
        "Because the left argument to _take_ may be shorter than the number of dimensions of the array we are working with, in which case the trailing dimensions are left untouched.\n",
        "To fix our function, we just need to check if there are trailing dimensions that are left untouched and, in case there are any, we should tack them to the right of `|ns`:"
      ]
    },
    {
      "cell_type": "code",
      "execution_count": 184,
      "id": "cubic-confirmation",
      "metadata": {},
      "outputs": [],
      "source": [
        "TakeShape \u2190 {(|\u237a),((\u2262\u237a)-\u2262\u2375)\u2191\u2375}"
      ]
    },
    {
      "cell_type": "code",
      "execution_count": 185,
      "id": "precise-breath",
      "metadata": {},
      "outputs": [
        {
          "data": {
            "text/html": [
              "<span style=\"white-space:pre; font-family: monospace\">2 3 10\n",
              "</span>"
            ]
          },
          "execution_count": 185,
          "metadata": {},
          "output_type": "execute_result"
        }
      ],
      "source": [
        "2 \u00af3 TakeShape 1 5 10\n",
        "\u235d 2 3 10"
      ]
    },
    {
      "cell_type": "markdown",
      "id": "expected-child",
      "metadata": {},
      "source": [
        "How does it work?\n",
        "\n",
        " - `\u2262\u2375` is the number of dimensions of the array and `\u2262\u237a` is the number of dimensions of the left argument to _take_, so `(\u2262\u2375)-\u2262\u237a` is the number of trailing dimensions that are left untouched;\n",
        " - we then use _take_ to reach the lengths of those dimensions, so they show up in the final result. However, we want to _take_ from the end, so we would need `-(\u2262\u2375)-\u2262\u237a`; instead, we flip the subtraction in the first place to get `(\u2262\u237a)-\u2262\u2375`; and\n",
        " - we tack those trailing dimensions to the absolute value of the left argument.\n",
        "\n",
        "The problem statement specifies that the arguments to `TakeShape` will always be relative to a usage of _take_ that makes sense, so we also know that `(\u2262\u237a)-\u2262\u2375` is always 0 or negative.\n",
        "\n",
        "We can follow a similar train of thought with `DropShape`, except that now `\u237a` doesn't tell us the length of each dimension, but rather the number of elements that are dropped along that dimension.\n",
        "For `DropShape`, we can take advantage of overtaking to make sure that the left argument has the same length as the right argument.\n",
        "Finally, we just need to make sure we don't try to drop too many elements along any dimension, because the final result cannot have dimensions with negative length:"
      ]
    },
    {
      "cell_type": "code",
      "execution_count": 186,
      "id": "possible-applicant",
      "metadata": {},
      "outputs": [],
      "source": [
        "DropShape \u2190 {0\u2308\u2375-|(\u2262\u2375)\u2191\u237a}"
      ]
    },
    {
      "cell_type": "code",
      "execution_count": 187,
      "id": "quality-horizontal",
      "metadata": {},
      "outputs": [
        {
          "data": {
            "text/html": [
              "<span style=\"white-space:pre; font-family: monospace\">0 6 7\n",
              "</span>"
            ]
          },
          "execution_count": 187,
          "metadata": {},
          "output_type": "execute_result"
        }
      ],
      "source": [
        "15 4 \u00af3 DropShape 10 10 10\n",
        "\u235d 0 6 7"
      ]
    },
    {
      "cell_type": "markdown",
      "id": "systematic-pressing",
      "metadata": {},
      "source": [
        "**Exercise 4**:\n",
        "\n",
        "This exercise wants us to convert left arguments of _take_ into left arguments of _drop_ and vice-versa, and doing so means we need to understand the lengths of the resulting dimensions, but that is what we have been doing in the previous exercises.\n",
        "\n",
        "Start by imagining how it works for a vector `v` of length `l`.\n",
        " - if we write `t\u2191v`, for positive `t`, the corresponding left argument for _drop_ would be `-l-t`; but\n",
        " - if we write `(-t)\u2191v`, then the corresponding left argument for _drop_ would be `l-t`.\n",
        "\n",
        "Now we just need to find a way of unifying the two cases:"
      ]
    },
    {
      "cell_type": "code",
      "execution_count": 188,
      "id": "bibliographic-muscle",
      "metadata": {},
      "outputs": [],
      "source": [
        "TakeAsDrop \u2190 {(-\u00d7\u237a)\u00d7\u2375-|\u237a}"
      ]
    },
    {
      "cell_type": "markdown",
      "id": "verbal-purse",
      "metadata": {},
      "source": [
        "The expression `\u2375-|\u237a` determines the magnitude of the corresponding _drop_ left argument and the expression `(-\u00d7\u237a)` corrects the sign.\n",
        "\n",
        "This is a great starting point, but our implementation has three issues that we need to solve.\n",
        "One of them should become apparent here:"
      ]
    },
    {
      "cell_type": "code",
      "execution_count": 189,
      "id": "indie-chassis",
      "metadata": {},
      "outputs": [
        {
          "data": {
            "text/html": [
              "<span style=\"white-space:pre; font-family: monospace\">5\n",
              "</span>"
            ]
          },
          "execution_count": 189,
          "metadata": {},
          "output_type": "execute_result"
        }
      ],
      "source": [
        "10 TakeAsDrop 5"
      ]
    },
    {
      "cell_type": "markdown",
      "id": "adolescent-dragon",
      "metadata": {},
      "source": [
        "If we try to _take_ 10 elements from a vector of length 5, we end up with a (larger) vector of length 10, so there is no left argument to _drop_ that would have the same effect.\n",
        "Arguably, the most sensible thing to do here would be to return `0`, because that is the left argument for a _drop_ that would have the closest result possible to the original _take_.\n",
        "To make this change, what we need to do is make sure that the magnitude of the argument to _drop_ is never below zero:"
      ]
    },
    {
      "cell_type": "code",
      "execution_count": 190,
      "id": "incoming-caribbean",
      "metadata": {},
      "outputs": [
        {
          "data": {
            "text/html": [
              "<span style=\"white-space:pre; font-family: monospace\">0\n",
              "</span>"
            ]
          },
          "execution_count": 190,
          "metadata": {},
          "output_type": "execute_result"
        }
      ],
      "source": [
        "TakeAsDrop \u2190 {(-\u00d7\u237a)\u00d70\u2308\u2375-|\u237a}\n",
        "10 TakeAsDrop 5"
      ]
    },
    {
      "cell_type": "markdown",
      "id": "intensive-private",
      "metadata": {},
      "source": [
        "The second issue, that really is a bug, has to do with what happens if we _take_ 0 elements:"
      ]
    },
    {
      "cell_type": "code",
      "execution_count": 191,
      "id": "tight-conducting",
      "metadata": {},
      "outputs": [
        {
          "data": {
            "text/html": [
              "<span style=\"white-space:pre; font-family: monospace\">0\n",
              "</span>"
            ]
          },
          "execution_count": 191,
          "metadata": {},
          "output_type": "execute_result"
        }
      ],
      "source": [
        "0 TakeAsDrop 5"
      ]
    },
    {
      "cell_type": "markdown",
      "id": "disciplinary-lightning",
      "metadata": {},
      "source": [
        "If we take 0 elements from a vector of length 5, that would be the same as dropping 5 elements from that vector.\n",
        "However, we say it is the same as dropping 0 elements from that vector, which is wrong.\n",
        "The problem is that `(-\u00d7\u237a)` evaluates to `0` in this case, whipping out the correct magnitude computed by `0\u2308\u2375-|\u237a`.\n",
        "One way to fix that is by nudging the values of `\u237a` slightly, so that their signs remain the same for all integers, except for 0:"
      ]
    },
    {
      "cell_type": "code",
      "execution_count": 192,
      "id": "accurate-mediterranean",
      "metadata": {},
      "outputs": [],
      "source": [
        "TakeAsDrop \u2190 {(-\u00d7\u237a-0.5)\u00d70\u2308\u2375-|\u237a}"
      ]
    },
    {
      "cell_type": "code",
      "execution_count": 193,
      "id": "surprising-shareware",
      "metadata": {},
      "outputs": [
        {
          "data": {
            "text/html": [
              "<span style=\"white-space:pre; font-family: monospace\">5\n",
              "</span>"
            ]
          },
          "execution_count": 193,
          "metadata": {},
          "output_type": "execute_result"
        }
      ],
      "source": [
        "0 TakeAsDrop 5"
      ]
    },
    {
      "cell_type": "markdown",
      "id": "physical-state",
      "metadata": {},
      "source": [
        "The third and final issue, is that `TakeAsDrop` doesn't handle cases where the left argument is shorter than the right argument:"
      ]
    },
    {
      "cell_type": "code",
      "execution_count": 194,
      "id": "unique-parcel",
      "metadata": {},
      "outputs": [
        {
          "name": "stderr",
          "output_type": "stream",
          "text": [
            "LENGTH ERROR: Mismatched left and right argument shapes\n",
            "TakeAsDrop[0] TakeAsDrop\u2190{(-\u00d7\u237a-0.5)\u00d70\u2308\u2375-|\u237a}\n",
            "                                       \u2227\n"
          ]
        }
      ],
      "source": [
        "3 4 TakeAsDrop 10 8 6"
      ]
    },
    {
      "cell_type": "markdown",
      "id": "institutional-transmission",
      "metadata": {},
      "source": [
        "The simplest way to fix this is by shortening `\u2375` to match the length of `\u237a`.\n",
        "This works, because the trailing dimensions that are not covered by the left argument to _take_ can also be omitted in the left argument to _drop_:"
      ]
    },
    {
      "cell_type": "code",
      "execution_count": 195,
      "id": "sustainable-render",
      "metadata": {},
      "outputs": [
        {
          "data": {
            "text/html": [
              "<span style=\"white-space:pre; font-family: monospace\">\u00af7 \u00af4\n",
              "</span>"
            ]
          },
          "execution_count": 195,
          "metadata": {},
          "output_type": "execute_result"
        }
      ],
      "source": [
        "TakeAsDrop \u2190 {(-\u00d7\u237a-0.5)\u00d70\u2308((\u2262\u237a)\u2191\u2375)-|\u237a}\n",
        "3 4 TakeAsDrop 10 8 6"
      ]
    },
    {
      "cell_type": "markdown",
      "id": "processed-acrobat",
      "metadata": {},
      "source": [
        "As for the `DropAsTake` function... It is exactly the same as the `TakeAsDrop` one!"
      ]
    },
    {
      "cell_type": "markdown",
      "id": "ordinary-tourist",
      "metadata": {},
      "source": [
        "**Exercise 5**:\n",
        "\n",
        "It is clear that an integral part of this exercise will be finding the vowels in the given character vector, and we can use the _membership_ primitive for that:"
      ]
    },
    {
      "cell_type": "code",
      "execution_count": 196,
      "id": "genuine-stanford",
      "metadata": {},
      "outputs": [
        {
          "data": {
            "text/html": [
              "<span style=\"white-space:pre; font-family: monospace\">0 0 1 0 0 0 1 0 0 0 1 1 0 0 0 1 0 0 0 0 0 0 1 0 1 0 0 1\n",
              "</span>"
            ]
          },
          "execution_count": 196,
          "metadata": {},
          "output_type": "execute_result"
        }
      ],
      "source": [
        "'This function works properly'\u220a'aeiouyAEIOUY'"
      ]
    },
    {
      "cell_type": "markdown",
      "id": "transsexual-cement",
      "metadata": {},
      "source": [
        "Next, we want to turn that Boolean mask into a character vector with arrows `\u2191` where the ones are.\n",
        "If we take advantage of the fact that the blank space `' '` is the fill element for character vectors, we can use the _expand_ primitive that we just learned about:"
      ]
    },
    {
      "cell_type": "code",
      "execution_count": 197,
      "id": "inner-husband",
      "metadata": {},
      "outputs": [
        {
          "data": {
            "text/html": [
              "<span style=\"white-space:pre; font-family: monospace\">  \u2191   \u2191   \u2191\u2191   \u2191      \u2191 \u2191  \u2191\n",
              "</span>"
            ]
          },
          "execution_count": 197,
          "metadata": {},
          "output_type": "execute_result"
        }
      ],
      "source": [
        "('This function works properly'\u220a'aeiouyAEIOUY')\\'\u2191'"
      ]
    },
    {
      "cell_type": "markdown",
      "id": "rough-mailing",
      "metadata": {},
      "source": [
        "To wrap it up, all we need to do is laminate this character vector with the original vector:"
      ]
    },
    {
      "cell_type": "code",
      "execution_count": 198,
      "id": "modular-jones",
      "metadata": {},
      "outputs": [
        {
          "data": {
            "text/html": [
              "<span style=\"white-space:pre; font-family: monospace\">This function works properly\n",
              "  \u2191   \u2191   \u2191\u2191   \u2191      \u2191 \u2191  \u2191\n",
              "</span>"
            ]
          },
          "execution_count": 198,
          "metadata": {},
          "output_type": "execute_result"
        }
      ],
      "source": [
        "ShowVowels \u2190 {\u2375,[.5](\u2375\u220a'aeiouyAEIOUY')\\'\u2191'}\n",
        "ShowVowels 'This function works properly'"
      ]
    },
    {
      "cell_type": "markdown",
      "id": "loose-weekend",
      "metadata": {},
      "source": [
        "**Exercise 6**:"
      ]
    },
    {
      "cell_type": "markdown",
      "id": "funky-given",
      "metadata": {},
      "source": [
        "Let's work with the following matrix:"
      ]
    },
    {
      "cell_type": "code",
      "execution_count": 199,
      "id": "built-accreditation",
      "metadata": {},
      "outputs": [
        {
          "data": {
            "text/html": [
              "<span style=\"white-space:pre; font-family: monospace\">0 0 8 0 0 3 0\n",
              "0 7 0 0 0 0 0\n",
              "6 0 2 0 0 0 1\n",
              "0 0 0 0 4 0 0\n",
              "</span>"
            ]
          },
          "execution_count": 199,
          "metadata": {},
          "output_type": "execute_result"
        }
      ],
      "source": [
        "xg6 \u2190 4 7\u23740\n",
        "xg6[(1 3)(1 6)(2 2)(3 1)(3 3)(3 7)(4 5)] \u2190 8 3 7 6 2 1 4\n",
        "xg6"
      ]
    },
    {
      "cell_type": "markdown",
      "id": "extraordinary-greek",
      "metadata": {},
      "source": [
        "In order to contract the matrix, we start by raveling it:"
      ]
    },
    {
      "cell_type": "code",
      "execution_count": 200,
      "id": "configured-cooperation",
      "metadata": {},
      "outputs": [
        {
          "data": {
            "text/html": [
              "<span style=\"white-space:pre; font-family: monospace\">0 0 8 0 0 3 0 0 7 0 0 0 0 0 6 0 2 0 0 0 1 0 0 0 0 4 0 0\n",
              "</span>"
            ]
          },
          "execution_count": 200,
          "metadata": {},
          "output_type": "execute_result"
        }
      ],
      "source": [
        ",xg6"
      ]
    },
    {
      "cell_type": "markdown",
      "id": "adjusted-recycling",
      "metadata": {},
      "source": [
        "And we also list all the indices of all the positions in the matrix:"
      ]
    },
    {
      "cell_type": "code",
      "execution_count": 201,
      "id": "peripheral-emphasis",
      "metadata": {},
      "outputs": [
        {
          "data": {
            "text/html": [
              "<span style=\"white-space:pre; font-family: monospace\">1 2 3 4 5 6 7 8 9 10 11 12 13 14 15 16 17 18 19 20 21 22 23 24 25 26 27 28\n",
              "</span>"
            ]
          },
          "execution_count": 201,
          "metadata": {},
          "output_type": "execute_result"
        }
      ],
      "source": [
        "\u2373\u2262,xg6"
      ]
    },
    {
      "cell_type": "markdown",
      "id": "hazardous-assignment",
      "metadata": {},
      "source": [
        "What we now want is to keep only the indices of non-zero values.\n",
        "If we start by laminating the numbers and the positions together, we can then use a Boolean mask to figure out what things to keep:"
      ]
    },
    {
      "cell_type": "code",
      "execution_count": 202,
      "id": "faced-great",
      "metadata": {},
      "outputs": [
        {
          "data": {
            "text/html": [
              "<span style=\"white-space:pre; font-family: monospace\">8 3 7  6  2  1  4\n",
              "3 6 9 15 17 21 26\n",
              "</span>"
            ]
          },
          "execution_count": 202,
          "metadata": {},
          "output_type": "execute_result"
        }
      ],
      "source": [
        "xg6r \u2190 ,xg6\n",
        "(xg6r\u22600)/xg6r,[.5]\u2373\u2262xg6r"
      ]
    },
    {
      "cell_type": "markdown",
      "id": "lesser-aluminum",
      "metadata": {},
      "source": [
        "The final step is catenating the original shape of the matrix on the left:"
      ]
    },
    {
      "cell_type": "code",
      "execution_count": 203,
      "id": "subjective-reggae",
      "metadata": {},
      "outputs": [],
      "source": [
        "]dinput\n",
        "Contraction \u2190 {\n",
        "    r \u2190 ,\u2375\n",
        "    (\u2374\u2375),(r\u22600)/r,[.5]\u2373\u2262r\n",
        "}"
      ]
    },
    {
      "cell_type": "code",
      "execution_count": 204,
      "id": "adapted-jersey",
      "metadata": {},
      "outputs": [
        {
          "data": {
            "text/html": [
              "<span style=\"white-space:pre; font-family: monospace\">4 8 3 7  6  2  1  4\n",
              "7 3 6 9 15 17 21 26\n",
              "</span>"
            ]
          },
          "execution_count": 204,
          "metadata": {},
          "output_type": "execute_result"
        }
      ],
      "source": [
        "Contraction xg6"
      ]
    },
    {
      "cell_type": "markdown",
      "id": "placed-morris",
      "metadata": {},
      "source": [
        "In order to implement the function `Restore`, we can create an empty ravel of the matrix which we then populate with the correct values.\n",
        "After populating, we just need to reshape the ravel into the original matrix by making use of the shape information that is on the first column of the input:"
      ]
    },
    {
      "cell_type": "code",
      "execution_count": 205,
      "id": "clean-harmony",
      "metadata": {},
      "outputs": [],
      "source": [
        "]dinput\n",
        "Restore \u2190 {\n",
        "    shape \u2190 \u2375[;1]\n",
        "    ravel \u2190 (\u00d7/shape)\u23740\n",
        "    ravel[1 1\u2193\u2375] \u2190 \u00af1 1\u2193\u2375\n",
        "    shape\u2374ravel\n",
        "}"
      ]
    },
    {
      "cell_type": "code",
      "execution_count": 206,
      "id": "serial-hello",
      "metadata": {},
      "outputs": [
        {
          "data": {
            "text/html": [
              "<span style=\"white-space:pre; font-family: monospace\">0 0 8 0 0 3 0\n",
              "0 7 0 0 0 0 0\n",
              "6 0 2 0 0 0 1\n",
              "0 0 0 0 4 0 0\n",
              "</span>"
            ]
          },
          "execution_count": 206,
          "metadata": {},
          "output_type": "execute_result"
        }
      ],
      "source": [
        "Restore Contraction xg6"
      ]
    },
    {
      "cell_type": "markdown",
      "id": "accurate-bedroom",
      "metadata": {},
      "source": [
        "**Exercise 7**:\n",
        "\n",
        "When the problem statement mentions blanks and _expand_, it hints at the fact that the blank space is the fill element for character vectors, and we know that _expand_ inserts fill elements when it finds zeroes.\n",
        "\n",
        "A first hunch might be that we just need to create a Boolean mask that has a 1 for each character we want to keep, and then we use _expand_ with that, but unfortunately that does not work:"
      ]
    },
    {
      "cell_type": "code",
      "execution_count": 207,
      "id": "boxed-birth",
      "metadata": {},
      "outputs": [
        {
          "name": "stderr",
          "output_type": "stream",
          "text": [
            "LENGTH ERROR\n",
            "      (sentence\u2260'a')\\sentence\n",
            "                    \u2227\n"
          ]
        }
      ],
      "source": [
        "sentence \u2190 'Panama is a canal between Atlantic and Pacific'\n",
        "(sentence\u2260'a')\\sentence"
      ]
    },
    {
      "cell_type": "markdown",
      "id": "collect-jacksonville",
      "metadata": {},
      "source": [
        "The problem is that the left argument to _expand_ needs to have as many positive elements as there are elements in the right argument.\n",
        "In order to fix this, what we can do is remove the letter we want to replace with blanks and only _then_ use _expand_.\n",
        "We can remove the occurrences of the letter with a _compress_ or with the _without_ primitive:"
      ]
    },
    {
      "cell_type": "code",
      "execution_count": 208,
      "id": "confused-greene",
      "metadata": {},
      "outputs": [
        {
          "data": {
            "text/html": [
              "<span style=\"white-space:pre; font-family: monospace\">P n m  is   c n l between Atl ntic  nd P cific\n",
              "</span>"
            ]
          },
          "execution_count": 208,
          "metadata": {},
          "output_type": "execute_result"
        }
      ],
      "source": [
        "Whiten \u2190 {(\u2375\u2260\u237a)\\\u2375~\u237a}\n",
        "'a' Whiten sentence"
      ]
    },
    {
      "cell_type": "code",
      "execution_count": 209,
      "id": "lesser-parent",
      "metadata": {},
      "outputs": [],
      "source": [
        "]dinput\n",
        "Whiten \u2190 {\n",
        "    m \u2190 \u2375\u2260\u237a\n",
        "    m\\m/\u2375\n",
        "}"
      ]
    },
    {
      "cell_type": "code",
      "execution_count": 210,
      "id": "linear-clinic",
      "metadata": {},
      "outputs": [
        {
          "data": {
            "text/html": [
              "<span style=\"white-space:pre; font-family: monospace\">P n m  is   c n l between Atl ntic  nd P cific\n",
              "</span>"
            ]
          },
          "execution_count": 210,
          "metadata": {},
          "output_type": "execute_result"
        }
      ],
      "source": [
        "'a' Whiten sentence"
      ]
    },
    {
      "cell_type": "markdown",
      "id": "talented-enhancement",
      "metadata": {},
      "source": [
        "**Exercise 8**:\n",
        "\n",
        "If we want to centre something, that means we will need to rotate it to the correct place.\n",
        "When we receive the title, we first pad it with enough blank spaces so that it can be catenated on top of the matrix:"
      ]
    },
    {
      "cell_type": "code",
      "execution_count": 211,
      "id": "micro-paste",
      "metadata": {},
      "outputs": [],
      "source": [
        "padded \u2190 (1\u2193\u2374monMat)\u2191'2007'"
      ]
    },
    {
      "cell_type": "code",
      "execution_count": 212,
      "id": "hidden-algeria",
      "metadata": {},
      "outputs": [
        {
          "data": {
            "text/html": [
              "<span style=\"white-space:pre; font-family: monospace\">8\n",
              "</span>"
            ]
          },
          "execution_count": 212,
          "metadata": {},
          "output_type": "execute_result"
        }
      ],
      "source": [
        "\u2262padded"
      ]
    },
    {
      "cell_type": "markdown",
      "id": "owned-ebony",
      "metadata": {},
      "source": [
        "We overtake to achieve this effect.\n",
        "The next thing is rotating some of the trailing spaces to the front, so that the title becomes centred.\n",
        "To do that, we need to figure out how much larger the matrix is in relation to the title, and then we divide that by 2 and round, in case there are an odd number of spaces:"
      ]
    },
    {
      "cell_type": "code",
      "execution_count": 213,
      "id": "greatest-lawsuit",
      "metadata": {},
      "outputs": [],
      "source": [
        "rot \u2190 \u2308((1\u2193\u2374monMat)-\u2262'2007')\u00f72"
      ]
    },
    {
      "cell_type": "markdown",
      "id": "advisory-feelings",
      "metadata": {},
      "source": [
        "Now we can rotate the padded title by _minus_ that amount (otherwise we would be rotating in the wrong direction):"
      ]
    },
    {
      "cell_type": "code",
      "execution_count": 214,
      "id": "floating-termination",
      "metadata": {},
      "outputs": [
        {
          "data": {
            "text/html": [
              "<span style=\"white-space:pre; font-family: monospace\">  2007  \n",
              "</span>"
            ]
          },
          "execution_count": 214,
          "metadata": {},
          "output_type": "execute_result"
        }
      ],
      "source": [
        "(-rot)\u233dpadded"
      ]
    },
    {
      "cell_type": "markdown",
      "id": "technological-occasion",
      "metadata": {},
      "source": [
        "Now it is just a matter of catenating this to the top of the matrix, together with the `-` underline.\n",
        "Let us put everything together in a dfn:"
      ]
    },
    {
      "cell_type": "code",
      "execution_count": 215,
      "id": "intimate-donna",
      "metadata": {},
      "outputs": [],
      "source": [
        "]dinput\n",
        "OnTop \u2190 {\n",
        "    c \u2190 1\u2193\u2374\u2375\n",
        "    rot \u2190 \u2308(c-\u2262\u237a)\u00f72\n",
        "    padded \u2190 c\u2191\u237a\n",
        "    ((-rot)\u233dpadded)\u236a'-'\u236a\u2375\n",
        "}"
      ]
    },
    {
      "cell_type": "code",
      "execution_count": 216,
      "id": "efficient-forum",
      "metadata": {},
      "outputs": [
        {
          "data": {
            "text/html": [
              "<span style=\"white-space:pre; font-family: monospace\">  2007  \n",
              "--------\n",
              "January \n",
              "February\n",
              "March   \n",
              "April   \n",
              "May     \n",
              "June    \n",
              "</span>"
            ]
          },
          "execution_count": 216,
          "metadata": {},
          "output_type": "execute_result"
        }
      ],
      "source": [
        "'2007' OnTop monMat"
      ]
    },
    {
      "cell_type": "markdown",
      "id": "exposed-reward",
      "metadata": {},
      "source": [
        "Notice that rounding up or down changes the position of the extra space when there are an odd number of spaces around the title:"
      ]
    },
    {
      "cell_type": "code",
      "execution_count": 217,
      "id": "foreign-france",
      "metadata": {},
      "outputs": [
        {
          "data": {
            "text/html": [
              "<span style=\"white-space:pre; font-family: monospace\">   107  \n",
              "--------\n",
              "January \n",
              "February\n",
              "March   \n",
              "April   \n",
              "May     \n",
              "June    \n",
              "</span>"
            ]
          },
          "execution_count": 217,
          "metadata": {},
          "output_type": "execute_result"
        }
      ],
      "source": [
        "'107' OnTop monMat"
      ]
    },
    {
      "cell_type": "markdown",
      "id": "different-orientation",
      "metadata": {},
      "source": [
        "**Exercise 9**:\n",
        "\n",
        "Best way to check if your solution is correct is by actually running the code:"
      ]
    },
    {
      "cell_type": "code",
      "execution_count": 218,
      "id": "particular-supplier",
      "metadata": {},
      "outputs": [
        {
          "data": {
            "text/html": [
              "<span style=\"white-space:pre; font-family: monospace\">oeornlhtu\n",
              " n siduot\n",
              "hf uogYti\n",
              "</span>"
            ]
          },
          "execution_count": 218,
          "metadata": {},
          "output_type": "execute_result"
        }
      ],
      "source": [
        "\u2395\u2190 xg9 \u2190 3 9\u2374'oeornlhtu n siduothf uogYti'"
      ]
    },
    {
      "cell_type": "code",
      "execution_count": 219,
      "id": "possible-sapphire",
      "metadata": {},
      "outputs": [
        {
          "data": {
            "text/html": [
              "<span style=\"white-space:pre; font-family: monospace\">You found\n",
              "the right\n",
              "solution \n",
              "</span>"
            ]
          },
          "execution_count": 219,
          "metadata": {},
          "output_type": "execute_result"
        }
      ],
      "source": [
        "\u00af3 \u00af1 3\u233d(-2 1 0 1 0 2 1 2 0)\u2296xg9"
      ]
    },
    {
      "cell_type": "markdown",
      "id": "alone-flexibility",
      "metadata": {},
      "source": [
        "**Exercise 10**:\n",
        "\n",
        "Let us prototype our solution with the vector that follows, and let us assume we want to find a run of 4 zeroes."
      ]
    },
    {
      "cell_type": "code",
      "execution_count": 220,
      "id": "thrown-comparison",
      "metadata": {},
      "outputs": [
        {
          "data": {
            "text/html": [
              "<span style=\"white-space:pre; font-family: monospace\">1 0 0 1 1 1 0 1 0 0 0 1 1 0 0 0 0 1 1 0 0 0 0 1 0 0\n",
              "</span>"
            ]
          },
          "execution_count": 220,
          "metadata": {},
          "output_type": "execute_result"
        }
      ],
      "source": [
        "\u2395\u2190 xg10 \u2190 1 0 0 1 1 1 0 1 0 0 0 1 1 0 0 0 0 1 1 0 0 0 0 1 0 0"
      ]
    },
    {
      "cell_type": "markdown",
      "id": "educated-conflict",
      "metadata": {},
      "source": [
        "We can start by asking _where_ in our vector the 1s are:"
      ]
    },
    {
      "cell_type": "code",
      "execution_count": 221,
      "id": "prompt-valuable",
      "metadata": {},
      "outputs": [
        {
          "data": {
            "text/html": [
              "<span style=\"white-space:pre; font-family: monospace\">1 4 5 6 8 12 13 18 19 24\n",
              "</span>"
            ]
          },
          "execution_count": 221,
          "metadata": {},
          "output_type": "execute_result"
        }
      ],
      "source": [
        "\u2378xg10"
      ]
    },
    {
      "cell_type": "markdown",
      "id": "economic-structure",
      "metadata": {},
      "source": [
        "This is useful because we know that the 0s are _between_ the 1s.\n",
        "\n",
        "However, if our vector starts and/or ends with 0s, those will not be enclosed by 1s and so we need to prepend and append a 1 to be sure all runs of 0s are surrounded by 1s:"
      ]
    },
    {
      "cell_type": "code",
      "execution_count": 222,
      "id": "spectacular-wright",
      "metadata": {},
      "outputs": [
        {
          "data": {
            "text/html": [
              "<span style=\"white-space:pre; font-family: monospace\">1 2 5 6 7 9 13 14 19 20 25 28\n",
              "</span>"
            ]
          },
          "execution_count": 222,
          "metadata": {},
          "output_type": "execute_result"
        }
      ],
      "source": [
        "\u2395\u2190 ones \u2190 \u23781,xg10,1"
      ]
    },
    {
      "cell_type": "markdown",
      "id": "robust-label",
      "metadata": {},
      "source": [
        "The next thing we do is figure out the distances between the consecutive 1s, so that we know the lengths of the runs of 0s:"
      ]
    },
    {
      "cell_type": "code",
      "execution_count": 223,
      "id": "dried-cartoon",
      "metadata": {},
      "outputs": [
        {
          "data": {
            "text/html": [
              "<span style=\"white-space:pre; font-family: monospace\">0 2 0 0 1 3 0 4 0 4 2\n",
              "</span>"
            ]
          },
          "execution_count": 223,
          "metadata": {},
          "output_type": "execute_result"
        }
      ],
      "source": [
        "\u2395\u2190 runLengths \u2190 \u00af1+(1\u2193ones)-(\u00af1\u2193ones)"
      ]
    },
    {
      "cell_type": "markdown",
      "id": "canadian-alcohol",
      "metadata": {},
      "source": [
        "Now we just use the lengths of the runs to compress the initial `ones` vector.\n",
        "However, we can't do it directly:"
      ]
    },
    {
      "cell_type": "code",
      "execution_count": 224,
      "id": "collect-cathedral",
      "metadata": {},
      "outputs": [
        {
          "name": "stderr",
          "output_type": "stream",
          "text": [
            "LENGTH ERROR\n",
            "      (4=runLengths)/ones\n",
            "                    \u2227\n"
          ]
        }
      ],
      "source": [
        "(4=runLengths)/ones"
      ]
    },
    {
      "cell_type": "markdown",
      "id": "julian-reply",
      "metadata": {},
      "source": [
        "The problem is that the vector `ones` contains the beginning and end of each run of zeroes, whereas the vector `runLengths` only has the corresponding length.\n",
        "In short, `ones` contains one element too many, that corresponds to the 1 that was catenated to the end of the argument vector.\n",
        "So, we need to drop the last element of `ones` before compressing:"
      ]
    },
    {
      "cell_type": "code",
      "execution_count": 225,
      "id": "russian-declaration",
      "metadata": {},
      "outputs": [
        {
          "data": {
            "text/html": [
              "<span style=\"white-space:pre; font-family: monospace\">14 20\n",
              "</span>"
            ]
          },
          "execution_count": 225,
          "metadata": {},
          "output_type": "execute_result"
        }
      ],
      "source": [
        "(4=runLengths)/\u00af1\u2193ones"
      ]
    },
    {
      "cell_type": "markdown",
      "id": "center-tattoo",
      "metadata": {},
      "source": [
        "Finally, we take the first element of that:"
      ]
    },
    {
      "cell_type": "code",
      "execution_count": 226,
      "id": "compound-cooperation",
      "metadata": {},
      "outputs": [
        {
          "data": {
            "text/html": [
              "<span style=\"white-space:pre; font-family: monospace\">14\n",
              "</span>"
            ]
          },
          "execution_count": 226,
          "metadata": {},
          "output_type": "execute_result"
        }
      ],
      "source": [
        "1\u2191(4=runLengths)/\u00af1\u2193ones"
      ]
    },
    {
      "cell_type": "markdown",
      "id": "senior-species",
      "metadata": {},
      "source": [
        "At this point, we can figure out the approximate location of our runs of zeroes, we just need to make sure that we return the exact index required by the problem statement.\n",
        "The problem statement wanted us to return the index of the first 0 of such a run.\n",
        "We worked with indices of 1s, and not 0s, but we also catenated a 1 at the beginning of the vector, thus shifting all the indices of the 1s.\n",
        "This means that, even though we are working with indices of 1s, the final result matches the corresponding index of the first 0.\n",
        "\n",
        "Let's wrap our code in a dfn:"
      ]
    },
    {
      "cell_type": "code",
      "execution_count": 227,
      "id": "enormous-block",
      "metadata": {},
      "outputs": [],
      "source": [
        "]dinput\n",
        "Free \u2190 {\n",
        "    ones \u2190 \u23781,\u2375,1\n",
        "    runLengths \u2190 \u00af1+(1\u2193ones)-(\u00af1\u2193ones)\n",
        "    1\u2191(\u237a=runLengths)/\u00af1\u2193ones\n",
        "}"
      ]
    },
    {
      "cell_type": "markdown",
      "id": "royal-citizenship",
      "metadata": {},
      "source": [
        "What if the right argument does not have a run with the required length?\n",
        "Does our function return 0 like the problem statement requires?"
      ]
    },
    {
      "cell_type": "code",
      "execution_count": 228,
      "id": "apart-concentration",
      "metadata": {},
      "outputs": [
        {
          "data": {
            "text/html": [
              "<span style=\"white-space:pre; font-family: monospace\">0\n",
              "</span>"
            ]
          },
          "execution_count": 228,
          "metadata": {},
          "output_type": "execute_result"
        }
      ],
      "source": [
        "6 Free xg10"
      ]
    },
    {
      "cell_type": "markdown",
      "id": "confidential-tampa",
      "metadata": {},
      "source": [
        "It does...\n",
        "But how?\n",
        "\n",
        "When we filter for runs of the required length, we get nothing, because there are no such runs:"
      ]
    },
    {
      "cell_type": "code",
      "execution_count": 229,
      "id": "charming-screening",
      "metadata": {},
      "outputs": [
        {
          "data": {
            "text/html": [
              "<span style=\"white-space:pre; font-family: monospace\">\n",
              "</span>"
            ]
          },
          "execution_count": 229,
          "metadata": {},
          "output_type": "execute_result"
        }
      ],
      "source": [
        "(6=runLengths)/\u00af1\u2193ones"
      ]
    },
    {
      "cell_type": "markdown",
      "id": "plain-angola",
      "metadata": {},
      "source": [
        "In other words, we get an empty numeric vector:"
      ]
    },
    {
      "cell_type": "code",
      "execution_count": 230,
      "id": "considerable-twist",
      "metadata": {},
      "outputs": [
        {
          "data": {
            "text/html": [
              "<span style=\"white-space:pre; font-family: monospace\">1\n",
              "</span>"
            ]
          },
          "execution_count": 230,
          "metadata": {},
          "output_type": "execute_result"
        }
      ],
      "source": [
        "\u236c\u2261(6=runLengths)/\u00af1\u2193ones"
      ]
    },
    {
      "cell_type": "markdown",
      "id": "individual-efficiency",
      "metadata": {},
      "source": [
        "If our vector is _empty_, then trying to use _take_ to get its first element corresponds to over taking, because we are trying to retrieve too many elements.\n",
        "When that is the case, we know that the function _take_ will put as many _fill elements_ as needed, and so it returns a single 0 as a result of doing \"one take\" on an empty vector:"
      ]
    },
    {
      "cell_type": "code",
      "execution_count": 231,
      "id": "sunset-microphone",
      "metadata": {},
      "outputs": [
        {
          "data": {
            "text/html": [
              "<span style=\"white-space:pre; font-family: monospace\">0\n",
              "</span>"
            ]
          },
          "execution_count": 231,
          "metadata": {},
          "output_type": "execute_result"
        }
      ],
      "source": [
        "1\u2191\u236c"
      ]
    },
    {
      "cell_type": "markdown",
      "id": "constant-romantic",
      "metadata": {},
      "source": [
        "Here is an alternative solution.\n",
        "First, we stack the vector on top of itself as many times as required by the desired run length (let us say it is `n \u2190 4`):"
      ]
    },
    {
      "cell_type": "code",
      "execution_count": 232,
      "id": "divine-zoning",
      "metadata": {},
      "outputs": [
        {
          "data": {
            "text/html": [
              "<span style=\"white-space:pre; font-family: monospace\">1 0 0 1 1 1 0 1 0 0 0 1 1 0 0 0 0 1 1 0 0 0 0 1 0 0\n",
              "1 0 0 1 1 1 0 1 0 0 0 1 1 0 0 0 0 1 1 0 0 0 0 1 0 0\n",
              "1 0 0 1 1 1 0 1 0 0 0 1 1 0 0 0 0 1 1 0 0 0 0 1 0 0\n",
              "1 0 0 1 1 1 0 1 0 0 0 1 1 0 0 0 0 1 1 0 0 0 0 1 0 0\n",
              "</span>"
            ]
          },
          "execution_count": 232,
          "metadata": {},
          "output_type": "execute_result"
        }
      ],
      "source": [
        "n \u2190 4\n",
        "\u2395\u2190 mat \u2190 n (\u2262xg10)\u2374xg10"
      ]
    },
    {
      "cell_type": "markdown",
      "id": "brown-violence",
      "metadata": {},
      "source": [
        "Next, we use _rotate_ `\u233d` to rotate each row one more element than the previous one, so that each column represents `n` consecutive elements of the vector:"
      ]
    },
    {
      "cell_type": "code",
      "execution_count": 233,
      "id": "common-tyler",
      "metadata": {},
      "outputs": [
        {
          "data": {
            "text/html": [
              "<span style=\"white-space:pre; font-family: monospace\">1 0 0 1 1 1 0 1 0 0 0 1 1 0 0 0 0 1 1 0 0 0 0 1 0 0\n",
              "0 0 1 1 1 0 1 0 0 0 1 1 0 0 0 0 1 1 0 0 0 0 1 0 0 1\n",
              "0 1 1 1 0 1 0 0 0 1 1 0 0 0 0 1 1 0 0 0 0 1 0 0 1 0\n",
              "1 1 1 0 1 0 0 0 1 1 0 0 0 0 1 1 0 0 0 0 1 0 0 1 0 0\n",
              "</span>"
            ]
          },
          "execution_count": 233,
          "metadata": {},
          "output_type": "execute_result"
        }
      ],
      "source": [
        "\u2395\u2190 rot \u2190 (\u00af1+\u2373n)\u233dmat"
      ]
    },
    {
      "cell_type": "markdown",
      "id": "exterior-tracy",
      "metadata": {},
      "source": [
        "In other words, if you look at the top row, you will notice that the 3 elements below a number match the 3 elements to its right.\n",
        "For example, the 4th element in the 1st row is"
      ]
    },
    {
      "cell_type": "code",
      "execution_count": 234,
      "id": "sustained-stevens",
      "metadata": {},
      "outputs": [
        {
          "data": {
            "text/html": [
              "<span style=\"white-space:pre; font-family: monospace\">1\n",
              "</span>"
            ]
          },
          "execution_count": 234,
          "metadata": {},
          "output_type": "execute_result"
        }
      ],
      "source": [
        "rot[1;4]"
      ]
    },
    {
      "cell_type": "markdown",
      "id": "golden-frost",
      "metadata": {},
      "source": [
        "The 3 elements to its right are"
      ]
    },
    {
      "cell_type": "code",
      "execution_count": 235,
      "id": "visible-directive",
      "metadata": {},
      "outputs": [
        {
          "data": {
            "text/html": [
              "<span style=\"white-space:pre; font-family: monospace\">1 1 0\n",
              "</span>"
            ]
          },
          "execution_count": 235,
          "metadata": {},
          "output_type": "execute_result"
        }
      ],
      "source": [
        "rot[1;5 6 7]"
      ]
    },
    {
      "cell_type": "markdown",
      "id": "adaptive-dating",
      "metadata": {},
      "source": [
        "and the three elements below it are"
      ]
    },
    {
      "cell_type": "code",
      "execution_count": 236,
      "id": "subject-rough",
      "metadata": {},
      "outputs": [
        {
          "data": {
            "text/html": [
              "<span style=\"white-space:pre; font-family: monospace\">1 1 0\n",
              "</span>"
            ]
          },
          "execution_count": 236,
          "metadata": {},
          "output_type": "execute_result"
        }
      ],
      "source": [
        "rot[2 3 4;4]"
      ]
    },
    {
      "cell_type": "markdown",
      "id": "immune-newcastle",
      "metadata": {},
      "source": [
        "Now, the runs that we care about correspond to columns that are completely 0.\n",
        "Using a reduction, we can figure out which columns have 1s and which do not:"
      ]
    },
    {
      "cell_type": "code",
      "execution_count": 237,
      "id": "above-threat",
      "metadata": {},
      "outputs": [
        {
          "data": {
            "text/html": [
              "<span style=\"white-space:pre; font-family: monospace\">1 1 1 1 1 1 1 1 1 1 1 1 1 0 1 1 1 1 1 0 1 1 1 1 1 1\n",
              "</span>"
            ]
          },
          "execution_count": 237,
          "metadata": {},
          "output_type": "execute_result"
        }
      ],
      "source": [
        "\u2228\u233frot"
      ]
    },
    {
      "cell_type": "markdown",
      "id": "burning-monte",
      "metadata": {},
      "source": [
        "To finish up, we can do something similar to what we did before:"
      ]
    },
    {
      "cell_type": "code",
      "execution_count": 238,
      "id": "subjective-agriculture",
      "metadata": {},
      "outputs": [
        {
          "data": {
            "text/html": [
              "<span style=\"white-space:pre; font-family: monospace\">14\n",
              "</span>"
            ]
          },
          "execution_count": 238,
          "metadata": {},
          "output_type": "execute_result"
        }
      ],
      "source": [
        "1\u2191\u2378~\u2228\u233frot"
      ]
    },
    {
      "cell_type": "markdown",
      "id": "exclusive-place",
      "metadata": {},
      "source": [
        "This is what this solution would look like in a dfn:"
      ]
    },
    {
      "cell_type": "code",
      "execution_count": 239,
      "id": "purple-immunology",
      "metadata": {},
      "outputs": [],
      "source": [
        "]dinput\n",
        "Free2 \u2190 {\n",
        "    mat \u2190 \u237a (\u2262\u2375)\u2374\u2375\n",
        "    rot \u2190 (\u00af1+\u2373\u237a)\u233dmat\n",
        "    1\u2191\u2378~\u2228\u233frot\n",
        "}"
      ]
    },
    {
      "cell_type": "code",
      "execution_count": 240,
      "id": "impaired-theta",
      "metadata": {},
      "outputs": [
        {
          "data": {
            "text/html": [
              "<span style=\"white-space:pre; font-family: monospace\">9\n",
              "</span>"
            ]
          },
          "execution_count": 240,
          "metadata": {},
          "output_type": "execute_result"
        }
      ],
      "source": [
        "3 Free2 xg10"
      ]
    },
    {
      "cell_type": "code",
      "execution_count": 241,
      "id": "worth-corrections",
      "metadata": {},
      "outputs": [
        {
          "data": {
            "text/html": [
              "<span style=\"white-space:pre; font-family: monospace\">0\n",
              "</span>"
            ]
          },
          "execution_count": 241,
          "metadata": {},
          "output_type": "execute_result"
        }
      ],
      "source": [
        "6 Free2 xg10"
      ]
    },
    {
      "cell_type": "code",
      "execution_count": 242,
      "id": "adaptive-cursor",
      "metadata": {},
      "outputs": [
        {
          "data": {
            "text/html": [
              "<span style=\"white-space:pre; font-family: monospace\">14\n",
              "</span>"
            ]
          },
          "execution_count": 242,
          "metadata": {},
          "output_type": "execute_result"
        }
      ],
      "source": [
        "4 Free2 xg10"
      ]
    },
    {
      "cell_type": "markdown",
      "id": "solved-anatomy",
      "metadata": {},
      "source": [
        "**Exercise 11**:\n",
        "\n",
        "We start with our matrix of names:"
      ]
    },
    {
      "cell_type": "code",
      "execution_count": 243,
      "id": "entertaining-stadium",
      "metadata": {},
      "outputs": [
        {
          "data": {
            "text/html": [
              "<span style=\"white-space:pre; font-family: monospace\">Emily   \n",
              "Luciano \n",
              "Paul    \n",
              "Oxana   \n",
              "Thor    \n",
              "Carmen  \n",
              "Veronica\n",
              "William \n",
              "Vladimir\n",
              "Monica  \n",
              "Colette \n",
              "</span>"
            ]
          },
          "execution_count": 243,
          "metadata": {},
          "output_type": "execute_result"
        }
      ],
      "source": [
        "\u2395\u2190 xg11 \u2190 11 8\u2374'Emily   Luciano Paul    Oxana   Thor    Carmen  VeronicaWilliam VladimirMonica  Colette '"
      ]
    },
    {
      "cell_type": "markdown",
      "id": "medieval-production",
      "metadata": {},
      "source": [
        "Let us also assume we want to make `n \u2190 3` slices:"
      ]
    },
    {
      "cell_type": "code",
      "execution_count": 244,
      "id": "vocational-polish",
      "metadata": {},
      "outputs": [],
      "source": [
        "n \u2190 3"
      ]
    },
    {
      "cell_type": "markdown",
      "id": "daily-arabic",
      "metadata": {},
      "source": [
        "If we look at the problem statement, we see that the names must be laid out top to bottom, and only then left to right.\n",
        "However, in APL, the _ravel order_ of arrays is first left to right, and _then_ top to bottom.\n",
        "So it seems like we have to fight APL's natural order in some way...\n",
        "The key to doing that is understanding that we actually have 3 dimensions along which we want to navigate:\n",
        "\n",
        " 1. we want to walk along one dimension that holds a single name,\n",
        " 2. then we want to go down along the column of names,\n",
        " 3. and then we want to go right along the columns of names.\n",
        "\n",
        "This hints at the fact that we should reshape our data to have 3 dimensions, where one dimension holds the slices, another holds all the names, and the last one holds the characters that compose a name.\n",
        "\n",
        "The first thing that we need to do, in order to break up the matrix with the names, into an array with 3 dimensions, is figure out the length of each dimension.\n",
        "`n \u2190 3` indicates that we want 3 slices, but how many names are there in each slice?"
      ]
    },
    {
      "cell_type": "code",
      "execution_count": 245,
      "id": "numerous-pizza",
      "metadata": {},
      "outputs": [
        {
          "data": {
            "text/html": [
              "<span style=\"white-space:pre; font-family: monospace\">3.66667\n",
              "</span>"
            ]
          },
          "execution_count": 245,
          "metadata": {},
          "output_type": "execute_result"
        }
      ],
      "source": [
        "(height width) \u2190 \u2374xg11\n",
        "height\u00f7n"
      ]
    },
    {
      "cell_type": "markdown",
      "id": "aquatic-recording",
      "metadata": {},
      "source": [
        "This doesn't divide evenly, so we use the _ceiling_ primitive to round up, and then we use _take_ to create empty names to pad the slice:"
      ]
    },
    {
      "cell_type": "code",
      "execution_count": 246,
      "id": "together-maple",
      "metadata": {},
      "outputs": [
        {
          "data": {
            "text/html": [
              "<span style=\"white-space:pre; font-family: monospace\">Emily   \n",
              "Luciano \n",
              "Paul    \n",
              "Oxana   \n",
              "Thor    \n",
              "Carmen  \n",
              "Veronica\n",
              "William \n",
              "Vladimir\n",
              "Monica  \n",
              "Colette \n",
              "        \n",
              "</span>"
            ]
          },
          "execution_count": 246,
          "metadata": {},
          "output_type": "execute_result"
        }
      ],
      "source": [
        "sliceSize \u2190 \u2308height\u00f7n\n",
        "\u2395\u2190 names \u2190 (sliceSize\u00d7n)\u2191xg11"
      ]
    },
    {
      "cell_type": "markdown",
      "id": "legislative-usage",
      "metadata": {},
      "source": [
        "Maybe you didn't notice, but now there is an empty row added to the matrix.\n",
        "So, the next step is reshaping the matrix `names` into a 3D array:"
      ]
    },
    {
      "cell_type": "code",
      "execution_count": 247,
      "id": "developed-checkout",
      "metadata": {},
      "outputs": [
        {
          "data": {
            "text/html": [
              "<span style=\"white-space:pre; font-family: monospace\">Emily   \n",
              "Luciano \n",
              "Paul    \n",
              "Oxana   \n",
              "        \n",
              "Thor    \n",
              "Carmen  \n",
              "Veronica\n",
              "William \n",
              "        \n",
              "Vladimir\n",
              "Monica  \n",
              "Colette \n",
              "        \n",
              "</span>"
            ]
          },
          "execution_count": 247,
          "metadata": {},
          "output_type": "execute_result"
        }
      ],
      "source": [
        "\u2395\u2190 slices \u2190 n sliceSize width \u2374 names"
      ]
    },
    {
      "cell_type": "markdown",
      "id": "addressed-mixer",
      "metadata": {},
      "source": [
        "Now we have an array where the dimensions match the dimensions we want, but now we need to reorder the dimensions so that they do what we want when we reshape the 3D array back into a matrix.\n",
        "We see that the 3rd dimension is already correct, because the names are laid out along the 3rd (last) dimension.\n",
        "This means the only thing we can try to do is reorder the first and second dimensions:"
      ]
    },
    {
      "cell_type": "code",
      "execution_count": 248,
      "id": "aquatic-cable",
      "metadata": {},
      "outputs": [
        {
          "data": {
            "text/html": [
              "<span style=\"white-space:pre; font-family: monospace\">Emily   \n",
              "Thor    \n",
              "Vladimir\n",
              "        \n",
              "Luciano \n",
              "Carmen  \n",
              "Monica  \n",
              "        \n",
              "Paul    \n",
              "Veronica\n",
              "Colette \n",
              "        \n",
              "Oxana   \n",
              "William \n",
              "        \n",
              "</span>"
            ]
          },
          "execution_count": 248,
          "metadata": {},
          "output_type": "execute_result"
        }
      ],
      "source": [
        "2 1 3\u2349slices"
      ]
    },
    {
      "cell_type": "markdown",
      "id": "rational-suicide",
      "metadata": {},
      "source": [
        "After the reordering of the two leading dimensions, we can now reshape the 3D array into a matrix:"
      ]
    },
    {
      "cell_type": "code",
      "execution_count": 249,
      "id": "attempted-middle",
      "metadata": {},
      "outputs": [
        {
          "data": {
            "text/html": [
              "<span style=\"white-space:pre; font-family: monospace\">Emily   Thor    Vladimir\n",
              "Luciano Carmen  Monica  \n",
              "Paul    VeronicaColette \n",
              "Oxana   William         \n",
              "</span>"
            ]
          },
          "execution_count": 249,
          "metadata": {},
          "output_type": "execute_result"
        }
      ],
      "source": [
        "sliceSize (n\u00d7width)\u23742 1 3\u2349slices"
      ]
    },
    {
      "cell_type": "markdown",
      "id": "initial-diagram",
      "metadata": {},
      "source": [
        "This is almost perfect, we just need to add blanks between all the slices.\n",
        "In order to do so, we can catenate a blank space at the end of the array (making it one character wider) and then dropping the last column of superfluous blanks:"
      ]
    },
    {
      "cell_type": "code",
      "execution_count": 250,
      "id": "ecological-cameroon",
      "metadata": {},
      "outputs": [
        {
          "data": {
            "text/html": [
              "<span style=\"white-space:pre; font-family: monospace\">Emily    Thor     Vladimir\n",
              "Luciano  Carmen   Monica  \n",
              "Paul     Veronica Colette \n",
              "Oxana    William          \n",
              "</span>"
            ]
          },
          "execution_count": 250,
          "metadata": {},
          "output_type": "execute_result"
        }
      ],
      "source": [
        "0 \u00af1\u2193sliceSize (n\u00d7width+1)\u23742 1 3\u2349slices,' '"
      ]
    },
    {
      "cell_type": "markdown",
      "id": "aboriginal-glass",
      "metadata": {},
      "source": [
        "This can be written as a dfn:"
      ]
    },
    {
      "cell_type": "code",
      "execution_count": 251,
      "id": "retained-absolute",
      "metadata": {},
      "outputs": [],
      "source": [
        "]dinput\n",
        "Split \u2190 {\n",
        "    (h w) \u2190 \u2374\u2375\n",
        "    nh \u2190 \u2308h\u00f7\u237a\n",
        "    names \u2190 (nh\u00d7\u237a)\u2191\u2375\n",
        "    slices \u2190 \u237a nh w\u2374names\n",
        "    0 \u00af1\u2193nh (\u237a\u00d7w+1)\u23742 1 3\u2349slices,' '\n",
        "}"
      ]
    },
    {
      "cell_type": "code",
      "execution_count": 252,
      "id": "sought-flesh",
      "metadata": {
        "scrolled": true
      },
      "outputs": [
        {
          "data": {
            "text/html": [
              "<span style=\"white-space:pre; font-family: monospace\">Emily    Thor     Vladimir\n",
              "Luciano  Carmen   Monica  \n",
              "Paul     Veronica Colette \n",
              "Oxana    William          \n",
              "</span>"
            ]
          },
          "execution_count": 252,
          "metadata": {},
          "output_type": "execute_result"
        }
      ],
      "source": [
        "3 Split xg11"
      ]
    },
    {
      "cell_type": "markdown",
      "id": "widespread-gentleman",
      "metadata": {},
      "source": [
        "For reference, we provide another implementation that is _not_ correct, where we just do some reshaping.\n",
        "In this alternative solution, the names get listed from left to right, and then from top to bottom."
      ]
    },
    {
      "cell_type": "code",
      "execution_count": 253,
      "id": "brazilian-potential",
      "metadata": {},
      "outputs": [],
      "source": [
        "]dinput\n",
        "SplitWrong \u2190 {\n",
        "    (h w) \u2190 \u2374\u2375\n",
        "    nh \u2190 \u2308h\u00f7\u237a\n",
        "    0 \u00af1\u2193nh(n\u00d7w+1)\u2374(n\u00d7nh\u00d7w+1)\u2191,xg11,' '\n",
        "}"
      ]
    },
    {
      "cell_type": "code",
      "execution_count": 254,
      "id": "occupied-affect",
      "metadata": {},
      "outputs": [
        {
          "data": {
            "text/html": [
              "<span style=\"white-space:pre; font-family: monospace\">Emily    Luciano  Paul    \n",
              "Oxana    Thor     Carmen  \n",
              "Veronica William  Vladimir\n",
              "Monica   Colette          \n",
              "</span>"
            ]
          },
          "execution_count": 254,
          "metadata": {},
          "output_type": "execute_result"
        }
      ],
      "source": [
        "3 SplitWrong xg11"
      ]
    },
    {
      "cell_type": "markdown",
      "id": "compliant-agriculture",
      "metadata": {},
      "source": [
        "**Exercise 12**:\n",
        "\n",
        "For this exercise, we are given an extra vector `xg12`:"
      ]
    },
    {
      "cell_type": "code",
      "execution_count": 255,
      "id": "lucky-candy",
      "metadata": {},
      "outputs": [],
      "source": [
        "xg12 \u2190 22 22 74 74 74 74 30 65 65 65 19"
      ]
    },
    {
      "cell_type": "markdown",
      "id": "specific-afghanistan",
      "metadata": {},
      "source": [
        "It is fairly straightforward to put the labels next to the names:"
      ]
    },
    {
      "cell_type": "code",
      "execution_count": 256,
      "id": "right-discharge",
      "metadata": {},
      "outputs": [
        {
          "data": {
            "text/html": [
              "<span style=\"white-space:pre; font-family: monospace\">22  Emily   \n",
              "22  Luciano \n",
              "74  Paul    \n",
              "74  Oxana   \n",
              "74  Thor    \n",
              "74  Carmen  \n",
              "30  Veronica\n",
              "65  William \n",
              "65  Vladimir\n",
              "65  Monica  \n",
              "19  Colette \n",
              "</span>"
            ]
          },
          "execution_count": 256,
          "metadata": {},
          "output_type": "execute_result"
        }
      ],
      "source": [
        "\u2395\u2190 labeled \u2190 \u2355xg12,' ',xg11"
      ]
    },
    {
      "cell_type": "markdown",
      "id": "human-respondent",
      "metadata": {},
      "source": [
        "The final step is creating the blank lines that separate the different labels.\n",
        "\n",
        "For that, we need to create a Boolean vector that we can give to _expand_.\n",
        "This is what we need to create:"
      ]
    },
    {
      "cell_type": "code",
      "execution_count": 257,
      "id": "satisfied-recipient",
      "metadata": {},
      "outputs": [
        {
          "data": {
            "text/html": [
              "<span style=\"white-space:pre; font-family: monospace\">22  Emily   \n",
              "22  Luciano \n",
              "            \n",
              "74  Paul    \n",
              "74  Oxana   \n",
              "74  Thor    \n",
              "74  Carmen  \n",
              "            \n",
              "30  Veronica\n",
              "            \n",
              "65  William \n",
              "65  Vladimir\n",
              "65  Monica  \n",
              "            \n",
              "19  Colette \n",
              "</span>"
            ]
          },
          "execution_count": 257,
          "metadata": {},
          "output_type": "execute_result"
        }
      ],
      "source": [
        "1 1 0 1 1 1 1 0 1 0 1 1 1 0 1\u2340labeled"
      ]
    },
    {
      "cell_type": "markdown",
      "id": "alien-closure",
      "metadata": {},
      "source": [
        "In order to create that vector, we will want to figure out the indices of the above vector that are 0.\n",
        "To do so, we start by finding where the labels change:"
      ]
    },
    {
      "cell_type": "code",
      "execution_count": 264,
      "id": "current-numbers",
      "metadata": {},
      "outputs": [
        {
          "data": {
            "text/html": [
              "<span style=\"white-space:pre; font-family: monospace\">2 6 7 10\n",
              "</span>"
            ]
          },
          "execution_count": 264,
          "metadata": {},
          "output_type": "execute_result"
        }
      ],
      "source": [
        "\u2395\u2190 indices \u2190 \u2378(\u00af1\u2193xg12)\u22601\u2193xg12"
      ]
    },
    {
      "cell_type": "markdown",
      "id": "christian-antique",
      "metadata": {},
      "source": [
        "However, if we look at the Boolean vector above, these are the indices of the 0s:"
      ]
    },
    {
      "cell_type": "code",
      "execution_count": 263,
      "id": "varying-occurrence",
      "metadata": {},
      "outputs": [
        {
          "data": {
            "text/html": [
              "<span style=\"white-space:pre; font-family: monospace\">3 8 10 14\n",
              "</span>"
            ]
          },
          "execution_count": 263,
          "metadata": {},
          "output_type": "execute_result"
        }
      ],
      "source": [
        "\u2378~1 1 0 1 1 1 1 0 1 0 1 1 1 0 1"
      ]
    },
    {
      "cell_type": "markdown",
      "id": "unnecessary-diabetes",
      "metadata": {},
      "source": [
        "Can you see the pattern?\n",
        "\n",
        "Here is the mapping that we need to do:\n",
        "\n",
        " - 2 goes to 3\n",
        " - 6 goes to 8\n",
        " - 7 goes to 10\n",
        " - 10 goes to 14"
      ]
    },
    {
      "cell_type": "code",
      "execution_count": 265,
      "id": "behind-tender",
      "metadata": {},
      "outputs": [
        {
          "data": {
            "text/html": [
              "<span style=\"white-space:pre; font-family: monospace\">3 8 10 14\n",
              "</span>"
            ]
          },
          "execution_count": 265,
          "metadata": {},
          "output_type": "execute_result"
        }
      ],
      "source": [
        "indices+\u2373\u2262indices"
      ]
    },
    {
      "cell_type": "markdown",
      "id": "cheap-smell",
      "metadata": {},
      "source": [
        "Every index that we found in `indices` points to the last position of a run of labels, and we wanted to insert a new 0 in the position after the run ends and before the next run begins.\n",
        "However, if we imagine we are working from the left, every time we insert a new position between different labels, we shift part of the vector to the right.\n",
        "That is why we need to add the _iota_ of the _tally_ of `indices`, to correct for those shifts.\n",
        "\n",
        "Now we use these indices to create the Boolean vector we need:"
      ]
    },
    {
      "cell_type": "code",
      "execution_count": 268,
      "id": "enabling-heather",
      "metadata": {},
      "outputs": [
        {
          "data": {
            "text/html": [
              "<span style=\"white-space:pre; font-family: monospace\">1 1 0 1 1 1 1 0 1 0 1 1 1 0 1\n",
              "</span>"
            ]
          },
          "execution_count": 268,
          "metadata": {},
          "output_type": "execute_result"
        }
      ],
      "source": [
        "\u2395\u2190 exp \u2190 ~(\u2373(\u2262indices)+\u2262xg12)\u220aindices+\u2373\u2262indices"
      ]
    },
    {
      "cell_type": "code",
      "execution_count": 270,
      "id": "varying-solomon",
      "metadata": {},
      "outputs": [
        {
          "data": {
            "text/html": [
              "<span style=\"white-space:pre; font-family: monospace\">22  Emily   \n",
              "22  Luciano \n",
              "            \n",
              "74  Paul    \n",
              "74  Oxana   \n",
              "74  Thor    \n",
              "74  Carmen  \n",
              "            \n",
              "30  Veronica\n",
              "            \n",
              "65  William \n",
              "65  Vladimir\n",
              "65  Monica  \n",
              "            \n",
              "19  Colette \n",
              "</span>"
            ]
          },
          "execution_count": 270,
          "metadata": {},
          "output_type": "execute_result"
        }
      ],
      "source": [
        "exp\u2340labeled"
      ]
    },
    {
      "cell_type": "code",
      "execution_count": 271,
      "id": "spiritual-typing",
      "metadata": {},
      "outputs": [],
      "source": [
        "]dinput\n",
        "Expand \u2190 {\n",
        "    labeled \u2190 \u2355\u237a,' ',\u2375\n",
        "    indices \u2190 \u2378(\u00af1\u2193\u237a)\u22601\u2193\u237a\n",
        "    exp \u2190 ~(\u2373(\u2262indices)+\u2262xg12)\u220aindices+\u2373\u2262indices\n",
        "    exp\u2340labeled\n",
        "}"
      ]
    },
    {
      "cell_type": "code",
      "execution_count": 272,
      "id": "advance-collectible",
      "metadata": {},
      "outputs": [
        {
          "data": {
            "text/html": [
              "<span style=\"white-space:pre; font-family: monospace\">22  Emily   \n",
              "22  Luciano \n",
              "            \n",
              "74  Paul    \n",
              "74  Oxana   \n",
              "74  Thor    \n",
              "74  Carmen  \n",
              "            \n",
              "30  Veronica\n",
              "            \n",
              "65  William \n",
              "65  Vladimir\n",
              "65  Monica  \n",
              "            \n",
              "19  Colette \n",
              "</span>"
            ]
          },
          "execution_count": 272,
          "metadata": {},
          "output_type": "execute_result"
        }
      ],
      "source": [
        "xg12 Expand xg11"
      ]
    }
  ],
  "metadata": {
    "kernelspec": {
      "display_name": "Dyalog APL",
      "language": "apl",
      "name": "dyalog-kernel"
    },
    "language_info": {
      "file_extension": ".apl",
      "mimetype": "text/apl",
      "name": "APL"
    },
    "toc": {
      "base_numbering": 1,
      "nav_menu": {},
      "number_sections": false,
      "sideBar": true,
      "skip_h1_title": true,
      "title_cell": "Table of Contents",
      "title_sidebar": "Contents",
      "toc_cell": false,
      "toc_position": {},
      "toc_section_display": true,
      "toc_window_display": false
    }
  },
  "nbformat": 4,
  "nbformat_minor": 5
}