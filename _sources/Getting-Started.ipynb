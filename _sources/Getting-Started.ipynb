{
  "cells": [
    {
      "cell_type": "markdown",
      "metadata": {},
      "source": [
        "(Getting-Started-Getting-Started)=\n",
        "# Getting Started\n",
        "\n",
        "Before you begin to read this tutorial it is recommended that you install the software that is necessary in order for you to follow along the book and experiment for yourself with our examples. This chapter contains practical information to help you set everything up so that you can make the most of this new learning experience.\n",
        "\n",
        "This chapter was written during the second half of 2020, when the most recent Dyalog APL release was 18.0. Please bear in mind that some figures and exact instructions may become outdated. If you already have an earlier version of Dyalog APL installed, most of the examples will still work but of course we recommend that you install the latest version of Dyalog APL."
      ]
    },
    {
      "cell_type": "markdown",
      "metadata": {},
      "source": [
        "(Getting-Started-Installing-the-Software)=\n",
        "## Installing the Software\n",
        "\n",
        "This section will contain more detailed instructions on how to set up the software you need. To get APL up and running on your machine, you will most likely need two things:\n",
        "\n",
        " 1. Dyalog APL: allows your computer to understand APL code and evaluate it; and\n",
        " 2. an IDE (Integrated Development Environment), because it provides a nice interface for you to communicate with Dyalog APL, the component mentioned above.\n",
        "\n",
        "Depending on your operating system you may need to follow a different set of steps to get everything up and running, so we advise you to jump to the subsection that matches the operating system your machine is running.\n",
        "\n",
        "If you do not wish to install any software whatsoever, you can follow along this book online (with some limitations). Skip to {numref}`Getting-Started-Following-Along-Online`."
      ]
    },
    {
      "cell_type": "markdown",
      "metadata": {},
      "source": [
        "(Getting-Started-Microsoft-Windows)=\n",
        "### Microsoft Windows\n",
        "\n",
        "If your machine is running Microsoft Windows then you should head over to [Dyalog's download zone](https://www.dyalog.com/download-zone.htm) and download Dyalog APL from there. Once the download is complete you can unzip the archive and open the file `setup_readme.htm` to read more detailed instructions. If you run the installer (`setup.exe`) with administrator privileges then you can likely accept all installation defaults. Refer to the `setup_readme.htm` file if you want to understand why it is recommended that you run the installer with administrator privileges.\n",
        "\n",
        "After the installation is complete you should have Dyalog APL installed on your computer, as well as an APL keyboard that will allow you to type APL glyphs like `\u2374` and `\u2377` and an IDE to support your development of APL programs.\n",
        "\n",
        "On Windows machines this is the recommended program to use when programming in APL. You may install RIDE if you prefer to use the IDE that Linux/MacOS users will most likely run, but the classical Windows IDE that you just installed provides for a richer experience."
      ]
    },
    {
      "cell_type": "markdown",
      "metadata": {},
      "source": [
        "(Getting-Started-Installing-RIDE)=\n",
        "#### Installing RIDE\n",
        "\n",
        "If you prefer to install RIDE you can head over to [RIDE's latest release on GitHub](https://github.com/Dyalog/ride/releases/latest) and download the Windows executable you find there. A default installation will serve your needs."
      ]
    },
    {
      "cell_type": "markdown",
      "metadata": {},
      "source": [
        "(Getting-Started-Linux)=\n",
        "### Linux\n",
        "\n",
        "If your machine is running a Linux distribution, head over to [Dyalog's download zone](https://www.dyalog.com/download-zone.htm) and select the appropriate download with respect to your Linux distribution. After the download is complete you can install the package you just downloaded; once you do this, you can type `dyalog` on your command line to start a very basic terminal session. Try typing `3 + 3` and pressing <kbd>Enter</kbd> to see if APL returns the result `6`. If it did, everything is going well.\n",
        "\n",
        "If something went wrong or you need more help, you can refer to [Dyalog's Documentation pages](https://docs.dyalog.com). Under \"UNIX-Specific Documentation\" you can find more detailed instructions on how to install Dyalog APL on your system.\n",
        "\n",
        "After Dyalog APL is installed it is recommended that you also install a suitable IDE, namely RIDE - the Remote IDE for Dyalog APL. Please refer to [RIDE's Releases page on GitHub](https://github.com/Dyalog/ride/releases) to download and install the most recent version of RIDE."
      ]
    },
    {
      "cell_type": "markdown",
      "metadata": {},
      "source": [
        "(Getting-Started-MacOS)=\n",
        "### MacOS\n",
        "\n",
        "If your machine is running MacOS then you can get Dyalog APL and an appropriate IDE with just a single installation. Head over to [Dyalog's download zone](https://www.dyalog.com/download-zone.htm) and select the MacOS package. Installing the downloaded package on your machine should give you access to RIDE - the Remote IDE for Dyalog APL.\n",
        "\n",
        "If you run into trouble installing the software or you need more help, please refer to [Dyalog's Documentation pages](https://docs.dyalog.com). Under \"MacOS-Specific Documentation\" you can find more detailed instructions on how to install Dyalog APL on your system."
      ]
    },
    {
      "cell_type": "markdown",
      "metadata": {},
      "source": [
        "(Getting-Started-Jupyter-Notebook-Kernel)=\n",
        "### Jupyter Notebook Kernel\n",
        "\n",
        "This subsection points you to the right pages if you wish to install the Dyalog APL kernel for Jupyter notebooks. If you are a first time APLer or are inexperienced with programming we recommend you skip this for now, as you won't really need it. Jupyter notebooks allow for a different programming experience and are very suitable for intertwining code snippets and text, like this book does. If you just want to follow along the examples in the book you do not need to install this, as a standard APL interpreter session will be enough.\n",
        "\n",
        "The Dyalog APL kernel can be found [on GitHub](https://github.com/Dyalog/dyalog-jupyter-kernel) and the appropriate installation instructions can be found [in the wiki pages](https://github.com/Dyalog/dyalog-jupyter-kernel/wiki/1.-Offline-usage), along with all the dependencies that are needed. Be sure to have a working Dyalog APL installation before trying to install the Dyalog APL kernel."
      ]
    },
    {
      "cell_type": "markdown",
      "metadata": {},
      "source": [
        "(Getting-Started-First-Contact)=\n",
        "## First Contact\n",
        "\n",
        "In the subsections that follow we will explain the most basic fundamentals about the environments you can use to program in APL. We will teach you just enough so that you can hit the ground running when we start exploring APL in the [\"Data and Variables\" chapter](./Data-and-Variables.ipynb)."
      ]
    },
    {
      "cell_type": "markdown",
      "metadata": {},
      "source": [
        "(Getting-Started-The-RIDE-Working-Environment)=\n",
        "### The RIDE Working Environment\n",
        "\n",
        "When you start up RIDE you should be greeted with a loading screen that looks similar to this:\n",
        "\n",
        "(fig-RIDE_Loading_Screen)=\n",
        "```{figure} res/RIDE_Loading_Screen.png\n",
        "---\n",
        "name: RIDE_Loading_Screen\n",
        "---\n",
        "RIDE's loading screen.\n",
        "```\n",
        "\n",
        "After loading is complete RIDE will open a configuration window for you to connect to Dyalog APL. Depending on your platform you may or may not be greeted by a screen like the one below.\n",
        "\n",
        "(fig-RIDE_Connect_Screen)=\n",
        "```{figure} res/RIDE_Connect_Screen.png\n",
        "---\n",
        "name: RIDE_Connect_Screen\n",
        "---\n",
        "RIDE's connection screen.\n",
        "```\n",
        "\n",
        "If you see a screen like this, open the dropdown where \"Connect\" is and change it to \"Start\", so that instead you see a screen like the one in the figure below.\n",
        "\n",
        "(fig-RIDE_Start_Screen)=\n",
        "```{figure} res/RIDE_Start_Screen.png\n",
        "---\n",
        "name: RIDE_Start_Screen\n",
        "---\n",
        "RIDE's start screen.\n",
        "```\n",
        "\n",
        "You can then press \"Start\" to open an APL interpreter session like the one in the figure below. If you didn't see the screens above then you should already be in the APL interpreter session:\n",
        "\n",
        "(fig-RIDE_Session_Screen)=\n",
        "```{figure} res/RIDE_Session_Screen.png\n",
        "---\n",
        "name: RIDE_Session_Screen\n",
        "---\n",
        "RIDE's interpreter screen.\n",
        "```\n",
        "\n",
        "Try typing `3 + 3` and hit <kbd>Enter</kbd>. If the program prints a `6` below your input then all is good. The RIDE window contains, from top to bottom,\n",
        "\n",
        " - a menu bar, which you can use to access your configuration settings, open files, quit the RIDE, etc (depending on your OS and/or system settings, this may be located at the top of your screen rather than being part of the RIDE window);\n",
        " - a language bar, which will be described in more detail {numref}`Getting-Started-The-Language-Bar`;\n",
        " - an empty working environment (which should not be empty by now, as you typed `3 + 3` in it) where you can type APL expressions and get them executed; and\n",
        " - a status bar containing some indicators and diagnostic information.\n",
        " \n",
        "The four sections described are highlighted in red in the figure below, respectively from top to bottom.\n",
        "\n",
        "(fig-RIDE_Interpreter_Sections)=\n",
        "```{figure} res/RIDE_Interpreter_Sections.png\n",
        "---\n",
        "name: RIDE_Interpreter_Sections\n",
        "---\n",
        "RIDE's working environment with the four sections highlighted in red.\n",
        "```\n"
      ]
    },
    {
      "cell_type": "markdown",
      "metadata": {},
      "source": [
        "(Getting-Started-The-Standard-Microsoft-Windows-Interpreter-Working-Environment)=\n",
        "### The Standard Microsoft Windows Interpreter Working Environment\n",
        "\n",
        "After installing Dyalog APL on your Windows machine, try firing up the Dyalog APL interpreter, which should open something like this:\n",
        "\n",
        "(fig-Win_Empty_Interpreter)=\n",
        "```{figure} res/Win_Empty_Interpreter.png\n",
        "---\n",
        "name: Win_Empty_Interpreter\n",
        "---\n",
        "Windows IDE interpreter.\n",
        "```\n",
        "\n",
        "Try typing `3 + 3` and hitting <kbd>Enter</kbd> to see if the interpreter prints a `6` in response.\n",
        "\n",
        "Having performed the installation without changing the default values, Dyalog APL will also have installed one or more APL compatible keyboard layouts. Depending on your machine, Windows may have switched to any of them automatically when you opened the interpreter, but in any case you can use <kbd>\u229e Win</kbd>+<kbd>Spacebar</kbd> to cycle through the keyboard layouts you have active on your computer. \n",
        "\n",
        "As an example, I only had one language and one keyboard layout active on my Windows machine - US English - and after performing the default installation, the task bar shows two keyboard layouts:\n",
        "\n",
        "(fig-Win_Languages_Dyalog_IME)=\n",
        "```{figure} res/Win_Languages_Dyalog_IME.png\n",
        "---\n",
        "name: Win_Languages_Dyalog_IME\n",
        "---\n",
        "US Dyalog IME keyboard is installed along the default US keyboard.\n",
        "```\n",
        "\n",
        "The \"Dyalog APL IME (en-US)\" layout was installed because I had a US layout active at the time of the installation. For each keyboard layout you have set, Dyalog APL will attempt to install the respective IME layout. Uncommon keyboard layouts may have _no_ corresponding IME layout. Please pay special attention to the {numref}`Getting-Started-Typing-APL-glyphs` if this is the case for you.\n",
        "\n",
        "When you open the standard windows interpreter, your development environment contains the following sections, from top to bottom:\n",
        "\n",
        " - a menu bar, that you can use to open files, configure the IDE, quit the interpreter session, etc; the menu bar is explored in detail in [Dyalog's help pages](http://help.dyalog.com), under \"UI Guide \u21e8 Session MenuBar\";\n",
        " - a toolbar with icon shortcuts for common actions you might want to perform;\n",
        " - a language bar, which will be described in more detail in {numref}`Getting-Started-The-Language-Bar`;\n",
        " - an empty working area (which should no longer be empty if you did the `3 + 3` test) topped by an automatic message with some information on your system, like the Dyalog APL version installed, its serial number and the current date; and\n",
        " - two status bars containing some indicators and diagnostic information.\n",
        " \n",
        "The sections just described are highlighted in red in the figure below, from top to bottom respectively.\n",
        "\n",
        "(fig-WIN_Interpreter_Sections)=\n",
        "```{figure} res/WIN_Interpreter_Sections.png\n",
        "---\n",
        "name: WIN_Interpreter_Sections\n",
        "---\n",
        "Windows IDE default interpreter sections.\n",
        "```\n"
      ]
    },
    {
      "cell_type": "markdown",
      "metadata": {},
      "source": [
        "(Getting-Started-The-Dyalog-APL-Jupyter-Notebook-Working-Environment)=\n",
        "### The Dyalog APL Jupyter Notebook Working Environment\n",
        "\n",
        "After successfully installing the Dyalog APL Jupyter kernel, you can fire up the Jupyter notebook server as usual, which should open a browser window like the one in the figure below.\n",
        "\n",
        "(fig-Jupyter_Window)=\n",
        "```{figure} res/Jupyter_Window.png\n",
        "---\n",
        "name: Jupyter_Window\n",
        "---\n",
        "Jupyter's main window.\n",
        "```\n",
        "\n",
        "From there you can navigate your file system as per usual and if you click the \"New\" button on the right, it should open a dropdown list with a couple of different options, \"Dyalog APL\" being one of them.\n",
        "\n",
        "(fig-Jupyter_Create_New_Notebook)=\n",
        "```{figure} res/Jupyter_Create_New_Notebook.png\n",
        "---\n",
        "name: Jupyter_Create_New_Notebook\n",
        "---\n",
        "Dropdown list to choose the Dyalog APL kernel.\n",
        "```\n",
        "\n",
        "If you press that option, an empty notebook will be created, as shown in the figure below.\n",
        "\n",
        "(fig-Jupyter_New_Empty_Notebook)=\n",
        "```{figure} res/Jupyter_New_Empty_Notebook.png\n",
        "---\n",
        "name: Jupyter_New_Empty_Notebook\n",
        "---\n",
        "Empty Dyalog APL notebook.\n",
        "```\n",
        "\n",
        "When inside a notebook, you can look at the top right corner to see if it is a Dyalog APL notebook or any other notebook. If it says \"Dyalog APL\" just below the \"Logout\" button, then it is a Dyalog APL notebook. If it says anything else, like \"Python 3\" or \"Lua\" then it is a different notebook.\n",
        "\n",
        "Try typing `3 + 3` inside the empty rectangle that shows and press <kbd>Ctrl</kbd>+<kbd>Enter</kbd>. A `6` should be printed just below the expression you typed.\n",
        "\n",
        "The Jupyter notebook development environment is significantly different from the RIDE and the Windows IDE, being much poorer in some aspects but providing for a richer experience in other things. From top to bottom and left to right, you can find\n",
        "\n",
        " - notebook information, like its name and the last time it was saved;\n",
        " - the logout button to close the connection to the Jupyter server;\n",
        " - the menu bar;\n",
        " - kernel status and information;\n",
        " - a toolbar with icon shortcuts for some common actions (the icons you have might differ from the ones in the figure above); and\n",
        " - an empty working area (which should no longer be empty if you did the `3 + 3` test) which expands as you work in it.\n",
        " \n",
        "If you are unfamiliar with how Jupyter notebooks work in general, we recommend you read more about them at the [Jupyter website](https://jupyter.org/index.html)."
      ]
    },
    {
      "cell_type": "markdown",
      "metadata": {},
      "source": [
        "(Getting-Started-Following-Along-Online)=\n",
        "### Following Along Online\n",
        "\n",
        "\n",
        "If you want to follow along online, your best two options are\n",
        "\n",
        " - to read this book in its interactive version; and\n",
        " - to use [TryAPL's](https://tryapl.org/) \"Learn\" functionality that allows you to link to a Jupyter notebook (like the chapters of this book) and to run the expressions. Please bear in mind that TryAPL only supports a subset of the APL language."
      ]
    },
    {
      "cell_type": "markdown",
      "metadata": {},
      "source": [
        "(Getting-Started-Typing-APL-glyphs)=\n",
        "### Typing APL glyphs\n",
        "\n",
        "As you may have understood by now, APL uses a varied set of Unicode glyphs to represent many built-ins. A standard keyboard cannot type those symbols, so the installation you made provided you with the means of typing APL glyphs."
      ]
    },
    {
      "cell_type": "markdown",
      "metadata": {},
      "source": [
        "(Getting-Started-The-Language-Bar)=\n",
        "#### The Language Bar\n",
        "\n",
        "One way of inputting APL's glyphs is through the language bar your IDE has. On the standard Windows interpreter the language bar looks like this when unfolded:\n",
        "\n",
        "(fig-Language_Bar)=\n",
        "```{figure} res/Language_Bar.png\n",
        "---\n",
        "name: Language_Bar\n",
        "---\n",
        "Windows IDE language bar.\n",
        "```\n",
        "\n",
        "The RIDE will have a similar-looking language bar.\n",
        "\n",
        "The language bar contains all the APL glyphs and also provides some summary information on them, like their name, the keyboard shortcuts you can use to type them and basic usage examples. To access this summary information, you can hover over a glyph and a tooltip will appear. The figure below shows the complete tooltip that appears if you hover `.`. Do not worry if you understand nothing of what the tooltip is saying, that is why you are reading this tutorial.\n",
        "\n",
        "(fig-Full_Dot_Tooltip)=\n",
        "```{figure} res/Full_Dot_Tooltip.png\n",
        "---\n",
        "name: Full_Dot_Tooltip\n",
        "---\n",
        "Windows IDE `.` (period) tooltip.\n",
        "```\n",
        "\n",
        "Inside the respective program, pressing a glyph in the language bar will place it in the position your cursor is at, so that is the most basic way of inputting APL glyphs. The recommended way, which we advise you to get used to and that we explain next, is by using the appropriate key bindings:"
      ]
    },
    {
      "cell_type": "markdown",
      "metadata": {},
      "source": [
        "(Getting-Started-The-APL-Key)=\n",
        "#### The APL Key\n",
        "\n",
        "\n",
        "It should come as no surprise to you that by pressing your keyboard keys, you type the symbols the key caps have printed on them. For example, the <kbd>a</kbd> key types an `a` when you press it, and if you press <kbd>Shift</kbd>+<kbd>A</kbd> you type an `A`. With APL we introduce another \"shifting\" key so that the same key can be used to produce even more symbols. We will refer to this shifting key generally as <kbd>APL</kbd>, because this <kbd>APL</kbd> key can differ depending on the keyboard layout you are using, your operating system and other programs you may have installed.\n",
        "\n",
        "If you already know what your <kbd>APL</kbd> key is, you can verify everything is working as expected by pressing <kbd>APL</kbd>+<kbd>r</kbd>: a `\u2374` should be typed, the Greek letter Rho.\n",
        "\n",
        "If you do not know which one is your <kbd>APL</kbd> key, we will find out together.\n",
        "\n",
        "If you are using RIDE, then chances are you are using <kbd>&grave;</kbd> as a prefix-key. What this means is, to have a `\u2374` printed you first hit <kbd>&grave;</kbd>, which will print a <code>&grave;</code> in your cursor position, and then you hit <kbd>R</kbd>, which will replace <code>&grave;r</code> altogether with `\u2374`. It also means you can hit <kbd>&grave;</kbd> <kbd>&grave;</kbd> and then type to input a glyph by its name. If you hover an APL glyph on the RIDE language bar it will open a tooltip which, at the top, tells you the keyboard combination you need to press in order to type the given glyph. The figure below shows the tooltip for `\u2374`:\n",
        "\n",
        "(fig-RIDE_Language_Bar_Keyboard_Tooltip)=\n",
        "```{figure} res/RIDE_Language_Bar_Keyboard_Tooltip.png\n",
        "---\n",
        "name: RIDE_Language_Bar_Keyboard_Tooltip\n",
        "---\n",
        "RIDE tooltip for `\u2374`.\n",
        "```\n",
        "\n",
        "If you are using the standard Windows interpreter and if you accepted all the installation defaults, then Windows tried to install a keyboard layout that will let you type APL glyphs anywhere, not only inside the APL interpreter. This (or these) layout(s) will have their names start with \"Dyalog APL IME\". For those, your <kbd>APL</kbd> key is likely to be one of <kbd>Ctrl</kbd> or <kbd>Alt</kbd>. To make sure, you can either try the <kbd>Ctrl</kbd>+<kbd>r</kbd> and <kbd>Alt</kbd>+<kbd>r</kbd> combinations to see which one types a `\u2374`, or you can hover the glyph `\u2374` in the language bar and look at the top of the tooltip that appears, which also gives you instructions on how to type the given glyph. The figure below shows the tooltip for `\u2374`:\n",
        "\n",
        "(fig-Standard_Windows_Interpreter_Language_Bar_Keyboard_Tooltip)=\n",
        "```{figure} res/Standard_Windows_Interpreter_Language_Bar_Keyboard_Tooltip.png\n",
        "---\n",
        "name: Standard_Windows_Interpreter_Language_Bar_Keyboard_Tooltip\n",
        "---\n",
        "Windows IDE tooltip for `\u2374`.\n",
        "```\n",
        "\n",
        "In my specific case it says my <kbd>APL</kbd> key is, in fact, the combination <kbd>Ctrl</kbd>+<kbd>Alt</kbd> or, equivalently, <kbd>AltGr</kbd>. That is, if I press <kbd>AltGr</kbd>+<kbd>r</kbd> then I type a `\u2374`.\n",
        "\n",
        "If you need further help with typing APL glyphs you can refer to the [APL Wiki page on \"Typing Glyphs\"](https://aplwiki.com/wiki/Typing_glyphs)."
      ]
    },
    {
      "cell_type": "markdown",
      "metadata": {},
      "source": [
        "(Getting-Started-The-AltGr-Unified-Keyboard)=\n",
        "#### The AltGr Unified Keyboard\n",
        "\n",
        "An alternative keyboard you may want to consider installing is [@abrudz's](https://github.com/abrudz) unified AltGr keyboard. Available at the [kbd GitHub repository](https://github.com/abrudz/kbd), the layouts provided in that repository \"*facilitate typing Dyalog APL in that they provide easy access to all Dyalog APL symbols and allow the typing of all valid Dyalog APL identifiers*\". These layouts use <kbd>AltGr</kbd> as the <kbd>APL</kbd> key."
      ]
    },
    {
      "cell_type": "markdown",
      "metadata": {},
      "source": [
        "(Getting-Started-Keyboard-Layout-Glyph-Mapping)=\n",
        "#### Keyboard Layout Glyph Mapping\n",
        "\n",
        "\n",
        "Depending on your physical keyboard layout, different APL symbols may be mapped to different keys. Below we use some APL incantations to show what symbols are mapped to what keys in a standard US keyboard:"
      ]
    },
    {
      "cell_type": "code",
      "execution_count": 1,
      "metadata": {},
      "outputs": [
        {
          "data": {
            "text/html": [
              "<span style=\"white-space:pre; font-family: monospace\">C:\\Program Files\\Dyalog\\Dyalog APL-64 18.0 Unicode\\ws\\dfns.dws saved Tue Dec  1 20:08:40 2020\n",
              "</span>"
            ]
          },
          "execution_count": 1,
          "metadata": {},
          "output_type": "execute_result"
        },
        {
          "data": {
            "text/html": [
              "<span style=\"white-space:pre; font-family: monospace\">Dyalog APL/en-US keyboard                                                               \n",
              "\u00af\u00af\u00af\u00af\u00af\u00af\u00af\u00af\u00af\u00af\u00af\u00af\u00af\u00af\u00af\u00af\u00af\u00af\u00af\u00af\u00af\u00af\u00af\u00af\u00af                                                               \n",
              "\u250c\u2500\u2500\u2500\u2500\u252c\u2500\u2500\u2500\u2500\u252c\u2500\u2500\u2500\u2500\u252c\u2500\u2500\u2500\u2500\u252c\u2500\u2500\u2500\u2500\u252c\u2500\u2500\u2500\u2500\u252c\u2500\u2500\u2500\u2500\u252c\u2500\u2500\u2500\u2500\u252c\u2500\u2500\u2500\u2500\u252c\u2500\u2500\u2500\u2500\u252c\u2500\u2500\u2500\u2500\u252c\u2500\u2500\u2500\u2500\u252c\u2500\u2500\u2500\u2500\u252c\u2500\u2500\u2500\u2500\u2500\u2500\u2500\u2500\u2500\u2510            \n",
              "\u2502~ \u233a \u2502! \u2336 \u2502@ \u236b \u2502# \u2352 \u2502$ \u234b \u2502% \u233d \u2502^ \u2349 \u2502&amp; \u2296 \u2502* \u235f \u2502( \u2371 \u2502) \u2372 \u2502_ ! \u2502+ \u2339 \u2502Backspace\u2502            \n",
              "\u2502` \u22c4 \u25021 \u00a8 \u25022 \u00af \u25023 &lt; \u25024 \u2264 \u25025 = \u25026 \u2265 \u25027 &gt; \u25028 \u2260 \u25029 \u2228 \u25020 \u2227 \u2502- \u00d7 \u2502= \u00f7 \u2502         \u2502            \n",
              "\u251c\u2500\u2500\u2500\u2500\u2534\u2500\u2500\u252c\u2500\u2534\u2500\u2500\u252c\u2500\u2534\u2500\u2500\u252c\u2500\u2534\u2500\u2500\u252c\u2500\u2534\u2500\u2500\u252c\u2500\u2534\u2500\u2500\u252c\u2500\u2534\u2500\u2500\u252c\u2500\u2534\u2500\u2500\u252c\u2500\u2534\u2500\u2500\u252c\u2500\u2534\u2500\u2500\u252c\u2500\u2534\u2500\u2500\u252c\u2500\u2534\u2500\u2500\u252c\u2500\u2534\u2500\u2500\u252c\u2500\u2500\u2500\u2500\u2500\u2500\u2524            \n",
              "\u2502Tab    \u2502Q   \u2502W   \u2502E \u2377 \u2502R   \u2502T \u2368 \u2502Y   \u2502U   \u2502I \u2378 \u2502O \u2365 \u2502P \u2363 \u2502{ \u235e \u2502} \u236c \u2502| \u22a3   \u2502            \n",
              "\u2502       \u2502q ? \u2502w \u2375 \u2502e \u220a \u2502r \u2374 \u2502t ~ \u2502y \u2191 \u2502u \u2193 \u2502i \u2373 \u2502o \u25cb \u2502p * \u2502[ \u2190 \u2502] \u2192 \u2502\\ \u22a2   \u2502            \n",
              "\u251c\u2500\u2500\u2500\u2500\u2500\u2500\u2500\u2534\u252c\u2500\u2500\u2500\u2534\u252c\u2500\u2500\u2500\u2534\u252c\u2500\u2500\u2500\u2534\u252c\u2500\u2500\u2500\u2534\u252c\u2500\u2500\u2500\u2534\u252c\u2500\u2500\u2500\u2534\u252c\u2500\u2500\u2500\u2534\u252c\u2500\u2500\u2500\u2534\u252c\u2500\u2500\u2500\u2534\u252c\u2500\u2500\u2500\u2534\u252c\u2500\u2500\u2500\u2534\u252c\u2500\u2500\u2500\u2534\u2500\u2500\u2500\u2500\u2500\u2500\u2524            \n",
              "\u2502Caps    \u2502A   \u2502S   \u2502D   \u2502F   \u2502G   \u2502H   \u2502J \u2364 \u2502K \u2338 \u2502L \u2337 \u2502: \u2261 \u2502\" \u2262 \u2502Enter     \u2502            \n",
              "\u2502Lock    \u2502a \u237a \u2502s \u2308 \u2502d \u230a \u2502f _ \u2502g \u2207 \u2502h \u2206 \u2502j \u2218 \u2502k ' \u2502l \u2395 \u2502; \u234e \u2502' \u2355 \u2502          \u2502            \n",
              "\u251c\u2500\u2500\u2500\u2500\u2500\u2500\u2500\u2500\u2534\u2500\u2500\u252c\u2500\u2534\u2500\u2500\u252c\u2500\u2534\u2500\u2500\u252c\u2500\u2534\u2500\u2500\u252c\u2500\u2534\u2500\u2500\u252c\u2500\u2534\u2500\u2500\u252c\u2500\u2534\u2500\u2500\u252c\u2500\u2534\u2500\u2500\u252c\u2500\u2534\u2500\u2500\u252c\u2500\u2534\u2500\u2500\u252c\u2500\u2534\u2500\u2500\u252c\u2500\u2534\u2500\u2500\u2500\u2500\u2500\u2500\u2500\u2500\u2500\u2500\u2524            \n",
              "\u2502Shift      \u2502Z \u2286 \u2502X   \u2502C   \u2502V   \u2502B   \u2502N   \u2502M   \u2502&lt; \u236a \u2502&gt; \u2359 \u2502? \u2360 \u2502Shift       \u2502            \n",
              "\u2502           \u2502z \u2282 \u2502x \u2283 \u2502c \u2229 \u2502v \u222a \u2502b \u22a5 \u2502n \u22a4 \u2502m | \u2502, \u235d \u2502. \u2340 \u2502/ \u233f \u2502            \u2502            \n",
              "\u251c\u2500\u2500\u2500\u2500\u2500\u2500\u2500\u252c\u2500\u2500\u2500\u2534\u2500\u252c\u2500\u2500\u2534\u2500\u2500\u2500\u252c\u2534\u2500\u2500\u2500\u2500\u2534\u2500\u2500\u2500\u2500\u2534\u2500\u2500\u2500\u2500\u2534\u2500\u2500\u2500\u2500\u2534\u2500\u2500\u2500\u2500\u2534\u252c\u2500\u2500\u2500\u2534\u2500\u2500\u252c\u2500\u2534\u2500\u2500\u2500\u2500\u253c\u2500\u2500\u2500\u2500\u2500\u252c\u2500\u2500\u2500\u2500\u2500\u2500\u2524            \n",
              "\u2502Ctrl   \u2502Win  \u2502Alt   \u2502                          \u2502Alt Gr\u2502Win   \u2502Menu \u2502Ctrl  \u2502            \n",
              "\u2502       \u2502     \u2502      \u2502                          \u2502      \u2502      \u2502     \u2502      \u2502            \n",
              "\u2514\u2500\u2500\u2500\u2500\u2500\u2500\u2500\u2534\u2500\u2500\u2500\u2500\u2500\u2534\u2500\u2500\u2500\u2500\u2500\u2500\u2534\u2500\u2500\u2500\u2500\u2500\u2500\u2500\u2500\u2500\u2500\u2500\u2500\u2500\u2500\u2500\u2500\u2500\u2500\u2500\u2500\u2500\u2500\u2500\u2500\u2500\u2500\u2534\u2500\u2500\u2500\u2500\u2500\u2500\u2534\u2500\u2500\u2500\u2500\u2500\u2500\u2534\u2500\u2500\u2500\u2500\u2500\u2534\u2500\u2500\u2500\u2500\u2500\u2500\u2518            \n",
              "</span>"
            ]
          },
          "execution_count": 1,
          "metadata": {},
          "output_type": "execute_result"
        }
      ],
      "source": [
        ")copy dfns notes.keyboards\n",
        "18\u2191k\u2193\u2368\u00af1+\u2283\u2283\u2378'Dyalog APL/en-US keyboard'\u2377k\u2190\u2395fmt keyboards"
      ]
    },
    {
      "cell_type": "markdown",
      "metadata": {},
      "source": [
        "Each key in the figure above is divided in four areas: bottom left, top left, bottom right and top right. On the left you have the standard symbols you already know how to type in your keyboard. On the right, you have APL glyphs. Let's focus on the <kbd>E</kbd> key. If you look at the bottom right you can see the glyph `\u220a`, which you can type with <kbd>APL</kbd>+<kbd>e</kbd>. Likewise for all other symbols that are on the bottom right corner of its key cap.\n",
        "\n",
        "If you look at the top right corner of the <kbd>E</kbd> key, you can find the `\u2377` glyph, which is accessed with <kbd>APL</kbd>+<kbd>Shift</kbd>+<kbd>E</kbd>. Likewise, all glyphs that appear on the top right corner of its key cap are accessed with <kbd>APL</kbd>+<kbd>Shift</kbd> and the corresponding key.\n",
        "\n",
        "The figure above is relevant because when we introduce new glyphs in the book, we will tell you which key combinations to press but those _may not work_ if your layout is different. As an example, if you look at the figure displayed above, you can see that inside the rectangle for the key <kbd>A</kbd> is the Greek letter Alpha `\u237a`. Because it is on the bottom right of the key cap, you can type it with <kbd>APL</kbd>+<kbd>a</kbd>. However, if you look at the French AZERTY keyboard displayed in the figure below, you will see that `\u237a` is in the same physical position but inside a different key, <kbd>Q</kbd> in this case."
      ]
    },
    {
      "cell_type": "code",
      "execution_count": 2,
      "metadata": {},
      "outputs": [
        {
          "data": {
            "text/html": [
              "<span style=\"white-space:pre; font-family: monospace\">C:\\Program Files\\Dyalog\\Dyalog APL-64 18.0 Unicode\\ws\\dfns.dws saved Wed Jul 15 20:03:46 2020\n",
              "</span>"
            ]
          },
          "execution_count": 2,
          "metadata": {},
          "output_type": "execute_result"
        },
        {
          "data": {
            "text/html": [
              "<span style=\"white-space:pre; font-family: monospace\">Dyalog APL/fr-FR French keyboard                                                        \n",
              "\u00af\u00af\u00af\u00af\u00af\u00af\u00af\u00af\u00af\u00af\u00af\u00af\u00af\u00af\u00af\u00af\u00af\u00af\u00af\u00af\u00af\u00af\u00af\u00af\u00af\u00af\u00af\u00af\u00af\u00af\u00af\u00af                                                        \n",
              "\u250c\u2500\u2500\u2500\u2500\u252c\u2500\u2500\u2500\u2500\u252c\u2500\u2500\u2500\u2500\u252c\u2500\u2500\u2500\u2500\u252c\u2500\u2500\u2500\u2500\u252c\u2500\u2500\u2500\u2500\u252c\u2500\u2500\u2500\u2500\u252c\u2500\u2500\u2500\u2500\u252c\u2500\u2500\u2500\u2500\u252c\u2500\u2500\u2500\u2500\u252c\u2500\u2500\u2500\u2500\u252c\u2500\u2500\u2500\u2500\u252c\u2500\u2500\u2500\u2500\u252c\u2500\u2500\u2500\u2500\u2500\u2500\u2500\u2500\u2500\u2510            \n",
              "\u2502  \u233a \u25021 \u2336 \u25022 \u236b \u25023 \u2352 \u25024 \u234b \u25025 \u233d \u25026 \u2349 \u25027 \u2296 \u25028 \u235f \u25029 \u2371 \u25020 \u2372 \u2502\u00b0 ! \u2502+ \u2339 \u2502Backspace\u2502            \n",
              "\u2502\u00b2 \u22c4 \u2502&amp; \u00a8 \u2502\u00e9 \u00af \u2502\" &lt; \u2502' \u2264 \u2502( = \u2502- \u2265 \u2502\u00e8 &gt; \u2502_ \u2260 \u2502\u00e7 \u2228 \u2502\u00e0 \u2227 \u2502) \u00d7 \u2502= \u00f7 \u2502         \u2502            \n",
              "\u251c\u2500\u2500\u2500\u2500\u2534\u2500\u2500\u252c\u2500\u2534\u2500\u2500\u252c\u2500\u2534\u2500\u2500\u252c\u2500\u2534\u2500\u2500\u252c\u2500\u2534\u2500\u2500\u252c\u2500\u2534\u2500\u2500\u252c\u2500\u2534\u2500\u2500\u252c\u2500\u2534\u2500\u2500\u252c\u2500\u2534\u2500\u2500\u252c\u2500\u2534\u2500\u2500\u252c\u2500\u2534\u2500\u2500\u252c\u2500\u2534\u2500\u2500\u252c\u2500\u2534\u2500\u2500\u252c\u2500\u2500\u2500\u2500\u2500\u2500\u2524            \n",
              "\u2502Tab    \u2502A   \u2502Z   \u2502E \u2377 \u2502R   \u2502T \u2368 \u2502Y   \u2502U   \u2502I \u2378 \u2502O \u2365 \u2502P \u2363 \u2502\u00a8 \u235e \u2502\u00a3 \u236c \u2502Enter \u2502            \n",
              "\u2502       \u2502a ? \u2502z \u2375 \u2502e \u220a \u2502r \u2374 \u2502t ~ \u2502y \u2191 \u2502u \u2193 \u2502i \u2373 \u2502o \u25cb \u2502p * \u2502^ \u2190 \u2502$ \u2192 \u2502      \u2502            \n",
              "\u251c\u2500\u2500\u2500\u2500\u2500\u2500\u2500\u2534\u252c\u2500\u2500\u2500\u2534\u252c\u2500\u2500\u2500\u2534\u252c\u2500\u2500\u2500\u2534\u252c\u2500\u2500\u2500\u2534\u252c\u2500\u2500\u2500\u2534\u252c\u2500\u2500\u2500\u2534\u252c\u2500\u2500\u2500\u2534\u252c\u2500\u2500\u2500\u2534\u252c\u2500\u2500\u2500\u2534\u252c\u2500\u2500\u2500\u2534\u252c\u2500\u2500\u2500\u2534\u252c\u2500\u2500\u2500\u2534\u2510     \u2502            \n",
              "\u2502Caps    \u2502Q   \u2502S   \u2502D   \u2502F   \u2502G   \u2502H   \u2502J \u2364 \u2502K \u2338 \u2502L \u2337 \u2502M \u2261 \u2502% \u2262 \u2502\u03bc   \u2502     \u2502            \n",
              "\u2502Lock    \u2502q \u237a \u2502s \u2308 \u2502d \u230a \u2502f _ \u2502g \u2207 \u2502h \u2206 \u2502j \u2218 \u2502k ' \u2502l \u2395 \u2502m \u234e \u2502\u00f9 \u2355 \u2502* # \u2502     \u2502            \n",
              "\u251c\u2500\u2500\u2500\u2500\u2500\u2500\u252c\u2500\u2534\u2500\u2500\u252c\u2500\u2534\u2500\u2500\u252c\u2500\u2534\u2500\u2500\u252c\u2500\u2534\u2500\u2500\u252c\u2500\u2534\u2500\u2500\u252c\u2500\u2534\u2500\u2500\u252c\u2500\u2534\u2500\u2500\u252c\u2500\u2534\u2500\u2500\u252c\u2500\u2534\u2500\u2500\u252c\u2500\u2534\u2500\u2500\u252c\u2500\u2534\u2500\u2500\u252c\u2500\u2534\u2500\u2500\u2500\u2500\u2534\u2500\u2500\u2500\u2500\u2500\u2524            \n",
              "\u2502Shift \u2502&gt; \u22a3 \u2502W \u2286 \u2502X   \u2502C   \u2502V   \u2502B   \u2502N   \u2502?   \u2502. \u236a \u2502/ \u2359 \u2502\u00a7 \u2360 \u2502Shift       \u2502            \n",
              "\u2502      \u2502&lt; \u22a2 \u2502w \u2282 \u2502x \u2283 \u2502c \u2229 \u2502v \u222a \u2502b \u22a5 \u2502n \u22a4 \u2502, | \u2502; \u235d \u2502: \u2340 \u2502! \u233f \u2502            \u2502            \n",
              "\u251c\u2500\u2500\u2500\u2500\u2500\u2500\u2534\u252c\u2500\u2500\u2500\u2534\u2500\u252c\u2500\u2500\u2534\u2500\u2500\u2500\u252c\u2534\u2500\u2500\u2500\u2500\u2534\u2500\u2500\u2500\u2500\u2534\u2500\u2500\u2500\u2500\u2534\u2500\u2500\u2500\u2500\u2534\u2500\u2500\u2500\u2500\u2534\u252c\u2500\u2500\u2500\u2534\u2500\u2500\u252c\u2500\u2534\u2500\u2500\u2500\u2500\u253c\u2500\u2500\u2500\u2500\u2500\u252c\u2500\u2500\u2500\u2500\u2500\u2500\u2524            \n",
              "\u2502Ctrl   \u2502Win  \u2502Alt   \u2502                          \u2502Alt Gr\u2502Win   \u2502Menu \u2502Ctrl  \u2502            \n",
              "\u2502       \u2502     \u2502      \u2502                          \u2502      \u2502      \u2502     \u2502      \u2502            \n",
              "\u2514\u2500\u2500\u2500\u2500\u2500\u2500\u2500\u2534\u2500\u2500\u2500\u2500\u2500\u2534\u2500\u2500\u2500\u2500\u2500\u2500\u2534\u2500\u2500\u2500\u2500\u2500\u2500\u2500\u2500\u2500\u2500\u2500\u2500\u2500\u2500\u2500\u2500\u2500\u2500\u2500\u2500\u2500\u2500\u2500\u2500\u2500\u2500\u2534\u2500\u2500\u2500\u2500\u2500\u2500\u2534\u2500\u2500\u2500\u2500\u2500\u2500\u2534\u2500\u2500\u2500\u2500\u2500\u2534\u2500\u2500\u2500\u2500\u2500\u2500\u2518            \n",
              "</span>"
            ]
          },
          "execution_count": 2,
          "metadata": {},
          "output_type": "execute_result"
        }
      ],
      "source": [
        ")copy dfns notes.keyboards\n",
        "18\u2191k\u2193\u2368\u00af1+\u2283\u2283\u2378'Dyalog APL/fr-FR'\u2377k\u2190\u2395fmt keyboards"
      ]
    },
    {
      "cell_type": "markdown",
      "metadata": {},
      "source": [
        "Throughout this book we will assume you are using a US or UK keyboard layout when telling you which keys to press to type specific glyphs. If you are not, you can refer to [this help page](https://dfns.dyalog.com/n_keyboards.htm) for more layout mappings and for Mac laptop-specific layouts."
      ]
    },
    {
      "cell_type": "markdown",
      "metadata": {},
      "source": [
        "(Getting-Started-Typing-Glyphs-Online-or-In-browser)=\n",
        "#### Typing Glyphs Online or In-browser\n",
        "\n",
        "If you need to type APL glyphs online or in your browser and you don't have an APL keyboard installed on your machine, you can go to {numref}`Getting-Started-The-Language-Bar` if you haven't yet, as most of the information there applies to this in-browser language bar."
      ]
    },
    {
      "cell_type": "markdown",
      "metadata": {},
      "source": [
        "## The APL Session"
      ]
    },
    {
      "cell_type": "markdown",
      "metadata": {},
      "source": [
        "(Getting-Started-The-Workspace-Concept)=\n",
        "### The Workspace Concept\n",
        "\n",
        "In APL, a user is given an area of memory, the _workspace_, in which they can define variables, functions, among other things. When the workspace is saved, everything the user defined is saved together in a single file, in the same way as, for example, a spreadsheet saves its values and its formatting.\n",
        "\n",
        "In the following pages, you will be invited to create variables, write functions and test for yourself how the symbols work.\n",
        "\n",
        "To relieve you of the task of entering data for your trials, most of the variables and programs used in this book are either short or easily recreated."
      ]
    },
    {
      "cell_type": "markdown",
      "metadata": {},
      "source": [
        "(Getting-Started-The-APL-Session-Log)=\n",
        "### The APL Session Log\n",
        "\n",
        "As you type APL expressions, RIDE and the Windows IDE save your _session log_. The _session log_ is composed of every single line you enter (your inputs) and the results the program gives you (the outputs). You can scroll back in that log and re-execute a line by putting your text cursor in that line and pressing the <kbd>Enter</kbd> key.\n",
        "\n",
        "In fact, you can execute several lines from the session log in one go. To mark a line for execution, you just have to change it in some may. You can make a real alteration, or a cosmetic change that has no material effect on the expression to be executed, like pressing <kbd>Spacebar</kbd> at the end of the line. As soon as you make any sort of modification to the line, the colour of the text will change. You can undo a change and restore a line to its original state by pressing <kbd>Shift</kbd>+<kbd>Esc</kbd>.\n",
        "\n",
        "To execute the marked lines press the <kbd>Enter</kbd> key. They will be executed from top to bottom, not in the order you selected them. Note, however, that if an expression generates an error, the remaining lines will not be executed. It is also worthwhile mentioning that if you go back to an expression to modify it, when you rerun it with <kbd>Enter</kbd> the entire expression will be copied to the bottom of the log instead of being modified in place. This allows you to always know what you typed in what order.\n",
        "\n",
        "The session log is not limited just to the current session, and you can scroll back to retrieve expressions and results from previous sessions, limited only by the size of the log. This is specified in \"Options\" &#8680; \"Configure...\" &#8680; \"Session\" &#8680; \"Logs and Buffers\" for the Windows IDE and \"Edit\" &#8680; \"Preferences\" &#8680; \"General\" &#8680; \"Session\" for RIDE.\n",
        "\n",
        "You can also scroll back in the log and permanently delete part of it (for example a large block of unwanted output). Select the part to remove and press <kbd>Ctrl</kbd>+<kbd>Delete</kbd>."
      ]
    },
    {
      "cell_type": "markdown",
      "metadata": {},
      "source": [
        "(Getting-Started-The-Input-Buffer)=\n",
        "### The Input Buffer\n",
        "\n",
        "In addition to the session log (which contains a scrollable record of both input *and* output), the Windows IDE and RIDE retain the expressions that you have entered in a separate _input buffer_.\n",
        "\n",
        "This allows you to recover the lines you have previously executed as follows:\n",
        "\n",
        " - to scroll back press <kbd>Ctrl</kbd>+<kbd>Shift</kbd>+<kbd>Backspace</kbd>; and\n",
        " - to scroll forward press <kbd>Ctrl</kbd>+<kbd>Shift</kbd>+<kbd>Enter</kbd>.\n",
        " \n",
        "Once you have retrieved the statement you want to re-use, you can modify it (or not) and press <kbd>Enter</kbd> to re-execute it."
      ]
    },
    {
      "cell_type": "markdown",
      "metadata": {},
      "source": [
        "(Getting-Started-Auto-Complete)=\n",
        "### Auto Complete\n",
        "\n",
        "To alleviate the chore of typing long names (of variables, functions, files, ...), the RIDE and the Windows IDE can pop up a list of existing names beginning with the same initial character(s) as you type. This feature is called _auto complete_ and is enabled, disabled and configured:\n",
        "\n",
        " - in \"Options\" \u21e8 \"Configure...\" \u21e8 \"Auto Complete\" if you are using the Windows IDE; or\n",
        " - in \"Edit\" \u21e8 \"Preferences\" \u21e8 \"General\" \u21e8 \"Contextual help\" if you are using RIDE.\n",
        " \n",
        "To choose a name from the pop-up list, use the <kbd>Up</kbd> and <kbd>Down</kbd> cursor keys. To confirm the name that is currently selected press the <kbd>Right</kbd> cursor key (the right arrow). To close the suggestion list just press <kbd>Esc</kbd>.\n",
        "\n",
        "In RIDE, the auto complete feature can also help you type glyphs. If you know the name of a glyph, you can enter <kbd>&grave;</kbd><kbd>&grave;</kbd> and start typing the name of the glyph, that RIDE's auto complete feature will try to suggest the appropriate glyph. For example, if you press <kbd>&grave;</kbd> <kbd>&grave;</kbd> <kbd>A</kbd> <kbd>L</kbd> <kbd>P</kbd> (because you want to input the Greek letter *ALP*ha) then RIDE would show you a suggestion list similar to the one shown in the figure below.\n",
        "\n",
        "(fig-RIDE_Auto_Complete_Alpha)=\n",
        "```{figure} res/RIDE_Auto_Complete_Alpha.png\n",
        "---\n",
        "name: RIDE_Auto_Complete_Alpha\n",
        "---\n",
        "Screenshot of RIDE's auto complete trying to suggest the glyph for alpha.\n",
        "```\n",
        "\n",
        "If you are using the Windows IDE *and* the Dyalog APL IME keyboard layout, you can also enable this feature by going to \"Options\" \u21e8 \"Configure...\" \u21e8 \"Unicode Input\", then selecting the appropriate Dyalog APL IME keyboard your are using and pressing \"Configure Layout...\" to open a configuration window. In there, you can enable the usage of <kbd>&grave;</kbd> as a prefix-key."
      ]
    },
    {
      "cell_type": "markdown",
      "metadata": {},
      "source": [
        "(Getting-Started-Other-Auxiliary-Materials)=\n",
        "### Other Auxiliary Materials\n",
        "\n",
        "In this tutorial we shall also use the following associated files. Download them too from the [https://www.dyalog.com/mastering-dyalog-apl.htm](https://www.dyalog.com/mastering-dyalog-apl.htm) page (or get the zip directly from [this](https://www.dyalog.com/uploads/files/MasteringDyalogAPL_CompanionFiles.zip) link):\n",
        "\n",
        " - For the chapter about File processing:\n",
        "   - `cellar.dcf`\n",
        "   - `report.txt`\n",
        "   - `mlk.txt`\n",
        "   - `nums.fun`\n",
        "   \n",
        " - For the chapter about the OLE interface with Excel:\n",
        "   - `xldemo.xls`\n",
        "   - `worldsales.xls`\n",
        "   \n",
        " - For the chapter about SALT script files:\n",
        "   - `demoscript.dyalog`\n",
        "   - `telefon.dyalog`\n",
        "   - `test.dyalog`\n",
        "   - `teton.dyalog`\n",
        "   - `experiment.7.dyalog`\n",
        "   \n",
        " - An additional utility workspace `Utils.dws`."
      ]
    },
    {
      "cell_type": "markdown",
      "metadata": {},
      "source": [
        "(Getting-Started-Working-with-This-Tutorial)=\n",
        "## Working with This Tutorial\n",
        "\n",
        "This tutorial is divided into several chapters, each chapter covering a major subject. Each chapter is further divided in sections and subsections that help encapsulate narrower topics for someone who knows exactly what they are looking for.\n",
        "\n",
        "At the end of most chapters you will find a \"*Specialist's Section*\" containing advanced discussions about the symbols or methods presented in the chapter. Because these topics are for more experienced readers, they may use symbols that are not explained until later in the book.\n",
        "\n",
        "If you are a beginner, feel free to ignore those sections and skip to the next chapter, or at least don't feel demotivated if you don't understand everything that is covered in those sections.\n",
        "\n",
        "While reading the book, reproduce the given examples on your computer and experiment by yourself using different data; you will learn more from your own experiments than from reading our examples.\n",
        "\n",
        "Most chapters also include exercises; some are very simple and some are more complex. We recommend that you do try to solve as many exercises as possible. Compare your solutions to the ones we suggest by the end of the chapter. APL is so rich that there may be *several* good solutions to the same problem. Comparing different solutions is always interesting.\n",
        "\n",
        "After the [\"User-Defined Functions\" chapter](./User-Defined-Functions.ipynb) you will be able to write small functions of your own and you may want to print some results, input data using the Graphical User Interface (GUI) or read data from files. These topics are presented in self-contained dedicated chapters, so do not hesitate to go back and forth in the book to read about the features you need.\n",
        "\n",
        "Also have a look at the workspaces shipped with Dyalog APL, which are documented at [Dyalog's Documentation Centre][docs-ref-guide]. Dyalog also has additional resources available on [GitHub](https://github.com/Dyalog).\n",
        "\n",
        "This document is only a tutorial; everything cannot be said in these pages and there is plenty of additional information out there:\n",
        "\n",
        " - the [Documentation Centre][docs-ref-guide] and [Help pages](http://help.dyalog.com) for the most recent Dyalog APL version containing several manuals:\n",
        "   - User Guide - \n",
        "     - installation and configuration of APL;\n",
        "     - the working environment described in detail;\n",
        "     - utility workspaces and tutorials delivered with Dyalog APL;\n",
        "     - APL files;\n",
        "     - ... and some advanced topics.\n",
        "   - Language Reference - \n",
        "     - describes all the symbols used in the language;\n",
        "     - describes the structure of a program;\n",
        "     - describes all the System Commands; and\n",
        "     - gives basic information about Object-Oriented Programming.\n",
        "   - Interface Guide - \n",
        "     - introduction to the Graphic User Interface (GUI) with examples;\n",
        "     - APL and the Internet;\n",
        "     - OLE automation client & server; and\n",
        "     - ODBC interface with SQL Data Bases.\n",
        "   - Object Reference - \n",
        "     - overall description of all objects, properties, methods and events used by the GUI interface.\n",
        "   - .NET Interface Guide - \n",
        "     - using the Microsoft .NET Framework.\n",
        "     \n",
        " - specialised booklets on more advanced topics, available at [this webpage](https://www.dyalog.com/documentation_180.htm);\n",
        "     \n",
        " - the [APL Wiki], powered by the whole APL community, with hundreds of articles on everything related to APL;\n",
        " \n",
        " - and many more...\n",
        " \n",
        "<br />\n",
        "<center>We wish you a pleasant reading.</center>\n",
        " \n",
        "[docs-ref-guide]: http://docs.dyalog.com/latest/\n",
        "[APL Wiki]: https://aplwiki.com/"
      ]
    }
  ],
  "metadata": {
    "kernelspec": {
      "display_name": "Dyalog APL",
      "language": "apl",
      "name": "dyalog-kernel"
    },
    "language_info": {
      "file_extension": ".apl",
      "mimetype": "text/apl",
      "name": "APL"
    },
    "toc": {
      "base_numbering": 1,
      "nav_menu": {},
      "number_sections": false,
      "sideBar": true,
      "skip_h1_title": true,
      "title_cell": "Table of Contents",
      "title_sidebar": "Contents",
      "toc_cell": false,
      "toc_position": {
        "height": "542.4px",
        "left": "815px",
        "top": "110.533px",
        "width": "307.2px"
      },
      "toc_section_display": true,
      "toc_window_display": false
    }
  },
  "nbformat": 4,
  "nbformat_minor": 4
}