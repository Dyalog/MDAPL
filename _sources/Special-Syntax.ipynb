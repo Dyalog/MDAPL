{
  "cells": [
    {
      "cell_type": "markdown",
      "id": "wireless-discussion",
      "metadata": {},
      "source": [
        "(Special-Syntax-Special-Syntax)=\n",
        "# Special Syntax\n",
        "\n",
        "(Special-Syntax-Modified-Assignment)=\n",
        "## Modified Assignment\n",
        "\n",
        "Changes to a variable, like"
      ]
    },
    {
      "cell_type": "code",
      "execution_count": 16,
      "id": "smart-marshall",
      "metadata": {},
      "outputs": [],
      "source": [
        "a \u2190 4"
      ]
    },
    {
      "cell_type": "markdown",
      "id": "leading-experiment",
      "metadata": {},
      "source": [
        "or"
      ]
    },
    {
      "cell_type": "code",
      "execution_count": 17,
      "id": "biblical-habitat",
      "metadata": {},
      "outputs": [],
      "source": [
        "languages \u2190 'APLL' 'Pithon' 'Jaba'"
      ]
    },
    {
      "cell_type": "markdown",
      "id": "hybrid-drilling",
      "metadata": {},
      "source": [
        "frequently involve modifying its current value, and such expressions naturally contain two references to its name:"
      ]
    },
    {
      "cell_type": "code",
      "execution_count": 18,
      "id": "swiss-bristol",
      "metadata": {},
      "outputs": [
        {
          "data": {
            "text/html": [
              "<span style=\"white-space:pre; font-family: monospace\">5\n",
              "</span>"
            ]
          },
          "execution_count": 18,
          "metadata": {},
          "output_type": "execute_result"
        }
      ],
      "source": [
        "\u2395\u2190 a \u2190 a + 1"
      ]
    },
    {
      "cell_type": "markdown",
      "id": "heard-aggregate",
      "metadata": {},
      "source": [
        "or"
      ]
    },
    {
      "cell_type": "code",
      "execution_count": 19,
      "id": "czech-bread",
      "metadata": {},
      "outputs": [
        {
          "data": {
            "text/html": [
              "<span style=\"white-space:pre; font-family: monospace\">\u250c\u2500\u2500\u2500\u2500\u252c\u2500\u2500\u2500\u2500\u2500\u2500\u252c\u2500\u2500\u2500\u2500\u252c\u2500\u2500\u2500\u252c\u2500\u2500\u2500\u2500\u2500\u2500\u252c\u2500\u2500\u2500\u2500\u2500\u2510\n",
              "\u2502APLL\u2502Pithon\u2502Jaba\u2502Cee\u2502Paskal\u2502Russt\u2502\n",
              "\u2514\u2500\u2500\u2500\u2500\u2534\u2500\u2500\u2500\u2500\u2500\u2500\u2534\u2500\u2500\u2500\u2500\u2534\u2500\u2500\u2500\u2534\u2500\u2500\u2500\u2500\u2500\u2500\u2534\u2500\u2500\u2500\u2500\u2500\u2518\n",
              "</span>"
            ]
          },
          "execution_count": 19,
          "metadata": {},
          "output_type": "execute_result"
        }
      ],
      "source": [
        "\u2395\u2190 languages \u2190 languages,'Cee' 'Paskal' 'Russt'"
      ]
    },
    {
      "cell_type": "code",
      "execution_count": 21,
      "id": "universal-breach",
      "metadata": {},
      "outputs": [
        {
          "data": {
            "text/html": [
              "<span style=\"white-space:pre; font-family: monospace\">2562 2435 3254 9843 6234 2634\n",
              "2345 6543 9875 2452 5645 2345\n",
              "3411 5462 8787 2435 2435 7634\n",
              "5632 6543 2345 2345 6486 3452\n",
              "</span>"
            ]
          },
          "execution_count": 21,
          "metadata": {},
          "output_type": "execute_result"
        }
      ],
      "source": [
        "\u2395\u2190 languageThousandsUsersByYear \u2190 4 6\u23742562 2435 3254 9843 6234 2634 2345 6543 9875 2452 5645 2345 3411 5462 8787 2435 2435 7634 5632 6543 2345 2345 6486 3452"
      ]
    },
    {
      "cell_type": "markdown",
      "id": "environmental-breakfast",
      "metadata": {},
      "source": [
        "If the variable has a long name, its repetetition causes the expression to be rather lengthy too.\n",
        "\n",
        "If you want to change just part of the variable using indexing, there is even more repetition:"
      ]
    },
    {
      "cell_type": "code",
      "execution_count": 22,
      "id": "harmful-championship",
      "metadata": {},
      "outputs": [
        {
          "data": {
            "text/html": [
              "<span style=\"white-space:pre; font-family: monospace\">2245 2352 5545 2245\n",
              "3311 2335 2335 7534\n",
              "</span>"
            ]
          },
          "execution_count": 22,
          "metadata": {},
          "output_type": "execute_result"
        }
      ],
      "source": [
        "\u2395\u2190 languageThousandsUsersByYear[2 3;1 4 5 6] \u2190 languageThousandsUsersByYear[2 3;1 4 5 6] - 100"
      ]
    },
    {
      "cell_type": "markdown",
      "id": "intimate-clearance",
      "metadata": {},
      "source": [
        "Dyalog APL has a feature that allows you to avoid this type of repetition; it is called _modified assignment_.\n",
        "\n",
        "In an expression that uses _modified assignment_, the name of the variable to be modified appears just once, at the beginning of the expression.\n",
        "This is followed by the function to be used to change its value, then the assignment arrow, and then the array that specifies the amount by which the original value of the variable is to be changed.\n",
        "This array would otherwise appear as the right argument of the function:"
      ]
    },
    {
      "cell_type": "markdown",
      "id": "union-brazil",
      "metadata": {},
      "source": [
        "Instead of `a \u2190 a + 1`, one can write"
      ]
    },
    {
      "cell_type": "code",
      "execution_count": 24,
      "id": "mysterious-wisconsin",
      "metadata": {},
      "outputs": [],
      "source": [
        "a +\u2190 1"
      ]
    },
    {
      "cell_type": "markdown",
      "id": "occasional-prompt",
      "metadata": {},
      "source": [
        "And instead of `languages \u2190 languages,'Cee' 'Paskal' 'Russt'` one can write"
      ]
    },
    {
      "cell_type": "code",
      "execution_count": 26,
      "id": "unnecessary-miami",
      "metadata": {},
      "outputs": [],
      "source": [
        "languages ,\u2190 'Cee' 'Paskal' 'Russt'"
      ]
    },
    {
      "cell_type": "markdown",
      "id": "surface-relations",
      "metadata": {},
      "source": [
        "Using _modified assignment_, the other expression can be rewritten as follows:"
      ]
    },
    {
      "cell_type": "code",
      "execution_count": 27,
      "id": "monthly-minimum",
      "metadata": {},
      "outputs": [],
      "source": [
        "languageThousandsUsersByYear[2 3;1 4 5 6] -\u2190 100"
      ]
    },
    {
      "cell_type": "markdown",
      "id": "waiting-perfume",
      "metadata": {},
      "source": [
        "_Modified assignment_ is concise and can reduce errors (such as misspelling the variable name in the second part of the expression).\n",
        "\n",
        "However, there is a disadvantage to _modified assignment_: when reading a statement it is very easy to miss the function to the left of the assignment arrow and assume that the statement contains a plain assignment."
      ]
    },
    {
      "cell_type": "markdown",
      "id": "fatty-astrology",
      "metadata": {},
      "source": [
        "(Special-Syntax-Application)=\n",
        "### Application\n",
        "\n",
        "_Modified assignment_ can be used to enter a very long list of values, which would otherwise exceed the screen width, as illustrated in the following example:"
      ]
    },
    {
      "cell_type": "code",
      "execution_count": 28,
      "id": "macro-breathing",
      "metadata": {},
      "outputs": [
        {
          "data": {
            "text/html": [
              "<span style=\"white-space:pre; font-family: monospace\">52 17 39 77 40 17 29 0 0 14 80 12 31 46 100 51 49 43 21 17 18 19 63 61 70 44 0 20 11\n",
              "</span>"
            ]
          },
          "execution_count": 28,
          "metadata": {},
          "output_type": "execute_result"
        }
      ],
      "source": [
        "vec  \u2190 52 17 39 77 40 17 29 0 0 14\n",
        "vec ,\u2190 80 12 31 46 100 51 49 43 21\n",
        "vec ,\u2190 17 18 19 63 61 70 44 0 20 11\n",
        "vec"
      ]
    },
    {
      "cell_type": "markdown",
      "id": "collected-renaissance",
      "metadata": {},
      "source": [
        "This type of _modified assignment_ might be superseded by the introduction of an _array notation_ which would make it more convenient to write out explicit arrays."
      ]
    },
    {
      "cell_type": "markdown",
      "id": "typical-international",
      "metadata": {},
      "source": [
        "(Special-Syntax-Multiple-Assignment)=\n",
        "## Multiple Assignment\n",
        "\n",
        "(Special-Syntax-Introduction)=\n",
        "### Introduction\n",
        "\n",
        "It is possible to assign several values to several variables at the same time.\n",
        "This is as true for nested arrays as it is for simple arrays:"
      ]
    },
    {
      "cell_type": "code",
      "execution_count": 41,
      "id": "ordinary-monte",
      "metadata": {},
      "outputs": [],
      "source": [
        "(a b c) \u2190 23 41 56"
      ]
    },
    {
      "cell_type": "code",
      "execution_count": 42,
      "id": "positive-nirvana",
      "metadata": {},
      "outputs": [
        {
          "data": {
            "text/html": [
              "<span style=\"white-space:pre; font-family: monospace\">23\n",
              "</span>"
            ]
          },
          "execution_count": 42,
          "metadata": {},
          "output_type": "execute_result"
        }
      ],
      "source": [
        "a"
      ]
    },
    {
      "cell_type": "code",
      "execution_count": 43,
      "id": "adverse-utility",
      "metadata": {},
      "outputs": [
        {
          "data": {
            "text/html": [
              "<span style=\"white-space:pre; font-family: monospace\">41\n",
              "</span>"
            ]
          },
          "execution_count": 43,
          "metadata": {},
          "output_type": "execute_result"
        }
      ],
      "source": [
        "b"
      ]
    },
    {
      "cell_type": "code",
      "execution_count": 44,
      "id": "reflected-deficit",
      "metadata": {},
      "outputs": [
        {
          "data": {
            "text/html": [
              "<span style=\"white-space:pre; font-family: monospace\">56\n",
              "</span>"
            ]
          },
          "execution_count": 44,
          "metadata": {},
          "output_type": "execute_result"
        }
      ],
      "source": [
        "c"
      ]
    },
    {
      "cell_type": "code",
      "execution_count": 45,
      "id": "palestinian-hamburg",
      "metadata": {},
      "outputs": [],
      "source": [
        "(d e f) \u2190 (20 61) (2 2\u2374\u23734) 'Africa'"
      ]
    },
    {
      "cell_type": "code",
      "execution_count": 46,
      "id": "alike-reviewer",
      "metadata": {},
      "outputs": [
        {
          "data": {
            "text/html": [
              "<span style=\"white-space:pre; font-family: monospace\">20 61\n",
              "</span>"
            ]
          },
          "execution_count": 46,
          "metadata": {},
          "output_type": "execute_result"
        }
      ],
      "source": [
        "d"
      ]
    },
    {
      "cell_type": "code",
      "execution_count": 47,
      "id": "vocational-vietnamese",
      "metadata": {},
      "outputs": [
        {
          "data": {
            "text/html": [
              "<span style=\"white-space:pre; font-family: monospace\">1 2\n",
              "3 4\n",
              "</span>"
            ]
          },
          "execution_count": 47,
          "metadata": {},
          "output_type": "execute_result"
        }
      ],
      "source": [
        "e"
      ]
    },
    {
      "cell_type": "code",
      "execution_count": 48,
      "id": "arctic-transition",
      "metadata": {},
      "outputs": [
        {
          "data": {
            "text/html": [
              "<span style=\"white-space:pre; font-family: monospace\">Africa\n",
              "</span>"
            ]
          },
          "execution_count": 48,
          "metadata": {},
          "output_type": "execute_result"
        }
      ],
      "source": [
        "f"
      ]
    },
    {
      "cell_type": "markdown",
      "id": "still-malaysia",
      "metadata": {},
      "source": [
        "These two instructions are equivalent to the individual assignments `a \u2190 23`, `b \u2190 41`, ...\n",
        "\n",
        "The variables `d` and `f` are vectors, and `e` is a matrix: they are not nested.\n",
        "This technique, called _multiple assignment_, is a simple way to split the contents of a simple or nested vector into several variables.\n",
        "\n",
        "This technique can be combined with the _modified assignment_ seen previously.\n",
        "For example, we can update `a`, `b`, and `c` (which we have just set to `23`, `41`, and `56`, respectively), as follows:"
      ]
    },
    {
      "cell_type": "code",
      "execution_count": 49,
      "id": "brazilian-fever",
      "metadata": {},
      "outputs": [],
      "source": [
        "(a b c) +\u2190 57 (19 \u00af16) (2 3\u2374\u23736)"
      ]
    },
    {
      "cell_type": "code",
      "execution_count": 50,
      "id": "classified-ireland",
      "metadata": {
        "scrolled": false
      },
      "outputs": [
        {
          "data": {
            "text/html": [
              "<span style=\"white-space:pre; font-family: monospace\">\u250c\u2500\u2500\u252c\u2500\u2500\u2500\u2500\u2500\u252c\u2500\u2500\u2500\u2500\u2500\u2500\u2500\u2500\u2510\n",
              "\u250280\u250260 25\u250257 58 59\u2502\n",
              "\u2502  \u2502     \u250260 61 62\u2502\n",
              "\u2514\u2500\u2500\u2534\u2500\u2500\u2500\u2500\u2500\u2534\u2500\u2500\u2500\u2500\u2500\u2500\u2500\u2500\u2518\n",
              "</span>"
            ]
          },
          "execution_count": 50,
          "metadata": {},
          "output_type": "execute_result"
        }
      ],
      "source": [
        "a b c"
      ]
    },
    {
      "cell_type": "markdown",
      "id": "expanded-trade",
      "metadata": {},
      "source": [
        "Of course, the number of variable names must be equal to the length of the vector to the right of the assignment arrow, otherwise a `LENGTH ERROR` is issued:"
      ]
    },
    {
      "cell_type": "code",
      "execution_count": 51,
      "id": "centered-measurement",
      "metadata": {},
      "outputs": [
        {
          "name": "stderr",
          "output_type": "stream",
          "text": [
            "LENGTH ERROR\n",
            "      (a b)\u219023 41 56\n",
            "           \u2227\n"
          ]
        }
      ],
      "source": [
        "(a b) \u2190 23 41 56"
      ]
    },
    {
      "cell_type": "markdown",
      "id": "preliminary-martial",
      "metadata": {},
      "source": [
        "(Special-Syntax-Using-Parentheses)=\n",
        "### Using Parentheses\n",
        "\n",
        "As we have already mentioned in [the \"Data and Variables\" chapter](./Data-and-Variables.ipynb), for clarity and also for compatibility with other APL systems, we recommend that you parenthesise the names of the variables to the left of the arrow.\n",
        "However, this is not mandatory in Dyalog APL and you may come across the following syntax, especially in environments where compatibility with other APL systems is not an issue:"
      ]
    },
    {
      "cell_type": "code",
      "execution_count": 52,
      "id": "exposed-reform",
      "metadata": {},
      "outputs": [],
      "source": [
        "a b c \u2190 23 41 56"
      ]
    },
    {
      "cell_type": "markdown",
      "id": "ignored-crawford",
      "metadata": {},
      "source": [
        "However this is highly discouraged. Using parentheses indicates much more clearly the intent of performing multiple assignment and helps prevent some erroneous behaviour. For example, notice how the expression below raises an error because we are trying to assign `5` to `3`, and yet, `var` gets assigned `5`:"
      ]
    },
    {
      "cell_type": "code",
      "execution_count": 53,
      "id": "corporate-queue",
      "metadata": {},
      "outputs": [
        {
          "name": "stderr",
          "output_type": "stream",
          "text": [
            "SYNTAX ERROR\n",
            "      var 3\u21905\n",
            "           \u2227\n"
          ]
        }
      ],
      "source": [
        "var 3 \u2190 5"
      ]
    },
    {
      "cell_type": "code",
      "execution_count": 54,
      "id": "finished-melissa",
      "metadata": {},
      "outputs": [
        {
          "data": {
            "text/html": [
              "<span style=\"white-space:pre; font-family: monospace\">5\n",
              "</span>"
            ]
          },
          "execution_count": 54,
          "metadata": {},
          "output_type": "execute_result"
        }
      ],
      "source": [
        "var"
      ]
    },
    {
      "cell_type": "markdown",
      "id": "aerial-carter",
      "metadata": {},
      "source": [
        "However, if we use parentheses the assignment is not performed at all:"
      ]
    },
    {
      "cell_type": "code",
      "execution_count": 55,
      "id": "dominican-collaboration",
      "metadata": {},
      "outputs": [
        {
          "name": "stderr",
          "output_type": "stream",
          "text": [
            "SYNTAX ERROR\n",
            "      (var 3)\u219050\n",
            "             \u2227\n"
          ]
        }
      ],
      "source": [
        "(var 3) \u2190 50"
      ]
    },
    {
      "cell_type": "code",
      "execution_count": 56,
      "id": "independent-trading",
      "metadata": {},
      "outputs": [
        {
          "data": {
            "text/html": [
              "<span style=\"white-space:pre; font-family: monospace\">5\n",
              "</span>"
            ]
          },
          "execution_count": 56,
          "metadata": {},
          "output_type": "execute_result"
        }
      ],
      "source": [
        "var"
      ]
    },
    {
      "cell_type": "markdown",
      "id": "funky-taxation",
      "metadata": {},
      "source": [
        "If you still aren't convinced that unparenthesised multiple assignment is evil, another argument against it is that multiple assignments can be ambiguous to read.\n",
        "For example, what does\n",
        "\n",
        "```APL\n",
        "a b c \u2190 42\n",
        "```\n",
        "\n",
        "do?\n",
        "\n",
        "The ambiguity arises from the fact that the lack of parenthesising means we need to know what `a`, `b`, and `c`, are, in order to understand the expression above.\n",
        "For example, if all three variables are arrays, then we reassign them:"
      ]
    },
    {
      "cell_type": "code",
      "execution_count": 57,
      "id": "thousand-trust",
      "metadata": {},
      "outputs": [],
      "source": [
        "a \u2190 b \u2190 c \u2190 0"
      ]
    },
    {
      "cell_type": "code",
      "execution_count": 58,
      "id": "sitting-deficit",
      "metadata": {},
      "outputs": [
        {
          "data": {
            "text/html": [
              "<span style=\"white-space:pre; font-family: monospace\">42 42 42\n",
              "</span>"
            ]
          },
          "execution_count": 58,
          "metadata": {},
          "output_type": "execute_result"
        }
      ],
      "source": [
        "a b c \u2190 42\n",
        "\u2395\u2190 a b c"
      ]
    },
    {
      "cell_type": "markdown",
      "id": "material-punch",
      "metadata": {},
      "source": [
        "However, if `c` were a function, for example `-`, this is what we get:"
      ]
    },
    {
      "cell_type": "code",
      "execution_count": 59,
      "id": "approved-familiar",
      "metadata": {},
      "outputs": [],
      "source": [
        ")erase c\n",
        "c \u2190 -\n",
        "a \u2190 b \u2190 0"
      ]
    },
    {
      "cell_type": "code",
      "execution_count": 60,
      "id": "affiliated-mobile",
      "metadata": {},
      "outputs": [
        {
          "data": {
            "text/html": [
              "<span style=\"white-space:pre; font-family: monospace\">\u00af42 \u00af42\n",
              "</span>"
            ]
          },
          "execution_count": 60,
          "metadata": {},
          "output_type": "execute_result"
        }
      ],
      "source": [
        "a b c \u2190 42\n",
        "\u2395\u2190 a b"
      ]
    },
    {
      "cell_type": "markdown",
      "id": "accredited-single",
      "metadata": {},
      "source": [
        "Unfortunately, at the time of writing, there is no way to use parenthesis to disambiguate the two situations above."
      ]
    },
    {
      "cell_type": "markdown",
      "id": "statistical-hopkins",
      "metadata": {},
      "source": [
        "(Special-Syntax-Selective-Assignment)=\n",
        "## Selective Assignment\n",
        "\n",
        "(Special-Syntax-Quick-Overview)=\n",
        "### Quick Overview\n",
        "\n",
        "Let us consider the following matrix:"
      ]
    },
    {
      "cell_type": "code",
      "execution_count": 64,
      "id": "radio-guidance",
      "metadata": {},
      "outputs": [
        {
          "data": {
            "text/html": [
              "<span style=\"white-space:pre; font-family: monospace\">13 52 33 81\n",
              "42 62 70 47\n",
              "51 73 28 19\n",
              "</span>"
            ]
          },
          "execution_count": 64,
          "metadata": {},
          "output_type": "execute_result"
        }
      ],
      "source": [
        "\u2395\u2190 mat \u2190 3 4\u237413 52 33 81 42 62 70 47 51 73 28 19"
      ]
    },
    {
      "cell_type": "markdown",
      "id": "responsible-phase",
      "metadata": {},
      "source": [
        "It is easy to select (extract) the first row and a half of that matrix:"
      ]
    },
    {
      "cell_type": "code",
      "execution_count": 65,
      "id": "approximate-theology",
      "metadata": {},
      "outputs": [
        {
          "data": {
            "text/html": [
              "<span style=\"white-space:pre; font-family: monospace\">13 52 33 81 42 62\n",
              "</span>"
            ]
          },
          "execution_count": 65,
          "metadata": {},
          "output_type": "execute_result"
        }
      ],
      "source": [
        "6\u2374mat"
      ]
    },
    {
      "cell_type": "markdown",
      "id": "tight-scale",
      "metadata": {},
      "source": [
        "But, until now, it would have been much more complex to modify these items.\n",
        "Previously, we would have had to use two steps:"
      ]
    },
    {
      "cell_type": "code",
      "execution_count": 66,
      "id": "better-alaska",
      "metadata": {},
      "outputs": [
        {
          "data": {
            "text/html": [
              "<span style=\"white-space:pre; font-family: monospace\">37 38 11 12\n",
              "20 88 70 47\n",
              "51 73 28 19\n",
              "</span>"
            ]
          },
          "execution_count": 66,
          "metadata": {},
          "output_type": "execute_result"
        }
      ],
      "source": [
        "mat[1;] \u2190 37 38 11 12\n",
        "mat[2;1 2] \u2190 20 88\n",
        "mat"
      ]
    },
    {
      "cell_type": "markdown",
      "id": "geological-spokesman",
      "metadata": {},
      "source": [
        "Now, we will introduce _selective assignment_.\n",
        "The purpose of _selective assignment_ is to provide a concise way to specify that a selected part (and only that selected part) of an array is to be assigned a new value.\n",
        "In _selective assignment_, the expression that specifies (selects) the part of the array to be changed, appears in parentheses to the left of the assignment arrow.\n",
        "The replacement array appears on the right.\n",
        "\n",
        "Let us restore `mat` to its original state, and try out this new technique:"
      ]
    },
    {
      "cell_type": "code",
      "execution_count": 71,
      "id": "classical-garlic",
      "metadata": {},
      "outputs": [
        {
          "data": {
            "text/html": [
              "<span style=\"white-space:pre; font-family: monospace\">13 52 33 81\n",
              "42 62 70 47\n",
              "51 73 28 19\n",
              "</span>"
            ]
          },
          "execution_count": 71,
          "metadata": {},
          "output_type": "execute_result"
        },
        {
          "data": {
            "text/html": [
              "<span style=\"white-space:pre; font-family: monospace\">37 38 11 12\n",
              "20 88 70 47\n",
              "51 73 28 19\n",
              "</span>"
            ]
          },
          "execution_count": 71,
          "metadata": {},
          "output_type": "execute_result"
        }
      ],
      "source": [
        "\u2395\u2190 mat \u2190 3 4\u237413 52 33 81 42 62 70 47 51 73 28 19\n",
        "(6\u2374mat) \u2190 37 38 11 12 20 88\n",
        "mat"
      ]
    },
    {
      "cell_type": "markdown",
      "id": "hidden-aviation",
      "metadata": {},
      "source": [
        "It is important to realise that the replacement array does not necessarily have the same shape as the indices of the replaced portion of `mat`, which in any case are not necessarily rectangular.\n",
        "Instead, the replacement array must have the same shape as the result of the selection expression.\n",
        "In this case, `6\u2374mat` would have produced a 6-item vector, so the replacement array must be a 6-item vector, too.\n",
        "\n",
        "This is also true if we select/replace a sub-matrix of `mat` using _take_:"
      ]
    },
    {
      "cell_type": "code",
      "execution_count": 69,
      "id": "distinct-giant",
      "metadata": {},
      "outputs": [
        {
          "data": {
            "text/html": [
              "<span style=\"white-space:pre; font-family: monospace\">20 88 70\n",
              "51 73 28\n",
              "</span>"
            ]
          },
          "execution_count": 69,
          "metadata": {},
          "output_type": "execute_result"
        }
      ],
      "source": [
        "\u00af2 3\u2191mat"
      ]
    },
    {
      "cell_type": "code",
      "execution_count": 72,
      "id": "hidden-dayton",
      "metadata": {},
      "outputs": [
        {
          "data": {
            "text/html": [
              "<span style=\"white-space:pre; font-family: monospace\">37 38 11 12\n",
              "10 20 30 47\n",
              "40 50 60 19\n",
              "</span>"
            ]
          },
          "execution_count": 72,
          "metadata": {},
          "output_type": "execute_result"
        }
      ],
      "source": [
        "(\u00af2 3\u2191mat) \u2190 2 3\u237410\u00d7\u23736\n",
        "mat"
      ]
    },
    {
      "cell_type": "markdown",
      "id": "atlantic-white",
      "metadata": {},
      "source": [
        "We can even try using a nested replacement array, here using _drop_:"
      ]
    },
    {
      "cell_type": "code",
      "execution_count": 73,
      "id": "worth-modeling",
      "metadata": {},
      "outputs": [
        {
          "data": {
            "text/html": [
              "<span style=\"white-space:pre; font-family: monospace\">\u250c\u2500\u2500\u252c\u2500\u2500\u2500\u252c\u2500\u2500\u252c\u2500\u2500\u2510\n",
              "\u250237\u250238 \u250211\u250212\u2502\n",
              "\u251c\u2500\u2500\u253c\u2500\u2500\u2500\u253c\u2500\u2500\u253c\u2500\u2500\u2524\n",
              "\u250210\u2502To \u2502be\u2502or\u2502\n",
              "\u251c\u2500\u2500\u253c\u2500\u2500\u2500\u253c\u2500\u2500\u253c\u2500\u2500\u2524\n",
              "\u250240\u2502not\u2502to\u2502be\u2502\n",
              "\u2514\u2500\u2500\u2534\u2500\u2500\u2500\u2534\u2500\u2500\u2534\u2500\u2500\u2518\n",
              "</span>"
            ]
          },
          "execution_count": 73,
          "metadata": {},
          "output_type": "execute_result"
        }
      ],
      "source": [
        "(1 1\u2193mat) \u2190 2 3\u2374'To' 'be' 'or' 'not' 'to' 'be'\n",
        "mat"
      ]
    },
    {
      "cell_type": "markdown",
      "id": "southwest-aside",
      "metadata": {},
      "source": [
        "Notice that, unlike _multiple assignment_, the usage of parentheses is mandatory in _selective assignment_.\n",
        "If the parentheses are omitted, the selection expression will just act like an expression that is evaluated after the inline assignment.\n",
        "\n",
        "Compare the value of `mat` here:"
      ]
    },
    {
      "cell_type": "code",
      "execution_count": 74,
      "id": "animated-eating",
      "metadata": {},
      "outputs": [
        {
          "data": {
            "text/html": [
              "<span style=\"white-space:pre; font-family: monospace\">\u250c\u2500\u2500\u2500\u252c\u2500\u2500\u2500\u252c\u2500\u2500\u252c\u2500\u2500\u2510\n",
              "\u2502999\u250238 \u250211\u250212\u2502\n",
              "\u251c\u2500\u2500\u2500\u253c\u2500\u2500\u2500\u253c\u2500\u2500\u253c\u2500\u2500\u2524\n",
              "\u250210 \u2502To \u2502be\u2502or\u2502\n",
              "\u251c\u2500\u2500\u2500\u253c\u2500\u2500\u2500\u253c\u2500\u2500\u253c\u2500\u2500\u2524\n",
              "\u250240 \u2502not\u2502to\u2502be\u2502\n",
              "\u2514\u2500\u2500\u2500\u2534\u2500\u2500\u2500\u2534\u2500\u2500\u2534\u2500\u2500\u2518\n",
              "</span>"
            ]
          },
          "execution_count": 74,
          "metadata": {},
          "output_type": "execute_result"
        }
      ],
      "source": [
        "(1\u2374mat) \u2190 999\n",
        "mat"
      ]
    },
    {
      "cell_type": "markdown",
      "id": "chubby-context",
      "metadata": {},
      "source": [
        "with the value of `mat` here:"
      ]
    },
    {
      "cell_type": "code",
      "execution_count": 75,
      "id": "engaging-campus",
      "metadata": {},
      "outputs": [
        {
          "data": {
            "text/html": [
              "<span style=\"white-space:pre; font-family: monospace\">888\n",
              "</span>"
            ]
          },
          "execution_count": 75,
          "metadata": {},
          "output_type": "execute_result"
        },
        {
          "data": {
            "text/html": [
              "<span style=\"white-space:pre; font-family: monospace\">888\n",
              "</span>"
            ]
          },
          "execution_count": 75,
          "metadata": {},
          "output_type": "execute_result"
        }
      ],
      "source": [
        "1\u2374mat \u2190 888\n",
        "mat"
      ]
    },
    {
      "cell_type": "markdown",
      "id": "automotive-silence",
      "metadata": {},
      "source": [
        "(Special-Syntax-Available-Primitives)=\n",
        "### Available Primitives\n",
        "\n",
        "This technique cannot be used with every single primitive function; only the following selection functions are allowed.\n",
        "When appropriate, these functions can also be used with an _axis_ specification:\n",
        "\n",
        " - `\u2374`: reshape\n",
        " - `/` and `\u233f`: compress/replicate\n",
        " - `\u2191`: take\n",
        " - `\u2193`: drop\n",
        " - `,`: ravel\n",
        " - `\u220a`: enlist\n",
        " - `\u236a`: table\n",
        " - `\u233d` and `\u2296`: reverse, rotate\n",
        " - `\u2349`: monadic and dyadic transpose\n",
        " - `\u2283`: disclose, pick\n",
        " - `\\` and `\u2340`: expand\n",
        " - `\u2337`: index\n",
        "\n",
        "Some of the functions listed here haven't been introduced yet, but will be soon."
      ]
    },
    {
      "cell_type": "markdown",
      "id": "automated-sacramento",
      "metadata": {},
      "source": [
        "(Special-Syntax-Examples)=\n",
        "### Examples\n",
        "\n",
        "One of the most interesting selection tools is _compress_.\n",
        "Let us restore `mat` again:"
      ]
    },
    {
      "cell_type": "code",
      "execution_count": 3,
      "id": "mineral-black",
      "metadata": {},
      "outputs": [
        {
          "data": {
            "text/html": [
              "<span style=\"white-space:pre; font-family: monospace\">13 52 33 81\n",
              "42 62 70 47\n",
              "51 73 28 19\n",
              "</span>"
            ]
          },
          "execution_count": 3,
          "metadata": {},
          "output_type": "execute_result"
        }
      ],
      "source": [
        "\u2395\u2190 mat \u2190 3 4\u237413 52 33 81 42 62 70 47 51 73 28 19"
      ]
    },
    {
      "cell_type": "markdown",
      "id": "solid-cursor",
      "metadata": {},
      "source": [
        "How can we negate all the values which are smaller than 40?"
      ]
    },
    {
      "cell_type": "code",
      "execution_count": 4,
      "id": "dominican-prayer",
      "metadata": {},
      "outputs": [
        {
          "data": {
            "text/html": [
              "<span style=\"white-space:pre; font-family: monospace\">\u00af13 52 \u00af33  81\n",
              " 42 62  70  47\n",
              " 51 73 \u00af28 \u00af19\n",
              "</span>"
            ]
          },
          "execution_count": 4,
          "metadata": {},
          "output_type": "execute_result"
        }
      ],
      "source": [
        "((,mat<40)/,mat) \u00d7\u2190 \u00af1\n",
        "mat"
      ]
    },
    {
      "cell_type": "markdown",
      "id": "sexual-curve",
      "metadata": {},
      "source": [
        "We can also use _compress_ to replace vowels scattered throughout a matrix:"
      ]
    },
    {
      "cell_type": "code",
      "execution_count": 5,
      "id": "diverse-wireless",
      "metadata": {},
      "outputs": [
        {
          "data": {
            "text/html": [
              "<span style=\"white-space:pre; font-family: monospace\">January \n",
              "February\n",
              "March   \n",
              "April   \n",
              "May     \n",
              "June    \n",
              "</span>"
            ]
          },
          "execution_count": 5,
          "metadata": {},
          "output_type": "execute_result"
        }
      ],
      "source": [
        "\u2395\u2190 monMat \u2190 6 8\u2374'January FebruaryMarch   April   May     June    '"
      ]
    },
    {
      "cell_type": "code",
      "execution_count": 6,
      "id": "hazardous-pulse",
      "metadata": {},
      "outputs": [
        {
          "data": {
            "text/html": [
              "<span style=\"white-space:pre; font-family: monospace\">J_n__r_ \n",
              "F_br__r_\n",
              "M_rch   \n",
              "Apr_l   \n",
              "M__     \n",
              "J_n_    \n",
              "</span>"
            ]
          },
          "execution_count": 6,
          "metadata": {},
          "output_type": "execute_result"
        }
      ],
      "source": [
        "((,monMat\u220a'aeiouy')/,monMat) \u2190 '_'\n",
        "monMat"
      ]
    },
    {
      "cell_type": "markdown",
      "id": "labeled-marshall",
      "metadata": {},
      "source": [
        "Later on, in [the chapter about operators](./Operators.ipynb), we will learn about another tool that is suitable for this kind of job.\n",
        "\n",
        "Using _dyadic transpose_, it is possible to select and modify a diagonal in a matrix."
      ]
    },
    {
      "cell_type": "code",
      "execution_count": 7,
      "id": "municipal-copper",
      "metadata": {},
      "outputs": [
        {
          "data": {
            "text/html": [
              "<span style=\"white-space:pre; font-family: monospace\"> 0 52 \u00af33  81\n",
              "42  0  70  47\n",
              "51 73   0 \u00af19\n",
              "</span>"
            ]
          },
          "execution_count": 7,
          "metadata": {},
          "output_type": "execute_result"
        }
      ],
      "source": [
        "(1 1\u2349mat) \u2190 0\n",
        "mat"
      ]
    },
    {
      "cell_type": "markdown",
      "id": "limited-filter",
      "metadata": {},
      "source": [
        "To replace all the items in a matrix with the values contained in a vector, we now have two methods:\n",
        "\n",
        "The obvious:"
      ]
    },
    {
      "cell_type": "code",
      "execution_count": 8,
      "id": "confident-wellington",
      "metadata": {},
      "outputs": [
        {
          "data": {
            "text/html": [
              "<span style=\"white-space:pre; font-family: monospace\">1  2  3  4\n",
              "5  6  7  8\n",
              "9 10 11 12\n",
              "</span>"
            ]
          },
          "execution_count": 8,
          "metadata": {},
          "output_type": "execute_result"
        }
      ],
      "source": [
        "mat \u2190 (\u2374mat)\u2374\u237312\n",
        "mat"
      ]
    },
    {
      "cell_type": "markdown",
      "id": "labeled-majority",
      "metadata": {},
      "source": [
        "And the one with _selective assignment_, using _ravel_:"
      ]
    },
    {
      "cell_type": "code",
      "execution_count": 10,
      "id": "distinguished-updating",
      "metadata": {},
      "outputs": [
        {
          "data": {
            "text/html": [
              "<span style=\"white-space:pre; font-family: monospace\">13 14 15 16\n",
              "17 18 19 20\n",
              "21 22 23 24\n",
              "</span>"
            ]
          },
          "execution_count": 10,
          "metadata": {},
          "output_type": "execute_result"
        }
      ],
      "source": [
        "(,mat) \u2190 12+\u237312\n",
        "mat"
      ]
    },
    {
      "cell_type": "code",
      "execution_count": null,
      "id": "concrete-surname",
      "metadata": {},
      "outputs": [],
      "source": []
    }
  ],
  "metadata": {
    "kernelspec": {
      "display_name": "Dyalog APL",
      "language": "apl",
      "name": "dyalog-kernel"
    },
    "language_info": {
      "file_extension": ".apl",
      "mimetype": "text/apl",
      "name": "APL"
    },
    "toc": {
      "base_numbering": 1,
      "nav_menu": {},
      "number_sections": false,
      "sideBar": true,
      "skip_h1_title": true,
      "title_cell": "Table of Contents",
      "title_sidebar": "Contents",
      "toc_cell": false,
      "toc_position": {},
      "toc_section_display": true,
      "toc_window_display": true
    }
  },
  "nbformat": 4,
  "nbformat_minor": 5
}