{
  "cells": [
    {
      "cell_type": "markdown",
      "metadata": {},
      "source": [
        "**Notes & questions:**\n",
        " \n",
        " - `0\u00f70` and `0*0` are mentioned. would it make sense to discuss briefly why the results of these expressions are mathematically incorrect in the specialist's section about `0\u00f70`?\n",
        " \n",
        " - The section about reduction had a warning about using `/` with non commutative functions, which I think is very pertinent. It just looks awkward in its original place, because it comes at the end of the subsection on reducing binary data (where we only used commutative functions) and before a couple other subsections where we only use commutative functions. I moved the warning to a small sub-section right before the \"Application\" sub-section, [here](#Reduction-With-Non-Commutative-Functions).\n",
        " \n",
        "(Re: above) this makes sense if we take into account there already exists a really small subsection that warns the user about reduction of nested arrays, in which the shape and type of the sub-arrays must be compatible for the reduction. This new subsection on the non-commutative reductions is even larger than this one, so I guess it makes sense to have both as sub-sections OR both as warnings, although I prefer it like this.\n",
        " \n",
        " - Right above [Application 1](#Application-1) the author claims reduction with non-commutative functions is rare in business applications. I find it easy to believe, but is it true? Is it worth checking? Should I leave the claim as-is? Remove it?\n",
        " \n",
        " - Check if we can use the term \"major cells\" in the [General Case](#General-Case) of the *Index Of* function.\n",
        " \n",
        " - Check if the [Simple, Not Nested](#Simple,-Not-Nested) subsec is correct, and the whole section on *Where* in general.\n",
        " \n",
        " - The Index Generator was refactored, because many of its subsections moved elsewhere. \"[Application 4](#Application-4)\" and \"[Comparison of Membership and Index Of](#Comparison-of-Membership,-Index-Of-and-Where)\" moved to the section on \u2378 and the latter got slightly renamed, and \"[Idioms](#Idioms)\" moved to the end of the section on catenate. These changes need to be checked.\n",
        " \n",
        "---\n",
        "\n",
        "**References to fix:**\n",
        "\n",
        " - update reference to the Appendix on all the scalar dyadic functions (search the text for \"is given in Appendix\");\n",
        " - fix reference to appendix 4 right above [this](#Reduction-of-Binary-Data) (search for \"It is also possible to write your own operators\");\n",
        " - update reference to the chapter in the beginning of [this](#Scalar-vs.-Non-scalar-Functions) section;\n",
        " - update reference to the chapter after the `Bin` code cells in [this](#Reduction-of-Binary-Data) section (search for 'from the chapter on \"Data and Variables\"');\n",
        " - update reference to section on \"Reduction of Binary Data\" (search for \"With what we learned in the section\") in the [application 1](#Application-1);\n",
        " - update reference to \"operators\" chapter (search for \"We shall learn more about *Axis*\") in the sub sub section about Processing Arrays, inside the section on axis;\n",
        " - update reference to the \"Application 2\" subsection (search for \"The expression we wrote in the\") right in the beginning of [Our First Program](#Our-First-Program);\n",
        " - in the same place as above, fix reference to chapter on \"User Defined Functions\" (search for \"these will be covered in detail\");\n",
        " - fix reference to \"user Defined Functions\" chapter (search for \"we shall see many other possibilities in the\") right before the [Concatenation](#Concatenation) section;\n",
        " - ref to \"Nested Arrays\" chapter under [Replication](#Replication) (search for \"is new and will be discussed in full\");\n",
        " - ref to \"Application 4\" under [Discovery](#Discovery) (search for \"there is another function that we can use\");\n",
        " - ref to Specialist's Section under [Index Generator](#Index-Generator) (search for \"you will find more information in the *Specialist's Section* at the end of this chapter\");\n",
        " - ref to Discovery right after [Application 4](#Application-4) (search for \"occurrence of a value in a vector (cf. the \"Discovery\" subsection)\");\n",
        " - ref to The Index Function in [Increasing The Dimension](#Increasing-The-Dimension) (search for \"(cf. the subsection with the same name)\");\n",
        " - ref to Basic Approach: Compression in [First Question](#First-Question) (search for \"As mentioned previously in the subsection about *Compression*\");\n",
        " - In [Ravel](#Ravel) we talk about subsection on \"Array Indexing\" (search for \"the result returned is a vector (we already mentioned this in the subsection on \"Array Indexing\")\");\n",
        " - ref to \"Our First Program\" in [Empty Vectors and Black Holes](#Empty-Vectors-and-Black-Holes) (search for \"a function to calculate the average of a vector (see the \"Our First Program\" section)\");\n",
        " - ...\n",
        "\n",
        "---\n",
        "\n",
        "# Some Primitive Functions\n",
        "\n",
        "## Definitions\n",
        "\n",
        "In APL data is processed using what we call *functions*. It is important to distinguish between two types of functions:\n",
        "\n",
        " 1. ***Primitive Functions***:\n",
        "     - they are part of the APL language;\n",
        "     - they are represented by symbols like `\u2374`, `\u2349` and `\u2308`;\n",
        "     - they cannot be overwritten or removed.\n",
        "\n",
        "\n",
        " 2. ***User-Defined Functions***:\n",
        "     - as their name implies, they are written by the user;\n",
        "     - they are represented by names, for example `Average` or `Budget`;\n",
        "     - they can be overwritten and removed.\n",
        "   \n",
        "APL has a very rich set of primitive functions. In this chapter, we will explore just a few of them; many others will follow in subsequent chapters.\n",
        "\n",
        "In the introduction to this book, we mentioned that in traditional mathematics, some symbols can be used with a single argument or two arguments. For example:\n",
        "\n",
        "| | | |\n",
        "| :- | :- | :- |\n",
        "| In the expression | $a = x - y$ | the minus sign means subtract. |\n",
        "| Whereas in | $a = -y$ | the minus sign indicates the negation of $y$. |\n",
        "\n",
        "The first form is called the \"**_dyadic_**\" use of the symbol.\n",
        "The second form is called the \"**_monadic_**\" use of the symbol.\n",
        "\n",
        "It is the same in APL, where most of the symbols (functions) have a *monadic* and a *dyadic* meaning. For example, here `\u2374` obtains the shape of the `1 2 3 4` vector:"
      ]
    },
    {
      "cell_type": "code",
      "execution_count": 1,
      "metadata": {},
      "outputs": [
        {
          "data": {
            "text/html": [
              "<span style=\"white-space:pre; font-family: monospace\">4\n",
              "</span>"
            ]
          },
          "execution_count": 1,
          "metadata": {},
          "output_type": "execute_result"
        }
      ],
      "source": [
        "\u2374 1 2 3 4"
      ]
    },
    {
      "cell_type": "markdown",
      "metadata": {},
      "source": [
        "Whereas in here `\u2374` changes the shape of the `1 2 3 4` vector to `2 2`:"
      ]
    },
    {
      "cell_type": "code",
      "execution_count": 2,
      "metadata": {},
      "outputs": [
        {
          "data": {
            "text/html": [
              "<span style=\"white-space:pre; font-family: monospace\">1 2\n",
              "3 4\n",
              "</span>"
            ]
          },
          "execution_count": 2,
          "metadata": {},
          "output_type": "execute_result"
        }
      ],
      "source": [
        "2 2 \u2374 1 2 3 4"
      ]
    },
    {
      "cell_type": "markdown",
      "metadata": {},
      "source": [
        "There is, however, a major difference. In traditional mathematics, the symbol representing a monadic function is sometimes placed before its argument (as the $-$ in $a = -y$), sometimes after it (as the $!$ in $a = y!$), sometimes on both sides (as the $|\\cdot|$ in $a = |y|$), and some other conventions may be found.\n",
        "\n",
        "In APL, the symbol representing a monadic functions is **always** placed before its argument, as the `\u2374` in `\u2374Var`."
      ]
    },
    {
      "cell_type": "markdown",
      "metadata": {},
      "source": [
        "## Some Scalar Dyadic Functions\n",
        "\n",
        "### Definition and Examples\n",
        "\n",
        "***Scalar dyadic functions*** are primitive functions which have the following properties:\n",
        "\n",
        " - they are *dyadic* (require an argument on both sides);\n",
        " - they work item by item (scalar by scalar);\n",
        " - they can work on two arrays of the same shape, in which case the result also has the same shape;\n",
        " - they can work on one array of any shape, and a single value (a ***scalar*** or any one-item array), in which case the result has the same shape as the non-singleton array.\n",
        " \n",
        "The four basic arithmetic functions, ***Addition***, ***Subtraction***, ***Multiplication*** and ***Division*** are scalar dyadic functions. They apply themselves between each item of the left argument and the corresponding item of the right argument, like this:"
      ]
    },
    {
      "cell_type": "code",
      "execution_count": 3,
      "metadata": {},
      "outputs": [
        {
          "data": {
            "text/html": [
              "<span style=\"white-space:pre; font-family: monospace\">7 9 10 13\n",
              "</span>"
            ]
          },
          "execution_count": 3,
          "metadata": {},
          "output_type": "execute_result"
        }
      ],
      "source": [
        "5 3 2 9 + 2 6 8 4"
      ]
    },
    {
      "cell_type": "markdown",
      "metadata": {},
      "source": [
        "The function is applied between each item of two 4-item vectors. The result is also a 4-item vector.\n",
        "\n",
        "As an example of a function that is *not* a scalar function, let us look at the ***Reshape*** function. There is nothing in common between the shapes of its arguments:"
      ]
    },
    {
      "cell_type": "code",
      "execution_count": 4,
      "metadata": {},
      "outputs": [
        {
          "data": {
            "text/html": [
              "<span style=\"white-space:pre; font-family: monospace\">6 8 2\n",
              "1 9 3\n",
              "</span>"
            ]
          },
          "execution_count": 4,
          "metadata": {},
          "output_type": "execute_result"
        }
      ],
      "source": [
        "2 3 \u2374 6 8 2 1 9 3"
      ]
    },
    {
      "cell_type": "markdown",
      "metadata": {},
      "source": [
        "In fact, the left argument has 2 items, the right one has 6 and the result in this case is a matrix.\n",
        "\n",
        "Let us explore the behaviour of the basic arithmetic functions on vectors:"
      ]
    },
    {
      "cell_type": "code",
      "execution_count": 5,
      "metadata": {},
      "outputs": [
        {
          "data": {
            "text/html": [
              "<span style=\"white-space:pre; font-family: monospace\">3 \u00af3 \u00af6 5\n",
              "</span>"
            ]
          },
          "execution_count": 5,
          "metadata": {},
          "output_type": "execute_result"
        }
      ],
      "source": [
        "5 3 2 9 - 2 6 8 4"
      ]
    },
    {
      "cell_type": "code",
      "execution_count": 6,
      "metadata": {},
      "outputs": [
        {
          "data": {
            "text/html": [
              "<span style=\"white-space:pre; font-family: monospace\">2.5 0.5 0.5 1.28571\n",
              "</span>"
            ]
          },
          "execution_count": 6,
          "metadata": {},
          "output_type": "execute_result"
        }
      ],
      "source": [
        "5 3 2 9 \u00f7 2 6 4 7"
      ]
    },
    {
      "cell_type": "code",
      "execution_count": 7,
      "metadata": {},
      "outputs": [
        {
          "data": {
            "text/html": [
              "<span style=\"white-space:pre; font-family: monospace\">10.4 11.5 10.8 24 16.9\n",
              "</span>"
            ]
          },
          "execution_count": 7,
          "metadata": {},
          "output_type": "execute_result"
        }
      ],
      "source": [
        "Price \u2190 5.2 11.5 3.6 4 8.45\n",
        "Qty \u2190 2 1 3 6 2\n",
        "Costs \u2190 Price \u00d7 Qty\n",
        "Costs"
      ]
    },
    {
      "cell_type": "markdown",
      "metadata": {},
      "source": [
        "Scalar dyadic functions apply to arrays of any rank and shape.\n",
        "\n",
        "As we saw in the introduction, a Sales Director makes forecasts for sales of 4 products over the coming 6 months, and assigns them to the variable `Forecast`. At the end of the 6 months, they record the actual values in the variable `Actual`. Here they are:"
      ]
    },
    {
      "cell_type": "code",
      "execution_count": 8,
      "metadata": {},
      "outputs": [
        {
          "data": {
            "text/html": [
              "<span style=\"white-space:pre; font-family: monospace\"> 90 160 420 500  20  30\n",
              "110 450 170 370 290 360\n",
              "340 190 320 120 510 370\n",
              "150 460 240 520 490 280\n",
              "</span>"
            ]
          },
          "execution_count": 8,
          "metadata": {},
          "output_type": "execute_result"
        }
      ],
      "source": [
        "\u2395RL \u2190 73\n",
        "Forecast \u2190 10\u00d7?4 6\u237455\n",
        "Forecast"
      ]
    },
    {
      "cell_type": "code",
      "execution_count": 9,
      "metadata": {},
      "outputs": [
        {
          "data": {
            "text/html": [
              "<span style=\"white-space:pre; font-family: monospace\"> 89 166 420 508  12  23\n",
              "111 453 177 365 284 352\n",
              "349 192 329 115 515 374\n",
              "160 467 234 519 485 283\n",
              "</span>"
            ]
          },
          "execution_count": 9,
          "metadata": {},
          "output_type": "execute_result"
        }
      ],
      "source": [
        "\u2395RL \u2190 73\n",
        "Actual \u2190 Forecast + \u00af10+?4 6\u237420\n",
        "Actual"
      ]
    },
    {
      "cell_type": "markdown",
      "metadata": {},
      "source": [
        "```{admonition} Remark \n",
        ":class: tip\n",
        "We initialise the `Forecast` and `Actual` variables with some random values by the use of the ***Roll*** function `?`. Notice this assignment is easier to type than some predefined set of values and we can use `\u2395RL` to always get the same result. You can learn more about `?` and `\u2395RL` later on in the book.\n",
        "```\n",
        "\n",
        "The first thing any self-respecting Sales Director will want to know is the difference between the expected and the actual results. This can be done easily by typing:"
      ]
    },
    {
      "cell_type": "code",
      "execution_count": 10,
      "metadata": {},
      "outputs": [
        {
          "data": {
            "text/html": [
              "<span style=\"white-space:pre; font-family: monospace\">\u00af1 6  0  8 \u00af8 \u00af7\n",
              " 1 3  7 \u00af5 \u00af6 \u00af8\n",
              " 9 2  9 \u00af5  5  4\n",
              "10 7 \u00af6 \u00af1 \u00af5  3\n",
              "</span>"
            ]
          },
          "execution_count": 10,
          "metadata": {},
          "output_type": "execute_result"
        }
      ],
      "source": [
        "Actual - Forecast"
      ]
    },
    {
      "cell_type": "markdown",
      "metadata": {},
      "source": [
        "Notice how subtracting two matrices gives a matrix of the same shape (recall that negative values are indicated by a high minus sign).\n",
        "\n",
        "But remember, a scalar dyadic function may also be applied between a single value and an array of any shape.\n",
        "\n",
        "For example, if we want to multiply `Forecast` by 2, we can type:"
      ]
    },
    {
      "cell_type": "code",
      "execution_count": 11,
      "metadata": {},
      "outputs": [
        {
          "data": {
            "text/html": [
              "<span style=\"white-space:pre; font-family: monospace\">180 320 840 1000   40  60\n",
              "220 900 340  740  580 720\n",
              "680 380 640  240 1020 740\n",
              "300 920 480 1040  980 560\n",
              "</span>"
            ]
          },
          "execution_count": 11,
          "metadata": {},
          "output_type": "execute_result"
        }
      ],
      "source": [
        "Forecast \u00d7 2        \u235d same as 2 \u00d7 Forecast"
      ]
    },
    {
      "cell_type": "markdown",
      "metadata": {},
      "source": [
        "A complete list of ***Scalar Dyadic Functions*** is given in Appendix 1."
      ]
    },
    {
      "cell_type": "markdown",
      "metadata": {},
      "source": [
        "### Division By Zero\n",
        "\n",
        "An expression such as `17\u00f70` leads to an error message:"
      ]
    },
    {
      "cell_type": "code",
      "execution_count": 12,
      "metadata": {},
      "outputs": [
        {
          "name": "stderr",
          "output_type": "stream",
          "text": [
            "DOMAIN ERROR: Divide by zero\n",
            "      17\u00f70\n",
            "        \u2227\n"
          ]
        }
      ],
      "source": [
        "17\u00f70"
      ]
    },
    {
      "cell_type": "markdown",
      "metadata": {},
      "source": [
        "This happens because zero does not belong to the domain of valid denominators.\n",
        "\n",
        "However, notice what `0\u00f70` returns:"
      ]
    },
    {
      "cell_type": "code",
      "execution_count": 13,
      "metadata": {},
      "outputs": [
        {
          "data": {
            "text/html": [
              "<span style=\"white-space:pre; font-family: monospace\">1\n",
              "</span>"
            ]
          },
          "execution_count": 13,
          "metadata": {},
          "output_type": "execute_result"
        }
      ],
      "source": [
        "0\u00f70"
      ]
    },
    {
      "cell_type": "markdown",
      "metadata": {},
      "source": [
        "Despite being mathematically incorrect, the default behaviour gives the result 1, as given by the extension of the rule that \"any number divided by itself should give 1\". Nevertheless, because this is sometimes inappropriate, it is possible to change the default behaviour (see the *Specialist's Section*)."
      ]
    },
    {
      "cell_type": "markdown",
      "metadata": {},
      "source": [
        "### Power\n",
        "\n",
        "In APL, the mathematical notation $A^n$ is written `A*n`.\n",
        "\n",
        "The function *Power* (`*`) accepts any value(s) for `n`: integer or decimal, positive, negative, or zero, according to traditional usage.\n",
        "\n",
        "To calculate the values of: $4^2$, $4^{1.4}$, $4^0$, $\\sqrt 4$, $4^{-2.1}$, $4^5$ we just need to type"
      ]
    },
    {
      "cell_type": "code",
      "execution_count": 14,
      "metadata": {},
      "outputs": [
        {
          "data": {
            "text/html": [
              "<span style=\"white-space:pre; font-family: monospace\">16 6.9644 1 2 0.25 0.0544094 1024\n",
              "</span>"
            ]
          },
          "execution_count": 14,
          "metadata": {},
          "output_type": "execute_result"
        }
      ],
      "source": [
        "4 * 2 1.4 0 0.5 \u00af1 \u00af2.1 5"
      ]
    },
    {
      "cell_type": "markdown",
      "metadata": {},
      "source": [
        "`0*0` gives `1`, which is also not mathematically correct but a fairly useful convention to take.\n",
        "\n",
        "There is no special symbol in APL to represent a square root; it is obtained by raising a value to the power $\\frac12$. If we take the square root of a negative number, then we get a complex number as a result:"
      ]
    },
    {
      "cell_type": "code",
      "execution_count": 15,
      "metadata": {},
      "outputs": [
        {
          "data": {
            "text/html": [
              "<span style=\"white-space:pre; font-family: monospace\">0J1\n",
              "</span>"
            ]
          },
          "execution_count": 15,
          "metadata": {},
          "output_type": "execute_result"
        }
      ],
      "source": [
        "\u00af1 * 0.5 "
      ]
    },
    {
      "cell_type": "markdown",
      "metadata": {},
      "source": [
        "### Maximum & Minimum\n",
        "\n",
        "***Maximum*** (`\u2308`) and ***Minimum*** (`\u230a`) return respectively the larger of two values and the smaller of two values, whatever their signs. Because they are scalar dyadic functions, they can be applied item by item between any two compatible arrays."
      ]
    },
    {
      "cell_type": "code",
      "execution_count": 16,
      "metadata": {},
      "outputs": [
        {
          "data": {
            "text/html": [
              "<span style=\"white-space:pre; font-family: monospace\">83\n",
              "</span>"
            ]
          },
          "execution_count": 16,
          "metadata": {},
          "output_type": "execute_result"
        }
      ],
      "source": [
        "75 \u2308 83"
      ]
    },
    {
      "cell_type": "code",
      "execution_count": 17,
      "metadata": {},
      "outputs": [
        {
          "data": {
            "text/html": [
              "<span style=\"white-space:pre; font-family: monospace\">19 22 19 60\n",
              "</span>"
            ]
          },
          "execution_count": 17,
          "metadata": {},
          "output_type": "execute_result"
        }
      ],
      "source": [
        "19 \u2308 11 22 \u00af20 60"
      ]
    },
    {
      "cell_type": "code",
      "execution_count": 18,
      "metadata": {},
      "outputs": [
        {
          "data": {
            "text/html": [
              "<span style=\"white-space:pre; font-family: monospace\">\u00af60 14 \u00af40 11.23\n",
              "</span>"
            ]
          },
          "execution_count": 18,
          "metadata": {},
          "output_type": "execute_result"
        }
      ],
      "source": [
        "52 14 \u00af37 18.44 \u230a \u00af60 15 \u00af40 11.23"
      ]
    },
    {
      "cell_type": "markdown",
      "metadata": {},
      "source": [
        "*Minimum* can be used to apply a limit to the values in an array. For example, to set a ceiling of 450 in the matrix `Forecast`, it is sufficient to type:"
      ]
    },
    {
      "cell_type": "code",
      "execution_count": 19,
      "metadata": {},
      "outputs": [
        {
          "data": {
            "text/html": [
              "<span style=\"white-space:pre; font-family: monospace\"> 90 160 420 450  20  30\n",
              "110 450 170 370 290 360\n",
              "340 190 320 120 450 370\n",
              "150 450 240 450 450 280\n",
              "</span>"
            ]
          },
          "execution_count": 19,
          "metadata": {},
          "output_type": "execute_result"
        }
      ],
      "source": [
        "Forecast \u230a 450"
      ]
    },
    {
      "cell_type": "markdown",
      "metadata": {},
      "source": [
        "Notice how the larger values have been capped to 450."
      ]
    },
    {
      "cell_type": "markdown",
      "metadata": {},
      "source": [
        "### Relationship\n",
        "\n",
        "As in traditional mathematics, APL provides the 6 relationship functions:\n",
        "\n",
        "| APL | Meaning |\n",
        "| :-: | :- |\n",
        "| `A < B` | $A$ less than $B$ |\n",
        "| `A \u2264 B` | $A$ less than or equal to $B$ |\n",
        "| `A = B` | $A$ equal to $B$ |\n",
        "| `A \u2265 B` | $A$ greater than or equal to $B$ |\n",
        "| `A > B` | $A$ greater than $B$ |\n",
        "| `A \u2260 B` | $A$ not equal to $B$ |\n",
        "\n",
        "These symbols are obtained by pressing the <kbd>APL</kbd> key, simultaneously with the keys <kbd>3</kbd> to <kbd>8</kbd>, respectively.\n",
        "\n",
        "All these 6 functions return `1` if the relation is true, or `0` if it is false."
      ]
    },
    {
      "cell_type": "code",
      "execution_count": 20,
      "metadata": {},
      "outputs": [
        {
          "data": {
            "text/html": [
              "<span style=\"white-space:pre; font-family: monospace\">0\n",
              "</span>"
            ]
          },
          "execution_count": 20,
          "metadata": {},
          "output_type": "execute_result"
        }
      ],
      "source": [
        "11 < 7"
      ]
    },
    {
      "cell_type": "code",
      "execution_count": 21,
      "metadata": {},
      "outputs": [
        {
          "data": {
            "text/html": [
              "<span style=\"white-space:pre; font-family: monospace\">1 0 1\n",
              "</span>"
            ]
          },
          "execution_count": 21,
          "metadata": {},
          "output_type": "execute_result"
        }
      ],
      "source": [
        "24 \u2264 24 11 33"
      ]
    },
    {
      "cell_type": "code",
      "execution_count": 22,
      "metadata": {},
      "outputs": [
        {
          "data": {
            "text/html": [
              "<span style=\"white-space:pre; font-family: monospace\">0\n",
              "</span>"
            ]
          },
          "execution_count": 22,
          "metadata": {},
          "output_type": "execute_result"
        }
      ],
      "source": [
        "5 = 9"
      ]
    },
    {
      "cell_type": "code",
      "execution_count": 23,
      "metadata": {},
      "outputs": [
        {
          "data": {
            "text/html": [
              "<span style=\"white-space:pre; font-family: monospace\">0 1 1\n",
              "</span>"
            ]
          },
          "execution_count": 23,
          "metadata": {},
          "output_type": "execute_result"
        }
      ],
      "source": [
        "3 8 7 \u2265 5 8 0"
      ]
    },
    {
      "cell_type": "code",
      "execution_count": 24,
      "metadata": {},
      "outputs": [
        {
          "data": {
            "text/html": [
              "<span style=\"white-space:pre; font-family: monospace\">0 1 0\n",
              "1 0 1\n",
              "</span>"
            ]
          },
          "execution_count": 24,
          "metadata": {},
          "output_type": "execute_result"
        }
      ],
      "source": [
        "6 > 2 3\u23747 2 9 3 6 4"
      ]
    },
    {
      "cell_type": "markdown",
      "metadata": {},
      "source": [
        "The results are called binary, or Boolean, values (Boolean refers to the name of the mathematician George Boole). They can be processed in many different ways and are extremely useful, as we shall soon see.\n",
        "\n",
        "Note that none of the four symbols `<` `\u2264` `\u2265` `>` can be applied to character arrays. Only `=` and `\u2260` can be used with character arrays, as illustrated below:"
      ]
    },
    {
      "cell_type": "code",
      "execution_count": 25,
      "metadata": {},
      "outputs": [
        {
          "data": {
            "text/html": [
              "<span style=\"white-space:pre; font-family: monospace\">1\n",
              "</span>"
            ]
          },
          "execution_count": 25,
          "metadata": {},
          "output_type": "execute_result"
        }
      ],
      "source": [
        "'m' = 'm'"
      ]
    },
    {
      "cell_type": "code",
      "execution_count": 26,
      "metadata": {},
      "outputs": [
        {
          "data": {
            "text/html": [
              "<span style=\"white-space:pre; font-family: monospace\">0\n",
              "</span>"
            ]
          },
          "execution_count": 26,
          "metadata": {},
          "output_type": "execute_result"
        }
      ],
      "source": [
        "'m' = 'M'"
      ]
    },
    {
      "cell_type": "code",
      "execution_count": 27,
      "metadata": {},
      "outputs": [
        {
          "data": {
            "text/html": [
              "<span style=\"white-space:pre; font-family: monospace\">1\n",
              "</span>"
            ]
          },
          "execution_count": 27,
          "metadata": {},
          "output_type": "execute_result"
        }
      ],
      "source": [
        "'k' \u2260 'a'"
      ]
    },
    {
      "cell_type": "code",
      "execution_count": 28,
      "metadata": {},
      "outputs": [
        {
          "data": {
            "text/html": [
              "<span style=\"white-space:pre; font-family: monospace\">1 1 0 0 1\n",
              "</span>"
            ]
          },
          "execution_count": 28,
          "metadata": {},
          "output_type": "execute_result"
        }
      ],
      "source": [
        "'sorry' \u2260 'r'"
      ]
    },
    {
      "cell_type": "markdown",
      "metadata": {},
      "source": [
        "Because these functions are scalar dyadic functions, they are applied between individual scalars (the letters), not words:"
      ]
    },
    {
      "cell_type": "code",
      "execution_count": 29,
      "metadata": {},
      "outputs": [
        {
          "data": {
            "text/html": [
              "<span style=\"white-space:pre; font-family: monospace\">0 1 0 1\n",
              "</span>"
            ]
          },
          "execution_count": 29,
          "metadata": {},
          "output_type": "execute_result"
        }
      ],
      "source": [
        "'gold' \u2260 'gulf'"
      ]
    },
    {
      "cell_type": "markdown",
      "metadata": {},
      "source": [
        "For the same reason, the two words (considered as vectors) must be of equal size, otherwise we get an error:"
      ]
    },
    {
      "cell_type": "code",
      "execution_count": 30,
      "metadata": {
        "scrolled": true
      },
      "outputs": [
        {
          "name": "stderr",
          "output_type": "stream",
          "text": [
            "LENGTH ERROR: Mismatched left and right argument shapes\n",
            "      'male'\u2260'female'\n",
            "            \u2227\n"
          ]
        }
      ],
      "source": [
        "'male' \u2260 'female'"
      ]
    },
    {
      "cell_type": "markdown",
      "metadata": {},
      "source": [
        "### Residue\n",
        "\n",
        "The *Residue* function, represented by `|`, returns the remainder of a division.\n",
        "\n",
        "In the expression `R \u2190 X|Y`, `R` is the remainder of `Y` divided by `X` (**be careful**; the arguments of *Residue* are given in the reverse order of that used by *Division* `Y\u00f7X`)."
      ]
    },
    {
      "cell_type": "code",
      "execution_count": 31,
      "metadata": {},
      "outputs": [
        {
          "data": {
            "text/html": [
              "<span style=\"white-space:pre; font-family: monospace\">5\n",
              "</span>"
            ]
          },
          "execution_count": 31,
          "metadata": {},
          "output_type": "execute_result"
        }
      ],
      "source": [
        "7 | 54"
      ]
    },
    {
      "cell_type": "code",
      "execution_count": 32,
      "metadata": {},
      "outputs": [
        {
          "data": {
            "text/html": [
              "<span style=\"white-space:pre; font-family: monospace\">0 1 1 0\n",
              "</span>"
            ]
          },
          "execution_count": 32,
          "metadata": {},
          "output_type": "execute_result"
        }
      ],
      "source": [
        "2 | 216 47 29 28        \u235d Find even and odd numbers"
      ]
    },
    {
      "cell_type": "code",
      "execution_count": 33,
      "metadata": {},
      "outputs": [
        {
          "data": {
            "text/html": [
              "<span style=\"white-space:pre; font-family: monospace\">5 0 9 \u00af1.9 2 \u00af2 4 \u00af2\n",
              "</span>"
            ]
          },
          "execution_count": 33,
          "metadata": {},
          "output_type": "execute_result"
        }
      ],
      "source": [
        "X \u2190 7 4 11 \u00af4.3 3 \u00af5 6 \u00af3\n",
        "Y \u2190 54 84 119 19.6 29 43 \u00af14 \u00af14\n",
        "X | Y"
      ]
    },
    {
      "cell_type": "markdown",
      "metadata": {},
      "source": [
        "The function can be used with negative and decimal values, as seen above.\n",
        "\n",
        "The result `R` is always equal to `Y - (N\u00d7X)`, where `N` is the largest possible integer such that `R` is always between `0` and `X`, but never equal to `X`. Some calculations show that `N` is equal to `\u230a(Y\u00f7X)`, which means `X|Y` and `Y - (X \u00d7 (\u230a(Y\u00f7X)))` give the exact same result:"
      ]
    },
    {
      "cell_type": "code",
      "execution_count": 34,
      "metadata": {},
      "outputs": [
        {
          "data": {
            "text/html": [
              "<span style=\"white-space:pre; font-family: monospace\">5 0 9 \u00af1.9 2 \u00af2 4 \u00af2\n",
              "</span>"
            ]
          },
          "execution_count": 34,
          "metadata": {},
          "output_type": "execute_result"
        }
      ],
      "source": [
        "(X|Y)"
      ]
    },
    {
      "cell_type": "code",
      "execution_count": 35,
      "metadata": {},
      "outputs": [
        {
          "data": {
            "text/html": [
              "<span style=\"white-space:pre; font-family: monospace\">5 0 9 \u00af1.9 2 \u00af2 4 \u00af2\n",
              "</span>"
            ]
          },
          "execution_count": 35,
          "metadata": {},
          "output_type": "execute_result"
        }
      ],
      "source": [
        "(Y - (X \u00d7 (\u230a(Y\u00f7X))))"
      ]
    },
    {
      "cell_type": "markdown",
      "metadata": {},
      "source": [
        "Using a new dyadic primitive `\u2261` (obtained with <kbd>APL</kbd>+<kbd>Shift</kbd>+<kbd>;</kbd>) we can ask APL to check if the two arrays are the same, instead of having to compare each array item by item:"
      ]
    },
    {
      "cell_type": "code",
      "execution_count": 36,
      "metadata": {},
      "outputs": [
        {
          "data": {
            "text/html": [
              "<span style=\"white-space:pre; font-family: monospace\">1\n",
              "</span>"
            ]
          },
          "execution_count": 36,
          "metadata": {},
          "output_type": "execute_result"
        }
      ],
      "source": [
        "(X|Y) \u2261 (Y - (X \u00d7 (\u230a(Y\u00f7X))))"
      ]
    },
    {
      "cell_type": "markdown",
      "metadata": {},
      "source": [
        "Keep reading the next section to see how `\u2261` works."
      ]
    },
    {
      "cell_type": "markdown",
      "metadata": {},
      "source": [
        "### Array Comparison\n",
        "\n",
        "We have seen above that the dyadic functions `=` and `\u2260` are scalar, which meant we cannot use them when we wish to check if two arrays are the same or when we wish to check if two arrays are different:"
      ]
    },
    {
      "cell_type": "code",
      "execution_count": 37,
      "metadata": {},
      "outputs": [
        {
          "data": {
            "text/html": [
              "<span style=\"white-space:pre; font-family: monospace\">1 1 1 1\n",
              "</span>"
            ]
          },
          "execution_count": 37,
          "metadata": {},
          "output_type": "execute_result"
        }
      ],
      "source": [
        "1 2 3 4 = 1 2 3 4"
      ]
    },
    {
      "cell_type": "markdown",
      "metadata": {},
      "source": [
        "The result above says the arrays have matching items, but doesn't provide the summary information that *the arrays are the same*.\n",
        "\n",
        "For a similar reason, we can't even compare vectors of different lengths because dyadic scalar functions expect the shapes of their arguments to match:"
      ]
    },
    {
      "cell_type": "code",
      "execution_count": 38,
      "metadata": {},
      "outputs": [
        {
          "name": "stderr",
          "output_type": "stream",
          "text": [
            "LENGTH ERROR: Mismatched left and right argument shapes\n",
            "      'male'='female'\n",
            "            \u2227\n"
          ]
        }
      ],
      "source": [
        "'male' = 'female'"
      ]
    },
    {
      "cell_type": "markdown",
      "metadata": {},
      "source": [
        "Instead, we must use the ***Match*** (`\u2261`) function to check if two arrays are exactly the same:"
      ]
    },
    {
      "cell_type": "code",
      "execution_count": 39,
      "metadata": {},
      "outputs": [
        {
          "data": {
            "text/html": [
              "<span style=\"white-space:pre; font-family: monospace\">1\n",
              "</span>"
            ]
          },
          "execution_count": 39,
          "metadata": {},
          "output_type": "execute_result"
        }
      ],
      "source": [
        "1 2 3 4 \u2261 1 2 3 4"
      ]
    },
    {
      "cell_type": "code",
      "execution_count": 40,
      "metadata": {},
      "outputs": [
        {
          "data": {
            "text/html": [
              "<span style=\"white-space:pre; font-family: monospace\">0\n",
              "</span>"
            ]
          },
          "execution_count": 40,
          "metadata": {},
          "output_type": "execute_result"
        }
      ],
      "source": [
        "'male' \u2261 'female'"
      ]
    },
    {
      "cell_type": "markdown",
      "metadata": {},
      "source": [
        "The ***Not Match*** (`\u2262`) primitive (obtained with <kbd>APL</kbd>+<kbd>Shift</kbd>+<kbd>'</kbd>) is the counterpart to `\u2261` and checks if two arrays are different:"
      ]
    },
    {
      "cell_type": "code",
      "execution_count": 41,
      "metadata": {},
      "outputs": [
        {
          "data": {
            "text/html": [
              "<span style=\"white-space:pre; font-family: monospace\">0\n",
              "</span>"
            ]
          },
          "execution_count": 41,
          "metadata": {},
          "output_type": "execute_result"
        }
      ],
      "source": [
        "1 2 3 4 \u2262 1 2 3 4"
      ]
    },
    {
      "cell_type": "code",
      "execution_count": 42,
      "metadata": {
        "scrolled": true
      },
      "outputs": [
        {
          "data": {
            "text/html": [
              "<span style=\"white-space:pre; font-family: monospace\">1\n",
              "</span>"
            ]
          },
          "execution_count": 42,
          "metadata": {},
          "output_type": "execute_result"
        }
      ],
      "source": [
        "'male' \u2262 'female'"
      ]
    },
    {
      "cell_type": "markdown",
      "metadata": {},
      "source": [
        "## Order of Evaluation\n",
        "\n",
        "Like other programming languages, APL allows the programmer to use parentheses to specify the order of evaluation of a complex expression. Thus the expression `5\u00d7(6+7)` means \"add 6 to 7, then multiply by 5\". In the absence of parentheses, most other programming languages employ rules of precedence to decide how a complex expression such as `5\u00d76+7` would be evaluated. Typically, the result will be 37 because multiplication is given precedence over addition and is performed first.\n",
        "\n",
        "When APL was designed, it was decided that the sheer number of primitive functions meant that a set of precedence rules would be impossibly complex to remember and apply. Instead, APL follows the traditional algebraic conventions.\n",
        "\n",
        "The solution adopted in APL is simple, and consistent with the rules we apply to calculate complex expressions in traditional algebra. Suppose, for example, that we need to calculate\n",
        "\n",
        "$$\\log \\sin \\sqrt {x \u00f7 3}$$\n",
        "\n",
        "To do this, we would first divide $x$ by 3, then take the square root of the result, next calculate its sine, and finally calculate the logarithm: each function applies to the result of the entire expression to its right. This is how it is done in mathematics, and so it is in APL. The only different is that in APL there are *no* exceptions!\n",
        "\n",
        "To evaluate"
      ]
    },
    {
      "cell_type": "code",
      "execution_count": 43,
      "metadata": {},
      "outputs": [
        {
          "data": {
            "text/html": [
              "<span style=\"white-space:pre; font-family: monospace\">65\n",
              "</span>"
            ]
          },
          "execution_count": 43,
          "metadata": {},
          "output_type": "execute_result"
        }
      ],
      "source": [
        "5 \u00d7 6 + 7"
      ]
    },
    {
      "cell_type": "markdown",
      "metadata": {},
      "source": [
        "we first calculate"
      ]
    },
    {
      "cell_type": "code",
      "execution_count": 44,
      "metadata": {},
      "outputs": [
        {
          "data": {
            "text/html": [
              "<span style=\"white-space:pre; font-family: monospace\">13\n",
              "</span>"
            ]
          },
          "execution_count": 44,
          "metadata": {},
          "output_type": "execute_result"
        }
      ],
      "source": [
        "6 + 7"
      ]
    },
    {
      "cell_type": "markdown",
      "metadata": {},
      "source": [
        "and then multiply by 5, giving 65:"
      ]
    },
    {
      "cell_type": "code",
      "execution_count": 45,
      "metadata": {},
      "outputs": [
        {
          "data": {
            "text/html": [
              "<span style=\"white-space:pre; font-family: monospace\">65\n",
              "</span>"
            ]
          },
          "execution_count": 45,
          "metadata": {},
          "output_type": "execute_result"
        }
      ],
      "source": [
        "5 \u00d7 13"
      ]
    },
    {
      "cell_type": "markdown",
      "metadata": {},
      "source": [
        "By the use of parentheses we can instruct APL to do the multiplication first,"
      ]
    },
    {
      "cell_type": "code",
      "execution_count": 46,
      "metadata": {},
      "outputs": [
        {
          "data": {
            "text/html": [
              "<span style=\"white-space:pre; font-family: monospace\">37\n",
              "</span>"
            ]
          },
          "execution_count": 46,
          "metadata": {},
          "output_type": "execute_result"
        }
      ],
      "source": [
        "(5 \u00d7 6) + 7"
      ]
    },
    {
      "cell_type": "markdown",
      "metadata": {},
      "source": [
        "which an experienced APL programmer would probably write as"
      ]
    },
    {
      "cell_type": "code",
      "execution_count": 47,
      "metadata": {},
      "outputs": [
        {
          "data": {
            "text/html": [
              "<span style=\"white-space:pre; font-family: monospace\">37\n",
              "</span>"
            ]
          },
          "execution_count": 47,
          "metadata": {},
          "output_type": "execute_result"
        }
      ],
      "source": [
        "7 + 5 \u00d7 6"
      ]
    },
    {
      "cell_type": "markdown",
      "metadata": {},
      "source": [
        "```{admonition} Rule \n",
        ":class: tip\n",
        "In an APL expression, each function takes as its right argument the result of the entire expression to its right. No functions have higher precedence than any others.\n",
        "\n",
        "If the function is dyadic (takes both a left and a right argument), it takes as its left argument the array immediately to its left, delimited by the next function.\n",
        "\n",
        "This is sometimes called \"***Right to left evaluation***\" (although this is not strictly correct).\n",
        "\n",
        "If necessary, one can use ***Parentheses*** to force a different order of evaluation.\n",
        "```\n",
        "\n",
        "You must not be confused: each function is itself evaluated in its natural order, so `8\u00f74` gives 2, not 0.5! The expression \"*right to left*\" only means that the first operation executed is the rightmost one.\n",
        "\n",
        "If the order of evaluation seems strange to you at first sight, just refer to a plain English sentence: \"*take the top half of the bottom quarter*\" does not mean \"*take the top half first, and then take the bottom quarter*\"; it means \"_**first** split into quarters and take the bottom one, **then** split that quarter into two halves and take the top half of it_\": this is exactly the way that APL works! Even in everyday English language, which we write from left to right, we implicitly use the \"right to left evaluation\" rule.\n",
        "\n",
        "Let us apply this rule to some examples:"
      ]
    },
    {
      "cell_type": "code",
      "execution_count": 48,
      "metadata": {
        "scrolled": true
      },
      "outputs": [
        {
          "data": {
            "text/html": [
              "<span style=\"white-space:pre; font-family: monospace\">18\n",
              "</span>"
            ]
          },
          "execution_count": 48,
          "metadata": {},
          "output_type": "execute_result"
        }
      ],
      "source": [
        "3\u00d75+1"
      ]
    },
    {
      "cell_type": "markdown",
      "metadata": {},
      "source": [
        "First we sum,"
      ]
    },
    {
      "cell_type": "code",
      "execution_count": 49,
      "metadata": {},
      "outputs": [
        {
          "data": {
            "text/html": [
              "<span style=\"white-space:pre; font-family: monospace\">6\n",
              "</span>"
            ]
          },
          "execution_count": 49,
          "metadata": {},
          "output_type": "execute_result"
        }
      ],
      "source": [
        "5+1"
      ]
    },
    {
      "cell_type": "markdown",
      "metadata": {},
      "source": [
        "then we multiply:"
      ]
    },
    {
      "cell_type": "code",
      "execution_count": 50,
      "metadata": {},
      "outputs": [
        {
          "data": {
            "text/html": [
              "<span style=\"white-space:pre; font-family: monospace\">18\n",
              "</span>"
            ]
          },
          "execution_count": 50,
          "metadata": {},
          "output_type": "execute_result"
        }
      ],
      "source": [
        "3\u00d76"
      ]
    },
    {
      "cell_type": "markdown",
      "metadata": {},
      "source": [
        "Now an example with 3 operations:"
      ]
    },
    {
      "cell_type": "code",
      "execution_count": 51,
      "metadata": {},
      "outputs": [
        {
          "data": {
            "text/html": [
              "<span style=\"white-space:pre; font-family: monospace\">3 5\n",
              "</span>"
            ]
          },
          "execution_count": 51,
          "metadata": {},
          "output_type": "execute_result"
        }
      ],
      "source": [
        "3 6\u230a4+2 9>7"
      ]
    },
    {
      "cell_type": "markdown",
      "metadata": {},
      "source": [
        "First we perform the \"greater than\" comparison,"
      ]
    },
    {
      "cell_type": "code",
      "execution_count": 52,
      "metadata": {},
      "outputs": [
        {
          "data": {
            "text/html": [
              "<span style=\"white-space:pre; font-family: monospace\">0 1\n",
              "</span>"
            ]
          },
          "execution_count": 52,
          "metadata": {},
          "output_type": "execute_result"
        }
      ],
      "source": [
        "2 9>7"
      ]
    },
    {
      "cell_type": "markdown",
      "metadata": {},
      "source": [
        "then we add 4"
      ]
    },
    {
      "cell_type": "code",
      "execution_count": 53,
      "metadata": {},
      "outputs": [
        {
          "data": {
            "text/html": [
              "<span style=\"white-space:pre; font-family: monospace\">4 5\n",
              "</span>"
            ]
          },
          "execution_count": 53,
          "metadata": {},
          "output_type": "execute_result"
        }
      ],
      "source": [
        "4+0 1"
      ]
    },
    {
      "cell_type": "markdown",
      "metadata": {},
      "source": [
        "and finally we take the minimum:"
      ]
    },
    {
      "cell_type": "code",
      "execution_count": 54,
      "metadata": {},
      "outputs": [
        {
          "data": {
            "text/html": [
              "<span style=\"white-space:pre; font-family: monospace\">3 5\n",
              "</span>"
            ]
          },
          "execution_count": 54,
          "metadata": {},
          "output_type": "execute_result"
        }
      ],
      "source": [
        "3 6\u230a4 5"
      ]
    },
    {
      "cell_type": "markdown",
      "metadata": {},
      "source": [
        "An even more complex example, from the end of the subsection on the *Residue* (`|`) primitive function:"
      ]
    },
    {
      "cell_type": "code",
      "execution_count": 55,
      "metadata": {},
      "outputs": [
        {
          "data": {
            "text/html": [
              "<span style=\"white-space:pre; font-family: monospace\">1\n",
              "</span>"
            ]
          },
          "execution_count": 55,
          "metadata": {},
          "output_type": "execute_result"
        }
      ],
      "source": [
        "(X|Y)\u2261Y-X\u00d7\u230aY\u00f7X"
      ]
    },
    {
      "cell_type": "markdown",
      "metadata": {},
      "source": [
        "Notice that in the example above we still kept a set of parentheses around `X|Y`, because we want `\u2261` to compare `X|Y` with `Y-X\u00d7\u230aY\u00f7X`. To get rid of those parentheses one would need to introduce an intermediate variable, for example like so:"
      ]
    },
    {
      "cell_type": "code",
      "execution_count": 56,
      "metadata": {},
      "outputs": [
        {
          "data": {
            "text/html": [
              "<span style=\"white-space:pre; font-family: monospace\">1\n",
              "</span>"
            ]
          },
          "execution_count": 56,
          "metadata": {},
          "output_type": "execute_result"
        }
      ],
      "source": [
        "R \u2190 X|Y\n",
        "R\u2261Y-X\u00d7\u230aY\u00f7X"
      ]
    },
    {
      "cell_type": "markdown",
      "metadata": {},
      "source": [
        "```{admonition} Warning \n",
        ":class: warning\n",
        "In the beginning you may encounter some surprises. For example, if `V` is a vector, `1+\u2374V` is different from `\u2374V+1`. Let us see why, with the following vector:\n",
        "```\n"
      ]
    },
    {
      "cell_type": "code",
      "execution_count": 57,
      "metadata": {},
      "outputs": [],
      "source": [
        "V \u2190 5 2 7"
      ]
    },
    {
      "cell_type": "markdown",
      "metadata": {},
      "source": [
        "The value of"
      ]
    },
    {
      "cell_type": "code",
      "execution_count": 58,
      "metadata": {
        "scrolled": true
      },
      "outputs": [
        {
          "data": {
            "text/html": [
              "<span style=\"white-space:pre; font-family: monospace\">4\n",
              "</span>"
            ]
          },
          "execution_count": 58,
          "metadata": {},
          "output_type": "execute_result"
        }
      ],
      "source": [
        "1+\u2374V"
      ]
    },
    {
      "cell_type": "markdown",
      "metadata": {},
      "source": [
        "is"
      ]
    },
    {
      "cell_type": "code",
      "execution_count": 59,
      "metadata": {},
      "outputs": [
        {
          "data": {
            "text/html": [
              "<span style=\"white-space:pre; font-family: monospace\">3\n",
              "</span>"
            ]
          },
          "execution_count": 59,
          "metadata": {},
          "output_type": "execute_result"
        }
      ],
      "source": [
        "\u2374V"
      ]
    },
    {
      "cell_type": "markdown",
      "metadata": {},
      "source": [
        "followed by"
      ]
    },
    {
      "cell_type": "code",
      "execution_count": 60,
      "metadata": {},
      "outputs": [
        {
          "data": {
            "text/html": [
              "<span style=\"white-space:pre; font-family: monospace\">4\n",
              "</span>"
            ]
          },
          "execution_count": 60,
          "metadata": {},
          "output_type": "execute_result"
        }
      ],
      "source": [
        "1+3"
      ]
    },
    {
      "cell_type": "markdown",
      "metadata": {},
      "source": [
        "Whereas the value of"
      ]
    },
    {
      "cell_type": "code",
      "execution_count": 61,
      "metadata": {},
      "outputs": [
        {
          "data": {
            "text/html": [
              "<span style=\"white-space:pre; font-family: monospace\">3\n",
              "</span>"
            ]
          },
          "execution_count": 61,
          "metadata": {},
          "output_type": "execute_result"
        }
      ],
      "source": [
        "\u2374V+1"
      ]
    },
    {
      "cell_type": "markdown",
      "metadata": {},
      "source": [
        "is"
      ]
    },
    {
      "cell_type": "code",
      "execution_count": 62,
      "metadata": {},
      "outputs": [
        {
          "data": {
            "text/html": [
              "<span style=\"white-space:pre; font-family: monospace\">6 3 8\n",
              "</span>"
            ]
          },
          "execution_count": 62,
          "metadata": {},
          "output_type": "execute_result"
        }
      ],
      "source": [
        "V+1"
      ]
    },
    {
      "cell_type": "markdown",
      "metadata": {},
      "source": [
        "followed by"
      ]
    },
    {
      "cell_type": "code",
      "execution_count": 63,
      "metadata": {},
      "outputs": [
        {
          "data": {
            "text/html": [
              "<span style=\"white-space:pre; font-family: monospace\">3\n",
              "</span>"
            ]
          },
          "execution_count": 63,
          "metadata": {},
          "output_type": "execute_result"
        }
      ],
      "source": [
        "\u23746 3 8"
      ]
    },
    {
      "cell_type": "markdown",
      "metadata": {},
      "source": [
        "which gives a different result.\n",
        "\n",
        "This may be completely new to people who have experience with other programming languages, and is one of the reasons why we **recommend** that you do all of the exercises at the end of this chapter. With a little practice, you will soon find this simple rule very natural, and you will consider it a relief that you do not have to remember complex rules for function precedence."
      ]
    },
    {
      "cell_type": "markdown",
      "metadata": {},
      "source": [
        "## Monadic Scalar Functions\n",
        "\n",
        "Most of the symbols we have encountered so far also have a monadic definition; let's look at them now.\n",
        "\n",
        "### The Four Basic Symbols\n",
        "\n",
        "We will begin with the four basic symbols: `+` `-` `\u00d7` `\u00f7`\n",
        "\n",
        "#### Conjugate\n",
        "\n",
        "The Plus sign used monadically is the ***Conjugate*** function. It returns the ***complex conjugate*** of its arguments:"
      ]
    },
    {
      "cell_type": "code",
      "execution_count": 64,
      "metadata": {},
      "outputs": [
        {
          "data": {
            "text/html": [
              "<span style=\"white-space:pre; font-family: monospace\">0J\u00af1\n",
              "</span>"
            ]
          },
          "execution_count": 64,
          "metadata": {},
          "output_type": "execute_result"
        }
      ],
      "source": [
        "+ 0J1"
      ]
    },
    {
      "cell_type": "markdown",
      "metadata": {},
      "source": [
        "When the numbers have no complex part, the function acts as the identity function, as the complex conjugate of a real number is the number itself:"
      ]
    },
    {
      "cell_type": "code",
      "execution_count": 65,
      "metadata": {},
      "outputs": [
        {
          "data": {
            "text/html": [
              "<span style=\"white-space:pre; font-family: monospace\">1 2 3 \u00af3 6.5346 56\n",
              "</span>"
            ]
          },
          "execution_count": 65,
          "metadata": {},
          "output_type": "execute_result"
        }
      ],
      "source": [
        "+ 1 2 3 \u00af3 6.5346 56J0"
      ]
    },
    {
      "cell_type": "markdown",
      "metadata": {},
      "source": [
        "For compatibility reasons, monadic `+` also acts as the identity function if the argument is a character:"
      ]
    },
    {
      "cell_type": "code",
      "execution_count": 66,
      "metadata": {},
      "outputs": [
        {
          "data": {
            "text/html": [
              "<span style=\"white-space:pre; font-family: monospace\">a\n",
              "</span>"
            ]
          },
          "execution_count": 66,
          "metadata": {},
          "output_type": "execute_result"
        }
      ],
      "source": [
        "+ 'a'"
      ]
    },
    {
      "cell_type": "markdown",
      "metadata": {},
      "source": [
        "Because it is a scalar function, it naturally works with mixed arrays:"
      ]
    },
    {
      "cell_type": "code",
      "execution_count": 67,
      "metadata": {},
      "outputs": [
        {
          "data": {
            "text/html": [
              "<span style=\"white-space:pre; font-family: monospace\">B 3 a \u00af3 0J\u00af1 g 4J4\n",
              "</span>"
            ]
          },
          "execution_count": 67,
          "metadata": {},
          "output_type": "execute_result"
        }
      ],
      "source": [
        "+ 'B' 3 'a' \u00af3 0J1 'g' 4J\u00af4"
      ]
    },
    {
      "cell_type": "markdown",
      "metadata": {},
      "source": [
        "#### Negative\n",
        "\n",
        "The Minus sign is the ***Negative*** function. It returns the negation of its argument:"
      ]
    },
    {
      "cell_type": "code",
      "execution_count": 68,
      "metadata": {},
      "outputs": [
        {
          "data": {
            "text/html": [
              "<span style=\"white-space:pre; font-family: monospace\">\u00af19 \u00af11 33 0 17\n",
              "</span>"
            ]
          },
          "execution_count": 68,
          "metadata": {},
          "output_type": "execute_result"
        }
      ],
      "source": [
        "- 19 11 \u00af33 0 \u00af17"
      ]
    },
    {
      "cell_type": "markdown",
      "metadata": {},
      "source": [
        "#### Signum\n",
        "\n",
        "The Multiply symbol used monadically is the ***Signum*** function. It tells us the sign of its argument, using the following convention:\n",
        "\n",
        "| Result | Value |\n",
        "| -: | :- |\n",
        "| `1` | The value is positive |\n",
        "| `0` | The value is zero |\n",
        "| `\u00af1` | The value is negative |\n",
        "\n",
        "Some examples follow:"
      ]
    },
    {
      "cell_type": "code",
      "execution_count": 69,
      "metadata": {},
      "outputs": [
        {
          "data": {
            "text/html": [
              "<span style=\"white-space:pre; font-family: monospace\">1 1 \u00af1 0 \u00af1\n",
              "</span>"
            ]
          },
          "execution_count": 69,
          "metadata": {},
          "output_type": "execute_result"
        }
      ],
      "source": [
        "\u00d7 19 11 \u00af33 0 \u00af17"
      ]
    },
    {
      "cell_type": "markdown",
      "metadata": {},
      "source": [
        "#### Reciprocal\n",
        "\n",
        "No surprise: the Divide symbol gives the ***Reciprocal*** or ***Inverse*** of its argument:"
      ]
    },
    {
      "cell_type": "code",
      "execution_count": 70,
      "metadata": {},
      "outputs": [
        {
          "data": {
            "text/html": [
              "<span style=\"white-space:pre; font-family: monospace\">0.5 \u00af0.25 3.33333 4 \u00af0.142857\n",
              "</span>"
            ]
          },
          "execution_count": 70,
          "metadata": {},
          "output_type": "execute_result"
        }
      ],
      "source": [
        "\u00f7 2 \u00af4 .3 .25 \u00af7"
      ]
    },
    {
      "cell_type": "markdown",
      "metadata": {},
      "source": [
        "### Other Scalar Monadic Functions\n",
        "\n",
        "#### Exponential\n",
        "\n",
        "The expression `*N` gives $e^N$, where $e$ is the base of the natural logarithm, approximately $2.71828$:"
      ]
    },
    {
      "cell_type": "code",
      "execution_count": 71,
      "metadata": {},
      "outputs": [
        {
          "data": {
            "text/html": [
              "<span style=\"white-space:pre; font-family: monospace\">2.71828\n",
              "</span>"
            ]
          },
          "execution_count": 71,
          "metadata": {},
          "output_type": "execute_result"
        }
      ],
      "source": [
        "*1"
      ]
    },
    {
      "cell_type": "code",
      "execution_count": 72,
      "metadata": {},
      "outputs": [
        {
          "data": {
            "text/html": [
              "<span style=\"white-space:pre; font-family: monospace\">2.71828 1 20.0855 0.367879\n",
              "</span>"
            ]
          },
          "execution_count": 72,
          "metadata": {},
          "output_type": "execute_result"
        }
      ],
      "source": [
        "* 1 0 3 \u00af1"
      ]
    },
    {
      "cell_type": "markdown",
      "metadata": {},
      "source": [
        "#### Floor and Ceiling\n",
        "\n",
        "***Floor*** (`\u230a`) rounds its argument down, while ***Ceiling*** (`\u2308`) rounds its argument up, to the nearest smaller or larger integer value, respectively:"
      ]
    },
    {
      "cell_type": "code",
      "execution_count": 73,
      "metadata": {},
      "outputs": [
        {
          "data": {
            "text/html": [
              "<span style=\"white-space:pre; font-family: monospace\">51 48 0 12 \u00af74 \u00af10\n",
              "</span>"
            ]
          },
          "execution_count": 73,
          "metadata": {},
          "output_type": "execute_result"
        }
      ],
      "source": [
        "V \u2190 51.384 48.962 0 12.5 \u00af73.27 \u00af9.99\n",
        "\u230aV"
      ]
    },
    {
      "cell_type": "code",
      "execution_count": 74,
      "metadata": {},
      "outputs": [
        {
          "data": {
            "text/html": [
              "<span style=\"white-space:pre; font-family: monospace\">52 49 0 13 \u00af73 \u00af9\n",
              "</span>"
            ]
          },
          "execution_count": 74,
          "metadata": {},
          "output_type": "execute_result"
        }
      ],
      "source": [
        "\u2308V"
      ]
    },
    {
      "cell_type": "markdown",
      "metadata": {},
      "source": [
        "To round a value to the nearest integer a commonly used method is to add 0.5 and then take the *Floor*, or alternatively, to subtract 0.5 and take the *Ceiling*, as shown here:"
      ]
    },
    {
      "cell_type": "code",
      "execution_count": 75,
      "metadata": {},
      "outputs": [
        {
          "data": {
            "text/html": [
              "<span style=\"white-space:pre; font-family: monospace\">51 49 0 13 \u00af73 \u00af10\n",
              "</span>"
            ]
          },
          "execution_count": 75,
          "metadata": {},
          "output_type": "execute_result"
        }
      ],
      "source": [
        "\u230aV+0.5"
      ]
    },
    {
      "cell_type": "code",
      "execution_count": 76,
      "metadata": {},
      "outputs": [
        {
          "data": {
            "text/html": [
              "<span style=\"white-space:pre; font-family: monospace\">51 49 0 12 \u00af73 \u00af10\n",
              "</span>"
            ]
          },
          "execution_count": 76,
          "metadata": {},
          "output_type": "execute_result"
        }
      ],
      "source": [
        "\u2308V-0.5"
      ]
    },
    {
      "cell_type": "markdown",
      "metadata": {},
      "source": [
        "The results are the same, except when the decimal part of a number if 0.5. For example, 12.5 above gets rounded to 13 or 12 depending on which method is used."
      ]
    },
    {
      "cell_type": "markdown",
      "metadata": {},
      "source": [
        "#### Magnitude (Absolute Value)\n",
        "\n",
        "The monadic stile represents the absolute (unsigned) value of its argument, as shown:"
      ]
    },
    {
      "cell_type": "code",
      "execution_count": 77,
      "metadata": {},
      "outputs": [
        {
          "data": {
            "text/html": [
              "<span style=\"white-space:pre; font-family: monospace\">29.2 49.3 14.8 0 37.2\n",
              "</span>"
            ]
          },
          "execution_count": 77,
          "metadata": {},
          "output_type": "execute_result"
        }
      ],
      "source": [
        "V \u2190 29.2 49.3 \u00af14.8 0 \u00af37.2\n",
        "|V"
      ]
    },
    {
      "cell_type": "markdown",
      "metadata": {},
      "source": [
        "Monadic `\u00d7` and monadic `|` are related:"
      ]
    },
    {
      "cell_type": "code",
      "execution_count": 78,
      "metadata": {},
      "outputs": [
        {
          "data": {
            "text/html": [
              "<span style=\"white-space:pre; font-family: monospace\">1\n",
              "</span>"
            ]
          },
          "execution_count": 78,
          "metadata": {},
          "output_type": "execute_result"
        }
      ],
      "source": [
        "(|V) \u2261 (V\u00d7\u00d7V)"
      ]
    },
    {
      "cell_type": "markdown",
      "metadata": {},
      "source": [
        "The above equality, which holds for any numeric array `V`, tells us that the magnitude of a number is equal to the number multiplied by its signum."
      ]
    },
    {
      "cell_type": "markdown",
      "metadata": {},
      "source": [
        "## Left and Right Tacks\n",
        "\n",
        "### Same\n",
        "\n",
        "APL also includes two primitive functions whose monadic name is the same: ***Same***. These two primitives are the ***Right Tack*** (`\u22a2`) and the ***Left Tack*** (`\u22a3`), obtained respectively with <kbd>APL</kbd>+<kbd>\\\\</kbd> and <kbd>APL</kbd>+<kbd>Shift</kbd>+<kbd>\\\\</kbd>.\n",
        "\n",
        "Their monadic name is *Same* because they act as true identity functions, returning their argument completely unchanged:"
      ]
    },
    {
      "cell_type": "code",
      "execution_count": 79,
      "metadata": {},
      "outputs": [
        {
          "data": {
            "text/html": [
              "<span style=\"white-space:pre; font-family: monospace\">1 2 3\n",
              "</span>"
            ]
          },
          "execution_count": 79,
          "metadata": {},
          "output_type": "execute_result"
        }
      ],
      "source": [
        "\u22a2 1 2 3"
      ]
    },
    {
      "cell_type": "code",
      "execution_count": 80,
      "metadata": {},
      "outputs": [
        {
          "data": {
            "text/html": [
              "<span style=\"white-space:pre; font-family: monospace\">Banana\n",
              "</span>"
            ]
          },
          "execution_count": 80,
          "metadata": {},
          "output_type": "execute_result"
        }
      ],
      "source": [
        "\u22a2 'Banana'"
      ]
    },
    {
      "cell_type": "code",
      "execution_count": 81,
      "metadata": {
        "scrolled": true
      },
      "outputs": [
        {
          "data": {
            "text/html": [
              "<span style=\"white-space:pre; font-family: monospace\">\u250c\u2500\u2500\u2500\u252c\u2500\u252c\u2500\u2500\u2500\u2500\u2500\u2500\u2500\u2500\u2500\u252c\u2500\u2500\u2500\u2500\u2500\u2500\u2500\u2500\u2500\u2500\u2500\u2500\u2500\u2500\u2500\u2500\u2500\u2510\n",
              "\u2502Bag\u25023\u2502\u250c\u2500\u252c\u2500\u252c\u2500\u2500\u2500\u2510\u2502\u250c\u2500\u2500\u2500\u252c\u2500\u2500\u2500\u2500\u2500\u2500\u2500\u252c\u2500\u2500\u2500\u2510\u2502\n",
              "\u2502   \u2502 \u2502\u25021\u25022\u2502Bag\u2502\u2502\u2502Bag\u2502\u250c\u2500\u2500\u2500\u252c\u2500\u2510\u25021 2\u2502\u2502\n",
              "\u2502   \u2502 \u2502\u2514\u2500\u2534\u2500\u2534\u2500\u2500\u2500\u2518\u2502\u2502   \u2502\u2502Bag\u25023\u2502\u25023 4\u2502\u2502\n",
              "\u2502   \u2502 \u2502         \u2502\u2502   \u2502\u2514\u2500\u2500\u2500\u2534\u2500\u2518\u2502   \u2502\u2502\n",
              "\u2502   \u2502 \u2502         \u2502\u2514\u2500\u2500\u2500\u2534\u2500\u2500\u2500\u2500\u2500\u2500\u2500\u2534\u2500\u2500\u2500\u2518\u2502\n",
              "\u2514\u2500\u2500\u2500\u2534\u2500\u2534\u2500\u2500\u2500\u2500\u2500\u2500\u2500\u2500\u2500\u2534\u2500\u2500\u2500\u2500\u2500\u2500\u2500\u2500\u2500\u2500\u2500\u2500\u2500\u2500\u2500\u2500\u2500\u2518\n",
              "</span>"
            ]
          },
          "execution_count": 81,
          "metadata": {},
          "output_type": "execute_result"
        }
      ],
      "source": [
        "\u22a2 'Bag' 3 (1 2 'Bag') ('Bag' ('Bag' 3) (2 2\u23741 2 3 4))"
      ]
    },
    {
      "cell_type": "markdown",
      "metadata": {},
      "source": [
        "Exactly the same thing happens (i.e. nothing happens) if you replace all the `\u22a2` above with `\u22a3`, for example:"
      ]
    },
    {
      "cell_type": "code",
      "execution_count": 82,
      "metadata": {
        "scrolled": true
      },
      "outputs": [
        {
          "data": {
            "text/html": [
              "<span style=\"white-space:pre; font-family: monospace\">\u250c\u2500\u2500\u2500\u252c\u2500\u252c\u2500\u2500\u2500\u2500\u2500\u2500\u2500\u2500\u2500\u252c\u2500\u2500\u2500\u2500\u2500\u2500\u2500\u2500\u2500\u2500\u2500\u2500\u2500\u2500\u2500\u2500\u2500\u2510\n",
              "\u2502Bag\u25023\u2502\u250c\u2500\u252c\u2500\u252c\u2500\u2500\u2500\u2510\u2502\u250c\u2500\u2500\u2500\u252c\u2500\u2500\u2500\u2500\u2500\u2500\u2500\u252c\u2500\u2500\u2500\u2510\u2502\n",
              "\u2502   \u2502 \u2502\u25021\u25022\u2502Bag\u2502\u2502\u2502Bag\u2502\u250c\u2500\u2500\u2500\u252c\u2500\u2510\u25021 2\u2502\u2502\n",
              "\u2502   \u2502 \u2502\u2514\u2500\u2534\u2500\u2534\u2500\u2500\u2500\u2518\u2502\u2502   \u2502\u2502Bag\u25023\u2502\u25023 4\u2502\u2502\n",
              "\u2502   \u2502 \u2502         \u2502\u2502   \u2502\u2514\u2500\u2500\u2500\u2534\u2500\u2518\u2502   \u2502\u2502\n",
              "\u2502   \u2502 \u2502         \u2502\u2514\u2500\u2500\u2500\u2534\u2500\u2500\u2500\u2500\u2500\u2500\u2500\u2534\u2500\u2500\u2500\u2518\u2502\n",
              "\u2514\u2500\u2500\u2500\u2534\u2500\u2534\u2500\u2500\u2500\u2500\u2500\u2500\u2500\u2500\u2500\u2534\u2500\u2500\u2500\u2500\u2500\u2500\u2500\u2500\u2500\u2500\u2500\u2500\u2500\u2500\u2500\u2500\u2500\u2518\n",
              "</span>"
            ]
          },
          "execution_count": 82,
          "metadata": {},
          "output_type": "execute_result"
        }
      ],
      "source": [
        "\u22a3 'Bag' 3 (1 2 'Bag') ('Bag' ('Bag' 3) (2 2\u23741 2 3 4))"
      ]
    },
    {
      "cell_type": "markdown",
      "metadata": {},
      "source": [
        "These two functions may look useless, but they are not. For one, a neat little trick we can do with them is to display a value of a variable that we just assigned; for example, compare the two code cells below:"
      ]
    },
    {
      "cell_type": "code",
      "execution_count": 83,
      "metadata": {},
      "outputs": [],
      "source": [
        "Matrix \u2190 2 3\u23741 2 3 4 5 6        \u235d Nothing gets displayed explicitly"
      ]
    },
    {
      "cell_type": "code",
      "execution_count": 84,
      "metadata": {},
      "outputs": [
        {
          "data": {
            "text/html": [
              "<span style=\"white-space:pre; font-family: monospace\">1 2 3\n",
              "4 5 6\n",
              "</span>"
            ]
          },
          "execution_count": 84,
          "metadata": {},
          "output_type": "execute_result"
        }
      ],
      "source": [
        "\u22a2Matrix\u2190 2 3\u23741 2 3 4 5 6        \u235d The value of Matrix is displayed "
      ]
    },
    {
      "cell_type": "code",
      "execution_count": 85,
      "metadata": {},
      "outputs": [
        {
          "data": {
            "text/html": [
              "<span style=\"white-space:pre; font-family: monospace\">1 2 3\n",
              "4 5 6\n",
              "</span>"
            ]
          },
          "execution_count": 85,
          "metadata": {},
          "output_type": "execute_result"
        }
      ],
      "source": [
        "\u22a3Matrix\u2190 2 3\u23741 2 3 4 5 6        \u235d The value of Matrix is displayed"
      ]
    },
    {
      "cell_type": "markdown",
      "metadata": {},
      "source": [
        "These functions become even more useful if we take a look at their dyadic usages (explained next), combined with the power of operators or tacit programming (explained in detail in future chapters)."
      ]
    },
    {
      "cell_type": "markdown",
      "metadata": {},
      "source": [
        "### Dyadic Usage\n",
        "\n",
        "The *Left* and *Right Tacks* differ in their dyadic usage, of course, otherwise there would be no point in having two primitive functions that behaved in exactly the same manner.\n",
        "\n",
        "When used dyadically, the *Left Tack* returns its left argument and the *Right Tack* returns its right argument. If you ever forget which dyadic tack returns what, just remember that each tack returns the argument to which it is pointing:"
      ]
    },
    {
      "cell_type": "code",
      "execution_count": 86,
      "metadata": {},
      "outputs": [
        {
          "data": {
            "text/html": [
              "<span style=\"white-space:pre; font-family: monospace\">1 2 3\n",
              "</span>"
            ]
          },
          "execution_count": 86,
          "metadata": {},
          "output_type": "execute_result"
        }
      ],
      "source": [
        "1 2 3 \u22a3 'Bananas'"
      ]
    },
    {
      "cell_type": "code",
      "execution_count": 87,
      "metadata": {
        "scrolled": true
      },
      "outputs": [
        {
          "data": {
            "text/html": [
              "<span style=\"white-space:pre; font-family: monospace\">Bananas\n",
              "</span>"
            ]
          },
          "execution_count": 87,
          "metadata": {},
          "output_type": "execute_result"
        }
      ],
      "source": [
        "1 2 3 \u22a2 'Bananas'"
      ]
    },
    {
      "cell_type": "markdown",
      "metadata": {},
      "source": [
        "## Processing Binary Data\n",
        "\n",
        "```{admonition} Remark \n",
        ":class: tip\n",
        "Binary values are most often produced by the comparison functions that we have already seen. However, the result of *any* function (such as addition or subtraction) which is composed only of 1s and 0s can be used as a binary (or Boolean) value, and may be used as an argument to any of the special primitive functions that apply to Boolean values.\n",
        "```\n",
        "\n",
        "Among the various ways of producing binary results, *Membership* appears to be one of the most interesting tools."
      ]
    },
    {
      "cell_type": "markdown",
      "metadata": {},
      "source": [
        "### Membership\n",
        "\n",
        " - ***Membership*** tells whether the items of its left argument are present (`1`) or not (`0`) in the right argument, regardless of their position in it;\n",
        " - it accepts arguments of any shape or type;\n",
        " - the result produced always has the same shape as the **left** argument.\n",
        " \n",
        "Some examples will help you understand the function:"
      ]
    },
    {
      "cell_type": "code",
      "execution_count": 88,
      "metadata": {},
      "outputs": [
        {
          "data": {
            "text/html": [
              "<span style=\"white-space:pre; font-family: monospace\">1 0 0 1\n",
              "</span>"
            ]
          },
          "execution_count": 88,
          "metadata": {},
          "output_type": "execute_result"
        }
      ],
      "source": [
        "23 14 41 19 \u220a 17 88 19 50 51 52 23 40"
      ]
    },
    {
      "cell_type": "markdown",
      "metadata": {},
      "source": [
        "This means that 23 and 19 appear somewhere in the rightmost vector, whereas 14 and 41 do not. The left argument has 4 items, and so has the result.\n",
        "\n",
        "The *Membership* function can operate on arguments of completely different shape. For example, it is possible to detect the presence of each item of a vector in a matrix, or vice versa.\n",
        "\n",
        "In an earlier chapter we used a matrix containing the first 6 months of the year:"
      ]
    },
    {
      "cell_type": "code",
      "execution_count": 89,
      "metadata": {},
      "outputs": [
        {
          "data": {
            "text/html": [
              "<span style=\"white-space:pre; font-family: monospace\">January \n",
              "February\n",
              "March   \n",
              "April   \n",
              "May     \n",
              "June    \n",
              "</span>"
            ]
          },
          "execution_count": 89,
          "metadata": {},
          "output_type": "execute_result"
        }
      ],
      "source": [
        "\u22a2MonMat \u2190 6 8\u2374'January FebruaryMarch   April   May     June    '"
      ]
    },
    {
      "cell_type": "markdown",
      "metadata": {},
      "source": [
        "We can ask if certain letters are present in this matrix:"
      ]
    },
    {
      "cell_type": "code",
      "execution_count": 90,
      "metadata": {},
      "outputs": [
        {
          "data": {
            "text/html": [
              "<span style=\"white-space:pre; font-family: monospace\">0 1 1 1 0 1 1 1\n",
              "</span>"
            ]
          },
          "execution_count": 90,
          "metadata": {},
          "output_type": "execute_result"
        }
      ],
      "source": [
        "'December' \u220a MonMat"
      ]
    },
    {
      "cell_type": "markdown",
      "metadata": {},
      "source": [
        "The result shows that all letters of the word \"December\" appear in `MonMat`, except \"D\" and lowercase \"m\" (which should not be confused with the uppercase \"M\" or March and May).\n",
        "\n",
        "In this case we used a vector left argument and a matrix right argument. Let's try it the other way around. The following expression tells us which letters in the matrix `MonMat` appear in the word \"Century\":"
      ]
    },
    {
      "cell_type": "code",
      "execution_count": 91,
      "metadata": {},
      "outputs": [
        {
          "data": {
            "text/html": [
              "<span style=\"white-space:pre; font-family: monospace\">0 0 1 1 0 1 1 0\n",
              "0 1 0 1 1 0 1 1\n",
              "0 0 1 0 0 0 0 0\n",
              "0 0 1 0 0 0 0 0\n",
              "0 0 1 0 0 0 0 0\n",
              "0 1 1 1 0 0 0 0\n",
              "</span>"
            ]
          },
          "execution_count": 91,
          "metadata": {},
          "output_type": "execute_result"
        }
      ],
      "source": [
        "MonMat \u220a 'Century'"
      ]
    },
    {
      "cell_type": "markdown",
      "metadata": {},
      "source": [
        "As you might imagine, any comparison between numbers and letters gives zero:"
      ]
    },
    {
      "cell_type": "code",
      "execution_count": 92,
      "metadata": {},
      "outputs": [
        {
          "data": {
            "text/html": [
              "<span style=\"white-space:pre; font-family: monospace\">0\n",
              "</span>"
            ]
          },
          "execution_count": 92,
          "metadata": {},
          "output_type": "execute_result"
        }
      ],
      "source": [
        "1952 \u220a '1952'"
      ]
    },
    {
      "cell_type": "code",
      "execution_count": 93,
      "metadata": {},
      "outputs": [
        {
          "data": {
            "text/html": [
              "<span style=\"white-space:pre; font-family: monospace\">0 0 0 0\n",
              "</span>"
            ]
          },
          "execution_count": 93,
          "metadata": {},
          "output_type": "execute_result"
        }
      ],
      "source": [
        "'1952' \u220a 1952"
      ]
    },
    {
      "cell_type": "markdown",
      "metadata": {},
      "source": [
        "Remember that `'1952'` is a vector of 4 letters, none of which can be found in the number 1952.\n",
        "\n",
        "We **recommend** that you do exercise 22 to discover all possibilities of *Membership*."
      ]
    },
    {
      "cell_type": "markdown",
      "metadata": {},
      "source": [
        "### Binary Algebra\n",
        "\n",
        "Binary values can be processed using half a dozen specialised primitive functions, the main ones being ***And***, ***Or***, ***Xor*** and ***Not***. Additional functions will be described in the *Specialist's Section*.\n",
        "\n",
        "The function ***And*** is represented by the symbol `\u2227` (<kbd>APL</kbd>+<kbd>0</kbd>), as it is in mathematics. It returns the result 1 if the left ***and*** the right arguments are both equal to 1:"
      ]
    },
    {
      "cell_type": "code",
      "execution_count": 94,
      "metadata": {},
      "outputs": [
        {
          "data": {
            "text/html": [
              "<span style=\"white-space:pre; font-family: monospace\">0\n",
              "</span>"
            ]
          },
          "execution_count": 94,
          "metadata": {},
          "output_type": "execute_result"
        }
      ],
      "source": [
        "0 \u2227 0"
      ]
    },
    {
      "cell_type": "code",
      "execution_count": 95,
      "metadata": {},
      "outputs": [
        {
          "data": {
            "text/html": [
              "<span style=\"white-space:pre; font-family: monospace\">0\n",
              "</span>"
            ]
          },
          "execution_count": 95,
          "metadata": {},
          "output_type": "execute_result"
        }
      ],
      "source": [
        "0 \u2227 1"
      ]
    },
    {
      "cell_type": "code",
      "execution_count": 96,
      "metadata": {},
      "outputs": [
        {
          "data": {
            "text/html": [
              "<span style=\"white-space:pre; font-family: monospace\">0\n",
              "</span>"
            ]
          },
          "execution_count": 96,
          "metadata": {},
          "output_type": "execute_result"
        }
      ],
      "source": [
        "1 \u2227 0"
      ]
    },
    {
      "cell_type": "code",
      "execution_count": 97,
      "metadata": {},
      "outputs": [
        {
          "data": {
            "text/html": [
              "<span style=\"white-space:pre; font-family: monospace\">1\n",
              "</span>"
            ]
          },
          "execution_count": 97,
          "metadata": {},
          "output_type": "execute_result"
        }
      ],
      "source": [
        "1 \u2227 1"
      ]
    },
    {
      "cell_type": "markdown",
      "metadata": {},
      "source": [
        "We can condense the four expressions above into a single one, given that `\u2227` is also a scalar function:"
      ]
    },
    {
      "cell_type": "code",
      "execution_count": 98,
      "metadata": {},
      "outputs": [
        {
          "data": {
            "text/html": [
              "<span style=\"white-space:pre; font-family: monospace\">0 0 0 1\n",
              "</span>"
            ]
          },
          "execution_count": 98,
          "metadata": {},
          "output_type": "execute_result"
        }
      ],
      "source": [
        "0 0 1 1 \u2227 0 1 0 1"
      ]
    },
    {
      "cell_type": "markdown",
      "metadata": {},
      "source": [
        "The function ***Or*** is represented by the symbol `\u2228` (<kbd>APL</kbd>+<kbd>9</kbd>), as it is in mathematics. It returns the result 1 if the left ***or*** right argument is equal to 1.\n",
        "\n",
        "The four possible cases are shown in the following expression:"
      ]
    },
    {
      "cell_type": "code",
      "execution_count": 99,
      "metadata": {},
      "outputs": [
        {
          "data": {
            "text/html": [
              "<span style=\"white-space:pre; font-family: monospace\">0 1 1 1\n",
              "</span>"
            ]
          },
          "execution_count": 99,
          "metadata": {},
          "output_type": "execute_result"
        }
      ],
      "source": [
        "0 0 1 1 \u2228 0 1 0 1"
      ]
    },
    {
      "cell_type": "markdown",
      "metadata": {},
      "source": [
        "***Xor*** is an acronym for ***eXclusive Or***. It returns the result 1 if one of the arguments is equal to 1, but not if both are equal to 1.\n",
        "\n",
        "In automation, the same function is generally represented by a circled Plus sign, like $\\oplus$.\n",
        "\n",
        "APL does not need a different symbol for the function, because ***Xor*** is the same as on of the comparison functions we have already met: `\u2260`"
      ]
    },
    {
      "cell_type": "code",
      "execution_count": 100,
      "metadata": {},
      "outputs": [
        {
          "data": {
            "text/html": [
              "<span style=\"white-space:pre; font-family: monospace\">0 1 1 0\n",
              "</span>"
            ]
          },
          "execution_count": 100,
          "metadata": {},
          "output_type": "execute_result"
        }
      ],
      "source": [
        "0 0 1 1 \u2260 0 1 0 1"
      ]
    },
    {
      "cell_type": "markdown",
      "metadata": {},
      "source": [
        "The last function is the monadic function ***Not***. Represented by the *Tilde* `~` (<kbd>APL</kbd>+<kbd>T</kbd>), it converts 0 into 1 and 1 into 0:"
      ]
    },
    {
      "cell_type": "code",
      "execution_count": 101,
      "metadata": {},
      "outputs": [
        {
          "data": {
            "text/html": [
              "<span style=\"white-space:pre; font-family: monospace\">1 0 1 1 1 0 0\n",
              "</span>"
            ]
          },
          "execution_count": 101,
          "metadata": {},
          "output_type": "execute_result"
        }
      ],
      "source": [
        "~ 0 1 0 0 0 1 1"
      ]
    },
    {
      "cell_type": "markdown",
      "metadata": {},
      "source": [
        "```{admonition} Remark \n",
        ":class: tip\n",
        "- ***And***, ***Or*** and ***Xor*** are scalar dyadic functions;\n",
        "- ***Not*** is a scalar monadic function;\n",
        "- ***Membership*** is a dyadic function, but it is not a scalar function.\n",
        "```\n",
        "\n",
        "All these functions can be applied to binary data of any shape. For example, let us see if any of those items of `Forecast`, which are greater than 350 thousand Euros, have been exceeded by `Actual` sales:"
      ]
    },
    {
      "cell_type": "code",
      "execution_count": 102,
      "metadata": {},
      "outputs": [
        {
          "data": {
            "text/html": [
              "<span style=\"white-space:pre; font-family: monospace\">0 0 0 1 0 0\n",
              "0 1 0 0 0 0\n",
              "0 0 0 0 1 1\n",
              "0 1 0 0 0 0\n",
              "</span>"
            ]
          },
          "execution_count": 102,
          "metadata": {},
          "output_type": "execute_result"
        }
      ],
      "source": [
        "\u22a2bin \u2190 (Forecast>350) \u2227 (Actual>Forecast)"
      ]
    },
    {
      "cell_type": "markdown",
      "metadata": {},
      "source": [
        "A side note: the parentheses around the rightmost expression `(Actual>Forecast)` are not strictly needed. However, they do no harm either, so we have added them here to help you read the expression, since you may not yet be fully familiar with APL's order of evaluation."
      ]
    },
    {
      "cell_type": "markdown",
      "metadata": {},
      "source": [
        "### Without\n",
        "\n",
        "Given a vector `A` and any array `B`, the expression `A~B` returns a vector equal to `A`, but in which all items of `B` have been removed. The size and shape of `B` is immaterial, only the individual items of `B` are used.\n",
        "\n",
        "This function is called ***Without***."
      ]
    },
    {
      "cell_type": "code",
      "execution_count": 103,
      "metadata": {},
      "outputs": [
        {
          "data": {
            "text/html": [
              "<span style=\"white-space:pre; font-family: monospace\">TsWtswm\n",
              "</span>"
            ]
          },
          "execution_count": 103,
          "metadata": {},
          "output_type": "execute_result"
        }
      ],
      "source": [
        "'This Winter is warm' ~ MonMat"
      ]
    },
    {
      "cell_type": "markdown",
      "metadata": {},
      "source": [
        "Notice how the right argument above (`MonMat`) is a matrix."
      ]
    },
    {
      "cell_type": "code",
      "execution_count": 104,
      "metadata": {},
      "outputs": [
        {
          "data": {
            "text/html": [
              "<span style=\"white-space:pre; font-family: monospace\">Cgatulatis\n",
              "</span>"
            ]
          },
          "execution_count": 104,
          "metadata": {},
          "output_type": "execute_result"
        }
      ],
      "source": [
        "'Congratulations' ~ 'ceremony'"
      ]
    },
    {
      "cell_type": "markdown",
      "metadata": {},
      "source": [
        "The uppercase \"C\" is preserved here because it is different from the lowercase \"c\"."
      ]
    },
    {
      "cell_type": "code",
      "execution_count": 105,
      "metadata": {},
      "outputs": [
        {
          "data": {
            "text/html": [
              "<span style=\"white-space:pre; font-family: monospace\">1 2 3\n",
              "4 5 6\n",
              "</span>"
            ]
          },
          "execution_count": 105,
          "metadata": {},
          "output_type": "execute_result"
        }
      ],
      "source": [
        "Matrix"
      ]
    },
    {
      "cell_type": "code",
      "execution_count": 106,
      "metadata": {},
      "outputs": [
        {
          "data": {
            "text/html": [
              "<span style=\"white-space:pre; font-family: monospace\">0 8 10 12\n",
              "</span>"
            ]
          },
          "execution_count": 106,
          "metadata": {},
          "output_type": "execute_result"
        }
      ],
      "source": [
        "0 2 4 6 8 10 12 ~ Matrix"
      ]
    },
    {
      "cell_type": "markdown",
      "metadata": {},
      "source": [
        "Of course, it also works on numbers."
      ]
    },
    {
      "cell_type": "markdown",
      "metadata": {},
      "source": [
        "## Processing Nested Arrays\n",
        "\n",
        "When working with nested arrays, it is important to recognise whether or not you are using a scalar function."
      ]
    },
    {
      "cell_type": "markdown",
      "metadata": {},
      "source": [
        "### Scalar vs. Non-scalar Functions\n",
        "\n",
        "In the \"Data and Variables\" chapter, we set up a nested vector `Children`, which is composed only of numeric items:"
      ]
    },
    {
      "cell_type": "code",
      "execution_count": 107,
      "metadata": {},
      "outputs": [
        {
          "data": {
            "text/html": [
              "<span style=\"white-space:pre; font-family: monospace\">C:\\Program Files\\Dyalog\\Dyalog APL-64 18.0 Unicode\\ws\\DISPLAY.dws saved Wed Jul 15 20:03:16 2020\n",
              "</span>"
            ]
          },
          "execution_count": 107,
          "metadata": {},
          "output_type": "execute_result"
        },
        {
          "data": {
            "text/html": [
              "<span style=\"white-space:pre; font-family: monospace\">\u250c\u2192\u2500\u2500\u2500\u2500\u2500\u2500\u2500\u2500\u2500\u2500\u2500\u2500\u2500\u2500\u2500\u2500\u2500\u2500\u2500\u2500\u2500\u2500\u2500\u2500\u2500\u2500\u2500\u2500\u2500\u2500\u2500\u2500\u2500\u2500\u2500\u2500\u2510\n",
              "\u2502 \u250c\u2192\u2500\u2500\u2510 \u250c\u2192\u2500\u2500\u2500\u2500\u2500\u2500\u2500\u2500\u2500\u2500\u2510 \u250c\u2192\u2500\u2500\u2510   \u250c\u2192\u2500\u2500\u2500\u2500\u2510 \u2502\n",
              "\u2502 \u25026 2\u2502 \u250235 33 26 21\u2502 \u25027 7\u2502 3 \u250219 14\u2502 \u2502\n",
              "\u2502 \u2514~\u2500\u2500\u2518 \u2514~\u2500\u2500\u2500\u2500\u2500\u2500\u2500\u2500\u2500\u2500\u2518 \u2514~\u2500\u2500\u2518   \u2514~\u2500\u2500\u2500\u2500\u2518 \u2502\n",
              "\u2514\u220a\u2500\u2500\u2500\u2500\u2500\u2500\u2500\u2500\u2500\u2500\u2500\u2500\u2500\u2500\u2500\u2500\u2500\u2500\u2500\u2500\u2500\u2500\u2500\u2500\u2500\u2500\u2500\u2500\u2500\u2500\u2500\u2500\u2500\u2500\u2500\u2500\u2518\n",
              "</span>"
            ]
          },
          "execution_count": 107,
          "metadata": {},
          "output_type": "execute_result"
        }
      ],
      "source": [
        ")copy DISPLAY\n",
        "Children \u2190 (6 2) (35 33 26 21) (7 7) 3 (19 14)\n",
        "DISPLAY Children"
      ]
    },
    {
      "cell_type": "markdown",
      "metadata": {},
      "source": [
        "The application of scalar functions is straightforward.\n",
        "\n",
        "For example, when we add 50 to `Children`, the value 50 is added to each of the items of `Children`. As these items are themselves scalars or vectors, adding 50 means adding 50 to each of *their* individual items. This process continues through all levels of nesting, ensuring that 50 gets added to all the individual items of `Children`. The result is therefore structurally identical to `Children`:"
      ]
    },
    {
      "cell_type": "code",
      "execution_count": 108,
      "metadata": {},
      "outputs": [
        {
          "data": {
            "text/html": [
              "<span style=\"white-space:pre; font-family: monospace\">\u250c\u2192\u2500\u2500\u2500\u2500\u2500\u2500\u2500\u2500\u2500\u2500\u2500\u2500\u2500\u2500\u2500\u2500\u2500\u2500\u2500\u2500\u2500\u2500\u2500\u2500\u2500\u2500\u2500\u2500\u2500\u2500\u2500\u2500\u2500\u2500\u2500\u2500\u2500\u2500\u2500\u2500\u2500\u2510\n",
              "\u2502 \u250c\u2192\u2500\u2500\u2500\u2500\u2510 \u250c\u2192\u2500\u2500\u2500\u2500\u2500\u2500\u2500\u2500\u2500\u2500\u2510 \u250c\u2192\u2500\u2500\u2500\u2500\u2510    \u250c\u2192\u2500\u2500\u2500\u2500\u2510 \u2502\n",
              "\u2502 \u250256 52\u2502 \u250285 83 76 71\u2502 \u250257 57\u2502 53 \u250269 64\u2502 \u2502\n",
              "\u2502 \u2514~\u2500\u2500\u2500\u2500\u2518 \u2514~\u2500\u2500\u2500\u2500\u2500\u2500\u2500\u2500\u2500\u2500\u2518 \u2514~\u2500\u2500\u2500\u2500\u2518    \u2514~\u2500\u2500\u2500\u2500\u2518 \u2502\n",
              "\u2514\u220a\u2500\u2500\u2500\u2500\u2500\u2500\u2500\u2500\u2500\u2500\u2500\u2500\u2500\u2500\u2500\u2500\u2500\u2500\u2500\u2500\u2500\u2500\u2500\u2500\u2500\u2500\u2500\u2500\u2500\u2500\u2500\u2500\u2500\u2500\u2500\u2500\u2500\u2500\u2500\u2500\u2500\u2518\n",
              "</span>"
            ]
          },
          "execution_count": 108,
          "metadata": {},
          "output_type": "execute_result"
        }
      ],
      "source": [
        "DISPLAY Children + 50"
      ]
    },
    {
      "cell_type": "markdown",
      "metadata": {},
      "source": [
        "One way of expressing this behaviour is to say that the scalar functions (both the dyadic and monadic ones) permeate down through the structure of nested arrays, until they reach the lowest-level items, and then apply themselves at this level. They are said to be ***pervasive*** functions.\n",
        "\n",
        "Non-scalar functions, like *Membership*, are not pervasive."
      ]
    },
    {
      "cell_type": "code",
      "execution_count": 109,
      "metadata": {},
      "outputs": [
        {
          "data": {
            "text/html": [
              "<span style=\"white-space:pre; font-family: monospace\">0 1 1 0\n",
              "</span>"
            ]
          },
          "execution_count": 109,
          "metadata": {},
          "output_type": "execute_result"
        }
      ],
      "source": [
        "What \u2190 19 (6 2) 3 (33 26)\n",
        "What \u220a Children"
      ]
    },
    {
      "cell_type": "markdown",
      "metadata": {},
      "source": [
        "The item `(6 2)` of `What` is also an item of `Children`, hence *Membership* gives the answer 1, and the same is true for the value 3.\n",
        "\n",
        "In contrast 19 is only an item of the fifth item of `Children`, it is not an *entire* item of `Children`. Because a non-pervasive function processes each item as a whole, 19 is not the same as (19 14), so the answer is 0. The same goes for (33 26), which is only part of the second item of `Children`."
      ]
    },
    {
      "cell_type": "markdown",
      "metadata": {},
      "source": [
        "### Be Careful With Shape/Type Compatibility\n",
        "\n",
        "It is easy to add a vector of 5 scalar items to `Children`, because each of the 5 scalars can be added to the corresponding item of `Children`:"
      ]
    },
    {
      "cell_type": "code",
      "execution_count": 110,
      "metadata": {},
      "outputs": [
        {
          "data": {
            "text/html": [
              "<span style=\"white-space:pre; font-family: monospace\">\u250c\u2500\u2500\u2500\u2500\u2500\u252c\u2500\u2500\u2500\u2500\u2500\u2500\u2500\u2500\u2500\u2500\u2500\u252c\u2500\u2500\u2500\u2500\u2500\u252c\u2500\u2500\u252c\u2500\u2500\u2500\u2500\u2500\u2510\n",
              "\u250216 12\u250255 53 46 41\u250237 37\u250243\u250269 64\u2502\n",
              "\u2514\u2500\u2500\u2500\u2500\u2500\u2534\u2500\u2500\u2500\u2500\u2500\u2500\u2500\u2500\u2500\u2500\u2500\u2534\u2500\u2500\u2500\u2500\u2500\u2534\u2500\u2500\u2534\u2500\u2500\u2500\u2500\u2500\u2518\n",
              "</span>"
            ]
          },
          "execution_count": 110,
          "metadata": {},
          "output_type": "execute_result"
        }
      ],
      "source": [
        "Children + 10 20 30 40 50"
      ]
    },
    {
      "cell_type": "markdown",
      "metadata": {},
      "source": [
        "But if we try to add a vector of 5 sub-vectors to `Children`, we must ensure that the shape of each sub-vector is compatible with the shape of the corresponding item of `Children`, for example"
      ]
    },
    {
      "cell_type": "code",
      "execution_count": 111,
      "metadata": {},
      "outputs": [
        {
          "data": {
            "text/html": [
              "<span style=\"white-space:pre; font-family: monospace\">\u250c\u2500\u2500\u2500\u2500\u2500\u252c\u2500\u2500\u2500\u2500\u2500\u2500\u2500\u2500\u2500\u2500\u2500\u252c\u2500\u2500\u2500\u252c\u2500\u2500\u2500\u2500\u2500\u2500\u2500\u2500\u2500\u2500\u2500\u252c\u2500\u2500\u2500\u2500\u2500\u2510\n",
              "\u250210 10\u250240 40 30 30\u25028 6\u2502103 203 503\u250233 65\u2502\n",
              "\u2514\u2500\u2500\u2500\u2500\u2500\u2534\u2500\u2500\u2500\u2500\u2500\u2500\u2500\u2500\u2500\u2500\u2500\u2534\u2500\u2500\u2500\u2534\u2500\u2500\u2500\u2500\u2500\u2500\u2500\u2500\u2500\u2500\u2500\u2534\u2500\u2500\u2500\u2500\u2500\u2518\n",
              "</span>"
            ]
          },
          "execution_count": 111,
          "metadata": {},
          "output_type": "execute_result"
        }
      ],
      "source": [
        "Children + (4 8) (5 7 4 9) (1 \u00af1) (100 200 500) (14 51)"
      ]
    },
    {
      "cell_type": "markdown",
      "metadata": {},
      "source": [
        "or"
      ]
    },
    {
      "cell_type": "code",
      "execution_count": 112,
      "metadata": {},
      "outputs": [
        {
          "data": {
            "text/html": [
              "<span style=\"white-space:pre; font-family: monospace\">\u250c\u2500\u2500\u2500\u2500\u2500\u252c\u2500\u2500\u2500\u2500\u2500\u2500\u2500\u2500\u2500\u2500\u2500\u252c\u2500\u2500\u2500\u252c\u2500\u2500\u2500\u2500\u2500\u2500\u2500\u2500\u2500\u2500\u2500\u252c\u2500\u2500\u2500\u2500\u2500\u2500\u2500\u2510\n",
              "\u250210 10\u250235 33 26 21\u25028 6\u2502103 203 503\u2502\u00af81 \u00af86\u2502\n",
              "\u2514\u2500\u2500\u2500\u2500\u2500\u2534\u2500\u2500\u2500\u2500\u2500\u2500\u2500\u2500\u2500\u2500\u2500\u2534\u2500\u2500\u2500\u2534\u2500\u2500\u2500\u2500\u2500\u2500\u2500\u2500\u2500\u2500\u2500\u2534\u2500\u2500\u2500\u2500\u2500\u2500\u2500\u2518\n",
              "</span>"
            ]
          },
          "execution_count": 112,
          "metadata": {},
          "output_type": "execute_result"
        }
      ],
      "source": [
        "Children + (4 8) 0 (1 \u00af1) (100 200 500) \u00af100"
      ]
    },
    {
      "cell_type": "markdown",
      "metadata": {},
      "source": [
        "If there is any incompatibility, a `LENGTH ERROR` is issued:"
      ]
    },
    {
      "cell_type": "code",
      "execution_count": 113,
      "metadata": {},
      "outputs": [
        {
          "name": "stderr",
          "output_type": "stream",
          "text": [
            "LENGTH ERROR: Mismatched left and right argument shapes\n",
            "      Children+(1 2)(2 3)(3 4)(4 5)(5 6)\n",
            "              \u2227\n"
          ]
        }
      ],
      "source": [
        "Children + (1 2)(2 3)(3 4)(4 5)(5 6)"
      ]
    },
    {
      "cell_type": "markdown",
      "metadata": {},
      "source": [
        "All of the items of our vector could have been added to the corresponding items of `Children` except the second one. APL has detected and signalled this error.\n",
        "\n",
        "You must also be careful if a nested or mixed array contains character data; it will not be possible to apply any arithmetic function to the array as a whole."
      ]
    },
    {
      "cell_type": "markdown",
      "metadata": {},
      "source": [
        "### Tally\n",
        "\n",
        "We have seen the dyadic *Match* `\u2261` and *Not Match* `\u2262` functions, and now we will see how we can use their monadic versions to work with (nested) arrays.\n",
        "\n",
        "We mentioned ***Tally*** briefly in the first chapter, which is the monadic use of `\u2262`. ***Tally*** does exactly what its name suggests: it *counts* the amount of items an array has along its first dimension.\n",
        "\n",
        "For a vector, this corresponds to its length:"
      ]
    },
    {
      "cell_type": "code",
      "execution_count": 114,
      "metadata": {
        "scrolled": true
      },
      "outputs": [
        {
          "data": {
            "text/html": [
              "<span style=\"white-space:pre; font-family: monospace\">6\n",
              "</span>"
            ]
          },
          "execution_count": 114,
          "metadata": {},
          "output_type": "execute_result"
        }
      ],
      "source": [
        "\u2262 1 2 3 4 5 6"
      ]
    },
    {
      "cell_type": "code",
      "execution_count": 115,
      "metadata": {},
      "outputs": [
        {
          "data": {
            "text/html": [
              "<span style=\"white-space:pre; font-family: monospace\">2\n",
              "</span>"
            ]
          },
          "execution_count": 115,
          "metadata": {},
          "output_type": "execute_result"
        }
      ],
      "source": [
        "\u2262 'ui'"
      ]
    },
    {
      "cell_type": "markdown",
      "metadata": {},
      "source": [
        "A nested vector is still a vector:"
      ]
    },
    {
      "cell_type": "code",
      "execution_count": 116,
      "metadata": {},
      "outputs": [
        {
          "data": {
            "text/html": [
              "<span style=\"white-space:pre; font-family: monospace\">\u250c\u2500\u2500\u2500\u252c\u2500\u252c\u2500\u2500\u2500\u252c\u2500\u2500\u2500\u2500\u2500\u2500\u2500\u2500\u2500\u2500\u2500\u2510\n",
              "\u25024 5\u2502a\u2502Bag\u2502\u250c\u2500\u2500\u252c\u2500\u2500\u2500\u252c\u2500\u2500\u2510\u2502\n",
              "\u2502   \u2502 \u2502   \u2502\u250235\u2502Cat\u250242\u2502\u2502\n",
              "\u2502   \u2502 \u2502   \u2502\u2514\u2500\u2500\u2534\u2500\u2500\u2500\u2534\u2500\u2500\u2518\u2502\n",
              "\u2514\u2500\u2500\u2500\u2534\u2500\u2534\u2500\u2500\u2500\u2534\u2500\u2500\u2500\u2500\u2500\u2500\u2500\u2500\u2500\u2500\u2500\u2518\n",
              "</span>"
            ]
          },
          "execution_count": 116,
          "metadata": {},
          "output_type": "execute_result"
        }
      ],
      "source": [
        "(4 5) 'a' 'Bag' (35 'Cat' 42)"
      ]
    },
    {
      "cell_type": "code",
      "execution_count": 117,
      "metadata": {
        "scrolled": true
      },
      "outputs": [
        {
          "data": {
            "text/html": [
              "<span style=\"white-space:pre; font-family: monospace\">4\n",
              "</span>"
            ]
          },
          "execution_count": 117,
          "metadata": {},
          "output_type": "execute_result"
        }
      ],
      "source": [
        "\u2262 (4 5) 'a' 'Bag' (35 'Cat' 42)"
      ]
    },
    {
      "cell_type": "markdown",
      "metadata": {},
      "source": [
        "For higher dimensional arrays, *Tally* returns the size of its first dimension:"
      ]
    },
    {
      "cell_type": "code",
      "execution_count": 118,
      "metadata": {},
      "outputs": [
        {
          "data": {
            "text/html": [
              "<span style=\"white-space:pre; font-family: monospace\">3\n",
              "</span>"
            ]
          },
          "execution_count": 118,
          "metadata": {},
          "output_type": "execute_result"
        }
      ],
      "source": [
        "\u2262 3 3\u23749 8 7 6 5 4 3 2 1"
      ]
    },
    {
      "cell_type": "code",
      "execution_count": 119,
      "metadata": {
        "scrolled": true
      },
      "outputs": [
        {
          "data": {
            "text/html": [
              "<span style=\"white-space:pre; font-family: monospace\">2\n",
              "</span>"
            ]
          },
          "execution_count": 119,
          "metadata": {},
          "output_type": "execute_result"
        }
      ],
      "source": [
        "\u2262 2 5 27\u23740"
      ]
    },
    {
      "cell_type": "markdown",
      "metadata": {},
      "source": [
        "### Depth\n",
        "\n",
        "Dyadic `\u2261` and `\u2262` are very closely related, but their monadic versions aren't. The monadic function ***Depth*** `\u2261` helps us work with nested arrays, in that it helps us count how many levels of nesting there are.\n",
        "\n",
        "The result of `\u2261` is really simple to understand. First of all, the depth of a scalar is 0:"
      ]
    },
    {
      "cell_type": "code",
      "execution_count": 120,
      "metadata": {},
      "outputs": [
        {
          "data": {
            "text/html": [
              "<span style=\"white-space:pre; font-family: monospace\">0\n",
              "</span>"
            ]
          },
          "execution_count": 120,
          "metadata": {},
          "output_type": "execute_result"
        }
      ],
      "source": [
        "\u22611"
      ]
    },
    {
      "cell_type": "code",
      "execution_count": 121,
      "metadata": {},
      "outputs": [
        {
          "data": {
            "text/html": [
              "<span style=\"white-space:pre; font-family: monospace\">0\n",
              "</span>"
            ]
          },
          "execution_count": 121,
          "metadata": {},
          "output_type": "execute_result"
        }
      ],
      "source": [
        "\u2261'a'"
      ]
    },
    {
      "cell_type": "code",
      "execution_count": 122,
      "metadata": {},
      "outputs": [
        {
          "data": {
            "text/html": [
              "<span style=\"white-space:pre; font-family: monospace\">0\n",
              "</span>"
            ]
          },
          "execution_count": 122,
          "metadata": {},
          "output_type": "execute_result"
        }
      ],
      "source": [
        "\u22614525324"
      ]
    },
    {
      "cell_type": "markdown",
      "metadata": {},
      "source": [
        "Then, the depth of an array is 1 larger than the depth of its deepest item, or sub-array. For example, a simple vector like `1 2 3 4` only has scalars as items, whose depths are 0, so the depth of the vector will be 1."
      ]
    },
    {
      "cell_type": "code",
      "execution_count": 123,
      "metadata": {},
      "outputs": [
        {
          "data": {
            "text/html": [
              "<span style=\"white-space:pre; font-family: monospace\">1\n",
              "</span>"
            ]
          },
          "execution_count": 123,
          "metadata": {},
          "output_type": "execute_result"
        }
      ],
      "source": [
        "\u22611 2 3 4"
      ]
    },
    {
      "cell_type": "markdown",
      "metadata": {},
      "source": [
        "Now let us consider a nested vector composed of simple vectors like the one we just saw."
      ]
    },
    {
      "cell_type": "code",
      "execution_count": 124,
      "metadata": {},
      "outputs": [
        {
          "data": {
            "text/html": [
              "<span style=\"white-space:pre; font-family: monospace\">\u250c\u2500\u2500\u2500\u2500\u2500\u2500\u2500\u252c\u2500\u2500\u2500\u252c\u2500\u2500\u2500\u2500\u2500\u2500\u2500\u2500\u2510\n",
              "\u25021 2 3 4\u25023 5\u250210 20 30\u2502\n",
              "\u2514\u2500\u2500\u2500\u2500\u2500\u2500\u2500\u2534\u2500\u2500\u2500\u2534\u2500\u2500\u2500\u2500\u2500\u2500\u2500\u2500\u2518\n",
              "</span>"
            ]
          },
          "execution_count": 124,
          "metadata": {},
          "output_type": "execute_result"
        }
      ],
      "source": [
        "\u22a2Nested \u2190 (1 2 3 4) (3 5) (10 20 30)"
      ]
    },
    {
      "cell_type": "markdown",
      "metadata": {},
      "source": [
        "The items of `Nested` are vectors of depth 1, so the depth of `Nested` should be 2:"
      ]
    },
    {
      "cell_type": "code",
      "execution_count": 125,
      "metadata": {},
      "outputs": [
        {
          "data": {
            "text/html": [
              "<span style=\"white-space:pre; font-family: monospace\">2\n",
              "</span>"
            ]
          },
          "execution_count": 125,
          "metadata": {},
          "output_type": "execute_result"
        }
      ],
      "source": [
        "\u2261Nested"
      ]
    },
    {
      "cell_type": "markdown",
      "metadata": {},
      "source": [
        "`\u2261` has one more thing to it: if the nesting of the sub-arrays is not uniform then the result will be negative.\n",
        "\n",
        "For example, `1 2 3 4` has depth 1 and `42` has depth 0, so a vector composed of these two sub-arrays has depth -2:"
      ]
    },
    {
      "cell_type": "code",
      "execution_count": 126,
      "metadata": {},
      "outputs": [
        {
          "data": {
            "text/html": [
              "<span style=\"white-space:pre; font-family: monospace\">\u00af2\n",
              "</span>"
            ]
          },
          "execution_count": 126,
          "metadata": {},
          "output_type": "execute_result"
        }
      ],
      "source": [
        "\u2261(1 2 3 4) 42"
      ]
    },
    {
      "cell_type": "markdown",
      "metadata": {},
      "source": [
        "## Reduction\n",
        "\n",
        "### Presentation\n",
        "\n",
        "A few pages ago we calculated the costs of some purchased goods:"
      ]
    },
    {
      "cell_type": "code",
      "execution_count": 127,
      "metadata": {},
      "outputs": [
        {
          "data": {
            "text/html": [
              "<span style=\"white-space:pre; font-family: monospace\">10.4 11.5 10.8 24 16.9\n",
              "</span>"
            ]
          },
          "execution_count": 127,
          "metadata": {},
          "output_type": "execute_result"
        }
      ],
      "source": [
        "\u22a2Costs \u2190 Price \u00d7 Qty"
      ]
    },
    {
      "cell_type": "markdown",
      "metadata": {},
      "source": [
        "How much did we spend?"
      ]
    },
    {
      "cell_type": "code",
      "execution_count": 128,
      "metadata": {},
      "outputs": [
        {
          "data": {
            "text/html": [
              "<span style=\"white-space:pre; font-family: monospace\">73.6\n",
              "</span>"
            ]
          },
          "execution_count": 128,
          "metadata": {},
          "output_type": "execute_result"
        }
      ],
      "source": [
        "10.4 + 11.5 + 10.8 + 24 + 16.9"
      ]
    },
    {
      "cell_type": "markdown",
      "metadata": {},
      "source": [
        "But writing things out like this is cumbersome and depends on us looking at the scalars in the `Costs` vector. What if the `Price` or the `Qty` changes?\n",
        "\n",
        "Mathematicians are creative people who long ago devised the symbol $\\sum$, always with a pretty collection of indices above and below, that is used to indicate the sum of some numbers. This symbol makes it complex to understand and is difficult to type on a keyboard.\n",
        "\n",
        "In APL, the operation is written like this:"
      ]
    },
    {
      "cell_type": "code",
      "execution_count": 129,
      "metadata": {},
      "outputs": [
        {
          "data": {
            "text/html": [
              "<span style=\"white-space:pre; font-family: monospace\">73.6\n",
              "</span>"
            ]
          },
          "execution_count": 129,
          "metadata": {},
          "output_type": "execute_result"
        }
      ],
      "source": [
        "+/ Costs"
      ]
    },
    {
      "cell_type": "markdown",
      "metadata": {},
      "source": [
        "Simple, isn't it? This expression gives the total of all the items in the vector. You can read this as \"***Plus Reduction***\" of the variable `Costs`.\n",
        "\n",
        "To gain a better understanding of the process:\n",
        "\n",
        "| | |\n",
        "| :- | :- |\n",
        "| When we write an expression such as | `+/ 21 45 18 27 11` |\n",
        "| &nbsp;&nbsp;&nbsp;&nbsp; it works as if we had written | `21 + 45 + 18 + 27 + 11` |\n",
        "| &nbsp;&nbsp;&nbsp;&nbsp; and we obtain the sum | `122` |\n",
        "   \n",
        "In fact, it works as if we had \"inserted\" the symbol `+` between the values.\n",
        "\n",
        "| | |\n",
        "| :- | :- |\n",
        "| So, when we write | `\u00d7/ 21 45 18 27 11` |\n",
        "| &nbsp;&nbsp;&nbsp;&nbsp; it is as if we had written | `21 \u00d7 45 \u00d7 18 \u00d7 27 \u00d7 11` |\n",
        "| &nbsp;&nbsp;&nbsp;&nbsp; so, we get the product | `5051970` |\n",
        "| Similarly, when we write | `\u2308/ 21 45 18 27 11` |\n",
        "| &nbsp;&nbsp;&nbsp;&nbsp; it is as if we had written | `21 \u2308 45 \u2308 18 \u2308 27 \u2308 11` |\n",
        "| &nbsp;&nbsp;&nbsp;&nbsp; so, we obtain the largest item | `45` |\n",
        "\n",
        "And so on...\n",
        "\n",
        "```{admonition} Exercise \n",
        ":class: hint\n",
        "Try to evaluate the following expression in your head or with pen and paper: `23\u2308 \u2308 \u2308/ 17.81 21.41 9.34 16.53`\n",
        "\n",
        "Don't panic! Remember to evaluate it symbol by symbol, from right to left.\n",
        "```\n"
      ]
    },
    {
      "cell_type": "markdown",
      "metadata": {},
      "source": [
        "### Definition\n",
        "\n",
        "Reduction, represented by the symbol `/`, belongs to a special category of symbols called ***Operators***.\n",
        "\n",
        "In most programming languages the word *operator* is used to describe operations like addition, subtraction, multiplication, and so on. In APL such operations are called *Functions*; typical examples are `+`, `-`, `\u00d7` and `\u2374`. The word *operator* has a separate meaning in APL.\n",
        "\n",
        "In APL a ***function*** works on an **array** or between two arrays to produce a result:"
      ]
    },
    {
      "cell_type": "code",
      "execution_count": 130,
      "metadata": {},
      "outputs": [
        {
          "data": {
            "text/html": [
              "<span style=\"white-space:pre; font-family: monospace\">10.4 11.5 10.8 24 16.9\n",
              "</span>"
            ]
          },
          "execution_count": 130,
          "metadata": {},
          "output_type": "execute_result"
        }
      ],
      "source": [
        "Price \u00d7 Qty"
      ]
    },
    {
      "cell_type": "markdown",
      "metadata": {},
      "source": [
        "Whereas an ***operator*** applies to one or two ***operands*** (its \"arguments\") to produce what we call a *derived function*. That is, after we use the *operator* on its *operands*, we get a (derived) function which may then be used with an array, or between two arrays, to produce a result:"
      ]
    },
    {
      "cell_type": "code",
      "execution_count": 131,
      "metadata": {},
      "outputs": [
        {
          "data": {
            "text/html": [
              "<span style=\"white-space:pre; font-family: monospace\">  /\n",
              "\u250c\u2500\u2518\n",
              "+  \n",
              "</span>"
            ]
          },
          "execution_count": 131,
          "metadata": {},
          "output_type": "execute_result"
        }
      ],
      "source": [
        "+/"
      ]
    },
    {
      "cell_type": "markdown",
      "metadata": {},
      "source": [
        "This is the representation APL gives to the *Plus Reduction*, where the tree-like structure shows that `+` is an operand to `/`. We may then use this derived function with an array in order to get a result:"
      ]
    },
    {
      "cell_type": "code",
      "execution_count": 132,
      "metadata": {},
      "outputs": [
        {
          "data": {
            "text/html": [
              "<span style=\"white-space:pre; font-family: monospace\">14\n",
              "</span>"
            ]
          },
          "execution_count": 132,
          "metadata": {},
          "output_type": "execute_result"
        }
      ],
      "source": [
        "\u22a2Stock \u2190 +/ Qty"
      ]
    },
    {
      "cell_type": "markdown",
      "metadata": {},
      "source": [
        "In the expression above, the symbol `/` is the operator. It takes the function `+` as its single operand (\"argument\") and produces the derived function `+/`. This derived function is then applied to `Qty`, giving a result which is assigned to `Stock` and displayed with `\u22a2`.\n",
        "\n",
        "Please note that the argument to a monadic function is always to the right of the function, whereas the function applied to a monadic operator (its operand) is always to the left of the operator.\n",
        "\n",
        "Many, although not all, of the APL primitive functions may be used as the operand to *Reduction*; you can even apply a user-defined function. This generality makes Reduction, and other operators, extremely powerful.\n",
        "\n",
        "Dyalog APL provides a total of around 20 such powerful *operators*, listed in Appendix 4. It is also possible to write your own operators, just as it is possible to write your own functions."
      ]
    },
    {
      "cell_type": "markdown",
      "metadata": {},
      "source": [
        "### Reduction of Binary Data\n",
        "\n",
        "Among the typical usages of *Reduction* are `\u2227` and `\u2228` applied to binary data.\n",
        "\n",
        " - `\u2227/ Bin` gives the result `1` if ***All*** the items of `Bin` are equal to 1;\n",
        " - `\u2228/ Bin` gives the result `1` if ***At least one*** of the items of `Bin` is equal to 1;\n",
        " - `+/ Bin` tells us ***How many*** items of `Bin` are equal to 1.\n",
        " \n",
        "You can verify it on some small examples:"
      ]
    },
    {
      "cell_type": "code",
      "execution_count": 133,
      "metadata": {},
      "outputs": [
        {
          "data": {
            "text/html": [
              "<span style=\"white-space:pre; font-family: monospace\">1 1 1 0 1 0 1\n",
              "</span>"
            ]
          },
          "execution_count": 133,
          "metadata": {},
          "output_type": "execute_result"
        }
      ],
      "source": [
        "\u22a2Bin \u2190 1 1 1 0 1 0 1"
      ]
    },
    {
      "cell_type": "code",
      "execution_count": 134,
      "metadata": {},
      "outputs": [
        {
          "data": {
            "text/html": [
              "<span style=\"white-space:pre; font-family: monospace\">0\n",
              "</span>"
            ]
          },
          "execution_count": 134,
          "metadata": {},
          "output_type": "execute_result"
        }
      ],
      "source": [
        "\u2227/ Bin"
      ]
    },
    {
      "cell_type": "code",
      "execution_count": 135,
      "metadata": {},
      "outputs": [
        {
          "data": {
            "text/html": [
              "<span style=\"white-space:pre; font-family: monospace\">1\n",
              "</span>"
            ]
          },
          "execution_count": 135,
          "metadata": {},
          "output_type": "execute_result"
        }
      ],
      "source": [
        "\u2228/ Bin"
      ]
    },
    {
      "cell_type": "code",
      "execution_count": 136,
      "metadata": {},
      "outputs": [
        {
          "data": {
            "text/html": [
              "<span style=\"white-space:pre; font-family: monospace\">5\n",
              "</span>"
            ]
          },
          "execution_count": 136,
          "metadata": {},
          "output_type": "execute_result"
        }
      ],
      "source": [
        "+/ Bin"
      ]
    },
    {
      "cell_type": "code",
      "execution_count": 137,
      "metadata": {},
      "outputs": [
        {
          "data": {
            "text/html": [
              "<span style=\"white-space:pre; font-family: monospace\">1 1 1 1 1 1 1\n",
              "</span>"
            ]
          },
          "execution_count": 137,
          "metadata": {},
          "output_type": "execute_result"
        }
      ],
      "source": [
        "\u22a2AllOnes \u2190 1\u2228Bin"
      ]
    },
    {
      "cell_type": "code",
      "execution_count": 138,
      "metadata": {},
      "outputs": [
        {
          "data": {
            "text/html": [
              "<span style=\"white-space:pre; font-family: monospace\">1\n",
              "</span>"
            ]
          },
          "execution_count": 138,
          "metadata": {},
          "output_type": "execute_result"
        }
      ],
      "source": [
        "\u2227/ AllOnes"
      ]
    },
    {
      "cell_type": "markdown",
      "metadata": {},
      "source": [
        "Let us revisit the vector named `Contents`, from the chapter on \"Data and Variables\":"
      ]
    },
    {
      "cell_type": "code",
      "execution_count": 139,
      "metadata": {},
      "outputs": [
        {
          "data": {
            "text/html": [
              "<span style=\"white-space:pre; font-family: monospace\">12 56 78 74 85 96 30 22 44 66 82 27\n",
              "</span>"
            ]
          },
          "execution_count": 139,
          "metadata": {},
          "output_type": "execute_result"
        }
      ],
      "source": [
        "\u22a2Contents \u2190 12 56 78 74 85 96 30 22 44 66 82 27"
      ]
    },
    {
      "cell_type": "markdown",
      "metadata": {},
      "source": [
        "Now we will answer some questions about the values of the items of `Contents`:\n",
        "\n",
        "Are all the values greater than 20?"
      ]
    },
    {
      "cell_type": "code",
      "execution_count": 140,
      "metadata": {},
      "outputs": [
        {
          "data": {
            "text/html": [
              "<span style=\"white-space:pre; font-family: monospace\">0\n",
              "</span>"
            ]
          },
          "execution_count": 140,
          "metadata": {},
          "output_type": "execute_result"
        }
      ],
      "source": [
        "\u2227/ Contents > 20"
      ]
    },
    {
      "cell_type": "markdown",
      "metadata": {},
      "source": [
        "The answer is no.\n",
        "\n",
        "Is there at least one value smaller than 30?"
      ]
    },
    {
      "cell_type": "code",
      "execution_count": 141,
      "metadata": {},
      "outputs": [
        {
          "data": {
            "text/html": [
              "<span style=\"white-space:pre; font-family: monospace\">1\n",
              "</span>"
            ]
          },
          "execution_count": 141,
          "metadata": {},
          "output_type": "execute_result"
        }
      ],
      "source": [
        "\u2228/ Contents < 30"
      ]
    },
    {
      "cell_type": "markdown",
      "metadata": {},
      "source": [
        "The answer is yes.\n",
        "\n",
        "How many values are smaller than 30?"
      ]
    },
    {
      "cell_type": "code",
      "execution_count": 142,
      "metadata": {},
      "outputs": [
        {
          "data": {
            "text/html": [
              "<span style=\"white-space:pre; font-family: monospace\">3\n",
              "</span>"
            ]
          },
          "execution_count": 142,
          "metadata": {},
          "output_type": "execute_result"
        }
      ],
      "source": [
        "+/ Contents < 30"
      ]
    },
    {
      "cell_type": "markdown",
      "metadata": {},
      "source": [
        "The answer is 3."
      ]
    },
    {
      "cell_type": "markdown",
      "metadata": {},
      "source": [
        "### Reduction of Nested Arrays\n",
        "\n",
        "When you apply reduction to a nested array, you must check that the items of the nested array are compatible (in shape and type) with the function that you intend to apply:"
      ]
    },
    {
      "cell_type": "code",
      "execution_count": 143,
      "metadata": {},
      "outputs": [
        {
          "data": {
            "text/html": [
              "<span style=\"white-space:pre; font-family: monospace\">\u250c\u2500\u2500\u2500\u2500\u2500\u2510\n",
              "\u250224 27\u2502\n",
              "\u2514\u2500\u2500\u2500\u2500\u2500\u2518\n",
              "</span>"
            ]
          },
          "execution_count": 143,
          "metadata": {},
          "output_type": "execute_result"
        }
      ],
      "source": [
        "+/ (4 8) (1 4) 10 (9 5)"
      ]
    },
    {
      "cell_type": "markdown",
      "metadata": {},
      "source": [
        "The expression above works because all 2-item vectors can be added together, and a single scalar (the 10) can be added to an array of any shape, because `+` is a scalar function.\n",
        "\n",
        "Notice, however, that in the expression below the 3-item vector cannot be added to the other 2-item vectors, so APL reports an error:"
      ]
    },
    {
      "cell_type": "code",
      "execution_count": 144,
      "metadata": {},
      "outputs": [
        {
          "name": "stderr",
          "output_type": "stream",
          "text": [
            "LENGTH ERROR: Mismatched left and right argument shapes\n",
            "      +/(4 8)(1 4)(1 2 3)(9 5)\n",
            "      \u2227\n"
          ]
        }
      ],
      "source": [
        "+/ (4 8) (1 4) (1 2 3) (9 5)"
      ]
    },
    {
      "cell_type": "markdown",
      "metadata": {},
      "source": [
        "### Reduction With Non Commutative Functions\n",
        "\n",
        "Another thing to be careful about is the use of reduction with non commutative functions, like `-` or `\u00f7`. Reducing an array by such a function yields results which may be counter-intuitive, but which may nevertheless be useful in a number of applications.\n",
        "\n",
        "For example, remember that"
      ]
    },
    {
      "cell_type": "code",
      "execution_count": 145,
      "metadata": {},
      "outputs": [
        {
          "data": {
            "text/html": [
              "<span style=\"white-space:pre; font-family: monospace\">50\n",
              "</span>"
            ]
          },
          "execution_count": 145,
          "metadata": {},
          "output_type": "execute_result"
        }
      ],
      "source": [
        "-/ 45 9 11 2 5"
      ]
    },
    {
      "cell_type": "markdown",
      "metadata": {},
      "source": [
        "is equivalent to"
      ]
    },
    {
      "cell_type": "code",
      "execution_count": 146,
      "metadata": {},
      "outputs": [
        {
          "data": {
            "text/html": [
              "<span style=\"white-space:pre; font-family: monospace\">50\n",
              "</span>"
            ]
          },
          "execution_count": 146,
          "metadata": {},
          "output_type": "execute_result"
        }
      ],
      "source": [
        "45 - 9 - 11 - 2 - 5"
      ]
    },
    {
      "cell_type": "markdown",
      "metadata": {},
      "source": [
        "which, by APL's order of evaluation is equivalent to:"
      ]
    },
    {
      "cell_type": "code",
      "execution_count": 147,
      "metadata": {},
      "outputs": [
        {
          "data": {
            "text/html": [
              "<span style=\"white-space:pre; font-family: monospace\">50\n",
              "</span>"
            ]
          },
          "execution_count": 147,
          "metadata": {},
          "output_type": "execute_result"
        }
      ],
      "source": [
        "45 - (9 - (11 - (2 - 5)))"
      ]
    },
    {
      "cell_type": "markdown",
      "metadata": {},
      "source": [
        "If, instead, we use the traditional mathematical convention that interprets\n",
        "\n",
        "$$45 - 9 - 11 - 2 - 5$$\n",
        "\n",
        "as\n",
        "\n",
        "$$(((45 - 9) - 11) - 2) - 5$$\n",
        "\n",
        "we get the result 18.\n",
        "\n",
        "This kind of \"alternating series\" can be useful for some calculations, although only rarely for business applications."
      ]
    },
    {
      "cell_type": "markdown",
      "metadata": {},
      "source": [
        "### Application 1\n",
        "\n",
        "The employees of a company are divided into three hierarchical categories, denoted simply 1, 2 and 3. Two variables contain the salaries and the categories of these employees; we define them below and then use `\u2374` to show some of their initial values:"
      ]
    },
    {
      "cell_type": "code",
      "execution_count": 148,
      "metadata": {},
      "outputs": [
        {
          "data": {
            "text/html": [
              "<span style=\"white-space:pre; font-family: monospace\">2121 4778 4914 3139 4561 221 1252 1530 4475 332\n",
              "</span>"
            ]
          },
          "execution_count": 148,
          "metadata": {},
          "output_type": "execute_result"
        }
      ],
      "source": [
        "\u2395RL \u2190 73\n",
        "Salaries \u2190 ?100\u23745000\n",
        "10\u2374Salaries"
      ]
    },
    {
      "cell_type": "code",
      "execution_count": 149,
      "metadata": {},
      "outputs": [
        {
          "data": {
            "text/html": [
              "<span style=\"white-space:pre; font-family: monospace\">1 2 2 2 3 3 1 1 1 1\n",
              "</span>"
            ]
          },
          "execution_count": 149,
          "metadata": {},
          "output_type": "execute_result"
        }
      ],
      "source": [
        "\u2395RL \u2190 73\n",
        "Categories \u2190 ?100\u23743\n",
        "10\u2374Categories"
      ]
    },
    {
      "cell_type": "markdown",
      "metadata": {},
      "source": [
        "We can see the salaries of the first three employees are, respectively, 2121, 4778 and 4914 (of some currency) and their respective categories are 1, 2 and 2.\n",
        "\n",
        "With what we learned in the section about \"Reduction of Binary Data\" we can also find out how many employees belong in the third category:"
      ]
    },
    {
      "cell_type": "code",
      "execution_count": 150,
      "metadata": {},
      "outputs": [
        {
          "data": {
            "text/html": [
              "<span style=\"white-space:pre; font-family: monospace\">32\n",
              "</span>"
            ]
          },
          "execution_count": 150,
          "metadata": {},
          "output_type": "execute_result"
        }
      ],
      "source": [
        "+/ Categories = 3"
      ]
    },
    {
      "cell_type": "markdown",
      "metadata": {},
      "source": [
        "Now the employees ask for an increase in their salaries. Each category of employee requests a different percentage increase, as shown in the following table:\n",
        "\n",
        "| Category | Upgrade |\n",
        "| :-: | :-: |\n",
        "| 1 | 8% |\n",
        "| 2 | 5% |\n",
        "| 3 | 2% |\n",
        "\n",
        "How much is that going to cost the company?\n",
        "\n",
        "Let us just create a variable containing the three rates shown above:"
      ]
    },
    {
      "cell_type": "code",
      "execution_count": 151,
      "metadata": {},
      "outputs": [
        {
          "data": {
            "text/html": [
              "<span style=\"white-space:pre; font-family: monospace\">0.08 0.05 0.02\n",
              "</span>"
            ]
          },
          "execution_count": 151,
          "metadata": {},
          "output_type": "execute_result"
        }
      ],
      "source": [
        "\u22a2Rates \u2190 8 5 2 \u00f7 100"
      ]
    },
    {
      "cell_type": "markdown",
      "metadata": {},
      "source": [
        "The first employee is in category 1, so the rate that applies to this person is"
      ]
    },
    {
      "cell_type": "code",
      "execution_count": 152,
      "metadata": {},
      "outputs": [
        {
          "data": {
            "text/html": [
              "<span style=\"white-space:pre; font-family: monospace\">0.08\n",
              "</span>"
            ]
          },
          "execution_count": 152,
          "metadata": {},
          "output_type": "execute_result"
        }
      ],
      "source": [
        "Rates[1]"
      ]
    },
    {
      "cell_type": "markdown",
      "metadata": {},
      "source": [
        "More generally, the rates applied to all of our employees can easily be obtained with `Rates[Categories]`:"
      ]
    },
    {
      "cell_type": "code",
      "execution_count": 153,
      "metadata": {},
      "outputs": [
        {
          "data": {
            "text/html": [
              "<span style=\"white-space:pre; font-family: monospace\">0.08 0.05 0.05 0.05 0.02 0.02 0.08 0.08 0.08 0.08\n",
              "</span>"
            ]
          },
          "execution_count": 153,
          "metadata": {},
          "output_type": "execute_result"
        }
      ],
      "source": [
        "10\u2374Rates[Categories]"
      ]
    },
    {
      "cell_type": "markdown",
      "metadata": {},
      "source": [
        "Having the rates, we only have to multiply them by the salaries to obtain the individual increases:"
      ]
    },
    {
      "cell_type": "code",
      "execution_count": 154,
      "metadata": {},
      "outputs": [
        {
          "data": {
            "text/html": [
              "<span style=\"white-space:pre; font-family: monospace\">169.68 238.9 245.7 156.95 91.22 4.42 100.16 122.4 358 26.56\n",
              "</span>"
            ]
          },
          "execution_count": 154,
          "metadata": {},
          "output_type": "execute_result"
        }
      ],
      "source": [
        "10\u2374 Salaries \u00d7 Rates[Categories]"
      ]
    },
    {
      "cell_type": "markdown",
      "metadata": {},
      "source": [
        "Finally, by adding them all together, we discover how much it will cost the company:"
      ]
    },
    {
      "cell_type": "code",
      "execution_count": 155,
      "metadata": {},
      "outputs": [
        {
          "data": {
            "text/html": [
              "<span style=\"white-space:pre; font-family: monospace\">12070.6\n",
              "</span>"
            ]
          },
          "execution_count": 155,
          "metadata": {},
          "output_type": "execute_result"
        }
      ],
      "source": [
        "+/ Salaries \u00d7 Rates[Categories]"
      ]
    },
    {
      "cell_type": "markdown",
      "metadata": {},
      "source": [
        "Note that:\n",
        "\n",
        " - the expression remains valid regardless of the number of employees or categories;\n",
        " - the result has been obtained without writing a program (no loops, no tests);\n",
        " - this expression can be phrased in the simplest possible English, namely:\n",
        " \n",
        " > *Sum the Salaries multiplied by Rates according to Categories*\n",
        " \n",
        "This illustrates how the implementation of a solution in APL can be very close to the way that the solution would be expressed in everyday language. It also shows the advantage of not having to deal with trivial and \"irrelevant\" matters such as looping, memory allocation, declarations, etc. before a working solution can be developed."
      ]
    },
    {
      "cell_type": "markdown",
      "metadata": {},
      "source": [
        "### Application 2\n",
        "\n",
        "Imagine now that we want to calculate the average of a set of values, for example the values contained in the variable `Contents`.\n",
        "\n",
        "To do that, we must:\n",
        "\n",
        " - add all the values:"
      ]
    },
    {
      "cell_type": "code",
      "execution_count": 156,
      "metadata": {},
      "outputs": [
        {
          "data": {
            "text/html": [
              "<span style=\"white-space:pre; font-family: monospace\">672\n",
              "</span>"
            ]
          },
          "execution_count": 156,
          "metadata": {},
          "output_type": "execute_result"
        }
      ],
      "source": [
        "+/ Contents"
      ]
    },
    {
      "cell_type": "markdown",
      "metadata": {},
      "source": [
        " - count how many values we have:"
      ]
    },
    {
      "cell_type": "code",
      "execution_count": 157,
      "metadata": {},
      "outputs": [
        {
          "data": {
            "text/html": [
              "<span style=\"white-space:pre; font-family: monospace\">12\n",
              "</span>"
            ]
          },
          "execution_count": 157,
          "metadata": {},
          "output_type": "execute_result"
        }
      ],
      "source": [
        "\u2262Contents"
      ]
    },
    {
      "cell_type": "markdown",
      "metadata": {},
      "source": [
        " - divide one by the other:"
      ]
    },
    {
      "cell_type": "code",
      "execution_count": 158,
      "metadata": {},
      "outputs": [
        {
          "data": {
            "text/html": [
              "<span style=\"white-space:pre; font-family: monospace\">56\n",
              "</span>"
            ]
          },
          "execution_count": 158,
          "metadata": {},
          "output_type": "execute_result"
        }
      ],
      "source": [
        "(+/Contents) \u00f7 (\u2262Contents)"
      ]
    },
    {
      "cell_type": "markdown",
      "metadata": {},
      "source": [
        "The result is 56.\n",
        "\n",
        "Again, because of APL's simple rule for the order of evaluation, the rightmost set of parentheses could be omitted."
      ]
    },
    {
      "cell_type": "markdown",
      "metadata": {},
      "source": [
        "## Axis Specification\n",
        "\n",
        "### Totals in an Array\n",
        "\n",
        "#### Processing Arrays\n",
        "\n",
        "We have seen the result of applying reduction to vectors, but what about matrices and higher rank arrays?\n",
        "\n",
        "As an example, let us recall the array `Prod`. Its three dimensions represent respectively:\n",
        "\n",
        " 1. 5 years;\n",
        " 2. 2 assembly lines;\n",
        " 3. 12 months."
      ]
    },
    {
      "cell_type": "code",
      "execution_count": 159,
      "metadata": {},
      "outputs": [
        {
          "data": {
            "text/html": [
              "<span style=\"white-space:pre; font-family: monospace\"> 9 16 42 50  2  3 11 45 17 37 29 36\n",
              "34 19 32 12 37 15 46 24 49 28 36  9\n",
              "                                   \n",
              "29  5 45 23 27  4 23 16 39 22 22  2\n",
              "46 20 47 17 18 25 13 38 42 38 45 28\n",
              "                                   \n",
              "37 19  5 10 30 49 16 18 46 47 47  3\n",
              "39 23 41 20  6 40 21 22 40 49 20  1\n",
              "                                   \n",
              "13 36 12 40 12 15 24 20 21 12 19 25\n",
              " 8 48 22 37 33  1 39 30 50 50  8 35\n",
              "                                   \n",
              "38 31 24 40 23  7 20 34 35  6 19 27\n",
              "41  1 14 50 17 42  6 35 12 48 30 29\n",
              "</span>"
            ]
          },
          "execution_count": 159,
          "metadata": {},
          "output_type": "execute_result"
        }
      ],
      "source": [
        "\u2395RL \u2190 73\n",
        "\u22a2Prod \u2190 ?5 2 12\u237450"
      ]
    },
    {
      "cell_type": "markdown",
      "metadata": {},
      "source": [
        "We can calculate totals along any of these 3 dimensions: years, lines and months.\n",
        "\n",
        "We specify the dimension (or ***Axis***) between brackets after the *Reduction* symbol:\n",
        "\n",
        "```APL\n",
        "+/[Axis] Prod\n",
        "```\n",
        "\n",
        "For example, suppose we want to calculate the total monthly production values over the 5 years. Years are represented by the 1st dimension of `Prod`, so we write:"
      ]
    },
    {
      "cell_type": "code",
      "execution_count": 160,
      "metadata": {},
      "outputs": [
        {
          "data": {
            "text/html": [
              "<span style=\"white-space:pre; font-family: monospace\">126 107 128 163  94  78  94 133 158 124 136  93\n",
              "168 111 156 136 111 123 125 149 193 213 139 102\n",
              "</span>"
            ]
          },
          "execution_count": 160,
          "metadata": {},
          "output_type": "execute_result"
        }
      ],
      "source": [
        "+/[1] Prod"
      ]
    },
    {
      "cell_type": "markdown",
      "metadata": {},
      "source": [
        "We obtain a 2 by 12 matrix, giving the production of the 2 assembly lines, month by month. If we were to divide this matrix by 5, we would get the average production for each month, per assembly line.\n",
        "\n",
        "Now, let us add up the production numbers of the two assembly lines. Lines are represented by the 2nd dimension of `Prod`, so we write:"
      ]
    },
    {
      "cell_type": "code",
      "execution_count": 161,
      "metadata": {},
      "outputs": [
        {
          "data": {
            "text/html": [
              "<span style=\"white-space:pre; font-family: monospace\">43 35 74 62 39 18 57 69 66 65 65 45\n",
              "75 25 92 40 45 29 36 54 81 60 67 30\n",
              "76 42 46 30 36 89 37 40 86 96 67  4\n",
              "21 84 34 77 45 16 63 50 71 62 27 60\n",
              "79 32 38 90 40 49 26 69 47 54 49 56\n",
              "</span>"
            ]
          },
          "execution_count": 161,
          "metadata": {},
          "output_type": "execute_result"
        }
      ],
      "source": [
        "+/[2] Prod"
      ]
    },
    {
      "cell_type": "markdown",
      "metadata": {},
      "source": [
        "We obtain a 5 by 12 matrix, with the total production of both assembly lines, month by month, in each of the 5 years.\n",
        "\n",
        "And finally, let us calculate the annual production of each assembly line. Months are represented by the 3rd dimension of `Prod`, so we write:"
      ]
    },
    {
      "cell_type": "code",
      "execution_count": 162,
      "metadata": {},
      "outputs": [
        {
          "data": {
            "text/html": [
              "<span style=\"white-space:pre; font-family: monospace\">297 341\n",
              "257 377\n",
              "327 322\n",
              "249 361\n",
              "304 325\n",
              "</span>"
            ]
          },
          "execution_count": 162,
          "metadata": {},
          "output_type": "execute_result"
        }
      ],
      "source": [
        "+/[3] Prod"
      ]
    },
    {
      "cell_type": "markdown",
      "metadata": {},
      "source": [
        "The result is a 5 by 2 matrix, in which the columns contain the annual production of the two assembly lines in each of the five years."
      ]
    },
    {
      "cell_type": "markdown",
      "metadata": {},
      "source": [
        "#### Axis Is Like an Operator\n",
        "\n",
        "The dimension specified within brackets is the axis along which the function is applied.\n",
        "\n",
        "This produces a derived function, and for this reason, the pair of *Axis* brackets is often called the ***Axis Operator***.\n",
        "\n",
        "The syntax for *Axis* does not quite follow the general syntax for operators, but it shares all other properties with genuine operators. *Axis* takes a function as its left operand (the derived function `+/` in the last example above), the dimension specification as its \"right operand\" (3 in the example), and produces a derived function, which is applied to `Prod` to calculate the annual sums.\n",
        "\n",
        "Viewed as an operator *Axis* is therefore dyadic. It is, however, important to emphasise that its \"right\" argument is not `Prod`, it is the expression within the brackets. This is the first example of an operator that takes an array as an operand. We will find some more as we explore operators later on."
      ]
    },
    {
      "cell_type": "markdown",
      "metadata": {},
      "source": [
        "#### Processing Arrays\n",
        "\n",
        "We shall learn more about *Axis* in the \"Operators\" chapter; let us first explore another simple use of this operator.\n",
        "\n",
        "Suppose that we would like to multiply each of the rows (or columns) of a matrix by different values; we can use *Axis* to specify whether we multiply row-wise or column-wise. First, here is a matrix:"
      ]
    },
    {
      "cell_type": "code",
      "execution_count": 163,
      "metadata": {},
      "outputs": [
        {
          "data": {
            "text/html": [
              "<span style=\"white-space:pre; font-family: monospace\">9 2 2 3 1\n",
              "5 4 2 3 3\n",
              "5 8 4 1 4\n",
              "</span>"
            ]
          },
          "execution_count": 163,
          "metadata": {},
          "output_type": "execute_result"
        }
      ],
      "source": [
        "\u2395RL \u2190 73\n",
        "\u22a2Tam \u2190 ?3 5\u23749"
      ]
    },
    {
      "cell_type": "markdown",
      "metadata": {},
      "source": [
        "Let us multiply row-wise:"
      ]
    },
    {
      "cell_type": "code",
      "execution_count": 164,
      "metadata": {},
      "outputs": [
        {
          "data": {
            "text/html": [
              "<span style=\"white-space:pre; font-family: monospace\">45 10 10 15  5\n",
              "10  8  4  6  6\n",
              "50 80 40 10 40\n",
              "</span>"
            ]
          },
          "execution_count": 164,
          "metadata": {},
          "output_type": "execute_result"
        }
      ],
      "source": [
        "Tam\u00d7[1]5 2 10"
      ]
    },
    {
      "cell_type": "markdown",
      "metadata": {},
      "source": [
        "And now column-wise:"
      ]
    },
    {
      "cell_type": "code",
      "execution_count": 165,
      "metadata": {},
      "outputs": [
        {
          "data": {
            "text/html": [
              "<span style=\"white-space:pre; font-family: monospace\">18 10 0 6 1\n",
              "10 20 0 6 3\n",
              "10 40 0 2 4\n",
              "</span>"
            ]
          },
          "execution_count": 165,
          "metadata": {},
          "output_type": "execute_result"
        }
      ],
      "source": [
        "Tam\u00d7[2]2 5 0 2 1"
      ]
    },
    {
      "cell_type": "markdown",
      "metadata": {},
      "source": [
        "### The Shape of the Result\n",
        "\n",
        "The dimensions of `Prod` are"
      ]
    },
    {
      "cell_type": "code",
      "execution_count": 166,
      "metadata": {},
      "outputs": [
        {
          "data": {
            "text/html": [
              "<span style=\"white-space:pre; font-family: monospace\">5 2 12\n",
              "</span>"
            ]
          },
          "execution_count": 166,
          "metadata": {},
          "output_type": "execute_result"
        }
      ],
      "source": [
        "\u2374Prod"
      ]
    },
    {
      "cell_type": "markdown",
      "metadata": {},
      "source": [
        "and we can see that the dimensions of `+/[1]Prod`, `+/[2]Prod` and `+/[3]Prod` depend on this shape. In fact, when the axis is 1, the shape of the result is the original shape without the 1st item:"
      ]
    },
    {
      "cell_type": "code",
      "execution_count": 167,
      "metadata": {},
      "outputs": [
        {
          "data": {
            "text/html": [
              "<span style=\"white-space:pre; font-family: monospace\">2 12\n",
              "</span>"
            ]
          },
          "execution_count": 167,
          "metadata": {},
          "output_type": "execute_result"
        }
      ],
      "source": [
        "\u2374+/[1]Prod"
      ]
    },
    {
      "cell_type": "markdown",
      "metadata": {},
      "source": [
        "When the axis is 2, the shape of the result is the original shape without the 2nd item:"
      ]
    },
    {
      "cell_type": "code",
      "execution_count": 168,
      "metadata": {},
      "outputs": [
        {
          "data": {
            "text/html": [
              "<span style=\"white-space:pre; font-family: monospace\">5 12\n",
              "</span>"
            ]
          },
          "execution_count": 168,
          "metadata": {},
          "output_type": "execute_result"
        }
      ],
      "source": [
        "\u2374+/[2]Prod"
      ]
    },
    {
      "cell_type": "markdown",
      "metadata": {},
      "source": [
        "And when the axis is 3, the shape of the result is the original shape without the 3rd item:"
      ]
    },
    {
      "cell_type": "code",
      "execution_count": 169,
      "metadata": {},
      "outputs": [
        {
          "data": {
            "text/html": [
              "<span style=\"white-space:pre; font-family: monospace\">5 2\n",
              "</span>"
            ]
          },
          "execution_count": 169,
          "metadata": {},
          "output_type": "execute_result"
        }
      ],
      "source": [
        "\u2374+/[3]Prod"
      ]
    },
    {
      "cell_type": "markdown",
      "metadata": {},
      "source": [
        "You can see that *Reduction* of a 3-D array gives a 2-D array, in which the summed dimension has \"disappeared\". This is the origin of the term \"*Reduction*\"; it *reduces* the *rank* of the array.\n",
        "\n",
        "This rule will help you predict the dimensions of the result of a reduction.\n",
        "\n",
        "```{admonition} Rule \n",
        ":class: tip\n",
        "When ***Reduction*** is applied along the Nth dimension of an array, the shape of the result is the same shape of the array, but without its Nth item.\n",
        "\n",
        "The ***Rank*** of the result is 1 less than the rank of the original array.\n",
        "```\n",
        "\n",
        "Whenever you want to calculate the sum along a particular dimension of an array, think of the dimensions in terms of concrete things: years, lines, months, etc. This should help you."
      ]
    },
    {
      "cell_type": "markdown",
      "metadata": {},
      "source": [
        "### Special Notations\n",
        "\n",
        "By default, if no axis is specified, reduction is applied along the **last** dimension of the array.\n",
        "\n",
        "This means `+/Prod` and `+/[3]Prod` are the same,"
      ]
    },
    {
      "cell_type": "code",
      "execution_count": 170,
      "metadata": {},
      "outputs": [
        {
          "data": {
            "text/html": [
              "<span style=\"white-space:pre; font-family: monospace\">1\n",
              "</span>"
            ]
          },
          "execution_count": 170,
          "metadata": {},
          "output_type": "execute_result"
        }
      ],
      "source": [
        "(+/Prod)\u2261(+/[3]Prod)"
      ]
    },
    {
      "cell_type": "markdown",
      "metadata": {},
      "source": [
        "much like `+/Forecast` and `+/[2]Forecast` are the same:"
      ]
    },
    {
      "cell_type": "code",
      "execution_count": 171,
      "metadata": {},
      "outputs": [
        {
          "data": {
            "text/html": [
              "<span style=\"white-space:pre; font-family: monospace\">1\n",
              "</span>"
            ]
          },
          "execution_count": 171,
          "metadata": {},
          "output_type": "execute_result"
        }
      ],
      "source": [
        "(+/Forecast)\u2261(+/[2]Forecast)"
      ]
    },
    {
      "cell_type": "markdown",
      "metadata": {},
      "source": [
        "But it is also common to work along the first dimension of an array. For this reason, APL includes a special symbol for reduction along the first dimension: `\u233f` (you can type it with <kbd>APL</kbd>+<kbd>/</kbd>).\n",
        "\n",
        "This means `+\u233fProd` and `+/[1]Prod` are the same,"
      ]
    },
    {
      "cell_type": "code",
      "execution_count": 172,
      "metadata": {},
      "outputs": [
        {
          "data": {
            "text/html": [
              "<span style=\"white-space:pre; font-family: monospace\">1\n",
              "</span>"
            ]
          },
          "execution_count": 172,
          "metadata": {},
          "output_type": "execute_result"
        }
      ],
      "source": [
        "(+\u233fProd)\u2261(+/[1]Prod)"
      ]
    },
    {
      "cell_type": "markdown",
      "metadata": {},
      "source": [
        "much like `+\u233fForecast` and `+/[1]Forecast` are the same:"
      ]
    },
    {
      "cell_type": "code",
      "execution_count": 173,
      "metadata": {},
      "outputs": [
        {
          "data": {
            "text/html": [
              "<span style=\"white-space:pre; font-family: monospace\">1\n",
              "</span>"
            ]
          },
          "execution_count": 173,
          "metadata": {},
          "output_type": "execute_result"
        }
      ],
      "source": [
        "(+\u233fForecast)\u2261(+/[1]Forecast)"
      ]
    },
    {
      "cell_type": "markdown",
      "metadata": {},
      "source": [
        "```{admonition} Note \n",
        ":class: note\n",
        "If one specifies an axis after the symbol `/` or `\u233f`, the function is applied along the specified *Axis*, regardless of the symbol that is actually used.\n",
        "```\n",
        "\n",
        "We demonstrate this note with two examples:"
      ]
    },
    {
      "cell_type": "code",
      "execution_count": 174,
      "metadata": {},
      "outputs": [
        {
          "data": {
            "text/html": [
              "<span style=\"white-space:pre; font-family: monospace\">1\n",
              "</span>"
            ]
          },
          "execution_count": 174,
          "metadata": {},
          "output_type": "execute_result"
        }
      ],
      "source": [
        "(+\u233f[3]Prod)\u2261(+/[3]Prod)"
      ]
    },
    {
      "cell_type": "code",
      "execution_count": 175,
      "metadata": {
        "scrolled": true
      },
      "outputs": [
        {
          "data": {
            "text/html": [
              "<span style=\"white-space:pre; font-family: monospace\">1\n",
              "</span>"
            ]
          },
          "execution_count": 175,
          "metadata": {},
          "output_type": "execute_result"
        }
      ],
      "source": [
        "(+\u233f[1]Forecast)\u2261(+/[1]Forecast)"
      ]
    },
    {
      "cell_type": "markdown",
      "metadata": {},
      "source": [
        "## Our First Program\n",
        "\n",
        "The expression we wrote in the \"Application 2\" subsection to calculate the average of a set of values is one that we may want to use time and time again. So let us store it as a program, or, to use the proper APL terminology, as a ***User Defined Function***.\n",
        "\n",
        "There are many different ways to define functions, and these will be covered in detail in the \"User Defined Functions\" chapter. For now we shall use the simplest, which is perfectly suitable for straightforward calculation functions like this one. Let's type:"
      ]
    },
    {
      "cell_type": "code",
      "execution_count": 176,
      "metadata": {},
      "outputs": [],
      "source": [
        "Average \u2190 {(+/\u2375)\u00f7(\u2262\u2375)}"
      ]
    },
    {
      "cell_type": "markdown",
      "metadata": {},
      "source": [
        " - `Average` is the name of the function. It is followed by the definition, delimited by a pair of curly braces `{` and `}`;\n",
        " - `\u2375` is a generic symbol that represents the array that will be passed as the right argument of the function;\n",
        " - `\u237a` is a generic symbol that represents the array that will be passed as the left argument of the function, if any.\n",
        " \n",
        "The symbols `\u2375` and `\u237a` are obtained using <kbd>APL</kbd>+<kbd>W</kbd> and <kbd>APL</kbd>+<kbd>A</kbd>, respectively.\n",
        "\n",
        "For more complex multi-line functions it is obviously more appropriate to use a text editor. However, this is beyond the scope of this chapter.\n",
        "\n",
        "Once defined, this function may be invoked directly, just as if it were a built-in (*primitive*) function:"
      ]
    },
    {
      "cell_type": "code",
      "execution_count": 177,
      "metadata": {},
      "outputs": [
        {
          "data": {
            "text/html": [
              "<span style=\"white-space:pre; font-family: monospace\">2415.69\n",
              "</span>"
            ]
          },
          "execution_count": 177,
          "metadata": {},
          "output_type": "execute_result"
        }
      ],
      "source": [
        "Average Salaries"
      ]
    },
    {
      "cell_type": "code",
      "execution_count": 178,
      "metadata": {},
      "outputs": [
        {
          "data": {
            "text/html": [
              "<span style=\"white-space:pre; font-family: monospace\">41.25\n",
              "</span>"
            ]
          },
          "execution_count": 178,
          "metadata": {},
          "output_type": "execute_result"
        }
      ],
      "source": [
        "Average 12 74 56 23"
      ]
    },
    {
      "cell_type": "markdown",
      "metadata": {},
      "source": [
        "The word `Average` can now be used in any APL expression. We have enriched the vocabulary which can be used to process data in this workspace (provided that we save it).\n",
        "\n",
        "Be patient: we shall see many other possibilities in the \"User Defined Functions\" chapter."
      ]
    },
    {
      "cell_type": "markdown",
      "metadata": {},
      "source": [
        "## Concatenation\n",
        "\n",
        "***Concatenation*** is a dyadic function which joins two arrays together. It is represented by comma (`,`). The function name is normally abbreviated to ***Catenate***, and we will use both terms."
      ]
    },
    {
      "cell_type": "markdown",
      "metadata": {},
      "source": [
        "### Concatenating Vectors\n",
        "\n",
        "*Catenate* is easy to understand:"
      ]
    },
    {
      "cell_type": "code",
      "execution_count": 179,
      "metadata": {},
      "outputs": [
        {
          "data": {
            "text/html": [
              "<span style=\"white-space:pre; font-family: monospace\">24 15 67 89 11 33 75\n",
              "</span>"
            ]
          },
          "execution_count": 179,
          "metadata": {},
          "output_type": "execute_result"
        }
      ],
      "source": [
        "A \u2190 24 15 67 89\n",
        "B \u2190 11 33 75\n",
        "A,B"
      ]
    },
    {
      "cell_type": "markdown",
      "metadata": {},
      "source": [
        "It is like joining two sentences together, so it is easy to remember which symbol to use. You can see that the length of the result (`\u2262(A,B)`) is equal to the sum of the lengths of the arguments (`(\u2262A) + (\u2262B)`):"
      ]
    },
    {
      "cell_type": "code",
      "execution_count": 180,
      "metadata": {},
      "outputs": [
        {
          "data": {
            "text/html": [
              "<span style=\"white-space:pre; font-family: monospace\">1\n",
              "</span>"
            ]
          },
          "execution_count": 180,
          "metadata": {},
          "output_type": "execute_result"
        }
      ],
      "source": [
        "((\u2262A)+(\u2262B))=\u2262A,B"
      ]
    },
    {
      "cell_type": "markdown",
      "metadata": {},
      "source": [
        "Character strings are processed in the same way:"
      ]
    },
    {
      "cell_type": "code",
      "execution_count": 181,
      "metadata": {},
      "outputs": [
        {
          "data": {
            "text/html": [
              "<span style=\"white-space:pre; font-family: monospace\">Tell meMore\n",
              "</span>"
            ]
          },
          "execution_count": 181,
          "metadata": {},
          "output_type": "execute_result"
        }
      ],
      "source": [
        "C \u2190 'Tell me'\n",
        "D \u2190 'More'\n",
        "C,D"
      ]
    },
    {
      "cell_type": "markdown",
      "metadata": {},
      "source": [
        "Note that there is no space inserted between the contents of the two vectors, just like there was no number inserted between `A` and `B` when we concatenated them above. When we concatenate a vector of 7 characters (like `C`) with a vector of 4 characters (like `D`), the result must have 11 characters.\n",
        "\n",
        "When you concatenate an empty vector to another vector, the result is the same as the original. Let us define an empty numeric vector `V`:"
      ]
    },
    {
      "cell_type": "code",
      "execution_count": 182,
      "metadata": {},
      "outputs": [
        {
          "data": {
            "text/html": [
              "<span style=\"white-space:pre; font-family: monospace\">\n",
              "</span>"
            ]
          },
          "execution_count": 182,
          "metadata": {},
          "output_type": "execute_result"
        }
      ],
      "source": [
        "\u22a2V \u2190 0\u23740"
      ]
    },
    {
      "cell_type": "markdown",
      "metadata": {},
      "source": [
        "We could use `\u236c` instead.\n",
        "\n",
        "Notice how the numeric vector `A` remains unchanged:"
      ]
    },
    {
      "cell_type": "code",
      "execution_count": 183,
      "metadata": {},
      "outputs": [
        {
          "data": {
            "text/html": [
              "<span style=\"white-space:pre; font-family: monospace\">24 15 67 89\n",
              "</span>"
            ]
          },
          "execution_count": 183,
          "metadata": {},
          "output_type": "execute_result"
        }
      ],
      "source": [
        "A,V"
      ]
    },
    {
      "cell_type": "markdown",
      "metadata": {},
      "source": [
        "Similarly, concatenating character strings with `''` does nothing:"
      ]
    },
    {
      "cell_type": "code",
      "execution_count": 184,
      "metadata": {},
      "outputs": [
        {
          "data": {
            "text/html": [
              "<span style=\"white-space:pre; font-family: monospace\">Tell meMore\n",
              "</span>"
            ]
          },
          "execution_count": 184,
          "metadata": {},
          "output_type": "execute_result"
        }
      ],
      "source": [
        "C,'',D"
      ]
    },
    {
      "cell_type": "markdown",
      "metadata": {},
      "source": [
        "### Concatenating Other Arrays\n",
        "\n",
        "It is possible to concatenate two arrays if their shapes are compatible. The axis along which the concatenation is to be performed must be specified, if it is different from the default.\n",
        "\n",
        "Let us use three matrices `A`, `B` and `C`:"
      ]
    },
    {
      "cell_type": "code",
      "execution_count": 185,
      "metadata": {},
      "outputs": [
        {
          "data": {
            "text/html": [
              "<span style=\"white-space:pre; font-family: monospace\">AAAA\n",
              "AAAA\n",
              "AAAA\n",
              "</span>"
            ]
          },
          "execution_count": 185,
          "metadata": {},
          "output_type": "execute_result"
        }
      ],
      "source": [
        "\u22a2A \u2190 3 4 \u2374 'A'"
      ]
    },
    {
      "cell_type": "code",
      "execution_count": 186,
      "metadata": {},
      "outputs": [
        {
          "data": {
            "text/html": [
              "<span style=\"white-space:pre; font-family: monospace\">BBBB\n",
              "BBBB\n",
              "</span>"
            ]
          },
          "execution_count": 186,
          "metadata": {},
          "output_type": "execute_result"
        }
      ],
      "source": [
        "\u22a2B \u2190 2 4 \u2374 'B'"
      ]
    },
    {
      "cell_type": "code",
      "execution_count": 187,
      "metadata": {},
      "outputs": [
        {
          "data": {
            "text/html": [
              "<span style=\"white-space:pre; font-family: monospace\">CCC\n",
              "CCC\n",
              "CCC\n",
              "</span>"
            ]
          },
          "execution_count": 187,
          "metadata": {},
          "output_type": "execute_result"
        }
      ],
      "source": [
        "\u22a2C \u2190 3 3 \u2374 'C'"
      ]
    },
    {
      "cell_type": "markdown",
      "metadata": {},
      "source": [
        "The possible concatenations are:\n",
        "\n",
        " - the vertical concatenation of `A` and `B`:\n",
        "\n",
        "```{figure} ../res/Vertical_Concatenation_AB.png\n",
        "---\n",
        "name: Vertical_Concatenation_AB\n",
        "---\n",
        "Matrices `A` and `B` concatenated together vertically\n",
        "```\n",
        "\n",
        " - and the horizontal concatenation of `A` and `C`:\n",
        " \n",
        "```{figure} ../res/Horizontal_Concatenation_AC.png\n",
        "---\n",
        "name: Horizontal_Concatenation_AC\n",
        "---\n",
        "Matrices `A` and `C` concatenated together horizontally\n",
        "```\n",
        "\n",
        "It is not possible to concatenate `B` and `C` because none of their dimensions are compatible.\n",
        "\n",
        "To concatenate vertically, we want the two matrices to be stacked on top of each other, creating a matrix with more *rows*, i.e. we want to create a matrix with a larger 1st dimension:"
      ]
    },
    {
      "cell_type": "code",
      "execution_count": 188,
      "metadata": {},
      "outputs": [
        {
          "data": {
            "text/html": [
              "<span style=\"white-space:pre; font-family: monospace\">AAAA\n",
              "AAAA\n",
              "AAAA\n",
              "BBBB\n",
              "BBBB\n",
              "</span>"
            ]
          },
          "execution_count": 188,
          "metadata": {},
          "output_type": "execute_result"
        }
      ],
      "source": [
        "A,[1]B"
      ]
    },
    {
      "cell_type": "markdown",
      "metadata": {},
      "source": [
        "The shape of the result is"
      ]
    },
    {
      "cell_type": "code",
      "execution_count": 189,
      "metadata": {},
      "outputs": [
        {
          "data": {
            "text/html": [
              "<span style=\"white-space:pre; font-family: monospace\">5 4\n",
              "</span>"
            ]
          },
          "execution_count": 189,
          "metadata": {},
          "output_type": "execute_result"
        }
      ],
      "source": [
        "\u2374A,[1]B"
      ]
    },
    {
      "cell_type": "markdown",
      "metadata": {},
      "source": [
        "and writing"
      ]
    },
    {
      "cell_type": "code",
      "execution_count": 190,
      "metadata": {},
      "outputs": [
        {
          "data": {
            "text/html": [
              "<span style=\"white-space:pre; font-family: monospace\">BBBB\n",
              "BBBB\n",
              "AAAA\n",
              "AAAA\n",
              "AAAA\n",
              "</span>"
            ]
          },
          "execution_count": 190,
          "metadata": {},
          "output_type": "execute_result"
        }
      ],
      "source": [
        "B,[1]A"
      ]
    },
    {
      "cell_type": "markdown",
      "metadata": {},
      "source": [
        "puts `B` on top of `A` instead.\n",
        "\n",
        "Similarly, to stack matrices `A` and `C` horizontally we create a matrix where the 2nd dimension is larger:"
      ]
    },
    {
      "cell_type": "code",
      "execution_count": 191,
      "metadata": {},
      "outputs": [
        {
          "data": {
            "text/html": [
              "<span style=\"white-space:pre; font-family: monospace\">AAAACCC\n",
              "AAAACCC\n",
              "AAAACCC\n",
              "</span>"
            ]
          },
          "execution_count": 191,
          "metadata": {},
          "output_type": "execute_result"
        }
      ],
      "source": [
        "A,[2]C"
      ]
    },
    {
      "cell_type": "markdown",
      "metadata": {},
      "source": [
        "The shape of the result is"
      ]
    },
    {
      "cell_type": "code",
      "execution_count": 192,
      "metadata": {},
      "outputs": [
        {
          "data": {
            "text/html": [
              "<span style=\"white-space:pre; font-family: monospace\">3 7\n",
              "</span>"
            ]
          },
          "execution_count": 192,
          "metadata": {},
          "output_type": "execute_result"
        }
      ],
      "source": [
        "\u2374A,[2]C"
      ]
    },
    {
      "cell_type": "markdown",
      "metadata": {},
      "source": [
        "and writing"
      ]
    },
    {
      "cell_type": "code",
      "execution_count": 193,
      "metadata": {},
      "outputs": [
        {
          "data": {
            "text/html": [
              "<span style=\"white-space:pre; font-family: monospace\">CCCAAAA\n",
              "CCCAAAA\n",
              "CCCAAAA\n",
              "</span>"
            ]
          },
          "execution_count": 193,
          "metadata": {},
          "output_type": "execute_result"
        }
      ],
      "source": [
        "C,[2]A"
      ]
    },
    {
      "cell_type": "markdown",
      "metadata": {},
      "source": [
        "puts `C` to the left of `A` instead.\n",
        "\n",
        "In the same way as for *Reduction*, the *Axis* operator indicates which dimension will change during the operation, as we can see by inspecting the shapes of `A`, `B`, `C` and the stacked matrices:"
      ]
    },
    {
      "cell_type": "code",
      "execution_count": 194,
      "metadata": {},
      "outputs": [
        {
          "data": {
            "text/html": [
              "<span style=\"white-space:pre; font-family: monospace\">3 4\n",
              "</span>"
            ]
          },
          "execution_count": 194,
          "metadata": {},
          "output_type": "execute_result"
        }
      ],
      "source": [
        "\u2374A"
      ]
    },
    {
      "cell_type": "code",
      "execution_count": 195,
      "metadata": {},
      "outputs": [
        {
          "data": {
            "text/html": [
              "<span style=\"white-space:pre; font-family: monospace\">2 4\n",
              "</span>"
            ]
          },
          "execution_count": 195,
          "metadata": {},
          "output_type": "execute_result"
        }
      ],
      "source": [
        "\u2374B"
      ]
    },
    {
      "cell_type": "code",
      "execution_count": 196,
      "metadata": {},
      "outputs": [
        {
          "data": {
            "text/html": [
              "<span style=\"white-space:pre; font-family: monospace\">5 4\n",
              "</span>"
            ]
          },
          "execution_count": 196,
          "metadata": {},
          "output_type": "execute_result"
        }
      ],
      "source": [
        "\u2374A,[1]B"
      ]
    },
    {
      "cell_type": "markdown",
      "metadata": {},
      "source": [
        "Using `,[1]`changes the 1st dimension.\n",
        "\n",
        "Using `,[2]` instead, we change the 2nd dimension:"
      ]
    },
    {
      "cell_type": "code",
      "execution_count": 197,
      "metadata": {},
      "outputs": [
        {
          "data": {
            "text/html": [
              "<span style=\"white-space:pre; font-family: monospace\">3 4\n",
              "</span>"
            ]
          },
          "execution_count": 197,
          "metadata": {},
          "output_type": "execute_result"
        }
      ],
      "source": [
        "\u2374A"
      ]
    },
    {
      "cell_type": "code",
      "execution_count": 198,
      "metadata": {},
      "outputs": [
        {
          "data": {
            "text/html": [
              "<span style=\"white-space:pre; font-family: monospace\">3 3\n",
              "</span>"
            ]
          },
          "execution_count": 198,
          "metadata": {},
          "output_type": "execute_result"
        }
      ],
      "source": [
        "\u2374C"
      ]
    },
    {
      "cell_type": "code",
      "execution_count": 199,
      "metadata": {},
      "outputs": [
        {
          "data": {
            "text/html": [
              "<span style=\"white-space:pre; font-family: monospace\">3 7\n",
              "</span>"
            ]
          },
          "execution_count": 199,
          "metadata": {},
          "output_type": "execute_result"
        }
      ],
      "source": [
        "\u2374A,[2]C"
      ]
    },
    {
      "cell_type": "markdown",
      "metadata": {},
      "source": [
        "The following nested array shows the four possible different catenations side by side:"
      ]
    },
    {
      "cell_type": "code",
      "execution_count": 200,
      "metadata": {},
      "outputs": [
        {
          "data": {
            "text/html": [
              "<span style=\"white-space:pre; font-family: monospace\">\u250c\u2500\u2500\u2500\u2500\u252c\u2500\u2500\u2500\u2500\u252c\u2500\u2500\u2500\u2500\u2500\u2500\u2500\u252c\u2500\u2500\u2500\u2500\u2500\u2500\u2500\u2510\n",
              "\u2502AAAA\u2502BBBB\u2502AAAACCC\u2502CCCAAAA\u2502\n",
              "\u2502AAAA\u2502BBBB\u2502AAAACCC\u2502CCCAAAA\u2502\n",
              "\u2502AAAA\u2502AAAA\u2502AAAACCC\u2502CCCAAAA\u2502\n",
              "\u2502BBBB\u2502AAAA\u2502       \u2502       \u2502\n",
              "\u2502BBBB\u2502AAAA\u2502       \u2502       \u2502\n",
              "\u2514\u2500\u2500\u2500\u2500\u2534\u2500\u2500\u2500\u2500\u2534\u2500\u2500\u2500\u2500\u2500\u2500\u2500\u2534\u2500\u2500\u2500\u2500\u2500\u2500\u2500\u2518\n",
              "</span>"
            ]
          },
          "execution_count": 200,
          "metadata": {},
          "output_type": "execute_result"
        }
      ],
      "source": [
        "(A,[1]B) (B,[1]A) (A,[2]C) (C,[2]A)"
      ]
    },
    {
      "cell_type": "markdown",
      "metadata": {},
      "source": [
        "```{admonition} Rule \n",
        ":class: tip\n",
        "It is possible to ***Concatenate*** two arrays `A` and `B` along their *I*<sup>th</sup> dimension, provided that they have the same rank, and provided that all other dimensions have the same lengths.\n",
        "\n",
        "The operation is written like this: `A,[I]B`\n",
        "\n",
        "It is also possible to ***Concatenate*** an array `A` of rank *N* to another array `B` of rank *N-1*. The concatenation **must** then be done along a dimension of `A` such that its other dimensions are strictly identical to those of `B`.\n",
        "```\n",
        "\n",
        "For example, it is possible to concatenate a vector to a matrix, provided that the vector has the same length as the corresponding dimension of the matrix:"
      ]
    },
    {
      "cell_type": "code",
      "execution_count": 201,
      "metadata": {},
      "outputs": [
        {
          "data": {
            "text/html": [
              "<span style=\"white-space:pre; font-family: monospace\">AAAA\n",
              "AAAA\n",
              "AAAA\n",
              "JUMP\n",
              "</span>"
            ]
          },
          "execution_count": 201,
          "metadata": {},
          "output_type": "execute_result"
        }
      ],
      "source": [
        "A,[1]'JUMP'"
      ]
    },
    {
      "cell_type": "code",
      "execution_count": 202,
      "metadata": {},
      "outputs": [
        {
          "data": {
            "text/html": [
              "<span style=\"white-space:pre; font-family: monospace\">AAAAT\n",
              "AAAAO\n",
              "AAAAP\n",
              "</span>"
            ]
          },
          "execution_count": 202,
          "metadata": {},
          "output_type": "execute_result"
        }
      ],
      "source": [
        "A,[2]'TOP'"
      ]
    },
    {
      "cell_type": "markdown",
      "metadata": {},
      "source": [
        "In the first example, `'JUMP'` has length 4 and the shape of `A` is `3 4`, so we can see `'JUMP'` as having shape `1 4` and so we **must** catenate along `[1]`. The shape of the result is"
      ]
    },
    {
      "cell_type": "code",
      "execution_count": 203,
      "metadata": {},
      "outputs": [
        {
          "data": {
            "text/html": [
              "<span style=\"white-space:pre; font-family: monospace\">4 4\n",
              "</span>"
            ]
          },
          "execution_count": 203,
          "metadata": {},
          "output_type": "execute_result"
        }
      ],
      "source": [
        "\u2374A,[1]'JUMP'"
      ]
    },
    {
      "cell_type": "markdown",
      "metadata": {},
      "source": [
        "and we see it was the 1st dimension that changed.\n",
        "\n",
        "In the second example, `'TOP'` has length 3 and the shape of `A` is `3 4`, so we can see `'TOP'` as having shape `3 1` and so we **must** catenate along `[2]`. The shape of the result is"
      ]
    },
    {
      "cell_type": "code",
      "execution_count": 204,
      "metadata": {},
      "outputs": [
        {
          "data": {
            "text/html": [
              "<span style=\"white-space:pre; font-family: monospace\">3 5\n",
              "</span>"
            ]
          },
          "execution_count": 204,
          "metadata": {},
          "output_type": "execute_result"
        }
      ],
      "source": [
        "\u2374A,[2]'TOP'"
      ]
    },
    {
      "cell_type": "markdown",
      "metadata": {},
      "source": [
        "and we see it was the 2nd dimension that changed.\n",
        "\n",
        "```{admonition} Example \n",
        ":class: tip\n",
        "We can add a row of totals to the bottom of a matrix `Y` with an expression like `Y,[1] (+/[1]Y)`:\n",
        "```\n"
      ]
    },
    {
      "cell_type": "code",
      "execution_count": 205,
      "metadata": {},
      "outputs": [
        {
          "data": {
            "text/html": [
              "<span style=\"white-space:pre; font-family: monospace\"> 90  160  420  500   20   30\n",
              "110  450  170  370  290  360\n",
              "340  190  320  120  510  370\n",
              "150  460  240  520  490  280\n",
              "690 1260 1150 1510 1310 1040\n",
              "</span>"
            ]
          },
          "execution_count": 205,
          "metadata": {},
          "output_type": "execute_result"
        }
      ],
      "source": [
        "Forecast,[1] (+/[1]Forecast)"
      ]
    },
    {
      "cell_type": "markdown",
      "metadata": {},
      "source": [
        "The parentheses are for ease of interpretation; they are not necessary.\n",
        "\n",
        "In a similar way, it is possible to concatenate a matrix to a 3-D array.\n",
        "\n",
        "```{admonition} Example \n",
        ":class: tip\n",
        "We would like to append to `Prod` (a 3-D array) the production of a subcontractor, organised as an array of 5 years and 12 months.\n",
        "```\n"
      ]
    },
    {
      "cell_type": "code",
      "execution_count": 206,
      "metadata": {},
      "outputs": [
        {
          "data": {
            "text/html": [
              "<span style=\"white-space:pre; font-family: monospace\"> 9 16 10 18  2  3 11 13 17  5  4  2\n",
              "19 12 19  5 15 14 20 17  4  9  5 13\n",
              " 4 16  7  2 14 20 15 17 18 13  6 19\n",
              "10  6 20 13  5 19  5 10 17 16 19 20\n",
              "18 14 15 15  3  7  9 20  6  8  8 17\n",
              "</span>"
            ]
          },
          "execution_count": 206,
          "metadata": {},
          "output_type": "execute_result"
        }
      ],
      "source": [
        "\u2395RL \u2190 73\n",
        "\u22a2Subcon \u2190 ?5 12\u237420"
      ]
    },
    {
      "cell_type": "markdown",
      "metadata": {},
      "source": [
        "The shape of `Subcon` is"
      ]
    },
    {
      "cell_type": "code",
      "execution_count": 207,
      "metadata": {},
      "outputs": [
        {
          "data": {
            "text/html": [
              "<span style=\"white-space:pre; font-family: monospace\">5 12\n",
              "</span>"
            ]
          },
          "execution_count": 207,
          "metadata": {},
          "output_type": "execute_result"
        }
      ],
      "source": [
        "\u2374Subcon"
      ]
    },
    {
      "cell_type": "markdown",
      "metadata": {},
      "source": [
        "and the shape of `Prod` is"
      ]
    },
    {
      "cell_type": "code",
      "execution_count": 208,
      "metadata": {},
      "outputs": [
        {
          "data": {
            "text/html": [
              "<span style=\"white-space:pre; font-family: monospace\">5 2 12\n",
              "</span>"
            ]
          },
          "execution_count": 208,
          "metadata": {},
          "output_type": "execute_result"
        }
      ],
      "source": [
        "\u2374Prod"
      ]
    },
    {
      "cell_type": "markdown",
      "metadata": {},
      "source": [
        "The two **must** be concatenated along the 2nd dimension of `Prod` and the result will have the shape"
      ]
    },
    {
      "cell_type": "code",
      "execution_count": 209,
      "metadata": {},
      "outputs": [
        {
          "data": {
            "text/html": [
              "<span style=\"white-space:pre; font-family: monospace\">5 3 12\n",
              "</span>"
            ]
          },
          "execution_count": 209,
          "metadata": {},
          "output_type": "execute_result"
        }
      ],
      "source": [
        "\u2374Prod,[2]Subcon"
      ]
    },
    {
      "cell_type": "markdown",
      "metadata": {},
      "source": [
        "You see, it is as if `Subcon` had the length 1 along the concatenation dimension (the missing one), i.e. it as if `Subcon` had shape `5 1 12`."
      ]
    },
    {
      "cell_type": "code",
      "execution_count": 210,
      "metadata": {},
      "outputs": [
        {
          "data": {
            "text/html": [
              "<span style=\"white-space:pre; font-family: monospace\"> 9 16 42 50  2  3 11 45 17 37 29 36\n",
              "34 19 32 12 37 15 46 24 49 28 36  9\n",
              " 9 16 10 18  2  3 11 13 17  5  4  2\n",
              "                                   \n",
              "29  5 45 23 27  4 23 16 39 22 22  2\n",
              "46 20 47 17 18 25 13 38 42 38 45 28\n",
              "19 12 19  5 15 14 20 17  4  9  5 13\n",
              "                                   \n",
              "37 19  5 10 30 49 16 18 46 47 47  3\n",
              "39 23 41 20  6 40 21 22 40 49 20  1\n",
              " 4 16  7  2 14 20 15 17 18 13  6 19\n",
              "                                   \n",
              "13 36 12 40 12 15 24 20 21 12 19 25\n",
              " 8 48 22 37 33  1 39 30 50 50  8 35\n",
              "10  6 20 13  5 19  5 10 17 16 19 20\n",
              "                                   \n",
              "38 31 24 40 23  7 20 34 35  6 19 27\n",
              "41  1 14 50 17 42  6 35 12 48 30 29\n",
              "18 14 15 15  3  7  9 20  6  8  8 17\n",
              "</span>"
            ]
          },
          "execution_count": 210,
          "metadata": {},
          "output_type": "execute_result"
        }
      ],
      "source": [
        "Prod,[2]Subcon"
      ]
    },
    {
      "cell_type": "markdown",
      "metadata": {},
      "source": [
        "### Concatenating Scalars\n",
        "\n",
        "When a scalar is concatenated to an array it is repeated as many times as necessary to match the length of the appropriate dimension of the array.\n",
        "\n",
        "Here are two examples, using the matrix `A` from before:"
      ]
    },
    {
      "cell_type": "code",
      "execution_count": 211,
      "metadata": {},
      "outputs": [
        {
          "data": {
            "text/html": [
              "<span style=\"white-space:pre; font-family: monospace\">AAAA\n",
              "AAAA\n",
              "AAAA\n",
              "----\n",
              "</span>"
            ]
          },
          "execution_count": 211,
          "metadata": {},
          "output_type": "execute_result"
        }
      ],
      "source": [
        "A,[1]'-'"
      ]
    },
    {
      "cell_type": "code",
      "execution_count": 212,
      "metadata": {},
      "outputs": [
        {
          "data": {
            "text/html": [
              "<span style=\"white-space:pre; font-family: monospace\">AAAA*\n",
              "AAAA*\n",
              "AAAA*\n",
              "</span>"
            ]
          },
          "execution_count": 212,
          "metadata": {},
          "output_type": "execute_result"
        }
      ],
      "source": [
        "A,[2]'*'"
      ]
    },
    {
      "cell_type": "markdown",
      "metadata": {},
      "source": [
        "This property is very useful, because it saves us working out how many items are needed to match the corresponding dimension of the array.\n",
        "\n",
        "We can also concatenate two scalars. The result is of course a 2-item vector:"
      ]
    },
    {
      "cell_type": "code",
      "execution_count": 213,
      "metadata": {},
      "outputs": [
        {
          "data": {
            "text/html": [
              "<span style=\"white-space:pre; font-family: monospace\">7 9\n",
              "</span>"
            ]
          },
          "execution_count": 213,
          "metadata": {},
          "output_type": "execute_result"
        }
      ],
      "source": [
        "7,9"
      ]
    },
    {
      "cell_type": "markdown",
      "metadata": {},
      "source": [
        "### Special Notations\n",
        "\n",
        "By default, if no axis is specified catenation works along the last dimension of the array(s).\n",
        "\n",
        "So"
      ]
    },
    {
      "cell_type": "code",
      "execution_count": 214,
      "metadata": {},
      "outputs": [
        {
          "data": {
            "text/html": [
              "<span style=\"white-space:pre; font-family: monospace\">AAAACCC\n",
              "AAAACCC\n",
              "AAAACCC\n",
              "</span>"
            ]
          },
          "execution_count": 214,
          "metadata": {},
          "output_type": "execute_result"
        }
      ],
      "source": [
        "A,C"
      ]
    },
    {
      "cell_type": "markdown",
      "metadata": {},
      "source": [
        "is equivalent to"
      ]
    },
    {
      "cell_type": "code",
      "execution_count": 215,
      "metadata": {},
      "outputs": [
        {
          "data": {
            "text/html": [
              "<span style=\"white-space:pre; font-family: monospace\">AAAACCC\n",
              "AAAACCC\n",
              "AAAACCC\n",
              "</span>"
            ]
          },
          "execution_count": 215,
          "metadata": {},
          "output_type": "execute_result"
        }
      ],
      "source": [
        "A,[2]C"
      ]
    },
    {
      "cell_type": "code",
      "execution_count": 216,
      "metadata": {},
      "outputs": [
        {
          "data": {
            "text/html": [
              "<span style=\"white-space:pre; font-family: monospace\">1\n",
              "</span>"
            ]
          },
          "execution_count": 216,
          "metadata": {},
          "output_type": "execute_result"
        }
      ],
      "source": [
        "(A,C)\u2261(A,[2]C)"
      ]
    },
    {
      "cell_type": "markdown",
      "metadata": {},
      "source": [
        "APL also includes a special symbol that means \"Concatenate along the **first** dimension\"; this symbol is a comma topped by a minus sign: `\u236a`.\n",
        "\n",
        "It can be obtained by <kbd>APL</kbd>+<kbd>Shift</kbd>+<kbd>,</kbd>."
      ]
    },
    {
      "cell_type": "markdown",
      "metadata": {},
      "source": [
        "So"
      ]
    },
    {
      "cell_type": "code",
      "execution_count": 217,
      "metadata": {},
      "outputs": [
        {
          "data": {
            "text/html": [
              "<span style=\"white-space:pre; font-family: monospace\">AAAA\n",
              "AAAA\n",
              "AAAA\n",
              "BBBB\n",
              "BBBB\n",
              "</span>"
            ]
          },
          "execution_count": 217,
          "metadata": {},
          "output_type": "execute_result"
        }
      ],
      "source": [
        "A\u236aB"
      ]
    },
    {
      "cell_type": "markdown",
      "metadata": {},
      "source": [
        "is equivalent to"
      ]
    },
    {
      "cell_type": "code",
      "execution_count": 218,
      "metadata": {},
      "outputs": [
        {
          "data": {
            "text/html": [
              "<span style=\"white-space:pre; font-family: monospace\">AAAA\n",
              "AAAA\n",
              "AAAA\n",
              "BBBB\n",
              "BBBB\n",
              "</span>"
            ]
          },
          "execution_count": 218,
          "metadata": {},
          "output_type": "execute_result"
        }
      ],
      "source": [
        "A,[1]B"
      ]
    },
    {
      "cell_type": "code",
      "execution_count": 219,
      "metadata": {},
      "outputs": [
        {
          "data": {
            "text/html": [
              "<span style=\"white-space:pre; font-family: monospace\">1\n",
              "</span>"
            ]
          },
          "execution_count": 219,
          "metadata": {},
          "output_type": "execute_result"
        }
      ],
      "source": [
        "(A\u236aB)\u2261(A,[1]B)"
      ]
    },
    {
      "cell_type": "markdown",
      "metadata": {},
      "source": [
        "```{admonition} Note \n",
        ":class: note\n",
        "If an axis is specified, the operation is processed according to the axis specification, regardless of the symbol (`,` or `\u236a`) that is actually used.\n",
        "```\n",
        "\n",
        "This means `A,[2]C` and `A\u236a[2]C` are both equivalent to `A,C` and `A,[1]B` and `A\u236a[1]B` are both equivalent to `A\u236aB`."
      ]
    },
    {
      "cell_type": "markdown",
      "metadata": {},
      "source": [
        "### Idioms\n",
        "\n",
        "It is common to see *Catenate* used in conjunction with *Reduce*, as `,/`. Let us start by understanding what it does:"
      ]
    },
    {
      "cell_type": "code",
      "execution_count": 220,
      "metadata": {},
      "outputs": [
        {
          "data": {
            "text/html": [
              "<span style=\"white-space:pre; font-family: monospace\">\u250c\u2500\u252c\u2500\u2500\u2500\u252c\u2500\u2500\u2500\u2500\u2500\u252c\u2500\u2500\u2500\u2500\u2500\u2500\u2500\u2510\n",
              "\u25020\u25021 2\u25023 4 5\u25026 7 8 9\u2502\n",
              "\u2514\u2500\u2534\u2500\u2500\u2500\u2534\u2500\u2500\u2500\u2500\u2500\u2534\u2500\u2500\u2500\u2500\u2500\u2500\u2500\u2518\n",
              "</span>"
            ]
          },
          "execution_count": 220,
          "metadata": {},
          "output_type": "execute_result"
        }
      ],
      "source": [
        "0 (1 2) (3 4 5) (6 7 8 9)"
      ]
    },
    {
      "cell_type": "code",
      "execution_count": 221,
      "metadata": {
        "scrolled": true
      },
      "outputs": [
        {
          "data": {
            "text/html": [
              "<span style=\"white-space:pre; font-family: monospace\">\u250c\u2500\u2500\u2500\u2500\u2500\u2500\u2500\u2500\u2500\u2500\u2500\u2500\u2500\u2500\u2500\u2500\u2500\u2500\u2500\u2510\n",
              "\u25020 1 2 3 4 5 6 7 8 9\u2502\n",
              "\u2514\u2500\u2500\u2500\u2500\u2500\u2500\u2500\u2500\u2500\u2500\u2500\u2500\u2500\u2500\u2500\u2500\u2500\u2500\u2500\u2518\n",
              "</span>"
            ]
          },
          "execution_count": 221,
          "metadata": {},
          "output_type": "execute_result"
        }
      ],
      "source": [
        ",/0 (1 2) (3 4 5) (6 7 8 9)"
      ]
    },
    {
      "cell_type": "code",
      "execution_count": 222,
      "metadata": {},
      "outputs": [
        {
          "data": {
            "text/html": [
              "<span style=\"white-space:pre; font-family: monospace\">\u250c\u2500\u252c\u2500\u2500\u2500\u252c\u2500\u2500\u2500\u2500\u2500\u2510\n",
              "\u2502a\u2502bcd\u2502efghi\u2502\n",
              "\u2514\u2500\u2534\u2500\u2500\u2500\u2534\u2500\u2500\u2500\u2500\u2500\u2518\n",
              "</span>"
            ]
          },
          "execution_count": 222,
          "metadata": {},
          "output_type": "execute_result"
        }
      ],
      "source": [
        "'a' 'bcd' 'efghi'"
      ]
    },
    {
      "cell_type": "code",
      "execution_count": 223,
      "metadata": {},
      "outputs": [
        {
          "data": {
            "text/html": [
              "<span style=\"white-space:pre; font-family: monospace\">\u250c\u2500\u2500\u2500\u2500\u2500\u2500\u2500\u2500\u2500\u2510\n",
              "\u2502abcdefghi\u2502\n",
              "\u2514\u2500\u2500\u2500\u2500\u2500\u2500\u2500\u2500\u2500\u2518\n",
              "</span>"
            ]
          },
          "execution_count": 223,
          "metadata": {},
          "output_type": "execute_result"
        }
      ],
      "source": [
        ",/ 'a' 'bcd' 'efghi'"
      ]
    },
    {
      "cell_type": "markdown",
      "metadata": {},
      "source": [
        "We can see above that *Reduce by Catenate* joins the items of a vector all together.\n",
        "\n",
        "We call ***Idioms*** to these common usages of primitives with each other. These are expressions which can be understood as an entity at first sight (with some practice!).\n",
        "\n",
        "For someone who knows nothing of APL the expression above may take a bit of time to digest (even if they have an extensive knowledge of other programming languages), and they cannot readily appreciate that an APL programmer can understand it immediately, without having to read each of the symbols one by one.\n",
        "\n",
        "This is not a paradox. For young children, reading the word \"Daddy\" is complex. It requires the comprehension of a sequence of letters one-by-one. I presume that you no longer do that, do you? **You do not read the letters**; you understand **the word** as a whole. This is exactly the same for the above idiom.\n",
        "\n",
        "Incidentally, it is not just the APL programmer who is capable of processing an idiomatic expression in its entirety. Dyalog APL itself includes a special *Idiom Recognition* feature that speeds up the processing of APL code for many popular idioms. The Windows IDE even colours these idioms differently.\n",
        "\n",
        "We have been using another short idiom fairly often: `\u2262\u2374`, which computes the rank of an array. Other than the idioms automatically recognised by Dyalog APL, there is no objective criteria to determine if a combination of primitives is an idiom or not: it depends on your skill, experience and even the context you are working on."
      ]
    },
    {
      "cell_type": "markdown",
      "metadata": {},
      "source": [
        "## Replication\n",
        "\n",
        "### Basic Approach: Compression\n",
        "\n",
        "To extract scattered values from a vector, we can use indexing:"
      ]
    },
    {
      "cell_type": "code",
      "execution_count": 224,
      "metadata": {},
      "outputs": [
        {
          "data": {
            "text/html": [
              "<span style=\"white-space:pre; font-family: monospace\">85 96 82\n",
              "</span>"
            ]
          },
          "execution_count": 224,
          "metadata": {},
          "output_type": "execute_result"
        }
      ],
      "source": [
        "Contents[5 6 11]"
      ]
    },
    {
      "cell_type": "markdown",
      "metadata": {},
      "source": [
        "We can also use a new function named ***Compression*** (or *Compress*). It takes a Boolean vector as its left argument, and any array of appropriate shape as its right argument. The items of the right argument which match the 1s in the left argument are preserved, whereas those which match the 0s are removed. It acts like a mask or a filter:"
      ]
    },
    {
      "cell_type": "code",
      "execution_count": 225,
      "metadata": {},
      "outputs": [
        {
          "data": {
            "text/html": [
              "<span style=\"white-space:pre; font-family: monospace\">15 79\n",
              "</span>"
            ]
          },
          "execution_count": 225,
          "metadata": {},
          "output_type": "execute_result"
        }
      ],
      "source": [
        "0 1 1 0 / 42 15 79 66"
      ]
    },
    {
      "cell_type": "code",
      "execution_count": 226,
      "metadata": {},
      "outputs": [
        {
          "data": {
            "text/html": [
              "<span style=\"white-space:pre; font-family: monospace\">Duck\n",
              "</span>"
            ]
          },
          "execution_count": 226,
          "metadata": {},
          "output_type": "execute_result"
        }
      ],
      "source": [
        "1 0 1 0 0 0 0 1 1 / 'Drumstick'"
      ]
    },
    {
      "cell_type": "markdown",
      "metadata": {},
      "source": [
        "This is extremely useful, because we can use *Compression* to select items which match a given condition.\n",
        "\n",
        "For example, let us extract from `Contents` the values which are greater than 80.\n",
        "\n",
        "The Boolean vector for the left argument is obtained by `Contents>80`, and the selection is made by:"
      ]
    },
    {
      "cell_type": "code",
      "execution_count": 227,
      "metadata": {},
      "outputs": [
        {
          "data": {
            "text/html": [
              "<span style=\"white-space:pre; font-family: monospace\">85 96 82\n",
              "</span>"
            ]
          },
          "execution_count": 227,
          "metadata": {},
          "output_type": "execute_result"
        }
      ],
      "source": [
        "(Contents>80) / Contents"
      ]
    },
    {
      "cell_type": "markdown",
      "metadata": {},
      "source": [
        "Of course, the same operation can be applied to any array of any dimension. For higher dimensional arrays, we can use the *Axis* to specify along which axis to compress. For example, if we have a matrix of chemical formulas:"
      ]
    },
    {
      "cell_type": "code",
      "execution_count": 228,
      "metadata": {},
      "outputs": [
        {
          "data": {
            "text/html": [
              "<span style=\"white-space:pre; font-family: monospace\">H2SO4\n",
              "CaCO3\n",
              "Fe2O3\n",
              "</span>"
            ]
          },
          "execution_count": 228,
          "metadata": {},
          "output_type": "execute_result"
        }
      ],
      "source": [
        "\u22a2Chemistry \u2190 3 5\u2374'H2SO4CaCO3Fe2O3'"
      ]
    },
    {
      "cell_type": "code",
      "execution_count": 229,
      "metadata": {},
      "outputs": [
        {
          "data": {
            "text/html": [
              "<span style=\"white-space:pre; font-family: monospace\">H2SO4\n",
              "Fe2O3\n",
              "</span>"
            ]
          },
          "execution_count": 229,
          "metadata": {},
          "output_type": "execute_result"
        }
      ],
      "source": [
        "1 0 1 /[1] Chemistry"
      ]
    },
    {
      "cell_type": "markdown",
      "metadata": {},
      "source": [
        "By using `/[1]` we are compressing the 1st dimension of `Chemistry`, hence selecting two rows, corresponding to the two 1s in the vector on the left."
      ]
    },
    {
      "cell_type": "code",
      "execution_count": 230,
      "metadata": {},
      "outputs": [
        {
          "data": {
            "text/html": [
              "<span style=\"white-space:pre; font-family: monospace\">H2O\n",
              "CaO\n",
              "FeO\n",
              "</span>"
            ]
          },
          "execution_count": 230,
          "metadata": {},
          "output_type": "execute_result"
        }
      ],
      "source": [
        "1 1 0 1 0 /[2] Chemistry"
      ]
    },
    {
      "cell_type": "markdown",
      "metadata": {},
      "source": [
        "If we use `/[2]` we are compressing the 2nd dimension of `Chemistry`, hence selecting three columns. In this example columns 3 and 5 have been removed.\n",
        "\n",
        "*Compression* is an excellent tool which allows you to:\n",
        "\n",
        " - extract some useful items from a variable;\n",
        " - remove some unwanted items from a variable, which is the same thing.\n",
        " \n",
        "```{admonition} Advice \n",
        ":class: hint\n",
        "Every time you obtain a Boolean vector, you should immediately think of two major things you can do with it: *Count* or *select*.\n",
        "```\n",
        "\n",
        "For example, using `Contents`, we can produce a Boolean vector that shows which items are smaller than 50:"
      ]
    },
    {
      "cell_type": "code",
      "execution_count": 231,
      "metadata": {},
      "outputs": [],
      "source": [
        "bin \u2190 Contents < 50"
      ]
    },
    {
      "cell_type": "markdown",
      "metadata": {},
      "source": [
        "Then, we can:\n",
        "\n",
        " - count the items that are smaller than 50:"
      ]
    },
    {
      "cell_type": "code",
      "execution_count": 232,
      "metadata": {},
      "outputs": [
        {
          "data": {
            "text/html": [
              "<span style=\"white-space:pre; font-family: monospace\">5\n",
              "</span>"
            ]
          },
          "execution_count": 232,
          "metadata": {},
          "output_type": "execute_result"
        }
      ],
      "source": [
        "+/ bin"
      ]
    },
    {
      "cell_type": "markdown",
      "metadata": {},
      "source": [
        " - select (or extract) said items:"
      ]
    },
    {
      "cell_type": "code",
      "execution_count": 233,
      "metadata": {},
      "outputs": [
        {
          "data": {
            "text/html": [
              "<span style=\"white-space:pre; font-family: monospace\">12 30 22 44 27\n",
              "</span>"
            ]
          },
          "execution_count": 233,
          "metadata": {},
          "output_type": "execute_result"
        }
      ],
      "source": [
        "bin / Contents"
      ]
    },
    {
      "cell_type": "markdown",
      "metadata": {},
      "source": [
        "```{admonition} Hint \n",
        ":class: hint\n",
        "Programmers who are new to APL and who are familiar with indexing as the natural selection mechanism may be tempted to use the Boolean selection vector to create some indices, and then use the indices to select the desired items.\n",
        "```\n",
        "\n",
        "This works very well, for example:"
      ]
    },
    {
      "cell_type": "code",
      "execution_count": 234,
      "metadata": {},
      "outputs": [
        {
          "data": {
            "text/html": [
              "<span style=\"white-space:pre; font-family: monospace\">12 30 22 44 27\n",
              "</span>"
            ]
          },
          "execution_count": 234,
          "metadata": {},
          "output_type": "execute_result"
        }
      ],
      "source": [
        "ix \u2190 bin / \u2373\u2374Contents\n",
        "Contents[ix]"
      ]
    },
    {
      "cell_type": "markdown",
      "metadata": {},
      "source": [
        "However this is an unnecessary complication that wastes memory and processing time, compared to the straightforward selection shown above."
      ]
    },
    {
      "cell_type": "markdown",
      "metadata": {},
      "source": [
        "### Replication\n",
        "\n",
        "In fact, *Compression* is just a special case of a more comprehensive function named ***Replication*** or ***Replicate***. Its left argument can be any vector of integer values, each of which produces the following result:\n",
        "\n",
        "| Signum of the left item | Effect on the corresponding right item |\n",
        "| :-: | :- |\n",
        "| `1` | item is replicated the number of times specified by the left item |\n",
        "| `0` | item is suppressed |\n",
        "| `\u00af1` | item is replaced by as many \"***Fill items***\" as is indicated by the left item |\n",
        "\n",
        "The concept of a \"Fill item\" is new and will be discussed in full in the \"Nested Arrays\" chapter. For now, you only need to know that the fill item for a simple numeric array is 0 and the fill item for a simple character array is a blank space.\n",
        "\n",
        "Here are some examples, using the same left argument applied to numeric and character vectors:"
      ]
    },
    {
      "cell_type": "code",
      "execution_count": 235,
      "metadata": {},
      "outputs": [
        {
          "data": {
            "text/html": [
              "<span style=\"white-space:pre; font-family: monospace\">15 79 79 79\n",
              "</span>"
            ]
          },
          "execution_count": 235,
          "metadata": {},
          "output_type": "execute_result"
        }
      ],
      "source": [
        "0 1 3 0 / 42 15 79 66"
      ]
    },
    {
      "cell_type": "markdown",
      "metadata": {},
      "source": [
        "42 and 66 have been removed, as their corresponding left items were 0. 15 was replicated 1 time and 79 was replicated 3 times, as indicated by their corresponding left items."
      ]
    },
    {
      "cell_type": "code",
      "execution_count": 236,
      "metadata": {},
      "outputs": [
        {
          "data": {
            "text/html": [
              "<span style=\"white-space:pre; font-family: monospace\">oaaa\n",
              "</span>"
            ]
          },
          "execution_count": 236,
          "metadata": {},
          "output_type": "execute_result"
        }
      ],
      "source": [
        "0 1 3 0 / 'boat'"
      ]
    },
    {
      "cell_type": "code",
      "execution_count": 237,
      "metadata": {},
      "outputs": [
        {
          "data": {
            "text/html": [
              "<span style=\"white-space:pre; font-family: monospace\">42 42 0 0 0 79\n",
              "</span>"
            ]
          },
          "execution_count": 237,
          "metadata": {},
          "output_type": "execute_result"
        }
      ],
      "source": [
        "2 \u00af3 1 0 / 42 15 79 66"
      ]
    },
    {
      "cell_type": "markdown",
      "metadata": {},
      "source": [
        "For the example above, 15 has been replaced by 3 zeroes because the fill item for simple numeric arrays is a zero."
      ]
    },
    {
      "cell_type": "code",
      "execution_count": 238,
      "metadata": {},
      "outputs": [
        {
          "data": {
            "text/html": [
              "<span style=\"white-space:pre; font-family: monospace\">bb   a\n",
              "</span>"
            ]
          },
          "execution_count": 238,
          "metadata": {},
          "output_type": "execute_result"
        }
      ],
      "source": [
        "2 \u00af3 1 0 / 'boat'"
      ]
    },
    {
      "cell_type": "markdown",
      "metadata": {},
      "source": [
        "For this example, the letter \"o\" was replaced by 3 blank spaces because the fill item for simple numeric arrays is \" \"."
      ]
    },
    {
      "cell_type": "markdown",
      "metadata": {},
      "source": [
        "### Scalar Left Argument\n",
        "\n",
        "If the left argument of *Compression* or *Replication* is a scalar, it applies to all the items of the right argument."
      ]
    },
    {
      "cell_type": "code",
      "execution_count": 239,
      "metadata": {},
      "outputs": [
        {
          "data": {
            "text/html": [
              "<span style=\"white-space:pre; font-family: monospace\">Phew\n",
              "</span>"
            ]
          },
          "execution_count": 239,
          "metadata": {},
          "output_type": "execute_result"
        }
      ],
      "source": [
        "v \u2190 'Phew'\n",
        "1/v"
      ]
    },
    {
      "cell_type": "markdown",
      "metadata": {},
      "source": [
        "When the left argument is 1 all the items are retained."
      ]
    },
    {
      "cell_type": "code",
      "execution_count": 240,
      "metadata": {},
      "outputs": [
        {
          "data": {
            "text/html": [
              "<span style=\"white-space:pre; font-family: monospace\">PPPhhheeewww\n",
              "</span>"
            ]
          },
          "execution_count": 240,
          "metadata": {},
          "output_type": "execute_result"
        }
      ],
      "source": [
        "3/v        \u235d Repeat each letter 3 times."
      ]
    },
    {
      "cell_type": "code",
      "execution_count": 241,
      "metadata": {},
      "outputs": [
        {
          "data": {
            "text/html": [
              "<span style=\"white-space:pre; font-family: monospace\">\n",
              "</span>"
            ]
          },
          "execution_count": 241,
          "metadata": {},
          "output_type": "execute_result"
        }
      ],
      "source": [
        "0/v        \u235d Repeat each letter 0 times."
      ]
    },
    {
      "cell_type": "code",
      "execution_count": 242,
      "metadata": {},
      "outputs": [
        {
          "data": {
            "text/html": [
              "<span style=\"white-space:pre; font-family: monospace\">1\n",
              "</span>"
            ]
          },
          "execution_count": 242,
          "metadata": {},
          "output_type": "execute_result"
        }
      ],
      "source": [
        "''\u22610/v"
      ]
    },
    {
      "cell_type": "markdown",
      "metadata": {},
      "source": [
        "As you can see above, when we use 0 as the left argument to *Replicate* we get an empty vector. Because `v` was a simple character vector, we get an empty character vector."
      ]
    },
    {
      "cell_type": "markdown",
      "metadata": {},
      "source": [
        "### Special Notations\n",
        "\n",
        "Like *Reduction* and *Catenation*, *Replication* works by default along the last dimension of an array. However, it is possible for it to work on any dimension by using the *Axis*. It is also possible to use `\u233f`, which we have already seen, to work on the first dimension by default.\n",
        "\n",
        "For example,"
      ]
    },
    {
      "cell_type": "code",
      "execution_count": 243,
      "metadata": {},
      "outputs": [
        {
          "data": {
            "text/html": [
              "<span style=\"white-space:pre; font-family: monospace\">CaCO3\n",
              "</span>"
            ]
          },
          "execution_count": 243,
          "metadata": {},
          "output_type": "execute_result"
        }
      ],
      "source": [
        "0 1 0 \u233f Chemistry"
      ]
    },
    {
      "cell_type": "markdown",
      "metadata": {},
      "source": [
        "which is equivalent to"
      ]
    },
    {
      "cell_type": "code",
      "execution_count": 244,
      "metadata": {},
      "outputs": [
        {
          "data": {
            "text/html": [
              "<span style=\"white-space:pre; font-family: monospace\">CaCO3\n",
              "</span>"
            ]
          },
          "execution_count": 244,
          "metadata": {},
          "output_type": "execute_result"
        }
      ],
      "source": [
        "0 1 0 /[1] Chemistry"
      ]
    },
    {
      "cell_type": "markdown",
      "metadata": {},
      "source": [
        "Beware, the result obtained this way is **not** a vector, but a matrix having only one row:"
      ]
    },
    {
      "cell_type": "code",
      "execution_count": 245,
      "metadata": {},
      "outputs": [
        {
          "data": {
            "text/html": [
              "<span style=\"white-space:pre; font-family: monospace\">1 5\n",
              "</span>"
            ]
          },
          "execution_count": 245,
          "metadata": {},
          "output_type": "execute_result"
        }
      ],
      "source": [
        "\u23740 1 0\u233fChemistry"
      ]
    },
    {
      "cell_type": "markdown",
      "metadata": {},
      "source": [
        "You must not confuse *Reduction* and *Replication*: even if the symbol used is the same, they are completely different operations:\n",
        "\n",
        " - ***Reduction*** takes a function as its left operand; it is a monadic *operator* (e.g. `+/ Contents`);\n",
        " - ***Replication*** takes a vector as its left argument and an array as its right argument; it is a dyadic *function* (e.g. `vec/ Contents`);"
      ]
    },
    {
      "cell_type": "markdown",
      "metadata": {},
      "source": [
        "## Position (Index Of)\n",
        "\n",
        "### Discovery\n",
        "\n",
        "It is very often necessary to locate the positions of particular values in a list of items. To solve this, APL has a special function named ***Position*** (also called \"***Index Of***\"), represented by the Greek letter Iota (`\u2373`). This symbol can be obtained by <kbd>Ctrl</kbd>+<kbd>I</kbd> (the initial letter of Iota). Let us see how it works:"
      ]
    },
    {
      "cell_type": "code",
      "execution_count": 246,
      "metadata": {},
      "outputs": [
        {
          "data": {
            "text/html": [
              "<span style=\"white-space:pre; font-family: monospace\">4 9 3 12 1\n",
              "</span>"
            ]
          },
          "execution_count": 246,
          "metadata": {},
          "output_type": "execute_result"
        }
      ],
      "source": [
        "Vec \u2190 15 42 53 19 46 53 82 17 14 53 24\n",
        "Vec \u2373 19 14 53 49 15"
      ]
    },
    {
      "cell_type": "markdown",
      "metadata": {},
      "source": [
        "Above we asked for the positions of 5 values (19, 14, 53, 49 and 15) and naturally we obtain 5 answers.\n",
        "\n",
        " - The result tells us that 19, 14 and 15 appear in positions 4, 9 and 1 respectively.\n",
        "\n",
        " - The result also tells us that 53 appears in position 3. This is of course true, but it also appears in positions 6 and 10, which are not included in the result. This is a necessary restriction: if we had searched for 5 values and obtained 7 results, it would not have been possible to say where each value appears. This is the reason why ***Index Of*** returns _only the first_ occurrence of each value.\n",
        " \n",
        "We shall see later that this is an advantage: if instead we need to find all the positions in which a value occurs, there is another function that we can use (see the \"Application 4\" section below).\n",
        "\n",
        " - Surprisingly, the result tells us that 49 appears in position 12, though `Vec` has only 11 items! This is the way that *Index Of* indicates a missing value. We shall see that it is a great advantage, too.\n",
        " \n",
        "The following rule explains how dyadic Iota works when the left argument is a vector:\n",
        "\n",
        "```{admonition} Rule \n",
        ":class: tip\n",
        "In the expression `R \u2190 Haystack \u2373 Needles` we look for the `Needles` in the `Haystack`, and\n",
        "\n",
        "- `Haystack` can be a vector of any type: numeric, character, mixed, nested;\n",
        "\n",
        "- `Needles` can be any array (any type, any shape, any rank);\n",
        "\n",
        "- `R` will have the same rank and shape as `Needles`;\n",
        "\n",
        "- the items of `R` contain the positions of the first occurrence of the corresponding items of `Needles` in `Haystack`;\n",
        "\n",
        "- items which do not appear in `Haystack` give the result `1+\u2262Haystack`.\n",
        "```\n"
      ]
    },
    {
      "cell_type": "code",
      "execution_count": 247,
      "metadata": {},
      "outputs": [
        {
          "data": {
            "text/html": [
              "<span style=\"white-space:pre; font-family: monospace\">4\n",
              "</span>"
            ]
          },
          "execution_count": 247,
          "metadata": {},
          "output_type": "execute_result"
        }
      ],
      "source": [
        "'ABC' \u2373 57"
      ]
    },
    {
      "cell_type": "markdown",
      "metadata": {},
      "source": [
        "A number cannot occur in a 3-item character vector, so the result is 4."
      ]
    },
    {
      "cell_type": "code",
      "execution_count": 248,
      "metadata": {},
      "outputs": [
        {
          "data": {
            "text/html": [
              "<span style=\"white-space:pre; font-family: monospace\">3 3 3\n",
              "</span>"
            ]
          },
          "execution_count": 248,
          "metadata": {},
          "output_type": "execute_result"
        }
      ],
      "source": [
        "4 8 \u2373 '4 8'"
      ]
    },
    {
      "cell_type": "markdown",
      "metadata": {},
      "source": [
        "Similarly, characters cannot appear in a 2-item numeric vector, so each character results in a 3."
      ]
    },
    {
      "cell_type": "code",
      "execution_count": 249,
      "metadata": {},
      "outputs": [
        {
          "data": {
            "text/html": [
              "<span style=\"white-space:pre; font-family: monospace\">8 30 19 15 32\n",
              "3 38  3 15 31\n",
              "6 38 30 15 31\n",
              "</span>"
            ]
          },
          "execution_count": 249,
          "metadata": {},
          "output_type": "execute_result"
        }
      ],
      "source": [
        "Alpha \u2190 'ABCDEFGHIJKLMNOPQRSTUVWXYZ 0123456789'\n",
        "Alpha \u2373 Chemistry"
      ]
    },
    {
      "cell_type": "markdown",
      "metadata": {},
      "source": [
        "The two lower case letters in `Chemistry` give the answer 38 because `Alpha` has 37 items. Also notice how the shape of `Chemistry` and `Alpha \u2373 Chemistry` is the same, like the rule above specified."
      ]
    },
    {
      "cell_type": "code",
      "execution_count": 250,
      "metadata": {},
      "outputs": [
        {
          "data": {
            "text/html": [
              "<span style=\"white-space:pre; font-family: monospace\">1\n",
              "</span>"
            ]
          },
          "execution_count": 250,
          "metadata": {},
          "output_type": "execute_result"
        }
      ],
      "source": [
        "(\u2374Chemistry)\u2261(\u2374Alpha\u2373Chemistry)"
      ]
    },
    {
      "cell_type": "markdown",
      "metadata": {},
      "source": [
        "We can also use nested vectors:"
      ]
    },
    {
      "cell_type": "code",
      "execution_count": 251,
      "metadata": {},
      "outputs": [
        {
          "data": {
            "text/html": [
              "<span style=\"white-space:pre; font-family: monospace\">4 4 2 1 4\n",
              "</span>"
            ]
          },
          "execution_count": 251,
          "metadata": {},
          "output_type": "execute_result"
        }
      ],
      "source": [
        "'Tee' (3 7) 'Golf' \u2373 3 7 (3 7) 'Tee' 'Green'"
      ]
    },
    {
      "cell_type": "markdown",
      "metadata": {},
      "source": [
        "The function *Index Of* is one of the most important primitive functions in APL. It is very flexible and it can be used in many situations, as shown in the following examples.\n",
        "\n",
        "```{admonition} Warning \n",
        ":class: warning\n",
        "In the expression `A\u2373B` we search for `B` in `A` whereas in `A\u220aB` we search for `A` in `B`. Do not be confused!\n",
        "```\n"
      ]
    },
    {
      "cell_type": "markdown",
      "metadata": {},
      "source": [
        "### Application 3\n",
        "\n",
        "A car manufacturer decided that they will offer their customers a discount on the catalogue price. The country has been split into 100 geographical areas, and the discount rate will depend on the geographic area according to the following table:\n",
        "\n",
        "| Area | Discount |\n",
        "| :-: | :-: |\n",
        "| 17 | 9% |\n",
        "| 50 | 8% |\n",
        "| 59 | 6% |\n",
        "| 84 | 5% |\n",
        "| 89 | 4% |\n",
        "| Others | 2% |\n",
        "\n",
        "which we save to two vectors:"
      ]
    },
    {
      "cell_type": "code",
      "execution_count": 252,
      "metadata": {},
      "outputs": [],
      "source": [
        "Area \u2190 17 50 59 84 89\n",
        "Discount \u2190 9 8 6 5 4 2"
      ]
    },
    {
      "cell_type": "markdown",
      "metadata": {},
      "source": [
        "The first task is to calculate the discount rate to be claimed for a potential customer who lives in area `D`; for example"
      ]
    },
    {
      "cell_type": "code",
      "execution_count": 253,
      "metadata": {},
      "outputs": [],
      "source": [
        "D \u2190 84"
      ]
    },
    {
      "cell_type": "markdown",
      "metadata": {},
      "source": [
        "Let us see if 84 is in the list of favoured areas:"
      ]
    },
    {
      "cell_type": "code",
      "execution_count": 254,
      "metadata": {},
      "outputs": [
        {
          "data": {
            "text/html": [
              "<span style=\"white-space:pre; font-family: monospace\">4\n",
              "</span>"
            ]
          },
          "execution_count": 254,
          "metadata": {},
          "output_type": "execute_result"
        }
      ],
      "source": [
        "Area \u2373 D"
      ]
    },
    {
      "cell_type": "markdown",
      "metadata": {},
      "source": [
        "We can see that 84 is the 4th item in the list.\n",
        "\n",
        "Let us find the current discount rate for this index position:"
      ]
    },
    {
      "cell_type": "code",
      "execution_count": 255,
      "metadata": {},
      "outputs": [
        {
          "data": {
            "text/html": [
              "<span style=\"white-space:pre; font-family: monospace\">5\n",
              "</span>"
            ]
          },
          "execution_count": 255,
          "metadata": {},
          "output_type": "execute_result"
        }
      ],
      "source": [
        "Discount[4]"
      ]
    },
    {
      "cell_type": "markdown",
      "metadata": {},
      "source": [
        "This customer can claim a 5% discount.\n",
        "\n",
        "We could simply write"
      ]
    },
    {
      "cell_type": "code",
      "execution_count": 256,
      "metadata": {},
      "outputs": [
        {
          "data": {
            "text/html": [
              "<span style=\"white-space:pre; font-family: monospace\">5\n",
              "</span>"
            ]
          },
          "execution_count": 256,
          "metadata": {},
          "output_type": "execute_result"
        }
      ],
      "source": [
        "Discount[Area\u2373D]"
      ]
    },
    {
      "cell_type": "markdown",
      "metadata": {},
      "source": [
        "Now, what if a customer lives in any other area, such as 75, 45 or 93?\n",
        "\n",
        "The expression `Area\u2373D` will return the result `6` for all these area codes, because these values are absent from `Area`.\n",
        "\n",
        "Then `Discount[6]` will always find the rate 2%, as specified. Here we can see that it is an advantage that *Index Of* returns 1 + the number of items in the vector to be searched.\n",
        "\n",
        "```{admonition} A Vector Solution \n",
        ":class: note\n",
        "The importance of this approach to finding the discount rates is that it is vector-based. If publicity attracts crowds and therefore `D` is no longer a scalar but a vector, the solution is still valid.\n",
        "```\n",
        "\n",
        "As an example, consider the following vector of area codes and the respective discount rates:"
      ]
    },
    {
      "cell_type": "code",
      "execution_count": 257,
      "metadata": {},
      "outputs": [
        {
          "data": {
            "text/html": [
              "<span style=\"white-space:pre; font-family: monospace\">2 2 4 2 2 8 2 8 5 2 9 4\n",
              "</span>"
            ]
          },
          "execution_count": 257,
          "metadata": {},
          "output_type": "execute_result"
        }
      ],
      "source": [
        "D \u2190 24 75 89 60 92 50 51 50 84 66 17 89\n",
        "Discount[Area\u2373D]"
      ]
    },
    {
      "cell_type": "markdown",
      "metadata": {},
      "source": [
        "We have achieved all this without a program, neither a \"loop\" nor a \"test\". And it works for any number of areas. Readers who know other programming languages will probably appreciate the simplicity of this approach."
      ]
    },
    {
      "cell_type": "markdown",
      "metadata": {},
      "source": [
        "#### Changing The Frame of Reference\n",
        "\n",
        "In reality, the expression that we have just written is an example of an algorithm for \"*changing the frame of reference*\". Don't panic, this term may seem esoteric, but the concept is simple: a list of area numbers (the initial set) is translated into a list of discount rates (the final set). The algorithm comprises only the function *Index Of* and indexing:\n",
        "\n",
        "```{admonition} Algorithm \n",
        ":class: algorithm\n",
        "`R \u2190 FinalSet[InitialSet \u2373 Values]`\n",
        "```\n",
        "\n",
        "Let us imagine the initial set to be an alphabet composed of both lowercase and uppercase letters, and the final set to be composed of only uppercase letters, with a blank space in the middle:"
      ]
    },
    {
      "cell_type": "code",
      "execution_count": 258,
      "metadata": {},
      "outputs": [],
      "source": [
        "AlphLower \u2190 'abcdefghijklmnopqrstuvwxyz ABCDEFGHIJKLMNOPQRSTUVWXYZ'\n",
        "AlphUpper \u2190 'ABCDEFGHIJKLMNOPQRSTUVWXYZ ABCDEFGHIJKLMNOPQRSTUVWXYZ*'"
      ]
    },
    {
      "cell_type": "markdown",
      "metadata": {},
      "source": [
        "Now, let us write a sentence; we will write it in French in order to show what happens with missing characters:"
      ]
    },
    {
      "cell_type": "code",
      "execution_count": 259,
      "metadata": {},
      "outputs": [],
      "source": [
        "Tale \u2190 'Le Petit Chaperon-Rouge a bouff\u00e9 le Loup'"
      ]
    },
    {
      "cell_type": "markdown",
      "metadata": {},
      "source": [
        "If we apply the algorithm seen above, the expression will convert the text from lower to upper case:"
      ]
    },
    {
      "cell_type": "code",
      "execution_count": 260,
      "metadata": {},
      "outputs": [
        {
          "data": {
            "text/html": [
              "<span style=\"white-space:pre; font-family: monospace\">LE PETIT CHAPERON*ROUGE A BOUFF* LE LOUP\n",
              "</span>"
            ]
          },
          "execution_count": 260,
          "metadata": {},
          "output_type": "execute_result"
        }
      ],
      "source": [
        "AlphUpper[AlphLower\u2373Tale]"
      ]
    },
    {
      "cell_type": "markdown",
      "metadata": {},
      "source": [
        "As one might expect, the characters `'-'` and `'\u00e9'`, which are absent from the initial alphabetic set, have been replaced by the `'*'`, the \"extra\" character at the end of the final set. This works because once again the final set is one item longer than the initial set.\n",
        "\n",
        "Once more, the logical steps needed to solve the problem are easily translated into a programming solution, and the programmer can thereby direct all his attention to solving the problem."
      ]
    },
    {
      "cell_type": "markdown",
      "metadata": {},
      "source": [
        "### General Case\n",
        "\n",
        "The left argument to *Index Of* need not be a vector. In fact, in the expression `Haystack \u2373 Needles`, `Haystack` can be a much general array of any rank, type and shape, as long as it is _not_ a scalar. However, `Needles` must have a shape that is appropriate for the `Haystack` you use.\n",
        "\n",
        "We will see what this means by using a 3-D `Haystack` as an example:"
      ]
    },
    {
      "cell_type": "code",
      "execution_count": 261,
      "metadata": {},
      "outputs": [
        {
          "data": {
            "text/html": [
              "<span style=\"white-space:pre; font-family: monospace\">1 2 3 4\n",
              "5 6 7 8\n",
              "9 0 1 2\n",
              "       \n",
              "3 4 5 6\n",
              "7 8 9 0\n",
              "1 2 3 4\n",
              "</span>"
            ]
          },
          "execution_count": 261,
          "metadata": {},
          "output_type": "execute_result"
        }
      ],
      "source": [
        "\u22a2Haystack \u2190 2 3 4\u23741 2 3 4 5 6 7 8 9 0"
      ]
    },
    {
      "cell_type": "markdown",
      "metadata": {},
      "source": [
        "When *Index Of* is used, the first thing Dyalog APL does is look at its left argument and try to figure out what is the shape of the things contained in the `Haystack`. For that matter, we first inspect the shape of the `Haystack`"
      ]
    },
    {
      "cell_type": "code",
      "execution_count": 262,
      "metadata": {},
      "outputs": [
        {
          "data": {
            "text/html": [
              "<span style=\"white-space:pre; font-family: monospace\">2 3 4\n",
              "</span>"
            ]
          },
          "execution_count": 262,
          "metadata": {},
          "output_type": "execute_result"
        }
      ],
      "source": [
        "\u2374Haystack"
      ]
    },
    {
      "cell_type": "markdown",
      "metadata": {},
      "source": [
        "and interpret it as\n",
        "\n",
        " > \"*`Haystack` contains 2 items of shape `3 4`*\"\n",
        " \n",
        "which means we can look for needles with shape `3 4` inside the `Haystack`. Therefore, for `Needles` to be seen as \"*containing items of shape `3 4`*\" its shape must also end in `3 4`. Whatever is not the final `3 4` in the shape of `Needles` is what dictates the shape of the final result.\n",
        "\n",
        "If the shape of `Needles` is too short for it to match the shape of the items the `Haystack` contains, we get a `RANK ERROR` because `Needles` doesn't have enough dimensions.\n",
        "\n",
        "Similarly, if the shape of `Needles` is long enough but its trailing dimensions don't match those of the left argument, we get a `LENGTH ERROR` because the things we are comparing have different lengths along their dimensions.\n",
        "\n",
        "In the table below we give examples of some `Haystack` and `Needles` shapes, along with the shape of the items that `\u2373` thinks `Haystack` contains and the shape of the result (remember that `\u236c` is the shape of a scalar):\n",
        "\n",
        "| `\u2374Haystack` | `\u2374Needles` must end with | `\u2374Needles` | `\u2374R` |\n",
        "| :- | :- | :- | :- |\n",
        "| `2 3 4` | `3 4` | `3 4` | `\u236c` |\n",
        "| | | `3 1 3 4` | `3 1` |\n",
        "| | | `3 1 4 4` | `LENGTH ERROR` |\n",
        "| | | `1 2 3 3 4` | `1 2 3` |\n",
        "| | | `3` | `RANK ERROR` |\n",
        "| `6 2` | `2` | `4 2` | `4` |\n",
        "| | | `2` | `\u236c` |\n",
        "| | | `3` | `LENGTH ERROR` |\n",
        "| `5` | `\u236c` | `1 2 3` | `1 2 3` |\n",
        "| | | `1 3` | `1 3` |\n",
        "| | | `5` | `5` |\n",
        "| | | `\u236c` | `\u236c` |\n",
        "\n",
        "As a practical example, if we take the `Haystack` we defined above, we can look for 3 by 4 matrices in there. Our `Needles` variable has 4 such matrices:"
      ]
    },
    {
      "cell_type": "code",
      "execution_count": 263,
      "metadata": {},
      "outputs": [
        {
          "data": {
            "text/html": [
              "<span style=\"white-space:pre; font-family: monospace\">1 2 3 4\n",
              "5 6 7 8\n",
              "9 0 1 2\n",
              "       \n",
              "3 4 5 6\n",
              "7 8 9 0\n",
              "1 2 3 4\n",
              "       \n",
              "5 6 7 8\n",
              "9 0 1 2\n",
              "3 4 5 6\n",
              "       \n",
              "7 8 9 0\n",
              "1 2 3 4\n",
              "5 6 7 8\n",
              "</span>"
            ]
          },
          "execution_count": 263,
          "metadata": {},
          "output_type": "execute_result"
        }
      ],
      "source": [
        "\u22a2Needles \u2190 4 3 4\u23741 2 3 4 5 6 7 8 9 0"
      ]
    },
    {
      "cell_type": "code",
      "execution_count": 264,
      "metadata": {},
      "outputs": [
        {
          "data": {
            "text/html": [
              "<span style=\"white-space:pre; font-family: monospace\">1 2 3 3\n",
              "</span>"
            ]
          },
          "execution_count": 264,
          "metadata": {},
          "output_type": "execute_result"
        }
      ],
      "source": [
        "Haystack \u2373 Needles"
      ]
    },
    {
      "cell_type": "markdown",
      "metadata": {},
      "source": [
        "This shows that the first and second matrices were found in positions 1 and 2, respectively, and the third and fourth matrices were found nowhere, thus getting 3 as a result. The result is 3 because 2 is the number of *major cells* that `Haystack` has.\n",
        "\n",
        "Now we write the rule that dictates how *Index Of* works in the general case:\n",
        "\n",
        "```{admonition} Rule \n",
        ":class: tip\n",
        "In the expression `R \u2190 Haystack \u2373 Needles` we look for the `Needles` in the `Haystack`, and\n",
        "\n",
        "- `Haystack` can be any array of rank `hr` with `hr` being at least 1;\n",
        "\n",
        "- `Needles` can be any array of rank `nr` with `nr` being at least `hr-1`;\n",
        "\n",
        "- the last `hr-1` numbers of the shape of `Needles` and the last `hr-1` numbers of the shape of `Haystack` must be the same;\n",
        "\n",
        "- `R` has rank equal to `nr-hr-1` and shape equal to the first `nr-hr-1` numbers of the shape of `Needles`;\n",
        "\n",
        "- the items of `R` contain the positions of the first occurrence of the corresponding items of `Needles` in `Haystack`;\n",
        "\n",
        "- items which do not appear in `Haystack` give the result `1+m` if `m` is the leading number in the shape of `Haystack`.\n",
        "```\n"
      ]
    },
    {
      "cell_type": "markdown",
      "metadata": {},
      "source": [
        "## Where\n",
        "\n",
        "The primitive function ***Where*** is the monadic use of the *Iota Underbar* `\u2378`, which you can type with <kbd>APL</kbd>+<kbd>Shift</kbd>+<kbd>I</kbd>. The simplest use case for this primitive is to give it a simple Boolean array, for which `\u2378` finds ***Where*** the values 1 are.\n",
        "\n",
        "For example, given the `Contents` vector:"
      ]
    },
    {
      "cell_type": "code",
      "execution_count": 265,
      "metadata": {},
      "outputs": [
        {
          "data": {
            "text/html": [
              "<span style=\"white-space:pre; font-family: monospace\">12 56 78 74 85 96 30 22 44 66 82 27\n",
              "</span>"
            ]
          },
          "execution_count": 265,
          "metadata": {},
          "output_type": "execute_result"
        }
      ],
      "source": [
        "Contents"
      ]
    },
    {
      "cell_type": "markdown",
      "metadata": {},
      "source": [
        "What items are greater than 75?"
      ]
    },
    {
      "cell_type": "code",
      "execution_count": 266,
      "metadata": {},
      "outputs": [
        {
          "data": {
            "text/html": [
              "<span style=\"white-space:pre; font-family: monospace\">0 0 1 0 1 1 0 0 0 0 1 0\n",
              "</span>"
            ]
          },
          "execution_count": 266,
          "metadata": {},
          "output_type": "execute_result"
        }
      ],
      "source": [
        "Contents > 75"
      ]
    },
    {
      "cell_type": "markdown",
      "metadata": {},
      "source": [
        "And *Where* are them?"
      ]
    },
    {
      "cell_type": "code",
      "execution_count": 267,
      "metadata": {},
      "outputs": [
        {
          "data": {
            "text/html": [
              "<span style=\"white-space:pre; font-family: monospace\">3 5 6 11\n",
              "</span>"
            ]
          },
          "execution_count": 267,
          "metadata": {},
          "output_type": "execute_result"
        }
      ],
      "source": [
        "\u2378Contents > 75"
      ]
    },
    {
      "cell_type": "markdown",
      "metadata": {},
      "source": [
        "They are at positions 3, 5, 6 and 11, referring respectively to the elements 78, 85, 96 and 82."
      ]
    },
    {
      "cell_type": "markdown",
      "metadata": {},
      "source": [
        "### Application 4\n",
        "\n",
        "You probably remember that the function *Index Of* returns only the *first* occurrence of a value in a vector (cf. the \"Discovery\" subsection). Using *Where* we can find *all* the occurrences.\n",
        "\n",
        "Here is a vector, in which we would like to find the positions of the number 19:"
      ]
    },
    {
      "cell_type": "code",
      "execution_count": 268,
      "metadata": {},
      "outputs": [],
      "source": [
        "Vec \u2190 41 17 19 53 42 27 19 88 14 56 19 33"
      ]
    },
    {
      "cell_type": "code",
      "execution_count": 269,
      "metadata": {},
      "outputs": [
        {
          "data": {
            "text/html": [
              "<span style=\"white-space:pre; font-family: monospace\">0 0 1 0 0 0 1 0 0 0 1 0\n",
              "</span>"
            ]
          },
          "execution_count": 269,
          "metadata": {},
          "output_type": "execute_result"
        }
      ],
      "source": [
        "Vec=19"
      ]
    },
    {
      "cell_type": "markdown",
      "metadata": {},
      "source": [
        "Now that we have a Boolean vector, we can just use `\u2378` to find out *Where* the 1s are:"
      ]
    },
    {
      "cell_type": "code",
      "execution_count": 270,
      "metadata": {},
      "outputs": [
        {
          "data": {
            "text/html": [
              "<span style=\"white-space:pre; font-family: monospace\">3 7 11\n",
              "</span>"
            ]
          },
          "execution_count": 270,
          "metadata": {},
          "output_type": "execute_result"
        }
      ],
      "source": [
        "\u2378Vec=19"
      ]
    },
    {
      "cell_type": "markdown",
      "metadata": {},
      "source": [
        "It is as simple as that!\n",
        "\n",
        "Of course the same search technique will work on characters, because what we really care about is the Boolean vector we generate at a later step, not what the initial vector was. For example, let us find all the letters \"a\" in a sentence:"
      ]
    },
    {
      "cell_type": "code",
      "execution_count": 271,
      "metadata": {},
      "outputs": [
        {
          "data": {
            "text/html": [
              "<span style=\"white-space:pre; font-family: monospace\">2 4 6 11 14 16 30 36 41\n",
              "</span>"
            ]
          },
          "execution_count": 271,
          "metadata": {},
          "output_type": "execute_result"
        }
      ],
      "source": [
        "Sentence \u2190 'Panama is a canal between Atlantic and Pacific'\n",
        "\u2378Sentence='a'"
      ]
    },
    {
      "cell_type": "markdown",
      "metadata": {},
      "source": [
        "Having found all the \"a\"s, we may wish to find all the lowercase vowels. For that matter, we need to create a Boolean vector with 1s in the positions with lowercase vowels. In the example above, `Sentence='a'` worked because we are allowed to compare a vector with a single scalar, but now we can't change this to"
      ]
    },
    {
      "cell_type": "code",
      "execution_count": 272,
      "metadata": {},
      "outputs": [
        {
          "name": "stderr",
          "output_type": "stream",
          "text": [
            "LENGTH ERROR: Mismatched left and right argument shapes\n",
            "      Sentence='aeiouy'        \u235d 'y' is a vowel in many European languages\n",
            "              \u2227\n"
          ]
        }
      ],
      "source": [
        "Sentence='aeiouy'        \u235d 'y' is a vowel in many European languages"
      ]
    },
    {
      "cell_type": "markdown",
      "metadata": {},
      "source": [
        "The code above does not work because `=` is trying to compare the two vectors item by item, only to realise the vector `'aeiouy'` is too short for that. Instead, what we can do is check whether or not each character of `Sentence` is a *member* of the character vector `'aeiouy'`:"
      ]
    },
    {
      "cell_type": "code",
      "execution_count": 273,
      "metadata": {},
      "outputs": [
        {
          "data": {
            "text/html": [
              "<span style=\"white-space:pre; font-family: monospace\">0 1 0 1 0 1 0 1 0 0 1 0 0 1 0 1 0 0 0 1 0 0 1 1 0 0 0 0 0 1 0 0 1 0 0 1 0 0 0 0 1 0 1 0 1 0\n",
              "</span>"
            ]
          },
          "execution_count": 273,
          "metadata": {},
          "output_type": "execute_result"
        }
      ],
      "source": [
        "Sentence\u220a'aeiouy'"
      ]
    },
    {
      "cell_type": "markdown",
      "metadata": {},
      "source": [
        "Having computed this Boolean vector, the finishing touch is to compute *Where* the vowels were found:"
      ]
    },
    {
      "cell_type": "code",
      "execution_count": 274,
      "metadata": {
        "scrolled": true
      },
      "outputs": [
        {
          "data": {
            "text/html": [
              "<span style=\"white-space:pre; font-family: monospace\">2 4 6 8 11 14 16 20 23 24 30 33 36 41 43 45\n",
              "</span>"
            ]
          },
          "execution_count": 274,
          "metadata": {},
          "output_type": "execute_result"
        }
      ],
      "source": [
        "\u2378Sentence\u220a'aeiouy'"
      ]
    },
    {
      "cell_type": "markdown",
      "metadata": {},
      "source": [
        "### Increasing The Dimension\n",
        "\n",
        "Up until now we only used simple vectors as arguments to *Iota Underbar*, but in the beginning we talked about Boolean *arrays*, not *vectors*.\n",
        "\n",
        "For higher dimensional arrays *Iota Underbar* behaves the same way: it returns the indices of the positions that contain 1s. Similar to what we did above, we might want to find all the lowercase vowels in the `MonMat` matrix:"
      ]
    },
    {
      "cell_type": "code",
      "execution_count": 275,
      "metadata": {},
      "outputs": [
        {
          "data": {
            "text/html": [
              "<span style=\"white-space:pre; font-family: monospace\">January \n",
              "February\n",
              "March   \n",
              "April   \n",
              "May     \n",
              "June    \n",
              "</span>"
            ]
          },
          "execution_count": 275,
          "metadata": {},
          "output_type": "execute_result"
        }
      ],
      "source": [
        "MonMat"
      ]
    },
    {
      "cell_type": "code",
      "execution_count": 276,
      "metadata": {},
      "outputs": [
        {
          "data": {
            "text/html": [
              "<span style=\"white-space:pre; font-family: monospace\">\u250c\u2500\u2500\u2500\u252c\u2500\u2500\u2500\u252c\u2500\u2500\u2500\u252c\u2500\u2500\u2500\u252c\u2500\u2500\u2500\u252c\u2500\u2500\u2500\u252c\u2500\u2500\u2500\u252c\u2500\u2500\u2500\u252c\u2500\u2500\u2500\u252c\u2500\u2500\u2500\u252c\u2500\u2500\u2500\u252c\u2500\u2500\u2500\u252c\u2500\u2500\u2500\u252c\u2500\u2500\u2500\u2510\n",
              "\u25021 2\u25021 4\u25021 5\u25021 7\u25022 2\u25022 5\u25022 6\u25022 8\u25023 2\u25024 4\u25025 2\u25025 3\u25026 2\u25026 4\u2502\n",
              "\u2514\u2500\u2500\u2500\u2534\u2500\u2500\u2500\u2534\u2500\u2500\u2500\u2534\u2500\u2500\u2500\u2534\u2500\u2500\u2500\u2534\u2500\u2500\u2500\u2534\u2500\u2500\u2500\u2534\u2500\u2500\u2500\u2534\u2500\u2500\u2500\u2534\u2500\u2500\u2500\u2534\u2500\u2500\u2500\u2534\u2500\u2500\u2500\u2534\u2500\u2500\u2500\u2534\u2500\u2500\u2500\u2518\n",
              "</span>"
            ]
          },
          "execution_count": 276,
          "metadata": {},
          "output_type": "execute_result"
        }
      ],
      "source": [
        "\u2378MonMat\u220a'aeiouy'"
      ]
    },
    {
      "cell_type": "markdown",
      "metadata": {},
      "source": [
        "The last item in the result above is `6 4`, which means that row 6, column 4 of `MonMat` contains a lowercase vowel: the final \"e\" in \"June\". We can verify this with the index function `\u2337` you already learned about (cf. the subsection with the same name):"
      ]
    },
    {
      "cell_type": "code",
      "execution_count": 277,
      "metadata": {},
      "outputs": [
        {
          "data": {
            "text/html": [
              "<span style=\"white-space:pre; font-family: monospace\">June    \n",
              "</span>"
            ]
          },
          "execution_count": 277,
          "metadata": {},
          "output_type": "execute_result"
        }
      ],
      "source": [
        "6\u2337MonMat"
      ]
    },
    {
      "cell_type": "code",
      "execution_count": 278,
      "metadata": {},
      "outputs": [
        {
          "data": {
            "text/html": [
              "<span style=\"white-space:pre; font-family: monospace\">e\n",
              "</span>"
            ]
          },
          "execution_count": 278,
          "metadata": {},
          "output_type": "execute_result"
        }
      ],
      "source": [
        "6 4\u2337MonMat"
      ]
    },
    {
      "cell_type": "markdown",
      "metadata": {},
      "source": [
        "The example above also shows an interesting property of *Where*: it always returns a *vector*, regardless of the shape of the input, and each item of the resulting vector is a suitable index to `\u2337`."
      ]
    },
    {
      "cell_type": "markdown",
      "metadata": {},
      "source": [
        "### Simple, Not Nested\n",
        "\n",
        "*Where* does require that its argument be a simple array. If you provide a nested array, `\u2378` won't know what to do with it. This is because there is no way of indexing into a nested array with an index vector like `3` or `6 4`, or even something longer.\n",
        "\n",
        "In fact, if the argument to *Where* is a nested array, you get a `DOMAIN ERROR`:"
      ]
    },
    {
      "cell_type": "code",
      "execution_count": 279,
      "metadata": {},
      "outputs": [
        {
          "name": "stderr",
          "output_type": "stream",
          "text": [
            "DOMAIN ERROR\n",
            "      \u2378(0 1)(1 1)\n",
            "      \u2227\n"
          ]
        }
      ],
      "source": [
        "\u2378(0 1)(1 1)"
      ]
    },
    {
      "cell_type": "markdown",
      "metadata": {},
      "source": [
        "### Beyond Boolean Arrays\n",
        "\n",
        "Now that you have seen the most iconic use of *Where*, you will be shown the full specification for it, as we have only used Boolean arguments so far.\n",
        "\n",
        "```{admonition} Rule \n",
        ":class: tip\n",
        "In the expression `R \u2190 \u2378Y`:\n",
        "\n",
        "- `Y` must be a simple Boolean vector or a simple numeric array with non-negative integers;\n",
        "- `R` is a vector, regardless of the shape of `Y`;\n",
        "- each non-negative element of `Y` has its index repeated in `R` as many times as the element's value;\n",
        "- if `Y` only contains zeroes, `R` is an empty vector;\n",
        "- each element of `R` can be used as `i` in `i\u2337Y` to retrieve an element from `Y`.\n",
        "```\n",
        "\n",
        "This repetition is similar to the way *Compress* works when the left argument only contains non-negative integers:"
      ]
    },
    {
      "cell_type": "code",
      "execution_count": 280,
      "metadata": {},
      "outputs": [
        {
          "data": {
            "text/html": [
              "<span style=\"white-space:pre; font-family: monospace\">wwwdd!\n",
              "</span>"
            ]
          },
          "execution_count": 280,
          "metadata": {},
          "output_type": "execute_result"
        }
      ],
      "source": [
        "3 0 0 2 0 1 / 'words!'"
      ]
    },
    {
      "cell_type": "markdown",
      "metadata": {},
      "source": [
        "The left argument to *Compress* tells it to use the 1st element 3 times, to use the 4th element 2 times and to use the 6th element 1 time.\n",
        "\n",
        "The same argument to `\u2378` returns the indices repeated as many times as they are needed:"
      ]
    },
    {
      "cell_type": "code",
      "execution_count": 281,
      "metadata": {},
      "outputs": [
        {
          "data": {
            "text/html": [
              "<span style=\"white-space:pre; font-family: monospace\">1 1 1 4 4 6\n",
              "</span>"
            ]
          },
          "execution_count": 281,
          "metadata": {},
          "output_type": "execute_result"
        }
      ],
      "source": [
        "\u23783 0 0 2 0 1"
      ]
    },
    {
      "cell_type": "markdown",
      "metadata": {},
      "source": [
        "In this case, we could even achieve the same effect as the *Compress* expression above by using `[]` indexing:"
      ]
    },
    {
      "cell_type": "code",
      "execution_count": 282,
      "metadata": {},
      "outputs": [
        {
          "data": {
            "text/html": [
              "<span style=\"white-space:pre; font-family: monospace\">wwwdd!\n",
              "</span>"
            ]
          },
          "execution_count": 282,
          "metadata": {},
          "output_type": "execute_result"
        }
      ],
      "source": [
        "'words!'[\u23783 0 0 2 0 1]"
      ]
    },
    {
      "cell_type": "markdown",
      "metadata": {},
      "source": [
        "This breaks down if we want to include negative integers in the left argument to *Compress*, which *Where* doesn't support.\n",
        "\n",
        "In fact, if the argument array contains negative integers or other numbers which aren't integers, `DOMAIN ERROR`s are issued:"
      ]
    },
    {
      "cell_type": "code",
      "execution_count": 283,
      "metadata": {},
      "outputs": [
        {
          "name": "stderr",
          "output_type": "stream",
          "text": [
            "DOMAIN ERROR: Where right argument must be non-negative\n",
            "      \u23780 0 1 0 \u00af1\n",
            "      \u2227\n"
          ]
        }
      ],
      "source": [
        "\u23780 0 1 0 \u00af1"
      ]
    },
    {
      "cell_type": "code",
      "execution_count": 284,
      "metadata": {},
      "outputs": [
        {
          "name": "stderr",
          "output_type": "stream",
          "text": [
            "DOMAIN ERROR\n",
            "      \u23780 0 1 0 0.3\n",
            "      \u2227\n"
          ]
        }
      ],
      "source": [
        "\u23780 0 1 0 0.3"
      ]
    },
    {
      "cell_type": "markdown",
      "metadata": {},
      "source": [
        "### Comparison of *Membership*, *Index Of* and *Where*\n",
        "\n",
        "We have discovered two different techniques, using the primitive functions *Membership* and *Where*, that allow us to look up one set of values in another and to determine the positions of the items of one set in the other. Depending on the problem that we have to solve, we can choose which of the two methods will be most appropriate for the job in hand. Consider the following example:"
      ]
    },
    {
      "cell_type": "markdown",
      "metadata": {},
      "source": [
        "#### Example\n",
        "\n",
        "A company named \"Blue Hammer Inc.\" has subsidiaries in a number of countries; each country being identified by a numeric code. The country names are stored in a matrix named `Countries`, and the country codes are stored in a vector named `Codes`. To make things easier to read, let us show those two variables:"
      ]
    },
    {
      "cell_type": "code",
      "execution_count": 285,
      "metadata": {},
      "outputs": [
        {
          "data": {
            "text/html": [
              "<span style=\"white-space:pre; font-family: monospace\">France       \n",
              "Great Britain\n",
              "Italy        \n",
              "United States\n",
              "Belgium      \n",
              "Swiss        \n",
              "Sweden       \n",
              "Canada       \n",
              "Egypt        \n",
              "</span>"
            ]
          },
          "execution_count": 285,
          "metadata": {},
          "output_type": "execute_result"
        }
      ],
      "source": [
        "\u22a2Countries \u2190 9 13\u2374'France       Great BritainItaly        United StatesBelgium      Swiss        Sweden       Canada       Egypt        '"
      ]
    },
    {
      "cell_type": "code",
      "execution_count": 286,
      "metadata": {},
      "outputs": [
        {
          "data": {
            "text/html": [
              "<span style=\"white-space:pre; font-family: monospace\">50 43 12 83 64 34 66 81 37\n",
              "</span>"
            ]
          },
          "execution_count": 286,
          "metadata": {},
          "output_type": "execute_result"
        }
      ],
      "source": [
        "\u22a2Codes \u2190 50 43 12 83 64 34 66 81 37"
      ]
    },
    {
      "cell_type": "markdown",
      "metadata": {},
      "source": [
        "Now let us show those two variables side by side:"
      ]
    },
    {
      "cell_type": "code",
      "execution_count": 287,
      "metadata": {},
      "outputs": [
        {
          "data": {
            "text/html": [
              "<span style=\"white-space:pre; font-family: monospace\">France        50\n",
              "Great Britain 43\n",
              "Italy         12\n",
              "United States 83\n",
              "Belgium       64\n",
              "Swiss         34\n",
              "Sweden        66\n",
              "Canada        81\n",
              "Egypt         37\n",
              "</span>"
            ]
          },
          "execution_count": 287,
          "metadata": {},
          "output_type": "execute_result"
        }
      ],
      "source": [
        "Countries, Codes"
      ]
    },
    {
      "cell_type": "markdown",
      "metadata": {},
      "source": [
        "So, Sweden is identified by 66 and Belgium is identified by 64.\n",
        "\n",
        "All the sales made during the last month have been recorded in two vectors:\n",
        "\n",
        " - `BHCodes` identifies in which country each sale has been made, and\n",
        " - `BHAmounts` identifies the amount of each sale.\n",
        " \n",
        "Here are the two vectors:"
      ]
    },
    {
      "cell_type": "code",
      "execution_count": 288,
      "metadata": {},
      "outputs": [
        {
          "data": {
            "text/html": [
              "<span style=\"white-space:pre; font-family: monospace\">83 66 12 83 43 66 50 81 12 83 12 66\n",
              "</span>"
            ]
          },
          "execution_count": 288,
          "metadata": {},
          "output_type": "execute_result"
        }
      ],
      "source": [
        "\u22a2BHCodes \u2190 83 66 12 83 43 66 50 81 12 83 12 66"
      ]
    },
    {
      "cell_type": "code",
      "execution_count": 289,
      "metadata": {},
      "outputs": [
        {
          "data": {
            "text/html": [
              "<span style=\"white-space:pre; font-family: monospace\">609 727 458 469 463 219 431 602 519 317 663 631\n",
              "</span>"
            ]
          },
          "execution_count": 289,
          "metadata": {},
          "output_type": "execute_result"
        }
      ],
      "source": [
        "\u22a2BHAmounts \u2190 609 727 458 469 463 219 431 602 519 317 663 631"
      ]
    },
    {
      "cell_type": "markdown",
      "metadata": {},
      "source": [
        "Some countries have not sold anything (Belgium, for example) whereas other countries made several sales (Italy, for example)."
      ]
    },
    {
      "cell_type": "markdown",
      "metadata": {},
      "source": [
        "#### First Question\n",
        "\n",
        "We would like to focus on some selected countries (43, 50, 37 and 66) and calculate the total amount of their sales. Let's first identify which items of `BHCodes` are relevant:"
      ]
    },
    {
      "cell_type": "code",
      "execution_count": 290,
      "metadata": {},
      "outputs": [
        {
          "data": {
            "text/html": [
              "<span style=\"white-space:pre; font-family: monospace\">0 1 0 0 1 1 1 0 0 0 0 1\n",
              "</span>"
            ]
          },
          "execution_count": 290,
          "metadata": {},
          "output_type": "execute_result"
        }
      ],
      "source": [
        "Selected \u2190 37 43 50 66\n",
        "BHCodes \u220a Selected"
      ]
    },
    {
      "cell_type": "markdown",
      "metadata": {},
      "source": [
        "Then we can apply this filter to the amounts, and add them up:"
      ]
    },
    {
      "cell_type": "code",
      "execution_count": 291,
      "metadata": {},
      "outputs": [
        {
          "data": {
            "text/html": [
              "<span style=\"white-space:pre; font-family: monospace\">727 463 219 431 631\n",
              "</span>"
            ]
          },
          "execution_count": 291,
          "metadata": {},
          "output_type": "execute_result"
        }
      ],
      "source": [
        "(BHCodes \u220a Selected) / BHAmounts"
      ]
    },
    {
      "cell_type": "code",
      "execution_count": 292,
      "metadata": {},
      "outputs": [
        {
          "data": {
            "text/html": [
              "<span style=\"white-space:pre; font-family: monospace\">2471\n",
              "</span>"
            ]
          },
          "execution_count": 292,
          "metadata": {},
          "output_type": "execute_result"
        }
      ],
      "source": [
        "+/ (BHCodes \u220a Selected) / BHAmounts"
      ]
    },
    {
      "cell_type": "markdown",
      "metadata": {},
      "source": [
        "An alternative solution is to find the **positions** of the selected countries, then using this set of indices to get the amounts, and add them. The result is, of course, the same:"
      ]
    },
    {
      "cell_type": "code",
      "execution_count": 293,
      "metadata": {},
      "outputs": [
        {
          "data": {
            "text/html": [
              "<span style=\"white-space:pre; font-family: monospace\">2471\n",
              "</span>"
            ]
          },
          "execution_count": 293,
          "metadata": {},
          "output_type": "execute_result"
        }
      ],
      "source": [
        "Positions \u2190 \u2378BHCodes \u220a Selected\n",
        "+/BHAmounts[Positions]"
      ]
    },
    {
      "cell_type": "markdown",
      "metadata": {},
      "source": [
        "As mentioned previously in the subsection about *Compression*, it is a kind of detour to solve this task using indexing, but here it serves to illustrate the different lookup methods.\n",
        "\n",
        "Let us take a look at the selected countries and their positions in `BHCodes`:"
      ]
    },
    {
      "cell_type": "code",
      "execution_count": 294,
      "metadata": {},
      "outputs": [
        {
          "data": {
            "text/html": [
              "<span style=\"white-space:pre; font-family: monospace\">37 43 50 66\n",
              "</span>"
            ]
          },
          "execution_count": 294,
          "metadata": {},
          "output_type": "execute_result"
        }
      ],
      "source": [
        "Selected"
      ]
    },
    {
      "cell_type": "code",
      "execution_count": 295,
      "metadata": {},
      "outputs": [
        {
          "data": {
            "text/html": [
              "<span style=\"white-space:pre; font-family: monospace\">2 5 6 7 12\n",
              "</span>"
            ]
          },
          "execution_count": 295,
          "metadata": {},
          "output_type": "execute_result"
        }
      ],
      "source": [
        "Positions"
      ]
    },
    {
      "cell_type": "markdown",
      "metadata": {},
      "source": [
        "Using *Membership*, we have obtained `Positions` which contains 5 items for the 4 countries in `Selected`. What does it tell us?\n",
        "\n",
        " - `Positions` contains the indices of *all* of the occurrences of the selected countries in the list of sales;\n",
        " - however, the items in `Positions` do not correspond to the items in `Selected` on a one-to-one basis; we cannot say that country #43 is in position 2, or country #50 in position 5, and so on;\n",
        " - it does not tell us that nothing was sold in country #37. Perhaps it would have been a good idea to identify this?"
      ]
    },
    {
      "cell_type": "markdown",
      "metadata": {},
      "source": [
        "#### Second Question\n",
        "\n",
        "Now, let us suppose that we want to display the names of the selected countries. To do this, we must determine the positions of the selected country codes in the entire list of country codes, and get the corresponding names.\n",
        "\n",
        "If we use the *Membership* approach, here is what we get:"
      ]
    },
    {
      "cell_type": "code",
      "execution_count": 296,
      "metadata": {},
      "outputs": [
        {
          "data": {
            "text/html": [
              "<span style=\"white-space:pre; font-family: monospace\">37 43 50 66\n",
              "</span>"
            ]
          },
          "execution_count": 296,
          "metadata": {},
          "output_type": "execute_result"
        }
      ],
      "source": [
        "Selected"
      ]
    },
    {
      "cell_type": "code",
      "execution_count": 297,
      "metadata": {},
      "outputs": [
        {
          "data": {
            "text/html": [
              "<span style=\"white-space:pre; font-family: monospace\">France        37\n",
              "Great Britain 43\n",
              "Sweden        50\n",
              "Egypt         66\n",
              "</span>"
            ]
          },
          "execution_count": 297,
          "metadata": {},
          "output_type": "execute_result"
        }
      ],
      "source": [
        "Positions \u2190 \u2378Codes \u220a Selected\n",
        "Countries[Positions;] , Selected"
      ]
    },
    {
      "cell_type": "markdown",
      "metadata": {},
      "source": [
        "(As a side note, above we concatenated a character matrix with a numeric vector, so the result is a *Mixed* matrix)\n",
        "\n",
        "At first sight, this **seems** to be good: all the selected countries are displayed. However, they are not in the correct order: France is not 37, Sweden is not 50 and Egypt is not 66.\n",
        "\n",
        "The problem with this method is the lack of a one-to-one correspondence between the selected countries and their positions in the list of sales. The positions will always be in the order that the countries appear in `Countries` - because of `\u2378`. However, the Boolean vector `Codes \u220a Selected` is completely independent of the order of the items in `Selected`: the expression returns the same result no matter how `Selected` is ordered.\n",
        "\n",
        "The correct method to use in order to solve this task is to use the *Index Of* function (dyadic Iota):"
      ]
    },
    {
      "cell_type": "code",
      "execution_count": 298,
      "metadata": {},
      "outputs": [
        {
          "data": {
            "text/html": [
              "<span style=\"white-space:pre; font-family: monospace\">Egypt         37\n",
              "Great Britain 43\n",
              "France        50\n",
              "Sweden        66\n",
              "</span>"
            ]
          },
          "execution_count": 298,
          "metadata": {},
          "output_type": "execute_result"
        }
      ],
      "source": [
        "Positions \u2190 Codes \u2373 Selected\n",
        "Countries[Positions;] , Selected"
      ]
    },
    {
      "cell_type": "markdown",
      "metadata": {},
      "source": [
        "It is the one-to-one relationship between the items of the right argument to *Index Of* (`Selected`) and the items of its result (`Positions`) that guarantees a correct result."
      ]
    },
    {
      "cell_type": "markdown",
      "metadata": {},
      "source": [
        "#### Comparison\n",
        "\n",
        "The following table summarises the most important properties of the two methods:\n",
        "\n",
        "| Method | Properties |\n",
        "| :- | :- |\n",
        "| `Pos \u2190 \u2378List \u220a Data` | the items in `Pos` do not have a 1-to-1 correspondence with the items in `Data` |\n",
        "| | instead, the items in `Pos` correspond to the items in `List` |\n",
        "| | `Pos` gives all the positions of multiple occurrences of `List` in `Data` |\n",
        "| | `Pos` does not explicitly identify missing values |\n",
        "| `Pos \u2190 List \u2373 Data` | the items in `Pos` **do** have a 1-to-1 correspondence with the items in `Data` |\n",
        "| | `Pos` ignores multiple occurrences; just gives the first |\n",
        "| | `Pos` identifies missing values |\n",
        "\n",
        "The choice of method depends on the kind of problem you want to solve."
      ]
    },
    {
      "cell_type": "markdown",
      "metadata": {},
      "source": [
        "## Index Generator\n",
        "\n",
        "### Basic Usage\n",
        "\n",
        "When used as a monadic function, the symbol *Iota* generates a vector of the first `N` positive integers. It is called ***Index Generator***."
      ]
    },
    {
      "cell_type": "code",
      "execution_count": 299,
      "metadata": {},
      "outputs": [
        {
          "data": {
            "text/html": [
              "<span style=\"white-space:pre; font-family: monospace\">1 2 3 4 5 6 7 8 9\n",
              "</span>"
            ]
          },
          "execution_count": 299,
          "metadata": {},
          "output_type": "execute_result"
        }
      ],
      "source": [
        "\u23739"
      ]
    },
    {
      "cell_type": "markdown",
      "metadata": {},
      "source": [
        "If we have to extract the first 12 items of a vector `Contents`, we can write:"
      ]
    },
    {
      "cell_type": "code",
      "execution_count": 300,
      "metadata": {},
      "outputs": [
        {
          "data": {
            "text/html": [
              "<span style=\"white-space:pre; font-family: monospace\">12 56 78 74 85 96 30 22 44 66 82 27\n",
              "</span>"
            ]
          },
          "execution_count": 300,
          "metadata": {},
          "output_type": "execute_result"
        }
      ],
      "source": [
        "Contents[1 2 3 4 5 6 7 8 9 10 11 12]"
      ]
    },
    {
      "cell_type": "markdown",
      "metadata": {},
      "source": [
        "It is, of course, much easier to write"
      ]
    },
    {
      "cell_type": "code",
      "execution_count": 301,
      "metadata": {},
      "outputs": [
        {
          "data": {
            "text/html": [
              "<span style=\"white-space:pre; font-family: monospace\">12 56 78 74 85 96 30 22 44 66 82 27\n",
              "</span>"
            ]
          },
          "execution_count": 301,
          "metadata": {},
          "output_type": "execute_result"
        }
      ],
      "source": [
        "Contents[\u237312]"
      ]
    },
    {
      "cell_type": "markdown",
      "metadata": {},
      "source": [
        "The result can be combined with simple arithmetic operations. For example, supposed we need to produce the following list of 6 values: 115 122 129 136 143 150 (note the increments of 7). We can do this as follows:"
      ]
    },
    {
      "cell_type": "code",
      "execution_count": 302,
      "metadata": {},
      "outputs": [
        {
          "data": {
            "text/html": [
              "<span style=\"white-space:pre; font-family: monospace\">1 2 3 4 5 6\n",
              "</span>"
            ]
          },
          "execution_count": 302,
          "metadata": {},
          "output_type": "execute_result"
        }
      ],
      "source": [
        "\u23736"
      ]
    },
    {
      "cell_type": "code",
      "execution_count": 303,
      "metadata": {},
      "outputs": [
        {
          "data": {
            "text/html": [
              "<span style=\"white-space:pre; font-family: monospace\">0 1 2 3 4 5\n",
              "</span>"
            ]
          },
          "execution_count": 303,
          "metadata": {},
          "output_type": "execute_result"
        }
      ],
      "source": [
        "(\u23736)-1"
      ]
    },
    {
      "cell_type": "code",
      "execution_count": 304,
      "metadata": {},
      "outputs": [
        {
          "data": {
            "text/html": [
              "<span style=\"white-space:pre; font-family: monospace\">0 7 14 21 28 35\n",
              "</span>"
            ]
          },
          "execution_count": 304,
          "metadata": {},
          "output_type": "execute_result"
        }
      ],
      "source": [
        "7\u00d7(\u23736)-1"
      ]
    },
    {
      "cell_type": "code",
      "execution_count": 305,
      "metadata": {},
      "outputs": [
        {
          "data": {
            "text/html": [
              "<span style=\"white-space:pre; font-family: monospace\">115 122 129 136 143 150\n",
              "</span>"
            ]
          },
          "execution_count": 305,
          "metadata": {},
          "output_type": "execute_result"
        }
      ],
      "source": [
        "115+7\u00d7(\u23736)-1"
      ]
    },
    {
      "cell_type": "markdown",
      "metadata": {},
      "source": [
        "More generally, any arithmetic series of integers can be produced by the following algorithm:\n",
        "\n",
        "```{admonition} Algorithm \n",
        ":class: algorithm\n",
        "`R \u2190 Origin + Step \u00d7 (\u2373Length) - 1`\n",
        "```\n",
        "\n",
        "```{admonition} Special Case \n",
        ":class: note\n",
        "If `\u2373N` gives a vector of length `N`, then `\u23730` should give a vector of length `0`, right? A vector having length 0 is an empty vector. In particular, this will be a *numeric* empty vector.\n",
        "```\n",
        "\n",
        "Let us check:"
      ]
    },
    {
      "cell_type": "code",
      "execution_count": 306,
      "metadata": {},
      "outputs": [
        {
          "data": {
            "text/html": [
              "<span style=\"white-space:pre; font-family: monospace\">\n",
              "</span>"
            ]
          },
          "execution_count": 306,
          "metadata": {},
          "output_type": "execute_result"
        }
      ],
      "source": [
        "\u23730"
      ]
    },
    {
      "cell_type": "markdown",
      "metadata": {},
      "source": [
        "Nothing gets displayed above, so it does look like the numeric empty vector `\u236c`, which we can confirm with *Match*:"
      ]
    },
    {
      "cell_type": "code",
      "execution_count": 307,
      "metadata": {},
      "outputs": [
        {
          "data": {
            "text/html": [
              "<span style=\"white-space:pre; font-family: monospace\">1\n",
              "</span>"
            ]
          },
          "execution_count": 307,
          "metadata": {},
          "output_type": "execute_result"
        }
      ],
      "source": [
        "\u236c\u2261\u23730"
      ]
    },
    {
      "cell_type": "markdown",
      "metadata": {},
      "source": [
        "This was useful in early versions of APL, before the introduction of the *Zilde* symbol (`\u236c`).\n",
        "\n",
        "The definition of `\u2373N` given above reflects only a limited part of what this function can do; you will find more information in the *Specialist's Section* at the end of this chapter."
      ]
    },
    {
      "cell_type": "markdown",
      "metadata": {},
      "source": [
        "### Application 5\n",
        "\n",
        "Sometimes, a programmer needs to remove duplicate items from a vector and there is a well-known idiomatic way to do this. The idiom applies equally to numeric, character and nested vectors. Let us begin with a numeric vector:"
      ]
    },
    {
      "cell_type": "code",
      "execution_count": 308,
      "metadata": {},
      "outputs": [],
      "source": [
        "Vec \u2190 12 89 57 46 12 50 36 47 83 46 27 12"
      ]
    },
    {
      "cell_type": "markdown",
      "metadata": {},
      "source": [
        "The algorithm is based on the comparison of two vectors:"
      ]
    },
    {
      "cell_type": "code",
      "execution_count": 309,
      "metadata": {},
      "outputs": [
        {
          "data": {
            "text/html": [
              "<span style=\"white-space:pre; font-family: monospace\">1 2 3 4 5 6 7 8 9 10 11 12\n",
              "</span>"
            ]
          },
          "execution_count": 309,
          "metadata": {},
          "output_type": "execute_result"
        }
      ],
      "source": [
        "\u2373\u2262Vec"
      ]
    },
    {
      "cell_type": "markdown",
      "metadata": {},
      "source": [
        "which gives the position of each item of `Vec`, and"
      ]
    },
    {
      "cell_type": "code",
      "execution_count": 310,
      "metadata": {},
      "outputs": [
        {
          "data": {
            "text/html": [
              "<span style=\"white-space:pre; font-family: monospace\">1 2 3 4 1 6 7 8 9 4 11 1\n",
              "</span>"
            ]
          },
          "execution_count": 310,
          "metadata": {},
          "output_type": "execute_result"
        }
      ],
      "source": [
        "Vec\u2373Vec"
      ]
    },
    {
      "cell_type": "markdown",
      "metadata": {},
      "source": [
        "which identifies the first index in `Vec` in which each element of `Vec` is found. This may be a bit more complex to understand, so take your time to digest it. We are using `\u2373` to identify the positions of the items of `Vec` in `Vec` itself. But because *Index Of* only returns the first occurrences, we get, for each item, the position where this value appears for the first time.\n",
        "\n",
        "If we then compare these two vectors, we get a Boolean vector indicating which items of `Vec` are their first occurrences and which are repetitions:"
      ]
    },
    {
      "cell_type": "code",
      "execution_count": 311,
      "metadata": {},
      "outputs": [
        {
          "data": {
            "text/html": [
              "<span style=\"white-space:pre; font-family: monospace\">1 1 1 1 0 1 1 1 1 0 1 0\n",
              "</span>"
            ]
          },
          "execution_count": 311,
          "metadata": {},
          "output_type": "execute_result"
        }
      ],
      "source": [
        "(\u2373\u2262Vec)=Vec\u2373Vec"
      ]
    },
    {
      "cell_type": "markdown",
      "metadata": {},
      "source": [
        "Finally, we can use *Compress* to keep only the first occurrences, so that the algorithm is as follows:\n",
        "\n",
        "```{admonition} Algorithm \n",
        ":class: algorithm\n",
        "`((\u2373\u2262Vector) = Vector \u2373 Vector) / Vector`\n",
        "```\n"
      ]
    },
    {
      "cell_type": "code",
      "execution_count": 312,
      "metadata": {},
      "outputs": [
        {
          "data": {
            "text/html": [
              "<span style=\"white-space:pre; font-family: monospace\">12 89 57 46 50 36 47 83 27\n",
              "</span>"
            ]
          },
          "execution_count": 312,
          "metadata": {},
          "output_type": "execute_result"
        }
      ],
      "source": [
        "((\u2373\u2262Vec)=Vec\u2373Vec)/Vec"
      ]
    },
    {
      "cell_type": "markdown",
      "metadata": {},
      "source": [
        "The result above has *no* duplicates.\n",
        "\n",
        "It also works on character arrays and on nested arrays:"
      ]
    },
    {
      "cell_type": "code",
      "execution_count": 313,
      "metadata": {},
      "outputs": [
        {
          "data": {
            "text/html": [
              "<span style=\"white-space:pre; font-family: monospace\">Al menarctdqu\n",
              "</span>"
            ]
          },
          "execution_count": 313,
          "metadata": {},
          "output_type": "execute_result"
        }
      ],
      "source": [
        "Text \u2190 'All men are created equal'\n",
        "((\u2373\u2262Text)=Text\u2373Text)/Text"
      ]
    },
    {
      "cell_type": "code",
      "execution_count": 314,
      "metadata": {},
      "outputs": [
        {
          "data": {
            "text/html": [
              "<span style=\"white-space:pre; font-family: monospace\">\u250c\u2500\u2500\u2500\u252c\u2500\u252c\u2500\u2500\u2500\u252c\u2500\u252c\u2500\u2500\u2500\u2500\u252c\u2500\u2500\u2500\u2500\u252c\u2500\u2500\u2500\u2500\u252c\u2500\u252c\u2500\u2500\u2500\u252c\u2500\u2500\u2500\u252c\u2500\u2500\u2500\u252c\u2500\u2500\u2500\u2510\n",
              "\u2502one\u25021\u25021 2\u25029\u2502nine\u2502five\u2502nine\u25021\u2502two\u25021 2\u2502two\u2502one\u2502\n",
              "\u2502   \u2502 \u25023 4\u2502 \u2502    \u2502    \u2502    \u2502 \u2502   \u25023 4\u2502   \u2502   \u2502\n",
              "\u2514\u2500\u2500\u2500\u2534\u2500\u2534\u2500\u2500\u2500\u2534\u2500\u2534\u2500\u2500\u2500\u2500\u2534\u2500\u2500\u2500\u2500\u2534\u2500\u2500\u2500\u2500\u2534\u2500\u2534\u2500\u2500\u2500\u2534\u2500\u2500\u2500\u2534\u2500\u2500\u2500\u2534\u2500\u2500\u2500\u2518\n",
              "</span>"
            ]
          },
          "execution_count": 314,
          "metadata": {},
          "output_type": "execute_result"
        }
      ],
      "source": [
        "\u22a2Nested \u2190 'one' 1 (2 2\u2374\u23734) 9 'nine' 'five' 'nine' 1 'two' (2 2\u2374\u23734) 'two' 'one'"
      ]
    },
    {
      "cell_type": "code",
      "execution_count": 315,
      "metadata": {},
      "outputs": [
        {
          "data": {
            "text/html": [
              "<span style=\"white-space:pre; font-family: monospace\">\u250c\u2500\u2500\u2500\u252c\u2500\u252c\u2500\u2500\u2500\u252c\u2500\u252c\u2500\u2500\u2500\u2500\u252c\u2500\u2500\u2500\u2500\u252c\u2500\u2500\u2500\u2510\n",
              "\u2502one\u25021\u25021 2\u25029\u2502nine\u2502five\u2502two\u2502\n",
              "\u2502   \u2502 \u25023 4\u2502 \u2502    \u2502    \u2502   \u2502\n",
              "\u2514\u2500\u2500\u2500\u2534\u2500\u2534\u2500\u2500\u2500\u2534\u2500\u2534\u2500\u2500\u2500\u2500\u2534\u2500\u2500\u2500\u2500\u2534\u2500\u2500\u2500\u2518\n",
              "</span>"
            ]
          },
          "execution_count": 315,
          "metadata": {},
          "output_type": "execute_result"
        }
      ],
      "source": [
        "((\u2373\u2262Nested)=Nested\u2373Nested)/Nested"
      ]
    },
    {
      "cell_type": "markdown",
      "metadata": {},
      "source": [
        "#### Unique\n",
        "\n",
        "Although still useful as an example, the idiom described above is now completely obsolete, because there is a primitive function in APL that does exactly this.\n",
        "\n",
        "The primitive, called ***Unique***, is represented by the symbol `\u222a` (<kbd>APL</kbd>+<kbd>V</kbd>) used as a monadic function:"
      ]
    },
    {
      "cell_type": "code",
      "execution_count": 316,
      "metadata": {},
      "outputs": [
        {
          "data": {
            "text/html": [
              "<span style=\"white-space:pre; font-family: monospace\">12 89 57 46 50 36 47 83 27\n",
              "</span>"
            ]
          },
          "execution_count": 316,
          "metadata": {},
          "output_type": "execute_result"
        }
      ],
      "source": [
        "\u222a Vec"
      ]
    },
    {
      "cell_type": "code",
      "execution_count": 317,
      "metadata": {},
      "outputs": [
        {
          "data": {
            "text/html": [
              "<span style=\"white-space:pre; font-family: monospace\">Al menarctdqu\n",
              "</span>"
            ]
          },
          "execution_count": 317,
          "metadata": {},
          "output_type": "execute_result"
        }
      ],
      "source": [
        "\u222a Text"
      ]
    },
    {
      "cell_type": "code",
      "execution_count": 318,
      "metadata": {},
      "outputs": [
        {
          "data": {
            "text/html": [
              "<span style=\"white-space:pre; font-family: monospace\">\u250c\u2500\u2500\u2500\u252c\u2500\u252c\u2500\u2500\u2500\u252c\u2500\u252c\u2500\u2500\u2500\u2500\u252c\u2500\u2500\u2500\u2500\u252c\u2500\u2500\u2500\u2510\n",
              "\u2502one\u25021\u25021 2\u25029\u2502nine\u2502five\u2502two\u2502\n",
              "\u2502   \u2502 \u25023 4\u2502 \u2502    \u2502    \u2502   \u2502\n",
              "\u2514\u2500\u2500\u2500\u2534\u2500\u2534\u2500\u2500\u2500\u2534\u2500\u2534\u2500\u2500\u2500\u2500\u2534\u2500\u2500\u2500\u2500\u2534\u2500\u2500\u2500\u2518\n",
              "</span>"
            ]
          },
          "execution_count": 318,
          "metadata": {},
          "output_type": "execute_result"
        }
      ],
      "source": [
        "\u222a Nested"
      ]
    },
    {
      "cell_type": "markdown",
      "metadata": {},
      "source": [
        "The symbol `\u222a` is the mathematical symbol for set union and we will see this is *not* a coincidence."
      ]
    },
    {
      "cell_type": "markdown",
      "metadata": {},
      "source": [
        "### Application 6\n",
        "\n",
        "Some applications of *Index Generator* are extremely basic, but so useful! Suppose that you invest a certain sum of money, \u20ac6,000 for example, and you expect an interest rate of 4% p.a.. How is the investment expected to grow in the next 5 years?\n",
        "\n",
        "We will have to calculate 1.04 to the power of 0, 1, 2, 3 and 4. The *Index Generator* will help us:"
      ]
    },
    {
      "cell_type": "code",
      "execution_count": 319,
      "metadata": {},
      "outputs": [
        {
          "data": {
            "text/html": [
              "<span style=\"white-space:pre; font-family: monospace\">6000 6240 6489.6 6749.18 7019.15 7299.92\n",
              "</span>"
            ]
          },
          "execution_count": 319,
          "metadata": {},
          "output_type": "execute_result"
        }
      ],
      "source": [
        "6000\u00d71.04*(\u23736)-1"
      ]
    },
    {
      "cell_type": "markdown",
      "metadata": {},
      "source": [
        "## Ravel\n",
        "\n",
        "The function ***Ravel*** is represented by the monadic use of comma (`,`). Applied to any array, it returns all its items as a vector.\n",
        "\n",
        "Naturally, if the array is already a vector, *Ravel* does not change anything.\n",
        "\n",
        "Let us see how it works on some matrices."
      ]
    },
    {
      "cell_type": "code",
      "execution_count": 320,
      "metadata": {},
      "outputs": [
        {
          "data": {
            "text/html": [
              "<span style=\"white-space:pre; font-family: monospace\">73  16 42\n",
              "50   2 67\n",
              "11  81 37\n",
              "93 100 98\n",
              "83  32 76\n",
              "51  37 15\n",
              "</span>"
            ]
          },
          "execution_count": 320,
          "metadata": {},
          "output_type": "execute_result"
        }
      ],
      "source": [
        "\u2395RL \u2190 73\n",
        "\u22a2Tests \u2190 ?6 3\u2374100"
      ]
    },
    {
      "cell_type": "code",
      "execution_count": 321,
      "metadata": {},
      "outputs": [
        {
          "data": {
            "text/html": [
              "<span style=\"white-space:pre; font-family: monospace\">73 16 42 50 2 67 11 81 37 93 100 98 83 32 76 51 37 15\n",
              "</span>"
            ]
          },
          "execution_count": 321,
          "metadata": {},
          "output_type": "execute_result"
        }
      ],
      "source": [
        ",Tests"
      ]
    },
    {
      "cell_type": "markdown",
      "metadata": {},
      "source": [
        "The items of the matrix have been strung out and returned as a vector, row by row."
      ]
    },
    {
      "cell_type": "code",
      "execution_count": 322,
      "metadata": {},
      "outputs": [
        {
          "data": {
            "text/html": [
              "<span style=\"white-space:pre; font-family: monospace\">H2SO4\n",
              "CaCO3\n",
              "Fe2O3\n",
              "</span>"
            ]
          },
          "execution_count": 322,
          "metadata": {},
          "output_type": "execute_result"
        }
      ],
      "source": [
        "Chemistry"
      ]
    },
    {
      "cell_type": "code",
      "execution_count": 323,
      "metadata": {},
      "outputs": [
        {
          "data": {
            "text/html": [
              "<span style=\"white-space:pre; font-family: monospace\">H2SO4CaCO3Fe2O3\n",
              "</span>"
            ]
          },
          "execution_count": 323,
          "metadata": {},
          "output_type": "execute_result"
        }
      ],
      "source": [
        ",Chemistry"
      ]
    },
    {
      "cell_type": "markdown",
      "metadata": {},
      "source": [
        "A common use of ***Ravel*** is to transform a scalar into a 1-item vector. The difference between a scalar and a 1-item vector is not readily obvious, until you use it as an index into a matrix.\n",
        "\n",
        "Suppose that you need to select a particular set of columns `Cols` from the matrix `Forecast`. As long as `Cols` contains more than one value, the result will be a matrix:"
      ]
    },
    {
      "cell_type": "code",
      "execution_count": 324,
      "metadata": {},
      "outputs": [
        {
          "data": {
            "text/html": [
              "<span style=\"white-space:pre; font-family: monospace\"> 90 500  30\n",
              "110 370 360\n",
              "340 120 370\n",
              "150 520 280\n",
              "</span>"
            ]
          },
          "execution_count": 324,
          "metadata": {},
          "output_type": "execute_result"
        }
      ],
      "source": [
        "Cols \u2190 1 4 6\n",
        "Forecast[;Cols]"
      ]
    },
    {
      "cell_type": "markdown",
      "metadata": {},
      "source": [
        "But if `Cols` happens to have only a single value, which is a scalar, the result returned is a vector (we already mentioned this in the subsection on \"Array Indexing\"):"
      ]
    },
    {
      "cell_type": "code",
      "execution_count": 325,
      "metadata": {},
      "outputs": [
        {
          "data": {
            "text/html": [
              "<span style=\"white-space:pre; font-family: monospace\">500 370 120 520\n",
              "</span>"
            ]
          },
          "execution_count": 325,
          "metadata": {},
          "output_type": "execute_result"
        }
      ],
      "source": [
        "Cols \u2190 4\n",
        "Forecast[;Cols]"
      ]
    },
    {
      "cell_type": "markdown",
      "metadata": {},
      "source": [
        "The rank of the result may be critical if some other expression in your program expects a matrix.\n",
        "\n",
        "To make certain that your indexing expression always returns a matrix, you must ensure that your index will always be a vector by using *Ravel*:"
      ]
    },
    {
      "cell_type": "code",
      "execution_count": 326,
      "metadata": {},
      "outputs": [
        {
          "data": {
            "text/html": [
              "<span style=\"white-space:pre; font-family: monospace\">500\n",
              "370\n",
              "120\n",
              "520\n",
              "</span>"
            ]
          },
          "execution_count": 326,
          "metadata": {},
          "output_type": "execute_result"
        }
      ],
      "source": [
        "Forecast[;,Cols]"
      ]
    },
    {
      "cell_type": "markdown",
      "metadata": {},
      "source": [
        "With `,Cols`, whatever the rank of `Cols` is, the result will always be a matrix.\n",
        "\n",
        "*Ravel* can be associated with an *Axis* specifier; this will be discussed in the *Specialist's Section*."
      ]
    },
    {
      "cell_type": "markdown",
      "metadata": {},
      "source": [
        "## Empty Vectors and Black Holes\n",
        "\n",
        "When we apply a scalar dyadic function to a vector and a scalar, the rule is that the result has the same size as the vector:"
      ]
    },
    {
      "cell_type": "code",
      "execution_count": 327,
      "metadata": {},
      "outputs": [
        {
          "data": {
            "text/html": [
              "<span style=\"white-space:pre; font-family: monospace\">52 85 96 41\n",
              "</span>"
            ]
          },
          "execution_count": 327,
          "metadata": {},
          "output_type": "execute_result"
        }
      ],
      "source": [
        "42 75 86 31 + 10"
      ]
    },
    {
      "cell_type": "markdown",
      "metadata": {},
      "source": [
        "Above, a scalar added to a 4-item vector gives a 4-item vector, too.\n",
        "\n",
        "Below, a 7-item vector compared to a scalar gives a 7-item vector:"
      ]
    },
    {
      "cell_type": "code",
      "execution_count": 328,
      "metadata": {},
      "outputs": [
        {
          "data": {
            "text/html": [
              "<span style=\"white-space:pre; font-family: monospace\">1 0 1 1 0 0 0\n",
              "</span>"
            ]
          },
          "execution_count": 328,
          "metadata": {},
          "output_type": "execute_result"
        }
      ],
      "source": [
        "'MAMMOTH' = 'M'"
      ]
    },
    {
      "cell_type": "markdown",
      "metadata": {},
      "source": [
        "But what happens if the vector is empty? The rule says that the result must have the same size as the vector: therefore it should be empty, too, regardless of the (scalar) function that we used!"
      ]
    },
    {
      "cell_type": "code",
      "execution_count": 329,
      "metadata": {},
      "outputs": [
        {
          "data": {
            "text/html": [
              "<span style=\"white-space:pre; font-family: monospace\">\n",
              "</span>"
            ]
          },
          "execution_count": 329,
          "metadata": {},
          "output_type": "execute_result"
        }
      ],
      "source": [
        "Hole \u2190 \u236c\n",
        "Hole + 3"
      ]
    },
    {
      "cell_type": "markdown",
      "metadata": {},
      "source": [
        "Notice how nothing is displayed above: the result is empty.\n",
        "\n",
        "The same thing happens if we multiply by 100, for example:"
      ]
    },
    {
      "cell_type": "code",
      "execution_count": 330,
      "metadata": {},
      "outputs": [
        {
          "data": {
            "text/html": [
              "<span style=\"white-space:pre; font-family: monospace\">\n",
              "</span>"
            ]
          },
          "execution_count": 330,
          "metadata": {},
          "output_type": "execute_result"
        }
      ],
      "source": [
        "Hole \u00d7 100"
      ]
    },
    {
      "cell_type": "code",
      "execution_count": 331,
      "metadata": {},
      "outputs": [
        {
          "data": {
            "text/html": [
              "<span style=\"white-space:pre; font-family: monospace\">\n",
              "</span>"
            ]
          },
          "execution_count": 331,
          "metadata": {},
          "output_type": "execute_result"
        }
      ],
      "source": [
        "Hole = 0"
      ]
    },
    {
      "cell_type": "code",
      "execution_count": 332,
      "metadata": {},
      "outputs": [
        {
          "data": {
            "text/html": [
              "<span style=\"white-space:pre; font-family: monospace\">\n",
              "</span>"
            ]
          },
          "execution_count": 332,
          "metadata": {},
          "output_type": "execute_result"
        }
      ],
      "source": [
        "Hole = Hole"
      ]
    },
    {
      "cell_type": "code",
      "execution_count": 333,
      "metadata": {},
      "outputs": [
        {
          "data": {
            "text/html": [
              "<span style=\"white-space:pre; font-family: monospace\">0\n",
              "</span>"
            ]
          },
          "execution_count": 333,
          "metadata": {},
          "output_type": "execute_result"
        }
      ],
      "source": [
        "\u2374Hole"
      ]
    },
    {
      "cell_type": "code",
      "execution_count": 334,
      "metadata": {},
      "outputs": [
        {
          "data": {
            "text/html": [
              "<span style=\"white-space:pre; font-family: monospace\">1\n",
              "</span>"
            ]
          },
          "execution_count": 334,
          "metadata": {},
          "output_type": "execute_result"
        }
      ],
      "source": [
        "Hole \u2261 \u236c"
      ]
    },
    {
      "cell_type": "markdown",
      "metadata": {},
      "source": [
        "If you were working on the terminal and getting all these empty results, you could compare `Hole` to `\u236c` with *Match* and conclude `Hole` is an empty numeric vector.\n",
        "\n",
        "Empty vectors look very much like black holes: they absorb everything (but only when used with scalar functions). This may lead to some unexpected results."
      ]
    },
    {
      "cell_type": "markdown",
      "metadata": {},
      "source": [
        "### Not All Empty Vectors Are Created Equal\n",
        "\n",
        "Something that might throw off new APLers is the fact that there are infinitely many different empty vectors. The first two examples being `\u236c` and `''`:"
      ]
    },
    {
      "cell_type": "code",
      "execution_count": 335,
      "metadata": {},
      "outputs": [
        {
          "data": {
            "text/html": [
              "<span style=\"white-space:pre; font-family: monospace\">\n",
              "</span>"
            ]
          },
          "execution_count": 335,
          "metadata": {},
          "output_type": "execute_result"
        }
      ],
      "source": [
        "\u236c"
      ]
    },
    {
      "cell_type": "code",
      "execution_count": 336,
      "metadata": {},
      "outputs": [
        {
          "data": {
            "text/html": [
              "<span style=\"white-space:pre; font-family: monospace\">\n",
              "</span>"
            ]
          },
          "execution_count": 336,
          "metadata": {},
          "output_type": "execute_result"
        }
      ],
      "source": [
        "''"
      ]
    },
    {
      "cell_type": "markdown",
      "metadata": {},
      "source": [
        "They look the same when displayed as results, but they are *not* the same:"
      ]
    },
    {
      "cell_type": "code",
      "execution_count": 337,
      "metadata": {},
      "outputs": [
        {
          "data": {
            "text/html": [
              "<span style=\"white-space:pre; font-family: monospace\">0\n",
              "</span>"
            ]
          },
          "execution_count": 337,
          "metadata": {},
          "output_type": "execute_result"
        }
      ],
      "source": [
        "\u236c\u2261''"
      ]
    },
    {
      "cell_type": "markdown",
      "metadata": {},
      "source": [
        "And this is just the tip of the iceberg. If you recall the rule for *Where* (monadic `\u2378`), we know that `\u2378Y` returns an empty vector if `Y` only contains 0s, but an empty vector of *what*?\n",
        "\n",
        "If `Y` contains positive integers, then the result of `\u2378Y` will contain some indices that can be used to index into `Y` and the shape of those indices depends on the shape of `Y`:"
      ]
    },
    {
      "cell_type": "code",
      "execution_count": 338,
      "metadata": {},
      "outputs": [
        {
          "data": {
            "text/html": [
              "<span style=\"white-space:pre; font-family: monospace\">1 3\n",
              "</span>"
            ]
          },
          "execution_count": 338,
          "metadata": {},
          "output_type": "execute_result"
        }
      ],
      "source": [
        "\u2378 1 0 1 0"
      ]
    },
    {
      "cell_type": "code",
      "execution_count": 339,
      "metadata": {},
      "outputs": [
        {
          "data": {
            "text/html": [
              "<span style=\"white-space:pre; font-family: monospace\">\u250c\u2500\u2500\u2500\u252c\u2500\u2500\u2500\u2510\n",
              "\u25021 1\u25022 1\u2502\n",
              "\u2514\u2500\u2500\u2500\u2534\u2500\u2500\u2500\u2518\n",
              "</span>"
            ]
          },
          "execution_count": 339,
          "metadata": {},
          "output_type": "execute_result"
        }
      ],
      "source": [
        "\u2378 2 2\u23741 0 1 0"
      ]
    },
    {
      "cell_type": "markdown",
      "metadata": {},
      "source": [
        "So in the first example we see a vector with 2 integers and in the second example we see a vector with 2 vectors, each containing 2 items.\n",
        "\n",
        "If we change one of the 1s to a 0, here is what we will be getting:"
      ]
    },
    {
      "cell_type": "code",
      "execution_count": 340,
      "metadata": {},
      "outputs": [
        {
          "data": {
            "text/html": [
              "<span style=\"white-space:pre; font-family: monospace\">1\n",
              "</span>"
            ]
          },
          "execution_count": 340,
          "metadata": {},
          "output_type": "execute_result"
        }
      ],
      "source": [
        "\u2378 1 0 0 0"
      ]
    },
    {
      "cell_type": "code",
      "execution_count": 341,
      "metadata": {},
      "outputs": [
        {
          "data": {
            "text/html": [
              "<span style=\"white-space:pre; font-family: monospace\">\u250c\u2500\u2500\u2500\u2510\n",
              "\u25021 1\u2502\n",
              "\u2514\u2500\u2500\u2500\u2518\n",
              "</span>"
            ]
          },
          "execution_count": 341,
          "metadata": {},
          "output_type": "execute_result"
        }
      ],
      "source": [
        "\u2378 2 2\u23741 0 0 0"
      ]
    },
    {
      "cell_type": "markdown",
      "metadata": {},
      "source": [
        "Now we have a vector with 1 integer and a vector with 1 vector of 2 items.\n",
        "\n",
        "If we change the final 1 to a 0, we will be getting a vector with 0 integers (an empty numeric vector `\u236c`) and a vector with 0 vectors of 2 items. For APL, these are *not* the same thing:"
      ]
    },
    {
      "cell_type": "code",
      "execution_count": 342,
      "metadata": {},
      "outputs": [
        {
          "data": {
            "text/html": [
              "<span style=\"white-space:pre; font-family: monospace\">\n",
              "</span>"
            ]
          },
          "execution_count": 342,
          "metadata": {},
          "output_type": "execute_result"
        }
      ],
      "source": [
        "\u2378 0 0 0 0"
      ]
    },
    {
      "cell_type": "code",
      "execution_count": 343,
      "metadata": {},
      "outputs": [
        {
          "data": {
            "text/html": [
              "<span style=\"white-space:pre; font-family: monospace\">1\n",
              "</span>"
            ]
          },
          "execution_count": 343,
          "metadata": {},
          "output_type": "execute_result"
        }
      ],
      "source": [
        "\u236c\u2261\u2378 0 0 0 0"
      ]
    },
    {
      "cell_type": "code",
      "execution_count": 344,
      "metadata": {},
      "outputs": [
        {
          "data": {
            "text/html": [
              "<span style=\"white-space:pre; font-family: monospace\">\n",
              "\n",
              "\n",
              "</span>"
            ]
          },
          "execution_count": 344,
          "metadata": {},
          "output_type": "execute_result"
        }
      ],
      "source": [
        "\u2378 2 2\u23740 0 0 0"
      ]
    },
    {
      "cell_type": "code",
      "execution_count": 345,
      "metadata": {},
      "outputs": [
        {
          "data": {
            "text/html": [
              "<span style=\"white-space:pre; font-family: monospace\">0\n",
              "</span>"
            ]
          },
          "execution_count": 345,
          "metadata": {},
          "output_type": "execute_result"
        }
      ],
      "source": [
        "\u236c\u2261\u2378 2 2\u23740 0 0 0        \u235d different empty vectors"
      ]
    },
    {
      "cell_type": "markdown",
      "metadata": {},
      "source": [
        "```{admonition} Tip \n",
        ":class: tip\n",
        "When you are dealing with empty vectors, you can use the incantation `\u2395SE.Dyalog.Utils.repObj` to inspect their actual shape.\n",
        "```\n",
        "\n",
        "To illustrate this incantation, we will see what it returns for the empty vectors we saw above:"
      ]
    },
    {
      "cell_type": "code",
      "execution_count": 346,
      "metadata": {},
      "outputs": [
        {
          "data": {
            "text/html": [
              "<span style=\"white-space:pre; font-family: monospace\">''\n",
              "</span>"
            ]
          },
          "execution_count": 346,
          "metadata": {},
          "output_type": "execute_result"
        }
      ],
      "source": [
        "\u2395SE.Dyalog.Utils.repObj ''"
      ]
    },
    {
      "cell_type": "code",
      "execution_count": 347,
      "metadata": {
        "scrolled": true
      },
      "outputs": [
        {
          "data": {
            "text/html": [
              "<span style=\"white-space:pre; font-family: monospace\">\u236c\n",
              "</span>"
            ]
          },
          "execution_count": 347,
          "metadata": {},
          "output_type": "execute_result"
        }
      ],
      "source": [
        "\u2395SE.Dyalog.Utils.repObj \u236c"
      ]
    },
    {
      "cell_type": "code",
      "execution_count": 348,
      "metadata": {},
      "outputs": [
        {
          "data": {
            "text/html": [
              "<span style=\"white-space:pre; font-family: monospace\">\u236c\n",
              "</span>"
            ]
          },
          "execution_count": 348,
          "metadata": {},
          "output_type": "execute_result"
        }
      ],
      "source": [
        "\u2395SE.Dyalog.Utils.repObj \u2378 0 0 0 0"
      ]
    },
    {
      "cell_type": "code",
      "execution_count": 349,
      "metadata": {},
      "outputs": [
        {
          "data": {
            "text/html": [
              "<span style=\"white-space:pre; font-family: monospace\">0\u2374\u22822\u23740\n",
              "</span>"
            ]
          },
          "execution_count": 349,
          "metadata": {},
          "output_type": "execute_result"
        }
      ],
      "source": [
        "\u2395SE.Dyalog.Utils.repObj \u2378 2 2\u23740 0 0 0"
      ]
    },
    {
      "cell_type": "markdown",
      "metadata": {},
      "source": [
        "What the code cell above tells us is that `\u2378 2 2\u23740 0 0 0` matches `0\u2374\u22822\u23740`, which you can check by copying & pasting the result above, or using <kbd>APL</kbd>+<kbd>Z</kbd> to type `\u2282`:"
      ]
    },
    {
      "cell_type": "code",
      "execution_count": 350,
      "metadata": {},
      "outputs": [
        {
          "data": {
            "text/html": [
              "<span style=\"white-space:pre; font-family: monospace\">1\n",
              "</span>"
            ]
          },
          "execution_count": 350,
          "metadata": {},
          "output_type": "execute_result"
        }
      ],
      "source": [
        "(0\u2374\u22822\u23740)\u2261(\u2378 2 2\u23740 0 0 0)"
      ]
    },
    {
      "cell_type": "markdown",
      "metadata": {},
      "source": [
        "(You will learn about what `\u2282` does in a future chapter, don't worry.)\n",
        "\n",
        "```{figure} ../res/Hierarchy.png\n",
        "---\n",
        "name: Hierarchy\n",
        "---\n",
        "\n",
        "```\n"
      ]
    },
    {
      "cell_type": "markdown",
      "metadata": {},
      "source": [
        "## Exercises\n",
        "\n",
        "```{admonition} Warning \n",
        ":class: warning\n",
        "*The following exercises are designed to train you, not the computer.*\n",
        "\n",
        "*For this reason, we suggest that you try to answer them on a sheet of paper, not on your computer. When you are sure of your answer, you can test it on the computer.*\n",
        "```\n",
        "\n",
        "**Exercise**:\n",
        "\n",
        "Can you evaluate the following expressions?\n",
        "\n",
        "```APL\n",
        "3 \u00d7 2 + 6 \u2260 3 \u00d7 2\n",
        "12 6 27 \u230a 11 + \u23733\n",
        "4 5 6 \u2308 4 + 2 5 9 > 1 6 8\n",
        "7 \u230a 25 6 17 - (2 \u00d7 3) + 9 3 5\n",
        "((8 + 6) \u00d7 2 + 1) \u00d7 3 - 6 \u00f7 3\n",
        "(\u23744\u23085) + 4\u23085\n",
        "1 \u22a2 2 \u22a3 3 \u22a2 4 \u22a3 5 \u22a2 6 \u22a3 7\n",
        "1 \u22a3 2 \u22a2 3 \u22a3 4 \u22a2 5 \u22a3 6 \u22a2 7\n",
        "1 2 3 \u22a2 4 5 6\n",
        "```"
      ]
    },
    {
      "cell_type": "markdown",
      "metadata": {},
      "source": [
        "**Exercise**:\n",
        "\n",
        "Try to evaluate the following expressions. *Be careful*: they are not as simple as might first appear!\n",
        "\n",
        "```APL\n",
        "2 2+2 2\n",
        "2+2 2+2\n",
        "2+2,2+2\n",
        "2,2+2,2\n",
        "```"
      ]
    },
    {
      "cell_type": "markdown",
      "metadata": {},
      "source": [
        "**Exercise**:\n",
        "\n",
        "Given the vector `A \u2190 8 2 7 5`, compare the results obtained from the following sets of expressions:\n",
        "\n",
        "```APL\n",
        "1+\u2374A\n",
        "\u2374A+1\n",
        "```\n",
        "\n",
        "and\n",
        "\n",
        "```APL\n",
        "1+\u2373\u2374A\n",
        "\u2373\u00af1+\u2374A\n",
        "\u2373\u2374A-1\n",
        "```"
      ]
    },
    {
      "cell_type": "markdown",
      "metadata": {},
      "source": [
        "**Exercise**:\n",
        "\n",
        "Using your knowledge of the order of evaluation in APL, re-write the following expressions without using parentheses.\n",
        "\n",
        "```APL\n",
        "((\u23734)-1)\u23083\n",
        "7\u230a(\u23739)\u23083\n",
        "1+((\u23735)=1 4 3 2 5)\u00d75\n",
        "```"
      ]
    },
    {
      "cell_type": "markdown",
      "metadata": {},
      "source": [
        "**Exercise**:\n",
        "\n",
        "Given a variable `A`, find an expression which returns the answer 1 if `A` is a scalar, and 0 if it is not."
      ]
    },
    {
      "cell_type": "markdown",
      "metadata": {},
      "source": [
        "**Exercise**:\n",
        "\n",
        "Given two scalars `A` and `B`, write an expressions which gives 7 if `A` is greater than or equal to `B` and 3 if `A` is smaller than `B`."
      ]
    },
    {
      "cell_type": "markdown",
      "metadata": {},
      "source": [
        "**Exercise**:\n",
        "\n",
        "Given two scalars `A` and `B`, find an expression which returns:\n",
        " - an empty vector, if `A` is zero, whatever the value of `B`;\n",
        " - 0, if `B` is zero, but `A` is not;\n",
        " - 3, if neither `A` nor `B` are zero."
      ]
    },
    {
      "cell_type": "markdown",
      "metadata": {},
      "source": [
        "**Exercise**:\n",
        "\n",
        "Unfortunately, your keyboard has been damaged and your `\u2227` and `\u2228` keys no longer work. Which other symbols could you use to replace them?\n",
        "\n",
        "You can test your solutions on these vectors:"
      ]
    },
    {
      "cell_type": "code",
      "execution_count": 351,
      "metadata": {},
      "outputs": [],
      "source": [
        "L \u2190 0 0 1 1\n",
        "R \u2190 0 1 0 1"
      ]
    },
    {
      "cell_type": "markdown",
      "metadata": {},
      "source": [
        "**Exercise**:\n",
        "\n",
        "Given these three vectors:"
      ]
    },
    {
      "cell_type": "code",
      "execution_count": 352,
      "metadata": {},
      "outputs": [],
      "source": [
        "G \u2190 1 1 1 0 0 1\n",
        "M \u2190 0 0 1 1 0 1\n",
        "D \u2190 1 0 1 0 1 0"
      ]
    },
    {
      "cell_type": "markdown",
      "metadata": {},
      "source": [
        "Evaluate the following expressions:\n",
        "\n",
        "```APL\n",
        "G\u2228D\n",
        "~G\u2227D\n",
        "~G\u2228~D\n",
        "D\u2227~G\n",
        "G\u2227M\u2228D\n",
        "(~D)\u2227(~G)\n",
        "(M\u2308G)=(M\u230aD)\n",
        "(M\u230aG)\u2260(M\u2308D)\n",
        "```"
      ]
    },
    {
      "cell_type": "markdown",
      "metadata": {},
      "source": [
        "**Exercise**:\n",
        "\n",
        "Evaluate the following expressions:\n",
        "\n",
        "```APL\n",
        "0 < 0 \u2264 0 = 0 \u2265 0 > 0\n",
        "'sugar' \u220a 'salt'\n",
        "11 \u2260 '11'\n",
        "'14' \u2373 '41'\n",
        "```"
      ]
    },
    {
      "cell_type": "markdown",
      "metadata": {},
      "source": [
        "**Exercise**:\n",
        "\n",
        "Write an expression to compute the number of times the letter \"e\" appears in a character vector. You can test it with this vector:"
      ]
    },
    {
      "cell_type": "code",
      "execution_count": 353,
      "metadata": {},
      "outputs": [],
      "source": [
        "Text \u2190 'The silence of the sea'"
      ]
    },
    {
      "cell_type": "markdown",
      "metadata": {},
      "source": [
        "**Exercise**:\n",
        "\n",
        "How many expressions can you write to retrieve the last element of a vector? Can you write one that uses the *Reduce* operator `/`?\n",
        "\n",
        "You can test your expressions on these vectors:"
      ]
    },
    {
      "cell_type": "code",
      "execution_count": 361,
      "metadata": {},
      "outputs": [],
      "source": [
        "Vec \u2190 1 2 3 4 5 6\n",
        "Vec \u2190 (1 2) 3 (4 5) 6\n",
        "Vec \u2190 0 (5\u23740) (3 4\u23740) (1 2 3\u23740)"
      ]
    },
    {
      "cell_type": "markdown",
      "metadata": {},
      "source": [
        "**Exercise**:\n",
        "\n",
        "We have conducted some experiments on a variable `Z`:\n",
        "\n",
        "```APL\n",
        "      2 \u2374 Z\n",
        "1 7\n",
        "      +\u233f Z\n",
        "20\n",
        "      Z = 9\n",
        "0\n",
        "0\n",
        "1\n",
        "0\n",
        "```\n",
        "\n",
        "What is the value of `Z`?"
      ]
    },
    {
      "cell_type": "markdown",
      "metadata": {},
      "source": [
        "**Exercise**:\n",
        "\n",
        "We have conducted some experiments on a variable `Z`:\n",
        "\n",
        "```APL\n",
        "      Z = 0\n",
        "0 1 0 0\n",
        "1 0 0 1\n",
        "      +/[2] Z\n",
        "20 6\n",
        "      +/[1] Z\n",
        "8 7 6 5\n",
        "```\n",
        "\n",
        "What is the value of `Z`?"
      ]
    },
    {
      "cell_type": "markdown",
      "metadata": {},
      "source": [
        "**Exercise**:\n",
        "\n",
        "What are all the **positions** of the letter \"e\" in the character vector specified in exercise 11?"
      ]
    },
    {
      "cell_type": "markdown",
      "metadata": {},
      "source": [
        "**Exercise**:\n",
        "\n",
        "Given a vector `Vec` of any size and type (numeric or character or even nested), try to extract the items of `Vec` which are in the odd positions (the 1st, the 3rd, the 5th, ...).\n",
        "\n",
        "You can test your solution on these vectors:"
      ]
    },
    {
      "cell_type": "code",
      "execution_count": 354,
      "metadata": {},
      "outputs": [],
      "source": [
        "Vec \u2190 1 2 3 4 5 6 7 8 9\n",
        "Vec \u2190 'CROANGGARYANTLULLBAPTWIZOSNSSB'\n",
        "Vec \u2190 (1 2) (2 3) (4 5 6) (6 9 42 1024)"
      ]
    },
    {
      "cell_type": "markdown",
      "metadata": {},
      "source": [
        "**Exercise**:\n",
        "\n",
        "How many numbers are there in the variable `Prod` used in this chapter?"
      ]
    },
    {
      "cell_type": "markdown",
      "metadata": {},
      "source": [
        "**Exercise**:\n",
        "\n",
        "How is it possible to remove all the values which do not fall between 20 (inclusive) and 30 (exclusive) from a given vector?"
      ]
    },
    {
      "cell_type": "markdown",
      "metadata": {},
      "source": [
        "**Exercise**:\n",
        "\n",
        "Notice how these two expressions look the same:"
      ]
    },
    {
      "cell_type": "code",
      "execution_count": 363,
      "metadata": {},
      "outputs": [
        {
          "data": {
            "text/html": [
              "<span style=\"white-space:pre; font-family: monospace\">4\n",
              "</span>"
            ]
          },
          "execution_count": 363,
          "metadata": {},
          "output_type": "execute_result"
        }
      ],
      "source": [
        "\u2262Vec"
      ]
    },
    {
      "cell_type": "code",
      "execution_count": 364,
      "metadata": {},
      "outputs": [
        {
          "data": {
            "text/html": [
              "<span style=\"white-space:pre; font-family: monospace\">4\n",
              "</span>"
            ]
          },
          "execution_count": 364,
          "metadata": {},
          "output_type": "execute_result"
        }
      ],
      "source": [
        "\u2374Vec"
      ]
    },
    {
      "cell_type": "markdown",
      "metadata": {},
      "source": [
        "Can you tell if/how they are different?"
      ]
    },
    {
      "cell_type": "markdown",
      "metadata": {},
      "source": [
        "**Exercise**:\n",
        "\n",
        "Can you compute the *Depth* (`\u2261`) of these arrays:\n",
        "\n",
        "```APL\n",
        "42\n",
        "42 41 40 39\n",
        "2 2\u237442 41 40 39\n",
        "1 (2 3) (4 5)\n",
        "(1 2) (3 4 5) (6 7 8 9)\n",
        "1 (2 (3 (4 (5 (6 7)))))\n",
        "(2 2\u23744) (2 2\u2374\u237347) (3 6\u2374\u237318)\n",
        "```"
      ]
    },
    {
      "cell_type": "markdown",
      "metadata": {},
      "source": [
        "**Exercise**:\n",
        "\n",
        "In a vector, we would like to replace all the values that are smaller than 20 by 20, and replace all the values that are greater than 30 by 30. How can we do that?"
      ]
    },
    {
      "cell_type": "markdown",
      "metadata": {},
      "source": [
        "**Exercise**:\n",
        "\n",
        "The following 6 expressions cannot be executed, but instead generate error messages; can you say why?\n",
        "\n",
        "```APL\n",
        "3+(5-(6+2)\u00d74\n",
        "121\u00f7(\u23734)-3\n",
        "(\u00afX+5)*2\n",
        "\u23744 5 6+2 3-1\n",
        "\u23733-5\n",
        "\u23781 0 2 \u00af1\n",
        "```"
      ]
    },
    {
      "cell_type": "markdown",
      "metadata": {},
      "source": [
        "**Exercise**:\n",
        "\n",
        "Write an APL expression which produces a vector of 17 numbers, the first being 23, with each subsequent number being equal to the preceding one plus 11."
      ]
    },
    {
      "cell_type": "markdown",
      "metadata": {},
      "source": [
        "**Exercise**:\n",
        "\n",
        "In a shop, each product is identified by a code. You are given a list of the codes and the corresponding prices:"
      ]
    },
    {
      "cell_type": "code",
      "execution_count": 357,
      "metadata": {},
      "outputs": [],
      "source": [
        "PCodes \u2190 56 66 19 37 44 20 18 23 68 70 82\n",
        "Prices \u2190  9 27 10 15 12  5  8  9 98  7 22"
      ]
    },
    {
      "cell_type": "markdown",
      "metadata": {},
      "source": [
        "A customer gives you a list of items they intend to buy as vector of code/quantity pairs: code, quantity, code, quantity, and so on."
      ]
    },
    {
      "cell_type": "code",
      "execution_count": 358,
      "metadata": {},
      "outputs": [],
      "source": [
        "Wannabuy \u2190 37 1 70 20 19 2 82 5 23 10"
      ]
    },
    {
      "cell_type": "markdown",
      "metadata": {},
      "source": [
        "Can you evaluate their bill?\n",
        "\n",
        "Note that this cannot be done easily in a single (and readable) APL expression, and you will therefore need to write several expressions.\n",
        "\n",
        "The correct total should be 375."
      ]
    },
    {
      "cell_type": "markdown",
      "metadata": {},
      "source": [
        "**Exercise**:\n",
        "\n",
        "We have organised a lottery, and we have created five vectors:"
      ]
    },
    {
      "cell_type": "code",
      "execution_count": 359,
      "metadata": {},
      "outputs": [],
      "source": [
        "\u2395RL \u2190 42\n",
        "Tickets \u2190 ?1000\u2374999999\n",
        "Sold \u2190 Tickets[(800+?200)?1000]\n",
        "Ours \u2190 Sold[200?\u2262Sold]\n",
        "Winners \u2190 Tickets[100?1000]\n",
        "Prizes \u2190 ?100\u23741000"
      ]
    },
    {
      "cell_type": "markdown",
      "metadata": {},
      "source": [
        " - `Tickets` has the numbers of all the existing tickets;\n",
        " - `Sold` has the numbers of the tickets which have been sold;\n",
        " - `Ours` has the numbers of the tickets we bought ourselves;\n",
        " - `Winners` has the numbers of the winning tickets, and\n",
        " - `Prizes` has the prize amount associated with each respective number in `Winners` vector.\n",
        " \n",
        "And now, try to answer the following 4 questions:\n",
        "\n",
        " 1. What are the numbers of the unsold tickets?\n",
        " 2. Are there some winning tickets which have not been sold?\n",
        " 3. How many winning tickets do **we** have?\n",
        " 4. How much did we win?"
      ]
    },
    {
      "cell_type": "markdown",
      "metadata": {},
      "source": [
        "**Exercise**:\n",
        "\n",
        "Can you calculate all the divisors of an integer number `N`?\n",
        "\n",
        "Here are some results to check your answer:\n",
        "\n",
        "| `N` | Divisors |\n",
        "| :-: | :- |\n",
        "| 1 | 1 |\n",
        "| 2 | 1 2 |\n",
        "| 3 | 1 3 |\n",
        "| 24 | 1 2 3 4 6 8 12 24 |\n",
        "| 1337 | 1 7 191 1337 |\n",
        "| 1234321 | 1 11 101 121 1111 10201 12221 112211 1234321 |"
      ]
    },
    {
      "cell_type": "markdown",
      "metadata": {},
      "source": [
        "**Solutions**: the solutions can be found at the end of this chapter."
      ]
    }
  ],
  "metadata": {
    "kernelspec": {
      "display_name": "Dyalog APL",
      "language": "apl",
      "name": "dyalog-kernel"
    },
    "language_info": {
      "file_extension": ".apl",
      "mimetype": "text/apl",
      "name": "APL"
    }
  },
  "nbformat": 4,
  "nbformat_minor": 4
}