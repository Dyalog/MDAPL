{
  "cells": [
    {
      "cell_type": "markdown",
      "metadata": {},
      "source": [
        "**Notes & questions:**\n",
        "\n",
        " - we talked about splitting the huge .WS into smaller workspaces, one per chapter; we also talked about defining the data each time we are going to use it. We do this below [Definition and Examples](#Definition-and-Examples) with the `Forecast` and `Actual` matrices and included a short remark afterwards or [Application 1](#Application-1). Does it look acceptable?\n",
        " \n",
        "(Re: above) I figure it might work for simple uniform numerical or character arrays, but if further down the road we need weirder arrays, it'll become a mess. Also, if further down the road we use utility functions that were predefined in the .WS, what will we do with them? Define them with the user? Maybe we should stick with the .WS... Or maybe .WS/random definition for variables and separate files for each function?\n",
        " \n",
        " - `0\u00f70` and `0*0` are mentioned. would it make sense to discuss briefly why the results of these expressions are mathematically incorrect in the specialist's section about `0\u00f70`?\n",
        " \n",
        " - by the end of [Residue](#Residue) I introduced dyadic `\u2261`, which flows right to the (new) section on dyadic `\u2261` and `\u2262`; does it look good there? then I moved monadic `\u2262\u2261` to the \"processing nested arrays\" section, cf. [Tally](#Tally) and [Depth](#Depth). Accepting these changes would then mean refactoring the mention to `\u2261\u2262` in the later chapter on nested arrays.\n",
        " \n",
        " - the blockquote slightly below [Order Of Evaluation](#Order-of-Evaluation) was used to indicate what text actually belongs to the \"Rule\"; without the blockquote, a reader cannot know where the \"Rule\" ends; is this an appropriate way of indicating the limits of the rule inside the notebook? Should I surround the rule with horizontal rules `---` instead?\n",
        " \n",
        " - Originally, the book said that none of the six comparison functions had a monadic meaning. Now `\u2260` does. Should we fix the comment or just remove it altogether? (I removed it, it was in the end of the \"monadic scalar functions\" section)\n",
        " \n",
        " - `\u22a2` and `\u22a3` are so basic, I'll include them here and make a note that they'll become more useful when used in conjunction with operators and/or in tacit programming.\n",
        " \n",
        " - The section about reduction had a warning about using `/` with non commutative functions, which I think is very pertinent. It just looks awkward in its original place, because it comes at the end of the subsection on reducing binary data (where we only used commutative functions) and before a couple other subsections where we only use commutative functions. I moved the warning to a small sub-section right before the \"Application\" sub-section, [here](#Reduction-With-Non-Commutative-Functions).\n",
        " \n",
        "(Re: above) this makes sense if we take into account there already exists a really small subsection that warns the user about reduction of nested arrays, in which the shape and type of the sub-arrays must be compatible for the reduction. This new subsection on the non-commutative reductions is even larger than this one, so I guess it makes sense to have both as sub-sections OR both as warnings, although I prefer it like this.\n",
        " \n",
        " - Right above [Application 1](#Application-1) the author claims reduction with non-commutative functions is rare in business applications. I find it easy to believe, but is it true? Is it worth checking? Should I leave the claim as-is? Remove it?\n",
        " \n",
        " - [Improve this sentence](#I-don't-like-this-sentence:), as it feels like we are about to do something we do not do; we compute smth different from what the sentence says we are going to compute.\n",
        " \n",
        "---\n",
        "\n",
        "**References to fix:**\n",
        "\n",
        " - update reference to the Appendix on all the scalar dyadic functions (search the text for \"is given in Appendix\");\n",
        " - fix reference to appendix 4 right above [this](#Reduction-of-Binary-Data) (search for \"It is also possible to write your own operators\");\n",
        " - update reference to the chapter in the beginning of [this](#Scalar-vs.-Non-scalar-Functions) section;\n",
        " - update reference to the chapter after the `Bin` code cells in [this](#Reduction-of-Binary-Data) section (search for 'from the chapter on \"Data and Variables\"');\n",
        " - update reference to section on \"Reduction of Binary Data\" (search for \"With what we learned in the section\") in the [application 1](#Application-1);\n",
        " - update reference to \"operators\" chapter (search for \"We shall learn more about *Axis*\") in the sub sub section about Processing Arrays, inside the section on axis;\n",
        " - update reference to the \"Application 2\" subsection (search for \"The expression we wrote in the\") right in the beginning of [Our First Program](#Our-First-Program);\n",
        " - in the same place as above, fix reference to chapter on \"User Defined Functions\" (search for \"these will be covered in detail\");\n",
        " - fix reference to \"user Defined Functions\" chapter (search for \"we shall see many other possibilities in the\") right before the [Concatenation](#Concatenation) section;\n",
        " - ...\n",
        "\n",
        "---\n",
        "\n",
        "# Some Primitive Functions\n",
        "\n",
        "## Definitions\n",
        "\n",
        "In APL data is processed using what we call *functions*. It is important to distinguish between two types of functions:\n",
        "\n",
        " 1. ***Primitive Functions***:\n",
        "     - they are part of the APL language;\n",
        "     - they are represented by symbols like `\u2374`, `\u2349` and `\u2308`;\n",
        "     - their behaviour cannot be modified.\n",
        "\n",
        "\n",
        " 2. ***User-Defined Functions***:\n",
        "     - as their name implies, they are written by the user;\n",
        "     - they are represented by names, for example `Average` or `Budget`;\n",
        "     - their behaviour can be modified.\n",
        "   \n",
        "APL has a very rich set of primitive functions. In this chapter, we will explore just a few of them; many others will follow in subsequent chapters.\n",
        "\n",
        "In the introduction to this book, we mentioned that in traditional mathematics, some symbols can be used with a single argument or two arguments. For example:\n",
        "\n",
        "| | | |\n",
        "| :- | :- | :- |\n",
        "| In the expression | $a = x - y$ | the minus sign means subtract. |\n",
        "| Whereas in | $a = -y$ | the minus sign indicates the negation of $y$. |\n",
        "\n",
        "The first form is called the \"**_dyadic_**\" use of the symbol.\n",
        "The second form is called the \"**_monadic_**\" use of the symbol.\n",
        "\n",
        "It is the same in APL, where most of the symbols (functions) have a *monadic* and a *dyadic* meaning. For example, here `\u2374` obtains the shape of the `1 2 3 4` vector:"
      ]
    },
    {
      "cell_type": "code",
      "execution_count": 1,
      "metadata": {},
      "outputs": [
        {
          "data": {
            "text/html": [
              "<span style=\"white-space:pre; font-family: monospace\">4\n",
              "</span>"
            ]
          },
          "execution_count": 1,
          "metadata": {},
          "output_type": "execute_result"
        }
      ],
      "source": [
        "\u2374 1 2 3 4"
      ]
    },
    {
      "cell_type": "markdown",
      "metadata": {},
      "source": [
        "Whereas in here `\u2374` changes the shape of the `1 2 3 4` vector to `2 2`:"
      ]
    },
    {
      "cell_type": "code",
      "execution_count": 2,
      "metadata": {},
      "outputs": [
        {
          "data": {
            "text/html": [
              "<span style=\"white-space:pre; font-family: monospace\">1 2\n",
              "3 4\n",
              "</span>"
            ]
          },
          "execution_count": 2,
          "metadata": {},
          "output_type": "execute_result"
        }
      ],
      "source": [
        "2 2 \u2374 1 2 3 4"
      ]
    },
    {
      "cell_type": "markdown",
      "metadata": {},
      "source": [
        "There is, however, a major difference. In traditional mathematics, the symbol representing a monadic function is sometimes placed before its argument (as the $-$ in $a = -y$), sometimes after it (as the $!$ in $a = y!$), sometimes on both sides (as the $|\\cdot|$ in $a = |y|$), and some other conventions may be found.\n",
        "\n",
        "In APL, the symbol representing a monadic functions is **always** placed before its argument, as the `\u2374` in `\u2374Var`."
      ]
    },
    {
      "cell_type": "markdown",
      "metadata": {},
      "source": [
        "## Some Scalar Dyadic Functions\n",
        "\n",
        "### Definition and Examples\n",
        "\n",
        "***Scalar dyadic functions*** are primitive functions which have the following properties:\n",
        "\n",
        " - they are *dyadic* (require an argument on both sides);\n",
        " - they work item by item (scalar by scalar);\n",
        " - they can work on two arrays of the same shape, in which case the result also has the same shape;\n",
        " - they can work on one array of any shape, and a single value (a ***scalar*** or any one-item array), in which case the result has the same shape as the non-singleton array.\n",
        " \n",
        "The four basic arithmetic functions, ***Addition***, ***Subtraction***, ***Multiplication*** and ***Division*** are scalar dyadic functions. They apply themselves between each item of the left argument and the corresponding item of the right argument, like this:"
      ]
    },
    {
      "cell_type": "code",
      "execution_count": 3,
      "metadata": {},
      "outputs": [
        {
          "data": {
            "text/html": [
              "<span style=\"white-space:pre; font-family: monospace\">7 9 10 13\n",
              "</span>"
            ]
          },
          "execution_count": 3,
          "metadata": {},
          "output_type": "execute_result"
        }
      ],
      "source": [
        "5 3 2 9 + 2 6 8 4"
      ]
    },
    {
      "cell_type": "markdown",
      "metadata": {},
      "source": [
        "The function is applied between each item of two 4-item vectors. The result is also a 4-item vector.\n",
        "\n",
        "As an example of a function that is *not* a scalar function, let us look at the ***Reshape*** function. There is nothing in common between the shapes of its arguments:"
      ]
    },
    {
      "cell_type": "code",
      "execution_count": 4,
      "metadata": {},
      "outputs": [
        {
          "data": {
            "text/html": [
              "<span style=\"white-space:pre; font-family: monospace\">6 8 2\n",
              "1 9 3\n",
              "</span>"
            ]
          },
          "execution_count": 4,
          "metadata": {},
          "output_type": "execute_result"
        }
      ],
      "source": [
        "2 3 \u2374 6 8 2 1 9 3"
      ]
    },
    {
      "cell_type": "markdown",
      "metadata": {},
      "source": [
        "In fact, the left argument has 2 items, the right one has 6 and the result in this case is a matrix.\n",
        "\n",
        "Let us explore the behaviour of the basic arithmetic functions on vectors:"
      ]
    },
    {
      "cell_type": "code",
      "execution_count": 5,
      "metadata": {},
      "outputs": [
        {
          "data": {
            "text/html": [
              "<span style=\"white-space:pre; font-family: monospace\">3 \u00af3 \u00af6 5\n",
              "</span>"
            ]
          },
          "execution_count": 5,
          "metadata": {},
          "output_type": "execute_result"
        }
      ],
      "source": [
        "5 3 2 9 - 2 6 8 4"
      ]
    },
    {
      "cell_type": "code",
      "execution_count": 6,
      "metadata": {},
      "outputs": [
        {
          "data": {
            "text/html": [
              "<span style=\"white-space:pre; font-family: monospace\">2.5 0.5 0.5 1.28571\n",
              "</span>"
            ]
          },
          "execution_count": 6,
          "metadata": {},
          "output_type": "execute_result"
        }
      ],
      "source": [
        "5 3 2 9 \u00f7 2 6 4 7"
      ]
    },
    {
      "cell_type": "code",
      "execution_count": 7,
      "metadata": {},
      "outputs": [
        {
          "data": {
            "text/html": [
              "<span style=\"white-space:pre; font-family: monospace\">10.4 11.5 10.8 24 16.9\n",
              "</span>"
            ]
          },
          "execution_count": 7,
          "metadata": {},
          "output_type": "execute_result"
        }
      ],
      "source": [
        "Price \u2190 5.2 11.5 3.6 4 8.45\n",
        "Qty \u2190 2 1 3 6 2\n",
        "Costs \u2190 Price \u00d7 Qty\n",
        "Costs"
      ]
    },
    {
      "cell_type": "markdown",
      "metadata": {},
      "source": [
        "Scalar dyadic functions apply to arrays of any rank and shape.\n",
        "\n",
        "As we saw in the introduction, a Sales Director makes forecasts for sales of 4 products over the coming 6 months, and assigns them to the variable `Forecast`. At the end of the 6 months, they record the actual values in the variable `Actual`. Here they are:"
      ]
    },
    {
      "cell_type": "code",
      "execution_count": 8,
      "metadata": {},
      "outputs": [
        {
          "data": {
            "text/html": [
              "<span style=\"white-space:pre; font-family: monospace\"> 90 160 420 500  20  30\n",
              "110 450 170 370 290 360\n",
              "340 190 320 120 510 370\n",
              "150 460 240 520 490 280\n",
              "</span>"
            ]
          },
          "execution_count": 8,
          "metadata": {},
          "output_type": "execute_result"
        }
      ],
      "source": [
        "\u2395RL \u2190 73\n",
        "Forecast \u2190 10\u00d7?4 6\u237455\n",
        "Forecast"
      ]
    },
    {
      "cell_type": "code",
      "execution_count": 9,
      "metadata": {},
      "outputs": [
        {
          "data": {
            "text/html": [
              "<span style=\"white-space:pre; font-family: monospace\"> 89 166 420 508  12  23\n",
              "111 453 177 365 284 352\n",
              "349 192 329 115 515 374\n",
              "160 467 234 519 485 283\n",
              "</span>"
            ]
          },
          "execution_count": 9,
          "metadata": {},
          "output_type": "execute_result"
        }
      ],
      "source": [
        "\u2395RL \u2190 73\n",
        "Actual \u2190 Forecast + \u00af10+?4 6\u237420\n",
        "Actual"
      ]
    },
    {
      "cell_type": "markdown",
      "metadata": {},
      "source": [
        "```{admonition} Remark \n",
        ":class: tip",
        "\n",
        "We initialise the `Forecast` and `Actual` variables with some random values by the use of the ***Roll*** function `?`. Notice this assignment is easier to type than some predefined set of values and we can use `\u2395RL` to always get the same result. You can learn more about `?` and `\u2395RL` later on in the book.\n",
        "```\n",
        "\n",
        "The first thing any self-respecting Sales Director will want to know is the difference between the expected and the actual results. This can be done easily by typing:"
      ]
    },
    {
      "cell_type": "code",
      "execution_count": 10,
      "metadata": {},
      "outputs": [
        {
          "data": {
            "text/html": [
              "<span style=\"white-space:pre; font-family: monospace\">\u00af1 6  0  8 \u00af8 \u00af7\n",
              " 1 3  7 \u00af5 \u00af6 \u00af8\n",
              " 9 2  9 \u00af5  5  4\n",
              "10 7 \u00af6 \u00af1 \u00af5  3\n",
              "</span>"
            ]
          },
          "execution_count": 10,
          "metadata": {},
          "output_type": "execute_result"
        }
      ],
      "source": [
        "Actual - Forecast"
      ]
    },
    {
      "cell_type": "markdown",
      "metadata": {},
      "source": [
        "Notice how subtracting two matrices gives a matrix of the same shape (recall that negative values are indicated by a high minus sign).\n",
        "\n",
        "But remember, a scalar dyadic function may also be applied between a single value and an array of any shape.\n",
        "\n",
        "For example, if we want to multiply `Forecast` by 2, we can type:"
      ]
    },
    {
      "cell_type": "code",
      "execution_count": 11,
      "metadata": {},
      "outputs": [
        {
          "data": {
            "text/html": [
              "<span style=\"white-space:pre; font-family: monospace\">180 320 840 1000   40  60\n",
              "220 900 340  740  580 720\n",
              "680 380 640  240 1020 740\n",
              "300 920 480 1040  980 560\n",
              "</span>"
            ]
          },
          "execution_count": 11,
          "metadata": {},
          "output_type": "execute_result"
        }
      ],
      "source": [
        "Forecast \u00d7 2        \u235d same as 2 \u00d7 Forecast"
      ]
    },
    {
      "cell_type": "markdown",
      "metadata": {},
      "source": [
        "A complete list of ***Scalar Dyadic Functions*** is given in Appendix 1."
      ]
    },
    {
      "cell_type": "markdown",
      "metadata": {},
      "source": [
        "### Division By Zero\n",
        "\n",
        "An expression such as `17\u00f70` leads to an error message:"
      ]
    },
    {
      "cell_type": "code",
      "execution_count": 12,
      "metadata": {},
      "outputs": [
        {
          "name": "stderr",
          "output_type": "stream",
          "text": [
            "DOMAIN ERROR: Divide by zero\n",
            "      17\u00f70\n",
            "        \u2227\n"
          ]
        }
      ],
      "source": [
        "17\u00f70"
      ]
    },
    {
      "cell_type": "markdown",
      "metadata": {},
      "source": [
        "This happens because zero does not belong to the domain of valid denominators.\n",
        "\n",
        "However, notice what `0\u00f70` returns:"
      ]
    },
    {
      "cell_type": "code",
      "execution_count": 13,
      "metadata": {},
      "outputs": [
        {
          "data": {
            "text/html": [
              "<span style=\"white-space:pre; font-family: monospace\">1\n",
              "</span>"
            ]
          },
          "execution_count": 13,
          "metadata": {},
          "output_type": "execute_result"
        }
      ],
      "source": [
        "0\u00f70"
      ]
    },
    {
      "cell_type": "markdown",
      "metadata": {},
      "source": [
        "Despite being mathematically incorrect, the default behaviour gives the result 1, as given by the extension of the rule that \"any number divided by itself should give 1\". Nevertheless, because this is sometimes inappropriate, it is possible to change the default behaviour (see the *Specialist's Section*)."
      ]
    },
    {
      "cell_type": "markdown",
      "metadata": {},
      "source": [
        "### Power\n",
        "\n",
        "In APL, the mathematical notation $A^n$ is written `A*n`.\n",
        "\n",
        "The function *Power* (`*`) accepts any value(s) for `n`: integer or decimal, positive, negative, or zero, according to traditional usage.\n",
        "\n",
        "To calculate the values of: $4^2$, $4^{1.4}$, $4^0$, $\\sqrt 4$, $4^{-2.1}$, $4^5$ we just need to type"
      ]
    },
    {
      "cell_type": "code",
      "execution_count": 14,
      "metadata": {},
      "outputs": [
        {
          "data": {
            "text/html": [
              "<span style=\"white-space:pre; font-family: monospace\">16 6.9644 1 2 0.25 0.0544094 1024\n",
              "</span>"
            ]
          },
          "execution_count": 14,
          "metadata": {},
          "output_type": "execute_result"
        }
      ],
      "source": [
        "4 * 2 1.4 0 0.5 \u00af1 \u00af2.1 5"
      ]
    },
    {
      "cell_type": "markdown",
      "metadata": {},
      "source": [
        "`0*0` gives `1`, which is also not mathematically correct but a fairly useful convention to take.\n",
        "\n",
        "There is no special symbol in APL to represent a square root; it is obtained by raising a value to the power $\\frac12$. If we take the square root of a negative number, then we get a complex number as a result:"
      ]
    },
    {
      "cell_type": "code",
      "execution_count": 15,
      "metadata": {},
      "outputs": [
        {
          "data": {
            "text/html": [
              "<span style=\"white-space:pre; font-family: monospace\">0J1\n",
              "</span>"
            ]
          },
          "execution_count": 15,
          "metadata": {},
          "output_type": "execute_result"
        }
      ],
      "source": [
        "\u00af1 * 0.5 "
      ]
    },
    {
      "cell_type": "markdown",
      "metadata": {},
      "source": [
        "### Maximum & Minimum\n",
        "\n",
        "***Maximum*** (`\u2308`) and ***Minimum*** (`\u230a`) return respectively the larger of two values and the smaller of two values, whatever their signs. Because they are scalar dyadic functions, they can be applied item by item between any two compatible arrays."
      ]
    },
    {
      "cell_type": "code",
      "execution_count": 16,
      "metadata": {},
      "outputs": [
        {
          "data": {
            "text/html": [
              "<span style=\"white-space:pre; font-family: monospace\">83\n",
              "</span>"
            ]
          },
          "execution_count": 16,
          "metadata": {},
          "output_type": "execute_result"
        }
      ],
      "source": [
        "75 \u2308 83"
      ]
    },
    {
      "cell_type": "code",
      "execution_count": 17,
      "metadata": {},
      "outputs": [
        {
          "data": {
            "text/html": [
              "<span style=\"white-space:pre; font-family: monospace\">19 22 19 60\n",
              "</span>"
            ]
          },
          "execution_count": 17,
          "metadata": {},
          "output_type": "execute_result"
        }
      ],
      "source": [
        "19 \u2308 11 22 \u00af20 60"
      ]
    },
    {
      "cell_type": "code",
      "execution_count": 18,
      "metadata": {},
      "outputs": [
        {
          "data": {
            "text/html": [
              "<span style=\"white-space:pre; font-family: monospace\">\u00af60 14 \u00af40 11.23\n",
              "</span>"
            ]
          },
          "execution_count": 18,
          "metadata": {},
          "output_type": "execute_result"
        }
      ],
      "source": [
        "52 14 \u00af37 18.44 \u230a \u00af60 15 \u00af40 11.23"
      ]
    },
    {
      "cell_type": "markdown",
      "metadata": {},
      "source": [
        "*Minimum* can be used to apply a limit to the values in an array. For example, to set a ceiling of 450 in the matrix `Forecast`, it is sufficient to type:"
      ]
    },
    {
      "cell_type": "code",
      "execution_count": 19,
      "metadata": {},
      "outputs": [
        {
          "data": {
            "text/html": [
              "<span style=\"white-space:pre; font-family: monospace\"> 90 160 420 450  20  30\n",
              "110 450 170 370 290 360\n",
              "340 190 320 120 450 370\n",
              "150 450 240 450 450 280\n",
              "</span>"
            ]
          },
          "execution_count": 19,
          "metadata": {},
          "output_type": "execute_result"
        }
      ],
      "source": [
        "Forecast \u230a 450"
      ]
    },
    {
      "cell_type": "markdown",
      "metadata": {},
      "source": [
        "Notice how the larger values have been capped to 450."
      ]
    },
    {
      "cell_type": "markdown",
      "metadata": {},
      "source": [
        "### Relationship\n",
        "\n",
        "As in traditional mathematics, APL provides the 6 relationship functions:\n",
        "\n",
        "| APL | Meaning |\n",
        "| :-: | :- |\n",
        "| `A < B` | $A$ less than $B$ |\n",
        "| `A \u2264 B` | $A$ less than or equal to $B$ |\n",
        "| `A = B` | $A$ equal to $B$ |\n",
        "| `A \u2265 B` | $A$ greater than or equal to $B$ |\n",
        "| `A > B` | $A$ greater than $B$ |\n",
        "| `A \u2260 B` | $A$ not equal to $B$ |\n",
        "\n",
        "These symbols are obtained by pressing the <kbd>APL</kbd> key, simultaneously with the keys <kbd>3</kbd> to <kbd>8</kbd>, respectively.\n",
        "\n",
        "All these 6 functions return `1` if the relation is true, or `0` if it is false."
      ]
    },
    {
      "cell_type": "code",
      "execution_count": 20,
      "metadata": {},
      "outputs": [
        {
          "data": {
            "text/html": [
              "<span style=\"white-space:pre; font-family: monospace\">0\n",
              "</span>"
            ]
          },
          "execution_count": 20,
          "metadata": {},
          "output_type": "execute_result"
        }
      ],
      "source": [
        "11 < 7"
      ]
    },
    {
      "cell_type": "code",
      "execution_count": 21,
      "metadata": {},
      "outputs": [
        {
          "data": {
            "text/html": [
              "<span style=\"white-space:pre; font-family: monospace\">1 0 1\n",
              "</span>"
            ]
          },
          "execution_count": 21,
          "metadata": {},
          "output_type": "execute_result"
        }
      ],
      "source": [
        "24 \u2264 24 11 33"
      ]
    },
    {
      "cell_type": "code",
      "execution_count": 22,
      "metadata": {},
      "outputs": [
        {
          "data": {
            "text/html": [
              "<span style=\"white-space:pre; font-family: monospace\">0\n",
              "</span>"
            ]
          },
          "execution_count": 22,
          "metadata": {},
          "output_type": "execute_result"
        }
      ],
      "source": [
        "5 = 9"
      ]
    },
    {
      "cell_type": "code",
      "execution_count": 23,
      "metadata": {},
      "outputs": [
        {
          "data": {
            "text/html": [
              "<span style=\"white-space:pre; font-family: monospace\">0 1 1\n",
              "</span>"
            ]
          },
          "execution_count": 23,
          "metadata": {},
          "output_type": "execute_result"
        }
      ],
      "source": [
        "3 8 7 \u2265 5 8 0"
      ]
    },
    {
      "cell_type": "code",
      "execution_count": 24,
      "metadata": {},
      "outputs": [
        {
          "data": {
            "text/html": [
              "<span style=\"white-space:pre; font-family: monospace\">0 1 0\n",
              "1 0 1\n",
              "</span>"
            ]
          },
          "execution_count": 24,
          "metadata": {},
          "output_type": "execute_result"
        }
      ],
      "source": [
        "6 > 2 3\u23747 2 9 3 6 4"
      ]
    },
    {
      "cell_type": "markdown",
      "metadata": {},
      "source": [
        "The results are called binary, or Boolean, values (Boolean refers to the name of the mathematician George Boole). They can be processed in many different ways and are extremely useful, as we shall soon see.\n",
        "\n",
        "Note that none of the four symbols `<` `\u2264` `\u2265` `>` can be applied to character arrays. Only `=` and `\u2260` can be used with character arrays, as illustrated below:"
      ]
    },
    {
      "cell_type": "code",
      "execution_count": 25,
      "metadata": {},
      "outputs": [
        {
          "data": {
            "text/html": [
              "<span style=\"white-space:pre; font-family: monospace\">1\n",
              "</span>"
            ]
          },
          "execution_count": 25,
          "metadata": {},
          "output_type": "execute_result"
        }
      ],
      "source": [
        "'m' = 'm'"
      ]
    },
    {
      "cell_type": "code",
      "execution_count": 26,
      "metadata": {},
      "outputs": [
        {
          "data": {
            "text/html": [
              "<span style=\"white-space:pre; font-family: monospace\">0\n",
              "</span>"
            ]
          },
          "execution_count": 26,
          "metadata": {},
          "output_type": "execute_result"
        }
      ],
      "source": [
        "'m' = 'M'"
      ]
    },
    {
      "cell_type": "code",
      "execution_count": 27,
      "metadata": {},
      "outputs": [
        {
          "data": {
            "text/html": [
              "<span style=\"white-space:pre; font-family: monospace\">1\n",
              "</span>"
            ]
          },
          "execution_count": 27,
          "metadata": {},
          "output_type": "execute_result"
        }
      ],
      "source": [
        "'k' \u2260 'a'"
      ]
    },
    {
      "cell_type": "code",
      "execution_count": 28,
      "metadata": {},
      "outputs": [
        {
          "data": {
            "text/html": [
              "<span style=\"white-space:pre; font-family: monospace\">1 1 0 0 1\n",
              "</span>"
            ]
          },
          "execution_count": 28,
          "metadata": {},
          "output_type": "execute_result"
        }
      ],
      "source": [
        "'sorry' \u2260 'r'"
      ]
    },
    {
      "cell_type": "markdown",
      "metadata": {},
      "source": [
        "Because these functions are scalar dyadic functions, they are applied between individual scalars (the letters), not words:"
      ]
    },
    {
      "cell_type": "code",
      "execution_count": 29,
      "metadata": {},
      "outputs": [
        {
          "data": {
            "text/html": [
              "<span style=\"white-space:pre; font-family: monospace\">0 1 0 1\n",
              "</span>"
            ]
          },
          "execution_count": 29,
          "metadata": {},
          "output_type": "execute_result"
        }
      ],
      "source": [
        "'gold' \u2260 'gulf'"
      ]
    },
    {
      "cell_type": "markdown",
      "metadata": {},
      "source": [
        "For the same reason, the two words (considered as vectors) must be of equal size, otherwise we get an error:"
      ]
    },
    {
      "cell_type": "code",
      "execution_count": 30,
      "metadata": {
        "scrolled": true
      },
      "outputs": [
        {
          "name": "stderr",
          "output_type": "stream",
          "text": [
            "LENGTH ERROR: Mismatched left and right argument shapes\n",
            "      'male'\u2260'female'\n",
            "            \u2227\n"
          ]
        }
      ],
      "source": [
        "'male' \u2260 'female'"
      ]
    },
    {
      "cell_type": "markdown",
      "metadata": {},
      "source": [
        "### Residue\n",
        "\n",
        "The *Residue* function, represented by `|`, returns the remainder of a division.\n",
        "\n",
        "In the expression `R \u2190 X|Y`, `R` is the remainder of `Y` divided by `X` (**be careful**; the arguments of *Residue* are given in the reverse order of that used by *Division* `Y\u00f7X`)."
      ]
    },
    {
      "cell_type": "code",
      "execution_count": 31,
      "metadata": {},
      "outputs": [
        {
          "data": {
            "text/html": [
              "<span style=\"white-space:pre; font-family: monospace\">5\n",
              "</span>"
            ]
          },
          "execution_count": 31,
          "metadata": {},
          "output_type": "execute_result"
        }
      ],
      "source": [
        "7 | 54"
      ]
    },
    {
      "cell_type": "code",
      "execution_count": 32,
      "metadata": {},
      "outputs": [
        {
          "data": {
            "text/html": [
              "<span style=\"white-space:pre; font-family: monospace\">0 1 1 0\n",
              "</span>"
            ]
          },
          "execution_count": 32,
          "metadata": {},
          "output_type": "execute_result"
        }
      ],
      "source": [
        "2 | 216 47 29 28        \u235d Find even and odd numbers"
      ]
    },
    {
      "cell_type": "code",
      "execution_count": 33,
      "metadata": {},
      "outputs": [
        {
          "data": {
            "text/html": [
              "<span style=\"white-space:pre; font-family: monospace\">5 0 9 \u00af1.9 2 \u00af2 4 \u00af2\n",
              "</span>"
            ]
          },
          "execution_count": 33,
          "metadata": {},
          "output_type": "execute_result"
        }
      ],
      "source": [
        "X \u2190 7 4 11 \u00af4.3 3 \u00af5 6 \u00af3\n",
        "Y \u2190 54 84 119 19.6 29 43 \u00af14 \u00af14\n",
        "X | Y"
      ]
    },
    {
      "cell_type": "markdown",
      "metadata": {},
      "source": [
        "The function can be used with negative and decimal values, as seen above.\n",
        "\n",
        "The result `R` is always equal to `Y - (N\u00d7X)`, where `N` is the largest possible integer such that `R` is always between `0` and `X`, but never equal to `X`. Some calculations show that `N` is equal to `\u230a(Y\u00f7X)`, which means `X|Y` and `Y - (X \u00d7 (\u230a(Y\u00f7X)))` give the exact same result:"
      ]
    },
    {
      "cell_type": "code",
      "execution_count": 34,
      "metadata": {},
      "outputs": [
        {
          "data": {
            "text/html": [
              "<span style=\"white-space:pre; font-family: monospace\">5 0 9 \u00af1.9 2 \u00af2 4 \u00af2\n",
              "</span>"
            ]
          },
          "execution_count": 34,
          "metadata": {},
          "output_type": "execute_result"
        }
      ],
      "source": [
        "(X|Y)"
      ]
    },
    {
      "cell_type": "code",
      "execution_count": 35,
      "metadata": {},
      "outputs": [
        {
          "data": {
            "text/html": [
              "<span style=\"white-space:pre; font-family: monospace\">5 0 9 \u00af1.9 2 \u00af2 4 \u00af2\n",
              "</span>"
            ]
          },
          "execution_count": 35,
          "metadata": {},
          "output_type": "execute_result"
        }
      ],
      "source": [
        "(Y - (X \u00d7 (\u230a(Y\u00f7X))))"
      ]
    },
    {
      "cell_type": "markdown",
      "metadata": {},
      "source": [
        "Using a new dyadic primitive `\u2261` (obtained with <kbd>APL</kbd>+<kbd>Shift</kbd>+<kbd>;</kbd>) we can ask APL to check if the two arrays are the same, instead of having to compare each array item by item:"
      ]
    },
    {
      "cell_type": "code",
      "execution_count": 36,
      "metadata": {},
      "outputs": [
        {
          "data": {
            "text/html": [
              "<span style=\"white-space:pre; font-family: monospace\">1\n",
              "</span>"
            ]
          },
          "execution_count": 36,
          "metadata": {},
          "output_type": "execute_result"
        }
      ],
      "source": [
        "(X|Y) \u2261 (Y - (X \u00d7 (\u230a(Y\u00f7X))))"
      ]
    },
    {
      "cell_type": "markdown",
      "metadata": {},
      "source": [
        "Keep reading the next section to see how `\u2261` works."
      ]
    },
    {
      "cell_type": "markdown",
      "metadata": {},
      "source": [
        "### Array Comparison\n",
        "\n",
        "We have seen above that the dyadic functions `=` and `\u2260` are scalar, which meant we cannot use them when we wish to check if two arrays are the same or when we wish to check if two arrays are different:"
      ]
    },
    {
      "cell_type": "code",
      "execution_count": 37,
      "metadata": {},
      "outputs": [
        {
          "data": {
            "text/html": [
              "<span style=\"white-space:pre; font-family: monospace\">1 1 1 1\n",
              "</span>"
            ]
          },
          "execution_count": 37,
          "metadata": {},
          "output_type": "execute_result"
        }
      ],
      "source": [
        "1 2 3 4 = 1 2 3 4"
      ]
    },
    {
      "cell_type": "markdown",
      "metadata": {},
      "source": [
        "The result above says the arrays have matching items, but doesn't provide the summary information that *the arrays are the same*.\n",
        "\n",
        "For a similar reason, we can't even compare vectors of different lengths because dyadic scalar functions expect the shapes of their arguments to match:"
      ]
    },
    {
      "cell_type": "code",
      "execution_count": 38,
      "metadata": {},
      "outputs": [
        {
          "name": "stderr",
          "output_type": "stream",
          "text": [
            "LENGTH ERROR: Mismatched left and right argument shapes\n",
            "      'male'='female'\n",
            "            \u2227\n"
          ]
        }
      ],
      "source": [
        "'male' = 'female'"
      ]
    },
    {
      "cell_type": "markdown",
      "metadata": {},
      "source": [
        "Instead, we must use the ***Match*** (`\u2261`) function to check if two arrays are exactly the same:"
      ]
    },
    {
      "cell_type": "code",
      "execution_count": 39,
      "metadata": {},
      "outputs": [
        {
          "data": {
            "text/html": [
              "<span style=\"white-space:pre; font-family: monospace\">1\n",
              "</span>"
            ]
          },
          "execution_count": 39,
          "metadata": {},
          "output_type": "execute_result"
        }
      ],
      "source": [
        "1 2 3 4 \u2261 1 2 3 4"
      ]
    },
    {
      "cell_type": "code",
      "execution_count": 40,
      "metadata": {},
      "outputs": [
        {
          "data": {
            "text/html": [
              "<span style=\"white-space:pre; font-family: monospace\">0\n",
              "</span>"
            ]
          },
          "execution_count": 40,
          "metadata": {},
          "output_type": "execute_result"
        }
      ],
      "source": [
        "'male' \u2261 'female'"
      ]
    },
    {
      "cell_type": "markdown",
      "metadata": {},
      "source": [
        "The ***Not Match*** (`\u2262`) primitive (obtained with <kbd>APL</kbd>+<kbd>Shift</kbd>+<kbd>'</kbd>) is the counterpart to `\u2261` and checks if two arrays are different:"
      ]
    },
    {
      "cell_type": "code",
      "execution_count": 41,
      "metadata": {},
      "outputs": [
        {
          "data": {
            "text/html": [
              "<span style=\"white-space:pre; font-family: monospace\">0\n",
              "</span>"
            ]
          },
          "execution_count": 41,
          "metadata": {},
          "output_type": "execute_result"
        }
      ],
      "source": [
        "1 2 3 4 \u2262 1 2 3 4"
      ]
    },
    {
      "cell_type": "code",
      "execution_count": 42,
      "metadata": {
        "scrolled": true
      },
      "outputs": [
        {
          "data": {
            "text/html": [
              "<span style=\"white-space:pre; font-family: monospace\">1\n",
              "</span>"
            ]
          },
          "execution_count": 42,
          "metadata": {},
          "output_type": "execute_result"
        }
      ],
      "source": [
        "'male' \u2262 'female'"
      ]
    },
    {
      "cell_type": "markdown",
      "metadata": {},
      "source": [
        "## Order of Evaluation\n",
        "\n",
        "Like other programming languages, APL allows the programmer to use parentheses to specify the order of evaluation of a complex expression. Thus the expression `5\u00d7(6+7)` means \"add 6 to 7, then multiply by 5\". In the absence of parentheses, most other programming languages employ rules of precedence to decide how a complex expression such as `5\u00d76+7` would be evaluated. Typically, the result will be 37 because multiplication is given precedence over addition and is performed first.\n",
        "\n",
        "When APL was designed, it was decided that the sheer number of primitive functions meant that a set of precedence rules would be impossibly complex to remember and apply. Instead, APL follows the traditional algebraic conventions.\n",
        "\n",
        "The solution adopted in APL is simple, and consistent with the rules we apply to calculate complex expressions in traditional algebra. Suppose, for example, that we need to calculate\n",
        "\n",
        "$$\\log \\sin \\sqrt {x \u00f7 3}$$\n",
        "\n",
        "To do this, we would first divide $x$ by 3, then take the square root of the result, next calculate its sine, and finally calculate the logarithm: each function applies to the result of the entire expression to its right. This is how it is done in mathematics, and so it is in APL. The only different is that in APL there are *no* exceptions!\n",
        "\n",
        "To evaluate"
      ]
    },
    {
      "cell_type": "code",
      "execution_count": 43,
      "metadata": {},
      "outputs": [
        {
          "data": {
            "text/html": [
              "<span style=\"white-space:pre; font-family: monospace\">65\n",
              "</span>"
            ]
          },
          "execution_count": 43,
          "metadata": {},
          "output_type": "execute_result"
        }
      ],
      "source": [
        "5 \u00d7 6 + 7"
      ]
    },
    {
      "cell_type": "markdown",
      "metadata": {},
      "source": [
        "we first calculate"
      ]
    },
    {
      "cell_type": "code",
      "execution_count": 44,
      "metadata": {},
      "outputs": [
        {
          "data": {
            "text/html": [
              "<span style=\"white-space:pre; font-family: monospace\">13\n",
              "</span>"
            ]
          },
          "execution_count": 44,
          "metadata": {},
          "output_type": "execute_result"
        }
      ],
      "source": [
        "6 + 7"
      ]
    },
    {
      "cell_type": "markdown",
      "metadata": {},
      "source": [
        "and then multiply by 5, giving 65:"
      ]
    },
    {
      "cell_type": "code",
      "execution_count": 45,
      "metadata": {},
      "outputs": [
        {
          "data": {
            "text/html": [
              "<span style=\"white-space:pre; font-family: monospace\">65\n",
              "</span>"
            ]
          },
          "execution_count": 45,
          "metadata": {},
          "output_type": "execute_result"
        }
      ],
      "source": [
        "5 \u00d7 13"
      ]
    },
    {
      "cell_type": "markdown",
      "metadata": {},
      "source": [
        "By the use of parentheses we can instruct APL to do the multiplication first,"
      ]
    },
    {
      "cell_type": "code",
      "execution_count": 46,
      "metadata": {},
      "outputs": [
        {
          "data": {
            "text/html": [
              "<span style=\"white-space:pre; font-family: monospace\">37\n",
              "</span>"
            ]
          },
          "execution_count": 46,
          "metadata": {},
          "output_type": "execute_result"
        }
      ],
      "source": [
        "(5 \u00d7 6) + 7"
      ]
    },
    {
      "cell_type": "markdown",
      "metadata": {},
      "source": [
        "which an experienced APL programmer would probably write as"
      ]
    },
    {
      "cell_type": "code",
      "execution_count": 47,
      "metadata": {},
      "outputs": [
        {
          "data": {
            "text/html": [
              "<span style=\"white-space:pre; font-family: monospace\">37\n",
              "</span>"
            ]
          },
          "execution_count": 47,
          "metadata": {},
          "output_type": "execute_result"
        }
      ],
      "source": [
        "7 + 5 \u00d7 6"
      ]
    },
    {
      "cell_type": "markdown",
      "metadata": {},
      "source": [
        "```{admonition} Rule \n",
        ":class: tip",
        "\n",
        "In an APL expression, each function takes as its right argument the result of the entire expression to its right. No functions have higher precedence than any others.",
        "",
        "If the function is dyadic (takes both a left and a right argument), it takes as its left argument the array immediately to its left, delimited by the next function.",
        "",
        "This is sometimes called \"***Right to left evaluation***\" (although this is not strictly correct).",
        "",
        "If necessary, one can use ***Parentheses*** to force a different order of evaluation.",
        "```\n",
        "\n",
        "You must not be confused: each function is itself evaluated in its natural order, so `8\u00f74` gives 2, not 0.5! The expression \"*right to left*\" only means that the first operation executed is the rightmost one.\n",
        "\n",
        "If the order of evaluation seems strange to you at first sight, just refer to a plain English sentence: \"*take the top half of the bottom quarter*\" does not mean \"*take the top half first, and then take the bottom quarter*\"; it means \"***first** split into quarters and take the bottom one, **then** split that quarter into two halves and take the top half of it*\": this is exactly the way that APL works! Even in everyday English language, which we write from left to right, we implicitly use the \"right to left evaluation\" rule.\n",
        "\n",
        "Let us apply this rule to some examples:"
      ]
    },
    {
      "cell_type": "code",
      "execution_count": 48,
      "metadata": {
        "scrolled": true
      },
      "outputs": [
        {
          "data": {
            "text/html": [
              "<span style=\"white-space:pre; font-family: monospace\">18\n",
              "</span>"
            ]
          },
          "execution_count": 48,
          "metadata": {},
          "output_type": "execute_result"
        }
      ],
      "source": [
        "3\u00d75+1"
      ]
    },
    {
      "cell_type": "markdown",
      "metadata": {},
      "source": [
        "First we sum,"
      ]
    },
    {
      "cell_type": "code",
      "execution_count": 49,
      "metadata": {},
      "outputs": [
        {
          "data": {
            "text/html": [
              "<span style=\"white-space:pre; font-family: monospace\">6\n",
              "</span>"
            ]
          },
          "execution_count": 49,
          "metadata": {},
          "output_type": "execute_result"
        }
      ],
      "source": [
        "5+1"
      ]
    },
    {
      "cell_type": "markdown",
      "metadata": {},
      "source": [
        "then we multiply:"
      ]
    },
    {
      "cell_type": "code",
      "execution_count": 50,
      "metadata": {},
      "outputs": [
        {
          "data": {
            "text/html": [
              "<span style=\"white-space:pre; font-family: monospace\">18\n",
              "</span>"
            ]
          },
          "execution_count": 50,
          "metadata": {},
          "output_type": "execute_result"
        }
      ],
      "source": [
        "3\u00d76"
      ]
    },
    {
      "cell_type": "markdown",
      "metadata": {},
      "source": [
        "Now an example with 3 operations:"
      ]
    },
    {
      "cell_type": "code",
      "execution_count": 51,
      "metadata": {},
      "outputs": [
        {
          "data": {
            "text/html": [
              "<span style=\"white-space:pre; font-family: monospace\">3 5\n",
              "</span>"
            ]
          },
          "execution_count": 51,
          "metadata": {},
          "output_type": "execute_result"
        }
      ],
      "source": [
        "3 6\u230a4+2 9>7"
      ]
    },
    {
      "cell_type": "markdown",
      "metadata": {},
      "source": [
        "First we perform the \"greater than\" comparison,"
      ]
    },
    {
      "cell_type": "code",
      "execution_count": 52,
      "metadata": {},
      "outputs": [
        {
          "data": {
            "text/html": [
              "<span style=\"white-space:pre; font-family: monospace\">0 1\n",
              "</span>"
            ]
          },
          "execution_count": 52,
          "metadata": {},
          "output_type": "execute_result"
        }
      ],
      "source": [
        "2 9>7"
      ]
    },
    {
      "cell_type": "markdown",
      "metadata": {},
      "source": [
        "then we add 4"
      ]
    },
    {
      "cell_type": "code",
      "execution_count": 53,
      "metadata": {},
      "outputs": [
        {
          "data": {
            "text/html": [
              "<span style=\"white-space:pre; font-family: monospace\">4 5\n",
              "</span>"
            ]
          },
          "execution_count": 53,
          "metadata": {},
          "output_type": "execute_result"
        }
      ],
      "source": [
        "4+0 1"
      ]
    },
    {
      "cell_type": "markdown",
      "metadata": {},
      "source": [
        "and finally we take the minimum:"
      ]
    },
    {
      "cell_type": "code",
      "execution_count": 54,
      "metadata": {},
      "outputs": [
        {
          "data": {
            "text/html": [
              "<span style=\"white-space:pre; font-family: monospace\">3 5\n",
              "</span>"
            ]
          },
          "execution_count": 54,
          "metadata": {},
          "output_type": "execute_result"
        }
      ],
      "source": [
        "3 6\u230a4 5"
      ]
    },
    {
      "cell_type": "markdown",
      "metadata": {},
      "source": [
        "An even more complex example, from the end of the subsection on the *Residue* (`|`) primitive function:"
      ]
    },
    {
      "cell_type": "code",
      "execution_count": 55,
      "metadata": {},
      "outputs": [
        {
          "data": {
            "text/html": [
              "<span style=\"white-space:pre; font-family: monospace\">1\n",
              "</span>"
            ]
          },
          "execution_count": 55,
          "metadata": {},
          "output_type": "execute_result"
        }
      ],
      "source": [
        "(X|Y)\u2261Y-X\u00d7\u230aY\u00f7X"
      ]
    },
    {
      "cell_type": "markdown",
      "metadata": {},
      "source": [
        "Notice that in the example above we still kept a set of parentheses around `X|Y`, because we want `\u2261` to compare `X|Y` with `Y-X\u00d7\u230aY\u00f7X`. To get rid of those parentheses one would need to introduce an intermediate variable, for example like so:"
      ]
    },
    {
      "cell_type": "code",
      "execution_count": 56,
      "metadata": {},
      "outputs": [
        {
          "data": {
            "text/html": [
              "<span style=\"white-space:pre; font-family: monospace\">1\n",
              "</span>"
            ]
          },
          "execution_count": 56,
          "metadata": {},
          "output_type": "execute_result"
        }
      ],
      "source": [
        "R \u2190 X|Y\n",
        "R\u2261Y-X\u00d7\u230aY\u00f7X"
      ]
    },
    {
      "cell_type": "markdown",
      "metadata": {},
      "source": [
        "```{admonition} Warning \n",
        ":class: warning",
        "\n",
        "In the beginning you may encounter some surprises. For example, if `V` is a vector, `1+\u2374V` is different from `\u2374V+1`. Let us see why, with the following vector:",
        "```\n"
      ]
    },
    {
      "cell_type": "code",
      "execution_count": 57,
      "metadata": {},
      "outputs": [],
      "source": [
        "V \u2190 5 2 7"
      ]
    },
    {
      "cell_type": "markdown",
      "metadata": {},
      "source": [
        "The value of"
      ]
    },
    {
      "cell_type": "code",
      "execution_count": 58,
      "metadata": {
        "scrolled": true
      },
      "outputs": [
        {
          "data": {
            "text/html": [
              "<span style=\"white-space:pre; font-family: monospace\">4\n",
              "</span>"
            ]
          },
          "execution_count": 58,
          "metadata": {},
          "output_type": "execute_result"
        }
      ],
      "source": [
        "1+\u2374V"
      ]
    },
    {
      "cell_type": "markdown",
      "metadata": {},
      "source": [
        "is"
      ]
    },
    {
      "cell_type": "code",
      "execution_count": 59,
      "metadata": {},
      "outputs": [
        {
          "data": {
            "text/html": [
              "<span style=\"white-space:pre; font-family: monospace\">3\n",
              "</span>"
            ]
          },
          "execution_count": 59,
          "metadata": {},
          "output_type": "execute_result"
        }
      ],
      "source": [
        "\u2374V"
      ]
    },
    {
      "cell_type": "markdown",
      "metadata": {},
      "source": [
        "followed by"
      ]
    },
    {
      "cell_type": "code",
      "execution_count": 60,
      "metadata": {},
      "outputs": [
        {
          "data": {
            "text/html": [
              "<span style=\"white-space:pre; font-family: monospace\">4\n",
              "</span>"
            ]
          },
          "execution_count": 60,
          "metadata": {},
          "output_type": "execute_result"
        }
      ],
      "source": [
        "1+3"
      ]
    },
    {
      "cell_type": "markdown",
      "metadata": {},
      "source": [
        "Whereas the value of"
      ]
    },
    {
      "cell_type": "code",
      "execution_count": 61,
      "metadata": {},
      "outputs": [
        {
          "data": {
            "text/html": [
              "<span style=\"white-space:pre; font-family: monospace\">3\n",
              "</span>"
            ]
          },
          "execution_count": 61,
          "metadata": {},
          "output_type": "execute_result"
        }
      ],
      "source": [
        "\u2374V+1"
      ]
    },
    {
      "cell_type": "markdown",
      "metadata": {},
      "source": [
        "is"
      ]
    },
    {
      "cell_type": "code",
      "execution_count": 62,
      "metadata": {},
      "outputs": [
        {
          "data": {
            "text/html": [
              "<span style=\"white-space:pre; font-family: monospace\">6 3 8\n",
              "</span>"
            ]
          },
          "execution_count": 62,
          "metadata": {},
          "output_type": "execute_result"
        }
      ],
      "source": [
        "V+1"
      ]
    },
    {
      "cell_type": "markdown",
      "metadata": {},
      "source": [
        "followed by"
      ]
    },
    {
      "cell_type": "code",
      "execution_count": 63,
      "metadata": {},
      "outputs": [
        {
          "data": {
            "text/html": [
              "<span style=\"white-space:pre; font-family: monospace\">3\n",
              "</span>"
            ]
          },
          "execution_count": 63,
          "metadata": {},
          "output_type": "execute_result"
        }
      ],
      "source": [
        "\u23746 3 8"
      ]
    },
    {
      "cell_type": "markdown",
      "metadata": {},
      "source": [
        "which gives a different result.\n",
        "\n",
        "This may be completely new to people who have experience with other programming languages, and is one of the reasons why we **recommend** that you do all of the exercises at the end of this chapter. With a little practice, you will soon find this simple rule very natural, and you will consider it a relief that you do not have to remember complex rules for function precedence."
      ]
    },
    {
      "cell_type": "markdown",
      "metadata": {},
      "source": [
        "## Monadic Scalar Functions\n",
        "\n",
        "Most of the symbols we have encountered so far also have a monadic definition; let's look at them now.\n",
        "\n",
        "### The Four Basic Symbols\n",
        "\n",
        "We will begin with the four basic symbols: `+` `-` `\u00d7` `\u00f7`\n",
        "\n",
        "#### Conjugate\n",
        "\n",
        "The Plus sign used monadically is the ***Conjugate*** function. It returns the ***complex conjugate*** of its arguments:"
      ]
    },
    {
      "cell_type": "code",
      "execution_count": 64,
      "metadata": {},
      "outputs": [
        {
          "data": {
            "text/html": [
              "<span style=\"white-space:pre; font-family: monospace\">0J\u00af1\n",
              "</span>"
            ]
          },
          "execution_count": 64,
          "metadata": {},
          "output_type": "execute_result"
        }
      ],
      "source": [
        "+ 0J1"
      ]
    },
    {
      "cell_type": "markdown",
      "metadata": {},
      "source": [
        "When the numbers have no complex part, the function acts as the identity function, as the complex conjugate of a real number is the number itself:"
      ]
    },
    {
      "cell_type": "code",
      "execution_count": 65,
      "metadata": {},
      "outputs": [
        {
          "data": {
            "text/html": [
              "<span style=\"white-space:pre; font-family: monospace\">1 2 3 \u00af3 6.5346 56\n",
              "</span>"
            ]
          },
          "execution_count": 65,
          "metadata": {},
          "output_type": "execute_result"
        }
      ],
      "source": [
        "+ 1 2 3 \u00af3 6.5346 56J0"
      ]
    },
    {
      "cell_type": "markdown",
      "metadata": {},
      "source": [
        "For compatibility reasons, monadic `+` also acts as the identity function if the argument is a character:"
      ]
    },
    {
      "cell_type": "code",
      "execution_count": 66,
      "metadata": {},
      "outputs": [
        {
          "data": {
            "text/html": [
              "<span style=\"white-space:pre; font-family: monospace\">a\n",
              "</span>"
            ]
          },
          "execution_count": 66,
          "metadata": {},
          "output_type": "execute_result"
        }
      ],
      "source": [
        "+ 'a'"
      ]
    },
    {
      "cell_type": "markdown",
      "metadata": {},
      "source": [
        "Because it is a scalar function, it naturally works with mixed arrays:"
      ]
    },
    {
      "cell_type": "code",
      "execution_count": 67,
      "metadata": {},
      "outputs": [
        {
          "data": {
            "text/html": [
              "<span style=\"white-space:pre; font-family: monospace\">B 3 a \u00af3 0J\u00af1 g 4J4\n",
              "</span>"
            ]
          },
          "execution_count": 67,
          "metadata": {},
          "output_type": "execute_result"
        }
      ],
      "source": [
        "+ 'B' 3 'a' \u00af3 0J1 'g' 4J\u00af4"
      ]
    },
    {
      "cell_type": "markdown",
      "metadata": {},
      "source": [
        "#### Negative\n",
        "\n",
        "The Minus sign is the ***Negative*** function. It returns the negation of its argument:"
      ]
    },
    {
      "cell_type": "code",
      "execution_count": 68,
      "metadata": {},
      "outputs": [
        {
          "data": {
            "text/html": [
              "<span style=\"white-space:pre; font-family: monospace\">\u00af19 \u00af11 33 0 17\n",
              "</span>"
            ]
          },
          "execution_count": 68,
          "metadata": {},
          "output_type": "execute_result"
        }
      ],
      "source": [
        "- 19 11 \u00af33 0 \u00af17"
      ]
    },
    {
      "cell_type": "markdown",
      "metadata": {},
      "source": [
        "#### Signum\n",
        "\n",
        "The Multiply symbol used monadically is the ***Signum*** function. It tells us the sign of its argument, using the following convention:\n",
        "\n",
        "| Result | Value |\n",
        "| -: | :- |\n",
        "| `1` | The value is positive |\n",
        "| `0` | The value is zero |\n",
        "| `\u00af1` | The value is negative |\n",
        "\n",
        "Some examples follow:"
      ]
    },
    {
      "cell_type": "code",
      "execution_count": 69,
      "metadata": {},
      "outputs": [
        {
          "data": {
            "text/html": [
              "<span style=\"white-space:pre; font-family: monospace\">1 1 \u00af1 0 \u00af1\n",
              "</span>"
            ]
          },
          "execution_count": 69,
          "metadata": {},
          "output_type": "execute_result"
        }
      ],
      "source": [
        "\u00d7 19 11 \u00af33 0 \u00af17"
      ]
    },
    {
      "cell_type": "markdown",
      "metadata": {},
      "source": [
        "#### Reciprocal\n",
        "\n",
        "No surprise: the Divide symbol gives the ***Reciprocal*** or ***Inverse*** of its argument:"
      ]
    },
    {
      "cell_type": "code",
      "execution_count": 70,
      "metadata": {},
      "outputs": [
        {
          "data": {
            "text/html": [
              "<span style=\"white-space:pre; font-family: monospace\">0.5 \u00af0.25 3.33333 4 \u00af0.142857\n",
              "</span>"
            ]
          },
          "execution_count": 70,
          "metadata": {},
          "output_type": "execute_result"
        }
      ],
      "source": [
        "\u00f7 2 \u00af4 .3 .25 \u00af7"
      ]
    },
    {
      "cell_type": "markdown",
      "metadata": {},
      "source": [
        "### Other Scalar Monadic Functions\n",
        "\n",
        "#### Exponential\n",
        "\n",
        "The expression `*N` gives $e^N$, where $e$ is the base of the natural logarithm, approximately $2.71828$:"
      ]
    },
    {
      "cell_type": "code",
      "execution_count": 71,
      "metadata": {},
      "outputs": [
        {
          "data": {
            "text/html": [
              "<span style=\"white-space:pre; font-family: monospace\">2.71828\n",
              "</span>"
            ]
          },
          "execution_count": 71,
          "metadata": {},
          "output_type": "execute_result"
        }
      ],
      "source": [
        "*1"
      ]
    },
    {
      "cell_type": "code",
      "execution_count": 72,
      "metadata": {},
      "outputs": [
        {
          "data": {
            "text/html": [
              "<span style=\"white-space:pre; font-family: monospace\">2.71828 1 20.0855 0.367879\n",
              "</span>"
            ]
          },
          "execution_count": 72,
          "metadata": {},
          "output_type": "execute_result"
        }
      ],
      "source": [
        "* 1 0 3 \u00af1"
      ]
    },
    {
      "cell_type": "markdown",
      "metadata": {},
      "source": [
        "#### Floor and Ceiling\n",
        "\n",
        "***Floor*** (`\u230a`) rounds its argument down, while ***Ceiling*** (`\u2308`) rounds its argument up, to the nearest smaller or larger integer value, respectively:"
      ]
    },
    {
      "cell_type": "code",
      "execution_count": 73,
      "metadata": {},
      "outputs": [
        {
          "data": {
            "text/html": [
              "<span style=\"white-space:pre; font-family: monospace\">51 48 0 12 \u00af74 \u00af10\n",
              "</span>"
            ]
          },
          "execution_count": 73,
          "metadata": {},
          "output_type": "execute_result"
        }
      ],
      "source": [
        "V \u2190 51.384 48.962 0 12.5 \u00af73.27 \u00af9.99\n",
        "\u230aV"
      ]
    },
    {
      "cell_type": "code",
      "execution_count": 74,
      "metadata": {},
      "outputs": [
        {
          "data": {
            "text/html": [
              "<span style=\"white-space:pre; font-family: monospace\">52 49 0 13 \u00af73 \u00af9\n",
              "</span>"
            ]
          },
          "execution_count": 74,
          "metadata": {},
          "output_type": "execute_result"
        }
      ],
      "source": [
        "\u2308V"
      ]
    },
    {
      "cell_type": "markdown",
      "metadata": {},
      "source": [
        "To round a value to the nearest integer a commonly used method is to add 0.5 and then take the *Floor*, or alternatively, to subtract 0.5 and take the *Ceiling*, as shown here:"
      ]
    },
    {
      "cell_type": "code",
      "execution_count": 75,
      "metadata": {},
      "outputs": [
        {
          "data": {
            "text/html": [
              "<span style=\"white-space:pre; font-family: monospace\">51 49 0 13 \u00af73 \u00af10\n",
              "</span>"
            ]
          },
          "execution_count": 75,
          "metadata": {},
          "output_type": "execute_result"
        }
      ],
      "source": [
        "\u230aV+0.5"
      ]
    },
    {
      "cell_type": "code",
      "execution_count": 76,
      "metadata": {},
      "outputs": [
        {
          "data": {
            "text/html": [
              "<span style=\"white-space:pre; font-family: monospace\">51 49 0 12 \u00af73 \u00af10\n",
              "</span>"
            ]
          },
          "execution_count": 76,
          "metadata": {},
          "output_type": "execute_result"
        }
      ],
      "source": [
        "\u2308V-0.5"
      ]
    },
    {
      "cell_type": "markdown",
      "metadata": {},
      "source": [
        "The results are the same, except when the decimal part of a number if 0.5. For example, 12.5 above gets rounded to 13 or 12 depending on which method is used."
      ]
    },
    {
      "cell_type": "markdown",
      "metadata": {},
      "source": [
        "#### Magnitude (Absolute Value)\n",
        "\n",
        "The monadic stile represents the absolute (unsigned) value of its argument, as shown:"
      ]
    },
    {
      "cell_type": "code",
      "execution_count": 77,
      "metadata": {},
      "outputs": [
        {
          "data": {
            "text/html": [
              "<span style=\"white-space:pre; font-family: monospace\">29.2 49.3 14.8 0 37.2\n",
              "</span>"
            ]
          },
          "execution_count": 77,
          "metadata": {},
          "output_type": "execute_result"
        }
      ],
      "source": [
        "V \u2190 29.2 49.3 \u00af14.8 0 \u00af37.2\n",
        "|V"
      ]
    },
    {
      "cell_type": "markdown",
      "metadata": {},
      "source": [
        "Monadic `\u00d7` and monadic `|` are related:"
      ]
    },
    {
      "cell_type": "code",
      "execution_count": 78,
      "metadata": {},
      "outputs": [
        {
          "data": {
            "text/html": [
              "<span style=\"white-space:pre; font-family: monospace\">1\n",
              "</span>"
            ]
          },
          "execution_count": 78,
          "metadata": {},
          "output_type": "execute_result"
        }
      ],
      "source": [
        "(|V) \u2261 (V\u00d7\u00d7V)"
      ]
    },
    {
      "cell_type": "markdown",
      "metadata": {},
      "source": [
        "The above equality, which holds for any numeric array `V`, tells us that the magnitude of a number is equal to the number multiplied by its signum."
      ]
    },
    {
      "cell_type": "markdown",
      "metadata": {},
      "source": [
        "## Left and Right Tacks\n",
        "\n",
        "### Same\n",
        "\n",
        "APL also includes two primitive functions whose monadic name is the same: ***Same***. These two primitives are the ***Right Tack*** (`\u22a2`) and the ***Left Tack***, obtained respectively with <kbd>APL</kbd>+<kbd>\\\\</kbd> and <kbd>APL</kbd>+<kbd>Shift</kbd>+<kbd>\\\\</kbd>.\n",
        "\n",
        "Their monadic name is *Same* because they act as true identity functions, returning their argument completely unchanged:"
      ]
    },
    {
      "cell_type": "code",
      "execution_count": 79,
      "metadata": {},
      "outputs": [
        {
          "data": {
            "text/html": [
              "<span style=\"white-space:pre; font-family: monospace\">1 2 3\n",
              "</span>"
            ]
          },
          "execution_count": 79,
          "metadata": {},
          "output_type": "execute_result"
        }
      ],
      "source": [
        "\u22a2 1 2 3"
      ]
    },
    {
      "cell_type": "code",
      "execution_count": 80,
      "metadata": {},
      "outputs": [
        {
          "data": {
            "text/html": [
              "<span style=\"white-space:pre; font-family: monospace\">Banana\n",
              "</span>"
            ]
          },
          "execution_count": 80,
          "metadata": {},
          "output_type": "execute_result"
        }
      ],
      "source": [
        "\u22a2 'Banana'"
      ]
    },
    {
      "cell_type": "code",
      "execution_count": 81,
      "metadata": {
        "scrolled": true
      },
      "outputs": [
        {
          "data": {
            "text/html": [
              "<span style=\"white-space:pre; font-family: monospace\">\u250c\u2500\u2500\u2500\u252c\u2500\u252c\u2500\u2500\u2500\u2500\u2500\u2500\u2500\u2500\u2500\u252c\u2500\u2500\u2500\u2500\u2500\u2500\u2500\u2500\u2500\u2500\u2500\u2500\u2500\u2500\u2500\u2500\u2500\u2510\n",
              "\u2502Bag\u25023\u2502\u250c\u2500\u252c\u2500\u252c\u2500\u2500\u2500\u2510\u2502\u250c\u2500\u2500\u2500\u252c\u2500\u2500\u2500\u2500\u2500\u2500\u2500\u252c\u2500\u2500\u2500\u2510\u2502\n",
              "\u2502   \u2502 \u2502\u25021\u25022\u2502Bag\u2502\u2502\u2502Bag\u2502\u250c\u2500\u2500\u2500\u252c\u2500\u2510\u25021 2\u2502\u2502\n",
              "\u2502   \u2502 \u2502\u2514\u2500\u2534\u2500\u2534\u2500\u2500\u2500\u2518\u2502\u2502   \u2502\u2502Bag\u25023\u2502\u25023 4\u2502\u2502\n",
              "\u2502   \u2502 \u2502         \u2502\u2502   \u2502\u2514\u2500\u2500\u2500\u2534\u2500\u2518\u2502   \u2502\u2502\n",
              "\u2502   \u2502 \u2502         \u2502\u2514\u2500\u2500\u2500\u2534\u2500\u2500\u2500\u2500\u2500\u2500\u2500\u2534\u2500\u2500\u2500\u2518\u2502\n",
              "\u2514\u2500\u2500\u2500\u2534\u2500\u2534\u2500\u2500\u2500\u2500\u2500\u2500\u2500\u2500\u2500\u2534\u2500\u2500\u2500\u2500\u2500\u2500\u2500\u2500\u2500\u2500\u2500\u2500\u2500\u2500\u2500\u2500\u2500\u2518\n",
              "</span>"
            ]
          },
          "execution_count": 81,
          "metadata": {},
          "output_type": "execute_result"
        }
      ],
      "source": [
        "\u22a2 'Bag' 3 (1 2 'Bag') ('Bag' ('Bag' 3) (2 2\u23741 2 3 4))"
      ]
    },
    {
      "cell_type": "markdown",
      "metadata": {},
      "source": [
        "Exactly the same thing happens (i.e. nothing happens) if you replace all the `\u22a2` above with `\u22a3`, for example:"
      ]
    },
    {
      "cell_type": "code",
      "execution_count": 82,
      "metadata": {
        "scrolled": true
      },
      "outputs": [
        {
          "data": {
            "text/html": [
              "<span style=\"white-space:pre; font-family: monospace\">\u250c\u2500\u2500\u2500\u252c\u2500\u252c\u2500\u2500\u2500\u2500\u2500\u2500\u2500\u2500\u2500\u252c\u2500\u2500\u2500\u2500\u2500\u2500\u2500\u2500\u2500\u2500\u2500\u2500\u2500\u2500\u2500\u2500\u2500\u2510\n",
              "\u2502Bag\u25023\u2502\u250c\u2500\u252c\u2500\u252c\u2500\u2500\u2500\u2510\u2502\u250c\u2500\u2500\u2500\u252c\u2500\u2500\u2500\u2500\u2500\u2500\u2500\u252c\u2500\u2500\u2500\u2510\u2502\n",
              "\u2502   \u2502 \u2502\u25021\u25022\u2502Bag\u2502\u2502\u2502Bag\u2502\u250c\u2500\u2500\u2500\u252c\u2500\u2510\u25021 2\u2502\u2502\n",
              "\u2502   \u2502 \u2502\u2514\u2500\u2534\u2500\u2534\u2500\u2500\u2500\u2518\u2502\u2502   \u2502\u2502Bag\u25023\u2502\u25023 4\u2502\u2502\n",
              "\u2502   \u2502 \u2502         \u2502\u2502   \u2502\u2514\u2500\u2500\u2500\u2534\u2500\u2518\u2502   \u2502\u2502\n",
              "\u2502   \u2502 \u2502         \u2502\u2514\u2500\u2500\u2500\u2534\u2500\u2500\u2500\u2500\u2500\u2500\u2500\u2534\u2500\u2500\u2500\u2518\u2502\n",
              "\u2514\u2500\u2500\u2500\u2534\u2500\u2534\u2500\u2500\u2500\u2500\u2500\u2500\u2500\u2500\u2500\u2534\u2500\u2500\u2500\u2500\u2500\u2500\u2500\u2500\u2500\u2500\u2500\u2500\u2500\u2500\u2500\u2500\u2500\u2518\n",
              "</span>"
            ]
          },
          "execution_count": 82,
          "metadata": {},
          "output_type": "execute_result"
        }
      ],
      "source": [
        "\u22a3 'Bag' 3 (1 2 'Bag') ('Bag' ('Bag' 3) (2 2\u23741 2 3 4))"
      ]
    },
    {
      "cell_type": "markdown",
      "metadata": {},
      "source": [
        "These two functions may look useless, but they are not. For one, a neat little trick we can do with them is to display a value of a variable that we just assigned; for example, compare the two code cells below:"
      ]
    },
    {
      "cell_type": "code",
      "execution_count": 83,
      "metadata": {},
      "outputs": [],
      "source": [
        "Matrix \u2190 2 3\u23741 2 3 4 5 6        \u235d Nothing gets displayed explicitly"
      ]
    },
    {
      "cell_type": "code",
      "execution_count": 84,
      "metadata": {},
      "outputs": [
        {
          "data": {
            "text/html": [
              "<span style=\"white-space:pre; font-family: monospace\">1 2 3\n",
              "4 5 6\n",
              "</span>"
            ]
          },
          "execution_count": 84,
          "metadata": {},
          "output_type": "execute_result"
        }
      ],
      "source": [
        "\u22a2Matrix\u2190 2 3\u23741 2 3 4 5 6        \u235d The value of Matrix is displayed "
      ]
    },
    {
      "cell_type": "code",
      "execution_count": 85,
      "metadata": {},
      "outputs": [
        {
          "data": {
            "text/html": [
              "<span style=\"white-space:pre; font-family: monospace\">1 2 3\n",
              "4 5 6\n",
              "</span>"
            ]
          },
          "execution_count": 85,
          "metadata": {},
          "output_type": "execute_result"
        }
      ],
      "source": [
        "\u22a3Matrix\u2190 2 3\u23741 2 3 4 5 6        \u235d The value of Matrix is displayed"
      ]
    },
    {
      "cell_type": "markdown",
      "metadata": {},
      "source": [
        "These functions become even more useful if we take a look at their dyadic usages (explained next), combined with the power of operators or tacit programming (explained in detail in future chapters)."
      ]
    },
    {
      "cell_type": "markdown",
      "metadata": {},
      "source": [
        "### Dyadic Usage\n",
        "\n",
        "The Left and Right Tacks differ in their dyadic usage, of course, otherwise there would be no point in having two primitive functions that behaved in exactly the same manner.\n",
        "\n",
        "When used dyadically, the Left Tack returns its left argument and the Right Tack returns its right argument. If you ever forget which dyadic tack returns what, just remember that each tack returns the argument to which it is pointing:"
      ]
    },
    {
      "cell_type": "code",
      "execution_count": 86,
      "metadata": {},
      "outputs": [
        {
          "data": {
            "text/html": [
              "<span style=\"white-space:pre; font-family: monospace\">1 2 3\n",
              "</span>"
            ]
          },
          "execution_count": 86,
          "metadata": {},
          "output_type": "execute_result"
        }
      ],
      "source": [
        "1 2 3 \u22a3 'Bananas'"
      ]
    },
    {
      "cell_type": "code",
      "execution_count": 87,
      "metadata": {
        "scrolled": true
      },
      "outputs": [
        {
          "data": {
            "text/html": [
              "<span style=\"white-space:pre; font-family: monospace\">Bananas\n",
              "</span>"
            ]
          },
          "execution_count": 87,
          "metadata": {},
          "output_type": "execute_result"
        }
      ],
      "source": [
        "1 2 3 \u22a2 'Bananas'"
      ]
    },
    {
      "cell_type": "markdown",
      "metadata": {},
      "source": [
        "## Processing Binary Data\n",
        "\n",
        "```{admonition} Remark \n",
        ":class: tip",
        "\n",
        "Binary values are most often produced by the comparison functions that we have already seen. However, the result of *any* function (such as addition or subtraction) which is composed only of 1s and 0s can be used as a binary (or Boolean) value, and may be used as an argument to any of the special primitive functions that apply to Boolean values.\n",
        "```\n",
        "\n",
        "Among the various ways of producing binary results, *Membership* appears to be one of the most interesting tools."
      ]
    },
    {
      "cell_type": "markdown",
      "metadata": {},
      "source": [
        "### Membership\n",
        "\n",
        " - ***Membership*** tells whether the items of its left argument are present (`1`) or not (`0`) in the right argument, regardless of their position in it;\n",
        " - it accepts arguments of any shape or type;\n",
        " - the result produced always has the same shape as the **left** argument.\n",
        " \n",
        "Some examples will help you understand the function:"
      ]
    },
    {
      "cell_type": "code",
      "execution_count": 88,
      "metadata": {},
      "outputs": [
        {
          "data": {
            "text/html": [
              "<span style=\"white-space:pre; font-family: monospace\">1 0 0 1\n",
              "</span>"
            ]
          },
          "execution_count": 88,
          "metadata": {},
          "output_type": "execute_result"
        }
      ],
      "source": [
        "23 14 41 19 \u220a 17 88 19 50 51 52 23 40"
      ]
    },
    {
      "cell_type": "markdown",
      "metadata": {},
      "source": [
        "This means that 23 and 19 appear somewhere in the rightmost vector, whereas 14 and 41 do not. The left argument has 4 items, and so has the result.\n",
        "\n",
        "The *Membership* function can operate on arguments of completely different shape. For example, it is possible to detect the presence of each item of a vector in a matrix, or vice versa.\n",
        "\n",
        "In an earlier chapter we used a matrix containing the first 6 months of the year:"
      ]
    },
    {
      "cell_type": "code",
      "execution_count": 89,
      "metadata": {},
      "outputs": [
        {
          "data": {
            "text/html": [
              "<span style=\"white-space:pre; font-family: monospace\">January \n",
              "February\n",
              "March   \n",
              "April   \n",
              "May     \n",
              "June    \n",
              "</span>"
            ]
          },
          "execution_count": 89,
          "metadata": {},
          "output_type": "execute_result"
        }
      ],
      "source": [
        "\u22a2MonMat \u2190 6 8\u2374'January FebruaryMarch   April   May     June    '"
      ]
    },
    {
      "cell_type": "markdown",
      "metadata": {},
      "source": [
        "We can ask if certain letters are present in this matrix:"
      ]
    },
    {
      "cell_type": "code",
      "execution_count": 90,
      "metadata": {},
      "outputs": [
        {
          "data": {
            "text/html": [
              "<span style=\"white-space:pre; font-family: monospace\">0 1 1 1 0 1 1 1\n",
              "</span>"
            ]
          },
          "execution_count": 90,
          "metadata": {},
          "output_type": "execute_result"
        }
      ],
      "source": [
        "'December' \u220a MonMat"
      ]
    },
    {
      "cell_type": "markdown",
      "metadata": {},
      "source": [
        "The result shows that all letters of the word \"December\" appear in `MonMat`, except \"D\" and lowercase \"m\" (which should not be confused with the uppercase \"M\" or March and May).\n",
        "\n",
        "In this case we used a vector left argument and a matrix right argument. Let's try it the other way around. The following expression tells us which letters in the matrix `MonMat` appear in the word \"Century\":"
      ]
    },
    {
      "cell_type": "code",
      "execution_count": 91,
      "metadata": {},
      "outputs": [
        {
          "data": {
            "text/html": [
              "<span style=\"white-space:pre; font-family: monospace\">0 0 1 1 0 1 1 0\n",
              "0 1 0 1 1 0 1 1\n",
              "0 0 1 0 0 0 0 0\n",
              "0 0 1 0 0 0 0 0\n",
              "0 0 1 0 0 0 0 0\n",
              "0 1 1 1 0 0 0 0\n",
              "</span>"
            ]
          },
          "execution_count": 91,
          "metadata": {},
          "output_type": "execute_result"
        }
      ],
      "source": [
        "MonMat \u220a 'Century'"
      ]
    },
    {
      "cell_type": "markdown",
      "metadata": {},
      "source": [
        "As you might imagine, any comparison between numbers and letters gives zero:"
      ]
    },
    {
      "cell_type": "code",
      "execution_count": 92,
      "metadata": {},
      "outputs": [
        {
          "data": {
            "text/html": [
              "<span style=\"white-space:pre; font-family: monospace\">0\n",
              "</span>"
            ]
          },
          "execution_count": 92,
          "metadata": {},
          "output_type": "execute_result"
        }
      ],
      "source": [
        "1952 \u220a '1952'"
      ]
    },
    {
      "cell_type": "code",
      "execution_count": 93,
      "metadata": {},
      "outputs": [
        {
          "data": {
            "text/html": [
              "<span style=\"white-space:pre; font-family: monospace\">0 0 0 0\n",
              "</span>"
            ]
          },
          "execution_count": 93,
          "metadata": {},
          "output_type": "execute_result"
        }
      ],
      "source": [
        "'1952' \u220a 1952"
      ]
    },
    {
      "cell_type": "markdown",
      "metadata": {},
      "source": [
        "Remember that `'1952'` is a vector of 4 letters, none of which can be found in the number 1952.\n",
        "\n",
        "We **recommend** that you do exercise 22 to discover all possibilities of *Membership*."
      ]
    },
    {
      "cell_type": "markdown",
      "metadata": {},
      "source": [
        "### Binary Algebra\n",
        "\n",
        "Binary values can be processed using half a dozen specialised primitive functions, the main ones being ***And***, ***Or***, ***Xor*** and ***Not***. Additional functions will be described in the *Specialist's Section*.\n",
        "\n",
        "The function ***And*** is represented by the symbol `\u2227` (<kbd>APL</kbd>+<kbd>0</kbd>), as it is in mathematics. It returns the result 1 if the left ***and*** the right arguments are both equal to 1:"
      ]
    },
    {
      "cell_type": "code",
      "execution_count": 94,
      "metadata": {},
      "outputs": [
        {
          "data": {
            "text/html": [
              "<span style=\"white-space:pre; font-family: monospace\">0\n",
              "</span>"
            ]
          },
          "execution_count": 94,
          "metadata": {},
          "output_type": "execute_result"
        }
      ],
      "source": [
        "0 \u2227 0"
      ]
    },
    {
      "cell_type": "code",
      "execution_count": 95,
      "metadata": {},
      "outputs": [
        {
          "data": {
            "text/html": [
              "<span style=\"white-space:pre; font-family: monospace\">0\n",
              "</span>"
            ]
          },
          "execution_count": 95,
          "metadata": {},
          "output_type": "execute_result"
        }
      ],
      "source": [
        "0 \u2227 1"
      ]
    },
    {
      "cell_type": "code",
      "execution_count": 96,
      "metadata": {},
      "outputs": [
        {
          "data": {
            "text/html": [
              "<span style=\"white-space:pre; font-family: monospace\">0\n",
              "</span>"
            ]
          },
          "execution_count": 96,
          "metadata": {},
          "output_type": "execute_result"
        }
      ],
      "source": [
        "1 \u2227 0"
      ]
    },
    {
      "cell_type": "code",
      "execution_count": 97,
      "metadata": {},
      "outputs": [
        {
          "data": {
            "text/html": [
              "<span style=\"white-space:pre; font-family: monospace\">1\n",
              "</span>"
            ]
          },
          "execution_count": 97,
          "metadata": {},
          "output_type": "execute_result"
        }
      ],
      "source": [
        "1 \u2227 1"
      ]
    },
    {
      "cell_type": "markdown",
      "metadata": {},
      "source": [
        "We can condense the four expressions above into a single one, given that `\u2227` is also a scalar function:"
      ]
    },
    {
      "cell_type": "code",
      "execution_count": 98,
      "metadata": {},
      "outputs": [
        {
          "data": {
            "text/html": [
              "<span style=\"white-space:pre; font-family: monospace\">0 0 0 1\n",
              "</span>"
            ]
          },
          "execution_count": 98,
          "metadata": {},
          "output_type": "execute_result"
        }
      ],
      "source": [
        "0 0 1 1 \u2227 0 1 0 1"
      ]
    },
    {
      "cell_type": "markdown",
      "metadata": {},
      "source": [
        "The function ***Or*** is represented by the symbol `\u2228` (<kbd>APL</kbd>+<kbd>9</kbd>), as it is in mathematics. It returns the result 1 if the left ***or*** right argument is equal to 1.\n",
        "\n",
        "The four possible cases are shown in the following expression:"
      ]
    },
    {
      "cell_type": "code",
      "execution_count": 99,
      "metadata": {},
      "outputs": [
        {
          "data": {
            "text/html": [
              "<span style=\"white-space:pre; font-family: monospace\">0 1 1 1\n",
              "</span>"
            ]
          },
          "execution_count": 99,
          "metadata": {},
          "output_type": "execute_result"
        }
      ],
      "source": [
        "0 0 1 1 \u2228 0 1 0 1"
      ]
    },
    {
      "cell_type": "markdown",
      "metadata": {},
      "source": [
        "***Xor*** is an acronym for ***eXclusive Or***. It returns the result 1 if one of the arguments is equal to 1, but not if both are equal to 1.\n",
        "\n",
        "In automation, the same function is generally represented by a circled Plus sign, like $\\oplus$.\n",
        "\n",
        "APL does not need a different symbol for the function, because ***Xor*** is the same as on of the comparison functions we have already met: `\u2260`"
      ]
    },
    {
      "cell_type": "code",
      "execution_count": 100,
      "metadata": {},
      "outputs": [
        {
          "data": {
            "text/html": [
              "<span style=\"white-space:pre; font-family: monospace\">0 1 1 0\n",
              "</span>"
            ]
          },
          "execution_count": 100,
          "metadata": {},
          "output_type": "execute_result"
        }
      ],
      "source": [
        "0 0 1 1 \u2260 0 1 0 1"
      ]
    },
    {
      "cell_type": "markdown",
      "metadata": {},
      "source": [
        "The last function is the monadic function ***Not***. Represented by the *Tilde* `~` (<kbd>APL</kbd>+<kbd>T</kbd>), it converts 0 into 1 and 1 into 0:"
      ]
    },
    {
      "cell_type": "code",
      "execution_count": 101,
      "metadata": {},
      "outputs": [
        {
          "data": {
            "text/html": [
              "<span style=\"white-space:pre; font-family: monospace\">1 0 1 1 1 0 0\n",
              "</span>"
            ]
          },
          "execution_count": 101,
          "metadata": {},
          "output_type": "execute_result"
        }
      ],
      "source": [
        "~ 0 1 0 0 0 1 1"
      ]
    },
    {
      "cell_type": "markdown",
      "metadata": {},
      "source": [
        "```{admonition} Remark \n",
        ":class: tip",
        "\n",
        "- ***And***, ***Or*** and ***Xor*** are scalar dyadic functions;",
        "- ***Not*** is a scalar monadic function;",
        "- ***Membership*** is a dyadic function, but it is not a scalar function.",
        "```\n",
        "\n",
        "All these functions can be applied to binary data of any shape. For example, let us see if any of those items of `Forecast`, which are greater than 350 thousand Euros, have been exceeded by `Actual` sales:"
      ]
    },
    {
      "cell_type": "code",
      "execution_count": 102,
      "metadata": {},
      "outputs": [
        {
          "data": {
            "text/html": [
              "<span style=\"white-space:pre; font-family: monospace\">0 0 0 1 0 0\n",
              "0 1 0 0 0 0\n",
              "0 0 0 0 1 1\n",
              "0 1 0 0 0 0\n",
              "</span>"
            ]
          },
          "execution_count": 102,
          "metadata": {},
          "output_type": "execute_result"
        }
      ],
      "source": [
        "\u22a2bin \u2190 (Forecast>350) \u2227 (Actual>Forecast)"
      ]
    },
    {
      "cell_type": "markdown",
      "metadata": {},
      "source": [
        "A side note: the parentheses around the rightmost expression `(Actual>Forecast)` are not strictly needed. However, they do no harm either, so we have added them here to help you read the expression, since you may not yet be fully familiar with APL's order of evaluation."
      ]
    },
    {
      "cell_type": "markdown",
      "metadata": {},
      "source": [
        "### Without\n",
        "\n",
        "Given a vector `A` and any array `B`, the expression `A~B` returns a vector equal to `A`, but in which all items of `B` have been removed. The size and shape of `B` is immaterial, only the individual items of `B` are used.\n",
        "\n",
        "This function is called ***Without***."
      ]
    },
    {
      "cell_type": "code",
      "execution_count": 103,
      "metadata": {},
      "outputs": [
        {
          "data": {
            "text/html": [
              "<span style=\"white-space:pre; font-family: monospace\">TsWtswm\n",
              "</span>"
            ]
          },
          "execution_count": 103,
          "metadata": {},
          "output_type": "execute_result"
        }
      ],
      "source": [
        "'This Winter is warm' ~ MonMat"
      ]
    },
    {
      "cell_type": "markdown",
      "metadata": {},
      "source": [
        "Notice how the right argument above (`MonMat`) is a matrix."
      ]
    },
    {
      "cell_type": "code",
      "execution_count": 104,
      "metadata": {},
      "outputs": [
        {
          "data": {
            "text/html": [
              "<span style=\"white-space:pre; font-family: monospace\">Cgatulatis\n",
              "</span>"
            ]
          },
          "execution_count": 104,
          "metadata": {},
          "output_type": "execute_result"
        }
      ],
      "source": [
        "'Congratulations' ~ 'ceremony'"
      ]
    },
    {
      "cell_type": "markdown",
      "metadata": {},
      "source": [
        "The uppercase \"C\" is preserved here because it is different from the lowercase \"c\"."
      ]
    },
    {
      "cell_type": "code",
      "execution_count": 105,
      "metadata": {},
      "outputs": [
        {
          "data": {
            "text/html": [
              "<span style=\"white-space:pre; font-family: monospace\">1 2 3\n",
              "4 5 6\n",
              "</span>"
            ]
          },
          "execution_count": 105,
          "metadata": {},
          "output_type": "execute_result"
        }
      ],
      "source": [
        "Matrix"
      ]
    },
    {
      "cell_type": "code",
      "execution_count": 106,
      "metadata": {},
      "outputs": [
        {
          "data": {
            "text/html": [
              "<span style=\"white-space:pre; font-family: monospace\">0 8 10 12\n",
              "</span>"
            ]
          },
          "execution_count": 106,
          "metadata": {},
          "output_type": "execute_result"
        }
      ],
      "source": [
        "0 2 4 6 8 10 12 ~ Matrix"
      ]
    },
    {
      "cell_type": "markdown",
      "metadata": {},
      "source": [
        "Of course, it also works on numbers."
      ]
    },
    {
      "cell_type": "markdown",
      "metadata": {},
      "source": [
        "## Processing Nested Arrays\n",
        "\n",
        "When working with nested arrays, it is important to recognise whether or not you are using a scalar function."
      ]
    },
    {
      "cell_type": "markdown",
      "metadata": {},
      "source": [
        "### Scalar vs. Non-scalar Functions\n",
        "\n",
        "In the \"Data and Variables\" chapter, we set up a nested vector `Children`, which is composed only of numeric items:"
      ]
    },
    {
      "cell_type": "code",
      "execution_count": 107,
      "metadata": {},
      "outputs": [
        {
          "data": {
            "text/html": [
              "<span style=\"white-space:pre; font-family: monospace\">C:\\Program Files\\Dyalog\\Dyalog APL-64 18.0 Unicode\\ws\\DISPLAY.dws saved Wed Jul 15 20:03:16 2020\n",
              "</span>"
            ]
          },
          "execution_count": 107,
          "metadata": {},
          "output_type": "execute_result"
        },
        {
          "data": {
            "text/html": [
              "<span style=\"white-space:pre; font-family: monospace\">\u250c\u2192\u2500\u2500\u2500\u2500\u2500\u2500\u2500\u2500\u2500\u2500\u2500\u2500\u2500\u2500\u2500\u2500\u2500\u2500\u2500\u2500\u2500\u2500\u2500\u2500\u2500\u2500\u2500\u2500\u2500\u2500\u2500\u2500\u2500\u2500\u2500\u2500\u2510\n",
              "\u2502 \u250c\u2192\u2500\u2500\u2510 \u250c\u2192\u2500\u2500\u2500\u2500\u2500\u2500\u2500\u2500\u2500\u2500\u2510 \u250c\u2192\u2500\u2500\u2510   \u250c\u2192\u2500\u2500\u2500\u2500\u2510 \u2502\n",
              "\u2502 \u25026 2\u2502 \u250235 33 26 21\u2502 \u25027 7\u2502 3 \u250219 14\u2502 \u2502\n",
              "\u2502 \u2514~\u2500\u2500\u2518 \u2514~\u2500\u2500\u2500\u2500\u2500\u2500\u2500\u2500\u2500\u2500\u2518 \u2514~\u2500\u2500\u2518   \u2514~\u2500\u2500\u2500\u2500\u2518 \u2502\n",
              "\u2514\u220a\u2500\u2500\u2500\u2500\u2500\u2500\u2500\u2500\u2500\u2500\u2500\u2500\u2500\u2500\u2500\u2500\u2500\u2500\u2500\u2500\u2500\u2500\u2500\u2500\u2500\u2500\u2500\u2500\u2500\u2500\u2500\u2500\u2500\u2500\u2500\u2500\u2518\n",
              "</span>"
            ]
          },
          "execution_count": 107,
          "metadata": {},
          "output_type": "execute_result"
        }
      ],
      "source": [
        ")copy DISPLAY\n",
        "Children \u2190 (6 2) (35 33 26 21) (7 7) 3 (19 14)\n",
        "DISPLAY Children"
      ]
    },
    {
      "cell_type": "markdown",
      "metadata": {},
      "source": [
        "The application of scalar functions is straightforward.\n",
        "\n",
        "For example, when we add 50 to `Children`, the value 50 is added to each of the items of `Children`. As these items are themselves scalars or vectors, adding 50 means adding 50 to each of *their* individual items. This process continues through all levels of nesting, ensuring that 50 gets added to all the individual items of `Children`. The result is therefore structurally identical to `Children`:"
      ]
    },
    {
      "cell_type": "code",
      "execution_count": 108,
      "metadata": {},
      "outputs": [
        {
          "data": {
            "text/html": [
              "<span style=\"white-space:pre; font-family: monospace\">\u250c\u2192\u2500\u2500\u2500\u2500\u2500\u2500\u2500\u2500\u2500\u2500\u2500\u2500\u2500\u2500\u2500\u2500\u2500\u2500\u2500\u2500\u2500\u2500\u2500\u2500\u2500\u2500\u2500\u2500\u2500\u2500\u2500\u2500\u2500\u2500\u2500\u2500\u2500\u2500\u2500\u2500\u2500\u2510\n",
              "\u2502 \u250c\u2192\u2500\u2500\u2500\u2500\u2510 \u250c\u2192\u2500\u2500\u2500\u2500\u2500\u2500\u2500\u2500\u2500\u2500\u2510 \u250c\u2192\u2500\u2500\u2500\u2500\u2510    \u250c\u2192\u2500\u2500\u2500\u2500\u2510 \u2502\n",
              "\u2502 \u250256 52\u2502 \u250285 83 76 71\u2502 \u250257 57\u2502 53 \u250269 64\u2502 \u2502\n",
              "\u2502 \u2514~\u2500\u2500\u2500\u2500\u2518 \u2514~\u2500\u2500\u2500\u2500\u2500\u2500\u2500\u2500\u2500\u2500\u2518 \u2514~\u2500\u2500\u2500\u2500\u2518    \u2514~\u2500\u2500\u2500\u2500\u2518 \u2502\n",
              "\u2514\u220a\u2500\u2500\u2500\u2500\u2500\u2500\u2500\u2500\u2500\u2500\u2500\u2500\u2500\u2500\u2500\u2500\u2500\u2500\u2500\u2500\u2500\u2500\u2500\u2500\u2500\u2500\u2500\u2500\u2500\u2500\u2500\u2500\u2500\u2500\u2500\u2500\u2500\u2500\u2500\u2500\u2500\u2518\n",
              "</span>"
            ]
          },
          "execution_count": 108,
          "metadata": {},
          "output_type": "execute_result"
        }
      ],
      "source": [
        "DISPLAY Children + 50"
      ]
    },
    {
      "cell_type": "markdown",
      "metadata": {},
      "source": [
        "One way of expressing this behaviour is to say that the scalar functions (both the dyadic and monadic ones) permeate down through the structure of nested arrays, until they reach the lowest-level items, and then apply themselves at this level. They are said to be ***pervasive*** functions.\n",
        "\n",
        "Non-scalar functions, like *Membership*, are not pervasive."
      ]
    },
    {
      "cell_type": "code",
      "execution_count": 109,
      "metadata": {},
      "outputs": [
        {
          "data": {
            "text/html": [
              "<span style=\"white-space:pre; font-family: monospace\">0 1 1 0\n",
              "</span>"
            ]
          },
          "execution_count": 109,
          "metadata": {},
          "output_type": "execute_result"
        }
      ],
      "source": [
        "What \u2190 19 (6 2) 3 (33 26)\n",
        "What \u220a Children"
      ]
    },
    {
      "cell_type": "markdown",
      "metadata": {},
      "source": [
        "The item `(6 2)` of `What` is also an item of `Children`, hence *Membership* gives the answer 1, and the same is true for the value 3.\n",
        "\n",
        "In contrast 19 is only an item of the fifth item of `Children`, it is not an *entire* item of `Children`. Because a non-pervasive function processes each item as a whole, 19 is not the same as (19 14), so the answer is 0. The same goes for (33 26), which is only part of the second item of `Children`."
      ]
    },
    {
      "cell_type": "markdown",
      "metadata": {},
      "source": [
        "### Be Careful With Shape/Type Compatibility\n",
        "\n",
        "It is easy to add a vector of 5 scalar items to `Children`, because each of the 5 scalars can be added to the corresponding item of `Children`:"
      ]
    },
    {
      "cell_type": "code",
      "execution_count": 110,
      "metadata": {},
      "outputs": [
        {
          "data": {
            "text/html": [
              "<span style=\"white-space:pre; font-family: monospace\">\u250c\u2500\u2500\u2500\u2500\u2500\u252c\u2500\u2500\u2500\u2500\u2500\u2500\u2500\u2500\u2500\u2500\u2500\u252c\u2500\u2500\u2500\u2500\u2500\u252c\u2500\u2500\u252c\u2500\u2500\u2500\u2500\u2500\u2510\n",
              "\u250216 12\u250255 53 46 41\u250237 37\u250243\u250269 64\u2502\n",
              "\u2514\u2500\u2500\u2500\u2500\u2500\u2534\u2500\u2500\u2500\u2500\u2500\u2500\u2500\u2500\u2500\u2500\u2500\u2534\u2500\u2500\u2500\u2500\u2500\u2534\u2500\u2500\u2534\u2500\u2500\u2500\u2500\u2500\u2518\n",
              "</span>"
            ]
          },
          "execution_count": 110,
          "metadata": {},
          "output_type": "execute_result"
        }
      ],
      "source": [
        "Children + 10 20 30 40 50"
      ]
    },
    {
      "cell_type": "markdown",
      "metadata": {},
      "source": [
        "But if we try to add a vector of 5 sub-vectors to `Children`, we must ensure that the shape of each sub-vector is compatible with the shape of the corresponding item of `Children`, for example"
      ]
    },
    {
      "cell_type": "code",
      "execution_count": 111,
      "metadata": {},
      "outputs": [
        {
          "data": {
            "text/html": [
              "<span style=\"white-space:pre; font-family: monospace\">\u250c\u2500\u2500\u2500\u2500\u2500\u252c\u2500\u2500\u2500\u2500\u2500\u2500\u2500\u2500\u2500\u2500\u2500\u252c\u2500\u2500\u2500\u252c\u2500\u2500\u2500\u2500\u2500\u2500\u2500\u2500\u2500\u2500\u2500\u252c\u2500\u2500\u2500\u2500\u2500\u2510\n",
              "\u250210 10\u250240 40 30 30\u25028 6\u2502103 203 503\u250233 65\u2502\n",
              "\u2514\u2500\u2500\u2500\u2500\u2500\u2534\u2500\u2500\u2500\u2500\u2500\u2500\u2500\u2500\u2500\u2500\u2500\u2534\u2500\u2500\u2500\u2534\u2500\u2500\u2500\u2500\u2500\u2500\u2500\u2500\u2500\u2500\u2500\u2534\u2500\u2500\u2500\u2500\u2500\u2518\n",
              "</span>"
            ]
          },
          "execution_count": 111,
          "metadata": {},
          "output_type": "execute_result"
        }
      ],
      "source": [
        "Children + (4 8) (5 7 4 9) (1 \u00af1) (100 200 500) (14 51)"
      ]
    },
    {
      "cell_type": "markdown",
      "metadata": {},
      "source": [
        "or"
      ]
    },
    {
      "cell_type": "code",
      "execution_count": 112,
      "metadata": {},
      "outputs": [
        {
          "data": {
            "text/html": [
              "<span style=\"white-space:pre; font-family: monospace\">\u250c\u2500\u2500\u2500\u2500\u2500\u252c\u2500\u2500\u2500\u2500\u2500\u2500\u2500\u2500\u2500\u2500\u2500\u252c\u2500\u2500\u2500\u252c\u2500\u2500\u2500\u2500\u2500\u2500\u2500\u2500\u2500\u2500\u2500\u252c\u2500\u2500\u2500\u2500\u2500\u2500\u2500\u2510\n",
              "\u250210 10\u250235 33 26 21\u25028 6\u2502103 203 503\u2502\u00af81 \u00af86\u2502\n",
              "\u2514\u2500\u2500\u2500\u2500\u2500\u2534\u2500\u2500\u2500\u2500\u2500\u2500\u2500\u2500\u2500\u2500\u2500\u2534\u2500\u2500\u2500\u2534\u2500\u2500\u2500\u2500\u2500\u2500\u2500\u2500\u2500\u2500\u2500\u2534\u2500\u2500\u2500\u2500\u2500\u2500\u2500\u2518\n",
              "</span>"
            ]
          },
          "execution_count": 112,
          "metadata": {},
          "output_type": "execute_result"
        }
      ],
      "source": [
        "Children + (4 8) 0 (1 \u00af1) (100 200 500) \u00af100"
      ]
    },
    {
      "cell_type": "markdown",
      "metadata": {},
      "source": [
        "If there is any incompatibility, a `LENGTH ERROR` is issued:"
      ]
    },
    {
      "cell_type": "code",
      "execution_count": 113,
      "metadata": {},
      "outputs": [
        {
          "name": "stderr",
          "output_type": "stream",
          "text": [
            "LENGTH ERROR: Mismatched left and right argument shapes\n",
            "      Children+(1 2)(2 3)(3 4)(4 5)(5 6)\n",
            "              \u2227\n"
          ]
        }
      ],
      "source": [
        "Children + (1 2)(2 3)(3 4)(4 5)(5 6)"
      ]
    },
    {
      "cell_type": "markdown",
      "metadata": {},
      "source": [
        "All of the items of our vector could have been added to the corresponding items of `Children` except the second one. APL has detected and signalled this error.\n",
        "\n",
        "You must also be careful if a nested or mixed array contains character data; it will not be possible to apply any arithmetic function to the array as a whole."
      ]
    },
    {
      "cell_type": "markdown",
      "metadata": {},
      "source": [
        "### Tally\n",
        "\n",
        "We have seen the dyadic *Match* `\u2261` and *Not Match* `\u2262` functions, and now we will see how we can use their monadic versions to work with (nested) arrays.\n",
        "\n",
        "We mentioned ***Tally*** briefly in the first chapter, which is the monadic use of `\u2262`. ***Tally*** does exactly what its name suggests: it *counts* the amount of items an array has along its first dimension.\n",
        "\n",
        "For a vector, this corresponds to its length:"
      ]
    },
    {
      "cell_type": "code",
      "execution_count": 114,
      "metadata": {
        "scrolled": true
      },
      "outputs": [
        {
          "data": {
            "text/html": [
              "<span style=\"white-space:pre; font-family: monospace\">6\n",
              "</span>"
            ]
          },
          "execution_count": 114,
          "metadata": {},
          "output_type": "execute_result"
        }
      ],
      "source": [
        "\u2262 1 2 3 4 5 6"
      ]
    },
    {
      "cell_type": "code",
      "execution_count": 115,
      "metadata": {},
      "outputs": [
        {
          "data": {
            "text/html": [
              "<span style=\"white-space:pre; font-family: monospace\">2\n",
              "</span>"
            ]
          },
          "execution_count": 115,
          "metadata": {},
          "output_type": "execute_result"
        }
      ],
      "source": [
        "\u2262 'ui'"
      ]
    },
    {
      "cell_type": "markdown",
      "metadata": {},
      "source": [
        "A nested vector is still a vector:"
      ]
    },
    {
      "cell_type": "code",
      "execution_count": 116,
      "metadata": {},
      "outputs": [
        {
          "data": {
            "text/html": [
              "<span style=\"white-space:pre; font-family: monospace\">\u250c\u2500\u2500\u2500\u252c\u2500\u252c\u2500\u2500\u2500\u252c\u2500\u2500\u2500\u2500\u2500\u2500\u2500\u2500\u2500\u2500\u2500\u2510\n",
              "\u25024 5\u2502a\u2502Bag\u2502\u250c\u2500\u2500\u252c\u2500\u2500\u2500\u252c\u2500\u2500\u2510\u2502\n",
              "\u2502   \u2502 \u2502   \u2502\u250235\u2502Cat\u250242\u2502\u2502\n",
              "\u2502   \u2502 \u2502   \u2502\u2514\u2500\u2500\u2534\u2500\u2500\u2500\u2534\u2500\u2500\u2518\u2502\n",
              "\u2514\u2500\u2500\u2500\u2534\u2500\u2534\u2500\u2500\u2500\u2534\u2500\u2500\u2500\u2500\u2500\u2500\u2500\u2500\u2500\u2500\u2500\u2518\n",
              "</span>"
            ]
          },
          "execution_count": 116,
          "metadata": {},
          "output_type": "execute_result"
        }
      ],
      "source": [
        "(4 5) 'a' 'Bag' (35 'Cat' 42)"
      ]
    },
    {
      "cell_type": "code",
      "execution_count": 117,
      "metadata": {
        "scrolled": true
      },
      "outputs": [
        {
          "data": {
            "text/html": [
              "<span style=\"white-space:pre; font-family: monospace\">4\n",
              "</span>"
            ]
          },
          "execution_count": 117,
          "metadata": {},
          "output_type": "execute_result"
        }
      ],
      "source": [
        "\u2262 (4 5) 'a' 'Bag' (35 'Cat' 42)"
      ]
    },
    {
      "cell_type": "markdown",
      "metadata": {},
      "source": [
        "For higher dimensional arrays, *Tally* returns the size of its first dimension:"
      ]
    },
    {
      "cell_type": "code",
      "execution_count": 118,
      "metadata": {},
      "outputs": [
        {
          "data": {
            "text/html": [
              "<span style=\"white-space:pre; font-family: monospace\">3\n",
              "</span>"
            ]
          },
          "execution_count": 118,
          "metadata": {},
          "output_type": "execute_result"
        }
      ],
      "source": [
        "\u2262 3 3\u23749 8 7 6 5 4 3 2 1"
      ]
    },
    {
      "cell_type": "code",
      "execution_count": 119,
      "metadata": {
        "scrolled": true
      },
      "outputs": [
        {
          "data": {
            "text/html": [
              "<span style=\"white-space:pre; font-family: monospace\">2\n",
              "</span>"
            ]
          },
          "execution_count": 119,
          "metadata": {},
          "output_type": "execute_result"
        }
      ],
      "source": [
        "\u2262 2 5 27\u23740"
      ]
    },
    {
      "cell_type": "markdown",
      "metadata": {},
      "source": [
        "### Depth\n",
        "\n",
        "Dyadic `\u2261` and `\u2262` are very closely related, but their monadic versions aren't. The monadic function ***Depth*** `\u2261` helps us work with nested arrays, in that it helps us count how many levels of nesting there are.\n",
        "\n",
        "The result of `\u2261` is really simple to understand. First of all, the depth of a scalar is 0:"
      ]
    },
    {
      "cell_type": "code",
      "execution_count": 120,
      "metadata": {},
      "outputs": [
        {
          "data": {
            "text/html": [
              "<span style=\"white-space:pre; font-family: monospace\">0\n",
              "</span>"
            ]
          },
          "execution_count": 120,
          "metadata": {},
          "output_type": "execute_result"
        }
      ],
      "source": [
        "\u22611"
      ]
    },
    {
      "cell_type": "code",
      "execution_count": 121,
      "metadata": {},
      "outputs": [
        {
          "data": {
            "text/html": [
              "<span style=\"white-space:pre; font-family: monospace\">0\n",
              "</span>"
            ]
          },
          "execution_count": 121,
          "metadata": {},
          "output_type": "execute_result"
        }
      ],
      "source": [
        "\u2261'a'"
      ]
    },
    {
      "cell_type": "code",
      "execution_count": 122,
      "metadata": {},
      "outputs": [
        {
          "data": {
            "text/html": [
              "<span style=\"white-space:pre; font-family: monospace\">0\n",
              "</span>"
            ]
          },
          "execution_count": 122,
          "metadata": {},
          "output_type": "execute_result"
        }
      ],
      "source": [
        "\u22614525324"
      ]
    },
    {
      "cell_type": "markdown",
      "metadata": {},
      "source": [
        "Then, the depth of an array is 1 larger than the depth of its deepest item, or sub-array. For example, a simple vector like `1 2 3 4` only has scalars as items, whose depths are 0, so the depth of the vector will be 1."
      ]
    },
    {
      "cell_type": "code",
      "execution_count": 123,
      "metadata": {},
      "outputs": [
        {
          "data": {
            "text/html": [
              "<span style=\"white-space:pre; font-family: monospace\">1\n",
              "</span>"
            ]
          },
          "execution_count": 123,
          "metadata": {},
          "output_type": "execute_result"
        }
      ],
      "source": [
        "\u22611 2 3 4"
      ]
    },
    {
      "cell_type": "markdown",
      "metadata": {},
      "source": [
        "Now let us consider a nested vector composed of simple vectors like the one we just saw."
      ]
    },
    {
      "cell_type": "code",
      "execution_count": 124,
      "metadata": {},
      "outputs": [
        {
          "data": {
            "text/html": [
              "<span style=\"white-space:pre; font-family: monospace\">\u250c\u2500\u2500\u2500\u2500\u2500\u2500\u2500\u252c\u2500\u2500\u2500\u252c\u2500\u2500\u2500\u2500\u2500\u2500\u2500\u2500\u2510\n",
              "\u25021 2 3 4\u25023 5\u250210 20 30\u2502\n",
              "\u2514\u2500\u2500\u2500\u2500\u2500\u2500\u2500\u2534\u2500\u2500\u2500\u2534\u2500\u2500\u2500\u2500\u2500\u2500\u2500\u2500\u2518\n",
              "</span>"
            ]
          },
          "execution_count": 124,
          "metadata": {},
          "output_type": "execute_result"
        }
      ],
      "source": [
        "\u22a2Nested \u2190 (1 2 3 4) (3 5) (10 20 30)"
      ]
    },
    {
      "cell_type": "markdown",
      "metadata": {},
      "source": [
        "The items of `Nested` are vectors of depth 1, so the depth of `Nested` should be 2:"
      ]
    },
    {
      "cell_type": "code",
      "execution_count": 125,
      "metadata": {},
      "outputs": [
        {
          "data": {
            "text/html": [
              "<span style=\"white-space:pre; font-family: monospace\">2\n",
              "</span>"
            ]
          },
          "execution_count": 125,
          "metadata": {},
          "output_type": "execute_result"
        }
      ],
      "source": [
        "\u2261Nested"
      ]
    },
    {
      "cell_type": "markdown",
      "metadata": {},
      "source": [
        "`\u2261` has one more thing to it: if the nesting of the sub-arrays is not uniform then the result will be negative.\n",
        "\n",
        "For example, `1 2 3 4` has depth 1 and `42` has depth 0, so a vector composed of these two sub-arrays has depth -2:"
      ]
    },
    {
      "cell_type": "code",
      "execution_count": 126,
      "metadata": {},
      "outputs": [
        {
          "data": {
            "text/html": [
              "<span style=\"white-space:pre; font-family: monospace\">\u00af2\n",
              "</span>"
            ]
          },
          "execution_count": 126,
          "metadata": {},
          "output_type": "execute_result"
        }
      ],
      "source": [
        "\u2261(1 2 3 4) 42"
      ]
    },
    {
      "cell_type": "markdown",
      "metadata": {},
      "source": [
        "## Reduction\n",
        "\n",
        "### Presentation\n",
        "\n",
        "A few pages ago we calculated the costs of some purchased goods:"
      ]
    },
    {
      "cell_type": "code",
      "execution_count": 127,
      "metadata": {},
      "outputs": [
        {
          "data": {
            "text/html": [
              "<span style=\"white-space:pre; font-family: monospace\">10.4 11.5 10.8 24 16.9\n",
              "</span>"
            ]
          },
          "execution_count": 127,
          "metadata": {},
          "output_type": "execute_result"
        }
      ],
      "source": [
        "\u22a2Costs \u2190 Price \u00d7 Qty"
      ]
    },
    {
      "cell_type": "markdown",
      "metadata": {},
      "source": [
        "How much did we spend?"
      ]
    },
    {
      "cell_type": "code",
      "execution_count": 128,
      "metadata": {},
      "outputs": [
        {
          "data": {
            "text/html": [
              "<span style=\"white-space:pre; font-family: monospace\">73.6\n",
              "</span>"
            ]
          },
          "execution_count": 128,
          "metadata": {},
          "output_type": "execute_result"
        }
      ],
      "source": [
        "10.4 + 11.5 + 10.8 + 24 + 16.9"
      ]
    },
    {
      "cell_type": "markdown",
      "metadata": {},
      "source": [
        "But writing things out like this is cumbersome and depends on us looking at the scalars in the `Costs` vector. What if the `Price` or the `Qty` changes?\n",
        "\n",
        "Mathematicians are creative people who long ago devised the symbol $\\sum$, always with a pretty collection of indices above and below, that is used to indicate the sum of some numbers. This symbol makes it complex to understand and is difficult to type on a keyboard.\n",
        "\n",
        "In APL, the operation is written like this:"
      ]
    },
    {
      "cell_type": "code",
      "execution_count": 129,
      "metadata": {},
      "outputs": [
        {
          "data": {
            "text/html": [
              "<span style=\"white-space:pre; font-family: monospace\">73.6\n",
              "</span>"
            ]
          },
          "execution_count": 129,
          "metadata": {},
          "output_type": "execute_result"
        }
      ],
      "source": [
        "+/ Costs"
      ]
    },
    {
      "cell_type": "markdown",
      "metadata": {},
      "source": [
        "Simple, isn't it? This expression gives the total of all the items in the vector. You can read this as \"***Plus Reduction***\" of the variable `Costs`.\n",
        "\n",
        "To gain a better understanding of the process:\n",
        "\n",
        "| | |\n",
        "| :- | :- |\n",
        "| When we write an expression such as | `+/ 21 45 18 27 11` |\n",
        "| &nbsp;&nbsp;&nbsp;&nbsp; it works as if we had written | `21 + 45 + 18 + 27 + 11` |\n",
        "| &nbsp;&nbsp;&nbsp;&nbsp; and we obtain the sum | `122` |\n",
        "   \n",
        "In fact, it works as if we had \"inserted\" the symbol `+` between the values.\n",
        "\n",
        "| | |\n",
        "| :- | :- |\n",
        "| So, when we write | `\u00d7/ 21 45 18 27 11` |\n",
        "| &nbsp;&nbsp;&nbsp;&nbsp; it is as if we had written | `21 \u00d7 45 \u00d7 18 \u00d7 27 \u00d7 11` |\n",
        "| &nbsp;&nbsp;&nbsp;&nbsp; so, we get the product | `5051970` |\n",
        "| Similarly, when we write | `\u2308/ 21 45 18 27 11` |\n",
        "| &nbsp;&nbsp;&nbsp;&nbsp; it is as if we had written | `21 \u2308 45 \u2308 18 \u2308 27 \u2308 11` |\n",
        "| &nbsp;&nbsp;&nbsp;&nbsp; so, we obtain the largest item | `45` |\n",
        "\n",
        "And so on...\n",
        "\n",
        "```{admonition} Exercise \n",
        ":class: hint",
        "\n",
        "Try to evaluate the following expression in your head or with pen and paper: `23\u2308 \u2308 \u2308/ 17.81 21.41 9.34 16.53`",
        "",
        "Don't panic! Remember to evaluate it symbol by symbol, from right to left.",
        "```\n"
      ]
    },
    {
      "cell_type": "markdown",
      "metadata": {},
      "source": [
        "### Definition\n",
        "\n",
        "Reduction, represented by the symbol `/`, belongs to a special category of symbols called ***Operators***.\n",
        "\n",
        "In most programming languages the word *operator* is used to describe operations like addition, subtraction, multiplication, and so on. In APL such operations are called *Functions*; typical examples are `+`, `-`, `\u00d7` and `\u2374`. The word *operator* has a separate meaning in APL.\n",
        "\n",
        "In APL a ***function*** works on an **array** or between two arrays to produce a result:"
      ]
    },
    {
      "cell_type": "code",
      "execution_count": 130,
      "metadata": {},
      "outputs": [
        {
          "data": {
            "text/html": [
              "<span style=\"white-space:pre; font-family: monospace\">10.4 11.5 10.8 24 16.9\n",
              "</span>"
            ]
          },
          "execution_count": 130,
          "metadata": {},
          "output_type": "execute_result"
        }
      ],
      "source": [
        "Price \u00d7 Qty"
      ]
    },
    {
      "cell_type": "markdown",
      "metadata": {},
      "source": [
        "Whereas an ***operator*** applies to one or two ***operands*** (its \"arguments\") to produce what we call a *derived function*. That is, after we use the *operator* on its *operands*, we get a (derived) function which may then be used with an array, or between two arrays, to produce a result:"
      ]
    },
    {
      "cell_type": "code",
      "execution_count": 131,
      "metadata": {},
      "outputs": [
        {
          "data": {
            "text/html": [
              "<span style=\"white-space:pre; font-family: monospace\">  /\n",
              "\u250c\u2500\u2518\n",
              "+  \n",
              "</span>"
            ]
          },
          "execution_count": 131,
          "metadata": {},
          "output_type": "execute_result"
        }
      ],
      "source": [
        "+/"
      ]
    },
    {
      "cell_type": "markdown",
      "metadata": {},
      "source": [
        "This is the representation APL gives to the *Plus Reduction*, where the tree-like structure shows that `+` is an operand to `/`. We may then use this derived function with an array in order to get a result:"
      ]
    },
    {
      "cell_type": "code",
      "execution_count": 132,
      "metadata": {},
      "outputs": [
        {
          "data": {
            "text/html": [
              "<span style=\"white-space:pre; font-family: monospace\">14\n",
              "</span>"
            ]
          },
          "execution_count": 132,
          "metadata": {},
          "output_type": "execute_result"
        }
      ],
      "source": [
        "\u22a2Stock \u2190 +/ Qty"
      ]
    },
    {
      "cell_type": "markdown",
      "metadata": {},
      "source": [
        "In the expression above, the symbol `/` is the operator. It takes the function `+` as its single operand (\"argument\") and produces the derived function `+/`. This derived function is then applied to `Qty`, giving a result which is assigned to `Stock` and displayed with `\u22a2`.\n",
        "\n",
        "Please note that the argument to a monadic function is always to the right of the function, whereas the function applied to a monadic operator (its operand) is always to the left of the operator.\n",
        "\n",
        "Many, although not all, of the APL primitive functions may be used as the operand to *Reduction*; you can even apply a user-defined function. This generality makes Reduction, and other operators, extremely powerful.\n",
        "\n",
        "Dyalog APL provides a total of around 20 such powerful *operators*, listed in Appendix 4. It is also possible to write your own operators, just as it is possible to write your own functions."
      ]
    },
    {
      "cell_type": "markdown",
      "metadata": {},
      "source": [
        "### Reduction of Binary Data\n",
        "\n",
        "Among the typical usages of *Reduction* are `\u2227` and `\u2228` applied to binary data.\n",
        "\n",
        " - `\u2227/ Bin` gives the result `1` if ***All*** the items of `Bin` are equal to 1;\n",
        " - `\u2228/ Bin` gives the result `1` if ***At least one*** of the items of `Bin` is equal to 1;\n",
        " - `+/ Bin` tells us ***How many*** items of `Bin` are equal to 1.\n",
        " \n",
        "You can verify it on some small examples:"
      ]
    },
    {
      "cell_type": "code",
      "execution_count": 133,
      "metadata": {},
      "outputs": [
        {
          "data": {
            "text/html": [
              "<span style=\"white-space:pre; font-family: monospace\">1 1 1 0 1 0 1\n",
              "</span>"
            ]
          },
          "execution_count": 133,
          "metadata": {},
          "output_type": "execute_result"
        }
      ],
      "source": [
        "\u22a2Bin \u2190 1 1 1 0 1 0 1"
      ]
    },
    {
      "cell_type": "code",
      "execution_count": 134,
      "metadata": {},
      "outputs": [
        {
          "data": {
            "text/html": [
              "<span style=\"white-space:pre; font-family: monospace\">0\n",
              "</span>"
            ]
          },
          "execution_count": 134,
          "metadata": {},
          "output_type": "execute_result"
        }
      ],
      "source": [
        "\u2227/ Bin"
      ]
    },
    {
      "cell_type": "code",
      "execution_count": 135,
      "metadata": {},
      "outputs": [
        {
          "data": {
            "text/html": [
              "<span style=\"white-space:pre; font-family: monospace\">1\n",
              "</span>"
            ]
          },
          "execution_count": 135,
          "metadata": {},
          "output_type": "execute_result"
        }
      ],
      "source": [
        "\u2228/ Bin"
      ]
    },
    {
      "cell_type": "code",
      "execution_count": 136,
      "metadata": {},
      "outputs": [
        {
          "data": {
            "text/html": [
              "<span style=\"white-space:pre; font-family: monospace\">5\n",
              "</span>"
            ]
          },
          "execution_count": 136,
          "metadata": {},
          "output_type": "execute_result"
        }
      ],
      "source": [
        "+/ Bin"
      ]
    },
    {
      "cell_type": "code",
      "execution_count": 137,
      "metadata": {},
      "outputs": [
        {
          "data": {
            "text/html": [
              "<span style=\"white-space:pre; font-family: monospace\">1 1 1 1 1 1 1\n",
              "</span>"
            ]
          },
          "execution_count": 137,
          "metadata": {},
          "output_type": "execute_result"
        }
      ],
      "source": [
        "\u22a2AllOnes \u2190 1\u2228Bin"
      ]
    },
    {
      "cell_type": "code",
      "execution_count": 138,
      "metadata": {},
      "outputs": [
        {
          "data": {
            "text/html": [
              "<span style=\"white-space:pre; font-family: monospace\">1\n",
              "</span>"
            ]
          },
          "execution_count": 138,
          "metadata": {},
          "output_type": "execute_result"
        }
      ],
      "source": [
        "\u2227/ AllOnes"
      ]
    },
    {
      "cell_type": "markdown",
      "metadata": {},
      "source": [
        "Let us revisit the vector named `Contents`, from the chapter on \"Data and Variables\":"
      ]
    },
    {
      "cell_type": "code",
      "execution_count": 139,
      "metadata": {},
      "outputs": [
        {
          "data": {
            "text/html": [
              "<span style=\"white-space:pre; font-family: monospace\">12 56 78 74 85 96 30 22 44 66 82 27\n",
              "</span>"
            ]
          },
          "execution_count": 139,
          "metadata": {},
          "output_type": "execute_result"
        }
      ],
      "source": [
        "\u22a2Contents \u2190 12 56 78 74 85 96 30 22 44 66 82 27"
      ]
    },
    {
      "cell_type": "markdown",
      "metadata": {},
      "source": [
        "Now we will answer some questions about the values of the items of `Contents`:\n",
        "\n",
        "Are all the values greater than 20?"
      ]
    },
    {
      "cell_type": "code",
      "execution_count": 140,
      "metadata": {},
      "outputs": [
        {
          "data": {
            "text/html": [
              "<span style=\"white-space:pre; font-family: monospace\">0\n",
              "</span>"
            ]
          },
          "execution_count": 140,
          "metadata": {},
          "output_type": "execute_result"
        }
      ],
      "source": [
        "\u2227/ Contents > 20"
      ]
    },
    {
      "cell_type": "markdown",
      "metadata": {},
      "source": [
        "The answer is no.\n",
        "\n",
        "Is there at least one value smaller than 30?"
      ]
    },
    {
      "cell_type": "code",
      "execution_count": 141,
      "metadata": {},
      "outputs": [
        {
          "data": {
            "text/html": [
              "<span style=\"white-space:pre; font-family: monospace\">1\n",
              "</span>"
            ]
          },
          "execution_count": 141,
          "metadata": {},
          "output_type": "execute_result"
        }
      ],
      "source": [
        "\u2228/ Contents < 30"
      ]
    },
    {
      "cell_type": "markdown",
      "metadata": {},
      "source": [
        "The answer is yes.\n",
        "\n",
        "How many values are smaller than 30?"
      ]
    },
    {
      "cell_type": "code",
      "execution_count": 142,
      "metadata": {},
      "outputs": [
        {
          "data": {
            "text/html": [
              "<span style=\"white-space:pre; font-family: monospace\">3\n",
              "</span>"
            ]
          },
          "execution_count": 142,
          "metadata": {},
          "output_type": "execute_result"
        }
      ],
      "source": [
        "+/ Contents < 30"
      ]
    },
    {
      "cell_type": "markdown",
      "metadata": {},
      "source": [
        "The answer is 3."
      ]
    },
    {
      "cell_type": "markdown",
      "metadata": {},
      "source": [
        "### Reduction of Nested Arrays\n",
        "\n",
        "When you apply reduction to a nested array, you must check that the items of the nested array are compatible (in shape and type) with the function that you intend to apply:"
      ]
    },
    {
      "cell_type": "code",
      "execution_count": 143,
      "metadata": {},
      "outputs": [
        {
          "data": {
            "text/html": [
              "<span style=\"white-space:pre; font-family: monospace\">\u250c\u2500\u2500\u2500\u2500\u2500\u2510\n",
              "\u250224 27\u2502\n",
              "\u2514\u2500\u2500\u2500\u2500\u2500\u2518\n",
              "</span>"
            ]
          },
          "execution_count": 143,
          "metadata": {},
          "output_type": "execute_result"
        }
      ],
      "source": [
        "+/ (4 8) (1 4) 10 (9 5)"
      ]
    },
    {
      "cell_type": "markdown",
      "metadata": {},
      "source": [
        "The expression above works because all 2-item vectors can be added together, and a single scalar (the 10) can be added to an array of any shape, because `+` is a scalar function.\n",
        "\n",
        "Notice, however, that in the expression below the 3-item vector cannot be added to the other 2-item vectors, so APL reports an error:"
      ]
    },
    {
      "cell_type": "code",
      "execution_count": 144,
      "metadata": {},
      "outputs": [
        {
          "name": "stderr",
          "output_type": "stream",
          "text": [
            "LENGTH ERROR: Mismatched left and right argument shapes\n",
            "      +/(4 8)(1 4)(1 2 3)(9 5)\n",
            "      \u2227\n"
          ]
        }
      ],
      "source": [
        "+/ (4 8) (1 4) (1 2 3) (9 5)"
      ]
    },
    {
      "cell_type": "markdown",
      "metadata": {},
      "source": [
        "### Reduction With Non Commutative Functions\n",
        "\n",
        "Another thing to be careful about is the use of reduction with non commutative functions, like `-` or `\u00f7`. Reducing an array by such a function yields results which may be counter-intuitive, but which may nevertheless be useful in a number of applications.\n",
        "\n",
        "For example, remember that"
      ]
    },
    {
      "cell_type": "code",
      "execution_count": 145,
      "metadata": {},
      "outputs": [
        {
          "data": {
            "text/html": [
              "<span style=\"white-space:pre; font-family: monospace\">50\n",
              "</span>"
            ]
          },
          "execution_count": 145,
          "metadata": {},
          "output_type": "execute_result"
        }
      ],
      "source": [
        "-/ 45 9 11 2 5"
      ]
    },
    {
      "cell_type": "markdown",
      "metadata": {},
      "source": [
        "is equivalent to"
      ]
    },
    {
      "cell_type": "code",
      "execution_count": 146,
      "metadata": {},
      "outputs": [
        {
          "data": {
            "text/html": [
              "<span style=\"white-space:pre; font-family: monospace\">50\n",
              "</span>"
            ]
          },
          "execution_count": 146,
          "metadata": {},
          "output_type": "execute_result"
        }
      ],
      "source": [
        "45 - 9 - 11 - 2 - 5"
      ]
    },
    {
      "cell_type": "markdown",
      "metadata": {},
      "source": [
        "which, by APL's order of evaluation is equivalent to:"
      ]
    },
    {
      "cell_type": "code",
      "execution_count": 147,
      "metadata": {},
      "outputs": [
        {
          "data": {
            "text/html": [
              "<span style=\"white-space:pre; font-family: monospace\">50\n",
              "</span>"
            ]
          },
          "execution_count": 147,
          "metadata": {},
          "output_type": "execute_result"
        }
      ],
      "source": [
        "45 - (9 - (11 - (2 - 5)))"
      ]
    },
    {
      "cell_type": "markdown",
      "metadata": {},
      "source": [
        "If, instead, we use the traditional mathematical convention that interprets\n",
        "\n",
        "$$45 - 9 - 11 - 2 - 5$$\n",
        "\n",
        "as\n",
        "\n",
        "$$(((45 - 9) - 11) - 2) - 5$$\n",
        "\n",
        "we get the result 18.\n",
        "\n",
        "This kind of \"alternating series\" can be useful for some calculations, although only rarely for business applications."
      ]
    },
    {
      "cell_type": "markdown",
      "metadata": {},
      "source": [
        "### Application 1\n",
        "\n",
        "The employees of a company are divided into three hierarchical categories, denoted simply 1, 2 and 3. Two variables contain the salaries and the categories of these employees; we define them below and then use `\u2374` to show some of their initial values:"
      ]
    },
    {
      "cell_type": "code",
      "execution_count": 148,
      "metadata": {},
      "outputs": [
        {
          "data": {
            "text/html": [
              "<span style=\"white-space:pre; font-family: monospace\">2121 4778 4914 3139 4561 221 1252 1530 4475 332\n",
              "</span>"
            ]
          },
          "execution_count": 148,
          "metadata": {},
          "output_type": "execute_result"
        }
      ],
      "source": [
        "\u2395RL \u2190 73\n",
        "Salaries \u2190 ?100\u23745000\n",
        "10\u2374Salaries"
      ]
    },
    {
      "cell_type": "code",
      "execution_count": 149,
      "metadata": {},
      "outputs": [
        {
          "data": {
            "text/html": [
              "<span style=\"white-space:pre; font-family: monospace\">1 2 2 2 3 3 1 1 1 1\n",
              "</span>"
            ]
          },
          "execution_count": 149,
          "metadata": {},
          "output_type": "execute_result"
        }
      ],
      "source": [
        "\u2395RL \u2190 73\n",
        "Categories \u2190 ?100\u23743\n",
        "10\u2374Categories"
      ]
    },
    {
      "cell_type": "markdown",
      "metadata": {},
      "source": [
        "We can see the salaries of the first three employees are, respectively, 2121, 4778 and 4914 (of some currency) and their respective categories are 1, 2 and 2.\n",
        "\n",
        "With what we learned in the section about \"Reduction of Binary Data\" we can also find out how many employees belong in the third category:"
      ]
    },
    {
      "cell_type": "code",
      "execution_count": 150,
      "metadata": {},
      "outputs": [
        {
          "data": {
            "text/html": [
              "<span style=\"white-space:pre; font-family: monospace\">32\n",
              "</span>"
            ]
          },
          "execution_count": 150,
          "metadata": {},
          "output_type": "execute_result"
        }
      ],
      "source": [
        "+/ Categories = 3"
      ]
    },
    {
      "cell_type": "markdown",
      "metadata": {},
      "source": [
        "Now the employees ask for an increase in their salaries. Each category of employee requests a different percentage increase, as shown in the following table:\n",
        "\n",
        "| Category | Upgrade |\n",
        "| :-: | :-: |\n",
        "| 1 | 8% |\n",
        "| 2 | 5% |\n",
        "| 3 | 2% |\n",
        "\n",
        "How much is that going to cost the company?\n",
        "\n",
        "Let us just create a variable containing the three rates shown above:"
      ]
    },
    {
      "cell_type": "code",
      "execution_count": 151,
      "metadata": {},
      "outputs": [
        {
          "data": {
            "text/html": [
              "<span style=\"white-space:pre; font-family: monospace\">0.08 0.05 0.02\n",
              "</span>"
            ]
          },
          "execution_count": 151,
          "metadata": {},
          "output_type": "execute_result"
        }
      ],
      "source": [
        "\u22a2Rates \u2190 8 5 2 \u00f7 100"
      ]
    },
    {
      "cell_type": "markdown",
      "metadata": {},
      "source": [
        "The first employee is in category 1, so the rate that applies to this person is"
      ]
    },
    {
      "cell_type": "code",
      "execution_count": 152,
      "metadata": {},
      "outputs": [
        {
          "data": {
            "text/html": [
              "<span style=\"white-space:pre; font-family: monospace\">0.08\n",
              "</span>"
            ]
          },
          "execution_count": 152,
          "metadata": {},
          "output_type": "execute_result"
        }
      ],
      "source": [
        "Rates[1]"
      ]
    },
    {
      "cell_type": "markdown",
      "metadata": {},
      "source": [
        "More generally, the rates applied to all of our employees can easily be obtained with `Rates[Categories]`:"
      ]
    },
    {
      "cell_type": "code",
      "execution_count": 153,
      "metadata": {},
      "outputs": [
        {
          "data": {
            "text/html": [
              "<span style=\"white-space:pre; font-family: monospace\">0.08 0.05 0.05 0.05 0.02 0.02 0.08 0.08 0.08 0.08\n",
              "</span>"
            ]
          },
          "execution_count": 153,
          "metadata": {},
          "output_type": "execute_result"
        }
      ],
      "source": [
        "10\u2374Rates[Categories]"
      ]
    },
    {
      "cell_type": "markdown",
      "metadata": {},
      "source": [
        "Having the rates, we only have to multiply them by the salaries to obtain the individual increases:"
      ]
    },
    {
      "cell_type": "code",
      "execution_count": 154,
      "metadata": {},
      "outputs": [
        {
          "data": {
            "text/html": [
              "<span style=\"white-space:pre; font-family: monospace\">169.68 238.9 245.7 156.95 91.22 4.42 100.16 122.4 358 26.56\n",
              "</span>"
            ]
          },
          "execution_count": 154,
          "metadata": {},
          "output_type": "execute_result"
        }
      ],
      "source": [
        "10\u2374 Salaries \u00d7 Rates[Categories]"
      ]
    },
    {
      "cell_type": "markdown",
      "metadata": {},
      "source": [
        "Finally, by adding them all together, we discover how much it will cost the company:"
      ]
    },
    {
      "cell_type": "code",
      "execution_count": 155,
      "metadata": {},
      "outputs": [
        {
          "data": {
            "text/html": [
              "<span style=\"white-space:pre; font-family: monospace\">12070.6\n",
              "</span>"
            ]
          },
          "execution_count": 155,
          "metadata": {},
          "output_type": "execute_result"
        }
      ],
      "source": [
        "+/ Salaries \u00d7 Rates[Categories]"
      ]
    },
    {
      "cell_type": "markdown",
      "metadata": {},
      "source": [
        "Note that:\n",
        "\n",
        " - the expression remains valid regardless of the number of employees or categories;\n",
        " - the result has been obtained without writing a program (no loops, no tests);\n",
        " - this expression can be phrased in the simplest possible English, namely:\n",
        " \n",
        " > *Sum the Salaries multiplied by Rates according to Categories*\n",
        " \n",
        "This illustrates how the implementation of a solution in APL can be very close to the way that the solution would be expressed in everyday language. It also shows the advantage of not having to deal with trivial and \"irrelevant\" matters such as looping, memory allocation, declarations, etc. before a working solution can be developed."
      ]
    },
    {
      "cell_type": "markdown",
      "metadata": {},
      "source": [
        "### Application 2\n",
        "\n",
        "Imagine now that we want to calculate the average of a set of values, for example the values contained in the variable `Contents`.\n",
        "\n",
        "To do that, we must:\n",
        "\n",
        " - add all the values:"
      ]
    },
    {
      "cell_type": "code",
      "execution_count": 156,
      "metadata": {},
      "outputs": [
        {
          "data": {
            "text/html": [
              "<span style=\"white-space:pre; font-family: monospace\">672\n",
              "</span>"
            ]
          },
          "execution_count": 156,
          "metadata": {},
          "output_type": "execute_result"
        }
      ],
      "source": [
        "+/ Contents"
      ]
    },
    {
      "cell_type": "markdown",
      "metadata": {},
      "source": [
        " - count how many values we have:"
      ]
    },
    {
      "cell_type": "code",
      "execution_count": 157,
      "metadata": {},
      "outputs": [
        {
          "data": {
            "text/html": [
              "<span style=\"white-space:pre; font-family: monospace\">12\n",
              "</span>"
            ]
          },
          "execution_count": 157,
          "metadata": {},
          "output_type": "execute_result"
        }
      ],
      "source": [
        "\u2262Contents"
      ]
    },
    {
      "cell_type": "markdown",
      "metadata": {},
      "source": [
        " - divide one by the other:"
      ]
    },
    {
      "cell_type": "code",
      "execution_count": 158,
      "metadata": {},
      "outputs": [
        {
          "data": {
            "text/html": [
              "<span style=\"white-space:pre; font-family: monospace\">56\n",
              "</span>"
            ]
          },
          "execution_count": 158,
          "metadata": {},
          "output_type": "execute_result"
        }
      ],
      "source": [
        "(+/Contents) \u00f7 (\u2262Contents)"
      ]
    },
    {
      "cell_type": "markdown",
      "metadata": {},
      "source": [
        "The result is 56.\n",
        "\n",
        "Again, because of APL's simple rule for the order of evaluation, the rightmost set of parentheses could be omitted."
      ]
    },
    {
      "cell_type": "markdown",
      "metadata": {},
      "source": [
        "## Axis Specification\n",
        "\n",
        "### Totals in an Array\n",
        "\n",
        "#### Processing Arrays\n",
        "\n",
        "We have seen the result of applying reduction to vectors, but what about matrices and higher rank arrays?\n",
        "\n",
        "As an example, let us recall the array `Prod`. Its three dimensions represent respectively:\n",
        "\n",
        " 1. 5 years;\n",
        " 2. 2 assembly lines;\n",
        " 3. 12 months."
      ]
    },
    {
      "cell_type": "code",
      "execution_count": 159,
      "metadata": {},
      "outputs": [
        {
          "data": {
            "text/html": [
              "<span style=\"white-space:pre; font-family: monospace\"> 9 16 42 50  2  3 11 45 17 37 29 36\n",
              "34 19 32 12 37 15 46 24 49 28 36  9\n",
              "                                   \n",
              "29  5 45 23 27  4 23 16 39 22 22  2\n",
              "46 20 47 17 18 25 13 38 42 38 45 28\n",
              "                                   \n",
              "37 19  5 10 30 49 16 18 46 47 47  3\n",
              "39 23 41 20  6 40 21 22 40 49 20  1\n",
              "                                   \n",
              "13 36 12 40 12 15 24 20 21 12 19 25\n",
              " 8 48 22 37 33  1 39 30 50 50  8 35\n",
              "                                   \n",
              "38 31 24 40 23  7 20 34 35  6 19 27\n",
              "41  1 14 50 17 42  6 35 12 48 30 29\n",
              "</span>"
            ]
          },
          "execution_count": 159,
          "metadata": {},
          "output_type": "execute_result"
        }
      ],
      "source": [
        "\u2395RL \u2190 73\n",
        "\u22a2Prod \u2190 ?5 2 12\u237450"
      ]
    },
    {
      "cell_type": "markdown",
      "metadata": {},
      "source": [
        "We can calculate totals along any of these 3 dimensions: years, lines and months.\n",
        "\n",
        "We specify the dimension (or ***Axis***) between brackets after the *Reduction* symbol:\n",
        "\n",
        "```\n",
        "+/[Axis] Prod\n",
        "```\n",
        "\n",
        "###### I don't like this sentence:\n",
        "\n",
        "For example, suppose we want to calculate the total production for the five years. Years are represented by the 1st dimension of `Prod`, so we write:"
      ]
    },
    {
      "cell_type": "code",
      "execution_count": 160,
      "metadata": {},
      "outputs": [
        {
          "data": {
            "text/html": [
              "<span style=\"white-space:pre; font-family: monospace\">126 107 128 163  94  78  94 133 158 124 136  93\n",
              "168 111 156 136 111 123 125 149 193 213 139 102\n",
              "</span>"
            ]
          },
          "execution_count": 160,
          "metadata": {},
          "output_type": "execute_result"
        }
      ],
      "source": [
        "+/[1] Prod"
      ]
    },
    {
      "cell_type": "markdown",
      "metadata": {},
      "source": [
        "We obtain a 2 by 12 matrix, giving the production of the 2 assembly lines, month by month.\n",
        "\n",
        "Now, let us add up the production numbers of the two assembly lines. Lines are represented by the 2nd dimension of `Prod`, so we write:"
      ]
    },
    {
      "cell_type": "code",
      "execution_count": 161,
      "metadata": {},
      "outputs": [
        {
          "data": {
            "text/html": [
              "<span style=\"white-space:pre; font-family: monospace\">43 35 74 62 39 18 57 69 66 65 65 45\n",
              "75 25 92 40 45 29 36 54 81 60 67 30\n",
              "76 42 46 30 36 89 37 40 86 96 67  4\n",
              "21 84 34 77 45 16 63 50 71 62 27 60\n",
              "79 32 38 90 40 49 26 69 47 54 49 56\n",
              "</span>"
            ]
          },
          "execution_count": 161,
          "metadata": {},
          "output_type": "execute_result"
        }
      ],
      "source": [
        "+/[2] Prod"
      ]
    },
    {
      "cell_type": "markdown",
      "metadata": {},
      "source": [
        "We obtain a 5 by 12 matrix, with the total production of both assembly lines, month by month, in each of the 5 years.\n",
        "\n",
        "And finally, let us calculate the annual production of each assembly line. Months are represented by the 3rd dimension of `Prod`, so we write:"
      ]
    },
    {
      "cell_type": "code",
      "execution_count": 162,
      "metadata": {},
      "outputs": [
        {
          "data": {
            "text/html": [
              "<span style=\"white-space:pre; font-family: monospace\">297 341\n",
              "257 377\n",
              "327 322\n",
              "249 361\n",
              "304 325\n",
              "</span>"
            ]
          },
          "execution_count": 162,
          "metadata": {},
          "output_type": "execute_result"
        }
      ],
      "source": [
        "+/[3] Prod"
      ]
    },
    {
      "cell_type": "markdown",
      "metadata": {},
      "source": [
        "The result is a 5 by 2 matrix, in which the columns contain the annual production of the two assembly lines in each of the five years."
      ]
    },
    {
      "cell_type": "markdown",
      "metadata": {},
      "source": [
        "#### Axis Is Like an Operator\n",
        "\n",
        "The dimension specified within brackets is the axis along which the function is applied.\n",
        "\n",
        "This produces a derived function, and for this reason, the pair of *Axis* brackets is often called the ***Axis Operator***.\n",
        "\n",
        "The syntax for *Axis* does not quite follow the general syntax for operators, but it shares all other properties with genuine operators. *Axis* takes a function as its left operand (the derived function `+/` in the last example above), the dimension specification as its \"right operand\" (3 in the example), and produces a derived function, which is applied to `Prod` to calculate the annual sums.\n",
        "\n",
        "Viewed as an operator *Axis* is therefore dyadic. It is, however, important to emphasise that its \"right\" argument is not `Prod`, it is the expression within the brackets. This is the first example of an operator that takes an array as an operand. We will find some more as we explore operators later on."
      ]
    },
    {
      "cell_type": "markdown",
      "metadata": {},
      "source": [
        "#### Processing Arrays\n",
        "\n",
        "We shall learn more about *Axis* in the \"Operators\" chapter; let us first explore another simple use of this operator.\n",
        "\n",
        "Suppose that we would like to multiply each of the rows (or columns) of a matrix by different values; we can use *Axis* to specify whether we multiply row-wise or column-wise. First, here is a matrix:"
      ]
    },
    {
      "cell_type": "code",
      "execution_count": 163,
      "metadata": {},
      "outputs": [
        {
          "data": {
            "text/html": [
              "<span style=\"white-space:pre; font-family: monospace\">9 2 2 3 1\n",
              "5 4 2 3 3\n",
              "5 8 4 1 4\n",
              "</span>"
            ]
          },
          "execution_count": 163,
          "metadata": {},
          "output_type": "execute_result"
        }
      ],
      "source": [
        "\u2395RL \u2190 73\n",
        "\u22a2Tam \u2190 ?3 5\u23749"
      ]
    },
    {
      "cell_type": "markdown",
      "metadata": {},
      "source": [
        "Let us multiply row-wise:"
      ]
    },
    {
      "cell_type": "code",
      "execution_count": 164,
      "metadata": {},
      "outputs": [
        {
          "data": {
            "text/html": [
              "<span style=\"white-space:pre; font-family: monospace\">45 10 10 15  5\n",
              "10  8  4  6  6\n",
              "50 80 40 10 40\n",
              "</span>"
            ]
          },
          "execution_count": 164,
          "metadata": {},
          "output_type": "execute_result"
        }
      ],
      "source": [
        "Tam\u00d7[1]5 2 10"
      ]
    },
    {
      "cell_type": "markdown",
      "metadata": {},
      "source": [
        "And now column-wise:"
      ]
    },
    {
      "cell_type": "code",
      "execution_count": 165,
      "metadata": {},
      "outputs": [
        {
          "data": {
            "text/html": [
              "<span style=\"white-space:pre; font-family: monospace\">18 10 0 6 1\n",
              "10 20 0 6 3\n",
              "10 40 0 2 4\n",
              "</span>"
            ]
          },
          "execution_count": 165,
          "metadata": {},
          "output_type": "execute_result"
        }
      ],
      "source": [
        "Tam\u00d7[2]2 5 0 2 1"
      ]
    },
    {
      "cell_type": "markdown",
      "metadata": {},
      "source": [
        "### The Shape of the Result\n",
        "\n",
        "The dimensions of `Prod` are"
      ]
    },
    {
      "cell_type": "code",
      "execution_count": 166,
      "metadata": {},
      "outputs": [
        {
          "data": {
            "text/html": [
              "<span style=\"white-space:pre; font-family: monospace\">5 2 12\n",
              "</span>"
            ]
          },
          "execution_count": 166,
          "metadata": {},
          "output_type": "execute_result"
        }
      ],
      "source": [
        "\u2374Prod"
      ]
    },
    {
      "cell_type": "markdown",
      "metadata": {},
      "source": [
        "and we can see that the dimensions of `+/[1]Prod`, `+/[2]Prod` and `+/[3]Prod` depend on this shape. In fact, when the axis is 1, the shape of the result is the original shape without the 1st item:"
      ]
    },
    {
      "cell_type": "code",
      "execution_count": 167,
      "metadata": {},
      "outputs": [
        {
          "data": {
            "text/html": [
              "<span style=\"white-space:pre; font-family: monospace\">2 12\n",
              "</span>"
            ]
          },
          "execution_count": 167,
          "metadata": {},
          "output_type": "execute_result"
        }
      ],
      "source": [
        "\u2374+/[1]Prod"
      ]
    },
    {
      "cell_type": "markdown",
      "metadata": {},
      "source": [
        "When the axis is 2, the shape of the result is the original shape without the 2nd item:"
      ]
    },
    {
      "cell_type": "code",
      "execution_count": 168,
      "metadata": {},
      "outputs": [
        {
          "data": {
            "text/html": [
              "<span style=\"white-space:pre; font-family: monospace\">5 12\n",
              "</span>"
            ]
          },
          "execution_count": 168,
          "metadata": {},
          "output_type": "execute_result"
        }
      ],
      "source": [
        "\u2374+/[2]Prod"
      ]
    },
    {
      "cell_type": "markdown",
      "metadata": {},
      "source": [
        "And when the axis is 3, the shape of the result is the original shape without the 3rd item:"
      ]
    },
    {
      "cell_type": "code",
      "execution_count": 169,
      "metadata": {},
      "outputs": [
        {
          "data": {
            "text/html": [
              "<span style=\"white-space:pre; font-family: monospace\">5 2\n",
              "</span>"
            ]
          },
          "execution_count": 169,
          "metadata": {},
          "output_type": "execute_result"
        }
      ],
      "source": [
        "\u2374+/[3]Prod"
      ]
    },
    {
      "cell_type": "markdown",
      "metadata": {},
      "source": [
        "You can see that *Reduction* of a 3-D array gives a 2-D array, in which the summed dimension has \"disappeared\". This is the origin of the term \"*Reduction*\"; it *reduces* the *rank* of the array.\n",
        "\n",
        "This rule will help you predict the dimensions of the result of a reduction.\n",
        "\n",
        "```{admonition} Rule \n",
        ":class: tip",
        "\n",
        "When ***Reduction*** is applied along the Nth dimension of an array, the shape of the result is the same shape of the array, but without its Nth item.",
        "",
        "The ***Rank*** of the result is 1 less than the rank of the original array.",
        "```\n",
        "\n",
        "Whenever you want to calculate the sum along a particular dimension of an array, think of the dimensions in terms of concrete things: years, lines, months, etc. This should help you."
      ]
    },
    {
      "cell_type": "markdown",
      "metadata": {},
      "source": [
        "### Special Notations\n",
        "\n",
        "By default, if no axis is specified, reduction is applied along the **last** dimension of the array.\n",
        "\n",
        "This means `+/Prod` and `+/[3]Prod` are the same,"
      ]
    },
    {
      "cell_type": "code",
      "execution_count": 170,
      "metadata": {},
      "outputs": [
        {
          "data": {
            "text/html": [
              "<span style=\"white-space:pre; font-family: monospace\">1\n",
              "</span>"
            ]
          },
          "execution_count": 170,
          "metadata": {},
          "output_type": "execute_result"
        }
      ],
      "source": [
        "(+/Prod)\u2261(+/[3]Prod)"
      ]
    },
    {
      "cell_type": "markdown",
      "metadata": {},
      "source": [
        "much like `+/Forecast` and `+/[2]Forecast` are the same:"
      ]
    },
    {
      "cell_type": "code",
      "execution_count": 171,
      "metadata": {},
      "outputs": [
        {
          "data": {
            "text/html": [
              "<span style=\"white-space:pre; font-family: monospace\">1\n",
              "</span>"
            ]
          },
          "execution_count": 171,
          "metadata": {},
          "output_type": "execute_result"
        }
      ],
      "source": [
        "(+/Forecast)\u2261(+/[2]Forecast)"
      ]
    },
    {
      "cell_type": "markdown",
      "metadata": {},
      "source": [
        "But it is also common to work along the first dimension of an array. For this reason, APL includes a special symbol for reduction along the first dimension: `\u233f` (you can type it with <kbd>APL</kbd>+<kbd>/</kbd>).\n",
        "\n",
        "This means `+\u233fProd` and `+/[1]Prod` are the same,"
      ]
    },
    {
      "cell_type": "code",
      "execution_count": 172,
      "metadata": {},
      "outputs": [
        {
          "data": {
            "text/html": [
              "<span style=\"white-space:pre; font-family: monospace\">1\n",
              "</span>"
            ]
          },
          "execution_count": 172,
          "metadata": {},
          "output_type": "execute_result"
        }
      ],
      "source": [
        "(+\u233fProd)\u2261(+/[1]Prod)"
      ]
    },
    {
      "cell_type": "markdown",
      "metadata": {},
      "source": [
        "much like `+\u233fForecast` and `+/[1]Forecast` are the same:"
      ]
    },
    {
      "cell_type": "code",
      "execution_count": 173,
      "metadata": {},
      "outputs": [
        {
          "data": {
            "text/html": [
              "<span style=\"white-space:pre; font-family: monospace\">1\n",
              "</span>"
            ]
          },
          "execution_count": 173,
          "metadata": {},
          "output_type": "execute_result"
        }
      ],
      "source": [
        "(+\u233fForecast)\u2261(+/[1]Forecast)"
      ]
    },
    {
      "cell_type": "markdown",
      "metadata": {},
      "source": [
        "```{admonition} Note \n",
        ":class: note",
        "\n",
        "If one specifies an axis after the symbol `/` or `\u233f`, the function is applied along the specified *Axis*, regardless of the symbol that is actually used.",
        "```\n",
        "\n",
        "We demonstrate this note with two examples:"
      ]
    },
    {
      "cell_type": "code",
      "execution_count": 174,
      "metadata": {},
      "outputs": [
        {
          "data": {
            "text/html": [
              "<span style=\"white-space:pre; font-family: monospace\">1\n",
              "</span>"
            ]
          },
          "execution_count": 174,
          "metadata": {},
          "output_type": "execute_result"
        }
      ],
      "source": [
        "(+\u233f[3]Prod)\u2261(+/[3]Prod)"
      ]
    },
    {
      "cell_type": "code",
      "execution_count": 175,
      "metadata": {
        "scrolled": true
      },
      "outputs": [
        {
          "data": {
            "text/html": [
              "<span style=\"white-space:pre; font-family: monospace\">1\n",
              "</span>"
            ]
          },
          "execution_count": 175,
          "metadata": {},
          "output_type": "execute_result"
        }
      ],
      "source": [
        "(+\u233f[1]Forecast)\u2261(+/[1]Forecast)"
      ]
    },
    {
      "cell_type": "markdown",
      "metadata": {},
      "source": [
        "## Our First Program\n",
        "\n",
        "The expression we wrote in the \"Application 2\" subsection to calculate the average of a set of values is one that we may want to use time and time again. So let us store it as a program, or, to use the proper APL terminology, as a ***User Defined Function***.\n",
        "\n",
        "There are many different ways to define functions, and these will be covered in detail in the \"User Defined Functions\" chapter. For now we shall use the simplest, which is perfectly suitable for straightforward calculation functions like this one. Let's type:"
      ]
    },
    {
      "cell_type": "code",
      "execution_count": 176,
      "metadata": {},
      "outputs": [],
      "source": [
        "Average \u2190 {(+/\u2375)\u00f7(\u2374\u2375)}"
      ]
    },
    {
      "cell_type": "markdown",
      "metadata": {},
      "source": [
        " - `Average` is the name of the function. It is followed by the definition, delimited by a pair of curly braces `{` and `}`;\n",
        " - `\u2375` is a generic symbol that represents the array that will be passed as the right argument of the function;\n",
        " - `\u237a` is a generic symbol that represents the array that will be passed as the left argument of the function, if any.\n",
        " \n",
        "The symbols `\u2375` and `\u237a` are obtained using <kbd>APL</kbd>+<kbd>W</kbd> and <kbd>APL</kbd>+<kbd>A</kbd>, respectively.\n",
        "\n",
        "For more complex multi-line functions it is obviously more appropriate to use a text editor. However, this is beyond the scope of this chapter.\n",
        "\n",
        "Once defined, this function may be invoked directly, just as if it were a built-in (*primitive*) function:"
      ]
    },
    {
      "cell_type": "code",
      "execution_count": 179,
      "metadata": {},
      "outputs": [
        {
          "data": {
            "text/html": [
              "<span style=\"white-space:pre; font-family: monospace\">2415.69\n",
              "</span>"
            ]
          },
          "execution_count": 179,
          "metadata": {},
          "output_type": "execute_result"
        }
      ],
      "source": [
        "Average Salaries"
      ]
    },
    {
      "cell_type": "code",
      "execution_count": 180,
      "metadata": {},
      "outputs": [
        {
          "data": {
            "text/html": [
              "<span style=\"white-space:pre; font-family: monospace\">41.25\n",
              "</span>"
            ]
          },
          "execution_count": 180,
          "metadata": {},
          "output_type": "execute_result"
        }
      ],
      "source": [
        "Average 12 74 56 23"
      ]
    },
    {
      "cell_type": "markdown",
      "metadata": {},
      "source": [
        "The word `Average` can now be used in any APL expression. We have enriched the vocabulary which can be used to process data in this workspace (provided that we save it).\n",
        "\n",
        "Be patient: we shall see many other possibilities in the \"User Defined Functions\" chapter."
      ]
    },
    {
      "cell_type": "markdown",
      "metadata": {},
      "source": [
        "## Concatenation\n",
        "\n",
        "***Concatenation*** is a dyadic function which joins two arrays together. It is represented by comma (`,`). The function name is normally abbreviated to ***Catenate***, and we will use both terms."
      ]
    },
    {
      "cell_type": "markdown",
      "metadata": {},
      "source": [
        "### Concatenating Vectors\n",
        "\n",
        "*Catenate* is easy to understand:"
      ]
    },
    {
      "cell_type": "code",
      "execution_count": 187,
      "metadata": {},
      "outputs": [
        {
          "data": {
            "text/html": [
              "<span style=\"white-space:pre; font-family: monospace\">24 15 67 89 11 33 75\n",
              "</span>"
            ]
          },
          "execution_count": 187,
          "metadata": {},
          "output_type": "execute_result"
        }
      ],
      "source": [
        "A \u2190 24 15 67 89\n",
        "B \u2190 11 33 75\n",
        "A,B"
      ]
    },
    {
      "cell_type": "markdown",
      "metadata": {},
      "source": [
        "It is like joining two sentences together, so it is easy to remember which symbol to use. You can see that the length of the result (`\u2262(A,B)`) is equal to the sum of the lengths of the arguments (`(\u2262A) + (\u2262B)`):"
      ]
    },
    {
      "cell_type": "code",
      "execution_count": 188,
      "metadata": {},
      "outputs": [
        {
          "data": {
            "text/html": [
              "<span style=\"white-space:pre; font-family: monospace\">1\n",
              "</span>"
            ]
          },
          "execution_count": 188,
          "metadata": {},
          "output_type": "execute_result"
        }
      ],
      "source": [
        "((\u2262A)+(\u2262B))=\u2262A,B"
      ]
    },
    {
      "cell_type": "markdown",
      "metadata": {},
      "source": [
        "Character strings are processed in the same way:"
      ]
    },
    {
      "cell_type": "code",
      "execution_count": 189,
      "metadata": {},
      "outputs": [
        {
          "data": {
            "text/html": [
              "<span style=\"white-space:pre; font-family: monospace\">Tell meMore\n",
              "</span>"
            ]
          },
          "execution_count": 189,
          "metadata": {},
          "output_type": "execute_result"
        }
      ],
      "source": [
        "C \u2190 'Tell me'\n",
        "D \u2190 'More'\n",
        "C,D"
      ]
    },
    {
      "cell_type": "markdown",
      "metadata": {},
      "source": [
        "Note that there is no space inserted between the contents of the two vectors, just like there was no number inserted between `A` and `B` when we concatenated them above. When we concatenate a vector of 7 characters (like `C`) with a vector of 4 characters (like `D`), the result must have 11 characters.\n",
        "\n",
        "When you concatenate an empty vector to another vector, the result is the same as the original. Let us define an empty numeric vector `V`:"
      ]
    },
    {
      "cell_type": "code",
      "execution_count": 190,
      "metadata": {},
      "outputs": [
        {
          "data": {
            "text/html": [
              "<span style=\"white-space:pre; font-family: monospace\">\n",
              "</span>"
            ]
          },
          "execution_count": 190,
          "metadata": {},
          "output_type": "execute_result"
        }
      ],
      "source": [
        "\u22a2V \u2190 0\u23740"
      ]
    },
    {
      "cell_type": "markdown",
      "metadata": {},
      "source": [
        "We could use `\u236c` instead.\n",
        "\n",
        "Notice how the numeric vector `A` remains unchanged:"
      ]
    },
    {
      "cell_type": "code",
      "execution_count": 193,
      "metadata": {},
      "outputs": [
        {
          "data": {
            "text/html": [
              "<span style=\"white-space:pre; font-family: monospace\">24 15 67 89\n",
              "</span>"
            ]
          },
          "execution_count": 193,
          "metadata": {},
          "output_type": "execute_result"
        }
      ],
      "source": [
        "A,V"
      ]
    },
    {
      "cell_type": "markdown",
      "metadata": {},
      "source": [
        "Similarly, concatenating character strings with `''` does nothing:"
      ]
    },
    {
      "cell_type": "code",
      "execution_count": 194,
      "metadata": {},
      "outputs": [
        {
          "data": {
            "text/html": [
              "<span style=\"white-space:pre; font-family: monospace\">Tell meMore\n",
              "</span>"
            ]
          },
          "execution_count": 194,
          "metadata": {},
          "output_type": "execute_result"
        }
      ],
      "source": [
        "C,'',D"
      ]
    },
    {
      "cell_type": "markdown",
      "metadata": {},
      "source": [
        "### Concatenating Other Arrays\n",
        "\n",
        "It is possible to concatenate two arrays if their shapes are compatible. The axis along which the concatenation is to be performed must be specified, if it is different from the default.\n",
        "\n",
        "Let us use three matrices `A`, `B` and `C`:"
      ]
    },
    {
      "cell_type": "code",
      "execution_count": 195,
      "metadata": {},
      "outputs": [
        {
          "data": {
            "text/html": [
              "<span style=\"white-space:pre; font-family: monospace\">AAAA\n",
              "AAAA\n",
              "AAAA\n",
              "</span>"
            ]
          },
          "execution_count": 195,
          "metadata": {},
          "output_type": "execute_result"
        }
      ],
      "source": [
        "\u22a2A \u2190 3 4 \u2374 'A'"
      ]
    },
    {
      "cell_type": "code",
      "execution_count": 196,
      "metadata": {},
      "outputs": [
        {
          "data": {
            "text/html": [
              "<span style=\"white-space:pre; font-family: monospace\">BBBB\n",
              "BBBB\n",
              "</span>"
            ]
          },
          "execution_count": 196,
          "metadata": {},
          "output_type": "execute_result"
        }
      ],
      "source": [
        "\u22a2B \u2190 2 4 \u2374 'B'"
      ]
    },
    {
      "cell_type": "code",
      "execution_count": 197,
      "metadata": {},
      "outputs": [
        {
          "data": {
            "text/html": [
              "<span style=\"white-space:pre; font-family: monospace\">CCC\n",
              "CCC\n",
              "CCC\n",
              "</span>"
            ]
          },
          "execution_count": 197,
          "metadata": {},
          "output_type": "execute_result"
        }
      ],
      "source": [
        "\u22a2C \u2190 3 3 \u2374 'C'"
      ]
    },
    {
      "cell_type": "markdown",
      "metadata": {},
      "source": [
        "The possible concatenations are the vertical concatenation of `A` and `B`, like the diagram below suggests:\n",
        "\n",
        "```{figure} ../res/Vertical_Concatenation_AB.png\n",
        "---\n",
        "name: Vertical_Concatenation_AB\n",
        "---\n",
        "Matrices `A` and `B` concatenated together vertically\n",
        "```\n"
      ]
    },
    {
      "cell_type": "code",
      "execution_count": null,
      "metadata": {},
      "outputs": [],
      "source": []
    }
  ],
  "metadata": {
    "kernelspec": {
      "display_name": "Dyalog APL",
      "language": "apl",
      "name": "dyalog-kernel"
    },
    "language_info": {
      "file_extension": ".apl",
      "mimetype": "text/apl",
      "name": "APL"
    }
  },
  "nbformat": 4,
  "nbformat_minor": 4
}