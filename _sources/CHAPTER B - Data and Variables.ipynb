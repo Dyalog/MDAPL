{
  "cells": [
    {
      "cell_type": "code",
      "execution_count": 1,
      "metadata": {},
      "outputs": [
        {
          "data": {
            "text/html": [
              "<span style=\"white-space:pre; font-family: monospace\">res/DyalogTutor_EN.dws saved Tue Aug 11 09:28:49 2020\n",
              "                                                                                                  \n",
              "Welcome                                                                                           \n",
              "-------                                                                                           \n",
              "This Workspace contains most of the variables and functions used in the ENglish tutorial.         \n",
              "You can use and modify them at will for your own tests.                                           \n",
              "If you want to preserve and retrieve your modifications, save the                                 \n",
              "contents of the workspace before closing your session, by pressing                                \n",
              "the \"Save\" button, or using the \"Save as\" menu option.                                            \n",
              "If you do not want this message displayed again, type:                                            \n",
              "      lx\u2190''                                                                                       \n",
              "... then save the workspace as indicated above.                                                   \n",
              "To know in which chapter an object is referenced, type:                                           \n",
              "      )ed Refs                                                                                    \n",
              "</span>"
            ]
          },
          "execution_count": 1,
          "metadata": {},
          "output_type": "execute_result"
        }
      ],
      "source": [
        ")load res/DyalogTutor_EN.dws"
      ]
    },
    {
      "cell_type": "markdown",
      "metadata": {},
      "source": [
        "# Data and Variables\n",
        "\n",
        "When you use APL, you type an expression or a command into the session window, and the result of the expression (or a message resulting from the execution of the command) is displayed on the next line(s). So an APL \"session\" is a sequence of user input lines (expressions and/or commands) interleaved with the results of the expressions.\n",
        "\n",
        "If you type these expressions and/or commands in the Dyalog APL software you installed, or on the [TryAPL](https://tryapl.org), you will see that APL initially positions the input cursor 6 spaces in from the left margin. Unless you deliberately move the cursor before you start typing, the expressions you enter into the system will therefore be indented; you can evaluate what you type by pressing <kbd>Enter</kbd>, which will make the result appear below what you typed and left aligned with the margin. This interactive session is commonly referred to as an ***interpreter session*** because some software is interpreting what you type and providing you with results on the fly.\n",
        "\n",
        "This book, however, was written in Jupyter notebooks, which works in a slightly different way. In here, you can find blocks of text (like the one you are reading *right now*) interleaved with code blocks. Depending on where you are reading this, these code blocks may be static or they may be interactive, allowing you, the reader, to change them and run them at will. The expressions you enter go in the shaded rectangles (the ***input cells***, preceded by a `In [X]:`) and you can evaluate them by pressing <kbd>Ctrl</kbd>+<kbd>Enter</kbd>. The results of the expressions are then placed inside white rectangles (the ***output cells***, preceded by the corresponding `Out[X]:`) which get updated when you re-evaluate the same *input cell*.\n",
        "\n",
        "It is recommended that you go through this tutorial in front of your computer, and experiment by typing the expressions given below into the Dyalog APL interpreter session. Alternatively, if you are reading the book online in a dynamic format, you are encouraged to re-run the *input cells* for yourself. Either way, try changing the expressions, and observe the new results.\n",
        "\n",
        "## Simple Numeric Values\n",
        "\n",
        "### Our First Operations\n",
        "\n",
        "Let's try some simple expressions:"
      ]
    },
    {
      "cell_type": "code",
      "execution_count": 2,
      "metadata": {
        "scrolled": true
      },
      "outputs": [
        {
          "data": {
            "text/html": [
              "<span style=\"white-space:pre; font-family: monospace\">80\n",
              "</span>"
            ]
          },
          "execution_count": 2,
          "metadata": {},
          "output_type": "execute_result"
        }
      ],
      "source": [
        "27 + 53"
      ]
    },
    {
      "cell_type": "code",
      "execution_count": 3,
      "metadata": {
        "scrolled": true
      },
      "outputs": [
        {
          "data": {
            "text/html": [
              "<span style=\"white-space:pre; font-family: monospace\">563\n",
              "</span>"
            ]
          },
          "execution_count": 3,
          "metadata": {},
          "output_type": "execute_result"
        }
      ],
      "source": [
        "1271 - 708"
      ]
    },
    {
      "cell_type": "code",
      "execution_count": 4,
      "metadata": {},
      "outputs": [
        {
          "data": {
            "text/html": [
              "<span style=\"white-space:pre; font-family: monospace\">\u00af188\n",
              "</span>"
            ]
          },
          "execution_count": 4,
          "metadata": {},
          "output_type": "execute_result"
        }
      ],
      "source": [
        "644 - 832"
      ]
    },
    {
      "cell_type": "markdown",
      "metadata": {},
      "source": [
        "Notice that APL uses a different symbol known as *high minus* (`\u00af`) to distinguish between a negative value and the function *subtract* (`-`). If you wish to enter a negative value, you can enter this special symbol by pressing <kbd>APL</kbd>+<kbd>2</kbd> (or by clicking the symbol in the \"Language Bar\").\n",
        "\n",
        "Let's continue with some more expressions:"
      ]
    },
    {
      "cell_type": "code",
      "execution_count": 5,
      "metadata": {},
      "outputs": [
        {
          "data": {
            "text/html": [
              "<span style=\"white-space:pre; font-family: monospace\">21.5\n",
              "</span>"
            ]
          },
          "execution_count": 5,
          "metadata": {},
          "output_type": "execute_result"
        }
      ],
      "source": [
        "86 \u00f7 4        \u235d The Divide sign is obtained by pressing APL+="
      ]
    },
    {
      "cell_type": "code",
      "execution_count": 6,
      "metadata": {},
      "outputs": [
        {
          "data": {
            "text/html": [
              "<span style=\"white-space:pre; font-family: monospace\">472\n",
              "</span>"
            ]
          },
          "execution_count": 6,
          "metadata": {},
          "output_type": "execute_result"
        }
      ],
      "source": [
        "59 \u00d7 8        \u235d The Multiply sign is obtained by pressing APL+-"
      ]
    },
    {
      "cell_type": "markdown",
      "metadata": {},
      "source": [
        "If you are familiar with other programming languages, you may be accustomed to using a slash (`/`) for division, and a star (`*`) for multiplication. Let's see what might happen if you mistakenly use `*` in APL:"
      ]
    },
    {
      "cell_type": "code",
      "execution_count": 7,
      "metadata": {},
      "outputs": [
        {
          "data": {
            "text/html": [
              "<span style=\"white-space:pre; font-family: monospace\">343\n",
              "</span>"
            ]
          },
          "execution_count": 7,
          "metadata": {},
          "output_type": "execute_result"
        }
      ],
      "source": [
        "7 * 3         \u235d In APL the star means \"Power\"\n",
        "              \u235d so that 7 * 3 is equivalent to 7 \u00d7 7 \u00d7 7"
      ]
    },
    {
      "cell_type": "markdown",
      "metadata": {},
      "source": [
        "The slash also has a different meaning in APL, we'll get to that latter.\n",
        "\n",
        "### Variables\n",
        "\n",
        "As in any other programming language, it is possible to create variables. Just choose a name and use the assignment arrow (`\u2190`) to assign it to a value. The value can be a single item or several items separated by spaces. The assignment arrow can be entered by pressing <kbd>APL</kbd>+<kbd>[</kbd>."
      ]
    },
    {
      "cell_type": "code",
      "execution_count": 8,
      "metadata": {},
      "outputs": [],
      "source": [
        "Discount \u2190 0.15        \u235d Read it as: Discount gets 0.15\n",
        "Years \u2190 1952 1943 1956 2020\n",
        "Purchased \u2190 4000"
      ]
    },
    {
      "cell_type": "markdown",
      "metadata": {},
      "source": [
        "To obtain the value of a variable, just type its name and evaluate the expression, like this:"
      ]
    },
    {
      "cell_type": "code",
      "execution_count": 9,
      "metadata": {},
      "outputs": [
        {
          "data": {
            "text/html": [
              "<span style=\"white-space:pre; font-family: monospace\">0.15\n",
              "</span>"
            ]
          },
          "execution_count": 9,
          "metadata": {},
          "output_type": "execute_result"
        }
      ],
      "source": [
        "Discount"
      ]
    },
    {
      "cell_type": "code",
      "execution_count": 10,
      "metadata": {},
      "outputs": [
        {
          "data": {
            "text/html": [
              "<span style=\"white-space:pre; font-family: monospace\">1952 1943 1956 2020\n",
              "</span>"
            ]
          },
          "execution_count": 10,
          "metadata": {},
          "output_type": "execute_result"
        }
      ],
      "source": [
        "Years"
      ]
    },
    {
      "cell_type": "markdown",
      "metadata": {},
      "source": [
        "Variable names are ***case sensitive***. This means that APL considers a lower-case letter and an upper-case letter to be two different characters. So the three variables `YEARS`, `Years` and `years`, would be distinct, and could contain different values. If you misspell the name of a variable, an error message will be displayed if that name is unknown:"
      ]
    },
    {
      "cell_type": "code",
      "execution_count": 11,
      "metadata": {},
      "outputs": [
        {
          "name": "stderr",
          "output_type": "stream",
          "text": [
            "VALUE ERROR: Undefined name: discount\n",
            "      discount        \u235d We typed a lower-case \"d\", instead of \"D\"\n",
            "      \u2227\n"
          ]
        }
      ],
      "source": [
        "discount        \u235d We typed a lower-case \"d\", instead of \"D\"\n",
        "                \u235d The message \"VALUE ERROR\" means that the\n",
        "                \u235d name \"discount\" is currently undefined."
      ]
    },
    {
      "cell_type": "markdown",
      "metadata": {},
      "source": [
        "Variable names must follow certain rules:\n",
        "\n",
        " - They must contain only letters, in lower or upper-case, including some accented letters (cf. below), and the digits (0 to 9).\n",
        " - The APL alphabet also includes the Greek letter Delta (`\u2206`), entered using <kbd>APL</kbd>+<kbd>H</kbd>, the Underscore sign (`_`), and also the Underscored Delta (`\u2359`), entered using <kbd>APL</kbd>+<kbd>Shift</kbd>+<kbd>.</kbd> (dot).\n",
        " - They cannot start with a digit.\n",
        " \n",
        "The following variable names are valid:"
      ]
    },
    {
      "cell_type": "code",
      "execution_count": 12,
      "metadata": {},
      "outputs": [
        {
          "data": {
            "text/html": [
              "<span style=\"white-space:pre; font-family: monospace\">1\n",
              "</span>"
            ]
          },
          "execution_count": 12,
          "metadata": {},
          "output_type": "execute_result"
        }
      ],
      "source": [
        "\u2206x \u2190 1                \u235d with Delta\n",
        "\u2206x"
      ]
    },
    {
      "cell_type": "code",
      "execution_count": 13,
      "metadata": {},
      "outputs": [
        {
          "data": {
            "text/html": [
              "<span style=\"white-space:pre; font-family: monospace\">2\n",
              "</span>"
            ]
          },
          "execution_count": 13,
          "metadata": {},
          "output_type": "execute_result"
        }
      ],
      "source": [
        "Fly\u2359Airlines \u2190 2      \u235d with Underscored Delta\n",
        "Fly\u2359Airlines"
      ]
    },
    {
      "cell_type": "code",
      "execution_count": 14,
      "metadata": {},
      "outputs": [
        {
          "data": {
            "text/html": [
              "<span style=\"white-space:pre; font-family: monospace\">3\n",
              "</span>"
            ]
          },
          "execution_count": 14,
          "metadata": {},
          "output_type": "execute_result"
        }
      ],
      "source": [
        "My_car_is_green \u2190 3   \u235d with Underscores\n",
        "My_car_is_green"
      ]
    },
    {
      "cell_type": "code",
      "execution_count": 15,
      "metadata": {},
      "outputs": [
        {
          "data": {
            "text/html": [
              "<span style=\"white-space:pre; font-family: monospace\">4\n",
              "</span>"
            ]
          },
          "execution_count": 15,
          "metadata": {},
          "output_type": "execute_result"
        }
      ],
      "source": [
        "Hote273 \u2190 4           \u235d with digits\n",
        "Hote273"
      ]
    },
    {
      "cell_type": "code",
      "execution_count": 16,
      "metadata": {},
      "outputs": [
        {
          "data": {
            "text/html": [
              "<span style=\"white-space:pre; font-family: monospace\">5\n",
              "</span>"
            ]
          },
          "execution_count": 16,
          "metadata": {},
          "output_type": "execute_result"
        }
      ],
      "source": [
        "B\u00e9tise_\u00e0_Caimbrai \u2190 5 \u235d with accented letters\n",
        "B\u00e9tise_\u00e0_Caimbrai"
      ]
    },
    {
      "cell_type": "markdown",
      "metadata": {},
      "source": [
        "But `5\u00e07` is not valid, because it begins with a digit:"
      ]
    },
    {
      "cell_type": "code",
      "execution_count": 17,
      "metadata": {},
      "outputs": [
        {
          "name": "stderr",
          "output_type": "stream",
          "text": [
            "SYNTAX ERROR\n",
            "      5 \u00e07\u21906\n",
            "          \u2227\n"
          ]
        }
      ],
      "source": [
        "5\u00e07 \u2190 6"
      ]
    },
    {
      "cell_type": "markdown",
      "metadata": {},
      "source": [
        "In this document, most variable names begin with an upper-case letter, with the remainder in lower-case. This is purely for consistency and ease of use.\n",
        "\n",
        "The letters that are allowed as part of variable names are:\n",
        "\n",
        "```\n",
        "0123456789\n",
        "ABCDEFGHIJKLMNOPQRSTUVWXYZ_\n",
        "abcdefghijklmnopqrstuvwxyz\n",
        "\u00c0\u00c1\u00c2\u00c3\u00c4\u00c5\u00c6\u00c7\u00c8\u00c9\u00ca\u00cb\u00cc\u00cd\u00ce\u00cf\u00d0\u00d1\u00d2\u00d3\u00d4\u00d5\u00d6\u00d8\u00d9\u00da\u00db\u00dc\u00dd\u1e9e\n",
        "\u00e0\u00e1\u00e2\u00e3\u00e4\u00e5\u00e6\u00e7\u00e8\u00e9\u00ea\u00eb\u00ec\u00ed\u00ee\u00ef\u00f0\u00f1\u00f2\u00f3\u00f4\u00f5\u00f6\u00f8\u00f9\u00fa\u00fb\u00fc\u00fe\n",
        "\u2206\u2359\n",
        "```\n",
        "\n",
        "Additionally, variable names can contain underlined upper cases letters, which look something like <ins>ABCDEFGHIJKLMNOPQRSTUVWXYZ</ins>. It is strongly recommended that you do not use the underscored letters which are only included to support old applications. Today, underscored letters are regarded as an anachronism, and are deprecated in modern versions of APL. They are not part of the Unicode character set and we weren't even able to include them here: the enumeration above is just styled like the underscored letters, it is not really those letters. When a standard Unicode font is used, the APL underscored letters correspond to the Unicode circled alphabet, which is displayed like this:\n",
        "\n",
        "```\n",
        "\u24b6\u24b7\u24b8\u24b9\u24ba\u24bb\u24bc\u24bd\u24be\u24bf\u24c0\u24c1\u24c2\u24c3\u24c4\u24c5\u24c6\u24c7\u24c8\u24c9\u24ca\u24cb\u24cc\u24cd\u24ce\u24cf\n",
        "```\n",
        "\n",
        "Although it is permitted, the use of accented characters is also not recommended because some people may be unable to enter them using their normal keyboard.\n",
        "\n",
        "`\u2206` and `\u2359` may also cause problems if you ever want to inter-operate with other software, and are best avoided.\n",
        "\n",
        "### Operations on Variables\n",
        "\n",
        "Variables can be used in any expression or calculation. For example, if we want to calculate the amount of the discount applied to the things we purchased, we can write:"
      ]
    },
    {
      "cell_type": "code",
      "execution_count": 18,
      "metadata": {},
      "outputs": [
        {
          "data": {
            "text/html": [
              "<span style=\"white-space:pre; font-family: monospace\">600\n",
              "</span>"
            ]
          },
          "execution_count": 18,
          "metadata": {},
          "output_type": "execute_result"
        }
      ],
      "source": [
        "Amount \u2190 Purchased\u00d7Discount\n",
        "Amount"
      ]
    },
    {
      "cell_type": "markdown",
      "metadata": {},
      "source": [
        "When the result of an expression is assigned to a name, it is not displayed. This is why we have entered a second expression to have the value displayed. If the result of an operation is not assigned to a name, it is immediately displayed, but then the value of the result cannot be reused directly in another expression:"
      ]
    },
    {
      "cell_type": "code",
      "execution_count": 19,
      "metadata": {},
      "outputs": [
        {
          "data": {
            "text/html": [
              "<span style=\"white-space:pre; font-family: monospace\">600\n",
              "</span>"
            ]
          },
          "execution_count": 19,
          "metadata": {},
          "output_type": "execute_result"
        }
      ],
      "source": [
        "Purchased \u00d7 Discount"
      ]
    },
    {
      "cell_type": "markdown",
      "metadata": {},
      "source": [
        "It is of course possible to change the contents of a variable. The previous value is then lost."
      ]
    },
    {
      "cell_type": "code",
      "execution_count": 20,
      "metadata": {},
      "outputs": [],
      "source": [
        "Discount \u2190 0.185"
      ]
    },
    {
      "cell_type": "markdown",
      "metadata": {},
      "source": [
        "It is possible to assign values to several variables in a single expression:"
      ]
    },
    {
      "cell_type": "code",
      "execution_count": 21,
      "metadata": {},
      "outputs": [],
      "source": [
        "(G H J) \u2190 30 51 49        \u235d G gets 30, H gets 51, and J gets 49."
      ]
    },
    {
      "cell_type": "markdown",
      "metadata": {},
      "source": [
        "This ***Multiple assignment*** is an elegant way of allocating a set of values to some distinct variables:"
      ]
    },
    {
      "cell_type": "code",
      "execution_count": 22,
      "metadata": {},
      "outputs": [
        {
          "data": {
            "text/html": [
              "<span style=\"white-space:pre; font-family: monospace\">1952\n",
              "</span>"
            ]
          },
          "execution_count": 22,
          "metadata": {},
          "output_type": "execute_result"
        }
      ],
      "source": [
        "(Colette Bernard Line Now) \u2190 Years\n",
        "Colette"
      ]
    },
    {
      "cell_type": "code",
      "execution_count": 23,
      "metadata": {},
      "outputs": [
        {
          "data": {
            "text/html": [
              "<span style=\"white-space:pre; font-family: monospace\">1956\n",
              "</span>"
            ]
          },
          "execution_count": 23,
          "metadata": {},
          "output_type": "execute_result"
        }
      ],
      "source": [
        "Line"
      ]
    },
    {
      "cell_type": "markdown",
      "metadata": {},
      "source": [
        "Note that it is possible to write multiple assignments without parentheses on the left:"
      ]
    },
    {
      "cell_type": "code",
      "execution_count": 24,
      "metadata": {},
      "outputs": [],
      "source": [
        "G H J \u2190 30 51 49\n",
        "Colette Bernard Line Now \u2190 Years"
      ]
    },
    {
      "cell_type": "markdown",
      "metadata": {},
      "source": [
        "However this is highly discouraged. Using parentheses indicates much more clearly the intent of performing multiple assignment and helps prevent some erroneous behaviour. For example, notice how the expression below raises an error because we are trying to assign `5` to `3`, and yet, `var` gets assigned `5`:"
      ]
    },
    {
      "cell_type": "code",
      "execution_count": 25,
      "metadata": {},
      "outputs": [
        {
          "name": "stderr",
          "output_type": "stream",
          "text": [
            "SYNTAX ERROR\n",
            "      var 3\u21905\n",
            "           \u2227\n"
          ]
        }
      ],
      "source": [
        "var 3 \u2190 5"
      ]
    },
    {
      "cell_type": "code",
      "execution_count": 26,
      "metadata": {},
      "outputs": [
        {
          "data": {
            "text/html": [
              "<span style=\"white-space:pre; font-family: monospace\">5\n",
              "</span>"
            ]
          },
          "execution_count": 26,
          "metadata": {},
          "output_type": "execute_result"
        }
      ],
      "source": [
        "var"
      ]
    },
    {
      "cell_type": "markdown",
      "metadata": {},
      "source": [
        "However, if we use parentheses the assignment is not performed at all:"
      ]
    },
    {
      "cell_type": "code",
      "execution_count": 27,
      "metadata": {},
      "outputs": [
        {
          "name": "stderr",
          "output_type": "stream",
          "text": [
            "SYNTAX ERROR\n",
            "      (var 3)\u219050\n",
            "             \u2227\n"
          ]
        }
      ],
      "source": [
        "(var 3) \u2190 50"
      ]
    },
    {
      "cell_type": "code",
      "execution_count": 28,
      "metadata": {},
      "outputs": [
        {
          "data": {
            "text/html": [
              "<span style=\"white-space:pre; font-family: monospace\">5\n",
              "</span>"
            ]
          },
          "execution_count": 28,
          "metadata": {},
          "output_type": "execute_result"
        }
      ],
      "source": [
        "var"
      ]
    },
    {
      "cell_type": "markdown",
      "metadata": {},
      "source": [
        "Another argument against using multiple assignment without parentheses is that some other APL systems require them, so if compatibility across APL implementations is an issue for you, we recommend that you use parentheses in Dyalog APL as well.\n",
        "\n",
        "If you still aren't convinced that multiple assignment without parentheses on the left is evil, another argument against it is that you can get inconsistent behaviour depending on the number of variables that are to the left of `\u2190`.\n",
        "\n",
        "## Arrays of Items\n",
        "\n",
        "In APL, an *array* is a sequence of zero or more items. The variable `Years` that we used in the previous section is an array of 4 items.\n",
        "\n",
        "### Create a List or a Matrix\n",
        "\n",
        "To enter a short list of items, just type them one by one separated by spaces, and assign the list to a name. For example, here is the number of TV sets sold during the last 10 days by a shopkeeper:"
      ]
    },
    {
      "cell_type": "code",
      "execution_count": 29,
      "metadata": {},
      "outputs": [],
      "source": [
        "Sales \u2190 6 1 8 12 3 3 5 4 7 9"
      ]
    },
    {
      "cell_type": "markdown",
      "metadata": {},
      "source": [
        "If you need to enter a very long list of items, which will not easily fit on a single line, please refer to Chapter H, Section 1, where a simple method is explained.\n",
        "\n",
        "Imagine now that somebody has noted his income and expenses during the first six months of this year:\n",
        "\n",
        "| Month | Income | Expenses |\n",
        "| :- | -: | -: |\n",
        "| January | 4210 | 3121 |\n",
        "| February | 4807 | 4284 |\n",
        "| March | 3609 | 7543 |\n",
        "| April | 5712 | 2601 |\n",
        "| May | 2305 | 3364 |\n",
        "| June | 4568 | 2784 |\n",
        "\n",
        "We shall see later how we can store the names of the months; for now, let us just try to store the numeric values from the table above in a variable.\n",
        "\n",
        "To do this, we have to give two pieces of information to the computer:\n",
        "\n",
        " - the ***shape*** of the array: in this case, 6 rows and 2 columns;\n",
        " - the ***contents*** (or *items*) of the array, in row order.\n",
        " \n",
        "The function that organises a set of items into an array of a specified shape is known as ***Reshape*** and is symbolised by the Greek letter Rho (`\u2374`). It is easy to remember that *R*ho can be entered using <kbd>APL</kbd>+<kbd>R</kbd>.\n",
        "\n",
        "The ***Reshape*** function is used as follows: `R\u2190 Shape \u2374 Contents`.\n",
        "\n",
        "For example, to obtain a 6 by 2 array of items:"
      ]
    },
    {
      "cell_type": "code",
      "execution_count": 30,
      "metadata": {},
      "outputs": [
        {
          "data": {
            "text/html": [
              "<span style=\"white-space:pre; font-family: monospace\">4210 3121\n",
              "4807 4284\n",
              "3609 7543\n",
              "5712 2601\n",
              "2305 3364\n",
              "4568 2784\n",
              "</span>"
            ]
          },
          "execution_count": 30,
          "metadata": {},
          "output_type": "execute_result"
        }
      ],
      "source": [
        "Money \u2190 6 2 \u2374 4210 3121 4807 4284 3609 7543 5712 2601 2305 3364 4568 2784\n",
        "Money        \u235d Let's verify the result."
      ]
    },
    {
      "cell_type": "markdown",
      "metadata": {},
      "source": [
        "### Special Cases with Reshape\n",
        "\n",
        "If there are too many items, the extra items are ignored:"
      ]
    },
    {
      "cell_type": "code",
      "execution_count": 31,
      "metadata": {},
      "outputs": [
        {
          "data": {
            "text/html": [
              "<span style=\"white-space:pre; font-family: monospace\">12 56 78\n",
              "74 85 96\n",
              "30 22 44\n",
              "</span>"
            ]
          },
          "execution_count": 31,
          "metadata": {},
          "output_type": "execute_result"
        }
      ],
      "source": [
        "Contents \u2190 12 56 78 74 85 96 30 22 44 66 82 27\n",
        "3 3 \u2374 Contents        \u235d The last 3 items (66 82 27) have been ignored."
      ]
    },
    {
      "cell_type": "markdown",
      "metadata": {},
      "source": [
        "However, if there are fewer items than implied by the shape, the list of items is reused as many times as necessary to fill the array:"
      ]
    },
    {
      "cell_type": "code",
      "execution_count": 32,
      "metadata": {},
      "outputs": [
        {
          "data": {
            "text/html": [
              "<span style=\"white-space:pre; font-family: monospace\">12 56 78 74 85 96 30 22 44\n",
              "66 82 27 12 56 78 74 85 96\n",
              "30 22 44 66 82 27 12 56 78\n",
              "</span>"
            ]
          },
          "execution_count": 32,
          "metadata": {},
          "output_type": "execute_result"
        }
      ],
      "source": [
        "3 9 \u2374 Contents        \u235d Notice how the Contents variable\n",
        "                      \u235d starts repeating on the second row (under the 74)\n",
        "                      \u235d and also by the end of the third row"
      ]
    },
    {
      "cell_type": "markdown",
      "metadata": {},
      "source": [
        "This property is often used to create special patterns:"
      ]
    },
    {
      "cell_type": "code",
      "execution_count": 33,
      "metadata": {},
      "outputs": [
        {
          "data": {
            "text/html": [
              "<span style=\"white-space:pre; font-family: monospace\">0 0 0 0\n",
              "0 0 0 0\n",
              "0 0 0 0\n",
              "</span>"
            ]
          },
          "execution_count": 33,
          "metadata": {},
          "output_type": "execute_result"
        }
      ],
      "source": [
        "3 4 \u2374 0            \u235d Fill an array with a single value."
      ]
    },
    {
      "cell_type": "code",
      "execution_count": 34,
      "metadata": {},
      "outputs": [
        {
          "data": {
            "text/html": [
              "<span style=\"white-space:pre; font-family: monospace\">1 5 0 0 1 5 0 0 1 5 0 0 1 5 0 0 1 5 0 0 1 5 0 0 1 5 0 0 1 5\n",
              "</span>"
            ]
          },
          "execution_count": 34,
          "metadata": {},
          "output_type": "execute_result"
        }
      ],
      "source": [
        "30 \u2374 1 5 0 0       \u235d Repeat a pattern."
      ]
    },
    {
      "cell_type": "code",
      "execution_count": 35,
      "metadata": {},
      "outputs": [
        {
          "data": {
            "text/html": [
              "<span style=\"white-space:pre; font-family: monospace\">2 4 6 8\n",
              "2 4 6 8\n",
              "2 4 6 8\n",
              "</span>"
            ]
          },
          "execution_count": 35,
          "metadata": {},
          "output_type": "execute_result"
        }
      ],
      "source": [
        "3 4 \u2374 2 4 6 8      \u235d Repeat a pattern."
      ]
    },
    {
      "cell_type": "code",
      "execution_count": 36,
      "metadata": {},
      "outputs": [
        {
          "data": {
            "text/html": [
              "<span style=\"white-space:pre; font-family: monospace\">1 0 0 0 0\n",
              "0 1 0 0 0\n",
              "0 0 1 0 0\n",
              "0 0 0 1 0\n",
              "0 0 0 0 1\n",
              "</span>"
            ]
          },
          "execution_count": 36,
          "metadata": {},
          "output_type": "execute_result"
        }
      ],
      "source": [
        "5 5 \u2374 1 0 0 0 0 0  \u235d Shift values."
      ]
    },
    {
      "cell_type": "markdown",
      "metadata": {},
      "source": [
        "### Multi-dimensional Arrays\n",
        "\n",
        "APL is not limited to arrays with two dimensions, it can handle arrays with 3, 4, indeed up to 15 dimensions.\n",
        "\n",
        "Imagine that a company has stored the production of its assembly lines in a variable named `Prod`.\n",
        "\n",
        "The variable contains 5 years of production, on 2 assembly lines, and for 12 months per year. To represent the 3 dimensions on the screen, the array is displayed split into sub-arrays each representing a single year, as follows:"
      ]
    },
    {
      "cell_type": "code",
      "execution_count": 37,
      "metadata": {},
      "outputs": [
        {
          "data": {
            "text/html": [
              "<span style=\"white-space:pre; font-family: monospace\">26 16 22 17 21 44 25 22 23 44 41 33\n",
              "43 36 47 49 30 22 57 20 45 60 43 22\n",
              "                                   \n",
              "44 21 58 57 17 43 47 17 43 26 53 23\n",
              "29 19 23 38 53 47 38 22 40 57 35 26\n",
              "                                   \n",
              "37 27 53 26 29 46 25 26 30 20 32 16\n",
              "56 55 25 47 38 27 39 59 20 28 42 25\n",
              "                                   \n",
              "21 57 55 44 16 54 26 16 55 56 45 45\n",
              "16 55 26 20 27 55 36 39 43 38 50 16\n",
              "                                   \n",
              "27 23 56 41 53 60 39 47 44 47 17 28\n",
              "24 35 61 26 22 35 24 20 31 35 47 37\n",
              "</span>"
            ]
          },
          "execution_count": 37,
          "metadata": {},
          "output_type": "execute_result"
        }
      ],
      "source": [
        "Prod        \u235d Notice the blank lines separating the sub-arrays,\n",
        "            \u235d one per year (5 in total)."
      ]
    },
    {
      "cell_type": "markdown",
      "metadata": {},
      "source": [
        "This array is organised in dimensions that represent 5 years, 2 lines, 12 months: it is a three dimensional array. We can also say that its ***shape*** is `5 2 12`.\n",
        "\n",
        "## Shape, Rank and Vocabulary\n",
        "\n",
        "### Shape and Rank\n",
        "\n",
        "The symbol `\u2374`, which we introduced above, can be used to obtain the lengths of the dimensions or the ***Shape*** of an array:"
      ]
    },
    {
      "cell_type": "code",
      "execution_count": 38,
      "metadata": {},
      "outputs": [
        {
          "data": {
            "text/html": [
              "<span style=\"white-space:pre; font-family: monospace\">4\n",
              "</span>"
            ]
          },
          "execution_count": 38,
          "metadata": {},
          "output_type": "execute_result"
        }
      ],
      "source": [
        "\u2374 Years        \u235d Read this as \"Shape of Years\".\n",
        "               \u235d Years has 4 items."
      ]
    },
    {
      "cell_type": "code",
      "execution_count": 39,
      "metadata": {},
      "outputs": [
        {
          "data": {
            "text/html": [
              "<span style=\"white-space:pre; font-family: monospace\">6 2\n",
              "</span>"
            ]
          },
          "execution_count": 39,
          "metadata": {},
          "output_type": "execute_result"
        }
      ],
      "source": [
        "\u2374 Money        \u235d Money has 6 rows and 2 columns."
      ]
    },
    {
      "cell_type": "code",
      "execution_count": 40,
      "metadata": {},
      "outputs": [
        {
          "data": {
            "text/html": [
              "<span style=\"white-space:pre; font-family: monospace\">5 2 12\n",
              "</span>"
            ]
          },
          "execution_count": 40,
          "metadata": {},
          "output_type": "execute_result"
        }
      ],
      "source": [
        "Shape \u2190 \u2374Prod\n",
        "Shape          \u235d Prod has 5 sheets (or planes), each having\n",
        "               \u235d 2 rows and 12 columns."
      ]
    },
    {
      "cell_type": "markdown",
      "metadata": {},
      "source": [
        "Now, what is the shape of `Shape`?"
      ]
    },
    {
      "cell_type": "code",
      "execution_count": 41,
      "metadata": {},
      "outputs": [
        {
          "data": {
            "text/html": [
              "<span style=\"white-space:pre; font-family: monospace\">3\n",
              "</span>"
            ]
          },
          "execution_count": 41,
          "metadata": {},
          "output_type": "execute_result"
        }
      ],
      "source": [
        "\u2374 Shape        \u235d Prod has 3 dimensions."
      ]
    },
    {
      "cell_type": "markdown",
      "metadata": {},
      "source": [
        "The same result could have been obtained directly using the expression `\u2374\u2374 Prod`:"
      ]
    },
    {
      "cell_type": "code",
      "execution_count": 42,
      "metadata": {},
      "outputs": [
        {
          "data": {
            "text/html": [
              "<span style=\"white-space:pre; font-family: monospace\">3\n",
              "</span>"
            ]
          },
          "execution_count": 42,
          "metadata": {},
          "output_type": "execute_result"
        }
      ],
      "source": [
        "\u2374\u2374 Prod"
      ]
    },
    {
      "cell_type": "markdown",
      "metadata": {},
      "source": [
        "`Prod` has 3 dimensions; we say that its ***Rank*** is 3, or that it is organised along 3 criteria which are: Years / Lines / Months."
      ]
    },
    {
      "cell_type": "code",
      "execution_count": 43,
      "metadata": {},
      "outputs": [
        {
          "data": {
            "text/html": [
              "<span style=\"white-space:pre; font-family: monospace\">2\n",
              "</span>"
            ]
          },
          "execution_count": 43,
          "metadata": {},
          "output_type": "execute_result"
        }
      ],
      "source": [
        "\u2374\u2374 Money"
      ]
    },
    {
      "cell_type": "markdown",
      "metadata": {},
      "source": [
        "`Money` has 2 dimensions; we say that its ***Rank*** is 2, or that it is organised along 2 criteria which are: Months / Accounts.\n",
        "\n",
        "```{admonition} Definition \n",
        ":class: note\n",
        "The ***Rank*** of an array is the number of its dimensions. It can be obtained using the expression `\u2374\u2374 Array`.\n",
        "```\n",
        "\n",
        "### Scaling Down the Ranks\n",
        "\n",
        "Using that formula, we can see that:\n",
        "\n",
        "|||||\n",
        "| :- | :- | :- | :- |\n",
        "| `Prod` | has a shape equal to | `5 2 12` | and its rank is equal to ............ `3` |\n",
        "| `Money` | has a shape equal to | `6 2` | and its rank is equal to ............ `2` |\n",
        "| `Years` | has a shape equal to | `4` | and its rank is equal to ............ `1` |\n",
        "\n",
        "It seems consistent that some array must exist which has a rank equal to ...... `0`.\n",
        "\n",
        "Such arrays are single items, like 1573 or 36.29 or the variable `Discount` used above."
      ]
    },
    {
      "cell_type": "code",
      "execution_count": 44,
      "metadata": {},
      "outputs": [
        {
          "data": {
            "text/html": [
              "<span style=\"white-space:pre; font-family: monospace\">0\n",
              "</span>"
            ]
          },
          "execution_count": 44,
          "metadata": {},
          "output_type": "execute_result"
        }
      ],
      "source": [
        "\u2374\u2374 Discount    \u235d A single number has no dimensions."
      ]
    },
    {
      "cell_type": "code",
      "execution_count": 45,
      "metadata": {},
      "outputs": [
        {
          "data": {
            "text/html": [
              "<span style=\"white-space:pre; font-family: monospace\">0\n",
              "</span>"
            ]
          },
          "execution_count": 45,
          "metadata": {},
          "output_type": "execute_result"
        }
      ],
      "source": [
        "\u2374\u2374 36.29"
      ]
    },
    {
      "cell_type": "markdown",
      "metadata": {},
      "source": [
        "We needed 3 numbers to express the shape of `Prod`, 2 numbers to express the shape of `Money`, and only 1 number to express the shape of `Years`... hence to express the shape of `1573` or `Discount`, we need **no** numbers:"
      ]
    },
    {
      "cell_type": "code",
      "execution_count": 46,
      "metadata": {},
      "outputs": [
        {
          "data": {
            "text/html": [
              "<span style=\"white-space:pre; font-family: monospace\">\n",
              "</span>"
            ]
          },
          "execution_count": 46,
          "metadata": {},
          "output_type": "execute_result"
        }
      ],
      "source": [
        "\u2374 1573        \u235d The answer displays as a blank line: the shape of\n",
        "              \u235d a single number is an empty array (0 items)."
      ]
    },
    {
      "cell_type": "code",
      "execution_count": 47,
      "metadata": {},
      "outputs": [
        {
          "data": {
            "text/html": [
              "<span style=\"white-space:pre; font-family: monospace\">\n",
              "</span>"
            ]
          },
          "execution_count": 47,
          "metadata": {},
          "output_type": "execute_result"
        }
      ],
      "source": [
        "\u2374 Discount    \u235d Ditto."
      ]
    },
    {
      "cell_type": "markdown",
      "metadata": {},
      "source": [
        "### Vocabulary\n",
        "\n",
        "In this book, we shall use the following terms:\n",
        "\n",
        "| | | | |\n",
        "| :- | :- | :- | :- |\n",
        "| ***Array*** | is a generic word for any sequence of items (possibly containing a single item, or no items at all) | | |\n",
        "| ***Scalar*** | is a single item like | `Discount` | its rank is 0 |\n",
        "| ***Vector*** | is a list of items like | `Years` | its rank is 1 |\n",
        "| ***Matrix*** | is an array of rank 2 like | `Money` | its rank is 2 |\n",
        "| ***Table*** | is a common name for a matrix | | |\n",
        "| ***Cube*** | is a common name for 3-D arrays like | `Prod` | its rank is 3 |\n",
        "\n",
        "### Beware!\n",
        "\n",
        "#### The Shape is Always a Vector\n",
        "\n",
        "The shape of a value is **always** a vector, even if it contains only one item or even no items at all."
      ]
    },
    {
      "cell_type": "code",
      "execution_count": 48,
      "metadata": {},
      "outputs": [
        {
          "data": {
            "text/html": [
              "<span style=\"white-space:pre; font-family: monospace\">4\n",
              "</span>"
            ]
          },
          "execution_count": 48,
          "metadata": {},
          "output_type": "execute_result"
        }
      ],
      "source": [
        "Shape \u2190 \u2374Years\n",
        "Shape            \u235d It looks like a scalar."
      ]
    },
    {
      "cell_type": "code",
      "execution_count": 49,
      "metadata": {},
      "outputs": [
        {
          "data": {
            "text/html": [
              "<span style=\"white-space:pre; font-family: monospace\">1\n",
              "</span>"
            ]
          },
          "execution_count": 49,
          "metadata": {},
          "output_type": "execute_result"
        }
      ],
      "source": [
        "\u2374\u2374 Shape         \u235d But it is of rank 1, so it is a vector."
      ]
    },
    {
      "cell_type": "code",
      "execution_count": 50,
      "metadata": {},
      "outputs": [
        {
          "data": {
            "text/html": [
              "<span style=\"white-space:pre; font-family: monospace\">1\n",
              "</span>"
            ]
          },
          "execution_count": 50,
          "metadata": {},
          "output_type": "execute_result"
        }
      ],
      "source": [
        "\u2374 Shape          \u235d It is a vector with only one item."
      ]
    },
    {
      "cell_type": "markdown",
      "metadata": {},
      "source": [
        "This shows, in particular, that `\u2374 Years` does *not* return the length of the vector `Years`. `\u2374 Years` returns the shape of `Years`, which is a 1-item vector with the number 4. The length of `Years` (which is the scalar value 4) can be obtained with an appropriate primitive: the ***Tally*** primitive `\u2262`, that you can type with <kbd>APL</kbd>+<kbd>Shift</kbd>+<kbd>'</kbd>. Notice how `\u2262` returns the scalar value 4, instead of a 1-item vector with the value 4:"
      ]
    },
    {
      "cell_type": "code",
      "execution_count": 51,
      "metadata": {},
      "outputs": [
        {
          "data": {
            "text/html": [
              "<span style=\"white-space:pre; font-family: monospace\">4\n",
              "</span>"
            ]
          },
          "execution_count": 51,
          "metadata": {},
          "output_type": "execute_result"
        }
      ],
      "source": [
        "Length \u2190 \u2262Years\n",
        "Length"
      ]
    },
    {
      "cell_type": "code",
      "execution_count": 52,
      "metadata": {},
      "outputs": [
        {
          "data": {
            "text/html": [
              "<span style=\"white-space:pre; font-family: monospace\">\n",
              "</span>"
            ]
          },
          "execution_count": 52,
          "metadata": {},
          "output_type": "execute_result"
        }
      ],
      "source": [
        "\u2374Length"
      ]
    },
    {
      "cell_type": "code",
      "execution_count": 53,
      "metadata": {},
      "outputs": [
        {
          "data": {
            "text/html": [
              "<span style=\"white-space:pre; font-family: monospace\">1\n",
              "</span>"
            ]
          },
          "execution_count": 53,
          "metadata": {},
          "output_type": "execute_result"
        }
      ],
      "source": [
        "\u2374Shape"
      ]
    },
    {
      "cell_type": "markdown",
      "metadata": {},
      "source": [
        "Having introduced *Tally*, we can now use it to compute the rank of an array properly. The rank of an array should be a scalar, so instead of `\u2374\u2374Array` we can use `\u2262\u2374Array`, which you can read as\n",
        "\n",
        " > Tally the elements of the Shape of `Array`"
      ]
    },
    {
      "cell_type": "code",
      "execution_count": 54,
      "metadata": {},
      "outputs": [
        {
          "data": {
            "text/html": [
              "<span style=\"white-space:pre; font-family: monospace\">1\n",
              "</span>"
            ]
          },
          "execution_count": 54,
          "metadata": {},
          "output_type": "execute_result"
        }
      ],
      "source": [
        "\u2262\u2374Years        \u235d Years has rank 1, it is a vector"
      ]
    },
    {
      "cell_type": "markdown",
      "metadata": {},
      "source": [
        "#### Do Not Rely on the Visual Aspect of a Variable\n",
        "\n",
        "Although scalars, vectors, and matrices may sometimes look the same when they are displayed, they should not be confused. Just look at the two variables `Length` and `Shape` above, they look the same but one is a scalar and the other is a vector:"
      ]
    },
    {
      "cell_type": "code",
      "execution_count": 55,
      "metadata": {},
      "outputs": [
        {
          "data": {
            "text/html": [
              "<span style=\"white-space:pre; font-family: monospace\">4\n",
              "</span>"
            ]
          },
          "execution_count": 55,
          "metadata": {},
          "output_type": "execute_result"
        }
      ],
      "source": [
        "Length"
      ]
    },
    {
      "cell_type": "code",
      "execution_count": 56,
      "metadata": {},
      "outputs": [
        {
          "data": {
            "text/html": [
              "<span style=\"white-space:pre; font-family: monospace\">0\n",
              "</span>"
            ]
          },
          "execution_count": 56,
          "metadata": {},
          "output_type": "execute_result"
        }
      ],
      "source": [
        "\u2262\u2374Length        \u235d 0 dimensions, it is a scalar"
      ]
    },
    {
      "cell_type": "code",
      "execution_count": 57,
      "metadata": {},
      "outputs": [
        {
          "data": {
            "text/html": [
              "<span style=\"white-space:pre; font-family: monospace\">4\n",
              "</span>"
            ]
          },
          "execution_count": 57,
          "metadata": {},
          "output_type": "execute_result"
        }
      ],
      "source": [
        "Shape"
      ]
    },
    {
      "cell_type": "code",
      "execution_count": 58,
      "metadata": {},
      "outputs": [
        {
          "data": {
            "text/html": [
              "<span style=\"white-space:pre; font-family: monospace\">1\n",
              "</span>"
            ]
          },
          "execution_count": 58,
          "metadata": {},
          "output_type": "execute_result"
        }
      ],
      "source": [
        "\u2262\u2374Shape         \u235d 1 dimension, it is a vector"
      ]
    },
    {
      "cell_type": "markdown",
      "metadata": {},
      "source": [
        "Scalars should not be confused with a 1-item vector, or 1-item matrix, or with any 1-item multi-dimensional array for that matter. Remember that the scalar has rank 0 while a multi-dimensional array will have rank greater than 0.\n",
        "\n",
        "But confusion doesn't arise only with scalars versus 1-item multi-dimensional arrays. Consider the variables `V` and `M` that we will introduce now, a vector and a one-row matrix:"
      ]
    },
    {
      "cell_type": "code",
      "execution_count": 59,
      "metadata": {},
      "outputs": [],
      "source": [
        "V \u2190 87 65 21 40\n",
        "M \u2190 1 4 \u2374 87 65 21 40"
      ]
    },
    {
      "cell_type": "markdown",
      "metadata": {},
      "source": [
        "If we display their values, they look exactly the same:"
      ]
    },
    {
      "cell_type": "code",
      "execution_count": 60,
      "metadata": {},
      "outputs": [
        {
          "data": {
            "text/html": [
              "<span style=\"white-space:pre; font-family: monospace\">87 65 21 40\n",
              "</span>"
            ]
          },
          "execution_count": 60,
          "metadata": {},
          "output_type": "execute_result"
        }
      ],
      "source": [
        "V"
      ]
    },
    {
      "cell_type": "code",
      "execution_count": 61,
      "metadata": {},
      "outputs": [
        {
          "data": {
            "text/html": [
              "<span style=\"white-space:pre; font-family: monospace\">87 65 21 40\n",
              "</span>"
            ]
          },
          "execution_count": 61,
          "metadata": {},
          "output_type": "execute_result"
        }
      ],
      "source": [
        "M"
      ]
    },
    {
      "cell_type": "markdown",
      "metadata": {},
      "source": [
        "But they cannot be easily added or multiplied together:"
      ]
    },
    {
      "cell_type": "code",
      "execution_count": 62,
      "metadata": {},
      "outputs": [
        {
          "name": "stderr",
          "output_type": "stream",
          "text": [
            "RANK ERROR: Mismatched left and right argument ranks\n",
            "      V+M\n",
            "       \u2227\n"
          ]
        }
      ],
      "source": [
        "V + M"
      ]
    },
    {
      "cell_type": "markdown",
      "metadata": {},
      "source": [
        "#### Displaying Long Vectors\n",
        "\n",
        "If a vector is too long to be displayed in a single line on your screen, the interpreter session will wrap it onto several lines. But to prevent possible confusion with the display of a matrix, the second line and the following lines will not be aligned at the left margin, but will be indented 6 characters to the right. To show you what we mean, the figure below contains a screenshot of the Windows IDE when we display the variable `Bignum`; the vector is split in 3 lines and some of the values are only visible if you scroll right.\n",
        "\n",
        "```{figure} ../res/Bignum_Output.png\n",
        "---\n",
        "name: Bignum_Output\n",
        "---\n",
        "A long variable being wrapped in the Windows IDE\n",
        "```\n",
        "\n",
        "Depending on the format in which you are reading this book, you may or may not be able to see all the numbers and they may or may not be laid out in several lines. If they are, then the first line will also not be indented, like in the figure above."
      ]
    },
    {
      "cell_type": "code",
      "execution_count": 63,
      "metadata": {},
      "outputs": [
        {
          "data": {
            "text/html": [
              "<span style=\"white-space:pre; font-family: monospace\">446.19 231.12 253.59 115.56 262.15 271.78 1.07 180.83 166.92 318.86 240.75 44.94 240.75 90.95 317.79 285.69 4.28 368.08 295.32 379.85 324.21 77.04 77.04 415.16 447.26 33.17 415.16 285.69 202.23 126.26 180.83 81.32 134.82 261.08 343.47 157.29 335.98\n",
              "</span>"
            ]
          },
          "execution_count": 63,
          "metadata": {},
          "output_type": "execute_result"
        }
      ],
      "source": [
        "Bignum"
      ]
    },
    {
      "cell_type": "markdown",
      "metadata": {},
      "source": [
        "## Simple Character Values\n",
        "\n",
        "### Character Vectors and Scalars\n",
        "\n",
        "Up to now, we have used only numeric values, but we can also create textual data known as a *character array*. To identify a string of characters as text, we start and end it with a single ***Quote***:"
      ]
    },
    {
      "cell_type": "code",
      "execution_count": 64,
      "metadata": {},
      "outputs": [
        {
          "data": {
            "text/html": [
              "<span style=\"white-space:pre; font-family: monospace\">Today is August 7th, 2020\n",
              "</span>"
            ]
          },
          "execution_count": 64,
          "metadata": {},
          "output_type": "execute_result"
        }
      ],
      "source": [
        "Text \u2190 'Today is August 7th, 2020'\n",
        "Text"
      ]
    },
    {
      "cell_type": "code",
      "execution_count": 65,
      "metadata": {},
      "outputs": [
        {
          "data": {
            "text/html": [
              "<span style=\"white-space:pre; font-family: monospace\">25\n",
              "</span>"
            ]
          },
          "execution_count": 65,
          "metadata": {},
          "output_type": "execute_result"
        }
      ],
      "source": [
        "\u2374Text"
      ]
    },
    {
      "cell_type": "code",
      "execution_count": 66,
      "metadata": {},
      "outputs": [
        {
          "data": {
            "text/html": [
              "<span style=\"white-space:pre; font-family: monospace\">I type 7 trailing blanks       \n",
              "</span>"
            ]
          },
          "execution_count": 66,
          "metadata": {},
          "output_type": "execute_result"
        }
      ],
      "source": [
        "Trailer \u2190 'I type 7 trailing blanks       '\n",
        "Trailer"
      ]
    },
    {
      "cell_type": "code",
      "execution_count": 67,
      "metadata": {},
      "outputs": [
        {
          "data": {
            "text/html": [
              "<span style=\"white-space:pre; font-family: monospace\">31\n",
              "</span>"
            ]
          },
          "execution_count": 67,
          "metadata": {},
          "output_type": "execute_result"
        }
      ],
      "source": [
        "\u2374Trailer"
      ]
    },
    {
      "cell_type": "markdown",
      "metadata": {},
      "source": [
        "As these examples show:\n",
        "\n",
        " - The quotes are **not** part of the text, they're just there to delimit it.\n",
        " - Text can include any character: letters, digits and punctuation.\n",
        " - So, `Text` and `Trailer` are vectors. They are sometimes called *Strings*.\n",
        " - APL does not recognize words; a character array is simple a set of characters.\n",
        " - Blank characters (spaces) are characters like any other characters; they do not have any special meaning. However, when a character array is displayed any trailing blanks are most often invisible.\n",
        " \n",
        "A problem may occur when the text itself includes an apostrophe, for example in a sentence like \"*It's raining, isn't it?*\".\n",
        "\n",
        "When you enter apostrophes as part of the text, you must double them, as shown below, to distinguish them from the delimiters:"
      ]
    },
    {
      "cell_type": "code",
      "execution_count": 68,
      "metadata": {},
      "outputs": [],
      "source": [
        "Damned \u2190 'It''s raining, isn''t it?'"
      ]
    },
    {
      "cell_type": "markdown",
      "metadata": {},
      "source": [
        "This is only a typing convention, but the doubled quotes are transformed into a single apostrophe, as you can see here:"
      ]
    },
    {
      "cell_type": "code",
      "execution_count": 69,
      "metadata": {},
      "outputs": [
        {
          "data": {
            "text/html": [
              "<span style=\"white-space:pre; font-family: monospace\">It's raining, isn't it?\n",
              "</span>"
            ]
          },
          "execution_count": 69,
          "metadata": {},
          "output_type": "execute_result"
        }
      ],
      "source": [
        "Damned        \u235d The vector's size is equato to 23."
      ]
    },
    {
      "cell_type": "markdown",
      "metadata": {},
      "source": [
        "As mentioned above a character array can contain digits, but they are not considered to be numbers, and it is impossible to use them in a mathematical operation:"
      ]
    },
    {
      "cell_type": "code",
      "execution_count": 70,
      "metadata": {},
      "outputs": [
        {
          "data": {
            "text/html": [
              "<span style=\"white-space:pre; font-family: monospace\">100\n",
              "</span>"
            ]
          },
          "execution_count": 70,
          "metadata": {},
          "output_type": "execute_result"
        }
      ],
      "source": [
        "Hundred \u2190 '100'\n",
        "Hundred            \u235d It looks like a number."
      ]
    },
    {
      "cell_type": "code",
      "execution_count": 71,
      "metadata": {},
      "outputs": [
        {
          "data": {
            "text/html": [
              "<span style=\"white-space:pre; font-family: monospace\">3\n",
              "</span>"
            ]
          },
          "execution_count": 71,
          "metadata": {},
          "output_type": "execute_result"
        }
      ],
      "source": [
        "\u2374Hundred           \u235d But it isn't."
      ]
    },
    {
      "cell_type": "code",
      "execution_count": 72,
      "metadata": {},
      "outputs": [
        {
          "name": "stderr",
          "output_type": "stream",
          "text": [
            "DOMAIN ERROR\n",
            "      Hundred+5\n",
            "             \u2227\n"
          ]
        }
      ],
      "source": [
        "Hundred + 5"
      ]
    },
    {
      "cell_type": "markdown",
      "metadata": {},
      "source": [
        "Of course, a single character is a scalar:"
      ]
    },
    {
      "cell_type": "code",
      "execution_count": 73,
      "metadata": {},
      "outputs": [
        {
          "data": {
            "text/html": [
              "<span style=\"white-space:pre; font-family: monospace\">\n",
              "</span>"
            ]
          },
          "execution_count": 73,
          "metadata": {},
          "output_type": "execute_result"
        }
      ],
      "source": [
        "Singleton \u2190 'p'\n",
        "\u2374Singleton        \u235d Do you remember? Scalars have no dimensions."
      ]
    },
    {
      "cell_type": "code",
      "execution_count": 74,
      "metadata": {},
      "outputs": [
        {
          "data": {
            "text/html": [
              "<span style=\"white-space:pre; font-family: monospace\">0\n",
              "</span>"
            ]
          },
          "execution_count": 74,
          "metadata": {},
          "output_type": "execute_result"
        }
      ],
      "source": [
        "\u2374\u2374Singleton       \u235d Yes, it is definitely a scalar."
      ]
    },
    {
      "cell_type": "markdown",
      "metadata": {},
      "source": [
        "### Character Arrays\n",
        "\n",
        "We saw, some pages ago, a list of months:\n",
        "\n",
        "```\n",
        "January\n",
        "February\n",
        "March\n",
        "April\n",
        "May\n",
        "June\n",
        "```\n",
        "\n",
        "We can think of this as a list of $6$ words, or as a matrix of $6$ rows and $8$ columns (the width of \"February\"). Both representations are valid, and both can be used in APL; let us study them one after the other.\n",
        "\n",
        "To enter the months as a $6$ by $8$ matrix, one must use the *Reshape* (`\u2374`) function:\n",
        "\n",
        " - To the left of the function we must specify the shape of the matrix we want to build: `6 8`\n",
        " - To the right of the function we must specify all of the characters (including any trailing blanks) that are necessary to fill each row to the proper length:"
      ]
    },
    {
      "cell_type": "code",
      "execution_count": 75,
      "metadata": {},
      "outputs": [],
      "source": [
        "MonMat \u2190 6 8 \u2374 'January FebruaryMarch   April   May     June'"
      ]
    },
    {
      "cell_type": "markdown",
      "metadata": {},
      "source": [
        "No space was typed between `February` and `March`; do you see why?"
      ]
    },
    {
      "cell_type": "code",
      "execution_count": 76,
      "metadata": {},
      "outputs": [
        {
          "data": {
            "text/html": [
              "<span style=\"white-space:pre; font-family: monospace\">January \n",
              "February\n",
              "March   \n",
              "April   \n",
              "May     \n",
              "JuneJanu\n",
              "</span>"
            ]
          },
          "execution_count": 76,
          "metadata": {},
          "output_type": "execute_result"
        }
      ],
      "source": [
        "MonMat        \u235d Now, let us see the result."
      ]
    },
    {
      "cell_type": "markdown",
      "metadata": {},
      "source": [
        "Oops! We forgot that when the right argument is too short, `\u2374` reuses it from the beginning. That's the reason why the last row is wrong. We must add $4$ trailing blanks.\n",
        "\n",
        "```{admonition} Tip \n",
        ":class: tip\n",
        "You do not have to re-type the entire expression.\n",
        "\n",
        "If you are working in the interpreter session, just move your cursor up to the line where you defined `MonMat`, add the missing blanks, and press the *Enter* key.\n",
        "\n",
        "APL will then copy the modified line down to the end of your session and automatically restore the original line to its original state. As a consequence, the interpreter window always displays the sequence of expressions and results in the order in which you typed them.\n",
        "```\n",
        "\n",
        "If you are working with the Jupyter notebook version of this book, you can just go to the input cell where you made your mistake and correct it in place. Otherwise, just copy the cell and correct the mistake in the copied cell:"
      ]
    },
    {
      "cell_type": "code",
      "execution_count": 77,
      "metadata": {},
      "outputs": [
        {
          "data": {
            "text/html": [
              "<span style=\"white-space:pre; font-family: monospace\">January \n",
              "February\n",
              "March   \n",
              "April   \n",
              "May     \n",
              "June    \n",
              "</span>"
            ]
          },
          "execution_count": 77,
          "metadata": {},
          "output_type": "execute_result"
        }
      ],
      "source": [
        "MonMat \u2190 6 8 \u2374 'January FebruaryMarch   April   May     June    '\n",
        "MonMat"
      ]
    },
    {
      "cell_type": "code",
      "execution_count": 78,
      "metadata": {},
      "outputs": [
        {
          "data": {
            "text/html": [
              "<span style=\"white-space:pre; font-family: monospace\">6 8\n",
              "</span>"
            ]
          },
          "execution_count": 78,
          "metadata": {},
          "output_type": "execute_result"
        }
      ],
      "source": [
        "\u2374MonMat       \u235d As expected, it is a matrix."
      ]
    },
    {
      "cell_type": "markdown",
      "metadata": {},
      "source": [
        "Now, to enter the months as 6 words, one must type each word between quotes, and check that each closing quote is separated from the next opening quote by at least one blank (otherwise it would be interpreted as an apostrophe - remember, the juxtaposition of two quotes in a character string is used to enter a single quote):"
      ]
    },
    {
      "cell_type": "code",
      "execution_count": 79,
      "metadata": {},
      "outputs": [
        {
          "data": {
            "text/html": [
              "<span style=\"white-space:pre; font-family: monospace\">\u250c\u2500\u2500\u2500\u2500\u2500\u2500\u2500\u252c\u2500\u2500\u2500\u2500\u2500\u2500\u2500\u2500\u252c\u2500\u2500\u2500\u2500\u2500\u252c\u2500\u2500\u2500\u2500\u2500\u252c\u2500\u2500\u2500\u252c\u2500\u2500\u2500\u2500\u2510\n",
              "\u2502January\u2502February\u2502March\u2502April\u2502May\u2502June\u2502\n",
              "\u2514\u2500\u2500\u2500\u2500\u2500\u2500\u2500\u2534\u2500\u2500\u2500\u2500\u2500\u2500\u2500\u2500\u2534\u2500\u2500\u2500\u2500\u2500\u2534\u2500\u2500\u2500\u2500\u2500\u2534\u2500\u2500\u2500\u2534\u2500\u2500\u2500\u2500\u2518\n",
              "</span>"
            ]
          },
          "execution_count": 79,
          "metadata": {},
          "output_type": "execute_result"
        }
      ],
      "source": [
        "MonVec \u2190 'January' 'February' 'March' 'April' 'May' 'June'\n",
        "MonVec"
      ]
    },
    {
      "cell_type": "code",
      "execution_count": 80,
      "metadata": {},
      "outputs": [
        {
          "data": {
            "text/html": [
              "<span style=\"white-space:pre; font-family: monospace\">6\n",
              "</span>"
            ]
          },
          "execution_count": 80,
          "metadata": {},
          "output_type": "execute_result"
        }
      ],
      "source": [
        "\u2374MonVec        \u235d It is a vector."
      ]
    },
    {
      "cell_type": "markdown",
      "metadata": {},
      "source": [
        "`MonVec` is a vector of a kind that we have not seen before, the items of which are 6 sub-arrays. This kind of an array is called a ***Nested Array*** and is the reason why we see those black boxes around the months.\n",
        "\n",
        "Be patient! We shall study nested arrays very soon in this very chapter.\n",
        "\n",
        "## Indexing\n",
        "\n",
        "### Traditional Vector Indexing\n",
        "\n",
        "Our variable `Contents` contains the following items:"
      ]
    },
    {
      "cell_type": "code",
      "execution_count": 81,
      "metadata": {},
      "outputs": [
        {
          "data": {
            "text/html": [
              "<span style=\"white-space:pre; font-family: monospace\">12 56 78 74 85 96 30 22 44 66 82 27\n",
              "</span>"
            ]
          },
          "execution_count": 81,
          "metadata": {},
          "output_type": "execute_result"
        }
      ],
      "source": [
        "Contents"
      ]
    },
    {
      "cell_type": "markdown",
      "metadata": {},
      "source": [
        "To extract one of these items, you just have to specify its position, or ***Index***, between ***Square brackets***:"
      ]
    },
    {
      "cell_type": "code",
      "execution_count": 82,
      "metadata": {},
      "outputs": [
        {
          "data": {
            "text/html": [
              "<span style=\"white-space:pre; font-family: monospace\">78\n",
              "</span>"
            ]
          },
          "execution_count": 82,
          "metadata": {},
          "output_type": "execute_result"
        }
      ],
      "source": [
        "Contents[3]"
      ]
    },
    {
      "cell_type": "markdown",
      "metadata": {},
      "source": [
        "Of course, an index must follow some obvious rules: it must be an integer numeric value; it may not be negative or greater than the size of the vector. Otherwise, an \"`INDEX ERROR`\" will be reported.\n",
        "\n",
        "It is possible to extract several items in a single operation, and in any order:"
      ]
    },
    {
      "cell_type": "code",
      "execution_count": 83,
      "metadata": {},
      "outputs": [
        {
          "data": {
            "text/html": [
              "<span style=\"white-space:pre; font-family: monospace\">78 30 12 78 78 27\n",
              "</span>"
            ]
          },
          "execution_count": 83,
          "metadata": {},
          "output_type": "execute_result"
        }
      ],
      "source": [
        "Contents[3 7 1 3 3 12]        \u235d You can see that an item can be selected\n",
        "                              \u235d more than once."
      ]
    },
    {
      "cell_type": "markdown",
      "metadata": {},
      "source": [
        "The same notation allows you to modify one or more items of the vector. The only condition is that you must provide as many replacement values as the number of items you select, or give a single replacement value to use for all the selected items:"
      ]
    },
    {
      "cell_type": "code",
      "execution_count": 84,
      "metadata": {},
      "outputs": [
        {
          "data": {
            "text/html": [
              "<span style=\"white-space:pre; font-family: monospace\">12 7 78 11 85 80 30 22 44 66 82 27\n",
              "</span>"
            ]
          },
          "execution_count": 84,
          "metadata": {},
          "output_type": "execute_result"
        }
      ],
      "source": [
        "Contents[2 4 6] \u2190 7 11 80     \u235d Three values replace three items.\n",
        "Contents"
      ]
    },
    {
      "cell_type": "code",
      "execution_count": 85,
      "metadata": {},
      "outputs": [
        {
          "data": {
            "text/html": [
              "<span style=\"white-space:pre; font-family: monospace\">12 7 78 11 85 80 30 33 44 66 33 33\n",
              "</span>"
            ]
          },
          "execution_count": 85,
          "metadata": {},
          "output_type": "execute_result"
        }
      ],
      "source": [
        "Contents[8 11 12] \u2190 33        \u235d One single value replaces three items.\n",
        "Contents"
      ]
    },
    {
      "cell_type": "markdown",
      "metadata": {},
      "source": [
        "This works exactly the same on character vectors:"
      ]
    },
    {
      "cell_type": "code",
      "execution_count": 86,
      "metadata": {},
      "outputs": [
        {
          "data": {
            "text/html": [
              "<span style=\"white-space:pre; font-family: monospace\">REPORT\n",
              "</span>"
            ]
          },
          "execution_count": 86,
          "metadata": {},
          "output_type": "execute_result"
        }
      ],
      "source": [
        "'COMPUTER'[8 7 4 2 8 6]"
      ]
    },
    {
      "cell_type": "code",
      "execution_count": 87,
      "metadata": {},
      "outputs": [
        {
          "data": {
            "text/html": [
              "<span style=\"white-space:pre; font-family: monospace\">BLEND\n",
              "</span>"
            ]
          },
          "execution_count": 87,
          "metadata": {},
          "output_type": "execute_result"
        }
      ],
      "source": [
        "Text \u2190 'BREAD'\n",
        "Text[2 4] \u2190 'LN'\n",
        "Text"
      ]
    },
    {
      "cell_type": "markdown",
      "metadata": {},
      "source": [
        "### The Shape of the Result\n",
        "\n",
        "The index may be a numeric array of any shape: scalar, vector, matrix, or an array of higher rank. To understand what happens, there is a simple rule:\n",
        "\n",
        " > When a vector is indexed by an array, the result has exactly the <b><i>same shape</i></b> as the index array, as if each item of the index had been replaced by the item it designates.\n",
        "\n",
        "This rule is easy to verify. Let us restore the initial values of `Contents`:"
      ]
    },
    {
      "cell_type": "code",
      "execution_count": 88,
      "metadata": {},
      "outputs": [],
      "source": [
        "Contents \u2190 12 56 78 74 85 96 30 22 44 66 82 27"
      ]
    },
    {
      "cell_type": "markdown",
      "metadata": {},
      "source": [
        "And let us create a matrix of indices:"
      ]
    },
    {
      "cell_type": "code",
      "execution_count": 89,
      "metadata": {},
      "outputs": [
        {
          "data": {
            "text/html": [
              "<span style=\"white-space:pre; font-family: monospace\"> 5  5 4  4  8\n",
              " 6 12 6 11 12\n",
              "10  6 1  4  9\n",
              "</span>"
            ]
          },
          "execution_count": 89,
          "metadata": {},
          "output_type": "execute_result"
        }
      ],
      "source": [
        "MyIndex \u2190 3 5 \u2374 5 5 4 4 8 6 12 6 11 12 10 6 1 4 9\n",
        "MyIndex"
      ]
    },
    {
      "cell_type": "code",
      "execution_count": 90,
      "metadata": {},
      "outputs": [
        {
          "data": {
            "text/html": [
              "<span style=\"white-space:pre; font-family: monospace\">85 85 74 74 22\n",
              "96 27 96 82 27\n",
              "66 96 12 74 44\n",
              "</span>"
            ]
          },
          "execution_count": 90,
          "metadata": {},
          "output_type": "execute_result"
        }
      ],
      "source": [
        "Contents[MyIndex]"
      ]
    },
    {
      "cell_type": "markdown",
      "metadata": {},
      "source": [
        "For example, you can see that the index in row 2, column 5 was 12. So, it has been replaced by the 12th item of `Contents`, i.e. 27.\n",
        "\n",
        "The rule remains true if the indexed vector is a character vector. For example, imagine that we have a matrix named `Planning`, in which some tasks are planned (1) or not (0) over the next 12 months:"
      ]
    },
    {
      "cell_type": "code",
      "execution_count": 91,
      "metadata": {},
      "outputs": [
        {
          "data": {
            "text/html": [
              "<span style=\"white-space:pre; font-family: monospace\">0 0 0 1 1 1 1 1 1 0 0 0\n",
              "1 1 1 1 1 1 1 1 0 0 0 0\n",
              "0 1 1 1 0 0 0 0 0 1 1 1\n",
              "0 0 0 0 0 0 0 1 1 1 1 1\n",
              "0 0 1 1 1 1 1 0 0 0 0 0\n",
              "</span>"
            ]
          },
          "execution_count": 91,
          "metadata": {},
          "output_type": "execute_result"
        }
      ],
      "source": [
        "Planning"
      ]
    },
    {
      "cell_type": "markdown",
      "metadata": {},
      "source": [
        "This is not very easy to interpret! Let us replace the inactive periods by \"`-`\", and the busy periods by \"`\u2395`\". This beautiful character, named ***Quad***, can be entered by pressing <kbd>APL</kbd>+<kbd>L</kbd>."
      ]
    },
    {
      "cell_type": "code",
      "execution_count": 92,
      "metadata": {},
      "outputs": [
        {
          "data": {
            "text/html": [
              "<span style=\"white-space:pre; font-family: monospace\">---\u2395\u2395\u2395\u2395\u2395\u2395---\n",
              "\u2395\u2395\u2395\u2395\u2395\u2395\u2395\u2395----\n",
              "-\u2395\u2395\u2395-----\u2395\u2395\u2395\n",
              "-------\u2395\u2395\u2395\u2395\u2395\n",
              "--\u2395\u2395\u2395\u2395\u2395-----\n",
              "</span>"
            ]
          },
          "execution_count": 92,
          "metadata": {},
          "output_type": "execute_result"
        }
      ],
      "source": [
        "'-\u2395'[Planning+1]"
      ]
    },
    {
      "cell_type": "markdown",
      "metadata": {},
      "source": [
        "Isn't it magic?\n",
        "\n",
        "Do you understand why we added 1 to `Planning`? Of course, the vector to be indexed was composed of only two characters, so the set of indices had to be composed only from the values 1 and 2 and that is why we used `Planning+1` to index.\n",
        "\n",
        "All the 0's in `Planning` have been replaced by the 1st item (`-`), and all the 1's have been replaced by the 2nd item (`\u2395`).\n",
        "\n",
        "### Array Indexing\n",
        "\n",
        "Just to make some experiments, let us create a new variable, named `Tests`:"
      ]
    },
    {
      "cell_type": "code",
      "execution_count": 93,
      "metadata": {},
      "outputs": [
        {
          "data": {
            "text/html": [
              "<span style=\"white-space:pre; font-family: monospace\">41 26 38\n",
              "14 87 52\n",
              "30 28 19\n",
              "65 40 55\n",
              "19 31 64\n",
              "45 82 74\n",
              "</span>"
            ]
          },
          "execution_count": 93,
          "metadata": {},
          "output_type": "execute_result"
        }
      ],
      "source": [
        "Tests"
      ]
    },
    {
      "cell_type": "markdown",
      "metadata": {},
      "source": [
        "Indexing an array is very similar to the method we say for vectors, but we now need one index for the row and one for the column; they must be separated by a ***Semi-colon***. For example, to get (or replace) the value 55 in row 4, column 3, one types:"
      ]
    },
    {
      "cell_type": "code",
      "execution_count": 94,
      "metadata": {},
      "outputs": [
        {
          "data": {
            "text/html": [
              "<span style=\"white-space:pre; font-family: monospace\">55\n",
              "</span>"
            ]
          },
          "execution_count": 94,
          "metadata": {},
          "output_type": "execute_result"
        }
      ],
      "source": [
        "Tests[4;3]"
      ]
    },
    {
      "cell_type": "markdown",
      "metadata": {},
      "source": [
        "It is of course possible to select more than one row and more than one column. If so, one obtains all the values situated at the intersections of the specified rows and columns."
      ]
    },
    {
      "cell_type": "code",
      "execution_count": 95,
      "metadata": {},
      "outputs": [
        {
          "data": {
            "text/html": [
              "<span style=\"white-space:pre; font-family: monospace\">41 38\n",
              "19 64\n",
              "45 74\n",
              "</span>"
            ]
          },
          "execution_count": 95,
          "metadata": {},
          "output_type": "execute_result"
        }
      ],
      "source": [
        "Tests[1 5 6;1 3]"
      ]
    },
    {
      "cell_type": "markdown",
      "metadata": {},
      "source": [
        "The result of indexing may sometimes be surprising. Let us extract 4 values from the first column:"
      ]
    },
    {
      "cell_type": "code",
      "execution_count": 96,
      "metadata": {},
      "outputs": [
        {
          "data": {
            "text/html": [
              "<span style=\"white-space:pre; font-family: monospace\">41 14 19 45\n",
              "</span>"
            ]
          },
          "execution_count": 96,
          "metadata": {},
          "output_type": "execute_result"
        }
      ],
      "source": [
        "Tests[1 2 5 6;1]"
      ]
    },
    {
      "cell_type": "markdown",
      "metadata": {},
      "source": [
        "You probably expected the result to be displayed like a column? Really sorry!\n",
        "\n",
        "The result of this expression is a vector, and a vector is always displayed as a row on the screen.\n",
        "\n",
        "We shall see later that it is possible, using a little trick, to cause the result to be displayed vertically.\n",
        "\n",
        "When you use indexing, you must specify as many indices or sets of indices as the array's rank. For a 3-D array, you must specify 3 sets of indices, separated by two semi-colons.\n",
        "\n",
        "For example, suppose that we would like to extract the production of the 2nd assembly line, for the first 6 months of the last 2 years, from the array `Prod`. Let's express that in order of the 3 dimensions: Years/Lines/Months:\n",
        "\n",
        "|||\n",
        "|:-|:-|\n",
        "| The last 2 years are in positions | 4 5 |\n",
        "| The second assembly line | 2 |\n",
        "| The first 6 months | 1 2 3 4 5 6 |"
      ]
    },
    {
      "cell_type": "code",
      "execution_count": 97,
      "metadata": {},
      "outputs": [
        {
          "data": {
            "text/html": [
              "<span style=\"white-space:pre; font-family: monospace\">16 55 26 20 27 55\n",
              "24 35 61 26 22 35\n",
              "</span>"
            ]
          },
          "execution_count": 97,
          "metadata": {},
          "output_type": "execute_result"
        }
      ],
      "source": [
        "Prod[4 5;2;1 2 3 4 5 6]    \u235d The result is a matrix: 2 years/6 months."
      ]
    },
    {
      "cell_type": "markdown",
      "metadata": {},
      "source": [
        "```{admonition} Remark \n",
        ":class: tip\n",
        "Because we can select rows and columns, the semi-colon is necessary to tell them apart:\n",
        "```\n"
      ]
    },
    {
      "cell_type": "code",
      "execution_count": 98,
      "metadata": {},
      "outputs": [
        {
          "data": {
            "text/html": [
              "<span style=\"white-space:pre; font-family: monospace\">38 52\n",
              "</span>"
            ]
          },
          "execution_count": 98,
          "metadata": {},
          "output_type": "execute_result"
        }
      ],
      "source": [
        "Tests[1 2;3]    \u235d gives rows 1 and 2, column 3"
      ]
    },
    {
      "cell_type": "markdown",
      "metadata": {},
      "source": [
        "whereas"
      ]
    },
    {
      "cell_type": "code",
      "execution_count": 99,
      "metadata": {},
      "outputs": [
        {
          "data": {
            "text/html": [
              "<span style=\"white-space:pre; font-family: monospace\">26 38\n",
              "</span>"
            ]
          },
          "execution_count": 99,
          "metadata": {},
          "output_type": "execute_result"
        }
      ],
      "source": [
        "Tests[1;2 3]    \u235d gives row 1, columns 2 and 3"
      ]
    },
    {
      "cell_type": "markdown",
      "metadata": {},
      "source": [
        "```{admonition} Remark \n",
        ":class: tip\n",
        "It is also possible to select several items which are not at the intersections of the same rows or columns. To do so requires a special notation where the individual Row/Column indices of each item are embedded in parentheses. The reason for this syntax will become clear in Section 6.3.\n",
        "```\n",
        "\n",
        "For example, let us select `Tests[2;3]` together with `Tests[5;1]` and `Tests[1;2`."
      ]
    },
    {
      "cell_type": "code",
      "execution_count": 100,
      "metadata": {},
      "outputs": [
        {
          "data": {
            "text/html": [
              "<span style=\"white-space:pre; font-family: monospace\">52 19 26\n",
              "</span>"
            ]
          },
          "execution_count": 100,
          "metadata": {},
          "output_type": "execute_result"
        }
      ],
      "source": [
        "Tests[(2 3)(5 1)(1 2)]"
      ]
    },
    {
      "cell_type": "markdown",
      "metadata": {},
      "source": [
        "### Convention\n",
        "\n",
        "To specify *all* items of a dimension, you just omit the index for that dimension, but you must not omit the semi-colon attached to it.\n",
        "\n",
        "In the previous example, to obtain both assembly lines we could have typed:"
      ]
    },
    {
      "cell_type": "code",
      "execution_count": 101,
      "metadata": {},
      "outputs": [
        {
          "data": {
            "text/html": [
              "<span style=\"white-space:pre; font-family: monospace\">21 57 55 44 16 54\n",
              "16 55 26 20 27 55\n",
              "                 \n",
              "27 23 56 41 53 60\n",
              "24 35 61 26 22 35\n",
              "</span>"
            ]
          },
          "execution_count": 101,
          "metadata": {},
          "output_type": "execute_result"
        }
      ],
      "source": [
        "Prod[4 5;1 2;1 2 3 4 5 6]"
      ]
    },
    {
      "cell_type": "markdown",
      "metadata": {},
      "source": [
        "But it is shorter to type:"
      ]
    },
    {
      "cell_type": "code",
      "execution_count": 102,
      "metadata": {},
      "outputs": [
        {
          "data": {
            "text/html": [
              "<span style=\"white-space:pre; font-family: monospace\">21 57 55 44 16 54\n",
              "16 55 26 20 27 55\n",
              "                 \n",
              "27 23 56 41 53 60\n",
              "24 35 61 26 22 35\n",
              "</span>"
            ]
          },
          "execution_count": 102,
          "metadata": {},
          "output_type": "execute_result"
        }
      ],
      "source": [
        "Prod[4 5;;1 2 3 4 5 6]    \u235d The omitted index means\n",
        "                          \u235d \"All the assembly lines\"."
      ]
    },
    {
      "cell_type": "markdown",
      "metadata": {},
      "source": [
        "In the same way:"
      ]
    },
    {
      "cell_type": "code",
      "execution_count": 103,
      "metadata": {},
      "outputs": [
        {
          "data": {
            "text/html": [
              "<span style=\"white-space:pre; font-family: monospace\">16 55 26 20 27 55 36 39 43 38 50 16\n",
              "24 35 61 26 22 35 24 20 31 35 47 37\n",
              "</span>"
            ]
          },
          "execution_count": 103,
          "metadata": {},
          "output_type": "execute_result"
        }
      ],
      "source": [
        "Prod[4 5;2;]              \u235d The omitted last index means\n",
        "                          \u235d \"All the months\"."
      ]
    },
    {
      "cell_type": "markdown",
      "metadata": {},
      "source": [
        "And finally:"
      ]
    },
    {
      "cell_type": "code",
      "execution_count": 104,
      "metadata": {},
      "outputs": [
        {
          "data": {
            "text/html": [
              "<span style=\"white-space:pre; font-family: monospace\">26 16 22\n",
              "43 36 47\n",
              "        \n",
              "44 21 58\n",
              "29 19 23\n",
              "        \n",
              "37 27 53\n",
              "56 55 25\n",
              "        \n",
              "21 57 55\n",
              "16 55 26\n",
              "        \n",
              "27 23 56\n",
              "24 35 61\n",
              "</span>"
            ]
          },
          "execution_count": 104,
          "metadata": {},
          "output_type": "execute_result"
        }
      ],
      "source": [
        "Prod[;;1 2 3]             \u235d The omitted indices mean\n",
        "                          \u235d \"All years and lines\"."
      ]
    },
    {
      "cell_type": "markdown",
      "metadata": {},
      "source": [
        "This convention also applies to *replacing* specific items. For example, to change all the items in the last row of `Tests`, we could type:"
      ]
    },
    {
      "cell_type": "code",
      "execution_count": 105,
      "metadata": {},
      "outputs": [
        {
          "data": {
            "text/html": [
              "<span style=\"white-space:pre; font-family: monospace\">41 26 38\n",
              "14 87 52\n",
              "30 28 19\n",
              "65 40 55\n",
              "19 31 64\n",
              "60 70 80\n",
              "</span>"
            ]
          },
          "execution_count": 105,
          "metadata": {},
          "output_type": "execute_result"
        }
      ],
      "source": [
        "Tests[6;] \u2190 60 70 80\n",
        "Tests"
      ]
    },
    {
      "cell_type": "markdown",
      "metadata": {},
      "source": [
        "### Warnings\n",
        "\n",
        "We would like to draw your attention to some delicate details. Here is the first:\n",
        "\n",
        "#### Shape Compatibility\n",
        "\n",
        "To replace several items in an array, the replacement array must have exactly the **same shape** as the array of indices they replace.\n",
        "\n",
        "For example, supposed that we would like to replace the four \"corners\" of `Tests` with the values 11 22 33 44 respectively.\n",
        "\n",
        "We **cannot** successfully execute:"
      ]
    },
    {
      "cell_type": "code",
      "execution_count": 106,
      "metadata": {},
      "outputs": [
        {
          "name": "stderr",
          "output_type": "stream",
          "text": [
            "LENGTH ERROR\n",
            "      Tests[1 6;1 3]\u219011 22 33 44\n",
            "           \u2227\n"
          ]
        }
      ],
      "source": [
        "Tests[1 6;1 3] \u2190 11 22 33 44"
      ]
    },
    {
      "cell_type": "markdown",
      "metadata": {},
      "source": [
        "Notice the `LENGTH ERROR` that was issued (note that this is a \"**Shape** error\").\n",
        "\n",
        "If we had extracted these four values, the result would have been a 2 by 2 matrix:"
      ]
    },
    {
      "cell_type": "code",
      "execution_count": 107,
      "metadata": {},
      "outputs": [
        {
          "data": {
            "text/html": [
              "<span style=\"white-space:pre; font-family: monospace\">41 38\n",
              "60 80\n",
              "</span>"
            ]
          },
          "execution_count": 107,
          "metadata": {},
          "output_type": "execute_result"
        }
      ],
      "source": [
        "Tests[1 6;1 3]        \u235d Remember: row 6 was modified above!"
      ]
    },
    {
      "cell_type": "markdown",
      "metadata": {},
      "source": [
        "So, to replace them, we cannot use a vector, as we have just tried to do. Instead we must organise the replacement array into a 2 by 2 matrix, like this:"
      ]
    },
    {
      "cell_type": "code",
      "execution_count": 108,
      "metadata": {},
      "outputs": [
        {
          "data": {
            "text/html": [
              "<span style=\"white-space:pre; font-family: monospace\">11 26 22\n",
              "14 87 52\n",
              "30 28 19\n",
              "65 40 55\n",
              "19 31 64\n",
              "33 70 44\n",
              "</span>"
            ]
          },
          "execution_count": 108,
          "metadata": {},
          "output_type": "execute_result"
        }
      ],
      "source": [
        "Tests[1 6;1 3] \u2190 2 2 \u2374 11 22 33 44\n",
        "Tests"
      ]
    },
    {
      "cell_type": "markdown",
      "metadata": {},
      "source": [
        "Notice the corners have the new values.\n",
        "\n",
        "#### Replace or Obtain All the Values\n",
        "\n",
        "To replace **all** of the values in an array with a single value, it is necessary to use brackets in which the indices of all the dimensions have been removed.\n",
        "\n",
        "For example, imagine that we would like to reset all the values of `Tests` to zero.\n",
        "\n",
        "`Tests \u2190 0` would be **wrong**, because that would replace the matrix by a scalar.\n",
        "\n",
        "The correct solution is"
      ]
    },
    {
      "cell_type": "code",
      "execution_count": 109,
      "metadata": {},
      "outputs": [
        {
          "data": {
            "text/html": [
              "<span style=\"white-space:pre; font-family: monospace\">0 0 0\n",
              "0 0 0\n",
              "0 0 0\n",
              "0 0 0\n",
              "0 0 0\n",
              "0 0 0\n",
              "</span>"
            ]
          },
          "execution_count": 109,
          "metadata": {},
          "output_type": "execute_result"
        }
      ],
      "source": [
        "Tests2 \u2190 Tests\n",
        "Tests2[;] \u2190 0        \u235d All the rows and columns are replaced by zero.\n",
        "Tests2"
      ]
    },
    {
      "cell_type": "markdown",
      "metadata": {},
      "source": [
        "For a vector, like `Contents`, we would write"
      ]
    },
    {
      "cell_type": "code",
      "execution_count": 110,
      "metadata": {},
      "outputs": [
        {
          "data": {
            "text/html": [
              "<span style=\"white-space:pre; font-family: monospace\">123 123 123 123 123 123 123 123 123 123 123 123\n",
              "</span>"
            ]
          },
          "execution_count": 110,
          "metadata": {},
          "output_type": "execute_result"
        }
      ],
      "source": [
        "Contents[] \u2190 123\n",
        "Contents"
      ]
    },
    {
      "cell_type": "markdown",
      "metadata": {},
      "source": [
        "to replace all the items with 123.\n",
        "\n",
        "#### \"Pass-Through\" Value\n",
        "\n",
        "Imagine that we have a vector:"
      ]
    },
    {
      "cell_type": "code",
      "execution_count": 111,
      "metadata": {},
      "outputs": [],
      "source": [
        "Vec \u2190 32 51 28 19 72 31"
      ]
    },
    {
      "cell_type": "markdown",
      "metadata": {},
      "source": [
        "We replace some items and assign the result to another variable:"
      ]
    },
    {
      "cell_type": "code",
      "execution_count": 112,
      "metadata": {},
      "outputs": [],
      "source": [
        "Res \u2190 Vec[2 4 6] \u2190 50"
      ]
    },
    {
      "cell_type": "markdown",
      "metadata": {},
      "source": [
        "What do we get in `Res`? Is it `Res \u2190 Vec[2 4 6]`, or is it `Res \u2190 50`?"
      ]
    },
    {
      "cell_type": "code",
      "execution_count": 113,
      "metadata": {},
      "outputs": [
        {
          "data": {
            "text/html": [
              "<span style=\"white-space:pre; font-family: monospace\">50\n",
              "</span>"
            ]
          },
          "execution_count": 113,
          "metadata": {},
          "output_type": "execute_result"
        }
      ],
      "source": [
        "Res"
      ]
    },
    {
      "cell_type": "markdown",
      "metadata": {},
      "source": [
        "In fact, we get `50`. We say that `50` is a ***Pass-Through*** value.\n",
        "\n",
        "### The Index Function\n",
        "\n",
        "In APL, nearly all of the built-in functions (known as *Primitive Functions*) are represented by a single symbol: `+` `\u00d7` `\u2374` `\u00f7` etc. Bracket indexing, as we introduced above, is an exception: it is represented by two non-contiguous symbols: `[` and `]`. This is one of the reasons why modern versions of APL also include an ***Index*** function.\n",
        "\n",
        "It is represented by the symbol `\u2337`.\n",
        "\n",
        "**Beware**: this is **not** the symbol *Quad* used in our planning example a few pages ago!\n",
        "\n",
        "In fact, it looks like a *Quad* which has been *squished*, hence its name: Squish-Quad, or ***Squad*** for short. The *Squad* is obtained with <kbd>APL</kbd>+<kbd>Shift</kbd>+<kbd>L</kbd>.\n",
        "\n",
        "When applied to a vector, *Index* takes a single number on its left."
      ]
    },
    {
      "cell_type": "code",
      "execution_count": 114,
      "metadata": {},
      "outputs": [
        {
          "data": {
            "text/html": [
              "<span style=\"white-space:pre; font-family: monospace\">123\n",
              "</span>"
            ]
          },
          "execution_count": 114,
          "metadata": {},
          "output_type": "execute_result"
        }
      ],
      "source": [
        "3 \u2337 Contents        \u235d This is equivalent to Contents[3]."
      ]
    },
    {
      "cell_type": "markdown",
      "metadata": {},
      "source": [
        "For now, we shall not try to extract more than one item from a vector; we need additional knowledge to do that.\n",
        "\n",
        "For a matrix, *Index* takes a pair of values (row/column) on its left."
      ]
    },
    {
      "cell_type": "code",
      "execution_count": 115,
      "metadata": {},
      "outputs": [
        {
          "data": {
            "text/html": [
              "<span style=\"white-space:pre; font-family: monospace\">40\n",
              "</span>"
            ]
          },
          "execution_count": 115,
          "metadata": {},
          "output_type": "execute_result"
        }
      ],
      "source": [
        "4 2 \u2337 Tests         \u235d Equivalent to Tests[4;2]."
      ]
    },
    {
      "cell_type": "markdown",
      "metadata": {},
      "source": [
        "It is possible to select several rows and several columns, using a special notation that will be explained in subsequent sections. The left argument of *Index* is now made of a list of rows followed by a list of columns, both parenthesised:"
      ]
    },
    {
      "cell_type": "code",
      "execution_count": 116,
      "metadata": {},
      "outputs": [
        {
          "data": {
            "text/html": [
              "<span style=\"white-space:pre; font-family: monospace\">11 22\n",
              "30 19\n",
              "33 44\n",
              "</span>"
            ]
          },
          "execution_count": 116,
          "metadata": {},
          "output_type": "execute_result"
        }
      ],
      "source": [
        "(1 3 6)(1 3)\u2337Tests  \u235d Equivalent to Tests[1 3 6;1 3]."
      ]
    },
    {
      "cell_type": "markdown",
      "metadata": {},
      "source": [
        "## Mixed and Nested Arrays\n",
        "\n",
        "Up to now we have dealt only with homogeneous arrays: scalars, vectors or higher rank arrays containing only numbers or only characters. An array was a collection of what we call *simple* scalars. In the early 1980's enhanced versions of APL started to appear. They accepted a mixture of numbers and characters within the same array (so-called ***Mixed Arrays***), and arrays could contain sub-arrays as items (so-called ***Nested Arrays***).\n",
        "\n",
        "In this chapter, we shall explore only some basic properties of *Mixed* and *Nested arrays*, just to help you understand what might otherwise appear to be unusual behaviour or unexpected error messages. We shall not go any further for now; Chapter I will be entirely dedicated to an extensive study of nested arrays.\n",
        "\n",
        "Note that with the current widespread use of *Nested arrays*, it is now very common to refer to an \"old-fashioned\" array that is not *Nested* as a *Simple array*.\n",
        "\n",
        "### Mixed Arrays\n",
        "\n",
        "An array is described as a ***Mixed Array*** if it contains a mixture of scalar numbers and scalar characters.\n",
        "\n",
        "It is easy to create such an array:"
      ]
    },
    {
      "cell_type": "code",
      "execution_count": 117,
      "metadata": {},
      "outputs": [
        {
          "data": {
            "text/html": [
              "<span style=\"white-space:pre; font-family: monospace\">9\n",
              "</span>"
            ]
          },
          "execution_count": 117,
          "metadata": {},
          "output_type": "execute_result"
        }
      ],
      "source": [
        "MixVec \u2190 44 87 'K' 12 29 'B' 'a' 'g' 46.3\n",
        "\u2374MixVec        \u235d This is a vector."
      ]
    },
    {
      "cell_type": "code",
      "execution_count": 118,
      "metadata": {},
      "outputs": [
        {
          "data": {
            "text/html": [
              "<span style=\"white-space:pre; font-family: monospace\">44 87 K 12 29 Bag 46.3\n",
              "</span>"
            ]
          },
          "execution_count": 118,
          "metadata": {},
          "output_type": "execute_result"
        }
      ],
      "source": [
        "MixVec"
      ]
    },
    {
      "cell_type": "code",
      "execution_count": 119,
      "metadata": {},
      "outputs": [
        {
          "data": {
            "text/html": [
              "<span style=\"white-space:pre; font-family: monospace\">2 5\n",
              "</span>"
            ]
          },
          "execution_count": 119,
          "metadata": {},
          "output_type": "execute_result"
        }
      ],
      "source": [
        "MixMat \u2190 2 5\u2374MixVec\n",
        "\u2374MixMat        \u235d That is a matrix."
      ]
    },
    {
      "cell_type": "code",
      "execution_count": 120,
      "metadata": {},
      "outputs": [
        {
          "data": {
            "text/html": [
              "<span style=\"white-space:pre; font-family: monospace\">44 87 K 12   29\n",
              " B  a g 46.3 44\n",
              "</span>"
            ]
          },
          "execution_count": 120,
          "metadata": {},
          "output_type": "execute_result"
        }
      ],
      "source": [
        "MixMat"
      ]
    },
    {
      "cell_type": "markdown",
      "metadata": {},
      "source": [
        "### Four Important Remarks\n",
        "\n",
        "#### 6.2.1\n",
        "\n",
        "In a vector like `MixVec`, each letter must be entered as a scalar: embedded within quotes, and separated from the next one by at least one blank space.\n",
        "\n",
        "If the space is omitted, for example, if we type"
      ]
    },
    {
      "cell_type": "code",
      "execution_count": 121,
      "metadata": {},
      "outputs": [
        {
          "data": {
            "text/html": [
              "<span style=\"white-space:pre; font-family: monospace\">B'a'g\n",
              "</span>"
            ]
          },
          "execution_count": 121,
          "metadata": {},
          "output_type": "execute_result"
        }
      ],
      "source": [
        "'B''a''g'"
      ]
    },
    {
      "cell_type": "markdown",
      "metadata": {},
      "source": [
        "APL interprets the doubled quotes as apostrophes, which yields `B'a'g`. This is not a sequence of 3 scalars, but a 5-item vector:"
      ]
    },
    {
      "cell_type": "code",
      "execution_count": 122,
      "metadata": {},
      "outputs": [
        {
          "data": {
            "text/html": [
              "<span style=\"white-space:pre; font-family: monospace\">5\n",
              "</span>"
            ]
          },
          "execution_count": 122,
          "metadata": {},
          "output_type": "execute_result"
        }
      ],
      "source": [
        "\u2262 'B''a''g'        \u235d Vector with 5 items."
      ]
    },
    {
      "cell_type": "code",
      "execution_count": 123,
      "metadata": {},
      "outputs": [
        {
          "data": {
            "text/html": [
              "<span style=\"white-space:pre; font-family: monospace\">3\n",
              "</span>"
            ]
          },
          "execution_count": 123,
          "metadata": {},
          "output_type": "execute_result"
        }
      ],
      "source": [
        "\u2262 'B' 'a' 'g'      \u235d Vector with 3 items."
      ]
    },
    {
      "cell_type": "markdown",
      "metadata": {},
      "source": [
        "#### 6.2.2\n",
        "\n",
        "When `MixVec` is displayed (see above), the three letters `Bag` are joined together, like the letters in any vector of characters.\n",
        "\n",
        "This presentation might be confused with an array of 7 items, whose 6th item is the vector `'Bag'`. That would be a *Nested Array*. We will soon learn how to investigate the structure of an array.\n",
        "\n",
        "#### 6.2.3\n",
        "\n",
        "This confusion disappears in `MixMat`. Because the items of the matrix must be aligned in columns, \"B\" is placed under 44, \"a\" under 87, and \"g' under \"K\". Here you can easily see that the three letters `Bag` are really three independent scalars.\n",
        "\n",
        "#### 6.2.4\n",
        "\n",
        "A ***Mixed*** array is made up only of simple scalars (numbers or characters); **it is not** a *Nested Array*.\n",
        "\n",
        "### Nested Arrays\n",
        "\n",
        "An array is said to be ***Generalised*** or ***Nested*** when one or more of its items are not *simple* scalars, but are scalars which contain other arrays. The latter may be simple arrays of any shape or rank (vectors, matrices, arrays), or they may themselves be *Nested arrays*.\n",
        "\n",
        "A nested array can be created in a number of ways; we shall begin with the simplest one, known as ***Vector notation***, or ***Strand notation***. Here is how it works:\n",
        "\n",
        "The items of an array are just juxtaposed side by side, and each can be identified as an item because it is:\n",
        "\n",
        " - either separated from its neighbours by **blanks**\n",
        " - or embedded within **quotes**\n",
        " - or an expression embedded within **parentheses**\n",
        " - or a **variable name**\n",
        " \n",
        "Just to demonstrate how it works, let us create a nested vector and a nested matrix."
      ]
    },
    {
      "cell_type": "code",
      "execution_count": 124,
      "metadata": {},
      "outputs": [],
      "source": [
        "One \u2190 2 2 \u2374 8 6 2 4        \u235d Create two simple arrays,\n",
        "Two \u2190 'Hello'              \u235d which will be used below."
      ]
    },
    {
      "cell_type": "code",
      "execution_count": 125,
      "metadata": {},
      "outputs": [
        {
          "data": {
            "text/html": [
              "<span style=\"white-space:pre; font-family: monospace\">8\n",
              "</span>"
            ]
          },
          "execution_count": 125,
          "metadata": {},
          "output_type": "execute_result"
        }
      ],
      "source": [
        "NesVec \u2190 87 24 'John' 51 (78 45 23) 95 One 69\n",
        "\u2262NesVec"
      ]
    },
    {
      "cell_type": "markdown",
      "metadata": {},
      "source": [
        "The length of `NesVec` is 8 because we have juxtaposed 8 items."
      ]
    },
    {
      "cell_type": "code",
      "execution_count": 126,
      "metadata": {},
      "outputs": [
        {
          "data": {
            "text/html": [
              "<span style=\"white-space:pre; font-family: monospace\">\u250c\u2500\u2500\u252c\u2500\u2500\u252c\u2500\u2500\u2500\u2500\u252c\u2500\u2500\u252c\u2500\u2500\u2500\u2500\u2500\u2500\u2500\u2500\u252c\u2500\u2500\u252c\u2500\u2500\u2500\u252c\u2500\u2500\u2510\n",
              "\u250287\u250224\u2502John\u250251\u250278 45 23\u250295\u25028 6\u250269\u2502\n",
              "\u2502  \u2502  \u2502    \u2502  \u2502        \u2502  \u25022 4\u2502  \u2502\n",
              "\u2514\u2500\u2500\u2534\u2500\u2500\u2534\u2500\u2500\u2500\u2500\u2534\u2500\u2500\u2534\u2500\u2500\u2500\u2500\u2500\u2500\u2500\u2500\u2534\u2500\u2500\u2534\u2500\u2500\u2500\u2534\u2500\u2500\u2518\n",
              "</span>"
            ]
          },
          "execution_count": 126,
          "metadata": {},
          "output_type": "execute_result"
        }
      ],
      "source": [
        "NesVec"
      ]
    },
    {
      "cell_type": "markdown",
      "metadata": {},
      "source": [
        "The Jupyter notebook puts boxes around the items of the vector to make it easier to interpret the result. If the expression above were to be ran in the Dyalog APL interpreter session, the result would be\n",
        "\n",
        "```\n",
        "87 24  John  51  78 45 23  95  8 6  69\n",
        "                               2 4    \n",
        "```\n",
        "\n",
        "which is a bit difficult to read and interpret.\n",
        "\n",
        "And now, a matrix!"
      ]
    },
    {
      "cell_type": "code",
      "execution_count": 127,
      "metadata": {},
      "outputs": [
        {
          "data": {
            "text/html": [
              "<span style=\"white-space:pre; font-family: monospace\">2 3\n",
              "</span>"
            ]
          },
          "execution_count": 127,
          "metadata": {},
          "output_type": "execute_result"
        }
      ],
      "source": [
        "NesMat \u2190 2 3 \u2374 'Dyalog' 44 Two 27 One (2 3\u23741 2 0 0 0 5)\n",
        "\u2374NesMat"
      ]
    },
    {
      "cell_type": "code",
      "execution_count": 128,
      "metadata": {},
      "outputs": [
        {
          "data": {
            "text/html": [
              "<span style=\"white-space:pre; font-family: monospace\">\u250c\u2500\u2500\u2500\u2500\u2500\u2500\u252c\u2500\u2500\u2500\u252c\u2500\u2500\u2500\u2500\u2500\u2510\n",
              "\u2502Dyalog\u250244 \u2502Hello\u2502\n",
              "\u251c\u2500\u2500\u2500\u2500\u2500\u2500\u253c\u2500\u2500\u2500\u253c\u2500\u2500\u2500\u2500\u2500\u2524\n",
              "\u250227    \u25028 6\u25021 2 0\u2502\n",
              "\u2502      \u25022 4\u25020 0 5\u2502\n",
              "\u2514\u2500\u2500\u2500\u2500\u2500\u2500\u2534\u2500\u2500\u2500\u2534\u2500\u2500\u2500\u2500\u2500\u2518\n",
              "</span>"
            ]
          },
          "execution_count": 128,
          "metadata": {},
          "output_type": "execute_result"
        }
      ],
      "source": [
        "NesMat"
      ]
    },
    {
      "cell_type": "markdown",
      "metadata": {},
      "source": [
        "Again, the notebook boxes the items of the matrix so we have an easier time interpreting the result. In the interpreter session the output would be\n",
        "\n",
        "```\n",
        " Dyalog   44  Hello \n",
        "     27  8 6  1 2 0 \n",
        "         2 4  0 0 5 \n",
        "```\n",
        "\n",
        "To obtain this kind of boxed presentation in the interpreter session, execute the following command (remember: a command begins by a closing parenthesis):"
      ]
    },
    {
      "cell_type": "code",
      "execution_count": 129,
      "metadata": {},
      "outputs": [
        {
          "data": {
            "text/html": [
              "<span style=\"white-space:pre; font-family: monospace\">C:\\Program Files\\Dyalog\\Dyalog APL-64 18.0 Unicode\\ws\\Util.dws saved Wed Jul 15 20:03:40 2020\n",
              "</span>"
            ]
          },
          "execution_count": 129,
          "metadata": {},
          "output_type": "execute_result"
        }
      ],
      "source": [
        ")Copy Util DISP"
      ]
    },
    {
      "cell_type": "markdown",
      "metadata": {},
      "source": [
        "Then execute:"
      ]
    },
    {
      "cell_type": "code",
      "execution_count": 130,
      "metadata": {},
      "outputs": [
        {
          "data": {
            "text/html": [
              "<span style=\"white-space:pre; font-family: monospace\">\u250c\u2500\u2500\u2500\u2500\u2500\u2500\u252c\u2500\u2500\u2500\u252c\u2500\u2500\u2500\u2500\u2500\u2510\n",
              "\u2502Dyalog\u250244 \u2502Hello\u2502\n",
              "\u251c\u2500\u2500\u2500\u2500\u2500\u2500\u253c\u2500\u2500\u2500\u253c\u2500\u2500\u2500\u2500\u2500\u2524\n",
              "\u2502  27  \u25028 6\u25021 2 0\u2502\n",
              "\u2502      \u25022 4\u25020 0 5\u2502\n",
              "\u2514\u2500\u2500\u2500\u2500\u2500\u2500\u2534\u2500\u2500\u2500\u2534\u2500\u2500\u2500\u2500\u2500\u2518\n",
              "</span>"
            ]
          },
          "execution_count": 130,
          "metadata": {},
          "output_type": "execute_result"
        }
      ],
      "source": [
        "DISP NesMat"
      ]
    },
    {
      "cell_type": "markdown",
      "metadata": {},
      "source": [
        "If you want this kind of boxing to be permanent, you can go to your session and type"
      ]
    },
    {
      "cell_type": "code",
      "execution_count": 131,
      "metadata": {},
      "outputs": [
        {
          "data": {
            "text/html": [
              "<span style=\"white-space:pre; font-family: monospace\">Was ON\n",
              "</span>"
            ]
          },
          "execution_count": 131,
          "metadata": {},
          "output_type": "execute_result"
        }
      ],
      "source": [
        "]box ON"
      ]
    },
    {
      "cell_type": "markdown",
      "metadata": {},
      "source": [
        "which, on your interpreter session, should actually print `Was OFF`, meaning that automatic boxing of nested arrays was OFF and *now* is ON. Because Jupyter notebooks have this option ON by default, typing `]box ON` tells the option was already ON.\n",
        "\n",
        "For demonstration purposes, we will turn the automatic boxing OFF to compare the results of viewing `NesMat` without having to use the `DISP` function:"
      ]
    },
    {
      "cell_type": "code",
      "execution_count": 132,
      "metadata": {},
      "outputs": [
        {
          "data": {
            "text/html": [
              "<span style=\"white-space:pre; font-family: monospace\">\u250c\u2500\u2500\u2500\u2500\u2500\u2500\u252c\u2500\u2500\u2500\u252c\u2500\u2500\u2500\u2500\u2500\u2510\n",
              "\u2502Dyalog\u250244 \u2502Hello\u2502\n",
              "\u251c\u2500\u2500\u2500\u2500\u2500\u2500\u253c\u2500\u2500\u2500\u253c\u2500\u2500\u2500\u2500\u2500\u2524\n",
              "\u250227    \u25028 6\u25021 2 0\u2502\n",
              "\u2502      \u25022 4\u25020 0 5\u2502\n",
              "\u2514\u2500\u2500\u2500\u2500\u2500\u2500\u2534\u2500\u2500\u2500\u2534\u2500\u2500\u2500\u2500\u2500\u2518\n",
              "</span>"
            ]
          },
          "execution_count": 132,
          "metadata": {},
          "output_type": "execute_result"
        }
      ],
      "source": [
        "NesMat"
      ]
    },
    {
      "cell_type": "code",
      "execution_count": 133,
      "metadata": {},
      "outputs": [
        {
          "data": {
            "text/html": [
              "<span style=\"white-space:pre; font-family: monospace\">Was ON\n",
              "</span>"
            ]
          },
          "execution_count": 133,
          "metadata": {},
          "output_type": "execute_result"
        }
      ],
      "source": [
        "]box OFF"
      ]
    },
    {
      "cell_type": "code",
      "execution_count": 134,
      "metadata": {},
      "outputs": [
        {
          "data": {
            "text/html": [
              "<span style=\"white-space:pre; font-family: monospace\"> Dyalog   44  Hello \n",
              "     27  8 6  1 2 0 \n",
              "         2 4  0 0 5 \n",
              "</span>"
            ]
          },
          "execution_count": 134,
          "metadata": {},
          "output_type": "execute_result"
        }
      ],
      "source": [
        "NesMat"
      ]
    },
    {
      "cell_type": "code",
      "execution_count": 135,
      "metadata": {
        "scrolled": true
      },
      "outputs": [
        {
          "data": {
            "text/html": [
              "<span style=\"white-space:pre; font-family: monospace\">\u250c\u2500\u2500\u2500\u2500\u2500\u2500\u252c\u2500\u2500\u2500\u252c\u2500\u2500\u2500\u2500\u2500\u2510\n",
              "\u2502Dyalog\u250244 \u2502Hello\u2502\n",
              "\u251c\u2500\u2500\u2500\u2500\u2500\u2500\u253c\u2500\u2500\u2500\u253c\u2500\u2500\u2500\u2500\u2500\u2524\n",
              "\u2502  27  \u25028 6\u25021 2 0\u2502\n",
              "\u2502      \u25022 4\u25020 0 5\u2502\n",
              "\u2514\u2500\u2500\u2500\u2500\u2500\u2500\u2534\u2500\u2500\u2500\u2534\u2500\u2500\u2500\u2500\u2500\u2518\n",
              "</span>"
            ]
          },
          "execution_count": 135,
          "metadata": {},
          "output_type": "execute_result"
        }
      ],
      "source": [
        "DISP NesMat"
      ]
    },
    {
      "cell_type": "markdown",
      "metadata": {},
      "source": [
        "You probably remember the mixed vector `MixVec`, which contained 3 adjacent scalars, \"B\", \"a\", and \"g\". Let us compare the **unboxed** display of `MixVec` with a 7 item nested vector, whose 6th item contains the word \"Bag\":"
      ]
    },
    {
      "cell_type": "code",
      "execution_count": 136,
      "metadata": {},
      "outputs": [
        {
          "data": {
            "text/html": [
              "<span style=\"white-space:pre; font-family: monospace\">44 87 K 12 29  Bag  46.3\n",
              "</span>"
            ]
          },
          "execution_count": 136,
          "metadata": {},
          "output_type": "execute_result"
        }
      ],
      "source": [
        "44 87 'K' 12 29 'Bag' 46.3    \u235d Let us enter the nested array.\n",
        "                              \u235d It is displayed like this."
      ]
    },
    {
      "cell_type": "code",
      "execution_count": 137,
      "metadata": {},
      "outputs": [
        {
          "data": {
            "text/html": [
              "<span style=\"white-space:pre; font-family: monospace\">44 87 K 12 29 Bag 46.3\n",
              "</span>"
            ]
          },
          "execution_count": 137,
          "metadata": {},
          "output_type": "execute_result"
        }
      ],
      "source": [
        "MixVec                        \u235d Then let's look at MixVec.\n",
        "                              \u235d It is displayed like this."
      ]
    },
    {
      "cell_type": "markdown",
      "metadata": {},
      "source": [
        "If you look closely you will have observed that in the nested array the sub-vector `Bag` is separated from its neighbours not by a single space, but by two spaces: this should alert an experienced APLer that it is a nested array.\n",
        "\n",
        "However, this difference is so small that the APL community, all over the world, uses a utility program, named `DISPLAY`, to draw boxes around arrays (nested or not), to make things clear. Let us examine it in the next section.\n",
        "\n",
        "Notice that because `MixVec` is **not** nested it has no boxes around its items.\n",
        "\n",
        "### DISPLAY\n",
        "\n",
        "`DISPLAY` is provided with Dyalog APL in a library workspace which itself is named DISPLAY. Because this library is by default on the *Workspace Search Path* of APL, you can easily add the DISPLAY function to your active workspace by typing the command:"
      ]
    },
    {
      "cell_type": "code",
      "execution_count": 138,
      "metadata": {},
      "outputs": [
        {
          "data": {
            "text/html": [
              "<span style=\"white-space:pre; font-family: monospace\">C:\\Program Files\\Dyalog\\Dyalog APL-64 18.0 Unicode\\ws\\display.dws saved Wed Jul 15 20:03:16 2020\n",
              "</span>"
            ]
          },
          "execution_count": 138,
          "metadata": {},
          "output_type": "execute_result"
        }
      ],
      "source": [
        ")copy display        \u235d This copies the entire workspace, but it\n",
        "                     \u235d contains only one single function: DISPLAY."
      ]
    },
    {
      "cell_type": "markdown",
      "metadata": {},
      "source": [
        "As you can see, applied to a simple scalar, `DISPLAY` already produces slight differences:"
      ]
    },
    {
      "cell_type": "code",
      "execution_count": 139,
      "metadata": {},
      "outputs": [
        {
          "data": {
            "text/html": [
              "<span style=\"white-space:pre; font-family: monospace\">37\n",
              "</span>"
            ]
          },
          "execution_count": 139,
          "metadata": {},
          "output_type": "execute_result"
        }
      ],
      "source": [
        "37"
      ]
    },
    {
      "cell_type": "code",
      "execution_count": 140,
      "metadata": {},
      "outputs": [
        {
          "data": {
            "text/html": [
              "<span style=\"white-space:pre; font-family: monospace\">  \n",
              "37\n",
              "  \n",
              "</span>"
            ]
          },
          "execution_count": 140,
          "metadata": {},
          "output_type": "execute_result"
        }
      ],
      "source": [
        "DISPLAY 37"
      ]
    },
    {
      "cell_type": "code",
      "execution_count": 141,
      "metadata": {},
      "outputs": [
        {
          "data": {
            "text/html": [
              "<span style=\"white-space:pre; font-family: monospace\">K\n",
              "</span>"
            ]
          },
          "execution_count": 141,
          "metadata": {},
          "output_type": "execute_result"
        }
      ],
      "source": [
        "'K'"
      ]
    },
    {
      "cell_type": "code",
      "execution_count": 142,
      "metadata": {},
      "outputs": [
        {
          "data": {
            "text/html": [
              "<span style=\"white-space:pre; font-family: monospace\"> \n",
              "K\n",
              "-\n",
              "</span>"
            ]
          },
          "execution_count": 142,
          "metadata": {},
          "output_type": "execute_result"
        }
      ],
      "source": [
        "DISPLAY 'K'"
      ]
    },
    {
      "cell_type": "markdown",
      "metadata": {},
      "source": [
        "We see that the display results are centered in a 3-row area; for numerical simple scalars the top and bottom rows are empty, which creates the white region around the `37` you can see above. For character simple scalars, the bottom row underlines the character and the top row is left empty.\n",
        "\n",
        "However, applied to a vector, `DISPLAY` will provide more information:"
      ]
    },
    {
      "cell_type": "code",
      "execution_count": 143,
      "metadata": {},
      "outputs": [
        {
          "data": {
            "text/html": [
              "<span style=\"white-space:pre; font-family: monospace\">\u250c\u2192\u2500\u2500\u2500\u2500\u2500\u2500\u2500\u2510\n",
              "\u250254 73 19\u2502\n",
              "\u2514~\u2500\u2500\u2500\u2500\u2500\u2500\u2500\u2518\n",
              "</span>"
            ]
          },
          "execution_count": 143,
          "metadata": {},
          "output_type": "execute_result"
        }
      ],
      "source": [
        "DISPLAY 54 73 19        \u235d The default presentation uses line-drawing\n",
        "                        \u235d characters to draw the box."
      ]
    },
    {
      "cell_type": "markdown",
      "metadata": {},
      "source": [
        "The second, rougher, form of presentation is provided for use in circumstances where the line-drawing symbols in the APL font are not displayed or printed as intended. This will depend upon your version of the Operating System and on the display and printer drivers you are using.\n",
        "\n",
        "#### Conventions\n",
        "\n",
        "The upper-left corner of the box provides information about the **shape** of the displayed value:\n",
        "\n",
        " - a single horizontal arrow for a vector:\n",
        "\n",
        " - two (or more) arrows for a matrix or higher rank arrays:\n",
        "\n",
        " - no arrow at all for scalars containing nested values, a concept we haven't seen up to now\n",
        " \n",
        "The bottom-left corner of the box provided information about the **contents** of the array:\n",
        "\n",
        " - `~` means that the array contains only numeric values:\n",
        "\n",
        " - `-` (which actually goes unnoticed) means that the array contains only characters:\n",
        "\n",
        " - `+` is used for mixed arrays:\n",
        "\n",
        " - `\u220a` means that the array contains other arrays: it is a nested array:\n",
        "\n",
        "#### 6.4.2 - Examples"
      ]
    },
    {
      "cell_type": "code",
      "execution_count": 144,
      "metadata": {},
      "outputs": [
        {
          "data": {
            "text/html": [
              "<span style=\"white-space:pre; font-family: monospace\">\u250c\u2192\u2500\u2500\u2500\u2500\u2500\u2500\u2500\u2510\n",
              "\u250278 45 12\u2502\n",
              "\u2514~\u2500\u2500\u2500\u2500\u2500\u2500\u2500\u2518\n",
              "</span>"
            ]
          },
          "execution_count": 144,
          "metadata": {},
          "output_type": "execute_result"
        }
      ],
      "source": [
        "DISPLAY 78 45 12        \u235d Display a plain numeric (~) vector (\u2192)."
      ]
    },
    {
      "cell_type": "code",
      "execution_count": 145,
      "metadata": {},
      "outputs": [
        {
          "data": {
            "text/html": [
              "<span style=\"white-space:pre; font-family: monospace\">\u250c\u2192\u2500\u2500\u2500\u2500\u2500\u2500\u2500\u2510\n",
              "\u219378 45 12\u2502\n",
              "\u2514~\u2500\u2500\u2500\u2500\u2500\u2500\u2500\u2518\n",
              "</span>"
            ]
          },
          "execution_count": 145,
          "metadata": {},
          "output_type": "execute_result"
        }
      ],
      "source": [
        "DISPLAY 1 3 \u2374 78 45 12  \u235d With its two arrows, this matrix cannot be\n",
        "                        \u235d confused with the vector show above."
      ]
    },
    {
      "cell_type": "code",
      "execution_count": 146,
      "metadata": {},
      "outputs": [
        {
          "data": {
            "text/html": [
              "<span style=\"white-space:pre; font-family: monospace\">\u250c\u2192\u2500\u2500\u2500\u2500\u2500\u2510\n",
              "\u2193Sunny \u2502\n",
              "\u2502Summer\u2502\n",
              "\u2514\u2500\u2500\u2500\u2500\u2500\u2500\u2518\n",
              "</span>"
            ]
          },
          "execution_count": 146,
          "metadata": {},
          "output_type": "execute_result"
        }
      ],
      "source": [
        "DISPLAY 2 6 \u2374 'Sunny Summer'  \u235d The bottom-left corner is a straigh line\n",
        "                              \u235d because the array contains only text."
      ]
    },
    {
      "cell_type": "code",
      "execution_count": 147,
      "metadata": {},
      "outputs": [
        {
          "data": {
            "text/html": [
              "<span style=\"white-space:pre; font-family: monospace\">\u250c\u250c\u2192\u2500\u2500\u2500\u2500\u2500\u2500\u2500\u2510\n",
              "\u2193\u219326 22 21\u2502\n",
              "\u2502\u250243 47 30\u2502\n",
              "\u2502\u2502        \u2502\n",
              "\u2502\u250244 58 17\u2502\n",
              "\u2502\u250229 23 53\u2502\n",
              "\u2514\u2514~\u2500\u2500\u2500\u2500\u2500\u2500\u2500\u2518\n",
              "</span>"
            ]
          },
          "execution_count": 147,
          "metadata": {},
          "output_type": "execute_result"
        }
      ],
      "source": [
        "DISPLAY Prod[1 2;;1 3 5]      \u235d This array is of rank 3. So, 3 arrows\n",
        "                              \u235d are used to represent it (1 horizontal\n",
        "                              \u235d and 2 vertical arrows).\n",
        "                              \u235d The bottom-left corner is ~ because the\n",
        "                              \u235d array contains only numbers."
      ]
    },
    {
      "cell_type": "markdown",
      "metadata": {},
      "source": [
        "Mixed arrays are sometimes more complex to understand."
      ]
    },
    {
      "cell_type": "code",
      "execution_count": 148,
      "metadata": {},
      "outputs": [
        {
          "data": {
            "text/html": [
              "<span style=\"white-space:pre; font-family: monospace\">\u250c\u2192\u2500\u2500\u2500\u2500\u2500\u2500\u2500\u2500\u2500\u2500\u2500\u2500\u2500\u2510\n",
              "\u250254 G 61 U 7 19\u2502\n",
              "\u2514+\u2500\u2500\u2500\u2500\u2500\u2500\u2500\u2500\u2500\u2500\u2500\u2500\u2500\u2518\n",
              "</span>"
            ]
          },
          "execution_count": 148,
          "metadata": {},
          "output_type": "execute_result"
        }
      ],
      "source": [
        "DISPLAY 54 'G' 61 'U' 7 19    \u235d The array is a mixed (+) vector (\u2192), and\n",
        "                              \u235d all its items can be easily identified."
      ]
    },
    {
      "cell_type": "markdown",
      "metadata": {},
      "source": [
        "But the following array is more complex:"
      ]
    },
    {
      "cell_type": "code",
      "execution_count": 149,
      "metadata": {},
      "outputs": [
        {
          "data": {
            "text/html": [
              "<span style=\"white-space:pre; font-family: monospace\">\u250c\u2192\u2500\u2500\u2500\u2500\u2500\u2500\u2500\u2500\u2500\u2500\u2500\u2500\u2500\u2510\n",
              "\u250254 3 GU 7 3 19\u2502\n",
              "\u2514+\u2500\u2500\u2500\u2500\u2500\u2500\u2500\u2500\u2500\u2500\u2500\u2500\u2500\u2518\n",
              "</span>"
            ]
          },
          "execution_count": 149,
          "metadata": {},
          "output_type": "execute_result"
        }
      ],
      "source": [
        "DISPLAY 54 3 'G' 'U' 7 '3' 19"
      ]
    },
    {
      "cell_type": "markdown",
      "metadata": {},
      "source": [
        " - Note that in the example above it is impossible to distinguish between the numeric value `3` and the character value `'3'`. The `DISPLAY` function actually tries to help us by underlining all character values, but unfortunately this coincides with the bottom border of the box. When the array being displayed becomes more complex, you will see this underlining, as the next example shows.\n",
        " \n",
        " - The two adjacent scalars `'G'` and `'U'` are displayed side by side; a vector 'GU' would have given a nested array, with a different representation, as you can see below:"
      ]
    },
    {
      "cell_type": "code",
      "execution_count": 150,
      "metadata": {},
      "outputs": [
        {
          "data": {
            "text/html": [
              "<span style=\"white-space:pre; font-family: monospace\">\u250c\u2192\u2500\u2500\u2500\u2500\u2500\u2500\u2500\u2500\u2500\u2500\u2500\u2500\u2500\u2500\u2500\u2500\u2500\u2510\n",
              "\u2502      \u250c\u2192\u2500\u2510        \u2502\n",
              "\u2502 54 3 \u2502GU\u2502 7 3 19 \u2502\n",
              "\u2502      \u2514\u2500\u2500\u2518   -    \u2502\n",
              "\u2514\u220a\u2500\u2500\u2500\u2500\u2500\u2500\u2500\u2500\u2500\u2500\u2500\u2500\u2500\u2500\u2500\u2500\u2500\u2518\n",
              "</span>"
            ]
          },
          "execution_count": 150,
          "metadata": {},
          "output_type": "execute_result"
        }
      ],
      "source": [
        "DISPLAY 54 3 'GU' 7 '3' 19"
      ]
    },
    {
      "cell_type": "markdown",
      "metadata": {},
      "source": [
        "Notice that, because one of the items of this array contains a vector, the array is \"nested\", hence the `\u220a` sign at the bottom-left corner. Now the underlining of `'3'` is visible, so it is easy to see that it is a character. Since `7` is not underlined it is a number.\n",
        "\n",
        "We shall discover more about `DISPLAY` when we study Nested arrays in detail (refer to I-1.3), but we can already use it to show the structure of the arrays that we have been working with. For example, our nested matrix `NesMat`:"
      ]
    },
    {
      "cell_type": "code",
      "execution_count": 151,
      "metadata": {},
      "outputs": [
        {
          "data": {
            "text/html": [
              "<span style=\"white-space:pre; font-family: monospace\">\u250c\u2192\u2500\u2500\u2500\u2500\u2500\u2500\u2500\u2500\u2500\u2500\u2500\u2500\u2500\u2500\u2500\u2500\u2500\u2500\u2500\u2500\u2500\u2500\u2500\u2510\n",
              "\u2193 \u250c\u2192\u2500\u2500\u2500\u2500\u2500\u2510       \u250c\u2192\u2500\u2500\u2500\u2500\u2510 \u2502\n",
              "\u2502 \u2502Dyalog\u2502 44    \u2502Hello\u2502 \u2502\n",
              "\u2502 \u2514\u2500\u2500\u2500\u2500\u2500\u2500\u2518       \u2514\u2500\u2500\u2500\u2500\u2500\u2518 \u2502\n",
              "\u2502          \u250c\u2192\u2500\u2500\u2510 \u250c\u2192\u2500\u2500\u2500\u2500\u2510 \u2502\n",
              "\u2502 27       \u21938 6\u2502 \u21931 2 0\u2502 \u2502\n",
              "\u2502          \u25022 4\u2502 \u25020 0 5\u2502 \u2502\n",
              "\u2502          \u2514~\u2500\u2500\u2518 \u2514~\u2500\u2500\u2500\u2500\u2518 \u2502\n",
              "\u2514\u220a\u2500\u2500\u2500\u2500\u2500\u2500\u2500\u2500\u2500\u2500\u2500\u2500\u2500\u2500\u2500\u2500\u2500\u2500\u2500\u2500\u2500\u2500\u2500\u2518\n",
              "</span>"
            ]
          },
          "execution_count": 151,
          "metadata": {},
          "output_type": "execute_result"
        }
      ],
      "source": [
        "DISPLAY NesMat"
      ]
    },
    {
      "cell_type": "markdown",
      "metadata": {},
      "source": [
        "You can see that all the sub-arrays contained in `NesMat` are individually represented with the same conventions, making the interpretation easy.\n",
        "\n",
        "### Be Simple!\n",
        "\n",
        "Up to now, the nested arrays we have met contained only \"simple\" items (scalars, vectors, matrices). Here is a completely weird matrix, which itself contains a small nested array made of the first two columns of `NesMat`:"
      ]
    },
    {
      "cell_type": "code",
      "execution_count": 152,
      "metadata": {},
      "outputs": [
        {
          "data": {
            "text/html": [
              "<span style=\"white-space:pre; font-family: monospace\">   456   Dyalog   44  \n",
              "             27  8 6  \n",
              "                 2 4  \n",
              " 17 51  Twisted       \n",
              "</span>"
            ]
          },
          "execution_count": 152,
          "metadata": {},
          "output_type": "execute_result"
        }
      ],
      "source": [
        "Weird \u2190 2 2 \u2374 456 (NesMat[;1 2]) (17 51) 'Twisted'\n",
        "Weird            \u235d The default presentation is difficult to interpret!"
      ]
    },
    {
      "cell_type": "code",
      "execution_count": 153,
      "metadata": {},
      "outputs": [
        {
          "data": {
            "text/html": [
              "<span style=\"white-space:pre; font-family: monospace\">\u250c\u2192\u2500\u2500\u2500\u2500\u2500\u2500\u2500\u2500\u2500\u2500\u2500\u2500\u2500\u2500\u2500\u2500\u2500\u2500\u2500\u2500\u2500\u2500\u2500\u2500\u2500\u2500\u2500\u2510\n",
              "\u2193         \u250c\u2192\u2500\u2500\u2500\u2500\u2500\u2500\u2500\u2500\u2500\u2500\u2500\u2500\u2500\u2500\u2500\u2510 \u2502\n",
              "\u2502 456     \u2193 \u250c\u2192\u2500\u2500\u2500\u2500\u2500\u2510       \u2502 \u2502\n",
              "\u2502         \u2502 \u2502Dyalog\u2502 44    \u2502 \u2502\n",
              "\u2502         \u2502 \u2514\u2500\u2500\u2500\u2500\u2500\u2500\u2518       \u2502 \u2502\n",
              "\u2502         \u2502          \u250c\u2192\u2500\u2500\u2510 \u2502 \u2502\n",
              "\u2502         \u2502 27       \u21938 6\u2502 \u2502 \u2502\n",
              "\u2502         \u2502          \u25022 4\u2502 \u2502 \u2502\n",
              "\u2502         \u2502          \u2514~\u2500\u2500\u2518 \u2502 \u2502\n",
              "\u2502         \u2514\u220a\u2500\u2500\u2500\u2500\u2500\u2500\u2500\u2500\u2500\u2500\u2500\u2500\u2500\u2500\u2500\u2518 \u2502\n",
              "\u2502 \u250c\u2192\u2500\u2500\u2500\u2500\u2510 \u250c\u2192\u2500\u2500\u2500\u2500\u2500\u2500\u2510          \u2502\n",
              "\u2502 \u250217 51\u2502 \u2502Twisted\u2502          \u2502\n",
              "\u2502 \u2514~\u2500\u2500\u2500\u2500\u2518 \u2514\u2500\u2500\u2500\u2500\u2500\u2500\u2500\u2518          \u2502\n",
              "\u2514\u220a\u2500\u2500\u2500\u2500\u2500\u2500\u2500\u2500\u2500\u2500\u2500\u2500\u2500\u2500\u2500\u2500\u2500\u2500\u2500\u2500\u2500\u2500\u2500\u2500\u2500\u2500\u2500\u2518\n",
              "</span>"
            ]
          },
          "execution_count": 153,
          "metadata": {},
          "output_type": "execute_result"
        }
      ],
      "source": [
        "DISPLAY Weird    \u235d Let us use DISPLAY to make things clearer!"
      ]
    },
    {
      "cell_type": "markdown",
      "metadata": {},
      "source": [
        "```{admonition} Remark \n",
        ":class: tip\n",
        "Of course, even if APL **can** handle arrays as unusual as the one above, it is **not advisable** to build such arrays! Most nested arrays have a clear and straightforward structure.\n",
        "```\n",
        "\n",
        "Remember: in Section 4.2 we had a list of month names to store, and we had the choice between a matrix and a vector of vectors, that is to say a nested vector."
      ]
    },
    {
      "cell_type": "code",
      "execution_count": 154,
      "metadata": {},
      "outputs": [
        {
          "data": {
            "text/html": [
              "<span style=\"white-space:pre; font-family: monospace\"> January  February  March  April  May  June \n",
              "</span>"
            ]
          },
          "execution_count": 154,
          "metadata": {},
          "output_type": "execute_result"
        }
      ],
      "source": [
        "MonVec"
      ]
    },
    {
      "cell_type": "markdown",
      "metadata": {},
      "source": [
        "Because its contents are homogeneous (made up only of vectors), this array has a simple structure that is clear and easy to interpret. `DISPLAY` shows it like this:"
      ]
    },
    {
      "cell_type": "code",
      "execution_count": 155,
      "metadata": {},
      "outputs": [
        {
          "data": {
            "text/html": [
              "<span style=\"white-space:pre; font-family: monospace\">\u250c\u2192\u2500\u2500\u2500\u2500\u2500\u2500\u2500\u2500\u2500\u2500\u2500\u2500\u2500\u2500\u2500\u2500\u2500\u2500\u2500\u2500\u2500\u2500\u2500\u2500\u2500\u2500\u2500\u2500\u2500\u2500\u2500\u2500\u2500\u2500\u2500\u2500\u2500\u2500\u2500\u2500\u2500\u2500\u2500\u2500\u2500\u2500\u2500\u2500\u2500\u2500\u2510\n",
              "\u2502 \u250c\u2192\u2500\u2500\u2500\u2500\u2500\u2500\u2510 \u250c\u2192\u2500\u2500\u2500\u2500\u2500\u2500\u2500\u2510 \u250c\u2192\u2500\u2500\u2500\u2500\u2510 \u250c\u2192\u2500\u2500\u2500\u2500\u2510 \u250c\u2192\u2500\u2500\u2510 \u250c\u2192\u2500\u2500\u2500\u2510 \u2502\n",
              "\u2502 \u2502January\u2502 \u2502February\u2502 \u2502March\u2502 \u2502April\u2502 \u2502May\u2502 \u2502June\u2502 \u2502\n",
              "\u2502 \u2514\u2500\u2500\u2500\u2500\u2500\u2500\u2500\u2518 \u2514\u2500\u2500\u2500\u2500\u2500\u2500\u2500\u2500\u2518 \u2514\u2500\u2500\u2500\u2500\u2500\u2518 \u2514\u2500\u2500\u2500\u2500\u2500\u2518 \u2514\u2500\u2500\u2500\u2518 \u2514\u2500\u2500\u2500\u2500\u2518 \u2502\n",
              "\u2514\u220a\u2500\u2500\u2500\u2500\u2500\u2500\u2500\u2500\u2500\u2500\u2500\u2500\u2500\u2500\u2500\u2500\u2500\u2500\u2500\u2500\u2500\u2500\u2500\u2500\u2500\u2500\u2500\u2500\u2500\u2500\u2500\u2500\u2500\u2500\u2500\u2500\u2500\u2500\u2500\u2500\u2500\u2500\u2500\u2500\u2500\u2500\u2500\u2500\u2500\u2500\u2518\n",
              "</span>"
            ]
          },
          "execution_count": 155,
          "metadata": {},
          "output_type": "execute_result"
        }
      ],
      "source": [
        "DISPLAY MonVec"
      ]
    },
    {
      "cell_type": "markdown",
      "metadata": {},
      "source": [
        "Imagine now that we want to store the ages of the children of 5 families; we could enter them like this:"
      ]
    },
    {
      "cell_type": "code",
      "execution_count": 156,
      "metadata": {},
      "outputs": [
        {
          "data": {
            "text/html": [
              "<span style=\"white-space:pre; font-family: monospace\"> 6 2  35 33 26 21  7 7  3  19 14 \n",
              "</span>"
            ]
          },
          "execution_count": 156,
          "metadata": {},
          "output_type": "execute_result"
        }
      ],
      "source": [
        "Children \u2190 (6 2) (35 33 26 21) (7 7) 3 (19 14)\n",
        "Children"
      ]
    },
    {
      "cell_type": "code",
      "execution_count": 157,
      "metadata": {},
      "outputs": [
        {
          "data": {
            "text/html": [
              "<span style=\"white-space:pre; font-family: monospace\">\u250c\u2192\u2500\u2500\u2500\u2500\u2500\u2500\u2500\u2500\u2500\u2500\u2500\u2500\u2500\u2500\u2500\u2500\u2500\u2500\u2500\u2500\u2500\u2500\u2500\u2500\u2500\u2500\u2500\u2500\u2500\u2500\u2500\u2500\u2500\u2500\u2500\u2500\u2510\n",
              "\u2502 \u250c\u2192\u2500\u2500\u2510 \u250c\u2192\u2500\u2500\u2500\u2500\u2500\u2500\u2500\u2500\u2500\u2500\u2510 \u250c\u2192\u2500\u2500\u2510   \u250c\u2192\u2500\u2500\u2500\u2500\u2510 \u2502\n",
              "\u2502 \u25026 2\u2502 \u250235 33 26 21\u2502 \u25027 7\u2502 3 \u250219 14\u2502 \u2502\n",
              "\u2502 \u2514~\u2500\u2500\u2518 \u2514~\u2500\u2500\u2500\u2500\u2500\u2500\u2500\u2500\u2500\u2500\u2518 \u2514~\u2500\u2500\u2518   \u2514~\u2500\u2500\u2500\u2500\u2518 \u2502\n",
              "\u2514\u220a\u2500\u2500\u2500\u2500\u2500\u2500\u2500\u2500\u2500\u2500\u2500\u2500\u2500\u2500\u2500\u2500\u2500\u2500\u2500\u2500\u2500\u2500\u2500\u2500\u2500\u2500\u2500\u2500\u2500\u2500\u2500\u2500\u2500\u2500\u2500\u2500\u2518\n",
              "</span>"
            ]
          },
          "execution_count": 157,
          "metadata": {},
          "output_type": "execute_result"
        }
      ],
      "source": [
        "DISPLAY Children"
      ]
    },
    {
      "cell_type": "markdown",
      "metadata": {},
      "source": [
        "This array is not homogeneous; it is made of vectors mixed with a scalar. However, its structure is simple, and consistent. Together with the previous example, it is a pertinent usage of nested arrays.\n",
        "\n",
        "### That's *Not* All, Folks!\n",
        "\n",
        "In this section we have only described some basic things about nested arrays. APL provides a number of functions designed specifically to manipulate nested arrays, but it would be premature to introduce these now until we have fully explored all of the basic capabilities.\n",
        "\n",
        "Nevertheless, if you want to learn a bit more on the subject, just skip to Chapter I.\n",
        "\n",
        "## Empty Arrays\n",
        "\n",
        "An array is an ***empty array*** if the length of one or more of its dimensions is zero. Hence, it is possible to meet many different kinds of empty arrays: vectors, matrices, arrays of any rank or type."
      ]
    },
    {
      "cell_type": "code",
      "execution_count": 158,
      "metadata": {
        "scrolled": true
      },
      "outputs": [
        {
          "data": {
            "text/html": [
              "<span style=\"white-space:pre; font-family: monospace\">\n",
              "</span>"
            ]
          },
          "execution_count": 158,
          "metadata": {},
          "output_type": "execute_result"
        }
      ],
      "source": [
        "0\u23740        \u235d empty numeric vector."
      ]
    },
    {
      "cell_type": "code",
      "execution_count": 159,
      "metadata": {},
      "outputs": [
        {
          "data": {
            "text/html": [
              "<span style=\"white-space:pre; font-family: monospace\">\n",
              "</span>"
            ]
          },
          "execution_count": 159,
          "metadata": {},
          "output_type": "execute_result"
        }
      ],
      "source": [
        "''         \u235d empty character vector, because nothing was typed\n",
        "           \u235d between the quotes."
      ]
    },
    {
      "cell_type": "code",
      "execution_count": 160,
      "metadata": {},
      "outputs": [
        {
          "data": {
            "text/html": [
              "<span style=\"white-space:pre; font-family: monospace\"> \n",
              "</span>"
            ]
          },
          "execution_count": 160,
          "metadata": {},
          "output_type": "execute_result"
        }
      ],
      "source": [
        "' '        \u235d this is NOT an empty vector; we typed a blank character.\n",
        "           \u235d Though invisible, it is a character just like \"B\" or \"Z\"."
      ]
    },
    {
      "cell_type": "code",
      "execution_count": 161,
      "metadata": {},
      "outputs": [],
      "source": [
        "0 3\u2374''     \u235d empty character matrix with 0 rows,\n",
        "           \u235d but nevertheless 3 columns."
      ]
    },
    {
      "cell_type": "code",
      "execution_count": 162,
      "metadata": {},
      "outputs": [
        {
          "data": {
            "text/html": [
              "<span style=\"white-space:pre; font-family: monospace\">\n",
              "\n",
              "\n",
              "\n",
              "\n",
              "</span>"
            ]
          },
          "execution_count": 162,
          "metadata": {},
          "output_type": "execute_result"
        }
      ],
      "source": [
        "5 0\u23740      \u235d empty numeric matrix with no columns,\n",
        "           \u235d but nevertheless 5 rows."
      ]
    },
    {
      "cell_type": "code",
      "execution_count": 163,
      "metadata": {},
      "outputs": [
        {
          "data": {
            "text/html": [
              "<span style=\"white-space:pre; font-family: monospace\">             \n",
              "             \n",
              "</span>"
            ]
          },
          "execution_count": 163,
          "metadata": {},
          "output_type": "execute_result"
        }
      ],
      "source": [
        "3 0 7\u23740    \u235d empty numeric array of rank 3."
      ]
    },
    {
      "cell_type": "markdown",
      "metadata": {},
      "source": [
        "There are many ways to create empty arrays, as we shall discover in the following chapters.\n",
        "\n",
        "We shall see later that empty arrays, which you may find surprising, are extremely useful in solving a large number of business problems. In fact, they are often used as the starting point (initial value) for variables that will grow by the iterative addition of new items.\n",
        "\n",
        "The empty numeric vector is probably the most frequently used of all empty arrays. For that reason, a special symbol has been designed to represent it: `\u236c` (entered by pressing <kbd>APL</kbd>+<kbd>Shift</kbd>+<kbd>]</kbd>).\n",
        "\n",
        "Because this symbol is made of a *Zero* with a *Tilde* on top of it, it is called ***Zilde***.\n",
        "\n",
        "Let us conclude this topic with a rather comforting statement. We start with an empty vector:"
      ]
    },
    {
      "cell_type": "code",
      "execution_count": 164,
      "metadata": {},
      "outputs": [],
      "source": [
        "Emptiness \u2190 \u236c"
      ]
    },
    {
      "cell_type": "markdown",
      "metadata": {},
      "source": [
        "Now we create a text vector:"
      ]
    },
    {
      "cell_type": "code",
      "execution_count": 165,
      "metadata": {},
      "outputs": [],
      "source": [
        "Presence \u2190 'Friendly'"
      ]
    },
    {
      "cell_type": "markdown",
      "metadata": {},
      "source": [
        "We then give `Presence` the shape of `Emptiness`..."
      ]
    },
    {
      "cell_type": "code",
      "execution_count": 166,
      "metadata": {},
      "outputs": [
        {
          "data": {
            "text/html": [
              "<span style=\"white-space:pre; font-family: monospace\">F\n",
              "</span>"
            ]
          },
          "execution_count": 166,
          "metadata": {},
          "output_type": "execute_result"
        }
      ],
      "source": [
        "Emptiness \u2374 Presence"
      ]
    },
    {
      "cell_type": "markdown",
      "metadata": {},
      "source": [
        "And it works!\n",
        "\n",
        "This proves that a Friendly Presence can fill up Emptiness! That's good! But can we explain it? Let's try...\n",
        "\n",
        "In the last expression, the *Reshape* function (`\u2374`) returns an array with the shape specified in its left argument `Emptiness`.\n",
        "\n",
        "Since `Emptiness` is an empty vector (`\u236c`) *Reshape* will return an array having an empty shape. Such an array is a scalar, so we know that the result of the expression will be a scalar.\n",
        "\n",
        "*Reshape* will also fill the scalar with a value, taken from the right argument `Presence`. `Presence` contains the character vector `'Friendly'`, but since we only need one item to fill a scalar, we can only use the `'F'`. The rest of the character vector `'Friendly'` is not used.\n",
        "\n",
        "In fact, the expression `\u236c\u2374Array` is widely used to return the first item of an array as a scalar, and in particular to convert a 1-item vector into a scalar.\n",
        "\n",
        "```{admonition} Remark \n",
        ":class: tip\n",
        "Though they both are invisible when displayed, a numeric empty vector (`\u236c`) is different from a character empty vector (`''`).\n",
        "```\n",
        "\n",
        "## Workspaces and Commands\n",
        "\n",
        "You have nearly finished this chapter and, naturally, you would like to save the variables you have created. If you are using the Windows IDE you have two graphical ways of doing so:\n",
        "\n",
        " - in the \"File\" menu, select \"Save\" or \"Save as\", and use the normal procedure for saving a file (highlighted in red below);\n",
        " - you can also click, in the toolbar, on the icon of a diskette (also highlighted in red below; who still knows what a diskette is?), which is equivalent, in APL, to \"Save as\".\n",
        " \n",
        "```{figure} ../res/Interpreter_Toolbar_Save.png\n",
        "---\n",
        "name: Interpreter_Toolbar_Save\n",
        "---\n",
        "Windows IDE toolbar with the \"Save\" toolbar shortcut and the \"File\" menu highlighted\n",
        "```\n",
        " \n",
        "If you are using RIDE or if you don't like clicking menu buttons,\n",
        "\n",
        " - there is also a built-in method in APL, which may be activated through a special SAVE command or function, as will be described later in this Section.\n",
        " \n",
        "An explanation of how APL manages your data in the interpreter session is given below.\n",
        "\n",
        "### The Active Workspace\n",
        "\n",
        "When you start a working session with APL, you are allotted an empty portion of memory, which is called a ***Workspace***, or ***WS*** for short. This WS is called the ***Active WS***, because it is the area of memory in which you work. You gradually fill it with variables and functions<sup>2</sup> as you create them.\n",
        "\n",
        " <small>\u00b2 In APL we try to design a computer *program*, not as a single monolithic procedure, but rather as a set of inter-connecting units known as *functions* (or *user-defined functions* to distinguish them from *primitive* or built-in functions). Each function is ideally small, self-contained, and performs a single specific task.</small>\n",
        "\n",
        "You can ask the system to give you the list of your variables and functions. To do that, you use a ***system command***: a special word which is recognised by the APL system because its first character is a ***closing parenthesis***: `)`. Some Swedish APLers call that a \"banana\".\n",
        "\n",
        "The names of system commands are not case sensitive; they can be typed in mixture of upper and lower-case characters.\n",
        "\n",
        "Let's obtain a list of our variable names, using the command `)vars`:"
      ]
    },
    {
      "cell_type": "code",
      "execution_count": 167,
      "metadata": {},
      "outputs": [
        {
          "data": {
            "text/html": [
              "<span style=\"white-space:pre; font-family: monospace\">AGE     Abstract        Actual  Ages    Alpha   Amount  BHSales Bernard Bignum  Blah    Boys    B\u00e9tise_\u00e0_Caimbrai       \n",
              "CSS1    Car     Categories      Chemistry       Children        Codes   Col_Tree        Colette Contents        Coords  \n",
              "Copied  Cost    CounCodes       Countries       Currencies      Damned  Dept    Describe        Discount        Dummy   \n",
              "Emptiness       EvenPage        Exp     Fly\u2359Airlines    For     Forecast        Friends G       G1      G2      G3      G4\n",
              "Gender  Girls   GridData        H       HCaps   Help    Hogwash Hote273 Hundred I4Qty   I4Ref   I6Long  I6Start I6Text  \n",
              "Inf     Inv     Invcur  Invest  J       John1   John1f  John1s  L1      L2      L3      L4      Left    Length  Letters \n",
              "Line    M       MLK     MN      MT      Magoo   Manum   Matex   Memo    MixMat  MixVec  MonMat  MonVec  Money   Movies  \n",
              "MyIndex MyPage  MyPage2 My_car_is_green Names   NesMat  NesVec  Now     Numbers Nums    OddPage One     Ours    PCodes  \n",
              "PG1     PGb     PGt     Pattern Percent PersoAxis       Phrase  Planning        Pool    Prefix  Presence        Price   \n",
              "Prices  Prizes  Prod    Purchased       Qty     Rates   RawPS   Refs    Release Res     Results Right   Row_DeepData    \n",
              "Row_DeepTree    Row_Tree        SAL     Sailor  Salaries        Sales   Segs    Shape   Singleton       Slices  Small   \n",
              "Sold    Status  StudCat StudExp StudRates       Subcon  Suffix  Swansea TM      Tabu    Tale    Tam     Tests   Tests2  \n",
              "Text    TheirAge        TheirChildren   TheirSalary     TheirStatus     Three   Tickets Title   Tome    Towns   Trailer \n",
              "Trix    Twelve  Two     V       Values  Vec     Vec3    Vec4    Vec5    Wanabuy Weird   What    Winners Words   X       \n",
              "XG1     XG10    XG2     XG4     XG7     XG8     XG9     Xal     Y       Years   Yop     ZID     ZSG     acme    angles  \n",
              "bmps    bookid  boxes   comic   demo    guy     homedir htm     htmparas        lx      mat     mm      oneofeach       \n",
              "pageref path    pg1     pg2     pgh     rtf     rtf2    rtfbad  rtfbullets      rtfdash rtfg    rtftabs rtftest str     \n",
              "text    towerchart      txt     var     zsg     \u2206cmap   \u2206seatrial       \u2206x      \n",
              "</span>"
            ]
          },
          "execution_count": 167,
          "metadata": {},
          "output_type": "execute_result"
        }
      ],
      "source": [
        ")vars        \u235d Most of these variables come from the auxiliary WS\n",
        "             \u235d we loaded in the beginning of the notebook."
      ]
    },
    {
      "cell_type": "markdown",
      "metadata": {},
      "source": [
        "The variables are listed in alphabetic order, but beware, the lower-case alphabet is ordered after the upper-case one. This is the reason why both the variables `bmps` and `towerchart` are listed after `Contents`.\n",
        "\n",
        "If some of these variables are no longer useful, we can delete them with the following command, in which the variable (and function) names can be listed in any order:"
      ]
    },
    {
      "cell_type": "code",
      "execution_count": 168,
      "metadata": {},
      "outputs": [
        {
          "data": {
            "text/html": [
              "<span style=\"white-space:pre; font-family: monospace\">not found nesmat\n",
              "</span>"
            ]
          },
          "execution_count": 168,
          "metadata": {},
          "output_type": "execute_result"
        }
      ],
      "source": [
        ")erase Tests Contents nesmat towerchart"
      ]
    },
    {
      "cell_type": "markdown",
      "metadata": {},
      "source": [
        "We misspelled the name of one of our variables; the system erased the other ones, and gave us a warning. We can re-issue a command to erase the variable `NesMat`:"
      ]
    },
    {
      "cell_type": "code",
      "execution_count": 169,
      "metadata": {},
      "outputs": [],
      "source": [
        ")erase NesMat"
      ]
    },
    {
      "cell_type": "markdown",
      "metadata": {},
      "source": [
        "This example underlines the fact that although the command *name* (\"erase\") itself is not case sensitive, the names that it is instructed to work on are of course still case sensitive.\n",
        "\n",
        "If you had developed functions (programs), you could list them using the command `)fns` (pronounced \"funs\"):"
      ]
    },
    {
      "cell_type": "code",
      "execution_count": 170,
      "metadata": {},
      "outputs": [
        {
          "data": {
            "text/html": [
              "<span style=\"white-space:pre; font-family: monospace\">Absval1 Absval2 Against1        Against2        Against3        All     And     AutoMeasure     Average Bench   Between \n",
              "Booklet BorderedBlocks  Bot     BuildVars       CMDesign        CMDesign1       CMDesign2       CMReport        CMUse   \n",
              "CMUse1  CMUse2  CSVTest Calc1   Calc2   Caps    CarOwner        CarOwnerDist    CarOwnerWith    CarSales        \n",
              "CarSales_Init   CarSales_Read   CarSales_Store  Classify        Clear   Compare Contraction     Convert CroiBig Croiser \n",
              "CrossCount1     CrossCount2     CrossCount3     CrossCount4     Cut     D2H     DFact1  DFact2  DISP    DISPLAY DP      \n",
              "Deciles Decode  DemoCR  DemoHTM DirFun1 Disp    Dispatch        Divisors1       Divisors2       Endless Enlist  Equal   \n",
              "ExcelLoop       Excellence      Exchange        Expand  Fact    Flash1  Flash2  Flash3  Flash4  Flash5  Folder  Frame   \n",
              "Frame1  Frame2  Frame3  Frame4  Frame6  FrameG  Free    FricA   FricA\u2206  FricB   FricBGui        FricB\u2206  GUI1    GUI1_CB1\n",
              "GUI1_CB2        GUI2    GUI2_CB2        GUI3    GUI_Combo       GUI_FontDefine  GUI_Fonts       GUI_List        GUI_Menu\n",
              "GetContext      Greedy  Grid_Demo1      Grid_Demo2      Grid_Demo3      Growth  H2D     HTMSample       HTMTest HTMWrap \n",
              "Hammer  Hammer2 HorMat  Hypo    In1     In2     Includes        Indents Inmat   Interlace       Invec   John    Lengths \n",
              "Lister  Locked  LockedSurprise  LoopSum MainFunc        MaxPlace        Meanval MergeTest       Mess    Mid     Mirror1 \n",
              "Mirror2 NestedRes       Ombra   Only    Ontop   Ordered Outside Overlay PDFTest Paf     PageFit PageRef Palindrome      \n",
              "Plus    PlusNoRes       Process Prompt1 Prompt2 QuadRoot        RTFDemo RawGui  Refund  Report  Restore ReverBug        \n",
              "ReverLoop       Reverse RichText        Roll    Root    Round1  Round2  SalesRep        Scan4u  Search  Seatrial        \n",
              "SecureEdit      ShortWide       Show    Show1   Show2   Show3   Show4   Show5   Show6   ShowMsg ShowSel ShowVowels      \n",
              "ShyFun  SkipTest        Sorry   Spin    Split   StudRefund      Styles  SubFunc SubSum  SubTot1 SubTot2 SubTot3 Subtest \n",
              "Surface Surprise        Switch1 Switch2 Switch3 Switcher        Syra1   Syra2   Syracuse        Syracuse1       Syracuse2\n",
              "Syracuse3       TTest   TV      TVNew   TVShow  TVZap   TWrap   TableColours    TableDemo       TableIndents    TableStuff\n",
              "Test    TestCSV TestDraw        TestFonts       TestFrames      TestTabs        Testgrid        Time    Times   Timo5   To\n",
              "ToDistiller     TocTest Top     Totalise        Tox     Typeof  Upper   VerMat  View    Whiten  Willitwork1     \n",
              "Willitwork2     Willitwork3     XLSuite1        XLSuite2        XLSuite3        YSetFuns        YSetVars        Yopen   \n",
              "paf     rms     \n",
              "</span>"
            ]
          },
          "execution_count": 170,
          "metadata": {},
          "output_type": "execute_result"
        }
      ],
      "source": [
        ")fns        \u235d All these functions come from the auxiliary WS\n",
        "            \u235d we loaded in the beginning of the notebook."
      ]
    },
    {
      "cell_type": "markdown",
      "metadata": {},
      "source": [
        "```{admonition} Remark \n",
        ":class: tip\n",
        "One can erase everything from the active workspace (all variables and all functions etc.) and revert to the original \"clear\" active workspace, by issuing the command\n",
        "```\n"
      ]
    },
    {
      "cell_type": "code",
      "execution_count": 171,
      "metadata": {},
      "outputs": [
        {
          "data": {
            "text/html": [
              "<span style=\"white-space:pre; font-family: monospace\">clear ws\n",
              "</span>"
            ]
          },
          "execution_count": 171,
          "metadata": {},
          "output_type": "execute_result"
        }
      ],
      "source": [
        ")clear"
      ]
    },
    {
      "cell_type": "code",
      "execution_count": 172,
      "metadata": {},
      "outputs": [],
      "source": [
        ")vars        \u235d All variables are gone."
      ]
    },
    {
      "cell_type": "code",
      "execution_count": 173,
      "metadata": {},
      "outputs": [],
      "source": [
        ")fns         \u235d All functions are gone."
      ]
    },
    {
      "cell_type": "markdown",
      "metadata": {},
      "source": [
        "This is a bit brutal: all of the contents of the WS are deleted, and no warning message is issued to notify the user of the consequence before the execution of the command. You should avoid using this command, and instead use the \"Clear\" button on the interpreter toolbar (highlighted in red below), which asks for confirmation. It is safer.\n",
        "\n",
        "```{figure} ../res/Interpreter_Toolbar_Clear.png\n",
        "---\n",
        "name: Interpreter_Toolbar_Clear\n",
        "---\n",
        "Windows IDE with the \"Clear\" toolbar shortcut highlighted\n",
        "```\n",
        "\n",
        "```{admonition} Remark \n",
        ":class: tip\n",
        "In many languages, programs must be stored (saved) independently, one after the other, and variables do not exist on their own: they live only during the execution of a program which creates, uses and destroys them.\n",
        "\n",
        "In APL, things are different:\n",
        "\n",
        "- Variables have an independent existence, outside of any program execution; you have seen that it is possible to create variables and manipulate them, at will, without writing any programs. This is similar to the interpreter sessions of some other languages, like Python or MATLAB.\n",
        "\n",
        "- There may be a permanent interaction between programs and variables. Saving only any part of them would be nonsense: one must save the whole context; in other words, one must save the whole *active workspace*.\n",
        "\n",
        "This is what we shall discover now.\n",
        "```\n",
        "\n",
        "### The Libraries\n",
        "\n",
        "Like in most other software environments:\n",
        "\n",
        " - When you save a WS for the first time, you must give it a name.\n",
        " - Once it has been saved you need not re-specify its name when you re-save it.\n",
        " \n",
        "Furthermore, we advise you to not re-specify the name when you want to re-save your work, because, if you misspell it, your WS will be saved with the wrong name without you being aware of it.\n",
        "\n",
        "To save a WS, just issue the command `)save` followed, if this is the first time, by a file name. For example:"
      ]
    },
    {
      "cell_type": "code",
      "execution_count": 174,
      "metadata": {},
      "outputs": [
        {
          "data": {
            "text/html": [
              "<span style=\"white-space:pre; font-family: monospace\">Not saved, this ws is CLEAR WS. Use -force to overwrite\n",
              "</span>"
            ]
          },
          "execution_count": 174,
          "metadata": {},
          "output_type": "execute_result"
        }
      ],
      "source": [
        ")save MyPreciousWS"
      ]
    },
    {
      "cell_type": "markdown",
      "metadata": {},
      "source": [
        "A confirmation message appears, specifying where it has been saved, and the date and time of the operation.\n",
        "\n",
        "Of course, you can specify any path in your command, to save your WS wherever you like, but if you want to specify a full path, it is often more convenient to use the \"Save\" button in the toolbar, and browse through your folders.\n",
        "\n",
        "You can have dozens of workspaces saved in various folders, according to your needs; they represent your private library.\n",
        "\n",
        "You can also use public workspaces provided by Dyalog Ltd. as part of the APL system, workspaces downloaded from web sites, or workspaces provided by third-party developers.\n",
        "\n",
        "You can list your workspaces using the command `)lib`.\n",
        "\n",
        "Used alone, the command explores only the folders specified in your configuration parameters, which can be modified using the interpreter menu:\n",
        "\n",
        "<br />\n",
        "<center>\"Options\" > \"Configure...\" > \"Workspace\" > \"Workspace search path\"</center>\n",
        "<br />\n",
        "\n",
        "You can also specify explicitly in which folder the command should search:"
      ]
    },
    {
      "cell_type": "code",
      "execution_count": 175,
      "metadata": {
        "scrolled": true
      },
      "outputs": [
        {
          "data": {
            "text/html": [
              "<span style=\"white-space:pre; font-family: monospace\">DyalogTutor_EN.DWS      \n",
              "</span>"
            ]
          },
          "execution_count": 175,
          "metadata": {},
          "output_type": "execute_result"
        }
      ],
      "source": [
        ")lib res"
      ]
    },
    {
      "cell_type": "markdown",
      "metadata": {},
      "source": [
        "Only one workspace was found in the `res` folder.\n",
        "\n",
        "### Load a WS\n",
        "\n",
        "Once a WS has been saved, it may be used again in various ways:\n",
        "\n",
        " - You can double-click on the WS name in the *Windows Explorer*\n",
        " - You can use the menu \"File\" > \"Open\"\n",
        " - You can click on the \"Open\" icon in the toolbar (highlighted in red below)\n",
        " - And you can issue the system command `)load`\n",
        " \n",
        "```{figure} ../res/Interpreter_Toolbar_Load.png\n",
        "---\n",
        "name: Interpreter_Toolbar_Load\n",
        "---\n",
        "Windows IDE with the \"Load\" toolbar shortcut highlighted\n",
        "```\n",
        "\n",
        "In all these cases, you will see the familiar file search box, in which you can browse to and select the workspace file you would like to open (or load).\n",
        "\n",
        "You can also use the `)load` command followed by a WS name:"
      ]
    },
    {
      "cell_type": "code",
      "execution_count": 176,
      "metadata": {},
      "outputs": [
        {
          "data": {
            "text/html": [
              "<span style=\"white-space:pre; font-family: monospace\">res/DyalogTutor_EN.dws saved Tue Aug 11 09:28:49 2020\n",
              "                                                                                                  \n",
              "Welcome                                                                                           \n",
              "-------                                                                                           \n",
              "This Workspace contains most of the variables and functions used in the ENglish tutorial.         \n",
              "You can use and modify them at will for your own tests.                                           \n",
              "If you want to preserve and retrieve your modifications, save the                                 \n",
              "contents of the workspace before closing your session, by pressing                                \n",
              "the \"Save\" button, or using the \"Save as\" menu option.                                            \n",
              "If you do not want this message displayed again, type:                                            \n",
              "      lx\u2190''                                                                                       \n",
              "... then save the workspace as indicated above.                                                   \n",
              "To know in which chapter an object is referenced, type:                                           \n",
              "      )ed Refs                                                                                    \n",
              "</span>"
            ]
          },
          "execution_count": 176,
          "metadata": {},
          "output_type": "execute_result"
        }
      ],
      "source": [
        ")load res/DyalogTutor_EN"
      ]
    },
    {
      "cell_type": "markdown",
      "metadata": {},
      "source": [
        "In this case APL will search for your workspace in the folders specified in your \"*Workspace Search Path*\" as explained above, unless you specify a full path name. If the path name includes blank characters, you **must** place the whole expression between double quotes, as in the first example below:\n",
        "\n",
        "```apl\n",
        "      )load \"d:/my documents/sixteen tons/coal\" \u235d double quotes are mandatory.\n",
        "      )load e:/freezer/mummies/ramses2          \u235d double quotes are not needed.\n",
        "```\n",
        "\n",
        "```{admonition} Remark \n",
        ":class: tip\n",
        "When a WS is loaded, **it replaces the active WS in memory** and becomes the new active WS. If you have not saved the variables and functions you were working on, they are definitely lost! There is no warning message.\n",
        "\n",
        "You must be aware of this because in this respect, APL differs from most software environments, in which each new file you open is opened in a separate window.\n",
        "```\n",
        "\n",
        "```{admonition} Remark \n",
        ":class: tip\n",
        "When a WS is loaded, a confirmation message appears, like the following:\n",
        "\n",
        "```\n",
        "res/DyalogTutor_EN.dws saved Mon Aug 10 09:37:51 2020\n",
        "```\n",
        "\n",
        "which is the first line of output we got when we loaded the `DyalogTutor_EN` workspace. Note that the date and time reported is the date and time when the WS was last saved.\n",
        "```\n"
      ]
    },
    {
      "cell_type": "markdown",
      "metadata": {},
      "source": [
        "### File Extensions\n",
        "\n",
        "The default extension of an APL WS depends on the APL system you use. For Dyalog APL, the extension is `dws`, an acronym for Dyalog WorkSpace.\n",
        "\n",
        "This is only a default extension. When you save a WS, you can give it a different extension, like \"old\", \"std\" or \"dev\".\n",
        "\n",
        "If you do so, you must be aware that when you load a WS using the `)load` command, and omit the extension, the command will only search for files with a `dws` extension.\n",
        "\n",
        "Imagine that you have saved a WS under the name `weekly.old`. This WS will not be found if you just issue the command `)load weekly`. You must specify the extension: `)load weekly.old`.\n",
        "\n",
        "All these considerations are not mandatory knowledge, since you can navigate through the file search dialog box, or through Windows Explorer to find whichever file you need."
      ]
    },
    {
      "cell_type": "markdown",
      "metadata": {},
      "source": [
        "### Merge Workspaces\n",
        "\n",
        "Suppose that you would like to use some functions or variables stored in another WS that has previously been saved. You can import them into your active WS using the command `)copy`, followed by the name of the WS and then the names of the functions and variables you want to import.\n",
        "\n",
        "For example, imagine that you need `Screwdriver`, `Hammer` and `Saw`, all stored in a WS named `Toolbox`. You can issue the command\n",
        "\n",
        "```apl\n",
        "      )copy Toolbox Screwdriver Hammer Saw\n",
        "```\n",
        "\n",
        " - The WS name must be the first, and under Microsoft Windows it is not case sensitive.\n",
        " - The names of the functions and variables must follow, but beware, these are always case sensitive.\n",
        " \n",
        "If you specify only the workspace name, all its contents are imported. Be sure that all that stuff is really useful to you.\n",
        "\n",
        "When the copy is complete, a confirmation message is issued. Like the message issued by a `)load` command, it tells you when the WS was last saved.\n",
        "\n",
        "Of course, you can specify a path in the command; otherwise the WS is searched for in the *workspace search path* defined in your configuration. Once again, use double quotes if necessary:\n",
        "\n",
        "```apl\n",
        "      )copy \"d:/my documents/recipes/ratatouille\"\n",
        "```\n",
        "\n",
        "#### Protected Copy\n",
        "\n",
        "When you import the entire contents of another WS, there is a risk that it contains an object (variable or function) which has the same name, but not the same value, as an existing object in your active WS. If so, the imported object **replaces** the current one. Danger!\n",
        "\n",
        "You can avoid this by using the `)pcopy` command, with the P standing for \"Protected\". If there is a name conflict, the object in the active WS is not overwritten, and a message tells you which objects haven't been copied. Let's demonstrate this. First we clear our current WS to simulate a fresh start:"
      ]
    },
    {
      "cell_type": "code",
      "execution_count": 177,
      "metadata": {},
      "outputs": [
        {
          "data": {
            "text/html": [
              "<span style=\"white-space:pre; font-family: monospace\">clear ws\n",
              "</span>"
            ]
          },
          "execution_count": 177,
          "metadata": {},
          "output_type": "execute_result"
        }
      ],
      "source": [
        ")clear"
      ]
    },
    {
      "cell_type": "markdown",
      "metadata": {},
      "source": [
        "Now we define some variables that are useful for our calculations:"
      ]
    },
    {
      "cell_type": "code",
      "execution_count": 178,
      "metadata": {},
      "outputs": [
        {
          "data": {
            "text/html": [
              "<span style=\"white-space:pre; font-family: monospace\">4 5\n",
              "</span>"
            ]
          },
          "execution_count": 178,
          "metadata": {},
          "output_type": "execute_result"
        }
      ],
      "source": [
        "Prod \u2190 1 2    \u235d A vector you define and use in your session.\n",
        "Prod + 3"
      ]
    },
    {
      "cell_type": "markdown",
      "metadata": {},
      "source": [
        "And now we import the contents of the auxiliary WS because we need it as well:"
      ]
    },
    {
      "cell_type": "code",
      "execution_count": 179,
      "metadata": {},
      "outputs": [
        {
          "data": {
            "text/html": [
              "<span style=\"white-space:pre; font-family: monospace\">res/DyalogTutor_EN.dws saved Tue Aug 11 09:28:49 2020\n",
              "not copied Prod\n",
              "</span>"
            ]
          },
          "execution_count": 179,
          "metadata": {},
          "output_type": "execute_result"
        }
      ],
      "source": [
        ")pcopy res/DyalogTutor_EN"
      ]
    },
    {
      "cell_type": "markdown",
      "metadata": {},
      "source": [
        "Notice how `Prod` was **not** copied from the auxiliary WS because we have defined our own `Prod` above.\n",
        "\n",
        "#### Intentionally Destructive Copy\n",
        "\n",
        "We saw that an imported object may overwrite an object in the active WS. This is sometimes useful!\n",
        "\n",
        "Imagine that you loaded the auxiliary WS:"
      ]
    },
    {
      "cell_type": "code",
      "execution_count": 180,
      "metadata": {},
      "outputs": [
        {
          "data": {
            "text/html": [
              "<span style=\"white-space:pre; font-family: monospace\">res/DyalogTutor_EN.dws saved Tue Aug 11 09:28:49 2020\n",
              "                                                                                                  \n",
              "Welcome                                                                                           \n",
              "-------                                                                                           \n",
              "This Workspace contains most of the variables and functions used in the ENglish tutorial.         \n",
              "You can use and modify them at will for your own tests.                                           \n",
              "If you want to preserve and retrieve your modifications, save the                                 \n",
              "contents of the workspace before closing your session, by pressing                                \n",
              "the \"Save\" button, or using the \"Save as\" menu option.                                            \n",
              "If you do not want this message displayed again, type:                                            \n",
              "      lx\u2190''                                                                                       \n",
              "... then save the workspace as indicated above.                                                   \n",
              "To know in which chapter an object is referenced, type:                                           \n",
              "      )ed Refs                                                                                    \n",
              "</span>"
            ]
          },
          "execution_count": 180,
          "metadata": {},
          "output_type": "execute_result"
        }
      ],
      "source": [
        ")load res/DyalogTutor_EN"
      ]
    },
    {
      "cell_type": "markdown",
      "metadata": {},
      "source": [
        "Then you spend some hours adding new functions and variables, changing things here and there, and suddenly, you discover that you made inappropriate changes to a function named `Average`.\n",
        "\n",
        "You can retrieve the original function, still present in the saved version of `DyalogTutor_EN`, with:"
      ]
    },
    {
      "cell_type": "code",
      "execution_count": 181,
      "metadata": {},
      "outputs": [
        {
          "data": {
            "text/html": [
              "<span style=\"white-space:pre; font-family: monospace\">res/DyalogTutor_EN.dws saved Tue Aug 11 09:28:49 2020\n",
              "</span>"
            ]
          },
          "execution_count": 181,
          "metadata": {},
          "output_type": "execute_result"
        }
      ],
      "source": [
        ")copy res/DyalogTutor_EN Average"
      ]
    },
    {
      "cell_type": "markdown",
      "metadata": {},
      "source": [
        "When imported, the original version of `Average` will override the version you mistakenly altered. Your active workspace will be correct again, and you will be able to go on with your work (but don't forget to save it!).\n",
        "\n",
        "#### Evolution of Your Code\n",
        "\n",
        "Imagine that you have imported into your active WS a function named `Compute`, copied from a WS named `Utilities`. When you save your active WS, for example under the name `Budget`, the function `Compute` will be saved with it.\n",
        "\n",
        "But now, imagine that the original version of the function `Compute` contained in `Utilities` is modified, or enhanced; what happens? The copy saved with `Budget` is still the old version, and `Budget` may therefore be outdated.\n",
        "\n",
        "This is a reason why APL allows a dynamic copy of what you need from a known reference WS. This technique will be explained in Chapter L.\n",
        "\n",
        "#### Active WS Identification\n",
        "\n",
        "You can obtain the name of your current WS by issuing the command:"
      ]
    },
    {
      "cell_type": "code",
      "execution_count": 182,
      "metadata": {},
      "outputs": [
        {
          "data": {
            "text/html": [
              "<span style=\"white-space:pre; font-family: monospace\">is res/DyalogTutor_EN.dws\n",
              "</span>"
            ]
          },
          "execution_count": 182,
          "metadata": {},
          "output_type": "execute_result"
        }
      ],
      "source": [
        ")wsid"
      ]
    },
    {
      "cell_type": "markdown",
      "metadata": {},
      "source": [
        "Do not be misled by the name that is reported: it just means that the contents of your active WS had initially been loaded from that WS, or have recently been saved under that name. But since it was loaded or saved, your current WS may have been modified, and may no longer be identical to the original copy stored in the library.\n",
        "\n",
        "In the same way, if you see instead the message `\"is CLEAR WS\"`, it does not mean that your WS is clear (empty; contains nothing), but that is has not been saved yet, and hence has no name.\n",
        "\n",
        "### Exiting APL\n",
        "\n",
        "You can close an APL session using three traditional Windows methods, and two APL system commands:\n",
        "\n",
        " - You can click on the \"Close\" cross at the top-right corner of your APL window.\n",
        " - You can press <kbd>Alt</kbd>+<kbd>F4</kbd>.\n",
        " - You can activate the menu \"File\" > \"Exit\".\n",
        " - You can issue the system command `)off`.\n",
        " - You can issue the system command `)continue`.\n",
        " \n",
        "The first two methods will ask if you want to save your current session configuration, a so called *Continue WS* (this will be seen in Chapter L), and the log of everything that you did during the session. The next two methods will close APL without any question or warning, and will not save your configuration. The last one will save a *Continue WS* before exiting.\n",
        "\n",
        "In any case, always **remember to save your work** (if necessary) before you quit.\n",
        "\n",
        "### Contents of a WS\n",
        "\n",
        "Generally speaking, a workspace contains functions (programs) and variables which interact to constitute some useful application.\n",
        "\n",
        "The large memories of modern computers support very big workspaces, and a single WS is generally enough to store even a very complex application, or several applications. However, it is good practice to store different applications in different workspaces: accounting, budget, customer care, etc... It is not recommended that you mix several applications in a single WS.\n",
        "\n",
        "However, if appropriate, it is possible for a function to dynamically load another workspace (without any intervention by the user), and activate a different or complementary application.\n",
        "\n",
        "For now, a unique WS should be sufficient to contain all your experiments.\n",
        "\n",
        "If several workspaces need to share a command set of utility programs, this can be accomplished by dynamically importing the utilities from a common source. This will be seen in Chapter L.\n",
        "\n",
        "### Our First System Commands\n",
        "\n",
        "Just to recapitulate, here is a little summary of the system commands we've just discovered. Many other commands will be studied in Chapter L. The following conventions are used in the table below:\n",
        "\n",
        " - The command names are writing using normal characters; the parameters are in *italics*;\n",
        " - Parameters withing {braces} are optional;\n",
        " - _names_ represents a list of variable or function names;\n",
        " - _wsname_ is the name of a WS.\n",
        "   - This name may contain a file extension, which is only necessary if it is different from \"dws\".\n",
        "   - This name may also be preceded by an optional path. If the path is not specified, APL searches in all the directories referenced in \"Options\" > \"Configure...\" > \"Workspace\" > \"Workspace search path\".\n",
        " \n",
        "| Command | Usage |\n",
        "| :- | :- |\n",
        "| )vars | Lists the variables in the active workspace. |\n",
        "| )fns | Lists the user defined functions in the active workspace. |\n",
        "| )erase *names* | Deletes the named objects from the active workspace. |\n",
        "| )clear | Deletes everything and leaves the active workspace empty. |\n",
        "| )save | Saves the active workspace under its current name, or: opens the File Save dialog box if the WS has no name yet. |\n",
        "| )save *wsname* | Saves the active WS under the given path/name/extension. |\n",
        "| )lib | Gives the list of all workspaces in the *workspace search path*. |\n",
        "| )lib *path* | Gives the list of all workspaces in the specified path. |\n",
        "| )drop *wsname* | Deletes a saved WS from disk. |\n",
        "| )load | Opens the File Open dialog box, from which a workspace can be selected. It will replace the active WS. |\n",
        "| )load *wsname* | Replaces the contents of the active WS with the referenced WS. |\n",
        "| )copy *wsname* *names* | Imports the named items from the specified WS into the active WS, where they may overwrite objects identically named. |\n",
        "| )copy *wsname* | Imports all contents of the specified WS. |\n",
        "| )pcopy *wsname* {*names*} | Similar to `)copy`, but does not overwrite existing objects. |\n",
        "| )wsid | Displays the name of the current (active) WS. |\n",
        "| )off | Closes the APL session. |\n",
        "| )continue | Saves a *Continue WS* and closes the APL session. |\n",
        "\n",
        "## Exercises\n",
        "\n",
        "```{admonition} Warning \n",
        ":class: warning\n",
        "*The following exercises are designed to train you, not the computer.*\n",
        "\n",
        "*For this reason, we suggest that you try to answer them on a sheet of paper, not on your computer. When you are sure of your answer, you can test it on the computer.*\n",
        "```\n",
        "\n",
        "**Exercise 1**:\n",
        "\n",
        "Given a scalar `S`, can you transform it into a vector containing one single item? Or the opposite: can you transform a one-item vector `V` into a scalar?"
      ]
    },
    {
      "cell_type": "code",
      "execution_count": null,
      "metadata": {},
      "outputs": [],
      "source": []
    },
    {
      "cell_type": "markdown",
      "metadata": {},
      "source": [
        "**Exercise 2**:\n",
        "\n",
        "Define `X` so that this interactive session becomes possible:\n",
        "\n",
        "```apl\n",
        "      X\n",
        "2 15 8 3\n",
        "      \u2374X\n",
        "8\n",
        "```\n",
        "\n",
        "**Exercise 3**:\n",
        "\n",
        "Find the result of this expression: `'LE CHAT'[7 5 2 3 4 6 7]`. This amusing example was first given in \"*Informatique par telephone*\" of Philip S. Abrams and G\u00e9rard Lacourly, Editions Herman, Paris 1972."
      ]
    },
    {
      "cell_type": "code",
      "execution_count": null,
      "metadata": {},
      "outputs": [],
      "source": []
    },
    {
      "cell_type": "markdown",
      "metadata": {},
      "source": [
        "**Exercise 4**:\n",
        "\n",
        "The variable `Tab` is created like this:"
      ]
    },
    {
      "cell_type": "code",
      "execution_count": 183,
      "metadata": {},
      "outputs": [],
      "source": [
        "Tab \u2190 2 5 \u2374 9 1 4 3 6 7 4 3 8 2"
      ]
    },
    {
      "cell_type": "markdown",
      "metadata": {},
      "source": [
        "How could you replace the values `9 6 7 2` in this variable by `21 45 78 11` respectively?"
      ]
    },
    {
      "cell_type": "code",
      "execution_count": null,
      "metadata": {},
      "outputs": [],
      "source": []
    },
    {
      "cell_type": "markdown",
      "metadata": {},
      "source": [
        "**Exercise 5**:"
      ]
    },
    {
      "cell_type": "code",
      "execution_count": 184,
      "metadata": {},
      "outputs": [],
      "source": [
        "X \u2190 1 2 9 11 3 7 8\n",
        "X[3 5] \u2190 X[4 1]"
      ]
    },
    {
      "cell_type": "markdown",
      "metadata": {},
      "source": [
        "What do you think is the new value of `X`? And what happens if you now execute:"
      ]
    },
    {
      "cell_type": "code",
      "execution_count": 185,
      "metadata": {},
      "outputs": [],
      "source": [
        "X[4 6] \u2190 X[6 4]"
      ]
    },
    {
      "cell_type": "markdown",
      "metadata": {},
      "source": [
        "**Exercise 6**:\n",
        "\n",
        "A vector of $6$ items named `Mystery` is indexed like this:\n",
        "\n",
        "```apl\n",
        "      Mystery[3 1 6 5 2 4]\n",
        "8 11 3 9 2 15\n",
        "```\n",
        "\n",
        "What is the value of `Mystery`?\n",
        "\n",
        "**Exercise 7**:\n",
        "\n",
        "One creates a vector, and selects some items from it, as shown:\n",
        "\n",
        "```apl\n",
        "      Vec \u2190 33 19 27 11 74 47 10 50 66 14\n",
        "      Vec[FindMe]\n",
        "47 27 19 14 50 74\n",
        "```\n",
        "\n",
        "Could you guess the value of `FindMe`?\n",
        "\n",
        "**Exercise 8**:\n",
        "\n",
        "One creates a vector, and a set of indices:"
      ]
    },
    {
      "cell_type": "code",
      "execution_count": 186,
      "metadata": {},
      "outputs": [],
      "source": [
        "Source \u2190 10 4 13 3 9 0 7 6 2 13 8 1 5\n",
        "Set \u2190 3 3 \u2374 Source[2 4 8 5 12 13 7 4]"
      ]
    },
    {
      "cell_type": "markdown",
      "metadata": {},
      "source": [
        "Then one uses it to index the original vector:"
      ]
    },
    {
      "cell_type": "code",
      "execution_count": 187,
      "metadata": {},
      "outputs": [],
      "source": [
        "Result \u2190 Source[Set]"
      ]
    },
    {
      "cell_type": "markdown",
      "metadata": {},
      "source": [
        "What is the shape of `Result`? Can you find its value?\n",
        "\n",
        "**Exercise 9**:\n",
        "\n",
        "Is there a difference between the following two vectors?"
      ]
    },
    {
      "cell_type": "code",
      "execution_count": 188,
      "metadata": {},
      "outputs": [],
      "source": [
        "V1 \u2190 'p' 'o' 't'\n",
        "V2 \u2190 'pot'"
      ]
    },
    {
      "cell_type": "markdown",
      "metadata": {},
      "source": [
        "**Exercise 10**:\n",
        "\n",
        "Is there a difference between the following two vectors?"
      ]
    },
    {
      "cell_type": "code",
      "execution_count": 189,
      "metadata": {},
      "outputs": [],
      "source": [
        "V3 \u2190 15 48 'Y' 'e' 's' 52\n",
        "V4 \u2190 15 48 'Yes' 52"
      ]
    },
    {
      "cell_type": "markdown",
      "metadata": {},
      "source": [
        "**Exercise 11**:\n",
        "\n",
        "Here is a very simple variable:"
      ]
    },
    {
      "cell_type": "code",
      "execution_count": 190,
      "metadata": {},
      "outputs": [],
      "source": [
        "Two \u2190 2"
      ]
    },
    {
      "cell_type": "markdown",
      "metadata": {},
      "source": [
        "We use it in the following expression:"
      ]
    },
    {
      "cell_type": "code",
      "execution_count": 191,
      "metadata": {},
      "outputs": [],
      "source": [
        "Foolish \u2190 Two Two \u2374 2 Two '\u2374' 'Two'"
      ]
    },
    {
      "cell_type": "markdown",
      "metadata": {},
      "source": [
        "What is the shape of `Foolish`? Can you find its value?\n",
        "\n",
        "**Solutions**: the solutions can be found at the end of this chapter.\n",
        "\n",
        "## The Specialist's Section\n",
        "\n",
        "<br />\n",
        "<center><i>Each chapter is followed by a \"Specialist's Section\" like this one. This section is dedicated to skilled APLers, who wish to improve their knowledge.</i>\n",
        "    \n",
        "You will find here rare or complex usages of the concepts presented in this chapter, or discover extended explanations which need the knowledge of some symbols that will be seen much further in the book.\n",
        "    \n",
        "<b>If you are exploring APL for the first time, skip this section and go to the next chapter.</b></center>\n",
        "\n",
        "### Variable Names\n",
        "\n",
        "Variable names must obey the rules shown in Section B-1.2.\n",
        "\n",
        "We have seen that you may use some special characters: Delta (`\u2206`), Underscore (`_`), and also the Underscored Delta (`\u2359`). We do not recommend these symbols; they often make programs difficult to read.\n",
        "\n",
        "### Representation of Numbers\n",
        "\n",
        "Up to now, we have entered decimal numbers using the most common conventions, like 3714.12 or 0.41.\n",
        "\n",
        "It is also possible to employ other conventions to facilitate typing.\n",
        "\n",
        "When the magnitude of a decimal value is less than 1 it is not necessary to enter a zero before the decimal point:"
      ]
    },
    {
      "cell_type": "code",
      "execution_count": 192,
      "metadata": {},
      "outputs": [
        {
          "data": {
            "text/html": [
              "<span style=\"white-space:pre; font-family: monospace\">0.413\n",
              "</span>"
            ]
          },
          "execution_count": 192,
          "metadata": {},
          "output_type": "execute_result"
        }
      ],
      "source": [
        ".413        \u235d same as 0.413."
      ]
    },
    {
      "cell_type": "code",
      "execution_count": 193,
      "metadata": {},
      "outputs": [
        {
          "data": {
            "text/html": [
              "<span style=\"white-space:pre; font-family: monospace\">\u00af0.5119\n",
              "</span>"
            ]
          },
          "execution_count": 193,
          "metadata": {},
          "output_type": "execute_result"
        }
      ],
      "source": [
        "\u00af.5119      \u235d same as \u00af0.5119."
      ]
    },
    {
      "cell_type": "markdown",
      "metadata": {},
      "source": [
        "Very large and very small numbers can be entered using ***scientific*** (or ***exponential***) ***representation***.\n",
        "\n",
        "Using this convention, any \"extreme\" number can be represented by a \"normal\" number, the *mantissa*, multiplied by a power of 10, the *exponent*.\n",
        "\n",
        "For example, 42781900 could be represented as:\n",
        "\n",
        "$$\n",
        "\\begin{align*}\n",
        "42781900 &= 4.27819 \\times 10^7 \\\\\n",
        "&= 427.819 \\times 10^5 \\\\\n",
        "&= 42781.9 \\times 10^4\n",
        "\\end{align*}\n",
        "$$\n",
        "\n",
        "and 0.0000038421 could be represented as:\n",
        "\n",
        "$$\n",
        "\\begin{align*}\n",
        "0.0000038421 &= 384.21 \\times 10^{-8} \\\\\n",
        "&= 3.8421 \\times 10^{-6}\n",
        "\\end{align*}\n",
        "$$\n",
        "\n",
        "In APL, the mantissa and the exponent are separated by the letter `E`.\n",
        "\n",
        "Using this notation, one can enter very large or very small numbers with ease.\n",
        "\n",
        "If the magnitude of the number is not too large nor too small, all its digits will be displayed:"
      ]
    },
    {
      "cell_type": "code",
      "execution_count": 194,
      "metadata": {},
      "outputs": [
        {
          "data": {
            "text/html": [
              "<span style=\"white-space:pre; font-family: monospace\">42781900\n",
              "</span>"
            ]
          },
          "execution_count": 194,
          "metadata": {},
          "output_type": "execute_result"
        }
      ],
      "source": [
        "4.27819E7"
      ]
    },
    {
      "cell_type": "code",
      "execution_count": 195,
      "metadata": {},
      "outputs": [
        {
          "data": {
            "text/html": [
              "<span style=\"white-space:pre; font-family: monospace\">42781900\n",
              "</span>"
            ]
          },
          "execution_count": 195,
          "metadata": {},
          "output_type": "execute_result"
        }
      ],
      "source": [
        "4278.19E4"
      ]
    },
    {
      "cell_type": "code",
      "execution_count": 196,
      "metadata": {},
      "outputs": [
        {
          "data": {
            "text/html": [
              "<span style=\"white-space:pre; font-family: monospace\">0.0000038421\n",
              "</span>"
            ]
          },
          "execution_count": 196,
          "metadata": {},
          "output_type": "execute_result"
        }
      ],
      "source": [
        "384.21E\u00af8"
      ]
    },
    {
      "cell_type": "code",
      "execution_count": 197,
      "metadata": {},
      "outputs": [
        {
          "data": {
            "text/html": [
              "<span style=\"white-space:pre; font-family: monospace\">0.0000038421\n",
              "</span>"
            ]
          },
          "execution_count": 197,
          "metadata": {},
          "output_type": "execute_result"
        }
      ],
      "source": [
        "3.8421E\u00af6"
      ]
    },
    {
      "cell_type": "markdown",
      "metadata": {},
      "source": [
        "But if the numbers are very large (or very small), and would require more digits to be shown than the maximum (defined by `\u2395PP`, *Print Precision*) APL displays them with a \"normalised\" mantissa with only one integer digit, followed by the appropriate exponent:"
      ]
    },
    {
      "cell_type": "code",
      "execution_count": 198,
      "metadata": {},
      "outputs": [
        {
          "data": {
            "text/html": [
              "<span style=\"white-space:pre; font-family: monospace\">4.317658058E17\n",
              "</span>"
            ]
          },
          "execution_count": 198,
          "metadata": {},
          "output_type": "execute_result"
        }
      ],
      "source": [
        "431765805838751234"
      ]
    },
    {
      "cell_type": "code",
      "execution_count": 199,
      "metadata": {},
      "outputs": [
        {
          "data": {
            "text/html": [
              "<span style=\"white-space:pre; font-family: monospace\">5.6781234E23\n",
              "</span>"
            ]
          },
          "execution_count": 199,
          "metadata": {},
          "output_type": "execute_result"
        }
      ],
      "source": [
        "5678.1234E20"
      ]
    },
    {
      "cell_type": "code",
      "execution_count": 200,
      "metadata": {},
      "outputs": [
        {
          "data": {
            "text/html": [
              "<span style=\"white-space:pre; font-family: monospace\">1.2349876E\u00af12\n",
              "</span>"
            ]
          },
          "execution_count": 200,
          "metadata": {},
          "output_type": "execute_result"
        }
      ],
      "source": [
        "1234.9876E\u00af15"
      ]
    },
    {
      "cell_type": "code",
      "execution_count": 201,
      "metadata": {},
      "outputs": [
        {
          "data": {
            "text/html": [
              "<span style=\"white-space:pre; font-family: monospace\">\u00af2.4681357E\u00af10\n",
              "</span>"
            ]
          },
          "execution_count": 201,
          "metadata": {},
          "output_type": "execute_result"
        }
      ],
      "source": [
        "\u00af2468.1357E\u00af13"
      ]
    },
    {
      "cell_type": "markdown",
      "metadata": {},
      "source": [
        "### The Shape of the Result of Indexing\n",
        "\n",
        "#### Rule\n",
        "\n",
        "Suppose you are given an array of any rank `Array`.\n",
        "\n",
        "The expression `Array[A; B; C; ...]` always gives a result with a shape equal to `(\u2374A),(\u2374B),(\u2374C),...`.\n",
        "\n",
        "This rule makes it possible to always predict the shape of the result of an indexing operation.\n",
        "\n",
        "For example,"
      ]
    },
    {
      "cell_type": "code",
      "execution_count": 202,
      "metadata": {},
      "outputs": [
        {
          "data": {
            "text/html": [
              "<span style=\"white-space:pre; font-family: monospace\">29 19 53 47\n",
              "44 21 17 43\n",
              "           \n",
              "24 35 22 35\n",
              "27 23 53 60\n",
              "           \n",
              "56 55 38 27\n",
              "37 27 29 46\n",
              "</span>"
            ]
          },
          "execution_count": 202,
          "metadata": {},
          "output_type": "execute_result"
        }
      ],
      "source": [
        "Prod[2 5 3;2 1;1 2 5 6]    \u235d Gives a result of shape 3 2 4."
      ]
    },
    {
      "cell_type": "code",
      "execution_count": 203,
      "metadata": {},
      "outputs": [
        {
          "data": {
            "text/html": [
              "<span style=\"white-space:pre; font-family: monospace\">43 36 47 49 30 22\n",
              "29 19 23 38 53 47\n",
              "56 55 25 47 38 27\n",
              "16 55 26 20 27 55\n",
              "24 35 61 26 22 35\n",
              "</span>"
            ]
          },
          "execution_count": 203,
          "metadata": {},
          "output_type": "execute_result"
        }
      ],
      "source": [
        "Prod[;2;\u23736]                \u235d Gives a result of shape 5 6."
      ]
    },
    {
      "cell_type": "markdown",
      "metadata": {},
      "source": [
        "In the last example, the omitted index refers to the first dimension of `Prod` which is of length $5$.\n",
        "\n",
        "The second index (2) is a scalar, and has no dimension.\n",
        "\n",
        "That's why the shape of the result is 5 6 and not 5 1 6.\n",
        "\n",
        "#### Using Ravel to Preserve a Dimension\n",
        "\n",
        "In a program, a matrix is indexed like `Mat[Rows;Cols]`, for example"
      ]
    },
    {
      "cell_type": "code",
      "execution_count": 204,
      "metadata": {},
      "outputs": [
        {
          "data": {
            "text/html": [
              "<span style=\"white-space:pre; font-family: monospace\">100  80\n",
              "360 520\n",
              "</span>"
            ]
          },
          "execution_count": 204,
          "metadata": {},
          "output_type": "execute_result"
        }
      ],
      "source": [
        "Rows \u2190 1 2\n",
        "Cols \u2190 3 6\n",
        "Mini \u2190 Forecast[Rows;Cols]\n",
        "Mini"
      ]
    },
    {
      "cell_type": "markdown",
      "metadata": {},
      "source": [
        "Generally, `Rows` may contain several row numbers, and `Cols` may contain several column numbers. Applying the preceding rule, it is easy to see that we'll obtain a sub-matrix `Mini`.\n",
        "\n",
        "But it may be that `Rows` or `Cols` are scalars. The result of `Mat[Rows;Cols]` would then not be a sub-matrix, but a scalar or a vector. This could lead to other expressions in your function generating an error or an incorrect result, because they were written expecting matrices."
      ]
    },
    {
      "cell_type": "code",
      "execution_count": 205,
      "metadata": {},
      "outputs": [
        {
          "data": {
            "text/html": [
              "<span style=\"white-space:pre; font-family: monospace\">100 80\n",
              "</span>"
            ]
          },
          "execution_count": 205,
          "metadata": {},
          "output_type": "execute_result"
        }
      ],
      "source": [
        "Rows \u2190 1\n",
        "Mini \u2190 Forecast[Rows;Cols]\n",
        "Mini"
      ]
    },
    {
      "cell_type": "code",
      "execution_count": 206,
      "metadata": {},
      "outputs": [
        {
          "data": {
            "text/html": [
              "<span style=\"white-space:pre; font-family: monospace\">2\n",
              "</span>"
            ]
          },
          "execution_count": 206,
          "metadata": {},
          "output_type": "execute_result"
        }
      ],
      "source": [
        "\u2374Mini        \u235d Mini is a vector now"
      ]
    },
    {
      "cell_type": "code",
      "execution_count": 207,
      "metadata": {},
      "outputs": [
        {
          "data": {
            "text/html": [
              "<span style=\"white-space:pre; font-family: monospace\">80\n",
              "</span>"
            ]
          },
          "execution_count": 207,
          "metadata": {},
          "output_type": "execute_result"
        }
      ],
      "source": [
        "Cols \u2190 6\n",
        "Mini \u2190 Forecast[Rows;Cols]\n",
        "Mini"
      ]
    },
    {
      "cell_type": "code",
      "execution_count": 208,
      "metadata": {},
      "outputs": [
        {
          "data": {
            "text/html": [
              "<span style=\"white-space:pre; font-family: monospace\">\n",
              "</span>"
            ]
          },
          "execution_count": 208,
          "metadata": {},
          "output_type": "execute_result"
        }
      ],
      "source": [
        "\u2374Mini        \u235d Mini is a scalar now"
      ]
    },
    {
      "cell_type": "markdown",
      "metadata": {},
      "source": [
        "To avoid this problem, you can force an index expression to be a vector (perhaps a vector containing only one item) by using ***Ravel*** (symbol \"`,`\") like this:"
      ]
    },
    {
      "cell_type": "code",
      "execution_count": 209,
      "metadata": {},
      "outputs": [
        {
          "data": {
            "text/html": [
              "<span style=\"white-space:pre; font-family: monospace\">80\n",
              "</span>"
            ]
          },
          "execution_count": 209,
          "metadata": {},
          "output_type": "execute_result"
        }
      ],
      "source": [
        "Mini \u2190 Forecast[,Rows;,Cols]\n",
        "Mini"
      ]
    },
    {
      "cell_type": "code",
      "execution_count": 210,
      "metadata": {},
      "outputs": [
        {
          "data": {
            "text/html": [
              "<span style=\"white-space:pre; font-family: monospace\">1 1\n",
              "</span>"
            ]
          },
          "execution_count": 210,
          "metadata": {},
          "output_type": "execute_result"
        }
      ],
      "source": [
        "\u2374Mini        \u235d Mini is a matrix now"
      ]
    },
    {
      "cell_type": "markdown",
      "metadata": {},
      "source": [
        "***Ravel*** shall be discussed in C-14.\n",
        "\n",
        "In Section 5.3, we indexed the variable `Tests` like this:"
      ]
    },
    {
      "cell_type": "code",
      "execution_count": 211,
      "metadata": {},
      "outputs": [
        {
          "data": {
            "text/html": [
              "<span style=\"white-space:pre; font-family: monospace\">41 14 19 45\n",
              "</span>"
            ]
          },
          "execution_count": 211,
          "metadata": {},
          "output_type": "execute_result"
        }
      ],
      "source": [
        "Tests[1 2 5 6;1]"
      ]
    },
    {
      "cell_type": "markdown",
      "metadata": {},
      "source": [
        "And we were surprised to see the values of a column were displayed horizontally. We can now understand why: the shape of the result is equal to `(\u23741 2 5 6),(\u23741)`. As the shape of a scalar is empty, this expression is equivalent to `(\u23741 2 5 6)`, i.e. 4. The indexing operation therefore produces a vector, which is displayed on a single line of the screen.\n",
        "\n",
        "To obtain a matrix, we must transform the column index (scalar $1$) into a vector: we shall again use ***Ravel***, like this:"
      ]
    },
    {
      "cell_type": "code",
      "execution_count": 212,
      "metadata": {},
      "outputs": [
        {
          "data": {
            "text/html": [
              "<span style=\"white-space:pre; font-family: monospace\">41\n",
              "14\n",
              "19\n",
              "45\n",
              "</span>"
            ]
          },
          "execution_count": 212,
          "metadata": {},
          "output_type": "execute_result"
        }
      ],
      "source": [
        "Tests[1 2 5 6; ,1]"
      ]
    },
    {
      "cell_type": "markdown",
      "metadata": {},
      "source": [
        "### Multiple usage of an Index\n",
        "\n",
        "When an array is indexed, the same item (the second item in the example below) may be selected more than once; for example:"
      ]
    },
    {
      "cell_type": "code",
      "execution_count": 213,
      "metadata": {},
      "outputs": [
        {
          "data": {
            "text/html": [
              "<span style=\"white-space:pre; font-family: monospace\">72 73 72 74 72\n",
              "</span>"
            ]
          },
          "execution_count": 213,
          "metadata": {},
          "output_type": "execute_result"
        }
      ],
      "source": [
        "A \u2190 71 72 73 74 75 76\n",
        "A[2 3 2 4 2]"
      ]
    },
    {
      "cell_type": "markdown",
      "metadata": {},
      "source": [
        "If a repeated index is used to update the variable, only the last replacement value is retained:"
      ]
    },
    {
      "cell_type": "code",
      "execution_count": 214,
      "metadata": {},
      "outputs": [
        {
          "data": {
            "text/html": [
              "<span style=\"white-space:pre; font-family: monospace\">71 50 19 33 75 76\n",
              "</span>"
            ]
          },
          "execution_count": 214,
          "metadata": {},
          "output_type": "execute_result"
        }
      ],
      "source": [
        "A[2 3 2 4 2] \u2190 45 19 67 33 50\n",
        "A        \u235d The second item was set to 45, then 67 and finally 50."
      ]
    },
    {
      "cell_type": "markdown",
      "metadata": {},
      "source": [
        "### A Problem With Using Reshape (`\u2374`)\n",
        "\n",
        "We want to create a numeric matrix with 3 rows, and as many columns as another matrix `Trix`, entirely filled with zeros.\n",
        "\n",
        "One solution is to first obtain the number of columns of `Trix`, using the *Drop* (`\u2193`) function:"
      ]
    },
    {
      "cell_type": "code",
      "execution_count": 215,
      "metadata": {},
      "outputs": [
        {
          "data": {
            "text/html": [
              "<span style=\"white-space:pre; font-family: monospace\">8\n",
              "</span>"
            ]
          },
          "execution_count": 215,
          "metadata": {},
          "output_type": "execute_result"
        }
      ],
      "source": [
        "1\u2193\u2374Trix        \u235d Drop is discussed in G-1\n",
        "               \u235d Trix has 8 columns"
      ]
    },
    {
      "cell_type": "markdown",
      "metadata": {},
      "source": [
        "Then manually build the correct matrix using the number of columns (8) we obtained previously:"
      ]
    },
    {
      "cell_type": "code",
      "execution_count": 216,
      "metadata": {},
      "outputs": [
        {
          "data": {
            "text/html": [
              "<span style=\"white-space:pre; font-family: monospace\">0 0 0 0 0 0 0 0\n",
              "0 0 0 0 0 0 0 0\n",
              "0 0 0 0 0 0 0 0\n",
              "</span>"
            ]
          },
          "execution_count": 216,
          "metadata": {},
          "output_type": "execute_result"
        }
      ],
      "source": [
        "3 8\u23740          \u235d That's correct"
      ]
    },
    {
      "cell_type": "markdown",
      "metadata": {},
      "source": [
        "Now let us try to build a generalised solution:"
      ]
    },
    {
      "cell_type": "code",
      "execution_count": 217,
      "metadata": {},
      "outputs": [
        {
          "name": "stderr",
          "output_type": "stream",
          "text": [
            "DOMAIN ERROR\n",
            "      New\u21903 nc\u23740        \u235d That should be the same, no?\n",
            "              \u2227\n"
          ]
        }
      ],
      "source": [
        "nc \u2190 1\u2193\u2374Trix        \u235d Calculate the number of columns.\n",
        "New \u2190 3 nc\u23740        \u235d That should be the same, no?\n",
        "                    \u235d It no longer works..."
      ]
    },
    {
      "cell_type": "markdown",
      "metadata": {},
      "source": [
        "The reasons for the problem are as follows:\n",
        "\n",
        " - When, in the first example, we entered the expression `3 8`, we juxtaposed two scalars, and the result was a two-item vector.\n",
        " - The expression `\u2374Trix` in the second example returns a two-item vector (`5 8` to be more precise). The *Drop* function leaves only one value, but the result `8` is still a one-item **vector**.\n",
        " - When we then entered the expression `3 nc`, we juxtaposed a scalar to a vector. This does not return a simple vector, but a nested array.\n",
        " - Unfortunately, a nested array is not a valid left argument for *Reshape*!\n",
        " \n",
        "Solution: *Catenate* `3` and `nc` to form a simple vector, which you then use as the left argument to `\u2374`."
      ]
    },
    {
      "cell_type": "code",
      "execution_count": 218,
      "metadata": {},
      "outputs": [
        {
          "data": {
            "text/html": [
              "<span style=\"white-space:pre; font-family: monospace\">0 0 0 0 0 0 0 0\n",
              "0 0 0 0 0 0 0 0\n",
              "0 0 0 0 0 0 0 0\n",
              "</span>"
            ]
          },
          "execution_count": 218,
          "metadata": {},
          "output_type": "execute_result"
        }
      ],
      "source": [
        "New \u2190 (3,nc)\u23740      \u235d Catenate is discussed in C-10.\n",
        "New"
      ]
    },
    {
      "cell_type": "markdown",
      "metadata": {},
      "source": [
        "A direct solution would be:"
      ]
    },
    {
      "cell_type": "code",
      "execution_count": 219,
      "metadata": {},
      "outputs": [
        {
          "data": {
            "text/html": [
              "<span style=\"white-space:pre; font-family: monospace\">0 0 0 0 0 0 0 0\n",
              "0 0 0 0 0 0 0 0\n",
              "0 0 0 0 0 0 0 0\n",
              "</span>"
            ]
          },
          "execution_count": 219,
          "metadata": {},
          "output_type": "execute_result"
        }
      ],
      "source": [
        "New \u2190 (3,1\u2193\u2374Trix)\u23740\n",
        "New"
      ]
    },
    {
      "cell_type": "markdown",
      "metadata": {},
      "source": [
        "### Monadic Index, or Materialise (`\u2337`)\n",
        "\n",
        "In Section 5.6, we used the *Index* function with a left argument for indexing.\n",
        "\n",
        "Used monadically (without a left argument), ***Materialise*** returns all the items of its right argument, whatever its shape:"
      ]
    },
    {
      "cell_type": "code",
      "execution_count": 220,
      "metadata": {},
      "outputs": [
        {
          "data": {
            "text/html": [
              "<span style=\"white-space:pre; font-family: monospace\">17 41 23 64\n",
              "</span>"
            ]
          },
          "execution_count": 220,
          "metadata": {},
          "output_type": "execute_result"
        }
      ],
      "source": [
        "Vec \u2190 17 41 23 64\n",
        "\u2337 Vec        \u235d Equivalent to Vec[]"
      ]
    },
    {
      "cell_type": "code",
      "execution_count": 221,
      "metadata": {},
      "outputs": [
        {
          "data": {
            "text/html": [
              "<span style=\"white-space:pre; font-family: monospace\">1 2 3\n",
              "4 5 6\n",
              "</span>"
            ]
          },
          "execution_count": 221,
          "metadata": {},
          "output_type": "execute_result"
        }
      ],
      "source": [
        "Mat \u2190 2 3 \u2374 \u23736\n",
        "\u2337Mat         \u235d Equivalent to Mat[;]"
      ]
    },
    {
      "cell_type": "markdown",
      "metadata": {},
      "source": [
        "The *Materialise* function may also be used with Objects (See Chapter Q, Object Oriented Programming). Applied to an *Enumerable Property of an Object*, or an *Instance of an Object* which has such a Property as its *default* Property, the same syntax returns all the items in this collection.\n",
        "\n",
        "For example, to obtain the names of all the sheets in an Excel workbook, one can type:\n",
        "\n",
        "```apl\n",
        "      XL.ActiveWorkbook.(\u2337Sheets).Name\n",
        "```\n",
        "\n",
        "In this expression, `\u2337Sheets` represents the collection of all those sheets."
      ]
    },
    {
      "cell_type": "markdown",
      "metadata": {},
      "source": [
        "## Solutions\n",
        "\n",
        "The solutions we propose in the following pages are not necessarily the \"best\" ones; perhaps you will find other solutions that we have never considered. APL is a very rich language, and due to the general nature of its primitive functions and operators there are always plenty of different ways to express different solutions to a given problem. Which one is \"the best\" depends on many things, for example the level of experience of the programmer, the importance of system performance, the required behaviour in border cases, the requirement to meet certain programming standards and also personal preferences. This is one of the reasons why APL is so pleasant to teach and to learn!\n",
        "\n",
        "We advise you to try and solve the exercises before reading the solutions!"
      ]
    },
    {
      "cell_type": "markdown",
      "metadata": {},
      "source": [
        "**Exercise 1**:\n",
        "\n",
        "The dyadic use of `\u2374` is ***Reshape***, so that is what we are going to do to turn"
      ]
    },
    {
      "cell_type": "code",
      "execution_count": 2,
      "metadata": {},
      "outputs": [],
      "source": [
        "S \u2190 2        \u235d a scalar"
      ]
    },
    {
      "cell_type": "markdown",
      "metadata": {},
      "source": [
        "into a 1-element vector. A 1-element vector has shape `1`, so"
      ]
    },
    {
      "cell_type": "code",
      "execution_count": 3,
      "metadata": {},
      "outputs": [
        {
          "data": {
            "text/html": [
              "<span style=\"white-space:pre; font-family: monospace\">2\n",
              "</span>"
            ]
          },
          "execution_count": 3,
          "metadata": {},
          "output_type": "execute_result"
        }
      ],
      "source": [
        "1\u2374S"
      ]
    },
    {
      "cell_type": "markdown",
      "metadata": {},
      "source": [
        "will do the trick, even though it may look like it didn't work. If we check the ranks, we can see it did; a scalar has rank 0,"
      ]
    },
    {
      "cell_type": "code",
      "execution_count": 5,
      "metadata": {},
      "outputs": [
        {
          "data": {
            "text/html": [
              "<span style=\"white-space:pre; font-family: monospace\">0\n",
              "</span>"
            ]
          },
          "execution_count": 5,
          "metadata": {},
          "output_type": "execute_result"
        }
      ],
      "source": [
        "\u2262\u2374S"
      ]
    },
    {
      "cell_type": "markdown",
      "metadata": {},
      "source": [
        "whereas a vector has rank 1:"
      ]
    },
    {
      "cell_type": "code",
      "execution_count": 6,
      "metadata": {},
      "outputs": [
        {
          "data": {
            "text/html": [
              "<span style=\"white-space:pre; font-family: monospace\">1\n",
              "</span>"
            ]
          },
          "execution_count": 6,
          "metadata": {},
          "output_type": "execute_result"
        }
      ],
      "source": [
        "\u2262\u2374 1\u2374S"
      ]
    },
    {
      "cell_type": "markdown",
      "metadata": {},
      "source": [
        "To go the other way around we just have to remember that a scalar has an empty shape, that is, `\u236c` is the shape of a scalar:"
      ]
    },
    {
      "cell_type": "code",
      "execution_count": 7,
      "metadata": {},
      "outputs": [
        {
          "data": {
            "text/html": [
              "<span style=\"white-space:pre; font-family: monospace\">0\n",
              "</span>"
            ]
          },
          "execution_count": 7,
          "metadata": {},
          "output_type": "execute_result"
        }
      ],
      "source": [
        "V \u2190 1\u2374S    \u235d a 1-element vector\n",
        "\u2262\u2374 \u236c\u2374V"
      ]
    },
    {
      "cell_type": "markdown",
      "metadata": {},
      "source": [
        "Having obtained 0 as an answer, we can see that `\u236c\u2374V` really is a scalar."
      ]
    },
    {
      "cell_type": "markdown",
      "metadata": {},
      "source": [
        "**Exercise 2**:\n",
        "\n",
        "If we define `X` by just copying the numerical values, then we are defining a vector with 4 elements:"
      ]
    },
    {
      "cell_type": "code",
      "execution_count": 9,
      "metadata": {},
      "outputs": [
        {
          "data": {
            "text/html": [
              "<span style=\"white-space:pre; font-family: monospace\">2 15 8 3\n",
              "</span>"
            ]
          },
          "execution_count": 9,
          "metadata": {},
          "output_type": "execute_result"
        }
      ],
      "source": [
        "X \u2190 2 15 8 3\n",
        "X"
      ]
    },
    {
      "cell_type": "markdown",
      "metadata": {},
      "source": [
        "The visual display looks correct, but then of course the shape of `X` is `4`:"
      ]
    },
    {
      "cell_type": "code",
      "execution_count": 10,
      "metadata": {},
      "outputs": [
        {
          "data": {
            "text/html": [
              "<span style=\"white-space:pre; font-family: monospace\">4\n",
              "</span>"
            ]
          },
          "execution_count": 10,
          "metadata": {},
          "output_type": "execute_result"
        }
      ],
      "source": [
        "\u2374X"
      ]
    },
    {
      "cell_type": "markdown",
      "metadata": {},
      "source": [
        "The trick to solving this exercise is remembering that quotes in character vectors don't get printed when character vectors are displayed,"
      ]
    },
    {
      "cell_type": "code",
      "execution_count": 12,
      "metadata": {},
      "outputs": [
        {
          "data": {
            "text/html": [
              "<span style=\"white-space:pre; font-family: monospace\">2 15 8 3\n",
              "</span>"
            ]
          },
          "execution_count": 12,
          "metadata": {},
          "output_type": "execute_result"
        }
      ],
      "source": [
        "X \u2190 '2 15 8 3'\n",
        "X"
      ]
    },
    {
      "cell_type": "markdown",
      "metadata": {},
      "source": [
        "which makes it look exactly like the first `X` above, but now `X` is a _character_ vector with 8 elements:"
      ]
    },
    {
      "cell_type": "code",
      "execution_count": 13,
      "metadata": {},
      "outputs": [
        {
          "data": {
            "text/html": [
              "<span style=\"white-space:pre; font-family: monospace\">8\n",
              "</span>"
            ]
          },
          "execution_count": 13,
          "metadata": {},
          "output_type": "execute_result"
        }
      ],
      "source": [
        "\u2374X"
      ]
    },
    {
      "cell_type": "markdown",
      "metadata": {},
      "source": [
        "**Exercise 3**:\n",
        "\n",
        "There is no easier way to confirm your answer than to actually run the code:"
      ]
    },
    {
      "cell_type": "code",
      "execution_count": 14,
      "metadata": {},
      "outputs": [
        {
          "data": {
            "text/html": [
              "<span style=\"white-space:pre; font-family: monospace\">THE CAT\n",
              "</span>"
            ]
          },
          "execution_count": 14,
          "metadata": {},
          "output_type": "execute_result"
        }
      ],
      "source": [
        "'LE CHAT'[7 5 2 3 4 6 7]"
      ]
    },
    {
      "cell_type": "markdown",
      "metadata": {},
      "source": [
        "**Exercise 4**:\n",
        "\n",
        "The first thing to do would be to understand how to access the values we want to modify, and then use the appropriate assignment. Notice that `Tab` is a matrix with 2 rows and 5 columns and we are after the values in the corners, or in the first and last columns:"
      ]
    },
    {
      "cell_type": "code",
      "execution_count": 16,
      "metadata": {},
      "outputs": [
        {
          "data": {
            "text/html": [
              "<span style=\"white-space:pre; font-family: monospace\">9 1 4 3 6\n",
              "7 4 3 8 2\n",
              "</span>"
            ]
          },
          "execution_count": 16,
          "metadata": {},
          "output_type": "execute_result"
        }
      ],
      "source": [
        "Tab \u2190 2 5 \u2374 9 1 4 3 6 7 4 3 8 2\n",
        "Tab"
      ]
    },
    {
      "cell_type": "markdown",
      "metadata": {},
      "source": [
        "One might be tempted to write"
      ]
    },
    {
      "cell_type": "code",
      "execution_count": 17,
      "metadata": {},
      "outputs": [
        {
          "name": "stderr",
          "output_type": "stream",
          "text": [
            "LENGTH ERROR\n",
            "      Tab[1 2;1 5]\u219021 45 78 11\n",
            "         \u2227\n"
          ]
        }
      ],
      "source": [
        "Tab[1 2;1 5] \u2190 21 45 78 11"
      ]
    },
    {
      "cell_type": "markdown",
      "metadata": {},
      "source": [
        "but that gives an error because `Tab[1 2;1 5]` is a 2 by 2 matrix and `21 45 78 11` is a vector. We need to make sure the value to the right of the assignment has a conforming shape:"
      ]
    },
    {
      "cell_type": "code",
      "execution_count": 19,
      "metadata": {},
      "outputs": [
        {
          "data": {
            "text/html": [
              "<span style=\"white-space:pre; font-family: monospace\">21 1 4 3 45\n",
              "78 4 3 8 11\n",
              "</span>"
            ]
          },
          "execution_count": 19,
          "metadata": {},
          "output_type": "execute_result"
        }
      ],
      "source": [
        "Tab[1 2;1 5] \u2190 2 2\u237421 45 78 11\n",
        "Tab"
      ]
    },
    {
      "cell_type": "markdown",
      "metadata": {},
      "source": [
        "Because we are replacing entire columns, we can also omit the row indices like such:"
      ]
    },
    {
      "cell_type": "code",
      "execution_count": 20,
      "metadata": {},
      "outputs": [],
      "source": [
        "Tab[;1 5] \u2190 2 2\u237421 45 78 11"
      ]
    },
    {
      "cell_type": "markdown",
      "metadata": {},
      "source": [
        "**Exercise 5**:\n",
        "\n",
        "When we write"
      ]
    },
    {
      "cell_type": "code",
      "execution_count": 21,
      "metadata": {},
      "outputs": [],
      "source": [
        "X \u2190 1 2 9 11 3 7 8\n",
        "X[3 5] \u2190 X[4 1]"
      ]
    },
    {
      "cell_type": "markdown",
      "metadata": {},
      "source": [
        "we are replacing `X`'s 3rd and 5th elements with its 4th and 1st, respectively, so that the 9 becomes an 11 and the 3 becomes a 1:"
      ]
    },
    {
      "cell_type": "code",
      "execution_count": 22,
      "metadata": {},
      "outputs": [
        {
          "data": {
            "text/html": [
              "<span style=\"white-space:pre; font-family: monospace\">1 2 11 11 1 7 8\n",
              "</span>"
            ]
          },
          "execution_count": 22,
          "metadata": {},
          "output_type": "execute_result"
        }
      ],
      "source": [
        "X"
      ]
    },
    {
      "cell_type": "markdown",
      "metadata": {},
      "source": [
        "If we then run"
      ]
    },
    {
      "cell_type": "code",
      "execution_count": 23,
      "metadata": {},
      "outputs": [],
      "source": [
        "X[4 6] \u2190 X[6 4]"
      ]
    },
    {
      "cell_type": "markdown",
      "metadata": {},
      "source": [
        "we are swapping the 4th and 6th elements of `X`, so that the second 11 and the 7 change places:"
      ]
    },
    {
      "cell_type": "code",
      "execution_count": 24,
      "metadata": {},
      "outputs": [
        {
          "data": {
            "text/html": [
              "<span style=\"white-space:pre; font-family: monospace\">1 2 11 7 1 11 8\n",
              "</span>"
            ]
          },
          "execution_count": 24,
          "metadata": {},
          "output_type": "execute_result"
        }
      ],
      "source": [
        "X"
      ]
    },
    {
      "cell_type": "markdown",
      "metadata": {},
      "source": [
        "**Exercise 6**:\n",
        "\n",
        "To solve this, just notice that if `Mystery[3 1 6 5 2 4]` gives `8 11 3 9 2 15` then the 3rd item of `Mystery` is 8, the 1st is 11, and so on. So `Mystery` is actually:"
      ]
    },
    {
      "cell_type": "code",
      "execution_count": 25,
      "metadata": {},
      "outputs": [
        {
          "data": {
            "text/html": [
              "<span style=\"white-space:pre; font-family: monospace\">8 11 3 9 2 15\n",
              "</span>"
            ]
          },
          "execution_count": 25,
          "metadata": {},
          "output_type": "execute_result"
        }
      ],
      "source": [
        "Mystery \u2190 11 2 8 15 9 3\n",
        "Mystery[3 1 6 5 2 4]"
      ]
    },
    {
      "cell_type": "markdown",
      "metadata": {},
      "source": [
        "**Exercise 7**:\n",
        "\n",
        "This exercise is similar to the one above. We start with the vector"
      ]
    },
    {
      "cell_type": "code",
      "execution_count": 26,
      "metadata": {},
      "outputs": [],
      "source": [
        "Vec \u2190 33 19 27 11 74 47 10 50 66 14"
      ]
    },
    {
      "cell_type": "markdown",
      "metadata": {},
      "source": [
        "and now we want to index into it with `Vec[FindMe]` to obtain the result `47 27 19 14 50 74`. The 1st element of `FindMe` should point to the 47 in `Vec`, and so on:"
      ]
    },
    {
      "cell_type": "code",
      "execution_count": 28,
      "metadata": {},
      "outputs": [
        {
          "data": {
            "text/html": [
              "<span style=\"white-space:pre; font-family: monospace\">47 27 19 14 50 74\n",
              "</span>"
            ]
          },
          "execution_count": 28,
          "metadata": {},
          "output_type": "execute_result"
        }
      ],
      "source": [
        "FindMe \u2190 6 3 2 10 8 5\n",
        "Vec[FindMe]"
      ]
    },
    {
      "cell_type": "markdown",
      "metadata": {},
      "source": [
        "**Exercise 8**:\n",
        "\n",
        "The result of indexing a vector is always equal to the shape of the index. Hence the shape of `Result` is equal to the shape of `Set`, which is `3 3`:"
      ]
    },
    {
      "cell_type": "code",
      "execution_count": 31,
      "metadata": {},
      "outputs": [
        {
          "data": {
            "text/html": [
              "<span style=\"white-space:pre; font-family: monospace\">3 3\n",
              "</span>"
            ]
          },
          "execution_count": 31,
          "metadata": {},
          "output_type": "execute_result"
        }
      ],
      "source": [
        "Source \u2190 10 4 13 3 9 0 7 6 2 13 8 1 5\n",
        "Set \u2190 3 3 \u2374 Source[2 4 8 5 12 13 7 4]\n",
        "\u2374Set"
      ]
    },
    {
      "cell_type": "code",
      "execution_count": 32,
      "metadata": {},
      "outputs": [
        {
          "data": {
            "text/html": [
              "<span style=\"white-space:pre; font-family: monospace\">3 3\n",
              "</span>"
            ]
          },
          "execution_count": 32,
          "metadata": {},
          "output_type": "execute_result"
        }
      ],
      "source": [
        "Result \u2190 Source[Set]\n",
        "\u2374Result"
      ]
    },
    {
      "cell_type": "markdown",
      "metadata": {},
      "source": [
        "In order to find out the values in `Result` we first need to figure out the values in `Set` and how they are laid out in the 3 by 3 matrix,"
      ]
    },
    {
      "cell_type": "code",
      "execution_count": 33,
      "metadata": {},
      "outputs": [
        {
          "data": {
            "text/html": [
              "<span style=\"white-space:pre; font-family: monospace\">4 3 6\n",
              "9 1 5\n",
              "7 3 4\n",
              "</span>"
            ]
          },
          "execution_count": 33,
          "metadata": {},
          "output_type": "execute_result"
        }
      ],
      "source": [
        "Set"
      ]
    },
    {
      "cell_type": "markdown",
      "metadata": {},
      "source": [
        "and then use those to index into the `Source` vector; for example, in the top-left and bottom-right corners of `Result` you will find the 4th element of `Source`, which is 3:"
      ]
    },
    {
      "cell_type": "code",
      "execution_count": 34,
      "metadata": {},
      "outputs": [
        {
          "data": {
            "text/html": [
              "<span style=\"white-space:pre; font-family: monospace\">3 13 0\n",
              "2 10 9\n",
              "7 13 3\n",
              "</span>"
            ]
          },
          "execution_count": 34,
          "metadata": {},
          "output_type": "execute_result"
        }
      ],
      "source": [
        "Result"
      ]
    },
    {
      "cell_type": "markdown",
      "metadata": {},
      "source": [
        "**Exercise 9**:\n",
        "\n",
        "There is _no_ difference between the two vectors. Both are 3-item simple character vectors."
      ]
    },
    {
      "cell_type": "markdown",
      "metadata": {},
      "source": [
        "**Exercise 10**:\n",
        "\n",
        "`V3` is a 6-item vector. Some items are numeric, some are characters; it is a *Mixed* vector."
      ]
    },
    {
      "cell_type": "code",
      "execution_count": 38,
      "metadata": {},
      "outputs": [
        {
          "data": {
            "text/html": [
              "<span style=\"white-space:pre; font-family: monospace\">6\n",
              "</span>"
            ]
          },
          "execution_count": 38,
          "metadata": {},
          "output_type": "execute_result"
        }
      ],
      "source": [
        "V3 \u2190 15 48 'Y' 'e' 's' 52\n",
        "\u2374V3"
      ]
    },
    {
      "cell_type": "markdown",
      "metadata": {},
      "source": [
        "On the other hand, `V4` is a 4-item vector. It is a *Nested* array, since the 3rd item is an enclosed character vector."
      ]
    },
    {
      "cell_type": "code",
      "execution_count": 39,
      "metadata": {},
      "outputs": [
        {
          "data": {
            "text/html": [
              "<span style=\"white-space:pre; font-family: monospace\">4\n",
              "</span>"
            ]
          },
          "execution_count": 39,
          "metadata": {},
          "output_type": "execute_result"
        }
      ],
      "source": [
        "V4 \u2190 15 48 'Yes' 52\n",
        "\u2374V4"
      ]
    },
    {
      "cell_type": "markdown",
      "metadata": {},
      "source": [
        "We can visually distinguish the two if `]box` is turned on or if you use the `DISP` function (you can gain access to it with the `)Copy Util DISP` command):"
      ]
    },
    {
      "cell_type": "code",
      "execution_count": 42,
      "metadata": {},
      "outputs": [
        {
          "data": {
            "text/html": [
              "<span style=\"white-space:pre; font-family: monospace\">15 48 Yes 52\n",
              "</span>"
            ]
          },
          "execution_count": 42,
          "metadata": {},
          "output_type": "execute_result"
        }
      ],
      "source": [
        "V3"
      ]
    },
    {
      "cell_type": "code",
      "execution_count": 44,
      "metadata": {
        "scrolled": true
      },
      "outputs": [
        {
          "data": {
            "text/html": [
              "<span style=\"white-space:pre; font-family: monospace\">Was ON\n",
              "</span>"
            ]
          },
          "execution_count": 44,
          "metadata": {},
          "output_type": "execute_result"
        },
        {
          "data": {
            "text/html": [
              "<span style=\"white-space:pre; font-family: monospace\">\u250c\u2500\u2500\u252c\u2500\u2500\u252c\u2500\u2500\u2500\u252c\u2500\u2500\u2510\n",
              "\u250215\u250248\u2502Yes\u250252\u2502\n",
              "\u2514\u2500\u2500\u2534\u2500\u2500\u2534\u2500\u2500\u2500\u2534\u2500\u2500\u2518\n",
              "</span>"
            ]
          },
          "execution_count": 44,
          "metadata": {},
          "output_type": "execute_result"
        }
      ],
      "source": [
        "]box on\n",
        "V4"
      ]
    },
    {
      "cell_type": "markdown",
      "metadata": {},
      "source": [
        "**Exercise 11**:\n",
        "\n",
        "Replacing `Two` (not `'Two'`) by `2` (the value of the variable), one obtains `2 2 \u2374 2 2 '\u2374' 'Two'`. This gives away that `Foolish` is a 2 by 2 matrix:"
      ]
    },
    {
      "cell_type": "code",
      "execution_count": 45,
      "metadata": {},
      "outputs": [
        {
          "data": {
            "text/html": [
              "<span style=\"white-space:pre; font-family: monospace\">2 2\n",
              "</span>"
            ]
          },
          "execution_count": 45,
          "metadata": {},
          "output_type": "execute_result"
        }
      ],
      "source": [
        "Two \u2190 2\n",
        "Foolish \u2190 Two Two \u2374 2 Two '\u2374' 'Two'\n",
        "\u2374Foolish"
      ]
    },
    {
      "cell_type": "markdown",
      "metadata": {},
      "source": [
        "To determine its contents we just need to lay out the `2 2 '\u2374' 'Two'` over the 2 rows of length 2 to obtain a nested matrix:"
      ]
    },
    {
      "cell_type": "code",
      "execution_count": 46,
      "metadata": {},
      "outputs": [
        {
          "data": {
            "text/html": [
              "<span style=\"white-space:pre; font-family: monospace\">\u250c\u2500\u252c\u2500\u2500\u2500\u2510\n",
              "\u25022\u25022  \u2502\n",
              "\u251c\u2500\u253c\u2500\u2500\u2500\u2524\n",
              "\u2502\u2374\u2502Two\u2502\n",
              "\u2514\u2500\u2534\u2500\u2500\u2500\u2518\n",
              "</span>"
            ]
          },
          "execution_count": 46,
          "metadata": {},
          "output_type": "execute_result"
        }
      ],
      "source": [
        "Foolish"
      ]
    },
    {
      "cell_type": "code",
      "execution_count": null,
      "metadata": {},
      "outputs": [],
      "source": []
    }
  ],
  "metadata": {
    "kernelspec": {
      "display_name": "Dyalog APL",
      "language": "apl",
      "name": "dyalog-kernel"
    },
    "language_info": {
      "file_extension": ".apl",
      "mimetype": "text/apl",
      "name": "APL"
    }
  },
  "nbformat": 4,
  "nbformat_minor": 4
}