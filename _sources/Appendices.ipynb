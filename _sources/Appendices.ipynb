{
  "cells": [
    {
      "cell_type": "markdown",
      "metadata": {},
      "source": [
        "***Notes & Questions***:\n",
        "\n",
        " - In the {numref}`Appendices-Dyalog-APL-Operators`, is the outer product really a dyadic operator? I mean, I get that `\u2218.f` has the function on the right, but it only got one function as \"argument\", so shouldn't it be a monadic operator?"
      ]
    },
    {
      "cell_type": "markdown",
      "metadata": {},
      "source": [
        "(Appendices-Appendices)=\n",
        "# Appendices\n",
        "\n",
        "(Appendices-Scalar-Functions)=\n",
        "## Scalar Functions\n",
        "\n",
        "| Function | Monadic | Dyadic | Function |\n",
        "| :- | :-: | :-: | :- |\n",
        "| Conjugate | `+ B` | `A + B` | Add |\n",
        "| Negative | `- B` | `A - B` | Subtract |\n",
        "| Signum | `\u00d7 B` | `A \u00d7 B` | Multiply |\n",
        "| Reciprocal | `\u00f7 B` | `A \u00f7 B` | Divide |\n",
        "| Magnitude | <code>&vert; B</code> | <code>A &vert; B</code> | Residue |\n",
        "| Floor | `\u230a B` | `A \u230a B` | Minimum |\n",
        "| Ceiling | `\u2308 B` | `A \u2308 B` | Maximum |\n",
        "| Exponential | `* B` | `A * B` | Power |\n",
        "| Natural Logarithm | `\u235f B` | `A \u235f B` | Logarithm |\n",
        "| Pi Times | `\u25cb B` | `A \u25cb B` | Trigonometry |\n",
        "| Factorial | `! B` | `A ! B` | Binomial |\n",
        "| Not | `~ B` | | *Not a scalar function* |\n",
        "| Roll | `? B` | | *Not a scalar function* |\n",
        "||| `A \u2227 B` | And / LCM |\n",
        "||| `A \u2228 B` | Or / GCD |\n",
        "||| `A \u2372 B` | Nand (Not-And) |\n",
        "||| `A \u2371 B` | Nor (Not-Or) |\n",
        "||| `A < B` | Less |\n",
        "||| `A \u2264 B` | Less Than Or Equal To |\n",
        "||| `A = B` | Equal |\n",
        "||| `A \u2265 B` | Greater Than Or Equal To |\n",
        "||| `A > B` | Greater |\n",
        "| *Not a scalar function* || `A \u2260 B` | Not Equal / Xor |\n",
        "| Same | `\u22a2 B` || *Not a scalar function* |\n",
        "| Same | `\u22a3 B` || *Not a scalar function* |"
      ]
    },
    {
      "cell_type": "markdown",
      "metadata": {},
      "source": [
        "(Appendices-Invoking-the-Editor)=\n",
        "## Invoking the Editor\n",
        "\n",
        "The editor provided with Dyalog APL can be invoked by double-clicking the name of an *existing* object. Then the editor knows the type of the object and adapts its behaviour accordingly.\n",
        "\n",
        "The system command `)ED` opens the editor and can be used to create a *new* object. By default a new function is created.\n",
        "\n",
        "A prefix can be used to specify the type of the new object, according to the following table:\n",
        "\n",
        "| Prefix | Example | Object Created |\n",
        "| :-: | :- | :- |\n",
        "| none | `)ed New` | Function | \n",
        "| `\u2207` | `)ed \u2207 Borscht` | Function |\n",
        "| `-` | `)ed - papyrus` | Simple character matrix |\n",
        "| `\u2192` | `)ed \u2192 crouton` | Simple character vector |\n",
        "| `\u220a` | `)ed \u220a grunt` | Nested vector of character vectors |\n",
        "| `\u235f` | `)ed \u235f Ns` | Namespace script |\n",
        "| `\u25cb` | `)ed \u25cb Myclass` | Class script |\n",
        "| `\u2218` | `)ed \u2218 Bridge` | Interface script |\n",
        "\n",
        "It is possible to open several edit windows using a single command. For example, `)ed Tyrex -moose` will open two edit windows. The first to create or edit a function named `Tyrex` and the second to create a character matrix named `moose`.\n",
        "\n",
        "If a prefix is specified for the name of an already existing object, the prefix is ignored and the editor is invoked according to the type of the existing object.\n",
        "\n",
        "More information is available at [Dyalog's help page for the \"Edit Object\"](https://help.dyalog.com/latest/#Language/System%20Commands/ed.htm?Highlight=ed)."
      ]
    },
    {
      "cell_type": "markdown",
      "metadata": {},
      "source": [
        "(Appendices-Dyalog-APL-Operators)=\n",
        "## Dyalog APL Operators\n",
        "\n",
        "The following table of primitive operators in Dyalog APL uses the following conventions:\n",
        "\n",
        " - `f` and `g` represent functions: primitive, user defined or derived from another operator;\n",
        " - `X` and `Y` represent the left and right arguments of the derived function, respectively;\n",
        " - `A` and `B` are arrays and they represent left and right operands, respectively;\n",
        " - `N` also represents an array operand, specifically a numeric one;\n",
        " - a distinction is made between the syntax of the operator itself (\"Op\" in the table below) and the syntax of its derived function (\"Fun\" in the table below), as a monadic operator can generate a dyadic derived function or a dyadic operator can generate a monadic derived function; the syntax is indicated by M for *Monadic* and D for *Dyadic*.\n",
        " \n",
        "| Name | Op | Fun | Notation | Example |\n",
        "| :- | :-: | :-: | :- | :-: |\n",
        "| Each | M | M | `f\u00a8Y` | `\u2374\u00a8Y` |\n",
        "||| D | `X f\u00a8 Y` | `3\u2191\u00a8Y` |\n",
        "| Reduce | M | M | `f/Y` or `f\u233fY` | `+/Y` |\n",
        "| Reduce $n$-Wise | M | D | `X f/Y` or `X f\u233fY` | `2+/Y` |\n",
        "| Axis(\\*) | D | M | `f[n] Y` | `\u2193[1]Y` |\n",
        "||| D | `X f[n] Y` | `X,[1]Y` |\n",
        "| Scan | M | M | `f\\Y` or `y\u2340Y` | `\u00d7\\Y` |\n",
        "| Outer Product | D | D | `X \u2218.f Y` | `X \u2218.< Y` |\n",
        "| Inner Product | D | M | `X f.g Y` | `X +.\u00d7 Y` |\n",
        "| Commute | M | M | `f\u2368 Y` | `=\u2368 Y` |\n",
        "||| D | `X f\u2368 Y` | `X-\u2368Y` |\n",
        "| Constant | M | M | `A\u2368 Y` | `3\u2368\u00a8Y` |\n",
        "||| D | `X A\u2368 Y` | `X 0\u2368 Y` |\n",
        "| Compose | D | M | `f\u2218g Y` | `\u2374\u2218\u2374Y` |\n",
        "||| M | `A\u2218g Y` | `2 2\u2218\u2374\u00a8Y` |\n",
        "||| M | `(f\u2218B) Y` | `,\u2218'...'\u00a8Y` |\n",
        "||| D | `X f\u2218g Y` | `3\u2191\u2218\u2374\u00a8Y` |\n",
        "| Over | D | M | `f\u2365g Y` | <code>\u00f7\u2365&vert;Y</code> |\n",
        "||| D | `X f\u2365g Y` | <code>X\u2308\u2365&vert;Y</code> |\n",
        "| Atop | D | M | `f\u2364g Y` | `-\u2364\u00f7Y` |\n",
        "||| D | `X f\u2364g Y` | `X\u2374\u2364,Y` |\n",
        "| Rank | D | M | `(f\u2364B) Y` | `(\u234b\u23641)Y` |\n",
        "||| D | `X (f\u2364B) Y` | `X(+\u23640 1)Y` |\n",
        "| At | D | M | `(A@B) Y` or `(f@B) Y` | `(0@2 4)Y` |\n",
        "||| D | `X (f@B) Y` | `10(\u00d7@2 4)Y` |\n",
        "||| M | `A@g Y` or `f@g Y` | <code>\u00f7@(2\u2218&vert;)Y</code> |\n",
        "||| D | `X f@g Y` | <code>X\u00d7@(2\u2218&vert;)Y</code> |\n",
        "| Spawn | M | M | `f& Y` | `\u2339&Y` |\n",
        "||| D | `X f& Y` | `X\u2373&Y` |\n",
        "| Power | D | M | `(f\u2363B) Y` or `f\u2363g Y` | `(\u2283\u23633)Y` |\n",
        "||| D | `X (f\u2363B) Y` or `X f\u2363g Y` | `1+\u2218\u00f7\u2363=1` |\n",
        "| Key | M | M | `f\u2338 Y` | `,\u2338Y` |\n",
        "||| D | `X f\u2338 Y` | `X,\u2338Y` |\n",
        "| Stencil | D | M | `(f\u233aB) Y` | `({\u2282\u2375}\u233a2 2)Y` |\n",
        "| I-Beam | M | - | `N\u2336 Y` or `X (N\u2336) Y` | `819\u2336Y` |\n",
        "| Variant | D | - | `(f\u2360B) Y` or `X (f\u2360B) Y` | `('a'\u2395S 0)\u23601\u22a2Y` |\n",
        "\n",
        "(*): Strictly speaking, axis is not an operator, cf. the chapter on \"Operators\"."
      ]
    },
    {
      "cell_type": "markdown",
      "metadata": {},
      "source": [
        "(Appendices-Variables)=\n",
        "## Variables\n",
        "\n",
        "This appendix lists all the variables and utility functions used throughout the book."
      ]
    },
    {
      "cell_type": "code",
      "execution_count": 1,
      "metadata": {},
      "outputs": [
        {
          "data": {
            "text/html": [
              "<span style=\"white-space:pre; font-family: monospace\"> 90 160 420 500  20  30\n",
              "110 450 170 370 290 360\n",
              "340 190 320 120 510 370\n",
              "150 460 240 520 490 280\n",
              "</span>"
            ]
          },
          "execution_count": 1,
          "metadata": {},
          "output_type": "execute_result"
        }
      ],
      "source": [
        "\u2395RL \u2190 73\n",
        "\u22a2forecast \u2190 10\u00d7?4 6\u237455"
      ]
    },
    {
      "cell_type": "code",
      "execution_count": 2,
      "metadata": {},
      "outputs": [
        {
          "data": {
            "text/html": [
              "<span style=\"white-space:pre; font-family: monospace\"> 89 166 420 508  12  23\n",
              "111 453 177 365 284 352\n",
              "349 192 329 115 515 374\n",
              "160 467 234 519 485 283\n",
              "</span>"
            ]
          },
          "execution_count": 2,
          "metadata": {},
          "output_type": "execute_result"
        }
      ],
      "source": [
        "\u2395RL \u2190 73\n",
        "\u22a2actual \u2190 forecast + \u00af10+?4 6\u237420"
      ]
    },
    {
      "cell_type": "code",
      "execution_count": null,
      "metadata": {},
      "outputs": [],
      "source": []
    }
  ],
  "metadata": {
    "kernelspec": {
      "display_name": "Dyalog APL",
      "language": "apl",
      "name": "dyalog-kernel"
    },
    "language_info": {
      "file_extension": ".apl",
      "mimetype": "text/apl",
      "name": "APL"
    }
  },
  "nbformat": 4,
  "nbformat_minor": 4
}