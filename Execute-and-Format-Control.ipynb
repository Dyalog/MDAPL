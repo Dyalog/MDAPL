{
 "cells": [
  {
   "cell_type": "markdown",
   "id": "digital-kazakhstan",
   "metadata": {},
   "source": [
    "# Execute & Format Control\n",
    "\n",
    "## Execute\n",
    "\n",
    "### Definition\n",
    "\n",
    "_Execute_ is a monadic function represented by `⍎`, which you can type with <kbd>APL</kbd>+<kbd>;</kbd>; its dyadic use will be explained in the Specialist's Section at the end of this chapter.\n",
    "\n",
    "_Execute_ takes a character vector (or scalar) as its argument.\n",
    "\n",
    "If the character vector represents a valid APL expression, _Execute_ will just... execute it, as if it had been typed on the keyboard.\n",
    "Otherwise, an error will be reported.\n",
    "\n",
    "Take a look at the following example:"
   ]
  },
  {
   "cell_type": "code",
   "execution_count": 1,
   "id": "parallel-cathedral",
   "metadata": {},
   "outputs": [
    {
     "data": {
      "text/html": [
       "<span style=\"white-space:pre; font-family: monospace\">5×6+2\n",
       "\n",
       "</span>"
      ]
     },
     "execution_count": 1,
     "metadata": {},
     "output_type": "execute_result"
    }
   ],
   "source": [
    "⎕← letters ← '5×6+2'"
   ]
  },
  {
   "cell_type": "code",
   "execution_count": 2,
   "id": "hidden-discipline",
   "metadata": {},
   "outputs": [
    {
     "data": {
      "text/html": [
       "<span style=\"white-space:pre; font-family: monospace\">40\n",
       "\n",
       "</span>"
      ]
     },
     "execution_count": 2,
     "metadata": {},
     "output_type": "execute_result"
    }
   ],
   "source": [
    "⍎letters"
   ]
  },
  {
   "cell_type": "markdown",
   "id": "indonesian-server",
   "metadata": {},
   "source": [
    "The argument can contain any valid expression:\n",
    " - numeric or character constants, or variables;\n",
    " - left arrows (assignment) or right arrows (branch);\n",
    " - primitive or defined functions and operators; and\n",
    " - calls to other _execute_ functions.\n",
    "\n",
    "Let us define a short function to call from within _execute_:"
   ]
  },
  {
   "cell_type": "code",
   "execution_count": 3,
   "id": "satisfactory-evaluation",
   "metadata": {},
   "outputs": [],
   "source": [
    "∇ r ← x Plus y\n",
    "    r ← x + y\n",
    "∇"
   ]
  },
  {
   "cell_type": "markdown",
   "id": "czech-entry",
   "metadata": {},
   "source": [
    "In the expression below, _execute_ calls our `Plus` function and creates a new variable:"
   ]
  },
  {
   "cell_type": "code",
   "execution_count": 4,
   "id": "transsexual-density",
   "metadata": {},
   "outputs": [],
   "source": [
    "⍎'new ← 3 + 4 Plus 5'"
   ]
  },
  {
   "cell_type": "code",
   "execution_count": 5,
   "id": "living-attachment",
   "metadata": {},
   "outputs": [
    {
     "data": {
      "text/html": [
       "<span style=\"white-space:pre; font-family: monospace\">12\n",
       "\n",
       "</span>"
      ]
     },
     "execution_count": 5,
     "metadata": {},
     "output_type": "execute_result"
    }
   ],
   "source": [
    "new"
   ]
  },
  {
   "cell_type": "markdown",
   "id": "sporting-daniel",
   "metadata": {},
   "source": [
    "If the expression returns a result, it will be used as the result of _execute_:"
   ]
  },
  {
   "cell_type": "code",
   "execution_count": 6,
   "id": "saving-testimony",
   "metadata": {},
   "outputs": [],
   "source": [
    "res ← ⍎'3 Plus 10'"
   ]
  },
  {
   "cell_type": "code",
   "execution_count": 7,
   "id": "understanding-theme",
   "metadata": {},
   "outputs": [
    {
     "data": {
      "text/html": [
       "<span style=\"white-space:pre; font-family: monospace\">13\n",
       "\n",
       "</span>"
      ]
     },
     "execution_count": 7,
     "metadata": {},
     "output_type": "execute_result"
    }
   ],
   "source": [
    "res"
   ]
  },
  {
   "cell_type": "markdown",
   "id": "mechanical-spoke",
   "metadata": {},
   "source": [
    "We could just as well have written"
   ]
  },
  {
   "cell_type": "code",
   "execution_count": 8,
   "id": "measured-concentration",
   "metadata": {},
   "outputs": [],
   "source": [
    "⍎'res ← 3 Plus 10'"
   ]
  },
  {
   "cell_type": "code",
   "execution_count": 9,
   "id": "legal-locking",
   "metadata": {},
   "outputs": [
    {
     "data": {
      "text/html": [
       "<span style=\"white-space:pre; font-family: monospace\">13\n",
       "\n",
       "</span>"
      ]
     },
     "execution_count": 9,
     "metadata": {},
     "output_type": "execute_result"
    }
   ],
   "source": [
    "res"
   ]
  },
  {
   "cell_type": "markdown",
   "id": "sacred-netscape",
   "metadata": {},
   "source": [
    "<!--begin beware style=warning-->\n",
    "***Beware***:\n",
    "\n",
    " > Note that if the argument does not return a result, it can still be executed, but _execute_ will not return a result, and any attempt to assign it to a variable or to use it in any other way will cause a `VALUE ERROR`.\n",
    "<!--end-->\n",
    "\n",
    "Take a modification of our `Plus` function that returns no result:"
   ]
  },
  {
   "cell_type": "code",
   "execution_count": 10,
   "id": "impossible-setup",
   "metadata": {},
   "outputs": [],
   "source": [
    "∇ x PlusNoRes y;r\n",
    "    r ← x+y\n",
    "∇"
   ]
  },
  {
   "cell_type": "markdown",
   "id": "spread-opportunity",
   "metadata": {},
   "source": [
    "These expressions all work:"
   ]
  },
  {
   "cell_type": "code",
   "execution_count": 11,
   "id": "transsexual-margin",
   "metadata": {},
   "outputs": [],
   "source": [
    "⍎''\n",
    "⍎'     '\n",
    "⍎'3 PlusNoRes 5'"
   ]
  },
  {
   "cell_type": "markdown",
   "id": "magnetic-wonder",
   "metadata": {},
   "source": [
    "But trying to assign results from all those expressions will fail,"
   ]
  },
  {
   "cell_type": "code",
   "execution_count": 12,
   "id": "tired-outdoors",
   "metadata": {},
   "outputs": [
    {
     "name": "stderr",
     "output_type": "stream",
     "text": [
      "VALUE ERROR: No result was provided when the context expected one\n",
      "      res←⍎''\n",
      "          ∧\n",
      "VALUE ERROR: No result was provided when the context expected one\n",
      "      res←⍎'     '\n",
      "          ∧\n",
      "⍎VALUE ERROR: No result was provided when the context expected one\n",
      "      3 PlusNoRes 5\n",
      "        ∧\n"
     ]
    }
   ],
   "source": [
    "res ← ⍎''\n",
    "res ← ⍎'     '\n",
    "res ← ⍎'3 PlusNoRes 5'"
   ]
  },
  {
   "cell_type": "markdown",
   "id": "equal-peninsula",
   "metadata": {},
   "source": [
    "because that is equivalent to writing the following:"
   ]
  },
  {
   "cell_type": "code",
   "execution_count": 13,
   "id": "interested-biotechnology",
   "metadata": {},
   "outputs": [
    {
     "name": "stderr",
     "output_type": "stream",
     "text": [
      "SYNTAX ERROR: Missing right argument\n",
      "      res←\n",
      "         ∧\n",
      "SYNTAX ERROR: Missing right argument\n",
      "      res←\n",
      "         ∧\n",
      "VALUE ERROR: No result was provided when the context expected one\n",
      "      res←3 PlusNoRes 5\n",
      "            ∧\n"
     ]
    }
   ],
   "source": [
    "res ← \n",
    "res ←       \n",
    "res ← 3 PlusNoRes 5"
   ]
  },
  {
   "cell_type": "markdown",
   "id": "neither-tunisia",
   "metadata": {},
   "source": [
    "### Some Typical Uses\n",
    "\n",
    "#### Convert Text into Numbers\n",
    "\n",
    "_Execute_ may be used to convert characters into numbers.\n",
    "One common application of execute is to convert numeric data, stored as character strings in a text file (for example, a `.csv` file), into binary numbers.\n",
    "You can just read in a string such as `'123, 456, 789'` and execute it to obtain the corresponding 3-item vector:"
   ]
  },
  {
   "cell_type": "code",
   "execution_count": 14,
   "id": "tracked-crack",
   "metadata": {},
   "outputs": [
    {
     "data": {
      "text/html": [
       "<span style=\"white-space:pre; font-family: monospace\">123 456 789\n",
       "\n",
       "</span>"
      ]
     },
     "execution_count": 14,
     "metadata": {},
     "output_type": "execute_result"
    }
   ],
   "source": [
    "⍎'123, 456, 789'"
   ]
  },
  {
   "cell_type": "markdown",
   "id": "crude-cruise",
   "metadata": {},
   "source": [
    "We saw in [the chapter about user-defined functions](./User-Defined-Functions.ipynb) that _format_ can be used to convert numbers to characters; the reverse can be done using _execute_.\n",
    "This explains why those two functions are represented by \"reversed\" symbols, as shown in <!--figure-->the figure below<!--Dual_Execute_Format-->:\n",
    "\n",
    "![Representation of the duality between the _execute_ and _format_ primitives.](res/Dual_Execute_Format.png)\n",
    "\n",
    "There is, however, a major difference: _format_ can be applied to matrices, whereas _execute_ can only be applied to vectors."
   ]
  },
  {
   "cell_type": "code",
   "execution_count": 15,
   "id": "experienced-separate",
   "metadata": {},
   "outputs": [
    {
     "data": {
      "text/html": [
       "<span style=\"white-space:pre; font-family: monospace\">14 1952\n",
       "\n",
       "1966\n",
       "\n",
       "</span>"
      ]
     },
     "execution_count": 15,
     "metadata": {},
     "output_type": "execute_result"
    }
   ],
   "source": [
    "birthdate ← 'October 14th, 1952'\n",
    "+/ ⍎ ⎕←birthdate[9 10,13+⍳5]"
   ]
  },
  {
   "cell_type": "markdown",
   "id": "premier-rubber",
   "metadata": {},
   "source": [
    "Notice that the `'14 1952'` above is a character _vector_ of length 7, and not a vector of 2 character vectors.\n",
    "In fact, compare"
   ]
  },
  {
   "cell_type": "code",
   "execution_count": 16,
   "id": "bearing-massachusetts",
   "metadata": {},
   "outputs": [
    {
     "data": {
      "text/html": [
       "<span style=\"white-space:pre; font-family: monospace\">14 1952\n",
       "\n",
       "</span>"
      ]
     },
     "execution_count": 16,
     "metadata": {},
     "output_type": "execute_result"
    }
   ],
   "source": [
    "birthdate[9 10,13+⍳5]"
   ]
  },
  {
   "cell_type": "code",
   "execution_count": 17,
   "id": "neural-accessory",
   "metadata": {},
   "outputs": [
    {
     "data": {
      "text/html": [
       "<span style=\"white-space:pre; font-family: monospace\">7\n",
       "\n",
       "</span>"
      ]
     },
     "execution_count": 17,
     "metadata": {},
     "output_type": "execute_result"
    }
   ],
   "source": [
    "≢birthdate[9 10,13+⍳5]"
   ]
  },
  {
   "cell_type": "markdown",
   "id": "superb-ecology",
   "metadata": {},
   "source": [
    "with"
   ]
  },
  {
   "cell_type": "code",
   "execution_count": 18,
   "id": "primary-yesterday",
   "metadata": {},
   "outputs": [
    {
     "data": {
      "text/html": [
       "<span style=\"white-space:pre; font-family: monospace\">┌──┬────┐\n",
       "│14│1952│\n",
       "└──┴────┘\n",
       "\n",
       "</span>"
      ]
     },
     "execution_count": 18,
     "metadata": {},
     "output_type": "execute_result"
    }
   ],
   "source": [
    "'14' '1952'"
   ]
  },
  {
   "cell_type": "markdown",
   "id": "brutal-associate",
   "metadata": {},
   "source": [
    "to which `⍎` _cannot_ be applied:"
   ]
  },
  {
   "cell_type": "code",
   "execution_count": 19,
   "id": "representative-blend",
   "metadata": {},
   "outputs": [
    {
     "name": "stderr",
     "output_type": "stream",
     "text": [
      "DOMAIN ERROR\n",
      "      ⍎'14' '1952'\n",
      "      ∧\n"
     ]
    }
   ],
   "source": [
    "⍎'14' '1952'"
   ]
  },
  {
   "cell_type": "markdown",
   "id": "collect-martial",
   "metadata": {},
   "source": [
    "Because _execute_ can only be applied to vectors, a matrix of numeric characters can only be converted after it has been ravelled.\n",
    "But to avoid characters of one row being attached to those of the previous row, it is necessary to catenate a blank character before ravelling.\n",
    "\n",
    "As an example, take the matrix `mat` below:"
   ]
  },
  {
   "cell_type": "code",
   "execution_count": 20,
   "id": "contemporary-heavy",
   "metadata": {},
   "outputs": [
    {
     "data": {
      "text/html": [
       "<span style=\"white-space:pre; font-family: monospace\"> 845\n",
       "1237\n",
       " 933\n",
       "2607\n",
       "\n",
       "</span>"
      ]
     },
     "execution_count": 20,
     "metadata": {},
     "output_type": "execute_result"
    }
   ],
   "source": [
    "⎕← mat ← 4 4⍴' 8451237 9332607'"
   ]
  },
  {
   "cell_type": "markdown",
   "id": "funky-quality",
   "metadata": {},
   "source": [
    "If we ravel it and execute it, we get"
   ]
  },
  {
   "cell_type": "code",
   "execution_count": 21,
   "id": "listed-landing",
   "metadata": {},
   "outputs": [
    {
     "data": {
      "text/html": [
       "<span style=\"white-space:pre; font-family: monospace\">8451237 9332607\n",
       "\n",
       "</span>"
      ]
     },
     "execution_count": 21,
     "metadata": {},
     "output_type": "execute_result"
    }
   ],
   "source": [
    "⍎,mat"
   ]
  },
  {
   "cell_type": "markdown",
   "id": "professional-eclipse",
   "metadata": {},
   "source": [
    "which is not what we want.\n",
    "The correction conversion will be obtained by first catenating a blank space:"
   ]
  },
  {
   "cell_type": "code",
   "execution_count": 22,
   "id": "sealed-rebound",
   "metadata": {},
   "outputs": [
    {
     "data": {
      "text/html": [
       "<span style=\"white-space:pre; font-family: monospace\">845 1237 933 2607\n",
       "\n",
       "</span>"
      ]
     },
     "execution_count": 22,
     "metadata": {},
     "output_type": "execute_result"
    }
   ],
   "source": [
    "⍎,mat,' '"
   ]
  },
  {
   "cell_type": "markdown",
   "id": "integral-serial",
   "metadata": {},
   "source": [
    "#### A Safer and Faster Solution\n",
    "\n",
    "Using _execute_ to convert characters into numbers may cause errors if the characters do not represent valid numbers.\n",
    "So, we strongly recommend that you instead use `⎕VFI` (for _Verify and Fix Input_).\n",
    "This is a specialised _system function_ that performs the same conversion, but securely, and is about twice as fast as _execute_.\n",
    "`⎕VFI` will be studied in [the chapter about system interfaces](./System-Interfaces.ipynb)."
   ]
  },
  {
   "cell_type": "markdown",
   "id": "indirect-toronto",
   "metadata": {},
   "source": [
    "#### Other Uses\n",
    "\n",
    "_Execute_ can be used for many other purposes, including some that may be considered to be rather advanced programming techniques.\n",
    "Some examples are provided in the Specialist's Section at the end of this chapter:\n",
    " - conditional execution (rather obsolete);\n",
    " - case selection (also obsolete);\n",
    " - dynamic variable creation.\n",
    "\n",
    "Please bear in mind that these _execute_ use-cases aren't necessarily _recommended_ programming practices."
   ]
  },
  {
   "cell_type": "markdown",
   "id": "complicated-walter",
   "metadata": {},
   "source": [
    "### Make Things Simple\n",
    "\n",
    "The vector passed in to _execute_ is often constructed by catenating pieces of text, or tokens.\n",
    "\n",
    "These tokens may contain quotes (which must then be doubled), commas, parentheses, etc.\n",
    "But to build the final expression, you will also need quotes (to delimit the tokens), commas (to concatenate them), parentheses, and so on.\n",
    "\n",
    "By now, the expression is becoming extremely complex.\n",
    "It may be difficult to see if a comma is part of a token or is being used to concatenate two successive tokens, and this is only partly alleviated by syntax colouring that modern IDEs provide.\n",
    "It may be hard to see whether or not the parentheses and quotes are properly balanced.\n",
    "If the final expression is wrong, fixing it might be difficult, and if it is correct, later modifying it or expanding it might be just as difficult.\n",
    "\n",
    "To simplify maintenance, it is good practice to assign the text to a variable before executing it.\n",
    "If the operation fails, for any reason, you can just display the variable to see if it looks correct.\n",
    "For example, here is a statement involving _execute_:"
   ]
  },
  {
   "cell_type": "code",
   "execution_count": 23,
   "id": "adjacent-chemical",
   "metadata": {},
   "outputs": [
    {
     "name": "stderr",
     "output_type": "stream",
     "text": [
      "⍎SYNTAX ERROR\n",
      "      tab43←(4 43⍴') '\n",
      "                 ∧\n"
     ]
    }
   ],
   "source": [
    "size ← 43\n",
    "⍎'tab',(⍕size),'←(4 ',(⍕size),'⍴'') '''"
   ]
  },
  {
   "cell_type": "markdown",
   "id": "governing-failing",
   "metadata": {},
   "source": [
    "That's rather obscure!\n",
    "If any problem occurs, it can be difficult to spot the cause.\n",
    "\n",
    "Let us insert a variable just before the _execute_ function:"
   ]
  },
  {
   "cell_type": "code",
   "execution_count": 24,
   "id": "overhead-making",
   "metadata": {},
   "outputs": [
    {
     "name": "stderr",
     "output_type": "stream",
     "text": [
      "⍎SYNTAX ERROR\n",
      "      tab43←(4 43⍴') '\n",
      "                 ∧\n"
     ]
    }
   ],
   "source": [
    "⍎debug←'tab',(⍕size),'←(4 ',(⍕size),'⍴'') '''"
   ]
  },
  {
   "cell_type": "markdown",
   "id": "convinced-small",
   "metadata": {},
   "source": [
    "Now, it easy to look at `debug` and see if its value is what we would expect:"
   ]
  },
  {
   "cell_type": "code",
   "execution_count": 25,
   "id": "eligible-dodge",
   "metadata": {},
   "outputs": [
    {
     "data": {
      "text/html": [
       "<span style=\"white-space:pre; font-family: monospace\">tab43←(4 43⍴') '\n",
       "\n",
       "</span>"
      ]
     },
     "execution_count": 25,
     "metadata": {},
     "output_type": "execute_result"
    }
   ],
   "source": [
    "debug"
   ]
  },
  {
   "cell_type": "markdown",
   "id": "narrative-variance",
   "metadata": {},
   "source": [
    "Obviously, this is not a correct statement, so it failed when we tried to execute it."
   ]
  },
  {
   "cell_type": "markdown",
   "id": "substantial-jesus",
   "metadata": {},
   "source": [
    "## The Format Primitive\n",
    "\n",
    "The _format_ primitive function `⍕`, typed with <kbd>APL</kbd>+<kbd>'</kbd>, has already been briefly described in [a previous section](./User-Defined-Functions.ipynb#Format).\n",
    "We shall cover it in more depth in this section."
   ]
  },
  {
   "cell_type": "markdown",
   "id": "renewable-expense",
   "metadata": {},
   "source": [
    "### Monadic Format\n",
    "\n",
    "Monadic _format_ converts any array, whatever its value, into its character representation.\n",
    "This applies to numbers, characters, and nested arrays.\n",
    "The result is exactly the same as you would see if you displayed the array on your screen, because APL internally uses monadic _format_ to display arrays.\n",
    "The previous statement assumes that you have no options modifying your output; for example, if you have `]box on` it is no longer true that _format_ produces exactly the same representation as if you just displayed the the array yourself:"
   ]
  },
  {
   "cell_type": "code",
   "execution_count": 26,
   "id": "approved-jason",
   "metadata": {},
   "outputs": [
    {
     "data": {
      "text/html": [
       "<span style=\"white-space:pre; font-family: monospace\">1  2 3 \n",
       "\n",
       "</span>"
      ]
     },
     "execution_count": 26,
     "metadata": {},
     "output_type": "execute_result"
    }
   ],
   "source": [
    "⍕1 (2 3)"
   ]
  },
  {
   "cell_type": "code",
   "execution_count": 27,
   "id": "minus-elite",
   "metadata": {},
   "outputs": [
    {
     "data": {
      "text/html": [
       "<span style=\"white-space:pre; font-family: monospace\">Is ON\n",
       "\n",
       "</span>"
      ]
     },
     "execution_count": 27,
     "metadata": {},
     "output_type": "execute_result"
    }
   ],
   "source": [
    "]box"
   ]
  },
  {
   "cell_type": "code",
   "execution_count": 28,
   "id": "sacred-queen",
   "metadata": {},
   "outputs": [
    {
     "data": {
      "text/html": [
       "<span style=\"white-space:pre; font-family: monospace\">┌─┬───┐\n",
       "│1│2 3│\n",
       "└─┴───┘\n",
       "\n",
       "</span>"
      ]
     },
     "execution_count": 28,
     "metadata": {},
     "output_type": "execute_result"
    }
   ],
   "source": [
    "1 (2 3)"
   ]
  },
  {
   "cell_type": "markdown",
   "id": "embedded-phoenix",
   "metadata": {},
   "source": [
    "Ignoring the effects of such session modifiers like `]box`, which will be covered with some more detail later in this chapter (see [this section](#Output-User-Commands)), monadic _format_ is such that:\n",
    " - character arrays are not converted, they remain unchanged; and\n",
    " - numeric and nested arrays are converted into vectors or matrices of characters."
   ]
  },
  {
   "cell_type": "code",
   "execution_count": 29,
   "id": "integrated-luxembourg",
   "metadata": {},
   "outputs": [
    {
     "data": {
      "text/html": [
       "<span style=\"white-space:pre; font-family: monospace\">H2SO4\n",
       "CaCO3\n",
       "Fe2O3\n",
       "\n",
       "</span>"
      ]
     },
     "execution_count": 29,
     "metadata": {},
     "output_type": "execute_result"
    }
   ],
   "source": [
    "⎕←chemistry ← 3 5⍴'H2SO4CaCO3Fe2O3'"
   ]
  },
  {
   "cell_type": "markdown",
   "id": "union-telescope",
   "metadata": {},
   "source": [
    "`chemistry` is a character matrix with shape `3 5`, and it is not modified by `⍕`:"
   ]
  },
  {
   "cell_type": "code",
   "execution_count": 30,
   "id": "aging-extension",
   "metadata": {},
   "outputs": [
    {
     "data": {
      "text/html": [
       "<span style=\"white-space:pre; font-family: monospace\">H2SO4\n",
       "CaCO3\n",
       "Fe2O3\n",
       "\n",
       "3 5\n",
       "\n",
       "</span>"
      ]
     },
     "execution_count": 30,
     "metadata": {},
     "output_type": "execute_result"
    }
   ],
   "source": [
    "⍴⎕←⍕chemistry"
   ]
  },
  {
   "cell_type": "code",
   "execution_count": 31,
   "id": "incoming-wildlife",
   "metadata": {},
   "outputs": [
    {
     "data": {
      "text/html": [
       "<span style=\"white-space:pre; font-family: monospace\">1\n",
       "\n",
       "</span>"
      ]
     },
     "execution_count": 31,
     "metadata": {},
     "output_type": "execute_result"
    }
   ],
   "source": [
    "chemistry≡⍕chemistry"
   ]
  },
  {
   "cell_type": "markdown",
   "id": "determined-lightweight",
   "metadata": {},
   "source": [
    "On the other hand, a numeric vector with, say, 3 items, becomes a (longer) character vector once converted:"
   ]
  },
  {
   "cell_type": "code",
   "execution_count": 32,
   "id": "editorial-wrong",
   "metadata": {},
   "outputs": [
    {
     "data": {
      "text/html": [
       "<span style=\"white-space:pre; font-family: monospace\">3\n",
       "\n",
       "</span>"
      ]
     },
     "execution_count": 32,
     "metadata": {},
     "output_type": "execute_result"
    }
   ],
   "source": [
    "≢52 69 76"
   ]
  },
  {
   "cell_type": "code",
   "execution_count": 33,
   "id": "noted-volunteer",
   "metadata": {},
   "outputs": [
    {
     "data": {
      "text/html": [
       "<span style=\"white-space:pre; font-family: monospace\">52 69 76\n",
       "\n",
       "8\n",
       "\n",
       "</span>"
      ]
     },
     "execution_count": 33,
     "metadata": {},
     "output_type": "execute_result"
    }
   ],
   "source": [
    "≢⎕←⍕52 69 76"
   ]
  },
  {
   "cell_type": "markdown",
   "id": "organized-architect",
   "metadata": {},
   "source": [
    "A nested matrix like `nesMat`,"
   ]
  },
  {
   "cell_type": "code",
   "execution_count": 34,
   "id": "sensitive-hygiene",
   "metadata": {},
   "outputs": [
    {
     "data": {
      "text/html": [
       "<span style=\"white-space:pre; font-family: monospace\">┌──────┬───┬─────┐\n",
       "│Dyalog│44 │Hello│\n",
       "├──────┼───┼─────┤\n",
       "│27    │8 6│1 2 0│\n",
       "│      │2 4│0 0 5│\n",
       "└──────┴───┴─────┘\n",
       "\n",
       "2 3\n",
       "\n",
       "</span>"
      ]
     },
     "execution_count": 34,
     "metadata": {},
     "output_type": "execute_result"
    }
   ],
   "source": [
    "⍴⎕←nesMat ← 2 3 ⍴ 'Dyalog' 44 'Hello' 27 (2 2 ⍴ 8 6 2 4) (2 3⍴1 2 0 0 0 5)"
   ]
  },
  {
   "cell_type": "markdown",
   "id": "extended-grant",
   "metadata": {},
   "source": [
    "which we have already used before, becomes a character matrix that is 20 characters wide and with 3 rows, because `nesMat` contained two small matrices:"
   ]
  },
  {
   "cell_type": "code",
   "execution_count": 35,
   "id": "reflected-american",
   "metadata": {},
   "outputs": [
    {
     "data": {
      "text/html": [
       "<span style=\"white-space:pre; font-family: monospace\"> Dyalog   44  Hello \n",
       "     27  8 6  1 2 0 \n",
       "         2 4  0 0 5 \n",
       "\n",
       "3 20\n",
       "\n",
       "</span>"
      ]
     },
     "execution_count": 35,
     "metadata": {},
     "output_type": "execute_result"
    }
   ],
   "source": [
    "⍴⎕←⍕nesMat"
   ]
  },
  {
   "cell_type": "markdown",
   "id": "medium-release",
   "metadata": {},
   "source": [
    "### Dyadic Format\n",
    "\n",
    "#### Definition\n",
    "\n",
    "Dyadic _format_ applies **only** to numeric values; any attempt to apply it to characters will cause a `DOMAIN ERROR`.\n",
    "\n",
    "The general syntax of _format_ is `descriptor⍕values`,\n",
    "where `values` can be an array of any _rank_.\n",
    "Dyadic _format_ converts numbers into text in a format that is described by the left argument, the format _descriptor_.\n",
    "`descriptor` is therefore made up of two numbers:\n",
    " - the first number indicates the number of characters to be assigned to each numeric value; or to put it another way, the width of the field in which each numeric value is to be represented; and\n",
    " - the second number indicates how many decimal digits will be displayed."
   ]
  },
  {
   "cell_type": "code",
   "execution_count": 36,
   "id": "celtic-revelation",
   "metadata": {},
   "outputs": [
    {
     "data": {
      "text/html": [
       "<span style=\"white-space:pre; font-family: monospace\">  21.21 1534.88 375.46  704.5 \n",
       "1125.14 1963.52 464.45 1438.25\n",
       " 796.53 1569    157.14  886.59\n",
       "\n",
       "</span>"
      ]
     },
     "execution_count": 36,
     "metadata": {},
     "output_type": "execute_result"
    }
   ],
   "source": [
    "⎕RL ← 73\n",
    "⎕←nm ← (?3 4⍴200000)÷100"
   ]
  },
  {
   "cell_type": "markdown",
   "id": "played-catholic",
   "metadata": {},
   "source": [
    "The representation above is the normal display of the `nm` matrix, and it is also how monadic _format_ would present the matrix.\n",
    "\n",
    "Compare that with the result below, where we represent each number right-aligned in a field that is 8 characters wide, with 2 decimal digits."
   ]
  },
  {
   "cell_type": "code",
   "execution_count": 46,
   "id": "appropriate-behalf",
   "metadata": {},
   "outputs": [
    {
     "data": {
      "text/html": [
       "<span style=\"white-space:pre; font-family: monospace\">   21.21 1534.88  375.46  704.50\n",
       " 1125.14 1963.52  464.45 1438.25\n",
       "  796.53 1569.00  157.14  886.59\n",
       "\n",
       "</span>"
      ]
     },
     "execution_count": 46,
     "metadata": {},
     "output_type": "execute_result"
    }
   ],
   "source": [
    "8 2⍕nm"
   ]
  },
  {
   "cell_type": "markdown",
   "id": "interior-planning",
   "metadata": {},
   "source": [
    "The result has, of course, 3 rows and 32 columns (8 characters for each of the 4 columns):"
   ]
  },
  {
   "cell_type": "code",
   "execution_count": 47,
   "id": "textile-namibia",
   "metadata": {},
   "outputs": [
    {
     "data": {
      "text/html": [
       "<span style=\"white-space:pre; font-family: monospace\">3 32\n",
       "\n",
       "</span>"
      ]
     },
     "execution_count": 47,
     "metadata": {},
     "output_type": "execute_result"
    }
   ],
   "source": [
    "⍴8 2⍕nm"
   ]
  },
  {
   "cell_type": "markdown",
   "id": "tested-destination",
   "metadata": {},
   "source": [
    "We can also draw a basic ruler (with the help of a short dfn) below the formatted matrix to help you count the width of each field:"
   ]
  },
  {
   "cell_type": "code",
   "execution_count": 69,
   "id": "automated-anaheim",
   "metadata": {},
   "outputs": [],
   "source": [
    "]dinput\n",
    "ruler ← {\n",
    "    c ← ¯1↑⍴⍵\n",
    "    ⍵⍪c⍴4 1 4 1/'¯''¯|'\n",
    "}"
   ]
  },
  {
   "cell_type": "code",
   "execution_count": 70,
   "id": "prime-medication",
   "metadata": {},
   "outputs": [
    {
     "data": {
      "text/html": [
       "<span style=\"white-space:pre; font-family: monospace\">   21.21 1534.88  375.46  704.50\n",
       " 1125.14 1963.52  464.45 1438.25\n",
       "  796.53 1569.00  157.14  886.59\n",
       "¯¯¯¯'¯¯¯¯|¯¯¯¯'¯¯¯¯|¯¯¯¯'¯¯¯¯|¯¯\n",
       "\n",
       "</span>"
      ]
     },
     "execution_count": 70,
     "metadata": {},
     "output_type": "execute_result"
    }
   ],
   "source": [
    "ruler 8 2⍕nm"
   ]
  },
  {
   "cell_type": "markdown",
   "id": "unexpected-complexity",
   "metadata": {},
   "source": [
    "In the next example we represent each number in a field that is 6 characters wide, right-aligned, and with no decimal digits."
   ]
  },
  {
   "cell_type": "code",
   "execution_count": 74,
   "id": "emerging-pottery",
   "metadata": {},
   "outputs": [
    {
     "data": {
      "text/html": [
       "<span style=\"white-space:pre; font-family: monospace\">    21  1535   375   705\n",
       "  1125  1964   464  1438\n",
       "   797  1569   157   887\n",
       "¯¯¯¯'¯¯¯¯|¯¯¯¯'¯¯¯¯|¯¯¯¯\n",
       "\n",
       "</span>"
      ]
     },
     "execution_count": 74,
     "metadata": {},
     "output_type": "execute_result"
    }
   ],
   "source": [
    "ruler 6 0⍕nm"
   ]
  },
  {
   "cell_type": "markdown",
   "id": "moderate-bulgarian",
   "metadata": {},
   "source": [
    "The result has now 3 rows and 24 columns:"
   ]
  },
  {
   "cell_type": "code",
   "execution_count": 72,
   "id": "mathematical-graham",
   "metadata": {},
   "outputs": [
    {
     "data": {
      "text/html": [
       "<span style=\"white-space:pre; font-family: monospace\">3 24\n",
       "\n",
       "</span>"
      ]
     },
     "execution_count": 72,
     "metadata": {},
     "output_type": "execute_result"
    }
   ],
   "source": [
    "⍴6 0⍕nm"
   ]
  },
  {
   "cell_type": "markdown",
   "id": "sound-newton",
   "metadata": {},
   "source": [
    "<!--begin remark-->\n",
    "***Remark***:\n",
    "\n",
    " > You can see that the numbers to be formatted are **rounded** rather than truncated when the specified format does not allow the full precision of the numbers to be shown.\n",
    "<!--end-->"
   ]
  },
  {
   "cell_type": "markdown",
   "id": "practical-westminster",
   "metadata": {},
   "source": [
    "#### Overflow\n",
    "\n",
    "If a column is not wide enough to represent some of the numbers, these numbers will be replaced by asterisks.\n",
    "\n",
    "Recall what `nm` looked like:"
   ]
  },
  {
   "cell_type": "code",
   "execution_count": 73,
   "id": "frozen-keeping",
   "metadata": {},
   "outputs": [
    {
     "data": {
      "text/html": [
       "<span style=\"white-space:pre; font-family: monospace\">  21.21 1534.88 375.46  704.5 \n",
       "1125.14 1963.52 464.45 1438.25\n",
       " 796.53 1569    157.14  886.59\n",
       "\n",
       "</span>"
      ]
     },
     "execution_count": 73,
     "metadata": {},
     "output_type": "execute_result"
    }
   ],
   "source": [
    "nm"
   ]
  },
  {
   "cell_type": "markdown",
   "id": "actual-relay",
   "metadata": {},
   "source": [
    "We have seen above that `8 2⍕nm` looked good:"
   ]
  },
  {
   "cell_type": "code",
   "execution_count": 54,
   "id": "wrapped-douglas",
   "metadata": {},
   "outputs": [
    {
     "data": {
      "text/html": [
       "<span style=\"white-space:pre; font-family: monospace\">   21.21 1534.88  375.46  704.50\n",
       " 1125.14 1963.52  464.45 1438.25\n",
       "  796.53 1569.00  157.14  886.59\n",
       "\n",
       "</span>"
      ]
     },
     "execution_count": 54,
     "metadata": {},
     "output_type": "execute_result"
    }
   ],
   "source": [
    "8 2⍕nm"
   ]
  },
  {
   "cell_type": "markdown",
   "id": "designing-legislation",
   "metadata": {},
   "source": [
    "If we reduce the width of the columns by 1, some values will now be adjacent to the values immediately to their left, making them difficult to read. For example, the second column will be adjacent to the left column:"
   ]
  },
  {
   "cell_type": "code",
   "execution_count": 57,
   "id": "spectacular-keeping",
   "metadata": {},
   "outputs": [
    {
     "data": {
      "text/html": [
       "<span style=\"white-space:pre; font-family: monospace\">  21.211534.88 375.46 704.50\n",
       "1125.141963.52 464.451438.25\n",
       " 796.531569.00 157.14 886.59\n",
       "\n",
       "</span>"
      ]
     },
     "execution_count": 57,
     "metadata": {},
     "output_type": "execute_result"
    }
   ],
   "source": [
    "7 2⍕nm"
   ]
  },
  {
   "cell_type": "markdown",
   "id": "accepted-cleaners",
   "metadata": {},
   "source": [
    "If we further reduce the width of the columns, the largest values will no longer fit in their allotted space and will be replaced by asterisks. Most of the other numbers are now adjacent to their neighbours."
   ]
  },
  {
   "cell_type": "code",
   "execution_count": 59,
   "id": "owned-channel",
   "metadata": {},
   "outputs": [
    {
     "data": {
      "text/html": [
       "<span style=\"white-space:pre; font-family: monospace\"> 21.21******375.46704.50\n",
       "************464.45******\n",
       "796.53******157.14886.59\n",
       "\n",
       "</span>"
      ]
     },
     "execution_count": 59,
     "metadata": {},
     "output_type": "execute_result"
    }
   ],
   "source": [
    "6 2⍕nm"
   ]
  },
  {
   "cell_type": "markdown",
   "id": "color-shannon",
   "metadata": {},
   "source": [
    "<!--begin remark-->\n",
    "***Remark***:\n",
    "\n",
    " > To calculate the width required to represent a number you must account for the minus sign, the integer digits, the decimal point, and as many decimal digits as specified in the _descriptor_."
   ]
  },
  {
   "cell_type": "markdown",
   "id": "agricultural-measure",
   "metadata": {},
   "source": [
    "#### Multiple Specifications\n",
    "\n",
    "One can define a different format for each column of numbers.\n",
    "Each format definition is made of 2 numbers, so if the matrix has `n` columns, the left argument must have `2×n` items:"
   ]
  },
  {
   "cell_type": "code",
   "execution_count": 75,
   "id": "exterior-hardware",
   "metadata": {},
   "outputs": [
    {
     "data": {
      "text/html": [
       "<span style=\"white-space:pre; font-family: monospace\">   21.21      1535 375.4600  704.50\n",
       " 1125.14      1964 464.4500 1438.25\n",
       "  796.53      1569 157.1400  886.59\n",
       "¯¯¯¯'¯¯¯¯|¯¯¯¯'¯¯¯¯|¯¯¯¯'¯¯¯¯|¯¯¯¯'\n",
       "\n",
       "</span>"
      ]
     },
     "execution_count": 75,
     "metadata": {},
     "output_type": "execute_result"
    }
   ],
   "source": [
    "ruler 8 2 10 0 9 4 8 2⍕nm"
   ]
  },
  {
   "cell_type": "markdown",
   "id": "descending-amsterdam",
   "metadata": {},
   "source": [
    "In this case, we formatted the first column with `8 2`, the second column with `10 0`, the third column with `9 4`, and the fourth column with `8 2` again.\n",
    "\n",
    "If the format descriptor (the left argument) does not contain enough pairs of values, it will be repeated as many times as needed, provided that the width of the matrix is a multiple of the number of pairs.\n",
    "\n",
    "In other words, in `desc⍕values`, the residue `(≢desc)|2×¯1↑⍴values` must be equal to 0, otherwise a `LENGTH ERROR` is reported.\n",
    "For example,"
   ]
  },
  {
   "cell_type": "code",
   "execution_count": 78,
   "id": "desperate-detail",
   "metadata": {},
   "outputs": [
    {
     "data": {
      "text/html": [
       "<span style=\"white-space:pre; font-family: monospace\">   21.21      1535  375.46       705\n",
       " 1125.14      1964  464.45      1438\n",
       "  796.53      1569  157.14       887\n",
       "\n",
       "</span>"
      ]
     },
     "execution_count": 78,
     "metadata": {},
     "output_type": "execute_result"
    }
   ],
   "source": [
    "8 2 10 0⍕nm"
   ]
  },
  {
   "cell_type": "markdown",
   "id": "familiar-probability",
   "metadata": {},
   "source": [
    "In the above, columns 3 and 4 reused the _descriptors_ of columns 1 and 2, respectively `8 2` and `10 0`.\n",
    "This is equivalent to writing the repeated pairs by hand:"
   ]
  },
  {
   "cell_type": "code",
   "execution_count": 80,
   "id": "rising-alabama",
   "metadata": {},
   "outputs": [
    {
     "data": {
      "text/html": [
       "<span style=\"white-space:pre; font-family: monospace\">   21.21      1535  375.46       705\n",
       " 1125.14      1964  464.45      1438\n",
       "  796.53      1569  157.14       887\n",
       "\n",
       "</span>"
      ]
     },
     "execution_count": 80,
     "metadata": {},
     "output_type": "execute_result"
    }
   ],
   "source": [
    "8 2 10 0 8 2 10 0⍕nm"
   ]
  },
  {
   "cell_type": "markdown",
   "id": "comic-speech",
   "metadata": {},
   "source": [
    "We can also compare `8 2 10 0⍕nm` with the statement above about the residue.\n",
    "We see that `≢desc` is `4` in this case, and we have"
   ]
  },
  {
   "cell_type": "code",
   "execution_count": 81,
   "id": "artistic-cream",
   "metadata": {},
   "outputs": [
    {
     "data": {
      "text/html": [
       "<span style=\"white-space:pre; font-family: monospace\">0\n",
       "\n",
       "</span>"
      ]
     },
     "execution_count": 81,
     "metadata": {},
     "output_type": "execute_result"
    }
   ],
   "source": [
    "4|2×¯1↑⍴nm"
   ]
  },
  {
   "cell_type": "markdown",
   "id": "aerial-cursor",
   "metadata": {},
   "source": [
    "#### Scalar Descriptor\n",
    "\n",
    "When the *descriptor* is reduced to a simple scalar, it specifies the number of decimal digits.\n",
    "The columns are formatted in the smallest width compatible with the values they contain, plus one separating space.\n",
    "For example:"
   ]
  },
  {
   "cell_type": "code",
   "execution_count": 82,
   "id": "virtual-comparison",
   "metadata": {},
   "outputs": [
    {
     "data": {
      "text/html": [
       "<span style=\"white-space:pre; font-family: monospace\">   21.21 1534.88 375.46  704.50\n",
       " 1125.14 1963.52 464.45 1438.25\n",
       "  796.53 1569.00 157.14  886.59\n",
       "\n",
       "</span>"
      ]
     },
     "execution_count": 82,
     "metadata": {},
     "output_type": "execute_result"
    }
   ],
   "source": [
    "2⍕nm"
   ]
  },
  {
   "cell_type": "markdown",
   "id": "dramatic-technology",
   "metadata": {},
   "source": [
    "In the example above we see that numbers are displayed with 2 decimal digits and each column is separated from the preceding one (and from the left margin too!) by a single space.\n",
    "\n",
    "This technique is convenient for experimental purposes, to have the most compact presentation possible, but you cannot control the total width of the final result with it."
   ]
  },
  {
   "cell_type": "markdown",
   "id": "fresh-amsterdam",
   "metadata": {},
   "source": [
    "## The `⎕FMT` System Function\n",
    "\n",
    "The _format_ primitive function is inadequate "
   ]
  }
 ],
 "metadata": {
  "kernelspec": {
   "display_name": "Dyalog APL",
   "language": "apl",
   "name": "dyalog-kernel"
  },
  "language_info": {
   "file_extension": ".apl",
   "mimetype": "text/apl",
   "name": "APL"
  },
  "toc": {
   "base_numbering": 1,
   "nav_menu": {},
   "number_sections": false,
   "sideBar": true,
   "skip_h1_title": true,
   "title_cell": "Table of Contents",
   "title_sidebar": "Contents",
   "toc_cell": false,
   "toc_position": {},
   "toc_section_display": true,
   "toc_window_display": false
  }
 },
 "nbformat": 4,
 "nbformat_minor": 5
}
