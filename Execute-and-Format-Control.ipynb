{
 "cells": [
  {
   "cell_type": "markdown",
   "id": "digital-kazakhstan",
   "metadata": {},
   "source": [
    "# Execute & Format Control\n",
    "\n",
    "## Execute\n",
    "\n",
    "### Definition\n",
    "\n",
    "_Execute_ is a monadic function represented by `⍎`, which you can type with <kbd>APL</kbd>+<kbd>;</kbd>; its dyadic use will be explained in the Specialist's Section at the end of this chapter.\n",
    "\n",
    "_Execute_ takes a character vector (or scalar) as its argument.\n",
    "\n",
    "If the character vector represents a valid APL expression, _Execute_ will just... execute it, as if it had been typed on the keyboard.\n",
    "Otherwise, an error will be reported.\n",
    "\n",
    "Take a look at the following example:"
   ]
  },
  {
   "cell_type": "code",
   "execution_count": 1,
   "id": "parallel-cathedral",
   "metadata": {},
   "outputs": [
    {
     "data": {
      "text/html": [
       "<span style=\"white-space:pre; font-family: monospace\">\n",
       "</span>"
      ]
     },
     "execution_count": 1,
     "metadata": {},
     "output_type": "execute_result"
    },
    {
     "data": {
      "text/html": [
       "<span style=\"white-space:pre; font-family: monospace\">5×6+2\n",
       "\n",
       "</span>"
      ]
     },
     "execution_count": 1,
     "metadata": {},
     "output_type": "execute_result"
    }
   ],
   "source": [
    "⎕← letters ← '5×6+2'"
   ]
  },
  {
   "cell_type": "code",
   "execution_count": 2,
   "id": "hidden-discipline",
   "metadata": {},
   "outputs": [
    {
     "data": {
      "text/html": [
       "<span style=\"white-space:pre; font-family: monospace\">40\n",
       "\n",
       "</span>"
      ]
     },
     "execution_count": 2,
     "metadata": {},
     "output_type": "execute_result"
    }
   ],
   "source": [
    "⍎letters"
   ]
  },
  {
   "cell_type": "markdown",
   "id": "indonesian-server",
   "metadata": {},
   "source": [
    "The argument can contain any valid expression:\n",
    " - numeric or character constants, or variables;\n",
    " - left arrows (assignment) or right arrows (branch);\n",
    " - primitive or defined functions and operators; and\n",
    " - calls to other _execute_ functions.\n",
    "\n",
    "Let us define a short function to call from within _execute_:"
   ]
  },
  {
   "cell_type": "code",
   "execution_count": 3,
   "id": "satisfactory-evaluation",
   "metadata": {},
   "outputs": [],
   "source": [
    "∇ r ← x Plus y\n",
    "    r ← x + y\n",
    "∇"
   ]
  },
  {
   "cell_type": "markdown",
   "id": "czech-entry",
   "metadata": {},
   "source": [
    "In the expression below, _execute_ calls our `Plus` function and creates a new variable:"
   ]
  },
  {
   "cell_type": "code",
   "execution_count": 4,
   "id": "transsexual-density",
   "metadata": {},
   "outputs": [],
   "source": [
    "⍎'new ← 3 + 4 Plus 5'"
   ]
  },
  {
   "cell_type": "code",
   "execution_count": 5,
   "id": "living-attachment",
   "metadata": {},
   "outputs": [
    {
     "data": {
      "text/html": [
       "<span style=\"white-space:pre; font-family: monospace\">12\n",
       "\n",
       "</span>"
      ]
     },
     "execution_count": 5,
     "metadata": {},
     "output_type": "execute_result"
    }
   ],
   "source": [
    "new"
   ]
  },
  {
   "cell_type": "markdown",
   "id": "sporting-daniel",
   "metadata": {},
   "source": [
    "If the expression returns a result, it will be used as the result of _execute_:"
   ]
  },
  {
   "cell_type": "code",
   "execution_count": 6,
   "id": "saving-testimony",
   "metadata": {},
   "outputs": [],
   "source": [
    "res ← ⍎'3 Plus 10'"
   ]
  },
  {
   "cell_type": "code",
   "execution_count": 7,
   "id": "understanding-theme",
   "metadata": {},
   "outputs": [
    {
     "data": {
      "text/html": [
       "<span style=\"white-space:pre; font-family: monospace\">13\n",
       "\n",
       "</span>"
      ]
     },
     "execution_count": 7,
     "metadata": {},
     "output_type": "execute_result"
    }
   ],
   "source": [
    "res"
   ]
  },
  {
   "cell_type": "markdown",
   "id": "mechanical-spoke",
   "metadata": {},
   "source": [
    "We could just as well have written"
   ]
  },
  {
   "cell_type": "code",
   "execution_count": 8,
   "id": "measured-concentration",
   "metadata": {},
   "outputs": [],
   "source": [
    "⍎'res ← 3 Plus 10'"
   ]
  },
  {
   "cell_type": "code",
   "execution_count": 9,
   "id": "legal-locking",
   "metadata": {},
   "outputs": [
    {
     "data": {
      "text/html": [
       "<span style=\"white-space:pre; font-family: monospace\">13\n",
       "\n",
       "</span>"
      ]
     },
     "execution_count": 9,
     "metadata": {},
     "output_type": "execute_result"
    }
   ],
   "source": [
    "res"
   ]
  },
  {
   "cell_type": "markdown",
   "id": "sacred-netscape",
   "metadata": {},
   "source": [
    "<!--begin beware style=warning-->\n",
    "***Beware***:\n",
    "\n",
    " > Note that if the argument does not return a result, it can still be executed, but _execute_ will not return a result, and any attempt to assign it to a variable or to use it in any other way will cause a `VALUE ERROR`.\n",
    "<!--end-->\n",
    "\n",
    "Take a modification of our `Plus` function that returns no result:"
   ]
  },
  {
   "cell_type": "code",
   "execution_count": 10,
   "id": "impossible-setup",
   "metadata": {},
   "outputs": [],
   "source": [
    "∇ x PlusNoRes y;r\n",
    "    r ← x+y\n",
    "∇"
   ]
  },
  {
   "cell_type": "markdown",
   "id": "spread-opportunity",
   "metadata": {},
   "source": [
    "These expressions all work:"
   ]
  },
  {
   "cell_type": "code",
   "execution_count": 11,
   "id": "transsexual-margin",
   "metadata": {},
   "outputs": [],
   "source": [
    "⍎''\n",
    "⍎'     '\n",
    "⍎'3 PlusNoRes 5'"
   ]
  },
  {
   "cell_type": "markdown",
   "id": "magnetic-wonder",
   "metadata": {},
   "source": [
    "But trying to assign results from all those expressions will fail,"
   ]
  },
  {
   "cell_type": "code",
   "execution_count": 12,
   "id": "tired-outdoors",
   "metadata": {},
   "outputs": [
    {
     "name": "stderr",
     "output_type": "stream",
     "text": [
      "VALUE ERROR: No result was provided when the context expected one\n",
      "      res←⍎''\n",
      "          ∧\n",
      "VALUE ERROR: No result was provided when the context expected one\n",
      "      res←⍎'     '\n",
      "          ∧\n",
      "⍎VALUE ERROR: No result was provided when the context expected one\n",
      "      3 PlusNoRes 5\n",
      "        ∧\n"
     ]
    }
   ],
   "source": [
    "res ← ⍎''\n",
    "res ← ⍎'     '\n",
    "res ← ⍎'3 PlusNoRes 5'"
   ]
  },
  {
   "cell_type": "markdown",
   "id": "equal-peninsula",
   "metadata": {},
   "source": [
    "because that is equivalent to writing the following:"
   ]
  },
  {
   "cell_type": "code",
   "execution_count": 13,
   "id": "interested-biotechnology",
   "metadata": {},
   "outputs": [
    {
     "name": "stderr",
     "output_type": "stream",
     "text": [
      "SYNTAX ERROR: Missing right argument\n",
      "      res←\n",
      "         ∧\n",
      "SYNTAX ERROR: Missing right argument\n",
      "      res←\n",
      "         ∧\n",
      "VALUE ERROR: No result was provided when the context expected one\n",
      "      res←3 PlusNoRes 5\n",
      "            ∧\n"
     ]
    }
   ],
   "source": [
    "res ← \n",
    "res ←       \n",
    "res ← 3 PlusNoRes 5"
   ]
  },
  {
   "cell_type": "markdown",
   "id": "neither-tunisia",
   "metadata": {},
   "source": [
    "### Some Typical Uses\n",
    "\n",
    "#### Convert Text into Numbers\n",
    "\n",
    "_Execute_ may be used to convert characters into numbers.\n",
    "One common application of execute is to convert numeric data, stored as character strings in a text file (for example, a `.csv` file), into binary numbers.\n",
    "You can just read in a string such as `'123, 456, 789'` and execute it to obtain the corresponding 3-item vector:"
   ]
  },
  {
   "cell_type": "code",
   "execution_count": 14,
   "id": "tracked-crack",
   "metadata": {},
   "outputs": [
    {
     "data": {
      "text/html": [
       "<span style=\"white-space:pre; font-family: monospace\">123 456 789\n",
       "\n",
       "</span>"
      ]
     },
     "execution_count": 14,
     "metadata": {},
     "output_type": "execute_result"
    }
   ],
   "source": [
    "⍎'123, 456, 789'"
   ]
  },
  {
   "cell_type": "markdown",
   "id": "crude-cruise",
   "metadata": {},
   "source": [
    "We saw in [the chapter about user-defined functions](./User-Defined-Functions.ipynb) that _format_ can be used to convert numbers to characters; the reverse can be done using _execute_.\n",
    "This explains why those two functions are represented by \"reversed\" symbols, as shown in <!--figure-->the figure below<!--Dual_Execute_Format-->:\n",
    "\n",
    "![Representation of the duality between the _execute_ and _format_ primitives.](res/Dual_Execute_Format.png)\n",
    "\n",
    "There is, however, a major difference: _format_ can be applied to matrices, whereas _execute_ can only be applied to vectors."
   ]
  },
  {
   "cell_type": "code",
   "execution_count": 15,
   "id": "experienced-separate",
   "metadata": {},
   "outputs": [
    {
     "data": {
      "text/html": [
       "<span style=\"white-space:pre; font-family: monospace\">14 1952\n",
       "\n",
       "1966\n",
       "\n",
       "</span>"
      ]
     },
     "execution_count": 15,
     "metadata": {},
     "output_type": "execute_result"
    }
   ],
   "source": [
    "birthdate ← 'October 14th, 1952'\n",
    "+/ ⍎ ⎕←birthdate[9 10,13+⍳5]"
   ]
  },
  {
   "cell_type": "markdown",
   "id": "premier-rubber",
   "metadata": {},
   "source": [
    "Notice that the `'14 1952'` above is a character _vector_ of length 7, and not a vector of 2 character vectors.\n",
    "In fact, compare"
   ]
  },
  {
   "cell_type": "code",
   "execution_count": 16,
   "id": "bearing-massachusetts",
   "metadata": {},
   "outputs": [
    {
     "data": {
      "text/html": [
       "<span style=\"white-space:pre; font-family: monospace\">14 1952\n",
       "\n",
       "</span>"
      ]
     },
     "execution_count": 16,
     "metadata": {},
     "output_type": "execute_result"
    }
   ],
   "source": [
    "birthdate[9 10,13+⍳5]"
   ]
  },
  {
   "cell_type": "code",
   "execution_count": 17,
   "id": "neural-accessory",
   "metadata": {},
   "outputs": [
    {
     "data": {
      "text/html": [
       "<span style=\"white-space:pre; font-family: monospace\">7\n",
       "\n",
       "</span>"
      ]
     },
     "execution_count": 17,
     "metadata": {},
     "output_type": "execute_result"
    }
   ],
   "source": [
    "≢birthdate[9 10,13+⍳5]"
   ]
  },
  {
   "cell_type": "markdown",
   "id": "superb-ecology",
   "metadata": {},
   "source": [
    "with"
   ]
  },
  {
   "cell_type": "code",
   "execution_count": 18,
   "id": "primary-yesterday",
   "metadata": {},
   "outputs": [
    {
     "data": {
      "text/html": [
       "<span style=\"white-space:pre; font-family: monospace\">┌──┬────┐\n",
       "│14│1952│\n",
       "└──┴────┘\n",
       "\n",
       "</span>"
      ]
     },
     "execution_count": 18,
     "metadata": {},
     "output_type": "execute_result"
    }
   ],
   "source": [
    "'14' '1952'"
   ]
  },
  {
   "cell_type": "markdown",
   "id": "brutal-associate",
   "metadata": {},
   "source": [
    "to which `⍎` _cannot_ be applied:"
   ]
  },
  {
   "cell_type": "code",
   "execution_count": 19,
   "id": "representative-blend",
   "metadata": {},
   "outputs": [
    {
     "name": "stderr",
     "output_type": "stream",
     "text": [
      "DOMAIN ERROR\n",
      "      ⍎'14' '1952'\n",
      "      ∧\n"
     ]
    }
   ],
   "source": [
    "⍎'14' '1952'"
   ]
  },
  {
   "cell_type": "markdown",
   "id": "collect-martial",
   "metadata": {},
   "source": [
    "Because _execute_ can only be applied to vectors, a matrix of numeric characters can only be converted after it has been ravelled.\n",
    "But to avoid characters of one row being attached to those of the previous row, it is necessary to catenate a blank character before ravelling.\n",
    "\n",
    "As an example, take the matrix `mat` below:"
   ]
  },
  {
   "cell_type": "code",
   "execution_count": 20,
   "id": "contemporary-heavy",
   "metadata": {},
   "outputs": [
    {
     "data": {
      "text/html": [
       "<span style=\"white-space:pre; font-family: monospace\"> 845\n",
       "1237\n",
       " 933\n",
       "2607\n",
       "\n",
       "</span>"
      ]
     },
     "execution_count": 20,
     "metadata": {},
     "output_type": "execute_result"
    }
   ],
   "source": [
    "⎕← mat ← 4 4⍴' 8451237 9332607'"
   ]
  },
  {
   "cell_type": "markdown",
   "id": "funky-quality",
   "metadata": {},
   "source": [
    "If we ravel it and execute it, we get"
   ]
  },
  {
   "cell_type": "code",
   "execution_count": 21,
   "id": "listed-landing",
   "metadata": {},
   "outputs": [
    {
     "data": {
      "text/html": [
       "<span style=\"white-space:pre; font-family: monospace\">8451237 9332607\n",
       "\n",
       "</span>"
      ]
     },
     "execution_count": 21,
     "metadata": {},
     "output_type": "execute_result"
    }
   ],
   "source": [
    "⍎,mat"
   ]
  },
  {
   "cell_type": "markdown",
   "id": "professional-eclipse",
   "metadata": {},
   "source": [
    "which is not what we want.\n",
    "The correction conversion will be obtained by first catenating a blank space:"
   ]
  },
  {
   "cell_type": "code",
   "execution_count": 22,
   "id": "sealed-rebound",
   "metadata": {},
   "outputs": [
    {
     "data": {
      "text/html": [
       "<span style=\"white-space:pre; font-family: monospace\">845 1237 933 2607\n",
       "\n",
       "</span>"
      ]
     },
     "execution_count": 22,
     "metadata": {},
     "output_type": "execute_result"
    }
   ],
   "source": [
    "⍎,mat,' '"
   ]
  },
  {
   "cell_type": "markdown",
   "id": "integral-serial",
   "metadata": {},
   "source": [
    "#### A Safer and Faster Solution\n",
    "\n",
    "Using _execute_ to convert characters into numbers may cause errors if the characters do not represent valid numbers.\n",
    "So, we strongly recommend that you instead use `⎕VFI` (for _Verify and Fix Input_).\n",
    "This is a specialised _system function_ that performs the same conversion, but securely, and is about twice as fast as _execute_.\n",
    "`⎕VFI` will be studied in [the chapter about system interfaces](./System-Interfaces.ipynb)."
   ]
  },
  {
   "cell_type": "markdown",
   "id": "indirect-toronto",
   "metadata": {},
   "source": [
    "#### Other Uses\n",
    "\n",
    "_Execute_ can be used for many other purposes, including some that may be considered to be rather advanced programming techniques.\n",
    "Some examples are provided in the Specialist's Section at the end of this chapter:\n",
    " - conditional execution (rather obsolete);\n",
    " - case selection (also obsolete);\n",
    " - dynamic variable creation.\n",
    "\n",
    "Please bear in mind that these _execute_ use-cases aren't necessarily _recommended_ programming practices."
   ]
  },
  {
   "cell_type": "markdown",
   "id": "complicated-walter",
   "metadata": {},
   "source": [
    "### Make Things Simple\n",
    "\n",
    "The vector passed in to _execute_ is often constructed by catenating pieces of text, or tokens.\n",
    "\n",
    "These tokens may contain quotes (which must then be doubled), commas, parentheses, etc.\n",
    "But to build the final expression, you will also need quotes (to delimit the tokens), commas (to concatenate them), parentheses, and so on.\n",
    "\n",
    "By now, the expression is becoming extremely complex.\n",
    "It may be difficult to see if a comma is part of a token or is being used to concatenate two successive tokens, and this is only partly alleviated by syntax colouring that modern IDEs provide.\n",
    "It may be hard to see whether or not the parentheses and quotes are properly balanced.\n",
    "If the final expression is wrong, fixing it might be difficult, and if it is correct, later modifying it or expanding it might be just as difficult.\n",
    "\n",
    "To simplify maintenance, it is good practice to assign the text to a variable before executing it.\n",
    "If the operation fails, for any reason, you can just display the variable to see if it looks correct.\n",
    "For example, here is a statement involving _execute_:"
   ]
  },
  {
   "cell_type": "code",
   "execution_count": 23,
   "id": "adjacent-chemical",
   "metadata": {},
   "outputs": [
    {
     "name": "stderr",
     "output_type": "stream",
     "text": [
      "⍎SYNTAX ERROR\n",
      "      tab43←(4 43⍴') '\n",
      "                 ∧\n"
     ]
    }
   ],
   "source": [
    "size ← 43\n",
    "⍎'tab',(⍕size),'←(4 ',(⍕size),'⍴'') '''"
   ]
  },
  {
   "cell_type": "markdown",
   "id": "governing-failing",
   "metadata": {},
   "source": [
    "That's rather obscure!\n",
    "If any problem occurs, it can be difficult to spot the cause.\n",
    "\n",
    "Let us insert a variable just before the _execute_ function:"
   ]
  },
  {
   "cell_type": "code",
   "execution_count": 24,
   "id": "overhead-making",
   "metadata": {},
   "outputs": [
    {
     "name": "stderr",
     "output_type": "stream",
     "text": [
      "⍎SYNTAX ERROR\n",
      "      tab43←(4 43⍴') '\n",
      "                 ∧\n"
     ]
    }
   ],
   "source": [
    "⍎debug←'tab',(⍕size),'←(4 ',(⍕size),'⍴'') '''"
   ]
  },
  {
   "cell_type": "markdown",
   "id": "convinced-small",
   "metadata": {},
   "source": [
    "Now, it easy to look at `debug` and see if its value is what we would expect:"
   ]
  },
  {
   "cell_type": "code",
   "execution_count": 25,
   "id": "eligible-dodge",
   "metadata": {},
   "outputs": [
    {
     "data": {
      "text/html": [
       "<span style=\"white-space:pre; font-family: monospace\">tab43←(4 43⍴') '\n",
       "\n",
       "</span>"
      ]
     },
     "execution_count": 25,
     "metadata": {},
     "output_type": "execute_result"
    }
   ],
   "source": [
    "debug"
   ]
  },
  {
   "cell_type": "markdown",
   "id": "narrative-variance",
   "metadata": {},
   "source": [
    "Obviously, this is not a correct statement, so it failed when we tried to execute it."
   ]
  },
  {
   "cell_type": "markdown",
   "id": "substantial-jesus",
   "metadata": {},
   "source": [
    "## The Format Primitive\n",
    "\n",
    "The _format_ primitive function `⍕`, typed with <kbd>APL</kbd>+<kbd>'</kbd>, has already been briefly described in [a previous section](./User-Defined-Functions.ipynb#Format).\n",
    "We shall cover it in more depth in this section."
   ]
  },
  {
   "cell_type": "markdown",
   "id": "renewable-expense",
   "metadata": {},
   "source": [
    "### Monadic Format\n",
    "\n",
    "Monadic _format_ converts any array, whatever its value, into its character representation.\n",
    "This applies to numbers, characters, and nested arrays.\n",
    "The result is exactly the same as you would see if you displayed the array on your screen, because APL internally uses monadic _format_ to display arrays.\n",
    "The previous statement assumes that you have no options modifying your output; for example, if you have `]box on` it is no longer true that _format_ produces exactly the same representation as if you just displayed the the array yourself:"
   ]
  },
  {
   "cell_type": "code",
   "execution_count": 26,
   "id": "approved-jason",
   "metadata": {},
   "outputs": [
    {
     "data": {
      "text/html": [
       "<span style=\"white-space:pre; font-family: monospace\">1  2 3 \n",
       "\n",
       "</span>"
      ]
     },
     "execution_count": 26,
     "metadata": {},
     "output_type": "execute_result"
    }
   ],
   "source": [
    "⍕1 (2 3)"
   ]
  },
  {
   "cell_type": "code",
   "execution_count": 27,
   "id": "minus-elite",
   "metadata": {},
   "outputs": [
    {
     "data": {
      "text/html": [
       "<span style=\"white-space:pre; font-family: monospace\">Is ON\n",
       "\n",
       "</span>"
      ]
     },
     "execution_count": 27,
     "metadata": {},
     "output_type": "execute_result"
    }
   ],
   "source": [
    "]box"
   ]
  },
  {
   "cell_type": "code",
   "execution_count": 28,
   "id": "sacred-queen",
   "metadata": {},
   "outputs": [
    {
     "data": {
      "text/html": [
       "<span style=\"white-space:pre; font-family: monospace\">┌─┬───┐\n",
       "│1│2 3│\n",
       "└─┴───┘\n",
       "\n",
       "</span>"
      ]
     },
     "execution_count": 28,
     "metadata": {},
     "output_type": "execute_result"
    }
   ],
   "source": [
    "1 (2 3)"
   ]
  },
  {
   "cell_type": "markdown",
   "id": "embedded-phoenix",
   "metadata": {},
   "source": [
    "Ignoring the effects of such session modifiers like `]box`, which will be covered with some more detail later in this chapter (see [this section](#Output-User-Commands)), monadic _format_ is such that:\n",
    " - character arrays are not converted, they remain unchanged; and\n",
    " - numeric and nested arrays are converted into vectors or matrices of characters."
   ]
  },
  {
   "cell_type": "code",
   "execution_count": 29,
   "id": "integrated-luxembourg",
   "metadata": {},
   "outputs": [
    {
     "data": {
      "text/html": [
       "<span style=\"white-space:pre; font-family: monospace\">H2SO4\n",
       "CaCO3\n",
       "Fe2O3\n",
       "\n",
       "</span>"
      ]
     },
     "execution_count": 29,
     "metadata": {},
     "output_type": "execute_result"
    }
   ],
   "source": [
    "⎕←chemistry ← 3 5⍴'H2SO4CaCO3Fe2O3'"
   ]
  },
  {
   "cell_type": "markdown",
   "id": "union-telescope",
   "metadata": {},
   "source": [
    "`chemistry` is a character matrix with shape `3 5`, and it is not modified by `⍕`:"
   ]
  },
  {
   "cell_type": "code",
   "execution_count": 30,
   "id": "aging-extension",
   "metadata": {},
   "outputs": [
    {
     "data": {
      "text/html": [
       "<span style=\"white-space:pre; font-family: monospace\">H2SO4\n",
       "CaCO3\n",
       "Fe2O3\n",
       "\n",
       "3 5\n",
       "\n",
       "</span>"
      ]
     },
     "execution_count": 30,
     "metadata": {},
     "output_type": "execute_result"
    }
   ],
   "source": [
    "⍴⎕←⍕chemistry"
   ]
  },
  {
   "cell_type": "code",
   "execution_count": 31,
   "id": "incoming-wildlife",
   "metadata": {},
   "outputs": [
    {
     "data": {
      "text/html": [
       "<span style=\"white-space:pre; font-family: monospace\">1\n",
       "\n",
       "</span>"
      ]
     },
     "execution_count": 31,
     "metadata": {},
     "output_type": "execute_result"
    }
   ],
   "source": [
    "chemistry≡⍕chemistry"
   ]
  },
  {
   "cell_type": "markdown",
   "id": "determined-lightweight",
   "metadata": {},
   "source": [
    "On the other hand, a numeric vector with, say, 3 items, becomes a (longer) character vector once converted:"
   ]
  },
  {
   "cell_type": "code",
   "execution_count": 32,
   "id": "editorial-wrong",
   "metadata": {},
   "outputs": [
    {
     "data": {
      "text/html": [
       "<span style=\"white-space:pre; font-family: monospace\">3\n",
       "\n",
       "</span>"
      ]
     },
     "execution_count": 32,
     "metadata": {},
     "output_type": "execute_result"
    }
   ],
   "source": [
    "≢52 69 76"
   ]
  },
  {
   "cell_type": "code",
   "execution_count": 33,
   "id": "noted-volunteer",
   "metadata": {},
   "outputs": [
    {
     "data": {
      "text/html": [
       "<span style=\"white-space:pre; font-family: monospace\">52 69 76\n",
       "\n",
       "8\n",
       "\n",
       "</span>"
      ]
     },
     "execution_count": 33,
     "metadata": {},
     "output_type": "execute_result"
    }
   ],
   "source": [
    "≢⎕←⍕52 69 76"
   ]
  },
  {
   "cell_type": "markdown",
   "id": "organized-architect",
   "metadata": {},
   "source": [
    "A nested matrix like `nesMat`,"
   ]
  },
  {
   "cell_type": "code",
   "execution_count": 34,
   "id": "sensitive-hygiene",
   "metadata": {},
   "outputs": [
    {
     "data": {
      "text/html": [
       "<span style=\"white-space:pre; font-family: monospace\">┌──────┬───┬─────┐\n",
       "│Dyalog│44 │Hello│\n",
       "├──────┼───┼─────┤\n",
       "│27    │8 6│1 2 0│\n",
       "│      │2 4│0 0 5│\n",
       "└──────┴───┴─────┘\n",
       "\n",
       "2 3\n",
       "\n",
       "</span>"
      ]
     },
     "execution_count": 34,
     "metadata": {},
     "output_type": "execute_result"
    }
   ],
   "source": [
    "⍴⎕←nesMat ← 2 3 ⍴ 'Dyalog' 44 'Hello' 27 (2 2 ⍴ 8 6 2 4) (2 3⍴1 2 0 0 0 5)"
   ]
  },
  {
   "cell_type": "markdown",
   "id": "extended-grant",
   "metadata": {},
   "source": [
    "which we have already used before, becomes a character matrix that is 20 characters wide and with 3 rows, because `nesMat` contained two small matrices:"
   ]
  },
  {
   "cell_type": "code",
   "execution_count": 35,
   "id": "reflected-american",
   "metadata": {},
   "outputs": [
    {
     "data": {
      "text/html": [
       "<span style=\"white-space:pre; font-family: monospace\"> Dyalog   44  Hello \n",
       "     27  8 6  1 2 0 \n",
       "         2 4  0 0 5 \n",
       "\n",
       "3 20\n",
       "\n",
       "</span>"
      ]
     },
     "execution_count": 35,
     "metadata": {},
     "output_type": "execute_result"
    }
   ],
   "source": [
    "⍴⎕←⍕nesMat"
   ]
  },
  {
   "cell_type": "markdown",
   "id": "medium-release",
   "metadata": {},
   "source": [
    "### Dyadic Format\n",
    "\n",
    "#### Definition\n",
    "\n",
    "Dyadic _format_ applies **only** to numeric values; any attempt to apply it to characters will cause a `DOMAIN ERROR`.\n",
    "\n",
    "The general syntax of _format_ is `descriptor⍕values`,\n",
    "where `values` can be an array of any _rank_.\n",
    "Dyadic _format_ converts numbers into text in a format that is described by the left argument, the format _descriptor_.\n",
    "`descriptor` is therefore made up of two numbers:\n",
    " - the first number indicates the number of characters to be assigned to each numeric value; or to put it another way, the width of the field in which each numeric value is to be represented; and\n",
    " - the second number indicates how many decimal digits will be displayed."
   ]
  },
  {
   "cell_type": "code",
   "execution_count": 36,
   "id": "celtic-revelation",
   "metadata": {},
   "outputs": [
    {
     "data": {
      "text/html": [
       "<span style=\"white-space:pre; font-family: monospace\">  21.21 1534.88 375.46  704.5 \n",
       "1125.14 1963.52 464.45 1438.25\n",
       " 796.53 1569    157.14  886.59\n",
       "\n",
       "</span>"
      ]
     },
     "execution_count": 36,
     "metadata": {},
     "output_type": "execute_result"
    }
   ],
   "source": [
    "⎕RL ← 73\n",
    "⎕←nm ← (?3 4⍴200000)÷100"
   ]
  },
  {
   "cell_type": "markdown",
   "id": "played-catholic",
   "metadata": {},
   "source": [
    "The representation above is the normal display of the `nm` matrix, and it is also how monadic _format_ would present the matrix.\n",
    "\n",
    "Compare that with the result below, where we represent each number right-aligned in a field that is 8 characters wide, with 2 decimal digits."
   ]
  },
  {
   "cell_type": "code",
   "execution_count": 37,
   "id": "appropriate-behalf",
   "metadata": {},
   "outputs": [
    {
     "data": {
      "text/html": [
       "<span style=\"white-space:pre; font-family: monospace\">   21.21 1534.88  375.46  704.50\n",
       " 1125.14 1963.52  464.45 1438.25\n",
       "  796.53 1569.00  157.14  886.59\n",
       "\n",
       "</span>"
      ]
     },
     "execution_count": 37,
     "metadata": {},
     "output_type": "execute_result"
    }
   ],
   "source": [
    "8 2⍕nm"
   ]
  },
  {
   "cell_type": "markdown",
   "id": "interior-planning",
   "metadata": {},
   "source": [
    "The result has, of course, 3 rows and 32 columns (8 characters for each of the 4 columns):"
   ]
  },
  {
   "cell_type": "code",
   "execution_count": 38,
   "id": "textile-namibia",
   "metadata": {},
   "outputs": [
    {
     "data": {
      "text/html": [
       "<span style=\"white-space:pre; font-family: monospace\">3 32\n",
       "\n",
       "</span>"
      ]
     },
     "execution_count": 38,
     "metadata": {},
     "output_type": "execute_result"
    }
   ],
   "source": [
    "⍴8 2⍕nm"
   ]
  },
  {
   "cell_type": "markdown",
   "id": "tested-destination",
   "metadata": {},
   "source": [
    "We can also draw a basic ruler (with the help of a short dfn) below the formatted matrix to help you count the width of each field:"
   ]
  },
  {
   "cell_type": "code",
   "execution_count": 39,
   "id": "automated-anaheim",
   "metadata": {},
   "outputs": [],
   "source": [
    "]dinput\n",
    "ruler ← {\n",
    "    c ← ¯1↑⍴⍵\n",
    "    ⍵⍪c⍴4 1 4 1/'¯''¯|'\n",
    "}"
   ]
  },
  {
   "cell_type": "code",
   "execution_count": 40,
   "id": "prime-medication",
   "metadata": {},
   "outputs": [
    {
     "data": {
      "text/html": [
       "<span style=\"white-space:pre; font-family: monospace\">   21.21 1534.88  375.46  704.50\n",
       " 1125.14 1963.52  464.45 1438.25\n",
       "  796.53 1569.00  157.14  886.59\n",
       "¯¯¯¯'¯¯¯¯|¯¯¯¯'¯¯¯¯|¯¯¯¯'¯¯¯¯|¯¯\n",
       "\n",
       "</span>"
      ]
     },
     "execution_count": 40,
     "metadata": {},
     "output_type": "execute_result"
    }
   ],
   "source": [
    "ruler 8 2⍕nm"
   ]
  },
  {
   "cell_type": "markdown",
   "id": "unexpected-complexity",
   "metadata": {},
   "source": [
    "In the next example we represent each number in a field that is 6 characters wide, right-aligned, and with no decimal digits."
   ]
  },
  {
   "cell_type": "code",
   "execution_count": 41,
   "id": "emerging-pottery",
   "metadata": {},
   "outputs": [
    {
     "data": {
      "text/html": [
       "<span style=\"white-space:pre; font-family: monospace\">    21  1535   375   705\n",
       "  1125  1964   464  1438\n",
       "   797  1569   157   887\n",
       "¯¯¯¯'¯¯¯¯|¯¯¯¯'¯¯¯¯|¯¯¯¯\n",
       "\n",
       "</span>"
      ]
     },
     "execution_count": 41,
     "metadata": {},
     "output_type": "execute_result"
    }
   ],
   "source": [
    "ruler 6 0⍕nm"
   ]
  },
  {
   "cell_type": "markdown",
   "id": "moderate-bulgarian",
   "metadata": {},
   "source": [
    "The result has now 3 rows and 24 columns:"
   ]
  },
  {
   "cell_type": "code",
   "execution_count": 42,
   "id": "mathematical-graham",
   "metadata": {},
   "outputs": [
    {
     "data": {
      "text/html": [
       "<span style=\"white-space:pre; font-family: monospace\">3 24\n",
       "\n",
       "</span>"
      ]
     },
     "execution_count": 42,
     "metadata": {},
     "output_type": "execute_result"
    }
   ],
   "source": [
    "⍴6 0⍕nm"
   ]
  },
  {
   "cell_type": "markdown",
   "id": "sound-newton",
   "metadata": {},
   "source": [
    "<!--begin remark-->\n",
    "***Remark***:\n",
    "\n",
    " > You can see that the numbers to be formatted are **rounded** rather than truncated when the specified format does not allow the full precision of the numbers to be shown.\n",
    "<!--end-->"
   ]
  },
  {
   "cell_type": "markdown",
   "id": "practical-westminster",
   "metadata": {},
   "source": [
    "#### Overflow\n",
    "\n",
    "If a column is not wide enough to represent some of the numbers, these numbers will be replaced by asterisks.\n",
    "\n",
    "Recall what `nm` looked like:"
   ]
  },
  {
   "cell_type": "code",
   "execution_count": 43,
   "id": "frozen-keeping",
   "metadata": {},
   "outputs": [
    {
     "data": {
      "text/html": [
       "<span style=\"white-space:pre; font-family: monospace\">  21.21 1534.88 375.46  704.5 \n",
       "1125.14 1963.52 464.45 1438.25\n",
       " 796.53 1569    157.14  886.59\n",
       "\n",
       "</span>"
      ]
     },
     "execution_count": 43,
     "metadata": {},
     "output_type": "execute_result"
    }
   ],
   "source": [
    "nm"
   ]
  },
  {
   "cell_type": "markdown",
   "id": "actual-relay",
   "metadata": {},
   "source": [
    "We have seen above that `8 2⍕nm` looked good:"
   ]
  },
  {
   "cell_type": "code",
   "execution_count": 44,
   "id": "wrapped-douglas",
   "metadata": {},
   "outputs": [
    {
     "data": {
      "text/html": [
       "<span style=\"white-space:pre; font-family: monospace\">   21.21 1534.88  375.46  704.50\n",
       " 1125.14 1963.52  464.45 1438.25\n",
       "  796.53 1569.00  157.14  886.59\n",
       "\n",
       "</span>"
      ]
     },
     "execution_count": 44,
     "metadata": {},
     "output_type": "execute_result"
    }
   ],
   "source": [
    "8 2⍕nm"
   ]
  },
  {
   "cell_type": "markdown",
   "id": "designing-legislation",
   "metadata": {},
   "source": [
    "If we reduce the width of the columns by 1, some values will now be adjacent to the values immediately to their left, making them difficult to read. For example, the second column will be adjacent to the left column:"
   ]
  },
  {
   "cell_type": "code",
   "execution_count": 45,
   "id": "spectacular-keeping",
   "metadata": {},
   "outputs": [
    {
     "data": {
      "text/html": [
       "<span style=\"white-space:pre; font-family: monospace\">  21.211534.88 375.46 704.50\n",
       "1125.141963.52 464.451438.25\n",
       " 796.531569.00 157.14 886.59\n",
       "\n",
       "</span>"
      ]
     },
     "execution_count": 45,
     "metadata": {},
     "output_type": "execute_result"
    }
   ],
   "source": [
    "7 2⍕nm"
   ]
  },
  {
   "cell_type": "markdown",
   "id": "accepted-cleaners",
   "metadata": {},
   "source": [
    "If we further reduce the width of the columns, the largest values will no longer fit in their allotted space and will be replaced by asterisks. Most of the other numbers are now adjacent to their neighbours."
   ]
  },
  {
   "cell_type": "code",
   "execution_count": 46,
   "id": "owned-channel",
   "metadata": {},
   "outputs": [
    {
     "data": {
      "text/html": [
       "<span style=\"white-space:pre; font-family: monospace\"> 21.21******375.46704.50\n",
       "************464.45******\n",
       "796.53******157.14886.59\n",
       "\n",
       "</span>"
      ]
     },
     "execution_count": 46,
     "metadata": {},
     "output_type": "execute_result"
    }
   ],
   "source": [
    "6 2⍕nm"
   ]
  },
  {
   "cell_type": "markdown",
   "id": "color-shannon",
   "metadata": {},
   "source": [
    "<!--begin remark-->\n",
    "***Remark***:\n",
    "\n",
    " > To calculate the width required to represent a number you must account for the minus sign, the integer digits, the decimal point, and as many decimal digits as specified in the _descriptor_."
   ]
  },
  {
   "cell_type": "markdown",
   "id": "agricultural-measure",
   "metadata": {},
   "source": [
    "#### Multiple Specifications\n",
    "\n",
    "One can define a different format for each column of numbers.\n",
    "Each format definition is made of 2 numbers, so if the matrix has `n` columns, the left argument must have `2×n` items:"
   ]
  },
  {
   "cell_type": "code",
   "execution_count": 47,
   "id": "exterior-hardware",
   "metadata": {},
   "outputs": [
    {
     "data": {
      "text/html": [
       "<span style=\"white-space:pre; font-family: monospace\">   21.21      1535 375.4600  704.50\n",
       " 1125.14      1964 464.4500 1438.25\n",
       "  796.53      1569 157.1400  886.59\n",
       "¯¯¯¯'¯¯¯¯|¯¯¯¯'¯¯¯¯|¯¯¯¯'¯¯¯¯|¯¯¯¯'\n",
       "\n",
       "</span>"
      ]
     },
     "execution_count": 47,
     "metadata": {},
     "output_type": "execute_result"
    }
   ],
   "source": [
    "ruler 8 2 10 0 9 4 8 2⍕nm"
   ]
  },
  {
   "cell_type": "markdown",
   "id": "descending-amsterdam",
   "metadata": {},
   "source": [
    "In this case, we formatted the first column with `8 2`, the second column with `10 0`, the third column with `9 4`, and the fourth column with `8 2` again.\n",
    "\n",
    "If the format descriptor (the left argument) does not contain enough pairs of values, it will be repeated as many times as needed, provided that the width of the matrix is a multiple of the number of pairs.\n",
    "\n",
    "In other words, in `desc⍕values`, the residue `(≢desc)|2×¯1↑⍴values` must be equal to 0, otherwise a `LENGTH ERROR` is reported.\n",
    "For example,"
   ]
  },
  {
   "cell_type": "code",
   "execution_count": 148,
   "id": "desperate-detail",
   "metadata": {},
   "outputs": [
    {
     "data": {
      "text/html": [
       "<span style=\"white-space:pre; font-family: monospace\">   21.21      1535  375.46       705\n",
       " 1125.14      1964  464.45      1438\n",
       "  796.53      1569  157.14       887\n",
       "\n",
       "</span>"
      ]
     },
     "execution_count": 148,
     "metadata": {},
     "output_type": "execute_result"
    }
   ],
   "source": [
    "desc ← 8 2 10 0\n",
    "desc⍕nm"
   ]
  },
  {
   "cell_type": "markdown",
   "id": "familiar-probability",
   "metadata": {},
   "source": [
    "In the above, columns 3 and 4 reused the _descriptors_ of columns 1 and 2, respectively `8 2` and `10 0`.\n",
    "This is equivalent to writing the repeated pairs by hand:"
   ]
  },
  {
   "cell_type": "code",
   "execution_count": 150,
   "id": "rising-alabama",
   "metadata": {},
   "outputs": [
    {
     "data": {
      "text/html": [
       "<span style=\"white-space:pre; font-family: monospace\">   21.21      1535  375.46       705\n",
       " 1125.14      1964  464.45      1438\n",
       "  796.53      1569  157.14       887\n",
       "\n",
       "</span>"
      ]
     },
     "execution_count": 150,
     "metadata": {},
     "output_type": "execute_result"
    }
   ],
   "source": [
    "8 2 10 0 8 2 10 0⍕nm"
   ]
  },
  {
   "cell_type": "markdown",
   "id": "comic-speech",
   "metadata": {},
   "source": [
    "We can also compare `desc⍕nm` with the statement above about the residue:"
   ]
  },
  {
   "cell_type": "code",
   "execution_count": 151,
   "id": "artistic-cream",
   "metadata": {},
   "outputs": [
    {
     "data": {
      "text/html": [
       "<span style=\"white-space:pre; font-family: monospace\">0\n",
       "\n",
       "</span>"
      ]
     },
     "execution_count": 151,
     "metadata": {},
     "output_type": "execute_result"
    }
   ],
   "source": [
    "(≢desc)|2×¯1↑⍴nm"
   ]
  },
  {
   "cell_type": "markdown",
   "id": "satellite-discussion",
   "metadata": {},
   "source": [
    "#### Scientific Representation\n",
    "\n",
    "If the second item of a pair of _format_ descriptors is negative, for example in `9 ¯3⍕12345`, numbers are formatted in _scientific_ notation (also described as _exponential_ notation; see [a previous Specialist's Section](./Data-and-Variables.ipynb#Representation-of-Numbers)), with as many significant digits in the mantissa as specified by the descriptor:"
   ]
  },
  {
   "cell_type": "code",
   "execution_count": 157,
   "id": "broken-sarah",
   "metadata": {
    "scrolled": true
   },
   "outputs": [
    {
     "data": {
      "text/html": [
       "<span style=\"white-space:pre; font-family: monospace\"> 2.1E1   1.5E3   3.8E2   7.0E2  \n",
       " 1.1E3   2.0E3   4.6E2   1.4E3  \n",
       " 8.0E2   1.6E3   1.6E2   8.9E2  \n",
       "\n",
       "</span>"
      ]
     },
     "execution_count": 157,
     "metadata": {},
     "output_type": "execute_result"
    }
   ],
   "source": [
    "8 ¯2⍕nm"
   ]
  },
  {
   "cell_type": "code",
   "execution_count": 158,
   "id": "vulnerable-display",
   "metadata": {},
   "outputs": [
    {
     "data": {
      "text/html": [
       "<span style=\"white-space:pre; font-family: monospace\">2.121E1 1.535E3 3.755E2 7.045E2 \n",
       "1.125E3 1.964E3 4.645E2 1.438E3 \n",
       "7.965E2 1.569E3 1.571E2 8.866E2 \n",
       "\n",
       "</span>"
      ]
     },
     "execution_count": 158,
     "metadata": {},
     "output_type": "execute_result"
    }
   ],
   "source": [
    "8 ¯4⍕nm"
   ]
  },
  {
   "cell_type": "markdown",
   "id": "valuable-construction",
   "metadata": {},
   "source": [
    "You can refer to [Wikipedia's article on \"Scientific Notation\"](https://en.wikipedia.org/wiki/Scientific_notation#E_notation) for more information on how scientific notation works."
   ]
  },
  {
   "cell_type": "markdown",
   "id": "aerial-cursor",
   "metadata": {},
   "source": [
    "#### Scalar Descriptor\n",
    "\n",
    "When the *descriptor* is reduced to a simple scalar, the columns are formatted in the smallest width compatible with the values they contain, plus one separating space.\n",
    "The scalar descriptor is then used to specify the number of decimal places to use, or the number of significant digits to use in the mantissa of the scientific representation of the numbers, depending on the sign of the descriptor.\n",
    "\n",
    "For example,"
   ]
  },
  {
   "cell_type": "code",
   "execution_count": 153,
   "id": "virtual-comparison",
   "metadata": {},
   "outputs": [
    {
     "data": {
      "text/html": [
       "<span style=\"white-space:pre; font-family: monospace\">   21.21 1534.88 375.46  704.50\n",
       " 1125.14 1963.52 464.45 1438.25\n",
       "  796.53 1569.00 157.14  886.59\n",
       "\n",
       "</span>"
      ]
     },
     "execution_count": 153,
     "metadata": {},
     "output_type": "execute_result"
    }
   ],
   "source": [
    "2⍕nm"
   ]
  },
  {
   "cell_type": "markdown",
   "id": "processed-fifth",
   "metadata": {},
   "source": [
    "tells `⍕` to use 2 decimal places for all numbers, whereas"
   ]
  },
  {
   "cell_type": "code",
   "execution_count": 160,
   "id": "particular-browse",
   "metadata": {},
   "outputs": [
    {
     "data": {
      "text/html": [
       "<span style=\"white-space:pre; font-family: monospace\"> 2.12E1 1.53E3 3.75E2 7.05E2\n",
       " 1.13E3 1.96E3 4.64E2 1.44E3\n",
       " 7.97E2 1.57E3 1.57E2 8.87E2\n",
       "\n",
       "</span>"
      ]
     },
     "execution_count": 160,
     "metadata": {},
     "output_type": "execute_result"
    }
   ],
   "source": [
    "¯3⍕nm"
   ]
  },
  {
   "cell_type": "markdown",
   "id": "blind-department",
   "metadata": {},
   "source": [
    "tells `⍕` to use 3 digits in the mantissa of all numbers.\n",
    "\n",
    "In both examples above we see that each column is separated from the preceding one (and from the left margin too!) by a single space.\n",
    "\n",
    "This technique is convenient for experimental purposes, to have the most compact presentation possible, but you cannot control the total width of the final result with it."
   ]
  },
  {
   "cell_type": "markdown",
   "id": "fresh-amsterdam",
   "metadata": {},
   "source": [
    "## The `⎕FMT` System Function\n",
    "\n",
    "The _format_ primitive function is inadequate for producing professional looking output, such as one may require for common business purposes, because:\n",
    "\n",
    " - negative values are represented by a high minus sign, which is rather unusual outside the APL world;\n",
    " - a large value, like 5244172.68, is displayed in a single unpleasant block, while it would look better with thousands separators, like this: 5,244,172.68;\n",
    " - national conventions differ from one country to another. I would be convenient if the value shown above could be written as 5,244,172.68, or 5 244 172,68, or 5.244.172,68; and\n",
    " - it would be nice if negative values could have different styles of presentation, depending on the usage and the context: -427 or (427).\n",
    "\n",
    "For all these reasons, the `⍕` primitive is sometimes inappropriate, and it is better to use a _system function_ named `⎕FMT` (where `FMT` also stands for _format_)."
   ]
  },
  {
   "cell_type": "markdown",
   "id": "automatic-collaboration",
   "metadata": {},
   "source": [
    "### Monadic Use\n",
    "\n",
    "Monadic `⎕FMT`, like its primitive counterpart, converts numbers into text, without any specific control over the formatting.\n",
    "\n",
    "The result of `⎕FMT` is **always** a matrix, even if it is applied to a numeric scalar or vector.\n",
    "This is different from `⍕`:"
   ]
  },
  {
   "cell_type": "code",
   "execution_count": 52,
   "id": "weird-breathing",
   "metadata": {},
   "outputs": [
    {
     "data": {
      "text/html": [
       "<span style=\"white-space:pre; font-family: monospace\">10\n",
       "\n",
       "</span>"
      ]
     },
     "execution_count": 52,
     "metadata": {},
     "output_type": "execute_result"
    }
   ],
   "source": [
    "⍴⍕ 523 12 742"
   ]
  },
  {
   "cell_type": "code",
   "execution_count": 53,
   "id": "wound-talent",
   "metadata": {},
   "outputs": [
    {
     "data": {
      "text/html": [
       "<span style=\"white-space:pre; font-family: monospace\">1 10\n",
       "\n",
       "</span>"
      ]
     },
     "execution_count": 53,
     "metadata": {},
     "output_type": "execute_result"
    }
   ],
   "source": [
    "⍴⎕FMT 523 12 742"
   ]
  },
  {
   "cell_type": "markdown",
   "id": "dated-orientation",
   "metadata": {},
   "source": [
    "The general presentation is the same, except for some very special cases."
   ]
  },
  {
   "cell_type": "markdown",
   "id": "capable-transfer",
   "metadata": {},
   "source": [
    "### Dyadic Use\n",
    "\n",
    "#### Overview\n",
    "\n",
    "Like `⍕`, dyadic `⎕FMT` accepts a _descriptor_ for its left argument: `descriptor ⎕FMT values`.\n",
    "\n",
    "The right argument `values` can be:\n",
    " - a scalar, a vector, a matrix, but, unlike `⍕`, **not** a higher rank array; or\n",
    " - a nested scalar or a nested vector, whose items are simple arrays (not nested) or rank not greater than 2.\n",
    "\n",
    "If `values` is a nested vector, each of its items must be homogeneous (either character or numeric).\n",
    "In other words, an item of `values` may not itself be of mixed type.\n",
    "\n",
    "The `descriptor` argument is a character vector, made of a succession of elementary descriptors separated by commas; for example:"
   ]
  },
  {
   "cell_type": "code",
   "execution_count": 54,
   "id": "contrary-audience",
   "metadata": {},
   "outputs": [
    {
     "data": {
      "text/html": [
       "<span style=\"white-space:pre; font-family: monospace\">    12 A B C D   21.21 1534.88  375.46  704.50\n",
       "     3 E F G H 1125.14 1963.52  464.45 1438.25\n",
       "     4          796.53 1569.00  157.14  886.59\n",
       "\n",
       "</span>"
      ]
     },
     "execution_count": 54,
     "metadata": {},
     "output_type": "execute_result"
    }
   ],
   "source": [
    "'I6,4A2,4F8.2' ⎕FMT (12 3 4)(2 4⍴'ABCDEFGH')nm"
   ]
  },
  {
   "cell_type": "markdown",
   "id": "representative-interaction",
   "metadata": {},
   "source": [
    "Each elementary descriptor is made up of:\n",
    " - a letter, the _specification_, specifying the data representation (integer, decimal, character);\n",
    " - numeric values which specify the width and the shape of the result;\n",
    " - _qualifiers_ and _affixtures_, used to specify further the details of the formatting; and\n",
    " - sometimes a _repetition factor_, to apply the same description to several columns.\n",
    "\n",
    "These elementary descriptors are used one after the other, from left to right, and applied to successive values (or columns of values).\n",
    "\n",
    "Usually each array specified on the right has its own specific descriptor on the left.\n",
    "\n",
    "For example, in the example statement above,\n",
    " - `'I6'` applies to the vector `12 3 4`;\n",
    " - `'4A2'` applies to the four columns of the character matrix `2 4⍴ABCDEFGH`; and\n",
    " - `'F8.2'` applies to `nm`.\n",
    "\n",
    "However, an elementary descriptor can apply to several arrays if they are to share the same formatting, or a single array can require several descriptors when each of its columns is to be formatted differently.\n",
    "\n",
    "Matrices are formatted normally, whereas vectors are transposed (vertically) into columns."
   ]
  },
  {
   "cell_type": "markdown",
   "id": "apparent-laser",
   "metadata": {},
   "source": [
    "#### Specifications I and F\n",
    "\n",
    "These specifications are used to display numeric values:\n",
    " - `'I'` for **I**ntegers; and\n",
    " - `'F'` for **F**ractional.\n",
    "\n",
    "They use the following syntax:\n",
    " - `'rIw'`\n",
    "   - `'w'` is the **w**idth (the number of characters) dedicated to each column of numbers; and\n",
    "   - `'r'` is the number of columns to which this format specification is to be applied (this is the **r**epetition factor mentioned earlier.\n",
    " - `'rFw.d'`\n",
    "   - `'w'` is the **w**idth (the number of characters) dedicated to each column of numbers;\n",
    "   - `'d'` is the number of **d**ecimal digits to display; and\n",
    "   - `'r'` is the **r**epetition factor.\n",
    "\n",
    "Notice that the role of `'w.d'` in the specification `'F'` is related to the syntax of the left argument of the primitive function _format_.\n",
    "\n",
    "Let us work on the numeric matrix `nm`,"
   ]
  },
  {
   "cell_type": "code",
   "execution_count": 55,
   "id": "clear-hobby",
   "metadata": {},
   "outputs": [
    {
     "data": {
      "text/html": [
       "<span style=\"white-space:pre; font-family: monospace\">  21.21 1534.88 375.46  704.5 \n",
       "1125.14 1963.52 464.45 1438.25\n",
       " 796.53 1569    157.14  886.59\n",
       "\n",
       "</span>"
      ]
     },
     "execution_count": 55,
     "metadata": {},
     "output_type": "execute_result"
    }
   ],
   "source": [
    "nm"
   ]
  },
  {
   "cell_type": "markdown",
   "id": "interesting-substance",
   "metadata": {},
   "source": [
    "and on the following `price` vector:"
   ]
  },
  {
   "cell_type": "code",
   "execution_count": 56,
   "id": "missing-saskatchewan",
   "metadata": {},
   "outputs": [],
   "source": [
    "price ← 5.2 11.5 3.6 4 8.45"
   ]
  },
  {
   "cell_type": "code",
   "execution_count": 57,
   "id": "refined-australian",
   "metadata": {},
   "outputs": [
    {
     "data": {
      "text/html": [
       "<span style=\"white-space:pre; font-family: monospace\">  21   1534.9    375.5     705   5.2\n",
       "1125   1963.5    464.5    1438  11.5\n",
       " 797   1569.0    157.1     887   3.6\n",
       "                                 4.0\n",
       "                                 8.5\n",
       "\n",
       "</span>"
      ]
     },
     "execution_count": 57,
     "metadata": {},
     "output_type": "execute_result"
    }
   ],
   "source": [
    "'I4,2F9.1,I8,F6.1' ⎕FMT nm price"
   ]
  },
  {
   "cell_type": "markdown",
   "id": "perfect-reset",
   "metadata": {},
   "source": [
    "Here is an explanation of the descriptors used above:\n",
    " - `'I4'`: the first column of `nm` is displayed with a width of 4 characters, as integers (the values are rounded);\n",
    " - `'2F9.1'`: two columns are displayed with a width of 9 characters, with only 1 decimal digit;\n",
    " - `'I8'`: the last column of `nm` is displayed with a width of 8 characters, as integers; and\n",
    " - `'F6.1'`: the `price` vector is displayed vertically with a width of 6 characters and 1 decimal digit.\n",
    "\n",
    "Just like we mentioned earlier, notice that the `price` vector was displayed vertically, and just like with `⍕`, numbers are rounded (instead of truncated) when needed.\n",
    "It is also worth mentioning that `⎕FMT` has no problem dealing with the fact that `price` takes up more vertical space than `nm`.\n",
    "\n",
    "In the Specialist's Section you will see that you can also display numeric values using scientific (or **e**xponential) format, using the `'E'` specification, which is very similar to `'F'`."
   ]
  },
  {
   "cell_type": "markdown",
   "id": "detailed-mainstream",
   "metadata": {},
   "source": [
    "#### Specification A\n",
    "\n",
    "This specification is used to format characters (mnemonic: `'A'` from **a**lphabet) with the following syntax:\n",
    "\n",
    " - `'rAw'`\n",
    "   - `'w'` is the **w**idth (the number of characters) dedicated to each column of characters; and\n",
    "   - `'r'` is the number of columns to which this format applies (the **r**epetition factor).\n",
    "\n",
    "\n",
    "Let us again use these two variables:"
   ]
  },
  {
   "cell_type": "code",
   "execution_count": 58,
   "id": "arranged-canadian",
   "metadata": {},
   "outputs": [
    {
     "data": {
      "text/html": [
       "<span style=\"white-space:pre; font-family: monospace\">January \n",
       "February\n",
       "March   \n",
       "April   \n",
       "May     \n",
       "June    \n",
       "\n",
       "</span>"
      ]
     },
     "execution_count": 58,
     "metadata": {},
     "output_type": "execute_result"
    }
   ],
   "source": [
    "⎕← monMat ← 6 8⍴'January FebruaryMarch   April   May     June    '"
   ]
  },
  {
   "cell_type": "code",
   "execution_count": 59,
   "id": "chronic-heather",
   "metadata": {},
   "outputs": [
    {
     "data": {
      "text/html": [
       "<span style=\"white-space:pre; font-family: monospace\">H2SO4\n",
       "CaCO3\n",
       "Fe2O3\n",
       "\n",
       "</span>"
      ]
     },
     "execution_count": 59,
     "metadata": {},
     "output_type": "execute_result"
    }
   ],
   "source": [
    "⎕← chemistry ← 3 5⍴'H2SO4CaCO3Fe2O3'"
   ]
  },
  {
   "cell_type": "code",
   "execution_count": 60,
   "id": "hollow-prototype",
   "metadata": {},
   "outputs": [
    {
     "data": {
      "text/html": [
       "<span style=\"white-space:pre; font-family: monospace\">January    H2SO4\n",
       "February   CaCO3\n",
       "March      Fe2O3\n",
       "April           \n",
       "May             \n",
       "June            \n",
       "¯¯¯¯'¯¯¯¯|¯¯¯¯'¯\n",
       "\n",
       "</span>"
      ]
     },
     "execution_count": 60,
     "metadata": {},
     "output_type": "execute_result"
    }
   ],
   "source": [
    "ruler '8A1,A4,9A1' ⎕FMT monMat chemistry"
   ]
  },
  {
   "cell_type": "markdown",
   "id": "advanced-beach",
   "metadata": {},
   "source": [
    "Here is a breakdown of what is happening:\n",
    " - `'8A1'`: the 8 columns of `monMat` are displayed in 8 columns, each of which is 1 character wide;\n",
    " - `'A4'`: the first column of `chemistry`, displayed in a column that is 4 characters wide, produces a separation of 3 blanks; and\n",
    " - `'9A1'`: the subsequent columns of `chemistry` are displayed in (up to) 9 columns, each of which is 1 character wide.\n",
    "\n",
    "<!--begin remarks-->\n",
    "***Remarks***:\n",
    "\n",
    " > - Specifications (`'I'`, `'F'`, `'A'`, ...) must be uppercase letters (lowercase specifications cause errors); and\n",
    " > - We specified `'9A1'`, though we had only 4 remaining columns to format, with no problems; `⎕FMT` ignores excess repetition factors.\n",
    "<!--end-->\n",
    "\n",
    "But what would happen if the first descriptor was larger than necessary?"
   ]
  },
  {
   "cell_type": "code",
   "execution_count": 61,
   "id": "growing-profit",
   "metadata": {},
   "outputs": [
    {
     "data": {
      "text/html": [
       "<span style=\"white-space:pre; font-family: monospace\">January H2   SO4\n",
       "FebruaryCa   CO3\n",
       "March   Fe   2O3\n",
       "April           \n",
       "May             \n",
       "June            \n",
       "\n",
       "</span>"
      ]
     },
     "execution_count": 61,
     "metadata": {},
     "output_type": "execute_result"
    }
   ],
   "source": [
    "'10A1,A4,4A1' ⎕FMT monMat chemistry"
   ]
  },
  {
   "cell_type": "markdown",
   "id": "skilled-crash",
   "metadata": {},
   "source": [
    "The first descriptor in the example above, `'10A1'`, has a repetition factor of 10, meaning it will apply to 10 columns: the 8 columns from `monMat` plus the first 2 columns from `chemistry`.\n",
    "The `'A1'` then displays those columns in columns that are 1 character wide.\n",
    "The next column of `chemistry` is then displayed in a column that is 4 characters wide (because of `'A4'`), and the last two columns of `chemistry` are displayed in columns that are also 1 character wide (here we also specified more columns than are needed).\n",
    "\n",
    "If we provide a single descriptor, it applies to all the columns of the right argument, like the following expression exemplifies:"
   ]
  },
  {
   "cell_type": "code",
   "execution_count": 62,
   "id": "athletic-camera",
   "metadata": {},
   "outputs": [
    {
     "data": {
      "text/html": [
       "<span style=\"white-space:pre; font-family: monospace\">  H  2  S  O  4\n",
       "  C  a  C  O  3\n",
       "  F  e  2  O  3\n",
       "\n",
       "</span>"
      ]
     },
     "execution_count": 62,
     "metadata": {},
     "output_type": "execute_result"
    }
   ],
   "source": [
    "'A3' ⎕FMT chemistry"
   ]
  },
  {
   "cell_type": "markdown",
   "id": "excellent-bacteria",
   "metadata": {},
   "source": [
    "In the result above, each character is formatted in a column that is 3 characters wide and is right-justified."
   ]
  },
  {
   "cell_type": "markdown",
   "id": "classical-groove",
   "metadata": {},
   "source": [
    "#### Specification X\n",
    "\n",
    "Suppose that we want to number the rows by displaying the characters `'123'` to the left of `chemistry`.\n",
    "The following method would produce a poor presentation:"
   ]
  },
  {
   "cell_type": "code",
   "execution_count": 63,
   "id": "collective-joseph",
   "metadata": {},
   "outputs": [
    {
     "data": {
      "text/html": [
       "<span style=\"white-space:pre; font-family: monospace\">1H2SO4\n",
       "2CaCO3\n",
       "3Fe2O3\n",
       "\n",
       "</span>"
      ]
     },
     "execution_count": 63,
     "metadata": {},
     "output_type": "execute_result"
    }
   ],
   "source": [
    "'A1,5A1' ⎕FMT '123' chemistry"
   ]
  },
  {
   "cell_type": "markdown",
   "id": "helpful-steel",
   "metadata": {},
   "source": [
    "Using `'6A1'` instead of `'A1,5A1'` would produce the same result.\n",
    "\n",
    "To separate the digits on the left from the `chemistry` matrix on the right, we could specify a different format for the first column of `chemistry`:"
   ]
  },
  {
   "cell_type": "code",
   "execution_count": 64,
   "id": "restricted-seeker",
   "metadata": {},
   "outputs": [
    {
     "data": {
      "text/html": [
       "<span style=\"white-space:pre; font-family: monospace\">1  H2SO4\n",
       "2  CaCO3\n",
       "3  Fe2O3\n",
       "\n",
       "</span>"
      ]
     },
     "execution_count": 64,
     "metadata": {},
     "output_type": "execute_result"
    }
   ],
   "source": [
    "'A1,A3,4A1' ⎕FMT '123' chemistry"
   ]
  },
  {
   "cell_type": "markdown",
   "id": "sporting-terry",
   "metadata": {},
   "source": [
    "However, it is simpler to include a specific descriptor for the separation; this is the role of the `'X'` specification.\n",
    "\n",
    " - `'rXw'`\n",
    "   - `'w'` is the **w**idth (the number of characters) of the blank column to insert; and\n",
    "   - `'r'` is the **r**epetition factor.\n",
    "\n",
    "For example, to insert a blank column that is 3 characters wide, we can specify"
   ]
  },
  {
   "cell_type": "code",
   "execution_count": 65,
   "id": "alert-karen",
   "metadata": {},
   "outputs": [
    {
     "data": {
      "text/html": [
       "<span style=\"white-space:pre; font-family: monospace\">1   H2SO4\n",
       "2   CaCO3\n",
       "3   Fe2O3\n",
       "\n",
       "</span>"
      ]
     },
     "execution_count": 65,
     "metadata": {},
     "output_type": "execute_result"
    }
   ],
   "source": [
    "'A1,X3,5A1' ⎕FMT '123' chemistry"
   ]
  },
  {
   "cell_type": "markdown",
   "id": "deadly-tablet",
   "metadata": {},
   "source": [
    "`'X3'` and `'3X1` are synonymous, but the first description is simpler."
   ]
  },
  {
   "cell_type": "markdown",
   "id": "informal-democrat",
   "metadata": {},
   "source": [
    "#### Text Inclusion Specification\n",
    "\n",
    "It is sometimes convenient to separate two columns of the formatted result by a string of characters.\n",
    "This string of characters must be inserted in the format description, embedded between a pair of delimiters.\n",
    "You can choose from the following delimiters:\n",
    "\n",
    " - `<` and `>`;\n",
    " - `⊂` and `⊃`;\n",
    " - `¨` and `¨`;\n",
    " - `⎕` and `⎕`; or\n",
    " - `⍞` and `⍞`.\n",
    "\n",
    "Of course, if you use a given set of delimiters, the character string cannot contain the closing delimiter.\n",
    "For example, if you use `⊂ ⊃`, the character string cannot contain `⊃`; or, if you use `⎕ ⎕`, the character string cannot contain `⎕`.\n",
    "\n",
    "Picking between any of the available options is a matter of preference, but the pairs `< >` and `⊂ ⊃` do present the advantage that they make it easier to spot where the included text starts and ends, which is particularly useful if the format description makes repeated use of text inclusion.\n",
    "For that matter, for the remainder of this chapter we shall prefer `⊂ ⊃` or `< >` over the other options.\n",
    "\n",
    "Let us use"
   ]
  },
  {
   "cell_type": "code",
   "execution_count": 76,
   "id": "cultural-reducing",
   "metadata": {},
   "outputs": [
    {
     "data": {
      "text/html": [
       "<span style=\"white-space:pre; font-family: monospace\">0.08 0.05 0.02\n",
       "\n",
       "</span>"
      ]
     },
     "execution_count": 76,
     "metadata": {},
     "output_type": "execute_result"
    }
   ],
   "source": [
    "⎕← rates ← 0.08 0.05 0.02"
   ]
  },
  {
   "cell_type": "markdown",
   "id": "unique-failing",
   "metadata": {},
   "source": [
    "to calculate a result and display it:"
   ]
  },
  {
   "cell_type": "code",
   "execution_count": 77,
   "id": "collectible-montreal",
   "metadata": {},
   "outputs": [
    {
     "data": {
      "text/html": [
       "<span style=\"white-space:pre; font-family: monospace\">| H2SO4 |    21.21 1534.88  375.46  704.50 × 8% =  56.36€\n",
       "| CaCO3 |  1125.14 1963.52  464.45 1438.25 × 5% =  71.91€\n",
       "| Fe2O3 |   796.53 1569.00  157.14  886.59 × 2% =  17.73€\n",
       "\n",
       "</span>"
      ]
     },
     "execution_count": 77,
     "metadata": {},
     "output_type": "execute_result"
    }
   ],
   "source": [
    "res ← nm[;4]×rates\n",
    "format ← '⊂| ⊃,5A1,⊂ | ⊃,4F8.2,⊂ ×⊃,I2,⊂% =⊃,F7.2,⊂€⊃'\n",
    "format ⎕FMT chemistry nm (rates×100) res"
   ]
  },
  {
   "cell_type": "markdown",
   "id": "exempt-entry",
   "metadata": {},
   "source": [
    "<!-- (TODO) use something like `format⊆⍨≠\\∨⌿'⊂⊃'∘.=format` to parse the `format` variable and extract the texts that will be included, with the caveat that it only works if there's no extra ⊂⊃ in there. -->\n",
    "\n",
    "This format specification contains 9 descriptors.\n",
    "To avoid a single long statement, it is possible to prepare the format description separately, save it in a variable, and use it later, as shown above."
   ]
  },
  {
   "cell_type": "markdown",
   "id": "funded-spread",
   "metadata": {},
   "source": [
    "#### Specification G – The Picture Code\n",
    "\n",
    "The specifications we saw earlier (`I`, `F`, `X`, `A`) are very similar to those used in the \"FORMAT\" statement in a very popular scientific language, FORTRAN.\n",
    "Another traditional language, COBOL, uses a different approach in its \"PICTURE\" statement.\n",
    "\n",
    "The `'G'` specification in APL is very similar to the COBOL \"PICTURE\" statement.\n",
    "\n",
    "In this specification, the letter `'G'` is followed by any string of characters, in which the characters `'Z'` and `'9'` represent the positions in which numeric digits are to be placed in the output.\n",
    "\n",
    "The string is delimited by the same delimiters that we use for the text inclusion specification: `⊂ ⊃`, `< >`, `¨ ¨`, `⎕ ⎕`, or `⍞ ⍞`.\n",
    "\n",
    "It works as follows:\n",
    "\n",
    " - all the values are rounded to the nearest integer (no decimal digit will be displayed);\n",
    " - each digit replaces one of the characters `'Z'` or `'9'` included in the `'G'` format string;\n",
    " - unused `'9'`'s are replaced by zeroes and unused `'Z'`'s are replaced by blanks;\n",
    " - all characters to the left of the first `'Z'` or `'9'`, or to the right of the last `'Z'` or `'9'` are reproduced verbatim; and\n",
    " - characters inserted between some `'Z'`'s or `'9'`'s are reproduced only if there are digits on both sides.\n",
    "\n",
    "Some examples may help:\n",
    "\n",
    "Let us describe the formatting of this matrix"
   ]
  },
  {
   "cell_type": "code",
   "execution_count": 96,
   "id": "explicit-feeding",
   "metadata": {},
   "outputs": [
    {
     "data": {
      "text/html": [
       "<span style=\"white-space:pre; font-family: monospace\">75 14 86\n",
       "20 31 16\n",
       "\n",
       "</span>"
      ]
     },
     "execution_count": 96,
     "metadata": {},
     "output_type": "execute_result"
    }
   ],
   "source": [
    "⎕← mat ← 2 3⍴75 14 86 20 31 16"
   ]
  },
  {
   "cell_type": "code",
   "execution_count": 99,
   "id": "australian-british",
   "metadata": {},
   "outputs": [
    {
     "data": {
      "text/html": [
       "<span style=\"white-space:pre; font-family: monospace\">(0075) + (0014) + (0086) + \n",
       "(0020) + (0031) + (0016) + \n",
       "\n",
       "</span>"
      ]
     },
     "execution_count": 99,
     "metadata": {},
     "output_type": "execute_result"
    }
   ],
   "source": [
    "'3G⊂(9999) + ⊃' ⎕FMT mat"
   ]
  },
  {
   "cell_type": "markdown",
   "id": "extensive-novel",
   "metadata": {},
   "source": [
    "Each descriptor `'9'` has been replaced by a digit of `mat`, or by a zero, and all the other characters have been reproduced from the model.\n",
    "\n",
    "Let us now turn our attention to the `nm` matrix we have been playing around with:"
   ]
  },
  {
   "cell_type": "code",
   "execution_count": 90,
   "id": "empirical-center",
   "metadata": {},
   "outputs": [
    {
     "data": {
      "text/html": [
       "<span style=\"white-space:pre; font-family: monospace\">  21.21 1534.88 375.46  704.5 \n",
       "1125.14 1963.52 464.45 1438.25\n",
       " 796.53 1569    157.14  886.59\n",
       "\n",
       "</span>"
      ]
     },
     "execution_count": 90,
     "metadata": {},
     "output_type": "execute_result"
    }
   ],
   "source": [
    "nm"
   ]
  },
  {
   "cell_type": "code",
   "execution_count": 91,
   "id": "cutting-character",
   "metadata": {},
   "outputs": [
    {
     "data": {
      "text/html": [
       "<span style=\"white-space:pre; font-family: monospace\"> 0021 1535 0375 0705\n",
       " 1125 1964 0464 1438\n",
       " 0797 1569 0157 0887\n",
       "\n",
       "</span>"
      ]
     },
     "execution_count": 91,
     "metadata": {},
     "output_type": "execute_result"
    }
   ],
   "source": [
    "'4G⊂ 9999⊃'⎕FMT nm"
   ]
  },
  {
   "cell_type": "markdown",
   "id": "operating-congo",
   "metadata": {},
   "source": [
    "Here, each value is padded by leading zeroes and the decimal digits are lost (the values were _rounded_)."
   ]
  },
  {
   "cell_type": "code",
   "execution_count": 95,
   "id": "painful-concept",
   "metadata": {},
   "outputs": [
    {
     "data": {
      "text/html": [
       "<span style=\"white-space:pre; font-family: monospace\">   21 1535  375  705\n",
       " 1125 1964  464 1438\n",
       "  797 1569  157  887\n",
       "\n",
       "</span>"
      ]
     },
     "execution_count": 95,
     "metadata": {},
     "output_type": "execute_result"
    }
   ],
   "source": [
    "'4G⊂ ZZZ9⊃'⎕FMT nm"
   ]
  },
  {
   "cell_type": "markdown",
   "id": "complicated-tolerance",
   "metadata": {},
   "source": [
    "In this new example small values are not padded by zeroes, but by blanks.\n",
    "It is also worth noting that we use `'ZZZ9'` instead of `'ZZZZ'` so that a single `'0'` gets printed in case there's any zeroes in the right argument:"
   ]
  },
  {
   "cell_type": "code",
   "execution_count": 109,
   "id": "marine-lover",
   "metadata": {},
   "outputs": [
    {
     "data": {
      "text/html": [
       "<span style=\"white-space:pre; font-family: monospace\"> \n",
       "\n",
       "</span>"
      ]
     },
     "execution_count": 109,
     "metadata": {},
     "output_type": "execute_result"
    }
   ],
   "source": [
    "'G⊂Z⊃' ⎕FMT 0"
   ]
  },
  {
   "cell_type": "code",
   "execution_count": 110,
   "id": "collectible-static",
   "metadata": {},
   "outputs": [
    {
     "data": {
      "text/html": [
       "<span style=\"white-space:pre; font-family: monospace\">0\n",
       "\n",
       "</span>"
      ]
     },
     "execution_count": 110,
     "metadata": {},
     "output_type": "execute_result"
    }
   ],
   "source": [
    "'G⊂9⊃' ⎕FMT 0"
   ]
  },
  {
   "cell_type": "markdown",
   "id": "deadly-australia",
   "metadata": {},
   "source": [
    "Decimal digits can be displayed only if we convert the values into integers and insert \"artificial\" decimal points between the `'Z'`'s or `'9'`'s:"
   ]
  },
  {
   "cell_type": "code",
   "execution_count": 114,
   "id": "thirty-cradle",
   "metadata": {},
   "outputs": [
    {
     "data": {
      "text/html": [
       "<span style=\"white-space:pre; font-family: monospace\">   21.21 1534.88  375.46  704.50\n",
       " 1125.14 1963.52  464.45 1438.25\n",
       "  796.53 1569.00  157.14  886.59\n",
       "\n",
       "</span>"
      ]
     },
     "execution_count": 114,
     "metadata": {},
     "output_type": "execute_result"
    }
   ],
   "source": [
    "'G⊂ ZZZ9.99⊃' ⎕FMT 100×nm"
   ]
  },
  {
   "cell_type": "markdown",
   "id": "naughty-avenue",
   "metadata": {},
   "source": [
    "Finally, we illustrate what we said earlier about the fact that symbols placed between descriptors `'Z'` and `'9'` are displayed only if they are surrounded by digits:"
   ]
  },
  {
   "cell_type": "code",
   "execution_count": 117,
   "id": "metallic-juice",
   "metadata": {},
   "outputs": [
    {
     "data": {
      "text/html": [
       "<span style=\"white-space:pre; font-family: monospace\">Value        8\n",
       "Value       15\n",
       "Value     6/54\n",
       "Value    38/52\n",
       "Value  1-93/46\n",
       "Value 62-11/84\n",
       "\n",
       "</span>"
      ]
     },
     "execution_count": 117,
     "metadata": {},
     "output_type": "execute_result"
    }
   ],
   "source": [
    "'G⊂Value ZZ-ZZ/Z9⊃' ⎕FMT 8 15 654 3852 19346 621184"
   ]
  },
  {
   "cell_type": "markdown",
   "id": "crucial-sierra",
   "metadata": {},
   "source": [
    "This characteristic is useful when displaying numbers according to national conventions:"
   ]
  },
  {
   "cell_type": "code",
   "execution_count": 119,
   "id": "domestic-switch",
   "metadata": {},
   "outputs": [
    {
     "data": {
      "text/html": [
       "<span style=\"white-space:pre; font-family: monospace\">321,456,987.10\n",
       "         84.52\n",
       "        957.32\n",
       "    649,524.65\n",
       "\n",
       "</span>"
      ]
     },
     "execution_count": 119,
     "metadata": {},
     "output_type": "execute_result"
    }
   ],
   "source": [
    "'G⊂ZZZ,ZZZ,ZZ9.99⊃' ⎕FMT 32145698710 8452 95732 64952465"
   ]
  },
  {
   "cell_type": "markdown",
   "id": "developing-leeds",
   "metadata": {},
   "source": [
    "The above is the Anglo-American presentation and the example below is the French presentation:"
   ]
  },
  {
   "cell_type": "code",
   "execution_count": 120,
   "id": "israeli-eleven",
   "metadata": {},
   "outputs": [
    {
     "data": {
      "text/html": [
       "<span style=\"white-space:pre; font-family: monospace\">321 456 987,10\n",
       "         84,52\n",
       "        957,32\n",
       "    649 524,65\n",
       "\n",
       "</span>"
      ]
     },
     "execution_count": 120,
     "metadata": {},
     "output_type": "execute_result"
    }
   ],
   "source": [
    "'G⊂ZZZ ZZZ ZZ9,99⊃' ⎕FMT 32145698710 8452 95732 64952465"
   ]
  },
  {
   "cell_type": "markdown",
   "id": "initial-ireland",
   "metadata": {},
   "source": [
    "Here is a surprising example:"
   ]
  },
  {
   "cell_type": "code",
   "execution_count": 123,
   "id": "prompt-voluntary",
   "metadata": {},
   "outputs": [
    {
     "data": {
      "text/html": [
       "<span style=\"white-space:pre; font-family: monospace\">Simon 45 Garfunkel 62\n",
       "Simon 87             \n",
       "\n",
       "</span>"
      ]
     },
     "execution_count": 123,
     "metadata": {},
     "output_type": "execute_result"
    }
   ],
   "source": [
    "'G⊂Simon ZZ Garfunkel ZZ⊃' ⎕FMT 4562.31 8699.84"
   ]
  },
  {
   "cell_type": "markdown",
   "id": "white-grenada",
   "metadata": {},
   "source": [
    "Here is the explanation of this surprising example:\n",
    "\n",
    " - the two numbers have been rounded like this: `4562 8700`;\n",
    " - because vectors are shown in columns, we get one printed line per item in the vector;\n",
    " - on the first line, `4562` has been split into `45` and `62`;\n",
    " - on the second line, `8700` has been split into `87` and `00`;\n",
    " - because we used a descriptor `'Z'`, these zeroes have been replaced by blanks, which means the characters that compose `'Garfunkel'` are no longer between non-blank digits and, therefore, are not reproduced."
   ]
  },
  {
   "cell_type": "markdown",
   "id": "unusual-richmond",
   "metadata": {},
   "source": [
    "#### Specification T\n",
    "\n",
    "Specification `'X'` was used to specify an offset between a field and its neighbour.\n",
    "Specification `'T'` (where `'T'` stands for tabular) specifies a position from the left margin.\n",
    "This makes it easy to position data in a sheet."
   ]
  },
  {
   "cell_type": "code",
   "execution_count": 128,
   "id": "nutritional-premises",
   "metadata": {},
   "outputs": [
    {
     "data": {
      "text/html": [
       "<span style=\"white-space:pre; font-family: monospace\">75            H2SO4              21  1535   375   705\n",
       "91            CaCO3            1125  1964   464  1438\n",
       "34            Fe2O3             797  1569   157   887\n",
       "¯¯¯¯'¯¯¯¯|¯¯¯¯'¯¯¯¯|¯¯¯¯'¯¯¯¯|¯¯¯¯'¯¯¯¯|¯¯¯¯'¯¯¯¯|¯¯¯\n",
       "\n",
       "</span>"
      ]
     },
     "execution_count": 128,
     "metadata": {},
     "output_type": "execute_result"
    }
   ],
   "source": [
    "ruler 'I2,T15,5A1,T30,4I6' ⎕FMT (75 91 34) chemistry nm"
   ]
  },
  {
   "cell_type": "markdown",
   "id": "surface-spank",
   "metadata": {},
   "source": [
    "As you can see, `chemistry` starts at the 15th position, and the first column of `nm` starts at the 30th position but, because it occupies 6 characters per column, it is right-aligned at the 35th character."
   ]
  },
  {
   "cell_type": "markdown",
   "id": "material-economics",
   "metadata": {},
   "source": [
    "#### Specification K\n",
    "\n",
    "Specification `'Kn'` is used to multiply a value by $10^n$ before it is displayed.\n",
    "Here is how a numerical value is displayed normally:\n",
    "\n",
    "'F12.2' ⎕FMT 123.45\n",
    "\n",
    "Now we multiply the number by 1000 before displaying it:\n",
    "\n",
    "'K3F12.2' ⎕FMT 123.45\n",
    "\n",
    "Now we divide the number by 10 (and round it) before displaying it:\n",
    "\n",
    "'K¯1F12.2' ⎕FMT 123.45\n",
    "\n",
    "Because specification `'G'` only displays integer values, it is often convenient to use specification `'K'` to multiply decimal values by a power of 10 to obtain the correct display, as exemplified here:\n",
    "\n",
    "'G⊂ZZZ ZZZ ZZ9.99⊃'⎕FMT 75435.39 66054.17 7.2 1673.08\n",
    "\n",
    "Notice how the presentation above gives the wrong idea about the values.\n",
    "However, if we were to use `'K2'` to multiply the values by 100 before displaying them, we would produce the correct representation:\n",
    "\n",
    "'K2G⊂ZZZ ZZZ ZZ9.99⊃'⎕FMT 75435.39 66054.17 7.2 1673.08\n",
    "\n",
    "<!--begin tip-->\n",
    "***Tip***:\n",
    "\n",
    " > In the use-case above, where we use the specification `'Kn'` before using the specification `'G'`, the number of decimal places you use in the text descriptor of the specification `'G'` is the number `'n'` you should use with the specification `'Kn'`.\n",
    "<!--end-->\n",
    "\n",
    "For example, you would probably want to use `K3G⊂ZZ9.999⊃` or `K1G⊂ZZ9.9⊃` to format small numbers with 3 and 1 decimal places, respectively."
   ]
  },
  {
   "cell_type": "markdown",
   "id": "nervous-suicide",
   "metadata": {},
   "source": [
    "#### Specification E\n",
    "\n",
    "This specification in the left argument to `⎕FMT` is used to display numeric values, but in scientific (or **e**xponential) form.\n",
    "\n",
    "Its syntax is very similar to the syntax of the specification `'F'`:\n",
    "\n",
    " - `'rEw.s'`\n",
    "   - `'w'` is the **w**idth (in number of characters) dedicated to each column of numbers;\n",
    "   - `'s'` is the number of **s**ignificant digits displayed in the mantissa; and\n",
    "   - `'r'` is the **r**epetition factor."
   ]
  },
  {
   "cell_type": "code",
   "execution_count": 161,
   "id": "alpha-parent",
   "metadata": {},
   "outputs": [
    {
     "data": {
      "text/html": [
       "<span style=\"white-space:pre; font-family: monospace\">   1.255E4  \n",
       "   4.870E¯2 \n",
       "  ¯6.213E1  \n",
       "¯¯¯¯'¯¯¯¯|¯¯\n",
       "\n",
       "</span>"
      ]
     },
     "execution_count": 161,
     "metadata": {},
     "output_type": "execute_result"
    }
   ],
   "source": [
    "ruler 'E12.4' ⎕FMT 12553 0.0487 ¯62.133"
   ]
  },
  {
   "cell_type": "markdown",
   "id": "welcome-basement",
   "metadata": {},
   "source": [
    "You can see that each number is represented by 12 characters, with exactly 4 significant digits.\n",
    "However, in order to make room for larger exponents, the last column is left blank.\n",
    "\n",
    "You can refer to [Wikipedia's article on \"Scientific Notation\"](https://en.wikipedia.org/wiki/Scientific_notation#E_notation) for more information on how scientific notation works."
   ]
  },
  {
   "cell_type": "markdown",
   "id": "preliminary-guest",
   "metadata": {},
   "source": [
    "### Qualifiers and Affixtures\n",
    "\n",
    "Specifications `'I'`, `'F'`, and `'G'` can be associated with _qualifiers_ and _affixtures_:\n",
    "\n",
    " - _qualifiers_ modify the presentation of numeric values; and\n",
    " - _affixtures_ print additional characters when some conditions are satisfied.\n",
    "\n",
    "_Qualifiers_ and _affixtures_ must be specified to the **left** of the specification they modify."
   ]
  },
  {
   "cell_type": "markdown",
   "id": "european-publisher",
   "metadata": {},
   "source": [
    "#### Qualifiers\n",
    "\n",
    " - `'Kn'` multiplies numbers by $10^n$ before displaying them;\n",
    " - `'B'` replaces zero values by **B**lanks;\n",
    " - `'C'` separates triads of characters by **C**ommas in the integer part of a number;\n",
    " - `'L'` aligns the value to the **L**eft of its field;\n",
    " - `'Z'` fills up the left part of the zone reserved for a field with **Z**eroes;\n",
    " - `'Ov⊂text⊃'` replaces **O**nly the specific value `v` with the given `text`. If omitted, `v` is assumed to be zero, so replacing zeroes with a special text string is easy; and\n",
    " - `'S⊂os⊃'` replaces characters with **S**ubstitution characters. `os` is a list of couples of characters, where\n",
    "   - `o` is the **o**riginal character; and\n",
    "   - `s` is the **s**ubstitute character.\n",
    "\n",
    "From the qualifiers above, `'C'`, `'L'`, and `'Z'` do **not** work with specification `'G'`.\n",
    "Furthermore, note that the specification `'S⊂os⊃'` applies only to the replacement of the following characters:\n",
    " \n",
    " - `.` – the decimal separator;\n",
    " - `,` – the thousands separator produced by qualifier `'C'`;\n",
    " - `*` – the overflow character used when a value takes up more space than the space available for it;\n",
    " - `0` – the fill character produced by qualifier `'Z'`; and\n",
    " - `_` – the character indicating lack of precision (see [the Specialist's Section about it](#Lack-of-Precision))."
   ]
  },
  {
   "cell_type": "markdown",
   "id": "imported-prairie",
   "metadata": {},
   "source": [
    "#### Examples of Qualifiers\n",
    "\n",
    "Multiply a number by 1000 before displaying it:"
   ]
  },
  {
   "cell_type": "code",
   "execution_count": 192,
   "id": "stupid-flavor",
   "metadata": {},
   "outputs": [
    {
     "data": {
      "text/html": [
       "<span style=\"white-space:pre; font-family: monospace\">   123450.00\n",
       "\n",
       "</span>"
      ]
     },
     "execution_count": 192,
     "metadata": {},
     "output_type": "execute_result"
    }
   ],
   "source": [
    "'K3F12.2' ⎕FMT 123.45"
   ]
  },
  {
   "cell_type": "markdown",
   "id": "hidden-stopping",
   "metadata": {},
   "source": [
    "Now divide a number by 10 (and round it) before displaying it:"
   ]
  },
  {
   "cell_type": "code",
   "execution_count": 193,
   "id": "coated-holocaust",
   "metadata": {},
   "outputs": [
    {
     "data": {
      "text/html": [
       "<span style=\"white-space:pre; font-family: monospace\">       12.35\n",
       "\n",
       "</span>"
      ]
     },
     "execution_count": 193,
     "metadata": {},
     "output_type": "execute_result"
    }
   ],
   "source": [
    "'K¯1F12.2' ⎕FMT 123.45"
   ]
  },
  {
   "cell_type": "markdown",
   "id": "centered-natural",
   "metadata": {},
   "source": [
    "Because specification `'G'` only displays integer values, it is often convenient to use specification `'K'` to multiply decimal values by a power of 10 to obtain the correct display, as exemplified here:"
   ]
  },
  {
   "cell_type": "code",
   "execution_count": 198,
   "id": "norman-border",
   "metadata": {},
   "outputs": [
    {
     "data": {
      "text/html": [
       "<span style=\"white-space:pre; font-family: monospace\">  4.35\n",
       "  0.54\n",
       "  0.07\n",
       "  6.73\n",
       "\n",
       "</span>"
      ]
     },
     "execution_count": 198,
     "metadata": {},
     "output_type": "execute_result"
    }
   ],
   "source": [
    "'G⊂ZZ9.99⊃'⎕FMT 435.39 54.17 7.2 673.08"
   ]
  },
  {
   "cell_type": "markdown",
   "id": "unsigned-viewer",
   "metadata": {},
   "source": [
    "Notice how the presentation above gives the wrong idea about the values.\n",
    "However, if we were to use `'K2'` to multiply the values by 100 before displaying them, we would produce the correct representation:"
   ]
  },
  {
   "cell_type": "code",
   "execution_count": 199,
   "id": "billion-triangle",
   "metadata": {},
   "outputs": [
    {
     "data": {
      "text/html": [
       "<span style=\"white-space:pre; font-family: monospace\">435.39\n",
       " 54.17\n",
       "  7.20\n",
       "673.08\n",
       "\n",
       "</span>"
      ]
     },
     "execution_count": 199,
     "metadata": {},
     "output_type": "execute_result"
    }
   ],
   "source": [
    "'K2G⊂ZZ9.99⊃'⎕FMT 435.39 54.17 7.2 673.08"
   ]
  },
  {
   "cell_type": "markdown",
   "id": "taken-ambassador",
   "metadata": {},
   "source": [
    "<!--begin tip-->\n",
    "***Tip***:\n",
    "\n",
    " > In the use-case above, the number of decimal places you use in the text descriptor of the specification `'G'` is the number `'n'` you should use with the qualifier `'Kn'`.\n",
    "<!--end-->\n",
    "\n",
    "Now we use the qualifier `'Z'` to pad values with zeroes on the left.\n",
    "Notice, also, how a repetition factor may be applied to a list of specifications enclosed by parentheses:"
   ]
  },
  {
   "cell_type": "code",
   "execution_count": 202,
   "id": "addressed-cyprus",
   "metadata": {},
   "outputs": [
    {
     "data": {
      "text/html": [
       "<span style=\"white-space:pre; font-family: monospace\">09/07/98\n",
       "\n",
       "</span>"
      ]
     },
     "execution_count": 202,
     "metadata": {},
     "output_type": "execute_result"
    }
   ],
   "source": [
    "'ZI2,2(⊂/⊃,ZI2)' ⎕FMT 1 3⍴9 7 98"
   ]
  },
  {
   "cell_type": "markdown",
   "id": "engaged-roberts",
   "metadata": {},
   "source": [
    "We can reproduce the Anglo-American and French representations for large numbers (that we produced with specification `'G'`) with the `'C'` and `'S'` qualifiers:"
   ]
  },
  {
   "cell_type": "code",
   "execution_count": 210,
   "id": "wooden-missile",
   "metadata": {},
   "outputs": [
    {
     "data": {
      "text/html": [
       "<span style=\"white-space:pre; font-family: monospace\">74,815,926.03\n",
       "\n",
       "</span>"
      ]
     },
     "execution_count": 210,
     "metadata": {},
     "output_type": "execute_result"
    }
   ],
   "source": [
    "'CF13.2' ⎕FMT 74815926.03"
   ]
  },
  {
   "cell_type": "code",
   "execution_count": 213,
   "id": "dietary-machinery",
   "metadata": {},
   "outputs": [
    {
     "data": {
      "text/html": [
       "<span style=\"white-space:pre; font-family: monospace\">74 815 926,03\n",
       "\n",
       "</span>"
      ]
     },
     "execution_count": 213,
     "metadata": {},
     "output_type": "execute_result"
    }
   ],
   "source": [
    "'S⊂, .,⊃CF13.2' ⎕FMT 74815926.03"
   ]
  },
  {
   "cell_type": "markdown",
   "id": "colored-clause",
   "metadata": {},
   "source": [
    "In this last example, commas have been replaced by blanks and the decimal point has been substituted by a comma, using the `'S'` qualifier, to obtain a French presentation.\n",
    "\n",
    "For the next examples, let us use the following numeric matrix:"
   ]
  },
  {
   "cell_type": "code",
   "execution_count": 214,
   "id": "parental-johns",
   "metadata": {},
   "outputs": [
    {
     "data": {
      "text/html": [
       "<span style=\"white-space:pre; font-family: monospace\">178.23    0    ¯87.64\n",
       "  0    ¯681.19  42   \n",
       "\n",
       "</span>"
      ]
     },
     "execution_count": 214,
     "metadata": {},
     "output_type": "execute_result"
    }
   ],
   "source": [
    "⎕← yop ← 2 3⍴178.23 0 ¯87.64 0 ¯681.19 42"
   ]
  },
  {
   "cell_type": "markdown",
   "id": "rational-science",
   "metadata": {},
   "source": [
    "Using `'B'` we can replace zeroes with blanks:"
   ]
  },
  {
   "cell_type": "code",
   "execution_count": 215,
   "id": "angry-world",
   "metadata": {},
   "outputs": [
    {
     "data": {
      "text/html": [
       "<span style=\"white-space:pre; font-family: monospace\">   178.23            ¯87.64\n",
       "           ¯681.19    42.00\n",
       "\n",
       "</span>"
      ]
     },
     "execution_count": 215,
     "metadata": {},
     "output_type": "execute_result"
    }
   ],
   "source": [
    "'BF9.2' ⎕FMT yop"
   ]
  },
  {
   "cell_type": "markdown",
   "id": "hydraulic-therapist",
   "metadata": {},
   "source": [
    "This is the same thing as using `'O'` to only replace zeroes with blanks:"
   ]
  },
  {
   "cell_type": "code",
   "execution_count": 222,
   "id": "nutritional-adelaide",
   "metadata": {},
   "outputs": [
    {
     "data": {
      "text/html": [
       "<span style=\"white-space:pre; font-family: monospace\">   178.23            ¯87.64\n",
       "           ¯681.19    42.00\n",
       "\n",
       "</span>"
      ]
     },
     "execution_count": 222,
     "metadata": {},
     "output_type": "execute_result"
    }
   ],
   "source": [
    "'O⊂⊃F9.2' ⎕FMT yop"
   ]
  },
  {
   "cell_type": "markdown",
   "id": "authentic-camcorder",
   "metadata": {},
   "source": [
    "Recall that `'O'` assumes, by default, that we want to replace zeroes with the text within `⊂ ⊃`.\n",
    "If we wanted, we could replace `42` by blanks, instead:"
   ]
  },
  {
   "cell_type": "code",
   "execution_count": 223,
   "id": "engaged-collapse",
   "metadata": {},
   "outputs": [
    {
     "data": {
      "text/html": [
       "<span style=\"white-space:pre; font-family: monospace\">   178.23     0.00   ¯87.64\n",
       "     0.00  ¯681.19         \n",
       "\n",
       "</span>"
      ]
     },
     "execution_count": 223,
     "metadata": {},
     "output_type": "execute_result"
    }
   ],
   "source": [
    "'O42⊂⊃F9.2' ⎕FMT yop"
   ]
  },
  {
   "cell_type": "markdown",
   "id": "static-simulation",
   "metadata": {},
   "source": [
    "We can also replace the value(s) by something other than blanks.\n",
    "For that, we just specify the replacement text inside the text delimiters:"
   ]
  },
  {
   "cell_type": "code",
   "execution_count": 224,
   "id": "biological-street",
   "metadata": {},
   "outputs": [
    {
     "data": {
      "text/html": [
       "<span style=\"white-space:pre; font-family: monospace\">   178.23     none   ¯87.64\n",
       "     none  ¯681.19    42.00\n",
       "\n",
       "</span>"
      ]
     },
     "execution_count": 224,
     "metadata": {},
     "output_type": "execute_result"
    }
   ],
   "source": [
    "'O⊂none⊃F9.2' ⎕FMT yop"
   ]
  },
  {
   "cell_type": "code",
   "execution_count": 231,
   "id": "invisible-recovery",
   "metadata": {},
   "outputs": [
    {
     "data": {
      "text/html": [
       "<span style=\"white-space:pre; font-family: monospace\">   178.23     0.00   ¯87.64\n",
       "     0.00  ¯681.19   2+4×10\n",
       "\n",
       "</span>"
      ]
     },
     "execution_count": 231,
     "metadata": {},
     "output_type": "execute_result"
    }
   ],
   "source": [
    "'O42⊂2+4×10⊃F9.2' ⎕FMT yop"
   ]
  },
  {
   "cell_type": "markdown",
   "id": "younger-sixth",
   "metadata": {},
   "source": [
    "Using `'L'` we can align all the values on the left instead:"
   ]
  },
  {
   "cell_type": "code",
   "execution_count": 245,
   "id": "educational-japan",
   "metadata": {},
   "outputs": [
    {
     "data": {
      "text/html": [
       "<span style=\"white-space:pre; font-family: monospace\">178.23   0.00     ¯87.64   \n",
       "0.00     ¯681.19  2+4×10   \n",
       "\n",
       "</span>"
      ]
     },
     "execution_count": 245,
     "metadata": {},
     "output_type": "execute_result"
    }
   ],
   "source": [
    "'LO42⊂2+4×10⊃F9.2' ⎕FMT yop"
   ]
  },
  {
   "cell_type": "markdown",
   "id": "republican-empire",
   "metadata": {},
   "source": [
    "If we use `Z`, then we can fill the whole field with zeroes:"
   ]
  },
  {
   "cell_type": "code",
   "execution_count": 243,
   "id": "neural-trash",
   "metadata": {},
   "outputs": [
    {
     "data": {
      "text/html": [
       "<span style=\"white-space:pre; font-family: monospace\">  42\n",
       "\n",
       "</span>"
      ]
     },
     "execution_count": 243,
     "metadata": {},
     "output_type": "execute_result"
    }
   ],
   "source": [
    "'I4' ⎕FMT 42"
   ]
  },
  {
   "cell_type": "code",
   "execution_count": 244,
   "id": "liquid-provision",
   "metadata": {},
   "outputs": [
    {
     "data": {
      "text/html": [
       "<span style=\"white-space:pre; font-family: monospace\">0042\n",
       "\n",
       "</span>"
      ]
     },
     "execution_count": 244,
     "metadata": {},
     "output_type": "execute_result"
    }
   ],
   "source": [
    "'ZI4' ⎕FMT 42"
   ]
  },
  {
   "cell_type": "markdown",
   "id": "adjacent-begin",
   "metadata": {},
   "source": [
    "#### Affixtures\n",
    "\n",
    " - `'M⊂text⊃'` replaces the **M**inus sign to the **left** of negative values with the given `text`;\n",
    " - `'N⊂text⊃'` adds the given `text` to the **right** of **n**egative values;\n",
    " - `'P⊂text⊃'` adds the given `text` to the **left**  of **p**ositive values;\n",
    " - `'Q⊂text⊃'` adds the given `text` to the **right** of positive values; and\n",
    " - `'R⊂text⊃'` **r**epeats the given `text` as many times as necessary to fill the printing zone entirely, before the digits are overlaid on top. Positions which are not occupied by the digits allow the text to appear. In other words, the `text` will act as a background for the formatted value.\n",
    "\n",
    "It is important to note that the width of the text added by an _affixture_ must be accounted for in the total width reserved for the column."
   ]
  },
  {
   "cell_type": "markdown",
   "id": "american-damages",
   "metadata": {},
   "source": [
    "#### Examples of Affixtures\n",
    "\n",
    "It is a common accounting practice to represent negative numbers surrounded by parentheses, instead of with a minus sign.\n",
    "We can easily format numbers to abide by this practice using `'M⊂(⊃'` to replace the minus sign of negative numbers with `'('` and using `'N⊂)⊃'` to add a `')'` to the right of negative numbers:"
   ]
  },
  {
   "cell_type": "code",
   "execution_count": 248,
   "id": "grateful-cover",
   "metadata": {},
   "outputs": [
    {
     "data": {
      "text/html": [
       "<span style=\"white-space:pre; font-family: monospace\">    178.23      0.00   (87.64)\n",
       "      0.00  (681.19)     42.00\n",
       "\n",
       "</span>"
      ]
     },
     "execution_count": 248,
     "metadata": {},
     "output_type": "execute_result"
    }
   ],
   "source": [
    "'M⊂(⊃N⊂)⊃F10.2' ⎕FMT yop"
   ]
  },
  {
   "cell_type": "markdown",
   "id": "adapted-karaoke",
   "metadata": {},
   "source": [
    "However, we can see that the negative values are no longer aligned with the positive ones.\n",
    "We can fix this by using the affixture `'Q'` to add a blank to the right of positive values:"
   ]
  },
  {
   "cell_type": "code",
   "execution_count": 249,
   "id": "peripheral-tragedy",
   "metadata": {},
   "outputs": [
    {
     "data": {
      "text/html": [
       "<span style=\"white-space:pre; font-family: monospace\">   178.23      0.00    (87.64)\n",
       "     0.00   (681.19)    42.00 \n",
       "\n",
       "</span>"
      ]
     },
     "execution_count": 249,
     "metadata": {},
     "output_type": "execute_result"
    }
   ],
   "source": [
    "'Q⊂ ⊃M⊂(⊃N⊂)⊃F10.2' ⎕FMT yop"
   ]
  },
  {
   "cell_type": "markdown",
   "id": "interim-hollywood",
   "metadata": {},
   "source": [
    "Now, instead of surrounding negative numbers with parentheses, suppose we want to represent them with a `'-'` instead of a `'¯'`, and also add a `'+'` to the left of the positive numbers.\n",
    "For that, we just reuse `'M'` and introduce `'P'`:"
   ]
  },
  {
   "cell_type": "code",
   "execution_count": 256,
   "id": "regulation-plant",
   "metadata": {},
   "outputs": [
    {
     "data": {
      "text/html": [
       "<span style=\"white-space:pre; font-family: monospace\">   +178.23     +0.00    -87.64\n",
       "     +0.00   -681.19    +42.00\n",
       "\n",
       "</span>"
      ]
     },
     "execution_count": 256,
     "metadata": {},
     "output_type": "execute_result"
    }
   ],
   "source": [
    "'P⊂+⊃M⊂-⊃F10.2' ⎕FMT yop"
   ]
  },
  {
   "cell_type": "markdown",
   "id": "spectacular-enforcement",
   "metadata": {},
   "source": [
    "Finally, to illustrate how the affixture `'R'` works, we will draw the representation of `yop` in a matrix of `'⎕'`'s:"
   ]
  },
  {
   "cell_type": "code",
   "execution_count": 258,
   "id": "great-stretch",
   "metadata": {},
   "outputs": [
    {
     "data": {
      "text/html": [
       "<span style=\"white-space:pre; font-family: monospace\">⎕⎕⎕⎕178.23⎕⎕⎕⎕⎕⎕0.00⎕⎕⎕⎕¯87.64\n",
       "⎕⎕⎕⎕⎕⎕0.00⎕⎕⎕¯681.19⎕⎕⎕⎕⎕42.00\n",
       "\n",
       "</span>"
      ]
     },
     "execution_count": 258,
     "metadata": {},
     "output_type": "execute_result"
    }
   ],
   "source": [
    "'R⊂⎕⊃F10.2' ⎕FMT yop"
   ]
  },
  {
   "cell_type": "markdown",
   "id": "limited-glenn",
   "metadata": {},
   "source": [
    "Notice that this is just an overlay of"
   ]
  },
  {
   "cell_type": "code",
   "execution_count": 259,
   "id": "instrumental-thompson",
   "metadata": {},
   "outputs": [
    {
     "data": {
      "text/html": [
       "<span style=\"white-space:pre; font-family: monospace\">    178.23      0.00    ¯87.64\n",
       "      0.00   ¯681.19     42.00\n",
       "\n",
       "</span>"
      ]
     },
     "execution_count": 259,
     "metadata": {},
     "output_type": "execute_result"
    }
   ],
   "source": [
    "'F10.2' ⎕FMT yop"
   ]
  },
  {
   "cell_type": "markdown",
   "id": "comprehensive-leisure",
   "metadata": {},
   "source": [
    "on top of"
   ]
  },
  {
   "cell_type": "code",
   "execution_count": 262,
   "id": "alive-portrait",
   "metadata": {},
   "outputs": [
    {
     "data": {
      "text/html": [
       "<span style=\"white-space:pre; font-family: monospace\">⎕⎕⎕⎕⎕⎕⎕⎕⎕⎕⎕⎕⎕⎕⎕⎕⎕⎕⎕⎕⎕⎕⎕⎕⎕⎕⎕⎕⎕⎕\n",
       "⎕⎕⎕⎕⎕⎕⎕⎕⎕⎕⎕⎕⎕⎕⎕⎕⎕⎕⎕⎕⎕⎕⎕⎕⎕⎕⎕⎕⎕⎕\n",
       "\n",
       "</span>"
      ]
     },
     "execution_count": 262,
     "metadata": {},
     "output_type": "execute_result"
    }
   ],
   "source": [
    "(⍴'F10.2' ⎕FMT yop)⍴'⎕'"
   ]
  },
  {
   "cell_type": "markdown",
   "id": "married-definition",
   "metadata": {},
   "source": [
    "#### Remarks on Qualifiers and Affixtures\n",
    "\n",
    " - Qualifiers and affixtures can be cumulated and can be placed in any order.\n",
    "\n",
    "For example,"
   ]
  },
  {
   "cell_type": "code",
   "execution_count": 268,
   "id": "absent-custom",
   "metadata": {},
   "outputs": [
    {
     "data": {
      "text/html": [
       "<span style=\"white-space:pre; font-family: monospace\">     21,21  1 534,88    375,46    704,50\n",
       "  1 125,14  1 963,52    464,45  1 438,25\n",
       "    796,53  1 569,00    157,14    886,59\n",
       "\n",
       "</span>"
      ]
     },
     "execution_count": 268,
     "metadata": {},
     "output_type": "execute_result"
    }
   ],
   "source": [
    "'S⊂, .,⊃CF10.2' ⎕FMT nm"
   ]
  },
  {
   "cell_type": "code",
   "execution_count": 269,
   "id": "blessed-mexican",
   "metadata": {},
   "outputs": [
    {
     "data": {
      "text/html": [
       "<span style=\"white-space:pre; font-family: monospace\">     21,21  1 534,88    375,46    704,50\n",
       "  1 125,14  1 963,52    464,45  1 438,25\n",
       "    796,53  1 569,00    157,14    886,59\n",
       "\n",
       "</span>"
      ]
     },
     "execution_count": 269,
     "metadata": {},
     "output_type": "execute_result"
    }
   ],
   "source": [
    "'CS⊂, .,⊃F10.2' ⎕FMT nm"
   ]
  },
  {
   "cell_type": "markdown",
   "id": "integrated-single",
   "metadata": {},
   "source": [
    " - Blanks can be inserted between specifications, qualifiers, and affixtures.\n",
    "\n",
    "For example,"
   ]
  },
  {
   "cell_type": "code",
   "execution_count": 270,
   "id": "returning-triple",
   "metadata": {},
   "outputs": [
    {
     "data": {
      "text/html": [
       "<span style=\"white-space:pre; font-family: monospace\">     21,21  1 534,88    375,46    704,50\n",
       "  1 125,14  1 963,52    464,45  1 438,25\n",
       "    796,53  1 569,00    157,14    886,59\n",
       "\n",
       "</span>"
      ]
     },
     "execution_count": 270,
     "metadata": {},
     "output_type": "execute_result"
    }
   ],
   "source": [
    "'S⊂, .,⊃CF10.2' ⎕FMT nm"
   ]
  },
  {
   "cell_type": "code",
   "execution_count": 272,
   "id": "olympic-presence",
   "metadata": {},
   "outputs": [
    {
     "data": {
      "text/html": [
       "<span style=\"white-space:pre; font-family: monospace\">     21,21  1 534,88    375,46    704,50\n",
       "  1 125,14  1 963,52    464,45  1 438,25\n",
       "    796,53  1 569,00    157,14    886,59\n",
       "\n",
       "</span>"
      ]
     },
     "execution_count": 272,
     "metadata": {},
     "output_type": "execute_result"
    }
   ],
   "source": [
    "'S⊂, .,⊃ C F10.2' ⎕FMT nm"
   ]
  },
  {
   "cell_type": "markdown",
   "id": "unusual-absence",
   "metadata": {},
   "source": [
    " - A repetition factor can apply to a group of descriptors placed between parentheses, like we have seen above.\n",
    "\n",
    "We replicate a similar example here:"
   ]
  },
  {
   "cell_type": "code",
   "execution_count": 275,
   "id": "organic-leisure",
   "metadata": {},
   "outputs": [
    {
     "data": {
      "text/html": [
       "<span style=\"white-space:pre; font-family: monospace\">05/03/98\n",
       "\n",
       "</span>"
      ]
     },
     "execution_count": 275,
     "metadata": {},
     "output_type": "execute_result"
    }
   ],
   "source": [
    "'ZI2,2(⊂/⊃,ZI2)' ⎕FMT 1 3⍴5 3 98"
   ]
  },
  {
   "cell_type": "markdown",
   "id": "conceptual-sympathy",
   "metadata": {},
   "source": [
    " - Various errors may occur, all signalled by the message `'FORMAT ERROR'`. Here are some frequent errors:\n",
    "   - a numeric value is matched with an `'A'` specification;\n",
    "   - character data is matched with a specification other than `'A'`;\n",
    "   - the format specification is ill-shaped (in that case, check that delimiters and parentheses are well balanced);\n",
    "   - in decimal specifications (`'F'` and `'E'`), the specified width is too small, so the decimal digits cannot be represented; and\n",
    "   - you are using incompatible qualifiers and/or specifications (for example, mixing `'L'` with `'Z'` in the same specification)."
   ]
  },
  {
   "cell_type": "markdown",
   "id": "english-front",
   "metadata": {},
   "source": [
    "![Dyalog APL programming is pure Art.](res/Programming_Art.png)"
   ]
  },
  {
   "cell_type": "markdown",
   "id": "interstate-poland",
   "metadata": {},
   "source": [
    "## The Specialist's Section\n",
    "\n",
    "<br />\n",
    "<center><i>Each chapter is followed by a \"Specialist's Section\" like this one. This section is dedicated to skilled APLers, who wish to improve their knowledge.</i>\n",
    "\n",
    "You will find here rare or complex usages of the concepts presented in this chapter, or discover extended explanations which need the knowledge of some symbols that will be seen much further in the book.\n",
    "\n",
    "<b>If you are exploring APL for the first time, skip this section and go to the next chapter.</b></center>"
   ]
  },
  {
   "cell_type": "markdown",
   "id": "becoming-johns",
   "metadata": {},
   "source": [
    "### Execute\n",
    "\n",
    "#### Name Conflict\n",
    "\n",
    "Suppose that we would like to switch two letters inside a word.\n",
    "Let us write a function which accepts the index of the letters to switch as its left argument, and the **name** of an existing variable as its right argument.\n",
    "\n",
    "It is important to note that the function works on the **name** of the variable, not on its **value**:"
   ]
  },
  {
   "cell_type": "code",
   "execution_count": 278,
   "id": "imported-european",
   "metadata": {},
   "outputs": [],
   "source": [
    "]dinput\n",
    "Exchange ← {\n",
    "    v ← ⌽⍺\n",
    "    text ← ⍵,'[⍺]←',⍵,'[v]'\n",
    "    ⍎text\n",
    "}"
   ]
  },
  {
   "cell_type": "markdown",
   "id": "consolidated-samuel",
   "metadata": {},
   "source": [
    "Now we create a character vector containing a word, call our function to exchange two characters, and then check the value of the variable again:"
   ]
  },
  {
   "cell_type": "code",
   "execution_count": 283,
   "id": "voluntary-liechtenstein",
   "metadata": {},
   "outputs": [
    {
     "data": {
      "text/html": [
       "<span style=\"white-space:pre; font-family: monospace\">molar\n",
       "\n",
       "</span>"
      ]
     },
     "execution_count": 283,
     "metadata": {},
     "output_type": "execute_result"
    }
   ],
   "source": [
    "word ← 'moral'\n",
    "3 5 Exchange 'word'\n",
    "word"
   ]
  },
  {
   "cell_type": "markdown",
   "id": "solved-alias",
   "metadata": {},
   "source": [
    "In our example, `⍵` was equal to `'word'`, so the statement that assigns to `text` was equivalent to `text ← 'word[⍺]←word[v]'`.\n",
    "\n",
    "All is well up to now.\n",
    "But now, let us try again on another variable:"
   ]
  },
  {
   "cell_type": "code",
   "execution_count": 287,
   "id": "determined-handle",
   "metadata": {},
   "outputs": [
    {
     "data": {
      "text/html": [
       "<span style=\"white-space:pre; font-family: monospace\">rats\n",
       "\n",
       "</span>"
      ]
     },
     "execution_count": 287,
     "metadata": {},
     "output_type": "execute_result"
    }
   ],
   "source": [
    "v ← 'rats'\n",
    "1 2 Exchange 'v'\n",
    "v"
   ]
  },
  {
   "cell_type": "markdown",
   "id": "hidden-tooth",
   "metadata": {},
   "source": [
    "The result now is **wrong**, it should have been `'arts'`.\n",
    "The reason is that the assignment to `text` is equivalent to `text ← 'v[⍺]←v[v]'`, but `v` is the name of a local variable in the function.\n",
    "When the last statement is executed, it exchanges items inside the **local** variable, not in the global one, which remains unchanged!\n",
    "\n",
    "In fact, if we call `Exchange` with larger indices, we get an `INDEX ERROR` because the local variable `v` only has two elements:"
   ]
  },
  {
   "cell_type": "code",
   "execution_count": 289,
   "id": "aware-routine",
   "metadata": {},
   "outputs": [
    {
     "name": "stderr",
     "output_type": "stream",
     "text": [
      "⍎INDEX ERROR\n",
      "Exchange[3] v[⍺]←v[v]\n",
      "                  ∧\n"
     ]
    }
   ],
   "source": [
    "1 4 Exchange 'v'"
   ]
  },
  {
   "cell_type": "markdown",
   "id": "informal-radical",
   "metadata": {},
   "source": [
    "In other words, be careful when _execute_ is expected to work on global names, as there may be a risk of conflict with local names.\n",
    "In order to reduce this risk, programmers sometimes use complex and weird names for the local names in such functions.\n",
    "Another alternative is to try and write your functions to not rely on `⍎` for this kind of things, as that creates code that is much harder to debug; instead, write functions that take arguments and return their results explicitly.\n",
    "See, for example, [the subsection “Why Should a Function Return a Result?”](./User-Defined-Functions.ipynb#Why-Should-a-Function-Return-a-Result?)."
   ]
  },
  {
   "cell_type": "code",
   "execution_count": null,
   "id": "crazy-reviewer",
   "metadata": {},
   "outputs": [],
   "source": []
  }
 ],
 "metadata": {
  "kernelspec": {
   "display_name": "Dyalog APL",
   "language": "apl",
   "name": "dyalog-kernel"
  },
  "language_info": {
   "file_extension": ".apl",
   "mimetype": "text/apl",
   "name": "APL"
  },
  "toc": {
   "base_numbering": 1,
   "nav_menu": {},
   "number_sections": false,
   "sideBar": true,
   "skip_h1_title": true,
   "title_cell": "Table of Contents",
   "title_sidebar": "Contents",
   "toc_cell": false,
   "toc_position": {},
   "toc_section_display": true,
   "toc_window_display": false
  }
 },
 "nbformat": 4,
 "nbformat_minor": 5
}
