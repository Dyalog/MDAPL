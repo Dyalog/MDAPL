{
 "cells": [
  {
   "cell_type": "markdown",
   "metadata": {},
   "source": [
    "# Appendices\n",
    "\n",
    "## Scalar Functions\n",
    "\n",
    "| Function                | Monadic | Dyadic  | Function                 |                \n",
    "| :-                      | :-:     | :-:     | :-                       |                \n",
    "| Conjugate               | `+ B`   | `A + B` | Plus                     |                \n",
    "| Negate                  | `- B`   | `A - B` | Minus                    |                \n",
    "| Direction               | `× B`   | `A × B` | Times                    |                \n",
    "| Reciprocal              | `÷ B`   | `A ÷ B` | Divide                   |                \n",
    "| Magnitude               | `\\| B`  | `A\\| B` | Residue                  | \n",
    "| Floor                   | `⌊ B`   | `A ⌊ B` | Minimum                  |                \n",
    "| Ceiling                 | `⌈ B`   | `A ⌈ B` | Maximum                  |                \n",
    "| Exponential             | `* B`   | `A * B` | Power                    |                \n",
    "| Natural Logarithm       | `⍟ B`   | `A ⍟ B` | Logarithm                |                \n",
    "| Pi Times                | `○ B`   | `A ○ B` | Circular Functions       |                \n",
    "| Factorial               | `! B`   | `A ! B` | Binomial                 |                \n",
    "| Not                     | `~ B`   |         | *Not a scalar function*  |                \n",
    "| Roll                    | `? B`   |         | *Not a scalar function*  |                \n",
    "|                         |         | `A ∧ B` | AND / LCM                |                \n",
    "|                         |         | `A ∨ B` | OR / GCD                 |                \n",
    "|                         |         | `A ⍲ B` | NAND                     |                \n",
    "|                         |         | `A ⍱ B` | NOR                      |                \n",
    "|                         |         | `A < B` | Less Than                |                \n",
    "|                         |         | `A ≤ B` | Less Than Or Equal To    |                \n",
    "|                         |         | `A = B` | Equal To                 |                \n",
    "|                         |         | `A ≥ B` | Greater Than Or Equal To |                \n",
    "|                         |         | `A > B` | Greater Than             |                \n",
    "| *Not a scalar function* |         | `A ≠ B` | Not Equal To             |                \n",
    "| Same                    | `⊢ B`   |         | *Not a scalar function*  |                \n",
    "| Same                    | `⊣ B`   |         | *Not a scalar function*  |"
   ]
  },
  {
   "cell_type": "markdown",
   "metadata": {},
   "source": [
    "## Invoking the Editor\n",
    "\n",
    "The editor provided with Dyalog APL can be invoked by double-clicking the name of an *existing* object. Then the editor knows the type of the object and adapts its behaviour accordingly.\n",
    "\n",
    "The system command `)ED` opens the editor and can be used to create a *new* object. By default a new function is created.\n",
    "\n",
    "A prefix can be used to specify the type of the new object, according to the following table:\n",
    "\n",
    "| Prefix | Example | Object Created |\n",
    "| :-: | :- | :- |\n",
    "| none | `)ed New` | Function | \n",
    "| `∇` | `)ed ∇ Borscht` | Function |\n",
    "| `-` | `)ed - papyrus` | Simple character matrix |\n",
    "| `→` | `)ed → crouton` | Simple character vector |\n",
    "| `∊` | `)ed ∊ grunt` | Nested vector of character vectors |\n",
    "| `⍟` | `)ed ⍟ Ns` | Namespace script |\n",
    "| `○` | `)ed ○ Myclass` | Class script |\n",
    "| `∘` | `)ed ∘ Bridge` | Interface script |\n",
    "\n",
    "It is possible to open several edit windows using a single command. For example, `)ed Tyrex -moose` will open two edit windows. The first to create or edit a function named `Tyrex` and the second to create a character matrix named `moose`.\n",
    "\n",
    "If a prefix is specified for the name of an already existing object, the prefix is ignored and the editor is invoked according to the type of the existing object.\n",
    "\n",
    "More information is available at [Dyalog's help page for the \"Edit Object\"](https://help.dyalog.com/latest/#Language/System%20Commands/ed.htm?Highlight=ed)."
   ]
  },
  {
   "cell_type": "markdown",
   "metadata": {},
   "source": [
    "## Dyalog APL Operators\n",
    "\n",
    "The following table of primitive operators in Dyalog APL uses the following conventions:\n",
    "\n",
    " - `f` and `g` represent functions: primitive, user defined or derived from another operator;\n",
    " - `X` and `Y` represent the left and right arguments of the derived function, respectively;\n",
    " - `A` and `B` are arrays and they represent left and right operands, respectively;\n",
    " - `N` also represents an array operand, specifically a numeric one;\n",
    " - a distinction is made between the syntax of the operator itself (\"Op\" in the table below) and the syntax of its derived function (\"Fun\" in the table below), as a monadic operator can generate a dyadic derived function or a dyadic operator can generate a monadic derived function; the syntax is indicated by M for *Monadic* and D for *Dyadic*.\n",
    " \n",
    "| Name                  | Op  | Fun | Notation               | Example                       |                            \n",
    "| :-                    | :-: | :-: | :-                     | :-:                           |                            \n",
    "| Each                  | M   | M   | `f¨Y`                  | `⍴¨Y`                         |                            \n",
    "|                       |     | D   | `X f¨ Y`               | `3↑¨Y`                        |                            \n",
    "| Reduce                | M   | M   | `f/Y`                  | `+/Y`                         |                            \n",
    "| Reduce $n$-Wise       | M   | D   | `X f/Y`                | `2+/Y`                        |                            \n",
    "| Reduce First          | M   | M   | `f⌿Y`                  | `+⌿Y`                         |                            \n",
    "| Reduce First $n$-Wise | M   | D   | `X f⌿Y`                | `2+⌿Y`                        |                            \n",
    "| Axis(\\*)              | D   | M   | `f[n] Y`               | `↓[1]Y`                       |                            \n",
    "|                       |     | D   | `X f[n] Y`             | `X,[1]Y`                      |                            \n",
    "| Scan                  | M   | M   | `f\\Y`                  | `×\\Y`                         |                            \n",
    "| Scan First            | M   | M   | `y⍀Y`                  | `×⍀Y`                         |                            \n",
    "| Outer Product         | D   | D   | `X ∘.f Y`              | `X ∘.< Y`                     |                            \n",
    "| Inner Product         | D   | M   | `X f.g Y`              | `X +.× Y`                     |                            \n",
    "| Commute               | M   | M   | `f⍨ Y`                 | `=⍨ Y`                        |                            \n",
    "|                       |     | D   | `X f⍨ Y`               | `X-⍨Y`                        |                            \n",
    "| Constant              | M   | M   | `A⍨ Y`                 | `3⍨¨Y`                        |                            \n",
    "|                       |     | D   | `X A⍨ Y`               | `X 0⍨ Y`                      |                            \n",
    "| Beside                | D   | M   | `f∘g Y`                | `⍴∘⍴Y`                        |                            \n",
    "|                       |     | D   | `X f∘g Y`              | `3↑∘⍴¨Y`                      |                            \n",
    "| Bind                  |     | M   | `A∘g Y`                | `2 2∘⍴¨Y`                     |                            \n",
    "|                       |     | M   | `(f∘B) Y`              | `,∘'...'¨Y`                   |                            \n",
    "| Over                  | D   | M   | `f⍥g Y`                | `÷⍥\\|Y`                      |                        \n",
    "|                       |     | D   | `X f⍥g Y`              | `X⌈⍥\\|Y`                     |                        \n",
    "| Atop                  | D   | M   | `f⍤g Y`                | `-⍤÷Y`                        |                            \n",
    "|                       |     | D   | `X f⍤g Y`              | `X⍴⍤,Y`                       |                            \n",
    "| Rank                  | D   | M   | `(f⍤B) Y`              | `(⍋⍤1)Y`                      |                            \n",
    "|                       |     | D   | `X (f⍤B) Y`            | `X(+⍤0 1)Y`                   |                            \n",
    "| At (indices)          | D   | M   | `(A@B) Y` or `(f@B) Y` | `(0@2 4)Y`                    |                            \n",
    "|                       |     | D   | `X (f@B) Y`            | `10(×@2 4)Y`                  |                            \n",
    "| At (mask)             | D   | M   | `A@g Y` or `f@g Y`     | `÷@(2∘\\|)Y`                   |                       \n",
    "|                       |     | D   | `X f@g Y`              | `X×@(2∘\\|)Y`                  |                       \n",
    "| Spawn                 | M   | M   | `f& Y`                 | `⌹&Y`                         |                            \n",
    "|                       |     | D   | `X f& Y`               | `X⍳&Y`                        |                            \n",
    "| Power (repeat)        | D   | M   | `(f⍣B) Y`              | `(⊃⍣3)Y`                      |                            \n",
    "|                       |     | D   | `X (f⍣B) Y`            | `1(+⍣5)10`                    |                            \n",
    "| Power (until)         | D   | M   | `f⍣g Y`                | `(⊃⍣≡)Y`                      |                            \n",
    "|                       |     | D   | `X f⍣g Y`              | `1+∘÷⍣=1`                     |                            \n",
    "| Key                   | M   | M   | `f⌸ Y`                 | `,⌸Y`                         |                            \n",
    "|                       |     | D   | `X f⌸ Y`               | `X,⌸Y`                        |                            \n",
    "| Stencil               | D   | M   | `(f⌺B) Y`              | `({⊂⍵}⌺2 2)Y`                 |                            \n",
    "| I-Beam                | M   | M   | `N⌶ Y`                 | `8415⌶Y`                      |                            \n",
    "|                       |     | D   | `X (N⌶) Y`             | `1(219⌶)⍳10`                  |                            \n",
    "| Variant               | D   | M   | `(f⍠B) Y`              | `('a'⎕S 0)⍠1⊢Y`               |                            \n",
    "|                       |     | D   | `X (f⍠B) Y`            | `0(⎕JSON⍠'Dialect' 'JSON5')Y` |\n",
    "\n",
    "(*): Strictly speaking, axis is not an operator, cf. [the chapter on operators](./Operators.ipynb)."
   ]
  },
  {
   "cell_type": "markdown",
   "metadata": {},
   "source": [
    "## Event Numbers\n",
    "\n",
    "This page provides a reference table with all the event numbers and their assigned meanings.\n",
    "We build the table by making use of the `⎕EM` *system function*, and then we filter event numbers that do not have an assigned meaning."
   ]
  },
  {
   "cell_type": "code",
   "execution_count": 18,
   "metadata": {},
   "outputs": [
    {
     "data": {
      "text/html": [
       "<span style=\"white-space:pre; font-family: monospace\">┌────┬─────────────────────────────────────────────────┬────┬──────────────────────────────────────────────┐\n",
       "│1   │WS FULL                                          │2   │SYNTAX ERROR                                  │\n",
       "├────┼─────────────────────────────────────────────────┼────┼──────────────────────────────────────────────┤\n",
       "│3   │INDEX ERROR                                      │4   │RANK ERROR                                    │\n",
       "├────┼─────────────────────────────────────────────────┼────┼──────────────────────────────────────────────┤\n",
       "│5   │LENGTH ERROR                                     │6   │VALUE ERROR                                   │\n",
       "├────┼─────────────────────────────────────────────────┼────┼──────────────────────────────────────────────┤\n",
       "│7   │FORMAT ERROR                                     │10  │LIMIT ERROR                                   │\n",
       "├────┼─────────────────────────────────────────────────┼────┼──────────────────────────────────────────────┤\n",
       "│11  │DOMAIN ERROR                                     │12  │HOLD ERROR                                    │\n",
       "├────┼─────────────────────────────────────────────────┼────┼──────────────────────────────────────────────┤\n",
       "│13  │OPTION ERROR                                     │15  │LST FULL                                      │\n",
       "├────┼─────────────────────────────────────────────────┼────┼──────────────────────────────────────────────┤\n",
       "│16  │NONCE ERROR                                      │17  │ACCESS ERROR                                  │\n",
       "├────┼─────────────────────────────────────────────────┼────┼──────────────────────────────────────────────┤\n",
       "│18  │FILE TIE ERROR                                   │19  │FILE ACCESS ERROR                             │\n",
       "├────┼─────────────────────────────────────────────────┼────┼──────────────────────────────────────────────┤\n",
       "│20  │FILE INDEX ERROR                                 │21  │FILE FULL                                     │\n",
       "├────┼─────────────────────────────────────────────────┼────┼──────────────────────────────────────────────┤\n",
       "│22  │FILE NAME ERROR                                  │23  │FILE DAMAGED                                  │\n",
       "├────┼─────────────────────────────────────────────────┼────┼──────────────────────────────────────────────┤\n",
       "│24  │FILE TIED                                        │25  │FILE TIED REMOTELY                            │\n",
       "├────┼─────────────────────────────────────────────────┼────┼──────────────────────────────────────────────┤\n",
       "│26  │FILE SYSTEM ERROR                                │28  │FILE SYSTEM NOT AVAILABLE                     │\n",
       "├────┼─────────────────────────────────────────────────┼────┼──────────────────────────────────────────────┤\n",
       "│30  │FILE SYSTEM TIES USED UP                         │31  │FILE TIE QUOTA USED UP                        │\n",
       "├────┼─────────────────────────────────────────────────┼────┼──────────────────────────────────────────────┤\n",
       "│32  │FILE NAME QUOTA USED UP                          │34  │FILE SYSTEM NO SPACE                          │\n",
       "├────┼─────────────────────────────────────────────────┼────┼──────────────────────────────────────────────┤\n",
       "│35  │FILE ACCESS ERROR - CONVERTING FILE              │36  │INCOMPATIBLE ARRAY                            │\n",
       "├────┼─────────────────────────────────────────────────┼────┼──────────────────────────────────────────────┤\n",
       "│38  │FILE COMPONENT DAMAGED                           │52  │FIELD CONTENTS RANK ERROR                     │\n",
       "├────┼─────────────────────────────────────────────────┼────┼──────────────────────────────────────────────┤\n",
       "│53  │FIELD CONTENTS TOO MANY COLUMNS                  │54  │FIELD POSITION ERROR                          │\n",
       "├────┼─────────────────────────────────────────────────┼────┼──────────────────────────────────────────────┤\n",
       "│55  │FIELD SIZE ERROR                                 │56  │FIELD CONTENTS/TYPE MISMATCH                  │\n",
       "├────┼─────────────────────────────────────────────────┼────┼──────────────────────────────────────────────┤\n",
       "│57  │FIELD TYPE/BEHAVIOUR UNRECOGNISED                │58  │FIELD ATTRIBUTES RANK ERROR                   │\n",
       "├────┼─────────────────────────────────────────────────┼────┼──────────────────────────────────────────────┤\n",
       "│59  │FIELD ATTRIBUTES LENGTH ERROR                    │60  │FULL-SCREEN ERROR                             │\n",
       "├────┼─────────────────────────────────────────────────┼────┼──────────────────────────────────────────────┤\n",
       "│61  │KEY CODE UNRECOGNISED                            │62  │KEY CODE RANK ERROR                           │\n",
       "├────┼─────────────────────────────────────────────────┼────┼──────────────────────────────────────────────┤\n",
       "│63  │KEY CODE TYPE ERROR                              │70  │FORMAT FILE ACCESS ERROR                      │\n",
       "├────┼─────────────────────────────────────────────────┼────┼──────────────────────────────────────────────┤\n",
       "│71  │FORMAT FILE ERROR                                │72  │NO PIPES                                      │\n",
       "├────┼─────────────────────────────────────────────────┼────┼──────────────────────────────────────────────┤\n",
       "│73  │LOST SLAVE                                       │76  │UNABLE TO FORK PROCESS                        │\n",
       "├────┼─────────────────────────────────────────────────┼────┼──────────────────────────────────────────────┤\n",
       "│84  │TRAP ERROR                                       │86  │FUTURE ERROR                                  │\n",
       "├────┼─────────────────────────────────────────────────┼────┼──────────────────────────────────────────────┤\n",
       "│90  │EXCEPTION                                        │91  │EXTERNAL DLL EXCEPTION                        │\n",
       "├────┼─────────────────────────────────────────────────┼────┼──────────────────────────────────────────────┤\n",
       "│92  │TRANSLATION ERROR                                │93  │UNACCEPTABLE CHARACTER                        │\n",
       "├────┼─────────────────────────────────────────────────┼────┼──────────────────────────────────────────────┤\n",
       "│94  │CHARACTER NOT REPRESENTABLE IN CLASSIC           │98  │AFFIRM ERROR                                  │\n",
       "├────┼─────────────────────────────────────────────────┼────┼──────────────────────────────────────────────┤\n",
       "│99  │INTERNAL ERROR                                   │101 │FILE ERROR 1 Operation not permitted          │\n",
       "├────┼─────────────────────────────────────────────────┼────┼──────────────────────────────────────────────┤\n",
       "│102 │FILE ERROR 2 No such file or directory           │103 │FILE ERROR 3 No such process                  │\n",
       "├────┼─────────────────────────────────────────────────┼────┼──────────────────────────────────────────────┤\n",
       "│104 │FILE ERROR 4 Interrupted function call           │105 │FILE ERROR 5 Input/output error               │\n",
       "├────┼─────────────────────────────────────────────────┼────┼──────────────────────────────────────────────┤\n",
       "│106 │FILE ERROR 6 No such device or address           │107 │FILE ERROR 7 Arg list too long                │\n",
       "├────┼─────────────────────────────────────────────────┼────┼──────────────────────────────────────────────┤\n",
       "│108 │FILE ERROR 8 Exec format error                   │109 │FILE ERROR 9 Bad file descriptor              │\n",
       "├────┼─────────────────────────────────────────────────┼────┼──────────────────────────────────────────────┤\n",
       "│110 │FILE ERROR 10 No child processes                 │111 │FILE ERROR 11 Resource temporarily unavailable│\n",
       "├────┼─────────────────────────────────────────────────┼────┼──────────────────────────────────────────────┤\n",
       "│112 │FILE ERROR 12 Not enough space                   │113 │FILE ERROR 13 Permission denied               │\n",
       "├────┼─────────────────────────────────────────────────┼────┼──────────────────────────────────────────────┤\n",
       "│114 │FILE ERROR 14 Bad address                        │116 │FILE ERROR 16 Resource device                 │\n",
       "├────┼─────────────────────────────────────────────────┼────┼──────────────────────────────────────────────┤\n",
       "│117 │FILE ERROR 17 File exists                        │118 │FILE ERROR 18 Improper link                   │\n",
       "├────┼─────────────────────────────────────────────────┼────┼──────────────────────────────────────────────┤\n",
       "│119 │FILE ERROR 19 No such device                     │120 │FILE ERROR 20 Not a directory                 │\n",
       "├────┼─────────────────────────────────────────────────┼────┼──────────────────────────────────────────────┤\n",
       "│121 │FILE ERROR 21 Is a directory                     │122 │FILE ERROR 22 Invalid argument                │\n",
       "├────┼─────────────────────────────────────────────────┼────┼──────────────────────────────────────────────┤\n",
       "│123 │FILE ERROR 23 Too many open files in system      │124 │FILE ERROR 24 Too many open files             │\n",
       "├────┼─────────────────────────────────────────────────┼────┼──────────────────────────────────────────────┤\n",
       "│125 │FILE ERROR 25 Inappropriate I/O control operation│127 │FILE ERROR 27 File too large                  │\n",
       "├────┼─────────────────────────────────────────────────┼────┼──────────────────────────────────────────────┤\n",
       "│128 │FILE ERROR 28 No space left on device            │129 │FILE ERROR 29 Invalid seek                    │\n",
       "├────┼─────────────────────────────────────────────────┼────┼──────────────────────────────────────────────┤\n",
       "│130 │FILE ERROR 30 Read-only file system              │131 │FILE ERROR 31 Too many links                  │\n",
       "├────┼─────────────────────────────────────────────────┼────┼──────────────────────────────────────────────┤\n",
       "│132 │FILE ERROR 32 Broken pipe                        │133 │FILE ERROR 33 Domain error                    │\n",
       "├────┼─────────────────────────────────────────────────┼────┼──────────────────────────────────────────────┤\n",
       "│134 │FILE ERROR 34 Result too large                   │136 │FILE ERROR 36 Resource deadlock avoided       │\n",
       "├────┼─────────────────────────────────────────────────┼────┼──────────────────────────────────────────────┤\n",
       "│138 │FILE ERROR 38 Filename too long                  │139 │FILE ERROR 39 No locks available              │\n",
       "├────┼─────────────────────────────────────────────────┼────┼──────────────────────────────────────────────┤\n",
       "│140 │FILE ERROR 40 Function not implemented           │141 │FILE ERROR 41 Directory not empty             │\n",
       "├────┼─────────────────────────────────────────────────┼────┼──────────────────────────────────────────────┤\n",
       "│142 │FILE ERROR 42 Illegal byte sequence              │1003│INTERRUPT                                     │\n",
       "├────┼─────────────────────────────────────────────────┼────┼──────────────────────────────────────────────┤\n",
       "│1004│INPUT INTERRUPT                                  │1005│EOF INTERRUPT                                 │\n",
       "├────┼─────────────────────────────────────────────────┼────┼──────────────────────────────────────────────┤\n",
       "│1006│TIMEOUT                                          │1007│RESIZE                                        │\n",
       "├────┼─────────────────────────────────────────────────┼────┼──────────────────────────────────────────────┤\n",
       "│1008│DEADLOCK                                         │-   │-                                             │\n",
       "└────┴─────────────────────────────────────────────────┴────┴──────────────────────────────────────────────┘\n",
       "</span>"
      ]
     },
     "execution_count": 18,
     "metadata": {},
     "output_type": "execute_result"
    }
   ],
   "source": [
    "data ← ('-' '-'),⍨,(⍪,⎕EM¨)({(⊂⍬)≡¨('^$' '^ERROR \\d+$' '^FILE ERROR \\d+ Unknown error$'⎕S⊢)∘⎕EM¨⍵}⊢⍤⌿⍪)⍳2000\n",
    "data⍴⍨(⌊4÷⍨≢data) 4"
   ]
  },
  {
   "cell_type": "markdown",
   "metadata": {},
   "source": [
    "## Variables\n",
    "\n",
    "This appendix lists variables and utility functions that are used repeatedly throughout the book."
   ]
  },
  {
   "cell_type": "code",
   "execution_count": 1,
   "metadata": {},
   "outputs": [
    {
     "data": {
      "text/html": [
       "<span style=\"white-space:pre; font-family: monospace\">2121 4778 4914 3139 4561 221 1252 1530 4475 332 3507 1829 1710 4964 3849 669 3653 3415 3867 151\n",
       "\n",
       "</span>"
      ]
     },
     "execution_count": 1,
     "metadata": {},
     "output_type": "execute_result"
    }
   ],
   "source": [
    "⎕RL ← 73\n",
    "⎕← salaries ← ?20⍴5000"
   ]
  },
  {
   "cell_type": "code",
   "execution_count": 2,
   "metadata": {},
   "outputs": [
    {
     "data": {
      "text/html": [
       "<span style=\"white-space:pre; font-family: monospace\"> 90 160 420 500  20  30\n",
       "110 450 170 370 290 360\n",
       "340 190 320 120 510 370\n",
       "150 460 240 520 490 280\n",
       "\n",
       "</span>"
      ]
     },
     "execution_count": 2,
     "metadata": {},
     "output_type": "execute_result"
    }
   ],
   "source": [
    "⎕RL ← 73\n",
    "⎕← forecast ← 10×?4 6⍴55"
   ]
  },
  {
   "cell_type": "code",
   "execution_count": 3,
   "metadata": {},
   "outputs": [
    {
     "data": {
      "text/html": [
       "<span style=\"white-space:pre; font-family: monospace\"> 89 166 420 508  12  23\n",
       "111 453 177 365 284 352\n",
       "349 192 329 115 515 374\n",
       "160 467 234 519 485 283\n",
       "\n",
       "</span>"
      ]
     },
     "execution_count": 3,
     "metadata": {},
     "output_type": "execute_result"
    }
   ],
   "source": [
    "⎕RL ← 73\n",
    "⎕← actual ← forecast + ¯10+?4 6⍴20"
   ]
  },
  {
   "cell_type": "code",
   "execution_count": 4,
   "metadata": {},
   "outputs": [
    {
     "data": {
      "text/html": [
       "<span style=\"white-space:pre; font-family: monospace\">H2SO4\n",
       "CaCO3\n",
       "Fe2O3\n",
       "\n",
       "</span>"
      ]
     },
     "execution_count": 4,
     "metadata": {},
     "output_type": "execute_result"
    }
   ],
   "source": [
    "⎕← chemistry ← 3 5⍴'H2SO4CaCO3Fe2O3'"
   ]
  },
  {
   "cell_type": "code",
   "execution_count": 8,
   "metadata": {},
   "outputs": [
    {
     "data": {
      "text/html": [
       "<span style=\"white-space:pre; font-family: monospace\">January \n",
       "February\n",
       "March   \n",
       "April   \n",
       "May     \n",
       "June    \n",
       "\n",
       "</span>"
      ]
     },
     "execution_count": 8,
     "metadata": {},
     "output_type": "execute_result"
    }
   ],
   "source": [
    "⎕← monMat ← 6 8⍴'January FebruaryMarch   April   May     June    '"
   ]
  },
  {
   "cell_type": "code",
   "execution_count": 5,
   "metadata": {},
   "outputs": [
    {
     "data": {
      "text/html": [
       "<span style=\"white-space:pre; font-family: monospace\">┌──────┬───┬─────┐\n",
       "│Dyalog│44 │Hello│\n",
       "├──────┼───┼─────┤\n",
       "│27    │8 6│1 2 0│\n",
       "│      │2 4│0 0 5│\n",
       "└──────┴───┴─────┘\n",
       "</span>"
      ]
     },
     "execution_count": 5,
     "metadata": {},
     "output_type": "execute_result"
    }
   ],
   "source": [
    "⎕← nesMat ← 2 3 ⍴ 'Dyalog' 44 'Hello' 27 (2 2 ⍴ 8 6 2 4) (2 3⍴1 2 0 0 0 5)"
   ]
  },
  {
   "cell_type": "code",
   "execution_count": 6,
   "metadata": {},
   "outputs": [
    {
     "data": {
      "text/html": [
       "<span style=\"white-space:pre; font-family: monospace\">  21.21 1534.88 375.46  704.5 \n",
       "1125.14 1963.52 464.45 1438.25\n",
       " 796.53 1569    157.14  886.59\n",
       "</span>"
      ]
     },
     "execution_count": 6,
     "metadata": {},
     "output_type": "execute_result"
    }
   ],
   "source": [
    "⎕RL ← 73\n",
    "⎕← nm ← (?3 4⍴200000)÷100"
   ]
  },
  {
   "cell_type": "code",
   "execution_count": null,
   "metadata": {},
   "outputs": [],
   "source": []
  }
 ],
 "metadata": {
  "kernelspec": {
   "display_name": "Dyalog APL",
   "language": "apl",
   "name": "dyalog-kernel"
  },
  "language_info": {
   "file_extension": ".apl",
   "mimetype": "text/apl",
   "name": "APL"
  },
  "toc": {
   "base_numbering": 1,
   "nav_menu": {},
   "number_sections": false,
   "sideBar": true,
   "skip_h1_title": true,
   "title_cell": "Table of Contents",
   "title_sidebar": "Contents",
   "toc_cell": false,
   "toc_position": {},
   "toc_section_display": true,
   "toc_window_display": false
  }
 },
 "nbformat": 4,
 "nbformat_minor": 4
}
