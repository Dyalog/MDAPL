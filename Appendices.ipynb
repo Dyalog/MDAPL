{
 "cells": [
  {
   "cell_type": "markdown",
   "metadata": {},
   "source": [
    "# Appendices\n",
    "\n",
    "## Scalar Functions\n",
    "\n",
    "| Function                | Monadic | Dyadic  | Function                 |                \n",
    "| :-                      | :-:     | :-:     | :-                       |                \n",
    "| Conjugate               | `+ B`   | `A + B` | Plus                     |                \n",
    "| Negate                  | `- B`   | `A - B` | Minus                    |                \n",
    "| Direction               | `× B`   | `A × B` | Times                    |                \n",
    "| Reciprocal              | `÷ B`   | `A ÷ B` | Divide                   |                \n",
    "| Magnitude               | `\\| B`  | `A\\| B` | Residue                  | \n",
    "| Floor                   | `⌊ B`   | `A ⌊ B` | Minimum                  |                \n",
    "| Ceiling                 | `⌈ B`   | `A ⌈ B` | Maximum                  |                \n",
    "| Exponential             | `* B`   | `A * B` | Power                    |                \n",
    "| Natural Logarithm       | `⍟ B`   | `A ⍟ B` | Logarithm                |                \n",
    "| Pi Times                | `○ B`   | `A ○ B` | Circular Functions       |                \n",
    "| Factorial               | `! B`   | `A ! B` | Binomial                 |                \n",
    "| Not                     | `~ B`   |         | *Not a scalar function*  |                \n",
    "| Roll                    | `? B`   |         | *Not a scalar function*  |                \n",
    "|                         |         | `A ∧ B` | AND / LCM                |                \n",
    "|                         |         | `A ∨ B` | OR / GCD                 |                \n",
    "|                         |         | `A ⍲ B` | NAND                     |                \n",
    "|                         |         | `A ⍱ B` | NOR                      |                \n",
    "|                         |         | `A < B` | Less Than                |                \n",
    "|                         |         | `A ≤ B` | Less Than Or Equal To    |                \n",
    "|                         |         | `A = B` | Equal To                 |                \n",
    "|                         |         | `A ≥ B` | Greater Than Or Equal To |                \n",
    "|                         |         | `A > B` | Greater Than             |                \n",
    "| *Not a scalar function* |         | `A ≠ B` | Not Equal To             |                \n",
    "| Same                    | `⊢ B`   |         | *Not a scalar function*  |                \n",
    "| Same                    | `⊣ B`   |         | *Not a scalar function*  |"
   ]
  },
  {
   "cell_type": "markdown",
   "metadata": {},
   "source": [
    "## Invoking the Editor\n",
    "\n",
    "The editor provided with Dyalog APL can be invoked by double-clicking the name of an *existing* object. Then the editor knows the type of the object and adapts its behaviour accordingly.\n",
    "\n",
    "The system command `)ED` opens the editor and can be used to create a *new* object. By default a new function is created.\n",
    "\n",
    "A prefix can be used to specify the type of the new object, according to the following table:\n",
    "\n",
    "| Prefix | Example | Object Created |\n",
    "| :-: | :- | :- |\n",
    "| none | `)ed New` | Function | \n",
    "| `∇` | `)ed ∇ Borscht` | Function |\n",
    "| `-` | `)ed - papyrus` | Simple character matrix |\n",
    "| `→` | `)ed → crouton` | Simple character vector |\n",
    "| `∊` | `)ed ∊ grunt` | Nested vector of character vectors |\n",
    "| `⍟` | `)ed ⍟ Ns` | Namespace script |\n",
    "| `○` | `)ed ○ Myclass` | Class script |\n",
    "| `∘` | `)ed ∘ Bridge` | Interface script |\n",
    "\n",
    "It is possible to open several edit windows using a single command. For example, `)ed Tyrex -moose` will open two edit windows. The first to create or edit a function named `Tyrex` and the second to create a character matrix named `moose`.\n",
    "\n",
    "If a prefix is specified for the name of an already existing object, the prefix is ignored and the editor is invoked according to the type of the existing object.\n",
    "\n",
    "More information is available at [Dyalog's help page for the \"Edit Object\"](https://help.dyalog.com/latest/#Language/System%20Commands/ed.htm?Highlight=ed)."
   ]
  },
  {
   "cell_type": "markdown",
   "metadata": {},
   "source": [
    "## Dyalog APL Operators\n",
    "\n",
    "The following table of primitive operators in Dyalog APL uses the following conventions:\n",
    "\n",
    " - `f` and `g` represent functions: primitive, user defined or derived from another operator;\n",
    " - `X` and `Y` represent the left and right arguments of the derived function, respectively;\n",
    " - `A` and `B` are arrays and they represent left and right operands, respectively;\n",
    " - `N` also represents an array operand, specifically a numeric one;\n",
    " - a distinction is made between the syntax of the operator itself (\"Op\" in the table below) and the syntax of its derived function (\"Fun\" in the table below), as a monadic operator can generate a dyadic derived function or a dyadic operator can generate a monadic derived function; the syntax is indicated by M for *Monadic* and D for *Dyadic*.\n",
    " \n",
    "| Name                  | Op  | Fun | Notation               | Example                       |                            \n",
    "| :-                    | :-: | :-: | :-                     | :-:                           |                            \n",
    "| Each                  | M   | M   | `f¨Y`                  | `⍴¨Y`                         |                            \n",
    "|                       |     | D   | `X f¨ Y`               | `3↑¨Y`                        |                            \n",
    "| Reduce                | M   | M   | `f/Y`                  | `+/Y`                         |                            \n",
    "| Reduce $n$-Wise       | M   | D   | `X f/Y`                | `2+/Y`                        |                            \n",
    "| Reduce First          | M   | M   | `f⌿Y`                  | `+⌿Y`                         |                            \n",
    "| Reduce First $n$-Wise | M   | D   | `X f⌿Y`                | `2+⌿Y`                        |                            \n",
    "| Axis(\\*)              | D   | M   | `f[n] Y`               | `↓[1]Y`                       |                            \n",
    "|                       |     | D   | `X f[n] Y`             | `X,[1]Y`                      |                            \n",
    "| Scan                  | M   | M   | `f\\Y`                  | `×\\Y`                         |                            \n",
    "| Scan First            | M   | M   | `y⍀Y`                  | `×⍀Y`                         |                            \n",
    "| Outer Product         | D   | D   | `X ∘.f Y`              | `X ∘.< Y`                     |                            \n",
    "| Inner Product         | D   | M   | `X f.g Y`              | `X +.× Y`                     |                            \n",
    "| Commute               | M   | M   | `f⍨ Y`                 | `=⍨ Y`                        |                            \n",
    "|                       |     | D   | `X f⍨ Y`               | `X-⍨Y`                        |                            \n",
    "| Constant              | M   | M   | `A⍨ Y`                 | `3⍨¨Y`                        |                            \n",
    "|                       |     | D   | `X A⍨ Y`               | `X 0⍨ Y`                      |                            \n",
    "| Beside                | D   | M   | `f∘g Y`                | `⍴∘⍴Y`                        |                            \n",
    "|                       |     | D   | `X f∘g Y`              | `3↑∘⍴¨Y`                      |                            \n",
    "| Bind                  |     | M   | `A∘g Y`                | `2 2∘⍴¨Y`                     |                            \n",
    "|                       |     | M   | `(f∘B) Y`              | `,∘'...'¨Y`                   |                            \n",
    "| Over                  | D   | M   | `f⍥g Y`                | `÷⍥\\|Y`                      |                        \n",
    "|                       |     | D   | `X f⍥g Y`              | `X⌈⍥\\|Y`                     |                        \n",
    "| Atop                  | D   | M   | `f⍤g Y`                | `-⍤÷Y`                        |                            \n",
    "|                       |     | D   | `X f⍤g Y`              | `X⍴⍤,Y`                       |                            \n",
    "| Rank                  | D   | M   | `(f⍤B) Y`              | `(⍋⍤1)Y`                      |                            \n",
    "|                       |     | D   | `X (f⍤B) Y`            | `X(+⍤0 1)Y`                   |                            \n",
    "| At (indices)          | D   | M   | `(A@B) Y` or `(f@B) Y` | `(0@2 4)Y`                    |                            \n",
    "|                       |     | D   | `X (f@B) Y`            | `10(×@2 4)Y`                  |                            \n",
    "| At (mask)             | D   | M   | `A@g Y` or `f@g Y`     | `÷@(2∘\\|)Y`                   |                       \n",
    "|                       |     | D   | `X f@g Y`              | `X×@(2∘\\|)Y`                  |                       \n",
    "| Spawn                 | M   | M   | `f& Y`                 | `⌹&Y`                         |                            \n",
    "|                       |     | D   | `X f& Y`               | `X⍳&Y`                        |                            \n",
    "| Power (repeat)        | D   | M   | `(f⍣B) Y`              | `(⊃⍣3)Y`                      |                            \n",
    "|                       |     | D   | `X (f⍣B) Y`            | `1(+⍣5)10`                    |                            \n",
    "| Power (until)         | D   | M   | `f⍣g Y`                | `(⊃⍣≡)Y`                      |                            \n",
    "|                       |     | D   | `X f⍣g Y`              | `1+∘÷⍣=1`                     |                            \n",
    "| Key                   | M   | M   | `f⌸ Y`                 | `,⌸Y`                         |                            \n",
    "|                       |     | D   | `X f⌸ Y`               | `X,⌸Y`                        |                            \n",
    "| Stencil               | D   | M   | `(f⌺B) Y`              | `({⊂⍵}⌺2 2)Y`                 |                            \n",
    "| I-Beam                | M   | M   | `N⌶ Y`                 | `8415⌶Y`                      |                            \n",
    "|                       |     | D   | `X (N⌶) Y`             | `1(219⌶)⍳10`                  |                            \n",
    "| Variant               | D   | M   | `(f⍠B) Y`              | `('a'⎕S 0)⍠1⊢Y`               |                            \n",
    "|                       |     | D   | `X (f⍠B) Y`            | `0(⎕JSON⍠'Dialect' 'JSON5')Y` |\n",
    "\n",
    "(*): Strictly speaking, axis is not an operator, cf. [the chapter on operators](./Operators.ipynb)."
   ]
  },
  {
   "cell_type": "markdown",
   "metadata": {},
   "source": [
    "## Variables\n",
    "\n",
    "This appendix lists all the variables and utility functions used throughout the book."
   ]
  },
  {
   "cell_type": "code",
   "execution_count": 2,
   "metadata": {},
   "outputs": [
    {
     "data": {
      "text/html": [
       "<span style=\"white-space:pre; font-family: monospace\">2121 4778 4914 3139 4561 221 1252 1530 4475 332 3507 1829 1710 4964 3849 669 3653 3415 3867 151\n",
       "</span>"
      ]
     },
     "execution_count": 2,
     "metadata": {},
     "output_type": "execute_result"
    }
   ],
   "source": [
    "⎕RL ← 73\n",
    "⊢salaries ← ?20⍴5000"
   ]
  },
  {
   "cell_type": "code",
   "execution_count": 1,
   "metadata": {},
   "outputs": [
    {
     "data": {
      "text/html": [
       "<span style=\"white-space:pre; font-family: monospace\"> 90 160 420 500  20  30\n",
       "110 450 170 370 290 360\n",
       "340 190 320 120 510 370\n",
       "150 460 240 520 490 280\n",
       "</span>"
      ]
     },
     "execution_count": 1,
     "metadata": {},
     "output_type": "execute_result"
    }
   ],
   "source": [
    "⎕RL ← 73\n",
    "⊢forecast ← 10×?4 6⍴55"
   ]
  },
  {
   "cell_type": "code",
   "execution_count": 2,
   "metadata": {},
   "outputs": [
    {
     "data": {
      "text/html": [
       "<span style=\"white-space:pre; font-family: monospace\"> 89 166 420 508  12  23\n",
       "111 453 177 365 284 352\n",
       "349 192 329 115 515 374\n",
       "160 467 234 519 485 283\n",
       "</span>"
      ]
     },
     "execution_count": 2,
     "metadata": {},
     "output_type": "execute_result"
    }
   ],
   "source": [
    "⎕RL ← 73\n",
    "⊢actual ← forecast + ¯10+?4 6⍴20"
   ]
  },
  {
   "cell_type": "code",
   "execution_count": 1,
   "metadata": {},
   "outputs": [
    {
     "data": {
      "text/html": [
       "<span style=\"white-space:pre; font-family: monospace\">H2SO4\n",
       "CaCO3\n",
       "Fe2O3\n",
       "</span>"
      ]
     },
     "execution_count": 1,
     "metadata": {},
     "output_type": "execute_result"
    }
   ],
   "source": [
    "⊢chemistry ← 3 5⍴'H2SO4CaCO3Fe2O3'"
   ]
  },
  {
   "cell_type": "code",
   "execution_count": 5,
   "metadata": {},
   "outputs": [
    {
     "data": {
      "text/html": [
       "<span style=\"white-space:pre; font-family: monospace\">┌──────┬───┬─────┐\n",
       "│Dyalog│44 │Hello│\n",
       "├──────┼───┼─────┤\n",
       "│27    │8 6│1 2 0│\n",
       "│      │2 4│0 0 5│\n",
       "└──────┴───┴─────┘\n",
       "</span>"
      ]
     },
     "execution_count": 5,
     "metadata": {},
     "output_type": "execute_result"
    }
   ],
   "source": [
    "⊢nesMat ← 2 3 ⍴ 'Dyalog' 44 'Hello' 27 (2 2 ⍴ 8 6 2 4) (2 3⍴1 2 0 0 0 5)"
   ]
  },
  {
   "cell_type": "code",
   "execution_count": 7,
   "metadata": {},
   "outputs": [
    {
     "data": {
      "text/html": [
       "<span style=\"white-space:pre; font-family: monospace\">  21.21 1534.88 375.46  704.5 \n",
       "1125.14 1963.52 464.45 1438.25\n",
       " 796.53 1569    157.14  886.59\n",
       "</span>"
      ]
     },
     "execution_count": 7,
     "metadata": {},
     "output_type": "execute_result"
    }
   ],
   "source": [
    "⎕RL ← 73\n",
    "⊢nm ← (?3 4⍴200000)÷100"
   ]
  },
  {
   "cell_type": "code",
   "execution_count": null,
   "metadata": {},
   "outputs": [],
   "source": []
  }
 ],
 "metadata": {
  "kernelspec": {
   "display_name": "Dyalog APL",
   "language": "apl",
   "name": "dyalog-kernel"
  },
  "language_info": {
   "file_extension": ".apl",
   "mimetype": "text/apl",
   "name": "APL"
  },
  "toc": {
   "base_numbering": 1,
   "nav_menu": {},
   "number_sections": false,
   "sideBar": true,
   "skip_h1_title": true,
   "title_cell": "Table of Contents",
   "title_sidebar": "Contents",
   "toc_cell": false,
   "toc_position": {},
   "toc_section_display": true,
   "toc_window_display": false
  }
 },
 "nbformat": 4,
 "nbformat_minor": 4
}
