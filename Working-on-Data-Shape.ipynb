{
 "cells": [
  {
   "cell_type": "markdown",
   "id": "sharing-vietnam",
   "metadata": {},
   "source": [
    "# Working on Data Shape\n",
    "\n",
    "In many programming languages, the programmer has to declare the dimensions of an array statically, and it is often possible to operate on the individual items using programmer-written loops.\n",
    "\n",
    "In contrast to this, because APL processes arrays in their entirety, it is important to be able to manage the dimensions of an array dynamically.\n",
    "This is why this chapter presents a number of new tools that will help you perform these tasks.\n",
    "\n",
    "We have already studied functions which create arrays with specific shapes:\n",
    "\n",
    "| Name | Syntax | Explanation |\n",
    "| :- | :-: | :- |\n",
    "| Reshape | `x⍴y` | Creates a new array with dimensions `x` and the data from `y`. |\n",
    "| Catenate | `x,y` | Creates a new array by gluing `x` and `y` together. |\n",
    "| Ravel | `,y` | Creates a vector from any array. |\n",
    "| Compress | `x/y` | Selects parts of an array. |\n",
    "| Replicate | `x/y` | Generally replicates the items of an array. |\n",
    "| Indexing | `x[y]` | Creates a new array, often with modified dimensions. |\n",
    "| Index function | `x⌷y` | Creates a new array, often with modified dimensions. |"
   ]
  },
  {
   "cell_type": "markdown",
   "id": "alpine-cooperation",
   "metadata": {},
   "source": [
    "## Take and Drop\n",
    "\n",
    "### Take and Drop Applied to Vectors\n",
    "\n",
    "#### Starter\n",
    "\n",
    "There are two functions, _take_ (`↑`) and _drop_ (`↓`), that can be used to extract or remove a number of elements from the beginning or end of a vector.\n",
    "The number is the left argument and its sign controls if the extraction/removal is done from the beginning or end of the vector.\n",
    "\n",
    " - _Take_ extracts the vector's head or tail; and\n",
    " - _Drop_ removes the vector's head or tail, and hence selects the remaining part.\n",
    "\n",
    "Let us test these functions:"
   ]
  },
  {
   "cell_type": "code",
   "execution_count": 1,
   "id": "scenic-cyprus",
   "metadata": {},
   "outputs": [],
   "source": [
    "nums ← 56 66 19 37 44 20 18 23 68 70 82"
   ]
  },
  {
   "cell_type": "markdown",
   "id": "practical-hybrid",
   "metadata": {},
   "source": [
    "With a positive left argument `n`, _take_ extracts the first `n` items:"
   ]
  },
  {
   "cell_type": "code",
   "execution_count": 2,
   "id": "freelance-screening",
   "metadata": {},
   "outputs": [
    {
     "data": {
      "text/html": [
       "<span style=\"white-space:pre; font-family: monospace\">56 66 19 37\n",
       "</span>"
      ]
     },
     "execution_count": 2,
     "metadata": {},
     "output_type": "execute_result"
    }
   ],
   "source": [
    "4↑nums"
   ]
  },
  {
   "cell_type": "markdown",
   "id": "latin-israel",
   "metadata": {},
   "source": [
    "It works on any kind of data (numbers, text),"
   ]
  },
  {
   "cell_type": "code",
   "execution_count": 3,
   "id": "native-science",
   "metadata": {},
   "outputs": [
    {
     "data": {
      "text/html": [
       "<span style=\"white-space:pre; font-family: monospace\">My na\n",
       "</span>"
      ]
     },
     "execution_count": 3,
     "metadata": {},
     "output_type": "execute_result"
    }
   ],
   "source": [
    "5↑'My name is Bond'"
   ]
  },
  {
   "cell_type": "markdown",
   "id": "lonely-ozone",
   "metadata": {},
   "source": [
    "including nested arrays:"
   ]
  },
  {
   "cell_type": "code",
   "execution_count": 4,
   "id": "fancy-passing",
   "metadata": {},
   "outputs": [
    {
     "data": {
      "text/html": [
       "<span style=\"white-space:pre; font-family: monospace\">┌───┬───────────┐\n",
       "│6 2│35 33 26 21│\n",
       "└───┴───────────┘\n",
       "</span>"
      ]
     },
     "execution_count": 4,
     "metadata": {},
     "output_type": "execute_result"
    }
   ],
   "source": [
    "2↑(6 2)(35 33 26 21)(42 73)(1 2 3)"
   ]
  },
  {
   "cell_type": "markdown",
   "id": "featured-single",
   "metadata": {},
   "source": [
    "With a negative left argument `n`, it extracts the last `|n` items of the vector, in their normal order:"
   ]
  },
  {
   "cell_type": "code",
   "execution_count": 5,
   "id": "victorian-cassette",
   "metadata": {},
   "outputs": [
    {
     "data": {
      "text/html": [
       "<span style=\"white-space:pre; font-family: monospace\">68 70 82\n",
       "</span>"
      ]
     },
     "execution_count": 5,
     "metadata": {},
     "output_type": "execute_result"
    }
   ],
   "source": [
    "¯3↑nums"
   ]
  },
  {
   "cell_type": "code",
   "execution_count": 6,
   "id": "maritime-fitness",
   "metadata": {},
   "outputs": [
    {
     "data": {
      "text/html": [
       "<span style=\"white-space:pre; font-family: monospace\">ssippi\n",
       "</span>"
      ]
     },
     "execution_count": 6,
     "metadata": {},
     "output_type": "execute_result"
    }
   ],
   "source": [
    "¯6↑'Mississippi'"
   ]
  },
  {
   "cell_type": "markdown",
   "id": "expensive-interview",
   "metadata": {},
   "source": [
    "Sometimes, these two operations are referred to as taking the \"head\" of the vector (with a positive left argument) and taking the \"tail\" of the vector (with a negative left argument).\n",
    "\n",
    "With a positive left argument `n`, _drop_ removes the first `n` items and returns the tail:"
   ]
  },
  {
   "cell_type": "code",
   "execution_count": 7,
   "id": "involved-teach",
   "metadata": {},
   "outputs": [
    {
     "data": {
      "text/html": [
       "<span style=\"white-space:pre; font-family: monospace\">44 20 18 23 68 70 82\n",
       "</span>"
      ]
     },
     "execution_count": 7,
     "metadata": {},
     "output_type": "execute_result"
    }
   ],
   "source": [
    "4↓nums"
   ]
  },
  {
   "cell_type": "code",
   "execution_count": 8,
   "id": "hired-mediterranean",
   "metadata": {},
   "outputs": [
    {
     "data": {
      "text/html": [
       "<span style=\"white-space:pre; font-family: monospace\">me is Bond\n",
       "</span>"
      ]
     },
     "execution_count": 8,
     "metadata": {},
     "output_type": "execute_result"
    }
   ],
   "source": [
    "5↓'My name is Bond'"
   ]
  },
  {
   "cell_type": "markdown",
   "id": "failing-telephone",
   "metadata": {},
   "source": [
    "With a negative left argument `n`, it removes the last `|n` items and returns the head:"
   ]
  },
  {
   "cell_type": "code",
   "execution_count": 9,
   "id": "mediterranean-stations",
   "metadata": {},
   "outputs": [
    {
     "data": {
      "text/html": [
       "<span style=\"white-space:pre; font-family: monospace\">Missi\n",
       "</span>"
      ]
     },
     "execution_count": 9,
     "metadata": {},
     "output_type": "execute_result"
    }
   ],
   "source": [
    "¯6↓'Mississippi'"
   ]
  },
  {
   "cell_type": "markdown",
   "id": "exciting-channels",
   "metadata": {},
   "source": [
    "<!--begin remark-->\n",
    "***Remark***:\n",
    "\n",
    " > You will have noticed that `4↑nums` and `¯7↓nums` both gave the same result `56 66 19 37`.\n",
    " >\n",
    " > At first sight it would appear that there is no need for both of these functions, and that one or other of _take_ and _drop_ is redundant.\n",
    " > There are, however, some differences that make it necessary to have both functions, as we will soon see.\n",
    "<!--end-->"
   ]
  },
  {
   "cell_type": "markdown",
   "id": "mediterranean-perspective",
   "metadata": {},
   "source": [
    "#### Be Careful\n",
    "\n",
    "Do not confuse the two following expressions.\n",
    "\n",
    "We can take the **last** three items of a vector:"
   ]
  },
  {
   "cell_type": "code",
   "execution_count": 10,
   "id": "acute-flash",
   "metadata": {},
   "outputs": [
    {
     "data": {
      "text/html": [
       "<span style=\"white-space:pre; font-family: monospace\">68 70 82\n",
       "</span>"
      ]
     },
     "execution_count": 10,
     "metadata": {},
     "output_type": "execute_result"
    }
   ],
   "source": [
    "¯3↑nums"
   ]
  },
  {
   "cell_type": "markdown",
   "id": "common-administrator",
   "metadata": {},
   "source": [
    "Or we can take the first three items, and then change their sign:"
   ]
  },
  {
   "cell_type": "code",
   "execution_count": 11,
   "id": "motivated-envelope",
   "metadata": {},
   "outputs": [
    {
     "data": {
      "text/html": [
       "<span style=\"white-space:pre; font-family: monospace\">¯56 ¯66 ¯19\n",
       "</span>"
      ]
     },
     "execution_count": 11,
     "metadata": {},
     "output_type": "execute_result"
    }
   ],
   "source": [
    "-3↑nums"
   ]
  },
  {
   "cell_type": "markdown",
   "id": "british-grave",
   "metadata": {},
   "source": [
    "On another note, the result of _take_ and _drop_ applied to a vector remains a vector, even if it has only one item:"
   ]
  },
  {
   "cell_type": "code",
   "execution_count": 12,
   "id": "weird-bernard",
   "metadata": {},
   "outputs": [
    {
     "data": {
      "text/html": [
       "<span style=\"white-space:pre; font-family: monospace\">1\n",
       "</span>"
      ]
     },
     "execution_count": 12,
     "metadata": {},
     "output_type": "execute_result"
    }
   ],
   "source": [
    "⍴1↑nums"
   ]
  },
  {
   "cell_type": "code",
   "execution_count": 13,
   "id": "remarkable-cheat",
   "metadata": {},
   "outputs": [
    {
     "data": {
      "text/html": [
       "<span style=\"white-space:pre; font-family: monospace\">1\n",
       "</span>"
      ]
     },
     "execution_count": 13,
     "metadata": {},
     "output_type": "execute_result"
    }
   ],
   "source": [
    "⍴10↓nums"
   ]
  },
  {
   "cell_type": "markdown",
   "id": "developmental-lying",
   "metadata": {},
   "source": [
    "Although the results of the two expressions above would contain only one item, they are 1-item vectors, and not scalars."
   ]
  },
  {
   "cell_type": "markdown",
   "id": "acceptable-sperm",
   "metadata": {},
   "source": [
    "#### Produce Empty Vectors\n",
    "\n",
    "Of course, if you take no items, or if you drop all the items, the result is an empty vector of the same type (numeric or character) as the original vector:"
   ]
  },
  {
   "cell_type": "code",
   "execution_count": 14,
   "id": "cordless-excess",
   "metadata": {},
   "outputs": [
    {
     "data": {
      "text/html": [
       "<span style=\"white-space:pre; font-family: monospace\">\n",
       "</span>"
      ]
     },
     "execution_count": 14,
     "metadata": {},
     "output_type": "execute_result"
    }
   ],
   "source": [
    "0↑nums"
   ]
  },
  {
   "cell_type": "code",
   "execution_count": 15,
   "id": "matched-module",
   "metadata": {},
   "outputs": [
    {
     "data": {
      "text/html": [
       "<span style=\"white-space:pre; font-family: monospace\">\n",
       "</span>"
      ]
     },
     "execution_count": 15,
     "metadata": {},
     "output_type": "execute_result"
    }
   ],
   "source": [
    "22↓nums"
   ]
  },
  {
   "cell_type": "code",
   "execution_count": 16,
   "id": "indonesian-member",
   "metadata": {},
   "outputs": [
    {
     "data": {
      "text/html": [
       "<span style=\"white-space:pre; font-family: monospace\">\n",
       "</span>"
      ]
     },
     "execution_count": 16,
     "metadata": {},
     "output_type": "execute_result"
    }
   ],
   "source": [
    "14↓'Empty'"
   ]
  },
  {
   "cell_type": "markdown",
   "id": "imported-beijing",
   "metadata": {},
   "source": [
    "Although all of the results above are empty vectors, we know that they are different if the original vectors have different types of data:"
   ]
  },
  {
   "cell_type": "code",
   "execution_count": 17,
   "id": "pregnant-korean",
   "metadata": {},
   "outputs": [
    {
     "data": {
      "text/html": [
       "<span style=\"white-space:pre; font-family: monospace\">0\n",
       "</span>"
      ]
     },
     "execution_count": 17,
     "metadata": {},
     "output_type": "execute_result"
    }
   ],
   "source": [
    "(22↓nums)≡(14↓'Empty')"
   ]
  },
  {
   "cell_type": "markdown",
   "id": "looking-wilson",
   "metadata": {},
   "source": [
    "Take a look at [this section](./Data-and-Variables.ipynb#Empty-Arrays) for a reminder of how empty arrays work."
   ]
  },
  {
   "cell_type": "markdown",
   "id": "matched-newfoundland",
   "metadata": {},
   "source": [
    "#### Take More Cash Than You Have\n",
    "\n",
    "The _take_ function has a very special property: it allows you to take more items than there really are.\n",
    "If so, it pads the result with _fill items_; zeroes for a numeric vector, and blanks for a text vector:"
   ]
  },
  {
   "cell_type": "code",
   "execution_count": 18,
   "id": "gentle-meaning",
   "metadata": {},
   "outputs": [],
   "source": [
    "cash ← 45 23 18 92"
   ]
  },
  {
   "cell_type": "markdown",
   "id": "aging-favorite",
   "metadata": {},
   "source": [
    "If we take too many items, zeroes are appended to the vector:"
   ]
  },
  {
   "cell_type": "code",
   "execution_count": 19,
   "id": "hindu-harvard",
   "metadata": {},
   "outputs": [
    {
     "data": {
      "text/html": [
       "<span style=\"white-space:pre; font-family: monospace\">45 23 18 92 0 0 0\n",
       "</span>"
      ]
     },
     "execution_count": 19,
     "metadata": {},
     "output_type": "execute_result"
    }
   ],
   "source": [
    "7↑cash"
   ]
  },
  {
   "cell_type": "markdown",
   "id": "after-lawsuit",
   "metadata": {},
   "source": [
    "With negative left arguments, starting from the tail, the zeroes are placed before the existing items:"
   ]
  },
  {
   "cell_type": "code",
   "execution_count": 20,
   "id": "precise-increase",
   "metadata": {},
   "outputs": [
    {
     "data": {
      "text/html": [
       "<span style=\"white-space:pre; font-family: monospace\">0 0 0 0 0 45 23 18 92\n",
       "</span>"
      ]
     },
     "execution_count": 20,
     "metadata": {},
     "output_type": "execute_result"
    }
   ],
   "source": [
    "¯9↑cash"
   ]
  },
  {
   "cell_type": "markdown",
   "id": "further-better",
   "metadata": {},
   "source": [
    "For character vectors, spaces are appended:"
   ]
  },
  {
   "cell_type": "code",
   "execution_count": 21,
   "id": "amber-jurisdiction",
   "metadata": {},
   "outputs": [
    {
     "data": {
      "text/html": [
       "<span style=\"white-space:pre; font-family: monospace\">Invisible   \n",
       "</span>"
      ]
     },
     "execution_count": 21,
     "metadata": {},
     "output_type": "execute_result"
    }
   ],
   "source": [
    "12↑'Invisible'"
   ]
  },
  {
   "cell_type": "markdown",
   "id": "funky-ferry",
   "metadata": {},
   "source": [
    "However, you have to be careful because those do not show:"
   ]
  },
  {
   "cell_type": "code",
   "execution_count": 22,
   "id": "marine-leader",
   "metadata": {},
   "outputs": [
    {
     "data": {
      "text/html": [
       "<span style=\"white-space:pre; font-family: monospace\">Invisible   .\n",
       "</span>"
      ]
     },
     "execution_count": 22,
     "metadata": {},
     "output_type": "execute_result"
    }
   ],
   "source": [
    "(12↑'Invisible'),'.'"
   ]
  },
  {
   "cell_type": "markdown",
   "id": "automotive-nomination",
   "metadata": {},
   "source": [
    "Starting from the right, with a negative left argument, the blanks are appended to the left and are a bit easier to see:"
   ]
  },
  {
   "cell_type": "code",
   "execution_count": 23,
   "id": "everyday-cinema",
   "metadata": {},
   "outputs": [
    {
     "data": {
      "text/html": [
       "<span style=\"white-space:pre; font-family: monospace\">     Visible\n",
       "</span>"
      ]
     },
     "execution_count": 23,
     "metadata": {},
     "output_type": "execute_result"
    }
   ],
   "source": [
    "¯12↑'Visible'"
   ]
  },
  {
   "cell_type": "markdown",
   "id": "present-healing",
   "metadata": {},
   "source": [
    "In fact, the concept of _fill item_ is a bit more complex than this; it will be studied in detail in [a later section](./Nested-Arrays-(Continued).ipynb#Prototype-Fill-Item).\n",
    "\n",
    "The concept of \"taking more than you have\" is sometimes referred to as _overtaking_.\n",
    "This is an application of _take_ that cannot be performed using _drop_ alone.\n",
    "\n",
    "This property applies equally to empty vectors; they are filled with as many zeroes or blanks as specified.\n",
    "This means that the result will be different for empty numeric and empty character vectors:"
   ]
  },
  {
   "cell_type": "code",
   "execution_count": 24,
   "id": "small-yacht",
   "metadata": {},
   "outputs": [
    {
     "data": {
      "text/html": [
       "<span style=\"white-space:pre; font-family: monospace\">┌→──────┐\n",
       "│0 0 0 0│\n",
       "└~──────┘\n",
       "</span>"
      ]
     },
     "execution_count": 24,
     "metadata": {},
     "output_type": "execute_result"
    }
   ],
   "source": [
    "]display 4↑⍬"
   ]
  },
  {
   "cell_type": "code",
   "execution_count": 25,
   "id": "accurate-cooperative",
   "metadata": {},
   "outputs": [
    {
     "data": {
      "text/html": [
       "<span style=\"white-space:pre; font-family: monospace\">┌→───┐\n",
       "│    │\n",
       "└────┘\n",
       "</span>"
      ]
     },
     "execution_count": 25,
     "metadata": {},
     "output_type": "execute_result"
    }
   ],
   "source": [
    "]display 4↑''"
   ]
  },
  {
   "cell_type": "markdown",
   "id": "applicable-clark",
   "metadata": {},
   "source": [
    "### Three Basic Applications\n",
    "\n",
    "#### Determine the Type of a Variable\n",
    "\n",
    "The property we have just seen can be used to determine whether an array is numeric or character, provided that it is simple and homogeneous (neither _mixed_ nor _nested_).\n",
    "The method is simple: create an empty vector \"filled\" with the array (`0⍴⍵`), then take one item of it (`1↑`), and compare with `0`.\n",
    "This will return `1` (true) for a numeric array, and `0` (false) for a character array.\n",
    "A little dfn will do that for us:"
   ]
  },
  {
   "cell_type": "code",
   "execution_count": 26,
   "id": "collective-threat",
   "metadata": {},
   "outputs": [],
   "source": [
    "TypeOf ← {0=1↑0⍴⍵}"
   ]
  },
  {
   "cell_type": "code",
   "execution_count": 27,
   "id": "physical-title",
   "metadata": {},
   "outputs": [
    {
     "data": {
      "text/html": [
       "<span style=\"white-space:pre; font-family: monospace\">1\n",
       "</span>"
      ]
     },
     "execution_count": 27,
     "metadata": {},
     "output_type": "execute_result"
    }
   ],
   "source": [
    "TypeOf nums"
   ]
  },
  {
   "cell_type": "code",
   "execution_count": 28,
   "id": "renewable-floor",
   "metadata": {},
   "outputs": [
    {
     "data": {
      "text/html": [
       "<span style=\"white-space:pre; font-family: monospace\">0\n",
       "</span>"
      ]
     },
     "execution_count": 28,
     "metadata": {},
     "output_type": "execute_result"
    }
   ],
   "source": [
    "TypeOf 'Character vector'"
   ]
  },
  {
   "cell_type": "markdown",
   "id": "comfortable-theta",
   "metadata": {},
   "source": [
    "This function wouldn't work on a mixed or nested variable.\n",
    "Again, you will understand why when we talk about _fill items_ in [this section](./Nested-Arrays-(Continued).ipynb#Prototype-Fill-Item).\n",
    "We shall see in [a later chapter](./System-Interfaces.ipynb) that APL has a _system function_ that does the job much better."
   ]
  },
  {
   "cell_type": "markdown",
   "id": "altered-tutorial",
   "metadata": {},
   "source": [
    "#### Change a Vector into a Matrix\n",
    "\n",
    "Sometimes you want a variable `var` to be a matrix, although you are not sure of its current rank.\n",
    "\n",
    "If it is already a matrix, you want to leave it unchanged, and if it is a vector, you want to change it into a one-row matrix.\n",
    "The following function should help:"
   ]
  },
  {
   "cell_type": "code",
   "execution_count": 29,
   "id": "organized-blackjack",
   "metadata": {},
   "outputs": [],
   "source": [
    "HorMat ← {(¯2↑1,⍴⍵)⍴⍵}"
   ]
  },
  {
   "cell_type": "markdown",
   "id": "vocal-wound",
   "metadata": {},
   "source": [
    "Notice that the shape of the following matrix remains unchanged:"
   ]
  },
  {
   "cell_type": "code",
   "execution_count": 30,
   "id": "driving-duration",
   "metadata": {},
   "outputs": [
    {
     "data": {
      "text/html": [
       "<span style=\"white-space:pre; font-family: monospace\">3 5\n",
       "</span>"
      ]
     },
     "execution_count": 30,
     "metadata": {},
     "output_type": "execute_result"
    }
   ],
   "source": [
    "⍴HorMat 3 5⍴⍳5"
   ]
  },
  {
   "cell_type": "markdown",
   "id": "corporate-coach",
   "metadata": {},
   "source": [
    "But the vector is \"promoted\" into a matrix:"
   ]
  },
  {
   "cell_type": "code",
   "execution_count": 31,
   "id": "third-arabic",
   "metadata": {},
   "outputs": [
    {
     "data": {
      "text/html": [
       "<span style=\"white-space:pre; font-family: monospace\">1 16\n",
       "</span>"
      ]
     },
     "execution_count": 31,
     "metadata": {},
     "output_type": "execute_result"
    }
   ],
   "source": [
    "⍴HorMat 'This is a vector'"
   ]
  },
  {
   "cell_type": "markdown",
   "id": "signed-cabin",
   "metadata": {},
   "source": [
    "Let's break down how `HorMat` works:\n",
    "\n",
    " 1. we first append `1` to the shape of the argument, which gives `1 3 5` for the matrix and `1 16` for the vector;\n",
    " 2. next, we keep only the last two items, which gives `3 5` for the matrix and `1 16` for the vector;\n",
    " 3. the final _reshape_ returns an unchanged matrix, or transforms a vector intro a matrix.\n",
    "\n",
    "We can change vectors into 1-column matrices with a very similar function, which also leaves matrices unchanged:"
   ]
  },
  {
   "cell_type": "code",
   "execution_count": 32,
   "id": "cloudy-talent",
   "metadata": {},
   "outputs": [],
   "source": [
    "VerMat ← {(2↑(⍴⍵),1)⍴⍵}"
   ]
  },
  {
   "cell_type": "code",
   "execution_count": 33,
   "id": "incoming-composite",
   "metadata": {},
   "outputs": [
    {
     "data": {
      "text/html": [
       "<span style=\"white-space:pre; font-family: monospace\">V\n",
       "e\n",
       "r\n",
       "t\n",
       "i\n",
       "c\n",
       "a\n",
       "l\n",
       "l\n",
       "y\n",
       "?\n",
       "</span>"
      ]
     },
     "execution_count": 33,
     "metadata": {},
     "output_type": "execute_result"
    }
   ],
   "source": [
    "VerMat 'Vertically?'"
   ]
  },
  {
   "cell_type": "markdown",
   "id": "aggregate-bhutan",
   "metadata": {},
   "source": [
    "#### Calculate Growth Rates\n",
    "\n",
    "Let us imagine a business with a turnover which has grown over 12 years.\n",
    "The variable `tome` is TurnOver in Millions of Euros:"
   ]
  },
  {
   "cell_type": "code",
   "execution_count": 34,
   "id": "legal-lemon",
   "metadata": {},
   "outputs": [],
   "source": [
    "tome ← 56 59 67 64 60 61 68 73 78 75 81 84"
   ]
  },
  {
   "cell_type": "markdown",
   "id": "great-opening",
   "metadata": {},
   "source": [
    "We want to calculate the difference between each year and the next; how do we achieve this?"
   ]
  },
  {
   "cell_type": "code",
   "execution_count": 35,
   "id": "foreign-pound",
   "metadata": {},
   "outputs": [
    {
     "data": {
      "text/html": [
       "<span style=\"white-space:pre; font-family: monospace\">59 67 64 60 61 68 73 78 75 81 84\n",
       "</span>"
      ]
     },
     "execution_count": 35,
     "metadata": {},
     "output_type": "execute_result"
    }
   ],
   "source": [
    "1↓tome"
   ]
  },
  {
   "cell_type": "code",
   "execution_count": 36,
   "id": "japanese-richmond",
   "metadata": {},
   "outputs": [
    {
     "data": {
      "text/html": [
       "<span style=\"white-space:pre; font-family: monospace\">56 59 67 64 60 61 68 73 78 75 81\n",
       "</span>"
      ]
     },
     "execution_count": 36,
     "metadata": {},
     "output_type": "execute_result"
    }
   ],
   "source": [
    "¯1↓tome"
   ]
  },
  {
   "cell_type": "markdown",
   "id": "provincial-ferry",
   "metadata": {},
   "source": [
    "All that remains is to subtract the results of these expressions one from the other, item by item:"
   ]
  },
  {
   "cell_type": "code",
   "execution_count": 37,
   "id": "united-playing",
   "metadata": {},
   "outputs": [
    {
     "data": {
      "text/html": [
       "<span style=\"white-space:pre; font-family: monospace\">3 8 ¯3 ¯4 1 7 5 5 ¯3 6 3\n",
       "</span>"
      ]
     },
     "execution_count": 37,
     "metadata": {},
     "output_type": "execute_result"
    }
   ],
   "source": [
    "(1↓tome)-(¯1↓tome)"
   ]
  },
  {
   "cell_type": "markdown",
   "id": "typical-thing",
   "metadata": {},
   "source": [
    "If instead of subtraction we used division, we would calculate (with some adjustments) the rates of growth instead of the differences.\n",
    "Let us upt that in a small dfn, and apply it:"
   ]
  },
  {
   "cell_type": "code",
   "execution_count": 38,
   "id": "second-remainder",
   "metadata": {},
   "outputs": [],
   "source": [
    "Growth ← {100×((1↓⍵)÷(¯1↓⍵))-1}"
   ]
  },
  {
   "cell_type": "code",
   "execution_count": 39,
   "id": "allied-simon",
   "metadata": {},
   "outputs": [
    {
     "data": {
      "text/html": [
       "<span style=\"white-space:pre; font-family: monospace\"> 5.36 13.56 ¯4.48 ¯6.25 1.67 11.48 7.35 6.85 ¯3.85 8.00 3.70\n",
       "</span>"
      ]
     },
     "execution_count": 39,
     "metadata": {},
     "output_type": "execute_result"
    }
   ],
   "source": [
    "2⍕Growth tome"
   ]
  },
  {
   "cell_type": "markdown",
   "id": "happy-newfoundland",
   "metadata": {},
   "source": [
    "### Take and Drop Applied to Arrays\n",
    "\n",
    "The functions _take_ and _drop_ can be applied to any array so long as the left argument contains a number of items that is equal to or smaller than the number of dimensions (the _rank_) of the array.\n",
    "\n",
    "In the expressions `ns↑array` and `ns↓array`, `≢ns` must be less than or equal to `≢⍴array`.\n",
    "\n",
    "For the examples that follow, we shall work on the following matrix:"
   ]
  },
  {
   "cell_type": "code",
   "execution_count": 40,
   "id": "psychological-cooper",
   "metadata": {},
   "outputs": [],
   "source": [
    "mat ← 3 4⍴13 52 33 81 42 62 70 47 51 73 28 19"
   ]
  },
  {
   "cell_type": "markdown",
   "id": "paperback-enzyme",
   "metadata": {},
   "source": [
    "`mat` is an integer matrix but _take_ and _drop_ work the same for character arrays, and even for _nested_ and/or _mixed_ arrays."
   ]
  },
  {
   "cell_type": "markdown",
   "id": "obvious-potato",
   "metadata": {},
   "source": [
    "#### Maximal-Length Left Argument\n",
    "\n",
    "We start by exploring what happens when the left argument has the maximal length it can have, that is, when `(≢ns)=≢⍴array` in the expression `ns↑array` or `ns↓array`.\n",
    "\n",
    "If we want to take the 2 top rows and the 3 left columns of `mat`, we write"
   ]
  },
  {
   "cell_type": "code",
   "execution_count": 41,
   "id": "heard-tucson",
   "metadata": {
    "scrolled": false
   },
   "outputs": [
    {
     "data": {
      "text/html": [
       "<span style=\"white-space:pre; font-family: monospace\">13 52 33\n",
       "42 62 70\n",
       "</span>"
      ]
     },
     "execution_count": 41,
     "metadata": {},
     "output_type": "execute_result"
    }
   ],
   "source": [
    "2 3↑mat"
   ]
  },
  {
   "cell_type": "markdown",
   "id": "expanded-compression",
   "metadata": {},
   "source": [
    "The elements of the left argument are paired up with the axes of the right argument array, and that is why `2 3↑mat` takes 2 _rows_ and then 3 _columns_, because the first axis specifies the number of rows and the second one the number of columns.\n",
    "\n",
    "In order to drop the top row and 2 columns _from the right_, we write"
   ]
  },
  {
   "cell_type": "code",
   "execution_count": 42,
   "id": "polish-found",
   "metadata": {},
   "outputs": [
    {
     "data": {
      "text/html": [
       "<span style=\"white-space:pre; font-family: monospace\">42 62\n",
       "51 73\n",
       "</span>"
      ]
     },
     "execution_count": 42,
     "metadata": {},
     "output_type": "execute_result"
    }
   ],
   "source": [
    "1 ¯2↓mat"
   ]
  },
  {
   "cell_type": "markdown",
   "id": "disturbed-darkness",
   "metadata": {},
   "source": [
    "If we take 5 rows starting from the bottom and 3 columns starting from the left, we get"
   ]
  },
  {
   "cell_type": "code",
   "execution_count": 43,
   "id": "fitting-latino",
   "metadata": {},
   "outputs": [
    {
     "data": {
      "text/html": [
       "<span style=\"white-space:pre; font-family: monospace\"> 0  0  0\n",
       " 0  0  0\n",
       "13 52 33\n",
       "42 62 70\n",
       "51 73 28\n",
       "</span>"
      ]
     },
     "execution_count": 43,
     "metadata": {},
     "output_type": "execute_result"
    }
   ],
   "source": [
    "¯5 3↑mat"
   ]
  },
  {
   "cell_type": "markdown",
   "id": "accredited-shell",
   "metadata": {},
   "source": [
    "The two extra rows are added on the top of `mat` because we asked for 5 rows _starting from the bottom_.\n",
    "\n",
    "Dropping 1 row starting from the bottom and 3 columns starting from the left, we get"
   ]
  },
  {
   "cell_type": "code",
   "execution_count": 44,
   "id": "boring-washington",
   "metadata": {},
   "outputs": [
    {
     "data": {
      "text/html": [
       "<span style=\"white-space:pre; font-family: monospace\">81\n",
       "47\n",
       "</span>"
      ]
     },
     "execution_count": 44,
     "metadata": {},
     "output_type": "execute_result"
    }
   ],
   "source": [
    "¯1 3↓mat"
   ]
  },
  {
   "cell_type": "markdown",
   "id": "unknown-personal",
   "metadata": {},
   "source": [
    "In the example above, we have dropped 3 out of the 4 columns available, so there is only one left, but it is still a 1-column matrix; it has not been changed into a vector.\n",
    "This is similar to how `1↑vector` in a vector returns a 1-element vector, not a scalar.\n",
    "In short, the functions _take_ and _drop_ return a result with the same rank as the right argument, regardless of the number of elements in the result.\n",
    "\n",
    "As for vectors, it is often possible to use _take_ or _drop_ interchangeably to obtain the same result:"
   ]
  },
  {
   "cell_type": "code",
   "execution_count": 45,
   "id": "junior-disclaimer",
   "metadata": {},
   "outputs": [
    {
     "data": {
      "text/html": [
       "<span style=\"white-space:pre; font-family: monospace\">52 33 81\n",
       "62 70 47\n",
       "</span>"
      ]
     },
     "execution_count": 45,
     "metadata": {},
     "output_type": "execute_result"
    }
   ],
   "source": [
    "2 ¯3↑mat"
   ]
  },
  {
   "cell_type": "code",
   "execution_count": 46,
   "id": "checked-grade",
   "metadata": {},
   "outputs": [
    {
     "data": {
      "text/html": [
       "<span style=\"white-space:pre; font-family: monospace\">52 33 81\n",
       "62 70 47\n",
       "</span>"
      ]
     },
     "execution_count": 46,
     "metadata": {},
     "output_type": "execute_result"
    }
   ],
   "source": [
    "¯1 1↓mat"
   ]
  },
  {
   "cell_type": "markdown",
   "id": "economic-medline",
   "metadata": {},
   "source": [
    "#### Short Left Argument\n",
    "\n",
    "<!-- (TODO) Write about Leading Axis Theory -->\n",
    "If one or more of the trailing dimensions of the array are to remain unchanged, then one need only specify the parameters for the leading dimensions.\n",
    "\n",
    "For example, suppose that we want to extract the first 2 rows of `mat`.\n",
    "We know its shape is `3 4`, so we can easily write"
   ]
  },
  {
   "cell_type": "code",
   "execution_count": 47,
   "id": "exterior-design",
   "metadata": {},
   "outputs": [
    {
     "data": {
      "text/html": [
       "<span style=\"white-space:pre; font-family: monospace\">13 52 33 81\n",
       "42 62 70 47\n",
       "</span>"
      ]
     },
     "execution_count": 47,
     "metadata": {},
     "output_type": "execute_result"
    }
   ],
   "source": [
    "2 4↑mat"
   ]
  },
  {
   "cell_type": "markdown",
   "id": "contemporary-constitutional",
   "metadata": {},
   "source": [
    "But if we didn't know its shape in advance, we would have to resort to something like"
   ]
  },
  {
   "cell_type": "code",
   "execution_count": 48,
   "id": "selected-encoding",
   "metadata": {},
   "outputs": [
    {
     "data": {
      "text/html": [
       "<span style=\"white-space:pre; font-family: monospace\">13 52 33 81\n",
       "42 62 70 47\n",
       "</span>"
      ]
     },
     "execution_count": 48,
     "metadata": {},
     "output_type": "execute_result"
    }
   ],
   "source": [
    "(2,¯1↑⍴mat)↑mat"
   ]
  },
  {
   "cell_type": "markdown",
   "id": "recovered-flour",
   "metadata": {},
   "source": [
    "which is a bit cumbersome and, as it turns out, far from optimal.\n",
    "\n",
    "In a matrix, the first axis denotes the rows, so we can pick the first 2 rows by just specifying the `2` in the left argument to _take_:"
   ]
  },
  {
   "cell_type": "code",
   "execution_count": 49,
   "id": "assisted-cleanup",
   "metadata": {},
   "outputs": [
    {
     "data": {
      "text/html": [
       "<span style=\"white-space:pre; font-family: monospace\">13 52 33 81\n",
       "42 62 70 47\n",
       "</span>"
      ]
     },
     "execution_count": 49,
     "metadata": {},
     "output_type": "execute_result"
    }
   ],
   "source": [
    "2↑mat"
   ]
  },
  {
   "cell_type": "markdown",
   "id": "selected-tourist",
   "metadata": {},
   "source": [
    "This works for arrays of arbitrarily high rank.\n",
    "For example, recall the 3D array `prod`, that contained monthly (12) production values of 2 assembly lines, throughout the course of 5 years:"
   ]
  },
  {
   "cell_type": "code",
   "execution_count": 58,
   "id": "bright-ethics",
   "metadata": {},
   "outputs": [
    {
     "data": {
      "text/html": [
       "<span style=\"white-space:pre; font-family: monospace\"> 9 16 42 50  2  3 11 45 17 37 29 36\n",
       "34 19 32 12 37 15 46 24 49 28 36  9\n",
       "                                   \n",
       "29  5 45 23 27  4 23 16 39 22 22  2\n",
       "46 20 47 17 18 25 13 38 42 38 45 28\n",
       "                                   \n",
       "37 19  5 10 30 49 16 18 46 47 47  3\n",
       "39 23 41 20  6 40 21 22 40 49 20  1\n",
       "                                   \n",
       "13 36 12 40 12 15 24 20 21 12 19 25\n",
       " 8 48 22 37 33  1 39 30 50 50  8 35\n",
       "                                   \n",
       "38 31 24 40 23  7 20 34 35  6 19 27\n",
       "41  1 14 50 17 42  6 35 12 48 30 29\n",
       "</span>"
      ]
     },
     "execution_count": 58,
     "metadata": {},
     "output_type": "execute_result"
    }
   ],
   "source": [
    "⎕RL ← 73\n",
    "⎕← prod ← ?5 2 12⍴50"
   ]
  },
  {
   "cell_type": "markdown",
   "id": "decimal-northeast",
   "metadata": {},
   "source": [
    "We can get the production values for the first 2 years with:"
   ]
  },
  {
   "cell_type": "code",
   "execution_count": 61,
   "id": "hollow-banana",
   "metadata": {},
   "outputs": [
    {
     "data": {
      "text/html": [
       "<span style=\"white-space:pre; font-family: monospace\"> 9 16 42 50  2  3 11 45 17 37 29 36\n",
       "34 19 32 12 37 15 46 24 49 28 36  9\n",
       "                                   \n",
       "29  5 45 23 27  4 23 16 39 22 22  2\n",
       "46 20 47 17 18 25 13 38 42 38 45 28\n",
       "</span>"
      ]
     },
     "execution_count": 61,
     "metadata": {},
     "output_type": "execute_result"
    }
   ],
   "source": [
    "2↑prod"
   ]
  },
  {
   "cell_type": "markdown",
   "id": "responsible-active",
   "metadata": {},
   "source": [
    "But we can also get the production values for the first 4 years and only for the first assembly line:"
   ]
  },
  {
   "cell_type": "code",
   "execution_count": 62,
   "id": "harmful-queue",
   "metadata": {},
   "outputs": [
    {
     "data": {
      "text/html": [
       "<span style=\"white-space:pre; font-family: monospace\"> 9 16 42 50  2  3 11 45 17 37 29 36\n",
       "                                   \n",
       "29  5 45 23 27  4 23 16 39 22 22  2\n",
       "                                   \n",
       "37 19  5 10 30 49 16 18 46 47 47  3\n",
       "                                   \n",
       "13 36 12 40 12 15 24 20 21 12 19 25\n",
       "</span>"
      ]
     },
     "execution_count": 62,
     "metadata": {},
     "output_type": "execute_result"
    }
   ],
   "source": [
    "4 1↑prod"
   ]
  },
  {
   "cell_type": "markdown",
   "id": "blessed-visitor",
   "metadata": {},
   "source": [
    "Naturally, _drop_ can also be used with a left argument whose length is smaller than the rank of the argument.\n",
    "For example, we can drop the first row of a matrix:"
   ]
  },
  {
   "cell_type": "code",
   "execution_count": 69,
   "id": "literary-toddler",
   "metadata": {},
   "outputs": [
    {
     "data": {
      "text/html": [
       "<span style=\"white-space:pre; font-family: monospace\">42 62 70 47\n",
       "51 73 28 19\n",
       "</span>"
      ]
     },
     "execution_count": 69,
     "metadata": {},
     "output_type": "execute_result"
    }
   ],
   "source": [
    "1↓mat"
   ]
  },
  {
   "cell_type": "markdown",
   "id": "entitled-think",
   "metadata": {},
   "source": [
    "Or we can drop the production values of the _last_ year and of the first assembly line:"
   ]
  },
  {
   "cell_type": "code",
   "execution_count": 70,
   "id": "eleven-slovak",
   "metadata": {},
   "outputs": [
    {
     "data": {
      "text/html": [
       "<span style=\"white-space:pre; font-family: monospace\">34 19 32 12 37 15 46 24 49 28 36  9\n",
       "                                   \n",
       "46 20 47 17 18 25 13 38 42 38 45 28\n",
       "                                   \n",
       "39 23 41 20  6 40 21 22 40 49 20  1\n",
       "                                   \n",
       " 8 48 22 37 33  1 39 30 50 50  8 35\n",
       "</span>"
      ]
     },
     "execution_count": 70,
     "metadata": {},
     "output_type": "execute_result"
    }
   ],
   "source": [
    "¯1 1↓prod"
   ]
  },
  {
   "cell_type": "markdown",
   "id": "instructional-western",
   "metadata": {},
   "source": [
    "In [the exercises](#Exercises) you can find a rule to compute the shape of the final result of a _take_ (or _drop_) operation in terms of the left argument and the shape of the right argument."
   ]
  },
  {
   "cell_type": "markdown",
   "id": "assured-washer",
   "metadata": {},
   "source": [
    "#### Short Left Argument with Axis Specification\n",
    "\n",
    "When you provide a left argument that has less elements than the number of axes on the right argument, the left argument defaults to referring to the leading axes of the right argument.\n",
    "However, we can use _take_ and _drop_ with _axis_ `[]` to specify other axes.\n",
    "\n",
    "For example, the first 2 rows of `mat` were obtained with"
   ]
  },
  {
   "cell_type": "code",
   "execution_count": 55,
   "id": "ordinary-fantasy",
   "metadata": {},
   "outputs": [
    {
     "data": {
      "text/html": [
       "<span style=\"white-space:pre; font-family: monospace\">13 52 33 81\n",
       "42 62 70 47\n",
       "</span>"
      ]
     },
     "execution_count": 55,
     "metadata": {},
     "output_type": "execute_result"
    }
   ],
   "source": [
    "2↑mat"
   ]
  },
  {
   "cell_type": "markdown",
   "id": "small-charm",
   "metadata": {},
   "source": [
    "Using _axis_, we can just as easily get the first 2 columns of `mat`:"
   ]
  },
  {
   "cell_type": "code",
   "execution_count": 56,
   "id": "undefined-exhaust",
   "metadata": {},
   "outputs": [
    {
     "data": {
      "text/html": [
       "<span style=\"white-space:pre; font-family: monospace\">13 52\n",
       "42 62\n",
       "51 73\n",
       "</span>"
      ]
     },
     "execution_count": 56,
     "metadata": {},
     "output_type": "execute_result"
    }
   ],
   "source": [
    "2↑[2]mat"
   ]
  },
  {
   "cell_type": "markdown",
   "id": "outstanding-stopping",
   "metadata": {},
   "source": [
    "This also extends to higher rank.\n",
    "If we want the information regarding the first 3 years, and only the final 6 months of the year (but for all assembly lines), we can write:"
   ]
  },
  {
   "cell_type": "code",
   "execution_count": 71,
   "id": "cooperative-christmas",
   "metadata": {},
   "outputs": [
    {
     "data": {
      "text/html": [
       "<span style=\"white-space:pre; font-family: monospace\">11 45 17 37 29 36\n",
       "46 24 49 28 36  9\n",
       "                 \n",
       "23 16 39 22 22  2\n",
       "13 38 42 38 45 28\n",
       "                 \n",
       "16 18 46 47 47  3\n",
       "21 22 40 49 20  1\n",
       "</span>"
      ]
     },
     "execution_count": 71,
     "metadata": {},
     "output_type": "execute_result"
    }
   ],
   "source": [
    "3 ¯6↑[1 3]prod"
   ]
  },
  {
   "cell_type": "markdown",
   "id": "south-graduation",
   "metadata": {},
   "source": [
    "## Laminate\n",
    "\n",
    "We have previously used _catenate_ to glue one array to another; let us now look at a new method.\n",
    "\n",
    "We shall work with the following two character matrices:"
   ]
  },
  {
   "cell_type": "code",
   "execution_count": 73,
   "id": "incredible-syndicate",
   "metadata": {},
   "outputs": [
    {
     "data": {
      "text/html": [
       "<span style=\"white-space:pre; font-family: monospace\">Alex\n",
       "Anna\n",
       "Mark\n",
       "</span>"
      ]
     },
     "execution_count": 73,
     "metadata": {},
     "output_type": "execute_result"
    }
   ],
   "source": [
    "⎕← names ← 3 4⍴'AlexAnnaMark'"
   ]
  },
  {
   "cell_type": "code",
   "execution_count": 74,
   "id": "widespread-awareness",
   "metadata": {},
   "outputs": [
    {
     "data": {
      "text/html": [
       "<span style=\"white-space:pre; font-family: monospace\">Gain\n",
       "Nair\n",
       "Tyte\n",
       "</span>"
      ]
     },
     "execution_count": 74,
     "metadata": {},
     "output_type": "execute_result"
    }
   ],
   "source": [
    "⎕← surnames ← 3 4⍴'GainNairTyte'"
   ]
  },
  {
   "cell_type": "markdown",
   "id": "touched-voluntary",
   "metadata": {},
   "source": [
    "The _catenation_ of those two matrices will not change the _rank_ of the arrays, and thus give another matrix, as we saw in [a previous chapter](./Some-Primitive-Functions.ipynb#Concatenate):"
   ]
  },
  {
   "cell_type": "code",
   "execution_count": 75,
   "id": "united-mouth",
   "metadata": {},
   "outputs": [
    {
     "data": {
      "text/html": [
       "<span style=\"white-space:pre; font-family: monospace\">AlexGain\n",
       "AnnaNair\n",
       "MarkTyte\n",
       "</span>"
      ]
     },
     "execution_count": 75,
     "metadata": {},
     "output_type": "execute_result"
    }
   ],
   "source": [
    "names,surnames"
   ]
  },
  {
   "cell_type": "code",
   "execution_count": 76,
   "id": "backed-shock",
   "metadata": {},
   "outputs": [
    {
     "data": {
      "text/html": [
       "<span style=\"white-space:pre; font-family: monospace\">Alex\n",
       "Anna\n",
       "Mark\n",
       "Gain\n",
       "Nair\n",
       "Tyte\n",
       "</span>"
      ]
     },
     "execution_count": 76,
     "metadata": {},
     "output_type": "execute_result"
    }
   ],
   "source": [
    "names⍪surnames"
   ]
  },
  {
   "cell_type": "markdown",
   "id": "intimate-salad",
   "metadata": {},
   "source": [
    "If both matrices have exactly the same shape, it is possible to join them together along a new dimension to make a 3D array.\n",
    "Because this operation produces a result of higher rank than its arguments, it is called _laminate_ rather than _catenate_.\n",
    "\n",
    "The symbol representing _catenate_ and _laminate_ is the same (`,`), but when the comma is used as _laminate_ it is always used with a fractional _axis_.\n",
    "\n",
    "The two arrays we intend to _laminate_ have the same shape: `3 4`.\n",
    "Because we are going to laminate 2 arrays, the new dimension will have a length of 2, and the shape of the result will be some combination of `3`, `4`, and `2`.\n",
    "Let us examine all the possibilities:\n",
    "\n",
    " - <code>2 3   4&nbsp;&nbsp;</code> – the new dimension is inserted before the first dimension;\n",
    " - <code>&nbsp;&nbsp;3 2 4&nbsp;&nbsp;</code> – the new dimension is inserted between the first and second dimensions;\n",
    " - <code>&nbsp;&nbsp;3   4 2</code> – the new dimension is inserted after the second dimension.\n",
    "\n",
    "To obtain these three different results, we shall use _laminate_ with a fractional axis to specify where the new dimension is to be inserted:\n",
    "\n",
    " - `names,[0.5]surnames` will produce a result of shape <code>2 3   4&nbsp;&nbsp;</code>;\n",
    " - `names,[1.5]surnames` will produce a result of shape <code>&nbsp;&nbsp;3 2 4&nbsp;&nbsp;</code>; and\n",
    " - `names,[2.5]surnames` will produce a result of shape <code>&nbsp;&nbsp;3   4 2</code>.\n",
    "\n",
    "Beware that we could have equally used `⍪`.\n",
    "\n",
    "Here are the three cases:"
   ]
  },
  {
   "cell_type": "code",
   "execution_count": 77,
   "id": "clear-bangkok",
   "metadata": {},
   "outputs": [
    {
     "data": {
      "text/html": [
       "<span style=\"white-space:pre; font-family: monospace\">Alex\n",
       "Anna\n",
       "Mark\n",
       "    \n",
       "Gain\n",
       "Nair\n",
       "Tyte\n",
       "</span>"
      ]
     },
     "execution_count": 77,
     "metadata": {},
     "output_type": "execute_result"
    }
   ],
   "source": [
    "names,[0.5]surnames"
   ]
  },
  {
   "cell_type": "code",
   "execution_count": 78,
   "id": "central-brunei",
   "metadata": {},
   "outputs": [
    {
     "data": {
      "text/html": [
       "<span style=\"white-space:pre; font-family: monospace\">Alex\n",
       "Gain\n",
       "    \n",
       "Anna\n",
       "Nair\n",
       "    \n",
       "Mark\n",
       "Tyte\n",
       "</span>"
      ]
     },
     "execution_count": 78,
     "metadata": {},
     "output_type": "execute_result"
    }
   ],
   "source": [
    "names,[1.5]surnames"
   ]
  },
  {
   "cell_type": "code",
   "execution_count": 79,
   "id": "quiet-locator",
   "metadata": {},
   "outputs": [
    {
     "data": {
      "text/html": [
       "<span style=\"white-space:pre; font-family: monospace\">AG\n",
       "la\n",
       "ei\n",
       "xn\n",
       "  \n",
       "AN\n",
       "na\n",
       "ni\n",
       "ar\n",
       "  \n",
       "MT\n",
       "ay\n",
       "rt\n",
       "ke\n",
       "</span>"
      ]
     },
     "execution_count": 79,
     "metadata": {},
     "output_type": "execute_result"
    }
   ],
   "source": [
    "names,[2.5]surnames"
   ]
  },
  {
   "cell_type": "markdown",
   "id": "marine-eleven",
   "metadata": {},
   "source": [
    "In fact, the value of the axis specifier just identifies the _position_ of the new dimension relative to the values 1 and 2, so it could be any other fractional value between 0 and 1, or 1 and 2, or 2 and 3, respectively.\n",
    "\n",
    "Hence, the three matches that we see below:"
   ]
  },
  {
   "cell_type": "code",
   "execution_count": 80,
   "id": "terminal-championship",
   "metadata": {},
   "outputs": [
    {
     "data": {
      "text/html": [
       "<span style=\"white-space:pre; font-family: monospace\">1\n",
       "</span>"
      ]
     },
     "execution_count": 80,
     "metadata": {},
     "output_type": "execute_result"
    }
   ],
   "source": [
    "(names,[0.295]surnames)≡names,[0.5]surnames"
   ]
  },
  {
   "cell_type": "code",
   "execution_count": 81,
   "id": "natural-client",
   "metadata": {},
   "outputs": [
    {
     "data": {
      "text/html": [
       "<span style=\"white-space:pre; font-family: monospace\">1\n",
       "</span>"
      ]
     },
     "execution_count": 81,
     "metadata": {},
     "output_type": "execute_result"
    }
   ],
   "source": [
    "(names,[1.643]surnames)≡names,[1.5]surnames"
   ]
  },
  {
   "cell_type": "code",
   "execution_count": 82,
   "id": "careful-lodge",
   "metadata": {},
   "outputs": [
    {
     "data": {
      "text/html": [
       "<span style=\"white-space:pre; font-family: monospace\">1\n",
       "</span>"
      ]
     },
     "execution_count": 82,
     "metadata": {},
     "output_type": "execute_result"
    }
   ],
   "source": [
    "(names,[2.107]surnames)≡names,[2.5]surnames"
   ]
  },
  {
   "cell_type": "markdown",
   "id": "neural-parcel",
   "metadata": {},
   "source": [
    "Of course, it would be somewhat obtuse to use such axis specifications, and programmers conventionally use \"`n.5`\" values, like the ones in our examples."
   ]
  },
  {
   "cell_type": "markdown",
   "id": "bored-cholesterol",
   "metadata": {},
   "source": [
    "### Applications to Vectors and Scalars\n",
    "\n",
    "Now that we understand the reason for the fractional axis, which is perhaps initially somewhat surprising, we can apply _laminate_ to all kind of arrays."
   ]
  },
  {
   "cell_type": "markdown",
   "id": "medieval-family",
   "metadata": {},
   "source": [
    "#### Laminate Applied to Vectors\n",
    "\n",
    "Let us use both character and numeric vectors:"
   ]
  },
  {
   "cell_type": "code",
   "execution_count": 92,
   "id": "contrary-rachel",
   "metadata": {},
   "outputs": [],
   "source": [
    "t1 ← 'tomatoes'\n",
    "t2 ← 'potatoes'\n",
    "n1 ← 14 62 32 88\n",
    "n2 ← 10×⍳4"
   ]
  },
  {
   "cell_type": "markdown",
   "id": "mounted-classification",
   "metadata": {},
   "source": [
    "If we catenate them, we still obtain vectors:"
   ]
  },
  {
   "cell_type": "code",
   "execution_count": 93,
   "id": "incoming-championship",
   "metadata": {},
   "outputs": [
    {
     "data": {
      "text/html": [
       "<span style=\"white-space:pre; font-family: monospace\">tomatoespotatoes\n",
       "</span>"
      ]
     },
     "execution_count": 93,
     "metadata": {},
     "output_type": "execute_result"
    }
   ],
   "source": [
    "t1,t2"
   ]
  },
  {
   "cell_type": "code",
   "execution_count": 94,
   "id": "hired-bernard",
   "metadata": {},
   "outputs": [
    {
     "data": {
      "text/html": [
       "<span style=\"white-space:pre; font-family: monospace\">14 62 32 88 10 20 30 40\n",
       "</span>"
      ]
     },
     "execution_count": 94,
     "metadata": {},
     "output_type": "execute_result"
    }
   ],
   "source": [
    "n1,n2"
   ]
  },
  {
   "cell_type": "markdown",
   "id": "heated-swift",
   "metadata": {},
   "source": [
    "But if we instead laminate them, we obtain matrices with either 2 rows or 2 columns:"
   ]
  },
  {
   "cell_type": "code",
   "execution_count": 95,
   "id": "surprising-adobe",
   "metadata": {},
   "outputs": [
    {
     "data": {
      "text/html": [
       "<span style=\"white-space:pre; font-family: monospace\">tomatoes\n",
       "potatoes\n",
       "</span>"
      ]
     },
     "execution_count": 95,
     "metadata": {},
     "output_type": "execute_result"
    }
   ],
   "source": [
    "t1,[0.5]t2"
   ]
  },
  {
   "cell_type": "code",
   "execution_count": 96,
   "id": "better-validity",
   "metadata": {},
   "outputs": [
    {
     "data": {
      "text/html": [
       "<span style=\"white-space:pre; font-family: monospace\">tp\n",
       "oo\n",
       "mt\n",
       "aa\n",
       "tt\n",
       "oo\n",
       "ee\n",
       "ss\n",
       "</span>"
      ]
     },
     "execution_count": 96,
     "metadata": {},
     "output_type": "execute_result"
    }
   ],
   "source": [
    "t1,[1.5]t2"
   ]
  },
  {
   "cell_type": "code",
   "execution_count": 97,
   "id": "logical-welsh",
   "metadata": {},
   "outputs": [
    {
     "data": {
      "text/html": [
       "<span style=\"white-space:pre; font-family: monospace\">14 62 32 88\n",
       "10 20 30 40\n",
       "</span>"
      ]
     },
     "execution_count": 97,
     "metadata": {},
     "output_type": "execute_result"
    }
   ],
   "source": [
    "n1,[0.5]n2"
   ]
  },
  {
   "cell_type": "code",
   "execution_count": 98,
   "id": "split-optimum",
   "metadata": {},
   "outputs": [
    {
     "data": {
      "text/html": [
       "<span style=\"white-space:pre; font-family: monospace\">14 10\n",
       "62 20\n",
       "32 30\n",
       "88 40\n",
       "</span>"
      ]
     },
     "execution_count": 98,
     "metadata": {},
     "output_type": "execute_result"
    }
   ],
   "source": [
    "n1,[1.5]n2"
   ]
  },
  {
   "cell_type": "markdown",
   "id": "optical-potato",
   "metadata": {},
   "source": [
    "Of course, since we are working with 1-dimensional arrays, we cannot specify an axis equal to or greater than 2.\n",
    "\n",
    "There is also no reason for why you wouldn't be able to laminate a character vector with a numeric vector, for example:"
   ]
  },
  {
   "cell_type": "code",
   "execution_count": 99,
   "id": "related-pleasure",
   "metadata": {},
   "outputs": [
    {
     "data": {
      "text/html": [
       "<span style=\"white-space:pre; font-family: monospace\"> t  o  m  a  t  o  e  s\n",
       "14 62 32 88 10 20 30 40\n",
       "</span>"
      ]
     },
     "execution_count": 99,
     "metadata": {},
     "output_type": "execute_result"
    }
   ],
   "source": [
    "t1,[0.5]n1,n2"
   ]
  },
  {
   "cell_type": "markdown",
   "id": "another-employer",
   "metadata": {},
   "source": [
    "#### Laminate Scalars with Vectors\n",
    "\n",
    "Scalars can be laminated with any array: they are repeated as many times as necessary to match the length of the new dimension:"
   ]
  },
  {
   "cell_type": "code",
   "execution_count": 101,
   "id": "above-baghdad",
   "metadata": {},
   "outputs": [
    {
     "data": {
      "text/html": [
       "<span style=\"white-space:pre; font-family: monospace\">14 62 32 88\n",
       " 0  0  0  0\n",
       "</span>"
      ]
     },
     "execution_count": 101,
     "metadata": {},
     "output_type": "execute_result"
    }
   ],
   "source": [
    "n1,[0.5]0"
   ]
  },
  {
   "cell_type": "code",
   "execution_count": 102,
   "id": "sought-spouse",
   "metadata": {},
   "outputs": [
    {
     "data": {
      "text/html": [
       "<span style=\"white-space:pre; font-family: monospace\">1 14\n",
       "1 62\n",
       "1 32\n",
       "1 88\n",
       "</span>"
      ]
     },
     "execution_count": 102,
     "metadata": {},
     "output_type": "execute_result"
    }
   ],
   "source": [
    "1,[1.5]n1"
   ]
  },
  {
   "cell_type": "markdown",
   "id": "greenhouse-sculpture",
   "metadata": {},
   "source": [
    "This can be used, for example, to underline a title:"
   ]
  },
  {
   "cell_type": "code",
   "execution_count": 103,
   "id": "informational-walnut",
   "metadata": {},
   "outputs": [],
   "source": [
    "title ← 'Laminate is good for you'"
   ]
  },
  {
   "cell_type": "markdown",
   "id": "conceptual-shelter",
   "metadata": {},
   "source": [
    "Without _laminate_, we must create a matrix with 2 rows, and as many columns as the length of `title`, filled with `title` itself, followed by as many dashes as the length of `title`: boring!"
   ]
  },
  {
   "cell_type": "code",
   "execution_count": 104,
   "id": "remarkable-house",
   "metadata": {},
   "outputs": [
    {
     "data": {
      "text/html": [
       "<span style=\"white-space:pre; font-family: monospace\">Laminate is good for you\n",
       "------------------------\n",
       "</span>"
      ]
     },
     "execution_count": 104,
     "metadata": {},
     "output_type": "execute_result"
    }
   ],
   "source": [
    "(2,≢title)⍴title,(≢title)⍴'-'"
   ]
  },
  {
   "cell_type": "markdown",
   "id": "fabulous-patient",
   "metadata": {},
   "source": [
    "Now, with _laminate_, we just have to laminate a single dash; it will be repeated as many times as necessary:"
   ]
  },
  {
   "cell_type": "code",
   "execution_count": 105,
   "id": "aquatic-optics",
   "metadata": {},
   "outputs": [
    {
     "data": {
      "text/html": [
       "<span style=\"white-space:pre; font-family: monospace\">Laminate is good for you\n",
       "------------------------\n",
       "</span>"
      ]
     },
     "execution_count": 105,
     "metadata": {},
     "output_type": "execute_result"
    }
   ],
   "source": [
    "title,[0.5]'-'"
   ]
  },
  {
   "cell_type": "markdown",
   "id": "extraordinary-mission",
   "metadata": {},
   "source": [
    "### Applications\n",
    "\n",
    "#### Interlace Matrices\n",
    "\n",
    "Do you remember that, in [the chapter about user-defined functions](./User-Defined-Functions.ipynb), we wrote a function to interlace two matrices?\n",
    "It is no longer relevant; we can solve the problem more simply using _laminate_.\n",
    "\n",
    "Can you see how? Give it some thought, if you will.\n",
    "\n",
    "Take a look at the result of `names,[2.5]surnames` above.\n",
    "You will see that the names are on the left and the surnames are on the right.\n",
    "If we reshape that result with appropriate dimensions, we shall obtain `names` and `surnames` interlaced 😊 :"
   ]
  },
  {
   "cell_type": "code",
   "execution_count": 106,
   "id": "light-number",
   "metadata": {},
   "outputs": [
    {
     "data": {
      "text/html": [
       "<span style=\"white-space:pre; font-family: monospace\">AGlaeixn\n",
       "ANnaniar\n",
       "MTayrtke\n",
       "</span>"
      ]
     },
     "execution_count": 106,
     "metadata": {},
     "output_type": "execute_result"
    }
   ],
   "source": [
    "(1 2×⍴names)⍴names,[2.5]surnames"
   ]
  },
  {
   "cell_type": "markdown",
   "id": "listed-advocacy",
   "metadata": {},
   "source": [
    "The result isn't easy to read, but the expression works!\n",
    "\n",
    "Hence, our new implementation of `Interlace` could be"
   ]
  },
  {
   "cell_type": "code",
   "execution_count": 107,
   "id": "dangerous-internet",
   "metadata": {},
   "outputs": [],
   "source": [
    "Interlace ← {(1 2×⍴⍺)⍴⍺,[2.5]⍵}"
   ]
  },
  {
   "cell_type": "markdown",
   "id": "amateur-notion",
   "metadata": {},
   "source": [
    "We can apply the same technique to matrices of forecasts and actuals, provided we define them first:"
   ]
  },
  {
   "cell_type": "code",
   "execution_count": 110,
   "id": "threatened-plymouth",
   "metadata": {},
   "outputs": [],
   "source": [
    "⎕RL ← 73\n",
    "forecast ← 10×?4 6⍴55\n",
    "⎕RL ← 73\n",
    "actual ← forecast + ¯10+?4 6⍴20"
   ]
  },
  {
   "cell_type": "code",
   "execution_count": 111,
   "id": "muslim-jonathan",
   "metadata": {},
   "outputs": [
    {
     "data": {
      "text/html": [
       "<span style=\"white-space:pre; font-family: monospace\"> 90  89 160 166 420 420 500 508  20  12  30  23\n",
       "110 111 450 453 170 177 370 365 290 284 360 352\n",
       "340 349 190 192 320 329 120 115 510 515 370 374\n",
       "150 160 460 467 240 234 520 519 490 485 280 283\n",
       "</span>"
      ]
     },
     "execution_count": 111,
     "metadata": {},
     "output_type": "execute_result"
    }
   ],
   "source": [
    "forecast Interlace actual"
   ]
  },
  {
   "cell_type": "markdown",
   "id": "hundred-flower",
   "metadata": {},
   "source": [
    "#### Show Vectors\n",
    "\n",
    "Sometimes you will have two vectors that are related, and you would like to display them side by side.\n",
    "You might have a character vector and you would like to display it side by side with a Boolean vector indicating the positions of vowels in the character vector, so that you can verify visually if the result is correct:"
   ]
  },
  {
   "cell_type": "code",
   "execution_count": 113,
   "id": "dried-prevention",
   "metadata": {},
   "outputs": [],
   "source": [
    "text ← 'National Aeronautics and Space Administration'\n",
    "vowels ← 0 1 0 1 1 0 1 0 0 0 1 0 1 0 1 1 0 1 0 0 0 1 0 0 0 0 0 1 0 1 0 0 0 0 1 0 1 0 0 0 1 0 1 1 0"
   ]
  },
  {
   "cell_type": "code",
   "execution_count": 114,
   "id": "independent-volunteer",
   "metadata": {},
   "outputs": [
    {
     "data": {
      "text/html": [
       "<span style=\"white-space:pre; font-family: monospace\">N a t i o n a l   A e r o n a u t i c s   a n d   S p a c e   A d m i n i s t r a t i o n\n",
       "0 1 0 1 1 0 1 0 0 0 1 0 1 0 1 1 0 1 0 0 0 1 0 0 0 0 0 1 0 1 0 0 0 0 1 0 1 0 0 0 1 0 1 1 0\n",
       "</span>"
      ]
     },
     "execution_count": 114,
     "metadata": {},
     "output_type": "execute_result"
    }
   ],
   "source": [
    "text,[0.5]vowels"
   ]
  },
  {
   "cell_type": "markdown",
   "id": "fleet-welsh",
   "metadata": {},
   "source": [
    "By looking at the above, you would be able to see more easily that your result missed the capital vowels, and you would then proceed to fixing your function.\n",
    "\n",
    "This was a simple example of where laminating two vectors might prove useful, but this ad-hoc technique might also be useful in slightly more complex scenarios.\n",
    "Suppose that we have four vectors containing information about certain products: their price, their current discount, their quantity in stock, and their availability (physical store, online, or both):"
   ]
  },
  {
   "cell_type": "code",
   "execution_count": 118,
   "id": "lucky-hopkins",
   "metadata": {},
   "outputs": [
    {
     "data": {
      "text/html": [
       "<span style=\"white-space:pre; font-family: monospace\">2 4 15 8 23\n",
       "</span>"
      ]
     },
     "execution_count": 118,
     "metadata": {},
     "output_type": "execute_result"
    },
    {
     "data": {
      "text/html": [
       "<span style=\"white-space:pre; font-family: monospace\">0 0 25 25 35\n",
       "</span>"
      ]
     },
     "execution_count": 118,
     "metadata": {},
     "output_type": "execute_result"
    },
    {
     "data": {
      "text/html": [
       "<span style=\"white-space:pre; font-family: monospace\">103 98 50 23 64\n",
       "</span>"
      ]
     },
     "execution_count": 118,
     "metadata": {},
     "output_type": "execute_result"
    },
    {
     "data": {
      "text/html": [
       "<span style=\"white-space:pre; font-family: monospace\">SSBOB\n",
       "</span>"
      ]
     },
     "execution_count": 118,
     "metadata": {},
     "output_type": "execute_result"
    }
   ],
   "source": [
    "⎕← price ← 2 4 15 8 23\n",
    "⎕← discount ← 0 0 25 25 35\n",
    "⎕← stock ← 103 98 50 23 64\n",
    "⎕← availability ← 'SSBOB'"
   ]
  },
  {
   "cell_type": "markdown",
   "id": "precious-cabin",
   "metadata": {},
   "source": [
    "The output shown above is not ideal, because each individual vector is displayed using its own natural format, and it is extremely difficult to connect the four related pieces of information to a specific product.\n",
    "We can have these values displayed much better if we create a matrix.\n",
    "\n",
    "To produce a matrix we will need to laminate two of the vectors and catenate the others (in rows or in columns).\n",
    "The results are much easier to read:"
   ]
  },
  {
   "cell_type": "code",
   "execution_count": 119,
   "id": "transsexual-project",
   "metadata": {},
   "outputs": [
    {
     "data": {
      "text/html": [
       "<span style=\"white-space:pre; font-family: monospace\">  2  4 15  8 23\n",
       "  0  0 25 25 35\n",
       "103 98 50 23 64\n",
       "  S  S  B  O  B\n",
       "</span>"
      ]
     },
     "execution_count": 119,
     "metadata": {},
     "output_type": "execute_result"
    }
   ],
   "source": [
    "price⍪discount⍪stock⍪[0.5]availability"
   ]
  },
  {
   "cell_type": "code",
   "execution_count": 120,
   "id": "cutting-dressing",
   "metadata": {},
   "outputs": [
    {
     "data": {
      "text/html": [
       "<span style=\"white-space:pre; font-family: monospace\"> 2  0 103 S\n",
       " 4  0  98 S\n",
       "15 25  50 B\n",
       " 8 25  23 O\n",
       "23 35  64 B\n",
       "</span>"
      ]
     },
     "execution_count": 120,
     "metadata": {},
     "output_type": "execute_result"
    }
   ],
   "source": [
    "price,discount,stock,[1.5]availability"
   ]
  },
  {
   "cell_type": "markdown",
   "id": "colored-feelings",
   "metadata": {},
   "source": [
    "In these examples, there is only one _laminate_, followed by as many _catenates_ as needed."
   ]
  },
  {
   "cell_type": "markdown",
   "id": "coral-sheep",
   "metadata": {},
   "source": [
    "## Expand\n",
    "\n",
    "### Basic Use\n",
    "\n",
    "You remember that simple _compress_ uses a Boolean vector of 1s and 0s as a mask to include or exclude specific items of an array.\n",
    "\n",
    "Simple _expand_ (specified by the `\\` symbol) also uses a Boolean vector of 1s and 0s, but the 0s _insert_ new items into the array.\n",
    "It is used as follows: `r ← pattern\\argument`.\n",
    "\n",
    "In this form, the Boolean vector left argument contains a 1 for each item of the right argument, and a 0 for each item to insert.\n",
    "For example:"
   ]
  },
  {
   "cell_type": "code",
   "execution_count": 121,
   "id": "geographic-observation",
   "metadata": {},
   "outputs": [
    {
     "data": {
      "text/html": [
       "<span style=\"white-space:pre; font-family: monospace\">11 28 0 32 0 0 40 57 69\n",
       "</span>"
      ]
     },
     "execution_count": 121,
     "metadata": {},
     "output_type": "execute_result"
    }
   ],
   "source": [
    "1 1 0 1 0 0 1 1 1\\11 28 32 40 57 69"
   ]
  },
  {
   "cell_type": "code",
   "execution_count": 122,
   "id": "loved-forestry",
   "metadata": {},
   "outputs": [
    {
     "data": {
      "text/html": [
       "<span style=\"white-space:pre; font-family: monospace\">Af r  ica\n",
       "</span>"
      ]
     },
     "execution_count": 122,
     "metadata": {},
     "output_type": "execute_result"
    }
   ],
   "source": [
    "1 1 0 1 0 0 1 1 1\\'Africa'"
   ]
  },
  {
   "cell_type": "markdown",
   "id": "cardiovascular-astrology",
   "metadata": {},
   "source": [
    "If the right argument is numeric, _expand_ inserts zeroes, and if it is a character vector, _expand_ inserts blanks as _fill items_.\n",
    "For mixed or nested arrays, the concept of _fill item_ is more complex and, as mentioned before, will be explained in [a later section](./Nested-Arrays-(Continued).ipynb#Prototype-Fill-Item)."
   ]
  },
  {
   "cell_type": "markdown",
   "id": "inclusive-geology",
   "metadata": {},
   "source": [
    "### Extended Definition\n",
    "\n",
    "We can extend the behaviour of _extend_ to handle cases where the left argument is not a simple Boolean vector, but contains integers other than just 0s and 1s:\n",
    "\n",
    " - the amount of positive numbers in the left argument should match the length of the right argument;\n",
    " - for each positive item in the left argument, the corresponding item in the right argument is replicated as many times as is specified by that value;\n",
    " - each negative item in the left argument inserts an equivalent number of _fill items_ in the same position; and\n",
    " - zeroes in the left argument mean the same as `¯1`, and they each insert one fill item.\n",
    "\n",
    "In the description above, we assumed that the right argument is a vector.\n",
    "We will cover the fully generic case in a bit.\n",
    "\n",
    "Because it is an extension of it, this new definition is fully compatible with the Boolean case we described before.\n",
    "\n",
    "Here is an example:"
   ]
  },
  {
   "cell_type": "code",
   "execution_count": 124,
   "id": "reverse-state",
   "metadata": {},
   "outputs": [
    {
     "data": {
      "text/html": [
       "<span style=\"white-space:pre; font-family: monospace\">11 28 0 32 32 32 0 0 40 57 69\n",
       "</span>"
      ]
     },
     "execution_count": 124,
     "metadata": {},
     "output_type": "execute_result"
    }
   ],
   "source": [
    "1 1 0 3 ¯2 1 1 1\\11 28 32 40 57 69"
   ]
  },
  {
   "cell_type": "markdown",
   "id": "activated-market",
   "metadata": {},
   "source": [
    "The first two items remain unchanged.\n",
    "Then a zero inserts a zero in the result.\n",
    "The next value is repeated 3 times, and the value `¯2` inserts 2 zeroes.\n",
    "The last 3 items are unchanged.\n",
    "\n",
    "The same thing can be done using a character vector:"
   ]
  },
  {
   "cell_type": "code",
   "execution_count": 125,
   "id": "hungry-disney",
   "metadata": {},
   "outputs": [
    {
     "data": {
      "text/html": [
       "<span style=\"white-space:pre; font-family: monospace\">ex ppp  and\n",
       "</span>"
      ]
     },
     "execution_count": 125,
     "metadata": {},
     "output_type": "execute_result"
    }
   ],
   "source": [
    "1 1 0 3 ¯2 1 1 1\\'expand'"
   ]
  },
  {
   "cell_type": "markdown",
   "id": "requested-discovery",
   "metadata": {},
   "source": [
    "Because `0` and `¯1` have the same effect when used in the left argument of _expand_, we can obtain the same result with a different pattern:"
   ]
  },
  {
   "cell_type": "code",
   "execution_count": 126,
   "id": "flexible-coast",
   "metadata": {},
   "outputs": [
    {
     "data": {
      "text/html": [
       "<span style=\"white-space:pre; font-family: monospace\">ex ppp  and\n",
       "</span>"
      ]
     },
     "execution_count": 126,
     "metadata": {},
     "output_type": "execute_result"
    }
   ],
   "source": [
    "1 1 ¯1 3 ¯2 1 1 1\\'expand'"
   ]
  },
  {
   "cell_type": "markdown",
   "id": "flush-filter",
   "metadata": {},
   "source": [
    "Naturally, the function can work on any shape of array, in which case `\\` acts on the last axis of the right argument, by default.\n",
    "\n",
    "For example, if we take our `chemistry` matrix:"
   ]
  },
  {
   "cell_type": "code",
   "execution_count": 127,
   "id": "sunset-chart",
   "metadata": {},
   "outputs": [
    {
     "data": {
      "text/html": [
       "<span style=\"white-space:pre; font-family: monospace\">H2SO4\n",
       "CaCO3\n",
       "Fe2O3\n",
       "</span>"
      ]
     },
     "execution_count": 127,
     "metadata": {},
     "output_type": "execute_result"
    }
   ],
   "source": [
    "⎕← chemistry ← 3 5⍴'H2SO4CaCO3Fe2O3'"
   ]
  },
  {
   "cell_type": "markdown",
   "id": "specialized-anatomy",
   "metadata": {},
   "source": [
    "We can insert one extra column by using _expand_ with a Boolean left argument:"
   ]
  },
  {
   "cell_type": "code",
   "execution_count": 128,
   "id": "straight-customer",
   "metadata": {},
   "outputs": [
    {
     "data": {
      "text/html": [
       "<span style=\"white-space:pre; font-family: monospace\">H2 SO4\n",
       "Ca CO3\n",
       "Fe 2O3\n",
       "</span>"
      ]
     },
     "execution_count": 128,
     "metadata": {},
     "output_type": "execute_result"
    }
   ],
   "source": [
    "1 1 0 1 1 1\\chemistry"
   ]
  },
  {
   "cell_type": "markdown",
   "id": "collective-castle",
   "metadata": {},
   "source": [
    "We can further specify the axis along which we want to act, to change the default:"
   ]
  },
  {
   "cell_type": "code",
   "execution_count": 129,
   "id": "korean-produce",
   "metadata": {},
   "outputs": [
    {
     "data": {
      "text/html": [
       "<span style=\"white-space:pre; font-family: monospace\">H2SO4\n",
       "     \n",
       "CaCO3\n",
       "     \n",
       "Fe2O3\n",
       "</span>"
      ]
     },
     "execution_count": 129,
     "metadata": {},
     "output_type": "execute_result"
    }
   ],
   "source": [
    "1 0 1 0 1\\[1]chemistry"
   ]
  },
  {
   "cell_type": "markdown",
   "id": "statistical-edinburgh",
   "metadata": {},
   "source": [
    "The axis specified can be the same as the default, making it redundant, but otherwise completely correct:"
   ]
  },
  {
   "cell_type": "code",
   "execution_count": 130,
   "id": "surgical-gazette",
   "metadata": {},
   "outputs": [
    {
     "data": {
      "text/html": [
       "<span style=\"white-space:pre; font-family: monospace\">H   2SO 444\n",
       "C   aCO 333\n",
       "F   e2O 333\n",
       "</span>"
      ]
     },
     "execution_count": 130,
     "metadata": {},
     "output_type": "execute_result"
    }
   ],
   "source": [
    "1 ¯3 1 1 1 0 3\\[2]chemistry"
   ]
  },
  {
   "cell_type": "markdown",
   "id": "mental-participation",
   "metadata": {},
   "source": [
    "With arrays of rank higher than 1, the description provided above remains the same, except that _extend_ no longer operates on single items of the right argument, but on its sub-arrays along the given axis (the last one, if left unspecified) instead.\n",
    "\n",
    "_Expand_ can also be used on scalars; they are repeated as many times as necessary to fit the number of positive values in the left argument:"
   ]
  },
  {
   "cell_type": "code",
   "execution_count": 131,
   "id": "rubber-diversity",
   "metadata": {},
   "outputs": [
    {
     "data": {
      "text/html": [
       "<span style=\"white-space:pre; font-family: monospace\">  AA  AA\n",
       "</span>"
      ]
     },
     "execution_count": 131,
     "metadata": {},
     "output_type": "execute_result"
    }
   ],
   "source": [
    "0 0 1 1 0 0 1 1\\'A'"
   ]
  },
  {
   "cell_type": "markdown",
   "id": "durable-terrace",
   "metadata": {},
   "source": [
    "The above is equivalent to"
   ]
  },
  {
   "cell_type": "code",
   "execution_count": 132,
   "id": "ignored-instruction",
   "metadata": {},
   "outputs": [
    {
     "data": {
      "text/html": [
       "<span style=\"white-space:pre; font-family: monospace\">  AA  AA\n",
       "</span>"
      ]
     },
     "execution_count": 132,
     "metadata": {},
     "output_type": "execute_result"
    }
   ],
   "source": [
    "0 0 1 1 0 0 1 1\\'AAAA'"
   ]
  },
  {
   "cell_type": "code",
   "execution_count": 133,
   "id": "tender-transformation",
   "metadata": {},
   "outputs": [
    {
     "data": {
      "text/html": [
       "<span style=\"white-space:pre; font-family: monospace\">0 71 71 71 71 0 0 71 71\n",
       "</span>"
      ]
     },
     "execution_count": 133,
     "metadata": {},
     "output_type": "execute_result"
    }
   ],
   "source": [
    "0 1 3 ¯2 1 1\\71"
   ]
  },
  {
   "cell_type": "markdown",
   "id": "adequate-video",
   "metadata": {},
   "source": [
    "### Expand Along First Axis"
   ]
  },
  {
   "cell_type": "markdown",
   "id": "infinite-episode",
   "metadata": {},
   "source": [
    "Like it was mentioned before, _expand_ works on the last dimension of an array.\n",
    "To work on the first dimension, one can use the function `⍀` (<kbd>APL</kbd>+<kbd>.</kbd>):"
   ]
  },
  {
   "cell_type": "code",
   "execution_count": 134,
   "id": "enhanced-metropolitan",
   "metadata": {},
   "outputs": [
    {
     "data": {
      "text/html": [
       "<span style=\"white-space:pre; font-family: monospace\">H2SO4\n",
       "CaCO3\n",
       "     \n",
       "     \n",
       "Fe2O3\n",
       "</span>"
      ]
     },
     "execution_count": 134,
     "metadata": {},
     "output_type": "execute_result"
    }
   ],
   "source": [
    "1 1 ¯2 1⍀chemistry"
   ]
  },
  {
   "cell_type": "markdown",
   "id": "piano-compression",
   "metadata": {},
   "source": [
    "If one places an axis indication after the symbol `\\` or `⍀`, the operation is processed according to the _axis_ operator, whichever of the two symbols is used.\n",
    "For example:\n",
    "\n",
    " - `vec⍀[3]prod` and `vec\\[3]prod` would be equivalent to `vec\\prod`; and\n",
    " - `vec\\[1]forecast` and `vec⍀[1]forecast` would be equivalent to `vec⍀forecast`."
   ]
  },
  {
   "cell_type": "markdown",
   "id": "interim-harassment",
   "metadata": {},
   "source": [
    "## Reverse and Transpose\n",
    "\n",
    "APL is also well endowed with functions which pivot data about an axis, and the axis is suggested by the shape of the symbol used.\n",
    "The functions apply to both numeric and character data.\n",
    "In the examples we are going to use a character matrix called `towns`:"
   ]
  },
  {
   "cell_type": "code",
   "execution_count": 144,
   "id": "arctic-halifax",
   "metadata": {},
   "outputs": [
    {
     "data": {
      "text/html": [
       "<span style=\"white-space:pre; font-family: monospace\">Canberra  \n",
       "Paris     \n",
       "Washington\n",
       "Moscow    \n",
       "Martigues \n",
       "Mexico    \n",
       "</span>"
      ]
     },
     "execution_count": 144,
     "metadata": {},
     "output_type": "execute_result"
    }
   ],
   "source": [
    "⎕← towns ← 6 10⍴'Canberra  Paris     WashingtonMoscow    Martigues Mexico    '"
   ]
  },
  {
   "cell_type": "markdown",
   "id": "neural-reynolds",
   "metadata": {},
   "source": [
    "The symbols `⌽` (<kbd>APL</kbd>+<kbd>Shift</kbd>+<kbd>5</kbd>) and `⊖` (<kbd>APL</kbd>+<kbd>Shift</kbd>+<kbd>7</kbd>) are used for two variants of the same function, which is called _reverse_.\n",
    "\n",
    "The function `⍉` is called _transpose_ and its symbol is typed with <kbd>APL</kbd>+<kbd>Shift</kbd>+<kbd>6</kbd>.\n",
    "\n",
    "Here are their effects:"
   ]
  },
  {
   "cell_type": "code",
   "execution_count": 145,
   "id": "ambient-membrane",
   "metadata": {},
   "outputs": [
    {
     "data": {
      "text/html": [
       "<span style=\"white-space:pre; font-family: monospace\">┌──────────┬──────────┬──────────┬──────┐\n",
       "│Canberra  │  arrebnaC│Mexico    │CPWMMM│\n",
       "│Paris     │     siraP│Martigues │aaaoae│\n",
       "│Washington│notgnihsaW│Moscow    │nrssrx│\n",
       "│Moscow    │    wocsoM│Washington│bihcti│\n",
       "│Martigues │ seugitraM│Paris     │esioic│\n",
       "│Mexico    │    ocixeM│Canberra  │r nwgo│\n",
       "│          │          │          │r g u │\n",
       "│          │          │          │a t e │\n",
       "│          │          │          │  o s │\n",
       "│          │          │          │  n   │\n",
       "└──────────┴──────────┴──────────┴──────┘\n",
       "</span>"
      ]
     },
     "execution_count": 145,
     "metadata": {},
     "output_type": "execute_result"
    }
   ],
   "source": [
    "(⊢towns) (⌽towns) (⊖towns) (⍉towns)"
   ]
  },
  {
   "cell_type": "markdown",
   "id": "automated-catering",
   "metadata": {},
   "source": [
    "The symbols used (`⌽ ⊖ ⍉`) are self-describing, no effort is required to remember any of them because the position of the bar visually indicates which kind of transformation they stand for.\n",
    "\n",
    "If you insert an axis specification after the symbols `⌽` or `⊖`, the operation is processed according to the _axis_ operator, whichever of the two symbols is used.\n",
    "So, for example:\n",
    "\n",
    " - `⌽[1]matrix` and `⊖[1]matrix` are both equivalent to `⊖matrix`; and\n",
    " - `⌽[2]matrix` and `⊖[2]matrix` are both equivalent to `⌽matrix`."
   ]
  },
  {
   "cell_type": "markdown",
   "id": "worth-visiting",
   "metadata": {},
   "source": [
    "### Caveats to be Aware Of\n",
    "\n",
    " - _Transpose_ has no effect on a vector, because it has only one axis:"
   ]
  },
  {
   "cell_type": "code",
   "execution_count": 146,
   "id": "medium-heating",
   "metadata": {},
   "outputs": [
    {
     "data": {
      "text/html": [
       "<span style=\"white-space:pre; font-family: monospace\">I shall not move\n",
       "</span>"
      ]
     },
     "execution_count": 146,
     "metadata": {},
     "output_type": "execute_result"
    }
   ],
   "source": [
    "⍉'I shall not move'"
   ]
  },
  {
   "cell_type": "markdown",
   "id": "democratic-regression",
   "metadata": {},
   "source": [
    "On a similar note,\n",
    "\n",
    " - The distracted APLer might expect `⊖` to do nothing on vectors, but that is _not_ what happens.\n",
    " \n",
    "Visually, `⊖` hints at the fact that it \"flips\" its argument upside down, and a vector can't be flipped upside down because it is one-dimensional.\n",
    "However, `⊖` is called _reverse **first**_, which means it always reverses the argument along its **first** dimension, even if that dimension is the _only_ dimension of the argument:"
   ]
  },
  {
   "cell_type": "code",
   "execution_count": 155,
   "id": "answering-supervisor",
   "metadata": {},
   "outputs": [
    {
     "data": {
      "text/html": [
       "<span style=\"white-space:pre; font-family: monospace\">?!...evom ton llahs I\n",
       "</span>"
      ]
     },
     "execution_count": 155,
     "metadata": {},
     "output_type": "execute_result"
    }
   ],
   "source": [
    "⊖'I shall not move...!?'"
   ]
  },
  {
   "cell_type": "markdown",
   "id": "fifteen-modern",
   "metadata": {},
   "source": [
    "This confusion might arise from the visual similarity of the character vector above and"
   ]
  },
  {
   "cell_type": "code",
   "execution_count": 156,
   "id": "together-ivory",
   "metadata": {},
   "outputs": [
    {
     "data": {
      "text/html": [
       "<span style=\"white-space:pre; font-family: monospace\">I shall not move...!?\n",
       "</span>"
      ]
     },
     "execution_count": 156,
     "metadata": {},
     "output_type": "execute_result"
    }
   ],
   "source": [
    "1 21⍴'I shall not move...!?'"
   ]
  },
  {
   "cell_type": "markdown",
   "id": "becoming-pierre",
   "metadata": {},
   "source": [
    "The latter is a 1-row matrix, which is why it _is_ left unchanged by `⊖`:"
   ]
  },
  {
   "cell_type": "code",
   "execution_count": 159,
   "id": "addressed-turner",
   "metadata": {},
   "outputs": [
    {
     "data": {
      "text/html": [
       "<span style=\"white-space:pre; font-family: monospace\">I shall not move...!?\n",
       "</span>"
      ]
     },
     "execution_count": 159,
     "metadata": {},
     "output_type": "execute_result"
    }
   ],
   "source": [
    "⊖1 21⍴'I shall not move...!?'"
   ]
  },
  {
   "cell_type": "markdown",
   "id": "fixed-broadcasting",
   "metadata": {},
   "source": [
    " - _Transpose_ cannot be modified by an axis specifier, because it always operates on all of the dimensions of its argument.\n",
    "\n",
    " - _Transpose_ can be applied to arrays of any rank; let us try it with a 3D character array:"
   ]
  },
  {
   "cell_type": "code",
   "execution_count": 150,
   "id": "organizational-exclusive",
   "metadata": {},
   "outputs": [
    {
     "data": {
      "text/html": [
       "<span style=\"white-space:pre; font-family: monospace\">Alex\n",
       "Anna\n",
       "Mark\n",
       "    \n",
       "Gain\n",
       "Nair\n",
       "Tyte\n",
       "</span>"
      ]
     },
     "execution_count": 150,
     "metadata": {},
     "output_type": "execute_result"
    }
   ],
   "source": [
    "⎕← big ← names,[0.5]surnames"
   ]
  },
  {
   "cell_type": "code",
   "execution_count": 151,
   "id": "pressing-alabama",
   "metadata": {},
   "outputs": [
    {
     "data": {
      "text/html": [
       "<span style=\"white-space:pre; font-family: monospace\">AG\n",
       "AN\n",
       "MT\n",
       "  \n",
       "la\n",
       "na\n",
       "ay\n",
       "  \n",
       "ei\n",
       "ni\n",
       "rt\n",
       "  \n",
       "xn\n",
       "ar\n",
       "ke\n",
       "</span>"
      ]
     },
     "execution_count": 151,
     "metadata": {},
     "output_type": "execute_result"
    }
   ],
   "source": [
    "⍉big"
   ]
  },
  {
   "cell_type": "code",
   "execution_count": 152,
   "id": "conditional-marketplace",
   "metadata": {},
   "outputs": [
    {
     "data": {
      "text/html": [
       "<span style=\"white-space:pre; font-family: monospace\">2 3 4\n",
       "</span>"
      ]
     },
     "execution_count": 152,
     "metadata": {},
     "output_type": "execute_result"
    }
   ],
   "source": [
    "⍴big"
   ]
  },
  {
   "cell_type": "code",
   "execution_count": 153,
   "id": "cosmetic-valve",
   "metadata": {},
   "outputs": [
    {
     "data": {
      "text/html": [
       "<span style=\"white-space:pre; font-family: monospace\">4 3 2\n",
       "</span>"
      ]
     },
     "execution_count": 153,
     "metadata": {},
     "output_type": "execute_result"
    }
   ],
   "source": [
    "⍴⍉big"
   ]
  },
  {
   "cell_type": "markdown",
   "id": "beginning-following",
   "metadata": {},
   "source": [
    "You can see that `⍴⍉big` is equal to `⌽⍴big`, and the explanation of why this is the case will follow shortly.\n",
    "\n",
    "All three primitives we just discussed also have (related) dyadic meanings, and those are introduced in two following sections."
   ]
  },
  {
   "cell_type": "markdown",
   "id": "fewer-zealand",
   "metadata": {},
   "source": [
    "## Rotate\n",
    "\n",
    "The symbols `⌽` and `⊖`, when used dyadically, shift the items of the right argument in a circular manner.\n",
    "\n",
    "The dyadic functions are called _rotate_."
   ]
  },
  {
   "cell_type": "markdown",
   "id": "acute-tenant",
   "metadata": {},
   "source": [
    "### Rotate Vectors\n",
    "\n",
    "Much like in the monadic case, the dyadic usage of `⌽` and `⊖` is identical when applied to vectors (we shall use `⌽` in our examples because of the visual clue that the symbol `⌽` gives with respect to the operation it performs).\n",
    "\n",
    "Dyadic `⌽` (and `⊖`) expects an integer as the left argument, when the right argument is a vector, like so: `r ← n⌽vector`.\n",
    "\n",
    " - when `n` is positive, the first `n` items of `vector` are moved to the end. In other words, the vector is rotated to the left; and\n",
    " - when `n` is negative, the last `n` items of `vector` are moved to the beginning. In other words, the vector is rotated to the right:"
   ]
  },
  {
   "cell_type": "code",
   "execution_count": 164,
   "id": "systematic-billion",
   "metadata": {},
   "outputs": [
    {
     "data": {
      "text/html": [
       "<span style=\"white-space:pre; font-family: monospace\">d they do to my song?What di\n",
       "</span>"
      ]
     },
     "execution_count": 164,
     "metadata": {},
     "output_type": "execute_result"
    }
   ],
   "source": [
    "7⌽'What did they do to my song?'"
   ]
  },
  {
   "cell_type": "markdown",
   "id": "computational-dakota",
   "metadata": {},
   "source": [
    "In the example above, the first 7 items of the vector (`'What di'`) have been moved to the back, whereas if we use a negative argument:"
   ]
  },
  {
   "cell_type": "code",
   "execution_count": 165,
   "id": "academic-landscape",
   "metadata": {},
   "outputs": [
    {
     "data": {
      "text/html": [
       "<span style=\"white-space:pre; font-family: monospace\">y song?What did they do to m\n",
       "</span>"
      ]
     },
     "execution_count": 165,
     "metadata": {},
     "output_type": "execute_result"
    }
   ],
   "source": [
    "¯7⌽'What did they do to my song?'"
   ]
  },
  {
   "cell_type": "markdown",
   "id": "duplicate-initial",
   "metadata": {},
   "source": [
    "the last 7 items of the vector (`'y song?'`) are moved to the front of the vector.\n",
    "\n",
    "_Rotate_ can of course be applied to numeric vectors as well:"
   ]
  },
  {
   "cell_type": "code",
   "execution_count": 166,
   "id": "separate-protocol",
   "metadata": {},
   "outputs": [
    {
     "data": {
      "text/html": [
       "<span style=\"white-space:pre; font-family: monospace\">56 66 19 37 44 20 18 23 68 70 82\n",
       "</span>"
      ]
     },
     "execution_count": 166,
     "metadata": {},
     "output_type": "execute_result"
    }
   ],
   "source": [
    "nums"
   ]
  },
  {
   "cell_type": "code",
   "execution_count": 167,
   "id": "spare-pressure",
   "metadata": {},
   "outputs": [
    {
     "data": {
      "text/html": [
       "<span style=\"white-space:pre; font-family: monospace\">37 44 20 18 23 68 70 82 56 66 19\n",
       "</span>"
      ]
     },
     "execution_count": 167,
     "metadata": {},
     "output_type": "execute_result"
    }
   ],
   "source": [
    "3⌽nums"
   ]
  },
  {
   "cell_type": "markdown",
   "id": "metallic-montana",
   "metadata": {},
   "source": [
    "Do not confuse the following two expressions:"
   ]
  },
  {
   "cell_type": "code",
   "execution_count": 168,
   "id": "respected-proportion",
   "metadata": {},
   "outputs": [
    {
     "data": {
      "text/html": [
       "<span style=\"white-space:pre; font-family: monospace\">68 70 82 56 66 19 37 44 20 18 23\n",
       "</span>"
      ]
     },
     "execution_count": 168,
     "metadata": {},
     "output_type": "execute_result"
    }
   ],
   "source": [
    "¯3⌽nums"
   ]
  },
  {
   "cell_type": "code",
   "execution_count": 169,
   "id": "prostate-theorem",
   "metadata": {},
   "outputs": [
    {
     "data": {
      "text/html": [
       "<span style=\"white-space:pre; font-family: monospace\">¯37 ¯44 ¯20 ¯18 ¯23 ¯68 ¯70 ¯82 ¯56 ¯66 ¯19\n",
       "</span>"
      ]
     },
     "execution_count": 169,
     "metadata": {},
     "output_type": "execute_result"
    }
   ],
   "source": [
    "-3⌽nums"
   ]
  },
  {
   "cell_type": "markdown",
   "id": "purple-death",
   "metadata": {},
   "source": [
    "The first one moves 3 items to the beginning, whilst the second expression moves the first 3 items to the end, and then changes the sign of the result (we saw something very similar when we talked about _take_).\n",
    "It is all about being careful with the normal and high minus symbols!"
   ]
  },
  {
   "cell_type": "markdown",
   "id": "frozen-viking",
   "metadata": {},
   "source": [
    "### Rotate Higher-Rank Arrays\n",
    "\n",
    "When applied to a matrix or higher-order array, `⌽` works on the last dimension, while `⊖` works on the first dimension.\n",
    "This default behaviour can be overriden by an _axis_ specification.\n",
    "To obtain a rotation along any other dimension, the _axis_ specification is mandatory.\n",
    "\n",
    "_Rotate_ can be applied to any array, but we shall only demonstrate its application to matrices."
   ]
  },
  {
   "cell_type": "markdown",
   "id": "auburn-isolation",
   "metadata": {},
   "source": [
    "#### Uniform Rotation\n",
    "\n",
    "In its simplest form, _rotate_ applies the same rotation to all the rows or columns of a matrix; let us see the result produced on a character matrix:"
   ]
  },
  {
   "cell_type": "code",
   "execution_count": 170,
   "id": "academic-indonesia",
   "metadata": {},
   "outputs": [
    {
     "data": {
      "text/html": [
       "<span style=\"white-space:pre; font-family: monospace\">January \n",
       "February\n",
       "March   \n",
       "April   \n",
       "May     \n",
       "June    \n",
       "</span>"
      ]
     },
     "execution_count": 170,
     "metadata": {},
     "output_type": "execute_result"
    }
   ],
   "source": [
    "⎕← monMat ← 6 8⍴'January FebruaryMarch   April   May     June    '"
   ]
  },
  {
   "cell_type": "code",
   "execution_count": 171,
   "id": "excess-lending",
   "metadata": {},
   "outputs": [
    {
     "data": {
      "text/html": [
       "<span style=\"white-space:pre; font-family: monospace\">nuary Ja\n",
       "bruaryFe\n",
       "rch   Ma\n",
       "ril   Ap\n",
       "y     Ma\n",
       "ne    Ju\n",
       "</span>"
      ]
     },
     "execution_count": 171,
     "metadata": {},
     "output_type": "execute_result"
    }
   ],
   "source": [
    "2⌽monMat"
   ]
  },
  {
   "cell_type": "code",
   "execution_count": 172,
   "id": "separate-ambassador",
   "metadata": {},
   "outputs": [
    {
     "data": {
      "text/html": [
       "<span style=\"white-space:pre; font-family: monospace\">March   \n",
       "April   \n",
       "May     \n",
       "June    \n",
       "January \n",
       "February\n",
       "</span>"
      ]
     },
     "execution_count": 172,
     "metadata": {},
     "output_type": "execute_result"
    }
   ],
   "source": [
    "2⊖monMat"
   ]
  },
  {
   "cell_type": "code",
   "execution_count": 173,
   "id": "isolated-envelope",
   "metadata": {},
   "outputs": [
    {
     "data": {
      "text/html": [
       "<span style=\"white-space:pre; font-family: monospace\">May     \n",
       "June    \n",
       "January \n",
       "February\n",
       "March   \n",
       "April   \n",
       "</span>"
      ]
     },
     "execution_count": 173,
     "metadata": {},
     "output_type": "execute_result"
    }
   ],
   "source": [
    "¯2⊖monMat"
   ]
  },
  {
   "cell_type": "markdown",
   "id": "perceived-animation",
   "metadata": {},
   "source": [
    "#### Multiple Rotations\n",
    "\n",
    "It is possible to apply a different rotation to each of the rows or to each of the columns.\n",
    "\n",
    "In this case, the rotation is no longer indicated by a single value, but by a vector which specifies the amount by which each row or column will be moved."
   ]
  },
  {
   "cell_type": "code",
   "execution_count": 174,
   "id": "coated-campbell",
   "metadata": {},
   "outputs": [
    {
     "data": {
      "text/html": [
       "<span style=\"white-space:pre; font-family: monospace\">H2SO4\n",
       "CaCO3\n",
       "Fe2O3\n",
       "</span>"
      ]
     },
     "execution_count": 174,
     "metadata": {},
     "output_type": "execute_result"
    }
   ],
   "source": [
    "chemistry"
   ]
  },
  {
   "cell_type": "code",
   "execution_count": 175,
   "id": "static-swiss",
   "metadata": {},
   "outputs": [
    {
     "data": {
      "text/html": [
       "<span style=\"white-space:pre; font-family: monospace\">4H2SO\n",
       "CaCO3\n",
       "2O3Fe\n",
       "</span>"
      ]
     },
     "execution_count": 175,
     "metadata": {},
     "output_type": "execute_result"
    }
   ],
   "source": [
    "¯1 0 2⌽chemistry"
   ]
  },
  {
   "cell_type": "markdown",
   "id": "proved-touch",
   "metadata": {},
   "source": [
    "Notice how `¯1` was used to rotate the first row, `0` was used to rotate the second row, and `2` was used to rotate the third row.\n",
    "\n",
    "Using `⊖`, we can rotate columns:"
   ]
  },
  {
   "cell_type": "code",
   "execution_count": 176,
   "id": "static-kidney",
   "metadata": {},
   "outputs": [
    {
     "data": {
      "text/html": [
       "<span style=\"white-space:pre; font-family: monospace\">January \n",
       "February\n",
       "March   \n",
       "April   \n",
       "May     \n",
       "June    \n",
       "</span>"
      ]
     },
     "execution_count": 176,
     "metadata": {},
     "output_type": "execute_result"
    }
   ],
   "source": [
    "monMat"
   ]
  },
  {
   "cell_type": "code",
   "execution_count": 177,
   "id": "provincial-assurance",
   "metadata": {},
   "outputs": [
    {
     "data": {
      "text/html": [
       "<span style=\"white-space:pre; font-family: monospace\">Far ar  \n",
       "Mereua  \n",
       "Aayuh   \n",
       "Mpnrl   \n",
       "Janc  y \n",
       "Jubi  ry\n",
       "</span>"
      ]
     },
     "execution_count": 177,
     "metadata": {},
     "output_type": "execute_result"
    }
   ],
   "source": [
    "1 0 2 ¯2 0 0 2 2⊖monMat"
   ]
  },
  {
   "cell_type": "markdown",
   "id": "virgin-hebrew",
   "metadata": {},
   "source": [
    "#### Application\n",
    "\n",
    "_Rotate_ can provide very simple solutions to many tasks.\n",
    "For example, let us count how many blanks appear at the end of each row of `monMat`:"
   ]
  },
  {
   "cell_type": "code",
   "execution_count": 178,
   "id": "hearing-nancy",
   "metadata": {},
   "outputs": [
    {
     "data": {
      "text/html": [
       "<span style=\"white-space:pre; font-family: monospace\">1 0 3 3 5 4\n",
       "</span>"
      ]
     },
     "execution_count": 178,
     "metadata": {},
     "output_type": "execute_result"
    }
   ],
   "source": [
    "+/' '=monMat"
   ]
  },
  {
   "cell_type": "markdown",
   "id": "critical-canyon",
   "metadata": {},
   "source": [
    "We can then use these values to move the blanks to the beginning of each row, thereby right-aligning the matrix:"
   ]
  },
  {
   "cell_type": "code",
   "execution_count": 180,
   "id": "steady-doubt",
   "metadata": {},
   "outputs": [
    {
     "data": {
      "text/html": [
       "<span style=\"white-space:pre; font-family: monospace\"> January\n",
       "February\n",
       "   March\n",
       "   April\n",
       "     May\n",
       "    June\n",
       "</span>"
      ]
     },
     "execution_count": 180,
     "metadata": {},
     "output_type": "execute_result"
    }
   ],
   "source": [
    "(-+/' '=monMat)⌽monMat"
   ]
  },
  {
   "cell_type": "code",
   "execution_count": null,
   "id": "drawn-serbia",
   "metadata": {},
   "outputs": [],
   "source": []
  }
 ],
 "metadata": {
  "kernelspec": {
   "display_name": "Dyalog APL",
   "language": "apl",
   "name": "dyalog-kernel"
  },
  "language_info": {
   "file_extension": ".apl",
   "mimetype": "text/apl",
   "name": "APL"
  },
  "toc": {
   "base_numbering": 1,
   "nav_menu": {},
   "number_sections": false,
   "sideBar": true,
   "skip_h1_title": true,
   "title_cell": "Table of Contents",
   "title_sidebar": "Contents",
   "toc_cell": false,
   "toc_position": {},
   "toc_section_display": true,
   "toc_window_display": false
  }
 },
 "nbformat": 4,
 "nbformat_minor": 5
}
