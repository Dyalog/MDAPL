{
 "cells": [
  {
   "cell_type": "markdown",
   "id": "sharing-vietnam",
   "metadata": {},
   "source": [
    "# Working on Data Shape\n",
    "\n",
    "In many programming languages, the programmer has to declare the dimensions of an array statically, and it is often possible to operate on the individual items using programmer-written loops.\n",
    "\n",
    "In contrast to this, because APL processes arrays in their entirety, it is important to be able to manage the dimensions of an array dynamically.\n",
    "This is why this chapter presents a number of new tools that will help you perform these tasks.\n",
    "\n",
    "We have already studied functions which create arrays with specific shapes:\n",
    "\n",
    "| Name | Syntax | Explanation |\n",
    "| :- | :-: | :- |\n",
    "| Reshape | `x⍴y` | Creates a new array with dimensions `x` and the data from `y`. |\n",
    "| Catenate | `x,y` | Creates a new array by gluing `x` and `y` together. |\n",
    "| Ravel | `,y` | Creates a vector from any array. |\n",
    "| Compress | `x/y` | Selects parts of an array. |\n",
    "| Replicate | `x/y` | Generally replicates the items of an array. |\n",
    "| Indexing | `x[y]` | Creates a new array, often with modified dimensions. |\n",
    "| Index function | `x⌷y` | Creates a new array, often with modified dimensions. |"
   ]
  },
  {
   "cell_type": "markdown",
   "id": "alpine-cooperation",
   "metadata": {},
   "source": [
    "## Take and Drop\n",
    "\n",
    "### Take and Drop Applied to Vectors\n",
    "\n",
    "#### Starter\n",
    "\n",
    "There are two functions, _take_ (`↑`) and _drop_ (`↓`), that can be used to extract or remove a number of elements from the beginning or end of a vector.\n",
    "The number is the left argument and its sign controls if the extraction/removal is done from the beginning or end of the vector.\n",
    "\n",
    " - _Take_ extracts the vector's head or tail; and\n",
    " - _Drop_ removes the vector's head or tail, and hence selects the remaining part.\n",
    "\n",
    "Let us test these functions:"
   ]
  },
  {
   "cell_type": "code",
   "execution_count": 3,
   "id": "scenic-cyprus",
   "metadata": {},
   "outputs": [],
   "source": [
    "nums ← 56 66 19 37 44 20 18 23 68 70 82"
   ]
  },
  {
   "cell_type": "markdown",
   "id": "practical-hybrid",
   "metadata": {},
   "source": [
    "With a positive left argument `n`, _take_ extracts the first `n` items:"
   ]
  },
  {
   "cell_type": "code",
   "execution_count": 4,
   "id": "freelance-screening",
   "metadata": {},
   "outputs": [
    {
     "data": {
      "text/html": [
       "<span style=\"white-space:pre; font-family: monospace\">56 66 19 37\n",
       "</span>"
      ]
     },
     "execution_count": 4,
     "metadata": {},
     "output_type": "execute_result"
    }
   ],
   "source": [
    "4↑nums"
   ]
  },
  {
   "cell_type": "markdown",
   "id": "latin-israel",
   "metadata": {},
   "source": [
    "It works on any kind of data (numbers, text),"
   ]
  },
  {
   "cell_type": "code",
   "execution_count": 6,
   "id": "native-science",
   "metadata": {},
   "outputs": [
    {
     "data": {
      "text/html": [
       "<span style=\"white-space:pre; font-family: monospace\">My na\n",
       "</span>"
      ]
     },
     "execution_count": 6,
     "metadata": {},
     "output_type": "execute_result"
    }
   ],
   "source": [
    "5↑'My name is Bond'"
   ]
  },
  {
   "cell_type": "markdown",
   "id": "lonely-ozone",
   "metadata": {},
   "source": [
    "including nested arrays:"
   ]
  },
  {
   "cell_type": "code",
   "execution_count": 7,
   "id": "fancy-passing",
   "metadata": {},
   "outputs": [
    {
     "data": {
      "text/html": [
       "<span style=\"white-space:pre; font-family: monospace\">┌───┬───────────┐\n",
       "│6 2│35 33 26 21│\n",
       "└───┴───────────┘\n",
       "</span>"
      ]
     },
     "execution_count": 7,
     "metadata": {},
     "output_type": "execute_result"
    }
   ],
   "source": [
    "2↑(6 2)(35 33 26 21)(42 73)(1 2 3)"
   ]
  },
  {
   "cell_type": "markdown",
   "id": "featured-single",
   "metadata": {},
   "source": [
    "With a negative left argument `n`, it extracts the last `|n` items of the vector, in their normal order:"
   ]
  },
  {
   "cell_type": "code",
   "execution_count": 8,
   "id": "victorian-cassette",
   "metadata": {},
   "outputs": [
    {
     "data": {
      "text/html": [
       "<span style=\"white-space:pre; font-family: monospace\">68 70 82\n",
       "</span>"
      ]
     },
     "execution_count": 8,
     "metadata": {},
     "output_type": "execute_result"
    }
   ],
   "source": [
    "¯3↑nums"
   ]
  },
  {
   "cell_type": "code",
   "execution_count": 9,
   "id": "maritime-fitness",
   "metadata": {},
   "outputs": [
    {
     "data": {
      "text/html": [
       "<span style=\"white-space:pre; font-family: monospace\">ssippi\n",
       "</span>"
      ]
     },
     "execution_count": 9,
     "metadata": {},
     "output_type": "execute_result"
    }
   ],
   "source": [
    "¯6↑'Mississippi'"
   ]
  },
  {
   "cell_type": "markdown",
   "id": "expensive-interview",
   "metadata": {},
   "source": [
    "Sometimes, these two operations are referred to as taking the \"head\" of the vector (with a positive left argument) and taking the \"tail\" of the vector (with a negative left argument).\n",
    "\n",
    "With a positive left argument `n`, _drop_ removes the first `n` items and returns the tail:"
   ]
  },
  {
   "cell_type": "code",
   "execution_count": 10,
   "id": "involved-teach",
   "metadata": {},
   "outputs": [
    {
     "data": {
      "text/html": [
       "<span style=\"white-space:pre; font-family: monospace\">44 20 18 23 68 70 82\n",
       "</span>"
      ]
     },
     "execution_count": 10,
     "metadata": {},
     "output_type": "execute_result"
    }
   ],
   "source": [
    "4↓nums"
   ]
  },
  {
   "cell_type": "code",
   "execution_count": 11,
   "id": "hired-mediterranean",
   "metadata": {},
   "outputs": [
    {
     "data": {
      "text/html": [
       "<span style=\"white-space:pre; font-family: monospace\">me is Bond\n",
       "</span>"
      ]
     },
     "execution_count": 11,
     "metadata": {},
     "output_type": "execute_result"
    }
   ],
   "source": [
    "5↓'My name is Bond'"
   ]
  },
  {
   "cell_type": "markdown",
   "id": "failing-telephone",
   "metadata": {},
   "source": [
    "With a negative left argument `n`, it removes the last `|n` items and returns the head:"
   ]
  },
  {
   "cell_type": "code",
   "execution_count": 12,
   "id": "mediterranean-stations",
   "metadata": {},
   "outputs": [
    {
     "data": {
      "text/html": [
       "<span style=\"white-space:pre; font-family: monospace\">Missi\n",
       "</span>"
      ]
     },
     "execution_count": 12,
     "metadata": {},
     "output_type": "execute_result"
    }
   ],
   "source": [
    "¯6↓'Mississippi'"
   ]
  },
  {
   "cell_type": "markdown",
   "id": "exciting-channels",
   "metadata": {},
   "source": [
    "<!--begin remark-->\n",
    "***Remark***:\n",
    "\n",
    " > You will have noticed that `4↑nums` and `¯7↓nums` both gave the same result `56 66 19 37`.\n",
    " >\n",
    " > At first sight it would appear that there is no need for both of these functions, and that one or other of _take_ and _drop_ is redundant.\n",
    " > There are, however, some differences that make it necessary to have both functions, as we will soon see.\n",
    "<!--end-->"
   ]
  },
  {
   "cell_type": "markdown",
   "id": "mediterranean-perspective",
   "metadata": {},
   "source": [
    "#### Be Careful\n",
    "\n",
    "Do not confuse the two following expressions.\n",
    "\n",
    "We can take the **last** three items of a vector:"
   ]
  },
  {
   "cell_type": "code",
   "execution_count": 13,
   "id": "acute-flash",
   "metadata": {},
   "outputs": [
    {
     "data": {
      "text/html": [
       "<span style=\"white-space:pre; font-family: monospace\">68 70 82\n",
       "</span>"
      ]
     },
     "execution_count": 13,
     "metadata": {},
     "output_type": "execute_result"
    }
   ],
   "source": [
    "¯3↑nums"
   ]
  },
  {
   "cell_type": "markdown",
   "id": "common-administrator",
   "metadata": {},
   "source": [
    "Or we can take the first three items, and then change their sign:"
   ]
  },
  {
   "cell_type": "code",
   "execution_count": 14,
   "id": "motivated-envelope",
   "metadata": {},
   "outputs": [
    {
     "data": {
      "text/html": [
       "<span style=\"white-space:pre; font-family: monospace\">¯56 ¯66 ¯19\n",
       "</span>"
      ]
     },
     "execution_count": 14,
     "metadata": {},
     "output_type": "execute_result"
    }
   ],
   "source": [
    "-3↑nums"
   ]
  },
  {
   "cell_type": "markdown",
   "id": "british-grave",
   "metadata": {},
   "source": [
    "On another note, the result of _take_ and _drop_ applied to a vector remains a vector, even if it has only one item:"
   ]
  },
  {
   "cell_type": "code",
   "execution_count": 15,
   "id": "weird-bernard",
   "metadata": {},
   "outputs": [
    {
     "data": {
      "text/html": [
       "<span style=\"white-space:pre; font-family: monospace\">1\n",
       "</span>"
      ]
     },
     "execution_count": 15,
     "metadata": {},
     "output_type": "execute_result"
    }
   ],
   "source": [
    "⍴1↑nums"
   ]
  },
  {
   "cell_type": "code",
   "execution_count": 16,
   "id": "remarkable-cheat",
   "metadata": {},
   "outputs": [
    {
     "data": {
      "text/html": [
       "<span style=\"white-space:pre; font-family: monospace\">1\n",
       "</span>"
      ]
     },
     "execution_count": 16,
     "metadata": {},
     "output_type": "execute_result"
    }
   ],
   "source": [
    "⍴10↓nums"
   ]
  },
  {
   "cell_type": "markdown",
   "id": "developmental-lying",
   "metadata": {},
   "source": [
    "Although the results of the two expressions above would contain only one item, they are 1-item vectors, and not scalars."
   ]
  },
  {
   "cell_type": "markdown",
   "id": "acceptable-sperm",
   "metadata": {},
   "source": [
    "#### Produce Empty Vectors\n",
    "\n",
    "Of course, if you take no items, or if you drop all the items, the result is an empty vector of the same type (numeric or character) as the original vector:"
   ]
  },
  {
   "cell_type": "code",
   "execution_count": 17,
   "id": "cordless-excess",
   "metadata": {},
   "outputs": [
    {
     "data": {
      "text/html": [
       "<span style=\"white-space:pre; font-family: monospace\">\n",
       "</span>"
      ]
     },
     "execution_count": 17,
     "metadata": {},
     "output_type": "execute_result"
    }
   ],
   "source": [
    "0↑nums"
   ]
  },
  {
   "cell_type": "code",
   "execution_count": 18,
   "id": "matched-module",
   "metadata": {},
   "outputs": [
    {
     "data": {
      "text/html": [
       "<span style=\"white-space:pre; font-family: monospace\">\n",
       "</span>"
      ]
     },
     "execution_count": 18,
     "metadata": {},
     "output_type": "execute_result"
    }
   ],
   "source": [
    "22↓nums"
   ]
  },
  {
   "cell_type": "code",
   "execution_count": 19,
   "id": "indonesian-member",
   "metadata": {},
   "outputs": [
    {
     "data": {
      "text/html": [
       "<span style=\"white-space:pre; font-family: monospace\">\n",
       "</span>"
      ]
     },
     "execution_count": 19,
     "metadata": {},
     "output_type": "execute_result"
    }
   ],
   "source": [
    "14↓'Empty'"
   ]
  },
  {
   "cell_type": "markdown",
   "id": "imported-beijing",
   "metadata": {},
   "source": [
    "Although all of the results above are empty vectors, we know that they are different if the original vectors have different types of data:"
   ]
  },
  {
   "cell_type": "code",
   "execution_count": 21,
   "id": "pregnant-korean",
   "metadata": {},
   "outputs": [
    {
     "data": {
      "text/html": [
       "<span style=\"white-space:pre; font-family: monospace\">0\n",
       "</span>"
      ]
     },
     "execution_count": 21,
     "metadata": {},
     "output_type": "execute_result"
    }
   ],
   "source": [
    "(22↓nums)≡(14↓'Empty')"
   ]
  },
  {
   "cell_type": "markdown",
   "id": "looking-wilson",
   "metadata": {},
   "source": [
    "Take a look at [this section](./Data-and-Variables.ipynb#Empty-Arrays) for a reminder of how empty arrays work."
   ]
  },
  {
   "cell_type": "markdown",
   "id": "matched-newfoundland",
   "metadata": {},
   "source": [
    "#### Take More Cash Than You Have\n",
    "\n",
    "The _take_ function has a very special property: it allows you to take more items than there really are.\n",
    "If so, it pads the result with _fill items_; zeroes for a numeric vector, and blanks for a text vector:"
   ]
  },
  {
   "cell_type": "code",
   "execution_count": 22,
   "id": "gentle-meaning",
   "metadata": {},
   "outputs": [],
   "source": [
    "cash ← 45 23 18 92"
   ]
  },
  {
   "cell_type": "markdown",
   "id": "aging-favorite",
   "metadata": {},
   "source": [
    "If we take too many items, zeroes are appended to the vector:"
   ]
  },
  {
   "cell_type": "code",
   "execution_count": 24,
   "id": "hindu-harvard",
   "metadata": {},
   "outputs": [
    {
     "data": {
      "text/html": [
       "<span style=\"white-space:pre; font-family: monospace\">45 23 18 92 0 0 0\n",
       "</span>"
      ]
     },
     "execution_count": 24,
     "metadata": {},
     "output_type": "execute_result"
    }
   ],
   "source": [
    "7↑cash"
   ]
  },
  {
   "cell_type": "markdown",
   "id": "after-lawsuit",
   "metadata": {},
   "source": [
    "With negative left arguments, starting from the tail, the zeroes are placed before the existing items:"
   ]
  },
  {
   "cell_type": "code",
   "execution_count": 25,
   "id": "precise-increase",
   "metadata": {},
   "outputs": [
    {
     "data": {
      "text/html": [
       "<span style=\"white-space:pre; font-family: monospace\">0 0 0 0 0 45 23 18 92\n",
       "</span>"
      ]
     },
     "execution_count": 25,
     "metadata": {},
     "output_type": "execute_result"
    }
   ],
   "source": [
    "¯9↑cash"
   ]
  },
  {
   "cell_type": "markdown",
   "id": "further-better",
   "metadata": {},
   "source": [
    "For character vectors, spaces are appended:"
   ]
  },
  {
   "cell_type": "code",
   "execution_count": 26,
   "id": "amber-jurisdiction",
   "metadata": {},
   "outputs": [
    {
     "data": {
      "text/html": [
       "<span style=\"white-space:pre; font-family: monospace\">Invisible   \n",
       "</span>"
      ]
     },
     "execution_count": 26,
     "metadata": {},
     "output_type": "execute_result"
    }
   ],
   "source": [
    "12↑'Invisible'"
   ]
  },
  {
   "cell_type": "markdown",
   "id": "funky-ferry",
   "metadata": {},
   "source": [
    "However, you have to be careful because those do not show:"
   ]
  },
  {
   "cell_type": "code",
   "execution_count": 27,
   "id": "marine-leader",
   "metadata": {},
   "outputs": [
    {
     "data": {
      "text/html": [
       "<span style=\"white-space:pre; font-family: monospace\">Invisible   .\n",
       "</span>"
      ]
     },
     "execution_count": 27,
     "metadata": {},
     "output_type": "execute_result"
    }
   ],
   "source": [
    "(12↑'Invisible'),'.'"
   ]
  },
  {
   "cell_type": "markdown",
   "id": "automotive-nomination",
   "metadata": {},
   "source": [
    "Starting from the right, with a negative left argument, the blanks are appended to the left and are a bit easier to see:"
   ]
  },
  {
   "cell_type": "code",
   "execution_count": 28,
   "id": "everyday-cinema",
   "metadata": {},
   "outputs": [
    {
     "data": {
      "text/html": [
       "<span style=\"white-space:pre; font-family: monospace\">     Visible\n",
       "</span>"
      ]
     },
     "execution_count": 28,
     "metadata": {},
     "output_type": "execute_result"
    }
   ],
   "source": [
    "¯12↑'Visible'"
   ]
  },
  {
   "cell_type": "markdown",
   "id": "present-healing",
   "metadata": {},
   "source": [
    "In fact, the concept of _fill item_ is a bit more complex than this; it will be studied in detail in [a later section](./Nested-Arrays-(Continued).ipynb#Prototype-Fill-Item).\n",
    "\n",
    "The concept of \"taking more than you have\" is sometimes referred to as _overtaking_.\n",
    "This is an application of _take_ that cannot be performed using _drop_ alone.\n",
    "\n",
    "This property applies equally to empty vectors; they are filled with as many zeroes or blanks as specified.\n",
    "This means that the result will be different for empty numeric and empty character vectors:"
   ]
  },
  {
   "cell_type": "code",
   "execution_count": 29,
   "id": "small-yacht",
   "metadata": {},
   "outputs": [
    {
     "data": {
      "text/html": [
       "<span style=\"white-space:pre; font-family: monospace\">┌→──────┐\n",
       "│0 0 0 0│\n",
       "└~──────┘\n",
       "</span>"
      ]
     },
     "execution_count": 29,
     "metadata": {},
     "output_type": "execute_result"
    }
   ],
   "source": [
    "]display 4↑⍬"
   ]
  },
  {
   "cell_type": "code",
   "execution_count": 30,
   "id": "accurate-cooperative",
   "metadata": {},
   "outputs": [
    {
     "data": {
      "text/html": [
       "<span style=\"white-space:pre; font-family: monospace\">┌→───┐\n",
       "│    │\n",
       "└────┘\n",
       "</span>"
      ]
     },
     "execution_count": 30,
     "metadata": {},
     "output_type": "execute_result"
    }
   ],
   "source": [
    "]display 4↑''"
   ]
  },
  {
   "cell_type": "code",
   "execution_count": null,
   "id": "known-producer",
   "metadata": {},
   "outputs": [],
   "source": []
  }
 ],
 "metadata": {
  "kernelspec": {
   "display_name": "Dyalog APL",
   "language": "apl",
   "name": "dyalog-kernel"
  },
  "language_info": {
   "file_extension": ".apl",
   "mimetype": "text/apl",
   "name": "APL"
  },
  "toc": {
   "base_numbering": 1,
   "nav_menu": {},
   "number_sections": false,
   "sideBar": true,
   "skip_h1_title": true,
   "title_cell": "Table of Contents",
   "title_sidebar": "Contents",
   "toc_cell": false,
   "toc_position": {},
   "toc_section_display": true,
   "toc_window_display": false
  }
 },
 "nbformat": 4,
 "nbformat_minor": 5
}
