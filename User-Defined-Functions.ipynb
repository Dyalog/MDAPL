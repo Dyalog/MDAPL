{
 "cells": [
  {
   "cell_type": "markdown",
   "metadata": {},
   "source": [
    "**Notes to self**:\n",
    "\n",
    " - move misc section to the end of the chapter, before exercises\n",
    " - write about tail recursion in specialist's section\n",
    " - move the subsection on the del ∇ to after tradfns"
   ]
  },
  {
   "cell_type": "markdown",
   "metadata": {},
   "source": [
    "# User Defined Functions\n",
    "\n",
    "## Landmarks\n",
    "\n",
    "### Some Definitions\n",
    "\n",
    "In previous chapters we made a distinction between the functions and operators which are part of APL, like `+`, `×`, `⌈` and `/` (we refer to them as *primitives*), and those functions and operators that are created by the user which are represented, not by a symbol, but by a name like `Average` (we say they are *user-defined*).\n",
    "\n",
    "We also made an important distinction between *functions*, which apply to data and which return data, and *operators*, which apply to functions or data and produce *derived* functions (see [the definition of Reduce](./Some-Primitive-Functions.ipynb#Definition)).\n",
    "\n",
    "This means that we can distinguish between 4 major categories of processing tools:\n",
    "\n",
    "| Category | Name | Examples | Refer to |\n",
    "| :- | :- | :-: | :-: |\n",
    "| Built-in tools | Primitive functions | `+` `×` `⌈` `⍴` | Previous chapters |\n",
    "| | Primitive operators | `/` | [Chapter on Operators](./Operators.ipynb) |\n",
    "| User-defined tools | **User-defined functions** | `Average` | This chapter |\n",
    "| | User-defined operators | | [Section on User-Defined Operators](./Operators.ipynb#User-Defined-Operators) |\n",
    "\n",
    "This chapter is devoted to user-defined *functions*. The subject of user-defined *operators* will be covered later.\n",
    "\n",
    "We can further categorise user-defined functions according to the way they process data. Firstly we can distinguish between ***Direct*** and ***Procedural*** **functions**.\n",
    "\n",
    " - ***Direct*** functions (commonly referred to as ***dfns***) are defined in a very formal manner.\n",
    "   - They are usually designed for pure calculation, without any external or user interfaces. *Dfns* do not allow loops except by recursion and have limited options for conditional programming.\n",
    "   \n",
    " - ***Procedural*** functions (commonly referred to as ***tradfns***, short for *traditional functions*) are less formal and look much more like programs written in other languages.\n",
    "   - They provide greater flexibility for building major applications which involve user interfaces, access to files or databases and other external interfaces. *Tradfns* may take no arguments and behave like scripts.\n",
    "   \n",
    "Even though you may write entire systems with dfns, you might prefer to restrict their use to encapsulate statements that, together, perform some meaningful operation on the data given.\n",
    "\n",
    "The second distinction we can make concerns the number of arguments a user-defined function can have.\n",
    "\n",
    " - ***Dyadic*** functions take two arguments which are placed on either side of the function (`X f Y`);\n",
    " - ***Monadic*** functions take a single argument which is placed to the right of the function (`f Y`);\n",
    " - ***Niladic*** functions take no argument at all;\n",
    " - ***Ambivalent*** functions are dyadic functions whose left argument is optional."
   ]
  },
  {
   "cell_type": "markdown",
   "metadata": {},
   "source": [
    "### Configure Your Environment\n",
    "\n",
    "Dyalog APL has a highly configurable development and debugging environment, designed to fit the requirements of very different kinds of programmers. This environment is controlled by configuration parameters; let us determine which context will suit you best.\n",
    "\n",
    "#### What Do You Need?\n",
    "\n",
    "All you need (except for love) is:\n",
    "\n",
    " - a window in which to type expressions that you want to be executed (white Session window);\n",
    " - one or more windows in which to create/modify user-defined functions (grey Edit windows);\n",
    " - one or more windows to debug execution errors (black Trace window).\n",
    " \n",
    "The colours above refer to the positions of the windows in <!--figure-->the figures below<!--IDE_Window_Layout,IDE_Window_Horizontal_Layout,IDE_Floating_Window_Layout-->.\n",
    "\n",
    "The default configuration is consistent with other software development tools and in it is possible to divide the session window into three parts which can be resized, as shown in <!--figure-->here<!--IDE_Window_Layout-->:\n",
    "\n",
    "![The default window configuration](res/IDE_Window_Layout.png)\n",
    "\n",
    "This configuration provides a single Edit window and a single Trace window, each of which is \"docked\" along one of the Session window borders. You can dock these windows along any of the Session window sides. For example, <!--figure-->the figure below<!--IDE_Window_Horizontal_Layout--> shows a configuration with three horizontal panes, highly suitable for entering and editing very long statements.\n",
    "\n",
    "![The Edit and Trace windows in a horizontal layout](res/IDE_Window_Horizontal_Layout.png)\n",
    "\n",
    "The Edit window supports the *Multiple Document Interface* (MDI). This means that you can work on more than one function at a time.\n",
    "\n",
    " - On the Windows interpreter you can use the \"Window\" menu to *Tile* and *Cascade*, or you can maximise any one of the functions to concentrate solely upon it.\n",
    " - If you are using RIDE the default behaviour is to open a tab per item you are editing.\n",
    " \n",
    "If you are working on a relatively small screen you may find that you prefer to work with \"floating\" windows in a layout similar to the one in <!--figure-->here<!--IDE_Floating_Window_Layout-->:\n",
    "\n",
    "![\"floating\" windows layout](res/IDE_Floating_Window_Layout.png)\n",
    "\n",
    " - On the Windows interpreter, you can either\n",
    "   - grab the border of a sub-window (Edit or Trace) and then drag and drop it in the middle of the session window, as an independent floating window,\n",
    "   - or enable the \"Classic Dyalog mode\", which can be set under \"Options\" ⇨ \"Configure...\" ⇨ \"Trace/Edit\" as shown in <!--figure-->the figure below<!--IDE_Configure_Classic_Mode-->.\n",
    "\n",
    "![Option to set \"Classic Dyalog mode\"](res/IDE_Configure_Classic_Mode.png)\n",
    "\n",
    " - If you are using RIDE you can go to \"Edit\" ⇨ \"Preferences\" ⇨ \"Windows\" and enable \"Floating windows\" as shown in <!--figure-->the next figure<!--RIDE_Configure_Floating_Windows-->:\n",
    " \n",
    "![Enable \"floating\" windows in RIDE](res/RIDE_Configure_Floating_Windows.png)\n",
    "\n",
    "Working with floating windows has the added benefit of allowing you to have a stack of trace windows (as opposed to a single trace window), showing which functions call which other. This will be explored in [the section on configuring the trace tools](./First-Aid-Kit.ipynb#Choose-Your-Configuration)."
   ]
  },
  {
   "cell_type": "markdown",
   "metadata": {},
   "source": [
    "#### A Text Editor; What For?\n",
    "\n",
    "Some dfns can be defined by a single expression and so are easy to define inside the session. We used this technique before to define a function named `Average` and here we do it again:"
   ]
  },
  {
   "cell_type": "code",
   "execution_count": 1,
   "metadata": {},
   "outputs": [],
   "source": [
    "Average ← {(+/⍵)÷≢⍵}"
   ]
  },
  {
   "cell_type": "markdown",
   "metadata": {},
   "source": [
    "However, as one defines more complex functions, it can become more complicated to define dfns in the session window.\n",
    "\n",
    "For one, the ability to define multi-line dfns in the session was only made available with Dyalog 18.0. In these notebooks you can see that multi-line dfns are defined in cells that start with `]dinput`:"
   ]
  },
  {
   "cell_type": "code",
   "execution_count": 2,
   "metadata": {},
   "outputs": [],
   "source": [
    "]dinput\n",
    "Average ← {\n",
    "    (+/⍵)÷≢⍵\n",
    "}"
   ]
  },
  {
   "cell_type": "markdown",
   "metadata": {},
   "source": [
    "In the Windows interpreter an expression like the one above might result in a `SYNTAX ERROR`, as you type `Average ← {`, then hit <kbd>Enter</kbd> to change line, and then the interpreter tries to execute the line you entered, instead of allowing you to continue the definition of `Average`. To change this behaviour and allow for multi-line dfns, you can go to \"Options\" &#8680; \"Configure...\" &#8680; \"Session\" and check the experimental multi-line input box at the bottom.\n",
    "\n",
    "If you are using RIDE and this capability is not ON by default, you can turn it ON by setting the `DYALOG_LINEEDITOR_MODE` environment variable to `1` in the connection menu, like demonstrated in <!--figure-->the next figure<!--RIDE_Enable_Multiline_Input-->.\n",
    "\n",
    "![Configuring RIDE to allow for multi-line input](res/RIDE_Enable_Multiline_Input.png)"
   ]
  },
  {
   "cell_type": "markdown",
   "metadata": {},
   "source": [
    "Secondly, even if multi-line input is enabled, you have to be very careful not to press <kbd>Enter</kbd> and ***fix*** the dfn by mistake. This is not a terrible blunder but it does lose some time and breaks your train of thought. In APL, to ***fix*** a file means to define the variables (data, functions and operators) in the file and to make them available in the session. Hence, to fix a function means assigning it to a name and making it available for use in the session window.\n",
    "\n",
    "For these reasons, it is more appropriate to edit multi-line dfns and tradfns in a suitable text editor. The built-in editors for the Windows interpreter and for RIDE are likely to be suitable for you, but other alternatives exist. You can find an enumeration of most of the available alternatives over at [the APL Wiki](https://aplwiki.com/wiki/Text_editors). We will also cover this in more depth in [the chapter about source code management](./Source-Code-Management.ipynb)."
   ]
  },
  {
   "cell_type": "markdown",
   "metadata": {},
   "source": [
    "## Simple Dfns\n",
    "\n",
    "### Definition\n",
    "\n",
    "Dfns are a set of statements enclosed by curly braces `{}`, so a simple dfn is typically created with the syntax `Name ← { definition }` where\n",
    "\n",
    " - `Name` is the function name. It is followed by a definition, delimited by a pair of curly braces `{` and `}`. This definition may make use of one or two variables named `⍵` and `⍺`, which represent the values to be processed. `⍵` and `⍺` are called ***arguments*** of the function;\n",
    " - `⍵` (<kbd>APL</kbd>+<kbd>w</kbd>) is a generic symbol which represents the right argument of the function;\n",
    " - `⍺` (<kbd>APL</kbd>+<kbd>a</kbd>) is a generic symbol which represents the left argument if the function is dyadic.\n",
    " \n",
    "Here is an example monadic dfn:"
   ]
  },
  {
   "cell_type": "code",
   "execution_count": 3,
   "metadata": {},
   "outputs": [],
   "source": [
    "Average ← {(+/⍵)÷(≢⍵)}"
   ]
  },
  {
   "cell_type": "markdown",
   "metadata": {},
   "source": [
    "And here are two more dyadic dfns, and an example showing how they can be used:"
   ]
  },
  {
   "cell_type": "code",
   "execution_count": 4,
   "metadata": {},
   "outputs": [
    {
     "data": {
      "text/html": [
       "<span style=\"white-space:pre; font-family: monospace\">48\n",
       "</span>"
      ]
     },
     "execution_count": 4,
     "metadata": {},
     "output_type": "execute_result"
    }
   ],
   "source": [
    "Plus ← {⍺ + ⍵}\n",
    "Times ← {⍺ × ⍵}\n",
    "3 Times 7 Plus 9"
   ]
  },
  {
   "cell_type": "markdown",
   "metadata": {},
   "source": [
    "Notice the final statement above is strictly equivalent to"
   ]
  },
  {
   "cell_type": "code",
   "execution_count": 5,
   "metadata": {},
   "outputs": [
    {
     "data": {
      "text/html": [
       "<span style=\"white-space:pre; font-family: monospace\">48\n",
       "</span>"
      ]
     },
     "execution_count": 5,
     "metadata": {},
     "output_type": "execute_result"
    }
   ],
   "source": [
    "3 × 7 + 9"
   ]
  },
  {
   "cell_type": "markdown",
   "metadata": {},
   "source": [
    "as the order of evaluation is the same.\n",
    "\n",
    "The arguments `⍵` and `⍺` are read-only (they cannot be reassigned) and are limited in scope to only being visible within the function itself. The only exception to the \"read-only rule\" is when providing a default left argument to the dfn, which we'll cover in [a bit](#Default-Left-Argument).\n",
    "\n",
    "The developer does not need to declare anything about the shape or internal representation of the arguments and the result. This information is automatically obtained from the arrays provided as its arguments. This is similar to the behaviour of dynamically typed programming languages, such as Python or Javascript. So, our functions can work on any arrays.\n",
    "\n",
    "A scalar added to a matrix returns a matrix. No need to specify it:"
   ]
  },
  {
   "cell_type": "code",
   "execution_count": 6,
   "metadata": {},
   "outputs": [
    {
     "data": {
      "text/html": [
       "<span style=\"white-space:pre; font-family: monospace\">13 14 15\n",
       "16 17 18\n",
       "</span>"
      ]
     },
     "execution_count": 6,
     "metadata": {},
     "output_type": "execute_result"
    }
   ],
   "source": [
    "12 Plus 2 3⍴⍳6"
   ]
  },
  {
   "cell_type": "markdown",
   "metadata": {},
   "source": [
    "And a vector of integer numbers multiplied by a scalar fractional number returns a vector of fractional numbers:"
   ]
  },
  {
   "cell_type": "code",
   "execution_count": 7,
   "metadata": {},
   "outputs": [
    {
     "data": {
      "text/html": [
       "<span style=\"white-space:pre; font-family: monospace\">73 248.2 379.6 116.8\n",
       "</span>"
      ]
     },
     "execution_count": 7,
     "metadata": {},
     "output_type": "execute_result"
    }
   ],
   "source": [
    "7.3 Times 10 34 52 16"
   ]
  },
  {
   "cell_type": "markdown",
   "metadata": {},
   "source": [
    "These simple dfns are well suited for pure calculations of straightforward array manipulation. For example, here is how we can calculate the hypotenuse of a right-angled triangle from the lengths of the two other sides:"
   ]
  },
  {
   "cell_type": "code",
   "execution_count": 8,
   "metadata": {},
   "outputs": [
    {
     "data": {
      "text/html": [
       "<span style=\"white-space:pre; font-family: monospace\">5\n",
       "</span>"
      ]
     },
     "execution_count": 8,
     "metadata": {},
     "output_type": "execute_result"
    }
   ],
   "source": [
    "Hypo ← {(+/⍵*2)*0.5}\n",
    "Hypo 3 4"
   ]
  },
  {
   "cell_type": "code",
   "execution_count": 9,
   "metadata": {},
   "outputs": [
    {
     "data": {
      "text/html": [
       "<span style=\"white-space:pre; font-family: monospace\">13\n",
       "</span>"
      ]
     },
     "execution_count": 9,
     "metadata": {},
     "output_type": "execute_result"
    }
   ],
   "source": [
    "Hypo 12 5"
   ]
  },
  {
   "cell_type": "markdown",
   "metadata": {},
   "source": [
    "### Unnamed Dfns\n",
    "\n",
    "A dfn can be defined and then discarded immediately after it has been used, in which case it does not need a name. For example, the geometric mean of a set of $N$ values is defined as the $N^\\text{th}$ root of their product. The function can be defined and used inline like this:"
   ]
  },
  {
   "cell_type": "code",
   "execution_count": 10,
   "metadata": {},
   "outputs": [
    {
     "data": {
      "text/html": [
       "<span style=\"white-space:pre; font-family: monospace\">7.8657\n",
       "</span>"
      ]
     },
     "execution_count": 10,
     "metadata": {},
     "output_type": "execute_result"
    }
   ],
   "source": [
    "{(×/⍵)*÷≢⍵} 6 8 4 11 9 14 7"
   ]
  },
  {
   "cell_type": "markdown",
   "metadata": {},
   "source": [
    "But because we didn't assign it to a name, it was discarded after being used and can't be used again. This kind of function is similar to *inline* or *lambda* functions in other languages.\n",
    "\n",
    "A special case is `{}`. This function does nothing but placed at the left of an expression, it can be used to prevent the result of the expression from being displayed on the screen:"
   ]
  },
  {
   "cell_type": "code",
   "execution_count": 11,
   "metadata": {},
   "outputs": [
    {
     "data": {
      "text/html": [
       "<span style=\"white-space:pre; font-family: monospace\">6\n",
       "</span>"
      ]
     },
     "execution_count": 11,
     "metadata": {},
     "output_type": "execute_result"
    }
   ],
   "source": [
    "3 Plus 3"
   ]
  },
  {
   "cell_type": "code",
   "execution_count": 12,
   "metadata": {},
   "outputs": [],
   "source": [
    "{} 3 Plus 3"
   ]
  },
  {
   "cell_type": "markdown",
   "metadata": {},
   "source": [
    "### Modifying The Code\n",
    "\n",
    "Single line dfns may be modified using the function editor, as will be explained in the next section. They can also be redefined entirely, as many times as necessary, as shown:"
   ]
  },
  {
   "cell_type": "code",
   "execution_count": 13,
   "metadata": {},
   "outputs": [],
   "source": [
    "Magic ← {⍺+⍵}"
   ]
  },
  {
   "cell_type": "code",
   "execution_count": 14,
   "metadata": {},
   "outputs": [],
   "source": [
    "Magic ← {⍺÷+/⍵}"
   ]
  },
  {
   "cell_type": "code",
   "execution_count": 15,
   "metadata": {},
   "outputs": [],
   "source": [
    "Magic ← {(+/⍺)-(+/⍵)}"
   ]
  },
  {
   "cell_type": "markdown",
   "metadata": {},
   "source": [
    "We defined `Magic` and then changed it twice. Only the most recent definition will survive.\n",
    "\n",
    "Now we will delve into how to define and use more complex dfns. For this we will explore the built-in editor that comes with your interpreter and you will also learn some more syntax to empower your dfns."
   ]
  },
  {
   "cell_type": "markdown",
   "metadata": {},
   "source": [
    "## More on Dfns\n",
    "\n",
    "The dfns we wrote in the previous section were very simple and consisted of a single statement. We will now use the text editor to define multi-line dfns.\n",
    "\n",
    "### Characteristics\n",
    "\n",
    " - Generally, the opening and closing braces are placed alone on the first and last lines. This is not mandatory, it is just a convention;\n",
    " - dfns might be commented at will;\n",
    " - one can create as many variables as needed: they are automatically deemed to be local variables, which means they only exist while inside the dfn. Note that this is opposite to the default behaviour of tradfns, where all variables are global (cf. [this subsection on dfns](#Local-Variables) and [this subsection on tradfns](#Local-Names));\n",
    " - the arguments `⍵` and `⍺` retain the values passed to them as arguments and may not be changed. Any attempt to modify them causes a `SYNTAX ERROR` to be reported, except when *defaulting the left argument* (cf. [the subsection on \"Default Left Argument\"](#Default-Left-Argument));\n",
    " - as soon as an expression generates a result that is not assigned to a name or used in any other way, the function terminates, and the value of that expression is returned as the result of the function. If the function contains more lines they will not be executed (cf. [the subsection on \"Returning the Result\"](#Returning-a-Result));\n",
    " - traditional *control structures* and *branching* cannot be used in dfns (cf. [the subsection on \"Guards\"](#Guards)).\n",
    " \n",
    "We will explore these characteristics in the following sections."
   ]
  },
  {
   "cell_type": "markdown",
   "metadata": {},
   "source": [
    "### A Working Example\n",
    "\n",
    "As an example, let us see how we could define a function to calculate the *harmonic mean* of a vector of numbers. The harmonic mean of a vector is the inverse of the sum of the inverses of the numbers in the vector. This will become clearer when you see the code.\n",
    "\n",
    "First of all, we must choose a name for our new function. We will choose to name it `HarmonicMean`.\n",
    "\n",
    "Among the multiple ways of invoking the text editor, let us use a very simple one: type the command `)ED` followed by a space and the name of the function to create: `)ED HarmonicMean`.\n",
    "\n",
    "Unless you already redefined the defaults, a mostly empty window should open to the right of the session. We include an example screenshot of such a window from the Windows interpreter in <!--figure-->the figure below<!--Win_Editor-->:\n",
    "\n",
    "![The edit window opened by the command `)ED HarmonicMean`](res/Win_Editor.png)\n",
    "\n",
    "Now that we have a window in which to define our dfn, we can go ahead and implement the harmonic mean. We shall split the process into a series of simple steps, as shown in <!--figure-->the next figure<!--Win_Editor_Harmonic_Mean-->: calculate the inverses, sum them, invert the sum.\n",
    "\n",
    "![The `HarmonicMean` function defined in the edit window](res/Win_Editor_Harmonic_Mean.png)\n",
    "\n",
    "We also define it in this notebook:"
   ]
  },
  {
   "cell_type": "code",
   "execution_count": 16,
   "metadata": {},
   "outputs": [],
   "source": [
    "]dinput\n",
    "HarmonicMean ← {\n",
    "    inverses ← ÷⍵\n",
    "    sum ← +/inverses\n",
    "    ÷sum\n",
    "}"
   ]
  },
  {
   "cell_type": "markdown",
   "metadata": {},
   "source": [
    "Now that we know how to compute the harmonic mean of a vector of numbers, we just have to ***fix*** it so that we can use it in our session. ***Fixing*** a function is somewhat analogous to compilation in other programming languages, but can also be seen as a sort of \"File save\" followed by an \"import\" in interpreted languages. There are many ways to fix a function:\n",
    "\n",
    "| Interpreter | *Fix* method |\n",
    "| :- | :- |\n",
    "| Windows interpreter | go to \"File\" &#8680; \"Fix\" |\n",
    "| RIDE | right-click the edit window &#8680; \"Fix\" |\n",
    "| both | press <kbd>Esc</kbd> (also closes the edit window) |\n",
    "| both | define a custom keyboard shortcut |\n",
    "\n",
    "Following one of the appropriate methods should make the `HarmonicMean` function available for use in the session window. You can make sure it worked by simply typing in the name of the function and pressing <kbd>Enter</kbd> in the session:"
   ]
  },
  {
   "cell_type": "code",
   "execution_count": 17,
   "metadata": {},
   "outputs": [
    {
     "data": {
      "text/html": [
       "<span style=\"white-space:pre; font-family: monospace\">{                  \n",
       "     inverses←÷⍵   \n",
       "     sum←+/inverses\n",
       "     ÷sum          \n",
       " }                 \n",
       "</span>"
      ]
     },
     "execution_count": 17,
     "metadata": {},
     "output_type": "execute_result"
    }
   ],
   "source": [
    "HarmonicMean"
   ]
  },
  {
   "cell_type": "markdown",
   "metadata": {},
   "source": [
    "If instead of getting the source code of the function you get a `VALUE ERROR`, then the function wasn't properly fixed.\n",
    "\n",
    "Now that we can compute the harmonic mean of a vector of numbers, we can answer questions like the following:\n",
    "\n",
    "\"*If I take 6 hours to paint a wall and you take 2 hours, how much time will we need to paint the wall if we do it together?*\"\n",
    "\n",
    "This type of question can be answered by taking the harmonic mean of the individual times:"
   ]
  },
  {
   "cell_type": "code",
   "execution_count": 18,
   "metadata": {},
   "outputs": [
    {
     "data": {
      "text/html": [
       "<span style=\"white-space:pre; font-family: monospace\">1.5\n",
       "</span>"
      ]
     },
     "execution_count": 18,
     "metadata": {},
     "output_type": "execute_result"
    }
   ],
   "source": [
    "HarmonicMean 6 2"
   ]
  },
  {
   "cell_type": "markdown",
   "metadata": {},
   "source": [
    "So the two of us would take 1h30min to paint the whole wall.\n",
    "\n",
    "Similarly, if we had further help from two people who could paint the whole wall in 4 and 5 hours, respectively, the four of us would need"
   ]
  },
  {
   "cell_type": "code",
   "execution_count": 19,
   "metadata": {},
   "outputs": [
    {
     "data": {
      "text/html": [
       "<span style=\"white-space:pre; font-family: monospace\">0.895522\n",
       "</span>"
      ]
     },
     "execution_count": 19,
     "metadata": {},
     "output_type": "execute_result"
    }
   ],
   "source": [
    "times ← 6 2 4 5\n",
    "⊢hours ← HarmonicMean times"
   ]
  },
  {
   "cell_type": "markdown",
   "metadata": {},
   "source": [
    "hours, or approximately"
   ]
  },
  {
   "cell_type": "code",
   "execution_count": 20,
   "metadata": {},
   "outputs": [
    {
     "data": {
      "text/html": [
       "<span style=\"white-space:pre; font-family: monospace\">53\n",
       "</span>"
      ]
     },
     "execution_count": 20,
     "metadata": {},
     "output_type": "execute_result"
    }
   ],
   "source": [
    "⌊60×hours"
   ]
  },
  {
   "cell_type": "markdown",
   "metadata": {},
   "source": [
    "minutes."
   ]
  },
  {
   "cell_type": "markdown",
   "metadata": {},
   "source": [
    "After using your function for a bit you realise it is over-complicated, in the sense that it involves too many intermediate steps and you wish to get rid of those. If your edit window is still open, you can simply edit the function and fix it again. If the edit window was closed, you can type `)ED HarmonicMean` again or you can double-click the name `HarmonicMean` in the session. Both options will open the appropriate edit window.\n",
    "\n",
    "After having done so, perhaps you rewrite your function to"
   ]
  },
  {
   "cell_type": "code",
   "execution_count": 21,
   "metadata": {},
   "outputs": [],
   "source": [
    "]dinput\n",
    "HarmonicMean ← {\n",
    "    inverses ← ÷⍵\n",
    "    ÷+/inverses\n",
    "}"
   ]
  },
  {
   "cell_type": "markdown",
   "metadata": {},
   "source": [
    "Then you fix it and use it again a couple of times:"
   ]
  },
  {
   "cell_type": "code",
   "execution_count": 22,
   "metadata": {},
   "outputs": [
    {
     "data": {
      "text/html": [
       "<span style=\"white-space:pre; font-family: monospace\">0.895522\n",
       "</span>"
      ]
     },
     "execution_count": 22,
     "metadata": {},
     "output_type": "execute_result"
    }
   ],
   "source": [
    "HarmonicMean times"
   ]
  },
  {
   "cell_type": "code",
   "execution_count": 23,
   "metadata": {},
   "outputs": [
    {
     "name": "stderr",
     "output_type": "stream",
     "text": [
      "DOMAIN ERROR: Divide by zero\n",
      "HarmonicMean[1] inverses←÷⍵\n",
      "                         ∧\n"
     ]
    }
   ],
   "source": [
    "HarmonicMean 4 3 2 1 0"
   ]
  },
  {
   "cell_type": "markdown",
   "metadata": {},
   "source": [
    "But now it resulted in an error, and the error messages says `HarmonicMean[1] inverses←÷⍵`. This `HarmonicMean[1]` means the error was in line 1 of the `HarmonicMean` function. Right next to it, it also shows the part of the code that caused the error, but supposed you had a really long file, perhaps with multiple functions. How would you find the appropriate line in the first place?\n",
    "\n",
    "Thankfully, both RIDE and the Windows interpreter have an option that can be set to display line numbers (cf. <!--figure-->the figure below<!--Editors_Toggle_Line_Numbers-->).\n",
    "\n",
    "![Option to toggle line numbers in RIDE (to the right) and the Windows interpreter (to the left)](res/Editors_Toggle_Line_Numbers.png)\n",
    "\n"
   ]
  },
  {
   "cell_type": "markdown",
   "metadata": {},
   "source": [
    "Different people like to comment their code in different ways, and naturally dfns can be commented. For illustrative purposes, consider the dfn that follows, which has comments before any statement, inline with some statements, between the statements and at the end of the dfn:"
   ]
  },
  {
   "cell_type": "code",
   "execution_count": 24,
   "metadata": {},
   "outputs": [],
   "source": [
    "]dinput\n",
    "HarmonicMean ← {\n",
    "    ⍝ Monadic function to compute the harmonic mean of a vector\n",
    "    inverses ← ÷⍵   ⍝ This inverts the numbers in the argument\n",
    "    ⍝ and then\n",
    "    ÷+/inverses     ⍝ we sum those inverses and return them.\n",
    "    ⍝ Of course this will give an error if 0 is in the input argument.\n",
    "}"
   ]
  },
  {
   "cell_type": "markdown",
   "metadata": {},
   "source": [
    "The comments do *not* affect the behaviour of the function:"
   ]
  },
  {
   "cell_type": "code",
   "execution_count": 25,
   "metadata": {},
   "outputs": [
    {
     "data": {
      "text/html": [
       "<span style=\"white-space:pre; font-family: monospace\">0.895522\n",
       "</span>"
      ]
     },
     "execution_count": 25,
     "metadata": {},
     "output_type": "execute_result"
    }
   ],
   "source": [
    "HarmonicMean times"
   ]
  },
  {
   "cell_type": "markdown",
   "metadata": {},
   "source": [
    "### Local Variables\n",
    "\n",
    "Notice that our `HarmonicMean` function makes use of an intermediate variable, `inverses`. Let us check its value:"
   ]
  },
  {
   "cell_type": "code",
   "execution_count": 26,
   "metadata": {},
   "outputs": [
    {
     "name": "stderr",
     "output_type": "stream",
     "text": [
      "VALUE ERROR: Undefined name: inverses\n",
      "      inverses\n",
      "      ∧\n"
     ]
    }
   ],
   "source": [
    "inverses"
   ]
  },
  {
   "cell_type": "markdown",
   "metadata": {},
   "source": [
    "We got a `VALUE ERROR` because `inverses` isn't defined. It is a ***local variable***, that is, a variable that lives within the dfn only while the dfn is being executed. As soon as we exit the dfn the variable stops existing.\n",
    "\n",
    "The notion of *local* variable is opposed to the notion of ***global variable***, which is a variable that lives in the session and thus can be accessed from anywhere. Useful global variables are functions themselves, because defining them globally means they can be used from within other functions.\n",
    "\n",
    "As an example, we already defined the functions `Average` and `HarmonicMean` in the session. Let us now define a dfn named `AMHM` that checks empirically a mathematical theorem: that the arithmetic mean is always larger than or equal to the harmonic mean of a set of numbers:"
   ]
  },
  {
   "cell_type": "code",
   "execution_count": 27,
   "metadata": {},
   "outputs": [],
   "source": [
    "]dinput\n",
    "AMHM ← {\n",
    "    am ← Average ⍵\n",
    "    hm ← HarmonicMean ⍵\n",
    "    am ≥ hm\n",
    "}"
   ]
  },
  {
   "cell_type": "code",
   "execution_count": 28,
   "metadata": {},
   "outputs": [
    {
     "data": {
      "text/html": [
       "<span style=\"white-space:pre; font-family: monospace\">1\n",
       "</span>"
      ]
     },
     "execution_count": 28,
     "metadata": {},
     "output_type": "execute_result"
    }
   ],
   "source": [
    "AMHM ⍳6"
   ]
  },
  {
   "cell_type": "code",
   "execution_count": 29,
   "metadata": {},
   "outputs": [
    {
     "data": {
      "text/html": [
       "<span style=\"white-space:pre; font-family: monospace\">1\n",
       "</span>"
      ]
     },
     "execution_count": 29,
     "metadata": {},
     "output_type": "execute_result"
    }
   ],
   "source": [
    "AMHM times"
   ]
  },
  {
   "cell_type": "markdown",
   "metadata": {},
   "source": [
    "Notice how the definition of `AMHM` uses both the `Average` and `HarmonicMean` dfns without defining them inside `AMHM`. This works because they were previously defined in the session.\n",
    "\n",
    "For larger applications, proper source code management is needed and you should make sure the functions `Average` and `HarmonicMean` have been fixed when you use them inside `AMHM`, but for illustrative purposes this is absolutely fine."
   ]
  },
  {
   "cell_type": "markdown",
   "metadata": {},
   "source": [
    "### Default Left Argument\n",
    "\n",
    "It was mentioned above that the values of `⍺` and `⍵`, the variables that represent the arguments to a dfn, cannot be assigned to. The only exception to this is when specifying a default left argument. This is relevant because a dyadic dfn can always be used monadically, as from the syntactic point of view its left argument `⍺` is always optional. If the left argument is not present it is possible to assign a default value to `⍺` by means of a normal assignment. If `⍺` is given a value because the dfn was called dyadically, such assignment is skipped.\n",
    "\n",
    "Consider a function which calculates the $N^\\text{th}$ root of a number, but which is normally used to calculate square roots ($N = 2$). You can specify that the default value of the left argument (when omitted) is 2, as follows:"
   ]
  },
  {
   "cell_type": "code",
   "execution_count": 30,
   "metadata": {},
   "outputs": [],
   "source": [
    "]dinput\n",
    "Root ← {\n",
    "    ⍺ ← 2\n",
    "    ⍵*÷⍺\n",
    "}"
   ]
  },
  {
   "cell_type": "markdown",
   "metadata": {},
   "source": [
    "If we don't specify the left argument of `Root`, it computes the square root:"
   ]
  },
  {
   "cell_type": "code",
   "execution_count": 31,
   "metadata": {},
   "outputs": [
    {
     "data": {
      "text/html": [
       "<span style=\"white-space:pre; font-family: monospace\">25\n",
       "</span>"
      ]
     },
     "execution_count": 31,
     "metadata": {},
     "output_type": "execute_result"
    }
   ],
   "source": [
    "Root 625"
   ]
  },
  {
   "cell_type": "markdown",
   "metadata": {},
   "source": [
    "But if we specify `⍺`, then the `⍺ ← 2` assignment is skipped:"
   ]
  },
  {
   "cell_type": "code",
   "execution_count": 32,
   "metadata": {},
   "outputs": [
    {
     "data": {
      "text/html": [
       "<span style=\"white-space:pre; font-family: monospace\">5\n",
       "</span>"
      ]
     },
     "execution_count": 32,
     "metadata": {},
     "output_type": "execute_result"
    }
   ],
   "source": [
    "4 Root 625"
   ]
  },
  {
   "cell_type": "markdown",
   "metadata": {},
   "source": [
    "Because the assignment with `⍺←` is skipped entirely if `⍺` was provided, you should be careful with any side effects the expression to the right of `⍺←` might produce. We illustrate this with the following (silly) example:"
   ]
  },
  {
   "cell_type": "code",
   "execution_count": 33,
   "metadata": {},
   "outputs": [],
   "source": [
    "]dinput\n",
    "Silly ← {\n",
    "    a ← 1        ⍝ This assignment always happens\n",
    "    ⍺ ← a ← 2    ⍝ Not executed if ⍺ already has a value\n",
    "    a            ⍝ Return a\n",
    "}"
   ]
  },
  {
   "cell_type": "code",
   "execution_count": 34,
   "metadata": {},
   "outputs": [
    {
     "data": {
      "text/html": [
       "<span style=\"white-space:pre; font-family: monospace\">2\n",
       "</span>"
      ]
     },
     "execution_count": 34,
     "metadata": {},
     "output_type": "execute_result"
    }
   ],
   "source": [
    "Silly 0"
   ]
  },
  {
   "cell_type": "markdown",
   "metadata": {},
   "source": [
    "Because we didn't provide a left argument, the `⍺ ← a ← 2` line is executed and `a` becomes 2.\n",
    "\n",
    "On the other hand, if we provide a left argument the `⍺ ← a ← 2` line is skipped and `a` remains 1:"
   ]
  },
  {
   "cell_type": "code",
   "execution_count": 35,
   "metadata": {},
   "outputs": [
    {
     "data": {
      "text/html": [
       "<span style=\"white-space:pre; font-family: monospace\">1\n",
       "</span>"
      ]
     },
     "execution_count": 35,
     "metadata": {},
     "output_type": "execute_result"
    }
   ],
   "source": [
    "0 Silly 0"
   ]
  },
  {
   "cell_type": "markdown",
   "metadata": {},
   "source": [
    "As for `⍵`, attempting to assign to `⍵` makes no sense: a dfn is always called monadically *or* dyadically, so the right argument is *always* present. Here's a function that computes the square root of `⍵`, except that first it tries to assign 10 to `⍵`:"
   ]
  },
  {
   "cell_type": "code",
   "execution_count": 36,
   "metadata": {},
   "outputs": [],
   "source": [
    "]dinput\n",
    "RootOf10 ← {\n",
    "    ⍵ ← 10\n",
    "    ⍵*0.5\n",
    "}"
   ]
  },
  {
   "cell_type": "markdown",
   "metadata": {},
   "source": [
    "Simply typing the name of the function shows its code:"
   ]
  },
  {
   "cell_type": "code",
   "execution_count": 37,
   "metadata": {},
   "outputs": [
    {
     "data": {
      "text/html": [
       "<span style=\"white-space:pre; font-family: monospace\">{         \n",
       "     ⍵←10 \n",
       "     ⍵*0.5\n",
       " }        \n",
       "</span>"
      ]
     },
     "execution_count": 37,
     "metadata": {},
     "output_type": "execute_result"
    }
   ],
   "source": [
    "RootOf10"
   ]
  },
  {
   "cell_type": "markdown",
   "metadata": {},
   "source": [
    "And calling it monadically raises an error:"
   ]
  },
  {
   "cell_type": "code",
   "execution_count": 38,
   "metadata": {},
   "outputs": [
    {
     "name": "stderr",
     "output_type": "stream",
     "text": [
      "SYNTAX ERROR\n",
      "RootOf10[1] ⍵←10\n",
      "             ∧\n"
     ]
    }
   ],
   "source": [
    "RootOf10 5"
   ]
  },
  {
   "cell_type": "markdown",
   "metadata": {},
   "source": [
    "### Returning the Result\n",
    "\n",
    "We mentioned above that a dfn executes its statements until the first statement that does not assign its value. Here is a curious dfn with 4 statements:"
   ]
  },
  {
   "cell_type": "code",
   "execution_count": 39,
   "metadata": {},
   "outputs": [],
   "source": [
    "]dinput\n",
    "Count ← {\n",
    "    1\n",
    "    2\n",
    "    3\n",
    "    10÷0\n",
    "}"
   ]
  },
  {
   "cell_type": "markdown",
   "metadata": {},
   "source": [
    "Notice that all four statements are simple. If we run `Count`, what will the result be?"
   ]
  },
  {
   "cell_type": "code",
   "execution_count": 40,
   "metadata": {},
   "outputs": [
    {
     "data": {
      "text/html": [
       "<span style=\"white-space:pre; font-family: monospace\">1\n",
       "</span>"
      ]
     },
     "execution_count": 40,
     "metadata": {},
     "output_type": "execute_result"
    }
   ],
   "source": [
    "Count 73"
   ]
  },
  {
   "cell_type": "markdown",
   "metadata": {},
   "source": [
    "The result we get is 1 because the first statement evaluates to 1 (obviously) and then we do nothing with it, so that is what the dfn returns. It doesn't matter what we wrote afterwards and it doesn't even matter that the very last statement would give a `DOMAIN ERROR`.\n",
    "\n",
    "These superfluous statements should be avoided, as they will sooner or later cause unnecessary confusion.\n",
    "\n",
    "As a basic debugging tool, it is possible to modify statements to display intermediate results:"
   ]
  },
  {
   "cell_type": "code",
   "execution_count": 41,
   "metadata": {},
   "outputs": [],
   "source": [
    "]dinput\n",
    "Count ← {\n",
    "    ⎕←1\n",
    "    ⎕←2\n",
    "    ⎕←3\n",
    "    10÷0\n",
    "}"
   ]
  },
  {
   "cell_type": "code",
   "execution_count": 42,
   "metadata": {},
   "outputs": [
    {
     "name": "stderr",
     "output_type": "stream",
     "text": [
      "1\n",
      "2\n",
      "3\n",
      "DOMAIN ERROR: Divide by zero\n",
      "Count[4] 10÷0\n",
      "           ∧\n"
     ]
    }
   ],
   "source": [
    "Count 73"
   ]
  },
  {
   "cell_type": "markdown",
   "metadata": {},
   "source": [
    "Be careful: by using `⎕←` to display intermediate results, suddenly we are doing _something_ with the superfluous statements and they are all being executed (we even reached the error statement).\n",
    "\n",
    "And even if we remove the statement that gives an error, the function will still return something other than the original 1:"
   ]
  },
  {
   "cell_type": "code",
   "execution_count": 43,
   "metadata": {},
   "outputs": [],
   "source": [
    "]dinput\n",
    "Count ← {\n",
    "    ⎕←1\n",
    "    ⎕←2\n",
    "    3\n",
    "}"
   ]
  },
  {
   "cell_type": "code",
   "execution_count": 44,
   "metadata": {},
   "outputs": [
    {
     "data": {
      "text/html": [
       "<span style=\"white-space:pre; font-family: monospace\">1\n",
       "2\n",
       "3\n",
       "</span>"
      ]
     },
     "execution_count": 44,
     "metadata": {},
     "output_type": "execute_result"
    }
   ],
   "source": [
    "Count 73"
   ]
  },
  {
   "cell_type": "markdown",
   "metadata": {},
   "source": [
    "Now the function returned 3 instead of 1! So always be careful with which statement is actually giving the final result and avoid any extraneous statements."
   ]
  },
  {
   "cell_type": "markdown",
   "metadata": {},
   "source": [
    "## Exercises on Dfns\n",
    "\n",
    "You are ready to solve simple problems. We **strongly recommend** that you try to solve all the following exercises before you continue further in this chapter.\n",
    "\n",
    "**Exercise 1**:\n",
    "\n",
    "Write a dyadic function `Extract` which returns the first `⍺` items of any given vector `⍵`."
   ]
  },
  {
   "cell_type": "code",
   "execution_count": 45,
   "metadata": {},
   "outputs": [],
   "source": [
    "Extract ← {}\n",
    "3 Extract 45 86 31 20 75 62 18  ⍝ should give 45 86 31\n",
    "6 Extract 'can you do it?'      ⍝ should give 'can yo'"
   ]
  },
  {
   "cell_type": "markdown",
   "metadata": {},
   "source": [
    "**Exercise 2**:\n",
    "\n",
    "Write a dyadic function which ignores the first `⍺` items of any given vector `⍵` and only returns the remainder:"
   ]
  },
  {
   "cell_type": "code",
   "execution_count": 46,
   "metadata": {},
   "outputs": [],
   "source": [
    "Ignore ← {}\n",
    "3 Ignore 45 86 31 20 75 62 18   ⍝ should give 20 75 62 18\n",
    "6 Ignore 'can you do it?'       ⍝ should give 'u do it?'"
   ]
  },
  {
   "cell_type": "markdown",
   "metadata": {},
   "source": [
    "**Exercise 3**:\n",
    "\n",
    "Write a monadic function which returns the items of a vector in reverse order:"
   ]
  },
  {
   "cell_type": "code",
   "execution_count": 47,
   "metadata": {},
   "outputs": [],
   "source": [
    "Reverse ← {}\n",
    "Reverse 'snoitalutargnoc'       ⍝ should give 'congratulations'\n",
    "Reverse '!ti did uoY'           ⍝ should give 'You did it!'"
   ]
  },
  {
   "cell_type": "markdown",
   "metadata": {},
   "source": [
    "**Exercise 4**:\n",
    "\n",
    "Write a monadic function which appends row and column totals to a numeric matrix.\n",
    "\n",
    "For example, if `mat` is the matrix"
   ]
  },
  {
   "cell_type": "code",
   "execution_count": 48,
   "metadata": {},
   "outputs": [
    {
     "data": {
      "text/html": [
       "<span style=\"white-space:pre; font-family: monospace\">75 14 86 20\n",
       "31 16 40 51\n",
       "22 64 31 28\n",
       "</span>"
      ]
     },
     "execution_count": 48,
     "metadata": {},
     "output_type": "execute_result"
    }
   ],
   "source": [
    "⊢mat ← 3 4⍴75 14 86 20 31 16 40 51 22 64 31 28"
   ]
  },
  {
   "cell_type": "markdown",
   "metadata": {},
   "source": [
    "Then `Totalise mat` should give"
   ]
  },
  {
   "cell_type": "code",
   "execution_count": 49,
   "metadata": {},
   "outputs": [
    {
     "data": {
      "text/html": [
       "<span style=\"white-space:pre; font-family: monospace\"> 75 14  86 20 195\n",
       " 31 16  40 51 138\n",
       " 22 64  31 28 145\n",
       "128 94 157 99 478\n",
       "</span>"
      ]
     },
     "execution_count": 49,
     "metadata": {},
     "output_type": "execute_result"
    }
   ],
   "source": [
    "⊢totMat ← 4 5⍴75 14 86 20 195 31 16 40 51 138 22 64 31 28 145 128 94 157 99 478"
   ]
  },
  {
   "cell_type": "markdown",
   "metadata": {},
   "source": [
    "Notice that `mat` occupies the upper left corner of `totMat`:"
   ]
  },
  {
   "cell_type": "code",
   "execution_count": 50,
   "metadata": {},
   "outputs": [
    {
     "data": {
      "text/html": [
       "<span style=\"white-space:pre; font-family: monospace\">1 1 1 1 0\n",
       "1 1 1 1 0\n",
       "1 1 1 1 0\n",
       "0 0 0 0 0\n",
       "</span>"
      ]
     },
     "execution_count": 50,
     "metadata": {},
     "output_type": "execute_result"
    }
   ],
   "source": [
    "totMat ∊ mat"
   ]
  },
  {
   "cell_type": "markdown",
   "metadata": {},
   "source": [
    "**Exercise 5**:\n",
    "\n",
    "Write a monadic function which returns the lengths of the words contained in a text vector:"
   ]
  },
  {
   "cell_type": "code",
   "execution_count": 51,
   "metadata": {},
   "outputs": [],
   "source": [
    "Lengths ← {}\n",
    "Lengths 'This seems to be a good solution'    ⍝ should give 4 5 2 2 1 4 8"
   ]
  },
  {
   "cell_type": "markdown",
   "metadata": {},
   "source": [
    "**Exercise 6**:\n",
    "\n",
    "Write a dyadic function which produces the series of integer values between the limits given by its two arguments:"
   ]
  },
  {
   "cell_type": "code",
   "execution_count": 52,
   "metadata": {},
   "outputs": [],
   "source": [
    "To ← {}\n",
    "17 To 29    ⍝ should give 17 18 19 20 21 22 23 24 25 26 27 28 29"
   ]
  },
  {
   "cell_type": "markdown",
   "metadata": {},
   "source": [
    "**Exercise 7**:\n",
    "\n",
    "Develop a monadic function which puts a frame around a text matrix. For the first version, just concatenate minus signs above and under the matrix, and vertical bars down both sides. Then, update the function to replace the four corners by four `+` signs. For example, with"
   ]
  },
  {
   "cell_type": "code",
   "execution_count": 53,
   "metadata": {},
   "outputs": [
    {
     "data": {
      "text/html": [
       "<span style=\"white-space:pre; font-family: monospace\">Canberra  \n",
       "Paris     \n",
       "Washington\n",
       "Moscow    \n",
       "Martigues \n",
       "Mexico    \n",
       "</span>"
      ]
     },
     "execution_count": 53,
     "metadata": {},
     "output_type": "execute_result"
    }
   ],
   "source": [
    "⊢towns ← 6 10⍴'Canberra  Paris     WashingtonMoscow    Martigues Mexico    '"
   ]
  },
  {
   "cell_type": "markdown",
   "metadata": {},
   "source": [
    "we want to have `Frame towns` return\n",
    "\n",
    "```\n",
    "+----------+\n",
    "|Canberra  |\n",
    "|Paris     |\n",
    "|Washington|\n",
    "|Moscow    |\n",
    "|Martigues |\n",
    "|Mexico    |\n",
    "+----------+\n",
    "```\n",
    "\n",
    "Finally, you can improve the appearance of the result by changing the function to use line-drawing symbols. You enter line-drawing symbols by using `⎕UCS`: the horizontal and vertical lines are"
   ]
  },
  {
   "cell_type": "code",
   "execution_count": 54,
   "metadata": {},
   "outputs": [
    {
     "data": {
      "text/html": [
       "<span style=\"white-space:pre; font-family: monospace\">─│\n",
       "</span>"
      ]
     },
     "execution_count": 54,
     "metadata": {},
     "output_type": "execute_result"
    }
   ],
   "source": [
    "⎕UCS 9472 9474"
   ]
  },
  {
   "cell_type": "markdown",
   "metadata": {},
   "source": [
    "and the four corners are"
   ]
  },
  {
   "cell_type": "code",
   "execution_count": 55,
   "metadata": {},
   "outputs": [
    {
     "data": {
      "text/html": [
       "<span style=\"white-space:pre; font-family: monospace\">┌┐└┘\n",
       "</span>"
      ]
     },
     "execution_count": 55,
     "metadata": {},
     "output_type": "execute_result"
    }
   ],
   "source": [
    "⎕UCS 9484 9488 9492 9496"
   ]
  },
  {
   "cell_type": "markdown",
   "metadata": {},
   "source": [
    "The final result should look like"
   ]
  },
  {
   "cell_type": "code",
   "execution_count": 56,
   "metadata": {},
   "outputs": [],
   "source": [
    "⍝ ┌──────────┐\n",
    "⍝ │Canberra  │\n",
    "⍝ │Paris     │\n",
    "⍝ │Washington│\n",
    "⍝ │Moscow    │\n",
    "⍝ │Martigues │\n",
    "⍝ │Mexico    │\n",
    "⍝ └──────────┘"
   ]
  },
  {
   "cell_type": "markdown",
   "metadata": {},
   "source": [
    "**Exercise 8**:\n",
    "\n",
    "It is very likely that the function you wrote for the previous exercise works on matrices but not on vectors. Can you make it work on both?\n",
    "\n",
    "For example, `Frame 'We are not out of the wood'` should give"
   ]
  },
  {
   "cell_type": "code",
   "execution_count": 57,
   "metadata": {},
   "outputs": [],
   "source": [
    "⍝ ┌──────────────────────────┐\n",
    "⍝ │We are not out of the wood│\n",
    "⍝ └──────────────────────────┘"
   ]
  },
  {
   "cell_type": "markdown",
   "metadata": {},
   "source": [
    "**Exercise 9**:\n",
    "\n",
    "Write a function which replaces a given letter by another one in a text vector. The letter to replace is given first; the replacing letter is given second, like this:"
   ]
  },
  {
   "cell_type": "code",
   "execution_count": 58,
   "metadata": {},
   "outputs": [],
   "source": [
    "Switch1 ← {}\n",
    "'tc' Switch1 'A bird in the hand is worth two in the bush'\n",
    "⍝ A bird in che hand is worch cwo in che bush"
   ]
  },
  {
   "cell_type": "markdown",
   "metadata": {},
   "source": [
    "**Exercise 10**:\n",
    "\n",
    "Modify the previous function so that it commutes the two letters:"
   ]
  },
  {
   "cell_type": "code",
   "execution_count": 59,
   "metadata": {},
   "outputs": [],
   "source": [
    "Switch2 ← {}\n",
    "'ei' Switch2 'A bird in the hand is worth two in the bush'\n",
    "⍝ A berd en thi hand es worth two en thi bush"
   ]
  },
  {
   "cell_type": "markdown",
   "metadata": {},
   "source": [
    "## Dfns in Depth\n",
    "\n",
    "In this section we will cover a couple of more advanced subtleties about dfns, and then we will move on to learn about tradfns."
   ]
  },
  {
   "cell_type": "markdown",
   "metadata": {},
   "source": [
    "### Guards\n",
    "\n",
    "Previously we said that control structures cannot be used in dfns. However, it is possible to have a dfn conditionally calculate a result, by using a ***Guard***.\n",
    "\n",
    "A *guard* is any expression which generates a one-item Boolean result, followed by a colon.\n",
    "\n",
    "The expression placed to the right of a *guard* is executed only if the *guard* is true. In a dfn, this looks like `guard: expr` and is similar to a\n",
    "\n",
    "```c\n",
    "if (guard) {\n",
    "    return expr;\n",
    "}\n",
    "```\n",
    "\n",
    "of some traditional programming languages.\n",
    "\n",
    "For example, this function will give a result equal to `'Positive'`, `'Zero'` or `'Negative'` if the argument `⍵` is respectively greater than, equal to, or smaller than zero:"
   ]
  },
  {
   "cell_type": "code",
   "execution_count": 60,
   "metadata": {},
   "outputs": [],
   "source": [
    "]dinput\n",
    "Sign ← {\n",
    "    ⍵>0: 'Positive'\n",
    "    ⍵=0: 'Zero'\n",
    "    'Negative'\n",
    "}"
   ]
  },
  {
   "cell_type": "code",
   "execution_count": 61,
   "metadata": {},
   "outputs": [
    {
     "data": {
      "text/html": [
       "<span style=\"white-space:pre; font-family: monospace\">Positive\n",
       "</span>"
      ]
     },
     "execution_count": 61,
     "metadata": {},
     "output_type": "execute_result"
    }
   ],
   "source": [
    "Sign 3"
   ]
  },
  {
   "cell_type": "code",
   "execution_count": 62,
   "metadata": {},
   "outputs": [
    {
     "data": {
      "text/html": [
       "<span style=\"white-space:pre; font-family: monospace\">Negative\n",
       "</span>"
      ]
     },
     "execution_count": 62,
     "metadata": {},
     "output_type": "execute_result"
    }
   ],
   "source": [
    "Sign ¯3.6"
   ]
  },
  {
   "cell_type": "code",
   "execution_count": 63,
   "metadata": {},
   "outputs": [
    {
     "data": {
      "text/html": [
       "<span style=\"white-space:pre; font-family: monospace\">Zero\n",
       "</span>"
      ]
     },
     "execution_count": 63,
     "metadata": {},
     "output_type": "execute_result"
    }
   ],
   "source": [
    "Sign 0"
   ]
  },
  {
   "cell_type": "markdown",
   "metadata": {},
   "source": [
    "### Shy Result\n",
    "\n",
    "Dfns can be written in such a way that they return a ***Shy result***. A *shy result* is a result which is returned, but not displayed by default.\n",
    "\n",
    "Consider a function which deletes a file from disk and returns a result equal to 1 (file deleted) or 0 (file not found). Usually, one doesn't care if the file did not exist, so the result is not needed. But sometimes it may be important to check whether the file really existed and has been removed. So, sometimes a result is useless and sometimes it is useful... this is the reason why shy results have been invented.\n",
    "\n",
    "In a dfn, a shy result happens when the last expression that is evaluated is assigned to a (local) name, as opposed to just leaving the result of the expression unassigned. For this to happen, one has to be careful to leave the closing curly brace `}` next to that final statement, instead of having `}` alone in a new line.\n",
    "\n",
    "Here is the function above, written without guards and with a shy result:"
   ]
  },
  {
   "cell_type": "code",
   "execution_count": 64,
   "metadata": {},
   "outputs": [],
   "source": [
    "Sign ← { s ← (3 8⍴'NegativeZero    Positive')[2+×⍵;] }"
   ]
  },
  {
   "cell_type": "code",
   "execution_count": 65,
   "metadata": {},
   "outputs": [],
   "source": [
    "Sign 3"
   ]
  },
  {
   "cell_type": "code",
   "execution_count": 66,
   "metadata": {},
   "outputs": [],
   "source": [
    "Sign ¯3.6"
   ]
  },
  {
   "cell_type": "code",
   "execution_count": 67,
   "metadata": {},
   "outputs": [
    {
     "data": {
      "text/html": [
       "<span style=\"white-space:pre; font-family: monospace\">Zero    \n",
       "</span>"
      ]
     },
     "execution_count": 67,
     "metadata": {},
     "output_type": "execute_result"
    }
   ],
   "source": [
    "⎕← Sign 0"
   ]
  },
  {
   "cell_type": "markdown",
   "metadata": {},
   "source": [
    "Notice what happens if we were to format `Sign` as we have formatted previous dfns:"
   ]
  },
  {
   "cell_type": "code",
   "execution_count": 68,
   "metadata": {},
   "outputs": [],
   "source": [
    "]dinput\n",
    "Sign ← {\n",
    "    s ← (3 8⍴'NegativeZero    Positive')[2+×⍵;]\n",
    "}"
   ]
  },
  {
   "cell_type": "code",
   "execution_count": 69,
   "metadata": {},
   "outputs": [],
   "source": [
    "Sign 3"
   ]
  },
  {
   "cell_type": "code",
   "execution_count": 70,
   "metadata": {},
   "outputs": [],
   "source": [
    "Sign ¯3.6"
   ]
  },
  {
   "cell_type": "code",
   "execution_count": 71,
   "metadata": {},
   "outputs": [
    {
     "name": "stderr",
     "output_type": "stream",
     "text": [
      "VALUE ERROR: No result was provided when the context expected one\n",
      "      ⎕←Sign 0\n",
      "        ∧\n"
     ]
    }
   ],
   "source": [
    "⎕← Sign 0"
   ]
  },
  {
   "cell_type": "markdown",
   "metadata": {},
   "source": [
    "The `VALUE ERROR` we get above is a very subtle error. Because the `s ← ...` statement is an assignment, when executing the `Sign` dfn the interpreter goes on to execute the expression on the next line, but the next line has *no* expression and so the interpreter raises a `VALUE ERROR`. If we want to have a shy result on a multi-line dfn, we *must* have the final curly brace on the same line as the final statement."
   ]
  },
  {
   "cell_type": "markdown",
   "metadata": {},
   "source": [
    "### Lexical Scoping\n",
    "\n",
    "***Lexical scoping*** (also referred to as ***static scoping***) is the mechanism that turns local and global variables into relative notions that depend on the context in which dfns were defined: dfns usually have access to global variables, but the variables that are \"global\" depend on where the dfn was written.\n",
    "\n",
    "As a purely illustrative example, consider the function defined below:"
   ]
  },
  {
   "cell_type": "code",
   "execution_count": 72,
   "metadata": {},
   "outputs": [],
   "source": [
    "]dinput\n",
    "MultiplyBy10← {\n",
    "    v ← 10            ⍝ define some variable\n",
    "    TimesV ← {v×⍵}    ⍝ multiply something with v\n",
    "    TimesV ⍵\n",
    "}"
   ]
  },
  {
   "cell_type": "code",
   "execution_count": 73,
   "metadata": {},
   "outputs": [
    {
     "data": {
      "text/html": [
       "<span style=\"white-space:pre; font-family: monospace\">50\n",
       "</span>"
      ]
     },
     "execution_count": 73,
     "metadata": {},
     "output_type": "execute_result"
    }
   ],
   "source": [
    "MultiplyBy10 5"
   ]
  },
  {
   "cell_type": "code",
   "execution_count": 74,
   "metadata": {},
   "outputs": [
    {
     "data": {
      "text/html": [
       "<span style=\"white-space:pre; font-family: monospace\">100\n",
       "</span>"
      ]
     },
     "execution_count": 74,
     "metadata": {},
     "output_type": "execute_result"
    }
   ],
   "source": [
    "MultiplyBy10 10"
   ]
  },
  {
   "cell_type": "markdown",
   "metadata": {},
   "source": [
    "Notice how the `MultiplyBy10` function takes your input and gives it to the `TimesV` function, which is defined as a function that \"*takes its input (`⍵`) and multiplies it with `v`*\". But what is `v`? We do not give a value to `v` inside `TimesV`, so when APL encounters the expression `v×⍵` it looks at its surroundings for the meaning of `v`. Because `v` was defined in the enclosing dfn as `v ← 10`, that is the value that is used.\n",
    "\n",
    "Consider now a similar example, but with more occurrences of the variable `v`:"
   ]
  },
  {
   "cell_type": "code",
   "execution_count": 75,
   "metadata": {},
   "outputs": [],
   "source": [
    "v ← 100          ⍝ (1)"
   ]
  },
  {
   "cell_type": "code",
   "execution_count": 76,
   "metadata": {},
   "outputs": [],
   "source": [
    "]dinput\n",
    "MultiplyBy10 ← {\n",
    "    GiveMeV ← {\n",
    "        v\n",
    "    }\n",
    "    ⎕← v         ⍝ (3)\n",
    "    ⎕← GiveMeV 1 ⍝ (4)\n",
    "    v ← 10       ⍝ (5)\n",
    "    ⎕← v         ⍝ (6)\n",
    "    ⎕← GiveMeV 1 ⍝ (7)\n",
    "    v ← 10×⍵     ⍝ (8)\n",
    "    v\n",
    "}"
   ]
  },
  {
   "cell_type": "code",
   "execution_count": 77,
   "metadata": {},
   "outputs": [
    {
     "data": {
      "text/html": [
       "<span style=\"white-space:pre; font-family: monospace\">100\n",
       "</span>"
      ]
     },
     "execution_count": 77,
     "metadata": {},
     "output_type": "execute_result"
    },
    {
     "data": {
      "text/html": [
       "<span style=\"white-space:pre; font-family: monospace\">100\n",
       "100\n",
       "10\n",
       "10\n",
       "30\n",
       "</span>"
      ]
     },
     "execution_count": 77,
     "metadata": {},
     "output_type": "execute_result"
    },
    {
     "data": {
      "text/html": [
       "<span style=\"white-space:pre; font-family: monospace\">100\n",
       "</span>"
      ]
     },
     "execution_count": 77,
     "metadata": {},
     "output_type": "execute_result"
    }
   ],
   "source": [
    "⎕← v             ⍝ (2)\n",
    "MultiplyBy10 3\n",
    "⎕← v             ⍝ (9)"
   ]
  },
  {
   "cell_type": "markdown",
   "metadata": {},
   "source": [
    "Let us go over the assignments and the outputs of the code above:\n",
    "\n",
    " - we start by defining the variable `v` in our session and we set it to 100 (1);\n",
    " - we then define a function named `MultiplyBy10` which happens to contain another dfn inside it;\n",
    " - then we print the value of the session variable `v` and we see its value is 100 (2);\n",
    " - then we call the dfn `MultiplyBy10` with argument `3` and\n",
    "   - we define a new dfn named `GiveMeV`;\n",
    "   - we print the value of `v` (3). `MultiplyBy10` doesn't know what `v` is and so it looks for it in the session and finds a `v` whose value is 100, because of (1);\n",
    "   - we then call the function `GiveMeV` which simply returns `v` and we print it (4). `GiveMeV` doesn't know what `v` is, so it asks `MultiplyBy10`, which in turns asks the session, which knows of a `v` whose value is 100, because of (1);\n",
    "   - we then define `v` to be 10 inside of `MultiplyBy10` (5), making `MultiplyBy10` aware of a variable `v`;\n",
    "   - then we print `v` inside `MultiplyBy10` (6), which is 10 because we just defined it as such;\n",
    "   - then we call `GiveMeV` again and we print its result (7). `GiveMeV` doesn't know what `v` is, so it asks `MultiplyBy10`, that *now knows* what `v` is: it is 10 because of (5);\n",
    "   - and we finish executing the `MultiplyBy10` dfn by assigning 30 to `v` (8), which we then return from the dfn;\n",
    " - we leave the `MultiplyBy10` dfn call and 30 gets printed because that was the result of the dfn call;\n",
    " - finally we print `v` once more, and the session knows `v` is 100, so that is what we print (9).\n",
    " \n",
    "That might look confusing, but I assure you it makes a lot of sense. Just go through the code calmly and make sure you understand what each part does separately. Then, simulate the execution of the code with some pen and paper and write down what you think should get printed at each step. Then read the explanation above and compare it to what you thought was supposed to happen. You will get used to lexical scoping in no time.\n",
    "\n",
    "Lexical scoping can reveal itself to be extremely useful in languages where functions can return other functions, which is *not* the case with APL. Even so, lexical scoping will prove to be helpful later down the road: imagine a large(r) function inside which we define a small utility dfn to use with an operator, but we want the dfn to make use of things we have already computed inside the outer function. Lexical scoping kicks in at that point, allowing the inner dfn to access everything the outer function already computed.\n",
    "\n",
    "This concludes the more advanced topics on dfns. If you are used to programming in other programming languages that follow paradigms other than the array-oriented one, dfns may look very limited in their lack of conventional control structures and looping structures. As it turns out, in writing good array-oriented programs you can usually do away without these. What is more, the power of many of the built-in operators you will learn about in [a future chapter](./Operators.ipynb) will cover that gap in a very suitable way."
   ]
  },
  {
   "cell_type": "markdown",
   "metadata": {},
   "source": [
    "## Tradfns\n",
    "\n",
    "***Tradfns***, which were previously referred to as *procedural functions*, are mainly used for complex calculations involving many variables, interactions with a user, file input/output of data, etc. They look much like functions or programs in more traditional programming languages.\n",
    "\n",
    "Tradfn is short for \"*traditional function*\", because in the beginning APL did not have support for dfns. Hence, when dfns were a novelty, tradfns were the *traditional* functions that had been around for a while."
   ]
  },
  {
   "cell_type": "markdown",
   "metadata": {},
   "source": [
    "### A First Example\n",
    "\n",
    "Tradfns are composed of a *Header* and one or more *statements* (function lines), so invoking a text editor to enter these lines of text will make your life easier.\n",
    "\n",
    "As an example, let us see how we could define the `HarmonicMean` from before as a tradfn. Let us call it `TradHarmonicMean`, for *traditional harmonic mean*.\n",
    "\n",
    "Let us open the editor with `)ED TradHarmonicMean` and outright define our function:"
   ]
  },
  {
   "cell_type": "code",
   "execution_count": 78,
   "metadata": {},
   "outputs": [],
   "source": [
    "∇ mean ← TradHarmonicMean argVector\n",
    "    inverses ← ÷argVector\n",
    "    mean ← ÷+/inverses\n",
    "∇"
   ]
  },
  {
   "cell_type": "markdown",
   "metadata": {},
   "source": [
    "Now I will break it down for you:\n",
    "\n",
    "The function is delimited by a pair of `∇` symbols. This special symbol is named \"***Del***\" in English, or \"***Carrot***\" (because of its shape) in some French-speaking countries. You can type a *Del* with <kbd>APL</kbd>+<kbd>g</kbd>. In Jupyter notebooks and in the session, those are mandatory. If you define the tradfn in the text editor, you can omit them (cf. <!--figure-->the figure below<!--Editor_TradHarmonicMean-->);\n",
    " \n",
    "The first line of the tradfn is the header and tells APL that\n",
    " - the tradfn is going to be called `TradHarmonicMean`,\n",
    " - it expects a right argument which will be named `argVector` and\n",
    " - it will return the value we store in the variable named `mean`.\n",
    "   \n",
    "The subsequent lines have the statements of the function itself and, in particular, the final line in which we perform the `mean ← ...` assignment is where we establish the result that will be returned by the tradfn.\n",
    " \n",
    "![A tradfn defined in the editor and without delimiting Del characters](res/Editor_TradHarmonicMean.png)\n",
    "\n",
    "The function is now available for use:"
   ]
  },
  {
   "cell_type": "code",
   "execution_count": 79,
   "metadata": {},
   "outputs": [
    {
     "data": {
      "text/html": [
       "<span style=\"white-space:pre; font-family: monospace\">1.5\n",
       "</span>"
      ]
     },
     "execution_count": 79,
     "metadata": {},
     "output_type": "execute_result"
    }
   ],
   "source": [
    "TradHarmonicMean 2 6"
   ]
  },
  {
   "cell_type": "markdown",
   "metadata": {},
   "source": [
    "### The Default Isn't Local\n",
    "\n",
    "Just like when we defined `HarmonicMean` as our first dfn, our tradfn uses a temporary variable called `inverses`. Let us check its value:"
   ]
  },
  {
   "cell_type": "code",
   "execution_count": 80,
   "metadata": {},
   "outputs": [
    {
     "data": {
      "text/html": [
       "<span style=\"white-space:pre; font-family: monospace\">0.5 0.166667\n",
       "</span>"
      ]
     },
     "execution_count": 80,
     "metadata": {},
     "output_type": "execute_result"
    }
   ],
   "source": [
    "inverses"
   ]
  },
  {
   "cell_type": "markdown",
   "metadata": {},
   "source": [
    "When we did the same check in [the subsection \"Local Variables\"](#Local-Variables) we couldn't access the value of `inverses` because it was not defined in the session, it was a variable that was local to the dfn. Clearly, this works differently in tradfns.\n",
    "\n",
    "If you were paying attention, you will have noticed that in <!--figure-->the figure above<!--Editor_TradHarmonicMean--> there's two colours being used (the actual colours might differ between the Windows IDE and RIDE, and you might also have changed your colour scheme to something else):\n",
    "\n",
    " - black for the names `TradHarmonicMean` and `inverses`;\n",
    " - grey for the names `argVector` and `mean`.\n",
    " \n",
    "So what do the colours mean?\n",
    "\n",
    "The names in black are the variables that are global, variables that remain in the workspace after they have been assigned values during execution of the function. These names can refer to existing variables - intentionally or not - and may produce undesirable side effects.\n",
    "\n",
    "The names in grey are temporary variable names used during function execution. Once execution is complete, these temporary variables are destroyed. Right before that, the tradfn returns the *value* of the return variable - `mean` in our example - and then discards its *name*.\n",
    "\n",
    "That means neither `argVector` nor `mean` should be available after execution of the tradfn ends:"
   ]
  },
  {
   "cell_type": "code",
   "execution_count": 81,
   "metadata": {},
   "outputs": [
    {
     "name": "stderr",
     "output_type": "stream",
     "text": [
      "VALUE ERROR: Undefined name: mean\n",
      "      mean\n",
      "      ∧\n"
     ]
    }
   ],
   "source": [
    "mean"
   ]
  },
  {
   "cell_type": "code",
   "execution_count": 82,
   "metadata": {},
   "outputs": [
    {
     "name": "stderr",
     "output_type": "stream",
     "text": [
      "VALUE ERROR: Undefined name: argVector\n",
      "      argVector\n",
      "      ∧\n"
     ]
    }
   ],
   "source": [
    "argVector"
   ]
  },
  {
   "cell_type": "markdown",
   "metadata": {},
   "source": [
    "Because `inverses` is coloured in black, we can see it can interfere with the variables in our workspace:"
   ]
  },
  {
   "cell_type": "code",
   "execution_count": 83,
   "metadata": {},
   "outputs": [
    {
     "data": {
      "text/html": [
       "<span style=\"white-space:pre; font-family: monospace\">0.48\n",
       "</span>"
      ]
     },
     "execution_count": 83,
     "metadata": {},
     "output_type": "execute_result"
    }
   ],
   "source": [
    "inverses ← 'The inverses are calculated by use of monadic ÷'\n",
    "TradHarmonicMean 1 2 3 4"
   ]
  },
  {
   "cell_type": "markdown",
   "metadata": {},
   "source": [
    "And suddenly `inverses` is no longer what you defined:"
   ]
  },
  {
   "cell_type": "code",
   "execution_count": 84,
   "metadata": {},
   "outputs": [
    {
     "data": {
      "text/html": [
       "<span style=\"white-space:pre; font-family: monospace\">1 0.5 0.333333 0.25\n",
       "</span>"
      ]
     },
     "execution_count": 84,
     "metadata": {},
     "output_type": "execute_result"
    }
   ],
   "source": [
    "inverses"
   ]
  },
  {
   "cell_type": "markdown",
   "metadata": {},
   "source": [
    "All the variables created during execution of the tradfn that are not referenced in the header are considered to be global variables. To avoid any unpredictable side effects, it is recommended that you declare as local all the variables used by a function. This is done by specifying their names in the header each prefixed by a ***semi-colon***, as shown in this new definition of `TradHarmonicMean`:"
   ]
  },
  {
   "cell_type": "code",
   "execution_count": 85,
   "metadata": {},
   "outputs": [],
   "source": [
    "∇ mean ← TradHarmonicMean argVector; inverses\n",
    "    inverses ← ÷argVector\n",
    "    mean ← ÷+/inverses\n",
    "∇"
   ]
  },
  {
   "cell_type": "code",
   "execution_count": 86,
   "metadata": {},
   "outputs": [
    {
     "data": {
      "text/html": [
       "<span style=\"white-space:pre; font-family: monospace\">0.48\n",
       "</span>"
      ]
     },
     "execution_count": 86,
     "metadata": {},
     "output_type": "execute_result"
    }
   ],
   "source": [
    "inverses ← 'The inverses are calculated by use of monadic ÷'\n",
    "TradHarmonicMean 1 2 3 4"
   ]
  },
  {
   "cell_type": "code",
   "execution_count": 87,
   "metadata": {},
   "outputs": [
    {
     "data": {
      "text/html": [
       "<span style=\"white-space:pre; font-family: monospace\">The inverses are calculated by use of monadic ÷\n",
       "</span>"
      ]
     },
     "execution_count": 87,
     "metadata": {},
     "output_type": "execute_result"
    }
   ],
   "source": [
    "inverses"
   ]
  },
  {
   "cell_type": "markdown",
   "metadata": {},
   "source": [
    "As we can see, `inverses` is now treated as a local variable.\n",
    "\n",
    "<!--begin rules-->\n",
    "***Rules***:\n",
    "\n",
    " >  - All the names referenced in the header of a function (including its result and arguments) are ***local*** to the function. They will exist only during the execution of the function.\n",
    " >\n",
    " >  - Operations made on local variables do not affect ***global*** variables having the same names.\n",
    " >\n",
    " >  - *Global* and *Local* are relative notions: when a tradfn calls another sub function, variables local to the calling function are global for the called function. This will be further explored in [a bit](#Dynamic-Scoping).\n",
    " >\n",
    " >  - All the variables used in a tradfn should preferably be declared local, unless you specifically intend otherwise.\n",
    "<!--end-->"
   ]
  },
  {
   "cell_type": "markdown",
   "metadata": {},
   "source": [
    "### Defining Sub-Functions\n",
    "\n",
    "As we have seen, dfns can be defined inside other dfns. Similarly, dfns can be defined inside tradfns and used right away. The precautions mentioned above, that need to be taken with respect to *global* versus *local* variables, still apply. In short, do not forget to localise the name of a temporary dfn unless you really mean for it to become global."
   ]
  },
  {
   "cell_type": "markdown",
   "metadata": {},
   "source": [
    "### A Second Example\n",
    "\n",
    "You may remember from previous chapters our two matrices `forecast` and `actual`, representing sales of 4 products over 6 months:"
   ]
  },
  {
   "cell_type": "code",
   "execution_count": 88,
   "metadata": {},
   "outputs": [
    {
     "data": {
      "text/html": [
       "<span style=\"white-space:pre; font-family: monospace\"> 90 160 420 500  20  30\n",
       "110 450 170 370 290 360\n",
       "340 190 320 120 510 370\n",
       "150 460 240 520 490 280\n",
       "</span>"
      ]
     },
     "execution_count": 88,
     "metadata": {},
     "output_type": "execute_result"
    }
   ],
   "source": [
    "⎕RL ← 73\n",
    "⊢forecast ← 10×?4 6⍴55"
   ]
  },
  {
   "cell_type": "code",
   "execution_count": 89,
   "metadata": {},
   "outputs": [
    {
     "data": {
      "text/html": [
       "<span style=\"white-space:pre; font-family: monospace\"> 89 166 420 508  12  23\n",
       "111 453 177 365 284 352\n",
       "349 192 329 115 515 374\n",
       "160 467 234 519 485 283\n",
       "</span>"
      ]
     },
     "execution_count": 89,
     "metadata": {},
     "output_type": "execute_result"
    }
   ],
   "source": [
    "⎕RL ← 73\n",
    "⊢actual ← forecast + ¯10+?4 6⍴20"
   ]
  },
  {
   "cell_type": "markdown",
   "metadata": {},
   "source": [
    "It would be nice to interlace the columns of those two matrices to make it easier to compare forecast and actual sales for the same month. Furthermore, because this might be useful for other pairs of matrices, let's create a general function to do the job; let's call it `Interlace`.\n",
    "\n",
    "The result we would like to obtain is schematised in the table below, with `f` being shorthand for `forecast` and `a` being shorthand for `actual`:\n",
    "\n",
    "| `f[;1]` | `a[;1]` | `f[;2]` | `a[;2]` | `f[;3]` | `a[;3]` | `f[;4]` | `a[;4]` | `f[;5]` | `a[;5]` | `f[;6]` | `a[;6]` |\n",
    "| :-: | :-: | :-: | :-: | :-: | :-: | :-: | :-: | :-: | :-: | :-: | :-: |\n",
    "| 90 | 89 | 160 | 166 | 420 | 420 | 500 | 508 | 20 | 12 | 30 | 23 |\n",
    "| 110 | 111 | 450 | 453 | 170 | 177 | 370 | 365 | 290 | 284 | 360 | 352 |\n",
    "| 340 | 349 | 190 | 192 | 320 | 329 | 120 | 115 | 510 | 515 | 370 | 374 |\n",
    "| 150 | 160 | 460 | 467 | 240 | 234 | 520 | 519 | 490 | 485 | 280 | 283 |\n",
    "\n",
    "The first thing you must decide is how this function will be used:\n",
    "\n",
    " - will you pass both matrices on right: `Interlace forecast actual`\n",
    " - or one on the left and one on the right: `forecast Interlace actual`\n",
    " \n",
    "Both solutions are valid; it is only a question of personal taste and ease of use. Our first tradfn was monadic so let us make this one dyadic.\n",
    "\n",
    "Having decided on the calling syntax, we just have to know how the header of a dyadic tradfn looks like. If we call `r` to the result and `x` and `y` to the left and right arguments, respectively, then the tradfn header is"
   ]
  },
  {
   "cell_type": "code",
   "execution_count": 90,
   "metadata": {},
   "outputs": [],
   "source": [
    "∇ r ← x Interlace y\n",
    "∇"
   ]
  },
  {
   "cell_type": "markdown",
   "metadata": {},
   "source": [
    "which may then be updated to include local variables.\n",
    "\n",
    "The names `x`, `y` and `r` do not matter to the APL system. Replacing `x` and `y` with `a` and `b` or `left` and `right` would be perfectly valid and obviously easier to recall than if we replaced them with `potatoes` and `ocarina`. However, you should pick names which help you remember what the function is doing. For example, in a general-purpose function like this, you should probably avoid using too specific names like `forecast` and `actual`: that would imply that this function only works on arrays containing forecast and actual data. Such names might also confuse the distinction between local and global names.\n",
    "\n",
    "Now that the header is set, how shall we interlace our two matrices? Have a go at it, if you fancy.\n",
    "\n",
    "We suggest the following steps:\n",
    "\n",
    " - calculate the size of the result `r`. It will be a matrix with as many rows as `x` and `y`, but twice as many columns;\n",
    " - create `r` filled with zeroes;\n",
    " - calculate the indices of its even columns;\n",
    " - fill the even columns with `y`;\n",
    " - calculate the indices of its odd columns and fill them with `x`.\n",
    " \n",
    "The final function could be written as follows. Do not forget to localise your variables."
   ]
  },
  {
   "cell_type": "code",
   "execution_count": 91,
   "metadata": {},
   "outputs": [],
   "source": [
    "∇ r ← x Interlace y; size; even\n",
    "    size ← 1 2×⍴x\n",
    "    r ← size⍴0\n",
    "    even ← 2×⍳(⍴x)[2]\n",
    "    r[;even] ← y\n",
    "    r[;even-1] ← x\n",
    "∇"
   ]
  },
  {
   "cell_type": "markdown",
   "metadata": {},
   "source": [
    "We can now apply the function to any pair of variables, provided they have the same size:"
   ]
  },
  {
   "cell_type": "code",
   "execution_count": 92,
   "metadata": {},
   "outputs": [
    {
     "data": {
      "text/html": [
       "<span style=\"white-space:pre; font-family: monospace\"> 90  89 160 166 420 420 500 508  20  12  30  23\n",
       "110 111 450 453 170 177 370 365 290 284 360 352\n",
       "340 349 190 192 320 329 120 115 510 515 370 374\n",
       "150 160 460 467 240 234 520 519 490 485 280 283\n",
       "</span>"
      ]
     },
     "execution_count": 92,
     "metadata": {},
     "output_type": "execute_result"
    }
   ],
   "source": [
    "forecast Interlace actual"
   ]
  },
  {
   "cell_type": "code",
   "execution_count": 93,
   "metadata": {},
   "outputs": [
    {
     "data": {
      "text/html": [
       "<span style=\"white-space:pre; font-family: monospace\">1 5 2 7 3 0\n",
       "4 2 5 8 6 9\n",
       "</span>"
      ]
     },
     "execution_count": 93,
     "metadata": {},
     "output_type": "execute_result"
    }
   ],
   "source": [
    "(2 3⍴⍳6) Interlace (2 3⍴5 7 0 2 8 9)"
   ]
  },
  {
   "cell_type": "markdown",
   "metadata": {},
   "source": [
    "**Another possible syntax**\n",
    "\n",
    "If you had decided instead to make the function monadic, it could look very similar to the one above. We just changed the header a bit and added a new statement at the beginning:"
   ]
  },
  {
   "cell_type": "code",
   "execution_count": 94,
   "metadata": {},
   "outputs": [],
   "source": [
    "∇ r ← Interlace couple; x; y; size; even\n",
    "    (x y) ← couple\n",
    "    size ← 1 2×⍴x\n",
    "    r ← size⍴0\n",
    "    even ← 2×⍳(⍴x)[2]\n",
    "    r[;even] ← y\n",
    "    r[;even-1] ← x\n",
    "∇"
   ]
  },
  {
   "cell_type": "code",
   "execution_count": 95,
   "metadata": {},
   "outputs": [
    {
     "data": {
      "text/html": [
       "<span style=\"white-space:pre; font-family: monospace\"> 90  89 160 166 420 420 500 508  20  12  30  23\n",
       "110 111 450 453 170 177 370 365 290 284 360 352\n",
       "340 349 190 192 320 329 120 115 510 515 370 374\n",
       "150 160 460 467 240 234 520 519 490 485 280 283\n",
       "</span>"
      ]
     },
     "execution_count": 95,
     "metadata": {},
     "output_type": "execute_result"
    }
   ],
   "source": [
    "Interlace forecast actual"
   ]
  },
  {
   "cell_type": "markdown",
   "metadata": {},
   "source": [
    "### Dynamic Scoping\n",
    "\n",
    "***Dynamic scoping*** (as opposed to *static* scoping, as seen in [here](#Lexical-Scoping)) is the mechanism that turns local and global variables into relative notions that depend on the chain of function calls that are currently being interpreted: when a tradfn calls another function, variables local to the calling function are global for the called function.\n",
    "\n",
    "To explore what this means, consider the following tradfns. Do not worry about their arguments and return values as they are not meaningful. What matters are the assignments to `a` and `b` and the prints."
   ]
  },
  {
   "cell_type": "code",
   "execution_count": 96,
   "metadata": {},
   "outputs": [],
   "source": [
    "∇ r ← PrintAB y\n",
    "    ⎕← a\n",
    "    ⎕← b\n",
    "    r ← 0\n",
    "∇"
   ]
  },
  {
   "cell_type": "code",
   "execution_count": 97,
   "metadata": {},
   "outputs": [],
   "source": [
    "∇ r ← SetAThenPrint y; a\n",
    "    a ← 1\n",
    "    r ← PrintAB y\n",
    "∇"
   ]
  },
  {
   "cell_type": "code",
   "execution_count": 98,
   "metadata": {},
   "outputs": [],
   "source": [
    "∇ r ← SetBThenPrint y; b\n",
    "    b ← 2\n",
    "    r ← PrintAB y\n",
    "∇"
   ]
  },
  {
   "cell_type": "markdown",
   "metadata": {},
   "source": [
    "and let us define *global* variables `a` and `b` with character values:"
   ]
  },
  {
   "cell_type": "code",
   "execution_count": 99,
   "metadata": {},
   "outputs": [],
   "source": [
    "a ← 'a'\n",
    "b ← 'b'"
   ]
  },
  {
   "cell_type": "markdown",
   "metadata": {},
   "source": [
    "Now let us call `SetAThenPrint`. What do you expect to be printed?"
   ]
  },
  {
   "cell_type": "code",
   "execution_count": 100,
   "metadata": {},
   "outputs": [
    {
     "data": {
      "text/html": [
       "<span style=\"white-space:pre; font-family: monospace\">1\n",
       "b\n",
       "0\n",
       "</span>"
      ]
     },
     "execution_count": 100,
     "metadata": {},
     "output_type": "execute_result"
    }
   ],
   "source": [
    "SetAThenPrint 0"
   ]
  },
  {
   "cell_type": "markdown",
   "metadata": {},
   "source": [
    "Did it match your expectations? Can you now guess what will happen if we execute `SetBThenPrint`?"
   ]
  },
  {
   "cell_type": "code",
   "execution_count": 101,
   "metadata": {},
   "outputs": [
    {
     "data": {
      "text/html": [
       "<span style=\"white-space:pre; font-family: monospace\">a\n",
       "2\n",
       "0\n",
       "</span>"
      ]
     },
     "execution_count": 101,
     "metadata": {},
     "output_type": "execute_result"
    }
   ],
   "source": [
    "SetBThenPrint 0"
   ]
  },
  {
   "cell_type": "markdown",
   "metadata": {},
   "source": [
    "Notice how `PrintAB` was defined as a standalone tradfn which prints two variables. Because `a` and `b` are never defined inside `PrintAB`, surely `PrintAB` will be printing global values. Then, depending on what function called `PrintAB`, either `a` or `b` are taken from the context of the enclosing *calling* function.\n",
    "\n",
    "Let us try to define the same functions but with dfns:"
   ]
  },
  {
   "cell_type": "code",
   "execution_count": 102,
   "metadata": {},
   "outputs": [],
   "source": [
    "]dinput\n",
    "PrintCD ← {\n",
    "    ⎕← c\n",
    "    ⎕← d\n",
    "    0\n",
    "}"
   ]
  },
  {
   "cell_type": "code",
   "execution_count": 103,
   "metadata": {},
   "outputs": [],
   "source": [
    "]dinput\n",
    "SetCThenPrint ← {\n",
    "    c ← 3\n",
    "    PrintCD ⍵\n",
    "}"
   ]
  },
  {
   "cell_type": "code",
   "execution_count": 104,
   "metadata": {},
   "outputs": [],
   "source": [
    "]dinput\n",
    "SetDThenPrint ← {\n",
    "    d ← 4\n",
    "    PrintCD ⍵\n",
    "}"
   ]
  },
  {
   "cell_type": "code",
   "execution_count": 105,
   "metadata": {},
   "outputs": [],
   "source": [
    "c ← 'c'\n",
    "d ← 'd'"
   ]
  },
  {
   "cell_type": "markdown",
   "metadata": {},
   "source": [
    "What will happen if we call `SetCThenPrint`?"
   ]
  },
  {
   "cell_type": "code",
   "execution_count": 106,
   "metadata": {},
   "outputs": [
    {
     "data": {
      "text/html": [
       "<span style=\"white-space:pre; font-family: monospace\">c\n",
       "d\n",
       "0\n",
       "</span>"
      ]
     },
     "execution_count": 106,
     "metadata": {},
     "output_type": "execute_result"
    }
   ],
   "source": [
    "SetCThenPrint 0"
   ]
  },
  {
   "cell_type": "markdown",
   "metadata": {},
   "source": [
    "Even though `SetCThenPrint` modified the value of `c` to be 3, the `PrintCD` function was defined in the workspace, and hence its lexical scoping tells it to look for `c` among its own variables, and among the global variables in the workspace. `PrintCD` does not have access to the local variables of the function that called it.\n",
    "\n",
    "That is why, if we call `SetDThenPrint`, we get the exact same output:"
   ]
  },
  {
   "cell_type": "code",
   "execution_count": 107,
   "metadata": {},
   "outputs": [
    {
     "data": {
      "text/html": [
       "<span style=\"white-space:pre; font-family: monospace\">c\n",
       "d\n",
       "0\n",
       "</span>"
      ]
     },
     "execution_count": 107,
     "metadata": {},
     "output_type": "execute_result"
    }
   ],
   "source": [
    "SetDThenPrint 0"
   ]
  },
  {
   "cell_type": "markdown",
   "metadata": {},
   "source": [
    "Perhaps the difference between dynamic and lexical scoping becomes even more clear if we consider yet another family of tradfns:"
   ]
  },
  {
   "cell_type": "code",
   "execution_count": 108,
   "metadata": {},
   "outputs": [],
   "source": [
    "∇ r ← PrintE y\n",
    "    ⎕← e\n",
    "    r ← 0\n",
    "∇"
   ]
  },
  {
   "cell_type": "markdown",
   "metadata": {},
   "source": [
    "Notice that if you call `PrintE` right now it will cause an error, because there is no variable `e` defined anywhere:"
   ]
  },
  {
   "cell_type": "code",
   "execution_count": 109,
   "metadata": {},
   "outputs": [
    {
     "name": "stderr",
     "output_type": "stream",
     "text": [
      "VALUE ERROR: Undefined name: e\n",
      "      e\n",
      "      ∧\n"
     ]
    }
   ],
   "source": [
    "e"
   ]
  },
  {
   "cell_type": "code",
   "execution_count": 110,
   "metadata": {},
   "outputs": [
    {
     "name": "stderr",
     "output_type": "stream",
     "text": [
      "VALUE ERROR: Undefined name: e\n",
      "PrintE[1] ⎕←e\n",
      "            ∧\n"
     ]
    }
   ],
   "source": [
    "PrintE 0"
   ]
  },
  {
   "cell_type": "markdown",
   "metadata": {},
   "source": [
    "Now let us define a tradfn that makes use of a *local* variable `e`:"
   ]
  },
  {
   "cell_type": "code",
   "execution_count": 111,
   "metadata": {},
   "outputs": [],
   "source": [
    "∇ r ← SetLocalE y; e\n",
    "    e ← 5\n",
    "    r ← PrintE y\n",
    "∇"
   ]
  },
  {
   "cell_type": "markdown",
   "metadata": {},
   "source": [
    "If we call `SetLocalE`, `e` will be defined inside `SetLocalE` and then, when `PrintE` gets called, the dynamic scoping will make `e` visible as a global variable:"
   ]
  },
  {
   "cell_type": "code",
   "execution_count": 112,
   "metadata": {},
   "outputs": [
    {
     "data": {
      "text/html": [
       "<span style=\"white-space:pre; font-family: monospace\">5\n",
       "0\n",
       "</span>"
      ]
     },
     "execution_count": 112,
     "metadata": {},
     "output_type": "execute_result"
    }
   ],
   "source": [
    "SetLocalE 0"
   ]
  },
  {
   "cell_type": "markdown",
   "metadata": {},
   "source": [
    "After `SetLocalE` is executed, our workspace still has no variable `e`:"
   ]
  },
  {
   "cell_type": "code",
   "execution_count": 113,
   "metadata": {},
   "outputs": [
    {
     "name": "stderr",
     "output_type": "stream",
     "text": [
      "VALUE ERROR: Undefined name: e\n",
      "      e\n",
      "      ∧\n"
     ]
    }
   ],
   "source": [
    "e"
   ]
  },
  {
   "cell_type": "markdown",
   "metadata": {},
   "source": [
    "We now summarise the scoping rules used when a function `F` calls another function `G`.\n",
    "\n",
    "<!--begin scoping rules style=tip-->\n",
    "***Scoping rules***:\n",
    "\n",
    " >  - If `F` is a tradfn, then all of `F`'s local variables will be visible to `G`. \n",
    " >\n",
    " >  - If `F` is a dfn and you want its local variables to be visible to `G`, then either define `G` as a tradfn or define `G` as a dfn *inside* `F`.\n",
    "<!--end-->"
   ]
  },
  {
   "cell_type": "markdown",
   "metadata": {},
   "source": [
    "## Flow Control\n",
    "\n",
    "### Overview\n",
    "\n",
    "Apart from extremely simple calculations, most programs rely on certain statements being executed only if a given condition is satisfied (conditional execution) or on a set of statements being executed again and again, until a given limit is reached (looping). The APL language offers a special set of syntactic elements to control the flow of statements inside tradfns.\n",
    "\n",
    "In the very first versions of APL, the only way to implement conditional execution and looping was to use the symbol `→` (the *branch arrow*, typed with <kbd>APL</kbd>+<kbd>]</kbd>). This was used to jump from one statement to another, skipping over other statements (conditional execution) or jumping back to repeat a set of statements again (looping). The branch arrow is equivalent to the GOTO statement in other languages. Contemporary versions of APL include a special set of keywords which offer a much more flexible, easy to use and easy to read way to control the flow of execution. They are also very similar to those used in most other languages. These are known as ***Control structures***.\n",
    "\n",
    "We shall begin by using control structures and then introduce you later to the old way of programming, only because you may come across it in some existing programs, and because it sometimes offers shorter or more convenient ways of doing things.\n",
    "\n",
    "Control structures are blocks of statements which begin and end with special keywords. These keywords are all **prefixed** with a ***colon***, like `:If` or `:Repeat`. This prevents the names of your variables to clash with these keywords.\n",
    "\n",
    "The keywords can be typed in lower or upper case, but Dyalog APL will always store and display them using a fixed spelling convention commonly known as CamelCase or, more specifically, PascalCase. Following this convention, a keyword has an upper case first letter and the following letters in lower case. Composite keywords like \"`EndIf`\" and \"`GoTo`\" capitalise the first letter of each word.\n",
    "\n",
    "Opening keywords are used to begin the conditional execution or repeated execution of a block of statements. Usually (but not always), the block is ended by a corresponding keyword that starts with `:End`.\n",
    "\n",
    "The sets of opening/closing keywords are shown below:\n",
    "\n",
    "| Opening | Closing |\n",
    "| :- | :- |\n",
    "| `:If` | `:EndIf` |\n",
    "| `:For` | `:EndFor` |\n",
    "| `:Select` | `:EndSelect` |\n",
    "| `:Repeat` | `:Until` |\n",
    "| | `:EndRepeat` |\n",
    "| `:While` | `:EndWhile` |\n",
    "| | `:Until` |\n",
    "| `:Trap` | `:EndTrap` |\n",
    "| `:With` | `:EndWith` |\n",
    "| `:Hold` | `:EndHold` |\n",
    "\n",
    "The primary keywords shown above can be complemented by additional keywords which qualify more precisely what is to be done:\n",
    "\n",
    " - `:Else`\n",
    " - `:ElseIf`\n",
    " - `:AndIf`\n",
    " - `:OrIf`\n",
    " - `:Case`\n",
    " - `:CaseList`\n",
    " - `:Until`\n",
    " \n",
    "And finally, some keywords may be used to conditionally alter the flow of execution within a control structure.\n",
    "\n",
    "The following keywords will not be studied in this chapter:\n",
    "\n",
    " - `:Trap... :EndTrap` concerns event processing and will be seen in [the chapter \"Event Handling\"](./Event-Handling.ipynb);\n",
    " - `:With... :EndWith` concerns the GUI interface and namespaces and will be covered in [the chapter on GUIs](./Graphical-User-Interface.ipynb) and in [the chapter on namespaces](./Namespaces.ipynb);\n",
    " - `:Hold... :EndHold` concerns *multi threading*."
   ]
  },
  {
   "cell_type": "markdown",
   "metadata": {},
   "source": [
    "### Conditional Execution\n",
    "\n",
    "#### Simple Conditions (`:If`/`:EndIf`)\n",
    "\n",
    "The clauses `:If` and `:EndIf` delimit a block of statements (Block **1** in <!--figure-->the diagram below<!--Control_Flow_If_EndIf-->), which will be executed only if the condition specified by the `:If` clause is satisfied.\n",
    "\n",
    "![A diagram with the usage of `:If... :EndIf`](res/Control_Flow_If_EndIf.png)\n",
    "\n",
    "Here is the explanation of what happens inside the function of the diagram <!--figure-->above<!--Control_Flow_If_EndIf-->:\n",
    "\n",
    " - If present, Block **0** will always be executed, as will Block **2**;\n",
    " - *Condition* is any expression whose result is a Boolean **scalar** or **one item array**; for example, `code∊list`, `price>100` or `values∧.=0`;\n",
    " - Block **1** will be executed if *Condition* is satisfied.\n",
    " \n",
    "<!--begin example-->\n",
    "***Example***:\n",
    "\n",
    " > Our keyboard has been damaged: we can no longer use the *Absolute value* key. Perhaps a tradfn could replace it? Try writing a tradfn using an `:If` clause.\n",
    "<!--end-->\n",
    "\n",
    "Here is a possible solution:"
   ]
  },
  {
   "cell_type": "code",
   "execution_count": 114,
   "metadata": {},
   "outputs": [],
   "source": [
    "∇ y ← AbsVal y\n",
    "    :If y < 0\n",
    "        y ← -y\n",
    "    :EndIf\n",
    "∇"
   ]
  },
  {
   "cell_type": "code",
   "execution_count": 115,
   "metadata": {},
   "outputs": [
    {
     "data": {
      "text/html": [
       "<span style=\"white-space:pre; font-family: monospace\">1\n",
       "</span>"
      ]
     },
     "execution_count": 115,
     "metadata": {},
     "output_type": "execute_result"
    }
   ],
   "source": [
    "AbsVal 1"
   ]
  },
  {
   "cell_type": "code",
   "execution_count": 116,
   "metadata": {},
   "outputs": [
    {
     "data": {
      "text/html": [
       "<span style=\"white-space:pre; font-family: monospace\">3.4\n",
       "</span>"
      ]
     },
     "execution_count": 116,
     "metadata": {},
     "output_type": "execute_result"
    }
   ],
   "source": [
    "AbsVal ¯3.4"
   ]
  },
  {
   "cell_type": "markdown",
   "metadata": {},
   "source": [
    "If the argument is positive (or zero), the function does nothing and just returns the argument it received. If the argument is negative, it returns the corresponding positive value."
   ]
  },
  {
   "cell_type": "markdown",
   "metadata": {},
   "source": [
    "#### Alternative Processing (`:If`/`:Else`/`:EndIf`)\n",
    "\n",
    "In the previous example if *Condition* is satisfied, Block **1** is executed; otherwise nothing is done. But sometimes we would like to execute one set of statements (Block **1**) if *Condition* is satisfied or an alternative one (Block **2**) if it is not.\n",
    "\n",
    "For this, we use the additional keyword `:Else` as shown in <!--figure-->the diagram below<!--Control_Flow_If_Else_EndIf-->:\n",
    "\n",
    "![A diagram with the usage of `:If... :Else... :EndIf`](res/Control_Flow_If_Else_EndIf.png)\n",
    "\n",
    "Blocks **0** and **3** will always be executed, if present. Block **1** will be executed if *Condition* **is** satisfied and Block **2** will be executed if *Condition* is **not** satisfied. Notice this means that exactly *one* of the two blocks gets executed. Never both, and never none.\n",
    "\n",
    "<!--begin example-->\n",
    "***Example***:\n",
    "\n",
    " > Let us try to find the real roots of the quadratic equation $ax^2 + bx + c = 0$, given the values of $a$, $b$ and $c$. If the quantity $\\Delta = b^2 - 4ac$ is negative, it is known that the two solutions of this equation are complex numbers. $\\Delta$ is commonly referred to as the [discriminant](https://en.wikipedia.org/wiki/Quadratic_equation#Discriminant) of the equation. \n",
    "<!--end-->\n",
    "\n",
    "We can write a tradfn that computes the two roots by means of the [quadratic formula](https://en.wikipedia.org/wiki/Quadratic_equation#Quadratic_formula_and_its_derivation), except that it issues an error message if there are no real roots. We will use an `:If... :Else... :EndIf` clause for this:"
   ]
  },
  {
   "cell_type": "code",
   "execution_count": 117,
   "metadata": {},
   "outputs": [],
   "source": [
    "∇ r ← QuadRoot abc; a; b; c; delta\n",
    "    (a b c) ← abc\n",
    "    delta ← (b*2)-4×a×c\n",
    "    :If delta≥0\n",
    "        r ← (-b)+1 ¯1×delta*0.5\n",
    "        r ← r÷2×a\n",
    "    :Else\n",
    "        r ← 'No roots'\n",
    "    :EndIf\n",
    "∇"
   ]
  },
  {
   "cell_type": "code",
   "execution_count": 118,
   "metadata": {},
   "outputs": [
    {
     "data": {
      "text/html": [
       "<span style=\"white-space:pre; font-family: monospace\">¯1.5 5\n",
       "</span>"
      ]
     },
     "execution_count": 118,
     "metadata": {},
     "output_type": "execute_result"
    }
   ],
   "source": [
    "QuadRoot ¯2 7 15"
   ]
  },
  {
   "cell_type": "code",
   "execution_count": 119,
   "metadata": {},
   "outputs": [
    {
     "data": {
      "text/html": [
       "<span style=\"white-space:pre; font-family: monospace\">No roots\n",
       "</span>"
      ]
     },
     "execution_count": 119,
     "metadata": {},
     "output_type": "execute_result"
    }
   ],
   "source": [
    "QuadRoot 1 1 1"
   ]
  },
  {
   "cell_type": "markdown",
   "metadata": {},
   "source": [
    "#### Composite Conditions (`:OrIf`/`:AndIf`)\n",
    "\n",
    "Multiple conditions can be combined using the Boolean functions \"OR\" and \"AND\".\n",
    "\n",
    "Consider the diagram <!--figure-->below<!--Control_Flow_OrIf-->:\n",
    "\n",
    "![A diagram with the usage of `:OrIf`](res/Control_Flow_OrIf.png)\n",
    "\n",
    "If present, Block **0** and Block **3** will always be executed. Block **1** and *Condition* **2** are only executed if *Condition* **1** is **not** satisfied. Block **2** is executed if *Condition* **1** **OR** *Condition* **2** **is** satisfied.\n",
    "\n",
    "In many cases, the same result could be obtained by a more traditional APL approach using `∨`: `:If (Condition 1) ∨ (Condition 2)`.\n",
    "\n",
    "However, suppose that Block **1** and/or *Condition* **2** need a lot of computing time.\n",
    "\n",
    " - The traditional APL solution will always evaluate both *Condition* **1** and *Condition* **2**, combine the results, and decide what to do.\n",
    " - With the \"`:OrIf`\" technique, if *Condition* **1** is satisfied, Block **2** will be immediately executed, and neither Block **1** nor *Condition* **2** will be evaluated. This may sometimes save a lot of processing time.\n",
    " \n",
    "Using the `:OrIf` clause will thus enable what is usually referred to as *short-circuiting* in other programming languages.\n",
    " \n",
    "Note that the optional Block **1** may be useful to prepare the variables to be referenced in *Condition* **2**, but can also be omitted.\n",
    "\n",
    "We have a similar structure with the `:AndIf` clause, as seen in <!--figure-->this next diagram<!--Flow_Control_AndIf-->:\n",
    "\n",
    "![A diagram with the usage of `:AndIf`](res/Control_Flow_AndIf.png)\n",
    "\n",
    "Again, Block **0** and Block **3** will always be executed. Block **1** is optional and will only be executed if *Condition* **1** **is** satisfied. Likewise, *Condition* **2** will be executed only if *Condition* **1** is satisfied. Finally, Block **2** is executed if both *Condition* **1** **AND** *Condition* **2** are satisfied.\n",
    "\n",
    "<!--begin rule-->\n",
    "***Rule***:\n",
    "\n",
    " > For `:OrIf` and `:AndIf`, Block **1** and *Condition* **2** are only executed if the result of *Condition* **1** is **not** enough to determine the result of the Boolean operation combining conditions **1** and **2**.\n",
    "<!--end-->\n",
    "\n",
    "In many cases, the same result could be obtained by a more traditional APL approach using `∧`: `:If (Condition 1) ∧ (Condition 2)`.\n",
    "\n",
    "However, it may be that *Condition* **2** cannot be evaluated if *Condition* **1** is not satisfied. For example, we want to execute Block **2** if the variable `var` exists and is smaller than the argument `arg`. It is obvious that `var<arg` cannot be evaluated if the variable `var` does not even exist. The two conditions must be evaluated separately:"
   ]
  },
  {
   "cell_type": "code",
   "execution_count": 120,
   "metadata": {},
   "outputs": [],
   "source": [
    "∇ r ← CheckVar arg\n",
    "    r ← 0\n",
    "    :If 2=⎕NC'var'\n",
    "        ⎕← 'var exists'\n",
    "    :AndIf var<arg\n",
    "        ⎕← 'var is smaller than arg'\n",
    "        r ← 1\n",
    "    :EndIf\n",
    "∇"
   ]
  },
  {
   "cell_type": "markdown",
   "metadata": {},
   "source": [
    "Notice that `var` doesn't exist as a variable in our workspace:"
   ]
  },
  {
   "cell_type": "code",
   "execution_count": 121,
   "metadata": {},
   "outputs": [
    {
     "name": "stderr",
     "output_type": "stream",
     "text": [
      "VALUE ERROR: Undefined name: var\n",
      "      var\n",
      "      ∧\n"
     ]
    }
   ],
   "source": [
    "var"
   ]
  },
  {
   "cell_type": "markdown",
   "metadata": {},
   "source": [
    "Hence `CheckVar` should do nothing and return 0:"
   ]
  },
  {
   "cell_type": "code",
   "execution_count": 122,
   "metadata": {},
   "outputs": [
    {
     "data": {
      "text/html": [
       "<span style=\"white-space:pre; font-family: monospace\">0\n",
       "</span>"
      ]
     },
     "execution_count": 122,
     "metadata": {},
     "output_type": "execute_result"
    }
   ],
   "source": [
    "CheckVar 1000"
   ]
  },
  {
   "cell_type": "markdown",
   "metadata": {},
   "source": [
    "If *Condition* **1** is not satisfied neither Block **1** nor *Condition* **2** will be executed. This may also save some computing time in more complex tradfns.\n",
    "\n",
    "Now we set `var` to some value and we can then check it:"
   ]
  },
  {
   "cell_type": "code",
   "execution_count": 123,
   "metadata": {},
   "outputs": [],
   "source": [
    "var ← 500"
   ]
  },
  {
   "cell_type": "code",
   "execution_count": 124,
   "metadata": {},
   "outputs": [
    {
     "data": {
      "text/html": [
       "<span style=\"white-space:pre; font-family: monospace\">var exists\n",
       "var is smaller than arg\n",
       "1\n",
       "</span>"
      ]
     },
     "execution_count": 124,
     "metadata": {},
     "output_type": "execute_result"
    }
   ],
   "source": [
    "CheckVar 1000"
   ]
  },
  {
   "cell_type": "code",
   "execution_count": 125,
   "metadata": {},
   "outputs": [
    {
     "data": {
      "text/html": [
       "<span style=\"white-space:pre; font-family: monospace\">var exists\n",
       "0\n",
       "</span>"
      ]
     },
     "execution_count": 125,
     "metadata": {},
     "output_type": "execute_result"
    }
   ],
   "source": [
    "CheckVar 100"
   ]
  },
  {
   "cell_type": "markdown",
   "metadata": {},
   "source": [
    "Note that you may not combine `:OrIf` and `:AndIf` within the same control structure. The following code will generate a `SYNTAX ERROR`:"
   ]
  },
  {
   "cell_type": "code",
   "execution_count": 126,
   "metadata": {},
   "outputs": [],
   "source": [
    "∇ surface ← BadSyntaxTradfn args; width; length; height\n",
    "    (width length height) ← args\n",
    "    :If width<20\n",
    "    :AndIf length<100\n",
    "    :OrIf height<5\n",
    "        surface ← 0\n",
    "    :Else\n",
    "        surface ← width×length\n",
    "    :EndIf\n",
    "∇"
   ]
  },
  {
   "cell_type": "code",
   "execution_count": 127,
   "metadata": {},
   "outputs": [
    {
     "name": "stderr",
     "output_type": "stream",
     "text": [
      "SYNTAX ERROR\n",
      "BadSyntaxTradfn[2] :If width<20\n",
      "                            ∧\n"
     ]
    }
   ],
   "source": [
    "BadSyntaxTradfn 5 5 5"
   ]
  },
  {
   "cell_type": "markdown",
   "metadata": {},
   "source": [
    "#### Cascading Conditions (`:ElseIf`/`:Else`)\n",
    "\n",
    "Sometimes, if the first condition is not satisfied, perhaps a second or a third one will be. In each case, a different set of statements will be executed. This type of logic may be controlled by one or more \"`:ElseIf`\" clauses. And if none of these conditions are satisfied, perhaps another block of statements is to be executed; this may be controlled by a final \"`:Else`\", as we have seen earlier.\n",
    "\n",
    "Depending on the problem, \"`:Else`\" may be present or not. If there is no \"`:Else`\" clause and no condition has been satisfied, nothing will be executed inside the `:If` block.\n",
    "\n",
    "![A diagram with multiple usages of `:ElseIf` clauses](res/Control_Flow_ElseIf.png)\n",
    "\n",
    "By now, you should be able to tell by yourself that Block **0** and Block **5** in <!--figure-->the diagram above<!--Control_Flow_ElseIf-->, if present, will always be executed.\n",
    "\n",
    "For the conditions and the remaining blocks, a simple rule applies:\n",
    "\n",
    "<!--begin rule-->\n",
    "***Rule***:\n",
    "\n",
    "Using <!--figure-->the diagram above<!--Control_Flow_ElseIf--> for the examples:\n",
    "\n",
    " > - The conditions are executed in turn, until one of them is satisfied. When one condition is satisfied, its corresponding block is executed. For example, if *Condition* **1** is not satisfied and *Condition* **2** **is** satisfied, then Block **2** **is** executed.\n",
    " >\n",
    " > - As soon as one condition is satisfied and its block is executed, all other conditions and blocks inside the `:If... :EndIf` control structure are ignored. For example, if *Condition* **2** is the first condition to be satisfied, then *Condition* **3** is **not** executed (**even** if *Condition* **3** would be satisfied), as neither are Block **3** nor Block **4**.\n",
    " >\n",
    " > - If none of the conditions is satisfied and an `:Else` clause is present, then its corresponding block is executed. For example, if conditions **1** to **3** are not satisfied, then Block **4** is satisfied.\n",
    " >\n",
    " > Hence, all conditional blocks (blocks **1** to **4**) are mutually exclusive.\n",
    "<!--end-->\n",
    "\n",
    "For example, suppose that the first condition is `var<100` and the second is `var<200`.\n",
    "\n",
    "If `var` happens to be equal to 33, it is both smaller than 100 and 200, but only the block of statements attached to `var<100` will be executed:"
   ]
  },
  {
   "cell_type": "code",
   "execution_count": 128,
   "metadata": {},
   "outputs": [],
   "source": [
    "∇ r ← VarLevels var\n",
    "    :If var<100\n",
    "        ⎕← 'var is < than 100'\n",
    "        r ← 100\n",
    "    :ElseIf var<200\n",
    "        ⎕← 'var is < than 200'\n",
    "        r ← 200\n",
    "    :Else\n",
    "        ⎕← 'var is too big'\n",
    "        r ← var\n",
    "    :EndIf\n",
    "∇"
   ]
  },
  {
   "cell_type": "code",
   "execution_count": 129,
   "metadata": {},
   "outputs": [
    {
     "data": {
      "text/html": [
       "<span style=\"white-space:pre; font-family: monospace\">var is &lt; than 100\n",
       "100\n",
       "</span>"
      ]
     },
     "execution_count": 129,
     "metadata": {},
     "output_type": "execute_result"
    }
   ],
   "source": [
    "VarLevels 33"
   ]
  },
  {
   "cell_type": "code",
   "execution_count": 130,
   "metadata": {},
   "outputs": [
    {
     "data": {
      "text/html": [
       "<span style=\"white-space:pre; font-family: monospace\">var is &lt; than 200\n",
       "200\n",
       "</span>"
      ]
     },
     "execution_count": 130,
     "metadata": {},
     "output_type": "execute_result"
    }
   ],
   "source": [
    "VarLevels 133"
   ]
  },
  {
   "cell_type": "code",
   "execution_count": 131,
   "metadata": {},
   "outputs": [
    {
     "data": {
      "text/html": [
       "<span style=\"white-space:pre; font-family: monospace\">var is too big\n",
       "350\n",
       "</span>"
      ]
     },
     "execution_count": 131,
     "metadata": {},
     "output_type": "execute_result"
    }
   ],
   "source": [
    "VarLevels 350"
   ]
  },
  {
   "cell_type": "markdown",
   "metadata": {},
   "source": [
    "#### Alternative Solutions\n",
    "\n",
    "Now you know how to use control structures to write conditional expressions. However, this does not mean that you always *have to* or *should* use control structures. The richness of the APL language often makes it more convenient to express condition calculations using a more mathematical approach.\n",
    "\n",
    "For example, suppose that you need to comment on the result of a football or rugby match by displaying \"*Won*\", \"*Draw*\" or \"*Lost*\", depending on the scores of the two teams. Here are two solutions:"
   ]
  },
  {
   "cell_type": "code",
   "execution_count": 132,
   "metadata": {},
   "outputs": [],
   "source": [
    "∇ r ← x Comment y\n",
    "    :If x>y\n",
    "        r ← 'Won'\n",
    "    :ElseIf x=y\n",
    "        r ← 'Draw'\n",
    "    :Else\n",
    "        r ← 'Lost'\n",
    "    :EndIf\n",
    "∇"
   ]
  },
  {
   "cell_type": "code",
   "execution_count": 133,
   "metadata": {},
   "outputs": [
    {
     "data": {
      "text/html": [
       "<span style=\"white-space:pre; font-family: monospace\">Won\n",
       "</span>"
      ]
     },
     "execution_count": 133,
     "metadata": {},
     "output_type": "execute_result"
    }
   ],
   "source": [
    "2 Comment 1"
   ]
  },
  {
   "cell_type": "code",
   "execution_count": 134,
   "metadata": {},
   "outputs": [
    {
     "data": {
      "text/html": [
       "<span style=\"white-space:pre; font-family: monospace\">Draw\n",
       "</span>"
      ]
     },
     "execution_count": 134,
     "metadata": {},
     "output_type": "execute_result"
    }
   ],
   "source": [
    "2 Comment 2"
   ]
  },
  {
   "cell_type": "code",
   "execution_count": 135,
   "metadata": {},
   "outputs": [
    {
     "data": {
      "text/html": [
       "<span style=\"white-space:pre; font-family: monospace\">Lost\n",
       "</span>"
      ]
     },
     "execution_count": 135,
     "metadata": {},
     "output_type": "execute_result"
    }
   ],
   "source": [
    "0 Comment 3"
   ]
  },
  {
   "cell_type": "code",
   "execution_count": 136,
   "metadata": {},
   "outputs": [],
   "source": [
    "∇ r ← x Comment y\n",
    "    which ← 2+×x-y\n",
    "    r ← (3 4⍴'LostDrawWon ')[which;]\n",
    "∇"
   ]
  },
  {
   "cell_type": "code",
   "execution_count": 137,
   "metadata": {},
   "outputs": [
    {
     "data": {
      "text/html": [
       "<span style=\"white-space:pre; font-family: monospace\">Won \n",
       "</span>"
      ]
     },
     "execution_count": 137,
     "metadata": {},
     "output_type": "execute_result"
    }
   ],
   "source": [
    "2 Comment 1"
   ]
  },
  {
   "cell_type": "code",
   "execution_count": 138,
   "metadata": {},
   "outputs": [
    {
     "data": {
      "text/html": [
       "<span style=\"white-space:pre; font-family: monospace\">Draw\n",
       "</span>"
      ]
     },
     "execution_count": 138,
     "metadata": {},
     "output_type": "execute_result"
    }
   ],
   "source": [
    "2 Comment 2"
   ]
  },
  {
   "cell_type": "code",
   "execution_count": 139,
   "metadata": {},
   "outputs": [
    {
     "data": {
      "text/html": [
       "<span style=\"white-space:pre; font-family: monospace\">Lost\n",
       "</span>"
      ]
     },
     "execution_count": 139,
     "metadata": {},
     "output_type": "execute_result"
    }
   ],
   "source": [
    "0 Comment 3"
   ]
  },
  {
   "cell_type": "markdown",
   "metadata": {},
   "source": [
    "Which solution you prefer is probably a matter of taste and previous experience, both yours and of whoever is to read and maintain the programs you write. Notice that only the second solution is suitable for a dfn."
   ]
  },
  {
   "cell_type": "markdown",
   "metadata": {},
   "source": [
    "### Disparate Conditions\n",
    "\n",
    "#### Clauses (`:Select`/`:Case`/`:CaseList`)\n",
    "\n",
    "Sometimes it is necessary to execute completely different sets of statements, depending on the value of a specific *control expression*, hereafter called the *control value*.\n",
    "\n",
    "To achieve this, we use \"`:Select`\", with additional \"`:Case`\" or \"`:CaseList`\" clauses.\n",
    "\n",
    "The sequence begins with `:Select` followed by the *control expression*.\n",
    "\n",
    "It is then followed by any number of blocks, each of which will be executed if the *control value* is equal to one of the values specified in the corresponding clause:\n",
    "\n",
    " - `:Case` for a single value.\n",
    " - `:CaseList` for a list of possible values.\n",
    " \n",
    "The sequence ends with `:EndSelect`.\n",
    "\n",
    "You can have as many `:Case` or `:CaseList` clauses as you need and in any order.\n",
    "\n",
    "If the control value is not equal to any of the specified values, nothing is executed, unless there is one final `:Else` clause.\n",
    "\n",
    "Like with `:If... :ElseIf... :Else`, the blocks are mutually exclusive. The `:Case` statements are examined from the top and once a match is found and the corresponding block of statements has been executed, execution will continue with the first line after the `:EndSelect` statement - even if the *control value* matches other `:Case` or `:CaseList` statements.\n",
    "\n",
    "In <!--figure-->the diagram below<!--Control_Flow_Select-->, the *control expression* is simply `District` and the *control value* is whatever value the variable holds. Then, Block **1** is executed if `District` is equal to 50, Block **2** is executed if `District` is equal to 19 and Block **3** is executed if `District` is equal to 41, 42 or 53, but not if `District` is equal to 50. In that case, Block **1** will already have been executed and the execution won't reach this `:CaseList`. Therefore, we conclude that including 50 in this `:CaseList` is superfluous and we better remove it to avoid any confusion. Finally, Block **4** is only executed if `District` is not equal to any of the values listed above.\n",
    "\n",
    "![A diagram with the usage of `:Select`, `:Case` and `:CaseList`](res/Control_Flow_Select.png)\n",
    "\n",
    "<!--begin remark-->\n",
    "***Remark***:\n",
    "\n",
    " > Values specified in `:Case` or `:CaseList` clauses can be numbers, characters or even nested arrays.\n",
    "<!--end-->\n",
    "\n",
    "Here is an example using all of those:"
   ]
  },
  {
   "cell_type": "code",
   "execution_count": 140,
   "metadata": {},
   "outputs": [],
   "source": [
    "∇ arg ← CasePotpourri arg\n",
    "    :Select arg\n",
    "    :CaseList 'yes' 'no' 'doubt'  ⍝ 3 possible values\n",
    "        ⎕← 'yes no doubt'\n",
    "    :CaseList (2 7)(5 1)'Null'    ⍝ 3 different possible vectors\n",
    "        ⎕← 'some vector'\n",
    "    :Case 'BERLIN'                ⍝ 1 single word\n",
    "        ⎕← 'Germany'\n",
    "    :CaseList 'PARIS'             ⍝ 5 possible letters\n",
    "        ⎕← 'A French letter'\n",
    "    :Else\n",
    "        ⎕← 'no match...'\n",
    "    :EndSelect\n",
    "∇"
   ]
  },
  {
   "cell_type": "code",
   "execution_count": 141,
   "metadata": {},
   "outputs": [
    {
     "data": {
      "text/html": [
       "<span style=\"white-space:pre; font-family: monospace\">yes no doubt\n",
       "yes\n",
       "</span>"
      ]
     },
     "execution_count": 141,
     "metadata": {},
     "output_type": "execute_result"
    }
   ],
   "source": [
    "CasePotpourri 'yes'"
   ]
  },
  {
   "cell_type": "code",
   "execution_count": 142,
   "metadata": {},
   "outputs": [
    {
     "data": {
      "text/html": [
       "<span style=\"white-space:pre; font-family: monospace\">some vector\n",
       "2 7\n",
       "</span>"
      ]
     },
     "execution_count": 142,
     "metadata": {},
     "output_type": "execute_result"
    }
   ],
   "source": [
    "CasePotpourri 2 7"
   ]
  },
  {
   "cell_type": "code",
   "execution_count": 143,
   "metadata": {},
   "outputs": [
    {
     "data": {
      "text/html": [
       "<span style=\"white-space:pre; font-family: monospace\">A French letter\n",
       "I\n",
       "</span>"
      ]
     },
     "execution_count": 143,
     "metadata": {},
     "output_type": "execute_result"
    }
   ],
   "source": [
    "CasePotpourri 'I'"
   ]
  },
  {
   "cell_type": "code",
   "execution_count": 144,
   "metadata": {},
   "outputs": [
    {
     "data": {
      "text/html": [
       "<span style=\"white-space:pre; font-family: monospace\">Germany\n",
       "BERLIN\n",
       "</span>"
      ]
     },
     "execution_count": 144,
     "metadata": {},
     "output_type": "execute_result"
    }
   ],
   "source": [
    "CasePotpourri 'BERLIN'"
   ]
  },
  {
   "cell_type": "code",
   "execution_count": 145,
   "metadata": {},
   "outputs": [
    {
     "data": {
      "text/html": [
       "<span style=\"white-space:pre; font-family: monospace\">no match...\n",
       "PARIS\n",
       "</span>"
      ]
     },
     "execution_count": 145,
     "metadata": {},
     "output_type": "execute_result"
    }
   ],
   "source": [
    "CasePotpourri 'PARIS'"
   ]
  },
  {
   "cell_type": "markdown",
   "metadata": {},
   "source": [
    "Be careful with the last 3 examples where a character vector is used, and the relevant `:Case 'BERLIN'` and `:CaseList 'PARIS'` clauses in the tradfn:\n",
    "\n",
    " - if the keyword is `:Case`, the control value must match the entire character vector \"`'BERLIN'`\";\n",
    " - if the keyword is `:CaseList`, the control value may be any one letter out of the 5 letters in \"`'PARIS'`\". Any subset, like \"`'PAR'`\" will not be recognised as matching.\n",
    " \n",
    "<!--begin warning-->\n",
    "***Warning***:\n",
    "\n",
    " > The control value must be **strictly** identical to the value(s) specified in the `:Case` clause(s), i.e. the result of using `≡` with the control value and the matching value in the clause should be 1.\n",
    "<!--end-->\n",
    "\n",
    "For example, in the preceding diagram, there is a clause `:Case 50` (scalar). If the control value is equal to `1⍴50` (a one-item vector), it is not strictly identical to the specified array (the scalar `50`) and the corresponding set of statements will **not** be executed. In fact,"
   ]
  },
  {
   "cell_type": "code",
   "execution_count": 146,
   "metadata": {},
   "outputs": [
    {
     "data": {
      "text/html": [
       "<span style=\"white-space:pre; font-family: monospace\">0\n",
       "</span>"
      ]
     },
     "execution_count": 146,
     "metadata": {},
     "output_type": "execute_result"
    }
   ],
   "source": [
    "50≡(1⍴50)"
   ]
  },
  {
   "cell_type": "markdown",
   "metadata": {},
   "source": [
    "### Predefined Loops\n",
    "\n",
    "#### Basic Use (`:For`/`:In`/`:EndFor`)\n",
    "\n",
    "In many iterative calculations a set of statements is repeated over and over again, and on each iteration a new value is given to a particular variable. We will refer to this variable as the *control variable*.\n",
    "\n",
    "If the values of the control variable can be predefined before the beginning of the loop, we recommend that you use the `:For` clause, with the following syntax: `:For controlVariable :In listOfValues`.\n",
    "\n",
    "The keyword `:For` is followed by the name of the control variable. In the same statement, the keyword `:In` is followed by an expression returning the list of values to be assigned to the control variable on each iteration. Here is an example:"
   ]
  },
  {
   "cell_type": "code",
   "execution_count": 147,
   "metadata": {},
   "outputs": [],
   "source": [
    "∇ r ← ZapMe y\n",
    "    r ← 0\n",
    "    :For zap :In 50 82 27 11\n",
    "        ⎕← zap\n",
    "        r ← zap\n",
    "    :EndFor\n",
    "∇"
   ]
  },
  {
   "cell_type": "code",
   "execution_count": 148,
   "metadata": {},
   "outputs": [
    {
     "data": {
      "text/html": [
       "<span style=\"white-space:pre; font-family: monospace\">50\n",
       "82\n",
       "27\n",
       "11\n",
       "11\n",
       "</span>"
      ]
     },
     "execution_count": 148,
     "metadata": {},
     "output_type": "execute_result"
    }
   ],
   "source": [
    "ZapMe 3"
   ]
  },
  {
   "cell_type": "markdown",
   "metadata": {},
   "source": [
    "The block of statements between the `:For` and `:EndFor` will be executed 4 times: once with `zap ← 50`, then with `zap ← 82`, again with `zap ← 27` and finally with `zap ← 11`.\n",
    "\n",
    "Generally, the block of statements makes some reference to the *control variable*, for example as part of a calculation, but this is not mandatory.\n",
    "\n",
    "This technique has one great advantage: the number of loops is predefined, and it is impossible to accidentally program an endless loop.\n",
    "\n",
    "#### Control of Iterations\n",
    "\n",
    "The values assigned to the control variable can be whatever values are needed by the algorithm:\n",
    "\n",
    " - a list of numeric values like `66+4×⍳20`;\n",
    " - a nested vector like `(5 4)(3 0 8)(4 7)(2 5 9)`;\n",
    " - a list of letters like `'DYALOG'`;\n",
    " - a list of words like `'Madrid' 'Paris' 'Tokyo' 'Ushuaia'`.\n",
    " \n",
    "It is also possible to use a *set* of control values, rather than just a single one.\n",
    "\n",
    "For example, with `:For (code qty) :In (5 8)(2 3)(7 4)` the loop will be executed\n",
    "\n",
    " - first with `code ← 5` and `qty ← 8`,\n",
    " - then with `code ← 2` and `qty ← 3`\n",
    " - and finally with `code ← 7` and `qty ← 4`.\n",
    " \n",
    "In most cases, this kind of iterative process is executed to completion. However, it is possible to take an early exit when some condition or other is met. This can be done using the `:Leave` clause or using an explicit branch, like will be explained later.\n",
    "\n",
    "A special variant of `:In` named `:InEach` is explained in [the Specialist's Section](#Specialists-Section) at the end of this chapter.\n",
    "\n",
    "<!--begin example-->\n",
    "***Example***:\n",
    "\n",
    " > Let us try to find all the possible divisors of a given integer.\n",
    "<!--end-->\n",
    "\n",
    "A possible solution is to check the remainder of that value against all integers starting from 1, up to the number itself. If the remainder is 0, the integer can be appended to the vector of results, which has been initialised as an empty vector:"
   ]
  },
  {
   "cell_type": "code",
   "execution_count": 149,
   "metadata": {},
   "outputs": [],
   "source": [
    "∇ divs ← Divisors n; rem; div\n",
    "    divs ← ⍬\n",
    "    :For div :In ⍳n\n",
    "        rem ← div|n\n",
    "        :If rem=0\n",
    "            divs ← divs,div\n",
    "        :EndIf\n",
    "    :EndFor\n",
    "∇"
   ]
  },
  {
   "cell_type": "code",
   "execution_count": 150,
   "metadata": {},
   "outputs": [
    {
     "data": {
      "text/html": [
       "<span style=\"white-space:pre; font-family: monospace\">1 3 29 37 87 111 1073 3219\n",
       "</span>"
      ]
     },
     "execution_count": 150,
     "metadata": {},
     "output_type": "execute_result"
    }
   ],
   "source": [
    "Divisors 3219"
   ]
  },
  {
   "cell_type": "markdown",
   "metadata": {},
   "source": [
    "This example hopefully shows that it is straightforward to write a simple, predefined loops using control structures. If you are used to other programming languages that do not offer array processing features, you may even find this way of writing programs very natural.\n",
    "\n",
    "However, it turns out that many simple, predefined loops like this one are very tightly coupled to the structure or values of the data that they are working on: the number of items in a list, the number of rows in a matrix or, as in this example, the number of positive integers less than or equal to a particular value.\n",
    "\n",
    "In such cases it is very often possible to express the entire algorithm in a very straightforward way, without any explicit loops. Usually the result is a much shorter program that is much easier to read and which runs considerably faster than the solution using explicit loops.\n",
    "\n",
    "For example, in the example above it is possible to replace the loop by a vector of possible divisors produced by the *Index generator*. The algorithm is unchanged, but the program is shorter:"
   ]
  },
  {
   "cell_type": "code",
   "execution_count": 151,
   "metadata": {},
   "outputs": [],
   "source": [
    "]dinput\n",
    "DivisorsNoLoops ← {\n",
    "    (0=(⍳⍵)|⍵)/⍳⍵\n",
    "}"
   ]
  },
  {
   "cell_type": "code",
   "execution_count": 152,
   "metadata": {},
   "outputs": [
    {
     "data": {
      "text/html": [
       "<span style=\"white-space:pre; font-family: monospace\">1 3 29 37 87 111 1073 3219\n",
       "</span>"
      ]
     },
     "execution_count": 152,
     "metadata": {},
     "output_type": "execute_result"
    }
   ],
   "source": [
    "DivisorsNoLoops 3219"
   ]
  },
  {
   "cell_type": "markdown",
   "metadata": {},
   "source": [
    "and about 100 times faster:"
   ]
  },
  {
   "cell_type": "code",
   "execution_count": 153,
   "metadata": {},
   "outputs": [
    {
     "data": {
      "text/html": [
       "<span style=\"white-space:pre; font-family: monospace\">                                                                                \n",
       "  Divisors 3219        → 1.1E¯3 |   0% ⎕⎕⎕⎕⎕⎕⎕⎕⎕⎕⎕⎕⎕⎕⎕⎕⎕⎕⎕⎕⎕⎕⎕⎕⎕⎕⎕⎕⎕⎕⎕⎕⎕⎕⎕⎕⎕⎕⎕⎕ \n",
       "  DivisorsNoLoops 3219 → 1.2E¯5 | -99%                                          \n",
       "</span>"
      ]
     },
     "execution_count": 153,
     "metadata": {},
     "output_type": "execute_result"
    }
   ],
   "source": [
    "]runtime -c 'Divisors 3219' 'DivisorsNoLoops 3219'"
   ]
  },
  {
   "cell_type": "markdown",
   "metadata": {},
   "source": [
    "The `]runtime -c` is a user command that can be used to compare two or more pieces of code. It uses the first expression as the baseline and then compares the run time of the subsequent pieces of code against the first one. Here, the `-99%` on the second line means `DivisorsNoLoops` is 100 times faster, which can also be understood by comparing the run times (in seconds) of each expression, the `1.1E¯3` and `1.1E¯5` above (the exact numbers might fluctuate, depending on factors like how the CPU is feeling, the machine the code gets ran on, etc.)\n",
    "\n",
    "Of course, sometimes the processing that is to take place inside the loop is so complex that it is infeasible to rewrite the program so that it doesn't use an explicit loop. For example, the existence of a dependency such that the calculations taking place in the $n^\\text{th}$ iteration are dependent on the results produced in the $(n-1)^\\text{th}$ iteration will generally make it harder to write a program without an explicit loop."
   ]
  },
  {
   "cell_type": "markdown",
   "metadata": {},
   "source": [
    "### Conditional Loops\n",
    "\n",
    "In the previous section we used the term \"Predefined loops\" because the number of iterations was controlled by an expression executed before the loop starts. It is also possible to program loops which are repeated until a given condition is satisfied.\n",
    "\n",
    "Two methods are available:\n",
    "\n",
    " - using `:Repeat... :Until`;\n",
    " - using `:While... :EndWhile`.\n",
    " \n",
    "The two methods are similar, but there are some important differences:\n",
    "\n",
    " - `:Repeat`:\n",
    "   - when the loop is initialised, the condition is **not** yet satisfied (generally);\n",
    "   - the program loops *until* this condition **becomes** satisfied;\n",
    "   - the \"Loop or Stop\" test is placed at the **bottom** of the loop;\n",
    "   - the instructions in the loop are executed at least once.\n",
    " \n",
    " - `:While`:\n",
    "   - when the loop is initialised, the condition **is** (generally) satisfied;\n",
    "   - the program loops as long as it **remains** satisfied;\n",
    "   - the \"Loop or Stop\" test is placed at the **beginning** of the loop;\n",
    "   - the instructions in the loop may not be executed at all."
   ]
  },
  {
   "cell_type": "markdown",
   "metadata": {},
   "source": [
    "#### Bottom-Controlled Loop (`:Repeat`/`:Until`)\n",
    "\n",
    "The control variables involved in the test are often initialised before the loop begins, but they can be created during the execution of the loop because the test is placed at the bottom.\n",
    "\n",
    "Then the block of statements delimited by `:Repeat... :Until` is executed repeatedly up to the point where the condition specified after `:Until` becomes satisfied.\n",
    "\n",
    "This condition may involve one or more variables. It is obvious that the statements contained in the loop must modify some of those control variables, or import them from an external source, so that the condition is satisfied after a limited number of iterations. This is the programmer's responsibility.\n",
    "\n",
    "Here is an example usage of `:Repeat... :Until` to calculate after how many years an investment yields over 500 (of some currency) in interest at a specific rate:"
   ]
  },
  {
   "cell_type": "code",
   "execution_count": 154,
   "metadata": {},
   "outputs": [],
   "source": [
    "∇ years ← rate ComputeGrowthTime amount\n",
    "    years ← 0\n",
    "    :Repeat\n",
    "        amount ← amount+amount×rate  ⍝ accumulate interest\n",
    "        years ← years+1\n",
    "    :Until 500<amount×rate\n",
    "∇"
   ]
  },
  {
   "cell_type": "code",
   "execution_count": 155,
   "metadata": {},
   "outputs": [
    {
     "data": {
      "text/html": [
       "<span style=\"white-space:pre; font-family: monospace\">47\n",
       "</span>"
      ]
     },
     "execution_count": 155,
     "metadata": {},
     "output_type": "execute_result"
    }
   ],
   "source": [
    "0.02 ComputeGrowthTime 10000"
   ]
  },
  {
   "cell_type": "code",
   "execution_count": 156,
   "metadata": {},
   "outputs": [
    {
     "data": {
      "text/html": [
       "<span style=\"white-space:pre; font-family: monospace\">12\n",
       "</span>"
      ]
     },
     "execution_count": 156,
     "metadata": {},
     "output_type": "execute_result"
    }
   ],
   "source": [
    "0.02 ComputeGrowthTime 20000"
   ]
  },
  {
   "cell_type": "markdown",
   "metadata": {},
   "source": [
    "This means that if you had 10.000 invested, yielding 2% interest that would then add to your initial investment, at the 47th year the interest alone would be greater than 500. If you start your investment with 20.000 instead, it will only take 12 years.\n",
    "\n",
    "The test is made on the bottom line of the loop, immediately after `:Until`, so the loop is executed at least once.\n",
    "\n",
    "In our example, this means that if you start with a large amount of money and/or the rate is very generous, the reported answer is correct: you would get interest greater than 500 right on the first year"
   ]
  },
  {
   "cell_type": "code",
   "execution_count": 157,
   "metadata": {},
   "outputs": [
    {
     "data": {
      "text/html": [
       "<span style=\"white-space:pre; font-family: monospace\">1\n",
       "</span>"
      ]
     },
     "execution_count": 157,
     "metadata": {},
     "output_type": "execute_result"
    }
   ],
   "source": [
    "0.5 ComputeGrowthTime 1000000"
   ]
  },
  {
   "cell_type": "markdown",
   "metadata": {},
   "source": [
    "The \"Loop or Stop\" control is made at the bottom of each loop, but it is also possible to add one or more intermediate conditions which cause an exit from the loop using a `:Leave` clause or a *branch arrow* (this will be explained in [the subsection \"Modern and Traditional Controls Cooperate\"](#Modern-and-Traditional-Controls-Cooperate)).\n",
    "\n",
    "<!--begin special case style=remark-->\n",
    "***Special case***:\n",
    "\n",
    " > It is possible to replace `:Until` with `:EndRepeat`. However, because there is no longer a loop control expression, the program would loop endlessly. For this reason it is necessary to employ intermediate tests to exit the loop when using this technique.\n",
    "<!--end-->"
   ]
  },
  {
   "cell_type": "markdown",
   "metadata": {},
   "source": [
    "#### Top-Controlled Loop (`:While`/`:EndWhile`)\n",
    "\n",
    "Because the test is now placed at the top of the loop, control variables involved in the test must be initialised before the loop begins.\n",
    "\n",
    "Then the block of statements limited by `:While`/`:EndWhile` will be executed repeatedly as long as the condition specified after `:While` remains satisfied.\n",
    "\n",
    "This condition may involve one or more variables. It is obvious that the statements contained in the loop must modify some of those control variables so that the condition is satisfied after a limited number of iterations. This is the programmer's responsibility.\n",
    "\n",
    "As an example, let us implement a function that takes a positive integer and computes its [\"Collatz path\"](https://en.wikipedia.org/wiki/Collatz_conjecture). The Collatz path of a positive integer is built by starting at the number and then:\n",
    "\n",
    " - if the number $n$ you are at is odd, go to $3n + 1$;\n",
    " - if the number $n$ you are at is even, go to $\\frac{n}{2}$.\n",
    " \n",
    "The [Collatz conjecture](https://en.wikipedia.org/wiki/Collatz_conjecture) states that any positive integer eventually goes to 1. This tradfn can help us visualise this:"
   ]
  },
  {
   "cell_type": "code",
   "execution_count": 158,
   "metadata": {},
   "outputs": [],
   "source": [
    "∇ path ← CollatzPath n\n",
    "    path ← 1⍴n\n",
    "    :While path[≢path]≠1\n",
    "        n ← path[≢path]\n",
    "        n ← ((n÷2) (1+3×n))[1+2|n]\n",
    "        path ← path,n\n",
    "    :EndWhile\n",
    "∇"
   ]
  },
  {
   "cell_type": "code",
   "execution_count": 159,
   "metadata": {},
   "outputs": [
    {
     "data": {
      "text/html": [
       "<span style=\"white-space:pre; font-family: monospace\">1\n",
       "</span>"
      ]
     },
     "execution_count": 159,
     "metadata": {},
     "output_type": "execute_result"
    }
   ],
   "source": [
    "CollatzPath 1"
   ]
  },
  {
   "cell_type": "code",
   "execution_count": 160,
   "metadata": {},
   "outputs": [
    {
     "data": {
      "text/html": [
       "<span style=\"white-space:pre; font-family: monospace\">2 1\n",
       "</span>"
      ]
     },
     "execution_count": 160,
     "metadata": {},
     "output_type": "execute_result"
    }
   ],
   "source": [
    "CollatzPath 2"
   ]
  },
  {
   "cell_type": "code",
   "execution_count": 161,
   "metadata": {},
   "outputs": [
    {
     "data": {
      "text/html": [
       "<span style=\"white-space:pre; font-family: monospace\">11 34 17 52 26 13 40 20 10 5 16 8 4 2 1\n",
       "</span>"
      ]
     },
     "execution_count": 161,
     "metadata": {},
     "output_type": "execute_result"
    }
   ],
   "source": [
    "CollatzPath 11"
   ]
  },
  {
   "cell_type": "markdown",
   "metadata": {},
   "source": [
    "The test is made in the top line of the loop, immediately after `:While`, so it is possible that the block of statements inside the loop will never be executed. In our case, when `CollatzPath` is called with 1 as its argument.\n",
    "\n",
    "The \"Loop or Stop\" control is made at each beginning of a new iteration but it is also possible to add a second control at the bottom of the loop, replacing `:EndWhile` with a `:Until` clause, just like we did for the `:Repeat` loop."
   ]
  },
  {
   "cell_type": "markdown",
   "metadata": {},
   "source": [
    "### Exception Control\n",
    "\n",
    "#### Skip to the Next Iteration (`:Continue`)\n",
    "\n",
    "In any kind of loop (`:For`-`:EndFor`/`:Repeat`-`:Until`/`:While`-`:EndWhile`) this clause indicates that the program must abandon the current iteration and skip to the next one.\n",
    "\n",
    " - In a `:For`-loop, this means that the next value(s) of the control variable(s) are set, and the execution continues from the line immediately below the `:For`-statement.\n",
    " \n",
    " - In a `:Repeat`-loop, this means that the execution continues from the line immediately below the `:Repeat`-statement.\n",
    " \n",
    " - In a `:While`-loop, this means that the execution continues from the line containing the `:While`-statement.\n",
    " \n",
    "For the `:For` loop, the execution only proceeds inside the loop if there are any more values for the control variable(s) to take. Similarly, we only execute more iterations of the `:Repeat` and `:While` loops if their conditions still allow.\n",
    "\n",
    "Consider this tradfn:"
   ]
  },
  {
   "cell_type": "code",
   "execution_count": 162,
   "metadata": {},
   "outputs": [],
   "source": [
    "∇ r ← ContinueInsideWhile r\n",
    "    :While r>0\n",
    "        ⎕← 'start of the loop'\n",
    "        ⎕← r\n",
    "        r ← r-1\n",
    "        :Continue\n",
    "        ⎕← 'bottom of the loop'\n",
    "        r ← ¯3\n",
    "    :EndWhile\n",
    "∇"
   ]
  },
  {
   "cell_type": "code",
   "execution_count": 163,
   "metadata": {},
   "outputs": [
    {
     "data": {
      "text/html": [
       "<span style=\"white-space:pre; font-family: monospace\">start of the loop\n",
       "2\n",
       "start of the loop\n",
       "1\n",
       "0\n",
       "</span>"
      ]
     },
     "execution_count": 163,
     "metadata": {},
     "output_type": "execute_result"
    }
   ],
   "source": [
    "ContinueInsideWhile 2"
   ]
  },
  {
   "cell_type": "markdown",
   "metadata": {},
   "source": [
    "Because of the `:Continue` clause, we never hit the second print and the assignment that would set `r` to -3. When `r` is decreased to 0 and we hit the `:Continue` clause, the control expression in front of the `:While` is evaluated and because `0>0` evaluates to 0, the whole `:While` loop is finally finished.\n",
    "\n",
    "Usually, `:Continue` statements are nested within other control structures so that we only skip a part of the loop if certain conditions are met."
   ]
  },
  {
   "cell_type": "markdown",
   "metadata": {},
   "source": [
    "#### Leave the Loop (`:Leave`)\n",
    "\n",
    "This clause causes the program to stop the current iteration and to skip any future iterations, aborting the loop immediately, and continuing execution from the line immediately below the bottom end of the loop.\n",
    "\n",
    "`:Leave` works with any kind of loop."
   ]
  },
  {
   "cell_type": "markdown",
   "metadata": {},
   "source": [
    "#### Jump to Another Statement (`:GoTo`)\n",
    "\n",
    "This clause is used to explicitly jump from the current statement to another one, with the following syntax: `:GoTo destination`.\n",
    "\n",
    "In most cases, *Destination* is the ***Label*** of another statement in the same program.\n",
    "\n",
    "A *Label* is a word placed at the beginning of a statement followed by a colon. It is used as a reference to the statement. It can be followed by an APL expression, but for readability it is recommended that you put a label on a line of its own. For example, in\n",
    "\n",
    "```APL\n",
    "Next:\n",
    "val ← goal-val÷2\n",
    "```\n",
    "\n",
    "`Next` is a *Label*. `Next` is considered by the interpreter to be a variable whose value is the number of the line on which it is placed. It is used as a destination point both by the traditional *Branch arrow* and by the `:GoTo` clause, like this: `:GoTo Next` is equivalent to `→Next` (cf. [a later section](#Traditional-Flow-Control)). Be careful not to include the colon after the branch name when referencing to it after a `:GoTo` or after a `→`.\n",
    "\n",
    "The following conventions apply to the *Destination* of a jump:\n",
    "\n",
    "| `destination` | Behaviour of executing `:GoTo destination` or `→destination` |\n",
    "| :-: | :- |\n",
    "| Valid label | Skip to the statement referenced by that label. |\n",
    "| `0` | Quit the current function and return to the calling environment. |\n",
    "| `⍬` | Do not jump anywhere but continue on to the next statement. |"
   ]
  },
  {
   "cell_type": "markdown",
   "metadata": {},
   "source": [
    "#### Quit This Function (`:Return`)\n",
    "\n",
    "This clause causes the tradfn to terminate immediately and has exactly the same effect as `→0` or `:GoTo 0`. Control returns to the calling environment."
   ]
  },
  {
   "cell_type": "markdown",
   "metadata": {},
   "source": [
    "### Endless Loops\n",
    "\n",
    "Whatever your skills you may inadvertently create a function which runs endlessly. Usually this is due to an inappropriate loop definition.\n",
    "\n",
    "However, sometimes APL may appear to be unnecessarily executing the same set of statements again and again in an endless loop, when in fact it just has to process a very large amount of data or perform some heavy calculations.\n",
    "\n",
    "Fortunately you can interrupt the execution of a function using two kinds of interrupts: weak and strong. Let us see what this means."
   ]
  },
  {
   "cell_type": "markdown",
   "metadata": {},
   "source": [
    "#### A Slow Function\n",
    "\n",
    "Let us consider the function below:"
   ]
  },
  {
   "cell_type": "code",
   "execution_count": 164,
   "metadata": {},
   "outputs": [],
   "source": [
    "∇ Endless; i\n",
    "    i ← 0\n",
    "    :Repeat\n",
    "        ⎕DL 3\n",
    "        ⊢i ← i+1\n",
    "    :Until i=20\n",
    "∇"
   ]
  },
  {
   "cell_type": "markdown",
   "metadata": {},
   "source": [
    "This function is not really endless, but the line `⎕DL 3` makes it DeLay all execution for (approximately) 3 seconds, so the whole loop should take about a minute to finish execution. (You will learn more about `⎕DL` and related functions later down the road.)\n",
    "\n",
    "The line `⊢i ← i+1` has the final `⊢` so the iteration number is printed as the loop progresses. However, if you are running the Jupyter Notebook version of this chapter, the numbers only show up after the iterations are all complete. This is due to a current shortcoming of the Dyalog APL kernel.\n",
    "\n",
    "**<center>Don't run this function yet!</center>**"
   ]
  },
  {
   "cell_type": "markdown",
   "metadata": {},
   "source": [
    "#### Weak and Strong Interrupts\n",
    "\n",
    "If you issue a ***Weak interrupt***, the computer will complete the execution of the statement that it is currently processing. Then it will halt the function before executing the next statement. We recommend using a weak interrupt whenever possible because it allows the user to restart the function at the point it was interrupted (cf. [the chapter with the first aid kit](./First-Aid-Kit)).\n",
    "\n",
    "If you issue a ***Strong interrupt***, the computer will complete the execution of the APL primitive that it is currently processing. Then it will interrupt the function before executing the next primitive.\n",
    "\n",
    "For example, in the `Endless` function above, it could calculate `i+1` and stop before executing the assignment `i ← i+1`. Of course, if the user restarts the statement, it will be executed again in its entirety (it is impossible to resume execution in the middle of a statement).\n",
    "\n",
    "Note that it is impossible to interrupt the execution of a primitive like `i+1` itself, and sometimes the execution of some primitives may take a long time."
   ]
  },
  {
   "cell_type": "markdown",
   "metadata": {},
   "source": [
    "#### How Can You Generate an Interrupt\n",
    "\n",
    "If you are using the Windows IDE, by going to \"Action\" &#8680; \"Interrupt\" you can issue a *Weak interrupt*. Similarly, RIDE's \"Action\" &#8680; \"Weak Interrupt\" will do the trick.\n",
    "\n",
    "In order to issue a strong interrupt, you either\n",
    "\n",
    " - go to \"Action\" &#8680; \"Strong Interrupt\" if you are using RIDE;\n",
    " - if you are using the Windows IDE, go to the system tray, look for the Dyalog APL icon, click it and then select \"Strong Interrupt\" (cf. <!--figure-->the image below<!--Win_Strong_Interrupt-->).\n",
    " \n",
    "![Issuing a strong interrupt in the Windows IDE](res/Win_Strong_Interrupt.png)\n",
    "\n",
    "The method explained above for the strong interrupts on the Windows IDE also works for weak interrupts. **Be patient!** If Dyalog APL is doing some heavy calculations for you, there may be a few seconds delay from when you click the APL icon until the menu shown above appears.\n",
    "\n",
    "After you issue an interrupt (weak or strong) there may be a few more seconds delay before the interrupt actually occurs.\n",
    "\n",
    "Now, let's test it."
   ]
  },
  {
   "cell_type": "markdown",
   "metadata": {},
   "source": [
    "#### First a Weak Interrupt\n",
    "\n",
    "Start running the function and, after a couple of iterations, issue a weak interrupt as you learned in the previous section.\n",
    "\n",
    "Sadly, the Jupyter Notebook interface has limited capability for dealing with interrupts, so for the remainder of this explanation you will be presented with some figures to illustrate the process.\n",
    "\n",
    "If we define the tradfn on the Windows IDE, run it and then hit \"Action\" &#8680; \"Interrupt\", what happens is illustrated in <!--figure-->the next figure<!--Win_Endless_Weak_Interrupt-->.\n",
    "\n",
    "![A weak interrupt issued in the Windows IDE](res/Win_Endless_Weak_Interrupt.png)\n",
    "\n",
    "Notice the `Endless[4]` message is below the few iteration numbers that were printed, and the stack trace window (that opened at the bottom) has highlighted that same line: line 4. This means that the function has been interrupted just before executing line number 4, and you can be sure that line 3 has finished.\n",
    "\n",
    "To back out from the interrupted state of execution, press the <kbd>Esc</kbd> key as many times as needed, or execute the command `)Reset`, which will be explained shortly."
   ]
  },
  {
   "cell_type": "markdown",
   "metadata": {},
   "source": [
    "#### And Now a Strong Interrupt\n",
    "\n",
    "Run the function again, and after some time issue a strong interrupt.\n",
    "\n",
    "The result should be slightly different, as you can see in <!--figure-->the next figure<!--Win_Endless_Strong_Interrupt-->:\n",
    "\n",
    "![A strong interrupt issued in the Windows IDE](res/Win_Endless_Strong_Interrupt.png)\n",
    "\n",
    "This time, the message `Endless[3] ⎕DL 3` tells you the line it was executing when it got interrupted, and the caret sign tells you which operation was being carried over. In this case, we did not let the 3 second delay finish."
   ]
  },
  {
   "cell_type": "markdown",
   "metadata": {},
   "source": [
    "## Traditional Flow Control\n",
    "\n",
    "### Conditional Execution\n",
    "\n",
    "In early versions of APL, a unique symbol - the ***Branch arrow*** (`→`, typed with <kbd>APL</kbd>+<kbd>]</kbd>) - provided the only means to override the order in which statements were executed. Today you should only use this mechanism when maintaining code which is already written in this style.\n",
    "\n",
    "The *branch arrow* works in exactly the same way as the `:GoTo` clause. `→destination` and `:GoTo destination` are strictly equivalent.\n",
    "\n",
    "`destination` should **always** be a ***Label***. Remember: a *Label* is a word placed at the beginning of a statement and **followed** by a ***colon***. Specifying a statement number (i.e. `→47`) would become invalid as soon as you add or remove lines before that line number."
   ]
  },
  {
   "cell_type": "markdown",
   "metadata": {},
   "source": [
    "#### Equivalent of Modern Keywords\n",
    "\n",
    "Using small tricks makes it possible to use `→` to emulate the modern keywords that control the flow of a program. Figuring out how to emulate all the keywords can be an interesting *educational exercise* but those tricks should be avoided in modern code.\n",
    "\n",
    "As an example, we will see how we can emulate an `:If... :EndIf` clause. For that, you need to remember that jumping to an empty `destination` does nothing (cf. [above](#Jump-to-Another-Statement)), so that statements are executed sequentially.\n",
    "\n",
    "Consider the following program:"
   ]
  },
  {
   "cell_type": "code",
   "execution_count": 249,
   "metadata": {},
   "outputs": [],
   "source": [
    "∇ money ← price IsItExpensive money\n",
    "    →(~price≤money)⍴expensive  ⍝[1]\n",
    "    money ← money-price        ⍝[2]\n",
    "    expensive:                 ⍝[3]\n",
    "∇"
   ]
  },
  {
   "cell_type": "code",
   "execution_count": 250,
   "metadata": {},
   "outputs": [
    {
     "data": {
      "text/html": [
       "<span style=\"white-space:pre; font-family: monospace\">7\n",
       "</span>"
      ]
     },
     "execution_count": 250,
     "metadata": {},
     "output_type": "execute_result"
    }
   ],
   "source": [
    "13 IsItExpensive 20"
   ]
  },
  {
   "cell_type": "code",
   "execution_count": 251,
   "metadata": {},
   "outputs": [
    {
     "data": {
      "text/html": [
       "<span style=\"white-space:pre; font-family: monospace\">10\n",
       "</span>"
      ]
     },
     "execution_count": 251,
     "metadata": {},
     "output_type": "execute_result"
    }
   ],
   "source": [
    "13 IsItExpensive 10"
   ]
  },
  {
   "cell_type": "markdown",
   "metadata": {},
   "source": [
    "The program above uses `(~price≤money)⍴expensive` to emulate an `:If` clause and the `expensive:` line acts as the `:EndIf` clause. If you have enough `money` to buy something that costs `price`, it will return how much money you have left after making the purchase. If you don't have enough money, your money is returned unchanged.\n",
    "\n",
    "Let us walk through the execution of the two example calls above to see exactly how this works:\n",
    "\n",
    " - `13 IsItExpensive 20`:\n",
    "   - `expensive` is the label that is defined on line 3, so its value is 3 as if it were a regular variable;\n",
    "   - `price≤money` is `1` because `13≤20` and hence `~price≤money` is `0`;\n",
    "   - `(~price≤money)⍴expensive` is thus equivalent to `0⍴3` which evaluates to `⍬`;\n",
    "   - `→⍬` does nothing (as explained in [the appropriate section above](#Jump-to-Another-Statement)) and the program proceeds to lines 2 and 3.\n",
    "   \n",
    " - `13 IsItExpensive 10`:\n",
    "   - `expensive` is the label that is defined on line 3, so its value is 3 as if it were a regular variable;\n",
    "   - `price≤money` is `0` because `13≤10` is not satisfied, hence `~price≤money` is `1`;\n",
    "   - `(~price≤money)⍴expensive` is thus equivalent to `1⍴3` which evaluates to `3`;\n",
    "   - `→3` makes the program jump to line 3, skipping line 2.\n",
    "   \n",
    "This kind of conditional jump can be summarised like `→(~condition)⍴ destination`.\n",
    "\n",
    "Using control structures, we would have written"
   ]
  },
  {
   "cell_type": "code",
   "execution_count": 246,
   "metadata": {},
   "outputs": [],
   "source": [
    "∇ money ← price SaneIsItExpensive money\n",
    "    :If price≤money\n",
    "        ⎕← 'I have enough money'\n",
    "        money ← money-price\n",
    "    :EndIf\n",
    "∇"
   ]
  },
  {
   "cell_type": "code",
   "execution_count": 247,
   "metadata": {},
   "outputs": [
    {
     "data": {
      "text/html": [
       "<span style=\"white-space:pre; font-family: monospace\">I have enough money\n",
       "7\n",
       "</span>"
      ]
     },
     "execution_count": 247,
     "metadata": {},
     "output_type": "execute_result"
    }
   ],
   "source": [
    "13 SaneIsItExpensive 20"
   ]
  },
  {
   "cell_type": "code",
   "execution_count": 248,
   "metadata": {},
   "outputs": [
    {
     "data": {
      "text/html": [
       "<span style=\"white-space:pre; font-family: monospace\">10\n",
       "</span>"
      ]
     },
     "execution_count": 248,
     "metadata": {},
     "output_type": "execute_result"
    }
   ],
   "source": [
    "13 SaneIsItExpensive 10"
   ]
  },
  {
   "cell_type": "markdown",
   "metadata": {},
   "source": [
    "or even better, without control structures at all we could write"
   ]
  },
  {
   "cell_type": "code",
   "execution_count": 252,
   "metadata": {},
   "outputs": [],
   "source": [
    "]dinput\n",
    "IsItExpensiveDfn ← {\n",
    "    ⍵-⍺×⍺≤⍵\n",
    "}"
   ]
  },
  {
   "cell_type": "code",
   "execution_count": 253,
   "metadata": {},
   "outputs": [
    {
     "data": {
      "text/html": [
       "<span style=\"white-space:pre; font-family: monospace\">7\n",
       "</span>"
      ]
     },
     "execution_count": 253,
     "metadata": {},
     "output_type": "execute_result"
    }
   ],
   "source": [
    "13 IsItExpensiveDfn 20"
   ]
  },
  {
   "cell_type": "code",
   "execution_count": 254,
   "metadata": {},
   "outputs": [
    {
     "data": {
      "text/html": [
       "<span style=\"white-space:pre; font-family: monospace\">10\n",
       "</span>"
      ]
     },
     "execution_count": 254,
     "metadata": {},
     "output_type": "execute_result"
    }
   ],
   "source": [
    "13 IsItExpensiveDfn 10"
   ]
  },
  {
   "cell_type": "markdown",
   "metadata": {},
   "source": [
    "This example above shows that programming without explicit control flow is something that is quite feasible and, often times, very elegant.\n",
    "\n",
    "In your road to mastering Dyalog APL you will want to train your brain to write programs more like the `IsItExpensiveDfn` above and less like the `SaneIsItExpensive`, and definitely not like the labelled `IsItExpensive`!"
   ]
  },
  {
   "cell_type": "markdown",
   "metadata": {},
   "source": [
    "#### Multiple Destinations\n",
    "\n",
    "One can also use `→` with multiple labels on the right, in which case program execution jumps to the *first* label in the vector of labels. Just consider the following dummy program, where we use explicit line numbers so we can print them as the tradfn executes:"
   ]
  },
  {
   "cell_type": "code",
   "execution_count": 259,
   "metadata": {},
   "outputs": [],
   "source": [
    "∇ MultipleDestinations\n",
    "    →4 3 2 7\n",
    "    2\n",
    "    3\n",
    "    4\n",
    "    5\n",
    "    6\n",
    "    7\n",
    "    8\n",
    "∇"
   ]
  },
  {
   "cell_type": "code",
   "execution_count": 260,
   "metadata": {},
   "outputs": [
    {
     "data": {
      "text/html": [
       "<span style=\"white-space:pre; font-family: monospace\">4\n",
       "5\n",
       "6\n",
       "7\n",
       "8\n",
       "</span>"
      ]
     },
     "execution_count": 260,
     "metadata": {},
     "output_type": "execute_result"
    }
   ],
   "source": [
    "MultipleDestinations"
   ]
  },
  {
   "cell_type": "markdown",
   "metadata": {},
   "source": [
    "Try changing the numbers in front of the `→` above and see how the numbers printed change."
   ]
  },
  {
   "cell_type": "markdown",
   "metadata": {},
   "source": [
    "### Modern and Traditional Controls Cooperate\n",
    "\n",
    "It is sometimes convenient to mix modern and traditional flow control in order to simplify the code.\n",
    "\n",
    "Consider a loop in which we must terminate the execution of the function if the condition `x<3` becomes satisfied. With modern control structures, the function would probably include a\n",
    "\n",
    "```APL\n",
    "...\n",
    ":If x<3\n",
    "    :Return\n",
    ":EndIf\n",
    "...\n",
    "```\n",
    "\n",
    "which takes up 3 lines. This might be a bit cumbersome. It is possible to use fewer statements using an explicit branch:\n",
    "\n",
    "```APL\n",
    "...\n",
    ":GoTo (x<3)/0\n",
    "...\n",
    "```\n",
    "\n",
    "or equivalently\n",
    "\n",
    "```APL\n",
    "...\n",
    "→(x<3)/0\n",
    "...\n",
    "```\n",
    "\n",
    "since the branch arrow and the `:GoTo` keyword are equivalent.\n",
    "\n",
    "Something very similar could be written if we need to leave a loop when a given condition becomes satisfied. For example, instead of\n",
    "\n",
    "```APL\n",
    ":Repeat\n",
    "    ...\n",
    "    :If cond\n",
    "        :Leave\n",
    "    :EndIf\n",
    "    ...\n",
    ":EndRepeat\n",
    "...\n",
    "```\n",
    "\n",
    "one could write\n",
    "\n",
    "```APL\n",
    ":Repeat\n",
    "    ...\n",
    "    →cond/hell\n",
    "    ...\n",
    ":EndRepeat\n",
    "hell:\n",
    "...\n",
    "```\n",
    "\n",
    "<!--begin remark-->\n",
    "***Remark***:\n",
    "\n",
    " > Branching using `→` or `:GoTo` is not recommended as a general tool for programming flow control. It is briefly explained here mainly in order to help you understand existing code and to show that the technique may be useful and feasible in special situations. You should, in general, either use control structures or avoid them altogether with alternative formulations of your algorithm(s).\n",
    "<!--end-->\n",
    "\n",
    "<!--begin warning-->\n",
    "***Warning***:\n",
    "\n",
    " > Colons are placed **before** a keyword (e.g. `:For`) but **after** a label (e.g. `hell:` above).\n",
    "<!--end-->"
   ]
  },
  {
   "cell_type": "markdown",
   "metadata": {},
   "source": [
    "## Miscellaneous\n",
    "\n",
    "\n",
    "### List of Variables and Functions\n",
    "\n",
    "You can obtain a list of your variables by typing"
   ]
  },
  {
   "cell_type": "code",
   "execution_count": 165,
   "metadata": {},
   "outputs": [
    {
     "data": {
      "text/html": [
       "<span style=\"white-space:pre; font-family: monospace\">a       actual  b       c       d       forecast        hours   inverses        mat     times   totMat  towns   v       \n",
       "var     which   zap     \n",
       "</span>"
      ]
     },
     "execution_count": 165,
     "metadata": {},
     "output_type": "execute_result"
    }
   ],
   "source": [
    ")Vars"
   ]
  },
  {
   "cell_type": "markdown",
   "metadata": {},
   "source": [
    "and you can obtain a list of your functions by typing"
   ]
  },
  {
   "cell_type": "code",
   "execution_count": 166,
   "metadata": {},
   "outputs": [
    {
     "data": {
      "text/html": [
       "<span style=\"white-space:pre; font-family: monospace\">AMHM    AbsVal  Average BadSyntaxTradfn CasePotpourri   CheckVar        CollatzPath     Comment ComputeGrowthTime       \n",
       "ContinueInsideWhile     Count   Divisors        DivisorsNoLoops Endless Extract HarmonicMean    Hypo    Ignore  Interlace\n",
       "Lengths Magic   MultiplyBy10    Plus    PrintAB PrintCD PrintE  QuadRoot        Reverse Root    RootOf10        \n",
       "SetAThenPrint   SetBThenPrint   SetCThenPrint   SetDThenPrint   SetLocalE       Sign    Silly   Switch1 Switch2 Times   To\n",
       "TradHarmonicMean        VarLevels       ZapMe   \n",
       "</span>"
      ]
     },
     "execution_count": 166,
     "metadata": {},
     "output_type": "execute_result"
    }
   ],
   "source": [
    ")Fns"
   ]
  },
  {
   "cell_type": "markdown",
   "metadata": {},
   "source": [
    "### Use of the Result\n",
    "\n",
    "To sum up what we have already seen, once a function has been defined and we call it, its result can be:\n",
    "\n",
    " - Immediately displayed and lost:"
   ]
  },
  {
   "cell_type": "code",
   "execution_count": 167,
   "metadata": {},
   "outputs": [
    {
     "data": {
      "text/html": [
       "<span style=\"white-space:pre; font-family: monospace\">0.895522\n",
       "</span>"
      ]
     },
     "execution_count": 167,
     "metadata": {},
     "output_type": "execute_result"
    }
   ],
   "source": [
    "HarmonicMean times"
   ]
  },
  {
   "cell_type": "markdown",
   "metadata": {},
   "source": [
    " - Included in an expression:"
   ]
  },
  {
   "cell_type": "code",
   "execution_count": 168,
   "metadata": {},
   "outputs": [
    {
     "data": {
      "text/html": [
       "<span style=\"white-space:pre; font-family: monospace\">53.7313\n",
       "</span>"
      ]
     },
     "execution_count": 168,
     "metadata": {},
     "output_type": "execute_result"
    }
   ],
   "source": [
    "60×HarmonicMean times"
   ]
  },
  {
   "cell_type": "markdown",
   "metadata": {},
   "source": [
    " - Assigned to a variable:"
   ]
  },
  {
   "cell_type": "code",
   "execution_count": 169,
   "metadata": {},
   "outputs": [],
   "source": [
    "hours ← HarmonicMean times"
   ]
  },
  {
   "cell_type": "markdown",
   "metadata": {},
   "source": [
    "### Vector Representation\n",
    "\n",
    "We saw that double-clicking on a function name invokes the editor and allows the user to edit the code. We can also type the name of the function and see its code:"
   ]
  },
  {
   "cell_type": "code",
   "execution_count": 229,
   "metadata": {},
   "outputs": [
    {
     "data": {
      "text/html": [
       "<span style=\"white-space:pre; font-family: monospace\">    ∇  mean←TradHarmonicMean argVector;inverses\n",
       "[1]    inverses←÷argVector                     \n",
       "[2]    mean←÷+/inverses                        \n",
       "    ∇                                          \n",
       "</span>"
      ]
     },
     "execution_count": 229,
     "metadata": {},
     "output_type": "execute_result"
    }
   ],
   "source": [
    "TradHarmonicMean"
   ]
  },
  {
   "cell_type": "markdown",
   "metadata": {},
   "source": [
    "One can also obtain this representation (as a character array) using the built-in ***System function*** `⎕VR` (for \"*Vector Representation*\") of Dyalog APL. *System functions* are a special kind of function provided with the development environment. The first character of their name is a ***Quad*** (`⎕`) which guarantees that they cannot conflict with user-defined names, and their names are also case-insensitive:"
   ]
  },
  {
   "cell_type": "code",
   "execution_count": 237,
   "metadata": {},
   "outputs": [
    {
     "data": {
      "text/html": [
       "<span style=\"white-space:pre; font-family: monospace\">     ∇ mean←TradHarmonicMean argVector;inverses\n",
       "[1]    inverses←÷argVector                     \n",
       "[2]    mean←÷+/inverses                        \n",
       "     ∇                                         \n",
       "</span>"
      ]
     },
     "execution_count": 237,
     "metadata": {},
     "output_type": "execute_result"
    }
   ],
   "source": [
    "⎕VR 'TradHarmonicMean'"
   ]
  },
  {
   "cell_type": "code",
   "execution_count": 236,
   "metadata": {},
   "outputs": [
    {
     "data": {
      "text/html": [
       "<span style=\"white-space:pre; font-family: monospace\">     ∇ mean←TradHarmonicMean argVector;inverses\n",
       "[1]    inverses←÷argVector                     \n",
       "[2]    mean←÷+/inverses                        \n",
       "     ∇                                         \n",
       "</span>"
      ]
     },
     "execution_count": 236,
     "metadata": {},
     "output_type": "execute_result"
    }
   ],
   "source": [
    "⎕Vr 'TradHarmonicMean'"
   ]
  },
  {
   "cell_type": "code",
   "execution_count": 235,
   "metadata": {},
   "outputs": [
    {
     "data": {
      "text/html": [
       "<span style=\"white-space:pre; font-family: monospace\">     ∇ mean←TradHarmonicMean argVector;inverses\n",
       "[1]    inverses←÷argVector                     \n",
       "[2]    mean←÷+/inverses                        \n",
       "     ∇                                         \n",
       "</span>"
      ]
     },
     "execution_count": 235,
     "metadata": {},
     "output_type": "execute_result"
    }
   ],
   "source": [
    "⎕vr 'TradHarmonicMean'"
   ]
  },
  {
   "cell_type": "code",
   "execution_count": 234,
   "metadata": {},
   "outputs": [
    {
     "data": {
      "text/html": [
       "<span style=\"white-space:pre; font-family: monospace\">     ∇ mean←TradHarmonicMean argVector;inverses\n",
       "[1]    inverses←÷argVector                     \n",
       "[2]    mean←÷+/inverses                        \n",
       "     ∇                                         \n",
       "</span>"
      ]
     },
     "execution_count": 234,
     "metadata": {},
     "output_type": "execute_result"
    }
   ],
   "source": [
    "⎕vR 'TradHarmonicMean'"
   ]
  },
  {
   "cell_type": "markdown",
   "metadata": {},
   "source": [
    "Note that this is quite unusual in a programming language. The result of `⎕VR` is a character vector representing the source code of our function, which is now available for processing by other functions in the workspace!\n",
    "\n",
    "System functions will be discussed in detail in [a later chapter](./System-Interfaces.ipynb)."
   ]
  },
  {
   "cell_type": "markdown",
   "metadata": {},
   "source": [
    "### Invoking the Text Editor\n",
    "\n",
    "Double-clicking a name which represents an existing item invokes the editor and displays its contents, using the colour scheme appropriate for the type of the item (function, character matrix, nested array, etc) defined via \"Options\" &#8680; \"Colors...\" if you are using the Windows interpreter or via \"Edit\" &#8680; \"Preferences\" &#8680; \"Colours\" if you are using RIDE.\n",
    "\n",
    "You can also invoke the editor by pressing <kbd>Shift</kbd>+<kbd>Enter</kbd> when the input cursor is inside or adjacent to the name. This is perhaps the most convenient way as, when working in an APL session, you tend to use the keyboard much more than the mouse.\n",
    "\n",
    "Let us define a character matrix with the uppercase latin alphabet:"
   ]
  },
  {
   "cell_type": "code",
   "execution_count": 176,
   "metadata": {},
   "outputs": [
    {
     "data": {
      "text/html": [
       "<span style=\"white-space:pre; font-family: monospace\">ABCDEFGHIJKLM\n",
       "NOPQRSTUVWXYZ\n",
       "</span>"
      ]
     },
     "execution_count": 176,
     "metadata": {},
     "output_type": "execute_result"
    }
   ],
   "source": [
    "⊢charMat ← 2 13⍴⎕A"
   ]
  },
  {
   "cell_type": "markdown",
   "metadata": {},
   "source": [
    "For some items (e.g. numeric matrices, some nested arrays) the editor is only good for viewing them, while for others such as functions, text vectors and text matrices, the editor can also be used to edit them. In <!--figure-->the example below<!--Win_Editor_Edit_Character_Matrix--> we have invoked the editor, and changed the contents of our `charMat` variable:\n",
    "\n",
    "![Editing a character matrix with the built-in editor of the Windows interpreter](res/Win_Editor_Edit_Character_Matrix.png)\n",
    "\n",
    "In <!--figure-->the figure<!--Win_Editor_Edit_Character_Matrix--> the edit window tells us that we modified the character matrix. We must now fix it, like we did with dfns before, for the variable to reflect its new value. RIDE doesn't tell you that the character matrix was modified, but you still need to fix it if you want the new changes to come into effect.\n",
    "\n",
    "If we now fix the changes to `charMat`, it will become a matrix with 4 rows and 29 columns (the length of its longest row).\n",
    "\n",
    "If, for some reason, you made a mistake, you can exit the edit window *without* fixing the changes by pressing <kbd>Shift</kbd>+<kbd>Esc</kbd>.\n",
    "\n",
    "If a name is currently undefined (has no value), double-clicking or pressing <kbd>Shift</kbd>+<kbd>Enter</kbd> on that name invokes the editor on it as if it were a new function. This is one way to create a function.\n",
    "\n",
    "You can also invoke the editor using the command `)ED` as we did before. By default, it opens a **function** definition, but you can explicitly specify the type of a new object by prefixing its name with a special character, as shown in the table below.\n",
    "\n",
    "| Prefix | Example | Object Created |\n",
    "| :-: | :- | :- |\n",
    "| none | `)ed new` | Function | \n",
    "| `∇` | `)ed ∇ borscht` | Function |\n",
    "| `-` | `)ed - papyrus` | Simple character matrix |\n",
    "| `→` | `)ed → crouton` | Simple character vector |\n",
    "| `∊` | `)ed ∊ grunt` | Nested vector of character vectors, with one sub-vector per line |\n",
    "\n",
    "See also [the appendix](./Appendices.ipynb#Invoking-the-Editor) for additional prefixes.\n",
    "\n",
    "It is possible to open several edit windows using a single command. For example, `)ed Tyrex -moose` will open two edit windows. The first to create or edit a function named `Tyrex` and the second to create a character matrix named `moose`.\n",
    "\n",
    "If a prefix is specified for the name of an already existing object, the prefix is ignored and the editor is invoked according to the type of the existing object.\n",
    "\n",
    "There are some other ways to invoke the editor:\n",
    "\n",
    " - use `⎕ED` instead of the command `)ED`. For example: `⎕ED 'Clown'`. `⎕ED` is a *System function*, a concept that will be discussed in [a future chapter](./System-Interfaces.ipynb);\n",
    " - type a name, or put the input cursor on an existing name, and activate the menu \"Action\" &#8680; \"Edit\";\n",
    " - for the Windows interpreter, type a name or put the input cursor on an existing name, and click the \"Edit Object\" available in the toolbar (cf. <!--figure-->the image below<!--Win_Toolbar_Edit_Object-->).\n",
    " \n",
    "![The \"Edit Object\" button in the toolbar of the Windows interpreter](res/Win_Toolbar_Edit_Object.png)"
   ]
  },
  {
   "cell_type": "markdown",
   "metadata": {},
   "source": [
    "## Solutions\n",
    "\n",
    "**Exercise 1**:\n",
    "\n",
    "If `⍵` is the vector argument, we can use `⍵[...]` to index into `⍵` and then we can use the *Index Generator* primitive to generate the indices we need, which should be the integers from `1` to `⍺`... Except that if `⍺` is too big, we cannot generate indices larger than the length of the vector, so we also find the minimum between `⍺` and `≢⍵`. If we don't, we get a `INDEX ERROR` when indexing. Here is a possible implementation:"
   ]
  },
  {
   "cell_type": "code",
   "execution_count": 177,
   "metadata": {},
   "outputs": [],
   "source": [
    "]dinput\n",
    "Extract ← {\n",
    "    ⍵[⍳⍺⌊≢⍵]\n",
    "}"
   ]
  },
  {
   "cell_type": "code",
   "execution_count": 178,
   "metadata": {},
   "outputs": [
    {
     "data": {
      "text/html": [
       "<span style=\"white-space:pre; font-family: monospace\">45 86 31\n",
       "</span>"
      ]
     },
     "execution_count": 178,
     "metadata": {},
     "output_type": "execute_result"
    }
   ],
   "source": [
    "3 Extract 45 86 31 20 75 62 18"
   ]
  },
  {
   "cell_type": "code",
   "execution_count": 179,
   "metadata": {},
   "outputs": [
    {
     "data": {
      "text/html": [
       "<span style=\"white-space:pre; font-family: monospace\">can yo\n",
       "</span>"
      ]
     },
     "execution_count": 179,
     "metadata": {},
     "output_type": "execute_result"
    }
   ],
   "source": [
    "6 Extract 'can you do it?'"
   ]
  },
  {
   "cell_type": "code",
   "execution_count": 180,
   "metadata": {},
   "outputs": [
    {
     "data": {
      "text/html": [
       "<span style=\"white-space:pre; font-family: monospace\">1 2 3\n",
       "</span>"
      ]
     },
     "execution_count": 180,
     "metadata": {},
     "output_type": "execute_result"
    }
   ],
   "source": [
    "20 Extract 1 2 3"
   ]
  },
  {
   "cell_type": "markdown",
   "metadata": {},
   "source": [
    "**Exercise 2**:\n",
    "\n",
    "We can use a similar logic as that of the first exercise, except now we want to start the indices at `⍺+1` and go up until `≢⍵`. For this to happen, we first need to find out how many numbers we need. If a vector has `≢⍵` elements and we are going to drop `⍺` of them, we are going to be left with `(≢⍵)-⍺`. This means `⍳(≢⍵)-⍺` will generate the correct amount of indices, but they will be starting at `1` and should start at `⍺+1`, so we just need to add `⍺` to that.\n",
    "\n",
    "Finally, we just need to worry about what happens if `⍺` is too large, i.e. if we want to ignore too many elements. The reverse of that concern is, what happens if `(≢⍵)-⍺` is too small? Recall that `(≢⍵)-⍺` tells you how many elements you will want to keep. But that number must be at least `0` elements (i.e. \"keep no elements\") because it makes no sense to keep a negative number of elements. So we can just use `⌈` to find the maximum between `0` and `(≢⍵)-⍺`. If `⍺` is too large, `0⌈(≢⍵)-⍺` gives `0` and `⍳0` is the empty vector `⍬`, so the indexing will work just fine."
   ]
  },
  {
   "cell_type": "code",
   "execution_count": 181,
   "metadata": {},
   "outputs": [],
   "source": [
    "]dinput\n",
    "Ignore ← {\n",
    "    ⍵[⍺+⍳0⌈(≢⍵)-⍺]\n",
    "}"
   ]
  },
  {
   "cell_type": "code",
   "execution_count": 182,
   "metadata": {},
   "outputs": [
    {
     "data": {
      "text/html": [
       "<span style=\"white-space:pre; font-family: monospace\">20 75 62 18\n",
       "</span>"
      ]
     },
     "execution_count": 182,
     "metadata": {},
     "output_type": "execute_result"
    }
   ],
   "source": [
    "3 Ignore 45 86 31 20 75 62 18"
   ]
  },
  {
   "cell_type": "code",
   "execution_count": 183,
   "metadata": {},
   "outputs": [
    {
     "data": {
      "text/html": [
       "<span style=\"white-space:pre; font-family: monospace\">u do it?\n",
       "</span>"
      ]
     },
     "execution_count": 183,
     "metadata": {},
     "output_type": "execute_result"
    }
   ],
   "source": [
    "6 Ignore 'can you do it?'"
   ]
  },
  {
   "cell_type": "code",
   "execution_count": 184,
   "metadata": {},
   "outputs": [
    {
     "data": {
      "text/html": [
       "<span style=\"white-space:pre; font-family: monospace\">\n",
       "</span>"
      ]
     },
     "execution_count": 184,
     "metadata": {},
     "output_type": "execute_result"
    }
   ],
   "source": [
    "20 Ignore 1 2 3"
   ]
  },
  {
   "cell_type": "markdown",
   "metadata": {},
   "source": [
    "**Exercise 3**:\n",
    "\n",
    "Here is another exercise on index arithmetic. Here is what we want to happen with a vector argument of length 10:\n",
    "\n",
    " - generate the indices `1 2 3 4 5 6 7 8 9 10`\n",
    " - transform them into  `10 9 8 7 6 5 4 3 2 1`\n",
    " \n",
    "We can do this if we do the correct subtraction:"
   ]
  },
  {
   "cell_type": "code",
   "execution_count": 185,
   "metadata": {},
   "outputs": [
    {
     "data": {
      "text/html": [
       "<span style=\"white-space:pre; font-family: monospace\">10 9 8 7 6 5 4 3 2 1\n",
       "</span>"
      ]
     },
     "execution_count": 185,
     "metadata": {},
     "output_type": "execute_result"
    }
   ],
   "source": [
    "11 - ⍳10 "
   ]
  },
  {
   "cell_type": "markdown",
   "metadata": {},
   "source": [
    "But here `11` was a special number: it was `1+≢⍵`. So that is the general tactic we must employ:"
   ]
  },
  {
   "cell_type": "code",
   "execution_count": 186,
   "metadata": {},
   "outputs": [],
   "source": [
    "]dinput\n",
    "Reverse ← {\n",
    "    ⍵[(1+≢⍵)-⍳≢⍵]\n",
    "}"
   ]
  },
  {
   "cell_type": "code",
   "execution_count": 187,
   "metadata": {},
   "outputs": [
    {
     "data": {
      "text/html": [
       "<span style=\"white-space:pre; font-family: monospace\">congratulations\n",
       "</span>"
      ]
     },
     "execution_count": 187,
     "metadata": {},
     "output_type": "execute_result"
    }
   ],
   "source": [
    "Reverse 'snoitalutargnoc'"
   ]
  },
  {
   "cell_type": "code",
   "execution_count": 188,
   "metadata": {},
   "outputs": [
    {
     "data": {
      "text/html": [
       "<span style=\"white-space:pre; font-family: monospace\">You did it!\n",
       "</span>"
      ]
     },
     "execution_count": 188,
     "metadata": {},
     "output_type": "execute_result"
    }
   ],
   "source": [
    "Reverse '!ti did uoY'"
   ]
  },
  {
   "cell_type": "markdown",
   "metadata": {},
   "source": [
    "**Exercise 4**:\n",
    "\n",
    "This exercise can be solved by using the *Reduce* operator to sum: `+/`. Then we need to specify the axis we care about with `[1]` and `[2]`.\n",
    "\n",
    "If we do `+/[1]` then we are reducing across the first axis, which means we get the sums along the columns:"
   ]
  },
  {
   "cell_type": "code",
   "execution_count": 189,
   "metadata": {},
   "outputs": [
    {
     "data": {
      "text/html": [
       "<span style=\"white-space:pre; font-family: monospace\">75 14 86 20\n",
       "31 16 40 51\n",
       "22 64 31 28\n",
       "</span>"
      ]
     },
     "execution_count": 189,
     "metadata": {},
     "output_type": "execute_result"
    }
   ],
   "source": [
    "⊢mat ← 3 4⍴75 14 86 20 31 16 40 51 22 64 31 28"
   ]
  },
  {
   "cell_type": "code",
   "execution_count": 190,
   "metadata": {},
   "outputs": [
    {
     "data": {
      "text/html": [
       "<span style=\"white-space:pre; font-family: monospace\">128 94 157 99\n",
       "</span>"
      ]
     },
     "execution_count": 190,
     "metadata": {},
     "output_type": "execute_result"
    }
   ],
   "source": [
    "+/[1]mat"
   ]
  },
  {
   "cell_type": "markdown",
   "metadata": {},
   "source": [
    "We can then catenate the original matrix to these column sums vertically (by using `⍪`), and then use `+/[2]` to find the row sums and catenate them with `,`:"
   ]
  },
  {
   "cell_type": "code",
   "execution_count": 191,
   "metadata": {},
   "outputs": [],
   "source": [
    "]dinput\n",
    "Totalise ← {\n",
    "    colSums ← +/[1]⍵\n",
    "    r ← ⍵⍪colSums\n",
    "    rowSums ← +/[2]r\n",
    "    r,rowSums\n",
    "}"
   ]
  },
  {
   "cell_type": "code",
   "execution_count": 192,
   "metadata": {},
   "outputs": [
    {
     "data": {
      "text/html": [
       "<span style=\"white-space:pre; font-family: monospace\"> 75 14  86 20 195\n",
       " 31 16  40 51 138\n",
       " 22 64  31 28 145\n",
       "128 94 157 99 478\n",
       "</span>"
      ]
     },
     "execution_count": 192,
     "metadata": {},
     "output_type": "execute_result"
    }
   ],
   "source": [
    "Totalise mat"
   ]
  },
  {
   "cell_type": "code",
   "execution_count": 193,
   "metadata": {},
   "outputs": [
    {
     "data": {
      "text/html": [
       "<span style=\"white-space:pre; font-family: monospace\">1\n",
       "</span>"
      ]
     },
     "execution_count": 193,
     "metadata": {},
     "output_type": "execute_result"
    }
   ],
   "source": [
    "totMat ← 4 5⍴75 14 86 20 195 31 16 40 51 138 22 64 31 28 145 128 94 157 99 478\n",
    "totMat ≡ Totalise mat"
   ]
  },
  {
   "cell_type": "markdown",
   "metadata": {},
   "source": [
    "**Exercise 5**:\n",
    "\n",
    "When reading this exercise, one should immediately realise that one is going to need to find *Where* the blank spaces are:"
   ]
  },
  {
   "cell_type": "code",
   "execution_count": 194,
   "metadata": {},
   "outputs": [],
   "source": [
    "text ← 'This seems to be a good solution'"
   ]
  },
  {
   "cell_type": "code",
   "execution_count": 195,
   "metadata": {},
   "outputs": [
    {
     "data": {
      "text/html": [
       "<span style=\"white-space:pre; font-family: monospace\">5 11 14 17 19 24\n",
       "</span>"
      ]
     },
     "execution_count": 195,
     "metadata": {},
     "output_type": "execute_result"
    }
   ],
   "source": [
    "⍸' '=text"
   ]
  },
  {
   "cell_type": "markdown",
   "metadata": {},
   "source": [
    "These indices tell where the blank spaces were in the character vector, and in between those indices are the indices that correspond to word characters:\n",
    "\n",
    " - the first word has indices `1 2 3 4`\n",
    "   - then there is a space at position `5`\n",
    " - the second word has indices `6 7 8 9 10`\n",
    "   - then there is a space at position `11`\n",
    " - ...\n",
    "   - then there is a space at position `24`\n",
    " - the last word has indices `25 26 27 28 29 30 31 32`\n",
    " \n",
    "The `32` above is `≢text`:"
   ]
  },
  {
   "cell_type": "code",
   "execution_count": 196,
   "metadata": {},
   "outputs": [
    {
     "data": {
      "text/html": [
       "<span style=\"white-space:pre; font-family: monospace\">32\n",
       "</span>"
      ]
     },
     "execution_count": 196,
     "metadata": {},
     "output_type": "execute_result"
    }
   ],
   "source": [
    "≢text"
   ]
  },
  {
   "cell_type": "markdown",
   "metadata": {},
   "source": [
    "From the list above we can see that most words are *between* spaces, but the first and last words may not be between spaces. We can fix this by *forcing* the first and last words to be *between* spaces if we had a single `' '` to the beginning and to the end of our variable:"
   ]
  },
  {
   "cell_type": "code",
   "execution_count": 197,
   "metadata": {},
   "outputs": [
    {
     "data": {
      "text/html": [
       "<span style=\"white-space:pre; font-family: monospace\">1 6 12 15 18 20 25 34\n",
       "</span>"
      ]
     },
     "execution_count": 197,
     "metadata": {},
     "output_type": "execute_result"
    }
   ],
   "source": [
    "⍸' '=' ',text,' '"
   ]
  },
  {
   "cell_type": "markdown",
   "metadata": {},
   "source": [
    "Now we have\n",
    "\n",
    " - the first space at position `1`\n",
    "   - the first word in positions `2 3 4 5`\n",
    " - a space at position `6`\n",
    "   - a word in positions `7 8 9 10 11`\n",
    " - ...\n",
    " - a space at position `25`\n",
    "   - the last word in positions `26 27 28 29 30 31 32 33`\n",
    " - the final space at position `34`\n",
    " \n",
    "So we can find the lengths of those runs of non-spaces by subtracting positions of consecutive spaces and then subtracting 1 from those, because `6-1` gives 5, but between 1 and 6 there's only 4 integers."
   ]
  },
  {
   "cell_type": "code",
   "execution_count": 198,
   "metadata": {},
   "outputs": [],
   "source": [
    "]dinput\n",
    "Lengths ← {\n",
    "    spaces ← ⍸' '=' ',⍵,' '\n",
    "    idx ← ⍳(≢spaces)-1\n",
    "    ¯1+spaces[1+idx]-spaces[idx]\n",
    "}"
   ]
  },
  {
   "cell_type": "code",
   "execution_count": 199,
   "metadata": {},
   "outputs": [
    {
     "data": {
      "text/html": [
       "<span style=\"white-space:pre; font-family: monospace\">4 5 2 2 1 4 8\n",
       "</span>"
      ]
     },
     "execution_count": 199,
     "metadata": {},
     "output_type": "execute_result"
    }
   ],
   "source": [
    "Lengths 'This seems to be a good solution'"
   ]
  },
  {
   "cell_type": "markdown",
   "metadata": {},
   "source": [
    "The final step where we index into `spaces` to get \"all but the last\" and \"all but the first\" elements of `spaces` could have been done with your previous solutions:"
   ]
  },
  {
   "cell_type": "code",
   "execution_count": 200,
   "metadata": {},
   "outputs": [],
   "source": [
    "]dinput\n",
    "Lengths ← {\n",
    "    spaces ← ⍸' '=' ',⍵,' '\n",
    "    ¯1+(1 Ignore spaces)-((¯1+≢spaces) Extract spaces)\n",
    "}"
   ]
  },
  {
   "cell_type": "code",
   "execution_count": 201,
   "metadata": {},
   "outputs": [
    {
     "data": {
      "text/html": [
       "<span style=\"white-space:pre; font-family: monospace\">4 5 2 2 1 4 8\n",
       "</span>"
      ]
     },
     "execution_count": 201,
     "metadata": {},
     "output_type": "execute_result"
    }
   ],
   "source": [
    "Lengths 'This seems to be a good solution'"
   ]
  },
  {
   "cell_type": "markdown",
   "metadata": {},
   "source": [
    "Notice that doing `¯1+expr` is a little \"trick\" you can employ when you want to subtract 1 from `expr`, but `expr` would then need parenthesis if you were to have it on the left of the `-` sign. For example, to subtract 1 from `≢spaces` you would have to do `(≢spaces)-1` but instead you can do `¯1+≢spaces`.\n",
    "\n",
    "Finally, can you improve your solution to handle multiple consecutive spaces?"
   ]
  },
  {
   "cell_type": "code",
   "execution_count": 202,
   "metadata": {},
   "outputs": [
    {
     "data": {
      "text/html": [
       "<span style=\"white-space:pre; font-family: monospace\">4 4 0 0 0 3 0 0 0 0 0 4 5 0 0 0\n",
       "</span>"
      ]
     },
     "execution_count": 202,
     "metadata": {},
     "output_type": "execute_result"
    }
   ],
   "source": [
    "Lengths 'This only    has      five words   '"
   ]
  },
  {
   "cell_type": "markdown",
   "metadata": {},
   "source": [
    "Probably seeing how your function works with multiple consecutive spaces gives the solution away: consecutive spaces will make a 0 appear in the final result, so we just have to remove those:"
   ]
  },
  {
   "cell_type": "code",
   "execution_count": 203,
   "metadata": {},
   "outputs": [],
   "source": [
    "]dinput\n",
    "Lengths ← {\n",
    "    spaces ← ⍸' '=' ',⍵,' '\n",
    "    r ← ¯1+(1 Ignore spaces)-((¯1+≢spaces) Extract spaces)\n",
    "    (0≠r)/r\n",
    "}"
   ]
  },
  {
   "cell_type": "code",
   "execution_count": 204,
   "metadata": {},
   "outputs": [
    {
     "data": {
      "text/html": [
       "<span style=\"white-space:pre; font-family: monospace\">4 4 3 4 5\n",
       "</span>"
      ]
     },
     "execution_count": 204,
     "metadata": {},
     "output_type": "execute_result"
    }
   ],
   "source": [
    "Lengths 'This only    has      five words   '"
   ]
  },
  {
   "cell_type": "markdown",
   "metadata": {},
   "source": [
    "**Exercise 6**:\n",
    "\n",
    "We have seen in [a previous section](./Some-Primitive-Functions.ipynb#Basic-Usage) how to create any arithmetic sequence of integers. This is just a special case of the algorithm give, with `Step ← 1`:"
   ]
  },
  {
   "cell_type": "code",
   "execution_count": 205,
   "metadata": {},
   "outputs": [],
   "source": [
    "]dinput\n",
    "To ← {\n",
    "    ⍺+¯1+⍳(1+⍵-⍺)\n",
    "}"
   ]
  },
  {
   "cell_type": "code",
   "execution_count": 206,
   "metadata": {},
   "outputs": [
    {
     "data": {
      "text/html": [
       "<span style=\"white-space:pre; font-family: monospace\">17 18 19 20 21 22 23 24 25 26 27 28 29\n",
       "</span>"
      ]
     },
     "execution_count": 206,
     "metadata": {},
     "output_type": "execute_result"
    }
   ],
   "source": [
    "17 To 29"
   ]
  },
  {
   "cell_type": "markdown",
   "metadata": {},
   "source": [
    "**Exercise 7**:\n",
    "\n",
    "This exercise is easier than it might look because the primitives to catenate vertically and horizontally, `⍪` and `,`, know how to deal with a matrix and a single scalar:"
   ]
  },
  {
   "cell_type": "code",
   "execution_count": 207,
   "metadata": {},
   "outputs": [
    {
     "data": {
      "text/html": [
       "<span style=\"white-space:pre; font-family: monospace\">Canberra  \n",
       "Paris     \n",
       "Washington\n",
       "Moscow    \n",
       "Martigues \n",
       "Mexico    \n",
       "</span>"
      ]
     },
     "execution_count": 207,
     "metadata": {},
     "output_type": "execute_result"
    }
   ],
   "source": [
    "⊢towns ← 6 10⍴'Canberra  Paris     WashingtonMoscow    Martigues Mexico    '"
   ]
  },
  {
   "cell_type": "code",
   "execution_count": 208,
   "metadata": {},
   "outputs": [
    {
     "data": {
      "text/html": [
       "<span style=\"white-space:pre; font-family: monospace\">Canberra  |\n",
       "Paris     |\n",
       "Washington|\n",
       "Moscow    |\n",
       "Martigues |\n",
       "Mexico    |\n",
       "</span>"
      ]
     },
     "execution_count": 208,
     "metadata": {},
     "output_type": "execute_result"
    }
   ],
   "source": [
    "towns,'|'"
   ]
  },
  {
   "cell_type": "code",
   "execution_count": 209,
   "metadata": {},
   "outputs": [
    {
     "data": {
      "text/html": [
       "<span style=\"white-space:pre; font-family: monospace\">Canberra  \n",
       "Paris     \n",
       "Washington\n",
       "Moscow    \n",
       "Martigues \n",
       "Mexico    \n",
       "----------\n",
       "</span>"
      ]
     },
     "execution_count": 209,
     "metadata": {},
     "output_type": "execute_result"
    }
   ],
   "source": [
    "towns⍪'-'"
   ]
  },
  {
   "cell_type": "markdown",
   "metadata": {},
   "source": [
    "So we just have to frame the four sides and *then* change the corners:"
   ]
  },
  {
   "cell_type": "code",
   "execution_count": 210,
   "metadata": {},
   "outputs": [],
   "source": [
    "]dinput\n",
    "Frame ← {\n",
    "    f ← '|',⍵,'|'\n",
    "    f ← '-'⍪f⍪'-'\n",
    "    (r c) ← ⍴f\n",
    "    f[1 r;1 c] ← '+'\n",
    "    f\n",
    "}"
   ]
  },
  {
   "cell_type": "code",
   "execution_count": 211,
   "metadata": {},
   "outputs": [
    {
     "data": {
      "text/html": [
       "<span style=\"white-space:pre; font-family: monospace\">+----------+\n",
       "|Canberra  |\n",
       "|Paris     |\n",
       "|Washington|\n",
       "|Moscow    |\n",
       "|Martigues |\n",
       "|Mexico    |\n",
       "+----------+\n",
       "</span>"
      ]
     },
     "execution_count": 211,
     "metadata": {},
     "output_type": "execute_result"
    }
   ],
   "source": [
    "Frame towns"
   ]
  },
  {
   "cell_type": "markdown",
   "metadata": {},
   "source": [
    "Here we used the very convenient indexing notation `f[1 r;1 c]` that allows us to access the positions `1 1`, `1 c`, `r 1` and `r c` of the matrix `f`.\n",
    "\n",
    "Modifying this function to use the appropriate line-drawing symbols just means swapping the `'|-+'` in the original function. Care must be taken, however, when assigning the corners. With `f[1 r;1 c] ← m` APL expects `m` to be a scalar *or* an array with the same shape as that of the left, and since `f[1 r;1 c]` is a 2 by 2 matrix, we will have to reshape the vector with the corners into a 2 by 2 matrix as well:"
   ]
  },
  {
   "cell_type": "code",
   "execution_count": 212,
   "metadata": {},
   "outputs": [],
   "source": [
    "]dinput\n",
    "Frame ← {\n",
    "    f ← (⎕UCS 9474) , ⍵ , (⎕UCS 9474)\n",
    "    f ← (⎕UCS 9472) ⍪ f ⍪ (⎕UCS 9472)\n",
    "    (r c) ← ⍴f\n",
    "    f[1 r;1 c] ← 2 2⍴⎕UCS 9484 9488 9492 9496\n",
    "    f\n",
    "}"
   ]
  },
  {
   "cell_type": "code",
   "execution_count": 213,
   "metadata": {},
   "outputs": [
    {
     "data": {
      "text/html": [
       "<span style=\"white-space:pre; font-family: monospace\">┌──────────┐\n",
       "│Canberra  │\n",
       "│Paris     │\n",
       "│Washington│\n",
       "│Moscow    │\n",
       "│Martigues │\n",
       "│Mexico    │\n",
       "└──────────┘\n",
       "</span>"
      ]
     },
     "execution_count": 213,
     "metadata": {},
     "output_type": "execute_result"
    }
   ],
   "source": [
    "Frame towns"
   ]
  },
  {
   "cell_type": "markdown",
   "metadata": {},
   "source": [
    "**Exercise 8**:\n",
    "\n",
    "Well, what if what we wrote actually works for vectors? Let's give it a try:"
   ]
  },
  {
   "cell_type": "code",
   "execution_count": 214,
   "metadata": {},
   "outputs": [
    {
     "name": "stderr",
     "output_type": "stream",
     "text": [
      "RANK ERROR\n",
      "Frame[4] f[1 r;1 c]←2 2⍴⎕UCS 9484 9488 9492 9496\n",
      "          ∧\n"
     ]
    }
   ],
   "source": [
    "Frame 'We are not out of the wood'"
   ]
  },
  {
   "cell_type": "markdown",
   "metadata": {},
   "source": [
    "A `RANK ERROR`? That makes no sense, after I frame `⍵` with the horizontal and vertical bars I have a framed matrix, I just need to update the corners... right? Wrong! Here's what happens if you use `,` and `⍪` on a vector:"
   ]
  },
  {
   "cell_type": "code",
   "execution_count": 215,
   "metadata": {},
   "outputs": [
    {
     "data": {
      "text/html": [
       "<span style=\"white-space:pre; font-family: monospace\">─│We are not out of the wood│─\n",
       "</span>"
      ]
     },
     "execution_count": 215,
     "metadata": {},
     "output_type": "execute_result"
    }
   ],
   "source": [
    "text ← 'We are not out of the wood'\n",
    "(⎕UCS 9472) ⍪ (⎕UCS 9474) , text , (⎕UCS 9474) ⍪ (⎕UCS 9472)"
   ]
  },
  {
   "cell_type": "markdown",
   "metadata": {},
   "source": [
    "Because `text` has shape"
   ]
  },
  {
   "cell_type": "code",
   "execution_count": 216,
   "metadata": {},
   "outputs": [
    {
     "data": {
      "text/html": [
       "<span style=\"white-space:pre; font-family: monospace\">26\n",
       "</span>"
      ]
     },
     "execution_count": 216,
     "metadata": {},
     "output_type": "execute_result"
    }
   ],
   "source": [
    "⍴text"
   ]
  },
  {
   "cell_type": "markdown",
   "metadata": {},
   "source": [
    "the primitives `,` and `⍪` work the same way. We need to turn input vectors into matrices with 1 row before we proceed with the framing process.\n",
    "\n",
    "Let us define `shape ← ⍴⍵` as the shape of the input `Frame` gets. If `⍵` is a matrix, then `shape` is the appropriate shape, otherwise we need `⍵` to be reshaped into `1,shape`. In traditional programming languages we could use an `if-else` statement. However, dfns do not have support for such flow control structures and so we need to handle this matter in a different way.\n",
    "\n",
    "A possibility is to create the vector `v←1,shape` and then index into it with care. If `⍵` is a vector, `v` has 2 elements and we want both. If `⍵` is a matrix, `v` has 3 elements and we want the elements in positions `2 3`. A way of generating the indices `1 2` if `⍵` is a vector and `2 3` if `⍵` is a matrix is with the expression `0 1+≢⍴⍵`:\n",
    "\n",
    "| `⍵` | `≢⍴⍵` | `0 1+≢⍴⍵` |\n",
    "| :- | :-: | :-: |\n",
    "| vector | 1 | 1 2 |\n",
    "| matrix | 2 | 2 3 |\n",
    "\n",
    "When implementing the function we don't need to actually create `v`:"
   ]
  },
  {
   "cell_type": "code",
   "execution_count": 217,
   "metadata": {},
   "outputs": [],
   "source": [
    "]dinput\n",
    "Frame ← {\n",
    "    shape ← (1,⍴⍵)[0 1+≢⍴⍵]\n",
    "    f ← shape⍴⍵\n",
    "    f ← (⎕UCS 9474) , f , (⎕UCS 9474)\n",
    "    f ← (⎕UCS 9472) ⍪ f ⍪ (⎕UCS 9472)\n",
    "    (r c) ← ⍴f\n",
    "    f[1 r;1 c] ← 2 2⍴⎕UCS 9484 9488 9492 9496\n",
    "    f\n",
    "}"
   ]
  },
  {
   "cell_type": "code",
   "execution_count": 218,
   "metadata": {},
   "outputs": [
    {
     "data": {
      "text/html": [
       "<span style=\"white-space:pre; font-family: monospace\">┌──────────────────────────┐\n",
       "│We are not out of the wood│\n",
       "└──────────────────────────┘\n",
       "</span>"
      ]
     },
     "execution_count": 218,
     "metadata": {},
     "output_type": "execute_result"
    }
   ],
   "source": [
    "Frame text"
   ]
  },
  {
   "cell_type": "code",
   "execution_count": 219,
   "metadata": {},
   "outputs": [
    {
     "data": {
      "text/html": [
       "<span style=\"white-space:pre; font-family: monospace\">┌──────────┐\n",
       "│Canberra  │\n",
       "│Paris     │\n",
       "│Washington│\n",
       "│Moscow    │\n",
       "│Martigues │\n",
       "│Mexico    │\n",
       "└──────────┘\n",
       "</span>"
      ]
     },
     "execution_count": 219,
     "metadata": {},
     "output_type": "execute_result"
    }
   ],
   "source": [
    "Frame towns"
   ]
  },
  {
   "cell_type": "markdown",
   "metadata": {},
   "source": [
    "**Exercise 9**:\n",
    "\n",
    "The logic to solving this task resembles what we did in the first exercises. First we will find *Where* the first letter is, and then we will use indexing to put the second letter in those positions:"
   ]
  },
  {
   "cell_type": "code",
   "execution_count": 220,
   "metadata": {},
   "outputs": [],
   "source": [
    "]dinput\n",
    "Switch1 ← {\n",
    "    r ← ⍵\n",
    "    r[⍸⍺[1]=⍵] ← ⍺[2]\n",
    "    r\n",
    "}"
   ]
  },
  {
   "cell_type": "code",
   "execution_count": 221,
   "metadata": {},
   "outputs": [
    {
     "data": {
      "text/html": [
       "<span style=\"white-space:pre; font-family: monospace\">A bird in che hand is worch cwo in che bush\n",
       "</span>"
      ]
     },
     "execution_count": 221,
     "metadata": {},
     "output_type": "execute_result"
    }
   ],
   "source": [
    "'tc' Switch1 'A bird in the hand is worth two in the bush'"
   ]
  },
  {
   "cell_type": "markdown",
   "metadata": {},
   "source": [
    "We take the intermediate step of doing `r ← ⍵` because we can't assign to `⍵` and so `⍵[⍸⍺[1]=⍵] ← ⍺[2]` wouldn't work."
   ]
  },
  {
   "cell_type": "markdown",
   "metadata": {},
   "source": [
    "**Exercise 10**:\n",
    "\n",
    "A very obvious modification of the function above is to write"
   ]
  },
  {
   "cell_type": "code",
   "execution_count": 222,
   "metadata": {},
   "outputs": [],
   "source": [
    "]dinput\n",
    "Switch2 ← {\n",
    "    r ← ⍵\n",
    "    r[⍸⍺[1]=⍵] ← ⍺[2]\n",
    "    r[⍸⍺[2]=⍵] ← ⍺[1]\n",
    "    r\n",
    "}"
   ]
  },
  {
   "cell_type": "code",
   "execution_count": 223,
   "metadata": {},
   "outputs": [
    {
     "data": {
      "text/html": [
       "<span style=\"white-space:pre; font-family: monospace\">A berd en thi hand es worth two en thi bush\n",
       "</span>"
      ]
     },
     "execution_count": 223,
     "metadata": {},
     "output_type": "execute_result"
    }
   ],
   "source": [
    "'ei' Switch2 'A bird in the hand is worth two in the bush'"
   ]
  },
  {
   "cell_type": "markdown",
   "metadata": {},
   "source": [
    "However, a really elegant solution becomes possible if we use the *Index Of* primitive and the concept of changing the frame of reference we discussed previously (cf. [Changing The Frame of Reference](./Some-Primitive-Functions.ipynb#Changing-The-Frame-of-Reference)). We used this concept to convert lower case letters into upper case letters."
   ]
  },
  {
   "cell_type": "code",
   "execution_count": 224,
   "metadata": {},
   "outputs": [],
   "source": [
    "]dinput\n",
    "Switch2 ← {\n",
    "    pos ← (⍺,⍵)⍳⍵\n",
    "    (⍺[2 1],⍵)[pos]\n",
    "}"
   ]
  },
  {
   "cell_type": "code",
   "execution_count": 225,
   "metadata": {},
   "outputs": [
    {
     "data": {
      "text/html": [
       "<span style=\"white-space:pre; font-family: monospace\">A berd en thi hand es worth two en thi bush\n",
       "</span>"
      ]
     },
     "execution_count": 225,
     "metadata": {},
     "output_type": "execute_result"
    }
   ],
   "source": [
    "'ei' Switch2 'A bird in the hand is worth two in the bush'"
   ]
  },
  {
   "cell_type": "markdown",
   "metadata": {},
   "source": [
    "What exactly is happening? Well, we are basically establishing the initial and final sets (as seen in [Changing The Frame of Reference](./Some-Primitive-Functions.ipynb#Changing-The-Frame-of-Reference)) as the sentence itself, but preceded by the two characters. For the initial set, we have them in their input order (the `(⍺,⍵)` above) but for the final set we swap them (the `⍺[2 1],⍵` above).\n",
    "\n",
    "This establishes the following \"conversion\":\n",
    "\n",
    "```\n",
    "eiA bird in the hand is worth two in the bush\n",
    "ieA bird in the hand is worth two in the bush\n",
    "```\n",
    "\n",
    "Whenever I have a character, I look for it in the first line, stopping as soon as I find it (that is what `⍳` does) and then I swap it with the corresponding character in the line below.\n",
    "\n",
    "We can thus re-implement `Switch2` with more intermediate steps, to make this more obvious:"
   ]
  },
  {
   "cell_type": "code",
   "execution_count": 226,
   "metadata": {},
   "outputs": [],
   "source": [
    "]dinput\n",
    "Switch2 ← {\n",
    "    ⎕← initialSet ← ⍺,⍵\n",
    "    pos ← initialSet⍳⍵\n",
    "    ⎕← finalSet ← ⍺[2 1],⍵\n",
    "    finalSet[pos]\n",
    "}"
   ]
  },
  {
   "cell_type": "code",
   "execution_count": 227,
   "metadata": {},
   "outputs": [
    {
     "data": {
      "text/html": [
       "<span style=\"white-space:pre; font-family: monospace\">eiA bird in the hand is worth two in the bush\n",
       "ieA bird in the hand is worth two in the bush\n",
       "A berd en thi hand es worth two en thi bush\n",
       "</span>"
      ]
     },
     "execution_count": 227,
     "metadata": {},
     "output_type": "execute_result"
    }
   ],
   "source": [
    "'ei' Switch2 'A bird in the hand is worth two in the bush'"
   ]
  },
  {
   "cell_type": "code",
   "execution_count": null,
   "metadata": {},
   "outputs": [],
   "source": []
  }
 ],
 "metadata": {
  "kernelspec": {
   "display_name": "Dyalog APL",
   "language": "apl",
   "name": "dyalog-kernel"
  },
  "language_info": {
   "file_extension": ".apl",
   "mimetype": "text/apl",
   "name": "APL"
  },
  "toc": {
   "base_numbering": 1,
   "nav_menu": {},
   "number_sections": false,
   "sideBar": true,
   "skip_h1_title": true,
   "title_cell": "Table of Contents",
   "title_sidebar": "Contents",
   "toc_cell": false,
   "toc_position": {},
   "toc_section_display": true,
   "toc_window_display": false
  }
 },
 "nbformat": 4,
 "nbformat_minor": 4
}
