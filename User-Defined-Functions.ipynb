{
 "cells": [
  {
   "cell_type": "markdown",
   "metadata": {},
   "source": [
    "# User Defined Functions\n",
    "\n",
    "## Landmarks\n",
    "\n",
    "### Some Definitions\n",
    "\n",
    "In previous chapters we made a distinction between the functions and operators which are part of APL, like `+`, `×`, `⌈` and `/` (we refer to them as *primitives*), and those functions and operators that are created by the user which are represented, not by a symbol, but by a name like `Average` (we say they are *user-defined*).\n",
    "\n",
    "We also made an important distinction between *functions*, which apply to data and which return data, and *operators*, which apply to functions or data and produce *derived* functions (see [the definition of Reduce](./Some-Primitive-Functions.ipynb#Definition)).\n",
    "\n",
    "This means that we can distinguish between 4 major categories of processing tools:\n",
    "\n",
    "| Category | Name | Examples | Refer to |\n",
    "| :- | :- | :-: | :-: |\n",
    "| Built-in tools | Primitive functions | `+` `×` `⌈` `⍴` | Previous chapters |\n",
    "| | Primitive operators | `/` | [Chapter on Operators](./Operators.ipynb) |\n",
    "| User-defined tools | **User-defined functions** | `Average` | This chapter |\n",
    "| | User-defined operators | | [Section on User-Defined Operators](./Operators.ipynb#User-Defined-Operators) |\n",
    "\n",
    "This chapter is devoted to user-defined *functions*. The subject of user-defined *operators* will be covered later.\n",
    "\n",
    "We can further categorise user-defined functions according to the way they process data. Firstly we can distinguish between ***Direct*** and ***Procedural*** **functions**.\n",
    "\n",
    " - ***Direct*** functions (commonly referred to as ***dfns***) are defined in a very formal manner.\n",
    "   - They are usually designed for pure calculation, without any external or user interfaces. *Dfns* do not allow loops except by recursion and have limited options for conditional programming.\n",
    "   \n",
    " - ***Procedural*** functions (commonly referred to as ***tradfns***, short for *traditional functions*) are less formal and look much more like programs written in other languages.\n",
    "   - They provide greater flexibility for building major applications which involve user interfaces, access to files or databases and other external interfaces. *Tradfns* may take no arguments and behave like scripts.\n",
    "   \n",
    "Even though you may write entire systems with dfns, you might prefer to restrict their use to encapsulate statements that, together, perform some meaningful operation on the data given.\n",
    "\n",
    "The second distinction we can make concerns the number of arguments a user-defined function can have.\n",
    "\n",
    " - ***Dyadic*** functions take two arguments which are placed on either side of the function (`X f Y`);\n",
    " - ***Monadic*** functions take a single argument which is placed to the right of the function (`f Y`);\n",
    " - ***Niladic*** functions take no argument at all;\n",
    " - ***Ambivalent*** functions are dyadic functions whose left argument is optional."
   ]
  },
  {
   "cell_type": "markdown",
   "metadata": {},
   "source": [
    "### Configure Your Environment\n",
    "\n",
    "Dyalog APL has a highly configurable development and debugging environment, designed to fit the requirements of very different kinds of programmers. This environment is controlled by configuration parameters; let us determine which context will suit you best.\n",
    "\n",
    "#### What Do You Need?\n",
    "\n",
    "All you need (except for love) is:\n",
    "\n",
    " - a window in which to type expressions that you want to be executed (white Session window);\n",
    " - one or more windows in which to create/modify user-defined functions (grey Edit windows);\n",
    " - one or more windows to debug execution errors (black Trace window).\n",
    " \n",
    "The colours above refer to the positions of the windows in <!--figure-->the figures below<!--IDE_Window_Layout,IDE_Window_Horizontal_Layout,IDE_Floating_Window_Layout-->.\n",
    "\n",
    "The default configuration is consistent with other software development tools and in it is possible to divide the session window into three parts which can be resized, as shown in <!--figure-->here<!--IDE_Window_Layout-->:\n",
    "\n",
    "![The default window configuration](res/IDE_Window_Layout.png)\n",
    "\n",
    "This configuration provides a single Edit window and a single Trace window, each of which is \"docked\" along one of the Session window borders. You can dock these windows along any of the Session window sides. For example, <!--figure-->the figure below<!--IDE_Window_Horizontal_Layout--> shows a configuration with three horizontal panes, highly suitable for entering and editing very long statements.\n",
    "\n",
    "![The Edit and Trace windows in a horizontal layout](res/IDE_Window_Horizontal_Layout.png)\n",
    "\n",
    "The Edit window supports the *Multiple Document Interface* (MDI). This means that you can work on more than one function at a time.\n",
    "\n",
    " - On the Windows interpreter you can use the \"Window\" menu to *Tile* and *Cascade*, or you can maximise any one of the functions to concentrate solely upon it.\n",
    " - If you are using RIDE the default behaviour is to open a tab per item you are editing.\n",
    " \n",
    "If you are working on a relatively small screen you may find that you prefer to work with \"floating\" windows in a layout similar to the one in <!--figure-->here<!--IDE_Floating_Window_Layout-->:\n",
    "\n",
    "![\"floating\" windows layout](res/IDE_Floating_Window_Layout.png)\n",
    "\n",
    " - On the Windows interpreter, you can either\n",
    "   - grab the border of a sub-window (Edit or Trace) and then drag and drop it in the middle of the session window, as an independent floating window,\n",
    "   - or enable the \"Classic Dyalog mode\", which can be set under \"Options\" ⇨ \"Configure...\" ⇨ \"Trace/Edit\" as shown in <!--figure-->the figure below<!--IDE_Configure_Classic_Mode-->.\n",
    "\n",
    "![Option to set \"Classic Dyalog mode\"](res/IDE_Configure_Classic_Mode.png)\n",
    "\n",
    " - If you are using RIDE you can go to \"Edit\" ⇨ \"Preferences\" ⇨ \"Windows\" and enable \"Floating windows\" as shown in <!--figure-->the next figure<!--RIDE_Configure_Floating_Windows-->:\n",
    " \n",
    "![Enable \"floating\" windows in RIDE](res/RIDE_Configure_Floating_Windows.png)\n",
    "\n",
    "Working with floating windows has the added benefit of allowing you to have a stack of trace windows (as opposed to a single trace window), showing which functions call which other. This will be explored in [the section on configuring the trace tools](./First-Aid-Kit.ipynb#Choose-Your-Configuration)."
   ]
  },
  {
   "cell_type": "markdown",
   "metadata": {},
   "source": [
    "#### A Text Editor; What For?\n",
    "\n",
    "Some dfns can be defined by a single expression and so are easy to define inside the session. We used this technique before to define a function named `Average` and here we do it again:"
   ]
  },
  {
   "cell_type": "code",
   "execution_count": 1,
   "metadata": {},
   "outputs": [],
   "source": [
    "Average ← {(+/⍵)÷≢⍵}"
   ]
  },
  {
   "cell_type": "markdown",
   "metadata": {},
   "source": [
    "However, as one defines more complex functions, it can become more complicated to define dfns in the session window.\n",
    "\n",
    "For one, the ability to define multi-line dfns in the session was only made available with Dyalog 18.0. In these notebooks you can see that multi-line dfns are defined in cells that start with `]dinput`:"
   ]
  },
  {
   "cell_type": "code",
   "execution_count": 2,
   "metadata": {},
   "outputs": [],
   "source": [
    "]dinput\n",
    "Average ← {\n",
    "    (+/⍵)÷≢⍵\n",
    "}"
   ]
  },
  {
   "cell_type": "markdown",
   "metadata": {},
   "source": [
    "In the Windows interpreter an expression like the one above might result in a `SYNTAX ERROR`, as you type `Average ← {`, then hit <kbd>Enter</kbd> to change line, and then the interpreter tries to execute the line you entered, instead of allowing you to continue the definition of `Average`. To change this behaviour and allow for multi-line dfns, you can go to \"Options\" &#8680; \"Configure...\" &#8680; \"Session\" and check the experimental multi-line input box at the bottom.\n",
    "\n",
    "If you are using RIDE and this capability is not ON by default, you can turn it ON by setting the `DYALOG_LINEEDITOR_MODE` environment variable to `1` in the connection menu, like demonstrated in <!--figure-->the next figure<!--RIDE_Enable_Multiline_Input-->.\n",
    "\n",
    "![Configuring RIDE to allow for multi-line input](res/RIDE_Enable_Multiline_Input.png)"
   ]
  },
  {
   "cell_type": "markdown",
   "metadata": {},
   "source": [
    "Secondly, even if multi-line input is enabled, you have to be very careful not to press <kbd>Enter</kbd> and ***fix*** the dfn by mistake. This is not a terrible blunder but it does lose some time and breaks your train of thought. In APL, to ***fix*** a file means to define the variables (data, functions and operators) in the file and to make them available in the session. Hence, to fix a function means assigning it to a name and making it available for use in the session window.\n",
    "\n",
    "For these reasons, it is more appropriate to edit multi-line dfns and tradfns in a suitable text editor. The built-in editors for the Windows interpreter and for RIDE are likely to be suitable for you, but other alternatives exist. You can find an enumeration of most of the available alternatives over at [the APL Wiki](https://aplwiki.com/wiki/Text_editors). We will also cover this in more depth in [the chapter about source code management](./Source-Code-Management.ipynb)."
   ]
  },
  {
   "cell_type": "markdown",
   "metadata": {},
   "source": [
    "## Simple Dfns\n",
    "\n",
    "### Definition\n",
    "\n",
    "Dfns are a set of statements enclosed by curly braces `{}`, so a simple dfn is typically created with the syntax `Name ← { definition }` where\n",
    "\n",
    " - `Name` is the function name. It is followed by a definition, delimited by a pair of curly braces `{` and `}`. This definition may make use of one or two variables named `⍵` and `⍺`, which represent the values to be processed. `⍵` and `⍺` are called ***arguments*** of the function;\n",
    " - `⍵` (<kbd>APL</kbd>+<kbd>w</kbd>) is a generic symbol which represents the right argument of the function;\n",
    " - `⍺` (<kbd>APL</kbd>+<kbd>a</kbd>) is a generic symbol which represents the left argument if the function is dyadic.\n",
    " \n",
    "Here is an example monadic dfn:"
   ]
  },
  {
   "cell_type": "code",
   "execution_count": 3,
   "metadata": {},
   "outputs": [],
   "source": [
    "Average ← {(+/⍵)÷(≢⍵)}"
   ]
  },
  {
   "cell_type": "markdown",
   "metadata": {},
   "source": [
    "And here are two more dyadic dfns, and an example showing how they can be used:"
   ]
  },
  {
   "cell_type": "code",
   "execution_count": 4,
   "metadata": {},
   "outputs": [
    {
     "data": {
      "text/html": [
       "<span style=\"white-space:pre; font-family: monospace\">48\n",
       "</span>"
      ]
     },
     "execution_count": 4,
     "metadata": {},
     "output_type": "execute_result"
    }
   ],
   "source": [
    "Plus ← {⍺ + ⍵}\n",
    "Times ← {⍺ × ⍵}\n",
    "3 Times 7 Plus 9"
   ]
  },
  {
   "cell_type": "markdown",
   "metadata": {},
   "source": [
    "Notice the final statement above is strictly equivalent to"
   ]
  },
  {
   "cell_type": "code",
   "execution_count": 5,
   "metadata": {},
   "outputs": [
    {
     "data": {
      "text/html": [
       "<span style=\"white-space:pre; font-family: monospace\">48\n",
       "</span>"
      ]
     },
     "execution_count": 5,
     "metadata": {},
     "output_type": "execute_result"
    }
   ],
   "source": [
    "3 × 7 + 9"
   ]
  },
  {
   "cell_type": "markdown",
   "metadata": {},
   "source": [
    "as the order of evaluation is the same.\n",
    "\n",
    "The arguments `⍵` and `⍺` are read-only (they cannot be reassigned) and are limited in scope to only being visible within the function itself. The only exception to the \"read-only rule\" is when providing a default left argument to the dfn, which we'll cover in [a bit](#Default-Left-Argument).\n",
    "\n",
    "The developer does not need to declare anything about the shape or internal representation of the arguments and the result. This information is automatically obtained from the arrays provided as its arguments. This is similar to the behaviour of dynamically typed programming languages, such as Python or Javascript. So, our functions can work on any arrays.\n",
    "\n",
    "A scalar added to a matrix returns a matrix. No need to specify it:"
   ]
  },
  {
   "cell_type": "code",
   "execution_count": 6,
   "metadata": {},
   "outputs": [
    {
     "data": {
      "text/html": [
       "<span style=\"white-space:pre; font-family: monospace\">13 14 15\n",
       "16 17 18\n",
       "</span>"
      ]
     },
     "execution_count": 6,
     "metadata": {},
     "output_type": "execute_result"
    }
   ],
   "source": [
    "12 Plus 2 3⍴⍳6"
   ]
  },
  {
   "cell_type": "markdown",
   "metadata": {},
   "source": [
    "And a vector of integer numbers multiplied by a scalar fractional number returns a vector of fractional numbers:"
   ]
  },
  {
   "cell_type": "code",
   "execution_count": 7,
   "metadata": {},
   "outputs": [
    {
     "data": {
      "text/html": [
       "<span style=\"white-space:pre; font-family: monospace\">73 248.2 379.6 116.8\n",
       "</span>"
      ]
     },
     "execution_count": 7,
     "metadata": {},
     "output_type": "execute_result"
    }
   ],
   "source": [
    "7.3 Times 10 34 52 16"
   ]
  },
  {
   "cell_type": "markdown",
   "metadata": {},
   "source": [
    "These simple dfns are well suited for pure calculations of straightforward array manipulation. For example, here is how we can calculate the hypotenuse of a right-angled triangle from the lengths of the two other sides:"
   ]
  },
  {
   "cell_type": "code",
   "execution_count": 8,
   "metadata": {},
   "outputs": [
    {
     "data": {
      "text/html": [
       "<span style=\"white-space:pre; font-family: monospace\">5\n",
       "</span>"
      ]
     },
     "execution_count": 8,
     "metadata": {},
     "output_type": "execute_result"
    }
   ],
   "source": [
    "Hypo ← {(+/⍵*2)*0.5}\n",
    "Hypo 3 4"
   ]
  },
  {
   "cell_type": "code",
   "execution_count": 9,
   "metadata": {},
   "outputs": [
    {
     "data": {
      "text/html": [
       "<span style=\"white-space:pre; font-family: monospace\">13\n",
       "</span>"
      ]
     },
     "execution_count": 9,
     "metadata": {},
     "output_type": "execute_result"
    }
   ],
   "source": [
    "Hypo 12 5"
   ]
  },
  {
   "cell_type": "markdown",
   "metadata": {},
   "source": [
    "### Unnamed Dfns\n",
    "\n",
    "A dfn can be defined and then discarded immediately after it has been used, in which case it does not need a name. For example, the geometric mean of a set of $N$ values is defined as the $N^\\text{th}$ root of their product. The function can be defined and used inline like this:"
   ]
  },
  {
   "cell_type": "code",
   "execution_count": 10,
   "metadata": {},
   "outputs": [
    {
     "data": {
      "text/html": [
       "<span style=\"white-space:pre; font-family: monospace\">7.8657\n",
       "</span>"
      ]
     },
     "execution_count": 10,
     "metadata": {},
     "output_type": "execute_result"
    }
   ],
   "source": [
    "{(×/⍵)*÷≢⍵} 6 8 4 11 9 14 7"
   ]
  },
  {
   "cell_type": "markdown",
   "metadata": {},
   "source": [
    "But because we didn't assign it to a name, it was discarded after being used and can't be used again. This kind of function is similar to *inline* or *lambda* functions in other languages.\n",
    "\n",
    "A special case is `{}`. This function does nothing but placed at the left of an expression, it can be used to prevent the result of the expression from being displayed on the screen:"
   ]
  },
  {
   "cell_type": "code",
   "execution_count": 11,
   "metadata": {},
   "outputs": [
    {
     "data": {
      "text/html": [
       "<span style=\"white-space:pre; font-family: monospace\">6\n",
       "</span>"
      ]
     },
     "execution_count": 11,
     "metadata": {},
     "output_type": "execute_result"
    }
   ],
   "source": [
    "3 Plus 3"
   ]
  },
  {
   "cell_type": "code",
   "execution_count": 12,
   "metadata": {},
   "outputs": [],
   "source": [
    "{} 3 Plus 3"
   ]
  },
  {
   "cell_type": "markdown",
   "metadata": {},
   "source": [
    "### Modifying The Code\n",
    "\n",
    "Single line dfns may be modified using the function editor, as will be explained in the next section. They can also be redefined entirely, as many times as necessary, as shown:"
   ]
  },
  {
   "cell_type": "code",
   "execution_count": 13,
   "metadata": {},
   "outputs": [],
   "source": [
    "Magic ← {⍺+⍵}"
   ]
  },
  {
   "cell_type": "code",
   "execution_count": 14,
   "metadata": {},
   "outputs": [],
   "source": [
    "Magic ← {⍺÷+/⍵}"
   ]
  },
  {
   "cell_type": "code",
   "execution_count": 15,
   "metadata": {},
   "outputs": [],
   "source": [
    "Magic ← {(+/⍺)-(+/⍵)}"
   ]
  },
  {
   "cell_type": "markdown",
   "metadata": {},
   "source": [
    "We defined `Magic` and then changed it twice. Only the most recent definition will survive.\n",
    "\n",
    "Now we will delve into how to define and use more complex dfns. For this we will explore the built-in editor that comes with your interpreter and you will also learn some more syntax to empower your dfns."
   ]
  },
  {
   "cell_type": "markdown",
   "metadata": {},
   "source": [
    "## More on Dfns\n",
    "\n",
    "The dfns we wrote in the previous section were very simple and consisted of a single statement. We will now use the text editor to define multi-line dfns.\n",
    "\n",
    "### Characteristics\n",
    "\n",
    " - Generally, the opening and closing braces are placed alone on the first and last lines. This is not mandatory, it is just a convention;\n",
    " - dfns might be commented at will;\n",
    " - one can create as many variables as needed: they are automatically deemed to be local variables, which means they only exist while inside the dfn. Note that this is opposite to the default behaviour of tradfns, where all variables are global (cf. [this subsection on dfns](#Local-Variables) and [this subsection on tradfns](#Local-Names));\n",
    " - the arguments `⍵` and `⍺` retain the values passed to them as arguments and may not be changed. Any attempt to modify them causes a `SYNTAX ERROR` to be reported, except when *defaulting the left argument* (cf. [the subsection on \"Default Left Argument\"](#Default-Left-Argument));\n",
    " - as soon as an expression generates a result that is not assigned to a name or used in any other way, the function terminates, and the value of that expression is returned as the result of the function. If the function contains more lines they will not be executed (cf. [the subsection on \"Returning the Result\"](#Returning-a-Result));\n",
    " - traditional *control structures* and *branching* cannot be used in dfns (cf. [the subsection on \"Guards\"](#Guards)).\n",
    " \n",
    "We will explore these characteristics in the following sections."
   ]
  },
  {
   "cell_type": "markdown",
   "metadata": {},
   "source": [
    "### A Working Example\n",
    "\n",
    "As an example, let us see how we could define a function to calculate the *harmonic mean* of a vector of numbers. The harmonic mean of a vector is the inverse of the sum of the inverses of the numbers in the vector. This will become clearer when you see the code.\n",
    "\n",
    "First of all, we must choose a name for our new function. We will choose to name it `HarmonicMean`.\n",
    "\n",
    "Among the multiple ways of invoking the text editor, let us use a very simple one: type the command `)ED` followed by a space and the name of the function to create: `)ED HarmonicMean`.\n",
    "\n",
    "Unless you already redefined the defaults, a mostly empty window should open to the right of the session. We include an example screenshot of such a window from the Windows interpreter in <!--figure-->the figure below<!--Win_Editor-->:\n",
    "\n",
    "![The edit window opened by the command `)ED HarmonicMean`](res/Win_Editor.png)\n",
    "\n",
    "Now that we have a window in which to define our dfn, we can go ahead and implement the harmonic mean. We shall split the process into a series of simple steps, as shown in <!--figure-->the next figure<!--Win_Editor_Harmonic_Mean-->: calculate the inverses, sum them, invert the sum.\n",
    "\n",
    "![The `HarmonicMean` function defined in the edit window](res/Win_Editor_Harmonic_Mean.png)\n",
    "\n",
    "We also define it in this notebook:"
   ]
  },
  {
   "cell_type": "code",
   "execution_count": 16,
   "metadata": {},
   "outputs": [],
   "source": [
    "]dinput\n",
    "HarmonicMean ← {\n",
    "    inverses ← ÷⍵\n",
    "    sum ← +/inverses\n",
    "    ÷sum\n",
    "}"
   ]
  },
  {
   "cell_type": "markdown",
   "metadata": {},
   "source": [
    "Now that we know how to compute the harmonic mean of a vector of numbers, we just have to ***fix*** it so that we can use it in our session. ***Fixing*** a function is somewhat analogous to compilation in other programming languages, but can also be seen as a sort of \"File save\" followed by an \"import\" in interpreted languages. There are many ways to fix a function:\n",
    "\n",
    "| Interpreter | *Fix* method |\n",
    "| :- | :- |\n",
    "| Windows interpreter | go to \"File\" &#8680; \"Fix\" |\n",
    "| RIDE | right-click the edit window &#8680; \"Fix\" |\n",
    "| both | press <kbd>Esc</kbd> (also closes the edit window) |\n",
    "| both | define a custom keyboard shortcut |\n",
    "\n",
    "Following one of the appropriate methods should make the `HarmonicMean` function available for use in the session window. You can make sure it worked by simply typing in the name of the function and pressing <kbd>Enter</kbd> in the session:"
   ]
  },
  {
   "cell_type": "code",
   "execution_count": 17,
   "metadata": {},
   "outputs": [
    {
     "data": {
      "text/html": [
       "<span style=\"white-space:pre; font-family: monospace\">{                  \n",
       "     inverses←÷⍵   \n",
       "     sum←+/inverses\n",
       "     ÷sum          \n",
       " }                 \n",
       "</span>"
      ]
     },
     "execution_count": 17,
     "metadata": {},
     "output_type": "execute_result"
    }
   ],
   "source": [
    "HarmonicMean"
   ]
  },
  {
   "cell_type": "markdown",
   "metadata": {},
   "source": [
    "If instead of getting the source code of the function you get a `VALUE ERROR`, then the function wasn't properly fixed.\n",
    "\n",
    "Now that we can compute the harmonic mean of a vector of numbers, we can answer questions like the following:\n",
    "\n",
    "\"*If I take 6 hours to paint a wall and you take 2 hours, how much time will we need to paint the wall if we do it together?*\"\n",
    "\n",
    "This type of question can be answered by taking the harmonic mean of the individual times:"
   ]
  },
  {
   "cell_type": "code",
   "execution_count": 18,
   "metadata": {},
   "outputs": [
    {
     "data": {
      "text/html": [
       "<span style=\"white-space:pre; font-family: monospace\">1.5\n",
       "</span>"
      ]
     },
     "execution_count": 18,
     "metadata": {},
     "output_type": "execute_result"
    }
   ],
   "source": [
    "HarmonicMean 6 2"
   ]
  },
  {
   "cell_type": "markdown",
   "metadata": {},
   "source": [
    "So the two of us would take 1h30min to paint the whole wall.\n",
    "\n",
    "Similarly, if we had further help from two people who could paint the whole wall in 4 and 5 hours, respectively, the four of us would need"
   ]
  },
  {
   "cell_type": "code",
   "execution_count": 19,
   "metadata": {},
   "outputs": [
    {
     "data": {
      "text/html": [
       "<span style=\"white-space:pre; font-family: monospace\">0.895522\n",
       "</span>"
      ]
     },
     "execution_count": 19,
     "metadata": {},
     "output_type": "execute_result"
    }
   ],
   "source": [
    "times ← 6 2 4 5\n",
    "⊢hours ← HarmonicMean times"
   ]
  },
  {
   "cell_type": "markdown",
   "metadata": {},
   "source": [
    "hours, or approximately"
   ]
  },
  {
   "cell_type": "code",
   "execution_count": 20,
   "metadata": {},
   "outputs": [
    {
     "data": {
      "text/html": [
       "<span style=\"white-space:pre; font-family: monospace\">53\n",
       "</span>"
      ]
     },
     "execution_count": 20,
     "metadata": {},
     "output_type": "execute_result"
    }
   ],
   "source": [
    "⌊60×hours"
   ]
  },
  {
   "cell_type": "markdown",
   "metadata": {},
   "source": [
    "minutes."
   ]
  },
  {
   "cell_type": "markdown",
   "metadata": {},
   "source": [
    "After using your function for a bit you realise it is over-complicated, in the sense that it involves too many intermediate steps and you wish to get rid of those. If your edit window is still open, you can simply edit the function and fix it again. If the edit window was closed, you can type `)ED HarmonicMean` again or you can double-click the name `HarmonicMean` in the session. Both options will open the appropriate edit window.\n",
    "\n",
    "After having done so, perhaps you rewrite your function to"
   ]
  },
  {
   "cell_type": "code",
   "execution_count": 21,
   "metadata": {},
   "outputs": [],
   "source": [
    "]dinput\n",
    "HarmonicMean ← {\n",
    "    inverses ← ÷⍵\n",
    "    ÷+/inverses\n",
    "}"
   ]
  },
  {
   "cell_type": "markdown",
   "metadata": {},
   "source": [
    "Then you fix it and use it again a couple of times:"
   ]
  },
  {
   "cell_type": "code",
   "execution_count": 22,
   "metadata": {},
   "outputs": [
    {
     "data": {
      "text/html": [
       "<span style=\"white-space:pre; font-family: monospace\">0.895522\n",
       "</span>"
      ]
     },
     "execution_count": 22,
     "metadata": {},
     "output_type": "execute_result"
    }
   ],
   "source": [
    "HarmonicMean times"
   ]
  },
  {
   "cell_type": "code",
   "execution_count": 23,
   "metadata": {},
   "outputs": [
    {
     "name": "stderr",
     "output_type": "stream",
     "text": [
      "DOMAIN ERROR: Divide by zero\n",
      "HarmonicMean[1] inverses←÷⍵\n",
      "                         ∧\n"
     ]
    }
   ],
   "source": [
    "HarmonicMean 4 3 2 1 0"
   ]
  },
  {
   "cell_type": "markdown",
   "metadata": {},
   "source": [
    "But now it resulted in an error, and the error messages says `HarmonicMean[1] inverses←÷⍵`. This `HarmonicMean[1]` means the error was in line 1 of the `HarmonicMean` function. Right next to it, it also shows the part of the code that caused the error, but supposed you had a really long file, perhaps with multiple functions. How would you find the appropriate line in the first place?\n",
    "\n",
    "Thankfully, both RIDE and the Windows interpreter have an option that can be set to display line numbers (cf. <!--figure-->the figure below<!--Editors_Toggle_Line_Numbers-->).\n",
    "\n",
    "![Option to toggle line numbers in RIDE (to the right) and the Windows interpreter (to the left)](res/Editors_Toggle_Line_Numbers.png)\n",
    "\n"
   ]
  },
  {
   "cell_type": "markdown",
   "metadata": {},
   "source": [
    "Different people like to comment their code in different ways, and naturally dfns can be commented. For illustrative purposes, consider the dfn that follows, which has comments before any statement, inline with some statements, between the statements and at the end of the dfn:"
   ]
  },
  {
   "cell_type": "code",
   "execution_count": 24,
   "metadata": {},
   "outputs": [],
   "source": [
    "]dinput\n",
    "HarmonicMean ← {\n",
    "    ⍝ Monadic function to compute the harmonic mean of a vector\n",
    "    inverses ← ÷⍵   ⍝ This inverts the numbers in the argument\n",
    "    ⍝ and then\n",
    "    ÷+/inverses     ⍝ we sum those inverses and return them.\n",
    "    ⍝ Of course this will give an error if 0 is in the input argument.\n",
    "}"
   ]
  },
  {
   "cell_type": "markdown",
   "metadata": {},
   "source": [
    "The comments do *not* affect the behaviour of the function:"
   ]
  },
  {
   "cell_type": "code",
   "execution_count": 25,
   "metadata": {},
   "outputs": [
    {
     "data": {
      "text/html": [
       "<span style=\"white-space:pre; font-family: monospace\">0.895522\n",
       "</span>"
      ]
     },
     "execution_count": 25,
     "metadata": {},
     "output_type": "execute_result"
    }
   ],
   "source": [
    "HarmonicMean times"
   ]
  },
  {
   "cell_type": "markdown",
   "metadata": {},
   "source": [
    "### Local Variables\n",
    "\n",
    "Notice that our `HarmonicMean` function makes use of an intermediate variable, `inverses`. Let us check its value:"
   ]
  },
  {
   "cell_type": "code",
   "execution_count": 26,
   "metadata": {},
   "outputs": [
    {
     "name": "stderr",
     "output_type": "stream",
     "text": [
      "VALUE ERROR: Undefined name: inverses\n",
      "      inverses\n",
      "      ∧\n"
     ]
    }
   ],
   "source": [
    "inverses"
   ]
  },
  {
   "cell_type": "markdown",
   "metadata": {},
   "source": [
    "We got a `VALUE ERROR` because `inverses` isn't defined. It is a ***local variable***, that is, a variable that lives within the dfn only while the dfn is being executed. As soon as we exit the dfn the variable stops existing.\n",
    "\n",
    "The notion of *local* variable is opposed to the notion of ***global variable***, which is a variable that lives in the session and thus can be accessed from anywhere. Useful global variables are functions themselves, because defining them globally means they can be used from within other functions.\n",
    "\n",
    "As an example, we already defined the functions `Average` and `HarmonicMean` in the session. Let us now define a dfn named `AMHM` that checks empirically a mathematical theorem: that the arithmetic mean is always larger than or equal to the harmonic mean of a set of numbers:"
   ]
  },
  {
   "cell_type": "code",
   "execution_count": 27,
   "metadata": {},
   "outputs": [],
   "source": [
    "]dinput\n",
    "AMHM ← {\n",
    "    am ← Average ⍵\n",
    "    hm ← HarmonicMean ⍵\n",
    "    am ≥ hm\n",
    "}"
   ]
  },
  {
   "cell_type": "code",
   "execution_count": 28,
   "metadata": {},
   "outputs": [
    {
     "data": {
      "text/html": [
       "<span style=\"white-space:pre; font-family: monospace\">1\n",
       "</span>"
      ]
     },
     "execution_count": 28,
     "metadata": {},
     "output_type": "execute_result"
    }
   ],
   "source": [
    "AMHM ⍳6"
   ]
  },
  {
   "cell_type": "code",
   "execution_count": 29,
   "metadata": {},
   "outputs": [
    {
     "data": {
      "text/html": [
       "<span style=\"white-space:pre; font-family: monospace\">1\n",
       "</span>"
      ]
     },
     "execution_count": 29,
     "metadata": {},
     "output_type": "execute_result"
    }
   ],
   "source": [
    "AMHM times"
   ]
  },
  {
   "cell_type": "markdown",
   "metadata": {},
   "source": [
    "Notice how the definition of `AMHM` uses both the `Average` and `HarmonicMean` dfns without defining them inside `AMHM`. This works because they were previously defined in the session.\n",
    "\n",
    "For larger applications, proper source code management is needed and you should make sure the functions `Average` and `HarmonicMean` have been fixed when you use them inside `AMHM`, but for illustrative purposes this is absolutely fine."
   ]
  },
  {
   "cell_type": "markdown",
   "metadata": {},
   "source": [
    "### Default Left Argument\n",
    "\n",
    "It was mentioned above that the values of `⍺` and `⍵`, the variables that represent the arguments to a dfn, cannot be assigned to. The only exception to this is when specifying a default left argument. This is relevant because a dyadic dfn can always be used monadically, as from the syntactic point of view its left argument `⍺` is always optional. If the left argument is not present it is possible to assign a default value to `⍺` by means of a normal assignment. If `⍺` is given a value because the dfn was called dyadically, such assignment is skipped.\n",
    "\n",
    "Consider a function which calculates the $N^\\text{th}$ root of a number, but which is normally used to calculate square roots ($N = 2$). You can specify that the default value of the left argument (when omitted) is 2, as follows:"
   ]
  },
  {
   "cell_type": "code",
   "execution_count": 30,
   "metadata": {},
   "outputs": [],
   "source": [
    "]dinput\n",
    "Root ← {\n",
    "    ⍺ ← 2\n",
    "    ⍵*÷⍺\n",
    "}"
   ]
  },
  {
   "cell_type": "markdown",
   "metadata": {},
   "source": [
    "If we don't specify the left argument of `Root`, it computes the square root:"
   ]
  },
  {
   "cell_type": "code",
   "execution_count": 31,
   "metadata": {},
   "outputs": [
    {
     "data": {
      "text/html": [
       "<span style=\"white-space:pre; font-family: monospace\">25\n",
       "</span>"
      ]
     },
     "execution_count": 31,
     "metadata": {},
     "output_type": "execute_result"
    }
   ],
   "source": [
    "Root 625"
   ]
  },
  {
   "cell_type": "markdown",
   "metadata": {},
   "source": [
    "But if we specify `⍺`, then the `⍺ ← 2` assignment is skipped:"
   ]
  },
  {
   "cell_type": "code",
   "execution_count": 32,
   "metadata": {},
   "outputs": [
    {
     "data": {
      "text/html": [
       "<span style=\"white-space:pre; font-family: monospace\">5\n",
       "</span>"
      ]
     },
     "execution_count": 32,
     "metadata": {},
     "output_type": "execute_result"
    }
   ],
   "source": [
    "4 Root 625"
   ]
  },
  {
   "cell_type": "markdown",
   "metadata": {},
   "source": [
    "Because the assignment with `⍺←` is skipped entirely if `⍺` was provided, you should be careful with any side effects the expression to the right of `⍺←` might produce. We illustrate this with the following (silly) example:"
   ]
  },
  {
   "cell_type": "code",
   "execution_count": 33,
   "metadata": {},
   "outputs": [],
   "source": [
    "]dinput\n",
    "Silly ← {\n",
    "    a ← 1        ⍝ This assignment always happens\n",
    "    ⍺ ← a ← 2    ⍝ Not executed if ⍺ already has a value\n",
    "    a            ⍝ Return a\n",
    "}"
   ]
  },
  {
   "cell_type": "code",
   "execution_count": 34,
   "metadata": {},
   "outputs": [
    {
     "data": {
      "text/html": [
       "<span style=\"white-space:pre; font-family: monospace\">2\n",
       "</span>"
      ]
     },
     "execution_count": 34,
     "metadata": {},
     "output_type": "execute_result"
    }
   ],
   "source": [
    "Silly 0"
   ]
  },
  {
   "cell_type": "markdown",
   "metadata": {},
   "source": [
    "Because we didn't provide a left argument, the `⍺ ← a ← 2` line is executed and `a` becomes 2.\n",
    "\n",
    "On the other hand, if we provide a left argument the `⍺ ← a ← 2` line is skipped and `a` remains 1:"
   ]
  },
  {
   "cell_type": "code",
   "execution_count": 35,
   "metadata": {},
   "outputs": [
    {
     "data": {
      "text/html": [
       "<span style=\"white-space:pre; font-family: monospace\">1\n",
       "</span>"
      ]
     },
     "execution_count": 35,
     "metadata": {},
     "output_type": "execute_result"
    }
   ],
   "source": [
    "0 Silly 0"
   ]
  },
  {
   "cell_type": "markdown",
   "metadata": {},
   "source": [
    "As for `⍵`, attempting to assign to `⍵` makes no sense: a dfn is always called monadically *or* dyadically, so the right argument is *always* present. Here's a function that computes the square root of `⍵`, except that first it tries to assign 10 to `⍵`:"
   ]
  },
  {
   "cell_type": "code",
   "execution_count": 36,
   "metadata": {},
   "outputs": [],
   "source": [
    "]dinput\n",
    "RootOf10 ← {\n",
    "    ⍵ ← 10\n",
    "    ⍵*0.5\n",
    "}"
   ]
  },
  {
   "cell_type": "markdown",
   "metadata": {},
   "source": [
    "Simply typing the name of the function shows its code:"
   ]
  },
  {
   "cell_type": "code",
   "execution_count": 37,
   "metadata": {},
   "outputs": [
    {
     "data": {
      "text/html": [
       "<span style=\"white-space:pre; font-family: monospace\">{         \n",
       "     ⍵←10 \n",
       "     ⍵*0.5\n",
       " }        \n",
       "</span>"
      ]
     },
     "execution_count": 37,
     "metadata": {},
     "output_type": "execute_result"
    }
   ],
   "source": [
    "RootOf10"
   ]
  },
  {
   "cell_type": "markdown",
   "metadata": {},
   "source": [
    "And calling it monadically raises an error:"
   ]
  },
  {
   "cell_type": "code",
   "execution_count": 38,
   "metadata": {},
   "outputs": [
    {
     "name": "stderr",
     "output_type": "stream",
     "text": [
      "SYNTAX ERROR\n",
      "RootOf10[1] ⍵←10\n",
      "             ∧\n"
     ]
    }
   ],
   "source": [
    "RootOf10 5"
   ]
  },
  {
   "cell_type": "markdown",
   "metadata": {},
   "source": [
    "### Returning the Result\n",
    "\n",
    "We mentioned above that a dfn executes its statements until the first statement that does not assign its value. Here is a curious dfn with 4 statements:"
   ]
  },
  {
   "cell_type": "code",
   "execution_count": 39,
   "metadata": {},
   "outputs": [],
   "source": [
    "]dinput\n",
    "Count ← {\n",
    "    1\n",
    "    2\n",
    "    3\n",
    "    10÷0\n",
    "}"
   ]
  },
  {
   "cell_type": "markdown",
   "metadata": {},
   "source": [
    "Notice that all four statements are simple. If we run `Count`, what will the result be?"
   ]
  },
  {
   "cell_type": "code",
   "execution_count": 40,
   "metadata": {},
   "outputs": [
    {
     "data": {
      "text/html": [
       "<span style=\"white-space:pre; font-family: monospace\">1\n",
       "</span>"
      ]
     },
     "execution_count": 40,
     "metadata": {},
     "output_type": "execute_result"
    }
   ],
   "source": [
    "Count 73"
   ]
  },
  {
   "cell_type": "markdown",
   "metadata": {},
   "source": [
    "The result we get is 1 because the first statement evaluates to 1 (obviously) and then we do nothing with it, so that is what the dfn returns. It doesn't matter what we wrote afterwards and it doesn't even matter that the very last statement would give a `DOMAIN ERROR`.\n",
    "\n",
    "These superfluous statements should be avoided, as they will sooner or later cause unnecessary confusion.\n",
    "\n",
    "As a basic debugging tool, it is possible to modify statements to display intermediate results:"
   ]
  },
  {
   "cell_type": "code",
   "execution_count": 41,
   "metadata": {},
   "outputs": [],
   "source": [
    "]dinput\n",
    "Count ← {\n",
    "    ⎕←1\n",
    "    ⎕←2\n",
    "    ⎕←3\n",
    "    10÷0\n",
    "}"
   ]
  },
  {
   "cell_type": "code",
   "execution_count": 42,
   "metadata": {},
   "outputs": [
    {
     "name": "stderr",
     "output_type": "stream",
     "text": [
      "1\n",
      "2\n",
      "3\n",
      "DOMAIN ERROR: Divide by zero\n",
      "Count[4] 10÷0\n",
      "           ∧\n"
     ]
    }
   ],
   "source": [
    "Count 73"
   ]
  },
  {
   "cell_type": "markdown",
   "metadata": {},
   "source": [
    "Be careful: by using `⎕←` to display intermediate results, suddenly we are doing _something_ with the superfluous statements and they are all being executed (we even reached the error statement).\n",
    "\n",
    "And even if we remove the statement that gives an error, the function will still return something other than the original 1:"
   ]
  },
  {
   "cell_type": "code",
   "execution_count": 43,
   "metadata": {},
   "outputs": [],
   "source": [
    "]dinput\n",
    "Count ← {\n",
    "    ⎕←1\n",
    "    ⎕←2\n",
    "    3\n",
    "}"
   ]
  },
  {
   "cell_type": "code",
   "execution_count": 44,
   "metadata": {},
   "outputs": [
    {
     "data": {
      "text/html": [
       "<span style=\"white-space:pre; font-family: monospace\">1\n",
       "2\n",
       "3\n",
       "</span>"
      ]
     },
     "execution_count": 44,
     "metadata": {},
     "output_type": "execute_result"
    }
   ],
   "source": [
    "Count 73"
   ]
  },
  {
   "cell_type": "markdown",
   "metadata": {},
   "source": [
    "Now the function returned 3 instead of 1! So always be careful with which statement is actually giving the final result and avoid any extraneous statements."
   ]
  },
  {
   "cell_type": "markdown",
   "metadata": {},
   "source": [
    "## Preliminary exercises\n",
    "\n",
    "You are ready to solve simple problems. We **strongly recommend** that you try to solve all the following exercises before you continue further in this chapter.\n",
    "\n",
    "**Exercise 1**:\n",
    "\n",
    "Write a dyadic function `Extract` which returns the first `⍺` items of any given vector `⍵`."
   ]
  },
  {
   "cell_type": "code",
   "execution_count": 45,
   "metadata": {},
   "outputs": [],
   "source": [
    "Extract ← {}\n",
    "3 Extract 45 86 31 20 75 62 18  ⍝ should give 45 86 31\n",
    "6 Extract 'can you do it?'      ⍝ should give 'can yo'"
   ]
  },
  {
   "cell_type": "markdown",
   "metadata": {},
   "source": [
    "**Exercise 2**:\n",
    "\n",
    "Write a dyadic function which ignores the first `⍺` items of any given vector `⍵` and only returns the remainder:"
   ]
  },
  {
   "cell_type": "code",
   "execution_count": 46,
   "metadata": {},
   "outputs": [],
   "source": [
    "Ignore ← {}\n",
    "3 Ignore 45 86 31 20 75 62 18   ⍝ should give 20 75 62 18\n",
    "6 Ignore 'can you do it?'       ⍝ should give 'u do it?'"
   ]
  },
  {
   "cell_type": "markdown",
   "metadata": {},
   "source": [
    "**Exercise 3**:\n",
    "\n",
    "Write a monadic function which returns the items of a vector in reverse order:"
   ]
  },
  {
   "cell_type": "code",
   "execution_count": 47,
   "metadata": {},
   "outputs": [],
   "source": [
    "Reverse ← {}\n",
    "Reverse 'snoitalutargnoc'       ⍝ should give 'congratulations'\n",
    "Reverse '!ti did uoY'           ⍝ should give 'You did it!'"
   ]
  },
  {
   "cell_type": "markdown",
   "metadata": {},
   "source": [
    "**Exercise 4**:\n",
    "\n",
    "Write a monadic function which appends row and column totals to a numeric matrix.\n",
    "\n",
    "For example, if `mat` is the matrix"
   ]
  },
  {
   "cell_type": "code",
   "execution_count": 137,
   "metadata": {},
   "outputs": [
    {
     "data": {
      "text/html": [
       "<span style=\"white-space:pre; font-family: monospace\">75 14 86 20\n",
       "31 16 40 51\n",
       "22 64 31 28\n",
       "</span>"
      ]
     },
     "execution_count": 137,
     "metadata": {},
     "output_type": "execute_result"
    }
   ],
   "source": [
    "⊢mat ← 3 4⍴75 14 86 20 31 16 40 51 22 64 31 28"
   ]
  },
  {
   "cell_type": "markdown",
   "metadata": {},
   "source": [
    "Then `Totalise mat` should give"
   ]
  },
  {
   "cell_type": "code",
   "execution_count": 138,
   "metadata": {},
   "outputs": [
    {
     "data": {
      "text/html": [
       "<span style=\"white-space:pre; font-family: monospace\"> 75 14  86 20 195\n",
       " 31 16  40 51 138\n",
       " 22 64  31 28 145\n",
       "128 94 157 99 478\n",
       "</span>"
      ]
     },
     "execution_count": 138,
     "metadata": {},
     "output_type": "execute_result"
    }
   ],
   "source": [
    "⊢totMat ← 4 5⍴75 14 86 20 195 31 16 40 51 138 22 64 31 28 145 128 94 157 99 478"
   ]
  },
  {
   "cell_type": "markdown",
   "metadata": {},
   "source": [
    "Notice that `mat` occupies the upper left corner of `totMat`:"
   ]
  },
  {
   "cell_type": "code",
   "execution_count": 139,
   "metadata": {},
   "outputs": [
    {
     "data": {
      "text/html": [
       "<span style=\"white-space:pre; font-family: monospace\">1 1 1 1 0\n",
       "1 1 1 1 0\n",
       "1 1 1 1 0\n",
       "0 0 0 0 0\n",
       "</span>"
      ]
     },
     "execution_count": 139,
     "metadata": {},
     "output_type": "execute_result"
    }
   ],
   "source": [
    "totMat ∊ mat"
   ]
  },
  {
   "cell_type": "markdown",
   "metadata": {},
   "source": [
    "**Exercise 5**:\n",
    "\n",
    "Write a monadic function which returns the lengths of the words contained in a text vector:"
   ]
  },
  {
   "cell_type": "code",
   "execution_count": 51,
   "metadata": {},
   "outputs": [],
   "source": [
    "Lengths ← {}\n",
    "Lengths 'This seems to be a good solution'    ⍝ should give 4 5 2 2 1 4 8"
   ]
  },
  {
   "cell_type": "markdown",
   "metadata": {},
   "source": [
    "**Exercise 6**:\n",
    "\n",
    "Write a dyadic function which produces the series of integer values between the limits given by its two arguments:"
   ]
  },
  {
   "cell_type": "code",
   "execution_count": 52,
   "metadata": {},
   "outputs": [],
   "source": [
    "To ← {}\n",
    "17 To 29    ⍝ should give 17 18 19 20 21 22 23 24 25 26 27 28 29"
   ]
  },
  {
   "cell_type": "markdown",
   "metadata": {},
   "source": [
    "**Exercise 7**:\n",
    "\n",
    "Develop a monadic function which puts a frame around a text matrix. For the first version, just concatenate minus signs above and under the matrix, and vertical bars down both sides. Then, update the function to replace the four corners by four `+` signs. For example, with"
   ]
  },
  {
   "cell_type": "code",
   "execution_count": 140,
   "metadata": {},
   "outputs": [
    {
     "data": {
      "text/html": [
       "<span style=\"white-space:pre; font-family: monospace\">Canberra  \n",
       "Paris     \n",
       "Washington\n",
       "Moscow    \n",
       "Martigues \n",
       "Mexico    \n",
       "</span>"
      ]
     },
     "execution_count": 140,
     "metadata": {},
     "output_type": "execute_result"
    }
   ],
   "source": [
    "⊢towns ← 6 10⍴'Canberra  Paris     WashingtonMoscow    Martigues Mexico    '"
   ]
  },
  {
   "cell_type": "markdown",
   "metadata": {},
   "source": [
    "we want to have `Frame towns` return\n",
    "\n",
    "```\n",
    "+----------+\n",
    "|Canberra  |\n",
    "|Paris     |\n",
    "|Washington|\n",
    "|Moscow    |\n",
    "|Martigues |\n",
    "|Mexico    |\n",
    "+----------+\n",
    "```\n",
    "\n",
    "Finally, you can improve the appearance of the result by changing the function to use line-drawing symbols. You enter line-drawing symbols by using `⎕UCS`: the horizontal and vertical lines are"
   ]
  },
  {
   "cell_type": "code",
   "execution_count": 54,
   "metadata": {},
   "outputs": [
    {
     "data": {
      "text/html": [
       "<span style=\"white-space:pre; font-family: monospace\">─│\n",
       "</span>"
      ]
     },
     "execution_count": 54,
     "metadata": {},
     "output_type": "execute_result"
    }
   ],
   "source": [
    "⎕UCS 9472 9474"
   ]
  },
  {
   "cell_type": "markdown",
   "metadata": {},
   "source": [
    "and the four corners are"
   ]
  },
  {
   "cell_type": "code",
   "execution_count": 55,
   "metadata": {},
   "outputs": [
    {
     "data": {
      "text/html": [
       "<span style=\"white-space:pre; font-family: monospace\">┌┐└┘\n",
       "</span>"
      ]
     },
     "execution_count": 55,
     "metadata": {},
     "output_type": "execute_result"
    }
   ],
   "source": [
    "⎕UCS 9484 9488 9492 9496"
   ]
  },
  {
   "cell_type": "markdown",
   "metadata": {},
   "source": [
    "The final result should look like"
   ]
  },
  {
   "cell_type": "code",
   "execution_count": 56,
   "metadata": {},
   "outputs": [],
   "source": [
    "⍝ ┌──────────┐\n",
    "⍝ │Canberra  │\n",
    "⍝ │Paris     │\n",
    "⍝ │Washington│\n",
    "⍝ │Moscow    │\n",
    "⍝ │Martigues │\n",
    "⍝ │Mexico    │\n",
    "⍝ └──────────┘"
   ]
  },
  {
   "cell_type": "markdown",
   "metadata": {},
   "source": [
    "**Exercise 8**:\n",
    "\n",
    "It is very likely that the function you wrote for the previous exercise works on matrices but not on vectors. Can you make it work on both?\n",
    "\n",
    "For example, `Frame 'We are not out of the wood'` should give"
   ]
  },
  {
   "cell_type": "code",
   "execution_count": 57,
   "metadata": {},
   "outputs": [],
   "source": [
    "⍝ ┌──────────────────────────┐\n",
    "⍝ │We are not out of the wood│\n",
    "⍝ └──────────────────────────┘"
   ]
  },
  {
   "cell_type": "markdown",
   "metadata": {},
   "source": [
    "**Exercise 9**:\n",
    "\n",
    "Write a function which replaces a given letter by another one in a text vector. The letter to replace is given first; the replacing letter is given second, like this:"
   ]
  },
  {
   "cell_type": "code",
   "execution_count": 58,
   "metadata": {},
   "outputs": [],
   "source": [
    "Switch1 ← {}\n",
    "'tc' Switch1 'A bird in the hand is worth two in the bush'\n",
    "⍝ A bird in che hand is worch cwo in che bush"
   ]
  },
  {
   "cell_type": "markdown",
   "metadata": {},
   "source": [
    "**Exercise 10**:\n",
    "\n",
    "Modify the previous function so that it commutes the two letters:"
   ]
  },
  {
   "cell_type": "code",
   "execution_count": 59,
   "metadata": {},
   "outputs": [],
   "source": [
    "Switch2 ← {}\n",
    "'ei' Switch2 'A bird in the hand is worth two in the bush'\n",
    "⍝ A berd en thi hand es worth two en thi bush"
   ]
  },
  {
   "cell_type": "markdown",
   "metadata": {},
   "source": [
    "## Dfns in Depth\n",
    "\n",
    "In this section we will cover a couple of more advanced subtleties about dfns, and then we will move on to learn about tradfns."
   ]
  },
  {
   "cell_type": "markdown",
   "metadata": {},
   "source": [
    "### Guards\n",
    "\n",
    "Previously we said that control structures cannot be used in dfns. However, it is possible to have a dfn conditionally calculate a result, by using a ***Guard***.\n",
    "\n",
    "A *guard* is any expression which generates a one-item Boolean result, followed by a colon.\n",
    "\n",
    "The expression placed to the right of a *guard* is executed only if the *guard* is true. In a dfn, this looks like `guard: expr` and is similar to a\n",
    "\n",
    "```c\n",
    "if (guard) {\n",
    "    return expr;\n",
    "}\n",
    "```\n",
    "\n",
    "of some traditional programming languages.\n",
    "\n",
    "For example, this function will give a result equal to `'Positive'`, `'Zero'` or `'Negative'` if the argument `⍵` is respectively greater than, equal to, or smaller than zero:"
   ]
  },
  {
   "cell_type": "code",
   "execution_count": 1,
   "metadata": {},
   "outputs": [],
   "source": [
    "]dinput\n",
    "Sign ← {\n",
    "    ⍵>0: 'Positive'\n",
    "    ⍵=0: 'Zero'\n",
    "    'Negative'\n",
    "}"
   ]
  },
  {
   "cell_type": "code",
   "execution_count": 2,
   "metadata": {},
   "outputs": [
    {
     "data": {
      "text/html": [
       "<span style=\"white-space:pre; font-family: monospace\">Positive\n",
       "</span>"
      ]
     },
     "execution_count": 2,
     "metadata": {},
     "output_type": "execute_result"
    }
   ],
   "source": [
    "Sign 3"
   ]
  },
  {
   "cell_type": "code",
   "execution_count": 3,
   "metadata": {},
   "outputs": [
    {
     "data": {
      "text/html": [
       "<span style=\"white-space:pre; font-family: monospace\">Negative\n",
       "</span>"
      ]
     },
     "execution_count": 3,
     "metadata": {},
     "output_type": "execute_result"
    }
   ],
   "source": [
    "Sign ¯3.6"
   ]
  },
  {
   "cell_type": "code",
   "execution_count": 5,
   "metadata": {},
   "outputs": [
    {
     "data": {
      "text/html": [
       "<span style=\"white-space:pre; font-family: monospace\">Zero\n",
       "</span>"
      ]
     },
     "execution_count": 5,
     "metadata": {},
     "output_type": "execute_result"
    }
   ],
   "source": [
    "Sign 0"
   ]
  },
  {
   "cell_type": "markdown",
   "metadata": {},
   "source": [
    "### Shy Result\n",
    "\n",
    "Dfns can be written in such a way that they return a ***Shy result***. A *shy result* is a result which is returned, but not displayed by default.\n",
    "\n",
    "Consider a function which deletes a file from disk and returns a result equal to 1 (file deleted) or 0 (file not found). Usually, one doesn't care if the file did not exist, so the result is not needed. But sometimes it may be important to check whether the file really existed and has been removed. So, sometimes a result is useless and sometimes it is useful... this is the reason why shy results have been invented.\n",
    "\n",
    "In a dfn, a shy result happens when the last expression that is evaluated is assigned to a (local) name, as opposed to just leaving the result of the expression unassigned. For this to happen, one has to be careful to leave the closing curly brace `}` next to that final statement, instead of having `}` alone in a new line.\n",
    "\n",
    "Here is the function above, written without guards and with a shy result:"
   ]
  },
  {
   "cell_type": "code",
   "execution_count": 19,
   "metadata": {},
   "outputs": [],
   "source": [
    "Sign ← { s ← (3 8⍴'NegativeZero    Positive')[2+×⍵;] }"
   ]
  },
  {
   "cell_type": "code",
   "execution_count": 20,
   "metadata": {},
   "outputs": [],
   "source": [
    "Sign 3"
   ]
  },
  {
   "cell_type": "code",
   "execution_count": 21,
   "metadata": {},
   "outputs": [],
   "source": [
    "Sign ¯3.6"
   ]
  },
  {
   "cell_type": "code",
   "execution_count": 22,
   "metadata": {},
   "outputs": [
    {
     "data": {
      "text/html": [
       "<span style=\"white-space:pre; font-family: monospace\">Zero    \n",
       "</span>"
      ]
     },
     "execution_count": 22,
     "metadata": {},
     "output_type": "execute_result"
    }
   ],
   "source": [
    "⎕← Sign 0"
   ]
  },
  {
   "cell_type": "markdown",
   "metadata": {},
   "source": [
    "Notice what happens if we were to format `Sign` as we have formatted previous dfns:"
   ]
  },
  {
   "cell_type": "code",
   "execution_count": 23,
   "metadata": {},
   "outputs": [],
   "source": [
    "]dinput\n",
    "Sign ← {\n",
    "    s ← (3 8⍴'NegativeZero    Positive')[2+×⍵;]\n",
    "}"
   ]
  },
  {
   "cell_type": "code",
   "execution_count": 24,
   "metadata": {},
   "outputs": [],
   "source": [
    "Sign 3"
   ]
  },
  {
   "cell_type": "code",
   "execution_count": 25,
   "metadata": {},
   "outputs": [],
   "source": [
    "Sign ¯3.6"
   ]
  },
  {
   "cell_type": "code",
   "execution_count": 26,
   "metadata": {},
   "outputs": [
    {
     "name": "stderr",
     "output_type": "stream",
     "text": [
      "VALUE ERROR: No result was provided when the context expected one\n",
      "      ⎕←Sign 0\n",
      "        ∧\n"
     ]
    }
   ],
   "source": [
    "⎕← Sign 0"
   ]
  },
  {
   "cell_type": "markdown",
   "metadata": {},
   "source": [
    "The `VALUE ERROR` we get above is a very subtle error. Because the `s ← ...` statement is an assignment, when executing the `Sign` dfn the interpreter goes on to execute the expression on the next line, but the next line has *no* expression and so the interpreter raises a `VALUE ERROR`. If we want to have a shy result on a multi-line dfn, we *must* have the final curly brace on the same line as the final statement."
   ]
  },
  {
   "cell_type": "markdown",
   "metadata": {},
   "source": [
    "### Lexical Scoping\n",
    "\n",
    "***Lexical scoping*** is the mechanism that turns local and global variables into relative notions. Dfns usually have access to global variables, but the variables that are \"global\" depend on where the dfn was written.\n",
    "\n",
    "As a purely illustrative example, consider the function defined below:"
   ]
  },
  {
   "cell_type": "code",
   "execution_count": 3,
   "metadata": {},
   "outputs": [],
   "source": [
    "]dinput\n",
    "MultiplyBy10← {\n",
    "    v ← 10            ⍝ define some variable\n",
    "    TimesV ← {v×⍵}    ⍝ multiply something with v\n",
    "    TimesV ⍵\n",
    "}"
   ]
  },
  {
   "cell_type": "code",
   "execution_count": 5,
   "metadata": {},
   "outputs": [
    {
     "data": {
      "text/html": [
       "<span style=\"white-space:pre; font-family: monospace\">50\n",
       "</span>"
      ]
     },
     "execution_count": 5,
     "metadata": {},
     "output_type": "execute_result"
    }
   ],
   "source": [
    "MultiplyBy10 5"
   ]
  },
  {
   "cell_type": "code",
   "execution_count": 6,
   "metadata": {},
   "outputs": [
    {
     "data": {
      "text/html": [
       "<span style=\"white-space:pre; font-family: monospace\">100\n",
       "</span>"
      ]
     },
     "execution_count": 6,
     "metadata": {},
     "output_type": "execute_result"
    }
   ],
   "source": [
    "MultiplyBy10 10"
   ]
  },
  {
   "cell_type": "markdown",
   "metadata": {},
   "source": [
    "Notice how the `MultiplyBy10` function takes your input and gives it to the `TimesV` function, which is defined as a function that \"*takes its input (`⍵`) and multiplies it with `v`*\". But what is `v`? We do not give a value to `v` inside `TimesV`, so when APL encounters the expression `v×⍵` it looks at its surroundings for the meaning of `v`. Because `v` was defined in the enclosing dfn as `v ← 10`, that is the value that is used.\n",
    "\n",
    "Consider now a similar example, but with more occurrences of the variable `v`:"
   ]
  },
  {
   "cell_type": "code",
   "execution_count": 17,
   "metadata": {},
   "outputs": [],
   "source": [
    "v ← 100          ⍝ (1)"
   ]
  },
  {
   "cell_type": "code",
   "execution_count": 18,
   "metadata": {},
   "outputs": [],
   "source": [
    "]dinput\n",
    "MultiplyBy10 ← {\n",
    "    GiveMeV ← {\n",
    "        v\n",
    "    }\n",
    "    ⎕← v         ⍝ (3)\n",
    "    ⎕← GiveMeV 1 ⍝ (4)\n",
    "    v ← 10       ⍝ (5)\n",
    "    ⎕← v         ⍝ (6)\n",
    "    ⎕← GiveMeV 1 ⍝ (7)\n",
    "    v ← 10×⍵       ⍝ (8)\n",
    "    v\n",
    "}"
   ]
  },
  {
   "cell_type": "code",
   "execution_count": 19,
   "metadata": {},
   "outputs": [
    {
     "data": {
      "text/html": [
       "<span style=\"white-space:pre; font-family: monospace\">100\n",
       "</span>"
      ]
     },
     "execution_count": 19,
     "metadata": {},
     "output_type": "execute_result"
    },
    {
     "data": {
      "text/html": [
       "<span style=\"white-space:pre; font-family: monospace\">100\n",
       "100\n",
       "10\n",
       "10\n",
       "30\n",
       "</span>"
      ]
     },
     "execution_count": 19,
     "metadata": {},
     "output_type": "execute_result"
    },
    {
     "data": {
      "text/html": [
       "<span style=\"white-space:pre; font-family: monospace\">100\n",
       "</span>"
      ]
     },
     "execution_count": 19,
     "metadata": {},
     "output_type": "execute_result"
    }
   ],
   "source": [
    "⎕← v             ⍝ (2)\n",
    "MultiplyBy10 3\n",
    "⎕← v             ⍝ (9)"
   ]
  },
  {
   "cell_type": "markdown",
   "metadata": {},
   "source": [
    "Let us go over the assignments and the outputs of the code above:\n",
    "\n",
    " - we start by defining the variable `v` in our session and we set it to 100 (1);\n",
    " - we then define a function named `MultiplyBy10` which happens to contain another dfn inside it;\n",
    " - then we print the value of the session variable `v` and we see its value is 100 (2);\n",
    " - then we call the dfn `MultiplyBy10` with argument `3` and\n",
    "   - we define a new dfn named `GiveMeV`;\n",
    "   - we print the value of `v` (3). `MultiplyBy10` doesn't know what `v` is and so it looks for it in the session and finds a `v` whose value is 100, because of (1);\n",
    "   - we then call the function `GiveMeV` which simply returns `v` and we print it (4). `GiveMeV` doesn't know what `v` is, so it asks `MultiplyBy10`, which in turns asks the session, which knows of a `v` whose value is 100, because of (1);\n",
    "   - we then define `v` to be 10 inside of `MultiplyBy10` (5), making `MultiplyBy10` aware of a variable `v`;\n",
    "   - then we print `v` inside `MultiplyBy10` (6), which is 10 because we just defined it as such;\n",
    "   - then we call `GiveMeV` again and we print its result (7). `GiveMeV` doesn't know what `v` is, so it asks `MultiplyBy10`, that *now knows* what `v` is: it is 10 because of (5);\n",
    "   - and we finish executing the `MultiplyBy10` dfn by assigning 30 to `v` (8), which we then return from the dfn;\n",
    " - we leave the `MultiplyBy10` dfn call and 30 gets printed because that was the result of the dfn call;\n",
    " - finally we print `v` once more, and the session knows `v` is 100, so that is what we print (9).\n",
    " \n",
    "That might look confusing, but I assure you it makes a lot of sense. Just go through the code calmly and make sure you understand what each part does separately. Then, simulate the execution of the code with some pen and paper and write down what you think should get printed at each step. Then read the explanation above and compare it to what you thought was supposed to happen. You will get used to lexical scoping in no time.\n",
    "\n",
    "Lexical scoping can reveal itself to be extremely useful in languages where functions can return other functions, which is *not* the case with APL. Even so, lexical scoping will prove to be helpful later down the road: imagine a large(r) function inside which we define a small utility dfn to use with an operator, but we want the dfn to make use of things we have already computed inside the outer function. Lexical scoping kicks in at that point, allowing the inner dfn to access everything the outer function already computed."
   ]
  },
  {
   "cell_type": "markdown",
   "metadata": {},
   "source": [
    "## Miscellaneous\n",
    "\n",
    "### List of Variables and Functions\n",
    "\n",
    "You can obtain a list of your variables by typing"
   ]
  },
  {
   "cell_type": "code",
   "execution_count": 141,
   "metadata": {},
   "outputs": [
    {
     "data": {
      "text/html": [
       "<span style=\"white-space:pre; font-family: monospace\">CharMat Mat     TotMat  Towns   hours   mat     text    times   totMat  towns   \n",
       "</span>"
      ]
     },
     "execution_count": 141,
     "metadata": {},
     "output_type": "execute_result"
    }
   ],
   "source": [
    ")Vars"
   ]
  },
  {
   "cell_type": "markdown",
   "metadata": {},
   "source": [
    "and you can obtain a list of your functions by typing"
   ]
  },
  {
   "cell_type": "code",
   "execution_count": 61,
   "metadata": {},
   "outputs": [
    {
     "data": {
      "text/html": [
       "<span style=\"white-space:pre; font-family: monospace\">AMHM    Average Count   Extract HarmonicMean    Hypo    Ignore  Lengths Magic   Plus    Reverse Root    RootOf10        \n",
       "Silly   Switch1 Switch2 Times   To      \n",
       "</span>"
      ]
     },
     "execution_count": 61,
     "metadata": {},
     "output_type": "execute_result"
    }
   ],
   "source": [
    ")Fns"
   ]
  },
  {
   "cell_type": "markdown",
   "metadata": {},
   "source": [
    "### Use of the Result\n",
    "\n",
    "To sum up what we have already seen, once a function has been written, its result can be:\n",
    "\n",
    " - Immediately displayed and lost:"
   ]
  },
  {
   "cell_type": "code",
   "execution_count": 62,
   "metadata": {},
   "outputs": [
    {
     "data": {
      "text/html": [
       "<span style=\"white-space:pre; font-family: monospace\">0.895522\n",
       "</span>"
      ]
     },
     "execution_count": 62,
     "metadata": {},
     "output_type": "execute_result"
    }
   ],
   "source": [
    "HarmonicMean times"
   ]
  },
  {
   "cell_type": "markdown",
   "metadata": {},
   "source": [
    " - Included in an expression:"
   ]
  },
  {
   "cell_type": "code",
   "execution_count": 63,
   "metadata": {},
   "outputs": [
    {
     "data": {
      "text/html": [
       "<span style=\"white-space:pre; font-family: monospace\">53.7313\n",
       "</span>"
      ]
     },
     "execution_count": 63,
     "metadata": {},
     "output_type": "execute_result"
    }
   ],
   "source": [
    "60×HarmonicMean times"
   ]
  },
  {
   "cell_type": "markdown",
   "metadata": {},
   "source": [
    " - Assigned to a variable:"
   ]
  },
  {
   "cell_type": "code",
   "execution_count": 64,
   "metadata": {},
   "outputs": [],
   "source": [
    "hours ← HarmonicMean times"
   ]
  },
  {
   "cell_type": "markdown",
   "metadata": {},
   "source": [
    "### Vector Representation\n",
    "\n",
    "We saw that double-clicking on a function name invokes the editor, and allows the user to see the code. We can also type the name of the function and see its code:"
   ]
  },
  {
   "cell_type": "code",
   "execution_count": 65,
   "metadata": {},
   "outputs": [
    {
     "data": {
      "text/html": [
       "<span style=\"white-space:pre; font-family: monospace\">{                                                                     \n",
       "    ⍝ Monadic function to compute the harmonic mean of a vector       \n",
       "     inverses←÷⍵   ⍝ This inverts the numbers in the argument         \n",
       "    ⍝ and then                                                        \n",
       "     ÷+/inverses     ⍝ we sum those inverses and return them.         \n",
       "    ⍝ Of course this will give an error if 0 is in the input argument.\n",
       " }                                                                    \n",
       "</span>"
      ]
     },
     "execution_count": 65,
     "metadata": {},
     "output_type": "execute_result"
    }
   ],
   "source": [
    "HarmonicMean"
   ]
  },
  {
   "cell_type": "markdown",
   "metadata": {},
   "source": [
    "However, in a printed document, the conventional representation of a function is as follows:"
   ]
  },
  {
   "cell_type": "code",
   "execution_count": 66,
   "metadata": {},
   "outputs": [
    {
     "data": {
      "text/html": [
       "<span style=\"white-space:pre; font-family: monospace\">     ∇ HarmonicMean←{                                                       \n",
       "[1]       ⍝ Monadic function to compute the harmonic mean of a vector       \n",
       "[2]        inverses←÷⍵   ⍝ This inverts the numbers in the argument         \n",
       "[3]       ⍝ and then                                                        \n",
       "[4]        ÷+/inverses     ⍝ we sum those inverses and return them.         \n",
       "[5]       ⍝ Of course this will give an error if 0 is in the input argument.\n",
       "[6]    }                                                                    \n",
       "     ∇                                                                      \n",
       "</span>"
      ]
     },
     "execution_count": 66,
     "metadata": {},
     "output_type": "execute_result"
    }
   ],
   "source": [
    "⎕VR 'HarmonicMean'"
   ]
  },
  {
   "cell_type": "markdown",
   "metadata": {},
   "source": [
    "The function is delimited by a pair of `∇` symbols. This special symbol is named \"***Del***\" in English, or \"***Carrot***\" (because of its shape) in some French-speaking countries. You can type a *Del* with <kbd>APL</kbd>+<kbd>g</kbd>.\n",
    "\n",
    "One can also obtain this representation (as a character array) using the built-in ***System function*** `⎕VR` (for \"*Vector Representation*\") of Dyalog APL. *System functions* are a special kind of function, provided with the development environment. The first character of their name is a ***Quad*** (`⎕`) which guarantees that they cannot conflict with user-defined names, and their names are also case-insensitive:"
   ]
  },
  {
   "cell_type": "code",
   "execution_count": 67,
   "metadata": {},
   "outputs": [
    {
     "data": {
      "text/html": [
       "<span style=\"white-space:pre; font-family: monospace\">     ∇ Average←{(+/⍵)÷(≢⍵)}\n",
       "     ∇                     \n",
       "</span>"
      ]
     },
     "execution_count": 67,
     "metadata": {},
     "output_type": "execute_result"
    }
   ],
   "source": [
    "⎕VR 'Average'"
   ]
  },
  {
   "cell_type": "code",
   "execution_count": 68,
   "metadata": {},
   "outputs": [
    {
     "data": {
      "text/html": [
       "<span style=\"white-space:pre; font-family: monospace\">     ∇ Average←{(+/⍵)÷(≢⍵)}\n",
       "     ∇                     \n",
       "</span>"
      ]
     },
     "execution_count": 68,
     "metadata": {},
     "output_type": "execute_result"
    }
   ],
   "source": [
    "⎕Vr 'Average'"
   ]
  },
  {
   "cell_type": "code",
   "execution_count": 69,
   "metadata": {},
   "outputs": [
    {
     "data": {
      "text/html": [
       "<span style=\"white-space:pre; font-family: monospace\">     ∇ Average←{(+/⍵)÷(≢⍵)}\n",
       "     ∇                     \n",
       "</span>"
      ]
     },
     "execution_count": 69,
     "metadata": {},
     "output_type": "execute_result"
    }
   ],
   "source": [
    "⎕vr 'Average'"
   ]
  },
  {
   "cell_type": "code",
   "execution_count": 70,
   "metadata": {},
   "outputs": [
    {
     "data": {
      "text/html": [
       "<span style=\"white-space:pre; font-family: monospace\">     ∇ Average←{(+/⍵)÷(≢⍵)}\n",
       "     ∇                     \n",
       "</span>"
      ]
     },
     "execution_count": 70,
     "metadata": {},
     "output_type": "execute_result"
    }
   ],
   "source": [
    "⎕vR 'Average'"
   ]
  },
  {
   "cell_type": "markdown",
   "metadata": {},
   "source": [
    "Note that this is quite unusual in a programming language. The result of `⎕VR` is a character vector representing the source code of our function, which is now available for processing by other functions in the workspace!\n",
    "\n",
    "System functions will be discussed in detail in [a later chapter](./System-Interfaces.ipynb)."
   ]
  },
  {
   "cell_type": "markdown",
   "metadata": {},
   "source": [
    "### Invoking the Text Editor\n",
    "\n",
    "Double-clicking a name which represents an existing item invokes the editor and displays its contents, using the colour scheme appropriate for the type of the item (function, character matrix, nested array, etc) defined via \"Options\" &#8680; \"Colors...\" if you are using the Windows interpreter or via \"Edit\" &#8680; \"Preferences\" &#8680; \"Colours\" if you are using RIDE.\n",
    "\n",
    "You can also invoke the editor by pressing <kbd>Shift</kbd>+<kbd>Enter</kbd> when the input cursor is inside or adjacent to the name. This is perhaps the most convenient way as, when working in an APL session, you tend to use the keyboard much more than the mouse.\n",
    "\n",
    "Let us define a character matrix with the uppercase latin alphabet:"
   ]
  },
  {
   "cell_type": "code",
   "execution_count": 142,
   "metadata": {},
   "outputs": [
    {
     "data": {
      "text/html": [
       "<span style=\"white-space:pre; font-family: monospace\">ABCDEFGHIJKLM\n",
       "NOPQRSTUVWXYZ\n",
       "</span>"
      ]
     },
     "execution_count": 142,
     "metadata": {},
     "output_type": "execute_result"
    }
   ],
   "source": [
    "⊢charMat ← 2 13⍴⎕A"
   ]
  },
  {
   "cell_type": "markdown",
   "metadata": {},
   "source": [
    "For some items (e.g. numeric matrices, some nested arrays) the editor is only good for viewing them, while for others such as functions, text vectors and text matrices, the editor can also be used to edit them. In <!--figure-->the example below<!--Win_Editor_Edit_Character_Matrix--> we have invoked the editor, and changed the contents of our `charMat` variable:\n",
    "\n",
    "![Editing a character matrix with the built-in editor of the Windows interpreter](res/Win_Editor_Edit_Character_Matrix.png)\n",
    "\n",
    "In <!--figure-->the figure<!--Win_Editor_Edit_Character_Matrix--> the edit window tells us that we modified the character matrix. We must now fix it, like we did with dfns before, for the variable to reflect its new value. RIDE doesn't tell you that the character matrix was modified, but you still need to fix it if you want the new changes to come into effect.\n",
    "\n",
    "If we now fix the changes to `charMat`, it will become a matrix with 4 rows and 29 columns (the length of its longest row).\n",
    "\n",
    "If, for some reason, you made a mistake, you can exit the edit window *without* fixing the changes by pressing <kbd>Shift</kbd>+<kbd>Esc</kbd>.\n",
    "\n",
    "If a name is currently undefined (has no value), double-clicking or pressing <kbd>Shift</kbd>+<kbd>Enter</kbd> on that name invokes the editor on it as if it were a new function. This is one way to create a function.\n",
    "\n",
    "You can also invoke the editor using the command `)ED` as we did before. By default, it opens a **function** definition, but you can explicitly specify the type of a new object by prefixing its name with a special character, as shown in the table below.\n",
    "\n",
    "| Prefix | Example | Object Created |\n",
    "| :-: | :- | :- |\n",
    "| none | `)ed new` | Function | \n",
    "| `∇` | `)ed ∇ borscht` | Function |\n",
    "| `-` | `)ed - papyrus` | Simple character matrix |\n",
    "| `→` | `)ed → crouton` | Simple character vector |\n",
    "| `∊` | `)ed ∊ grunt` | Nested vector of character vectors, with one sub-vector per line |\n",
    "\n",
    "See also [the appendix](./Appendices.ipynb#Invoking-the-Editor) for additional prefixes.\n",
    "\n",
    "It is possible to open several edit windows using a single command. For example, `)ed Tyrex -Moose` will open two edit windows. The first to create or edit a function named `Tyrex` and the second to create a character matrix named `moose`.\n",
    "\n",
    "If a prefix is specified for the name of an already existing object, the prefix is ignored and the editor is invoked according to the type of the existing object.\n",
    "\n",
    "There are some other ways to invoke the editor:\n",
    "\n",
    " - use `⎕ED` instead of the command `)ED`. For example: `⎕ED 'Clown'`. `⎕ED` is a *System function*, a concept that will be discussed in [a future chapter](./System-Interfaces.ipynb);\n",
    " - type a name, or put the input cursor on an existing name, and activate the menu \"Action\" &#8680; \"Edit\";\n",
    " - for the Windows interpreter, type a name or put the input cursor on an existing name, and click the \"Edit Object\" available in the toolbar (cf. <!--figure-->the image below<!--Win_Toolbar_Edit_Object-->).\n",
    " \n",
    "![The \"Edit Object\" button in the toolbar of the Windows interpreter](res/Win_Toolbar_Edit_Object.png)"
   ]
  },
  {
   "cell_type": "markdown",
   "metadata": {},
   "source": [
    "## Tradfns"
   ]
  },
  {
   "cell_type": "markdown",
   "metadata": {},
   "source": [
    "## Solutions\n",
    "\n",
    "**Exercise 1**:\n",
    "\n",
    "If `⍵` is the vector argument, we can use `⍵[...]` to index into `⍵` and then we can use the *Index Generator* primitive to generate the indices we need, which should be the integers from `1` to `⍺`... Except that if `⍺` is too big, we cannot generate indices larger than the length of the vector, so we also find the minimum between `⍺` and `≢⍵`. If we don't, we get a `INDEX ERROR` when indexing. Here is a possible implementation:"
   ]
  },
  {
   "cell_type": "code",
   "execution_count": 72,
   "metadata": {},
   "outputs": [],
   "source": [
    "]dinput\n",
    "Extract ← {\n",
    "    ⍵[⍳⍺⌊≢⍵]\n",
    "}"
   ]
  },
  {
   "cell_type": "code",
   "execution_count": 73,
   "metadata": {},
   "outputs": [
    {
     "data": {
      "text/html": [
       "<span style=\"white-space:pre; font-family: monospace\">45 86 31\n",
       "</span>"
      ]
     },
     "execution_count": 73,
     "metadata": {},
     "output_type": "execute_result"
    }
   ],
   "source": [
    "3 Extract 45 86 31 20 75 62 18"
   ]
  },
  {
   "cell_type": "code",
   "execution_count": 74,
   "metadata": {},
   "outputs": [
    {
     "data": {
      "text/html": [
       "<span style=\"white-space:pre; font-family: monospace\">can yo\n",
       "</span>"
      ]
     },
     "execution_count": 74,
     "metadata": {},
     "output_type": "execute_result"
    }
   ],
   "source": [
    "6 Extract 'can you do it?'"
   ]
  },
  {
   "cell_type": "code",
   "execution_count": 75,
   "metadata": {},
   "outputs": [
    {
     "data": {
      "text/html": [
       "<span style=\"white-space:pre; font-family: monospace\">1 2 3\n",
       "</span>"
      ]
     },
     "execution_count": 75,
     "metadata": {},
     "output_type": "execute_result"
    }
   ],
   "source": [
    "20 Extract 1 2 3"
   ]
  },
  {
   "cell_type": "markdown",
   "metadata": {},
   "source": [
    "**Exercise 2**:\n",
    "\n",
    "We can use a similar logic as that of the first exercise, except now we want to start the indices at `⍺+1` and go up until `≢⍵`. For this to happen, we first need to find out how many numbers we need. If a vector has `≢⍵` elements and we are going to drop `⍺` of them, we are going to be left with `(≢⍵)-⍺`. This means `⍳(≢⍵)-⍺` will generate the correct amount of indices, but they will be starting at `1` and should start at `⍺+1`, so we just need to add `⍺` to that.\n",
    "\n",
    "Finally, we just need to worry about what happens if `⍺` is too large, i.e. if we want to ignore too many elements. The reverse of that concern is, what happens if `(≢⍵)-⍺` is too small? Recall that `(≢⍵)-⍺` tells you how many elements you will want to keep. But that number must be at least `0` elements (i.e. \"keep no elements\") because it makes no sense to keep a negative number of elements. So we can just use `⌈` to find the maximum between `0` and `(≢⍵)-⍺`. If `⍺` is too large, `0⌈(≢⍵)-⍺` gives `0` and `⍳0` is the empty vector `⍬`, so the indexing will work just fine."
   ]
  },
  {
   "cell_type": "code",
   "execution_count": 76,
   "metadata": {},
   "outputs": [],
   "source": [
    "]dinput\n",
    "Ignore ← {\n",
    "    ⍵[⍺+⍳0⌈(≢⍵)-⍺]\n",
    "}"
   ]
  },
  {
   "cell_type": "code",
   "execution_count": 77,
   "metadata": {},
   "outputs": [
    {
     "data": {
      "text/html": [
       "<span style=\"white-space:pre; font-family: monospace\">20 75 62 18\n",
       "</span>"
      ]
     },
     "execution_count": 77,
     "metadata": {},
     "output_type": "execute_result"
    }
   ],
   "source": [
    "3 Ignore 45 86 31 20 75 62 18"
   ]
  },
  {
   "cell_type": "code",
   "execution_count": 78,
   "metadata": {},
   "outputs": [
    {
     "data": {
      "text/html": [
       "<span style=\"white-space:pre; font-family: monospace\">u do it?\n",
       "</span>"
      ]
     },
     "execution_count": 78,
     "metadata": {},
     "output_type": "execute_result"
    }
   ],
   "source": [
    "6 Ignore 'can you do it?'"
   ]
  },
  {
   "cell_type": "code",
   "execution_count": 79,
   "metadata": {},
   "outputs": [
    {
     "data": {
      "text/html": [
       "<span style=\"white-space:pre; font-family: monospace\">\n",
       "</span>"
      ]
     },
     "execution_count": 79,
     "metadata": {},
     "output_type": "execute_result"
    }
   ],
   "source": [
    "20 Ignore 1 2 3"
   ]
  },
  {
   "cell_type": "markdown",
   "metadata": {},
   "source": [
    "**Exercise 3**:\n",
    "\n",
    "Here is another exercise on index arithmetic. Here is what we want to happen with a vector argument of length 10:\n",
    "\n",
    " - generate the indices `1 2 3 4 5 6 7 8 9 10`\n",
    " - transform them into  `10 9 8 7 6 5 4 3 2 1`\n",
    " \n",
    "We can do this if we do the correct subtraction:"
   ]
  },
  {
   "cell_type": "code",
   "execution_count": 80,
   "metadata": {},
   "outputs": [
    {
     "data": {
      "text/html": [
       "<span style=\"white-space:pre; font-family: monospace\">10 9 8 7 6 5 4 3 2 1\n",
       "</span>"
      ]
     },
     "execution_count": 80,
     "metadata": {},
     "output_type": "execute_result"
    }
   ],
   "source": [
    "11 - ⍳10 "
   ]
  },
  {
   "cell_type": "markdown",
   "metadata": {},
   "source": [
    "But here `11` was a special number: it was `1+≢⍵`. So that is the general tactic we must employ:"
   ]
  },
  {
   "cell_type": "code",
   "execution_count": 81,
   "metadata": {},
   "outputs": [],
   "source": [
    "]dinput\n",
    "Reverse ← {\n",
    "    ⍵[(1+≢⍵)-⍳≢⍵]\n",
    "}"
   ]
  },
  {
   "cell_type": "code",
   "execution_count": 82,
   "metadata": {},
   "outputs": [
    {
     "data": {
      "text/html": [
       "<span style=\"white-space:pre; font-family: monospace\">congratulations\n",
       "</span>"
      ]
     },
     "execution_count": 82,
     "metadata": {},
     "output_type": "execute_result"
    }
   ],
   "source": [
    "Reverse 'snoitalutargnoc'"
   ]
  },
  {
   "cell_type": "code",
   "execution_count": 83,
   "metadata": {},
   "outputs": [
    {
     "data": {
      "text/html": [
       "<span style=\"white-space:pre; font-family: monospace\">You did it!\n",
       "</span>"
      ]
     },
     "execution_count": 83,
     "metadata": {},
     "output_type": "execute_result"
    }
   ],
   "source": [
    "Reverse '!ti did uoY'"
   ]
  },
  {
   "cell_type": "markdown",
   "metadata": {},
   "source": [
    "**Exercise 4**:\n",
    "\n",
    "This exercise can be solved by using the *Reduce* operator to sum: `+/`. Then we need to specify the axis we care about with `[1]` and `[2]`.\n",
    "\n",
    "If we do `+/[1]` then we are reducing across the first axis, which means we get the sums along the columns:"
   ]
  },
  {
   "cell_type": "code",
   "execution_count": 144,
   "metadata": {},
   "outputs": [
    {
     "data": {
      "text/html": [
       "<span style=\"white-space:pre; font-family: monospace\">75 14 86 20\n",
       "31 16 40 51\n",
       "22 64 31 28\n",
       "</span>"
      ]
     },
     "execution_count": 144,
     "metadata": {},
     "output_type": "execute_result"
    }
   ],
   "source": [
    "⊢mat ← 3 4⍴75 14 86 20 31 16 40 51 22 64 31 28"
   ]
  },
  {
   "cell_type": "code",
   "execution_count": 145,
   "metadata": {},
   "outputs": [
    {
     "data": {
      "text/html": [
       "<span style=\"white-space:pre; font-family: monospace\">128 94 157 99\n",
       "</span>"
      ]
     },
     "execution_count": 145,
     "metadata": {},
     "output_type": "execute_result"
    }
   ],
   "source": [
    "+/[1]mat"
   ]
  },
  {
   "cell_type": "markdown",
   "metadata": {},
   "source": [
    "We can then catenate the original matrix to these column sums vertically (by using `⍪`), and then use `+/[2]` to find the row sums and catenate them with `,`:"
   ]
  },
  {
   "cell_type": "code",
   "execution_count": 146,
   "metadata": {},
   "outputs": [],
   "source": [
    "]dinput\n",
    "Totalise ← {\n",
    "    colSums ← +/[1]⍵\n",
    "    r ← ⍵⍪colSums\n",
    "    rowSums ← +/[2]r\n",
    "    r,rowSums\n",
    "}"
   ]
  },
  {
   "cell_type": "code",
   "execution_count": 148,
   "metadata": {},
   "outputs": [
    {
     "data": {
      "text/html": [
       "<span style=\"white-space:pre; font-family: monospace\"> 75 14  86 20 195\n",
       " 31 16  40 51 138\n",
       " 22 64  31 28 145\n",
       "128 94 157 99 478\n",
       "</span>"
      ]
     },
     "execution_count": 148,
     "metadata": {},
     "output_type": "execute_result"
    }
   ],
   "source": [
    "Totalise mat"
   ]
  },
  {
   "cell_type": "code",
   "execution_count": 149,
   "metadata": {},
   "outputs": [
    {
     "data": {
      "text/html": [
       "<span style=\"white-space:pre; font-family: monospace\">1\n",
       "</span>"
      ]
     },
     "execution_count": 149,
     "metadata": {},
     "output_type": "execute_result"
    }
   ],
   "source": [
    "totMat ← 4 5⍴75 14 86 20 195 31 16 40 51 138 22 64 31 28 145 128 94 157 99 478\n",
    "totMat ≡ Totalise mat"
   ]
  },
  {
   "cell_type": "markdown",
   "metadata": {},
   "source": [
    "**Exercise 5**:\n",
    "\n",
    "When reading this exercise, one should immediately realise that one is going to need to find *Where* the blank spaces are:"
   ]
  },
  {
   "cell_type": "code",
   "execution_count": 89,
   "metadata": {},
   "outputs": [],
   "source": [
    "text ← 'This seems to be a good solution'"
   ]
  },
  {
   "cell_type": "code",
   "execution_count": 90,
   "metadata": {},
   "outputs": [
    {
     "data": {
      "text/html": [
       "<span style=\"white-space:pre; font-family: monospace\">5 11 14 17 19 24\n",
       "</span>"
      ]
     },
     "execution_count": 90,
     "metadata": {},
     "output_type": "execute_result"
    }
   ],
   "source": [
    "⍸' '=text"
   ]
  },
  {
   "cell_type": "markdown",
   "metadata": {},
   "source": [
    "These indices tell where the blank spaces were in the character vector, and in between those indices are the indices that correspond to word characters:\n",
    "\n",
    " - the first word has indices `1 2 3 4`\n",
    "   - then there is a space at position `5`\n",
    " - the second word has indices `6 7 8 9 10`\n",
    "   - then there is a space at position `11`\n",
    " - ...\n",
    "   - then there is a space at position `24`\n",
    " - the last word has indices `25 26 27 28 29 30 31 32`\n",
    " \n",
    "The `32` above is `≢text`:"
   ]
  },
  {
   "cell_type": "code",
   "execution_count": 91,
   "metadata": {},
   "outputs": [
    {
     "data": {
      "text/html": [
       "<span style=\"white-space:pre; font-family: monospace\">32\n",
       "</span>"
      ]
     },
     "execution_count": 91,
     "metadata": {},
     "output_type": "execute_result"
    }
   ],
   "source": [
    "≢text"
   ]
  },
  {
   "cell_type": "markdown",
   "metadata": {},
   "source": [
    "From the list above we can see that most words are *between* spaces, but the first and last words may not be between spaces. We can fix this by *forcing* the first and last words to be *between* spaces if we had a single `' '` to the beginning and to the end of our variable:"
   ]
  },
  {
   "cell_type": "code",
   "execution_count": 92,
   "metadata": {},
   "outputs": [
    {
     "data": {
      "text/html": [
       "<span style=\"white-space:pre; font-family: monospace\">1 6 12 15 18 20 25 34\n",
       "</span>"
      ]
     },
     "execution_count": 92,
     "metadata": {},
     "output_type": "execute_result"
    }
   ],
   "source": [
    "⍸' '=' ',text,' '"
   ]
  },
  {
   "cell_type": "markdown",
   "metadata": {},
   "source": [
    "Now we have\n",
    "\n",
    " - the first space at position `1`\n",
    "   - the first word in positions `2 3 4 5`\n",
    " - a space at position `6`\n",
    "   - a word in positions `7 8 9 10 11`\n",
    " - ...\n",
    " - a space at position `25`\n",
    "   - the last word in positions `26 27 28 29 30 31 32 33`\n",
    " - the final space at position `34`\n",
    " \n",
    "So we can find the lengths of those runs of non-spaces by subtracting positions of consecutive spaces and then subtracting 1 from those, because `6-1` gives 5, but between 1 and 6 there's only 4 integers."
   ]
  },
  {
   "cell_type": "code",
   "execution_count": 93,
   "metadata": {},
   "outputs": [],
   "source": [
    "]dinput\n",
    "Lengths ← {\n",
    "    spaces ← ⍸' '=' ',⍵,' '\n",
    "    idx ← ⍳(≢spaces)-1\n",
    "    ¯1+spaces[1+idx]-spaces[idx]\n",
    "}"
   ]
  },
  {
   "cell_type": "code",
   "execution_count": 94,
   "metadata": {},
   "outputs": [
    {
     "data": {
      "text/html": [
       "<span style=\"white-space:pre; font-family: monospace\">4 5 2 2 1 4 8\n",
       "</span>"
      ]
     },
     "execution_count": 94,
     "metadata": {},
     "output_type": "execute_result"
    }
   ],
   "source": [
    "Lengths 'This seems to be a good solution'"
   ]
  },
  {
   "cell_type": "markdown",
   "metadata": {},
   "source": [
    "The final step where we index into `spaces` to get \"all but the last\" and \"all but the first\" elements of `spaces` could have been done with your previous solutions:"
   ]
  },
  {
   "cell_type": "code",
   "execution_count": 95,
   "metadata": {},
   "outputs": [],
   "source": [
    "]dinput\n",
    "Lengths ← {\n",
    "    spaces ← ⍸' '=' ',⍵,' '\n",
    "    ¯1+(1 Ignore spaces)-((¯1+≢spaces) Extract spaces)\n",
    "}"
   ]
  },
  {
   "cell_type": "code",
   "execution_count": 96,
   "metadata": {},
   "outputs": [
    {
     "data": {
      "text/html": [
       "<span style=\"white-space:pre; font-family: monospace\">4 5 2 2 1 4 8\n",
       "</span>"
      ]
     },
     "execution_count": 96,
     "metadata": {},
     "output_type": "execute_result"
    }
   ],
   "source": [
    "Lengths 'This seems to be a good solution'"
   ]
  },
  {
   "cell_type": "markdown",
   "metadata": {},
   "source": [
    "Notice that doing `¯1+expr` is a little \"trick\" you can employ when you want to subtract 1 from `expr`, but `expr` would then need parenthesis if you were to have it on the left of the `-` sign. For example, to subtract 1 from `≢spaces` you would have to do `(≢spaces)-1` but instead you can do `¯1+≢spaces`.\n",
    "\n",
    "Finally, can you improve your solution to handle multiple consecutive spaces?"
   ]
  },
  {
   "cell_type": "code",
   "execution_count": 97,
   "metadata": {},
   "outputs": [
    {
     "data": {
      "text/html": [
       "<span style=\"white-space:pre; font-family: monospace\">4 4 0 0 0 3 0 0 0 0 0 4 5 0 0 0\n",
       "</span>"
      ]
     },
     "execution_count": 97,
     "metadata": {},
     "output_type": "execute_result"
    }
   ],
   "source": [
    "Lengths 'This only    has      five words   '"
   ]
  },
  {
   "cell_type": "markdown",
   "metadata": {},
   "source": [
    "Probably seeing how your function works with multiple consecutive spaces gives the solution away: consecutive spaces will make a 0 appear in the final result, so we just have to remove those:"
   ]
  },
  {
   "cell_type": "code",
   "execution_count": 98,
   "metadata": {},
   "outputs": [],
   "source": [
    "]dinput\n",
    "Lengths ← {\n",
    "    spaces ← ⍸' '=' ',⍵,' '\n",
    "    r ← ¯1+(1 Ignore spaces)-((¯1+≢spaces) Extract spaces)\n",
    "    (0≠r)/r\n",
    "}"
   ]
  },
  {
   "cell_type": "code",
   "execution_count": 99,
   "metadata": {},
   "outputs": [
    {
     "data": {
      "text/html": [
       "<span style=\"white-space:pre; font-family: monospace\">4 4 3 4 5\n",
       "</span>"
      ]
     },
     "execution_count": 99,
     "metadata": {},
     "output_type": "execute_result"
    }
   ],
   "source": [
    "Lengths 'This only    has      five words   '"
   ]
  },
  {
   "cell_type": "markdown",
   "metadata": {},
   "source": [
    "**Exercise 6**:\n",
    "\n",
    "We have seen in [a previous section](./Some-Primitive-Functions.ipynb#Basic-Usage) how to create any arithmetic sequence of integers. This is just a special case of the algorithm give, with `Step ← 1`:"
   ]
  },
  {
   "cell_type": "code",
   "execution_count": 100,
   "metadata": {},
   "outputs": [],
   "source": [
    "]dinput\n",
    "To ← {\n",
    "    ⍺+¯1+⍳(1+⍵-⍺)\n",
    "}"
   ]
  },
  {
   "cell_type": "code",
   "execution_count": 101,
   "metadata": {},
   "outputs": [
    {
     "data": {
      "text/html": [
       "<span style=\"white-space:pre; font-family: monospace\">17 18 19 20 21 22 23 24 25 26 27 28 29\n",
       "</span>"
      ]
     },
     "execution_count": 101,
     "metadata": {},
     "output_type": "execute_result"
    }
   ],
   "source": [
    "17 To 29"
   ]
  },
  {
   "cell_type": "markdown",
   "metadata": {},
   "source": [
    "**Exercise 7**:\n",
    "\n",
    "This exercise is easier than it might look because the primitives to catenate vertically and horizontally, `⍪` and `,`, know how to deal with a matrix and a single scalar:"
   ]
  },
  {
   "cell_type": "code",
   "execution_count": 150,
   "metadata": {},
   "outputs": [
    {
     "data": {
      "text/html": [
       "<span style=\"white-space:pre; font-family: monospace\">Canberra  \n",
       "Paris     \n",
       "Washington\n",
       "Moscow    \n",
       "Martigues \n",
       "Mexico    \n",
       "</span>"
      ]
     },
     "execution_count": 150,
     "metadata": {},
     "output_type": "execute_result"
    }
   ],
   "source": [
    "⊢towns ← 6 10⍴'Canberra  Paris     WashingtonMoscow    Martigues Mexico    '"
   ]
  },
  {
   "cell_type": "code",
   "execution_count": 151,
   "metadata": {},
   "outputs": [
    {
     "data": {
      "text/html": [
       "<span style=\"white-space:pre; font-family: monospace\">Canberra  |\n",
       "Paris     |\n",
       "Washington|\n",
       "Moscow    |\n",
       "Martigues |\n",
       "Mexico    |\n",
       "</span>"
      ]
     },
     "execution_count": 151,
     "metadata": {},
     "output_type": "execute_result"
    }
   ],
   "source": [
    "towns,'|'"
   ]
  },
  {
   "cell_type": "code",
   "execution_count": 152,
   "metadata": {},
   "outputs": [
    {
     "data": {
      "text/html": [
       "<span style=\"white-space:pre; font-family: monospace\">Canberra  \n",
       "Paris     \n",
       "Washington\n",
       "Moscow    \n",
       "Martigues \n",
       "Mexico    \n",
       "----------\n",
       "</span>"
      ]
     },
     "execution_count": 152,
     "metadata": {},
     "output_type": "execute_result"
    }
   ],
   "source": [
    "towns⍪'-'"
   ]
  },
  {
   "cell_type": "markdown",
   "metadata": {},
   "source": [
    "So we just have to frame the four sides and *then* change the corners:"
   ]
  },
  {
   "cell_type": "code",
   "execution_count": 155,
   "metadata": {},
   "outputs": [],
   "source": [
    "]dinput\n",
    "Frame ← {\n",
    "    f ← '|',⍵,'|'\n",
    "    f ← '-'⍪f⍪'-'\n",
    "    (r c) ← ⍴f\n",
    "    f[1 r;1 c] ← '+'\n",
    "    f\n",
    "}"
   ]
  },
  {
   "cell_type": "code",
   "execution_count": 156,
   "metadata": {},
   "outputs": [
    {
     "data": {
      "text/html": [
       "<span style=\"white-space:pre; font-family: monospace\">+----------+\n",
       "|Canberra  |\n",
       "|Paris     |\n",
       "|Washington|\n",
       "|Moscow    |\n",
       "|Martigues |\n",
       "|Mexico    |\n",
       "+----------+\n",
       "</span>"
      ]
     },
     "execution_count": 156,
     "metadata": {},
     "output_type": "execute_result"
    }
   ],
   "source": [
    "Frame towns"
   ]
  },
  {
   "cell_type": "markdown",
   "metadata": {},
   "source": [
    "Here we used the very convenient indexing notation `f[1 r;1 c]` that allows us to access the positions `1 1`, `1 c`, `r 1` and `r c` of the matrix `f`.\n",
    "\n",
    "Modifying this function to use the appropriate line-drawing symbols just means swapping the `'|-+'` in the original function. Care must be taken, however, when assigning the corners. With `f[1 r;1 c] ← m` APL expects `m` to be a scalar *or* an array with the same shape as that of the left, and since `f[1 r;1 c]` is a 2 by 2 matrix, we will have to reshape the vector with the corners into a 2 by 2 matrix as well:"
   ]
  },
  {
   "cell_type": "code",
   "execution_count": 157,
   "metadata": {},
   "outputs": [],
   "source": [
    "]dinput\n",
    "Frame ← {\n",
    "    f ← (⎕UCS 9474) , ⍵ , (⎕UCS 9474)\n",
    "    f ← (⎕UCS 9472) ⍪ f ⍪ (⎕UCS 9472)\n",
    "    (r c) ← ⍴f\n",
    "    f[1 r;1 c] ← 2 2⍴⎕UCS 9484 9488 9492 9496\n",
    "    f\n",
    "}"
   ]
  },
  {
   "cell_type": "code",
   "execution_count": 158,
   "metadata": {},
   "outputs": [
    {
     "data": {
      "text/html": [
       "<span style=\"white-space:pre; font-family: monospace\">┌──────────┐\n",
       "│Canberra  │\n",
       "│Paris     │\n",
       "│Washington│\n",
       "│Moscow    │\n",
       "│Martigues │\n",
       "│Mexico    │\n",
       "└──────────┘\n",
       "</span>"
      ]
     },
     "execution_count": 158,
     "metadata": {},
     "output_type": "execute_result"
    }
   ],
   "source": [
    "Frame towns"
   ]
  },
  {
   "cell_type": "markdown",
   "metadata": {},
   "source": [
    "**Exercise 8**:\n",
    "\n",
    "Well, what if what we wrote actually works for vectors? Let's give it a try:"
   ]
  },
  {
   "cell_type": "code",
   "execution_count": 159,
   "metadata": {},
   "outputs": [
    {
     "name": "stderr",
     "output_type": "stream",
     "text": [
      "RANK ERROR\n",
      "Frame[4] f[1 r;1 c]←2 2⍴⎕UCS 9484 9488 9492 9496\n",
      "          ∧\n"
     ]
    }
   ],
   "source": [
    "Frame 'We are not out of the wood'"
   ]
  },
  {
   "cell_type": "markdown",
   "metadata": {},
   "source": [
    "A `RANK ERROR`? That makes no sense, after I frame `⍵` with the horizontal and vertical bars I have a framed matrix, I just need to update the corners... right? Wrong! Here's what happens if you use `,` and `⍪` on a vector:"
   ]
  },
  {
   "cell_type": "code",
   "execution_count": 110,
   "metadata": {},
   "outputs": [
    {
     "data": {
      "text/html": [
       "<span style=\"white-space:pre; font-family: monospace\">─│We are not out of the wood│─\n",
       "</span>"
      ]
     },
     "execution_count": 110,
     "metadata": {},
     "output_type": "execute_result"
    }
   ],
   "source": [
    "text ← 'We are not out of the wood'\n",
    "(⎕UCS 9472) ⍪ (⎕UCS 9474) , text , (⎕UCS 9474) ⍪ (⎕UCS 9472)"
   ]
  },
  {
   "cell_type": "markdown",
   "metadata": {},
   "source": [
    "Because `text` has shape"
   ]
  },
  {
   "cell_type": "code",
   "execution_count": 111,
   "metadata": {},
   "outputs": [
    {
     "data": {
      "text/html": [
       "<span style=\"white-space:pre; font-family: monospace\">26\n",
       "</span>"
      ]
     },
     "execution_count": 111,
     "metadata": {},
     "output_type": "execute_result"
    }
   ],
   "source": [
    "⍴text"
   ]
  },
  {
   "cell_type": "markdown",
   "metadata": {},
   "source": [
    "the primitives `,` and `⍪` work the same way. We need to turn input vectors into matrices with 1 row before we proceed with the framing process.\n",
    "\n",
    "Let us define `shape ← ⍴⍵` as the shape of the input `Frame` gets. If `⍵` is a matrix, then `shape` is the appropriate shape, otherwise we need `⍵` to be reshaped into `1,shape`. In traditional programming languages we could use an `if-else` statement. However, dfns do not have support for such flow control structures and so we need to handle this matter in a different way.\n",
    "\n",
    "A possibility is to create the vector `v←1,shape` and then index into it with care. If `⍵` is a vector, `v` has 2 elements and we want both. If `⍵` is a matrix, `v` has 3 elements and we want the elements in positions `2 3`. A way of generating the indices `1 2` if `⍵` is a vector and `2 3` if `⍵` is a matrix is with the expression `0 1+≢⍴⍵`:\n",
    "\n",
    "| `⍵` | `≢⍴⍵` | `0 1+≢⍴⍵` |\n",
    "| :- | :-: | :-: |\n",
    "| vector | 1 | 1 2 |\n",
    "| matrix | 2 | 2 3 |\n",
    "\n",
    "When implementing the function we don't need to actually create `v`:"
   ]
  },
  {
   "cell_type": "code",
   "execution_count": 160,
   "metadata": {},
   "outputs": [],
   "source": [
    "]dinput\n",
    "Frame ← {\n",
    "    shape ← (1,⍴⍵)[0 1+≢⍴⍵]\n",
    "    f ← shape⍴⍵\n",
    "    f ← (⎕UCS 9474) , f , (⎕UCS 9474)\n",
    "    f ← (⎕UCS 9472) ⍪ f ⍪ (⎕UCS 9472)\n",
    "    (r c) ← ⍴f\n",
    "    f[1 r;1 c] ← 2 2⍴⎕UCS 9484 9488 9492 9496\n",
    "    f\n",
    "}"
   ]
  },
  {
   "cell_type": "code",
   "execution_count": 161,
   "metadata": {},
   "outputs": [
    {
     "data": {
      "text/html": [
       "<span style=\"white-space:pre; font-family: monospace\">┌──────────────────────────┐\n",
       "│We are not out of the wood│\n",
       "└──────────────────────────┘\n",
       "</span>"
      ]
     },
     "execution_count": 161,
     "metadata": {},
     "output_type": "execute_result"
    }
   ],
   "source": [
    "Frame text"
   ]
  },
  {
   "cell_type": "code",
   "execution_count": 162,
   "metadata": {},
   "outputs": [
    {
     "data": {
      "text/html": [
       "<span style=\"white-space:pre; font-family: monospace\">┌──────────┐\n",
       "│Canberra  │\n",
       "│Paris     │\n",
       "│Washington│\n",
       "│Moscow    │\n",
       "│Martigues │\n",
       "│Mexico    │\n",
       "└──────────┘\n",
       "</span>"
      ]
     },
     "execution_count": 162,
     "metadata": {},
     "output_type": "execute_result"
    }
   ],
   "source": [
    "Frame towns"
   ]
  },
  {
   "cell_type": "markdown",
   "metadata": {},
   "source": [
    "**Exercise 9**:\n",
    "\n",
    "The logic to solving this task resembles what we did in the first exercises. First we will find *Where* the first letter is, and then we will use indexing to put the second letter in those positions:"
   ]
  },
  {
   "cell_type": "code",
   "execution_count": 168,
   "metadata": {},
   "outputs": [],
   "source": [
    "]dinput\n",
    "Switch1 ← {\n",
    "    r ← ⍵\n",
    "    r[⍸⍺[1]=⍵] ← ⍺[2]\n",
    "    r\n",
    "}"
   ]
  },
  {
   "cell_type": "code",
   "execution_count": 167,
   "metadata": {},
   "outputs": [
    {
     "data": {
      "text/html": [
       "<span style=\"white-space:pre; font-family: monospace\">A bird in che hand is worch cwo in che bush\n",
       "</span>"
      ]
     },
     "execution_count": 167,
     "metadata": {},
     "output_type": "execute_result"
    }
   ],
   "source": [
    "'tc' Switch1 'A bird in the hand is worth two in the bush'"
   ]
  },
  {
   "cell_type": "markdown",
   "metadata": {},
   "source": [
    "We take the intermediate step of doing `r ← ⍵` because we can't assign to `⍵` and so `⍵[⍸⍺[1]=⍵] ← ⍺[2]` wouldn't work."
   ]
  },
  {
   "cell_type": "markdown",
   "metadata": {},
   "source": [
    "**Exercise 10**:\n",
    "\n",
    "A very obvious modification of the function above is to write"
   ]
  },
  {
   "cell_type": "code",
   "execution_count": 171,
   "metadata": {},
   "outputs": [],
   "source": [
    "]dinput\n",
    "Switch2 ← {\n",
    "    r ← ⍵\n",
    "    r[⍸⍺[1]=⍵] ← ⍺[2]\n",
    "    r[⍸⍺[2]=⍵] ← ⍺[1]\n",
    "    r\n",
    "}"
   ]
  },
  {
   "cell_type": "code",
   "execution_count": 172,
   "metadata": {},
   "outputs": [
    {
     "data": {
      "text/html": [
       "<span style=\"white-space:pre; font-family: monospace\">A berd en thi hand es worth two en thi bush\n",
       "</span>"
      ]
     },
     "execution_count": 172,
     "metadata": {},
     "output_type": "execute_result"
    }
   ],
   "source": [
    "'ei' Switch2 'A bird in the hand is worth two in the bush'"
   ]
  },
  {
   "cell_type": "markdown",
   "metadata": {},
   "source": [
    "However, a really elegant solution becomes possible if we use the *Index Of* primitive and the concept of changing the frame of reference we discussed previously (cf. [Changing The Frame of Reference](./Some-Primitive-Functions.ipynb#Changing-The-Frame-of-Reference)). We used this concept to convert lower case letters into upper case letters."
   ]
  },
  {
   "cell_type": "code",
   "execution_count": 173,
   "metadata": {},
   "outputs": [],
   "source": [
    "]dinput\n",
    "Switch2 ← {\n",
    "    pos ← (⍺,⍵)⍳⍵\n",
    "    (⍺[2 1],⍵)[pos]\n",
    "}"
   ]
  },
  {
   "cell_type": "code",
   "execution_count": 174,
   "metadata": {},
   "outputs": [
    {
     "data": {
      "text/html": [
       "<span style=\"white-space:pre; font-family: monospace\">A berd en thi hand es worth two en thi bush\n",
       "</span>"
      ]
     },
     "execution_count": 174,
     "metadata": {},
     "output_type": "execute_result"
    }
   ],
   "source": [
    "'ei' Switch2 'A bird in the hand is worth two in the bush'"
   ]
  },
  {
   "cell_type": "markdown",
   "metadata": {},
   "source": [
    "What exactly is happening? Well, we are basically establishing the initial and final sets (as seen in [Changing The Frame of Reference](./Some-Primitive-Functions.ipynb#Changing-The-Frame-of-Reference)) as the sentence itself, but preceded by the two characters. For the initial set, we have them in their input order (the `(⍺,⍵)` above) but for the final set we swap them (the `⍺[2 1],⍵` above).\n",
    "\n",
    "This establishes the following \"conversion\":\n",
    "\n",
    "```\n",
    "eiA bird in the hand is worth two in the bush\n",
    "ieA bird in the hand is worth two in the bush\n",
    "```\n",
    "\n",
    "Whenever I have a character, I look for it in the first line, stopping as soon as I find it (that is what `⍳` does) and then I swap it with the corresponding character in the line below.\n",
    "\n",
    "We can thus re-implement `Switch2` with more intermediate steps, to make this more obvious:"
   ]
  },
  {
   "cell_type": "code",
   "execution_count": 175,
   "metadata": {},
   "outputs": [],
   "source": [
    "]dinput\n",
    "Switch2 ← {\n",
    "    ⎕← initialSet ← ⍺,⍵\n",
    "    pos ← initialSet⍳⍵\n",
    "    ⎕← finalSet ← ⍺[2 1],⍵\n",
    "    finalSet[pos]\n",
    "}"
   ]
  },
  {
   "cell_type": "code",
   "execution_count": 176,
   "metadata": {},
   "outputs": [
    {
     "data": {
      "text/html": [
       "<span style=\"white-space:pre; font-family: monospace\">eiA bird in the hand is worth two in the bush\n",
       "ieA bird in the hand is worth two in the bush\n",
       "A berd en thi hand es worth two en thi bush\n",
       "</span>"
      ]
     },
     "execution_count": 176,
     "metadata": {},
     "output_type": "execute_result"
    }
   ],
   "source": [
    "'ei' Switch2 'A bird in the hand is worth two in the bush'"
   ]
  },
  {
   "cell_type": "code",
   "execution_count": null,
   "metadata": {},
   "outputs": [],
   "source": []
  }
 ],
 "metadata": {
  "kernelspec": {
   "display_name": "Dyalog APL",
   "language": "apl",
   "name": "dyalog-kernel"
  },
  "language_info": {
   "file_extension": ".apl",
   "mimetype": "text/apl",
   "name": "APL"
  },
  "toc": {
   "base_numbering": 1,
   "nav_menu": {},
   "number_sections": false,
   "sideBar": true,
   "skip_h1_title": true,
   "title_cell": "Table of Contents",
   "title_sidebar": "Contents",
   "toc_cell": false,
   "toc_position": {},
   "toc_section_display": true,
   "toc_window_display": false
  }
 },
 "nbformat": 4,
 "nbformat_minor": 4
}
