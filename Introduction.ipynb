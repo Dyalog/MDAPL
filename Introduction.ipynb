{
 "cells": [
  {
   "cell_type": "markdown",
   "metadata": {},
   "source": [
    "**Questions**:\n",
    "\n",
    " - Can someone confirm Dyalog APL now has $17$ operators? The original text says $10$. Here's the operators I'm counting: `/\\⌿⍀ ¨⍨⍣.∘⍤⍥@ ⍠⌸⌺⌶ &`.\n",
    "\n",
    " - How pedantic should I be with small table-like sections that are formatted with alignments in the original text? E.g. [right in the beginning of the \"Let's Write Our First Programs\" section](#Let's-Write-Our-First-Programs) I split the table-like section in a small enumeration with the code inputs or after that, the explanation of the dfn I wrote as a simple enumeration;\n",
    "\n",
    " - Sort of a meta question, but how much freedom do I have to rewrite little portions of the text? Cf.\n",
    "   - the questions below;\n",
    "   - [the first paragraph of the \"Simple Operations\" sub sub-section](#Simple-Operations), which I changed a bit because the book is now being written in a Jupyter notebook;\n",
    "   - the table just before the section on [reduction](#Reduction-Unifies-Traditional-Notations);\n",
    "\n",
    " - Should we go with \"double click\" or \"double-click\"? This chapter uses both;\n",
    "\n",
    " - Can I use lowercase after a colon? I.e. instead of \"_\\[...\\] about them here: We won't \\[...\\]_ \" have \"_\\[...\\] about them here: we won't \\[...\\]_ \".\n",
    " \n",
    " - Should chapter titles be Camel Cased or should they be written in standard English? First letter is upper case and the remainder is lower cased by default?\n",
    " \n",
    " - Can I use MathJax around numbers embedded in the text? Or should I transcribe them to English? Or should I leave them as-is? E.g. [last sentence of the first paragraph here](#Array-Processing).\n",
    " \n",
    " - Can I replace the PASCAL example code with Python code [at the end of the \"Array Processing\" section](#Array-Processing)? PASCAL is _so_ old...\n",
    "   - on a related note, in the [Indexing](#Indexing) section the author says many languages use () for indexing instead of []; I'd like to update the sentence to say using [] is like many other programming languages.\n",
    " \n",
    " - For aligned text should I use LaTeX tables or Markdown arrays/alignat environments? Cf. [this example](#Most-Symbols-Have-a-Double-Meaning).\n",
    " \n",
    "**Notes**:\n",
    "\n",
    " - May want to update the [\"There Is a Lot to Discover Yet\"](#Create-User-friendly-Applications-with-the-GUI) on GUIs;\n",
    " - May want to update the [examples given](#Is-Dyalog-APL-A-Professional-Tool?) of APL in real companies;\n",
    " - ..."
   ]
  },
  {
   "cell_type": "markdown",
   "metadata": {},
   "source": [
    "# Introduction - Will You Play APL With Me?\n",
    "\n",
    "## Will You Follow Us?\n",
    "\n",
    "We would like to have you discover a new land, a land where people who may or may not be specialists in programming can process their data, build computerised applications, and take pleasure in using a programming language which is an extremely elegant and powerful tool of thought.\n",
    "\n",
    "### Beware: Dyalog APL is Addictive!\n",
    "\n",
    "Among the hundreds of programming languages which have been created, most of them share the same fundamentals, the same basic unstruction set, approximately the same functions, and by and large the same methods to control the logic of a program. This greatly influences the way people imagine and build solutions to computing problems. Because the languages are so similar, the solutions are similar. Does it mean that these are the only ways of solving problems? Of course not!\n",
    "\n",
    "Dyalog APL is there to open doors, windows, and minds, prove that original new methods do exist, and that matehmatics is not limited to four basic operations. Using APL will expand and extend the range of mental models that you use to solve problems, but beware:\n",
    "\n",
    "Once you are hooked on APL, there is a real risk that you will no longer accept the limitations of \"traditional\" programming languages.\n",
    "\n",
    "### Installation and Keyboard\n",
    "\n",
    "If you do not have access to a computer with Dyalog APL installed, you should still be able to gain an appreciation of the language from these pages and, we hope, enjoy the experience.\n",
    "\n",
    "If you have installed Dyalog, not only can you read this book, but you can also experiment on your own computer using the examples below, and invent your own data and calculations.\n",
    "\n",
    "If you have a copy of Dyalog APL, install it as explained in the User Guide. Just run the installation program and accept all the defaults; there is no need to change anything.\n",
    "\n",
    "You might like to refer to section A-1 for additional installation hints.\n",
    "\n",
    "As you will see in the following pages, APL uses special symbols, like `⍉`, `⍴` and `↓`, which you enter using a special keyboard layout.\n",
    "\n",
    "You will not need all of the special symbols to read the following pages. The picture below illustrates a cut-down version of the UK keyboard layout, with only the APL symbols that are referred to in this introduction. They are shown on a grey background. The US keyboard is slightly different, but the symbols we need are positioned identically. The full keyboard layout is shown in the User Guide.\n",
    "\n",
    "![UK keyboard layout](res/Fig_A4_Kbd_UK.png)\n",
    "\n",
    "Here is how the keyboard is to be used:\n",
    "\n",
    " - All the standard English letters, numerals and symbols are typed as usual.\n",
    " \n",
    " - The majority of the APL symbols are obtained by pressing the \"*Ctrl*\" key, in conjunction with another key. For example, to obtain `⍴`, you must press *Ctrl* and R. From now on, this keystroke will be identified as \"*Ctrl* + R\". On the keyboard layout illustrated above, the symbols that you enter this way are printed at the bottom-right corner of each key.\n",
    " \n",
    " - Most other APL symbols are obtained by simultaneously pressing \"*Ctrl*\" and \"*Shift*\" and then the appropriate key. For example, to obtain `⍉`, you must press *Ctrl* and *Shift* and 6. From now on, this keystroke will be identified as \"*Ctrl*+*Shift*+6\". On the keyboard layout illustrated above, the symbols that you enter this way are printed at the top-right corner of each key.\n",
    " \n",
    " - A few APL symbols are obtained by pressing the \"*Alt Gr*\" key (or *Ctrl*+*Alt* if your keyboard does not have an \"*Alt Gr*\" key), simultaneously with another key, but you don't have to bother about them here: we won't be using them in the examples in this introduction.\n",
    " \n",
    " - In case you initially have any difficulty with the keyboard, there is a \"language bar\" on top of the sessio nscree, with all the APL symbols on it. When you need a symbol, you just have to click on it and the symbol will appear wherever your cursor is positioned.\n",
    " \n",
    "You may notice that some symbols appear twice on the keyboard. This is the case for the symbols < = >. These symbols are all part of a normal keyboard (the black ones), but they have been repeated on the APL keyboard, mostly in order to group the symbols used for _comparison functions_ together (the red ones). Do not worry: no matter which key you use to produce one of the duplicated symbols, you'll obtain the same result.\n",
    "\n",
    "### Utilities and Data\n",
    "\n",
    "For most of the examples, you can just type what you read in the following pages, but sometimes you will need some data which we have prepared for you.\n",
    "\n",
    "This data is contained in a special file (called a workspace) named `DyalogTutor_EN.dws` which accompanies this book.\n",
    "\n",
    "If you don't have the file, please refer to section A-1 for instructions on how to download it.\n",
    "\n",
    "The file can only be opened by Dyalog APL. You can open it as follows:\n",
    "\n",
    " - In Windows Explorer, double-click on the file's name. APL will be started, and it will then open the file.\n",
    " - Or, start APL by double clicking on the Dyalog APL icon. The, using the \"`File/Open`\" menu, search for the file and open it.\n",
    " - Alternatively, you can use an APL command to load it into the session, like shown below:"
   ]
  },
  {
   "cell_type": "code",
   "execution_count": 1,
   "metadata": {},
   "outputs": [
    {
     "data": {
      "text/html": [
       "<span style=\"white-space:pre; font-family: monospace\">                                                                                                  \n",
       "Welcome                                                                                           \n",
       "-------                                                                                           \n",
       "This Workspace contains most of the variables and functions used in the ENglish tutorial.         \n",
       "You can use and modify them at will for your own tests.                                           \n",
       "If you want to preserve and retrieve your modifications, save the                                 \n",
       "contents of the workspace before closing your session, by pressing                                \n",
       "the \"Save\" button, or using the \"Save as\" menu option.                                            \n",
       "If you do not want this message displayed again, type:                                            \n",
       "      lx←''                                                                                       \n",
       "... then save the workspace as indicated above.                                                   \n",
       "To know in which chapter an object is referenced, type:                                           \n",
       "      )ed Refs                                                                                    \n",
       "</span>"
      ]
     },
     "execution_count": 1,
     "metadata": {},
     "output_type": "execute_result"
    }
   ],
   "source": [
    "⎕load 'res/DyalogTutor_EN.DWS'"
   ]
  },
  {
   "cell_type": "markdown",
   "metadata": {},
   "source": [
    "Once the workspace has been loaded, a welcome message is displayed (the message you can see above), and you can check that the workspace contains the variables we shall be using in the following pages:"
   ]
  },
  {
   "cell_type": "code",
   "execution_count": 2,
   "metadata": {},
   "outputs": [
    {
     "data": {
      "text/html": [
       "<span style=\"white-space:pre; font-family: monospace\">AGE     Abstract        Actual  Ages    Alpha   BHSales Bignum  Blah    Boys    CSS1    Car     Categories      Chemistry\n",
       "Children        Codes   Col_Tree        Contents        Coords  Copied  Cost    CounCodes       Countries       Currencies\n",
       "Damned  Dept    Describe        Discount        Dummy   Emptiness       EvenPage        Exp     For     Forecast        \n",
       "Friends G1      G2      G3      G4      Gender  Girls   GridData        HCaps   Help    Hogwash Hundred I4Qty   I4Ref   \n",
       "I6Long  I6Start I6Text  Inf     Inv     Invcur  Invest  John1   John1f  John1s  L1      L2      L3      L4      Left    \n",
       "Letters MLK     MN      MT      Magoo   Manum   Matex   Memo    MixMat  MixVec  MonMat  MonVec  Money   Movies  MyIndex \n",
       "MyPage  MyPage2 Names   NesMat  NesVec  Numbers Nums    OddPage One     Ours    PCodes  PG1     PGb     PGt     Pattern \n",
       "Percent PersoAxis       Phrase  Planning        Pool    Prefix  Presence        Price   Prices  Prizes  Prod    Purchased\n",
       "Qty     Rates   RawPS   Refs    Release Results Right   Row_DeepData    Row_DeepTree    Row_Tree        SAL     Sailor  \n",
       "Salaries        Sales   Segs    Slices  Small   Sold    Status  StudCat StudExp StudRates       Subcon  Suffix  Swansea TM\n",
       "Tabu    Tale    Tam     Tests   Text    TheirAge        TheirChildren   TheirSalary     TheirStatus     Three   Tickets \n",
       "Title   Tome    Towns   Trailer Twelve  Two     Values  Vec3    Vec4    Vec5    Wanabuy Weird   What    Winners Words   X\n",
       "XG1     XG10    XG2     XG4     XG7     XG8     XG9     Xal     Y       Years   Yop     ZID     ZSG     acme    angles  \n",
       "bmps    bookid  boxes   comic   demo    guy     homedir htm     htmparas        lx      mat     mm      oneofeach       \n",
       "pageref path    pg1     pg2     pgh     rtf     rtf2    rtfbad  rtfbullets      rtfdash rtfg    rtftabs rtftest str     \n",
       "text    towerchart      txt     zsg     ∆cmap   ∆seatrial       \n",
       "</span>"
      ]
     },
     "execution_count": 2,
     "metadata": {},
     "output_type": "execute_result"
    }
   ],
   "source": [
    ")vars"
   ]
  },
  {
   "cell_type": "markdown",
   "metadata": {},
   "source": [
    "You can display the contents of any variable by hovering over its name with the mouse-pointer, by double-clicking on its name, or just by typing its name and pressing the _Enter_ key, like this:"
   ]
  },
  {
   "cell_type": "code",
   "execution_count": 3,
   "metadata": {},
   "outputs": [
    {
     "data": {
      "text/html": [
       "<span style=\"white-space:pre; font-family: monospace\">150 200 100  80  80  80\n",
       "300 330 360 400 500 520\n",
       "100 250 350 380 400 450\n",
       " 50 120 220 300 320 350\n",
       "</span>"
      ]
     },
     "execution_count": 3,
     "metadata": {},
     "output_type": "execute_result"
    }
   ],
   "source": [
    "Forecast"
   ]
  },
  {
   "cell_type": "markdown",
   "metadata": {},
   "source": [
    "<center><b>Now, you are ready, fasten your seatbelts, we're off!</b></center>\n",
    "\n",
    "## Our First Steps into APL's Magic World\n",
    "\n",
    "### Simple Operations\n",
    "\n",
    "In the APL session, what you type starts 6 characters right from the left marget (we say it is \"*indented*\"), whereas the computer's response begins at the left margin. For additional clarity, in the following pages the characters typed by the user are in a grey background and are preceeded by a `In [X]:` annotation, the response given by the computer being in a white background and preceeded by a corresponding `Out[X]:` annotation.\n",
    "\n",
    "You will notice that in the examples given in the book we very often put a blank space between a symbol and the surrounding names or values. This is unnecessary in most cases; we only do so in order to improve readability. Later on, we will gradually cease to insert the blank spaces in expressions that you should become familiar with along the way.\n",
    "\n",
    "An expression gets evaluated and the result shown in the session when you press the *Enter* key. Let's try some simple expressions:"
   ]
  },
  {
   "cell_type": "code",
   "execution_count": 4,
   "metadata": {},
   "outputs": [
    {
     "data": {
      "text/html": [
       "<span style=\"white-space:pre; font-family: monospace\">80\n",
       "</span>"
      ]
     },
     "execution_count": 4,
     "metadata": {},
     "output_type": "execute_result"
    }
   ],
   "source": [
    "27 + 53"
   ]
  },
  {
   "cell_type": "code",
   "execution_count": 5,
   "metadata": {},
   "outputs": [
    {
     "data": {
      "text/html": [
       "<span style=\"white-space:pre; font-family: monospace\">563\n",
       "</span>"
      ]
     },
     "execution_count": 5,
     "metadata": {},
     "output_type": "execute_result"
    }
   ],
   "source": [
    "1271 - 708"
   ]
  },
  {
   "cell_type": "code",
   "execution_count": 6,
   "metadata": {},
   "outputs": [
    {
     "data": {
      "text/html": [
       "<span style=\"white-space:pre; font-family: monospace\">21.5\n",
       "</span>"
      ]
     },
     "execution_count": 6,
     "metadata": {},
     "output_type": "execute_result"
    }
   ],
   "source": [
    "86 ÷ 4        ⍝ The Divide sign is obtained using Ctrl+="
   ]
  },
  {
   "cell_type": "code",
   "execution_count": 7,
   "metadata": {},
   "outputs": [
    {
     "data": {
      "text/html": [
       "<span style=\"white-space:pre; font-family: monospace\">472\n",
       "</span>"
      ]
     },
     "execution_count": 7,
     "metadata": {},
     "output_type": "execute_result"
    }
   ],
   "source": [
    "59 × 8        ⍝ The Multiply sign is obtained using Ctrl+-"
   ]
  },
  {
   "cell_type": "markdown",
   "metadata": {},
   "source": [
    "You can see that APL behaves like any hand-held calculator with, however, a small difference; multiplication is represented by the multiplication symbol (`×`) which is used in schools in many countries; likewise for division (`÷`).\n",
    "\n",
    "In most other computer languages, a star `*` is used for Multiply and `/` for Divide. This is a legacy of the early days of computers, when the character set was limited to the one available on a typewriter. At the time it was decided to use `*` and `/` in place of `×` and `÷`. But it is now possible to display any type of symbol on a screen and on a printer, and this transposition is no longer justifyable. The use of common symbols, which are taught all over the world, aids the understanding of APL by non programmers.\n",
    "\n",
    "If you are familiar with other programming languages, you may occasionally and erroneously use `*` instead of `×`. Let's see what might happen then:"
   ]
  },
  {
   "cell_type": "code",
   "execution_count": 8,
   "metadata": {},
   "outputs": [
    {
     "data": {
      "text/html": [
       "<span style=\"white-space:pre; font-family: monospace\">343\n",
       "</span>"
      ]
     },
     "execution_count": 8,
     "metadata": {},
     "output_type": "execute_result"
    }
   ],
   "source": [
    "7 * 3        ⍝ In APL the star means \"Power\"\n",
    "             ⍝ so that 7*3 is equivalent to 7×7×7"
   ]
  },
  {
   "cell_type": "markdown",
   "metadata": {},
   "source": [
    "### Variables\n",
    "\n",
    "As in any programming language, it is possible to create variables. Just choose a name and use the left arrow to assign it a value. In APL a numeric value can consist of a single number, or several numbers separated by at least one blank space. The arrow can be obtained using *Ctrl*+["
   ]
  },
  {
   "cell_type": "code",
   "execution_count": 9,
   "metadata": {},
   "outputs": [],
   "source": [
    "VAT ← 19.6                    ⍝ Read it as: VAT gets 19.6\n",
    "Years ← 1952 1943 1986 2007"
   ]
  },
  {
   "cell_type": "markdown",
   "metadata": {},
   "source": [
    "The names are \"*case sensitive*\". It means that three variables named respectively `VAT`, `Vat` and `vat`, would be distinct, and may contain different values.\n",
    "\n",
    "To ask for the contents of a variable, just type its name and press *Enter*, like this:"
   ]
  },
  {
   "cell_type": "code",
   "execution_count": 10,
   "metadata": {},
   "outputs": [
    {
     "data": {
      "text/html": [
       "<span style=\"white-space:pre; font-family: monospace\">19.6\n",
       "</span>"
      ]
     },
     "execution_count": 10,
     "metadata": {},
     "output_type": "execute_result"
    }
   ],
   "source": [
    "VAT"
   ]
  },
  {
   "cell_type": "code",
   "execution_count": 11,
   "metadata": {},
   "outputs": [
    {
     "data": {
      "text/html": [
       "<span style=\"white-space:pre; font-family: monospace\">1952 1943 1986 2007\n",
       "</span>"
      ]
     },
     "execution_count": 11,
     "metadata": {},
     "output_type": "execute_result"
    }
   ],
   "source": [
    "Years"
   ]
  },
  {
   "cell_type": "markdown",
   "metadata": {},
   "source": [
    "## Array Processing\n",
    "\n",
    "APL is able to operate on two sets of numbers, provided those two sets have the same \"shape\". For the moment, understand this as \"the same number of items\". For example, suppose that you have a list of prices of $5$ products, and the quantity bought of each:\n",
    "\n",
    "| | | | | | |\n",
    "| :- | --- | --- | --- | --- | --- |\n",
    "| Prices | 5.20 | 11.50 | 3.60 | 4.00 | 8.45 |\n",
    "| Quantities | 2 | 1 | 3 | 6 | 2 |\n",
    "\n",
    "You can create two variables like this:"
   ]
  },
  {
   "cell_type": "code",
   "execution_count": 12,
   "metadata": {},
   "outputs": [],
   "source": [
    "Price ← 5.2 11.5 3.6 4 8.45\n",
    "Qty   ← 2 1 3 6 2"
   ]
  },
  {
   "cell_type": "markdown",
   "metadata": {},
   "source": [
    "When multiplied together, the variables are multiplied item by item, and produce a result of the same length. That result can be assigned to a new variable."
   ]
  },
  {
   "cell_type": "code",
   "execution_count": 13,
   "metadata": {},
   "outputs": [
    {
     "data": {
      "text/html": [
       "<span style=\"white-space:pre; font-family: monospace\">10.4 11.5 10.8 24 16.9\n",
       "</span>"
      ]
     },
     "execution_count": 13,
     "metadata": {},
     "output_type": "execute_result"
    }
   ],
   "source": [
    "Costs ← Price × Qty\n",
    "Costs"
   ]
  },
  {
   "cell_type": "markdown",
   "metadata": {},
   "source": [
    "This *array processing* capability eliminates most of the \"loops\" which are common to other programming languages. This remains true even if the data is not a simple list but a multi-dimensional array, of almost any size and number of dimensions.\n",
    "\n",
    "To make it clear, imagine that a Sales Director makes forecasts for sales of $4$ products over the coming $6$ months, and assigns them to the variable `Forecast`. At the end of the $6$ months, he assigns the real values to the variable `Actual`. Here they are:"
   ]
  },
  {
   "cell_type": "code",
   "execution_count": 14,
   "metadata": {},
   "outputs": [
    {
     "data": {
      "text/html": [
       "<span style=\"white-space:pre; font-family: monospace\">150 200 100  80  80  80\n",
       "300 330 360 400 500 520\n",
       "100 250 350 380 400 450\n",
       " 50 120 220 300 320 350\n",
       "</span>"
      ]
     },
     "execution_count": 14,
     "metadata": {},
     "output_type": "execute_result"
    }
   ],
   "source": [
    "Forecast"
   ]
  },
  {
   "cell_type": "code",
   "execution_count": 15,
   "metadata": {},
   "outputs": [
    {
     "data": {
      "text/html": [
       "<span style=\"white-space:pre; font-family: monospace\">141 188 111  87  82  74\n",
       "321 306 352 403 497 507\n",
       "118 283 397 424 411 409\n",
       " 43  91 187 306 318 363\n",
       "</span>"
      ]
     },
     "execution_count": 15,
     "metadata": {},
     "output_type": "execute_result"
    }
   ],
   "source": [
    "Actual"
   ]
  },
  {
   "cell_type": "markdown",
   "metadata": {},
   "source": [
    "We have not yet explained how you can build such arrays of data, but if you have APL installed, these variables are provided in the workspace file named \"`DyalogTutor_EN.dws`\". Refer to the \"*Utilities and Data*\" section above to see how you can load the workspace and access the data.\n",
    "\n",
    "It is clear that the first idea of any Sales Director will be to ask for the differences between what he expected and what he has really got. This can be done easily by typing:"
   ]
  },
  {
   "cell_type": "code",
   "execution_count": 16,
   "metadata": {},
   "outputs": [
    {
     "data": {
      "text/html": [
       "<span style=\"white-space:pre; font-family: monospace\">¯9 ¯12  11  7  2  ¯6\n",
       "21 ¯24  ¯8  3 ¯3 ¯13\n",
       "18  33  47 44 11 ¯41\n",
       "¯7 ¯29 ¯33  6 ¯2  13\n",
       "</span>"
      ]
     },
     "execution_count": 16,
     "metadata": {},
     "output_type": "execute_result"
    }
   ],
   "source": [
    "Actual - Forecast        ⍝ Note that to distinguish the sign attached to\n",
    "                         ⍝ negative values from subtraction, negative\n",
    "                         ⍝ values are shown with a high minus sign."
   ]
  },
  {
   "cell_type": "markdown",
   "metadata": {},
   "source": [
    "To enter negative values, the high minus sign can be obtained by pressing *Ctrl*+$2$.\n",
    "\n",
    "In most traditional programming languages, an operation like the one above requires two embedded loops. See what is needed in Python:\n",
    "\n",
    "```py\n",
    "for i in range(4):\n",
    "    for j in range(6):\n",
    "        diff[i][j] = actual[i][j] - forecast[i][j]\n",
    "```"
   ]
  },
  {
   "cell_type": "markdown",
   "metadata": {},
   "source": [
    "Even if this may seem obvious to a programmer, it is worth noting that most of the code has nothing to do with the user requirement. The only important thing (subtract forecasts from actual values) is hidden behind the detailed working of the computer program.\n",
    "\n",
    "To have a calculation done by a machine, one must translate our human wording into something that the computer can understand. With traditional languages, most of the effort is made by the man, to produce a program like the Python example above. The great advantage of APL is that the man has generally much less effort ot make, and the machine does the rest.\n",
    "\n",
    "We have seen that APL will work on two variables of the same shape; it also works if one of the variables is a single item, which is called a **_scalar_**. If so, the other variable may be of any shape.\n",
    "\n",
    "For example, if we want to calculate the amount of $19.6\\%$ VAT applied to the variable `Price` above, we can type `Price × VAT ÷ 100` (or `VAT × Price ÷ 100` as well), as shown here:"
   ]
  },
  {
   "cell_type": "code",
   "execution_count": 17,
   "metadata": {},
   "outputs": [
    {
     "data": {
      "text/html": [
       "<span style=\"white-space:pre; font-family: monospace\">1.0192 2.254 0.7056 0.784 1.6562\n",
       "</span>"
      ]
     },
     "execution_count": 17,
     "metadata": {},
     "output_type": "execute_result"
    }
   ],
   "source": [
    "Price × VAT ÷ 100        ⍝ This result would require some rounding\n",
    "                         ⍝ but this is not important for now"
   ]
  },
  {
   "cell_type": "markdown",
   "metadata": {},
   "source": [
    "## More Symbols\n",
    "\n",
    "Most programming languages represent only a very small subset of the mathematical functions using symbols (typically `+`, `-`, `*` and `/`). The creator of APL, Kenneth E. Iverson, chose to include many traditional mathematical symbols in his language, and also added some new symbols to the set that we already know so well.\n",
    "\n",
    "E.g.: Many functions which in other programming languages are library routines with names like \"Maximum\" have their own symbols in APL.\n",
    "\n",
    "The function \"**_Maximum_**\" (`⌈`) returns the greater of two numbers, or of two arrays of numbers compared item by item.\n",
    "\n",
    "There is also, as one might expect, a symbol for \"**_Minimum_**\" (`⌊`)."
   ]
  },
  {
   "cell_type": "code",
   "execution_count": 18,
   "metadata": {},
   "outputs": [
    {
     "data": {
      "text/html": [
       "<span style=\"white-space:pre; font-family: monospace\">87.3\n",
       "</span>"
      ]
     },
     "execution_count": 18,
     "metadata": {},
     "output_type": "execute_result"
    }
   ],
   "source": [
    "75.6 ⌈ 87.3                  ⍝ Maximum (Ctrl+S)"
   ]
  },
  {
   "cell_type": "code",
   "execution_count": 19,
   "metadata": {},
   "outputs": [
    {
     "data": {
      "text/html": [
       "<span style=\"white-space:pre; font-family: monospace\">30 28 52 20\n",
       "</span>"
      ]
     },
     "execution_count": 19,
     "metadata": {},
     "output_type": "execute_result"
    }
   ],
   "source": [
    "11 28 52 14 ⌈ 30 10 50 20    ⍝ Comparison item by item"
   ]
  },
  {
   "cell_type": "code",
   "execution_count": 20,
   "metadata": {},
   "outputs": [
    {
     "data": {
      "text/html": [
       "<span style=\"white-space:pre; font-family: monospace\">11 20 20 14\n",
       "</span>"
      ]
     },
     "execution_count": 20,
     "metadata": {},
     "output_type": "execute_result"
    }
   ],
   "source": [
    "11 28 52 14 ⌊ 20             ⍝ Minimum (Ctrl+D)"
   ]
  },
  {
   "cell_type": "markdown",
   "metadata": {},
   "source": [
    "APL supports about $70$ symbols. Since some symbols have more than one meaning one could argue at length about the exact number.\n",
    "\n",
    "This is nothing to worry about: Some of the symbols are familiar, such as `×` or `>` or again `÷` and `-`, but also `!` and a good many others.\n",
    "\n",
    "## Most Symbols Have a Double Meaning\n",
    "\n",
    "This is not a peculiarity of APL; in algebra we are familiar with the use of symbols as common as the minus sign being used in two different ways.\n",
    "\n",
    "$$\n",
    "% created with https://isaurssaurav.github.io/mathjax-table-generator/\n",
    "\\begin{array} {lll}\\text{In the expression} & a = x - y & \\text{the minus sign means subtract} \\\\ \\text{Whereas in} & a = -y & \\text{the minus sign indicates the negation of $y$, that's different.} \\\\   \\end{array}\n",
    "$$\n",
    "\n",
    "$$\n",
    "\\begin{alignat}{3}\n",
    "&\\text{In the expression}\\quad &&a = x - y\\quad &&&\\text{the minus sign means subtract} \\\\\n",
    "&\\text{Whereas in} &&a = -y &&&\\text{the minus sign indicates the negation of $y$, that's different}\n",
    "\\end{alignat}\n",
    "$$\n",
    "\n",
    "| | | |\n",
    "| :- | :- | :- |\n",
    "| In the expression | $a = x - y$ | the minus sign means subtract |\n",
    "| Whereas in | $a = -y$ | the minus sign indicates the negation of $y$ |\n",
    "\n",
    "The first form is called the \"**_dyadic_**\" use of the symbol.\n",
    "The second form is called the \"**_monadic_**\" use of the symbol.\n",
    "\n",
    "It is the same in APL, where most of the symbols can have two meanings.\n",
    "\n",
    "For example, to find the shape (the dimensions) of an array, one uses the Greek letter Rho (`⍴`), which can be read \"*shape of ...*\", in its monadic use. It is produced using *Ctrl*+R."
   ]
  },
  {
   "cell_type": "code",
   "execution_count": 21,
   "metadata": {},
   "outputs": [
    {
     "data": {
      "text/html": [
       "<span style=\"white-space:pre; font-family: monospace\">5\n",
       "</span>"
      ]
     },
     "execution_count": 21,
     "metadata": {},
     "output_type": "execute_result"
    }
   ],
   "source": [
    "⍴ Price        ⍝ Monadic use\n",
    "               ⍝ Price has 5 items"
   ]
  },
  {
   "cell_type": "code",
   "execution_count": 22,
   "metadata": {},
   "outputs": [
    {
     "data": {
      "text/html": [
       "<span style=\"white-space:pre; font-family: monospace\">4 6\n",
       "</span>"
      ]
     },
     "execution_count": 22,
     "metadata": {},
     "output_type": "execute_result"
    }
   ],
   "source": [
    "⍴ Forecast     ⍝ Forecast has 4 rows of 6 items"
   ]
  },
  {
   "cell_type": "markdown",
   "metadata": {},
   "source": [
    "Used dyadically, the same symbol will organize items into a specified shape. For example, suppose that we want to create the matrix below:\n",
    "\n",
    "$$\n",
    "\\begin{array}{cc}\n",
    "25 & 60 \\\\\n",
    "33 & 47 \\\\\n",
    "11 & 44 \\\\\n",
    "53 & 28\n",
    "\\end{array}\n",
    "$$\n",
    "\n",
    "We must give the computer two pieces of information:\n",
    "\n",
    " - First the *shape* to give to the matrix: `4 2` ($4$ rows of $2$ columns)\n",
    " \n",
    " - Next the *contents* of the matrix: `25 60 33 47 11 44 53 28`\n",
    " \n",
    "It is the symbol `⍴` (Rho) which makes the connection between shape and the contents:"
   ]
  },
  {
   "cell_type": "code",
   "execution_count": 23,
   "metadata": {},
   "outputs": [
    {
     "data": {
      "text/html": [
       "<span style=\"white-space:pre; font-family: monospace\">25 60\n",
       "33 47\n",
       "11 44\n",
       "53 28\n",
       "</span>"
      ]
     },
     "execution_count": 23,
     "metadata": {},
     "output_type": "execute_result"
    }
   ],
   "source": [
    "Tab ← 4 2 ⍴ 25 60 33 47 11 44 53 28\n",
    "Tab"
   ]
  },
  {
   "cell_type": "markdown",
   "metadata": {},
   "source": [
    "A new variable `Tab` is thereby created, and this is also how the variables `Forecast` and `Actual` above were made.\n",
    "\n",
    "### Conventions\n",
    "\n",
    "In APL, we give special names to certain shapes of data:\n",
    "\n",
    "| | |\n",
    "| :- | :- |\n",
    "| **_Scalar_** | is used for a single value, a number like `456.18` or a single letter like `'Q'`. |\n",
    "| **_Vector_** | is a plain list of values. It may be composed of numbers like `Price` and `Qty`, or of letters like `'Once upon a time'` within single quotes. |\n",
    "| **_Array_** | is a generic word for any set of values, whatever the number of its dimensions (whatever its shape). |\n",
    "| **_Matrix_** | is an array with $2$ dimensions, like `Forecast` or `Tab`. |\n",
    "| **_Table_** | is another common word used for arrays with $2$ dimensions (matrices). |\n",
    "| **_Cube_** | is a common word used for arrays with $3$ dimensions. |\n",
    "\n",
    "## Reduction Unifies Traditional Notations\n",
    "\n",
    "Perhaps you remember the variable `Costs`:"
   ]
  },
  {
   "cell_type": "code",
   "execution_count": 24,
   "metadata": {},
   "outputs": [
    {
     "data": {
      "text/html": [
       "<span style=\"white-space:pre; font-family: monospace\">10.4 11.5 10.8 24 16.9\n",
       "</span>"
      ]
     },
     "execution_count": 24,
     "metadata": {},
     "output_type": "execute_result"
    }
   ],
   "source": [
    "Costs"
   ]
  },
  {
   "cell_type": "markdown",
   "metadata": {},
   "source": [
    "So what must we do to work out the total? Mathematicians are creative people who long ago devised the symbol $\\sum$, always with a pretty collection of indices above and below, which make it complex to understand and to type on a typewriter.\n",
    "\n",
    "In APL, the operation is written like this:"
   ]
  },
  {
   "cell_type": "code",
   "execution_count": 25,
   "metadata": {},
   "outputs": [
    {
     "data": {
      "text/html": [
       "<span style=\"white-space:pre; font-family: monospace\">73.6\n",
       "</span>"
      ]
     },
     "execution_count": 25,
     "metadata": {},
     "output_type": "execute_result"
    }
   ],
   "source": [
    "+/ Costs"
   ]
  },
  {
   "cell_type": "markdown",
   "metadata": {},
   "source": [
    "Simple, isn't it? This gives the total of all the items of the array.\n",
    "\n",
    "You can read this ias \"*Plus Reduction*\" of the variable `Costs`.\n",
    "\n",
    "To gain a better understanding of the process:\n",
    "\n",
    " - When we write an instruction such as `+/ 21 45 18 27 11`\n",
    "   - it works as if we had written `21 + 45 + 18 + 27 + 11`\n",
    "   - and we obtain the sum `122`.\n",
    "   \n",
    "In fact, it works as if we had \"inserted\" the symbol `+` between the values.\n",
    "\n",
    " - But then, if we write `×/ 21 45 18 27 11`\n",
    "   - it works as if we had written `21 × 45 × 18 × 27 × 11`\n",
    "   - so, we get the product `5051970`.\n",
    "   \n",
    "   \n",
    "   \n",
    " - Similarly, if we write `⌈/ 21 45 18 27 11`\n",
    "   - it works as if we had written `21 ⌈ 45 ⌈ 18 ⌈ 27 ⌈ 11`\n",
    "   - so, we obtain the largest term `45`.\n",
    "   \n",
    "Reduction, represented by the symbol `/`, belongs to a special category of symbols called \"***Operators***\". All the other symbols (`+` `-` `×` `⌈` `⍴` `⍉` ...) are called \"***Functions***\" (addition, subtraction, multiplication, maximum, shape, etc.).\n",
    "\n",
    "The arguments of a function are data (arrays):"
   ]
  },
  {
   "cell_type": "code",
   "execution_count": 26,
   "metadata": {},
   "outputs": [
    {
     "data": {
      "text/html": [
       "<span style=\"white-space:pre; font-family: monospace\">10.4 11.5 10.8 24 16.9\n",
       "</span>"
      ]
     },
     "execution_count": 26,
     "metadata": {},
     "output_type": "execute_result"
    }
   ],
   "source": [
    "Price × Qty"
   ]
  },
  {
   "cell_type": "markdown",
   "metadata": {},
   "source": [
    "Whereas at least one of the arguments of an operator is a function:"
   ]
  },
  {
   "cell_type": "code",
   "execution_count": 27,
   "metadata": {},
   "outputs": [
    {
     "data": {
      "text/html": [
       "<span style=\"white-space:pre; font-family: monospace\">14\n",
       "</span>"
      ]
     },
     "execution_count": 27,
     "metadata": {},
     "output_type": "execute_result"
    }
   ],
   "source": [
    "+/ Qty"
   ]
  },
  {
   "cell_type": "markdown",
   "metadata": {},
   "source": [
    "The left argument of *Reduction* can be one of many of the APL symbols, and it can also be the name of a user-defined program. This may give you an idea of the generality and power of the concept.\n",
    "\n",
    "Dyalog APL contains $17$ such powerful operators. If that is not enough, you can even write your own operators, just like you can write your own functions!\n",
    "\n",
    "## Let's Write Our First Programs\n",
    "\n",
    "Imagine that we want to calculate the average of the following numbers:"
   ]
  },
  {
   "cell_type": "code",
   "execution_count": 28,
   "metadata": {},
   "outputs": [],
   "source": [
    "Val ← 22 37 41 19 54 11 34"
   ]
  },
  {
   "cell_type": "markdown",
   "metadata": {},
   "source": [
    "We must:\n",
    "\n",
    " - first calculate the sum of the values:"
   ]
  },
  {
   "cell_type": "code",
   "execution_count": 29,
   "metadata": {},
   "outputs": [
    {
     "data": {
      "text/html": [
       "<span style=\"white-space:pre; font-family: monospace\">218\n",
       "</span>"
      ]
     },
     "execution_count": 29,
     "metadata": {},
     "output_type": "execute_result"
    }
   ],
   "source": [
    "+/ Val"
   ]
  },
  {
   "cell_type": "markdown",
   "metadata": {},
   "source": [
    " - next calculate the number of values:"
   ]
  },
  {
   "cell_type": "code",
   "execution_count": 30,
   "metadata": {},
   "outputs": [
    {
     "data": {
      "text/html": [
       "<span style=\"white-space:pre; font-family: monospace\">7\n",
       "</span>"
      ]
     },
     "execution_count": 30,
     "metadata": {},
     "output_type": "execute_result"
    }
   ],
   "source": [
    "⍴ Val"
   ]
  },
  {
   "cell_type": "markdown",
   "metadata": {},
   "source": [
    " - and finally divide one result by the other.\n",
    " \n",
    "The calculation can be written as the single formula:"
   ]
  },
  {
   "cell_type": "code",
   "execution_count": 31,
   "metadata": {},
   "outputs": [
    {
     "data": {
      "text/html": [
       "<span style=\"white-space:pre; font-family: monospace\">31.14285714\n",
       "</span>"
      ]
     },
     "execution_count": 31,
     "metadata": {},
     "output_type": "execute_result"
    }
   ],
   "source": [
    "(+/Val) ÷ (⍴Val)"
   ]
  },
  {
   "cell_type": "markdown",
   "metadata": {},
   "source": [
    "As it is quite likely that we shall often want to make this sort of calculation, it is preferable to store this expression in the form of a program.\n",
    "\n",
    "In APL we prefer the name ***defined function*** to the name \"program\".\n",
    "\n",
    "Defined functionsmay be used in the same way as the built-in functions represented by special symbols like `+` `-` `×` `÷` `>` `⍴` ..., which are called ***primitive functions***.\n",
    "\n",
    "To define a simple function like this one, here is the easiest way:"
   ]
  },
  {
   "cell_type": "code",
   "execution_count": 32,
   "metadata": {},
   "outputs": [],
   "source": [
    "Average ← {(+/⍵)÷(⍴⍵)}"
   ]
  },
  {
   "cell_type": "markdown",
   "metadata": {},
   "source": [
    " - `Average` is the program name;\n",
    " - `⍵` is a generic symbol which represents the array passed on the right;\n",
    " - `⍺` would be the generic symbol for the array passed on the left, if any.\n",
    " \n",
    "The definition of the function is delimited by a set of curly braces `{` and `}`. For more complext functions it is also possible to use a text editor, but this is beyond the scope of this short introduction.\n",
    "\n",
    "Once defined, this function may be invoked in a very simple way:"
   ]
  },
  {
   "cell_type": "code",
   "execution_count": 33,
   "metadata": {},
   "outputs": [
    {
     "data": {
      "text/html": [
       "<span style=\"white-space:pre; font-family: monospace\">31.14285714\n",
       "</span>"
      ]
     },
     "execution_count": 33,
     "metadata": {},
     "output_type": "execute_result"
    }
   ],
   "source": [
    "Average Val        ⍝ For execution, ⍵ will get the values\n",
    "                   ⍝ contained in Val"
   ]
  },
  {
   "cell_type": "code",
   "execution_count": 34,
   "metadata": {},
   "outputs": [
    {
     "data": {
      "text/html": [
       "<span style=\"white-space:pre; font-family: monospace\">41.25\n",
       "</span>"
      ]
     },
     "execution_count": 34,
     "metadata": {},
     "output_type": "execute_result"
    }
   ],
   "source": [
    "Average 12 74 56 23"
   ]
  },
  {
   "cell_type": "markdown",
   "metadata": {},
   "source": [
    "Let us also write two little dyadic functions, the left argument of which is `⍺`, and the right is `⍵`:"
   ]
  },
  {
   "cell_type": "code",
   "execution_count": 35,
   "metadata": {},
   "outputs": [
    {
     "data": {
      "text/html": [
       "<span style=\"white-space:pre; font-family: monospace\">63\n",
       "</span>"
      ]
     },
     "execution_count": 35,
     "metadata": {},
     "output_type": "execute_result"
    }
   ],
   "source": [
    "Plus ← {⍺+⍵}\n",
    "Times ← {⍺×⍵}\n",
    "(3 Plus 6) Times (5 Plus 2)"
   ]
  },
  {
   "cell_type": "markdown",
   "metadata": {},
   "source": [
    "As you can see, these functions behave exactly as if we had written `(3+6) × (5+2)`.\n",
    "\n",
    "We said in the preceding section that a user-defined program could be used by the *Reduce* operator; let us try:"
   ]
  },
  {
   "cell_type": "code",
   "execution_count": 36,
   "metadata": {},
   "outputs": [
    {
     "data": {
      "text/html": [
       "<span style=\"white-space:pre; font-family: monospace\">218\n",
       "</span>"
      ]
     },
     "execution_count": 36,
     "metadata": {},
     "output_type": "execute_result"
    }
   ],
   "source": [
    "Plus/ Val        ⍝ It works!"
   ]
  },
  {
   "cell_type": "markdown",
   "metadata": {},
   "source": [
    "## Indexing\n",
    "\n",
    "Returning to our vector of numbers `Val`:"
   ]
  },
  {
   "cell_type": "code",
   "execution_count": 37,
   "metadata": {},
   "outputs": [
    {
     "data": {
      "text/html": [
       "<span style=\"white-space:pre; font-family: monospace\">22 37 41 19 54 11 34\n",
       "</span>"
      ]
     },
     "execution_count": 37,
     "metadata": {},
     "output_type": "execute_result"
    }
   ],
   "source": [
    "Val"
   ]
  },
  {
   "cell_type": "markdown",
   "metadata": {},
   "source": [
    "In order to extract the $4^\\text{th}$ item, we just write:"
   ]
  },
  {
   "cell_type": "code",
   "execution_count": 38,
   "metadata": {},
   "outputs": [
    {
     "data": {
      "text/html": [
       "<span style=\"white-space:pre; font-family: monospace\">19\n",
       "</span>"
      ]
     },
     "execution_count": 38,
     "metadata": {},
     "output_type": "execute_result"
    }
   ],
   "source": [
    "Val[4]"
   ]
  },
  {
   "cell_type": "markdown",
   "metadata": {},
   "source": [
    "This is similar to many other programming languages, although some use parentheses instead of brackets.\n",
    "\n",
    "What is new is that one can extract several items in one instruction."
   ]
  },
  {
   "cell_type": "code",
   "execution_count": 39,
   "metadata": {},
   "outputs": [
    {
     "data": {
      "text/html": [
       "<span style=\"white-space:pre; font-family: monospace\">22 37 41 19 54 11 34\n",
       "</span>"
      ]
     },
     "execution_count": 39,
     "metadata": {},
     "output_type": "execute_result"
    }
   ],
   "source": [
    "Val"
   ]
  },
  {
   "cell_type": "code",
   "execution_count": 40,
   "metadata": {},
   "outputs": [
    {
     "data": {
      "text/html": [
       "<span style=\"white-space:pre; font-family: monospace\">37 19 34 22 19\n",
       "</span>"
      ]
     },
     "execution_count": 40,
     "metadata": {},
     "output_type": "execute_result"
    }
   ],
   "source": [
    "Val[2 4 7 1 4]        ⍝ One may extract the same item twice or more"
   ]
  },
  {
   "cell_type": "markdown",
   "metadata": {},
   "source": [
    "And of course, in the same way, one may modify one or more items of `Val` using their indexes. Naturally, one must provide as many values as there are items to modify, or a single value for all:"
   ]
  },
  {
   "cell_type": "code",
   "execution_count": 41,
   "metadata": {},
   "outputs": [
    {
     "data": {
      "text/html": [
       "<span style=\"white-space:pre; font-family: monospace\">0 37 0 19 0 11 34\n",
       "</span>"
      ]
     },
     "execution_count": 41,
     "metadata": {},
     "output_type": "execute_result"
    }
   ],
   "source": [
    "Val[3 5 1] ← 0\n",
    "Val"
   ]
  },
  {
   "cell_type": "code",
   "execution_count": 42,
   "metadata": {},
   "outputs": [
    {
     "data": {
      "text/html": [
       "<span style=\"white-space:pre; font-family: monospace\">111 37 300 19 77 11 34\n",
       "</span>"
      ]
     },
     "execution_count": 42,
     "metadata": {},
     "output_type": "execute_result"
    }
   ],
   "source": [
    "Val[3 5 1] ← 300 77 111\n",
    "Val                        ⍝ You can check that the 3rd item is now 300,\n",
    "                           ⍝ the 5th is 77, etc."
   ]
  },
  {
   "cell_type": "markdown",
   "metadata": {},
   "source": [
    "It is often necessary to extract the first few items from a list of values, for example the first $5$. Nothing could be easier:"
   ]
  },
  {
   "cell_type": "code",
   "execution_count": 43,
   "metadata": {},
   "outputs": [
    {
     "data": {
      "text/html": [
       "<span style=\"white-space:pre; font-family: monospace\">111 37 300 19 77\n",
       "</span>"
      ]
     },
     "execution_count": 43,
     "metadata": {},
     "output_type": "execute_result"
    }
   ],
   "source": [
    "Val[1 2 3 4 5]"
   ]
  },
  {
   "cell_type": "markdown",
   "metadata": {},
   "source": [
    "But if one needs to extract the first $500$ items from a long list, typing the integers from $1$ to $500$ would of course be very inconvenient.\n",
    "\n",
    "This is why APL has been given the symbol `⍳` (*Iota*), which produces the set of the first $n$ integers (`⍳` can be obtained using *Ctrl*+I).\n",
    "\n",
    "This, instead of writing `1 2 3 4 5 6 7 8`, it is sufficient to write `⍳8`.\n",
    "\n",
    "And to extract the first $500$ terms of a large vector, one may write: `Big[⍳500]`.\n",
    "\n",
    "We shall discover later an even simpler method.\n",
    "\n",
    "## Calculating Without Writing Programs\n",
    "\n",
    "The employees of a company are divided into three hierarchical categories, denoted simply $1$, $2$ and $3$. One assigns to two variables the salaries and the categories of these employees, as shown here:"
   ]
  },
  {
   "cell_type": "code",
   "execution_count": 44,
   "metadata": {},
   "outputs": [
    {
     "data": {
      "text/html": [
       "<span style=\"white-space:pre; font-family: monospace\">4225 1619 3706 2240 2076 1389 3916 3918 4939 2735 3155 1987 4105 3310 2843 1909 2132 3055 4160 2202 3488 2614 2088\n",
       "</span>"
      ]
     },
     "execution_count": 44,
     "metadata": {},
     "output_type": "execute_result"
    }
   ],
   "source": [
    "Salaries"
   ]
  },
  {
   "cell_type": "code",
   "execution_count": 45,
   "metadata": {},
   "outputs": [
    {
     "data": {
      "text/html": [
       "<span style=\"white-space:pre; font-family: monospace\">3 1 3 2 2 1 3 3 3 2 3 1 3 2 3 2 1 3 3 2 3 2 1\n",
       "</span>"
      ]
     },
     "execution_count": 45,
     "metadata": {},
     "output_type": "execute_result"
    }
   ],
   "source": [
    "Categories"
   ]
  },
  {
   "cell_type": "markdown",
   "metadata": {},
   "source": [
    "Do they never want to increase these salaries? (what has our poor world come to!).\n",
    "\n",
    "A rumour reaches us about their plans: They want a different percentage increase for each category, according to the following scale:\n",
    "\n",
    "| Category | Suggested increase |\n",
    "| --- | --- |\n",
    "| $1$ | $8\\%$ |\n",
    "| $2$ | $5\\%$ |\n",
    "| $3$ | $2\\%$ |\n",
    "\n",
    "How much is this going to cost the company?\n",
    "\n",
    "We create a variable containing the above three rates:"
   ]
  },
  {
   "cell_type": "code",
   "execution_count": 46,
   "metadata": {},
   "outputs": [
    {
     "data": {
      "text/html": [
       "<span style=\"white-space:pre; font-family: monospace\">0.08 0.05 0.02\n",
       "</span>"
      ]
     },
     "execution_count": 46,
     "metadata": {},
     "output_type": "execute_result"
    }
   ],
   "source": [
    "Rates ← 8 5 2 ÷ 100        ⍝ APL allows us to divide three numbers\n",
    "                           ⍝ by a single one\n",
    "Rates"
   ]
  },
  {
   "cell_type": "markdown",
   "metadata": {},
   "source": [
    "The first employee is in category $3$, so the rate that applies to him is:"
   ]
  },
  {
   "cell_type": "code",
   "execution_count": 47,
   "metadata": {},
   "outputs": [
    {
     "data": {
      "text/html": [
       "<span style=\"white-space:pre; font-family: monospace\">0.02\n",
       "</span>"
      ]
     },
     "execution_count": 47,
     "metadata": {},
     "output_type": "execute_result"
    }
   ],
   "source": [
    "Rates[3]"
   ]
  },
  {
   "cell_type": "markdown",
   "metadata": {},
   "source": [
    "It follows that the first $5$ employees, being in categories `3 1 3 2 2` respectively, are entitled to the following increases:"
   ]
  },
  {
   "cell_type": "code",
   "execution_count": 48,
   "metadata": {},
   "outputs": [
    {
     "data": {
      "text/html": [
       "<span style=\"white-space:pre; font-family: monospace\">0.02 0.08 0.02 0.05 0.05\n",
       "</span>"
      ]
     },
     "execution_count": 48,
     "metadata": {},
     "output_type": "execute_result"
    }
   ],
   "source": [
    "Rates[3 1 3 2 2]"
   ]
  },
  {
   "cell_type": "markdown",
   "metadata": {},
   "source": [
    "More generally, the rates applied to all of our employees could be obtained like this:"
   ]
  },
  {
   "cell_type": "code",
   "execution_count": 49,
   "metadata": {},
   "outputs": [
    {
     "data": {
      "text/html": [
       "<span style=\"white-space:pre; font-family: monospace\">0.02 0.08 0.02 0.05 0.05 0.08 0.02 0.02 0.02 0.05 0.02 0.08 0.02 0.05 0.02 0.05 0.08 0.02 0.02 0.05 0.02 0.05 0.08\n",
       "</span>"
      ]
     },
     "execution_count": 49,
     "metadata": {},
     "output_type": "execute_result"
    }
   ],
   "source": [
    "Rates[Categories]"
   ]
  },
  {
   "cell_type": "markdown",
   "metadata": {},
   "source": [
    "Having the rates, one just has to multiply by the salaries to obtain the individual increases:"
   ]
  },
  {
   "cell_type": "code",
   "execution_count": 50,
   "metadata": {},
   "outputs": [
    {
     "data": {
      "text/html": [
       "<span style=\"white-space:pre; font-family: monospace\">84.5 129.52 74.12 112 103.8 111.12 78.32 78.36 98.78 136.75 63.1 158.96 82.1 165.5 56.86 95.45 170.56 61.1 83.2 110.1 69.76 130.7 167.04\n",
       "</span>"
      ]
     },
     "execution_count": 50,
     "metadata": {},
     "output_type": "execute_result"
    }
   ],
   "source": [
    "Salaries × Rates[Categories]"
   ]
  },
  {
   "cell_type": "markdown",
   "metadata": {},
   "source": [
    "Finally, by adding them all, one will know how much it will cost the company:"
   ]
  },
  {
   "cell_type": "code",
   "execution_count": 51,
   "metadata": {},
   "outputs": [
    {
     "data": {
      "text/html": [
       "<span style=\"white-space:pre; font-family: monospace\">2421.7\n",
       "</span>"
      ]
     },
     "execution_count": 51,
     "metadata": {},
     "output_type": "execute_result"
    }
   ],
   "source": [
    "+/ Salaries × Rates[Categories]"
   ]
  },
  {
   "cell_type": "markdown",
   "metadata": {},
   "source": [
    "You may note that:\n",
    "\n",
    " - The expression remains valid whatever the number of employees or categories;\n",
    " - the result has been obtained without writing any program;\n",
    " - and this expression can be read as the simples possible English, like this:\n",
    " \n",
    "*Sum the Salaries multiplied by Rates according to Categories*\n",
    "\n",
    "Clever, no?\n",
    "\n",
    "This illustrates how the expression of a solution in APL can be very close to the way that the solution could be phrased in everyday language. This also shows clearly that the ways of reasoning induced by traditional programming languages are not the only possible ones. This difference and originality, introduced by APL, are among the major features of the language.\n",
    "\n",
    "## Friendly Binary Data\n",
    "\n",
    "APL makes much use of binary data. It is most often created by means of relational functions like `=` or `>`, which give the answer `1` or `0`, depending on whether the relation is true or not:"
   ]
  },
  {
   "cell_type": "code",
   "execution_count": 52,
   "metadata": {},
   "outputs": [
    {
     "data": {
      "text/html": [
       "<span style=\"white-space:pre; font-family: monospace\">1 0 1 0 0 0 1 1 1 0 1 0 1 1 0 0 0 1 1 0 1 0 0\n",
       "</span>"
      ]
     },
     "execution_count": 52,
     "metadata": {},
     "output_type": "execute_result"
    }
   ],
   "source": [
    "Salaries > 3000"
   ]
  },
  {
   "cell_type": "code",
   "execution_count": 53,
   "metadata": {},
   "outputs": [
    {
     "data": {
      "text/html": [
       "<span style=\"white-space:pre; font-family: monospace\">0 0 1 1 1 0\n",
       "1 0 0 1 0 0\n",
       "1 1 1 1 1 0\n",
       "0 0 0 1 0 1\n",
       "</span>"
      ]
     },
     "execution_count": 53,
     "metadata": {},
     "output_type": "execute_result"
    }
   ],
   "source": [
    "Actual > Forecast        ⍝ One can see the favourable results instantly"
   ]
  },
  {
   "cell_type": "markdown",
   "metadata": {},
   "source": [
    "APL offers the conventional mathematical form of the $6$ relational functions:\n",
    "\n",
    "<center><code>&lt; ≤ = ≥ &gt; ≠</code></center>\n",
    "    \n",
    "Naturally one can operate on this binary data using all the functions of Boolean algebra, and moreover, the symbols used are those familiar to mathematicians of all nationalities around the world:\n",
    "    \n",
    " - Function ***AND*** is represented by the symbol `∧` (represented by the word AND or the symbol `&&` in many programming languages);\n",
    " - Function ***OR*** is represented by the symbol `∨` (represented by the word OR or the symbol `||` in the same languages).\n",
    " \n",
    "This, if I am looking for people in category $3$ whose salary is less than $4000$ euros, I can write:"
   ]
  },
  {
   "cell_type": "code",
   "execution_count": 54,
   "metadata": {},
   "outputs": [
    {
     "data": {
      "text/html": [
       "<span style=\"white-space:pre; font-family: monospace\">0 0 1 0 0 0 1 1 0 0 1 0 0 0 1 0 0 1 0 0 1 0 0\n",
       "</span>"
      ]
     },
     "execution_count": 54,
     "metadata": {},
     "output_type": "execute_result"
    }
   ],
   "source": [
    "(Categories = 3) ∧ (Salaries < 4000)"
   ]
  },
  {
   "cell_type": "markdown",
   "metadata": {},
   "source": [
    "In fact, APL offers all the functions of Boolean algebra, including some perhaps less familiar functions like ***NOR*** and ***NAND*** (Not-OR and Not-AND), but they are very useful in finance and electronic automation.\n",
    "\n",
    "There is, however, no special symbol for the function ***Exclusive OR*** (often called ***XOR***). This is because it is not needed: The function *Not Equal* `≠` gives the same result as *Exclusive OR* when it is used with Boolean values, as you can see below:"
   ]
  },
  {
   "cell_type": "code",
   "execution_count": 55,
   "metadata": {},
   "outputs": [
    {
     "data": {
      "text/html": [
       "<span style=\"white-space:pre; font-family: monospace\">0 1 1 0\n",
       "</span>"
      ]
     },
     "execution_count": 55,
     "metadata": {},
     "output_type": "execute_result"
    }
   ],
   "source": [
    "0 0 1 1 ≠ 0 1 0 1"
   ]
  },
  {
   "cell_type": "markdown",
   "metadata": {},
   "source": [
    "Finally, not only can these binary vectors be used as we have described but also for novel purposes, such as counting and selecting.\n",
    "\n",
    "### Counting\n",
    "\n",
    "Having found which salaries are less than $2500$ euros by means of the following expression:"
   ]
  },
  {
   "cell_type": "code",
   "execution_count": 56,
   "metadata": {},
   "outputs": [
    {
     "data": {
      "text/html": [
       "<span style=\"white-space:pre; font-family: monospace\">0 1 0 1 1 1 0 0 0 0 0 1 0 0 0 1 1 0 0 1 0 0 1\n",
       "</span>"
      ]
     },
     "execution_count": 56,
     "metadata": {},
     "output_type": "execute_result"
    }
   ],
   "source": [
    "Salaries < 2500"
   ]
  },
  {
   "cell_type": "markdown",
   "metadata": {},
   "source": [
    "It is easy to add all the $1$s and $0$s to calculate how many people earn less than $2500$ euros:"
   ]
  },
  {
   "cell_type": "code",
   "execution_count": 57,
   "metadata": {},
   "outputs": [
    {
     "data": {
      "text/html": [
       "<span style=\"white-space:pre; font-family: monospace\">9\n",
       "</span>"
      ]
     },
     "execution_count": 57,
     "metadata": {},
     "output_type": "execute_result"
    }
   ],
   "source": [
    "+/ Salaries < 2500"
   ]
  },
  {
   "cell_type": "markdown",
   "metadata": {},
   "source": [
    "### Selection\n",
    "\n",
    "One can also use the binary vector as a \"mask\" to select the items corresponding to the binary $1$s from another array:"
   ]
  },
  {
   "cell_type": "code",
   "execution_count": 58,
   "metadata": {},
   "outputs": [
    {
     "data": {
      "text/html": [
       "<span style=\"white-space:pre; font-family: monospace\">23 55 46 83\n",
       "</span>"
      ]
     },
     "execution_count": 58,
     "metadata": {},
     "output_type": "execute_result"
    }
   ],
   "source": [
    "1 1 0 1 0 0 1 / 23 55 17 46 81 82 83"
   ]
  },
  {
   "cell_type": "markdown",
   "metadata": {},
   "source": [
    "The procedure is identical for character data:"
   ]
  },
  {
   "cell_type": "code",
   "execution_count": 59,
   "metadata": {},
   "outputs": [
    {
     "data": {
      "text/html": [
       "<span style=\"white-space:pre; font-family: monospace\">Duck\n",
       "</span>"
      ]
     },
     "execution_count": 59,
     "metadata": {},
     "output_type": "execute_result"
    }
   ],
   "source": [
    "1 0 1 0 0 0 0 1 1 / 'Drumstick'"
   ]
  },
  {
   "cell_type": "markdown",
   "metadata": {},
   "source": [
    "This function, called ***Compress***, is particularly useful for extracting items conforming to a given criterion from a variable. For example, to display the salaries of people in Category $2$, one writes:"
   ]
  },
  {
   "cell_type": "code",
   "execution_count": 60,
   "metadata": {},
   "outputs": [
    {
     "data": {
      "text/html": [
       "<span style=\"white-space:pre; font-family: monospace\">2240 2076 2735 3310 1909 2202 2614\n",
       "</span>"
      ]
     },
     "execution_count": 60,
     "metadata": {},
     "output_type": "execute_result"
    }
   ],
   "source": [
    "(Categories = 2) / Salaries        ⍝ Powerful, isn't it?"
   ]
  },
  {
   "cell_type": "markdown",
   "metadata": {},
   "source": [
    "### Discovery\n",
    "\n",
    "To practive our skills some more, let us find in our variable `Val` the positions of numbers greater than $35$. Here are the necessary steps:"
   ]
  },
  {
   "cell_type": "code",
   "execution_count": 61,
   "metadata": {},
   "outputs": [
    {
     "data": {
      "text/html": [
       "<span style=\"white-space:pre; font-family: monospace\">22 37 41 19 54 11 34\n",
       "</span>"
      ]
     },
     "execution_count": 61,
     "metadata": {},
     "output_type": "execute_result"
    }
   ],
   "source": [
    "Val ← 22 37 41 19 54 11 34\n",
    "Val"
   ]
  },
  {
   "cell_type": "code",
   "execution_count": 62,
   "metadata": {},
   "outputs": [
    {
     "data": {
      "text/html": [
       "<span style=\"white-space:pre; font-family: monospace\">0 1 1 0 1 0 0\n",
       "</span>"
      ]
     },
     "execution_count": 62,
     "metadata": {},
     "output_type": "execute_result"
    }
   ],
   "source": [
    "Val>35"
   ]
  },
  {
   "cell_type": "code",
   "execution_count": 63,
   "metadata": {},
   "outputs": [
    {
     "data": {
      "text/html": [
       "<span style=\"white-space:pre; font-family: monospace\">7\n",
       "</span>"
      ]
     },
     "execution_count": 63,
     "metadata": {},
     "output_type": "execute_result"
    }
   ],
   "source": [
    "⍴Val"
   ]
  },
  {
   "cell_type": "code",
   "execution_count": 64,
   "metadata": {},
   "outputs": [
    {
     "data": {
      "text/html": [
       "<span style=\"white-space:pre; font-family: monospace\">1 2 3 4 5 6 7\n",
       "</span>"
      ]
     },
     "execution_count": 64,
     "metadata": {},
     "output_type": "execute_result"
    }
   ],
   "source": [
    "⍳⍴Val        ⍝ All possible positions"
   ]
  },
  {
   "cell_type": "markdown",
   "metadata": {},
   "source": [
    "Let us compare two of these results:"
   ]
  },
  {
   "cell_type": "code",
   "execution_count": 65,
   "metadata": {},
   "outputs": [
    {
     "data": {
      "text/html": [
       "<span style=\"white-space:pre; font-family: monospace\">0 1 1 0 1 0 0\n",
       "</span>"
      ]
     },
     "execution_count": 65,
     "metadata": {},
     "output_type": "execute_result"
    }
   ],
   "source": [
    "Val>35"
   ]
  },
  {
   "cell_type": "code",
   "execution_count": 66,
   "metadata": {},
   "outputs": [
    {
     "data": {
      "text/html": [
       "<span style=\"white-space:pre; font-family: monospace\">1 2 3 4 5 6 7\n",
       "</span>"
      ]
     },
     "execution_count": 66,
     "metadata": {},
     "output_type": "execute_result"
    }
   ],
   "source": [
    "⍳⍴Val"
   ]
  },
  {
   "cell_type": "markdown",
   "metadata": {},
   "source": [
    "You can see that if you eliminate (using *Compress( the items which correspond to zeros in order to retain only those corresponding to $1$, you easily get the positions required: `2 3 5`.\n",
    "\n",
    "Thus the job may be done as follows:"
   ]
  },
  {
   "cell_type": "code",
   "execution_count": 67,
   "metadata": {},
   "outputs": [
    {
     "data": {
      "text/html": [
       "<span style=\"white-space:pre; font-family: monospace\">2 3 5\n",
       "</span>"
      ]
     },
     "execution_count": 67,
     "metadata": {},
     "output_type": "execute_result"
    }
   ],
   "source": [
    "(Val>35) / ⍳⍴Val"
   ]
  },
  {
   "cell_type": "markdown",
   "metadata": {},
   "source": [
    "This expression is appplicable in many different situations.\n",
    "\n",
    "Here is a similar use, but applied to character data: To find the positions of \"a\" within a phrase; the method is the same."
   ]
  },
  {
   "cell_type": "code",
   "execution_count": 68,
   "metadata": {},
   "outputs": [
    {
     "data": {
      "text/html": [
       "<span style=\"white-space:pre; font-family: monospace\">2 4 6 11 14 16 30 36 41\n",
       "</span>"
      ]
     },
     "execution_count": 68,
     "metadata": {},
     "output_type": "execute_result"
    }
   ],
   "source": [
    "Phrase ← 'Panama is a canal between Atlantic and Pacific'\n",
    "(Phrase = 'a') / ⍳⍴Phrase        ⍝ You can check it!"
   ]
  },
  {
   "cell_type": "markdown",
   "metadata": {},
   "source": [
    "## A Touch of Modern Math\n",
    "\n",
    "Proudly having found all the \"a\"s, we may wish to find all the vowels.\n",
    "\n",
    "Alas, although we can write `Phrase = 'a'`, because a vector can be compared with a single value, one cannot write `Phrase = 'aeiouy'`⁽¹⁾, because that would require the item by item comparison of a phrase of $46$ letters and \"aeiouy\" which has only $6$.\n",
    "\n",
    "In other words: You may compare $46$ letters with $46$ other letters, or compare them with one letter, but not with $6$.\n",
    "\n",
    "So we shall use a new function: ***Membership*** which is represented by the symbol `∊`, also used in mathematics (`∊` can be obtained by pressing *Ctrl*+E).\n",
    "\n",
    "The expression `A ∊ B` returns a Boolean result which indicates which items of the variable `A` appear in the variable `B`, wherever they may be. And it works no matter what are the shapes, the dimensions or the type (numeric or character) of `A` and `B`, a pure marvel!\n",
    "\n",
    "⁽¹⁾ \"Y\" is considered to be a vowel in many European languages.\n",
    "\n",
    "For example:"
   ]
  },
  {
   "cell_type": "code",
   "execution_count": 69,
   "metadata": {},
   "outputs": [
    {
     "data": {
      "text/html": [
       "<span style=\"white-space:pre; font-family: monospace\">1 0 0 0 1 0\n",
       "</span>"
      ]
     },
     "execution_count": 69,
     "metadata": {},
     "output_type": "execute_result"
    }
   ],
   "source": [
    "5 7 2 8 4 9 ∊ 3 4 5 6    ⍝ Only 5 and 4 are found in 3 4 5 6"
   ]
  },
  {
   "cell_type": "code",
   "execution_count": 70,
   "metadata": {},
   "outputs": [
    {
     "data": {
      "text/html": [
       "<span style=\"white-space:pre; font-family: monospace\">1 1 1 1 1 0 0 0 1\n",
       "</span>"
      ]
     },
     "execution_count": 70,
     "metadata": {},
     "output_type": "execute_result"
    }
   ],
   "source": [
    "'dandelion' ∊ 'garden'   ⍝ The letters \"lio\" do not appear in \"garden\""
   ]
  },
  {
   "cell_type": "markdown",
   "metadata": {},
   "source": [
    "So in pursuit of our enquiry we shall write:"
   ]
  },
  {
   "cell_type": "code",
   "execution_count": 71,
   "metadata": {},
   "outputs": [
    {
     "data": {
      "text/html": [
       "<span style=\"white-space:pre; font-family: monospace\">2 4 6 8 11 14 16 20 23 24 30 33 36 41 43 45\n",
       "</span>"
      ]
     },
     "execution_count": 71,
     "metadata": {},
     "output_type": "execute_result"
    }
   ],
   "source": [
    "(Phrase ∊ 'aeiouy') / ⍳⍴Phrase"
   ]
  },
  {
   "cell_type": "markdown",
   "metadata": {},
   "source": [
    "One can also use membership between a vector and a matrix, as shown below, assuming that the list of towns is a variable created earlier.\n",
    "\n",
    "We have represented side by side the variable itself and the result of using *Membership*:"
   ]
  },
  {
   "cell_type": "code",
   "execution_count": 72,
   "metadata": {},
   "outputs": [
    {
     "data": {
      "text/html": [
       "<span style=\"white-space:pre; font-family: monospace\">Canberra   0 1 0 0 1 0 0 1 0 0\n",
       "Paris      0 1 0 1 0 0 0 0 0 0\n",
       "Washington 0 1 0 0 1 0 0 0 1 0\n",
       "Moscow     0 1 0 0 1 0 0 0 0 0\n",
       "Martigues  0 1 0 0 1 0 1 1 0 0\n",
       "Mexico     0 1 0 1 0 1 0 0 0 0\n",
       "</span>"
      ]
     },
     "execution_count": 72,
     "metadata": {},
     "output_type": "execute_result"
    }
   ],
   "source": [
    "Towns, Towns ∊ 'aeiouy'"
   ]
  },
  {
   "cell_type": "markdown",
   "metadata": {},
   "source": [
    "We can reverse the expression, but the result has always the same shape as the left argument:"
   ]
  },
  {
   "cell_type": "code",
   "execution_count": 73,
   "metadata": {},
   "outputs": [
    {
     "data": {
      "text/html": [
       "<span style=\"white-space:pre; font-family: monospace\">1 1 1 1 1 0\n",
       "</span>"
      ]
     },
     "execution_count": 73,
     "metadata": {},
     "output_type": "execute_result"
    }
   ],
   "source": [
    "'aeiouy' ∊ Towns        ⍝ None of the town names contains a \"y\""
   ]
  },
  {
   "cell_type": "markdown",
   "metadata": {},
   "source": [
    "## A Powerful Search Function\n",
    "\n",
    "We have harnessed a very useful method to look for the positions of letters or numbers in a vector, but the answer obtained does not provide a one to one correspondence between the search values and the resultant positions:"
   ]
  },
  {
   "cell_type": "code",
   "execution_count": 74,
   "metadata": {},
   "outputs": [
    {
     "data": {
      "text/html": [
       "<span style=\"white-space:pre; font-family: monospace\">2 3 6 7 8 9\n",
       "</span>"
      ]
     },
     "execution_count": 74,
     "metadata": {},
     "output_type": "execute_result"
    }
   ],
   "source": [
    "List ← 15 40 63 18 27 40 33 29 40 88    ⍝ Vector of values\n",
    "Where ← 29 63 40 33 50                  ⍝ We want to find these\n",
    "(List ∊ Where) / ⍳⍴List                 ⍝ Let's apply our method\n",
    "                                        ⍝ Positions found:"
   ]
  },
  {
   "cell_type": "markdown",
   "metadata": {},
   "source": [
    "The positions are correct, but $29$ is not in position $2$, and $40$ is not in position $6$.\n",
    "\n",
    "The question we have answered using the expression above is: \"In which positions in `List` do we find a number that also appears somewhere in `Where`?\"\n",
    "\n",
    "If we want to answer the slightly different question: \"Where in `List` do we find each number in `Where`?\" we need to use a different method.\n",
    "\n",
    "This new method uses the dyadic form of the symbol `⍳` (*Iota*)."
   ]
  },
  {
   "cell_type": "code",
   "execution_count": 75,
   "metadata": {},
   "outputs": [
    {
     "data": {
      "text/html": [
       "<span style=\"white-space:pre; font-family: monospace\">8 3 2 7 11\n",
       "</span>"
      ]
     },
     "execution_count": 75,
     "metadata": {},
     "output_type": "execute_result"
    }
   ],
   "source": [
    "List ← 15 40 63 18 27 40 33 29 40 88    ⍝ Same vector of values\n",
    "Where ← 29 63 40 33 50                  ⍝ Where are these?\n",
    "List ⍳ Where                            ⍝ New method using dyadic ⍳\n",
    "                                        ⍝ Positions found:"
   ]
  },
  {
   "cell_type": "markdown",
   "metadata": {},
   "source": [
    "It is true that $29$, $63$, $40$ and $33$ occur respectively in positions $8$, $3$, $2$ and $7$. It's much better!\n",
    "\n",
    "But, first surprise: The value $40$ occurs $3$ times in `List`, but only the first one is reported in the result. This is because, by definition, dyadic *Iota* returns only the first occurrence of a given item. If the response for each value sought has to match a position; how may one, fooking for $5$ numbers, obtain $7$ results?\n",
    "\n",
    "Second surprise: The value $50$ is reported as being found in position $11$ in a vector comprising only $10$ items! This is how the function ***IndexOf*** (dyadic `⍳`) reports that a value is absent.\n",
    "\n",
    "At first sight this seems a bit surprising, but in fact it is a property which makes this function so generally powerful, as we shall soon see.\n",
    "\n",
    "### An Example\n",
    "\n",
    "A car manufacturer decides that he will offer his customers a discount on the catalogue price (you can see how this example is imaginary!).\n",
    "\n",
    "The country has been divided into $100$ areas, and the discount rate will depend on the area according to the following table:\n",
    "\n",
    "| Area | Discount |\n",
    "| :-: | :-: |\n",
    "| $17$ | $9\\%$ |\n",
    "| $50$ | $8\\%$ |\n",
    "| $59$ | $6\\%$ |\n",
    "| $84$ | $5\\%$ |\n",
    "| $89$ | $4\\%$ |\n",
    "| Others | $2\\%$ |\n",
    "\n",
    "The problem is to calculate the discount rate that may be claimed for a potential customer who lives in a given area `D`; for example"
   ]
  },
  {
   "cell_type": "code",
   "execution_count": 76,
   "metadata": {},
   "outputs": [],
   "source": [
    "D ← 84"
   ]
  },
  {
   "cell_type": "markdown",
   "metadata": {},
   "source": [
    "Let us begin by creating two variables:"
   ]
  },
  {
   "cell_type": "code",
   "execution_count": 77,
   "metadata": {},
   "outputs": [],
   "source": [
    "Area ← 17 50 59 84 89\n",
    "Discount ← 9 8 6 5 4 2"
   ]
  },
  {
   "cell_type": "markdown",
   "metadata": {},
   "source": [
    "Let us see if `84` is in the list of favoured areas:"
   ]
  },
  {
   "cell_type": "code",
   "execution_count": 78,
   "metadata": {},
   "outputs": [
    {
     "data": {
      "text/html": [
       "<span style=\"white-space:pre; font-family: monospace\">1\n",
       "</span>"
      ]
     },
     "execution_count": 78,
     "metadata": {},
     "output_type": "execute_result"
    }
   ],
   "source": [
    "D ∊ Area        ⍝ Yes, it's there:"
   ]
  },
  {
   "cell_type": "code",
   "execution_count": 79,
   "metadata": {},
   "outputs": [
    {
     "data": {
      "text/html": [
       "<span style=\"white-space:pre; font-family: monospace\">4\n",
       "</span>"
      ]
     },
     "execution_count": 79,
     "metadata": {},
     "output_type": "execute_result"
    }
   ],
   "source": [
    "Area ⍳ D        ⍝ 84 is the 4th item in the list:"
   ]
  },
  {
   "cell_type": "markdown",
   "metadata": {},
   "source": [
    "Let us find the current rate of discount for this index position:"
   ]
  },
  {
   "cell_type": "code",
   "execution_count": 80,
   "metadata": {},
   "outputs": [
    {
     "data": {
      "text/html": [
       "<span style=\"white-space:pre; font-family: monospace\">5\n",
       "</span>"
      ]
     },
     "execution_count": 80,
     "metadata": {},
     "output_type": "execute_result"
    }
   ],
   "source": [
    "Discount[4]     ⍝ This customer can claim a 5% discount; good!"
   ]
  },
  {
   "cell_type": "markdown",
   "metadata": {},
   "source": [
    "One may simply write"
   ]
  },
  {
   "cell_type": "code",
   "execution_count": 81,
   "metadata": {},
   "outputs": [
    {
     "data": {
      "text/html": [
       "<span style=\"white-space:pre; font-family: monospace\">5\n",
       "</span>"
      ]
     },
     "execution_count": 81,
     "metadata": {},
     "output_type": "execute_result"
    }
   ],
   "source": [
    "Discount[Area⍳D]"
   ]
  },
  {
   "cell_type": "markdown",
   "metadata": {},
   "source": [
    "If a customer lives in any area such as $75$, $45$, or $93$, the expression `Area⍳D` will in all cases give the result $6$, because those values are absent in `Area`. Then `Discount[6]` will always find the rate $2\\%$, as expected.\n",
    "\n",
    "The importance of this approach is that it is vector-based. Suppose that publicity attracts crowds and that therefore `D` is no longer a single value but a vector, the solution is still valid:"
   ]
  },
  {
   "cell_type": "code",
   "execution_count": 82,
   "metadata": {},
   "outputs": [
    {
     "data": {
      "text/html": [
       "<span style=\"white-space:pre; font-family: monospace\">2 2 4 2 2 8 2 8 5 2 9 4\n",
       "</span>"
      ]
     },
     "execution_count": 82,
     "metadata": {},
     "output_type": "execute_result"
    }
   ],
   "source": [
    "D ← 24 75 89 60 92 50 51 50 84 66 17 89\n",
    "Discount[Area⍳D]"
   ]
  },
  {
   "cell_type": "markdown",
   "metadata": {},
   "source": [
    "All that without a program, neither \"loop\" nor \"test\", and whatever the number of areas. Readers who know other programming languages will have no difficulty in making the comparison.\n",
    "\n",
    "### Generalisation\n",
    "\n",
    "In truth, the expression we just wrote is an example of an algorithm for \"changing the frame of reference\". Don't panic, the name may seem esoteric, but the concept is simple. A list of area numbers (the initial set) is translated into a list of discount rates (the final set).\n",
    "\n",
    "Let us now imagine the initial set to be an alphabet composed of lower case and upper case letters, and the final set to be composed of only upper case letters (with a blank space in the middle):"
   ]
  },
  {
   "cell_type": "code",
   "execution_count": 87,
   "metadata": {},
   "outputs": [],
   "source": [
    "AlphLower ← 'abcdefghijklmnopqrstuvwxyz ABCDEFGHIJKLMNOPQRSTUVWXYZ'\n",
    "AlphUpper ← 'ABCDEFGHIJKLMNOPQRSTUVWXYZ ABCDEFGHIJKLMNOPQRSTUVWXYZ*'"
   ]
  },
  {
   "cell_type": "markdown",
   "metadata": {},
   "source": [
    "Notice that `AlphUpper` is one character longer than `AlphLower`. We have added an asterisk at the end, and you will see why we did so:\n",
    "\n",
    "Here is a little French sentence, with one accented letter."
   ]
  },
  {
   "cell_type": "code",
   "execution_count": 88,
   "metadata": {},
   "outputs": [],
   "source": [
    "Tale ← 'Le Petit Chaperon-Rouge a bouffé le Loup'"
   ]
  },
  {
   "cell_type": "markdown",
   "metadata": {},
   "source": [
    "The expression below converts from lower to upper case."
   ]
  },
  {
   "cell_type": "code",
   "execution_count": 89,
   "metadata": {},
   "outputs": [
    {
     "data": {
      "text/html": [
       "<span style=\"white-space:pre; font-family: monospace\">LE PETIT CHAPERON*ROUGE A BOUFF* LE LOUP\n",
       "</span>"
      ]
     },
     "execution_count": 89,
     "metadata": {},
     "output_type": "execute_result"
    }
   ],
   "source": [
    "AlphUpper[AlphLower⍳Tale]"
   ]
  },
  {
   "cell_type": "markdown",
   "metadata": {},
   "source": [
    "As one might expect, the characters `-` and `é`, which are absent from the initial alphabetic set have been replaced by the `*` of the final set, but the conversion is acceptable. This solution can easily be improved.\n",
    "\n",
    "Once more, the rational steps to be taken to create a solution are easily translated into a programming algorithm, and the programmer can thereby get a much more extensive insight into the problem itself.\n",
    "\n",
    "## After Values, Let Us Process Shapes\n",
    "\n",
    "Many traditional programming languages do not really handle arrays of numbers or characters. They hold them in memory, but when the arrays are required for processing they can only be handled one item at a time. It is not surprising in these circumstances, that these languages have only limited means of controlling the shape of the data.\n",
    "\n",
    "It is quite the opposite in APL, which offeres many tools for working with the shape of the data. We shall only look at a few of them here.\n",
    "\n",
    "### Take and Drop\n",
    "\n",
    "The functions ***Take*** (`↑`) and ***Drop*** (`↓`) serve, as their names suggest, to extract part of a set of values. Here we shall show only examples based on vectors, but all the other shapes of data can be treated in a similar way.\n",
    "\n",
    "Recalling that"
   ]
  },
  {
   "cell_type": "code",
   "execution_count": 90,
   "metadata": {},
   "outputs": [
    {
     "data": {
      "text/html": [
       "<span style=\"white-space:pre; font-family: monospace\">15 40 63 18 27 40 33 29 40 88\n",
       "</span>"
      ]
     },
     "execution_count": 90,
     "metadata": {},
     "output_type": "execute_result"
    }
   ],
   "source": [
    "List"
   ]
  },
  {
   "cell_type": "code",
   "execution_count": 92,
   "metadata": {},
   "outputs": [
    {
     "data": {
      "text/html": [
       "<span style=\"white-space:pre; font-family: monospace\">15 40 63 18\n",
       "</span>"
      ]
     },
     "execution_count": 92,
     "metadata": {},
     "output_type": "execute_result"
    }
   ],
   "source": [
    "4 ↑ List        ⍝ (Ctrl+Y)\n",
    "                ⍝ Take the first 4 items of the vector:"
   ]
  },
  {
   "cell_type": "code",
   "execution_count": 94,
   "metadata": {},
   "outputs": [
    {
     "data": {
      "text/html": [
       "<span style=\"white-space:pre; font-family: monospace\">40 33 29 40 88\n",
       "</span>"
      ]
     },
     "execution_count": 94,
     "metadata": {},
     "output_type": "execute_result"
    }
   ],
   "source": [
    "5 ↓ List        ⍝ (Ctrl+U)\n",
    "                ⍝ Drop the first 5 items:"
   ]
  },
  {
   "cell_type": "markdown",
   "metadata": {},
   "source": [
    "If the left argument is negative, these same functions count from the end of the vector."
   ]
  },
  {
   "cell_type": "code",
   "execution_count": 95,
   "metadata": {},
   "outputs": [
    {
     "data": {
      "text/html": [
       "<span style=\"white-space:pre; font-family: monospace\">29 40 88\n",
       "</span>"
      ]
     },
     "execution_count": 95,
     "metadata": {},
     "output_type": "execute_result"
    }
   ],
   "source": [
    "¯3 ↑ List       ⍝ Take the last 3 items of the vector:"
   ]
  },
  {
   "cell_type": "code",
   "execution_count": 96,
   "metadata": {},
   "outputs": [
    {
     "data": {
      "text/html": [
       "<span style=\"white-space:pre; font-family: monospace\">15 40 63\n",
       "</span>"
      ]
     },
     "execution_count": 96,
     "metadata": {},
     "output_type": "execute_result"
    }
   ],
   "source": [
    "¯7 ↓ List       ⍝ If one drops the last 7 items, it only leaves\n",
    "                ⍝ the first three ones:"
   ]
  },
  {
   "cell_type": "markdown",
   "metadata": {},
   "source": [
    "The last result is the same as obtained by"
   ]
  },
  {
   "cell_type": "code",
   "execution_count": 97,
   "metadata": {},
   "outputs": [
    {
     "data": {
      "text/html": [
       "<span style=\"white-space:pre; font-family: monospace\">15 40 63\n",
       "</span>"
      ]
     },
     "execution_count": 97,
     "metadata": {},
     "output_type": "execute_result"
    }
   ],
   "source": [
    "3 ↑ List"
   ]
  },
  {
   "cell_type": "markdown",
   "metadata": {},
   "source": [
    "Some pages ago, we used `Big[⍳500]` to extract the first $500$ items of `Big`. We can now see that we also could have used `500↑Big`.\n",
    "\n",
    "Here again, using these new symbols, it is possible to create innovative solutions to classical problems.\n",
    "\n",
    "Let us imagine a business with a turnoever which has grown over $12$ years.\n",
    "\n",
    "The variable `Tome` is Turnover in millions of euros."
   ]
  },
  {
   "cell_type": "code",
   "execution_count": 98,
   "metadata": {},
   "outputs": [
    {
     "data": {
      "text/html": [
       "<span style=\"white-space:pre; font-family: monospace\">56 59 67 64 60 61 68 73 78 75 81 84\n",
       "</span>"
      ]
     },
     "execution_count": 98,
     "metadata": {},
     "output_type": "execute_result"
    }
   ],
   "source": [
    "Tome"
   ]
  },
  {
   "cell_type": "markdown",
   "metadata": {},
   "source": [
    "We want to calculate the different between each year and the year before; how can we do it?"
   ]
  },
  {
   "cell_type": "code",
   "execution_count": 101,
   "metadata": {},
   "outputs": [
    {
     "data": {
      "text/html": [
       "<span style=\"white-space:pre; font-family: monospace\">59 67 64 60 61 68 73 78 75 81 84\n",
       "</span>"
      ]
     },
     "execution_count": 101,
     "metadata": {},
     "output_type": "execute_result"
    }
   ],
   "source": [
    " 1 ↓ Tome        ⍝ would give"
   ]
  },
  {
   "cell_type": "code",
   "execution_count": 102,
   "metadata": {},
   "outputs": [
    {
     "data": {
      "text/html": [
       "<span style=\"white-space:pre; font-family: monospace\">56 59 67 64 60 61 68 73 78 75 81\n",
       "</span>"
      ]
     },
     "execution_count": 102,
     "metadata": {},
     "output_type": "execute_result"
    }
   ],
   "source": [
    "¯1 ↓ Tome        ⍝ would give"
   ]
  },
  {
   "cell_type": "markdown",
   "metadata": {},
   "source": [
    "In other words, in each position of the first result we have \"this year's turnover\" and in the same position in the second result we have \"the previous year's turnover\".\n",
    "\n",
    "We see that all that remains is to subtract these results item by item:"
   ]
  },
  {
   "cell_type": "code",
   "execution_count": 103,
   "metadata": {},
   "outputs": [
    {
     "data": {
      "text/html": [
       "<span style=\"white-space:pre; font-family: monospace\">3 8 ¯3 ¯4 1 7 5 5 ¯3 6 3\n",
       "</span>"
      ]
     },
     "execution_count": 103,
     "metadata": {},
     "output_type": "execute_result"
    }
   ],
   "source": [
    "(1↓Tome) - (¯1↓Tome)        ⍝ Without a program or loops; all very simple!"
   ]
  },
  {
   "cell_type": "markdown",
   "metadata": {},
   "source": [
    "In place of a subtraction, a division would calculate (with some obvious adjustments) the rates of growth instead of the differences:"
   ]
  },
  {
   "cell_type": "code",
   "execution_count": 104,
   "metadata": {},
   "outputs": [
    {
     "data": {
      "text/html": [
       "<span style=\"white-space:pre; font-family: monospace\">5.357142857 13.55932203 ¯4.47761194 ¯6.25 1.666666667 11.47540984 7.352941176 6.849315068 ¯3.846153846 8 3.703703704\n",
       "</span>"
      ]
     },
     "execution_count": 104,
     "metadata": {},
     "output_type": "execute_result"
    }
   ],
   "source": [
    "100 × ( (1↓Tome) ÷ (¯1↓Tome) )-1"
   ]
  },
  {
   "cell_type": "markdown",
   "metadata": {},
   "source": [
    "Let us put that in a small defined function, and apply it:"
   ]
  },
  {
   "cell_type": "code",
   "execution_count": 105,
   "metadata": {},
   "outputs": [
    {
     "data": {
      "text/html": [
       "<span style=\"white-space:pre; font-family: monospace\">5.357142857 13.55932203 ¯4.47761194 ¯6.25 1.666666667 11.47540984 7.352941176 6.849315068 ¯3.846153846 8 3.703703704\n",
       "</span>"
      ]
     },
     "execution_count": 105,
     "metadata": {},
     "output_type": "execute_result"
    }
   ],
   "source": [
    "Growth ← {100×((1↓⍵)÷(¯1↓⍵))-1}\n",
    "Growth Tome"
   ]
  },
  {
   "cell_type": "markdown",
   "metadata": {},
   "source": [
    "### Mirrors and Transposition\n",
    "\n",
    "APL is also well equipped with functions to pivot data about any axis, as suggested by the appearances of the symbols used. They apply to both numeric and character data; as we are going to show by applying these functions to the variable `Towns` that we used earlier.\n",
    "\n",
    "The symbols used hereafter are obtained like this:\n",
    "\n",
    " - `⌽` with *Ctrl*+*Shift*+$5$;\n",
    " - `⍉` with *Ctrl*+*Shift*+$6$;\n",
    " - `⊖` with *Ctrl*+*Shift*+$7$.\n",
    " \n",
    "Recall the value of the initial variable:"
   ]
  },
  {
   "cell_type": "code",
   "execution_count": 109,
   "metadata": {},
   "outputs": [
    {
     "data": {
      "text/html": [
       "<span style=\"white-space:pre; font-family: monospace\">Canberra  \n",
       "Paris     \n",
       "Washington\n",
       "Moscow    \n",
       "Martigues \n",
       "Mexico    \n",
       "</span>"
      ]
     },
     "execution_count": 109,
     "metadata": {},
     "output_type": "execute_result"
    }
   ],
   "source": [
    "Towns"
   ]
  },
  {
   "cell_type": "markdown",
   "metadata": {},
   "source": [
    "Left-right reversed (Mirror) with `⌽`:"
   ]
  },
  {
   "cell_type": "code",
   "execution_count": 110,
   "metadata": {},
   "outputs": [
    {
     "data": {
      "text/html": [
       "<span style=\"white-space:pre; font-family: monospace\">  arrebnaC\n",
       "     siraP\n",
       "notgnihsaW\n",
       "    wocsoM\n",
       " seugitraM\n",
       "    ocixeM\n",
       "</span>"
      ]
     },
     "execution_count": 110,
     "metadata": {},
     "output_type": "execute_result"
    }
   ],
   "source": [
    "⌽Towns"
   ]
  },
  {
   "cell_type": "markdown",
   "metadata": {},
   "source": [
    "Top-bottom reversed (Mirror) with `⊖`:"
   ]
  },
  {
   "cell_type": "code",
   "execution_count": 111,
   "metadata": {},
   "outputs": [
    {
     "data": {
      "text/html": [
       "<span style=\"white-space:pre; font-family: monospace\">Mexico    \n",
       "Martigues \n",
       "Moscow    \n",
       "Washington\n",
       "Paris     \n",
       "Canberra  \n",
       "</span>"
      ]
     },
     "execution_count": 111,
     "metadata": {},
     "output_type": "execute_result"
    }
   ],
   "source": [
    "⊖Towns"
   ]
  },
  {
   "cell_type": "markdown",
   "metadata": {},
   "source": [
    "and rows & columns swapped (Transpose) with `⍉`:"
   ]
  },
  {
   "cell_type": "code",
   "execution_count": 112,
   "metadata": {},
   "outputs": [
    {
     "data": {
      "text/html": [
       "<span style=\"white-space:pre; font-family: monospace\">CPWMMM\n",
       "aaaoae\n",
       "nrssrx\n",
       "bihcti\n",
       "esioic\n",
       "r nwgo\n",
       "r g u \n",
       "a t e \n",
       "  o s \n",
       "  n   \n",
       "</span>"
      ]
     },
     "execution_count": 112,
     "metadata": {},
     "output_type": "execute_result"
    }
   ],
   "source": [
    "⍉Towns"
   ]
  },
  {
   "cell_type": "markdown",
   "metadata": {},
   "source": [
    "And all four of them side by side for comparison:"
   ]
  },
  {
   "cell_type": "code",
   "execution_count": 113,
   "metadata": {},
   "outputs": [
    {
     "data": {
      "text/html": [
       "<span style=\"white-space:pre; font-family: monospace\">┌──────────┬──────────┬──────────┬──────┐\n",
       "│Canberra  │  arrebnaC│Mexico    │CPWMMM│\n",
       "│Paris     │     siraP│Martigues │aaaoae│\n",
       "│Washington│notgnihsaW│Moscow    │nrssrx│\n",
       "│Moscow    │    wocsoM│Washington│bihcti│\n",
       "│Martigues │ seugitraM│Paris     │esioic│\n",
       "│Mexico    │    ocixeM│Canberra  │r nwgo│\n",
       "│          │          │          │r g u │\n",
       "│          │          │          │a t e │\n",
       "│          │          │          │  o s │\n",
       "│          │          │          │  n   │\n",
       "└──────────┴──────────┴──────────┴──────┘\n",
       "</span>"
      ]
     },
     "execution_count": 113,
     "metadata": {},
     "output_type": "execute_result"
    }
   ],
   "source": [
    "(Towns) (⌽Towns) (⊖Towns) (⍉Towns)"
   ]
  },
  {
   "cell_type": "markdown",
   "metadata": {},
   "source": [
    "The symbols used (`⌽` `⊖` `⍉`) are self-explanatory, no effort is required to remember any of them. They also have dyadic uses, but we shall not demonstrate them here.\n",
    "\n",
    "## Back to Primary School\n",
    "\n",
    "Remember when we learned our multiplication tables? In that practically Paleolithic era, to make sure we knew all our tables, my teacher made us calculate the multiplication table for the integers $1$ to $9$:\n",
    "\n",
    "$$\\begin{array}{|c|rrrrrrrrr|}\n",
    "\\hline\n",
    "\\color{red}\\times & 1 & 2 & 3 & 4 & 5 & 6 & \\color{red} 7 & 8 & 9 \\\\\n",
    "\\hline\n",
    "1 & 1 & 2 & 3 & 4 & 5 & 6 & 7 & 8 & 9 \\\\\n",
    "2 & 2 & 4 & 6 & 8 & 10 & 12 & 14 & 16 & 18 \\\\\n",
    "\\color{red} 3 & 3 & 6 & 9 & 12 & 15 & 18 & \\color{red} {21} & 24 & 27 \\\\\n",
    "4 & 4 & 8 & 12 & 16 & 20 & 24 & 28 & 32 & 36 \\\\\n",
    "\\text{etc.} & \\text{etc.} & & & & & & & & & & \\\\\n",
    "\\hline\n",
    "\\end{array}$$\n",
    "\n",
    "You see, I haven't forgotten!\n",
    "\n",
    "Probably you have done all this just like me. And then we quickly forgot that very powerful tool, one which APL provides under the name ***Outer Product***.\n",
    "\n",
    "The task consists of taking all possible pairs of items of two vectors, (the column and row headings) and making them the left and right arguments of the function at the top left. For example, $3$ times $7$ gives $21$ (in red here above).\n",
    "\n",
    "Next we shall go on to see what we get if we change the values a little:\n",
    "\n",
    "$$\\begin{array}{|c|rrrrrr|}\n",
    "\\hline\n",
    "\\color{red}\\times & 8 & 5 & 15 & \\color{red}9 & 11 & 40 \\\\\n",
    "\\hline\n",
    "5 & 40 & 25 & 75 & 45 & 55 & 200 \\\\\n",
    "\\color{red} 4 & 32 & 20 & 60 & \\color{red}{36} & 44 & 160 \\\\\n",
    "10 & 80 & 50 & 150 & 90 & 110 & 400 \\\\\n",
    "3 & 24 & 15 & 45 & 27 & 33 & 120 \\\\\n",
    "\\hline\n",
    "\\end{array}$$\n",
    "\n",
    "This operation is written as follows in APL:"
   ]
  },
  {
   "cell_type": "code",
   "execution_count": 114,
   "metadata": {},
   "outputs": [
    {
     "data": {
      "text/html": [
       "<span style=\"white-space:pre; font-family: monospace\">40 25  75 45  55 200\n",
       "32 20  60 36  44 160\n",
       "80 50 150 90 110 400\n",
       "24 15  45 27  33 120\n",
       "</span>"
      ]
     },
     "execution_count": 114,
     "metadata": {},
     "output_type": "execute_result"
    }
   ],
   "source": [
    "5 4 10 3 ∘.× 8 5 15 9 11 40"
   ]
  },
  {
   "cell_type": "markdown",
   "metadata": {},
   "source": [
    "The *Outer Product* symbol is made of a small circle (*Ctrl*+J), a dot, and the function to be applied. It is an *operator*, as one of its arguments is a function (`×` in this case) rather than an array.\n",
    "\n",
    "Despite of its name \"*Outer Product*\" this operator by no means is restricted to working with multiplication. We can replace the symbol for *Multiplication* by any other dyadic function (like `=` `<` `≥` or `⌈`), or even functions which you have defined yourself (like `Plus`), and you will understand, as for *Reduce* which we saw earlier, that *Outer Product* is an operator of amazing power.\n",
    "\n",
    "Let's have some fun with it:"
   ]
  },
  {
   "cell_type": "code",
   "execution_count": 115,
   "metadata": {},
   "outputs": [
    {
     "data": {
      "text/html": [
       "<span style=\"white-space:pre; font-family: monospace\">┌─────────┬─────────┬─────────┬─────────┬──────────┐\n",
       "│1 0 0 0 0│0 1 1 1 1│1 0 0 0 0│1 2 3 4 5│2 3 4 5  6│\n",
       "│0 1 0 0 0│0 0 1 1 1│1 1 0 0 0│2 2 3 4 5│3 4 5 6  7│\n",
       "│0 0 1 0 0│0 0 0 1 1│1 1 1 0 0│3 3 3 4 5│4 5 6 7  8│\n",
       "│0 0 0 1 0│0 0 0 0 1│1 1 1 1 0│4 4 4 4 5│5 6 7 8  9│\n",
       "│0 0 0 0 1│0 0 0 0 0│1 1 1 1 1│5 5 5 5 5│6 7 8 9 10│\n",
       "└─────────┴─────────┴─────────┴─────────┴──────────┘\n",
       "</span>"
      ]
     },
     "execution_count": 115,
     "metadata": {},
     "output_type": "execute_result"
    }
   ],
   "source": [
    "((⍳5)∘.=(⍳5)) ((⍳5)∘.<(⍳5)) ((⍳5)∘.≥(⍳5)) ((⍳5)∘.⌈(⍳5)) ((⍳5)∘.Plus(⍳5))"
   ]
  },
  {
   "cell_type": "markdown",
   "metadata": {},
   "source": [
    "### A Useful Application\n",
    "\n",
    "Suppose the vector `Ages` contains the ages of $400$ respondents to an opinion poll. We want to establish how many people there are in each of the following categories:\n",
    "\n",
    "$0$ - $25$ - $30$ - $35$ - $45$ - $50$ - $55$ - $65$ or above.\n",
    "\n",
    "Here is the data:"
   ]
  },
  {
   "cell_type": "code",
   "execution_count": 116,
   "metadata": {},
   "outputs": [
    {
     "data": {
      "text/html": [
       "<span style=\"white-space:pre; font-family: monospace\">32 19 50 33 23 65 46 26 31 58 51 23 51 36 28 42 34 17 19 24 24 27 27 32 33 35 37 38 39 40 41 41 42 42 43 44 44 46 48 49 49 52 48 50 54 54 58 61 63 66 68 32 19 50 33 23 65 46 26 31 58 51 23 51 36 28 42 34 17 19 24 24 27 27 32 33 35 37 38 39 40 41 41 42 42 43 44 44 46 48 49 49 52 48 50 54 54 58 61 63 66 68 32 19 50 33 23 65 46 26 31 58 51 23 51 36 28 42 34 17 19 24 24 27 27 32 33 35 37 38 39 40 41 41 42 42 43 44 44 46 48 49 49 52 48 50 54 54 58 61 63 66 68 32 19 50 33 23 65 46 26 31 58 51 23 51 36 28 42 34 17 19 24 24 27 27 32 33 35 37 38 39 40 41 41 42 42 43 44 44 46 48 49 49 52 48 50 54 54 58 61 63 66 68 32 19 50 33 23 65 46 26 31 58 51 23 51 36 28 42 34 17 19 24 24 27 27 32 33 35 37 38 39 40 41 41 42 42 43 44 44 46 48 49 49 52 48 50 54 54 58 61 63 66 68 32 19 50 33 23 65 46 26 31 58 51 23 51 36 28 42 34 17 19 24 24 27 27 32 33 35 37 38 39 40 41 41 42 42 43 44 44 46 48 49 49 52 48 50 54 54 58 61 63 66 68 32 19 50 33 23 65 46 26 31 58 51 23 51 36 28 42 34 17 19 24 24 27 27 32 33 35 37 38 39 40 41 41 42 42 43 44 44 46 48 49 49 52 48 50 54 54 58 61 63 66 68 32 19 50 33 23 65 46 26 31 58 51 23 51 36 28 42 34 17 19 24 24 27 27 32 33 35 37 38 39 40 41 41 42 42 43 44 44 46 48 49 49 52 48\n",
       "</span>"
      ]
     },
     "execution_count": 116,
     "metadata": {},
     "output_type": "execute_result"
    }
   ],
   "source": [
    "Ages"
   ]
  },
  {
   "cell_type": "code",
   "execution_count": 118,
   "metadata": {},
   "outputs": [],
   "source": [
    "Category ← 0 25 30 35 45 50 55 65"
   ]
  },
  {
   "cell_type": "markdown",
   "metadata": {},
   "source": [
    "We are going to use the *Outer Product* `Category ∘.< Ages`, and here are the first items of the result:\n",
    "\n",
    "$$\\begin{array}{|l|rrrrrrrrrrrrrrrrrr|}\n",
    "\\hline\n",
    "\\color{red}< & 32 & 19 & 50 & 33 & 23 & 65 & 46 & 26 & 31 & 58 & 51 & 23 & 51 & 36 & 28 & 42 & 34 & \\text{... etc} \\\\\n",
    "\\hline\n",
    "0 & 1 & 1 & 1 & 1 & 1 & 1 & 1 & 1 & 1 & 1 & 1 & 1 & 1 & 1 & 1 & 1 & 1 & \\\\\n",
    "25 & 1 & 0 & 1 & 1 & 0 & 1 & 1 & 0 & 1 & 1 & 1 & 0 & 1 & 1 & 1 & 1 & 1 & \\\\\n",
    "30 & 1 & 0 & 1 & 1 & 0 & 1 & 1 & 0 & 1 & 1 & 1 & 0 & 1 & 1 &  0 & 1 & 1 & \\\\\n",
    "35 & 0 & 0 & 1 & 0 & 0 & 1 & 1 & 0 & 0 & 1 & 1 & 0 & 1 & 1 & 0 & 1 & 0 & \\\\\n",
    "45 & 0 & 0 & 1 & 0 & 0 & 1 & 1 & 0 & 0 & 1 & 1 & 0 & 1 & 0 & 0 & 0 & 0 & \\\\\n",
    "50 & 0 & 0 & 0 & 0 & 0 & 1 & 0 & 0 & 0 & 1 & 1 & 0 & 1 & 0 & 0 & 0 & 0 & \\text{... etc} \\\\\n",
    "\\text{etc.} &&&&&&&&&&&&&&&&&& \\\\\n",
    "\\hline\n",
    "\\end{array}$$\n",
    "\n",
    "If one adds up this Boolean matrix, one obtains for each row the number of people who are older than $0$ years, older than $25$ years, older than $30$ years, etc. This is the expression:"
   ]
  },
  {
   "cell_type": "code",
   "execution_count": 120,
   "metadata": {},
   "outputs": [
    {
     "data": {
      "text/html": [
       "<span style=\"white-space:pre; font-family: monospace\">400 344 312 256 152 89 51 14\n",
       "</span>"
      ]
     },
     "execution_count": 120,
     "metadata": {},
     "output_type": "execute_result"
    }
   ],
   "source": [
    "cum ← +/ (Category ∘.< Ages)\n",
    "cum"
   ]
  },
  {
   "cell_type": "markdown",
   "metadata": {},
   "source": [
    "With the cut-down extract shown above, the value of `cum` would be `17 14 12 8 6 4`.\n",
    "\n",
    "In other words, there are $12$ people older than $30$. But among them, $8$ are older than $35$. In order to know how many people are between $30$ and $35$, it is necessary to calculate $12 - 8$ to obtain $4$.\n",
    "\n",
    "If one wants to reproduce this calculation for all categories, it is necessary to perform a series of subtractions as here:\n",
    "\n",
    "$$\\begin{array}{lrrrrrr}\n",
    "  & 17 & 14 & 12 & 8 & 6 & 4 \\\\\n",
    "- & 14 & 12 &  8 & 6 & 4 & 0 \\\\\n",
    "\\hline\n",
    "  &  3 &  2 &  4 & 2 & 2 & 4\n",
    "\\end{array}$$\n",
    "\n",
    "where the first line is `cum`, the second line is `cum` without its first item and followed by zero and the last line is the result as obtained by the expression `cum-(1↓cum,0)`.\n",
    "\n",
    "To append a zero to the right, we used a comma, which joins variables together. This is a function called ***Catenate***.\n",
    "\n",
    "If one no longer works with a small extract of data, but with the full list of $400$ people, this is what one gets:"
   ]
  },
  {
   "cell_type": "code",
   "execution_count": 122,
   "metadata": {},
   "outputs": [
    {
     "data": {
      "text/html": [
       "<span style=\"white-space:pre; font-family: monospace\">56 32 56 104 63 38 37 14\n",
       "</span>"
      ]
     },
     "execution_count": 122,
     "metadata": {},
     "output_type": "execute_result"
    }
   ],
   "source": [
    "cum ← +/ (Category ∘.< Ages)\n",
    "cum - (1↓cum,0)"
   ]
  },
  {
   "cell_type": "markdown",
   "metadata": {},
   "source": [
    "All that without real programming, and it works whatever the number of people or categories. What a luck!\n",
    "\n",
    "Once again, APL allowed us to find straightforward and original solutions to traditional problems.\n",
    "\n",
    "## There Is a Lot to Discover Yet\n",
    "\n",
    "In the course of these pages we have flown over APL country and glimpsed certain bold ideas which explain the attraction of the language. A thousand other things remain to be seen! If you are convinced that Dyalog APL is worth the effort, you can start studying APL in much more detail in the rest of this book.\n",
    "\n",
    "Let us just discover some additional attractive features of APL.\n",
    "\n",
    "### Attractively Simple Syntax Rules\n",
    "\n",
    "Most other programming languages contain rather complex rules to determine how an expression is evaluated; a concept called *operator precedence*. Very often it says that for example multiplication and division have higher precedence than addition and subtraction, meaning that an expression like $5 \\times 3 + 2$ gives $17$, because the multiplication is done first, and then the addition.\n",
    "\n",
    "This sounds simple and familiar, but it quickly gets very complex and difficult to remember, especially in a language containing many functions, like APL. For example, which precedence should we give to `⍳` or `↓` or `⌈`, for which we do not have an established tradition? And what about the functions we write ourselves?\n",
    "\n",
    "The democratic solution adopted in APL is \"*We hold these truths to be self-evident that all functions are created equal!*\". The only and very simple rule is that any function works on the result of the entire expression to its right, and, if it is a dyadic function, the value immediately to the left of it. As usual, parentheses can be used to group parts of an expression.\n",
    "\n",
    "So, let us see how this applies to the expression above:"
   ]
  },
  {
   "cell_type": "code",
   "execution_count": 123,
   "metadata": {},
   "outputs": [
    {
     "data": {
      "text/html": [
       "<span style=\"white-space:pre; font-family: monospace\">25\n",
       "</span>"
      ]
     },
     "execution_count": 123,
     "metadata": {},
     "output_type": "execute_result"
    }
   ],
   "source": [
    "5 × 3 + 2"
   ]
  },
  {
   "cell_type": "markdown",
   "metadata": {},
   "source": [
    "`×` works on `5` (the value immediately to the left of it) and the result of `3 + 2`, the entire expression to the right of it. Even though it is not strictly correct, many people say that APL evaluates from right to left. In any case, the result of the expression is `25` in APL!\n",
    "\n",
    "Had we written `(5 × 3) + 2` instead the result would of course have been `17`.\n",
    "\n",
    "It may take a little while to get used to this slightly unfamiliar rule, but once it has been learned it is really a great advantage because you can direct your energy towards solving your problem and not have to remember complex rules just to satisfy the computer's need for guidance.\n",
    "\n",
    "### Use Many Other Calculating Tools\n",
    "\n",
    "We have discovered some original functions, which are completely absent from most other programming languages, like `⍴`, `↑`, `⍉`, `∊` and *Outer Product*. Those features lead to new methods and new algorithms to process data; this is one of the main advantages of APL.\n",
    "\n",
    "Not only do you have a lot more functions: *Inner Product* (generalized matrix product), many built-in mathematical tools (trigonometry, matrix inverse, conversions to and from any numerical base, etc.), but you can also handle generalized (nested) arrays; arrays which contain arrays, which themselves contain arrays, and so on.\n",
    "\n",
    "The scope of the possible solutions to a single problem is often so wide that is is probably the reason why people never get tired of using APL: They always have something new to discover and to invent.\n",
    "\n",
    "### Create User-friendly Applications with the GUI\n",
    "\n",
    "Like all modern programming languages, Dyalog APL has a Graphic User Interface (GUI) under Microsoft Windows and Win32 emulators under Unix. It allows you to design pleasant user interfaces with all the items and features you are familiar with. Even a beginner can quickly create an interface and process the data with all the power of the language, whereas in traditional languages, the same operation would need days or weeks of programming. The Microsoft.NET interface supports the use of WinForms and Windows Presentation Foundation GUI elements as well.\n",
    "\n",
    "### Access Your Data\n",
    "\n",
    "Of course, Dyalog APL has built-in instructions to access data files, and SQL databases like Oracle, SQL Server, or other popular databases. These itnerfaces allow you to visualise and process part or all of a data base as if it were an array, to which you can apply all the array processing functions available in APL. That saves you a lot of heavy programming tasks.\n",
    "\n",
    "Dyalog APL has also its own powerful fiel system. These files are collections of arrays of any shapes or sizes, which can be processed with the full power of the language. Databases built with this special feature are extremely compact ($2$ to $3$ times smaller than an equivalent relational database). They can be shared, and they offer much greater flexibility and superior performance compared to traditional database management systems.\n",
    "\n",
    "### Build an Efficient Partnership With Microsoft Excel\n",
    "\n",
    "Microsoft Excel, probably the most popular spreadsheet manager, is used all over the world by millions of people. It appears that Excel is an easy way to enter data into a computer in a tabular form, and it is also an excellent product to produce everyday business reports and graphs.\n",
    "\n",
    "While Excel is convenient for small business applications, it is too limited to process complex calculations, or when some operations involve data located in many workbooks.\n",
    "\n",
    "Excel and APL can easily be combined in an efficient partnership. Excel is used to input data in a very flexible way into spreadsheets, which most users are familiar with. APL can then read dozens (and sometimes hundreds) of sheets, aggregate the data, and perform very complex calculations, which may be controlled and parameterized through the GUI interface. Of course, the results can be printed, but they can aso be output to the users in the for of specially prepared Excel worksheets. In these worksheets, the users can proceed to additional operations for their particular needs, or produce graphs of their own.\n",
    "\n",
    "### And Also...\n",
    "\n",
    "You can interface APL with the Internet, write your own web server, use multithreading to process simultaneous tasks, use all the advantages of true *Object Oriented Programming*, and use many attractive features, which are beyond the scope of this quick survey.\n",
    "\n",
    "## FAQ\n",
    "\n",
    "Perhaps you have found this language rather engaging, but before you decide to invest time and energy in developing APL applications, you would like to be sure of your choice. Let's give you some answers.\n",
    "\n",
    "### Is Dyalog APL A Professional Tool?\n",
    "\n",
    "Among many others, here are some significant examples of important applications:\n",
    "\n",
    " - Long term Board level financial planning for one of the world's five biggest petroleum companies, used over $12$ years.\n",
    " - The management of supplies required from 'today + 2 days' to 'today + 3 months', by the assembly lines of the $6$ principal factories of a major international car manufacturer.\n",
    " - Risk Management for an important insurance group.\n",
    " \n",
    "These three examples have common characteristics, positioning them as major industrial applications:\n",
    "\n",
    " - They are particularly crucial because considerable finances are at stake.\n",
    " - They must be absolutely reliable. A major car manufacturer works must not be brought to a stop by a programming bug.\n",
    " - The first two applications operate in a highly volatile business environment. As their requirements are always changing, the programs undergo constant mutation. These evolutions must be made with very short development cycles.\n",
    " \n",
    "So we can answer: Yes, for a reasonable cost in labour, APL makes it possible to create, maintain, support and further develop large, sensitive applications of the highest level of quality, reliability, and flexibility.\n",
    "\n",
    "### Can Dyalog APL Fit a Professional Developer's Needs?\n",
    "\n",
    "The characteristics of APL make it easy to use, lead to quick development, and help to produce light and flexible code. Programs developed in APL can evolve quickly, to fit changing user requirements at will.\n",
    "\n",
    " - Because APL uses symbols rather than words to represent operations, a programmer can use any word for his own data and programs names; they will never be in conflict with the language structure and contents.\n",
    " \n",
    " - Due to its array-processing capability, APL dramatically reduces the needs for programming loops. Because all such intricacies are removed, the code is much lighter, and the programmer can concentrate all his attention and skill on the true core of computing requirements.\n",
    " \n",
    " - In many programming languages, a programmer would have to declare that each variable will be an array of such and such dimensions, containing values with a specific data type. There is nothing similar in APL. The size and the data type of a variable arise from the way in which the variable has been produced. If one extracts two rows and five columns from a matrix, the result will of course be a $2$ by $5$ matrix. And if we divide $486$ into $7$, the result will of course be a fractional value; there is no need to specify it in advance.\n",
    " \n",
    " - The extensive set of direct operations on data offered by APL leads to new approaches. For traditional problems, which have been solved in the same way in most programming languages for years, APL suddenly offers new solutions, which appear to be light, straighforward, very general, and easy to maintain because they are easy to read.\n",
    " \n",
    " - The readability of APL often surprises people who practise other programming languages; they probably forget that the languages they use are totally obscure for most non specialists. APL is learned and used efficiently by people who are not data processing professionals, but are instead specialists in their professional fields, such as accountancy, chemistry, insurance, logistics, finance and biology. They have less difficulty with APL than with the problems they have to solve, and most often, they solve them with APL. They could not achieve this alone with any other programming languages, but would require the help of programming specialists... who of course know nothing of the problem domain in question.\n",
    " \n",
    "### Where is APL Typically Used?\n",
    "\n",
    "APL is typically used in situations where there is a lot to be gained if people who understand a problem can be closely involved in developing solutions. Sometimes application code is written in the afternoon by the same people who read the latest research reports or legislation in the morning - or by members of a very small team who have overlapping skills.\n",
    "\n",
    "In a more traditional approach, in which the specialist teams would need the help of professional programmers, such teams may find that valuable information was lost in the \"process\", so that several iterations would be required in order to reach a satisfactory solution. Especailly when a problem has a mathematical or technical foundation, APL can turbo-charge the development cycle.\n",
    "\n",
    "Even if there is no immediate urgency, APL allows the path between \"users and coders\" to be much shorter than is the case when \"traditional\" technologies, in which *requirement gathering*, *specification*, *architecture* and *coding* are often handled by separate teams. If you have a novel idea that you would like to investiage (or \"get to market\") quickly, you may reach your goal very much more easily by learning APL or employing a small team of APL developers (who will be able to \"speak your language\"), rather than becoming or using \"programmers\" to develop solutions for you.\n",
    "\n",
    "APL is most widely used in the financial industry, which has a mathematical foundation, and rapidly changing requirements: In this environment, the use of APL can provide a significant competitive advantage.\n",
    "\n",
    "Unfortunately some problems cannot wait!\n",
    "\n",
    "Great flexibility and speed is the true commercial foundation for APL. With APL one can develop in direct contact with the users and involve them from the outset in the continual modification of the object of the development. Afterwards, as an application continues to evolve, it is still the speed of development which makes APL a tool especially well adapted to changing environments.\n",
    "<br />\n",
    "<br />\n",
    "<br />\n",
    "<center>We hope you enjoyed this little trip in the magic world of APL.</center>\n",
    "\n",
    "If you still think APL might be the very tool you need, you are ready to read the full text of the following tutorial. You will revisit some of the exames you have seen above, plus many, many others.\n",
    "\n",
    "![A sad man complaining about having to code in C#](res/back_to_C.png)"
   ]
  },
  {
   "cell_type": "code",
   "execution_count": null,
   "metadata": {},
   "outputs": [],
   "source": []
  }
 ],
 "metadata": {
  "kernelspec": {
   "display_name": "Dyalog APL",
   "language": "apl",
   "name": "dyalog-kernel"
  },
  "language_info": {
   "file_extension": ".apl",
   "mimetype": "text/apl",
   "name": "APL"
  }
 },
 "nbformat": 4,
 "nbformat_minor": 4
}
