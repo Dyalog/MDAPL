{
 "cells": [
  {
   "cell_type": "markdown",
   "metadata": {},
   "source": [
    "# Introduction - Will You Play APL With Me?\n",
    "\n",
    "## Will You Follow Us?\n",
    "\n",
    "We would like to have you discover a new land, a land where people who may or may not be specialists in programming can process their data, build computerised applications, and take pleasure in using a programming language which is an extremely elegant and powerful tool of thought.\n",
    "\n",
    "### Beware: Dyalog APL is Addictive!\n",
    "\n",
    "Among the hundreds of programming languages which have been created, most of them share the same fundamentals, the same basic instruction set, approximately the same functions, and by and large the same methods to control the logic of a program. This greatly influences the way people imagine and build solutions to computing problems. Because the languages are so similar, the solutions are similar. Does it mean that these are the only ways of solving problems? Of course not!\n",
    "\n",
    "Dyalog APL is there to open doors, windows, and minds, prove that original new methods do exist, and that mathematics is not limited to four basic operations. Using APL will expand and extend the range of mental models that you use to solve problems, but beware:\n",
    "\n",
    "Once you are hooked on APL, there is a real risk that you will no longer accept the limitations of \"traditional\" programming languages.\n",
    "\n",
    "\n",
    "### Setup\n",
    "\n",
    "If you are reading this book online, chances are you can make the most of the interactivity provided by the book format: code snippets can be run by you and you can invent your own data and calculations by modifying those same snippets.\n",
    "\n",
    "If you are reading this book in a non-interactive format, you can experiment on your own computer by installing Dyalog APL, which you can download from [here](https://www.dyalog.com/download-zone.htm). You can refer to Chapter A for installation help. If you do not wish to install Dyalog APL right away you can also follow along online at [TryAPL], where a large subset of APL is supported.\n",
    "\n",
    "If none of these options suit you, you should still be able to gain an appreciation of the language from these pages and, we hope, enjoy the experience.\n",
    "\n",
    "As you will see in the following pages, APL uses special symbols, like `⍉`, `⍴`, and `↓`, which you can enter in a variety of ways:\n",
    "\n",
    " - you can install a special APL keyboard layout, which will work everywhere. Dyalog APL comes with the option of installing such a layout;\n",
    " - you can use the [APL language bar](https://abrudz.github.io/lb/apl), which works on your browser;\n",
    " - you can use the software's built-in language bar, which relies on the software having a language bar. The Dyalog APL interpreter and [TryAPL] have such a built-in language bar.\n",
    " \n",
    "The snippet below uses some APL incantations to display the US keyboard layout, and other layouts (as well as Mac layouts) can be found [here](https://dfns.dyalog.com/n_keyboards.htm).\n",
    "\n",
    "[TryAPL]: https://tryapl.org/ "
   ]
  },
  {
   "cell_type": "code",
   "execution_count": 13,
   "metadata": {},
   "outputs": [
    {
     "data": {
      "text/html": [
       "<span style=\"white-space:pre; font-family: monospace\">C:\\Program Files\\Dyalog\\Dyalog APL-64 18.0 Unicode\\ws\\dfns.dws saved Wed Jul 15 20:03:46 2020\n",
       "</span>"
      ]
     },
     "execution_count": 13,
     "metadata": {},
     "output_type": "execute_result"
    },
    {
     "data": {
      "text/html": [
       "<span style=\"white-space:pre; font-family: monospace\">Dyalog APL/en-US keyboard                                                               \n",
       "¯¯¯¯¯¯¯¯¯¯¯¯¯¯¯¯¯¯¯¯¯¯¯¯¯                                                               \n",
       "┌────┬────┬────┬────┬────┬────┬────┬────┬────┬────┬────┬────┬────┬─────────┐            \n",
       "│~ ⌺ │! ⌶ │@ ⍫ │# ⍒ │$ ⍋ │% ⌽ │^ ⍉ │&amp; ⊖ │* ⍟ │( ⍱ │) ⍲ │_ ! │+ ⌹ │Backspace│            \n",
       "│` ⋄ │1 ¨ │2 ¯ │3 &lt; │4 ≤ │5 = │6 ≥ │7 &gt; │8 ≠ │9 ∨ │0 ∧ │- × │= ÷ │         │            \n",
       "├────┴──┬─┴──┬─┴──┬─┴──┬─┴──┬─┴──┬─┴──┬─┴──┬─┴──┬─┴──┬─┴──┬─┴──┬─┴──┬──────┤            \n",
       "│Tab    │Q   │W   │E ⍷ │R   │T ⍨ │Y   │U   │I ⍸ │O ⍥ │P ⍣ │{ ⍞ │} ⍬ │| ⊣   │            \n",
       "│       │q ? │w ⍵ │e ∊ │r ⍴ │t ~ │y ↑ │u ↓ │i ⍳ │o ○ │p * │[ ← │] → │\\ ⊢   │            \n",
       "├───────┴┬───┴┬───┴┬───┴┬───┴┬───┴┬───┴┬───┴┬───┴┬───┴┬───┴┬───┴┬───┴──────┤            \n",
       "│Caps    │A   │S   │D   │F   │G   │H   │J ⍤ │K ⌸ │L ⌷ │: ≡ │\" ≢ │Enter     │            \n",
       "│Lock    │a ⍺ │s ⌈ │d ⌊ │f _ │g ∇ │h ∆ │j ∘ │k ' │l ⎕ │; ⍎ │' ⍕ │          │            \n",
       "├────────┴──┬─┴──┬─┴──┬─┴──┬─┴──┬─┴──┬─┴──┬─┴──┬─┴──┬─┴──┬─┴──┬─┴──────────┤            \n",
       "│Shift      │Z ⊆ │X   │C   │V   │B   │N   │M   │&lt; ⍪ │&gt; ⍙ │? ⍠ │Shift       │            \n",
       "│           │z ⊂ │x ⊃ │c ∩ │v ∪ │b ⊥ │n ⊤ │m | │, ⍝ │. ⍀ │/ ⌿ │            │            \n",
       "├───────┬───┴─┬──┴───┬┴────┴────┴────┴────┴────┴┬───┴──┬─┴────┼─────┬──────┤            \n",
       "│Ctrl   │Win  │Alt   │                          │Alt Gr│Win   │Menu │Ctrl  │            \n",
       "│       │     │      │                          │      │      │     │      │            \n",
       "└───────┴─────┴──────┴──────────────────────────┴──────┴──────┴─────┴──────┘            \n",
       "</span>"
      ]
     },
     "execution_count": 13,
     "metadata": {},
     "output_type": "execute_result"
    }
   ],
   "source": [
    ")copy dfns notes.keyboards\n",
    "18↑k↓⍨¯1+⊃⊃⍸'APL/en-US keyboard'⍷k←⎕fmt keyboards"
   ]
  },
  {
   "cell_type": "markdown",
   "metadata": {},
   "source": [
    "Here is how the keyboard is to be used:\n",
    "\n",
    " - all the standard English letters, numerals and symbols are typed as usual.\n",
    " \n",
    " - the majority of the APL symbols are obtained by pressing the <kbd>APL</kbd> key, in conjunction with another key. The <kbd>APL</kbd> key is the key you use to access the symbols on the right half of the keycaps above; the <kbd>APL</kbd> key is system dependent and is usually one of <kbd>Ctrl</kbd>, <kbd>Alt</kbd> or <kbd>AltGr</kbd> (or right <kbd>Alt</kbd>);\n",
    " \n",
    "   - the symbols on the bottom-right corner of the keycap are accessed by pressing the <kbd>APL</kbd> key, for example <kbd>APL</kbd>+<kbd>r</kbd> gives `⍴` and <kbd>APL</kbd>+<kbd>e</kbd> gives `∊`;\n",
    "   - if you look at the <kbd>E</kbd> key in the figure above, you can see that the symbol `⍷` appears on top of the symbol `∊`. To type the symbols on the top-right corner of a keycap, one uses the <kbd>APL</kbd>+<kbd>Shift</kbd> combo, so that <kbd>APL</kbd>+<kbd>Shift</kbd>+<kbd>E</kbd> types an `⍷`.\n",
    " \n",
    "You may notice that some symbols appear twice on the keyboard. This is the case for the symbols `<` `=` `>`. These symbols are all part of a normal keyboard but they have been repeated on the APL keyboard, mostly in order to group the symbols used for _comparison functions_ together (look at the bottom-right corner of the keycaps for the numbers 3 to 8). Do not worry: no matter which key you use to produce one of the duplicated symbols, you'll obtain the same result."
   ]
  },
  {
   "cell_type": "markdown",
   "metadata": {},
   "source": [
    "<center><b>Now, you are ready, fasten your seatbelts, we're off!</b></center>\n",
    "\n",
    "## Our First Steps into APL's Magic World\n",
    "\n",
    "### The APL Interpreter Session and Jupyter Notebook Inputs\n",
    "\n",
    "If you installed Dyalog APL or you intend to follow along using [TryAPL](https://tryapl.org), you will see that what you type starts 6 characters right from the left margin (we say it is \"*indented*\"), whereas the computer's response begins at the left margin. This would look something like this:\n",
    "\n",
    "```apl\n",
    "      3 + 3\n",
    "6\n",
    "```\n",
    "\n",
    "If you type `3 + 3` on your Dyalog APL interpreter session, you can evaluate it by just pressing <kbd>Enter</kbd> to obtain the answer `6`.\n",
    "\n",
    "However, this book was written in Jupyter notebooks, which obey a different format:\n",
    "\n",
    " - what the user types goes in a grey rectangle that is preceded by a `In [X]:` annotation; you evaluate what you type by pressing <kbd>Ctrl</kbd>+<kbd>Enter</kbd>;\n",
    " - the computer's response goes in a white rectangle that is preceded by the corresponding `Out[X]:` annotation.\n",
    "\n",
    "Using the same example as above, it looks like this:"
   ]
  },
  {
   "cell_type": "code",
   "execution_count": 14,
   "metadata": {},
   "outputs": [
    {
     "data": {
      "text/html": [
       "<span style=\"white-space:pre; font-family: monospace\">6\n",
       "</span>"
      ]
     },
     "execution_count": 14,
     "metadata": {},
     "output_type": "execute_result"
    }
   ],
   "source": [
    "3 + 3"
   ]
  },
  {
   "cell_type": "markdown",
   "metadata": {},
   "source": [
    "### Simple Operations\n",
    "\n",
    "Let us try some more simple examples with the four basic arithmetic operations:"
   ]
  },
  {
   "cell_type": "code",
   "execution_count": 15,
   "metadata": {},
   "outputs": [
    {
     "data": {
      "text/html": [
       "<span style=\"white-space:pre; font-family: monospace\">80\n",
       "</span>"
      ]
     },
     "execution_count": 15,
     "metadata": {},
     "output_type": "execute_result"
    }
   ],
   "source": [
    "27 + 53"
   ]
  },
  {
   "cell_type": "code",
   "execution_count": 16,
   "metadata": {},
   "outputs": [
    {
     "data": {
      "text/html": [
       "<span style=\"white-space:pre; font-family: monospace\">563\n",
       "</span>"
      ]
     },
     "execution_count": 16,
     "metadata": {},
     "output_type": "execute_result"
    }
   ],
   "source": [
    "1271 - 708"
   ]
  },
  {
   "cell_type": "code",
   "execution_count": 17,
   "metadata": {},
   "outputs": [
    {
     "data": {
      "text/html": [
       "<span style=\"white-space:pre; font-family: monospace\">21.5\n",
       "</span>"
      ]
     },
     "execution_count": 17,
     "metadata": {},
     "output_type": "execute_result"
    }
   ],
   "source": [
    "86 ÷ 4        ⍝ The Divide sign is obtained using APL+="
   ]
  },
  {
   "cell_type": "code",
   "execution_count": 18,
   "metadata": {},
   "outputs": [
    {
     "data": {
      "text/html": [
       "<span style=\"white-space:pre; font-family: monospace\">472\n",
       "</span>"
      ]
     },
     "execution_count": 18,
     "metadata": {},
     "output_type": "execute_result"
    }
   ],
   "source": [
    "59 × 8        ⍝ The Multiply sign is obtained using APL+-"
   ]
  },
  {
   "cell_type": "markdown",
   "metadata": {},
   "source": [
    "You will notice that in the examples given in the book we very often put a blank space between a symbol and the surrounding names or values. This is unnecessary in most cases; we only do so in order to improve readability. Later on, we will gradually cease to insert the blank spaces in expressions that you should become familiar with along the way.\n",
    "\n",
    "You can see that APL behaves like any hand-held calculator with, however, a small difference; multiplication is represented by the multiplication symbol (`×`) which is used in schools in many countries; likewise for division (`÷`).\n",
    "\n",
    "In most other computer languages, a star `*` is used for Multiply and `/` for Divide. This is a legacy of the early days of computers, when the character set was limited to the one available on a typewriter. At the time it was decided to use `*` and `/` in place of `×` and `÷`. But it is now possible to display any type of symbol on a screen and on a printer, and this transposition is no longer justifiable. The use of common symbols, which are taught all over the world, aids the understanding of APL by non programmers.\n",
    "\n",
    "If you are familiar with other programming languages, you may occasionally and erroneously use `*` instead of `×`. Let's see what might happen then:"
   ]
  },
  {
   "cell_type": "code",
   "execution_count": 19,
   "metadata": {},
   "outputs": [
    {
     "data": {
      "text/html": [
       "<span style=\"white-space:pre; font-family: monospace\">343\n",
       "</span>"
      ]
     },
     "execution_count": 19,
     "metadata": {},
     "output_type": "execute_result"
    }
   ],
   "source": [
    "7 * 3        ⍝ In APL the star means \"Power\"\n",
    "             ⍝ so that 7*3 is equivalent to 7×7×7"
   ]
  },
  {
   "cell_type": "markdown",
   "metadata": {},
   "source": [
    "### Variables\n",
    "\n",
    "As in any programming language, it is possible to create variables. Just choose a name and use the left arrow to assign it a value. In APL a numeric value can consist of a single number, or several numbers separated by at least one blank space. The arrow can be obtained using <kbd>APL</kbd>+<kbd>[</kbd> (if you have a non-UK/US layout and <kbd>APL</kbd>+<kbd>[</kbd> did not work for you, refer to the keyboard layout above: the <kbd>P</kbd> is on the top right and `←` is to its right, so you might need to press the same physical key)."
   ]
  },
  {
   "cell_type": "code",
   "execution_count": 20,
   "metadata": {},
   "outputs": [],
   "source": [
    "vat ← 19.6                    ⍝ Read it as: vat gets 19.6\n",
    "years ← 1952 1943 1986 2007"
   ]
  },
  {
   "cell_type": "markdown",
   "metadata": {},
   "source": [
    "The names are \"*case sensitive*\". It means that three variables named respectively `VAT`, `Vat` and `vat`, would be distinct, and may contain different values.\n",
    "\n",
    "To ask for the contents of a variable, just type its name and evaluate it like you did for the previous examples:"
   ]
  },
  {
   "cell_type": "code",
   "execution_count": 21,
   "metadata": {},
   "outputs": [
    {
     "data": {
      "text/html": [
       "<span style=\"white-space:pre; font-family: monospace\">19.6\n",
       "</span>"
      ]
     },
     "execution_count": 21,
     "metadata": {},
     "output_type": "execute_result"
    }
   ],
   "source": [
    "vat"
   ]
  },
  {
   "cell_type": "code",
   "execution_count": 22,
   "metadata": {},
   "outputs": [
    {
     "data": {
      "text/html": [
       "<span style=\"white-space:pre; font-family: monospace\">1952 1943 1986 2007\n",
       "</span>"
      ]
     },
     "execution_count": 22,
     "metadata": {},
     "output_type": "execute_result"
    }
   ],
   "source": [
    "years"
   ]
  },
  {
   "cell_type": "markdown",
   "metadata": {},
   "source": [
    "## Array Processing\n",
    "\n",
    "APL is able to operate on two sets of numbers, provided those two sets have the same \"shape\". For the moment, understand this as \"the same number of items\". For example, suppose that you have a list of prices of 5 products, and the quantity bought of each:\n",
    "\n",
    "| Prices | Quantities |\n",
    "| :-: | :-: |\n",
    "| 5.20 | 2 |\n",
    "| 11.50 | 1 |\n",
    "| 3.60 | 3 |\n",
    "| 4.00 | 6 |\n",
    "| 8.45 | 2 |\n",
    "\n",
    "You can create two variables like this:"
   ]
  },
  {
   "cell_type": "code",
   "execution_count": 23,
   "metadata": {},
   "outputs": [],
   "source": [
    "price ← 5.2 11.5 3.6 4 8.45\n",
    "qty   ← 2 1 3 6 2"
   ]
  },
  {
   "cell_type": "markdown",
   "metadata": {},
   "source": [
    "When multiplied together, the variables are multiplied item by item, and produce a result of the same length. That result can be assigned to a new variable."
   ]
  },
  {
   "cell_type": "code",
   "execution_count": 24,
   "metadata": {},
   "outputs": [
    {
     "data": {
      "text/html": [
       "<span style=\"white-space:pre; font-family: monospace\">10.4 11.5 10.8 24 16.9\n",
       "</span>"
      ]
     },
     "execution_count": 24,
     "metadata": {},
     "output_type": "execute_result"
    }
   ],
   "source": [
    "costs ← price × qty\n",
    "costs"
   ]
  },
  {
   "cell_type": "markdown",
   "metadata": {},
   "source": [
    "This *array processing* capability eliminates most of the \"loops\" which are common to other programming languages. This remains true even if the data is not a simple list but a multi-dimensional array, of almost any size and number of dimensions.\n",
    "\n",
    "To make it clear, imagine that a Sales Director makes forecasts for sales of 4 products over the coming 6 months, and assigns them to the variable `forecast`. At the end of the 6 months, he assigns the real values to the variable `actual`. Here they are:"
   ]
  },
  {
   "cell_type": "code",
   "execution_count": 25,
   "metadata": {},
   "outputs": [
    {
     "data": {
      "text/html": [
       "<span style=\"white-space:pre; font-family: monospace\"> 90 160 420 500  20  30\n",
       "110 450 170 370 290 360\n",
       "340 190 320 120 510 370\n",
       "150 460 240 520 490 280\n",
       "</span>"
      ]
     },
     "execution_count": 25,
     "metadata": {},
     "output_type": "execute_result"
    }
   ],
   "source": [
    "⎕RL ← 73\n",
    "forecast ← 10×?4 6⍴55\n",
    "forecast"
   ]
  },
  {
   "cell_type": "code",
   "execution_count": 26,
   "metadata": {},
   "outputs": [
    {
     "data": {
      "text/html": [
       "<span style=\"white-space:pre; font-family: monospace\"> 89 166 420 508  12  23\n",
       "111 453 177 365 284 352\n",
       "349 192 329 115 515 374\n",
       "160 467 234 519 485 283\n",
       "</span>"
      ]
     },
     "execution_count": 26,
     "metadata": {},
     "output_type": "execute_result"
    }
   ],
   "source": [
    "⎕RL ← 73\n",
    "actual ← forecast + ¯10+?4 6⍴20\n",
    "actual"
   ]
  },
  {
   "cell_type": "markdown",
   "metadata": {},
   "source": [
    "<!-- begin remark -->\n",
    "***Remark***:\n",
    "\n",
    " > We initialise the `forecast` and `actual` variables with some random values by the use of the functions `⍴` and `?` and with a magic incantation `⎕RL`. You will learn more about `⍴`, `?` and `⎕RL` later on in the book.\n",
    "<!-- end -->\n",
    "\n",
    "It is clear that the first idea of any Sales Director will be to ask for the differences between what they expected and what they really got. This can be done easily by typing:"
   ]
  },
  {
   "cell_type": "code",
   "execution_count": 27,
   "metadata": {},
   "outputs": [
    {
     "data": {
      "text/html": [
       "<span style=\"white-space:pre; font-family: monospace\">¯1 6  0  8 ¯8 ¯7\n",
       " 1 3  7 ¯5 ¯6 ¯8\n",
       " 9 2  9 ¯5  5  4\n",
       "10 7 ¯6 ¯1 ¯5  3\n",
       "</span>"
      ]
     },
     "execution_count": 27,
     "metadata": {},
     "output_type": "execute_result"
    }
   ],
   "source": [
    "actual - forecast"
   ]
  },
  {
   "cell_type": "markdown",
   "metadata": {},
   "source": [
    "Note that to distinguish the sign attached to negative values from subtraction, negative values are shown with a high minus sign. The high minus sign can be obtained by pressing <kbd>APL</kbd>+<kbd>2</kbd>.\n",
    "\n",
    "In most traditional programming languages, an operation like the one above requires two embedded loops. See what is needed in Python:\n",
    "\n",
    "```py\n",
    "diff = []\n",
    "for i in range(len(actual)):\n",
    "    row = []\n",
    "    for j in range(len(actual[i])):\n",
    "        row.append(actual[i][j] - forecast[i][j])\n",
    "    diff.append(row)\n",
    "```\n",
    "\n",
    "Even if this may seem obvious to a programmer, it is worth noting that most of the code has nothing to do with the user requirement. The only important thing (subtract forecasts from actual values) is hidden behind the detailed working of the computer program.\n",
    "\n",
    "To have a calculation done by a machine, one must translate our human wording into something that the computer can understand. With traditional languages, most of the effort is made by the man, to produce a program like the Python example above. The great advantage of APL is that the man has generally much less effort to make, and the machine does the rest.\n",
    "\n",
    "We have seen that APL will work on two variables of the same shape; it also works if one of the variables is a single item, which is called a **_scalar_**. If so, the other variable may be of any shape.\n",
    "\n",
    "For example, if we want to calculate the amount of 19.6% VAT applied to the variable `price` above, we can type `price × vat ÷ 100` (or `vat × price ÷ 100` as well), as shown here:"
   ]
  },
  {
   "cell_type": "code",
   "execution_count": 28,
   "metadata": {},
   "outputs": [
    {
     "data": {
      "text/html": [
       "<span style=\"white-space:pre; font-family: monospace\">1.0192 2.254 0.7056 0.784 1.6562\n",
       "</span>"
      ]
     },
     "execution_count": 28,
     "metadata": {},
     "output_type": "execute_result"
    }
   ],
   "source": [
    "price × vat ÷ 100"
   ]
  },
  {
   "cell_type": "markdown",
   "metadata": {},
   "source": [
    "These prices would then require some rounding, but this is not very important right now."
   ]
  },
  {
   "cell_type": "markdown",
   "metadata": {},
   "source": [
    "## More Symbols\n",
    "\n",
    "Most programming languages represent only a very small subset of the mathematical functions using symbols (typically `+`, `-`, `*` and `/`). The creator of APL, Kenneth E. Iverson, chose to include many traditional mathematical symbols in his language, and also added some new symbols to the set that we already know so well.\n",
    "\n",
    "E.g.: Many functions which in other programming languages are library routines with names like \"Maximum\" have their own symbols in APL.\n",
    "\n",
    "The function \"**_Maximum_**\" (`⌈`, typed with <kbd>APL</kbd>+<kbd>s</kbd>) returns the greater of two numbers, or of two arrays of numbers compared item by item.\n",
    "\n",
    "There is also, as one might expect, a symbol for \"**_Minimum_**\" (`⌊`, typed with <kbd>APL</kbd>+<kbd>d</kbd>)."
   ]
  },
  {
   "cell_type": "code",
   "execution_count": 29,
   "metadata": {},
   "outputs": [
    {
     "data": {
      "text/html": [
       "<span style=\"white-space:pre; font-family: monospace\">87.3\n",
       "</span>"
      ]
     },
     "execution_count": 29,
     "metadata": {},
     "output_type": "execute_result"
    }
   ],
   "source": [
    "75.6 ⌈ 87.3"
   ]
  },
  {
   "cell_type": "markdown",
   "metadata": {},
   "source": [
    "If we type more than one item on either side, we get comparison item by item. Later, we will see this is because *Maximum* is a *scalar* function."
   ]
  },
  {
   "cell_type": "code",
   "execution_count": 30,
   "metadata": {},
   "outputs": [
    {
     "data": {
      "text/html": [
       "<span style=\"white-space:pre; font-family: monospace\">30 28 52 20\n",
       "</span>"
      ]
     },
     "execution_count": 30,
     "metadata": {},
     "output_type": "execute_result"
    }
   ],
   "source": [
    "11 28 52 14 ⌈ 30 10 50 20"
   ]
  },
  {
   "cell_type": "code",
   "execution_count": 31,
   "metadata": {},
   "outputs": [
    {
     "data": {
      "text/html": [
       "<span style=\"white-space:pre; font-family: monospace\">11 20 20 14\n",
       "</span>"
      ]
     },
     "execution_count": 31,
     "metadata": {},
     "output_type": "execute_result"
    }
   ],
   "source": [
    "11 28 52 14 ⌊ 20"
   ]
  },
  {
   "cell_type": "markdown",
   "metadata": {},
   "source": [
    "APL supports about 80 symbols. Since some symbols have more than one meaning one could argue at length about the exact number.\n",
    "\n",
    "This is nothing to worry about: Some of the symbols are familiar, such as `×` or `>` or again `÷` and `-`, but also `!` and a good many others.\n",
    "\n",
    "## Most Symbols Have a Double Meaning\n",
    "\n",
    "This is not a peculiarity of APL; in algebra we are familiar with the use of symbols as common as the minus sign being used in two different ways.\n",
    "\n",
    "In the expression $a = x \\color{red}{-} y$ the minus sign means subtract, whereas in $a = \\color{red}{-}y$ the minus sign indicates the negation of $y$. The first form is called the \"**_dyadic_**\" use of the symbol. The second form is called the \"**_monadic_**\" use of the symbol.\n",
    "\n",
    "It is the same in APL, where most of the symbols can have two meanings.\n",
    "\n",
    "For example, to find the shape (the dimensions) of an array, one uses the Greek letter Rho (`⍴`), which can be read \"*shape of ...*\", in its monadic use. It is produced using <kbd>APL</kbd>+<kbd>r</kbd>.\n",
    "\n",
    "For example,"
   ]
  },
  {
   "cell_type": "code",
   "execution_count": 32,
   "metadata": {},
   "outputs": [
    {
     "data": {
      "text/html": [
       "<span style=\"white-space:pre; font-family: monospace\">5\n",
       "</span>"
      ]
     },
     "execution_count": 32,
     "metadata": {},
     "output_type": "execute_result"
    }
   ],
   "source": [
    "⍴ price"
   ]
  },
  {
   "cell_type": "markdown",
   "metadata": {},
   "source": [
    "`price` has 5 items, and `forecast` has 4 rows and 6 columns:"
   ]
  },
  {
   "cell_type": "code",
   "execution_count": 35,
   "metadata": {},
   "outputs": [
    {
     "data": {
      "text/html": [
       "<span style=\"white-space:pre; font-family: monospace\">4 6\n",
       "</span>"
      ]
     },
     "execution_count": 35,
     "metadata": {},
     "output_type": "execute_result"
    }
   ],
   "source": [
    "⍴ forecast"
   ]
  },
  {
   "cell_type": "markdown",
   "metadata": {},
   "source": [
    "Used dyadically, the same symbol will organize items into a specified shape. For example, suppose that we want to create the matrix below:\n",
    "\n",
    "$$\n",
    "\\begin{bmatrix}\n",
    "25 & 60 \\\\\n",
    "33 & 47 \\\\\n",
    "11 & 44 \\\\\n",
    "53 & 28\n",
    "\\end{bmatrix}\n",
    "$$\n",
    "\n",
    "We must give the computer two pieces of information:\n",
    "\n",
    " - First the *shape* to give to the matrix: `4 2` (4 rows of 2 columns)\n",
    " \n",
    " - Next the *contents* of the matrix: `25 60 33 47 11 44 53 28`\n",
    " \n",
    "It is the symbol `⍴` (Rho) which makes the connection between shape and the contents:"
   ]
  },
  {
   "cell_type": "code",
   "execution_count": 36,
   "metadata": {},
   "outputs": [
    {
     "data": {
      "text/html": [
       "<span style=\"white-space:pre; font-family: monospace\">25 60\n",
       "33 47\n",
       "11 44\n",
       "53 28\n",
       "</span>"
      ]
     },
     "execution_count": 36,
     "metadata": {},
     "output_type": "execute_result"
    }
   ],
   "source": [
    "tab ← 4 2 ⍴ 25 60 33 47 11 44 53 28\n",
    "tab"
   ]
  },
  {
   "cell_type": "markdown",
   "metadata": {},
   "source": [
    "A new variable `tab` is thereby created, and this is also how the variables `forecast` and `actual` above were made.\n",
    "\n",
    "### Conventions\n",
    "\n",
    "In APL, we give special names to certain shapes of data:\n",
    "\n",
    "| Term | Meaning |\n",
    "| :- | :- |\n",
    "| **_Scalar_** | is used for a single value, a number like `456.18` or a single letter like `'Q'`. |\n",
    "| **_Vector_** | is a plain list of values. It may be composed of numbers like `price` and `qty`, or of letters like `'Once upon a time'` within single quotes. |\n",
    "| **_Array_** | is a generic word for any set of values, whatever the number of its dimensions (whatever its shape). |\n",
    "| **_Matrix_** | is an array with 2 dimensions, like `forecast` or `tab`. |\n",
    "| **_Table_** | is another common word used for arrays with 2 dimensions (matrices). |\n",
    "| **_Cube_** | is a common word used for arrays with 3 dimensions. |\n",
    "\n",
    "## Reduction Unifies Traditional Notations\n",
    "\n",
    "Perhaps you remember the variable `costs`:"
   ]
  },
  {
   "cell_type": "code",
   "execution_count": 38,
   "metadata": {},
   "outputs": [
    {
     "data": {
      "text/html": [
       "<span style=\"white-space:pre; font-family: monospace\">10.4 11.5 10.8 24 16.9\n",
       "</span>"
      ]
     },
     "execution_count": 38,
     "metadata": {},
     "output_type": "execute_result"
    }
   ],
   "source": [
    "costs"
   ]
  },
  {
   "cell_type": "markdown",
   "metadata": {},
   "source": [
    "So what must we do to work out the total? Mathematicians are creative people who long ago devised the symbol $\\sum$, always with a pretty collection of indices above and below, which make it complex to understand and to type on a typewriter:\n",
    "\n",
    "$$\n",
    "    \\sum_{i = 1}^5 \\text{costs}_i\n",
    "$$\n",
    "\n",
    "In APL, the operation is written like this:"
   ]
  },
  {
   "cell_type": "code",
   "execution_count": 39,
   "metadata": {},
   "outputs": [
    {
     "data": {
      "text/html": [
       "<span style=\"white-space:pre; font-family: monospace\">73.6\n",
       "</span>"
      ]
     },
     "execution_count": 39,
     "metadata": {},
     "output_type": "execute_result"
    }
   ],
   "source": [
    "+/ costs"
   ]
  },
  {
   "cell_type": "markdown",
   "metadata": {},
   "source": [
    "Simple, isn't it? This gives the total of all the items of the array.\n",
    "\n",
    "You can read this as \"*Plus Reduction*\" of the variable `costs`.\n",
    "\n",
    "To gain a better understanding of the process:\n",
    "\n",
    "When we write an instruction such as"
   ]
  },
  {
   "cell_type": "code",
   "execution_count": 1,
   "metadata": {},
   "outputs": [
    {
     "data": {
      "text/html": [
       "<span style=\"white-space:pre; font-family: monospace\">122\n",
       "</span>"
      ]
     },
     "execution_count": 1,
     "metadata": {},
     "output_type": "execute_result"
    }
   ],
   "source": [
    "+/ 21 45 18 27 11"
   ]
  },
  {
   "cell_type": "markdown",
   "metadata": {},
   "source": [
    "it works as if we had written"
   ]
  },
  {
   "cell_type": "code",
   "execution_count": 2,
   "metadata": {},
   "outputs": [
    {
     "data": {
      "text/html": [
       "<span style=\"white-space:pre; font-family: monospace\">122\n",
       "</span>"
      ]
     },
     "execution_count": 2,
     "metadata": {},
     "output_type": "execute_result"
    }
   ],
   "source": [
    "21 + 45 + 18 + 27 + 11"
   ]
  },
  {
   "cell_type": "markdown",
   "metadata": {},
   "source": [
    "and we obtain the sum `122`.\n",
    "   \n",
    "In fact, it works as if we had \"inserted\" the symbol `+` between the values. But then, if we write"
   ]
  },
  {
   "cell_type": "code",
   "execution_count": 3,
   "metadata": {},
   "outputs": [
    {
     "data": {
      "text/html": [
       "<span style=\"white-space:pre; font-family: monospace\">5051970\n",
       "</span>"
      ]
     },
     "execution_count": 3,
     "metadata": {},
     "output_type": "execute_result"
    }
   ],
   "source": [
    "×/ 21 45 18 27 11"
   ]
  },
  {
   "cell_type": "markdown",
   "metadata": {},
   "source": [
    "it works as if we had written"
   ]
  },
  {
   "cell_type": "code",
   "execution_count": 4,
   "metadata": {},
   "outputs": [
    {
     "data": {
      "text/html": [
       "<span style=\"white-space:pre; font-family: monospace\">5051970\n",
       "</span>"
      ]
     },
     "execution_count": 4,
     "metadata": {},
     "output_type": "execute_result"
    }
   ],
   "source": [
    "21 × 45 × 18 × 27 × 11"
   ]
  },
  {
   "cell_type": "markdown",
   "metadata": {},
   "source": [
    "so, we get the product `5051970`.\n",
    "\n",
    "Similarly, if we write"
   ]
  },
  {
   "cell_type": "code",
   "execution_count": 5,
   "metadata": {},
   "outputs": [
    {
     "data": {
      "text/html": [
       "<span style=\"white-space:pre; font-family: monospace\">45\n",
       "</span>"
      ]
     },
     "execution_count": 5,
     "metadata": {},
     "output_type": "execute_result"
    }
   ],
   "source": [
    "⌈/ 21 45 18 27 11"
   ]
  },
  {
   "cell_type": "markdown",
   "metadata": {},
   "source": [
    "it works as if we had written"
   ]
  },
  {
   "cell_type": "code",
   "execution_count": 6,
   "metadata": {},
   "outputs": [
    {
     "data": {
      "text/html": [
       "<span style=\"white-space:pre; font-family: monospace\">45\n",
       "</span>"
      ]
     },
     "execution_count": 6,
     "metadata": {},
     "output_type": "execute_result"
    }
   ],
   "source": [
    "21 ⌈ 45 ⌈ 18 ⌈ 27 ⌈ 11"
   ]
  },
  {
   "cell_type": "markdown",
   "metadata": {},
   "source": [
    "so, we obtain the largest term `45`\n",
    "   \n",
    "Reduction, represented by the symbol `/`, belongs to a special category of symbols called \"***Operators***\". All the other symbols (`+` `-` `×` `⌈` `⍴` `⍉` ...) are called \"***Functions***\" (addition, subtraction, multiplication, maximum, shape, etc.).\n",
    "\n",
    "The arguments of a function are always data (arrays):"
   ]
  },
  {
   "cell_type": "code",
   "execution_count": 40,
   "metadata": {},
   "outputs": [
    {
     "data": {
      "text/html": [
       "<span style=\"white-space:pre; font-family: monospace\">10.4 11.5 10.8 24 16.9\n",
       "</span>"
      ]
     },
     "execution_count": 40,
     "metadata": {},
     "output_type": "execute_result"
    }
   ],
   "source": [
    "price × qty"
   ]
  },
  {
   "cell_type": "markdown",
   "metadata": {},
   "source": [
    "Whereas the \"arguments\" of an operator (which are called ***operands***) can also be functions:"
   ]
  },
  {
   "cell_type": "code",
   "execution_count": 41,
   "metadata": {},
   "outputs": [
    {
     "data": {
      "text/html": [
       "<span style=\"white-space:pre; font-family: monospace\">14\n",
       "</span>"
      ]
     },
     "execution_count": 41,
     "metadata": {},
     "output_type": "execute_result"
    }
   ],
   "source": [
    "+/ qty"
   ]
  },
  {
   "cell_type": "markdown",
   "metadata": {},
   "source": [
    "The left argument of *Reduction* can be one of many of the APL symbols, and it can also be the name of a user-defined program. This may give you an idea of the generality and power of the concept.\n",
    "\n",
    "Dyalog APL contains around 20 such powerful operators. If that is not enough, you can even write your own operators, just like you can write your own functions!\n",
    "\n",
    "## Let's Write Our First Programs\n",
    "\n",
    "Imagine that we want to calculate the average of the following numbers:"
   ]
  },
  {
   "cell_type": "code",
   "execution_count": 42,
   "metadata": {},
   "outputs": [],
   "source": [
    "val ← 22 37 41 19 54 11 34"
   ]
  },
  {
   "cell_type": "markdown",
   "metadata": {},
   "source": [
    "We must first calculate the sum of the values:"
   ]
  },
  {
   "cell_type": "code",
   "execution_count": 43,
   "metadata": {},
   "outputs": [
    {
     "data": {
      "text/html": [
       "<span style=\"white-space:pre; font-family: monospace\">218\n",
       "</span>"
      ]
     },
     "execution_count": 43,
     "metadata": {},
     "output_type": "execute_result"
    }
   ],
   "source": [
    "+/ val"
   ]
  },
  {
   "cell_type": "markdown",
   "metadata": {},
   "source": [
    "Next calculate the number of values:"
   ]
  },
  {
   "cell_type": "code",
   "execution_count": 44,
   "metadata": {},
   "outputs": [
    {
     "data": {
      "text/html": [
       "<span style=\"white-space:pre; font-family: monospace\">7\n",
       "</span>"
      ]
     },
     "execution_count": 44,
     "metadata": {},
     "output_type": "execute_result"
    }
   ],
   "source": [
    "⍴ val"
   ]
  },
  {
   "cell_type": "markdown",
   "metadata": {},
   "source": [
    "And finally divide one result by the other.\n",
    " \n",
    "The calculation can be written as the single formula:"
   ]
  },
  {
   "cell_type": "code",
   "execution_count": 45,
   "metadata": {},
   "outputs": [
    {
     "data": {
      "text/html": [
       "<span style=\"white-space:pre; font-family: monospace\">31.1429\n",
       "</span>"
      ]
     },
     "execution_count": 45,
     "metadata": {},
     "output_type": "execute_result"
    }
   ],
   "source": [
    "(+/val) ÷ (⍴val)"
   ]
  },
  {
   "cell_type": "markdown",
   "metadata": {},
   "source": [
    "As it is quite likely that we shall often want to make this sort of calculation, it is preferable to store this expression in the form of a program.\n",
    "\n",
    "In APL we prefer the name ***defined function*** to the name \"program\".\n",
    "\n",
    "Defined functions may be used in the same way as the built-in functions represented by special symbols like `+` `-` `×` `÷` `>` `⍴` ..., which are called ***primitive functions***.\n",
    "\n",
    "To define a simple function like this one, here is the easiest way:"
   ]
  },
  {
   "cell_type": "code",
   "execution_count": 47,
   "metadata": {},
   "outputs": [],
   "source": [
    "Average ← {(+/⍵)÷(⍴⍵)}"
   ]
  },
  {
   "cell_type": "markdown",
   "metadata": {},
   "source": [
    " - `Average` is the program name;\n",
    " - `⍵` is a generic symbol which represents the array passed on the right (type it with <kbd>APL</kbd>+<kbd>w</kbd>);\n",
    " - `⍺` would be the generic symbol for the array passed on the left, if any (type it with <kbd>APL</kbd>+<kbd>a</kbd>).\n",
    " \n",
    "The definition of the function is delimited by a set of curly braces `{` and `}`. For more complex functions it is also possible to use a text editor, but this is beyond the scope of this short introduction.\n",
    "\n",
    "Once defined, this function may be invoked in a very simple way:"
   ]
  },
  {
   "cell_type": "code",
   "execution_count": 48,
   "metadata": {},
   "outputs": [
    {
     "data": {
      "text/html": [
       "<span style=\"white-space:pre; font-family: monospace\">31.1429\n",
       "</span>"
      ]
     },
     "execution_count": 48,
     "metadata": {},
     "output_type": "execute_result"
    }
   ],
   "source": [
    "Average val"
   ]
  },
  {
   "cell_type": "markdown",
   "metadata": {},
   "source": [
    "During the execution above, `⍵` gets the values in `val`."
   ]
  },
  {
   "cell_type": "code",
   "execution_count": 49,
   "metadata": {},
   "outputs": [
    {
     "data": {
      "text/html": [
       "<span style=\"white-space:pre; font-family: monospace\">41.25\n",
       "</span>"
      ]
     },
     "execution_count": 49,
     "metadata": {},
     "output_type": "execute_result"
    }
   ],
   "source": [
    "Average 12 74 56 23"
   ]
  },
  {
   "cell_type": "markdown",
   "metadata": {},
   "source": [
    "Let us also write two little dyadic functions, the left argument of which is `⍺`, and the right is `⍵`:"
   ]
  },
  {
   "cell_type": "code",
   "execution_count": 50,
   "metadata": {},
   "outputs": [
    {
     "data": {
      "text/html": [
       "<span style=\"white-space:pre; font-family: monospace\">63\n",
       "</span>"
      ]
     },
     "execution_count": 50,
     "metadata": {},
     "output_type": "execute_result"
    }
   ],
   "source": [
    "Plus ← {⍺+⍵}\n",
    "Times ← {⍺×⍵}\n",
    "(3 Plus 6) Times (5 Plus 2)"
   ]
  },
  {
   "cell_type": "markdown",
   "metadata": {},
   "source": [
    "As you can see, these functions behave exactly as if we had written `(3+6) × (5+2)`.\n",
    "\n",
    "We said in the preceding section that a user-defined program could be used by the *Reduce* operator; let us try:"
   ]
  },
  {
   "cell_type": "code",
   "execution_count": 51,
   "metadata": {},
   "outputs": [
    {
     "data": {
      "text/html": [
       "<span style=\"white-space:pre; font-family: monospace\">218\n",
       "</span>"
      ]
     },
     "execution_count": 51,
     "metadata": {},
     "output_type": "execute_result"
    }
   ],
   "source": [
    "Plus/ val"
   ]
  },
  {
   "cell_type": "markdown",
   "metadata": {},
   "source": [
    "It works!"
   ]
  },
  {
   "cell_type": "markdown",
   "metadata": {},
   "source": [
    "## Indexing\n",
    "\n",
    "Returning to our vector of numbers `val`:"
   ]
  },
  {
   "cell_type": "code",
   "execution_count": 52,
   "metadata": {},
   "outputs": [
    {
     "data": {
      "text/html": [
       "<span style=\"white-space:pre; font-family: monospace\">22 37 41 19 54 11 34\n",
       "</span>"
      ]
     },
     "execution_count": 52,
     "metadata": {},
     "output_type": "execute_result"
    }
   ],
   "source": [
    "val"
   ]
  },
  {
   "cell_type": "markdown",
   "metadata": {},
   "source": [
    "In order to extract the 4th item, we just write:"
   ]
  },
  {
   "cell_type": "code",
   "execution_count": 53,
   "metadata": {},
   "outputs": [
    {
     "data": {
      "text/html": [
       "<span style=\"white-space:pre; font-family: monospace\">19\n",
       "</span>"
      ]
     },
     "execution_count": 53,
     "metadata": {},
     "output_type": "execute_result"
    }
   ],
   "source": [
    "val[4]"
   ]
  },
  {
   "cell_type": "markdown",
   "metadata": {},
   "source": [
    "This is similar to most of the most popular programming languages. What is new is that one can extract several items in one instruction:"
   ]
  },
  {
   "cell_type": "code",
   "execution_count": 54,
   "metadata": {},
   "outputs": [
    {
     "data": {
      "text/html": [
       "<span style=\"white-space:pre; font-family: monospace\">22 37 41 19 54 11 34\n",
       "</span>"
      ]
     },
     "execution_count": 54,
     "metadata": {},
     "output_type": "execute_result"
    }
   ],
   "source": [
    "val"
   ]
  },
  {
   "cell_type": "markdown",
   "metadata": {},
   "source": [
    "What might be new to you is that you can have repeated indices to extract the same item twice or more:"
   ]
  },
  {
   "cell_type": "code",
   "execution_count": 56,
   "metadata": {},
   "outputs": [
    {
     "data": {
      "text/html": [
       "<span style=\"white-space:pre; font-family: monospace\">37 19 34 22 19\n",
       "</span>"
      ]
     },
     "execution_count": 56,
     "metadata": {},
     "output_type": "execute_result"
    }
   ],
   "source": [
    "val[2 4 7 1 4]"
   ]
  },
  {
   "cell_type": "markdown",
   "metadata": {},
   "source": [
    "And of course, in the same way, one may modify one or more items of `val` using their indices. Naturally, one must provide as many values as there are items to modify, or a single value for all:"
   ]
  },
  {
   "cell_type": "code",
   "execution_count": 43,
   "metadata": {},
   "outputs": [
    {
     "data": {
      "text/html": [
       "<span style=\"white-space:pre; font-family: monospace\">0 37 0 19 0 11 34\n",
       "</span>"
      ]
     },
     "execution_count": 43,
     "metadata": {},
     "output_type": "execute_result"
    }
   ],
   "source": [
    "val[3 5 1] ← 0\n",
    "val"
   ]
  },
  {
   "cell_type": "code",
   "execution_count": 57,
   "metadata": {},
   "outputs": [
    {
     "data": {
      "text/html": [
       "<span style=\"white-space:pre; font-family: monospace\">111 37 300 19 77 11 34\n",
       "</span>"
      ]
     },
     "execution_count": 57,
     "metadata": {},
     "output_type": "execute_result"
    }
   ],
   "source": [
    "val[3 5 1] ← 300 77 111\n",
    "val"
   ]
  },
  {
   "cell_type": "markdown",
   "metadata": {},
   "source": [
    "You can see that the third item is now 300, the fifth item is now 77 and the first one is 111.\n",
    "\n",
    "It is often necessary to extract the first few items from a list of values, for example the first 5. Nothing could be easier:"
   ]
  },
  {
   "cell_type": "code",
   "execution_count": 45,
   "metadata": {},
   "outputs": [
    {
     "data": {
      "text/html": [
       "<span style=\"white-space:pre; font-family: monospace\">111 37 300 19 77\n",
       "</span>"
      ]
     },
     "execution_count": 45,
     "metadata": {},
     "output_type": "execute_result"
    }
   ],
   "source": [
    "val[1 2 3 4 5]"
   ]
  },
  {
   "cell_type": "markdown",
   "metadata": {},
   "source": [
    "But if one needs to extract the first 500 items from a long list, typing the integers from 1 to 500 would of course be very inconvenient.\n",
    "\n",
    "This is why APL has been given the symbol `⍳` (***Iota***), which produces the set of the first $n$ integers (`⍳` can be obtained using <kbd>APL</kbd>+<kbd>i</kbd>).\n",
    "\n",
    "Thus, instead of writing `1 2 3 4 5 6 7 8`, it is sufficient to write `⍳8`.\n",
    "\n",
    "And to extract the first 500 terms of a large vector, one may write: `big[⍳500]`.\n",
    "\n",
    "We shall discover later an even simpler method.\n",
    "\n",
    "## Calculating Without Writing Programs\n",
    "\n",
    "The employees of a company are divided into three hierarchical categories, denoted simply 1, 2, and 3. One assigns to two variables the salaries and the categories of these employees, as shown here:"
   ]
  },
  {
   "cell_type": "code",
   "execution_count": 70,
   "metadata": {},
   "outputs": [
    {
     "data": {
      "text/html": [
       "<span style=\"white-space:pre; font-family: monospace\">2121 4778 4914 3139 4561 221 1252 1530 4475 332 3507 1829 1710 4964 3849 669 3653 3415 3867 151\n",
       "</span>"
      ]
     },
     "execution_count": 70,
     "metadata": {},
     "output_type": "execute_result"
    }
   ],
   "source": [
    "⎕RL ← 73\n",
    "salaries ← ?20⍴5000\n",
    "salaries"
   ]
  },
  {
   "cell_type": "code",
   "execution_count": 71,
   "metadata": {},
   "outputs": [
    {
     "data": {
      "text/html": [
       "<span style=\"white-space:pre; font-family: monospace\">1 2 2 2 3 3 1 1 1 1 2 3 2 3 3 1 3 2 1 1\n",
       "</span>"
      ]
     },
     "execution_count": 71,
     "metadata": {},
     "output_type": "execute_result"
    }
   ],
   "source": [
    "⎕RL ← 73\n",
    "categories ← ?20⍴3\n",
    "categories"
   ]
  },
  {
   "cell_type": "markdown",
   "metadata": {},
   "source": [
    "Do they never want to increase these salaries? (What has our poor world come to!)\n",
    "\n",
    "A rumour reaches us about their plans: they want a different percentage increase for each category, according to the following scale:\n",
    "\n",
    "| Category | Suggested increase |\n",
    "| --- | --- |\n",
    "| 1 | 8% |\n",
    "| 2 | 5% |\n",
    "| 3 | 2% |\n",
    "\n",
    "How much is this going to cost the company?\n",
    "\n",
    "We create a variable containing the above three rates. Notice how APL allows us to divide three numbers by a single one:"
   ]
  },
  {
   "cell_type": "code",
   "execution_count": 72,
   "metadata": {},
   "outputs": [
    {
     "data": {
      "text/html": [
       "<span style=\"white-space:pre; font-family: monospace\">0.08 0.05 0.02\n",
       "</span>"
      ]
     },
     "execution_count": 72,
     "metadata": {},
     "output_type": "execute_result"
    }
   ],
   "source": [
    "rates ← 8 5 2 ÷ 100\n",
    "rates"
   ]
  },
  {
   "cell_type": "markdown",
   "metadata": {},
   "source": [
    "The first employee is in category 1, so the rate that applies to him is:"
   ]
  },
  {
   "cell_type": "code",
   "execution_count": 73,
   "metadata": {},
   "outputs": [
    {
     "data": {
      "text/html": [
       "<span style=\"white-space:pre; font-family: monospace\">0.08\n",
       "</span>"
      ]
     },
     "execution_count": 73,
     "metadata": {},
     "output_type": "execute_result"
    }
   ],
   "source": [
    "rates[1]"
   ]
  },
  {
   "cell_type": "markdown",
   "metadata": {},
   "source": [
    "It follows that the first 5 employees, being in categories `1 2 2 2 3` respectively, are entitled to the following increases:"
   ]
  },
  {
   "cell_type": "code",
   "execution_count": 74,
   "metadata": {},
   "outputs": [
    {
     "data": {
      "text/html": [
       "<span style=\"white-space:pre; font-family: monospace\">0.08 0.05 0.05 0.05 0.02\n",
       "</span>"
      ]
     },
     "execution_count": 74,
     "metadata": {},
     "output_type": "execute_result"
    }
   ],
   "source": [
    "rates[1 2 2 2 3]"
   ]
  },
  {
   "cell_type": "markdown",
   "metadata": {},
   "source": [
    "More generally, the rates applied to all of our employees could be obtained like this:"
   ]
  },
  {
   "cell_type": "code",
   "execution_count": 75,
   "metadata": {},
   "outputs": [
    {
     "data": {
      "text/html": [
       "<span style=\"white-space:pre; font-family: monospace\">0.08 0.05 0.05 0.05 0.02 0.02 0.08 0.08 0.08 0.08 0.05 0.02 0.05 0.02 0.02 0.08 0.02 0.05 0.08 0.08\n",
       "</span>"
      ]
     },
     "execution_count": 75,
     "metadata": {},
     "output_type": "execute_result"
    }
   ],
   "source": [
    "rates[categories]"
   ]
  },
  {
   "cell_type": "markdown",
   "metadata": {},
   "source": [
    "Having the rates, one just has to multiply by the salaries to obtain the individual increases:"
   ]
  },
  {
   "cell_type": "code",
   "execution_count": 76,
   "metadata": {},
   "outputs": [
    {
     "data": {
      "text/html": [
       "<span style=\"white-space:pre; font-family: monospace\">169.68 238.9 245.7 156.95 91.22 4.42 100.16 122.4 358 26.56 175.35 36.58 85.5 99.28 76.98 53.52 73.06 170.75 309.36 12.08\n",
       "</span>"
      ]
     },
     "execution_count": 76,
     "metadata": {},
     "output_type": "execute_result"
    }
   ],
   "source": [
    "salaries × rates[categories]"
   ]
  },
  {
   "cell_type": "markdown",
   "metadata": {},
   "source": [
    "Finally, by adding them all, one will know how much it will cost the company:"
   ]
  },
  {
   "cell_type": "code",
   "execution_count": 77,
   "metadata": {},
   "outputs": [
    {
     "data": {
      "text/html": [
       "<span style=\"white-space:pre; font-family: monospace\">2606.45\n",
       "</span>"
      ]
     },
     "execution_count": 77,
     "metadata": {},
     "output_type": "execute_result"
    }
   ],
   "source": [
    "+/ salaries × rates[categories]"
   ]
  },
  {
   "cell_type": "markdown",
   "metadata": {},
   "source": [
    "You may note that:\n",
    "\n",
    " - the expression remains valid whatever the number of employees or categories;\n",
    " - the result has been obtained without writing any program;\n",
    " - and this expression can be read as the simplest possible English, like this:\n",
    " \n",
    "> sum the `salaries` multiplied by `rates` according to `categories`.\n",
    "\n",
    "Clever, no?\n",
    "\n",
    "This illustrates how the expression of a solution in APL can be very close to the way that the solution could be phrased in everyday language. This also shows clearly that the ways of reasoning induced by traditional programming languages are not the only possible ones. This difference and originality, introduced by APL, are among the major features of the language.\n",
    "\n",
    "## Friendly Binary Data\n",
    "\n",
    "APL makes much use of binary data. It is most often created by means of relational functions like `=` or `>`, which give the answer `1` or `0`, depending on whether the relation is true or not:"
   ]
  },
  {
   "cell_type": "code",
   "execution_count": 78,
   "metadata": {},
   "outputs": [
    {
     "data": {
      "text/html": [
       "<span style=\"white-space:pre; font-family: monospace\">0 1 1 1 1 0 0 0 1 0 1 0 0 1 1 0 1 1 1 0\n",
       "</span>"
      ]
     },
     "execution_count": 78,
     "metadata": {},
     "output_type": "execute_result"
    }
   ],
   "source": [
    "salaries > 3000"
   ]
  },
  {
   "cell_type": "markdown",
   "metadata": {},
   "source": [
    "By the use of the correct relational function, one can immediately compare the `actual` results with the `forecast` and find the favourable results:"
   ]
  },
  {
   "cell_type": "code",
   "execution_count": 80,
   "metadata": {},
   "outputs": [
    {
     "data": {
      "text/html": [
       "<span style=\"white-space:pre; font-family: monospace\">0 1 0 1 0 0\n",
       "1 1 1 0 0 0\n",
       "1 1 1 0 1 1\n",
       "1 1 0 0 0 1\n",
       "</span>"
      ]
     },
     "execution_count": 80,
     "metadata": {},
     "output_type": "execute_result"
    }
   ],
   "source": [
    "actual > forecast"
   ]
  },
  {
   "cell_type": "markdown",
   "metadata": {},
   "source": [
    "APL offers the conventional mathematical form of the 6 relational functions:\n",
    "\n",
    "<center><code>&lt; ≤ = ≥ &gt; ≠</code></center>\n",
    "    \n",
    "Naturally one can operate on this binary data using all the functions of Boolean algebra, and moreover, the symbols used are those familiar to mathematicians of all nationalities around the world:\n",
    "    \n",
    " - Function ***AND*** is represented by the symbol `∧` (represented by the word AND or the symbol `&&` in many programming languages);\n",
    " - Function ***OR*** is represented by the symbol `∨` (represented by the word OR or the symbol `||` in the same languages).\n",
    " \n",
    "Thus, if I am looking for people in category 3 whose salary is less than 4000 euros, I can write:"
   ]
  },
  {
   "cell_type": "code",
   "execution_count": 81,
   "metadata": {},
   "outputs": [
    {
     "data": {
      "text/html": [
       "<span style=\"white-space:pre; font-family: monospace\">0 0 0 0 0 1 0 0 0 0 0 1 0 0 1 0 1 0 0 0\n",
       "</span>"
      ]
     },
     "execution_count": 81,
     "metadata": {},
     "output_type": "execute_result"
    }
   ],
   "source": [
    "(categories = 3) ∧ (salaries < 4000)"
   ]
  },
  {
   "cell_type": "markdown",
   "metadata": {},
   "source": [
    "In fact, APL offers all the functions of Boolean algebra, including some perhaps less familiar functions like ***NOR*** and ***NAND*** (Not-OR and Not-AND), but they are very useful in finance and electronic automation.\n",
    "\n",
    "There is, however, no special symbol for the function ***Exclusive OR*** (often called ***XOR***). This is because it is not needed: the function ***Not Equal*** `≠` gives the same result as *Exclusive OR* when it is used with Boolean values, as you can see below:"
   ]
  },
  {
   "cell_type": "code",
   "execution_count": 57,
   "metadata": {},
   "outputs": [
    {
     "data": {
      "text/html": [
       "<span style=\"white-space:pre; font-family: monospace\">0 1 1 0\n",
       "</span>"
      ]
     },
     "execution_count": 57,
     "metadata": {},
     "output_type": "execute_result"
    }
   ],
   "source": [
    "0 0 1 1 ≠ 0 1 0 1"
   ]
  },
  {
   "cell_type": "markdown",
   "metadata": {},
   "source": [
    "Finally, not only can these binary vectors be used as we have described but also for novel purposes, such as counting and selecting.\n",
    "\n",
    "### Counting\n",
    "\n",
    "Having found which salaries are less than 2500 euros by means of the following expression:"
   ]
  },
  {
   "cell_type": "code",
   "execution_count": 82,
   "metadata": {},
   "outputs": [
    {
     "data": {
      "text/html": [
       "<span style=\"white-space:pre; font-family: monospace\">1 0 0 0 0 1 1 1 0 1 0 1 1 0 0 1 0 0 0 1\n",
       "</span>"
      ]
     },
     "execution_count": 82,
     "metadata": {},
     "output_type": "execute_result"
    }
   ],
   "source": [
    "salaries < 2500"
   ]
  },
  {
   "cell_type": "markdown",
   "metadata": {},
   "source": [
    "It is easy to add all the 1's and 0's to calculate how many people earn less than 2500 euros:"
   ]
  },
  {
   "cell_type": "code",
   "execution_count": 83,
   "metadata": {},
   "outputs": [
    {
     "data": {
      "text/html": [
       "<span style=\"white-space:pre; font-family: monospace\">9\n",
       "</span>"
      ]
     },
     "execution_count": 83,
     "metadata": {},
     "output_type": "execute_result"
    }
   ],
   "source": [
    "+/ salaries < 2500"
   ]
  },
  {
   "cell_type": "markdown",
   "metadata": {},
   "source": [
    "### Selection\n",
    "\n",
    "One can also use the binary vector as a \"mask\" to select the items corresponding to the binary 1's from another array:"
   ]
  },
  {
   "cell_type": "code",
   "execution_count": 84,
   "metadata": {},
   "outputs": [
    {
     "data": {
      "text/html": [
       "<span style=\"white-space:pre; font-family: monospace\">23 55 46 83\n",
       "</span>"
      ]
     },
     "execution_count": 84,
     "metadata": {},
     "output_type": "execute_result"
    }
   ],
   "source": [
    "1 1 0 1 0 0 1 / 23 55 17 46 81 82 83"
   ]
  },
  {
   "cell_type": "markdown",
   "metadata": {},
   "source": [
    "The procedure is identical for character data:"
   ]
  },
  {
   "cell_type": "code",
   "execution_count": 85,
   "metadata": {},
   "outputs": [
    {
     "data": {
      "text/html": [
       "<span style=\"white-space:pre; font-family: monospace\">Duck\n",
       "</span>"
      ]
     },
     "execution_count": 85,
     "metadata": {},
     "output_type": "execute_result"
    }
   ],
   "source": [
    "1 0 1 0 0 0 0 1 1 / 'Drumstick'"
   ]
  },
  {
   "cell_type": "markdown",
   "metadata": {},
   "source": [
    "This function, called ***Compress***, is particularly useful for extracting items conforming to a given criterion from a variable. For example, to display the salaries of people in category 2, one writes:"
   ]
  },
  {
   "cell_type": "code",
   "execution_count": 86,
   "metadata": {},
   "outputs": [
    {
     "data": {
      "text/html": [
       "<span style=\"white-space:pre; font-family: monospace\">4778 4914 3139 3507 1710 3415\n",
       "</span>"
      ]
     },
     "execution_count": 86,
     "metadata": {},
     "output_type": "execute_result"
    }
   ],
   "source": [
    "(categories = 2) / salaries"
   ]
  },
  {
   "cell_type": "markdown",
   "metadata": {},
   "source": [
    "Looks like a powerful primitive function, doesn't it?"
   ]
  },
  {
   "cell_type": "markdown",
   "metadata": {},
   "source": [
    "### Discovery\n",
    "\n",
    "To practice our skills some more, let us find in our variable `val` the positions of numbers greater than 35. Here are the necessary steps:"
   ]
  },
  {
   "cell_type": "code",
   "execution_count": 92,
   "metadata": {},
   "outputs": [
    {
     "data": {
      "text/html": [
       "<span style=\"white-space:pre; font-family: monospace\">22 37 41 19 54 11 34\n",
       "</span>"
      ]
     },
     "execution_count": 92,
     "metadata": {},
     "output_type": "execute_result"
    }
   ],
   "source": [
    "val ← 22 37 41 19 54 11 34\n",
    "val"
   ]
  },
  {
   "cell_type": "code",
   "execution_count": 93,
   "metadata": {},
   "outputs": [
    {
     "data": {
      "text/html": [
       "<span style=\"white-space:pre; font-family: monospace\">0 1 1 0 1 0 0\n",
       "</span>"
      ]
     },
     "execution_count": 93,
     "metadata": {},
     "output_type": "execute_result"
    }
   ],
   "source": [
    "val>35"
   ]
  },
  {
   "cell_type": "code",
   "execution_count": 94,
   "metadata": {},
   "outputs": [
    {
     "data": {
      "text/html": [
       "<span style=\"white-space:pre; font-family: monospace\">7\n",
       "</span>"
      ]
     },
     "execution_count": 94,
     "metadata": {},
     "output_type": "execute_result"
    }
   ],
   "source": [
    "⍴val"
   ]
  },
  {
   "cell_type": "markdown",
   "metadata": {},
   "source": [
    "With this we can generate all possible positions of items in `val`:"
   ]
  },
  {
   "cell_type": "code",
   "execution_count": 95,
   "metadata": {},
   "outputs": [
    {
     "data": {
      "text/html": [
       "<span style=\"white-space:pre; font-family: monospace\">1 2 3 4 5 6 7\n",
       "</span>"
      ]
     },
     "execution_count": 95,
     "metadata": {},
     "output_type": "execute_result"
    }
   ],
   "source": [
    "⍳⍴val"
   ]
  },
  {
   "cell_type": "markdown",
   "metadata": {},
   "source": [
    "Let us compare two of these results:"
   ]
  },
  {
   "cell_type": "code",
   "execution_count": 96,
   "metadata": {},
   "outputs": [
    {
     "data": {
      "text/html": [
       "<span style=\"white-space:pre; font-family: monospace\">0 1 1 0 1 0 0\n",
       "</span>"
      ]
     },
     "execution_count": 96,
     "metadata": {},
     "output_type": "execute_result"
    }
   ],
   "source": [
    "val>35"
   ]
  },
  {
   "cell_type": "code",
   "execution_count": 97,
   "metadata": {},
   "outputs": [
    {
     "data": {
      "text/html": [
       "<span style=\"white-space:pre; font-family: monospace\">1 2 3 4 5 6 7\n",
       "</span>"
      ]
     },
     "execution_count": 97,
     "metadata": {},
     "output_type": "execute_result"
    }
   ],
   "source": [
    "⍳⍴val"
   ]
  },
  {
   "cell_type": "markdown",
   "metadata": {},
   "source": [
    "You can see that if you eliminate (using *Compress*) the items which correspond to zeros in order to retain only those corresponding to 1, you easily get the positions required: `2 3 5`.\n",
    "\n",
    "Thus the job may be done as follows:"
   ]
  },
  {
   "cell_type": "code",
   "execution_count": 98,
   "metadata": {},
   "outputs": [
    {
     "data": {
      "text/html": [
       "<span style=\"white-space:pre; font-family: monospace\">2 3 5\n",
       "</span>"
      ]
     },
     "execution_count": 98,
     "metadata": {},
     "output_type": "execute_result"
    }
   ],
   "source": [
    "(val>35) / ⍳⍴val"
   ]
  },
  {
   "cell_type": "markdown",
   "metadata": {},
   "source": [
    "This expression is applicable in many different situations.\n",
    "\n",
    "Here is a similar use, but applied to character data: to find the positions of \"a\" within a phrase; the method is the same."
   ]
  },
  {
   "cell_type": "code",
   "execution_count": 99,
   "metadata": {},
   "outputs": [
    {
     "data": {
      "text/html": [
       "<span style=\"white-space:pre; font-family: monospace\">2 4 6 11 14 16 30 36 41\n",
       "</span>"
      ]
     },
     "execution_count": 99,
     "metadata": {},
     "output_type": "execute_result"
    }
   ],
   "source": [
    "phrase ← 'Panama is a canal between Atlantic and Pacific'\n",
    "(phrase = 'a') / ⍳⍴phrase"
   ]
  },
  {
   "cell_type": "markdown",
   "metadata": {},
   "source": [
    "If you want, you can check the result by hand... but I wouldn't bother!"
   ]
  },
  {
   "cell_type": "markdown",
   "metadata": {},
   "source": [
    "## A Touch of Modern Math\n",
    "\n",
    "Proudly having found all the \"a\"s, we may wish to find all the vowels.\n",
    "\n",
    "Alas, although we can write `phrase = 'a'`, because a vector can be compared with a single value, one cannot write `phrase = 'aeiouy'`⁽¹⁾, because that would require the item by item comparison of a phrase of 46 letters and \"aeiouy\" which has only 6.\n",
    "\n",
    "In other words: You may compare 46 letters with 46 other letters, or compare them with one letter, but not with 6.\n",
    "\n",
    "So we shall use a new function: ***Membership*** which is represented by the symbol `∊`, also used in mathematics (`∊` can be obtained by pressing <kbd>APL</kbd>+<kbd>e</kbd>).\n",
    "\n",
    "The expression `X ∊ Y` returns a Boolean result which indicates which items of the variable `X` appear in the variable `Y`, wherever they may be. And it works no matter what are the shapes, the dimensions or the type (numeric or character) of `X` and `Y`, a pure marvel!\n",
    "\n",
    "⁽¹⁾ \"Y\" is considered to be a vowel in many European languages.\n",
    "\n",
    "For example:"
   ]
  },
  {
   "cell_type": "code",
   "execution_count": 100,
   "metadata": {},
   "outputs": [
    {
     "data": {
      "text/html": [
       "<span style=\"white-space:pre; font-family: monospace\">1 0 0 0 1 0\n",
       "</span>"
      ]
     },
     "execution_count": 100,
     "metadata": {},
     "output_type": "execute_result"
    }
   ],
   "source": [
    "5 7 2 8 4 9 ∊ 3 4 5 6"
   ]
  },
  {
   "cell_type": "markdown",
   "metadata": {},
   "source": [
    "Only the 5 and the 4 were found in `3 4 5 6`."
   ]
  },
  {
   "cell_type": "code",
   "execution_count": 101,
   "metadata": {},
   "outputs": [
    {
     "data": {
      "text/html": [
       "<span style=\"white-space:pre; font-family: monospace\">1 1 1 1 1 0 0 0 1\n",
       "</span>"
      ]
     },
     "execution_count": 101,
     "metadata": {},
     "output_type": "execute_result"
    }
   ],
   "source": [
    "'dandelion' ∊ 'garden'"
   ]
  },
  {
   "cell_type": "markdown",
   "metadata": {},
   "source": [
    "The letters \"lio\" are not in the word \"garden\".\n",
    "\n",
    "So in pursuit of our inquiry we shall write:"
   ]
  },
  {
   "cell_type": "code",
   "execution_count": 102,
   "metadata": {},
   "outputs": [
    {
     "data": {
      "text/html": [
       "<span style=\"white-space:pre; font-family: monospace\">2 4 6 8 11 14 16 20 23 24 30 33 36 41 43 45\n",
       "</span>"
      ]
     },
     "execution_count": 102,
     "metadata": {},
     "output_type": "execute_result"
    }
   ],
   "source": [
    "(phrase ∊ 'aeiouy') / ⍳⍴phrase"
   ]
  },
  {
   "cell_type": "markdown",
   "metadata": {},
   "source": [
    "One can also use membership between a vector and a matrix, as shown below. We have represented side by side the variable itself and the result of using *Membership*:"
   ]
  },
  {
   "cell_type": "code",
   "execution_count": 104,
   "metadata": {},
   "outputs": [
    {
     "data": {
      "text/html": [
       "<span style=\"white-space:pre; font-family: monospace\">Canberra   0 1 0 0 1 0 0 1 0 0\n",
       "Paris      0 1 0 1 0 0 0 0 0 0\n",
       "Washington 0 1 0 0 1 0 0 0 1 0\n",
       "Moscow     0 1 0 0 1 0 0 0 0 0\n",
       "Martigues  0 1 0 0 1 0 1 1 0 0\n",
       "Mexico     0 1 0 1 0 1 0 0 0 0\n",
       "</span>"
      ]
     },
     "execution_count": 104,
     "metadata": {},
     "output_type": "execute_result"
    }
   ],
   "source": [
    "towns ← 6 10⍴'Canberra  Paris     WashingtonMoscow    Martigues Mexico    '\n",
    "towns, towns ∊ 'aeiouy'"
   ]
  },
  {
   "cell_type": "markdown",
   "metadata": {},
   "source": [
    "We can reverse the expression, but the result has always the same shape as the left argument:"
   ]
  },
  {
   "cell_type": "code",
   "execution_count": 105,
   "metadata": {},
   "outputs": [
    {
     "data": {
      "text/html": [
       "<span style=\"white-space:pre; font-family: monospace\">1 1 1 1 1 0\n",
       "</span>"
      ]
     },
     "execution_count": 105,
     "metadata": {},
     "output_type": "execute_result"
    }
   ],
   "source": [
    "'aeiouy' ∊ towns"
   ]
  },
  {
   "cell_type": "markdown",
   "metadata": {},
   "source": [
    "The trailing 0 is because none of the towns has a \"y\" in it."
   ]
  },
  {
   "cell_type": "markdown",
   "metadata": {},
   "source": [
    "## A Powerful Search Function\n",
    "\n",
    "We have harnessed a very useful method to look for the positions of letters or numbers in a vector, but the answer obtained does not provide a one to one correspondence between the search values and the resultant positions.\n",
    "\n",
    "Here's a vector of values:"
   ]
  },
  {
   "cell_type": "code",
   "execution_count": 110,
   "metadata": {},
   "outputs": [],
   "source": [
    "list ← 15 40 63 18 27 40 33 29 40 88"
   ]
  },
  {
   "cell_type": "markdown",
   "metadata": {},
   "source": [
    "And these are the numbers we want to find:"
   ]
  },
  {
   "cell_type": "code",
   "execution_count": 111,
   "metadata": {},
   "outputs": [],
   "source": [
    "where ← 29 63 40 33 50"
   ]
  },
  {
   "cell_type": "markdown",
   "metadata": {},
   "source": [
    "Now we apply our method and these are the positions found:"
   ]
  },
  {
   "cell_type": "code",
   "execution_count": 112,
   "metadata": {},
   "outputs": [
    {
     "data": {
      "text/html": [
       "<span style=\"white-space:pre; font-family: monospace\">2 3 6 7 8 9\n",
       "</span>"
      ]
     },
     "execution_count": 112,
     "metadata": {},
     "output_type": "execute_result"
    }
   ],
   "source": [
    "(list ∊ where) / ⍳⍴list"
   ]
  },
  {
   "cell_type": "markdown",
   "metadata": {},
   "source": [
    "The positions are correct, but 29 is not in position 2, and 40 is not in position 6.\n",
    "\n",
    "The question we have answered using the expression above is: \"In which positions in `list` do we find a number that also appears somewhere in `where`?\"\n",
    "\n",
    "If we want to answer the slightly different question: \"Where in `list` do we find each number in `where`?\" we need to use a different method.\n",
    "\n",
    "This new method uses the dyadic form of the symbol `⍳` (*Iota*):"
   ]
  },
  {
   "cell_type": "code",
   "execution_count": 113,
   "metadata": {},
   "outputs": [
    {
     "data": {
      "text/html": [
       "<span style=\"white-space:pre; font-family: monospace\">8 3 2 7 11\n",
       "</span>"
      ]
     },
     "execution_count": 113,
     "metadata": {},
     "output_type": "execute_result"
    }
   ],
   "source": [
    "list ⍳ where"
   ]
  },
  {
   "cell_type": "markdown",
   "metadata": {},
   "source": [
    "It is true that 29, 63, 40 and 33 occur respectively in positions 8, 3, 2 and 7. It's much better!\n",
    "\n",
    "But, first surprise: The value 40 occurs 3 times in `list`, but only the first one is reported in the result. This is because, by definition, dyadic *Iota* returns only the first occurrence of a given item. If the response for each value sought has to match a position; how may one, looking for 5 numbers, obtain 7 results?\n",
    "\n",
    "Second surprise: the value 50 is reported as being found in position 11 in a vector comprising only 10 items! This is how the function ***IndexOf*** (dyadic `⍳`) reports that a value is absent.\n",
    "\n",
    "At first sight this seems a bit surprising, but in fact it is a property which makes this function so generally powerful, as we shall soon see.\n",
    "\n",
    "### An Example\n",
    "\n",
    "A car manufacturer decides that he will offer his customers a discount on the catalogue price (you can see how this example is imaginary!).\n",
    "\n",
    "The country has been divided into 100 areas, and the discount rate will depend on the area according to the following table:\n",
    "\n",
    "| Area | Discount |\n",
    "| :-: | :-: |\n",
    "| 17 | 9% |\n",
    "| 50 | 8% |\n",
    "| 59 | 6% |\n",
    "| 84 | 5% |\n",
    "| 89 | 4% |\n",
    "| Others | 2% |\n",
    "\n",
    "The problem is to calculate the discount rate that may be claimed for a potential customer who lives in a given area `d`; for example"
   ]
  },
  {
   "cell_type": "code",
   "execution_count": 114,
   "metadata": {},
   "outputs": [],
   "source": [
    "d ← 84"
   ]
  },
  {
   "cell_type": "markdown",
   "metadata": {},
   "source": [
    "Let us begin by creating two variables:"
   ]
  },
  {
   "cell_type": "code",
   "execution_count": 115,
   "metadata": {},
   "outputs": [],
   "source": [
    "area ← 17 50 59 84 89\n",
    "discount ← 9 8 6 5 4 2"
   ]
  },
  {
   "cell_type": "markdown",
   "metadata": {},
   "source": [
    "Let us see if `d` is in the list of favoured areas:"
   ]
  },
  {
   "cell_type": "code",
   "execution_count": 116,
   "metadata": {},
   "outputs": [
    {
     "data": {
      "text/html": [
       "<span style=\"white-space:pre; font-family: monospace\">1\n",
       "</span>"
      ]
     },
     "execution_count": 116,
     "metadata": {},
     "output_type": "execute_result"
    }
   ],
   "source": [
    "d ∊ area"
   ]
  },
  {
   "cell_type": "markdown",
   "metadata": {},
   "source": [
    "We can see `d` is a favoured area, and we can even see its position in the list of favoured areas:"
   ]
  },
  {
   "cell_type": "code",
   "execution_count": 117,
   "metadata": {},
   "outputs": [
    {
     "data": {
      "text/html": [
       "<span style=\"white-space:pre; font-family: monospace\">4\n",
       "</span>"
      ]
     },
     "execution_count": 117,
     "metadata": {},
     "output_type": "execute_result"
    }
   ],
   "source": [
    "area ⍳ d"
   ]
  },
  {
   "cell_type": "markdown",
   "metadata": {},
   "source": [
    "Let us find the current rate of discount for this index position:"
   ]
  },
  {
   "cell_type": "code",
   "execution_count": 118,
   "metadata": {},
   "outputs": [
    {
     "data": {
      "text/html": [
       "<span style=\"white-space:pre; font-family: monospace\">5\n",
       "</span>"
      ]
     },
     "execution_count": 118,
     "metadata": {},
     "output_type": "execute_result"
    }
   ],
   "source": [
    "discount[4]"
   ]
  },
  {
   "cell_type": "markdown",
   "metadata": {},
   "source": [
    "So this customer can get 5% discount.\n",
    "\n",
    "One may simply write"
   ]
  },
  {
   "cell_type": "code",
   "execution_count": 119,
   "metadata": {},
   "outputs": [
    {
     "data": {
      "text/html": [
       "<span style=\"white-space:pre; font-family: monospace\">5\n",
       "</span>"
      ]
     },
     "execution_count": 119,
     "metadata": {},
     "output_type": "execute_result"
    }
   ],
   "source": [
    "discount[area⍳d]"
   ]
  },
  {
   "cell_type": "markdown",
   "metadata": {},
   "source": [
    "If a customer lives in any area such as 75, 45, or 93, the expression `area⍳d` will in all cases give the result 6, because those values are absent in `area`. Then `discount[6]` will always find the rate 2%, as expected.\n",
    "\n",
    "The importance of this approach is that it is vector-based. Suppose that publicity attracts crowds and that therefore `d` is no longer a single value but a vector, the solution is still valid:"
   ]
  },
  {
   "cell_type": "code",
   "execution_count": 120,
   "metadata": {},
   "outputs": [
    {
     "data": {
      "text/html": [
       "<span style=\"white-space:pre; font-family: monospace\">2 2 4 2 2 8 2 8 5 2 9 4\n",
       "</span>"
      ]
     },
     "execution_count": 120,
     "metadata": {},
     "output_type": "execute_result"
    }
   ],
   "source": [
    "d ← 24 75 89 60 92 50 51 50 84 66 17 89\n",
    "discount[area⍳d]"
   ]
  },
  {
   "cell_type": "markdown",
   "metadata": {},
   "source": [
    "All that without a program, neither \"loop\" nor \"test\", and whatever the number of areas. Readers who know other programming languages will have no difficulty in making the comparison.\n",
    "\n",
    "### Generalisation\n",
    "\n",
    "In truth, the expression we just wrote is an example of an algorithm for \"changing the frame of reference\". Don't panic, the name may seem esoteric, but the concept is simple. A list of area numbers (the initial set) is translated into a list of discount rates (the final set).\n",
    "\n",
    "Let us now imagine the initial set to be an alphabet composed of lower case and upper case letters, and the final set to be composed of only upper case letters (with a blank space in the middle):"
   ]
  },
  {
   "cell_type": "code",
   "execution_count": 123,
   "metadata": {},
   "outputs": [],
   "source": [
    "alphLower ← 'abcdefghijklmnopqrstuvwxyz ABCDEFGHIJKLMNOPQRSTUVWXYZ'\n",
    "alphUpper ← 'ABCDEFGHIJKLMNOPQRSTUVWXYZ ABCDEFGHIJKLMNOPQRSTUVWXYZ*'"
   ]
  },
  {
   "cell_type": "markdown",
   "metadata": {},
   "source": [
    "Notice that `alphUpper` is one character longer than `alphLower`. We have added an asterisk at the end, and you will see why we did so:\n",
    "\n",
    "Here is a little French sentence, with one accented letter."
   ]
  },
  {
   "cell_type": "code",
   "execution_count": 124,
   "metadata": {},
   "outputs": [],
   "source": [
    "tale ← 'Le Petit Chaperon-Rouge a bouffé le Loup'"
   ]
  },
  {
   "cell_type": "markdown",
   "metadata": {},
   "source": [
    "The expression below converts from lower to upper case."
   ]
  },
  {
   "cell_type": "code",
   "execution_count": 125,
   "metadata": {},
   "outputs": [
    {
     "data": {
      "text/html": [
       "<span style=\"white-space:pre; font-family: monospace\">LE PETIT CHAPERON*ROUGE A BOUFF* LE LOUP\n",
       "</span>"
      ]
     },
     "execution_count": 125,
     "metadata": {},
     "output_type": "execute_result"
    }
   ],
   "source": [
    "alphUpper[alphLower⍳tale]"
   ]
  },
  {
   "cell_type": "markdown",
   "metadata": {},
   "source": [
    "As one might expect, the characters `-` and `é`, which are absent from the initial alphabetic set have been replaced by the `*` of the final set, but the conversion is acceptable. This solution can easily be improved.\n",
    "\n",
    "Once more, the rational steps to be taken to create a solution are easily translated into a programming algorithm, and the programmer can thereby get a much more extensive insight into the problem itself.\n",
    "\n",
    "## After Values, Let Us Process Shapes\n",
    "\n",
    "Many traditional programming languages do not really handle arrays of numbers or characters. They hold them in memory, but when the arrays are required for processing they can only be handled one item at a time. It is not surprising in these circumstances, that these languages have only limited means of controlling the shape of the data.\n",
    "\n",
    "It is quite the opposite in APL, which offers many tools for working with the shape of the data. We shall only look at a few of them here.\n",
    "\n",
    "### Take and Drop\n",
    "\n",
    "The functions ***Take*** (`↑`, typed with <kbd>APL</kbd>+<kbd>y</kbd>) and ***Drop*** (`↓`, typed with <kbd>APL</kbd>+<kbd>u</kbd>) serve, as their names suggest, to extract part of a set of values. Here we shall show only examples based on vectors, but all the other shapes of data can be treated in a similar way.\n",
    "\n",
    "Recalling that"
   ]
  },
  {
   "cell_type": "code",
   "execution_count": 127,
   "metadata": {},
   "outputs": [
    {
     "data": {
      "text/html": [
       "<span style=\"white-space:pre; font-family: monospace\">15 40 63 18 27 40 33 29 40 88\n",
       "</span>"
      ]
     },
     "execution_count": 127,
     "metadata": {},
     "output_type": "execute_result"
    }
   ],
   "source": [
    "list"
   ]
  },
  {
   "cell_type": "markdown",
   "metadata": {},
   "source": [
    "We can take its first 4 elements:"
   ]
  },
  {
   "cell_type": "code",
   "execution_count": 128,
   "metadata": {},
   "outputs": [
    {
     "data": {
      "text/html": [
       "<span style=\"white-space:pre; font-family: monospace\">15 40 63 18\n",
       "</span>"
      ]
     },
     "execution_count": 128,
     "metadata": {},
     "output_type": "execute_result"
    }
   ],
   "source": [
    "4 ↑ list"
   ]
  },
  {
   "cell_type": "markdown",
   "metadata": {},
   "source": [
    "Or we may drop the first 5 elements:"
   ]
  },
  {
   "cell_type": "code",
   "execution_count": 129,
   "metadata": {},
   "outputs": [
    {
     "data": {
      "text/html": [
       "<span style=\"white-space:pre; font-family: monospace\">40 33 29 40 88\n",
       "</span>"
      ]
     },
     "execution_count": 129,
     "metadata": {},
     "output_type": "execute_result"
    }
   ],
   "source": [
    "5 ↓ list"
   ]
  },
  {
   "cell_type": "markdown",
   "metadata": {},
   "source": [
    "If the left argument is negative, these same functions count from the end of the vector.\n",
    "\n",
    "For example, we may take the last 3 items of the vector:"
   ]
  },
  {
   "cell_type": "code",
   "execution_count": 131,
   "metadata": {},
   "outputs": [
    {
     "data": {
      "text/html": [
       "<span style=\"white-space:pre; font-family: monospace\">29 40 88\n",
       "</span>"
      ]
     },
     "execution_count": 131,
     "metadata": {},
     "output_type": "execute_result"
    }
   ],
   "source": [
    "¯3 ↑ list"
   ]
  },
  {
   "cell_type": "markdown",
   "metadata": {},
   "source": [
    "Or we may drop the last 7 items, leaving the first 3 ones:"
   ]
  },
  {
   "cell_type": "code",
   "execution_count": 132,
   "metadata": {},
   "outputs": [
    {
     "data": {
      "text/html": [
       "<span style=\"white-space:pre; font-family: monospace\">15 40 63\n",
       "</span>"
      ]
     },
     "execution_count": 132,
     "metadata": {},
     "output_type": "execute_result"
    }
   ],
   "source": [
    "¯7 ↓ list"
   ]
  },
  {
   "cell_type": "markdown",
   "metadata": {},
   "source": [
    "The last result is the same as obtained by"
   ]
  },
  {
   "cell_type": "code",
   "execution_count": 133,
   "metadata": {},
   "outputs": [
    {
     "data": {
      "text/html": [
       "<span style=\"white-space:pre; font-family: monospace\">15 40 63\n",
       "</span>"
      ]
     },
     "execution_count": 133,
     "metadata": {},
     "output_type": "execute_result"
    }
   ],
   "source": [
    "3 ↑ list"
   ]
  },
  {
   "cell_type": "markdown",
   "metadata": {},
   "source": [
    "Some pages ago, we used `big[⍳500]` to extract the first 500 items of `big`. We can now see that we also could have used `500↑big`.\n",
    "\n",
    "Here again, using these new symbols, it is possible to create innovative solutions to classical problems.\n",
    "\n",
    "Let us imagine a business with a turnover which has grown over 12 years.\n",
    "\n",
    "The variable `tome` is Turnover in millions of euros."
   ]
  },
  {
   "cell_type": "code",
   "execution_count": 135,
   "metadata": {},
   "outputs": [
    {
     "data": {
      "text/html": [
       "<span style=\"white-space:pre; font-family: monospace\">56 59 67 64 60 61 68 73 78 75 81 84\n",
       "</span>"
      ]
     },
     "execution_count": 135,
     "metadata": {},
     "output_type": "execute_result"
    }
   ],
   "source": [
    "tome ← 56 59 67 64 60 61 68 73 78 75 81 84\n",
    "tome"
   ]
  },
  {
   "cell_type": "markdown",
   "metadata": {},
   "source": [
    "We want to calculate the different between each year and the year before; how can we do it?\n",
    "\n",
    "If we drop the first value, we get"
   ]
  },
  {
   "cell_type": "code",
   "execution_count": 136,
   "metadata": {},
   "outputs": [
    {
     "data": {
      "text/html": [
       "<span style=\"white-space:pre; font-family: monospace\">59 67 64 60 61 68 73 78 75 81 84\n",
       "</span>"
      ]
     },
     "execution_count": 136,
     "metadata": {},
     "output_type": "execute_result"
    }
   ],
   "source": [
    " 1 ↓ tome"
   ]
  },
  {
   "cell_type": "markdown",
   "metadata": {},
   "source": [
    "and if we drop the last value, we get"
   ]
  },
  {
   "cell_type": "code",
   "execution_count": 137,
   "metadata": {},
   "outputs": [
    {
     "data": {
      "text/html": [
       "<span style=\"white-space:pre; font-family: monospace\">56 59 67 64 60 61 68 73 78 75 81\n",
       "</span>"
      ]
     },
     "execution_count": 137,
     "metadata": {},
     "output_type": "execute_result"
    }
   ],
   "source": [
    "¯1 ↓ tome"
   ]
  },
  {
   "cell_type": "markdown",
   "metadata": {},
   "source": [
    "In each position of the first result we have \"this year's turnover\" and in the same position in the second result we have \"the previous year's turnover\".\n",
    "\n",
    "We see that all that remains is to subtract these results item by item. We do this without a program or loops; all very simple!"
   ]
  },
  {
   "cell_type": "code",
   "execution_count": 138,
   "metadata": {},
   "outputs": [
    {
     "data": {
      "text/html": [
       "<span style=\"white-space:pre; font-family: monospace\">3 8 ¯3 ¯4 1 7 5 5 ¯3 6 3\n",
       "</span>"
      ]
     },
     "execution_count": 138,
     "metadata": {},
     "output_type": "execute_result"
    }
   ],
   "source": [
    "(1↓tome) - (¯1↓tome)"
   ]
  },
  {
   "cell_type": "markdown",
   "metadata": {},
   "source": [
    "In place of a subtraction, a division would calculate (with some obvious adjustments) the rates of growth instead of the differences:"
   ]
  },
  {
   "cell_type": "code",
   "execution_count": 139,
   "metadata": {},
   "outputs": [
    {
     "data": {
      "text/html": [
       "<span style=\"white-space:pre; font-family: monospace\">5.35714 13.5593 ¯4.47761 ¯6.25 1.66667 11.4754 7.35294 6.84932 ¯3.84615 8 3.7037\n",
       "</span>"
      ]
     },
     "execution_count": 139,
     "metadata": {},
     "output_type": "execute_result"
    }
   ],
   "source": [
    "100 × ( (1↓tome) ÷ (¯1↓tome) )-1"
   ]
  },
  {
   "cell_type": "markdown",
   "metadata": {},
   "source": [
    "Let us put that in a small defined function, and apply it:"
   ]
  },
  {
   "cell_type": "code",
   "execution_count": 140,
   "metadata": {},
   "outputs": [
    {
     "data": {
      "text/html": [
       "<span style=\"white-space:pre; font-family: monospace\">5.35714 13.5593 ¯4.47761 ¯6.25 1.66667 11.4754 7.35294 6.84932 ¯3.84615 8 3.7037\n",
       "</span>"
      ]
     },
     "execution_count": 140,
     "metadata": {},
     "output_type": "execute_result"
    }
   ],
   "source": [
    "Growth ← {100×((1↓⍵)÷(¯1↓⍵))-1}\n",
    "Growth tome"
   ]
  },
  {
   "cell_type": "markdown",
   "metadata": {},
   "source": [
    "### Mirrors and Transposition\n",
    "\n",
    "APL is also well equipped with functions to pivot data about any axis, as suggested by the appearances of the symbols used. They apply to both numeric and character data; as we are going to show by applying these functions to the variable `towns` that we used earlier.\n",
    "\n",
    "The symbols used hereafter are obtained like this:\n",
    "\n",
    " - `⌽` with <kbd>APL</kbd>+<kbd>Shift</kbd>+<kbd>5</kbd>;\n",
    " - `⍉` with <kbd>APL</kbd>+<kbd>Shift</kbd>+<kbd>6</kbd>;\n",
    " - `⊖` with <kbd>APL</kbd>+<kbd>Shift</kbd>+<kbd>7</kbd>.\n",
    " \n",
    "Recall the value of the initial variable:"
   ]
  },
  {
   "cell_type": "code",
   "execution_count": 141,
   "metadata": {},
   "outputs": [
    {
     "data": {
      "text/html": [
       "<span style=\"white-space:pre; font-family: monospace\">Canberra  \n",
       "Paris     \n",
       "Washington\n",
       "Moscow    \n",
       "Martigues \n",
       "Mexico    \n",
       "</span>"
      ]
     },
     "execution_count": 141,
     "metadata": {},
     "output_type": "execute_result"
    }
   ],
   "source": [
    "towns"
   ]
  },
  {
   "cell_type": "markdown",
   "metadata": {},
   "source": [
    "Left-right reversed (Mirror) with `⌽`:"
   ]
  },
  {
   "cell_type": "code",
   "execution_count": 142,
   "metadata": {},
   "outputs": [
    {
     "data": {
      "text/html": [
       "<span style=\"white-space:pre; font-family: monospace\">  arrebnaC\n",
       "     siraP\n",
       "notgnihsaW\n",
       "    wocsoM\n",
       " seugitraM\n",
       "    ocixeM\n",
       "</span>"
      ]
     },
     "execution_count": 142,
     "metadata": {},
     "output_type": "execute_result"
    }
   ],
   "source": [
    "⌽towns"
   ]
  },
  {
   "cell_type": "markdown",
   "metadata": {},
   "source": [
    "Top-bottom reversed (Mirror) with `⊖`:"
   ]
  },
  {
   "cell_type": "code",
   "execution_count": 143,
   "metadata": {},
   "outputs": [
    {
     "data": {
      "text/html": [
       "<span style=\"white-space:pre; font-family: monospace\">Mexico    \n",
       "Martigues \n",
       "Moscow    \n",
       "Washington\n",
       "Paris     \n",
       "Canberra  \n",
       "</span>"
      ]
     },
     "execution_count": 143,
     "metadata": {},
     "output_type": "execute_result"
    }
   ],
   "source": [
    "⊖towns"
   ]
  },
  {
   "cell_type": "markdown",
   "metadata": {},
   "source": [
    "and rows & columns swapped (Transpose) with `⍉`:"
   ]
  },
  {
   "cell_type": "code",
   "execution_count": 144,
   "metadata": {},
   "outputs": [
    {
     "data": {
      "text/html": [
       "<span style=\"white-space:pre; font-family: monospace\">CPWMMM\n",
       "aaaoae\n",
       "nrssrx\n",
       "bihcti\n",
       "esioic\n",
       "r nwgo\n",
       "r g u \n",
       "a t e \n",
       "  o s \n",
       "  n   \n",
       "</span>"
      ]
     },
     "execution_count": 144,
     "metadata": {},
     "output_type": "execute_result"
    }
   ],
   "source": [
    "⍉towns"
   ]
  },
  {
   "cell_type": "markdown",
   "metadata": {},
   "source": [
    "And all four of them side by side for comparison:"
   ]
  },
  {
   "cell_type": "code",
   "execution_count": 145,
   "metadata": {},
   "outputs": [
    {
     "data": {
      "text/html": [
       "<span style=\"white-space:pre; font-family: monospace\">┌──────────┬──────────┬──────────┬──────┐\n",
       "│Canberra  │  arrebnaC│Mexico    │CPWMMM│\n",
       "│Paris     │     siraP│Martigues │aaaoae│\n",
       "│Washington│notgnihsaW│Moscow    │nrssrx│\n",
       "│Moscow    │    wocsoM│Washington│bihcti│\n",
       "│Martigues │ seugitraM│Paris     │esioic│\n",
       "│Mexico    │    ocixeM│Canberra  │r nwgo│\n",
       "│          │          │          │r g u │\n",
       "│          │          │          │a t e │\n",
       "│          │          │          │  o s │\n",
       "│          │          │          │  n   │\n",
       "└──────────┴──────────┴──────────┴──────┘\n",
       "</span>"
      ]
     },
     "execution_count": 145,
     "metadata": {},
     "output_type": "execute_result"
    }
   ],
   "source": [
    "(towns) (⌽towns) (⊖towns) (⍉towns)"
   ]
  },
  {
   "cell_type": "markdown",
   "metadata": {},
   "source": [
    "The symbols used (`⌽` `⊖` `⍉`) are self-explanatory, no effort is required to remember any of them. They also have dyadic uses, but we shall not demonstrate them here.\n",
    "\n",
    "## Back to Primary School\n",
    "\n",
    "Remember when we learned our multiplication tables? In that practically Paleolithic era, to make sure we knew all our tables, my teacher made us calculate the multiplication table for the integers 1 to 9:\n",
    "\n",
    "$$\\begin{array}{|c|rrrrrrrrr|}\n",
    "\\hline\n",
    "\\color{red}\\times & 1 & 2 & 3 & 4 & 5 & 6 & \\color{red} 7 & 8 & 9 \\\\\n",
    "\\hline\n",
    "1 & 1 & 2 & 3 & 4 & 5 & 6 & 7 & 8 & 9 \\\\\n",
    "2 & 2 & 4 & 6 & 8 & 10 & 12 & 14 & 16 & 18 \\\\\n",
    "\\color{red} 3 & 3 & 6 & 9 & 12 & 15 & 18 & \\color{red} {21} & 24 & 27 \\\\\n",
    "4 & 4 & 8 & 12 & 16 & 20 & 24 & 28 & 32 & 36 \\\\\n",
    "\\text{etc.} & \\text{etc.} & & & & & & & & & & \\\\\n",
    "\\hline\n",
    "\\end{array}$$\n",
    "\n",
    "You see, I haven't forgotten!\n",
    "\n",
    "Probably you have done all this just like me. And then we quickly forgot that very powerful tool, one which APL provides under the name ***Outer Product***.\n",
    "\n",
    "The task consists of taking all possible pairs of items of two vectors, (the column and row headings) and making them the left and right arguments of the function at the top left. For example, 3 times 7 gives 21 (in red here above).\n",
    "\n",
    "Next we shall go on to see what we get if we change the values a little:\n",
    "\n",
    "$$\\begin{array}{|c|rrrrrr|}\n",
    "\\hline\n",
    "\\color{red}\\times & 8 & 5 & 15 & \\color{red}9 & 11 & 40 \\\\\n",
    "\\hline\n",
    "5 & 40 & 25 & 75 & 45 & 55 & 200 \\\\\n",
    "\\color{red} 4 & 32 & 20 & 60 & \\color{red}{36} & 44 & 160 \\\\\n",
    "10 & 80 & 50 & 150 & 90 & 110 & 400 \\\\\n",
    "3 & 24 & 15 & 45 & 27 & 33 & 120 \\\\\n",
    "\\hline\n",
    "\\end{array}$$\n",
    "\n",
    "This operation is written as follows in APL:"
   ]
  },
  {
   "cell_type": "code",
   "execution_count": 146,
   "metadata": {},
   "outputs": [
    {
     "data": {
      "text/html": [
       "<span style=\"white-space:pre; font-family: monospace\">40 25  75 45  55 200\n",
       "32 20  60 36  44 160\n",
       "80 50 150 90 110 400\n",
       "24 15  45 27  33 120\n",
       "</span>"
      ]
     },
     "execution_count": 146,
     "metadata": {},
     "output_type": "execute_result"
    }
   ],
   "source": [
    "5 4 10 3 ∘.× 8 5 15 9 11 40"
   ]
  },
  {
   "cell_type": "markdown",
   "metadata": {},
   "source": [
    "The *Outer Product* symbol is made of a small circle (<kbd>APL</kbd>+<kbd>j</kbd>), a dot, and the function to be applied. It is an *operator*, as it takes a function (`×` in this case) as an *operand*.\n",
    "\n",
    "Despite of its name \"*Outer Product*\" this operator by no means is restricted to working with multiplication. We can replace the symbol for *Multiplication* by any other dyadic function (like `=` `<` `≥` or `⌈`), or even functions which you have defined yourself (like `Plus`), and you will understand, as for *Reduce* which we saw earlier, that *Outer Product* is an operator of amazing power.\n",
    "\n",
    "Let's have some fun with it:"
   ]
  },
  {
   "cell_type": "code",
   "execution_count": 147,
   "metadata": {},
   "outputs": [
    {
     "data": {
      "text/html": [
       "<span style=\"white-space:pre; font-family: monospace\">┌─────────┬─────────┬─────────┬─────────┬──────────┐\n",
       "│1 0 0 0 0│0 1 1 1 1│1 0 0 0 0│1 2 3 4 5│2 3 4 5  6│\n",
       "│0 1 0 0 0│0 0 1 1 1│1 1 0 0 0│2 2 3 4 5│3 4 5 6  7│\n",
       "│0 0 1 0 0│0 0 0 1 1│1 1 1 0 0│3 3 3 4 5│4 5 6 7  8│\n",
       "│0 0 0 1 0│0 0 0 0 1│1 1 1 1 0│4 4 4 4 5│5 6 7 8  9│\n",
       "│0 0 0 0 1│0 0 0 0 0│1 1 1 1 1│5 5 5 5 5│6 7 8 9 10│\n",
       "└─────────┴─────────┴─────────┴─────────┴──────────┘\n",
       "</span>"
      ]
     },
     "execution_count": 147,
     "metadata": {},
     "output_type": "execute_result"
    }
   ],
   "source": [
    "((⍳5)∘.=(⍳5)) ((⍳5)∘.<(⍳5)) ((⍳5)∘.≥(⍳5)) ((⍳5)∘.⌈(⍳5)) ((⍳5)∘.Plus(⍳5))"
   ]
  },
  {
   "cell_type": "markdown",
   "metadata": {},
   "source": [
    "### A Useful Application\n",
    "\n",
    "Suppose the vector `ages` contains the ages of 400 respondents to an opinion poll. We want to establish how many people there are in each of the following categories:\n",
    "\n",
    "0 - 25 - 30 - 35 - 45 - 50 - 55 - 65 or above.\n",
    "\n",
    "Here is the data:"
   ]
  },
  {
   "cell_type": "code",
   "execution_count": 148,
   "metadata": {},
   "outputs": [
    {
     "data": {
      "text/html": [
       "<span style=\"white-space:pre; font-family: monospace\">73 16 42 50 2 67 11 81 37 93 100 98 83 32 76 51 37 15 46 88 49 28 100 9 29 69 87 27 54 68 23 80 39 22 86 2 58 84 17 18 89 13 38 38 28 19 69 10 53 94 49 16 51 52 18 47 59 67 39 23 41 84 70 40 85 86 20 1 77 100 12 76 79 53 88 20 85 12 19 89 72 48 86 97 54 1 39 62 94 51 50 50 8 99 31 24 87 71 84 98 56 35 6 83 27 65 78 50 59 17 70 51 35 12 48 30 93 43 20 5 79 1 88 25 46 72 81 29 27 84 97 27 94 90 62 28 61 97 78 22 66 89 37 37 26 98 27 19 99 51 36 99 61 1 49 45 79 63 78 8 23 48 29 7 93 3 15 54 14 15 48 39 96 65 27 79 35 16 29 7 43 16 26 48 51 40 82 49 14 3 48 8 25 41 62 73 45 83 80 7 51 9 83 53 18 27 81 20 16 45 7 82 56 18 41 32 3 91 92 24 6 99 6 100 42 88 97 75 77 76 98 32 43 3 28 29 62 9 6 53 34 96 32 49 57 34 78 10 45 76 88 96 48 36 2 53 18 49 18 20 38 47 69 75 60 89 82 16 48 83 13 35 55 40 17 43 73 89 30 49 1 17 53 76 99 44 88 52 78 21 45 58 50 85 55 68 100 73 95 84 52 90 80 35 28 11 77 45 54 77 100 20 52 13 29 58 2 69 41 98 97 51 96 17 10 66 80 16 59 32 94 93 73 30 7 6 55 73 54 55 69 14 99 5 37 91 2 99 47 6 29 84 6 100 52 72 77 68 91 40 4 56 24 40 52 15 2 23 33 99 46 98 63 60 17 51 29 67 67 96 75 61 3 53 5 12 35 97 86 97 92 82 66 85 70 35 3 3 78 26\n",
       "</span>"
      ]
     },
     "execution_count": 148,
     "metadata": {},
     "output_type": "execute_result"
    }
   ],
   "source": [
    "⎕RL ← 73\n",
    "ages ← ?400⍴100\n",
    "ages"
   ]
  },
  {
   "cell_type": "code",
   "execution_count": 149,
   "metadata": {},
   "outputs": [],
   "source": [
    "category ← 0 25 30 35 45 50 55 65"
   ]
  },
  {
   "cell_type": "markdown",
   "metadata": {},
   "source": [
    "We are going to use the *Outer Product* `category ∘.< ages`, and here are the first items of the result:\n",
    "\n",
    "$$\\begin{array}{|l|rrrrrrrr|}\n",
    "\\hline\n",
    "\\color{red}< & 73 & 16 & 42 & 50 & 2 & 67 & 11 & \\text{... etc} \\\\\n",
    "\\hline\n",
    "0 & 1 & 1 & 1 & 1 & 1 & 1 & 1 &   \\\\\n",
    "25 & 1 & 0 & 1 & 1 & 0 & 1 & 0 &  \\\\\n",
    "30 & 1 & 0 & 1 & 1 & 0 & 1 & 0 &  \\\\\n",
    "35 & 1 & 0 & 1 & 1 & 0 & 1 & 0 &  \\\\\n",
    "45 & 1 & 0 & 0 & 1 & 0 & 1 & 0 &  \\\\\n",
    "50 & 1 & 0 & 0 & 0 & 0 & 1 & 0 &  \\text{... etc} \\\\\n",
    "\\text{etc.} &&&&&&&& \\\\\n",
    "\\hline\n",
    "\\end{array}$$\n",
    "\n",
    "If one adds up this Boolean matrix, one obtains for each row the number of people who are older than 0 years, older than 25 years, older than 30 years, etc. This is the expression:"
   ]
  },
  {
   "cell_type": "code",
   "execution_count": 150,
   "metadata": {},
   "outputs": [
    {
     "data": {
      "text/html": [
       "<span style=\"white-space:pre; font-family: monospace\">400 301 275 259 223 197 166 143\n",
       "</span>"
      ]
     },
     "execution_count": 150,
     "metadata": {},
     "output_type": "execute_result"
    }
   ],
   "source": [
    "cum ← +/ (category ∘.< ages)\n",
    "cum"
   ]
  },
  {
   "cell_type": "markdown",
   "metadata": {},
   "source": [
    "With the cut-down extract shown above, the value of `cum` would be `7 4 4 4 3 2`.\n",
    "\n",
    "In other words, there are 7 people older than 0 (all of them). Among them, 4 are older than 25. In order to know how many people are between 0 and 25, it is necessary to calculate `7 - 4` to obtain `3`.\n",
    "\n",
    "If one wants to reproduce this calculation for all categories, it is necessary to perform a series of subtractions as here:\n",
    "\n",
    "$$\\begin{array}{lrrrrrr}\n",
    "  & 7 & 4 & 4 & 4 & 3 & 2 \\\\\n",
    "- & 4 & 4 & 4 & 3 & 2 & 0 \\\\\n",
    "\\hline\n",
    "  &  3 &  0 &  0 & 1 & 1 & 2\n",
    "\\end{array}$$\n",
    "\n",
    "where the first line is `cum`, the second line is `cum` without its first item and followed by zero and the last line is the result as obtained by the expression `cum-(1↓cum,0)`.\n",
    "\n",
    "To append a zero to the right, we used a comma, which joins variables together. This is a function called ***Catenate***.\n",
    "\n",
    "If one no longer works with a small extract of data, but with the full list of 400 people, this is what one gets:"
   ]
  },
  {
   "cell_type": "code",
   "execution_count": 151,
   "metadata": {},
   "outputs": [
    {
     "data": {
      "text/html": [
       "<span style=\"white-space:pre; font-family: monospace\">99 26 16 36 26 31 23 143\n",
       "</span>"
      ]
     },
     "execution_count": 151,
     "metadata": {},
     "output_type": "execute_result"
    }
   ],
   "source": [
    "cum ← +/ (category ∘.< ages)\n",
    "cum - (1↓cum,0)"
   ]
  },
  {
   "cell_type": "markdown",
   "metadata": {},
   "source": [
    "All that with little programming, and it works whatever the number of people or categories. What a luck!\n",
    "\n",
    "Once again, APL allowed us to find straightforward and original solutions to traditional problems.\n",
    "\n",
    "## There Is a Lot to Discover Yet\n",
    "\n",
    "In the course of these pages we have flown over APL country and glimpsed certain bold ideas which explain the attraction of the language. A thousand other things remain to be seen! If you are convinced that Dyalog APL is worth the effort, you can start studying APL in much more detail in the rest of this book.\n",
    "\n",
    "Let us just discover some additional attractive features of APL.\n",
    "\n",
    "### Attractively Simple Syntax Rules\n",
    "\n",
    "Most other programming languages contain rather complex rules to determine how an expression is evaluated; a concept called *operator precedence*. Very often it says that for example multiplication and division have higher precedence than addition and subtraction, meaning that an expression like $5 \\times 3 + 2$ gives $17$, because the multiplication is done first, and then the addition.\n",
    "\n",
    "This sounds simple and familiar, but it quickly gets very complex and difficult to remember, especially in a language containing many functions, like APL. For example, which precedence should we give to `⍳` or `↓` or `⌈`, for which we do not have an established tradition? And what about the functions we write ourselves?\n",
    "\n",
    "The democratic solution adopted in APL is \"*We hold these truths to be self-evident that all functions are created equal!*\". The only and very simple rule is that any function works on the result of the entire expression to its right, and, if it is a dyadic function, the value immediately to the left of it. As usual, parentheses can be used to group parts of an expression.\n",
    "\n",
    "So, let us see how this applies to the expression above:"
   ]
  },
  {
   "cell_type": "code",
   "execution_count": 111,
   "metadata": {},
   "outputs": [
    {
     "data": {
      "text/html": [
       "<span style=\"white-space:pre; font-family: monospace\">25\n",
       "</span>"
      ]
     },
     "execution_count": 111,
     "metadata": {},
     "output_type": "execute_result"
    }
   ],
   "source": [
    "5 × 3 + 2"
   ]
  },
  {
   "cell_type": "markdown",
   "metadata": {},
   "source": [
    "`×` works on `5` (the value immediately to the left of it) and the result of `3 + 2`, the entire expression to the right of it. Even though it is not strictly correct, many people say that APL evaluates from right to left. In any case, the result of the expression is `25` in APL!\n",
    "\n",
    "Had we written `(5 × 3) + 2` instead the result would of course have been `17`.\n",
    "\n",
    "It may take a little while to get used to this slightly unfamiliar rule, but once it has been learned it is really a great advantage because you can direct your energy towards solving your problem and not have to remember complex rules just to satisfy the computer's need for guidance.\n",
    "\n",
    "### Use Many Other Calculating Tools\n",
    "\n",
    "We have discovered some original functions, which are completely absent from most other programming languages, like `⍴`, `↑`, `⍉`, `∊` and *Outer Product*. Those features lead to new methods and new algorithms to process data; this is one of the main advantages of APL.\n",
    "\n",
    "Not only do you have a lot more functions: *Inner Product* (generalized matrix product), many built-in mathematical tools (trigonometry, matrix inverse, conversions to and from any numerical base, etc.), but you can also handle generalized (nested) arrays; arrays which contain arrays, which themselves contain arrays, and so on.\n",
    "\n",
    "The scope of the possible solutions to a single problem is often so wide that is is probably the reason why people never get tired of using APL: They always have something new to discover and to invent.\n",
    "\n",
    "### Create User-friendly Applications with the GUI\n",
    "\n",
    "Like all modern programming languages, Dyalog APL has a Graphic User Interface (GUI) under Microsoft Windows and Win32 emulators under Unix. It allows you to design pleasant user interfaces with all the items and features you are familiar with. Even a beginner can quickly create an interface and process the data with all the power of the language, whereas in traditional languages, the same operation would need days or weeks of programming. The Microsoft.NET interface supports the use of WinForms and Windows Presentation Foundation GUI elements as well.\n",
    "\n",
    "### Access Your Data\n",
    "\n",
    "Of course, Dyalog APL has built-in instructions to access data files, and SQL databases like Oracle, SQL Server, or other popular databases. These interfaces allow you to visualise and process part or all of a data base as if it were an array, to which you can apply all the array processing functions available in APL. That saves you a lot of heavy programming tasks.\n",
    "\n",
    "Dyalog APL has also its own powerful file system. These files are collections of arrays of any shapes or sizes, which can be processed with the full power of the language. Databases built with this special feature are extremely compact (2 to 3 times smaller than an equivalent relational database). They can be shared, and they offer much greater flexibility and superior performance compared to traditional database management systems.\n",
    "\n",
    "### Build an Efficient Partnership With Microsoft Excel\n",
    "\n",
    "Microsoft Excel, probably the most popular spreadsheet manager, is used all over the world by millions of people. It appears that Excel is an easy way to enter data into a computer in a tabular form, and it is also an excellent product to produce everyday business reports and graphs.\n",
    "\n",
    "While Excel is convenient for small business applications, it is too limited to process complex calculations, or when some operations involve data located in many workbooks.\n",
    "\n",
    "Excel and APL can easily be combined in an efficient partnership. Excel is used to input data in a very flexible way into spreadsheets, which most users are familiar with. APL can then read dozens (and sometimes hundreds) of sheets, aggregate the data, and perform very complex calculations, which may be controlled and parameterized through the GUI interface. Of course, the results can be printed, but they can also be output to the users in the for of specially prepared Excel worksheets. In these worksheets, the users can proceed to additional operations for their particular needs, or produce graphs of their own.\n",
    "\n",
    "### And Also...\n",
    "\n",
    "You can interface APL with the Internet, write your own web server, use multithreading to process simultaneous tasks, use all the advantages of true *Object Oriented Programming*, and use many attractive features, which are beyond the scope of this quick survey.\n",
    "\n",
    "## FAQ\n",
    "\n",
    "Perhaps you have found this language rather engaging, but before you decide to invest time and energy in developing APL applications, you would like to be sure of your choice. Let's give you some answers.\n",
    "\n",
    "### Is Dyalog APL A Professional Tool?\n",
    "\n",
    "Among many others, here are some significant examples of important applications:\n",
    "\n",
    " - Long term Board level financial planning for one of the world's five biggest petroleum companies, used over 12 years.\n",
    " - The management of supplies required from 'today + 2 days' to 'today + 3 months', by the assembly lines of the 6 principal factories of a major international car manufacturer.\n",
    " - Risk Management for an important insurance group.\n",
    " \n",
    "These three examples have common characteristics, positioning them as major industrial applications:\n",
    "\n",
    " - They are particularly crucial because considerable finances are at stake.\n",
    " - They must be absolutely reliable. A major car manufacturer works must not be brought to a stop by a programming bug.\n",
    " - The first two applications operate in a highly volatile business environment. As their requirements are always changing, the programs undergo constant mutation. These evolutions must be made with very short development cycles.\n",
    " \n",
    "So we can answer: Yes, for a reasonable cost in labour, APL makes it possible to create, maintain, support and further develop large, sensitive applications of the highest level of quality, reliability, and flexibility.\n",
    "\n",
    "### Can Dyalog APL Fit a Professional Developer's Needs?\n",
    "\n",
    "The characteristics of APL make it easy to use, lead to quick development, and help to produce light and flexible code. Programs developed in APL can evolve quickly, to fit changing user requirements at will.\n",
    "\n",
    " - Because APL uses symbols rather than words to represent operations, a programmer can use any word for his own data and programs names; they will never be in conflict with the language structure and contents.\n",
    " \n",
    " - Due to its array-processing capability, APL dramatically reduces the needs for programming loops. Because all such intricacies are removed, the code is much lighter, and the programmer can concentrate all his attention and skill on the true core of computing requirements.\n",
    " \n",
    " - In many programming languages, a programmer would have to declare that each variable will be an array of such and such dimensions, containing values with a specific data type. There is nothing similar in APL. The size and the data type of a variable arise from the way in which the variable has been produced. If one extracts two rows and five columns from a matrix, the result will of course be a 2 by 5 matrix. And if we divide 486 into 7, the result will of course be a fractional value; there is no need to specify it in advance.\n",
    " \n",
    " - The extensive set of direct operations on data offered by APL leads to new approaches. For traditional problems, which have been solved in the same way in most programming languages for years, APL suddenly offers new solutions, which appear to be light, straightforward, very general, and easy to maintain because they are easy to read.\n",
    " \n",
    " - The readability of APL often surprises people who practise other programming languages; they probably forget that the languages they use are totally obscure for most non specialists. APL is learned and used efficiently by people who are not data processing professionals, but are instead specialists in their professional fields, such as accountancy, chemistry, insurance, logistics, finance and biology. They have less difficulty with APL than with the problems they have to solve, and most often, they solve them with APL. They could not achieve this alone with any other programming languages, but would require the help of programming specialists... who of course know nothing of the problem domain in question.\n",
    " \n",
    "### Where is APL Typically Used?\n",
    "\n",
    "APL is typically used in situations where there is a lot to be gained if people who understand a problem can be closely involved in developing solutions. Sometimes application code is written in the afternoon by the same people who read the latest research reports or legislation in the morning - or by members of a very small team who have overlapping skills.\n",
    "\n",
    "In a more traditional approach, in which the specialist teams would need the help of professional programmers, such teams may find that valuable information was lost in the \"process\", so that several iterations would be required in order to reach a satisfactory solution. Especially when a problem has a mathematical or technical foundation, APL can turbo-charge the development cycle.\n",
    "\n",
    "Even if there is no immediate urgency, APL allows the path between \"users and coders\" to be much shorter than is the case when \"traditional\" technologies, in which *requirement gathering*, *specification*, *architecture* and *coding* are often handled by separate teams. If you have a novel idea that you would like to investigate (or \"get to market\") quickly, you may reach your goal very much more easily by learning APL or employing a small team of APL developers (who will be able to \"speak your language\"), rather than becoming or using \"programmers\" to develop solutions for you.\n",
    "\n",
    "APL is most widely used in the financial industry, which has a mathematical foundation, and rapidly changing requirements: In this environment, the use of APL can provide a significant competitive advantage.\n",
    "\n",
    "Unfortunately some problems cannot wait!\n",
    "\n",
    "Great flexibility and speed is the true commercial foundation for APL. With APL one can develop in direct contact with the users and involve them from the outset in the continual modification of the object of the development. Afterwards, as an application continues to evolve, it is still the speed of development which makes APL a tool especially well adapted to changing environments.\n",
    "<br />\n",
    "<br />\n",
    "<br />\n",
    "<center>We hope you enjoyed this little trip in the magic world of APL.</center>\n",
    "\n",
    "If you still think APL might be the very tool you need, you are ready to read the full text of the following tutorial. You will revisit some of the examples you have seen above, plus many, many others.\n",
    "\n",
    "![A sad man complaining about having to code in C#.](res/back_to_C.png)"
   ]
  },
  {
   "cell_type": "code",
   "execution_count": null,
   "metadata": {},
   "outputs": [],
   "source": []
  }
 ],
 "metadata": {
  "kernelspec": {
   "display_name": "Dyalog APL",
   "language": "apl",
   "name": "dyalog-kernel"
  },
  "language_info": {
   "file_extension": ".apl",
   "mimetype": "text/apl",
   "name": "APL"
  },
  "toc": {
   "base_numbering": 1,
   "nav_menu": {},
   "number_sections": false,
   "sideBar": true,
   "skip_h1_title": false,
   "title_cell": "Table of Contents",
   "title_sidebar": "Contents",
   "toc_cell": false,
   "toc_position": {},
   "toc_section_display": true,
   "toc_window_display": false
  }
 },
 "nbformat": 4,
 "nbformat_minor": 4
}
