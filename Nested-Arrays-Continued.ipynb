{
 "cells": [
  {
   "cell_type": "markdown",
   "id": "small-subscription",
   "metadata": {},
   "source": [
    "# Nested Arrays (Continued)\n",
    "\n",
    "## First Contact\n",
    "\n",
    "### Definitions\n",
    "\n",
    "We have already met *nested* arrays in [the chapter about Data and Variables](./Data-and-Variables.ipynb); let us just remind ourselves of some definitions:\n",
    "\n",
    "An array is said to be *generalised* or *nested* when one or more of its items are not simple scalars, but scalars containing \"enclosed\" arrays (this term will be explained soon).\n",
    "\n",
    "Such an array can be created in many ways, although until now we have only covered the simplest one, called *vector notation*, or *strand notation*.\n",
    "Using this notation, the items of an array are just juxtaposed, and each item can be identified as a separate item because:\n",
    "\n",
    " - it is separated from its neighbours by **blanks**, or\n",
    " - it is embedded within **quotes**, or\n",
    " - it is an expression embedded within **parentheses**, or\n",
    " - it is a **variable name**, or the name of a niladic function which returns a result.\n",
    " \n",
    " Just to demonstrate how it works, we will create a nested vector and a nested matrix:"
   ]
  },
  {
   "cell_type": "code",
   "execution_count": 1,
   "id": "pediatric-tender",
   "metadata": {},
   "outputs": [],
   "source": [
    "one ← 2 2⍴8 6 2 4\n",
    "two ← 'Hello'"
   ]
  },
  {
   "cell_type": "code",
   "execution_count": 2,
   "id": "normal-packet",
   "metadata": {},
   "outputs": [
    {
     "data": {
      "text/html": [
       "<span style=\"white-space:pre; font-family: monospace\">┌→───────────────────────────────────────┐\n",
       "│       ┌→───┐    ┌→───────┐    ┌→──┐    │\n",
       "│ 87 24 │John│ 51 │78 45 23│ 85 ↓8 6│ 69 │\n",
       "│       └────┘    └~───────┘    │2 4│    │\n",
       "│                               └~──┘    │\n",
       "└∊───────────────────────────────────────┘\n",
       "</span>"
      ]
     },
     "execution_count": 2,
     "metadata": {},
     "output_type": "execute_result"
    }
   ],
   "source": [
    "nesVec ← 87 24 'John' 51 (78 45 23) 85 one 69\n",
    "]display nesVec"
   ]
  },
  {
   "cell_type": "code",
   "execution_count": 3,
   "id": "maritime-minister",
   "metadata": {},
   "outputs": [
    {
     "data": {
      "text/html": [
       "<span style=\"white-space:pre; font-family: monospace\">┌→───────────────────────┐\n",
       "↓ ┌→─────┐       ┌→────┐ │\n",
       "│ │Dyalog│ 44    │Hello│ │\n",
       "│ └──────┘       └─────┘ │\n",
       "│          ┌→──┐ ┌→────┐ │\n",
       "│ 27       ↓8 6│ ↓1 2 0│ │\n",
       "│          │2 4│ │0 0 5│ │\n",
       "│          └~──┘ └~────┘ │\n",
       "└∊───────────────────────┘\n",
       "</span>"
      ]
     },
     "execution_count": 3,
     "metadata": {},
     "output_type": "execute_result"
    }
   ],
   "source": [
    "nesMat ← 2 3⍴'Dyalog' 44 two 27 one (2 3⍴1 2 0 0 0 5)\n",
    "]display nesMat"
   ]
  },
  {
   "cell_type": "markdown",
   "id": "victorian-oasis",
   "metadata": {},
   "source": [
    "Later, we will provide a more formal description of this notation."
   ]
  },
  {
   "cell_type": "markdown",
   "id": "electoral-tradition",
   "metadata": {},
   "source": [
    "### Enclose & Disclose\n",
    "\n",
    "It seems so easy to create and work with nested arrays;\n",
    "couldn't we turn a simple array into a nested array by, for example, replacing one item of a simple matrix with a vector, like this:\n",
    "\n",
    "First, we create a simple matrix:"
   ]
  },
  {
   "cell_type": "code",
   "execution_count": 4,
   "id": "transsexual-receptor",
   "metadata": {},
   "outputs": [
    {
     "data": {
      "text/html": [
       "<span style=\"white-space:pre; font-family: monospace\">87 63 52\n",
       "74 11 62\n",
       "</span>"
      ]
     },
     "execution_count": 4,
     "metadata": {},
     "output_type": "execute_result"
    }
   ],
   "source": [
    "⎕← mat ← 2 3⍴87 63 52 74 11 62"
   ]
  },
  {
   "cell_type": "markdown",
   "id": "traditional-accounting",
   "metadata": {},
   "source": [
    "Then we try to change it into a nested array:"
   ]
  },
  {
   "cell_type": "code",
   "execution_count": 5,
   "id": "radio-clinic",
   "metadata": {},
   "outputs": [
    {
     "name": "stderr",
     "output_type": "stream",
     "text": [
      "LENGTH ERROR\n",
      "      mat[1;2]←10 20 30\n",
      "              ∧\n"
     ]
    }
   ],
   "source": [
    "mat[1;2] ← 10 20 30"
   ]
  },
  {
   "cell_type": "markdown",
   "id": "prompt-premiere",
   "metadata": {},
   "source": [
    "It doesn't work!\n",
    "\n",
    "We cannot replace **one** item with an array of **three** items.\n",
    "\n",
    "`mat[1;2]` is a scalar.\n",
    "We can only replace it with a scalar."
   ]
  },
  {
   "cell_type": "markdown",
   "id": "twenty-electricity",
   "metadata": {},
   "source": [
    "#### Enclose\n",
    "\n",
    "Let us now use a little trick to make the assignment above work.\n",
    "We just have to zip up the three values into a single \"bag\", using a function called *enclose*, represented by the symbol `⊂`.\n",
    "\n",
    "Then we will be able to replace one item by one bag!"
   ]
  },
  {
   "cell_type": "code",
   "execution_count": 6,
   "id": "recorded-willow",
   "metadata": {},
   "outputs": [
    {
     "data": {
      "text/html": [
       "<span style=\"white-space:pre; font-family: monospace\">┌──┬────────┬──┐\n",
       "│87│10 20 30│52│\n",
       "├──┼────────┼──┤\n",
       "│74│11      │62│\n",
       "└──┴────────┴──┘\n",
       "</span>"
      ]
     },
     "execution_count": 6,
     "metadata": {},
     "output_type": "execute_result"
    }
   ],
   "source": [
    "mat[1;2] ← ⊂10 20 30\n",
    "mat"
   ]
  },
  {
   "cell_type": "markdown",
   "id": "imperial-compromise",
   "metadata": {},
   "source": [
    "Now it works!\n",
    "\n",
    "We can, of course, do the same with character data, but we now know that an expression like"
   ]
  },
  {
   "cell_type": "code",
   "execution_count": 7,
   "id": "exterior-salem",
   "metadata": {},
   "outputs": [
    {
     "name": "stderr",
     "output_type": "stream",
     "text": [
      "LENGTH ERROR\n",
      "      mat[2;3]←2 4⍴'JohnPete'\n",
      "              ∧\n"
     ]
    }
   ],
   "source": [
    "mat[2;3] ← 2 4⍴'JohnPete'"
   ]
  },
  {
   "cell_type": "markdown",
   "id": "lyric-destiny",
   "metadata": {},
   "source": [
    "is incorrect\n",
    "we must enclose the array like this:"
   ]
  },
  {
   "cell_type": "code",
   "execution_count": 8,
   "id": "distant-combat",
   "metadata": {},
   "outputs": [],
   "source": [
    "mat[2;3] ← ⊂2 4⍴'JohnPete'"
   ]
  },
  {
   "cell_type": "markdown",
   "id": "important-bible",
   "metadata": {},
   "source": [
    "The result is what we expected:"
   ]
  },
  {
   "cell_type": "code",
   "execution_count": 9,
   "id": "generic-gossip",
   "metadata": {},
   "outputs": [
    {
     "data": {
      "text/html": [
       "<span style=\"white-space:pre; font-family: monospace\">┌→─────────────────────┐\n",
       "↓    ┌→───────┐        │\n",
       "│ 87 │10 20 30│ 52     │\n",
       "│    └~───────┘        │\n",
       "│               ┌→───┐ │\n",
       "│ 74 11         ↓John│ │\n",
       "│               │Pete│ │\n",
       "│               └────┘ │\n",
       "└∊─────────────────────┘\n",
       "</span>"
      ]
     },
     "execution_count": 9,
     "metadata": {},
     "output_type": "execute_result"
    }
   ],
   "source": [
    "]display mat"
   ]
  },
  {
   "cell_type": "markdown",
   "id": "nearby-illness",
   "metadata": {},
   "source": [
    "The result of *enclose* is always a scalar: cf. [the section below](./Nested-Arrays-Continued.ipynb#Simple-and-Other-Scalars)."
   ]
  },
  {
   "cell_type": "markdown",
   "id": "cellular-centre",
   "metadata": {},
   "source": [
    "#### Disclose\n",
    "\n",
    "If we look at the contents of `mat[2;3]`, we see a little 2 by 4 matrix, but if we look at its shape, we see that surprisingly it has no shape.\n",
    "Its rank is zero, so it must be a scalar!"
   ]
  },
  {
   "cell_type": "code",
   "execution_count": 10,
   "id": "strong-mirror",
   "metadata": {},
   "outputs": [
    {
     "data": {
      "text/html": [
       "<span style=\"white-space:pre; font-family: monospace\">┌────┐\n",
       "│John│\n",
       "│Pete│\n",
       "└────┘\n",
       "</span>"
      ]
     },
     "execution_count": 10,
     "metadata": {},
     "output_type": "execute_result"
    }
   ],
   "source": [
    "mat[2;3]"
   ]
  },
  {
   "cell_type": "code",
   "execution_count": 11,
   "id": "geological-spider",
   "metadata": {},
   "outputs": [
    {
     "data": {
      "text/html": [
       "<span style=\"white-space:pre; font-family: monospace\">\n",
       "</span>"
      ]
     },
     "execution_count": 11,
     "metadata": {},
     "output_type": "execute_result"
    }
   ],
   "source": [
    "⍴mat[2;3]"
   ]
  },
  {
   "cell_type": "markdown",
   "id": "pleased-stevens",
   "metadata": {},
   "source": [
    "As we can see, its shape is empty.\n",
    "And its rank is zero:"
   ]
  },
  {
   "cell_type": "code",
   "execution_count": 12,
   "id": "artificial-fetish",
   "metadata": {},
   "outputs": [
    {
     "data": {
      "text/html": [
       "<span style=\"white-space:pre; font-family: monospace\">0\n",
       "</span>"
      ]
     },
     "execution_count": 12,
     "metadata": {},
     "output_type": "execute_result"
    }
   ],
   "source": [
    "⍴⍴mat[2;3]"
   ]
  },
  {
   "cell_type": "markdown",
   "id": "alive-coating",
   "metadata": {},
   "source": [
    "The explanation is obvious:\n",
    "we have put this little matrix into a bag (a scalar), so we now see the bag, and not its contents.\n",
    "If we want to see its contents, we must extract them from the bag, using a function called *disclose*, which is represented by the symbol `⊃`.\n",
    "\n",
    "With it, we now have access to the matrix:"
   ]
  },
  {
   "cell_type": "code",
   "execution_count": 13,
   "id": "broadband-purple",
   "metadata": {},
   "outputs": [
    {
     "data": {
      "text/html": [
       "<span style=\"white-space:pre; font-family: monospace\">2 4\n",
       "</span>"
      ]
     },
     "execution_count": 13,
     "metadata": {},
     "output_type": "execute_result"
    }
   ],
   "source": [
    "⍴⊃mat[2;3]"
   ]
  },
  {
   "cell_type": "markdown",
   "id": "proprietary-expansion",
   "metadata": {},
   "source": [
    "And its rank is two, as expected:"
   ]
  },
  {
   "cell_type": "code",
   "execution_count": 14,
   "id": "egyptian-program",
   "metadata": {},
   "outputs": [
    {
     "data": {
      "text/html": [
       "<span style=\"white-space:pre; font-family: monospace\">2\n",
       "</span>"
      ]
     },
     "execution_count": 14,
     "metadata": {},
     "output_type": "execute_result"
    }
   ],
   "source": [
    "⍴⍴⊃mat[2;3]"
   ]
  },
  {
   "cell_type": "markdown",
   "id": "distributed-trainer",
   "metadata": {},
   "source": [
    "We experience the same behaviour if we try to extract one item from a nested vector.\n",
    "\n",
    "Let us recall the nested vector `nesVec`:"
   ]
  },
  {
   "cell_type": "code",
   "execution_count": 15,
   "id": "toxic-movement",
   "metadata": {},
   "outputs": [
    {
     "data": {
      "text/html": [
       "<span style=\"white-space:pre; font-family: monospace\">┌──┬──┬────┬──┬────────┬──┬───┬──┐\n",
       "│87│24│John│51│78 45 23│85│8 6│69│\n",
       "│  │  │    │  │        │  │2 4│  │\n",
       "└──┴──┴────┴──┴────────┴──┴───┴──┘\n",
       "</span>"
      ]
     },
     "execution_count": 15,
     "metadata": {},
     "output_type": "execute_result"
    }
   ],
   "source": [
    "nesVec"
   ]
  },
  {
   "cell_type": "markdown",
   "id": "dress-panic",
   "metadata": {},
   "source": [
    "We can use similar expressions to the ones we used on `mat`:"
   ]
  },
  {
   "cell_type": "code",
   "execution_count": 16,
   "id": "analyzed-testament",
   "metadata": {},
   "outputs": [
    {
     "data": {
      "text/html": [
       "<span style=\"white-space:pre; font-family: monospace\">\n",
       "</span>"
      ]
     },
     "execution_count": 16,
     "metadata": {},
     "output_type": "execute_result"
    }
   ],
   "source": [
    "⍴nesVec[5]"
   ]
  },
  {
   "cell_type": "markdown",
   "id": "assumed-assessment",
   "metadata": {},
   "source": [
    "The above looks like a scalar; it is a scalar, containing an eclosed vector.\n",
    "\n",
    "Once we disclose it, we gain access to its contents (three elements, in this case):"
   ]
  },
  {
   "cell_type": "code",
   "execution_count": 17,
   "id": "mighty-privacy",
   "metadata": {},
   "outputs": [
    {
     "data": {
      "text/html": [
       "<span style=\"white-space:pre; font-family: monospace\">3\n",
       "</span>"
      ]
     },
     "execution_count": 17,
     "metadata": {},
     "output_type": "execute_result"
    }
   ],
   "source": [
    "⍴⊃nesVec[5]"
   ]
  },
  {
   "cell_type": "markdown",
   "id": "wicked-instrument",
   "metadata": {},
   "source": [
    "In fact, this should not have come as a complete surprise to us.\n",
    "Earlier we learned that the shape of the result of an indexing operation is identical to the shape of the indices.\n",
    "In this case (as well as in the matrix case above), the index specifies a scalar.\n",
    "Hence, it would be incorrect to expect anything other than a scalar as the result of the indexing operation!"
   ]
  },
  {
   "cell_type": "markdown",
   "id": "rational-birth",
   "metadata": {},
   "source": [
    "#### Mnemonics\n",
    "\n",
    "It is easy to remember how to generate the two symbols for *enclose* and *disclose* on a US or UK keyboard:\n",
    "\n",
    " - *Disclose* `⊃` is generated by <kbd>APL</kbd>+<kbd>X</kbd>, as in e**X**tract; and\n",
    " - *Enclose* `⊂` is generated by <kbd>APL</kbd>+<kbd>Z</kbd>, as in **Z**ip-up.\n",
    "\n",
    "For reference, the actual symbols are called *left shoe* and *right shoe*, respectively for `⊂` and `⊃`; \"enclose\" and \"disclose\" are the names of the functions."
   ]
  },
  {
   "cell_type": "markdown",
   "id": "beginning-practice",
   "metadata": {},
   "source": [
    "#### Simple and Other Scalars\n",
    "\n",
    "We know that the result of *enclose* is **always** a scalar, but there is a difference between enclosing a scalar number or character, and enclosing any other array.\n",
    "\n",
    "When appropriate, we shall use four different terms:\n",
    "\n",
    " - *simple scalar* refers to a single number or letter (rank zero);\n",
    " - *enclosed array* refers to a scalar that is the result of enclosing anything other than a simple scalar;\n",
    " - *item* refers to a scalar that is a constituent of an array, whether it is a simple scalar or an enclosed array; and\n",
    " - *nested array* is an array in which at least one of the items is an enclosed array.\n",
    "\n",
    "Always remember these important points:\n",
    "\n",
    " - *enclose* does nothing to a simple scalar - it returns the scalar unchanged. The same for *disclose*;\n",
    " - all items of an array are effectively scalars, whether they are simple scalars or enclosed arrays: their rank is 0, and their shape is empty;\n",
    " - a single item can be replaced only by another single item: a simple scalar, or an array of values zipped up using *enclose* (to form an enclosed array); and\n",
    " - *vector notation* (*strand notation*) avoids the use of *enclose*, because of the conventions used to separate individual items from one another.\n",
    "\n",
    "Let us create four vectors:"
   ]
  },
  {
   "cell_type": "code",
   "execution_count": 18,
   "id": "amino-debate",
   "metadata": {},
   "outputs": [],
   "source": [
    "a ← 'coffee'\n",
    "b ← 'tea'\n",
    "c ← 'chocolate'"
   ]
  },
  {
   "cell_type": "code",
   "execution_count": 19,
   "id": "latter-sacrifice",
   "metadata": {},
   "outputs": [],
   "source": [
    "v ← a b c"
   ]
  },
  {
   "cell_type": "markdown",
   "id": "piano-lewis",
   "metadata": {},
   "source": [
    "The last statement is just a simpler way to write:"
   ]
  },
  {
   "cell_type": "code",
   "execution_count": 20,
   "id": "excellent-surgery",
   "metadata": {},
   "outputs": [],
   "source": [
    "v ← (⊂a),(⊂b),⊂c"
   ]
  },
  {
   "cell_type": "markdown",
   "id": "former-groove",
   "metadata": {},
   "source": [
    "So, we can see that each of the items of `v` is an enclosed character vector.\n",
    "Thus,"
   ]
  },
  {
   "cell_type": "code",
   "execution_count": 21,
   "id": "related-helping",
   "metadata": {},
   "outputs": [
    {
     "data": {
      "text/html": [
       "<span style=\"white-space:pre; font-family: monospace\">\n",
       "</span>"
      ]
     },
     "execution_count": 21,
     "metadata": {},
     "output_type": "execute_result"
    }
   ],
   "source": [
    "⍴v[1]"
   ]
  },
  {
   "cell_type": "markdown",
   "id": "specific-logistics",
   "metadata": {},
   "source": [
    "is `⍬`, not `6`:"
   ]
  },
  {
   "cell_type": "markdown",
   "id": "interior-basement",
   "metadata": {},
   "source": [
    "Here is another example:"
   ]
  },
  {
   "cell_type": "code",
   "execution_count": 22,
   "id": "related-spread",
   "metadata": {},
   "outputs": [
    {
     "data": {
      "text/html": [
       "<span style=\"white-space:pre; font-family: monospace\">┌→────────────────────────────────────────┐\n",
       "│ ┌→──┐    ┌→───┐        ┌→────┐ ┌→──┐    │\n",
       "│ │Yes│ 24 │John│ 51 987 │Hello│ ↓8 6│ 69 │\n",
       "│ └───┘    └────┘        └─────┘ │2 4│    │\n",
       "│                                └~──┘    │\n",
       "└∊────────────────────────────────────────┘\n",
       "</span>"
      ]
     },
     "execution_count": 22,
     "metadata": {},
     "output_type": "execute_result"
    }
   ],
   "source": [
    "nesVec[1 5 6] ← 'Yes' 987 'Hello'\n",
    "]display nesVec"
   ]
  },
  {
   "cell_type": "markdown",
   "id": "metropolitan-cathedral",
   "metadata": {},
   "source": [
    "If we use any additional *enclose* primitives, the results are very different.\n",
    "And the results also vary depending on where the *enclose* primitives are used.\n",
    "\n",
    "Here are two examples:"
   ]
  },
  {
   "cell_type": "code",
   "execution_count": 23,
   "id": "floating-lecture",
   "metadata": {},
   "outputs": [
    {
     "data": {
      "text/html": [
       "<span style=\"white-space:pre; font-family: monospace\">┌→────────────────────────────────────────────┐\n",
       "│ ┌→──┐    ┌→───┐        ┌─────────┐ ┌→──┐    │\n",
       "│ │Yes│ 24 │John│ 51 987 │ ┌→────┐ │ ↓8 6│ 69 │\n",
       "│ └───┘    └────┘        │ │Hello│ │ │2 4│    │\n",
       "│                        │ └─────┘ │ └~──┘    │\n",
       "│                        └∊────────┘          │\n",
       "└∊────────────────────────────────────────────┘\n",
       "</span>"
      ]
     },
     "execution_count": 23,
     "metadata": {},
     "output_type": "execute_result"
    }
   ],
   "source": [
    "nesVec[1 5 6] ← 'Yes' 987 (⊂'Hello')\n",
    "]display nesVec"
   ]
  },
  {
   "cell_type": "code",
   "execution_count": 24,
   "id": "rational-fleece",
   "metadata": {},
   "outputs": [
    {
     "data": {
      "text/html": [
       "<span style=\"white-space:pre; font-family: monospace\">┌→────────────────────────────────────────────────────────────────────────────────────────┐\n",
       "│ ┌→──────────────────┐    ┌→───┐    ┌→──────────────────┐ ┌→──────────────────┐ ┌→──┐    │\n",
       "│ │ ┌→──┐     ┌→────┐ │ 24 │John│ 51 │ ┌→──┐     ┌→────┐ │ │ ┌→──┐     ┌→────┐ │ ↓8 6│ 69 │\n",
       "│ │ │Yes│ 987 │Hello│ │    └────┘    │ │Yes│ 987 │Hello│ │ │ │Yes│ 987 │Hello│ │ │2 4│    │\n",
       "│ │ └───┘     └─────┘ │              │ └───┘     └─────┘ │ │ └───┘     └─────┘ │ └~──┘    │\n",
       "│ └∊──────────────────┘              └∊──────────────────┘ └∊──────────────────┘          │\n",
       "└∊────────────────────────────────────────────────────────────────────────────────────────┘\n",
       "</span>"
      ]
     },
     "execution_count": 24,
     "metadata": {},
     "output_type": "execute_result"
    }
   ],
   "source": [
    "nesVec[1 5 6] ← ⊂'Yes' 987 'Hello'\n",
    "]display nesVec"
   ]
  },
  {
   "cell_type": "markdown",
   "id": "devoted-waters",
   "metadata": {},
   "source": [
    "<!-- (TODO) Figure out what to do about the “More About DISPLAY” section. -->"
   ]
  },
  {
   "cell_type": "markdown",
   "id": "stuck-administration",
   "metadata": {},
   "source": [
    "## Depth\n",
    "\n",
    "### Enclosing Scalars\n",
    "\n",
    "Applied to a simple scalar, *enclose* does nothing: the enclose of a simple scalar is the same simple scalar:"
   ]
  },
  {
   "cell_type": "code",
   "execution_count": 25,
   "id": "lesbian-embassy",
   "metadata": {},
   "outputs": [
    {
     "data": {
      "text/html": [
       "<span style=\"white-space:pre; font-family: monospace\">  \n",
       "35\n",
       "  \n",
       "</span>"
      ]
     },
     "execution_count": 25,
     "metadata": {},
     "output_type": "execute_result"
    }
   ],
   "source": [
    "]display 35"
   ]
  },
  {
   "cell_type": "code",
   "execution_count": 26,
   "id": "superb-float",
   "metadata": {},
   "outputs": [
    {
     "data": {
      "text/html": [
       "<span style=\"white-space:pre; font-family: monospace\">  \n",
       "35\n",
       "  \n",
       "</span>"
      ]
     },
     "execution_count": 26,
     "metadata": {},
     "output_type": "execute_result"
    }
   ],
   "source": [
    "]display ⊂35"
   ]
  },
  {
   "cell_type": "markdown",
   "id": "circular-baking",
   "metadata": {},
   "source": [
    "However, when applied to any other array, *enclose* puts a \"bag\" around it.\n",
    "\n",
    "First, we start with a simple vector:"
   ]
  },
  {
   "cell_type": "code",
   "execution_count": 27,
   "id": "following-scanning",
   "metadata": {},
   "outputs": [
    {
     "data": {
      "text/html": [
       "<span style=\"white-space:pre; font-family: monospace\">┌→────┐\n",
       "│2 4 8│\n",
       "└~────┘\n",
       "</span>"
      ]
     },
     "execution_count": 27,
     "metadata": {},
     "output_type": "execute_result"
    }
   ],
   "source": [
    "]display 2 4 8"
   ]
  },
  {
   "cell_type": "markdown",
   "id": "featured-strategy",
   "metadata": {},
   "source": [
    "If we use *enclose* once, we get a scalar containing a numeric vector:"
   ]
  },
  {
   "cell_type": "code",
   "execution_count": 28,
   "id": "voluntary-honduras",
   "metadata": {},
   "outputs": [
    {
     "data": {
      "text/html": [
       "<span style=\"white-space:pre; font-family: monospace\">┌─────────┐\n",
       "│ ┌→────┐ │\n",
       "│ │2 4 8│ │\n",
       "│ └~────┘ │\n",
       "└∊────────┘\n",
       "</span>"
      ]
     },
     "execution_count": 28,
     "metadata": {},
     "output_type": "execute_result"
    }
   ],
   "source": [
    "]display ⊂2 4 8"
   ]
  },
  {
   "cell_type": "markdown",
   "id": "pretty-performer",
   "metadata": {},
   "source": [
    "With one more *enclose*, we get a scalar containing another scalar, itself containing a numeric vector."
   ]
  },
  {
   "cell_type": "markdown",
   "id": "constitutional-premiere",
   "metadata": {},
   "source": [
    "### The Depth of an Array\n",
    "\n",
    "Suppose that we write a function `Process`, which takes as its argument a vector consisting of: the name of a town, the number of inhabitants, a country code, and the turnover of our company in that town.\n",
    "\n",
    "For example, we could call the function as `Process 'Lyon' 466400 'FR' 894600`.\n",
    "\n",
    "For the purpose of this example, the function will just display the items it receives in its argument.\n",
    "We choose to write it with the following syntax:"
   ]
  },
  {
   "cell_type": "code",
   "execution_count": 29,
   "id": "nominated-couple",
   "metadata": {},
   "outputs": [],
   "source": [
    "]dinput\n",
    "Process ← {\n",
    "    (town pop coun tov) ← ⍵\n",
    "    ⎕← (15↑'Town = '),town\n",
    "    ⎕← (15↑'Population = '),⍕pop\n",
    "    ⎕← (15↑'Country = '),coun\n",
    "    ⎕← (15↑'Turnover = '),⍕tov\n",
    "}"
   ]
  },
  {
   "cell_type": "markdown",
   "id": "million-degree",
   "metadata": {},
   "source": [
    "Perhaps this is not the smartest thing we could do, but we did it!\n",
    "\n",
    "Now, let us execute the function and verify that it works properly:"
   ]
  },
  {
   "cell_type": "code",
   "execution_count": 30,
   "id": "adopted-horizontal",
   "metadata": {},
   "outputs": [
    {
     "data": {
      "text/html": [
       "<span style=\"white-space:pre; font-family: monospace\">Town =         York\n",
       "Population =   186800\n",
       "Country =      GB\n",
       "Turnover =     540678\n",
       "</span>"
      ]
     },
     "execution_count": 30,
     "metadata": {},
     "output_type": "execute_result"
    }
   ],
   "source": [
    "Process 'York' 186800 'GB' 540678"
   ]
  },
  {
   "cell_type": "markdown",
   "id": "approved-prairie",
   "metadata": {},
   "source": [
    "This looks promising, but what will happen if the user forgets one of the items that the function expects?\n",
    "Let us test it:"
   ]
  },
  {
   "cell_type": "code",
   "execution_count": 31,
   "id": "answering-austria",
   "metadata": {},
   "outputs": [
    {
     "name": "stderr",
     "output_type": "stream",
     "text": [
      "LENGTH ERROR\n",
      "Process[1] (town pop coun tov)←⍵\n",
      "                              ∧\n"
     ]
    }
   ],
   "source": [
    "Process 'York' 186800 'GB'"
   ]
  },
  {
   "cell_type": "markdown",
   "id": "combined-event",
   "metadata": {},
   "source": [
    "As we might expect, an error message is issued: we cannot put 3 values into 4 variables!\n",
    "\n",
    "Let us add a little test to our function to check whether or not the right argument has 4 items.\n",
    "\n",
    "Here is the new version; notice the new line of code:"
   ]
  },
  {
   "cell_type": "code",
   "execution_count": 32,
   "id": "opening-atlanta",
   "metadata": {},
   "outputs": [],
   "source": [
    "]dinput\n",
    "Process ← {\n",
    "    4≠≢⍵: 'Hey, weren''t you supposed to provide 4 values?'\n",
    "    (town pop coun tov) ← ⍵\n",
    "    ⎕← (15↑'Town = '),town\n",
    "    ⎕← (15↑'Population = '),⍕pop\n",
    "    ⎕← (15↑'Country = '),coun\n",
    "    ⎕← (15↑'Turnover = '),⍕tov\n",
    "}"
   ]
  },
  {
   "cell_type": "markdown",
   "id": "about-flexibility",
   "metadata": {},
   "source": [
    "It seems to work well now:"
   ]
  },
  {
   "cell_type": "code",
   "execution_count": 33,
   "id": "marked-silence",
   "metadata": {},
   "outputs": [
    {
     "data": {
      "text/html": [
       "<span style=\"white-space:pre; font-family: monospace\">Hey, weren't you supposed to provide 4 values?\n",
       "</span>"
      ]
     },
     "execution_count": 33,
     "metadata": {},
     "output_type": "execute_result"
    }
   ],
   "source": [
    "Process 'York' 186800 'GB'"
   ]
  },
  {
   "cell_type": "markdown",
   "id": "silent-auction",
   "metadata": {},
   "source": [
    "But one day the user forgets all but one of the items, and just types the name of the town.\n",
    "If the user is (un)lucky enough to type a town name with four letters, here is what happens:"
   ]
  },
  {
   "cell_type": "code",
   "execution_count": 34,
   "id": "fuzzy-respondent",
   "metadata": {},
   "outputs": [
    {
     "data": {
      "text/html": [
       "<span style=\"white-space:pre; font-family: monospace\">Town =         Y\n",
       "Population =   o\n",
       "Country =      r\n",
       "Turnover =     k\n",
       "</span>"
      ]
     },
     "execution_count": 34,
     "metadata": {},
     "output_type": "execute_result"
    }
   ],
   "source": [
    "Process 'York'"
   ]
  },
  {
   "cell_type": "markdown",
   "id": "virtual-oxford",
   "metadata": {},
   "source": [
    "This trivial example shows that when nested arrays are involved, it is not sufficient to rely on the shape of an array;\n",
    "we need additional information: specifically, is it a simple or a nested array?\n",
    "To help distinguish between simple and nested arrays, APL provides a function named *depth*.\n",
    "It is represented by the monadic use of the symbol `≡`.\n",
    "\n",
    "Here is a set of rules that define how to determine the depth of an array:\n",
    "\n",
    " - the depth of a simple scalar is 0;\n",
    " - the depth of any other array of any shape is 1, if all of its items are simple scalars.\n",
    "\n",
    "We call such an array a *simple array*, so we can instead say:\n",
    "\n",
    " - the depth of a non-scalar, simple array is 1;\n",
    " - the depth of any other array is equal to the depth of its deepest item plus 1; and\n",
    " - the depth is positive if the array is uniform (all of its items have the same depth), and negative if it is not.\n",
    "\n",
    "Therefore, our `Process` function can only work when the argument `⍵` has depth `¯2`!\n",
    "Why `¯2`?\n",
    "Because the town name and the country name are character _vectors_, but the population and the turnover are numeric scalars, meaning that `⍵` has heterogeneous depth:"
   ]
  },
  {
   "cell_type": "code",
   "execution_count": 3,
   "id": "biological-accounting",
   "metadata": {},
   "outputs": [],
   "source": [
    "]dinput\n",
    "Process ← {\n",
    "    ¯2≠≡⍵: 'The argument has the wrong depth!'\n",
    "    4≠≢⍵: 'Hey, weren''t you supposed to provide 4 values?'\n",
    "    (town pop coun tov) ← ⍵\n",
    "    ⎕← (15↑'Town = '),town\n",
    "    ⎕← (15↑'Population = '),⍕pop\n",
    "    ⎕← (15↑'Country = '),coun\n",
    "    ⎕← (15↑'Turnover = '),⍕tov\n",
    "}"
   ]
  },
  {
   "cell_type": "code",
   "execution_count": 4,
   "id": "removed-cartoon",
   "metadata": {},
   "outputs": [
    {
     "data": {
      "text/html": [
       "<span style=\"white-space:pre; font-family: monospace\">Town =         York\n",
       "Population =   186800\n",
       "Country =      GB\n",
       "Turnover =     540678\n",
       "</span>"
      ]
     },
     "execution_count": 4,
     "metadata": {},
     "output_type": "execute_result"
    }
   ],
   "source": [
    "Process 'York' 186800 'GB' 540678"
   ]
  },
  {
   "cell_type": "code",
   "execution_count": 5,
   "id": "united-advertising",
   "metadata": {},
   "outputs": [
    {
     "data": {
      "text/html": [
       "<span style=\"white-space:pre; font-family: monospace\">The argument has the wrong depth!\n",
       "</span>"
      ]
     },
     "execution_count": 5,
     "metadata": {},
     "output_type": "execute_result"
    }
   ],
   "source": [
    "Process 'York'"
   ]
  },
  {
   "cell_type": "markdown",
   "id": "historical-director",
   "metadata": {},
   "source": [
    "Another intuitive definition of *depth* is this: `DISPLAY` the array and count the number of boxes you must pass to reach its deepest item.\n",
    "\n",
    "Here are some examples:"
   ]
  },
  {
   "cell_type": "code",
   "execution_count": 35,
   "id": "infinite-advice",
   "metadata": {},
   "outputs": [
    {
     "data": {
      "text/html": [
       "<span style=\"white-space:pre; font-family: monospace\">0\n",
       "</span>"
      ]
     },
     "execution_count": 35,
     "metadata": {},
     "output_type": "execute_result"
    }
   ],
   "source": [
    "≡ 540678"
   ]
  },
  {
   "cell_type": "markdown",
   "id": "emerging-treasure",
   "metadata": {},
   "source": [
    "As seen above, a scalar has depth 0.\n",
    "\n",
    "The following vector contains only simple scalars. Its depth is 1:"
   ]
  },
  {
   "cell_type": "code",
   "execution_count": 36,
   "id": "former-gabriel",
   "metadata": {},
   "outputs": [
    {
     "data": {
      "text/html": [
       "<span style=\"white-space:pre; font-family: monospace\">1\n",
       "</span>"
      ]
     },
     "execution_count": 36,
     "metadata": {},
     "output_type": "execute_result"
    }
   ],
   "source": [
    "≡ 15 84 37 11"
   ]
  },
  {
   "cell_type": "markdown",
   "id": "front-steal",
   "metadata": {},
   "source": [
    "The rank of an array doesn't influence directly its depth.\n",
    "If we reshape the vector above into a matrix, its depth is still 1 because it contains only simple scalars:"
   ]
  },
  {
   "cell_type": "code",
   "execution_count": 37,
   "id": "stable-relevance",
   "metadata": {
    "scrolled": true
   },
   "outputs": [
    {
     "data": {
      "text/html": [
       "<span style=\"white-space:pre; font-family: monospace\">1\n",
       "</span>"
      ]
     },
     "execution_count": 37,
     "metadata": {},
     "output_type": "execute_result"
    }
   ],
   "source": [
    "≡ 2 2⍴15 84 37 11"
   ]
  },
  {
   "cell_type": "markdown",
   "id": "consecutive-mother",
   "metadata": {},
   "source": [
    "Now, let us consider this nested vector:"
   ]
  },
  {
   "cell_type": "code",
   "execution_count": 38,
   "id": "polish-footwear",
   "metadata": {},
   "outputs": [
    {
     "data": {
      "text/html": [
       "<span style=\"white-space:pre; font-family: monospace\">2\n",
       "</span>"
      ]
     },
     "execution_count": 38,
     "metadata": {},
     "output_type": "execute_result"
    }
   ],
   "source": [
    "≡ vec1 ← (4 3) 'Yes' (8 7 5 6) (2 4)"
   ]
  },
  {
   "cell_type": "markdown",
   "id": "elementary-westminster",
   "metadata": {},
   "source": [
    "It is composed of four enclosed vectors, each of depth 1 - so `vec1` has depth 2.\n",
    "Now let us change the expression slightly:"
   ]
  },
  {
   "cell_type": "code",
   "execution_count": 39,
   "id": "laden-gothic",
   "metadata": {},
   "outputs": [
    {
     "data": {
      "text/html": [
       "<span style=\"white-space:pre; font-family: monospace\">¯2\n",
       "</span>"
      ]
     },
     "execution_count": 39,
     "metadata": {},
     "output_type": "execute_result"
    }
   ],
   "source": [
    "≡ vec2 ← (4 3) 'Yes' (8 7 5) 6 (2 4)"
   ]
  },
  {
   "cell_type": "markdown",
   "id": "enabling-feeding",
   "metadata": {},
   "source": [
    "This vector is no longer uniform: it contains four enclosed vectors and one simple scalar, so its depth is negative.\n",
    "The *magnitude* of the depth has not changed, since it reports the highest level of nesting.\n",
    "\n",
    "In this context, the word \"uniform\" only means that the array contains items of the same *depth*.\n",
    "\n",
    " - `vec2` is not uniform: it contains vectors (of depth 1) mixed with a scalar (of depth 0); and\n",
    " - `vec1` is uniform: all its items are vectors (of depth 1), even though they do not have the same shape, the same type, and certainly not the same content."
   ]
  },
  {
   "cell_type": "markdown",
   "id": "ranking-solution",
   "metadata": {},
   "source": [
    "### The Depth of an Array, Take 2\n",
    "\n",
    "We used the example of the function `Process` to motivate the definition of the _depth_ of an array, but perhaps we could have fixed our function in a different way.\n",
    "\n",
    "This was the original definition of `Process`:"
   ]
  },
  {
   "cell_type": "code",
   "execution_count": 6,
   "id": "wound-times",
   "metadata": {},
   "outputs": [],
   "source": [
    "]dinput\n",
    "Process ← {\n",
    "    (town pop coun tov) ← ⍵\n",
    "    ⎕← (15↑'Town = '),town\n",
    "    ⎕← (15↑'Population = '),⍕pop\n",
    "    ⎕← (15↑'Country = '),coun\n",
    "    ⎕← (15↑'Turnover = '),⍕tov\n",
    "}"
   ]
  },
  {
   "cell_type": "markdown",
   "id": "noticed-walnut",
   "metadata": {},
   "source": [
    "Instead of checking the length of `⍵` to see if there are enough items, perhaps we could write a more lenient version of `Process` that uses default values for the population, the country, and the turnover.\n",
    "\n",
    "That way, if the user does not input enough arguments, the function still works, and displays that some information is missing:"
   ]
  },
  {
   "cell_type": "code",
   "execution_count": 11,
   "id": "integral-admission",
   "metadata": {},
   "outputs": [],
   "source": [
    "]dinput\n",
    "Process ← {\n",
    "    defaults ← ¯1 '?' ¯1\n",
    "    (town pop coun tov) ← ⍵,(¯1+≢⍵)↓defaults\n",
    "    ⎕← (15↑'Town = '),town\n",
    "    ⎕← (15↑'Population = '),⍕pop\n",
    "    ⎕← (15↑'Country = '),coun\n",
    "    ⎕← (15↑'Turnover = '),⍕tov\n",
    "}"
   ]
  },
  {
   "cell_type": "code",
   "execution_count": 12,
   "id": "second-fifth",
   "metadata": {},
   "outputs": [
    {
     "data": {
      "text/html": [
       "<span style=\"white-space:pre; font-family: monospace\">Town =         York\n",
       "Population =   186800\n",
       "Country =      GB\n",
       "Turnover =     540678\n",
       "</span>"
      ]
     },
     "execution_count": 12,
     "metadata": {},
     "output_type": "execute_result"
    }
   ],
   "source": [
    "Process 'York' 186800 'GB' 540678"
   ]
  },
  {
   "cell_type": "code",
   "execution_count": 13,
   "id": "bright-siemens",
   "metadata": {},
   "outputs": [
    {
     "data": {
      "text/html": [
       "<span style=\"white-space:pre; font-family: monospace\">Town =         York\n",
       "Population =   186800\n",
       "Country =      GB\n",
       "Turnover =     ¯1\n",
       "</span>"
      ]
     },
     "execution_count": 13,
     "metadata": {},
     "output_type": "execute_result"
    }
   ],
   "source": [
    "Process 'York' 186800 'GB'"
   ]
  },
  {
   "cell_type": "markdown",
   "id": "motivated-asthma",
   "metadata": {},
   "source": [
    "It seems like we have a more robust function, but let us see what happens if we keep removing items from the arguments:"
   ]
  },
  {
   "cell_type": "code",
   "execution_count": 16,
   "id": "formed-savings",
   "metadata": {
    "scrolled": true
   },
   "outputs": [
    {
     "data": {
      "text/html": [
       "<span style=\"white-space:pre; font-family: monospace\">Town =         York\n",
       "Population =   186800\n",
       "Country =      ?\n",
       "Turnover =     ¯1\n",
       "</span>"
      ]
     },
     "execution_count": 16,
     "metadata": {},
     "output_type": "execute_result"
    }
   ],
   "source": [
    "Process 'York' 186800"
   ]
  },
  {
   "cell_type": "markdown",
   "id": "alternative-norfolk",
   "metadata": {},
   "source": [
    "If we only pass in the town and the population, the function still works.\n",
    "\n",
    "Now, let us try to pass in only the town:"
   ]
  },
  {
   "cell_type": "code",
   "execution_count": 17,
   "id": "solar-combat",
   "metadata": {
    "scrolled": true
   },
   "outputs": [
    {
     "data": {
      "text/html": [
       "<span style=\"white-space:pre; font-family: monospace\">Town =         Y\n",
       "Population =   o\n",
       "Country =      r\n",
       "Turnover =     k\n",
       "</span>"
      ]
     },
     "execution_count": 17,
     "metadata": {},
     "output_type": "execute_result"
    }
   ],
   "source": [
    "Process 'York'"
   ]
  },
  {
   "cell_type": "markdown",
   "id": "occupational-arthritis",
   "metadata": {},
   "source": [
    "Once again, the user runs into trouble because our function `Process` takes a look at the character vector `'York'`, sees it has four items, and thus adds no default values.\n",
    "\n",
    "The issue can be resolved if the user remembers to _enclose_ the town name:"
   ]
  },
  {
   "cell_type": "code",
   "execution_count": 18,
   "id": "occasional-russia",
   "metadata": {},
   "outputs": [
    {
     "data": {
      "text/html": [
       "<span style=\"white-space:pre; font-family: monospace\">Town =         York\n",
       "Population =   ¯1\n",
       "Country =      ?\n",
       "Turnover =     ¯1\n",
       "</span>"
      ]
     },
     "execution_count": 18,
     "metadata": {},
     "output_type": "execute_result"
    }
   ],
   "source": [
    "Process ⊂'York'"
   ]
  },
  {
   "cell_type": "markdown",
   "id": "liked-finder",
   "metadata": {},
   "source": [
    "However, as you will come to understand, it is rarely a good idea to rely on the user to pass the arguments in the correct format.\n",
    "\n",
    "Wouldn't it be nice if we, the developers, could take care of that for ourselves?\n",
    "As it turns out, we can."
   ]
  },
  {
   "cell_type": "markdown",
   "id": "external-italian",
   "metadata": {},
   "source": [
    "## Nest\n",
    "\n",
    "The function _nest_ is a monadic function represented by the _left shoe underbar_ character, `⊆`, which you can type with <kbd>APL</kbd> + <kbd>Shift</kbd> + <kbd>Z</kbd>.\n",
    "(Remembering how to type `⊆` should not be too hard, because it lives in the same key as `⊂`.)\n",
    "\n",
    "The function _nest_ is sometimes called _enclose if simple_, because that is exactly what it does:\n",
    "you give it an array, and `⊆` will enclose it if and only if the argument array is simple.\n",
    "\n",
    "In an intuitive sense, but using less rigorous words, `⊆` will put a box around arrays that don't have any boxes yet.\n",
    "\n",
    "Let us take a look at a couple of examples.\n",
    "Here is a _nested_ array:"
   ]
  },
  {
   "cell_type": "code",
   "execution_count": 19,
   "id": "sweet-vacation",
   "metadata": {},
   "outputs": [
    {
     "data": {
      "text/html": [
       "<span style=\"white-space:pre; font-family: monospace\">┌────┬──────┬──┬──────┐\n",
       "│York│186800│GB│540678│\n",
       "└────┴──────┴──┴──────┘\n",
       "</span>"
      ]
     },
     "execution_count": 19,
     "metadata": {},
     "output_type": "execute_result"
    }
   ],
   "source": [
    "'York' 186800 'GB' 540678"
   ]
  },
  {
   "cell_type": "markdown",
   "id": "northern-bulletin",
   "metadata": {},
   "source": [
    "Because the array above is _nested_, it is not _simple_.\n",
    "Therefore, `⊆` applied to that array will do nothing:"
   ]
  },
  {
   "cell_type": "code",
   "execution_count": 20,
   "id": "annoying-newfoundland",
   "metadata": {},
   "outputs": [
    {
     "data": {
      "text/html": [
       "<span style=\"white-space:pre; font-family: monospace\">┌────┬──────┬──┬──────┐\n",
       "│York│186800│GB│540678│\n",
       "└────┴──────┴──┴──────┘\n",
       "</span>"
      ]
     },
     "execution_count": 20,
     "metadata": {},
     "output_type": "execute_result"
    }
   ],
   "source": [
    "⊆'York' 186800 'GB' 540678"
   ]
  },
  {
   "cell_type": "markdown",
   "id": "chubby-bidder",
   "metadata": {},
   "source": [
    "On the other hand, we can compare the simple character vector"
   ]
  },
  {
   "cell_type": "code",
   "execution_count": 21,
   "id": "acoustic-church",
   "metadata": {},
   "outputs": [
    {
     "data": {
      "text/html": [
       "<span style=\"white-space:pre; font-family: monospace\">York\n",
       "</span>"
      ]
     },
     "execution_count": 21,
     "metadata": {},
     "output_type": "execute_result"
    }
   ],
   "source": [
    "'York'"
   ]
  },
  {
   "cell_type": "markdown",
   "id": "interracial-trust",
   "metadata": {},
   "source": [
    "with what we get if we _nest_ it:"
   ]
  },
  {
   "cell_type": "code",
   "execution_count": 22,
   "id": "enhanced-scholar",
   "metadata": {},
   "outputs": [
    {
     "data": {
      "text/html": [
       "<span style=\"white-space:pre; font-family: monospace\">┌────┐\n",
       "│York│\n",
       "└────┘\n",
       "</span>"
      ]
     },
     "execution_count": 22,
     "metadata": {},
     "output_type": "execute_result"
    }
   ],
   "source": [
    "⊆'York'"
   ]
  },
  {
   "cell_type": "markdown",
   "id": "monthly-democrat",
   "metadata": {},
   "source": [
    "Because `'York'` was not _nested_, `⊆` did it for us."
   ]
  },
  {
   "cell_type": "markdown",
   "id": "equipped-liabilities",
   "metadata": {},
   "source": [
    "### Argument Homogenisation\n",
    "\n",
    "In the context of the function `Process` from before, the function _nest_ becomes quite useful.\n",
    "With it, we can handle the case when the user forgets to _enclose_ the town name when no other information is given:"
   ]
  },
  {
   "cell_type": "code",
   "execution_count": 23,
   "id": "south-shade",
   "metadata": {},
   "outputs": [],
   "source": [
    "]dinput\n",
    "Process ← {\n",
    "    defaults ← ¯1 '?' ¯1\n",
    "    (town pop coun tov) ← (⊆⍵),(¯1+≢⊆⍵)↓defaults\n",
    "    ⎕← (15↑'Town = '),town\n",
    "    ⎕← (15↑'Population = '),⍕pop\n",
    "    ⎕← (15↑'Country = '),coun\n",
    "    ⎕← (15↑'Turnover = '),⍕tov\n",
    "}"
   ]
  },
  {
   "cell_type": "code",
   "execution_count": 24,
   "id": "spiritual-arizona",
   "metadata": {},
   "outputs": [
    {
     "data": {
      "text/html": [
       "<span style=\"white-space:pre; font-family: monospace\">Town =         York\n",
       "Population =   ¯1\n",
       "Country =      ?\n",
       "Turnover =     ¯1\n",
       "</span>"
      ]
     },
     "execution_count": 24,
     "metadata": {},
     "output_type": "execute_result"
    }
   ],
   "source": [
    "Process 'York'"
   ]
  },
  {
   "cell_type": "markdown",
   "id": "israeli-content",
   "metadata": {},
   "source": [
    "In the [exercises](#Exercises) you will find other similar situations in which _nest_ is useful."
   ]
  },
  {
   "cell_type": "markdown",
   "id": "adjacent-quarter",
   "metadata": {},
   "source": [
    "### Nesting a Scalar\n",
    "\n",
    "A word of caution is in order, pertaining to what happens if we _nest_ a simple scalar.\n",
    "The function _nest_ is supposed to enclose its argument array when it is a simple array.\n",
    "So, let us try to _nest_ the scalar 42:"
   ]
  },
  {
   "cell_type": "code",
   "execution_count": 25,
   "id": "civilian-agenda",
   "metadata": {},
   "outputs": [
    {
     "data": {
      "text/html": [
       "<span style=\"white-space:pre; font-family: monospace\">42\n",
       "</span>"
      ]
     },
     "execution_count": 25,
     "metadata": {},
     "output_type": "execute_result"
    }
   ],
   "source": [
    "⊆42"
   ]
  },
  {
   "cell_type": "markdown",
   "id": "answering-framing",
   "metadata": {},
   "source": [
    "At a first glance, it looks like the function **failed**!\n",
    "After all, there is no box around the 42...\n",
    "But the function did not fail.\n",
    "The \"issue\" here is that simple scalars match their own enclosures.\n",
    "So, when `⊆` tried enclosing 42, nothing happened.\n",
    "\n",
    "Bear this in mind when using _nest_, but do not worry about this giving you unpleasant surprises.\n",
    "For example, pretend there is a town called `'A'` and let us call `Process` with that town name:"
   ]
  },
  {
   "cell_type": "code",
   "execution_count": 26,
   "id": "modern-fusion",
   "metadata": {},
   "outputs": [
    {
     "data": {
      "text/html": [
       "<span style=\"white-space:pre; font-family: monospace\">Town =         A\n",
       "Population =   ¯1\n",
       "Country =      ?\n",
       "Turnover =     ¯1\n",
       "</span>"
      ]
     },
     "execution_count": 26,
     "metadata": {},
     "output_type": "execute_result"
    }
   ],
   "source": [
    "Process 'A'"
   ]
  },
  {
   "cell_type": "markdown",
   "id": "trying-psychology",
   "metadata": {},
   "source": [
    "See?\n",
    "`⊆'A'` gives `'A'`, but that didn't prevent the function from correctly handling the default values for the missing pieces of information."
   ]
  },
  {
   "cell_type": "markdown",
   "id": "exact-sussex",
   "metadata": {},
   "source": [
    "## Each\n",
    "\n",
    "### Definition and Examples\n",
    "\n",
    "To avoid the necessity of processing the items of an array one after the other in an explicitly programmed loop, one can use a monadic operator called *each*, which is represented by a diaeresis symbol, which looks like `¨` and is typed with <kbd>APL</kbd>+<kbd>Shift</kbd>+<kbd>1</kbd>.\n",
    "\n",
    "As its name implies, *each* applies the function on its left (its *operand*) to each of the items of the array on its right (if the function is monadic), or to each pair of corresponding items of the arrays on its left and right (if the function is dyadic).\n",
    "\n",
    "Let us try it with some small nested vectors and a monadic function:"
   ]
  },
  {
   "cell_type": "code",
   "execution_count": 40,
   "id": "revolutionary-manner",
   "metadata": {},
   "outputs": [],
   "source": [
    "vec3 ← (5 2) (7 10 23) (52 41) (38 5 17 22)\n",
    "vec4 ← (15 12) 71023 (2 2⍴⍳4) (74 85 96)\n",
    "vec5 ← (7 5 1) (19 14 13) (33 44 55)"
   ]
  },
  {
   "cell_type": "markdown",
   "id": "controlling-creek",
   "metadata": {},
   "source": [
    "Now, we can ask for the shape of `vec3`:"
   ]
  },
  {
   "cell_type": "code",
   "execution_count": 41,
   "id": "korean-button",
   "metadata": {},
   "outputs": [
    {
     "data": {
      "text/html": [
       "<span style=\"white-space:pre; font-family: monospace\">4\n",
       "</span>"
      ]
     },
     "execution_count": 41,
     "metadata": {},
     "output_type": "execute_result"
    }
   ],
   "source": [
    "⍴vec3"
   ]
  },
  {
   "cell_type": "markdown",
   "id": "diagnostic-terry",
   "metadata": {},
   "source": [
    "Using `¨`, we can ask for the shape of *each of the items* of `vec3`:"
   ]
  },
  {
   "cell_type": "code",
   "execution_count": 42,
   "id": "precious-regard",
   "metadata": {},
   "outputs": [
    {
     "data": {
      "text/html": [
       "<span style=\"white-space:pre; font-family: monospace\">┌─┬─┬─┬─┐\n",
       "│2│3│2│4│\n",
       "└─┴─┴─┴─┘\n",
       "</span>"
      ]
     },
     "execution_count": 42,
     "metadata": {},
     "output_type": "execute_result"
    }
   ],
   "source": [
    "⍴¨vec3"
   ]
  },
  {
   "cell_type": "markdown",
   "id": "acoustic-circulation",
   "metadata": {},
   "source": [
    "We can do the same with the second vector:"
   ]
  },
  {
   "cell_type": "code",
   "execution_count": 43,
   "id": "selective-sweet",
   "metadata": {},
   "outputs": [
    {
     "data": {
      "text/html": [
       "<span style=\"white-space:pre; font-family: monospace\">┌─┬┬───┬─┐\n",
       "│2││2 2│3│\n",
       "└─┴┴───┴─┘\n",
       "</span>"
      ]
     },
     "execution_count": 43,
     "metadata": {},
     "output_type": "execute_result"
    }
   ],
   "source": [
    "⍴¨vec4"
   ]
  },
  {
   "cell_type": "markdown",
   "id": "sensitive-novelty",
   "metadata": {},
   "source": [
    "Beware! One item of `vec4` is a scalar, so its shape is empty, as shown above.\n",
    "If `]box` were off, this could look odd at first sight:"
   ]
  },
  {
   "cell_type": "code",
   "execution_count": 44,
   "id": "surrounded-timer",
   "metadata": {},
   "outputs": [
    {
     "data": {
      "text/html": [
       "<span style=\"white-space:pre; font-family: monospace\">Was ON\n",
       "</span>"
      ]
     },
     "execution_count": 44,
     "metadata": {},
     "output_type": "execute_result"
    }
   ],
   "source": [
    "]box off"
   ]
  },
  {
   "cell_type": "code",
   "execution_count": 45,
   "id": "alert-terry",
   "metadata": {},
   "outputs": [
    {
     "data": {
      "text/html": [
       "<span style=\"white-space:pre; font-family: monospace\"> 2    2 2  3 \n",
       "</span>"
      ]
     },
     "execution_count": 45,
     "metadata": {},
     "output_type": "execute_result"
    }
   ],
   "source": [
    "⍴¨vec4"
   ]
  },
  {
   "cell_type": "code",
   "execution_count": 46,
   "id": "professional-studio",
   "metadata": {},
   "outputs": [
    {
     "data": {
      "text/html": [
       "<span style=\"white-space:pre; font-family: monospace\">Was OFF\n",
       "</span>"
      ]
     },
     "execution_count": 46,
     "metadata": {},
     "output_type": "execute_result"
    }
   ],
   "source": [
    "]box on"
   ]
  },
  {
   "cell_type": "markdown",
   "id": "entitled-gamma",
   "metadata": {},
   "source": [
    "If the function specified as the operand to *each* is dyadic, the derived function is also dyadic.\n",
    "As usual, if one of the arguments is a scalar, the scalar is automatically repeated to match the shape of the other argument.\n",
    "For example, take the following vector with the names of some months:"
   ]
  },
  {
   "cell_type": "code",
   "execution_count": 47,
   "id": "possible-driving",
   "metadata": {},
   "outputs": [],
   "source": [
    "monVec ← 'January' 'February' 'March' 'April' 'May' 'June'"
   ]
  },
  {
   "cell_type": "markdown",
   "id": "outstanding-northwest",
   "metadata": {},
   "source": [
    "To take the first 3 letters of *each* vector in that vector of vectors, we would do"
   ]
  },
  {
   "cell_type": "code",
   "execution_count": 48,
   "id": "handmade-society",
   "metadata": {},
   "outputs": [
    {
     "data": {
      "text/html": [
       "<span style=\"white-space:pre; font-family: monospace\">┌───┬───┬───┬───┬───┬───┐\n",
       "│Jan│Feb│Mar│Apr│May│Jun│\n",
       "└───┴───┴───┴───┴───┴───┘\n",
       "</span>"
      ]
     },
     "execution_count": 48,
     "metadata": {},
     "output_type": "execute_result"
    }
   ],
   "source": [
    "3↑¨monVec"
   ]
  },
  {
   "cell_type": "markdown",
   "id": "supreme-anthropology",
   "metadata": {},
   "source": [
    "As we have just shown, there is no need to repeat the `3` to have the same shape as `monVec`.\n",
    "\n",
    "Naturally, the operand to *each* can also be a *user-defined function*, provided that it can be applied to all of the items of the argument array(s):"
   ]
  },
  {
   "cell_type": "code",
   "execution_count": 49,
   "id": "reflected-wheat",
   "metadata": {},
   "outputs": [
    {
     "data": {
      "text/html": [
       "<span style=\"white-space:pre; font-family: monospace\">3.5 13.3333 46.5 20.5\n",
       "</span>"
      ]
     },
     "execution_count": 49,
     "metadata": {},
     "output_type": "execute_result"
    }
   ],
   "source": [
    "Average ← {(+/⍵)÷≢⍵}\n",
    "Average¨vec3"
   ]
  },
  {
   "cell_type": "markdown",
   "id": "interim-portland",
   "metadata": {},
   "source": [
    "<!-- begin remark -->\n",
    "***Remark***:\n",
    "\n",
    " > In fact, *each* is a bit more than a \"hidden\" loop.\n",
    " >\n",
    " > Please, remember that all items of an array are scalars - either simple scalars or enclosed arrays.\n",
    " > So, in an expression like `⍴¨vec5`, shouldn't we expect the result to be just a list of three empty vectors, since the shape of a scalar is an empty vector?\n",
    " >\n",
    " > No, the *each* operator is smarter than that.\n",
    " > For each item of the argument array, the item is first *disclosed* (the \"bag\" is opened), the function is applied to the disclosed item, and the result is *enclosed* again to form a scalar (i.e., put into a new \"bag\").\n",
    " > Finally, all the new bags (scalars) are arranged in exactly the same structure (rank and shape) as the original argument array to for the final result.\n",
    "<!-- end -->\n",
    "\n",
    "So,"
   ]
  },
  {
   "cell_type": "code",
   "execution_count": 50,
   "id": "wired-digit",
   "metadata": {},
   "outputs": [
    {
     "data": {
      "text/html": [
       "<span style=\"white-space:pre; font-family: monospace\">┌─┬─┬─┐\n",
       "│3│3│3│\n",
       "└─┴─┴─┘\n",
       "</span>"
      ]
     },
     "execution_count": 50,
     "metadata": {},
     "output_type": "execute_result"
    }
   ],
   "source": [
    "⍴¨vec5"
   ]
  },
  {
   "cell_type": "markdown",
   "id": "surrounded-auction",
   "metadata": {},
   "source": [
    "is in fact equivalent to"
   ]
  },
  {
   "cell_type": "code",
   "execution_count": 51,
   "id": "chronic-bleeding",
   "metadata": {},
   "outputs": [
    {
     "data": {
      "text/html": [
       "<span style=\"white-space:pre; font-family: monospace\">┌─┬─┬─┐\n",
       "│3│3│3│\n",
       "└─┴─┴─┘\n",
       "</span>"
      ]
     },
     "execution_count": 51,
     "metadata": {},
     "output_type": "execute_result"
    }
   ],
   "source": [
    "(⊂⍴⊃vec5[1]), (⊂⍴⊃vec5[2]), (⊂⍴⊃vec5[3])"
   ]
  },
  {
   "cell_type": "code",
   "execution_count": 52,
   "id": "fitted-medicaid",
   "metadata": {},
   "outputs": [
    {
     "data": {
      "text/html": [
       "<span style=\"white-space:pre; font-family: monospace\">1\n",
       "</span>"
      ]
     },
     "execution_count": 52,
     "metadata": {},
     "output_type": "execute_result"
    }
   ],
   "source": [
    "(⍴¨vec5)≡(⊂⍴⊃vec5[1]), (⊂⍴⊃vec5[2]), (⊂⍴⊃vec5[3])"
   ]
  },
  {
   "cell_type": "markdown",
   "id": "imposed-dressing",
   "metadata": {},
   "source": [
    "If the operand to *each* is a dyadic function, the corresponding items of the left and right arguments are both disclosed before applying the function.\n",
    "\n",
    "We have seen that the operand to *each* may be a primitive function or a user-defined function.\n",
    "It may also be a *derived function* returned by another operator.\n",
    "For example, in the following expressions, the operand to *each* is not `/`, but the derived function `+/`.\n",
    "\n",
    "In this example, we sum the numbers inside each item of the vector:"
   ]
  },
  {
   "cell_type": "code",
   "execution_count": 53,
   "id": "primary-power",
   "metadata": {},
   "outputs": [
    {
     "data": {
      "text/html": [
       "<span style=\"white-space:pre; font-family: monospace\">7 40 93 82\n",
       "</span>"
      ]
     },
     "execution_count": 53,
     "metadata": {},
     "output_type": "execute_result"
    }
   ],
   "source": [
    "+/¨vec3"
   ]
  },
  {
   "cell_type": "markdown",
   "id": "underlying-frost",
   "metadata": {},
   "source": [
    "In this next one, it still works, even though one item is a matrix:"
   ]
  },
  {
   "cell_type": "code",
   "execution_count": 54,
   "id": "accessory-landscape",
   "metadata": {},
   "outputs": [
    {
     "data": {
      "text/html": [
       "<span style=\"white-space:pre; font-family: monospace\">┌──┬─────┬───┬───┐\n",
       "│27│71023│3 7│255│\n",
       "└──┴─────┴───┴───┘\n",
       "</span>"
      ]
     },
     "execution_count": 54,
     "metadata": {},
     "output_type": "execute_result"
    }
   ],
   "source": [
    "+/¨vec4"
   ]
  },
  {
   "cell_type": "markdown",
   "id": "returning-tuition",
   "metadata": {},
   "source": [
    "Beware: in some cases, the same derived function can be applied with or without the help of *each*, but the result will not be the same at all:"
   ]
  },
  {
   "cell_type": "code",
   "execution_count": 55,
   "id": "psychological-gather",
   "metadata": {},
   "outputs": [
    {
     "data": {
      "text/html": [
       "<span style=\"white-space:pre; font-family: monospace\">┌→──────────────────────────────┐\n",
       "│ ┌→────┐ ┌→───────┐ ┌→───────┐ │\n",
       "│ │7 5 1│ │19 14 13│ │33 44 55│ │\n",
       "│ └~────┘ └~───────┘ └~───────┘ │\n",
       "└∊──────────────────────────────┘\n",
       "</span>"
      ]
     },
     "execution_count": 55,
     "metadata": {},
     "output_type": "execute_result"
    }
   ],
   "source": [
    "]display vec5"
   ]
  },
  {
   "cell_type": "markdown",
   "id": "optical-ceremony",
   "metadata": {},
   "source": [
    "Without `¨`, `+/` sums the three sub-vectors together:"
   ]
  },
  {
   "cell_type": "code",
   "execution_count": 56,
   "id": "young-wonder",
   "metadata": {},
   "outputs": [
    {
     "data": {
      "text/html": [
       "<span style=\"white-space:pre; font-family: monospace\">┌────────┐\n",
       "│59 63 69│\n",
       "└────────┘\n",
       "</span>"
      ]
     },
     "execution_count": 56,
     "metadata": {},
     "output_type": "execute_result"
    }
   ],
   "source": [
    "+/vec5"
   ]
  },
  {
   "cell_type": "markdown",
   "id": "portable-average",
   "metadata": {},
   "source": [
    "With `¨`, `+/¨` will compute the sum of *each* of the sub-vectors:"
   ]
  },
  {
   "cell_type": "code",
   "execution_count": 57,
   "id": "royal-smith",
   "metadata": {},
   "outputs": [
    {
     "data": {
      "text/html": [
       "<span style=\"white-space:pre; font-family: monospace\">13 46 132\n",
       "</span>"
      ]
     },
     "execution_count": 57,
     "metadata": {},
     "output_type": "execute_result"
    }
   ],
   "source": [
    "+/¨vec5"
   ]
  },
  {
   "cell_type": "markdown",
   "id": "capable-migration",
   "metadata": {},
   "source": [
    "### The Use of Each\n",
    "\n",
    "*Each* is a \"loop cruncher\".\n",
    "Instead of programming loops, in APL you can apply any function to each of the items of an array, each of which may contain a complex set of data.\n",
    "\n",
    "This operator is also useful combined with *match* when a simple equal sign would have caused an error.\n",
    "For example, to compare two lists of names:"
   ]
  },
  {
   "cell_type": "code",
   "execution_count": 58,
   "id": "powered-material",
   "metadata": {},
   "outputs": [
    {
     "data": {
      "text/html": [
       "<span style=\"white-space:pre; font-family: monospace\">1 0 1 0\n",
       "</span>"
      ]
     },
     "execution_count": 58,
     "metadata": {},
     "output_type": "execute_result"
    }
   ],
   "source": [
    "'John' 'Julius' 'Jim' 'Jean' ≡¨ 'John' 'Oops' 'Jim' 'Jeff'"
   ]
  },
  {
   "cell_type": "markdown",
   "id": "protective-prevention",
   "metadata": {},
   "source": [
    "When used inappropriately, the *each* operator can sometimes use a large amount of memory for its intermediate results, so you may need to use it with some care.\n",
    "\n",
    "Suppose that we have a huge list `customerTover`, of turnover amounts, one item per customer (we have more than 5,000 of them!).\n",
    "Each item contains a matrix having a varying number of rows (products) and 52 columns (weeks).\n",
    "Our task is to calculate the total average turnover per week per customer.\n",
    "No problem, that's just `(+/¨+⌿¨customerTover)÷52`.\n",
    "\n",
    "However, if `customerTover` is very large, and we do not have much workspace left, the above expression may easily cause a `WS FULL` error.\n",
    "\n",
    "The reason is that the intermediate expression `+⌿¨customerTover` produces a list of 52 amounts per customer, and that may require more workspace than we have room for.\n",
    "\n",
    "Instead, we can put the entire expression into a function.\n",
    "As is often the case in APL (and in programming, in general), the hardest part of writing a function is finding a good name for it.\n",
    "Fortunately, we can get by without a name if we use an anonymous dfn, with `{(+/+⌿⍵)÷52}¨customerTover`.\n",
    "\n",
    "Because we have \"isolated\" the entire logical process in the function and used *each* to loop through the items one by one, we will at most have only one customer's data \"active\" at any time, and each intermediate result (a 52-item vector) will be thrown away before recalculating that for the next customer.\n",
    "The result of each function call is just one number, so it is much less likely that we will run into `WS FULL` problems."
   ]
  },
  {
   "cell_type": "markdown",
   "id": "choice-sperm",
   "metadata": {},
   "source": [
    "### Three Compressions!\n",
    "\n",
    "In the following we will show three expressions which look similar, but their results are very different.\n",
    "Let us first recall that `vec5` consists of three vectors, each containing three items:"
   ]
  },
  {
   "cell_type": "code",
   "execution_count": 59,
   "id": "historic-parker",
   "metadata": {},
   "outputs": [
    {
     "data": {
      "text/html": [
       "<span style=\"white-space:pre; font-family: monospace\">┌─────┬────────┬────────┐\n",
       "│7 5 1│19 14 13│33 44 55│\n",
       "└─────┴────────┴────────┘\n",
       "</span>"
      ]
     },
     "execution_count": 59,
     "metadata": {},
     "output_type": "execute_result"
    }
   ],
   "source": [
    "vec5"
   ]
  },
  {
   "cell_type": "markdown",
   "id": "wanted-blanket",
   "metadata": {},
   "source": [
    "What is the result of a *compression*?"
   ]
  },
  {
   "cell_type": "code",
   "execution_count": 60,
   "id": "brilliant-conflict",
   "metadata": {},
   "outputs": [
    {
     "data": {
      "text/html": [
       "<span style=\"white-space:pre; font-family: monospace\">┌─────┬────────┐\n",
       "│7 5 1│33 44 55│\n",
       "└─────┴────────┘\n",
       "</span>"
      ]
     },
     "execution_count": 60,
     "metadata": {},
     "output_type": "execute_result"
    }
   ],
   "source": [
    "1 0 1/vec5"
   ]
  },
  {
   "cell_type": "markdown",
   "id": "sporting-better",
   "metadata": {},
   "source": [
    "Above, the vector `1 0 1` applies to the three items of `vec5`, compressing out the middle one."
   ]
  },
  {
   "cell_type": "code",
   "execution_count": 61,
   "id": "stopped-denial",
   "metadata": {},
   "outputs": [
    {
     "data": {
      "text/html": [
       "<span style=\"white-space:pre; font-family: monospace\">┌→───────────────────┐\n",
       "│ ┌→────┐ ┌→───────┐ │\n",
       "│ │7 5 1│ │33 44 55│ │\n",
       "│ └~────┘ └~───────┘ │\n",
       "└∊───────────────────┘\n",
       "</span>"
      ]
     },
     "execution_count": 61,
     "metadata": {},
     "output_type": "execute_result"
    }
   ],
   "source": [
    "]display 1 0 1/vec5"
   ]
  },
  {
   "cell_type": "markdown",
   "id": "streaming-affairs",
   "metadata": {},
   "source": [
    "As mentioned, the compression applies to the items of `vec5`, as it would to any vector.\n",
    "So, the second item has been removed.\n",
    "\n",
    "If we use `1 0 1/¨vec5`, do you think the result is the same?\n",
    "Are you sure?\n",
    "It is not displayed the same way:"
   ]
  },
  {
   "cell_type": "code",
   "execution_count": 62,
   "id": "biological-sucking",
   "metadata": {},
   "outputs": [
    {
     "data": {
      "text/html": [
       "<span style=\"white-space:pre; font-family: monospace\">┌─────┬┬────────┐\n",
       "│7 5 1││33 44 55│\n",
       "└─────┴┴────────┘\n",
       "</span>"
      ]
     },
     "execution_count": 62,
     "metadata": {},
     "output_type": "execute_result"
    }
   ],
   "source": [
    "1 0 1/¨vec5"
   ]
  },
  {
   "cell_type": "markdown",
   "id": "photographic-reservoir",
   "metadata": {},
   "source": [
    "Things are different here: each item of `1 0 1` is paired with each sub-vector, like this:\n",
    "\n",
    " - `1/7 5 1` gives `7 5 1`;\n",
    " - `0/19 14 13` gives `⍬`; and\n",
    " - `1/33 44 55` gives `33 44 55`.\n",
    "\n",
    "Thanks to `]display`:"
   ]
  },
  {
   "cell_type": "code",
   "execution_count": 63,
   "id": "specific-acrylic",
   "metadata": {},
   "outputs": [
    {
     "data": {
      "text/html": [
       "<span style=\"white-space:pre; font-family: monospace\">┌→───────────────────────┐\n",
       "│ ┌→────┐ ┌⊖┐ ┌→───────┐ │\n",
       "│ │7 5 1│ │0│ │33 44 55│ │\n",
       "│ └~────┘ └~┘ └~───────┘ │\n",
       "└∊───────────────────────┘\n",
       "</span>"
      ]
     },
     "execution_count": 63,
     "metadata": {},
     "output_type": "execute_result"
    }
   ],
   "source": [
    "]display 1 0 1/¨vec5"
   ]
  },
  {
   "cell_type": "markdown",
   "id": "unlimited-location",
   "metadata": {},
   "source": [
    "There is a third way of using *compress*.\n",
    "If we *enclose* the left argument, the entire mask `1 0 1` is applied to each sub-vector.\n",
    "The second item of each sub-vector has been removed:"
   ]
  },
  {
   "cell_type": "code",
   "execution_count": 64,
   "id": "fundamental-trustee",
   "metadata": {},
   "outputs": [
    {
     "data": {
      "text/html": [
       "<span style=\"white-space:pre; font-family: monospace\">┌→──────────────────────┐\n",
       "│ ┌→──┐ ┌→────┐ ┌→────┐ │\n",
       "│ │7 1│ │19 13│ │33 55│ │\n",
       "│ └~──┘ └~────┘ └~────┘ │\n",
       "└∊──────────────────────┘\n",
       "</span>"
      ]
     },
     "execution_count": 64,
     "metadata": {},
     "output_type": "execute_result"
    }
   ],
   "source": [
    "]display (⊂1 0 1)/¨vec5"
   ]
  },
  {
   "cell_type": "markdown",
   "id": "extreme-journey",
   "metadata": {},
   "source": [
    "## Processing Nested Arrays\n",
    "\n",
    "We have already seen a number of operations involving nested arrays; we shall explore some more in this section.\n",
    "Because nested arrays generally tend to have a rather simple - or at least uniform - structure, we can illustrate the operations using our little vectors."
   ]
  },
  {
   "cell_type": "markdown",
   "id": "oriental-point",
   "metadata": {},
   "source": [
    "### Scalar Dyadic Functions\n",
    "\n",
    "You can refer to [this section](Some-Primitive-Functions.ipynb#Scalar-vs-Non-scalar-Functions) concerning the application of scalar dyadic functions to nested arrays.\n",
    "\n",
    "However, let us here explore again how *each* applies to scalar dyadic functions:"
   ]
  },
  {
   "cell_type": "code",
   "execution_count": 65,
   "id": "several-designer",
   "metadata": {},
   "outputs": [
    {
     "data": {
      "text/html": [
       "<span style=\"white-space:pre; font-family: monospace\">┌─────┬────────┬────────┐\n",
       "│7 5 1│19 14 13│33 44 55│\n",
       "└─────┴────────┴────────┘\n",
       "</span>"
      ]
     },
     "execution_count": 65,
     "metadata": {},
     "output_type": "execute_result"
    }
   ],
   "source": [
    "vec5"
   ]
  },
  {
   "cell_type": "code",
   "execution_count": 66,
   "id": "atmospheric-adelaide",
   "metadata": {},
   "outputs": [
    {
     "data": {
      "text/html": [
       "<span style=\"white-space:pre; font-family: monospace\">┌───────────┬────────┬────────┐\n",
       "│107 105 101│39 34 33│34 45 56│\n",
       "└───────────┴────────┴────────┘\n",
       "</span>"
      ]
     },
     "execution_count": 66,
     "metadata": {},
     "output_type": "execute_result"
    }
   ],
   "source": [
    "vec5 + 100 20 1"
   ]
  },
  {
   "cell_type": "markdown",
   "id": "engaging-advertiser",
   "metadata": {},
   "source": [
    "100, 20, and 1 are added to the three sub-vectors, respectively.\n",
    "\n",
    "Using *each*, the result is still the same:"
   ]
  },
  {
   "cell_type": "code",
   "execution_count": 67,
   "id": "gorgeous-sharing",
   "metadata": {},
   "outputs": [
    {
     "data": {
      "text/html": [
       "<span style=\"white-space:pre; font-family: monospace\">┌───────────┬────────┬────────┐\n",
       "│107 105 101│39 34 33│34 45 56│\n",
       "└───────────┴────────┴────────┘\n",
       "</span>"
      ]
     },
     "execution_count": 67,
     "metadata": {},
     "output_type": "execute_result"
    }
   ],
   "source": [
    "vec5 +¨ 100 20 1"
   ]
  },
  {
   "cell_type": "markdown",
   "id": "happy-director",
   "metadata": {},
   "source": [
    "If we *enclose* the right argument, then `100 20 1` becomes a scalar, and gets added to each of the three sub-vectors:"
   ]
  },
  {
   "cell_type": "code",
   "execution_count": 68,
   "id": "orange-wright",
   "metadata": {},
   "outputs": [
    {
     "data": {
      "text/html": [
       "<span style=\"white-space:pre; font-family: monospace\">┌────────┬─────────┬─────────┐\n",
       "│107 25 2│119 34 14│133 64 56│\n",
       "└────────┴─────────┴─────────┘\n",
       "</span>"
      ]
     },
     "execution_count": 68,
     "metadata": {},
     "output_type": "execute_result"
    }
   ],
   "source": [
    "vec5 +¨ ⊂100 20 1"
   ]
  },
  {
   "cell_type": "markdown",
   "id": "changed-midwest",
   "metadata": {},
   "source": [
    "If we drop the *each* operator, the result is the same because the scalar on the right is extended to match the shape of the left vector:"
   ]
  },
  {
   "cell_type": "code",
   "execution_count": 69,
   "id": "disturbed-singing",
   "metadata": {},
   "outputs": [
    {
     "data": {
      "text/html": [
       "<span style=\"white-space:pre; font-family: monospace\">┌────────┬─────────┬─────────┐\n",
       "│107 25 2│119 34 14│133 64 56│\n",
       "└────────┴─────────┴─────────┘\n",
       "</span>"
      ]
     },
     "execution_count": 69,
     "metadata": {},
     "output_type": "execute_result"
    }
   ],
   "source": [
    "vec5 + ⊂100 20 1"
   ]
  },
  {
   "cell_type": "markdown",
   "id": "noticed-panel",
   "metadata": {},
   "source": [
    "In fact, *each* is a superfluous operator when used with scalar dyadic functions, because scalar dyadic functions are *pervasive*, as seen in [a previous section](Some-Primitive-Functions.ipynb#Scalar-vs-Non-scalar-Functions)."
   ]
  },
  {
   "cell_type": "markdown",
   "id": "arabic-transcript",
   "metadata": {},
   "source": [
    "### Juxtaposition vs Catenation\n",
    "\n",
    "When you *catenate* a number of arrays, for example `v ← a,b,c`, you create a new array with the **contents** of `a`, `b`, and `c` catenated together to make a single new array, as we have seen many times before.\n",
    "\n",
    "Let us use a small vector and see how it works:"
   ]
  },
  {
   "cell_type": "code",
   "execution_count": 70,
   "id": "blind-department",
   "metadata": {},
   "outputs": [],
   "source": [
    "small ← 3 4 5"
   ]
  },
  {
   "cell_type": "code",
   "execution_count": 71,
   "id": "upset-bahrain",
   "metadata": {},
   "outputs": [
    {
     "data": {
      "text/html": [
       "<span style=\"white-space:pre; font-family: monospace\">1 2 3 4 5 6 7\n",
       "</span>"
      ]
     },
     "execution_count": 71,
     "metadata": {},
     "output_type": "execute_result"
    }
   ],
   "source": [
    "1 2,small,6 7"
   ]
  },
  {
   "cell_type": "markdown",
   "id": "sonic-pioneer",
   "metadata": {},
   "source": [
    "As we can see, the result is a *simple* vector.\n",
    "\n",
    "What happens here is of course that the first 3-item vector `small` and the 2-item vector `6 7` are combined into one 5-item vector.\n",
    "Then, this 5-item vector is combined with the 2-item vector `1 2` to form the resulting 7-item vector.\n",
    "Both the final and the interim results are *simple* vectors.\n",
    "\n",
    "We can now explain what happens when you *juxtapose* two or more arrays (*strand notation*), for example `v ← a b c d e`: each array is enclosed, and the resulting scalars are catenated together.\n",
    "\n",
    "Such an expression produces a vector made of as many items as we have arrays on the right.\n",
    "In the example that follows, the result is a *nested* vector:"
   ]
  },
  {
   "cell_type": "code",
   "execution_count": 72,
   "id": "cubic-concern",
   "metadata": {},
   "outputs": [
    {
     "data": {
      "text/html": [
       "<span style=\"white-space:pre; font-family: monospace\">┌─┬─┬─────┬─┬─┐\n",
       "│1│2│3 4 5│6│7│\n",
       "└─┴─┴─────┴─┴─┘\n",
       "</span>"
      ]
     },
     "execution_count": 72,
     "metadata": {},
     "output_type": "execute_result"
    }
   ],
   "source": [
    "1 2 small 6 7"
   ]
  },
  {
   "cell_type": "markdown",
   "id": "smoking-booth",
   "metadata": {},
   "source": [
    "This is what we call *vector notation* or *strand notation*.\n",
    "In this case, we juxtaposed five arrays, so we created a nested array of length five.\n",
    "\n",
    "What happens here is that each of the five arrays is first enclosed, and then the resulting five scalars are catenated together to produce the 5-item vector.\n",
    "Please remember that enclosing a simple scalar does not change it, so you can only see the difference for the array `small`:"
   ]
  },
  {
   "cell_type": "code",
   "execution_count": 73,
   "id": "familiar-shirt",
   "metadata": {},
   "outputs": [
    {
     "data": {
      "text/html": [
       "<span style=\"white-space:pre; font-family: monospace\">┌───┬─────┬─┬─┐\n",
       "│1 2│3 4 5│6│7│\n",
       "└───┴─────┴─┴─┘\n",
       "</span>"
      ]
     },
     "execution_count": 73,
     "metadata": {},
     "output_type": "execute_result"
    }
   ],
   "source": [
    "(1 2) small 6 7"
   ]
  },
  {
   "cell_type": "markdown",
   "id": "responsible-malta",
   "metadata": {},
   "source": [
    "Here, we juxtaposed four arrays, two of which are vectors.\n",
    "It is, again, an example of *strand notation*.\n",
    "\n",
    "In other words, juxtaposition works on arrays seen as building blocks, while catenation works on the contents of the arrays.\n",
    "\n",
    "It may help you to know that there is a strict relationship between catenation and *strand notation*:\n",
    "`a b c` is the same as `(⊂a),(⊂b),(⊂c)`.\n",
    "\n",
    "Here is an example:"
   ]
  },
  {
   "cell_type": "code",
   "execution_count": 74,
   "id": "geological-documentary",
   "metadata": {},
   "outputs": [],
   "source": [
    "a ← ⍬\n",
    "b ← 'apl'\n",
    "c ← 42"
   ]
  },
  {
   "cell_type": "code",
   "execution_count": 75,
   "id": "spectacular-prescription",
   "metadata": {},
   "outputs": [
    {
     "data": {
      "text/html": [
       "<span style=\"white-space:pre; font-family: monospace\">┌┬───┬──┐\n",
       "││apl│42│\n",
       "└┴───┴──┘\n",
       "</span>"
      ]
     },
     "execution_count": 75,
     "metadata": {},
     "output_type": "execute_result"
    }
   ],
   "source": [
    "a b c"
   ]
  },
  {
   "cell_type": "code",
   "execution_count": 76,
   "id": "inside-seeker",
   "metadata": {},
   "outputs": [
    {
     "data": {
      "text/html": [
       "<span style=\"white-space:pre; font-family: monospace\">┌┬───┬──┐\n",
       "││apl│42│\n",
       "└┴───┴──┘\n",
       "</span>"
      ]
     },
     "execution_count": 76,
     "metadata": {},
     "output_type": "execute_result"
    }
   ],
   "source": [
    "(⊂a),(⊂b),(⊂c)"
   ]
  },
  {
   "cell_type": "markdown",
   "id": "aggressive-california",
   "metadata": {},
   "source": [
    "The two results look the same; we can be sure they *are* the same by using `≡`:"
   ]
  },
  {
   "cell_type": "code",
   "execution_count": 77,
   "id": "apart-thomas",
   "metadata": {},
   "outputs": [
    {
     "data": {
      "text/html": [
       "<span style=\"white-space:pre; font-family: monospace\">1\n",
       "</span>"
      ]
     },
     "execution_count": 77,
     "metadata": {},
     "output_type": "execute_result"
    }
   ],
   "source": [
    "a b c≡(⊂a),(⊂b),(⊂c)"
   ]
  },
  {
   "cell_type": "markdown",
   "id": "organic-puppy",
   "metadata": {},
   "source": [
    "Now, we will turn our attention to two other expressions that give the same result,"
   ]
  },
  {
   "cell_type": "code",
   "execution_count": 78,
   "id": "humanitarian-tracy",
   "metadata": {},
   "outputs": [
    {
     "data": {
      "text/html": [
       "<span style=\"white-space:pre; font-family: monospace\">┌───┬─────┬─┬─┐\n",
       "│1 2│3 4 5│6│7│\n",
       "└───┴─────┴─┴─┘\n",
       "</span>"
      ]
     },
     "execution_count": 78,
     "metadata": {},
     "output_type": "execute_result"
    }
   ],
   "source": [
    "(1 2) small,6 7"
   ]
  },
  {
   "cell_type": "markdown",
   "id": "usual-dodge",
   "metadata": {},
   "source": [
    "and"
   ]
  },
  {
   "cell_type": "code",
   "execution_count": 79,
   "id": "elementary-cancellation",
   "metadata": {},
   "outputs": [
    {
     "data": {
      "text/html": [
       "<span style=\"white-space:pre; font-family: monospace\">┌───┬─────┬─┬─┐\n",
       "│1 2│3 4 5│6│7│\n",
       "└───┴─────┴─┴─┘\n",
       "</span>"
      ]
     },
     "execution_count": 79,
     "metadata": {},
     "output_type": "execute_result"
    }
   ],
   "source": [
    "(1 2) small 6 7"
   ]
  },
  {
   "cell_type": "markdown",
   "id": "vocational-kitty",
   "metadata": {},
   "source": [
    "These two expressions give the same result, but for a different reason than the one explained above.\n",
    "In fact, `small` is **not** catenated to the vector `6 7` as in the first example above.\n",
    "To read this expression correctly, we must recall comma *is* an APL function:\n",
    "\n",
    " - its right argument is the vector `6 7`, of course; and\n",
    " - its left argument is whatever is on its left, up to the next function.\n",
    " As there is no such function (parenthesis are not functions), the left argument is the result of the entire expression to the left of the comma, i.e., the 2-item vector `(1 2) small`.\n",
    "\n",
    "So, the result is that the 2-item vector `(1 2) small` is combined with the 2-item vector `6 7` to form the resulting 4-item vector.\n",
    "\n",
    "**Remember this**: when interpreting an expression, you must never \"break\" a sequence of juxtaposed arrays (a *strand*), even if it is a nested vector.\n",
    "\n",
    "So, in the previous example, the left argument to *catenate* is this whole array:"
   ]
  },
  {
   "cell_type": "code",
   "execution_count": 80,
   "id": "crude-round",
   "metadata": {},
   "outputs": [
    {
     "data": {
      "text/html": [
       "<span style=\"white-space:pre; font-family: monospace\">┌───┬─────┐\n",
       "│1 2│3 4 5│\n",
       "└───┴─────┘\n",
       "</span>"
      ]
     },
     "execution_count": 80,
     "metadata": {},
     "output_type": "execute_result"
    }
   ],
   "source": [
    "(1 2) small"
   ]
  },
  {
   "cell_type": "markdown",
   "id": "absolute-planner",
   "metadata": {},
   "source": [
    "When *catenate* is executed, the two items of this argument are catenated to the two items `6 7` of the right argument, making the same 4-item nested vector as in the previous example.\n",
    "\n",
    "Can you predict the result of `(1 2),small 6 7`?"
   ]
  },
  {
   "cell_type": "markdown",
   "id": "authentic-gossip",
   "metadata": {},
   "source": [
    "### Characters and Numbers\n",
    "\n",
    "We have a character matrix `cm` and a numeric matrix `nm`:"
   ]
  },
  {
   "cell_type": "code",
   "execution_count": 81,
   "id": "thrown-rebecca",
   "metadata": {},
   "outputs": [
    {
     "data": {
      "text/html": [
       "<span style=\"white-space:pre; font-family: monospace\">Francis\n",
       "Carmen \n",
       "Luciano\n",
       "</span>"
      ]
     },
     "execution_count": 81,
     "metadata": {},
     "output_type": "execute_result"
    }
   ],
   "source": [
    "⎕← cm ← 3 7⍴'FrancisCarmen Luciano'"
   ]
  },
  {
   "cell_type": "code",
   "execution_count": 82,
   "id": "criminal-sunset",
   "metadata": {},
   "outputs": [
    {
     "data": {
      "text/html": [
       "<span style=\"white-space:pre; font-family: monospace\">  21.21 1534.88 375.46  704.5 \n",
       "1125.14 1963.52 464.45 1438.25\n",
       " 796.53 1569    157.14  886.59\n",
       "</span>"
      ]
     },
     "execution_count": 82,
     "metadata": {},
     "output_type": "execute_result"
    }
   ],
   "source": [
    "⎕RL ← 73\n",
    "⎕← nm ← (?3 4⍴200000)÷100"
   ]
  },
  {
   "cell_type": "markdown",
   "id": "excellent-nirvana",
   "metadata": {},
   "source": [
    "We would like to have them displayed side by side."
   ]
  },
  {
   "cell_type": "markdown",
   "id": "oriental-boost",
   "metadata": {},
   "source": [
    "#### Solution 1\n",
    "\n",
    "The first idea is to just type `cm nm`:"
   ]
  },
  {
   "cell_type": "code",
   "execution_count": 83,
   "id": "lucky-monaco",
   "metadata": {},
   "outputs": [
    {
     "data": {
      "text/html": [
       "<span style=\"white-space:pre; font-family: monospace\">┌───────┬──────────────────────────────┐\n",
       "│Francis│  21.21 1534.88 375.46  704.5 │\n",
       "│Carmen │1125.14 1963.52 464.45 1438.25│\n",
       "│Luciano│ 796.53 1569    157.14  886.59│\n",
       "└───────┴──────────────────────────────┘\n",
       "</span>"
      ]
     },
     "execution_count": 83,
     "metadata": {},
     "output_type": "execute_result"
    }
   ],
   "source": [
    "cm nm"
   ]
  },
  {
   "cell_type": "markdown",
   "id": "minimal-return",
   "metadata": {},
   "source": [
    "The format of the result is not ideal; some values have two decimal digits, and some have only one or none.\n",
    "But there is a much more important problem.\n",
    "Imagine that we would like to draw a line on the top of the report.\n",
    "We can catenate a single dash along the first dimension:"
   ]
  },
  {
   "cell_type": "code",
   "execution_count": 84,
   "id": "western-finance",
   "metadata": {},
   "outputs": [
    {
     "data": {
      "text/html": [
       "<span style=\"white-space:pre; font-family: monospace\">┌─┬───────┬──────────────────────────────┐\n",
       "│-│Francis│  21.21 1534.88 375.46  704.5 │\n",
       "│ │Carmen │1125.14 1963.52 464.45 1438.25│\n",
       "│ │Luciano│ 796.53 1569    157.14  886.59│\n",
       "└─┴───────┴──────────────────────────────┘\n",
       "</span>"
      ]
     },
     "execution_count": 84,
     "metadata": {},
     "output_type": "execute_result"
    }
   ],
   "source": [
    "'-'⍪cm nm"
   ]
  },
  {
   "cell_type": "markdown",
   "id": "peripheral-christopher",
   "metadata": {},
   "source": [
    "This is not what we expected: the dash has been placed on the left, not on the top!\n",
    "The reason is that the expression `cm nm` does not produce a matrix, but a 2-item nested vector.\n",
    "And when one catenates a scalar to a vector, it is inserted before its first item or after the last one, to produce a longer vector.\n",
    "This cannot produce a matrix, unless *laminate* is used, but we shall not try that now."
   ]
  },
  {
   "cell_type": "markdown",
   "id": "electrical-jacksonville",
   "metadata": {},
   "source": [
    "#### Solution 2\n",
    "\n",
    "Well, if juxtaposition doesn't achieve what we want, why shouldn't we catenate our two matrices?"
   ]
  },
  {
   "cell_type": "code",
   "execution_count": 85,
   "id": "fixed-asthma",
   "metadata": {},
   "outputs": [
    {
     "data": {
      "text/html": [
       "<span style=\"white-space:pre; font-family: monospace\">Francis   21.21 1534.88 375.46  704.5 \n",
       "Carmen  1125.14 1963.52 464.45 1438.25\n",
       "Luciano  796.53 1569    157.14  886.59\n",
       "</span>"
      ]
     },
     "execution_count": 85,
     "metadata": {},
     "output_type": "execute_result"
    }
   ],
   "source": [
    "cm,nm"
   ]
  },
  {
   "cell_type": "markdown",
   "id": "fatal-attention",
   "metadata": {},
   "source": [
    "This is almost the same presentation, but not exactly; this is a matrix!\n",
    "\n",
    "Now, let us try to draw the line:"
   ]
  },
  {
   "cell_type": "code",
   "execution_count": 86,
   "id": "terminal-arrival",
   "metadata": {},
   "outputs": [
    {
     "data": {
      "text/html": [
       "<span style=\"white-space:pre; font-family: monospace\">-------       -       -      -       -\n",
       "Francis   21.21 1534.88 375.46  704.5 \n",
       "Carmen  1125.14 1963.52 464.45 1438.25\n",
       "Luciano  796.53 1569    157.14  886.59\n",
       "</span>"
      ]
     },
     "execution_count": 86,
     "metadata": {},
     "output_type": "execute_result"
    }
   ],
   "source": [
    "'-'⍪cm,nm"
   ]
  },
  {
   "cell_type": "markdown",
   "id": "vietnamese-orchestra",
   "metadata": {},
   "source": [
    "Horrible!\n",
    "What happened?\n",
    "\n",
    "When we catenated `cm` (shape `3 7`) with `nm` (shape `3 4`), we produced a 3 by 11 matrix.\n",
    "So, when we further catenated a dash on top of it, the dash was repeated 11 times to fit the last dimension of the matrix.\n",
    "This is why we obtained 7 dashes on top of the 7 text columns, and 4 dashes, each on top of each of the 4 numeric columns.\n",
    "This is still not what we want!"
   ]
  },
  {
   "cell_type": "markdown",
   "id": "controlling-craft",
   "metadata": {},
   "source": [
    "#### Solution 3\n",
    "\n",
    "The final solution will be the following: convert the numbers into text, using the *format* function, and then catenate one character matrix to another character matrix:"
   ]
  },
  {
   "cell_type": "code",
   "execution_count": 87,
   "id": "artistic-sewing",
   "metadata": {},
   "outputs": [
    {
     "data": {
      "text/html": [
       "<span style=\"white-space:pre; font-family: monospace\">-------------------------------------------\n",
       "Francis    21.21  1534.88   375.46   704.50\n",
       "Carmen   1125.14  1963.52   464.45  1438.25\n",
       "Luciano   796.53  1569.00   157.14   886.59\n",
       "</span>"
      ]
     },
     "execution_count": 87,
     "metadata": {},
     "output_type": "execute_result"
    }
   ],
   "source": [
    "'-'⍪cm,9 2⍕nm"
   ]
  },
  {
   "cell_type": "markdown",
   "id": "rapid-reducing",
   "metadata": {},
   "source": [
    "Now, the line is exactly where we want it and the numbers are nicely formatted.\n",
    "\n",
    "**Exercise 1**: try to deduce the results of the following 3 expressions (depth, rank, shape), and then verify your solutions on the computer:\n",
    "\n",
    "```APL\n",
    "(⊂cm) (⊂nm)\n",
    "(⊂cm),(⊂nm)\n",
    "cm,⊂nm\n",
    "```"
   ]
  },
  {
   "cell_type": "markdown",
   "id": "thirty-germany",
   "metadata": {},
   "source": [
    "### Some More Operations\n",
    "\n",
    "Let us use `vec5` once more."
   ]
  },
  {
   "cell_type": "markdown",
   "id": "vietnamese-quilt",
   "metadata": {},
   "source": [
    "#### Reduction"
   ]
  },
  {
   "cell_type": "code",
   "execution_count": 91,
   "id": "funny-mandate",
   "metadata": {},
   "outputs": [
    {
     "data": {
      "text/html": [
       "<span style=\"white-space:pre; font-family: monospace\">┌────────┐\n",
       "│59 63 69│\n",
       "└────────┘\n",
       "</span>"
      ]
     },
     "execution_count": 91,
     "metadata": {},
     "output_type": "execute_result"
    }
   ],
   "source": [
    "+/vec5"
   ]
  },
  {
   "cell_type": "markdown",
   "id": "focal-beauty",
   "metadata": {},
   "source": [
    "Notice the box around the final result!\n",
    "\n",
    "The three enclosed arrays (scalars) have been added together, and the result is therefore an enclosed array (a scalar).\n",
    "You can tell this from the output, because there is a box around the result.\n",
    "\n",
    "We know that the reduction of a vector (rank 1) produces a scalar (rank 0), and this rule still applies here.\n",
    "\n",
    "To obtain the _contents_ of the (enclosed) vector, we must disclose the result:"
   ]
  },
  {
   "cell_type": "code",
   "execution_count": 93,
   "id": "structured-locator",
   "metadata": {},
   "outputs": [
    {
     "data": {
      "text/html": [
       "<span style=\"white-space:pre; font-family: monospace\">59 63 69\n",
       "</span>"
      ]
     },
     "execution_count": 93,
     "metadata": {},
     "output_type": "execute_result"
    }
   ],
   "source": [
    "⊃+/vec5"
   ]
  },
  {
   "cell_type": "markdown",
   "id": "premier-shannon",
   "metadata": {},
   "source": [
    "The same thing can be observed if we try to collect all the values contained in `vec5` into a single vector, by catenating them together:"
   ]
  },
  {
   "cell_type": "code",
   "execution_count": 94,
   "id": "electoral-friday",
   "metadata": {},
   "outputs": [
    {
     "data": {
      "text/html": [
       "<span style=\"white-space:pre; font-family: monospace\">┌───────────────────────┐\n",
       "│7 5 1 19 14 13 33 44 55│\n",
       "└───────────────────────┘\n",
       "</span>"
      ]
     },
     "execution_count": 94,
     "metadata": {},
     "output_type": "execute_result"
    }
   ],
   "source": [
    ",/vec5"
   ]
  },
  {
   "cell_type": "markdown",
   "id": "hungry-source",
   "metadata": {},
   "source": [
    "It worked, but here again we might want to disclose the result:"
   ]
  },
  {
   "cell_type": "code",
   "execution_count": 95,
   "id": "unsigned-fetish",
   "metadata": {},
   "outputs": [
    {
     "data": {
      "text/html": [
       "<span style=\"white-space:pre; font-family: monospace\">7 5 1 19 14 13 33 44 55\n",
       "</span>"
      ]
     },
     "execution_count": 95,
     "metadata": {},
     "output_type": "execute_result"
    }
   ],
   "source": [
    "⊃,/vec5"
   ]
  },
  {
   "cell_type": "markdown",
   "id": "signal-graham",
   "metadata": {},
   "source": [
    "#### Index Of and Membership\n",
    "\n",
    "The function *index of* (dyadic `⍳`) may be used to search for (find the position of) items in a nested vector:"
   ]
  },
  {
   "cell_type": "code",
   "execution_count": 96,
   "id": "agricultural-moore",
   "metadata": {},
   "outputs": [
    {
     "data": {
      "text/html": [
       "<span style=\"white-space:pre; font-family: monospace\">2 4\n",
       "</span>"
      ]
     },
     "execution_count": 96,
     "metadata": {},
     "output_type": "execute_result"
    }
   ],
   "source": [
    "vec5 ⍳ (19 14 13)(1 5 7)"
   ]
  },
  {
   "cell_type": "markdown",
   "id": "proved-explorer",
   "metadata": {},
   "source": [
    "This is correct: the first vector appears in `vec5` as `vec5[2]`, and the second vector is not present.\n",
    "\n",
    "But beware, there is a booby trap:"
   ]
  },
  {
   "cell_type": "code",
   "execution_count": 97,
   "id": "resistant-inspection",
   "metadata": {},
   "outputs": [
    {
     "data": {
      "text/html": [
       "<span style=\"white-space:pre; font-family: monospace\">4 4 4\n",
       "</span>"
      ]
     },
     "execution_count": 97,
     "metadata": {},
     "output_type": "execute_result"
    }
   ],
   "source": [
    "vec5 ⍳ (19 14 13)"
   ]
  },
  {
   "cell_type": "markdown",
   "id": "challenging-modem",
   "metadata": {},
   "source": [
    "`(19 14 13)` is not a nested array.\n",
    "`vec5` is searched for each of these three numbers individually, and they are not found.\n",
    "\n",
    "To get the expected result, we need to enclose the right argument to *index of*:"
   ]
  },
  {
   "cell_type": "code",
   "execution_count": 98,
   "id": "standard-contents",
   "metadata": {},
   "outputs": [
    {
     "data": {
      "text/html": [
       "<span style=\"white-space:pre; font-family: monospace\">2\n",
       "</span>"
      ]
     },
     "execution_count": 98,
     "metadata": {},
     "output_type": "execute_result"
    }
   ],
   "source": [
    "vec5 ⍳ ⊂19 14 13"
   ]
  },
  {
   "cell_type": "markdown",
   "id": "banner-collar",
   "metadata": {},
   "source": [
    "It is also important to be aware of this when using *membership*:"
   ]
  },
  {
   "cell_type": "code",
   "execution_count": 99,
   "id": "eleven-service",
   "metadata": {},
   "outputs": [
    {
     "data": {
      "text/html": [
       "<span style=\"white-space:pre; font-family: monospace\">0 1\n",
       "</span>"
      ]
     },
     "execution_count": 99,
     "metadata": {},
     "output_type": "execute_result"
    }
   ],
   "source": [
    "(3 4 5)(7 5 1) ∊ vec5"
   ]
  },
  {
   "cell_type": "code",
   "execution_count": 100,
   "id": "chinese-tuesday",
   "metadata": {},
   "outputs": [
    {
     "data": {
      "text/html": [
       "<span style=\"white-space:pre; font-family: monospace\">0 0 0\n",
       "</span>"
      ]
     },
     "execution_count": 100,
     "metadata": {},
     "output_type": "execute_result"
    }
   ],
   "source": [
    "(7 5 1) ∊ vec5"
   ]
  },
  {
   "cell_type": "code",
   "execution_count": 101,
   "id": "precise-frequency",
   "metadata": {},
   "outputs": [
    {
     "data": {
      "text/html": [
       "<span style=\"white-space:pre; font-family: monospace\">1\n",
       "</span>"
      ]
     },
     "execution_count": 101,
     "metadata": {},
     "output_type": "execute_result"
    }
   ],
   "source": [
    "(⊂7 5 1) ∊ vec5"
   ]
  },
  {
   "cell_type": "markdown",
   "id": "educated-shaft",
   "metadata": {},
   "source": [
    "#### Indexing\n",
    "\n",
    "The rules we saw about indexing remain true: when one indexes a vector by an array, the result has the same shape as the array.\n",
    "If the vector is nested, the result is generally nested too:"
   ]
  },
  {
   "cell_type": "code",
   "execution_count": 102,
   "id": "appreciated-badge",
   "metadata": {},
   "outputs": [
    {
     "data": {
      "text/html": [
       "<span style=\"white-space:pre; font-family: monospace\">┌→───────────────────────────────┐\n",
       "│ ┌→────┐       ┌→──┐ ┌→───────┐ │\n",
       "│ │15 12│ 71023 ↓1 2│ │74 85 96│ │\n",
       "│ └~────┘       │3 4│ └~───────┘ │\n",
       "│               └~──┘            │\n",
       "└∊───────────────────────────────┘\n",
       "</span>"
      ]
     },
     "execution_count": 102,
     "metadata": {},
     "output_type": "execute_result"
    }
   ],
   "source": [
    "]display vec4"
   ]
  },
  {
   "cell_type": "code",
   "execution_count": 103,
   "id": "computational-wrong",
   "metadata": {},
   "outputs": [
    {
     "data": {
      "text/html": [
       "<span style=\"white-space:pre; font-family: monospace\">┌→─────────────────┐\n",
       "↓ ┌→───────┐       │\n",
       "│ │74 85 96│ 71023 │\n",
       "│ └~───────┘       │\n",
       "│ ┌→────┐    ┌→──┐ │\n",
       "│ │15 12│    ↓1 2│ │\n",
       "│ └~────┘    │3 4│ │\n",
       "│            └~──┘ │\n",
       "└∊─────────────────┘\n",
       "</span>"
      ]
     },
     "execution_count": 103,
     "metadata": {},
     "output_type": "execute_result"
    }
   ],
   "source": [
    "]display vec4[2 2⍴4 2 1 3]"
   ]
  },
  {
   "cell_type": "markdown",
   "id": "adjustable-maple",
   "metadata": {},
   "source": [
    "We have also seen, in [a previous section](./Data-and-Variables.ipynb#Array-Indexing), that a nested array can be used as an index.\n",
    "For example, to index items scattered throughout a matrix, the array that specifies the indices is composed of 2-item vectors (row and column indices):"
   ]
  },
  {
   "cell_type": "code",
   "execution_count": 105,
   "id": "noticed-dealing",
   "metadata": {},
   "outputs": [
    {
     "data": {
      "text/html": [
       "<span style=\"white-space:pre; font-family: monospace\">11 26 22\n",
       "14 87 52\n",
       "30 28 19\n",
       "65 40 55\n",
       "19 31 64\n",
       "33 70 44\n",
       "</span>"
      ]
     },
     "execution_count": 105,
     "metadata": {},
     "output_type": "execute_result"
    }
   ],
   "source": [
    "⎕← tests ← 6 3⍴11 26 22 14 87 52 30 28 19 65 40 55 19 31 64 33 70 44"
   ]
  },
  {
   "cell_type": "code",
   "execution_count": 106,
   "id": "speaking-tablet",
   "metadata": {},
   "outputs": [
    {
     "data": {
      "text/html": [
       "<span style=\"white-space:pre; font-family: monospace\">52 19 26\n",
       "</span>"
      ]
     },
     "execution_count": 106,
     "metadata": {},
     "output_type": "execute_result"
    }
   ],
   "source": [
    "tests[(2 3)(5 1)(1 2)]"
   ]
  },
  {
   "cell_type": "code",
   "execution_count": 107,
   "id": "virgin-richardson",
   "metadata": {},
   "outputs": [
    {
     "data": {
      "text/html": [
       "<span style=\"white-space:pre; font-family: monospace\">52 19\n",
       "26 52\n",
       "</span>"
      ]
     },
     "execution_count": 107,
     "metadata": {},
     "output_type": "execute_result"
    }
   ],
   "source": [
    "tests[2 2⍴(2 3)(5 1)(1 2)]"
   ]
  },
  {
   "cell_type": "markdown",
   "id": "varied-wireless",
   "metadata": {},
   "source": [
    "Let us try to obtain the same result with the *index* function, or *squad*:"
   ]
  },
  {
   "cell_type": "code",
   "execution_count": 108,
   "id": "exciting-counter",
   "metadata": {},
   "outputs": [
    {
     "name": "stderr",
     "output_type": "stream",
     "text": [
      "LENGTH ERROR\n",
      "      (2 3)(5 1)(1 2)⌷tests\n",
      "                     ∧\n"
     ]
    }
   ],
   "source": [
    "(2 3)(5 1)(1 2) ⌷ tests"
   ]
  },
  {
   "cell_type": "markdown",
   "id": "stuck-monte",
   "metadata": {},
   "source": [
    "The above cannot work.\n",
    "*Index* expects a 2-item vector: a list of rows and a list of columns."
   ]
  },
  {
   "cell_type": "code",
   "execution_count": 109,
   "id": "bearing-validation",
   "metadata": {},
   "outputs": [
    {
     "name": "stderr",
     "output_type": "stream",
     "text": [
      "RANK ERROR\n",
      "      (2 3)(5 1)(1 2)⌷¨tests\n",
      "                     ∧\n"
     ]
    }
   ],
   "source": [
    "(2 3)(5 1)(1 2) ⌷¨ tests"
   ]
  },
  {
   "cell_type": "markdown",
   "id": "complete-glucose",
   "metadata": {},
   "source": [
    "This second attempt also won't work: each item of the left argument cannot be associated with a corresponding item of `tests`, because they do not have the same shape.\n",
    "\n",
    "In order to get this to work, we need to enclose `tests`:"
   ]
  },
  {
   "cell_type": "code",
   "execution_count": 110,
   "id": "occupied-refrigerator",
   "metadata": {},
   "outputs": [
    {
     "data": {
      "text/html": [
       "<span style=\"white-space:pre; font-family: monospace\">52 19 26\n",
       "</span>"
      ]
     },
     "execution_count": 110,
     "metadata": {},
     "output_type": "execute_result"
    }
   ],
   "source": [
    "(2 3)(5 1)(1 2) ⌷¨ ⊂tests"
   ]
  },
  {
   "cell_type": "markdown",
   "id": "beneficial-screw",
   "metadata": {},
   "source": [
    "This last expression worked correctly. **Each** couple of indices is paired with `tests` as a whole because it has been enclosed, and therefore the scalar on the right is extended to match the 3-item vector on the left."
   ]
  },
  {
   "cell_type": "markdown",
   "id": "remarkable-commons",
   "metadata": {},
   "source": [
    "#### Always Keep In Mind the Following Rules\n",
    "\n",
    " - The items of a nested array are scalars and are therefore always processed as scalars.\n",
    "\n",
    "In the expression"
   ]
  },
  {
   "cell_type": "code",
   "execution_count": 112,
   "id": "narrative-salon",
   "metadata": {},
   "outputs": [
    {
     "data": {
      "text/html": [
       "<span style=\"white-space:pre; font-family: monospace\">┌─────┬─────┐\n",
       "│50 60│20 10│\n",
       "└─────┴─────┘\n",
       "</span>"
      ]
     },
     "execution_count": 112,
     "metadata": {},
     "output_type": "execute_result"
    }
   ],
   "source": [
    "(5 6)(4 2)×10 5"
   ]
  },
  {
   "cell_type": "markdown",
   "id": "bronze-grammar",
   "metadata": {},
   "source": [
    "Above, `(5 6)` is multiplied by `10` and `(4 2)` is multiplied by `5`.\n",
    "\n",
    " - A single list of values placed between parentheses is not a nested array:"
   ]
  },
  {
   "cell_type": "code",
   "execution_count": 113,
   "id": "dirty-genome",
   "metadata": {},
   "outputs": [
    {
     "data": {
      "text/html": [
       "<span style=\"white-space:pre; font-family: monospace\">45 77 80\n",
       "</span>"
      ]
     },
     "execution_count": 113,
     "metadata": {},
     "output_type": "execute_result"
    }
   ],
   "source": [
    "(45 77 80)"
   ]
  },
  {
   "cell_type": "markdown",
   "id": "identical-reduction",
   "metadata": {},
   "source": [
    "The parentheses do nothing here.\n",
    "\n",
    " - An expression is always evaluated from right to left, one function at a time. Note that strands can be easy to miss when determining what the left argument of a function is.\n",
    "\n",
    "In the expression `2×a 3+b`, the left argument of the *plus* function is not `3` alone, but the vector `a 3`.\n",
    "\n",
    "Before we go any further with nested arrays, we recommend that you try to solve some exercises."
   ]
  },
  {
   "cell_type": "markdown",
   "id": "unsigned-imperial",
   "metadata": {},
   "source": [
    "### Intermission Exercises\n",
    "\n",
    "**Exercise 2**:\n",
    "\n",
    "You are given three numeric vectors:"
   ]
  },
  {
   "cell_type": "code",
   "execution_count": 1,
   "id": "fixed-number",
   "metadata": {},
   "outputs": [],
   "source": [
    "a ← 1 2 3\n",
    "b ← 4 5 6\n",
    "c ← 7 8 9"
   ]
  },
  {
   "cell_type": "markdown",
   "id": "olympic-absolute",
   "metadata": {},
   "source": [
    "Try to predict the results given by the following expressions in terms of depth, rank, and shape.\n",
    "Then check your results using `]display`, or the appropriate primitives.\n",
    "\n",
    " 1. `a b c × 1 2 3`\n",
    " 1. `(10 20),a`\n",
    " 1. `(10 20),a b`\n",
    " 1. `a b 2 × c[2]`\n",
    " 1. `10×a 20×b`\n",
    "\n",
    "**Exercise 3**:\n",
    "\n",
    "Same question for the following expressions:\n",
    "\n",
    " 1. `+/a b c`\n",
    " 1. `+/¨a b c`\n",
    " 1. `1 0 1/¨a b c`\n",
    " 1. `(a b c)⍳(4 5 6)`\n",
    " 1. `1 10 3 ∊ a`\n",
    " 1. `(⊂1 0 1)/¨a b c`\n",
    " 1. `1 10 3 ∊ a b c`\n",
    "\n",
    "**Exercise 4**:\n",
    "\n",
    "Consider the following nested array:"
   ]
  },
  {
   "cell_type": "code",
   "execution_count": 4,
   "id": "robust-actor",
   "metadata": {},
   "outputs": [
    {
     "data": {
      "text/html": [
       "<span style=\"white-space:pre; font-family: monospace\">┌─┬─┬───┬─┬─┐\n",
       "│1│2│3 4│7│8│\n",
       "│ │ │5 6│ │ │\n",
       "└─┴─┴───┴─┴─┘\n",
       "</span>"
      ]
     },
     "execution_count": 4,
     "metadata": {},
     "output_type": "execute_result"
    }
   ],
   "source": [
    "⎕← na ← 1 2 (2 2⍴3 4 5 6)7 8"
   ]
  },
  {
   "cell_type": "markdown",
   "id": "worst-bookmark",
   "metadata": {},
   "source": [
    "What are the results of `+/na` and `,/na`?"
   ]
  },
  {
   "cell_type": "markdown",
   "id": "collaborative-table",
   "metadata": {},
   "source": [
    "## Split and Mix\n",
    "\n",
    "We saw that in some cases we can choose to represent data either as a matrix or as a nested vector; remember `monMat` and `monVec`.\n",
    "\n",
    "Two primitive monadic functions are provided to switch from one form to the other:\n",
    "\n",
    " - _Mix_ (`↑`) returns an array of _higher rank_ and _lower depth_ than that of its argument; and\n",
    " - _Split_ (`↓`) returns an array of _lower rank_ and _higher depth_ than that of its argument."
   ]
  },
  {
   "cell_type": "markdown",
   "id": "norwegian-tonight",
   "metadata": {},
   "source": [
    "### Basic Use\n",
    "\n",
    "Let us apply _mix_ to two small vectors:"
   ]
  },
  {
   "cell_type": "code",
   "execution_count": 10,
   "id": "convertible-possibility",
   "metadata": {},
   "outputs": [
    {
     "data": {
      "text/html": [
       "<span style=\"white-space:pre; font-family: monospace\">One  \n",
       "Two  \n",
       "Three\n",
       "</span>"
      ]
     },
     "execution_count": 10,
     "metadata": {},
     "output_type": "execute_result"
    }
   ],
   "source": [
    "vtex ← 'One' 'Two' 'Three'\n",
    "vnum ← (6 2) 14 (7 5 3)\n",
    "⎕← rtex ← ↑ vtex"
   ]
  },
  {
   "cell_type": "markdown",
   "id": "bright-february",
   "metadata": {},
   "source": [
    "Notice how we have converted a nested vector (of depth 2 and rank 1) into a simple matrix (of depth 1 and rank 2)."
   ]
  },
  {
   "cell_type": "code",
   "execution_count": 14,
   "id": "raised-alfred",
   "metadata": {},
   "outputs": [
    {
     "data": {
      "text/html": [
       "<span style=\"white-space:pre; font-family: monospace\"> 6 2 0\n",
       "14 0 0\n",
       " 7 5 3\n",
       "</span>"
      ]
     },
     "execution_count": 14,
     "metadata": {},
     "output_type": "execute_result"
    }
   ],
   "source": [
    "⎕← rnum ← ↑ vnum"
   ]
  },
  {
   "cell_type": "markdown",
   "id": "portuguese-disposal",
   "metadata": {},
   "source": [
    "In this example, we have converted a nested vector (of depth -2 and rank 1) into a simple matrix (of depth 1 and rank 2).\n",
    "\n",
    "Of course the operation is possible only because the shorter items are padded with blanks (for text) or zeroes (for numbers), or more generally by the appropriate _fill item_ (this notion will be explained soon).\n",
    "\n",
    "The last example above shows that when we say that the depth is reduced, we actually mean that the _magnitude_ of the depth is reduced.\n",
    "\n",
    "And now, let us apply `split` to the matrices we have just produced:"
   ]
  },
  {
   "cell_type": "code",
   "execution_count": 15,
   "id": "senior-garden",
   "metadata": {
    "scrolled": true
   },
   "outputs": [
    {
     "data": {
      "text/html": [
       "<span style=\"white-space:pre; font-family: monospace\">┌─────┬─────┬─────┐\n",
       "│One  │Two  │Three│\n",
       "└─────┴─────┴─────┘\n",
       "</span>"
      ]
     },
     "execution_count": 15,
     "metadata": {},
     "output_type": "execute_result"
    }
   ],
   "source": [
    "⎕← newtex ← ↓rtex"
   ]
  },
  {
   "cell_type": "markdown",
   "id": "adjusted-period",
   "metadata": {},
   "source": [
    "We converted a simple matrix (of depth 1 and rank 2) into a nested vector (of depth 2 and rank 1)."
   ]
  },
  {
   "cell_type": "code",
   "execution_count": 16,
   "id": "surprised-subject",
   "metadata": {},
   "outputs": [
    {
     "data": {
      "text/html": [
       "<span style=\"white-space:pre; font-family: monospace\">┌─────┬──────┬─────┐\n",
       "│6 2 0│14 0 0│7 5 3│\n",
       "└─────┴──────┴─────┘\n",
       "</span>"
      ]
     },
     "execution_count": 16,
     "metadata": {},
     "output_type": "execute_result"
    }
   ],
   "source": [
    "⎕← newnum ← ↓rnum"
   ]
  },
  {
   "cell_type": "markdown",
   "id": "single-difference",
   "metadata": {},
   "source": [
    "Note that the two new vectors (`newtex` and `newnum`) are not identical to the original ones (`vtex` and `vnum`) because, when they were converted into the matrices `rtex` and `rnum`, the shorter items were padded.\n",
    "When one splits a matrix, the items of the result all have the same size.\n",
    "\n",
    "#### Mix applied to heterogeneous data\n",
    "\n",
    "The examples shown above represent very common uses of _mix_ and _split_.\n",
    "However, it is of course also possible to apply the functions to heterogeneous data.\n",
    "\n",
    "For example, we can mix text and numbers:"
   ]
  },
  {
   "cell_type": "code",
   "execution_count": 18,
   "id": "japanese-drunk",
   "metadata": {},
   "outputs": [
    {
     "data": {
      "text/html": [
       "<span style=\"white-space:pre; font-family: monospace\"> M  i x e d\n",
       "11 43 0 0 0\n",
       "</span>"
      ]
     },
     "execution_count": 18,
     "metadata": {},
     "output_type": "execute_result"
    }
   ],
   "source": [
    "↑'Mixed' (11 43)"
   ]
  },
  {
   "cell_type": "markdown",
   "id": "central-seller",
   "metadata": {},
   "source": [
    "And we can also mix a simple vector with a nested one.\n",
    "As expected, the result below is a 2 by 3 matrix:"
   ]
  },
  {
   "cell_type": "code",
   "execution_count": 19,
   "id": "organizational-steering",
   "metadata": {},
   "outputs": [
    {
     "data": {
      "text/html": [
       "<span style=\"white-space:pre; font-family: monospace\">┌───┬──┬──┐\n",
       "│Y  │e │s │\n",
       "├───┼──┼──┤\n",
       "│Oui│Da│Si│\n",
       "└───┴──┴──┘\n",
       "</span>"
      ]
     },
     "execution_count": 19,
     "metadata": {},
     "output_type": "execute_result"
    }
   ],
   "source": [
    "↑ 'Yes' ('Oui' 'Da' 'Si')"
   ]
  },
  {
   "cell_type": "markdown",
   "id": "italic-wyoming",
   "metadata": {},
   "source": [
    "### Axis Specification\n",
    "\n",
    "#### Split\n",
    "\n",
    "When we apply the function _split_ to an array, its rank will decrease, so we must specify which of its dimensions is to be suppressed.\n",
    "If we don't specify it explicitly, the default is to suppress the last dimension.\n",
    "\n",
    "Let us work on `chemistry`, a matrix we used earlier:"
   ]
  },
  {
   "cell_type": "code",
   "execution_count": 20,
   "id": "received-algorithm",
   "metadata": {},
   "outputs": [
    {
     "data": {
      "text/html": [
       "<span style=\"white-space:pre; font-family: monospace\">H2SO4\n",
       "CaCO3\n",
       "Fe2O3\n",
       "</span>"
      ]
     },
     "execution_count": 20,
     "metadata": {},
     "output_type": "execute_result"
    }
   ],
   "source": [
    "⎕← chemistry ← 3 5⍴'H2SO4CaCO3Fe2O3'"
   ]
  },
  {
   "cell_type": "markdown",
   "id": "funny-subject",
   "metadata": {},
   "source": [
    "In this case, there are two possible uses of _split_, we can apply it either to the first dimension or to the second dimension.\n",
    "\n",
    "If we specify the first axis, the matrix is split column-wise:"
   ]
  },
  {
   "cell_type": "code",
   "execution_count": 21,
   "id": "expanded-reaction",
   "metadata": {},
   "outputs": [
    {
     "data": {
      "text/html": [
       "<span style=\"white-space:pre; font-family: monospace\">┌───┬───┬───┬───┬───┐\n",
       "│HCF│2ae│SC2│OOO│433│\n",
       "└───┴───┴───┴───┴───┘\n",
       "</span>"
      ]
     },
     "execution_count": 21,
     "metadata": {},
     "output_type": "execute_result"
    }
   ],
   "source": [
    "↓[1]chemistry"
   ]
  },
  {
   "cell_type": "markdown",
   "id": "musical-steal",
   "metadata": {},
   "source": [
    "If we specify the second axis, the matrix is split row-wise:"
   ]
  },
  {
   "cell_type": "code",
   "execution_count": 24,
   "id": "chubby-essence",
   "metadata": {},
   "outputs": [
    {
     "data": {
      "text/html": [
       "<span style=\"white-space:pre; font-family: monospace\">┌─────┬─────┬─────┐\n",
       "│H2SO4│CaCO3│Fe2O3│\n",
       "└─────┴─────┴─────┘\n",
       "</span>"
      ]
     },
     "execution_count": 24,
     "metadata": {},
     "output_type": "execute_result"
    }
   ],
   "source": [
    "↓[2]chemistry"
   ]
  },
  {
   "cell_type": "markdown",
   "id": "three-function",
   "metadata": {},
   "source": [
    "If we omit the axis specification, _split_ defaults to the last axis:"
   ]
  },
  {
   "cell_type": "code",
   "execution_count": 25,
   "id": "digital-poster",
   "metadata": {},
   "outputs": [
    {
     "data": {
      "text/html": [
       "<span style=\"white-space:pre; font-family: monospace\">┌─────┬─────┬─────┐\n",
       "│H2SO4│CaCO3│Fe2O3│\n",
       "└─────┴─────┴─────┘\n",
       "</span>"
      ]
     },
     "execution_count": 25,
     "metadata": {},
     "output_type": "execute_result"
    }
   ],
   "source": [
    "↓chemistry"
   ]
  },
  {
   "cell_type": "markdown",
   "id": "unable-conditioning",
   "metadata": {},
   "source": [
    "#### Mix\n",
    "\n",
    "The use of _mix_ is a bit more complex because it adds a new dimension to an existing array.\n",
    "So does the function _laminate_, and the two functions use the same convention to specify where to insert the new dimension.\n",
    "\n",
    "If we apply the function _mix_ to a 3-item nested vector of vectors, in which the largest item is an enclosed 5-item vector, the result must be either a 5 by 3 matrix, or a 3 by 5 matrix (the default).\n",
    "\n",
    "In the same way as for _laminate_, a new dimension is created.\n",
    "This new dimension can be inserted before or after the existing dimension.\n",
    "The programmer decides this by specifying an axis:\n",
    "\n",
    " - `[0.5]` inserts the new dimension **before** the existing one, resulting in a 5 by 3 matrix; or\n",
    " - `[1.5]` inserts the new dimension **after** the existing one, resulting in a 3 by 5 matrix."
   ]
  },
  {
   "cell_type": "code",
   "execution_count": 1,
   "id": "private-lease",
   "metadata": {},
   "outputs": [
    {
     "data": {
      "text/html": [
       "<span style=\"white-space:pre; font-family: monospace\">OTT\n",
       "nwh\n",
       "eor\n",
       "  e\n",
       "  e\n",
       "</span>"
      ]
     },
     "execution_count": 1,
     "metadata": {},
     "output_type": "execute_result"
    }
   ],
   "source": [
    "↑[0.5]'One' 'Two' 'Three'"
   ]
  },
  {
   "cell_type": "code",
   "execution_count": 2,
   "id": "handy-geneva",
   "metadata": {},
   "outputs": [
    {
     "data": {
      "text/html": [
       "<span style=\"white-space:pre; font-family: monospace\">One  \n",
       "Two  \n",
       "Three\n",
       "</span>"
      ]
     },
     "execution_count": 2,
     "metadata": {},
     "output_type": "execute_result"
    }
   ],
   "source": [
    "↑[1.5]'One' 'Two' 'Three'"
   ]
  },
  {
   "cell_type": "markdown",
   "id": "broken-singles",
   "metadata": {},
   "source": [
    "The last example is the default behaviour, where the new dimension is inserted after the existing one:"
   ]
  },
  {
   "cell_type": "code",
   "execution_count": 4,
   "id": "acoustic-beaver",
   "metadata": {},
   "outputs": [
    {
     "data": {
      "text/html": [
       "<span style=\"white-space:pre; font-family: monospace\">One  \n",
       "Two  \n",
       "Three\n",
       "</span>"
      ]
     },
     "execution_count": 4,
     "metadata": {},
     "output_type": "execute_result"
    }
   ],
   "source": [
    "↑'One' 'Two' 'Three'"
   ]
  },
  {
   "cell_type": "markdown",
   "id": "fiscal-founder",
   "metadata": {},
   "source": [
    "Let us now work with a nested matrix:"
   ]
  },
  {
   "cell_type": "code",
   "execution_count": 2,
   "id": "geographic-prompt",
   "metadata": {},
   "outputs": [
    {
     "data": {
      "text/html": [
       "<span style=\"white-space:pre; font-family: monospace\">┌────┬────┬────┐\n",
       "│John│Mike│Anna│\n",
       "├────┼────┼────┤\n",
       "│Noah│Suzy│Paul│\n",
       "└────┴────┴────┘\n",
       "</span>"
      ]
     },
     "execution_count": 2,
     "metadata": {},
     "output_type": "execute_result"
    }
   ],
   "source": [
    "⎕← friends ← 2 3⍴'John' 'Mike' 'Anna' 'Noah' 'Suzy' 'Paul'"
   ]
  },
  {
   "cell_type": "markdown",
   "id": "handy-variable",
   "metadata": {},
   "source": [
    "The shape of this matrix is `2 3`, and its items are all of length `4`.\n",
    "So, _mix_ can produce three different results, according to axis specifications as follows:\n",
    "\n",
    "| With the axis | the new dimension is inserted | and the resulting shape is |\n",
    "| -: | -: | -: |\n",
    "| `[2.5]` | after `2 3` | <code>  2   3 4</code> |\n",
    "| `[1.5]` | between `2` and `3` | <code>  2 4 3  </code> |\n",
    "| `[0.5]` | before `2 3` | <code>4 2   3  </code> |"
   ]
  },
  {
   "cell_type": "markdown",
   "id": "increasing-annex",
   "metadata": {},
   "source": [
    "Each of these three cases is illustrated below."
   ]
  },
  {
   "cell_type": "code",
   "execution_count": 3,
   "id": "diagnostic-thursday",
   "metadata": {},
   "outputs": [
    {
     "data": {
      "text/html": [
       "<span style=\"white-space:pre; font-family: monospace\">John\n",
       "Mike\n",
       "Anna\n",
       "    \n",
       "Noah\n",
       "Suzy\n",
       "Paul\n",
       "</span>"
      ]
     },
     "execution_count": 3,
     "metadata": {},
     "output_type": "execute_result"
    }
   ],
   "source": [
    "↑[2.5]friends    ⍝ Default case, [2.5] was unnecessary."
   ]
  },
  {
   "cell_type": "code",
   "execution_count": 21,
   "id": "noticed-software",
   "metadata": {},
   "outputs": [
    {
     "data": {
      "text/html": [
       "<span style=\"white-space:pre; font-family: monospace\">2 3 4\n",
       "</span>"
      ]
     },
     "execution_count": 21,
     "metadata": {},
     "output_type": "execute_result"
    }
   ],
   "source": [
    "⍴↑[2.5]friends"
   ]
  },
  {
   "cell_type": "code",
   "execution_count": 22,
   "id": "approximate-boundary",
   "metadata": {},
   "outputs": [
    {
     "data": {
      "text/html": [
       "<span style=\"white-space:pre; font-family: monospace\">JMA\n",
       "oin\n",
       "hkn\n",
       "nea\n",
       "   \n",
       "NSP\n",
       "oua\n",
       "azu\n",
       "hyl\n",
       "</span>"
      ]
     },
     "execution_count": 22,
     "metadata": {},
     "output_type": "execute_result"
    }
   ],
   "source": [
    "↑[1.5]friends"
   ]
  },
  {
   "cell_type": "code",
   "execution_count": 23,
   "id": "greater-blind",
   "metadata": {},
   "outputs": [
    {
     "data": {
      "text/html": [
       "<span style=\"white-space:pre; font-family: monospace\">2 4 3\n",
       "</span>"
      ]
     },
     "execution_count": 23,
     "metadata": {},
     "output_type": "execute_result"
    }
   ],
   "source": [
    "⍴↑[1.5]friends"
   ]
  },
  {
   "cell_type": "code",
   "execution_count": 24,
   "id": "stuffed-services",
   "metadata": {},
   "outputs": [
    {
     "data": {
      "text/html": [
       "<span style=\"white-space:pre; font-family: monospace\">JMA\n",
       "NSP\n",
       "   \n",
       "oin\n",
       "oua\n",
       "   \n",
       "hkn\n",
       "azu\n",
       "   \n",
       "nea\n",
       "hyl\n",
       "</span>"
      ]
     },
     "execution_count": 24,
     "metadata": {},
     "output_type": "execute_result"
    }
   ],
   "source": [
    "↑[0.5]friends"
   ]
  },
  {
   "cell_type": "code",
   "execution_count": 25,
   "id": "subsequent-parking",
   "metadata": {},
   "outputs": [
    {
     "data": {
      "text/html": [
       "<span style=\"white-space:pre; font-family: monospace\">4 2 3\n",
       "</span>"
      ]
     },
     "execution_count": 25,
     "metadata": {},
     "output_type": "execute_result"
    }
   ],
   "source": [
    "⍴↑[0.5]friends"
   ]
  },
  {
   "cell_type": "markdown",
   "id": "accomplished-timer",
   "metadata": {},
   "source": [
    "In the first example, the names are placed \"horizontally\" as rows in two sub-matrices.\n",
    "\n",
    "In the second case, they are placed \"vertically\" in columns.\n",
    "\n",
    "The third case is more difficult to read; the names are positioned perpendicularly to the matrices, with one letter in each.\n",
    "You might like to imagine that the letters are arranged in a cube, and that you are viewing it from three different positions.\n",
    "\n",
    "Notice that, naturally, there is a connection between using `↑[k]` and using _mix_ followed by _dyadic transpose_.\n",
    "\n",
    "The tables above have shown that the main difference between using the default _mix_, or using _mix_ with _axis_, pertains to the place where the new axis gets inserted into shape of the result.\n",
    "Therefore, one can always use _dyadic transpose_ after _mix_ to shuffle the axis of the result to the intended position.\n",
    "\n",
    "Let us revisit the examples above using `friends`.\n",
    "\n",
    "`↑[0.5]friends` will have a resulting shape of `4 2 3`, while `↑friends` has a shape of `2 3 4`.\n",
    "Therefore, _dyadic transpose_ needs to move the last axis of `↑friends` to the front:"
   ]
  },
  {
   "cell_type": "code",
   "execution_count": 13,
   "id": "editorial-visibility",
   "metadata": {},
   "outputs": [
    {
     "data": {
      "text/html": [
       "<span style=\"white-space:pre; font-family: monospace\">JMA\n",
       "NSP\n",
       "   \n",
       "oin\n",
       "oua\n",
       "   \n",
       "hkn\n",
       "azu\n",
       "   \n",
       "nea\n",
       "hyl\n",
       "</span>"
      ]
     },
     "execution_count": 13,
     "metadata": {},
     "output_type": "execute_result"
    }
   ],
   "source": [
    "2 3 1⍉↑friends"
   ]
  },
  {
   "cell_type": "code",
   "execution_count": 14,
   "id": "potential-cisco",
   "metadata": {},
   "outputs": [
    {
     "data": {
      "text/html": [
       "<span style=\"white-space:pre; font-family: monospace\">1\n",
       "</span>"
      ]
     },
     "execution_count": 14,
     "metadata": {},
     "output_type": "execute_result"
    }
   ],
   "source": [
    "(↑[0.5]friends)≡2 3 1⍉↑friends"
   ]
  },
  {
   "cell_type": "markdown",
   "id": "mental-poker",
   "metadata": {},
   "source": [
    "Recall that the left argument of _dyadic transpose_ tells you the position to which each axis goes.\n",
    "If `la` is the left argument of dyadic transpose, `la ← 2 3 1`, then `la[1]` tells us where the 1st axis goes, `la[2]` tells us where the 2nd axis goes, and `la[3]` tells us where the 3rd (and last) axis goes.\n",
    "\n",
    "Because `la[3]` is `1`, we know that the last axis (which was created by _mix_) will now become the first axis, and the axes that were in positions `1` and `2` will move one position down, to `2` and `3`.\n",
    "\n",
    "Similarly, we can determine what should be the left argument to _dyadic transpose_ if we were to use it instead of doing `↑[1.5]friends`.\n",
    "With `↑[1.5]`, we want the new axis to go in the middle.\n",
    "If we work from `↑friends`, the last axis in `↑friends` needs to go to position `2`, so we have `la ← ? ? 2`.\n",
    "We just have to fill in the rest of the left argument, making sure that the original axes remain ordered:"
   ]
  },
  {
   "cell_type": "code",
   "execution_count": 16,
   "id": "figured-dealer",
   "metadata": {},
   "outputs": [
    {
     "data": {
      "text/html": [
       "<span style=\"white-space:pre; font-family: monospace\">JMA\n",
       "oin\n",
       "hkn\n",
       "nea\n",
       "   \n",
       "NSP\n",
       "oua\n",
       "azu\n",
       "hyl\n",
       "</span>"
      ]
     },
     "execution_count": 16,
     "metadata": {},
     "output_type": "execute_result"
    }
   ],
   "source": [
    "la ← 1 3 2\n",
    "la⍉↑friends"
   ]
  },
  {
   "cell_type": "code",
   "execution_count": 17,
   "id": "electoral-beach",
   "metadata": {},
   "outputs": [
    {
     "data": {
      "text/html": [
       "<span style=\"white-space:pre; font-family: monospace\">1\n",
       "</span>"
      ]
     },
     "execution_count": 17,
     "metadata": {},
     "output_type": "execute_result"
    }
   ],
   "source": [
    "(↑[1.5]friends)≡la⍉↑friends"
   ]
  },
  {
   "cell_type": "markdown",
   "id": "identical-travel",
   "metadata": {},
   "source": [
    "## Type, Prototype, Fill Item\n",
    "\n",
    "Some operations like _expand_ or _take_ may insert new additional items into an array.\n",
    "Up to now, things were _simple_; numeric arrays were expanded with zeroes and character arrays were expanded with blanks.\n",
    "But what will happen if the array contains both numbers and characters (a _mixed_ array), or if it is a nested array?\n",
    "\n",
    "We need a variable to experiment a little:"
   ]
  },
  {
   "cell_type": "code",
   "execution_count": 61,
   "id": "prepared-daisy",
   "metadata": {},
   "outputs": [
    {
     "data": {
      "text/html": [
       "<span style=\"white-space:pre; font-family: monospace\">┌──┬───┬─┬────────┐\n",
       "│19│1 2│A│┌────┬─┐│\n",
       "│  │3 4│P││5   │8││\n",
       "│  │   │L│├────┼─┤│\n",
       "│  │   │ ││Nuts│9││\n",
       "│  │   │ │└────┴─┘│\n",
       "└──┴───┴─┴────────┘\n",
       "</span>"
      ]
     },
     "execution_count": 61,
     "metadata": {},
     "output_type": "execute_result"
    }
   ],
   "source": [
    "⎕← hogwash ← 19 (2 2⍴⍳4) (3 1⍴'APL') (2 2⍴5 8 'Nuts' 9)"
   ]
  },
  {
   "cell_type": "markdown",
   "id": "distant-placement",
   "metadata": {},
   "source": [
    "What would be the result of expressions like `6↑hogwash` or `1 1 0 1 0 1\\hogwash`?\n",
    "\n",
    "In general, when expanding an array, APL inserts _fill items_, and it does so using the _prototype_ of the array.\n",
    "In order to understand what the _prototype_ of `hogwash` is, we first need to understand what the _type_ of an array is.\n",
    "\n",
    "<!-- begin definition style=note -->\n",
    "***Definition***:\n",
    "\n",
    " > The _type_ of an array is an array with the exact same structure (shape, rank, and depth, for all levels of nesting) in which all numbers are replaced by zeroes and all characters are replaced by blanks.\n",
    "<!-- end -->\n",
    "\n",
    "For example, here is the _type_ of `hogwash`:"
   ]
  },
  {
   "cell_type": "code",
   "execution_count": 65,
   "id": "quarterly-variation",
   "metadata": {},
   "outputs": [
    {
     "data": {
      "text/html": [
       "<span style=\"white-space:pre; font-family: monospace\">┌─┬───┬─┬────────┐\n",
       "│0│0 0│ │┌────┬─┐│\n",
       "│ │0 0│ ││0   │0││\n",
       "│ │   │ │├────┼─┤│\n",
       "│ │   │ ││    │0││\n",
       "│ │   │ │└────┴─┘│\n",
       "└─┴───┴─┴────────┘\n",
       "</span>"
      ]
     },
     "execution_count": 65,
     "metadata": {},
     "output_type": "execute_result"
    }
   ],
   "source": [
    "⎕← hogwashType ← 0 (2 2⍴0) (3 1⍴' ') (2 2⍴0 0 '    ' 0)"
   ]
  },
  {
   "cell_type": "markdown",
   "id": "driven-identifier",
   "metadata": {},
   "source": [
    "As we can (not) see, the _type_ of a nested array may be difficult to interpret because of the invisible blanks:"
   ]
  },
  {
   "cell_type": "code",
   "execution_count": 66,
   "id": "stopped-ceremony",
   "metadata": {},
   "outputs": [
    {
     "data": {
      "text/html": [
       "<span style=\"white-space:pre; font-family: monospace\">┌→─────────────────────────┐\n",
       "│   ┌→──┐ ┌→┐ ┌→─────────┐ │\n",
       "│ 0 ↓0 0│ ↓ │ ↓          │ │\n",
       "│   │0 0│ │ │ │ 0      0 │ │\n",
       "│   └~──┘ │ │ │          │ │\n",
       "│         └─┘ │ ┌→───┐   │ │\n",
       "│             │ │    │ 0 │ │\n",
       "│             │ └────┘   │ │\n",
       "│             └∊─────────┘ │\n",
       "└∊─────────────────────────┘\n",
       "</span>"
      ]
     },
     "execution_count": 66,
     "metadata": {},
     "output_type": "execute_result"
    }
   ],
   "source": [
    "]display hogwashType"
   ]
  },
  {
   "cell_type": "markdown",
   "id": "joint-payday",
   "metadata": {},
   "source": [
    "Having defined what the _type_ of an array is, we can define what the _prototype_ of an array is:\n",
    "\n",
    "<!-- begin definition style=note -->\n",
    "***Definition***:\n",
    " > The _prototype_ of an array is defined as the _type_ of its _first_ item.\n",
    " >\n",
    " > In other words, the _prototype_ of an array is its first item, in which all numbers are replaced by zeroes and all characters are replaced by blanks.\n",
    " >\n",
    " > The _prototype_ of an array is used as a _fill item_ whenever an operation needs to create additional items.\n",
    "<!-- end -->"
   ]
  },
  {
   "cell_type": "markdown",
   "id": "distant-minnesota",
   "metadata": {},
   "source": [
    "The first item of `hogwash` is a number, so the _prototype_ of `hogwash` is a single zero.\n",
    "If we lengthen the vector using _overtake_, it will be padded with zeroes (fill items):"
   ]
  },
  {
   "cell_type": "code",
   "execution_count": 68,
   "id": "vulnerable-belgium",
   "metadata": {},
   "outputs": [
    {
     "data": {
      "text/html": [
       "<span style=\"white-space:pre; font-family: monospace\">┌──┬───┬─┬────────┬─┬─┐\n",
       "│19│1 2│A│┌────┬─┐│0│0│\n",
       "│  │3 4│P││5   │8││ │ │\n",
       "│  │   │L│├────┼─┤│ │ │\n",
       "│  │   │ ││Nuts│9││ │ │\n",
       "│  │   │ │└────┴─┘│ │ │\n",
       "└──┴───┴─┴────────┴─┴─┘\n",
       "</span>"
      ]
     },
     "execution_count": 68,
     "metadata": {},
     "output_type": "execute_result"
    }
   ],
   "source": [
    "6↑hogwash"
   ]
  },
  {
   "cell_type": "markdown",
   "id": "pacific-lighting",
   "metadata": {},
   "source": [
    "Similarly, if we _expand_ the array, the new items will also be zeroes:"
   ]
  },
  {
   "cell_type": "code",
   "execution_count": 69,
   "id": "moving-might",
   "metadata": {},
   "outputs": [
    {
     "data": {
      "text/html": [
       "<span style=\"white-space:pre; font-family: monospace\">┌──┬───┬─┬─┬─┬────────┐\n",
       "│19│1 2│0│A│0│┌────┬─┐│\n",
       "│  │3 4│ │P│ ││5   │8││\n",
       "│  │   │ │L│ │├────┼─┤│\n",
       "│  │   │ │ │ ││Nuts│9││\n",
       "│  │   │ │ │ │└────┴─┘│\n",
       "└──┴───┴─┴─┴─┴────────┘\n",
       "</span>"
      ]
     },
     "execution_count": 69,
     "metadata": {},
     "output_type": "execute_result"
    }
   ],
   "source": [
    "1 1 0 1 0 1\\hogwash"
   ]
  },
  {
   "cell_type": "markdown",
   "id": "christian-first",
   "metadata": {},
   "source": [
    "Let us rotate the vector by one position:"
   ]
  },
  {
   "cell_type": "code",
   "execution_count": 70,
   "id": "hispanic-floating",
   "metadata": {},
   "outputs": [],
   "source": [
    "hogwash ← 1⌽hogwash"
   ]
  },
  {
   "cell_type": "markdown",
   "id": "fluid-ethiopia",
   "metadata": {},
   "source": [
    "Now, the first item is a numeric matrix:"
   ]
  },
  {
   "cell_type": "code",
   "execution_count": 71,
   "id": "attractive-jordan",
   "metadata": {},
   "outputs": [
    {
     "data": {
      "text/html": [
       "<span style=\"white-space:pre; font-family: monospace\">1 2\n",
       "3 4\n",
       "</span>"
      ]
     },
     "execution_count": 71,
     "metadata": {},
     "output_type": "execute_result"
    }
   ],
   "source": [
    "⊃hogwash"
   ]
  },
  {
   "cell_type": "markdown",
   "id": "apart-gardening",
   "metadata": {},
   "source": [
    "Therefore, the prototype of `hogwash` is now"
   ]
  },
  {
   "cell_type": "code",
   "execution_count": 72,
   "id": "cooperative-trust",
   "metadata": {},
   "outputs": [
    {
     "data": {
      "text/html": [
       "<span style=\"white-space:pre; font-family: monospace\">0 0\n",
       "0 0\n",
       "</span>"
      ]
     },
     "execution_count": 72,
     "metadata": {},
     "output_type": "execute_result"
    }
   ],
   "source": [
    "2 2⍴0"
   ]
  },
  {
   "cell_type": "markdown",
   "id": "handled-immigration",
   "metadata": {},
   "source": [
    "If we take six items from `hogwash`, two such matrices will be added:"
   ]
  },
  {
   "cell_type": "code",
   "execution_count": 73,
   "id": "catholic-triumph",
   "metadata": {},
   "outputs": [
    {
     "data": {
      "text/html": [
       "<span style=\"white-space:pre; font-family: monospace\">┌───┬─┬────────┬──┬───┬───┐\n",
       "│1 2│A│┌────┬─┐│19│0 0│0 0│\n",
       "│3 4│P││5   │8││  │0 0│0 0│\n",
       "│   │L│├────┼─┤│  │   │   │\n",
       "│   │ ││Nuts│9││  │   │   │\n",
       "│   │ │└────┴─┘│  │   │   │\n",
       "└───┴─┴────────┴──┴───┴───┘\n",
       "</span>"
      ]
     },
     "execution_count": 73,
     "metadata": {},
     "output_type": "execute_result"
    }
   ],
   "source": [
    "6↑hogwash"
   ]
  },
  {
   "cell_type": "markdown",
   "id": "relative-breath",
   "metadata": {},
   "source": [
    "Let us rotate the variable once more:"
   ]
  },
  {
   "cell_type": "code",
   "execution_count": 74,
   "id": "subtle-spider",
   "metadata": {},
   "outputs": [],
   "source": [
    "hogwash ← 1⌽hogwash"
   ]
  },
  {
   "cell_type": "markdown",
   "id": "external-lobby",
   "metadata": {},
   "source": [
    "Now, the first item is a little 3 by 1 character matrix containing the letters `'APL'`.\n",
    "So, the _prototype_ will be a 3 by 1 character matrix containing three blank spaces.\n",
    "This is the array that will be used by _expand_ as the fill item.\n",
    "Let us verify it:"
   ]
  },
  {
   "cell_type": "code",
   "execution_count": 77,
   "id": "religious-badge",
   "metadata": {},
   "outputs": [
    {
     "data": {
      "text/html": [
       "<span style=\"white-space:pre; font-family: monospace\">┌→──────────────────────────────────┐\n",
       "│ ┌→┐ ┌→─────────┐ ┌→┐    ┌→┐ ┌→──┐ │\n",
       "│ ↓A│ ↓          │ ↓ │ 19 ↓ │ ↓1 2│ │\n",
       "│ │P│ │ 5      8 │ │ │    │ │ │3 4│ │\n",
       "│ │L│ │          │ │ │    │ │ └~──┘ │\n",
       "│ └─┘ │ ┌→───┐   │ └─┘    └─┘       │\n",
       "│     │ │Nuts│ 9 │                  │\n",
       "│     │ └────┘   │                  │\n",
       "│     └∊─────────┘                  │\n",
       "└∊──────────────────────────────────┘\n",
       "</span>"
      ]
     },
     "execution_count": 77,
     "metadata": {},
     "output_type": "execute_result"
    }
   ],
   "source": [
    "]display 1 1 0 1 0 1\\hogwash"
   ]
  },
  {
   "cell_type": "markdown",
   "id": "mexican-thompson",
   "metadata": {},
   "source": [
    "If we repeat the rotation, the first item will be a nested matrix.\n",
    "So, the _prototype_ (and hence, also the fill item) will be a 2 by 2 nested matrix.\n",
    "Let us try to _overtake_ again:"
   ]
  },
  {
   "cell_type": "code",
   "execution_count": 78,
   "id": "plastic-sphere",
   "metadata": {},
   "outputs": [],
   "source": [
    "hogwash ← 1⌽hogwash"
   ]
  },
  {
   "cell_type": "code",
   "execution_count": 79,
   "id": "bright-metabolism",
   "metadata": {},
   "outputs": [
    {
     "data": {
      "text/html": [
       "<span style=\"white-space:pre; font-family: monospace\">┌→────────────────────────────────────────────────────┐\n",
       "│ ┌→─────────┐    ┌→──┐ ┌→┐ ┌→─────────┐ ┌→─────────┐ │\n",
       "│ ↓          │ 19 ↓1 2│ ↓A│ ↓          │ ↓          │ │\n",
       "│ │ 5      8 │    │3 4│ │P│ │ 0      0 │ │ 0      0 │ │\n",
       "│ │          │    └~──┘ │L│ │          │ │          │ │\n",
       "│ │ ┌→───┐   │          └─┘ │ ┌→───┐   │ │ ┌→───┐   │ │\n",
       "│ │ │Nuts│ 9 │              │ │    │ 0 │ │ │    │ 0 │ │\n",
       "│ │ └────┘   │              │ └────┘   │ │ └────┘   │ │\n",
       "│ └∊─────────┘              └∊─────────┘ └∊─────────┘ │\n",
       "└∊────────────────────────────────────────────────────┘\n",
       "</span>"
      ]
     },
     "execution_count": 79,
     "metadata": {},
     "output_type": "execute_result"
    }
   ],
   "source": [
    "]display 6↑hogwash"
   ]
  },
  {
   "cell_type": "markdown",
   "id": "productive-penalty",
   "metadata": {},
   "source": [
    "Obviously, fill items are generally only useful for arrays whose items have a uniform structure."
   ]
  },
  {
   "cell_type": "markdown",
   "id": "through-inspector",
   "metadata": {},
   "source": [
    "## Pick\n",
    "\n",
    "### Definition\n",
    "\n",
    "Whenever you need to select one (and only one) item from an array, you can use the dyadic function _pick_, represented by the symbol `⊃`.\n",
    "What makes _pick_ different from ordinary indexing is that it is possible to \"dig into\" a nested array and pick an item at any level of nesting, and that it discloses the result.\n",
    "The latter is probably the reason why _pick_ and the monadic function _disclose_ use the same symbol.\n",
    "\n",
    "The syntax of _pick_ is as follows: `r ← path ⊃ data`.\n",
    "\n",
    "The left argument is a scalar or a vector which specifies the _path_ that leads to the desired item.\n",
    "Each item of `path` is the index or set of indices needed to reach the item at the corresponding level of depth of the array.\n",
    "\n",
    "The operation starts at the outermost level and goes deeper and deeper into the levels of nesting.\n",
    "At each level, the selected item is disclosed before applying the next level of selection.\n",
    "\n",
    "We shall work with the nested matrix `weird` from a previous section:"
   ]
  },
  {
   "cell_type": "code",
   "execution_count": 2,
   "id": "strong-lotus",
   "metadata": {},
   "outputs": [
    {
     "data": {
      "text/html": [
       "<span style=\"white-space:pre; font-family: monospace\">┌─────┬────────────┐\n",
       "│456  │┌──────┬───┐│\n",
       "│     ││Dyalog│44 ││\n",
       "│     │├──────┼───┤│\n",
       "│     ││27    │8 6││\n",
       "│     ││      │2 4││\n",
       "│     │└──────┴───┘│\n",
       "├─────┼────────────┤\n",
       "│17 51│Twisted     │\n",
       "└─────┴────────────┘\n",
       "</span>"
      ]
     },
     "execution_count": 2,
     "metadata": {},
     "output_type": "execute_result"
    }
   ],
   "source": [
    "⎕← weird ← 2 2⍴456 (2 2⍴ 'Dyalog' 44 27 (2 2⍴8 6 2 4)) (17 51) 'Twisted'"
   ]
  },
  {
   "cell_type": "markdown",
   "id": "particular-department",
   "metadata": {},
   "source": [
    "Let us try to select the value `51`.\n",
    "\n",
    "To select the `51` we must first select the vector located in row 2, column 1 of the matrix, and then select the second item of that vector.\n",
    "This is how we express this selection using _pick_:"
   ]
  },
  {
   "cell_type": "code",
   "execution_count": 89,
   "id": "several-tulsa",
   "metadata": {},
   "outputs": [
    {
     "data": {
      "text/html": [
       "<span style=\"white-space:pre; font-family: monospace\">51\n",
       "</span>"
      ]
     },
     "execution_count": 89,
     "metadata": {},
     "output_type": "execute_result"
    }
   ],
   "source": [
    "(2 1) 2 ⊃ weird"
   ]
  },
  {
   "cell_type": "markdown",
   "id": "economic-choir",
   "metadata": {},
   "source": [
    "The left argument `(2 1) 2` is a 2-item vector because we need to select at two levels of nesting.\n",
    "\n",
    "Using simple indexing and explicit disclosing we need a much more complicated expression to obtain the same selection:"
   ]
  },
  {
   "cell_type": "code",
   "execution_count": 90,
   "id": "special-listening",
   "metadata": {},
   "outputs": [
    {
     "data": {
      "text/html": [
       "<span style=\"white-space:pre; font-family: monospace\">51\n",
       "</span>"
      ]
     },
     "execution_count": 90,
     "metadata": {},
     "output_type": "execute_result"
    }
   ],
   "source": [
    "⊃(⊃weird[2;1])[2]"
   ]
  },
  {
   "cell_type": "markdown",
   "id": "unauthorized-finish",
   "metadata": {},
   "source": [
    "Although, to be fair, in this special case the leftmost `⊃` was not required.\n",
    "(Can you figure out why?)\n",
    "\n",
    "We can also select the letter \"g\" within \"Dyalog\".\n",
    "To do so, we must first select the matrix located in row 1, column 2.\n",
    "Within this matrix, we must select the character vector located in row 1, column 1.\n",
    "Finally, we must select the 6th item of that character vector:"
   ]
  },
  {
   "cell_type": "code",
   "execution_count": 91,
   "id": "simple-campaign",
   "metadata": {},
   "outputs": [
    {
     "data": {
      "text/html": [
       "<span style=\"white-space:pre; font-family: monospace\">g\n",
       "</span>"
      ]
     },
     "execution_count": 91,
     "metadata": {},
     "output_type": "execute_result"
    }
   ],
   "source": [
    "(1 2) (1 1) 6 ⊃ weird"
   ]
  },
  {
   "cell_type": "markdown",
   "id": "sharing-paragraph",
   "metadata": {},
   "source": [
    "This time, the left argument is a 3-item vector because we need to select at three levels of nesting:\n",
    "\n",
    " - `(1 2)` is the set of indices for the selection at the outermost level of depth;\n",
    " - `(1 1)` is the set of indices for the selection at the second level of depth; and\n",
    " - `6` is the index for the selection at the third level of depth."
   ]
  },
  {
   "cell_type": "markdown",
   "id": "turned-indication",
   "metadata": {},
   "source": [
    "Using simple indexing, this selection is almost obscure:"
   ]
  },
  {
   "cell_type": "code",
   "execution_count": 98,
   "id": "color-annotation",
   "metadata": {},
   "outputs": [
    {
     "data": {
      "text/html": [
       "<span style=\"white-space:pre; font-family: monospace\">g\n",
       "</span>"
      ]
     },
     "execution_count": 98,
     "metadata": {},
     "output_type": "execute_result"
    }
   ],
   "source": [
    "⊃(⊃(⊃weird[1;2])[1;1])[6]"
   ]
  },
  {
   "cell_type": "markdown",
   "id": "intended-supply",
   "metadata": {},
   "source": [
    "### Left Argument Length\n",
    "\n",
    "The left argument to _pick_ is a vector with as many items as the depth at which we want to select an item.\n",
    "Each item of the left argument has a number of items corresponding to the rank of the sub-item at the corresponding depth at which it operates.\n",
    "\n",
    "If we remove the last item of `path` in the example above, the selection will stop one level above the level at which it stopped before.\n",
    "This means that we would select the entire character vector `'Dyalog'` instead of just the letter `'g'`:"
   ]
  },
  {
   "cell_type": "code",
   "execution_count": 3,
   "id": "vocal-siemens",
   "metadata": {},
   "outputs": [
    {
     "data": {
      "text/html": [
       "<span style=\"white-space:pre; font-family: monospace\">Dyalog\n",
       "</span>"
      ]
     },
     "execution_count": 3,
     "metadata": {},
     "output_type": "execute_result"
    }
   ],
   "source": [
    "(1 2) (1 1) ⊃ weird"
   ]
  },
  {
   "cell_type": "markdown",
   "id": "unauthorized-operations",
   "metadata": {},
   "source": [
    "Yes, we selected the entire character vector.\n",
    "Please, note again that the result has been disclosed, so that a simple array is returned in this case, instead of a scalar which is an enclosed vector.\n",
    "\n",
    "The difference becomes more clear if we compare this with the equivalent simple indexing without the final _disclose_:"
   ]
  },
  {
   "cell_type": "code",
   "execution_count": 4,
   "id": "useful-fields",
   "metadata": {},
   "outputs": [
    {
     "data": {
      "text/html": [
       "<span style=\"white-space:pre; font-family: monospace\">┌──────┐\n",
       "│Dyalog│\n",
       "└──────┘\n",
       "</span>"
      ]
     },
     "execution_count": 4,
     "metadata": {},
     "output_type": "execute_result"
    }
   ],
   "source": [
    "(⊃weird[1;2])[1;1]"
   ]
  },
  {
   "cell_type": "markdown",
   "id": "novel-thinking",
   "metadata": {},
   "source": [
    "We tried removing the last item of `path`, but what happens if we instead remove the last two items of `path`?\n",
    "If we remove the last two items of `path`, we might expect to select the entire 2 by 2 nested matrix that contains the character vector `'Dyalog'`:"
   ]
  },
  {
   "cell_type": "code",
   "execution_count": 5,
   "id": "textile-egyptian",
   "metadata": {},
   "outputs": [
    {
     "name": "stderr",
     "output_type": "stream",
     "text": [
      "RANK ERROR\n",
      "      (1 2)⊃weird\n",
      "           ∧\n"
     ]
    }
   ],
   "source": [
    "(1 2) ⊃ weird"
   ]
  },
  {
   "cell_type": "markdown",
   "id": "abroad-laugh",
   "metadata": {},
   "source": [
    "But it does not work!\n",
    "\n",
    "The reason for this is a problem that we have seen before:\n",
    "\n",
    "In the expression `(1 2) (1 1) ⊃ weird`, the item `(1 2)` is a scalar (an enclosed vector) because of _strand notation_.\n",
    "The left argument to _pick_ has two items, because we want to select an item at the second level.\n",
    "\n",
    "In the expression `(1 2) ⊃ weird`, we do not have a _strand_, so the argument `(1 2)` is not enclosed.\n",
    "It is a (simple) 2-item vector and, therefore, only suitable for selection at the second level.\n",
    "The `RANK ERROR` is reported because we try to use a scalar `1` as an index at the outermost level.\n",
    "However, at this level the array is a matrix, so two items are needed to form a proper index.\n",
    "\n",
    "We want to select at the outermost level, so the left argument to _pick_ must have exactly one item.\n",
    "Therefore, we must explicitly enclose the vector, leading to the correct expression:"
   ]
  },
  {
   "cell_type": "code",
   "execution_count": 6,
   "id": "anonymous-apparatus",
   "metadata": {},
   "outputs": [
    {
     "data": {
      "text/html": [
       "<span style=\"white-space:pre; font-family: monospace\">┌──────┬───┐\n",
       "│Dyalog│44 │\n",
       "├──────┼───┤\n",
       "│27    │8 6│\n",
       "│      │2 4│\n",
       "└──────┴───┘\n",
       "</span>"
      ]
     },
     "execution_count": 6,
     "metadata": {},
     "output_type": "execute_result"
    }
   ],
   "source": [
    "(⊂1 2) ⊃ weird"
   ]
  },
  {
   "cell_type": "markdown",
   "id": "engaged-cigarette",
   "metadata": {},
   "source": [
    "We still need two indices inside the enclosure because, at the outermost level, the array is a matrix.\n",
    "\n",
    "The expression we used before (without the explicit _enclose_) is inappropriate for the array `weird`, but it could work fine with a different array;\n",
    "for example, to take the first item of a nested vector, and then select the second item of it, as shown here:"
   ]
  },
  {
   "cell_type": "code",
   "execution_count": 7,
   "id": "respiratory-wholesale",
   "metadata": {},
   "outputs": [
    {
     "data": {
      "text/html": [
       "<span style=\"white-space:pre; font-family: monospace\">a\n",
       "</span>"
      ]
     },
     "execution_count": 7,
     "metadata": {},
     "output_type": "execute_result"
    }
   ],
   "source": [
    "1 2⊃'Madrid' 'New York' 'London'"
   ]
  },
  {
   "cell_type": "markdown",
   "id": "controlled-abortion",
   "metadata": {},
   "source": [
    "The `1` selects `'Madrid'`, and the `2` then selects the `'a'`.\n",
    "\n",
    "In this expression, an _enclose_ would be wrong, as we need to select at two levels.\n",
    "However, at each level we only need one index, as we select from vectors at both levels."
   ]
  },
  {
   "cell_type": "markdown",
   "id": "complimentary-capital",
   "metadata": {},
   "source": [
    "### Disclosed Result\n",
    "\n",
    "As mentioned previously, _pick_ returns the **contents** of the specified item, not the scalar which contains it.\n",
    "\n",
    "Let us refer to the original value of `hogwash` (i.e., before we rotated it before):"
   ]
  },
  {
   "cell_type": "code",
   "execution_count": 8,
   "id": "empty-oakland",
   "metadata": {},
   "outputs": [],
   "source": [
    "hogwash ← 19 (2 2⍴⍳4) (3 1⍴'APL') (2 2⍴5 8 'Nuts' 9)"
   ]
  },
  {
   "cell_type": "markdown",
   "id": "characteristic-travel",
   "metadata": {},
   "source": [
    "Because boxing is ON, we can readily tell the difference between"
   ]
  },
  {
   "cell_type": "code",
   "execution_count": 11,
   "id": "silver-kazakhstan",
   "metadata": {},
   "outputs": [
    {
     "data": {
      "text/html": [
       "<span style=\"white-space:pre; font-family: monospace\">1 2\n",
       "3 4\n",
       "</span>"
      ]
     },
     "execution_count": 11,
     "metadata": {},
     "output_type": "execute_result"
    }
   ],
   "source": [
    "2⊃hogwash"
   ]
  },
  {
   "cell_type": "markdown",
   "id": "figured-friend",
   "metadata": {},
   "source": [
    "and"
   ]
  },
  {
   "cell_type": "code",
   "execution_count": 12,
   "id": "alert-roulette",
   "metadata": {},
   "outputs": [
    {
     "data": {
      "text/html": [
       "<span style=\"white-space:pre; font-family: monospace\">┌───┐\n",
       "│1 2│\n",
       "│3 4│\n",
       "└───┘\n",
       "</span>"
      ]
     },
     "execution_count": 12,
     "metadata": {},
     "output_type": "execute_result"
    }
   ],
   "source": [
    "hogwash[2]"
   ]
  },
  {
   "cell_type": "markdown",
   "id": "asian-thailand",
   "metadata": {},
   "source": [
    "However, if boxing is OFF, we might make the mistake of believing that the two results are equal:"
   ]
  },
  {
   "cell_type": "code",
   "execution_count": 14,
   "id": "spatial-extension",
   "metadata": {},
   "outputs": [
    {
     "data": {
      "text/html": [
       "<span style=\"white-space:pre; font-family: monospace\">Was ON\n",
       "</span>"
      ]
     },
     "execution_count": 14,
     "metadata": {},
     "output_type": "execute_result"
    }
   ],
   "source": [
    "]box off"
   ]
  },
  {
   "cell_type": "code",
   "execution_count": 16,
   "id": "fifty-field",
   "metadata": {},
   "outputs": [
    {
     "data": {
      "text/html": [
       "<span style=\"white-space:pre; font-family: monospace\">1 2\n",
       "3 4\n",
       "</span>"
      ]
     },
     "execution_count": 16,
     "metadata": {},
     "output_type": "execute_result"
    }
   ],
   "source": [
    "2⊃hogwash"
   ]
  },
  {
   "cell_type": "code",
   "execution_count": 17,
   "id": "adjacent-plastic",
   "metadata": {},
   "outputs": [
    {
     "data": {
      "text/html": [
       "<span style=\"white-space:pre; font-family: monospace\"> 1 2 \n",
       " 3 4 \n",
       "</span>"
      ]
     },
     "execution_count": 17,
     "metadata": {},
     "output_type": "execute_result"
    }
   ],
   "source": [
    "hogwash[2]"
   ]
  },
  {
   "cell_type": "markdown",
   "id": "micro-maine",
   "metadata": {},
   "source": [
    "Because boxing is OFF, the two results look very similar.\n",
    "(An attentive reader will notice that the result of `hogwash[2]` is indented one space to the right, which indicates one level of nesting.)\n",
    "This is deceptive:\n",
    "\n",
    " - the first expression (`2⊃hogwash`) returns the 2 by 2 matrix contained in `hogwash`:"
   ]
  },
  {
   "cell_type": "code",
   "execution_count": 22,
   "id": "likely-northeast",
   "metadata": {},
   "outputs": [
    {
     "data": {
      "text/html": [
       "<span style=\"white-space:pre; font-family: monospace\">2 2\n",
       "</span>"
      ]
     },
     "execution_count": 22,
     "metadata": {},
     "output_type": "execute_result"
    }
   ],
   "source": [
    "⍴2⊃hogwash"
   ]
  },
  {
   "cell_type": "markdown",
   "id": "mysterious-spanking",
   "metadata": {},
   "source": [
    " - while the other expression merely returns the second item of `hogwash`, which is an enclosed matrix:"
   ]
  },
  {
   "cell_type": "code",
   "execution_count": 24,
   "id": "imperial-filter",
   "metadata": {},
   "outputs": [
    {
     "data": {
      "text/html": [
       "<span style=\"white-space:pre; font-family: monospace\">\n",
       "</span>"
      ]
     },
     "execution_count": 24,
     "metadata": {},
     "output_type": "execute_result"
    }
   ],
   "source": [
    "⍴hogwash[2]"
   ]
  },
  {
   "cell_type": "markdown",
   "id": "active-skirt",
   "metadata": {},
   "source": [
    "To prevent us from shooting ourselves in the foot, let us turn boxing back ON:"
   ]
  },
  {
   "cell_type": "code",
   "execution_count": 18,
   "id": "great-palmer",
   "metadata": {
    "scrolled": true
   },
   "outputs": [
    {
     "data": {
      "text/html": [
       "<span style=\"white-space:pre; font-family: monospace\">Was OFF\n",
       "</span>"
      ]
     },
     "execution_count": 18,
     "metadata": {},
     "output_type": "execute_result"
    }
   ],
   "source": [
    "]box on"
   ]
  },
  {
   "cell_type": "markdown",
   "id": "identified-bearing",
   "metadata": {},
   "source": [
    "### Pick First\n",
    "\n",
    "We have not mentioned this before (because up to now we have only used it on 1-item arrays), but _disclose_ `⊃` actually discloses just the _first_ item of an array.\n",
    "All other items are ignored.\n",
    "In other words, _disclose_ is the same as `1⊃`.\n",
    "For this reason, the function `⊃` is also called _first_:"
   ]
  },
  {
   "cell_type": "code",
   "execution_count": 83,
   "id": "blocked-experience",
   "metadata": {
    "scrolled": true
   },
   "outputs": [
    {
     "data": {
      "text/html": [
       "<span style=\"white-space:pre; font-family: monospace\">26\n",
       "</span>"
      ]
     },
     "execution_count": 83,
     "metadata": {},
     "output_type": "execute_result"
    }
   ],
   "source": [
    "⊃26 (10 20 30) 100"
   ]
  },
  {
   "cell_type": "code",
   "execution_count": 84,
   "id": "diverse-article",
   "metadata": {},
   "outputs": [
    {
     "data": {
      "text/html": [
       "<span style=\"white-space:pre; font-family: monospace\">January\n",
       "</span>"
      ]
     },
     "execution_count": 84,
     "metadata": {},
     "output_type": "execute_result"
    }
   ],
   "source": [
    "⊃'January' 'February' 'March'"
   ]
  },
  {
   "cell_type": "code",
   "execution_count": 85,
   "id": "major-chance",
   "metadata": {
    "scrolled": true
   },
   "outputs": [
    {
     "data": {
      "text/html": [
       "<span style=\"white-space:pre; font-family: monospace\">Dyalog\n",
       "</span>"
      ]
     },
     "execution_count": 85,
     "metadata": {},
     "output_type": "execute_result"
    }
   ],
   "source": [
    "⊃2 2⍴'Dyalog' (2 2⍴⍳4) 'APL' 100"
   ]
  },
  {
   "cell_type": "markdown",
   "id": "complete-camcorder",
   "metadata": {},
   "source": [
    "### Selective Assignment\n",
    "\n",
    "When one wants to modify an item deep inside an array, it is important to remember that _pick_ returns a disclosed result.\n",
    "\n",
    "For example, let us try to replace the number `5` with the character vector `'five'` in the fourth item of `hogwash`.\n",
    "\n",
    "If we wanted to extract the value `5`, we would just write"
   ]
  },
  {
   "cell_type": "code",
   "execution_count": 25,
   "id": "built-amendment",
   "metadata": {},
   "outputs": [
    {
     "data": {
      "text/html": [
       "<span style=\"white-space:pre; font-family: monospace\">5\n",
       "</span>"
      ]
     },
     "execution_count": 25,
     "metadata": {},
     "output_type": "execute_result"
    }
   ],
   "source": [
    "4 (1 1)⊃hogwash"
   ]
  },
  {
   "cell_type": "markdown",
   "id": "square-borough",
   "metadata": {},
   "source": [
    "To replace it, we use the same expression in a normal selective assignment:"
   ]
  },
  {
   "cell_type": "code",
   "execution_count": 28,
   "id": "scientific-mainland",
   "metadata": {},
   "outputs": [
    {
     "data": {
      "text/html": [
       "<span style=\"white-space:pre; font-family: monospace\">┌──┬───┬─┬────────┐\n",
       "│19│1 2│A│┌────┬─┐│\n",
       "│  │3 4│P││Five│8││\n",
       "│  │   │L│├────┼─┤│\n",
       "│  │   │ ││Nuts│9││\n",
       "│  │   │ │└────┴─┘│\n",
       "└──┴───┴─┴────────┘\n",
       "</span>"
      ]
     },
     "execution_count": 28,
     "metadata": {},
     "output_type": "execute_result"
    }
   ],
   "source": [
    "(4 (1 1)⊃hogwash) ← 'Five'\n",
    "hogwash"
   ]
  },
  {
   "cell_type": "markdown",
   "id": "dense-solomon",
   "metadata": {},
   "source": [
    "And it works, though we haven't enclosed the replacement value!"
   ]
  },
  {
   "cell_type": "markdown",
   "id": "confidential-dating",
   "metadata": {},
   "source": [
    "### An Idiom\n",
    "\n",
    "Suppose you have a nested vector:"
   ]
  },
  {
   "cell_type": "code",
   "execution_count": 29,
   "id": "instrumental-remedy",
   "metadata": {},
   "outputs": [],
   "source": [
    "nv ← (3 7 5)(9 7 2 8)(1 6)(2 0 8)"
   ]
  },
  {
   "cell_type": "markdown",
   "id": "satellite-sector",
   "metadata": {},
   "source": [
    "You can select one of its items with:"
   ]
  },
  {
   "cell_type": "code",
   "execution_count": 30,
   "id": "successful-valve",
   "metadata": {},
   "outputs": [
    {
     "data": {
      "text/html": [
       "<span style=\"white-space:pre; font-family: monospace\">9 7 2 8\n",
       "</span>"
      ]
     },
     "execution_count": 30,
     "metadata": {},
     "output_type": "execute_result"
    }
   ],
   "source": [
    "2⊃nv"
   ]
  },
  {
   "cell_type": "markdown",
   "id": "aggressive-combining",
   "metadata": {},
   "source": [
    "But how can you select two (or more) items?\n",
    "For example, the 2nd and the 4th items?"
   ]
  },
  {
   "cell_type": "code",
   "execution_count": 31,
   "id": "atlantic-office",
   "metadata": {},
   "outputs": [
    {
     "data": {
      "text/html": [
       "<span style=\"white-space:pre; font-family: monospace\">8\n",
       "</span>"
      ]
     },
     "execution_count": 31,
     "metadata": {},
     "output_type": "execute_result"
    }
   ],
   "source": [
    "2 4⊃nv"
   ]
  },
  {
   "cell_type": "markdown",
   "id": "raised-australia",
   "metadata": {},
   "source": [
    "This does not work; it selects only one item: the 4th item of the 2nd item, which is the number `8` in this case.\n",
    "\n",
    "Maybe we can use _each_ `⊃¨` to _pick each_ of the items we want?"
   ]
  },
  {
   "cell_type": "code",
   "execution_count": 32,
   "id": "outside-reading",
   "metadata": {},
   "outputs": [
    {
     "name": "stderr",
     "output_type": "stream",
     "text": [
      "LENGTH ERROR\n",
      "      2 4⊃¨nv\n",
      "         ∧\n"
     ]
    }
   ],
   "source": [
    "2 4⊃¨nv"
   ]
  },
  {
   "cell_type": "markdown",
   "id": "private-memory",
   "metadata": {},
   "source": [
    "This gives a `LENGTH ERROR` because `¨` is trying to pair each of the two numbers on the left with an item on the right, but `nv` has a total of four items.\n",
    "\n",
    "In order to fix this, we need to _enclose_ `nv` so that `¨` knows to pair each number on the left with the whole vector `nv`:"
   ]
  },
  {
   "cell_type": "code",
   "execution_count": 33,
   "id": "artificial-international",
   "metadata": {},
   "outputs": [
    {
     "data": {
      "text/html": [
       "<span style=\"white-space:pre; font-family: monospace\">┌───────┬─────┐\n",
       "│9 7 2 8│2 0 8│\n",
       "└───────┴─────┘\n",
       "</span>"
      ]
     },
     "execution_count": 33,
     "metadata": {},
     "output_type": "execute_result"
    }
   ],
   "source": [
    "2 4⊃¨⊂nv"
   ]
  },
  {
   "cell_type": "markdown",
   "id": "about-court",
   "metadata": {},
   "source": [
    "This expression is known as the \"chipmunk idiom\", probably because of the eyes and moustaches of the combined symbol: `⊃¨⊂`."
   ]
  },
  {
   "cell_type": "markdown",
   "id": "sticky-paper",
   "metadata": {},
   "source": [
    "## Partitioned Enclose & Partition\n",
    "\n",
    "### Partitioned Enclose\n",
    "\n",
    "The primitive function _partitioned enclose_ is the dyadic use of the _left shoe_ `⊂`.\n",
    "It is used to group the items of an array into a vector of nested items, or enclosures, according to a specified pattern.\n",
    "It is used as `r ← pattern ⊂ array`, or optionally with an _axis specification_: `r ← pattern ⊂[axis] array`.\n",
    "\n",
    "_Partitioned enclose_ breaks up the right argument `array` into nested items, as determined by the left argument `pattern`."
   ]
  },
  {
   "cell_type": "markdown",
   "id": "static-square",
   "metadata": {},
   "source": [
    "#### Simple Boolean Vector Left Argument\n",
    "\n",
    "Let us start by understanding how _partitioned enclose_ works when the left argument `pattern` is a _simple_ Boolean vector:"
   ]
  },
  {
   "cell_type": "code",
   "execution_count": 18,
   "id": "noticed-telephone",
   "metadata": {},
   "outputs": [
    {
     "data": {
      "text/html": [
       "<span style=\"white-space:pre; font-family: monospace\">┌───┬──────┐\n",
       "│Par│tition│\n",
       "└───┴──────┘\n",
       "</span>"
      ]
     },
     "execution_count": 18,
     "metadata": {},
     "output_type": "execute_result"
    }
   ],
   "source": [
    "1 0 0 1 0 0 0 0 0 ⊂ 'Partition'"
   ]
  },
  {
   "cell_type": "code",
   "execution_count": 19,
   "id": "dental-benefit",
   "metadata": {},
   "outputs": [
    {
     "data": {
      "text/html": [
       "<span style=\"white-space:pre; font-family: monospace\">┌───┬───┬───┐\n",
       "│Par│tit│ion│\n",
       "└───┴───┴───┘\n",
       "</span>"
      ]
     },
     "execution_count": 19,
     "metadata": {},
     "output_type": "execute_result"
    }
   ],
   "source": [
    "1 0 0 1 0 0 1 0 0  ⊂ 'Partition'"
   ]
  },
  {
   "cell_type": "markdown",
   "id": "thick-perfume",
   "metadata": {},
   "source": [
    "The two examples seem to show that the `1`s in the left argument specify where new enclosures of the right argument start.\n",
    "The `0`s just put the corresponding elements in the preceding enclosure.\n",
    "\n",
    "Notice that, as soon as we start the last enclosure (with the last `1`), the trailing `0`s are irrelevant.\n",
    "Thus, we can safely omit them from the left argument:"
   ]
  },
  {
   "cell_type": "code",
   "execution_count": 22,
   "id": "proof-treasure",
   "metadata": {},
   "outputs": [
    {
     "data": {
      "text/html": [
       "<span style=\"white-space:pre; font-family: monospace\">┌───┬───┬───┐\n",
       "│Par│tit│ion│\n",
       "└───┴───┴───┘\n",
       "</span>"
      ]
     },
     "execution_count": 22,
     "metadata": {},
     "output_type": "execute_result"
    }
   ],
   "source": [
    "1 0 0 1 0 0 1 ⊂ 'Partition'"
   ]
  },
  {
   "cell_type": "markdown",
   "id": "banned-logan",
   "metadata": {},
   "source": [
    "Again, we **can** omit trailing zeroes, but we do not **have** to.\n",
    "In fact, in older versions of Dyalog APL, _partitioned enclose_ expects the trailing zeroes to be present.\n",
    "In other words, the ability to not specify trailing zeroes was an extension to _partitioned enclose_ that was introduced after _partitioned enclose_ had been in the language.\n",
    "<!-- (TODO) find out in what exact Dyalog version this extension to ⊂ was introduced. -->\n",
    "\n",
    "We have seen what we can do about trailing zeroes.\n",
    "It is also important to understand what happens when the left argument has leading zeroes:"
   ]
  },
  {
   "cell_type": "code",
   "execution_count": 15,
   "id": "relevant-hebrew",
   "metadata": {},
   "outputs": [
    {
     "data": {
      "text/html": [
       "<span style=\"white-space:pre; font-family: monospace\">┌───┬───┬─┐\n",
       "│rti│tio│n│\n",
       "└───┴───┴─┘\n",
       "</span>"
      ]
     },
     "execution_count": 15,
     "metadata": {},
     "output_type": "execute_result"
    }
   ],
   "source": [
    "0 0 1 0 0 1 0 0 1 ⊂ 'Partition'"
   ]
  },
  {
   "cell_type": "markdown",
   "id": "colored-victorian",
   "metadata": {},
   "source": [
    "Leading zeroes have not been preceded by any enclosures, so the corresponding items have nowhere to go.\n",
    "Because of that, they are omitted from the final result.\n",
    "\n",
    "We have already covered most of the behaviour of _partitioned_ enclose, we are only missing some details."
   ]
  },
  {
   "cell_type": "markdown",
   "id": "isolated-holder",
   "metadata": {},
   "source": [
    "#### Multiple Enclosures\n",
    "\n",
    "The left argument `pattern` can be a simple integer vector with arbitrary non-negative integers, it doesn't have to contain only zeroes and ones.\n",
    "If we interpret the role of the zeroes and ones in a slightly different way, we can immediately understand how larger integers will work.\n",
    "\n",
    "For that, we can use less rigorous language, and say that the enclosures of the result start in the places where we inserted dividers to split the right argument.\n",
    "Having said that, we just have to understand how those dividers are placed:\n",
    "\n",
    " - a `0` in the left argument means that we will insert `0` dividers before the corresponding item of the right argument; and\n",
    " - a `1` in the left argument means that we will insert `1` divider before the corresponding item of the right argument.\n",
    "\n",
    "Thus, an integer `n` in the left argument means that we will insert `n` dividers before the corresponding item of the right argument:"
   ]
  },
  {
   "cell_type": "code",
   "execution_count": 31,
   "id": "explicit-prompt",
   "metadata": {},
   "outputs": [
    {
     "data": {
      "text/html": [
       "<span style=\"white-space:pre; font-family: monospace\">┌┬┬───┬───┬┬───┐\n",
       "│││Par│tit││ion│\n",
       "└┴┴───┴───┴┴───┘\n",
       "</span>"
      ]
     },
     "execution_count": 31,
     "metadata": {},
     "output_type": "execute_result"
    }
   ],
   "source": [
    "3 0 0 1 0 0 2 0 0 ⊂ 'Partition'"
   ]
  },
  {
   "cell_type": "markdown",
   "id": "satellite-logic",
   "metadata": {},
   "source": [
    "Above, `pattern` started with a `3` and `array` started with `'P'`. Thus, _partitioned enclose_ must insert `3` dividers before the `'P'`.\n",
    "Because more than one divider was inserted, only the last one gets the corresponding item from the argument `array`.\n",
    "\n",
    "Using _mix_ as visual aid, we can see clearly where the dividers will be inserted:"
   ]
  },
  {
   "cell_type": "code",
   "execution_count": 32,
   "id": "literary-blowing",
   "metadata": {},
   "outputs": [
    {
     "data": {
      "text/html": [
       "<span style=\"white-space:pre; font-family: monospace\">3 0 0 1 0 0 2 0 0\n",
       "P a r t i t i o n\n",
       "</span>"
      ]
     },
     "execution_count": 32,
     "metadata": {},
     "output_type": "execute_result"
    }
   ],
   "source": [
    "↑(3 0 0 1 0 0 2 0 0) 'Partition'"
   ]
  },
  {
   "cell_type": "markdown",
   "id": "vanilla-samoa",
   "metadata": {},
   "source": [
    "The usage of _mix_ shows that we insert `3` dividers before the initial `'P'`, `1` divider before the first `'t'`, and `2` dividers before the last `'i'`."
   ]
  },
  {
   "cell_type": "markdown",
   "id": "liberal-anchor",
   "metadata": {},
   "source": [
    "#### Trailing Empty Enclosures\n",
    "\n",
    "When the left argument `pattern` starts with an integer that is greater than one, the final result will have some leading empty enclosures.\n",
    "If we want to get a result with **trailing** empty enclosures, we just need to make sure that the length of `pattern` is one greater than the length of the right argument:"
   ]
  },
  {
   "cell_type": "code",
   "execution_count": 33,
   "id": "explicit-antenna",
   "metadata": {},
   "outputs": [
    {
     "data": {
      "text/html": [
       "<span style=\"white-space:pre; font-family: monospace\">┌┬───┬───┬───┬┐\n",
       "││Par│tit│ion││\n",
       "└┴───┴───┴───┴┘\n",
       "</span>"
      ]
     },
     "execution_count": 33,
     "metadata": {},
     "output_type": "execute_result"
    }
   ],
   "source": [
    "2 0 0 1 0 0 1 0 0 1 ⊂ 'Partition'"
   ]
  },
  {
   "cell_type": "markdown",
   "id": "conservative-brief",
   "metadata": {},
   "source": [
    "We can use _mix_ again, and we will understand how the trailing `1` creates an empty enclosure by inserting a divider right after the last item of the right argument:"
   ]
  },
  {
   "cell_type": "code",
   "execution_count": 34,
   "id": "fresh-indiana",
   "metadata": {},
   "outputs": [
    {
     "data": {
      "text/html": [
       "<span style=\"white-space:pre; font-family: monospace\">2 0 0 1 0 0 1 0 0 1\n",
       "P a r t i t i o n  \n",
       "</span>"
      ]
     },
     "execution_count": 34,
     "metadata": {},
     "output_type": "execute_result"
    }
   ],
   "source": [
    "↑(2 0 0 1 0 0 1 0 0 1) 'Partition'"
   ]
  },
  {
   "cell_type": "markdown",
   "id": "parliamentary-agent",
   "metadata": {},
   "source": [
    "#### Scalar Left Argument\n",
    "\n",
    "So far, we have only seen how _partitioned enclose_ works with a _vector_ left argument.\n",
    "Now, we will see what happens if the left argument is a _scalar_.\n",
    "\n",
    "First, take a look at this example:"
   ]
  },
  {
   "cell_type": "code",
   "execution_count": 36,
   "id": "sunset-protest",
   "metadata": {},
   "outputs": [
    {
     "data": {
      "text/html": [
       "<span style=\"white-space:pre; font-family: monospace\">┌─────────┐\n",
       "│Partition│\n",
       "└─────────┘\n",
       "</span>"
      ]
     },
     "execution_count": 36,
     "metadata": {},
     "output_type": "execute_result"
    }
   ],
   "source": [
    "1 0 0 0 0 0 0 0 0 ⊂ 'Partition'"
   ]
  },
  {
   "cell_type": "markdown",
   "id": "exciting-chancellor",
   "metadata": {},
   "source": [
    "We know we can omit trailing zeroes, so we might be tempted to rewrite the example above as:"
   ]
  },
  {
   "cell_type": "code",
   "execution_count": 37,
   "id": "olympic-paintball",
   "metadata": {},
   "outputs": [
    {
     "data": {
      "text/html": [
       "<span style=\"white-space:pre; font-family: monospace\">┌─┬─┬─┬─┬─┬─┬─┬─┬─┐\n",
       "│P│a│r│t│i│t│i│o│n│\n",
       "└─┴─┴─┴─┴─┴─┴─┴─┴─┘\n",
       "</span>"
      ]
     },
     "execution_count": 37,
     "metadata": {},
     "output_type": "execute_result"
    }
   ],
   "source": [
    "1 ⊂ 'Partition'"
   ]
  },
  {
   "cell_type": "markdown",
   "id": "phantom-attendance",
   "metadata": {},
   "source": [
    "However, when we do so, we get an unexpected result!\n",
    "That's because the left argument is a _scalar_, and we can only omit trailing zeroes from _vectors_.\n",
    "\n",
    "When the left argument is a _scalar_ `s`, it gets extended to `(≢array)⍴s`.\n",
    "Therefore, the example above is equivalent to"
   ]
  },
  {
   "cell_type": "code",
   "execution_count": 39,
   "id": "ignored-berry",
   "metadata": {},
   "outputs": [
    {
     "data": {
      "text/html": [
       "<span style=\"white-space:pre; font-family: monospace\">┌─┬─┬─┬─┬─┬─┬─┬─┬─┐\n",
       "│P│a│r│t│i│t│i│o│n│\n",
       "└─┴─┴─┴─┴─┴─┴─┴─┴─┘\n",
       "</span>"
      ]
     },
     "execution_count": 39,
     "metadata": {},
     "output_type": "execute_result"
    }
   ],
   "source": [
    "(9⍴1) ⊂ 'Partition'"
   ]
  },
  {
   "cell_type": "markdown",
   "id": "junior-candidate",
   "metadata": {},
   "source": [
    "#### Partitioned Enclose with Axis\n",
    "\n",
    "When we first introduced _partitioned enclose_, we mentioned that it can also accept an _axis specification_, as such: `pattern ⊂[axis] array`.\n",
    "Obviously, when `array` is a vector, `axis` is irrelevant because we can only have `axis ← 1`.\n",
    "\n",
    "For the _axis specification_ to be relevant, `array` needs to be of rank two or higher.\n",
    "First, we want to know what is the default value for `axis`, and we can find that out with a quick test:"
   ]
  },
  {
   "cell_type": "code",
   "execution_count": 45,
   "id": "direct-metallic",
   "metadata": {},
   "outputs": [
    {
     "data": {
      "text/html": [
       "<span style=\"white-space:pre; font-family: monospace\">┌─┬─┐\n",
       "│1│2│\n",
       "│3│4│\n",
       "└─┴─┘\n",
       "</span>"
      ]
     },
     "execution_count": 45,
     "metadata": {},
     "output_type": "execute_result"
    }
   ],
   "source": [
    "1 ⊂ 2 2⍴⍳4"
   ]
  },
  {
   "cell_type": "markdown",
   "id": "aggressive-football",
   "metadata": {},
   "source": [
    "When applied to a matrix with no _axis specification_, _partitioned enclose_ created enclosures around the columns of the matrix, which shows that the default axis is `≢⍴axis`, i.e., the last axis.\n",
    "\n",
    "If we want to create enclosures around the rows, we can specify `axis ← 1`:"
   ]
  },
  {
   "cell_type": "code",
   "execution_count": 85,
   "id": "increasing-founder",
   "metadata": {},
   "outputs": [
    {
     "data": {
      "text/html": [
       "<span style=\"white-space:pre; font-family: monospace\">┌───┬───┐\n",
       "│1 2│3 4│\n",
       "└───┴───┘\n",
       "</span>"
      ]
     },
     "execution_count": 85,
     "metadata": {},
     "output_type": "execute_result"
    }
   ],
   "source": [
    "1 ⊂[1] 2 2⍴⍳4"
   ]
  },
  {
   "cell_type": "markdown",
   "id": "rocky-israeli",
   "metadata": {},
   "source": [
    "Notice that `⊂` returns a vector, while perhaps you expected the result to look like this:"
   ]
  },
  {
   "cell_type": "code",
   "execution_count": 86,
   "id": "surrounded-publication",
   "metadata": {},
   "outputs": [
    {
     "data": {
      "text/html": [
       "<span style=\"white-space:pre; font-family: monospace\">┌───┐\n",
       "│1 2│\n",
       "├───┤\n",
       "│3 4│\n",
       "└───┘\n",
       "</span>"
      ]
     },
     "execution_count": 86,
     "metadata": {},
     "output_type": "execute_result"
    }
   ],
   "source": [
    "⍪ 1 ⊂[1] 2 2⍴⍳4"
   ]
  },
  {
   "cell_type": "markdown",
   "id": "proof-ladder",
   "metadata": {},
   "source": [
    "This is how _partitioned enclose_ works: it always returns a vector with the enclosures as items.\n",
    "\n",
    "Here is another example, where we use a 3D array as the right argument:"
   ]
  },
  {
   "cell_type": "code",
   "execution_count": 87,
   "id": "cross-limit",
   "metadata": {},
   "outputs": [
    {
     "data": {
      "text/html": [
       "<span style=\"white-space:pre; font-family: monospace\">ABCDE\n",
       "FGHIJ\n",
       "KLMNO\n",
       "PQRST\n",
       "     \n",
       "UVWXY\n",
       "ZABCD\n",
       "EFGHI\n",
       "JKLMN\n",
       "     \n",
       "OPQRS\n",
       "TUVWX\n",
       "YZABC\n",
       "DEFGH\n",
       "</span>"
      ]
     },
     "execution_count": 87,
     "metadata": {},
     "output_type": "execute_result"
    }
   ],
   "source": [
    "⎕← cuboid ← 3 4 5⍴⎕A"
   ]
  },
  {
   "cell_type": "markdown",
   "id": "productive-uzbekistan",
   "metadata": {},
   "source": [
    "By using _partitioned enclose_ along the first axis, we can get a vector with enclosures around the planes that compose `cuboid`:"
   ]
  },
  {
   "cell_type": "code",
   "execution_count": 90,
   "id": "effective-corruption",
   "metadata": {},
   "outputs": [
    {
     "data": {
      "text/html": [
       "<span style=\"white-space:pre; font-family: monospace\">┌─────┬─────┐\n",
       "│ABCDE│OPQRS│\n",
       "│FGHIJ│TUVWX│\n",
       "│KLMNO│YZABC│\n",
       "│PQRST│DEFGH│\n",
       "│     │     │\n",
       "│UVWXY│     │\n",
       "│ZABCD│     │\n",
       "│EFGHI│     │\n",
       "│JKLMN│     │\n",
       "└─────┴─────┘\n",
       "</span>"
      ]
     },
     "execution_count": 90,
     "metadata": {},
     "output_type": "execute_result"
    }
   ],
   "source": [
    "1 0 1 ⊂[1] cuboid"
   ]
  },
  {
   "cell_type": "markdown",
   "id": "allied-violin",
   "metadata": {},
   "source": [
    "The things we learned about the behaviour of the left argument of _partitioned enclose_ still apply when we have a higher-dimensional right argument and/or an _axis specification_; we just need to interpret the left argument from the point of view of the correct axis:"
   ]
  },
  {
   "cell_type": "code",
   "execution_count": 71,
   "id": "every-briefing",
   "metadata": {},
   "outputs": [
    {
     "data": {
      "text/html": [
       "<span style=\"white-space:pre; font-family: monospace\">┌─────┬─────┐\n",
       "│ABCDE│KLMNO│\n",
       "│FGHIJ│PQRST│\n",
       "│     │     │\n",
       "│UVWXY│EFGHI│\n",
       "│ZABCD│JKLMN│\n",
       "│     │     │\n",
       "│OPQRS│YZABC│\n",
       "│TUVWX│DEFGH│\n",
       "└─────┴─────┘\n",
       "</span>"
      ]
     },
     "execution_count": 71,
     "metadata": {},
     "output_type": "execute_result"
    }
   ],
   "source": [
    "1 0 1 ⊂[2] cuboid"
   ]
  },
  {
   "cell_type": "markdown",
   "id": "premium-float",
   "metadata": {},
   "source": [
    "In this example, the left argument is `1 0 1` and the axis specified is the second one, which has length"
   ]
  },
  {
   "cell_type": "code",
   "execution_count": 63,
   "id": "early-group",
   "metadata": {},
   "outputs": [
    {
     "data": {
      "text/html": [
       "<span style=\"white-space:pre; font-family: monospace\">4\n",
       "</span>"
      ]
     },
     "execution_count": 63,
     "metadata": {},
     "output_type": "execute_result"
    }
   ],
   "source": [
    "2⊃⍴cuboid"
   ]
  },
  {
   "cell_type": "markdown",
   "id": "charitable-timeline",
   "metadata": {},
   "source": [
    "So, if the left argument is `1 0 1` and the axis in question has length four, we are omitting a trailing zero:"
   ]
  },
  {
   "cell_type": "code",
   "execution_count": 72,
   "id": "proprietary-variety",
   "metadata": {},
   "outputs": [
    {
     "data": {
      "text/html": [
       "<span style=\"white-space:pre; font-family: monospace\">┌─────┬─────┐\n",
       "│ABCDE│KLMNO│\n",
       "│FGHIJ│PQRST│\n",
       "│     │     │\n",
       "│UVWXY│EFGHI│\n",
       "│ZABCD│JKLMN│\n",
       "│     │     │\n",
       "│OPQRS│YZABC│\n",
       "│TUVWX│DEFGH│\n",
       "└─────┴─────┘\n",
       "</span>"
      ]
     },
     "execution_count": 72,
     "metadata": {},
     "output_type": "execute_result"
    }
   ],
   "source": [
    "1 0 1 0 ⊂[2] cuboid"
   ]
  },
  {
   "cell_type": "markdown",
   "id": "associate-dancing",
   "metadata": {},
   "source": [
    "If you find it hard to visualise why the result is as shown, you can try to reason about _partitioned enclose_ with an _axis specification_ as a series of enclosures around indexing operations.\n",
    "\n",
    "First, we can put the left argument up with the valid indices for the axis in question:"
   ]
  },
  {
   "cell_type": "code",
   "execution_count": 73,
   "id": "built-progressive",
   "metadata": {},
   "outputs": [
    {
     "data": {
      "text/html": [
       "<span style=\"white-space:pre; font-family: monospace\">1 0 1 0\n",
       "1 2 3 4\n",
       "</span>"
      ]
     },
     "execution_count": 73,
     "metadata": {},
     "output_type": "execute_result"
    }
   ],
   "source": [
    "↑(1 0 1 0)(⍳2⊃⍴cuboid)"
   ]
  },
  {
   "cell_type": "markdown",
   "id": "streaming-register",
   "metadata": {},
   "source": [
    "This shows that we will have an enclosure around indices `1 2` and another one around indices `3 4`.\n",
    "Now, we just have to do the indexing along the correct axis.\n",
    "Because `cuboid` is a 3D array and we are working with the second index, the indexing will look like `cuboid[;??;]`:"
   ]
  },
  {
   "cell_type": "code",
   "execution_count": 75,
   "id": "bibliographic-bicycle",
   "metadata": {},
   "outputs": [
    {
     "data": {
      "text/html": [
       "<span style=\"white-space:pre; font-family: monospace\">┌─────┬─────┐\n",
       "│ABCDE│KLMNO│\n",
       "│FGHIJ│PQRST│\n",
       "│     │     │\n",
       "│UVWXY│EFGHI│\n",
       "│ZABCD│JKLMN│\n",
       "│     │     │\n",
       "│OPQRS│YZABC│\n",
       "│TUVWX│DEFGH│\n",
       "└─────┴─────┘\n",
       "</span>"
      ]
     },
     "execution_count": 75,
     "metadata": {},
     "output_type": "execute_result"
    }
   ],
   "source": [
    "(⊂cuboid[;1 2;]),(⊂cuboid[;3 4;])"
   ]
  },
  {
   "cell_type": "code",
   "execution_count": 78,
   "id": "satellite-champion",
   "metadata": {},
   "outputs": [
    {
     "data": {
      "text/html": [
       "<span style=\"white-space:pre; font-family: monospace\">1\n",
       "</span>"
      ]
     },
     "execution_count": 78,
     "metadata": {},
     "output_type": "execute_result"
    }
   ],
   "source": [
    "(1 0 1 0⊂[2]cuboid) ≡ (⊂cuboid[;1 2;]),(⊂cuboid[;3 4;])"
   ]
  },
  {
   "cell_type": "markdown",
   "id": "foster-experiment",
   "metadata": {},
   "source": [
    "#### Wrap-up\n",
    "\n",
    "Now that we have seen the various nuances associated with _partitioned enclose_, we can bundle them up together.\n",
    "In the expression `r ← pattern ⊂[axis] array`, we have that:\n",
    "\n",
    " - `array` may be any array;\n",
    " - `pattern` may be a non-negative integer scalar or a _simple_ numeric vector composed of non-negative integers;\n",
    " - if left unspecified, `axis` defaults to `≢⍴array`, i.e., the last axis of `array`;\n",
    " - if `pattern` is a scalar `s`, it is extended to `(axis⊃⍴array)⍴s`;\n",
    " - if `pattern` is a vector, its maximum length is `1+axis⊃⍴array` and if the `pattern` length is not the maximum, it is extended with trailing zeroes;\n",
    " - each non-zero element in `pattern` specifies how many dividers to insert before the corresponding position along the appropriate axis of `array`;\n",
    " - each enclosure has rank `≢⍴array` and shape `⍴array`, except in the position specified by `axis`;\n",
    " - the result `r` is a vector containing all the enclosures specified by the `pattern`; and\n",
    " - the length of `r` is `+⌿pattern` (after extensions).\n",
    "<!-- end -->"
   ]
  },
  {
   "cell_type": "markdown",
   "id": "searching-performance",
   "metadata": {},
   "source": [
    "### Partition\n",
    "\n",
    "The _partition_ function is the dyadic usage of `⊆`, and is somewhat similar to the _partitioned enclose_ function.\n",
    "\n",
    "In `r ← pattern ⊆ array`, `pattern` must be a simple vector of non-negative integers, with the same length as the specified axis of the array to be partitioned.\n",
    "It operates as follows:\n",
    "\n",
    " - the first enclosure starts with the first item of the array;\n",
    " - each enclosure ends when the next value of `pattern` is greater than the current one; and\n",
    " - the items which correspond to zeroes in `pattern` are removed."
   ]
  },
  {
   "cell_type": "markdown",
   "id": "convertible-relevance",
   "metadata": {},
   "source": [
    "#### Working on Vectors\n",
    "\n",
    "We shall work with characters, but of course we could have worked with numbers just as well:"
   ]
  },
  {
   "cell_type": "code",
   "execution_count": 40,
   "id": "drawn-explorer",
   "metadata": {},
   "outputs": [
    {
     "data": {
      "text/html": [
       "<span style=\"white-space:pre; font-family: monospace\">┌───┬────┬───┬────┐\n",
       "│Onc│e up│n a│ tim│\n",
       "└───┴────┴───┴────┘\n",
       "</span>"
      ]
     },
     "execution_count": 40,
     "metadata": {},
     "output_type": "execute_result"
    }
   ],
   "source": [
    "pattern ← 3 3 3 7 7 1 1 0 3 3 3 9 2 1 1 0\n",
    "pattern ⊆ 'Once upon a time'"
   ]
  },
  {
   "cell_type": "markdown",
   "id": "charged-youth",
   "metadata": {},
   "source": [
    "The four enclosures correspond to the beginning of the array, plus the three increments: `3 → 7`, `0 → 3`, and `3 → 9`.\n",
    "You will also notice that two characters have disappeared, because they corresponded to zeroes in the pattern.\n",
    "\n",
    "This definition can be used to group the items of a vector according to a given vector of keys, provided that the keys are ordered in ascending order.\n",
    "For example:"
   ]
  },
  {
   "cell_type": "code",
   "execution_count": 41,
   "id": "optical-terrain",
   "metadata": {},
   "outputs": [
    {
     "data": {
      "text/html": [
       "<span style=\"white-space:pre; font-family: monospace\">┌─────┬───────────┬──┬────────┬─────┐\n",
       "│17 10│21 45 75 41│30│81 20 11│42 53│\n",
       "└─────┴───────────┴──┴────────┴─────┘\n",
       "</span>"
      ]
     },
     "execution_count": 41,
     "metadata": {},
     "output_type": "execute_result"
    }
   ],
   "source": [
    "area ← 22 22 41 41 41 41 57 63 63 63 85 85\n",
    "cash ← 17 10 21 45 75 41 30 81 20 11 42 53\n",
    "area ⊆ cash"
   ]
  },
  {
   "cell_type": "markdown",
   "id": "lonely-probability",
   "metadata": {},
   "source": [
    "This definition is also extremely convenient to divide a character string into a vector of strings on the basis of a separator.\n",
    "For example, let us partition a vector at each of its blank characters:"
   ]
  },
  {
   "cell_type": "code",
   "execution_count": 42,
   "id": "retained-bunch",
   "metadata": {},
   "outputs": [
    {
     "data": {
      "text/html": [
       "<span style=\"white-space:pre; font-family: monospace\">P a n a m a   i s   a   c a n a l   b e t w e e n   A t l a n t i c   a n d   P a c i f i c\n",
       "1 1 1 1 1 1 0 1 1 0 1 0 1 1 1 1 1 0 1 1 1 1 1 1 1 0 1 1 1 1 1 1 1 1 0 1 1 1 0 1 1 1 1 1 1 1\n",
       "</span>"
      ]
     },
     "execution_count": 42,
     "metadata": {},
     "output_type": "execute_result"
    }
   ],
   "source": [
    "phrase ← 'Panama is a canal between Atlantic and Pacific'\n",
    "↑phrase(phrase≠' ')"
   ]
  },
  {
   "cell_type": "code",
   "execution_count": 43,
   "id": "bored-yukon",
   "metadata": {},
   "outputs": [
    {
     "data": {
      "text/html": [
       "<span style=\"white-space:pre; font-family: monospace\">┌──────┬──┬─┬─────┬───────┬────────┬───┬───────┐\n",
       "│Panama│is│a│canal│between│Atlantic│and│Pacific│\n",
       "└──────┴──┴─┴─────┴───────┴────────┴───┴───────┘\n",
       "</span>"
      ]
     },
     "execution_count": 43,
     "metadata": {},
     "output_type": "execute_result"
    }
   ],
   "source": [
    "(phrase≠' ')⊆phrase"
   ]
  },
  {
   "cell_type": "markdown",
   "id": "disciplinary-kenya",
   "metadata": {},
   "source": [
    "The blanks have been removed, because they matched the zeroes, and a new enclosure starts at the beginning of each word, corresponding to the increment `0 → 1`.\n",
    "As you might imagine, this is extremely useful in many circumstances.\n",
    "One can write a function to do it, with the separator passed as a left argument:"
   ]
  },
  {
   "cell_type": "code",
   "execution_count": 44,
   "id": "sunrise-front",
   "metadata": {},
   "outputs": [
    {
     "data": {
      "text/html": [
       "<span style=\"white-space:pre; font-family: monospace\">Panama  \n",
       "is      \n",
       "a       \n",
       "canal   \n",
       "between \n",
       "Atlantic\n",
       "and     \n",
       "Pacific \n",
       "</span>"
      ]
     },
     "execution_count": 44,
     "metadata": {},
     "output_type": "execute_result"
    }
   ],
   "source": [
    "Cut ← {(~⍵∊⍺)⊆⍵}\n",
    "↑' 'Cut phrase"
   ]
  },
  {
   "cell_type": "markdown",
   "id": "preliminary-cookbook",
   "metadata": {},
   "source": [
    "In fact, we wrote the function to accept not just a single separator, but a list of separators, by replacing the perhaps more obvious `(⍵≠⍺)` by `(~⍵∊⍺)`.\n",
    "Now we can use it like this:"
   ]
  },
  {
   "cell_type": "code",
   "execution_count": 45,
   "id": "illegal-disease",
   "metadata": {},
   "outputs": [
    {
     "data": {
      "text/html": [
       "<span style=\"white-space:pre; font-family: monospace\">Pana                    \n",
       "a is a canal bet        \n",
       "een Atlantic and Pacific\n",
       "</span>"
      ]
     },
     "execution_count": 45,
     "metadata": {},
     "output_type": "execute_result"
    }
   ],
   "source": [
    "↑'mw' Cut phrase"
   ]
  },
  {
   "cell_type": "markdown",
   "id": "cross-consideration",
   "metadata": {},
   "source": [
    "#### Working on Higher-Rank Arrays\n",
    "\n",
    "Although _partition_ is very simple, and clearly useful, when applied to vectors, the situation is more complex when it is applied to matrices or higher-rank arrays.\n",
    "This is in contrast to the definition of _partitioned enclose_, which works on any rank arrays in a very straightforward way.\n",
    "We shall not study the more complex application of _partition_ here; if you are interested, please refer to the [Specialist's  Section](#The-Specialist's-Section) at the end of this chapter."
   ]
  },
  {
   "cell_type": "markdown",
   "id": "through-frame",
   "metadata": {},
   "source": [
    "## Union & Intersection\n",
    "\n",
    "In mathematics, one uses the two functions _union_ and _intersection_ to compare two sets of values.\n",
    "Dyalog APL provides the same functions, with the same symbols as the ones used in mathematics:\n",
    "\n",
    " - _union_, `left ∪ right` (typed with <kbd>APL</kbd> + <kbd>v</kbd>), returns a vector containing all the items of `left`, followed by the items of `right` which do not appear in `left`.\n",
    " Both `left` and `right` must be scalars or vectors.\n",
    " Equivalent to `left,right~left`.\n",
    " - _intersection_, `left ∩ right` (typed with <kbd>APL</kbd> + <kbd>c</kbd>), returns a vector containing the items of `left` that also appear in `right`.\n",
    " Both `left` and `right` must be scalars or vectors.\n",
    " Equivalent to `(left∊right)/left`."
   ]
  },
  {
   "cell_type": "code",
   "execution_count": 48,
   "id": "infinite-debut",
   "metadata": {},
   "outputs": [
    {
     "data": {
      "text/html": [
       "<span style=\"white-space:pre; font-family: monospace\">15 76 43 80 11 20 93\n",
       "</span>"
      ]
     },
     "execution_count": 48,
     "metadata": {},
     "output_type": "execute_result"
    }
   ],
   "source": [
    "15 76 43 80 ∪ 11 43 15 20 76 93"
   ]
  },
  {
   "cell_type": "code",
   "execution_count": 49,
   "id": "exact-recruitment",
   "metadata": {},
   "outputs": [
    {
     "data": {
      "text/html": [
       "<span style=\"white-space:pre; font-family: monospace\">┌───┬──┐\n",
       "│are│so│\n",
       "└───┴──┘\n",
       "</span>"
      ]
     },
     "execution_count": 49,
     "metadata": {},
     "output_type": "execute_result"
    }
   ],
   "source": [
    "'we' 'are' 'so' 'happy' ∩ 'why' 'are' 'you' 'so' 'tired?'"
   ]
  },
  {
   "cell_type": "markdown",
   "id": "neural-albania",
   "metadata": {},
   "source": [
    "Note that these functions do not remove duplicates (because, in mathematics, all the items of a set are supposedly distinct):"
   ]
  },
  {
   "cell_type": "code",
   "execution_count": 50,
   "id": "iraqi-pasta",
   "metadata": {},
   "outputs": [
    {
     "data": {
      "text/html": [
       "<span style=\"white-space:pre; font-family: monospace\">1 1 2 2 3 3 5 5\n",
       "</span>"
      ]
     },
     "execution_count": 50,
     "metadata": {},
     "output_type": "execute_result"
    }
   ],
   "source": [
    "1 1 2 2 ∪ 1 1 3 3 5 5"
   ]
  },
  {
   "cell_type": "code",
   "execution_count": 51,
   "id": "north-washer",
   "metadata": {},
   "outputs": [
    {
     "data": {
      "text/html": [
       "<span style=\"white-space:pre; font-family: monospace\">┌───┬───┐\n",
       "│had│had│\n",
       "└───┴───┘\n",
       "</span>"
      ]
     },
     "execution_count": 51,
     "metadata": {},
     "output_type": "execute_result"
    }
   ],
   "source": [
    "'if' 'we' 'had' 'had' 'a' 'car' ∩ 'have' 'you' 'had' 'lunch' '?'"
   ]
  },
  {
   "cell_type": "markdown",
   "id": "incident-fashion",
   "metadata": {},
   "source": [
    "## Enlist\n",
    "\n",
    "_Enlist_ is the monadic usage of _epsilon_ `∊`.\n",
    "_Enlist_ returns a vector of all the simple scalars contained in an array.\n",
    "This could, at first sight, look very much like _ravel_, but it is **not** the same for nested arrays.\n",
    "_Ravel_ just rearranges the top-level items of an array, while _enlist_ removes all levels of nesting and returns a simple vector.\n",
    "Let us compare the two functions:"
   ]
  },
  {
   "cell_type": "code",
   "execution_count": 54,
   "id": "natural-cologne",
   "metadata": {},
   "outputs": [
    {
     "data": {
      "text/html": [
       "<span style=\"white-space:pre; font-family: monospace\">┌─────┬────┐\n",
       "│One  │Two │\n",
       "├─────┼────┤\n",
       "│Three│Four│\n",
       "└─────┴────┘\n",
       "</span>"
      ]
     },
     "execution_count": 54,
     "metadata": {},
     "output_type": "execute_result"
    }
   ],
   "source": [
    "⎕← test ← 2 2⍴'One' 'Two' 'Three' 'Four'"
   ]
  },
  {
   "cell_type": "code",
   "execution_count": 55,
   "id": "dietary-exhibit",
   "metadata": {},
   "outputs": [
    {
     "data": {
      "text/html": [
       "<span style=\"white-space:pre; font-family: monospace\">┌───┬───┬─────┬────┐\n",
       "│One│Two│Three│Four│\n",
       "└───┴───┴─────┴────┘\n",
       "</span>"
      ]
     },
     "execution_count": 55,
     "metadata": {},
     "output_type": "execute_result"
    }
   ],
   "source": [
    ",test"
   ]
  },
  {
   "cell_type": "code",
   "execution_count": 56,
   "id": "contained-western",
   "metadata": {},
   "outputs": [
    {
     "data": {
      "text/html": [
       "<span style=\"white-space:pre; font-family: monospace\">OneTwoThreeFour\n",
       "</span>"
      ]
     },
     "execution_count": 56,
     "metadata": {},
     "output_type": "execute_result"
    }
   ],
   "source": [
    "∊test"
   ]
  },
  {
   "cell_type": "markdown",
   "id": "rough-northern",
   "metadata": {},
   "source": [
    "![Expert APLer determining how to best hammer a nail.](res/APLer-Expert_Blue.PNG)"
   ]
  },
  {
   "cell_type": "markdown",
   "id": "amateur-bowling",
   "metadata": {},
   "source": [
    "## Exercises\n",
    "\n",
    "**Exercise 5**:\n",
    "\n",
    "You are given two vectors.\n",
    "The first contains the reference codes for some items in a warehouse.\n",
    "Identical codes are grouped, but not necessarily in ascending order.\n",
    "The second vectors contains the quantities of each item sold during the day or the week.\n",
    "For example:"
   ]
  },
  {
   "cell_type": "code",
   "execution_count": 57,
   "id": "emotional-renewal",
   "metadata": {},
   "outputs": [],
   "source": [
    "ref ← 47 47 83 83 83 83 83 29 36 36 36 50 50\n",
    "qty ←  5  8  3 18 11  1  6 10 61 52 39  8 11"
   ]
  },
  {
   "cell_type": "markdown",
   "id": "furnished-cursor",
   "metadata": {},
   "source": [
    "Can you calculate how many items of each reference code have been sold?\n",
    "Preferably, use a partitioning function."
   ]
  },
  {
   "cell_type": "code",
   "execution_count": 58,
   "id": "younger-incentive",
   "metadata": {},
   "outputs": [],
   "source": [
    "QuantitiesSold ← {}\n",
    "ref QuantitiesSold qty\n",
    "⍝ 13 39 10 152 19"
   ]
  },
  {
   "cell_type": "markdown",
   "id": "valid-trance",
   "metadata": {},
   "source": [
    "**Exercise 6**:\n",
    "\n",
    "You are given two character matrices with the same number of columns.\n",
    "Let us call them `big` and `small`.\n",
    "\n",
    "You are asked to find where the rows of `small` appear in `big`. i.e., for each row in `small` find the index of the same row in `big`.\n",
    "For those rows of `small` which do not appear in `big`, you can return the value `0`, or `1+≢big`.\n",
    "\n",
    "Currently, _index of_ `⍳` works on matrices, but this hasn't always been the case.\n",
    "Thus, can you solve this exercise without using _index of_ on matrices?\n",
    "(Using _index of_ on vectors is still allowed!)\n",
    "\n",
    "You can use these two matrices to test your solution:"
   ]
  },
  {
   "cell_type": "code",
   "execution_count": 65,
   "id": "voluntary-communications",
   "metadata": {},
   "outputs": [
    {
     "data": {
      "text/html": [
       "<span style=\"white-space:pre; font-family: monospace\">1  2\n",
       "3  4\n",
       "5  6\n",
       "7  8\n",
       "9 10\n",
       "</span>"
      ]
     },
     "execution_count": 65,
     "metadata": {},
     "output_type": "execute_result"
    }
   ],
   "source": [
    "⎕← big ← 5 2⍴⍳10"
   ]
  },
  {
   "cell_type": "code",
   "execution_count": 66,
   "id": "strong-situation",
   "metadata": {},
   "outputs": [
    {
     "data": {
      "text/html": [
       "<span style=\"white-space:pre; font-family: monospace\"> 1  2\n",
       " 3  4\n",
       " 9 10\n",
       "11 12\n",
       "</span>"
      ]
     },
     "execution_count": 66,
     "metadata": {},
     "output_type": "execute_result"
    }
   ],
   "source": [
    "⎕← small ← (2 2⍴⍳4)⍪8+2 2⍴⍳8"
   ]
  },
  {
   "cell_type": "markdown",
   "id": "fleet-intro",
   "metadata": {},
   "source": [
    "The result should be"
   ]
  },
  {
   "cell_type": "code",
   "execution_count": 67,
   "id": "exposed-gibson",
   "metadata": {},
   "outputs": [
    {
     "data": {
      "text/html": [
       "<span style=\"white-space:pre; font-family: monospace\">1 2 5 6\n",
       "</span>"
      ]
     },
     "execution_count": 67,
     "metadata": {},
     "output_type": "execute_result"
    }
   ],
   "source": [
    "big ⍳ small"
   ]
  },
  {
   "cell_type": "markdown",
   "id": "german-white",
   "metadata": {},
   "source": [
    "Or `1 2 5 6`, if you prefer to return `0` for rows of `small` that do not exist in `big`.\n",
    "\n",
    "(For reference, this "
   ]
  },
  {
   "cell_type": "markdown",
   "id": "rough-lesbian",
   "metadata": {},
   "source": [
    "**Exercise 7**:\n",
    "\n",
    "Can you write a function that acts as the _enclose_ function, but only making use of _partitioned enclose_?\n",
    "**Caution**: handle correctly the case when the right argument is a scalar!"
   ]
  },
  {
   "cell_type": "code",
   "execution_count": 75,
   "id": "respiratory-mailman",
   "metadata": {},
   "outputs": [],
   "source": [
    "Enclose ← {}\n",
    "Enclose 73\n",
    "⍝ 73\n",
    "Enclose 2 2⍴⍳4\n",
    "⍝ ┌───┐\n",
    "⍝ │1 2│\n",
    "⍝ │3 4│\n",
    "⍝ └───┘"
   ]
  },
  {
   "cell_type": "markdown",
   "id": "minute-mongolia",
   "metadata": {},
   "source": [
    "**Exercise 8**:\n",
    "\n",
    "A _partitioned enclose_ with a single zero as the left argument returns an empty vector:"
   ]
  },
  {
   "cell_type": "code",
   "execution_count": 77,
   "id": "adopted-summit",
   "metadata": {},
   "outputs": [
    {
     "data": {
      "text/html": [
       "<span style=\"white-space:pre; font-family: monospace\">\n",
       "\n",
       "\n",
       "</span>"
      ]
     },
     "execution_count": 77,
     "metadata": {},
     "output_type": "execute_result"
    }
   ],
   "source": [
    "0⊂'Partition'"
   ]
  },
  {
   "cell_type": "markdown",
   "id": "interior-background",
   "metadata": {},
   "source": [
    "As you know already, not all empty vectors are the same.\n",
    "When working with empty vectors, we also work with prototypes, because an empty vector knows what it would contain if it were not empty.\n",
    "\n",
    "Go over the expressions that follow and build the empty vector that _matches_ the result of the empty _partitioned enclose_:\n",
    "\n",
    " - `0⊂'Partition'`\n",
    " - `0⊂⍳10`\n",
    " - `0⊂⍬`\n",
    " - `0⊂3 2⍴⎕A`\n",
    " - `0⊂3 4 5⍴⍳60`\n",
    " - `0⊂(1 2 3)(4 5 6)(7 8 9)`\n",
    " - `0⊂('cat')('dog')(7 8 9)`\n",
    "\n",
    "The first one is already solved:"
   ]
  },
  {
   "cell_type": "code",
   "execution_count": 79,
   "id": "suited-bottom",
   "metadata": {
    "scrolled": true
   },
   "outputs": [
    {
     "data": {
      "text/html": [
       "<span style=\"white-space:pre; font-family: monospace\">1\n",
       "</span>"
      ]
     },
     "execution_count": 79,
     "metadata": {},
     "output_type": "execute_result"
    }
   ],
   "source": [
    "sol ← 0⍴⊂''\n",
    "(0⊂'Partition')≡sol"
   ]
  },
  {
   "cell_type": "markdown",
   "id": "accurate-george",
   "metadata": {},
   "source": [
    "**Exercise 9**:\n",
    "\n",
    "Given a vector of `(X Y)` points, or a single `X Y` point, determine the total distance covered when travelling in a straight line from the first point to the next one, and so on until the last point, then returning directly back to the start.\n",
    "\n",
    "For example, given the points `(A B C) ← (¯1.5 ¯1.5)(1.5 2.5)(1.5 ¯1.5)` (in <!--figure-->the figure below<!--Going_The_Distance_Triangle-->), the distance `A` to `B` is `5`, `B` to `C` is `4` and `C` back to `A` is `3`, for a total of `12`.\n",
    "\n",
    "![The trianle [ABC]](res/Going_The_Distance_Triangle.png)"
   ]
  },
  {
   "cell_type": "code",
   "execution_count": 2,
   "id": "abandoned-supervisor",
   "metadata": {},
   "outputs": [],
   "source": [
    "(A B C) ← (¯1.5 ¯1.5)(1.5 2.5)(1.5 ¯1.5)\n",
    "Distance ← {}\n",
    "Distance A B C        ⍝ 12 - A to B to C to A"
   ]
  },
  {
   "cell_type": "code",
   "execution_count": 3,
   "id": "three-resolution",
   "metadata": {},
   "outputs": [],
   "source": [
    "Distance A B          ⍝ 10 - A to B and back"
   ]
  },
  {
   "cell_type": "code",
   "execution_count": 4,
   "id": "finnish-market",
   "metadata": {},
   "outputs": [],
   "source": [
    "Distance A            ⍝ 0  - standing still"
   ]
  },
  {
   "cell_type": "code",
   "execution_count": 5,
   "id": "suited-horizontal",
   "metadata": {},
   "outputs": [],
   "source": [
    "Distance A A B B C C  ⍝ 12 - staying in the same point adds nothing"
   ]
  },
  {
   "cell_type": "markdown",
   "id": "after-productivity",
   "metadata": {},
   "source": [
    "For reference, this exercise was problem 8 from phase 1 of the 2019 edition of the [APL Problem Solving Competition](https://dyalogaplcompetition.com/).\n",
    "You can find the other problems, from the 2019 edition and others, [here](https://problems.tryapl.org/)."
   ]
  },
  {
   "cell_type": "markdown",
   "id": "described-eligibility",
   "metadata": {},
   "source": [
    "**Exercise 10**:\n",
    "\n",
    "You are given a long character vector, called `text`.\n",
    "We would like to extract a part of it as a _simple_ character vector.\n",
    "The extract is defined as a number of sub-vectors, each being five characters long, and starting at the positions given by the vector `start`.\n",
    "\n",
    "For example:"
   ]
  },
  {
   "cell_type": "code",
   "execution_count": 70,
   "id": "exotic-living",
   "metadata": {},
   "outputs": [],
   "source": [
    "text ← 'This boring text has been typed just for a little experiment.'\n",
    "start ← 6 27 52\n",
    "Extract ← {}\n",
    "text Extract start\n",
    "⍝ 'borintypedxperi'"
   ]
  },
  {
   "cell_type": "markdown",
   "id": "historic-shepherd",
   "metadata": {},
   "source": [
    "**Exercise 11**:\n",
    "\n",
    "This exercise is the same as the previous one, but instead of extracting five characters each time, you are asked to extract a variable number of characters specified by the variable `long`.\n",
    "You can use the same example as above, plus this additional variable:"
   ]
  },
  {
   "cell_type": "code",
   "execution_count": 71,
   "id": "phantom-realtor",
   "metadata": {},
   "outputs": [],
   "source": [
    "length ← 3 8 4\n",
    "ExtractL ← {}\n",
    "text ExtractL start length\n",
    "⍝ 'bortyped juxper'"
   ]
  },
  {
   "cell_type": "markdown",
   "id": "expensive-missile",
   "metadata": {},
   "source": [
    "## The Specialist's Section\n",
    "\n",
    "<br />\n",
    "<center>\n",
    "<i>Each chapter is followed by a \"Specialist's Section\" like this one. This section is dedicated to skilled APLers, who wish to improve their knowledge.</i>\n",
    "You will find here rare or complex usages of the concepts presented in this chapter, or discover extended explanations which need the knowledge of some symbols that will be seen much further in the book.\n",
    "\n",
    "<b>If you are exploring APL for the first time, skip this section and go to the next chapter.</b>\n",
    "</center>"
   ]
  },
  {
   "cell_type": "markdown",
   "id": "durable-biotechnology",
   "metadata": {},
   "source": [
    "### Compatibility and Migration Level\n",
    "\n",
    "#### Migration Level\n",
    "\n",
    "In the early 1980s, a number of \"second-generation\" APL systems evolved to support _nested arrays_.\n",
    "Dyalog APL entered the market just as these systems were starting to appear, and decided to adopt the APL2 specification that IBM had been presenting to the world.\n",
    "In the event, unfortunately, the APL2 specification changed very late in this process, after Dyalog had more or less released Dyalog APL (or so the story goes).\n",
    "As a result, there are some minor differences between the dialects.\n",
    "\n",
    "Just to give you an idea of the (sometimes) subtle differences, let us take a look at the expression `a b c[2]`, where `a`, `b`, and `c` are three vectors; for example:"
   ]
  },
  {
   "cell_type": "code",
   "execution_count": 1,
   "id": "deluxe-focus",
   "metadata": {},
   "outputs": [],
   "source": [
    "a ← 1 2 3\n",
    "b ← 4 5 6\n",
    "c ← 7 8 9"
   ]
  },
  {
   "cell_type": "markdown",
   "id": "collaborative-ethiopia",
   "metadata": {},
   "source": [
    "The expression `a b c[2]` is ambiguous; it may be interpreted in two different ways:\n",
    "\n",
    " - does it mean \"create a 3-item vector made of `a`, `b`, and the second item of `c`\"; or\n",
    " - does it mean \"create a 3-item vector made of `a`, `b`, and `c`, and then take the second item of it (that is to say, `b` enclosed)?\n",
    "\n",
    "IBM chose the first interpretation, and in an IBM-compatible implementation of APL the result would be `(1 2 3) (4 5 6) 8`.\n",
    "\n",
    "In Dyalog APL, indexing is a function like any other function, in that it takes as its argument the entire vector on its left.\n",
    "The result is therefore `⊂4 5 6` (`⊂` because strand notation nested the items):"
   ]
  },
  {
   "cell_type": "code",
   "execution_count": 2,
   "id": "precise-release",
   "metadata": {},
   "outputs": [
    {
     "data": {
      "text/html": [
       "<span style=\"white-space:pre; font-family: monospace\">┌─────┐\n",
       "│4 5 6│\n",
       "└─────┘\n",
       "</span>"
      ]
     },
     "execution_count": 2,
     "metadata": {},
     "output_type": "execute_result"
    }
   ],
   "source": [
    "a b c[2]"
   ]
  },
  {
   "cell_type": "markdown",
   "id": "rural-layer",
   "metadata": {},
   "source": [
    "As a minor player at the time, Dyalog wished to move the product in the direction of APL2, and in order to help the people who needed to use both IBM's APL2 and Dyalog APL, and to make it easier to migrate an application from APL2 to Dyalog, a compatibility feature was introduced into Dyalog APL via a special _system variable_ named `⎕ML`, where the letters \"ML\" stand for \"migration level\".\n",
    "\n",
    "The default value for `⎕ML` is one.\n",
    "\n",
    "To use code written according to IBM's conventions, it is possible to set `⎕ML` to higher values (up to three), and obtain an increasing (but not total) level of compatibility with IBM's APL2.\n",
    "In other words, setting `⎕ML` to zero means \"the Dyalog way\", which also shows that the default value for `⎕ML` is a small compromise between Dyalog's original specification and APL2.\n",
    "Today, Dyalog has become a major player in the APL market.\n",
    "Pressure on Dyalog users to move in the direction of APL2 has faded and many users prefer the Dyalog definitions.\n",
    "The unfortunate result of the story is that, depending on the roots of an application, code may be written to use any one of the possible migration levels.\n",
    "\n",
    "In this book we use the default value of `⎕ML ← 1`, but we shall mention how some operations could be written in IBM's notation.\n",
    "\n",
    "It should be emphasised that when you select a non-zero value for `⎕ML`, the \"Dyalog way\" of operation will no longer be available for the primitive functions that are sensitive to the selected value of `⎕ML`.\n",
    "\n",
    "<!-- begin remark -->\n",
    "***Remember this***:\n",
    "\n",
    " > `⎕ML` is a normal _system variable_.\n",
    " > It can be localised in a function header or in a dynamic function, so that its influence is restricted to that function.\n",
    "<!-- end -->"
   ]
  },
  {
   "cell_type": "markdown",
   "id": "collective-theology",
   "metadata": {},
   "source": [
    "### A List of Differences\n",
    "\n",
    "This list is not a complete list of language differences between IBM APL2 and Dyalog.\n",
    "It only lists the features of Dyalog APL that can be made to function like those of APL2 by setting `⎕ML` appropriately.\n",
    "\n",
    "The first column contains the operation we are talking about.\n",
    "The second and third columns compare how you do perform that operation the \"Dyalog way\" (with `⎕ML ← 0`) or in APL2, respectively; and the fourth column contains additional comments.\n",
    "\n",
    "| Operation | Dyalog's implementation | IBM's implementation | Comments |\n",
    "| :- | :- | :- | :- |\n",
    "| Mix | `↑[n]var` with `n` decimal | `⊃[n]var` with `n` integer or decimal | Same behaviour, different symbols. IBM's definition requires `⎕ML≥2`. |\n",
    "| Split | `↓[n]var` | `⊂[n]` | Same behaviour, different symbols. IBM's definition requires `⎕ML≥1`. |\n",
    "| Partition | `pat⊂[n]var` with `pat` Boolean | `pat⊂[n]var` with `pat` integer | Same syntax, but different behaviour. With `⎕ML≥3`, Dyalog's `⊂` becomes the same as `⊆`, because `⊆` behaves like IBM's partition. |\n",
    "| First | `⊃var` | `↑var` | Same behaviour, different symbols. IBM's definition requires `⎕ML≥2`. |\n",
    "| Enlist | n/a | `∊var` | No Dyalog equivalent. Requires `⎕ML>0`, but because the default value of `⎕ML` is 1, _enlist_ is typically available in Dyalog. |\n",
    "| Type | `∊var` | `↑0⍴⊂var` | No special symbol in IBM's definition. The IBM expression requires `⎕ML≥2`. Because `⎕ML←1` is the default, `∊` is  generally the _enlist_ function, not the _type_ function. See [below](./Nested-Arrays-Continued.ipynb#Type-and-Prototype). |\n",
    "| Depth | `≡var` | `≡var` | If the items of `var` have non-uniform depths, the IBM definition returns the absolute value of the depth rather than a negative value. IBM's definition requires `⎕ML≥2`. |\n",
    "| `⎕TC` | Backspace, Linefeed, Newline | Backspace, Newline, Linefeed | The order of the contents of `⎕TC` changes. IBM's definition requires `⎕ML≥3`. |"
   ]
  },
  {
   "cell_type": "code",
   "execution_count": null,
   "id": "legendary-particle",
   "metadata": {},
   "outputs": [],
   "source": []
  }
 ],
 "metadata": {
  "kernelspec": {
   "display_name": "Dyalog APL",
   "language": "apl",
   "name": "dyalog-kernel"
  },
  "language_info": {
   "file_extension": ".apl",
   "mimetype": "text/apl",
   "name": "APL"
  },
  "toc": {
   "base_numbering": 1,
   "nav_menu": {},
   "number_sections": false,
   "sideBar": true,
   "skip_h1_title": true,
   "title_cell": "Table of Contents",
   "title_sidebar": "Contents",
   "toc_cell": false,
   "toc_position": {
    "height": "calc(100% - 180px)",
    "left": "10px",
    "top": "150px",
    "width": "360px"
   },
   "toc_section_display": true,
   "toc_window_display": false
  }
 },
 "nbformat": 4,
 "nbformat_minor": 5
}
