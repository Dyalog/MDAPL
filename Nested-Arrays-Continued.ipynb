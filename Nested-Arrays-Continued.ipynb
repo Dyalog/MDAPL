{
 "cells": [
  {
   "cell_type": "markdown",
   "id": "small-subscription",
   "metadata": {},
   "source": [
    "# Nested Arrays (Continued)\n",
    "\n",
    "## First Contact\n",
    "\n",
    "### Definitions\n",
    "\n",
    "We have already met *nested* arrays in [the chapter about Data and Variables](./Data-and-Variables.ipynb); let us just remind ourselves of some definitions:\n",
    "\n",
    "An array is said to be *generalised* or *nested* when one or more of its items are not simple scalars, but scalars containing \"enclosed\" arrays (this term will be explained soon).\n",
    "\n",
    "Such an array can be created in many ways, although until now we have only covered the simplest one, called *vector notation*, or *strand notation*.\n",
    "Using this notation, the items of an array are just juxtaposed, and each item can be identified as a separate item because:\n",
    "\n",
    " - it is separated from its neighbours by **blanks**, or\n",
    " - it is embedded within **quotes**, or\n",
    " - it is an expression embedded within **parentheses**, or\n",
    " - it is a **variable name**, or the name of a niladic function which returns a result.\n",
    " \n",
    " Just to demonstrate how it works, we will create a nested vector and a nested matrix:"
   ]
  },
  {
   "cell_type": "code",
   "execution_count": 1,
   "id": "pediatric-tender",
   "metadata": {},
   "outputs": [],
   "source": [
    "one ← 2 2⍴8 6 2 4\n",
    "two ← 'Hello'"
   ]
  },
  {
   "cell_type": "code",
   "execution_count": 2,
   "id": "normal-packet",
   "metadata": {},
   "outputs": [
    {
     "data": {
      "text/html": [
       "<span style=\"white-space:pre; font-family: monospace\">┌→───────────────────────────────────────┐\n",
       "│       ┌→───┐    ┌→───────┐    ┌→──┐    │\n",
       "│ 87 24 │John│ 51 │78 45 23│ 85 ↓8 6│ 69 │\n",
       "│       └────┘    └~───────┘    │2 4│    │\n",
       "│                               └~──┘    │\n",
       "└∊───────────────────────────────────────┘\n",
       "</span>"
      ]
     },
     "execution_count": 2,
     "metadata": {},
     "output_type": "execute_result"
    }
   ],
   "source": [
    "nesVec ← 87 24 'John' 51 (78 45 23) 85 one 69\n",
    "]display nesVec"
   ]
  },
  {
   "cell_type": "code",
   "execution_count": 3,
   "id": "maritime-minister",
   "metadata": {},
   "outputs": [
    {
     "data": {
      "text/html": [
       "<span style=\"white-space:pre; font-family: monospace\">┌→───────────────────────┐\n",
       "↓ ┌→─────┐       ┌→────┐ │\n",
       "│ │Dyalog│ 44    │Hello│ │\n",
       "│ └──────┘       └─────┘ │\n",
       "│          ┌→──┐ ┌→────┐ │\n",
       "│ 27       ↓8 6│ ↓1 2 0│ │\n",
       "│          │2 4│ │0 0 5│ │\n",
       "│          └~──┘ └~────┘ │\n",
       "└∊───────────────────────┘\n",
       "</span>"
      ]
     },
     "execution_count": 3,
     "metadata": {},
     "output_type": "execute_result"
    }
   ],
   "source": [
    "nesMat ← 2 3⍴'Dyalog' 44 two 27 one (2 3⍴1 2 0 0 0 5)\n",
    "]display nesMat"
   ]
  },
  {
   "cell_type": "markdown",
   "id": "victorian-oasis",
   "metadata": {},
   "source": [
    "Later, we will provide a more formal description of this notation."
   ]
  },
  {
   "cell_type": "markdown",
   "id": "electoral-tradition",
   "metadata": {},
   "source": [
    "### Enclose & Disclose\n",
    "\n",
    "It seems so easy to create and work with nested arrays;\n",
    "couldn't we turn a simple array into a nested array by, for example, replacing one item of a simple matrix with a vector, like this:\n",
    "\n",
    "First, we create a simple matrix:"
   ]
  },
  {
   "cell_type": "code",
   "execution_count": 4,
   "id": "transsexual-receptor",
   "metadata": {},
   "outputs": [
    {
     "data": {
      "text/html": [
       "<span style=\"white-space:pre; font-family: monospace\">87 63 52\n",
       "74 11 62\n",
       "</span>"
      ]
     },
     "execution_count": 4,
     "metadata": {},
     "output_type": "execute_result"
    }
   ],
   "source": [
    "⎕← mat ← 2 3⍴87 63 52 74 11 62"
   ]
  },
  {
   "cell_type": "markdown",
   "id": "traditional-accounting",
   "metadata": {},
   "source": [
    "Then we try to change it into a nested array:"
   ]
  },
  {
   "cell_type": "code",
   "execution_count": 5,
   "id": "radio-clinic",
   "metadata": {},
   "outputs": [
    {
     "name": "stderr",
     "output_type": "stream",
     "text": [
      "LENGTH ERROR\n",
      "      mat[1;2]←10 20 30\n",
      "              ∧\n"
     ]
    }
   ],
   "source": [
    "mat[1;2] ← 10 20 30"
   ]
  },
  {
   "cell_type": "markdown",
   "id": "prompt-premiere",
   "metadata": {},
   "source": [
    "It doesn't work!\n",
    "\n",
    "We cannot replace **one** item with an array of **three** items.\n",
    "\n",
    "`mat[1;2]` is a scalar.\n",
    "We can only replace it with a scalar."
   ]
  },
  {
   "cell_type": "markdown",
   "id": "twenty-electricity",
   "metadata": {},
   "source": [
    "#### Enclose\n",
    "\n",
    "Let us now use a little trick to make the assignment above work.\n",
    "We just have to zip up the three values into a single \"bag\", using a function called *enclose*, represented by the symbol `⊂`.\n",
    "\n",
    "Then we will be able to replace one item by one bag!"
   ]
  },
  {
   "cell_type": "code",
   "execution_count": 6,
   "id": "recorded-willow",
   "metadata": {},
   "outputs": [
    {
     "data": {
      "text/html": [
       "<span style=\"white-space:pre; font-family: monospace\">┌──┬────────┬──┐\n",
       "│87│10 20 30│52│\n",
       "├──┼────────┼──┤\n",
       "│74│11      │62│\n",
       "└──┴────────┴──┘\n",
       "</span>"
      ]
     },
     "execution_count": 6,
     "metadata": {},
     "output_type": "execute_result"
    }
   ],
   "source": [
    "mat[1;2] ← ⊂10 20 30\n",
    "mat"
   ]
  },
  {
   "cell_type": "markdown",
   "id": "imperial-compromise",
   "metadata": {},
   "source": [
    "Now it works!\n",
    "\n",
    "We can, of course, do the same with character data, but we now know that an expression like"
   ]
  },
  {
   "cell_type": "code",
   "execution_count": 7,
   "id": "exterior-salem",
   "metadata": {},
   "outputs": [
    {
     "name": "stderr",
     "output_type": "stream",
     "text": [
      "LENGTH ERROR\n",
      "      mat[2;3]←2 4⍴'JohnPete'\n",
      "              ∧\n"
     ]
    }
   ],
   "source": [
    "mat[2;3] ← 2 4⍴'JohnPete'"
   ]
  },
  {
   "cell_type": "markdown",
   "id": "lyric-destiny",
   "metadata": {},
   "source": [
    "is incorrect\n",
    "we must enclose the array like this:"
   ]
  },
  {
   "cell_type": "code",
   "execution_count": 8,
   "id": "distant-combat",
   "metadata": {},
   "outputs": [],
   "source": [
    "mat[2;3] ← ⊂2 4⍴'JohnPete'"
   ]
  },
  {
   "cell_type": "markdown",
   "id": "important-bible",
   "metadata": {},
   "source": [
    "The result is what we expected:"
   ]
  },
  {
   "cell_type": "code",
   "execution_count": 9,
   "id": "generic-gossip",
   "metadata": {},
   "outputs": [
    {
     "data": {
      "text/html": [
       "<span style=\"white-space:pre; font-family: monospace\">┌→─────────────────────┐\n",
       "↓    ┌→───────┐        │\n",
       "│ 87 │10 20 30│ 52     │\n",
       "│    └~───────┘        │\n",
       "│               ┌→───┐ │\n",
       "│ 74 11         ↓John│ │\n",
       "│               │Pete│ │\n",
       "│               └────┘ │\n",
       "└∊─────────────────────┘\n",
       "</span>"
      ]
     },
     "execution_count": 9,
     "metadata": {},
     "output_type": "execute_result"
    }
   ],
   "source": [
    "]display mat"
   ]
  },
  {
   "cell_type": "markdown",
   "id": "nearby-illness",
   "metadata": {},
   "source": [
    "The result of *enclose* is always a scalar: cf. [the section below](./Nested-Arrays-Continued.ipynb#Simple-and-Other-Scalars)."
   ]
  },
  {
   "cell_type": "markdown",
   "id": "cellular-centre",
   "metadata": {},
   "source": [
    "#### Disclose\n",
    "\n",
    "If we look at the contents of `mat[2;3]`, we see a little 2 by 4 matrix, but if we look at its shape, we see that surprisingly it has no shape.\n",
    "Its rank is zero, so it must be a scalar!"
   ]
  },
  {
   "cell_type": "code",
   "execution_count": 10,
   "id": "strong-mirror",
   "metadata": {},
   "outputs": [
    {
     "data": {
      "text/html": [
       "<span style=\"white-space:pre; font-family: monospace\">┌────┐\n",
       "│John│\n",
       "│Pete│\n",
       "└────┘\n",
       "</span>"
      ]
     },
     "execution_count": 10,
     "metadata": {},
     "output_type": "execute_result"
    }
   ],
   "source": [
    "mat[2;3]"
   ]
  },
  {
   "cell_type": "code",
   "execution_count": 11,
   "id": "geological-spider",
   "metadata": {},
   "outputs": [
    {
     "data": {
      "text/html": [
       "<span style=\"white-space:pre; font-family: monospace\">\n",
       "</span>"
      ]
     },
     "execution_count": 11,
     "metadata": {},
     "output_type": "execute_result"
    }
   ],
   "source": [
    "⍴mat[2;3]"
   ]
  },
  {
   "cell_type": "markdown",
   "id": "pleased-stevens",
   "metadata": {},
   "source": [
    "As we can see, its shape is empty.\n",
    "And its rank is zero:"
   ]
  },
  {
   "cell_type": "code",
   "execution_count": 12,
   "id": "artificial-fetish",
   "metadata": {},
   "outputs": [
    {
     "data": {
      "text/html": [
       "<span style=\"white-space:pre; font-family: monospace\">0\n",
       "</span>"
      ]
     },
     "execution_count": 12,
     "metadata": {},
     "output_type": "execute_result"
    }
   ],
   "source": [
    "⍴⍴mat[2;3]"
   ]
  },
  {
   "cell_type": "markdown",
   "id": "alive-coating",
   "metadata": {},
   "source": [
    "The explanation is obvious:\n",
    "we have put this little matrix into a bag (a scalar), so we now see the bag, and not its contents.\n",
    "If we want to see its contents, we must extract them from the bag, using a function called *disclose*, which is represented by the symbol `⊃`.\n",
    "\n",
    "With it, we now have access to the matrix:"
   ]
  },
  {
   "cell_type": "code",
   "execution_count": 13,
   "id": "broadband-purple",
   "metadata": {},
   "outputs": [
    {
     "data": {
      "text/html": [
       "<span style=\"white-space:pre; font-family: monospace\">2 4\n",
       "</span>"
      ]
     },
     "execution_count": 13,
     "metadata": {},
     "output_type": "execute_result"
    }
   ],
   "source": [
    "⍴⊃mat[2;3]"
   ]
  },
  {
   "cell_type": "markdown",
   "id": "proprietary-expansion",
   "metadata": {},
   "source": [
    "And its rank is two, as expected:"
   ]
  },
  {
   "cell_type": "code",
   "execution_count": 14,
   "id": "egyptian-program",
   "metadata": {},
   "outputs": [
    {
     "data": {
      "text/html": [
       "<span style=\"white-space:pre; font-family: monospace\">2\n",
       "</span>"
      ]
     },
     "execution_count": 14,
     "metadata": {},
     "output_type": "execute_result"
    }
   ],
   "source": [
    "⍴⍴⊃mat[2;3]"
   ]
  },
  {
   "cell_type": "markdown",
   "id": "distributed-trainer",
   "metadata": {},
   "source": [
    "We experience the same behaviour if we try to extract one item from a nested vector.\n",
    "\n",
    "Let us recall the nested vector `nesVec`:"
   ]
  },
  {
   "cell_type": "code",
   "execution_count": 15,
   "id": "toxic-movement",
   "metadata": {},
   "outputs": [
    {
     "data": {
      "text/html": [
       "<span style=\"white-space:pre; font-family: monospace\">┌──┬──┬────┬──┬────────┬──┬───┬──┐\n",
       "│87│24│John│51│78 45 23│85│8 6│69│\n",
       "│  │  │    │  │        │  │2 4│  │\n",
       "└──┴──┴────┴──┴────────┴──┴───┴──┘\n",
       "</span>"
      ]
     },
     "execution_count": 15,
     "metadata": {},
     "output_type": "execute_result"
    }
   ],
   "source": [
    "nesVec"
   ]
  },
  {
   "cell_type": "markdown",
   "id": "dress-panic",
   "metadata": {},
   "source": [
    "We can use similar expressions to the ones we used on `mat`:"
   ]
  },
  {
   "cell_type": "code",
   "execution_count": 16,
   "id": "analyzed-testament",
   "metadata": {},
   "outputs": [
    {
     "data": {
      "text/html": [
       "<span style=\"white-space:pre; font-family: monospace\">\n",
       "</span>"
      ]
     },
     "execution_count": 16,
     "metadata": {},
     "output_type": "execute_result"
    }
   ],
   "source": [
    "⍴nesVec[5]"
   ]
  },
  {
   "cell_type": "markdown",
   "id": "assumed-assessment",
   "metadata": {},
   "source": [
    "The above looks like a scalar; it is a scalar, containing an eclosed vector.\n",
    "\n",
    "Once we disclose it, we gain access to its contents (three elements, in this case):"
   ]
  },
  {
   "cell_type": "code",
   "execution_count": 17,
   "id": "mighty-privacy",
   "metadata": {},
   "outputs": [
    {
     "data": {
      "text/html": [
       "<span style=\"white-space:pre; font-family: monospace\">3\n",
       "</span>"
      ]
     },
     "execution_count": 17,
     "metadata": {},
     "output_type": "execute_result"
    }
   ],
   "source": [
    "⍴⊃nesVec[5]"
   ]
  },
  {
   "cell_type": "markdown",
   "id": "wicked-instrument",
   "metadata": {},
   "source": [
    "In fact, this should not have come as a complete surprise to us.\n",
    "Earlier we learned that the shape of the result of an indexing operation is identical to the shape of the indices.\n",
    "In this case (as well as in the matrix case above), the index specifies a scalar.\n",
    "Hence, it would be incorrect to expect anything other than a scalar as the result of the indexing operation!"
   ]
  },
  {
   "cell_type": "markdown",
   "id": "rational-birth",
   "metadata": {},
   "source": [
    "#### Mnemonics\n",
    "\n",
    "It is easy to remember how to generate the two symbols for *enclose* and *disclose* on a US or UK keyboard:\n",
    "\n",
    " - *Disclose* `⊃` is generated by <kbd>APL</kbd>+<kbd>X</kbd>, as in e**X**tract; and\n",
    " - *Enclose* `⊂` is generated by <kbd>APL</kbd>+<kbd>Z</kbd>, as in **Z**ip-up.\n",
    "\n",
    "For reference, the actual symbols are called *left shoe* and *right shoe*, respectively for `⊂` and `⊃`; \"enclose\" and \"disclose\" are the names of the functions."
   ]
  },
  {
   "cell_type": "markdown",
   "id": "beginning-practice",
   "metadata": {},
   "source": [
    "#### Simple and Other Scalars\n",
    "\n",
    "We know that the result of *enclose* is **always** a scalar, but there is a difference between enclosing a scalar number or character, and enclosing any other array.\n",
    "\n",
    "When appropriate, we shall use four different terms:\n",
    "\n",
    " - *simple scalar* refers to a single number or letter (rank zero);\n",
    " - *enclosed array* refers to a scalar that is the result of enclosing anything other than a simple scalar;\n",
    " - *item* refers to a scalar that is a constituent of an array, whether it is a simple scalar or an enclosed array; and\n",
    " - *nested array* is an array in which at least one of the items is an enclosed array.\n",
    "\n",
    "Always remember these important points:\n",
    "\n",
    " - *enclose* does nothing to a simple scalar - it returns the scalar unchanged. The same for *disclose*;\n",
    " - all items of an array are effectively scalars, whether they are simple scalars or enclosed arrays: their rank is 0, and their shape is empty;\n",
    " - a single item can be replaced only by another single item: a simple scalar, or an array of values zipped up using *enclose* (to form an enclosed array); and\n",
    " - *vector notation* (*strand notation*) avoids the use of *enclose*, because of the conventions used to separate individual items from one another.\n",
    "\n",
    "Let us create four vectors:"
   ]
  },
  {
   "cell_type": "code",
   "execution_count": 18,
   "id": "amino-debate",
   "metadata": {},
   "outputs": [],
   "source": [
    "a ← 'coffee'\n",
    "b ← 'tea'\n",
    "c ← 'chocolate'"
   ]
  },
  {
   "cell_type": "code",
   "execution_count": 19,
   "id": "latter-sacrifice",
   "metadata": {},
   "outputs": [],
   "source": [
    "v ← a b c"
   ]
  },
  {
   "cell_type": "markdown",
   "id": "piano-lewis",
   "metadata": {},
   "source": [
    "The last statement is just a simpler way to write:"
   ]
  },
  {
   "cell_type": "code",
   "execution_count": 20,
   "id": "excellent-surgery",
   "metadata": {},
   "outputs": [],
   "source": [
    "v ← (⊂a),(⊂b),⊂c"
   ]
  },
  {
   "cell_type": "markdown",
   "id": "former-groove",
   "metadata": {},
   "source": [
    "So, we can see that each of the items of `v` is an enclosed character vector.\n",
    "Thus,"
   ]
  },
  {
   "cell_type": "code",
   "execution_count": 21,
   "id": "related-helping",
   "metadata": {},
   "outputs": [
    {
     "data": {
      "text/html": [
       "<span style=\"white-space:pre; font-family: monospace\">\n",
       "</span>"
      ]
     },
     "execution_count": 21,
     "metadata": {},
     "output_type": "execute_result"
    }
   ],
   "source": [
    "⍴v[1]"
   ]
  },
  {
   "cell_type": "markdown",
   "id": "specific-logistics",
   "metadata": {},
   "source": [
    "is `⍬`, not `6`:"
   ]
  },
  {
   "cell_type": "markdown",
   "id": "interior-basement",
   "metadata": {},
   "source": [
    "Here is another example:"
   ]
  },
  {
   "cell_type": "code",
   "execution_count": 22,
   "id": "related-spread",
   "metadata": {},
   "outputs": [
    {
     "data": {
      "text/html": [
       "<span style=\"white-space:pre; font-family: monospace\">┌→────────────────────────────────────────┐\n",
       "│ ┌→──┐    ┌→───┐        ┌→────┐ ┌→──┐    │\n",
       "│ │Yes│ 24 │John│ 51 987 │Hello│ ↓8 6│ 69 │\n",
       "│ └───┘    └────┘        └─────┘ │2 4│    │\n",
       "│                                └~──┘    │\n",
       "└∊────────────────────────────────────────┘\n",
       "</span>"
      ]
     },
     "execution_count": 22,
     "metadata": {},
     "output_type": "execute_result"
    }
   ],
   "source": [
    "nesVec[1 5 6] ← 'Yes' 987 'Hello'\n",
    "]display nesVec"
   ]
  },
  {
   "cell_type": "markdown",
   "id": "metropolitan-cathedral",
   "metadata": {},
   "source": [
    "If we use any additional *enclose* primitives, the results are very different.\n",
    "And the results also vary depending on where the *enclose* primitives are used.\n",
    "\n",
    "Here are two examples:"
   ]
  },
  {
   "cell_type": "code",
   "execution_count": 23,
   "id": "floating-lecture",
   "metadata": {},
   "outputs": [
    {
     "data": {
      "text/html": [
       "<span style=\"white-space:pre; font-family: monospace\">┌→────────────────────────────────────────────┐\n",
       "│ ┌→──┐    ┌→───┐        ┌─────────┐ ┌→──┐    │\n",
       "│ │Yes│ 24 │John│ 51 987 │ ┌→────┐ │ ↓8 6│ 69 │\n",
       "│ └───┘    └────┘        │ │Hello│ │ │2 4│    │\n",
       "│                        │ └─────┘ │ └~──┘    │\n",
       "│                        └∊────────┘          │\n",
       "└∊────────────────────────────────────────────┘\n",
       "</span>"
      ]
     },
     "execution_count": 23,
     "metadata": {},
     "output_type": "execute_result"
    }
   ],
   "source": [
    "nesVec[1 5 6] ← 'Yes' 987 (⊂'Hello')\n",
    "]display nesVec"
   ]
  },
  {
   "cell_type": "code",
   "execution_count": 24,
   "id": "rational-fleece",
   "metadata": {},
   "outputs": [
    {
     "data": {
      "text/html": [
       "<span style=\"white-space:pre; font-family: monospace\">┌→────────────────────────────────────────────────────────────────────────────────────────┐\n",
       "│ ┌→──────────────────┐    ┌→───┐    ┌→──────────────────┐ ┌→──────────────────┐ ┌→──┐    │\n",
       "│ │ ┌→──┐     ┌→────┐ │ 24 │John│ 51 │ ┌→──┐     ┌→────┐ │ │ ┌→──┐     ┌→────┐ │ ↓8 6│ 69 │\n",
       "│ │ │Yes│ 987 │Hello│ │    └────┘    │ │Yes│ 987 │Hello│ │ │ │Yes│ 987 │Hello│ │ │2 4│    │\n",
       "│ │ └───┘     └─────┘ │              │ └───┘     └─────┘ │ │ └───┘     └─────┘ │ └~──┘    │\n",
       "│ └∊──────────────────┘              └∊──────────────────┘ └∊──────────────────┘          │\n",
       "└∊────────────────────────────────────────────────────────────────────────────────────────┘\n",
       "</span>"
      ]
     },
     "execution_count": 24,
     "metadata": {},
     "output_type": "execute_result"
    }
   ],
   "source": [
    "nesVec[1 5 6] ← ⊂'Yes' 987 'Hello'\n",
    "]display nesVec"
   ]
  },
  {
   "cell_type": "markdown",
   "id": "devoted-waters",
   "metadata": {},
   "source": [
    "<!-- (TODO) Figure out what to do about the “More About DISPLAY” section. -->"
   ]
  },
  {
   "cell_type": "markdown",
   "id": "stuck-administration",
   "metadata": {},
   "source": [
    "## Depth & Match\n",
    "\n",
    "### Enclosing Scalars\n",
    "\n",
    "Applied to a simple scalar, *enclose* does nothing: the enclose of a simple scalar is the same simple scalar:"
   ]
  },
  {
   "cell_type": "code",
   "execution_count": 25,
   "id": "lesbian-embassy",
   "metadata": {},
   "outputs": [
    {
     "data": {
      "text/html": [
       "<span style=\"white-space:pre; font-family: monospace\">  \n",
       "35\n",
       "  \n",
       "</span>"
      ]
     },
     "execution_count": 25,
     "metadata": {},
     "output_type": "execute_result"
    }
   ],
   "source": [
    "]display 35"
   ]
  },
  {
   "cell_type": "code",
   "execution_count": 26,
   "id": "superb-float",
   "metadata": {},
   "outputs": [
    {
     "data": {
      "text/html": [
       "<span style=\"white-space:pre; font-family: monospace\">  \n",
       "35\n",
       "  \n",
       "</span>"
      ]
     },
     "execution_count": 26,
     "metadata": {},
     "output_type": "execute_result"
    }
   ],
   "source": [
    "]display ⊂35"
   ]
  },
  {
   "cell_type": "markdown",
   "id": "circular-baking",
   "metadata": {},
   "source": [
    "However, when applied to any other array, *enclose* puts a \"bag\" around it.\n",
    "\n",
    "First, we start with a simple vector:"
   ]
  },
  {
   "cell_type": "code",
   "execution_count": 27,
   "id": "following-scanning",
   "metadata": {},
   "outputs": [
    {
     "data": {
      "text/html": [
       "<span style=\"white-space:pre; font-family: monospace\">┌→────┐\n",
       "│2 4 8│\n",
       "└~────┘\n",
       "</span>"
      ]
     },
     "execution_count": 27,
     "metadata": {},
     "output_type": "execute_result"
    }
   ],
   "source": [
    "]display 2 4 8"
   ]
  },
  {
   "cell_type": "markdown",
   "id": "featured-strategy",
   "metadata": {},
   "source": [
    "If we use *enclose* once, we get a scalar containing a numeric vector:"
   ]
  },
  {
   "cell_type": "code",
   "execution_count": 28,
   "id": "voluntary-honduras",
   "metadata": {},
   "outputs": [
    {
     "data": {
      "text/html": [
       "<span style=\"white-space:pre; font-family: monospace\">┌─────────┐\n",
       "│ ┌→────┐ │\n",
       "│ │2 4 8│ │\n",
       "│ └~────┘ │\n",
       "└∊────────┘\n",
       "</span>"
      ]
     },
     "execution_count": 28,
     "metadata": {},
     "output_type": "execute_result"
    }
   ],
   "source": [
    "]display ⊂2 4 8"
   ]
  },
  {
   "cell_type": "markdown",
   "id": "pretty-performer",
   "metadata": {},
   "source": [
    "With one more *enclose*, we get a scalar containing another scalar, itself containing a numeric vector."
   ]
  },
  {
   "cell_type": "markdown",
   "id": "constitutional-premiere",
   "metadata": {},
   "source": [
    "### Depth\n",
    "\n",
    "Suppose that we write a function `Process`, which takes as its argument a vector consisting of: the name of a town, the number of inhabitants, a country code, and the turnover of our company in that town.\n",
    "\n",
    "For example, we could call the function as `Process 'Lyon' 466400 'FR' 894600`.\n",
    "\n",
    "For the purpose of this example, the function will just display the items it receives in its argument.\n",
    "We choose to write it with the following syntax:"
   ]
  },
  {
   "cell_type": "code",
   "execution_count": 29,
   "id": "nominated-couple",
   "metadata": {},
   "outputs": [],
   "source": [
    "]dinput\n",
    "Process ← {\n",
    "    (town pop coun tov) ← ⍵\n",
    "    ⎕← (15↑'Town = '),town\n",
    "    ⎕← (15↑'Population = '),⍕pop\n",
    "    ⎕← (15↑'Country = '),coun\n",
    "    ⎕← (15↑'Turnover = '),⍕tov\n",
    "}"
   ]
  },
  {
   "cell_type": "markdown",
   "id": "million-degree",
   "metadata": {},
   "source": [
    "Perhaps this is not the smartest thing we could do, but we did it!\n",
    "\n",
    "Now, let us execute the function and verify that it works properly:"
   ]
  },
  {
   "cell_type": "code",
   "execution_count": 30,
   "id": "adopted-horizontal",
   "metadata": {},
   "outputs": [
    {
     "data": {
      "text/html": [
       "<span style=\"white-space:pre; font-family: monospace\">Town =         York\n",
       "Population =   186800\n",
       "Country =      GB\n",
       "Turnover =     540678\n",
       "</span>"
      ]
     },
     "execution_count": 30,
     "metadata": {},
     "output_type": "execute_result"
    }
   ],
   "source": [
    "Process 'York' 186800 'GB' 540678"
   ]
  },
  {
   "cell_type": "markdown",
   "id": "approved-prairie",
   "metadata": {},
   "source": [
    "This looks promising, but what will happen if the user forgets one of the items that the function expects?\n",
    "Let's test it:"
   ]
  },
  {
   "cell_type": "code",
   "execution_count": 31,
   "id": "answering-austria",
   "metadata": {},
   "outputs": [
    {
     "name": "stderr",
     "output_type": "stream",
     "text": [
      "LENGTH ERROR\n",
      "Process[1] (town pop coun tov)←⍵\n",
      "                              ∧\n"
     ]
    }
   ],
   "source": [
    "Process 'York' 186800 'GB'"
   ]
  },
  {
   "cell_type": "markdown",
   "id": "combined-event",
   "metadata": {},
   "source": [
    "As we might expect, an error message is issued: we cannot put 3 values into 4 variables!\n",
    "\n",
    "Let us add a little test to our function to check whether or not the right argument has 4 items.\n",
    "\n",
    "Here is the new version; notice the new line of code:"
   ]
  },
  {
   "cell_type": "code",
   "execution_count": 32,
   "id": "opening-atlanta",
   "metadata": {},
   "outputs": [],
   "source": [
    "]dinput\n",
    "Process ← {\n",
    "    4≠≢⍵: 'Hey, weren''t you supposed to provide 4 values?'\n",
    "    (town pop coun tov) ← ⍵\n",
    "    ⎕← (15↑'Town = '),town\n",
    "    ⎕← (15↑'Population = '),⍕pop\n",
    "    ⎕← (15↑'Country = '),coun\n",
    "    ⎕← (15↑'Turnover = '),⍕tov\n",
    "}"
   ]
  },
  {
   "cell_type": "markdown",
   "id": "about-flexibility",
   "metadata": {},
   "source": [
    "It seems to work well now:"
   ]
  },
  {
   "cell_type": "code",
   "execution_count": 33,
   "id": "marked-silence",
   "metadata": {},
   "outputs": [
    {
     "data": {
      "text/html": [
       "<span style=\"white-space:pre; font-family: monospace\">Hey, weren't you supposed to provide 4 values?\n",
       "</span>"
      ]
     },
     "execution_count": 33,
     "metadata": {},
     "output_type": "execute_result"
    }
   ],
   "source": [
    "Process 'York' 186800 'GB'"
   ]
  },
  {
   "cell_type": "markdown",
   "id": "silent-auction",
   "metadata": {},
   "source": [
    "But one day the user forgets all but one of the items, and just types the name of the town.\n",
    "If the user is (un)lucky enough to type a town name with four letters, here is what happens:"
   ]
  },
  {
   "cell_type": "code",
   "execution_count": 34,
   "id": "fuzzy-respondent",
   "metadata": {},
   "outputs": [
    {
     "data": {
      "text/html": [
       "<span style=\"white-space:pre; font-family: monospace\">Town =         Y\n",
       "Population =   o\n",
       "Country =      r\n",
       "Turnover =     k\n",
       "</span>"
      ]
     },
     "execution_count": 34,
     "metadata": {},
     "output_type": "execute_result"
    }
   ],
   "source": [
    "Process 'York'"
   ]
  },
  {
   "cell_type": "markdown",
   "id": "historical-director",
   "metadata": {},
   "source": [
    "This trivial example shows that when nested arrays are involved, it is not sufficient to rely on the shape of an array;\n",
    "we need additional information: specifically, is it a simple or a nested array?\n",
    "To help distinguish between simple and nested arrays, APL provides a function named *depth*.\n",
    "It is represented by the monadic use of the symbol `≡`.\n",
    "\n",
    "Here is a set of rules that define how to determine the depth of an array:\n",
    "\n",
    " - the depth of a simple scalar is 0;\n",
    " - the depth of any other array of any shape is 1, if all of its items are simple scalars.\n",
    "\n",
    "We call such an array a *simple array*, so we can instead say:\n",
    "\n",
    " - the depth of a non-scalar, simple array is 1;\n",
    " - the depth of any other array is equal to the depth of its deepest item plus 1; and\n",
    " - the depth is positive if the array is uniform (all of its items have the same depth), and negative if it is not.\n",
    "\n",
    "Another intuitive definition of *depth* is this: if we `DISPLAY` the array and count the number of boxes you must pass to reach its deepest item.\n",
    "\n",
    "Here are some examples:"
   ]
  },
  {
   "cell_type": "code",
   "execution_count": 35,
   "id": "infinite-advice",
   "metadata": {},
   "outputs": [
    {
     "data": {
      "text/html": [
       "<span style=\"white-space:pre; font-family: monospace\">0\n",
       "</span>"
      ]
     },
     "execution_count": 35,
     "metadata": {},
     "output_type": "execute_result"
    }
   ],
   "source": [
    "≡ 540678"
   ]
  },
  {
   "cell_type": "markdown",
   "id": "emerging-treasure",
   "metadata": {},
   "source": [
    "As seen above, a scalar has depth 0.\n",
    "\n",
    "The following vector contains only simple scalars. Its depth is 1:"
   ]
  },
  {
   "cell_type": "code",
   "execution_count": 36,
   "id": "former-gabriel",
   "metadata": {},
   "outputs": [
    {
     "data": {
      "text/html": [
       "<span style=\"white-space:pre; font-family: monospace\">1\n",
       "</span>"
      ]
     },
     "execution_count": 36,
     "metadata": {},
     "output_type": "execute_result"
    }
   ],
   "source": [
    "≡ 15 84 37 11"
   ]
  },
  {
   "cell_type": "markdown",
   "id": "front-steal",
   "metadata": {},
   "source": [
    "The rank of an array doesn't influence directly its depth.\n",
    "If we reshape the vector above into a matrix, its depth is still 1 because it contains only simple scalars:"
   ]
  },
  {
   "cell_type": "code",
   "execution_count": 37,
   "id": "stable-relevance",
   "metadata": {
    "scrolled": true
   },
   "outputs": [
    {
     "data": {
      "text/html": [
       "<span style=\"white-space:pre; font-family: monospace\">1\n",
       "</span>"
      ]
     },
     "execution_count": 37,
     "metadata": {},
     "output_type": "execute_result"
    }
   ],
   "source": [
    "≡ 2 2⍴15 84 37 11"
   ]
  },
  {
   "cell_type": "markdown",
   "id": "consecutive-mother",
   "metadata": {},
   "source": [
    "Now, let us consider this nested vector:"
   ]
  },
  {
   "cell_type": "code",
   "execution_count": 38,
   "id": "polish-footwear",
   "metadata": {},
   "outputs": [
    {
     "data": {
      "text/html": [
       "<span style=\"white-space:pre; font-family: monospace\">2\n",
       "</span>"
      ]
     },
     "execution_count": 38,
     "metadata": {},
     "output_type": "execute_result"
    }
   ],
   "source": [
    "≡ vec1 ← (4 3) 'Yes' (8 7 5 6) (2 4)"
   ]
  },
  {
   "cell_type": "markdown",
   "id": "elementary-westminster",
   "metadata": {},
   "source": [
    "It is composed of four enclosed vectors, each of depth 1 - so `vec1` has depth 2.\n",
    "Now let us change the expression slightly:"
   ]
  },
  {
   "cell_type": "code",
   "execution_count": 39,
   "id": "laden-gothic",
   "metadata": {},
   "outputs": [
    {
     "data": {
      "text/html": [
       "<span style=\"white-space:pre; font-family: monospace\">¯2\n",
       "</span>"
      ]
     },
     "execution_count": 39,
     "metadata": {},
     "output_type": "execute_result"
    }
   ],
   "source": [
    "≡ vec2 ← (4 3) 'Yes' (8 7 5) 6 (2 4)"
   ]
  },
  {
   "cell_type": "markdown",
   "id": "enabling-feeding",
   "metadata": {},
   "source": [
    "This vector is no longer uniform: it contains four enclosed vectors and one simple scalar, so its depth is negative.\n",
    "The *magnitude* of the depth has not changed, since it reports the highest level of nesting.\n",
    "\n",
    "In this context, the word \"uniform\" only means that the array contains items of the same *depth*.\n",
    "\n",
    " - `vec2` is not uniform: it contains vectors (of depth 1) mixed with a scalar (of depth 0); and\n",
    " - `vec1` is uniform: all its items are vectors (of depth 1), even though they do not have the same shape, the same type, and certainly not the same content."
   ]
  },
  {
   "cell_type": "markdown",
   "id": "exact-sussex",
   "metadata": {},
   "source": [
    "## Each\n",
    "\n",
    "### Definition and Examples\n",
    "\n",
    "To avoid the necessity of processing the items of an array one after the other in an explicitly programmed loop, one can use a monadic operator called *each*, which is represented by a diaeresis symbol, which looks like `¨` and is typed with <kbd>APL</kbd>+<kbd>Shift</kbd>+<kbd>1</kbd>.\n",
    "\n",
    "As its name implies, *each* applies the function on its left (its *operand*) to each of the items of the array on its right (if the function is monadic), or to each pair of corresponding items of the arrays on its left and right (if the function is dyadic).\n",
    "\n",
    "Let us try it with some small nested vectors and a monadic function:"
   ]
  },
  {
   "cell_type": "code",
   "execution_count": 40,
   "id": "revolutionary-manner",
   "metadata": {},
   "outputs": [],
   "source": [
    "vec3 ← (5 2) (7 10 23) (52 41) (38 5 17 22)\n",
    "vec4 ← (15 12) 71023 (2 2⍴⍳4) (74 85 96)\n",
    "vec5 ← (7 5 1) (19 14 13) (33 44 55)"
   ]
  },
  {
   "cell_type": "markdown",
   "id": "controlling-creek",
   "metadata": {},
   "source": [
    "Now, we can ask for the shape of `vec3`:"
   ]
  },
  {
   "cell_type": "code",
   "execution_count": 41,
   "id": "korean-button",
   "metadata": {},
   "outputs": [
    {
     "data": {
      "text/html": [
       "<span style=\"white-space:pre; font-family: monospace\">4\n",
       "</span>"
      ]
     },
     "execution_count": 41,
     "metadata": {},
     "output_type": "execute_result"
    }
   ],
   "source": [
    "⍴vec3"
   ]
  },
  {
   "cell_type": "markdown",
   "id": "diagnostic-terry",
   "metadata": {},
   "source": [
    "Using `¨`, we can ask for the shape of *each of the items* of `vec3`:"
   ]
  },
  {
   "cell_type": "code",
   "execution_count": 42,
   "id": "precious-regard",
   "metadata": {},
   "outputs": [
    {
     "data": {
      "text/html": [
       "<span style=\"white-space:pre; font-family: monospace\">┌─┬─┬─┬─┐\n",
       "│2│3│2│4│\n",
       "└─┴─┴─┴─┘\n",
       "</span>"
      ]
     },
     "execution_count": 42,
     "metadata": {},
     "output_type": "execute_result"
    }
   ],
   "source": [
    "⍴¨vec3"
   ]
  },
  {
   "cell_type": "markdown",
   "id": "acoustic-circulation",
   "metadata": {},
   "source": [
    "We can do the same with the second vector:"
   ]
  },
  {
   "cell_type": "code",
   "execution_count": 43,
   "id": "selective-sweet",
   "metadata": {},
   "outputs": [
    {
     "data": {
      "text/html": [
       "<span style=\"white-space:pre; font-family: monospace\">┌─┬┬───┬─┐\n",
       "│2││2 2│3│\n",
       "└─┴┴───┴─┘\n",
       "</span>"
      ]
     },
     "execution_count": 43,
     "metadata": {},
     "output_type": "execute_result"
    }
   ],
   "source": [
    "⍴¨vec4"
   ]
  },
  {
   "cell_type": "markdown",
   "id": "sensitive-novelty",
   "metadata": {},
   "source": [
    "Beware! One item of `vec4` is a scalar, so its shape is empty, as shown above.\n",
    "If `]box` were off, this could look odd at first sight:"
   ]
  },
  {
   "cell_type": "code",
   "execution_count": 44,
   "id": "surrounded-timer",
   "metadata": {},
   "outputs": [
    {
     "data": {
      "text/html": [
       "<span style=\"white-space:pre; font-family: monospace\">Was ON\n",
       "</span>"
      ]
     },
     "execution_count": 44,
     "metadata": {},
     "output_type": "execute_result"
    }
   ],
   "source": [
    "]box off"
   ]
  },
  {
   "cell_type": "code",
   "execution_count": 45,
   "id": "alert-terry",
   "metadata": {},
   "outputs": [
    {
     "data": {
      "text/html": [
       "<span style=\"white-space:pre; font-family: monospace\"> 2    2 2  3 \n",
       "</span>"
      ]
     },
     "execution_count": 45,
     "metadata": {},
     "output_type": "execute_result"
    }
   ],
   "source": [
    "⍴¨vec4"
   ]
  },
  {
   "cell_type": "code",
   "execution_count": 46,
   "id": "professional-studio",
   "metadata": {},
   "outputs": [
    {
     "data": {
      "text/html": [
       "<span style=\"white-space:pre; font-family: monospace\">Was OFF\n",
       "</span>"
      ]
     },
     "execution_count": 46,
     "metadata": {},
     "output_type": "execute_result"
    }
   ],
   "source": [
    "]box on"
   ]
  },
  {
   "cell_type": "markdown",
   "id": "entitled-gamma",
   "metadata": {},
   "source": [
    "If the function specified as the operand to *each* is dyadic, the derived function is also dyadic.\n",
    "As usual, if one of the arguments is a scalar, the scalar is automatically repeated to match the shape of the other argument.\n",
    "For example, take the following vector with the names of some months:"
   ]
  },
  {
   "cell_type": "code",
   "execution_count": 47,
   "id": "possible-driving",
   "metadata": {},
   "outputs": [],
   "source": [
    "monVec ← 'January' 'February' 'March' 'April' 'May' 'June'"
   ]
  },
  {
   "cell_type": "markdown",
   "id": "outstanding-northwest",
   "metadata": {},
   "source": [
    "To take the first 3 letters of *each* vector in that vector of vectors, we would do"
   ]
  },
  {
   "cell_type": "code",
   "execution_count": 48,
   "id": "handmade-society",
   "metadata": {},
   "outputs": [
    {
     "data": {
      "text/html": [
       "<span style=\"white-space:pre; font-family: monospace\">┌───┬───┬───┬───┬───┬───┐\n",
       "│Jan│Feb│Mar│Apr│May│Jun│\n",
       "└───┴───┴───┴───┴───┴───┘\n",
       "</span>"
      ]
     },
     "execution_count": 48,
     "metadata": {},
     "output_type": "execute_result"
    }
   ],
   "source": [
    "3↑¨monVec"
   ]
  },
  {
   "cell_type": "markdown",
   "id": "supreme-anthropology",
   "metadata": {},
   "source": [
    "As we have just shown, there is no need to repeat the `3` to have the same shape as `monVec`.\n",
    "\n",
    "Naturally, the operand to *each* can also be a *user-defined function*, provided that it can be applied to all of the items of the argument array(s):"
   ]
  },
  {
   "cell_type": "code",
   "execution_count": 49,
   "id": "reflected-wheat",
   "metadata": {},
   "outputs": [
    {
     "data": {
      "text/html": [
       "<span style=\"white-space:pre; font-family: monospace\">3.5 13.3333 46.5 20.5\n",
       "</span>"
      ]
     },
     "execution_count": 49,
     "metadata": {},
     "output_type": "execute_result"
    }
   ],
   "source": [
    "Average ← {(+/⍵)÷≢⍵}\n",
    "Average¨vec3"
   ]
  },
  {
   "cell_type": "markdown",
   "id": "interim-portland",
   "metadata": {},
   "source": [
    "<!-- begin remark -->\n",
    "***Remark***:\n",
    "\n",
    " > In fact, *each* is a bit more than a \"hidden\" loop.\n",
    " >\n",
    " > Please, remember that all items of an array are scalars - either simple scalars or enclosed arrays.\n",
    " > So, in an expression like `⍴¨vec5`, shouldn't we expect the result to be just a list of three empty vectors, since the shape of a scalar is an empty vector?\n",
    " >\n",
    " > No, the *each* operator is smarter than that.\n",
    " > For each item of the argument array, the item is first *disclosed* (the \"bag\" is opened), the function is applied to the disclosed item, and the result is *enclosed* again to form a scalar (i.e., put into a new \"bag\").\n",
    " > Finally, all the new bags (scalars) are arranged in exactly the same structure (rank and shape) as the original argument array to for the final result.\n",
    "<!-- end -->\n",
    "\n",
    "So,"
   ]
  },
  {
   "cell_type": "code",
   "execution_count": 50,
   "id": "wired-digit",
   "metadata": {},
   "outputs": [
    {
     "data": {
      "text/html": [
       "<span style=\"white-space:pre; font-family: monospace\">┌─┬─┬─┐\n",
       "│3│3│3│\n",
       "└─┴─┴─┘\n",
       "</span>"
      ]
     },
     "execution_count": 50,
     "metadata": {},
     "output_type": "execute_result"
    }
   ],
   "source": [
    "⍴¨vec5"
   ]
  },
  {
   "cell_type": "markdown",
   "id": "surrounded-auction",
   "metadata": {},
   "source": [
    "is in fact equivalent to"
   ]
  },
  {
   "cell_type": "code",
   "execution_count": 51,
   "id": "chronic-bleeding",
   "metadata": {},
   "outputs": [
    {
     "data": {
      "text/html": [
       "<span style=\"white-space:pre; font-family: monospace\">┌─┬─┬─┐\n",
       "│3│3│3│\n",
       "└─┴─┴─┘\n",
       "</span>"
      ]
     },
     "execution_count": 51,
     "metadata": {},
     "output_type": "execute_result"
    }
   ],
   "source": [
    "(⊂⍴⊃vec5[1]), (⊂⍴⊃vec5[2]), (⊂⍴⊃vec5[3])"
   ]
  },
  {
   "cell_type": "code",
   "execution_count": 52,
   "id": "fitted-medicaid",
   "metadata": {},
   "outputs": [
    {
     "data": {
      "text/html": [
       "<span style=\"white-space:pre; font-family: monospace\">1\n",
       "</span>"
      ]
     },
     "execution_count": 52,
     "metadata": {},
     "output_type": "execute_result"
    }
   ],
   "source": [
    "(⍴¨vec5)≡(⊂⍴⊃vec5[1]), (⊂⍴⊃vec5[2]), (⊂⍴⊃vec5[3])"
   ]
  },
  {
   "cell_type": "markdown",
   "id": "imposed-dressing",
   "metadata": {},
   "source": [
    "If the operand to *each* is a dyadic function, the corresponding items of the left and right arguments are both disclosed before applying the function.\n",
    "\n",
    "We have seen that the operand to *each* may be a primitive function or a user-defined function.\n",
    "It may also be a *derived function* returned by another operator.\n",
    "For example, in the following expressions, the operand to *each* is not `/`, but the derived function `+/`.\n",
    "\n",
    "In this example, we sum the numbers inside each item of the vector:"
   ]
  },
  {
   "cell_type": "code",
   "execution_count": 53,
   "id": "primary-power",
   "metadata": {},
   "outputs": [
    {
     "data": {
      "text/html": [
       "<span style=\"white-space:pre; font-family: monospace\">7 40 93 82\n",
       "</span>"
      ]
     },
     "execution_count": 53,
     "metadata": {},
     "output_type": "execute_result"
    }
   ],
   "source": [
    "+/¨vec3"
   ]
  },
  {
   "cell_type": "markdown",
   "id": "underlying-frost",
   "metadata": {},
   "source": [
    "In this next one, it still works, even though one item is a matrix:"
   ]
  },
  {
   "cell_type": "code",
   "execution_count": 54,
   "id": "accessory-landscape",
   "metadata": {},
   "outputs": [
    {
     "data": {
      "text/html": [
       "<span style=\"white-space:pre; font-family: monospace\">┌──┬─────┬───┬───┐\n",
       "│27│71023│3 7│255│\n",
       "└──┴─────┴───┴───┘\n",
       "</span>"
      ]
     },
     "execution_count": 54,
     "metadata": {},
     "output_type": "execute_result"
    }
   ],
   "source": [
    "+/¨vec4"
   ]
  },
  {
   "cell_type": "markdown",
   "id": "returning-tuition",
   "metadata": {},
   "source": [
    "Beware: in some cases, the same derived function can be applied with or without the help of *each*, but the result will not be the same at all:"
   ]
  },
  {
   "cell_type": "code",
   "execution_count": 55,
   "id": "psychological-gather",
   "metadata": {},
   "outputs": [
    {
     "data": {
      "text/html": [
       "<span style=\"white-space:pre; font-family: monospace\">┌→──────────────────────────────┐\n",
       "│ ┌→────┐ ┌→───────┐ ┌→───────┐ │\n",
       "│ │7 5 1│ │19 14 13│ │33 44 55│ │\n",
       "│ └~────┘ └~───────┘ └~───────┘ │\n",
       "└∊──────────────────────────────┘\n",
       "</span>"
      ]
     },
     "execution_count": 55,
     "metadata": {},
     "output_type": "execute_result"
    }
   ],
   "source": [
    "]display vec5"
   ]
  },
  {
   "cell_type": "markdown",
   "id": "optical-ceremony",
   "metadata": {},
   "source": [
    "Without `¨`, `+/` sums the three sub-vectors together:"
   ]
  },
  {
   "cell_type": "code",
   "execution_count": 56,
   "id": "young-wonder",
   "metadata": {},
   "outputs": [
    {
     "data": {
      "text/html": [
       "<span style=\"white-space:pre; font-family: monospace\">┌────────┐\n",
       "│59 63 69│\n",
       "└────────┘\n",
       "</span>"
      ]
     },
     "execution_count": 56,
     "metadata": {},
     "output_type": "execute_result"
    }
   ],
   "source": [
    "+/vec5"
   ]
  },
  {
   "cell_type": "markdown",
   "id": "portable-average",
   "metadata": {},
   "source": [
    "With `¨`, `+/¨` will compute the sum of *each* of the sub-vectors:"
   ]
  },
  {
   "cell_type": "code",
   "execution_count": 57,
   "id": "royal-smith",
   "metadata": {},
   "outputs": [
    {
     "data": {
      "text/html": [
       "<span style=\"white-space:pre; font-family: monospace\">13 46 132\n",
       "</span>"
      ]
     },
     "execution_count": 57,
     "metadata": {},
     "output_type": "execute_result"
    }
   ],
   "source": [
    "+/¨vec5"
   ]
  },
  {
   "cell_type": "markdown",
   "id": "capable-migration",
   "metadata": {},
   "source": [
    "### The Use of Each\n",
    "\n",
    "*Each* is a \"loop cruncher\".\n",
    "Instead of programming loops, in APL you can apply any function to each of the items of an array, each of which may contain a complex set of data.\n",
    "\n",
    "This operator is also useful combined with *match* when a simple equal sign would have caused an error.\n",
    "For example, to compare two lists of names:"
   ]
  },
  {
   "cell_type": "code",
   "execution_count": 58,
   "id": "powered-material",
   "metadata": {},
   "outputs": [
    {
     "data": {
      "text/html": [
       "<span style=\"white-space:pre; font-family: monospace\">1 0 1 0\n",
       "</span>"
      ]
     },
     "execution_count": 58,
     "metadata": {},
     "output_type": "execute_result"
    }
   ],
   "source": [
    "'John' 'Julius' 'Jim' 'Jean' ≡¨ 'John' 'Oops' 'Jim' 'Jeff'"
   ]
  },
  {
   "cell_type": "markdown",
   "id": "protective-prevention",
   "metadata": {},
   "source": [
    "When used inappropriately, the *each* operator can sometimes use a large amount of memory for its intermediate results, so you may need to use it with some care.\n",
    "\n",
    "Suppose that we have a huge list `customerTover`, of turnover amounts, one item per customer (we have more than 5,000 of them!).\n",
    "Each item contains a matrix having a varying number of rows (products) and 52 columns (weeks).\n",
    "Our task is to calculate the total average turnover per week per customer.\n",
    "No problem, that's just `(+/¨+⌿¨customerTover)÷52`.\n",
    "\n",
    "However, if `customerTover` is very large, and we do not have much workspace left, the above expression may easily cause a `WS FULL` error.\n",
    "\n",
    "The reason is that the intermediate expression `+⌿¨customerTover` produces a list of 52 amounts per customer, and that may require more workspace than we have room for.\n",
    "\n",
    "Instead, we can put the entire expression into a function.\n",
    "As is often the case in APL (and in programming, in general), the hardest part of writing a function is finding a good name for it.\n",
    "Fortunately, we can get by without a name if we use an anonymous dfn, with `{(+/+⌿⍵)÷52}¨customerTover`.\n",
    "\n",
    "Because we have \"isolated\" the entire logical process in the function and used *each* to loop through the items one by one, we will at most have only one customer's data \"active\" at any time, and each intermediate result (a 52-item vector) will be thrown away before recalculating that for the next customer.\n",
    "The result of each function call is just one number, so it is much less likely that we will run into `WS FULL` problems."
   ]
  },
  {
   "cell_type": "markdown",
   "id": "choice-sperm",
   "metadata": {},
   "source": [
    "### Three Compressions!\n",
    "\n",
    "In the following we will show three expressions which look similar, but their results are very different.\n",
    "Let us first recall that `vec5` consists of three vectors, each containing three items:"
   ]
  },
  {
   "cell_type": "code",
   "execution_count": 59,
   "id": "historic-parker",
   "metadata": {},
   "outputs": [
    {
     "data": {
      "text/html": [
       "<span style=\"white-space:pre; font-family: monospace\">┌─────┬────────┬────────┐\n",
       "│7 5 1│19 14 13│33 44 55│\n",
       "└─────┴────────┴────────┘\n",
       "</span>"
      ]
     },
     "execution_count": 59,
     "metadata": {},
     "output_type": "execute_result"
    }
   ],
   "source": [
    "vec5"
   ]
  },
  {
   "cell_type": "markdown",
   "id": "wanted-blanket",
   "metadata": {},
   "source": [
    "What is the result of a *compression*?"
   ]
  },
  {
   "cell_type": "code",
   "execution_count": 60,
   "id": "brilliant-conflict",
   "metadata": {},
   "outputs": [
    {
     "data": {
      "text/html": [
       "<span style=\"white-space:pre; font-family: monospace\">┌─────┬────────┐\n",
       "│7 5 1│33 44 55│\n",
       "└─────┴────────┘\n",
       "</span>"
      ]
     },
     "execution_count": 60,
     "metadata": {},
     "output_type": "execute_result"
    }
   ],
   "source": [
    "1 0 1/vec5"
   ]
  },
  {
   "cell_type": "markdown",
   "id": "sporting-better",
   "metadata": {},
   "source": [
    "Above, the vector `1 0 1` applies to the three items of `vec5`, compressing out the middle one."
   ]
  },
  {
   "cell_type": "code",
   "execution_count": 61,
   "id": "stopped-denial",
   "metadata": {},
   "outputs": [
    {
     "data": {
      "text/html": [
       "<span style=\"white-space:pre; font-family: monospace\">┌→───────────────────┐\n",
       "│ ┌→────┐ ┌→───────┐ │\n",
       "│ │7 5 1│ │33 44 55│ │\n",
       "│ └~────┘ └~───────┘ │\n",
       "└∊───────────────────┘\n",
       "</span>"
      ]
     },
     "execution_count": 61,
     "metadata": {},
     "output_type": "execute_result"
    }
   ],
   "source": [
    "]display 1 0 1/vec5"
   ]
  },
  {
   "cell_type": "markdown",
   "id": "streaming-affairs",
   "metadata": {},
   "source": [
    "As mentioned, the compression applies to the items of `vec5`, as it would to any vector.\n",
    "So, the second item has been removed.\n",
    "\n",
    "If we use `1 0 1/¨vec5`, do you think the result is the same?\n",
    "Are you sure?\n",
    "It is not displayed the same way:"
   ]
  },
  {
   "cell_type": "code",
   "execution_count": 62,
   "id": "biological-sucking",
   "metadata": {},
   "outputs": [
    {
     "data": {
      "text/html": [
       "<span style=\"white-space:pre; font-family: monospace\">┌─────┬┬────────┐\n",
       "│7 5 1││33 44 55│\n",
       "└─────┴┴────────┘\n",
       "</span>"
      ]
     },
     "execution_count": 62,
     "metadata": {},
     "output_type": "execute_result"
    }
   ],
   "source": [
    "1 0 1/¨vec5"
   ]
  },
  {
   "cell_type": "markdown",
   "id": "photographic-reservoir",
   "metadata": {},
   "source": [
    "Things are different here: each item of `1 0 1` is paired with each sub-vector, like this:\n",
    "\n",
    " - `1/7 5 1` gives `7 5 1`;\n",
    " - `0/19 14 13` gives `⍬`; and\n",
    " - `1/33 44 55` gives `33 44 55`.\n",
    "\n",
    "Thanks to `]display`:"
   ]
  },
  {
   "cell_type": "code",
   "execution_count": 63,
   "id": "specific-acrylic",
   "metadata": {},
   "outputs": [
    {
     "data": {
      "text/html": [
       "<span style=\"white-space:pre; font-family: monospace\">┌→───────────────────────┐\n",
       "│ ┌→────┐ ┌⊖┐ ┌→───────┐ │\n",
       "│ │7 5 1│ │0│ │33 44 55│ │\n",
       "│ └~────┘ └~┘ └~───────┘ │\n",
       "└∊───────────────────────┘\n",
       "</span>"
      ]
     },
     "execution_count": 63,
     "metadata": {},
     "output_type": "execute_result"
    }
   ],
   "source": [
    "]display 1 0 1/¨vec5"
   ]
  },
  {
   "cell_type": "markdown",
   "id": "unlimited-location",
   "metadata": {},
   "source": [
    "There is a third way of using *compress*.\n",
    "If we *enclose* the left argument, the entire mask `1 0 1` is applied to each sub-vector.\n",
    "The second item of each sub-vector has been removed:"
   ]
  },
  {
   "cell_type": "code",
   "execution_count": 64,
   "id": "fundamental-trustee",
   "metadata": {},
   "outputs": [
    {
     "data": {
      "text/html": [
       "<span style=\"white-space:pre; font-family: monospace\">┌→──────────────────────┐\n",
       "│ ┌→──┐ ┌→────┐ ┌→────┐ │\n",
       "│ │7 1│ │19 13│ │33 55│ │\n",
       "│ └~──┘ └~────┘ └~────┘ │\n",
       "└∊──────────────────────┘\n",
       "</span>"
      ]
     },
     "execution_count": 64,
     "metadata": {},
     "output_type": "execute_result"
    }
   ],
   "source": [
    "]display (⊂1 0 1)/¨vec5"
   ]
  },
  {
   "cell_type": "markdown",
   "id": "extreme-journey",
   "metadata": {},
   "source": [
    "## Processing Nested Arrays\n",
    "\n",
    "We have already seen a number of operations involving nested arrays; we shall explore some more in this section.\n",
    "Because nested arrays generally tend to have a rather simple - or at least uniform - structure, we can illustrate the operations using our little vectors."
   ]
  },
  {
   "cell_type": "markdown",
   "id": "oriental-point",
   "metadata": {},
   "source": [
    "### Scalar Dyadic Functions\n",
    "\n",
    "You can refer to [this section](Some-Primitive-Functions.ipynb#Scalar-vs-Non-scalar-Functions) concerning the application of scalar dyadic functions to nested arrays.\n",
    "\n",
    "However, let us here explore again how *each* applies to scalar dyadic functions:"
   ]
  },
  {
   "cell_type": "code",
   "execution_count": 65,
   "id": "several-designer",
   "metadata": {},
   "outputs": [
    {
     "data": {
      "text/html": [
       "<span style=\"white-space:pre; font-family: monospace\">┌─────┬────────┬────────┐\n",
       "│7 5 1│19 14 13│33 44 55│\n",
       "└─────┴────────┴────────┘\n",
       "</span>"
      ]
     },
     "execution_count": 65,
     "metadata": {},
     "output_type": "execute_result"
    }
   ],
   "source": [
    "vec5"
   ]
  },
  {
   "cell_type": "code",
   "execution_count": 66,
   "id": "atmospheric-adelaide",
   "metadata": {},
   "outputs": [
    {
     "data": {
      "text/html": [
       "<span style=\"white-space:pre; font-family: monospace\">┌───────────┬────────┬────────┐\n",
       "│107 105 101│39 34 33│34 45 56│\n",
       "└───────────┴────────┴────────┘\n",
       "</span>"
      ]
     },
     "execution_count": 66,
     "metadata": {},
     "output_type": "execute_result"
    }
   ],
   "source": [
    "vec5 + 100 20 1"
   ]
  },
  {
   "cell_type": "markdown",
   "id": "engaging-advertiser",
   "metadata": {},
   "source": [
    "100, 20, and 1 are added to the three sub-vectors, respectively.\n",
    "\n",
    "Using *each*, the result is still the same:"
   ]
  },
  {
   "cell_type": "code",
   "execution_count": 67,
   "id": "gorgeous-sharing",
   "metadata": {},
   "outputs": [
    {
     "data": {
      "text/html": [
       "<span style=\"white-space:pre; font-family: monospace\">┌───────────┬────────┬────────┐\n",
       "│107 105 101│39 34 33│34 45 56│\n",
       "└───────────┴────────┴────────┘\n",
       "</span>"
      ]
     },
     "execution_count": 67,
     "metadata": {},
     "output_type": "execute_result"
    }
   ],
   "source": [
    "vec5 +¨ 100 20 1"
   ]
  },
  {
   "cell_type": "markdown",
   "id": "happy-director",
   "metadata": {},
   "source": [
    "If we *enclose* the right argument, then `100 20 1` becomes a scalar, and gets added to each of the three sub-vectors:"
   ]
  },
  {
   "cell_type": "code",
   "execution_count": 68,
   "id": "orange-wright",
   "metadata": {},
   "outputs": [
    {
     "data": {
      "text/html": [
       "<span style=\"white-space:pre; font-family: monospace\">┌────────┬─────────┬─────────┐\n",
       "│107 25 2│119 34 14│133 64 56│\n",
       "└────────┴─────────┴─────────┘\n",
       "</span>"
      ]
     },
     "execution_count": 68,
     "metadata": {},
     "output_type": "execute_result"
    }
   ],
   "source": [
    "vec5 +¨ ⊂100 20 1"
   ]
  },
  {
   "cell_type": "markdown",
   "id": "changed-midwest",
   "metadata": {},
   "source": [
    "If we drop the *each* operator, the result is the same because the scalar on the right is extended to match the shape of the left vector:"
   ]
  },
  {
   "cell_type": "code",
   "execution_count": 69,
   "id": "disturbed-singing",
   "metadata": {},
   "outputs": [
    {
     "data": {
      "text/html": [
       "<span style=\"white-space:pre; font-family: monospace\">┌────────┬─────────┬─────────┐\n",
       "│107 25 2│119 34 14│133 64 56│\n",
       "└────────┴─────────┴─────────┘\n",
       "</span>"
      ]
     },
     "execution_count": 69,
     "metadata": {},
     "output_type": "execute_result"
    }
   ],
   "source": [
    "vec5 + ⊂100 20 1"
   ]
  },
  {
   "cell_type": "markdown",
   "id": "noticed-panel",
   "metadata": {},
   "source": [
    "In fact, *each* is a superfluous operator when used with scalar dyadic functions, because scalar dyadic functions are *pervasive*, as seen in [a previous section](Some-Primitive-Functions.ipynb#Scalar-vs-Non-scalar-Functions)."
   ]
  },
  {
   "cell_type": "markdown",
   "id": "arabic-transcript",
   "metadata": {},
   "source": [
    "### Juxtaposition vs Catenation\n",
    "\n",
    "When you *catenate* a number of arrays, for example `v ← a,b,c`, you create a new array with the **contents** of `a`, `b`, and `c` catenated together to make a single new array, as we have seen many times before.\n",
    "\n",
    "Let us use a small vector and see how it works:"
   ]
  },
  {
   "cell_type": "code",
   "execution_count": 70,
   "id": "blind-department",
   "metadata": {},
   "outputs": [],
   "source": [
    "small ← 3 4 5"
   ]
  },
  {
   "cell_type": "code",
   "execution_count": 71,
   "id": "upset-bahrain",
   "metadata": {},
   "outputs": [
    {
     "data": {
      "text/html": [
       "<span style=\"white-space:pre; font-family: monospace\">1 2 3 4 5 6 7\n",
       "</span>"
      ]
     },
     "execution_count": 71,
     "metadata": {},
     "output_type": "execute_result"
    }
   ],
   "source": [
    "1 2,small,6 7"
   ]
  },
  {
   "cell_type": "markdown",
   "id": "sonic-pioneer",
   "metadata": {},
   "source": [
    "As we can see, the result is a *simple* vector.\n",
    "\n",
    "What happens here is of course that the first 3-item vector `small` and the 2-item vector `6 7` are combined into one 5-item vector.\n",
    "Then, this 5-item vector is combined with the 2-item vector `1 2` to form the resulting 7-item vector.\n",
    "Both the final and the interim results are *simple* vectors.\n",
    "\n",
    "We can now explain what happens when you *juxtapose* two or more arrays (*strand notation*), for example `v ← a b c d e`: each array is enclosed, and the resulting scalars are catenated together.\n",
    "\n",
    "Such an expression produces a vector made of as many items as we have arrays on the right.\n",
    "In the example that follows, the result is a *nested* vector:"
   ]
  },
  {
   "cell_type": "code",
   "execution_count": 72,
   "id": "cubic-concern",
   "metadata": {},
   "outputs": [
    {
     "data": {
      "text/html": [
       "<span style=\"white-space:pre; font-family: monospace\">┌─┬─┬─────┬─┬─┐\n",
       "│1│2│3 4 5│6│7│\n",
       "└─┴─┴─────┴─┴─┘\n",
       "</span>"
      ]
     },
     "execution_count": 72,
     "metadata": {},
     "output_type": "execute_result"
    }
   ],
   "source": [
    "1 2 small 6 7"
   ]
  },
  {
   "cell_type": "markdown",
   "id": "smoking-booth",
   "metadata": {},
   "source": [
    "This is what we call *vector notation* or *strand notation*.\n",
    "In this case, we juxtaposed five arrays, so we created a nested array of length five.\n",
    "\n",
    "What happens here is that each of the five arrays is first enclosed, and then the resulting five scalars are catenated together to produce the 5-item vector.\n",
    "Please remember that enclosing a simple scalar does not change it, so you can only see the difference for the array `small`:"
   ]
  },
  {
   "cell_type": "code",
   "execution_count": 73,
   "id": "familiar-shirt",
   "metadata": {},
   "outputs": [
    {
     "data": {
      "text/html": [
       "<span style=\"white-space:pre; font-family: monospace\">┌───┬─────┬─┬─┐\n",
       "│1 2│3 4 5│6│7│\n",
       "└───┴─────┴─┴─┘\n",
       "</span>"
      ]
     },
     "execution_count": 73,
     "metadata": {},
     "output_type": "execute_result"
    }
   ],
   "source": [
    "(1 2) small 6 7"
   ]
  },
  {
   "cell_type": "markdown",
   "id": "responsible-malta",
   "metadata": {},
   "source": [
    "Here, we juxtaposed four arrays, two of which are vectors.\n",
    "It is, again, an example of *strand notation*.\n",
    "\n",
    "In other words, juxtaposition works on arrays seen as building blocks, while catenation works on the contents of the arrays.\n",
    "\n",
    "It may help you to know that there is a strict relationship between catenation and *strand notation*:\n",
    "`a b c` is the same as `(⊂a),(⊂b),(⊂c)`.\n",
    "\n",
    "Here is an example:"
   ]
  },
  {
   "cell_type": "code",
   "execution_count": 74,
   "id": "geological-documentary",
   "metadata": {},
   "outputs": [],
   "source": [
    "a ← ⍬\n",
    "b ← 'apl'\n",
    "c ← 42"
   ]
  },
  {
   "cell_type": "code",
   "execution_count": 75,
   "id": "spectacular-prescription",
   "metadata": {},
   "outputs": [
    {
     "data": {
      "text/html": [
       "<span style=\"white-space:pre; font-family: monospace\">┌┬───┬──┐\n",
       "││apl│42│\n",
       "└┴───┴──┘\n",
       "</span>"
      ]
     },
     "execution_count": 75,
     "metadata": {},
     "output_type": "execute_result"
    }
   ],
   "source": [
    "a b c"
   ]
  },
  {
   "cell_type": "code",
   "execution_count": 76,
   "id": "inside-seeker",
   "metadata": {},
   "outputs": [
    {
     "data": {
      "text/html": [
       "<span style=\"white-space:pre; font-family: monospace\">┌┬───┬──┐\n",
       "││apl│42│\n",
       "└┴───┴──┘\n",
       "</span>"
      ]
     },
     "execution_count": 76,
     "metadata": {},
     "output_type": "execute_result"
    }
   ],
   "source": [
    "(⊂a),(⊂b),(⊂c)"
   ]
  },
  {
   "cell_type": "markdown",
   "id": "aggressive-california",
   "metadata": {},
   "source": [
    "The two results look the same; we can be sure they *are* the same by using `≡`:"
   ]
  },
  {
   "cell_type": "code",
   "execution_count": 77,
   "id": "apart-thomas",
   "metadata": {},
   "outputs": [
    {
     "data": {
      "text/html": [
       "<span style=\"white-space:pre; font-family: monospace\">1\n",
       "</span>"
      ]
     },
     "execution_count": 77,
     "metadata": {},
     "output_type": "execute_result"
    }
   ],
   "source": [
    "a b c≡(⊂a),(⊂b),(⊂c)"
   ]
  },
  {
   "cell_type": "markdown",
   "id": "organic-puppy",
   "metadata": {},
   "source": [
    "Now, we will turn our attention to two other expressions that give the same result,"
   ]
  },
  {
   "cell_type": "code",
   "execution_count": 78,
   "id": "humanitarian-tracy",
   "metadata": {},
   "outputs": [
    {
     "data": {
      "text/html": [
       "<span style=\"white-space:pre; font-family: monospace\">┌───┬─────┬─┬─┐\n",
       "│1 2│3 4 5│6│7│\n",
       "└───┴─────┴─┴─┘\n",
       "</span>"
      ]
     },
     "execution_count": 78,
     "metadata": {},
     "output_type": "execute_result"
    }
   ],
   "source": [
    "(1 2) small,6 7"
   ]
  },
  {
   "cell_type": "markdown",
   "id": "usual-dodge",
   "metadata": {},
   "source": [
    "and"
   ]
  },
  {
   "cell_type": "code",
   "execution_count": 79,
   "id": "elementary-cancellation",
   "metadata": {},
   "outputs": [
    {
     "data": {
      "text/html": [
       "<span style=\"white-space:pre; font-family: monospace\">┌───┬─────┬─┬─┐\n",
       "│1 2│3 4 5│6│7│\n",
       "└───┴─────┴─┴─┘\n",
       "</span>"
      ]
     },
     "execution_count": 79,
     "metadata": {},
     "output_type": "execute_result"
    }
   ],
   "source": [
    "(1 2) small 6 7"
   ]
  },
  {
   "cell_type": "markdown",
   "id": "vocational-kitty",
   "metadata": {},
   "source": [
    "These two expressions give the same result, but for a different reason than the one explained above.\n",
    "In fact, `small` is **not** catenated to the vector `6 7` as in the first example above.\n",
    "To read this expression correctly, we must recall comma *is* an APL function:\n",
    "\n",
    " - its right argument is the vector `6 7`, of course; and\n",
    " - its left argument is whatever is on its left, up to the next function.\n",
    " As there is no such function (parenthesis are not functions), the left argument is the result of the entire expression to the left of the comma, i.e., the 2-item vector `(1 2) small`.\n",
    "\n",
    "So, the result is that the 2-item vector `(1 2) small` is combined with the 2-item vector `6 7` to form the resulting 4-item vector.\n",
    "\n",
    "**Remember this**: when interpreting an expression, you must never \"break\" a sequence of juxtaposed arrays (a *strand*), even if it is a nested vector.\n",
    "\n",
    "So, in the previous example, the left argument to *catenate* is this whole array:"
   ]
  },
  {
   "cell_type": "code",
   "execution_count": 80,
   "id": "crude-round",
   "metadata": {},
   "outputs": [
    {
     "data": {
      "text/html": [
       "<span style=\"white-space:pre; font-family: monospace\">┌───┬─────┐\n",
       "│1 2│3 4 5│\n",
       "└───┴─────┘\n",
       "</span>"
      ]
     },
     "execution_count": 80,
     "metadata": {},
     "output_type": "execute_result"
    }
   ],
   "source": [
    "(1 2) small"
   ]
  },
  {
   "cell_type": "markdown",
   "id": "absolute-planner",
   "metadata": {},
   "source": [
    "When *catenate* is executed, the two items of this argument are catenated to the two items `6 7` of the right argument, making the same 4-item nested vector as in the previous example.\n",
    "\n",
    "Can you predict the result of `(1 2),small 6 7`?"
   ]
  },
  {
   "cell_type": "markdown",
   "id": "authentic-gossip",
   "metadata": {},
   "source": [
    "### Characters and Numbers\n",
    "\n",
    "We have a character matrix `cm` and a numeric matrix `nm`:"
   ]
  },
  {
   "cell_type": "code",
   "execution_count": 81,
   "id": "thrown-rebecca",
   "metadata": {},
   "outputs": [
    {
     "data": {
      "text/html": [
       "<span style=\"white-space:pre; font-family: monospace\">Francis\n",
       "Carmen \n",
       "Luciano\n",
       "</span>"
      ]
     },
     "execution_count": 81,
     "metadata": {},
     "output_type": "execute_result"
    }
   ],
   "source": [
    "⎕← cm ← 3 7⍴'FrancisCarmen Luciano'"
   ]
  },
  {
   "cell_type": "code",
   "execution_count": 82,
   "id": "criminal-sunset",
   "metadata": {},
   "outputs": [
    {
     "data": {
      "text/html": [
       "<span style=\"white-space:pre; font-family: monospace\">  21.21 1534.88 375.46  704.5 \n",
       "1125.14 1963.52 464.45 1438.25\n",
       " 796.53 1569    157.14  886.59\n",
       "</span>"
      ]
     },
     "execution_count": 82,
     "metadata": {},
     "output_type": "execute_result"
    }
   ],
   "source": [
    "⎕RL ← 73\n",
    "⎕← nm ← (?3 4⍴200000)÷100"
   ]
  },
  {
   "cell_type": "markdown",
   "id": "excellent-nirvana",
   "metadata": {},
   "source": [
    "We would like to have them displayed side by side."
   ]
  },
  {
   "cell_type": "markdown",
   "id": "oriental-boost",
   "metadata": {},
   "source": [
    "#### Solution 1\n",
    "\n",
    "The first idea is to just type `cm nm`:"
   ]
  },
  {
   "cell_type": "code",
   "execution_count": 83,
   "id": "lucky-monaco",
   "metadata": {},
   "outputs": [
    {
     "data": {
      "text/html": [
       "<span style=\"white-space:pre; font-family: monospace\">┌───────┬──────────────────────────────┐\n",
       "│Francis│  21.21 1534.88 375.46  704.5 │\n",
       "│Carmen │1125.14 1963.52 464.45 1438.25│\n",
       "│Luciano│ 796.53 1569    157.14  886.59│\n",
       "└───────┴──────────────────────────────┘\n",
       "</span>"
      ]
     },
     "execution_count": 83,
     "metadata": {},
     "output_type": "execute_result"
    }
   ],
   "source": [
    "cm nm"
   ]
  },
  {
   "cell_type": "markdown",
   "id": "minimal-return",
   "metadata": {},
   "source": [
    "The format of the result is not ideal; some values have two decimal digits, and some have only one or none.\n",
    "But there is a much more important problem.\n",
    "Imagine that we would like to draw a line on the top of the report.\n",
    "We can catenate a single dash along the first dimension:"
   ]
  },
  {
   "cell_type": "code",
   "execution_count": 84,
   "id": "western-finance",
   "metadata": {},
   "outputs": [
    {
     "data": {
      "text/html": [
       "<span style=\"white-space:pre; font-family: monospace\">┌─┬───────┬──────────────────────────────┐\n",
       "│-│Francis│  21.21 1534.88 375.46  704.5 │\n",
       "│ │Carmen │1125.14 1963.52 464.45 1438.25│\n",
       "│ │Luciano│ 796.53 1569    157.14  886.59│\n",
       "└─┴───────┴──────────────────────────────┘\n",
       "</span>"
      ]
     },
     "execution_count": 84,
     "metadata": {},
     "output_type": "execute_result"
    }
   ],
   "source": [
    "'-'⍪cm nm"
   ]
  },
  {
   "cell_type": "markdown",
   "id": "peripheral-christopher",
   "metadata": {},
   "source": [
    "This is not what we expected: the dash has been placed on the left, not on the top!\n",
    "The reason is that the expression `cm nm` does not produce a matrix, but a 2-item nested vector.\n",
    "And when one catenates a scalar to a vector, it is inserted before its first item or after the last one, to produce a longer vector.\n",
    "This cannot produce a matrix, unless *laminate* is used, but we shall not try that now."
   ]
  },
  {
   "cell_type": "markdown",
   "id": "electrical-jacksonville",
   "metadata": {},
   "source": [
    "#### Solution 2\n",
    "\n",
    "Well, if juxtaposition doesn't achieve what we want, why shouldn't we catenate our two matrices?"
   ]
  },
  {
   "cell_type": "code",
   "execution_count": 85,
   "id": "fixed-asthma",
   "metadata": {},
   "outputs": [
    {
     "data": {
      "text/html": [
       "<span style=\"white-space:pre; font-family: monospace\">Francis   21.21 1534.88 375.46  704.5 \n",
       "Carmen  1125.14 1963.52 464.45 1438.25\n",
       "Luciano  796.53 1569    157.14  886.59\n",
       "</span>"
      ]
     },
     "execution_count": 85,
     "metadata": {},
     "output_type": "execute_result"
    }
   ],
   "source": [
    "cm,nm"
   ]
  },
  {
   "cell_type": "markdown",
   "id": "fatal-attention",
   "metadata": {},
   "source": [
    "This is almost the same presentation, but not exactly; this is a matrix!\n",
    "\n",
    "Now, let us try to draw the line:"
   ]
  },
  {
   "cell_type": "code",
   "execution_count": 86,
   "id": "terminal-arrival",
   "metadata": {},
   "outputs": [
    {
     "data": {
      "text/html": [
       "<span style=\"white-space:pre; font-family: monospace\">-------       -       -      -       -\n",
       "Francis   21.21 1534.88 375.46  704.5 \n",
       "Carmen  1125.14 1963.52 464.45 1438.25\n",
       "Luciano  796.53 1569    157.14  886.59\n",
       "</span>"
      ]
     },
     "execution_count": 86,
     "metadata": {},
     "output_type": "execute_result"
    }
   ],
   "source": [
    "'-'⍪cm,nm"
   ]
  },
  {
   "cell_type": "markdown",
   "id": "vietnamese-orchestra",
   "metadata": {},
   "source": [
    "Horrible!\n",
    "What happened?\n",
    "\n",
    "When we catenated `cm` (shape `3 7`) with `nm` (shape `3 4`), we produced a 3 by 11 matrix.\n",
    "So, when we further catenated a dash on top of it, the dash was repeated 11 times to fit the last dimension of the matrix.\n",
    "This is why we obtained 7 dashes on top of the 7 text columns, and 4 dashes, each on top of each of the 4 numeric columns.\n",
    "This is still not what we want!"
   ]
  },
  {
   "cell_type": "markdown",
   "id": "controlling-craft",
   "metadata": {},
   "source": [
    "#### Solution 3\n",
    "\n",
    "The final solution will be the following: convert the numbers into text, using the *format* function, and then catenate one character matrix to another character matrix:"
   ]
  },
  {
   "cell_type": "code",
   "execution_count": 87,
   "id": "artistic-sewing",
   "metadata": {},
   "outputs": [
    {
     "data": {
      "text/html": [
       "<span style=\"white-space:pre; font-family: monospace\">-------------------------------------------\n",
       "Francis    21.21  1534.88   375.46   704.50\n",
       "Carmen   1125.14  1963.52   464.45  1438.25\n",
       "Luciano   796.53  1569.00   157.14   886.59\n",
       "</span>"
      ]
     },
     "execution_count": 87,
     "metadata": {},
     "output_type": "execute_result"
    }
   ],
   "source": [
    "'-'⍪cm,9 2⍕nm"
   ]
  },
  {
   "cell_type": "markdown",
   "id": "rapid-reducing",
   "metadata": {},
   "source": [
    "Now, the line is exactly where we want it and the numbers are nicely formatted.\n",
    "\n",
    "**Exercise 1**: try to deduce the results of the following 3 expressions (depth, rank, shape), and then verify your solutions on the computer:\n",
    "\n",
    "```APL\n",
    "(⊂cm) (⊂nm)\n",
    "(⊂cm),(⊂nm)\n",
    "cm,⊂nm\n",
    "```"
   ]
  },
  {
   "cell_type": "markdown",
   "id": "thirty-germany",
   "metadata": {},
   "source": [
    "### Some More Operations\n",
    "\n",
    "Let us use `vec5` once more."
   ]
  },
  {
   "cell_type": "markdown",
   "id": "vietnamese-quilt",
   "metadata": {},
   "source": [
    "#### Reduction"
   ]
  },
  {
   "cell_type": "code",
   "execution_count": 91,
   "id": "funny-mandate",
   "metadata": {},
   "outputs": [
    {
     "data": {
      "text/html": [
       "<span style=\"white-space:pre; font-family: monospace\">┌────────┐\n",
       "│59 63 69│\n",
       "└────────┘\n",
       "</span>"
      ]
     },
     "execution_count": 91,
     "metadata": {},
     "output_type": "execute_result"
    }
   ],
   "source": [
    "+/vec5"
   ]
  },
  {
   "cell_type": "markdown",
   "id": "focal-beauty",
   "metadata": {},
   "source": [
    "Notice the box around the final result!\n",
    "\n",
    "The three enclosed arrays (scalars) have been added together, and the result is therefore an enclosed array (a scalar).\n",
    "You can tell this from the output, because there is a box around the result.\n",
    "\n",
    "We know that the reduction of a vector (rank 1) produces a scalar (rank 0), and this rule still applies here.\n",
    "\n",
    "To obtain the _contents_ of the (enclosed) vector, we must disclose the result:"
   ]
  },
  {
   "cell_type": "code",
   "execution_count": 93,
   "id": "structured-locator",
   "metadata": {},
   "outputs": [
    {
     "data": {
      "text/html": [
       "<span style=\"white-space:pre; font-family: monospace\">59 63 69\n",
       "</span>"
      ]
     },
     "execution_count": 93,
     "metadata": {},
     "output_type": "execute_result"
    }
   ],
   "source": [
    "⊃+/vec5"
   ]
  },
  {
   "cell_type": "markdown",
   "id": "premier-shannon",
   "metadata": {},
   "source": [
    "The same thing can be observed if we try to collect all the values contained in `vec5` into a single vector, by catenating them together:"
   ]
  },
  {
   "cell_type": "code",
   "execution_count": 94,
   "id": "electoral-friday",
   "metadata": {},
   "outputs": [
    {
     "data": {
      "text/html": [
       "<span style=\"white-space:pre; font-family: monospace\">┌───────────────────────┐\n",
       "│7 5 1 19 14 13 33 44 55│\n",
       "└───────────────────────┘\n",
       "</span>"
      ]
     },
     "execution_count": 94,
     "metadata": {},
     "output_type": "execute_result"
    }
   ],
   "source": [
    ",/vec5"
   ]
  },
  {
   "cell_type": "markdown",
   "id": "hungry-source",
   "metadata": {},
   "source": [
    "It worked, but here again we might want to disclose the result:"
   ]
  },
  {
   "cell_type": "code",
   "execution_count": 95,
   "id": "unsigned-fetish",
   "metadata": {},
   "outputs": [
    {
     "data": {
      "text/html": [
       "<span style=\"white-space:pre; font-family: monospace\">7 5 1 19 14 13 33 44 55\n",
       "</span>"
      ]
     },
     "execution_count": 95,
     "metadata": {},
     "output_type": "execute_result"
    }
   ],
   "source": [
    "⊃,/vec5"
   ]
  },
  {
   "cell_type": "markdown",
   "id": "signal-graham",
   "metadata": {},
   "source": [
    "#### Index Of and Membership\n",
    "\n",
    "The function *index of* (dyadic `⍳`) may be used to search for (find the position of) items in a nested vector:"
   ]
  },
  {
   "cell_type": "code",
   "execution_count": 96,
   "id": "agricultural-moore",
   "metadata": {},
   "outputs": [
    {
     "data": {
      "text/html": [
       "<span style=\"white-space:pre; font-family: monospace\">2 4\n",
       "</span>"
      ]
     },
     "execution_count": 96,
     "metadata": {},
     "output_type": "execute_result"
    }
   ],
   "source": [
    "vec5 ⍳ (19 14 13)(1 5 7)"
   ]
  },
  {
   "cell_type": "markdown",
   "id": "proved-explorer",
   "metadata": {},
   "source": [
    "This is correct: the first vector appears in `vec5` as `vec5[2]`, and the second vector is not present.\n",
    "\n",
    "But beware, there is a booby trap:"
   ]
  },
  {
   "cell_type": "code",
   "execution_count": 97,
   "id": "resistant-inspection",
   "metadata": {},
   "outputs": [
    {
     "data": {
      "text/html": [
       "<span style=\"white-space:pre; font-family: monospace\">4 4 4\n",
       "</span>"
      ]
     },
     "execution_count": 97,
     "metadata": {},
     "output_type": "execute_result"
    }
   ],
   "source": [
    "vec5 ⍳ (19 14 13)"
   ]
  },
  {
   "cell_type": "markdown",
   "id": "challenging-modem",
   "metadata": {},
   "source": [
    "`(19 14 13)` is not a nested array.\n",
    "`vec5` is searched for each of these three numbers individually, and they are not found.\n",
    "\n",
    "To get the expected result, we need to enclose the right argument to *index of*:"
   ]
  },
  {
   "cell_type": "code",
   "execution_count": 98,
   "id": "standard-contents",
   "metadata": {},
   "outputs": [
    {
     "data": {
      "text/html": [
       "<span style=\"white-space:pre; font-family: monospace\">2\n",
       "</span>"
      ]
     },
     "execution_count": 98,
     "metadata": {},
     "output_type": "execute_result"
    }
   ],
   "source": [
    "vec5 ⍳ ⊂19 14 13"
   ]
  },
  {
   "cell_type": "markdown",
   "id": "banner-collar",
   "metadata": {},
   "source": [
    "It is also important to be aware of this when using *membership*:"
   ]
  },
  {
   "cell_type": "code",
   "execution_count": 99,
   "id": "eleven-service",
   "metadata": {},
   "outputs": [
    {
     "data": {
      "text/html": [
       "<span style=\"white-space:pre; font-family: monospace\">0 1\n",
       "</span>"
      ]
     },
     "execution_count": 99,
     "metadata": {},
     "output_type": "execute_result"
    }
   ],
   "source": [
    "(3 4 5)(7 5 1) ∊ vec5"
   ]
  },
  {
   "cell_type": "code",
   "execution_count": 100,
   "id": "chinese-tuesday",
   "metadata": {},
   "outputs": [
    {
     "data": {
      "text/html": [
       "<span style=\"white-space:pre; font-family: monospace\">0 0 0\n",
       "</span>"
      ]
     },
     "execution_count": 100,
     "metadata": {},
     "output_type": "execute_result"
    }
   ],
   "source": [
    "(7 5 1) ∊ vec5"
   ]
  },
  {
   "cell_type": "code",
   "execution_count": 101,
   "id": "precise-frequency",
   "metadata": {},
   "outputs": [
    {
     "data": {
      "text/html": [
       "<span style=\"white-space:pre; font-family: monospace\">1\n",
       "</span>"
      ]
     },
     "execution_count": 101,
     "metadata": {},
     "output_type": "execute_result"
    }
   ],
   "source": [
    "(⊂7 5 1) ∊ vec5"
   ]
  },
  {
   "cell_type": "markdown",
   "id": "educated-shaft",
   "metadata": {},
   "source": [
    "#### Indexing\n",
    "\n",
    "The rules we saw about indexing remain true: when one indexes a vector by an array, the result has the same shape as the array.\n",
    "If the vector is nested, the result is generally nested too:"
   ]
  },
  {
   "cell_type": "code",
   "execution_count": 102,
   "id": "appreciated-badge",
   "metadata": {},
   "outputs": [
    {
     "data": {
      "text/html": [
       "<span style=\"white-space:pre; font-family: monospace\">┌→───────────────────────────────┐\n",
       "│ ┌→────┐       ┌→──┐ ┌→───────┐ │\n",
       "│ │15 12│ 71023 ↓1 2│ │74 85 96│ │\n",
       "│ └~────┘       │3 4│ └~───────┘ │\n",
       "│               └~──┘            │\n",
       "└∊───────────────────────────────┘\n",
       "</span>"
      ]
     },
     "execution_count": 102,
     "metadata": {},
     "output_type": "execute_result"
    }
   ],
   "source": [
    "]display vec4"
   ]
  },
  {
   "cell_type": "code",
   "execution_count": 103,
   "id": "computational-wrong",
   "metadata": {},
   "outputs": [
    {
     "data": {
      "text/html": [
       "<span style=\"white-space:pre; font-family: monospace\">┌→─────────────────┐\n",
       "↓ ┌→───────┐       │\n",
       "│ │74 85 96│ 71023 │\n",
       "│ └~───────┘       │\n",
       "│ ┌→────┐    ┌→──┐ │\n",
       "│ │15 12│    ↓1 2│ │\n",
       "│ └~────┘    │3 4│ │\n",
       "│            └~──┘ │\n",
       "└∊─────────────────┘\n",
       "</span>"
      ]
     },
     "execution_count": 103,
     "metadata": {},
     "output_type": "execute_result"
    }
   ],
   "source": [
    "]display vec4[2 2⍴4 2 1 3]"
   ]
  },
  {
   "cell_type": "markdown",
   "id": "adjustable-maple",
   "metadata": {},
   "source": [
    "We have also seen, in [a previous section](./Data-and-Variables.ipynb#Array-Indexing), that a nested array can be used as an index.\n",
    "For example, to index items scattered throughout a matrix, the array that specifies the indices is composed of 2-item vectors (row and column indices):"
   ]
  },
  {
   "cell_type": "code",
   "execution_count": 105,
   "id": "noticed-dealing",
   "metadata": {},
   "outputs": [
    {
     "data": {
      "text/html": [
       "<span style=\"white-space:pre; font-family: monospace\">11 26 22\n",
       "14 87 52\n",
       "30 28 19\n",
       "65 40 55\n",
       "19 31 64\n",
       "33 70 44\n",
       "</span>"
      ]
     },
     "execution_count": 105,
     "metadata": {},
     "output_type": "execute_result"
    }
   ],
   "source": [
    "⎕← tests ← 6 3⍴11 26 22 14 87 52 30 28 19 65 40 55 19 31 64 33 70 44"
   ]
  },
  {
   "cell_type": "code",
   "execution_count": 106,
   "id": "speaking-tablet",
   "metadata": {},
   "outputs": [
    {
     "data": {
      "text/html": [
       "<span style=\"white-space:pre; font-family: monospace\">52 19 26\n",
       "</span>"
      ]
     },
     "execution_count": 106,
     "metadata": {},
     "output_type": "execute_result"
    }
   ],
   "source": [
    "tests[(2 3)(5 1)(1 2)]"
   ]
  },
  {
   "cell_type": "code",
   "execution_count": 107,
   "id": "virgin-richardson",
   "metadata": {},
   "outputs": [
    {
     "data": {
      "text/html": [
       "<span style=\"white-space:pre; font-family: monospace\">52 19\n",
       "26 52\n",
       "</span>"
      ]
     },
     "execution_count": 107,
     "metadata": {},
     "output_type": "execute_result"
    }
   ],
   "source": [
    "tests[2 2⍴(2 3)(5 1)(1 2)]"
   ]
  },
  {
   "cell_type": "markdown",
   "id": "varied-wireless",
   "metadata": {},
   "source": [
    "Let us try to obtain the same result with the *index* function, or *squad*:"
   ]
  },
  {
   "cell_type": "code",
   "execution_count": 108,
   "id": "exciting-counter",
   "metadata": {},
   "outputs": [
    {
     "name": "stderr",
     "output_type": "stream",
     "text": [
      "LENGTH ERROR\n",
      "      (2 3)(5 1)(1 2)⌷tests\n",
      "                     ∧\n"
     ]
    }
   ],
   "source": [
    "(2 3)(5 1)(1 2) ⌷ tests"
   ]
  },
  {
   "cell_type": "markdown",
   "id": "stuck-monte",
   "metadata": {},
   "source": [
    "The above cannot work.\n",
    "*Index* expects a 2-item vector: a list of rows and a list of columns."
   ]
  },
  {
   "cell_type": "code",
   "execution_count": 109,
   "id": "bearing-validation",
   "metadata": {},
   "outputs": [
    {
     "name": "stderr",
     "output_type": "stream",
     "text": [
      "RANK ERROR\n",
      "      (2 3)(5 1)(1 2)⌷¨tests\n",
      "                     ∧\n"
     ]
    }
   ],
   "source": [
    "(2 3)(5 1)(1 2) ⌷¨ tests"
   ]
  },
  {
   "cell_type": "markdown",
   "id": "complete-glucose",
   "metadata": {},
   "source": [
    "This second attempt also won't work: each item of the left argument cannot be associated with a corresponding item of `tests`, because they do not have the same shape.\n",
    "\n",
    "In order to get this to work, we need to enclose `tests`:"
   ]
  },
  {
   "cell_type": "code",
   "execution_count": 110,
   "id": "occupied-refrigerator",
   "metadata": {},
   "outputs": [
    {
     "data": {
      "text/html": [
       "<span style=\"white-space:pre; font-family: monospace\">52 19 26\n",
       "</span>"
      ]
     },
     "execution_count": 110,
     "metadata": {},
     "output_type": "execute_result"
    }
   ],
   "source": [
    "(2 3)(5 1)(1 2) ⌷¨ ⊂tests"
   ]
  },
  {
   "cell_type": "markdown",
   "id": "beneficial-screw",
   "metadata": {},
   "source": [
    "This last expression worked correctly. **Each** couple of indices is paired with `tests` as a whole because it has been enclosed, and therefore the scalar on the right is extended to match the 3-item vector on the left."
   ]
  },
  {
   "cell_type": "markdown",
   "id": "remarkable-commons",
   "metadata": {},
   "source": [
    "#### Always Keep In Mind the Following Rules\n",
    "\n",
    " - The items of a nested array are scalars and are therefore always processed as scalars.\n",
    "\n",
    "In the expression"
   ]
  },
  {
   "cell_type": "code",
   "execution_count": 112,
   "id": "narrative-salon",
   "metadata": {},
   "outputs": [
    {
     "data": {
      "text/html": [
       "<span style=\"white-space:pre; font-family: monospace\">┌─────┬─────┐\n",
       "│50 60│20 10│\n",
       "└─────┴─────┘\n",
       "</span>"
      ]
     },
     "execution_count": 112,
     "metadata": {},
     "output_type": "execute_result"
    }
   ],
   "source": [
    "(5 6)(4 2)×10 5"
   ]
  },
  {
   "cell_type": "markdown",
   "id": "bronze-grammar",
   "metadata": {},
   "source": [
    "Above, `(5 6)` is multiplied by `10` and `(4 2)` is multiplied by `5`.\n",
    "\n",
    " - A single list of values placed between parentheses is not a nested array:"
   ]
  },
  {
   "cell_type": "code",
   "execution_count": 113,
   "id": "dirty-genome",
   "metadata": {},
   "outputs": [
    {
     "data": {
      "text/html": [
       "<span style=\"white-space:pre; font-family: monospace\">45 77 80\n",
       "</span>"
      ]
     },
     "execution_count": 113,
     "metadata": {},
     "output_type": "execute_result"
    }
   ],
   "source": [
    "(45 77 80)"
   ]
  },
  {
   "cell_type": "markdown",
   "id": "identical-reduction",
   "metadata": {},
   "source": [
    "The parentheses do nothing here.\n",
    "\n",
    " - An expression is always evaluated from right to left, one function at a time. Note that strands can be easy to miss when determining what the left argument of a function is.\n",
    "\n",
    "In the expression `2×a 3+b`, the left argument of the *plus* function is not `3` alone, but the vector `a 3`.\n",
    "\n",
    "Before we go any further with nested arrays, we recommend that you try to solve some exercises."
   ]
  },
  {
   "cell_type": "markdown",
   "id": "unsigned-imperial",
   "metadata": {},
   "source": [
    "### Intermission Exercises\n",
    "\n",
    "**Exercise 2**:\n",
    "\n",
    "You are given three numeric vectors:"
   ]
  },
  {
   "cell_type": "code",
   "execution_count": 1,
   "id": "fixed-number",
   "metadata": {},
   "outputs": [],
   "source": [
    "a ← 1 2 3\n",
    "b ← 4 5 6\n",
    "c ← 7 8 9"
   ]
  },
  {
   "cell_type": "markdown",
   "id": "olympic-absolute",
   "metadata": {},
   "source": [
    "Try to predict the results given by the following expressions in terms of depth, rank, and shape.\n",
    "Then check your results using `]display`, or the appropriate primitives.\n",
    "\n",
    " 1. `a b c × 1 2 3`\n",
    " 1. `(10 20),a`\n",
    " 1. `(10 20),a b`\n",
    " 1. `a b 2 × c[2]`\n",
    " 1. `10×a 20×b`\n",
    "\n",
    "**Exercise 3**:\n",
    "\n",
    "Same question for the following expressions:\n",
    "\n",
    " 1. `+/a b c`\n",
    " 1. `+/¨a b c`\n",
    " 1. `1 0 1/¨a b c`\n",
    " 1. `(a b c)⍳(4 5 6)`\n",
    " 1. `1 10 3 ∊ a`\n",
    " 1. `(⊂1 0 1)/¨a b c`\n",
    " 1. `1 10 3 ∊ a b c`\n",
    "\n",
    "**Exercise 4**:\n",
    "\n",
    "Consider the following nested array:"
   ]
  },
  {
   "cell_type": "code",
   "execution_count": 4,
   "id": "robust-actor",
   "metadata": {},
   "outputs": [
    {
     "data": {
      "text/html": [
       "<span style=\"white-space:pre; font-family: monospace\">┌─┬─┬───┬─┬─┐\n",
       "│1│2│3 4│7│8│\n",
       "│ │ │5 6│ │ │\n",
       "└─┴─┴───┴─┴─┘\n",
       "</span>"
      ]
     },
     "execution_count": 4,
     "metadata": {},
     "output_type": "execute_result"
    }
   ],
   "source": [
    "⊢na ← 1 2 (2 2⍴3 4 5 6)7 8"
   ]
  },
  {
   "cell_type": "markdown",
   "id": "worst-bookmark",
   "metadata": {},
   "source": [
    "What are the results of `+/na` and `,/na`?"
   ]
  },
  {
   "cell_type": "markdown",
   "id": "collaborative-table",
   "metadata": {},
   "source": [
    "## Split and Mix\n",
    "\n",
    "We saw that in some cases we can choose to represent data either as a matrix or as a nested vector; remember `monMat` and `monVec`.\n",
    "\n",
    "Two primitive monadic functions are provided to switch from one form to the other:\n",
    "\n",
    " - _Mix_ (`↑`) returns an array of _higher rank_ and _lower depth_ than that of its argument; and\n",
    " - _Split_ (`↓`) returns an array of _lower rank_ and _higher depth_ than that of its argument."
   ]
  },
  {
   "cell_type": "markdown",
   "id": "norwegian-tonight",
   "metadata": {},
   "source": [
    "### Basic Use\n",
    "\n",
    "Let us apply _mix_ to two small vectors:"
   ]
  },
  {
   "cell_type": "code",
   "execution_count": 10,
   "id": "convertible-possibility",
   "metadata": {},
   "outputs": [
    {
     "data": {
      "text/html": [
       "<span style=\"white-space:pre; font-family: monospace\">One  \n",
       "Two  \n",
       "Three\n",
       "</span>"
      ]
     },
     "execution_count": 10,
     "metadata": {},
     "output_type": "execute_result"
    }
   ],
   "source": [
    "vtex ← 'One' 'Two' 'Three'\n",
    "vnum ← (6 2) 14 (7 5 3)\n",
    "⎕← rtex ← ↑ vtex"
   ]
  },
  {
   "cell_type": "markdown",
   "id": "bright-february",
   "metadata": {},
   "source": [
    "Notice how we have converted a nested vector (of depth 2 and rank 1) into a simple matrix (of depth 1 and rank 2)."
   ]
  },
  {
   "cell_type": "code",
   "execution_count": 14,
   "id": "raised-alfred",
   "metadata": {},
   "outputs": [
    {
     "data": {
      "text/html": [
       "<span style=\"white-space:pre; font-family: monospace\"> 6 2 0\n",
       "14 0 0\n",
       " 7 5 3\n",
       "</span>"
      ]
     },
     "execution_count": 14,
     "metadata": {},
     "output_type": "execute_result"
    }
   ],
   "source": [
    "⎕← rnum ← ↑ vnum"
   ]
  },
  {
   "cell_type": "markdown",
   "id": "portuguese-disposal",
   "metadata": {},
   "source": [
    "In this example, we have converted a nested vector (of depth -2 and rank 1) into a simple matrix (of depth 1 and rank 2).\n",
    "\n",
    "Of course the operation is possible only because the shorter items are padded with blanks (for text) or zeroes (for numbers), or more generally by the appropriate _fill item_ (this notion will be explained soon).\n",
    "\n",
    "The last example above shows that when we say that the depth is reduced, we actually mean that the _magnitude_ of the depth is reduced.\n",
    "\n",
    "And now, let us apply `split` to the matrices we have just produced:"
   ]
  },
  {
   "cell_type": "code",
   "execution_count": 15,
   "id": "senior-garden",
   "metadata": {
    "scrolled": true
   },
   "outputs": [
    {
     "data": {
      "text/html": [
       "<span style=\"white-space:pre; font-family: monospace\">┌─────┬─────┬─────┐\n",
       "│One  │Two  │Three│\n",
       "└─────┴─────┴─────┘\n",
       "</span>"
      ]
     },
     "execution_count": 15,
     "metadata": {},
     "output_type": "execute_result"
    }
   ],
   "source": [
    "⎕← newtex ← ↓rtex"
   ]
  },
  {
   "cell_type": "markdown",
   "id": "adjusted-period",
   "metadata": {},
   "source": [
    "We converted a simple matrix (of depth 1 and rank 2) into a nested vector (of depth 2 and rank 1)."
   ]
  },
  {
   "cell_type": "code",
   "execution_count": 16,
   "id": "surprised-subject",
   "metadata": {},
   "outputs": [
    {
     "data": {
      "text/html": [
       "<span style=\"white-space:pre; font-family: monospace\">┌─────┬──────┬─────┐\n",
       "│6 2 0│14 0 0│7 5 3│\n",
       "└─────┴──────┴─────┘\n",
       "</span>"
      ]
     },
     "execution_count": 16,
     "metadata": {},
     "output_type": "execute_result"
    }
   ],
   "source": [
    "⎕← newnum ← ↓rnum"
   ]
  },
  {
   "cell_type": "markdown",
   "id": "single-difference",
   "metadata": {},
   "source": [
    "Note that the two new vectors (`newtex` and `newnum`) are not identical to the original ones (`vtex` and `vnum`) because, when they were converted into the matrices `rtex` and `rnum`, the shorter items were padded.\n",
    "When one splits a matrix, the items of the result all have the same size.\n",
    "\n",
    "#### Mix applied to heterogeneous data\n",
    "\n",
    "The examples shown above represent very common uses of _mix_ and _split_.\n",
    "However, it is of course also possible to apply the functions to heterogeneous data.\n",
    "\n",
    "For example, we can mix text and numbers:"
   ]
  },
  {
   "cell_type": "code",
   "execution_count": 18,
   "id": "japanese-drunk",
   "metadata": {},
   "outputs": [
    {
     "data": {
      "text/html": [
       "<span style=\"white-space:pre; font-family: monospace\"> M  i x e d\n",
       "11 43 0 0 0\n",
       "</span>"
      ]
     },
     "execution_count": 18,
     "metadata": {},
     "output_type": "execute_result"
    }
   ],
   "source": [
    "↑'Mixed' (11 43)"
   ]
  },
  {
   "cell_type": "markdown",
   "id": "central-seller",
   "metadata": {},
   "source": [
    "And we can also mix a simple vector with a nested one.\n",
    "As expected, the result below is a 2 by 3 matrix:"
   ]
  },
  {
   "cell_type": "code",
   "execution_count": 19,
   "id": "organizational-steering",
   "metadata": {},
   "outputs": [
    {
     "data": {
      "text/html": [
       "<span style=\"white-space:pre; font-family: monospace\">┌───┬──┬──┐\n",
       "│Y  │e │s │\n",
       "├───┼──┼──┤\n",
       "│Oui│Da│Si│\n",
       "└───┴──┴──┘\n",
       "</span>"
      ]
     },
     "execution_count": 19,
     "metadata": {},
     "output_type": "execute_result"
    }
   ],
   "source": [
    "↑ 'Yes' ('Oui' 'Da' 'Si')"
   ]
  },
  {
   "cell_type": "markdown",
   "id": "italic-wyoming",
   "metadata": {},
   "source": [
    "### Axis Specification\n",
    "\n",
    "#### Split\n",
    "\n",
    "When we apply the function _split_ to an array, its rank will decrease, so we must specify which of its dimensions is to be suppressed.\n",
    "If we don't specify it explicitly, the default is to suppress the last dimension.\n",
    "\n",
    "Let us work on `chemistry`, a matrix we used earlier:"
   ]
  },
  {
   "cell_type": "code",
   "execution_count": 20,
   "id": "received-algorithm",
   "metadata": {},
   "outputs": [
    {
     "data": {
      "text/html": [
       "<span style=\"white-space:pre; font-family: monospace\">H2SO4\n",
       "CaCO3\n",
       "Fe2O3\n",
       "</span>"
      ]
     },
     "execution_count": 20,
     "metadata": {},
     "output_type": "execute_result"
    }
   ],
   "source": [
    "⎕← chemistry ← 3 5⍴'H2SO4CaCO3Fe2O3'"
   ]
  },
  {
   "cell_type": "markdown",
   "id": "funny-subject",
   "metadata": {},
   "source": [
    "In this case, there are two possible uses of _split_, we can apply it either to the first dimension or to the second dimension.\n",
    "\n",
    "If we specify the first axis, the matrix is split column-wise:"
   ]
  },
  {
   "cell_type": "code",
   "execution_count": 21,
   "id": "expanded-reaction",
   "metadata": {},
   "outputs": [
    {
     "data": {
      "text/html": [
       "<span style=\"white-space:pre; font-family: monospace\">┌───┬───┬───┬───┬───┐\n",
       "│HCF│2ae│SC2│OOO│433│\n",
       "└───┴───┴───┴───┴───┘\n",
       "</span>"
      ]
     },
     "execution_count": 21,
     "metadata": {},
     "output_type": "execute_result"
    }
   ],
   "source": [
    "↓[1]chemistry"
   ]
  },
  {
   "cell_type": "markdown",
   "id": "musical-steal",
   "metadata": {},
   "source": [
    "If we specify the second axis, the matrix is split row-wise:"
   ]
  },
  {
   "cell_type": "code",
   "execution_count": 24,
   "id": "chubby-essence",
   "metadata": {},
   "outputs": [
    {
     "data": {
      "text/html": [
       "<span style=\"white-space:pre; font-family: monospace\">┌─────┬─────┬─────┐\n",
       "│H2SO4│CaCO3│Fe2O3│\n",
       "└─────┴─────┴─────┘\n",
       "</span>"
      ]
     },
     "execution_count": 24,
     "metadata": {},
     "output_type": "execute_result"
    }
   ],
   "source": [
    "↓[2]chemistry"
   ]
  },
  {
   "cell_type": "markdown",
   "id": "three-function",
   "metadata": {},
   "source": [
    "If we omit the axis specification, _split_ defaults to the last axis:"
   ]
  },
  {
   "cell_type": "code",
   "execution_count": 25,
   "id": "digital-poster",
   "metadata": {},
   "outputs": [
    {
     "data": {
      "text/html": [
       "<span style=\"white-space:pre; font-family: monospace\">┌─────┬─────┬─────┐\n",
       "│H2SO4│CaCO3│Fe2O3│\n",
       "└─────┴─────┴─────┘\n",
       "</span>"
      ]
     },
     "execution_count": 25,
     "metadata": {},
     "output_type": "execute_result"
    }
   ],
   "source": [
    "↓chemistry"
   ]
  },
  {
   "cell_type": "markdown",
   "id": "unable-conditioning",
   "metadata": {},
   "source": [
    "#### Mix\n",
    "\n",
    "The use of _mix_ is a bit more complex because it adds a new dimension to an existing array.\n",
    "So does the function _laminate_, and the two functions use the same convention to specify where to insert the new dimension.\n",
    "\n",
    "If we apply the function _mix_ to a 3-item nested vector of vectors, in which the largest item is an enclosed 5-item vector, the result must be either a 5 by 3 matrix, or a 3 by 5 matrix (the default).\n",
    "\n",
    "In the same way as for _laminate_, a new dimension is created.\n",
    "This new dimension can be inserted before or after the existing dimension.\n",
    "The programmer decides this by specifying an axis:\n",
    "\n",
    " - `[0.5]` inserts the new dimension **before** the existing one, resulting in a 5 by 3 matrix; or\n",
    " - `[1.5]` inserts the new dimension **after** the existing one, resulting in a 3 by 5 matrix."
   ]
  },
  {
   "cell_type": "code",
   "execution_count": 1,
   "id": "private-lease",
   "metadata": {},
   "outputs": [
    {
     "data": {
      "text/html": [
       "<span style=\"white-space:pre; font-family: monospace\">OTT\n",
       "nwh\n",
       "eor\n",
       "  e\n",
       "  e\n",
       "</span>"
      ]
     },
     "execution_count": 1,
     "metadata": {},
     "output_type": "execute_result"
    }
   ],
   "source": [
    "↑[0.5]'One' 'Two' 'Three'"
   ]
  },
  {
   "cell_type": "code",
   "execution_count": 2,
   "id": "handy-geneva",
   "metadata": {},
   "outputs": [
    {
     "data": {
      "text/html": [
       "<span style=\"white-space:pre; font-family: monospace\">One  \n",
       "Two  \n",
       "Three\n",
       "</span>"
      ]
     },
     "execution_count": 2,
     "metadata": {},
     "output_type": "execute_result"
    }
   ],
   "source": [
    "↑[1.5]'One' 'Two' 'Three'"
   ]
  },
  {
   "cell_type": "markdown",
   "id": "broken-singles",
   "metadata": {},
   "source": [
    "The last example is the default behaviour, where the new dimension is inserted after the existing one:"
   ]
  },
  {
   "cell_type": "code",
   "execution_count": 4,
   "id": "acoustic-beaver",
   "metadata": {},
   "outputs": [
    {
     "data": {
      "text/html": [
       "<span style=\"white-space:pre; font-family: monospace\">One  \n",
       "Two  \n",
       "Three\n",
       "</span>"
      ]
     },
     "execution_count": 4,
     "metadata": {},
     "output_type": "execute_result"
    }
   ],
   "source": [
    "↑'One' 'Two' 'Three'"
   ]
  },
  {
   "cell_type": "markdown",
   "id": "fiscal-founder",
   "metadata": {},
   "source": [
    "Let us now work with a nested matrix:"
   ]
  },
  {
   "cell_type": "code",
   "execution_count": 19,
   "id": "geographic-prompt",
   "metadata": {},
   "outputs": [
    {
     "data": {
      "text/html": [
       "<span style=\"white-space:pre; font-family: monospace\">┌────┬────┬────┐\n",
       "│John│Mike│Anna│\n",
       "├────┼────┼────┤\n",
       "│Noah│Suzy│Paul│\n",
       "└────┴────┴────┘\n",
       "</span>"
      ]
     },
     "execution_count": 19,
     "metadata": {},
     "output_type": "execute_result"
    }
   ],
   "source": [
    "⎕← friends ← 2 3⍴'John' 'Mike' 'Anna' 'Noah' 'Suzy' 'Paul'"
   ]
  },
  {
   "cell_type": "markdown",
   "id": "handy-variable",
   "metadata": {},
   "source": [
    "The shape of this matrix is `2 3`, and its items are all of length `4`.\n",
    "So, _mix_ can produce three different results, according to axis specifications as follows:\n",
    "\n",
    "| With the axis | the new dimension is inserted | and the resulting shape is |\n",
    "| -: | -: | -: |\n",
    "| `[2.5]` | after `2 3` | <code>  2   3 4</code> |\n",
    "| `[1.5]` | between `2` and `3` | <code>  2 4 3  </code> |\n",
    "| `[0.5]` | before `2 3` | <code>4 2   3  </code> |"
   ]
  },
  {
   "cell_type": "markdown",
   "id": "increasing-annex",
   "metadata": {},
   "source": [
    "Each of these three cases is illustrated below."
   ]
  },
  {
   "cell_type": "code",
   "execution_count": 20,
   "id": "diagnostic-thursday",
   "metadata": {},
   "outputs": [
    {
     "data": {
      "text/html": [
       "<span style=\"white-space:pre; font-family: monospace\">John\n",
       "Mike\n",
       "Anna\n",
       "    \n",
       "Noah\n",
       "Suzy\n",
       "Paul\n",
       "</span>"
      ]
     },
     "execution_count": 20,
     "metadata": {},
     "output_type": "execute_result"
    }
   ],
   "source": [
    "↑[2.5]friends    ⍝ Default case, [2.5] was unnecessary."
   ]
  },
  {
   "cell_type": "code",
   "execution_count": 21,
   "id": "noticed-software",
   "metadata": {},
   "outputs": [
    {
     "data": {
      "text/html": [
       "<span style=\"white-space:pre; font-family: monospace\">2 3 4\n",
       "</span>"
      ]
     },
     "execution_count": 21,
     "metadata": {},
     "output_type": "execute_result"
    }
   ],
   "source": [
    "⍴↑[2.5]friends"
   ]
  },
  {
   "cell_type": "code",
   "execution_count": 22,
   "id": "approximate-boundary",
   "metadata": {},
   "outputs": [
    {
     "data": {
      "text/html": [
       "<span style=\"white-space:pre; font-family: monospace\">JMA\n",
       "oin\n",
       "hkn\n",
       "nea\n",
       "   \n",
       "NSP\n",
       "oua\n",
       "azu\n",
       "hyl\n",
       "</span>"
      ]
     },
     "execution_count": 22,
     "metadata": {},
     "output_type": "execute_result"
    }
   ],
   "source": [
    "↑[1.5]friends"
   ]
  },
  {
   "cell_type": "code",
   "execution_count": 23,
   "id": "greater-blind",
   "metadata": {},
   "outputs": [
    {
     "data": {
      "text/html": [
       "<span style=\"white-space:pre; font-family: monospace\">2 4 3\n",
       "</span>"
      ]
     },
     "execution_count": 23,
     "metadata": {},
     "output_type": "execute_result"
    }
   ],
   "source": [
    "⍴↑[1.5]friends"
   ]
  },
  {
   "cell_type": "code",
   "execution_count": 24,
   "id": "stuffed-services",
   "metadata": {},
   "outputs": [
    {
     "data": {
      "text/html": [
       "<span style=\"white-space:pre; font-family: monospace\">JMA\n",
       "NSP\n",
       "   \n",
       "oin\n",
       "oua\n",
       "   \n",
       "hkn\n",
       "azu\n",
       "   \n",
       "nea\n",
       "hyl\n",
       "</span>"
      ]
     },
     "execution_count": 24,
     "metadata": {},
     "output_type": "execute_result"
    }
   ],
   "source": [
    "↑[0.5]friends"
   ]
  },
  {
   "cell_type": "code",
   "execution_count": 25,
   "id": "subsequent-parking",
   "metadata": {},
   "outputs": [
    {
     "data": {
      "text/html": [
       "<span style=\"white-space:pre; font-family: monospace\">4 2 3\n",
       "</span>"
      ]
     },
     "execution_count": 25,
     "metadata": {},
     "output_type": "execute_result"
    }
   ],
   "source": [
    "⍴↑[0.5]friends"
   ]
  },
  {
   "cell_type": "markdown",
   "id": "accomplished-timer",
   "metadata": {},
   "source": [
    "In the first example, the names are placed \"horizontally\" as rows in two sub-matrices.\n",
    "\n",
    "In the second case, they are placed \"vertically\" in columns.\n",
    "\n",
    "The third case is more difficult to read; the names are positioned perpendicularly to the matrices, with one letter in each.\n",
    "You might like to imagine that the letters are arranged in a cube, and that you are viewing it from three different positions.\n",
    "\n",
    "Notice that, naturally, there is a connection between using `↑[k]` and using _mix_ followed by _dyadic transpose_.\n",
    "In fact, "
   ]
  },
  {
   "cell_type": "code",
   "execution_count": null,
   "id": "appointed-prague",
   "metadata": {},
   "outputs": [],
   "source": []
  }
 ],
 "metadata": {
  "kernelspec": {
   "display_name": "Dyalog APL",
   "language": "apl",
   "name": "dyalog-kernel"
  },
  "language_info": {
   "file_extension": ".apl",
   "mimetype": "text/apl",
   "name": "APL"
  },
  "toc": {
   "base_numbering": 1,
   "nav_menu": {},
   "number_sections": false,
   "sideBar": true,
   "skip_h1_title": true,
   "title_cell": "Table of Contents",
   "title_sidebar": "Contents",
   "toc_cell": false,
   "toc_position": {},
   "toc_section_display": true,
   "toc_window_display": false
  }
 },
 "nbformat": 4,
 "nbformat_minor": 5
}
