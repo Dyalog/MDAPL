{
 "cells": [
  {
   "cell_type": "code",
   "execution_count": 1,
   "metadata": {
    "execution": {
     "iopub.execute_input": "2020-08-11T20:56:14.522486Z",
     "iopub.status.busy": "2020-08-11T20:56:14.521440Z",
     "iopub.status.idle": "2020-08-11T20:56:14.875935Z",
     "shell.execute_reply": "2020-08-11T20:56:14.874943Z"
    }
   },
   "outputs": [
    {
     "data": {
      "text/html": [
       "<span style=\"white-space:pre; font-family: monospace\">                                                                                                  \n",
       "Welcome                                                                                           \n",
       "-------                                                                                           \n",
       "This Workspace contains most of the variables and functions used in the ENglish tutorial.         \n",
       "You can use and modify them at will for your own tests.                                           \n",
       "If you want to preserve and retrieve your modifications, save the                                 \n",
       "contents of the workspace before closing your session, by pressing                                \n",
       "the \"Save\" button, or using the \"Save as\" menu option.                                            \n",
       "If you do not want this message displayed again, type:                                            \n",
       "      lx←''                                                                                       \n",
       "... then save the workspace as indicated above.                                                   \n",
       "To know in which chapter an object is referenced, type:                                           \n",
       "      )ed Refs                                                                                    \n",
       "</span>"
      ]
     },
     "execution_count": 1,
     "metadata": {},
     "output_type": "execute_result"
    }
   ],
   "source": [
    "⎕load 'res\\DyalogTutor_EN.dws'"
   ]
  },
  {
   "cell_type": "markdown",
   "metadata": {},
   "source": [
    "**Notes & Questions**:\n",
    "\n",
    " - what programming conventions should be adopted? shoud the original style be kept? e.g. variable naming with upper VS lower case letter for arrays, etc.\n",
    " - Bernard originally talks about how multiple assignment without () on the left is allowed but discouraged for compatibility reasons with other APLs; I kept the paragraph and included a note on how such a thing is bad and should be avoided; should this small part be removed altogether?\n",
    " - I wrote [1.4 Different Types of Numbers](#1.4-Different-Types-of-Numbers) to include a first reference to complex numbers; is this a good place to mention them for the first time?\n",
    " - the first sentence of [section 2](#2---Arrays-of-Items) says \"an array is a set of zero or more items\"; while I don't think \"set\" here was intended in the mathematical sense, I changed it to \"sequence\" as I feel it is more accurate.\n",
    " - whenever the author talks about a fictional character, the author assigns them a gender, usually masculine; should I change the examples to be of unspecified gender by using \"they/their/them\"?\n",
    " - the author talks about () vs [] for indexing in different languages but doesn't mention the fact that indexing in APL is 1-based while in many other languages it's 0-based... Shouldn't this be, at least, mentioned briefly?\n",
    "\n",
    "\n",
    "\n",
    "# Chapter B: Data and Variables\n",
    "\n",
    "When you use APL, you type an expression or a command into the session window, and the result of the expression, or a message resulting from the execution of the command, is displayed starting on the next line. So an APL \"session\" is a sequence of user input lines (expressions and/or commands) interleaved with the results of the expressions.\n",
    "\n",
    "To help you see what you have done, APL initially positions the input cursor $6$ spaces in from the left margin. Unless you deliberately move the cursor before you start typing, the expressions you enter into the system will therefore be indented, whereas the results of the expressions will not. Having been written in Jupyter notebooks, this book mimics some of that behaviour by having code blocks that can be ran interactively by you, the reader.\n",
    "\n",
    "In this book, expressions you enter are in a shaded rectangle (an ***input cell***) precedeed by `In [X]:` and the results of the expressions are precedeed by the corresponding `Out[X]:` and displayed in a white region (the ***output cell***). You can run an input cell by selecting it and pressing *Ctrl*+*Enter*; when you do so, the numbers in `In [X]` and `Out[X]` are updated to indicate the cell has just been ran.\n",
    "\n",
    "It is recommended that you go through this tutorial in front of your computer, and experiment by typing the expressions given below into the Dyalog session window. Alternatively, if you are reading the book online in a dynamic format, you can re-run the *input cells* for yourself. Either way, try changing the expressions, and observe the new results.\n",
    "\n",
    "## 1 - Simple Numeric Values\n",
    "\n",
    "### 1.1 Our First Operations\n",
    "\n",
    "Let's try some simple expressions (press *Enter* if you are in a Dyalog session, or *Ctrl*+*Enter* if you are reading the Jupyter notebook, to have each expression evaluated):"
   ]
  },
  {
   "cell_type": "code",
   "execution_count": 2,
   "metadata": {
    "execution": {
     "iopub.execute_input": "2020-08-11T20:56:14.884878Z",
     "iopub.status.busy": "2020-08-11T20:56:14.882882Z",
     "iopub.status.idle": "2020-08-11T20:56:14.993094Z",
     "shell.execute_reply": "2020-08-11T20:56:14.992102Z"
    },
    "scrolled": true
   },
   "outputs": [
    {
     "data": {
      "text/html": [
       "<span style=\"white-space:pre; font-family: monospace\">80\n",
       "</span>"
      ]
     },
     "execution_count": 2,
     "metadata": {},
     "output_type": "execute_result"
    }
   ],
   "source": [
    "27 + 53"
   ]
  },
  {
   "cell_type": "code",
   "execution_count": 3,
   "metadata": {
    "execution": {
     "iopub.execute_input": "2020-08-11T20:56:14.996086Z",
     "iopub.status.busy": "2020-08-11T20:56:14.996086Z",
     "iopub.status.idle": "2020-08-11T20:56:15.111592Z",
     "shell.execute_reply": "2020-08-11T20:56:15.109598Z"
    },
    "scrolled": true
   },
   "outputs": [
    {
     "data": {
      "text/html": [
       "<span style=\"white-space:pre; font-family: monospace\">563\n",
       "</span>"
      ]
     },
     "execution_count": 3,
     "metadata": {},
     "output_type": "execute_result"
    }
   ],
   "source": [
    "1271 - 708"
   ]
  },
  {
   "cell_type": "code",
   "execution_count": 4,
   "metadata": {
    "execution": {
     "iopub.execute_input": "2020-08-11T20:56:15.114582Z",
     "iopub.status.busy": "2020-08-11T20:56:15.113585Z",
     "iopub.status.idle": "2020-08-11T20:56:15.227386Z",
     "shell.execute_reply": "2020-08-11T20:56:15.225387Z"
    }
   },
   "outputs": [
    {
     "data": {
      "text/html": [
       "<span style=\"white-space:pre; font-family: monospace\">¯188\n",
       "</span>"
      ]
     },
     "execution_count": 4,
     "metadata": {},
     "output_type": "execute_result"
    }
   ],
   "source": [
    "644 - 832"
   ]
  },
  {
   "cell_type": "markdown",
   "metadata": {},
   "source": [
    "Notice that APL uses a different symbol known as *high minus* (`¯`) to distinguish between a negative value and the function *subtract* (`-`). If you wish to enter a negative value, you can enter this special symbol by pressing *Ctrl*+$2$ (or by clicking the symbol in the \"Language Bar\").\n",
    "\n",
    "Let's continue with some more expressions:"
   ]
  },
  {
   "cell_type": "code",
   "execution_count": 5,
   "metadata": {
    "execution": {
     "iopub.execute_input": "2020-08-11T20:56:15.237312Z",
     "iopub.status.busy": "2020-08-11T20:56:15.235317Z",
     "iopub.status.idle": "2020-08-11T20:56:15.354015Z",
     "shell.execute_reply": "2020-08-11T20:56:15.352014Z"
    }
   },
   "outputs": [
    {
     "data": {
      "text/html": [
       "<span style=\"white-space:pre; font-family: monospace\">21.5\n",
       "</span>"
      ]
     },
     "execution_count": 5,
     "metadata": {},
     "output_type": "execute_result"
    }
   ],
   "source": [
    "86 ÷ 4        ⍝ The Divide sign is obtained by pressing Ctrl+="
   ]
  },
  {
   "cell_type": "code",
   "execution_count": 6,
   "metadata": {
    "execution": {
     "iopub.execute_input": "2020-08-11T20:56:15.362947Z",
     "iopub.status.busy": "2020-08-11T20:56:15.360989Z",
     "iopub.status.idle": "2020-08-11T20:56:15.472769Z",
     "shell.execute_reply": "2020-08-11T20:56:15.472769Z"
    }
   },
   "outputs": [
    {
     "data": {
      "text/html": [
       "<span style=\"white-space:pre; font-family: monospace\">472\n",
       "</span>"
      ]
     },
     "execution_count": 6,
     "metadata": {},
     "output_type": "execute_result"
    }
   ],
   "source": [
    "59 × 8        ⍝ The Multiply sign is obtained by pressing Ctrl+-"
   ]
  },
  {
   "cell_type": "markdown",
   "metadata": {},
   "source": [
    "If you are familiar with other programming languages, you may be accustomed to using a slash (`/`) for division, and a star (`*`) for multiplication. Let's see what might happen if you mistakenly use `*` in APL:"
   ]
  },
  {
   "cell_type": "code",
   "execution_count": 7,
   "metadata": {
    "execution": {
     "iopub.execute_input": "2020-08-11T20:56:15.475765Z",
     "iopub.status.busy": "2020-08-11T20:56:15.474764Z",
     "iopub.status.idle": "2020-08-11T20:56:15.684452Z",
     "shell.execute_reply": "2020-08-11T20:56:15.684452Z"
    }
   },
   "outputs": [
    {
     "data": {
      "text/html": [
       "<span style=\"white-space:pre; font-family: monospace\">343\n",
       "</span>"
      ]
     },
     "execution_count": 7,
     "metadata": {},
     "output_type": "execute_result"
    }
   ],
   "source": [
    "7 * 3         ⍝ In APL the star means \"Power\"\n",
    "              ⍝ so that 7 * 3 is equivalent to 7 × 7 × 7"
   ]
  },
  {
   "cell_type": "markdown",
   "metadata": {},
   "source": [
    "The slash also has a different meaning in APL, we'll get to that latter.\n",
    "\n",
    "### 1.2 Variables\n",
    "\n",
    "As in any other programming language, it is possible to create variables. Just choose a name and use the assignment arrow (`←`) to assign it to a value. The value can be a single item or several items separated by spaces. The assignment arrow can be entered by pressing *Ctrl*+\\[."
   ]
  },
  {
   "cell_type": "code",
   "execution_count": 8,
   "metadata": {
    "execution": {
     "iopub.execute_input": "2020-08-11T20:56:15.687444Z",
     "iopub.status.busy": "2020-08-11T20:56:15.686446Z",
     "iopub.status.idle": "2020-08-11T20:56:15.998582Z",
     "shell.execute_reply": "2020-08-11T20:56:15.998582Z"
    }
   },
   "outputs": [],
   "source": [
    "Discount ← 0.15        ⍝ Read it as: Discount gets 0.15\n",
    "Years ← 1952 1943 1956 2020\n",
    "Purchased ← 4000"
   ]
  },
  {
   "cell_type": "markdown",
   "metadata": {},
   "source": [
    "To obtain the value of a variable, just type its name and evaluate the expression, like this:"
   ]
  },
  {
   "cell_type": "code",
   "execution_count": 9,
   "metadata": {
    "execution": {
     "iopub.execute_input": "2020-08-11T20:56:16.003540Z",
     "iopub.status.busy": "2020-08-11T20:56:16.002543Z",
     "iopub.status.idle": "2020-08-11T20:56:16.108277Z",
     "shell.execute_reply": "2020-08-11T20:56:16.107280Z"
    }
   },
   "outputs": [
    {
     "data": {
      "text/html": [
       "<span style=\"white-space:pre; font-family: monospace\">0.15\n",
       "</span>"
      ]
     },
     "execution_count": 9,
     "metadata": {},
     "output_type": "execute_result"
    }
   ],
   "source": [
    "Discount"
   ]
  },
  {
   "cell_type": "code",
   "execution_count": 10,
   "metadata": {
    "execution": {
     "iopub.execute_input": "2020-08-11T20:56:16.112288Z",
     "iopub.status.busy": "2020-08-11T20:56:16.111270Z",
     "iopub.status.idle": "2020-08-11T20:56:16.223826Z",
     "shell.execute_reply": "2020-08-11T20:56:16.225805Z"
    }
   },
   "outputs": [
    {
     "data": {
      "text/html": [
       "<span style=\"white-space:pre; font-family: monospace\">1952 1943 1956 2020\n",
       "</span>"
      ]
     },
     "execution_count": 10,
     "metadata": {},
     "output_type": "execute_result"
    }
   ],
   "source": [
    "Years"
   ]
  },
  {
   "cell_type": "markdown",
   "metadata": {},
   "source": [
    "Variable names are ***case sensitive***. This means that APL considers a lower-case letter and an upper-case letter to be two different characters. So the three variables `YEARS`, `Years` and `years`, would be distinct, and could contain different values. If you misspell the name of a variable, an error message will be displayed if that name is unknown:"
   ]
  },
  {
   "cell_type": "code",
   "execution_count": 11,
   "metadata": {
    "execution": {
     "iopub.execute_input": "2020-08-11T20:56:16.232749Z",
     "iopub.status.busy": "2020-08-11T20:56:16.231752Z",
     "iopub.status.idle": "2020-08-11T20:56:16.556792Z",
     "shell.execute_reply": "2020-08-11T20:56:16.554797Z"
    }
   },
   "outputs": [
    {
     "name": "stderr",
     "output_type": "stream",
     "text": [
      "VALUE ERROR: Undefined name: discount\n",
      "      discount        ⍝ We typed a lower-case \"d\", instead of \"D\"\n",
      "      ∧\n"
     ]
    }
   ],
   "source": [
    "discount        ⍝ We typed a lower-case \"d\", instead of \"D\"\n",
    "                ⍝ The message \"VALUE ERROR\" means that the\n",
    "                ⍝ name discount is currently undefined."
   ]
  },
  {
   "cell_type": "markdown",
   "metadata": {},
   "source": [
    "Variable names must follow certain rules:\n",
    "\n",
    " - They must contain only letters, in lower or upper-case, including some accented letters (cf. below), and the digits ($0$ to $9$).\n",
    " - The APL alphabet also includes the Greek letter Delta (`∆`), entered using *Ctrl*+H, the Underscore sign (`_`), and also the Underscored Delta (`⍙`), entered using *Ctrl*+. (dot).\n",
    " - They cannot start with a digit.\n",
    " \n",
    "The following variable names are valid:"
   ]
  },
  {
   "cell_type": "code",
   "execution_count": 12,
   "metadata": {
    "execution": {
     "iopub.execute_input": "2020-08-11T20:56:16.565740Z",
     "iopub.status.busy": "2020-08-11T20:56:16.564776Z",
     "iopub.status.idle": "2020-08-11T20:56:16.784922Z",
     "shell.execute_reply": "2020-08-11T20:56:16.785920Z"
    }
   },
   "outputs": [
    {
     "data": {
      "text/html": [
       "<span style=\"white-space:pre; font-family: monospace\">1\n",
       "</span>"
      ]
     },
     "execution_count": 12,
     "metadata": {},
     "output_type": "execute_result"
    }
   ],
   "source": [
    "∆x ← 1                ⍝ with Delta\n",
    "∆x"
   ]
  },
  {
   "cell_type": "code",
   "execution_count": 13,
   "metadata": {
    "execution": {
     "iopub.execute_input": "2020-08-11T20:56:16.789907Z",
     "iopub.status.busy": "2020-08-11T20:56:16.788908Z",
     "iopub.status.idle": "2020-08-11T20:56:16.998631Z",
     "shell.execute_reply": "2020-08-11T20:56:16.999665Z"
    }
   },
   "outputs": [
    {
     "data": {
      "text/html": [
       "<span style=\"white-space:pre; font-family: monospace\">2\n",
       "</span>"
      ]
     },
     "execution_count": 13,
     "metadata": {},
     "output_type": "execute_result"
    }
   ],
   "source": [
    "Fly⍙Airlines ← 2      ⍝ with Underscored Delta\n",
    "Fly⍙Airlines"
   ]
  },
  {
   "cell_type": "code",
   "execution_count": 14,
   "metadata": {
    "execution": {
     "iopub.execute_input": "2020-08-11T20:56:17.002622Z",
     "iopub.status.busy": "2020-08-11T20:56:17.001627Z",
     "iopub.status.idle": "2020-08-11T20:56:17.211847Z",
     "shell.execute_reply": "2020-08-11T20:56:17.211847Z"
    }
   },
   "outputs": [
    {
     "data": {
      "text/html": [
       "<span style=\"white-space:pre; font-family: monospace\">3\n",
       "</span>"
      ]
     },
     "execution_count": 14,
     "metadata": {},
     "output_type": "execute_result"
    }
   ],
   "source": [
    "My_car_is_green ← 3   ⍝ with Underscores\n",
    "My_car_is_green"
   ]
  },
  {
   "cell_type": "code",
   "execution_count": 15,
   "metadata": {
    "execution": {
     "iopub.execute_input": "2020-08-11T20:56:17.214839Z",
     "iopub.status.busy": "2020-08-11T20:56:17.213842Z",
     "iopub.status.idle": "2020-08-11T20:56:17.432379Z",
     "shell.execute_reply": "2020-08-11T20:56:17.431387Z"
    }
   },
   "outputs": [
    {
     "data": {
      "text/html": [
       "<span style=\"white-space:pre; font-family: monospace\">4\n",
       "</span>"
      ]
     },
     "execution_count": 15,
     "metadata": {},
     "output_type": "execute_result"
    }
   ],
   "source": [
    "Hote273 ← 4           ⍝ with digits\n",
    "Hote273"
   ]
  },
  {
   "cell_type": "code",
   "execution_count": 16,
   "metadata": {
    "execution": {
     "iopub.execute_input": "2020-08-11T20:56:17.439361Z",
     "iopub.status.busy": "2020-08-11T20:56:17.437367Z",
     "iopub.status.idle": "2020-08-11T20:56:17.657869Z",
     "shell.execute_reply": "2020-08-11T20:56:17.656829Z"
    }
   },
   "outputs": [
    {
     "data": {
      "text/html": [
       "<span style=\"white-space:pre; font-family: monospace\">5\n",
       "</span>"
      ]
     },
     "execution_count": 16,
     "metadata": {},
     "output_type": "execute_result"
    }
   ],
   "source": [
    "Bétise_à_Caimbrai ← 5 ⍝ with accented letters\n",
    "Bétise_à_Caimbrai"
   ]
  },
  {
   "cell_type": "markdown",
   "metadata": {},
   "source": [
    "But `5à7` is not valid, because it begins with a digit:"
   ]
  },
  {
   "cell_type": "code",
   "execution_count": 17,
   "metadata": {
    "execution": {
     "iopub.execute_input": "2020-08-11T20:56:17.667800Z",
     "iopub.status.busy": "2020-08-11T20:56:17.665806Z",
     "iopub.status.idle": "2020-08-11T20:56:17.784264Z",
     "shell.execute_reply": "2020-08-11T20:56:17.782268Z"
    }
   },
   "outputs": [
    {
     "name": "stderr",
     "output_type": "stream",
     "text": [
      "SYNTAX ERROR\n",
      "      5 à7←6\n",
      "          ∧\n"
     ]
    }
   ],
   "source": [
    "5à7 ← 6"
   ]
  },
  {
   "cell_type": "markdown",
   "metadata": {},
   "source": [
    "In this document, most variable names begin with an upper-case letter, with the remainder in lower-case. This is purely for consistency and ease of use.\n",
    "\n",
    "The letters that are allowed as part of variable names are:\n",
    "\n",
    "```\n",
    "0123456789\n",
    "ABCDEFGHIJKLMNOPQRSTUVWXYZ_\n",
    "abcdefghijklmnopqrstuvwxyz\n",
    "ÀÁÂÃÄÅÆÇÈÉÊËÌÍÎÏÐÑÒÓÔÕÖØÙÚÛÜÝẞ\n",
    "àáâãäåæçèéêëìíîïðñòóôõöøùúûüþ\n",
    "∆⍙\n",
    "```\n",
    "\n",
    "Additionally, variable names can contain underlined upper cases letters, which look something like <ins>ABCDEFGHIJKLMNOPQRSTUVWXYZ</ins>. It is strongly recommended that you do not use the underscored letters which are only included to support old applications. Today, underscored letters are regarded as an anachronism, and are deprecated in modern versions of APL. They are not part of the Unicode character set and we weren't even able to include them here, the list above is just styled like the underscored letters, it is not really those letters. When a standard Unicode font is used, the APL underscored letters correspond to the Unicode circled alphabet, which is displayed like this:\n",
    "\n",
    "```\n",
    "ⒶⒷⒸⒹⒺⒻⒼⒽⒾⒿⓀⓁⓂⓃⓄⓅⓆⓇⓈⓉⓊⓋⓌⓍⓎⓏ\n",
    "```\n",
    "\n",
    "Although it is permitted, the use of accented characters is also not recommended because some people may be unable to enter them using their normal keyboard.\n",
    "\n",
    "`∆` and `⍙` may also cause problems if you ever want to inter-operate with other software, and are best avoided.\n",
    "\n",
    "### 1.3 Operations on Variables\n",
    "\n",
    "Variables can be used in any expression or calculation. For example, if we want to calculate the amount of the discount applied to the things we purchased, we can write:"
   ]
  },
  {
   "cell_type": "code",
   "execution_count": 18,
   "metadata": {
    "execution": {
     "iopub.execute_input": "2020-08-11T20:56:17.792199Z",
     "iopub.status.busy": "2020-08-11T20:56:17.791202Z",
     "iopub.status.idle": "2020-08-11T20:56:18.002537Z",
     "shell.execute_reply": "2020-08-11T20:56:18.001508Z"
    }
   },
   "outputs": [
    {
     "data": {
      "text/html": [
       "<span style=\"white-space:pre; font-family: monospace\">600\n",
       "</span>"
      ]
     },
     "execution_count": 18,
     "metadata": {},
     "output_type": "execute_result"
    }
   ],
   "source": [
    "Amount ← Purchased×Discount\n",
    "Amount"
   ]
  },
  {
   "cell_type": "markdown",
   "metadata": {},
   "source": [
    "When the result of an expression is assigned to a name, it is not displayed. This is why we have entered a second expression to have the value displayed. If the result of an operation is not assigned to a name, it is immediately displayed, but then the value of the result cannot be reused directly in another expression:"
   ]
  },
  {
   "cell_type": "code",
   "execution_count": 19,
   "metadata": {
    "execution": {
     "iopub.execute_input": "2020-08-11T20:56:18.005497Z",
     "iopub.status.busy": "2020-08-11T20:56:18.005497Z",
     "iopub.status.idle": "2020-08-11T20:56:18.113467Z",
     "shell.execute_reply": "2020-08-11T20:56:18.113467Z"
    }
   },
   "outputs": [
    {
     "data": {
      "text/html": [
       "<span style=\"white-space:pre; font-family: monospace\">600\n",
       "</span>"
      ]
     },
     "execution_count": 19,
     "metadata": {},
     "output_type": "execute_result"
    }
   ],
   "source": [
    "Purchased × Discount"
   ]
  },
  {
   "cell_type": "markdown",
   "metadata": {},
   "source": [
    "It is of course possible to change the contents of a variable. The previous value is then lost."
   ]
  },
  {
   "cell_type": "code",
   "execution_count": 20,
   "metadata": {
    "execution": {
     "iopub.execute_input": "2020-08-11T20:56:18.118423Z",
     "iopub.status.busy": "2020-08-11T20:56:18.117425Z",
     "iopub.status.idle": "2020-08-11T20:56:18.221964Z",
     "shell.execute_reply": "2020-08-11T20:56:18.221964Z"
    }
   },
   "outputs": [],
   "source": [
    "Discount ← 0.185"
   ]
  },
  {
   "cell_type": "markdown",
   "metadata": {},
   "source": [
    "It is possible to assign values to several variables in a single expression:"
   ]
  },
  {
   "cell_type": "code",
   "execution_count": 21,
   "metadata": {
    "execution": {
     "iopub.execute_input": "2020-08-11T20:56:18.224937Z",
     "iopub.status.busy": "2020-08-11T20:56:18.223918Z",
     "iopub.status.idle": "2020-08-11T20:56:18.329211Z",
     "shell.execute_reply": "2020-08-11T20:56:18.328255Z"
    }
   },
   "outputs": [],
   "source": [
    "(G H J) ← 30 51 49        ⍝ G gets 30, H gets 51, and J gets 49."
   ]
  },
  {
   "cell_type": "markdown",
   "metadata": {},
   "source": [
    "This ***Multiple assignment*** is an elegant way of allocating a set of values to some distinct variables:"
   ]
  },
  {
   "cell_type": "code",
   "execution_count": 22,
   "metadata": {
    "execution": {
     "iopub.execute_input": "2020-08-11T20:56:18.332203Z",
     "iopub.status.busy": "2020-08-11T20:56:18.331206Z",
     "iopub.status.idle": "2020-08-11T20:56:18.548439Z",
     "shell.execute_reply": "2020-08-11T20:56:18.546444Z"
    }
   },
   "outputs": [
    {
     "data": {
      "text/html": [
       "<span style=\"white-space:pre; font-family: monospace\">1952\n",
       "</span>"
      ]
     },
     "execution_count": 22,
     "metadata": {},
     "output_type": "execute_result"
    }
   ],
   "source": [
    "(Colette Bernard Line Now) ← Years\n",
    "Colette"
   ]
  },
  {
   "cell_type": "code",
   "execution_count": 23,
   "metadata": {
    "execution": {
     "iopub.execute_input": "2020-08-11T20:56:18.551385Z",
     "iopub.status.busy": "2020-08-11T20:56:18.550388Z",
     "iopub.status.idle": "2020-08-11T20:56:18.664329Z",
     "shell.execute_reply": "2020-08-11T20:56:18.662335Z"
    }
   },
   "outputs": [
    {
     "data": {
      "text/html": [
       "<span style=\"white-space:pre; font-family: monospace\">1956\n",
       "</span>"
      ]
     },
     "execution_count": 23,
     "metadata": {},
     "output_type": "execute_result"
    }
   ],
   "source": [
    "Line"
   ]
  },
  {
   "cell_type": "markdown",
   "metadata": {},
   "source": [
    "Note that it is possible to write multiple assignments without parentheses on the left:"
   ]
  },
  {
   "cell_type": "code",
   "execution_count": 24,
   "metadata": {
    "execution": {
     "iopub.execute_input": "2020-08-11T20:56:18.673262Z",
     "iopub.status.busy": "2020-08-11T20:56:18.671268Z",
     "iopub.status.idle": "2020-08-11T20:56:18.890860Z",
     "shell.execute_reply": "2020-08-11T20:56:18.892815Z"
    }
   },
   "outputs": [],
   "source": [
    "G H J ← 30 51 49\n",
    "Colette Bernard Line Now ← Years"
   ]
  },
  {
   "cell_type": "markdown",
   "metadata": {},
   "source": [
    "However this is highly discouraged. Using parentheses indicates much more clearly the intent of performing *Multiple assignment* and helps prevent some erroneous behaviour. For example, notice how the expression below raises an error because we are trying to assign `5` to `3`, and yet, `var` gets assigned `5`:"
   ]
  },
  {
   "cell_type": "code",
   "execution_count": 25,
   "metadata": {
    "execution": {
     "iopub.execute_input": "2020-08-11T20:56:18.903491Z",
     "iopub.status.busy": "2020-08-11T20:56:18.901520Z",
     "iopub.status.idle": "2020-08-11T20:56:19.011154Z",
     "shell.execute_reply": "2020-08-11T20:56:19.010156Z"
    }
   },
   "outputs": [
    {
     "name": "stderr",
     "output_type": "stream",
     "text": [
      "SYNTAX ERROR\n",
      "      var 3←5\n",
      "           ∧\n"
     ]
    }
   ],
   "source": [
    "var 3 ← 5"
   ]
  },
  {
   "cell_type": "code",
   "execution_count": 26,
   "metadata": {
    "execution": {
     "iopub.execute_input": "2020-08-11T20:56:19.015144Z",
     "iopub.status.busy": "2020-08-11T20:56:19.014146Z",
     "iopub.status.idle": "2020-08-11T20:56:19.130521Z",
     "shell.execute_reply": "2020-08-11T20:56:19.128581Z"
    }
   },
   "outputs": [
    {
     "data": {
      "text/html": [
       "<span style=\"white-space:pre; font-family: monospace\">5\n",
       "</span>"
      ]
     },
     "execution_count": 26,
     "metadata": {},
     "output_type": "execute_result"
    }
   ],
   "source": [
    "var"
   ]
  },
  {
   "cell_type": "markdown",
   "metadata": {},
   "source": [
    "However, if we use parentheses the assignment is not performed at all:"
   ]
  },
  {
   "cell_type": "code",
   "execution_count": 27,
   "metadata": {
    "execution": {
     "iopub.execute_input": "2020-08-11T20:56:19.139496Z",
     "iopub.status.busy": "2020-08-11T20:56:19.138503Z",
     "iopub.status.idle": "2020-08-11T20:56:19.246267Z",
     "shell.execute_reply": "2020-08-11T20:56:19.246267Z"
    }
   },
   "outputs": [
    {
     "name": "stderr",
     "output_type": "stream",
     "text": [
      "SYNTAX ERROR\n",
      "      (var 3)←50\n",
      "             ∧\n"
     ]
    }
   ],
   "source": [
    "(var 3) ← 50"
   ]
  },
  {
   "cell_type": "code",
   "execution_count": 28,
   "metadata": {
    "execution": {
     "iopub.execute_input": "2020-08-11T20:56:19.249273Z",
     "iopub.status.busy": "2020-08-11T20:56:19.249273Z",
     "iopub.status.idle": "2020-08-11T20:56:19.361902Z",
     "shell.execute_reply": "2020-08-11T20:56:19.360910Z"
    }
   },
   "outputs": [
    {
     "data": {
      "text/html": [
       "<span style=\"white-space:pre; font-family: monospace\">5\n",
       "</span>"
      ]
     },
     "execution_count": 28,
     "metadata": {},
     "output_type": "execute_result"
    }
   ],
   "source": [
    "var"
   ]
  },
  {
   "cell_type": "markdown",
   "metadata": {},
   "source": [
    "Another argument against using *Multiple assignment* without parentheses is that some other APL systems require them, so if compatibility across APL implementations is an issue for you, we recommend that you use parentheses in Dyalog APL as well.\n",
    "\n",
    "### 1.4 Different Types of Numbers\n",
    "\n",
    "We have already used many different numerical values in our examples without worrying too much about what they really are. We should note that, for the computer, not all numbers are created equal.\n",
    "\n",
    "***Integer*** numbers are the easiest to deal with, and we have seen plenty of them already. Those are the whole numbers and they can be positive, or negative, or `0`:"
   ]
  },
  {
   "cell_type": "code",
   "execution_count": 29,
   "metadata": {
    "execution": {
     "iopub.execute_input": "2020-08-11T20:56:19.371821Z",
     "iopub.status.busy": "2020-08-11T20:56:19.369878Z",
     "iopub.status.idle": "2020-08-11T20:56:19.588966Z",
     "shell.execute_reply": "2020-08-11T20:56:19.586941Z"
    }
   },
   "outputs": [
    {
     "data": {
      "text/html": [
       "<span style=\"white-space:pre; font-family: monospace\">¯3 5 ¯46 10004 0\n",
       "</span>"
      ]
     },
     "execution_count": 29,
     "metadata": {},
     "output_type": "execute_result"
    }
   ],
   "source": [
    "Integers ← ¯3 5 ¯46 10004 0\n",
    "Integers"
   ]
  },
  {
   "cell_type": "markdown",
   "metadata": {},
   "source": [
    "If we include a dot `.` and specify decimal parts for our numbers, then we are no longer dealing with *integers*, but instead with ***floats***:"
   ]
  },
  {
   "cell_type": "code",
   "execution_count": 30,
   "metadata": {
    "execution": {
     "iopub.execute_input": "2020-08-11T20:56:19.598905Z",
     "iopub.status.busy": "2020-08-11T20:56:19.597907Z",
     "iopub.status.idle": "2020-08-11T20:56:19.816506Z",
     "shell.execute_reply": "2020-08-11T20:56:19.817512Z"
    }
   },
   "outputs": [
    {
     "data": {
      "text/html": [
       "<span style=\"white-space:pre; font-family: monospace\">¯3.4 5.61 45.9\n",
       "</span>"
      ]
     },
     "execution_count": 30,
     "metadata": {},
     "output_type": "execute_result"
    }
   ],
   "source": [
    "Floats ← ¯3.4 5.61 45.9\n",
    "Floats"
   ]
  },
  {
   "cell_type": "markdown",
   "metadata": {},
   "source": [
    "Dyalog APL knows a little bit of maths and will understand that a *float* with decimal part equal to $0$ is actually an *integer*:"
   ]
  },
  {
   "cell_type": "code",
   "execution_count": 31,
   "metadata": {
    "execution": {
     "iopub.execute_input": "2020-08-11T20:56:19.828422Z",
     "iopub.status.busy": "2020-08-11T20:56:19.826434Z",
     "iopub.status.idle": "2020-08-11T20:56:19.943313Z",
     "shell.execute_reply": "2020-08-11T20:56:19.941276Z"
    }
   },
   "outputs": [
    {
     "data": {
      "text/html": [
       "<span style=\"white-space:pre; font-family: monospace\">3\n",
       "</span>"
      ]
     },
     "execution_count": 31,
     "metadata": {},
     "output_type": "execute_result"
    }
   ],
   "source": [
    "3.0"
   ]
  },
  {
   "cell_type": "code",
   "execution_count": 32,
   "metadata": {
    "execution": {
     "iopub.execute_input": "2020-08-11T20:56:19.950285Z",
     "iopub.status.busy": "2020-08-11T20:56:19.949253Z",
     "iopub.status.idle": "2020-08-11T20:56:20.057139Z",
     "shell.execute_reply": "2020-08-11T20:56:20.057139Z"
    }
   },
   "outputs": [
    {
     "data": {
      "text/html": [
       "<span style=\"white-space:pre; font-family: monospace\">¯5\n",
       "</span>"
      ]
     },
     "execution_count": 32,
     "metadata": {},
     "output_type": "execute_result"
    }
   ],
   "source": [
    "¯5.000000"
   ]
  },
  {
   "cell_type": "markdown",
   "metadata": {},
   "source": [
    "Finally, if we dive deeper into the realms of mathematics, we can find ***complex numbers***, which will be further explored later on. For now, you can think of *complex numbers* as ***real numbers*** that come in pairs (*real numbers* are the numbers you are very much accustomed to). In Dyalog APL we use a `J` to separate the ***real part*** of the number from the ***imaginary part***, that is, to identify the pair I just mentioned:"
   ]
  },
  {
   "cell_type": "code",
   "execution_count": 33,
   "metadata": {
    "execution": {
     "iopub.execute_input": "2020-08-11T20:56:20.061092Z",
     "iopub.status.busy": "2020-08-11T20:56:20.060094Z",
     "iopub.status.idle": "2020-08-11T20:56:20.281864Z",
     "shell.execute_reply": "2020-08-11T20:56:20.279910Z"
    },
    "scrolled": true
   },
   "outputs": [
    {
     "data": {
      "text/html": [
       "<span style=\"white-space:pre; font-family: monospace\">3J1 ¯5J1.2 0J¯1.01\n",
       "</span>"
      ]
     },
     "execution_count": 33,
     "metadata": {},
     "output_type": "execute_result"
    }
   ],
   "source": [
    "Complex ← 3J1 ¯5J1.2 0J¯1.01\n",
    "Complex"
   ]
  },
  {
   "cell_type": "markdown",
   "metadata": {},
   "source": [
    "Because Dyalog APL knows a little bit of maths, if the number to the right of the `J` is `0`, Dyalog will automatically convert it to the appropriate *integer* or *float*. Note that this does not happen (because it is not correct) if the `0` is on the left of the `J`:"
   ]
  },
  {
   "cell_type": "code",
   "execution_count": 34,
   "metadata": {
    "execution": {
     "iopub.execute_input": "2020-08-11T20:56:20.284849Z",
     "iopub.status.busy": "2020-08-11T20:56:20.283905Z",
     "iopub.status.idle": "2020-08-11T20:56:20.399102Z",
     "shell.execute_reply": "2020-08-11T20:56:20.397092Z"
    }
   },
   "outputs": [
    {
     "data": {
      "text/html": [
       "<span style=\"white-space:pre; font-family: monospace\">¯3.56\n",
       "</span>"
      ]
     },
     "execution_count": 34,
     "metadata": {},
     "output_type": "execute_result"
    }
   ],
   "source": [
    "¯3.56J0"
   ]
  },
  {
   "cell_type": "code",
   "execution_count": 35,
   "metadata": {
    "execution": {
     "iopub.execute_input": "2020-08-11T20:56:20.410056Z",
     "iopub.status.busy": "2020-08-11T20:56:20.407063Z",
     "iopub.status.idle": "2020-08-11T20:56:20.523531Z",
     "shell.execute_reply": "2020-08-11T20:56:20.521542Z"
    }
   },
   "outputs": [
    {
     "data": {
      "text/html": [
       "<span style=\"white-space:pre; font-family: monospace\">3\n",
       "</span>"
      ]
     },
     "execution_count": 35,
     "metadata": {},
     "output_type": "execute_result"
    }
   ],
   "source": [
    "3J0"
   ]
  },
  {
   "cell_type": "code",
   "execution_count": 36,
   "metadata": {
    "execution": {
     "iopub.execute_input": "2020-08-11T20:56:20.533492Z",
     "iopub.status.busy": "2020-08-11T20:56:20.531460Z",
     "iopub.status.idle": "2020-08-11T20:56:20.637955Z",
     "shell.execute_reply": "2020-08-11T20:56:20.636959Z"
    },
    "scrolled": false
   },
   "outputs": [
    {
     "data": {
      "text/html": [
       "<span style=\"white-space:pre; font-family: monospace\">0J1\n",
       "</span>"
      ]
     },
     "execution_count": 36,
     "metadata": {},
     "output_type": "execute_result"
    }
   ],
   "source": [
    "0J1"
   ]
  },
  {
   "cell_type": "markdown",
   "metadata": {},
   "source": [
    "## 2 - Arrays of Items\n",
    "\n",
    "In APL, an *array* is a sequence of zero or more items. The variable `Years` that we used in the previous section is an array of $4$ items.\n",
    "\n",
    "### 2.1 Create a List or a Matrix\n",
    "\n",
    "To enter a short list of items, just type them one by one separated by spaces, and assign the list to a name. For example, here is the number of TV sets sold during the last $10$ days by a shopkeeper:"
   ]
  },
  {
   "cell_type": "code",
   "execution_count": 37,
   "metadata": {
    "execution": {
     "iopub.execute_input": "2020-08-11T20:56:20.640905Z",
     "iopub.status.busy": "2020-08-11T20:56:20.639908Z",
     "iopub.status.idle": "2020-08-11T20:56:20.755260Z",
     "shell.execute_reply": "2020-08-11T20:56:20.753278Z"
    }
   },
   "outputs": [],
   "source": [
    "Sales ← 6 1 8 12 3 3 5 4 7 9"
   ]
  },
  {
   "cell_type": "markdown",
   "metadata": {},
   "source": [
    "If you need to enter a very long list of items, which will not easily fit on a single line, please refer to Chapter H, Section $1$, where a simple method is explained.\n",
    "\n",
    "Imagine now that somebody has noted his income and expenses during the first six months of this year:\n",
    "\n",
    "| Month | Income | Expenses |\n",
    "| :- | -: | -: |\n",
    "| January | $4210$ | $3121$ |\n",
    "| February | $4807$ | $4284$ |\n",
    "| March | $3609$ | $7543$ |\n",
    "| April | $5712$ | $2601$ |\n",
    "| May | $2305$ | $3364$ |\n",
    "| June | $4568$ | $2784$ |\n",
    "\n",
    "We shall see later how we can store the names of the months; for now, let us just try to store the numeric values from the table above in a variable.\n",
    "\n",
    "To do this, we have to give two pieces of information to the computer:\n",
    "\n",
    " - the ***shape*** of the array: in this case, $6$ rows and $2$ columns;\n",
    " - the ***contents*** (or *items*) of the array, in row order.\n",
    " \n",
    "The function that organises a set of items into an array of a specified shape is known as ***Reshape*** and is symbolised by the Greek letter Rho (`⍴`). It is easy to remember that *R*ho can be entered using *Ctrl*+R.\n",
    "\n",
    "The ***Reshape*** function is used as follows: `R← Shape ⍴ Contents`.\n",
    "\n",
    "For example, to obtain a $6$ by $2$ array of items:"
   ]
  },
  {
   "cell_type": "code",
   "execution_count": 38,
   "metadata": {
    "execution": {
     "iopub.execute_input": "2020-08-11T20:56:20.765187Z",
     "iopub.status.busy": "2020-08-11T20:56:20.763233Z",
     "iopub.status.idle": "2020-08-11T20:56:20.991573Z",
     "shell.execute_reply": "2020-08-11T20:56:20.989577Z"
    }
   },
   "outputs": [
    {
     "data": {
      "text/html": [
       "<span style=\"white-space:pre; font-family: monospace\">4210 3121\n",
       "4807 4284\n",
       "3609 7543\n",
       "5712 2601\n",
       "2305 3364\n",
       "4568 2784\n",
       "</span>"
      ]
     },
     "execution_count": 38,
     "metadata": {},
     "output_type": "execute_result"
    }
   ],
   "source": [
    "Money ← 6 2 ⍴ 4210 3121 4807 4284 3609 7543 5712 2601 2305 3364 4568 2784\n",
    "Money        ⍝ Let's verify the result."
   ]
  },
  {
   "cell_type": "markdown",
   "metadata": {},
   "source": [
    "### 2.2 Special Cases with Reshape\n",
    "\n",
    "If there are too many items, the extra items are ignored:"
   ]
  },
  {
   "cell_type": "code",
   "execution_count": 39,
   "metadata": {
    "execution": {
     "iopub.execute_input": "2020-08-11T20:56:20.995520Z",
     "iopub.status.busy": "2020-08-11T20:56:20.994522Z",
     "iopub.status.idle": "2020-08-11T20:56:21.215786Z",
     "shell.execute_reply": "2020-08-11T20:56:21.213798Z"
    }
   },
   "outputs": [
    {
     "data": {
      "text/html": [
       "<span style=\"white-space:pre; font-family: monospace\">12 56 78\n",
       "74 85 96\n",
       "30 22 44\n",
       "</span>"
      ]
     },
     "execution_count": 39,
     "metadata": {},
     "output_type": "execute_result"
    }
   ],
   "source": [
    "Contents ← 12 56 78 74 85 96 30 22 44 66 82 27\n",
    "3 3 ⍴ Contents        ⍝ The last 3 items (66 82 27) have been ignored."
   ]
  },
  {
   "cell_type": "markdown",
   "metadata": {},
   "source": [
    "However, if there are fewer items than implied by the shape, the list of items is reused as many times as necessary to fill the array:"
   ]
  },
  {
   "cell_type": "code",
   "execution_count": 40,
   "metadata": {
    "execution": {
     "iopub.execute_input": "2020-08-11T20:56:21.227760Z",
     "iopub.status.busy": "2020-08-11T20:56:21.224807Z",
     "iopub.status.idle": "2020-08-11T20:56:21.552914Z",
     "shell.execute_reply": "2020-08-11T20:56:21.550920Z"
    }
   },
   "outputs": [
    {
     "data": {
      "text/html": [
       "<span style=\"white-space:pre; font-family: monospace\">12 56 78 74 85 96 30 22 44\n",
       "66 82 27 12 56 78 74 85 96\n",
       "30 22 44 66 82 27 12 56 78\n",
       "</span>"
      ]
     },
     "execution_count": 40,
     "metadata": {},
     "output_type": "execute_result"
    }
   ],
   "source": [
    "3 9 ⍴ Contents        ⍝ Notice how the Contents variable\n",
    "                      ⍝ starts repeating on the second row (under the 74)\n",
    "                      ⍝ and also by the end of the third row"
   ]
  },
  {
   "cell_type": "markdown",
   "metadata": {},
   "source": [
    "This property is often used to create special patterns:"
   ]
  },
  {
   "cell_type": "code",
   "execution_count": 41,
   "metadata": {
    "execution": {
     "iopub.execute_input": "2020-08-11T20:56:21.562889Z",
     "iopub.status.busy": "2020-08-11T20:56:21.560933Z",
     "iopub.status.idle": "2020-08-11T20:56:21.671004Z",
     "shell.execute_reply": "2020-08-11T20:56:21.670007Z"
    }
   },
   "outputs": [
    {
     "data": {
      "text/html": [
       "<span style=\"white-space:pre; font-family: monospace\">0 0 0 0\n",
       "0 0 0 0\n",
       "0 0 0 0\n",
       "</span>"
      ]
     },
     "execution_count": 41,
     "metadata": {},
     "output_type": "execute_result"
    }
   ],
   "source": [
    "3 4 ⍴ 0            ⍝ Fill an array with a single value."
   ]
  },
  {
   "cell_type": "code",
   "execution_count": 42,
   "metadata": {
    "execution": {
     "iopub.execute_input": "2020-08-11T20:56:21.674000Z",
     "iopub.status.busy": "2020-08-11T20:56:21.673018Z",
     "iopub.status.idle": "2020-08-11T20:56:21.788217Z",
     "shell.execute_reply": "2020-08-11T20:56:21.786261Z"
    }
   },
   "outputs": [
    {
     "data": {
      "text/html": [
       "<span style=\"white-space:pre; font-family: monospace\">1 5 0 0 1 5 0 0 1 5 0 0 1 5 0 0 1 5 0 0 1 5 0 0 1 5 0 0 1 5\n",
       "</span>"
      ]
     },
     "execution_count": 42,
     "metadata": {},
     "output_type": "execute_result"
    }
   ],
   "source": [
    "30 ⍴ 1 5 0 0       ⍝ Repeat a pattern."
   ]
  },
  {
   "cell_type": "code",
   "execution_count": 43,
   "metadata": {
    "execution": {
     "iopub.execute_input": "2020-08-11T20:56:21.791201Z",
     "iopub.status.busy": "2020-08-11T20:56:21.790201Z",
     "iopub.status.idle": "2020-08-11T20:56:21.898159Z",
     "shell.execute_reply": "2020-08-11T20:56:21.897119Z"
    }
   },
   "outputs": [
    {
     "data": {
      "text/html": [
       "<span style=\"white-space:pre; font-family: monospace\">2 4 6 8\n",
       "2 4 6 8\n",
       "2 4 6 8\n",
       "</span>"
      ]
     },
     "execution_count": 43,
     "metadata": {},
     "output_type": "execute_result"
    }
   ],
   "source": [
    "3 4 ⍴ 2 4 6 8      ⍝ Repeat a pattern."
   ]
  },
  {
   "cell_type": "code",
   "execution_count": 44,
   "metadata": {
    "execution": {
     "iopub.execute_input": "2020-08-11T20:56:21.900111Z",
     "iopub.status.busy": "2020-08-11T20:56:21.900111Z",
     "iopub.status.idle": "2020-08-11T20:56:22.016589Z",
     "shell.execute_reply": "2020-08-11T20:56:22.015630Z"
    }
   },
   "outputs": [
    {
     "data": {
      "text/html": [
       "<span style=\"white-space:pre; font-family: monospace\">1 0 0 0 0\n",
       "0 1 0 0 0\n",
       "0 0 1 0 0\n",
       "0 0 0 1 0\n",
       "0 0 0 0 1\n",
       "</span>"
      ]
     },
     "execution_count": 44,
     "metadata": {},
     "output_type": "execute_result"
    }
   ],
   "source": [
    "5 5 ⍴ 1 0 0 0 0 0  ⍝ Shift values."
   ]
  },
  {
   "cell_type": "markdown",
   "metadata": {},
   "source": [
    "### 2.3 Multi-dimensional Arrays\n",
    "\n",
    "APL is not limited to arrays with two dimensions, it can handle arrays with $3$, $4$, indeep up to $15$ dimensions.\n",
    "\n",
    "Imagine that a company has stored the production of its assembly lines in a variable named `Prod`.\n",
    "\n",
    "The variable contains $5$ years of production, on $2$ assembly lines, and for $12$ months per year. To represent the $3$ dimensions on the screen, the array is displayed split into sub-arrays each representing a single year, as follows:"
   ]
  },
  {
   "cell_type": "code",
   "execution_count": 45,
   "metadata": {
    "execution": {
     "iopub.execute_input": "2020-08-11T20:56:22.022574Z",
     "iopub.status.busy": "2020-08-11T20:56:22.021575Z",
     "iopub.status.idle": "2020-08-11T20:56:22.244202Z",
     "shell.execute_reply": "2020-08-11T20:56:22.245199Z"
    }
   },
   "outputs": [
    {
     "data": {
      "text/html": [
       "<span style=\"white-space:pre; font-family: monospace\">26 16 22 17 21 44 25 22 23 44 41 33\n",
       "43 36 47 49 30 22 57 20 45 60 43 22\n",
       "\n",
       "44 21 58 57 17 43 47 17 43 26 53 23\n",
       "29 19 23 38 53 47 38 22 40 57 35 26\n",
       "\n",
       "37 27 53 26 29 46 25 26 30 20 32 16\n",
       "56 55 25 47 38 27 39 59 20 28 42 25\n",
       "\n",
       "21 57 55 44 16 54 26 16 55 56 45 45\n",
       "16 55 26 20 27 55 36 39 43 38 50 16\n",
       "\n",
       "27 23 56 41 53 60 39 47 44 47 17 28\n",
       "24 35 61 26 22 35 24 20 31 35 47 37\n",
       "</span>"
      ]
     },
     "execution_count": 45,
     "metadata": {},
     "output_type": "execute_result"
    }
   ],
   "source": [
    "Prod        ⍝ Notice the blank lines separating the sub-arrays,\n",
    "            ⍝ one per year (5 in total)."
   ]
  },
  {
   "cell_type": "markdown",
   "metadata": {},
   "source": [
    "This array is organised in dimensions that represent $5$ years, $2$ assembly lines, $12$ months: it is a three dimensional array. We can also say that its ***shape*** is $5\\ 2\\ 12$.\n",
    "\n",
    "## 3 - Shape, Rank and Vocabulary\n",
    "\n",
    "### 3.1 Shape and Rank\n",
    "\n",
    "The symbol `⍴`, which we introduced above, can be used to obtain the lengths of the dimensions or the ***Shape*** of an array:"
   ]
  },
  {
   "cell_type": "code",
   "execution_count": 46,
   "metadata": {
    "execution": {
     "iopub.execute_input": "2020-08-11T20:56:22.249140Z",
     "iopub.status.busy": "2020-08-11T20:56:22.248143Z",
     "iopub.status.idle": "2020-08-11T20:56:22.470400Z",
     "shell.execute_reply": "2020-08-11T20:56:22.468360Z"
    }
   },
   "outputs": [
    {
     "data": {
      "text/html": [
       "<span style=\"white-space:pre; font-family: monospace\">4\n",
       "</span>"
      ]
     },
     "execution_count": 46,
     "metadata": {},
     "output_type": "execute_result"
    }
   ],
   "source": [
    "⍴ Years        ⍝ Read this as \"Shape of Years\".\n",
    "               ⍝ Years has 4 items"
   ]
  },
  {
   "cell_type": "code",
   "execution_count": 47,
   "metadata": {
    "execution": {
     "iopub.execute_input": "2020-08-11T20:56:22.480328Z",
     "iopub.status.busy": "2020-08-11T20:56:22.478386Z",
     "iopub.status.idle": "2020-08-11T20:56:22.592841Z",
     "shell.execute_reply": "2020-08-11T20:56:22.590833Z"
    }
   },
   "outputs": [
    {
     "data": {
      "text/html": [
       "<span style=\"white-space:pre; font-family: monospace\">6 2\n",
       "</span>"
      ]
     },
     "execution_count": 47,
     "metadata": {},
     "output_type": "execute_result"
    }
   ],
   "source": [
    "⍴ Money        ⍝ Money has 6 rows and 2 columns."
   ]
  },
  {
   "cell_type": "code",
   "execution_count": 48,
   "metadata": {
    "execution": {
     "iopub.execute_input": "2020-08-11T20:56:22.598813Z",
     "iopub.status.busy": "2020-08-11T20:56:22.597777Z",
     "iopub.status.idle": "2020-08-11T20:56:22.920995Z",
     "shell.execute_reply": "2020-08-11T20:56:22.918997Z"
    }
   },
   "outputs": [
    {
     "data": {
      "text/html": [
       "<span style=\"white-space:pre; font-family: monospace\">5 2 12\n",
       "</span>"
      ]
     },
     "execution_count": 48,
     "metadata": {},
     "output_type": "execute_result"
    }
   ],
   "source": [
    "Shape ← ⍴Prod\n",
    "Shape          ⍝ Prod has 5 sheets (or planes), each having\n",
    "               ⍝ 2 rows and 12 columns."
   ]
  },
  {
   "cell_type": "markdown",
   "metadata": {},
   "source": [
    "Now, what is the shape of `Shape`?"
   ]
  },
  {
   "cell_type": "code",
   "execution_count": 49,
   "metadata": {
    "execution": {
     "iopub.execute_input": "2020-08-11T20:56:22.931918Z",
     "iopub.status.busy": "2020-08-11T20:56:22.929977Z",
     "iopub.status.idle": "2020-08-11T20:56:23.036680Z",
     "shell.execute_reply": "2020-08-11T20:56:23.036680Z"
    }
   },
   "outputs": [
    {
     "data": {
      "text/html": [
       "<span style=\"white-space:pre; font-family: monospace\">3\n",
       "</span>"
      ]
     },
     "execution_count": 49,
     "metadata": {},
     "output_type": "execute_result"
    }
   ],
   "source": [
    "⍴ Shape        ⍝ Prod has 3 dimensions"
   ]
  },
  {
   "cell_type": "markdown",
   "metadata": {},
   "source": [
    "The same result could have been obtained directly using the expression `⍴⍴ Prod`:"
   ]
  },
  {
   "cell_type": "code",
   "execution_count": 50,
   "metadata": {
    "execution": {
     "iopub.execute_input": "2020-08-11T20:56:23.039628Z",
     "iopub.status.busy": "2020-08-11T20:56:23.038630Z",
     "iopub.status.idle": "2020-08-11T20:56:23.152616Z",
     "shell.execute_reply": "2020-08-11T20:56:23.154617Z"
    }
   },
   "outputs": [
    {
     "data": {
      "text/html": [
       "<span style=\"white-space:pre; font-family: monospace\">3\n",
       "</span>"
      ]
     },
     "execution_count": 50,
     "metadata": {},
     "output_type": "execute_result"
    }
   ],
   "source": [
    "⍴⍴ Prod"
   ]
  },
  {
   "cell_type": "markdown",
   "metadata": {},
   "source": [
    "`Prod` has $3$ dimensions; we say that its ***Rank*** is $3$, or that it is organised along $3$ criteria which are: Years / Lines / Months."
   ]
  },
  {
   "cell_type": "code",
   "execution_count": 51,
   "metadata": {
    "execution": {
     "iopub.execute_input": "2020-08-11T20:56:23.164546Z",
     "iopub.status.busy": "2020-08-11T20:56:23.162597Z",
     "iopub.status.idle": "2020-08-11T20:56:23.278921Z",
     "shell.execute_reply": "2020-08-11T20:56:23.276924Z"
    }
   },
   "outputs": [
    {
     "data": {
      "text/html": [
       "<span style=\"white-space:pre; font-family: monospace\">2\n",
       "</span>"
      ]
     },
     "execution_count": 51,
     "metadata": {},
     "output_type": "execute_result"
    }
   ],
   "source": [
    "⍴⍴ Money"
   ]
  },
  {
   "cell_type": "markdown",
   "metadata": {},
   "source": [
    "`Money` has $2$ dimensions; we say that its ***Rank*** is $2$, or that it is organised along $2$ criteria which are: Months / Accounts.\n",
    "\n",
    "**Definition**: The ***Rank*** of an array is the number of its dimensions. It can be obtained using the expression `⍴⍴ Array`.\n",
    "\n",
    "### 3.2 Scaling Down the Ranks\n",
    "\n",
    "Using that formula, we can see that:\n",
    "\n",
    "|||||\n",
    "| :- | :- | :- | :- |\n",
    "| `Prod` | has a shape equal to | `5 2 12` | and its rank is equal to ............ `3` |\n",
    "| `Money` | has a shape equal to | `6 2` | and its rank is equal to ............ `2` |\n",
    "| `Years` | has a shape equal to | `4` | and its rank is equal to ............ `1` |\n",
    "\n",
    "It seems consistent that some array must exist which has a rank equal to ...... `0`.\n",
    "\n",
    "Such arrays are single items, like $1573$ or $36.29$ or the variable `Discount` used above."
   ]
  },
  {
   "cell_type": "code",
   "execution_count": 52,
   "metadata": {
    "execution": {
     "iopub.execute_input": "2020-08-11T20:56:23.288850Z",
     "iopub.status.busy": "2020-08-11T20:56:23.286910Z",
     "iopub.status.idle": "2020-08-11T20:56:23.395550Z",
     "shell.execute_reply": "2020-08-11T20:56:23.395550Z"
    }
   },
   "outputs": [
    {
     "data": {
      "text/html": [
       "<span style=\"white-space:pre; font-family: monospace\">0\n",
       "</span>"
      ]
     },
     "execution_count": 52,
     "metadata": {},
     "output_type": "execute_result"
    }
   ],
   "source": [
    "⍴⍴ Discount    ⍝ A single number has no dimensions."
   ]
  },
  {
   "cell_type": "code",
   "execution_count": 53,
   "metadata": {
    "execution": {
     "iopub.execute_input": "2020-08-11T20:56:23.398556Z",
     "iopub.status.busy": "2020-08-11T20:56:23.397552Z",
     "iopub.status.idle": "2020-08-11T20:56:23.503390Z",
     "shell.execute_reply": "2020-08-11T20:56:23.503390Z"
    }
   },
   "outputs": [
    {
     "data": {
      "text/html": [
       "<span style=\"white-space:pre; font-family: monospace\">0\n",
       "</span>"
      ]
     },
     "execution_count": 53,
     "metadata": {},
     "output_type": "execute_result"
    }
   ],
   "source": [
    "⍴⍴ 36.29"
   ]
  },
  {
   "cell_type": "markdown",
   "metadata": {},
   "source": [
    "We needed $3$ numbers to express the shape of `Prod`, $2$ numbers to express the shape of `Money`, and only $1$ number to express the shape of `Years`... hence to express the shape of `1573` or `Discount`, we need **no** numbers:"
   ]
  },
  {
   "cell_type": "code",
   "execution_count": 54,
   "metadata": {
    "execution": {
     "iopub.execute_input": "2020-08-11T20:56:23.506346Z",
     "iopub.status.busy": "2020-08-11T20:56:23.505350Z",
     "iopub.status.idle": "2020-08-11T20:56:23.722936Z",
     "shell.execute_reply": "2020-08-11T20:56:23.723939Z"
    }
   },
   "outputs": [
    {
     "data": {
      "text/html": [
       "<span style=\"white-space:pre; font-family: monospace\">\n",
       "</span>"
      ]
     },
     "execution_count": 54,
     "metadata": {},
     "output_type": "execute_result"
    }
   ],
   "source": [
    "⍴ 1573        ⍝ The answer displays as a blank line: the shape of\n",
    "              ⍝ a single number is an empty array (0 items)"
   ]
  },
  {
   "cell_type": "code",
   "execution_count": 55,
   "metadata": {
    "execution": {
     "iopub.execute_input": "2020-08-11T20:56:23.730918Z",
     "iopub.status.busy": "2020-08-11T20:56:23.729921Z",
     "iopub.status.idle": "2020-08-11T20:56:23.835358Z",
     "shell.execute_reply": "2020-08-11T20:56:23.836356Z"
    }
   },
   "outputs": [
    {
     "data": {
      "text/html": [
       "<span style=\"white-space:pre; font-family: monospace\">\n",
       "</span>"
      ]
     },
     "execution_count": 55,
     "metadata": {},
     "output_type": "execute_result"
    }
   ],
   "source": [
    "⍴ Discount    ⍝ Ditto"
   ]
  },
  {
   "cell_type": "markdown",
   "metadata": {},
   "source": [
    "### 3.3 Vocabulary\n",
    "\n",
    "In this book, we shall use the following terms:\n",
    "\n",
    "| | | | |\n",
    "| :- | :- | :- | :- |\n",
    "| ***Array*** | is a generic word for any sequence of items (possibly containing a single item, or no items at all) | | |\n",
    "| ***Scalar*** | is a single item like | `Discount` | its rank is $0$ |\n",
    "| ***Vector*** | is a list of items like | `Years` | its rank is $1$ |\n",
    "| ***Matrix*** | is an array of rank $2$ like | `Money` | its rank is $2$ |\n",
    "| ***Table*** | is a common name for a matrix | | |\n",
    "| ***Cube*** | is a common name for $3$-D arrays like | `Prod` | its rank is $3$ |\n",
    "\n",
    "### 3.4 Beware!\n",
    "\n",
    "#### 3.4.1 - The Shape is Always a Vector\n",
    "\n",
    "The shape of a value is **always** a vector, even if it contains only one item or even no items at all."
   ]
  },
  {
   "cell_type": "code",
   "execution_count": 56,
   "metadata": {
    "execution": {
     "iopub.execute_input": "2020-08-11T20:56:23.840346Z",
     "iopub.status.busy": "2020-08-11T20:56:23.839348Z",
     "iopub.status.idle": "2020-08-11T20:56:24.049578Z",
     "shell.execute_reply": "2020-08-11T20:56:24.050575Z"
    }
   },
   "outputs": [
    {
     "data": {
      "text/html": [
       "<span style=\"white-space:pre; font-family: monospace\">4\n",
       "</span>"
      ]
     },
     "execution_count": 56,
     "metadata": {},
     "output_type": "execute_result"
    }
   ],
   "source": [
    "Shape ← ⍴Years\n",
    "Shape            ⍝ It looks like a scalar."
   ]
  },
  {
   "cell_type": "code",
   "execution_count": 57,
   "metadata": {
    "execution": {
     "iopub.execute_input": "2020-08-11T20:56:24.054536Z",
     "iopub.status.busy": "2020-08-11T20:56:24.053567Z",
     "iopub.status.idle": "2020-08-11T20:56:24.161256Z",
     "shell.execute_reply": "2020-08-11T20:56:24.162289Z"
    }
   },
   "outputs": [
    {
     "data": {
      "text/html": [
       "<span style=\"white-space:pre; font-family: monospace\">1\n",
       "</span>"
      ]
     },
     "execution_count": 57,
     "metadata": {},
     "output_type": "execute_result"
    }
   ],
   "source": [
    "⍴⍴ Shape         ⍝ But it is of rank 1, so it is a vector."
   ]
  },
  {
   "cell_type": "code",
   "execution_count": 58,
   "metadata": {
    "execution": {
     "iopub.execute_input": "2020-08-11T20:56:24.165245Z",
     "iopub.status.busy": "2020-08-11T20:56:24.164248Z",
     "iopub.status.idle": "2020-08-11T20:56:24.279976Z",
     "shell.execute_reply": "2020-08-11T20:56:24.277988Z"
    }
   },
   "outputs": [
    {
     "data": {
      "text/html": [
       "<span style=\"white-space:pre; font-family: monospace\">1\n",
       "</span>"
      ]
     },
     "execution_count": 58,
     "metadata": {},
     "output_type": "execute_result"
    }
   ],
   "source": [
    "⍴ Shape          ⍝ It is a vector with only one item."
   ]
  },
  {
   "cell_type": "markdown",
   "metadata": {},
   "source": [
    "#### 3.4.2 - Do Not Rely on the Visual Aspect of a Variable\n",
    "\n",
    "Although scalars, vectors, and matrices may sometimes look the same when they are displayed, they should not be confused. Consider, for example, the following vector `V` and matrix `M`:"
   ]
  },
  {
   "cell_type": "code",
   "execution_count": 59,
   "metadata": {
    "execution": {
     "iopub.execute_input": "2020-08-11T20:56:24.283924Z",
     "iopub.status.busy": "2020-08-11T20:56:24.282945Z",
     "iopub.status.idle": "2020-08-11T20:56:24.493966Z",
     "shell.execute_reply": "2020-08-11T20:56:24.493966Z"
    }
   },
   "outputs": [],
   "source": [
    "V ← 87 65 21 40\n",
    "M ← 1 4 ⍴ 87 65 21 40"
   ]
  },
  {
   "cell_type": "markdown",
   "metadata": {},
   "source": [
    "If we display their values, they look exactly the same:"
   ]
  },
  {
   "cell_type": "code",
   "execution_count": 60,
   "metadata": {
    "execution": {
     "iopub.execute_input": "2020-08-11T20:56:24.496922Z",
     "iopub.status.busy": "2020-08-11T20:56:24.496922Z",
     "iopub.status.idle": "2020-08-11T20:56:24.605879Z",
     "shell.execute_reply": "2020-08-11T20:56:24.606834Z"
    }
   },
   "outputs": [
    {
     "data": {
      "text/html": [
       "<span style=\"white-space:pre; font-family: monospace\">87 65 21 40\n",
       "</span>"
      ]
     },
     "execution_count": 60,
     "metadata": {},
     "output_type": "execute_result"
    }
   ],
   "source": [
    "V"
   ]
  },
  {
   "cell_type": "code",
   "execution_count": 61,
   "metadata": {
    "execution": {
     "iopub.execute_input": "2020-08-11T20:56:24.608828Z",
     "iopub.status.busy": "2020-08-11T20:56:24.607874Z",
     "iopub.status.idle": "2020-08-11T20:56:24.721264Z",
     "shell.execute_reply": "2020-08-11T20:56:24.723257Z"
    }
   },
   "outputs": [
    {
     "data": {
      "text/html": [
       "<span style=\"white-space:pre; font-family: monospace\">87 65 21 40\n",
       "</span>"
      ]
     },
     "execution_count": 61,
     "metadata": {},
     "output_type": "execute_result"
    }
   ],
   "source": [
    "M"
   ]
  },
  {
   "cell_type": "markdown",
   "metadata": {},
   "source": [
    "But they cannot be easily added or multiplied together:"
   ]
  },
  {
   "cell_type": "code",
   "execution_count": 62,
   "metadata": {
    "execution": {
     "iopub.execute_input": "2020-08-11T20:56:24.733230Z",
     "iopub.status.busy": "2020-08-11T20:56:24.731235Z",
     "iopub.status.idle": "2020-08-11T20:56:24.841839Z",
     "shell.execute_reply": "2020-08-11T20:56:24.840813Z"
    }
   },
   "outputs": [
    {
     "name": "stderr",
     "output_type": "stream",
     "text": [
      "RANK ERROR: Mismatched left and right argument ranks\n",
      "      V+M\n",
      "       ∧\n"
     ]
    }
   ],
   "source": [
    "V + M"
   ]
  },
  {
   "cell_type": "markdown",
   "metadata": {},
   "source": [
    "Similarly, a scalar should not be confused with a $1$-item vector or a $1$-item matrix, or with any $1$-item multi-dimensional array for that matter. The scalar has a rank of $0$ whereas the vector has rank $1$:"
   ]
  },
  {
   "cell_type": "code",
   "execution_count": 63,
   "metadata": {
    "execution": {
     "iopub.execute_input": "2020-08-11T20:56:24.844802Z",
     "iopub.status.busy": "2020-08-11T20:56:24.843804Z",
     "iopub.status.idle": "2020-08-11T20:56:25.052792Z",
     "shell.execute_reply": "2020-08-11T20:56:25.052792Z"
    }
   },
   "outputs": [],
   "source": [
    "S ←   456        ⍝ Create a scalar.\n",
    "V ← 1⍴456        ⍝ Create a one-item vector."
   ]
  },
  {
   "cell_type": "code",
   "execution_count": 64,
   "metadata": {
    "execution": {
     "iopub.execute_input": "2020-08-11T20:56:25.055785Z",
     "iopub.status.busy": "2020-08-11T20:56:25.054787Z",
     "iopub.status.idle": "2020-08-11T20:56:25.159086Z",
     "shell.execute_reply": "2020-08-11T20:56:25.160101Z"
    }
   },
   "outputs": [
    {
     "data": {
      "text/html": [
       "<span style=\"white-space:pre; font-family: monospace\">456\n",
       "</span>"
      ]
     },
     "execution_count": 64,
     "metadata": {},
     "output_type": "execute_result"
    }
   ],
   "source": [
    "S                ⍝ If displayed, they look the same:"
   ]
  },
  {
   "cell_type": "code",
   "execution_count": 65,
   "metadata": {
    "execution": {
     "iopub.execute_input": "2020-08-11T20:56:25.162056Z",
     "iopub.status.busy": "2020-08-11T20:56:25.162056Z",
     "iopub.status.idle": "2020-08-11T20:56:25.274241Z",
     "shell.execute_reply": "2020-08-11T20:56:25.273292Z"
    }
   },
   "outputs": [
    {
     "data": {
      "text/html": [
       "<span style=\"white-space:pre; font-family: monospace\">456\n",
       "</span>"
      ]
     },
     "execution_count": 65,
     "metadata": {},
     "output_type": "execute_result"
    }
   ],
   "source": [
    "V"
   ]
  },
  {
   "cell_type": "code",
   "execution_count": 66,
   "metadata": {
    "execution": {
     "iopub.execute_input": "2020-08-11T20:56:25.283214Z",
     "iopub.status.busy": "2020-08-11T20:56:25.281223Z",
     "iopub.status.idle": "2020-08-11T20:56:25.492249Z",
     "shell.execute_reply": "2020-08-11T20:56:25.492249Z"
    }
   },
   "outputs": [
    {
     "data": {
      "text/html": [
       "<span style=\"white-space:pre; font-family: monospace\">0\n",
       "</span>"
      ]
     },
     "execution_count": 66,
     "metadata": {},
     "output_type": "execute_result"
    }
   ],
   "source": [
    "⍴⍴S              ⍝ But their ranks are different; the two variables\n",
    "                 ⍝ should not be confused."
   ]
  },
  {
   "cell_type": "code",
   "execution_count": 67,
   "metadata": {
    "execution": {
     "iopub.execute_input": "2020-08-11T20:56:25.494557Z",
     "iopub.status.busy": "2020-08-11T20:56:25.494557Z",
     "iopub.status.idle": "2020-08-11T20:56:25.607134Z",
     "shell.execute_reply": "2020-08-11T20:56:25.606177Z"
    }
   },
   "outputs": [
    {
     "data": {
      "text/html": [
       "<span style=\"white-space:pre; font-family: monospace\">1\n",
       "</span>"
      ]
     },
     "execution_count": 67,
     "metadata": {},
     "output_type": "execute_result"
    }
   ],
   "source": [
    "⍴⍴V"
   ]
  },
  {
   "cell_type": "markdown",
   "metadata": {},
   "source": [
    "#### 3.4.3 - Displaying Long Vectors\n",
    "\n",
    "If a vector is too long to be displayed in a single line on your screen, the Dyalog session will wrap it onto several lines. But to prevent possible confusion with the display of a matrix, the second line and the following lines will not be aligned at the left margin, but will be indented $6$ characters to the right. In these Jupyter notebooks the output gets hidden and a horizontal scroll bar is provided. For example:"
   ]
  },
  {
   "cell_type": "code",
   "execution_count": 68,
   "metadata": {
    "execution": {
     "iopub.execute_input": "2020-08-11T20:56:25.615116Z",
     "iopub.status.busy": "2020-08-11T20:56:25.614123Z",
     "iopub.status.idle": "2020-08-11T20:56:25.730074Z",
     "shell.execute_reply": "2020-08-11T20:56:25.729083Z"
    }
   },
   "outputs": [
    {
     "data": {
      "text/html": [
       "<span style=\"white-space:pre; font-family: monospace\">446.19 231.12 253.59 115.56 262.15 271.78 1.07 180.83 166.92 318.86 240.75 44.94 240.75 90.95 317.79 285.69 4.28 368.08 295.32 379.85 324.21 77.04 77.04 415.16 447.26 33.17 415.16 285.69 202.23 126.26 180.83 81.32 134.82 261.08 343.47 157.29 335.98\n",
       "</span>"
      ]
     },
     "execution_count": 68,
     "metadata": {},
     "output_type": "execute_result"
    }
   ],
   "source": [
    "Bignum"
   ]
  },
  {
   "cell_type": "markdown",
   "metadata": {},
   "source": [
    "## 4 - Simple Character Values\n",
    "\n",
    "### 4.1 Character Vectors and Scalars\n",
    "\n",
    "Up to now, we have used only numeric values, but we can also create textual data known as a *character array*. To identify a string of characters as text, we start and end it with a single ***Quote***:"
   ]
  },
  {
   "cell_type": "code",
   "execution_count": 69,
   "metadata": {
    "execution": {
     "iopub.execute_input": "2020-08-11T20:56:25.736014Z",
     "iopub.status.busy": "2020-08-11T20:56:25.735083Z",
     "iopub.status.idle": "2020-08-11T20:56:25.950465Z",
     "shell.execute_reply": "2020-08-11T20:56:25.950465Z"
    }
   },
   "outputs": [
    {
     "data": {
      "text/html": [
       "<span style=\"white-space:pre; font-family: monospace\">Today is August 7th, 2020\n",
       "</span>"
      ]
     },
     "execution_count": 69,
     "metadata": {},
     "output_type": "execute_result"
    }
   ],
   "source": [
    "Text ← 'Today is August 7th, 2020'\n",
    "Text"
   ]
  },
  {
   "cell_type": "code",
   "execution_count": 70,
   "metadata": {
    "execution": {
     "iopub.execute_input": "2020-08-11T20:56:25.955450Z",
     "iopub.status.busy": "2020-08-11T20:56:25.954452Z",
     "iopub.status.idle": "2020-08-11T20:56:26.064541Z",
     "shell.execute_reply": "2020-08-11T20:56:26.063545Z"
    }
   },
   "outputs": [
    {
     "data": {
      "text/html": [
       "<span style=\"white-space:pre; font-family: monospace\">25\n",
       "</span>"
      ]
     },
     "execution_count": 70,
     "metadata": {},
     "output_type": "execute_result"
    }
   ],
   "source": [
    "⍴Text"
   ]
  },
  {
   "cell_type": "code",
   "execution_count": 71,
   "metadata": {
    "execution": {
     "iopub.execute_input": "2020-08-11T20:56:26.069528Z",
     "iopub.status.busy": "2020-08-11T20:56:26.068531Z",
     "iopub.status.idle": "2020-08-11T20:56:26.279350Z",
     "shell.execute_reply": "2020-08-11T20:56:26.278323Z"
    }
   },
   "outputs": [
    {
     "data": {
      "text/html": [
       "<span style=\"white-space:pre; font-family: monospace\">I type 7 trailing blanks       \n",
       "</span>"
      ]
     },
     "execution_count": 71,
     "metadata": {},
     "output_type": "execute_result"
    }
   ],
   "source": [
    "Trailer ← 'I type 7 trailing blanks       '\n",
    "Trailer"
   ]
  },
  {
   "cell_type": "code",
   "execution_count": 72,
   "metadata": {
    "execution": {
     "iopub.execute_input": "2020-08-11T20:56:26.283309Z",
     "iopub.status.busy": "2020-08-11T20:56:26.282312Z",
     "iopub.status.idle": "2020-08-11T20:56:26.387386Z",
     "shell.execute_reply": "2020-08-11T20:56:26.387386Z"
    }
   },
   "outputs": [
    {
     "data": {
      "text/html": [
       "<span style=\"white-space:pre; font-family: monospace\">31\n",
       "</span>"
      ]
     },
     "execution_count": 72,
     "metadata": {},
     "output_type": "execute_result"
    }
   ],
   "source": [
    "⍴Trailer"
   ]
  },
  {
   "cell_type": "markdown",
   "metadata": {},
   "source": [
    "As these examples show:\n",
    "\n",
    " - The quotes are **not** part of the text, they're just there to delimit it.\n",
    " - Text can include any character: letters, digits and punctuation.\n",
    " - So, `Text` and `Trailer` are vectors. They are sometimes called *Strings*.\n",
    " - APL does not recognize words; a character array is simple a set of characters.\n",
    " - Blank characters (spaces) are characters like any other characters; they do not have any special meaning. However, when a character array is displayed any trailing blanks are most often invisible.\n",
    " \n",
    "A problem may occur when the text itself includes an apostrophe, for example in a sentence like \"*It's raining, isn't it?\".\n",
    "\n",
    "When you enter apostrophes as part of the text, you must double them, as shown below, to distinguish them from the delimiters:"
   ]
  },
  {
   "cell_type": "code",
   "execution_count": 73,
   "metadata": {
    "execution": {
     "iopub.execute_input": "2020-08-11T20:56:26.390402Z",
     "iopub.status.busy": "2020-08-11T20:56:26.390402Z",
     "iopub.status.idle": "2020-08-11T20:56:26.499414Z",
     "shell.execute_reply": "2020-08-11T20:56:26.498417Z"
    }
   },
   "outputs": [],
   "source": [
    "Damned ← 'It''s raining, isn''t it?'"
   ]
  },
  {
   "cell_type": "markdown",
   "metadata": {},
   "source": [
    "This is only a typing convention, but the doubled quotes are transformed into a single apostrophe, as you can see here:"
   ]
  },
  {
   "cell_type": "code",
   "execution_count": 74,
   "metadata": {
    "execution": {
     "iopub.execute_input": "2020-08-11T20:56:26.501409Z",
     "iopub.status.busy": "2020-08-11T20:56:26.501409Z",
     "iopub.status.idle": "2020-08-11T20:56:26.610171Z",
     "shell.execute_reply": "2020-08-11T20:56:26.610171Z"
    }
   },
   "outputs": [
    {
     "data": {
      "text/html": [
       "<span style=\"white-space:pre; font-family: monospace\">It's raining, isn't it?\n",
       "</span>"
      ]
     },
     "execution_count": 74,
     "metadata": {},
     "output_type": "execute_result"
    }
   ],
   "source": [
    "Damned        ⍝ The vector's size is equato to 23."
   ]
  },
  {
   "cell_type": "markdown",
   "metadata": {},
   "source": [
    "As mentioned above a character array can contain digits, but they are not considered to be numbers, and it is impossible to use them in a mathematical operation:"
   ]
  },
  {
   "cell_type": "code",
   "execution_count": 75,
   "metadata": {
    "execution": {
     "iopub.execute_input": "2020-08-11T20:56:26.613163Z",
     "iopub.status.busy": "2020-08-11T20:56:26.612166Z",
     "iopub.status.idle": "2020-08-11T20:56:26.834541Z",
     "shell.execute_reply": "2020-08-11T20:56:26.832546Z"
    }
   },
   "outputs": [
    {
     "data": {
      "text/html": [
       "<span style=\"white-space:pre; font-family: monospace\">100\n",
       "</span>"
      ]
     },
     "execution_count": 75,
     "metadata": {},
     "output_type": "execute_result"
    }
   ],
   "source": [
    "Hundred ← '100'\n",
    "Hundred            ⍝ It looks like a number."
   ]
  },
  {
   "cell_type": "code",
   "execution_count": 76,
   "metadata": {
    "execution": {
     "iopub.execute_input": "2020-08-11T20:56:26.840521Z",
     "iopub.status.busy": "2020-08-11T20:56:26.839525Z",
     "iopub.status.idle": "2020-08-11T20:56:26.954488Z",
     "shell.execute_reply": "2020-08-11T20:56:26.952493Z"
    }
   },
   "outputs": [
    {
     "data": {
      "text/html": [
       "<span style=\"white-space:pre; font-family: monospace\">3\n",
       "</span>"
      ]
     },
     "execution_count": 76,
     "metadata": {},
     "output_type": "execute_result"
    }
   ],
   "source": [
    "⍴Hundred           ⍝ But it isn't."
   ]
  },
  {
   "cell_type": "code",
   "execution_count": 77,
   "metadata": {
    "execution": {
     "iopub.execute_input": "2020-08-11T20:56:26.963465Z",
     "iopub.status.busy": "2020-08-11T20:56:26.961470Z",
     "iopub.status.idle": "2020-08-11T20:56:27.069769Z",
     "shell.execute_reply": "2020-08-11T20:56:27.069769Z"
    }
   },
   "outputs": [
    {
     "name": "stderr",
     "output_type": "stream",
     "text": [
      "DOMAIN ERROR\n",
      "      Hundred+5\n",
      "             ∧\n"
     ]
    }
   ],
   "source": [
    "Hundred + 5"
   ]
  },
  {
   "cell_type": "markdown",
   "metadata": {},
   "source": [
    "Of course, a single character is a scalar:"
   ]
  },
  {
   "cell_type": "code",
   "execution_count": 78,
   "metadata": {
    "execution": {
     "iopub.execute_input": "2020-08-11T20:56:27.071768Z",
     "iopub.status.busy": "2020-08-11T20:56:27.071768Z",
     "iopub.status.idle": "2020-08-11T20:56:27.288594Z",
     "shell.execute_reply": "2020-08-11T20:56:27.287599Z"
    }
   },
   "outputs": [
    {
     "data": {
      "text/html": [
       "<span style=\"white-space:pre; font-family: monospace\">\n",
       "</span>"
      ]
     },
     "execution_count": 78,
     "metadata": {},
     "output_type": "execute_result"
    }
   ],
   "source": [
    "Singleton ← 'p'\n",
    "⍴Singleton        ⍝ Do you remember? Scalars have no dimensions."
   ]
  },
  {
   "cell_type": "code",
   "execution_count": 79,
   "metadata": {
    "execution": {
     "iopub.execute_input": "2020-08-11T20:56:27.294576Z",
     "iopub.status.busy": "2020-08-11T20:56:27.293579Z",
     "iopub.status.idle": "2020-08-11T20:56:27.409086Z",
     "shell.execute_reply": "2020-08-11T20:56:27.406057Z"
    }
   },
   "outputs": [
    {
     "data": {
      "text/html": [
       "<span style=\"white-space:pre; font-family: monospace\">0\n",
       "</span>"
      ]
     },
     "execution_count": 79,
     "metadata": {},
     "output_type": "execute_result"
    }
   ],
   "source": [
    "⍴⍴Singleton       ⍝ Yes, it is definitely a scalar."
   ]
  },
  {
   "cell_type": "markdown",
   "metadata": {},
   "source": [
    "### 4.2 Character Arrays\n",
    "\n",
    "We say, some pages ago, a list of months:\n",
    "\n",
    "```\n",
    "January\n",
    "February\n",
    "March\n",
    "April\n",
    "May\n",
    "June\n",
    "```\n",
    "\n",
    "We can think of this as a list of $6$ words, or as a matrix of $6$ rows and $8$ columns (the width of \"February\"). Both representations are valid, and both can be used in APL; let us study them one after the other.\n",
    "\n",
    "To enter the months as a $6$ by $8$ matrix, one must use the *Reshape* (`⍴`) function:\n",
    "\n",
    " - To the left of the function we must specify the shape of the matrix we want to build: `6 8`\n",
    " - To the right of the function we must specify all of the characters (including any trailing blanks) that are necessary to fill each row to the proper length:"
   ]
  },
  {
   "cell_type": "code",
   "execution_count": 80,
   "metadata": {
    "execution": {
     "iopub.execute_input": "2020-08-11T20:56:27.419021Z",
     "iopub.status.busy": "2020-08-11T20:56:27.417083Z",
     "iopub.status.idle": "2020-08-11T20:56:27.533309Z",
     "shell.execute_reply": "2020-08-11T20:56:27.531269Z"
    }
   },
   "outputs": [],
   "source": [
    "MonMat ← 6 8 ⍴ 'January FebruaryMarch   April   May     June'"
   ]
  },
  {
   "cell_type": "markdown",
   "metadata": {},
   "source": [
    "No space was typed between `February` and `March`; do you see why?"
   ]
  },
  {
   "cell_type": "code",
   "execution_count": 81,
   "metadata": {
    "execution": {
     "iopub.execute_input": "2020-08-11T20:56:27.542243Z",
     "iopub.status.busy": "2020-08-11T20:56:27.540251Z",
     "iopub.status.idle": "2020-08-11T20:56:27.648995Z",
     "shell.execute_reply": "2020-08-11T20:56:27.651022Z"
    }
   },
   "outputs": [
    {
     "data": {
      "text/html": [
       "<span style=\"white-space:pre; font-family: monospace\">January \n",
       "February\n",
       "March   \n",
       "April   \n",
       "May     \n",
       "JuneJanu\n",
       "</span>"
      ]
     },
     "execution_count": 81,
     "metadata": {},
     "output_type": "execute_result"
    }
   ],
   "source": [
    "MonMat        ⍝ Now, let us see the result."
   ]
  },
  {
   "cell_type": "markdown",
   "metadata": {},
   "source": [
    "Oops! We forgot that when the right argument is too short, `⍴` reuses it from the beginning. That's the reason why the last row is wrong. We must add $4$ trailing blanks.\n",
    "\n",
    "###### Facility\n",
    "\n",
    "You do not have to re-type the entire expression.\n",
    "\n",
    "If you are working in the Dyalog interpreter session, just move your cursor up to the line where you defined `MonMat`, add the missing blanks, and press the *Enter* key.\n",
    "\n",
    "APL will then copy the modified line down to the end of your session and automatically restore the original line to its original state. As a consequence, the session window always displays the sequence of expressions and results in the order in which you typed them.\n",
    "\n",
    "If you are working with the Jupyter notebook version of this book, you can just go to the input cell where you made your mistake and correct it in place. Otherwise, just copy the cell and correct the mistake in the copy:"
   ]
  },
  {
   "cell_type": "code",
   "execution_count": 82,
   "metadata": {
    "execution": {
     "iopub.execute_input": "2020-08-11T20:56:27.655975Z",
     "iopub.status.busy": "2020-08-11T20:56:27.655014Z",
     "iopub.status.idle": "2020-08-11T20:56:27.876092Z",
     "shell.execute_reply": "2020-08-11T20:56:27.878064Z"
    }
   },
   "outputs": [
    {
     "data": {
      "text/html": [
       "<span style=\"white-space:pre; font-family: monospace\">January \n",
       "February\n",
       "March   \n",
       "April   \n",
       "May     \n",
       "June    \n",
       "</span>"
      ]
     },
     "execution_count": 82,
     "metadata": {},
     "output_type": "execute_result"
    }
   ],
   "source": [
    "MonMat ← 6 8 ⍴ 'January FebruaryMarch   April   May     June    '\n",
    "MonMat        ⍝ That's right now!"
   ]
  },
  {
   "cell_type": "code",
   "execution_count": 83,
   "metadata": {
    "execution": {
     "iopub.execute_input": "2020-08-11T20:56:27.885012Z",
     "iopub.status.busy": "2020-08-11T20:56:27.884052Z",
     "iopub.status.idle": "2020-08-11T20:56:28.000942Z",
     "shell.execute_reply": "2020-08-11T20:56:27.998946Z"
    }
   },
   "outputs": [
    {
     "data": {
      "text/html": [
       "<span style=\"white-space:pre; font-family: monospace\">6 8\n",
       "</span>"
      ]
     },
     "execution_count": 83,
     "metadata": {},
     "output_type": "execute_result"
    }
   ],
   "source": [
    "⍴MonMat       ⍝ As expected, it is a matrix."
   ]
  },
  {
   "cell_type": "markdown",
   "metadata": {},
   "source": [
    "Now, to enter the months as $6$ words, one must type each word between quotes, and check that each closing quote is separated from the next opening quote by at least one blank (otherwise it would be interpreted as an apostrophe - remember, the juxtaposition of two quotes in a character string is used to enter a single quote):"
   ]
  },
  {
   "cell_type": "code",
   "execution_count": 84,
   "metadata": {
    "execution": {
     "iopub.execute_input": "2020-08-11T20:56:28.009882Z",
     "iopub.status.busy": "2020-08-11T20:56:28.008918Z",
     "iopub.status.idle": "2020-08-11T20:56:28.225980Z",
     "shell.execute_reply": "2020-08-11T20:56:28.225980Z"
    }
   },
   "outputs": [
    {
     "data": {
      "text/html": [
       "<span style=\"white-space:pre; font-family: monospace\">┌───────┬────────┬─────┬─────┬───┬────┐\n",
       "│January│February│March│April│May│June│\n",
       "└───────┴────────┴─────┴─────┴───┴────┘\n",
       "</span>"
      ]
     },
     "execution_count": 84,
     "metadata": {},
     "output_type": "execute_result"
    }
   ],
   "source": [
    "MonVec ← 'January' 'February' 'March' 'April' 'May' 'June'\n",
    "MonVec"
   ]
  },
  {
   "cell_type": "code",
   "execution_count": 85,
   "metadata": {
    "execution": {
     "iopub.execute_input": "2020-08-11T20:56:28.228928Z",
     "iopub.status.busy": "2020-08-11T20:56:28.227974Z",
     "iopub.status.idle": "2020-08-11T20:56:28.343094Z",
     "shell.execute_reply": "2020-08-11T20:56:28.342097Z"
    }
   },
   "outputs": [
    {
     "data": {
      "text/html": [
       "<span style=\"white-space:pre; font-family: monospace\">6\n",
       "</span>"
      ]
     },
     "execution_count": 85,
     "metadata": {},
     "output_type": "execute_result"
    }
   ],
   "source": [
    "⍴MonVec        ⍝ It is a vector."
   ]
  },
  {
   "cell_type": "markdown",
   "metadata": {},
   "source": [
    "`MonVec` is a vector of a kind that we have not seen before, the items of which are $6$ sub-arrays. This kind of an array is called a ***Nested Array*** and is the reason why we see those black boxes around the months.\n",
    "\n",
    "Be patient! We shall study nested arrays very soon in this very chapter.\n",
    "\n",
    "## 5 - Indexing\n",
    "\n",
    "### 5.1 Traditional Vector Indexing\n",
    "\n",
    "Our variable `Contents` contains the following items:"
   ]
  },
  {
   "cell_type": "code",
   "execution_count": 86,
   "metadata": {
    "execution": {
     "iopub.execute_input": "2020-08-11T20:56:28.346083Z",
     "iopub.status.busy": "2020-08-11T20:56:28.346083Z",
     "iopub.status.idle": "2020-08-11T20:56:28.454128Z",
     "shell.execute_reply": "2020-08-11T20:56:28.455125Z"
    }
   },
   "outputs": [
    {
     "data": {
      "text/html": [
       "<span style=\"white-space:pre; font-family: monospace\">12 56 78 74 85 96 30 22 44 66 82 27\n",
       "</span>"
      ]
     },
     "execution_count": 86,
     "metadata": {},
     "output_type": "execute_result"
    }
   ],
   "source": [
    "Contents"
   ]
  },
  {
   "cell_type": "markdown",
   "metadata": {},
   "source": [
    "To extract one of these items, you just have to specify its position, or ***Index***, between ***Square brackets***:"
   ]
  },
  {
   "cell_type": "code",
   "execution_count": 87,
   "metadata": {
    "execution": {
     "iopub.execute_input": "2020-08-11T20:56:28.463103Z",
     "iopub.status.busy": "2020-08-11T20:56:28.461110Z",
     "iopub.status.idle": "2020-08-11T20:56:28.579624Z",
     "shell.execute_reply": "2020-08-11T20:56:28.577629Z"
    }
   },
   "outputs": [
    {
     "data": {
      "text/html": [
       "<span style=\"white-space:pre; font-family: monospace\">78\n",
       "</span>"
      ]
     },
     "execution_count": 87,
     "metadata": {},
     "output_type": "execute_result"
    }
   ],
   "source": [
    "Contents[3]"
   ]
  },
  {
   "cell_type": "markdown",
   "metadata": {},
   "source": [
    "In some languages, programmers use parentheses instead of brackets, but parentheses have many other different uses. In APL, parentheses have one and only one use, namely to specify the order of evaluation of a complex expression. In this respect, the use of square brackets for indexing makes APL more rigorous.\n",
    "\n",
    "Of course, an index must follow some obvious rules: it must be an integer numeric value; it may not be negative or greater than the size of the vector. Otherwise, an \"`INDEX ERROR`\" will be reported.\n",
    "\n",
    "It is possible to extract several items in a single operation, and in any order:"
   ]
  },
  {
   "cell_type": "code",
   "execution_count": 88,
   "metadata": {
    "execution": {
     "iopub.execute_input": "2020-08-11T20:56:28.588597Z",
     "iopub.status.busy": "2020-08-11T20:56:28.586603Z",
     "iopub.status.idle": "2020-08-11T20:56:28.805817Z",
     "shell.execute_reply": "2020-08-11T20:56:28.807813Z"
    }
   },
   "outputs": [
    {
     "data": {
      "text/html": [
       "<span style=\"white-space:pre; font-family: monospace\">78 30 12 78 78 27\n",
       "</span>"
      ]
     },
     "execution_count": 88,
     "metadata": {},
     "output_type": "execute_result"
    }
   ],
   "source": [
    "Contents[3 7 1 3 3 12]        ⍝ You can see that an item can be selected\n",
    "                              ⍝ more than once."
   ]
  },
  {
   "cell_type": "markdown",
   "metadata": {},
   "source": [
    "The same notation allows you to modify one or more items of the vector. The only condition is that you must provide as many replacement values as the number of items you select, or give a single replacement value to use for all the selected items:"
   ]
  },
  {
   "cell_type": "code",
   "execution_count": 89,
   "metadata": {
    "execution": {
     "iopub.execute_input": "2020-08-11T20:56:28.817747Z",
     "iopub.status.busy": "2020-08-11T20:56:28.815753Z",
     "iopub.status.idle": "2020-08-11T20:56:29.027008Z",
     "shell.execute_reply": "2020-08-11T20:56:29.026013Z"
    }
   },
   "outputs": [
    {
     "data": {
      "text/html": [
       "<span style=\"white-space:pre; font-family: monospace\">12 7 78 11 85 80 30 22 44 66 82 27\n",
       "</span>"
      ]
     },
     "execution_count": 89,
     "metadata": {},
     "output_type": "execute_result"
    }
   ],
   "source": [
    "Contents[2 4 6] ← 7 11 80     ⍝ Three values replace three items.\n",
    "Contents"
   ]
  },
  {
   "cell_type": "code",
   "execution_count": 90,
   "metadata": {
    "execution": {
     "iopub.execute_input": "2020-08-11T20:56:29.029003Z",
     "iopub.status.busy": "2020-08-11T20:56:29.029003Z",
     "iopub.status.idle": "2020-08-11T20:56:29.249919Z",
     "shell.execute_reply": "2020-08-11T20:56:29.247915Z"
    }
   },
   "outputs": [
    {
     "data": {
      "text/html": [
       "<span style=\"white-space:pre; font-family: monospace\">12 7 78 11 85 80 30 33 44 66 33 33\n",
       "</span>"
      ]
     },
     "execution_count": 90,
     "metadata": {},
     "output_type": "execute_result"
    }
   ],
   "source": [
    "Contents[8 11 12] ← 33        ⍝ One single value replaces three items.\n",
    "Contents"
   ]
  },
  {
   "cell_type": "markdown",
   "metadata": {},
   "source": [
    "This works exactly the same on character vectors:"
   ]
  },
  {
   "cell_type": "code",
   "execution_count": 91,
   "metadata": {
    "execution": {
     "iopub.execute_input": "2020-08-11T20:56:29.254848Z",
     "iopub.status.busy": "2020-08-11T20:56:29.253851Z",
     "iopub.status.idle": "2020-08-11T20:56:29.369267Z",
     "shell.execute_reply": "2020-08-11T20:56:29.367273Z"
    }
   },
   "outputs": [
    {
     "data": {
      "text/html": [
       "<span style=\"white-space:pre; font-family: monospace\">REPORT\n",
       "</span>"
      ]
     },
     "execution_count": 91,
     "metadata": {},
     "output_type": "execute_result"
    }
   ],
   "source": [
    "'COMPUTER'[8 7 4 2 8 6]"
   ]
  },
  {
   "cell_type": "code",
   "execution_count": 92,
   "metadata": {
    "execution": {
     "iopub.execute_input": "2020-08-11T20:56:29.372212Z",
     "iopub.status.busy": "2020-08-11T20:56:29.372212Z",
     "iopub.status.idle": "2020-08-11T20:56:29.684383Z",
     "shell.execute_reply": "2020-08-11T20:56:29.685384Z"
    }
   },
   "outputs": [
    {
     "data": {
      "text/html": [
       "<span style=\"white-space:pre; font-family: monospace\">BLEND\n",
       "</span>"
      ]
     },
     "execution_count": 92,
     "metadata": {},
     "output_type": "execute_result"
    }
   ],
   "source": [
    "Text ← 'BREAD'\n",
    "Text[2 4] ← 'LN'\n",
    "Text"
   ]
  },
  {
   "cell_type": "markdown",
   "metadata": {},
   "source": [
    "### 5.2 The Shape of the Result\n",
    "\n",
    "The index may be a numeric array of any shape: scalar, vector, matrix, or an array of higher rank. To understand what happens, there is a simple rule:\n",
    "\n",
    "<br />\n",
    "<center>When a vector is indexed by an array, the result has exactly the <b><i>same shape</i></b> as the index array, as if each item of the index had been replaced by the item it designates.</center>\n",
    "\n",
    "This rule is easy to verify. Let us restore the initial values of `Contents`:"
   ]
  },
  {
   "cell_type": "code",
   "execution_count": 93,
   "metadata": {
    "execution": {
     "iopub.execute_input": "2020-08-11T20:56:29.687374Z",
     "iopub.status.busy": "2020-08-11T20:56:29.687374Z",
     "iopub.status.idle": "2020-08-11T20:56:29.795343Z",
     "shell.execute_reply": "2020-08-11T20:56:29.796341Z"
    }
   },
   "outputs": [],
   "source": [
    "Contents ← 12 56 78 74 85 96 30 22 44 66 82 27"
   ]
  },
  {
   "cell_type": "markdown",
   "metadata": {},
   "source": [
    "And let us create a matrix of indices:"
   ]
  },
  {
   "cell_type": "code",
   "execution_count": 94,
   "metadata": {
    "execution": {
     "iopub.execute_input": "2020-08-11T20:56:29.798335Z",
     "iopub.status.busy": "2020-08-11T20:56:29.798335Z",
     "iopub.status.idle": "2020-08-11T20:56:30.020678Z",
     "shell.execute_reply": "2020-08-11T20:56:30.019676Z"
    }
   },
   "outputs": [
    {
     "data": {
      "text/html": [
       "<span style=\"white-space:pre; font-family: monospace\"> 5  5 4  4  8\n",
       " 6 12 6 11 12\n",
       "10  6 1  4  9\n",
       "</span>"
      ]
     },
     "execution_count": 94,
     "metadata": {},
     "output_type": "execute_result"
    }
   ],
   "source": [
    "MyIndex ← 3 5 ⍴ 5 5 4 4 8 6 12 6 11 12 10 6 1 4 9\n",
    "MyIndex"
   ]
  },
  {
   "cell_type": "code",
   "execution_count": 95,
   "metadata": {
    "execution": {
     "iopub.execute_input": "2020-08-11T20:56:30.024656Z",
     "iopub.status.busy": "2020-08-11T20:56:30.024656Z",
     "iopub.status.idle": "2020-08-11T20:56:30.344580Z",
     "shell.execute_reply": "2020-08-11T20:56:30.343546Z"
    }
   },
   "outputs": [
    {
     "data": {
      "text/html": [
       "<span style=\"white-space:pre; font-family: monospace\">85 85 74 74 22\n",
       "96 27 96 82 27\n",
       "66 96 12 74 44\n",
       "</span>"
      ]
     },
     "execution_count": 95,
     "metadata": {},
     "output_type": "execute_result"
    }
   ],
   "source": [
    "Contents[MyIndex]    ⍝ For example you can see that the index in row 2\n",
    "                     ⍝ column 5 was 12. So, it has been replaced by\n",
    "                     ⍝ the 12th item of Contents, i.e. 27."
   ]
  },
  {
   "cell_type": "markdown",
   "metadata": {},
   "source": [
    "The rule remains true if the indexed vector is a character vector. For example, imagine that we have a matrix named `Planning`, in which some tasks are planned ($1$) or not ($0$) over the next $12$ months:"
   ]
  },
  {
   "cell_type": "code",
   "execution_count": 96,
   "metadata": {
    "execution": {
     "iopub.execute_input": "2020-08-11T20:56:30.346537Z",
     "iopub.status.busy": "2020-08-11T20:56:30.346537Z",
     "iopub.status.idle": "2020-08-11T20:56:30.463701Z",
     "shell.execute_reply": "2020-08-11T20:56:30.462703Z"
    }
   },
   "outputs": [
    {
     "data": {
      "text/html": [
       "<span style=\"white-space:pre; font-family: monospace\">0 0 0 1 1 1 1 1 1 0 0 0\n",
       "1 1 1 1 1 1 1 1 0 0 0 0\n",
       "0 1 1 1 0 0 0 0 0 1 1 1\n",
       "0 0 0 0 0 0 0 1 1 1 1 1\n",
       "0 0 1 1 1 1 1 0 0 0 0 0\n",
       "</span>"
      ]
     },
     "execution_count": 96,
     "metadata": {},
     "output_type": "execute_result"
    }
   ],
   "source": [
    "Planning        ⍝ This is not very easy to interpret!"
   ]
  },
  {
   "cell_type": "markdown",
   "metadata": {},
   "source": [
    "Let us replace the inactive periods by \"`-`\", and the busy periods by \"`⎕`\". This beautiful character, named ***Quad***, can be entered by pressing *Ctrl*+L."
   ]
  },
  {
   "cell_type": "code",
   "execution_count": 97,
   "metadata": {
    "execution": {
     "iopub.execute_input": "2020-08-11T20:56:30.474676Z",
     "iopub.status.busy": "2020-08-11T20:56:30.472732Z",
     "iopub.status.idle": "2020-08-11T20:56:30.688493Z",
     "shell.execute_reply": "2020-08-11T20:56:30.688493Z"
    }
   },
   "outputs": [
    {
     "data": {
      "text/html": [
       "<span style=\"white-space:pre; font-family: monospace\">---⎕⎕⎕⎕⎕⎕---\n",
       "⎕⎕⎕⎕⎕⎕⎕⎕----\n",
       "-⎕⎕⎕-----⎕⎕⎕\n",
       "-------⎕⎕⎕⎕⎕\n",
       "--⎕⎕⎕⎕⎕-----\n",
       "</span>"
      ]
     },
     "execution_count": 97,
     "metadata": {},
     "output_type": "execute_result"
    }
   ],
   "source": [
    "'-⎕'[Planning+1]        ⍝ Do you understand why we added 1?\n",
    "                        ⍝ And doesn't this look good?"
   ]
  },
  {
   "cell_type": "markdown",
   "metadata": {},
   "source": [
    "Of course, the vector to be indexed was composed of only two characters, so the set of indices had to be composed only from the values $1$ and $2$. This is the reason why we added $1$ to `Planning`.\n",
    "\n",
    "All the $0$'s in `Planning` have been replaced by the $1^\\text{st}$ item (`-`), and all the $1$'s have been replaced by the $2^\\text{nd}$ item (`⎕`).\n",
    "\n",
    "### 5.3 Array Indexing\n",
    "\n",
    "Just to make some experiments, let us create a new variable, named `Tests`:"
   ]
  },
  {
   "cell_type": "code",
   "execution_count": 98,
   "metadata": {
    "execution": {
     "iopub.execute_input": "2020-08-11T20:56:30.691493Z",
     "iopub.status.busy": "2020-08-11T20:56:30.691493Z",
     "iopub.status.idle": "2020-08-11T20:56:30.808219Z",
     "shell.execute_reply": "2020-08-11T20:56:30.806273Z"
    }
   },
   "outputs": [
    {
     "data": {
      "text/html": [
       "<span style=\"white-space:pre; font-family: monospace\">41 26 38\n",
       "14 87 52\n",
       "30 28 19\n",
       "65 40 55\n",
       "19 31 64\n",
       "45 82 74\n",
       "</span>"
      ]
     },
     "execution_count": 98,
     "metadata": {},
     "output_type": "execute_result"
    }
   ],
   "source": [
    "Tests"
   ]
  },
  {
   "cell_type": "markdown",
   "metadata": {},
   "source": [
    "Indexing an array is very similar to the method we say for vectors, but we now need one index for the row and one for the column; they must be separated by a ***Semi-colon***. For example, to get (or replace) the value $55$ in row $4$, column $3$, one types:"
   ]
  },
  {
   "cell_type": "code",
   "execution_count": 99,
   "metadata": {
    "execution": {
     "iopub.execute_input": "2020-08-11T20:56:30.811210Z",
     "iopub.status.busy": "2020-08-11T20:56:30.811210Z",
     "iopub.status.idle": "2020-08-11T20:56:30.926235Z",
     "shell.execute_reply": "2020-08-11T20:56:30.924238Z"
    }
   },
   "outputs": [
    {
     "data": {
      "text/html": [
       "<span style=\"white-space:pre; font-family: monospace\">55\n",
       "</span>"
      ]
     },
     "execution_count": 99,
     "metadata": {},
     "output_type": "execute_result"
    }
   ],
   "source": [
    "Tests[4;3]"
   ]
  },
  {
   "cell_type": "markdown",
   "metadata": {},
   "source": [
    "It is of course possible to select more than one row and more than one column. If so, one obtains all the values situated at the intersections of the specified rows and columns."
   ]
  },
  {
   "cell_type": "code",
   "execution_count": 100,
   "metadata": {
    "execution": {
     "iopub.execute_input": "2020-08-11T20:56:30.937198Z",
     "iopub.status.busy": "2020-08-11T20:56:30.935164Z",
     "iopub.status.idle": "2020-08-11T20:56:31.043235Z",
     "shell.execute_reply": "2020-08-11T20:56:31.043235Z"
    }
   },
   "outputs": [
    {
     "data": {
      "text/html": [
       "<span style=\"white-space:pre; font-family: monospace\">41 38\n",
       "19 64\n",
       "45 74\n",
       "</span>"
      ]
     },
     "execution_count": 100,
     "metadata": {},
     "output_type": "execute_result"
    }
   ],
   "source": [
    "Tests[1 5 6;1 3]"
   ]
  },
  {
   "cell_type": "markdown",
   "metadata": {},
   "source": [
    "The result of indexing may sometimes be surprising. Let us extract $4$ values from the first column:"
   ]
  },
  {
   "cell_type": "code",
   "execution_count": 101,
   "metadata": {
    "execution": {
     "iopub.execute_input": "2020-08-11T20:56:31.045188Z",
     "iopub.status.busy": "2020-08-11T20:56:31.045188Z",
     "iopub.status.idle": "2020-08-11T20:56:31.159385Z",
     "shell.execute_reply": "2020-08-11T20:56:31.157345Z"
    }
   },
   "outputs": [
    {
     "data": {
      "text/html": [
       "<span style=\"white-space:pre; font-family: monospace\">41 14 19 45\n",
       "</span>"
      ]
     },
     "execution_count": 101,
     "metadata": {},
     "output_type": "execute_result"
    }
   ],
   "source": [
    "Tests[1 2 5 6;1]"
   ]
  },
  {
   "cell_type": "markdown",
   "metadata": {},
   "source": [
    "You probably expected the result to be displayed like a column? Really sorry!\n",
    "\n",
    "The result of this expression is a vector, and a vector is always displayed as a row on the screen.\n",
    "\n",
    "We shall see later that it is possible, using a little trick, to cause the result to be displayed vertically.\n",
    "\n",
    "When you use indexing, you must specify as many indices or sets of indices as the array's rank. For a $3$-D array, you must specify $3$ sets of indices, separated by two semi-colons.\n",
    "\n",
    "For example, suppose that we would like to extract the production of the $2^\\text{nd}$ assembly line, for the first $6$ months of the last two years, from the array `Prod`. Let's express that in order of the $3$ dimensions: Years/Lines/Months:\n",
    "\n",
    "|||\n",
    "|:-|:-|\n",
    "| The last two years are in positions | $4\\ 5$ |\n",
    "| The second assembly line | $2$ |\n",
    "| The first $6$ months | $1\\ 2\\ 3\\ 4\\ 5\\ 6$ |"
   ]
  },
  {
   "cell_type": "code",
   "execution_count": 102,
   "metadata": {
    "execution": {
     "iopub.execute_input": "2020-08-11T20:56:31.170376Z",
     "iopub.status.busy": "2020-08-11T20:56:31.168372Z",
     "iopub.status.idle": "2020-08-11T20:56:31.288762Z",
     "shell.execute_reply": "2020-08-11T20:56:31.286751Z"
    }
   },
   "outputs": [
    {
     "data": {
      "text/html": [
       "<span style=\"white-space:pre; font-family: monospace\">16 55 26 20 27 55\n",
       "24 35 61 26 22 35\n",
       "</span>"
      ]
     },
     "execution_count": 102,
     "metadata": {},
     "output_type": "execute_result"
    }
   ],
   "source": [
    "Prod[4 5;2;1 2 3 4 5 6]    ⍝ The result is a matrix: 2 years/6 months"
   ]
  },
  {
   "cell_type": "markdown",
   "metadata": {},
   "source": [
    "###### Remark 1\n",
    "\n",
    "Because we can select rows and columns, the semi-colon is necessary to tell them apart:"
   ]
  },
  {
   "cell_type": "code",
   "execution_count": 103,
   "metadata": {
    "execution": {
     "iopub.execute_input": "2020-08-11T20:56:31.298680Z",
     "iopub.status.busy": "2020-08-11T20:56:31.296741Z",
     "iopub.status.idle": "2020-08-11T20:56:31.406307Z",
     "shell.execute_reply": "2020-08-11T20:56:31.405282Z"
    }
   },
   "outputs": [
    {
     "data": {
      "text/html": [
       "<span style=\"white-space:pre; font-family: monospace\">38 52\n",
       "</span>"
      ]
     },
     "execution_count": 103,
     "metadata": {},
     "output_type": "execute_result"
    }
   ],
   "source": [
    "Tests[1 2;3]    ⍝ gives rows 1 and 2, column 3"
   ]
  },
  {
   "cell_type": "markdown",
   "metadata": {},
   "source": [
    "whereas"
   ]
  },
  {
   "cell_type": "code",
   "execution_count": 104,
   "metadata": {
    "execution": {
     "iopub.execute_input": "2020-08-11T20:56:31.409300Z",
     "iopub.status.busy": "2020-08-11T20:56:31.409300Z",
     "iopub.status.idle": "2020-08-11T20:56:31.519346Z",
     "shell.execute_reply": "2020-08-11T20:56:31.520381Z"
    }
   },
   "outputs": [
    {
     "data": {
      "text/html": [
       "<span style=\"white-space:pre; font-family: monospace\">26 38\n",
       "</span>"
      ]
     },
     "execution_count": 104,
     "metadata": {},
     "output_type": "execute_result"
    }
   ],
   "source": [
    "Tests[1;2 3]    ⍝ gives row 1, columns 2 and 3"
   ]
  },
  {
   "cell_type": "markdown",
   "metadata": {},
   "source": [
    "###### Remark 2\n",
    "\n",
    "It is also possible to select several items which are not at the intersections of the same rows or columns. To do so requires a special notation where the individual Row/Column indices of each item are embedded in parentheses. The reason for this syntax will become clear in Section 6.3.\n",
    "\n",
    "For example, let us select `Tests[2;3]` together with `Tests[5;1]` and `Tests[1;2`."
   ]
  },
  {
   "cell_type": "code",
   "execution_count": 105,
   "metadata": {
    "execution": {
     "iopub.execute_input": "2020-08-11T20:56:31.522339Z",
     "iopub.status.busy": "2020-08-11T20:56:31.522339Z",
     "iopub.status.idle": "2020-08-11T20:56:31.638093Z",
     "shell.execute_reply": "2020-08-11T20:56:31.636054Z"
    }
   },
   "outputs": [
    {
     "data": {
      "text/html": [
       "<span style=\"white-space:pre; font-family: monospace\">52 19 26\n",
       "</span>"
      ]
     },
     "execution_count": 105,
     "metadata": {},
     "output_type": "execute_result"
    }
   ],
   "source": [
    "Tests[(2 3)(5 1)(1 2)]"
   ]
  },
  {
   "cell_type": "markdown",
   "metadata": {},
   "source": [
    "### 5.4 Convention\n",
    "\n",
    "To specify *all* items of a dimension, you just omit the index for that dimension, but you must not omit the semi-colon attached to it.\n",
    "\n",
    "In the previous example, to obtain both assembly lines we could have typed:"
   ]
  },
  {
   "cell_type": "code",
   "execution_count": 106,
   "metadata": {
    "execution": {
     "iopub.execute_input": "2020-08-11T20:56:31.645063Z",
     "iopub.status.busy": "2020-08-11T20:56:31.644042Z",
     "iopub.status.idle": "2020-08-11T20:56:31.752866Z",
     "shell.execute_reply": "2020-08-11T20:56:31.752866Z"
    }
   },
   "outputs": [
    {
     "data": {
      "text/html": [
       "<span style=\"white-space:pre; font-family: monospace\">21 57 55 44 16 54\n",
       "16 55 26 20 27 55\n",
       "\n",
       "27 23 56 41 53 60\n",
       "24 35 61 26 22 35\n",
       "</span>"
      ]
     },
     "execution_count": 106,
     "metadata": {},
     "output_type": "execute_result"
    }
   ],
   "source": [
    "Prod[4 5;1 2;1 2 3 4 5 6]"
   ]
  },
  {
   "cell_type": "markdown",
   "metadata": {},
   "source": [
    "But it is shorter to type:"
   ]
  },
  {
   "cell_type": "code",
   "execution_count": 107,
   "metadata": {
    "execution": {
     "iopub.execute_input": "2020-08-11T20:56:31.755858Z",
     "iopub.status.busy": "2020-08-11T20:56:31.754860Z",
     "iopub.status.idle": "2020-08-11T20:56:31.975548Z",
     "shell.execute_reply": "2020-08-11T20:56:31.973585Z"
    }
   },
   "outputs": [
    {
     "data": {
      "text/html": [
       "<span style=\"white-space:pre; font-family: monospace\">21 57 55 44 16 54\n",
       "16 55 26 20 27 55\n",
       "\n",
       "27 23 56 41 53 60\n",
       "24 35 61 26 22 35\n",
       "</span>"
      ]
     },
     "execution_count": 107,
     "metadata": {},
     "output_type": "execute_result"
    }
   ],
   "source": [
    "Prod[4 5;;1 2 3 4 5 6]    ⍝ The omitted index means\n",
    "                          ⍝ \"All the assembly lines\"."
   ]
  },
  {
   "cell_type": "markdown",
   "metadata": {},
   "source": [
    "In the same way:"
   ]
  },
  {
   "cell_type": "code",
   "execution_count": 108,
   "metadata": {
    "execution": {
     "iopub.execute_input": "2020-08-11T20:56:31.977533Z",
     "iopub.status.busy": "2020-08-11T20:56:31.977533Z",
     "iopub.status.idle": "2020-08-11T20:56:32.192477Z",
     "shell.execute_reply": "2020-08-11T20:56:32.194517Z"
    }
   },
   "outputs": [
    {
     "data": {
      "text/html": [
       "<span style=\"white-space:pre; font-family: monospace\">16 55 26 20 27 55 36 39 43 38 50 16\n",
       "24 35 61 26 22 35 24 20 31 35 47 37\n",
       "</span>"
      ]
     },
     "execution_count": 108,
     "metadata": {},
     "output_type": "execute_result"
    }
   ],
   "source": [
    "Prod[4 5;2;]              ⍝ The omitted last index means\n",
    "                          ⍝ \"All the months\"."
   ]
  },
  {
   "cell_type": "markdown",
   "metadata": {},
   "source": [
    "And finally:"
   ]
  },
  {
   "cell_type": "code",
   "execution_count": 109,
   "metadata": {
    "execution": {
     "iopub.execute_input": "2020-08-11T20:56:32.198500Z",
     "iopub.status.busy": "2020-08-11T20:56:32.197499Z",
     "iopub.status.idle": "2020-08-11T20:56:32.414413Z",
     "shell.execute_reply": "2020-08-11T20:56:32.413416Z"
    }
   },
   "outputs": [
    {
     "data": {
      "text/html": [
       "<span style=\"white-space:pre; font-family: monospace\">26 16 22\n",
       "43 36 47\n",
       "\n",
       "44 21 58\n",
       "29 19 23\n",
       "\n",
       "37 27 53\n",
       "56 55 25\n",
       "\n",
       "21 57 55\n",
       "16 55 26\n",
       "\n",
       "27 23 56\n",
       "24 35 61\n",
       "</span>"
      ]
     },
     "execution_count": 109,
     "metadata": {},
     "output_type": "execute_result"
    }
   ],
   "source": [
    "Prod[;;1 2 3]             ⍝ The omitted indices mean\n",
    "                          ⍝ \"All years and lines\"."
   ]
  },
  {
   "cell_type": "markdown",
   "metadata": {},
   "source": [
    "This convention also applies to *replacing* specific items. For example, to change all the items in the last row of `Tests`, we could type:"
   ]
  },
  {
   "cell_type": "code",
   "execution_count": 110,
   "metadata": {
    "execution": {
     "iopub.execute_input": "2020-08-11T20:56:32.416407Z",
     "iopub.status.busy": "2020-08-11T20:56:32.415410Z",
     "iopub.status.idle": "2020-08-11T20:56:32.639692Z",
     "shell.execute_reply": "2020-08-11T20:56:32.637698Z"
    }
   },
   "outputs": [
    {
     "data": {
      "text/html": [
       "<span style=\"white-space:pre; font-family: monospace\">41 26 38\n",
       "14 87 52\n",
       "30 28 19\n",
       "65 40 55\n",
       "19 31 64\n",
       "60 70 80\n",
       "</span>"
      ]
     },
     "execution_count": 110,
     "metadata": {},
     "output_type": "execute_result"
    }
   ],
   "source": [
    "Tests[6;] ← 60 70 80\n",
    "Tests"
   ]
  },
  {
   "cell_type": "markdown",
   "metadata": {},
   "source": [
    "### 5.5 Warnings\n",
    "\n",
    "We would like to draw your attention to some selicate details. Here is the first:\n",
    "\n",
    "#### 5.5.1 - Shape Compatibility\n",
    "\n",
    "To replace several items in an array, the replacement array must have exactly the **same shape** as the array of indices they replace.\n",
    "\n",
    "For example, supposed that we would like to replace the four \"corners\" of `Tests` with the values $11\\ 22\\ 33\\ 44$ respectively.\n",
    "\n",
    "We **cannot** successfully execute:"
   ]
  },
  {
   "cell_type": "code",
   "execution_count": 111,
   "metadata": {
    "execution": {
     "iopub.execute_input": "2020-08-11T20:56:32.650664Z",
     "iopub.status.busy": "2020-08-11T20:56:32.647726Z",
     "iopub.status.idle": "2020-08-11T20:56:32.760100Z",
     "shell.execute_reply": "2020-08-11T20:56:32.761069Z"
    }
   },
   "outputs": [
    {
     "name": "stderr",
     "output_type": "stream",
     "text": [
      "LENGTH ERROR\n",
      "      Tests[1 6;1 3]←11 22 33 44\n",
      "           ∧\n"
     ]
    }
   ],
   "source": [
    "Tests[1 6;1 3] ← 11 22 33 44"
   ]
  },
  {
   "cell_type": "markdown",
   "metadata": {},
   "source": [
    "Notice the `LENGTH ERROR` that was issued (note that this is a \"**Shape** error\").\n",
    "\n",
    "If we had extracted these four values, the result would have been a $2$ by $2$ matrix:"
   ]
  },
  {
   "cell_type": "code",
   "execution_count": 112,
   "metadata": {
    "execution": {
     "iopub.execute_input": "2020-08-11T20:56:32.765056Z",
     "iopub.status.busy": "2020-08-11T20:56:32.764058Z",
     "iopub.status.idle": "2020-08-11T20:56:32.880782Z",
     "shell.execute_reply": "2020-08-11T20:56:32.877790Z"
    }
   },
   "outputs": [
    {
     "data": {
      "text/html": [
       "<span style=\"white-space:pre; font-family: monospace\">41 38\n",
       "60 80\n",
       "</span>"
      ]
     },
     "execution_count": 112,
     "metadata": {},
     "output_type": "execute_result"
    }
   ],
   "source": [
    "Tests[1 6;1 3]        ⍝ Remember: row 6 was modified above!"
   ]
  },
  {
   "cell_type": "markdown",
   "metadata": {},
   "source": [
    "So, to replace them, we cannot use a vector, as we have just tried to do. Instead we must organise the replacement array into a $2$ by $2$ matrix, like this:"
   ]
  },
  {
   "cell_type": "code",
   "execution_count": 113,
   "metadata": {
    "execution": {
     "iopub.execute_input": "2020-08-11T20:56:32.890716Z",
     "iopub.status.busy": "2020-08-11T20:56:32.888721Z",
     "iopub.status.idle": "2020-08-11T20:56:33.104518Z",
     "shell.execute_reply": "2020-08-11T20:56:33.104518Z"
    }
   },
   "outputs": [
    {
     "data": {
      "text/html": [
       "<span style=\"white-space:pre; font-family: monospace\">11 26 22\n",
       "14 87 52\n",
       "30 28 19\n",
       "65 40 55\n",
       "19 31 64\n",
       "33 70 44\n",
       "</span>"
      ]
     },
     "execution_count": 113,
     "metadata": {},
     "output_type": "execute_result"
    }
   ],
   "source": [
    "Tests[1 6;1 3] ← 2 2 ⍴ 11 22 33 44\n",
    "Tests        ⍝ Notice the corners have the new values."
   ]
  },
  {
   "cell_type": "markdown",
   "metadata": {},
   "source": [
    "#### 5.5.2 - Replace or Obtain All the Values\n",
    "\n",
    "To replace **all** of the values in an array with a single value, it is necessary to use brackes in which the indices of all the dimensions have been removed.\n",
    "\n",
    "For example, imagine that we would like to reset all the values of `Tests` to zero.\n",
    "\n",
    "`Tests ← 0` would be **wrong**, because that would replace the matrix by a scalar.\n",
    "\n",
    "The correct solution is"
   ]
  },
  {
   "cell_type": "code",
   "execution_count": 114,
   "metadata": {
    "execution": {
     "iopub.execute_input": "2020-08-11T20:56:33.107574Z",
     "iopub.status.busy": "2020-08-11T20:56:33.106555Z",
     "iopub.status.idle": "2020-08-11T20:56:33.427151Z",
     "shell.execute_reply": "2020-08-11T20:56:33.427151Z"
    }
   },
   "outputs": [
    {
     "data": {
      "text/html": [
       "<span style=\"white-space:pre; font-family: monospace\">0 0 0\n",
       "0 0 0\n",
       "0 0 0\n",
       "0 0 0\n",
       "0 0 0\n",
       "0 0 0\n",
       "</span>"
      ]
     },
     "execution_count": 114,
     "metadata": {},
     "output_type": "execute_result"
    }
   ],
   "source": [
    "Tests2 ← Tests\n",
    "Tests2[;] ← 0        ⍝ All the rows and columns are replaced by zero.\n",
    "Tests2"
   ]
  },
  {
   "cell_type": "markdown",
   "metadata": {},
   "source": [
    "For a vector, like `Contents`, we would write"
   ]
  },
  {
   "cell_type": "code",
   "execution_count": 115,
   "metadata": {
    "execution": {
     "iopub.execute_input": "2020-08-11T20:56:33.429104Z",
     "iopub.status.busy": "2020-08-11T20:56:33.429104Z",
     "iopub.status.idle": "2020-08-11T20:56:33.645025Z",
     "shell.execute_reply": "2020-08-11T20:56:33.647015Z"
    }
   },
   "outputs": [
    {
     "data": {
      "text/html": [
       "<span style=\"white-space:pre; font-family: monospace\">123 123 123 123 123 123 123 123 123 123 123 123\n",
       "</span>"
      ]
     },
     "execution_count": 115,
     "metadata": {},
     "output_type": "execute_result"
    }
   ],
   "source": [
    "Contents[] ← 123      ⍝ All the items are replaced by 123.\n",
    "Contents"
   ]
  },
  {
   "cell_type": "markdown",
   "metadata": {},
   "source": [
    "#### 5.5.3 - \"Pass-Through\" Value\n",
    "\n",
    "Imagine that we have a vector:"
   ]
  },
  {
   "cell_type": "code",
   "execution_count": 116,
   "metadata": {
    "execution": {
     "iopub.execute_input": "2020-08-11T20:56:33.656946Z",
     "iopub.status.busy": "2020-08-11T20:56:33.655004Z",
     "iopub.status.idle": "2020-08-11T20:56:33.760504Z",
     "shell.execute_reply": "2020-08-11T20:56:33.760504Z"
    }
   },
   "outputs": [],
   "source": [
    "Vec ← 32 51 28 19 72 31"
   ]
  },
  {
   "cell_type": "markdown",
   "metadata": {},
   "source": [
    "We replace some items and assign the result to another variable:"
   ]
  },
  {
   "cell_type": "code",
   "execution_count": 117,
   "metadata": {
    "execution": {
     "iopub.execute_input": "2020-08-11T20:56:33.763496Z",
     "iopub.status.busy": "2020-08-11T20:56:33.762499Z",
     "iopub.status.idle": "2020-08-11T20:56:33.872963Z",
     "shell.execute_reply": "2020-08-11T20:56:33.871923Z"
    }
   },
   "outputs": [],
   "source": [
    "Res ← Vec[2 4 6] ← 50"
   ]
  },
  {
   "cell_type": "markdown",
   "metadata": {},
   "source": [
    "What do we get in `Res`? Is it `Res ← Vec[2 4 6]`, or is it `Res ← 50`?"
   ]
  },
  {
   "cell_type": "code",
   "execution_count": 118,
   "metadata": {
    "execution": {
     "iopub.execute_input": "2020-08-11T20:56:33.880898Z",
     "iopub.status.busy": "2020-08-11T20:56:33.879898Z",
     "iopub.status.idle": "2020-08-11T20:56:33.985798Z",
     "shell.execute_reply": "2020-08-11T20:56:33.985798Z"
    }
   },
   "outputs": [
    {
     "data": {
      "text/html": [
       "<span style=\"white-space:pre; font-family: monospace\">50\n",
       "</span>"
      ]
     },
     "execution_count": 118,
     "metadata": {},
     "output_type": "execute_result"
    }
   ],
   "source": [
    "Res"
   ]
  },
  {
   "cell_type": "markdown",
   "metadata": {},
   "source": [
    "In fact, we get `50`. We say that `50` is a ***Pass-Through*** value.\n",
    "\n",
    "### 5.6 The Index Function\n",
    "\n",
    "In APL, nearly all of the built-in functions (known as *Primitive Functions) are represented by a single symbol: `+` `×` `⍴` `÷` etc. Bracket indexing, as we introduced above, is an exception: it is represented by two non-contiguous symbols: `[` and `]`. This is one of the reasons why modern versions of APL also include an ***Index*** function.\n",
    "\n",
    "It is represented by the symbol `⌷`.\n",
    "\n",
    "**Beware**: this is **not** the symbol *Quad* used in our planning example a few pages ago!\n",
    "\n",
    "In fact, it looks like a *Quad* which has been *squished*, hence its name: Squish-Quad, or ***Squad*** for short. The *Squad* is obtained with *Ctrl*+*Shift*+L.\n",
    "\n",
    "When applied to a vector, *Index* takes a single number on its left."
   ]
  },
  {
   "cell_type": "code",
   "execution_count": 119,
   "metadata": {
    "execution": {
     "iopub.execute_input": "2020-08-11T20:56:33.988790Z",
     "iopub.status.busy": "2020-08-11T20:56:33.987792Z",
     "iopub.status.idle": "2020-08-11T20:56:34.095282Z",
     "shell.execute_reply": "2020-08-11T20:56:34.096280Z"
    }
   },
   "outputs": [
    {
     "data": {
      "text/html": [
       "<span style=\"white-space:pre; font-family: monospace\">123\n",
       "</span>"
      ]
     },
     "execution_count": 119,
     "metadata": {},
     "output_type": "execute_result"
    }
   ],
   "source": [
    "3 ⌷ Contents        ⍝ This is equivalent to Contents[3]"
   ]
  },
  {
   "cell_type": "markdown",
   "metadata": {},
   "source": [
    "For now, we shall not try to extract more than one item from a vector; we need additional knowledge to do that.\n",
    "\n",
    "For a matrix, *Index* takes a pair of values (row/column) on its left."
   ]
  },
  {
   "cell_type": "code",
   "execution_count": 120,
   "metadata": {
    "execution": {
     "iopub.execute_input": "2020-08-11T20:56:34.098232Z",
     "iopub.status.busy": "2020-08-11T20:56:34.098232Z",
     "iopub.status.idle": "2020-08-11T20:56:34.210355Z",
     "shell.execute_reply": "2020-08-11T20:56:34.211355Z"
    }
   },
   "outputs": [
    {
     "data": {
      "text/html": [
       "<span style=\"white-space:pre; font-family: monospace\">40\n",
       "</span>"
      ]
     },
     "execution_count": 120,
     "metadata": {},
     "output_type": "execute_result"
    }
   ],
   "source": [
    "4 2 ⌷ Tests         ⍝ This is equivalent to Tests[4;2]"
   ]
  },
  {
   "cell_type": "markdown",
   "metadata": {},
   "source": [
    "It is possible to select several rows and several columns, using a special notation that will be explained in subsequent sections. The left argument of *Index* is now made of a list of rows followed by a list of columns, both parenthesised:"
   ]
  },
  {
   "cell_type": "code",
   "execution_count": 121,
   "metadata": {
    "execution": {
     "iopub.execute_input": "2020-08-11T20:56:34.214335Z",
     "iopub.status.busy": "2020-08-11T20:56:34.213349Z",
     "iopub.status.idle": "2020-08-11T20:56:34.330772Z",
     "shell.execute_reply": "2020-08-11T20:56:34.328819Z"
    }
   },
   "outputs": [
    {
     "data": {
      "text/html": [
       "<span style=\"white-space:pre; font-family: monospace\">11 22\n",
       "30 19\n",
       "33 44\n",
       "</span>"
      ]
     },
     "execution_count": 121,
     "metadata": {},
     "output_type": "execute_result"
    }
   ],
   "source": [
    "(1 3 6)(1 3)⌷Tests  ⍝ This is equivalent to Tests[1 3 6;1 3]"
   ]
  },
  {
   "cell_type": "markdown",
   "metadata": {},
   "source": [
    "## 6 - Mixed and Nested Arrays\n",
    "\n",
    "Up to now we have dealt only with homogeneous arrays: scalars, vectors or higher rank arrays containing only numbers or only characters. An array was a collection of what we call *simple* scalars. In the early $1980$'s enhanced versions of APL started to appear. They accepted a mixture of numbers and characters within the same array (so-called ***Mixed Arrays***), and arrays could contain sub-arrays as items (so-called ***Nested Arrays***).\n",
    "\n",
    "In this chapter, we shall explore only some basic properties of *Mixed* and *Nested arrays*, just to help you understand what might otherwise appear to be unusual behaviour or unexpected error messages. We shall not go any further for now; Chapter I will be entirely dedicated to an extensive study of nested arrays.\n",
    "\n",
    "Note that with the current widespread use of *Nested arrays*, it is now very common to refer to an \"old-fashioned\" array that is neither *Mixed* nor *Nested* as a *Simple array*.\n",
    "\n",
    "### 6.1 Mixed Arrays\n",
    "\n",
    "An array is described as a ***Mixed Array*** if it contains a mixture of scalar numbers and scalar characters.\n",
    "\n",
    "It is easy to create such an array:"
   ]
  },
  {
   "cell_type": "code",
   "execution_count": 122,
   "metadata": {
    "execution": {
     "iopub.execute_input": "2020-08-11T20:56:34.340788Z",
     "iopub.status.busy": "2020-08-11T20:56:34.338809Z",
     "iopub.status.idle": "2020-08-11T20:56:34.548095Z",
     "shell.execute_reply": "2020-08-11T20:56:34.547056Z"
    }
   },
   "outputs": [
    {
     "data": {
      "text/html": [
       "<span style=\"white-space:pre; font-family: monospace\">9\n",
       "</span>"
      ]
     },
     "execution_count": 122,
     "metadata": {},
     "output_type": "execute_result"
    }
   ],
   "source": [
    "MixVec ← 44 87 'K' 12 29 'B' 'a' 'g' 46.3\n",
    "⍴MixVec        ⍝ This is a vector."
   ]
  },
  {
   "cell_type": "code",
   "execution_count": 123,
   "metadata": {
    "execution": {
     "iopub.execute_input": "2020-08-11T20:56:34.550109Z",
     "iopub.status.busy": "2020-08-11T20:56:34.550109Z",
     "iopub.status.idle": "2020-08-11T20:56:34.665532Z",
     "shell.execute_reply": "2020-08-11T20:56:34.663537Z"
    }
   },
   "outputs": [
    {
     "data": {
      "text/html": [
       "<span style=\"white-space:pre; font-family: monospace\">44 87 K 12 29 Bag 46.3\n",
       "</span>"
      ]
     },
     "execution_count": 123,
     "metadata": {},
     "output_type": "execute_result"
    }
   ],
   "source": [
    "MixVec"
   ]
  },
  {
   "cell_type": "code",
   "execution_count": 124,
   "metadata": {
    "execution": {
     "iopub.execute_input": "2020-08-11T20:56:34.668520Z",
     "iopub.status.busy": "2020-08-11T20:56:34.668520Z",
     "iopub.status.idle": "2020-08-11T20:56:34.879090Z",
     "shell.execute_reply": "2020-08-11T20:56:34.879090Z"
    }
   },
   "outputs": [
    {
     "data": {
      "text/html": [
       "<span style=\"white-space:pre; font-family: monospace\">2 5\n",
       "</span>"
      ]
     },
     "execution_count": 124,
     "metadata": {},
     "output_type": "execute_result"
    }
   ],
   "source": [
    "MixMat ← 2 5⍴MixVec\n",
    "⍴MixMat        ⍝ That is a matrix."
   ]
  },
  {
   "cell_type": "code",
   "execution_count": 125,
   "metadata": {
    "execution": {
     "iopub.execute_input": "2020-08-11T20:56:34.882042Z",
     "iopub.status.busy": "2020-08-11T20:56:34.881043Z",
     "iopub.status.idle": "2020-08-11T20:56:34.996084Z",
     "shell.execute_reply": "2020-08-11T20:56:34.998077Z"
    }
   },
   "outputs": [
    {
     "data": {
      "text/html": [
       "<span style=\"white-space:pre; font-family: monospace\">44 87 K 12   29\n",
       " B  a g 46.3 44\n",
       "</span>"
      ]
     },
     "execution_count": 125,
     "metadata": {},
     "output_type": "execute_result"
    }
   ],
   "source": [
    "MixMat"
   ]
  },
  {
   "cell_type": "markdown",
   "metadata": {},
   "source": [
    "### 6.2 Four Important Remarks\n",
    "\n",
    "#### 6.2.1\n",
    "\n",
    "In a vector like `MixVec`, each letter must be entered as a scalar: embedded within quotes, and separated from the next one by at least one blank space.\n",
    "\n",
    "If the space is omitted, for example, if we type"
   ]
  },
  {
   "cell_type": "code",
   "execution_count": 126,
   "metadata": {
    "execution": {
     "iopub.execute_input": "2020-08-11T20:56:35.003063Z",
     "iopub.status.busy": "2020-08-11T20:56:35.002070Z",
     "iopub.status.idle": "2020-08-11T20:56:35.108303Z",
     "shell.execute_reply": "2020-08-11T20:56:35.107264Z"
    }
   },
   "outputs": [
    {
     "data": {
      "text/html": [
       "<span style=\"white-space:pre; font-family: monospace\">B'a'g\n",
       "</span>"
      ]
     },
     "execution_count": 126,
     "metadata": {},
     "output_type": "execute_result"
    }
   ],
   "source": [
    "'B''a''g'"
   ]
  },
  {
   "cell_type": "markdown",
   "metadata": {},
   "source": [
    "APL interprets the doubled quotes as apostrophes, which yields `B'a'g`. This is not a sequence of $3$ scalars, but a $5$-item vector:\n",
    "\n",
    "#### 6.2.2\n",
    "\n",
    "When `MixVec` is displayed (see above), the three letters `Bag` are joined together, like the letters in any vector of characters.\n",
    "\n",
    "This presentation might be confused with an array of $7$ items, whose $6^\\text{th}$ item is the vector `'Bag'`. That would be a *Nested Array*. We will soon learn how to investigate the structure of an array.\n",
    "\n",
    "#### 6.2.3\n",
    "\n",
    "This confusing disappears in `MixMat`. Because the items of the matrix must be aligned in columns, \"B\" is placed under $44$, \"a\" under $87$, and \"g' under \"K\". Here you can easily see that the three letters `Bag` are really three independent scalars.\n",
    "\n",
    "#### 6.2.4\n",
    "\n",
    "A ***Mixed*** array is made up only of simple scalars (numbers or characters); **it is not** a *Nested Array*.\n",
    "\n",
    "### 6.3 Nested Arrays\n",
    "\n",
    "An array is said to be ***Generalised*** or ***Nested*** when one or more of its items are not *simple* scalars, but are scalars which contain other arrays. The latter may be simple arrays of any shape or rank (vectors, matrices, arrays), or they may themselves be *Nested arrays*.\n",
    "\n",
    "A nested array can be created in a number of ways; we shall begin with the simplest one, known as ***Vector notation***, or ***Strand notation***. Here is how it works:\n",
    "\n",
    "The items of an array are just juxtaposed side by side, and each can be identified as an item because it is:\n",
    "\n",
    " - either separated from its neighbours by **blanks**\n",
    " - or embedded within **quotes**\n",
    " - or an expression embedded within **parentheses**\n",
    " - or a **variable name**\n",
    " \n",
    "Just to demonstrate how it works, let us create a nested vector and a nested matrix."
   ]
  },
  {
   "cell_type": "code",
   "execution_count": 127,
   "metadata": {
    "execution": {
     "iopub.execute_input": "2020-08-11T20:56:35.110282Z",
     "iopub.status.busy": "2020-08-11T20:56:35.110282Z",
     "iopub.status.idle": "2020-08-11T20:56:35.330846Z",
     "shell.execute_reply": "2020-08-11T20:56:35.328839Z"
    }
   },
   "outputs": [],
   "source": [
    "One ← 2 2 ⍴ 8 6 2 4        ⍝ Create two simple arrays,\n",
    "Two ← 'Hello'              ⍝ which will be used below"
   ]
  },
  {
   "cell_type": "code",
   "execution_count": 128,
   "metadata": {
    "execution": {
     "iopub.execute_input": "2020-08-11T20:56:35.341798Z",
     "iopub.status.busy": "2020-08-11T20:56:35.338821Z",
     "iopub.status.idle": "2020-08-11T20:56:35.546784Z",
     "shell.execute_reply": "2020-08-11T20:56:35.547782Z"
    }
   },
   "outputs": [
    {
     "data": {
      "text/html": [
       "<span style=\"white-space:pre; font-family: monospace\">8\n",
       "</span>"
      ]
     },
     "execution_count": 128,
     "metadata": {},
     "output_type": "execute_result"
    }
   ],
   "source": [
    "NesVec ← 87 24 'John' 51 (78 45 23) 95 One 69\n",
    "⍴NesVec        ⍝ We have juxtaposed 8 items"
   ]
  },
  {
   "cell_type": "code",
   "execution_count": 129,
   "metadata": {
    "execution": {
     "iopub.execute_input": "2020-08-11T20:56:35.549382Z",
     "iopub.status.busy": "2020-08-11T20:56:35.549382Z",
     "iopub.status.idle": "2020-08-11T20:56:35.665917Z",
     "shell.execute_reply": "2020-08-11T20:56:35.663886Z"
    }
   },
   "outputs": [
    {
     "data": {
      "text/html": [
       "<span style=\"white-space:pre; font-family: monospace\">┌──┬──┬────┬──┬────────┬──┬───┬──┐\n",
       "│87│24│John│51│78 45 23│95│8 6│69│\n",
       "│  │  │    │  │        │  │2 4│  │\n",
       "└──┴──┴────┴──┴────────┴──┴───┴──┘\n",
       "</span>"
      ]
     },
     "execution_count": 129,
     "metadata": {},
     "output_type": "execute_result"
    }
   ],
   "source": [
    "NesVec"
   ]
  },
  {
   "cell_type": "markdown",
   "metadata": {},
   "source": [
    "The Jupyter notebook puts boxes around the items of the vector to make it easier to interpret the result. If the expression above were to be ran in the Dyalog interpreter session, the result would be\n",
    "\n",
    "```\n",
    "87 24  John  51  78 45 23  95  8 6  69\n",
    "                               2 4    \n",
    "```\n",
    "\n",
    "which is a bit difficult to read.\n",
    "\n",
    "And now, a matrix!"
   ]
  },
  {
   "cell_type": "code",
   "execution_count": 130,
   "metadata": {
    "execution": {
     "iopub.execute_input": "2020-08-11T20:56:35.669860Z",
     "iopub.status.busy": "2020-08-11T20:56:35.669860Z",
     "iopub.status.idle": "2020-08-11T20:56:35.882138Z",
     "shell.execute_reply": "2020-08-11T20:56:35.882138Z"
    }
   },
   "outputs": [
    {
     "data": {
      "text/html": [
       "<span style=\"white-space:pre; font-family: monospace\">2 3\n",
       "</span>"
      ]
     },
     "execution_count": 130,
     "metadata": {},
     "output_type": "execute_result"
    }
   ],
   "source": [
    "NesMat ← 2 3 ⍴ 'Dyalog' 44 Two 27 One (2 3⍴1 2 0 0 0 5)\n",
    "⍴NesMat"
   ]
  },
  {
   "cell_type": "code",
   "execution_count": 131,
   "metadata": {
    "execution": {
     "iopub.execute_input": "2020-08-11T20:56:35.885117Z",
     "iopub.status.busy": "2020-08-11T20:56:35.884127Z",
     "iopub.status.idle": "2020-08-11T20:56:36.002615Z",
     "shell.execute_reply": "2020-08-11T20:56:35.999622Z"
    }
   },
   "outputs": [
    {
     "data": {
      "text/html": [
       "<span style=\"white-space:pre; font-family: monospace\">┌──────┬───┬─────┐\n",
       "│Dyalog│44 │Hello│\n",
       "├──────┼───┼─────┤\n",
       "│27    │8 6│1 2 0│\n",
       "│      │2 4│0 0 5│\n",
       "└──────┴───┴─────┘\n",
       "</span>"
      ]
     },
     "execution_count": 131,
     "metadata": {},
     "output_type": "execute_result"
    }
   ],
   "source": [
    "NesMat"
   ]
  },
  {
   "cell_type": "markdown",
   "metadata": {},
   "source": [
    "Again, the notebook boxes the items of the matrix so we have an easier time interpreting the result. In the interpreter session the output would be\n",
    "\n",
    "```\n",
    " Dyalog   44  Hello \n",
    "     27  8 6  1 2 0 \n",
    "         2 4  0 0 5 \n",
    "```\n",
    "\n",
    "To obtain this kind of boxed presentation in the interpreter session, execute the following command (remember: a command begins by a closing parenthesis):"
   ]
  },
  {
   "cell_type": "code",
   "execution_count": 132,
   "metadata": {
    "execution": {
     "iopub.execute_input": "2020-08-11T20:56:36.012543Z",
     "iopub.status.busy": "2020-08-11T20:56:36.010556Z",
     "iopub.status.idle": "2020-08-11T20:56:36.120118Z",
     "shell.execute_reply": "2020-08-11T20:56:36.121116Z"
    }
   },
   "outputs": [
    {
     "data": {
      "text/html": [
       "<span style=\"white-space:pre; font-family: monospace\">C:\\Program Files\\Dyalog\\Dyalog APL-64 18.0 Unicode\\ws\\Util.dws saved Wed Jul 15 20:03:40 2020\n",
       "</span>"
      ]
     },
     "execution_count": 132,
     "metadata": {},
     "output_type": "execute_result"
    }
   ],
   "source": [
    ")Copy Util DISP"
   ]
  },
  {
   "cell_type": "markdown",
   "metadata": {},
   "source": [
    "Then execute:"
   ]
  },
  {
   "cell_type": "code",
   "execution_count": 133,
   "metadata": {
    "execution": {
     "iopub.execute_input": "2020-08-11T20:56:36.124108Z",
     "iopub.status.busy": "2020-08-11T20:56:36.123110Z",
     "iopub.status.idle": "2020-08-11T20:56:36.239971Z",
     "shell.execute_reply": "2020-08-11T20:56:36.237958Z"
    }
   },
   "outputs": [
    {
     "data": {
      "text/html": [
       "<span style=\"white-space:pre; font-family: monospace\">┌──────┬───┬─────┐\n",
       "│Dyalog│44 │Hello│\n",
       "├──────┼───┼─────┤\n",
       "│  27  │8 6│1 2 0│\n",
       "│      │2 4│0 0 5│\n",
       "└──────┴───┴─────┘\n",
       "</span>"
      ]
     },
     "execution_count": 133,
     "metadata": {},
     "output_type": "execute_result"
    }
   ],
   "source": [
    "DISP NesMat"
   ]
  },
  {
   "cell_type": "markdown",
   "metadata": {},
   "source": [
    "If you want this kind of boxing to be permanent, you can go to your session and type"
   ]
  },
  {
   "cell_type": "code",
   "execution_count": 134,
   "metadata": {
    "execution": {
     "iopub.execute_input": "2020-08-11T20:56:36.242938Z",
     "iopub.status.busy": "2020-08-11T20:56:36.241948Z",
     "iopub.status.idle": "2020-08-11T20:56:36.380324Z",
     "shell.execute_reply": "2020-08-11T20:56:36.378328Z"
    }
   },
   "outputs": [
    {
     "data": {
      "text/html": [
       "<span style=\"white-space:pre; font-family: monospace\">Was ON\n",
       "</span>"
      ]
     },
     "execution_count": 134,
     "metadata": {},
     "output_type": "execute_result"
    }
   ],
   "source": [
    "]box ON"
   ]
  },
  {
   "cell_type": "markdown",
   "metadata": {},
   "source": [
    "which, on your interpreter session, should actually print `Was OFF`, meaning that automatic boxing of nested arrays was OFF and *now* is ON. Because Jupyter notebooks have this option ON by default, typing `]box ON` tells the option was already ON.\n",
    "\n",
    "For demonstration purposes, we will turn the automatic boxing OFF to compare the results of viewing `NesMat` without having to use the `DISP` function:"
   ]
  },
  {
   "cell_type": "code",
   "execution_count": 135,
   "metadata": {
    "execution": {
     "iopub.execute_input": "2020-08-11T20:56:36.389299Z",
     "iopub.status.busy": "2020-08-11T20:56:36.387305Z",
     "iopub.status.idle": "2020-08-11T20:56:36.497523Z",
     "shell.execute_reply": "2020-08-11T20:56:36.497523Z"
    }
   },
   "outputs": [
    {
     "data": {
      "text/html": [
       "<span style=\"white-space:pre; font-family: monospace\">┌──────┬───┬─────┐\n",
       "│Dyalog│44 │Hello│\n",
       "├──────┼───┼─────┤\n",
       "│27    │8 6│1 2 0│\n",
       "│      │2 4│0 0 5│\n",
       "└──────┴───┴─────┘\n",
       "</span>"
      ]
     },
     "execution_count": 135,
     "metadata": {},
     "output_type": "execute_result"
    }
   ],
   "source": [
    "NesMat"
   ]
  },
  {
   "cell_type": "code",
   "execution_count": 136,
   "metadata": {
    "execution": {
     "iopub.execute_input": "2020-08-11T20:56:36.501514Z",
     "iopub.status.busy": "2020-08-11T20:56:36.500515Z",
     "iopub.status.idle": "2020-08-11T20:56:36.631587Z",
     "shell.execute_reply": "2020-08-11T20:56:36.630591Z"
    }
   },
   "outputs": [
    {
     "data": {
      "text/html": [
       "<span style=\"white-space:pre; font-family: monospace\">Was ON\n",
       "</span>"
      ]
     },
     "execution_count": 136,
     "metadata": {},
     "output_type": "execute_result"
    }
   ],
   "source": [
    "]box OFF"
   ]
  },
  {
   "cell_type": "code",
   "execution_count": 137,
   "metadata": {
    "execution": {
     "iopub.execute_input": "2020-08-11T20:56:36.641514Z",
     "iopub.status.busy": "2020-08-11T20:56:36.639520Z",
     "iopub.status.idle": "2020-08-11T20:56:36.756855Z",
     "shell.execute_reply": "2020-08-11T20:56:36.754870Z"
    }
   },
   "outputs": [
    {
     "data": {
      "text/html": [
       "<span style=\"white-space:pre; font-family: monospace\"> Dyalog   44  Hello \n",
       "     27  8 6  1 2 0 \n",
       "         2 4  0 0 5 \n",
       "</span>"
      ]
     },
     "execution_count": 137,
     "metadata": {},
     "output_type": "execute_result"
    }
   ],
   "source": [
    "NesMat"
   ]
  },
  {
   "cell_type": "code",
   "execution_count": 138,
   "metadata": {
    "execution": {
     "iopub.execute_input": "2020-08-11T20:56:36.767785Z",
     "iopub.status.busy": "2020-08-11T20:56:36.765786Z",
     "iopub.status.idle": "2020-08-11T20:56:36.883910Z",
     "shell.execute_reply": "2020-08-11T20:56:36.881914Z"
    },
    "scrolled": true
   },
   "outputs": [
    {
     "data": {
      "text/html": [
       "<span style=\"white-space:pre; font-family: monospace\">┌──────┬───┬─────┐\n",
       "│Dyalog│44 │Hello│\n",
       "├──────┼───┼─────┤\n",
       "│  27  │8 6│1 2 0│\n",
       "│      │2 4│0 0 5│\n",
       "└──────┴───┴─────┘\n",
       "</span>"
      ]
     },
     "execution_count": 138,
     "metadata": {},
     "output_type": "execute_result"
    }
   ],
   "source": [
    "DISP NesMat"
   ]
  },
  {
   "cell_type": "markdown",
   "metadata": {},
   "source": [
    "You probably remember the mixed vector `MixVec`, which contained $3$ adjacent scalars, \"B\", \"a\", and \"g\". Let us compare the **unboxed** display of `MixVec` with a $7$ item nested vector, whose $6^\\text{th}$ item contains the word \"Bag\":"
   ]
  },
  {
   "cell_type": "code",
   "execution_count": 139,
   "metadata": {
    "execution": {
     "iopub.execute_input": "2020-08-11T20:56:36.894880Z",
     "iopub.status.busy": "2020-08-11T20:56:36.892886Z",
     "iopub.status.idle": "2020-08-11T20:56:37.110727Z",
     "shell.execute_reply": "2020-08-11T20:56:37.108748Z"
    }
   },
   "outputs": [
    {
     "data": {
      "text/html": [
       "<span style=\"white-space:pre; font-family: monospace\">44 87 K 12 29  Bag  46.3\n",
       "</span>"
      ]
     },
     "execution_count": 139,
     "metadata": {},
     "output_type": "execute_result"
    }
   ],
   "source": [
    "44 87 'K' 12 29 'Bag' 46.3    ⍝ Let us enter the nested array\n",
    "                              ⍝ It is displayed like this"
   ]
  },
  {
   "cell_type": "code",
   "execution_count": 140,
   "metadata": {
    "execution": {
     "iopub.execute_input": "2020-08-11T20:56:37.121659Z",
     "iopub.status.busy": "2020-08-11T20:56:37.119664Z",
     "iopub.status.idle": "2020-08-11T20:56:37.338392Z",
     "shell.execute_reply": "2020-08-11T20:56:37.336394Z"
    }
   },
   "outputs": [
    {
     "data": {
      "text/html": [
       "<span style=\"white-space:pre; font-family: monospace\">44 87 K 12 29 Bag 46.3\n",
       "</span>"
      ]
     },
     "execution_count": 140,
     "metadata": {},
     "output_type": "execute_result"
    }
   ],
   "source": [
    "MixVec                        ⍝ Then let's look at MixVec\n",
    "                              ⍝ It is displayed like this"
   ]
  },
  {
   "cell_type": "markdown",
   "metadata": {},
   "source": [
    "If you look closely you will have observed that in the nested array the sub-vector `Bag` is separated from its neighbours not by a single space, but by two spaces: this should alert an experienced APLer that it is a nested array.\n",
    "\n",
    "However, this difference is so small that the APL community, all over the world, uses a utility program, named `DISPLAY`, to draw boxes around arrays (nested or not), to make things clear. Let us examine it in the next section.\n",
    "\n",
    "Notice that because `MixVec` is **not** nested it has no boxes around its items.\n",
    "\n",
    "### 6.4 DISPLAY\n",
    "\n",
    "`DISPLAY` is provided with Dyalog APL in a library workspace which itself is named DISPLAY. Because this library is by default on the *Workspace Search Path* of APL, you can easily add the DISPLAY function to your active workspace by typing the command:"
   ]
  },
  {
   "cell_type": "code",
   "execution_count": 141,
   "metadata": {
    "execution": {
     "iopub.execute_input": "2020-08-11T20:56:37.342370Z",
     "iopub.status.busy": "2020-08-11T20:56:37.341372Z",
     "iopub.status.idle": "2020-08-11T20:56:37.550372Z",
     "shell.execute_reply": "2020-08-11T20:56:37.551370Z"
    }
   },
   "outputs": [
    {
     "data": {
      "text/html": [
       "<span style=\"white-space:pre; font-family: monospace\">C:\\Program Files\\Dyalog\\Dyalog APL-64 18.0 Unicode\\ws\\display.dws saved Wed Jul 15 20:03:16 2020\n",
       "</span>"
      ]
     },
     "execution_count": 141,
     "metadata": {},
     "output_type": "execute_result"
    }
   ],
   "source": [
    ")copy display        ⍝ This copies the entire workspace, but it\n",
    "                     ⍝ contains only one single function: DISPLAY."
   ]
  },
  {
   "cell_type": "markdown",
   "metadata": {},
   "source": [
    "As you can see, applied to a simple scalar, `DISPLAY` already produces slight differences:"
   ]
  },
  {
   "cell_type": "code",
   "execution_count": 142,
   "metadata": {
    "execution": {
     "iopub.execute_input": "2020-08-11T20:56:37.553365Z",
     "iopub.status.busy": "2020-08-11T20:56:37.553365Z",
     "iopub.status.idle": "2020-08-11T20:56:37.657676Z",
     "shell.execute_reply": "2020-08-11T20:56:37.658674Z"
    }
   },
   "outputs": [
    {
     "data": {
      "text/html": [
       "<span style=\"white-space:pre; font-family: monospace\">37\n",
       "</span>"
      ]
     },
     "execution_count": 142,
     "metadata": {},
     "output_type": "execute_result"
    }
   ],
   "source": [
    "37"
   ]
  },
  {
   "cell_type": "code",
   "execution_count": 143,
   "metadata": {
    "execution": {
     "iopub.execute_input": "2020-08-11T20:56:37.660686Z",
     "iopub.status.busy": "2020-08-11T20:56:37.660686Z",
     "iopub.status.idle": "2020-08-11T20:56:37.765892Z",
     "shell.execute_reply": "2020-08-11T20:56:37.766889Z"
    }
   },
   "outputs": [
    {
     "data": {
      "text/html": [
       "<span style=\"white-space:pre; font-family: monospace\">  \n",
       "37\n",
       "\n",
       "</span>"
      ]
     },
     "execution_count": 143,
     "metadata": {},
     "output_type": "execute_result"
    }
   ],
   "source": [
    "DISPLAY 37"
   ]
  },
  {
   "cell_type": "code",
   "execution_count": 144,
   "metadata": {
    "execution": {
     "iopub.execute_input": "2020-08-11T20:56:37.769881Z",
     "iopub.status.busy": "2020-08-11T20:56:37.768884Z",
     "iopub.status.idle": "2020-08-11T20:56:37.873290Z",
     "shell.execute_reply": "2020-08-11T20:56:37.874328Z"
    }
   },
   "outputs": [
    {
     "data": {
      "text/html": [
       "<span style=\"white-space:pre; font-family: monospace\">K\n",
       "</span>"
      ]
     },
     "execution_count": 144,
     "metadata": {},
     "output_type": "execute_result"
    }
   ],
   "source": [
    "'K'"
   ]
  },
  {
   "cell_type": "code",
   "execution_count": 145,
   "metadata": {
    "execution": {
     "iopub.execute_input": "2020-08-11T20:56:37.876283Z",
     "iopub.status.busy": "2020-08-11T20:56:37.876283Z",
     "iopub.status.idle": "2020-08-11T20:56:37.979873Z",
     "shell.execute_reply": "2020-08-11T20:56:37.980913Z"
    }
   },
   "outputs": [
    {
     "data": {
      "text/html": [
       "<span style=\"white-space:pre; font-family: monospace\"> \n",
       "K\n",
       "-\n",
       "</span>"
      ]
     },
     "execution_count": 145,
     "metadata": {},
     "output_type": "execute_result"
    }
   ],
   "source": [
    "DISPLAY 'K'"
   ]
  },
  {
   "cell_type": "markdown",
   "metadata": {},
   "source": [
    "We see that the display results are centered in a $3$-row area; for numerical simple scalars the top and bottom rows are empty, which creates the white region around the `37` you can see above. For character simple scalars, the bottom row underlines the character and the top row is left empty.\n",
    "\n",
    "However, applied to a vector, `DISPLAY` will provide more information:"
   ]
  },
  {
   "cell_type": "code",
   "execution_count": 146,
   "metadata": {
    "execution": {
     "iopub.execute_input": "2020-08-11T20:56:37.982865Z",
     "iopub.status.busy": "2020-08-11T20:56:37.982865Z",
     "iopub.status.idle": "2020-08-11T20:56:38.196077Z",
     "shell.execute_reply": "2020-08-11T20:56:38.196077Z"
    }
   },
   "outputs": [
    {
     "data": {
      "text/html": [
       "<span style=\"white-space:pre; font-family: monospace\">┌→───────┐\n",
       "│54 73 19│\n",
       "└~───────┘\n",
       "</span>"
      ]
     },
     "execution_count": 146,
     "metadata": {},
     "output_type": "execute_result"
    }
   ],
   "source": [
    "DISPLAY 54 73 19        ⍝ The default presentation uses line-drawing\n",
    "                        ⍝ characters to draw the box."
   ]
  },
  {
   "cell_type": "code",
   "execution_count": 147,
   "metadata": {
    "execution": {
     "iopub.execute_input": "2020-08-11T20:56:38.199070Z",
     "iopub.status.busy": "2020-08-11T20:56:38.198088Z",
     "iopub.status.idle": "2020-08-11T20:56:38.417848Z",
     "shell.execute_reply": "2020-08-11T20:56:38.419838Z"
    }
   },
   "outputs": [
    {
     "data": {
      "text/html": [
       "<span style=\"white-space:pre; font-family: monospace\">.→-------.\n",
       "|54 73 19|\n",
       "'~-------'\n",
       "</span>"
      ]
     },
     "execution_count": 147,
     "metadata": {},
     "output_type": "execute_result"
    }
   ],
   "source": [
    "0 DISPLAY 54 73 19      ⍝ With the optional left argument set to 0, the\n",
    "                        ⍝ function uses standard characters."
   ]
  },
  {
   "cell_type": "markdown",
   "metadata": {},
   "source": [
    "The second, rougher, form of presentation is provided for use in circumstances where the line-drawing symbols in the APL font are not displayed or printed as intended. This will depend upon your version of the Operating System and on the display and printer drivers you are using.\n",
    "\n",
    "#### 6.4.1 - Conventions\n",
    "\n",
    "The upper-left corner of the box provides information about the **shape** of the displayed value:\n",
    "\n",
    " - a single horizontal arrow for a vector:\n",
    "\n",
    " - two (or more) arrows for a matrix or higher rank arrays:\n",
    "\n",
    " - no arrow at all for scalars containing nested values, a concept we haven't seen up to now\n",
    " \n",
    "The bottom-left corner of the box provided information about the **contents** of the array:\n",
    "\n",
    " - `~` means that the array contains only numeric values:\n",
    "\n",
    " - `_` (which actually goes unnoticed) means that the array contains only characters:\n",
    "\n",
    " - `+` is used for mixed arrays:\n",
    "\n",
    " - `∊` means that the array contains other arrays: it is a nested array:\n",
    "\n",
    "#### 6.4.2 - Examples"
   ]
  },
  {
   "cell_type": "code",
   "execution_count": 148,
   "metadata": {
    "execution": {
     "iopub.execute_input": "2020-08-11T20:56:38.429897Z",
     "iopub.status.busy": "2020-08-11T20:56:38.427948Z",
     "iopub.status.idle": "2020-08-11T20:56:38.537912Z",
     "shell.execute_reply": "2020-08-11T20:56:38.536915Z"
    }
   },
   "outputs": [
    {
     "data": {
      "text/html": [
       "<span style=\"white-space:pre; font-family: monospace\">┌→───────┐\n",
       "│78 45 12│\n",
       "└~───────┘\n",
       "</span>"
      ]
     },
     "execution_count": 148,
     "metadata": {},
     "output_type": "execute_result"
    }
   ],
   "source": [
    "DISPLAY 78 45 12        ⍝ Display a plain numeric (~) vector (→)"
   ]
  },
  {
   "cell_type": "code",
   "execution_count": 149,
   "metadata": {
    "execution": {
     "iopub.execute_input": "2020-08-11T20:56:38.539891Z",
     "iopub.status.busy": "2020-08-11T20:56:38.539891Z",
     "iopub.status.idle": "2020-08-11T20:56:38.759659Z",
     "shell.execute_reply": "2020-08-11T20:56:38.758652Z"
    }
   },
   "outputs": [
    {
     "data": {
      "text/html": [
       "<span style=\"white-space:pre; font-family: monospace\">┌→───────┐\n",
       "↓78 45 12│\n",
       "└~───────┘\n",
       "</span>"
      ]
     },
     "execution_count": 149,
     "metadata": {},
     "output_type": "execute_result"
    }
   ],
   "source": [
    "DISPLAY 1 3 ⍴ 78 45 12  ⍝ With its two arrows, this matrix cannot be\n",
    "                        ⍝ confused with the vector show above."
   ]
  },
  {
   "cell_type": "code",
   "execution_count": 150,
   "metadata": {
    "execution": {
     "iopub.execute_input": "2020-08-11T20:56:38.762636Z",
     "iopub.status.busy": "2020-08-11T20:56:38.761596Z",
     "iopub.status.idle": "2020-08-11T20:56:38.974596Z",
     "shell.execute_reply": "2020-08-11T20:56:38.974596Z"
    }
   },
   "outputs": [
    {
     "data": {
      "text/html": [
       "<span style=\"white-space:pre; font-family: monospace\">┌→─────┐\n",
       "↓Sunny │\n",
       "│Summer│\n",
       "└──────┘\n",
       "</span>"
      ]
     },
     "execution_count": 150,
     "metadata": {},
     "output_type": "execute_result"
    }
   ],
   "source": [
    "DISPLAY 2 6 ⍴ 'Sunny Summer'  ⍝ The bottom-left corner is a straigh line\n",
    "                              ⍝ because the array contains only text."
   ]
  },
  {
   "cell_type": "code",
   "execution_count": 151,
   "metadata": {
    "execution": {
     "iopub.execute_input": "2020-08-11T20:56:38.976614Z",
     "iopub.status.busy": "2020-08-11T20:56:38.976614Z",
     "iopub.status.idle": "2020-08-11T20:56:39.508733Z",
     "shell.execute_reply": "2020-08-11T20:56:39.506739Z"
    }
   },
   "outputs": [
    {
     "data": {
      "text/html": [
       "<span style=\"white-space:pre; font-family: monospace\">┌┌→───────┐\n",
       "↓↓26 22 21│\n",
       "││43 47 30│\n",
       "││        │\n",
       "││44 58 17│\n",
       "││29 23 53│\n",
       "└└~───────┘\n",
       "</span>"
      ]
     },
     "execution_count": 151,
     "metadata": {},
     "output_type": "execute_result"
    }
   ],
   "source": [
    "DISPLAY Prod[1 2;;1 3 5]      ⍝ This array is of rank 3. So, 3 arrows\n",
    "                              ⍝ are used to represent it (1 horizontal\n",
    "                              ⍝ and 2 vertical arrows).\n",
    "                              ⍝ The bottom-left corner is ~ because the\n",
    "                              ⍝ array contains only numbers."
   ]
  },
  {
   "cell_type": "markdown",
   "metadata": {},
   "source": [
    "Mixed arrays are sometimes more complex to understand."
   ]
  },
  {
   "cell_type": "code",
   "execution_count": 152,
   "metadata": {
    "execution": {
     "iopub.execute_input": "2020-08-11T20:56:39.511677Z",
     "iopub.status.busy": "2020-08-11T20:56:39.511677Z",
     "iopub.status.idle": "2020-08-11T20:56:39.728924Z",
     "shell.execute_reply": "2020-08-11T20:56:39.726928Z"
    }
   },
   "outputs": [
    {
     "data": {
      "text/html": [
       "<span style=\"white-space:pre; font-family: monospace\">┌→─────────────┐\n",
       "│54 G 61 U 7 19│\n",
       "└+─────────────┘\n",
       "</span>"
      ]
     },
     "execution_count": 152,
     "metadata": {},
     "output_type": "execute_result"
    }
   ],
   "source": [
    "DISPLAY 54 'G' 61 'U' 7 19    ⍝ The array is a mixed (+) vector (→), and\n",
    "                              ⍝ all its items can be easily identified."
   ]
  },
  {
   "cell_type": "markdown",
   "metadata": {},
   "source": [
    "But the following array is more complex:"
   ]
  },
  {
   "cell_type": "code",
   "execution_count": 153,
   "metadata": {
    "execution": {
     "iopub.execute_input": "2020-08-11T20:56:39.739850Z",
     "iopub.status.busy": "2020-08-11T20:56:39.736857Z",
     "iopub.status.idle": "2020-08-11T20:56:39.853583Z",
     "shell.execute_reply": "2020-08-11T20:56:39.855570Z"
    }
   },
   "outputs": [
    {
     "data": {
      "text/html": [
       "<span style=\"white-space:pre; font-family: monospace\">┌→─────────────┐\n",
       "│54 3 GU 7 3 19│\n",
       "└+─────────────┘\n",
       "</span>"
      ]
     },
     "execution_count": 153,
     "metadata": {},
     "output_type": "execute_result"
    }
   ],
   "source": [
    "DISPLAY 54 3 'G' 'U' 7 '3' 19"
   ]
  },
  {
   "cell_type": "markdown",
   "metadata": {},
   "source": [
    " - Note that in the example above it is impossible to distinguish between the numeric value `3` and the character value `'3'`. The `DISPLAY` function actually tries to help us by underlining all character values, but unfortunately this coincides with the bottom border of the box. When the array being displayed becomes more complex, you will see this underlining, as the next example shows.\n",
    " \n",
    " - The two adjacent scalars `'G'` and `'U'` are displayed side by side; a vector 'GU' would have given a nested array, with a different representation, as you can see below:"
   ]
  },
  {
   "cell_type": "code",
   "execution_count": 154,
   "metadata": {
    "execution": {
     "iopub.execute_input": "2020-08-11T20:56:39.865506Z",
     "iopub.status.busy": "2020-08-11T20:56:39.863510Z",
     "iopub.status.idle": "2020-08-11T20:56:39.981544Z",
     "shell.execute_reply": "2020-08-11T20:56:39.979534Z"
    }
   },
   "outputs": [
    {
     "data": {
      "text/html": [
       "<span style=\"white-space:pre; font-family: monospace\">┌→─────────────────┐\n",
       "│      ┌→─┐        │\n",
       "│ 54 3 │GU│ 7 3 19 │\n",
       "│      └──┘   -    │\n",
       "└∊─────────────────┘\n",
       "</span>"
      ]
     },
     "execution_count": 154,
     "metadata": {},
     "output_type": "execute_result"
    }
   ],
   "source": [
    "DISPLAY 54 3 'GU' 7 '3' 19"
   ]
  },
  {
   "cell_type": "markdown",
   "metadata": {},
   "source": [
    "Notice that, because one of the items of this array contains a vector, the array is \"nested\", hence the `∊` sign at the bottom-left corner. Now the underlining of `'3'` is visible, so it is easy to see that it is a character. Since `7` is not underlined it is a number.\n",
    "\n",
    "We shall discover more about `DISPLAY` when we study Nested arrays in detail (refer to I-1.3), but we can already use it to show the structure of the arrays that we have been working with. For example, our nested matrix `NesMat`:"
   ]
  },
  {
   "cell_type": "code",
   "execution_count": 155,
   "metadata": {
    "execution": {
     "iopub.execute_input": "2020-08-11T20:56:39.992465Z",
     "iopub.status.busy": "2020-08-11T20:56:39.989467Z",
     "iopub.status.idle": "2020-08-11T20:56:40.109586Z",
     "shell.execute_reply": "2020-08-11T20:56:40.107592Z"
    }
   },
   "outputs": [
    {
     "data": {
      "text/html": [
       "<span style=\"white-space:pre; font-family: monospace\">┌→───────────────────────┐\n",
       "↓ ┌→─────┐       ┌→────┐ │\n",
       "│ │Dyalog│ 44    │Hello│ │\n",
       "│ └──────┘       └─────┘ │\n",
       "│          ┌→──┐ ┌→────┐ │\n",
       "│ 27       ↓8 6│ ↓1 2 0│ │\n",
       "│          │2 4│ │0 0 5│ │\n",
       "│          └~──┘ └~────┘ │\n",
       "└∊───────────────────────┘\n",
       "</span>"
      ]
     },
     "execution_count": 155,
     "metadata": {},
     "output_type": "execute_result"
    }
   ],
   "source": [
    "DISPLAY NesMat"
   ]
  },
  {
   "cell_type": "markdown",
   "metadata": {},
   "source": [
    "You can see that all the sub-arrays contained in `NesMat` are individually represented with the same conventions, making the interpretation easy.\n",
    "\n",
    "### 6.5 Be Simple!\n",
    "\n",
    "Up to now, the nested arrays we have met contained only \"simple\" items (scalars, vectors, matrices). Here is a completely weird matrix, which itself contains a small nested array made of the first two columns of `NesMat`:"
   ]
  },
  {
   "cell_type": "code",
   "execution_count": 156,
   "metadata": {
    "execution": {
     "iopub.execute_input": "2020-08-11T20:56:40.117563Z",
     "iopub.status.busy": "2020-08-11T20:56:40.116566Z",
     "iopub.status.idle": "2020-08-11T20:56:40.334577Z",
     "shell.execute_reply": "2020-08-11T20:56:40.333561Z"
    }
   },
   "outputs": [
    {
     "data": {
      "text/html": [
       "<span style=\"white-space:pre; font-family: monospace\">   456   Dyalog   44  \n",
       "             27  8 6  \n",
       "                 2 4  \n",
       " 17 51  Twisted       \n",
       "</span>"
      ]
     },
     "execution_count": 156,
     "metadata": {},
     "output_type": "execute_result"
    }
   ],
   "source": [
    "Weird ← 2 2 ⍴ 456 (NesMat[;1 2]) (17 51) 'Twisted'\n",
    "Weird            ⍝ The default presentation is difficult to interpret!"
   ]
  },
  {
   "cell_type": "code",
   "execution_count": 157,
   "metadata": {
    "execution": {
     "iopub.execute_input": "2020-08-11T20:56:40.340548Z",
     "iopub.status.busy": "2020-08-11T20:56:40.338551Z",
     "iopub.status.idle": "2020-08-11T20:56:40.457165Z",
     "shell.execute_reply": "2020-08-11T20:56:40.456110Z"
    }
   },
   "outputs": [
    {
     "data": {
      "text/html": [
       "<span style=\"white-space:pre; font-family: monospace\">┌→───────────────────────────┐\n",
       "↓         ┌→───────────────┐ │\n",
       "│ 456     ↓ ┌→─────┐       │ │\n",
       "│         │ │Dyalog│ 44    │ │\n",
       "│         │ └──────┘       │ │\n",
       "│         │          ┌→──┐ │ │\n",
       "│         │ 27       ↓8 6│ │ │\n",
       "│         │          │2 4│ │ │\n",
       "│         │          └~──┘ │ │\n",
       "│         └∊───────────────┘ │\n",
       "│ ┌→────┐ ┌→──────┐          │\n",
       "│ │17 51│ │Twisted│          │\n",
       "│ └~────┘ └───────┘          │\n",
       "└∊───────────────────────────┘\n",
       "</span>"
      ]
     },
     "execution_count": 157,
     "metadata": {},
     "output_type": "execute_result"
    }
   ],
   "source": [
    "DISPLAY Weird    ⍝ Let us use DISPLAY to make things clearer!"
   ]
  },
  {
   "cell_type": "markdown",
   "metadata": {},
   "source": [
    "###### Remark\n",
    "\n",
    "Of course, even if APL **can** handle arrays as unusual as the one above, it is **not advisable** to build such arrays! Most nested arrays have a clear and straightforward structure.\n",
    "\n",
    "Remember: in Section 4.2 we had a list of month names to store, and we had the choice between a matrix and a vector of vectors, that is to say a nested vector."
   ]
  },
  {
   "cell_type": "code",
   "execution_count": 158,
   "metadata": {
    "execution": {
     "iopub.execute_input": "2020-08-11T20:56:40.459103Z",
     "iopub.status.busy": "2020-08-11T20:56:40.459103Z",
     "iopub.status.idle": "2020-08-11T20:56:40.564709Z",
     "shell.execute_reply": "2020-08-11T20:56:40.565748Z"
    }
   },
   "outputs": [
    {
     "data": {
      "text/html": [
       "<span style=\"white-space:pre; font-family: monospace\"> January  February  March  April  May  June \n",
       "</span>"
      ]
     },
     "execution_count": 158,
     "metadata": {},
     "output_type": "execute_result"
    }
   ],
   "source": [
    "MonVec"
   ]
  },
  {
   "cell_type": "markdown",
   "metadata": {},
   "source": [
    "Because its contents are homogeneous (made up only of vectors), this array has a simple structure that is clear and easy to interpret. `DISPLAY` shows it like this:"
   ]
  },
  {
   "cell_type": "code",
   "execution_count": 159,
   "metadata": {
    "execution": {
     "iopub.execute_input": "2020-08-11T20:56:40.567700Z",
     "iopub.status.busy": "2020-08-11T20:56:40.567700Z",
     "iopub.status.idle": "2020-08-11T20:56:40.674605Z",
     "shell.execute_reply": "2020-08-11T20:56:40.674605Z"
    }
   },
   "outputs": [
    {
     "data": {
      "text/html": [
       "<span style=\"white-space:pre; font-family: monospace\">┌→──────────────────────────────────────────────────┐\n",
       "│ ┌→──────┐ ┌→───────┐ ┌→────┐ ┌→────┐ ┌→──┐ ┌→───┐ │\n",
       "│ │January│ │February│ │March│ │April│ │May│ │June│ │\n",
       "│ └───────┘ └────────┘ └─────┘ └─────┘ └───┘ └────┘ │\n",
       "└∊──────────────────────────────────────────────────┘\n",
       "</span>"
      ]
     },
     "execution_count": 159,
     "metadata": {},
     "output_type": "execute_result"
    }
   ],
   "source": [
    "DISPLAY MonVec"
   ]
  },
  {
   "cell_type": "markdown",
   "metadata": {},
   "source": [
    "Imagine now that we want to store the ages of the children of $5$ families; we could enter them like this:"
   ]
  },
  {
   "cell_type": "code",
   "execution_count": 160,
   "metadata": {
    "execution": {
     "iopub.execute_input": "2020-08-11T20:56:40.677551Z",
     "iopub.status.busy": "2020-08-11T20:56:40.676554Z",
     "iopub.status.idle": "2020-08-11T20:56:40.884137Z",
     "shell.execute_reply": "2020-08-11T20:56:40.884137Z"
    }
   },
   "outputs": [
    {
     "data": {
      "text/html": [
       "<span style=\"white-space:pre; font-family: monospace\"> 6 2  35 33 26 21  7 7  3  19 14 \n",
       "</span>"
      ]
     },
     "execution_count": 160,
     "metadata": {},
     "output_type": "execute_result"
    }
   ],
   "source": [
    "Children ← (6 2) (35 33 26 21) (7 7) 3 (19 14)\n",
    "Children"
   ]
  },
  {
   "cell_type": "code",
   "execution_count": 161,
   "metadata": {
    "execution": {
     "iopub.execute_input": "2020-08-11T20:56:40.887128Z",
     "iopub.status.busy": "2020-08-11T20:56:40.886132Z",
     "iopub.status.idle": "2020-08-11T20:56:40.993844Z",
     "shell.execute_reply": "2020-08-11T20:56:40.993844Z"
    }
   },
   "outputs": [
    {
     "data": {
      "text/html": [
       "<span style=\"white-space:pre; font-family: monospace\">┌→────────────────────────────────────┐\n",
       "│ ┌→──┐ ┌→──────────┐ ┌→──┐   ┌→────┐ │\n",
       "│ │6 2│ │35 33 26 21│ │7 7│ 3 │19 14│ │\n",
       "│ └~──┘ └~──────────┘ └~──┘   └~────┘ │\n",
       "└∊────────────────────────────────────┘\n",
       "</span>"
      ]
     },
     "execution_count": 161,
     "metadata": {},
     "output_type": "execute_result"
    }
   ],
   "source": [
    "DISPLAY Children"
   ]
  },
  {
   "cell_type": "markdown",
   "metadata": {},
   "source": [
    "This array is not homogeneous; it is made of vectors mixed with a scalar. However, its structure is simple, and consistent. Together with the previous example, it is a pertinent usage of nested arrays.\n",
    "\n",
    "### 6.6 That's *Not* All, Folks!\n",
    "\n",
    "In this section we have only described some basic things about nested arrays. APL provides a number of functions designed specifically to manipulate nested arrays, but it would be premature to introduce these now until we have fully explored all of the basic capabilities.\n",
    "\n",
    "Nevertheless, if you want to learn a bit more on the subject, just skip to Chapter I.\n",
    "\n",
    "## Empty Arrays\n",
    "\n",
    "An array is an ***empty array*** if the length of one or more of its dimensions is zero. Hence, it is possible to meet many different kinds of empty arrays: vectors, matrices, arrays of any rank or type."
   ]
  },
  {
   "cell_type": "code",
   "execution_count": 162,
   "metadata": {
    "execution": {
     "iopub.execute_input": "2020-08-11T20:56:40.996836Z",
     "iopub.status.busy": "2020-08-11T20:56:40.996836Z",
     "iopub.status.idle": "2020-08-11T20:56:41.100626Z",
     "shell.execute_reply": "2020-08-11T20:56:41.101621Z"
    },
    "scrolled": true
   },
   "outputs": [
    {
     "data": {
      "text/html": [
       "<span style=\"white-space:pre; font-family: monospace\">\n",
       "</span>"
      ]
     },
     "execution_count": 162,
     "metadata": {},
     "output_type": "execute_result"
    }
   ],
   "source": [
    "0⍴0        ⍝ empty numeric vector."
   ]
  },
  {
   "cell_type": "code",
   "execution_count": 163,
   "metadata": {
    "execution": {
     "iopub.execute_input": "2020-08-11T20:56:41.103619Z",
     "iopub.status.busy": "2020-08-11T20:56:41.103619Z",
     "iopub.status.idle": "2020-08-11T20:56:41.318118Z",
     "shell.execute_reply": "2020-08-11T20:56:41.319116Z"
    }
   },
   "outputs": [
    {
     "data": {
      "text/html": [
       "<span style=\"white-space:pre; font-family: monospace\">\n",
       "</span>"
      ]
     },
     "execution_count": 163,
     "metadata": {},
     "output_type": "execute_result"
    }
   ],
   "source": [
    "''         ⍝ empty character vector, because nothing was typed\n",
    "           ⍝ between the quotes."
   ]
  },
  {
   "cell_type": "code",
   "execution_count": 164,
   "metadata": {
    "execution": {
     "iopub.execute_input": "2020-08-11T20:56:41.323103Z",
     "iopub.status.busy": "2020-08-11T20:56:41.323103Z",
     "iopub.status.idle": "2020-08-11T20:56:41.544047Z",
     "shell.execute_reply": "2020-08-11T20:56:41.542053Z"
    }
   },
   "outputs": [
    {
     "data": {
      "text/html": [
       "<span style=\"white-space:pre; font-family: monospace\"> \n",
       "</span>"
      ]
     },
     "execution_count": 164,
     "metadata": {},
     "output_type": "execute_result"
    }
   ],
   "source": [
    "' '        ⍝ this is NOT an empty vector; we typed a blank character.\n",
    "           ⍝ Though invisible, it is a character just like \"B\" or \"Z\"."
   ]
  },
  {
   "cell_type": "code",
   "execution_count": 165,
   "metadata": {
    "execution": {
     "iopub.execute_input": "2020-08-11T20:56:41.554020Z",
     "iopub.status.busy": "2020-08-11T20:56:41.553023Z",
     "iopub.status.idle": "2020-08-11T20:56:41.761414Z",
     "shell.execute_reply": "2020-08-11T20:56:41.761414Z"
    }
   },
   "outputs": [],
   "source": [
    "0 3⍴''     ⍝ empty character matrix with 0 rows,\n",
    "           ⍝ but nevertheless 3 columns."
   ]
  },
  {
   "cell_type": "code",
   "execution_count": 166,
   "metadata": {
    "execution": {
     "iopub.execute_input": "2020-08-11T20:56:41.764371Z",
     "iopub.status.busy": "2020-08-11T20:56:41.764371Z",
     "iopub.status.idle": "2020-08-11T20:56:41.982021Z",
     "shell.execute_reply": "2020-08-11T20:56:41.984004Z"
    }
   },
   "outputs": [
    {
     "data": {
      "text/html": [
       "<span style=\"white-space:pre; font-family: monospace\">\n",
       "\n",
       "\n",
       "\n",
       "\n",
       "</span>"
      ]
     },
     "execution_count": 166,
     "metadata": {},
     "output_type": "execute_result"
    }
   ],
   "source": [
    "5 0⍴0      ⍝ empty numeric matrix with no columns,\n",
    "           ⍝ but nevertheless 5 rows."
   ]
  },
  {
   "cell_type": "code",
   "execution_count": 167,
   "metadata": {
    "execution": {
     "iopub.execute_input": "2020-08-11T20:56:41.987959Z",
     "iopub.status.busy": "2020-08-11T20:56:41.986948Z",
     "iopub.status.idle": "2020-08-11T20:56:42.098633Z",
     "shell.execute_reply": "2020-08-11T20:56:42.100627Z"
    }
   },
   "outputs": [
    {
     "data": {
      "text/html": [
       "<span style=\"white-space:pre; font-family: monospace\">             \n",
       "\n",
       "</span>"
      ]
     },
     "execution_count": 167,
     "metadata": {},
     "output_type": "execute_result"
    }
   ],
   "source": [
    "3 0 7⍴0    ⍝ empty numeric array of rank 3."
   ]
  },
  {
   "cell_type": "markdown",
   "metadata": {},
   "source": [
    "There are many ways to create empty arrays, as we shall discover in the following chapters.\n",
    "\n",
    "We shall see later that empty arrays, which you may find surprising, are extremely useful in solving a large number of business problems. In fact, they are often used as the starting point (initial value) for variables that will grow by the iterative addition of new items.\n",
    "\n",
    "The empty numeric vector is probably the most frequently used of all empty arrays. For that reason, a special symbol has been designed to represent it: `⍬` (entered by pressing *Ctrl*+]).\n",
    "\n",
    "Because this symbol is made of a *Zero* with a *Tilde* on top of it, it is called ***Zilde***.\n",
    "\n",
    "Let us conclude this topic with a rather comforting statement:"
   ]
  },
  {
   "cell_type": "code",
   "execution_count": 168,
   "metadata": {
    "execution": {
     "iopub.execute_input": "2020-08-11T20:56:42.109646Z",
     "iopub.status.busy": "2020-08-11T20:56:42.107653Z",
     "iopub.status.idle": "2020-08-11T20:56:42.533655Z",
     "shell.execute_reply": "2020-08-11T20:56:42.533655Z"
    }
   },
   "outputs": [
    {
     "data": {
      "text/html": [
       "<span style=\"white-space:pre; font-family: monospace\">F\n",
       "</span>"
      ]
     },
     "execution_count": 168,
     "metadata": {},
     "output_type": "execute_result"
    }
   ],
   "source": [
    "Emptiness ← ⍬            ⍝ Let us start with an empty vector.\n",
    "Presence ← 'Friendly'    ⍝ Now, we create a text vector.\n",
    "Emptiness ⍴ Presence     ⍝ Give Presence the shape Emptiness\n",
    "                         ⍝ ... and it works!"
   ]
  },
  {
   "cell_type": "markdown",
   "metadata": {},
   "source": [
    "This proves that a Friendly Presence can fill up Emptiness! That's good! But can we explain it? Let's try...\n",
    "\n",
    "In the last expression, the *Reshape* function (`⍴`) returns an array with the shape specified in its left argument `Emptiness`.\n",
    "\n",
    "Since `Emptiness` is an empty vector (`⍬`) *Reshape* will return an array having an empty shape. Such an array is a scalar, so we know that the result of the expression will be a scalar.\n",
    "\n",
    "*Reshape* will also fill the scalar with a value, taken from the right argument `Presence`. `Presence` contains the character vector `'Friendly'`, but since we only need one item to fill a scalar, we can only use the `'F'`. The rest of the character vector `'Friendly'` is not used.\n",
    "\n",
    "In fact, the expression `⍬⍴Array` is widely used to return the first item of an array as a scalar, and in particular to convert a $1$-item vector into a scalar.\n",
    "\n",
    "###### Remark\n",
    "\n",
    "Though they both are invisible when displayed, a numeric empty vector (`⍬`) is different from a character empty vector (`''`).\n",
    "\n",
    "## 8 - Workspaces and Commands\n",
    "\n",
    "You have nearly finished this chapter and, naturally, you would like to save the variables you have created:\n",
    "\n",
    " - In the \"File\" menu, select \"Save\" or \"Save as\", and use the normal procedure for saving a file (highlighted in red below).\n",
    " - You can also click, in the toolbar, on the icon of a diskette (also highlighted in red below; who still knows what a diskette is?), which is equivalent, in APL, to \"Save as\".\n",
    " - There is also a built-in method in APL, which may be activated through a special SAVE command or function, as will be described later.\n",
    " \n",
    "![Image with the \"Save\" options highlighted in the interpreter toolbar'](res/Interpreter_Toolbar_Save.png)\n",
    " \n",
    "An explanation of how APL manages your data is given below.\n",
    "\n",
    "### 8.1 The Active Workspace\n",
    "\n",
    "When you start a working session with APL, you are allotted an empty portion of memory, which is called a ***Workspace***, or ***WS*** for short. This WS is called the ***Active WS***, because it is the area of memory in which you work. You gradually fill it with variables and functions<sup>2</sup> as you create them.\n",
    "\n",
    "<sup>2</sup><span style=\"font-size:80%\">In APL we try to design a computer *program*, not as a single monolithic procedure, but rather as a set of inter-connecting units known as *functions* (or *user-defined functions* to distinguish them from *primitive* or built-in functions). Each function is ideally small, self-contained, and performs a single specific task.</span>\n",
    "\n",
    "You can ask the system to give you the list of your variables and functions. To do that, you use a ***system command***: a special word which is recognised by the APL system because its first character is a ***closing parenthesis***: `)`. Some Swedish APLers call that a \"banana\".\n",
    "\n",
    "The names of system commands are not case sensitive; they can be typed in mixture of upper and lower-case characters.\n",
    "\n",
    "Let's obtain a list of our variable names, using the command `)vars`:"
   ]
  },
  {
   "cell_type": "code",
   "execution_count": 169,
   "metadata": {
    "execution": {
     "iopub.execute_input": "2020-08-11T20:56:42.539608Z",
     "iopub.status.busy": "2020-08-11T20:56:42.538608Z",
     "iopub.status.idle": "2020-08-11T20:56:42.755485Z",
     "shell.execute_reply": "2020-08-11T20:56:42.755485Z"
    }
   },
   "outputs": [
    {
     "data": {
      "text/html": [
       "<span style=\"white-space:pre; font-family: monospace\">AGE     Abstract        Actual  Ages    Alpha   Amount  BHSales Bernard Bignum  Blah    Boys    Bétise_à_Caimbrai       \n",
       "CSS1    Car     Categories      Chemistry       Children        Codes   Col_Tree        Colette Complex Contents        \n",
       "Coords  Copied  Cost    CounCodes       Countries       Currencies      Damned  Dept    Describe        Discount        \n",
       "Dummy   Emptiness       EvenPage        Exp     Floats  Fly⍙Airlines    For     Forecast        Friends G       G1      G2\n",
       "G3      G4      Gender  Girls   GridData        H       HCaps   Help    Hogwash Hote273 Hundred I4Qty   I4Ref   I6Long  \n",
       "I6Start I6Text  Inf     Integers        Inv     Invcur  Invest  J       John1   John1f  John1s  L1      L2      L3      L4\n",
       "Left    Letters Line    M       MLK     MN      MT      Magoo   Manum   Matex   Memo    MixMat  MixVec  MonMat  MonVec  \n",
       "Money   Movies  MyIndex MyPage  MyPage2 My_car_is_green Names   NesMat  NesVec  Now     Numbers Nums    OddPage One     \n",
       "Ours    PCodes  PG1     PGb     PGt     Pattern Percent PersoAxis       Phrase  Planning        Pool    Prefix  Presence\n",
       "Price   Prices  Prizes  Prod    Purchased       Qty     Rates   RawPS   Refs    Release Res     Results Right   \n",
       "Row_DeepData    Row_DeepTree    Row_Tree        S       SAL     Sailor  Salaries        Sales   Segs    Shape   Singleton\n",
       "Slices  Small   Sold    Status  StudCat StudExp StudRates       Subcon  Suffix  Swansea TM      Tabu    Tale    Tam     \n",
       "Tests   Tests2  Text    TheirAge        TheirChildren   TheirSalary     TheirStatus     Three   Tickets Title   Tome    \n",
       "Towns   Trailer Trix    Twelve  Two     V       Values  Vec     Vec3    Vec4    Vec5    Wanabuy Weird   What    Winners \n",
       "Words   X       XG1     XG10    XG2     XG4     XG7     XG8     XG9     Xal     Y       Years   Yop     ZID     ZSG     \n",
       "acme    angles  bmps    bookid  boxes   comic   demo    guy     homedir htm     htmparas        lx      mat     mm      \n",
       "oneofeach       pageref path    pg1     pg2     pgh     rtf     rtf2    rtfbad  rtfbullets      rtfdash rtfg    rtftabs \n",
       "rtftest str     text    towerchart      txt     var     zsg     ∆cmap   ∆seatrial       ∆x      \n",
       "</span>"
      ]
     },
     "execution_count": 169,
     "metadata": {},
     "output_type": "execute_result"
    }
   ],
   "source": [
    ")vars        ⍝ Most of these variables come from the auxiliary WS\n",
    "             ⍝ we loaded in the beginning of the notebook."
   ]
  },
  {
   "cell_type": "markdown",
   "metadata": {},
   "source": [
    "The variables are listed in alphabetic order, but beware, the lower-case alphabet is ordered before the upper-case one (Dyalog *Classic Edition*) or after (Dyalog *Unicode Edition*). This is the reason why both the variables `bmps` and `towerchart` are listed after `Contents`.\n",
    "\n",
    "If some of these variables are no longer useful, we can delete them with the following command, in which the variable (and function) names can be listed in any order:"
   ]
  },
  {
   "cell_type": "code",
   "execution_count": 170,
   "metadata": {
    "execution": {
     "iopub.execute_input": "2020-08-11T20:56:42.760444Z",
     "iopub.status.busy": "2020-08-11T20:56:42.759507Z",
     "iopub.status.idle": "2020-08-11T20:56:42.868100Z",
     "shell.execute_reply": "2020-08-11T20:56:42.868100Z"
    }
   },
   "outputs": [
    {
     "data": {
      "text/html": [
       "<span style=\"white-space:pre; font-family: monospace\">not found nesmat\n",
       "</span>"
      ]
     },
     "execution_count": 170,
     "metadata": {},
     "output_type": "execute_result"
    }
   ],
   "source": [
    ")erase Tests Contents nesmat towerchart"
   ]
  },
  {
   "cell_type": "markdown",
   "metadata": {},
   "source": [
    "We misspelled the name of one of our variables; the system erased the other ones, and gave us a warning. We can re-issue a command to erase the variable `NesMat`:"
   ]
  },
  {
   "cell_type": "code",
   "execution_count": 171,
   "metadata": {
    "execution": {
     "iopub.execute_input": "2020-08-11T20:56:42.873087Z",
     "iopub.status.busy": "2020-08-11T20:56:42.872088Z",
     "iopub.status.idle": "2020-08-11T20:56:42.977270Z",
     "shell.execute_reply": "2020-08-11T20:56:42.977270Z"
    }
   },
   "outputs": [],
   "source": [
    ")erase NesMat"
   ]
  },
  {
   "cell_type": "markdown",
   "metadata": {},
   "source": [
    "This example underlines the fact that although the command *name* (\"erase\") itself is not case sensitive, the names that it is instructed to work on are of course still case sensitive.\n",
    "\n",
    "If you had developed functions (programs), you could list them using the command `)fns` (pronounced \"funs\"):"
   ]
  },
  {
   "cell_type": "code",
   "execution_count": 172,
   "metadata": {
    "execution": {
     "iopub.execute_input": "2020-08-11T20:56:42.980248Z",
     "iopub.status.busy": "2020-08-11T20:56:42.980248Z",
     "iopub.status.idle": "2020-08-11T20:56:43.190069Z",
     "shell.execute_reply": "2020-08-11T20:56:43.190069Z"
    }
   },
   "outputs": [
    {
     "data": {
      "text/html": [
       "<span style=\"white-space:pre; font-family: monospace\">Absval1 Absval2 Against1        Against2        Against3        All     And     AutoMeasure     Average Bench   Between \n",
       "Booklet BorderedBlocks  Bot     BuildVars       CMDesign        CMDesign1       CMDesign2       CMReport        CMUse   \n",
       "CMUse1  CMUse2  CSVTest Calc1   Calc2   Caps    CarOwner        CarOwnerDist    CarOwnerWith    CarSales        \n",
       "CarSales_Init   CarSales_Read   CarSales_Store  Classify        Clear   Compare Contraction     Convert CroiBig Croiser \n",
       "CrossCount1     CrossCount2     CrossCount3     CrossCount4     Cut     D2H     DFact1  DFact2  DISP    DISPLAY DP      \n",
       "Deciles Decode  DemoCR  DemoHTM DirFun1 Disp    Dispatch        Divisors1       Divisors2       Endless Enlist  Equal   \n",
       "ExcelLoop       Excellence      Exchange        Expand  Fact    Flash1  Flash2  Flash3  Flash4  Flash5  Folder  Frame   \n",
       "Frame1  Frame2  Frame3  Frame4  Frame6  FrameG  Free    FricA   FricA∆  FricB   FricBGui        FricB∆  GUI1    GUI1_CB1\n",
       "GUI1_CB2        GUI2    GUI2_CB2        GUI3    GUI_Combo       GUI_FontDefine  GUI_Fonts       GUI_List        GUI_Menu\n",
       "GetContext      Greedy  Grid_Demo1      Grid_Demo2      Grid_Demo3      Growth  H2D     HTMSample       HTMTest HTMWrap \n",
       "Hammer  Hammer2 HorMat  Hypo    In1     In2     Includes        Indents Inmat   Interlace       Invec   John    Lengths \n",
       "Lister  Locked  LockedSurprise  LoopSum MainFunc        MaxPlace        Meanval MergeTest       Mess    Mid     Mirror1 \n",
       "Mirror2 NestedRes       Ombra   Only    Ontop   Ordered Outside Overlay PDFTest Paf     PageFit PageRef Palindrome      \n",
       "Plus    PlusNoRes       Process Prompt1 Prompt2 QuadRoot        RTFDemo RawGui  Refund  Report  Restore ReverBug        \n",
       "ReverLoop       Reverse RichText        Roll    Root    Round1  Round2  SalesRep        Scan4u  Search  Seatrial        \n",
       "SecureEdit      ShortWide       Show    Show1   Show2   Show3   Show4   Show5   Show6   ShowMsg ShowSel ShowVowels      \n",
       "ShyFun  SkipTest        Sorry   Spin    Split   StudRefund      Styles  SubFunc SubSum  SubTot1 SubTot2 SubTot3 Subtest \n",
       "Surface Surprise        Switch1 Switch2 Switch3 Switcher        Syra1   Syra2   Syracuse        Syracuse1       Syracuse2\n",
       "Syracuse3       TTest   TV      TVNew   TVShow  TVZap   TWrap   TableColours    TableDemo       TableIndents    TableStuff\n",
       "Test    TestCSV TestDraw        TestFonts       TestFrames      TestTabs        Testgrid        Time    Times   Timo5   To\n",
       "ToDistiller     TocTest Top     Totalise        Tox     Typeof  Upper   VerMat  View    Whiten  Willitwork1     \n",
       "Willitwork2     Willitwork3     XLSuite1        XLSuite2        XLSuite3        YSetFuns        YSetVars        Yopen   \n",
       "paf     rms     \n",
       "</span>"
      ]
     },
     "execution_count": 172,
     "metadata": {},
     "output_type": "execute_result"
    }
   ],
   "source": [
    ")fns        ⍝ All these functions come from the auxiliary WS\n",
    "            ⍝ we loaded in the beginning of the notebook."
   ]
  },
  {
   "cell_type": "markdown",
   "metadata": {},
   "source": [
    "###### Remark 1\n",
    "\n",
    "One can erase everything from the active workspace (all variables and all functions etc.) and revert to the original \"clear\" active workspace, by issuing the command"
   ]
  },
  {
   "cell_type": "code",
   "execution_count": 173,
   "metadata": {
    "execution": {
     "iopub.execute_input": "2020-08-11T20:56:43.193052Z",
     "iopub.status.busy": "2020-08-11T20:56:43.192055Z",
     "iopub.status.idle": "2020-08-11T20:56:43.382916Z",
     "shell.execute_reply": "2020-08-11T20:56:43.382916Z"
    }
   },
   "outputs": [
    {
     "data": {
      "text/html": [
       "<span style=\"white-space:pre; font-family: monospace\">clear ws\n",
       "</span>"
      ]
     },
     "execution_count": 173,
     "metadata": {},
     "output_type": "execute_result"
    }
   ],
   "source": [
    ")clear"
   ]
  },
  {
   "cell_type": "code",
   "execution_count": 174,
   "metadata": {
    "execution": {
     "iopub.execute_input": "2020-08-11T20:56:43.385908Z",
     "iopub.status.busy": "2020-08-11T20:56:43.384910Z",
     "iopub.status.idle": "2020-08-11T20:56:43.490661Z",
     "shell.execute_reply": "2020-08-11T20:56:43.489931Z"
    }
   },
   "outputs": [],
   "source": [
    ")vars        ⍝ All variables are gone."
   ]
  },
  {
   "cell_type": "code",
   "execution_count": 175,
   "metadata": {
    "execution": {
     "iopub.execute_input": "2020-08-11T20:56:43.493644Z",
     "iopub.status.busy": "2020-08-11T20:56:43.492649Z",
     "iopub.status.idle": "2020-08-11T20:56:43.598217Z",
     "shell.execute_reply": "2020-08-11T20:56:43.599234Z"
    }
   },
   "outputs": [],
   "source": [
    ")fns         ⍝ All functions are gone."
   ]
  },
  {
   "cell_type": "markdown",
   "metadata": {},
   "source": [
    "This is a bit brutal: all of the contents of the WS are deleted, and no warning message is issued to notify the user of the consequence before the execution of the command. You should avoid using this command, and instead use the \"Clear\" button on the interpreter toolbar (highlighted in red below), which asks for confirmation. It is safer.\n",
    "\n",
    "![Image with the \"Clear\" button highlighted in the interpreter toolbar'](res/Interpreter_Toolbar_Clear.png)\n",
    "\n",
    "###### Remark 2\n",
    "\n",
    "In many languages, programs must be stored (saved) independently, one after the other, and variables do not exist on their own: they live only during the execution of a program which creates, uses and destroys them.\n",
    "\n",
    "In APL, things are different:\n",
    "\n",
    " - Variables have an independent existence, outside of any program execution; you have seen that it is possible to create variables and manipulate them, at will, without writing any programs. This is similar to interpreter sessions of some other languages, like Python or MATLAB.\n",
    " \n",
    " - There may be a permanent interaction between programs and variables. Saving only any part of them would be nonsense: one must save the whole context; in other words, one must save the whole *active workspace*.\n",
    " \n",
    "This is what we shall discover now.\n",
    "\n",
    "### 8.2 The Libraries\n",
    "\n",
    "Like in most other software environments:\n",
    "\n",
    " - When you save a WS for the first time, you must give it a name.\n",
    " - Once it has been saved you need not re-specify its name when you re-save it.\n",
    " \n",
    "Furthermore, we advise you to not re-specify the name when you want to re-save your work, because, if you misspell it, your WS will be saved with the wrong name without you being aware of it.\n",
    "\n",
    "To save a WS, just issue the command `)save` followed, if this is the first time, by a file name. For example:"
   ]
  },
  {
   "cell_type": "code",
   "execution_count": 176,
   "metadata": {
    "execution": {
     "iopub.execute_input": "2020-08-11T20:56:43.602190Z",
     "iopub.status.busy": "2020-08-11T20:56:43.601194Z",
     "iopub.status.idle": "2020-08-11T20:56:43.706388Z",
     "shell.execute_reply": "2020-08-11T20:56:43.706388Z"
    }
   },
   "outputs": [
    {
     "data": {
      "text/html": [
       "<span style=\"white-space:pre; font-family: monospace\">Not saved, this ws is CLEAR WS. Use -force to overwrite\n",
       "</span>"
      ]
     },
     "execution_count": 176,
     "metadata": {},
     "output_type": "execute_result"
    }
   ],
   "source": [
    ")save MyPreciousWS"
   ]
  },
  {
   "cell_type": "markdown",
   "metadata": {},
   "source": [
    "A confirmation message appears, specifying where it has been saved, and the date and time of the operation.\n",
    "\n",
    "Of course, you can specify any path in your command, to save your WS wherever you like, but if you want to specify a full path, it is often more convenient to use the \"Save\" button in the toolbar, and browse through your folders.\n",
    "\n",
    "You can have dozens of workspaces saved in various folders, according to your needs; they represent your private library.\n",
    "\n",
    "You can also use public workspaces provided by Dyalog Ltd. as part of the APL system, workspaces downloaded from web sites, or workspaces provided by third-party developers.\n",
    "\n",
    "You can list your workspaces using the command `)lib`.\n",
    "\n",
    "Used alone, the command explores only the folders specified in your configuration parameters, which can be modified using the interpreter menu:\n",
    "\n",
    "<br />\n",
    "<center>\"Options\" > \"Configure...\" > \"Workspace\" > \"Workspace search path\"</center>\n",
    "<br />\n",
    "\n",
    "You can also specify explicitly in which folder the command should search:"
   ]
  },
  {
   "cell_type": "code",
   "execution_count": 177,
   "metadata": {
    "execution": {
     "iopub.execute_input": "2020-08-11T20:56:43.709336Z",
     "iopub.status.busy": "2020-08-11T20:56:43.708340Z",
     "iopub.status.idle": "2020-08-11T20:56:43.823944Z",
     "shell.execute_reply": "2020-08-11T20:56:43.822909Z"
    },
    "scrolled": true
   },
   "outputs": [
    {
     "data": {
      "text/html": [
       "<span style=\"white-space:pre; font-family: monospace\">DyalogTutor_EN.DWS      \n",
       "</span>"
      ]
     },
     "execution_count": 177,
     "metadata": {},
     "output_type": "execute_result"
    }
   ],
   "source": [
    ")lib res"
   ]
  },
  {
   "cell_type": "markdown",
   "metadata": {},
   "source": [
    "Only one workspace was found in the `res` folder.\n",
    "\n",
    "### 8.3 Load a WS\n",
    "\n",
    "Once a WS has been saved, it may be used again in various ways:\n",
    "\n",
    " - You can double-click on the WS name in the *Windows Explorer*\n",
    " - You can use the menu \"File\" > \"Open\"\n",
    " - You can click on the \"Open\" icon in the toolbar (highlighted in red below)\n",
    " - And you can issue the system command `)load`\n",
    " \n",
    "![An image with the \"load\" icon highlighted in red](res/Interpreter_Toolbar_Load.png)\n",
    "\n",
    "In all these cases, you will se the familiar file search box, in which you can browse to and select the workspace file you would like to open (or load).\n",
    "\n",
    "You can also use the `)load` command followed by a WS name:"
   ]
  },
  {
   "cell_type": "code",
   "execution_count": 178,
   "metadata": {
    "execution": {
     "iopub.execute_input": "2020-08-11T20:56:43.827261Z",
     "iopub.status.busy": "2020-08-11T20:56:43.827261Z",
     "iopub.status.idle": "2020-08-11T20:56:44.010666Z",
     "shell.execute_reply": "2020-08-11T20:56:44.008671Z"
    }
   },
   "outputs": [
    {
     "data": {
      "text/html": [
       "<span style=\"white-space:pre; font-family: monospace\">res/DyalogTutor_EN.dws saved Tue Aug 11 09:28:49 2020\n",
       "\n",
       "Welcome                                                                                           \n",
       "-------                                                                                           \n",
       "This Workspace contains most of the variables and functions used in the ENglish tutorial.         \n",
       "You can use and modify them at will for your own tests.                                           \n",
       "If you want to preserve and retrieve your modifications, save the                                 \n",
       "contents of the workspace before closing your session, by pressing                                \n",
       "the \"Save\" button, or using the \"Save as\" menu option.                                            \n",
       "If you do not want this message displayed again, type:                                            \n",
       "      lx←''                                                                                       \n",
       "... then save the workspace as indicated above.                                                   \n",
       "To know in which chapter an object is referenced, type:                                           \n",
       "      )ed Refs                                                                                    \n",
       "</span>"
      ]
     },
     "execution_count": 178,
     "metadata": {},
     "output_type": "execute_result"
    }
   ],
   "source": [
    ")load res/DyalogTutor_EN"
   ]
  },
  {
   "cell_type": "markdown",
   "metadata": {},
   "source": [
    "In this case APL will search for your workspace in the folders specified in your \"*Workspace Search Path*\" as explained above, unless you specify a full path name. If the path name includes blank characters, you **must** place the whole expression between double quotes, as in the first example below:"
   ]
  },
  {
   "cell_type": "code",
   "execution_count": 179,
   "metadata": {
    "execution": {
     "iopub.execute_input": "2020-08-11T20:56:44.018645Z",
     "iopub.status.busy": "2020-08-11T20:56:44.016650Z",
     "iopub.status.idle": "2020-08-11T20:56:44.230929Z",
     "shell.execute_reply": "2020-08-11T20:56:44.230929Z"
    }
   },
   "outputs": [
    {
     "data": {
      "text/html": [
       "<span style=\"white-space:pre; font-family: monospace\">ws not found\n",
       "</span>"
      ]
     },
     "execution_count": 179,
     "metadata": {},
     "output_type": "execute_result"
    },
    {
     "data": {
      "text/html": [
       "<span style=\"white-space:pre; font-family: monospace\">ws not found\n",
       "</span>"
      ]
     },
     "execution_count": 179,
     "metadata": {},
     "output_type": "execute_result"
    }
   ],
   "source": [
    ")load \"d:\\my documents\\sixteen tons\\coal\" ⍝ double quotes are mandatory.\n",
    ")load e:\\freezer\\mummies\\ramses2          ⍝ double quotes are not needed."
   ]
  },
  {
   "cell_type": "markdown",
   "metadata": {},
   "source": [
    "###### Remark 1\n",
    "\n",
    "When a WS is loaded, **it replaces the active WS in memory** and becomes the new active WS. If you have not saved the variables and functions you were working on, they are definitely lost! There is no warning message.\n",
    "\n",
    "You must be aware of this because in this respect, APL differs from most software environments, in which each new file you open is opened in a separate window.\n",
    "\n",
    "###### Remark 2\n",
    "\n",
    "When a WS is loaded, a confirmation message appears, like the following:\n",
    "\n",
    "```\n",
    "res/DyalogTutor_EN.dws saved Mon Aug 10 09:37:51 2020\n",
    "```\n",
    "\n",
    "which is the first line of output we got when we loaded the `DyalogTutor_EN` workspace. Note that the date and time reported is the date and time when the WS was last saved.\n",
    "\n",
    "### 8.4 File Extensions\n",
    "\n",
    "The default extension of an APL WS depends on the APL system you use. For Dyalog APL, the extension is `dws`, an acronym for Dyalog WorkSpace.\n",
    "\n",
    "This is only a default extension. When you save a WS, you can give it a different extension, like \"old\", \"std\" or \"dev\".\n",
    "\n",
    "If you do so, you must be aware that when you load a WS using the `)load` command, and omit the extension, the command will only search for files with a `dws` extension.\n",
    "\n",
    "Imagine that you have saved a WS under the name `weekly.old`. This WS will not be found if you just issue the command `)load weekly`. You must specify the extension: `)load weekly.old`.\n",
    "\n",
    "All these considerations are not mandatory knowledge, since you can navigate through the file search dialog box, or through Windows Explorer to find whichever file you need.\n",
    "\n",
    "### 8.5 Merge Workspaces\n",
    "\n",
    "Suppose that you would like to use some functions or variables stored in another WS that has previously been saved. You can import them into your active WS using the command `)copy`, followed by the name of the WS and then the names of the functions and variables you want to import.\n",
    "\n",
    "For example, imagine that you need `Screwdriver`, `Hammer` and `Saw`, all stored in a WS named `Toolbox`. You can issue the command"
   ]
  },
  {
   "cell_type": "code",
   "execution_count": 180,
   "metadata": {
    "execution": {
     "iopub.execute_input": "2020-08-11T20:56:44.233920Z",
     "iopub.status.busy": "2020-08-11T20:56:44.233920Z",
     "iopub.status.idle": "2020-08-11T20:56:44.348115Z",
     "shell.execute_reply": "2020-08-11T20:56:44.347118Z"
    }
   },
   "outputs": [
    {
     "data": {
      "text/html": [
       "<span style=\"white-space:pre; font-family: monospace\">ws not found.\n",
       "</span>"
      ]
     },
     "execution_count": 180,
     "metadata": {},
     "output_type": "execute_result"
    }
   ],
   "source": [
    ")copy Toolbox Screwdriver Hammer Saw"
   ]
  },
  {
   "cell_type": "markdown",
   "metadata": {},
   "source": [
    " - The WS name must be the first, and under Microsoft Windows it is not case sensitive.\n",
    " - The names of the functions and variables must follow, but beware, these are always case sensitive.\n",
    " \n",
    "If you specify only the workspace name, all its contents are imported. Be sure that all that stuff is really useful to you.\n",
    "\n",
    "When the copy is complete, a confirmation message is issued. Like the message issued by a `)load` command, it tells you when the WS was last saved.\n",
    "\n",
    "Of course, you can specify a path in the command; otherwise the WS is searched for in the *workspace search path* defined in your configuration. Once again, use double quotes if necessary:"
   ]
  },
  {
   "cell_type": "code",
   "execution_count": 181,
   "metadata": {
    "execution": {
     "iopub.execute_input": "2020-08-11T20:56:44.358048Z",
     "iopub.status.busy": "2020-08-11T20:56:44.356061Z",
     "iopub.status.idle": "2020-08-11T20:56:44.472908Z",
     "shell.execute_reply": "2020-08-11T20:56:44.470910Z"
    }
   },
   "outputs": [
    {
     "data": {
      "text/html": [
       "<span style=\"white-space:pre; font-family: monospace\">ws not found.\n",
       "</span>"
      ]
     },
     "execution_count": 181,
     "metadata": {},
     "output_type": "execute_result"
    }
   ],
   "source": [
    ")copy \"d:\\my documents\\recipes\\ratatouille\""
   ]
  },
  {
   "cell_type": "markdown",
   "metadata": {},
   "source": [
    "#### 8.5.1 - Protected Copy\n",
    "\n",
    "When you import the entire contents of another WS, there is a risk that it contains an object (variable or function) which has the same name, but not the same value, as an existing object in your active WS. If so, the imported object **replaces** the current one. Danger!\n",
    "\n",
    "You can avoid this by using the `)pcopy` command, with the P standing for \"Protected\". If there is a name conflict, the object in the active WS is not overwritten, and a message tells you which objects haven't been copied. Let's demonstrate this. First we clear our current WS to simulate a fresh start:"
   ]
  },
  {
   "cell_type": "code",
   "execution_count": 182,
   "metadata": {
    "execution": {
     "iopub.execute_input": "2020-08-11T20:56:44.480914Z",
     "iopub.status.busy": "2020-08-11T20:56:44.479885Z",
     "iopub.status.idle": "2020-08-11T20:56:44.678890Z",
     "shell.execute_reply": "2020-08-11T20:56:44.676850Z"
    }
   },
   "outputs": [
    {
     "data": {
      "text/html": [
       "<span style=\"white-space:pre; font-family: monospace\">clear ws\n",
       "</span>"
      ]
     },
     "execution_count": 182,
     "metadata": {},
     "output_type": "execute_result"
    }
   ],
   "source": [
    ")clear"
   ]
  },
  {
   "cell_type": "markdown",
   "metadata": {},
   "source": [
    "Now we define some variables that are useful for our calculations:"
   ]
  },
  {
   "cell_type": "code",
   "execution_count": 183,
   "metadata": {
    "execution": {
     "iopub.execute_input": "2020-08-11T20:56:44.684826Z",
     "iopub.status.busy": "2020-08-11T20:56:44.683831Z",
     "iopub.status.idle": "2020-08-11T20:56:44.898018Z",
     "shell.execute_reply": "2020-08-11T20:56:44.899015Z"
    }
   },
   "outputs": [
    {
     "data": {
      "text/html": [
       "<span style=\"white-space:pre; font-family: monospace\">4 5\n",
       "</span>"
      ]
     },
     "execution_count": 183,
     "metadata": {},
     "output_type": "execute_result"
    }
   ],
   "source": [
    "Prod ← 1 2    ⍝ A vector you define and use in your session.\n",
    "Prod + 3"
   ]
  },
  {
   "cell_type": "markdown",
   "metadata": {},
   "source": [
    "And now we import the contents of the auxiliary WS because we need it as well:"
   ]
  },
  {
   "cell_type": "code",
   "execution_count": 184,
   "metadata": {
    "execution": {
     "iopub.execute_input": "2020-08-11T20:56:44.906010Z",
     "iopub.status.busy": "2020-08-11T20:56:44.905013Z",
     "iopub.status.idle": "2020-08-11T20:56:45.055752Z",
     "shell.execute_reply": "2020-08-11T20:56:45.053752Z"
    }
   },
   "outputs": [
    {
     "data": {
      "text/html": [
       "<span style=\"white-space:pre; font-family: monospace\">res/DyalogTutor_EN.dws saved Tue Aug 11 09:28:49 2020\n",
       "not copied Prod\n",
       "</span>"
      ]
     },
     "execution_count": 184,
     "metadata": {},
     "output_type": "execute_result"
    }
   ],
   "source": [
    ")pcopy res/DyalogTutor_EN"
   ]
  },
  {
   "cell_type": "markdown",
   "metadata": {},
   "source": [
    "Notice how `Prod` was **not** copied from the auxiliary WS because we have defined our own `Prod` above.\n",
    "\n",
    "#### 8.5.2 - Intentionally Destructive Copy\n",
    "\n",
    "We saw that an imported object may overwrite an object in the active WS. This is sometimes useful!\n",
    "\n",
    "Imagine that you loaded the auxiliary WS:"
   ]
  },
  {
   "cell_type": "code",
   "execution_count": 185,
   "metadata": {
    "execution": {
     "iopub.execute_input": "2020-08-11T20:56:45.064730Z",
     "iopub.status.busy": "2020-08-11T20:56:45.062735Z",
     "iopub.status.idle": "2020-08-11T20:56:45.268164Z",
     "shell.execute_reply": "2020-08-11T20:56:45.266211Z"
    }
   },
   "outputs": [
    {
     "data": {
      "text/html": [
       "<span style=\"white-space:pre; font-family: monospace\">res/DyalogTutor_EN.dws saved Tue Aug 11 09:28:49 2020\n",
       "\n",
       "Welcome                                                                                           \n",
       "-------                                                                                           \n",
       "This Workspace contains most of the variables and functions used in the ENglish tutorial.         \n",
       "You can use and modify them at will for your own tests.                                           \n",
       "If you want to preserve and retrieve your modifications, save the                                 \n",
       "contents of the workspace before closing your session, by pressing                                \n",
       "the \"Save\" button, or using the \"Save as\" menu option.                                            \n",
       "If you do not want this message displayed again, type:                                            \n",
       "      lx←''                                                                                       \n",
       "... then save the workspace as indicated above.                                                   \n",
       "To know in which chapter an object is referenced, type:                                           \n",
       "      )ed Refs                                                                                    \n",
       "</span>"
      ]
     },
     "execution_count": 185,
     "metadata": {},
     "output_type": "execute_result"
    }
   ],
   "source": [
    ")load res/DyalogTutor_EN"
   ]
  },
  {
   "cell_type": "markdown",
   "metadata": {},
   "source": [
    "Then you spend some hours adding new functions and variables, changing things here and there, and suddenly, you discover that you made inappropriate changes to a function named `Average`.\n",
    "\n",
    "You can retrieve the original function, still present in the saved version of `DyalogTutor_EN`, with:"
   ]
  },
  {
   "cell_type": "code",
   "execution_count": 186,
   "metadata": {
    "execution": {
     "iopub.execute_input": "2020-08-11T20:56:45.275178Z",
     "iopub.status.busy": "2020-08-11T20:56:45.274178Z",
     "iopub.status.idle": "2020-08-11T20:56:45.396767Z",
     "shell.execute_reply": "2020-08-11T20:56:45.393757Z"
    }
   },
   "outputs": [
    {
     "data": {
      "text/html": [
       "<span style=\"white-space:pre; font-family: monospace\">res/DyalogTutor_EN.dws saved Tue Aug 11 09:28:49 2020\n",
       "</span>"
      ]
     },
     "execution_count": 186,
     "metadata": {},
     "output_type": "execute_result"
    }
   ],
   "source": [
    ")copy res/DyalogTutor_EN Average"
   ]
  },
  {
   "cell_type": "markdown",
   "metadata": {},
   "source": [
    "When imported, the original version of `Goof` will override the version you mistakenly altered. Your active workspace will be correct again, and you will be able to go on with your work (but don't forget to save it!).\n",
    "\n",
    "#### 8.5.3 - Evolution of Your Code\n",
    "\n",
    "Imagine that you have imported into your active WS a function named `Compute`, copied from a WS named `Utilities`. When you save your active WS, for example under the name `Budget`, the function `Compute` will be saved with it.\n",
    "\n",
    "But now, imagine that the original version of the function `Compute` contained in `Utilities` is modified, or enhanced; what happens? The copy saved with `Budget` is still the old version, and `Budget` may therefore be outdated.\n",
    "\n",
    "This is a reason why APL allows a dynamic copy of what you need from a known reference WS. This technique will be explained in Chapter L.\n",
    "\n",
    "#### 8.5.4 Active WS Identification\n",
    "\n",
    "You can obtain the name of your current WS by issuing the command:"
   ]
  },
  {
   "cell_type": "code",
   "execution_count": 187,
   "metadata": {
    "execution": {
     "iopub.execute_input": "2020-08-11T20:56:45.407721Z",
     "iopub.status.busy": "2020-08-11T20:56:45.404776Z",
     "iopub.status.idle": "2020-08-11T20:56:45.518389Z",
     "shell.execute_reply": "2020-08-11T20:56:45.519387Z"
    }
   },
   "outputs": [
    {
     "data": {
      "text/html": [
       "<span style=\"white-space:pre; font-family: monospace\">is res/DyalogTutor_EN.dws\n",
       "</span>"
      ]
     },
     "execution_count": 187,
     "metadata": {},
     "output_type": "execute_result"
    }
   ],
   "source": [
    ")wsid"
   ]
  },
  {
   "cell_type": "markdown",
   "metadata": {},
   "source": [
    "Do not be misled by the name that is reported: it just means that the contents of your active WS had initially been loaded from that WS, or have recently been saved under that name. But since it was loaded or saved, your current WS may have been modified, and may no longer be identical to the original copy stored in the library.\n",
    "\n",
    "In the same way, if you see instead the message `\"is CLEAR WS\"`, it does not mean that your WS is clear (empty; contains nothing), but that is has not been saved yet, and hence has no name.\n",
    "\n",
    "### 8.6 Exiting APL\n",
    "\n",
    "You can close an APL session using three traditional Windows methods, and two APL system commands:\n",
    "\n",
    " - You can click on the \"Close\" cross at the top-right corner of your APL window.\n",
    " - You can press *Alt*+F4.\n",
    " - You can activate the menu \"File\" > \"Exit\".\n",
    " - You can issue the system command `)off`.\n",
    " - You can issue the system command `)continue`.\n",
    " \n",
    "The first two methods will ask if you want to save your current session configuration, a so called *Continue WS* (this will be seen in Chapter L), and the log of everything that you did during the session. The next two methods will close APL without any question or warning, and will not save your configuration. The last one will save a *Continue WS* before exiting.\n",
    "\n",
    "In any case, always **remember to save your work** (if necessary) before you quit.\n",
    "\n",
    "### Contents of a WS\n",
    "\n",
    "Generally speaking, a workspace contains functions (programs) and variables which interact to constitute some useful application.\n",
    "\n",
    "The large memories of modern computers support bery big workspaces, and a single WS is generally enough to store even a very complex application, or several applications. However, it is good practice to store different applications in different workspaces: accounting, budget, customer care, etc... It is not recommended that you mix several applications in a single WS.\n",
    "\n",
    "However, if appropriate, it is possible for a function to dynamically load another workspace (without any intervention by the user), and activate a different or complementary application.\n",
    "\n",
    "For now, a unique WS should be sufficient to contain all your experiments.\n",
    "\n",
    "If several workspaces need to share a command set of utility programs, this can be accomplished by dynamically importing the utilities from a common source. This will be seen in Chapter L.\n",
    "\n",
    "### Our First System Commands\n",
    "\n",
    "Just to recapitulate, here is a little summary of the system commands we've just discovered. Many other commands will be studied in Chapter L. The following conventions are used in the table below:\n",
    "\n",
    " - The command names are writting using normal characters; the parameters are in *italics*;\n",
    " - Parameters withing {braces} are optional;\n",
    " - _names_ represents a list of variable or function names;\n",
    " - _wsname_ is the name of a WS.\n",
    "   - This name may contain a file extension, which is only necessary if it is different from \"dws\".\n",
    "   - This name may also be preceeded by an optional path. If the path is not specified, APL searches in all the directories referenced in \"Options\" > \"Configure...\" > \"Workspace\" > \"Workspace search path*.\n",
    " \n",
    "| Command | Usage |\n",
    "| :- | :- |\n",
    "| )vars | Lists the variables in the active workspace. |\n",
    "| )fns | Lists the user defined functions in the active workspace. |\n",
    "| )erase *names* | Deletes the named objects from the active workspace. |\n",
    "| )clear | Deletes everything and leaves the active workspace empty. |\n",
    "| )save | Saves the active workspace under its current name, or: opens the File Save dialog box if the WS has no name yet. |\n",
    "| )save *wsname* | Saves the active WS under the given path/name/extension. |\n",
    "| )lib | Gives the list of all workspaces in the *workspace search path*. |\n",
    "| )lib *path* | Gives the list of all workspaces in the specified path. |\n",
    "| )drop *wsname* | Deletes a saved WS from disk. |\n",
    "| )load | Opens the File Open dialog box, from which a workspace can be selected. It will replace the active WS. |\n",
    "| )load *wsname* | Replaces the contents of the active WS with the referenced WS. |\n",
    "| )copy *wsname* *names* | Imports the named items from the specified WS into the active WS, where they may overwrite objects identically named. |\n",
    "| )copy *wsname* | Imports all contents of the specified WS. |\n",
    "| )pcopy *wsname* {*names*} | Similar to `)copy`, but does not overwrite existing objects. |\n",
    "| )wsid | Displays the name of the current (active) WS. |\n",
    "| )off | Closes the APL session. |\n",
    "| )continue | Saves a *Continue WS* and closes the APL session. |\n",
    "\n",
    "## Exercises\n",
    "\n",
    "###### Warning\n",
    "\n",
    "*The following exercises are designed to train you, not the computer.*\n",
    "\n",
    "*For this reason, we suggest that you try to answer them on a sheet of paper, not on your computer. When you are sure of your answer, you can test it on the computer.*\n",
    "\n",
    "###### B-1\n",
    "\n",
    "Given a scalar `S`, can you transform it into a vector containing one single item? Or the opposite: can you transform a one-item vector `V` into a scalar?"
   ]
  },
  {
   "cell_type": "code",
   "execution_count": null,
   "metadata": {},
   "outputs": [],
   "source": []
  },
  {
   "cell_type": "markdown",
   "metadata": {},
   "source": [
    "###### B-2\n",
    "\n",
    "Define `X` so that this interactive session becomes possible:\n",
    "\n",
    "```apl\n",
    "      X\n",
    "2 15 8 3\n",
    "      ⍴X\n",
    "8\n",
    "```\n",
    "\n",
    "###### B-3\n",
    "\n",
    "Find the result of this expression: `'LE CHAT'[75 2 3 4 6 7]`. This amusing example was first given in \"*Informatique par telephone*\" of Philip S. Abrams and Gérard Lacourly, Editions Herman, Paris $1972$."
   ]
  },
  {
   "cell_type": "markdown",
   "metadata": {},
   "source": [
    "###### B-3\n",
    "\n",
    "Find the result of this expression: `'LE CHAT'[75 2 3 4 6 7]`. This amusing example was first given in \"*Informatique par telephone*\" of Philip S. Abrams and Gérard Lacourly, Editions Herman, Paris $1972$."
   ]
  },
  {
   "cell_type": "code",
   "execution_count": null,
   "metadata": {},
   "outputs": [],
   "source": []
  },
  {
   "cell_type": "markdown",
   "metadata": {},
   "source": [
    "###### B-4\n",
    "\n",
    "The variable `Tab` is created like this:"
   ]
  },
  {
   "cell_type": "code",
   "execution_count": 188,
   "metadata": {
    "execution": {
     "iopub.execute_input": "2020-08-11T20:56:45.524373Z",
     "iopub.status.busy": "2020-08-11T20:56:45.523376Z",
     "iopub.status.idle": "2020-08-11T20:56:45.633781Z",
     "shell.execute_reply": "2020-08-11T20:56:45.633781Z"
    }
   },
   "outputs": [],
   "source": [
    "Tab ← 2 5 ⍴ 9 1 4 3 6 7 4 3 8 2"
   ]
  },
  {
   "cell_type": "markdown",
   "metadata": {},
   "source": [
    "How could you replace the values `9 6 7 2` in this variable by `21 45 78 11` respectively?"
   ]
  },
  {
   "cell_type": "code",
   "execution_count": null,
   "metadata": {},
   "outputs": [],
   "source": []
  },
  {
   "cell_type": "markdown",
   "metadata": {},
   "source": [
    "###### B-5"
   ]
  },
  {
   "cell_type": "code",
   "execution_count": 189,
   "metadata": {
    "execution": {
     "iopub.execute_input": "2020-08-11T20:56:45.636767Z",
     "iopub.status.busy": "2020-08-11T20:56:45.636767Z",
     "iopub.status.idle": "2020-08-11T20:56:45.851158Z",
     "shell.execute_reply": "2020-08-11T20:56:45.850160Z"
    }
   },
   "outputs": [],
   "source": [
    "X ← 1 2 9 11 3 7 8\n",
    "X[3 5] ← X[4 1]"
   ]
  },
  {
   "cell_type": "markdown",
   "metadata": {},
   "source": [
    "What do you think is the new value of `X`? And what happens if you now execute:"
   ]
  },
  {
   "cell_type": "code",
   "execution_count": 190,
   "metadata": {
    "execution": {
     "iopub.execute_input": "2020-08-11T20:56:45.853149Z",
     "iopub.status.busy": "2020-08-11T20:56:45.853149Z",
     "iopub.status.idle": "2020-08-11T20:56:45.967833Z",
     "shell.execute_reply": "2020-08-11T20:56:45.965841Z"
    }
   },
   "outputs": [],
   "source": [
    "X[4 6] ← X[6 4]"
   ]
  },
  {
   "cell_type": "markdown",
   "metadata": {},
   "source": [
    "###### B-6\n",
    "\n",
    "A vector of $6$ items named `Mystery` is indexed like this:\n",
    "\n",
    "```apl\n",
    "      Mystery[3 1 6 5 2 4]\n",
    "8 11 3 9 2 15\n",
    "```\n",
    "\n",
    "What is the value of `Mystery`?\n",
    "\n",
    "###### B-7\n",
    "\n",
    "One creates a vector, and selects some items from it, as shown:\n",
    "\n",
    "```apl\n",
    "      Vec ← 33 19 27 11 74 47 10 50 66 14\n",
    "      Vec[FindMe]\n",
    "47 27 19 14 50 74\n",
    "```\n",
    "\n",
    "Could you guess the value of `FindMe`?\n",
    "\n",
    "###### B-8\n",
    "\n",
    "One creates a vector, and a set of indices:"
   ]
  },
  {
   "cell_type": "code",
   "execution_count": 191,
   "metadata": {
    "execution": {
     "iopub.execute_input": "2020-08-11T20:56:45.977806Z",
     "iopub.status.busy": "2020-08-11T20:56:45.975822Z",
     "iopub.status.idle": "2020-08-11T20:56:46.194712Z",
     "shell.execute_reply": "2020-08-11T20:56:46.193715Z"
    }
   },
   "outputs": [],
   "source": [
    "Source ← 10 4 13 3 9 0 7 6 2 13 8 1 5\n",
    "Set ← 3 3 ⍴ Source[2 4 8 5 12 13 7 4]"
   ]
  },
  {
   "cell_type": "markdown",
   "metadata": {},
   "source": [
    "Then one uses it to index the original vector:"
   ]
  },
  {
   "cell_type": "code",
   "execution_count": 192,
   "metadata": {
    "execution": {
     "iopub.execute_input": "2020-08-11T20:56:46.200694Z",
     "iopub.status.busy": "2020-08-11T20:56:46.199697Z",
     "iopub.status.idle": "2020-08-11T20:56:46.313465Z",
     "shell.execute_reply": "2020-08-11T20:56:46.311478Z"
    }
   },
   "outputs": [],
   "source": [
    "Result ← Source[Set]"
   ]
  },
  {
   "cell_type": "markdown",
   "metadata": {},
   "source": [
    "What is the shape of `Result`? Can you find its value?\n",
    "\n",
    "###### B-9\n",
    "\n",
    "Is there a difference between the following two vectors?"
   ]
  },
  {
   "cell_type": "code",
   "execution_count": 193,
   "metadata": {
    "execution": {
     "iopub.execute_input": "2020-08-11T20:56:46.323390Z",
     "iopub.status.busy": "2020-08-11T20:56:46.321396Z",
     "iopub.status.idle": "2020-08-11T20:56:46.530128Z",
     "shell.execute_reply": "2020-08-11T20:56:46.530128Z"
    }
   },
   "outputs": [],
   "source": [
    "V1 ← 'p' 'o' 't'\n",
    "V2 ← 'pot'"
   ]
  },
  {
   "cell_type": "markdown",
   "metadata": {},
   "source": [
    "###### B-10\n",
    "\n",
    "Is there a difference between the following two vectors?"
   ]
  },
  {
   "cell_type": "code",
   "execution_count": 194,
   "metadata": {
    "execution": {
     "iopub.execute_input": "2020-08-11T20:56:46.533120Z",
     "iopub.status.busy": "2020-08-11T20:56:46.532124Z",
     "iopub.status.idle": "2020-08-11T20:56:46.750458Z",
     "shell.execute_reply": "2020-08-11T20:56:46.749465Z"
    }
   },
   "outputs": [],
   "source": [
    "V3 ← 15 48 'Y' 'e' 's' 52\n",
    "V4 ← 15 48 'Yes' 52"
   ]
  },
  {
   "cell_type": "markdown",
   "metadata": {},
   "source": [
    "###### B-11\n",
    "\n",
    "Here is a very simple variable:"
   ]
  },
  {
   "cell_type": "code",
   "execution_count": 195,
   "metadata": {
    "execution": {
     "iopub.execute_input": "2020-08-11T20:56:46.759434Z",
     "iopub.status.busy": "2020-08-11T20:56:46.758436Z",
     "iopub.status.idle": "2020-08-11T20:56:46.865812Z",
     "shell.execute_reply": "2020-08-11T20:56:46.864780Z"
    }
   },
   "outputs": [],
   "source": [
    "Two ← 2"
   ]
  },
  {
   "cell_type": "markdown",
   "metadata": {},
   "source": [
    "We use it in the following expression:"
   ]
  },
  {
   "cell_type": "code",
   "execution_count": 196,
   "metadata": {
    "execution": {
     "iopub.execute_input": "2020-08-11T20:56:46.868817Z",
     "iopub.status.busy": "2020-08-11T20:56:46.867771Z",
     "iopub.status.idle": "2020-08-11T20:56:46.973160Z",
     "shell.execute_reply": "2020-08-11T20:56:46.973160Z"
    }
   },
   "outputs": [],
   "source": [
    "Foolish ← Two Two ⍴ 2 Two '⍴' 'Two'"
   ]
  },
  {
   "cell_type": "markdown",
   "metadata": {},
   "source": [
    "What is the shape of `Foolish`? Can you find its value?\n",
    "\n",
    "###### Solutions\n",
    "\n",
    "The solutions are given at the end of the book, in Chapter X.\n",
    "\n",
    "## The Specialist's Section\n",
    "\n",
    "<br />\n",
    "<center><i>Each chapter is followed by a \"Specialist's Section\" like this one. This section is dedicated to skilled APLers, who wish to improve their knowledge.</i>\n",
    "    \n",
    "You will find here rare or complex usages of the concepts presented in this chapter, or discover extended explanations which need the knowledge of some symbols that will be seen much further in the book.\n",
    "    \n",
    "<b>If you are exploring APL for the first time, skip this section and go to the next chapter.</b></center>\n",
    "\n",
    "### Spe-1 Variable Names\n",
    "\n",
    "Variable names must obey the rules shown in Section B-1.2.\n",
    "\n",
    "We have seen that you may use some special characters: Delta (`∆`), Underscore (`_`), and also the Underscored Delta (`⍙`). We do not recommend these symbols; they often make programs difficult to read.\n",
    "\n",
    "### Spe-2 Representation of Numbers\n",
    "\n",
    "Up to now, we have entered decimal numbers using the most common conventions, like $3714.12$ or $0.41$.\n",
    "\n",
    "It is also possible to employ other conventions to facilitate typing.\n",
    "\n",
    "When the magnitude of a decimal value is less than $1$ it is not necessary to enter a zero before the decimal point:"
   ]
  },
  {
   "cell_type": "code",
   "execution_count": 197,
   "metadata": {
    "execution": {
     "iopub.execute_input": "2020-08-11T20:56:46.977149Z",
     "iopub.status.busy": "2020-08-11T20:56:46.976152Z",
     "iopub.status.idle": "2020-08-11T20:56:47.082629Z",
     "shell.execute_reply": "2020-08-11T20:56:47.081600Z"
    }
   },
   "outputs": [
    {
     "data": {
      "text/html": [
       "<span style=\"white-space:pre; font-family: monospace\">0.413\n",
       "</span>"
      ]
     },
     "execution_count": 197,
     "metadata": {},
     "output_type": "execute_result"
    }
   ],
   "source": [
    ".413        ⍝ same as 0.413"
   ]
  },
  {
   "cell_type": "code",
   "execution_count": 198,
   "metadata": {
    "execution": {
     "iopub.execute_input": "2020-08-11T20:56:47.085588Z",
     "iopub.status.busy": "2020-08-11T20:56:47.085588Z",
     "iopub.status.idle": "2020-08-11T20:56:47.199986Z",
     "shell.execute_reply": "2020-08-11T20:56:47.201974Z"
    }
   },
   "outputs": [
    {
     "data": {
      "text/html": [
       "<span style=\"white-space:pre; font-family: monospace\">¯0.5119\n",
       "</span>"
      ]
     },
     "execution_count": 198,
     "metadata": {},
     "output_type": "execute_result"
    }
   ],
   "source": [
    "¯.5119      ⍝ same as ¯0.5119"
   ]
  },
  {
   "cell_type": "markdown",
   "metadata": {},
   "source": [
    "Very large and very small numbers can be entered using ***scientific*** (or ***exponential***) ***representation***.\n",
    "\n",
    "Using this convention, any \"extreme\" number can be represented by a \"normal\" number, the *mantissa*, multiplied by a power of $10$, the *exponent*.\n",
    "\n",
    "For example, $42781900$ could be represented as:\n",
    "\n",
    "$$\n",
    "\\begin{align}\n",
    "42781900 &= 4.27819 \\times 10^7 \\\\\n",
    "&= 427.819 \\times 10^5 \\\\\n",
    "&= 42781.9 \\times 10^4\n",
    "\\end{align}\n",
    "$$\n",
    "\n",
    "and $0.0000038421$ could be represented as:\n",
    "\n",
    "$$\n",
    "\\begin{align}\n",
    "0.0000038421 &= 384.21 \\times 10^{-8} \\\\\n",
    "&= 3.8421 \\times 10^{-6}\n",
    "\\end{align}\n",
    "$$\n",
    "\n",
    "In APL, the mantissa and the exponent are separated by the letter `E`.\n",
    "\n",
    "Using this notation, one can enter very large or very small numbers with ease.\n",
    "\n",
    "If the magnitude of the number is not too large nor too small, all its digits will be displayed:"
   ]
  },
  {
   "cell_type": "code",
   "execution_count": 199,
   "metadata": {
    "execution": {
     "iopub.execute_input": "2020-08-11T20:56:47.210959Z",
     "iopub.status.busy": "2020-08-11T20:56:47.209985Z",
     "iopub.status.idle": "2020-08-11T20:56:47.315090Z",
     "shell.execute_reply": "2020-08-11T20:56:47.316087Z"
    }
   },
   "outputs": [
    {
     "data": {
      "text/html": [
       "<span style=\"white-space:pre; font-family: monospace\">42781900\n",
       "</span>"
      ]
     },
     "execution_count": 199,
     "metadata": {},
     "output_type": "execute_result"
    }
   ],
   "source": [
    "4.27819E7"
   ]
  },
  {
   "cell_type": "code",
   "execution_count": 200,
   "metadata": {
    "execution": {
     "iopub.execute_input": "2020-08-11T20:56:47.321043Z",
     "iopub.status.busy": "2020-08-11T20:56:47.320086Z",
     "iopub.status.idle": "2020-08-11T20:56:47.435367Z",
     "shell.execute_reply": "2020-08-11T20:56:47.433370Z"
    }
   },
   "outputs": [
    {
     "data": {
      "text/html": [
       "<span style=\"white-space:pre; font-family: monospace\">42781900\n",
       "</span>"
      ]
     },
     "execution_count": 200,
     "metadata": {},
     "output_type": "execute_result"
    }
   ],
   "source": [
    "4278.19E4"
   ]
  },
  {
   "cell_type": "code",
   "execution_count": 201,
   "metadata": {
    "execution": {
     "iopub.execute_input": "2020-08-11T20:56:47.446325Z",
     "iopub.status.busy": "2020-08-11T20:56:47.443286Z",
     "iopub.status.idle": "2020-08-11T20:56:47.558843Z",
     "shell.execute_reply": "2020-08-11T20:56:47.556885Z"
    }
   },
   "outputs": [
    {
     "data": {
      "text/html": [
       "<span style=\"white-space:pre; font-family: monospace\">0.0000038421\n",
       "</span>"
      ]
     },
     "execution_count": 201,
     "metadata": {},
     "output_type": "execute_result"
    }
   ],
   "source": [
    "384.21E¯8"
   ]
  },
  {
   "cell_type": "code",
   "execution_count": 202,
   "metadata": {
    "execution": {
     "iopub.execute_input": "2020-08-11T20:56:47.568808Z",
     "iopub.status.busy": "2020-08-11T20:56:47.566814Z",
     "iopub.status.idle": "2020-08-11T20:56:47.683764Z",
     "shell.execute_reply": "2020-08-11T20:56:47.681767Z"
    }
   },
   "outputs": [
    {
     "data": {
      "text/html": [
       "<span style=\"white-space:pre; font-family: monospace\">0.0000038421\n",
       "</span>"
      ]
     },
     "execution_count": 202,
     "metadata": {},
     "output_type": "execute_result"
    }
   ],
   "source": [
    "3.8421E¯6"
   ]
  },
  {
   "cell_type": "markdown",
   "metadata": {},
   "source": [
    "But if the numbers are very large (or very small), and would require more digits to be shown than the maximum (defined by `⎕PP`, *Print Precision*) APL displays them with a \"normalised\" mantissa with only one integer digit, followed by the appropriate exponent:"
   ]
  },
  {
   "cell_type": "code",
   "execution_count": 203,
   "metadata": {
    "execution": {
     "iopub.execute_input": "2020-08-11T20:56:47.694788Z",
     "iopub.status.busy": "2020-08-11T20:56:47.691778Z",
     "iopub.status.idle": "2020-08-11T20:56:47.807871Z",
     "shell.execute_reply": "2020-08-11T20:56:47.805876Z"
    }
   },
   "outputs": [
    {
     "data": {
      "text/html": [
       "<span style=\"white-space:pre; font-family: monospace\">4.317658058E17\n",
       "</span>"
      ]
     },
     "execution_count": 203,
     "metadata": {},
     "output_type": "execute_result"
    }
   ],
   "source": [
    "431765805838751234"
   ]
  },
  {
   "cell_type": "code",
   "execution_count": 204,
   "metadata": {
    "execution": {
     "iopub.execute_input": "2020-08-11T20:56:47.812867Z",
     "iopub.status.busy": "2020-08-11T20:56:47.811871Z",
     "iopub.status.idle": "2020-08-11T20:56:47.926955Z",
     "shell.execute_reply": "2020-08-11T20:56:47.924005Z"
    }
   },
   "outputs": [
    {
     "data": {
      "text/html": [
       "<span style=\"white-space:pre; font-family: monospace\">5.6781234E23\n",
       "</span>"
      ]
     },
     "execution_count": 204,
     "metadata": {},
     "output_type": "execute_result"
    }
   ],
   "source": [
    "5678.1234E20"
   ]
  },
  {
   "cell_type": "code",
   "execution_count": 205,
   "metadata": {
    "execution": {
     "iopub.execute_input": "2020-08-11T20:56:47.936924Z",
     "iopub.status.busy": "2020-08-11T20:56:47.934977Z",
     "iopub.status.idle": "2020-08-11T20:56:48.042599Z",
     "shell.execute_reply": "2020-08-11T20:56:48.043642Z"
    }
   },
   "outputs": [
    {
     "data": {
      "text/html": [
       "<span style=\"white-space:pre; font-family: monospace\">1.2349876E¯12\n",
       "</span>"
      ]
     },
     "execution_count": 205,
     "metadata": {},
     "output_type": "execute_result"
    }
   ],
   "source": [
    "1234.9876E¯15"
   ]
  },
  {
   "cell_type": "code",
   "execution_count": 206,
   "metadata": {
    "execution": {
     "iopub.execute_input": "2020-08-11T20:56:48.045625Z",
     "iopub.status.busy": "2020-08-11T20:56:48.045625Z",
     "iopub.status.idle": "2020-08-11T20:56:48.153569Z",
     "shell.execute_reply": "2020-08-11T20:56:48.152572Z"
    }
   },
   "outputs": [
    {
     "data": {
      "text/html": [
       "<span style=\"white-space:pre; font-family: monospace\">¯2.4681357E¯10\n",
       "</span>"
      ]
     },
     "execution_count": 206,
     "metadata": {},
     "output_type": "execute_result"
    }
   ],
   "source": [
    "¯2468.1357E¯13"
   ]
  },
  {
   "cell_type": "markdown",
   "metadata": {},
   "source": [
    "### Spe-3 The Shape of the Result of Indexing\n",
    "\n",
    "#### Spe-3.1 - Rule\n",
    "\n",
    "Suppose you are given an array of any rank `Array`.\n",
    "\n",
    "The expression `Array[A; B; C; ...]` always gives a result with a shape equal to `(⍴A),(⍴B),(⍴C),...`.\n",
    "\n",
    "This rule makes it possible to always predict the shape of the result of an indexing operation.\n",
    "\n",
    "For example,"
   ]
  },
  {
   "cell_type": "code",
   "execution_count": 207,
   "metadata": {
    "execution": {
     "iopub.execute_input": "2020-08-11T20:56:48.157526Z",
     "iopub.status.busy": "2020-08-11T20:56:48.156533Z",
     "iopub.status.idle": "2020-08-11T20:56:48.265233Z",
     "shell.execute_reply": "2020-08-11T20:56:48.266188Z"
    }
   },
   "outputs": [
    {
     "data": {
      "text/html": [
       "<span style=\"white-space:pre; font-family: monospace\">29 19 53 47\n",
       "44 21 17 43\n",
       "\n",
       "24 35 22 35\n",
       "27 23 53 60\n",
       "\n",
       "56 55 38 27\n",
       "37 27 29 46\n",
       "</span>"
      ]
     },
     "execution_count": 207,
     "metadata": {},
     "output_type": "execute_result"
    }
   ],
   "source": [
    "Prod[2 5 3;2 1;1 2 5 6]    ⍝ Gives a result of shape 3 2 4"
   ]
  },
  {
   "cell_type": "code",
   "execution_count": 208,
   "metadata": {
    "execution": {
     "iopub.execute_input": "2020-08-11T20:56:48.269180Z",
     "iopub.status.busy": "2020-08-11T20:56:48.268183Z",
     "iopub.status.idle": "2020-08-11T20:56:48.385713Z",
     "shell.execute_reply": "2020-08-11T20:56:48.383761Z"
    }
   },
   "outputs": [
    {
     "data": {
      "text/html": [
       "<span style=\"white-space:pre; font-family: monospace\">43 36 47 49 30 22\n",
       "29 19 23 38 53 47\n",
       "56 55 25 47 38 27\n",
       "16 55 26 20 27 55\n",
       "24 35 61 26 22 35\n",
       "</span>"
      ]
     },
     "execution_count": 208,
     "metadata": {},
     "output_type": "execute_result"
    }
   ],
   "source": [
    "Prod[;2;⍳6]                ⍝ Gives a result of shape 5 6"
   ]
  },
  {
   "cell_type": "markdown",
   "metadata": {},
   "source": [
    "In the last example, the omitted index refers to the first dimension of `Prod` which is of length $5$.\n",
    "\n",
    "The second index ($2$) is a scalar, and has no dimension.\n",
    "\n",
    "That's why the shape of the result is $5\\ 6$ and not $5\\ 1\\ 6$.\n",
    "\n",
    "#### Spe-3.2 - Using Ravel to Preserve a Dimension\n",
    "\n",
    "In a program, a matrix is indexed like `Mat[Rows;Cols]`, for example"
   ]
  },
  {
   "cell_type": "code",
   "execution_count": 209,
   "metadata": {
    "execution": {
     "iopub.execute_input": "2020-08-11T20:56:48.396681Z",
     "iopub.status.busy": "2020-08-11T20:56:48.394687Z",
     "iopub.status.idle": "2020-08-11T20:56:48.822980Z",
     "shell.execute_reply": "2020-08-11T20:56:48.820977Z"
    }
   },
   "outputs": [
    {
     "data": {
      "text/html": [
       "<span style=\"white-space:pre; font-family: monospace\">100  80\n",
       "360 520\n",
       "</span>"
      ]
     },
     "execution_count": 209,
     "metadata": {},
     "output_type": "execute_result"
    }
   ],
   "source": [
    "Rows ← 1 2\n",
    "Cols ← 3 6\n",
    "Mini ← Forecast[Rows;Cols]\n",
    "Mini"
   ]
  },
  {
   "cell_type": "markdown",
   "metadata": {},
   "source": [
    "Generally, `Rows` may contain several row numbers, and `Cols` may contain several column numbers. Applying the preceding rule, it is easy to see that we'll obtain a sub-matrix `Mini`.\n",
    "\n",
    "But it may be that `Rows` or `Cols` are scalars. The result of `Mat[Rows;Cols]` would then not be a sub-matrix, but a scalar or a vector. This could lead to other expressions in your function generating an error or an incorrect result, because they were written expecting matrices."
   ]
  },
  {
   "cell_type": "code",
   "execution_count": 210,
   "metadata": {
    "execution": {
     "iopub.execute_input": "2020-08-11T20:56:48.826904Z",
     "iopub.status.busy": "2020-08-11T20:56:48.825907Z",
     "iopub.status.idle": "2020-08-11T20:56:49.137540Z",
     "shell.execute_reply": "2020-08-11T20:56:49.137540Z"
    }
   },
   "outputs": [
    {
     "data": {
      "text/html": [
       "<span style=\"white-space:pre; font-family: monospace\">100 80\n",
       "</span>"
      ]
     },
     "execution_count": 210,
     "metadata": {},
     "output_type": "execute_result"
    }
   ],
   "source": [
    "Rows ← 1\n",
    "Mini ← Forecast[Rows;Cols]\n",
    "Mini"
   ]
  },
  {
   "cell_type": "code",
   "execution_count": 211,
   "metadata": {
    "execution": {
     "iopub.execute_input": "2020-08-11T20:56:49.140526Z",
     "iopub.status.busy": "2020-08-11T20:56:49.139526Z",
     "iopub.status.idle": "2020-08-11T20:56:49.244524Z",
     "shell.execute_reply": "2020-08-11T20:56:49.245521Z"
    }
   },
   "outputs": [
    {
     "data": {
      "text/html": [
       "<span style=\"white-space:pre; font-family: monospace\">2\n",
       "</span>"
      ]
     },
     "execution_count": 211,
     "metadata": {},
     "output_type": "execute_result"
    }
   ],
   "source": [
    "⍴Mini        ⍝ Mini is a vector now"
   ]
  },
  {
   "cell_type": "code",
   "execution_count": 212,
   "metadata": {
    "execution": {
     "iopub.execute_input": "2020-08-11T20:56:49.248513Z",
     "iopub.status.busy": "2020-08-11T20:56:49.247515Z",
     "iopub.status.idle": "2020-08-11T20:56:49.574869Z",
     "shell.execute_reply": "2020-08-11T20:56:49.572832Z"
    }
   },
   "outputs": [
    {
     "data": {
      "text/html": [
       "<span style=\"white-space:pre; font-family: monospace\">80\n",
       "</span>"
      ]
     },
     "execution_count": 212,
     "metadata": {},
     "output_type": "execute_result"
    }
   ],
   "source": [
    "Cols ← 6\n",
    "Mini ← Forecast[Rows;Cols]\n",
    "Mini"
   ]
  },
  {
   "cell_type": "code",
   "execution_count": 213,
   "metadata": {
    "execution": {
     "iopub.execute_input": "2020-08-11T20:56:49.578806Z",
     "iopub.status.busy": "2020-08-11T20:56:49.577810Z",
     "iopub.status.idle": "2020-08-11T20:56:49.691434Z",
     "shell.execute_reply": "2020-08-11T20:56:49.689439Z"
    }
   },
   "outputs": [
    {
     "data": {
      "text/html": [
       "<span style=\"white-space:pre; font-family: monospace\">\n",
       "</span>"
      ]
     },
     "execution_count": 213,
     "metadata": {},
     "output_type": "execute_result"
    }
   ],
   "source": [
    "⍴Mini        ⍝ Mini is a scalar now"
   ]
  },
  {
   "cell_type": "markdown",
   "metadata": {},
   "source": [
    "To avoid this problem, you can force an index expression to be a vector (perhaps a vector containing only one item) by using ***Ravel*** (symbol \"`,`\") like this:"
   ]
  },
  {
   "cell_type": "code",
   "execution_count": 214,
   "metadata": {
    "execution": {
     "iopub.execute_input": "2020-08-11T20:56:49.693425Z",
     "iopub.status.busy": "2020-08-11T20:56:49.693425Z",
     "iopub.status.idle": "2020-08-11T20:56:49.906072Z",
     "shell.execute_reply": "2020-08-11T20:56:49.906072Z"
    }
   },
   "outputs": [
    {
     "data": {
      "text/html": [
       "<span style=\"white-space:pre; font-family: monospace\">80\n",
       "</span>"
      ]
     },
     "execution_count": 214,
     "metadata": {},
     "output_type": "execute_result"
    }
   ],
   "source": [
    "Mini ← Forecast[,Rows;,Cols]\n",
    "Mini"
   ]
  },
  {
   "cell_type": "code",
   "execution_count": 215,
   "metadata": {
    "execution": {
     "iopub.execute_input": "2020-08-11T20:56:49.909062Z",
     "iopub.status.busy": "2020-08-11T20:56:49.908065Z",
     "iopub.status.idle": "2020-08-11T20:56:50.016065Z",
     "shell.execute_reply": "2020-08-11T20:56:50.017061Z"
    }
   },
   "outputs": [
    {
     "data": {
      "text/html": [
       "<span style=\"white-space:pre; font-family: monospace\">1 1\n",
       "</span>"
      ]
     },
     "execution_count": 215,
     "metadata": {},
     "output_type": "execute_result"
    }
   ],
   "source": [
    "⍴Mini        ⍝ Mini is a matrix now"
   ]
  },
  {
   "cell_type": "markdown",
   "metadata": {},
   "source": [
    "***Ravel*** shall be discussed in C-14.\n",
    "\n",
    "In Section 5.3, we indexed the variable `Tests` like this:"
   ]
  },
  {
   "cell_type": "code",
   "execution_count": 216,
   "metadata": {
    "execution": {
     "iopub.execute_input": "2020-08-11T20:56:50.019056Z",
     "iopub.status.busy": "2020-08-11T20:56:50.019056Z",
     "iopub.status.idle": "2020-08-11T20:56:50.134597Z",
     "shell.execute_reply": "2020-08-11T20:56:50.132603Z"
    }
   },
   "outputs": [
    {
     "data": {
      "text/html": [
       "<span style=\"white-space:pre; font-family: monospace\">41 14 19 45\n",
       "</span>"
      ]
     },
     "execution_count": 216,
     "metadata": {},
     "output_type": "execute_result"
    }
   ],
   "source": [
    "Tests[1 2 5 6;1]"
   ]
  },
  {
   "cell_type": "markdown",
   "metadata": {},
   "source": [
    "And we were surprised to see the values of a column were displayed horizontally. We can now understand why: the shape of the result is equal to `(⍴1 2 5 6),(⍴1)`. As the shape of a scalar is empty, this expression is equivalent to `(⍴1 2 5 6)`, i.e. $4$. The indexing operatoin therefore produces a vector, which is displayed on a single line of the screen.\n",
    "\n",
    "To obtain a matrix, we must transform the column index (scalar $1$) into a vector: we shall again use ***Ravel***, like this:"
   ]
  },
  {
   "cell_type": "code",
   "execution_count": 217,
   "metadata": {
    "execution": {
     "iopub.execute_input": "2020-08-11T20:56:50.143566Z",
     "iopub.status.busy": "2020-08-11T20:56:50.142568Z",
     "iopub.status.idle": "2020-08-11T20:56:50.249863Z",
     "shell.execute_reply": "2020-08-11T20:56:50.249863Z"
    }
   },
   "outputs": [
    {
     "data": {
      "text/html": [
       "<span style=\"white-space:pre; font-family: monospace\">41\n",
       "14\n",
       "19\n",
       "45\n",
       "</span>"
      ]
     },
     "execution_count": 217,
     "metadata": {},
     "output_type": "execute_result"
    }
   ],
   "source": [
    "Tests[1 2 5 6; ,1]"
   ]
  },
  {
   "cell_type": "markdown",
   "metadata": {},
   "source": [
    "### Spe-4 Multiple usage of an Index\n",
    "\n",
    "When an array is indexed, the same item (the second item in the example below) may be selected more than once; for example:"
   ]
  },
  {
   "cell_type": "code",
   "execution_count": 218,
   "metadata": {
    "execution": {
     "iopub.execute_input": "2020-08-11T20:56:50.251816Z",
     "iopub.status.busy": "2020-08-11T20:56:50.251816Z",
     "iopub.status.idle": "2020-08-11T20:56:50.457923Z",
     "shell.execute_reply": "2020-08-11T20:56:50.458920Z"
    }
   },
   "outputs": [
    {
     "data": {
      "text/html": [
       "<span style=\"white-space:pre; font-family: monospace\">72 73 72 74 72\n",
       "</span>"
      ]
     },
     "execution_count": 218,
     "metadata": {},
     "output_type": "execute_result"
    }
   ],
   "source": [
    "A ← 71 72 73 74 75 76\n",
    "A[2 3 2 4 2]"
   ]
  },
  {
   "cell_type": "markdown",
   "metadata": {},
   "source": [
    "If a repeated index is used to update the variable, only the last replacement value is retained:"
   ]
  },
  {
   "cell_type": "code",
   "execution_count": 219,
   "metadata": {
    "execution": {
     "iopub.execute_input": "2020-08-11T20:56:50.461912Z",
     "iopub.status.busy": "2020-08-11T20:56:50.460935Z",
     "iopub.status.idle": "2020-08-11T20:56:50.674668Z",
     "shell.execute_reply": "2020-08-11T20:56:50.675694Z"
    }
   },
   "outputs": [
    {
     "data": {
      "text/html": [
       "<span style=\"white-space:pre; font-family: monospace\">71 50 19 33 75 76\n",
       "</span>"
      ]
     },
     "execution_count": 219,
     "metadata": {},
     "output_type": "execute_result"
    }
   ],
   "source": [
    "A[2 3 2 4 2] ← 45 19 67 33 50\n",
    "A        ⍝ The second item was set to 45, then 67 and finally 50."
   ]
  },
  {
   "cell_type": "markdown",
   "metadata": {},
   "source": [
    "### Spe-5 A Problem With Using Reshape (`⍴`)\n",
    "\n",
    "We want to create a numeric matrix with $3$ rows, and as many columns as another matrix `Trix`, entirely filled with zeroes.\n",
    "\n",
    "One solution is to first obtain the number of columns of `Trix`, using the *Drop* (`↓`) function:"
   ]
  },
  {
   "cell_type": "code",
   "execution_count": 220,
   "metadata": {
    "execution": {
     "iopub.execute_input": "2020-08-11T20:56:50.680683Z",
     "iopub.status.busy": "2020-08-11T20:56:50.679685Z",
     "iopub.status.idle": "2020-08-11T20:56:50.897338Z",
     "shell.execute_reply": "2020-08-11T20:56:50.896338Z"
    }
   },
   "outputs": [
    {
     "data": {
      "text/html": [
       "<span style=\"white-space:pre; font-family: monospace\">8\n",
       "</span>"
      ]
     },
     "execution_count": 220,
     "metadata": {},
     "output_type": "execute_result"
    }
   ],
   "source": [
    "1↓⍴Trix        ⍝ Drop is discussed in G-1\n",
    "               ⍝ Trix has 8 columns"
   ]
  },
  {
   "cell_type": "markdown",
   "metadata": {},
   "source": [
    "Then manually build the correct matrix using the number of columns ($8$) we obtained previously:"
   ]
  },
  {
   "cell_type": "code",
   "execution_count": 221,
   "metadata": {
    "execution": {
     "iopub.execute_input": "2020-08-11T20:56:50.907262Z",
     "iopub.status.busy": "2020-08-11T20:56:50.906266Z",
     "iopub.status.idle": "2020-08-11T20:56:51.013930Z",
     "shell.execute_reply": "2020-08-11T20:56:51.013930Z"
    }
   },
   "outputs": [
    {
     "data": {
      "text/html": [
       "<span style=\"white-space:pre; font-family: monospace\">0 0 0 0 0 0 0 0\n",
       "0 0 0 0 0 0 0 0\n",
       "0 0 0 0 0 0 0 0\n",
       "</span>"
      ]
     },
     "execution_count": 221,
     "metadata": {},
     "output_type": "execute_result"
    }
   ],
   "source": [
    "3 8⍴0          ⍝ That's correct"
   ]
  },
  {
   "cell_type": "markdown",
   "metadata": {},
   "source": [
    "Now let us try to build a generalized solution:"
   ]
  },
  {
   "cell_type": "code",
   "execution_count": 222,
   "metadata": {
    "execution": {
     "iopub.execute_input": "2020-08-11T20:56:51.017921Z",
     "iopub.status.busy": "2020-08-11T20:56:51.016966Z",
     "iopub.status.idle": "2020-08-11T20:56:51.338660Z",
     "shell.execute_reply": "2020-08-11T20:56:51.338660Z"
    }
   },
   "outputs": [
    {
     "name": "stderr",
     "output_type": "stream",
     "text": [
      "DOMAIN ERROR\n",
      "      New←3 nc⍴0        ⍝ That should be the same, no?\n",
      "              ∧\n"
     ]
    }
   ],
   "source": [
    "nc ← 1↓⍴Trix        ⍝ Calculate the number of columns.\n",
    "New ← 3 nc⍴0        ⍝ That should be the same, no?\n",
    "                    ⍝ It no longer works..."
   ]
  },
  {
   "cell_type": "markdown",
   "metadata": {},
   "source": [
    "The reasons for the problem are as follows:\n",
    "\n",
    " - When, in the first example, we entered the expression `3 8`, we juxtaposed two scalars, and the result was a two-item vector.\n",
    " - The expression `⍴Trix` in the second example returns a two-item vector (`5 8` to be more precise). The *Drop* function leaves only one value, but the result `8` is still a one-item **vector**.\n",
    " - When we then entered the expression `3 nc`, we juxtaposed a scalar to a vector. This does not return a simple vector, but a nested array.\n",
    " - Unfortunately, a nested array is not a valid left argument for *Reshape*!\n",
    " \n",
    "Solution: *Catenate* `3` and `nc` to form a simple vector, which you then use as the left argument to `⍴`."
   ]
  },
  {
   "cell_type": "code",
   "execution_count": 223,
   "metadata": {
    "execution": {
     "iopub.execute_input": "2020-08-11T20:56:51.342650Z",
     "iopub.status.busy": "2020-08-11T20:56:51.341655Z",
     "iopub.status.idle": "2020-08-11T20:56:51.565544Z",
     "shell.execute_reply": "2020-08-11T20:56:51.563592Z"
    }
   },
   "outputs": [
    {
     "data": {
      "text/html": [
       "<span style=\"white-space:pre; font-family: monospace\">0 0 0 0 0 0 0 0\n",
       "0 0 0 0 0 0 0 0\n",
       "0 0 0 0 0 0 0 0\n",
       "</span>"
      ]
     },
     "execution_count": 223,
     "metadata": {},
     "output_type": "execute_result"
    }
   ],
   "source": [
    "New ← (3,nc)⍴0      ⍝ Catenate is discussed in C-10.\n",
    "New"
   ]
  },
  {
   "cell_type": "markdown",
   "metadata": {},
   "source": [
    "A direct solution would be:"
   ]
  },
  {
   "cell_type": "code",
   "execution_count": 224,
   "metadata": {
    "execution": {
     "iopub.execute_input": "2020-08-11T20:56:51.569540Z",
     "iopub.status.busy": "2020-08-11T20:56:51.568530Z",
     "iopub.status.idle": "2020-08-11T20:56:51.785211Z",
     "shell.execute_reply": "2020-08-11T20:56:51.787206Z"
    }
   },
   "outputs": [
    {
     "data": {
      "text/html": [
       "<span style=\"white-space:pre; font-family: monospace\">0 0 0 0 0 0 0 0\n",
       "0 0 0 0 0 0 0 0\n",
       "0 0 0 0 0 0 0 0\n",
       "</span>"
      ]
     },
     "execution_count": 224,
     "metadata": {},
     "output_type": "execute_result"
    }
   ],
   "source": [
    "New ← (3,1↓⍴Trix)⍴0\n",
    "New"
   ]
  },
  {
   "cell_type": "markdown",
   "metadata": {},
   "source": [
    "### Spe-6 Monadic Index (`⌷`)\n",
    "\n",
    "In Section 5.6, we used the *Index* function with a left argument for indexing.\n",
    "\n",
    "Used monadically (without a left argument), *Index* returns all the items of its right argument, whatever its shape:"
   ]
  },
  {
   "cell_type": "code",
   "execution_count": 225,
   "metadata": {
    "execution": {
     "iopub.execute_input": "2020-08-11T20:56:51.797183Z",
     "iopub.status.busy": "2020-08-11T20:56:51.795140Z",
     "iopub.status.idle": "2020-08-11T20:56:52.007614Z",
     "shell.execute_reply": "2020-08-11T20:56:52.007614Z"
    }
   },
   "outputs": [
    {
     "data": {
      "text/html": [
       "<span style=\"white-space:pre; font-family: monospace\">17 41 23 64\n",
       "</span>"
      ]
     },
     "execution_count": 225,
     "metadata": {},
     "output_type": "execute_result"
    }
   ],
   "source": [
    "Vec ← 17 41 23 64\n",
    "⌷ Vec        ⍝ Equivalent to Vec[]"
   ]
  },
  {
   "cell_type": "code",
   "execution_count": 226,
   "metadata": {
    "execution": {
     "iopub.execute_input": "2020-08-11T20:56:52.010611Z",
     "iopub.status.busy": "2020-08-11T20:56:52.010611Z",
     "iopub.status.idle": "2020-08-11T20:56:52.228788Z",
     "shell.execute_reply": "2020-08-11T20:56:52.230793Z"
    }
   },
   "outputs": [
    {
     "data": {
      "text/html": [
       "<span style=\"white-space:pre; font-family: monospace\">1 2 3\n",
       "4 5 6\n",
       "</span>"
      ]
     },
     "execution_count": 226,
     "metadata": {},
     "output_type": "execute_result"
    }
   ],
   "source": [
    "Mat ← 2 3 ⍴ ⍳6\n",
    "⌷Mat         ⍝ Equivalent to Mat[;]"
   ]
  },
  {
   "cell_type": "markdown",
   "metadata": {},
   "source": [
    "The *Index* function may also be used with Objects (See Chapter Q, Object Oriented Programming). Applied to an *Enumerable Property of an Object*, or an *Instance of an Object* which has such a Property as its *default* Property, the same syntax returns all the items in this collection.\n",
    "\n",
    "For example, to obtain the names of all the sheets in an Excel workbook, one can type:\n",
    "\n",
    "```apl\n",
    "      XL.ActiveWorkbook.(⌷Sheets).Name\n",
    "```\n",
    "\n",
    "In this expression, `⌷Sheets` represents the collection of all those sheets."
   ]
  },
  {
   "cell_type": "code",
   "execution_count": null,
   "metadata": {},
   "outputs": [],
   "source": []
  }
 ],
 "metadata": {
  "kernelspec": {
   "display_name": "Dyalog APL",
   "language": "apl",
   "name": "dyalog-kernel"
  },
  "language_info": {
   "file_extension": ".apl",
   "mimetype": "text/apl",
   "name": "APL"
  }
 },
 "nbformat": 4,
 "nbformat_minor": 4
}