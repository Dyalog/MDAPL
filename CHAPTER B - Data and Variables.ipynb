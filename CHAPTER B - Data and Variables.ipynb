{
 "cells": [
  {
   "cell_type": "code",
   "execution_count": 1,
   "metadata": {},
   "outputs": [],
   "source": [
    "⎕load 'res\\DyalogTutor_EN.dws'"
   ]
  },
  {
   "cell_type": "markdown",
   "metadata": {},
   "source": [
    "**Notes & Questions**:\n",
    "\n",
    " - what programming conventions should be adopted? shoud the original style be kept? e.g. variable naming with upper VS lower case letter for arrays, etc.\n",
    " - Bernard originally talks about how multiple assignment without () on the left is allowed but discouraged for compatibility reasons with other APLs; I kept the paragraph and included a note on how such a thing is bad and should be avoided; should this small part be removed altogether?\n",
    " - I wrote [1.4 Different Types of Numbers](#1.4-Different-Types-of-Numbers) to include a first reference to complex numbers; is this a good place to mention them for the first time?\n",
    " - the first sentence of [section 2](#2---Arrays-of-Items) says \"an array is a set of zero or more items\"; while I don't think \"set\" here was intended in the mathematical sense, I changed it to \"sequence\" as I feel it is more accurate.\n",
    " - whenever the author talks about a fictional character, the author assigns them a gender, usually masculine; should I change the examples to be of unspecified gender by using \"they/their/them\"?\n",
    " - the author talks about () vs [] for indexing in different languages but doesn't mention the fact that indexing in APL is 1-based while in many other languages it's 0-based... Shouldn't this be, at least, mentioned briefly?\n",
    "\n",
    "\n",
    "\n",
    "# Chapter B: Data and Variables\n",
    "\n",
    "When you use APL, you type an expression or a command into the session window, and the result of the expression, or a message resulting from the execution of the command, is displayed starting on the next line. So an APL \"session\" is a sequence of user input lines (expressions and/or commands) interleaved with the results of the expressions.\n",
    "\n",
    "To help you see what you have done, APL initially positions the input cursor $6$ spaces in from the left margin. Unless you deliberately move the cursor before you start typing, the expressions you enter into the system will therefore be indented, whereas the results of the expressions will not. Having been written in Jupyter notebooks, this book mimics some of that behaviour by having code blocks that can be ran interactively by you, the reader.\n",
    "\n",
    "In this book, expressions you enter are in a shaded rectangle (an ***input cell***) precedeed by `In [X]:` and the results of the expressions are precedeed by the corresponding `Out[X]:` and displayed in a white region (the ***output cell***). You can run an input cell by selecting it and pressing *Ctrl*+*Enter*; when you do so, the numbers in `In [X]` and `Out[X]` are updated to indicate the cell has just been ran.\n",
    "\n",
    "It is recommended that you go through this tutorial in front of your computer, and experiment by typing the expressions given below into the Dyalog session window. Alternatively, if you are reading the book online in a dynamic format, you can re-run the *input cells* for yourself. Either way, try changing the expressions, and observe the new results.\n",
    "\n",
    "## 1 - Simple Numeric Values\n",
    "\n",
    "### 1.1 Our First Operations\n",
    "\n",
    "Let's try some simple expressions (press *Enter* if you are in a Dyalog session, or *Ctrl*+*Enter* if you are reading the Jupyter notebook, to have each expression evaluated):"
   ]
  },
  {
   "cell_type": "code",
   "execution_count": 2,
   "metadata": {
    "scrolled": true
   },
   "outputs": [
    {
     "data": {
      "text/html": [
       "<span style=\"white-space:pre; font-family: monospace\">80\n",
       "</span>"
      ]
     },
     "execution_count": 2,
     "metadata": {},
     "output_type": "execute_result"
    }
   ],
   "source": [
    "27 + 53"
   ]
  },
  {
   "cell_type": "code",
   "execution_count": 3,
   "metadata": {
    "scrolled": true
   },
   "outputs": [
    {
     "data": {
      "text/html": [
       "<span style=\"white-space:pre; font-family: monospace\">563\n",
       "</span>"
      ]
     },
     "execution_count": 3,
     "metadata": {},
     "output_type": "execute_result"
    }
   ],
   "source": [
    "1271 - 708"
   ]
  },
  {
   "cell_type": "code",
   "execution_count": 4,
   "metadata": {},
   "outputs": [
    {
     "data": {
      "text/html": [
       "<span style=\"white-space:pre; font-family: monospace\">¯188\n",
       "</span>"
      ]
     },
     "execution_count": 4,
     "metadata": {},
     "output_type": "execute_result"
    }
   ],
   "source": [
    "644 - 832"
   ]
  },
  {
   "cell_type": "markdown",
   "metadata": {},
   "source": [
    "Notice that APL uses a different symbol known as *high minus* (`¯`) to distinguish between a negative value and the function *subtract* (`-`). If you wish to enter a negative value, you can enter this special symbol by pressing *Ctrl*+$2$ (or by clicking the symbol in the \"Language Bar\").\n",
    "\n",
    "Let's continue with some more expressions:"
   ]
  },
  {
   "cell_type": "code",
   "execution_count": 5,
   "metadata": {},
   "outputs": [
    {
     "data": {
      "text/html": [
       "<span style=\"white-space:pre; font-family: monospace\">21.5\n",
       "</span>"
      ]
     },
     "execution_count": 5,
     "metadata": {},
     "output_type": "execute_result"
    }
   ],
   "source": [
    "86 ÷ 4        ⍝ The Divide sign is obtained by pressing Ctrl+="
   ]
  },
  {
   "cell_type": "code",
   "execution_count": 6,
   "metadata": {},
   "outputs": [
    {
     "data": {
      "text/html": [
       "<span style=\"white-space:pre; font-family: monospace\">472\n",
       "</span>"
      ]
     },
     "execution_count": 6,
     "metadata": {},
     "output_type": "execute_result"
    }
   ],
   "source": [
    "59 × 8        ⍝ The Multiply sign is obtained by pressing Ctrl+-"
   ]
  },
  {
   "cell_type": "markdown",
   "metadata": {},
   "source": [
    "If you are familiar with other programming languages, you may be accustomed to using a slash (`/`) for division, and a star (`*`) for multiplication. Let's see what might happen if you mistakenly use `*` in APL:"
   ]
  },
  {
   "cell_type": "code",
   "execution_count": 7,
   "metadata": {},
   "outputs": [
    {
     "data": {
      "text/html": [
       "<span style=\"white-space:pre; font-family: monospace\">343\n",
       "</span>"
      ]
     },
     "execution_count": 7,
     "metadata": {},
     "output_type": "execute_result"
    }
   ],
   "source": [
    "7 * 3         ⍝ In APL the star means \"Power\"\n",
    "              ⍝ so that 7 * 3 is equivalent to 7 × 7 × 7"
   ]
  },
  {
   "cell_type": "markdown",
   "metadata": {},
   "source": [
    "The slash also has a different meaning in APL, we'll get to that latter.\n",
    "\n",
    "### 1.2 Variables\n",
    "\n",
    "As in any other programming language, it is possible to create variables. Just choose a name and use the assignment arrow (`←`) to assign it to a value. The value can be a single item or several items separated by spaces. The assignment arrow can be entered by pressing *Ctrl*+\\[."
   ]
  },
  {
   "cell_type": "code",
   "execution_count": 8,
   "metadata": {},
   "outputs": [],
   "source": [
    "Discount ← 0.15        ⍝ Read it as: Discount gets 0.15\n",
    "Years ← 1952 1943 1956 2020\n",
    "Purchased ← 4000"
   ]
  },
  {
   "cell_type": "markdown",
   "metadata": {},
   "source": [
    "To obtain the value of a variable, just type its name and evaluate the expression, like this:"
   ]
  },
  {
   "cell_type": "code",
   "execution_count": 9,
   "metadata": {},
   "outputs": [
    {
     "data": {
      "text/html": [
       "<span style=\"white-space:pre; font-family: monospace\">0.15\n",
       "</span>"
      ]
     },
     "execution_count": 9,
     "metadata": {},
     "output_type": "execute_result"
    }
   ],
   "source": [
    "Discount"
   ]
  },
  {
   "cell_type": "code",
   "execution_count": 10,
   "metadata": {},
   "outputs": [
    {
     "data": {
      "text/html": [
       "<span style=\"white-space:pre; font-family: monospace\">1952 1943 1956 2020\n",
       "</span>"
      ]
     },
     "execution_count": 10,
     "metadata": {},
     "output_type": "execute_result"
    }
   ],
   "source": [
    "Years"
   ]
  },
  {
   "cell_type": "markdown",
   "metadata": {},
   "source": [
    "Variable names are ***case sensitive***. This means that APL considers a lower-case letter and an upper-case letter to be two different characters. So the three variables `YEARS`, `Years` and `years`, would be distinct, and could contain different values. If you misspell the name of a variable, an error message will be displayed if that name is unknown:"
   ]
  },
  {
   "cell_type": "code",
   "execution_count": 11,
   "metadata": {},
   "outputs": [
    {
     "name": "stderr",
     "output_type": "stream",
     "text": [
      "VALUE ERROR: Undefined name: discount\n",
      "      discount        ⍝ We typed a lower-case \"d\", instead of \"D\"\n",
      "      ∧\n"
     ]
    }
   ],
   "source": [
    "discount        ⍝ We typed a lower-case \"d\", instead of \"D\"\n",
    "                ⍝ The message \"VALUE ERROR\" means that the\n",
    "                ⍝ name discount is currently undefined."
   ]
  },
  {
   "cell_type": "markdown",
   "metadata": {},
   "source": [
    "Variable names must follow certain rules:\n",
    "\n",
    " - They must contain only letters, in lower or upper-case, including some accented letters (cf. below), and the digits ($0$ to $9$).\n",
    " - The APL alphabet also includes the Greek letter Delta (`∆`), entered using *Ctrl*+H, the Underscore sign (`_`), and also the Underscored Delta (`⍙`), entered using *Ctrl*+. (dot).\n",
    " - They cannot start with a digit.\n",
    " \n",
    "The following variable names are valid:"
   ]
  },
  {
   "cell_type": "code",
   "execution_count": 12,
   "metadata": {},
   "outputs": [
    {
     "data": {
      "text/html": [
       "<span style=\"white-space:pre; font-family: monospace\">1\n",
       "</span>"
      ]
     },
     "execution_count": 12,
     "metadata": {},
     "output_type": "execute_result"
    }
   ],
   "source": [
    "∆x ← 1                ⍝ with Delta\n",
    "∆x"
   ]
  },
  {
   "cell_type": "code",
   "execution_count": 13,
   "metadata": {},
   "outputs": [
    {
     "data": {
      "text/html": [
       "<span style=\"white-space:pre; font-family: monospace\">2\n",
       "</span>"
      ]
     },
     "execution_count": 13,
     "metadata": {},
     "output_type": "execute_result"
    }
   ],
   "source": [
    "Fly⍙Airlines ← 2      ⍝ with Underscored Delta\n",
    "Fly⍙Airlines"
   ]
  },
  {
   "cell_type": "code",
   "execution_count": 14,
   "metadata": {},
   "outputs": [
    {
     "data": {
      "text/html": [
       "<span style=\"white-space:pre; font-family: monospace\">3\n",
       "</span>"
      ]
     },
     "execution_count": 14,
     "metadata": {},
     "output_type": "execute_result"
    }
   ],
   "source": [
    "My_car_is_green ← 3   ⍝ with Underscores\n",
    "My_car_is_green"
   ]
  },
  {
   "cell_type": "code",
   "execution_count": 15,
   "metadata": {},
   "outputs": [
    {
     "data": {
      "text/html": [
       "<span style=\"white-space:pre; font-family: monospace\">4\n",
       "</span>"
      ]
     },
     "execution_count": 15,
     "metadata": {},
     "output_type": "execute_result"
    }
   ],
   "source": [
    "Hote273 ← 4           ⍝ with digits\n",
    "Hote273"
   ]
  },
  {
   "cell_type": "code",
   "execution_count": 16,
   "metadata": {},
   "outputs": [
    {
     "data": {
      "text/html": [
       "<span style=\"white-space:pre; font-family: monospace\">5\n",
       "</span>"
      ]
     },
     "execution_count": 16,
     "metadata": {},
     "output_type": "execute_result"
    }
   ],
   "source": [
    "Bétise_à_Caimbrai ← 5 ⍝ with accented letters\n",
    "Bétise_à_Caimbrai"
   ]
  },
  {
   "cell_type": "markdown",
   "metadata": {},
   "source": [
    "But `5à7` is not valid, because it begins with a digit:"
   ]
  },
  {
   "cell_type": "code",
   "execution_count": 17,
   "metadata": {},
   "outputs": [
    {
     "name": "stderr",
     "output_type": "stream",
     "text": [
      "SYNTAX ERROR\n",
      "      5 à7←6\n",
      "          ∧\n"
     ]
    }
   ],
   "source": [
    "5à7 ← 6"
   ]
  },
  {
   "cell_type": "markdown",
   "metadata": {},
   "source": [
    "In this document, most variable names begin with an upper-case letter, with the remainder in lower-case. This is purely for consistency and ease of use.\n",
    "\n",
    "The letters that are allowed as part of variable names are:\n",
    "\n",
    "```\n",
    "0123456789\n",
    "ABCDEFGHIJKLMNOPQRSTUVWXYZ_\n",
    "abcdefghijklmnopqrstuvwxyz\n",
    "ÀÁÂÃÄÅÆÇÈÉÊËÌÍÎÏÐÑÒÓÔÕÖØÙÚÛÜÝẞ\n",
    "àáâãäåæçèéêëìíîïðñòóôõöøùúûüþ\n",
    "∆⍙\n",
    "```\n",
    "\n",
    "Additionally, variable names can contain underlined upper cases letters, which look something like <ins>ABCDEFGHIJKLMNOPQRSTUVWXYZ</ins>. It is strongly recommended that you do not use the underscored letters which are only included to support old applications. Today, underscored letters are regarded as an anachronism, and are deprecated in modern versions of APL. They are not part of the Unicode character set and we weren't even able to include them here, the list above is just styled like the underscored letters, it is not really those letters. When a standard Unicode font is used, the APL underscored letters correspond to the Unicode circled alphabet, which is displayed like this:\n",
    "\n",
    "```\n",
    "ⒶⒷⒸⒹⒺⒻⒼⒽⒾⒿⓀⓁⓂⓃⓄⓅⓆⓇⓈⓉⓊⓋⓌⓍⓎⓏ\n",
    "```\n",
    "\n",
    "Although it is permitted, the use of accented characters is also not recommended because some people may be unable to enter them using their normal keyboard.\n",
    "\n",
    "`∆` and `⍙` may also cause problems if you ever want to inter-operate with other software, and are best avoided.\n",
    "\n",
    "### 1.3 Operations on Variables\n",
    "\n",
    "Variables can be used in any expression or calculation. For example, if we want to calculate the amount of the discount applied to the things we purchased, we can write:"
   ]
  },
  {
   "cell_type": "code",
   "execution_count": 18,
   "metadata": {},
   "outputs": [
    {
     "data": {
      "text/html": [
       "<span style=\"white-space:pre; font-family: monospace\">600\n",
       "</span>"
      ]
     },
     "execution_count": 18,
     "metadata": {},
     "output_type": "execute_result"
    }
   ],
   "source": [
    "Amount ← Purchased×Discount\n",
    "Amount"
   ]
  },
  {
   "cell_type": "markdown",
   "metadata": {},
   "source": [
    "When the result of an expression is assigned to a name, it is not displayed. This is why we have entered a second expression to have the value displayed. If the result of an operation is not assigned to a name, it is immediately displayed, but then the value of the result cannot be reused directly in another expression:"
   ]
  },
  {
   "cell_type": "code",
   "execution_count": 19,
   "metadata": {},
   "outputs": [
    {
     "data": {
      "text/html": [
       "<span style=\"white-space:pre; font-family: monospace\">600\n",
       "</span>"
      ]
     },
     "execution_count": 19,
     "metadata": {},
     "output_type": "execute_result"
    }
   ],
   "source": [
    "Purchased × Discount"
   ]
  },
  {
   "cell_type": "markdown",
   "metadata": {},
   "source": [
    "It is of course possible to change the contents of a variable. The previous value is then lost."
   ]
  },
  {
   "cell_type": "code",
   "execution_count": 20,
   "metadata": {},
   "outputs": [],
   "source": [
    "Discount ← 0.185"
   ]
  },
  {
   "cell_type": "markdown",
   "metadata": {},
   "source": [
    "It is possible to assign values to several variables in a single expression:"
   ]
  },
  {
   "cell_type": "code",
   "execution_count": 21,
   "metadata": {},
   "outputs": [],
   "source": [
    "(G H J) ← 30 51 49        ⍝ G gets 30, H gets 51, and J gets 49."
   ]
  },
  {
   "cell_type": "markdown",
   "metadata": {},
   "source": [
    "This ***Multiple assignment*** is an elegant way of allocating a set of values to some distinct variables:"
   ]
  },
  {
   "cell_type": "code",
   "execution_count": 22,
   "metadata": {},
   "outputs": [
    {
     "data": {
      "text/html": [
       "<span style=\"white-space:pre; font-family: monospace\">1952\n",
       "</span>"
      ]
     },
     "execution_count": 22,
     "metadata": {},
     "output_type": "execute_result"
    }
   ],
   "source": [
    "(Colette Bernard Line Now) ← Years\n",
    "Colette"
   ]
  },
  {
   "cell_type": "code",
   "execution_count": 23,
   "metadata": {},
   "outputs": [
    {
     "data": {
      "text/html": [
       "<span style=\"white-space:pre; font-family: monospace\">1956\n",
       "</span>"
      ]
     },
     "execution_count": 23,
     "metadata": {},
     "output_type": "execute_result"
    }
   ],
   "source": [
    "Line"
   ]
  },
  {
   "cell_type": "markdown",
   "metadata": {},
   "source": [
    "Note that it is possible to write multiple assignments without parentheses on the left:"
   ]
  },
  {
   "cell_type": "code",
   "execution_count": 24,
   "metadata": {},
   "outputs": [],
   "source": [
    "G H J ← 30 51 49\n",
    "Colette Bernard Line Now ← Years"
   ]
  },
  {
   "cell_type": "markdown",
   "metadata": {},
   "source": [
    "However this is highly discouraged. Using parentheses indicates much more clearly the intent of performing *Multiple assignment* and helps prevent some erroneous behaviour. For example, notice how the expression below raises an error because we are trying to assign `5` to `3`, and yet, `var` gets assigned `5`:"
   ]
  },
  {
   "cell_type": "code",
   "execution_count": 25,
   "metadata": {},
   "outputs": [
    {
     "name": "stderr",
     "output_type": "stream",
     "text": [
      "SYNTAX ERROR\n",
      "      var 3←5\n",
      "           ∧\n"
     ]
    }
   ],
   "source": [
    "var 3 ← 5"
   ]
  },
  {
   "cell_type": "code",
   "execution_count": 26,
   "metadata": {},
   "outputs": [
    {
     "data": {
      "text/html": [
       "<span style=\"white-space:pre; font-family: monospace\">5\n",
       "</span>"
      ]
     },
     "execution_count": 26,
     "metadata": {},
     "output_type": "execute_result"
    }
   ],
   "source": [
    "var"
   ]
  },
  {
   "cell_type": "markdown",
   "metadata": {},
   "source": [
    "However, if we use parentheses the assignment is not performed at all:"
   ]
  },
  {
   "cell_type": "code",
   "execution_count": 27,
   "metadata": {},
   "outputs": [
    {
     "name": "stderr",
     "output_type": "stream",
     "text": [
      "SYNTAX ERROR\n",
      "      (var 3)←50\n",
      "             ∧\n"
     ]
    }
   ],
   "source": [
    "(var 3) ← 50"
   ]
  },
  {
   "cell_type": "code",
   "execution_count": 28,
   "metadata": {},
   "outputs": [
    {
     "data": {
      "text/html": [
       "<span style=\"white-space:pre; font-family: monospace\">5\n",
       "</span>"
      ]
     },
     "execution_count": 28,
     "metadata": {},
     "output_type": "execute_result"
    }
   ],
   "source": [
    "var"
   ]
  },
  {
   "cell_type": "markdown",
   "metadata": {},
   "source": [
    "Another argument against using *Multiple assignment* without parentheses is that some other APL systems require them, so if compatibility across APL implementations is an issue for you, we recommend that you use parentheses in Dyalog APL as well.\n",
    "\n",
    "### 1.4 Different Types of Numbers\n",
    "\n",
    "We have already used many different numerical values in our examples without worrying too much about what they really are. We should note that, for the computer, not all numbers are created equal.\n",
    "\n",
    "***Integer*** numbers are the easiest to deal with, and we have seen plenty of them already. Those are the whole numbers and they can be positive, or negative, or `0`:"
   ]
  },
  {
   "cell_type": "code",
   "execution_count": 29,
   "metadata": {},
   "outputs": [
    {
     "data": {
      "text/html": [
       "<span style=\"white-space:pre; font-family: monospace\">¯3 5 ¯46 10004 0\n",
       "</span>"
      ]
     },
     "execution_count": 29,
     "metadata": {},
     "output_type": "execute_result"
    }
   ],
   "source": [
    "Integers ← ¯3 5 ¯46 10004 0\n",
    "Integers"
   ]
  },
  {
   "cell_type": "markdown",
   "metadata": {},
   "source": [
    "If we include a dot `.` and specify decimal parts for our numbers, then we are no longer dealing with *integers*, but instead with ***floats***:"
   ]
  },
  {
   "cell_type": "code",
   "execution_count": 30,
   "metadata": {},
   "outputs": [
    {
     "data": {
      "text/html": [
       "<span style=\"white-space:pre; font-family: monospace\">¯3.4 5.61 45.9\n",
       "</span>"
      ]
     },
     "execution_count": 30,
     "metadata": {},
     "output_type": "execute_result"
    }
   ],
   "source": [
    "Floats ← ¯3.4 5.61 45.9\n",
    "Floats"
   ]
  },
  {
   "cell_type": "markdown",
   "metadata": {},
   "source": [
    "Dyalog APL knows a little bit of maths and will understand that a *float* with decimal part equal to $0$ is actually an *integer*:"
   ]
  },
  {
   "cell_type": "code",
   "execution_count": 31,
   "metadata": {},
   "outputs": [
    {
     "data": {
      "text/html": [
       "<span style=\"white-space:pre; font-family: monospace\">3\n",
       "</span>"
      ]
     },
     "execution_count": 31,
     "metadata": {},
     "output_type": "execute_result"
    }
   ],
   "source": [
    "3.0"
   ]
  },
  {
   "cell_type": "code",
   "execution_count": 32,
   "metadata": {},
   "outputs": [
    {
     "data": {
      "text/html": [
       "<span style=\"white-space:pre; font-family: monospace\">¯5\n",
       "</span>"
      ]
     },
     "execution_count": 32,
     "metadata": {},
     "output_type": "execute_result"
    }
   ],
   "source": [
    "¯5.000000"
   ]
  },
  {
   "cell_type": "markdown",
   "metadata": {},
   "source": [
    "Finally, if we dive deeper into the realms of mathematics, we can find ***complex numbers***, which will be further explored later on. For now, you can think of *complex numbers* as ***real numbers*** that come in pairs (*real numbers* are the numbers you are very much accustomed to). In Dyalog APL we use a `J` to separate the ***real part*** of the number from the ***imaginary part***, that is, to identify the pair I just mentioned:"
   ]
  },
  {
   "cell_type": "code",
   "execution_count": 33,
   "metadata": {
    "scrolled": true
   },
   "outputs": [
    {
     "data": {
      "text/html": [
       "<span style=\"white-space:pre; font-family: monospace\">3J1 ¯5J1.2 0J¯1.01\n",
       "</span>"
      ]
     },
     "execution_count": 33,
     "metadata": {},
     "output_type": "execute_result"
    }
   ],
   "source": [
    "Complex ← 3J1 ¯5J1.2 0J¯1.01\n",
    "Complex"
   ]
  },
  {
   "cell_type": "markdown",
   "metadata": {},
   "source": [
    "Because Dyalog APL knows a little bit of maths, if the number to the right of the `J` is `0`, Dyalog will automatically convert it to the appropriate *integer* or *float*. Note that this does not happen (because it is not correct) if the `0` is on the left of the `J`:"
   ]
  },
  {
   "cell_type": "code",
   "execution_count": 34,
   "metadata": {},
   "outputs": [
    {
     "data": {
      "text/html": [
       "<span style=\"white-space:pre; font-family: monospace\">¯3.56\n",
       "</span>"
      ]
     },
     "execution_count": 34,
     "metadata": {},
     "output_type": "execute_result"
    }
   ],
   "source": [
    "¯3.56J0"
   ]
  },
  {
   "cell_type": "code",
   "execution_count": 35,
   "metadata": {},
   "outputs": [
    {
     "data": {
      "text/html": [
       "<span style=\"white-space:pre; font-family: monospace\">3\n",
       "</span>"
      ]
     },
     "execution_count": 35,
     "metadata": {},
     "output_type": "execute_result"
    }
   ],
   "source": [
    "3J0"
   ]
  },
  {
   "cell_type": "code",
   "execution_count": 36,
   "metadata": {
    "scrolled": false
   },
   "outputs": [
    {
     "data": {
      "text/html": [
       "<span style=\"white-space:pre; font-family: monospace\">0J1\n",
       "</span>"
      ]
     },
     "execution_count": 36,
     "metadata": {},
     "output_type": "execute_result"
    }
   ],
   "source": [
    "0J1"
   ]
  },
  {
   "cell_type": "markdown",
   "metadata": {},
   "source": [
    "## 2 - Arrays of Items\n",
    "\n",
    "In APL, an *array* is a sequence of zero or more items. The variable `Years` that we used in the previous section is an array of $4$ items.\n",
    "\n",
    "### 2.1 Create a List or a Matrix\n",
    "\n",
    "To enter a short list of items, just type them one by one separated by spaces, and assign the list to a name. For example, here is the number of TV sets sold during the last $10$ days by a shopkeeper:"
   ]
  },
  {
   "cell_type": "code",
   "execution_count": 37,
   "metadata": {},
   "outputs": [],
   "source": [
    "Sales ← 6 1 8 12 3 3 5 4 7 9"
   ]
  },
  {
   "cell_type": "markdown",
   "metadata": {},
   "source": [
    "If you need to enter a very long list of items, which will not easily fit on a single line, please refer to Chapter H, Section $1$, where a simple method is explained.\n",
    "\n",
    "Imagine now that somebody has noted his income and expenses during the first six months of this year:\n",
    "\n",
    "| Month | Income | Expenses |\n",
    "| :- | -: | -: |\n",
    "| January | $4210$ | $3121$ |\n",
    "| February | $4807$ | $4284$ |\n",
    "| March | $3609$ | $7543$ |\n",
    "| April | $5712$ | $2601$ |\n",
    "| May | $2305$ | $3364$ |\n",
    "| June | $4568$ | $2784$ |\n",
    "\n",
    "We shall see later how we can store the names of the months; for now, let us just try to store the numeric values from the table above in a variable.\n",
    "\n",
    "To do this, we have to give two pieces of information to the computer:\n",
    "\n",
    " - the ***shape*** of the array: in this case, $6$ rows and $2$ columns;\n",
    " - the ***contents*** (or *items*) of the array, in row order.\n",
    " \n",
    "The function that organises a set of items into an array of a specified shape is known as ***Reshape*** and is symbolised by the Greek letter Rho (`⍴`). It is easy to remember that *R*ho can be entered using *Ctrl*+R.\n",
    "\n",
    "The ***Reshape*** function is used as follows: `R← Shape ⍴ Contents`.\n",
    "\n",
    "For example, to obtain a $6$ by $2$ array of items:"
   ]
  },
  {
   "cell_type": "code",
   "execution_count": 38,
   "metadata": {},
   "outputs": [
    {
     "data": {
      "text/html": [
       "<span style=\"white-space:pre; font-family: monospace\">4210 3121\n",
       "4807 4284\n",
       "3609 7543\n",
       "5712 2601\n",
       "2305 3364\n",
       "4568 2784\n",
       "</span>"
      ]
     },
     "execution_count": 38,
     "metadata": {},
     "output_type": "execute_result"
    }
   ],
   "source": [
    "Money ← 6 2 ⍴ 4210 3121 4807 4284 3609 7543 5712 2601 2305 3364 4568 2784\n",
    "Money        ⍝ Let's verify the result."
   ]
  },
  {
   "cell_type": "markdown",
   "metadata": {},
   "source": [
    "### 2.2 Special Cases with Reshape\n",
    "\n",
    "If there are too many items, the extra items are ignored:"
   ]
  },
  {
   "cell_type": "code",
   "execution_count": 39,
   "metadata": {},
   "outputs": [
    {
     "data": {
      "text/html": [
       "<span style=\"white-space:pre; font-family: monospace\">12 56 78\n",
       "74 85 96\n",
       "30 22 44\n",
       "</span>"
      ]
     },
     "execution_count": 39,
     "metadata": {},
     "output_type": "execute_result"
    }
   ],
   "source": [
    "Contents ← 12 56 78 74 85 96 30 22 44 66 82 27\n",
    "3 3 ⍴ Contents        ⍝ The last 3 items (66 82 27) have been ignored."
   ]
  },
  {
   "cell_type": "markdown",
   "metadata": {},
   "source": [
    "However, if there are fewer items than implied by the shape, the list of items is reused as many times as necessary to fill the array:"
   ]
  },
  {
   "cell_type": "code",
   "execution_count": 40,
   "metadata": {},
   "outputs": [
    {
     "data": {
      "text/html": [
       "<span style=\"white-space:pre; font-family: monospace\">12 56 78 74 85 96 30 22 44\n",
       "66 82 27 12 56 78 74 85 96\n",
       "30 22 44 66 82 27 12 56 78\n",
       "</span>"
      ]
     },
     "execution_count": 40,
     "metadata": {},
     "output_type": "execute_result"
    }
   ],
   "source": [
    "3 9 ⍴ Contents        ⍝ Notice how the Contents variable\n",
    "                      ⍝ starts repeating on the second row (under the 74)\n",
    "                      ⍝ and also by the end of the third row"
   ]
  },
  {
   "cell_type": "markdown",
   "metadata": {},
   "source": [
    "This property is often used to create special patterns:"
   ]
  },
  {
   "cell_type": "code",
   "execution_count": 41,
   "metadata": {},
   "outputs": [
    {
     "data": {
      "text/html": [
       "<span style=\"white-space:pre; font-family: monospace\">0 0 0 0\n",
       "0 0 0 0\n",
       "0 0 0 0\n",
       "</span>"
      ]
     },
     "execution_count": 41,
     "metadata": {},
     "output_type": "execute_result"
    }
   ],
   "source": [
    "3 4 ⍴ 0            ⍝ Fill an array with a single value."
   ]
  },
  {
   "cell_type": "code",
   "execution_count": 42,
   "metadata": {},
   "outputs": [
    {
     "data": {
      "text/html": [
       "<span style=\"white-space:pre; font-family: monospace\">1 5 0 0 1 5 0 0 1 5 0 0 1 5 0 0 1 5 0 0 1 5 0 0 1 5 0 0 1 5\n",
       "</span>"
      ]
     },
     "execution_count": 42,
     "metadata": {},
     "output_type": "execute_result"
    }
   ],
   "source": [
    "30 ⍴ 1 5 0 0       ⍝ Repeat a pattern."
   ]
  },
  {
   "cell_type": "code",
   "execution_count": 43,
   "metadata": {},
   "outputs": [
    {
     "data": {
      "text/html": [
       "<span style=\"white-space:pre; font-family: monospace\">2 4 6 8\n",
       "2 4 6 8\n",
       "2 4 6 8\n",
       "</span>"
      ]
     },
     "execution_count": 43,
     "metadata": {},
     "output_type": "execute_result"
    }
   ],
   "source": [
    "3 4 ⍴ 2 4 6 8      ⍝ Repeat a pattern."
   ]
  },
  {
   "cell_type": "code",
   "execution_count": 44,
   "metadata": {},
   "outputs": [
    {
     "data": {
      "text/html": [
       "<span style=\"white-space:pre; font-family: monospace\">1 0 0 0 0\n",
       "0 1 0 0 0\n",
       "0 0 1 0 0\n",
       "0 0 0 1 0\n",
       "0 0 0 0 1\n",
       "</span>"
      ]
     },
     "execution_count": 44,
     "metadata": {},
     "output_type": "execute_result"
    }
   ],
   "source": [
    "5 5 ⍴ 1 0 0 0 0 0  ⍝ Shift values."
   ]
  },
  {
   "cell_type": "markdown",
   "metadata": {},
   "source": [
    "### 2.3 Multi-dimensional Arrays\n",
    "\n",
    "APL is not limited to arrays with two dimensions, it can handle arrays with $3$, $4$, indeep up to $15$ dimensions.\n",
    "\n",
    "Imagine that a company has stored the production of its assembly lines in a variable named `Prod`.\n",
    "\n",
    "The variable contains $5$ years of production, on $2$ assembly lines, and for $12$ months per year. To represent the $3$ dimensions on the screen, the array is displayed split into sub-arrays each representing a single year, as follows:"
   ]
  },
  {
   "cell_type": "code",
   "execution_count": 45,
   "metadata": {},
   "outputs": [
    {
     "data": {
      "text/html": [
       "<span style=\"white-space:pre; font-family: monospace\">26 16 22 17 21 44 25 22 23 44 41 33\n",
       "43 36 47 49 30 22 57 20 45 60 43 22\n",
       "                                   \n",
       "44 21 58 57 17 43 47 17 43 26 53 23\n",
       "29 19 23 38 53 47 38 22 40 57 35 26\n",
       "                                   \n",
       "37 27 53 26 29 46 25 26 30 20 32 16\n",
       "56 55 25 47 38 27 39 59 20 28 42 25\n",
       "                                   \n",
       "21 57 55 44 16 54 26 16 55 56 45 45\n",
       "16 55 26 20 27 55 36 39 43 38 50 16\n",
       "                                   \n",
       "27 23 56 41 53 60 39 47 44 47 17 28\n",
       "24 35 61 26 22 35 24 20 31 35 47 37\n",
       "</span>"
      ]
     },
     "execution_count": 45,
     "metadata": {},
     "output_type": "execute_result"
    }
   ],
   "source": [
    "Prod        ⍝ Notice the blank lines separating the sub-arrays,\n",
    "            ⍝ one per year (5 in total)."
   ]
  },
  {
   "cell_type": "markdown",
   "metadata": {},
   "source": [
    "This array is organised in dimensions that represent $5$ years, $2$ assembly lines, $12$ months: it is a three dimensional array. We can also say that its ***shape*** is $5\\ 2\\ 12$.\n",
    "\n",
    "## 3 - Shape, Rank and Vocabulary\n",
    "\n",
    "### 3.1 Shape and Rank\n",
    "\n",
    "The symbol `⍴`, which we introduced above, can be used to obtain the lengths of the dimensions or the ***Shape*** of an array:"
   ]
  },
  {
   "cell_type": "code",
   "execution_count": 46,
   "metadata": {},
   "outputs": [
    {
     "data": {
      "text/html": [
       "<span style=\"white-space:pre; font-family: monospace\">4\n",
       "</span>"
      ]
     },
     "execution_count": 46,
     "metadata": {},
     "output_type": "execute_result"
    }
   ],
   "source": [
    "⍴ Years        ⍝ Read this as \"Shape of Years\".\n",
    "               ⍝ Years has 4 items"
   ]
  },
  {
   "cell_type": "code",
   "execution_count": 47,
   "metadata": {},
   "outputs": [
    {
     "data": {
      "text/html": [
       "<span style=\"white-space:pre; font-family: monospace\">6 2\n",
       "</span>"
      ]
     },
     "execution_count": 47,
     "metadata": {},
     "output_type": "execute_result"
    }
   ],
   "source": [
    "⍴ Money        ⍝ Money has 6 rows and 2 columns."
   ]
  },
  {
   "cell_type": "code",
   "execution_count": 48,
   "metadata": {},
   "outputs": [
    {
     "data": {
      "text/html": [
       "<span style=\"white-space:pre; font-family: monospace\">5 2 12\n",
       "</span>"
      ]
     },
     "execution_count": 48,
     "metadata": {},
     "output_type": "execute_result"
    }
   ],
   "source": [
    "Shape ← ⍴Prod\n",
    "Shape          ⍝ Prod has 5 sheets (or planes), each having\n",
    "               ⍝ 2 rows and 12 columns."
   ]
  },
  {
   "cell_type": "markdown",
   "metadata": {},
   "source": [
    "Now, what is the shape of `Shape`?"
   ]
  },
  {
   "cell_type": "code",
   "execution_count": 49,
   "metadata": {},
   "outputs": [
    {
     "data": {
      "text/html": [
       "<span style=\"white-space:pre; font-family: monospace\">3\n",
       "</span>"
      ]
     },
     "execution_count": 49,
     "metadata": {},
     "output_type": "execute_result"
    }
   ],
   "source": [
    "⍴ Shape        ⍝ Prod has 3 dimensions"
   ]
  },
  {
   "cell_type": "markdown",
   "metadata": {},
   "source": [
    "The same result could have been obtained directly using the expression `⍴⍴ Prod`:"
   ]
  },
  {
   "cell_type": "code",
   "execution_count": 50,
   "metadata": {},
   "outputs": [
    {
     "data": {
      "text/html": [
       "<span style=\"white-space:pre; font-family: monospace\">3\n",
       "</span>"
      ]
     },
     "execution_count": 50,
     "metadata": {},
     "output_type": "execute_result"
    }
   ],
   "source": [
    "⍴⍴ Prod"
   ]
  },
  {
   "cell_type": "markdown",
   "metadata": {},
   "source": [
    "`Prod` has $3$ dimensions; we say that its ***Rank*** is $3$, or that it is organised along $3$ criteria which are: Years / Lines / Months."
   ]
  },
  {
   "cell_type": "code",
   "execution_count": 51,
   "metadata": {},
   "outputs": [
    {
     "data": {
      "text/html": [
       "<span style=\"white-space:pre; font-family: monospace\">2\n",
       "</span>"
      ]
     },
     "execution_count": 51,
     "metadata": {},
     "output_type": "execute_result"
    }
   ],
   "source": [
    "⍴⍴ Money"
   ]
  },
  {
   "cell_type": "markdown",
   "metadata": {},
   "source": [
    "`Money` has $2$ dimensions; we say that its ***Rank*** is $2$, or that it is organised along $2$ criteria which are: Months / Accounts.\n",
    "\n",
    "**Definition**: The ***Rank*** of an array is the number of its dimensions. It can be obtained using the expression `⍴⍴ Array`.\n",
    "\n",
    "### 3.2 Scaling Down the Ranks\n",
    "\n",
    "Using that formula, we can see that:\n",
    "\n",
    "|||||\n",
    "| :- | :- | :- | :- |\n",
    "| `Prod` | has a shape equal to | `5 2 12` | and its rank is equal to ............ `3` |\n",
    "| `Money` | has a shape equal to | `6 2` | and its rank is equal to ............ `2` |\n",
    "| `Years` | has a shape equal to | `4` | and its rank is equal to ............ `1` |\n",
    "\n",
    "It seems consistent that some array must exist which has a rank equal to ...... `0`.\n",
    "\n",
    "Such arrays are single items, like $1573$ or $36.29$ or the variable `Discount` used above."
   ]
  },
  {
   "cell_type": "code",
   "execution_count": 52,
   "metadata": {},
   "outputs": [
    {
     "data": {
      "text/html": [
       "<span style=\"white-space:pre; font-family: monospace\">0\n",
       "</span>"
      ]
     },
     "execution_count": 52,
     "metadata": {},
     "output_type": "execute_result"
    }
   ],
   "source": [
    "⍴⍴ Discount    ⍝ A single number has no dimensions."
   ]
  },
  {
   "cell_type": "code",
   "execution_count": 53,
   "metadata": {},
   "outputs": [
    {
     "data": {
      "text/html": [
       "<span style=\"white-space:pre; font-family: monospace\">0\n",
       "</span>"
      ]
     },
     "execution_count": 53,
     "metadata": {},
     "output_type": "execute_result"
    }
   ],
   "source": [
    "⍴⍴ 36.29"
   ]
  },
  {
   "cell_type": "markdown",
   "metadata": {},
   "source": [
    "We needed $3$ numbers to express the shape of `Prod`, $2$ numbers to express the shape of `Money`, and only $1$ number to express the shape of `Years`... hence to express the shape of `1573` or `Discount`, we need **no** numbers:"
   ]
  },
  {
   "cell_type": "code",
   "execution_count": 54,
   "metadata": {},
   "outputs": [
    {
     "data": {
      "text/html": [
       "<span style=\"white-space:pre; font-family: monospace\">\n",
       "</span>"
      ]
     },
     "execution_count": 54,
     "metadata": {},
     "output_type": "execute_result"
    }
   ],
   "source": [
    "⍴ 1573        ⍝ The answer displays as a blank line: the shape of\n",
    "              ⍝ a single number is an empty array (0 items)"
   ]
  },
  {
   "cell_type": "code",
   "execution_count": 55,
   "metadata": {},
   "outputs": [
    {
     "data": {
      "text/html": [
       "<span style=\"white-space:pre; font-family: monospace\">\n",
       "</span>"
      ]
     },
     "execution_count": 55,
     "metadata": {},
     "output_type": "execute_result"
    }
   ],
   "source": [
    "⍴ Discount    ⍝ Ditto"
   ]
  },
  {
   "cell_type": "markdown",
   "metadata": {},
   "source": [
    "### 3.3 Vocabulary\n",
    "\n",
    "In this book, we shall use the following terms:\n",
    "\n",
    "| | | | |\n",
    "| :- | :- | :- | :- |\n",
    "| ***Array*** | is a generic word for any sequence of items (possibly containing a single item, or no items at all) | | |\n",
    "| ***Scalar*** | is a single item like | `Discount` | its rank is $0$ |\n",
    "| ***Vector*** | is a list of items like | `Years` | its rank is $1$ |\n",
    "| ***Matrix*** | is an array of rank $2$ like | `Money` | its rank is $2$ |\n",
    "| ***Table*** | is a common name for a matrix | | |\n",
    "| ***Cube*** | is a common name for $3$-D arrays like | `Prod` | its rank is $3$ |\n",
    "\n",
    "### 3.4 Beware!\n",
    "\n",
    "#### 3.4.1 - The Shape is Always a Vector\n",
    "\n",
    "The shape of a value is **always** a vector, even if it contains only one item or even no items at all."
   ]
  },
  {
   "cell_type": "code",
   "execution_count": 56,
   "metadata": {},
   "outputs": [
    {
     "data": {
      "text/html": [
       "<span style=\"white-space:pre; font-family: monospace\">4\n",
       "</span>"
      ]
     },
     "execution_count": 56,
     "metadata": {},
     "output_type": "execute_result"
    }
   ],
   "source": [
    "Shape ← ⍴Years\n",
    "Shape            ⍝ It looks like a scalar."
   ]
  },
  {
   "cell_type": "code",
   "execution_count": 57,
   "metadata": {},
   "outputs": [
    {
     "data": {
      "text/html": [
       "<span style=\"white-space:pre; font-family: monospace\">1\n",
       "</span>"
      ]
     },
     "execution_count": 57,
     "metadata": {},
     "output_type": "execute_result"
    }
   ],
   "source": [
    "⍴⍴ Shape         ⍝ But it is of rank 1, so it is a vector."
   ]
  },
  {
   "cell_type": "code",
   "execution_count": 58,
   "metadata": {},
   "outputs": [
    {
     "data": {
      "text/html": [
       "<span style=\"white-space:pre; font-family: monospace\">1\n",
       "</span>"
      ]
     },
     "execution_count": 58,
     "metadata": {},
     "output_type": "execute_result"
    }
   ],
   "source": [
    "⍴ Shape          ⍝ It is a vector with only one item."
   ]
  },
  {
   "cell_type": "markdown",
   "metadata": {},
   "source": [
    "#### 3.4.2 - Do Not Rely on the Visual Aspect of a Variable\n",
    "\n",
    "Although scalars, vectors, and matrices may sometimes look the same when they are displayed, they should not be confused. Consider, for example, the following vector `V` and matrix `M`:"
   ]
  },
  {
   "cell_type": "code",
   "execution_count": 59,
   "metadata": {},
   "outputs": [],
   "source": [
    "V ← 87 65 21 40\n",
    "M ← 1 4 ⍴ 87 65 21 40"
   ]
  },
  {
   "cell_type": "markdown",
   "metadata": {},
   "source": [
    "If we display their values, they look exactly the same:"
   ]
  },
  {
   "cell_type": "code",
   "execution_count": 60,
   "metadata": {},
   "outputs": [
    {
     "data": {
      "text/html": [
       "<span style=\"white-space:pre; font-family: monospace\">87 65 21 40\n",
       "</span>"
      ]
     },
     "execution_count": 60,
     "metadata": {},
     "output_type": "execute_result"
    }
   ],
   "source": [
    "V"
   ]
  },
  {
   "cell_type": "code",
   "execution_count": 61,
   "metadata": {},
   "outputs": [
    {
     "data": {
      "text/html": [
       "<span style=\"white-space:pre; font-family: monospace\">87 65 21 40\n",
       "</span>"
      ]
     },
     "execution_count": 61,
     "metadata": {},
     "output_type": "execute_result"
    }
   ],
   "source": [
    "M"
   ]
  },
  {
   "cell_type": "markdown",
   "metadata": {},
   "source": [
    "But they cannot be easily added or multiplied together:"
   ]
  },
  {
   "cell_type": "code",
   "execution_count": 62,
   "metadata": {},
   "outputs": [
    {
     "name": "stderr",
     "output_type": "stream",
     "text": [
      "RANK ERROR: Mismatched left and right argument ranks\n",
      "      V+M\n",
      "       ∧\n"
     ]
    }
   ],
   "source": [
    "V + M"
   ]
  },
  {
   "cell_type": "markdown",
   "metadata": {},
   "source": [
    "Similarly, a scalar should not be confused with a $1$-item vector or a $1$-item matrix, or with any $1$-item multi-dimensional array for that matter. The scalar has a rank of $0$ whereas the vector has rank $1$:"
   ]
  },
  {
   "cell_type": "code",
   "execution_count": 63,
   "metadata": {},
   "outputs": [],
   "source": [
    "S ←   456        ⍝ Create a scalar.\n",
    "V ← 1⍴456        ⍝ Create a one-item vector."
   ]
  },
  {
   "cell_type": "code",
   "execution_count": 64,
   "metadata": {},
   "outputs": [
    {
     "data": {
      "text/html": [
       "<span style=\"white-space:pre; font-family: monospace\">456\n",
       "</span>"
      ]
     },
     "execution_count": 64,
     "metadata": {},
     "output_type": "execute_result"
    }
   ],
   "source": [
    "S                ⍝ If displayed, they look the same:"
   ]
  },
  {
   "cell_type": "code",
   "execution_count": 65,
   "metadata": {},
   "outputs": [
    {
     "data": {
      "text/html": [
       "<span style=\"white-space:pre; font-family: monospace\">456\n",
       "</span>"
      ]
     },
     "execution_count": 65,
     "metadata": {},
     "output_type": "execute_result"
    }
   ],
   "source": [
    "V"
   ]
  },
  {
   "cell_type": "code",
   "execution_count": 66,
   "metadata": {},
   "outputs": [
    {
     "data": {
      "text/html": [
       "<span style=\"white-space:pre; font-family: monospace\">0\n",
       "</span>"
      ]
     },
     "execution_count": 66,
     "metadata": {},
     "output_type": "execute_result"
    }
   ],
   "source": [
    "⍴⍴S              ⍝ But their ranks are different; the two variables\n",
    "                 ⍝ should not be confused."
   ]
  },
  {
   "cell_type": "code",
   "execution_count": 67,
   "metadata": {},
   "outputs": [
    {
     "data": {
      "text/html": [
       "<span style=\"white-space:pre; font-family: monospace\">1\n",
       "</span>"
      ]
     },
     "execution_count": 67,
     "metadata": {},
     "output_type": "execute_result"
    }
   ],
   "source": [
    "⍴⍴V"
   ]
  },
  {
   "cell_type": "markdown",
   "metadata": {},
   "source": [
    "#### 3.4.3 - Displaying Long Vectors\n",
    "\n",
    "If a vector is too long to be displayed in a single line on your screen, the Dyalog session will wrap it onto several lines. But to prevent possible confusion with the display of a matrix, the second line and the following lines will not be aligned at the left margin, but will be indented $6$ characters to the right. In these Jupyter notebooks the output gets hidden and a horizontal scroll bar is provided. For example:"
   ]
  },
  {
   "cell_type": "code",
   "execution_count": 68,
   "metadata": {},
   "outputs": [
    {
     "data": {
      "text/html": [
       "<span style=\"white-space:pre; font-family: monospace\">446.19 231.12 253.59 115.56 262.15 271.78 1.07 180.83 166.92 318.86 240.75 44.94 240.75 90.95 317.79 285.69 4.28 368.08 29\n",
       "\n",
       "      5.32 379.85 324.21 77.04 77.04 415.16 447.26 33.17 415.16 285.69 202.23 126.26 180.83 81.32 134.82 261.08 343.47 157\n",
       "\n",
       "      .29 335.98\n",
       "</span>"
      ]
     },
     "execution_count": 68,
     "metadata": {},
     "output_type": "execute_result"
    }
   ],
   "source": [
    "Bignum"
   ]
  },
  {
   "cell_type": "markdown",
   "metadata": {},
   "source": [
    "## 4 - Simple Character Values\n",
    "\n",
    "### 4.1 Character Vectors and Scalars\n",
    "\n",
    "Up to now, we have used only numeric values, but we can also create textual data known as a *character array*. To identify a string of characters as text, we start and end it with a single ***Quote***:"
   ]
  },
  {
   "cell_type": "code",
   "execution_count": 69,
   "metadata": {},
   "outputs": [
    {
     "data": {
      "text/html": [
       "<span style=\"white-space:pre; font-family: monospace\">Today is August 7th, 2020\n",
       "</span>"
      ]
     },
     "execution_count": 69,
     "metadata": {},
     "output_type": "execute_result"
    }
   ],
   "source": [
    "Text ← 'Today is August 7th, 2020'\n",
    "Text"
   ]
  },
  {
   "cell_type": "code",
   "execution_count": 70,
   "metadata": {},
   "outputs": [
    {
     "data": {
      "text/html": [
       "<span style=\"white-space:pre; font-family: monospace\">25\n",
       "</span>"
      ]
     },
     "execution_count": 70,
     "metadata": {},
     "output_type": "execute_result"
    }
   ],
   "source": [
    "⍴Text"
   ]
  },
  {
   "cell_type": "code",
   "execution_count": 71,
   "metadata": {},
   "outputs": [
    {
     "data": {
      "text/html": [
       "<span style=\"white-space:pre; font-family: monospace\">I type 7 trailing blanks       \n",
       "</span>"
      ]
     },
     "execution_count": 71,
     "metadata": {},
     "output_type": "execute_result"
    }
   ],
   "source": [
    "Trailer ← 'I type 7 trailing blanks       '\n",
    "Trailer"
   ]
  },
  {
   "cell_type": "code",
   "execution_count": 72,
   "metadata": {},
   "outputs": [
    {
     "data": {
      "text/html": [
       "<span style=\"white-space:pre; font-family: monospace\">31\n",
       "</span>"
      ]
     },
     "execution_count": 72,
     "metadata": {},
     "output_type": "execute_result"
    }
   ],
   "source": [
    "⍴Trailer"
   ]
  },
  {
   "cell_type": "markdown",
   "metadata": {},
   "source": [
    "As these examples show:\n",
    "\n",
    " - The quotes are **not** part of the text, they're just there to delimit it.\n",
    " - Text can include any character: letters, digits and punctuation.\n",
    " - So, `Text` and `Trailer` are vectors. They are sometimes called *Strings*.\n",
    " - APL does not recognize words; a character array is simple a set of characters.\n",
    " - Blank characters (spaces) are characters like any other characters; they do not have any special meaning. However, when a character array is displayed any trailing blanks are most often invisible.\n",
    " \n",
    "A problem may occur when the text itself includes an apostrophe, for example in a sentence like \"*It's raining, isn't it?\".\n",
    "\n",
    "When you enter apostrophes as part of the text, you must double them, as shown below, to distinguish them from the delimiters:"
   ]
  },
  {
   "cell_type": "code",
   "execution_count": 73,
   "metadata": {},
   "outputs": [],
   "source": [
    "Damned ← 'It''s raining, isn''t it?'"
   ]
  },
  {
   "cell_type": "markdown",
   "metadata": {},
   "source": [
    "This is only a typing convention, but the doubled quotes are transformed into a single apostrophe, as you can see here:"
   ]
  },
  {
   "cell_type": "code",
   "execution_count": 74,
   "metadata": {},
   "outputs": [
    {
     "data": {
      "text/html": [
       "<span style=\"white-space:pre; font-family: monospace\">It's raining, isn't it?\n",
       "</span>"
      ]
     },
     "execution_count": 74,
     "metadata": {},
     "output_type": "execute_result"
    }
   ],
   "source": [
    "Damned        ⍝ The vector's size is equato to 23."
   ]
  },
  {
   "cell_type": "markdown",
   "metadata": {},
   "source": [
    "As mentioned above a character array can contain digits, but they are not considered to be numbers, and it is impossible to use them in a mathematical operation:"
   ]
  },
  {
   "cell_type": "code",
   "execution_count": 75,
   "metadata": {},
   "outputs": [
    {
     "data": {
      "text/html": [
       "<span style=\"white-space:pre; font-family: monospace\">100\n",
       "</span>"
      ]
     },
     "execution_count": 75,
     "metadata": {},
     "output_type": "execute_result"
    }
   ],
   "source": [
    "Hundred ← '100'\n",
    "Hundred            ⍝ It looks like a number."
   ]
  },
  {
   "cell_type": "code",
   "execution_count": 76,
   "metadata": {},
   "outputs": [
    {
     "data": {
      "text/html": [
       "<span style=\"white-space:pre; font-family: monospace\">3\n",
       "</span>"
      ]
     },
     "execution_count": 76,
     "metadata": {},
     "output_type": "execute_result"
    }
   ],
   "source": [
    "⍴Hundred           ⍝ But it isn't."
   ]
  },
  {
   "cell_type": "code",
   "execution_count": 77,
   "metadata": {},
   "outputs": [
    {
     "name": "stderr",
     "output_type": "stream",
     "text": [
      "DOMAIN ERROR\n",
      "      Hundred+5\n",
      "             ∧\n"
     ]
    }
   ],
   "source": [
    "Hundred + 5"
   ]
  },
  {
   "cell_type": "markdown",
   "metadata": {},
   "source": [
    "Of course, a single character is a scalar:"
   ]
  },
  {
   "cell_type": "code",
   "execution_count": 78,
   "metadata": {},
   "outputs": [
    {
     "data": {
      "text/html": [
       "<span style=\"white-space:pre; font-family: monospace\">\n",
       "</span>"
      ]
     },
     "execution_count": 78,
     "metadata": {},
     "output_type": "execute_result"
    }
   ],
   "source": [
    "Singleton ← 'p'\n",
    "⍴Singleton        ⍝ Do you remember? Scalars have no dimensions."
   ]
  },
  {
   "cell_type": "code",
   "execution_count": 79,
   "metadata": {},
   "outputs": [
    {
     "data": {
      "text/html": [
       "<span style=\"white-space:pre; font-family: monospace\">0\n",
       "</span>"
      ]
     },
     "execution_count": 79,
     "metadata": {},
     "output_type": "execute_result"
    }
   ],
   "source": [
    "⍴⍴Singleton       ⍝ Yes, it is definitely a scalar."
   ]
  },
  {
   "cell_type": "markdown",
   "metadata": {},
   "source": [
    "### 4.2 Character Arrays\n",
    "\n",
    "We say, some pages ago, a list of months:\n",
    "\n",
    "```\n",
    "January\n",
    "February\n",
    "March\n",
    "April\n",
    "May\n",
    "June\n",
    "```\n",
    "\n",
    "We can think of this as a list of $6$ words, or as a matrix of $6$ rows and $8$ columns (the width of \"February\"). Both representations are valid, and both can be used in APL; let us study them one after the other.\n",
    "\n",
    "To enter the months as a $6$ by $8$ matrix, one must use the *Reshape* (`⍴`) function:\n",
    "\n",
    " - To the left of the function we must specify the shape of the matrix we want to build: `6 8`\n",
    " - To the right of the function we must specify all of the characters (including any trailing blanks) that are necessary to fill each row to the proper length:"
   ]
  },
  {
   "cell_type": "code",
   "execution_count": 80,
   "metadata": {},
   "outputs": [],
   "source": [
    "MonMat ← 6 8 ⍴ 'January FebruaryMarch   April   May     June'"
   ]
  },
  {
   "cell_type": "markdown",
   "metadata": {},
   "source": [
    "No space was typed between `February` and `March`; do you see why?"
   ]
  },
  {
   "cell_type": "code",
   "execution_count": 81,
   "metadata": {},
   "outputs": [
    {
     "data": {
      "text/html": [
       "<span style=\"white-space:pre; font-family: monospace\">January \n",
       "February\n",
       "March   \n",
       "April   \n",
       "May     \n",
       "JuneJanu\n",
       "</span>"
      ]
     },
     "execution_count": 81,
     "metadata": {},
     "output_type": "execute_result"
    }
   ],
   "source": [
    "MonMat        ⍝ Now, let us see the result."
   ]
  },
  {
   "cell_type": "markdown",
   "metadata": {},
   "source": [
    "Oops! We forgot that when the right argument is too short, `⍴` reuses it from the beginning. That's the reason why the last row is wrong. We must add $4$ trailing blanks.\n",
    "\n",
    "###### Facility\n",
    "\n",
    "You do not have to re-type the entire expression.\n",
    "\n",
    "If you are working in the Dyalog interpreter session, just move your cursor up to the line where you defined `MonMat`, add the missing blanks, and press the *Enter* key.\n",
    "\n",
    "APL will then copy the modified line down to the end of your session and automatically restore the original line to its original state. As a consequence, the session window always displays the sequence of expressions and results in the order in which you typed them.\n",
    "\n",
    "If you are working with the Jupyter notebook version of this book, you can just go to the input cell where you made your mistake and correct it in place. Otherwise, just copy the cell and correct the mistake in the copy:"
   ]
  },
  {
   "cell_type": "code",
   "execution_count": 82,
   "metadata": {},
   "outputs": [
    {
     "data": {
      "text/html": [
       "<span style=\"white-space:pre; font-family: monospace\">January \n",
       "February\n",
       "March   \n",
       "April   \n",
       "May     \n",
       "June    \n",
       "</span>"
      ]
     },
     "execution_count": 82,
     "metadata": {},
     "output_type": "execute_result"
    }
   ],
   "source": [
    "MonMat ← 6 8 ⍴ 'January FebruaryMarch   April   May     June    '\n",
    "MonMat        ⍝ That's right now!"
   ]
  },
  {
   "cell_type": "code",
   "execution_count": 83,
   "metadata": {},
   "outputs": [
    {
     "data": {
      "text/html": [
       "<span style=\"white-space:pre; font-family: monospace\">6 8\n",
       "</span>"
      ]
     },
     "execution_count": 83,
     "metadata": {},
     "output_type": "execute_result"
    }
   ],
   "source": [
    "⍴MonMat       ⍝ As expected, it is a matrix."
   ]
  },
  {
   "cell_type": "markdown",
   "metadata": {},
   "source": [
    "Now, to enter the months as $6$ words, one must type each word between quotes, and check that each closing quote is separated from the next opening quote by at least one blank (otherwise it would be interpreted as an apostrophe - remember, the juxtaposition of two quotes in a character string is used to enter a single quote):"
   ]
  },
  {
   "cell_type": "code",
   "execution_count": 84,
   "metadata": {},
   "outputs": [
    {
     "data": {
      "text/html": [
       "<span style=\"white-space:pre; font-family: monospace\">┌───────┬────────┬─────┬─────┬───┬────┐\n",
       "│January│February│March│April│May│June│\n",
       "└───────┴────────┴─────┴─────┴───┴────┘\n",
       "</span>"
      ]
     },
     "execution_count": 84,
     "metadata": {},
     "output_type": "execute_result"
    }
   ],
   "source": [
    "MonVec ← 'January' 'February' 'March' 'April' 'May' 'June'\n",
    "MonVec"
   ]
  },
  {
   "cell_type": "code",
   "execution_count": 85,
   "metadata": {},
   "outputs": [
    {
     "data": {
      "text/html": [
       "<span style=\"white-space:pre; font-family: monospace\">6\n",
       "</span>"
      ]
     },
     "execution_count": 85,
     "metadata": {},
     "output_type": "execute_result"
    }
   ],
   "source": [
    "⍴MonVec        ⍝ It is a vector."
   ]
  },
  {
   "cell_type": "markdown",
   "metadata": {},
   "source": [
    "`MonVec` is a vector of a kind that we have not seen before, the items of which are $6$ sub-arrays. This kind of an array is called a ***Nested Array*** and is the reason why we see those black boxes around the months.\n",
    "\n",
    "Be patient! We shall study nested arrays very soon in this very chapter.\n",
    "\n",
    "## 5 - Indexing\n",
    "\n",
    "### 5.1 Traditional Vector Indexing\n",
    "\n",
    "Our variable `Contents` contains the following items:"
   ]
  },
  {
   "cell_type": "code",
   "execution_count": 86,
   "metadata": {},
   "outputs": [
    {
     "data": {
      "text/html": [
       "<span style=\"white-space:pre; font-family: monospace\">12 56 78 74 85 96 30 22 44 66 82 27\n",
       "</span>"
      ]
     },
     "execution_count": 86,
     "metadata": {},
     "output_type": "execute_result"
    }
   ],
   "source": [
    "Contents"
   ]
  },
  {
   "cell_type": "markdown",
   "metadata": {},
   "source": [
    "To extract one of these items, you just have to specify its position, or ***Index***, between ***Square brackets***:"
   ]
  },
  {
   "cell_type": "code",
   "execution_count": 87,
   "metadata": {},
   "outputs": [
    {
     "data": {
      "text/html": [
       "<span style=\"white-space:pre; font-family: monospace\">78\n",
       "</span>"
      ]
     },
     "execution_count": 87,
     "metadata": {},
     "output_type": "execute_result"
    }
   ],
   "source": [
    "Contents[3]"
   ]
  },
  {
   "cell_type": "markdown",
   "metadata": {},
   "source": [
    "In some languages, programmers use parentheses instead of brackets, but parentheses have many other different uses. In APL, parentheses have one and only one use, namely to specify the order of evaluation of a complex expression. In this respect, the use of square brackets for indexing makes APL more rigorous.\n",
    "\n",
    "Of course, an index must follow some obvious rules: it must be an integer numeric value; it may not be negative or greater than the size of the vector. Otherwise, an \"`INDEX ERROR`\" will be reported.\n",
    "\n",
    "It is possible to extract several items in a single operation, and in any order:"
   ]
  },
  {
   "cell_type": "code",
   "execution_count": 88,
   "metadata": {},
   "outputs": [
    {
     "data": {
      "text/html": [
       "<span style=\"white-space:pre; font-family: monospace\">78 30 12 78 78 27\n",
       "</span>"
      ]
     },
     "execution_count": 88,
     "metadata": {},
     "output_type": "execute_result"
    }
   ],
   "source": [
    "Contents[3 7 1 3 3 12]        ⍝ You can see that an item can be selected\n",
    "                              ⍝ more than once."
   ]
  },
  {
   "cell_type": "markdown",
   "metadata": {},
   "source": [
    "The same notation allows you to modify one or more items of the vector. The only condition is that you must provide as many replacement values as the number of items you select, or give a single replacement value to use for all the selected items:"
   ]
  },
  {
   "cell_type": "code",
   "execution_count": 89,
   "metadata": {},
   "outputs": [
    {
     "data": {
      "text/html": [
       "<span style=\"white-space:pre; font-family: monospace\">12 7 78 11 85 80 30 22 44 66 82 27\n",
       "</span>"
      ]
     },
     "execution_count": 89,
     "metadata": {},
     "output_type": "execute_result"
    }
   ],
   "source": [
    "Contents[2 4 6] ← 7 11 80     ⍝ Three values replace three items.\n",
    "Contents"
   ]
  },
  {
   "cell_type": "code",
   "execution_count": 90,
   "metadata": {},
   "outputs": [
    {
     "data": {
      "text/html": [
       "<span style=\"white-space:pre; font-family: monospace\">12 7 78 11 85 80 30 33 44 66 33 33\n",
       "</span>"
      ]
     },
     "execution_count": 90,
     "metadata": {},
     "output_type": "execute_result"
    }
   ],
   "source": [
    "Contents[8 11 12] ← 33        ⍝ One single value replaces three items.\n",
    "Contents"
   ]
  },
  {
   "cell_type": "markdown",
   "metadata": {},
   "source": [
    "This works exactly the same on character vectors:"
   ]
  },
  {
   "cell_type": "code",
   "execution_count": 91,
   "metadata": {},
   "outputs": [
    {
     "data": {
      "text/html": [
       "<span style=\"white-space:pre; font-family: monospace\">REPORT\n",
       "</span>"
      ]
     },
     "execution_count": 91,
     "metadata": {},
     "output_type": "execute_result"
    }
   ],
   "source": [
    "'COMPUTER'[8 7 4 2 8 6]"
   ]
  },
  {
   "cell_type": "code",
   "execution_count": 92,
   "metadata": {},
   "outputs": [
    {
     "data": {
      "text/html": [
       "<span style=\"white-space:pre; font-family: monospace\">BLEND\n",
       "</span>"
      ]
     },
     "execution_count": 92,
     "metadata": {},
     "output_type": "execute_result"
    }
   ],
   "source": [
    "Text ← 'BREAD'\n",
    "Text[2 4] ← 'LN'\n",
    "Text"
   ]
  },
  {
   "cell_type": "markdown",
   "metadata": {},
   "source": [
    "### 5.2 The Shape of the Result\n",
    "\n",
    "The index may be a numeric array of any shape: scalar, vector, matrix, or an array of higher rank. To understand what happens, there is a simple rule:\n",
    "\n",
    "<br />\n",
    "<center>When a vector is indexed by an array, the result has exactly the <b><i>same shape</i></b> as the index array, as if each item of the index had been replaced by the item it designates.</center>\n",
    "\n",
    "This rule is easy to verify. Let us restore the initial values of `Contents`:"
   ]
  },
  {
   "cell_type": "code",
   "execution_count": 93,
   "metadata": {},
   "outputs": [],
   "source": [
    "Contents ← 12 56 78 74 85 96 30 22 44 66 82 27"
   ]
  },
  {
   "cell_type": "markdown",
   "metadata": {},
   "source": [
    "And let us create a matrix of indices:"
   ]
  },
  {
   "cell_type": "code",
   "execution_count": 94,
   "metadata": {},
   "outputs": [
    {
     "data": {
      "text/html": [
       "<span style=\"white-space:pre; font-family: monospace\"> 5  5 4  4  8\n",
       " 6 12 6 11 12\n",
       "10  6 1  4  9\n",
       "</span>"
      ]
     },
     "execution_count": 94,
     "metadata": {},
     "output_type": "execute_result"
    }
   ],
   "source": [
    "MyIndex ← 3 5 ⍴ 5 5 4 4 8 6 12 6 11 12 10 6 1 4 9\n",
    "MyIndex"
   ]
  },
  {
   "cell_type": "code",
   "execution_count": 95,
   "metadata": {},
   "outputs": [
    {
     "data": {
      "text/html": [
       "<span style=\"white-space:pre; font-family: monospace\">85 85 74 74 22\n",
       "96 27 96 82 27\n",
       "66 96 12 74 44\n",
       "</span>"
      ]
     },
     "execution_count": 95,
     "metadata": {},
     "output_type": "execute_result"
    }
   ],
   "source": [
    "Contents[MyIndex]    ⍝ For example you can see that the index in row 2\n",
    "                     ⍝ column 5 was 12. So, it has been replaced by\n",
    "                     ⍝ the 12th item of Contents, i.e. 27."
   ]
  },
  {
   "cell_type": "markdown",
   "metadata": {},
   "source": [
    "The rule remains true if the indexed vector is a character vector. For example, imagine that we have a matrix named `Planning`, in which some tasks are planned ($1$) or not ($0$) over the next $12$ months:"
   ]
  },
  {
   "cell_type": "code",
   "execution_count": 96,
   "metadata": {},
   "outputs": [
    {
     "data": {
      "text/html": [
       "<span style=\"white-space:pre; font-family: monospace\">0 0 0 1 1 1 1 1 1 0 0 0\n",
       "1 1 1 1 1 1 1 1 0 0 0 0\n",
       "0 1 1 1 0 0 0 0 0 1 1 1\n",
       "0 0 0 0 0 0 0 1 1 1 1 1\n",
       "0 0 1 1 1 1 1 0 0 0 0 0\n",
       "</span>"
      ]
     },
     "execution_count": 96,
     "metadata": {},
     "output_type": "execute_result"
    }
   ],
   "source": [
    "Planning        ⍝ This is not very easy to interpret!"
   ]
  },
  {
   "cell_type": "markdown",
   "metadata": {},
   "source": [
    "Let us replace the inactive periods by \"`-`\", and the busy periods by \"`⎕`\". This beautiful character, named ***Quad***, can be entered by pressing *Ctrl*+L."
   ]
  },
  {
   "cell_type": "code",
   "execution_count": 97,
   "metadata": {},
   "outputs": [
    {
     "data": {
      "text/html": [
       "<span style=\"white-space:pre; font-family: monospace\">---⎕⎕⎕⎕⎕⎕---\n",
       "⎕⎕⎕⎕⎕⎕⎕⎕----\n",
       "-⎕⎕⎕-----⎕⎕⎕\n",
       "-------⎕⎕⎕⎕⎕\n",
       "--⎕⎕⎕⎕⎕-----\n",
       "</span>"
      ]
     },
     "execution_count": 97,
     "metadata": {},
     "output_type": "execute_result"
    }
   ],
   "source": [
    "'-⎕'[Planning+1]        ⍝ Do you understand why we added 1?\n",
    "                        ⍝ And doesn't this look good?"
   ]
  },
  {
   "cell_type": "markdown",
   "metadata": {},
   "source": [
    "Of course, the vector to be indexed was composed of only two characters, so the set of indices had to be composed only from the values $1$ and $2$. This is the reason why we added $1$ to `Planning`.\n",
    "\n",
    "All the $0$'s in `Planning` have been replaced by the $1^\\text{st}$ item (`-`), and all the $1$'s have been replaced by the $2^\\text{nd}$ item (`⎕`).\n",
    "\n",
    "### 5.3 Array Indexing\n",
    "\n",
    "Just to make some experiments, let us create a new variable, named `Tests`:"
   ]
  },
  {
   "cell_type": "code",
   "execution_count": 98,
   "metadata": {},
   "outputs": [
    {
     "data": {
      "text/html": [
       "<span style=\"white-space:pre; font-family: monospace\">41 26 38\n",
       "14 87 52\n",
       "30 28 19\n",
       "65 40 55\n",
       "19 31 64\n",
       "45 82 74\n",
       "</span>"
      ]
     },
     "execution_count": 98,
     "metadata": {},
     "output_type": "execute_result"
    }
   ],
   "source": [
    "Tests"
   ]
  },
  {
   "cell_type": "markdown",
   "metadata": {},
   "source": [
    "Indexing an array is very similar to the method we say for vectors, but we now need one index for the row and one for the column; they must be separated by a ***Semi-colon***. For example, to get (or replace) the value $55$ in row $4$, column $3$, one types:"
   ]
  },
  {
   "cell_type": "code",
   "execution_count": 99,
   "metadata": {},
   "outputs": [
    {
     "data": {
      "text/html": [
       "<span style=\"white-space:pre; font-family: monospace\">55\n",
       "</span>"
      ]
     },
     "execution_count": 99,
     "metadata": {},
     "output_type": "execute_result"
    }
   ],
   "source": [
    "Tests[4;3]"
   ]
  },
  {
   "cell_type": "markdown",
   "metadata": {},
   "source": [
    "It is of course possible to select more than one row and more than one column. If so, one obtains all the values situated at the intersections of the specified rows and columns."
   ]
  },
  {
   "cell_type": "code",
   "execution_count": 100,
   "metadata": {},
   "outputs": [
    {
     "data": {
      "text/html": [
       "<span style=\"white-space:pre; font-family: monospace\">41 38\n",
       "19 64\n",
       "45 74\n",
       "</span>"
      ]
     },
     "execution_count": 100,
     "metadata": {},
     "output_type": "execute_result"
    }
   ],
   "source": [
    "Tests[1 5 6;1 3]"
   ]
  },
  {
   "cell_type": "markdown",
   "metadata": {},
   "source": [
    "The result of indexing may sometimes be surprising. Let us extract $4$ values from the first column:"
   ]
  },
  {
   "cell_type": "code",
   "execution_count": 101,
   "metadata": {},
   "outputs": [
    {
     "data": {
      "text/html": [
       "<span style=\"white-space:pre; font-family: monospace\">41 14 19 45\n",
       "</span>"
      ]
     },
     "execution_count": 101,
     "metadata": {},
     "output_type": "execute_result"
    }
   ],
   "source": [
    "Tests[1 2 5 6;1]"
   ]
  },
  {
   "cell_type": "markdown",
   "metadata": {},
   "source": [
    "You probably expected the result to be displayed like a column? Really sorry!\n",
    "\n",
    "The result of this expression is a vector, and a vector is always displayed as a row on the screen.\n",
    "\n",
    "We shall see later that it is possible, using a little trick, to cause the result to be displayed vertically.\n",
    "\n",
    "When you use indexing, you must specify as many indices or sets of indices as the array's rank. For a $3$-D array, you must specify $3$ sets of indices, separated by two semi-colons.\n",
    "\n",
    "For example, suppose that we would like to extract the production of the $2^\\text{nd}$ assembly line, for the first $6$ months of the last two years, from the array `Prod`. Let's express that in order of the $3$ dimensions: Years/Lines/Months:\n",
    "\n",
    "|||\n",
    "|:-|:-|\n",
    "| The last two years are in positions | $4\\ 5$ |\n",
    "| The second assembly line | $2$ |\n",
    "| The first $6$ months | $1\\ 2\\ 3\\ 4\\ 5\\ 6$ |"
   ]
  },
  {
   "cell_type": "code",
   "execution_count": 102,
   "metadata": {},
   "outputs": [
    {
     "data": {
      "text/html": [
       "<span style=\"white-space:pre; font-family: monospace\">16 55 26 20 27 55\n",
       "24 35 61 26 22 35\n",
       "</span>"
      ]
     },
     "execution_count": 102,
     "metadata": {},
     "output_type": "execute_result"
    }
   ],
   "source": [
    "Prod[4 5;2;1 2 3 4 5 6]    ⍝ The result is a matrix: 2 years/6 months"
   ]
  },
  {
   "cell_type": "markdown",
   "metadata": {},
   "source": [
    "###### Remark 1\n",
    "\n",
    "Because we can select rows and columns, the semi-colon is necessary to tell them apart:"
   ]
  },
  {
   "cell_type": "code",
   "execution_count": 103,
   "metadata": {},
   "outputs": [
    {
     "data": {
      "text/html": [
       "<span style=\"white-space:pre; font-family: monospace\">38 52\n",
       "</span>"
      ]
     },
     "execution_count": 103,
     "metadata": {},
     "output_type": "execute_result"
    }
   ],
   "source": [
    "Tests[1 2;3]    ⍝ gives rows 1 and 2, column 3"
   ]
  },
  {
   "cell_type": "markdown",
   "metadata": {},
   "source": [
    "whereas"
   ]
  },
  {
   "cell_type": "code",
   "execution_count": 104,
   "metadata": {},
   "outputs": [
    {
     "data": {
      "text/html": [
       "<span style=\"white-space:pre; font-family: monospace\">26 38\n",
       "</span>"
      ]
     },
     "execution_count": 104,
     "metadata": {},
     "output_type": "execute_result"
    }
   ],
   "source": [
    "Tests[1;2 3]    ⍝ gives row 1, columns 2 and 3"
   ]
  },
  {
   "cell_type": "markdown",
   "metadata": {},
   "source": [
    "###### Remark 2\n",
    "\n",
    "It is also possible to select several items which are not at the intersections of the same rows or columns. To do so requires a special notation where the individual Row/Column indices of each item are embedded in parentheses. The reason for this syntax will become clear in Section 6.3.\n",
    "\n",
    "For example, let us select `Tests[2;3]` together with `Tests[5;1]` and `Tests[1;2`."
   ]
  },
  {
   "cell_type": "code",
   "execution_count": 105,
   "metadata": {},
   "outputs": [
    {
     "data": {
      "text/html": [
       "<span style=\"white-space:pre; font-family: monospace\">52 19 26\n",
       "</span>"
      ]
     },
     "execution_count": 105,
     "metadata": {},
     "output_type": "execute_result"
    }
   ],
   "source": [
    "Tests[(2 3)(5 1)(1 2)]"
   ]
  },
  {
   "cell_type": "markdown",
   "metadata": {},
   "source": [
    "### 5.4 Convention\n",
    "\n",
    "To specify *all* items of a dimension, you just omit the index for that dimension, but you must not omit the semi-colon attached to it.\n",
    "\n",
    "In the previous example, to obtain both assembly lines we could have typed:"
   ]
  },
  {
   "cell_type": "code",
   "execution_count": 106,
   "metadata": {},
   "outputs": [
    {
     "data": {
      "text/html": [
       "<span style=\"white-space:pre; font-family: monospace\">21 57 55 44 16 54\n",
       "16 55 26 20 27 55\n",
       "                 \n",
       "27 23 56 41 53 60\n",
       "24 35 61 26 22 35\n",
       "</span>"
      ]
     },
     "execution_count": 106,
     "metadata": {},
     "output_type": "execute_result"
    }
   ],
   "source": [
    "Prod[4 5;1 2;1 2 3 4 5 6]"
   ]
  },
  {
   "cell_type": "markdown",
   "metadata": {},
   "source": [
    "But it is shorter to type:"
   ]
  },
  {
   "cell_type": "code",
   "execution_count": 107,
   "metadata": {},
   "outputs": [
    {
     "data": {
      "text/html": [
       "<span style=\"white-space:pre; font-family: monospace\">21 57 55 44 16 54\n",
       "16 55 26 20 27 55\n",
       "                 \n",
       "27 23 56 41 53 60\n",
       "24 35 61 26 22 35\n",
       "</span>"
      ]
     },
     "execution_count": 107,
     "metadata": {},
     "output_type": "execute_result"
    }
   ],
   "source": [
    "Prod[4 5;;1 2 3 4 5 6]    ⍝ The omitted index means\n",
    "                          ⍝ \"All the assembly lines\"."
   ]
  },
  {
   "cell_type": "markdown",
   "metadata": {},
   "source": [
    "In the same way:"
   ]
  },
  {
   "cell_type": "code",
   "execution_count": 108,
   "metadata": {},
   "outputs": [
    {
     "data": {
      "text/html": [
       "<span style=\"white-space:pre; font-family: monospace\">16 55 26 20 27 55 36 39 43 38 50 16\n",
       "24 35 61 26 22 35 24 20 31 35 47 37\n",
       "</span>"
      ]
     },
     "execution_count": 108,
     "metadata": {},
     "output_type": "execute_result"
    }
   ],
   "source": [
    "Prod[4 5;2;]              ⍝ The omitted last index means\n",
    "                          ⍝ \"All the months\"."
   ]
  },
  {
   "cell_type": "markdown",
   "metadata": {},
   "source": [
    "And finally:"
   ]
  },
  {
   "cell_type": "code",
   "execution_count": 109,
   "metadata": {},
   "outputs": [
    {
     "data": {
      "text/html": [
       "<span style=\"white-space:pre; font-family: monospace\">26 16 22\n",
       "43 36 47\n",
       "        \n",
       "44 21 58\n",
       "29 19 23\n",
       "        \n",
       "37 27 53\n",
       "56 55 25\n",
       "        \n",
       "21 57 55\n",
       "16 55 26\n",
       "        \n",
       "27 23 56\n",
       "24 35 61\n",
       "</span>"
      ]
     },
     "execution_count": 109,
     "metadata": {},
     "output_type": "execute_result"
    }
   ],
   "source": [
    "Prod[;;1 2 3]             ⍝ The omitted indices mean\n",
    "                          ⍝ \"All years and lines\"."
   ]
  },
  {
   "cell_type": "markdown",
   "metadata": {},
   "source": [
    "This convention also applies to *replacing* specific items. For example, to change all the items in the last row of `Tests`, we could type:"
   ]
  },
  {
   "cell_type": "code",
   "execution_count": 110,
   "metadata": {},
   "outputs": [
    {
     "data": {
      "text/html": [
       "<span style=\"white-space:pre; font-family: monospace\">41 26 38\n",
       "14 87 52\n",
       "30 28 19\n",
       "65 40 55\n",
       "19 31 64\n",
       "60 70 80\n",
       "</span>"
      ]
     },
     "execution_count": 110,
     "metadata": {},
     "output_type": "execute_result"
    }
   ],
   "source": [
    "Tests[6;] ← 60 70 80\n",
    "Tests"
   ]
  },
  {
   "cell_type": "markdown",
   "metadata": {},
   "source": [
    "### 5.5 Warnings\n",
    "\n",
    "We would like to draw your attention to some selicate details. Here is the first:\n",
    "\n",
    "#### 5.5.1 - Shape Compatibility\n",
    "\n",
    "To replace several items in an array, the replacement array must have exactly the **same shape** as the array of indices they replace.\n",
    "\n",
    "For example, supposed that we would like to replace the four \"corners\" of `Tests` with the values $11\\ 22\\ 33\\ 44$ respectively.\n",
    "\n",
    "We **cannot** successfully execute:"
   ]
  },
  {
   "cell_type": "code",
   "execution_count": 111,
   "metadata": {},
   "outputs": [
    {
     "name": "stderr",
     "output_type": "stream",
     "text": [
      "LENGTH ERROR\n",
      "      Tests[1 6;1 3]←11 22 33 44\n",
      "           ∧\n"
     ]
    }
   ],
   "source": [
    "Tests[1 6;1 3] ← 11 22 33 44"
   ]
  },
  {
   "cell_type": "markdown",
   "metadata": {},
   "source": [
    "Notice the `LENGTH ERROR` that was issued (note that this is a \"**Shape** error\").\n",
    "\n",
    "If we had extracted these four values, the result would have been a $2$ by $2$ matrix:"
   ]
  },
  {
   "cell_type": "code",
   "execution_count": 112,
   "metadata": {},
   "outputs": [
    {
     "data": {
      "text/html": [
       "<span style=\"white-space:pre; font-family: monospace\">41 38\n",
       "60 80\n",
       "</span>"
      ]
     },
     "execution_count": 112,
     "metadata": {},
     "output_type": "execute_result"
    }
   ],
   "source": [
    "Tests[1 6;1 3]        ⍝ Remember: row 6 was modified above!"
   ]
  },
  {
   "cell_type": "markdown",
   "metadata": {},
   "source": [
    "So, to replace them, we cannot use a vector, as we have just tried to do. Instead we must organise the replacement array into a $2$ by $2$ matrix, like this:"
   ]
  },
  {
   "cell_type": "code",
   "execution_count": 113,
   "metadata": {},
   "outputs": [
    {
     "data": {
      "text/html": [
       "<span style=\"white-space:pre; font-family: monospace\">11 26 22\n",
       "14 87 52\n",
       "30 28 19\n",
       "65 40 55\n",
       "19 31 64\n",
       "33 70 44\n",
       "</span>"
      ]
     },
     "execution_count": 113,
     "metadata": {},
     "output_type": "execute_result"
    }
   ],
   "source": [
    "Tests[1 6;1 3] ← 2 2 ⍴ 11 22 33 44\n",
    "Tests        ⍝ Notice the corners have the new values."
   ]
  },
  {
   "cell_type": "markdown",
   "metadata": {},
   "source": [
    "#### 5.5.2 - Replace or Obtain All the Values\n",
    "\n",
    "To replace **all** of the values in an array with a single value, it is necessary to use brackes in which the indices of all the dimensions have been removed.\n",
    "\n",
    "For example, imagine that we would like to reset all the values of `Tests` to zero.\n",
    "\n",
    "`Tests ← 0` would be **wrong**, because that would replace the matrix by a scalar.\n",
    "\n",
    "The correct solution is"
   ]
  },
  {
   "cell_type": "code",
   "execution_count": 114,
   "metadata": {},
   "outputs": [
    {
     "data": {
      "text/html": [
       "<span style=\"white-space:pre; font-family: monospace\">0 0 0\n",
       "0 0 0\n",
       "0 0 0\n",
       "0 0 0\n",
       "0 0 0\n",
       "0 0 0\n",
       "</span>"
      ]
     },
     "execution_count": 114,
     "metadata": {},
     "output_type": "execute_result"
    }
   ],
   "source": [
    "Tests2 ← Tests\n",
    "Tests2[;] ← 0        ⍝ All the rows and columns are replaced by zero.\n",
    "Tests2"
   ]
  },
  {
   "cell_type": "markdown",
   "metadata": {},
   "source": [
    "For a vector, like `Contents`, we would write"
   ]
  },
  {
   "cell_type": "code",
   "execution_count": 115,
   "metadata": {},
   "outputs": [
    {
     "data": {
      "text/html": [
       "<span style=\"white-space:pre; font-family: monospace\">123 123 123 123 123 123 123 123 123 123 123 123\n",
       "</span>"
      ]
     },
     "execution_count": 115,
     "metadata": {},
     "output_type": "execute_result"
    }
   ],
   "source": [
    "Contents[] ← 123      ⍝ All the items are replaced by 123.\n",
    "Contents"
   ]
  },
  {
   "cell_type": "markdown",
   "metadata": {},
   "source": [
    "#### 5.5.3 - \"Pass-Through\" Value\n",
    "\n",
    "Imagine that we have a vector:"
   ]
  },
  {
   "cell_type": "code",
   "execution_count": 116,
   "metadata": {},
   "outputs": [],
   "source": [
    "Vec ← 32 51 28 19 72 31"
   ]
  },
  {
   "cell_type": "markdown",
   "metadata": {},
   "source": [
    "We replace some items and assign the result to another variable:"
   ]
  },
  {
   "cell_type": "code",
   "execution_count": 117,
   "metadata": {},
   "outputs": [],
   "source": [
    "Res ← Vec[2 4 6] ← 50"
   ]
  },
  {
   "cell_type": "markdown",
   "metadata": {},
   "source": [
    "What do we get in `Res`? Is it `Res ← Vec[2 4 6]`, or is it `Res ← 50`?"
   ]
  },
  {
   "cell_type": "code",
   "execution_count": 118,
   "metadata": {},
   "outputs": [
    {
     "data": {
      "text/html": [
       "<span style=\"white-space:pre; font-family: monospace\">50\n",
       "</span>"
      ]
     },
     "execution_count": 118,
     "metadata": {},
     "output_type": "execute_result"
    }
   ],
   "source": [
    "Res"
   ]
  },
  {
   "cell_type": "markdown",
   "metadata": {},
   "source": [
    "In fact, we get `50`. We say that `50` is a ***Pass-Through*** value.\n",
    "\n",
    "### 5.6 The Index Function\n",
    "\n",
    "In APL, nearly all of the built-in functions (known as *Primitive Functions) are represented by a single symbol: `+` `×` `⍴` `÷` etc. Bracket indexing, as we introduced above, is an exception: it is represented by two non-contiguous symbols: `[` and `]`. This is one of the reasons why modern versions of APL also include an ***Index*** function.\n",
    "\n",
    "It is represented by the symbol `⌷`.\n",
    "\n",
    "**Beware**: this is **not** the symbol *Quad* used in our planning example a few pages ago!\n",
    "\n",
    "In fact, it looks like a *Quad* which has been *squished*, hence its name: Squish-Quad, or ***Squad*** for short. The *Squad* is obtained with *Ctrl*+*Shift*+L.\n",
    "\n",
    "When applied to a vector, *Index* takes a single number on its left."
   ]
  },
  {
   "cell_type": "code",
   "execution_count": 119,
   "metadata": {},
   "outputs": [
    {
     "data": {
      "text/html": [
       "<span style=\"white-space:pre; font-family: monospace\">123\n",
       "</span>"
      ]
     },
     "execution_count": 119,
     "metadata": {},
     "output_type": "execute_result"
    }
   ],
   "source": [
    "3 ⌷ Contents        ⍝ This is equivalent to Contents[3]"
   ]
  },
  {
   "cell_type": "markdown",
   "metadata": {},
   "source": [
    "For now, we shall not try to extract more than one item from a vector; we need additional knowledge to do that.\n",
    "\n",
    "For a matrix, *Index* takes a pair of values (row/column) on its left."
   ]
  },
  {
   "cell_type": "code",
   "execution_count": 120,
   "metadata": {},
   "outputs": [
    {
     "data": {
      "text/html": [
       "<span style=\"white-space:pre; font-family: monospace\">40\n",
       "</span>"
      ]
     },
     "execution_count": 120,
     "metadata": {},
     "output_type": "execute_result"
    }
   ],
   "source": [
    "4 2 ⌷ Tests         ⍝ This is equivalent to Tests[4;2]"
   ]
  },
  {
   "cell_type": "markdown",
   "metadata": {},
   "source": [
    "It is possible to select several rows and several columns, using a special notation that will be explained in subsequent sections. The left argument of *Index* is now made of a list of rows followed by a list of columns, both parenthesised:"
   ]
  },
  {
   "cell_type": "code",
   "execution_count": 121,
   "metadata": {},
   "outputs": [
    {
     "data": {
      "text/html": [
       "<span style=\"white-space:pre; font-family: monospace\">11 22\n",
       "30 19\n",
       "33 44\n",
       "</span>"
      ]
     },
     "execution_count": 121,
     "metadata": {},
     "output_type": "execute_result"
    }
   ],
   "source": [
    "(1 3 6)(1 3)⌷Tests  ⍝ This is equivalent to Tests[1 3 6;1 3]"
   ]
  },
  {
   "cell_type": "markdown",
   "metadata": {},
   "source": [
    "## 6 - Mixed and Nested Arrays\n",
    "\n",
    "Up to now we have dealt only with homogeneous arrays: scalars, vectors or higher rank arrays containing only numbers or only characters. An array was a collection of what we call *simple* scalars. In the early $1980$'s enhanced versions of APL started to appear. They accepted a mixture of numbers and characters within the same array (so-called ***Mixed Arrays***), and arrays could contain sub-arrays as items (so-called ***Nested Arrays***).\n",
    "\n",
    "In this chapter, we shall explore only some basic properties of *Mixed* and *Nested arrays*, just to help you understand what might otherwise appear to be unusual behaviour or unexpected error messages. We shall not go any further for now; Chapter I will be entirely dedicated to an extensive study of nested arrays.\n",
    "\n",
    "Note that with the current widespread use of *Nested arrays*, it is now very common to refer to an \"old-fashioned\" array that is neither *Mixed* nor *Nested* as a *Simple array*.\n",
    "\n",
    "### 6.1 Mixed Arrays\n",
    "\n",
    "An array is described as a ***Mixed Array*** if it contains a mixture of scalar numbers and scalar characters.\n",
    "\n",
    "It is easy to create such an array:"
   ]
  },
  {
   "cell_type": "code",
   "execution_count": 136,
   "metadata": {},
   "outputs": [
    {
     "data": {
      "text/html": [
       "<span style=\"white-space:pre; font-family: monospace\">9\n",
       "</span>"
      ]
     },
     "execution_count": 136,
     "metadata": {},
     "output_type": "execute_result"
    }
   ],
   "source": [
    "MixVec ← 44 87 'K' 12 29 'B' 'a' 'g' 46.3\n",
    "⍴MixVec        ⍝ This is a vector."
   ]
  },
  {
   "cell_type": "code",
   "execution_count": 129,
   "metadata": {},
   "outputs": [
    {
     "data": {
      "text/html": [
       "<span style=\"white-space:pre; font-family: monospace\">44 87 K 12 29 Bag 46.3\n",
       "</span>"
      ]
     },
     "execution_count": 129,
     "metadata": {},
     "output_type": "execute_result"
    }
   ],
   "source": [
    "MixVec"
   ]
  },
  {
   "cell_type": "code",
   "execution_count": 131,
   "metadata": {},
   "outputs": [
    {
     "data": {
      "text/html": [
       "<span style=\"white-space:pre; font-family: monospace\">2 5\n",
       "</span>"
      ]
     },
     "execution_count": 131,
     "metadata": {},
     "output_type": "execute_result"
    }
   ],
   "source": [
    "MixMat ← 2 5⍴MixVec\n",
    "⍴MixMat        ⍝ That is a matrix."
   ]
  },
  {
   "cell_type": "code",
   "execution_count": 132,
   "metadata": {},
   "outputs": [
    {
     "data": {
      "text/html": [
       "<span style=\"white-space:pre; font-family: monospace\">44 87 K 12   29\n",
       " B  a g 46.3 44\n",
       "</span>"
      ]
     },
     "execution_count": 132,
     "metadata": {},
     "output_type": "execute_result"
    }
   ],
   "source": [
    "MixMat"
   ]
  },
  {
   "cell_type": "markdown",
   "metadata": {},
   "source": [
    "### 6.2 Four Important Remarks\n",
    "\n",
    "#### 6.2.1\n",
    "\n",
    "In a vector like `MixVec`, each letter must be entered as a scalar: embedded within quotes, and separated from the next one by at least one blank space.\n",
    "\n",
    "If the space is omitted, for example, if we type"
   ]
  },
  {
   "cell_type": "code",
   "execution_count": 135,
   "metadata": {},
   "outputs": [
    {
     "data": {
      "text/html": [
       "<span style=\"white-space:pre; font-family: monospace\">B'a'g\n",
       "</span>"
      ]
     },
     "execution_count": 135,
     "metadata": {},
     "output_type": "execute_result"
    }
   ],
   "source": [
    "'B''a''g'"
   ]
  },
  {
   "cell_type": "markdown",
   "metadata": {},
   "source": [
    "APL interprets the doubled quotes as apostrophes, which yields `B'a'g`. This is not a sequence of $3$ scalars, but a $5$-item vector:\n",
    "\n",
    "#### 6.2.2\n",
    "\n",
    "When `MixVec` is displayed (see above), the three letters `Bag` are joined together, like the letters in any vector of characters.\n",
    "\n",
    "This presentation might be confused with an array of $7$ items, whose $6^\\text{th}$ item is the vector `'Bag'`. That would be a *Nested Array*. We will soon learn how to investigate the structure of an array.\n",
    "\n",
    "#### 6.2.3\n",
    "\n",
    "This confusing disappears in `MixMat`. Because the items of the matrix must be aligned in columns, \"B\" is placed under $44$, \"a\" under $87$, and \"g' under \"K\". Here you can easily see that the three letters `Bag` are really three independent scalars.\n",
    "\n",
    "#### 6.2.4\n",
    "\n",
    "A ***Mixed*** array is made up only of simple scalars (numbers or characters); **it is not** a *Nested Array*.\n",
    "\n",
    "## 6.3 Nested Arrays\n",
    "\n",
    "An array is said to be ***Generalised*** or ***Nested*** when one or more of its items are not *simple* scalars, but are scalars which contain other arrays. The latter may be simple arrays of any shape or rank (vectors, matrices, arrays), or they may themselves be *Nested arrays*.\n",
    "\n",
    "A nested array can be created in a number of ways; we shall begin with the simplest one, known as ***Vector notation***, or ***Strand notation***. Here is how it works:\n",
    "\n",
    "The items of an array are just juxtaposed side by side, and each can be identified as an item because it is:\n",
    "\n",
    " - either separated from its neighbours by **blanks**\n",
    " - or embedded within **quotes**\n",
    " - or an expression embedded within **parentheses**\n",
    " - or a **variable name**\n",
    " \n",
    "Just to demonstrate how it works, let us create a nested vector and a nested matrix."
   ]
  },
  {
   "cell_type": "code",
   "execution_count": 137,
   "metadata": {},
   "outputs": [],
   "source": [
    "One ← 2 2 ⍴ 8 6 2 4        ⍝ Create two simple arrays,\n",
    "Two ← 'Hello'              ⍝ which will be used below"
   ]
  },
  {
   "cell_type": "code",
   "execution_count": 139,
   "metadata": {},
   "outputs": [
    {
     "data": {
      "text/html": [
       "<span style=\"white-space:pre; font-family: monospace\">8\n",
       "</span>"
      ]
     },
     "execution_count": 139,
     "metadata": {},
     "output_type": "execute_result"
    }
   ],
   "source": [
    "NesVec ← 87 24 'John' 51 (78 45 23) 95 One 69\n",
    "⍴NesVec        ⍝ We have juxtaposed 8 items"
   ]
  },
  {
   "cell_type": "code",
   "execution_count": 140,
   "metadata": {},
   "outputs": [
    {
     "data": {
      "text/html": [
       "<span style=\"white-space:pre; font-family: monospace\">┌──┬──┬────┬──┬────────┬──┬───┬──┐\n",
       "│87│24│John│51│78 45 23│95│8 6│69│\n",
       "│  │  │    │  │        │  │2 4│  │\n",
       "└──┴──┴────┴──┴────────┴──┴───┴──┘\n",
       "</span>"
      ]
     },
     "execution_count": 140,
     "metadata": {},
     "output_type": "execute_result"
    }
   ],
   "source": [
    "NesVec"
   ]
  },
  {
   "cell_type": "markdown",
   "metadata": {},
   "source": [
    "The Jupyter notebook puts boxes around the items of the vector to make it easier to interpret the result. If the expression above were to be ran in the Dyalog interpreter session, the result would be\n",
    "\n",
    "```\n",
    "87 24  John  51  78 45 23  95  8 6  69\n",
    "                               2 4    \n",
    "```\n",
    "\n",
    "which is a bit difficult to read.\n",
    "\n",
    "And now, a matrix!"
   ]
  },
  {
   "cell_type": "code",
   "execution_count": 142,
   "metadata": {},
   "outputs": [
    {
     "data": {
      "text/html": [
       "<span style=\"white-space:pre; font-family: monospace\">2 3\n",
       "</span>"
      ]
     },
     "execution_count": 142,
     "metadata": {},
     "output_type": "execute_result"
    }
   ],
   "source": [
    "NesMat ← 2 3 ⍴ 'Dyalog' 44 Two 27 One (2 3⍴1 2 0 0 0 5)\n",
    "⍴NesMat"
   ]
  },
  {
   "cell_type": "code",
   "execution_count": 143,
   "metadata": {},
   "outputs": [
    {
     "data": {
      "text/html": [
       "<span style=\"white-space:pre; font-family: monospace\">┌──────┬───┬─────┐\n",
       "│Dyalog│44 │Hello│\n",
       "├──────┼───┼─────┤\n",
       "│27    │8 6│1 2 0│\n",
       "│      │2 4│0 0 5│\n",
       "└──────┴───┴─────┘\n",
       "</span>"
      ]
     },
     "execution_count": 143,
     "metadata": {},
     "output_type": "execute_result"
    }
   ],
   "source": [
    "NesMat"
   ]
  },
  {
   "cell_type": "markdown",
   "metadata": {},
   "source": [
    "Again, the notebook boxes the items of the matrix so we have an easier time interpreting the result. In the interpreter session the output would be\n",
    "\n",
    "```\n",
    " Dyalog   44  Hello \n",
    "     27  8 6  1 2 0 \n",
    "         2 4  0 0 5 \n",
    "```\n",
    "\n",
    "To obtain this kind of presentation, execute the following command (remember: a command begins by a closing parenthesis):"
   ]
  },
  {
   "cell_type": "code",
   "execution_count": 146,
   "metadata": {},
   "outputs": [
    {
     "data": {
      "text/html": [
       "<span style=\"white-space:pre; font-family: monospace\">C:\\Program Files\\Dyalog\\Dyalog APL-64 18.0 Unicode\\ws\\Util.dws saved Wed Jul 15 20:03:40 2020\n",
       "</span>"
      ]
     },
     "execution_count": 146,
     "metadata": {},
     "output_type": "execute_result"
    }
   ],
   "source": [
    ")Copy Util DISP"
   ]
  },
  {
   "cell_type": "code",
   "execution_count": 147,
   "metadata": {},
   "outputs": [
    {
     "data": {
      "text/html": [
       "<span style=\"white-space:pre; font-family: monospace\">┌──────┬───┬─────┐\n",
       "│Dyalog│44 │Hello│\n",
       "├──────┼───┼─────┤\n",
       "│  27  │8 6│1 2 0│\n",
       "│      │2 4│0 0 5│\n",
       "└──────┴───┴─────┘\n",
       "</span>"
      ]
     },
     "execution_count": 147,
     "metadata": {},
     "output_type": "execute_result"
    }
   ],
   "source": [
    "DISP NesMat"
   ]
  },
  {
   "cell_type": "code",
   "execution_count": null,
   "metadata": {},
   "outputs": [],
   "source": []
  }
 ],
 "metadata": {
  "kernelspec": {
   "display_name": "Dyalog APL",
   "language": "apl",
   "name": "dyalog-kernel"
  },
  "language_info": {
   "file_extension": ".apl",
   "mimetype": "text/apl",
   "name": "APL"
  }
 },
 "nbformat": 4,
 "nbformat_minor": 4
}
