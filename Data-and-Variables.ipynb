{
 "cells": [
  {
   "cell_type": "markdown",
   "metadata": {},
   "source": [
    "# Data and Variables\n",
    "\n",
    "When you use APL, you type an expression or a command into the session window, and the result of the expression (or a message resulting from the execution of the command) is displayed on the next line(s). So an APL \"session\" is a sequence of user input lines (expressions and/or commands) interleaved with the results of the expressions.\n",
    "\n",
    "If you type these expressions and/or commands in the Dyalog APL software you installed, or on the [TryAPL](https://tryapl.org), you will see that APL initially positions the input cursor 6 spaces in from the left margin. Unless you deliberately move the cursor before you start typing, the expressions you enter into the system will therefore be indented; you can evaluate what you type by pressing <kbd>Enter</kbd>, which will make the result appear below what you typed and left aligned with the margin. This interactive session is commonly referred to as an ***interpreter session*** because some software is interpreting what you type and providing you with results on the fly.\n",
    "\n",
    "This book, however, was written in Jupyter notebooks, which works in a slightly different way. In here, you can find blocks of text (like the one you are reading *right now*) interleaved with code blocks. Depending on where you are reading this, these code blocks may be static or they may be interactive, allowing you, the reader, to change them and run them at will. The expressions you enter go in the shaded rectangles (the ***input cells***, preceded by a `In [X]:`) and you can evaluate them by pressing <kbd>Ctrl</kbd>+<kbd>Enter</kbd>. The results of the expressions are then placed inside white rectangles (the ***output cells***, preceded by the corresponding `Out[X]:`) which get updated when you re-evaluate the same *input cell*.\n",
    "\n",
    "It is recommended that you go through this tutorial in front of your computer, and experiment by typing the expressions given below into the Dyalog APL interpreter session. Alternatively, if you are reading the book online in a dynamic format, you are encouraged to re-run the *input cells* for yourself. Either way, try changing the expressions, and observe the new results.\n",
    "\n",
    "## Simple Numeric Values\n",
    "\n",
    "### Our First Operations\n",
    "\n",
    "Let's try some simple expressions:"
   ]
  },
  {
   "cell_type": "code",
   "execution_count": 1,
   "metadata": {
    "scrolled": true
   },
   "outputs": [
    {
     "data": {
      "text/html": [
       "<span style=\"white-space:pre; font-family: monospace\">80\n",
       "</span>"
      ]
     },
     "execution_count": 1,
     "metadata": {},
     "output_type": "execute_result"
    }
   ],
   "source": [
    "27 + 53"
   ]
  },
  {
   "cell_type": "code",
   "execution_count": 2,
   "metadata": {
    "scrolled": true
   },
   "outputs": [
    {
     "data": {
      "text/html": [
       "<span style=\"white-space:pre; font-family: monospace\">563\n",
       "</span>"
      ]
     },
     "execution_count": 2,
     "metadata": {},
     "output_type": "execute_result"
    }
   ],
   "source": [
    "1271 - 708"
   ]
  },
  {
   "cell_type": "code",
   "execution_count": 3,
   "metadata": {},
   "outputs": [
    {
     "data": {
      "text/html": [
       "<span style=\"white-space:pre; font-family: monospace\">¯188\n",
       "</span>"
      ]
     },
     "execution_count": 3,
     "metadata": {},
     "output_type": "execute_result"
    }
   ],
   "source": [
    "644 - 832"
   ]
  },
  {
   "cell_type": "markdown",
   "metadata": {},
   "source": [
    "Notice that APL uses a different symbol known as *high minus* (`¯`) to distinguish between a negative value and the function *subtract* (`-`). If you wish to enter a negative value, you can enter this special symbol by pressing <kbd>APL</kbd>+<kbd>2</kbd> (or by clicking the symbol in the \"Language Bar\").\n",
    "\n",
    "Let's continue with some more expressions:"
   ]
  },
  {
   "cell_type": "code",
   "execution_count": 4,
   "metadata": {},
   "outputs": [
    {
     "data": {
      "text/html": [
       "<span style=\"white-space:pre; font-family: monospace\">21.5\n",
       "</span>"
      ]
     },
     "execution_count": 4,
     "metadata": {},
     "output_type": "execute_result"
    }
   ],
   "source": [
    "86 ÷ 4"
   ]
  },
  {
   "cell_type": "markdown",
   "metadata": {},
   "source": [
    "The *Divide* sign above is obtained by pressing <kbd>APL</kbd>+<kbd>=</kbd>. The *Multiply* sign below is obtained with <kbd>APL</kbd>+<kbd>-</kbd>:"
   ]
  },
  {
   "cell_type": "code",
   "execution_count": 5,
   "metadata": {},
   "outputs": [
    {
     "data": {
      "text/html": [
       "<span style=\"white-space:pre; font-family: monospace\">472\n",
       "</span>"
      ]
     },
     "execution_count": 5,
     "metadata": {},
     "output_type": "execute_result"
    }
   ],
   "source": [
    "59 × 8"
   ]
  },
  {
   "cell_type": "markdown",
   "metadata": {},
   "source": [
    "If you are familiar with other programming languages, you may be accustomed to using a slash (`/`) for division, and a star (`*`) for multiplication. Let's see what might happen if you mistakenly use `*` in APL:"
   ]
  },
  {
   "cell_type": "code",
   "execution_count": 6,
   "metadata": {},
   "outputs": [
    {
     "data": {
      "text/html": [
       "<span style=\"white-space:pre; font-family: monospace\">343\n",
       "</span>"
      ]
     },
     "execution_count": 6,
     "metadata": {},
     "output_type": "execute_result"
    }
   ],
   "source": [
    "7 * 3"
   ]
  },
  {
   "cell_type": "markdown",
   "metadata": {},
   "source": [
    "`*` in APL means *Power* so `7 * 3` means `7 × 7 × 7`.\n",
    "\n",
    "The slash also has a different meaning in APL, we'll get to that latter.\n",
    "\n",
    "### Variables\n",
    "\n",
    "As in any other programming language, it is possible to create variables. Just choose a name and use the assignment arrow (`←`) to assign it to a value. The value can be a single item or several items separated by spaces. The assignment arrow can be entered by pressing <kbd>APL</kbd>+<kbd>[</kbd>."
   ]
  },
  {
   "cell_type": "code",
   "execution_count": 7,
   "metadata": {},
   "outputs": [],
   "source": [
    "discount ← 0.15\n",
    "years ← 1952 1943 1956 2020\n",
    "purchased ← 4000"
   ]
  },
  {
   "cell_type": "markdown",
   "metadata": {},
   "source": [
    "You can read the first assignment above as \"*`discount` gets `0.15`*\".\n",
    "\n",
    "To obtain the value of a variable, just type its name and evaluate the expression, like this:"
   ]
  },
  {
   "cell_type": "code",
   "execution_count": 8,
   "metadata": {},
   "outputs": [
    {
     "data": {
      "text/html": [
       "<span style=\"white-space:pre; font-family: monospace\">0.15\n",
       "</span>"
      ]
     },
     "execution_count": 8,
     "metadata": {},
     "output_type": "execute_result"
    }
   ],
   "source": [
    "discount"
   ]
  },
  {
   "cell_type": "code",
   "execution_count": 9,
   "metadata": {},
   "outputs": [
    {
     "data": {
      "text/html": [
       "<span style=\"white-space:pre; font-family: monospace\">1952 1943 1956 2020\n",
       "</span>"
      ]
     },
     "execution_count": 9,
     "metadata": {},
     "output_type": "execute_result"
    }
   ],
   "source": [
    "years"
   ]
  },
  {
   "cell_type": "markdown",
   "metadata": {},
   "source": [
    "Variable names are ***case sensitive***. This means that APL considers a lower-case letter and an upper-case letter to be two different characters. So the three variables `YEARS`, `Years` and `years`, would be distinct, and could contain different values. If you misspell the name of a variable, an error message will be displayed if that name is unknown:"
   ]
  },
  {
   "cell_type": "code",
   "execution_count": 10,
   "metadata": {},
   "outputs": [
    {
     "name": "stderr",
     "output_type": "stream",
     "text": [
      "VALUE ERROR: Undefined name: Discount\n",
      "      Discount\n",
      "      ∧\n"
     ]
    }
   ],
   "source": [
    "Discount"
   ]
  },
  {
   "cell_type": "markdown",
   "metadata": {},
   "source": [
    "We typed an upper-case \"D\", instead of \"d\". The message `VALUE ERROR` means that the name `Discount` is currently undefined.\n",
    "\n",
    "Variable names must follow certain rules:\n",
    "\n",
    " - They must contain only letters, in lower or upper-case, including some accented letters (cf. below), and the digits (0 to 9).\n",
    " - The APL alphabet also includes the Greek letter Delta (`∆`), entered using <kbd>APL</kbd>+<kbd>h</kbd>, the Underscore sign (`_`), and also the Underscored Delta (`⍙`), entered using <kbd>APL</kbd>+<kbd>Shift</kbd>+<kbd>.</kbd> (dot).\n",
    " - They cannot start with a digit.\n",
    " \n",
    "The following variable names are valid:"
   ]
  },
  {
   "cell_type": "code",
   "execution_count": 11,
   "metadata": {},
   "outputs": [
    {
     "data": {
      "text/html": [
       "<span style=\"white-space:pre; font-family: monospace\">1\n",
       "</span>"
      ]
     },
     "execution_count": 11,
     "metadata": {},
     "output_type": "execute_result"
    }
   ],
   "source": [
    "∆x ← 1\n",
    "∆x"
   ]
  },
  {
   "cell_type": "code",
   "execution_count": 12,
   "metadata": {},
   "outputs": [
    {
     "data": {
      "text/html": [
       "<span style=\"white-space:pre; font-family: monospace\">2\n",
       "</span>"
      ]
     },
     "execution_count": 12,
     "metadata": {},
     "output_type": "execute_result"
    }
   ],
   "source": [
    "Fly⍙Airlines ← 2\n",
    "Fly⍙Airlines"
   ]
  },
  {
   "cell_type": "code",
   "execution_count": 13,
   "metadata": {},
   "outputs": [
    {
     "data": {
      "text/html": [
       "<span style=\"white-space:pre; font-family: monospace\">3\n",
       "</span>"
      ]
     },
     "execution_count": 13,
     "metadata": {},
     "output_type": "execute_result"
    }
   ],
   "source": [
    "My_car_is_green ← 3\n",
    "My_car_is_green"
   ]
  },
  {
   "cell_type": "code",
   "execution_count": 14,
   "metadata": {},
   "outputs": [
    {
     "data": {
      "text/html": [
       "<span style=\"white-space:pre; font-family: monospace\">4\n",
       "</span>"
      ]
     },
     "execution_count": 14,
     "metadata": {},
     "output_type": "execute_result"
    }
   ],
   "source": [
    "Hote273 ← 4\n",
    "Hote273"
   ]
  },
  {
   "cell_type": "code",
   "execution_count": 17,
   "metadata": {},
   "outputs": [
    {
     "data": {
      "text/html": [
       "<span style=\"white-space:pre; font-family: monospace\">5\n",
       "</span>"
      ]
     },
     "execution_count": 17,
     "metadata": {},
     "output_type": "execute_result"
    }
   ],
   "source": [
    "Bétise_à_Caimbrai ← 5\n",
    "Bétise_à_Caimbrai"
   ]
  },
  {
   "cell_type": "markdown",
   "metadata": {},
   "source": [
    "But `5á7` is not valid, because it begins with a digit:"
   ]
  },
  {
   "cell_type": "code",
   "execution_count": 18,
   "metadata": {},
   "outputs": [
    {
     "name": "stderr",
     "output_type": "stream",
     "text": [
      "SYNTAX ERROR\n",
      "      5 á7←6\n",
      "          ∧\n"
     ]
    }
   ],
   "source": [
    "5á7 ← 6"
   ]
  },
  {
   "cell_type": "markdown",
   "metadata": {},
   "source": [
    "In this document, most variable names will follow the ***pascalCase*** casing convention. This means single-word variable names will be lower-case but compound names will then have the subsequent words capitalised. `pascalCase` is an example name of a variable following the *pascalCase* casing convention.\n",
    "\n",
    "The letters that are allowed as part of variable names are:\n",
    "\n",
    "```\n",
    "0123456789\n",
    "ABCDEFGHIJKLMNOPQRSTUVWXYZ_\n",
    "abcdefghijklmnopqrstuvwxyz\n",
    "ÀÁÂÃÄÅÆÇÈÉÊËÌÍÎÏÐÑÒÓÔÕÖØÙÚÛÜÝẞ\n",
    "àáâãäåæçèéêëìíîïðñòóôõöøùúûüþ\n",
    "∆⍙\n",
    "```\n",
    "\n",
    "Additionally, variable names can contain underlined upper cases letters, which look something like <ins>ABCDEFGHIJKLMNOPQRSTUVWXYZ</ins>. It is strongly recommended that you do not use the underscored letters which are only included to support old applications. Today, underscored letters are regarded as an anachronism, and are deprecated in modern versions of APL. They are not part of the Unicode character set and we weren't even able to include them here: the enumeration above is just styled like the underscored letters, it is not really those letters. When a standard Unicode font is used, the APL underscored letters correspond to the Unicode circled alphabet, which is displayed like this:\n",
    "\n",
    "```\n",
    "ⒶⒷⒸⒹⒺⒻⒼⒽⒾⒿⓀⓁⓂⓃⓄⓅⓆⓇⓈⓉⓊⓋⓌⓍⓎⓏ\n",
    "```\n",
    "\n",
    "Although it is permitted, the use of accented characters is also not recommended because some people may be unable to enter them using their normal keyboard.\n",
    "\n",
    "`∆` and `⍙` may also cause problems if you ever want to inter-operate with other software, and are best avoided.\n",
    "\n",
    "### Operations on Variables\n",
    "\n",
    "Variables can be used in any expression or calculation. For example, if we want to calculate the amount of the discount applied to the things we purchased, we can write:"
   ]
  },
  {
   "cell_type": "code",
   "execution_count": 19,
   "metadata": {},
   "outputs": [
    {
     "data": {
      "text/html": [
       "<span style=\"white-space:pre; font-family: monospace\">600\n",
       "</span>"
      ]
     },
     "execution_count": 19,
     "metadata": {},
     "output_type": "execute_result"
    }
   ],
   "source": [
    "amount ← purchased×discount\n",
    "amount"
   ]
  },
  {
   "cell_type": "markdown",
   "metadata": {},
   "source": [
    "When the result of an expression is assigned to a name, it is not displayed. This is why we have entered a second expression to have the value displayed. If the result of an operation is not assigned to a name, it is immediately displayed, but then the value of the result cannot be reused directly in another expression:"
   ]
  },
  {
   "cell_type": "code",
   "execution_count": 20,
   "metadata": {},
   "outputs": [
    {
     "data": {
      "text/html": [
       "<span style=\"white-space:pre; font-family: monospace\">600\n",
       "</span>"
      ]
     },
     "execution_count": 20,
     "metadata": {},
     "output_type": "execute_result"
    }
   ],
   "source": [
    "purchased × discount"
   ]
  },
  {
   "cell_type": "markdown",
   "metadata": {},
   "source": [
    "It is of course possible to change the contents of a variable. The previous value is then lost."
   ]
  },
  {
   "cell_type": "code",
   "execution_count": 21,
   "metadata": {},
   "outputs": [],
   "source": [
    "discount ← 0.185"
   ]
  },
  {
   "cell_type": "markdown",
   "metadata": {},
   "source": [
    "It is possible to assign values to several variables in a single expression:"
   ]
  },
  {
   "cell_type": "code",
   "execution_count": 23,
   "metadata": {},
   "outputs": [],
   "source": [
    "(g h j) ← 30 51 49"
   ]
  },
  {
   "cell_type": "markdown",
   "metadata": {},
   "source": [
    "`g` gets 30, `h` gets 51 and `j` gets 49.\n",
    "\n",
    "This ***Multiple assignment*** is an elegant way of allocating a set of values to some distinct variables:"
   ]
  },
  {
   "cell_type": "code",
   "execution_count": 24,
   "metadata": {},
   "outputs": [
    {
     "data": {
      "text/html": [
       "<span style=\"white-space:pre; font-family: monospace\">1952\n",
       "</span>"
      ]
     },
     "execution_count": 24,
     "metadata": {},
     "output_type": "execute_result"
    }
   ],
   "source": [
    "(colette bernard line now) ← years\n",
    "colette"
   ]
  },
  {
   "cell_type": "code",
   "execution_count": 25,
   "metadata": {},
   "outputs": [
    {
     "data": {
      "text/html": [
       "<span style=\"white-space:pre; font-family: monospace\">1956\n",
       "</span>"
      ]
     },
     "execution_count": 25,
     "metadata": {},
     "output_type": "execute_result"
    }
   ],
   "source": [
    "line"
   ]
  },
  {
   "cell_type": "markdown",
   "metadata": {},
   "source": [
    "Note that it is possible to write multiple assignments without parentheses on the left:"
   ]
  },
  {
   "cell_type": "code",
   "execution_count": 26,
   "metadata": {},
   "outputs": [],
   "source": [
    "g h j ← 30 51 49\n",
    "colette bernard line now ← years"
   ]
  },
  {
   "cell_type": "markdown",
   "metadata": {},
   "source": [
    "However this is highly discouraged. Using parentheses indicates much more clearly the intent of performing multiple assignment and helps prevent some erroneous behaviour. For example, notice how the expression below raises an error because we are trying to assign `5` to `3`, and yet, `var` gets assigned `5`:"
   ]
  },
  {
   "cell_type": "code",
   "execution_count": 27,
   "metadata": {},
   "outputs": [
    {
     "name": "stderr",
     "output_type": "stream",
     "text": [
      "SYNTAX ERROR\n",
      "      var 3←5\n",
      "           ∧\n"
     ]
    }
   ],
   "source": [
    "var 3 ← 5"
   ]
  },
  {
   "cell_type": "code",
   "execution_count": 28,
   "metadata": {},
   "outputs": [
    {
     "data": {
      "text/html": [
       "<span style=\"white-space:pre; font-family: monospace\">5\n",
       "</span>"
      ]
     },
     "execution_count": 28,
     "metadata": {},
     "output_type": "execute_result"
    }
   ],
   "source": [
    "var"
   ]
  },
  {
   "cell_type": "markdown",
   "metadata": {},
   "source": [
    "However, if we use parentheses the assignment is not performed at all:"
   ]
  },
  {
   "cell_type": "code",
   "execution_count": 29,
   "metadata": {},
   "outputs": [
    {
     "name": "stderr",
     "output_type": "stream",
     "text": [
      "SYNTAX ERROR\n",
      "      (var 3)←50\n",
      "             ∧\n"
     ]
    }
   ],
   "source": [
    "(var 3) ← 50"
   ]
  },
  {
   "cell_type": "code",
   "execution_count": 30,
   "metadata": {},
   "outputs": [
    {
     "data": {
      "text/html": [
       "<span style=\"white-space:pre; font-family: monospace\">5\n",
       "</span>"
      ]
     },
     "execution_count": 30,
     "metadata": {},
     "output_type": "execute_result"
    }
   ],
   "source": [
    "var"
   ]
  },
  {
   "cell_type": "markdown",
   "metadata": {},
   "source": [
    "Another argument against using multiple assignment without parentheses is that some other APL systems require them, so if compatibility across APL implementations is an issue for you, we recommend that you use parentheses in Dyalog APL as well.\n",
    "\n",
    "If you still aren't convinced that multiple assignment without parentheses on the left is evil, another argument against it is that you can get inconsistent behaviour depending on the number of variables that are to the left of `←`.\n",
    "\n",
    "## Arrays of Items\n",
    "\n",
    "In APL, an *array* is a sequence of zero or more items. The variable `years` that we used in the previous section is an array of 4 items.\n",
    "\n",
    "### Create a List or a Matrix\n",
    "\n",
    "To enter a short list of items, just type them one by one separated by spaces, and assign the list to a name. For example, here is the number of TV sets sold during the last 10 days by a shopkeeper:"
   ]
  },
  {
   "cell_type": "code",
   "execution_count": 31,
   "metadata": {},
   "outputs": [],
   "source": [
    "sales ← 6 1 8 12 3 3 5 4 7 9"
   ]
  },
  {
   "cell_type": "markdown",
   "metadata": {},
   "source": [
    "If you need to enter a very long list of items, which will not easily fit on a single line, please refer [the subsection on modified assignment](./Special-Syntax.ipynb#Modified-Assignment), where a simple method is explained.\n",
    "\n",
    "Imagine now that somebody has noted his income and expenses during the first six months of this year:\n",
    "\n",
    "| Month | Income | Expenses |\n",
    "| :- | -: | -: |\n",
    "| January | 4210 | 3121 |\n",
    "| February | 4807 | 4284 |\n",
    "| March | 3609 | 7543 |\n",
    "| April | 5712 | 2601 |\n",
    "| May | 2305 | 3364 |\n",
    "| June | 4568 | 2784 |\n",
    "\n",
    "We shall see later how we can store the names of the months; for now, let us just try to store the numeric values from the table above in a variable.\n",
    "\n",
    "To do this, we have to give two pieces of information to the computer:\n",
    "\n",
    " - the ***shape*** of the array: in this case, 6 rows and 2 columns;\n",
    " - the ***contents*** (or *items*) of the array, in row order.\n",
    " \n",
    "The function that organises a set of items into an array of a specified shape is known as ***Reshape*** and is symbolised by the Greek letter Rho (`⍴`). It is easy to remember that *R*ho can be entered using <kbd>APL</kbd>+<kbd>r</kbd>.\n",
    "\n",
    "The ***Reshape*** function is used as follows: `r ← shape ⍴ contents`.\n",
    "\n",
    "For example, to obtain a 6 by 2 array of items:"
   ]
  },
  {
   "cell_type": "code",
   "execution_count": 32,
   "metadata": {},
   "outputs": [
    {
     "data": {
      "text/html": [
       "<span style=\"white-space:pre; font-family: monospace\">4210 3121\n",
       "4807 4284\n",
       "3609 7543\n",
       "5712 2601\n",
       "2305 3364\n",
       "4568 2784\n",
       "</span>"
      ]
     },
     "execution_count": 32,
     "metadata": {},
     "output_type": "execute_result"
    }
   ],
   "source": [
    "money ← 6 2 ⍴ 4210 3121 4807 4284 3609 7543 5712 2601 2305 3364 4568 2784\n",
    "money"
   ]
  },
  {
   "cell_type": "markdown",
   "metadata": {},
   "source": [
    "### Special Cases with Reshape\n",
    "\n",
    "If there are too many items, the extra items are ignored:"
   ]
  },
  {
   "cell_type": "code",
   "execution_count": 33,
   "metadata": {},
   "outputs": [
    {
     "data": {
      "text/html": [
       "<span style=\"white-space:pre; font-family: monospace\">12 56 78\n",
       "74 85 96\n",
       "30 22 44\n",
       "</span>"
      ]
     },
     "execution_count": 33,
     "metadata": {},
     "output_type": "execute_result"
    }
   ],
   "source": [
    "contents ← 12 56 78 74 85 96 30 22 44 66 82 27\n",
    "3 3 ⍴ contents"
   ]
  },
  {
   "cell_type": "markdown",
   "metadata": {},
   "source": [
    "Notice how the last three items (`66 82 27`) have been ignored when creating the matrix.\n",
    "\n",
    "However, if there are fewer items than implied by the shape, the list of items is reused as many times as necessary to fill the array:"
   ]
  },
  {
   "cell_type": "code",
   "execution_count": 34,
   "metadata": {},
   "outputs": [
    {
     "data": {
      "text/html": [
       "<span style=\"white-space:pre; font-family: monospace\">12 56 78 74 85 96 30 22 44\n",
       "66 82 27 12 56 78 74 85 96\n",
       "30 22 44 66 82 27 12 56 78\n",
       "</span>"
      ]
     },
     "execution_count": 34,
     "metadata": {},
     "output_type": "execute_result"
    }
   ],
   "source": [
    "3 9 ⍴ contents"
   ]
  },
  {
   "cell_type": "markdown",
   "metadata": {},
   "source": [
    "Notice how the `contents` variable starts repeating on the second row (under the 74) and also by the end of the third row.\n",
    "\n",
    "This property is often used to create special patterns:\n",
    "\n",
    " - fill an array with a single value:"
   ]
  },
  {
   "cell_type": "code",
   "execution_count": 35,
   "metadata": {},
   "outputs": [
    {
     "data": {
      "text/html": [
       "<span style=\"white-space:pre; font-family: monospace\">0 0 0 0\n",
       "0 0 0 0\n",
       "0 0 0 0\n",
       "</span>"
      ]
     },
     "execution_count": 35,
     "metadata": {},
     "output_type": "execute_result"
    }
   ],
   "source": [
    "3 4 ⍴ 0"
   ]
  },
  {
   "cell_type": "markdown",
   "metadata": {},
   "source": [
    " - repeat a pattern:"
   ]
  },
  {
   "cell_type": "code",
   "execution_count": 36,
   "metadata": {},
   "outputs": [
    {
     "data": {
      "text/html": [
       "<span style=\"white-space:pre; font-family: monospace\">1 5 0 0 1 5 0 0 1 5 0 0 1 5 0 0 1 5 0 0 1 5 0 0 1 5 0 0 1 5\n",
       "</span>"
      ]
     },
     "execution_count": 36,
     "metadata": {},
     "output_type": "execute_result"
    }
   ],
   "source": [
    "30 ⍴ 1 5 0 0"
   ]
  },
  {
   "cell_type": "code",
   "execution_count": 37,
   "metadata": {},
   "outputs": [
    {
     "data": {
      "text/html": [
       "<span style=\"white-space:pre; font-family: monospace\">2 4 6 8\n",
       "2 4 6 8\n",
       "2 4 6 8\n",
       "</span>"
      ]
     },
     "execution_count": 37,
     "metadata": {},
     "output_type": "execute_result"
    }
   ],
   "source": [
    "3 4 ⍴ 2 4 6 8      ⍝ Repeat a pattern."
   ]
  },
  {
   "cell_type": "markdown",
   "metadata": {},
   "source": [
    " - shift values:"
   ]
  },
  {
   "cell_type": "code",
   "execution_count": 38,
   "metadata": {},
   "outputs": [
    {
     "data": {
      "text/html": [
       "<span style=\"white-space:pre; font-family: monospace\">1 0 0 0 0\n",
       "0 1 0 0 0\n",
       "0 0 1 0 0\n",
       "0 0 0 1 0\n",
       "0 0 0 0 1\n",
       "</span>"
      ]
     },
     "execution_count": 38,
     "metadata": {},
     "output_type": "execute_result"
    }
   ],
   "source": [
    "5 5 ⍴ 1 0 0 0 0 0"
   ]
  },
  {
   "cell_type": "markdown",
   "metadata": {},
   "source": [
    "### Multi-dimensional Arrays\n",
    "\n",
    "APL is not limited to arrays with two dimensions, it can handle arrays with 3, 4, indeed up to 15 dimensions.\n",
    "\n",
    "Imagine that a company has stored the production of its assembly lines in a variable named `prod`.\n",
    "\n",
    "The variable contains 5 years of production, on 2 assembly lines, and for 12 months per year. To represent the 3 dimensions on the screen, the array is displayed split into sub-arrays each representing a single year, as follows:"
   ]
  },
  {
   "cell_type": "code",
   "execution_count": 39,
   "metadata": {},
   "outputs": [
    {
     "data": {
      "text/html": [
       "<span style=\"white-space:pre; font-family: monospace\"> 9 16 42 50  2  3 11 45 17 37 29 36\n",
       "34 19 32 12 37 15 46 24 49 28 36  9\n",
       "                                   \n",
       "29  5 45 23 27  4 23 16 39 22 22  2\n",
       "46 20 47 17 18 25 13 38 42 38 45 28\n",
       "                                   \n",
       "37 19  5 10 30 49 16 18 46 47 47  3\n",
       "39 23 41 20  6 40 21 22 40 49 20  1\n",
       "                                   \n",
       "13 36 12 40 12 15 24 20 21 12 19 25\n",
       " 8 48 22 37 33  1 39 30 50 50  8 35\n",
       "                                   \n",
       "38 31 24 40 23  7 20 34 35  6 19 27\n",
       "41  1 14 50 17 42  6 35 12 48 30 29\n",
       "</span>"
      ]
     },
     "execution_count": 39,
     "metadata": {},
     "output_type": "execute_result"
    }
   ],
   "source": [
    "⎕RL ← 73\n",
    "prod ← ?5 2 12⍴50\n",
    "prod"
   ]
  },
  {
   "cell_type": "markdown",
   "metadata": {},
   "source": [
    "This array is organised in dimensions that represent 5 years, 2 lines, 12 months: it is a three dimensional array. We can also say that its ***shape*** is `5 2 12`.\n",
    "\n",
    "## Shape, Rank and Vocabulary\n",
    "\n",
    "### Shape and Rank\n",
    "\n",
    "The symbol `⍴`, which we introduced above, can be used to obtain the lengths of the dimensions or the ***Shape*** of an array:"
   ]
  },
  {
   "cell_type": "code",
   "execution_count": 40,
   "metadata": {},
   "outputs": [
    {
     "data": {
      "text/html": [
       "<span style=\"white-space:pre; font-family: monospace\">4\n",
       "</span>"
      ]
     },
     "execution_count": 40,
     "metadata": {},
     "output_type": "execute_result"
    }
   ],
   "source": [
    "⍴ years"
   ]
  },
  {
   "cell_type": "markdown",
   "metadata": {},
   "source": [
    "The code above can be read as \"*Shape* of `years`\". It then tells us that `years` has 4 items.\n",
    "\n",
    "Similarly, we can see that `money` has 6 rows and 2 columns:"
   ]
  },
  {
   "cell_type": "code",
   "execution_count": 41,
   "metadata": {},
   "outputs": [
    {
     "data": {
      "text/html": [
       "<span style=\"white-space:pre; font-family: monospace\">6 2\n",
       "</span>"
      ]
     },
     "execution_count": 41,
     "metadata": {},
     "output_type": "execute_result"
    }
   ],
   "source": [
    "⍴ money"
   ]
  },
  {
   "cell_type": "markdown",
   "metadata": {},
   "source": [
    "Slightly more involved is the shape of `prod`:"
   ]
  },
  {
   "cell_type": "code",
   "execution_count": 43,
   "metadata": {},
   "outputs": [
    {
     "data": {
      "text/html": [
       "<span style=\"white-space:pre; font-family: monospace\">5 2 12\n",
       "</span>"
      ]
     },
     "execution_count": 43,
     "metadata": {},
     "output_type": "execute_result"
    }
   ],
   "source": [
    "shape ← ⍴prod\n",
    "shape"
   ]
  },
  {
   "cell_type": "markdown",
   "metadata": {},
   "source": [
    "Recall that `prod` has 5 sheets (or planes), each having 2 rows and 12 columns.\n",
    "\n",
    "Now, what is the shape of `shape`?"
   ]
  },
  {
   "cell_type": "code",
   "execution_count": 44,
   "metadata": {},
   "outputs": [
    {
     "data": {
      "text/html": [
       "<span style=\"white-space:pre; font-family: monospace\">3\n",
       "</span>"
      ]
     },
     "execution_count": 44,
     "metadata": {},
     "output_type": "execute_result"
    }
   ],
   "source": [
    "⍴ shape"
   ]
  },
  {
   "cell_type": "markdown",
   "metadata": {},
   "source": [
    "The shape of `shape` is 3 because `prod` has 3 dimensions.\n",
    "\n",
    "The same result could have been obtained directly using the expression `⍴⍴ prod`:"
   ]
  },
  {
   "cell_type": "code",
   "execution_count": 45,
   "metadata": {},
   "outputs": [
    {
     "data": {
      "text/html": [
       "<span style=\"white-space:pre; font-family: monospace\">3\n",
       "</span>"
      ]
     },
     "execution_count": 45,
     "metadata": {},
     "output_type": "execute_result"
    }
   ],
   "source": [
    "⍴⍴ prod"
   ]
  },
  {
   "cell_type": "markdown",
   "metadata": {},
   "source": [
    "`prod` has 3 dimensions; we say that its ***Rank*** is 3, or that it is organised along 3 criteria which are: Years / Lines / Months."
   ]
  },
  {
   "cell_type": "code",
   "execution_count": 46,
   "metadata": {},
   "outputs": [
    {
     "data": {
      "text/html": [
       "<span style=\"white-space:pre; font-family: monospace\">2\n",
       "</span>"
      ]
     },
     "execution_count": 46,
     "metadata": {},
     "output_type": "execute_result"
    }
   ],
   "source": [
    "⍴⍴ money"
   ]
  },
  {
   "cell_type": "markdown",
   "metadata": {},
   "source": [
    "`money` has 2 dimensions; we say that its ***Rank*** is 2, or that it is organised along 2 criteria which are: Months / Accounts.\n",
    "\n",
    "<!-- begin definition style=note -->\n",
    "***Definition***\n",
    "\n",
    "The ***Rank*** of an array is the number of its dimensions. It can be obtained using the expression `⍴⍴ array`.\n",
    "<!-- end -->\n",
    "\n",
    "### Scaling Down the Ranks\n",
    "\n",
    "Using that formula, we can see that:\n",
    "\n",
    "|||||\n",
    "| :- | :- | :- | :- |\n",
    "| `prod` | has a shape equal to | `5 2 12` | and its rank is equal to ............ `3` |\n",
    "| `money` | has a shape equal to | `6 2` | and its rank is equal to ............ `2` |\n",
    "| `years` | has a shape equal to | `4` | and its rank is equal to ............ `1` |\n",
    "\n",
    "It seems consistent that some array must exist which has a rank equal to ...... `0`.\n",
    "\n",
    "Such arrays are single items, like 1573 or 36.29 or the variable `discount` used above."
   ]
  },
  {
   "cell_type": "code",
   "execution_count": 48,
   "metadata": {},
   "outputs": [
    {
     "data": {
      "text/html": [
       "<span style=\"white-space:pre; font-family: monospace\">0\n",
       "</span>"
      ]
     },
     "execution_count": 48,
     "metadata": {},
     "output_type": "execute_result"
    }
   ],
   "source": [
    "⍴⍴ discount"
   ]
  },
  {
   "cell_type": "code",
   "execution_count": 49,
   "metadata": {},
   "outputs": [
    {
     "data": {
      "text/html": [
       "<span style=\"white-space:pre; font-family: monospace\">0\n",
       "</span>"
      ]
     },
     "execution_count": 49,
     "metadata": {},
     "output_type": "execute_result"
    }
   ],
   "source": [
    "⍴⍴ 36.29"
   ]
  },
  {
   "cell_type": "markdown",
   "metadata": {},
   "source": [
    "We needed 3 numbers to express the shape of `prod`, 2 numbers to express the shape of `money`, and only 1 number to express the shape of `years`... hence to express the shape of `1573` or `discount`, we need **no** numbers:"
   ]
  },
  {
   "cell_type": "code",
   "execution_count": 53,
   "metadata": {},
   "outputs": [
    {
     "data": {
      "text/html": [
       "<span style=\"white-space:pre; font-family: monospace\">\n",
       "</span>"
      ]
     },
     "execution_count": 53,
     "metadata": {},
     "output_type": "execute_result"
    }
   ],
   "source": [
    "⍴ 1573"
   ]
  },
  {
   "cell_type": "code",
   "execution_count": 52,
   "metadata": {},
   "outputs": [
    {
     "data": {
      "text/html": [
       "<span style=\"white-space:pre; font-family: monospace\">\n",
       "</span>"
      ]
     },
     "execution_count": 52,
     "metadata": {},
     "output_type": "execute_result"
    }
   ],
   "source": [
    "⍴ discount"
   ]
  },
  {
   "cell_type": "markdown",
   "metadata": {},
   "source": [
    "The answers display as a blank line: the shape of a single number is an empty array (0 items)."
   ]
  },
  {
   "cell_type": "markdown",
   "metadata": {},
   "source": [
    "### Vocabulary\n",
    "\n",
    "In this book, we shall use the following terms:\n",
    "\n",
    "| | | | |\n",
    "| :- | :- | :- | :- |\n",
    "| ***Array*** | is a generic word for any sequence of items (possibly containing a single item, or no items at all) | | |\n",
    "| ***Scalar*** | is a single item like | `discount` | its rank is 0 |\n",
    "| ***Vector*** | is a list of items like | `years` | its rank is 1 |\n",
    "| ***Matrix*** | is an array of rank 2 like | `money` | its rank is 2 |\n",
    "| ***Table*** | is a common name for a matrix | | |\n",
    "| ***Cube*** | is a common name for 3-D arrays like | `prod` | its rank is 3 |\n",
    "\n",
    "### Beware!\n",
    "\n",
    "#### The Shape is Always a Vector\n",
    "\n",
    "The shape of a value is **always** a vector, even if it contains only one item or even no items at all."
   ]
  },
  {
   "cell_type": "code",
   "execution_count": 57,
   "metadata": {},
   "outputs": [
    {
     "data": {
      "text/html": [
       "<span style=\"white-space:pre; font-family: monospace\">4\n",
       "</span>"
      ]
     },
     "execution_count": 57,
     "metadata": {},
     "output_type": "execute_result"
    }
   ],
   "source": [
    "shape ← ⍴years\n",
    "shape"
   ]
  },
  {
   "cell_type": "markdown",
   "metadata": {},
   "source": [
    "The innocent 4 above looks like a scalar, but it is of rank 1 as we can verify here:"
   ]
  },
  {
   "cell_type": "code",
   "execution_count": 58,
   "metadata": {},
   "outputs": [
    {
     "data": {
      "text/html": [
       "<span style=\"white-space:pre; font-family: monospace\">1\n",
       "</span>"
      ]
     },
     "execution_count": 58,
     "metadata": {},
     "output_type": "execute_result"
    }
   ],
   "source": [
    "⍴⍴ shape"
   ]
  },
  {
   "cell_type": "markdown",
   "metadata": {},
   "source": [
    "So `shape` is a vector. It is a vector with only one item:"
   ]
  },
  {
   "cell_type": "code",
   "execution_count": 59,
   "metadata": {},
   "outputs": [
    {
     "data": {
      "text/html": [
       "<span style=\"white-space:pre; font-family: monospace\">1\n",
       "</span>"
      ]
     },
     "execution_count": 59,
     "metadata": {},
     "output_type": "execute_result"
    }
   ],
   "source": [
    "⍴ shape"
   ]
  },
  {
   "cell_type": "markdown",
   "metadata": {},
   "source": [
    "This shows, in particular, that `⍴ years` does *not* return the length of the vector `years`. `⍴ years` returns the shape of `years`, which is a 1-item vector with the number 4. The length of `years` (which is the scalar value 4) can be obtained with an appropriate primitive: the ***Tally*** primitive `≢`, that you can type with <kbd>APL</kbd>+<kbd>Shift</kbd>+<kbd>'</kbd>. Notice how `≢` returns the scalar value 4, instead of a 1-item vector with the value 4:"
   ]
  },
  {
   "cell_type": "code",
   "execution_count": 60,
   "metadata": {},
   "outputs": [
    {
     "data": {
      "text/html": [
       "<span style=\"white-space:pre; font-family: monospace\">4\n",
       "</span>"
      ]
     },
     "execution_count": 60,
     "metadata": {},
     "output_type": "execute_result"
    }
   ],
   "source": [
    "length ← ≢years\n",
    "length"
   ]
  },
  {
   "cell_type": "code",
   "execution_count": 61,
   "metadata": {},
   "outputs": [
    {
     "data": {
      "text/html": [
       "<span style=\"white-space:pre; font-family: monospace\">\n",
       "</span>"
      ]
     },
     "execution_count": 61,
     "metadata": {},
     "output_type": "execute_result"
    }
   ],
   "source": [
    "⍴length"
   ]
  },
  {
   "cell_type": "code",
   "execution_count": 62,
   "metadata": {},
   "outputs": [
    {
     "data": {
      "text/html": [
       "<span style=\"white-space:pre; font-family: monospace\">1\n",
       "</span>"
      ]
     },
     "execution_count": 62,
     "metadata": {},
     "output_type": "execute_result"
    }
   ],
   "source": [
    "⍴shape"
   ]
  },
  {
   "cell_type": "markdown",
   "metadata": {},
   "source": [
    "Having introduced *Tally*, we can now use it to compute the rank of an array properly. The rank of an array should be a scalar, so instead of `⍴⍴array` we can use `≢⍴array`, which you can read as\n",
    "\n",
    " > Tally the elements of the Shape of `array`\n",
    " \n",
    "As an example, let us verify that `years` has dimension 1 (i.e. it is a vector):"
   ]
  },
  {
   "cell_type": "code",
   "execution_count": 64,
   "metadata": {},
   "outputs": [
    {
     "data": {
      "text/html": [
       "<span style=\"white-space:pre; font-family: monospace\">1\n",
       "</span>"
      ]
     },
     "execution_count": 64,
     "metadata": {},
     "output_type": "execute_result"
    }
   ],
   "source": [
    "≢⍴years"
   ]
  },
  {
   "cell_type": "markdown",
   "metadata": {},
   "source": [
    "#### Do Not Rely on the Visual Aspect of a Variable\n",
    "\n",
    "Although scalars, vectors, and matrices may sometimes look the same when they are displayed, they should not be confused. Just look at the two variables `length` and `shape` above, they look the same but one is a scalar and the other is a vector:"
   ]
  },
  {
   "cell_type": "code",
   "execution_count": 65,
   "metadata": {},
   "outputs": [
    {
     "data": {
      "text/html": [
       "<span style=\"white-space:pre; font-family: monospace\">4\n",
       "</span>"
      ]
     },
     "execution_count": 65,
     "metadata": {},
     "output_type": "execute_result"
    }
   ],
   "source": [
    "length"
   ]
  },
  {
   "cell_type": "code",
   "execution_count": 69,
   "metadata": {},
   "outputs": [
    {
     "data": {
      "text/html": [
       "<span style=\"white-space:pre; font-family: monospace\">0\n",
       "</span>"
      ]
     },
     "execution_count": 69,
     "metadata": {},
     "output_type": "execute_result"
    }
   ],
   "source": [
    "≢⍴length"
   ]
  },
  {
   "cell_type": "markdown",
   "metadata": {},
   "source": [
    "This tells us that `length` has 0 dimensions hence is a scalar. On the other hand..."
   ]
  },
  {
   "cell_type": "code",
   "execution_count": 67,
   "metadata": {},
   "outputs": [
    {
     "data": {
      "text/html": [
       "<span style=\"white-space:pre; font-family: monospace\">4\n",
       "</span>"
      ]
     },
     "execution_count": 67,
     "metadata": {},
     "output_type": "execute_result"
    }
   ],
   "source": [
    "shape"
   ]
  },
  {
   "cell_type": "code",
   "execution_count": 68,
   "metadata": {},
   "outputs": [
    {
     "data": {
      "text/html": [
       "<span style=\"white-space:pre; font-family: monospace\">1\n",
       "</span>"
      ]
     },
     "execution_count": 68,
     "metadata": {},
     "output_type": "execute_result"
    }
   ],
   "source": [
    "≢⍴shape"
   ]
  },
  {
   "cell_type": "markdown",
   "metadata": {},
   "source": [
    "`shape` has 1 dimension and is thus a vector.\n",
    "\n",
    "Scalars should not be confused with a 1-item vector, or 1-item matrix, or with any 1-item multi-dimensional array for that matter. Remember that the scalar has rank 0 while a multi-dimensional array will have rank greater than 0.\n",
    "\n",
    "But confusion doesn't arise only with scalars versus 1-item multi-dimensional arrays. Consider the variables `v` and `m` that we will introduce now, a vector and a one-row matrix:"
   ]
  },
  {
   "cell_type": "code",
   "execution_count": 70,
   "metadata": {},
   "outputs": [],
   "source": [
    "v ← 87 65 21 40\n",
    "m ← 1 4 ⍴ 87 65 21 40"
   ]
  },
  {
   "cell_type": "markdown",
   "metadata": {},
   "source": [
    "If we display their values, they look exactly the same:"
   ]
  },
  {
   "cell_type": "code",
   "execution_count": 71,
   "metadata": {},
   "outputs": [
    {
     "data": {
      "text/html": [
       "<span style=\"white-space:pre; font-family: monospace\">87 65 21 40\n",
       "</span>"
      ]
     },
     "execution_count": 71,
     "metadata": {},
     "output_type": "execute_result"
    }
   ],
   "source": [
    "v"
   ]
  },
  {
   "cell_type": "code",
   "execution_count": 72,
   "metadata": {},
   "outputs": [
    {
     "data": {
      "text/html": [
       "<span style=\"white-space:pre; font-family: monospace\">87 65 21 40\n",
       "</span>"
      ]
     },
     "execution_count": 72,
     "metadata": {},
     "output_type": "execute_result"
    }
   ],
   "source": [
    "m"
   ]
  },
  {
   "cell_type": "markdown",
   "metadata": {},
   "source": [
    "But they cannot be easily added or multiplied together:"
   ]
  },
  {
   "cell_type": "code",
   "execution_count": 73,
   "metadata": {},
   "outputs": [
    {
     "name": "stderr",
     "output_type": "stream",
     "text": [
      "RANK ERROR: Mismatched left and right argument ranks\n",
      "      v+m\n",
      "       ∧\n"
     ]
    }
   ],
   "source": [
    "v + m"
   ]
  },
  {
   "cell_type": "markdown",
   "metadata": {},
   "source": [
    "#### Displaying Long Vectors\n",
    "\n",
    "If a vector is too long to be displayed in a single line on your screen, the interpreter session will wrap it onto several lines. But to prevent possible confusion with the display of a matrix, the second line and the following lines will not be aligned at the left margin, but will be indented 6 characters to the right. To show you what we mean, the figure below contains a screenshot of the Windows IDE when we display the variable `bignum`; the vector is split in 3 lines and some of the values are only visible if you scroll right.\n",
    "\n",
    "![A long variable being wrapped in the Windows IDE](res/Bignum_Output.png)\n",
    "\n",
    "Depending on the format in which you are reading this book, you may or may not be able to see all the numbers and they may or may not be laid out in several lines. If they are, then the first line will also not be indented, like in the figure above."
   ]
  },
  {
   "cell_type": "code",
   "execution_count": 76,
   "metadata": {},
   "outputs": [
    {
     "data": {
      "text/html": [
       "<span style=\"white-space:pre; font-family: monospace\">446.19 231.12 253.59 115.56 262.15 271.78 1.07 180.83 166.92 318.86 240.75 44.94 240.75 90.95 317.79 285.69 4.28 368.08 295.32 379.85 324.21 77.04 77.04 415.16 447.26 33.17 415.16 285.69 202.23 126.26 180.83 81.32 134.82 261.08 343.47 157.29 335.98\n",
       "</span>"
      ]
     },
     "execution_count": 76,
     "metadata": {},
     "output_type": "execute_result"
    }
   ],
   "source": [
    "bignum ← 446.19 231.12 253.59 115.56 262.15 271.78 1.07 180.83 166.92 318.86 240.75 44.94 240.75 90.95 317.79 285.69 4.28 368.08 295.32 379.85 324.21 77.04 77.04 415.16 447.26 33.17 415.16 285.69 202.23 126.26 180.83 81.32 134.82 261.08 343.47 157.29 335.98\n",
    "bignum"
   ]
  },
  {
   "cell_type": "markdown",
   "metadata": {},
   "source": [
    "## Simple Character Values\n",
    "\n",
    "### Character Vectors and Scalars\n",
    "\n",
    "Up to now, we have used only numeric values, but we can also create textual data known as a *character array*. To identify a string of characters as text, we start and end it with a single ***Quote***:"
   ]
  },
  {
   "cell_type": "code",
   "execution_count": 77,
   "metadata": {},
   "outputs": [
    {
     "data": {
      "text/html": [
       "<span style=\"white-space:pre; font-family: monospace\">Today is August 7th, 2020\n",
       "</span>"
      ]
     },
     "execution_count": 77,
     "metadata": {},
     "output_type": "execute_result"
    }
   ],
   "source": [
    "text ← 'Today is August 7th, 2020'\n",
    "text"
   ]
  },
  {
   "cell_type": "code",
   "execution_count": 65,
   "metadata": {},
   "outputs": [
    {
     "data": {
      "text/html": [
       "<span style=\"white-space:pre; font-family: monospace\">25\n",
       "</span>"
      ]
     },
     "execution_count": 65,
     "metadata": {},
     "output_type": "execute_result"
    }
   ],
   "source": [
    "⍴text"
   ]
  },
  {
   "cell_type": "code",
   "execution_count": 78,
   "metadata": {},
   "outputs": [
    {
     "data": {
      "text/html": [
       "<span style=\"white-space:pre; font-family: monospace\">I type 7 trailing blanks       \n",
       "</span>"
      ]
     },
     "execution_count": 78,
     "metadata": {},
     "output_type": "execute_result"
    }
   ],
   "source": [
    "trailer ← 'I type 7 trailing blanks       '\n",
    "trailer"
   ]
  },
  {
   "cell_type": "code",
   "execution_count": 79,
   "metadata": {},
   "outputs": [
    {
     "data": {
      "text/html": [
       "<span style=\"white-space:pre; font-family: monospace\">31\n",
       "</span>"
      ]
     },
     "execution_count": 79,
     "metadata": {},
     "output_type": "execute_result"
    }
   ],
   "source": [
    "⍴trailer"
   ]
  },
  {
   "cell_type": "markdown",
   "metadata": {},
   "source": [
    "As these examples show:\n",
    "\n",
    " - The quotes are **not** part of the text, they're just there to delimit it.\n",
    " - Text can include any character: letters, digits and punctuation.\n",
    " - So, `text` and `trailer` are vectors. They are sometimes called *Strings*.\n",
    " - APL does not recognize words; a character array is simple a set of characters.\n",
    " - Blank characters (spaces) are characters like any other characters; they do not have any special meaning. However, when a character array is displayed any trailing blanks are most often invisible.\n",
    " \n",
    "A problem may occur when the text itself includes an apostrophe, for example in a sentence like \"*It's raining, isn't it?*\".\n",
    "\n",
    "When you enter apostrophes as part of the text, you must double them, as shown below, to distinguish them from the delimiters:"
   ]
  },
  {
   "cell_type": "code",
   "execution_count": 80,
   "metadata": {},
   "outputs": [],
   "source": [
    "damned ← 'It''s raining, isn''t it?'"
   ]
  },
  {
   "cell_type": "markdown",
   "metadata": {},
   "source": [
    "This is only a typing convention, but the doubled quotes are transformed into a single apostrophe, as you can see here:"
   ]
  },
  {
   "cell_type": "code",
   "execution_count": 82,
   "metadata": {},
   "outputs": [
    {
     "data": {
      "text/html": [
       "<span style=\"white-space:pre; font-family: monospace\">It's raining, isn't it?\n",
       "</span>"
      ]
     },
     "execution_count": 82,
     "metadata": {},
     "output_type": "execute_result"
    }
   ],
   "source": [
    "damned"
   ]
  },
  {
   "cell_type": "markdown",
   "metadata": {},
   "source": [
    "As mentioned above a character array can contain digits, but they are not considered to be numbers, and it is impossible to use them in a mathematical operation:"
   ]
  },
  {
   "cell_type": "code",
   "execution_count": 83,
   "metadata": {},
   "outputs": [
    {
     "data": {
      "text/html": [
       "<span style=\"white-space:pre; font-family: monospace\">100\n",
       "</span>"
      ]
     },
     "execution_count": 83,
     "metadata": {},
     "output_type": "execute_result"
    }
   ],
   "source": [
    "hundred ← '100'\n",
    "hundred"
   ]
  },
  {
   "cell_type": "markdown",
   "metadata": {},
   "source": [
    "`hundred` looks like a number, but it isn't:"
   ]
  },
  {
   "cell_type": "code",
   "execution_count": 85,
   "metadata": {},
   "outputs": [
    {
     "data": {
      "text/html": [
       "<span style=\"white-space:pre; font-family: monospace\">3\n",
       "</span>"
      ]
     },
     "execution_count": 85,
     "metadata": {},
     "output_type": "execute_result"
    }
   ],
   "source": [
    "⍴hundred"
   ]
  },
  {
   "cell_type": "code",
   "execution_count": 86,
   "metadata": {},
   "outputs": [
    {
     "name": "stderr",
     "output_type": "stream",
     "text": [
      "DOMAIN ERROR\n",
      "      hundred+5\n",
      "             ∧\n"
     ]
    }
   ],
   "source": [
    "hundred + 5"
   ]
  },
  {
   "cell_type": "markdown",
   "metadata": {},
   "source": [
    "Of course, a single character is a scalar:"
   ]
  },
  {
   "cell_type": "code",
   "execution_count": 87,
   "metadata": {},
   "outputs": [
    {
     "data": {
      "text/html": [
       "<span style=\"white-space:pre; font-family: monospace\">\n",
       "</span>"
      ]
     },
     "execution_count": 87,
     "metadata": {},
     "output_type": "execute_result"
    }
   ],
   "source": [
    "singleton ← 'p'\n",
    "⍴singleton"
   ]
  },
  {
   "cell_type": "markdown",
   "metadata": {},
   "source": [
    "The result is a blank line because scalars have no dimensions."
   ]
  },
  {
   "cell_type": "code",
   "execution_count": 90,
   "metadata": {},
   "outputs": [
    {
     "data": {
      "text/html": [
       "<span style=\"white-space:pre; font-family: monospace\">0\n",
       "</span>"
      ]
     },
     "execution_count": 90,
     "metadata": {},
     "output_type": "execute_result"
    }
   ],
   "source": [
    "≢⍴singleton"
   ]
  },
  {
   "cell_type": "markdown",
   "metadata": {},
   "source": [
    "And the confirmation above tells us that `singleton` has 0 dimensions."
   ]
  },
  {
   "cell_type": "markdown",
   "metadata": {},
   "source": [
    "### Character Arrays\n",
    "\n",
    "We saw, some pages ago, a list of months:\n",
    "\n",
    "```\n",
    "January\n",
    "February\n",
    "March\n",
    "April\n",
    "May\n",
    "June\n",
    "```\n",
    "\n",
    "We can think of this as a list of $6$ words, or as a matrix of $6$ rows and $8$ columns (the width of \"February\"). Both representations are valid, and both can be used in APL; let us study them one after the other.\n",
    "\n",
    "To enter the months as a $6$ by $8$ matrix, one must use the *Reshape* (`⍴`) function:\n",
    "\n",
    " - To the left of the function we must specify the shape of the matrix we want to build: `6 8`\n",
    " - To the right of the function we must specify all of the characters (including any trailing blanks) that are necessary to fill each row to the proper length:"
   ]
  },
  {
   "cell_type": "code",
   "execution_count": 91,
   "metadata": {},
   "outputs": [],
   "source": [
    "monMat ← 6 8 ⍴ 'January FebruaryMarch   April   May     June'"
   ]
  },
  {
   "cell_type": "markdown",
   "metadata": {},
   "source": [
    "No space was typed between `February` and `March`; do you see why?\n",
    "\n",
    "Let us check the result:"
   ]
  },
  {
   "cell_type": "code",
   "execution_count": 92,
   "metadata": {},
   "outputs": [
    {
     "data": {
      "text/html": [
       "<span style=\"white-space:pre; font-family: monospace\">January \n",
       "February\n",
       "March   \n",
       "April   \n",
       "May     \n",
       "JuneJanu\n",
       "</span>"
      ]
     },
     "execution_count": 92,
     "metadata": {},
     "output_type": "execute_result"
    }
   ],
   "source": [
    "monMat"
   ]
  },
  {
   "cell_type": "markdown",
   "metadata": {},
   "source": [
    "Oops! We forgot that when the right argument is too short, `⍴` reuses it from the beginning. That's the reason why the last row is wrong. We must add $4$ trailing blanks.\n",
    "\n",
    "<!-- begin tip -->\n",
    "***Tip***\n",
    "\n",
    " > You do not have to re-type the entire expression.\n",
    " >\n",
    " > If you are working in the interpreter session, just move your cursor up to the line where you defined `monMat`, add the missing blanks, and press the *Enter* key.\n",
    " >\n",
    " > APL will then copy the modified line down to the end of your session and automatically restore the original line to its original state. As a consequence, the interpreter window always displays the sequence of expressions and results in the order in which you typed them.\n",
    "<!-- end -->\n",
    "\n",
    "If you are working with the Jupyter notebook version of this book, you can just go to the input cell where you made your mistake and correct it in place. Otherwise, just copy the cell and correct the mistake in the copied cell:"
   ]
  },
  {
   "cell_type": "code",
   "execution_count": 93,
   "metadata": {},
   "outputs": [
    {
     "data": {
      "text/html": [
       "<span style=\"white-space:pre; font-family: monospace\">January \n",
       "February\n",
       "March   \n",
       "April   \n",
       "May     \n",
       "June    \n",
       "</span>"
      ]
     },
     "execution_count": 93,
     "metadata": {},
     "output_type": "execute_result"
    }
   ],
   "source": [
    "monMat ← 6 8 ⍴ 'January FebruaryMarch   April   May     June    '\n",
    "monMat"
   ]
  },
  {
   "cell_type": "markdown",
   "metadata": {},
   "source": [
    "As expected, the shape of `monMat` shows it is a matrix:"
   ]
  },
  {
   "cell_type": "code",
   "execution_count": 95,
   "metadata": {},
   "outputs": [
    {
     "data": {
      "text/html": [
       "<span style=\"white-space:pre; font-family: monospace\">6 8\n",
       "</span>"
      ]
     },
     "execution_count": 95,
     "metadata": {},
     "output_type": "execute_result"
    }
   ],
   "source": [
    "⍴monMat"
   ]
  },
  {
   "cell_type": "markdown",
   "metadata": {},
   "source": [
    "Now, to enter the months as 6 words, one must type each word between quotes, and check that each closing quote is separated from the next opening quote by at least one blank (otherwise it would be interpreted as an apostrophe - remember, the juxtaposition of two quotes in a character string is used to enter a single quote):"
   ]
  },
  {
   "cell_type": "code",
   "execution_count": 96,
   "metadata": {},
   "outputs": [
    {
     "data": {
      "text/html": [
       "<span style=\"white-space:pre; font-family: monospace\">┌───────┬────────┬─────┬─────┬───┬────┐\n",
       "│January│February│March│April│May│June│\n",
       "└───────┴────────┴─────┴─────┴───┴────┘\n",
       "</span>"
      ]
     },
     "execution_count": 96,
     "metadata": {},
     "output_type": "execute_result"
    }
   ],
   "source": [
    "monVec ← 'January' 'February' 'March' 'April' 'May' 'June'\n",
    "monVec"
   ]
  },
  {
   "cell_type": "markdown",
   "metadata": {},
   "source": [
    "This, on the other hand, is a vector:"
   ]
  },
  {
   "cell_type": "code",
   "execution_count": 98,
   "metadata": {},
   "outputs": [
    {
     "data": {
      "text/html": [
       "<span style=\"white-space:pre; font-family: monospace\">6\n",
       "</span>"
      ]
     },
     "execution_count": 98,
     "metadata": {},
     "output_type": "execute_result"
    }
   ],
   "source": [
    "⍴monVec"
   ]
  },
  {
   "cell_type": "markdown",
   "metadata": {},
   "source": [
    "`monVec` is a vector of a kind that we have not seen before, the items of which are 6 sub-arrays. This kind of an array is called a ***Nested Array*** and is the reason why we see those black boxes around the months.\n",
    "\n",
    "Be patient! We shall study nested arrays very soon in this very chapter.\n",
    "\n",
    "## Indexing\n",
    "\n",
    "### Traditional Vector Indexing\n",
    "\n",
    "Our variable `contents` contains the following items:"
   ]
  },
  {
   "cell_type": "code",
   "execution_count": 99,
   "metadata": {},
   "outputs": [
    {
     "data": {
      "text/html": [
       "<span style=\"white-space:pre; font-family: monospace\">12 56 78 74 85 96 30 22 44 66 82 27\n",
       "</span>"
      ]
     },
     "execution_count": 99,
     "metadata": {},
     "output_type": "execute_result"
    }
   ],
   "source": [
    "contents"
   ]
  },
  {
   "cell_type": "markdown",
   "metadata": {},
   "source": [
    "To extract one of these items, you just have to specify its position, or ***Index***, between ***Square brackets***:"
   ]
  },
  {
   "cell_type": "code",
   "execution_count": 100,
   "metadata": {},
   "outputs": [
    {
     "data": {
      "text/html": [
       "<span style=\"white-space:pre; font-family: monospace\">78\n",
       "</span>"
      ]
     },
     "execution_count": 100,
     "metadata": {},
     "output_type": "execute_result"
    }
   ],
   "source": [
    "contents[3]"
   ]
  },
  {
   "cell_type": "markdown",
   "metadata": {},
   "source": [
    "Of course, an index must follow some obvious rules: it must be an integer numeric value; it may not be negative or greater than the size of the vector. Otherwise, an \"`INDEX ERROR`\" will be reported.\n",
    "\n",
    "It is possible to extract several items in a single operation, in any order, and you can even select the same item more than once:"
   ]
  },
  {
   "cell_type": "code",
   "execution_count": 102,
   "metadata": {},
   "outputs": [
    {
     "data": {
      "text/html": [
       "<span style=\"white-space:pre; font-family: monospace\">78 30 12 78 78 27\n",
       "</span>"
      ]
     },
     "execution_count": 102,
     "metadata": {},
     "output_type": "execute_result"
    }
   ],
   "source": [
    "contents[3 7 1 3 3 12]"
   ]
  },
  {
   "cell_type": "markdown",
   "metadata": {},
   "source": [
    "The same notation allows you to modify one or more items of the vector. The only condition is that you must provide as many replacement values as the number of items you select, or give a single replacement value to use for all the selected items.\n",
    "\n",
    "Below, we use three values to replace three items:"
   ]
  },
  {
   "cell_type": "code",
   "execution_count": 103,
   "metadata": {},
   "outputs": [
    {
     "data": {
      "text/html": [
       "<span style=\"white-space:pre; font-family: monospace\">12 7 78 11 85 80 30 22 44 66 82 27\n",
       "</span>"
      ]
     },
     "execution_count": 103,
     "metadata": {},
     "output_type": "execute_result"
    }
   ],
   "source": [
    "contents[2 4 6] ← 7 11 80\n",
    "contents"
   ]
  },
  {
   "cell_type": "markdown",
   "metadata": {},
   "source": [
    "Now we provide a single value to replace three items:"
   ]
  },
  {
   "cell_type": "code",
   "execution_count": 104,
   "metadata": {},
   "outputs": [
    {
     "data": {
      "text/html": [
       "<span style=\"white-space:pre; font-family: monospace\">12 7 78 11 85 80 30 33 44 66 33 33\n",
       "</span>"
      ]
     },
     "execution_count": 104,
     "metadata": {},
     "output_type": "execute_result"
    }
   ],
   "source": [
    "contents[8 11 12] ← 33\n",
    "contents"
   ]
  },
  {
   "cell_type": "markdown",
   "metadata": {},
   "source": [
    "This works exactly the same on character vectors:"
   ]
  },
  {
   "cell_type": "code",
   "execution_count": 105,
   "metadata": {},
   "outputs": [
    {
     "data": {
      "text/html": [
       "<span style=\"white-space:pre; font-family: monospace\">REPORT\n",
       "</span>"
      ]
     },
     "execution_count": 105,
     "metadata": {},
     "output_type": "execute_result"
    }
   ],
   "source": [
    "'COMPUTER'[8 7 4 2 8 6]"
   ]
  },
  {
   "cell_type": "code",
   "execution_count": 106,
   "metadata": {},
   "outputs": [
    {
     "data": {
      "text/html": [
       "<span style=\"white-space:pre; font-family: monospace\">BLEND\n",
       "</span>"
      ]
     },
     "execution_count": 106,
     "metadata": {},
     "output_type": "execute_result"
    }
   ],
   "source": [
    "text ← 'BREAD'\n",
    "text[2 4] ← 'LN'\n",
    "text"
   ]
  },
  {
   "cell_type": "markdown",
   "metadata": {},
   "source": [
    "### The Shape of the Result\n",
    "\n",
    "The index may be a numeric array of any shape: scalar, vector, matrix, or an array of higher rank. To understand what happens, there is a simple rule:\n",
    "\n",
    " > When a vector is indexed by an array, the result has exactly the <b><i>same shape</i></b> as the index array, as if each item of the index had been replaced by the item it designates.\n",
    "\n",
    "This rule is easy to verify. Let us restore the initial values of `contents`:"
   ]
  },
  {
   "cell_type": "code",
   "execution_count": 107,
   "metadata": {},
   "outputs": [],
   "source": [
    "contents ← 12 56 78 74 85 96 30 22 44 66 82 27"
   ]
  },
  {
   "cell_type": "markdown",
   "metadata": {},
   "source": [
    "And let us create a matrix of indices:"
   ]
  },
  {
   "cell_type": "code",
   "execution_count": 108,
   "metadata": {},
   "outputs": [
    {
     "data": {
      "text/html": [
       "<span style=\"white-space:pre; font-family: monospace\"> 5  5 4  4  8\n",
       " 6 12 6 11 12\n",
       "10  6 1  4  9\n",
       "</span>"
      ]
     },
     "execution_count": 108,
     "metadata": {},
     "output_type": "execute_result"
    }
   ],
   "source": [
    "myIndex ← 3 5 ⍴ 5 5 4 4 8 6 12 6 11 12 10 6 1 4 9\n",
    "myIndex"
   ]
  },
  {
   "cell_type": "code",
   "execution_count": 109,
   "metadata": {},
   "outputs": [
    {
     "data": {
      "text/html": [
       "<span style=\"white-space:pre; font-family: monospace\">85 85 74 74 22\n",
       "96 27 96 82 27\n",
       "66 96 12 74 44\n",
       "</span>"
      ]
     },
     "execution_count": 109,
     "metadata": {},
     "output_type": "execute_result"
    }
   ],
   "source": [
    "contents[myIndex]"
   ]
  },
  {
   "cell_type": "markdown",
   "metadata": {},
   "source": [
    "For example, you can see that the index in row 2, column 5 was 12. So, it has been replaced by the 12th item of `contents`, i.e. 27.\n",
    "\n",
    "The rule remains true if the indexed vector is a character vector. For example, imagine that we have a matrix named `planning`, in which some tasks are planned (1) or not (0) over the next 12 months:"
   ]
  },
  {
   "cell_type": "code",
   "execution_count": 115,
   "metadata": {},
   "outputs": [
    {
     "data": {
      "text/html": [
       "<span style=\"white-space:pre; font-family: monospace\">0 1 1 1 1 1 0 0 0 0 0 0\n",
       "1 1 0 1 0 1 1 0 0 0 1 1\n",
       "1 0 1 1 0 0 0 0 0 0 1 1\n",
       "0 1 0 1 1 1 1 1 1 0 0 1\n",
       "0 0 1 0 1 1 1 0 1 0 0 1\n",
       "</span>"
      ]
     },
     "execution_count": 115,
     "metadata": {},
     "output_type": "execute_result"
    }
   ],
   "source": [
    "⎕RL ← 73\n",
    "planning ← ¯1+?5 12⍴2\n",
    "planning"
   ]
  },
  {
   "cell_type": "markdown",
   "metadata": {},
   "source": [
    "This is not very easy to interpret! Let us replace the inactive periods by \"`-`\", and the busy periods by \"`⎕`\". This beautiful character, named ***Quad***, can be entered by pressing <kbd>APL</kbd>+<kbd>l</kbd>."
   ]
  },
  {
   "cell_type": "code",
   "execution_count": 116,
   "metadata": {},
   "outputs": [
    {
     "data": {
      "text/html": [
       "<span style=\"white-space:pre; font-family: monospace\">-⎕⎕⎕⎕⎕------\n",
       "⎕⎕-⎕-⎕⎕---⎕⎕\n",
       "⎕-⎕⎕------⎕⎕\n",
       "-⎕-⎕⎕⎕⎕⎕⎕--⎕\n",
       "--⎕-⎕⎕⎕-⎕--⎕\n",
       "</span>"
      ]
     },
     "execution_count": 116,
     "metadata": {},
     "output_type": "execute_result"
    }
   ],
   "source": [
    "'-⎕'[planning+1]"
   ]
  },
  {
   "cell_type": "markdown",
   "metadata": {},
   "source": [
    "Isn't it magic?\n",
    "\n",
    "Do you understand why we added 1 to `planning`? Of course, the vector to be indexed was composed of only two characters, so the set of indices had to be composed only from the values 1 and 2 and that is why we used `planning+1` to index.\n",
    "\n",
    "All the 0's in `planning` have been replaced by the 1st item (`-`), and all the 1's have been replaced by the 2nd item (`⎕`).\n",
    "\n",
    "### Array Indexing\n",
    "\n",
    "Just to make some experiments, let us create a new variable, named `tests`:"
   ]
  },
  {
   "cell_type": "code",
   "execution_count": 118,
   "metadata": {},
   "outputs": [
    {
     "data": {
      "text/html": [
       "<span style=\"white-space:pre; font-family: monospace\">73  16 42\n",
       "50   2 67\n",
       "11  81 37\n",
       "93 100 98\n",
       "83  32 76\n",
       "51  37 15\n",
       "</span>"
      ]
     },
     "execution_count": 118,
     "metadata": {},
     "output_type": "execute_result"
    }
   ],
   "source": [
    "⎕RL ← 73\n",
    "tests ← ?6 3⍴100\n",
    "tests"
   ]
  },
  {
   "cell_type": "markdown",
   "metadata": {},
   "source": [
    "Indexing an array is very similar to the method we say for vectors, but we now need one index for the row and one for the column; they must be separated by a ***Semi-colon***. For example, to get (or replace) the value 55 in row 4, column 3, one types:"
   ]
  },
  {
   "cell_type": "code",
   "execution_count": 119,
   "metadata": {},
   "outputs": [
    {
     "data": {
      "text/html": [
       "<span style=\"white-space:pre; font-family: monospace\">98\n",
       "</span>"
      ]
     },
     "execution_count": 119,
     "metadata": {},
     "output_type": "execute_result"
    }
   ],
   "source": [
    "tests[4;3]"
   ]
  },
  {
   "cell_type": "markdown",
   "metadata": {},
   "source": [
    "It is of course possible to select more than one row and more than one column. If so, one obtains all the values situated at the intersections of the specified rows and columns."
   ]
  },
  {
   "cell_type": "code",
   "execution_count": 120,
   "metadata": {},
   "outputs": [
    {
     "data": {
      "text/html": [
       "<span style=\"white-space:pre; font-family: monospace\">73 42\n",
       "83 76\n",
       "51 15\n",
       "</span>"
      ]
     },
     "execution_count": 120,
     "metadata": {},
     "output_type": "execute_result"
    }
   ],
   "source": [
    "tests[1 5 6;1 3]"
   ]
  },
  {
   "cell_type": "markdown",
   "metadata": {},
   "source": [
    "The result of indexing may sometimes be surprising. Let us extract 4 values from the first column:"
   ]
  },
  {
   "cell_type": "code",
   "execution_count": 121,
   "metadata": {},
   "outputs": [
    {
     "data": {
      "text/html": [
       "<span style=\"white-space:pre; font-family: monospace\">73 50 83 51\n",
       "</span>"
      ]
     },
     "execution_count": 121,
     "metadata": {},
     "output_type": "execute_result"
    }
   ],
   "source": [
    "tests[1 2 5 6;1]"
   ]
  },
  {
   "cell_type": "markdown",
   "metadata": {},
   "source": [
    "You probably expected the result to be displayed like a column? Really sorry!\n",
    "\n",
    "The result of this expression is a vector, and a vector is always displayed as a row on the screen.\n",
    "\n",
    "We shall see later that it is possible, using a little trick, to cause the result to be displayed vertically.\n",
    "\n",
    "When you use indexing, you must specify as many indices or sets of indices as the array's rank. For a 3-D array, you must specify 3 sets of indices, separated by two semi-colons.\n",
    "\n",
    "For example, suppose that we would like to extract the production of the 2nd assembly line, for the first 6 months of the last 2 years, from the array `prod`. Let's express that in order of the 3 dimensions: Years/Lines/Months:\n",
    "\n",
    "|||\n",
    "|:-|:-|\n",
    "| The last 2 years are in positions | 4 5 |\n",
    "| The second assembly line | 2 |\n",
    "| The first 6 months | 1 2 3 4 5 6 |"
   ]
  },
  {
   "cell_type": "code",
   "execution_count": 123,
   "metadata": {},
   "outputs": [
    {
     "data": {
      "text/html": [
       "<span style=\"white-space:pre; font-family: monospace\"> 8 48 22 37 33  1\n",
       "41  1 14 50 17 42\n",
       "</span>"
      ]
     },
     "execution_count": 123,
     "metadata": {},
     "output_type": "execute_result"
    }
   ],
   "source": [
    "prod[4 5;2;1 2 3 4 5 6]"
   ]
  },
  {
   "cell_type": "markdown",
   "metadata": {},
   "source": [
    "The result above is a matrix: 2 (years) by 6 (months).\n",
    "\n",
    "<!-- begin remark -->\n",
    "***Remark***\n",
    "\n",
    " > Because we can select rows and columns, the semi-colon is necessary to tell them apart:\n",
    "<!-- end -->\n",
    "\n",
    "The indexing below gives rows 1 and 2, column 3:"
   ]
  },
  {
   "cell_type": "code",
   "execution_count": 124,
   "metadata": {},
   "outputs": [
    {
     "data": {
      "text/html": [
       "<span style=\"white-space:pre; font-family: monospace\">42 67\n",
       "</span>"
      ]
     },
     "execution_count": 124,
     "metadata": {},
     "output_type": "execute_result"
    }
   ],
   "source": [
    "tests[1 2;3]"
   ]
  },
  {
   "cell_type": "markdown",
   "metadata": {},
   "source": [
    "whereas"
   ]
  },
  {
   "cell_type": "code",
   "execution_count": 126,
   "metadata": {},
   "outputs": [
    {
     "data": {
      "text/html": [
       "<span style=\"white-space:pre; font-family: monospace\">16 42\n",
       "</span>"
      ]
     },
     "execution_count": 126,
     "metadata": {},
     "output_type": "execute_result"
    }
   ],
   "source": [
    "tests[1;2 3]"
   ]
  },
  {
   "cell_type": "markdown",
   "metadata": {},
   "source": [
    "gives row 1, columns 2 and 3.\n",
    "\n",
    "<!-- begin remark -->\n",
    "***Remark***\n",
    "\n",
    " > It is also possible to select several items which are not at the intersections of the same rows or columns. To do so requires a special notation where the individual Row/Column indices of each item are embedded in parentheses. The reason for this syntax will become clear in Section 6.3.\n",
    "<!-- end -->\n",
    "\n",
    "For example, let us select `tests[2;3]` together with `tests[5;1]` and `tests[1;2]`."
   ]
  },
  {
   "cell_type": "code",
   "execution_count": 127,
   "metadata": {},
   "outputs": [
    {
     "data": {
      "text/html": [
       "<span style=\"white-space:pre; font-family: monospace\">67 83 16\n",
       "</span>"
      ]
     },
     "execution_count": 127,
     "metadata": {},
     "output_type": "execute_result"
    }
   ],
   "source": [
    "tests[(2 3)(5 1)(1 2)]"
   ]
  },
  {
   "cell_type": "markdown",
   "metadata": {},
   "source": [
    "### Convention\n",
    "\n",
    "To specify *all* items of a dimension, you just omit the index for that dimension, but you must not omit the semi-colon attached to it.\n",
    "\n",
    "In the previous example, to obtain both assembly lines we could have typed:"
   ]
  },
  {
   "cell_type": "code",
   "execution_count": 128,
   "metadata": {},
   "outputs": [
    {
     "data": {
      "text/html": [
       "<span style=\"white-space:pre; font-family: monospace\">13 36 12 40 12 15\n",
       " 8 48 22 37 33  1\n",
       "                 \n",
       "38 31 24 40 23  7\n",
       "41  1 14 50 17 42\n",
       "</span>"
      ]
     },
     "execution_count": 128,
     "metadata": {},
     "output_type": "execute_result"
    }
   ],
   "source": [
    "prod[4 5;1 2;1 2 3 4 5 6]"
   ]
  },
  {
   "cell_type": "markdown",
   "metadata": {},
   "source": [
    "But it is shorter to type:"
   ]
  },
  {
   "cell_type": "code",
   "execution_count": 130,
   "metadata": {},
   "outputs": [
    {
     "data": {
      "text/html": [
       "<span style=\"white-space:pre; font-family: monospace\">13 36 12 40 12 15\n",
       " 8 48 22 37 33  1\n",
       "                 \n",
       "38 31 24 40 23  7\n",
       "41  1 14 50 17 42\n",
       "</span>"
      ]
     },
     "execution_count": 130,
     "metadata": {},
     "output_type": "execute_result"
    }
   ],
   "source": [
    "prod[4 5;;1 2 3 4 5 6]"
   ]
  },
  {
   "cell_type": "markdown",
   "metadata": {},
   "source": [
    "The omitted index means \"All the assembly lines\".\n",
    "\n",
    "In the same way, omitting the last index means \"All the months\":"
   ]
  },
  {
   "cell_type": "code",
   "execution_count": 132,
   "metadata": {},
   "outputs": [
    {
     "data": {
      "text/html": [
       "<span style=\"white-space:pre; font-family: monospace\"> 8 48 22 37 33  1 39 30 50 50  8 35\n",
       "41  1 14 50 17 42  6 35 12 48 30 29\n",
       "</span>"
      ]
     },
     "execution_count": 132,
     "metadata": {},
     "output_type": "execute_result"
    }
   ],
   "source": [
    "prod[4 5;2;]"
   ]
  },
  {
   "cell_type": "markdown",
   "metadata": {},
   "source": [
    "And finally, omitting the first and second indices means \"All years and lines\":"
   ]
  },
  {
   "cell_type": "code",
   "execution_count": 133,
   "metadata": {},
   "outputs": [
    {
     "data": {
      "text/html": [
       "<span style=\"white-space:pre; font-family: monospace\"> 9 16 42\n",
       "34 19 32\n",
       "        \n",
       "29  5 45\n",
       "46 20 47\n",
       "        \n",
       "37 19  5\n",
       "39 23 41\n",
       "        \n",
       "13 36 12\n",
       " 8 48 22\n",
       "        \n",
       "38 31 24\n",
       "41  1 14\n",
       "</span>"
      ]
     },
     "execution_count": 133,
     "metadata": {},
     "output_type": "execute_result"
    }
   ],
   "source": [
    "prod[;;1 2 3]"
   ]
  },
  {
   "cell_type": "markdown",
   "metadata": {},
   "source": [
    "This convention also applies to *replacing* specific items. For example, to change all the items in the last row of `tests`, we could type:"
   ]
  },
  {
   "cell_type": "code",
   "execution_count": 134,
   "metadata": {},
   "outputs": [
    {
     "data": {
      "text/html": [
       "<span style=\"white-space:pre; font-family: monospace\">73  16 42\n",
       "50   2 67\n",
       "11  81 37\n",
       "93 100 98\n",
       "83  32 76\n",
       "60  70 80\n",
       "</span>"
      ]
     },
     "execution_count": 134,
     "metadata": {},
     "output_type": "execute_result"
    }
   ],
   "source": [
    "tests[6;] ← 60 70 80\n",
    "tests"
   ]
  },
  {
   "cell_type": "markdown",
   "metadata": {},
   "source": [
    "### Warnings\n",
    "\n",
    "We would like to draw your attention to some delicate details. Here is the first:\n",
    "\n",
    "#### Shape Compatibility\n",
    "\n",
    "To replace several items in an array, the replacement array must have exactly the **same shape** as the array of indices they replace.\n",
    "\n",
    "For example, supposed that we would like to replace the four \"corners\" of `tests` with the values 11 22 33 44 respectively.\n",
    "\n",
    "We **cannot** successfully execute:"
   ]
  },
  {
   "cell_type": "code",
   "execution_count": 135,
   "metadata": {},
   "outputs": [
    {
     "name": "stderr",
     "output_type": "stream",
     "text": [
      "LENGTH ERROR\n",
      "      tests[1 6;1 3]←11 22 33 44\n",
      "           ∧\n"
     ]
    }
   ],
   "source": [
    "tests[1 6;1 3] ← 11 22 33 44"
   ]
  },
  {
   "cell_type": "markdown",
   "metadata": {},
   "source": [
    "Notice the `LENGTH ERROR` that was issued (note that this is a \"**Shape** error\").\n",
    "\n",
    "If we had extracted these four values, the result would have been a 2 by 2 matrix:"
   ]
  },
  {
   "cell_type": "code",
   "execution_count": 137,
   "metadata": {},
   "outputs": [
    {
     "data": {
      "text/html": [
       "<span style=\"white-space:pre; font-family: monospace\">73 42\n",
       "60 80\n",
       "</span>"
      ]
     },
     "execution_count": 137,
     "metadata": {},
     "output_type": "execute_result"
    }
   ],
   "source": [
    "tests[1 6;1 3]"
   ]
  },
  {
   "cell_type": "markdown",
   "metadata": {},
   "source": [
    "So, to replace them, we cannot use a vector, as we have just tried to do. Instead we must organise the replacement array into a 2 by 2 matrix, like this:"
   ]
  },
  {
   "cell_type": "code",
   "execution_count": 138,
   "metadata": {},
   "outputs": [
    {
     "data": {
      "text/html": [
       "<span style=\"white-space:pre; font-family: monospace\">11  16 22\n",
       "50   2 67\n",
       "11  81 37\n",
       "93 100 98\n",
       "83  32 76\n",
       "33  70 44\n",
       "</span>"
      ]
     },
     "execution_count": 138,
     "metadata": {},
     "output_type": "execute_result"
    }
   ],
   "source": [
    "tests[1 6;1 3] ← 2 2 ⍴ 11 22 33 44\n",
    "tests"
   ]
  },
  {
   "cell_type": "markdown",
   "metadata": {},
   "source": [
    "Notice the corners have the new values.\n",
    "\n",
    "#### Replace or Obtain All the Values\n",
    "\n",
    "To replace **all** of the values in an array with a single value, it is necessary to use brackets in which the indices of all the dimensions have been removed.\n",
    "\n",
    "For example, imagine that we would like to reset all the values of `tests` to zero.\n",
    "\n",
    "`tests ← 0` would be **wrong**, because that would replace the matrix by a scalar.\n",
    "\n",
    "The correct solution is"
   ]
  },
  {
   "cell_type": "code",
   "execution_count": 139,
   "metadata": {},
   "outputs": [
    {
     "data": {
      "text/html": [
       "<span style=\"white-space:pre; font-family: monospace\">0 0 0\n",
       "0 0 0\n",
       "0 0 0\n",
       "0 0 0\n",
       "0 0 0\n",
       "0 0 0\n",
       "</span>"
      ]
     },
     "execution_count": 139,
     "metadata": {},
     "output_type": "execute_result"
    }
   ],
   "source": [
    "tests2 ← tests\n",
    "tests2[;] ← 0\n",
    "tests2"
   ]
  },
  {
   "cell_type": "markdown",
   "metadata": {},
   "source": [
    "For a vector, like `contents`, we would write"
   ]
  },
  {
   "cell_type": "code",
   "execution_count": 140,
   "metadata": {},
   "outputs": [
    {
     "data": {
      "text/html": [
       "<span style=\"white-space:pre; font-family: monospace\">123 123 123 123 123 123 123 123 123 123 123 123\n",
       "</span>"
      ]
     },
     "execution_count": 140,
     "metadata": {},
     "output_type": "execute_result"
    }
   ],
   "source": [
    "contents[] ← 123\n",
    "contents"
   ]
  },
  {
   "cell_type": "markdown",
   "metadata": {},
   "source": [
    "to replace all the items with 123.\n",
    "\n",
    "#### \"Pass-Through\" Value\n",
    "\n",
    "Imagine that we have a vector:"
   ]
  },
  {
   "cell_type": "code",
   "execution_count": 141,
   "metadata": {},
   "outputs": [],
   "source": [
    "vec ← 32 51 28 19 72 31"
   ]
  },
  {
   "cell_type": "markdown",
   "metadata": {},
   "source": [
    "We replace some items and assign the result to another variable:"
   ]
  },
  {
   "cell_type": "code",
   "execution_count": 142,
   "metadata": {},
   "outputs": [],
   "source": [
    "res ← vec[2 4 6] ← 50"
   ]
  },
  {
   "cell_type": "markdown",
   "metadata": {},
   "source": [
    "What do we get in `res`? Is it `res ← vec[2 4 6]`, or is it `res ← 50`?"
   ]
  },
  {
   "cell_type": "code",
   "execution_count": 143,
   "metadata": {},
   "outputs": [
    {
     "data": {
      "text/html": [
       "<span style=\"white-space:pre; font-family: monospace\">50\n",
       "</span>"
      ]
     },
     "execution_count": 143,
     "metadata": {},
     "output_type": "execute_result"
    }
   ],
   "source": [
    "res"
   ]
  },
  {
   "cell_type": "markdown",
   "metadata": {},
   "source": [
    "In fact, we get `50`. We say that `50` is a ***Pass-Through*** value.\n",
    "\n",
    "### The Index Function\n",
    "\n",
    "In APL, nearly all of the built-in functions (known as *Primitive Functions*) are represented by a single symbol: `+` `×` `⍴` `÷` etc. Bracket indexing, as we introduced above, is an exception: it is represented by two non-contiguous symbols: `[` and `]`. This is one of the reasons why modern versions of APL also include an ***Index*** function.\n",
    "\n",
    "It is represented by the symbol `⌷`.\n",
    "\n",
    "**Beware**: this is **not** the symbol *Quad* used in our planning example a few pages ago!\n",
    "\n",
    "In fact, it looks like a *Quad* which has been *squished*, hence its name: Squish-Quad, or ***Squad*** for short. The *Squad* is obtained with <kbd>APL</kbd>+<kbd>Shift</kbd>+<kbd>L</kbd>.\n",
    "\n",
    "When applied to a vector, *Index* takes a single number on its left."
   ]
  },
  {
   "cell_type": "code",
   "execution_count": 144,
   "metadata": {},
   "outputs": [
    {
     "data": {
      "text/html": [
       "<span style=\"white-space:pre; font-family: monospace\">123\n",
       "</span>"
      ]
     },
     "execution_count": 144,
     "metadata": {},
     "output_type": "execute_result"
    }
   ],
   "source": [
    "3 ⌷ contents"
   ]
  },
  {
   "cell_type": "markdown",
   "metadata": {},
   "source": [
    "The above is equivalent to `contents[3]`.\n",
    "\n",
    "For now, we shall not try to extract more than one item from a vector; we need additional knowledge to do that.\n",
    "\n",
    "For a matrix, *Index* takes a pair of values (row/column) on its left."
   ]
  },
  {
   "cell_type": "code",
   "execution_count": 146,
   "metadata": {},
   "outputs": [
    {
     "data": {
      "text/html": [
       "<span style=\"white-space:pre; font-family: monospace\">100\n",
       "</span>"
      ]
     },
     "execution_count": 146,
     "metadata": {},
     "output_type": "execute_result"
    }
   ],
   "source": [
    "4 2 ⌷ tests"
   ]
  },
  {
   "cell_type": "markdown",
   "metadata": {},
   "source": [
    "The above is equivalent to `tests[4;2]`.\n",
    "\n",
    "It is possible to select several rows and several columns, using a special notation that will be explained in subsequent sections. The left argument of *Index* is now made of a list of rows followed by a list of columns, both parenthesised:"
   ]
  },
  {
   "cell_type": "code",
   "execution_count": 147,
   "metadata": {},
   "outputs": [
    {
     "data": {
      "text/html": [
       "<span style=\"white-space:pre; font-family: monospace\">11 22\n",
       "11 37\n",
       "33 44\n",
       "</span>"
      ]
     },
     "execution_count": 147,
     "metadata": {},
     "output_type": "execute_result"
    }
   ],
   "source": [
    "(1 3 6)(1 3)⌷tests"
   ]
  },
  {
   "cell_type": "markdown",
   "metadata": {},
   "source": [
    "This is equivalent to `tests[1 3 6;1 3]`."
   ]
  },
  {
   "cell_type": "markdown",
   "metadata": {},
   "source": [
    "## Mixed and Nested Arrays\n",
    "\n",
    "Up to now we have dealt only with homogeneous arrays: scalars, vectors or higher rank arrays containing only numbers or only characters. An array was a collection of what we call *simple* scalars. In the early 1980's enhanced versions of APL started to appear. They accepted a mixture of numbers and characters within the same array (so-called ***Mixed Arrays***), and arrays could contain sub-arrays as items (so-called ***Nested Arrays***).\n",
    "\n",
    "In this chapter, we shall explore only some basic properties of *Mixed* and *Nested arrays*, just to help you understand what might otherwise appear to be unusual behaviour or unexpected error messages. We shall not go any further for now; Chapter I will be entirely dedicated to an extensive study of nested arrays.\n",
    "\n",
    "Note that with the current widespread use of *Nested arrays*, it is now very common to refer to an \"old-fashioned\" array that is not *Nested* as a *Simple array*.\n",
    "\n",
    "### Mixed Arrays\n",
    "\n",
    "An array is described as a ***Mixed Array*** if it contains a mixture of scalar numbers and scalar characters.\n",
    "\n",
    "It is easy to create such an array:"
   ]
  },
  {
   "cell_type": "code",
   "execution_count": 149,
   "metadata": {},
   "outputs": [
    {
     "data": {
      "text/html": [
       "<span style=\"white-space:pre; font-family: monospace\">9\n",
       "</span>"
      ]
     },
     "execution_count": 149,
     "metadata": {},
     "output_type": "execute_result"
    }
   ],
   "source": [
    "mixVec ← 44 87 'K' 12 29 'B' 'a' 'g' 46.3\n",
    "⍴mixVec"
   ]
  },
  {
   "cell_type": "markdown",
   "metadata": {},
   "source": [
    "This `mixVec` is a vector. Check how it looks like:"
   ]
  },
  {
   "cell_type": "code",
   "execution_count": 150,
   "metadata": {},
   "outputs": [
    {
     "data": {
      "text/html": [
       "<span style=\"white-space:pre; font-family: monospace\">44 87 K 12 29 Bag 46.3\n",
       "</span>"
      ]
     },
     "execution_count": 150,
     "metadata": {},
     "output_type": "execute_result"
    }
   ],
   "source": [
    "mixVec"
   ]
  },
  {
   "cell_type": "code",
   "execution_count": 151,
   "metadata": {},
   "outputs": [
    {
     "data": {
      "text/html": [
       "<span style=\"white-space:pre; font-family: monospace\">2 5\n",
       "</span>"
      ]
     },
     "execution_count": 151,
     "metadata": {},
     "output_type": "execute_result"
    }
   ],
   "source": [
    "mixMat ← 2 5⍴mixVec\n",
    "⍴mixMat"
   ]
  },
  {
   "cell_type": "markdown",
   "metadata": {},
   "source": [
    "`mixMat` is a matrix and looks like"
   ]
  },
  {
   "cell_type": "code",
   "execution_count": 152,
   "metadata": {},
   "outputs": [
    {
     "data": {
      "text/html": [
       "<span style=\"white-space:pre; font-family: monospace\">44 87 K 12   29\n",
       " B  a g 46.3 44\n",
       "</span>"
      ]
     },
     "execution_count": 152,
     "metadata": {},
     "output_type": "execute_result"
    }
   ],
   "source": [
    "mixMat"
   ]
  },
  {
   "cell_type": "markdown",
   "metadata": {},
   "source": [
    "### Four Important Remarks\n",
    "\n",
    "1. In a vector like `mixVec`, each letter must be entered as a scalar: embedded within quotes, and separated from the next one by at least one blank space.\n",
    "\n",
    "If the space is omitted, for example, if we type"
   ]
  },
  {
   "cell_type": "code",
   "execution_count": 1,
   "metadata": {},
   "outputs": [
    {
     "data": {
      "text/html": [
       "<span style=\"white-space:pre; font-family: monospace\">B'a'g\n",
       "</span>"
      ]
     },
     "execution_count": 1,
     "metadata": {},
     "output_type": "execute_result"
    }
   ],
   "source": [
    "'B''a''g'"
   ]
  },
  {
   "cell_type": "markdown",
   "metadata": {},
   "source": [
    "APL interprets the doubled quotes as apostrophes, which yields `B'a'g`. This is not a sequence of 3 scalars, but a 5-item vector:"
   ]
  },
  {
   "cell_type": "code",
   "execution_count": 154,
   "metadata": {},
   "outputs": [
    {
     "data": {
      "text/html": [
       "<span style=\"white-space:pre; font-family: monospace\">5\n",
       "</span>"
      ]
     },
     "execution_count": 154,
     "metadata": {},
     "output_type": "execute_result"
    }
   ],
   "source": [
    "≢ 'B''a''g'"
   ]
  },
  {
   "cell_type": "markdown",
   "metadata": {},
   "source": [
    "If we insert the proper spacing, we get a vector with 3 items:"
   ]
  },
  {
   "cell_type": "code",
   "execution_count": 155,
   "metadata": {},
   "outputs": [
    {
     "data": {
      "text/html": [
       "<span style=\"white-space:pre; font-family: monospace\">3\n",
       "</span>"
      ]
     },
     "execution_count": 155,
     "metadata": {},
     "output_type": "execute_result"
    }
   ],
   "source": [
    "≢ 'B' 'a' 'g'"
   ]
  },
  {
   "cell_type": "markdown",
   "metadata": {},
   "source": [
    "2. When `mixVec` is displayed (see above), the three letters `Bag` are joined together, like the letters in any vector of characters.\n",
    "\n",
    "This presentation might be confused with an array of 7 items, whose 6th item is the vector `'Bag'`. That would be a *Nested Array*. We will soon learn how to investigate the structure of an array.\n",
    "\n",
    "3. This confusion disappears in `mixMat`. Because the items of the matrix must be aligned in columns, \"B\" is placed under 44, \"a\" under 87, and \"g' under \"K\". Here you can easily see that the three letters `Bag` are really three independent scalars.\n",
    "\n",
    "4. A ***Mixed*** array is made up only of simple scalars (numbers or characters); **it is not** a *Nested Array*.\n",
    "\n",
    "### Nested Arrays\n",
    "\n",
    "An array is said to be ***Generalised*** or ***Nested*** when one or more of its items are not *simple* scalars, but are scalars which contain other arrays. The latter may be simple arrays of any shape or rank (vectors, matrices, arrays), or they may themselves be *Nested arrays*.\n",
    "\n",
    "A nested array can be created in a number of ways; we shall begin with the simplest one, known as ***Vector notation***, or ***Strand notation***. Here is how it works:\n",
    "\n",
    "The items of an array are just juxtaposed side by side, and each can be identified as an item because it is:\n",
    "\n",
    " - either separated from its neighbours by **blanks**\n",
    " - or embedded within **quotes**\n",
    " - or an expression embedded within **parentheses**\n",
    " - or a **variable name**\n",
    " \n",
    "Just to demonstrate how it works, let us create a nested vector and a nested matrix.\n",
    "\n",
    "We start with two simple arrays:"
   ]
  },
  {
   "cell_type": "code",
   "execution_count": 157,
   "metadata": {},
   "outputs": [],
   "source": [
    "one ← 2 2 ⍴ 8 6 2 4\n",
    "two ← 'Hello'"
   ]
  },
  {
   "cell_type": "markdown",
   "metadata": {},
   "source": [
    "Will will now be used to create more involved arrays:"
   ]
  },
  {
   "cell_type": "code",
   "execution_count": 158,
   "metadata": {},
   "outputs": [
    {
     "data": {
      "text/html": [
       "<span style=\"white-space:pre; font-family: monospace\">8\n",
       "</span>"
      ]
     },
     "execution_count": 158,
     "metadata": {},
     "output_type": "execute_result"
    }
   ],
   "source": [
    "nesVec ← 87 24 'John' 51 (78 45 23) 95 one 69\n",
    "≢nesVec"
   ]
  },
  {
   "cell_type": "markdown",
   "metadata": {},
   "source": [
    "The length of `nesVec` is 8 because we have juxtaposed 8 items."
   ]
  },
  {
   "cell_type": "code",
   "execution_count": 159,
   "metadata": {},
   "outputs": [
    {
     "data": {
      "text/html": [
       "<span style=\"white-space:pre; font-family: monospace\">┌──┬──┬────┬──┬────────┬──┬───┬──┐\n",
       "│87│24│John│51│78 45 23│95│8 6│69│\n",
       "│  │  │    │  │        │  │2 4│  │\n",
       "└──┴──┴────┴──┴────────┴──┴───┴──┘\n",
       "</span>"
      ]
     },
     "execution_count": 159,
     "metadata": {},
     "output_type": "execute_result"
    }
   ],
   "source": [
    "nesVec"
   ]
  },
  {
   "cell_type": "markdown",
   "metadata": {},
   "source": [
    "The Jupyter notebook puts boxes around the items of the vector to make it easier to interpret the result. If the expression above were to be ran in the Dyalog APL interpreter session, the result would be\n",
    "\n",
    "```\n",
    "87 24  John  51  78 45 23  95  8 6  69\n",
    "                               2 4    \n",
    "```\n",
    "\n",
    "which is a bit difficult to read and interpret.\n",
    "\n",
    "And now, a matrix!"
   ]
  },
  {
   "cell_type": "code",
   "execution_count": 160,
   "metadata": {},
   "outputs": [
    {
     "data": {
      "text/html": [
       "<span style=\"white-space:pre; font-family: monospace\">2 3\n",
       "</span>"
      ]
     },
     "execution_count": 160,
     "metadata": {},
     "output_type": "execute_result"
    }
   ],
   "source": [
    "nesMat ← 2 3 ⍴ 'Dyalog' 44 two 27 one (2 3⍴1 2 0 0 0 5)\n",
    "⍴nesMat"
   ]
  },
  {
   "cell_type": "code",
   "execution_count": 161,
   "metadata": {},
   "outputs": [
    {
     "data": {
      "text/html": [
       "<span style=\"white-space:pre; font-family: monospace\">┌──────┬───┬─────┐\n",
       "│Dyalog│44 │Hello│\n",
       "├──────┼───┼─────┤\n",
       "│27    │8 6│1 2 0│\n",
       "│      │2 4│0 0 5│\n",
       "└──────┴───┴─────┘\n",
       "</span>"
      ]
     },
     "execution_count": 161,
     "metadata": {},
     "output_type": "execute_result"
    }
   ],
   "source": [
    "nesMat"
   ]
  },
  {
   "cell_type": "markdown",
   "metadata": {},
   "source": [
    "Again, the notebook boxes the items of the matrix so we have an easier time interpreting the result. In the interpreter session the output would be\n",
    "\n",
    "```\n",
    " Dyalog   44  Hello \n",
    "     27  8 6  1 2 0 \n",
    "         2 4  0 0 5 \n",
    "```\n",
    "\n",
    "To obtain this kind of boxed presentation in the interpreter session, execute the following command (remember: a command begins by a closing parenthesis):"
   ]
  },
  {
   "cell_type": "code",
   "execution_count": 162,
   "metadata": {},
   "outputs": [
    {
     "data": {
      "text/html": [
       "<span style=\"white-space:pre; font-family: monospace\">C:\\Program Files\\Dyalog\\Dyalog APL-64 18.0 Unicode\\ws\\Util.dws saved Wed Jul 15 20:03:40 2020\n",
       "</span>"
      ]
     },
     "execution_count": 162,
     "metadata": {},
     "output_type": "execute_result"
    }
   ],
   "source": [
    ")Copy Util DISP"
   ]
  },
  {
   "cell_type": "markdown",
   "metadata": {},
   "source": [
    "Then execute:"
   ]
  },
  {
   "cell_type": "code",
   "execution_count": 163,
   "metadata": {},
   "outputs": [
    {
     "data": {
      "text/html": [
       "<span style=\"white-space:pre; font-family: monospace\">┌──────┬───┬─────┐\n",
       "│Dyalog│44 │Hello│\n",
       "├──────┼───┼─────┤\n",
       "│  27  │8 6│1 2 0│\n",
       "│      │2 4│0 0 5│\n",
       "└──────┴───┴─────┘\n",
       "</span>"
      ]
     },
     "execution_count": 163,
     "metadata": {},
     "output_type": "execute_result"
    }
   ],
   "source": [
    "DISP nesMat"
   ]
  },
  {
   "cell_type": "markdown",
   "metadata": {},
   "source": [
    "If you want this kind of boxing to be permanent, you can go to your session and type"
   ]
  },
  {
   "cell_type": "code",
   "execution_count": 164,
   "metadata": {},
   "outputs": [
    {
     "data": {
      "text/html": [
       "<span style=\"white-space:pre; font-family: monospace\">Was ON\n",
       "</span>"
      ]
     },
     "execution_count": 164,
     "metadata": {},
     "output_type": "execute_result"
    }
   ],
   "source": [
    "]box ON"
   ]
  },
  {
   "cell_type": "markdown",
   "metadata": {},
   "source": [
    "which, on your interpreter session, should actually print `Was OFF`, meaning that automatic boxing of nested arrays was OFF and *now* is ON. Because Jupyter notebooks have this option ON by default, typing `]box ON` tells the option was already ON.\n",
    "\n",
    "For demonstration purposes, we will turn the automatic boxing OFF to compare the results of viewing `nesMat` without having to use the `DISP` function:"
   ]
  },
  {
   "cell_type": "code",
   "execution_count": 165,
   "metadata": {},
   "outputs": [
    {
     "data": {
      "text/html": [
       "<span style=\"white-space:pre; font-family: monospace\">┌──────┬───┬─────┐\n",
       "│Dyalog│44 │Hello│\n",
       "├──────┼───┼─────┤\n",
       "│27    │8 6│1 2 0│\n",
       "│      │2 4│0 0 5│\n",
       "└──────┴───┴─────┘\n",
       "</span>"
      ]
     },
     "execution_count": 165,
     "metadata": {},
     "output_type": "execute_result"
    }
   ],
   "source": [
    "nesMat"
   ]
  },
  {
   "cell_type": "code",
   "execution_count": 166,
   "metadata": {},
   "outputs": [
    {
     "data": {
      "text/html": [
       "<span style=\"white-space:pre; font-family: monospace\">Was ON\n",
       "</span>"
      ]
     },
     "execution_count": 166,
     "metadata": {},
     "output_type": "execute_result"
    }
   ],
   "source": [
    "]box OFF"
   ]
  },
  {
   "cell_type": "code",
   "execution_count": 167,
   "metadata": {},
   "outputs": [
    {
     "data": {
      "text/html": [
       "<span style=\"white-space:pre; font-family: monospace\"> Dyalog   44  Hello \n",
       "     27  8 6  1 2 0 \n",
       "         2 4  0 0 5 \n",
       "</span>"
      ]
     },
     "execution_count": 167,
     "metadata": {},
     "output_type": "execute_result"
    }
   ],
   "source": [
    "nesMat"
   ]
  },
  {
   "cell_type": "code",
   "execution_count": 168,
   "metadata": {
    "scrolled": true
   },
   "outputs": [
    {
     "data": {
      "text/html": [
       "<span style=\"white-space:pre; font-family: monospace\">┌──────┬───┬─────┐\n",
       "│Dyalog│44 │Hello│\n",
       "├──────┼───┼─────┤\n",
       "│  27  │8 6│1 2 0│\n",
       "│      │2 4│0 0 5│\n",
       "└──────┴───┴─────┘\n",
       "</span>"
      ]
     },
     "execution_count": 168,
     "metadata": {},
     "output_type": "execute_result"
    }
   ],
   "source": [
    "DISP nesMat"
   ]
  },
  {
   "cell_type": "markdown",
   "metadata": {},
   "source": [
    "You probably remember the mixed vector `mixVec`, which contained 3 adjacent scalars, \"B\", \"a\", and \"g\". Let us compare the **unboxed** display of `mixVec` with a 7 item nested vector, whose 6th item contains the word \"Bag\":"
   ]
  },
  {
   "cell_type": "code",
   "execution_count": 169,
   "metadata": {},
   "outputs": [
    {
     "data": {
      "text/html": [
       "<span style=\"white-space:pre; font-family: monospace\">44 87 K 12 29  Bag  46.3\n",
       "</span>"
      ]
     },
     "execution_count": 169,
     "metadata": {},
     "output_type": "execute_result"
    }
   ],
   "source": [
    "44 87 'K' 12 29 'Bag' 46.3"
   ]
  },
  {
   "cell_type": "markdown",
   "metadata": {},
   "source": [
    "Now we look at `mixVec`:"
   ]
  },
  {
   "cell_type": "code",
   "execution_count": 170,
   "metadata": {},
   "outputs": [
    {
     "data": {
      "text/html": [
       "<span style=\"white-space:pre; font-family: monospace\">44 87 K 12 29 Bag 46.3\n",
       "</span>"
      ]
     },
     "execution_count": 170,
     "metadata": {},
     "output_type": "execute_result"
    }
   ],
   "source": [
    "mixVec"
   ]
  },
  {
   "cell_type": "markdown",
   "metadata": {},
   "source": [
    "If you look closely you will have observed that in the nested array the sub-vector `Bag` is separated from its neighbours not by a single space, but by two spaces: this should alert an experienced APLer that it is a nested array.\n",
    "\n",
    "However, this difference is so small that the APL community, all over the world, uses a utility program, named `DISPLAY`, to draw boxes around arrays (nested or not), to make things clear. Let us examine it in the next section.\n",
    "\n",
    "Notice that because `mixVec` is **not** nested it has no boxes around its items.\n",
    "\n",
    "### DISPLAY\n",
    "\n",
    "`DISPLAY` is provided with Dyalog APL in a library workspace which itself is named `DISPLAY`. Because this library is by default on the *Workspace Search Path* of APL, you can easily add the DISPLAY function to your active workspace by typing the command:"
   ]
  },
  {
   "cell_type": "code",
   "execution_count": 171,
   "metadata": {},
   "outputs": [
    {
     "data": {
      "text/html": [
       "<span style=\"white-space:pre; font-family: monospace\">C:\\Program Files\\Dyalog\\Dyalog APL-64 18.0 Unicode\\ws\\display.dws saved Wed Jul 15 20:03:16 2020\n",
       "</span>"
      ]
     },
     "execution_count": 171,
     "metadata": {},
     "output_type": "execute_result"
    }
   ],
   "source": [
    ")copy DISPLAY"
   ]
  },
  {
   "cell_type": "markdown",
   "metadata": {},
   "source": [
    "This command copies the entire `DISPLAY` workspace into your current session, but it contains only one single function: `DISPLAY`.\n",
    "\n",
    "As you can see, applied to a simple scalar, `DISPLAY` already produces slight differences:"
   ]
  },
  {
   "cell_type": "code",
   "execution_count": 172,
   "metadata": {},
   "outputs": [
    {
     "data": {
      "text/html": [
       "<span style=\"white-space:pre; font-family: monospace\">37\n",
       "</span>"
      ]
     },
     "execution_count": 172,
     "metadata": {},
     "output_type": "execute_result"
    }
   ],
   "source": [
    "37"
   ]
  },
  {
   "cell_type": "code",
   "execution_count": 173,
   "metadata": {},
   "outputs": [
    {
     "data": {
      "text/html": [
       "<span style=\"white-space:pre; font-family: monospace\">  \n",
       "37\n",
       "  \n",
       "</span>"
      ]
     },
     "execution_count": 173,
     "metadata": {},
     "output_type": "execute_result"
    }
   ],
   "source": [
    "DISPLAY 37"
   ]
  },
  {
   "cell_type": "code",
   "execution_count": 174,
   "metadata": {},
   "outputs": [
    {
     "data": {
      "text/html": [
       "<span style=\"white-space:pre; font-family: monospace\">K\n",
       "</span>"
      ]
     },
     "execution_count": 174,
     "metadata": {},
     "output_type": "execute_result"
    }
   ],
   "source": [
    "'K'"
   ]
  },
  {
   "cell_type": "code",
   "execution_count": 175,
   "metadata": {},
   "outputs": [
    {
     "data": {
      "text/html": [
       "<span style=\"white-space:pre; font-family: monospace\"> \n",
       "K\n",
       "-\n",
       "</span>"
      ]
     },
     "execution_count": 175,
     "metadata": {},
     "output_type": "execute_result"
    }
   ],
   "source": [
    "DISPLAY 'K'"
   ]
  },
  {
   "cell_type": "markdown",
   "metadata": {},
   "source": [
    "We see that the display results are centered in a 3-row area; for numerical simple scalars the top and bottom rows are empty, which creates the white region around the `37` you can see above. For character simple scalars, the bottom row underlines the character and the top row is left empty.\n",
    "\n",
    "However, applied to a vector, `DISPLAY` will provide more information:"
   ]
  },
  {
   "cell_type": "code",
   "execution_count": 176,
   "metadata": {},
   "outputs": [
    {
     "data": {
      "text/html": [
       "<span style=\"white-space:pre; font-family: monospace\">┌→───────┐\n",
       "│54 73 19│\n",
       "└~───────┘\n",
       "</span>"
      ]
     },
     "execution_count": 176,
     "metadata": {},
     "output_type": "execute_result"
    }
   ],
   "source": [
    "DISPLAY 54 73 19        ⍝ The default presentation uses line-drawing\n",
    "                        ⍝ characters to draw the box."
   ]
  },
  {
   "cell_type": "markdown",
   "metadata": {},
   "source": [
    "In the example above we can see that the default presentation uses line-drawing characters to draw the box. This means in the Windows IDE, in RIDE and in the Jupyter notebooks you should see a continuous frame around the vector. However, if you are reading this book online the framing might look \"broken\".\n",
    "\n",
    "The second, rougher, form of presentation is provided for use in circumstances where the line-drawing symbols in the APL font are not displayed or printed as intended. This will depend upon your version of the Operating System and on the display and printer drivers you are using.\n",
    "\n",
    "#### Conventions\n",
    "\n",
    "The upper-left corner of the box provides information about the **shape** of the displayed value:\n",
    "\n",
    " - a single horizontal arrow for a vector:\n",
    "\n",
    " - two (or more) arrows for a matrix or higher rank arrays:\n",
    "\n",
    " - no arrow at all for scalars containing nested values, a concept we haven't seen up to now\n",
    " \n",
    "The bottom-left corner of the box provided information about the **contents** of the array:\n",
    "\n",
    " - `~` means that the array contains only numeric values:\n",
    "\n",
    " - `-` (which actually goes unnoticed) means that the array contains only characters:\n",
    "\n",
    " - `+` is used for mixed arrays:\n",
    "\n",
    " - `∊` means that the array contains other arrays: it is a nested array:\n",
    "\n",
    "#### 6.4.2 - Examples"
   ]
  },
  {
   "cell_type": "markdown",
   "metadata": {},
   "source": [
    " - numeric (`~`) vector (`→`):"
   ]
  },
  {
   "cell_type": "code",
   "execution_count": 177,
   "metadata": {},
   "outputs": [
    {
     "data": {
      "text/html": [
       "<span style=\"white-space:pre; font-family: monospace\">┌→───────┐\n",
       "│78 45 12│\n",
       "└~───────┘\n",
       "</span>"
      ]
     },
     "execution_count": 177,
     "metadata": {},
     "output_type": "execute_result"
    }
   ],
   "source": [
    "DISPLAY 78 45 12"
   ]
  },
  {
   "cell_type": "markdown",
   "metadata": {},
   "source": [
    " - matrix (`→` `→`); because of its two arrows, this matrix cannot be confused with the vector shown above."
   ]
  },
  {
   "cell_type": "code",
   "execution_count": 178,
   "metadata": {},
   "outputs": [
    {
     "data": {
      "text/html": [
       "<span style=\"white-space:pre; font-family: monospace\">┌→───────┐\n",
       "↓78 45 12│\n",
       "└~───────┘\n",
       "</span>"
      ]
     },
     "execution_count": 178,
     "metadata": {},
     "output_type": "execute_result"
    }
   ],
   "source": [
    "DISPLAY 1 3 ⍴ 78 45 12"
   ]
  },
  {
   "cell_type": "markdown",
   "metadata": {},
   "source": [
    " - character (`-`) matrix (`→` `→`); because of the line-drawing characters, the bottom-left corner of this matrix looks like it doesn't even have information on the type of the values the matrix contains."
   ]
  },
  {
   "cell_type": "code",
   "execution_count": 179,
   "metadata": {},
   "outputs": [
    {
     "data": {
      "text/html": [
       "<span style=\"white-space:pre; font-family: monospace\">┌→─────┐\n",
       "↓Sunny │\n",
       "│Summer│\n",
       "└──────┘\n",
       "</span>"
      ]
     },
     "execution_count": 179,
     "metadata": {},
     "output_type": "execute_result"
    }
   ],
   "source": [
    "DISPLAY 2 6 ⍴ 'Sunny Summer'"
   ]
  },
  {
   "cell_type": "markdown",
   "metadata": {},
   "source": [
    " - numeric (`~`) array with 3 dimensions (`→` `→` `→`):"
   ]
  },
  {
   "cell_type": "code",
   "execution_count": 181,
   "metadata": {},
   "outputs": [
    {
     "data": {
      "text/html": [
       "<span style=\"white-space:pre; font-family: monospace\">┌┌→───────┐\n",
       "↓↓ 9 42  2│\n",
       "││34 32 37│\n",
       "││        │\n",
       "││29 45 27│\n",
       "││46 47 18│\n",
       "└└~───────┘\n",
       "</span>"
      ]
     },
     "execution_count": 181,
     "metadata": {},
     "output_type": "execute_result"
    }
   ],
   "source": [
    "DISPLAY prod[1 2;;1 3 5]"
   ]
  },
  {
   "cell_type": "markdown",
   "metadata": {},
   "source": [
    "Mixed arrays are sometimes more complex to understand. For example, here is a\n",
    "\n",
    " - mixed (`+`) vector (`→`):"
   ]
  },
  {
   "cell_type": "code",
   "execution_count": 184,
   "metadata": {},
   "outputs": [
    {
     "data": {
      "text/html": [
       "<span style=\"white-space:pre; font-family: monospace\">┌→─────────────┐\n",
       "│54 G 61 U 7 19│\n",
       "└+─────────────┘\n",
       "</span>"
      ]
     },
     "execution_count": 184,
     "metadata": {},
     "output_type": "execute_result"
    }
   ],
   "source": [
    "DISPLAY 54 'G' 61 'U' 7 19"
   ]
  },
  {
   "cell_type": "markdown",
   "metadata": {},
   "source": [
    "Here is another vector with the same `DISPLAY` structure, but where the type of each item is harder to identify:"
   ]
  },
  {
   "cell_type": "code",
   "execution_count": 189,
   "metadata": {},
   "outputs": [
    {
     "data": {
      "text/html": [
       "<span style=\"white-space:pre; font-family: monospace\">┌→─────────────┐\n",
       "│54 3 GU 7 3 19│\n",
       "└+─────────────┘\n",
       "</span>"
      ]
     },
     "execution_count": 189,
     "metadata": {},
     "output_type": "execute_result"
    }
   ],
   "source": [
    "DISPLAY 54 3 'G' 'U' 7 '3' 19"
   ]
  },
  {
   "cell_type": "markdown",
   "metadata": {},
   "source": [
    " - Note that in the example above it is impossible to distinguish between the numeric value `3` and the character value `'3'`. The `DISPLAY` function actually tries to help us by underlining all character values, but unfortunately this coincides with the bottom border of the box. When the array being displayed becomes more complex, you will see this underlining, as the next example shows.\n",
    " \n",
    " - The two adjacent scalars `'G'` and `'U'` are displayed side by side; a vector 'GU' would have given a nested array, with a different representation, as you can see below:"
   ]
  },
  {
   "cell_type": "code",
   "execution_count": 150,
   "metadata": {},
   "outputs": [
    {
     "data": {
      "text/html": [
       "<span style=\"white-space:pre; font-family: monospace\">┌→─────────────────┐\n",
       "│      ┌→─┐        │\n",
       "│ 54 3 │GU│ 7 3 19 │\n",
       "│      └──┘   -    │\n",
       "└∊─────────────────┘\n",
       "</span>"
      ]
     },
     "execution_count": 150,
     "metadata": {},
     "output_type": "execute_result"
    }
   ],
   "source": [
    "DISPLAY 54 3 'GU' 7 '3' 19"
   ]
  },
  {
   "cell_type": "markdown",
   "metadata": {},
   "source": [
    "Notice that, because one of the items of this array contains a vector, the array is \"nested\", hence the `∊` sign at the bottom-left corner. Now the underlining of `'3'` is visible, so it is easy to see that it is a character. Since `7` is not underlined it is a number.\n",
    "\n",
    "We shall discover more about `DISPLAY` when we study Nested arrays in detail (refer to I-1.3), but we can already use it to show the structure of the arrays that we have been working with. For example, our nested matrix `nesMat`:"
   ]
  },
  {
   "cell_type": "code",
   "execution_count": 191,
   "metadata": {},
   "outputs": [
    {
     "data": {
      "text/html": [
       "<span style=\"white-space:pre; font-family: monospace\">┌→───────────────────────┐\n",
       "↓ ┌→─────┐       ┌→────┐ │\n",
       "│ │Dyalog│ 44    │Hello│ │\n",
       "│ └──────┘       └─────┘ │\n",
       "│          ┌→──┐ ┌→────┐ │\n",
       "│ 27       ↓8 6│ ↓1 2 0│ │\n",
       "│          │2 4│ │0 0 5│ │\n",
       "│          └~──┘ └~────┘ │\n",
       "└∊───────────────────────┘\n",
       "</span>"
      ]
     },
     "execution_count": 191,
     "metadata": {},
     "output_type": "execute_result"
    }
   ],
   "source": [
    "DISPLAY nesMat"
   ]
  },
  {
   "cell_type": "markdown",
   "metadata": {},
   "source": [
    "You can see that all the sub-arrays contained in `nesMat` are individually represented with the same conventions, making the interpretation easy.\n",
    "\n",
    "### Be Simple!\n",
    "\n",
    "Up to now, the nested arrays we have met contained only \"simple\" items (scalars, vectors, matrices). Here is a completely weird matrix, which itself contains a small nested array made of the first two columns of `nesMat`:"
   ]
  },
  {
   "cell_type": "code",
   "execution_count": 192,
   "metadata": {},
   "outputs": [
    {
     "data": {
      "text/html": [
       "<span style=\"white-space:pre; font-family: monospace\">   456   Dyalog   44  \n",
       "             27  8 6  \n",
       "                 2 4  \n",
       " 17 51  Twisted       \n",
       "</span>"
      ]
     },
     "execution_count": 192,
     "metadata": {},
     "output_type": "execute_result"
    }
   ],
   "source": [
    "weird ← 2 2 ⍴ 456 (nesMat[;1 2]) (17 51) 'Twisted'\n",
    "weird"
   ]
  },
  {
   "cell_type": "markdown",
   "metadata": {},
   "source": [
    "Notice how the default presentation makes it difficult to interpret the contents of `weird`. We can use `DISPLAY` to make things clearer:"
   ]
  },
  {
   "cell_type": "code",
   "execution_count": 193,
   "metadata": {},
   "outputs": [
    {
     "data": {
      "text/html": [
       "<span style=\"white-space:pre; font-family: monospace\">┌→───────────────────────────┐\n",
       "↓         ┌→───────────────┐ │\n",
       "│ 456     ↓ ┌→─────┐       │ │\n",
       "│         │ │Dyalog│ 44    │ │\n",
       "│         │ └──────┘       │ │\n",
       "│         │          ┌→──┐ │ │\n",
       "│         │ 27       ↓8 6│ │ │\n",
       "│         │          │2 4│ │ │\n",
       "│         │          └~──┘ │ │\n",
       "│         └∊───────────────┘ │\n",
       "│ ┌→────┐ ┌→──────┐          │\n",
       "│ │17 51│ │Twisted│          │\n",
       "│ └~────┘ └───────┘          │\n",
       "└∊───────────────────────────┘\n",
       "</span>"
      ]
     },
     "execution_count": 193,
     "metadata": {},
     "output_type": "execute_result"
    }
   ],
   "source": [
    "DISPLAY weird"
   ]
  },
  {
   "cell_type": "markdown",
   "metadata": {},
   "source": [
    "<!-- begin remark -->\n",
    "***Remark***\n",
    "\n",
    " > Of course, even if APL **can** handle arrays as unusual as the one above, it is **not advisable** to build such arrays! Most nested arrays have a clear and straightforward structure.\n",
    "<!-- end -->\n",
    "\n",
    "Remember: in Section 4.2 we had a list of month names to store, and we had the choice between a matrix and a vector of vectors, that is to say a nested vector."
   ]
  },
  {
   "cell_type": "code",
   "execution_count": 194,
   "metadata": {},
   "outputs": [
    {
     "data": {
      "text/html": [
       "<span style=\"white-space:pre; font-family: monospace\"> January  February  March  April  May  June \n",
       "</span>"
      ]
     },
     "execution_count": 194,
     "metadata": {},
     "output_type": "execute_result"
    }
   ],
   "source": [
    "monVec"
   ]
  },
  {
   "cell_type": "markdown",
   "metadata": {},
   "source": [
    "Because its contents are homogeneous (made up only of vectors), this array has a simple structure that is clear and easy to interpret. `DISPLAY` shows it like this:"
   ]
  },
  {
   "cell_type": "code",
   "execution_count": 195,
   "metadata": {},
   "outputs": [
    {
     "data": {
      "text/html": [
       "<span style=\"white-space:pre; font-family: monospace\">┌→──────────────────────────────────────────────────┐\n",
       "│ ┌→──────┐ ┌→───────┐ ┌→────┐ ┌→────┐ ┌→──┐ ┌→───┐ │\n",
       "│ │January│ │February│ │March│ │April│ │May│ │June│ │\n",
       "│ └───────┘ └────────┘ └─────┘ └─────┘ └───┘ └────┘ │\n",
       "└∊──────────────────────────────────────────────────┘\n",
       "</span>"
      ]
     },
     "execution_count": 195,
     "metadata": {},
     "output_type": "execute_result"
    }
   ],
   "source": [
    "DISPLAY monVec"
   ]
  },
  {
   "cell_type": "markdown",
   "metadata": {},
   "source": [
    "Imagine now that we want to store the ages of the children of 5 families; we could enter them like this:"
   ]
  },
  {
   "cell_type": "code",
   "execution_count": 196,
   "metadata": {},
   "outputs": [
    {
     "data": {
      "text/html": [
       "<span style=\"white-space:pre; font-family: monospace\"> 6 2  35 33 26 21  7 7  3  19 14 \n",
       "</span>"
      ]
     },
     "execution_count": 196,
     "metadata": {},
     "output_type": "execute_result"
    }
   ],
   "source": [
    "children ← (6 2) (35 33 26 21) (7 7) 3 (19 14)\n",
    "children"
   ]
  },
  {
   "cell_type": "code",
   "execution_count": 197,
   "metadata": {},
   "outputs": [
    {
     "data": {
      "text/html": [
       "<span style=\"white-space:pre; font-family: monospace\">┌→────────────────────────────────────┐\n",
       "│ ┌→──┐ ┌→──────────┐ ┌→──┐   ┌→────┐ │\n",
       "│ │6 2│ │35 33 26 21│ │7 7│ 3 │19 14│ │\n",
       "│ └~──┘ └~──────────┘ └~──┘   └~────┘ │\n",
       "└∊────────────────────────────────────┘\n",
       "</span>"
      ]
     },
     "execution_count": 197,
     "metadata": {},
     "output_type": "execute_result"
    }
   ],
   "source": [
    "DISPLAY children"
   ]
  },
  {
   "cell_type": "markdown",
   "metadata": {},
   "source": [
    "This array is not homogeneous; it is made of vectors mixed with a scalar. However, its structure is simple, and consistent. Together with the previous example, it is a pertinent usage of nested arrays.\n",
    "\n",
    "### That's *Not* All, Folks!\n",
    "\n",
    "In this section we have only described some basic things about nested arrays. APL provides a number of functions designed specifically to manipulate nested arrays, but it would be premature to introduce these now until we have fully explored all of the basic capabilities.\n",
    "\n",
    "Nevertheless, if you want to learn a bit more on the subject, just skip to [the chapter on nested arrays](./Nested-Arrays-Continued.ipynb).\n",
    "\n",
    "## Empty Arrays\n",
    "\n",
    "An array is an ***empty array*** if the length of one or more of its dimensions is zero. Hence, it is possible to meet many different kinds of empty arrays: vectors, matrices, arrays of any rank or type.\n",
    "\n",
    "Here are some examples:\n",
    "\n",
    " - empty numeric vector:"
   ]
  },
  {
   "cell_type": "code",
   "execution_count": 198,
   "metadata": {
    "scrolled": true
   },
   "outputs": [
    {
     "data": {
      "text/html": [
       "<span style=\"white-space:pre; font-family: monospace\">\n",
       "</span>"
      ]
     },
     "execution_count": 198,
     "metadata": {},
     "output_type": "execute_result"
    }
   ],
   "source": [
    "0⍴0"
   ]
  },
  {
   "cell_type": "markdown",
   "metadata": {},
   "source": [
    " - empty numeric vector (because nothing was typed between the quotes):"
   ]
  },
  {
   "cell_type": "code",
   "execution_count": 199,
   "metadata": {},
   "outputs": [
    {
     "data": {
      "text/html": [
       "<span style=\"white-space:pre; font-family: monospace\">\n",
       "</span>"
      ]
     },
     "execution_count": 199,
     "metadata": {},
     "output_type": "execute_result"
    }
   ],
   "source": [
    "''"
   ]
  },
  {
   "cell_type": "markdown",
   "metadata": {},
   "source": [
    "However, the following is **not** an empty vector, given that we typed a blank character. Though invisible, it is a character just like \"B\" or \"z\":"
   ]
  },
  {
   "cell_type": "code",
   "execution_count": 200,
   "metadata": {},
   "outputs": [
    {
     "data": {
      "text/html": [
       "<span style=\"white-space:pre; font-family: monospace\"> \n",
       "</span>"
      ]
     },
     "execution_count": 200,
     "metadata": {},
     "output_type": "execute_result"
    }
   ],
   "source": [
    "' '"
   ]
  },
  {
   "cell_type": "markdown",
   "metadata": {},
   "source": [
    " - empty character matrix with 0 rows and 3 columns:"
   ]
  },
  {
   "cell_type": "code",
   "execution_count": 201,
   "metadata": {},
   "outputs": [],
   "source": [
    "0 3⍴''"
   ]
  },
  {
   "cell_type": "markdown",
   "metadata": {},
   "source": [
    " - empty numeric matrix with 5 rows and 0 columns:"
   ]
  },
  {
   "cell_type": "code",
   "execution_count": 202,
   "metadata": {},
   "outputs": [
    {
     "data": {
      "text/html": [
       "<span style=\"white-space:pre; font-family: monospace\">\n",
       "\n",
       "\n",
       "\n",
       "\n",
       "</span>"
      ]
     },
     "execution_count": 202,
     "metadata": {},
     "output_type": "execute_result"
    }
   ],
   "source": [
    "5 0⍴0"
   ]
  },
  {
   "cell_type": "markdown",
   "metadata": {},
   "source": [
    "Notice how the empty vector with 5 rows (but 0 columns) took up more vertical space than the empty vector with 0 rows (and 3 columns).\n",
    "\n",
    " - empty numeric array of rank 3:"
   ]
  },
  {
   "cell_type": "code",
   "execution_count": 203,
   "metadata": {},
   "outputs": [
    {
     "data": {
      "text/html": [
       "<span style=\"white-space:pre; font-family: monospace\">             \n",
       "             \n",
       "</span>"
      ]
     },
     "execution_count": 203,
     "metadata": {},
     "output_type": "execute_result"
    }
   ],
   "source": [
    "3 0 7⍴0"
   ]
  },
  {
   "cell_type": "markdown",
   "metadata": {},
   "source": [
    "There are many ways to create empty arrays, as we shall discover in the following chapters.\n",
    "\n",
    "We shall see later that empty arrays, which you may find surprising, are extremely useful in solving a large number of business problems. In fact, they are often used as the starting point (initial value) for variables that will grow by the iterative addition of new items.\n",
    "\n",
    "The empty numeric vector is probably the most frequently used of all empty arrays. For that reason, a special symbol has been designed to represent it: `⍬` (entered by pressing <kbd>APL</kbd>+<kbd>Shift</kbd>+<kbd>]</kbd>).\n",
    "\n",
    "Because this symbol is made of a *Zero* with a *Tilde* on top of it, it is called ***Zilde***.\n",
    "\n",
    "Let us conclude this topic with a rather comforting statement. We start with an empty vector:"
   ]
  },
  {
   "cell_type": "code",
   "execution_count": 204,
   "metadata": {},
   "outputs": [],
   "source": [
    "emptiness ← ⍬"
   ]
  },
  {
   "cell_type": "markdown",
   "metadata": {},
   "source": [
    "Now we create a text vector:"
   ]
  },
  {
   "cell_type": "code",
   "execution_count": 205,
   "metadata": {},
   "outputs": [],
   "source": [
    "presence ← 'Friendly'"
   ]
  },
  {
   "cell_type": "markdown",
   "metadata": {},
   "source": [
    "We then give `presence` the shape of `emptiness`..."
   ]
  },
  {
   "cell_type": "code",
   "execution_count": 206,
   "metadata": {},
   "outputs": [
    {
     "data": {
      "text/html": [
       "<span style=\"white-space:pre; font-family: monospace\">F\n",
       "</span>"
      ]
     },
     "execution_count": 206,
     "metadata": {},
     "output_type": "execute_result"
    }
   ],
   "source": [
    "emptiness ⍴ presence"
   ]
  },
  {
   "cell_type": "markdown",
   "metadata": {},
   "source": [
    "And it works!\n",
    "\n",
    "This proves that a Friendly Presence can fill up Emptiness! That's good! But can we explain it? Let's try...\n",
    "\n",
    "In the last expression, the *Reshape* function (`⍴`) returns an array with the shape specified in its left argument `emptiness`.\n",
    "\n",
    "Since `emptiness` is an empty vector (`⍬`) *Reshape* will return an array having an empty shape. Such an array is a scalar, so we know that the result of the expression will be a scalar.\n",
    "\n",
    "*Reshape* will also fill the scalar with a value, taken from the right argument `presence`. `presence` contains the character vector `'friendly'`, but since we only need one item to fill a scalar, we can only use the `'F'`. The rest of the character vector `'friendly'` is not used.\n",
    "\n",
    "In fact, the expression `⍬⍴array` is widely used to return the first item of an array as a scalar, and in particular to convert a 1-item vector into a scalar.\n",
    "\n",
    "<!-- begin remark -->\n",
    "***Remark***\n",
    "\n",
    " > Though they both are invisible when displayed, a numeric empty vector (`⍬`) is different from a character empty vector (`''`).\n",
    "<!-- end -->\n",
    "\n",
    "## Workspaces and Commands\n",
    "\n",
    "You have nearly finished this chapter and, naturally, you would like to save the variables you have created. If you are using the Windows IDE you have two graphical ways of doing so:\n",
    "\n",
    " - in the \"File\" menu, select \"Save\" or \"Save as\", and use the normal procedure for saving a file (highlighted in red below);\n",
    " - you can also click, in the toolbar, on the icon of a diskette (also highlighted in red below; who still knows what a diskette is?), which is equivalent, in APL, to \"Save as\".\n",
    " \n",
    "![Windows IDE toolbar with the \"Save\" toolbar shortcut and the \"File\" menu highlighted](res/Interpreter_Toolbar_Save.png)\n",
    " \n",
    "If you are using RIDE or if you don't like clicking menu buttons,\n",
    "\n",
    " - there is also a built-in method in APL, which may be activated through a special SAVE command or function, as will be described later in this Section.\n",
    " \n",
    "An explanation of how APL manages your data in the interpreter session is given below.\n",
    "\n",
    "### The Active Workspace\n",
    "\n",
    "When you start a working session with APL, you are allotted an empty portion of memory, which is called a ***Workspace***, or ***WS*** for short. This WS is called the ***Active WS***, because it is the area of memory in which you work. You gradually fill it with variables and functions<sup>2</sup> as you create them.\n",
    "\n",
    " <small>² In APL we try to design a computer *program*, not as a single monolithic procedure, but rather as a set of inter-connecting units known as *functions* (or *user-defined functions* to distinguish them from *primitive* or built-in functions). Each function is ideally small, self-contained, and performs a single specific task.</small>\n",
    "\n",
    "You can ask the system to give you the list of your variables and functions. To do that, you use a ***system command***: a special word which is recognised by the APL system because its first character is a ***closing parenthesis***: `)`. Some Swedish APLers call that a \"banana\".\n",
    "\n",
    "The names of system commands are not case sensitive; they can be typed in mixture of upper and lower-case characters.\n",
    "\n",
    "Let's obtain a list of our variable names, using the command `)vars`:"
   ]
  },
  {
   "cell_type": "code",
   "execution_count": 207,
   "metadata": {},
   "outputs": [
    {
     "data": {
      "text/html": [
       "<span style=\"white-space:pre; font-family: monospace\">Bignum  Bétise_à_Caimbrai       Fly⍙Airlines    Hote273 My_car_is_green amount  bernard bignum  children        colette \n",
       "contents        damned  discount        emptiness       g       h       hundred j       length  line    m       mixMat  \n",
       "mixVec  monMat  monVec  money   myIndex nesMat  nesVec  now     one     planning        presence        prod    purchased\n",
       "res     sales   shape   singleton       tests   tests2  text    trailer two     v       var     vec     weird   years   ∆x\n",
       "</span>"
      ]
     },
     "execution_count": 207,
     "metadata": {},
     "output_type": "execute_result"
    }
   ],
   "source": [
    ")vars"
   ]
  },
  {
   "cell_type": "markdown",
   "metadata": {},
   "source": [
    "The variables are listed in alphabetic order, but beware, the lower-case alphabet is ordered after the upper-case one.\n",
    "\n",
    "If some of these variables are no longer useful, we can delete them with the following command, in which the variable (and function) names can be listed in any order:"
   ]
  },
  {
   "cell_type": "code",
   "execution_count": 208,
   "metadata": {},
   "outputs": [
    {
     "data": {
      "text/html": [
       "<span style=\"white-space:pre; font-family: monospace\">not found nesmat\n",
       "</span>"
      ]
     },
     "execution_count": 208,
     "metadata": {},
     "output_type": "execute_result"
    }
   ],
   "source": [
    ")erase tests contents nesmat"
   ]
  },
  {
   "cell_type": "markdown",
   "metadata": {},
   "source": [
    "We misspelled the name of one of our variables; the system erased the other ones, and gave us a warning. We can re-issue a command to erase the variable `nesMat`:"
   ]
  },
  {
   "cell_type": "code",
   "execution_count": 209,
   "metadata": {},
   "outputs": [],
   "source": [
    ")erase nesMat"
   ]
  },
  {
   "cell_type": "markdown",
   "metadata": {},
   "source": [
    "This example underlines the fact that although the command *name* (\"erase\") itself is not case sensitive, the names that it is instructed to work on are of course still case sensitive.\n",
    "\n",
    "If you had developed functions (programs), you could list them using the command `)fns` (pronounced \"funs\"):"
   ]
  },
  {
   "cell_type": "code",
   "execution_count": 210,
   "metadata": {},
   "outputs": [
    {
     "data": {
      "text/html": [
       "<span style=\"white-space:pre; font-family: monospace\">DISP    DISPLAY \n",
       "</span>"
      ]
     },
     "execution_count": 210,
     "metadata": {},
     "output_type": "execute_result"
    }
   ],
   "source": [
    ")fns"
   ]
  },
  {
   "cell_type": "markdown",
   "metadata": {},
   "source": [
    "Because we developed no programs we only see the programs we loaded earlier on.\n",
    "\n",
    "<!-- begin remark -->\n",
    "***Remark***\n",
    "\n",
    " > One can erase everything from the active workspace (all variables and all functions etc.) and revert to the original \"clear\" active workspace, by issuing the command\n",
    "<!-- end -->"
   ]
  },
  {
   "cell_type": "code",
   "execution_count": 211,
   "metadata": {},
   "outputs": [
    {
     "data": {
      "text/html": [
       "<span style=\"white-space:pre; font-family: monospace\">clear ws\n",
       "</span>"
      ]
     },
     "execution_count": 211,
     "metadata": {},
     "output_type": "execute_result"
    }
   ],
   "source": [
    ")clear"
   ]
  },
  {
   "cell_type": "markdown",
   "metadata": {},
   "source": [
    "Now all variables are gone,"
   ]
  },
  {
   "cell_type": "code",
   "execution_count": 214,
   "metadata": {},
   "outputs": [],
   "source": [
    ")vars"
   ]
  },
  {
   "cell_type": "markdown",
   "metadata": {},
   "source": [
    "and so are all the functions:"
   ]
  },
  {
   "cell_type": "code",
   "execution_count": 215,
   "metadata": {},
   "outputs": [],
   "source": [
    ")fns"
   ]
  },
  {
   "cell_type": "markdown",
   "metadata": {},
   "source": [
    "This is a bit brutal: all of the contents of the WS are deleted, and no warning message is issued to notify the user of the consequence before the execution of the command. You should avoid using this command, and instead use the \"Clear\" button on the interpreter toolbar (highlighted in red below), which asks for confirmation. It is safer.\n",
    "\n",
    "![Windows IDE with the \"Clear\" toolbar shortcut highlighted](res/Interpreter_Toolbar_Clear.png)\n",
    "\n",
    "<!-- begin remark -->\n",
    "***Remark***\n",
    "\n",
    " > In many languages, programs must be stored (saved) independently, one after the other, and variables do not exist on their own: they live only during the execution of a program which creates, uses and destroys them.\n",
    " >\n",
    " > In APL, things are different:\n",
    " >\n",
    " > - Variables have an independent existence, outside of any program execution; you have seen that it is possible to create variables and manipulate them, at will, without writing any programs. This is similar to the interpreter sessions of some other languages, like Python or MATLAB.\n",
    " >\n",
    " > - There may be a permanent interaction between programs and variables. Saving only any part of them would be nonsense: one must save the whole context; in other words, one must save the whole *active workspace*.\n",
    " >\n",
    " > This is what we shall discover now.\n",
    "<!-- end -->\n",
    "\n",
    "### The Libraries\n",
    "\n",
    "Like in most other software environments:\n",
    "\n",
    " - When you save a WS for the first time, you must give it a name.\n",
    " - Once it has been saved you need not re-specify its name when you re-save it.\n",
    " \n",
    "Furthermore, we advise you to not re-specify the name when you want to re-save your work, because, if you misspell it, your WS will be saved with the wrong name without you being aware of it.\n",
    "\n",
    "To save a WS, just issue the command `)save` followed, if this is the first time, by a file name. Let us create a simple variable and recreate the `prod` variable and then save them in an example workspace:"
   ]
  },
  {
   "cell_type": "code",
   "execution_count": 250,
   "metadata": {},
   "outputs": [
    {
     "data": {
      "text/html": [
       "<span style=\"white-space:pre; font-family: monospace\">MyPreciousWS.dws saved Sat Oct  3 19:48:52 2020\n",
       "</span>"
      ]
     },
     "execution_count": 250,
     "metadata": {},
     "output_type": "execute_result"
    }
   ],
   "source": [
    "text ← 'The quick brown fox jumps over the lazy dog.'\n",
    "⎕RL ← 73\n",
    "prod ← ?5 2 12⍴50\n",
    ")save MyPreciousWS"
   ]
  },
  {
   "cell_type": "markdown",
   "metadata": {},
   "source": [
    "A confirmation message appears, specifying where it has been saved, and the date and time of the operation.\n",
    "\n",
    "Of course, you can specify any path in your command, to save your WS wherever you like, but if you want to specify a full path, it is often more convenient to use the \"Save\" button in the toolbar, and browse through your folders.\n",
    "\n",
    "You can have dozens of workspaces saved in various folders, according to your needs; they represent your private library.\n",
    "\n",
    "You can also use public workspaces provided by Dyalog Ltd. as part of the APL system, workspaces downloaded from web sites, or workspaces provided by third-party developers.\n",
    "\n",
    "You can list your workspaces using the command `)lib`.\n",
    "\n",
    "Used alone, the command explores only the folders specified in your configuration parameters, which can be modified using the interpreter menu: \"Options\" &#8680; \"Configure...\" &#8680; \"Workspace\" &#8680; \"Workspace search path\".\n",
    "\n",
    "You can also specify explicitly in which folder the command should search:"
   ]
  },
  {
   "cell_type": "code",
   "execution_count": 221,
   "metadata": {
    "scrolled": true
   },
   "outputs": [
    {
     "data": {
      "text/html": [
       "<span style=\"white-space:pre; font-family: monospace\">MyPreciousWS.dws        \n",
       "</span>"
      ]
     },
     "execution_count": 221,
     "metadata": {},
     "output_type": "execute_result"
    }
   ],
   "source": [
    ")lib ."
   ]
  },
  {
   "cell_type": "markdown",
   "metadata": {},
   "source": [
    "Only one workspace was found in the same folder as this notebook.\n",
    "\n",
    "### Load a WS\n",
    "\n",
    "Once a WS has been saved, it may be used again in various ways:\n",
    "\n",
    " - You can double-click on the WS name in the *Windows Explorer*\n",
    " - You can use the menu \"File\" > \"Open\"\n",
    " - You can click on the \"Open\" icon in the toolbar (highlighted in red below)\n",
    " - And you can issue the system command `)load`\n",
    " \n",
    "![Windows IDE with the \"Load\" toolbar shortcut highlighted](res/Interpreter_Toolbar_Load.png)\n",
    "\n",
    "In all these cases, you will see the familiar file search box, in which you can browse to and select the workspace file you would like to open (or load).\n",
    "\n",
    "You can also use the `)load` command followed by a WS name:"
   ]
  },
  {
   "cell_type": "code",
   "execution_count": 222,
   "metadata": {},
   "outputs": [
    {
     "data": {
      "text/html": [
       "<span style=\"white-space:pre; font-family: monospace\">.\\MyPreciousWS.dws saved Sat Oct  3 19:31:42 2020\n",
       "</span>"
      ]
     },
     "execution_count": 222,
     "metadata": {},
     "output_type": "execute_result"
    }
   ],
   "source": [
    ")load MyPreciousWS"
   ]
  },
  {
   "cell_type": "markdown",
   "metadata": {},
   "source": [
    "In this case APL will search for your workspace in the folders specified in your \"*Workspace Search Path*\" as explained above, unless you specify a full path name. If the path name includes blank characters, you **must** place the whole expression between double quotes, as in the first example below:\n",
    "\n",
    "```apl\n",
    "      )load \"d:/my documents/sixteen tons/coal\" ⍝ double quotes are mandatory.\n",
    "      )load e:/freezer/mummies/ramses2          ⍝ double quotes are not needed.\n",
    "```\n",
    "\n",
    "<!-- begin remark -->\n",
    "***Remark***\n",
    "\n",
    " > When a WS is loaded, **it replaces the active WS in memory** and becomes the new active WS. If you have not saved the variables and functions you were working on, they are definitely lost! There is no warning message.\n",
    " >\n",
    " > You must be aware of this because in this respect, APL differs from most software environments, in which each new file you open is opened in a separate window.\n",
    "<!-- end -->\n",
    "\n",
    "<!-- begin remark -->\n",
    "***Remark***\n",
    "\n",
    " > When a WS is loaded, a confirmation message appears, like the following:\n",
    " >\n",
    " > ```\n",
    " > .\\MyPreciousWS.dws saved Sat Oct  3 19:31:42 2020\n",
    " > ```\n",
    " >\n",
    " > Note that the date and time reported is the date and time when the WS was last saved.\n",
    "<!-- end -->"
   ]
  },
  {
   "cell_type": "markdown",
   "metadata": {},
   "source": [
    "### File Extensions\n",
    "\n",
    "The default extension of an APL WS depends on the APL system you use. For Dyalog APL, the extension is `dws`, an acronym for Dyalog WorkSpace.\n",
    "\n",
    "This is only a default extension. When you save a WS, you can give it a different extension, like \"old\", \"std\" or \"dev\".\n",
    "\n",
    "If you do so, you must be aware that when you load a WS using the `)load` command, and omit the extension, the command will only search for files with a `dws` extension.\n",
    "\n",
    "Imagine that you have saved a WS under the name `weekly.old`. This WS will not be found if you just issue the command `)load weekly`. You must specify the extension: `)load weekly.old`.\n",
    "\n",
    "All these considerations are not mandatory knowledge, since you can navigate through the file search dialog box, or through Windows Explorer to find whichever file you need."
   ]
  },
  {
   "cell_type": "markdown",
   "metadata": {},
   "source": [
    "### Merge Workspaces\n",
    "\n",
    "Suppose that you would like to use some functions or variables stored in another WS that has previously been saved. You can import them into your active WS using the command `)copy`, followed by the name of the WS and then the names of the functions and variables you want to import.\n",
    "\n",
    "For example, imagine that you need `Screwdriver`, `Hammer` and `Saw`, all stored in a WS named `Toolbox`. You can issue the command\n",
    "\n",
    "```apl\n",
    "      )copy Toolbox Screwdriver Hammer Saw\n",
    "```\n",
    "\n",
    " - The WS name must be the first, and under Microsoft Windows it is not case sensitive.\n",
    " - The names of the functions and variables must follow, but beware, these are always case sensitive.\n",
    " \n",
    "If you specify only the workspace name, all its contents are imported. Be sure that all that stuff is really useful to you.\n",
    "\n",
    "When the copy is complete, a confirmation message is issued. Like the message issued by a `)load` command, it tells you when the WS was last saved.\n",
    "\n",
    "Of course, you can specify a path in the command; otherwise the WS is searched for in the *workspace search path* defined in your configuration. Once again, use double quotes if necessary:\n",
    "\n",
    "```apl\n",
    "      )copy \"d:/my documents/recipes/ratatouille\"\n",
    "```\n",
    "\n",
    "#### Protected Copy\n",
    "\n",
    "When you import the entire contents of another WS, there is a risk that it contains an object (variable or function) which has the same name, but not the same value, as an existing object in your active WS. If so, the imported object **replaces** the current one. Danger!\n",
    "\n",
    "You can avoid this by using the `)pcopy` command, with the P standing for \"Protected\". If there is a name conflict, the object in the active WS is not overwritten, and a message tells you which objects haven't been copied. Let's demonstrate this. First we clear our current WS to simulate a fresh start:"
   ]
  },
  {
   "cell_type": "code",
   "execution_count": 177,
   "metadata": {},
   "outputs": [
    {
     "data": {
      "text/html": [
       "<span style=\"white-space:pre; font-family: monospace\">clear ws\n",
       "</span>"
      ]
     },
     "execution_count": 177,
     "metadata": {},
     "output_type": "execute_result"
    }
   ],
   "source": [
    ")clear"
   ]
  },
  {
   "cell_type": "markdown",
   "metadata": {},
   "source": [
    "Now we define some variables that are useful for our calculations:"
   ]
  },
  {
   "cell_type": "code",
   "execution_count": 224,
   "metadata": {},
   "outputs": [
    {
     "data": {
      "text/html": [
       "<span style=\"white-space:pre; font-family: monospace\">23\n",
       "</span>"
      ]
     },
     "execution_count": 224,
     "metadata": {},
     "output_type": "execute_result"
    }
   ],
   "source": [
    "text ← 'This is just some text.'\n",
    "≢text"
   ]
  },
  {
   "cell_type": "markdown",
   "metadata": {},
   "source": [
    "And now we import the contents of the auxiliary WS because we need it as well:"
   ]
  },
  {
   "cell_type": "code",
   "execution_count": 225,
   "metadata": {},
   "outputs": [
    {
     "data": {
      "text/html": [
       "<span style=\"white-space:pre; font-family: monospace\">.\\MyPreciousWS.dws saved Sat Oct  3 19:31:42 2020\n",
       "not copied text\n",
       "</span>"
      ]
     },
     "execution_count": 225,
     "metadata": {},
     "output_type": "execute_result"
    }
   ],
   "source": [
    ")pcopy MyPreciousWS"
   ]
  },
  {
   "cell_type": "markdown",
   "metadata": {},
   "source": [
    "Notice how `text` was **not** copied from the auxiliary WS because we have defined our own `text` above.\n",
    "\n",
    "#### Intentionally Destructive Copy\n",
    "\n",
    "We saw that an imported object may overwrite an object in the active WS. This is sometimes useful!\n",
    "\n",
    "Imagine that you loaded the WS:"
   ]
  },
  {
   "cell_type": "code",
   "execution_count": 226,
   "metadata": {},
   "outputs": [
    {
     "data": {
      "text/html": [
       "<span style=\"white-space:pre; font-family: monospace\">.\\MyPreciousWS.dws saved Sat Oct  3 19:31:42 2020\n",
       "</span>"
      ]
     },
     "execution_count": 226,
     "metadata": {},
     "output_type": "execute_result"
    }
   ],
   "source": [
    ")load MyPreciousWS"
   ]
  },
  {
   "cell_type": "markdown",
   "metadata": {},
   "source": [
    "Then you spend some hours adding new functions and variables, changing things here and there, and suddenly, you discover that you made inappropriate changes to `text`.\n",
    "\n",
    "You can retrieve the original variable, still present in the saved version of `MyPreciousWS`, with:"
   ]
  },
  {
   "cell_type": "code",
   "execution_count": 228,
   "metadata": {},
   "outputs": [
    {
     "data": {
      "text/html": [
       "<span style=\"white-space:pre; font-family: monospace\">.\\MyPreciousWS.dws saved Sat Oct  3 19:31:42 2020\n",
       "</span>"
      ]
     },
     "execution_count": 228,
     "metadata": {},
     "output_type": "execute_result"
    }
   ],
   "source": [
    ")copy MyPreciousWS text"
   ]
  },
  {
   "cell_type": "markdown",
   "metadata": {},
   "source": [
    "When imported, the original version of `text` will override the version you mistakenly altered. Your active workspace will be correct again, and you will be able to go on with your work (but don't forget to save it!).\n",
    "\n",
    "Of course this becomes more helpful if you have many more variables in your workspace. If you had made some useful changes to `prod` you wouldn't want to copy the whole workspace into your active workspace, hence the usefulness of the command demonstrated above.\n",
    "\n",
    "#### Evolution of Your Code\n",
    "\n",
    "Imagine that you have imported into your active WS a function named `Compute`, copied from a WS named `Utilities`. When you save your active WS, for example under the name `Budget`, the function `Compute` will be saved with it.\n",
    "\n",
    "But now, imagine that the original version of the function `Compute` contained in `Utilities` is modified, or enhanced; what happens? The copy saved with `Budget` is still the old version, and `Budget` may therefore be outdated.\n",
    "\n",
    "This is a reason why APL allows a dynamic copy of what you need from a known reference WS. This technique will be explained in [the chapter on system interfaces](./System-Interfaces.ipynb).\n",
    "\n",
    "#### Active WS Identification\n",
    "\n",
    "You can obtain the name of your current WS by issuing the command:"
   ]
  },
  {
   "cell_type": "code",
   "execution_count": 229,
   "metadata": {},
   "outputs": [
    {
     "data": {
      "text/html": [
       "<span style=\"white-space:pre; font-family: monospace\">is .\\MyPreciousWS.dws\n",
       "</span>"
      ]
     },
     "execution_count": 229,
     "metadata": {},
     "output_type": "execute_result"
    }
   ],
   "source": [
    ")wsid"
   ]
  },
  {
   "cell_type": "markdown",
   "metadata": {},
   "source": [
    "Do not be misled by the name that is reported: it just means that the contents of your active WS had initially been loaded from that WS, or have recently been saved under that name. But since it was loaded or saved, your current WS may have been modified, and may no longer be identical to the original copy stored in the library.\n",
    "\n",
    "In the same way, if you see instead the message `\"is CLEAR WS\"`, it does not mean that your WS is clear (empty; contains nothing), but that is has not been saved yet, and hence has no name.\n",
    "\n",
    "### Exiting APL\n",
    "\n",
    "You can close an APL session using three traditional Windows methods, and two APL system commands:\n",
    "\n",
    " - You can click on the \"Close\" cross at the top-right corner of your APL window.\n",
    " - You can press <kbd>Alt</kbd>+<kbd>F4</kbd>.\n",
    " - You can activate the menu \"File\" > \"Exit\".\n",
    " - You can issue the system command `)off`.\n",
    " - You can issue the system command `)continue`.\n",
    " \n",
    "The first two methods will ask if you want to save your current session configuration, a so called *Continue WS* (this will be seen in [a later chapter](./System-Interfaces.ipynb)), and the log of everything that you did during the session. The next two methods will close APL without any question or warning, and will not save your configuration. The last one will save a *Continue WS* before exiting.\n",
    "\n",
    "In any case, always **remember to save your work** (if necessary) before you quit.\n",
    "\n",
    "### Contents of a WS\n",
    "\n",
    "Generally speaking, a workspace contains functions (programs) and variables which interact to constitute some useful application.\n",
    "\n",
    "The large memories of modern computers support very big workspaces, and a single WS is generally enough to store even a very complex application, or several applications. However, it is good practice to store different applications in different workspaces: accounting, budget, customer care, etc... It is not recommended that you mix several applications in a single WS.\n",
    "\n",
    "However, if appropriate, it is possible for a function to dynamically load another workspace (without any intervention by the user), and activate a different or complementary application.\n",
    "\n",
    "For now, a unique WS should be sufficient to contain all your experiments.\n",
    "\n",
    "If several workspaces need to share a command set of utility programs, this can be accomplished by dynamically importing the utilities from a common source. This will also be seen in [the chapter on system interfaces](./System-Interfaces.ipynb).\n",
    "\n",
    "### Our First System Commands\n",
    "\n",
    "Just to recapitulate, here is a little summary of the system commands we've just discovered. Many other commands will be studied (cf. [the chapter on system interfaces](./System-Interfaces.ipynb)). The following conventions are used in the table below:\n",
    "\n",
    " - The command names are writing using normal characters; the parameters are in *italics*;\n",
    " - Parameters withing {braces} are optional;\n",
    " - _names_ represents a list of variable or function names;\n",
    " - _wsname_ is the name of a WS.\n",
    "   - This name may contain a file extension, which is only necessary if it is different from \"dws\".\n",
    "   - This name may also be preceded by an optional path. If the path is not specified, APL searches in some default directories.\n",
    "     - In the Windows IDE, you can change those directories under \"Options\" &#8680; \"Configure...\" &#8680; \"Workspace\" &#8680; \"Workspace search path\".\n",
    " \n",
    "| Command | Usage |\n",
    "| :- | :- |\n",
    "| )vars | Lists the variables in the active workspace. |\n",
    "| )fns | Lists the user defined functions in the active workspace. |\n",
    "| )erase *names* | Deletes the named objects from the active workspace. |\n",
    "| )clear | Deletes everything and leaves the active workspace empty. |\n",
    "| )save | Saves the active workspace under its current name, or: opens the File Save dialog box if the WS has no name yet. |\n",
    "| )save *wsname* | Saves the active WS under the given path/name/extension. |\n",
    "| )lib | Gives the list of all workspaces in the *workspace search path*. |\n",
    "| )lib *path* | Gives the list of all workspaces in the specified path. |\n",
    "| )drop *wsname* | Deletes a saved WS from disk. |\n",
    "| )load | Opens the File Open dialog box, from which a workspace can be selected. It will replace the active WS. |\n",
    "| )load *wsname* | Replaces the contents of the active WS with the referenced WS. |\n",
    "| )copy *wsname* *names* | Imports the named items from the specified WS into the active WS, where they may overwrite objects identically named. |\n",
    "| )copy *wsname* | Imports all contents of the specified WS. |\n",
    "| )pcopy *wsname* {*names*} | Similar to `)copy`, but does not overwrite existing objects. |\n",
    "| )wsid | Displays the name of the current (active) WS. |\n",
    "| )off | Closes the APL session. |\n",
    "| )continue | Saves a *Continue WS* and closes the APL session. |\n",
    "\n",
    "## Exercises\n",
    "\n",
    "<!-- begin warning -->\n",
    "***Warning***\n",
    "\n",
    " > *The following exercises are designed to train **you**, not the computer.*\n",
    " >\n",
    " > *For this reason, we suggest that you try to answer them on a sheet of paper, not on your computer. When you are sure of your answer, you can test it on the computer.*\n",
    "<!-- end -->\n",
    "\n",
    "**Exercise 1**:\n",
    "\n",
    "Given a scalar `s`, can you transform it into a vector containing one single item? Or the opposite: can you transform a one-item vector `v` into a scalar?"
   ]
  },
  {
   "cell_type": "markdown",
   "metadata": {},
   "source": [
    "**Exercise 2**:\n",
    "\n",
    "Define `x` so that this interactive session becomes possible:\n",
    "\n",
    "```apl\n",
    "      x\n",
    "2 15 8 3\n",
    "      ⍴x\n",
    "8\n",
    "```\n",
    "\n",
    "**Exercise 3**:\n",
    "\n",
    "Find the result of this expression: `'LE CHAT'[7 5 2 3 4 6 7]`. This amusing example was first given in \"*Informatique par telephone*\" of Philip S. Abrams and Gérard Lacourly, Editions Herman, Paris 1972."
   ]
  },
  {
   "cell_type": "markdown",
   "metadata": {},
   "source": [
    "**Exercise 4**:\n",
    "\n",
    "The variable `tab` is created like this:"
   ]
  },
  {
   "cell_type": "code",
   "execution_count": 230,
   "metadata": {},
   "outputs": [],
   "source": [
    "tab ← 2 5 ⍴ 9 1 4 3 6 7 4 3 8 2"
   ]
  },
  {
   "cell_type": "markdown",
   "metadata": {},
   "source": [
    "How could you replace the values `9 6 7 2` in this variable by `21 45 78 11` respectively?"
   ]
  },
  {
   "cell_type": "markdown",
   "metadata": {},
   "source": [
    "**Exercise 5**:"
   ]
  },
  {
   "cell_type": "code",
   "execution_count": 231,
   "metadata": {},
   "outputs": [],
   "source": [
    "x ← 1 2 9 11 3 7 8\n",
    "x[3 5] ← x[4 1]"
   ]
  },
  {
   "cell_type": "markdown",
   "metadata": {},
   "source": [
    "What do you think is the new value of `x`? And what happens if you now execute:"
   ]
  },
  {
   "cell_type": "code",
   "execution_count": 232,
   "metadata": {},
   "outputs": [],
   "source": [
    "x[4 6] ← x[6 4]"
   ]
  },
  {
   "cell_type": "markdown",
   "metadata": {},
   "source": [
    "**Exercise 6**:\n",
    "\n",
    "A vector of $6$ items named `mystery` is indexed like this:\n",
    "\n",
    "```apl\n",
    "      mystery[3 1 6 5 2 4]\n",
    "8 11 3 9 2 15\n",
    "```\n",
    "\n",
    "What is the value of `mystery`?\n",
    "\n",
    "**Exercise 7**:\n",
    "\n",
    "One creates a vector, and selects some items from it, as shown:\n",
    "\n",
    "```apl\n",
    "      vec ← 33 19 27 11 74 47 10 50 66 14\n",
    "      vec[findMe]\n",
    "47 27 19 14 50 74\n",
    "```\n",
    "\n",
    "Could you guess the value of `findMe`?\n",
    "\n",
    "**Exercise 8**:\n",
    "\n",
    "One creates a vector, and a set of indices:"
   ]
  },
  {
   "cell_type": "code",
   "execution_count": 233,
   "metadata": {},
   "outputs": [],
   "source": [
    "source ← 10 4 13 3 9 0 7 6 2 13 8 1 5\n",
    "set ← 3 3 ⍴ source[2 4 8 5 12 13 7 4]"
   ]
  },
  {
   "cell_type": "markdown",
   "metadata": {},
   "source": [
    "Then one uses it to index the original vector:"
   ]
  },
  {
   "cell_type": "code",
   "execution_count": 234,
   "metadata": {},
   "outputs": [],
   "source": [
    "result ← source[set]"
   ]
  },
  {
   "cell_type": "markdown",
   "metadata": {},
   "source": [
    "What is the shape of `result`? Can you find its value?\n",
    "\n",
    "**Exercise 9**:\n",
    "\n",
    "Is there a difference between the following two vectors?"
   ]
  },
  {
   "cell_type": "code",
   "execution_count": 235,
   "metadata": {},
   "outputs": [],
   "source": [
    "v1 ← 'p' 'o' 't'\n",
    "v2 ← 'pot'"
   ]
  },
  {
   "cell_type": "markdown",
   "metadata": {},
   "source": [
    "**Exercise 10**:\n",
    "\n",
    "Is there a difference between the following two vectors?"
   ]
  },
  {
   "cell_type": "code",
   "execution_count": 236,
   "metadata": {},
   "outputs": [],
   "source": [
    "v3 ← 15 48 'Y' 'e' 's' 52\n",
    "v4 ← 15 48 'Yes' 52"
   ]
  },
  {
   "cell_type": "markdown",
   "metadata": {},
   "source": [
    "**Exercise 11**:\n",
    "\n",
    "Here is a very simple variable:"
   ]
  },
  {
   "cell_type": "code",
   "execution_count": 237,
   "metadata": {},
   "outputs": [],
   "source": [
    "two ← 2"
   ]
  },
  {
   "cell_type": "markdown",
   "metadata": {},
   "source": [
    "We use it in the following expression:"
   ]
  },
  {
   "cell_type": "code",
   "execution_count": 238,
   "metadata": {},
   "outputs": [],
   "source": [
    "foolish ← two two ⍴ 2 two '⍴' 'two'"
   ]
  },
  {
   "cell_type": "markdown",
   "metadata": {},
   "source": [
    "What is the shape of `foolish`? Can you find its value?\n",
    "\n",
    "**Solutions**: the solutions can be found at the end of this chapter."
   ]
  },
  {
   "cell_type": "markdown",
   "metadata": {},
   "source": [
    "## The Specialist's Section\n",
    "\n",
    "<br />\n",
    "<center><i>Each chapter is followed by a \"Specialist's Section\" like this one. This section is dedicated to skilled APLers, who wish to improve their knowledge.</i>\n",
    "    \n",
    "You will find here rare or complex usages of the concepts presented in this chapter, or discover extended explanations which need the knowledge of some symbols that will be seen much further in the book.\n",
    "    \n",
    "<b>If you are exploring APL for the first time, skip this section and go to the next chapter.</b></center>\n",
    "\n",
    "### Variable Names\n",
    "\n",
    "Variable names must obey the rules shown in [an earlier subsection](#Variables).\n",
    "\n",
    "We have seen that you may use some special characters: Delta (`∆`), Underscore (`_`), and also the Underscored Delta (`⍙`). We do not recommend these symbols; they often make programs difficult to read.\n",
    "\n",
    "### Representation of Numbers\n",
    "\n",
    "Up to now, we have entered decimal numbers using the most common conventions, like 3714.12 or 0.41.\n",
    "\n",
    "It is also possible to employ other conventions to facilitate typing.\n",
    "\n",
    "When the magnitude of a decimal value is less than 1 it is not necessary to enter a zero before the decimal point:"
   ]
  },
  {
   "cell_type": "code",
   "execution_count": 239,
   "metadata": {},
   "outputs": [
    {
     "data": {
      "text/html": [
       "<span style=\"white-space:pre; font-family: monospace\">0.413\n",
       "</span>"
      ]
     },
     "execution_count": 239,
     "metadata": {},
     "output_type": "execute_result"
    }
   ],
   "source": [
    ".413"
   ]
  },
  {
   "cell_type": "code",
   "execution_count": 240,
   "metadata": {},
   "outputs": [
    {
     "data": {
      "text/html": [
       "<span style=\"white-space:pre; font-family: monospace\">¯0.5119\n",
       "</span>"
      ]
     },
     "execution_count": 240,
     "metadata": {},
     "output_type": "execute_result"
    }
   ],
   "source": [
    "¯.5119"
   ]
  },
  {
   "cell_type": "markdown",
   "metadata": {},
   "source": [
    "Very large and very small numbers can be entered using ***scientific*** (or ***exponential***) ***representation***.\n",
    "\n",
    "Using this convention, any \"extreme\" number can be represented by a \"normal\" number, the *mantissa*, multiplied by a power of 10, the *exponent*.\n",
    "\n",
    "For example, 42781900 could be represented as:\n",
    "\n",
    "$$\n",
    "\\begin{align*}\n",
    "42781900 &= 4.27819 \\times 10^7 \\\\\n",
    "&= 427.819 \\times 10^5 \\\\\n",
    "&= 42781.9 \\times 10^4\n",
    "\\end{align*}\n",
    "$$\n",
    "\n",
    "and 0.0000038421 could be represented as:\n",
    "\n",
    "$$\n",
    "\\begin{align*}\n",
    "0.0000038421 &= 384.21 \\times 10^{-8} \\\\\n",
    "&= 3.8421 \\times 10^{-6}\n",
    "\\end{align*}\n",
    "$$\n",
    "\n",
    "In APL, the mantissa and the exponent are separated by the letter `E`.\n",
    "\n",
    "Using this notation, one can enter very large or very small numbers with ease.\n",
    "\n",
    "If the magnitude of the number is not too large nor too small, all its digits will be displayed:"
   ]
  },
  {
   "cell_type": "code",
   "execution_count": 241,
   "metadata": {},
   "outputs": [
    {
     "data": {
      "text/html": [
       "<span style=\"white-space:pre; font-family: monospace\">42781900\n",
       "</span>"
      ]
     },
     "execution_count": 241,
     "metadata": {},
     "output_type": "execute_result"
    }
   ],
   "source": [
    "4.27819E7"
   ]
  },
  {
   "cell_type": "code",
   "execution_count": 242,
   "metadata": {},
   "outputs": [
    {
     "data": {
      "text/html": [
       "<span style=\"white-space:pre; font-family: monospace\">42781900\n",
       "</span>"
      ]
     },
     "execution_count": 242,
     "metadata": {},
     "output_type": "execute_result"
    }
   ],
   "source": [
    "4278.19E4"
   ]
  },
  {
   "cell_type": "code",
   "execution_count": 243,
   "metadata": {},
   "outputs": [
    {
     "data": {
      "text/html": [
       "<span style=\"white-space:pre; font-family: monospace\">0.0000038421\n",
       "</span>"
      ]
     },
     "execution_count": 243,
     "metadata": {},
     "output_type": "execute_result"
    }
   ],
   "source": [
    "384.21E¯8"
   ]
  },
  {
   "cell_type": "code",
   "execution_count": 244,
   "metadata": {},
   "outputs": [
    {
     "data": {
      "text/html": [
       "<span style=\"white-space:pre; font-family: monospace\">0.0000038421\n",
       "</span>"
      ]
     },
     "execution_count": 244,
     "metadata": {},
     "output_type": "execute_result"
    }
   ],
   "source": [
    "3.8421E¯6"
   ]
  },
  {
   "cell_type": "markdown",
   "metadata": {},
   "source": [
    "But if the numbers are very large (or very small), and would require more digits to be shown than the maximum (defined by `⎕PP`, *Print Precision*) APL displays them with a \"normalised\" mantissa with only one integer digit, followed by the appropriate exponent:"
   ]
  },
  {
   "cell_type": "code",
   "execution_count": 245,
   "metadata": {},
   "outputs": [
    {
     "data": {
      "text/html": [
       "<span style=\"white-space:pre; font-family: monospace\">4.317658058E17\n",
       "</span>"
      ]
     },
     "execution_count": 245,
     "metadata": {},
     "output_type": "execute_result"
    }
   ],
   "source": [
    "431765805838751234"
   ]
  },
  {
   "cell_type": "code",
   "execution_count": 246,
   "metadata": {},
   "outputs": [
    {
     "data": {
      "text/html": [
       "<span style=\"white-space:pre; font-family: monospace\">5.6781234E23\n",
       "</span>"
      ]
     },
     "execution_count": 246,
     "metadata": {},
     "output_type": "execute_result"
    }
   ],
   "source": [
    "5678.1234E20"
   ]
  },
  {
   "cell_type": "code",
   "execution_count": 247,
   "metadata": {},
   "outputs": [
    {
     "data": {
      "text/html": [
       "<span style=\"white-space:pre; font-family: monospace\">1.2349876E¯12\n",
       "</span>"
      ]
     },
     "execution_count": 247,
     "metadata": {},
     "output_type": "execute_result"
    }
   ],
   "source": [
    "1234.9876E¯15"
   ]
  },
  {
   "cell_type": "code",
   "execution_count": 248,
   "metadata": {},
   "outputs": [
    {
     "data": {
      "text/html": [
       "<span style=\"white-space:pre; font-family: monospace\">¯2.4681357E¯10\n",
       "</span>"
      ]
     },
     "execution_count": 248,
     "metadata": {},
     "output_type": "execute_result"
    }
   ],
   "source": [
    "¯2468.1357E¯13"
   ]
  },
  {
   "cell_type": "markdown",
   "metadata": {},
   "source": [
    "### The Shape of the Result of Indexing\n",
    "\n",
    "#### Rule\n",
    "\n",
    "Suppose you are given an array of any rank `array`.\n",
    "\n",
    "The expression `array[a; b; c; ...]` always gives a result with a shape equal to `(⍴a),(⍴b),(⍴c),...`.\n",
    "\n",
    "This rule makes it possible to always predict the shape of the result of an indexing operation.\n",
    "\n",
    "For example,"
   ]
  },
  {
   "cell_type": "code",
   "execution_count": 251,
   "metadata": {},
   "outputs": [
    {
     "data": {
      "text/html": [
       "<span style=\"white-space:pre; font-family: monospace\">46 20 18 25\n",
       "29  5 27  4\n",
       "           \n",
       "41  1 17 42\n",
       "38 31 23  7\n",
       "           \n",
       "39 23  6 40\n",
       "37 19 30 49\n",
       "</span>"
      ]
     },
     "execution_count": 251,
     "metadata": {},
     "output_type": "execute_result"
    }
   ],
   "source": [
    "prod[2 5 3;2 1;1 2 5 6]"
   ]
  },
  {
   "cell_type": "markdown",
   "metadata": {},
   "source": [
    "gives a result of shape `3 2 4`. Similarly,"
   ]
  },
  {
   "cell_type": "code",
   "execution_count": 252,
   "metadata": {},
   "outputs": [
    {
     "data": {
      "text/html": [
       "<span style=\"white-space:pre; font-family: monospace\">34 19 32 12 37 15\n",
       "46 20 47 17 18 25\n",
       "39 23 41 20  6 40\n",
       " 8 48 22 37 33  1\n",
       "41  1 14 50 17 42\n",
       "</span>"
      ]
     },
     "execution_count": 252,
     "metadata": {},
     "output_type": "execute_result"
    }
   ],
   "source": [
    "prod[;2;⍳6]"
   ]
  },
  {
   "cell_type": "markdown",
   "metadata": {},
   "source": [
    "gives a result of shape `5 6`.\n",
    "                \n",
    "In the last example, the omitted index refers to the first dimension of `prod` which is of length 5.\n",
    "\n",
    "The second index (2) is a scalar, and has no dimension.\n",
    "\n",
    "That's why the shape of the result is 5 6 and not 5 1 6.\n",
    "\n",
    "#### Using Ravel to Preserve a Dimension\n",
    "\n",
    "In a program, a matrix is indexed like `mat[rows;cols]`, for example"
   ]
  },
  {
   "cell_type": "code",
   "execution_count": 264,
   "metadata": {},
   "outputs": [
    {
     "data": {
      "text/html": [
       "<span style=\"white-space:pre; font-family: monospace\">42 3\n",
       "45 4\n",
       "</span>"
      ]
     },
     "execution_count": 264,
     "metadata": {},
     "output_type": "execute_result"
    }
   ],
   "source": [
    "mat ← prod[;1;]\n",
    "rows ← 1 2\n",
    "cols ← 3 6\n",
    "mini ← mat[rows;cols]\n",
    "mini"
   ]
  },
  {
   "cell_type": "markdown",
   "metadata": {},
   "source": [
    "Generally, `rows` may contain several row numbers, and `cols` may contain several column numbers. Applying the preceding rule, it is easy to see that we'll obtain a sub-matrix `mini`.\n",
    "\n",
    "But it may be that `rows` or `cols` are scalars. The result of `mat[rows;cols]` would then not be a sub-matrix, but a scalar or a vector. This could lead to other expressions in your function generating an error or an incorrect result, because they were written expecting matrices."
   ]
  },
  {
   "cell_type": "code",
   "execution_count": 265,
   "metadata": {},
   "outputs": [
    {
     "data": {
      "text/html": [
       "<span style=\"white-space:pre; font-family: monospace\">42 3\n",
       "</span>"
      ]
     },
     "execution_count": 265,
     "metadata": {},
     "output_type": "execute_result"
    }
   ],
   "source": [
    "rows ← 1\n",
    "mini ← mat[rows;cols]\n",
    "mini"
   ]
  },
  {
   "cell_type": "code",
   "execution_count": 266,
   "metadata": {},
   "outputs": [
    {
     "data": {
      "text/html": [
       "<span style=\"white-space:pre; font-family: monospace\">2\n",
       "</span>"
      ]
     },
     "execution_count": 266,
     "metadata": {},
     "output_type": "execute_result"
    }
   ],
   "source": [
    "⍴mini"
   ]
  },
  {
   "cell_type": "markdown",
   "metadata": {},
   "source": [
    "By checking the shape of `mini`, we can see `mini` is a vector now.\n",
    "\n",
    "If `cols` is also a scalar, then `mini` becomes a scalar:"
   ]
  },
  {
   "cell_type": "code",
   "execution_count": 267,
   "metadata": {},
   "outputs": [
    {
     "data": {
      "text/html": [
       "<span style=\"white-space:pre; font-family: monospace\">3\n",
       "</span>"
      ]
     },
     "execution_count": 267,
     "metadata": {},
     "output_type": "execute_result"
    }
   ],
   "source": [
    "cols ← 6\n",
    "mini ← mat[rows;cols]\n",
    "mini"
   ]
  },
  {
   "cell_type": "code",
   "execution_count": 268,
   "metadata": {},
   "outputs": [
    {
     "data": {
      "text/html": [
       "<span style=\"white-space:pre; font-family: monospace\">\n",
       "</span>"
      ]
     },
     "execution_count": 268,
     "metadata": {},
     "output_type": "execute_result"
    }
   ],
   "source": [
    "⍴mini"
   ]
  },
  {
   "cell_type": "markdown",
   "metadata": {},
   "source": [
    "To avoid this problem, you can force an index expression to be a vector (perhaps a vector containing only one item) by using ***Ravel*** (symbol \"`,`\") like this:"
   ]
  },
  {
   "cell_type": "code",
   "execution_count": 269,
   "metadata": {},
   "outputs": [
    {
     "data": {
      "text/html": [
       "<span style=\"white-space:pre; font-family: monospace\">3\n",
       "</span>"
      ]
     },
     "execution_count": 269,
     "metadata": {},
     "output_type": "execute_result"
    }
   ],
   "source": [
    "mini ← mat[,rows;,cols]\n",
    "mini"
   ]
  },
  {
   "cell_type": "code",
   "execution_count": 270,
   "metadata": {},
   "outputs": [
    {
     "data": {
      "text/html": [
       "<span style=\"white-space:pre; font-family: monospace\">1 1\n",
       "</span>"
      ]
     },
     "execution_count": 270,
     "metadata": {},
     "output_type": "execute_result"
    }
   ],
   "source": [
    "⍴mini"
   ]
  },
  {
   "cell_type": "markdown",
   "metadata": {},
   "source": [
    "Now `mini` is the correct 1 by 1 matrix we wanted it to be.\n",
    "\n",
    "***Ravel*** shall be discussed in C-14.\n",
    "\n",
    "In [\"Array Indexing\"](#Array-Indexing), we indexed a matrix in a way similar to this:"
   ]
  },
  {
   "cell_type": "code",
   "execution_count": 272,
   "metadata": {},
   "outputs": [
    {
     "data": {
      "text/html": [
       "<span style=\"white-space:pre; font-family: monospace\">9 29 38\n",
       "</span>"
      ]
     },
     "execution_count": 272,
     "metadata": {},
     "output_type": "execute_result"
    }
   ],
   "source": [
    "mat[1 2 5;1]"
   ]
  },
  {
   "cell_type": "markdown",
   "metadata": {},
   "source": [
    "And we were surprised to see the values of a column were displayed horizontally. We can now understand why: the shape of the result is equal to `(⍴1 2 5),(⍴1)`. As the shape of a scalar is empty, this expression is equivalent to `(⍴1 2 5)`, i.e. 3. The indexing operation therefore produces a vector, which is displayed on a single line of the screen.\n",
    "\n",
    "To obtain a matrix, we must transform the column index (scalar 1) into a vector: we shall again use ***Ravel***, like this:"
   ]
  },
  {
   "cell_type": "code",
   "execution_count": 273,
   "metadata": {},
   "outputs": [
    {
     "data": {
      "text/html": [
       "<span style=\"white-space:pre; font-family: monospace\"> 9\n",
       "29\n",
       "38\n",
       "</span>"
      ]
     },
     "execution_count": 273,
     "metadata": {},
     "output_type": "execute_result"
    }
   ],
   "source": [
    "mat[1 2 5; ,1]"
   ]
  },
  {
   "cell_type": "markdown",
   "metadata": {},
   "source": [
    "### Multiple Usage of an Index\n",
    "\n",
    "When an array is indexed, the same item (the second item in the example below) may be selected more than once; for example:"
   ]
  },
  {
   "cell_type": "code",
   "execution_count": 274,
   "metadata": {},
   "outputs": [
    {
     "data": {
      "text/html": [
       "<span style=\"white-space:pre; font-family: monospace\">72 73 72 74 72\n",
       "</span>"
      ]
     },
     "execution_count": 274,
     "metadata": {},
     "output_type": "execute_result"
    }
   ],
   "source": [
    "a ← 71 72 73 74 75 76\n",
    "a[2 3 2 4 2]"
   ]
  },
  {
   "cell_type": "markdown",
   "metadata": {},
   "source": [
    "If a repeated index is used to update the variable, only the last replacement value is retained:"
   ]
  },
  {
   "cell_type": "code",
   "execution_count": 275,
   "metadata": {},
   "outputs": [
    {
     "data": {
      "text/html": [
       "<span style=\"white-space:pre; font-family: monospace\">71 50 19 33 75 76\n",
       "</span>"
      ]
     },
     "execution_count": 275,
     "metadata": {},
     "output_type": "execute_result"
    }
   ],
   "source": [
    "a[2 3 2 4 2] ← 45 19 67 33 50\n",
    "a"
   ]
  },
  {
   "cell_type": "markdown",
   "metadata": {},
   "source": [
    "In the assignment above, the second item was set to 45, then 67 and finally 50."
   ]
  },
  {
   "cell_type": "markdown",
   "metadata": {},
   "source": [
    "### A Problem With Using Reshape (`⍴`)\n",
    "\n",
    "We want to create a numeric matrix with 3 rows, and as many columns as another matrix `mat`, entirely filled with zeros.\n",
    "\n",
    "One solution is to first obtain the number of columns of `mat`, using the *Drop* (`↓`) function (to be discussed later):"
   ]
  },
  {
   "cell_type": "code",
   "execution_count": 276,
   "metadata": {},
   "outputs": [
    {
     "data": {
      "text/html": [
       "<span style=\"white-space:pre; font-family: monospace\">12\n",
       "</span>"
      ]
     },
     "execution_count": 276,
     "metadata": {},
     "output_type": "execute_result"
    }
   ],
   "source": [
    "1↓⍴mat"
   ]
  },
  {
   "cell_type": "markdown",
   "metadata": {},
   "source": [
    "We can see `mat` has 12 columns. Now we can manually build the correct matrix using the number of columns (12) we obtained previously:"
   ]
  },
  {
   "cell_type": "code",
   "execution_count": 277,
   "metadata": {},
   "outputs": [
    {
     "data": {
      "text/html": [
       "<span style=\"white-space:pre; font-family: monospace\">0 0 0 0 0 0 0 0 0 0 0 0\n",
       "0 0 0 0 0 0 0 0 0 0 0 0\n",
       "0 0 0 0 0 0 0 0 0 0 0 0\n",
       "</span>"
      ]
     },
     "execution_count": 277,
     "metadata": {},
     "output_type": "execute_result"
    }
   ],
   "source": [
    "3 12⍴0"
   ]
  },
  {
   "cell_type": "markdown",
   "metadata": {},
   "source": [
    "Now let us try to build a generalised solution:"
   ]
  },
  {
   "cell_type": "code",
   "execution_count": 278,
   "metadata": {},
   "outputs": [
    {
     "name": "stderr",
     "output_type": "stream",
     "text": [
      "DOMAIN ERROR\n",
      "      new←3 nc⍴0\n",
      "              ∧\n"
     ]
    }
   ],
   "source": [
    "nc ← 1↓⍴mat\n",
    "new ← 3 nc⍴0"
   ]
  },
  {
   "cell_type": "markdown",
   "metadata": {},
   "source": [
    "But it no longer works!\n",
    "\n",
    "The reasons for the problem are as follows:\n",
    "\n",
    " - When, in the first example, we entered the expression `3 12`, we juxtaposed two scalars, and the result was a two-item vector.\n",
    " - The expression `⍴mat` in the second example returns a two-item vector (`5 12` to be more precise). The *Drop* function leaves only one value, but the result `12` is still a one-item **vector**.\n",
    " - When we then entered the expression `3 nc`, we juxtaposed a scalar to a vector. This does not return a simple vector, but a nested array.\n",
    " - Unfortunately, a nested array is not a valid left argument for *Reshape*!\n",
    " \n",
    "Solution: *Catenate* `3` and `nc` to form a simple vector, which you then use as the left argument to `⍴` (*Catenate* is also discussed later on)."
   ]
  },
  {
   "cell_type": "code",
   "execution_count": 280,
   "metadata": {},
   "outputs": [
    {
     "data": {
      "text/html": [
       "<span style=\"white-space:pre; font-family: monospace\">0 0 0 0 0 0 0 0 0 0 0 0\n",
       "0 0 0 0 0 0 0 0 0 0 0 0\n",
       "0 0 0 0 0 0 0 0 0 0 0 0\n",
       "</span>"
      ]
     },
     "execution_count": 280,
     "metadata": {},
     "output_type": "execute_result"
    }
   ],
   "source": [
    "new ← (3,nc)⍴0\n",
    "new"
   ]
  },
  {
   "cell_type": "markdown",
   "metadata": {},
   "source": [
    "A direct solution would be:"
   ]
  },
  {
   "cell_type": "code",
   "execution_count": 281,
   "metadata": {},
   "outputs": [
    {
     "data": {
      "text/html": [
       "<span style=\"white-space:pre; font-family: monospace\">0 0 0 0 0 0 0 0 0 0 0 0\n",
       "0 0 0 0 0 0 0 0 0 0 0 0\n",
       "0 0 0 0 0 0 0 0 0 0 0 0\n",
       "</span>"
      ]
     },
     "execution_count": 281,
     "metadata": {},
     "output_type": "execute_result"
    }
   ],
   "source": [
    "new ← (3,1↓⍴mat)⍴0\n",
    "new"
   ]
  },
  {
   "cell_type": "markdown",
   "metadata": {},
   "source": [
    "### Monadic Index, or Materialise (`⌷`)\n",
    "\n",
    "In [\"Array Indexing\"](#Array-Indexing), we used the *Index* function with a left argument for indexing.\n",
    "\n",
    "Used monadically (without a left argument), ***Materialise*** returns all the items of its right argument, whatever its shape:"
   ]
  },
  {
   "cell_type": "code",
   "execution_count": 282,
   "metadata": {},
   "outputs": [
    {
     "data": {
      "text/html": [
       "<span style=\"white-space:pre; font-family: monospace\">17 41 23 64\n",
       "</span>"
      ]
     },
     "execution_count": 282,
     "metadata": {},
     "output_type": "execute_result"
    }
   ],
   "source": [
    "vec ← 17 41 23 64\n",
    "⌷ vec"
   ]
  },
  {
   "cell_type": "code",
   "execution_count": 283,
   "metadata": {},
   "outputs": [
    {
     "data": {
      "text/html": [
       "<span style=\"white-space:pre; font-family: monospace\">1 2 3\n",
       "4 5 6\n",
       "</span>"
      ]
     },
     "execution_count": 283,
     "metadata": {},
     "output_type": "execute_result"
    }
   ],
   "source": [
    "mat ← 2 3 ⍴ ⍳6\n",
    "⌷mat"
   ]
  },
  {
   "cell_type": "markdown",
   "metadata": {},
   "source": [
    "The *Materialise* function may also be used with Objects (See Chapter Q, Object Oriented Programming). Applied to an *Enumerable Property of an Object*, or an *Instance of an Object* which has such a Property as its *default* Property, the same syntax returns all the items in this collection.\n",
    "\n",
    "For example, to obtain the names of all the sheets in an Excel workbook, one can type:\n",
    "\n",
    "```apl\n",
    "      XL.ActiveWorkbook.(⌷Sheets).Name\n",
    "```\n",
    "\n",
    "In this expression, `⌷Sheets` represents the collection of all those sheets."
   ]
  },
  {
   "cell_type": "markdown",
   "metadata": {},
   "source": [
    "## Solutions\n",
    "\n",
    "The solutions we propose in the following pages are not necessarily the \"best\" ones; perhaps you will find other solutions that we have never considered. APL is a very rich language, and due to the general nature of its primitive functions and operators there are always plenty of different ways to express different solutions to a given problem. Which one is \"the best\" depends on many things, for example the level of experience of the programmer, the importance of system performance, the required behaviour in border cases, the requirement to meet certain programming standards and also personal preferences. This is one of the reasons why APL is so pleasant to teach and to learn!\n",
    "\n",
    "We advise you to try and solve the exercises before reading the solutions!"
   ]
  },
  {
   "cell_type": "markdown",
   "metadata": {},
   "source": [
    "**Exercise 1**:\n",
    "\n",
    "The dyadic use of `⍴` is ***Reshape***, so that is what we are going to do to turn a scalar"
   ]
  },
  {
   "cell_type": "code",
   "execution_count": 286,
   "metadata": {},
   "outputs": [],
   "source": [
    "s ← 2"
   ]
  },
  {
   "cell_type": "markdown",
   "metadata": {},
   "source": [
    "into a 1-element vector. A 1-element vector has shape `1`, so"
   ]
  },
  {
   "cell_type": "code",
   "execution_count": 287,
   "metadata": {},
   "outputs": [
    {
     "data": {
      "text/html": [
       "<span style=\"white-space:pre; font-family: monospace\">2\n",
       "</span>"
      ]
     },
     "execution_count": 287,
     "metadata": {},
     "output_type": "execute_result"
    }
   ],
   "source": [
    "1⍴s"
   ]
  },
  {
   "cell_type": "markdown",
   "metadata": {},
   "source": [
    "will do the trick, even though it may look like it didn't work. If we check the ranks, we can see it did; a scalar has rank 0,"
   ]
  },
  {
   "cell_type": "code",
   "execution_count": 288,
   "metadata": {},
   "outputs": [
    {
     "data": {
      "text/html": [
       "<span style=\"white-space:pre; font-family: monospace\">0\n",
       "</span>"
      ]
     },
     "execution_count": 288,
     "metadata": {},
     "output_type": "execute_result"
    }
   ],
   "source": [
    "≢⍴s"
   ]
  },
  {
   "cell_type": "markdown",
   "metadata": {},
   "source": [
    "whereas a vector has rank 1:"
   ]
  },
  {
   "cell_type": "code",
   "execution_count": 289,
   "metadata": {},
   "outputs": [
    {
     "data": {
      "text/html": [
       "<span style=\"white-space:pre; font-family: monospace\">1\n",
       "</span>"
      ]
     },
     "execution_count": 289,
     "metadata": {},
     "output_type": "execute_result"
    }
   ],
   "source": [
    "≢⍴ 1⍴s"
   ]
  },
  {
   "cell_type": "markdown",
   "metadata": {},
   "source": [
    "To go the other way around we just have to remember that a scalar has an empty shape, that is, `⍬` is the shape of a scalar:"
   ]
  },
  {
   "cell_type": "code",
   "execution_count": 290,
   "metadata": {},
   "outputs": [
    {
     "data": {
      "text/html": [
       "<span style=\"white-space:pre; font-family: monospace\">0\n",
       "</span>"
      ]
     },
     "execution_count": 290,
     "metadata": {},
     "output_type": "execute_result"
    }
   ],
   "source": [
    "v ← 1⍴s\n",
    "≢⍴ ⍬⍴v"
   ]
  },
  {
   "cell_type": "markdown",
   "metadata": {},
   "source": [
    "Having obtained 0 as an answer, we can see that `⍬⍴v` really is a scalar."
   ]
  },
  {
   "cell_type": "markdown",
   "metadata": {},
   "source": [
    "**Exercise 2**:\n",
    "\n",
    "If we define `x` by just copying the numerical values, then we are defining a vector with 4 elements:"
   ]
  },
  {
   "cell_type": "code",
   "execution_count": 291,
   "metadata": {},
   "outputs": [
    {
     "data": {
      "text/html": [
       "<span style=\"white-space:pre; font-family: monospace\">2 15 8 3\n",
       "</span>"
      ]
     },
     "execution_count": 291,
     "metadata": {},
     "output_type": "execute_result"
    }
   ],
   "source": [
    "x ← 2 15 8 3\n",
    "x"
   ]
  },
  {
   "cell_type": "markdown",
   "metadata": {},
   "source": [
    "The visual display looks correct, but then of course the shape of `x` is `4`:"
   ]
  },
  {
   "cell_type": "code",
   "execution_count": 292,
   "metadata": {},
   "outputs": [
    {
     "data": {
      "text/html": [
       "<span style=\"white-space:pre; font-family: monospace\">4\n",
       "</span>"
      ]
     },
     "execution_count": 292,
     "metadata": {},
     "output_type": "execute_result"
    }
   ],
   "source": [
    "⍴x"
   ]
  },
  {
   "cell_type": "markdown",
   "metadata": {},
   "source": [
    "The trick to solving this exercise is remembering that quotes in character vectors don't get printed when character vectors are displayed,"
   ]
  },
  {
   "cell_type": "code",
   "execution_count": 293,
   "metadata": {},
   "outputs": [
    {
     "data": {
      "text/html": [
       "<span style=\"white-space:pre; font-family: monospace\">2 15 8 3\n",
       "</span>"
      ]
     },
     "execution_count": 293,
     "metadata": {},
     "output_type": "execute_result"
    }
   ],
   "source": [
    "x ← '2 15 8 3'\n",
    "x"
   ]
  },
  {
   "cell_type": "markdown",
   "metadata": {},
   "source": [
    "which makes it look exactly like the first `x` above, but now `x` is a _character_ vector with 8 elements:"
   ]
  },
  {
   "cell_type": "code",
   "execution_count": 294,
   "metadata": {},
   "outputs": [
    {
     "data": {
      "text/html": [
       "<span style=\"white-space:pre; font-family: monospace\">8\n",
       "</span>"
      ]
     },
     "execution_count": 294,
     "metadata": {},
     "output_type": "execute_result"
    }
   ],
   "source": [
    "⍴x"
   ]
  },
  {
   "cell_type": "markdown",
   "metadata": {},
   "source": [
    "**Exercise 3**:\n",
    "\n",
    "There is no easier way to confirm your answer than to actually run the code:"
   ]
  },
  {
   "cell_type": "code",
   "execution_count": 295,
   "metadata": {},
   "outputs": [
    {
     "data": {
      "text/html": [
       "<span style=\"white-space:pre; font-family: monospace\">THE CAT\n",
       "</span>"
      ]
     },
     "execution_count": 295,
     "metadata": {},
     "output_type": "execute_result"
    }
   ],
   "source": [
    "'LE CHAT'[7 5 2 3 4 6 7]"
   ]
  },
  {
   "cell_type": "markdown",
   "metadata": {},
   "source": [
    "**Exercise 4**:\n",
    "\n",
    "The first thing to do would be to understand how to access the values we want to modify, and then use the appropriate assignment. Notice that `tab` is a matrix with 2 rows and 5 columns and we are after the values in the corners, or in the first and last columns:"
   ]
  },
  {
   "cell_type": "code",
   "execution_count": 296,
   "metadata": {},
   "outputs": [
    {
     "data": {
      "text/html": [
       "<span style=\"white-space:pre; font-family: monospace\">9 1 4 3 6\n",
       "7 4 3 8 2\n",
       "</span>"
      ]
     },
     "execution_count": 296,
     "metadata": {},
     "output_type": "execute_result"
    }
   ],
   "source": [
    "tab ← 2 5 ⍴ 9 1 4 3 6 7 4 3 8 2\n",
    "tab"
   ]
  },
  {
   "cell_type": "markdown",
   "metadata": {},
   "source": [
    "One might be tempted to write"
   ]
  },
  {
   "cell_type": "code",
   "execution_count": 297,
   "metadata": {},
   "outputs": [
    {
     "name": "stderr",
     "output_type": "stream",
     "text": [
      "LENGTH ERROR\n",
      "      tab[1 2;1 5]←21 45 78 11\n",
      "         ∧\n"
     ]
    }
   ],
   "source": [
    "tab[1 2;1 5] ← 21 45 78 11"
   ]
  },
  {
   "cell_type": "markdown",
   "metadata": {},
   "source": [
    "but that gives an error because `tab[1 2;1 5]` is a 2 by 2 matrix and `21 45 78 11` is a vector. We need to make sure the value to the right of the assignment has a conforming shape:"
   ]
  },
  {
   "cell_type": "code",
   "execution_count": 298,
   "metadata": {},
   "outputs": [
    {
     "data": {
      "text/html": [
       "<span style=\"white-space:pre; font-family: monospace\">21 1 4 3 45\n",
       "78 4 3 8 11\n",
       "</span>"
      ]
     },
     "execution_count": 298,
     "metadata": {},
     "output_type": "execute_result"
    }
   ],
   "source": [
    "tab[1 2;1 5] ← 2 2⍴21 45 78 11\n",
    "tab"
   ]
  },
  {
   "cell_type": "markdown",
   "metadata": {},
   "source": [
    "Because we are replacing entire columns, we can also omit the row indices like such:"
   ]
  },
  {
   "cell_type": "code",
   "execution_count": 299,
   "metadata": {},
   "outputs": [],
   "source": [
    "tab[;1 5] ← 2 2⍴21 45 78 11"
   ]
  },
  {
   "cell_type": "markdown",
   "metadata": {},
   "source": [
    "**Exercise 5**:\n",
    "\n",
    "When we write"
   ]
  },
  {
   "cell_type": "code",
   "execution_count": 300,
   "metadata": {},
   "outputs": [],
   "source": [
    "x ← 1 2 9 11 3 7 8\n",
    "x[3 5] ← x[4 1]"
   ]
  },
  {
   "cell_type": "markdown",
   "metadata": {},
   "source": [
    "we are replacing `x`'s 3rd and 5th elements with its 4th and 1st, respectively, so that the 9 becomes an 11 and the 3 becomes a 1:"
   ]
  },
  {
   "cell_type": "code",
   "execution_count": 22,
   "metadata": {},
   "outputs": [
    {
     "data": {
      "text/html": [
       "<span style=\"white-space:pre; font-family: monospace\">1 2 11 11 1 7 8\n",
       "</span>"
      ]
     },
     "execution_count": 22,
     "metadata": {},
     "output_type": "execute_result"
    }
   ],
   "source": [
    "x"
   ]
  },
  {
   "cell_type": "markdown",
   "metadata": {},
   "source": [
    "If we then run"
   ]
  },
  {
   "cell_type": "code",
   "execution_count": 23,
   "metadata": {},
   "outputs": [],
   "source": [
    "x[4 6] ← x[6 4]"
   ]
  },
  {
   "cell_type": "markdown",
   "metadata": {},
   "source": [
    "we are swapping the 4th and 6th elements of `x`, so that the second 11 and the 7 change places:"
   ]
  },
  {
   "cell_type": "code",
   "execution_count": 24,
   "metadata": {},
   "outputs": [
    {
     "data": {
      "text/html": [
       "<span style=\"white-space:pre; font-family: monospace\">1 2 11 7 1 11 8\n",
       "</span>"
      ]
     },
     "execution_count": 24,
     "metadata": {},
     "output_type": "execute_result"
    }
   ],
   "source": [
    "x"
   ]
  },
  {
   "cell_type": "markdown",
   "metadata": {},
   "source": [
    "**Exercise 6**:\n",
    "\n",
    "To solve this, just notice that if `mystery[3 1 6 5 2 4]` gives `8 11 3 9 2 15` then the 3rd item of `mystery` is 8, the 1st is 11, and so on. So `mystery` is actually:"
   ]
  },
  {
   "cell_type": "code",
   "execution_count": 25,
   "metadata": {},
   "outputs": [
    {
     "data": {
      "text/html": [
       "<span style=\"white-space:pre; font-family: monospace\">8 11 3 9 2 15\n",
       "</span>"
      ]
     },
     "execution_count": 25,
     "metadata": {},
     "output_type": "execute_result"
    }
   ],
   "source": [
    "mystery ← 11 2 8 15 9 3\n",
    "mystery[3 1 6 5 2 4]"
   ]
  },
  {
   "cell_type": "markdown",
   "metadata": {},
   "source": [
    "**Exercise 7**:\n",
    "\n",
    "This exercise is similar to the one above. We start with the vector"
   ]
  },
  {
   "cell_type": "code",
   "execution_count": 26,
   "metadata": {},
   "outputs": [],
   "source": [
    "vec ← 33 19 27 11 74 47 10 50 66 14"
   ]
  },
  {
   "cell_type": "markdown",
   "metadata": {},
   "source": [
    "and now we want to index into it with `vec[findMe]` to obtain the result `47 27 19 14 50 74`. The 1st element of `findMe` should point to the 47 in `vec`, and so on:"
   ]
  },
  {
   "cell_type": "code",
   "execution_count": 28,
   "metadata": {},
   "outputs": [
    {
     "data": {
      "text/html": [
       "<span style=\"white-space:pre; font-family: monospace\">47 27 19 14 50 74\n",
       "</span>"
      ]
     },
     "execution_count": 28,
     "metadata": {},
     "output_type": "execute_result"
    }
   ],
   "source": [
    "findMe ← 6 3 2 10 8 5\n",
    "vec[findMe]"
   ]
  },
  {
   "cell_type": "markdown",
   "metadata": {},
   "source": [
    "**Exercise 8**:\n",
    "\n",
    "The result of indexing a vector is always equal to the shape of the index. Hence the shape of `result` is equal to the shape of `set`, which is `3 3`:"
   ]
  },
  {
   "cell_type": "code",
   "execution_count": 31,
   "metadata": {},
   "outputs": [
    {
     "data": {
      "text/html": [
       "<span style=\"white-space:pre; font-family: monospace\">3 3\n",
       "</span>"
      ]
     },
     "execution_count": 31,
     "metadata": {},
     "output_type": "execute_result"
    }
   ],
   "source": [
    "source ← 10 4 13 3 9 0 7 6 2 13 8 1 5\n",
    "set ← 3 3 ⍴ source[2 4 8 5 12 13 7 4]\n",
    "⍴set"
   ]
  },
  {
   "cell_type": "code",
   "execution_count": 32,
   "metadata": {},
   "outputs": [
    {
     "data": {
      "text/html": [
       "<span style=\"white-space:pre; font-family: monospace\">3 3\n",
       "</span>"
      ]
     },
     "execution_count": 32,
     "metadata": {},
     "output_type": "execute_result"
    }
   ],
   "source": [
    "result ← source[set]\n",
    "⍴result"
   ]
  },
  {
   "cell_type": "markdown",
   "metadata": {},
   "source": [
    "In order to find out the values in `result` we first need to figure out the values in `set` and how they are laid out in the 3 by 3 matrix,"
   ]
  },
  {
   "cell_type": "code",
   "execution_count": 33,
   "metadata": {},
   "outputs": [
    {
     "data": {
      "text/html": [
       "<span style=\"white-space:pre; font-family: monospace\">4 3 6\n",
       "9 1 5\n",
       "7 3 4\n",
       "</span>"
      ]
     },
     "execution_count": 33,
     "metadata": {},
     "output_type": "execute_result"
    }
   ],
   "source": [
    "set"
   ]
  },
  {
   "cell_type": "markdown",
   "metadata": {},
   "source": [
    "and then use those to index into the `source` vector; for example, in the top-left and bottom-right corners of `result` you will find the 4th element of `source`, which is 3:"
   ]
  },
  {
   "cell_type": "code",
   "execution_count": 34,
   "metadata": {},
   "outputs": [
    {
     "data": {
      "text/html": [
       "<span style=\"white-space:pre; font-family: monospace\">3 13 0\n",
       "2 10 9\n",
       "7 13 3\n",
       "</span>"
      ]
     },
     "execution_count": 34,
     "metadata": {},
     "output_type": "execute_result"
    }
   ],
   "source": [
    "result"
   ]
  },
  {
   "cell_type": "markdown",
   "metadata": {},
   "source": [
    "**Exercise 9**:\n",
    "\n",
    "There is _no_ difference between the two vectors. Both are 3-item simple character vectors."
   ]
  },
  {
   "cell_type": "markdown",
   "metadata": {},
   "source": [
    "**Exercise 10**:\n",
    "\n",
    "`v3` is a 6-item vector. Some items are numeric, some are characters; it is a *Mixed* vector."
   ]
  },
  {
   "cell_type": "code",
   "execution_count": 301,
   "metadata": {},
   "outputs": [
    {
     "data": {
      "text/html": [
       "<span style=\"white-space:pre; font-family: monospace\">6\n",
       "</span>"
      ]
     },
     "execution_count": 301,
     "metadata": {},
     "output_type": "execute_result"
    }
   ],
   "source": [
    "v3 ← 15 48 'Y' 'e' 's' 52\n",
    "⍴v3"
   ]
  },
  {
   "cell_type": "markdown",
   "metadata": {},
   "source": [
    "On the other hand, `v4` is a 4-item vector. It is a *Nested* array, since the 3rd item is an enclosed character vector."
   ]
  },
  {
   "cell_type": "code",
   "execution_count": 302,
   "metadata": {},
   "outputs": [
    {
     "data": {
      "text/html": [
       "<span style=\"white-space:pre; font-family: monospace\">4\n",
       "</span>"
      ]
     },
     "execution_count": 302,
     "metadata": {},
     "output_type": "execute_result"
    }
   ],
   "source": [
    "v4 ← 15 48 'Yes' 52\n",
    "⍴v4"
   ]
  },
  {
   "cell_type": "markdown",
   "metadata": {},
   "source": [
    "We can visually distinguish the two if `]box` is turned on or if you use the `DISP` function (you can gain access to it with the `)Copy Util DISP` command):"
   ]
  },
  {
   "cell_type": "code",
   "execution_count": 303,
   "metadata": {},
   "outputs": [
    {
     "data": {
      "text/html": [
       "<span style=\"white-space:pre; font-family: monospace\">15 48 Yes 52\n",
       "</span>"
      ]
     },
     "execution_count": 303,
     "metadata": {},
     "output_type": "execute_result"
    }
   ],
   "source": [
    "v3"
   ]
  },
  {
   "cell_type": "code",
   "execution_count": 304,
   "metadata": {
    "scrolled": true
   },
   "outputs": [
    {
     "data": {
      "text/html": [
       "<span style=\"white-space:pre; font-family: monospace\">Was OFF\n",
       "</span>"
      ]
     },
     "execution_count": 304,
     "metadata": {},
     "output_type": "execute_result"
    },
    {
     "data": {
      "text/html": [
       "<span style=\"white-space:pre; font-family: monospace\">┌──┬──┬───┬──┐\n",
       "│15│48│Yes│52│\n",
       "└──┴──┴───┴──┘\n",
       "</span>"
      ]
     },
     "execution_count": 304,
     "metadata": {},
     "output_type": "execute_result"
    }
   ],
   "source": [
    "]box on\n",
    "v4"
   ]
  },
  {
   "cell_type": "markdown",
   "metadata": {},
   "source": [
    "**Exercise 11**:\n",
    "\n",
    "Replacing `two` (not `'two'`) by `2` (the value of the variable), one obtains `2 2 ⍴ 2 2 '⍴' 'two'`. This gives away that `foolish` is a 2 by 2 matrix:"
   ]
  },
  {
   "cell_type": "code",
   "execution_count": 305,
   "metadata": {},
   "outputs": [
    {
     "data": {
      "text/html": [
       "<span style=\"white-space:pre; font-family: monospace\">2 2\n",
       "</span>"
      ]
     },
     "execution_count": 305,
     "metadata": {},
     "output_type": "execute_result"
    }
   ],
   "source": [
    "two ← 2\n",
    "foolish ← two two ⍴ 2 two '⍴' 'two'\n",
    "⍴foolish"
   ]
  },
  {
   "cell_type": "markdown",
   "metadata": {},
   "source": [
    "To determine its contents we just need to lay out the `2 2 '⍴' 'two'` over the 2 rows of length 2 to obtain a nested matrix:"
   ]
  },
  {
   "cell_type": "code",
   "execution_count": 306,
   "metadata": {},
   "outputs": [
    {
     "data": {
      "text/html": [
       "<span style=\"white-space:pre; font-family: monospace\">┌─┬───┐\n",
       "│2│2  │\n",
       "├─┼───┤\n",
       "│⍴│two│\n",
       "└─┴───┘\n",
       "</span>"
      ]
     },
     "execution_count": 306,
     "metadata": {},
     "output_type": "execute_result"
    }
   ],
   "source": [
    "foolish"
   ]
  }
 ],
 "metadata": {
  "kernelspec": {
   "display_name": "Dyalog APL",
   "language": "apl",
   "name": "dyalog-kernel"
  },
  "language_info": {
   "file_extension": ".apl",
   "mimetype": "text/apl",
   "name": "APL"
  },
  "toc": {
   "base_numbering": 1,
   "nav_menu": {},
   "number_sections": false,
   "sideBar": true,
   "skip_h1_title": false,
   "title_cell": "Table of Contents",
   "title_sidebar": "Contents",
   "toc_cell": false,
   "toc_position": {},
   "toc_section_display": true,
   "toc_window_display": false
  }
 },
 "nbformat": 4,
 "nbformat_minor": 4
}
