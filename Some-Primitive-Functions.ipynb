{
 "cells": [
  {
   "cell_type": "markdown",
   "metadata": {},
   "source": [
    "# Some Primitive Functions\n",
    "\n",
    "## Definitions\n",
    "\n",
    "In APL data is processed using what we call *functions*. It is important to distinguish between two types of functions:\n",
    "\n",
    " 1. ***Primitive Functions***:\n",
    "     - they are part of the APL language;\n",
    "     - they are represented by symbols like `⍴`, `⍉` and `⌈`;\n",
    "     - they cannot be overwritten or removed.\n",
    "\n",
    "\n",
    " 2. ***User-Defined Functions***:\n",
    "     - as their name implies, they are written by the user;\n",
    "     - they are represented by names, for example `Average` or `budget`;\n",
    "     - they can be overwritten and removed.\n",
    "   \n",
    "APL has a very rich set of primitive functions. In this chapter, we will explore just a few of them; many others will follow in subsequent chapters.\n",
    "\n",
    "In the introduction to this book, we mentioned that in traditional mathematics, some symbols can be used with a single argument or two arguments. For example, in the expression $a = x \\color{red}{-} y$ the minus sign means subtract. Whereas in $a = \\color{red}{-}y$ the minus sign indicates the negation of $y$.\n",
    "\n",
    "The first form is called the \"**_dyadic_**\" use of the symbol.\n",
    "The second form is called the \"**_monadic_**\" use of the symbol.\n",
    "\n",
    "It is the same in APL, where most of the symbols (functions) have a *monadic* and a *dyadic* meaning. For example, here `⍴` obtains the shape of the `1 2 3 4` vector:"
   ]
  },
  {
   "cell_type": "code",
   "execution_count": 1,
   "metadata": {},
   "outputs": [
    {
     "data": {
      "text/html": [
       "<span style=\"white-space:pre; font-family: monospace\">4\n",
       "</span>"
      ]
     },
     "execution_count": 1,
     "metadata": {},
     "output_type": "execute_result"
    }
   ],
   "source": [
    "⍴ 1 2 3 4"
   ]
  },
  {
   "cell_type": "markdown",
   "metadata": {},
   "source": [
    "Whereas in here `⍴` changes the shape of the `1 2 3 4` vector to `2 2`:"
   ]
  },
  {
   "cell_type": "code",
   "execution_count": 2,
   "metadata": {},
   "outputs": [
    {
     "data": {
      "text/html": [
       "<span style=\"white-space:pre; font-family: monospace\">1 2\n",
       "3 4\n",
       "</span>"
      ]
     },
     "execution_count": 2,
     "metadata": {},
     "output_type": "execute_result"
    }
   ],
   "source": [
    "2 2 ⍴ 1 2 3 4"
   ]
  },
  {
   "cell_type": "markdown",
   "metadata": {},
   "source": [
    "There is, however, a major difference. In traditional mathematics, the symbol representing a monadic function is sometimes placed before its argument (as the $-$ in $a = \\color{red}{-}y$), sometimes after it (as the $!$ in $a = y\\color{red}{!}$), sometimes on both sides (as the $|\\cdot|$ in $a = \\color{red}|y\\color{red}|$), and some other conventions may be found.\n",
    "\n",
    "In APL, the symbol representing a monadic function is **always** placed before its argument, as the `⍴` in `⍴var`."
   ]
  },
  {
   "cell_type": "markdown",
   "metadata": {},
   "source": [
    "## Some Scalar Dyadic Functions\n",
    "\n",
    "### Definition and Examples\n",
    "\n",
    "***Scalar dyadic functions*** are primitive functions which have the following properties:\n",
    "\n",
    " - they are *dyadic* (require an argument on both sides);\n",
    " - they work item by item (scalar by scalar);\n",
    " - they can work on two arrays of the same shape, in which case the result also has the same shape;\n",
    " - they can work on one array of any shape, and a single value (a ***scalar*** or any one-item array), in which case the result has the same shape as the non-singleton array.\n",
    " \n",
    "The four basic arithmetic functions, ***Addition***, ***Subtraction***, ***Multiplication*** and ***Division*** are scalar dyadic functions. They apply themselves between each item of the left argument and the corresponding item of the right argument, like this:"
   ]
  },
  {
   "cell_type": "code",
   "execution_count": 3,
   "metadata": {},
   "outputs": [
    {
     "data": {
      "text/html": [
       "<span style=\"white-space:pre; font-family: monospace\">7 9 10 13\n",
       "</span>"
      ]
     },
     "execution_count": 3,
     "metadata": {},
     "output_type": "execute_result"
    }
   ],
   "source": [
    "5 3 2 9 + 2 6 8 4"
   ]
  },
  {
   "cell_type": "markdown",
   "metadata": {},
   "source": [
    "The function is applied between each item of two 4-item vectors. The result is also a 4-item vector.\n",
    "\n",
    "As an example of a function that is *not* a scalar function, let us look at the ***Reshape*** function. There is nothing in common between the shapes of its arguments:"
   ]
  },
  {
   "cell_type": "code",
   "execution_count": 4,
   "metadata": {},
   "outputs": [
    {
     "data": {
      "text/html": [
       "<span style=\"white-space:pre; font-family: monospace\">6 8 2\n",
       "1 9 3\n",
       "</span>"
      ]
     },
     "execution_count": 4,
     "metadata": {},
     "output_type": "execute_result"
    }
   ],
   "source": [
    "2 3 ⍴ 6 8 2 1 9 3"
   ]
  },
  {
   "cell_type": "markdown",
   "metadata": {},
   "source": [
    "In fact, the left argument has 2 items, the right one has 6 and the result in this case is a matrix.\n",
    "\n",
    "Let us explore the behaviour of the basic arithmetic functions on vectors:"
   ]
  },
  {
   "cell_type": "code",
   "execution_count": 5,
   "metadata": {},
   "outputs": [
    {
     "data": {
      "text/html": [
       "<span style=\"white-space:pre; font-family: monospace\">3 ¯3 ¯6 5\n",
       "</span>"
      ]
     },
     "execution_count": 5,
     "metadata": {},
     "output_type": "execute_result"
    }
   ],
   "source": [
    "5 3 2 9 - 2 6 8 4"
   ]
  },
  {
   "cell_type": "code",
   "execution_count": 6,
   "metadata": {},
   "outputs": [
    {
     "data": {
      "text/html": [
       "<span style=\"white-space:pre; font-family: monospace\">2.5 0.5 0.5 1.28571\n",
       "</span>"
      ]
     },
     "execution_count": 6,
     "metadata": {},
     "output_type": "execute_result"
    }
   ],
   "source": [
    "5 3 2 9 ÷ 2 6 4 7"
   ]
  },
  {
   "cell_type": "code",
   "execution_count": 4,
   "metadata": {},
   "outputs": [
    {
     "data": {
      "text/html": [
       "<span style=\"white-space:pre; font-family: monospace\">10.4 11.5 10.8 24 16.9\n",
       "</span>"
      ]
     },
     "execution_count": 4,
     "metadata": {},
     "output_type": "execute_result"
    }
   ],
   "source": [
    "price ← 5.2 11.5 3.6 4 8.45\n",
    "qty ← 2 1 3 6 2\n",
    "costs ← price × qty\n",
    "costs"
   ]
  },
  {
   "cell_type": "markdown",
   "metadata": {},
   "source": [
    "Scalar dyadic functions apply to arrays of any rank and shape.\n",
    "\n",
    "As we saw in the introduction, a Sales Director makes forecasts for sales of 4 products over the coming 6 months, and assigns them to the variable `forecast`. At the end of the 6 months, they record the actual values in the variable `actual`. Here they are:"
   ]
  },
  {
   "cell_type": "code",
   "execution_count": 32,
   "metadata": {},
   "outputs": [
    {
     "data": {
      "text/html": [
       "<span style=\"white-space:pre; font-family: monospace\"> 90 160 420 500  20  30\n",
       "110 450 170 370 290 360\n",
       "340 190 320 120 510 370\n",
       "150 460 240 520 490 280\n",
       "</span>"
      ]
     },
     "execution_count": 32,
     "metadata": {},
     "output_type": "execute_result"
    }
   ],
   "source": [
    "⎕RL ← 73\n",
    "forecast ← 10×?4 6⍴55\n",
    "forecast"
   ]
  },
  {
   "cell_type": "code",
   "execution_count": 6,
   "metadata": {},
   "outputs": [
    {
     "data": {
      "text/html": [
       "<span style=\"white-space:pre; font-family: monospace\"> 89 166 420 508  12  23\n",
       "111 453 177 365 284 352\n",
       "349 192 329 115 515 374\n",
       "160 467 234 519 485 283\n",
       "</span>"
      ]
     },
     "execution_count": 6,
     "metadata": {},
     "output_type": "execute_result"
    }
   ],
   "source": [
    "⎕RL ← 73\n",
    "actual ← forecast + ¯10+?4 6⍴20\n",
    "actual"
   ]
  },
  {
   "cell_type": "markdown",
   "metadata": {},
   "source": [
    "<!-- begin remark -->\n",
    "***Remark***:\n",
    "\n",
    " > We initialise the `forecast` and `actual` variables with some random values by the use of the ***Roll*** function `?`. Notice this assignment is easier to type than some predefined set of values and we can use `⎕RL` to always get the same result. You can learn more about `?` and `⎕RL` later on in the book.\n",
    "<!-- end -->\n",
    "\n",
    "The first thing any self-respecting Sales Director will want to know is the difference between the expected and the actual results. This can be done easily by typing:"
   ]
  },
  {
   "cell_type": "code",
   "execution_count": 7,
   "metadata": {},
   "outputs": [
    {
     "data": {
      "text/html": [
       "<span style=\"white-space:pre; font-family: monospace\">¯1 6  0  8 ¯8 ¯7\n",
       " 1 3  7 ¯5 ¯6 ¯8\n",
       " 9 2  9 ¯5  5  4\n",
       "10 7 ¯6 ¯1 ¯5  3\n",
       "</span>"
      ]
     },
     "execution_count": 7,
     "metadata": {},
     "output_type": "execute_result"
    }
   ],
   "source": [
    "actual - forecast"
   ]
  },
  {
   "cell_type": "markdown",
   "metadata": {},
   "source": [
    "Notice how subtracting two matrices gives a matrix of the same shape (recall that negative values are indicated by a high minus sign).\n",
    "\n",
    "But remember, a scalar dyadic function may also be applied between a single value and an array of any shape.\n",
    "\n",
    "For example, if we want to multiply `forecast` by 2, we can type:"
   ]
  },
  {
   "cell_type": "code",
   "execution_count": 8,
   "metadata": {},
   "outputs": [
    {
     "data": {
      "text/html": [
       "<span style=\"white-space:pre; font-family: monospace\">180 320 840 1000   40  60\n",
       "220 900 340  740  580 720\n",
       "680 380 640  240 1020 740\n",
       "300 920 480 1040  980 560\n",
       "</span>"
      ]
     },
     "execution_count": 8,
     "metadata": {},
     "output_type": "execute_result"
    }
   ],
   "source": [
    "forecast × 2        ⍝ same as 2 × forecast"
   ]
  },
  {
   "cell_type": "markdown",
   "metadata": {},
   "source": [
    "A complete list of ***Scalar Dyadic Functions*** is given in [Appendix 1](./Appendices.ipynb#Scalar-Functions)."
   ]
  },
  {
   "cell_type": "markdown",
   "metadata": {},
   "source": [
    "### Division By Zero\n",
    "\n",
    "An expression such as `17÷0` leads to an error message:"
   ]
  },
  {
   "cell_type": "code",
   "execution_count": 12,
   "metadata": {},
   "outputs": [
    {
     "name": "stderr",
     "output_type": "stream",
     "text": [
      "DOMAIN ERROR: Divide by zero\n",
      "      17÷0\n",
      "        ∧\n"
     ]
    }
   ],
   "source": [
    "17÷0"
   ]
  },
  {
   "cell_type": "markdown",
   "metadata": {},
   "source": [
    "This happens because zero does not belong to the domain of valid denominators.\n",
    "\n",
    "However, notice what `0÷0` returns:"
   ]
  },
  {
   "cell_type": "code",
   "execution_count": 13,
   "metadata": {},
   "outputs": [
    {
     "data": {
      "text/html": [
       "<span style=\"white-space:pre; font-family: monospace\">1\n",
       "</span>"
      ]
     },
     "execution_count": 13,
     "metadata": {},
     "output_type": "execute_result"
    }
   ],
   "source": [
    "0÷0"
   ]
  },
  {
   "cell_type": "markdown",
   "metadata": {},
   "source": [
    "Despite being mathematically incorrect, the default behaviour gives the result 1, as given by the extension of the rule that \"any number divided by itself should give 1\". Nevertheless, because this is sometimes inappropriate, it is possible to change the default behaviour (see [the *Specialist's Section*](#Division-Control---⎕DIV-and-Other-Mathematical-Subtleties))."
   ]
  },
  {
   "cell_type": "markdown",
   "metadata": {},
   "source": [
    "### Power\n",
    "\n",
    "In APL, the mathematical notation $A^n$ is written `A*n`.\n",
    "\n",
    "The function *Power* (`*`) accepts any value(s) for `n`: integer or decimal, positive, negative, or zero, according to traditional usage.\n",
    "\n",
    "To calculate the values of: $4^2$, $4^{1.4}$, $4^0$, $\\sqrt 4$, $4^{-2.1}$, $4^5$ we just need to type"
   ]
  },
  {
   "cell_type": "code",
   "execution_count": 14,
   "metadata": {},
   "outputs": [
    {
     "data": {
      "text/html": [
       "<span style=\"white-space:pre; font-family: monospace\">16 6.9644 1 2 0.25 0.0544094 1024\n",
       "</span>"
      ]
     },
     "execution_count": 14,
     "metadata": {},
     "output_type": "execute_result"
    }
   ],
   "source": [
    "4 * 2 1.4 0 0.5 ¯1 ¯2.1 5"
   ]
  },
  {
   "cell_type": "markdown",
   "metadata": {},
   "source": [
    "`0*0` gives `1`, which is also not mathematically correct but a fairly useful convention to take.\n",
    "\n",
    "There is no special symbol in APL to represent a square root; it is obtained by raising a value to the power $\\frac12$. If we take the square root of a negative number, then we get a complex number as a result:"
   ]
  },
  {
   "cell_type": "code",
   "execution_count": 15,
   "metadata": {},
   "outputs": [
    {
     "data": {
      "text/html": [
       "<span style=\"white-space:pre; font-family: monospace\">0J1\n",
       "</span>"
      ]
     },
     "execution_count": 15,
     "metadata": {},
     "output_type": "execute_result"
    }
   ],
   "source": [
    "¯1 * 0.5 "
   ]
  },
  {
   "cell_type": "markdown",
   "metadata": {},
   "source": [
    "The subject of \"complex numbers\" pertains to mathematics, but Dyalog APL has some nice features related to complex numbers and so we will dive deeper into them later on."
   ]
  },
  {
   "cell_type": "markdown",
   "metadata": {},
   "source": [
    "### Maximum & Minimum\n",
    "\n",
    "***Maximum*** (`⌈`) and ***Minimum*** (`⌊`) return respectively the larger of two values and the smaller of two values, whatever their signs. Because they are scalar dyadic functions, they can be applied item by item between any two compatible arrays."
   ]
  },
  {
   "cell_type": "code",
   "execution_count": 16,
   "metadata": {},
   "outputs": [
    {
     "data": {
      "text/html": [
       "<span style=\"white-space:pre; font-family: monospace\">83\n",
       "</span>"
      ]
     },
     "execution_count": 16,
     "metadata": {},
     "output_type": "execute_result"
    }
   ],
   "source": [
    "75 ⌈ 83"
   ]
  },
  {
   "cell_type": "code",
   "execution_count": 17,
   "metadata": {},
   "outputs": [
    {
     "data": {
      "text/html": [
       "<span style=\"white-space:pre; font-family: monospace\">19 22 19 60\n",
       "</span>"
      ]
     },
     "execution_count": 17,
     "metadata": {},
     "output_type": "execute_result"
    }
   ],
   "source": [
    "19 ⌈ 11 22 ¯20 60"
   ]
  },
  {
   "cell_type": "code",
   "execution_count": 18,
   "metadata": {},
   "outputs": [
    {
     "data": {
      "text/html": [
       "<span style=\"white-space:pre; font-family: monospace\">¯60 14 ¯40 11.23\n",
       "</span>"
      ]
     },
     "execution_count": 18,
     "metadata": {},
     "output_type": "execute_result"
    }
   ],
   "source": [
    "52 14 ¯37 18.44 ⌊ ¯60 15 ¯40 11.23"
   ]
  },
  {
   "cell_type": "markdown",
   "metadata": {},
   "source": [
    "*Minimum* can be used to apply a limit to the values in an array. For example, to set a ceiling of 450 in the matrix `forecast`, it is sufficient to type:"
   ]
  },
  {
   "cell_type": "code",
   "execution_count": 9,
   "metadata": {},
   "outputs": [
    {
     "data": {
      "text/html": [
       "<span style=\"white-space:pre; font-family: monospace\"> 90 160 420 450  20  30\n",
       "110 450 170 370 290 360\n",
       "340 190 320 120 450 370\n",
       "150 450 240 450 450 280\n",
       "</span>"
      ]
     },
     "execution_count": 9,
     "metadata": {},
     "output_type": "execute_result"
    }
   ],
   "source": [
    "forecast ⌊ 450"
   ]
  },
  {
   "cell_type": "markdown",
   "metadata": {},
   "source": [
    "Notice how the larger values have been capped to 450."
   ]
  },
  {
   "cell_type": "markdown",
   "metadata": {},
   "source": [
    "### Relationship\n",
    "\n",
    "As in traditional mathematics, APL provides the 6 relationship functions:\n",
    "\n",
    "| APL | Meaning |\n",
    "| :-: | :- |\n",
    "| `A < B` | $A$ less than $B$ |\n",
    "| `A ≤ B` | $A$ less than or equal to $B$ |\n",
    "| `A = B` | $A$ equal to $B$ |\n",
    "| `A ≥ B` | $A$ greater than or equal to $B$ |\n",
    "| `A > B` | $A$ greater than $B$ |\n",
    "| `A ≠ B` | $A$ not equal to $B$ |\n",
    "\n",
    "These symbols are obtained by pressing the <kbd>APL</kbd> key, simultaneously with the keys <kbd>3</kbd> to <kbd>8</kbd>, respectively.\n",
    "\n",
    "All these 6 functions return `1` if the relation is true, or `0` if it is false."
   ]
  },
  {
   "cell_type": "code",
   "execution_count": 20,
   "metadata": {},
   "outputs": [
    {
     "data": {
      "text/html": [
       "<span style=\"white-space:pre; font-family: monospace\">0\n",
       "</span>"
      ]
     },
     "execution_count": 20,
     "metadata": {},
     "output_type": "execute_result"
    }
   ],
   "source": [
    "11 < 7"
   ]
  },
  {
   "cell_type": "code",
   "execution_count": 21,
   "metadata": {},
   "outputs": [
    {
     "data": {
      "text/html": [
       "<span style=\"white-space:pre; font-family: monospace\">1 0 1\n",
       "</span>"
      ]
     },
     "execution_count": 21,
     "metadata": {},
     "output_type": "execute_result"
    }
   ],
   "source": [
    "24 ≤ 24 11 33"
   ]
  },
  {
   "cell_type": "code",
   "execution_count": 22,
   "metadata": {},
   "outputs": [
    {
     "data": {
      "text/html": [
       "<span style=\"white-space:pre; font-family: monospace\">0\n",
       "</span>"
      ]
     },
     "execution_count": 22,
     "metadata": {},
     "output_type": "execute_result"
    }
   ],
   "source": [
    "5 = 9"
   ]
  },
  {
   "cell_type": "code",
   "execution_count": 23,
   "metadata": {},
   "outputs": [
    {
     "data": {
      "text/html": [
       "<span style=\"white-space:pre; font-family: monospace\">0 1 1\n",
       "</span>"
      ]
     },
     "execution_count": 23,
     "metadata": {},
     "output_type": "execute_result"
    }
   ],
   "source": [
    "3 8 7 ≥ 5 8 0"
   ]
  },
  {
   "cell_type": "code",
   "execution_count": 24,
   "metadata": {},
   "outputs": [
    {
     "data": {
      "text/html": [
       "<span style=\"white-space:pre; font-family: monospace\">0 1 0\n",
       "1 0 1\n",
       "</span>"
      ]
     },
     "execution_count": 24,
     "metadata": {},
     "output_type": "execute_result"
    }
   ],
   "source": [
    "6 > 2 3⍴7 2 9 3 6 4"
   ]
  },
  {
   "cell_type": "markdown",
   "metadata": {},
   "source": [
    "The results are called binary, or Boolean, values (Boolean refers to the name of the mathematician George Boole). They can be processed in many different ways and are extremely useful, as we shall soon see.\n",
    "\n",
    "Note that none of the four symbols `<` `≤` `≥` `>` can be applied to character arrays. Only `=` and `≠` can be used with character arrays, as illustrated below:"
   ]
  },
  {
   "cell_type": "code",
   "execution_count": 25,
   "metadata": {},
   "outputs": [
    {
     "data": {
      "text/html": [
       "<span style=\"white-space:pre; font-family: monospace\">1\n",
       "</span>"
      ]
     },
     "execution_count": 25,
     "metadata": {},
     "output_type": "execute_result"
    }
   ],
   "source": [
    "'m' = 'm'"
   ]
  },
  {
   "cell_type": "code",
   "execution_count": 26,
   "metadata": {},
   "outputs": [
    {
     "data": {
      "text/html": [
       "<span style=\"white-space:pre; font-family: monospace\">0\n",
       "</span>"
      ]
     },
     "execution_count": 26,
     "metadata": {},
     "output_type": "execute_result"
    }
   ],
   "source": [
    "'m' = 'M'"
   ]
  },
  {
   "cell_type": "code",
   "execution_count": 27,
   "metadata": {},
   "outputs": [
    {
     "data": {
      "text/html": [
       "<span style=\"white-space:pre; font-family: monospace\">1\n",
       "</span>"
      ]
     },
     "execution_count": 27,
     "metadata": {},
     "output_type": "execute_result"
    }
   ],
   "source": [
    "'k' ≠ 'a'"
   ]
  },
  {
   "cell_type": "code",
   "execution_count": 28,
   "metadata": {},
   "outputs": [
    {
     "data": {
      "text/html": [
       "<span style=\"white-space:pre; font-family: monospace\">1 1 0 0 1\n",
       "</span>"
      ]
     },
     "execution_count": 28,
     "metadata": {},
     "output_type": "execute_result"
    }
   ],
   "source": [
    "'sorry' ≠ 'r'"
   ]
  },
  {
   "cell_type": "markdown",
   "metadata": {},
   "source": [
    "Because these functions are scalar dyadic functions, they are applied between individual scalars (the letters), not words:"
   ]
  },
  {
   "cell_type": "code",
   "execution_count": 29,
   "metadata": {},
   "outputs": [
    {
     "data": {
      "text/html": [
       "<span style=\"white-space:pre; font-family: monospace\">0 1 0 1\n",
       "</span>"
      ]
     },
     "execution_count": 29,
     "metadata": {},
     "output_type": "execute_result"
    }
   ],
   "source": [
    "'gold' ≠ 'gulf'"
   ]
  },
  {
   "cell_type": "markdown",
   "metadata": {},
   "source": [
    "For the same reason, the two words (considered as vectors) must be of equal size, otherwise we get an error:"
   ]
  },
  {
   "cell_type": "code",
   "execution_count": 30,
   "metadata": {
    "scrolled": true
   },
   "outputs": [
    {
     "name": "stderr",
     "output_type": "stream",
     "text": [
      "LENGTH ERROR: Mismatched left and right argument shapes\n",
      "      'male'≠'female'\n",
      "            ∧\n"
     ]
    }
   ],
   "source": [
    "'male' ≠ 'female'"
   ]
  },
  {
   "cell_type": "markdown",
   "metadata": {},
   "source": [
    "### Residue\n",
    "\n",
    "The *Residue* function, represented by `|`, returns the remainder of a division.\n",
    "\n",
    "In the expression `R ← X|Y`, `R` is the remainder of `Y` divided by `X` (**be careful**; the arguments of *Residue* are given in the reverse order of that used by *Division* `Y÷X`)."
   ]
  },
  {
   "cell_type": "code",
   "execution_count": 31,
   "metadata": {},
   "outputs": [
    {
     "data": {
      "text/html": [
       "<span style=\"white-space:pre; font-family: monospace\">5\n",
       "</span>"
      ]
     },
     "execution_count": 31,
     "metadata": {},
     "output_type": "execute_result"
    }
   ],
   "source": [
    "7 | 54"
   ]
  },
  {
   "cell_type": "code",
   "execution_count": 32,
   "metadata": {},
   "outputs": [
    {
     "data": {
      "text/html": [
       "<span style=\"white-space:pre; font-family: monospace\">0 1 1 0\n",
       "</span>"
      ]
     },
     "execution_count": 32,
     "metadata": {},
     "output_type": "execute_result"
    }
   ],
   "source": [
    "2 | 216 47 29 28        ⍝ Find even and odd numbers"
   ]
  },
  {
   "cell_type": "code",
   "execution_count": 33,
   "metadata": {},
   "outputs": [
    {
     "data": {
      "text/html": [
       "<span style=\"white-space:pre; font-family: monospace\">5 0 9 ¯1.9 2 ¯2 4 ¯2\n",
       "</span>"
      ]
     },
     "execution_count": 33,
     "metadata": {},
     "output_type": "execute_result"
    }
   ],
   "source": [
    "X ← 7 4 11 ¯4.3 3 ¯5 6 ¯3\n",
    "Y ← 54 84 119 19.6 29 43 ¯14 ¯14\n",
    "X | Y"
   ]
  },
  {
   "cell_type": "markdown",
   "metadata": {},
   "source": [
    "The function can be used with negative and decimal values, as seen above.\n",
    "\n",
    "The result `R` is always equal to `Y - (N×X)`, where `N` is the largest possible integer such that `R` is always between `0` and `X`, but never equal to `X`. Some calculations show that `N` is equal to `⌊(Y÷X)`, which means `X|Y` and `Y - (X × (⌊(Y÷X)))` give the exact same result:"
   ]
  },
  {
   "cell_type": "code",
   "execution_count": 34,
   "metadata": {},
   "outputs": [
    {
     "data": {
      "text/html": [
       "<span style=\"white-space:pre; font-family: monospace\">5 0 9 ¯1.9 2 ¯2 4 ¯2\n",
       "</span>"
      ]
     },
     "execution_count": 34,
     "metadata": {},
     "output_type": "execute_result"
    }
   ],
   "source": [
    "(X|Y)"
   ]
  },
  {
   "cell_type": "code",
   "execution_count": 35,
   "metadata": {},
   "outputs": [
    {
     "data": {
      "text/html": [
       "<span style=\"white-space:pre; font-family: monospace\">5 0 9 ¯1.9 2 ¯2 4 ¯2\n",
       "</span>"
      ]
     },
     "execution_count": 35,
     "metadata": {},
     "output_type": "execute_result"
    }
   ],
   "source": [
    "(Y - (X × (⌊(Y÷X))))"
   ]
  },
  {
   "cell_type": "markdown",
   "metadata": {},
   "source": [
    "Using a new dyadic primitive `≡` (obtained with <kbd>APL</kbd>+<kbd>Shift</kbd>+<kbd>;</kbd>) we can ask APL to check if the two arrays are the same, instead of having to compare each array item by item:"
   ]
  },
  {
   "cell_type": "code",
   "execution_count": 36,
   "metadata": {},
   "outputs": [
    {
     "data": {
      "text/html": [
       "<span style=\"white-space:pre; font-family: monospace\">1\n",
       "</span>"
      ]
     },
     "execution_count": 36,
     "metadata": {},
     "output_type": "execute_result"
    }
   ],
   "source": [
    "(X|Y) ≡ (Y - (X × (⌊(Y÷X))))"
   ]
  },
  {
   "cell_type": "markdown",
   "metadata": {},
   "source": [
    "Keep reading the next section to see how `≡` works."
   ]
  },
  {
   "cell_type": "markdown",
   "metadata": {},
   "source": [
    "### Array Comparison\n",
    "\n",
    "We have seen above that the dyadic functions `=` and `≠` are scalar, which meant we cannot use them when we wish to check if two arrays are the same or when we wish to check if two arrays are different:"
   ]
  },
  {
   "cell_type": "code",
   "execution_count": 37,
   "metadata": {},
   "outputs": [
    {
     "data": {
      "text/html": [
       "<span style=\"white-space:pre; font-family: monospace\">1 1 1 1\n",
       "</span>"
      ]
     },
     "execution_count": 37,
     "metadata": {},
     "output_type": "execute_result"
    }
   ],
   "source": [
    "1 2 3 4 = 1 2 3 4"
   ]
  },
  {
   "cell_type": "markdown",
   "metadata": {},
   "source": [
    "The result above says the arrays have matching items, but doesn't provide the summary information that *the arrays are the same*.\n",
    "\n",
    "For a similar reason, we can't even compare vectors of different lengths because dyadic scalar functions expect the shapes of their arguments to match:"
   ]
  },
  {
   "cell_type": "code",
   "execution_count": 38,
   "metadata": {},
   "outputs": [
    {
     "name": "stderr",
     "output_type": "stream",
     "text": [
      "LENGTH ERROR: Mismatched left and right argument shapes\n",
      "      'male'='female'\n",
      "            ∧\n"
     ]
    }
   ],
   "source": [
    "'male' = 'female'"
   ]
  },
  {
   "cell_type": "markdown",
   "metadata": {},
   "source": [
    "Instead, we must use the ***Match*** (`≡`) function to check if two arrays are exactly the same:"
   ]
  },
  {
   "cell_type": "code",
   "execution_count": 39,
   "metadata": {},
   "outputs": [
    {
     "data": {
      "text/html": [
       "<span style=\"white-space:pre; font-family: monospace\">1\n",
       "</span>"
      ]
     },
     "execution_count": 39,
     "metadata": {},
     "output_type": "execute_result"
    }
   ],
   "source": [
    "1 2 3 4 ≡ 1 2 3 4"
   ]
  },
  {
   "cell_type": "code",
   "execution_count": 40,
   "metadata": {},
   "outputs": [
    {
     "data": {
      "text/html": [
       "<span style=\"white-space:pre; font-family: monospace\">0\n",
       "</span>"
      ]
     },
     "execution_count": 40,
     "metadata": {},
     "output_type": "execute_result"
    }
   ],
   "source": [
    "'male' ≡ 'female'"
   ]
  },
  {
   "cell_type": "markdown",
   "metadata": {},
   "source": [
    "The ***Not Match*** (`≢`) primitive (obtained with <kbd>APL</kbd>+<kbd>Shift</kbd>+<kbd>'</kbd>) is the counterpart to `≡` and checks if two arrays are different:"
   ]
  },
  {
   "cell_type": "code",
   "execution_count": 41,
   "metadata": {},
   "outputs": [
    {
     "data": {
      "text/html": [
       "<span style=\"white-space:pre; font-family: monospace\">0\n",
       "</span>"
      ]
     },
     "execution_count": 41,
     "metadata": {},
     "output_type": "execute_result"
    }
   ],
   "source": [
    "1 2 3 4 ≢ 1 2 3 4"
   ]
  },
  {
   "cell_type": "code",
   "execution_count": 42,
   "metadata": {
    "scrolled": true
   },
   "outputs": [
    {
     "data": {
      "text/html": [
       "<span style=\"white-space:pre; font-family: monospace\">1\n",
       "</span>"
      ]
     },
     "execution_count": 42,
     "metadata": {},
     "output_type": "execute_result"
    }
   ],
   "source": [
    "'male' ≢ 'female'"
   ]
  },
  {
   "cell_type": "markdown",
   "metadata": {},
   "source": [
    "## Order of Evaluation\n",
    "\n",
    "Like other programming languages, APL allows the programmer to use parentheses to specify the order of evaluation of a complex expression. Thus the expression `5×(6+7)` means \"add 6 to 7, then multiply by 5\". In the absence of parentheses, most other programming languages employ rules of precedence to decide how a complex expression such as `5×6+7` would be evaluated. Typically, the result will be 37 because multiplication is given precedence over addition and is performed first.\n",
    "\n",
    "When APL was designed, it was decided that the sheer number of primitive functions meant that a set of precedence rules would be impossibly complex to remember and apply.\n",
    "\n",
    "The solution adopted in APL is simple, and consistent with the rules we apply to calculate complex expressions in traditional algebra. Suppose, for example, that we need to calculate\n",
    "\n",
    "$$\\log \\sin \\sqrt {x ÷ 3}$$\n",
    "\n",
    "To do this, we would first divide $x$ by 3, then take the square root of the result, next calculate its sine, and finally calculate the logarithm: each function applies to the result of the entire expression to its right. This is how it is done in mathematics, and so it is in APL. The only different is that in APL there are *no* exceptions!\n",
    "\n",
    "To evaluate"
   ]
  },
  {
   "cell_type": "code",
   "execution_count": 43,
   "metadata": {},
   "outputs": [
    {
     "data": {
      "text/html": [
       "<span style=\"white-space:pre; font-family: monospace\">65\n",
       "</span>"
      ]
     },
     "execution_count": 43,
     "metadata": {},
     "output_type": "execute_result"
    }
   ],
   "source": [
    "5 × 6 + 7"
   ]
  },
  {
   "cell_type": "markdown",
   "metadata": {},
   "source": [
    "we first calculate"
   ]
  },
  {
   "cell_type": "code",
   "execution_count": 44,
   "metadata": {},
   "outputs": [
    {
     "data": {
      "text/html": [
       "<span style=\"white-space:pre; font-family: monospace\">13\n",
       "</span>"
      ]
     },
     "execution_count": 44,
     "metadata": {},
     "output_type": "execute_result"
    }
   ],
   "source": [
    "6 + 7"
   ]
  },
  {
   "cell_type": "markdown",
   "metadata": {},
   "source": [
    "and then multiply by 5, giving 65:"
   ]
  },
  {
   "cell_type": "code",
   "execution_count": 45,
   "metadata": {},
   "outputs": [
    {
     "data": {
      "text/html": [
       "<span style=\"white-space:pre; font-family: monospace\">65\n",
       "</span>"
      ]
     },
     "execution_count": 45,
     "metadata": {},
     "output_type": "execute_result"
    }
   ],
   "source": [
    "5 × 13"
   ]
  },
  {
   "cell_type": "markdown",
   "metadata": {},
   "source": [
    "By the use of parentheses we can instruct APL to do the multiplication first,"
   ]
  },
  {
   "cell_type": "code",
   "execution_count": 46,
   "metadata": {},
   "outputs": [
    {
     "data": {
      "text/html": [
       "<span style=\"white-space:pre; font-family: monospace\">37\n",
       "</span>"
      ]
     },
     "execution_count": 46,
     "metadata": {},
     "output_type": "execute_result"
    }
   ],
   "source": [
    "(5 × 6) + 7"
   ]
  },
  {
   "cell_type": "markdown",
   "metadata": {},
   "source": [
    "which an experienced APL programmer would probably write as"
   ]
  },
  {
   "cell_type": "code",
   "execution_count": 47,
   "metadata": {},
   "outputs": [
    {
     "data": {
      "text/html": [
       "<span style=\"white-space:pre; font-family: monospace\">37\n",
       "</span>"
      ]
     },
     "execution_count": 47,
     "metadata": {},
     "output_type": "execute_result"
    }
   ],
   "source": [
    "7 + 5 × 6"
   ]
  },
  {
   "cell_type": "markdown",
   "metadata": {},
   "source": [
    "<!-- begin rule -->\n",
    "***Rule***:\n",
    "\n",
    " > In an APL expression, each function takes as its right argument the result of the entire expression to its right. No functions have higher precedence than any others.\n",
    " >\n",
    " > If the function is dyadic (takes both a left and a right argument), it takes as its left argument the array immediately to its left, delimited by the next function.\n",
    " >\n",
    " > This is sometimes called \"***Right to left evaluation***\" (although this is not strictly correct).\n",
    " >\n",
    " > If necessary, one can use ***Parentheses*** to force a different order of evaluation.\n",
    "<!-- end -->\n",
    "\n",
    "You must not be confused: each function is itself evaluated in its natural order, so `8÷4` gives 2, not 0.5! The expression \"*right to left*\" only means that the first operation executed is the rightmost one.\n",
    "\n",
    "If the order of evaluation seems strange to you at first sight, just refer to a plain English sentence: \"*take the top half of the bottom quarter*\" does not mean \"*take the top half first, and then take the bottom quarter*\"; it means \"*__first__ split into quarters and take the bottom one, **then** split that quarter into two halves and take the top half of it*\": this is exactly the way that APL works! Even in everyday English language, which we write from left to right, we implicitly use the \"right to left evaluation\" rule.\n",
    "\n",
    "Let us apply this rule to some examples:"
   ]
  },
  {
   "cell_type": "code",
   "execution_count": 48,
   "metadata": {
    "scrolled": true
   },
   "outputs": [
    {
     "data": {
      "text/html": [
       "<span style=\"white-space:pre; font-family: monospace\">18\n",
       "</span>"
      ]
     },
     "execution_count": 48,
     "metadata": {},
     "output_type": "execute_result"
    }
   ],
   "source": [
    "3×5+1"
   ]
  },
  {
   "cell_type": "markdown",
   "metadata": {},
   "source": [
    "First we sum,"
   ]
  },
  {
   "cell_type": "code",
   "execution_count": 49,
   "metadata": {},
   "outputs": [
    {
     "data": {
      "text/html": [
       "<span style=\"white-space:pre; font-family: monospace\">6\n",
       "</span>"
      ]
     },
     "execution_count": 49,
     "metadata": {},
     "output_type": "execute_result"
    }
   ],
   "source": [
    "5+1"
   ]
  },
  {
   "cell_type": "markdown",
   "metadata": {},
   "source": [
    "then we multiply:"
   ]
  },
  {
   "cell_type": "code",
   "execution_count": 50,
   "metadata": {},
   "outputs": [
    {
     "data": {
      "text/html": [
       "<span style=\"white-space:pre; font-family: monospace\">18\n",
       "</span>"
      ]
     },
     "execution_count": 50,
     "metadata": {},
     "output_type": "execute_result"
    }
   ],
   "source": [
    "3×6"
   ]
  },
  {
   "cell_type": "markdown",
   "metadata": {},
   "source": [
    "Now an example with 3 operations:"
   ]
  },
  {
   "cell_type": "code",
   "execution_count": 51,
   "metadata": {},
   "outputs": [
    {
     "data": {
      "text/html": [
       "<span style=\"white-space:pre; font-family: monospace\">3 5\n",
       "</span>"
      ]
     },
     "execution_count": 51,
     "metadata": {},
     "output_type": "execute_result"
    }
   ],
   "source": [
    "3 6⌊4+2 9>7"
   ]
  },
  {
   "cell_type": "markdown",
   "metadata": {},
   "source": [
    "First we perform the \"greater than\" comparison,"
   ]
  },
  {
   "cell_type": "code",
   "execution_count": 52,
   "metadata": {},
   "outputs": [
    {
     "data": {
      "text/html": [
       "<span style=\"white-space:pre; font-family: monospace\">0 1\n",
       "</span>"
      ]
     },
     "execution_count": 52,
     "metadata": {},
     "output_type": "execute_result"
    }
   ],
   "source": [
    "2 9>7"
   ]
  },
  {
   "cell_type": "markdown",
   "metadata": {},
   "source": [
    "then we add 4"
   ]
  },
  {
   "cell_type": "code",
   "execution_count": 53,
   "metadata": {},
   "outputs": [
    {
     "data": {
      "text/html": [
       "<span style=\"white-space:pre; font-family: monospace\">4 5\n",
       "</span>"
      ]
     },
     "execution_count": 53,
     "metadata": {},
     "output_type": "execute_result"
    }
   ],
   "source": [
    "4+0 1"
   ]
  },
  {
   "cell_type": "markdown",
   "metadata": {},
   "source": [
    "and finally we take the minimum:"
   ]
  },
  {
   "cell_type": "code",
   "execution_count": 54,
   "metadata": {},
   "outputs": [
    {
     "data": {
      "text/html": [
       "<span style=\"white-space:pre; font-family: monospace\">3 5\n",
       "</span>"
      ]
     },
     "execution_count": 54,
     "metadata": {},
     "output_type": "execute_result"
    }
   ],
   "source": [
    "3 6⌊4 5"
   ]
  },
  {
   "cell_type": "markdown",
   "metadata": {},
   "source": [
    "An even more complex example, from the end of the subsection on the *Residue* (`|`) primitive function:"
   ]
  },
  {
   "cell_type": "code",
   "execution_count": 55,
   "metadata": {},
   "outputs": [
    {
     "data": {
      "text/html": [
       "<span style=\"white-space:pre; font-family: monospace\">1\n",
       "</span>"
      ]
     },
     "execution_count": 55,
     "metadata": {},
     "output_type": "execute_result"
    }
   ],
   "source": [
    "(X|Y)≡Y-X×⌊Y÷X"
   ]
  },
  {
   "cell_type": "markdown",
   "metadata": {},
   "source": [
    "Notice that in the example above we still kept a set of parentheses around `X|Y`, because we want `≡` to compare `X|Y` with `Y-X×⌊Y÷X`. To get rid of those parentheses one would need to introduce an intermediate variable, for example like so:"
   ]
  },
  {
   "cell_type": "code",
   "execution_count": 56,
   "metadata": {},
   "outputs": [
    {
     "data": {
      "text/html": [
       "<span style=\"white-space:pre; font-family: monospace\">1\n",
       "</span>"
      ]
     },
     "execution_count": 56,
     "metadata": {},
     "output_type": "execute_result"
    }
   ],
   "source": [
    "R ← X|Y\n",
    "R≡Y-X×⌊Y÷X"
   ]
  },
  {
   "cell_type": "markdown",
   "metadata": {},
   "source": [
    "<!-- begin warning -->\n",
    "***Warning***:\n",
    "\n",
    " > In the beginning you may encounter some surprises. For example, if `v` is a vector, `1+⍴v` is different from `⍴v+1`. Let us see why, with the following vector:\n",
    "<!-- end -->"
   ]
  },
  {
   "cell_type": "code",
   "execution_count": 10,
   "metadata": {},
   "outputs": [],
   "source": [
    "v ← 5 2 7"
   ]
  },
  {
   "cell_type": "markdown",
   "metadata": {},
   "source": [
    "The value of"
   ]
  },
  {
   "cell_type": "code",
   "execution_count": 11,
   "metadata": {
    "scrolled": true
   },
   "outputs": [
    {
     "data": {
      "text/html": [
       "<span style=\"white-space:pre; font-family: monospace\">4\n",
       "</span>"
      ]
     },
     "execution_count": 11,
     "metadata": {},
     "output_type": "execute_result"
    }
   ],
   "source": [
    "1+⍴v"
   ]
  },
  {
   "cell_type": "markdown",
   "metadata": {},
   "source": [
    "is"
   ]
  },
  {
   "cell_type": "code",
   "execution_count": 12,
   "metadata": {},
   "outputs": [
    {
     "data": {
      "text/html": [
       "<span style=\"white-space:pre; font-family: monospace\">3\n",
       "</span>"
      ]
     },
     "execution_count": 12,
     "metadata": {},
     "output_type": "execute_result"
    }
   ],
   "source": [
    "⍴v"
   ]
  },
  {
   "cell_type": "markdown",
   "metadata": {},
   "source": [
    "followed by"
   ]
  },
  {
   "cell_type": "code",
   "execution_count": 60,
   "metadata": {},
   "outputs": [
    {
     "data": {
      "text/html": [
       "<span style=\"white-space:pre; font-family: monospace\">4\n",
       "</span>"
      ]
     },
     "execution_count": 60,
     "metadata": {},
     "output_type": "execute_result"
    }
   ],
   "source": [
    "1+3"
   ]
  },
  {
   "cell_type": "markdown",
   "metadata": {},
   "source": [
    "Whereas the value of"
   ]
  },
  {
   "cell_type": "code",
   "execution_count": 13,
   "metadata": {},
   "outputs": [
    {
     "data": {
      "text/html": [
       "<span style=\"white-space:pre; font-family: monospace\">3\n",
       "</span>"
      ]
     },
     "execution_count": 13,
     "metadata": {},
     "output_type": "execute_result"
    }
   ],
   "source": [
    "⍴v+1"
   ]
  },
  {
   "cell_type": "markdown",
   "metadata": {},
   "source": [
    "is"
   ]
  },
  {
   "cell_type": "code",
   "execution_count": 14,
   "metadata": {},
   "outputs": [
    {
     "data": {
      "text/html": [
       "<span style=\"white-space:pre; font-family: monospace\">6 3 8\n",
       "</span>"
      ]
     },
     "execution_count": 14,
     "metadata": {},
     "output_type": "execute_result"
    }
   ],
   "source": [
    "v+1"
   ]
  },
  {
   "cell_type": "markdown",
   "metadata": {},
   "source": [
    "followed by"
   ]
  },
  {
   "cell_type": "code",
   "execution_count": 63,
   "metadata": {},
   "outputs": [
    {
     "data": {
      "text/html": [
       "<span style=\"white-space:pre; font-family: monospace\">3\n",
       "</span>"
      ]
     },
     "execution_count": 63,
     "metadata": {},
     "output_type": "execute_result"
    }
   ],
   "source": [
    "⍴6 3 8"
   ]
  },
  {
   "cell_type": "markdown",
   "metadata": {},
   "source": [
    "which gives a different result.\n",
    "\n",
    "This may be completely new to people who have experience with other programming languages, and is one of the reasons why we **recommend** that you do all of the exercises at the end of this chapter. With a little practice, you will soon find this simple rule very natural, and you will consider it a relief that you do not have to remember complex rules for function precedence."
   ]
  },
  {
   "cell_type": "markdown",
   "metadata": {},
   "source": [
    "## Monadic Scalar Functions\n",
    "\n",
    "Most of the symbols we have encountered so far also have a monadic definition; let's look at them now.\n",
    "\n",
    "### The Four Basic Symbols\n",
    "\n",
    "We will begin with the four basic symbols: `+` `-` `×` `÷`\n",
    "\n",
    "#### Conjugate\n",
    "\n",
    "The Plus sign used monadically is the ***Conjugate*** function. It returns the ***complex conjugate*** of its arguments:"
   ]
  },
  {
   "cell_type": "code",
   "execution_count": 64,
   "metadata": {},
   "outputs": [
    {
     "data": {
      "text/html": [
       "<span style=\"white-space:pre; font-family: monospace\">0J¯1\n",
       "</span>"
      ]
     },
     "execution_count": 64,
     "metadata": {},
     "output_type": "execute_result"
    }
   ],
   "source": [
    "+ 0J1"
   ]
  },
  {
   "cell_type": "markdown",
   "metadata": {},
   "source": [
    "When the numbers have no complex part, the function acts as the identity function, as the complex conjugate of a real number is the number itself:"
   ]
  },
  {
   "cell_type": "code",
   "execution_count": 65,
   "metadata": {},
   "outputs": [
    {
     "data": {
      "text/html": [
       "<span style=\"white-space:pre; font-family: monospace\">1 2 3 ¯3 6.5346 56\n",
       "</span>"
      ]
     },
     "execution_count": 65,
     "metadata": {},
     "output_type": "execute_result"
    }
   ],
   "source": [
    "+ 1 2 3 ¯3 6.5346 56J0"
   ]
  },
  {
   "cell_type": "markdown",
   "metadata": {},
   "source": [
    "For compatibility reasons, monadic `+` also acts as the identity function if the argument is a character:"
   ]
  },
  {
   "cell_type": "code",
   "execution_count": 66,
   "metadata": {},
   "outputs": [
    {
     "data": {
      "text/html": [
       "<span style=\"white-space:pre; font-family: monospace\">a\n",
       "</span>"
      ]
     },
     "execution_count": 66,
     "metadata": {},
     "output_type": "execute_result"
    }
   ],
   "source": [
    "+ 'a'"
   ]
  },
  {
   "cell_type": "markdown",
   "metadata": {},
   "source": [
    "Because it is a scalar function, it naturally works with mixed arrays:"
   ]
  },
  {
   "cell_type": "code",
   "execution_count": 67,
   "metadata": {},
   "outputs": [
    {
     "data": {
      "text/html": [
       "<span style=\"white-space:pre; font-family: monospace\">B 3 a ¯3 0J¯1 g 4J4\n",
       "</span>"
      ]
     },
     "execution_count": 67,
     "metadata": {},
     "output_type": "execute_result"
    }
   ],
   "source": [
    "+ 'B' 3 'a' ¯3 0J1 'g' 4J¯4"
   ]
  },
  {
   "cell_type": "markdown",
   "metadata": {},
   "source": [
    "#### Negate\n",
    "\n",
    "The Minus sign is the ***Negative*** function. It returns the negation of its argument:"
   ]
  },
  {
   "cell_type": "code",
   "execution_count": 68,
   "metadata": {},
   "outputs": [
    {
     "data": {
      "text/html": [
       "<span style=\"white-space:pre; font-family: monospace\">¯19 ¯11 33 0 17\n",
       "</span>"
      ]
     },
     "execution_count": 68,
     "metadata": {},
     "output_type": "execute_result"
    }
   ],
   "source": [
    "- 19 11 ¯33 0 ¯17"
   ]
  },
  {
   "cell_type": "markdown",
   "metadata": {},
   "source": [
    "#### Direction\n",
    "\n",
    "The Multiply symbol used monadically is the ***Direction*** function. For real numbers, it tells us the sign of its argument, using the following convention:\n",
    "\n",
    "| Result | Value |\n",
    "| -: | :- |\n",
    "| `1` | The value is positive |\n",
    "| `0` | The value is zero |\n",
    "| `¯1` | The value is negative |\n",
    "\n",
    "Some examples follow:"
   ]
  },
  {
   "cell_type": "code",
   "execution_count": 69,
   "metadata": {},
   "outputs": [
    {
     "data": {
      "text/html": [
       "<span style=\"white-space:pre; font-family: monospace\">1 1 ¯1 0 ¯1\n",
       "</span>"
      ]
     },
     "execution_count": 69,
     "metadata": {},
     "output_type": "execute_result"
    }
   ],
   "source": [
    "× 19 11 ¯33 0 ¯17"
   ]
  },
  {
   "cell_type": "markdown",
   "metadata": {},
   "source": [
    "But *Direction* also applies to complex numbers, and does so by extending the idea above. The *Direction* of a number is that same number re-scaled so that it has magnitude (\"length\") 1.\n",
    "\n",
    "Let us take the complex number `3J4` as an example. If we look at the figure below, we see that the 3 is represented by the bottom side of the triangle and the 4 by the right side of the triangle. The little arrow that goes from the lower-left to the upper-right vertex of the triangle represents the direction in which `3J4` points.\n",
    "\n",
    "![A right triangle with sides 3, 4 and 5 representing the complex number `3J4`.](res/Direction_Right_Triangle.png)\n",
    "\n",
    "We can also see that said arrow has length 5, as the Pythagorean theorem tells us:"
   ]
  },
  {
   "cell_type": "code",
   "execution_count": 70,
   "metadata": {},
   "outputs": [
    {
     "data": {
      "text/html": [
       "<span style=\"white-space:pre; font-family: monospace\">5\n",
       "</span>"
      ]
     },
     "execution_count": 70,
     "metadata": {},
     "output_type": "execute_result"
    }
   ],
   "source": [
    "((3*2)+(4*2))*0.5"
   ]
  },
  {
   "cell_type": "markdown",
   "metadata": {},
   "source": [
    "Now `×3J4` is the complex number associated with a triangle that is similar to the one above, but with the arrow measuring 1, exactly like the smaller triangle inside the larger triangle in the figure below:\n",
    "\n",
    "![Scaled down version of the `3J4` triangle.](res/Direction_Right_Triangle_Scaled.png)\n",
    "\n",
    "We only have to figure out the lengths of the other two sides:"
   ]
  },
  {
   "cell_type": "code",
   "execution_count": 71,
   "metadata": {},
   "outputs": [
    {
     "data": {
      "text/html": [
       "<span style=\"white-space:pre; font-family: monospace\">0.6J0.8\n",
       "</span>"
      ]
     },
     "execution_count": 71,
     "metadata": {},
     "output_type": "execute_result"
    }
   ],
   "source": [
    "× 3J4"
   ]
  },
  {
   "cell_type": "markdown",
   "metadata": {},
   "source": [
    "#### Reciprocal\n",
    "\n",
    "No surprise: the Divide symbol gives the ***Reciprocal*** or ***Inverse*** of its argument:"
   ]
  },
  {
   "cell_type": "code",
   "execution_count": 72,
   "metadata": {},
   "outputs": [
    {
     "data": {
      "text/html": [
       "<span style=\"white-space:pre; font-family: monospace\">0.5 ¯0.25 3.33333 4 ¯0.142857\n",
       "</span>"
      ]
     },
     "execution_count": 72,
     "metadata": {},
     "output_type": "execute_result"
    }
   ],
   "source": [
    "÷ 2 ¯4 .3 .25 ¯7"
   ]
  },
  {
   "cell_type": "markdown",
   "metadata": {},
   "source": [
    "### Other Scalar Monadic Functions"
   ]
  },
  {
   "cell_type": "markdown",
   "metadata": {},
   "source": [
    "#### Magnitude (Absolute Value)\n",
    "\n",
    "The monadic stile represents the absolute (unsigned) value of its argument, if its argument only contains real numbers:"
   ]
  },
  {
   "cell_type": "code",
   "execution_count": 73,
   "metadata": {},
   "outputs": [
    {
     "data": {
      "text/html": [
       "<span style=\"white-space:pre; font-family: monospace\">29.2 49.3 14.8 0 37.2\n",
       "</span>"
      ]
     },
     "execution_count": 73,
     "metadata": {},
     "output_type": "execute_result"
    }
   ],
   "source": [
    "V ← 29.2 49.3 ¯14.8 0 ¯37.2\n",
    "|V"
   ]
  },
  {
   "cell_type": "markdown",
   "metadata": {},
   "source": [
    "Like monadic `×`, monadic `|` generalises nicely for complex numbers. Take the complex number `12J5` and its representation as a right triangle in the figure below.\n",
    "\n",
    "![The complex number `12J5` represented by a right triangle.](res/Magnitude_Right_Triangle.png)\n",
    "\n",
    "`|12J5` is the length that is missing in the figure. In this case, it is"
   ]
  },
  {
   "cell_type": "code",
   "execution_count": 74,
   "metadata": {},
   "outputs": [
    {
     "data": {
      "text/html": [
       "<span style=\"white-space:pre; font-family: monospace\">13\n",
       "</span>"
      ]
     },
     "execution_count": 74,
     "metadata": {},
     "output_type": "execute_result"
    }
   ],
   "source": [
    "|12J5"
   ]
  },
  {
   "cell_type": "markdown",
   "metadata": {},
   "source": [
    "From a geometrical point of view it becomes clear that `×` and `|` are related for any number `v`: if we take the small triangle (`×v`) and we multiply it by the length of the larger side (`|v`) then we get the original triangle, which represents the original (complex) number:"
   ]
  },
  {
   "cell_type": "code",
   "execution_count": 15,
   "metadata": {},
   "outputs": [
    {
     "data": {
      "text/html": [
       "<span style=\"white-space:pre; font-family: monospace\">1\n",
       "</span>"
      ]
     },
     "execution_count": 15,
     "metadata": {},
     "output_type": "execute_result"
    }
   ],
   "source": [
    "v ← 0 1 ¯1 2.3 ¯4.6 0J1 3J¯4.2\n",
    "v≡(×v)×|v"
   ]
  },
  {
   "cell_type": "markdown",
   "metadata": {},
   "source": [
    "#### Exponential\n",
    "\n",
    "The expression `*n` gives $e^n$, where $e$ is the base of the natural logarithm, approximately $2.71828$:"
   ]
  },
  {
   "cell_type": "code",
   "execution_count": 76,
   "metadata": {},
   "outputs": [
    {
     "data": {
      "text/html": [
       "<span style=\"white-space:pre; font-family: monospace\">2.71828\n",
       "</span>"
      ]
     },
     "execution_count": 76,
     "metadata": {},
     "output_type": "execute_result"
    }
   ],
   "source": [
    "*1"
   ]
  },
  {
   "cell_type": "code",
   "execution_count": 77,
   "metadata": {},
   "outputs": [
    {
     "data": {
      "text/html": [
       "<span style=\"white-space:pre; font-family: monospace\">2.71828 1 20.0855 0.367879\n",
       "</span>"
      ]
     },
     "execution_count": 77,
     "metadata": {},
     "output_type": "execute_result"
    }
   ],
   "source": [
    "* 1 0 3 ¯1"
   ]
  },
  {
   "cell_type": "markdown",
   "metadata": {},
   "source": [
    "#### Floor and Ceiling\n",
    "\n",
    "***Floor*** (`⌊`) rounds its argument down, while ***Ceiling*** (`⌈`) rounds its argument up, to the nearest smaller or larger integer value, respectively:"
   ]
  },
  {
   "cell_type": "code",
   "execution_count": 16,
   "metadata": {},
   "outputs": [
    {
     "data": {
      "text/html": [
       "<span style=\"white-space:pre; font-family: monospace\">51 48 0 12 ¯74 ¯10\n",
       "</span>"
      ]
     },
     "execution_count": 16,
     "metadata": {},
     "output_type": "execute_result"
    }
   ],
   "source": [
    "v ← 51.384 48.962 0 12.5 ¯73.27 ¯9.99\n",
    "⌊v"
   ]
  },
  {
   "cell_type": "code",
   "execution_count": 17,
   "metadata": {},
   "outputs": [
    {
     "data": {
      "text/html": [
       "<span style=\"white-space:pre; font-family: monospace\">52 49 0 13 ¯73 ¯9\n",
       "</span>"
      ]
     },
     "execution_count": 17,
     "metadata": {},
     "output_type": "execute_result"
    }
   ],
   "source": [
    "⌈v"
   ]
  },
  {
   "cell_type": "markdown",
   "metadata": {},
   "source": [
    "To round a value to the nearest integer a commonly used method is to add 0.5 and then take the *Floor*, or alternatively, to subtract 0.5 and take the *Ceiling*, as shown here:"
   ]
  },
  {
   "cell_type": "code",
   "execution_count": 19,
   "metadata": {},
   "outputs": [
    {
     "data": {
      "text/html": [
       "<span style=\"white-space:pre; font-family: monospace\">51 49 0 13 ¯73 ¯10\n",
       "</span>"
      ]
     },
     "execution_count": 19,
     "metadata": {},
     "output_type": "execute_result"
    }
   ],
   "source": [
    "⌊v+0.5"
   ]
  },
  {
   "cell_type": "code",
   "execution_count": 18,
   "metadata": {},
   "outputs": [
    {
     "data": {
      "text/html": [
       "<span style=\"white-space:pre; font-family: monospace\">51 49 0 12 ¯73 ¯10\n",
       "</span>"
      ]
     },
     "execution_count": 18,
     "metadata": {},
     "output_type": "execute_result"
    }
   ],
   "source": [
    "⌈v-0.5"
   ]
  },
  {
   "cell_type": "markdown",
   "metadata": {},
   "source": [
    "The results are the same, except when the decimal part of a number if 0.5. For example, 12.5 above gets rounded to 13 or 12 depending on which method is used."
   ]
  },
  {
   "cell_type": "markdown",
   "metadata": {},
   "source": [
    "## Left and Right Tacks\n",
    "\n",
    "### Same\n",
    "\n",
    "APL also includes two primitive functions whose monadic name is the same: ***Same***. These two primitives are the ***Right Tack*** (`⊢`) and the ***Left Tack*** (`⊣`), obtained respectively with <kbd>APL</kbd>+<kbd>\\\\</kbd> and <kbd>APL</kbd>+<kbd>Shift</kbd>+<kbd>\\\\</kbd>.\n",
    "\n",
    "Their monadic name is *Same* because they act as true identity functions, returning their argument completely unchanged:"
   ]
  },
  {
   "cell_type": "code",
   "execution_count": 82,
   "metadata": {},
   "outputs": [
    {
     "data": {
      "text/html": [
       "<span style=\"white-space:pre; font-family: monospace\">1 2 3\n",
       "</span>"
      ]
     },
     "execution_count": 82,
     "metadata": {},
     "output_type": "execute_result"
    }
   ],
   "source": [
    "⊢ 1 2 3"
   ]
  },
  {
   "cell_type": "code",
   "execution_count": 83,
   "metadata": {},
   "outputs": [
    {
     "data": {
      "text/html": [
       "<span style=\"white-space:pre; font-family: monospace\">Banana\n",
       "</span>"
      ]
     },
     "execution_count": 83,
     "metadata": {},
     "output_type": "execute_result"
    }
   ],
   "source": [
    "⊢ 'Banana'"
   ]
  },
  {
   "cell_type": "code",
   "execution_count": 84,
   "metadata": {
    "scrolled": true
   },
   "outputs": [
    {
     "data": {
      "text/html": [
       "<span style=\"white-space:pre; font-family: monospace\">┌───┬─┬─────────┬─────────────────┐\n",
       "│Bag│3│┌─┬─┬───┐│┌───┬───────┬───┐│\n",
       "│   │ ││1│2│Bag│││Bag│┌───┬─┐│1 2││\n",
       "│   │ │└─┴─┴───┘││   ││Bag│3││3 4││\n",
       "│   │ │         ││   │└───┴─┘│   ││\n",
       "│   │ │         │└───┴───────┴───┘│\n",
       "└───┴─┴─────────┴─────────────────┘\n",
       "</span>"
      ]
     },
     "execution_count": 84,
     "metadata": {},
     "output_type": "execute_result"
    }
   ],
   "source": [
    "⊢ 'Bag' 3 (1 2 'Bag') ('Bag' ('Bag' 3) (2 2⍴1 2 3 4))"
   ]
  },
  {
   "cell_type": "markdown",
   "metadata": {},
   "source": [
    "Exactly the same thing happens (i.e. nothing happens) if you replace all the `⊢` above with `⊣`, for example:"
   ]
  },
  {
   "cell_type": "code",
   "execution_count": 85,
   "metadata": {
    "scrolled": true
   },
   "outputs": [
    {
     "data": {
      "text/html": [
       "<span style=\"white-space:pre; font-family: monospace\">┌───┬─┬─────────┬─────────────────┐\n",
       "│Bag│3│┌─┬─┬───┐│┌───┬───────┬───┐│\n",
       "│   │ ││1│2│Bag│││Bag│┌───┬─┐│1 2││\n",
       "│   │ │└─┴─┴───┘││   ││Bag│3││3 4││\n",
       "│   │ │         ││   │└───┴─┘│   ││\n",
       "│   │ │         │└───┴───────┴───┘│\n",
       "└───┴─┴─────────┴─────────────────┘\n",
       "</span>"
      ]
     },
     "execution_count": 85,
     "metadata": {},
     "output_type": "execute_result"
    }
   ],
   "source": [
    "⊣ 'Bag' 3 (1 2 'Bag') ('Bag' ('Bag' 3) (2 2⍴1 2 3 4))"
   ]
  },
  {
   "cell_type": "markdown",
   "metadata": {},
   "source": [
    "These two functions may look useless, but they are not. For one, a neat little trick we can do with them is to display a value of a variable that we just assigned; for example, compare the two code cells below:"
   ]
  },
  {
   "cell_type": "code",
   "execution_count": 20,
   "metadata": {},
   "outputs": [],
   "source": [
    "matrix ← 2 3⍴1 2 3 4 5 6        ⍝ Nothing gets displayed explicitly"
   ]
  },
  {
   "cell_type": "code",
   "execution_count": 21,
   "metadata": {},
   "outputs": [
    {
     "data": {
      "text/html": [
       "<span style=\"white-space:pre; font-family: monospace\">1 2 3\n",
       "4 5 6\n",
       "</span>"
      ]
     },
     "execution_count": 21,
     "metadata": {},
     "output_type": "execute_result"
    }
   ],
   "source": [
    "⊢matrix← 2 3⍴1 2 3 4 5 6        ⍝ The value of matrix is displayed "
   ]
  },
  {
   "cell_type": "code",
   "execution_count": 22,
   "metadata": {},
   "outputs": [
    {
     "data": {
      "text/html": [
       "<span style=\"white-space:pre; font-family: monospace\">1 2 3\n",
       "4 5 6\n",
       "</span>"
      ]
     },
     "execution_count": 22,
     "metadata": {},
     "output_type": "execute_result"
    }
   ],
   "source": [
    "⊣matrix← 2 3⍴1 2 3 4 5 6        ⍝ The value of matrix is displayed"
   ]
  },
  {
   "cell_type": "markdown",
   "metadata": {},
   "source": [
    "These functions become even more useful combined with the power of operators or tacit programming (explained in detail in future chapters), or if we take a look at their dyadic usages (explained next)."
   ]
  },
  {
   "cell_type": "markdown",
   "metadata": {},
   "source": [
    "### Dyadic Usage\n",
    "\n",
    "The *Left* and *Right Tacks* differ in their dyadic usage, of course, otherwise there would be no point in having two primitive functions that behaved in exactly the same manner.\n",
    "\n",
    "When used dyadically, the *Left Tack* returns its left argument and the *Right Tack* returns its right argument. If you ever forget which dyadic tack returns what, just remember that each tack returns the argument to which it is pointing:"
   ]
  },
  {
   "cell_type": "code",
   "execution_count": 89,
   "metadata": {},
   "outputs": [
    {
     "data": {
      "text/html": [
       "<span style=\"white-space:pre; font-family: monospace\">1 2 3\n",
       "</span>"
      ]
     },
     "execution_count": 89,
     "metadata": {},
     "output_type": "execute_result"
    }
   ],
   "source": [
    "1 2 3 ⊣ 'Bananas'"
   ]
  },
  {
   "cell_type": "code",
   "execution_count": 90,
   "metadata": {
    "scrolled": true
   },
   "outputs": [
    {
     "data": {
      "text/html": [
       "<span style=\"white-space:pre; font-family: monospace\">Bananas\n",
       "</span>"
      ]
     },
     "execution_count": 90,
     "metadata": {},
     "output_type": "execute_result"
    }
   ],
   "source": [
    "1 2 3 ⊢ 'Bananas'"
   ]
  },
  {
   "cell_type": "markdown",
   "metadata": {},
   "source": [
    "## Processing Binary Data\n",
    "\n",
    "<!-- begin remark -->\n",
    "***Remark***:\n",
    "\n",
    "Binary values are most often produced by the comparison functions that we have already seen. However, the result of *any* function (such as addition or subtraction) which is composed only of 1s and 0s can be used as a binary (or Boolean) value, and may be used as an argument to any of the special primitive functions that apply to Boolean values.\n",
    "<!-- end -->\n",
    "\n",
    "Among the various ways of producing binary results, *Membership* appears to be one of the most interesting tools."
   ]
  },
  {
   "cell_type": "markdown",
   "metadata": {},
   "source": [
    "### Membership\n",
    "\n",
    " - ***Membership*** tells whether the items of its left argument are present (`1`) or not (`0`) in the right argument, regardless of their position in it;\n",
    " - it accepts arguments of any shape or type;\n",
    " - the result produced always has the same shape as the **left** argument.\n",
    " \n",
    "Some examples will help you understand the function:"
   ]
  },
  {
   "cell_type": "code",
   "execution_count": 91,
   "metadata": {},
   "outputs": [
    {
     "data": {
      "text/html": [
       "<span style=\"white-space:pre; font-family: monospace\">1 0 0 1\n",
       "</span>"
      ]
     },
     "execution_count": 91,
     "metadata": {},
     "output_type": "execute_result"
    }
   ],
   "source": [
    "23 14 41 19 ∊ 17 88 19 50 51 52 23 40"
   ]
  },
  {
   "cell_type": "markdown",
   "metadata": {},
   "source": [
    "This means that 23 and 19 appear somewhere in the rightmost vector, whereas 14 and 41 do not. The left argument has 4 items, and so has the result.\n",
    "\n",
    "The *Membership* function can operate on arguments of completely different shape. For example, it is possible to detect the presence of each item of a vector in a matrix, or vice versa.\n",
    "\n",
    "In an earlier chapter we used a matrix containing the first 6 months of the year:"
   ]
  },
  {
   "cell_type": "code",
   "execution_count": 23,
   "metadata": {},
   "outputs": [
    {
     "data": {
      "text/html": [
       "<span style=\"white-space:pre; font-family: monospace\">January \n",
       "February\n",
       "March   \n",
       "April   \n",
       "May     \n",
       "June    \n",
       "</span>"
      ]
     },
     "execution_count": 23,
     "metadata": {},
     "output_type": "execute_result"
    }
   ],
   "source": [
    "⊢monMat ← 6 8⍴'January FebruaryMarch   April   May     June    '"
   ]
  },
  {
   "cell_type": "markdown",
   "metadata": {},
   "source": [
    "We can ask if certain letters are present in this matrix:"
   ]
  },
  {
   "cell_type": "code",
   "execution_count": 24,
   "metadata": {},
   "outputs": [
    {
     "data": {
      "text/html": [
       "<span style=\"white-space:pre; font-family: monospace\">0 1 1 1 0 1 1 1\n",
       "</span>"
      ]
     },
     "execution_count": 24,
     "metadata": {},
     "output_type": "execute_result"
    }
   ],
   "source": [
    "'December' ∊ monMat"
   ]
  },
  {
   "cell_type": "markdown",
   "metadata": {},
   "source": [
    "The result shows that all letters of the word \"December\" appear in `monMat`, except \"D\" and lowercase \"m\" (which should not be confused with the uppercase \"M\" or March and May).\n",
    "\n",
    "In this case we used a vector left argument and a matrix right argument. Let's try it the other way around. The following expression tells us which letters in the matrix `monMat` appear in the word \"Century\":"
   ]
  },
  {
   "cell_type": "code",
   "execution_count": 25,
   "metadata": {},
   "outputs": [
    {
     "data": {
      "text/html": [
       "<span style=\"white-space:pre; font-family: monospace\">0 0 1 1 0 1 1 0\n",
       "0 1 0 1 1 0 1 1\n",
       "0 0 1 0 0 0 0 0\n",
       "0 0 1 0 0 0 0 0\n",
       "0 0 1 0 0 0 0 0\n",
       "0 1 1 1 0 0 0 0\n",
       "</span>"
      ]
     },
     "execution_count": 25,
     "metadata": {},
     "output_type": "execute_result"
    }
   ],
   "source": [
    "monMat ∊ 'Century'"
   ]
  },
  {
   "cell_type": "markdown",
   "metadata": {},
   "source": [
    "As you might imagine, any comparison between numbers and letters gives zero:"
   ]
  },
  {
   "cell_type": "code",
   "execution_count": 95,
   "metadata": {},
   "outputs": [
    {
     "data": {
      "text/html": [
       "<span style=\"white-space:pre; font-family: monospace\">0\n",
       "</span>"
      ]
     },
     "execution_count": 95,
     "metadata": {},
     "output_type": "execute_result"
    }
   ],
   "source": [
    "1952 ∊ '1952'"
   ]
  },
  {
   "cell_type": "code",
   "execution_count": 96,
   "metadata": {},
   "outputs": [
    {
     "data": {
      "text/html": [
       "<span style=\"white-space:pre; font-family: monospace\">0 0 0 0\n",
       "</span>"
      ]
     },
     "execution_count": 96,
     "metadata": {},
     "output_type": "execute_result"
    }
   ],
   "source": [
    "'1952' ∊ 1952"
   ]
  },
  {
   "cell_type": "markdown",
   "metadata": {},
   "source": [
    "Remember that `'1952'` is a vector of 4 letters, none of which can be found in the number 1952.\n",
    "\n",
    "We **recommend** that you do exercise 22 to discover all possibilities of *Membership*."
   ]
  },
  {
   "cell_type": "markdown",
   "metadata": {},
   "source": [
    "### Binary Algebra\n",
    "\n",
    "Binary values can be processed using half a dozen specialised primitive functions, the main ones being ***And***, ***Or***, ***Xor*** and ***Not***. Additional functions will be described in the *Specialist's Section*.\n",
    "\n",
    "The function ***And*** is represented by the symbol `∧` (<kbd>APL</kbd>+<kbd>0</kbd>), as it is in mathematics. It returns the result 1 if the left ***and*** the right arguments are both equal to 1:"
   ]
  },
  {
   "cell_type": "code",
   "execution_count": 97,
   "metadata": {},
   "outputs": [
    {
     "data": {
      "text/html": [
       "<span style=\"white-space:pre; font-family: monospace\">0\n",
       "</span>"
      ]
     },
     "execution_count": 97,
     "metadata": {},
     "output_type": "execute_result"
    }
   ],
   "source": [
    "0 ∧ 0"
   ]
  },
  {
   "cell_type": "code",
   "execution_count": 98,
   "metadata": {},
   "outputs": [
    {
     "data": {
      "text/html": [
       "<span style=\"white-space:pre; font-family: monospace\">0\n",
       "</span>"
      ]
     },
     "execution_count": 98,
     "metadata": {},
     "output_type": "execute_result"
    }
   ],
   "source": [
    "0 ∧ 1"
   ]
  },
  {
   "cell_type": "code",
   "execution_count": 99,
   "metadata": {},
   "outputs": [
    {
     "data": {
      "text/html": [
       "<span style=\"white-space:pre; font-family: monospace\">0\n",
       "</span>"
      ]
     },
     "execution_count": 99,
     "metadata": {},
     "output_type": "execute_result"
    }
   ],
   "source": [
    "1 ∧ 0"
   ]
  },
  {
   "cell_type": "code",
   "execution_count": 100,
   "metadata": {},
   "outputs": [
    {
     "data": {
      "text/html": [
       "<span style=\"white-space:pre; font-family: monospace\">1\n",
       "</span>"
      ]
     },
     "execution_count": 100,
     "metadata": {},
     "output_type": "execute_result"
    }
   ],
   "source": [
    "1 ∧ 1"
   ]
  },
  {
   "cell_type": "markdown",
   "metadata": {},
   "source": [
    "We can condense the four expressions above into a single one, given that `∧` is also a scalar function:"
   ]
  },
  {
   "cell_type": "code",
   "execution_count": 101,
   "metadata": {},
   "outputs": [
    {
     "data": {
      "text/html": [
       "<span style=\"white-space:pre; font-family: monospace\">0 0 0 1\n",
       "</span>"
      ]
     },
     "execution_count": 101,
     "metadata": {},
     "output_type": "execute_result"
    }
   ],
   "source": [
    "0 0 1 1 ∧ 0 1 0 1"
   ]
  },
  {
   "cell_type": "markdown",
   "metadata": {},
   "source": [
    "The function ***Or*** is represented by the symbol `∨` (<kbd>APL</kbd>+<kbd>9</kbd>), as it is in mathematics. It returns the result 1 if the left ***or*** right argument is equal to 1.\n",
    "\n",
    "The four possible cases are shown in the following expression:"
   ]
  },
  {
   "cell_type": "code",
   "execution_count": 102,
   "metadata": {},
   "outputs": [
    {
     "data": {
      "text/html": [
       "<span style=\"white-space:pre; font-family: monospace\">0 1 1 1\n",
       "</span>"
      ]
     },
     "execution_count": 102,
     "metadata": {},
     "output_type": "execute_result"
    }
   ],
   "source": [
    "0 0 1 1 ∨ 0 1 0 1"
   ]
  },
  {
   "cell_type": "markdown",
   "metadata": {},
   "source": [
    "***Xor*** is an acronym for ***eXclusive Or***. It returns the result 1 if one of the arguments is equal to 1, but not if both are equal to 1.\n",
    "\n",
    "In automation, the same function is generally represented by a circled Plus sign, like $\\oplus$.\n",
    "\n",
    "APL does not need a different symbol for the function, because ***Xor*** is the same as one of the comparison functions we have already met: `≠`"
   ]
  },
  {
   "cell_type": "code",
   "execution_count": 103,
   "metadata": {},
   "outputs": [
    {
     "data": {
      "text/html": [
       "<span style=\"white-space:pre; font-family: monospace\">0 1 1 0\n",
       "</span>"
      ]
     },
     "execution_count": 103,
     "metadata": {},
     "output_type": "execute_result"
    }
   ],
   "source": [
    "0 0 1 1 ≠ 0 1 0 1"
   ]
  },
  {
   "cell_type": "markdown",
   "metadata": {},
   "source": [
    "The last function is the monadic function ***Not***. Represented by the *Tilde* `~` (<kbd>APL</kbd>+<kbd>t</kbd>), it converts 0 into 1 and 1 into 0:"
   ]
  },
  {
   "cell_type": "code",
   "execution_count": 104,
   "metadata": {},
   "outputs": [
    {
     "data": {
      "text/html": [
       "<span style=\"white-space:pre; font-family: monospace\">1 0 1 1 1 0 0\n",
       "</span>"
      ]
     },
     "execution_count": 104,
     "metadata": {},
     "output_type": "execute_result"
    }
   ],
   "source": [
    "~ 0 1 0 0 0 1 1"
   ]
  },
  {
   "cell_type": "markdown",
   "metadata": {},
   "source": [
    "<!-- begin remark -->\n",
    "***Remark***:\n",
    "\n",
    " > - ***And***, ***Or*** and ***Xor*** are scalar dyadic functions;\n",
    " > - ***Not*** is a scalar monadic function;\n",
    " > - ***Membership*** is a dyadic function, but it is not a scalar function.\n",
    "<!-- end -->\n",
    "\n",
    "All these functions can be applied to binary data of any shape. For example, let us see if any of those items of `forecast`, which are greater than 350 thousand Euros, have been exceeded by `actual` sales:"
   ]
  },
  {
   "cell_type": "code",
   "execution_count": 26,
   "metadata": {},
   "outputs": [
    {
     "data": {
      "text/html": [
       "<span style=\"white-space:pre; font-family: monospace\">0 0 0 1 0 0\n",
       "0 1 0 0 0 0\n",
       "0 0 0 0 1 1\n",
       "0 1 0 0 0 0\n",
       "</span>"
      ]
     },
     "execution_count": 26,
     "metadata": {},
     "output_type": "execute_result"
    }
   ],
   "source": [
    "⊢bin ← (forecast>350) ∧ (actual>forecast)"
   ]
  },
  {
   "cell_type": "markdown",
   "metadata": {},
   "source": [
    "A side note: the parentheses around the rightmost expression `(actual>forecast)` are not strictly needed. However, they do no harm either, so we have added them here to help you read the expression, since you may not yet be fully familiar with APL's order of evaluation."
   ]
  },
  {
   "cell_type": "markdown",
   "metadata": {},
   "source": [
    "### Without\n",
    "\n",
    "Given a vector `X` and any array `Y`, the expression `X~Y` returns a vector equal to `X`, but in which all items of `Y` have been removed. The size and shape of `Y` is immaterial, only the individual items of `Y` are used.\n",
    "\n",
    "This function is called ***Without***."
   ]
  },
  {
   "cell_type": "code",
   "execution_count": 27,
   "metadata": {},
   "outputs": [
    {
     "data": {
      "text/html": [
       "<span style=\"white-space:pre; font-family: monospace\">TsWtswm\n",
       "</span>"
      ]
     },
     "execution_count": 27,
     "metadata": {},
     "output_type": "execute_result"
    }
   ],
   "source": [
    "'This Winter is warm' ~ monMat"
   ]
  },
  {
   "cell_type": "markdown",
   "metadata": {},
   "source": [
    "Notice how the right argument above (`monMat`) is a matrix."
   ]
  },
  {
   "cell_type": "code",
   "execution_count": 107,
   "metadata": {},
   "outputs": [
    {
     "data": {
      "text/html": [
       "<span style=\"white-space:pre; font-family: monospace\">Cgatulatis\n",
       "</span>"
      ]
     },
     "execution_count": 107,
     "metadata": {},
     "output_type": "execute_result"
    }
   ],
   "source": [
    "'Congratulations' ~ 'ceremony'"
   ]
  },
  {
   "cell_type": "markdown",
   "metadata": {},
   "source": [
    "The uppercase \"C\" is preserved here because it is different from the lowercase \"c\"."
   ]
  },
  {
   "cell_type": "code",
   "execution_count": 28,
   "metadata": {},
   "outputs": [
    {
     "data": {
      "text/html": [
       "<span style=\"white-space:pre; font-family: monospace\">1 2 3\n",
       "4 5 6\n",
       "</span>"
      ]
     },
     "execution_count": 28,
     "metadata": {},
     "output_type": "execute_result"
    }
   ],
   "source": [
    "matrix"
   ]
  },
  {
   "cell_type": "code",
   "execution_count": 29,
   "metadata": {},
   "outputs": [
    {
     "data": {
      "text/html": [
       "<span style=\"white-space:pre; font-family: monospace\">0 8 10 12\n",
       "</span>"
      ]
     },
     "execution_count": 29,
     "metadata": {},
     "output_type": "execute_result"
    }
   ],
   "source": [
    "0 2 4 6 8 10 12 ~ matrix"
   ]
  },
  {
   "cell_type": "markdown",
   "metadata": {},
   "source": [
    "Of course, it also works on numbers."
   ]
  },
  {
   "cell_type": "markdown",
   "metadata": {},
   "source": [
    "## Processing Nested Arrays\n",
    "\n",
    "When working with nested arrays, it is important to recognise whether or not you are using a scalar function."
   ]
  },
  {
   "cell_type": "markdown",
   "metadata": {},
   "source": [
    "### Scalar vs. Non-scalar Functions\n",
    "\n",
    "In [the \"Data and Variables\" chapter](./Data-and-Variables.ipynb#Data-and-Variables), we set up a nested vector `children`, which is composed only of numeric items:"
   ]
  },
  {
   "cell_type": "code",
   "execution_count": 31,
   "metadata": {},
   "outputs": [
    {
     "data": {
      "text/html": [
       "<span style=\"white-space:pre; font-family: monospace\">C:\\Program Files\\Dyalog\\Dyalog APL-64 18.0 Unicode\\ws\\DISPLAY.dws saved Wed Jul 15 20:03:16 2020\n",
       "</span>"
      ]
     },
     "execution_count": 31,
     "metadata": {},
     "output_type": "execute_result"
    },
    {
     "data": {
      "text/html": [
       "<span style=\"white-space:pre; font-family: monospace\">┌→────────────────────────────────────┐\n",
       "│ ┌→──┐ ┌→──────────┐ ┌→──┐   ┌→────┐ │\n",
       "│ │6 2│ │35 33 26 21│ │7 7│ 3 │19 14│ │\n",
       "│ └~──┘ └~──────────┘ └~──┘   └~────┘ │\n",
       "└∊────────────────────────────────────┘\n",
       "</span>"
      ]
     },
     "execution_count": 31,
     "metadata": {},
     "output_type": "execute_result"
    }
   ],
   "source": [
    ")copy DISPLAY\n",
    "children ← (6 2) (35 33 26 21) (7 7) 3 (19 14)\n",
    "DISPLAY children"
   ]
  },
  {
   "cell_type": "markdown",
   "metadata": {},
   "source": [
    "The application of scalar functions is straightforward.\n",
    "\n",
    "For example, when we add 50 to `children`, the value 50 is added to each of the items of `children`. As these items are themselves scalars or vectors, adding 50 means adding 50 to each of *their* individual items. This process continues through all levels of nesting, ensuring that 50 gets added to all the individual items of `children`. The result is therefore structurally identical to `children`:"
   ]
  },
  {
   "cell_type": "code",
   "execution_count": 32,
   "metadata": {},
   "outputs": [
    {
     "data": {
      "text/html": [
       "<span style=\"white-space:pre; font-family: monospace\">┌→─────────────────────────────────────────┐\n",
       "│ ┌→────┐ ┌→──────────┐ ┌→────┐    ┌→────┐ │\n",
       "│ │56 52│ │85 83 76 71│ │57 57│ 53 │69 64│ │\n",
       "│ └~────┘ └~──────────┘ └~────┘    └~────┘ │\n",
       "└∊─────────────────────────────────────────┘\n",
       "</span>"
      ]
     },
     "execution_count": 32,
     "metadata": {},
     "output_type": "execute_result"
    }
   ],
   "source": [
    "DISPLAY children + 50"
   ]
  },
  {
   "cell_type": "markdown",
   "metadata": {},
   "source": [
    "One way of expressing this behaviour is to say that the scalar functions (both the dyadic and monadic ones) permeate down through the structure of nested arrays, until they reach the lowest-level items, and then apply themselves at this level. They are said to be ***pervasive*** functions.\n",
    "\n",
    "Non-scalar functions, like *Membership*, are not pervasive."
   ]
  },
  {
   "cell_type": "code",
   "execution_count": 33,
   "metadata": {},
   "outputs": [
    {
     "data": {
      "text/html": [
       "<span style=\"white-space:pre; font-family: monospace\">0 1 1 0\n",
       "</span>"
      ]
     },
     "execution_count": 33,
     "metadata": {},
     "output_type": "execute_result"
    }
   ],
   "source": [
    "what ← 19 (6 2) 3 (33 26)\n",
    "what ∊ children"
   ]
  },
  {
   "cell_type": "markdown",
   "metadata": {},
   "source": [
    "The item `(6 2)` of `what` is also an item of `children`, hence *Membership* gives the answer 1, and the same is true for the value 3.\n",
    "\n",
    "In contrast, 19 is only an item of the fifth item of `children`, it is not an *entire* item of `children`. Because a non-pervasive function processes each item as a whole, 19 is not the same as (19 14), so the answer is 0. The same goes for (33 26), which is only part of the second item of `children`."
   ]
  },
  {
   "cell_type": "markdown",
   "metadata": {},
   "source": [
    "### Be Careful With Shape/Type Compatibility\n",
    "\n",
    "It is easy to add a vector of 5 scalar items to `children`, because each of the 5 scalars can be added to the corresponding item of `children`:"
   ]
  },
  {
   "cell_type": "code",
   "execution_count": 34,
   "metadata": {},
   "outputs": [
    {
     "data": {
      "text/html": [
       "<span style=\"white-space:pre; font-family: monospace\">┌─────┬───────────┬─────┬──┬─────┐\n",
       "│16 12│55 53 46 41│37 37│43│69 64│\n",
       "└─────┴───────────┴─────┴──┴─────┘\n",
       "</span>"
      ]
     },
     "execution_count": 34,
     "metadata": {},
     "output_type": "execute_result"
    }
   ],
   "source": [
    "children + 10 20 30 40 50"
   ]
  },
  {
   "cell_type": "markdown",
   "metadata": {},
   "source": [
    "But if we try to add a vector of 5 sub-vectors to `children`, we must ensure that the shape of each sub-vector is compatible with the shape of the corresponding item of `children`, for example"
   ]
  },
  {
   "cell_type": "code",
   "execution_count": 35,
   "metadata": {},
   "outputs": [
    {
     "data": {
      "text/html": [
       "<span style=\"white-space:pre; font-family: monospace\">┌─────┬───────────┬───┬───────────┬─────┐\n",
       "│10 10│40 40 30 30│8 6│103 203 503│33 65│\n",
       "└─────┴───────────┴───┴───────────┴─────┘\n",
       "</span>"
      ]
     },
     "execution_count": 35,
     "metadata": {},
     "output_type": "execute_result"
    }
   ],
   "source": [
    "children + (4 8) (5 7 4 9) (1 ¯1) (100 200 500) (14 51)"
   ]
  },
  {
   "cell_type": "markdown",
   "metadata": {},
   "source": [
    "or"
   ]
  },
  {
   "cell_type": "code",
   "execution_count": 36,
   "metadata": {},
   "outputs": [
    {
     "data": {
      "text/html": [
       "<span style=\"white-space:pre; font-family: monospace\">┌─────┬───────────┬───┬───────────┬───────┐\n",
       "│10 10│35 33 26 21│8 6│103 203 503│¯81 ¯86│\n",
       "└─────┴───────────┴───┴───────────┴───────┘\n",
       "</span>"
      ]
     },
     "execution_count": 36,
     "metadata": {},
     "output_type": "execute_result"
    }
   ],
   "source": [
    "children + (4 8) 0 (1 ¯1) (100 200 500) ¯100"
   ]
  },
  {
   "cell_type": "markdown",
   "metadata": {},
   "source": [
    "If there is any incompatibility, a `LENGTH ERROR` is issued:"
   ]
  },
  {
   "cell_type": "code",
   "execution_count": 37,
   "metadata": {},
   "outputs": [
    {
     "name": "stderr",
     "output_type": "stream",
     "text": [
      "LENGTH ERROR: Mismatched left and right argument shapes\n",
      "      children+(1 2)(2 3)(3 4)(4 5)(5 6)\n",
      "              ∧\n"
     ]
    }
   ],
   "source": [
    "children + (1 2)(2 3)(3 4)(4 5)(5 6)"
   ]
  },
  {
   "cell_type": "markdown",
   "metadata": {},
   "source": [
    "All of the items of our vector could have been added to the corresponding items of `children` except the second one. APL has detected and signalled this error.\n",
    "\n",
    "You must also be careful if a nested or mixed array contains character data; it will not be possible to apply any arithmetic function to the array as a whole."
   ]
  },
  {
   "cell_type": "markdown",
   "metadata": {},
   "source": [
    "### Tally\n",
    "\n",
    "We have seen the dyadic *Match* `≡` and *Not Match* `≢` functions, and now we will see how we can use their monadic versions to work with (nested) arrays.\n",
    "\n",
    "We mentioned ***Tally*** briefly in the first chapter, which is the monadic use of `≢`. ***Tally*** does exactly what its name suggests: it *counts* the amount of items an array has along its first dimension.\n",
    "\n",
    "For a vector, this corresponds to its length:"
   ]
  },
  {
   "cell_type": "code",
   "execution_count": 117,
   "metadata": {
    "scrolled": true
   },
   "outputs": [
    {
     "data": {
      "text/html": [
       "<span style=\"white-space:pre; font-family: monospace\">6\n",
       "</span>"
      ]
     },
     "execution_count": 117,
     "metadata": {},
     "output_type": "execute_result"
    }
   ],
   "source": [
    "≢ 1 2 3 4 5 6"
   ]
  },
  {
   "cell_type": "code",
   "execution_count": 118,
   "metadata": {},
   "outputs": [
    {
     "data": {
      "text/html": [
       "<span style=\"white-space:pre; font-family: monospace\">2\n",
       "</span>"
      ]
     },
     "execution_count": 118,
     "metadata": {},
     "output_type": "execute_result"
    }
   ],
   "source": [
    "≢ 'ui'"
   ]
  },
  {
   "cell_type": "markdown",
   "metadata": {},
   "source": [
    "A nested vector is still a vector:"
   ]
  },
  {
   "cell_type": "code",
   "execution_count": 119,
   "metadata": {},
   "outputs": [
    {
     "data": {
      "text/html": [
       "<span style=\"white-space:pre; font-family: monospace\">┌───┬─┬───┬───────────┐\n",
       "│4 5│a│Bag│┌──┬───┬──┐│\n",
       "│   │ │   ││35│Cat│42││\n",
       "│   │ │   │└──┴───┴──┘│\n",
       "└───┴─┴───┴───────────┘\n",
       "</span>"
      ]
     },
     "execution_count": 119,
     "metadata": {},
     "output_type": "execute_result"
    }
   ],
   "source": [
    "(4 5) 'a' 'Bag' (35 'Cat' 42)"
   ]
  },
  {
   "cell_type": "code",
   "execution_count": 120,
   "metadata": {
    "scrolled": true
   },
   "outputs": [
    {
     "data": {
      "text/html": [
       "<span style=\"white-space:pre; font-family: monospace\">4\n",
       "</span>"
      ]
     },
     "execution_count": 120,
     "metadata": {},
     "output_type": "execute_result"
    }
   ],
   "source": [
    "≢ (4 5) 'a' 'Bag' (35 'Cat' 42)"
   ]
  },
  {
   "cell_type": "markdown",
   "metadata": {},
   "source": [
    "For higher dimensional arrays, *Tally* returns the size of its first dimension:"
   ]
  },
  {
   "cell_type": "code",
   "execution_count": 121,
   "metadata": {},
   "outputs": [
    {
     "data": {
      "text/html": [
       "<span style=\"white-space:pre; font-family: monospace\">3\n",
       "</span>"
      ]
     },
     "execution_count": 121,
     "metadata": {},
     "output_type": "execute_result"
    }
   ],
   "source": [
    "≢ 3 3⍴9 8 7 6 5 4 3 2 1"
   ]
  },
  {
   "cell_type": "code",
   "execution_count": 122,
   "metadata": {
    "scrolled": true
   },
   "outputs": [
    {
     "data": {
      "text/html": [
       "<span style=\"white-space:pre; font-family: monospace\">2\n",
       "</span>"
      ]
     },
     "execution_count": 122,
     "metadata": {},
     "output_type": "execute_result"
    }
   ],
   "source": [
    "≢ 2 5 27⍴0"
   ]
  },
  {
   "cell_type": "markdown",
   "metadata": {},
   "source": [
    "For scalars, *Tally* returns 1:"
   ]
  },
  {
   "cell_type": "code",
   "execution_count": 123,
   "metadata": {},
   "outputs": [
    {
     "data": {
      "text/html": [
       "<span style=\"white-space:pre; font-family: monospace\">1\n",
       "</span>"
      ]
     },
     "execution_count": 123,
     "metadata": {},
     "output_type": "execute_result"
    }
   ],
   "source": [
    "≢ 3"
   ]
  },
  {
   "cell_type": "code",
   "execution_count": 124,
   "metadata": {},
   "outputs": [
    {
     "data": {
      "text/html": [
       "<span style=\"white-space:pre; font-family: monospace\">1\n",
       "</span>"
      ]
     },
     "execution_count": 124,
     "metadata": {},
     "output_type": "execute_result"
    }
   ],
   "source": [
    "≢ '3'"
   ]
  },
  {
   "cell_type": "markdown",
   "metadata": {},
   "source": [
    "In case you don't think it makes sense to have the tally of a scalar return 1, consider the sequence below:"
   ]
  },
  {
   "cell_type": "code",
   "execution_count": 125,
   "metadata": {},
   "outputs": [
    {
     "data": {
      "text/html": [
       "<span style=\"white-space:pre; font-family: monospace\">4\n",
       "</span>"
      ]
     },
     "execution_count": 125,
     "metadata": {},
     "output_type": "execute_result"
    }
   ],
   "source": [
    "≢ 'abcd'"
   ]
  },
  {
   "cell_type": "code",
   "execution_count": 126,
   "metadata": {},
   "outputs": [
    {
     "data": {
      "text/html": [
       "<span style=\"white-space:pre; font-family: monospace\">3\n",
       "</span>"
      ]
     },
     "execution_count": 126,
     "metadata": {},
     "output_type": "execute_result"
    }
   ],
   "source": [
    "≢ 'abc'"
   ]
  },
  {
   "cell_type": "code",
   "execution_count": 127,
   "metadata": {},
   "outputs": [
    {
     "data": {
      "text/html": [
       "<span style=\"white-space:pre; font-family: monospace\">2\n",
       "</span>"
      ]
     },
     "execution_count": 127,
     "metadata": {},
     "output_type": "execute_result"
    }
   ],
   "source": [
    "≢ 'ab'"
   ]
  },
  {
   "cell_type": "code",
   "execution_count": 128,
   "metadata": {},
   "outputs": [],
   "source": [
    "⍝≢ 'a'    ⍝ what should this give??"
   ]
  },
  {
   "cell_type": "code",
   "execution_count": 129,
   "metadata": {},
   "outputs": [
    {
     "data": {
      "text/html": [
       "<span style=\"white-space:pre; font-family: monospace\">0\n",
       "</span>"
      ]
     },
     "execution_count": 129,
     "metadata": {},
     "output_type": "execute_result"
    }
   ],
   "source": [
    "≢ ''"
   ]
  },
  {
   "cell_type": "markdown",
   "metadata": {},
   "source": [
    "Putting things this way, it sure looks reasonable that `≢ 'a'` give 1, right?"
   ]
  },
  {
   "cell_type": "markdown",
   "metadata": {},
   "source": [
    "### Depth\n",
    "\n",
    "Dyadic `≡` and `≢` are very closely related, but their monadic versions aren't. The monadic function ***Depth*** `≡` helps us work with nested arrays, in that it helps us count how many levels of nesting there are.\n",
    "\n",
    "The result of `≡` is really simple to understand. First of all, the depth of a scalar is 0:"
   ]
  },
  {
   "cell_type": "code",
   "execution_count": 130,
   "metadata": {},
   "outputs": [
    {
     "data": {
      "text/html": [
       "<span style=\"white-space:pre; font-family: monospace\">0\n",
       "</span>"
      ]
     },
     "execution_count": 130,
     "metadata": {},
     "output_type": "execute_result"
    }
   ],
   "source": [
    "≡1"
   ]
  },
  {
   "cell_type": "code",
   "execution_count": 131,
   "metadata": {},
   "outputs": [
    {
     "data": {
      "text/html": [
       "<span style=\"white-space:pre; font-family: monospace\">0\n",
       "</span>"
      ]
     },
     "execution_count": 131,
     "metadata": {},
     "output_type": "execute_result"
    }
   ],
   "source": [
    "≡'a'"
   ]
  },
  {
   "cell_type": "code",
   "execution_count": 132,
   "metadata": {},
   "outputs": [
    {
     "data": {
      "text/html": [
       "<span style=\"white-space:pre; font-family: monospace\">0\n",
       "</span>"
      ]
     },
     "execution_count": 132,
     "metadata": {},
     "output_type": "execute_result"
    }
   ],
   "source": [
    "≡4525324"
   ]
  },
  {
   "cell_type": "markdown",
   "metadata": {},
   "source": [
    "Then, the depth of an array is 1 larger than the depth of its deepest item, or sub-array. For example, a simple vector like `1 2 3 4` only has scalars as items, whose depths are 0, so the depth of the vector will be 1."
   ]
  },
  {
   "cell_type": "code",
   "execution_count": 133,
   "metadata": {},
   "outputs": [
    {
     "data": {
      "text/html": [
       "<span style=\"white-space:pre; font-family: monospace\">1\n",
       "</span>"
      ]
     },
     "execution_count": 133,
     "metadata": {},
     "output_type": "execute_result"
    }
   ],
   "source": [
    "≡1 2 3 4"
   ]
  },
  {
   "cell_type": "markdown",
   "metadata": {},
   "source": [
    "Now let us consider a nested vector composed of simple vectors like the one we just saw."
   ]
  },
  {
   "cell_type": "code",
   "execution_count": 38,
   "metadata": {},
   "outputs": [
    {
     "data": {
      "text/html": [
       "<span style=\"white-space:pre; font-family: monospace\">┌───────┬───┬────────┐\n",
       "│1 2 3 4│3 5│10 20 30│\n",
       "└───────┴───┴────────┘\n",
       "</span>"
      ]
     },
     "execution_count": 38,
     "metadata": {},
     "output_type": "execute_result"
    }
   ],
   "source": [
    "⊢nested ← (1 2 3 4) (3 5) (10 20 30)"
   ]
  },
  {
   "cell_type": "markdown",
   "metadata": {},
   "source": [
    "The items of `nested` are vectors of depth 1, so the depth of `nested` should be 2:"
   ]
  },
  {
   "cell_type": "code",
   "execution_count": 39,
   "metadata": {},
   "outputs": [
    {
     "data": {
      "text/html": [
       "<span style=\"white-space:pre; font-family: monospace\">2\n",
       "</span>"
      ]
     },
     "execution_count": 39,
     "metadata": {},
     "output_type": "execute_result"
    }
   ],
   "source": [
    "≡nested"
   ]
  },
  {
   "cell_type": "markdown",
   "metadata": {},
   "source": [
    "`≡` has one more thing to it: if the nesting of the sub-arrays is not uniform then the result will be negative.\n",
    "\n",
    "For example, `1 2 3 4` has depth 1 and `42` has depth 0, so a vector composed of these two sub-arrays has depth -2:"
   ]
  },
  {
   "cell_type": "code",
   "execution_count": 136,
   "metadata": {},
   "outputs": [
    {
     "data": {
      "text/html": [
       "<span style=\"white-space:pre; font-family: monospace\">¯2\n",
       "</span>"
      ]
     },
     "execution_count": 136,
     "metadata": {},
     "output_type": "execute_result"
    }
   ],
   "source": [
    "≡(1 2 3 4) 42"
   ]
  },
  {
   "cell_type": "markdown",
   "metadata": {},
   "source": [
    "## Reduce\n",
    "\n",
    "### Presentation\n",
    "\n",
    "A few pages ago we calculated the costs of some purchased goods:"
   ]
  },
  {
   "cell_type": "code",
   "execution_count": 40,
   "metadata": {},
   "outputs": [
    {
     "data": {
      "text/html": [
       "<span style=\"white-space:pre; font-family: monospace\">10.4 11.5 10.8 24 16.9\n",
       "</span>"
      ]
     },
     "execution_count": 40,
     "metadata": {},
     "output_type": "execute_result"
    }
   ],
   "source": [
    "⊢costs ← price × qty"
   ]
  },
  {
   "cell_type": "markdown",
   "metadata": {},
   "source": [
    "How much did we spend?"
   ]
  },
  {
   "cell_type": "code",
   "execution_count": 138,
   "metadata": {},
   "outputs": [
    {
     "data": {
      "text/html": [
       "<span style=\"white-space:pre; font-family: monospace\">73.6\n",
       "</span>"
      ]
     },
     "execution_count": 138,
     "metadata": {},
     "output_type": "execute_result"
    }
   ],
   "source": [
    "10.4 + 11.5 + 10.8 + 24 + 16.9"
   ]
  },
  {
   "cell_type": "markdown",
   "metadata": {},
   "source": [
    "But writing things out like this is cumbersome and depends on us looking at the scalars in the `costs` vector. What if the `price` or the `qty` changes?\n",
    "\n",
    "Mathematicians are creative people who long ago devised the symbol $\\sum$, always with a pretty collection of indices above and below, that is used to indicate the sum of some numbers. This symbol makes it complex to understand and is difficult to type on a keyboard.\n",
    "\n",
    "In APL, the operation is written like this:"
   ]
  },
  {
   "cell_type": "code",
   "execution_count": 41,
   "metadata": {},
   "outputs": [
    {
     "data": {
      "text/html": [
       "<span style=\"white-space:pre; font-family: monospace\">73.6\n",
       "</span>"
      ]
     },
     "execution_count": 41,
     "metadata": {},
     "output_type": "execute_result"
    }
   ],
   "source": [
    "+/ costs"
   ]
  },
  {
   "cell_type": "markdown",
   "metadata": {},
   "source": [
    "Simple, isn't it? This expression gives the total of all the items in the vector. You can read this as \"***Plus Reduction***\" of the variable `costs`.\n",
    "\n",
    "To gain a better understanding of the process:\n",
    "\n",
    "When we write an expression such as"
   ]
  },
  {
   "cell_type": "code",
   "execution_count": 1,
   "metadata": {},
   "outputs": [
    {
     "data": {
      "text/html": [
       "<span style=\"white-space:pre; font-family: monospace\">122\n",
       "</span>"
      ]
     },
     "execution_count": 1,
     "metadata": {},
     "output_type": "execute_result"
    }
   ],
   "source": [
    "+/ 21 45 18 27 11"
   ]
  },
  {
   "cell_type": "markdown",
   "metadata": {},
   "source": [
    "it works as if we had written"
   ]
  },
  {
   "cell_type": "code",
   "execution_count": 2,
   "metadata": {},
   "outputs": [
    {
     "data": {
      "text/html": [
       "<span style=\"white-space:pre; font-family: monospace\">122\n",
       "</span>"
      ]
     },
     "execution_count": 2,
     "metadata": {},
     "output_type": "execute_result"
    }
   ],
   "source": [
    "21 + 45 + 18 + 27 + 11"
   ]
  },
  {
   "cell_type": "markdown",
   "metadata": {},
   "source": [
    "and we obtain the sum `122`.\n",
    "   \n",
    "In fact, it works as if we had \"inserted\" the symbol `+` between the values. But then, if we write"
   ]
  },
  {
   "cell_type": "code",
   "execution_count": 3,
   "metadata": {},
   "outputs": [
    {
     "data": {
      "text/html": [
       "<span style=\"white-space:pre; font-family: monospace\">5051970\n",
       "</span>"
      ]
     },
     "execution_count": 3,
     "metadata": {},
     "output_type": "execute_result"
    }
   ],
   "source": [
    "×/ 21 45 18 27 11"
   ]
  },
  {
   "cell_type": "markdown",
   "metadata": {},
   "source": [
    "it works as if we had written"
   ]
  },
  {
   "cell_type": "code",
   "execution_count": 4,
   "metadata": {},
   "outputs": [
    {
     "data": {
      "text/html": [
       "<span style=\"white-space:pre; font-family: monospace\">5051970\n",
       "</span>"
      ]
     },
     "execution_count": 4,
     "metadata": {},
     "output_type": "execute_result"
    }
   ],
   "source": [
    "21 × 45 × 18 × 27 × 11"
   ]
  },
  {
   "cell_type": "markdown",
   "metadata": {},
   "source": [
    "so, we get the product `5051970`.\n",
    "\n",
    "Similarly, if we write"
   ]
  },
  {
   "cell_type": "code",
   "execution_count": 5,
   "metadata": {},
   "outputs": [
    {
     "data": {
      "text/html": [
       "<span style=\"white-space:pre; font-family: monospace\">45\n",
       "</span>"
      ]
     },
     "execution_count": 5,
     "metadata": {},
     "output_type": "execute_result"
    }
   ],
   "source": [
    "⌈/ 21 45 18 27 11"
   ]
  },
  {
   "cell_type": "markdown",
   "metadata": {},
   "source": [
    "it works as if we had written"
   ]
  },
  {
   "cell_type": "code",
   "execution_count": 6,
   "metadata": {},
   "outputs": [
    {
     "data": {
      "text/html": [
       "<span style=\"white-space:pre; font-family: monospace\">45\n",
       "</span>"
      ]
     },
     "execution_count": 6,
     "metadata": {},
     "output_type": "execute_result"
    }
   ],
   "source": [
    "21 ⌈ 45 ⌈ 18 ⌈ 27 ⌈ 11"
   ]
  },
  {
   "cell_type": "markdown",
   "metadata": {},
   "source": [
    "so, we get the maximum `45`. And so on for other functions we put to the left of `/`.\n",
    "\n",
    "<!-- begin exercise style=hint -->\n",
    "***Exercise***:\n",
    "\n",
    " > Try to evaluate the following expression in your head or with pen and paper: `23⌈ ⌈ ⌈/ 17.81 21.41 9.34 16.53`\n",
    " >\n",
    " > Don't panic! Remember to evaluate it symbol by symbol, from right to left.\n",
    "<!-- end -->"
   ]
  },
  {
   "cell_type": "markdown",
   "metadata": {},
   "source": [
    "### Definition\n",
    "\n",
    "Reduce, represented by the symbol `/`, belongs to a special category of symbols called ***Operators***.\n",
    "\n",
    "In most programming languages the word *operator* is used to describe operations like addition, subtraction, multiplication, and so on. In APL such operations are called *Functions*; typical examples are `+`, `-`, `×` and `⍴`. The word *operator* has a separate meaning in APL.\n",
    "\n",
    "In APL a ***function*** works on an **array** or between two arrays to produce a result:"
   ]
  },
  {
   "cell_type": "code",
   "execution_count": 42,
   "metadata": {},
   "outputs": [
    {
     "data": {
      "text/html": [
       "<span style=\"white-space:pre; font-family: monospace\">10.4 11.5 10.8 24 16.9\n",
       "</span>"
      ]
     },
     "execution_count": 42,
     "metadata": {},
     "output_type": "execute_result"
    }
   ],
   "source": [
    "price × qty"
   ]
  },
  {
   "cell_type": "markdown",
   "metadata": {},
   "source": [
    "Whereas an ***operator*** applies to one or two ***operands*** (its \"arguments\") to produce what we call a *derived function*. That is, after we use the *operator* on its *operands*, we get a (derived) function which may then be used with an array, or between two arrays, to produce a result:"
   ]
  },
  {
   "cell_type": "code",
   "execution_count": 141,
   "metadata": {},
   "outputs": [
    {
     "data": {
      "text/html": [
       "<span style=\"white-space:pre; font-family: monospace\">  /\n",
       "┌─┘\n",
       "+  \n",
       "</span>"
      ]
     },
     "execution_count": 141,
     "metadata": {},
     "output_type": "execute_result"
    }
   ],
   "source": [
    "+/"
   ]
  },
  {
   "cell_type": "markdown",
   "metadata": {},
   "source": [
    "This is the representation APL gives to the *Plus Reduction*, where the tree-like structure shows that `+` is an operand to `/`. We may then use this derived function with an array in order to get a result:"
   ]
  },
  {
   "cell_type": "code",
   "execution_count": 43,
   "metadata": {},
   "outputs": [
    {
     "data": {
      "text/html": [
       "<span style=\"white-space:pre; font-family: monospace\">14\n",
       "</span>"
      ]
     },
     "execution_count": 43,
     "metadata": {},
     "output_type": "execute_result"
    }
   ],
   "source": [
    "⊢stock ← +/ qty"
   ]
  },
  {
   "cell_type": "markdown",
   "metadata": {},
   "source": [
    "In the expression above, the symbol `/` is the operator. It takes the function `+` as its single operand (similar to how we give arguments to functions) and produces the derived function `+/`. This derived function is then applied to `qty`, giving a result which is assigned to `stock` and displayed with `⊢`.\n",
    "\n",
    "Please note that the argument to a monadic function is always to the right of the function, whereas the function applied to a monadic operator (its operand) is always to the left of the operator.\n",
    "\n",
    "All of the APL primitive functions may be used as the operand to *Reduction*; you can even apply a dyadic user-defined function. This generality makes Reduction, and other operators, extremely powerful.\n",
    "\n",
    "Dyalog APL provides a total of around 20 such powerful *operators*, listed in [the Appendix on Dyalog APL Operators](./Appendices.ipynb#Dyalog-APL-Operators). It is also possible to write your own operators, just as it is possible to write your own functions."
   ]
  },
  {
   "cell_type": "markdown",
   "metadata": {},
   "source": [
    "### Reduction of Binary Data\n",
    "\n",
    "Among the typical usages of *Reduction* are `∧` and `∨` applied to binary data.\n",
    "\n",
    " - `∧/ bin` gives the result `1` if ***All*** the items of `bin` are equal to 1;\n",
    " - `∨/ bin` gives the result `1` if ***At least one*** of the items of `bin` is equal to 1;\n",
    " - `+/ bin` tells us ***How many*** items of `bin` are equal to 1.\n",
    " \n",
    "You can verify it on some small examples:"
   ]
  },
  {
   "cell_type": "code",
   "execution_count": 44,
   "metadata": {},
   "outputs": [
    {
     "data": {
      "text/html": [
       "<span style=\"white-space:pre; font-family: monospace\">1 1 1 0 1 0 1\n",
       "</span>"
      ]
     },
     "execution_count": 44,
     "metadata": {},
     "output_type": "execute_result"
    }
   ],
   "source": [
    "⊢bin ← 1 1 1 0 1 0 1"
   ]
  },
  {
   "cell_type": "code",
   "execution_count": 45,
   "metadata": {},
   "outputs": [
    {
     "data": {
      "text/html": [
       "<span style=\"white-space:pre; font-family: monospace\">0\n",
       "</span>"
      ]
     },
     "execution_count": 45,
     "metadata": {},
     "output_type": "execute_result"
    }
   ],
   "source": [
    "∧/ bin"
   ]
  },
  {
   "cell_type": "code",
   "execution_count": 46,
   "metadata": {},
   "outputs": [
    {
     "data": {
      "text/html": [
       "<span style=\"white-space:pre; font-family: monospace\">1\n",
       "</span>"
      ]
     },
     "execution_count": 46,
     "metadata": {},
     "output_type": "execute_result"
    }
   ],
   "source": [
    "∨/ bin"
   ]
  },
  {
   "cell_type": "code",
   "execution_count": 47,
   "metadata": {},
   "outputs": [
    {
     "data": {
      "text/html": [
       "<span style=\"white-space:pre; font-family: monospace\">5\n",
       "</span>"
      ]
     },
     "execution_count": 47,
     "metadata": {},
     "output_type": "execute_result"
    }
   ],
   "source": [
    "+/ bin"
   ]
  },
  {
   "cell_type": "code",
   "execution_count": 48,
   "metadata": {},
   "outputs": [
    {
     "data": {
      "text/html": [
       "<span style=\"white-space:pre; font-family: monospace\">1 1 1 1 1 1 1\n",
       "</span>"
      ]
     },
     "execution_count": 48,
     "metadata": {},
     "output_type": "execute_result"
    }
   ],
   "source": [
    "⊢allOnes ← 1∨bin"
   ]
  },
  {
   "cell_type": "code",
   "execution_count": 49,
   "metadata": {},
   "outputs": [
    {
     "data": {
      "text/html": [
       "<span style=\"white-space:pre; font-family: monospace\">1\n",
       "</span>"
      ]
     },
     "execution_count": 49,
     "metadata": {},
     "output_type": "execute_result"
    }
   ],
   "source": [
    "∧/ allOnes"
   ]
  },
  {
   "cell_type": "markdown",
   "metadata": {},
   "source": [
    "Let us revisit a vector named `contents` (from [the section on \"Data and Variables\"](./Data-and-Variables.ipynb#Data-and-Variables)):"
   ]
  },
  {
   "cell_type": "code",
   "execution_count": 51,
   "metadata": {},
   "outputs": [
    {
     "data": {
      "text/html": [
       "<span style=\"white-space:pre; font-family: monospace\">12 56 78 74 85 96 30 22 44 66 82 27\n",
       "</span>"
      ]
     },
     "execution_count": 51,
     "metadata": {},
     "output_type": "execute_result"
    }
   ],
   "source": [
    "⊢contents ← 12 56 78 74 85 96 30 22 44 66 82 27"
   ]
  },
  {
   "cell_type": "markdown",
   "metadata": {},
   "source": [
    "Now we will answer some questions about the values of the items of `contents`:\n",
    "\n",
    "Are all the values greater than 20?"
   ]
  },
  {
   "cell_type": "code",
   "execution_count": 52,
   "metadata": {},
   "outputs": [
    {
     "data": {
      "text/html": [
       "<span style=\"white-space:pre; font-family: monospace\">0\n",
       "</span>"
      ]
     },
     "execution_count": 52,
     "metadata": {},
     "output_type": "execute_result"
    }
   ],
   "source": [
    "∧/ contents > 20"
   ]
  },
  {
   "cell_type": "markdown",
   "metadata": {},
   "source": [
    "The answer is no.\n",
    "\n",
    "Is there at least one value smaller than 30?"
   ]
  },
  {
   "cell_type": "code",
   "execution_count": 53,
   "metadata": {},
   "outputs": [
    {
     "data": {
      "text/html": [
       "<span style=\"white-space:pre; font-family: monospace\">1\n",
       "</span>"
      ]
     },
     "execution_count": 53,
     "metadata": {},
     "output_type": "execute_result"
    }
   ],
   "source": [
    "∨/ contents < 30"
   ]
  },
  {
   "cell_type": "markdown",
   "metadata": {},
   "source": [
    "The answer is yes.\n",
    "\n",
    "How many values are smaller than 30?"
   ]
  },
  {
   "cell_type": "code",
   "execution_count": 54,
   "metadata": {},
   "outputs": [
    {
     "data": {
      "text/html": [
       "<span style=\"white-space:pre; font-family: monospace\">3\n",
       "</span>"
      ]
     },
     "execution_count": 54,
     "metadata": {},
     "output_type": "execute_result"
    }
   ],
   "source": [
    "+/ contents < 30"
   ]
  },
  {
   "cell_type": "markdown",
   "metadata": {},
   "source": [
    "The answer is 3."
   ]
  },
  {
   "cell_type": "markdown",
   "metadata": {},
   "source": [
    "### Reduction of Nested Arrays\n",
    "\n",
    "When you apply reduction to a nested array, you must check that the items of the nested array are compatible (in shape and type) with the function that you intend to apply:"
   ]
  },
  {
   "cell_type": "code",
   "execution_count": 153,
   "metadata": {},
   "outputs": [
    {
     "data": {
      "text/html": [
       "<span style=\"white-space:pre; font-family: monospace\">┌─────┐\n",
       "│24 27│\n",
       "└─────┘\n",
       "</span>"
      ]
     },
     "execution_count": 153,
     "metadata": {},
     "output_type": "execute_result"
    }
   ],
   "source": [
    "+/ (4 8) (1 4) 10 (9 5)"
   ]
  },
  {
   "cell_type": "markdown",
   "metadata": {},
   "source": [
    "The expression above works because all 2-item vectors can be added together, and a single scalar (the 10) can be added to an array of any shape, because `+` is a scalar function.\n",
    "\n",
    "Notice, however, that in the expression below the 3-item vector cannot be added to the other 2-item vectors, so APL reports an error:"
   ]
  },
  {
   "cell_type": "code",
   "execution_count": 154,
   "metadata": {},
   "outputs": [
    {
     "name": "stderr",
     "output_type": "stream",
     "text": [
      "LENGTH ERROR: Mismatched left and right argument shapes\n",
      "      +/(4 8)(1 4)(1 2 3)(9 5)\n",
      "      ∧\n"
     ]
    }
   ],
   "source": [
    "+/ (4 8) (1 4) (1 2 3) (9 5)"
   ]
  },
  {
   "cell_type": "markdown",
   "metadata": {},
   "source": [
    "### Reduction With Noncommutative Functions\n",
    "\n",
    "Another thing to be careful about is the use of reduction with noncommutative functions, like `-` or `÷`. Reducing an array by such a function yields results which may be counter-intuitive, but which may nevertheless be useful in a number of applications.\n",
    "\n",
    "For example, remember that"
   ]
  },
  {
   "cell_type": "code",
   "execution_count": 155,
   "metadata": {},
   "outputs": [
    {
     "data": {
      "text/html": [
       "<span style=\"white-space:pre; font-family: monospace\">50\n",
       "</span>"
      ]
     },
     "execution_count": 155,
     "metadata": {},
     "output_type": "execute_result"
    }
   ],
   "source": [
    "-/ 45 9 11 2 5"
   ]
  },
  {
   "cell_type": "markdown",
   "metadata": {},
   "source": [
    "is equivalent to"
   ]
  },
  {
   "cell_type": "code",
   "execution_count": 156,
   "metadata": {},
   "outputs": [
    {
     "data": {
      "text/html": [
       "<span style=\"white-space:pre; font-family: monospace\">50\n",
       "</span>"
      ]
     },
     "execution_count": 156,
     "metadata": {},
     "output_type": "execute_result"
    }
   ],
   "source": [
    "45 - 9 - 11 - 2 - 5"
   ]
  },
  {
   "cell_type": "markdown",
   "metadata": {},
   "source": [
    "which, by APL's order of evaluation is equivalent to:"
   ]
  },
  {
   "cell_type": "code",
   "execution_count": 157,
   "metadata": {},
   "outputs": [
    {
     "data": {
      "text/html": [
       "<span style=\"white-space:pre; font-family: monospace\">50\n",
       "</span>"
      ]
     },
     "execution_count": 157,
     "metadata": {},
     "output_type": "execute_result"
    }
   ],
   "source": [
    "45 - (9 - (11 - (2 - 5)))"
   ]
  },
  {
   "cell_type": "markdown",
   "metadata": {},
   "source": [
    "If, instead, we use the traditional mathematical convention that interprets\n",
    "\n",
    "$$45 - 9 - 11 - 2 - 5$$\n",
    "\n",
    "as\n",
    "\n",
    "$$(((45 - 9) - 11) - 2) - 5$$\n",
    "\n",
    "we get the result 18.\n",
    "\n",
    "This kind of \"alternating series\" can be useful for some calculations, although only rarely for business applications."
   ]
  },
  {
   "cell_type": "markdown",
   "metadata": {},
   "source": [
    "### Application 1\n",
    "\n",
    "The employees of a company are divided into three hierarchical categories, denoted simply 1, 2 and 3. Two variables contain the salaries and the categories of these employees; we define them below and then use `⍴` to show some of their initial values:"
   ]
  },
  {
   "cell_type": "code",
   "execution_count": 55,
   "metadata": {},
   "outputs": [
    {
     "data": {
      "text/html": [
       "<span style=\"white-space:pre; font-family: monospace\">2121 4778 4914 3139 4561 221 1252 1530 4475 332\n",
       "</span>"
      ]
     },
     "execution_count": 55,
     "metadata": {},
     "output_type": "execute_result"
    }
   ],
   "source": [
    "⎕RL ← 73\n",
    "salaries ← ?100⍴5000\n",
    "10⍴salaries"
   ]
  },
  {
   "cell_type": "code",
   "execution_count": 56,
   "metadata": {},
   "outputs": [
    {
     "data": {
      "text/html": [
       "<span style=\"white-space:pre; font-family: monospace\">1 2 2 2 3 3 1 1 1 1\n",
       "</span>"
      ]
     },
     "execution_count": 56,
     "metadata": {},
     "output_type": "execute_result"
    }
   ],
   "source": [
    "⎕RL ← 73\n",
    "categories ← ?100⍴3\n",
    "10⍴categories"
   ]
  },
  {
   "cell_type": "markdown",
   "metadata": {},
   "source": [
    "We can see the salaries of the first three employees are, respectively, 2121, 4778 and 4914 (of some currency) and their respective categories are 1, 2 and 2.\n",
    "\n",
    "With what we learned in [the section about \"Reduction of Binary Data\"](#Reduction-of-Binary-Data) we can also find out how many employees belong in the third category:"
   ]
  },
  {
   "cell_type": "code",
   "execution_count": 57,
   "metadata": {},
   "outputs": [
    {
     "data": {
      "text/html": [
       "<span style=\"white-space:pre; font-family: monospace\">32\n",
       "</span>"
      ]
     },
     "execution_count": 57,
     "metadata": {},
     "output_type": "execute_result"
    }
   ],
   "source": [
    "+/ categories = 3"
   ]
  },
  {
   "cell_type": "markdown",
   "metadata": {},
   "source": [
    "Now the employees ask for an increase in their salaries. Each category of employee requests a different percentage increase, as shown in the following table:\n",
    "\n",
    "| Category | Upgrade |\n",
    "| :-: | :-: |\n",
    "| 1 | 8% |\n",
    "| 2 | 5% |\n",
    "| 3 | 2% |\n",
    "\n",
    "How much is that going to cost the company?\n",
    "\n",
    "Let us just create a variable containing the three rates shown above:"
   ]
  },
  {
   "cell_type": "code",
   "execution_count": 58,
   "metadata": {},
   "outputs": [
    {
     "data": {
      "text/html": [
       "<span style=\"white-space:pre; font-family: monospace\">0.08 0.05 0.02\n",
       "</span>"
      ]
     },
     "execution_count": 58,
     "metadata": {},
     "output_type": "execute_result"
    }
   ],
   "source": [
    "⊢rates ← 8 5 2 ÷ 100"
   ]
  },
  {
   "cell_type": "markdown",
   "metadata": {},
   "source": [
    "The first employee is in category 1, so the rate that applies to this person is"
   ]
  },
  {
   "cell_type": "code",
   "execution_count": 59,
   "metadata": {},
   "outputs": [
    {
     "data": {
      "text/html": [
       "<span style=\"white-space:pre; font-family: monospace\">0.08\n",
       "</span>"
      ]
     },
     "execution_count": 59,
     "metadata": {},
     "output_type": "execute_result"
    }
   ],
   "source": [
    "rates[1]"
   ]
  },
  {
   "cell_type": "markdown",
   "metadata": {},
   "source": [
    "More generally, the rates applied to all of our employees can easily be obtained with `rates[categories]`:"
   ]
  },
  {
   "cell_type": "code",
   "execution_count": 60,
   "metadata": {},
   "outputs": [
    {
     "data": {
      "text/html": [
       "<span style=\"white-space:pre; font-family: monospace\">0.08 0.05 0.05 0.05 0.02 0.02 0.08 0.08 0.08 0.08\n",
       "</span>"
      ]
     },
     "execution_count": 60,
     "metadata": {},
     "output_type": "execute_result"
    }
   ],
   "source": [
    "10⍴rates[categories]"
   ]
  },
  {
   "cell_type": "markdown",
   "metadata": {},
   "source": [
    "Having the rates, we only have to multiply them by the salaries to obtain the individual increases:"
   ]
  },
  {
   "cell_type": "code",
   "execution_count": 61,
   "metadata": {},
   "outputs": [
    {
     "data": {
      "text/html": [
       "<span style=\"white-space:pre; font-family: monospace\">169.68 238.9 245.7 156.95 91.22 4.42 100.16 122.4 358 26.56\n",
       "</span>"
      ]
     },
     "execution_count": 61,
     "metadata": {},
     "output_type": "execute_result"
    }
   ],
   "source": [
    "10⍴ salaries × rates[categories]"
   ]
  },
  {
   "cell_type": "markdown",
   "metadata": {},
   "source": [
    "Finally, by adding them all together, we discover how much it will cost the company:"
   ]
  },
  {
   "cell_type": "code",
   "execution_count": 62,
   "metadata": {},
   "outputs": [
    {
     "data": {
      "text/html": [
       "<span style=\"white-space:pre; font-family: monospace\">12070.6\n",
       "</span>"
      ]
     },
     "execution_count": 62,
     "metadata": {},
     "output_type": "execute_result"
    }
   ],
   "source": [
    "+/ salaries × rates[categories]"
   ]
  },
  {
   "cell_type": "markdown",
   "metadata": {},
   "source": [
    "Note that:\n",
    "\n",
    " - the expression remains valid regardless of the number of employees or categories;\n",
    " - the result has been obtained without writing a program (no loops, no tests);\n",
    " - this expression can be phrased in the simplest possible English, namely:\n",
    " \n",
    " > *Sum the salaries multiplied by rates according to categories*\n",
    " \n",
    "This illustrates how the implementation of a solution in APL can be very close to the way that the solution would be expressed in everyday language. It also shows the advantage of not having to deal with trivial and \"irrelevant\" matters such as looping, memory allocation, declarations, etc. before a working solution can be developed."
   ]
  },
  {
   "cell_type": "markdown",
   "metadata": {},
   "source": [
    "### Application 2\n",
    "\n",
    "Imagine now that we want to calculate the average of a set of values, for example the values contained in the variable `contents`.\n",
    "\n",
    "To do that, we must:\n",
    "\n",
    " - add all the values:"
   ]
  },
  {
   "cell_type": "code",
   "execution_count": 63,
   "metadata": {},
   "outputs": [
    {
     "data": {
      "text/html": [
       "<span style=\"white-space:pre; font-family: monospace\">672\n",
       "</span>"
      ]
     },
     "execution_count": 63,
     "metadata": {},
     "output_type": "execute_result"
    }
   ],
   "source": [
    "+/ contents"
   ]
  },
  {
   "cell_type": "markdown",
   "metadata": {},
   "source": [
    " - count how many values we have:"
   ]
  },
  {
   "cell_type": "code",
   "execution_count": 64,
   "metadata": {},
   "outputs": [
    {
     "data": {
      "text/html": [
       "<span style=\"white-space:pre; font-family: monospace\">12\n",
       "</span>"
      ]
     },
     "execution_count": 64,
     "metadata": {},
     "output_type": "execute_result"
    }
   ],
   "source": [
    "≢contents"
   ]
  },
  {
   "cell_type": "markdown",
   "metadata": {},
   "source": [
    " - divide one by the other:"
   ]
  },
  {
   "cell_type": "code",
   "execution_count": 65,
   "metadata": {},
   "outputs": [
    {
     "data": {
      "text/html": [
       "<span style=\"white-space:pre; font-family: monospace\">56\n",
       "</span>"
      ]
     },
     "execution_count": 65,
     "metadata": {},
     "output_type": "execute_result"
    }
   ],
   "source": [
    "(+/contents) ÷ (≢contents)"
   ]
  },
  {
   "cell_type": "markdown",
   "metadata": {},
   "source": [
    "The result is 56.\n",
    "\n",
    "Again, because of APL's simple rule for the order of evaluation, the rightmost set of parentheses could be omitted."
   ]
  },
  {
   "cell_type": "markdown",
   "metadata": {},
   "source": [
    "## Axis Specification\n",
    "\n",
    "### Totals in an Array\n",
    "\n",
    "#### Processing Arrays\n",
    "\n",
    "We have seen the result of applying reduction to vectors, but what about matrices and higher rank arrays?\n",
    "\n",
    "As an example, let us recall the array `prod`. Its three dimensions represent respectively:\n",
    "\n",
    "  1. &emsp; 5 years;\n",
    "  2. &emsp; 2 assembly lines;\n",
    "  3. &emsp; 12 months."
   ]
  },
  {
   "cell_type": "code",
   "execution_count": 66,
   "metadata": {},
   "outputs": [
    {
     "data": {
      "text/html": [
       "<span style=\"white-space:pre; font-family: monospace\"> 9 16 42 50  2  3 11 45 17 37 29 36\n",
       "34 19 32 12 37 15 46 24 49 28 36  9\n",
       "                                   \n",
       "29  5 45 23 27  4 23 16 39 22 22  2\n",
       "46 20 47 17 18 25 13 38 42 38 45 28\n",
       "                                   \n",
       "37 19  5 10 30 49 16 18 46 47 47  3\n",
       "39 23 41 20  6 40 21 22 40 49 20  1\n",
       "                                   \n",
       "13 36 12 40 12 15 24 20 21 12 19 25\n",
       " 8 48 22 37 33  1 39 30 50 50  8 35\n",
       "                                   \n",
       "38 31 24 40 23  7 20 34 35  6 19 27\n",
       "41  1 14 50 17 42  6 35 12 48 30 29\n",
       "</span>"
      ]
     },
     "execution_count": 66,
     "metadata": {},
     "output_type": "execute_result"
    }
   ],
   "source": [
    "⎕RL ← 73\n",
    "⊢prod ← ?5 2 12⍴50"
   ]
  },
  {
   "cell_type": "markdown",
   "metadata": {},
   "source": [
    "We can calculate totals along any of these 3 dimensions: years, lines and months.\n",
    "\n",
    "We specify the dimension (or ***Axis***) between brackets after the *Reduce* symbol:\n",
    "\n",
    "```APL\n",
    "+/[axis] prod\n",
    "```\n",
    "\n",
    "For example, suppose we want to calculate the total monthly production values over the 5 years. Years are represented by the 1st dimension of `prod`, so we write:"
   ]
  },
  {
   "cell_type": "code",
   "execution_count": 67,
   "metadata": {},
   "outputs": [
    {
     "data": {
      "text/html": [
       "<span style=\"white-space:pre; font-family: monospace\">126 107 128 163  94  78  94 133 158 124 136  93\n",
       "168 111 156 136 111 123 125 149 193 213 139 102\n",
       "</span>"
      ]
     },
     "execution_count": 67,
     "metadata": {},
     "output_type": "execute_result"
    }
   ],
   "source": [
    "+/[1] prod"
   ]
  },
  {
   "cell_type": "markdown",
   "metadata": {},
   "source": [
    "We obtain a 2 by 12 matrix, giving the production of the 2 assembly lines, month by month. If we were to divide this matrix by 5, we would get the average production for each month, per assembly line.\n",
    "\n",
    "Now, let us add up the production numbers of the two assembly lines. Lines are represented by the 2nd dimension of `prod`, so we write:"
   ]
  },
  {
   "cell_type": "code",
   "execution_count": 68,
   "metadata": {},
   "outputs": [
    {
     "data": {
      "text/html": [
       "<span style=\"white-space:pre; font-family: monospace\">43 35 74 62 39 18 57 69 66 65 65 45\n",
       "75 25 92 40 45 29 36 54 81 60 67 30\n",
       "76 42 46 30 36 89 37 40 86 96 67  4\n",
       "21 84 34 77 45 16 63 50 71 62 27 60\n",
       "79 32 38 90 40 49 26 69 47 54 49 56\n",
       "</span>"
      ]
     },
     "execution_count": 68,
     "metadata": {},
     "output_type": "execute_result"
    }
   ],
   "source": [
    "+/[2] prod"
   ]
  },
  {
   "cell_type": "markdown",
   "metadata": {},
   "source": [
    "We obtain a 5 by 12 matrix, with the total production of both assembly lines, month by month, in each of the 5 years.\n",
    "\n",
    "And finally, let us calculate the annual production of each assembly line. Months are represented by the 3rd dimension of `prod`, so we write:"
   ]
  },
  {
   "cell_type": "code",
   "execution_count": 69,
   "metadata": {},
   "outputs": [
    {
     "data": {
      "text/html": [
       "<span style=\"white-space:pre; font-family: monospace\">297 341\n",
       "257 377\n",
       "327 322\n",
       "249 361\n",
       "304 325\n",
       "</span>"
      ]
     },
     "execution_count": 69,
     "metadata": {},
     "output_type": "execute_result"
    }
   ],
   "source": [
    "+/[3] prod"
   ]
  },
  {
   "cell_type": "markdown",
   "metadata": {},
   "source": [
    "The result is a 5 by 2 matrix, in which the columns contain the annual production of the two assembly lines in each of the five years."
   ]
  },
  {
   "cell_type": "markdown",
   "metadata": {},
   "source": [
    "#### Axis Is Like an Operator\n",
    "\n",
    "The dimension specified within brackets is the axis along which the function is applied.\n",
    "\n",
    "This produces a derived function, and for this reason, the pair of *Axis* brackets is often called the ***Axis Operator***.\n",
    "\n",
    "The syntax for *Axis* does not quite follow the general syntax for operators, but it shares all other properties with genuine operators. *Axis* takes a function as its left operand (the derived function `+/` in the last example above), the dimension specification as its \"right operand\" (3 in the example), and produces a derived function, which is applied to `prod` to calculate the annual sums.\n",
    "\n",
    "Viewed as an operator *Axis* is therefore dyadic. It is, however, important to emphasise that its \"right\" operand is not `prod`, it is the expression within the brackets. This is the first example of an operator that takes an array as an operand. We will find some more as we explore operators later on."
   ]
  },
  {
   "cell_type": "markdown",
   "metadata": {},
   "source": [
    "#### Processing Arrays\n",
    "\n",
    "We shall learn more about *Axis* in [the \"Operators\" chapter](./Operators.ipynb); let us first explore another simple use of this operator.\n",
    "\n",
    "Suppose that we would like to multiply each of the rows (or columns) of a matrix by different values; we can use *Axis* to specify whether we multiply row-wise or column-wise. First, here is a matrix:"
   ]
  },
  {
   "cell_type": "code",
   "execution_count": 70,
   "metadata": {},
   "outputs": [
    {
     "data": {
      "text/html": [
       "<span style=\"white-space:pre; font-family: monospace\">9 2 2 3 1\n",
       "5 4 2 3 3\n",
       "5 8 4 1 4\n",
       "</span>"
      ]
     },
     "execution_count": 70,
     "metadata": {},
     "output_type": "execute_result"
    }
   ],
   "source": [
    "⎕RL ← 73\n",
    "⊢tam ← ?3 5⍴9"
   ]
  },
  {
   "cell_type": "markdown",
   "metadata": {},
   "source": [
    "Let us multiply row-wise:"
   ]
  },
  {
   "cell_type": "code",
   "execution_count": 71,
   "metadata": {},
   "outputs": [
    {
     "data": {
      "text/html": [
       "<span style=\"white-space:pre; font-family: monospace\">45 10 10 15  5\n",
       "10  8  4  6  6\n",
       "50 80 40 10 40\n",
       "</span>"
      ]
     },
     "execution_count": 71,
     "metadata": {},
     "output_type": "execute_result"
    }
   ],
   "source": [
    "tam×[1]5 2 10"
   ]
  },
  {
   "cell_type": "markdown",
   "metadata": {},
   "source": [
    "And now column-wise:"
   ]
  },
  {
   "cell_type": "code",
   "execution_count": 72,
   "metadata": {},
   "outputs": [
    {
     "data": {
      "text/html": [
       "<span style=\"white-space:pre; font-family: monospace\">18 10 0 6 1\n",
       "10 20 0 6 3\n",
       "10 40 0 2 4\n",
       "</span>"
      ]
     },
     "execution_count": 72,
     "metadata": {},
     "output_type": "execute_result"
    }
   ],
   "source": [
    "tam×[2]2 5 0 2 1"
   ]
  },
  {
   "cell_type": "markdown",
   "metadata": {},
   "source": [
    "### The Shape of the Result\n",
    "\n",
    "The dimensions of `prod` are"
   ]
  },
  {
   "cell_type": "code",
   "execution_count": 75,
   "metadata": {},
   "outputs": [
    {
     "data": {
      "text/html": [
       "<span style=\"white-space:pre; font-family: monospace\">5 2 12\n",
       "</span>"
      ]
     },
     "execution_count": 75,
     "metadata": {},
     "output_type": "execute_result"
    }
   ],
   "source": [
    "⍴prod"
   ]
  },
  {
   "cell_type": "markdown",
   "metadata": {},
   "source": [
    "and we can see that the dimensions of `+/[1]prod`, `+/[2]prod` and `+/[3]prod` depend on this shape. In fact, when the axis is 1, the shape of the result is the original shape without the 1st item:"
   ]
  },
  {
   "cell_type": "code",
   "execution_count": 76,
   "metadata": {},
   "outputs": [
    {
     "data": {
      "text/html": [
       "<span style=\"white-space:pre; font-family: monospace\">2 12\n",
       "</span>"
      ]
     },
     "execution_count": 76,
     "metadata": {},
     "output_type": "execute_result"
    }
   ],
   "source": [
    "⍴+/[1]prod"
   ]
  },
  {
   "cell_type": "markdown",
   "metadata": {},
   "source": [
    "When the axis is 2, the shape of the result is the original shape without the 2nd item:"
   ]
  },
  {
   "cell_type": "code",
   "execution_count": 77,
   "metadata": {},
   "outputs": [
    {
     "data": {
      "text/html": [
       "<span style=\"white-space:pre; font-family: monospace\">5 12\n",
       "</span>"
      ]
     },
     "execution_count": 77,
     "metadata": {},
     "output_type": "execute_result"
    }
   ],
   "source": [
    "⍴+/[2]prod"
   ]
  },
  {
   "cell_type": "markdown",
   "metadata": {},
   "source": [
    "And when the axis is 3, the shape of the result is the original shape without the 3rd item:"
   ]
  },
  {
   "cell_type": "code",
   "execution_count": 78,
   "metadata": {},
   "outputs": [
    {
     "data": {
      "text/html": [
       "<span style=\"white-space:pre; font-family: monospace\">5 2\n",
       "</span>"
      ]
     },
     "execution_count": 78,
     "metadata": {},
     "output_type": "execute_result"
    }
   ],
   "source": [
    "⍴+/[3]prod"
   ]
  },
  {
   "cell_type": "markdown",
   "metadata": {},
   "source": [
    "You can see that *Reduction* of a 3-D array gives a 2-D array, in which the summed dimension has \"disappeared\". This is the origin of the term \"*Reduce*\"; it *reduces* the *rank* of the array.\n",
    "\n",
    "This rule will help you predict the dimensions of the result of a reduction.\n",
    "\n",
    "<!-- begin rule style=tip -->\n",
    "***Rule***:\n",
    "\n",
    " > When ***Reduce*** is applied along the Nth dimension of an array, the shape of the result is the same shape of the array, but without its Nth item.\n",
    " >\n",
    " > The ***Rank*** of the result is 1 less than the rank of the original array.\n",
    "<!-- end -->\n",
    "\n",
    "Whenever you want to calculate the sum along a particular dimension of an array, think of the dimensions in terms of concrete things: years, lines, months, etc. This should help you."
   ]
  },
  {
   "cell_type": "markdown",
   "metadata": {},
   "source": [
    "### Special Notations\n",
    "\n",
    "By default, if no axis is specified, reduction is applied along the **last** dimension of the array.\n",
    "\n",
    "This means `+/prod` and `+/[3]prod` are the same,"
   ]
  },
  {
   "cell_type": "code",
   "execution_count": 79,
   "metadata": {},
   "outputs": [
    {
     "data": {
      "text/html": [
       "<span style=\"white-space:pre; font-family: monospace\">1\n",
       "</span>"
      ]
     },
     "execution_count": 79,
     "metadata": {},
     "output_type": "execute_result"
    }
   ],
   "source": [
    "(+/prod)≡(+/[3]prod)"
   ]
  },
  {
   "cell_type": "markdown",
   "metadata": {},
   "source": [
    "much like `+/forecast` and `+/[2]forecast` are the same:"
   ]
  },
  {
   "cell_type": "code",
   "execution_count": 81,
   "metadata": {},
   "outputs": [
    {
     "data": {
      "text/html": [
       "<span style=\"white-space:pre; font-family: monospace\">1\n",
       "</span>"
      ]
     },
     "execution_count": 81,
     "metadata": {},
     "output_type": "execute_result"
    }
   ],
   "source": [
    "(+/forecast)≡(+/[2]forecast)"
   ]
  },
  {
   "cell_type": "markdown",
   "metadata": {},
   "source": [
    "But it is also common to work along the first dimension of an array. For this reason, APL includes a special symbol for reduction along the first dimension: `⌿` (you can type it with <kbd>APL</kbd>+<kbd>/</kbd>).\n",
    "\n",
    "This means `+⌿prod` and `+/[1]prod` are the same,"
   ]
  },
  {
   "cell_type": "code",
   "execution_count": 82,
   "metadata": {},
   "outputs": [
    {
     "data": {
      "text/html": [
       "<span style=\"white-space:pre; font-family: monospace\">1\n",
       "</span>"
      ]
     },
     "execution_count": 82,
     "metadata": {},
     "output_type": "execute_result"
    }
   ],
   "source": [
    "(+⌿prod)≡(+/[1]prod)"
   ]
  },
  {
   "cell_type": "markdown",
   "metadata": {},
   "source": [
    "much like `+⌿forecast` and `+/[1]forecast` are the same:"
   ]
  },
  {
   "cell_type": "code",
   "execution_count": 83,
   "metadata": {},
   "outputs": [
    {
     "data": {
      "text/html": [
       "<span style=\"white-space:pre; font-family: monospace\">1\n",
       "</span>"
      ]
     },
     "execution_count": 83,
     "metadata": {},
     "output_type": "execute_result"
    }
   ],
   "source": [
    "(+⌿forecast)≡(+/[1]forecast)"
   ]
  },
  {
   "cell_type": "markdown",
   "metadata": {},
   "source": [
    "<!-- begin note -->\n",
    "***Note***:\n",
    "\n",
    " > If one specifies an axis after the symbol `/` or `⌿`, the function is applied along the specified *Axis*, regardless of the symbol that is actually used.\n",
    "<!-- end -->\n",
    "\n",
    "We demonstrate this note with two examples:"
   ]
  },
  {
   "cell_type": "code",
   "execution_count": 84,
   "metadata": {},
   "outputs": [
    {
     "data": {
      "text/html": [
       "<span style=\"white-space:pre; font-family: monospace\">1\n",
       "</span>"
      ]
     },
     "execution_count": 84,
     "metadata": {},
     "output_type": "execute_result"
    }
   ],
   "source": [
    "(+⌿[3]prod)≡(+/[3]prod)"
   ]
  },
  {
   "cell_type": "code",
   "execution_count": 85,
   "metadata": {
    "scrolled": true
   },
   "outputs": [
    {
     "data": {
      "text/html": [
       "<span style=\"white-space:pre; font-family: monospace\">1\n",
       "</span>"
      ]
     },
     "execution_count": 85,
     "metadata": {},
     "output_type": "execute_result"
    }
   ],
   "source": [
    "(+⌿[1]forecast)≡(+/[1]forecast)"
   ]
  },
  {
   "cell_type": "markdown",
   "metadata": {},
   "source": [
    "## Our First Program\n",
    "\n",
    "The expression we wrote in [the \"Application 2\" subsection](#Application-2) to calculate the average of a set of values is one that we may want to use time and time again. So let us store it as a program, or, to use the proper APL terminology, as a ***User Defined Function***.\n",
    "\n",
    "There are many different ways to define functions, and these will be covered in detail in [the \"User Defined Functions\" chapter](./User-Defined-Functions.ipynb). For now we shall use the simplest, which is perfectly suitable for straightforward calculation functions like this one. Let's type:"
   ]
  },
  {
   "cell_type": "code",
   "execution_count": 86,
   "metadata": {},
   "outputs": [],
   "source": [
    "Average ← {(+/⍵)÷(≢⍵)}"
   ]
  },
  {
   "cell_type": "markdown",
   "metadata": {},
   "source": [
    " - `Average` is the name of the function. It is followed by the definition, delimited by a pair of curly braces `{` and `}`;\n",
    " - `⍵` is a generic symbol that represents the array that will be passed as the right argument of the function;\n",
    " - `⍺` is a generic symbol that represents the array that will be passed as the left argument of the function, if any.\n",
    " \n",
    "The symbols `⍵` and `⍺` are obtained using <kbd>APL</kbd>+<kbd>w</kbd> and <kbd>APL</kbd>+<kbd>a</kbd>, respectively.\n",
    "\n",
    "For more complex multi-line functions it is obviously more appropriate to use a text editor. However, this is beyond the scope of this chapter.\n",
    "\n",
    "Once defined, this function may be invoked directly, just as if it were a built-in (*primitive*) function:"
   ]
  },
  {
   "cell_type": "code",
   "execution_count": 87,
   "metadata": {},
   "outputs": [
    {
     "data": {
      "text/html": [
       "<span style=\"white-space:pre; font-family: monospace\">2415.69\n",
       "</span>"
      ]
     },
     "execution_count": 87,
     "metadata": {},
     "output_type": "execute_result"
    }
   ],
   "source": [
    "Average salaries"
   ]
  },
  {
   "cell_type": "code",
   "execution_count": 88,
   "metadata": {},
   "outputs": [
    {
     "data": {
      "text/html": [
       "<span style=\"white-space:pre; font-family: monospace\">41.25\n",
       "</span>"
      ]
     },
     "execution_count": 88,
     "metadata": {},
     "output_type": "execute_result"
    }
   ],
   "source": [
    "Average 12 74 56 23"
   ]
  },
  {
   "cell_type": "markdown",
   "metadata": {},
   "source": [
    "The word `Average` can now be used in any APL expression. We have enriched the vocabulary which can be used to process data in this workspace (provided that we save it).\n",
    "\n",
    "Be patient: we shall see many other possibilities in [the \"User Defined Functions\" chapter](./User-Defined-Functions.ipynb)."
   ]
  },
  {
   "cell_type": "markdown",
   "metadata": {},
   "source": [
    "## Concatenate\n",
    "\n",
    "***Concatenate*** is a dyadic function which joins two arrays together. It is represented by comma (`,`). The function name is normally abbreviated to ***Catenate***, and we will use both terms."
   ]
  },
  {
   "cell_type": "markdown",
   "metadata": {},
   "source": [
    "### Concatenating Vectors\n",
    "\n",
    "*Catenate* is easy to understand:"
   ]
  },
  {
   "cell_type": "code",
   "execution_count": 89,
   "metadata": {},
   "outputs": [
    {
     "data": {
      "text/html": [
       "<span style=\"white-space:pre; font-family: monospace\">24 15 67 89 11 33 75\n",
       "</span>"
      ]
     },
     "execution_count": 89,
     "metadata": {},
     "output_type": "execute_result"
    }
   ],
   "source": [
    "X ← 24 15 67 89\n",
    "Y ← 11 33 75\n",
    "X,Y"
   ]
  },
  {
   "cell_type": "markdown",
   "metadata": {},
   "source": [
    "It is like joining two sentences together, so it is easy to remember which symbol to use. You can see that the length of the result (`≢(X,Y)`) is equal to the sum of the lengths of the arguments (`(≢X) + (≢Y)`):"
   ]
  },
  {
   "cell_type": "code",
   "execution_count": 90,
   "metadata": {},
   "outputs": [
    {
     "data": {
      "text/html": [
       "<span style=\"white-space:pre; font-family: monospace\">1\n",
       "</span>"
      ]
     },
     "execution_count": 90,
     "metadata": {},
     "output_type": "execute_result"
    }
   ],
   "source": [
    "((≢X)+(≢Y))=≢X,Y"
   ]
  },
  {
   "cell_type": "markdown",
   "metadata": {},
   "source": [
    "Character strings are processed in the same way:"
   ]
  },
  {
   "cell_type": "code",
   "execution_count": 94,
   "metadata": {},
   "outputs": [
    {
     "data": {
      "text/html": [
       "<span style=\"white-space:pre; font-family: monospace\">Tell meMore\n",
       "</span>"
      ]
     },
     "execution_count": 94,
     "metadata": {},
     "output_type": "execute_result"
    }
   ],
   "source": [
    "C ← 'Tell me'\n",
    "D ← 'More'\n",
    "C,D"
   ]
  },
  {
   "cell_type": "markdown",
   "metadata": {},
   "source": [
    "Note that there is no space inserted between the contents of the two vectors, just like there was no number inserted between `X` and `Y` when we concatenated them above. When we concatenate a vector of 7 characters (like `C`) with a vector of 4 characters (like `D`), the result must have 11 characters.\n",
    "\n",
    "When you concatenate an empty vector to another vector, the result is the same as the original. Let us define an empty numeric vector `v`:"
   ]
  },
  {
   "cell_type": "code",
   "execution_count": 91,
   "metadata": {},
   "outputs": [
    {
     "data": {
      "text/html": [
       "<span style=\"white-space:pre; font-family: monospace\">\n",
       "</span>"
      ]
     },
     "execution_count": 91,
     "metadata": {},
     "output_type": "execute_result"
    }
   ],
   "source": [
    "⊢v ← 0⍴0"
   ]
  },
  {
   "cell_type": "markdown",
   "metadata": {},
   "source": [
    "We could use `⍬` instead.\n",
    "\n",
    "Notice how the numeric vector `X` remains unchanged:"
   ]
  },
  {
   "cell_type": "code",
   "execution_count": 92,
   "metadata": {},
   "outputs": [
    {
     "data": {
      "text/html": [
       "<span style=\"white-space:pre; font-family: monospace\">24 15 67 89\n",
       "</span>"
      ]
     },
     "execution_count": 92,
     "metadata": {},
     "output_type": "execute_result"
    }
   ],
   "source": [
    "X,v"
   ]
  },
  {
   "cell_type": "markdown",
   "metadata": {},
   "source": [
    "Similarly, concatenating character strings with `''` does nothing:"
   ]
  },
  {
   "cell_type": "code",
   "execution_count": 95,
   "metadata": {},
   "outputs": [
    {
     "data": {
      "text/html": [
       "<span style=\"white-space:pre; font-family: monospace\">Tell meMore\n",
       "</span>"
      ]
     },
     "execution_count": 95,
     "metadata": {},
     "output_type": "execute_result"
    }
   ],
   "source": [
    "C,'',D"
   ]
  },
  {
   "cell_type": "markdown",
   "metadata": {},
   "source": [
    "### Concatenating Other Arrays\n",
    "\n",
    "It is possible to concatenate two arrays if their shapes are compatible. The axis along which the concatenation is to be performed must be specified, if it is different from the default.\n",
    "\n",
    "Let us use three matrices `A`, `B` and `C`:"
   ]
  },
  {
   "cell_type": "code",
   "execution_count": 96,
   "metadata": {},
   "outputs": [
    {
     "data": {
      "text/html": [
       "<span style=\"white-space:pre; font-family: monospace\">AAAA\n",
       "AAAA\n",
       "AAAA\n",
       "</span>"
      ]
     },
     "execution_count": 96,
     "metadata": {},
     "output_type": "execute_result"
    }
   ],
   "source": [
    "⊢A ← 3 4 ⍴ 'A'"
   ]
  },
  {
   "cell_type": "code",
   "execution_count": 97,
   "metadata": {},
   "outputs": [
    {
     "data": {
      "text/html": [
       "<span style=\"white-space:pre; font-family: monospace\">BBBB\n",
       "BBBB\n",
       "</span>"
      ]
     },
     "execution_count": 97,
     "metadata": {},
     "output_type": "execute_result"
    }
   ],
   "source": [
    "⊢B ← 2 4 ⍴ 'B'"
   ]
  },
  {
   "cell_type": "code",
   "execution_count": 98,
   "metadata": {},
   "outputs": [
    {
     "data": {
      "text/html": [
       "<span style=\"white-space:pre; font-family: monospace\">CCC\n",
       "CCC\n",
       "CCC\n",
       "</span>"
      ]
     },
     "execution_count": 98,
     "metadata": {},
     "output_type": "execute_result"
    }
   ],
   "source": [
    "⊢C ← 3 3 ⍴ 'C'"
   ]
  },
  {
   "cell_type": "markdown",
   "metadata": {},
   "source": [
    "The possible concatenations are:\n",
    "\n",
    " - the vertical concatenation of `A` and `B`:\n",
    "\n",
    "![Matrices `A` and `B` concatenated together vertically.](res/Vertical_Concatenation_AB.png)\n",
    "\n",
    " - and the horizontal concatenation of `A` and `C`:\n",
    " \n",
    "![Matrices `A` and `C` concatenated together horizontally.](res/Horizontal_Concatenation_AC.png)\n",
    "\n",
    "It is not possible to concatenate `B` and `C` because none of their dimensions are compatible.\n",
    "\n",
    "To concatenate vertically, we want the two matrices to be stacked on top of each other, creating a matrix with more *rows*, i.e. we want to create a matrix with a larger 1st dimension:"
   ]
  },
  {
   "cell_type": "code",
   "execution_count": 99,
   "metadata": {},
   "outputs": [
    {
     "data": {
      "text/html": [
       "<span style=\"white-space:pre; font-family: monospace\">AAAA\n",
       "AAAA\n",
       "AAAA\n",
       "BBBB\n",
       "BBBB\n",
       "</span>"
      ]
     },
     "execution_count": 99,
     "metadata": {},
     "output_type": "execute_result"
    }
   ],
   "source": [
    "A,[1]B"
   ]
  },
  {
   "cell_type": "markdown",
   "metadata": {},
   "source": [
    "The shape of the result is"
   ]
  },
  {
   "cell_type": "code",
   "execution_count": 100,
   "metadata": {},
   "outputs": [
    {
     "data": {
      "text/html": [
       "<span style=\"white-space:pre; font-family: monospace\">5 4\n",
       "</span>"
      ]
     },
     "execution_count": 100,
     "metadata": {},
     "output_type": "execute_result"
    }
   ],
   "source": [
    "⍴A,[1]B"
   ]
  },
  {
   "cell_type": "markdown",
   "metadata": {},
   "source": [
    "and writing"
   ]
  },
  {
   "cell_type": "code",
   "execution_count": 101,
   "metadata": {},
   "outputs": [
    {
     "data": {
      "text/html": [
       "<span style=\"white-space:pre; font-family: monospace\">BBBB\n",
       "BBBB\n",
       "AAAA\n",
       "AAAA\n",
       "AAAA\n",
       "</span>"
      ]
     },
     "execution_count": 101,
     "metadata": {},
     "output_type": "execute_result"
    }
   ],
   "source": [
    "B,[1]A"
   ]
  },
  {
   "cell_type": "markdown",
   "metadata": {},
   "source": [
    "puts `B` on top of `A` instead.\n",
    "\n",
    "Similarly, to stack matrices `A` and `C` horizontally we create a matrix where the 2nd dimension is larger:"
   ]
  },
  {
   "cell_type": "code",
   "execution_count": 102,
   "metadata": {},
   "outputs": [
    {
     "data": {
      "text/html": [
       "<span style=\"white-space:pre; font-family: monospace\">AAAACCC\n",
       "AAAACCC\n",
       "AAAACCC\n",
       "</span>"
      ]
     },
     "execution_count": 102,
     "metadata": {},
     "output_type": "execute_result"
    }
   ],
   "source": [
    "A,[2]C"
   ]
  },
  {
   "cell_type": "markdown",
   "metadata": {},
   "source": [
    "The shape of the result is"
   ]
  },
  {
   "cell_type": "code",
   "execution_count": 103,
   "metadata": {},
   "outputs": [
    {
     "data": {
      "text/html": [
       "<span style=\"white-space:pre; font-family: monospace\">3 7\n",
       "</span>"
      ]
     },
     "execution_count": 103,
     "metadata": {},
     "output_type": "execute_result"
    }
   ],
   "source": [
    "⍴A,[2]C"
   ]
  },
  {
   "cell_type": "markdown",
   "metadata": {},
   "source": [
    "and writing"
   ]
  },
  {
   "cell_type": "code",
   "execution_count": 104,
   "metadata": {},
   "outputs": [
    {
     "data": {
      "text/html": [
       "<span style=\"white-space:pre; font-family: monospace\">CCCAAAA\n",
       "CCCAAAA\n",
       "CCCAAAA\n",
       "</span>"
      ]
     },
     "execution_count": 104,
     "metadata": {},
     "output_type": "execute_result"
    }
   ],
   "source": [
    "C,[2]A"
   ]
  },
  {
   "cell_type": "markdown",
   "metadata": {},
   "source": [
    "puts `C` to the left of `A` instead.\n",
    "\n",
    "In the same way as for *Reduce*, the *Axis* operator indicates which dimension will change during the operation, as we can see by inspecting the shapes of `A`, `B`, `C` and the stacked matrices:"
   ]
  },
  {
   "cell_type": "code",
   "execution_count": 105,
   "metadata": {},
   "outputs": [
    {
     "data": {
      "text/html": [
       "<span style=\"white-space:pre; font-family: monospace\">3 4\n",
       "</span>"
      ]
     },
     "execution_count": 105,
     "metadata": {},
     "output_type": "execute_result"
    }
   ],
   "source": [
    "⍴A"
   ]
  },
  {
   "cell_type": "code",
   "execution_count": 106,
   "metadata": {},
   "outputs": [
    {
     "data": {
      "text/html": [
       "<span style=\"white-space:pre; font-family: monospace\">2 4\n",
       "</span>"
      ]
     },
     "execution_count": 106,
     "metadata": {},
     "output_type": "execute_result"
    }
   ],
   "source": [
    "⍴B"
   ]
  },
  {
   "cell_type": "code",
   "execution_count": 107,
   "metadata": {},
   "outputs": [
    {
     "data": {
      "text/html": [
       "<span style=\"white-space:pre; font-family: monospace\">5 4\n",
       "</span>"
      ]
     },
     "execution_count": 107,
     "metadata": {},
     "output_type": "execute_result"
    }
   ],
   "source": [
    "⍴A,[1]B"
   ]
  },
  {
   "cell_type": "markdown",
   "metadata": {},
   "source": [
    "Using `,[1]`changes the 1st dimension.\n",
    "\n",
    "Using `,[2]` instead, we change the 2nd dimension:"
   ]
  },
  {
   "cell_type": "code",
   "execution_count": 108,
   "metadata": {},
   "outputs": [
    {
     "data": {
      "text/html": [
       "<span style=\"white-space:pre; font-family: monospace\">3 4\n",
       "</span>"
      ]
     },
     "execution_count": 108,
     "metadata": {},
     "output_type": "execute_result"
    }
   ],
   "source": [
    "⍴A"
   ]
  },
  {
   "cell_type": "code",
   "execution_count": 109,
   "metadata": {},
   "outputs": [
    {
     "data": {
      "text/html": [
       "<span style=\"white-space:pre; font-family: monospace\">3 3\n",
       "</span>"
      ]
     },
     "execution_count": 109,
     "metadata": {},
     "output_type": "execute_result"
    }
   ],
   "source": [
    "⍴C"
   ]
  },
  {
   "cell_type": "code",
   "execution_count": 110,
   "metadata": {},
   "outputs": [
    {
     "data": {
      "text/html": [
       "<span style=\"white-space:pre; font-family: monospace\">3 7\n",
       "</span>"
      ]
     },
     "execution_count": 110,
     "metadata": {},
     "output_type": "execute_result"
    }
   ],
   "source": [
    "⍴A,[2]C"
   ]
  },
  {
   "cell_type": "markdown",
   "metadata": {},
   "source": [
    "The following nested array shows the four possible different catenations side by side:"
   ]
  },
  {
   "cell_type": "code",
   "execution_count": 111,
   "metadata": {},
   "outputs": [
    {
     "data": {
      "text/html": [
       "<span style=\"white-space:pre; font-family: monospace\">┌────┬────┬───────┬───────┐\n",
       "│AAAA│BBBB│AAAACCC│CCCAAAA│\n",
       "│AAAA│BBBB│AAAACCC│CCCAAAA│\n",
       "│AAAA│AAAA│AAAACCC│CCCAAAA│\n",
       "│BBBB│AAAA│       │       │\n",
       "│BBBB│AAAA│       │       │\n",
       "└────┴────┴───────┴───────┘\n",
       "</span>"
      ]
     },
     "execution_count": 111,
     "metadata": {},
     "output_type": "execute_result"
    }
   ],
   "source": [
    "(A,[1]B) (B,[1]A) (A,[2]C) (C,[2]A)"
   ]
  },
  {
   "cell_type": "markdown",
   "metadata": {},
   "source": [
    "<!-- begin rule -->\n",
    "***Rule***:\n",
    "\n",
    " > It is possible to ***Concatenate*** two arrays `A` and `B` along their $i^\\text{th}$ dimension, provided that they have the same rank, and provided that all other dimensions have the same lengths.\n",
    " >\n",
    " > The operation is written like this: `A,[i]B`\n",
    " >\n",
    " > It is also possible to ***Concatenate*** an array `A` of rank $n$ to another array `B` of rank $n-1$. The concatenation **must** then be done along a dimension of `A` such that its other dimensions are strictly identical to those of `B`.\n",
    "<!-- end -->\n",
    "\n",
    "For example, it is possible to concatenate a vector to a matrix, provided that the vector has the same length as the corresponding dimension of the matrix:"
   ]
  },
  {
   "cell_type": "code",
   "execution_count": 112,
   "metadata": {},
   "outputs": [
    {
     "data": {
      "text/html": [
       "<span style=\"white-space:pre; font-family: monospace\">AAAA\n",
       "AAAA\n",
       "AAAA\n",
       "JUMP\n",
       "</span>"
      ]
     },
     "execution_count": 112,
     "metadata": {},
     "output_type": "execute_result"
    }
   ],
   "source": [
    "A,[1]'JUMP'"
   ]
  },
  {
   "cell_type": "code",
   "execution_count": 113,
   "metadata": {},
   "outputs": [
    {
     "data": {
      "text/html": [
       "<span style=\"white-space:pre; font-family: monospace\">AAAAT\n",
       "AAAAO\n",
       "AAAAP\n",
       "</span>"
      ]
     },
     "execution_count": 113,
     "metadata": {},
     "output_type": "execute_result"
    }
   ],
   "source": [
    "A,[2]'TOP'"
   ]
  },
  {
   "cell_type": "markdown",
   "metadata": {},
   "source": [
    "In the first example, `'JUMP'` has length 4 and the shape of `A` is `3 4`, so we can see `'JUMP'` as having shape `1 4` and so we **must** catenate along `[1]`. The shape of the result is"
   ]
  },
  {
   "cell_type": "code",
   "execution_count": 114,
   "metadata": {},
   "outputs": [
    {
     "data": {
      "text/html": [
       "<span style=\"white-space:pre; font-family: monospace\">4 4\n",
       "</span>"
      ]
     },
     "execution_count": 114,
     "metadata": {},
     "output_type": "execute_result"
    }
   ],
   "source": [
    "⍴A,[1]'JUMP'"
   ]
  },
  {
   "cell_type": "markdown",
   "metadata": {},
   "source": [
    "and we see it was the 1st dimension that changed.\n",
    "\n",
    "In the second example, `'TOP'` has length 3 and the shape of `A` is `3 4`, so we can see `'TOP'` as having shape `3 1` and so we **must** catenate along `[2]`. The shape of the result is"
   ]
  },
  {
   "cell_type": "code",
   "execution_count": 115,
   "metadata": {},
   "outputs": [
    {
     "data": {
      "text/html": [
       "<span style=\"white-space:pre; font-family: monospace\">3 5\n",
       "</span>"
      ]
     },
     "execution_count": 115,
     "metadata": {},
     "output_type": "execute_result"
    }
   ],
   "source": [
    "⍴A,[2]'TOP'"
   ]
  },
  {
   "cell_type": "markdown",
   "metadata": {},
   "source": [
    "and we see it was the 2nd dimension that changed.\n",
    "\n",
    "<!-- begin example -->\n",
    "***Example***:\n",
    "\n",
    " > We can add a row of totals to the bottom of a matrix `Y` with an expression like `Y,[1] (+/[1]Y)`:\n",
    "<!-- end -->"
   ]
  },
  {
   "cell_type": "code",
   "execution_count": 116,
   "metadata": {},
   "outputs": [
    {
     "data": {
      "text/html": [
       "<span style=\"white-space:pre; font-family: monospace\"> 90  160  420  500   20   30\n",
       "110  450  170  370  290  360\n",
       "340  190  320  120  510  370\n",
       "150  460  240  520  490  280\n",
       "690 1260 1150 1510 1310 1040\n",
       "</span>"
      ]
     },
     "execution_count": 116,
     "metadata": {},
     "output_type": "execute_result"
    }
   ],
   "source": [
    "forecast,[1] (+/[1]forecast)"
   ]
  },
  {
   "cell_type": "markdown",
   "metadata": {},
   "source": [
    "The parentheses are for ease of interpretation; they are not necessary.\n",
    "\n",
    "In a similar way, it is possible to concatenate a matrix to a 3-D array.\n",
    "\n",
    "<!-- begin example -->\n",
    "***Example***:\n",
    "\n",
    " > We would like to append to `prod` (a 3-D array) the production of a subcontractor, organised as an array of 5 years and 12 months.\n",
    "<!-- end -->"
   ]
  },
  {
   "cell_type": "code",
   "execution_count": 117,
   "metadata": {},
   "outputs": [
    {
     "data": {
      "text/html": [
       "<span style=\"white-space:pre; font-family: monospace\"> 9 16 10 18  2  3 11 13 17  5  4  2\n",
       "19 12 19  5 15 14 20 17  4  9  5 13\n",
       " 4 16  7  2 14 20 15 17 18 13  6 19\n",
       "10  6 20 13  5 19  5 10 17 16 19 20\n",
       "18 14 15 15  3  7  9 20  6  8  8 17\n",
       "</span>"
      ]
     },
     "execution_count": 117,
     "metadata": {},
     "output_type": "execute_result"
    }
   ],
   "source": [
    "⎕RL ← 73\n",
    "⊢subcon ← ?5 12⍴20"
   ]
  },
  {
   "cell_type": "markdown",
   "metadata": {},
   "source": [
    "The shape of `subcon` is"
   ]
  },
  {
   "cell_type": "code",
   "execution_count": 118,
   "metadata": {},
   "outputs": [
    {
     "data": {
      "text/html": [
       "<span style=\"white-space:pre; font-family: monospace\">5 12\n",
       "</span>"
      ]
     },
     "execution_count": 118,
     "metadata": {},
     "output_type": "execute_result"
    }
   ],
   "source": [
    "⍴subcon"
   ]
  },
  {
   "cell_type": "markdown",
   "metadata": {},
   "source": [
    "and the shape of `prod` is"
   ]
  },
  {
   "cell_type": "code",
   "execution_count": 119,
   "metadata": {},
   "outputs": [
    {
     "data": {
      "text/html": [
       "<span style=\"white-space:pre; font-family: monospace\">5 2 12\n",
       "</span>"
      ]
     },
     "execution_count": 119,
     "metadata": {},
     "output_type": "execute_result"
    }
   ],
   "source": [
    "⍴prod"
   ]
  },
  {
   "cell_type": "markdown",
   "metadata": {},
   "source": [
    "The two **must** be concatenated along the 2nd dimension of `prod` and the result will have the shape"
   ]
  },
  {
   "cell_type": "code",
   "execution_count": 120,
   "metadata": {},
   "outputs": [
    {
     "data": {
      "text/html": [
       "<span style=\"white-space:pre; font-family: monospace\">5 3 12\n",
       "</span>"
      ]
     },
     "execution_count": 120,
     "metadata": {},
     "output_type": "execute_result"
    }
   ],
   "source": [
    "⍴prod,[2]subcon"
   ]
  },
  {
   "cell_type": "markdown",
   "metadata": {},
   "source": [
    "You see, it is as if `subcon` had the length 1 along the concatenation dimension (the missing one), i.e. it as if `subcon` had shape `5 1 12`."
   ]
  },
  {
   "cell_type": "code",
   "execution_count": 121,
   "metadata": {},
   "outputs": [
    {
     "data": {
      "text/html": [
       "<span style=\"white-space:pre; font-family: monospace\"> 9 16 42 50  2  3 11 45 17 37 29 36\n",
       "34 19 32 12 37 15 46 24 49 28 36  9\n",
       " 9 16 10 18  2  3 11 13 17  5  4  2\n",
       "                                   \n",
       "29  5 45 23 27  4 23 16 39 22 22  2\n",
       "46 20 47 17 18 25 13 38 42 38 45 28\n",
       "19 12 19  5 15 14 20 17  4  9  5 13\n",
       "                                   \n",
       "37 19  5 10 30 49 16 18 46 47 47  3\n",
       "39 23 41 20  6 40 21 22 40 49 20  1\n",
       " 4 16  7  2 14 20 15 17 18 13  6 19\n",
       "                                   \n",
       "13 36 12 40 12 15 24 20 21 12 19 25\n",
       " 8 48 22 37 33  1 39 30 50 50  8 35\n",
       "10  6 20 13  5 19  5 10 17 16 19 20\n",
       "                                   \n",
       "38 31 24 40 23  7 20 34 35  6 19 27\n",
       "41  1 14 50 17 42  6 35 12 48 30 29\n",
       "18 14 15 15  3  7  9 20  6  8  8 17\n",
       "</span>"
      ]
     },
     "execution_count": 121,
     "metadata": {},
     "output_type": "execute_result"
    }
   ],
   "source": [
    "prod,[2]subcon"
   ]
  },
  {
   "cell_type": "markdown",
   "metadata": {},
   "source": [
    "### Concatenating Scalars\n",
    "\n",
    "When a scalar is concatenated to an array it is repeated as many times as necessary to match the length of the appropriate dimension of the array.\n",
    "\n",
    "Here are two examples, using the matrix `A` from before:"
   ]
  },
  {
   "cell_type": "code",
   "execution_count": 221,
   "metadata": {},
   "outputs": [
    {
     "data": {
      "text/html": [
       "<span style=\"white-space:pre; font-family: monospace\">AAAA\n",
       "AAAA\n",
       "AAAA\n",
       "----\n",
       "</span>"
      ]
     },
     "execution_count": 221,
     "metadata": {},
     "output_type": "execute_result"
    }
   ],
   "source": [
    "A,[1]'-'"
   ]
  },
  {
   "cell_type": "code",
   "execution_count": 222,
   "metadata": {},
   "outputs": [
    {
     "data": {
      "text/html": [
       "<span style=\"white-space:pre; font-family: monospace\">AAAA*\n",
       "AAAA*\n",
       "AAAA*\n",
       "</span>"
      ]
     },
     "execution_count": 222,
     "metadata": {},
     "output_type": "execute_result"
    }
   ],
   "source": [
    "A,[2]'*'"
   ]
  },
  {
   "cell_type": "markdown",
   "metadata": {},
   "source": [
    "This property is very useful, because it saves us working out how many items are needed to match the corresponding dimension of the array.\n",
    "\n",
    "We can also concatenate two scalars. The result is of course a 2-item vector:"
   ]
  },
  {
   "cell_type": "code",
   "execution_count": 223,
   "metadata": {},
   "outputs": [
    {
     "data": {
      "text/html": [
       "<span style=\"white-space:pre; font-family: monospace\">7 9\n",
       "</span>"
      ]
     },
     "execution_count": 223,
     "metadata": {},
     "output_type": "execute_result"
    }
   ],
   "source": [
    "7,9"
   ]
  },
  {
   "cell_type": "markdown",
   "metadata": {},
   "source": [
    "### Special Cases and Notations\n",
    "\n",
    "By default, if no axis is specified catenation works along the last dimension of the array(s).\n",
    "\n",
    "So"
   ]
  },
  {
   "cell_type": "code",
   "execution_count": 224,
   "metadata": {},
   "outputs": [
    {
     "data": {
      "text/html": [
       "<span style=\"white-space:pre; font-family: monospace\">AAAACCC\n",
       "AAAACCC\n",
       "AAAACCC\n",
       "</span>"
      ]
     },
     "execution_count": 224,
     "metadata": {},
     "output_type": "execute_result"
    }
   ],
   "source": [
    "A,C"
   ]
  },
  {
   "cell_type": "markdown",
   "metadata": {},
   "source": [
    "is equivalent to"
   ]
  },
  {
   "cell_type": "code",
   "execution_count": 225,
   "metadata": {},
   "outputs": [
    {
     "data": {
      "text/html": [
       "<span style=\"white-space:pre; font-family: monospace\">AAAACCC\n",
       "AAAACCC\n",
       "AAAACCC\n",
       "</span>"
      ]
     },
     "execution_count": 225,
     "metadata": {},
     "output_type": "execute_result"
    }
   ],
   "source": [
    "A,[2]C"
   ]
  },
  {
   "cell_type": "code",
   "execution_count": 226,
   "metadata": {},
   "outputs": [
    {
     "data": {
      "text/html": [
       "<span style=\"white-space:pre; font-family: monospace\">1\n",
       "</span>"
      ]
     },
     "execution_count": 226,
     "metadata": {},
     "output_type": "execute_result"
    }
   ],
   "source": [
    "(A,C)≡(A,[2]C)"
   ]
  },
  {
   "cell_type": "markdown",
   "metadata": {},
   "source": [
    "APL also includes a special symbol that means \"Concatenate along the **first** dimension\"; this symbol is a comma topped by a minus sign: `⍪`.\n",
    "\n",
    "It can be obtained by <kbd>APL</kbd>+<kbd>Shift</kbd>+<kbd>,</kbd>."
   ]
  },
  {
   "cell_type": "markdown",
   "metadata": {},
   "source": [
    "So"
   ]
  },
  {
   "cell_type": "code",
   "execution_count": 227,
   "metadata": {},
   "outputs": [
    {
     "data": {
      "text/html": [
       "<span style=\"white-space:pre; font-family: monospace\">AAAA\n",
       "AAAA\n",
       "AAAA\n",
       "BBBB\n",
       "BBBB\n",
       "</span>"
      ]
     },
     "execution_count": 227,
     "metadata": {},
     "output_type": "execute_result"
    }
   ],
   "source": [
    "A⍪B"
   ]
  },
  {
   "cell_type": "markdown",
   "metadata": {},
   "source": [
    "is equivalent to"
   ]
  },
  {
   "cell_type": "code",
   "execution_count": 228,
   "metadata": {},
   "outputs": [
    {
     "data": {
      "text/html": [
       "<span style=\"white-space:pre; font-family: monospace\">AAAA\n",
       "AAAA\n",
       "AAAA\n",
       "BBBB\n",
       "BBBB\n",
       "</span>"
      ]
     },
     "execution_count": 228,
     "metadata": {},
     "output_type": "execute_result"
    }
   ],
   "source": [
    "A,[1]B"
   ]
  },
  {
   "cell_type": "code",
   "execution_count": 229,
   "metadata": {},
   "outputs": [
    {
     "data": {
      "text/html": [
       "<span style=\"white-space:pre; font-family: monospace\">1\n",
       "</span>"
      ]
     },
     "execution_count": 229,
     "metadata": {},
     "output_type": "execute_result"
    }
   ],
   "source": [
    "(A⍪B)≡(A,[1]B)"
   ]
  },
  {
   "cell_type": "markdown",
   "metadata": {},
   "source": [
    "<!-- begin note -->\n",
    "***Note***:\n",
    "\n",
    " > If an axis is specified, the operation is processed according to the axis specification, regardless of the symbol (`,` or `⍪`) that is actually used.\n",
    "<!-- end -->\n",
    "\n",
    "This means `A,[2]C` and `A⍪[2]C` are both equivalent to `A,C` and `A,[1]B` and `A⍪[1]B` are both equivalent to `A⍪B`."
   ]
  },
  {
   "cell_type": "markdown",
   "metadata": {},
   "source": [
    "### Dyalog Idioms and Idiomatic Phrases\n",
    "\n",
    "It is common to see *Catenate* used in conjunction with *Reduce*, as `,/`. Let us start by understanding what it does:"
   ]
  },
  {
   "cell_type": "code",
   "execution_count": 230,
   "metadata": {},
   "outputs": [
    {
     "data": {
      "text/html": [
       "<span style=\"white-space:pre; font-family: monospace\">┌─┬───┬─────┬───────┐\n",
       "│0│1 2│3 4 5│6 7 8 9│\n",
       "└─┴───┴─────┴───────┘\n",
       "</span>"
      ]
     },
     "execution_count": 230,
     "metadata": {},
     "output_type": "execute_result"
    }
   ],
   "source": [
    "0 (1 2) (3 4 5) (6 7 8 9)"
   ]
  },
  {
   "cell_type": "code",
   "execution_count": 231,
   "metadata": {
    "scrolled": true
   },
   "outputs": [
    {
     "data": {
      "text/html": [
       "<span style=\"white-space:pre; font-family: monospace\">┌───────────────────┐\n",
       "│0 1 2 3 4 5 6 7 8 9│\n",
       "└───────────────────┘\n",
       "</span>"
      ]
     },
     "execution_count": 231,
     "metadata": {},
     "output_type": "execute_result"
    }
   ],
   "source": [
    ",/0 (1 2) (3 4 5) (6 7 8 9)"
   ]
  },
  {
   "cell_type": "code",
   "execution_count": 232,
   "metadata": {},
   "outputs": [
    {
     "data": {
      "text/html": [
       "<span style=\"white-space:pre; font-family: monospace\">┌─┬───┬─────┐\n",
       "│a│bcd│efghi│\n",
       "└─┴───┴─────┘\n",
       "</span>"
      ]
     },
     "execution_count": 232,
     "metadata": {},
     "output_type": "execute_result"
    }
   ],
   "source": [
    "'a' 'bcd' 'efghi'"
   ]
  },
  {
   "cell_type": "code",
   "execution_count": 233,
   "metadata": {},
   "outputs": [
    {
     "data": {
      "text/html": [
       "<span style=\"white-space:pre; font-family: monospace\">┌─────────┐\n",
       "│abcdefghi│\n",
       "└─────────┘\n",
       "</span>"
      ]
     },
     "execution_count": 233,
     "metadata": {},
     "output_type": "execute_result"
    }
   ],
   "source": [
    ",/ 'a' 'bcd' 'efghi'"
   ]
  },
  {
   "cell_type": "markdown",
   "metadata": {},
   "source": [
    "We can see above that *Reduce by Catenate* joins all items of a vector together. Using `,/` is so common that you will get used to looking at `,/` and reading it as *join*, instead of *Reduce by Catenate*. Like `,/`, there are many expressions which can be understood as an entity at first sight (with some practice!).\n",
    "\n",
    "For someone who knows nothing of APL the expression above may take a bit of time to digest (even if they have an extensive knowledge of other programming languages), and they cannot readily appreciate that an APL programmer can understand it immediately, without having to read each of the symbols one by one.\n",
    "\n",
    "This is not a paradox. For young children, reading the word \"Daddy\" is complex. It requires the comprehension of a sequence of letters one-by-one. I presume that you no longer do that, do you? **You do not read the letters**; you understand **the word** as a whole. This is exactly the same for the above idiomatic phrase.\n",
    "\n",
    "These common combinations of primitives are usually termed as ***Idioms*** or ***Idiomatic Phrases***. We prefer the latter denomination to avoid any confusion with Dyalog APL's *Idiom Recognition*. [APLcart](https://aplcart.info/) is a very comprehensive online collection of such idiomatic phrases, although not all entries in APL Cart are idiomatic phrases. It is also noteworthy that there is no objective criteria to determine if a combination of primitives is an idiomatic phrase or not: it depends on your skill, experience and even the context you are working on.\n",
    "\n",
    "Some idiomatic phrases are so common and useful that Dyalog APL introduced a special *Idiom Recognition* feature that speeds up the processing of APL code for many popular phrases. Both RIDE and the Windows IDE even have the capability of colouring these differently. For Dyalog APL, an *idiom* is like a \"shortcut primitive\" that replaces a sequence of consecutive primitive. This replacement will allow for a later speed up of the code in which it shows up.\n",
    "\n",
    "For example, we have also been using another short idiom fairly often: `≢⍴` (or `⍴⍴` in Ancient times) computes the rank of an array. Because `≢⍴` is recognised by Dyalog APL's idiom recognition feature, the interpreter doesn't need to process two instructions:\n",
    "  1. find shape of right argument;\n",
    "  1. return tally of elements of right argument.\n",
    " \n",
    "Instead processing a single instruction:\n",
    "  1. find rank of right argument,\n",
    "\n",
    "which can be computed by a faster method than the 2 steps above."
   ]
  },
  {
   "cell_type": "markdown",
   "metadata": {},
   "source": [
    "## Replicate\n",
    "\n",
    "### Basic Approach: Compress\n",
    "\n",
    "To extract scattered values from a vector, we can use indexing:"
   ]
  },
  {
   "cell_type": "code",
   "execution_count": 122,
   "metadata": {},
   "outputs": [
    {
     "data": {
      "text/html": [
       "<span style=\"white-space:pre; font-family: monospace\">85 96 82\n",
       "</span>"
      ]
     },
     "execution_count": 122,
     "metadata": {},
     "output_type": "execute_result"
    }
   ],
   "source": [
    "contents[5 6 11]"
   ]
  },
  {
   "cell_type": "markdown",
   "metadata": {},
   "source": [
    "We can also use a new function named ***Compress***. It takes a Boolean vector as its left argument, and any array of appropriate shape as its right argument. The items of the right argument which match the 1s in the left argument are preserved, whereas those which match the 0s are removed. It acts like a mask or a filter:"
   ]
  },
  {
   "cell_type": "code",
   "execution_count": 235,
   "metadata": {},
   "outputs": [
    {
     "data": {
      "text/html": [
       "<span style=\"white-space:pre; font-family: monospace\">15 79\n",
       "</span>"
      ]
     },
     "execution_count": 235,
     "metadata": {},
     "output_type": "execute_result"
    }
   ],
   "source": [
    "0 1 1 0 / 42 15 79 66"
   ]
  },
  {
   "cell_type": "code",
   "execution_count": 236,
   "metadata": {},
   "outputs": [
    {
     "data": {
      "text/html": [
       "<span style=\"white-space:pre; font-family: monospace\">Duck\n",
       "</span>"
      ]
     },
     "execution_count": 236,
     "metadata": {},
     "output_type": "execute_result"
    }
   ],
   "source": [
    "1 0 1 0 0 0 0 1 1 / 'Drumstick'"
   ]
  },
  {
   "cell_type": "markdown",
   "metadata": {},
   "source": [
    "This is extremely useful, because we can use *Compress* to select items which match a given condition.\n",
    "\n",
    "For example, let us extract from `contents` the values which are greater than 80.\n",
    "\n",
    "The Boolean vector for the left argument is obtained by `contents>80`, and the selection is made by:"
   ]
  },
  {
   "cell_type": "code",
   "execution_count": 123,
   "metadata": {},
   "outputs": [
    {
     "data": {
      "text/html": [
       "<span style=\"white-space:pre; font-family: monospace\">85 96 82\n",
       "</span>"
      ]
     },
     "execution_count": 123,
     "metadata": {},
     "output_type": "execute_result"
    }
   ],
   "source": [
    "(contents>80) / contents"
   ]
  },
  {
   "cell_type": "markdown",
   "metadata": {},
   "source": [
    "Of course, the same operation can be applied to any array of any dimension. For higher dimensional arrays, we can use the *Axis* to specify along which axis to compress. For example, if we have a matrix of chemical formulas:"
   ]
  },
  {
   "cell_type": "code",
   "execution_count": 124,
   "metadata": {},
   "outputs": [
    {
     "data": {
      "text/html": [
       "<span style=\"white-space:pre; font-family: monospace\">H2SO4\n",
       "CaCO3\n",
       "Fe2O3\n",
       "</span>"
      ]
     },
     "execution_count": 124,
     "metadata": {},
     "output_type": "execute_result"
    }
   ],
   "source": [
    "⊢chemistry ← 3 5⍴'H2SO4CaCO3Fe2O3'"
   ]
  },
  {
   "cell_type": "code",
   "execution_count": 125,
   "metadata": {},
   "outputs": [
    {
     "data": {
      "text/html": [
       "<span style=\"white-space:pre; font-family: monospace\">H2SO4\n",
       "Fe2O3\n",
       "</span>"
      ]
     },
     "execution_count": 125,
     "metadata": {},
     "output_type": "execute_result"
    }
   ],
   "source": [
    "1 0 1 /[1] chemistry"
   ]
  },
  {
   "cell_type": "markdown",
   "metadata": {},
   "source": [
    "By using `/[1]` we are compressing the 1st dimension of `chemistry`, hence selecting two rows, corresponding to the two 1s in the vector on the left."
   ]
  },
  {
   "cell_type": "code",
   "execution_count": 126,
   "metadata": {},
   "outputs": [
    {
     "data": {
      "text/html": [
       "<span style=\"white-space:pre; font-family: monospace\">H2O\n",
       "CaO\n",
       "FeO\n",
       "</span>"
      ]
     },
     "execution_count": 126,
     "metadata": {},
     "output_type": "execute_result"
    }
   ],
   "source": [
    "1 1 0 1 0 /[2] chemistry"
   ]
  },
  {
   "cell_type": "markdown",
   "metadata": {},
   "source": [
    "If we use `/[2]` we are compressing the 2nd dimension of `chemistry`, hence selecting three columns. In this example columns 3 and 5 have been removed.\n",
    "\n",
    "*Compress* is an excellent tool which allows you to:\n",
    "\n",
    " - extract some useful items from a variable;\n",
    " - remove some unwanted items from a variable, which is the same thing.\n",
    " \n",
    "<!-- begin advice style=hint -->\n",
    "***Advice***:\n",
    "\n",
    " > Every time you obtain a Boolean vector, you should immediately think of two major things you can do with it: *Count* or *select*.\n",
    "<!-- end -->\n",
    "\n",
    "For example, using `contents`, we can produce a Boolean vector that shows which items are smaller than 50:"
   ]
  },
  {
   "cell_type": "code",
   "execution_count": 127,
   "metadata": {},
   "outputs": [],
   "source": [
    "bin ← contents < 50"
   ]
  },
  {
   "cell_type": "markdown",
   "metadata": {},
   "source": [
    "Then, we can:\n",
    "\n",
    " - count the items that are smaller than 50:"
   ]
  },
  {
   "cell_type": "code",
   "execution_count": 242,
   "metadata": {},
   "outputs": [
    {
     "data": {
      "text/html": [
       "<span style=\"white-space:pre; font-family: monospace\">5\n",
       "</span>"
      ]
     },
     "execution_count": 242,
     "metadata": {},
     "output_type": "execute_result"
    }
   ],
   "source": [
    "+/ bin"
   ]
  },
  {
   "cell_type": "markdown",
   "metadata": {},
   "source": [
    " - select (or extract) said items:"
   ]
  },
  {
   "cell_type": "code",
   "execution_count": 128,
   "metadata": {},
   "outputs": [
    {
     "data": {
      "text/html": [
       "<span style=\"white-space:pre; font-family: monospace\">12 30 22 44 27\n",
       "</span>"
      ]
     },
     "execution_count": 128,
     "metadata": {},
     "output_type": "execute_result"
    }
   ],
   "source": [
    "bin / contents"
   ]
  },
  {
   "cell_type": "markdown",
   "metadata": {},
   "source": [
    "<!-- begin hint -->\n",
    "***Hint***:\n",
    "\n",
    " > Programmers who are new to APL and who are familiar with indexing as the natural selection mechanism may be tempted to use the Boolean selection vector to create some indices, and then use the indices to select the desired items.\n",
    "<!-- end -->\n",
    "\n",
    "This works very well, for example:"
   ]
  },
  {
   "cell_type": "code",
   "execution_count": 129,
   "metadata": {},
   "outputs": [
    {
     "data": {
      "text/html": [
       "<span style=\"white-space:pre; font-family: monospace\">12 30 22 44 27\n",
       "</span>"
      ]
     },
     "execution_count": 129,
     "metadata": {},
     "output_type": "execute_result"
    }
   ],
   "source": [
    "ix ← bin / ⍳⍴contents\n",
    "contents[ix]"
   ]
  },
  {
   "cell_type": "markdown",
   "metadata": {},
   "source": [
    "However this is an unnecessary complication that wastes memory and processing time, compared to the straightforward selection shown above."
   ]
  },
  {
   "cell_type": "markdown",
   "metadata": {},
   "source": [
    "### General Case: Replicate\n",
    "\n",
    "In fact, *Compress* is just a special case of a more comprehensive function named ***Replicate***. Its left argument can be any vector of integer values, each of which produces the following result:\n",
    "\n",
    "| Signum of the left item | Effect on the corresponding right item |\n",
    "| :-: | :- |\n",
    "| `1` | item is replicated the number of times specified by the left item |\n",
    "| `0` | item is suppressed |\n",
    "| `¯1` | item is replaced by as many \"***Fill items***\" as is indicated by the left item |\n",
    "\n",
    "The concept of a \"Fill item\" is new and will be discussed in full in [the \"Nested Arrays\" chapter](./Nested-Arrays-Continued.ipynb). For now, you only need to know that the fill item for a simple numeric array is 0 and the fill item for a simple character array is a blank space.\n",
    "\n",
    "Here are some examples, using the same left argument applied to numeric and character vectors:"
   ]
  },
  {
   "cell_type": "code",
   "execution_count": 245,
   "metadata": {},
   "outputs": [
    {
     "data": {
      "text/html": [
       "<span style=\"white-space:pre; font-family: monospace\">15 79 79 79\n",
       "</span>"
      ]
     },
     "execution_count": 245,
     "metadata": {},
     "output_type": "execute_result"
    }
   ],
   "source": [
    "0 1 3 0 / 42 15 79 66"
   ]
  },
  {
   "cell_type": "markdown",
   "metadata": {},
   "source": [
    "42 and 66 have been removed, as their corresponding left items were 0. 15 was replicated 1 time and 79 was replicated 3 times, as indicated by their corresponding left items."
   ]
  },
  {
   "cell_type": "code",
   "execution_count": 246,
   "metadata": {},
   "outputs": [
    {
     "data": {
      "text/html": [
       "<span style=\"white-space:pre; font-family: monospace\">oaaa\n",
       "</span>"
      ]
     },
     "execution_count": 246,
     "metadata": {},
     "output_type": "execute_result"
    }
   ],
   "source": [
    "0 1 3 0 / 'boat'"
   ]
  },
  {
   "cell_type": "code",
   "execution_count": 247,
   "metadata": {},
   "outputs": [
    {
     "data": {
      "text/html": [
       "<span style=\"white-space:pre; font-family: monospace\">42 42 0 0 0 79\n",
       "</span>"
      ]
     },
     "execution_count": 247,
     "metadata": {},
     "output_type": "execute_result"
    }
   ],
   "source": [
    "2 ¯3 1 0 / 42 15 79 66"
   ]
  },
  {
   "cell_type": "markdown",
   "metadata": {},
   "source": [
    "For the example above, 15 has been replaced by 3 zeroes because the fill item for simple numeric arrays is a zero."
   ]
  },
  {
   "cell_type": "code",
   "execution_count": 248,
   "metadata": {},
   "outputs": [
    {
     "data": {
      "text/html": [
       "<span style=\"white-space:pre; font-family: monospace\">bb   a\n",
       "</span>"
      ]
     },
     "execution_count": 248,
     "metadata": {},
     "output_type": "execute_result"
    }
   ],
   "source": [
    "2 ¯3 1 0 / 'boat'"
   ]
  },
  {
   "cell_type": "markdown",
   "metadata": {},
   "source": [
    "For this example, the letter \"o\" was replaced by 3 blank spaces because the fill item for simple numeric arrays is \" \"."
   ]
  },
  {
   "cell_type": "markdown",
   "metadata": {},
   "source": [
    "### Scalar Left Argument\n",
    "\n",
    "If the left argument of *Compress* or *Replicate* is a scalar, it applies to all the items of the right argument."
   ]
  },
  {
   "cell_type": "code",
   "execution_count": 130,
   "metadata": {},
   "outputs": [
    {
     "data": {
      "text/html": [
       "<span style=\"white-space:pre; font-family: monospace\">Phew\n",
       "</span>"
      ]
     },
     "execution_count": 130,
     "metadata": {},
     "output_type": "execute_result"
    }
   ],
   "source": [
    "v ← 'Phew'\n",
    "1/v"
   ]
  },
  {
   "cell_type": "markdown",
   "metadata": {},
   "source": [
    "When the left argument is 1 all the items are retained."
   ]
  },
  {
   "cell_type": "code",
   "execution_count": 250,
   "metadata": {},
   "outputs": [
    {
     "data": {
      "text/html": [
       "<span style=\"white-space:pre; font-family: monospace\">PPPhhheeewww\n",
       "</span>"
      ]
     },
     "execution_count": 250,
     "metadata": {},
     "output_type": "execute_result"
    }
   ],
   "source": [
    "3/v        ⍝ Repeat each letter 3 times."
   ]
  },
  {
   "cell_type": "code",
   "execution_count": 251,
   "metadata": {},
   "outputs": [
    {
     "data": {
      "text/html": [
       "<span style=\"white-space:pre; font-family: monospace\">\n",
       "</span>"
      ]
     },
     "execution_count": 251,
     "metadata": {},
     "output_type": "execute_result"
    }
   ],
   "source": [
    "0/v        ⍝ Repeat each letter 0 times."
   ]
  },
  {
   "cell_type": "code",
   "execution_count": 252,
   "metadata": {},
   "outputs": [
    {
     "data": {
      "text/html": [
       "<span style=\"white-space:pre; font-family: monospace\">1\n",
       "</span>"
      ]
     },
     "execution_count": 252,
     "metadata": {},
     "output_type": "execute_result"
    }
   ],
   "source": [
    "''≡0/v"
   ]
  },
  {
   "cell_type": "markdown",
   "metadata": {},
   "source": [
    "As you can see above, when we use 0 as the left argument to *Replicate* we get an empty vector. Because `v` was a simple character vector, we get an empty character vector."
   ]
  },
  {
   "cell_type": "markdown",
   "metadata": {},
   "source": [
    "### Special Notations\n",
    "\n",
    "Like *Reduce* and *Catenate*, *Replicate* works by default along the last dimension of an array. However, it is possible for it to work on any dimension by using the *Axis*. It is also possible to use `⌿`, which we have already seen, to work on the first dimension by default.\n",
    "\n",
    "For example,"
   ]
  },
  {
   "cell_type": "code",
   "execution_count": 131,
   "metadata": {},
   "outputs": [
    {
     "data": {
      "text/html": [
       "<span style=\"white-space:pre; font-family: monospace\">CaCO3\n",
       "</span>"
      ]
     },
     "execution_count": 131,
     "metadata": {},
     "output_type": "execute_result"
    }
   ],
   "source": [
    "0 1 0 ⌿ chemistry"
   ]
  },
  {
   "cell_type": "markdown",
   "metadata": {},
   "source": [
    "which is equivalent to"
   ]
  },
  {
   "cell_type": "code",
   "execution_count": 132,
   "metadata": {},
   "outputs": [
    {
     "data": {
      "text/html": [
       "<span style=\"white-space:pre; font-family: monospace\">CaCO3\n",
       "</span>"
      ]
     },
     "execution_count": 132,
     "metadata": {},
     "output_type": "execute_result"
    }
   ],
   "source": [
    "0 1 0 /[1] chemistry"
   ]
  },
  {
   "cell_type": "markdown",
   "metadata": {},
   "source": [
    "Beware, the result obtained this way is **not** a vector, but a matrix having only one row:"
   ]
  },
  {
   "cell_type": "code",
   "execution_count": 133,
   "metadata": {},
   "outputs": [
    {
     "data": {
      "text/html": [
       "<span style=\"white-space:pre; font-family: monospace\">1 5\n",
       "</span>"
      ]
     },
     "execution_count": 133,
     "metadata": {},
     "output_type": "execute_result"
    }
   ],
   "source": [
    "⍴0 1 0⌿chemistry"
   ]
  },
  {
   "cell_type": "markdown",
   "metadata": {},
   "source": [
    "You must not confuse *Reduce* and *Replicate*: even if the symbol used is the same, they are completely different operations:\n",
    "\n",
    " - ***Reduce*** takes a function as its left operand; it is a monadic *operator* (e.g. `+/ contents`);\n",
    " - ***Replicate*** takes a vector as its left argument and an array as its right argument; it is a dyadic *function* (e.g. `vec/ contents`);"
   ]
  },
  {
   "cell_type": "markdown",
   "metadata": {},
   "source": [
    "## Position (Index Of)\n",
    "\n",
    "### Discovery\n",
    "\n",
    "It is very often necessary to locate the positions of particular values in a list of items. To solve this, APL has a special function named ***Position*** (also called \"***Index Of***\"), represented by the Greek letter Iota (`⍳`). This symbol can be obtained by <kbd>Ctrl</kbd>+<kbd>i</kbd> (the initial letter of Iota). Let us see how it works:"
   ]
  },
  {
   "cell_type": "code",
   "execution_count": 134,
   "metadata": {},
   "outputs": [
    {
     "data": {
      "text/html": [
       "<span style=\"white-space:pre; font-family: monospace\">4 9 3 12 1\n",
       "</span>"
      ]
     },
     "execution_count": 134,
     "metadata": {},
     "output_type": "execute_result"
    }
   ],
   "source": [
    "vec ← 15 42 53 19 46 53 82 17 14 53 24\n",
    "vec ⍳ 19 14 53 49 15"
   ]
  },
  {
   "cell_type": "markdown",
   "metadata": {},
   "source": [
    "Above we asked for the positions of 5 values (19, 14, 53, 49 and 15) and naturally we obtain 5 answers.\n",
    "\n",
    " - The result tells us that 19, 14 and 15 appear in positions 4, 9 and 1 respectively.\n",
    "\n",
    " - The result also tells us that 53 appears in position 3. This is of course true, but it also appears in positions 6 and 10, which are not included in the result. This is a necessary restriction: if we had searched for 5 values and obtained 7 results, it would not have been possible to say where each value appears. This is the reason why ***Index Of*** returns _only the first_ occurrence of each value.\n",
    " \n",
    "We shall see later that this is an advantage: if instead we need to find all the positions in which a value occurs, there is another function that we can use (see [the \"Application 4\" section](#Application-4) below).\n",
    "\n",
    " - Surprisingly, the result tells us that 49 appears in position 12, though `vec` has only 11 items! This is the way that *Index Of* indicates a missing value. We shall see that it is a great advantage, too.\n",
    " \n",
    "The following rule explains how dyadic Iota works when the left argument is a vector:\n",
    "\n",
    "<!-- begin rule -->\n",
    "***Rule***:\n",
    "\n",
    " > In the expression `r ← haystack ⍳ needles` we look for the `needles` in the `haystack`, and\n",
    " >\n",
    " > - `haystack` can be a vector of any type: numeric, character, mixed, nested;\n",
    " >\n",
    " > - `needles` can be any array (any type, any shape, any rank);\n",
    " >\n",
    " > - `r` will have the same rank and shape as `needles`;\n",
    " >\n",
    " > - the items of `r` contain the positions of the first occurrence of the corresponding items of `needles` in `haystack`;\n",
    " >\n",
    " > - items which do not appear in `haystack` give the result `1+≢haystack`.\n",
    "<!-- end -->"
   ]
  },
  {
   "cell_type": "code",
   "execution_count": 257,
   "metadata": {},
   "outputs": [
    {
     "data": {
      "text/html": [
       "<span style=\"white-space:pre; font-family: monospace\">4\n",
       "</span>"
      ]
     },
     "execution_count": 257,
     "metadata": {},
     "output_type": "execute_result"
    }
   ],
   "source": [
    "'ABC' ⍳ 57"
   ]
  },
  {
   "cell_type": "markdown",
   "metadata": {},
   "source": [
    "A number cannot occur in a 3-item character vector, so the result is 4."
   ]
  },
  {
   "cell_type": "code",
   "execution_count": 258,
   "metadata": {},
   "outputs": [
    {
     "data": {
      "text/html": [
       "<span style=\"white-space:pre; font-family: monospace\">3 3 3\n",
       "</span>"
      ]
     },
     "execution_count": 258,
     "metadata": {},
     "output_type": "execute_result"
    }
   ],
   "source": [
    "4 8 ⍳ '4 8'"
   ]
  },
  {
   "cell_type": "markdown",
   "metadata": {},
   "source": [
    "Similarly, characters cannot appear in a 2-item numeric vector, so each character results in a 3."
   ]
  },
  {
   "cell_type": "code",
   "execution_count": 135,
   "metadata": {},
   "outputs": [
    {
     "data": {
      "text/html": [
       "<span style=\"white-space:pre; font-family: monospace\">8 30 19 15 32\n",
       "3 38  3 15 31\n",
       "6 38 30 15 31\n",
       "</span>"
      ]
     },
     "execution_count": 135,
     "metadata": {},
     "output_type": "execute_result"
    }
   ],
   "source": [
    "alpha ← 'ABCDEFGHIJKLMNOPQRSTUVWXYZ 0123456789'\n",
    "alpha ⍳ chemistry"
   ]
  },
  {
   "cell_type": "markdown",
   "metadata": {},
   "source": [
    "The two lower case letters in `chemistry` give the answer 38 because `alpha` has 37 items. Also notice how the shape of `chemistry` and `alpha ⍳ chemistry` is the same, like the rule above specified."
   ]
  },
  {
   "cell_type": "code",
   "execution_count": 136,
   "metadata": {},
   "outputs": [
    {
     "data": {
      "text/html": [
       "<span style=\"white-space:pre; font-family: monospace\">1\n",
       "</span>"
      ]
     },
     "execution_count": 136,
     "metadata": {},
     "output_type": "execute_result"
    }
   ],
   "source": [
    "(⍴chemistry)≡(⍴alpha⍳chemistry)"
   ]
  },
  {
   "cell_type": "markdown",
   "metadata": {},
   "source": [
    "We can also use nested vectors:"
   ]
  },
  {
   "cell_type": "code",
   "execution_count": 137,
   "metadata": {},
   "outputs": [
    {
     "data": {
      "text/html": [
       "<span style=\"white-space:pre; font-family: monospace\">4 4 2 1 4\n",
       "</span>"
      ]
     },
     "execution_count": 137,
     "metadata": {},
     "output_type": "execute_result"
    }
   ],
   "source": [
    "'Tee' (3 7) 'Golf' ⍳ 3 7 (3 7) 'Tee' 'Green'"
   ]
  },
  {
   "cell_type": "markdown",
   "metadata": {},
   "source": [
    "The function *Index Of* is one of the most important primitive functions in APL. It is very flexible and it can be used in many situations, as shown in the following examples.\n",
    "\n",
    "<!-- begin warning -->\n",
    "***Warning***:\n",
    "\n",
    " > In the expression `A⍳B` we search for `B` in `A` whereas in `A∊B` we search for `A` in `B`. Do not be confused!\n",
    "<!-- end -->"
   ]
  },
  {
   "cell_type": "markdown",
   "metadata": {},
   "source": [
    "### Application 3\n",
    "\n",
    "A car manufacturer decided that they will offer their customers a discount on the catalogue price. The country has been split into 100 geographical areas, and the discount rate will depend on the geographic area according to the following table:\n",
    "\n",
    "| Area | Discount |\n",
    "| :-: | :-: |\n",
    "| 17 | 9% |\n",
    "| 50 | 8% |\n",
    "| 59 | 6% |\n",
    "| 84 | 5% |\n",
    "| 89 | 4% |\n",
    "| Others | 2% |\n",
    "\n",
    "which we save to two vectors:"
   ]
  },
  {
   "cell_type": "code",
   "execution_count": 138,
   "metadata": {},
   "outputs": [],
   "source": [
    "area ← 17 50 59 84 89\n",
    "discount ← 9 8 6 5 4 2"
   ]
  },
  {
   "cell_type": "markdown",
   "metadata": {},
   "source": [
    "The first task is to calculate the discount rate to be claimed for a potential customer who lives in area `d`; for example"
   ]
  },
  {
   "cell_type": "code",
   "execution_count": 140,
   "metadata": {},
   "outputs": [],
   "source": [
    "d ← 84"
   ]
  },
  {
   "cell_type": "markdown",
   "metadata": {},
   "source": [
    "Let us see if 84 is in the list of favoured areas:"
   ]
  },
  {
   "cell_type": "code",
   "execution_count": 141,
   "metadata": {},
   "outputs": [
    {
     "data": {
      "text/html": [
       "<span style=\"white-space:pre; font-family: monospace\">4\n",
       "</span>"
      ]
     },
     "execution_count": 141,
     "metadata": {},
     "output_type": "execute_result"
    }
   ],
   "source": [
    "area ⍳ d"
   ]
  },
  {
   "cell_type": "markdown",
   "metadata": {},
   "source": [
    "We can see that 84 is the 4th item in the list.\n",
    "\n",
    "Let us find the current discount rate for this index position:"
   ]
  },
  {
   "cell_type": "code",
   "execution_count": 142,
   "metadata": {},
   "outputs": [
    {
     "data": {
      "text/html": [
       "<span style=\"white-space:pre; font-family: monospace\">5\n",
       "</span>"
      ]
     },
     "execution_count": 142,
     "metadata": {},
     "output_type": "execute_result"
    }
   ],
   "source": [
    "discount[4]"
   ]
  },
  {
   "cell_type": "markdown",
   "metadata": {},
   "source": [
    "This customer can claim a 5% discount.\n",
    "\n",
    "We could simply write"
   ]
  },
  {
   "cell_type": "code",
   "execution_count": 143,
   "metadata": {},
   "outputs": [
    {
     "data": {
      "text/html": [
       "<span style=\"white-space:pre; font-family: monospace\">5\n",
       "</span>"
      ]
     },
     "execution_count": 143,
     "metadata": {},
     "output_type": "execute_result"
    }
   ],
   "source": [
    "discount[area⍳d]"
   ]
  },
  {
   "cell_type": "markdown",
   "metadata": {},
   "source": [
    "Now, what if a customer lives in any other area, such as 75, 45 or 93?\n",
    "\n",
    "The expression `area⍳d` will return the result `6` for all these area codes, because these values are absent from `area`.\n",
    "\n",
    "Then `discount[6]` will always find the rate 2%, as specified. Here we can see that it is an advantage that *Index Of* returns 1 + the number of items in the vector to be searched.\n",
    "\n",
    "<!-- begin A Vector Solution style=note -->\n",
    "***A Vector Solution***:\n",
    "\n",
    " > The importance of this approach to finding the discount rates is that it is vector-based. If publicity attracts crowds and therefore `d` is no longer a scalar but a vector, the solution is still valid.\n",
    "<!-- end -->\n",
    "\n",
    "As an example, consider the following vector of area codes and the respective discount rates:"
   ]
  },
  {
   "cell_type": "code",
   "execution_count": 144,
   "metadata": {},
   "outputs": [
    {
     "data": {
      "text/html": [
       "<span style=\"white-space:pre; font-family: monospace\">2 2 4 2 2 8 2 8 5 2 9 4\n",
       "</span>"
      ]
     },
     "execution_count": 144,
     "metadata": {},
     "output_type": "execute_result"
    }
   ],
   "source": [
    "d ← 24 75 89 60 92 50 51 50 84 66 17 89\n",
    "discount[area⍳d]"
   ]
  },
  {
   "cell_type": "markdown",
   "metadata": {},
   "source": [
    "We have achieved all this without a program, neither a \"loop\" nor a \"test\". And it works for any number of areas. Readers who know other programming languages will probably appreciate the simplicity of this approach."
   ]
  },
  {
   "cell_type": "markdown",
   "metadata": {},
   "source": [
    "#### Changing The Frame of Reference\n",
    "\n",
    "In reality, the expression that we have just written is an example of an algorithm for \"*changing the frame of reference*\". Don't panic, this term may seem esoteric, but the concept is simple: a list of area numbers (the initial set) is translated into a list of discount rates (the final set). The algorithm comprises only the function *Index Of* and indexing:\n",
    "\n",
    "<!-- begin algorithm -->\n",
    "\n",
    "\n",
    " > `r ← finalSet[initialSet ⍳ values]`\n",
    "<!-- end -->\n",
    "\n",
    "Let us imagine the initial set to be an alphabet composed of both lowercase and uppercase letters, and the final set to be composed of only uppercase letters, with a blank space in the middle:"
   ]
  },
  {
   "cell_type": "code",
   "execution_count": 145,
   "metadata": {},
   "outputs": [],
   "source": [
    "alphLower ← 'abcdefghijklmnopqrstuvwxyz ABCDEFGHIJKLMNOPQRSTUVWXYZ'\n",
    "alphUpper ← 'ABCDEFGHIJKLMNOPQRSTUVWXYZ ABCDEFGHIJKLMNOPQRSTUVWXYZ*'"
   ]
  },
  {
   "cell_type": "markdown",
   "metadata": {},
   "source": [
    "Now, let us write a sentence; we will write it in French in order to show what happens with missing characters:"
   ]
  },
  {
   "cell_type": "code",
   "execution_count": 146,
   "metadata": {},
   "outputs": [],
   "source": [
    "tale ← 'Le Petit Chaperon-Rouge a bouffé le Loup'"
   ]
  },
  {
   "cell_type": "markdown",
   "metadata": {},
   "source": [
    "If we apply the algorithm seen above, the expression will convert the text from lower to upper case:"
   ]
  },
  {
   "cell_type": "code",
   "execution_count": 147,
   "metadata": {},
   "outputs": [
    {
     "data": {
      "text/html": [
       "<span style=\"white-space:pre; font-family: monospace\">LE PETIT CHAPERON*ROUGE A BOUFF* LE LOUP\n",
       "</span>"
      ]
     },
     "execution_count": 147,
     "metadata": {},
     "output_type": "execute_result"
    }
   ],
   "source": [
    "alphUpper[alphLower⍳tale]"
   ]
  },
  {
   "cell_type": "markdown",
   "metadata": {},
   "source": [
    "As one might expect, the characters `'-'` and `'é'`, which are absent from the initial alphabetic set, have been replaced by the `'*'`, the \"extra\" character at the end of the final set. This works because once again the final set is one item longer than the initial set.\n",
    "\n",
    "Once more, the logical steps needed to solve the problem are easily translated into a programming solution, and the programmer can thereby direct all his attention to solving the problem."
   ]
  },
  {
   "cell_type": "markdown",
   "metadata": {},
   "source": [
    "### General Case\n",
    "\n",
    "The left argument to *Index Of* need not be a vector. In fact, in the expression `haystack ⍳ needles`, `haystack` can be an array of any rank, type and shape, as long as it is _not_ a scalar. However, `needles` must have a shape that is appropriate for the `haystack` you use.\n",
    "\n",
    "We will see what this means by using a 3-D `haystack` as an example:"
   ]
  },
  {
   "cell_type": "code",
   "execution_count": 148,
   "metadata": {},
   "outputs": [
    {
     "data": {
      "text/html": [
       "<span style=\"white-space:pre; font-family: monospace\">1 2 3 4\n",
       "5 6 7 8\n",
       "9 0 1 2\n",
       "       \n",
       "3 4 5 6\n",
       "7 8 9 0\n",
       "1 2 3 4\n",
       "</span>"
      ]
     },
     "execution_count": 148,
     "metadata": {},
     "output_type": "execute_result"
    }
   ],
   "source": [
    "⊢haystack ← 2 3 4⍴1 2 3 4 5 6 7 8 9 0"
   ]
  },
  {
   "cell_type": "markdown",
   "metadata": {},
   "source": [
    "When *Index Of* is used, the first thing Dyalog APL does is look at its left argument and try to figure out what is the shape of the things contained in the `haystack`. For that matter, we first inspect the shape of the `haystack`"
   ]
  },
  {
   "cell_type": "code",
   "execution_count": 149,
   "metadata": {},
   "outputs": [
    {
     "data": {
      "text/html": [
       "<span style=\"white-space:pre; font-family: monospace\">2 3 4\n",
       "</span>"
      ]
     },
     "execution_count": 149,
     "metadata": {},
     "output_type": "execute_result"
    }
   ],
   "source": [
    "⍴haystack"
   ]
  },
  {
   "cell_type": "markdown",
   "metadata": {},
   "source": [
    "and interpret it as\n",
    "\n",
    " > \"*`haystack` contains 2 items of shape `3 4`*\"\n",
    " \n",
    "which means we can look for needles with shape `3 4` inside the `haystack`. Therefore, for `needles` to be seen as \"*containing items of shape `3 4`*\" its shape must also end in `3 4`. Whatever is not the final `3 4` in the shape of `needles` is what dictates the shape of the final result.\n",
    "\n",
    "If the shape of `needles` is too short for it to match the shape of the items the `haystack` contains, we get a `RANK ERROR` because `needles` doesn't have enough dimensions.\n",
    "\n",
    "Similarly, if the shape of `needles` is long enough but its trailing dimensions don't match those of the left argument, we get a `LENGTH ERROR` because the things we are comparing have different lengths along their dimensions.\n",
    "\n",
    "In the table below we give examples of some `haystack` and `needles` shapes, along with the shape of the items that `⍳` thinks `haystack` contains and the shape of the result (remember that `⍬` is the shape of a scalar):\n",
    "\n",
    "| `⍴haystack` | `⍴needles` must end with | `⍴needles` | `⍴r` |\n",
    "| :- | :- | :- | :- |\n",
    "| `2 3 4` | `3 4` | `3 4` | `⍬` |\n",
    "| | | `3 1 3 4` | `3 1` |\n",
    "| | | `3 1 4 4` | `LENGTH ERROR` |\n",
    "| | | `1 2 3 3 4` | `1 2 3` |\n",
    "| | | `3` | `RANK ERROR` |\n",
    "| `6 2` | `2` | `4 2` | `4` |\n",
    "| | | `2` | `⍬` |\n",
    "| | | `3` | `LENGTH ERROR` |\n",
    "| `5` | `⍬` | `1 2 3` | `1 2 3` |\n",
    "| | | `1 3` | `1 3` |\n",
    "| | | `5` | `5` |\n",
    "| | | `⍬` | `⍬` |\n",
    "\n",
    "As a practical example, if we take the `haystack` we defined above, we can look for 3 by 4 matrices in there. Our `needles` variable has 4 such matrices:"
   ]
  },
  {
   "cell_type": "code",
   "execution_count": 150,
   "metadata": {},
   "outputs": [
    {
     "data": {
      "text/html": [
       "<span style=\"white-space:pre; font-family: monospace\">1 2 3 4\n",
       "5 6 7 8\n",
       "9 0 1 2\n",
       "       \n",
       "3 4 5 6\n",
       "7 8 9 0\n",
       "1 2 3 4\n",
       "       \n",
       "5 6 7 8\n",
       "9 0 1 2\n",
       "3 4 5 6\n",
       "       \n",
       "7 8 9 0\n",
       "1 2 3 4\n",
       "5 6 7 8\n",
       "</span>"
      ]
     },
     "execution_count": 150,
     "metadata": {},
     "output_type": "execute_result"
    }
   ],
   "source": [
    "⊢needles ← 4 3 4⍴1 2 3 4 5 6 7 8 9 0"
   ]
  },
  {
   "cell_type": "code",
   "execution_count": 151,
   "metadata": {},
   "outputs": [
    {
     "data": {
      "text/html": [
       "<span style=\"white-space:pre; font-family: monospace\">1 2 3 3\n",
       "</span>"
      ]
     },
     "execution_count": 151,
     "metadata": {},
     "output_type": "execute_result"
    }
   ],
   "source": [
    "haystack ⍳ needles"
   ]
  },
  {
   "cell_type": "markdown",
   "metadata": {},
   "source": [
    "This shows that the first and second matrices were found in positions 1 and 2, respectively, and the third and fourth matrices were found nowhere, thus getting 3 as a result. The result is 3 because 2 is the number of items that `haystack` has.\n",
    "\n",
    "Now we write the rule that dictates how *Index Of* works in the general case:\n",
    "\n",
    "<!-- begin rule -->\n",
    "**_Rule_**:\n",
    "\n",
    " > In the expression `r ← haystack ⍳ needles` we look for the `needles` in the `haystack`, and\n",
    " >\n",
    " > - `haystack` can be any array of rank `hr` with `hr` being at least 1;\n",
    " >\n",
    " > - `needles` can be any array of rank `nr` with `nr` being at least `hr-1`;\n",
    " >\n",
    " > - the last `hr-1` numbers of the shape of `needles` and the last `hr-1` numbers of the shape of `haystack` must be the same;\n",
    " >\n",
    " > - `r` has rank equal to `nr-hr-1` and shape equal to the first `nr-hr-1` numbers of the shape of `needles`;\n",
    " >\n",
    " > - the items of `r` contain the positions of the first occurrence of the corresponding items of `needles` in `haystack`;\n",
    " >\n",
    " > - items which do not appear in `haystack` give the result `1+m` if `m` is the leading number in the shape of `haystack`.\n",
    "<!-- end -->"
   ]
  },
  {
   "cell_type": "markdown",
   "metadata": {},
   "source": [
    "## Where\n",
    "\n",
    "The primitive function ***Where*** is the monadic use of the *Iota Underbar* `⍸`, which you can type with <kbd>APL</kbd>+<kbd>Shift</kbd>+<kbd>I</kbd>. The simplest use case for this primitive is to give it a simple Boolean array, for which `⍸` finds ***Where*** the values 1 are.\n",
    "\n",
    "For example, given the `contents` vector:"
   ]
  },
  {
   "cell_type": "code",
   "execution_count": 152,
   "metadata": {},
   "outputs": [
    {
     "data": {
      "text/html": [
       "<span style=\"white-space:pre; font-family: monospace\">12 56 78 74 85 96 30 22 44 66 82 27\n",
       "</span>"
      ]
     },
     "execution_count": 152,
     "metadata": {},
     "output_type": "execute_result"
    }
   ],
   "source": [
    "contents"
   ]
  },
  {
   "cell_type": "markdown",
   "metadata": {},
   "source": [
    "What items are greater than 75?"
   ]
  },
  {
   "cell_type": "code",
   "execution_count": 153,
   "metadata": {},
   "outputs": [
    {
     "data": {
      "text/html": [
       "<span style=\"white-space:pre; font-family: monospace\">0 0 1 0 1 1 0 0 0 0 1 0\n",
       "</span>"
      ]
     },
     "execution_count": 153,
     "metadata": {},
     "output_type": "execute_result"
    }
   ],
   "source": [
    "contents > 75"
   ]
  },
  {
   "cell_type": "markdown",
   "metadata": {},
   "source": [
    "And *Where* are they?"
   ]
  },
  {
   "cell_type": "code",
   "execution_count": 154,
   "metadata": {},
   "outputs": [
    {
     "data": {
      "text/html": [
       "<span style=\"white-space:pre; font-family: monospace\">3 5 6 11\n",
       "</span>"
      ]
     },
     "execution_count": 154,
     "metadata": {},
     "output_type": "execute_result"
    }
   ],
   "source": [
    "⍸contents > 75"
   ]
  },
  {
   "cell_type": "markdown",
   "metadata": {},
   "source": [
    "They are at positions 3, 5, 6 and 11, referring respectively to the elements 78, 85, 96 and 82."
   ]
  },
  {
   "cell_type": "markdown",
   "metadata": {},
   "source": [
    "### Application 4\n",
    "\n",
    "You probably remember that the function *Index Of* returns only the *first* occurrence of a value in a vector (cf. [the \"Discovery\" subsection](#Discovery)). Using *Where* we can find *all* the occurrences.\n",
    "\n",
    "Here is a vector, in which we would like to find the positions of the number 19:"
   ]
  },
  {
   "cell_type": "code",
   "execution_count": 155,
   "metadata": {},
   "outputs": [],
   "source": [
    "vec ← 41 17 19 53 42 27 19 88 14 56 19 33"
   ]
  },
  {
   "cell_type": "code",
   "execution_count": 156,
   "metadata": {},
   "outputs": [
    {
     "data": {
      "text/html": [
       "<span style=\"white-space:pre; font-family: monospace\">0 0 1 0 0 0 1 0 0 0 1 0\n",
       "</span>"
      ]
     },
     "execution_count": 156,
     "metadata": {},
     "output_type": "execute_result"
    }
   ],
   "source": [
    "vec=19"
   ]
  },
  {
   "cell_type": "markdown",
   "metadata": {},
   "source": [
    "Now that we have a Boolean vector, we can just use `⍸` to find out *Where* the 1s are:"
   ]
  },
  {
   "cell_type": "code",
   "execution_count": 158,
   "metadata": {},
   "outputs": [
    {
     "data": {
      "text/html": [
       "<span style=\"white-space:pre; font-family: monospace\">3 7 11\n",
       "</span>"
      ]
     },
     "execution_count": 158,
     "metadata": {},
     "output_type": "execute_result"
    }
   ],
   "source": [
    "⍸vec=19"
   ]
  },
  {
   "cell_type": "markdown",
   "metadata": {},
   "source": [
    "It is as simple as that!\n",
    "\n",
    "Of course the same search technique will work on characters, because what we really care about is the Boolean vector we generate at a later step, not what the initial vector was. For example, let us find all the letters \"a\" in a sentence:"
   ]
  },
  {
   "cell_type": "code",
   "execution_count": 159,
   "metadata": {},
   "outputs": [
    {
     "data": {
      "text/html": [
       "<span style=\"white-space:pre; font-family: monospace\">2 4 6 11 14 16 30 36 41\n",
       "</span>"
      ]
     },
     "execution_count": 159,
     "metadata": {},
     "output_type": "execute_result"
    }
   ],
   "source": [
    "sentence ← 'Panama is a canal between Atlantic and Pacific'\n",
    "⍸sentence='a'"
   ]
  },
  {
   "cell_type": "markdown",
   "metadata": {},
   "source": [
    "Having found all the \"a\"s, we may wish to find all the lowercase vowels. For that matter, we need to create a Boolean vector with 1s in the positions with lowercase vowels. In the example above, `sentence='a'` worked because we are allowed to compare a vector with a single scalar, but now we can't change this to"
   ]
  },
  {
   "cell_type": "code",
   "execution_count": 160,
   "metadata": {},
   "outputs": [
    {
     "name": "stderr",
     "output_type": "stream",
     "text": [
      "LENGTH ERROR: Mismatched left and right argument shapes\n",
      "      sentence='aeiouy'        ⍝ 'y' is a vowel in many European languages\n",
      "              ∧\n"
     ]
    }
   ],
   "source": [
    "sentence='aeiouy'        ⍝ 'y' is a vowel in many European languages"
   ]
  },
  {
   "cell_type": "markdown",
   "metadata": {},
   "source": [
    "The code above does not work because `=` is trying to compare the two vectors item by item, only to realise the vector `'aeiouy'` is too short for that. Instead, what we can do is check whether or not each character of `sentence` is a *member* of the character vector `'aeiouy'`:"
   ]
  },
  {
   "cell_type": "code",
   "execution_count": 161,
   "metadata": {},
   "outputs": [
    {
     "data": {
      "text/html": [
       "<span style=\"white-space:pre; font-family: monospace\">0 1 0 1 0 1 0 1 0 0 1 0 0 1 0 1 0 0 0 1 0 0 1 1 0 0 0 0 0 1 0 0 1 0 0 1 0 0 0 0 1 0 1 0 1 0\n",
       "</span>"
      ]
     },
     "execution_count": 161,
     "metadata": {},
     "output_type": "execute_result"
    }
   ],
   "source": [
    "sentence∊'aeiouy'"
   ]
  },
  {
   "cell_type": "markdown",
   "metadata": {},
   "source": [
    "Having computed this Boolean vector, the finishing touch is to compute *Where* the vowels were found:"
   ]
  },
  {
   "cell_type": "code",
   "execution_count": 162,
   "metadata": {
    "scrolled": true
   },
   "outputs": [
    {
     "data": {
      "text/html": [
       "<span style=\"white-space:pre; font-family: monospace\">2 4 6 8 11 14 16 20 23 24 30 33 36 41 43 45\n",
       "</span>"
      ]
     },
     "execution_count": 162,
     "metadata": {},
     "output_type": "execute_result"
    }
   ],
   "source": [
    "⍸sentence∊'aeiouy'"
   ]
  },
  {
   "cell_type": "markdown",
   "metadata": {},
   "source": [
    "### Increasing The Dimension\n",
    "\n",
    "Up until now we only used simple vectors as arguments to *Where*, but in the beginning we talked about Boolean *arrays*, not *vectors*.\n",
    "\n",
    "For higher dimensional arrays *Where* behaves the same way: it returns the indices of the positions that contain 1s. Similar to what we did above, we might want to find all the lowercase vowels in the `monMat` matrix:"
   ]
  },
  {
   "cell_type": "code",
   "execution_count": 163,
   "metadata": {},
   "outputs": [
    {
     "data": {
      "text/html": [
       "<span style=\"white-space:pre; font-family: monospace\">January \n",
       "February\n",
       "March   \n",
       "April   \n",
       "May     \n",
       "June    \n",
       "</span>"
      ]
     },
     "execution_count": 163,
     "metadata": {},
     "output_type": "execute_result"
    }
   ],
   "source": [
    "monMat"
   ]
  },
  {
   "cell_type": "code",
   "execution_count": 164,
   "metadata": {},
   "outputs": [
    {
     "data": {
      "text/html": [
       "<span style=\"white-space:pre; font-family: monospace\">┌───┬───┬───┬───┬───┬───┬───┬───┬───┬───┬───┬───┬───┬───┐\n",
       "│1 2│1 4│1 5│1 7│2 2│2 5│2 6│2 8│3 2│4 4│5 2│5 3│6 2│6 4│\n",
       "└───┴───┴───┴───┴───┴───┴───┴───┴───┴───┴───┴───┴───┴───┘\n",
       "</span>"
      ]
     },
     "execution_count": 164,
     "metadata": {},
     "output_type": "execute_result"
    }
   ],
   "source": [
    "⍸monMat∊'aeiouy'"
   ]
  },
  {
   "cell_type": "markdown",
   "metadata": {},
   "source": [
    "The last item in the result above is `6 4`, which means that row 6, column 4 of `monMat` contains a lowercase vowel: the final \"e\" in \"June\". We can verify this with the index function `⌷` you already learned about (cf. [\"The Index Function\" in the \"Data and Variables\" chapter](./Data-and-Variables.ipynb#The-Index-Function)):"
   ]
  },
  {
   "cell_type": "code",
   "execution_count": 165,
   "metadata": {},
   "outputs": [
    {
     "data": {
      "text/html": [
       "<span style=\"white-space:pre; font-family: monospace\">June    \n",
       "</span>"
      ]
     },
     "execution_count": 165,
     "metadata": {},
     "output_type": "execute_result"
    }
   ],
   "source": [
    "6⌷monMat"
   ]
  },
  {
   "cell_type": "code",
   "execution_count": 166,
   "metadata": {},
   "outputs": [
    {
     "data": {
      "text/html": [
       "<span style=\"white-space:pre; font-family: monospace\">e\n",
       "</span>"
      ]
     },
     "execution_count": 166,
     "metadata": {},
     "output_type": "execute_result"
    }
   ],
   "source": [
    "6 4⌷monMat"
   ]
  },
  {
   "cell_type": "markdown",
   "metadata": {},
   "source": [
    "The example above also shows an interesting property of *Where*: it always returns a *vector*, regardless of the shape of the input, and each item of the resulting vector is a suitable index to `⌷`."
   ]
  },
  {
   "cell_type": "markdown",
   "metadata": {},
   "source": [
    "### Simple, Not Nested\n",
    "\n",
    "*Where* does require that its argument be a simple array. If you provide a nested array, `⍸` won't know what to do with it. This is because there is no way of indexing into a nested array with an index vector like `3` or `6 4`, or even something longer.\n",
    "\n",
    "In fact, if the argument to *Where* is a nested array, you get a `DOMAIN ERROR`:"
   ]
  },
  {
   "cell_type": "code",
   "execution_count": 289,
   "metadata": {},
   "outputs": [
    {
     "name": "stderr",
     "output_type": "stream",
     "text": [
      "DOMAIN ERROR\n",
      "      ⍸(0 1)(1 1)\n",
      "      ∧\n"
     ]
    }
   ],
   "source": [
    "⍸(0 1)(1 1)"
   ]
  },
  {
   "cell_type": "markdown",
   "metadata": {},
   "source": [
    "### Beyond Boolean Arrays\n",
    "\n",
    "Now that you have seen the most iconic use of *Where*, you will be shown the full specification for it, as we have only used Boolean arguments so far.\n",
    "\n",
    "<!-- begin rule -->\n",
    "***Rule***:\n",
    "\n",
    " > In the expression `R ← ⍸Y`:\n",
    " >\n",
    " > - `Y` must be a simple Boolean vector or a simple numeric array with non-negative integers;\n",
    " > - `R` is a vector, regardless of the shape of `Y`;\n",
    " > - each non-negative element of `Y` has its index repeated in `R` as many times as the element's value;\n",
    " > - if `Y` only contains zeroes, `R` is an empty vector;\n",
    " > - each element of `R` can be used as `i` in `i⌷Y` to retrieve an element from `Y`.\n",
    "<!-- end -->\n",
    "\n",
    "This repetition is similar to the way *Compress* works when the left argument only contains non-negative integers:"
   ]
  },
  {
   "cell_type": "code",
   "execution_count": 290,
   "metadata": {},
   "outputs": [
    {
     "data": {
      "text/html": [
       "<span style=\"white-space:pre; font-family: monospace\">wwwdd!\n",
       "</span>"
      ]
     },
     "execution_count": 290,
     "metadata": {},
     "output_type": "execute_result"
    }
   ],
   "source": [
    "3 0 0 2 0 1 / 'words!'"
   ]
  },
  {
   "cell_type": "markdown",
   "metadata": {},
   "source": [
    "The left argument to *Compress* tells it to use the 1st element 3 times, to use the 4th element 2 times and to use the 6th element 1 time.\n",
    "\n",
    "The same argument to `⍸` returns the indices repeated as many times as they are needed:"
   ]
  },
  {
   "cell_type": "code",
   "execution_count": 291,
   "metadata": {},
   "outputs": [
    {
     "data": {
      "text/html": [
       "<span style=\"white-space:pre; font-family: monospace\">1 1 1 4 4 6\n",
       "</span>"
      ]
     },
     "execution_count": 291,
     "metadata": {},
     "output_type": "execute_result"
    }
   ],
   "source": [
    "⍸3 0 0 2 0 1"
   ]
  },
  {
   "cell_type": "markdown",
   "metadata": {},
   "source": [
    "In this case, we could even achieve the same effect as the *Compress* expression above by using `[]` indexing:"
   ]
  },
  {
   "cell_type": "code",
   "execution_count": 292,
   "metadata": {},
   "outputs": [
    {
     "data": {
      "text/html": [
       "<span style=\"white-space:pre; font-family: monospace\">wwwdd!\n",
       "</span>"
      ]
     },
     "execution_count": 292,
     "metadata": {},
     "output_type": "execute_result"
    }
   ],
   "source": [
    "'words!'[⍸3 0 0 2 0 1]"
   ]
  },
  {
   "cell_type": "markdown",
   "metadata": {},
   "source": [
    "This breaks down if we want to include negative integers in the left argument to *Compress*, which *Where* doesn't support.\n",
    "\n",
    "In fact, if the argument array contains negative integers or other numbers which aren't integers, `DOMAIN ERROR`s are issued:"
   ]
  },
  {
   "cell_type": "code",
   "execution_count": 293,
   "metadata": {},
   "outputs": [
    {
     "name": "stderr",
     "output_type": "stream",
     "text": [
      "DOMAIN ERROR: Where right argument must be non-negative\n",
      "      ⍸0 0 1 0 ¯1\n",
      "      ∧\n"
     ]
    }
   ],
   "source": [
    "⍸0 0 1 0 ¯1"
   ]
  },
  {
   "cell_type": "code",
   "execution_count": 294,
   "metadata": {},
   "outputs": [
    {
     "name": "stderr",
     "output_type": "stream",
     "text": [
      "DOMAIN ERROR\n",
      "      ⍸0 0 1 0 0.3\n",
      "      ∧\n"
     ]
    }
   ],
   "source": [
    "⍸0 0 1 0 0.3"
   ]
  },
  {
   "cell_type": "markdown",
   "metadata": {},
   "source": [
    "### Comparison of *Membership*, *Index Of* and *Where*\n",
    "\n",
    "We have discovered two different techniques, using the primitive functions *Membership* and *Where*, that allow us to look up one set of values in another and to determine the positions of the items of one set in the other. Depending on the problem that we have to solve, we can choose which of the two methods will be most appropriate for the job in hand. Consider the following example:"
   ]
  },
  {
   "cell_type": "markdown",
   "metadata": {},
   "source": [
    "#### Example\n",
    "\n",
    "A company named \"Blue Hammer Inc.\" has subsidiaries in a number of countries; each country being identified by a numeric code. The country names are stored in a matrix named `countries`, and the country codes are stored in a vector named `codes`. To make things easier to read, let us show those two variables:"
   ]
  },
  {
   "cell_type": "code",
   "execution_count": 167,
   "metadata": {},
   "outputs": [
    {
     "data": {
      "text/html": [
       "<span style=\"white-space:pre; font-family: monospace\">France       \n",
       "Great Britain\n",
       "Italy        \n",
       "United States\n",
       "Belgium      \n",
       "Swiss        \n",
       "Sweden       \n",
       "Canada       \n",
       "Egypt        \n",
       "</span>"
      ]
     },
     "execution_count": 167,
     "metadata": {},
     "output_type": "execute_result"
    }
   ],
   "source": [
    "⊢countries ← 9 13⍴'France       Great BritainItaly        United StatesBelgium      Swiss        Sweden       Canada       Egypt        '"
   ]
  },
  {
   "cell_type": "code",
   "execution_count": 168,
   "metadata": {},
   "outputs": [
    {
     "data": {
      "text/html": [
       "<span style=\"white-space:pre; font-family: monospace\">50 43 12 83 64 34 66 81 37\n",
       "</span>"
      ]
     },
     "execution_count": 168,
     "metadata": {},
     "output_type": "execute_result"
    }
   ],
   "source": [
    "⊢codes ← 50 43 12 83 64 34 66 81 37"
   ]
  },
  {
   "cell_type": "markdown",
   "metadata": {},
   "source": [
    "Now let us show those two variables side by side:"
   ]
  },
  {
   "cell_type": "code",
   "execution_count": 169,
   "metadata": {},
   "outputs": [
    {
     "data": {
      "text/html": [
       "<span style=\"white-space:pre; font-family: monospace\">France        50\n",
       "Great Britain 43\n",
       "Italy         12\n",
       "United States 83\n",
       "Belgium       64\n",
       "Swiss         34\n",
       "Sweden        66\n",
       "Canada        81\n",
       "Egypt         37\n",
       "</span>"
      ]
     },
     "execution_count": 169,
     "metadata": {},
     "output_type": "execute_result"
    }
   ],
   "source": [
    "countries, codes"
   ]
  },
  {
   "cell_type": "markdown",
   "metadata": {},
   "source": [
    "So, Sweden is identified by 66 and Belgium is identified by 64.\n",
    "\n",
    "All the sales made during the last month have been recorded in two vectors:\n",
    "\n",
    " - `bhcodes` identifies in which country each sale has been made, and\n",
    " - `bhamounts` identifies the amount of each sale.\n",
    " \n",
    "Here are the two vectors:"
   ]
  },
  {
   "cell_type": "code",
   "execution_count": 171,
   "metadata": {},
   "outputs": [
    {
     "data": {
      "text/html": [
       "<span style=\"white-space:pre; font-family: monospace\">83 66 12 83 43 66 50 81 12 83 12 66\n",
       "</span>"
      ]
     },
     "execution_count": 171,
     "metadata": {},
     "output_type": "execute_result"
    }
   ],
   "source": [
    "⊢bhcodes ← 83 66 12 83 43 66 50 81 12 83 12 66"
   ]
  },
  {
   "cell_type": "code",
   "execution_count": 170,
   "metadata": {},
   "outputs": [
    {
     "data": {
      "text/html": [
       "<span style=\"white-space:pre; font-family: monospace\">609 727 458 469 463 219 431 602 519 317 663 631\n",
       "</span>"
      ]
     },
     "execution_count": 170,
     "metadata": {},
     "output_type": "execute_result"
    }
   ],
   "source": [
    "⊢bhamounts ← 609 727 458 469 463 219 431 602 519 317 663 631"
   ]
  },
  {
   "cell_type": "markdown",
   "metadata": {},
   "source": [
    "Some countries have not sold anything (Belgium, for example) whereas other countries made several sales (Italy, for example)."
   ]
  },
  {
   "cell_type": "markdown",
   "metadata": {},
   "source": [
    "#### First Question\n",
    "\n",
    "We would like to focus on some selected countries (43, 50, 37 and 66) and calculate the total amount of their sales. Let's first identify which items of `bhcodes` are relevant:"
   ]
  },
  {
   "cell_type": "code",
   "execution_count": 172,
   "metadata": {},
   "outputs": [
    {
     "data": {
      "text/html": [
       "<span style=\"white-space:pre; font-family: monospace\">0 1 0 0 1 1 1 0 0 0 0 1\n",
       "</span>"
      ]
     },
     "execution_count": 172,
     "metadata": {},
     "output_type": "execute_result"
    }
   ],
   "source": [
    "selected ← 37 43 50 66\n",
    "bhcodes ∊ selected"
   ]
  },
  {
   "cell_type": "markdown",
   "metadata": {},
   "source": [
    "Then we can apply this filter to the amounts, and add them up:"
   ]
  },
  {
   "cell_type": "code",
   "execution_count": 173,
   "metadata": {},
   "outputs": [
    {
     "data": {
      "text/html": [
       "<span style=\"white-space:pre; font-family: monospace\">727 463 219 431 631\n",
       "</span>"
      ]
     },
     "execution_count": 173,
     "metadata": {},
     "output_type": "execute_result"
    }
   ],
   "source": [
    "(bhcodes ∊ selected) / bhamounts"
   ]
  },
  {
   "cell_type": "code",
   "execution_count": 175,
   "metadata": {},
   "outputs": [
    {
     "data": {
      "text/html": [
       "<span style=\"white-space:pre; font-family: monospace\">2471\n",
       "</span>"
      ]
     },
     "execution_count": 175,
     "metadata": {},
     "output_type": "execute_result"
    }
   ],
   "source": [
    "+/ (bhcodes ∊ selected) / bhamounts"
   ]
  },
  {
   "cell_type": "markdown",
   "metadata": {},
   "source": [
    "An alternative solution is to find the **positions** of the selected countries, then using this set of indices to get the amounts, and add them. The result is, of course, the same:"
   ]
  },
  {
   "cell_type": "code",
   "execution_count": 176,
   "metadata": {},
   "outputs": [
    {
     "data": {
      "text/html": [
       "<span style=\"white-space:pre; font-family: monospace\">2471\n",
       "</span>"
      ]
     },
     "execution_count": 176,
     "metadata": {},
     "output_type": "execute_result"
    }
   ],
   "source": [
    "positions ← ⍸bhcodes ∊ selected\n",
    "+/bhamounts[positions]"
   ]
  },
  {
   "cell_type": "markdown",
   "metadata": {},
   "source": [
    "As mentioned previously in [the subsection about *Compress*](#Replicate)), it is a kind of detour to solve this task using indexing, but here it serves to illustrate the different lookup methods.\n",
    "\n",
    "Let us take a look at the selected countries and their positions in `bhcodes`:"
   ]
  },
  {
   "cell_type": "code",
   "execution_count": 177,
   "metadata": {},
   "outputs": [
    {
     "data": {
      "text/html": [
       "<span style=\"white-space:pre; font-family: monospace\">37 43 50 66\n",
       "</span>"
      ]
     },
     "execution_count": 177,
     "metadata": {},
     "output_type": "execute_result"
    }
   ],
   "source": [
    "selected"
   ]
  },
  {
   "cell_type": "code",
   "execution_count": 178,
   "metadata": {},
   "outputs": [
    {
     "data": {
      "text/html": [
       "<span style=\"white-space:pre; font-family: monospace\">2 5 6 7 12\n",
       "</span>"
      ]
     },
     "execution_count": 178,
     "metadata": {},
     "output_type": "execute_result"
    }
   ],
   "source": [
    "positions"
   ]
  },
  {
   "cell_type": "markdown",
   "metadata": {},
   "source": [
    "Using *Membership*, we have obtained `positions` which contains 5 items for the 4 countries in `selected`. What does it tell us?\n",
    "\n",
    " - `positions` contains the indices of *all* of the occurrences of the selected countries in the list of sales;\n",
    " - however, the items in `positions` do not correspond to the items in `selected` on a one-to-one basis; we cannot say that country #43 is in position 2, or country #50 in position 5, and so on;\n",
    " - it does not tell us that nothing was sold in country #37. Perhaps it would have been a good idea to identify this?"
   ]
  },
  {
   "cell_type": "markdown",
   "metadata": {},
   "source": [
    "#### Second Question\n",
    "\n",
    "Now, let us suppose that we want to display the names of the selected countries. To do this, we must determine the positions of the selected country codes in the entire list of country codes, and get the corresponding names.\n",
    "\n",
    "If we use the *Membership* approach, here is what we get:"
   ]
  },
  {
   "cell_type": "code",
   "execution_count": 179,
   "metadata": {},
   "outputs": [
    {
     "data": {
      "text/html": [
       "<span style=\"white-space:pre; font-family: monospace\">37 43 50 66\n",
       "</span>"
      ]
     },
     "execution_count": 179,
     "metadata": {},
     "output_type": "execute_result"
    }
   ],
   "source": [
    "selected"
   ]
  },
  {
   "cell_type": "code",
   "execution_count": 181,
   "metadata": {},
   "outputs": [
    {
     "data": {
      "text/html": [
       "<span style=\"white-space:pre; font-family: monospace\">France        37\n",
       "Great Britain 43\n",
       "Sweden        50\n",
       "Egypt         66\n",
       "</span>"
      ]
     },
     "execution_count": 181,
     "metadata": {},
     "output_type": "execute_result"
    }
   ],
   "source": [
    "positions ← ⍸codes ∊ selected\n",
    "countries[positions;] , selected"
   ]
  },
  {
   "cell_type": "markdown",
   "metadata": {},
   "source": [
    "(As a side note, above we concatenated a character matrix with a numeric vector, so the result is a *Mixed* matrix)\n",
    "\n",
    "At first sight, this **seems** to be good: all the selected countries are displayed. However, they are not in the correct order: France is not 37, Sweden is not 50 and Egypt is not 66.\n",
    "\n",
    "The problem with this method is the lack of a one-to-one correspondence between the selected countries and their positions in the list of sales. The positions will always be in the order that the countries appear in `countries` - because of `⍸`. However, the Boolean vector `codes ∊ selected` is completely independent of the order of the items in `selected`: the expression returns the same result no matter how `selected` is ordered.\n",
    "\n",
    "The correct method to use in order to solve this task is to use the *Index Of* function (dyadic Iota):"
   ]
  },
  {
   "cell_type": "code",
   "execution_count": 182,
   "metadata": {},
   "outputs": [
    {
     "data": {
      "text/html": [
       "<span style=\"white-space:pre; font-family: monospace\">Egypt         37\n",
       "Great Britain 43\n",
       "France        50\n",
       "Sweden        66\n",
       "</span>"
      ]
     },
     "execution_count": 182,
     "metadata": {},
     "output_type": "execute_result"
    }
   ],
   "source": [
    "positions ← codes ⍳ selected\n",
    "countries[positions;] , selected"
   ]
  },
  {
   "cell_type": "markdown",
   "metadata": {},
   "source": [
    "It is the one-to-one relationship between the items of the right argument to *Index Of* (`selected`) and the items of its result (`positions`) that guarantees a correct result."
   ]
  },
  {
   "cell_type": "markdown",
   "metadata": {},
   "source": [
    "#### Comparison\n",
    "\n",
    "The following table summarises the most important properties of the two methods:\n",
    "\n",
    "| Method | Properties |\n",
    "| :- | :- |\n",
    "| `pos ← ⍸list ∊ data` | the items in `pos` do not have a 1-to-1 correspondence with the items in `data` |\n",
    "| | instead, the items in `pos` correspond to the items in `list` |\n",
    "| | `pos` gives all the positions of multiple occurrences of `list` in `data` |\n",
    "| | `pos` does not explicitly identify missing values |\n",
    "| `pos ← list ⍳ data` | the items in `pos` **do** have a 1-to-1 correspondence with the items in `data` |\n",
    "| | `pos` ignores multiple occurrences; just gives the first |\n",
    "| | `pos` identifies missing values |\n",
    "\n",
    "The choice of method depends on the kind of problem you want to solve."
   ]
  },
  {
   "cell_type": "markdown",
   "metadata": {},
   "source": [
    "## Index Generator\n",
    "\n",
    "### Basic Usage\n",
    "\n",
    "When used as a monadic function, the symbol *Iota* generates a vector of the first `N` positive integers. It is called ***Index Generator***."
   ]
  },
  {
   "cell_type": "code",
   "execution_count": 309,
   "metadata": {},
   "outputs": [
    {
     "data": {
      "text/html": [
       "<span style=\"white-space:pre; font-family: monospace\">1 2 3 4 5 6 7 8 9\n",
       "</span>"
      ]
     },
     "execution_count": 309,
     "metadata": {},
     "output_type": "execute_result"
    }
   ],
   "source": [
    "⍳9"
   ]
  },
  {
   "cell_type": "markdown",
   "metadata": {},
   "source": [
    "If we have to extract the first 12 items of a vector `contents`, we can write:"
   ]
  },
  {
   "cell_type": "code",
   "execution_count": 183,
   "metadata": {},
   "outputs": [
    {
     "data": {
      "text/html": [
       "<span style=\"white-space:pre; font-family: monospace\">12 56 78 74 85 96 30 22 44 66 82 27\n",
       "</span>"
      ]
     },
     "execution_count": 183,
     "metadata": {},
     "output_type": "execute_result"
    }
   ],
   "source": [
    "contents[1 2 3 4 5 6 7 8 9 10 11 12]"
   ]
  },
  {
   "cell_type": "markdown",
   "metadata": {},
   "source": [
    "It is, of course, much easier to write"
   ]
  },
  {
   "cell_type": "code",
   "execution_count": 184,
   "metadata": {},
   "outputs": [
    {
     "data": {
      "text/html": [
       "<span style=\"white-space:pre; font-family: monospace\">12 56 78 74 85 96 30 22 44 66 82 27\n",
       "</span>"
      ]
     },
     "execution_count": 184,
     "metadata": {},
     "output_type": "execute_result"
    }
   ],
   "source": [
    "contents[⍳12]"
   ]
  },
  {
   "cell_type": "markdown",
   "metadata": {},
   "source": [
    "The result can be combined with simple arithmetic operations. For example, supposed we need to produce the following list of 6 values: 115 122 129 136 143 150 (note the increments of 7). We can do this as follows:"
   ]
  },
  {
   "cell_type": "code",
   "execution_count": 312,
   "metadata": {},
   "outputs": [
    {
     "data": {
      "text/html": [
       "<span style=\"white-space:pre; font-family: monospace\">1 2 3 4 5 6\n",
       "</span>"
      ]
     },
     "execution_count": 312,
     "metadata": {},
     "output_type": "execute_result"
    }
   ],
   "source": [
    "⍳6"
   ]
  },
  {
   "cell_type": "code",
   "execution_count": 313,
   "metadata": {},
   "outputs": [
    {
     "data": {
      "text/html": [
       "<span style=\"white-space:pre; font-family: monospace\">0 1 2 3 4 5\n",
       "</span>"
      ]
     },
     "execution_count": 313,
     "metadata": {},
     "output_type": "execute_result"
    }
   ],
   "source": [
    "(⍳6)-1"
   ]
  },
  {
   "cell_type": "code",
   "execution_count": 314,
   "metadata": {},
   "outputs": [
    {
     "data": {
      "text/html": [
       "<span style=\"white-space:pre; font-family: monospace\">0 7 14 21 28 35\n",
       "</span>"
      ]
     },
     "execution_count": 314,
     "metadata": {},
     "output_type": "execute_result"
    }
   ],
   "source": [
    "7×(⍳6)-1"
   ]
  },
  {
   "cell_type": "code",
   "execution_count": 315,
   "metadata": {},
   "outputs": [
    {
     "data": {
      "text/html": [
       "<span style=\"white-space:pre; font-family: monospace\">115 122 129 136 143 150\n",
       "</span>"
      ]
     },
     "execution_count": 315,
     "metadata": {},
     "output_type": "execute_result"
    }
   ],
   "source": [
    "115+7×(⍳6)-1"
   ]
  },
  {
   "cell_type": "markdown",
   "metadata": {},
   "source": [
    "More generally, any arithmetic series of integers can be produced by the following algorithm:\n",
    "\n",
    "<!-- begin algorithm -->\n",
    "***Algorithm***:\n",
    "\n",
    " > `r ← origin + step × (⍳length) - 1`\n",
    "<!-- end -->\n",
    "\n",
    "<!-- begin Special Case style=note -->\n",
    "***Special case***:\n",
    "\n",
    "If `⍳n` gives a vector of length `n`, then `⍳0` should give a vector of length `0`, right? A vector having length 0 is an empty vector. In particular, this will be a *numeric* empty vector.\n",
    "<!-- end -->\n",
    "\n",
    "Let us check:"
   ]
  },
  {
   "cell_type": "code",
   "execution_count": 316,
   "metadata": {},
   "outputs": [
    {
     "data": {
      "text/html": [
       "<span style=\"white-space:pre; font-family: monospace\">\n",
       "</span>"
      ]
     },
     "execution_count": 316,
     "metadata": {},
     "output_type": "execute_result"
    }
   ],
   "source": [
    "⍳0"
   ]
  },
  {
   "cell_type": "markdown",
   "metadata": {},
   "source": [
    "Nothing gets displayed above, so it does look like the numeric empty vector `⍬`, which we can confirm with *Match*:"
   ]
  },
  {
   "cell_type": "code",
   "execution_count": 317,
   "metadata": {},
   "outputs": [
    {
     "data": {
      "text/html": [
       "<span style=\"white-space:pre; font-family: monospace\">1\n",
       "</span>"
      ]
     },
     "execution_count": 317,
     "metadata": {},
     "output_type": "execute_result"
    }
   ],
   "source": [
    "⍬≡⍳0"
   ]
  },
  {
   "cell_type": "markdown",
   "metadata": {},
   "source": [
    "This was useful in early versions of APL, before the introduction of the *Zilde* symbol (`⍬`).\n",
    "\n",
    "The definition of `⍳n` given above reflects only a limited part of what this function can do; you will find more information in [the *Specialist's Section*](#The-Specialist's-Section) at the end of this chapter."
   ]
  },
  {
   "cell_type": "markdown",
   "metadata": {},
   "source": [
    "### Application 5\n",
    "\n",
    "Sometimes, a programmer needs to remove duplicate items from a vector and there is a well-known idiomatic way to do this. The idiom applies equally to numeric, character and nested vectors. Let us begin with a numeric vector:"
   ]
  },
  {
   "cell_type": "code",
   "execution_count": 185,
   "metadata": {},
   "outputs": [],
   "source": [
    "vec ← 12 89 57 46 12 50 36 47 83 46 27 12"
   ]
  },
  {
   "cell_type": "markdown",
   "metadata": {},
   "source": [
    "The algorithm is based on the comparison of two vectors:"
   ]
  },
  {
   "cell_type": "code",
   "execution_count": 186,
   "metadata": {},
   "outputs": [
    {
     "data": {
      "text/html": [
       "<span style=\"white-space:pre; font-family: monospace\">1 2 3 4 5 6 7 8 9 10 11 12\n",
       "</span>"
      ]
     },
     "execution_count": 186,
     "metadata": {},
     "output_type": "execute_result"
    }
   ],
   "source": [
    "⍳≢vec"
   ]
  },
  {
   "cell_type": "markdown",
   "metadata": {},
   "source": [
    "which gives the position of each item of `vec`, and"
   ]
  },
  {
   "cell_type": "code",
   "execution_count": 187,
   "metadata": {},
   "outputs": [
    {
     "data": {
      "text/html": [
       "<span style=\"white-space:pre; font-family: monospace\">1 2 3 4 1 6 7 8 9 4 11 1\n",
       "</span>"
      ]
     },
     "execution_count": 187,
     "metadata": {},
     "output_type": "execute_result"
    }
   ],
   "source": [
    "vec⍳vec"
   ]
  },
  {
   "cell_type": "markdown",
   "metadata": {},
   "source": [
    "which identifies the first index in `vec` in which each element of `vec` is found. This may be a bit more complex to understand, so take your time to digest it. We are using `⍳` to identify the positions of the items of `vec` in `vec` itself. But because *Index Of* only returns the first occurrences, we get, for each item, the position where this value appears for the first time.\n",
    "\n",
    "If we then compare these two vectors, we get a Boolean vector indicating which items of `vec` are their first occurrences and which are repetitions:"
   ]
  },
  {
   "cell_type": "code",
   "execution_count": 188,
   "metadata": {},
   "outputs": [
    {
     "data": {
      "text/html": [
       "<span style=\"white-space:pre; font-family: monospace\">1 1 1 1 0 1 1 1 1 0 1 0\n",
       "</span>"
      ]
     },
     "execution_count": 188,
     "metadata": {},
     "output_type": "execute_result"
    }
   ],
   "source": [
    "(⍳≢vec)=vec⍳vec"
   ]
  },
  {
   "cell_type": "markdown",
   "metadata": {},
   "source": [
    "Finally, we can use *Compress* to keep only the first occurrences, so that the algorithm is as follows:\n",
    "\n",
    "<!-- begin algorithm -->\n",
    "***Algorithm***:\n",
    "\n",
    " > `((⍳≢vector) = vector ⍳ vector) / vector`\n",
    "<!-- end -->"
   ]
  },
  {
   "cell_type": "code",
   "execution_count": 189,
   "metadata": {},
   "outputs": [
    {
     "data": {
      "text/html": [
       "<span style=\"white-space:pre; font-family: monospace\">12 89 57 46 50 36 47 83 27\n",
       "</span>"
      ]
     },
     "execution_count": 189,
     "metadata": {},
     "output_type": "execute_result"
    }
   ],
   "source": [
    "((⍳≢vec)=vec⍳vec)/vec"
   ]
  },
  {
   "cell_type": "markdown",
   "metadata": {},
   "source": [
    "The result above has *no* duplicates.\n",
    "\n",
    "It also works on character arrays and on nested arrays:"
   ]
  },
  {
   "cell_type": "code",
   "execution_count": 190,
   "metadata": {},
   "outputs": [
    {
     "data": {
      "text/html": [
       "<span style=\"white-space:pre; font-family: monospace\">Al menarctdqu\n",
       "</span>"
      ]
     },
     "execution_count": 190,
     "metadata": {},
     "output_type": "execute_result"
    }
   ],
   "source": [
    "text ← 'All men are created equal'\n",
    "((⍳≢text)=text⍳text)/text"
   ]
  },
  {
   "cell_type": "code",
   "execution_count": 191,
   "metadata": {},
   "outputs": [
    {
     "data": {
      "text/html": [
       "<span style=\"white-space:pre; font-family: monospace\">┌───┬─┬───┬─┬────┬────┬────┬─┬───┬───┬───┬───┐\n",
       "│one│1│1 2│9│nine│five│nine│1│two│1 2│two│one│\n",
       "│   │ │3 4│ │    │    │    │ │   │3 4│   │   │\n",
       "└───┴─┴───┴─┴────┴────┴────┴─┴───┴───┴───┴───┘\n",
       "</span>"
      ]
     },
     "execution_count": 191,
     "metadata": {},
     "output_type": "execute_result"
    }
   ],
   "source": [
    "⊢nested ← 'one' 1 (2 2⍴⍳4) 9 'nine' 'five' 'nine' 1 'two' (2 2⍴⍳4) 'two' 'one'"
   ]
  },
  {
   "cell_type": "code",
   "execution_count": 192,
   "metadata": {},
   "outputs": [
    {
     "data": {
      "text/html": [
       "<span style=\"white-space:pre; font-family: monospace\">┌───┬─┬───┬─┬────┬────┬───┐\n",
       "│one│1│1 2│9│nine│five│two│\n",
       "│   │ │3 4│ │    │    │   │\n",
       "└───┴─┴───┴─┴────┴────┴───┘\n",
       "</span>"
      ]
     },
     "execution_count": 192,
     "metadata": {},
     "output_type": "execute_result"
    }
   ],
   "source": [
    "((⍳≢nested)=nested⍳nested)/nested"
   ]
  },
  {
   "cell_type": "markdown",
   "metadata": {},
   "source": [
    "#### Unique\n",
    "\n",
    "Although still useful as an example, the idiom described above is now completely obsolete, because there is a primitive function in APL that does exactly this.\n",
    "\n",
    "The primitive, called ***Unique***, is represented by the symbol `∪` (<kbd>APL</kbd>+<kbd>v</kbd>) used as a monadic function:"
   ]
  },
  {
   "cell_type": "code",
   "execution_count": 326,
   "metadata": {},
   "outputs": [
    {
     "data": {
      "text/html": [
       "<span style=\"white-space:pre; font-family: monospace\">12 89 57 46 50 36 47 83 27\n",
       "</span>"
      ]
     },
     "execution_count": 326,
     "metadata": {},
     "output_type": "execute_result"
    }
   ],
   "source": [
    "∪ vec"
   ]
  },
  {
   "cell_type": "code",
   "execution_count": 327,
   "metadata": {},
   "outputs": [
    {
     "data": {
      "text/html": [
       "<span style=\"white-space:pre; font-family: monospace\">Al menarctdqu\n",
       "</span>"
      ]
     },
     "execution_count": 327,
     "metadata": {},
     "output_type": "execute_result"
    }
   ],
   "source": [
    "∪ text"
   ]
  },
  {
   "cell_type": "code",
   "execution_count": 193,
   "metadata": {},
   "outputs": [
    {
     "data": {
      "text/html": [
       "<span style=\"white-space:pre; font-family: monospace\">┌───┬─┬───┬─┬────┬────┬───┐\n",
       "│one│1│1 2│9│nine│five│two│\n",
       "│   │ │3 4│ │    │    │   │\n",
       "└───┴─┴───┴─┴────┴────┴───┘\n",
       "</span>"
      ]
     },
     "execution_count": 193,
     "metadata": {},
     "output_type": "execute_result"
    }
   ],
   "source": [
    "∪ nested"
   ]
  },
  {
   "cell_type": "markdown",
   "metadata": {},
   "source": [
    "The symbol `∪` is the mathematical symbol for set union and we will see this is *not* a coincidence."
   ]
  },
  {
   "cell_type": "markdown",
   "metadata": {},
   "source": [
    "### Application 6\n",
    "\n",
    "Some applications of *Index Generator* are extremely basic, but so useful! Suppose that you invest a certain sum of money, €6,000 for example, and you expect an interest rate of 4% p.a.. How is the investment expected to grow in the next 5 years?\n",
    "\n",
    "We will have to calculate 1.04 to the power of 0, 1, 2, 3 and 4. The *Index Generator* will help us:"
   ]
  },
  {
   "cell_type": "code",
   "execution_count": 329,
   "metadata": {},
   "outputs": [
    {
     "data": {
      "text/html": [
       "<span style=\"white-space:pre; font-family: monospace\">6000 6240 6489.6 6749.18 7019.15 7299.92\n",
       "</span>"
      ]
     },
     "execution_count": 329,
     "metadata": {},
     "output_type": "execute_result"
    }
   ],
   "source": [
    "6000×1.04*(⍳6)-1"
   ]
  },
  {
   "cell_type": "markdown",
   "metadata": {},
   "source": [
    "## Ravel\n",
    "\n",
    "The function ***Ravel*** is represented by the monadic use of comma (`,`). Applied to any array, it returns all its items as a vector.\n",
    "\n",
    "Naturally, if the array is already a vector, *Ravel* does not change anything.\n",
    "\n",
    "Let us see how it works on some matrices."
   ]
  },
  {
   "cell_type": "code",
   "execution_count": 194,
   "metadata": {},
   "outputs": [
    {
     "data": {
      "text/html": [
       "<span style=\"white-space:pre; font-family: monospace\">73  16 42\n",
       "50   2 67\n",
       "11  81 37\n",
       "93 100 98\n",
       "83  32 76\n",
       "51  37 15\n",
       "</span>"
      ]
     },
     "execution_count": 194,
     "metadata": {},
     "output_type": "execute_result"
    }
   ],
   "source": [
    "⎕RL ← 73\n",
    "⊢tests ← ?6 3⍴100"
   ]
  },
  {
   "cell_type": "code",
   "execution_count": 331,
   "metadata": {},
   "outputs": [
    {
     "data": {
      "text/html": [
       "<span style=\"white-space:pre; font-family: monospace\">73 16 42 50 2 67 11 81 37 93 100 98 83 32 76 51 37 15\n",
       "</span>"
      ]
     },
     "execution_count": 331,
     "metadata": {},
     "output_type": "execute_result"
    }
   ],
   "source": [
    ",tests"
   ]
  },
  {
   "cell_type": "markdown",
   "metadata": {},
   "source": [
    "The items of the matrix have been strung out and returned as a vector, row by row."
   ]
  },
  {
   "cell_type": "code",
   "execution_count": 332,
   "metadata": {},
   "outputs": [
    {
     "data": {
      "text/html": [
       "<span style=\"white-space:pre; font-family: monospace\">H2SO4\n",
       "CaCO3\n",
       "Fe2O3\n",
       "</span>"
      ]
     },
     "execution_count": 332,
     "metadata": {},
     "output_type": "execute_result"
    }
   ],
   "source": [
    "chemistry"
   ]
  },
  {
   "cell_type": "code",
   "execution_count": 333,
   "metadata": {},
   "outputs": [
    {
     "data": {
      "text/html": [
       "<span style=\"white-space:pre; font-family: monospace\">H2SO4CaCO3Fe2O3\n",
       "</span>"
      ]
     },
     "execution_count": 333,
     "metadata": {},
     "output_type": "execute_result"
    }
   ],
   "source": [
    ",chemistry"
   ]
  },
  {
   "cell_type": "markdown",
   "metadata": {},
   "source": [
    "A common use of ***Ravel*** is to transform a scalar into a 1-item vector. The difference between a scalar and a 1-item vector is not readily obvious, until you use it as an index into a matrix.\n",
    "\n",
    "Suppose that you need to select a particular set of columns `cols` from the matrix `forecast`. As long as `cols` contains more than one value, the result will be a matrix:"
   ]
  },
  {
   "cell_type": "code",
   "execution_count": 195,
   "metadata": {},
   "outputs": [
    {
     "data": {
      "text/html": [
       "<span style=\"white-space:pre; font-family: monospace\"> 90 500  30\n",
       "110 370 360\n",
       "340 120 370\n",
       "150 520 280\n",
       "</span>"
      ]
     },
     "execution_count": 195,
     "metadata": {},
     "output_type": "execute_result"
    }
   ],
   "source": [
    "cols ← 1 4 6\n",
    "forecast[;cols]"
   ]
  },
  {
   "cell_type": "markdown",
   "metadata": {},
   "source": [
    "But if `cols` happens to have only a single value, which is a scalar, the result returned is a vector (we already mentioned this in [the subsection on \"Array Indexing\"](./Data-and-Variables.ipynb#Array-Indexing)):"
   ]
  },
  {
   "cell_type": "code",
   "execution_count": 196,
   "metadata": {},
   "outputs": [
    {
     "data": {
      "text/html": [
       "<span style=\"white-space:pre; font-family: monospace\">500 370 120 520\n",
       "</span>"
      ]
     },
     "execution_count": 196,
     "metadata": {},
     "output_type": "execute_result"
    }
   ],
   "source": [
    "cols ← 4\n",
    "forecast[;cols]"
   ]
  },
  {
   "cell_type": "markdown",
   "metadata": {},
   "source": [
    "The rank of the result may be critical if some other expression in your program expects a matrix.\n",
    "\n",
    "To make certain that your indexing expression always returns a matrix, you must ensure that your index will always be a vector by using *Ravel*:"
   ]
  },
  {
   "cell_type": "code",
   "execution_count": 197,
   "metadata": {},
   "outputs": [
    {
     "data": {
      "text/html": [
       "<span style=\"white-space:pre; font-family: monospace\">500\n",
       "370\n",
       "120\n",
       "520\n",
       "</span>"
      ]
     },
     "execution_count": 197,
     "metadata": {},
     "output_type": "execute_result"
    }
   ],
   "source": [
    "forecast[;,cols]"
   ]
  },
  {
   "cell_type": "markdown",
   "metadata": {},
   "source": [
    "With `,cols`, whatever the rank of `cols` is, the result will always be a matrix.\n",
    "\n",
    "*Ravel* can be associated with an *Axis* specifier; this will be discussed in [the *Specialist's Section*](#Ravel-With-Axis)."
   ]
  },
  {
   "cell_type": "markdown",
   "metadata": {},
   "source": [
    "## Empty Vectors and Black Holes\n",
    "\n",
    "When we apply a scalar dyadic function to a vector and a scalar, the rule is that the result has the same size as the vector:"
   ]
  },
  {
   "cell_type": "code",
   "execution_count": 337,
   "metadata": {},
   "outputs": [
    {
     "data": {
      "text/html": [
       "<span style=\"white-space:pre; font-family: monospace\">52 85 96 41\n",
       "</span>"
      ]
     },
     "execution_count": 337,
     "metadata": {},
     "output_type": "execute_result"
    }
   ],
   "source": [
    "42 75 86 31 + 10"
   ]
  },
  {
   "cell_type": "markdown",
   "metadata": {},
   "source": [
    "Above, a scalar added to a 4-item vector gives a 4-item vector, too.\n",
    "\n",
    "Below, a 7-item vector compared to a scalar gives a 7-item vector:"
   ]
  },
  {
   "cell_type": "code",
   "execution_count": 338,
   "metadata": {},
   "outputs": [
    {
     "data": {
      "text/html": [
       "<span style=\"white-space:pre; font-family: monospace\">1 0 1 1 0 0 0\n",
       "</span>"
      ]
     },
     "execution_count": 338,
     "metadata": {},
     "output_type": "execute_result"
    }
   ],
   "source": [
    "'MAMMOTH' = 'M'"
   ]
  },
  {
   "cell_type": "markdown",
   "metadata": {},
   "source": [
    "But what happens if the vector is empty? The rule says that the result must have the same size as the vector: therefore it should be empty, too, regardless of the (scalar) function that we used!"
   ]
  },
  {
   "cell_type": "code",
   "execution_count": 198,
   "metadata": {},
   "outputs": [
    {
     "data": {
      "text/html": [
       "<span style=\"white-space:pre; font-family: monospace\">\n",
       "</span>"
      ]
     },
     "execution_count": 198,
     "metadata": {},
     "output_type": "execute_result"
    }
   ],
   "source": [
    "hole ← ⍬\n",
    "hole + 3"
   ]
  },
  {
   "cell_type": "markdown",
   "metadata": {},
   "source": [
    "Notice how nothing is displayed above: the result is empty.\n",
    "\n",
    "The same thing happens if we multiply by 100, for example:"
   ]
  },
  {
   "cell_type": "code",
   "execution_count": 199,
   "metadata": {},
   "outputs": [
    {
     "data": {
      "text/html": [
       "<span style=\"white-space:pre; font-family: monospace\">\n",
       "</span>"
      ]
     },
     "execution_count": 199,
     "metadata": {},
     "output_type": "execute_result"
    }
   ],
   "source": [
    "hole × 100"
   ]
  },
  {
   "cell_type": "code",
   "execution_count": 341,
   "metadata": {},
   "outputs": [
    {
     "data": {
      "text/html": [
       "<span style=\"white-space:pre; font-family: monospace\">\n",
       "</span>"
      ]
     },
     "execution_count": 341,
     "metadata": {},
     "output_type": "execute_result"
    }
   ],
   "source": [
    "Hole = 0"
   ]
  },
  {
   "cell_type": "code",
   "execution_count": 200,
   "metadata": {},
   "outputs": [
    {
     "data": {
      "text/html": [
       "<span style=\"white-space:pre; font-family: monospace\">\n",
       "</span>"
      ]
     },
     "execution_count": 200,
     "metadata": {},
     "output_type": "execute_result"
    }
   ],
   "source": [
    "hole = hole"
   ]
  },
  {
   "cell_type": "code",
   "execution_count": 343,
   "metadata": {},
   "outputs": [
    {
     "data": {
      "text/html": [
       "<span style=\"white-space:pre; font-family: monospace\">0\n",
       "</span>"
      ]
     },
     "execution_count": 343,
     "metadata": {},
     "output_type": "execute_result"
    }
   ],
   "source": [
    "⍴hole"
   ]
  },
  {
   "cell_type": "code",
   "execution_count": 201,
   "metadata": {},
   "outputs": [
    {
     "data": {
      "text/html": [
       "<span style=\"white-space:pre; font-family: monospace\">1\n",
       "</span>"
      ]
     },
     "execution_count": 201,
     "metadata": {},
     "output_type": "execute_result"
    }
   ],
   "source": [
    "hole ≡ ⍬"
   ]
  },
  {
   "cell_type": "markdown",
   "metadata": {},
   "source": [
    "If you were working on the terminal and getting all these empty results, you could compare `hole` to `⍬` with *Match* and conclude `hole` is an empty numeric vector.\n",
    "\n",
    "Empty vectors look very much like black holes: they absorb everything (but only when used with scalar functions). This may lead to some unexpected results."
   ]
  },
  {
   "cell_type": "markdown",
   "metadata": {},
   "source": [
    "### Not All Empty Vectors Are Created Equal\n",
    "\n",
    "Something that might throw off new APLers is the fact that there are infinitely many different empty vectors. The first two examples being `⍬` and `''`:"
   ]
  },
  {
   "cell_type": "code",
   "execution_count": 345,
   "metadata": {},
   "outputs": [
    {
     "data": {
      "text/html": [
       "<span style=\"white-space:pre; font-family: monospace\">\n",
       "</span>"
      ]
     },
     "execution_count": 345,
     "metadata": {},
     "output_type": "execute_result"
    }
   ],
   "source": [
    "⍬"
   ]
  },
  {
   "cell_type": "code",
   "execution_count": 346,
   "metadata": {},
   "outputs": [
    {
     "data": {
      "text/html": [
       "<span style=\"white-space:pre; font-family: monospace\">\n",
       "</span>"
      ]
     },
     "execution_count": 346,
     "metadata": {},
     "output_type": "execute_result"
    }
   ],
   "source": [
    "''"
   ]
  },
  {
   "cell_type": "markdown",
   "metadata": {},
   "source": [
    "They look the same when displayed as results, but they are *not* the same:"
   ]
  },
  {
   "cell_type": "code",
   "execution_count": 347,
   "metadata": {},
   "outputs": [
    {
     "data": {
      "text/html": [
       "<span style=\"white-space:pre; font-family: monospace\">0\n",
       "</span>"
      ]
     },
     "execution_count": 347,
     "metadata": {},
     "output_type": "execute_result"
    }
   ],
   "source": [
    "⍬≡''"
   ]
  },
  {
   "cell_type": "markdown",
   "metadata": {},
   "source": [
    "And this is just the tip of the iceberg. If you recall the rule for *Where* (monadic `⍸`), we know that `⍸Y` returns an empty vector if `Y` only contains 0s, but an empty vector of *what*?\n",
    "\n",
    "If `Y` contains positive integers, then the result of `⍸Y` will contain some indices that can be used to index into `Y` and the shape of those indices depends on the shape of `Y`:"
   ]
  },
  {
   "cell_type": "code",
   "execution_count": 348,
   "metadata": {},
   "outputs": [
    {
     "data": {
      "text/html": [
       "<span style=\"white-space:pre; font-family: monospace\">1 3\n",
       "</span>"
      ]
     },
     "execution_count": 348,
     "metadata": {},
     "output_type": "execute_result"
    }
   ],
   "source": [
    "⍸ 1 0 1 0"
   ]
  },
  {
   "cell_type": "code",
   "execution_count": 349,
   "metadata": {},
   "outputs": [
    {
     "data": {
      "text/html": [
       "<span style=\"white-space:pre; font-family: monospace\">┌───┬───┐\n",
       "│1 1│2 1│\n",
       "└───┴───┘\n",
       "</span>"
      ]
     },
     "execution_count": 349,
     "metadata": {},
     "output_type": "execute_result"
    }
   ],
   "source": [
    "⍸ 2 2⍴1 0 1 0"
   ]
  },
  {
   "cell_type": "markdown",
   "metadata": {},
   "source": [
    "So in the first example we see a vector with 2 integers and in the second example we see a vector with 2 vectors, each containing 2 items.\n",
    "\n",
    "If we change one of the 1s to a 0, here is what we will be getting:"
   ]
  },
  {
   "cell_type": "code",
   "execution_count": 350,
   "metadata": {},
   "outputs": [
    {
     "data": {
      "text/html": [
       "<span style=\"white-space:pre; font-family: monospace\">1\n",
       "</span>"
      ]
     },
     "execution_count": 350,
     "metadata": {},
     "output_type": "execute_result"
    }
   ],
   "source": [
    "⍸ 1 0 0 0"
   ]
  },
  {
   "cell_type": "code",
   "execution_count": 351,
   "metadata": {},
   "outputs": [
    {
     "data": {
      "text/html": [
       "<span style=\"white-space:pre; font-family: monospace\">┌───┐\n",
       "│1 1│\n",
       "└───┘\n",
       "</span>"
      ]
     },
     "execution_count": 351,
     "metadata": {},
     "output_type": "execute_result"
    }
   ],
   "source": [
    "⍸ 2 2⍴1 0 0 0"
   ]
  },
  {
   "cell_type": "markdown",
   "metadata": {},
   "source": [
    "Now we have a vector with 1 integer and a vector with 1 vector of 2 items.\n",
    "\n",
    "If we change the final 1 to a 0, we will be getting a vector with 0 integers (an empty numeric vector `⍬`) and a vector with 0 vectors of 2 items. For APL, these are *not* the same thing:"
   ]
  },
  {
   "cell_type": "code",
   "execution_count": 352,
   "metadata": {},
   "outputs": [
    {
     "data": {
      "text/html": [
       "<span style=\"white-space:pre; font-family: monospace\">\n",
       "</span>"
      ]
     },
     "execution_count": 352,
     "metadata": {},
     "output_type": "execute_result"
    }
   ],
   "source": [
    "⍸ 0 0 0 0"
   ]
  },
  {
   "cell_type": "code",
   "execution_count": 353,
   "metadata": {},
   "outputs": [
    {
     "data": {
      "text/html": [
       "<span style=\"white-space:pre; font-family: monospace\">1\n",
       "</span>"
      ]
     },
     "execution_count": 353,
     "metadata": {},
     "output_type": "execute_result"
    }
   ],
   "source": [
    "⍬≡⍸ 0 0 0 0"
   ]
  },
  {
   "cell_type": "code",
   "execution_count": 354,
   "metadata": {},
   "outputs": [
    {
     "data": {
      "text/html": [
       "<span style=\"white-space:pre; font-family: monospace\">\n",
       "\n",
       "\n",
       "</span>"
      ]
     },
     "execution_count": 354,
     "metadata": {},
     "output_type": "execute_result"
    }
   ],
   "source": [
    "⍸ 2 2⍴0 0 0 0"
   ]
  },
  {
   "cell_type": "code",
   "execution_count": 355,
   "metadata": {},
   "outputs": [
    {
     "data": {
      "text/html": [
       "<span style=\"white-space:pre; font-family: monospace\">0\n",
       "</span>"
      ]
     },
     "execution_count": 355,
     "metadata": {},
     "output_type": "execute_result"
    }
   ],
   "source": [
    "⍬≡⍸ 2 2⍴0 0 0 0        ⍝ different empty vectors"
   ]
  },
  {
   "cell_type": "markdown",
   "metadata": {},
   "source": [
    "<!-- begin tip -->\n",
    "***Tip***:\n",
    "\n",
    " > When you are dealing with empty vectors, you can use the incantation `⎕SE.Dyalog.Utils.repObj` to inspect their actual shape.\n",
    "<!-- end -->\n",
    "\n",
    "To illustrate this incantation, we will see what it returns for the empty vectors we saw above:"
   ]
  },
  {
   "cell_type": "code",
   "execution_count": 356,
   "metadata": {},
   "outputs": [
    {
     "data": {
      "text/html": [
       "<span style=\"white-space:pre; font-family: monospace\">''\n",
       "</span>"
      ]
     },
     "execution_count": 356,
     "metadata": {},
     "output_type": "execute_result"
    }
   ],
   "source": [
    "⎕SE.Dyalog.Utils.repObj ''"
   ]
  },
  {
   "cell_type": "code",
   "execution_count": 357,
   "metadata": {
    "scrolled": true
   },
   "outputs": [
    {
     "data": {
      "text/html": [
       "<span style=\"white-space:pre; font-family: monospace\">⍬\n",
       "</span>"
      ]
     },
     "execution_count": 357,
     "metadata": {},
     "output_type": "execute_result"
    }
   ],
   "source": [
    "⎕SE.Dyalog.Utils.repObj ⍬"
   ]
  },
  {
   "cell_type": "code",
   "execution_count": 358,
   "metadata": {},
   "outputs": [
    {
     "data": {
      "text/html": [
       "<span style=\"white-space:pre; font-family: monospace\">⍬\n",
       "</span>"
      ]
     },
     "execution_count": 358,
     "metadata": {},
     "output_type": "execute_result"
    }
   ],
   "source": [
    "⎕SE.Dyalog.Utils.repObj ⍸ 0 0 0 0"
   ]
  },
  {
   "cell_type": "code",
   "execution_count": 359,
   "metadata": {},
   "outputs": [
    {
     "data": {
      "text/html": [
       "<span style=\"white-space:pre; font-family: monospace\">0⍴⊂2⍴0\n",
       "</span>"
      ]
     },
     "execution_count": 359,
     "metadata": {},
     "output_type": "execute_result"
    }
   ],
   "source": [
    "⎕SE.Dyalog.Utils.repObj ⍸ 2 2⍴0 0 0 0"
   ]
  },
  {
   "cell_type": "markdown",
   "metadata": {},
   "source": [
    "What the code cell above tells us is that `⍸ 2 2⍴0 0 0 0` matches `0⍴⊂2⍴0`, which you can check by copying & pasting the result above, or using <kbd>APL</kbd>+<kbd>z</kbd> to type `⊂`:"
   ]
  },
  {
   "cell_type": "code",
   "execution_count": 360,
   "metadata": {},
   "outputs": [
    {
     "data": {
      "text/html": [
       "<span style=\"white-space:pre; font-family: monospace\">1\n",
       "</span>"
      ]
     },
     "execution_count": 360,
     "metadata": {},
     "output_type": "execute_result"
    }
   ],
   "source": [
    "(0⍴⊂2⍴0)≡(⍸ 2 2⍴0 0 0 0)"
   ]
  },
  {
   "cell_type": "markdown",
   "metadata": {},
   "source": [
    "(You will learn about what `⊂` does in a future chapter, don't worry.)\n",
    "\n",
    "![](res/Hierarchy.png)"
   ]
  },
  {
   "cell_type": "markdown",
   "metadata": {},
   "source": [
    "## Exercises\n",
    "\n",
    "<!-- begin warning -->\n",
    "***Warning***\n",
    "\n",
    " > *The following exercises are designed to train **you**, not the computer.*\n",
    " >\n",
    " > *For this reason, we suggest that you try to answer them on a sheet of paper, not on your computer. When you are sure of your answer, you can test it on the computer.*\n",
    "<!-- end -->\n",
    "\n",
    "**Exercise 1**:\n",
    "\n",
    "Can you evaluate the following expressions?\n",
    "\n",
    "```APL\n",
    "3 × 2 + 6 ≠ 3 × 2\n",
    "12 6 27 ⌊ 11 + ⍳3\n",
    "4 5 6 ⌈ 4 + 2 5 9 > 1 6 8\n",
    "7 ⌊ 25 6 17 - (2 × 3) + 9 3 5\n",
    "((8 + 6) × 2 + 1) × 3 - 6 ÷ 3\n",
    "(⍴4⌈5) + 4⌈5\n",
    "1 ⊢ 2 ⊣ 3 ⊢ 4 ⊣ 5 ⊢ 6 ⊣ 7\n",
    "1 ⊣ 2 ⊢ 3 ⊣ 4 ⊢ 5 ⊣ 6 ⊢ 7\n",
    "1 2 3 ⊢ 4 5 6\n",
    "```"
   ]
  },
  {
   "cell_type": "markdown",
   "metadata": {},
   "source": [
    "**Exercise 2**:\n",
    "\n",
    "Try to evaluate the following expressions. *Be careful*: they are not as simple as might first appear!\n",
    "\n",
    "```APL\n",
    "2 2+2 2\n",
    "2+2 2+2\n",
    "2+2,2+2\n",
    "2,2+2,2\n",
    "```"
   ]
  },
  {
   "cell_type": "markdown",
   "metadata": {},
   "source": [
    "**Exercise 3**:\n",
    "\n",
    "Given the vector `a ← 8 2 7 5`, compare the results obtained from the following sets of expressions:\n",
    "\n",
    "```APL\n",
    "1+⍴a\n",
    "⍴a+1\n",
    "```\n",
    "\n",
    "and also\n",
    "\n",
    "```APL\n",
    "1+⍳⍴a\n",
    "⍳¯1+⍴a\n",
    "⍳⍴a-1\n",
    "```"
   ]
  },
  {
   "cell_type": "markdown",
   "metadata": {},
   "source": [
    "**Exercise 4**:\n",
    "\n",
    "Using your knowledge of the order of evaluation in APL, re-write the following expressions without using parentheses.\n",
    "\n",
    "```APL\n",
    "((⍳4)-1)⌈3\n",
    "7⌊(⍳9)⌈3\n",
    "1+((⍳5)=1 4 3 2 5)×5\n",
    "```"
   ]
  },
  {
   "cell_type": "markdown",
   "metadata": {},
   "source": [
    "**Exercise 5**:\n",
    "\n",
    "Given a variable `a`, find an expression which returns the answer 1 if `a` is a scalar, and 0 if it is not."
   ]
  },
  {
   "cell_type": "markdown",
   "metadata": {},
   "source": [
    "**Exercise 6**:\n",
    "\n",
    "Given two scalars `a` and `b`, write an expressions which gives 7 if `a` is greater than or equal to `b` and 3 if `a` is smaller than `b`."
   ]
  },
  {
   "cell_type": "markdown",
   "metadata": {},
   "source": [
    "**Exercise 7**:\n",
    "\n",
    "Given two scalars `a` and `b`, find an expression which returns:\n",
    " - an empty vector, if `a` is zero, whatever the value of `b`;\n",
    " - 0, if `b` is zero, but `a` is not;\n",
    " - 3, if neither `a` nor `b` are zero."
   ]
  },
  {
   "cell_type": "markdown",
   "metadata": {},
   "source": [
    "**Exercise 8**:\n",
    "\n",
    "Unfortunately, your keyboard has been damaged and your `∧` and `∨` keys no longer work. Which other symbols could you use to replace them?\n",
    "\n",
    "You can test your solutions on these vectors:"
   ]
  },
  {
   "cell_type": "code",
   "execution_count": 202,
   "metadata": {},
   "outputs": [],
   "source": [
    "l ← 0 0 1 1\n",
    "r ← 0 1 0 1"
   ]
  },
  {
   "cell_type": "markdown",
   "metadata": {},
   "source": [
    "**Exercise 9**:\n",
    "\n",
    "Given these three vectors:"
   ]
  },
  {
   "cell_type": "code",
   "execution_count": 203,
   "metadata": {},
   "outputs": [],
   "source": [
    "g ← 1 1 1 0 0 1\n",
    "m ← 0 0 1 1 0 1\n",
    "d ← 1 0 1 0 1 0"
   ]
  },
  {
   "cell_type": "markdown",
   "metadata": {},
   "source": [
    "Evaluate the following expressions:\n",
    "\n",
    "```APL\n",
    "g∨d\n",
    "~g∧d\n",
    "~g∨~d\n",
    "d∧~g\n",
    "g∧m∨d\n",
    "(~d)∧(~g)\n",
    "(m⌈g)=(m⌊d)\n",
    "(m⌊g)≠(m⌈d)\n",
    "```"
   ]
  },
  {
   "cell_type": "markdown",
   "metadata": {},
   "source": [
    "**Exercise 10**:\n",
    "\n",
    "Evaluate the following expressions:\n",
    "\n",
    "```APL\n",
    "0 < 0 ≤ 0 = 0 ≥ 0 > 0\n",
    "'sugar' ∊ 'salt'\n",
    "11 ≠ '11'\n",
    "'14' ⍳ '41'\n",
    "```"
   ]
  },
  {
   "cell_type": "markdown",
   "metadata": {},
   "source": [
    "**Exercise 11**:\n",
    "\n",
    "Write an expression to compute the number of times the letter \"e\" appears in a character vector. You can test it with this vector:"
   ]
  },
  {
   "cell_type": "code",
   "execution_count": 363,
   "metadata": {},
   "outputs": [],
   "source": [
    "text ← 'The silence of the sea'"
   ]
  },
  {
   "cell_type": "markdown",
   "metadata": {},
   "source": [
    "**Exercise 12**:\n",
    "\n",
    "How many expressions can you write to retrieve the last element of a vector? Can you write one that uses the *Reduce* operator `/`?\n",
    "\n",
    "You can test your expressions on these vectors:"
   ]
  },
  {
   "cell_type": "code",
   "execution_count": 364,
   "metadata": {},
   "outputs": [],
   "source": [
    "vec ← 1 2 3 4 5 6\n",
    "vec ← (1 2) 3 (4 5) 6\n",
    "vec ← 0 (5⍴0) (3 4⍴0) (1 2 3⍴0)"
   ]
  },
  {
   "cell_type": "markdown",
   "metadata": {},
   "source": [
    "**Exercise 13**:\n",
    "\n",
    "We have conducted some experiments on a variable `z`:\n",
    "\n",
    "```APL\n",
    "      2 ⍴ z\n",
    "1 7\n",
    "      +⌿ z\n",
    "20\n",
    "      z = 9\n",
    "0\n",
    "0\n",
    "1\n",
    "0\n",
    "```\n",
    "\n",
    "What is the value of `z`?"
   ]
  },
  {
   "cell_type": "markdown",
   "metadata": {},
   "source": [
    "**Exercise 14**:\n",
    "\n",
    "We have conducted some experiments on a variable `z`:\n",
    "\n",
    "```APL\n",
    "      z = 0\n",
    "0 1 0 0\n",
    "1 0 0 1\n",
    "      +/[2] z\n",
    "20 6\n",
    "      +/[1] z\n",
    "8 7 6 5\n",
    "```\n",
    "\n",
    "What is the value of `z`?"
   ]
  },
  {
   "cell_type": "markdown",
   "metadata": {},
   "source": [
    "**Exercise 15**:\n",
    "\n",
    "What are all the **positions** of the letter \"e\" in the character vector specified in exercise 11?"
   ]
  },
  {
   "cell_type": "markdown",
   "metadata": {},
   "source": [
    "**Exercise 16**:\n",
    "\n",
    "Given a vector `vec` of any size and type (numeric or character or even nested), try to extract the items of `vec` which are in the odd positions (the 1st, the 3rd, the 5th, ...).\n",
    "\n",
    "You can test your solution on these vectors:"
   ]
  },
  {
   "cell_type": "code",
   "execution_count": 365,
   "metadata": {},
   "outputs": [],
   "source": [
    "vec ← 1 2 3 4 5 6 7 8 9\n",
    "vec ← 'CROANGGARYANTLULLBAPTWIZOSNSSB'\n",
    "vec ← (1 2) (2 3) (4 5 6) (6 9 42 1024)"
   ]
  },
  {
   "cell_type": "markdown",
   "metadata": {},
   "source": [
    "**Exercise 17**:\n",
    "\n",
    "How many numbers are there in the variable `prod` used in this chapter? Try to answer with and without using *Ravel* (monadic `,`)."
   ]
  },
  {
   "cell_type": "markdown",
   "metadata": {},
   "source": [
    "**Exercise 18**:\n",
    "\n",
    "How is it possible to remove all the values which do not fall between 20 (inclusive) and 30 (exclusive) from a given vector?"
   ]
  },
  {
   "cell_type": "markdown",
   "metadata": {},
   "source": [
    "**Exercise 19**:\n",
    "\n",
    "Notice how these two expressions look the same:"
   ]
  },
  {
   "cell_type": "code",
   "execution_count": 366,
   "metadata": {},
   "outputs": [
    {
     "data": {
      "text/html": [
       "<span style=\"white-space:pre; font-family: monospace\">4\n",
       "</span>"
      ]
     },
     "execution_count": 366,
     "metadata": {},
     "output_type": "execute_result"
    }
   ],
   "source": [
    "≢vec"
   ]
  },
  {
   "cell_type": "code",
   "execution_count": 367,
   "metadata": {},
   "outputs": [
    {
     "data": {
      "text/html": [
       "<span style=\"white-space:pre; font-family: monospace\">4\n",
       "</span>"
      ]
     },
     "execution_count": 367,
     "metadata": {},
     "output_type": "execute_result"
    }
   ],
   "source": [
    "⍴vec"
   ]
  },
  {
   "cell_type": "markdown",
   "metadata": {},
   "source": [
    "Can you tell if/how they are different?"
   ]
  },
  {
   "cell_type": "markdown",
   "metadata": {},
   "source": [
    "**Exercise 20**:\n",
    "\n",
    "Compute the *Depth* (`≡`) of these arrays:\n",
    "\n",
    "```APL\n",
    "42\n",
    "42 41 40 39\n",
    "2 2⍴42 41 40 39\n",
    "1 (2 3) (4 5)\n",
    "(1 2) (3 4 5) (6 7 8 9)\n",
    "1 (2 (3 (4 (5 (6 7)))))\n",
    "(2 2⍴4) (2 2⍴⍳47) (3 6⍴⍳18)\n",
    "```"
   ]
  },
  {
   "cell_type": "markdown",
   "metadata": {},
   "source": [
    "**Exercise 21**:\n",
    "\n",
    "In a vector, we would like to replace all the values that are smaller than 20 by 20, and replace all the values that are greater than 30 by 30. How can we do that?"
   ]
  },
  {
   "cell_type": "markdown",
   "metadata": {},
   "source": [
    "**Exercise 22**:\n",
    "\n",
    "The following 6 expressions cannot be executed, but instead generate error messages; can you say why?\n",
    "\n",
    "```APL\n",
    "3+(5-(6+2)×4\n",
    "121÷(⍳4)-3\n",
    "(¯X+5)*2\n",
    "⍴4 5 6+2 3-1\n",
    "⍳3-5\n",
    "⍸1 0 2 ¯1\n",
    "```"
   ]
  },
  {
   "cell_type": "markdown",
   "metadata": {},
   "source": [
    "**Exercise 23**:\n",
    "\n",
    "Write an APL expression which produces a vector of 17 numbers, the first being 23, with each subsequent number being equal to the preceding one plus 11."
   ]
  },
  {
   "cell_type": "markdown",
   "metadata": {},
   "source": [
    "**Exercise 24**:\n",
    "\n",
    "In a shop, each product is identified by a code. You are given a list of the codes and the corresponding prices:"
   ]
  },
  {
   "cell_type": "code",
   "execution_count": 204,
   "metadata": {},
   "outputs": [],
   "source": [
    "pcodes ← 56 66 19 37 44 20 18 23 68 70 82\n",
    "prices ←  9 27 10 15 12  5  8  9 98  7 22"
   ]
  },
  {
   "cell_type": "markdown",
   "metadata": {},
   "source": [
    "A customer gives you a list of items they intend to buy as vector of code/quantity pairs: code, quantity, code, quantity, and so on."
   ]
  },
  {
   "cell_type": "code",
   "execution_count": 1,
   "metadata": {},
   "outputs": [],
   "source": [
    "wannaBuy ← 37 1 70 20 19 2 82 5 23 10"
   ]
  },
  {
   "cell_type": "markdown",
   "metadata": {},
   "source": [
    "Can you evaluate their bill?\n",
    "\n",
    "Note that this cannot be done easily in a single (and readable) APL expression, and you will therefore need to write several expressions.\n",
    "\n",
    "The correct total should be 375."
   ]
  },
  {
   "cell_type": "markdown",
   "metadata": {},
   "source": [
    "**Exercise 25**:\n",
    "\n",
    "We have organised a lottery, and we have created five vectors:"
   ]
  },
  {
   "cell_type": "code",
   "execution_count": 627,
   "metadata": {},
   "outputs": [],
   "source": [
    "⎕RL ← 73\n",
    "tickets ← ?1000⍴999999\n",
    "sold ← tickets[(800+?200)?1000]\n",
    "ours ← sold[(?200)?≢sold]\n",
    "winners ← tickets[100?1000]\n",
    "prizes ← ?100⍴1000"
   ]
  },
  {
   "cell_type": "markdown",
   "metadata": {},
   "source": [
    " - `tickets` has the numbers of all the existing tickets;\n",
    " - `sold` has the numbers of the tickets which have been sold;\n",
    " - `ours` has the numbers of the tickets we bought ourselves;\n",
    " - `winners` has the numbers of the winning tickets, and\n",
    " - `prizes` has the prize amount associated with each respective number in `winners` vector.\n",
    " \n",
    "And now, try to answer the following 4 questions:\n",
    "\n",
    " 1. What are the numbers of the unsold tickets?\n",
    " 2. Are there some winning tickets which have not been sold?\n",
    " 3. How many winning tickets do **we** have?\n",
    " 4. How much did we win?"
   ]
  },
  {
   "cell_type": "markdown",
   "metadata": {},
   "source": [
    "**Exercise 26**:\n",
    "\n",
    "Can you calculate all the divisors of a positive integer number `n`?\n",
    "\n",
    "Here are some results to check your answer:\n",
    "\n",
    "| `n` | Divisors |\n",
    "| :-: | :- |\n",
    "| 1 | 1 |\n",
    "| 2 | 1 2 |\n",
    "| 3 | 1 3 |\n",
    "| 24 | 1 2 3 4 6 8 12 24 |\n",
    "| 1337 | 1 7 191 1337 |\n",
    "| 1234321 | 1 11 101 121 1111 10201 12221 112211 1234321 |"
   ]
  },
  {
   "cell_type": "markdown",
   "metadata": {},
   "source": [
    "**Solutions**: the solutions can be found at the end of this chapter."
   ]
  },
  {
   "cell_type": "markdown",
   "metadata": {},
   "source": [
    "## The Specialist's Section\n",
    "\n",
    "<br />\n",
    "<center><i>Each chapter is followed by a \"Specialist's Section\" like this one. This section is dedicated to skilled APLers, who wish to improve their knowledge.</i>\n",
    "    \n",
    "You will find here rare or complex usages of the concepts presented in this chapter, or discover extended explanations which need the knowledge of some symbols that will be seen much further in the book.\n",
    "    \n",
    "<b>If you are exploring APL for the first time, skip this section and go to the next chapter.</b></center>"
   ]
  },
  {
   "cell_type": "markdown",
   "metadata": {},
   "source": [
    "### Division Control - ⎕DIV and Other Mathematical Subtleties\n",
    "\n",
    "#### Zero Divided by Zero\n",
    "\n",
    "In the beginning of this chapter we saw that `0÷0` returns 1:"
   ]
  },
  {
   "cell_type": "code",
   "execution_count": 371,
   "metadata": {},
   "outputs": [
    {
     "data": {
      "text/html": [
       "<span style=\"white-space:pre; font-family: monospace\">1\n",
       "</span>"
      ]
     },
     "execution_count": 371,
     "metadata": {},
     "output_type": "execute_result"
    }
   ],
   "source": [
    "0÷0"
   ]
  },
  {
   "cell_type": "markdown",
   "metadata": {},
   "source": [
    "One might argue this is the case because any number divided by itself should give 1, like"
   ]
  },
  {
   "cell_type": "code",
   "execution_count": 372,
   "metadata": {},
   "outputs": [
    {
     "data": {
      "text/html": [
       "<span style=\"white-space:pre; font-family: monospace\">1\n",
       "</span>"
      ]
     },
     "execution_count": 372,
     "metadata": {},
     "output_type": "execute_result"
    }
   ],
   "source": [
    "3÷3"
   ]
  },
  {
   "cell_type": "code",
   "execution_count": 373,
   "metadata": {},
   "outputs": [
    {
     "data": {
      "text/html": [
       "<span style=\"white-space:pre; font-family: monospace\">1\n",
       "</span>"
      ]
     },
     "execution_count": 373,
     "metadata": {},
     "output_type": "execute_result"
    }
   ],
   "source": [
    "¯0.56÷¯0.56"
   ]
  },
  {
   "cell_type": "code",
   "execution_count": 374,
   "metadata": {},
   "outputs": [
    {
     "data": {
      "text/html": [
       "<span style=\"white-space:pre; font-family: monospace\">1\n",
       "</span>"
      ]
     },
     "execution_count": 374,
     "metadata": {},
     "output_type": "execute_result"
    }
   ],
   "source": [
    "1.2J0.6÷1.2J0.6"
   ]
  },
  {
   "cell_type": "markdown",
   "metadata": {},
   "source": [
    "But `0÷0` is indeterminate from a mathematical standpoint, meaning `0÷0` by itself has no correct value. What follows from this is that carefully crafted contexts can make `0÷0` evaluate to whatever you please.\n",
    "\n",
    "Let us explore that possibility briefly but without much mathematical rigour. Let us define an APL function that behaves like the mathematical function $f(x) = 5x$, i.e. a function that takes a number and multiplies it by 5:"
   ]
  },
  {
   "cell_type": "code",
   "execution_count": 2,
   "metadata": {},
   "outputs": [],
   "source": [
    "F ← {5×⍵}"
   ]
  },
  {
   "cell_type": "markdown",
   "metadata": {},
   "source": [
    "And let us evaluate it at a bunch of different values:"
   ]
  },
  {
   "cell_type": "code",
   "execution_count": 4,
   "metadata": {},
   "outputs": [
    {
     "data": {
      "text/html": [
       "<span style=\"white-space:pre; font-family: monospace\">¯0.933333 ¯0.866667 ¯0.8 ¯0.733333 ¯0.666667 ¯0.6 ¯0.533333 ¯0.466667 ¯0.4 ¯0.333333 ¯0.266667 ¯0.2 ¯0.133333 ¯0.0666667 0 0.0666667 0.133333 0.2 0.266667 0.333333 0.4 0.466667 0.533333 0.6 0.666667 0.733333 0.8 0.866667 0.933333 1\n",
       "</span>"
      ]
     },
     "execution_count": 4,
     "metadata": {},
     "output_type": "execute_result"
    }
   ],
   "source": [
    "⊢x ← ¯1+15÷⍨⍳30"
   ]
  },
  {
   "cell_type": "code",
   "execution_count": 5,
   "metadata": {},
   "outputs": [
    {
     "data": {
      "text/html": [
       "<span style=\"white-space:pre; font-family: monospace\">¯4.66667 ¯4.33333 ¯4 ¯3.66667 ¯3.33333 ¯3 ¯2.66667 ¯2.33333 ¯2 ¯1.66667 ¯1.33333 ¯1 ¯0.666667 ¯0.333333 0 0.333333 0.666667 1 1.33333 1.66667 2 2.33333 2.66667 3 3.33333 3.66667 4 4.33333 4.66667 5\n",
       "</span>"
      ]
     },
     "execution_count": 5,
     "metadata": {},
     "output_type": "execute_result"
    }
   ],
   "source": [
    "⊢fx ← F x"
   ]
  },
  {
   "cell_type": "markdown",
   "metadata": {},
   "source": [
    "And now let us study the ratio $f(x)/x$ for those several values of `x`:"
   ]
  },
  {
   "cell_type": "code",
   "execution_count": 6,
   "metadata": {},
   "outputs": [
    {
     "data": {
      "text/html": [
       "<span style=\"white-space:pre; font-family: monospace\">5 5 5 5 5 5 5 5 5 5 5 5 5 5 1 5 5 5 5 5 5 5 5 5 5 5 5 5 5 5\n",
       "</span>"
      ]
     },
     "execution_count": 6,
     "metadata": {},
     "output_type": "execute_result"
    }
   ],
   "source": [
    "fx÷x"
   ]
  },
  {
   "cell_type": "markdown",
   "metadata": {},
   "source": [
    "If you look closely, the vector above has plenty of 5s and then a single 1 in the middle, corresponding to the `0÷0` division."
   ]
  },
  {
   "cell_type": "code",
   "execution_count": 7,
   "metadata": {},
   "outputs": [
    {
     "data": {
      "text/html": [
       "<span style=\"white-space:pre; font-family: monospace\">0 0 0 0 0 0 0 0 0 0 0 0 0 0 1 0 0 0 0 0 0 0 0 0 0 0 0 0 0 0\n",
       "</span>"
      ]
     },
     "execution_count": 7,
     "metadata": {},
     "output_type": "execute_result"
    }
   ],
   "source": [
    "5≠fx÷x"
   ]
  },
  {
   "cell_type": "markdown",
   "metadata": {},
   "source": [
    "Let us try to create values of `x` that are tighter around 0 and perform the same division."
   ]
  },
  {
   "cell_type": "code",
   "execution_count": 8,
   "metadata": {},
   "outputs": [
    {
     "data": {
      "text/html": [
       "<span style=\"white-space:pre; font-family: monospace\">¯0.09 ¯0.08 ¯0.07 ¯0.06 ¯0.05 ¯0.04 ¯0.03 ¯0.02 ¯0.01 0 0.01 0.02 0.03 0.04 0.05 0.06 0.07 0.08 0.09 0.1\n",
       "</span>"
      ]
     },
     "execution_count": 8,
     "metadata": {},
     "output_type": "execute_result"
    }
   ],
   "source": [
    "⊢x ← ¯0.1+100÷⍨⍳20"
   ]
  },
  {
   "cell_type": "code",
   "execution_count": 9,
   "metadata": {},
   "outputs": [
    {
     "data": {
      "text/html": [
       "<span style=\"white-space:pre; font-family: monospace\">¯0.45 ¯0.4 ¯0.35 ¯0.3 ¯0.25 ¯0.2 ¯0.15 ¯0.1 ¯0.05 0 0.05 0.1 0.15 0.2 0.25 0.3 0.35 0.4 0.45 0.5\n",
       "</span>"
      ]
     },
     "execution_count": 9,
     "metadata": {},
     "output_type": "execute_result"
    }
   ],
   "source": [
    "⊢fx ← F x"
   ]
  },
  {
   "cell_type": "code",
   "execution_count": 10,
   "metadata": {},
   "outputs": [
    {
     "data": {
      "text/html": [
       "<span style=\"white-space:pre; font-family: monospace\">5 5 5 5 5 5 5 5 5 1 5 5 5 5 5 5 5 5 5 5\n",
       "</span>"
      ]
     },
     "execution_count": 10,
     "metadata": {},
     "output_type": "execute_result"
    }
   ],
   "source": [
    "fx÷x"
   ]
  },
  {
   "cell_type": "markdown",
   "metadata": {},
   "source": [
    "No matter how close to 0 we are, these ratios are always going to be returning 5. Because our function $f(x)$ is well-behaved, in this context `0÷0` should return 5. Of course having to factor this in is an inconvenience for programming languages and most of them either\n",
    " - raise an error when one tries to divide zero by zero;\n",
    " - return a previously-agreed-upon value (which is usually 0 or 1).\n",
    " \n",
    "**By default**, Dyalog APL returns 1 when we compute `0÷0` as you saw above. This may sometimes be inappropriate. Suppose that we want to calculate the sales growth for 5 products, but the production of the 3rd product has not started yet, so its sales are currently zero:"
   ]
  },
  {
   "cell_type": "code",
   "execution_count": 11,
   "metadata": {},
   "outputs": [],
   "source": [
    "before ← 20 31 0 120 63\n",
    "after ← 22 27 0 149 59"
   ]
  },
  {
   "cell_type": "markdown",
   "metadata": {},
   "source": [
    "The growth (in percent rounded) can be calculated like this:"
   ]
  },
  {
   "cell_type": "code",
   "execution_count": 12,
   "metadata": {},
   "outputs": [
    {
     "data": {
      "text/html": [
       "<span style=\"white-space:pre; font-family: monospace\">10 ¯13 100 24 ¯6\n",
       "</span>"
      ]
     },
     "execution_count": 12,
     "metadata": {},
     "output_type": "execute_result"
    }
   ],
   "source": [
    "⌊0.5+100× (after-before)÷before"
   ]
  },
  {
   "cell_type": "markdown",
   "metadata": {},
   "source": [
    "It is rather surprising to see that we've got a 100% growth on a product that does not exist!\n",
    "\n",
    "To help circumvent this sort of issues, a so-called *System variable* named `⎕DIV` is included in Dyalog APL to change the behaviour of division by zero.\n",
    "\n",
    "**Be default**, `⎕DIV` is 0, but can also be set to 1.\n",
    "\n",
    "| `⎕DIV` | Behaviour |\n",
    "| :-: | :- |\n",
    "| 0 | `0÷0` gives 1 |\n",
    "| | Any other number divided by 0 gives a `DOMAIN ERROR` |\n",
    "| 1 | `0÷0` gives 0 |\n",
    "| | Any other number divided by 0 gives 0 |\n",
    "\n",
    "To change the value of the *System variable* `⎕DIV` you just assign to it as you would any other variable:"
   ]
  },
  {
   "cell_type": "code",
   "execution_count": 13,
   "metadata": {},
   "outputs": [],
   "source": [
    "⎕DIV ← 1"
   ]
  },
  {
   "cell_type": "code",
   "execution_count": 14,
   "metadata": {},
   "outputs": [
    {
     "data": {
      "text/html": [
       "<span style=\"white-space:pre; font-family: monospace\">0\n",
       "</span>"
      ]
     },
     "execution_count": 14,
     "metadata": {},
     "output_type": "execute_result"
    }
   ],
   "source": [
    "0÷0"
   ]
  },
  {
   "cell_type": "code",
   "execution_count": 15,
   "metadata": {},
   "outputs": [
    {
     "data": {
      "text/html": [
       "<span style=\"white-space:pre; font-family: monospace\">0\n",
       "</span>"
      ]
     },
     "execution_count": 15,
     "metadata": {},
     "output_type": "execute_result"
    }
   ],
   "source": [
    "5÷0"
   ]
  },
  {
   "cell_type": "code",
   "execution_count": 16,
   "metadata": {},
   "outputs": [],
   "source": [
    "⎕DIV ← 0"
   ]
  },
  {
   "cell_type": "code",
   "execution_count": 17,
   "metadata": {},
   "outputs": [
    {
     "data": {
      "text/html": [
       "<span style=\"white-space:pre; font-family: monospace\">1\n",
       "</span>"
      ]
     },
     "execution_count": 17,
     "metadata": {},
     "output_type": "execute_result"
    }
   ],
   "source": [
    "0÷0"
   ]
  },
  {
   "cell_type": "code",
   "execution_count": 18,
   "metadata": {},
   "outputs": [
    {
     "name": "stderr",
     "output_type": "stream",
     "text": [
      "DOMAIN ERROR: Divide by zero\n",
      "      5÷0\n",
      "       ∧\n"
     ]
    }
   ],
   "source": [
    "5÷0"
   ]
  },
  {
   "cell_type": "markdown",
   "metadata": {},
   "source": [
    "Because `⎕DIV` is a variable, it can be localised in the header of a function. Then the particular behaviour of division remains specific to that function and its sub functions.\n",
    "\n",
    "Trying to change `⎕DIV` to a value other than 0 or 1 also gives a `DOMAIN ERROR`:"
   ]
  },
  {
   "cell_type": "code",
   "execution_count": 19,
   "metadata": {},
   "outputs": [
    {
     "name": "stderr",
     "output_type": "stream",
     "text": [
      "DOMAIN ERROR\n",
      "      ⎕DIV←4\n",
      "          ∧\n"
     ]
    }
   ],
   "source": [
    "⎕DIV ← 4"
   ]
  },
  {
   "cell_type": "markdown",
   "metadata": {},
   "source": [
    "#### Zero To The Power of Zero\n",
    "\n",
    "We also saw that `0*0` returns 1:"
   ]
  },
  {
   "cell_type": "code",
   "execution_count": 20,
   "metadata": {},
   "outputs": [
    {
     "data": {
      "text/html": [
       "<span style=\"white-space:pre; font-family: monospace\">1\n",
       "</span>"
      ]
     },
     "execution_count": 20,
     "metadata": {},
     "output_type": "execute_result"
    }
   ],
   "source": [
    "0*0"
   ]
  },
  {
   "cell_type": "markdown",
   "metadata": {},
   "source": [
    "This is yet another convention that is in place just to make life easier for programmers, as `0*0` is indeterminate from a mathematical standpoint, similar to `0÷0`.\n",
    "\n",
    "But please, do not take my word for it! Notice that any number to the power of 0 gives 1:"
   ]
  },
  {
   "cell_type": "code",
   "execution_count": 21,
   "metadata": {},
   "outputs": [
    {
     "data": {
      "text/html": [
       "<span style=\"white-space:pre; font-family: monospace\">1 1 1 1 1 1 1\n",
       "</span>"
      ]
     },
     "execution_count": 21,
     "metadata": {},
     "output_type": "execute_result"
    }
   ],
   "source": [
    "¯3 4J5 1.2 (○1) 1 2 3 * 0"
   ]
  },
  {
   "cell_type": "markdown",
   "metadata": {},
   "source": [
    "Notice how 0 to the power of any positive number gives 0:"
   ]
  },
  {
   "cell_type": "code",
   "execution_count": 22,
   "metadata": {},
   "outputs": [
    {
     "data": {
      "text/html": [
       "<span style=\"white-space:pre; font-family: monospace\">0 0 0 0 0 0\n",
       "</span>"
      ]
     },
     "execution_count": 22,
     "metadata": {},
     "output_type": "execute_result"
    }
   ],
   "source": [
    "4J5 1.2 (○1) 1 2 3 *⍨ 0"
   ]
  },
  {
   "cell_type": "markdown",
   "metadata": {},
   "source": [
    "So how do we settle this for `0*0`? If we look at it from the \"a number to the power of 0\" perspective, it should give 1. If we look at it from the \"zero to the power of a number\", it should give 0. So Dyalog APL just chose to go with the `1=0*0` convention, which is a fairly common one."
   ]
  },
  {
   "cell_type": "markdown",
   "metadata": {},
   "source": [
    "### Derived Functions\n",
    "\n",
    "Let us sum the items of a vector:"
   ]
  },
  {
   "cell_type": "code",
   "execution_count": 23,
   "metadata": {},
   "outputs": [
    {
     "name": "stderr",
     "output_type": "stream",
     "text": [
      "VALUE ERROR: Undefined name: contents\n",
      "      +/contents\n",
      "        ∧\n"
     ]
    }
   ],
   "source": [
    "+/ contents"
   ]
  },
  {
   "cell_type": "markdown",
   "metadata": {},
   "source": [
    "In this expression, *Reduce* takes *Plus* as its operand.\n",
    "\n",
    "This pair of symbols creates a new function, a so-called \"***Derived Function***\". The derived function is monadic in this case, and it takes the variable `contents` as its argument.\n",
    "\n",
    "`contents` is not the right argument of `/`, it is the argument of the derived function `+/`.\n",
    "\n",
    "This is so true that `+/` could be parenthesised:"
   ]
  },
  {
   "cell_type": "code",
   "execution_count": 396,
   "metadata": {},
   "outputs": [
    {
     "data": {
      "text/html": [
       "<span style=\"white-space:pre; font-family: monospace\">672\n",
       "</span>"
      ]
     },
     "execution_count": 396,
     "metadata": {},
     "output_type": "execute_result"
    }
   ],
   "source": [
    "(+/) contents"
   ]
  },
  {
   "cell_type": "markdown",
   "metadata": {},
   "source": [
    "It can also be given a name:"
   ]
  },
  {
   "cell_type": "code",
   "execution_count": 209,
   "metadata": {},
   "outputs": [
    {
     "data": {
      "text/html": [
       "<span style=\"white-space:pre; font-family: monospace\">60\n",
       "</span>"
      ]
     },
     "execution_count": 209,
     "metadata": {},
     "output_type": "execute_result"
    }
   ],
   "source": [
    "sum ← +/\n",
    "sum 10 20 30"
   ]
  },
  {
   "cell_type": "markdown",
   "metadata": {},
   "source": [
    "All operators create *derived functions*, i.e. functions that are derived from the function(s) the operators accept as operand(s)."
   ]
  },
  {
   "cell_type": "markdown",
   "metadata": {},
   "source": [
    "### Nor & Nand\n",
    "\n",
    "APL boolean algebra also includes two useful functions:\n",
    "\n",
    " - ***Nor*** (stands for Not-Or), represented in aPL by `⍱`. You can type it with <kbd>aPL</kbd>+<kbd>Shift</kbd>+<kbd>9</kbd>, which is \"above\" `∨`;\n",
    " - ***Nand*** (stands for Not-and), represented in aPL by `⍲`. You can type it with <kbd>aPL</kbd>+<kbd>Shift</kbd>+<kbd>0</kbd>, which is \"above\" `∧`.\n",
    " \n",
    "The ***Nor*** and ***Nand*** functions give the negation of ***Or*** and ***And*** respectively, and that is why their symbols are respectively `∨` and `∧` with a `~` on top.\n",
    "\n",
    "This means that\n",
    "\n",
    " - `a⍱b` is equal to `~a∨b`\n",
    " - `a⍲b` is equal to `~a∧b`\n",
    " \n",
    "as shown below:"
   ]
  },
  {
   "cell_type": "code",
   "execution_count": 398,
   "metadata": {},
   "outputs": [],
   "source": [
    "a ← 0 0 1 1\n",
    "b ← 0 1 0 1"
   ]
  },
  {
   "cell_type": "code",
   "execution_count": 403,
   "metadata": {},
   "outputs": [
    {
     "data": {
      "text/html": [
       "<span style=\"white-space:pre; font-family: monospace\">0 1 1 1\n",
       "1 0 0 0\n",
       "</span>"
      ]
     },
     "execution_count": 403,
     "metadata": {},
     "output_type": "execute_result"
    }
   ],
   "source": [
    "2 4⍴ (a∨b),(a⍱b)"
   ]
  },
  {
   "cell_type": "code",
   "execution_count": 404,
   "metadata": {},
   "outputs": [
    {
     "data": {
      "text/html": [
       "<span style=\"white-space:pre; font-family: monospace\">0 0 0 1\n",
       "1 1 1 0\n",
       "</span>"
      ]
     },
     "execution_count": 404,
     "metadata": {},
     "output_type": "execute_result"
    }
   ],
   "source": [
    "2 4⍴ (a∧b),(a⍲b)"
   ]
  },
  {
   "cell_type": "markdown",
   "metadata": {},
   "source": [
    "<!-- begin warning -->\n",
    "***Warning***:\n",
    "\n",
    " > both `∨` and `∧` are associative, but `⍱` and `⍲` are not!\n",
    "<!-- end -->\n",
    "\n",
    "This means that `(a∨b)∨c` is equivalent to `a∨(b∨c)` and thus can be written `a∨b∨c`. Similarly for `∧`. but for *Nor* and *Nand* this is not the case:"
   ]
  },
  {
   "cell_type": "code",
   "execution_count": 24,
   "metadata": {},
   "outputs": [
    {
     "name": "stderr",
     "output_type": "stream",
     "text": [
      "VALUE ERROR: Undefined name: b\n",
      "      a⍱(a⍱b)\n",
      "           ∧\n"
     ]
    }
   ],
   "source": [
    "a⍱(a⍱b)"
   ]
  },
  {
   "cell_type": "code",
   "execution_count": 25,
   "metadata": {},
   "outputs": [
    {
     "name": "stderr",
     "output_type": "stream",
     "text": [
      "VALUE ERROR: Undefined name: b\n",
      "      (a⍱a)⍱b\n",
      "            ∧\n"
     ]
    }
   ],
   "source": [
    "(a⍱a)⍱b"
   ]
  },
  {
   "cell_type": "markdown",
   "metadata": {},
   "source": [
    "Changing the order of evaluation changes the result, so `⍱` is not associative. Same goes for `⍲`.\n",
    "\n",
    "another consequence is that if `bin` has more than 2 items, `⍱/bin` is **not** equivalent to `~∨/bin`, and similarly for `∧`."
   ]
  },
  {
   "cell_type": "code",
   "execution_count": 411,
   "metadata": {},
   "outputs": [
    {
     "data": {
      "text/html": [
       "<span style=\"white-space:pre; font-family: monospace\">1\n",
       "</span>"
      ]
     },
     "execution_count": 411,
     "metadata": {},
     "output_type": "execute_result"
    }
   ],
   "source": [
    "⍱/b"
   ]
  },
  {
   "cell_type": "code",
   "execution_count": 413,
   "metadata": {},
   "outputs": [
    {
     "data": {
      "text/html": [
       "<span style=\"white-space:pre; font-family: monospace\">0\n",
       "</span>"
      ]
     },
     "execution_count": 413,
     "metadata": {},
     "output_type": "execute_result"
    }
   ],
   "source": [
    "~∨/b"
   ]
  },
  {
   "cell_type": "markdown",
   "metadata": {},
   "source": [
    "This is probably the reason why those two primitives are rarely used in common business applications, although they are extremely useful in electronic automation, because they represent basic logical circuits."
   ]
  },
  {
   "cell_type": "markdown",
   "metadata": {},
   "source": [
    "### Index Generator of Arrays\n",
    "\n",
    "We have given a limited definition of the *Index Generator*, here is a more general presentation:\n",
    "\n",
    "<!-- begin rule -->\n",
    "***Rule***:\n",
    "\n",
    " > In the expression `r ← ⍳dim`:\n",
    " >\n",
    " > - `dim` represents the shape of an array (the array itself need not actually exist)\n",
    " > - `r` is the set of indices pointing to all items of that array\n",
    " >\n",
    " > The shape of `r` is given by `dim` and each item of `r` is the index (or the set of indices) of its own items.\n",
    "<!-- end -->\n",
    "\n",
    "Some examples should make this easier to understand. Let us take several arrays and inspect their shape:"
   ]
  },
  {
   "cell_type": "code",
   "execution_count": 414,
   "metadata": {},
   "outputs": [
    {
     "data": {
      "text/html": [
       "<span style=\"white-space:pre; font-family: monospace\">12\n",
       "</span>"
      ]
     },
     "execution_count": 414,
     "metadata": {},
     "output_type": "execute_result"
    }
   ],
   "source": [
    "⍴contents"
   ]
  },
  {
   "cell_type": "code",
   "execution_count": 417,
   "metadata": {},
   "outputs": [
    {
     "data": {
      "text/html": [
       "<span style=\"white-space:pre; font-family: monospace\">1 2 3 4 5 6 7 8 9 10 11 12\n",
       "</span>"
      ]
     },
     "execution_count": 417,
     "metadata": {},
     "output_type": "execute_result"
    }
   ],
   "source": [
    "⍳⍴contents"
   ]
  },
  {
   "cell_type": "code",
   "execution_count": 416,
   "metadata": {},
   "outputs": [
    {
     "data": {
      "text/html": [
       "<span style=\"white-space:pre; font-family: monospace\">12 56 78 74 85 96 30 22 44 66 82 27\n",
       "</span>"
      ]
     },
     "execution_count": 416,
     "metadata": {},
     "output_type": "execute_result"
    }
   ],
   "source": [
    "contents[⍳⍴contents]"
   ]
  },
  {
   "cell_type": "code",
   "execution_count": 418,
   "metadata": {},
   "outputs": [
    {
     "data": {
      "text/html": [
       "<span style=\"white-space:pre; font-family: monospace\">6 8\n",
       "</span>"
      ]
     },
     "execution_count": 418,
     "metadata": {},
     "output_type": "execute_result"
    }
   ],
   "source": [
    "⍴monMat"
   ]
  },
  {
   "cell_type": "code",
   "execution_count": 419,
   "metadata": {},
   "outputs": [
    {
     "data": {
      "text/html": [
       "<span style=\"white-space:pre; font-family: monospace\">┌───┬───┬───┬───┬───┬───┬───┬───┐\n",
       "│1 1│1 2│1 3│1 4│1 5│1 6│1 7│1 8│\n",
       "├───┼───┼───┼───┼───┼───┼───┼───┤\n",
       "│2 1│2 2│2 3│2 4│2 5│2 6│2 7│2 8│\n",
       "├───┼───┼───┼───┼───┼───┼───┼───┤\n",
       "│3 1│3 2│3 3│3 4│3 5│3 6│3 7│3 8│\n",
       "├───┼───┼───┼───┼───┼───┼───┼───┤\n",
       "│4 1│4 2│4 3│4 4│4 5│4 6│4 7│4 8│\n",
       "├───┼───┼───┼───┼───┼───┼───┼───┤\n",
       "│5 1│5 2│5 3│5 4│5 5│5 6│5 7│5 8│\n",
       "├───┼───┼───┼───┼───┼───┼───┼───┤\n",
       "│6 1│6 2│6 3│6 4│6 5│6 6│6 7│6 8│\n",
       "└───┴───┴───┴───┴───┴───┴───┴───┘\n",
       "</span>"
      ]
     },
     "execution_count": 419,
     "metadata": {},
     "output_type": "execute_result"
    }
   ],
   "source": [
    "⍳⍴monMat"
   ]
  },
  {
   "cell_type": "code",
   "execution_count": 420,
   "metadata": {},
   "outputs": [
    {
     "data": {
      "text/html": [
       "<span style=\"white-space:pre; font-family: monospace\">January \n",
       "February\n",
       "March   \n",
       "April   \n",
       "May     \n",
       "June    \n",
       "</span>"
      ]
     },
     "execution_count": 420,
     "metadata": {},
     "output_type": "execute_result"
    }
   ],
   "source": [
    "monMat[⍳⍴monMat]"
   ]
  },
  {
   "cell_type": "code",
   "execution_count": 421,
   "metadata": {},
   "outputs": [
    {
     "data": {
      "text/html": [
       "<span style=\"white-space:pre; font-family: monospace\">5 2 12\n",
       "</span>"
      ]
     },
     "execution_count": 421,
     "metadata": {},
     "output_type": "execute_result"
    }
   ],
   "source": [
    "⍴prod"
   ]
  },
  {
   "cell_type": "code",
   "execution_count": 422,
   "metadata": {},
   "outputs": [
    {
     "data": {
      "text/html": [
       "<span style=\"white-space:pre; font-family: monospace\">┌─────┬─────┬─────┬─────┬─────┬─────┬─────┬─────┬─────┬──────┬──────┬──────┐\n",
       "│1 1 1│1 1 2│1 1 3│1 1 4│1 1 5│1 1 6│1 1 7│1 1 8│1 1 9│1 1 10│1 1 11│1 1 12│\n",
       "├─────┼─────┼─────┼─────┼─────┼─────┼─────┼─────┼─────┼──────┼──────┼──────┤\n",
       "│1 2 1│1 2 2│1 2 3│1 2 4│1 2 5│1 2 6│1 2 7│1 2 8│1 2 9│1 2 10│1 2 11│1 2 12│\n",
       "└─────┴─────┴─────┴─────┴─────┴─────┴─────┴─────┴─────┴──────┴──────┴──────┘\n",
       "┌─────┬─────┬─────┬─────┬─────┬─────┬─────┬─────┬─────┬──────┬──────┬──────┐\n",
       "│2 1 1│2 1 2│2 1 3│2 1 4│2 1 5│2 1 6│2 1 7│2 1 8│2 1 9│2 1 10│2 1 11│2 1 12│\n",
       "├─────┼─────┼─────┼─────┼─────┼─────┼─────┼─────┼─────┼──────┼──────┼──────┤\n",
       "│2 2 1│2 2 2│2 2 3│2 2 4│2 2 5│2 2 6│2 2 7│2 2 8│2 2 9│2 2 10│2 2 11│2 2 12│\n",
       "└─────┴─────┴─────┴─────┴─────┴─────┴─────┴─────┴─────┴──────┴──────┴──────┘\n",
       "┌─────┬─────┬─────┬─────┬─────┬─────┬─────┬─────┬─────┬──────┬──────┬──────┐\n",
       "│3 1 1│3 1 2│3 1 3│3 1 4│3 1 5│3 1 6│3 1 7│3 1 8│3 1 9│3 1 10│3 1 11│3 1 12│\n",
       "├─────┼─────┼─────┼─────┼─────┼─────┼─────┼─────┼─────┼──────┼──────┼──────┤\n",
       "│3 2 1│3 2 2│3 2 3│3 2 4│3 2 5│3 2 6│3 2 7│3 2 8│3 2 9│3 2 10│3 2 11│3 2 12│\n",
       "└─────┴─────┴─────┴─────┴─────┴─────┴─────┴─────┴─────┴──────┴──────┴──────┘\n",
       "┌─────┬─────┬─────┬─────┬─────┬─────┬─────┬─────┬─────┬──────┬──────┬──────┐\n",
       "│4 1 1│4 1 2│4 1 3│4 1 4│4 1 5│4 1 6│4 1 7│4 1 8│4 1 9│4 1 10│4 1 11│4 1 12│\n",
       "├─────┼─────┼─────┼─────┼─────┼─────┼─────┼─────┼─────┼──────┼──────┼──────┤\n",
       "│4 2 1│4 2 2│4 2 3│4 2 4│4 2 5│4 2 6│4 2 7│4 2 8│4 2 9│4 2 10│4 2 11│4 2 12│\n",
       "└─────┴─────┴─────┴─────┴─────┴─────┴─────┴─────┴─────┴──────┴──────┴──────┘\n",
       "┌─────┬─────┬─────┬─────┬─────┬─────┬─────┬─────┬─────┬──────┬──────┬──────┐\n",
       "│5 1 1│5 1 2│5 1 3│5 1 4│5 1 5│5 1 6│5 1 7│5 1 8│5 1 9│5 1 10│5 1 11│5 1 12│\n",
       "├─────┼─────┼─────┼─────┼─────┼─────┼─────┼─────┼─────┼──────┼──────┼──────┤\n",
       "│5 2 1│5 2 2│5 2 3│5 2 4│5 2 5│5 2 6│5 2 7│5 2 8│5 2 9│5 2 10│5 2 11│5 2 12│\n",
       "└─────┴─────┴─────┴─────┴─────┴─────┴─────┴─────┴─────┴──────┴──────┴──────┘\n",
       "</span>"
      ]
     },
     "execution_count": 422,
     "metadata": {},
     "output_type": "execute_result"
    }
   ],
   "source": [
    "⍳⍴prod"
   ]
  },
  {
   "cell_type": "code",
   "execution_count": 423,
   "metadata": {},
   "outputs": [
    {
     "data": {
      "text/html": [
       "<span style=\"white-space:pre; font-family: monospace\"> 9 16 42 50  2  3 11 45 17 37 29 36\n",
       "34 19 32 12 37 15 46 24 49 28 36  9\n",
       "                                   \n",
       "29  5 45 23 27  4 23 16 39 22 22  2\n",
       "46 20 47 17 18 25 13 38 42 38 45 28\n",
       "                                   \n",
       "37 19  5 10 30 49 16 18 46 47 47  3\n",
       "39 23 41 20  6 40 21 22 40 49 20  1\n",
       "                                   \n",
       "13 36 12 40 12 15 24 20 21 12 19 25\n",
       " 8 48 22 37 33  1 39 30 50 50  8 35\n",
       "                                   \n",
       "38 31 24 40 23  7 20 34 35  6 19 27\n",
       "41  1 14 50 17 42  6 35 12 48 30 29\n",
       "</span>"
      ]
     },
     "execution_count": 423,
     "metadata": {},
     "output_type": "execute_result"
    }
   ],
   "source": [
    "prod[⍳⍴prod]"
   ]
  },
  {
   "cell_type": "markdown",
   "metadata": {},
   "source": [
    "We can see that, more generally, an array is identical to itself indexed by *Iota* of its shape: `data≡data[⍳⍴data]`"
   ]
  },
  {
   "cell_type": "markdown",
   "metadata": {},
   "source": [
    "### Ravel With Axis\n",
    "\n",
    "*Ravel* can be used with an *Axis specifier*, using the notation `r←,[axis] data`.\n",
    "\n",
    "In this expression, `axis` can be:\n",
    " - an empty vector"
   ]
  },
  {
   "cell_type": "code",
   "execution_count": 26,
   "metadata": {},
   "outputs": [
    {
     "name": "stderr",
     "output_type": "stream",
     "text": [
      "VALUE ERROR: Undefined name: chemistry\n",
      "      ,[⍬]chemistry\n",
      "          ∧\n"
     ]
    }
   ],
   "source": [
    ",[⍬] chemistry"
   ]
  },
  {
   "cell_type": "markdown",
   "metadata": {},
   "source": [
    " - a decimal scalar, adjacent to an axis of `data`"
   ]
  },
  {
   "cell_type": "code",
   "execution_count": 425,
   "metadata": {},
   "outputs": [
    {
     "data": {
      "text/html": [
       "<span style=\"white-space:pre; font-family: monospace\">12 56 78 74 85 96 30 22 44 66 82 27\n",
       "</span>"
      ]
     },
     "execution_count": 425,
     "metadata": {},
     "output_type": "execute_result"
    }
   ],
   "source": [
    ",[0.5] contents"
   ]
  },
  {
   "cell_type": "markdown",
   "metadata": {},
   "source": [
    " - a subset of the axes of `data`"
   ]
  },
  {
   "cell_type": "code",
   "execution_count": 27,
   "metadata": {},
   "outputs": [
    {
     "name": "stderr",
     "output_type": "stream",
     "text": [
      "VALUE ERROR: Undefined name: prod\n",
      "      ,[2 3]prod\n",
      "            ∧\n"
     ]
    }
   ],
   "source": [
    ",[2 3] prod"
   ]
  },
  {
   "cell_type": "markdown",
   "metadata": {},
   "source": [
    "#### Empty Axis\n",
    "\n",
    "If `axis` is empty, the result is obtained by appending a new dimension of size 1 to the list of `data`'s dimensions.\n",
    "\n",
    "It means that:\n",
    " - if `⍴data` is 12, then `⍴,[⍬] data` will be 12 1"
   ]
  },
  {
   "cell_type": "code",
   "execution_count": 428,
   "metadata": {},
   "outputs": [
    {
     "data": {
      "text/html": [
       "<span style=\"white-space:pre; font-family: monospace\">12 56 78 74 85 96 30 22 44 66 82 27\n",
       "</span>"
      ]
     },
     "execution_count": 428,
     "metadata": {},
     "output_type": "execute_result"
    }
   ],
   "source": [
    "contents"
   ]
  },
  {
   "cell_type": "code",
   "execution_count": 429,
   "metadata": {},
   "outputs": [
    {
     "data": {
      "text/html": [
       "<span style=\"white-space:pre; font-family: monospace\">12\n",
       "</span>"
      ]
     },
     "execution_count": 429,
     "metadata": {},
     "output_type": "execute_result"
    }
   ],
   "source": [
    "⍴contents"
   ]
  },
  {
   "cell_type": "code",
   "execution_count": 430,
   "metadata": {},
   "outputs": [
    {
     "data": {
      "text/html": [
       "<span style=\"white-space:pre; font-family: monospace\">12\n",
       "56\n",
       "78\n",
       "74\n",
       "85\n",
       "96\n",
       "30\n",
       "22\n",
       "44\n",
       "66\n",
       "82\n",
       "27\n",
       "</span>"
      ]
     },
     "execution_count": 430,
     "metadata": {},
     "output_type": "execute_result"
    }
   ],
   "source": [
    ",[⍬] contents"
   ]
  },
  {
   "cell_type": "code",
   "execution_count": 431,
   "metadata": {},
   "outputs": [
    {
     "data": {
      "text/html": [
       "<span style=\"white-space:pre; font-family: monospace\">12 1\n",
       "</span>"
      ]
     },
     "execution_count": 431,
     "metadata": {},
     "output_type": "execute_result"
    }
   ],
   "source": [
    "⍴,[⍬] contents"
   ]
  },
  {
   "cell_type": "markdown",
   "metadata": {},
   "source": [
    " - if `⍴data` is 3 5, then `⍴,[⍬]` will be 3 5"
   ]
  },
  {
   "cell_type": "code",
   "execution_count": 438,
   "metadata": {},
   "outputs": [
    {
     "data": {
      "text/html": [
       "<span style=\"white-space:pre; font-family: monospace\">H2SO4\n",
       "CaCO3\n",
       "Fe2O3\n",
       "</span>"
      ]
     },
     "execution_count": 438,
     "metadata": {},
     "output_type": "execute_result"
    }
   ],
   "source": [
    "chemistry"
   ]
  },
  {
   "cell_type": "code",
   "execution_count": 439,
   "metadata": {},
   "outputs": [
    {
     "data": {
      "text/html": [
       "<span style=\"white-space:pre; font-family: monospace\">3 5\n",
       "</span>"
      ]
     },
     "execution_count": 439,
     "metadata": {},
     "output_type": "execute_result"
    }
   ],
   "source": [
    "⍴chemistry"
   ]
  },
  {
   "cell_type": "code",
   "execution_count": 440,
   "metadata": {},
   "outputs": [
    {
     "data": {
      "text/html": [
       "<span style=\"white-space:pre; font-family: monospace\">H\n",
       "2\n",
       "S\n",
       "O\n",
       "4\n",
       " \n",
       "C\n",
       "a\n",
       "C\n",
       "O\n",
       "3\n",
       " \n",
       "F\n",
       "e\n",
       "2\n",
       "O\n",
       "3\n",
       "</span>"
      ]
     },
     "execution_count": 440,
     "metadata": {},
     "output_type": "execute_result"
    }
   ],
   "source": [
    ",[⍬] chemistry"
   ]
  },
  {
   "cell_type": "code",
   "execution_count": 441,
   "metadata": {},
   "outputs": [
    {
     "data": {
      "text/html": [
       "<span style=\"white-space:pre; font-family: monospace\">3 5 1\n",
       "</span>"
      ]
     },
     "execution_count": 441,
     "metadata": {},
     "output_type": "execute_result"
    }
   ],
   "source": [
    "⍴,[⍬] chemistry"
   ]
  },
  {
   "cell_type": "markdown",
   "metadata": {},
   "source": [
    "### Fractional Axis\n",
    "\n",
    "If `axis` is a fractional value, it is mandatory that it is \"adjacent\" to an existing dimension of `data`.\n",
    "\n",
    "This means that for an array of rank 3, the axis must be a value between 0 and 4 (exclusive).\n",
    "\n",
    "The result is derived from `data` by inserting a new dimension of size 1 in the list of `data`'s dimensions. The new dimension is inserted according to the value of `axis`.\n",
    "\n",
    "It means that if"
   ]
  },
  {
   "cell_type": "code",
   "execution_count": 446,
   "metadata": {},
   "outputs": [
    {
     "data": {
      "text/html": [
       "<span style=\"white-space:pre; font-family: monospace\">5 2 12\n",
       "</span>"
      ]
     },
     "execution_count": 446,
     "metadata": {},
     "output_type": "execute_result"
    }
   ],
   "source": [
    "⍴prod"
   ]
  },
  {
   "cell_type": "markdown",
   "metadata": {},
   "source": [
    "then:"
   ]
  },
  {
   "cell_type": "code",
   "execution_count": 447,
   "metadata": {},
   "outputs": [
    {
     "data": {
      "text/html": [
       "<span style=\"white-space:pre; font-family: monospace\">1 5 2 12\n",
       "</span>"
      ]
     },
     "execution_count": 447,
     "metadata": {},
     "output_type": "execute_result"
    }
   ],
   "source": [
    "⍴,[0.5] prod"
   ]
  },
  {
   "cell_type": "code",
   "execution_count": 449,
   "metadata": {},
   "outputs": [
    {
     "data": {
      "text/html": [
       "<span style=\"white-space:pre; font-family: monospace\">5 1 2 12\n",
       "</span>"
      ]
     },
     "execution_count": 449,
     "metadata": {},
     "output_type": "execute_result"
    }
   ],
   "source": [
    "⍴,[1.5] prod"
   ]
  },
  {
   "cell_type": "code",
   "execution_count": 450,
   "metadata": {},
   "outputs": [
    {
     "data": {
      "text/html": [
       "<span style=\"white-space:pre; font-family: monospace\">5 2 1 12\n",
       "</span>"
      ]
     },
     "execution_count": 450,
     "metadata": {},
     "output_type": "execute_result"
    }
   ],
   "source": [
    "⍴,[2.5] prod"
   ]
  },
  {
   "cell_type": "code",
   "execution_count": 451,
   "metadata": {},
   "outputs": [
    {
     "data": {
      "text/html": [
       "<span style=\"white-space:pre; font-family: monospace\">5 2 12 1\n",
       "</span>"
      ]
     },
     "execution_count": 451,
     "metadata": {},
     "output_type": "execute_result"
    }
   ],
   "source": [
    "⍴,[3.5] prod"
   ]
  },
  {
   "cell_type": "markdown",
   "metadata": {},
   "source": [
    "These conventions are totally consistent with those defined for some other functions like *Laminate* or *Mix*.\n",
    "\n",
    "An example with a smaller array is also presented:"
   ]
  },
  {
   "cell_type": "code",
   "execution_count": 452,
   "metadata": {},
   "outputs": [
    {
     "data": {
      "text/html": [
       "<span style=\"white-space:pre; font-family: monospace\">PUB\n",
       "</span>"
      ]
     },
     "execution_count": 452,
     "metadata": {},
     "output_type": "execute_result"
    }
   ],
   "source": [
    "'PUB'"
   ]
  },
  {
   "cell_type": "code",
   "execution_count": 453,
   "metadata": {},
   "outputs": [
    {
     "data": {
      "text/html": [
       "<span style=\"white-space:pre; font-family: monospace\">3\n",
       "</span>"
      ]
     },
     "execution_count": 453,
     "metadata": {},
     "output_type": "execute_result"
    }
   ],
   "source": [
    "⍴'PUB'"
   ]
  },
  {
   "cell_type": "code",
   "execution_count": 454,
   "metadata": {},
   "outputs": [
    {
     "data": {
      "text/html": [
       "<span style=\"white-space:pre; font-family: monospace\">P\n",
       "U\n",
       "B\n",
       "</span>"
      ]
     },
     "execution_count": 454,
     "metadata": {},
     "output_type": "execute_result"
    }
   ],
   "source": [
    ",[1.5] 'PUB'"
   ]
  },
  {
   "cell_type": "code",
   "execution_count": 455,
   "metadata": {},
   "outputs": [
    {
     "data": {
      "text/html": [
       "<span style=\"white-space:pre; font-family: monospace\">PUB\n",
       "</span>"
      ]
     },
     "execution_count": 455,
     "metadata": {},
     "output_type": "execute_result"
    }
   ],
   "source": [
    ",[0.5] 'PUB'"
   ]
  },
  {
   "cell_type": "code",
   "execution_count": 456,
   "metadata": {},
   "outputs": [
    {
     "data": {
      "text/html": [
       "<span style=\"white-space:pre; font-family: monospace\">1 3\n",
       "</span>"
      ]
     },
     "execution_count": 456,
     "metadata": {},
     "output_type": "execute_result"
    }
   ],
   "source": [
    "⍴,[0.5] 'PUB'"
   ]
  },
  {
   "cell_type": "markdown",
   "metadata": {},
   "source": [
    "Notice how the result of `,[0.5] 'PUB'` looks like that of `'PUB'`, but while the latter is a vector of length 3, the former is a matrix with 1 row and 3 columns.\n",
    "\n",
    "The actual value of the axis specification is not used for anything other than determining where to insert the new dimension. This means that, for example, all expressions of the form `,[1.xxx]` will have the same effect as the `,[1.5]` that we used above:"
   ]
  },
  {
   "cell_type": "code",
   "execution_count": 457,
   "metadata": {},
   "outputs": [
    {
     "data": {
      "text/html": [
       "<span style=\"white-space:pre; font-family: monospace\">P\n",
       "U\n",
       "B\n",
       "</span>"
      ]
     },
     "execution_count": 457,
     "metadata": {},
     "output_type": "execute_result"
    }
   ],
   "source": [
    ",[1.5] 'PUB'"
   ]
  },
  {
   "cell_type": "code",
   "execution_count": 458,
   "metadata": {},
   "outputs": [
    {
     "data": {
      "text/html": [
       "<span style=\"white-space:pre; font-family: monospace\">P\n",
       "U\n",
       "B\n",
       "</span>"
      ]
     },
     "execution_count": 458,
     "metadata": {},
     "output_type": "execute_result"
    }
   ],
   "source": [
    ",[1.0123] 'PUB'"
   ]
  },
  {
   "cell_type": "markdown",
   "metadata": {},
   "source": [
    "### A List of Dimensions\n",
    "\n",
    "If `axis` is a subset of the axes of `data`, it is mandatory that they are contiguous and in ascending order. It means that for an array of rank 3, the list of axes can be `[1 2]`, `[2 3]` or `[1 2 3]`, but neither `[1 3]` nor `[3 2]`, for example.\n",
    "\n",
    "The result is obtained by unravelling `data` so that the dimensions mentioned in `axis` are merged into a single dimension.\n",
    "\n",
    "For example, imagine that `data` is an array of shape `5 2 4 7`:"
   ]
  },
  {
   "cell_type": "code",
   "execution_count": 460,
   "metadata": {},
   "outputs": [],
   "source": [
    "data ← 5 2 4 7⍴0"
   ]
  },
  {
   "cell_type": "markdown",
   "metadata": {},
   "source": [
    "We investigate the shapes of different ravels with lists of dimensions as axis specification:"
   ]
  },
  {
   "cell_type": "code",
   "execution_count": 461,
   "metadata": {},
   "outputs": [
    {
     "data": {
      "text/html": [
       "<span style=\"white-space:pre; font-family: monospace\">10 4 7\n",
       "</span>"
      ]
     },
     "execution_count": 461,
     "metadata": {},
     "output_type": "execute_result"
    }
   ],
   "source": [
    "⍴,[1 2] data        ⍝ 10 is 5×2"
   ]
  },
  {
   "cell_type": "code",
   "execution_count": 462,
   "metadata": {},
   "outputs": [
    {
     "data": {
      "text/html": [
       "<span style=\"white-space:pre; font-family: monospace\">5 8 7\n",
       "</span>"
      ]
     },
     "execution_count": 462,
     "metadata": {},
     "output_type": "execute_result"
    }
   ],
   "source": [
    "⍴,[2 3] data        ⍝ 8 is 2×4"
   ]
  },
  {
   "cell_type": "code",
   "execution_count": 463,
   "metadata": {},
   "outputs": [
    {
     "data": {
      "text/html": [
       "<span style=\"white-space:pre; font-family: monospace\">5 2 28\n",
       "</span>"
      ]
     },
     "execution_count": 463,
     "metadata": {},
     "output_type": "execute_result"
    }
   ],
   "source": [
    "⍴,[3 4] data        ⍝ 28 is 4×7"
   ]
  },
  {
   "cell_type": "code",
   "execution_count": 464,
   "metadata": {},
   "outputs": [
    {
     "data": {
      "text/html": [
       "<span style=\"white-space:pre; font-family: monospace\">40 7\n",
       "</span>"
      ]
     },
     "execution_count": 464,
     "metadata": {},
     "output_type": "execute_result"
    }
   ],
   "source": [
    "⍴,[1 2 3] data      ⍝ 40 is 5×2×4"
   ]
  },
  {
   "cell_type": "markdown",
   "metadata": {},
   "source": [
    "### Border Cases\n",
    "\n",
    "If `axis` is reduced to a single value, the operation returns `data` unchanged:"
   ]
  },
  {
   "cell_type": "code",
   "execution_count": 465,
   "metadata": {},
   "outputs": [
    {
     "data": {
      "text/html": [
       "<span style=\"white-space:pre; font-family: monospace\">H2SO4\n",
       "CaCO3\n",
       "Fe2O3\n",
       "</span>"
      ]
     },
     "execution_count": 465,
     "metadata": {},
     "output_type": "execute_result"
    }
   ],
   "source": [
    "chemistry"
   ]
  },
  {
   "cell_type": "code",
   "execution_count": 466,
   "metadata": {},
   "outputs": [
    {
     "data": {
      "text/html": [
       "<span style=\"white-space:pre; font-family: monospace\">H2SO4\n",
       "CaCO3\n",
       "Fe2O3\n",
       "</span>"
      ]
     },
     "execution_count": 466,
     "metadata": {},
     "output_type": "execute_result"
    }
   ],
   "source": [
    ",[1] chemistry"
   ]
  },
  {
   "cell_type": "code",
   "execution_count": 467,
   "metadata": {},
   "outputs": [
    {
     "data": {
      "text/html": [
       "<span style=\"white-space:pre; font-family: monospace\">H2SO4\n",
       "CaCO3\n",
       "Fe2O3\n",
       "</span>"
      ]
     },
     "execution_count": 467,
     "metadata": {},
     "output_type": "execute_result"
    }
   ],
   "source": [
    ",[2] chemistry"
   ]
  },
  {
   "cell_type": "markdown",
   "metadata": {},
   "source": [
    "If `axis` contains the whole set of the axes of `data`, the operation is equivalent to a simple *Ravel* with no axis specification, and gives a vector of the items of `data`:"
   ]
  },
  {
   "cell_type": "code",
   "execution_count": 468,
   "metadata": {},
   "outputs": [
    {
     "data": {
      "text/html": [
       "<span style=\"white-space:pre; font-family: monospace\">H2SO4CaCO3Fe2O3\n",
       "</span>"
      ]
     },
     "execution_count": 468,
     "metadata": {},
     "output_type": "execute_result"
    }
   ],
   "source": [
    ",[1 2] chemistry"
   ]
  },
  {
   "cell_type": "code",
   "execution_count": 469,
   "metadata": {},
   "outputs": [
    {
     "data": {
      "text/html": [
       "<span style=\"white-space:pre; font-family: monospace\">H2SO4CaCO3Fe2O3\n",
       "</span>"
      ]
     },
     "execution_count": 469,
     "metadata": {},
     "output_type": "execute_result"
    }
   ],
   "source": [
    ",chemistry"
   ]
  },
  {
   "cell_type": "markdown",
   "metadata": {},
   "source": [
    "For these reasons, *Ravel with axes* can only \"collapse\" dimensions of arrays of rank 2 or more."
   ]
  },
  {
   "cell_type": "markdown",
   "metadata": {},
   "source": [
    "## Solutions\n",
    "\n",
    "The solutions we propose in the following pages are not necessarily the \"best\" ones; perhaps you will find other solutions that we have never considered. APL is a very rich language, and due to the general nature of its primitive functions and operators there are always plenty of different ways to express different solutions to a given problem. Which one is \"the best\" depends on many things, for example the level of experience of the programmer, the importance of system performance, the required behaviour in border cases, the requirement to meet certain programming standards and also personal preferences. This is one of the reasons why APL is so pleasant to teach and to learn!\n",
    "\n",
    "We advise you to try and solve the exercises before reading the solutions!"
   ]
  },
  {
   "cell_type": "markdown",
   "metadata": {},
   "source": [
    "**Exercise 1**:\n",
    "\n",
    "Copy each expression to the APL session and execute them. If you are surprised by an answer, analyse the expression step by step, starting from the right. For example, for the first expression:"
   ]
  },
  {
   "cell_type": "code",
   "execution_count": 470,
   "metadata": {},
   "outputs": [
    {
     "data": {
      "text/html": [
       "<span style=\"white-space:pre; font-family: monospace\">6\n",
       "</span>"
      ]
     },
     "execution_count": 470,
     "metadata": {},
     "output_type": "execute_result"
    }
   ],
   "source": [
    "3 × 2 + 6 ≠ 3 × 2"
   ]
  },
  {
   "cell_type": "code",
   "execution_count": 471,
   "metadata": {},
   "outputs": [
    {
     "data": {
      "text/html": [
       "<span style=\"white-space:pre; font-family: monospace\">6\n",
       "</span>"
      ]
     },
     "execution_count": 471,
     "metadata": {},
     "output_type": "execute_result"
    }
   ],
   "source": [
    "3 × 2"
   ]
  },
  {
   "cell_type": "code",
   "execution_count": 472,
   "metadata": {},
   "outputs": [
    {
     "data": {
      "text/html": [
       "<span style=\"white-space:pre; font-family: monospace\">0\n",
       "</span>"
      ]
     },
     "execution_count": 472,
     "metadata": {},
     "output_type": "execute_result"
    }
   ],
   "source": [
    "6 ≠ 6"
   ]
  },
  {
   "cell_type": "code",
   "execution_count": 473,
   "metadata": {},
   "outputs": [
    {
     "data": {
      "text/html": [
       "<span style=\"white-space:pre; font-family: monospace\">2\n",
       "</span>"
      ]
     },
     "execution_count": 473,
     "metadata": {},
     "output_type": "execute_result"
    }
   ],
   "source": [
    "2 + 0"
   ]
  },
  {
   "cell_type": "code",
   "execution_count": 474,
   "metadata": {},
   "outputs": [
    {
     "data": {
      "text/html": [
       "<span style=\"white-space:pre; font-family: monospace\">6\n",
       "</span>"
      ]
     },
     "execution_count": 474,
     "metadata": {},
     "output_type": "execute_result"
    }
   ],
   "source": [
    "3 × 2"
   ]
  },
  {
   "cell_type": "code",
   "execution_count": 475,
   "metadata": {},
   "outputs": [
    {
     "data": {
      "text/html": [
       "<span style=\"white-space:pre; font-family: monospace\">12 6 14\n",
       "</span>"
      ]
     },
     "execution_count": 475,
     "metadata": {},
     "output_type": "execute_result"
    }
   ],
   "source": [
    "12 6 27 ⌊ 11 + ⍳3"
   ]
  },
  {
   "cell_type": "code",
   "execution_count": 476,
   "metadata": {},
   "outputs": [
    {
     "data": {
      "text/html": [
       "<span style=\"white-space:pre; font-family: monospace\">5 5 6\n",
       "</span>"
      ]
     },
     "execution_count": 476,
     "metadata": {},
     "output_type": "execute_result"
    }
   ],
   "source": [
    "4 5 6 ⌈ 4 + 2 5 9 > 1 6 8"
   ]
  },
  {
   "cell_type": "code",
   "execution_count": 477,
   "metadata": {},
   "outputs": [
    {
     "data": {
      "text/html": [
       "<span style=\"white-space:pre; font-family: monospace\">7 ¯3 6\n",
       "</span>"
      ]
     },
     "execution_count": 477,
     "metadata": {},
     "output_type": "execute_result"
    }
   ],
   "source": [
    "7 ⌊ 25 6 17 - (2 × 3) + 9 3 5"
   ]
  },
  {
   "cell_type": "code",
   "execution_count": 478,
   "metadata": {},
   "outputs": [
    {
     "data": {
      "text/html": [
       "<span style=\"white-space:pre; font-family: monospace\">42\n",
       "</span>"
      ]
     },
     "execution_count": 478,
     "metadata": {},
     "output_type": "execute_result"
    }
   ],
   "source": [
    "((8 + 6) × 2 + 1) × 3 - 6 ÷ 3"
   ]
  },
  {
   "cell_type": "code",
   "execution_count": 479,
   "metadata": {},
   "outputs": [
    {
     "data": {
      "text/html": [
       "<span style=\"white-space:pre; font-family: monospace\">\n",
       "</span>"
      ]
     },
     "execution_count": 479,
     "metadata": {},
     "output_type": "execute_result"
    }
   ],
   "source": [
    "(⍴4⌈5) + 4⌈5"
   ]
  },
  {
   "cell_type": "code",
   "execution_count": 480,
   "metadata": {},
   "outputs": [
    {
     "data": {
      "text/html": [
       "<span style=\"white-space:pre; font-family: monospace\">2\n",
       "</span>"
      ]
     },
     "execution_count": 480,
     "metadata": {},
     "output_type": "execute_result"
    }
   ],
   "source": [
    "1 ⊢ 2 ⊣ 3 ⊢ 4 ⊣ 5 ⊢ 6 ⊣ 7"
   ]
  },
  {
   "cell_type": "code",
   "execution_count": 481,
   "metadata": {},
   "outputs": [
    {
     "data": {
      "text/html": [
       "<span style=\"white-space:pre; font-family: monospace\">1\n",
       "</span>"
      ]
     },
     "execution_count": 481,
     "metadata": {},
     "output_type": "execute_result"
    }
   ],
   "source": [
    "1 ⊣ 2 ⊢ 3 ⊣ 4 ⊢ 5 ⊣ 6 ⊢ 7"
   ]
  },
  {
   "cell_type": "code",
   "execution_count": 482,
   "metadata": {},
   "outputs": [
    {
     "data": {
      "text/html": [
       "<span style=\"white-space:pre; font-family: monospace\">4 5 6\n",
       "</span>"
      ]
     },
     "execution_count": 482,
     "metadata": {},
     "output_type": "execute_result"
    }
   ],
   "source": [
    "1 2 3 ⊢ 4 5 6"
   ]
  },
  {
   "cell_type": "markdown",
   "metadata": {},
   "source": [
    "**Exercise 2**:\n",
    "\n",
    "`2 2+2 2` is the addition of two vectors of size 2:"
   ]
  },
  {
   "cell_type": "code",
   "execution_count": 483,
   "metadata": {},
   "outputs": [
    {
     "data": {
      "text/html": [
       "<span style=\"white-space:pre; font-family: monospace\">4 4\n",
       "</span>"
      ]
     },
     "execution_count": 483,
     "metadata": {},
     "output_type": "execute_result"
    }
   ],
   "source": [
    "2 2+2 2"
   ]
  },
  {
   "cell_type": "markdown",
   "metadata": {},
   "source": [
    "`2+2 2+2` is the addition of `2 2` with `2`, and then with `2` again:"
   ]
  },
  {
   "cell_type": "code",
   "execution_count": 484,
   "metadata": {},
   "outputs": [
    {
     "data": {
      "text/html": [
       "<span style=\"white-space:pre; font-family: monospace\">6 6\n",
       "</span>"
      ]
     },
     "execution_count": 484,
     "metadata": {},
     "output_type": "execute_result"
    }
   ],
   "source": [
    "2+2 2+2"
   ]
  },
  {
   "cell_type": "markdown",
   "metadata": {},
   "source": [
    "Finally, although `2,2` gives the same array as writing `2 2` out, the fact that we are catenating means we have to evaluate the catenation also from right to left, making it happen after some of the additions have already been computed."
   ]
  },
  {
   "cell_type": "code",
   "execution_count": 485,
   "metadata": {},
   "outputs": [
    {
     "data": {
      "text/html": [
       "<span style=\"white-space:pre; font-family: monospace\">4 6\n",
       "</span>"
      ]
     },
     "execution_count": 485,
     "metadata": {},
     "output_type": "execute_result"
    }
   ],
   "source": [
    "2+2,2+2"
   ]
  },
  {
   "cell_type": "code",
   "execution_count": 486,
   "metadata": {},
   "outputs": [
    {
     "data": {
      "text/html": [
       "<span style=\"white-space:pre; font-family: monospace\">2 4 4\n",
       "</span>"
      ]
     },
     "execution_count": 486,
     "metadata": {},
     "output_type": "execute_result"
    }
   ],
   "source": [
    "2,2+2,2"
   ]
  },
  {
   "cell_type": "markdown",
   "metadata": {},
   "source": [
    "**Exercise 3**:"
   ]
  },
  {
   "cell_type": "code",
   "execution_count": 488,
   "metadata": {},
   "outputs": [],
   "source": [
    "a ← 8 2 7 5"
   ]
  },
  {
   "cell_type": "markdown",
   "metadata": {},
   "source": [
    "Comparing `1+⍴a` and `⍴a+1`:"
   ]
  },
  {
   "cell_type": "code",
   "execution_count": 491,
   "metadata": {},
   "outputs": [
    {
     "data": {
      "text/html": [
       "<span style=\"white-space:pre; font-family: monospace\">5\n",
       "</span>"
      ]
     },
     "execution_count": 491,
     "metadata": {},
     "output_type": "execute_result"
    }
   ],
   "source": [
    "1+⍴a        ⍝ find the shape of `a` and then add 1 to that"
   ]
  },
  {
   "cell_type": "code",
   "execution_count": 492,
   "metadata": {},
   "outputs": [
    {
     "data": {
      "text/html": [
       "<span style=\"white-space:pre; font-family: monospace\">4\n",
       "</span>"
      ]
     },
     "execution_count": 492,
     "metadata": {},
     "output_type": "execute_result"
    }
   ],
   "source": [
    "⍴a+1        ⍝ add 1 to all items of `a` and then find the shape of that"
   ]
  },
  {
   "cell_type": "markdown",
   "metadata": {},
   "source": [
    "And now on to `1+⍳⍴a`, `⍳¯1+⍴a` and `⍳⍴a-1`. The easiest way to understand these expressions is to figure out the order in which things are happening and inspecting the intermediate steps."
   ]
  },
  {
   "cell_type": "code",
   "execution_count": 493,
   "metadata": {},
   "outputs": [
    {
     "data": {
      "text/html": [
       "<span style=\"white-space:pre; font-family: monospace\">2 3 4 5\n",
       "</span>"
      ]
     },
     "execution_count": 493,
     "metadata": {},
     "output_type": "execute_result"
    }
   ],
   "source": [
    "1+⍳⍴a"
   ]
  },
  {
   "cell_type": "code",
   "execution_count": 494,
   "metadata": {},
   "outputs": [
    {
     "data": {
      "text/html": [
       "<span style=\"white-space:pre; font-family: monospace\">1 2 3\n",
       "</span>"
      ]
     },
     "execution_count": 494,
     "metadata": {},
     "output_type": "execute_result"
    }
   ],
   "source": [
    "⍳¯1+⍴a"
   ]
  },
  {
   "cell_type": "code",
   "execution_count": 495,
   "metadata": {},
   "outputs": [
    {
     "data": {
      "text/html": [
       "<span style=\"white-space:pre; font-family: monospace\">1 2 3 4\n",
       "</span>"
      ]
     },
     "execution_count": 495,
     "metadata": {},
     "output_type": "execute_result"
    }
   ],
   "source": [
    "⍳⍴a-1"
   ]
  },
  {
   "cell_type": "markdown",
   "metadata": {},
   "source": [
    "**Exercise 4**:\n",
    "\n",
    " - `((⍳4)-1)⌈3`\n",
    "\n",
    "To remove parenthesis, what you do is locate the outermost pair of parenthesis (which is `((⍳4)-1)`), determine the function to which this pair of parenthesis is an argument (the `⌈`) and find the other argument to the same function (which is `3`).\n",
    "\n",
    "Then you check if you can swap the two arguments and, if so, remove the outermost pair of parenthesis:"
   ]
  },
  {
   "cell_type": "code",
   "execution_count": 496,
   "metadata": {},
   "outputs": [
    {
     "data": {
      "text/html": [
       "<span style=\"white-space:pre; font-family: monospace\">3 3 3 3\n",
       "</span>"
      ]
     },
     "execution_count": 496,
     "metadata": {},
     "output_type": "execute_result"
    }
   ],
   "source": [
    "((⍳4)-1) ⌈ 3"
   ]
  },
  {
   "cell_type": "code",
   "execution_count": 497,
   "metadata": {},
   "outputs": [
    {
     "data": {
      "text/html": [
       "<span style=\"white-space:pre; font-family: monospace\">3 3 3 3\n",
       "</span>"
      ]
     },
     "execution_count": 497,
     "metadata": {},
     "output_type": "execute_result"
    }
   ],
   "source": [
    "3 ⌈ ((⍳4)-1)"
   ]
  },
  {
   "cell_type": "code",
   "execution_count": 498,
   "metadata": {},
   "outputs": [
    {
     "data": {
      "text/html": [
       "<span style=\"white-space:pre; font-family: monospace\">3 3 3 3\n",
       "</span>"
      ]
     },
     "execution_count": 498,
     "metadata": {},
     "output_type": "execute_result"
    }
   ],
   "source": [
    "3 ⌈ (⍳4) - 1"
   ]
  },
  {
   "cell_type": "markdown",
   "metadata": {},
   "source": [
    "Now if you wish to remove the parenthesis from `(⍳4)` we have to move it to the right of the subtraction, but `-` is not commutative so we have to employ a little trick to make sure the expression still evaluates to the same result:"
   ]
  },
  {
   "cell_type": "code",
   "execution_count": 499,
   "metadata": {},
   "outputs": [
    {
     "data": {
      "text/html": [
       "<span style=\"white-space:pre; font-family: monospace\">3 3 3 3\n",
       "</span>"
      ]
     },
     "execution_count": 499,
     "metadata": {},
     "output_type": "execute_result"
    }
   ],
   "source": [
    "3 ⌈ (⍳4) - 1"
   ]
  },
  {
   "cell_type": "code",
   "execution_count": 500,
   "metadata": {},
   "outputs": [
    {
     "data": {
      "text/html": [
       "<span style=\"white-space:pre; font-family: monospace\">3 3 3 3\n",
       "</span>"
      ]
     },
     "execution_count": 500,
     "metadata": {},
     "output_type": "execute_result"
    }
   ],
   "source": [
    "3 ⌈ ¯1 + ⍳4"
   ]
  },
  {
   "cell_type": "markdown",
   "metadata": {},
   "source": [
    "Please note that this sort of thing is not always possible!\n",
    "\n",
    " - `7⌊(⍳9)⌈3`"
   ]
  },
  {
   "cell_type": "code",
   "execution_count": 501,
   "metadata": {},
   "outputs": [
    {
     "data": {
      "text/html": [
       "<span style=\"white-space:pre; font-family: monospace\">3 3 3 4 5 6 7 7 7\n",
       "</span>"
      ]
     },
     "execution_count": 501,
     "metadata": {},
     "output_type": "execute_result"
    }
   ],
   "source": [
    "7⌊ (⍳9) ⌈ 3"
   ]
  },
  {
   "cell_type": "code",
   "execution_count": 502,
   "metadata": {},
   "outputs": [
    {
     "data": {
      "text/html": [
       "<span style=\"white-space:pre; font-family: monospace\">3 3 3 4 5 6 7 7 7\n",
       "</span>"
      ]
     },
     "execution_count": 502,
     "metadata": {},
     "output_type": "execute_result"
    }
   ],
   "source": [
    "7⌊ 3 ⌈ (⍳9)"
   ]
  },
  {
   "cell_type": "code",
   "execution_count": 503,
   "metadata": {},
   "outputs": [
    {
     "data": {
      "text/html": [
       "<span style=\"white-space:pre; font-family: monospace\">3 3 3 4 5 6 7 7 7\n",
       "</span>"
      ]
     },
     "execution_count": 503,
     "metadata": {},
     "output_type": "execute_result"
    }
   ],
   "source": [
    "7⌊3⌈⍳9"
   ]
  },
  {
   "cell_type": "markdown",
   "metadata": {},
   "source": [
    " - `1+((⍳5)=1 4 3 2 5)×5`"
   ]
  },
  {
   "cell_type": "code",
   "execution_count": 504,
   "metadata": {},
   "outputs": [
    {
     "data": {
      "text/html": [
       "<span style=\"white-space:pre; font-family: monospace\">6 1 6 1 6\n",
       "</span>"
      ]
     },
     "execution_count": 504,
     "metadata": {},
     "output_type": "execute_result"
    }
   ],
   "source": [
    "1+ ((⍳5)=1 4 3 2 5) × 5"
   ]
  },
  {
   "cell_type": "code",
   "execution_count": 505,
   "metadata": {},
   "outputs": [
    {
     "data": {
      "text/html": [
       "<span style=\"white-space:pre; font-family: monospace\">6 1 6 1 6\n",
       "</span>"
      ]
     },
     "execution_count": 505,
     "metadata": {},
     "output_type": "execute_result"
    }
   ],
   "source": [
    "1+ 5 × ((⍳5)=1 4 3 2 5)"
   ]
  },
  {
   "cell_type": "code",
   "execution_count": 506,
   "metadata": {},
   "outputs": [
    {
     "data": {
      "text/html": [
       "<span style=\"white-space:pre; font-family: monospace\">6 1 6 1 6\n",
       "</span>"
      ]
     },
     "execution_count": 506,
     "metadata": {},
     "output_type": "execute_result"
    }
   ],
   "source": [
    "1+ 5 × (⍳5) = 1 4 3 2 5"
   ]
  },
  {
   "cell_type": "code",
   "execution_count": 507,
   "metadata": {},
   "outputs": [
    {
     "data": {
      "text/html": [
       "<span style=\"white-space:pre; font-family: monospace\">6 1 6 1 6\n",
       "</span>"
      ]
     },
     "execution_count": 507,
     "metadata": {},
     "output_type": "execute_result"
    }
   ],
   "source": [
    "1+5× 1 4 3 2 5 = (⍳5)"
   ]
  },
  {
   "cell_type": "code",
   "execution_count": 508,
   "metadata": {},
   "outputs": [
    {
     "data": {
      "text/html": [
       "<span style=\"white-space:pre; font-family: monospace\">6 1 6 1 6\n",
       "</span>"
      ]
     },
     "execution_count": 508,
     "metadata": {},
     "output_type": "execute_result"
    }
   ],
   "source": [
    "1+5×1 4 3 2 5=⍳5"
   ]
  },
  {
   "cell_type": "markdown",
   "metadata": {},
   "source": [
    "**Exercise 5**:\n",
    "\n",
    "There are a couple of ways to determine if `a` is a scalar or not. For example, we might check if its rank is 0 with `0=≢⍴a`. We might also check if its shape matches the empty numeric vector with `⍬≡⍴a`."
   ]
  },
  {
   "cell_type": "markdown",
   "metadata": {},
   "source": [
    "**Exercise 6**:\n",
    "\n",
    "A possible way to look at this is by realising that the expression we are about to create is supposed to give two different values depending on the value of `a≥b`. If `a≥b` is 1 the expression needs to evaluate to 7 and if not, it needs to evaluate to 3.\n",
    "\n",
    "What we can do is write an expression that \"returns at least 3, with a bonus 4 whenever `a≥b`\". From that perspective, we can do `3+(4×a≥b)` which is the same as `3+4×a≥b`."
   ]
  },
  {
   "cell_type": "markdown",
   "metadata": {},
   "source": [
    "**Exercise 7**:\n",
    "\n",
    "An example expression could be `(a≠0)⍴3×b≠0`. Here's how to get there:\n",
    "\n",
    "We have 3 restrictions, the first one being about the shape of the result and the other two about the value itself. Reading the first restriction and factoring it with the other two, we see that\n",
    "\n",
    " - we should return an empty vector whenever `a` is zero and a numerical vector otherwise.\n",
    " \n",
    "This means our expression will be of the form `(a≠0)⍴(...)`. If `a` is zero, then `a≠0` returns 0 and the right expression won't matter, because we get an empty vector. If `a` is not zero, then `a≠0` returns 1, and we leave the *value* of the right expression as is.\n",
    "\n",
    "Now we only have to figure out what goes into `(...)`, which should be an expression that evaluates to 0 if `b` is zero and 3 if `b` is not zero. We don't need to care about enforcing `a` to be different from zero because if `a` is zero we will get an empty vector either way...\n",
    "\n",
    "Thus this sub expression can be something like `3×b≠0`, which evaluates to `3` or `0` depending on the value of `b` being zero or not.\n",
    "\n",
    "Putting everything together we get `(a≠0)⍴3×b≠0`."
   ]
  },
  {
   "cell_type": "markdown",
   "metadata": {},
   "source": [
    "**Exercise 8**:\n",
    "\n",
    " - replace `∧` with `×` or `⌊`;\n",
    " - replace `∨` with `⌈`.\n",
    "\n",
    "`∧` returns 1 if both of the arguments are 1 and 0 in any other case. Rephrasing this, we get that `∧` returns 0 whenever there is a 0 present. From this, we see that both `×` and `⌊` are suitable replacements. `×` because whenever there is a 0, multiplication by 0 gives 0. A similar thing happens for `⌊` because we are only dealing with arguments that are 0 or 1.\n",
    "\n",
    "`∨` returns 1 whenever there is a 1 as argument, so we see that `⌈` is a suitable replacement."
   ]
  },
  {
   "cell_type": "code",
   "execution_count": 510,
   "metadata": {},
   "outputs": [],
   "source": [
    "l ← 0 0 1 1\n",
    "r ← 0 1 0 1"
   ]
  },
  {
   "cell_type": "code",
   "execution_count": 511,
   "metadata": {},
   "outputs": [
    {
     "data": {
      "text/html": [
       "<span style=\"white-space:pre; font-family: monospace\">0 0 0 1\n",
       "</span>"
      ]
     },
     "execution_count": 511,
     "metadata": {},
     "output_type": "execute_result"
    }
   ],
   "source": [
    "l ∧ r"
   ]
  },
  {
   "cell_type": "code",
   "execution_count": 512,
   "metadata": {},
   "outputs": [
    {
     "data": {
      "text/html": [
       "<span style=\"white-space:pre; font-family: monospace\">0 0 0 1\n",
       "</span>"
      ]
     },
     "execution_count": 512,
     "metadata": {},
     "output_type": "execute_result"
    }
   ],
   "source": [
    "l × r"
   ]
  },
  {
   "cell_type": "code",
   "execution_count": 513,
   "metadata": {},
   "outputs": [
    {
     "data": {
      "text/html": [
       "<span style=\"white-space:pre; font-family: monospace\">0 0 0 1\n",
       "</span>"
      ]
     },
     "execution_count": 513,
     "metadata": {},
     "output_type": "execute_result"
    }
   ],
   "source": [
    "l ⌊ r"
   ]
  },
  {
   "cell_type": "code",
   "execution_count": 514,
   "metadata": {},
   "outputs": [
    {
     "data": {
      "text/html": [
       "<span style=\"white-space:pre; font-family: monospace\">0 1 1 1\n",
       "</span>"
      ]
     },
     "execution_count": 514,
     "metadata": {},
     "output_type": "execute_result"
    }
   ],
   "source": [
    "l ∨ r"
   ]
  },
  {
   "cell_type": "code",
   "execution_count": 515,
   "metadata": {},
   "outputs": [
    {
     "data": {
      "text/html": [
       "<span style=\"white-space:pre; font-family: monospace\">0 1 1 1\n",
       "</span>"
      ]
     },
     "execution_count": 515,
     "metadata": {},
     "output_type": "execute_result"
    }
   ],
   "source": [
    "l ⌈ r"
   ]
  },
  {
   "cell_type": "markdown",
   "metadata": {},
   "source": [
    "**Exercise 9**:"
   ]
  },
  {
   "cell_type": "code",
   "execution_count": 516,
   "metadata": {},
   "outputs": [],
   "source": [
    "g ← 1 1 1 0 0 1\n",
    "m ← 0 0 1 1 0 1\n",
    "d ← 1 0 1 0 1 0"
   ]
  },
  {
   "cell_type": "code",
   "execution_count": 517,
   "metadata": {},
   "outputs": [
    {
     "data": {
      "text/html": [
       "<span style=\"white-space:pre; font-family: monospace\">1 1 1 0 1 1\n",
       "</span>"
      ]
     },
     "execution_count": 517,
     "metadata": {},
     "output_type": "execute_result"
    }
   ],
   "source": [
    "g∨d"
   ]
  },
  {
   "cell_type": "code",
   "execution_count": 518,
   "metadata": {},
   "outputs": [
    {
     "data": {
      "text/html": [
       "<span style=\"white-space:pre; font-family: monospace\">0 1 0 1 1 1\n",
       "</span>"
      ]
     },
     "execution_count": 518,
     "metadata": {},
     "output_type": "execute_result"
    }
   ],
   "source": [
    "~g∧d"
   ]
  },
  {
   "cell_type": "code",
   "execution_count": 519,
   "metadata": {},
   "outputs": [
    {
     "data": {
      "text/html": [
       "<span style=\"white-space:pre; font-family: monospace\">0 0 0 0 1 0\n",
       "</span>"
      ]
     },
     "execution_count": 519,
     "metadata": {},
     "output_type": "execute_result"
    }
   ],
   "source": [
    "~g∨~d"
   ]
  },
  {
   "cell_type": "code",
   "execution_count": 520,
   "metadata": {},
   "outputs": [
    {
     "data": {
      "text/html": [
       "<span style=\"white-space:pre; font-family: monospace\">0 0 0 0 1 0\n",
       "</span>"
      ]
     },
     "execution_count": 520,
     "metadata": {},
     "output_type": "execute_result"
    }
   ],
   "source": [
    "d∧~g"
   ]
  },
  {
   "cell_type": "code",
   "execution_count": 521,
   "metadata": {},
   "outputs": [
    {
     "data": {
      "text/html": [
       "<span style=\"white-space:pre; font-family: monospace\">1 0 1 0 0 1\n",
       "</span>"
      ]
     },
     "execution_count": 521,
     "metadata": {},
     "output_type": "execute_result"
    }
   ],
   "source": [
    "g∧m∨d"
   ]
  },
  {
   "cell_type": "code",
   "execution_count": 522,
   "metadata": {},
   "outputs": [
    {
     "data": {
      "text/html": [
       "<span style=\"white-space:pre; font-family: monospace\">0 0 0 1 0 0\n",
       "</span>"
      ]
     },
     "execution_count": 522,
     "metadata": {},
     "output_type": "execute_result"
    }
   ],
   "source": [
    "(~d)∧(~g)"
   ]
  },
  {
   "cell_type": "code",
   "execution_count": 523,
   "metadata": {},
   "outputs": [
    {
     "data": {
      "text/html": [
       "<span style=\"white-space:pre; font-family: monospace\">0 0 1 0 1 0\n",
       "</span>"
      ]
     },
     "execution_count": 523,
     "metadata": {},
     "output_type": "execute_result"
    }
   ],
   "source": [
    "(m⌈g)=(m⌊d)"
   ]
  },
  {
   "cell_type": "code",
   "execution_count": 524,
   "metadata": {},
   "outputs": [
    {
     "data": {
      "text/html": [
       "<span style=\"white-space:pre; font-family: monospace\">1 0 0 1 1 0\n",
       "</span>"
      ]
     },
     "execution_count": 524,
     "metadata": {},
     "output_type": "execute_result"
    }
   ],
   "source": [
    "(m⌊g)≠(m⌈d)"
   ]
  },
  {
   "cell_type": "markdown",
   "metadata": {},
   "source": [
    "**Exercise 10**:"
   ]
  },
  {
   "cell_type": "code",
   "execution_count": 525,
   "metadata": {},
   "outputs": [
    {
     "data": {
      "text/html": [
       "<span style=\"white-space:pre; font-family: monospace\">1\n",
       "</span>"
      ]
     },
     "execution_count": 525,
     "metadata": {},
     "output_type": "execute_result"
    }
   ],
   "source": [
    "0 < 0 ≤ 0 = 0 ≥ 0 > 0"
   ]
  },
  {
   "cell_type": "code",
   "execution_count": 526,
   "metadata": {},
   "outputs": [
    {
     "data": {
      "text/html": [
       "<span style=\"white-space:pre; font-family: monospace\">1 0 0 1 0\n",
       "</span>"
      ]
     },
     "execution_count": 526,
     "metadata": {},
     "output_type": "execute_result"
    }
   ],
   "source": [
    "'sugar' ∊ 'salt'"
   ]
  },
  {
   "cell_type": "markdown",
   "metadata": {},
   "source": [
    "Above we check which letters of `'sugar'` also show up in `'salt'`."
   ]
  },
  {
   "cell_type": "code",
   "execution_count": 527,
   "metadata": {},
   "outputs": [
    {
     "data": {
      "text/html": [
       "<span style=\"white-space:pre; font-family: monospace\">1 1\n",
       "</span>"
      ]
     },
     "execution_count": 527,
     "metadata": {},
     "output_type": "execute_result"
    }
   ],
   "source": [
    "11 ≠ '11'"
   ]
  },
  {
   "cell_type": "markdown",
   "metadata": {},
   "source": [
    "Here we compare each character of `'11'` with the number 11."
   ]
  },
  {
   "cell_type": "code",
   "execution_count": 528,
   "metadata": {},
   "outputs": [
    {
     "data": {
      "text/html": [
       "<span style=\"white-space:pre; font-family: monospace\">2 1\n",
       "</span>"
      ]
     },
     "execution_count": 528,
     "metadata": {},
     "output_type": "execute_result"
    }
   ],
   "source": [
    "'14' ⍳ '41'"
   ]
  },
  {
   "cell_type": "markdown",
   "metadata": {},
   "source": [
    "And here we find the position of each character of `'41'` in `'14'`."
   ]
  },
  {
   "cell_type": "markdown",
   "metadata": {},
   "source": [
    "**Exercise 11**:\n",
    "\n",
    "A sensible way to approach this problem is to first compare the string with the character `'e'` and then sum the 1s that show up:"
   ]
  },
  {
   "cell_type": "code",
   "execution_count": 529,
   "metadata": {},
   "outputs": [
    {
     "data": {
      "text/html": [
       "<span style=\"white-space:pre; font-family: monospace\">5\n",
       "</span>"
      ]
     },
     "execution_count": 529,
     "metadata": {},
     "output_type": "execute_result"
    }
   ],
   "source": [
    "text ← 'The silence of the sea'\n",
    "+/ 'e'=text"
   ]
  },
  {
   "cell_type": "markdown",
   "metadata": {},
   "source": [
    "**Exercise 12**:\n",
    "\n",
    "You may have come up with expressions that are similar to these ones or maybe completely different! We show *some* possibilities below.\n",
    "\n",
    "We included different types of vectors so that you could be sure your solutions also work for all sorts of different vectors."
   ]
  },
  {
   "cell_type": "code",
   "execution_count": 535,
   "metadata": {},
   "outputs": [
    {
     "data": {
      "text/html": [
       "<span style=\"white-space:pre; font-family: monospace\">6\n",
       "</span>"
      ]
     },
     "execution_count": 535,
     "metadata": {},
     "output_type": "execute_result"
    }
   ],
   "source": [
    "vec ← 1 2 3 4 5 6\n",
    "⊢/ vec"
   ]
  },
  {
   "cell_type": "code",
   "execution_count": 536,
   "metadata": {},
   "outputs": [
    {
     "data": {
      "text/html": [
       "<span style=\"white-space:pre; font-family: monospace\">6\n",
       "</span>"
      ]
     },
     "execution_count": 536,
     "metadata": {},
     "output_type": "execute_result"
    }
   ],
   "source": [
    "vec ← (1 2) 3 (4 5) 6\n",
    "vec[≢vec]"
   ]
  },
  {
   "cell_type": "code",
   "execution_count": 537,
   "metadata": {},
   "outputs": [
    {
     "data": {
      "text/html": [
       "<span style=\"white-space:pre; font-family: monospace\">┌─────┐\n",
       "│0 0 0│\n",
       "│0 0 0│\n",
       "└─────┘\n",
       "</span>"
      ]
     },
     "execution_count": 537,
     "metadata": {},
     "output_type": "execute_result"
    }
   ],
   "source": [
    "vec ← 0 (5⍴0) (3 4⍴0) (1 2 3⍴0)\n",
    "((≢vec)=⍳≢vec)/vec"
   ]
  },
  {
   "cell_type": "code",
   "execution_count": 538,
   "metadata": {},
   "outputs": [
    {
     "data": {
      "text/html": [
       "<span style=\"white-space:pre; font-family: monospace\">┌─────┐\n",
       "│0 0 0│\n",
       "│0 0 0│\n",
       "└─────┘\n",
       "</span>"
      ]
     },
     "execution_count": 538,
     "metadata": {},
     "output_type": "execute_result"
    }
   ],
   "source": [
    "(⍴vec)⌷vec"
   ]
  },
  {
   "cell_type": "markdown",
   "metadata": {},
   "source": [
    "**Exercise 13**:\n",
    "\n",
    "Notice how `2 ⍴ 7` gives the first 2 elements of `z`, which are 1 and 7.\n",
    "\n",
    "Then\n",
    "\n",
    "```APL\n",
    "      z = 9\n",
    "0\n",
    "0\n",
    "1\n",
    "0\n",
    "```\n",
    "\n",
    "gives both the shape of `z` (a column with 4 rows) and the third element which is 9. The missing clue gives that the elements of `z` sum up to 20, but we already have 1, 7 and 9 which sum to 17, so the remaining element of `z` is a 3:"
   ]
  },
  {
   "cell_type": "code",
   "execution_count": 539,
   "metadata": {},
   "outputs": [
    {
     "data": {
      "text/html": [
       "<span style=\"white-space:pre; font-family: monospace\">1 7\n",
       "</span>"
      ]
     },
     "execution_count": 539,
     "metadata": {},
     "output_type": "execute_result"
    }
   ],
   "source": [
    "z ← 4 1⍴1 7 9 3\n",
    "2 ⍴ z"
   ]
  },
  {
   "cell_type": "code",
   "execution_count": 540,
   "metadata": {},
   "outputs": [
    {
     "data": {
      "text/html": [
       "<span style=\"white-space:pre; font-family: monospace\">20\n",
       "</span>"
      ]
     },
     "execution_count": 540,
     "metadata": {},
     "output_type": "execute_result"
    }
   ],
   "source": [
    "+⌿ z"
   ]
  },
  {
   "cell_type": "code",
   "execution_count": 541,
   "metadata": {},
   "outputs": [
    {
     "data": {
      "text/html": [
       "<span style=\"white-space:pre; font-family: monospace\">0\n",
       "0\n",
       "1\n",
       "0\n",
       "</span>"
      ]
     },
     "execution_count": 541,
     "metadata": {},
     "output_type": "execute_result"
    }
   ],
   "source": [
    "z = 9"
   ]
  },
  {
   "cell_type": "markdown",
   "metadata": {},
   "source": [
    "**Exercise 14**:\n",
    "\n",
    "```APL\n",
    "      z = 0\n",
    "0 1 0 0\n",
    "1 0 0 1\n",
    "```\n",
    "\n",
    "gives the shape of `z` and some of its values:\n",
    "\n",
    "```APL\n",
    "? 0 ? ?\n",
    "0 ? ? 0\n",
    "```\n",
    "\n",
    "Now `+/[1] z` gives the sums of the columns, from which we extract\n",
    "\n",
    "```APL\n",
    "8 0 ? 5\n",
    "0 7 ? 0\n",
    "```\n",
    "\n",
    "Finally, `+/[2] z` gives the sums of the rows, from which we get that the missing `?` are 7 and -1:\n",
    "\n",
    "```APL\n",
    "8 0  7 5\n",
    "0 7 ¯1 0\n",
    "```"
   ]
  },
  {
   "cell_type": "code",
   "execution_count": 542,
   "metadata": {},
   "outputs": [
    {
     "data": {
      "text/html": [
       "<span style=\"white-space:pre; font-family: monospace\">0 1 0 0\n",
       "1 0 0 1\n",
       "</span>"
      ]
     },
     "execution_count": 542,
     "metadata": {},
     "output_type": "execute_result"
    }
   ],
   "source": [
    "z ← 2 4⍴8 0 7 5 0 7 ¯1 0\n",
    "z = 0"
   ]
  },
  {
   "cell_type": "code",
   "execution_count": 543,
   "metadata": {},
   "outputs": [
    {
     "data": {
      "text/html": [
       "<span style=\"white-space:pre; font-family: monospace\">20 6\n",
       "</span>"
      ]
     },
     "execution_count": 543,
     "metadata": {},
     "output_type": "execute_result"
    }
   ],
   "source": [
    "+/[2] z"
   ]
  },
  {
   "cell_type": "code",
   "execution_count": 544,
   "metadata": {},
   "outputs": [
    {
     "data": {
      "text/html": [
       "<span style=\"white-space:pre; font-family: monospace\">8 7 6 5\n",
       "</span>"
      ]
     },
     "execution_count": 544,
     "metadata": {},
     "output_type": "execute_result"
    }
   ],
   "source": [
    "+/[1] z"
   ]
  },
  {
   "cell_type": "markdown",
   "metadata": {},
   "source": [
    "**Exercise 15**:\n",
    "\n",
    "**Positions** can be retrieved with *Where*:"
   ]
  },
  {
   "cell_type": "code",
   "execution_count": 545,
   "metadata": {},
   "outputs": [
    {
     "data": {
      "text/html": [
       "<span style=\"white-space:pre; font-family: monospace\">3 8 11 18 21\n",
       "</span>"
      ]
     },
     "execution_count": 545,
     "metadata": {},
     "output_type": "execute_result"
    }
   ],
   "source": [
    "text ← 'The silence of the sea'\n",
    "⍸'e'=text"
   ]
  },
  {
   "cell_type": "markdown",
   "metadata": {},
   "source": [
    "**Exercise 16**:\n",
    "\n",
    "There are a couple of different ways to solve this problem. From an indexing perspective, we might want to generate all the odd numbers up to, and including, the length of the vector:"
   ]
  },
  {
   "cell_type": "code",
   "execution_count": 548,
   "metadata": {},
   "outputs": [
    {
     "data": {
      "text/html": [
       "<span style=\"white-space:pre; font-family: monospace\">1 3 5 7 9\n",
       "</span>"
      ]
     },
     "execution_count": 548,
     "metadata": {},
     "output_type": "execute_result"
    }
   ],
   "source": [
    "vec ← 1 2 3 4 5 6 7 8 9\n",
    "vec[¯1+2×⍳⌈(≢vec)÷2]"
   ]
  },
  {
   "cell_type": "markdown",
   "metadata": {},
   "source": [
    "This works by first figuring out *how many* indices we are going to need:"
   ]
  },
  {
   "cell_type": "code",
   "execution_count": 549,
   "metadata": {},
   "outputs": [
    {
     "data": {
      "text/html": [
       "<span style=\"white-space:pre; font-family: monospace\">5\n",
       "</span>"
      ]
     },
     "execution_count": 549,
     "metadata": {},
     "output_type": "execute_result"
    }
   ],
   "source": [
    "⌈(≢vec)÷2"
   ]
  },
  {
   "cell_type": "markdown",
   "metadata": {},
   "source": [
    "Then generating 5 consecutive numbers and adjusting them so they become the odd numbers:"
   ]
  },
  {
   "cell_type": "code",
   "execution_count": 550,
   "metadata": {},
   "outputs": [
    {
     "data": {
      "text/html": [
       "<span style=\"white-space:pre; font-family: monospace\">1 3 5 7 9\n",
       "</span>"
      ]
     },
     "execution_count": 550,
     "metadata": {},
     "output_type": "execute_result"
    }
   ],
   "source": [
    "¯1+2×⍳5"
   ]
  },
  {
   "cell_type": "markdown",
   "metadata": {},
   "source": [
    "Another possibility is to compress the odd positions:"
   ]
  },
  {
   "cell_type": "code",
   "execution_count": 551,
   "metadata": {},
   "outputs": [
    {
     "data": {
      "text/html": [
       "<span style=\"white-space:pre; font-family: monospace\">CONGRATULATIONS\n",
       "</span>"
      ]
     },
     "execution_count": 551,
     "metadata": {},
     "output_type": "execute_result"
    }
   ],
   "source": [
    "vec ← 'CROANGGARYANTLULLBAPTWIZOSNSSB'\n",
    "(2|⍳≢Vec)/vec"
   ]
  },
  {
   "cell_type": "markdown",
   "metadata": {},
   "source": [
    "Another really ingenious solution makes use of the fact that *Reshape* reuses the right argument if needed, and so we can just *Compress* by reshaping `1 0` to the correct length:"
   ]
  },
  {
   "cell_type": "code",
   "execution_count": 562,
   "metadata": {},
   "outputs": [
    {
     "data": {
      "text/html": [
       "<span style=\"white-space:pre; font-family: monospace\">┌───┬─────┐\n",
       "│1 2│4 5 6│\n",
       "└───┴─────┘\n",
       "</span>"
      ]
     },
     "execution_count": 562,
     "metadata": {},
     "output_type": "execute_result"
    }
   ],
   "source": [
    "vec ← (1 2) (2 3) (4 5 6) (6 9 42 1024)\n",
    "((≢vec)⍴1 0)/vec"
   ]
  },
  {
   "cell_type": "markdown",
   "metadata": {},
   "source": [
    "**Exercise 17**:\n",
    "\n",
    "*Ravel* will take a 3-D array and create a long vector with all its items, so we just have to count them:"
   ]
  },
  {
   "cell_type": "code",
   "execution_count": 563,
   "metadata": {},
   "outputs": [
    {
     "data": {
      "text/html": [
       "<span style=\"white-space:pre; font-family: monospace\">120\n",
       "</span>"
      ]
     },
     "execution_count": 563,
     "metadata": {},
     "output_type": "execute_result"
    }
   ],
   "source": [
    "≢,prod"
   ]
  },
  {
   "cell_type": "markdown",
   "metadata": {},
   "source": [
    "Alternatively, we can use some mathematics and realise that there are as many items in `prod` as its shape allows, where multiplying the dimensions together will yield the total. Think of it like computing the area of a rectangle for a 2-D array and the volume of a rectangular prism for a 3-D array:"
   ]
  },
  {
   "cell_type": "code",
   "execution_count": 564,
   "metadata": {},
   "outputs": [
    {
     "data": {
      "text/html": [
       "<span style=\"white-space:pre; font-family: monospace\">5 2 12\n",
       "</span>"
      ]
     },
     "execution_count": 564,
     "metadata": {},
     "output_type": "execute_result"
    }
   ],
   "source": [
    "⍴prod"
   ]
  },
  {
   "cell_type": "code",
   "execution_count": 565,
   "metadata": {},
   "outputs": [
    {
     "data": {
      "text/html": [
       "<span style=\"white-space:pre; font-family: monospace\">120\n",
       "</span>"
      ]
     },
     "execution_count": 565,
     "metadata": {},
     "output_type": "execute_result"
    }
   ],
   "source": [
    "×/⍴prod"
   ]
  },
  {
   "cell_type": "markdown",
   "metadata": {},
   "source": [
    "**Exercise 18**:\n",
    "\n",
    "This is a simple exercise in compressing with a Boolean mask. We just create a mask with all the numbers we want to keep:"
   ]
  },
  {
   "cell_type": "code",
   "execution_count": 566,
   "metadata": {},
   "outputs": [
    {
     "data": {
      "text/html": [
       "<span style=\"white-space:pre; font-family: monospace\">20 21 22 23 24 25 26 27 28 29\n",
       "</span>"
      ]
     },
     "execution_count": 566,
     "metadata": {},
     "output_type": "execute_result"
    }
   ],
   "source": [
    "ns ← 10+⍳30            ⍝ just a vector to exemplify with\n",
    "((ns<30)∧ns≥20)/ns"
   ]
  },
  {
   "cell_type": "markdown",
   "metadata": {},
   "source": [
    "Be careful with using the correct Boolean operator. Swapping them around might create an expression which preserves the vector as-is:"
   ]
  },
  {
   "cell_type": "code",
   "execution_count": 567,
   "metadata": {},
   "outputs": [
    {
     "data": {
      "text/html": [
       "<span style=\"white-space:pre; font-family: monospace\">11 12 13 14 15 16 17 18 19 20 21 22 23 24 25 26 27 28 29 30 31 32 33 34 35 36 37 38 39 40\n",
       "</span>"
      ]
     },
     "execution_count": 567,
     "metadata": {},
     "output_type": "execute_result"
    }
   ],
   "source": [
    "((ns<30)∨ns≥20)/ns     ⍝ swapped ∧ with ∨"
   ]
  },
  {
   "cell_type": "markdown",
   "metadata": {},
   "source": [
    "**Exercise 19**:"
   ]
  },
  {
   "cell_type": "code",
   "execution_count": 568,
   "metadata": {},
   "outputs": [
    {
     "data": {
      "text/html": [
       "<span style=\"white-space:pre; font-family: monospace\">4\n",
       "</span>"
      ]
     },
     "execution_count": 568,
     "metadata": {},
     "output_type": "execute_result"
    }
   ],
   "source": [
    "≢vec"
   ]
  },
  {
   "cell_type": "code",
   "execution_count": 570,
   "metadata": {},
   "outputs": [
    {
     "data": {
      "text/html": [
       "<span style=\"white-space:pre; font-family: monospace\">4\n",
       "</span>"
      ]
     },
     "execution_count": 570,
     "metadata": {},
     "output_type": "execute_result"
    }
   ],
   "source": [
    "⍴vec"
   ]
  },
  {
   "cell_type": "markdown",
   "metadata": {},
   "source": [
    "The two expressions have the same value but they have different shapes. While `≢vec` is a scalar:"
   ]
  },
  {
   "cell_type": "code",
   "execution_count": 571,
   "metadata": {},
   "outputs": [
    {
     "data": {
      "text/html": [
       "<span style=\"white-space:pre; font-family: monospace\">\n",
       "</span>"
      ]
     },
     "execution_count": 571,
     "metadata": {},
     "output_type": "execute_result"
    }
   ],
   "source": [
    "⍴≢vec"
   ]
  },
  {
   "cell_type": "markdown",
   "metadata": {},
   "source": [
    "`⍴vec` is a vector of length 1:"
   ]
  },
  {
   "cell_type": "code",
   "execution_count": 28,
   "metadata": {},
   "outputs": [
    {
     "name": "stderr",
     "output_type": "stream",
     "text": [
      "VALUE ERROR: Undefined name: vec\n",
      "      ⍴⍴vec\n",
      "        ∧\n"
     ]
    }
   ],
   "source": [
    "⍴⍴vec"
   ]
  },
  {
   "cell_type": "markdown",
   "metadata": {},
   "source": [
    "**Exercise 20**:\n",
    "\n",
    "For this exercise we just have to revisit the rule for how *Depth* works and work our way inside out.\n",
    "\n",
    "A scalar has depth 0"
   ]
  },
  {
   "cell_type": "code",
   "execution_count": 573,
   "metadata": {},
   "outputs": [
    {
     "data": {
      "text/html": [
       "<span style=\"white-space:pre; font-family: monospace\">0\n",
       "</span>"
      ]
     },
     "execution_count": 573,
     "metadata": {},
     "output_type": "execute_result"
    }
   ],
   "source": [
    "≡42"
   ]
  },
  {
   "cell_type": "markdown",
   "metadata": {},
   "source": [
    "and a simple vector has depth 1"
   ]
  },
  {
   "cell_type": "code",
   "execution_count": 574,
   "metadata": {},
   "outputs": [
    {
     "data": {
      "text/html": [
       "<span style=\"white-space:pre; font-family: monospace\">1\n",
       "</span>"
      ]
     },
     "execution_count": 574,
     "metadata": {},
     "output_type": "execute_result"
    }
   ],
   "source": [
    "≡42 41 40 39"
   ]
  },
  {
   "cell_type": "markdown",
   "metadata": {},
   "source": [
    "because all its items are scalars of depth 0. Similarly for a simple matrix. Even though its rank is larger than the rank of a vector, the matrix only contains scalars of depth 0 and thus its depth is also 1:"
   ]
  },
  {
   "cell_type": "code",
   "execution_count": 575,
   "metadata": {},
   "outputs": [
    {
     "data": {
      "text/html": [
       "<span style=\"white-space:pre; font-family: monospace\">1\n",
       "</span>"
      ]
     },
     "execution_count": 575,
     "metadata": {},
     "output_type": "execute_result"
    }
   ],
   "source": [
    "≡2 2⍴42 41 40 39"
   ]
  },
  {
   "cell_type": "markdown",
   "metadata": {},
   "source": [
    "For uneven nested vectors we just compute the largest depth, add 1 and then return it as a negative number. Since `1 (2 3) (4 5)` contains scalars (of depth 0) and vectors (of depth 1) its depth should be -2:"
   ]
  },
  {
   "cell_type": "code",
   "execution_count": 576,
   "metadata": {},
   "outputs": [
    {
     "data": {
      "text/html": [
       "<span style=\"white-space:pre; font-family: monospace\">¯2\n",
       "</span>"
      ]
     },
     "execution_count": 576,
     "metadata": {},
     "output_type": "execute_result"
    }
   ],
   "source": [
    "≡1 (2 3) (4 5)"
   ]
  },
  {
   "cell_type": "markdown",
   "metadata": {},
   "source": [
    "On the other hand, `(1 2) (3 4 5) (6 7 8 9)` is a vector of vectors, and thus its depth is 2:"
   ]
  },
  {
   "cell_type": "code",
   "execution_count": 577,
   "metadata": {},
   "outputs": [
    {
     "data": {
      "text/html": [
       "<span style=\"white-space:pre; font-family: monospace\">2\n",
       "</span>"
      ]
     },
     "execution_count": 577,
     "metadata": {},
     "output_type": "execute_result"
    }
   ],
   "source": [
    "≡(1 2) (3 4 5) (6 7 8 9)"
   ]
  },
  {
   "cell_type": "markdown",
   "metadata": {},
   "source": [
    "Computing the depth of `1 (2 (3 (4 (5 (6 7)))))` is just a matter of counting carefully. The inner `(6 7)` has depth 1, `5 (6 7)` has depth -2, `4 (5 (6 7))` has depth -3, ..., up until"
   ]
  },
  {
   "cell_type": "code",
   "execution_count": 578,
   "metadata": {},
   "outputs": [
    {
     "data": {
      "text/html": [
       "<span style=\"white-space:pre; font-family: monospace\">¯6\n",
       "</span>"
      ]
     },
     "execution_count": 578,
     "metadata": {},
     "output_type": "execute_result"
    }
   ],
   "source": [
    "≡1 (2 (3 (4 (5 (6 7)))))"
   ]
  },
  {
   "cell_type": "markdown",
   "metadata": {},
   "source": [
    "The final example is to try and throw you off by including items that have higher ranks, but still the same depth. A simple matrix has depth 1, so a vector of simple matrices is going to have depth 2:"
   ]
  },
  {
   "cell_type": "code",
   "execution_count": 579,
   "metadata": {},
   "outputs": [
    {
     "data": {
      "text/html": [
       "<span style=\"white-space:pre; font-family: monospace\">2\n",
       "</span>"
      ]
     },
     "execution_count": 579,
     "metadata": {},
     "output_type": "execute_result"
    }
   ],
   "source": [
    "≡(2 2⍴4) (2 2⍴⍳47) (3 6⍴⍳18)"
   ]
  },
  {
   "cell_type": "markdown",
   "metadata": {},
   "source": [
    "**Exercise 21**:\n",
    "\n",
    "This task of ensuring all numbers in an array are above a minimum threshold and below a maximum threshold is sometimes called *clipping* and is easy to achieve in APL with the scalar `⌈` and `⌊` functions. We create a dummy matrix to demonstrate:"
   ]
  },
  {
   "cell_type": "code",
   "execution_count": 580,
   "metadata": {},
   "outputs": [
    {
     "data": {
      "text/html": [
       "<span style=\"white-space:pre; font-family: monospace\">24 31 25\n",
       "33 17 18\n",
       "26 28 32\n",
       "</span>"
      ]
     },
     "execution_count": 580,
     "metadata": {},
     "output_type": "execute_result"
    }
   ],
   "source": [
    "⎕RL ← 73\n",
    "⊢m ← 15+?3 3⍴20"
   ]
  },
  {
   "cell_type": "markdown",
   "metadata": {},
   "source": [
    "We want `m`'s values to be at least 20, so numbers below should become 20:"
   ]
  },
  {
   "cell_type": "code",
   "execution_count": 581,
   "metadata": {},
   "outputs": [
    {
     "data": {
      "text/html": [
       "<span style=\"white-space:pre; font-family: monospace\">24 31 25\n",
       "33 20 20\n",
       "26 28 32\n",
       "</span>"
      ]
     },
     "execution_count": 581,
     "metadata": {},
     "output_type": "execute_result"
    }
   ],
   "source": [
    "20⌈m"
   ]
  },
  {
   "cell_type": "markdown",
   "metadata": {},
   "source": [
    "Similarly for numbers above 30:"
   ]
  },
  {
   "cell_type": "code",
   "execution_count": 582,
   "metadata": {},
   "outputs": [
    {
     "data": {
      "text/html": [
       "<span style=\"white-space:pre; font-family: monospace\">24 30 25\n",
       "30 20 20\n",
       "26 28 30\n",
       "</span>"
      ]
     },
     "execution_count": 582,
     "metadata": {},
     "output_type": "execute_result"
    }
   ],
   "source": [
    "30⌊20⌈m"
   ]
  },
  {
   "cell_type": "markdown",
   "metadata": {},
   "source": [
    "**Exercise 22**:\n",
    "\n",
    "The challenge of this exercise was to spot the error *before* trying to run the expression on the interpreter and reading its error message.\n",
    "\n",
    " - `3+(5-(6+2)×4`\n",
    " \n",
    "Looking close enough, we see there is an extra `(` that never got closed, getting us a `SYNTAX ERROR`."
   ]
  },
  {
   "cell_type": "code",
   "execution_count": 583,
   "metadata": {},
   "outputs": [
    {
     "name": "stderr",
     "output_type": "stream",
     "text": [
      "SYNTAX ERROR\n",
      "      3+(5-(6+2)×4\n",
      "          ∧\n"
     ]
    }
   ],
   "source": [
    "3+(5-(6+2)×4"
   ]
  },
  {
   "cell_type": "markdown",
   "metadata": {},
   "source": [
    " - `121÷(⍳4)-3`\n",
    " \n",
    "This one won't work because there is a hidden division by 0 in there:"
   ]
  },
  {
   "cell_type": "code",
   "execution_count": 584,
   "metadata": {},
   "outputs": [
    {
     "data": {
      "text/html": [
       "<span style=\"white-space:pre; font-family: monospace\">¯2 ¯1 0 1\n",
       "</span>"
      ]
     },
     "execution_count": 584,
     "metadata": {},
     "output_type": "execute_result"
    }
   ],
   "source": [
    "(⍳4)-3"
   ]
  },
  {
   "cell_type": "code",
   "execution_count": 585,
   "metadata": {},
   "outputs": [
    {
     "name": "stderr",
     "output_type": "stream",
     "text": [
      "DOMAIN ERROR: Divide by zero\n",
      "      121÷(⍳4)-3\n",
      "         ∧\n"
     ]
    }
   ],
   "source": [
    "121÷(⍳4)-3"
   ]
  },
  {
   "cell_type": "markdown",
   "metadata": {},
   "source": [
    " - `(¯X+5)*2`\n",
    " \n",
    "The error in this expression is the usage of `¯` with a variable name. `¯` can only be used when writing out numbers. If you want to negate the value of a variable, use the *Negate* function `-`.\n",
    "\n",
    "For us to show the appropriate error, we need to define `X` to have some value."
   ]
  },
  {
   "cell_type": "code",
   "execution_count": 29,
   "metadata": {},
   "outputs": [
    {
     "name": "stderr",
     "output_type": "stream",
     "text": [
      "SYNTAX ERROR: Invalid token\n",
      "      (¯ X+5)*2\n",
      "       ∧\n"
     ]
    }
   ],
   "source": [
    "X ← 42\n",
    "(¯X+5)*2"
   ]
  },
  {
   "cell_type": "markdown",
   "metadata": {},
   "source": [
    "The \"*Invalid token*\" mentioned is the `¯` next to a variable name, when it should be next to a number literal.\n",
    "\n",
    " - `⍴4 5 6+2 3-1`\n",
    " \n",
    "The problem with this expression is that we are using scalar functions with vectors whose lengths aren't compatible. The `2 3-1` works because `-` knows how to subtract a number from a vector, but then `4 5 6+1 2` will attempt to add two vectors of incompatible lengths and fail:"
   ]
  },
  {
   "cell_type": "code",
   "execution_count": 30,
   "metadata": {},
   "outputs": [
    {
     "name": "stderr",
     "output_type": "stream",
     "text": [
      "LENGTH ERROR: Mismatched left and right argument shapes\n",
      "      ⍴4 5 6+2 3-1\n",
      "            ∧\n"
     ]
    }
   ],
   "source": [
    "⍴4 5 6+2 3-1"
   ]
  },
  {
   "cell_type": "markdown",
   "metadata": {},
   "source": [
    " - `⍳3-5`\n",
    " \n",
    "*Index Generator* expects a vector of non-negative numbers as argument and so a simple `DOMAIN ERROR` is issued:"
   ]
  },
  {
   "cell_type": "code",
   "execution_count": 588,
   "metadata": {},
   "outputs": [
    {
     "name": "stderr",
     "output_type": "stream",
     "text": [
      "DOMAIN ERROR\n",
      "      ⍳3-5\n",
      "      ∧\n"
     ]
    }
   ],
   "source": [
    "⍳3-5"
   ]
  },
  {
   "cell_type": "markdown",
   "metadata": {},
   "source": [
    " - `⍸1 0 2 ¯1`\n",
    " \n",
    "Similarly, *Where* only expects non-negative integers in its argument array, so the `¯1` is an issue there:"
   ]
  },
  {
   "cell_type": "code",
   "execution_count": 589,
   "metadata": {},
   "outputs": [
    {
     "name": "stderr",
     "output_type": "stream",
     "text": [
      "DOMAIN ERROR: Where right argument must be non-negative\n",
      "      ⍸1 0 2 ¯1\n",
      "      ∧\n"
     ]
    }
   ],
   "source": [
    "⍸1 0 2 ¯1"
   ]
  },
  {
   "cell_type": "markdown",
   "metadata": {},
   "source": [
    "**Exercise 23**:\n",
    "\n",
    "This \"vector of 17 numbers, the first being 23, with each subsequent number being equal to the preceding one plus 11\" is called an arithmetic progression in mathematics. Generating them is really easy.\n",
    "\n",
    "We start by generating a vector of consecutive numbers with the appropriate length:"
   ]
  },
  {
   "cell_type": "code",
   "execution_count": 590,
   "metadata": {},
   "outputs": [
    {
     "data": {
      "text/html": [
       "<span style=\"white-space:pre; font-family: monospace\">1 2 3 4 5 6 7 8 9 10 11 12 13 14 15 16 17\n",
       "</span>"
      ]
     },
     "execution_count": 590,
     "metadata": {},
     "output_type": "execute_result"
    }
   ],
   "source": [
    "⍳17"
   ]
  },
  {
   "cell_type": "markdown",
   "metadata": {},
   "source": [
    "Then we multiply the whole sequence by the spacing we want there to be between each number:"
   ]
  },
  {
   "cell_type": "code",
   "execution_count": 591,
   "metadata": {},
   "outputs": [
    {
     "data": {
      "text/html": [
       "<span style=\"white-space:pre; font-family: monospace\">11 22 33 44 55 66 77 88 99 110 121 132 143 154 165 176 187\n",
       "</span>"
      ]
     },
     "execution_count": 591,
     "metadata": {},
     "output_type": "execute_result"
    }
   ],
   "source": [
    "11×⍳17"
   ]
  },
  {
   "cell_type": "markdown",
   "metadata": {},
   "source": [
    "Then we add/subtract a number to the sequence so that the first element matches the required value. The first number is currently 11 and we want it to be 23, so we have to add 12:"
   ]
  },
  {
   "cell_type": "code",
   "execution_count": 592,
   "metadata": {},
   "outputs": [
    {
     "data": {
      "text/html": [
       "<span style=\"white-space:pre; font-family: monospace\">23 34 45 56 67 78 89 100 111 122 133 144 155 166 177 188 199\n",
       "</span>"
      ]
     },
     "execution_count": 592,
     "metadata": {},
     "output_type": "execute_result"
    }
   ],
   "source": [
    "12+11×⍳17"
   ]
  },
  {
   "cell_type": "markdown",
   "metadata": {},
   "source": [
    "Notice the final expression is equivalent to the algorithm presented in [the \"*Basic Usage*\" subsection about the *Index Generator*](#Basic-Usage), and working our way up to the expression is easier than trying to memorise an algorithm that ends up being longer!"
   ]
  },
  {
   "cell_type": "code",
   "execution_count": 593,
   "metadata": {},
   "outputs": [
    {
     "data": {
      "text/html": [
       "<span style=\"white-space:pre; font-family: monospace\">23 34 45 56 67 78 89 100 111 122 133 144 155 166 177 188 199\n",
       "</span>"
      ]
     },
     "execution_count": 593,
     "metadata": {},
     "output_type": "execute_result"
    }
   ],
   "source": [
    "23+11×(⍳17)-1"
   ]
  },
  {
   "cell_type": "markdown",
   "metadata": {},
   "source": [
    "**Exercise 24**:\n",
    "\n",
    "The first sensible thing to do is separate the products from the quantities. We can do this by creating a matrix with 2 columns:"
   ]
  },
  {
   "cell_type": "code",
   "execution_count": 610,
   "metadata": {},
   "outputs": [
    {
     "data": {
      "text/html": [
       "<span style=\"white-space:pre; font-family: monospace\">37  1\n",
       "70 20\n",
       "19  2\n",
       "82  5\n",
       "23 10\n",
       "</span>"
      ]
     },
     "execution_count": 610,
     "metadata": {},
     "output_type": "execute_result"
    }
   ],
   "source": [
    "wannaBuy ← 37 1 70 20 19 2 82 5 23 10\n",
    "⊢m ← ((0.5×≢wannaBuy),2)⍴wannaBuy"
   ]
  },
  {
   "cell_type": "markdown",
   "metadata": {},
   "source": [
    "Now the first column contains the codes and the second column contains the quantities. We chose 2 columns instead of 2 rows because of the way `⍴` fills in the matrix: from left to right, top to bottom.\n",
    "\n",
    "The next thing to do is map the product codes to their prices:"
   ]
  },
  {
   "cell_type": "code",
   "execution_count": 611,
   "metadata": {},
   "outputs": [],
   "source": [
    "pcodes ← 56 66 19 37 44 20 18 23 68 70 82\n",
    "prices ←  9 27 10 15 12  5  8  9 98  7 22"
   ]
  },
  {
   "cell_type": "code",
   "execution_count": 616,
   "metadata": {},
   "outputs": [
    {
     "data": {
      "text/html": [
       "<span style=\"white-space:pre; font-family: monospace\">4 10 3 11 8\n",
       "</span>"
      ]
     },
     "execution_count": 616,
     "metadata": {},
     "output_type": "execute_result"
    }
   ],
   "source": [
    "⊢pos ← pcodes⍳m[;1]"
   ]
  },
  {
   "cell_type": "markdown",
   "metadata": {},
   "source": [
    "Now that we have the positions of the products the customer wants, we can find the prices, multiply them by the quantities and sum everything:"
   ]
  },
  {
   "cell_type": "code",
   "execution_count": 617,
   "metadata": {},
   "outputs": [
    {
     "data": {
      "text/html": [
       "<span style=\"white-space:pre; font-family: monospace\">375\n",
       "</span>"
      ]
     },
     "execution_count": 617,
     "metadata": {},
     "output_type": "execute_result"
    }
   ],
   "source": [
    "+/prices[pos]×m[;2]"
   ]
  },
  {
   "cell_type": "markdown",
   "metadata": {},
   "source": [
    "**Exercise 25**:"
   ]
  },
  {
   "cell_type": "code",
   "execution_count": 623,
   "metadata": {},
   "outputs": [],
   "source": [
    "⎕RL ← 73\n",
    "tickets ← ?1000⍴999999\n",
    "sold ← tickets[(800+?200)?1000]\n",
    "ours ← sold[(?200)?≢sold]\n",
    "winners ← tickets[100?1000]\n",
    "prizes ← ?100⍴1000"
   ]
  },
  {
   "cell_type": "markdown",
   "metadata": {},
   "source": [
    "The unsold tickets are the `tickets` *Without* the ones that have been `sold`:"
   ]
  },
  {
   "cell_type": "code",
   "execution_count": 624,
   "metadata": {},
   "outputs": [
    {
     "data": {
      "text/html": [
       "<span style=\"white-space:pre; font-family: monospace\">636802 512379 327584 742744 867694 518416 837522 756393 875860 650618 734820 850511 269877 919436 540758 983293 504930 693\n",
       "\n",
       "      521 242886 704993 445662 713406 614389 483967 897435 610802 578109 768129 383069 395407 7478 420111 30447 132341 519\n",
       "\n",
       "      031 539593 295049 52849 187875 820478 641186 686560 450428 313323 281393 935843 861713 601571 508158 96073 233311 48\n",
       "\n",
       "      7348 757868 57876 971533 996215 816637 140520 378089 292169 178757 246775 246429 316212 309252 962321 73397 326613 8\n",
       "\n",
       "      63219 442574 838820 560717 872464 544884 211478 421320 670853 933120 929562 29943 872039 24194 313244 525545 974249 \n",
       "\n",
       "      391069 229590 164488 988529 891749 309984 384385 896675 903217 891047 255077 547699 378376 611404 156401 663154 1014\n",
       "\n",
       "      48 312591 50864 568638 231875 952662 701228 797311 212429 248189 521779 858987 325307 775909 781609 91337 354366 309\n",
       "\n",
       "      96 628490 407462 6628 93348 815928 61755 195544 16935 236409 889935 629654 86574 345820 734765 996468 387036 865286 \n",
       "\n",
       "      822609 253808 263675 816052 567659 493785 574772\n",
       "</span>"
      ]
     },
     "execution_count": 624,
     "metadata": {},
     "output_type": "execute_result"
    }
   ],
   "source": [
    "tickets ~ sold"
   ]
  },
  {
   "cell_type": "markdown",
   "metadata": {},
   "source": [
    "Similarly, we can find the `winners`'s tickets *Without* the ones that have been `sold`:"
   ]
  },
  {
   "cell_type": "code",
   "execution_count": 625,
   "metadata": {},
   "outputs": [
    {
     "data": {
      "text/html": [
       "<span style=\"white-space:pre; font-family: monospace\">983293 73397 140520 7478 212429 670853 628490 701228 313323 384385 574772 327584 248189 816637 971533 962321\n",
       "</span>"
      ]
     },
     "execution_count": 625,
     "metadata": {},
     "output_type": "execute_result"
    }
   ],
   "source": [
    "winners ~ sold"
   ]
  },
  {
   "cell_type": "markdown",
   "metadata": {},
   "source": [
    "So we can see some of the winning tickets were not sold.\n",
    "\n",
    "We have"
   ]
  },
  {
   "cell_type": "code",
   "execution_count": 626,
   "metadata": {},
   "outputs": [
    {
     "data": {
      "text/html": [
       "<span style=\"white-space:pre; font-family: monospace\">160\n",
       "</span>"
      ]
     },
     "execution_count": 626,
     "metadata": {},
     "output_type": "execute_result"
    }
   ],
   "source": [
    "≢ours"
   ]
  },
  {
   "cell_type": "markdown",
   "metadata": {},
   "source": [
    "tickets.\n",
    "\n",
    "Finally, to find our earnings we need to connect `ours` to the `prizes`. The easiest way to do so is by using *Compress* after finding out which `winners` are also `ours`:"
   ]
  },
  {
   "cell_type": "code",
   "execution_count": 630,
   "metadata": {},
   "outputs": [
    {
     "data": {
      "text/html": [
       "<span style=\"white-space:pre; font-family: monospace\">7043\n",
       "</span>"
      ]
     },
     "execution_count": 630,
     "metadata": {},
     "output_type": "execute_result"
    }
   ],
   "source": [
    "+/ (winners∊ours)/prizes"
   ]
  },
  {
   "cell_type": "markdown",
   "metadata": {},
   "source": [
    "Another (more convoluted) possibility would be to index into the `prizes` with the `winners` that were also `ours`. For example, finding the positions of `ours` in the `winners`:"
   ]
  },
  {
   "cell_type": "code",
   "execution_count": 631,
   "metadata": {},
   "outputs": [],
   "source": [
    "pos ← winners ⍳ ours"
   ]
  },
  {
   "cell_type": "markdown",
   "metadata": {},
   "source": [
    "Now notice we cannot index immediately into `prizes`:"
   ]
  },
  {
   "cell_type": "code",
   "execution_count": 632,
   "metadata": {},
   "outputs": [
    {
     "name": "stderr",
     "output_type": "stream",
     "text": [
      "INDEX ERROR\n",
      "      Prizes[Pos]\n",
      "            ∧\n"
     ]
    }
   ],
   "source": [
    "prizes[pos]"
   ]
  },
  {
   "cell_type": "markdown",
   "metadata": {},
   "source": [
    "This is because some of our tickets are not winners and hence their index is one too large. To circumvent this we can extend `prizes` to have a trailing 0, so that our tickets that are not winners will contribute with 0 to the final sum:"
   ]
  },
  {
   "cell_type": "code",
   "execution_count": 633,
   "metadata": {},
   "outputs": [
    {
     "data": {
      "text/html": [
       "<span style=\"white-space:pre; font-family: monospace\">7043\n",
       "</span>"
      ]
     },
     "execution_count": 633,
     "metadata": {},
     "output_type": "execute_result"
    }
   ],
   "source": [
    "prizes ← prizes, 0\n",
    "+/ prizes[pos]"
   ]
  },
  {
   "cell_type": "markdown",
   "metadata": {},
   "source": [
    "**Exercise 26**:\n",
    "\n",
    "Computing divisors of a number `n` amounts to finding the numbers `m` for which `m|n` is 0. First we compute the vector of all candidates:"
   ]
  },
  {
   "cell_type": "code",
   "execution_count": 635,
   "metadata": {},
   "outputs": [
    {
     "data": {
      "text/html": [
       "<span style=\"white-space:pre; font-family: monospace\">1 2 3 4 5 6 7 8 9 10 11 12 13 14 15 16 17 18 19 20 21 22 23 24 25\n",
       "</span>"
      ]
     },
     "execution_count": 635,
     "metadata": {},
     "output_type": "execute_result"
    }
   ],
   "source": [
    "n ← 24\n",
    "⊢m ← ⍳n"
   ]
  },
  {
   "cell_type": "markdown",
   "metadata": {},
   "source": [
    "Now we compute the residues with, you guessed it, *Residue*:"
   ]
  },
  {
   "cell_type": "code",
   "execution_count": 638,
   "metadata": {},
   "outputs": [
    {
     "data": {
      "text/html": [
       "<span style=\"white-space:pre; font-family: monospace\">0 0 0 0 4 0 3 0 6 4 2 0 11 10 9 8 7 6 5 4 3 2 1 0 24\n",
       "</span>"
      ]
     },
     "execution_count": 638,
     "metadata": {},
     "output_type": "execute_result"
    }
   ],
   "source": [
    "⊢r ← m|n"
   ]
  },
  {
   "cell_type": "markdown",
   "metadata": {},
   "source": [
    "From these, we want the 0s because those represent numbers in `m` that divide evenly into `m`. Then we can use `⍸` to convert them back to the original integers:"
   ]
  },
  {
   "cell_type": "code",
   "execution_count": 639,
   "metadata": {},
   "outputs": [
    {
     "data": {
      "text/html": [
       "<span style=\"white-space:pre; font-family: monospace\">1 2 3 4 6 8 12 24\n",
       "</span>"
      ]
     },
     "execution_count": 639,
     "metadata": {},
     "output_type": "execute_result"
    }
   ],
   "source": [
    "⍸0=r"
   ]
  },
  {
   "cell_type": "code",
   "execution_count": null,
   "metadata": {},
   "outputs": [],
   "source": []
  }
 ],
 "metadata": {
  "kernelspec": {
   "display_name": "Dyalog APL",
   "language": "apl",
   "name": "dyalog-kernel"
  },
  "language_info": {
   "file_extension": ".apl",
   "mimetype": "text/apl",
   "name": "APL"
  },
  "toc": {
   "base_numbering": 1,
   "nav_menu": {
    "height": "313px",
    "width": "240px"
   },
   "number_sections": false,
   "sideBar": true,
   "skip_h1_title": true,
   "title_cell": "Table of Contents",
   "title_sidebar": "Contents",
   "toc_cell": false,
   "toc_position": {
    "height": "calc(100% - 180px)",
    "left": "10px",
    "top": "150px",
    "width": "352px"
   },
   "toc_section_display": true,
   "toc_window_display": false
  }
 },
 "nbformat": 4,
 "nbformat_minor": 4
}
